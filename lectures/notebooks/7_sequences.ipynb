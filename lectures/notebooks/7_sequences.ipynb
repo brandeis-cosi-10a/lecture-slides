{
 "cells": [
  {
   "cell_type": "markdown",
   "id": "1ee8a1d2",
   "metadata": {
    "slideshow": {
     "slide_type": "slide"
    }
   },
   "source": [
    "# Sequences\n",
    "\n",
    "<style>\n",
    "section.present > section.present { \n",
    "    max-height: 90%; \n",
    "    overflow-y: scroll;\n",
    "}\n",
    "</style>\n",
    "\n",
    "<small><a href=\"https://colab.research.google.com/github/brandeis-jdelfino/cosi-10a/blob/main/lectures/notebooks/7_sequences.ipynb\">Link to interactive slides on Google Colab</a></small>"
   ]
  },
  {
   "cell_type": "markdown",
   "id": "61f0aac4",
   "metadata": {
    "slideshow": {
     "slide_type": "slide"
    }
   },
   "source": [
    "# Sequence types\n",
    "\n",
    "We've looked at a few **sequence types** already - can you guess which types are sequence types?"
   ]
  },
  {
   "cell_type": "markdown",
   "id": "305139c4",
   "metadata": {
    "slideshow": {
     "slide_type": "fragment"
    }
   },
   "source": [
    "* **Sequence types** are data types that represent sequences of things. \n",
    "  * `str` - sequence of characters\n",
    "  * `list` - sequence of values\n",
    "  * `range` - (as in: `for i in range(5)`!) generated sequence of integers \n",
    "  * `tuple` - coming soon, similar to `list`\n",
    "  \n",
    "Today, we'll learn about tuples, some common operations that work on some/all sequence types, and more about strings."
   ]
  },
  {
   "cell_type": "markdown",
   "id": "421d62e1",
   "metadata": {
    "slideshow": {
     "slide_type": "slide"
    }
   },
   "source": [
    "# Tuples\n",
    "\n",
    "Tuples are a sequence type. They are almost the same as lists, with a few small differences:\n",
    "* Tuples are created and represented with parentheses `(` `)` instead of brackets `[` `]`\n",
    "* Tuples are **immutable**. This means they can't change after creation."
   ]
  },
  {
   "cell_type": "code",
   "execution_count": null,
   "id": "735ef902",
   "metadata": {
    "execution": {
     "iopub.execute_input": "2023-10-05T18:47:56.782862Z",
     "iopub.status.busy": "2023-10-05T18:47:56.782410Z",
     "iopub.status.idle": "2023-10-05T18:47:56.798696Z",
     "shell.execute_reply": "2023-10-05T18:47:56.797790Z"
    }
   },
   "outputs": [],
   "source": [
    "i_am_a_tuple = (1,2,3)\n",
    "print(i_am_a_tuple)"
   ]
  },
  {
   "cell_type": "code",
   "execution_count": null,
   "id": "1a2c6bc3",
   "metadata": {
    "execution": {
     "iopub.execute_input": "2023-10-05T18:47:56.803156Z",
     "iopub.status.busy": "2023-10-05T18:47:56.802809Z",
     "iopub.status.idle": "2023-10-05T18:47:56.806697Z",
     "shell.execute_reply": "2023-10-05T18:47:56.806014Z"
    }
   },
   "outputs": [],
   "source": [
    "im_also_a_tuple = (7,)\n",
    "print(im_also_a_tuple)"
   ]
  },
  {
   "cell_type": "code",
   "execution_count": null,
   "id": "52af45ed",
   "metadata": {
    "execution": {
     "iopub.execute_input": "2023-10-05T18:47:56.810389Z",
     "iopub.status.busy": "2023-10-05T18:47:56.810084Z",
     "iopub.status.idle": "2023-10-05T18:47:56.814160Z",
     "shell.execute_reply": "2023-10-05T18:47:56.813381Z"
    }
   },
   "outputs": [],
   "source": [
    "# You don't strictly need the parentheses, although it's often more clear to include them\n",
    "hey_wait = 7,2\n",
    "print(hey_wait)"
   ]
  },
  {
   "cell_type": "markdown",
   "id": "ac83c885",
   "metadata": {
    "slideshow": {
     "slide_type": "subslide"
    }
   },
   "source": [
    "Tuples are **immutable**. This means they can't change after creation.\n",
    "\n",
    "You can't add, remove, or change the items a tuple contains."
   ]
  },
  {
   "cell_type": "code",
   "execution_count": null,
   "id": "7aabe9ea",
   "metadata": {
    "execution": {
     "iopub.execute_input": "2023-10-05T18:47:56.817999Z",
     "iopub.status.busy": "2023-10-05T18:47:56.817708Z",
     "iopub.status.idle": "2023-10-05T18:47:57.109572Z",
     "shell.execute_reply": "2023-10-05T18:47:57.108690Z"
    },
    "tags": [
     "raises-exception"
    ]
   },
   "outputs": [],
   "source": [
    "flavors = (\"chocolate\", \"vanilla\", \"strawberry\")\n",
    "flavors[1] = \"coffee\""
   ]
  },
  {
   "cell_type": "markdown",
   "id": "021042e9",
   "metadata": {
    "slideshow": {
     "slide_type": "subslide"
    }
   },
   "source": [
    "You can convert back and forth between lists and tuples, similar to converting between `int`, `float`, and `str`:"
   ]
  },
  {
   "cell_type": "code",
   "execution_count": null,
   "id": "d10b9b4b",
   "metadata": {
    "execution": {
     "iopub.execute_input": "2023-10-05T18:47:57.113824Z",
     "iopub.status.busy": "2023-10-05T18:47:57.113093Z",
     "iopub.status.idle": "2023-10-05T18:47:57.118044Z",
     "shell.execute_reply": "2023-10-05T18:47:57.117103Z"
    }
   },
   "outputs": [],
   "source": [
    "flavors = (\"chocolate\", \"vanilla\", \"strawberry\")\n",
    "print(flavors)\n"
   ]
  },
  {
   "cell_type": "code",
   "execution_count": null,
   "id": "9b5e5b14",
   "metadata": {
    "execution": {
     "iopub.execute_input": "2023-10-05T18:47:57.122086Z",
     "iopub.status.busy": "2023-10-05T18:47:57.121474Z",
     "iopub.status.idle": "2023-10-05T18:47:57.125952Z",
     "shell.execute_reply": "2023-10-05T18:47:57.125162Z"
    }
   },
   "outputs": [],
   "source": [
    "new_flavors = list(flavors)\n",
    "new_flavors[1] = \"coffee\"\n",
    "print(new_flavors)"
   ]
  },
  {
   "cell_type": "code",
   "execution_count": null,
   "id": "0f52cfa1",
   "metadata": {
    "execution": {
     "iopub.execute_input": "2023-10-05T18:47:57.129720Z",
     "iopub.status.busy": "2023-10-05T18:47:57.129449Z",
     "iopub.status.idle": "2023-10-05T18:47:57.132820Z",
     "shell.execute_reply": "2023-10-05T18:47:57.132213Z"
    }
   },
   "outputs": [],
   "source": [
    "flavors = tuple(new_flavors)\n",
    "print(flavors)"
   ]
  },
  {
   "cell_type": "markdown",
   "id": "c7dc4477",
   "metadata": {
    "slideshow": {
     "slide_type": "subslide"
    }
   },
   "source": [
    "## Returning multiple values with tuples\n",
    "\n",
    "A common use for tuples is to easily return multiple values from a function.\n",
    "\n",
    "Here's a function that takes in a list of strings, and returns a 2-tuple containing the longest name, and the length of the longest name:"
   ]
  },
  {
   "cell_type": "code",
   "execution_count": null,
   "id": "0abb937d",
   "metadata": {
    "execution": {
     "iopub.execute_input": "2023-10-05T18:47:57.136171Z",
     "iopub.status.busy": "2023-10-05T18:47:57.135905Z",
     "iopub.status.idle": "2023-10-05T18:47:57.139398Z",
     "shell.execute_reply": "2023-10-05T18:47:57.138786Z"
    }
   },
   "outputs": [],
   "source": [
    "def longest_name(names):\n",
    "    max_name = \"\"\n",
    "    for name in names:\n",
    "        if len(name) > len(max_name):\n",
    "            max_name = name\n",
    "    return max_name, len(max_name)"
   ]
  },
  {
   "cell_type": "code",
   "execution_count": null,
   "id": "01ba92ad",
   "metadata": {
    "execution": {
     "iopub.execute_input": "2023-10-05T18:47:57.142368Z",
     "iopub.status.busy": "2023-10-05T18:47:57.142115Z",
     "iopub.status.idle": "2023-10-05T18:47:57.148284Z",
     "shell.execute_reply": "2023-10-05T18:47:57.147677Z"
    }
   },
   "outputs": [],
   "source": [
    "longest_name([\"Bill Murray\", \"Spongebob\", \"Batman\"])"
   ]
  },
  {
   "cell_type": "markdown",
   "id": "c084a21d",
   "metadata": {
    "slideshow": {
     "slide_type": "subslide"
    }
   },
   "source": [
    "## Another example of multiple return values\n",
    "\n",
    "From last lecture:"
   ]
  },
  {
   "cell_type": "code",
   "execution_count": null,
   "id": "600f4374",
   "metadata": {
    "execution": {
     "iopub.execute_input": "2023-10-05T18:47:57.151422Z",
     "iopub.status.busy": "2023-10-05T18:47:57.151162Z",
     "iopub.status.idle": "2023-10-05T18:47:57.154601Z",
     "shell.execute_reply": "2023-10-05T18:47:57.154017Z"
    }
   },
   "outputs": [],
   "source": [
    "def find_average(nums):\n",
    "    sum = 0\n",
    "    for num in nums:\n",
    "        sum = sum + num\n",
    "    avg = sum / len(nums)\n",
    "    return avg"
   ]
  },
  {
   "cell_type": "code",
   "execution_count": null,
   "id": "b80d4fef",
   "metadata": {
    "execution": {
     "iopub.execute_input": "2023-10-05T18:47:57.157564Z",
     "iopub.status.busy": "2023-10-05T18:47:57.157305Z",
     "iopub.status.idle": "2023-10-05T18:47:57.161018Z",
     "shell.execute_reply": "2023-10-05T18:47:57.160393Z"
    }
   },
   "outputs": [],
   "source": [
    "def below_average(nums):\n",
    "    avg = find_average(nums)\n",
    "    \n",
    "    print(\"The average is: \" + str(avg) + \". Here are all the below average numbers: \")\n",
    "    for num in nums:\n",
    "        if num < avg:\n",
    "            print(num, end=' ')"
   ]
  },
  {
   "cell_type": "markdown",
   "id": "ffb10d1c",
   "metadata": {},
   "source": [
    "Let's modify `below_average` to return 2 things: the average, and a list of things below the average."
   ]
  },
  {
   "cell_type": "code",
   "execution_count": null,
   "id": "9d19e074",
   "metadata": {
    "execution": {
     "iopub.execute_input": "2023-10-05T18:47:57.164204Z",
     "iopub.status.busy": "2023-10-05T18:47:57.163943Z",
     "iopub.status.idle": "2023-10-05T18:47:57.168080Z",
     "shell.execute_reply": "2023-10-05T18:47:57.167268Z"
    },
    "slideshow": {
     "slide_type": "subslide"
    }
   },
   "outputs": [],
   "source": [
    "def below_average(nums):\n",
    "    avg = find_average(nums)\n",
    "    \n",
    "    belows = []\n",
    "    for num in nums:\n",
    "        if num < avg:\n",
    "            belows.append(num)\n",
    "    return (avg, belows)"
   ]
  },
  {
   "cell_type": "code",
   "execution_count": null,
   "id": "c9b6e72d",
   "metadata": {
    "execution": {
     "iopub.execute_input": "2023-10-05T18:47:57.171535Z",
     "iopub.status.busy": "2023-10-05T18:47:57.171081Z",
     "iopub.status.idle": "2023-10-05T18:47:57.174886Z",
     "shell.execute_reply": "2023-10-05T18:47:57.174276Z"
    }
   },
   "outputs": [],
   "source": [
    "answers = below_average([1, 10000, 2, 7, 11000])\n",
    "print(\"The average is: \" + str(answers[0]) + \" and the below average numbers are: \" + str(answers[1])) "
   ]
  },
  {
   "cell_type": "markdown",
   "id": "61ba394f",
   "metadata": {
    "slideshow": {
     "slide_type": "subslide"
    }
   },
   "source": [
    "## Side note: Value unpacking\n",
    "\n",
    "That last example was kind of awkward - we assigned to `answers`, then had to access each part of it by an index. We can use something called \"value unpacking\" to improve this. \n",
    "\n",
    "**Value unpacking** allows you to assign multiple values to multiple variables at once. "
   ]
  },
  {
   "cell_type": "code",
   "execution_count": null,
   "id": "971a849c",
   "metadata": {
    "execution": {
     "iopub.execute_input": "2023-10-05T18:47:57.177948Z",
     "iopub.status.busy": "2023-10-05T18:47:57.177684Z",
     "iopub.status.idle": "2023-10-05T18:47:57.181432Z",
     "shell.execute_reply": "2023-10-05T18:47:57.180814Z"
    }
   },
   "outputs": [],
   "source": [
    "# without value unpacking\n",
    "answers = below_average([1, 10000, 2, 7, 11000])\n",
    "print(\"The average is: \" + str(answers[0]) + \" and the below average numbers are: \" + str(answers[1]))"
   ]
  },
  {
   "cell_type": "code",
   "execution_count": null,
   "id": "7c85d836",
   "metadata": {
    "execution": {
     "iopub.execute_input": "2023-10-05T18:47:57.184539Z",
     "iopub.status.busy": "2023-10-05T18:47:57.184184Z",
     "iopub.status.idle": "2023-10-05T18:47:57.188046Z",
     "shell.execute_reply": "2023-10-05T18:47:57.187424Z"
    },
    "slideshow": {
     "slide_type": "-"
    }
   },
   "outputs": [],
   "source": [
    "# with value unpacking\n",
    "avg, below_avg_nums = below_average([1, 10000, 2, 7, 11000])\n",
    "print(\"The average is: \" + str(avg) + \" and the below average numbers are: \" + str(below_avg_nums))"
   ]
  },
  {
   "cell_type": "markdown",
   "id": "61bb89d3",
   "metadata": {
    "slideshow": {
     "slide_type": "subslide"
    }
   },
   "source": [
    "Value unpacking works with any sequence type"
   ]
  },
  {
   "cell_type": "code",
   "execution_count": null,
   "id": "e020b2f6",
   "metadata": {
    "execution": {
     "iopub.execute_input": "2023-10-05T18:47:57.191125Z",
     "iopub.status.busy": "2023-10-05T18:47:57.190863Z",
     "iopub.status.idle": "2023-10-05T18:47:57.194311Z",
     "shell.execute_reply": "2023-10-05T18:47:57.193724Z"
    }
   },
   "outputs": [],
   "source": [
    "names = [\"Larry\", \"Moe\", \"Curly\"]\n",
    "stooge1, stooge2, stooge3 = names\n",
    "print(\"Stooge 1: \" + stooge1 + \", stooge 2: \" + stooge2 + \", stooge 3: \" + stooge3)"
   ]
  },
  {
   "cell_type": "code",
   "execution_count": null,
   "id": "13dece82",
   "metadata": {
    "execution": {
     "iopub.execute_input": "2023-10-05T18:47:57.197522Z",
     "iopub.status.busy": "2023-10-05T18:47:57.197269Z",
     "iopub.status.idle": "2023-10-05T18:47:57.200626Z",
     "shell.execute_reply": "2023-10-05T18:47:57.200068Z"
    }
   },
   "outputs": [],
   "source": [
    "a, b, c = \"xyz\"\n",
    "print(\"a: \" + a + \"; b: \" + b + \"; c: \" + c)"
   ]
  },
  {
   "cell_type": "markdown",
   "id": "4d870d3a",
   "metadata": {
    "slideshow": {
     "slide_type": "subslide"
    }
   },
   "source": [
    "The assignment will raise an error if the number of variables on the left doesn't match the length of the sequence being unpacked."
   ]
  },
  {
   "cell_type": "code",
   "execution_count": null,
   "id": "476bb441",
   "metadata": {
    "execution": {
     "iopub.execute_input": "2023-10-05T18:47:57.203604Z",
     "iopub.status.busy": "2023-10-05T18:47:57.203360Z",
     "iopub.status.idle": "2023-10-05T18:47:57.217337Z",
     "shell.execute_reply": "2023-10-05T18:47:57.216717Z"
    },
    "slideshow": {
     "slide_type": "-"
    },
    "tags": [
     "raises-exception"
    ]
   },
   "outputs": [],
   "source": [
    "a, b, c = (1, 2)"
   ]
  },
  {
   "cell_type": "code",
   "execution_count": null,
   "id": "c54413d7",
   "metadata": {
    "execution": {
     "iopub.execute_input": "2023-10-05T18:47:57.220454Z",
     "iopub.status.busy": "2023-10-05T18:47:57.220160Z",
     "iopub.status.idle": "2023-10-05T18:47:57.235453Z",
     "shell.execute_reply": "2023-10-05T18:47:57.234592Z"
    },
    "tags": [
     "raises-exception"
    ]
   },
   "outputs": [],
   "source": [
    "a, b = (1, 2, 3)"
   ]
  },
  {
   "cell_type": "markdown",
   "id": "2ba44185",
   "metadata": {
    "slideshow": {
     "slide_type": "subslide"
    }
   },
   "source": [
    "# `range` revisited\n",
    "\n",
    "`range` is actually a sequence type that generates integers:"
   ]
  },
  {
   "cell_type": "code",
   "execution_count": null,
   "id": "3745e865",
   "metadata": {
    "execution": {
     "iopub.execute_input": "2023-10-05T18:47:57.239009Z",
     "iopub.status.busy": "2023-10-05T18:47:57.238737Z",
     "iopub.status.idle": "2023-10-05T18:47:57.243032Z",
     "shell.execute_reply": "2023-10-05T18:47:57.242458Z"
    }
   },
   "outputs": [],
   "source": [
    "range(5)"
   ]
  },
  {
   "cell_type": "code",
   "execution_count": null,
   "id": "0d659e7d",
   "metadata": {
    "execution": {
     "iopub.execute_input": "2023-10-05T18:47:57.246038Z",
     "iopub.status.busy": "2023-10-05T18:47:57.245783Z",
     "iopub.status.idle": "2023-10-05T18:47:57.250197Z",
     "shell.execute_reply": "2023-10-05T18:47:57.249571Z"
    }
   },
   "outputs": [],
   "source": [
    "list(range(5))"
   ]
  },
  {
   "cell_type": "markdown",
   "id": "6456f531",
   "metadata": {},
   "source": [
    "Note the difference! `range` is **not** a `list`! It is a sequence though."
   ]
  },
  {
   "cell_type": "code",
   "execution_count": null,
   "id": "c7376843",
   "metadata": {
    "execution": {
     "iopub.execute_input": "2023-10-05T18:47:57.253217Z",
     "iopub.status.busy": "2023-10-05T18:47:57.252965Z",
     "iopub.status.idle": "2023-10-05T18:47:57.256407Z",
     "shell.execute_reply": "2023-10-05T18:47:57.255789Z"
    },
    "slideshow": {
     "slide_type": "subslide"
    }
   },
   "outputs": [],
   "source": [
    "for i in range(5):\n",
    "    print(i)"
   ]
  },
  {
   "cell_type": "markdown",
   "id": "c5c9c82f",
   "metadata": {},
   "source": [
    "behaves the same as:"
   ]
  },
  {
   "cell_type": "code",
   "execution_count": null,
   "id": "68330b5b",
   "metadata": {
    "execution": {
     "iopub.execute_input": "2023-10-05T18:47:57.259266Z",
     "iopub.status.busy": "2023-10-05T18:47:57.259012Z",
     "iopub.status.idle": "2023-10-05T18:47:57.262273Z",
     "shell.execute_reply": "2023-10-05T18:47:57.261693Z"
    }
   },
   "outputs": [],
   "source": [
    "for i in [0,1,2,3,4]:\n",
    "    print(i)"
   ]
  },
  {
   "cell_type": "markdown",
   "id": "8a74db96",
   "metadata": {
    "slideshow": {
     "slide_type": "slide"
    }
   },
   "source": [
    "# `for` revisited\n",
    "\n",
    "It turns out that `for i in range(...):` is actually just a special case of the general `for` loop form:\n",
    "\n",
    "```\n",
    "for <var> in <sequence>:\n",
    "   statement(s)\n",
    "```\n",
    "\n",
    "A `for` loop can iterate over any **sequence**. It executes the code block once for each item in the sequence. \n",
    "\n",
    "This means you can use `for` loops on strings, lists, tuples, and ranges.\n"
   ]
  },
  {
   "cell_type": "code",
   "execution_count": null,
   "id": "986c5886",
   "metadata": {
    "execution": {
     "iopub.execute_input": "2023-10-05T18:47:57.265155Z",
     "iopub.status.busy": "2023-10-05T18:47:57.264901Z",
     "iopub.status.idle": "2023-10-05T18:47:57.270573Z",
     "shell.execute_reply": "2023-10-05T18:47:57.267656Z"
    },
    "slideshow": {
     "slide_type": "subslide"
    }
   },
   "outputs": [],
   "source": [
    "for c in \"Hello, world!\":\n",
    "    print(c)"
   ]
  },
  {
   "cell_type": "markdown",
   "id": "f63edc4d",
   "metadata": {
    "slideshow": {
     "slide_type": "slide"
    }
   },
   "source": [
    "# Iterables\n",
    "\n",
    "An **iterable** object is an object capable of returning its members one at a time. \n",
    "\n",
    "All sequence types are **iterables**. Other types can be iterable too. \n",
    "\n",
    "An **iterator** is an object you use to iterate over an **iterable**.\n",
    "\n",
    "Some examples of non-sequence iterables:\n",
    "* Dictionaries (a data type we'll see in a few lectures)\n",
    "* Reading a file line-by-line\n",
    "* A \"generator\" - an iterator that generates a sequence on-demand, as each item is requested."
   ]
  },
  {
   "cell_type": "markdown",
   "id": "548058cc",
   "metadata": {
    "slideshow": {
     "slide_type": "subslide"
    }
   },
   "source": [
    "The details of iterables and iterators are beyond the scope of this class. The important things to know for now are:\n",
    "* **Iterables** are objects that can return their members one at a time\n",
    "* All iterables can be iterated over in a `for` loop.\n",
    "\n",
    "If you want to learn about this topic, this is a decent introductory resource: [Towards Data Science](https://towardsdatascience.com/python-basics-iteration-and-looping-6ca63b30835c). "
   ]
  },
  {
   "cell_type": "markdown",
   "id": "cf56a774",
   "metadata": {
    "slideshow": {
     "slide_type": "subslide"
    }
   },
   "source": [
    "# `for` revisited, again\n",
    "\n",
    "Last time, I promise. \n",
    "\n",
    "```\n",
    "for <var> in <iterable>:\n",
    "   statement(s)\n",
    "```\n",
    "\n",
    "`for` loops can loop over anything that is an **iterable**. This capture more than just **sequences**."
   ]
  },
  {
   "cell_type": "markdown",
   "id": "e89972fe",
   "metadata": {
    "slideshow": {
     "slide_type": "slide"
    }
   },
   "source": [
    "# Common sequence operations\n",
    "\n",
    "These work on all sequence types! We've seen some of these before on strings or lists. They also work on tuples (and even ranges).\n",
    "\n",
    "| Operation | Description | Example | Result |\n",
    "| --- | :--- | --- | :--- |\n",
    "| `x in s` | True if an item of s is equal to x | `\"hi\" in [\"hello\", \"hi\", \"yo\"]` | True |\n",
    "| `x not in s` | Opposite of `in` | `\"hi\" not in [\"hello\", \"hi\", \"yo\"]` | False |\n",
    "| `s + t` | Concatenate (combine end-to-end) | `[1,2,3] + [4,5]` | `[1,2,3,4,5]` |\n",
    "| `s * n` | Replicate | `\"abc\" * 3` | `\"abcabcabc\"` |\n",
    "| `s[i]` | *i*th item of `s` | `\"hello\"[1]` | `\"e\"` |\n",
    "| `s[i:j]` | slice of `s` from `i` to `j` | `\"hello\"[1:3]` | `\"ell\"` |\n",
    "| `len(s)` | length of `s` | `len(\"hello\")` | `5` |\n",
    "| `min(s)` | The smallest item of `s` | `min([4, 8, 7, 3])` | `3` |\n",
    "| `max(s)` | The largest item of `s` | `max([4, 8, 7, 3])` | `8` |\n",
    "| `s.index(x)` | index of the first occurrence of `x` in `s` | `[4, 8, 7, 3].index(7)` | `2` |\n",
    "| `s.count(x)` | total number of occurrences of `x` in `s` | `\"hello\".count(\"l\")` | `2` |"
   ]
  },
  {
   "cell_type": "markdown",
   "id": "5d5d6aa9",
   "metadata": {
    "slideshow": {
     "slide_type": "slide"
    }
   },
   "source": [
    "# Exercise\n",
    "\n",
    "Write a program that prompts the user for 5 integers, then prints out:\n",
    "1. The largest integer they entered\n",
    "2. The smallest integer they entered\n",
    "3. Whether `42` is in the list of integers they entered\n",
    "4. How many times they repeated the first integer they entered\n",
    "  * e.g. if they entered: 4, 3, 4, 4, 1, then the answer would be 3, because they entered the number 4 three times.\n",
    "  \n",
    "Hint: Use a list to store the integers, then use the sequence operations for each task.\n",
    "  \n",
    "## [Repl.it: Sequences Playground](https://replit.com/team/cosi-10a-fall23/Sequence-playground)"
   ]
  },
  {
   "cell_type": "markdown",
   "id": "52731dc7",
   "metadata": {
    "slideshow": {
     "slide_type": "slide"
    }
   },
   "source": [
    "# More on Strings\n",
    "\n",
    "In addition to the common sequence operations, strings provide many other helpful methods.\n",
    "\n",
    "The full list can be found in the [official documentation on strings](https://docs.python.org/3/library/stdtypes.html#string-methods). \n",
    "\n",
    "We'll look through a few notable ones now."
   ]
  },
  {
   "cell_type": "markdown",
   "id": "c9e22759",
   "metadata": {
    "slideshow": {
     "slide_type": "subslide"
    }
   },
   "source": [
    "## split\n",
    "\n",
    "`s.split(<delim>)` splits a string into a list. By default it splits at any whitespace, or you can tell it which character(s) to split at:"
   ]
  },
  {
   "cell_type": "code",
   "execution_count": null,
   "id": "dca84053",
   "metadata": {
    "execution": {
     "iopub.execute_input": "2023-10-05T18:47:57.274886Z",
     "iopub.status.busy": "2023-10-05T18:47:57.274608Z",
     "iopub.status.idle": "2023-10-05T18:47:57.278962Z",
     "shell.execute_reply": "2023-10-05T18:47:57.278363Z"
    }
   },
   "outputs": [],
   "source": [
    "sentence = \"This is a sentence with lots of words\"\n",
    "sentence.split()"
   ]
  },
  {
   "cell_type": "code",
   "execution_count": null,
   "id": "243aa8e6",
   "metadata": {
    "execution": {
     "iopub.execute_input": "2023-10-05T18:47:57.281996Z",
     "iopub.status.busy": "2023-10-05T18:47:57.281733Z",
     "iopub.status.idle": "2023-10-05T18:47:57.285828Z",
     "shell.execute_reply": "2023-10-05T18:47:57.285316Z"
    }
   },
   "outputs": [],
   "source": [
    "sentence = \"This,is a sentence,with,lots of words\"\n",
    "sentence.split(\",\")"
   ]
  },
  {
   "cell_type": "markdown",
   "id": "0ecd3c75",
   "metadata": {
    "slideshow": {
     "slide_type": "subslide"
    }
   },
   "source": [
    "## join\n",
    "\n",
    "`s.join(<sequence of strings>)` joins a sequence of strings together into a single string, with `s` between each string."
   ]
  },
  {
   "cell_type": "code",
   "execution_count": null,
   "id": "19b24398",
   "metadata": {
    "execution": {
     "iopub.execute_input": "2023-10-05T18:47:57.288805Z",
     "iopub.status.busy": "2023-10-05T18:47:57.288554Z",
     "iopub.status.idle": "2023-10-05T18:47:57.292699Z",
     "shell.execute_reply": "2023-10-05T18:47:57.292195Z"
    }
   },
   "outputs": [],
   "source": [
    "' '.join([\"some\", \"words\", \"to\", \"stitch\", \"together\"])"
   ]
  },
  {
   "cell_type": "code",
   "execution_count": null,
   "id": "09b7f80b",
   "metadata": {
    "execution": {
     "iopub.execute_input": "2023-10-05T18:47:57.295543Z",
     "iopub.status.busy": "2023-10-05T18:47:57.295303Z",
     "iopub.status.idle": "2023-10-05T18:47:57.299493Z",
     "shell.execute_reply": "2023-10-05T18:47:57.298928Z"
    }
   },
   "outputs": [],
   "source": [
    "'%T%'.join([\"some\", \"words\", \"to\", \"stitch\", \"together\"])"
   ]
  },
  {
   "cell_type": "markdown",
   "id": "e14be3ca",
   "metadata": {
    "slideshow": {
     "slide_type": "subslide"
    }
   },
   "source": [
    "## isdigit\n",
    "\n",
    "`s.isdigit()` returns `True` if all characters in the string are digits and there is at least one character, `False` otherwise."
   ]
  },
  {
   "cell_type": "code",
   "execution_count": null,
   "id": "5a165a55",
   "metadata": {
    "execution": {
     "iopub.execute_input": "2023-10-05T18:47:57.302597Z",
     "iopub.status.busy": "2023-10-05T18:47:57.302323Z",
     "iopub.status.idle": "2023-10-05T18:47:57.306339Z",
     "shell.execute_reply": "2023-10-05T18:47:57.305814Z"
    }
   },
   "outputs": [],
   "source": [
    "'12345678'.isdigit()"
   ]
  },
  {
   "cell_type": "code",
   "execution_count": null,
   "id": "1a389911",
   "metadata": {
    "execution": {
     "iopub.execute_input": "2023-10-05T18:47:57.309141Z",
     "iopub.status.busy": "2023-10-05T18:47:57.308898Z",
     "iopub.status.idle": "2023-10-05T18:47:57.312848Z",
     "shell.execute_reply": "2023-10-05T18:47:57.312274Z"
    }
   },
   "outputs": [],
   "source": [
    "'123abc'.isdigit()"
   ]
  },
  {
   "cell_type": "markdown",
   "id": "61ed7209",
   "metadata": {
    "slideshow": {
     "slide_type": "subslide"
    }
   },
   "source": [
    "## Changing case\n",
    "\n",
    "`s.upper()` and `s.lower()` convert strings to upper and lower case"
   ]
  },
  {
   "cell_type": "code",
   "execution_count": null,
   "id": "1589ff4d",
   "metadata": {
    "execution": {
     "iopub.execute_input": "2023-10-05T18:47:57.315867Z",
     "iopub.status.busy": "2023-10-05T18:47:57.315457Z",
     "iopub.status.idle": "2023-10-05T18:47:57.319234Z",
     "shell.execute_reply": "2023-10-05T18:47:57.318672Z"
    }
   },
   "outputs": [],
   "source": [
    "'SpongeBob SquarePants'.upper()"
   ]
  },
  {
   "cell_type": "code",
   "execution_count": null,
   "id": "611b5025",
   "metadata": {
    "execution": {
     "iopub.execute_input": "2023-10-05T18:47:57.322095Z",
     "iopub.status.busy": "2023-10-05T18:47:57.321847Z",
     "iopub.status.idle": "2023-10-05T18:47:57.325887Z",
     "shell.execute_reply": "2023-10-05T18:47:57.325260Z"
    }
   },
   "outputs": [],
   "source": [
    "'SpongeBob SquarePants'.lower()"
   ]
  },
  {
   "cell_type": "markdown",
   "id": "03e4feaf",
   "metadata": {
    "slideshow": {
     "slide_type": "subslide"
    }
   },
   "source": [
    "## startswith / endswith\n",
    "\n",
    "`s.startswith(<search string>)` and `s.endswith(<search string>)`: return True if a string starts/ends with a substring"
   ]
  },
  {
   "cell_type": "code",
   "execution_count": null,
   "id": "8967302d",
   "metadata": {
    "execution": {
     "iopub.execute_input": "2023-10-05T18:47:57.328773Z",
     "iopub.status.busy": "2023-10-05T18:47:57.328535Z",
     "iopub.status.idle": "2023-10-05T18:47:57.332624Z",
     "shell.execute_reply": "2023-10-05T18:47:57.332048Z"
    }
   },
   "outputs": [],
   "source": [
    "'SpongeBob SquarePants'.startswith(\"Sponge\")"
   ]
  },
  {
   "cell_type": "code",
   "execution_count": null,
   "id": "1d0f9a1c",
   "metadata": {
    "execution": {
     "iopub.execute_input": "2023-10-05T18:47:57.335480Z",
     "iopub.status.busy": "2023-10-05T18:47:57.335222Z",
     "iopub.status.idle": "2023-10-05T18:47:57.339537Z",
     "shell.execute_reply": "2023-10-05T18:47:57.338954Z"
    }
   },
   "outputs": [],
   "source": [
    "# case matters!\n",
    "'SpongeBob SquarePants'.endswith(\"pants\")"
   ]
  },
  {
   "cell_type": "markdown",
   "id": "132f9706",
   "metadata": {
    "slideshow": {
     "slide_type": "slide"
    }
   },
   "source": [
    "# String formatting\n",
    "\n",
    "Let's look at [**f-strings**](https://docs.python.org/3/tutorial/inputoutput.html#formatted-string-literals), a more flexible, usable way to format strings for output.\n",
    "\n",
    "Adding an `f` before a string lets you you include the value of Python expressions inside a string. Here's an example:"
   ]
  },
  {
   "cell_type": "code",
   "execution_count": null,
   "id": "6c84731b",
   "metadata": {
    "execution": {
     "iopub.execute_input": "2023-10-05T18:47:57.342474Z",
     "iopub.status.busy": "2023-10-05T18:47:57.342220Z",
     "iopub.status.idle": "2023-10-05T18:47:57.345281Z",
     "shell.execute_reply": "2023-10-05T18:47:57.344714Z"
    }
   },
   "outputs": [],
   "source": [
    "name = \"Spongebob\"\n",
    "age = 72\n",
    "foods = [\"Cake\", \"Pie\", \"Peanut Butter\"]"
   ]
  },
  {
   "cell_type": "code",
   "execution_count": null,
   "id": "3af581c2",
   "metadata": {
    "execution": {
     "iopub.execute_input": "2023-10-05T18:47:57.348315Z",
     "iopub.status.busy": "2023-10-05T18:47:57.347875Z",
     "iopub.status.idle": "2023-10-05T18:47:57.351404Z",
     "shell.execute_reply": "2023-10-05T18:47:57.350850Z"
    }
   },
   "outputs": [],
   "source": [
    "# Old way:\n",
    "print(\"Hi, I am \" + name + \", I'm \" + str(age) + \" years old, and I like \" + str(len(foods)) + \" foods: \" + ', '.join(foods) + \".\")"
   ]
  },
  {
   "cell_type": "code",
   "execution_count": null,
   "id": "701b0172",
   "metadata": {
    "execution": {
     "iopub.execute_input": "2023-10-05T18:47:57.354392Z",
     "iopub.status.busy": "2023-10-05T18:47:57.354147Z",
     "iopub.status.idle": "2023-10-05T18:47:57.357513Z",
     "shell.execute_reply": "2023-10-05T18:47:57.356999Z"
    }
   },
   "outputs": [],
   "source": [
    "# Using f-strings\n",
    "print(f\"Hi, I am {name}, I'm {age} years old, and I like {len(foods)} foods: {', '.join(foods)}.\")"
   ]
  },
  {
   "cell_type": "code",
   "execution_count": null,
   "id": "31745091",
   "metadata": {
    "execution": {
     "iopub.execute_input": "2023-10-05T18:47:57.360305Z",
     "iopub.status.busy": "2023-10-05T18:47:57.360059Z",
     "iopub.status.idle": "2023-10-05T18:47:57.363474Z",
     "shell.execute_reply": "2023-10-05T18:47:57.362820Z"
    },
    "slideshow": {
     "slide_type": "subslide"
    }
   },
   "outputs": [],
   "source": [
    "# Using f-strings\n",
    "print(f\"Hi, I am {name}, I'm {age} years old, and I like {len(foods)} foods: {', '.join(foods)}.\")"
   ]
  },
  {
   "cell_type": "markdown",
   "id": "52514359",
   "metadata": {},
   "source": [
    "Note that we were able to include an integer (`age`) without an explicit type conversion. \n",
    "\n",
    "This makes printing **much** easier, no more awful lines like this: `print(\"Some text: \" + str(some_number) + \".\")`"
   ]
  },
  {
   "cell_type": "markdown",
   "id": "c9651a22",
   "metadata": {
    "slideshow": {
     "slide_type": "subslide"
    }
   },
   "source": [
    "One more formatting trick: to control the number of decimal places, add `:.<num decimals>f` after an expression in an f-string.\n",
    "\n",
    "For example:"
   ]
  },
  {
   "cell_type": "code",
   "execution_count": null,
   "id": "161a52f7",
   "metadata": {
    "execution": {
     "iopub.execute_input": "2023-10-05T18:47:57.366470Z",
     "iopub.status.busy": "2023-10-05T18:47:57.366224Z",
     "iopub.status.idle": "2023-10-05T18:47:57.369625Z",
     "shell.execute_reply": "2023-10-05T18:47:57.369060Z"
    }
   },
   "outputs": [],
   "source": [
    "fraction = 1/3\n",
    "print(fraction)\n",
    "print(f\"{fraction:.2f}\")"
   ]
  },
  {
   "cell_type": "markdown",
   "id": "ce5c595a",
   "metadata": {
    "slideshow": {
     "slide_type": "subslide"
    }
   },
   "source": [
    "The [official documentation on string formatting](https://docs.python.org/3/reference/lexical_analysis.html#f-strings) is extremely obtuse. Try [fstring.help](https://fstring.help/) for a deeper tutorial, and [fstring.help/cheat](https://fstring.help/cheat/) instead for a quick cheat sheet."
   ]
  },
  {
   "cell_type": "markdown",
   "id": "054c232c",
   "metadata": {
    "slideshow": {
     "slide_type": "slide"
    }
   },
   "source": [
    "# Exercise\n",
    "\n",
    "Write a word guessing game where the user guesses one letter at a time to try to guess a secret word. Show the user's progress between each guess."
   ]
  },
  {
   "cell_type": "markdown",
   "id": "944bd0ba",
   "metadata": {
    "slideshow": {
     "slide_type": "subslide"
    }
   },
   "source": [
    "## Functional decomposition\n",
    "\n",
    "This time, let's write the code from the outside in:"
   ]
  },
  {
   "cell_type": "code",
   "execution_count": null,
   "id": "a12da6c2",
   "metadata": {
    "execution": {
     "iopub.execute_input": "2023-10-05T18:47:57.372661Z",
     "iopub.status.busy": "2023-10-05T18:47:57.372419Z",
     "iopub.status.idle": "2023-10-05T18:47:57.375845Z",
     "shell.execute_reply": "2023-10-05T18:47:57.375292Z"
    }
   },
   "outputs": [],
   "source": [
    "def play_game():\n",
    "    word = \"secret\"\n",
    "    progress = [\"_\", \"_\", \"_\", \"_\", \"_\", \"_\"]\n",
    "    while True:\n",
    "        display_progress(progress)\n",
    "        guess = get_guess()\n",
    "        process_guess(word, progress)"
   ]
  },
  {
   "cell_type": "markdown",
   "id": "d8253dbd",
   "metadata": {
    "slideshow": {
     "slide_type": "fragment"
    }
   },
   "source": [
    "We've written the outer code, and now we have an idea of which helper functions will be most useful."
   ]
  },
  {
   "cell_type": "code",
   "execution_count": null,
   "id": "e9c4c5f5",
   "metadata": {
    "execution": {
     "iopub.execute_input": "2023-10-05T18:47:57.378717Z",
     "iopub.status.busy": "2023-10-05T18:47:57.378478Z",
     "iopub.status.idle": "2023-10-05T18:47:57.381571Z",
     "shell.execute_reply": "2023-10-05T18:47:57.380933Z"
    },
    "slideshow": {
     "slide_type": "subslide"
    }
   },
   "outputs": [],
   "source": [
    "def display_progress(progress):\n",
    "    for p in progress:\n",
    "        print(p, end=\" \")\n",
    "       "
   ]
  },
  {
   "cell_type": "code",
   "execution_count": null,
   "id": "5cd2fb41",
   "metadata": {
    "execution": {
     "iopub.execute_input": "2023-10-05T18:47:57.384319Z",
     "iopub.status.busy": "2023-10-05T18:47:57.384077Z",
     "iopub.status.idle": "2023-10-05T18:47:57.387373Z",
     "shell.execute_reply": "2023-10-05T18:47:57.386822Z"
    }
   },
   "outputs": [],
   "source": [
    "display_progress([\"_\", \"a\", \"b\", \"_\"])"
   ]
  },
  {
   "cell_type": "markdown",
   "id": "e56f4c30",
   "metadata": {
    "slideshow": {
     "slide_type": "subslide"
    }
   },
   "source": [
    "Another way, using the string method `join` that we just saw:"
   ]
  },
  {
   "cell_type": "code",
   "execution_count": null,
   "id": "32e07a5c",
   "metadata": {
    "execution": {
     "iopub.execute_input": "2023-10-05T18:47:57.390264Z",
     "iopub.status.busy": "2023-10-05T18:47:57.390024Z",
     "iopub.status.idle": "2023-10-05T18:47:57.393038Z",
     "shell.execute_reply": "2023-10-05T18:47:57.392514Z"
    }
   },
   "outputs": [],
   "source": [
    "def display_progress(progress):\n",
    "    print(\" \".join(progress))"
   ]
  },
  {
   "cell_type": "code",
   "execution_count": null,
   "id": "7b87f52e",
   "metadata": {
    "execution": {
     "iopub.execute_input": "2023-10-05T18:47:57.395741Z",
     "iopub.status.busy": "2023-10-05T18:47:57.395499Z",
     "iopub.status.idle": "2023-10-05T18:47:57.398699Z",
     "shell.execute_reply": "2023-10-05T18:47:57.398174Z"
    }
   },
   "outputs": [],
   "source": [
    "display_progress([\"_\", \"a\", \"b\", \"_\"])"
   ]
  },
  {
   "cell_type": "code",
   "execution_count": null,
   "id": "e848a8df",
   "metadata": {
    "execution": {
     "iopub.execute_input": "2023-10-05T18:47:57.401411Z",
     "iopub.status.busy": "2023-10-05T18:47:57.401173Z",
     "iopub.status.idle": "2023-10-05T18:47:57.404515Z",
     "shell.execute_reply": "2023-10-05T18:47:57.403999Z"
    },
    "slideshow": {
     "slide_type": "subslide"
    }
   },
   "outputs": [],
   "source": [
    "def play_game():\n",
    "    word = \"secret\"\n",
    "    progress = [\"_\", \"_\", \"_\", \"_\", \"_\", \"_\"]\n",
    "    while True:\n",
    "        display_progress(progress)\n",
    "        guess = get_guess()\n",
    "        process_guess(word, progress)"
   ]
  },
  {
   "cell_type": "markdown",
   "id": "670d364d",
   "metadata": {},
   "source": [
    "Next up, `get_guess()`..."
   ]
  },
  {
   "cell_type": "code",
   "execution_count": null,
   "id": "73dad042",
   "metadata": {
    "execution": {
     "iopub.execute_input": "2023-10-05T18:47:57.407367Z",
     "iopub.status.busy": "2023-10-05T18:47:57.407121Z",
     "iopub.status.idle": "2023-10-05T18:47:57.410087Z",
     "shell.execute_reply": "2023-10-05T18:47:57.409558Z"
    },
    "slideshow": {
     "slide_type": "subslide"
    }
   },
   "outputs": [],
   "source": [
    "def get_guess():\n",
    "    return input(\"Guess a letter! \")"
   ]
  },
  {
   "cell_type": "code",
   "execution_count": null,
   "id": "6c8784fa",
   "metadata": {
    "execution": {
     "iopub.execute_input": "2023-10-05T18:47:57.412816Z",
     "iopub.status.busy": "2023-10-05T18:47:57.412579Z",
     "iopub.status.idle": "2023-10-05T18:47:57.500361Z",
     "shell.execute_reply": "2023-10-05T18:47:57.499600Z"
    },
    "tags": [
     "remove-output"
    ]
   },
   "outputs": [],
   "source": [
    "get_guess()"
   ]
  },
  {
   "cell_type": "code",
   "execution_count": null,
   "id": "95629c42",
   "metadata": {
    "execution": {
     "iopub.execute_input": "2023-10-05T18:47:57.503766Z",
     "iopub.status.busy": "2023-10-05T18:47:57.503478Z",
     "iopub.status.idle": "2023-10-05T18:47:57.507301Z",
     "shell.execute_reply": "2023-10-05T18:47:57.506677Z"
    },
    "slideshow": {
     "slide_type": "subslide"
    }
   },
   "outputs": [],
   "source": [
    "def get_guess():\n",
    "    while True:\n",
    "        guess = input(\"Guess a letter! \")\n",
    "        if len(guess) == 1 and guess.isalpha():\n",
    "            return guess\n",
    "        else:\n",
    "            print(\"Invalid guess, please guess a single letter\")\n",
    "            "
   ]
  },
  {
   "cell_type": "code",
   "execution_count": null,
   "id": "d1dd8a2f",
   "metadata": {
    "execution": {
     "iopub.execute_input": "2023-10-05T18:47:57.510592Z",
     "iopub.status.busy": "2023-10-05T18:47:57.510280Z",
     "iopub.status.idle": "2023-10-05T18:47:57.538730Z",
     "shell.execute_reply": "2023-10-05T18:47:57.538045Z"
    },
    "tags": [
     "remove-output"
    ]
   },
   "outputs": [],
   "source": [
    "get_guess()"
   ]
  },
  {
   "cell_type": "code",
   "execution_count": null,
   "id": "fcd9b9fb",
   "metadata": {
    "execution": {
     "iopub.execute_input": "2023-10-05T18:47:57.541918Z",
     "iopub.status.busy": "2023-10-05T18:47:57.541646Z",
     "iopub.status.idle": "2023-10-05T18:47:57.545681Z",
     "shell.execute_reply": "2023-10-05T18:47:57.544889Z"
    },
    "slideshow": {
     "slide_type": "subslide"
    }
   },
   "outputs": [],
   "source": [
    "def play_game():\n",
    "    word = \"secret\"\n",
    "    progress = [\"_\", \"_\", \"_\", \"_\", \"_\", \"_\"]\n",
    "    while True:\n",
    "        display_progress(progress)\n",
    "        guess = get_guess()\n",
    "        process_guess(guess, word, progress)"
   ]
  },
  {
   "cell_type": "markdown",
   "id": "31f40ad5",
   "metadata": {},
   "source": [
    "Next up, `process_guess()`, the trickiest part."
   ]
  },
  {
   "cell_type": "markdown",
   "id": "c9226795",
   "metadata": {
    "slideshow": {
     "slide_type": "subslide"
    }
   },
   "source": [
    "Walk through each letter of the secret word. If our guess matches that letter, then put that letter into `progress` at the correct index."
   ]
  },
  {
   "cell_type": "code",
   "execution_count": null,
   "id": "b5458135",
   "metadata": {
    "execution": {
     "iopub.execute_input": "2023-10-05T18:47:57.549353Z",
     "iopub.status.busy": "2023-10-05T18:47:57.549048Z",
     "iopub.status.idle": "2023-10-05T18:47:57.552776Z",
     "shell.execute_reply": "2023-10-05T18:47:57.552145Z"
    },
    "slideshow": {
     "slide_type": "-"
    }
   },
   "outputs": [],
   "source": [
    "def process_guess(guess, word, progress):\n",
    "    for index in range(len(word)):\n",
    "        if guess == word[index]:\n",
    "            progress[index] = guess\n",
    "            "
   ]
  },
  {
   "cell_type": "code",
   "execution_count": null,
   "id": "cf837c14",
   "metadata": {
    "execution": {
     "iopub.execute_input": "2023-10-05T18:47:57.556093Z",
     "iopub.status.busy": "2023-10-05T18:47:57.555602Z",
     "iopub.status.idle": "2023-10-05T18:47:57.559393Z",
     "shell.execute_reply": "2023-10-05T18:47:57.558799Z"
    }
   },
   "outputs": [],
   "source": [
    "progress = [\"s\", \"_\", \"_\", \"r\", \"_\", \"t\"]\n",
    "process_guess('e', 'secret', progress)\n",
    "print(progress)"
   ]
  },
  {
   "cell_type": "markdown",
   "id": "54192613",
   "metadata": {
    "slideshow": {
     "slide_type": "subslide"
    }
   },
   "source": [
    "Each piece seems to work on its own, lets test it all together"
   ]
  },
  {
   "cell_type": "code",
   "execution_count": null,
   "id": "dac89eac",
   "metadata": {
    "execution": {
     "iopub.execute_input": "2023-10-05T18:47:57.562889Z",
     "iopub.status.busy": "2023-10-05T18:47:57.562374Z",
     "iopub.status.idle": "2023-10-05T18:47:57.566226Z",
     "shell.execute_reply": "2023-10-05T18:47:57.565600Z"
    },
    "slideshow": {
     "slide_type": "-"
    }
   },
   "outputs": [],
   "source": [
    "def play_game():\n",
    "    word = \"secret\"\n",
    "    progress = [\"_\", \"_\", \"_\", \"_\", \"_\", \"_\"]\n",
    "    while True:\n",
    "        display_progress(progress)\n",
    "        guess = get_guess()\n",
    "        process_guess(guess, word, progress)"
   ]
  },
  {
   "cell_type": "code",
   "execution_count": null,
   "id": "539a983f",
   "metadata": {
    "execution": {
     "iopub.execute_input": "2023-10-05T18:47:57.569401Z",
     "iopub.status.busy": "2023-10-05T18:47:57.568960Z",
     "iopub.status.idle": "2023-10-05T18:47:57.603483Z",
     "shell.execute_reply": "2023-10-05T18:47:57.602563Z"
    },
    "tags": [
     "remove-output"
    ]
   },
   "outputs": [],
   "source": [
    "play_game()"
   ]
  },
  {
   "cell_type": "markdown",
   "id": "181dbdd8",
   "metadata": {
    "slideshow": {
     "slide_type": "subslide"
    }
   },
   "source": [
    "Oops, we forgot to end the game!"
   ]
  },
  {
   "cell_type": "code",
   "execution_count": null,
   "id": "3cc0fa9b",
   "metadata": {
    "execution": {
     "iopub.execute_input": "2023-10-05T18:47:57.606748Z",
     "iopub.status.busy": "2023-10-05T18:47:57.606461Z",
     "iopub.status.idle": "2023-10-05T18:47:57.610374Z",
     "shell.execute_reply": "2023-10-05T18:47:57.609748Z"
    },
    "slideshow": {
     "slide_type": "-"
    }
   },
   "outputs": [],
   "source": [
    "def play_game():\n",
    "    word = \"secret\"\n",
    "    progress = [\"_\", \"_\", \"_\", \"_\", \"_\", \"_\"]\n",
    "    while True:\n",
    "        display_progress(progress)\n",
    "        guess = get_guess()\n",
    "        process_guess(guess, word, progress)\n",
    "        if game_over(progress):\n",
    "            print(\"You win!\")\n",
    "            break"
   ]
  },
  {
   "cell_type": "code",
   "execution_count": null,
   "id": "b9377bcf",
   "metadata": {
    "execution": {
     "iopub.execute_input": "2023-10-05T18:47:57.613393Z",
     "iopub.status.busy": "2023-10-05T18:47:57.613145Z",
     "iopub.status.idle": "2023-10-05T18:47:57.616483Z",
     "shell.execute_reply": "2023-10-05T18:47:57.615865Z"
    },
    "slideshow": {
     "slide_type": "subslide"
    }
   },
   "outputs": [],
   "source": [
    "def game_over(progress):\n",
    "    for letter in progress:\n",
    "        if letter == \"_\":\n",
    "            return False\n",
    "    return True"
   ]
  },
  {
   "cell_type": "code",
   "execution_count": null,
   "id": "72edf090",
   "metadata": {
    "execution": {
     "iopub.execute_input": "2023-10-05T18:47:57.619296Z",
     "iopub.status.busy": "2023-10-05T18:47:57.619055Z",
     "iopub.status.idle": "2023-10-05T18:47:57.623392Z",
     "shell.execute_reply": "2023-10-05T18:47:57.622812Z"
    }
   },
   "outputs": [],
   "source": [
    "game_over([\"a\", \"b\", \"c\"])"
   ]
  },
  {
   "cell_type": "code",
   "execution_count": null,
   "id": "32459aba",
   "metadata": {
    "execution": {
     "iopub.execute_input": "2023-10-05T18:47:57.626477Z",
     "iopub.status.busy": "2023-10-05T18:47:57.626063Z",
     "iopub.status.idle": "2023-10-05T18:47:57.630278Z",
     "shell.execute_reply": "2023-10-05T18:47:57.629678Z"
    }
   },
   "outputs": [],
   "source": [
    "game_over([\"a\", \"_\", \"c\"])"
   ]
  },
  {
   "cell_type": "markdown",
   "id": "e229fe2b",
   "metadata": {
    "slideshow": {
     "slide_type": "subslide"
    }
   },
   "source": [
    "Or, again, a shorter way using one of the sequence operations: `in`"
   ]
  },
  {
   "cell_type": "code",
   "execution_count": null,
   "id": "472da174",
   "metadata": {
    "execution": {
     "iopub.execute_input": "2023-10-05T18:47:57.633360Z",
     "iopub.status.busy": "2023-10-05T18:47:57.633097Z",
     "iopub.status.idle": "2023-10-05T18:47:57.636172Z",
     "shell.execute_reply": "2023-10-05T18:47:57.635592Z"
    }
   },
   "outputs": [],
   "source": [
    "def game_over(progress):\n",
    "    return \"_\" not in progress"
   ]
  },
  {
   "cell_type": "code",
   "execution_count": null,
   "id": "79383960",
   "metadata": {
    "execution": {
     "iopub.execute_input": "2023-10-05T18:47:57.639045Z",
     "iopub.status.busy": "2023-10-05T18:47:57.638794Z",
     "iopub.status.idle": "2023-10-05T18:47:57.643030Z",
     "shell.execute_reply": "2023-10-05T18:47:57.642434Z"
    }
   },
   "outputs": [],
   "source": [
    "game_over([\"a\", \"b\", \"c\"])"
   ]
  },
  {
   "cell_type": "code",
   "execution_count": null,
   "id": "c17cbda2",
   "metadata": {
    "execution": {
     "iopub.execute_input": "2023-10-05T18:47:57.645933Z",
     "iopub.status.busy": "2023-10-05T18:47:57.645688Z",
     "iopub.status.idle": "2023-10-05T18:47:57.650661Z",
     "shell.execute_reply": "2023-10-05T18:47:57.650039Z"
    }
   },
   "outputs": [],
   "source": [
    "game_over([\"a\", \"_\", \"c\"])"
   ]
  },
  {
   "cell_type": "code",
   "execution_count": null,
   "id": "33654f00",
   "metadata": {
    "execution": {
     "iopub.execute_input": "2023-10-05T18:47:57.653539Z",
     "iopub.status.busy": "2023-10-05T18:47:57.653299Z",
     "iopub.status.idle": "2023-10-05T18:47:57.657019Z",
     "shell.execute_reply": "2023-10-05T18:47:57.656447Z"
    },
    "slideshow": {
     "slide_type": "subslide"
    }
   },
   "outputs": [],
   "source": [
    "def play_game():\n",
    "    word = \"secret\"\n",
    "    progress = [\"_\", \"_\", \"_\", \"_\", \"_\", \"_\"]\n",
    "    while True:\n",
    "        display_progress(progress)\n",
    "        guess = get_guess()\n",
    "        process_guess(guess, word, progress)\n",
    "        if game_over(progress):\n",
    "            print(\"You win!\")\n",
    "            break"
   ]
  },
  {
   "cell_type": "code",
   "execution_count": null,
   "id": "e1c21f4a",
   "metadata": {
    "execution": {
     "iopub.execute_input": "2023-10-05T18:47:57.659909Z",
     "iopub.status.busy": "2023-10-05T18:47:57.659657Z",
     "iopub.status.idle": "2023-10-05T18:47:57.693765Z",
     "shell.execute_reply": "2023-10-05T18:47:57.692517Z"
    },
    "tags": [
     "remove-output"
    ]
   },
   "outputs": [],
   "source": [
    "play_game()"
   ]
  },
  {
   "cell_type": "markdown",
   "id": "fbcc7f5c",
   "metadata": {
    "slideshow": {
     "slide_type": "subslide"
    }
   },
   "source": [
    "What if we want to use a different word? We can parameterize `play_game`:"
   ]
  },
  {
   "cell_type": "code",
   "execution_count": null,
   "id": "3536ea4a",
   "metadata": {
    "execution": {
     "iopub.execute_input": "2023-10-05T18:47:57.697947Z",
     "iopub.status.busy": "2023-10-05T18:47:57.697645Z",
     "iopub.status.idle": "2023-10-05T18:47:57.701964Z",
     "shell.execute_reply": "2023-10-05T18:47:57.701174Z"
    }
   },
   "outputs": [],
   "source": [
    "def play_game(word):\n",
    "    progress = [\"_\"] * len(word)\n",
    "    while True:\n",
    "        display_progress(progress)\n",
    "        guess = get_guess()\n",
    "        process_guess(guess, word, progress)\n",
    "        if game_over(progress):\n",
    "            print(\"You win!\")\n",
    "            break"
   ]
  },
  {
   "cell_type": "code",
   "execution_count": null,
   "id": "51941b6c",
   "metadata": {
    "execution": {
     "iopub.execute_input": "2023-10-05T18:47:57.705325Z",
     "iopub.status.busy": "2023-10-05T18:47:57.705038Z",
     "iopub.status.idle": "2023-10-05T18:47:57.739879Z",
     "shell.execute_reply": "2023-10-05T18:47:57.739226Z"
    },
    "tags": [
     "remove-output"
    ]
   },
   "outputs": [],
   "source": [
    "play_game(\"abba\")"
   ]
  },
  {
   "cell_type": "markdown",
   "id": "e5a20849",
   "metadata": {
    "slideshow": {
     "slide_type": "subslide"
    }
   },
   "source": [
    "More things to think about:\n",
    "* How would you keep track of how many incorrect guesses a user had made, and stop after 5 incorrect?\n",
    "* How would you keep track of which letters the user had already guessed?\n",
    "* How could you handle the user entering an upper case letter?"
   ]
  }
 ],
 "metadata": {
  "celltoolbar": "Slideshow",
  "kernelspec": {
   "display_name": "Python 3 (ipykernel)",
   "language": "python",
   "name": "python3"
  },
  "language_info": {
   "codemirror_mode": {
    "name": "ipython",
    "version": 3
   },
   "file_extension": ".py",
   "mimetype": "text/x-python",
   "name": "python",
   "nbconvert_exporter": "python",
   "pygments_lexer": "ipython3",
   "version": "3.10.9"
  }
 },
 "nbformat": 4,
 "nbformat_minor": 5
}
