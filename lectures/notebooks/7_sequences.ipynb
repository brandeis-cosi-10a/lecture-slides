{
 "cells": [
  {
   "cell_type": "markdown",
   "id": "1ee8a1d2",
   "metadata": {
    "slideshow": {
     "slide_type": "slide"
    }
   },
   "source": [
    "# Sequences\n",
    "\n",
    "<style>\n",
    "section.present > section.present { \n",
    "    max-height: 90%; \n",
    "    overflow-y: scroll;\n",
    "}\n",
    "</style>\n",
    "\n",
    "<small><a href=\"https://colab.research.google.com/github/brandeis-jdelfino/cosi-10a/blob/main/lectures/notebooks/7_sequences.ipynb\">Link to interactive slides on Google Colab</a></small>"
   ]
  },
  {
   "cell_type": "markdown",
   "id": "61f0aac4",
   "metadata": {
    "slideshow": {
     "slide_type": "slide"
    }
   },
   "source": [
    "# Sequence types\n",
    "\n",
    "We've looked at a few **sequence types** already - can you guess which types are sequence types?"
   ]
  },
  {
   "cell_type": "markdown",
   "id": "305139c4",
   "metadata": {
    "slideshow": {
     "slide_type": "fragment"
    }
   },
   "source": [
    "* **Sequence types** are data types that represent sequences of things. \n",
    "  * `str` - sequence of characters\n",
    "  * `list` - sequence of values\n",
    "  * `range` - (as in: `for i in range(5)`!) generated sequence of integers \n",
    "  * `tuple` - coming soon, similar to `list`\n",
    "  \n",
    "Today, we'll learn about tuples, some common operations that work on some/all sequence types, and more about strings."
   ]
  },
  {
   "cell_type": "markdown",
   "id": "421d62e1",
   "metadata": {
    "slideshow": {
     "slide_type": "slide"
    }
   },
   "source": [
    "# Tuples\n",
    "\n",
    "Tuples are a sequence type. They are almost the same as lists, with a few small differences:\n",
    "* Tuples are created and represented with parentheses `(` `)` instead of brackets `[` `]`\n",
    "* Tuples are **immutable**. This means they can't change after creation.\n",
    "  * You can't add, remove, or change the items a tuple contains."
   ]
  },
  {
   "cell_type": "code",
   "execution_count": null,
   "id": "735ef902",
   "metadata": {
    "execution": {
     "iopub.execute_input": "2023-10-02T22:35:26.498267Z",
     "iopub.status.busy": "2023-10-02T22:35:26.497954Z",
     "iopub.status.idle": "2023-10-02T22:35:26.514224Z",
     "shell.execute_reply": "2023-10-02T22:35:26.513375Z"
    }
   },
   "outputs": [],
   "source": [
    "i_am_a_tuple = (1,2,3)\n",
    "print(i_am_a_tuple)"
   ]
  },
  {
   "cell_type": "code",
   "execution_count": null,
   "id": "1a2c6bc3",
   "metadata": {
    "execution": {
     "iopub.execute_input": "2023-10-02T22:35:26.518116Z",
     "iopub.status.busy": "2023-10-02T22:35:26.517798Z",
     "iopub.status.idle": "2023-10-02T22:35:26.522008Z",
     "shell.execute_reply": "2023-10-02T22:35:26.521312Z"
    }
   },
   "outputs": [],
   "source": [
    "im_also_a_tuple = (7,)\n",
    "print(im_also_a_tuple)"
   ]
  },
  {
   "cell_type": "code",
   "execution_count": null,
   "id": "088b8e2b",
   "metadata": {
    "execution": {
     "iopub.execute_input": "2023-10-02T22:35:26.525242Z",
     "iopub.status.busy": "2023-10-02T22:35:26.524960Z",
     "iopub.status.idle": "2023-10-02T22:35:26.528700Z",
     "shell.execute_reply": "2023-10-02T22:35:26.528076Z"
    }
   },
   "outputs": [],
   "source": [
    "# You don't strictly need the parentheses, although it's often more clear to include them\n",
    "hey_wait = 7,2\n",
    "print(hey_wait)"
   ]
  },
  {
   "cell_type": "markdown",
   "id": "e71e1953",
   "metadata": {
    "slideshow": {
     "slide_type": "subslide"
    }
   },
   "source": [
    "Tuples are **immutable**. This means they can't change after creation.\n",
    "\n",
    "You can't add, remove, or change the items a tuple contains."
   ]
  },
  {
   "cell_type": "code",
   "execution_count": null,
   "id": "7aabe9ea",
   "metadata": {
    "execution": {
     "iopub.execute_input": "2023-10-02T22:35:26.531917Z",
     "iopub.status.busy": "2023-10-02T22:35:26.531650Z",
     "iopub.status.idle": "2023-10-02T22:35:26.800351Z",
     "shell.execute_reply": "2023-10-02T22:35:26.799769Z"
    },
    "tags": [
     "raises-exception"
    ]
   },
   "outputs": [],
   "source": [
    "flavors = (\"chocolate\", \"vanilla\", \"strawberry\")\n",
    "flavors[1] = \"coffee\""
   ]
  },
  {
   "cell_type": "markdown",
   "id": "021042e9",
   "metadata": {
    "slideshow": {
     "slide_type": "subslide"
    }
   },
   "source": [
    "You can convert back and forth between lists and tuples, similar to converting between `int`, `float`, and `str`:"
   ]
  },
  {
   "cell_type": "code",
   "execution_count": null,
   "id": "d10b9b4b",
   "metadata": {
    "execution": {
     "iopub.execute_input": "2023-10-02T22:35:26.803981Z",
     "iopub.status.busy": "2023-10-02T22:35:26.803715Z",
     "iopub.status.idle": "2023-10-02T22:35:26.807746Z",
     "shell.execute_reply": "2023-10-02T22:35:26.806818Z"
    }
   },
   "outputs": [],
   "source": [
    "flavors = (\"chocolate\", \"vanilla\", \"strawberry\")\n",
    "print(flavors)\n"
   ]
  },
  {
   "cell_type": "code",
   "execution_count": null,
   "id": "9b5e5b14",
   "metadata": {
    "execution": {
     "iopub.execute_input": "2023-10-02T22:35:26.811220Z",
     "iopub.status.busy": "2023-10-02T22:35:26.810963Z",
     "iopub.status.idle": "2023-10-02T22:35:26.815324Z",
     "shell.execute_reply": "2023-10-02T22:35:26.814335Z"
    }
   },
   "outputs": [],
   "source": [
    "new_flavors = list(flavors)\n",
    "new_flavors[1] = \"coffee\"\n",
    "print(new_flavors)"
   ]
  },
  {
   "cell_type": "code",
   "execution_count": null,
   "id": "0f52cfa1",
   "metadata": {
    "execution": {
     "iopub.execute_input": "2023-10-02T22:35:26.818708Z",
     "iopub.status.busy": "2023-10-02T22:35:26.818454Z",
     "iopub.status.idle": "2023-10-02T22:35:26.821969Z",
     "shell.execute_reply": "2023-10-02T22:35:26.821337Z"
    }
   },
   "outputs": [],
   "source": [
    "flavors = tuple(new_flavors)\n",
    "print(flavors)"
   ]
  },
  {
   "cell_type": "markdown",
   "id": "c7dc4477",
   "metadata": {
    "slideshow": {
     "slide_type": "subslide"
    }
   },
   "source": [
    "## Returning multiple values with tuples\n",
    "\n",
    "A common use for tuples is to easily return multiple values from a function.\n",
    "\n",
    "Here's a function that takes in a list of strings, and returns a 2-tuple containing the longest name, and the length of the longest name:"
   ]
  },
  {
   "cell_type": "code",
   "execution_count": null,
   "id": "0abb937d",
   "metadata": {
    "execution": {
     "iopub.execute_input": "2023-10-02T22:35:26.825539Z",
     "iopub.status.busy": "2023-10-02T22:35:26.825225Z",
     "iopub.status.idle": "2023-10-02T22:35:26.829196Z",
     "shell.execute_reply": "2023-10-02T22:35:26.828512Z"
    }
   },
   "outputs": [],
   "source": [
    "def longest_name(names):\n",
    "    max_name = \"\"\n",
    "    for name in names:\n",
    "        if len(name) > len(max_name):\n",
    "            max_name = name\n",
    "    return max_name, len(max_name)"
   ]
  },
  {
   "cell_type": "code",
   "execution_count": null,
   "id": "01ba92ad",
   "metadata": {
    "execution": {
     "iopub.execute_input": "2023-10-02T22:35:26.832251Z",
     "iopub.status.busy": "2023-10-02T22:35:26.831862Z",
     "iopub.status.idle": "2023-10-02T22:35:26.838103Z",
     "shell.execute_reply": "2023-10-02T22:35:26.837472Z"
    }
   },
   "outputs": [],
   "source": [
    "longest_name([\"Bill Murray\", \"Spongebob\", \"Batman\"])"
   ]
  },
  {
   "cell_type": "markdown",
   "id": "61ba394f",
   "metadata": {
    "slideshow": {
     "slide_type": "subslide"
    }
   },
   "source": [
    "## Side note: Value unpacking\n",
    "\n",
    "Python has something called \"value unpacking\", which is a shortcut to assign multiple values to multiple variables at once. "
   ]
  },
  {
   "cell_type": "code",
   "execution_count": null,
   "id": "971a849c",
   "metadata": {
    "execution": {
     "iopub.execute_input": "2023-10-02T22:35:26.841151Z",
     "iopub.status.busy": "2023-10-02T22:35:26.840887Z",
     "iopub.status.idle": "2023-10-02T22:35:26.844372Z",
     "shell.execute_reply": "2023-10-02T22:35:26.843813Z"
    }
   },
   "outputs": [],
   "source": [
    "# without value unpacking\n",
    "result =  longest_name([\"Bill Murray\", \"Spongebob\", \"Batman\"])\n",
    "print(\"Longest name is: \\\"\" + result[0] + \"\\\" with a staggering length of \" + str(result[1]))"
   ]
  },
  {
   "cell_type": "code",
   "execution_count": null,
   "id": "7c85d836",
   "metadata": {
    "execution": {
     "iopub.execute_input": "2023-10-02T22:35:26.847497Z",
     "iopub.status.busy": "2023-10-02T22:35:26.847219Z",
     "iopub.status.idle": "2023-10-02T22:35:26.850953Z",
     "shell.execute_reply": "2023-10-02T22:35:26.850299Z"
    },
    "slideshow": {
     "slide_type": "-"
    }
   },
   "outputs": [],
   "source": [
    "# with value unpacking\n",
    "name, length = longest_name([\"Bill Murray\", \"Spongebob\", \"Batman\"])\n",
    "print(\"Longest name is: \\\"\" + name + \"\\\" with a staggering length of \" + str(length))"
   ]
  },
  {
   "cell_type": "markdown",
   "id": "61bb89d3",
   "metadata": {
    "slideshow": {
     "slide_type": "subslide"
    }
   },
   "source": [
    "Value unpacking works with any sequence type"
   ]
  },
  {
   "cell_type": "code",
   "execution_count": null,
   "id": "e020b2f6",
   "metadata": {
    "execution": {
     "iopub.execute_input": "2023-10-02T22:35:26.853965Z",
     "iopub.status.busy": "2023-10-02T22:35:26.853708Z",
     "iopub.status.idle": "2023-10-02T22:35:26.857290Z",
     "shell.execute_reply": "2023-10-02T22:35:26.856707Z"
    }
   },
   "outputs": [],
   "source": [
    "names = [\"Larry\", \"Moe\", \"Curly\"]\n",
    "stooge1, stooge2, stooge3 = names\n",
    "print(\"Stooge 1: \" + stooge1 + \", stooge 2: \" + stooge2 + \", stooge 3: \" + stooge3)"
   ]
  },
  {
   "cell_type": "code",
   "execution_count": null,
   "id": "13dece82",
   "metadata": {
    "execution": {
     "iopub.execute_input": "2023-10-02T22:35:26.860211Z",
     "iopub.status.busy": "2023-10-02T22:35:26.859939Z",
     "iopub.status.idle": "2023-10-02T22:35:26.863284Z",
     "shell.execute_reply": "2023-10-02T22:35:26.862680Z"
    }
   },
   "outputs": [],
   "source": [
    "a, b, c = \"xyz\"\n",
    "print(\"a: \" + a + \"; b: \" + b + \"; c: \" + c)"
   ]
  },
  {
   "cell_type": "markdown",
   "id": "4d870d3a",
   "metadata": {
    "slideshow": {
     "slide_type": "subslide"
    }
   },
   "source": [
    "The assignment will raise an error if the number of variables on the left doesn't match the length of the sequence being unpacked."
   ]
  },
  {
   "cell_type": "code",
   "execution_count": null,
   "id": "476bb441",
   "metadata": {
    "execution": {
     "iopub.execute_input": "2023-10-02T22:35:26.866624Z",
     "iopub.status.busy": "2023-10-02T22:35:26.866352Z",
     "iopub.status.idle": "2023-10-02T22:35:26.881099Z",
     "shell.execute_reply": "2023-10-02T22:35:26.880423Z"
    },
    "slideshow": {
     "slide_type": "-"
    },
    "tags": [
     "raises-exception"
    ]
   },
   "outputs": [],
   "source": [
    "a, b, c = (1, 2)"
   ]
  },
  {
   "cell_type": "code",
   "execution_count": null,
   "id": "c54413d7",
   "metadata": {
    "execution": {
     "iopub.execute_input": "2023-10-02T22:35:26.884305Z",
     "iopub.status.busy": "2023-10-02T22:35:26.884055Z",
     "iopub.status.idle": "2023-10-02T22:35:26.898665Z",
     "shell.execute_reply": "2023-10-02T22:35:26.897980Z"
    },
    "tags": [
     "raises-exception"
    ]
   },
   "outputs": [],
   "source": [
    "a, b = (1, 2, 3)"
   ]
  },
  {
   "cell_type": "markdown",
   "id": "2ba44185",
   "metadata": {
    "slideshow": {
     "slide_type": "subslide"
    }
   },
   "source": [
    "# `range` revisited\n",
    "\n",
    "`range` is actually a sequence type that generates integers:"
   ]
  },
  {
   "cell_type": "code",
   "execution_count": null,
   "id": "1983c639",
   "metadata": {
    "execution": {
     "iopub.execute_input": "2023-10-02T22:35:26.902173Z",
     "iopub.status.busy": "2023-10-02T22:35:26.901939Z",
     "iopub.status.idle": "2023-10-02T22:35:26.906292Z",
     "shell.execute_reply": "2023-10-02T22:35:26.905702Z"
    }
   },
   "outputs": [],
   "source": [
    "range(5)"
   ]
  },
  {
   "cell_type": "code",
   "execution_count": null,
   "id": "0d659e7d",
   "metadata": {
    "execution": {
     "iopub.execute_input": "2023-10-02T22:35:26.909071Z",
     "iopub.status.busy": "2023-10-02T22:35:26.908835Z",
     "iopub.status.idle": "2023-10-02T22:35:26.913070Z",
     "shell.execute_reply": "2023-10-02T22:35:26.912444Z"
    }
   },
   "outputs": [],
   "source": [
    "list(range(5))"
   ]
  },
  {
   "cell_type": "code",
   "execution_count": null,
   "id": "c7376843",
   "metadata": {
    "execution": {
     "iopub.execute_input": "2023-10-02T22:35:26.916087Z",
     "iopub.status.busy": "2023-10-02T22:35:26.915819Z",
     "iopub.status.idle": "2023-10-02T22:35:26.919119Z",
     "shell.execute_reply": "2023-10-02T22:35:26.918541Z"
    },
    "slideshow": {
     "slide_type": "subslide"
    }
   },
   "outputs": [],
   "source": [
    "for i in range(5):\n",
    "    print(i)"
   ]
  },
  {
   "cell_type": "markdown",
   "id": "c5c9c82f",
   "metadata": {},
   "source": [
    "behaves the same as:"
   ]
  },
  {
   "cell_type": "code",
   "execution_count": null,
   "id": "68330b5b",
   "metadata": {
    "execution": {
     "iopub.execute_input": "2023-10-02T22:35:26.922116Z",
     "iopub.status.busy": "2023-10-02T22:35:26.921874Z",
     "iopub.status.idle": "2023-10-02T22:35:26.925344Z",
     "shell.execute_reply": "2023-10-02T22:35:26.924772Z"
    }
   },
   "outputs": [],
   "source": [
    "for i in [0,1,2,3,4]:\n",
    "    print(i)"
   ]
  },
  {
   "cell_type": "markdown",
   "id": "8a74db96",
   "metadata": {
    "slideshow": {
     "slide_type": "slide"
    }
   },
   "source": [
    "# `for` revisited\n",
    "\n",
    "It turns out that `for i in range(...):` is actually just a special case of the general `for` loop form:\n",
    "\n",
    "```\n",
    "for <var> in <sequence>:\n",
    "   statement(s)\n",
    "```\n",
    "\n",
    "A `for` loop can iterate over any **sequence**. It executes the code block once for each item in the sequence. \n",
    "\n",
    "This means you can use `for` loops on strings, lists, tuples, and ranges.\n"
   ]
  },
  {
   "cell_type": "code",
   "execution_count": null,
   "id": "986c5886",
   "metadata": {
    "execution": {
     "iopub.execute_input": "2023-10-02T22:35:26.928362Z",
     "iopub.status.busy": "2023-10-02T22:35:26.928117Z",
     "iopub.status.idle": "2023-10-02T22:35:26.931360Z",
     "shell.execute_reply": "2023-10-02T22:35:26.930776Z"
    }
   },
   "outputs": [],
   "source": [
    "for c in \"Hello, world!\":\n",
    "    print(c)"
   ]
  },
  {
   "cell_type": "markdown",
   "id": "e89972fe",
   "metadata": {
    "slideshow": {
     "slide_type": "slide"
    }
   },
   "source": [
    "# Common sequence operations\n",
    "\n",
    "These work on all sequence types! We've seen some of these before on strings or lists. They also work on tuples (and even ranges).\n",
    "\n",
    "| Operation | Description | Example | Result |\n",
    "| --- | :--- | --- | :--- |\n",
    "| `x in s` | True if an item of s is equal to x | `\"hi\" in [\"hello\", \"hi\", \"yo\"]` | True |\n",
    "| `x not in s` | Opposite of `in` | `\"hi\" not in [\"hello\", \"hi\", \"yo\"]` | False |\n",
    "| `s + t` | Concatenate (combine end-to-end) | `[1,2,3] + [4,5]` | `[1,2,3,4,5]` |\n",
    "| `s * n` | Replicate | `\"abc\" * 3` | `\"abcabcabc\"` |\n",
    "| `s[i]` | *i*th item of `s` | `\"hello\"[1]` | `\"e\"` |\n",
    "| `s[i:j]` | slice of `s` from `i` to `j` | `\"hello\"[1:3]` | `\"ell\"` |\n",
    "| `len(s)` | length of `s` | `len(\"hello\")` | `5` |\n",
    "| `min(s)` | The smallest item of `s` | `min([4, 8, 7, 3])` | `3` |\n",
    "| `max(s)` | The largest item of `s` | `max([4, 8, 7, 3])` | `8` |\n",
    "| `s.index(x)` | index of the first occurrence of `x` in `s` | `[4, 8, 7, 3].index(7)` | `2` |\n",
    "| `s.count(x)` | total number of occurrences of `x` in `s` | `\"hello\".count(\"l\")` | `2` |"
   ]
  },
  {
   "cell_type": "markdown",
   "id": "2b054334",
   "metadata": {
    "slideshow": {
     "slide_type": "slide"
    }
   },
   "source": [
    "# Exercise\n",
    "\n",
    "Write a program that prompts the user for 5 integers, then prints out:\n",
    "1. The largest integer they entered\n",
    "2. The smallest integer they entered\n",
    "3. Whether `42` is in the list of integers they entered\n",
    "4. How many times they repeated the first integer they entered\n",
    "  * e.g. if they entered: 4, 3, 4, 4, 1, then the answer would be 3, because they entered the number 4 three times.\n",
    "  \n",
    "## [Repl.it: Sequences Playground](https://replit.com/team/cosi-10a-fall23/Sequence-playground)"
   ]
  },
  {
   "cell_type": "markdown",
   "id": "52731dc7",
   "metadata": {
    "slideshow": {
     "slide_type": "slide"
    }
   },
   "source": [
    "# More on Strings\n",
    "\n",
    "In addition to the common sequence operations, strings provide many other helpful methods.\n",
    "\n",
    "The full list can be found in the [official documentation on strings](https://docs.python.org/3/library/stdtypes.html#string-methods). \n",
    "\n",
    "We'll look through a few notable ones now."
   ]
  },
  {
   "cell_type": "markdown",
   "id": "c9e22759",
   "metadata": {
    "slideshow": {
     "slide_type": "subslide"
    }
   },
   "source": [
    "`s.split(<delim>)` splits a string into a list. By default it splits at any whitespace, or you can tell it which character(s) to split at:"
   ]
  },
  {
   "cell_type": "code",
   "execution_count": null,
   "id": "dca84053",
   "metadata": {
    "execution": {
     "iopub.execute_input": "2023-10-02T22:35:26.934389Z",
     "iopub.status.busy": "2023-10-02T22:35:26.934118Z",
     "iopub.status.idle": "2023-10-02T22:35:26.938641Z",
     "shell.execute_reply": "2023-10-02T22:35:26.937958Z"
    }
   },
   "outputs": [],
   "source": [
    "sentence = \"This is a sentence with lots of words\"\n",
    "sentence.split()"
   ]
  },
  {
   "cell_type": "code",
   "execution_count": null,
   "id": "243aa8e6",
   "metadata": {
    "execution": {
     "iopub.execute_input": "2023-10-02T22:35:26.941605Z",
     "iopub.status.busy": "2023-10-02T22:35:26.941359Z",
     "iopub.status.idle": "2023-10-02T22:35:26.945782Z",
     "shell.execute_reply": "2023-10-02T22:35:26.945225Z"
    }
   },
   "outputs": [],
   "source": [
    "sentence = \"This,is a sentence,with,lots of words\"\n",
    "sentence.split(\",\")"
   ]
  },
  {
   "cell_type": "markdown",
   "id": "0ecd3c75",
   "metadata": {
    "slideshow": {
     "slide_type": "subslide"
    }
   },
   "source": [
    "`s.join(<sequence of strings>)` joins a sequence of strings together into a single string, with `s` between each string."
   ]
  },
  {
   "cell_type": "code",
   "execution_count": null,
   "id": "19b24398",
   "metadata": {
    "execution": {
     "iopub.execute_input": "2023-10-02T22:35:26.948704Z",
     "iopub.status.busy": "2023-10-02T22:35:26.948437Z",
     "iopub.status.idle": "2023-10-02T22:35:26.953229Z",
     "shell.execute_reply": "2023-10-02T22:35:26.952670Z"
    }
   },
   "outputs": [],
   "source": [
    "' '.join([\"some\", \"words\", \"to\", \"stitch\", \"together\"])"
   ]
  },
  {
   "cell_type": "code",
   "execution_count": null,
   "id": "09b7f80b",
   "metadata": {
    "execution": {
     "iopub.execute_input": "2023-10-02T22:35:26.956480Z",
     "iopub.status.busy": "2023-10-02T22:35:26.956204Z",
     "iopub.status.idle": "2023-10-02T22:35:26.960437Z",
     "shell.execute_reply": "2023-10-02T22:35:26.959857Z"
    }
   },
   "outputs": [],
   "source": [
    "'%T%'.join([\"some\", \"words\", \"to\", \"stitch\", \"together\"])"
   ]
  },
  {
   "cell_type": "markdown",
   "id": "e14be3ca",
   "metadata": {
    "slideshow": {
     "slide_type": "subslide"
    }
   },
   "source": [
    "`s.isdigit()` returns `True` if all characters in the string are digits and there is at least one character, `False` otherwise."
   ]
  },
  {
   "cell_type": "code",
   "execution_count": null,
   "id": "5a165a55",
   "metadata": {
    "execution": {
     "iopub.execute_input": "2023-10-02T22:35:26.963480Z",
     "iopub.status.busy": "2023-10-02T22:35:26.963225Z",
     "iopub.status.idle": "2023-10-02T22:35:26.967466Z",
     "shell.execute_reply": "2023-10-02T22:35:26.966894Z"
    }
   },
   "outputs": [],
   "source": [
    "'12345678'.isdigit()"
   ]
  },
  {
   "cell_type": "code",
   "execution_count": null,
   "id": "1a389911",
   "metadata": {
    "execution": {
     "iopub.execute_input": "2023-10-02T22:35:26.970273Z",
     "iopub.status.busy": "2023-10-02T22:35:26.970048Z",
     "iopub.status.idle": "2023-10-02T22:35:26.973949Z",
     "shell.execute_reply": "2023-10-02T22:35:26.973425Z"
    }
   },
   "outputs": [],
   "source": [
    "'123abc'.isdigit()"
   ]
  },
  {
   "cell_type": "markdown",
   "id": "61ed7209",
   "metadata": {
    "slideshow": {
     "slide_type": "subslide"
    }
   },
   "source": [
    "`s.upper()` and `s.lower()` convert strings to upper and lower case"
   ]
  },
  {
   "cell_type": "code",
   "execution_count": null,
   "id": "1589ff4d",
   "metadata": {
    "execution": {
     "iopub.execute_input": "2023-10-02T22:35:26.976747Z",
     "iopub.status.busy": "2023-10-02T22:35:26.976511Z",
     "iopub.status.idle": "2023-10-02T22:35:26.980463Z",
     "shell.execute_reply": "2023-10-02T22:35:26.979920Z"
    }
   },
   "outputs": [],
   "source": [
    "'SpongeBob SquarePants'.upper()"
   ]
  },
  {
   "cell_type": "code",
   "execution_count": null,
   "id": "611b5025",
   "metadata": {
    "execution": {
     "iopub.execute_input": "2023-10-02T22:35:26.983233Z",
     "iopub.status.busy": "2023-10-02T22:35:26.983000Z",
     "iopub.status.idle": "2023-10-02T22:35:26.986927Z",
     "shell.execute_reply": "2023-10-02T22:35:26.986288Z"
    }
   },
   "outputs": [],
   "source": [
    "'SpongeBob SquarePants'.lower()"
   ]
  },
  {
   "cell_type": "markdown",
   "id": "03e4feaf",
   "metadata": {
    "slideshow": {
     "slide_type": "subslide"
    }
   },
   "source": [
    "`s.startswith(<search string>)` and `s.endswith(<search string>)`: return True if a string starts/ends with a substring"
   ]
  },
  {
   "cell_type": "code",
   "execution_count": null,
   "id": "8967302d",
   "metadata": {
    "execution": {
     "iopub.execute_input": "2023-10-02T22:35:26.989926Z",
     "iopub.status.busy": "2023-10-02T22:35:26.989662Z",
     "iopub.status.idle": "2023-10-02T22:35:26.993753Z",
     "shell.execute_reply": "2023-10-02T22:35:26.993182Z"
    }
   },
   "outputs": [],
   "source": [
    "'SpongeBob SquarePants'.startswith(\"Sponge\")"
   ]
  },
  {
   "cell_type": "code",
   "execution_count": null,
   "id": "1d0f9a1c",
   "metadata": {
    "execution": {
     "iopub.execute_input": "2023-10-02T22:35:26.996712Z",
     "iopub.status.busy": "2023-10-02T22:35:26.996474Z",
     "iopub.status.idle": "2023-10-02T22:35:27.000427Z",
     "shell.execute_reply": "2023-10-02T22:35:26.999875Z"
    }
   },
   "outputs": [],
   "source": [
    "# case matters!\n",
    "'SpongeBob SquarePants'.endswith(\"pants\")"
   ]
  },
  {
   "cell_type": "markdown",
   "id": "132f9706",
   "metadata": {
    "slideshow": {
     "slide_type": "slide"
    }
   },
   "source": [
    "# String formatting\n",
    "\n",
    "Let's look at [**f-strings**](https://docs.python.org/3/tutorial/inputoutput.html#formatted-string-literals), a more flexible, usable way to format strings for output.\n",
    "\n",
    "Adding an `f` before a string lets you you include the value of Python expressions inside a string. Here's an example:"
   ]
  },
  {
   "cell_type": "code",
   "execution_count": null,
   "id": "b6904c6b",
   "metadata": {
    "execution": {
     "iopub.execute_input": "2023-10-02T22:35:27.003302Z",
     "iopub.status.busy": "2023-10-02T22:35:27.003053Z",
     "iopub.status.idle": "2023-10-02T22:35:27.006247Z",
     "shell.execute_reply": "2023-10-02T22:35:27.005598Z"
    }
   },
   "outputs": [],
   "source": [
    "name = \"Spongebob\"\n",
    "age = 72\n",
    "foods = [\"Cake\", \"Pie\", \"Peanut Butter\"]"
   ]
  },
  {
   "cell_type": "code",
   "execution_count": null,
   "id": "9a4d06f7",
   "metadata": {
    "execution": {
     "iopub.execute_input": "2023-10-02T22:35:27.008946Z",
     "iopub.status.busy": "2023-10-02T22:35:27.008706Z",
     "iopub.status.idle": "2023-10-02T22:35:27.012114Z",
     "shell.execute_reply": "2023-10-02T22:35:27.011595Z"
    }
   },
   "outputs": [],
   "source": [
    "# Old way:\n",
    "print(\"Hi, I am \" + name + \", I'm \" + str(age) + \" years old, and I like \" + str(len(foods)) + \" foods: \" + ', '.join(foods) + \".\")"
   ]
  },
  {
   "cell_type": "code",
   "execution_count": null,
   "id": "701b0172",
   "metadata": {
    "execution": {
     "iopub.execute_input": "2023-10-02T22:35:27.015043Z",
     "iopub.status.busy": "2023-10-02T22:35:27.014798Z",
     "iopub.status.idle": "2023-10-02T22:35:27.018263Z",
     "shell.execute_reply": "2023-10-02T22:35:27.017725Z"
    }
   },
   "outputs": [],
   "source": [
    "# Using f-strings\n",
    "print(f\"Hi, I am {name}, I'm {age} years old, and I like {len(foods)} foods: {', '.join(foods)}.\")"
   ]
  },
  {
   "cell_type": "code",
   "execution_count": null,
   "id": "bd918d54",
   "metadata": {
    "execution": {
     "iopub.execute_input": "2023-10-02T22:35:27.021247Z",
     "iopub.status.busy": "2023-10-02T22:35:27.020992Z",
     "iopub.status.idle": "2023-10-02T22:35:27.024485Z",
     "shell.execute_reply": "2023-10-02T22:35:27.023889Z"
    },
    "slideshow": {
     "slide_type": "subslide"
    }
   },
   "outputs": [],
   "source": [
    "# Using f-strings\n",
    "print(f\"Hi, I am {name}, I'm {age} years old, and I like {len(foods)} foods: {', '.join(foods)}.\")"
   ]
  },
  {
   "cell_type": "markdown",
   "id": "52514359",
   "metadata": {},
   "source": [
    "Note that we were able to include an integer (`age`) without an explicit type conversion. \n",
    "\n",
    "This makes printing **much** easier, no more awful lines like this: `print(\"Some text: \" + str(some_number) + \".\")`"
   ]
  },
  {
   "cell_type": "markdown",
   "id": "c9651a22",
   "metadata": {
    "slideshow": {
     "slide_type": "subslide"
    }
   },
   "source": [
    "One more formatting trick: to control the number of decimal places, add `:.<num decimals>f` after an expression in an f-string.\n",
    "\n",
    "For example:"
   ]
  },
  {
   "cell_type": "code",
   "execution_count": null,
   "id": "161a52f7",
   "metadata": {
    "execution": {
     "iopub.execute_input": "2023-10-02T22:35:27.027399Z",
     "iopub.status.busy": "2023-10-02T22:35:27.027165Z",
     "iopub.status.idle": "2023-10-02T22:35:27.030465Z",
     "shell.execute_reply": "2023-10-02T22:35:27.029927Z"
    }
   },
   "outputs": [],
   "source": [
    "fraction = 1/3\n",
    "print(fraction)\n",
    "print(f\"{fraction:.2f}\")"
   ]
  },
  {
   "cell_type": "markdown",
   "id": "ce5c595a",
   "metadata": {
    "slideshow": {
     "slide_type": "subslide"
    }
   },
   "source": [
    "The [official documentation on string formatting](https://docs.python.org/3/reference/lexical_analysis.html#f-strings) is extremely obtuse. Try [fstring.help](https://fstring.help/) for a deeper tutorial, and [fstring.help/cheat](https://fstring.help/cheat/) instead for a quick cheat sheet."
   ]
  },
  {
   "cell_type": "markdown",
   "id": "f63edc4d",
   "metadata": {
    "slideshow": {
     "slide_type": "slide"
    }
   },
   "source": [
    "# Iterables\n",
    "\n",
    "An **iterable** object is an object capable of returning its members one at a time. \n",
    "\n",
    "All sequence types are **iterables**. Other types can be iterable too. \n",
    "\n",
    "An **iterator** is an object you use to iterate over an **iterable**.\n",
    "\n",
    "Some examples of non-sequence iterables:\n",
    "* Dictionaries (a data type we'll see in a few lectures)\n",
    "* Reading a file line-by-line\n",
    "* A \"generator\" - an iterator that generates a sequence on-demand, as each item is requested."
   ]
  },
  {
   "cell_type": "markdown",
   "id": "548058cc",
   "metadata": {
    "slideshow": {
     "slide_type": "subslide"
    }
   },
   "source": [
    "The details of iterables and iterators are beyond the scope of this class. The important things to know for now are:\n",
    "* **Iterables** are objects that can return their members one at a time\n",
    "* All iterables can be iterated over in a `for` loop.\n",
    "\n",
    "If you want to learn about this topic, this is a decent introductory resource: [Towards Data Science](https://towardsdatascience.com/python-basics-iteration-and-looping-6ca63b30835c). "
   ]
  },
  {
   "cell_type": "markdown",
   "id": "cf56a774",
   "metadata": {
    "slideshow": {
     "slide_type": "subslide"
    }
   },
   "source": [
    "# `for` revisited, again\n",
    "\n",
    "Last time, I promise. \n",
    "\n",
    "```\n",
    "for <var> in <iterable>:\n",
    "   statement(s)\n",
    "```\n",
    "\n",
    "`for` loops can loop over anything that is an **iterable**. This capture more than just **sequences**."
   ]
  },
  {
   "cell_type": "markdown",
   "id": "de8df1d7",
   "metadata": {
    "slideshow": {
     "slide_type": "slide"
    }
   },
   "source": [
    "# Exercise\n",
    "\n",
    "Write a word guessing game where the user guesses one letter at a time to try to guess a secret word. Show the user's progress between each guess."
   ]
  },
  {
   "cell_type": "markdown",
   "id": "79bb7d87",
   "metadata": {
    "slideshow": {
     "slide_type": "subslide"
    }
   },
   "source": [
    "## Functional decomposition\n",
    "\n",
    "This time, let's write the code from the outside in:"
   ]
  },
  {
   "cell_type": "code",
   "execution_count": null,
   "id": "e0491c9b",
   "metadata": {
    "execution": {
     "iopub.execute_input": "2023-10-02T22:35:27.033642Z",
     "iopub.status.busy": "2023-10-02T22:35:27.033404Z",
     "iopub.status.idle": "2023-10-02T22:35:27.036905Z",
     "shell.execute_reply": "2023-10-02T22:35:27.036333Z"
    }
   },
   "outputs": [],
   "source": [
    "def play_game():\n",
    "    word = \"secret\"\n",
    "    progress = [\"_\", \"_\", \"_\", \"_\", \"_\", \"_\"]\n",
    "    while True:\n",
    "        display_progress(progress)\n",
    "        guess = get_guess()\n",
    "        process_guess(word, progress)"
   ]
  },
  {
   "cell_type": "markdown",
   "id": "0660c9c1",
   "metadata": {
    "slideshow": {
     "slide_type": "fragment"
    }
   },
   "source": [
    "We've written the outer code, and now we have an idea of which helper functions will be most useful."
   ]
  },
  {
   "cell_type": "code",
   "execution_count": null,
   "id": "65b4a901",
   "metadata": {
    "execution": {
     "iopub.execute_input": "2023-10-02T22:35:27.039692Z",
     "iopub.status.busy": "2023-10-02T22:35:27.039454Z",
     "iopub.status.idle": "2023-10-02T22:35:27.042613Z",
     "shell.execute_reply": "2023-10-02T22:35:27.042013Z"
    },
    "slideshow": {
     "slide_type": "subslide"
    }
   },
   "outputs": [],
   "source": [
    "def display_progress(progress):\n",
    "    for p in progress:\n",
    "        print(p, end=\" \")\n",
    "       "
   ]
  },
  {
   "cell_type": "code",
   "execution_count": null,
   "id": "a0fc86db",
   "metadata": {
    "execution": {
     "iopub.execute_input": "2023-10-02T22:35:27.045374Z",
     "iopub.status.busy": "2023-10-02T22:35:27.045131Z",
     "iopub.status.idle": "2023-10-02T22:35:27.048424Z",
     "shell.execute_reply": "2023-10-02T22:35:27.047907Z"
    }
   },
   "outputs": [],
   "source": [
    "display_progress([\"_\", \"a\", \"b\", \"_\"])"
   ]
  },
  {
   "cell_type": "markdown",
   "id": "1c8ecc33",
   "metadata": {
    "slideshow": {
     "slide_type": "subslide"
    }
   },
   "source": [
    "Another way, using the string method `join` that we just saw:"
   ]
  },
  {
   "cell_type": "code",
   "execution_count": null,
   "id": "acd6e978",
   "metadata": {
    "execution": {
     "iopub.execute_input": "2023-10-02T22:35:27.051430Z",
     "iopub.status.busy": "2023-10-02T22:35:27.051043Z",
     "iopub.status.idle": "2023-10-02T22:35:27.054083Z",
     "shell.execute_reply": "2023-10-02T22:35:27.053562Z"
    }
   },
   "outputs": [],
   "source": [
    "def display_progress(progress):\n",
    "    print(\" \".join(progress))"
   ]
  },
  {
   "cell_type": "code",
   "execution_count": null,
   "id": "17ba8366",
   "metadata": {
    "execution": {
     "iopub.execute_input": "2023-10-02T22:35:27.056794Z",
     "iopub.status.busy": "2023-10-02T22:35:27.056550Z",
     "iopub.status.idle": "2023-10-02T22:35:27.059804Z",
     "shell.execute_reply": "2023-10-02T22:35:27.059222Z"
    }
   },
   "outputs": [],
   "source": [
    "display_progress([\"_\", \"a\", \"b\", \"_\"])"
   ]
  },
  {
   "cell_type": "code",
   "execution_count": null,
   "id": "aed28198",
   "metadata": {
    "execution": {
     "iopub.execute_input": "2023-10-02T22:35:27.062544Z",
     "iopub.status.busy": "2023-10-02T22:35:27.062302Z",
     "iopub.status.idle": "2023-10-02T22:35:27.065938Z",
     "shell.execute_reply": "2023-10-02T22:35:27.065340Z"
    },
    "slideshow": {
     "slide_type": "subslide"
    }
   },
   "outputs": [],
   "source": [
    "def play_game():\n",
    "    word = \"secret\"\n",
    "    progress = [\"_\", \"_\", \"_\", \"_\", \"_\", \"_\"]\n",
    "    while True:\n",
    "        display_progress(progress)\n",
    "        guess = get_guess()\n",
    "        process_guess(word, progress)"
   ]
  },
  {
   "cell_type": "markdown",
   "id": "acb11581",
   "metadata": {},
   "source": [
    "Next up, `get_guess()`..."
   ]
  },
  {
   "cell_type": "code",
   "execution_count": null,
   "id": "c8d76251",
   "metadata": {
    "execution": {
     "iopub.execute_input": "2023-10-02T22:35:27.068986Z",
     "iopub.status.busy": "2023-10-02T22:35:27.068725Z",
     "iopub.status.idle": "2023-10-02T22:35:27.071715Z",
     "shell.execute_reply": "2023-10-02T22:35:27.071082Z"
    },
    "slideshow": {
     "slide_type": "subslide"
    }
   },
   "outputs": [],
   "source": [
    "def get_guess():\n",
    "    return input(\"Guess a letter! \")"
   ]
  },
  {
   "cell_type": "code",
   "execution_count": null,
   "id": "da6e5ec1",
   "metadata": {
    "execution": {
     "iopub.execute_input": "2023-10-02T22:35:27.074481Z",
     "iopub.status.busy": "2023-10-02T22:35:27.074235Z",
     "iopub.status.idle": "2023-10-02T22:35:27.150763Z",
     "shell.execute_reply": "2023-10-02T22:35:27.149840Z"
    }
   },
   "outputs": [],
   "source": [
    "get_guess()"
   ]
  },
  {
   "cell_type": "code",
   "execution_count": null,
   "id": "b948224e",
   "metadata": {
    "execution": {
     "iopub.execute_input": "2023-10-02T22:35:27.154582Z",
     "iopub.status.busy": "2023-10-02T22:35:27.154253Z",
     "iopub.status.idle": "2023-10-02T22:35:27.158979Z",
     "shell.execute_reply": "2023-10-02T22:35:27.158094Z"
    },
    "slideshow": {
     "slide_type": "subslide"
    }
   },
   "outputs": [],
   "source": [
    "def get_guess():\n",
    "    while True:\n",
    "        guess = input(\"Guess a letter! \")\n",
    "        if len(guess) == 1 and guess.isalpha():\n",
    "            return guess\n",
    "        else:\n",
    "            print(\"Invalid guess, please guess a single letter\")\n",
    "            "
   ]
  },
  {
   "cell_type": "code",
   "execution_count": null,
   "id": "62bd5be3",
   "metadata": {
    "execution": {
     "iopub.execute_input": "2023-10-02T22:35:27.162481Z",
     "iopub.status.busy": "2023-10-02T22:35:27.162128Z",
     "iopub.status.idle": "2023-10-02T22:35:27.192898Z",
     "shell.execute_reply": "2023-10-02T22:35:27.192129Z"
    }
   },
   "outputs": [],
   "source": [
    "get_guess()"
   ]
  },
  {
   "cell_type": "code",
   "execution_count": null,
   "id": "99dfc133",
   "metadata": {
    "execution": {
     "iopub.execute_input": "2023-10-02T22:35:27.196214Z",
     "iopub.status.busy": "2023-10-02T22:35:27.195954Z",
     "iopub.status.idle": "2023-10-02T22:35:27.199798Z",
     "shell.execute_reply": "2023-10-02T22:35:27.199127Z"
    },
    "slideshow": {
     "slide_type": "subslide"
    }
   },
   "outputs": [],
   "source": [
    "def play_game():\n",
    "    word = \"secret\"\n",
    "    progress = [\"_\", \"_\", \"_\", \"_\", \"_\", \"_\"]\n",
    "    while True:\n",
    "        display_progress(progress)\n",
    "        guess = get_guess()\n",
    "        process_guess(guess, word, progress)"
   ]
  },
  {
   "cell_type": "markdown",
   "id": "76bcc643",
   "metadata": {},
   "source": [
    "Next up, `process_guess()`, the trickiest part."
   ]
  },
  {
   "cell_type": "markdown",
   "id": "81372562",
   "metadata": {
    "slideshow": {
     "slide_type": "subslide"
    }
   },
   "source": [
    "Walk through each letter of the secret word. If our guess matches that letter, then put that letter into `progress` at the correct index."
   ]
  },
  {
   "cell_type": "code",
   "execution_count": null,
   "id": "1be8fedc",
   "metadata": {
    "execution": {
     "iopub.execute_input": "2023-10-02T22:35:27.202964Z",
     "iopub.status.busy": "2023-10-02T22:35:27.202698Z",
     "iopub.status.idle": "2023-10-02T22:35:27.206375Z",
     "shell.execute_reply": "2023-10-02T22:35:27.205744Z"
    },
    "slideshow": {
     "slide_type": "-"
    }
   },
   "outputs": [],
   "source": [
    "def process_guess(guess, word, progress):\n",
    "    for index in range(len(word)):\n",
    "        if guess == word[index]:\n",
    "            progress[index] = guess\n",
    "            "
   ]
  },
  {
   "cell_type": "code",
   "execution_count": null,
   "id": "cdb833c7",
   "metadata": {
    "execution": {
     "iopub.execute_input": "2023-10-02T22:35:27.209468Z",
     "iopub.status.busy": "2023-10-02T22:35:27.209203Z",
     "iopub.status.idle": "2023-10-02T22:35:27.213430Z",
     "shell.execute_reply": "2023-10-02T22:35:27.212763Z"
    }
   },
   "outputs": [],
   "source": [
    "progress = [\"s\", \"_\", \"_\", \"r\", \"_\", \"t\"]\n",
    "process_guess('e', 'secret', progress)\n",
    "print(progress)"
   ]
  },
  {
   "cell_type": "markdown",
   "id": "72affd45",
   "metadata": {
    "slideshow": {
     "slide_type": "subslide"
    }
   },
   "source": [
    "Each piece seems to work on its own, lets test it all together"
   ]
  },
  {
   "cell_type": "code",
   "execution_count": null,
   "id": "41a8b676",
   "metadata": {
    "execution": {
     "iopub.execute_input": "2023-10-02T22:35:27.217103Z",
     "iopub.status.busy": "2023-10-02T22:35:27.216808Z",
     "iopub.status.idle": "2023-10-02T22:35:27.220571Z",
     "shell.execute_reply": "2023-10-02T22:35:27.219955Z"
    },
    "slideshow": {
     "slide_type": "-"
    }
   },
   "outputs": [],
   "source": [
    "def play_game():\n",
    "    word = \"secret\"\n",
    "    progress = [\"_\", \"_\", \"_\", \"_\", \"_\", \"_\"]\n",
    "    while True:\n",
    "        display_progress(progress)\n",
    "        guess = get_guess()\n",
    "        process_guess(guess, word, progress)"
   ]
  },
  {
   "cell_type": "code",
   "execution_count": null,
   "id": "f60f5ed9",
   "metadata": {
    "execution": {
     "iopub.execute_input": "2023-10-02T22:35:27.223551Z",
     "iopub.status.busy": "2023-10-02T22:35:27.223287Z",
     "iopub.status.idle": "2023-10-02T22:35:27.258042Z",
     "shell.execute_reply": "2023-10-02T22:35:27.257051Z"
    }
   },
   "outputs": [],
   "source": [
    "play_game()"
   ]
  },
  {
   "cell_type": "markdown",
   "id": "1fc365d8",
   "metadata": {
    "slideshow": {
     "slide_type": "subslide"
    }
   },
   "source": [
    "Oops, we forgot to end the game!"
   ]
  },
  {
   "cell_type": "code",
   "execution_count": null,
   "id": "ededa205",
   "metadata": {
    "execution": {
     "iopub.execute_input": "2023-10-02T22:35:27.261533Z",
     "iopub.status.busy": "2023-10-02T22:35:27.261249Z",
     "iopub.status.idle": "2023-10-02T22:35:27.265489Z",
     "shell.execute_reply": "2023-10-02T22:35:27.264836Z"
    },
    "slideshow": {
     "slide_type": "-"
    }
   },
   "outputs": [],
   "source": [
    "def play_game():\n",
    "    word = \"secret\"\n",
    "    progress = [\"_\", \"_\", \"_\", \"_\", \"_\", \"_\"]\n",
    "    while True:\n",
    "        display_progress(progress)\n",
    "        guess = get_guess()\n",
    "        process_guess(guess, word, progress)\n",
    "        if game_over(progress):\n",
    "            print(\"You win!\")\n",
    "            break"
   ]
  },
  {
   "cell_type": "code",
   "execution_count": null,
   "id": "c803c968",
   "metadata": {
    "execution": {
     "iopub.execute_input": "2023-10-02T22:35:27.268590Z",
     "iopub.status.busy": "2023-10-02T22:35:27.268333Z",
     "iopub.status.idle": "2023-10-02T22:35:27.271757Z",
     "shell.execute_reply": "2023-10-02T22:35:27.271124Z"
    },
    "slideshow": {
     "slide_type": "subslide"
    }
   },
   "outputs": [],
   "source": [
    "def game_over(progress):\n",
    "    for letter in progress:\n",
    "        if letter == \"_\":\n",
    "            return False\n",
    "    return True"
   ]
  },
  {
   "cell_type": "code",
   "execution_count": null,
   "id": "83056474",
   "metadata": {
    "execution": {
     "iopub.execute_input": "2023-10-02T22:35:27.274632Z",
     "iopub.status.busy": "2023-10-02T22:35:27.274381Z",
     "iopub.status.idle": "2023-10-02T22:35:27.278851Z",
     "shell.execute_reply": "2023-10-02T22:35:27.278232Z"
    }
   },
   "outputs": [],
   "source": [
    "game_over([\"a\", \"b\", \"c\"])"
   ]
  },
  {
   "cell_type": "code",
   "execution_count": null,
   "id": "c3d8565b",
   "metadata": {
    "execution": {
     "iopub.execute_input": "2023-10-02T22:35:27.281890Z",
     "iopub.status.busy": "2023-10-02T22:35:27.281478Z",
     "iopub.status.idle": "2023-10-02T22:35:27.285605Z",
     "shell.execute_reply": "2023-10-02T22:35:27.285073Z"
    }
   },
   "outputs": [],
   "source": [
    "game_over([\"a\", \"_\", \"c\"])"
   ]
  },
  {
   "cell_type": "markdown",
   "id": "678124c7",
   "metadata": {
    "slideshow": {
     "slide_type": "subslide"
    }
   },
   "source": [
    "Or, again, a shorter way using one of the sequence operations: `in`"
   ]
  },
  {
   "cell_type": "code",
   "execution_count": null,
   "id": "d26ad834",
   "metadata": {
    "execution": {
     "iopub.execute_input": "2023-10-02T22:35:27.288602Z",
     "iopub.status.busy": "2023-10-02T22:35:27.288293Z",
     "iopub.status.idle": "2023-10-02T22:35:27.291466Z",
     "shell.execute_reply": "2023-10-02T22:35:27.290921Z"
    }
   },
   "outputs": [],
   "source": [
    "def game_over(progress):\n",
    "    return \"_\" not in progress"
   ]
  },
  {
   "cell_type": "code",
   "execution_count": null,
   "id": "e57b362e",
   "metadata": {
    "execution": {
     "iopub.execute_input": "2023-10-02T22:35:27.294208Z",
     "iopub.status.busy": "2023-10-02T22:35:27.293965Z",
     "iopub.status.idle": "2023-10-02T22:35:27.298169Z",
     "shell.execute_reply": "2023-10-02T22:35:27.297588Z"
    }
   },
   "outputs": [],
   "source": [
    "game_over([\"a\", \"b\", \"c\"])"
   ]
  },
  {
   "cell_type": "code",
   "execution_count": null,
   "id": "04d0ff1a",
   "metadata": {
    "execution": {
     "iopub.execute_input": "2023-10-02T22:35:27.300867Z",
     "iopub.status.busy": "2023-10-02T22:35:27.300630Z",
     "iopub.status.idle": "2023-10-02T22:35:27.304710Z",
     "shell.execute_reply": "2023-10-02T22:35:27.304136Z"
    }
   },
   "outputs": [],
   "source": [
    "game_over([\"a\", \"_\", \"c\"])"
   ]
  },
  {
   "cell_type": "code",
   "execution_count": null,
   "id": "cdfaefef",
   "metadata": {
    "execution": {
     "iopub.execute_input": "2023-10-02T22:35:27.307505Z",
     "iopub.status.busy": "2023-10-02T22:35:27.307261Z",
     "iopub.status.idle": "2023-10-02T22:35:27.311000Z",
     "shell.execute_reply": "2023-10-02T22:35:27.310442Z"
    },
    "slideshow": {
     "slide_type": "subslide"
    }
   },
   "outputs": [],
   "source": [
    "def play_game():\n",
    "    word = \"secret\"\n",
    "    progress = [\"_\", \"_\", \"_\", \"_\", \"_\", \"_\"]\n",
    "    while True:\n",
    "        display_progress(progress)\n",
    "        guess = get_guess()\n",
    "        process_guess(guess, word, progress)\n",
    "        if game_over(progress):\n",
    "            print(\"You win!\")\n",
    "            break"
   ]
  },
  {
   "cell_type": "code",
   "execution_count": null,
   "id": "16e8e03a",
   "metadata": {
    "execution": {
     "iopub.execute_input": "2023-10-02T22:35:27.313787Z",
     "iopub.status.busy": "2023-10-02T22:35:27.313545Z",
     "iopub.status.idle": "2023-10-02T22:35:27.346465Z",
     "shell.execute_reply": "2023-10-02T22:35:27.345364Z"
    }
   },
   "outputs": [],
   "source": [
    "play_game()"
   ]
  },
  {
   "cell_type": "markdown",
   "id": "f1c20093",
   "metadata": {
    "slideshow": {
     "slide_type": "subslide"
    }
   },
   "source": [
    "What if we want to use a different word? We can parameterize `play_game`:"
   ]
  },
  {
   "cell_type": "code",
   "execution_count": null,
   "id": "471a67a9",
   "metadata": {
    "execution": {
     "iopub.execute_input": "2023-10-02T22:35:27.350245Z",
     "iopub.status.busy": "2023-10-02T22:35:27.349934Z",
     "iopub.status.idle": "2023-10-02T22:35:27.354623Z",
     "shell.execute_reply": "2023-10-02T22:35:27.354029Z"
    }
   },
   "outputs": [],
   "source": [
    "def play_game(word):\n",
    "    progress = [\"_\"] * len(word)\n",
    "    while True:\n",
    "        display_progress(progress)\n",
    "        guess = get_guess()\n",
    "        process_guess(guess, word, progress)\n",
    "        if game_over(progress):\n",
    "            print(\"You win!\")\n",
    "            break"
   ]
  },
  {
   "cell_type": "code",
   "execution_count": null,
   "id": "6e227c8d",
   "metadata": {
    "execution": {
     "iopub.execute_input": "2023-10-02T22:35:27.357878Z",
     "iopub.status.busy": "2023-10-02T22:35:27.357613Z",
     "iopub.status.idle": "2023-10-02T22:35:27.391389Z",
     "shell.execute_reply": "2023-10-02T22:35:27.390172Z"
    }
   },
   "outputs": [],
   "source": [
    "play_game(\"abba\")"
   ]
  },
  {
   "cell_type": "markdown",
   "id": "498e8ad5",
   "metadata": {},
   "source": [
    "More things to think about:\n",
    "* How would you keep track of how many incorrect guesses a user had made, and stop after 5 incorrect?\n",
    "* How would you keep track of which letters the user had already guessed?\n",
    "* How could you handle the user entering an upper case letter?"
   ]
  }
 ],
 "metadata": {
  "celltoolbar": "Slideshow",
  "kernelspec": {
   "display_name": "Python 3 (ipykernel)",
   "language": "python",
   "name": "python3"
  },
  "language_info": {
   "codemirror_mode": {
    "name": "ipython",
    "version": 3
   },
   "file_extension": ".py",
   "mimetype": "text/x-python",
   "name": "python",
   "nbconvert_exporter": "python",
   "pygments_lexer": "ipython3",
   "version": "3.10.9"
  }
 },
 "nbformat": 4,
 "nbformat_minor": 5
}
