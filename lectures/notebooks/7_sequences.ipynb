{
 "cells": [
  {
   "cell_type": "markdown",
   "id": "1ee8a1d2",
   "metadata": {
    "slideshow": {
     "slide_type": "slide"
    }
   },
   "source": [
    "# Sequences\n",
    "\n",
    "<style>\n",
    "section.present > section.present { \n",
    "    max-height: 90%; \n",
    "    overflow-y: scroll;\n",
    "}\n",
    "</style>\n",
    "\n",
    "<small><a href=\"https://colab.research.google.com/github/brandeis-jdelfino/cosi-10a/blob/main/lectures/notebooks/7_sequences.ipynb\">Link to interactive slides on Google Colab</a></small>"
   ]
  },
  {
   "cell_type": "markdown",
   "id": "61f0aac4",
   "metadata": {
    "slideshow": {
     "slide_type": "slide"
    }
   },
   "source": [
    "# Sequence types\n",
    "\n",
    "We've looked at a few **sequence types** already - can you guess which types are sequence types?"
   ]
  },
  {
   "cell_type": "markdown",
   "id": "305139c4",
   "metadata": {
    "slideshow": {
     "slide_type": "fragment"
    }
   },
   "source": [
    "* **Sequence types** are data types that represent sequences of things. \n",
    "  * `str` - sequence of characters\n",
    "  * `list` - sequence of values\n",
    "  * `range` - (as in: `for i in range(5)`!) generated sequence of integers \n",
    "  * `tuple` - coming soon, similar to `list`\n",
    "  \n",
    "Today, we'll learn about some common operations that work on some/all sequence types, and learn more about strings."
   ]
  },
  {
   "cell_type": "markdown",
   "id": "421d62e1",
   "metadata": {},
   "source": [
    "# Tuples\n",
    "\n",
    "Tuples are a sequence type. They are almost the same as lists, with a few small differences:\n",
    "* Tuples are created and represented with parentheses `(` `)` instead of brackets `[` `]`\n",
    "* Tuples are **immutable**. This means they can't change after creation.\n",
    "  * You can't add, remove, or change the items a tuple contains."
   ]
  },
  {
   "cell_type": "code",
   "execution_count": null,
   "id": "735ef902",
   "metadata": {
    "execution": {
     "iopub.execute_input": "2023-06-17T16:16:37.536380Z",
     "iopub.status.busy": "2023-06-17T16:16:37.535931Z",
     "iopub.status.idle": "2023-06-17T16:16:37.555150Z",
     "shell.execute_reply": "2023-06-17T16:16:37.554246Z"
    }
   },
   "outputs": [],
   "source": [
    "i_am_a_tuple = (1,2,3)\n",
    "print(i_am_a_tuple)"
   ]
  },
  {
   "cell_type": "code",
   "execution_count": null,
   "id": "1a2c6bc3",
   "metadata": {
    "execution": {
     "iopub.execute_input": "2023-06-17T16:16:37.560626Z",
     "iopub.status.busy": "2023-06-17T16:16:37.560139Z",
     "iopub.status.idle": "2023-06-17T16:16:37.565557Z",
     "shell.execute_reply": "2023-06-17T16:16:37.564653Z"
    }
   },
   "outputs": [],
   "source": [
    "im_also_a_tuple = (7,)\n",
    "print(im_also_a_tuple)"
   ]
  },
  {
   "cell_type": "code",
   "execution_count": null,
   "id": "7aabe9ea",
   "metadata": {
    "execution": {
     "iopub.execute_input": "2023-06-17T16:16:37.570874Z",
     "iopub.status.busy": "2023-06-17T16:16:37.570134Z",
     "iopub.status.idle": "2023-06-17T16:16:37.938411Z",
     "shell.execute_reply": "2023-06-17T16:16:37.937265Z"
    },
    "tags": [
     "raises-exception"
    ]
   },
   "outputs": [],
   "source": [
    "flavors = (\"chocolate\", \"vanilla\", \"strawberry\")\n",
    "flavors[1] = \"coffee\""
   ]
  },
  {
   "cell_type": "markdown",
   "id": "021042e9",
   "metadata": {
    "slideshow": {
     "slide_type": "subslide"
    }
   },
   "source": [
    "You can convert back and forth between lists and tuples, similar to converting between `int`, `float`, and `str`:"
   ]
  },
  {
   "cell_type": "code",
   "execution_count": null,
   "id": "d10b9b4b",
   "metadata": {
    "execution": {
     "iopub.execute_input": "2023-06-17T16:16:37.944097Z",
     "iopub.status.busy": "2023-06-17T16:16:37.943562Z",
     "iopub.status.idle": "2023-06-17T16:16:37.948863Z",
     "shell.execute_reply": "2023-06-17T16:16:37.948054Z"
    }
   },
   "outputs": [],
   "source": [
    "flavors = (\"chocolate\", \"vanilla\", \"strawberry\")\n",
    "print(flavors)\n"
   ]
  },
  {
   "cell_type": "code",
   "execution_count": null,
   "id": "9b5e5b14",
   "metadata": {
    "execution": {
     "iopub.execute_input": "2023-06-17T16:16:37.953735Z",
     "iopub.status.busy": "2023-06-17T16:16:37.953158Z",
     "iopub.status.idle": "2023-06-17T16:16:37.961301Z",
     "shell.execute_reply": "2023-06-17T16:16:37.959307Z"
    }
   },
   "outputs": [],
   "source": [
    "new_flavors = list(flavors)\n",
    "new_flavors[1] = \"coffee\"\n",
    "print(new_flavors)"
   ]
  },
  {
   "cell_type": "code",
   "execution_count": null,
   "id": "0f52cfa1",
   "metadata": {
    "execution": {
     "iopub.execute_input": "2023-06-17T16:16:37.966515Z",
     "iopub.status.busy": "2023-06-17T16:16:37.966002Z",
     "iopub.status.idle": "2023-06-17T16:16:37.973785Z",
     "shell.execute_reply": "2023-06-17T16:16:37.972077Z"
    }
   },
   "outputs": [],
   "source": [
    "flavors = tuple(new_flavors)\n",
    "print(flavors)"
   ]
  },
  {
   "cell_type": "markdown",
   "id": "2ba44185",
   "metadata": {
    "slideshow": {
     "slide_type": "subslide"
    }
   },
   "source": [
    "# `range` revisited\n",
    "\n",
    "`range` is actually a sequence type that generates integers:"
   ]
  },
  {
   "cell_type": "code",
   "execution_count": null,
   "id": "0d659e7d",
   "metadata": {
    "execution": {
     "iopub.execute_input": "2023-06-17T16:16:37.980662Z",
     "iopub.status.busy": "2023-06-17T16:16:37.980208Z",
     "iopub.status.idle": "2023-06-17T16:16:37.990310Z",
     "shell.execute_reply": "2023-06-17T16:16:37.989104Z"
    }
   },
   "outputs": [],
   "source": [
    "list(range(5))"
   ]
  },
  {
   "cell_type": "code",
   "execution_count": null,
   "id": "c7376843",
   "metadata": {
    "execution": {
     "iopub.execute_input": "2023-06-17T16:16:37.997010Z",
     "iopub.status.busy": "2023-06-17T16:16:37.996586Z",
     "iopub.status.idle": "2023-06-17T16:16:38.003105Z",
     "shell.execute_reply": "2023-06-17T16:16:38.001271Z"
    },
    "slideshow": {
     "slide_type": "subslide"
    }
   },
   "outputs": [],
   "source": [
    "for i in range(5):\n",
    "    print(i)"
   ]
  },
  {
   "cell_type": "markdown",
   "id": "c5c9c82f",
   "metadata": {},
   "source": [
    "behaves the same as:"
   ]
  },
  {
   "cell_type": "code",
   "execution_count": null,
   "id": "68330b5b",
   "metadata": {
    "execution": {
     "iopub.execute_input": "2023-06-17T16:16:38.008598Z",
     "iopub.status.busy": "2023-06-17T16:16:38.008070Z",
     "iopub.status.idle": "2023-06-17T16:16:38.015316Z",
     "shell.execute_reply": "2023-06-17T16:16:38.014268Z"
    }
   },
   "outputs": [],
   "source": [
    "for i in [0,1,2,3,4]:\n",
    "    print(i)"
   ]
  },
  {
   "cell_type": "code",
   "execution_count": null,
   "id": "55189b17",
   "metadata": {
    "execution": {
     "iopub.execute_input": "2023-06-17T16:16:38.021603Z",
     "iopub.status.busy": "2023-06-17T16:16:38.021136Z",
     "iopub.status.idle": "2023-06-17T16:16:38.028368Z",
     "shell.execute_reply": "2023-06-17T16:16:38.026200Z"
    },
    "slideshow": {
     "slide_type": "subslide"
    }
   },
   "outputs": [],
   "source": [
    "nums = [10,11,12,13]\n",
    "for i in range(len(nums)):\n",
    "    print(nums[i])"
   ]
  },
  {
   "cell_type": "markdown",
   "id": "a38b8afe",
   "metadata": {},
   "source": [
    "behaves the same as:"
   ]
  },
  {
   "cell_type": "code",
   "execution_count": null,
   "id": "4828c515",
   "metadata": {
    "execution": {
     "iopub.execute_input": "2023-06-17T16:16:38.034190Z",
     "iopub.status.busy": "2023-06-17T16:16:38.033733Z",
     "iopub.status.idle": "2023-06-17T16:16:38.040093Z",
     "shell.execute_reply": "2023-06-17T16:16:38.038857Z"
    }
   },
   "outputs": [],
   "source": [
    "nums = [10,11,12,13]\n",
    "for num in nums:\n",
    "    print(num)"
   ]
  },
  {
   "cell_type": "markdown",
   "id": "8a74db96",
   "metadata": {
    "slideshow": {
     "slide_type": "slide"
    }
   },
   "source": [
    "# `for` revisited\n",
    "\n",
    "It turns out that `for i in range(...):` is actually just a special case of the general `for` loop form:\n",
    "\n",
    "```\n",
    "for <var> in <sequence>:\n",
    "   statement(s)\n",
    "```\n",
    "\n",
    "A `for` loop can iterate over any **sequence**. It executes the code block once for each item in the sequence. \n",
    "\n",
    "This means you can use `for` loops on strings, lists, tuples, and ranges.\n"
   ]
  },
  {
   "cell_type": "code",
   "execution_count": null,
   "id": "986c5886",
   "metadata": {
    "execution": {
     "iopub.execute_input": "2023-06-17T16:16:38.047231Z",
     "iopub.status.busy": "2023-06-17T16:16:38.046722Z",
     "iopub.status.idle": "2023-06-17T16:16:38.053454Z",
     "shell.execute_reply": "2023-06-17T16:16:38.051369Z"
    }
   },
   "outputs": [],
   "source": [
    "for c in \"Hello, world!\":\n",
    "    print(c)"
   ]
  },
  {
   "cell_type": "markdown",
   "id": "e89972fe",
   "metadata": {
    "slideshow": {
     "slide_type": "slide"
    }
   },
   "source": [
    "# Common sequence operations\n",
    "\n",
    "These work on all sequence types! We've seen most of these before on strings or lists. They also work on tuples (and even ranges).\n",
    "\n",
    "| Operation | Description | Example | Result |\n",
    "| --- | :--- | --- | :--- |\n",
    "| `x in s` | True if an item of s is equal to x | `\"hi\" in [\"hello\", \"hi\", \"yo\"]` | True |\n",
    "| `x not in s` | Opposite of `in` | `\"hi\" not in [\"hello\", \"hi\", \"yo\"]` | False |\n",
    "| `s + t` | Concatenate (combine end-to-end) | `[1,2,3] + [4,5]` | `[1,2,3,4,5]` |\n",
    "| `s * n` | Replicate | `\"abc\" * 3` | `\"abcabcabc\"` |\n",
    "| `s[i]` | *i*th item of `s` | `\"hello\"[1]` | `\"e\"` |\n",
    "| `s[i:j]` | slice of `s` from `i` to `j` | `\"hello\"[1:3]` | `\"ell\"` |\n",
    "| `len(s)` | length of `s` | `len(\"hello\")` | `5` |\n",
    "| `min(s)` | The smallest item of `s` | `min([4, 8, 7, 3])` | `3` |\n",
    "| `max(s)` | The largest item of `s` | `max([4, 8, 7, 3])` | `8` |\n",
    "| `s.index(x)` | index of the first occurrence of `x` in `s` | `[4, 8, 7, 3].index(7)` | `2` |\n",
    "| `s.count(x)` | total number of occurrences of `x` in `s` | `\"hello\".count(\"l\")` | `2` |"
   ]
  },
  {
   "cell_type": "markdown",
   "id": "52731dc7",
   "metadata": {
    "slideshow": {
     "slide_type": "slide"
    }
   },
   "source": [
    "# More on Strings\n",
    "\n",
    "In addition to the common sequence operations, strings provide many other helpful methods.\n",
    "\n",
    "The full list can be found in the [official documentation on strings](https://docs.python.org/3/library/stdtypes.html#string-methods). \n",
    "\n",
    "We'll look through a few notable ones now."
   ]
  },
  {
   "cell_type": "markdown",
   "id": "c9e22759",
   "metadata": {
    "slideshow": {
     "slide_type": "subslide"
    }
   },
   "source": [
    "`s.split(<delim>)` splits a string into a list. By default it splits at any whitespace, or you can tell it which character(s) to split at:"
   ]
  },
  {
   "cell_type": "code",
   "execution_count": null,
   "id": "dca84053",
   "metadata": {
    "execution": {
     "iopub.execute_input": "2023-06-17T16:16:38.059348Z",
     "iopub.status.busy": "2023-06-17T16:16:38.058772Z",
     "iopub.status.idle": "2023-06-17T16:16:38.067399Z",
     "shell.execute_reply": "2023-06-17T16:16:38.066219Z"
    }
   },
   "outputs": [],
   "source": [
    "sentence = \"This is a sentence with lots of words\"\n",
    "sentence.split()"
   ]
  },
  {
   "cell_type": "code",
   "execution_count": null,
   "id": "243aa8e6",
   "metadata": {
    "execution": {
     "iopub.execute_input": "2023-06-17T16:16:38.073664Z",
     "iopub.status.busy": "2023-06-17T16:16:38.073182Z",
     "iopub.status.idle": "2023-06-17T16:16:38.081586Z",
     "shell.execute_reply": "2023-06-17T16:16:38.080255Z"
    }
   },
   "outputs": [],
   "source": [
    "sentence = \"This,is,a,sentence,with,lots,of,words\"\n",
    "sentence.split(\",\")"
   ]
  },
  {
   "cell_type": "markdown",
   "id": "0ecd3c75",
   "metadata": {
    "slideshow": {
     "slide_type": "subslide"
    }
   },
   "source": [
    "`s.join(<sequence of strings>)` joins a sequence of strings together into a single string, with `s` between each string."
   ]
  },
  {
   "cell_type": "code",
   "execution_count": null,
   "id": "19b24398",
   "metadata": {
    "execution": {
     "iopub.execute_input": "2023-06-17T16:16:38.086446Z",
     "iopub.status.busy": "2023-06-17T16:16:38.085987Z",
     "iopub.status.idle": "2023-06-17T16:16:38.094884Z",
     "shell.execute_reply": "2023-06-17T16:16:38.093283Z"
    }
   },
   "outputs": [],
   "source": [
    "' '.join([\"some\", \"words\", \"to\", \"stitch\", \"together\"])"
   ]
  },
  {
   "cell_type": "code",
   "execution_count": null,
   "id": "09b7f80b",
   "metadata": {
    "execution": {
     "iopub.execute_input": "2023-06-17T16:16:38.099991Z",
     "iopub.status.busy": "2023-06-17T16:16:38.099451Z",
     "iopub.status.idle": "2023-06-17T16:16:38.107172Z",
     "shell.execute_reply": "2023-06-17T16:16:38.106119Z"
    }
   },
   "outputs": [],
   "source": [
    "'%T%'.join([\"some\", \"words\", \"to\", \"stitch\", \"together\"])"
   ]
  },
  {
   "cell_type": "markdown",
   "id": "e14be3ca",
   "metadata": {
    "slideshow": {
     "slide_type": "subslide"
    }
   },
   "source": [
    "`s.isdigit()` returns `True` if all characters in the string are digits and there is at least one character, `False` otherwise."
   ]
  },
  {
   "cell_type": "code",
   "execution_count": null,
   "id": "5a165a55",
   "metadata": {
    "execution": {
     "iopub.execute_input": "2023-06-17T16:16:38.111977Z",
     "iopub.status.busy": "2023-06-17T16:16:38.111371Z",
     "iopub.status.idle": "2023-06-17T16:16:38.116524Z",
     "shell.execute_reply": "2023-06-17T16:16:38.115773Z"
    }
   },
   "outputs": [],
   "source": [
    "'12345678'.isdigit()"
   ]
  },
  {
   "cell_type": "code",
   "execution_count": null,
   "id": "1a389911",
   "metadata": {
    "execution": {
     "iopub.execute_input": "2023-06-17T16:16:38.122036Z",
     "iopub.status.busy": "2023-06-17T16:16:38.121449Z",
     "iopub.status.idle": "2023-06-17T16:16:38.130210Z",
     "shell.execute_reply": "2023-06-17T16:16:38.129144Z"
    }
   },
   "outputs": [],
   "source": [
    "'123abc'.isdigit()"
   ]
  },
  {
   "cell_type": "markdown",
   "id": "61ed7209",
   "metadata": {
    "slideshow": {
     "slide_type": "subslide"
    }
   },
   "source": [
    "`s.upper()` and `s.lower()` convert strings to upper and lower case"
   ]
  },
  {
   "cell_type": "code",
   "execution_count": null,
   "id": "1589ff4d",
   "metadata": {
    "execution": {
     "iopub.execute_input": "2023-06-17T16:16:38.135174Z",
     "iopub.status.busy": "2023-06-17T16:16:38.134693Z",
     "iopub.status.idle": "2023-06-17T16:16:38.141911Z",
     "shell.execute_reply": "2023-06-17T16:16:38.141116Z"
    }
   },
   "outputs": [],
   "source": [
    "'SpongeBob SquarePants'.upper()"
   ]
  },
  {
   "cell_type": "code",
   "execution_count": null,
   "id": "611b5025",
   "metadata": {
    "execution": {
     "iopub.execute_input": "2023-06-17T16:16:38.145785Z",
     "iopub.status.busy": "2023-06-17T16:16:38.145392Z",
     "iopub.status.idle": "2023-06-17T16:16:38.150839Z",
     "shell.execute_reply": "2023-06-17T16:16:38.149938Z"
    }
   },
   "outputs": [],
   "source": [
    "'SpongeBob SquarePants'.lower()"
   ]
  },
  {
   "cell_type": "markdown",
   "id": "03e4feaf",
   "metadata": {
    "slideshow": {
     "slide_type": "subslide"
    }
   },
   "source": [
    "`s.startswith(<search string>)` and `s.endswith(<search string>)`: return True if a string starts/ends with a substring"
   ]
  },
  {
   "cell_type": "code",
   "execution_count": null,
   "id": "8967302d",
   "metadata": {
    "execution": {
     "iopub.execute_input": "2023-06-17T16:16:38.154839Z",
     "iopub.status.busy": "2023-06-17T16:16:38.154481Z",
     "iopub.status.idle": "2023-06-17T16:16:38.159211Z",
     "shell.execute_reply": "2023-06-17T16:16:38.158583Z"
    }
   },
   "outputs": [],
   "source": [
    "'SpongeBob SquarePants'.startswith(\"Sponge\")"
   ]
  },
  {
   "cell_type": "code",
   "execution_count": null,
   "id": "1d0f9a1c",
   "metadata": {
    "execution": {
     "iopub.execute_input": "2023-06-17T16:16:38.162570Z",
     "iopub.status.busy": "2023-06-17T16:16:38.162273Z",
     "iopub.status.idle": "2023-06-17T16:16:38.166472Z",
     "shell.execute_reply": "2023-06-17T16:16:38.165925Z"
    }
   },
   "outputs": [],
   "source": [
    "# case matters!\n",
    "'SpongeBob SquarePants'.endswith(\"pants\")"
   ]
  },
  {
   "cell_type": "markdown",
   "id": "132f9706",
   "metadata": {
    "slideshow": {
     "slide_type": "slide"
    }
   },
   "source": [
    "# String formatting\n",
    "\n",
    "There are many, many ways to format strings for printing. Let's peek at a tiny slice that will make your life easier: formatted string literals, or [**f-strings**](https://docs.python.org/3/tutorial/inputoutput.html#formatted-string-literals).\n",
    "\n",
    "Adding an `f` before a string lets you you include the value of Python expressions inside a string. Here's an example:"
   ]
  },
  {
   "cell_type": "code",
   "execution_count": null,
   "id": "701b0172",
   "metadata": {
    "execution": {
     "iopub.execute_input": "2023-06-17T16:16:38.169683Z",
     "iopub.status.busy": "2023-06-17T16:16:38.169246Z",
     "iopub.status.idle": "2023-06-17T16:16:38.173203Z",
     "shell.execute_reply": "2023-06-17T16:16:38.172597Z"
    }
   },
   "outputs": [],
   "source": [
    "name = \"Spongebob\"\n",
    "age = 72\n",
    "foods = [\"Cake\", \"Pie\", \"Peanut Butter\"]\n",
    "print(f\"Hi, I am {name}, I'm {age} years old, and I like {len(foods)} foods: {', '.join(foods)}.\")"
   ]
  },
  {
   "cell_type": "markdown",
   "id": "52514359",
   "metadata": {},
   "source": [
    "Note that we were able to include an integer (`age`) without an explicit typ conversion. \n",
    "\n",
    "This makes printing **much** easier, no more awful lines like this: `print(\"Some text: \" + str(some_number) + \".\")`"
   ]
  },
  {
   "cell_type": "markdown",
   "id": "c9651a22",
   "metadata": {
    "slideshow": {
     "slide_type": "subslide"
    }
   },
   "source": [
    "One more formatting trick: to control the number of decimal places, add `:.<num decimals>f` after an expression in an f-string.\n",
    "\n",
    "For example:"
   ]
  },
  {
   "cell_type": "code",
   "execution_count": null,
   "id": "161a52f7",
   "metadata": {
    "execution": {
     "iopub.execute_input": "2023-06-17T16:16:38.176476Z",
     "iopub.status.busy": "2023-06-17T16:16:38.176213Z",
     "iopub.status.idle": "2023-06-17T16:16:38.179827Z",
     "shell.execute_reply": "2023-06-17T16:16:38.179232Z"
    }
   },
   "outputs": [],
   "source": [
    "fraction = 1/3\n",
    "print(fraction)\n",
    "print(f\"{fraction:.2f}\")"
   ]
  },
  {
   "cell_type": "markdown",
   "id": "ce5c595a",
   "metadata": {
    "slideshow": {
     "slide_type": "subslide"
    }
   },
   "source": [
    "The [official documentation on string formatting](https://docs.python.org/3/reference/lexical_analysis.html#f-strings) is extremely obtuse. Try [fstring.help](https://fstring.help/cheat/) instead for a decent reference."
   ]
  },
  {
   "cell_type": "markdown",
   "id": "745c64d9",
   "metadata": {},
   "source": [
    "Still to cover:\n",
    "* Strings (separate lecture)\n",
    "* References\n",
    "  * Step thru debugging with references? Python tutor better than repl.it"
   ]
  }
 ],
 "metadata": {
  "celltoolbar": "Slideshow",
  "kernelspec": {
   "display_name": "Python 3 (ipykernel)",
   "language": "python",
   "name": "python3"
  },
  "language_info": {
   "codemirror_mode": {
    "name": "ipython",
    "version": 3
   },
   "file_extension": ".py",
   "mimetype": "text/x-python",
   "name": "python",
   "nbconvert_exporter": "python",
   "pygments_lexer": "ipython3",
   "version": "3.10.9"
  }
 },
 "nbformat": 4,
 "nbformat_minor": 5
}
