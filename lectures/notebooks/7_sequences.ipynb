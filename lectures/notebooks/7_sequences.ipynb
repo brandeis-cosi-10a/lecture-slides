{
 "cells": [
  {
   "cell_type": "markdown",
   "id": "1ee8a1d2",
   "metadata": {
    "slideshow": {
     "slide_type": "slide"
    }
   },
   "source": [
    "# Sequences\n",
    "\n",
    "<style>\n",
    "section.present > section.present { \n",
    "    max-height: 90%; \n",
    "    overflow-y: scroll;\n",
    "}\n",
    "</style>\n",
    "\n",
    "<small><a href=\"https://colab.research.google.com/github/brandeis-jdelfino/cosi-10a/blob/main/lectures/notebooks/7_sequences.ipynb\">Link to interactive slides on Google Colab</a></small>"
   ]
  },
  {
   "cell_type": "markdown",
   "id": "0d68f822",
   "metadata": {},
   "source": [
    "To add: in-class exercises"
   ]
  },
  {
   "cell_type": "markdown",
   "id": "61f0aac4",
   "metadata": {
    "slideshow": {
     "slide_type": "slide"
    }
   },
   "source": [
    "# Sequence types\n",
    "\n",
    "We've looked at a few **sequence types** already - can you guess which types are sequence types?"
   ]
  },
  {
   "cell_type": "markdown",
   "id": "305139c4",
   "metadata": {
    "slideshow": {
     "slide_type": "fragment"
    }
   },
   "source": [
    "* **Sequence types** are data types that represent sequences of things. \n",
    "  * `str` - sequence of characters\n",
    "  * `list` - sequence of values\n",
    "  * `range` - (as in: `for i in range(5)`!) generated sequence of integers \n",
    "  * `tuple` - coming soon, similar to `list`\n",
    "  \n",
    "Today, we'll learn about tuples, some common operations that work on some/all sequence types, and more about strings."
   ]
  },
  {
   "cell_type": "markdown",
   "id": "421d62e1",
   "metadata": {},
   "source": [
    "# Tuples\n",
    "\n",
    "Tuples are a sequence type. They are almost the same as lists, with a few small differences:\n",
    "* Tuples are created and represented with parentheses `(` `)` instead of brackets `[` `]`\n",
    "* Tuples are **immutable**. This means they can't change after creation.\n",
    "  * You can't add, remove, or change the items a tuple contains."
   ]
  },
  {
   "cell_type": "code",
   "execution_count": null,
   "id": "735ef902",
   "metadata": {
    "execution": {
     "iopub.execute_input": "2023-06-29T15:34:49.709259Z",
     "iopub.status.busy": "2023-06-29T15:34:49.708876Z",
     "iopub.status.idle": "2023-06-29T15:34:49.720929Z",
     "shell.execute_reply": "2023-06-29T15:34:49.720224Z"
    }
   },
   "outputs": [],
   "source": [
    "i_am_a_tuple = (1,2,3)\n",
    "print(i_am_a_tuple)"
   ]
  },
  {
   "cell_type": "code",
   "execution_count": null,
   "id": "1a2c6bc3",
   "metadata": {
    "execution": {
     "iopub.execute_input": "2023-06-29T15:34:49.725009Z",
     "iopub.status.busy": "2023-06-29T15:34:49.724611Z",
     "iopub.status.idle": "2023-06-29T15:34:49.729104Z",
     "shell.execute_reply": "2023-06-29T15:34:49.728336Z"
    }
   },
   "outputs": [],
   "source": [
    "im_also_a_tuple = (7,)\n",
    "print(im_also_a_tuple)"
   ]
  },
  {
   "cell_type": "code",
   "execution_count": null,
   "id": "7aabe9ea",
   "metadata": {
    "execution": {
     "iopub.execute_input": "2023-06-29T15:34:49.732734Z",
     "iopub.status.busy": "2023-06-29T15:34:49.732405Z",
     "iopub.status.idle": "2023-06-29T15:34:50.024434Z",
     "shell.execute_reply": "2023-06-29T15:34:50.023840Z"
    },
    "tags": [
     "raises-exception"
    ]
   },
   "outputs": [],
   "source": [
    "flavors = (\"chocolate\", \"vanilla\", \"strawberry\")\n",
    "flavors[1] = \"coffee\""
   ]
  },
  {
   "cell_type": "markdown",
   "id": "021042e9",
   "metadata": {
    "slideshow": {
     "slide_type": "subslide"
    }
   },
   "source": [
    "You can convert back and forth between lists and tuples, similar to converting between `int`, `float`, and `str`:"
   ]
  },
  {
   "cell_type": "code",
   "execution_count": null,
   "id": "d10b9b4b",
   "metadata": {
    "execution": {
     "iopub.execute_input": "2023-06-29T15:34:50.027939Z",
     "iopub.status.busy": "2023-06-29T15:34:50.027610Z",
     "iopub.status.idle": "2023-06-29T15:34:50.032098Z",
     "shell.execute_reply": "2023-06-29T15:34:50.031325Z"
    }
   },
   "outputs": [],
   "source": [
    "flavors = (\"chocolate\", \"vanilla\", \"strawberry\")\n",
    "print(flavors)\n"
   ]
  },
  {
   "cell_type": "code",
   "execution_count": null,
   "id": "9b5e5b14",
   "metadata": {
    "execution": {
     "iopub.execute_input": "2023-06-29T15:34:50.035645Z",
     "iopub.status.busy": "2023-06-29T15:34:50.035092Z",
     "iopub.status.idle": "2023-06-29T15:34:50.039463Z",
     "shell.execute_reply": "2023-06-29T15:34:50.038617Z"
    }
   },
   "outputs": [],
   "source": [
    "new_flavors = list(flavors)\n",
    "new_flavors[1] = \"coffee\"\n",
    "print(new_flavors)"
   ]
  },
  {
   "cell_type": "code",
   "execution_count": null,
   "id": "0f52cfa1",
   "metadata": {
    "execution": {
     "iopub.execute_input": "2023-06-29T15:34:50.046283Z",
     "iopub.status.busy": "2023-06-29T15:34:50.045635Z",
     "iopub.status.idle": "2023-06-29T15:34:50.050447Z",
     "shell.execute_reply": "2023-06-29T15:34:50.049660Z"
    }
   },
   "outputs": [],
   "source": [
    "flavors = tuple(new_flavors)\n",
    "print(flavors)"
   ]
  },
  {
   "cell_type": "markdown",
   "id": "c7dc4477",
   "metadata": {},
   "source": [
    "## Returning multiple values with tuples\n",
    "\n",
    "A common use for tuples is to easily return multiple values from a function.\n",
    "\n",
    "Here's a function that takes in a list of strings, and returns a 2-tuple containing the longest name, and the length of the longest name:"
   ]
  },
  {
   "cell_type": "code",
   "execution_count": null,
   "id": "0abb937d",
   "metadata": {
    "execution": {
     "iopub.execute_input": "2023-06-29T15:34:50.055392Z",
     "iopub.status.busy": "2023-06-29T15:34:50.054948Z",
     "iopub.status.idle": "2023-06-29T15:34:50.059677Z",
     "shell.execute_reply": "2023-06-29T15:34:50.058701Z"
    }
   },
   "outputs": [],
   "source": [
    "def longest_name(names):\n",
    "    max_name = \"\"\n",
    "    for name in names:\n",
    "        if len(name) > len(max_name):\n",
    "            max_name = name\n",
    "    return max_name, len(max_name)"
   ]
  },
  {
   "cell_type": "code",
   "execution_count": null,
   "id": "01ba92ad",
   "metadata": {
    "execution": {
     "iopub.execute_input": "2023-06-29T15:34:50.064041Z",
     "iopub.status.busy": "2023-06-29T15:34:50.063658Z",
     "iopub.status.idle": "2023-06-29T15:34:50.073784Z",
     "shell.execute_reply": "2023-06-29T15:34:50.072951Z"
    }
   },
   "outputs": [],
   "source": [
    "longest_name([\"Bill Murray\", \"Spongebob\", \"Batman\"])"
   ]
  },
  {
   "cell_type": "markdown",
   "id": "61ba394f",
   "metadata": {
    "slideshow": {
     "slide_type": "subslide"
    }
   },
   "source": [
    "## Side note: Value unpacking\n",
    "\n",
    "Python has something called \"value unpacking\", which is a shortcut to assign multiple values to multiple variables at once. "
   ]
  },
  {
   "cell_type": "code",
   "execution_count": null,
   "id": "971a849c",
   "metadata": {
    "execution": {
     "iopub.execute_input": "2023-06-29T15:34:50.078025Z",
     "iopub.status.busy": "2023-06-29T15:34:50.077688Z",
     "iopub.status.idle": "2023-06-29T15:34:50.082154Z",
     "shell.execute_reply": "2023-06-29T15:34:50.081467Z"
    }
   },
   "outputs": [],
   "source": [
    "# without value unpacking\n",
    "result =  longest_name([\"Bill Murray\", \"Spongebob\", \"Batman\"])\n",
    "print(\"Longest name is: \\\"\" + result[0] + \"\\\" with a staggering length of \" + str(result[1]))"
   ]
  },
  {
   "cell_type": "code",
   "execution_count": null,
   "id": "7c85d836",
   "metadata": {
    "execution": {
     "iopub.execute_input": "2023-06-29T15:34:50.085654Z",
     "iopub.status.busy": "2023-06-29T15:34:50.085341Z",
     "iopub.status.idle": "2023-06-29T15:34:50.089986Z",
     "shell.execute_reply": "2023-06-29T15:34:50.089229Z"
    },
    "slideshow": {
     "slide_type": "-"
    }
   },
   "outputs": [],
   "source": [
    "# with value unpacking\n",
    "name, length = longest_name([\"Bill Murray\", \"Spongebob\", \"Batman\"])\n",
    "print(\"Longest name is: \\\"\" + name + \"\\\" with a staggering length of \" + str(length))"
   ]
  },
  {
   "cell_type": "markdown",
   "id": "61bb89d3",
   "metadata": {
    "slideshow": {
     "slide_type": "subslide"
    }
   },
   "source": [
    "Value unpacking works with any sequence type"
   ]
  },
  {
   "cell_type": "code",
   "execution_count": null,
   "id": "e020b2f6",
   "metadata": {
    "execution": {
     "iopub.execute_input": "2023-06-29T15:34:50.094172Z",
     "iopub.status.busy": "2023-06-29T15:34:50.093839Z",
     "iopub.status.idle": "2023-06-29T15:34:50.097919Z",
     "shell.execute_reply": "2023-06-29T15:34:50.097221Z"
    }
   },
   "outputs": [],
   "source": [
    "names = [\"Larry\", \"Moe\", \"Curly\"]\n",
    "stooge1, stooge2, stooge3 = names\n",
    "print(\"Stooge 1: \" + stooge1 + \", stooge 2: \" + stooge2 + \", stooge 3: \" + stooge3)"
   ]
  },
  {
   "cell_type": "code",
   "execution_count": null,
   "id": "13dece82",
   "metadata": {
    "execution": {
     "iopub.execute_input": "2023-06-29T15:34:50.101452Z",
     "iopub.status.busy": "2023-06-29T15:34:50.101155Z",
     "iopub.status.idle": "2023-06-29T15:34:50.105110Z",
     "shell.execute_reply": "2023-06-29T15:34:50.104338Z"
    }
   },
   "outputs": [],
   "source": [
    "a, b, c = \"xyz\"\n",
    "print(\"a: \" + a + \"; b: \" + b + \"; c: \" + c)"
   ]
  },
  {
   "cell_type": "markdown",
   "id": "4d870d3a",
   "metadata": {
    "slideshow": {
     "slide_type": "subslide"
    }
   },
   "source": [
    "The assignment will raise an error if the number of variables on the left doesn't match the length of the sequence being unpacked."
   ]
  },
  {
   "cell_type": "code",
   "execution_count": null,
   "id": "476bb441",
   "metadata": {
    "execution": {
     "iopub.execute_input": "2023-06-29T15:34:50.108522Z",
     "iopub.status.busy": "2023-06-29T15:34:50.108220Z",
     "iopub.status.idle": "2023-06-29T15:34:50.123891Z",
     "shell.execute_reply": "2023-06-29T15:34:50.123188Z"
    },
    "slideshow": {
     "slide_type": "-"
    },
    "tags": [
     "raises-exception"
    ]
   },
   "outputs": [],
   "source": [
    "a, b, c = (1, 2)"
   ]
  },
  {
   "cell_type": "code",
   "execution_count": null,
   "id": "c54413d7",
   "metadata": {
    "execution": {
     "iopub.execute_input": "2023-06-29T15:34:50.127246Z",
     "iopub.status.busy": "2023-06-29T15:34:50.126972Z",
     "iopub.status.idle": "2023-06-29T15:34:50.142610Z",
     "shell.execute_reply": "2023-06-29T15:34:50.141751Z"
    },
    "tags": [
     "raises-exception"
    ]
   },
   "outputs": [],
   "source": [
    "a, b = (1, 2, 3)"
   ]
  },
  {
   "cell_type": "markdown",
   "id": "2ba44185",
   "metadata": {
    "slideshow": {
     "slide_type": "subslide"
    }
   },
   "source": [
    "# `range` revisited\n",
    "\n",
    "`range` is actually a sequence type that generates integers:"
   ]
  },
  {
   "cell_type": "code",
   "execution_count": null,
   "id": "0d659e7d",
   "metadata": {
    "execution": {
     "iopub.execute_input": "2023-06-29T15:34:50.147797Z",
     "iopub.status.busy": "2023-06-29T15:34:50.147353Z",
     "iopub.status.idle": "2023-06-29T15:34:50.152467Z",
     "shell.execute_reply": "2023-06-29T15:34:50.151761Z"
    }
   },
   "outputs": [],
   "source": [
    "list(range(5))"
   ]
  },
  {
   "cell_type": "code",
   "execution_count": null,
   "id": "c7376843",
   "metadata": {
    "execution": {
     "iopub.execute_input": "2023-06-29T15:34:50.157704Z",
     "iopub.status.busy": "2023-06-29T15:34:50.157013Z",
     "iopub.status.idle": "2023-06-29T15:34:50.162781Z",
     "shell.execute_reply": "2023-06-29T15:34:50.161424Z"
    },
    "slideshow": {
     "slide_type": "subslide"
    }
   },
   "outputs": [],
   "source": [
    "for i in range(5):\n",
    "    print(i)"
   ]
  },
  {
   "cell_type": "markdown",
   "id": "c5c9c82f",
   "metadata": {},
   "source": [
    "behaves the same as:"
   ]
  },
  {
   "cell_type": "code",
   "execution_count": null,
   "id": "68330b5b",
   "metadata": {
    "execution": {
     "iopub.execute_input": "2023-06-29T15:34:50.168090Z",
     "iopub.status.busy": "2023-06-29T15:34:50.167619Z",
     "iopub.status.idle": "2023-06-29T15:34:50.172463Z",
     "shell.execute_reply": "2023-06-29T15:34:50.171249Z"
    }
   },
   "outputs": [],
   "source": [
    "for i in [0,1,2,3,4]:\n",
    "    print(i)"
   ]
  },
  {
   "cell_type": "code",
   "execution_count": null,
   "id": "55189b17",
   "metadata": {
    "execution": {
     "iopub.execute_input": "2023-06-29T15:34:50.176778Z",
     "iopub.status.busy": "2023-06-29T15:34:50.176312Z",
     "iopub.status.idle": "2023-06-29T15:34:50.183080Z",
     "shell.execute_reply": "2023-06-29T15:34:50.181996Z"
    },
    "slideshow": {
     "slide_type": "subslide"
    }
   },
   "outputs": [],
   "source": [
    "nums = [10,11,12,13]\n",
    "for i in range(len(nums)):\n",
    "    print(nums[i])"
   ]
  },
  {
   "cell_type": "markdown",
   "id": "a38b8afe",
   "metadata": {},
   "source": [
    "behaves the same as:"
   ]
  },
  {
   "cell_type": "code",
   "execution_count": null,
   "id": "4828c515",
   "metadata": {
    "execution": {
     "iopub.execute_input": "2023-06-29T15:34:50.187563Z",
     "iopub.status.busy": "2023-06-29T15:34:50.186851Z",
     "iopub.status.idle": "2023-06-29T15:34:50.192579Z",
     "shell.execute_reply": "2023-06-29T15:34:50.191676Z"
    }
   },
   "outputs": [],
   "source": [
    "nums = [10,11,12,13]\n",
    "for num in nums:\n",
    "    print(num)"
   ]
  },
  {
   "cell_type": "markdown",
   "id": "8a74db96",
   "metadata": {
    "slideshow": {
     "slide_type": "slide"
    }
   },
   "source": [
    "# `for` revisited\n",
    "\n",
    "It turns out that `for i in range(...):` is actually just a special case of the general `for` loop form:\n",
    "\n",
    "```\n",
    "for <var> in <sequence>:\n",
    "   statement(s)\n",
    "```\n",
    "\n",
    "A `for` loop can iterate over any **sequence**. It executes the code block once for each item in the sequence. \n",
    "\n",
    "This means you can use `for` loops on strings, lists, tuples, and ranges.\n"
   ]
  },
  {
   "cell_type": "code",
   "execution_count": null,
   "id": "986c5886",
   "metadata": {
    "execution": {
     "iopub.execute_input": "2023-06-29T15:34:50.198677Z",
     "iopub.status.busy": "2023-06-29T15:34:50.198205Z",
     "iopub.status.idle": "2023-06-29T15:34:50.203199Z",
     "shell.execute_reply": "2023-06-29T15:34:50.202259Z"
    }
   },
   "outputs": [],
   "source": [
    "for c in \"Hello, world!\":\n",
    "    print(c)"
   ]
  },
  {
   "cell_type": "markdown",
   "id": "e89972fe",
   "metadata": {
    "slideshow": {
     "slide_type": "slide"
    }
   },
   "source": [
    "# Common sequence operations\n",
    "\n",
    "These work on all sequence types! We've seen most of these before on strings or lists. They also work on tuples (and even ranges).\n",
    "\n",
    "| Operation | Description | Example | Result |\n",
    "| --- | :--- | --- | :--- |\n",
    "| `x in s` | True if an item of s is equal to x | `\"hi\" in [\"hello\", \"hi\", \"yo\"]` | True |\n",
    "| `x not in s` | Opposite of `in` | `\"hi\" not in [\"hello\", \"hi\", \"yo\"]` | False |\n",
    "| `s + t` | Concatenate (combine end-to-end) | `[1,2,3] + [4,5]` | `[1,2,3,4,5]` |\n",
    "| `s * n` | Replicate | `\"abc\" * 3` | `\"abcabcabc\"` |\n",
    "| `s[i]` | *i*th item of `s` | `\"hello\"[1]` | `\"e\"` |\n",
    "| `s[i:j]` | slice of `s` from `i` to `j` | `\"hello\"[1:3]` | `\"ell\"` |\n",
    "| `len(s)` | length of `s` | `len(\"hello\")` | `5` |\n",
    "| `min(s)` | The smallest item of `s` | `min([4, 8, 7, 3])` | `3` |\n",
    "| `max(s)` | The largest item of `s` | `max([4, 8, 7, 3])` | `8` |\n",
    "| `s.index(x)` | index of the first occurrence of `x` in `s` | `[4, 8, 7, 3].index(7)` | `2` |\n",
    "| `s.count(x)` | total number of occurrences of `x` in `s` | `\"hello\".count(\"l\")` | `2` |"
   ]
  },
  {
   "cell_type": "markdown",
   "id": "52731dc7",
   "metadata": {
    "slideshow": {
     "slide_type": "slide"
    }
   },
   "source": [
    "# More on Strings\n",
    "\n",
    "In addition to the common sequence operations, strings provide many other helpful methods.\n",
    "\n",
    "The full list can be found in the [official documentation on strings](https://docs.python.org/3/library/stdtypes.html#string-methods). \n",
    "\n",
    "We'll look through a few notable ones now."
   ]
  },
  {
   "cell_type": "markdown",
   "id": "c9e22759",
   "metadata": {
    "slideshow": {
     "slide_type": "subslide"
    }
   },
   "source": [
    "`s.split(<delim>)` splits a string into a list. By default it splits at any whitespace, or you can tell it which character(s) to split at:"
   ]
  },
  {
   "cell_type": "code",
   "execution_count": null,
   "id": "dca84053",
   "metadata": {
    "execution": {
     "iopub.execute_input": "2023-06-29T15:34:50.208402Z",
     "iopub.status.busy": "2023-06-29T15:34:50.207677Z",
     "iopub.status.idle": "2023-06-29T15:34:50.214359Z",
     "shell.execute_reply": "2023-06-29T15:34:50.213254Z"
    }
   },
   "outputs": [],
   "source": [
    "sentence = \"This is a sentence with lots of words\"\n",
    "sentence.split()"
   ]
  },
  {
   "cell_type": "code",
   "execution_count": null,
   "id": "243aa8e6",
   "metadata": {
    "execution": {
     "iopub.execute_input": "2023-06-29T15:34:50.218930Z",
     "iopub.status.busy": "2023-06-29T15:34:50.218507Z",
     "iopub.status.idle": "2023-06-29T15:34:50.225128Z",
     "shell.execute_reply": "2023-06-29T15:34:50.224140Z"
    }
   },
   "outputs": [],
   "source": [
    "sentence = \"This,is a sentence,with,lots of words\"\n",
    "sentence.split(\",\")"
   ]
  },
  {
   "cell_type": "markdown",
   "id": "0ecd3c75",
   "metadata": {
    "slideshow": {
     "slide_type": "subslide"
    }
   },
   "source": [
    "`s.join(<sequence of strings>)` joins a sequence of strings together into a single string, with `s` between each string."
   ]
  },
  {
   "cell_type": "code",
   "execution_count": null,
   "id": "19b24398",
   "metadata": {
    "execution": {
     "iopub.execute_input": "2023-06-29T15:34:50.230630Z",
     "iopub.status.busy": "2023-06-29T15:34:50.229908Z",
     "iopub.status.idle": "2023-06-29T15:34:50.236039Z",
     "shell.execute_reply": "2023-06-29T15:34:50.235163Z"
    }
   },
   "outputs": [],
   "source": [
    "' '.join([\"some\", \"words\", \"to\", \"stitch\", \"together\"])"
   ]
  },
  {
   "cell_type": "code",
   "execution_count": null,
   "id": "09b7f80b",
   "metadata": {
    "execution": {
     "iopub.execute_input": "2023-06-29T15:34:50.240554Z",
     "iopub.status.busy": "2023-06-29T15:34:50.240163Z",
     "iopub.status.idle": "2023-06-29T15:34:50.247644Z",
     "shell.execute_reply": "2023-06-29T15:34:50.246671Z"
    }
   },
   "outputs": [],
   "source": [
    "'%T%'.join([\"some\", \"words\", \"to\", \"stitch\", \"together\"])"
   ]
  },
  {
   "cell_type": "markdown",
   "id": "e14be3ca",
   "metadata": {
    "slideshow": {
     "slide_type": "subslide"
    }
   },
   "source": [
    "`s.isdigit()` returns `True` if all characters in the string are digits and there is at least one character, `False` otherwise."
   ]
  },
  {
   "cell_type": "code",
   "execution_count": null,
   "id": "5a165a55",
   "metadata": {
    "execution": {
     "iopub.execute_input": "2023-06-29T15:34:50.253420Z",
     "iopub.status.busy": "2023-06-29T15:34:50.252251Z",
     "iopub.status.idle": "2023-06-29T15:34:50.259291Z",
     "shell.execute_reply": "2023-06-29T15:34:50.258262Z"
    }
   },
   "outputs": [],
   "source": [
    "'12345678'.isdigit()"
   ]
  },
  {
   "cell_type": "code",
   "execution_count": null,
   "id": "1a389911",
   "metadata": {
    "execution": {
     "iopub.execute_input": "2023-06-29T15:34:50.263799Z",
     "iopub.status.busy": "2023-06-29T15:34:50.263402Z",
     "iopub.status.idle": "2023-06-29T15:34:50.269245Z",
     "shell.execute_reply": "2023-06-29T15:34:50.268278Z"
    }
   },
   "outputs": [],
   "source": [
    "'123abc'.isdigit()"
   ]
  },
  {
   "cell_type": "markdown",
   "id": "61ed7209",
   "metadata": {
    "slideshow": {
     "slide_type": "subslide"
    }
   },
   "source": [
    "`s.upper()` and `s.lower()` convert strings to upper and lower case"
   ]
  },
  {
   "cell_type": "code",
   "execution_count": null,
   "id": "1589ff4d",
   "metadata": {
    "execution": {
     "iopub.execute_input": "2023-06-29T15:34:50.273416Z",
     "iopub.status.busy": "2023-06-29T15:34:50.273057Z",
     "iopub.status.idle": "2023-06-29T15:34:50.278661Z",
     "shell.execute_reply": "2023-06-29T15:34:50.277496Z"
    }
   },
   "outputs": [],
   "source": [
    "'SpongeBob SquarePants'.upper()"
   ]
  },
  {
   "cell_type": "code",
   "execution_count": null,
   "id": "611b5025",
   "metadata": {
    "execution": {
     "iopub.execute_input": "2023-06-29T15:34:50.285135Z",
     "iopub.status.busy": "2023-06-29T15:34:50.284489Z",
     "iopub.status.idle": "2023-06-29T15:34:50.290951Z",
     "shell.execute_reply": "2023-06-29T15:34:50.289780Z"
    }
   },
   "outputs": [],
   "source": [
    "'SpongeBob SquarePants'.lower()"
   ]
  },
  {
   "cell_type": "markdown",
   "id": "03e4feaf",
   "metadata": {
    "slideshow": {
     "slide_type": "subslide"
    }
   },
   "source": [
    "`s.startswith(<search string>)` and `s.endswith(<search string>)`: return True if a string starts/ends with a substring"
   ]
  },
  {
   "cell_type": "code",
   "execution_count": null,
   "id": "8967302d",
   "metadata": {
    "execution": {
     "iopub.execute_input": "2023-06-29T15:34:50.296193Z",
     "iopub.status.busy": "2023-06-29T15:34:50.295745Z",
     "iopub.status.idle": "2023-06-29T15:34:50.301765Z",
     "shell.execute_reply": "2023-06-29T15:34:50.300843Z"
    }
   },
   "outputs": [],
   "source": [
    "'SpongeBob SquarePants'.startswith(\"Sponge\")"
   ]
  },
  {
   "cell_type": "code",
   "execution_count": null,
   "id": "1d0f9a1c",
   "metadata": {
    "execution": {
     "iopub.execute_input": "2023-06-29T15:34:50.310378Z",
     "iopub.status.busy": "2023-06-29T15:34:50.308999Z",
     "iopub.status.idle": "2023-06-29T15:34:50.317838Z",
     "shell.execute_reply": "2023-06-29T15:34:50.316614Z"
    }
   },
   "outputs": [],
   "source": [
    "# case matters!\n",
    "'SpongeBob SquarePants'.endswith(\"pants\")"
   ]
  },
  {
   "cell_type": "markdown",
   "id": "132f9706",
   "metadata": {
    "slideshow": {
     "slide_type": "slide"
    }
   },
   "source": [
    "# String formatting\n",
    "\n",
    "There are many, many ways to format strings for printing. Let's peek at a tiny slice that will make your life easier: formatted string literals, or [**f-strings**](https://docs.python.org/3/tutorial/inputoutput.html#formatted-string-literals).\n",
    "\n",
    "Adding an `f` before a string lets you you include the value of Python expressions inside a string. Here's an example:"
   ]
  },
  {
   "cell_type": "code",
   "execution_count": null,
   "id": "701b0172",
   "metadata": {
    "execution": {
     "iopub.execute_input": "2023-06-29T15:34:50.326880Z",
     "iopub.status.busy": "2023-06-29T15:34:50.325973Z",
     "iopub.status.idle": "2023-06-29T15:34:50.332720Z",
     "shell.execute_reply": "2023-06-29T15:34:50.331139Z"
    }
   },
   "outputs": [],
   "source": [
    "name = \"Spongebob\"\n",
    "age = 72\n",
    "foods = [\"Cake\", \"Pie\", \"Peanut Butter\"]\n",
    "print(f\"Hi, I am {name}, I'm {age} years old, and I like {len(foods)} foods: {', '.join(foods)}.\")"
   ]
  },
  {
   "cell_type": "markdown",
   "id": "52514359",
   "metadata": {},
   "source": [
    "Note that we were able to include an integer (`age`) without an explicit type conversion. \n",
    "\n",
    "This makes printing **much** easier, no more awful lines like this: `print(\"Some text: \" + str(some_number) + \".\")`"
   ]
  },
  {
   "cell_type": "markdown",
   "id": "c9651a22",
   "metadata": {
    "slideshow": {
     "slide_type": "subslide"
    }
   },
   "source": [
    "One more formatting trick: to control the number of decimal places, add `:.<num decimals>f` after an expression in an f-string.\n",
    "\n",
    "For example:"
   ]
  },
  {
   "cell_type": "code",
   "execution_count": null,
   "id": "161a52f7",
   "metadata": {
    "execution": {
     "iopub.execute_input": "2023-06-29T15:34:50.338980Z",
     "iopub.status.busy": "2023-06-29T15:34:50.338588Z",
     "iopub.status.idle": "2023-06-29T15:34:50.345457Z",
     "shell.execute_reply": "2023-06-29T15:34:50.343435Z"
    }
   },
   "outputs": [],
   "source": [
    "fraction = 1/3\n",
    "print(fraction)\n",
    "print(f\"{fraction:.2f}\")"
   ]
  },
  {
   "cell_type": "markdown",
   "id": "ce5c595a",
   "metadata": {
    "slideshow": {
     "slide_type": "subslide"
    }
   },
   "source": [
    "The [official documentation on string formatting](https://docs.python.org/3/reference/lexical_analysis.html#f-strings) is extremely obtuse. Try [fstring.help](https://fstring.help/cheat/) instead for a decent reference."
   ]
  },
  {
   "cell_type": "markdown",
   "id": "f63edc4d",
   "metadata": {
    "slideshow": {
     "slide_type": "slide"
    }
   },
   "source": [
    "# Iterables\n",
    "\n",
    "An **iterable** object is an object capable of returning its members one at a time. \n",
    "\n",
    "All sequence types are **iterables**. Other types can be iterable too. \n",
    "\n",
    "An **iterator** is an object you use to iterate over an **iterable**.\n",
    "\n",
    "Some examples of non-sequence iterable usage:\n",
    "* Reading a file line-by-line - a file reader creates an iterator over all the lines in the file.\n",
    "* A \"generator\" - an iterator that generates a sequence on-demand, as each item is requested."
   ]
  },
  {
   "cell_type": "markdown",
   "id": "548058cc",
   "metadata": {
    "slideshow": {
     "slide_type": "subslide"
    }
   },
   "source": [
    "The details of iterables and iterators are beyond the scope of this class. The important things to know for now are:\n",
    "* **Iterables** are objects that can return their members one at a time\n",
    "* All iterables can be iterated over in a `for` loop.\n",
    "\n",
    "If you want to learn about this topic, this is a decent introductory resource: [Towards Data Science](https://towardsdatascience.com/python-basics-iteration-and-looping-6ca63b30835c). "
   ]
  },
  {
   "cell_type": "markdown",
   "id": "cf56a774",
   "metadata": {
    "slideshow": {
     "slide_type": "subslide"
    }
   },
   "source": [
    "# `for` revisited, again\n",
    "\n",
    "Last time, I promise. \n",
    "\n",
    "```\n",
    "for <var> in <iterable>:\n",
    "   statement(s)\n",
    "```\n",
    "\n",
    "`for` loops can loop over anything that is an **iterable**. This capture more than just **sequences**."
   ]
  }
 ],
 "metadata": {
  "celltoolbar": "Slideshow",
  "kernelspec": {
   "display_name": "Python 3 (ipykernel)",
   "language": "python",
   "name": "python3"
  },
  "language_info": {
   "codemirror_mode": {
    "name": "ipython",
    "version": 3
   },
   "file_extension": ".py",
   "mimetype": "text/x-python",
   "name": "python",
   "nbconvert_exporter": "python",
   "pygments_lexer": "ipython3",
   "version": "3.10.9"
  }
 },
 "nbformat": 4,
 "nbformat_minor": 5
}
