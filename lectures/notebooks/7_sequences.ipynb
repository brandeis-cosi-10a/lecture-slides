{
 "cells": [
  {
   "cell_type": "markdown",
   "id": "1ee8a1d2",
   "metadata": {
    "slideshow": {
     "slide_type": "slide"
    }
   },
   "source": [
    "# Sequences\n",
    "\n",
    "<style>\n",
    "section.present > section.present { \n",
    "    max-height: 90%; \n",
    "    overflow-y: scroll;\n",
    "}\n",
    "</style>\n",
    "\n",
    "<small><a href=\"https://colab.research.google.com/github/brandeis-jdelfino/cosi-10a/blob/main/lectures/notebooks/7_sequences.ipynb\">Link to interactive slides on Google Colab</a></small>"
   ]
  },
  {
   "cell_type": "markdown",
   "id": "9137a764",
   "metadata": {
    "slideshow": {
     "slide_type": "slide"
    }
   },
   "source": [
    "# Announcement\n",
    "\n",
    "* PS2 due tomorrow (Friday), 11:59pm"
   ]
  },
  {
   "cell_type": "markdown",
   "id": "61f0aac4",
   "metadata": {
    "slideshow": {
     "slide_type": "slide"
    }
   },
   "source": [
    "# Sequence types\n",
    "\n",
    "We've looked at a few **sequence types** already - can you guess which types are sequence types?"
   ]
  },
  {
   "cell_type": "markdown",
   "id": "305139c4",
   "metadata": {
    "slideshow": {
     "slide_type": "fragment"
    }
   },
   "source": [
    "* **Sequence types** are data types that represent sequences of things. \n",
    "  * `str` - sequence of characters\n",
    "  * `list` - sequence of values\n",
    "  * `range` - (as in: `for i in range(5)`!) generated sequence of integers \n",
    "  * `tuple` - coming soon, similar to `list`\n",
    "  \n",
    "Today, we'll learn about tuples, some common operations that work on some/all sequence types, and more about strings."
   ]
  },
  {
   "cell_type": "markdown",
   "id": "421d62e1",
   "metadata": {
    "slideshow": {
     "slide_type": "slide"
    }
   },
   "source": [
    "# Tuples\n",
    "\n",
    "Tuples are a sequence type. They are almost the same as lists, with a few small differences:\n",
    "* Tuples are created and represented with parentheses `(` `)` instead of brackets `[` `]`\n",
    "* Tuples are **immutable**. This means they can't change after creation."
   ]
  },
  {
   "cell_type": "code",
   "execution_count": null,
   "id": "735ef902",
   "metadata": {
    "execution": {
     "iopub.execute_input": "2023-10-08T02:57:38.432084Z",
     "iopub.status.busy": "2023-10-08T02:57:38.431766Z",
     "iopub.status.idle": "2023-10-08T02:57:38.441076Z",
     "shell.execute_reply": "2023-10-08T02:57:38.440425Z"
    }
   },
   "outputs": [],
   "source": [
    "i_am_a_tuple = (1,2,3)\n",
    "print(i_am_a_tuple)"
   ]
  },
  {
   "cell_type": "code",
   "execution_count": null,
   "id": "1a2c6bc3",
   "metadata": {
    "execution": {
     "iopub.execute_input": "2023-10-08T02:57:38.444524Z",
     "iopub.status.busy": "2023-10-08T02:57:38.444253Z",
     "iopub.status.idle": "2023-10-08T02:57:38.447847Z",
     "shell.execute_reply": "2023-10-08T02:57:38.447214Z"
    }
   },
   "outputs": [],
   "source": [
    "im_also_a_tuple = (7,)\n",
    "print(im_also_a_tuple)"
   ]
  },
  {
   "cell_type": "code",
   "execution_count": null,
   "id": "9fbc2302",
   "metadata": {
    "execution": {
     "iopub.execute_input": "2023-10-08T02:57:38.451156Z",
     "iopub.status.busy": "2023-10-08T02:57:38.450789Z",
     "iopub.status.idle": "2023-10-08T02:57:38.454449Z",
     "shell.execute_reply": "2023-10-08T02:57:38.453857Z"
    }
   },
   "outputs": [],
   "source": [
    "# You don't strictly need the parentheses, although it's often more clear to include them\n",
    "hey_wait = 7,2\n",
    "print(hey_wait)"
   ]
  },
  {
   "cell_type": "markdown",
   "id": "d0964505",
   "metadata": {
    "slideshow": {
     "slide_type": "subslide"
    }
   },
   "source": [
    "Tuples are **immutable**. This means they can't change after creation.\n",
    "\n",
    "You can't add, remove, or change the items a tuple contains."
   ]
  },
  {
   "cell_type": "code",
   "execution_count": null,
   "id": "7aabe9ea",
   "metadata": {
    "execution": {
     "iopub.execute_input": "2023-10-08T02:57:38.457510Z",
     "iopub.status.busy": "2023-10-08T02:57:38.457247Z",
     "iopub.status.idle": "2023-10-08T02:57:38.742479Z",
     "shell.execute_reply": "2023-10-08T02:57:38.741718Z"
    },
    "tags": [
     "raises-exception"
    ]
   },
   "outputs": [],
   "source": [
    "flavors = (\"chocolate\", \"vanilla\", \"strawberry\")\n",
    "flavors[1] = \"coffee\""
   ]
  },
  {
   "cell_type": "markdown",
   "id": "021042e9",
   "metadata": {
    "slideshow": {
     "slide_type": "subslide"
    }
   },
   "source": [
    "You can convert back and forth between lists and tuples, similar to converting between `int`, `float`, and `str`:"
   ]
  },
  {
   "cell_type": "code",
   "execution_count": null,
   "id": "d10b9b4b",
   "metadata": {
    "execution": {
     "iopub.execute_input": "2023-10-08T02:57:38.746139Z",
     "iopub.status.busy": "2023-10-08T02:57:38.745797Z",
     "iopub.status.idle": "2023-10-08T02:57:38.749865Z",
     "shell.execute_reply": "2023-10-08T02:57:38.749167Z"
    }
   },
   "outputs": [],
   "source": [
    "flavors = (\"chocolate\", \"vanilla\", \"strawberry\")\n",
    "print(flavors)\n"
   ]
  },
  {
   "cell_type": "code",
   "execution_count": null,
   "id": "9b5e5b14",
   "metadata": {
    "execution": {
     "iopub.execute_input": "2023-10-08T02:57:38.753794Z",
     "iopub.status.busy": "2023-10-08T02:57:38.753466Z",
     "iopub.status.idle": "2023-10-08T02:57:38.757717Z",
     "shell.execute_reply": "2023-10-08T02:57:38.757085Z"
    }
   },
   "outputs": [],
   "source": [
    "new_flavors = list(flavors)\n",
    "new_flavors[1] = \"coffee\"\n",
    "print(new_flavors)"
   ]
  },
  {
   "cell_type": "code",
   "execution_count": null,
   "id": "0f52cfa1",
   "metadata": {
    "execution": {
     "iopub.execute_input": "2023-10-08T02:57:38.761467Z",
     "iopub.status.busy": "2023-10-08T02:57:38.760981Z",
     "iopub.status.idle": "2023-10-08T02:57:38.764636Z",
     "shell.execute_reply": "2023-10-08T02:57:38.763933Z"
    }
   },
   "outputs": [],
   "source": [
    "flavors = tuple(new_flavors)\n",
    "print(flavors)"
   ]
  },
  {
   "cell_type": "markdown",
   "id": "c7dc4477",
   "metadata": {
    "slideshow": {
     "slide_type": "subslide"
    }
   },
   "source": [
    "## Returning multiple values with tuples\n",
    "\n",
    "A common use for tuples is to easily return multiple values from a function.\n",
    "\n",
    "Here's a function that takes in a list of strings, and returns a 2-tuple containing the longest name, and the length of the longest name:"
   ]
  },
  {
   "cell_type": "code",
   "execution_count": null,
   "id": "0abb937d",
   "metadata": {
    "execution": {
     "iopub.execute_input": "2023-10-08T02:57:38.767842Z",
     "iopub.status.busy": "2023-10-08T02:57:38.767404Z",
     "iopub.status.idle": "2023-10-08T02:57:38.770883Z",
     "shell.execute_reply": "2023-10-08T02:57:38.770310Z"
    }
   },
   "outputs": [],
   "source": [
    "def longest_name(names):\n",
    "    max_name = \"\"\n",
    "    for name in names:\n",
    "        if len(name) > len(max_name):\n",
    "            max_name = name\n",
    "    return (max_name, len(max_name))"
   ]
  },
  {
   "cell_type": "code",
   "execution_count": null,
   "id": "01ba92ad",
   "metadata": {
    "execution": {
     "iopub.execute_input": "2023-10-08T02:57:38.773663Z",
     "iopub.status.busy": "2023-10-08T02:57:38.773410Z",
     "iopub.status.idle": "2023-10-08T02:57:38.779850Z",
     "shell.execute_reply": "2023-10-08T02:57:38.779254Z"
    }
   },
   "outputs": [],
   "source": [
    "longest_name([\"Bill Murray\", \"Spongebob\", \"Batman\"])"
   ]
  },
  {
   "cell_type": "markdown",
   "id": "d484b4bc",
   "metadata": {
    "slideshow": {
     "slide_type": "subslide"
    }
   },
   "source": [
    "## Another example of multiple return values\n",
    "\n",
    "From last lecture:"
   ]
  },
  {
   "cell_type": "code",
   "execution_count": null,
   "id": "600f4374",
   "metadata": {
    "execution": {
     "iopub.execute_input": "2023-10-08T02:57:38.783042Z",
     "iopub.status.busy": "2023-10-08T02:57:38.782701Z",
     "iopub.status.idle": "2023-10-08T02:57:38.786231Z",
     "shell.execute_reply": "2023-10-08T02:57:38.785631Z"
    }
   },
   "outputs": [],
   "source": [
    "def find_average(nums):\n",
    "    sum = 0\n",
    "    for num in nums:\n",
    "        sum = sum + num\n",
    "    avg = sum / len(nums)\n",
    "    return avg"
   ]
  },
  {
   "cell_type": "code",
   "execution_count": null,
   "id": "2ebd299e",
   "metadata": {
    "execution": {
     "iopub.execute_input": "2023-10-08T02:57:38.789229Z",
     "iopub.status.busy": "2023-10-08T02:57:38.788964Z",
     "iopub.status.idle": "2023-10-08T02:57:38.792699Z",
     "shell.execute_reply": "2023-10-08T02:57:38.792081Z"
    }
   },
   "outputs": [],
   "source": [
    "def below_average(nums):\n",
    "    avg = find_average(nums)\n",
    "    \n",
    "    print(\"The average is: \" + str(avg) + \". Here are all the below average numbers: \")\n",
    "    for num in nums:\n",
    "        if num < avg:\n",
    "            print(num, end=' ')"
   ]
  },
  {
   "cell_type": "markdown",
   "id": "59be94f7",
   "metadata": {},
   "source": [
    "Let's modify `below_average` to return 2 things: the average, and a list of things below the average."
   ]
  },
  {
   "cell_type": "code",
   "execution_count": null,
   "id": "e6a07367",
   "metadata": {
    "execution": {
     "iopub.execute_input": "2023-10-08T02:57:38.795764Z",
     "iopub.status.busy": "2023-10-08T02:57:38.795495Z",
     "iopub.status.idle": "2023-10-08T02:57:38.799198Z",
     "shell.execute_reply": "2023-10-08T02:57:38.798610Z"
    },
    "slideshow": {
     "slide_type": "subslide"
    }
   },
   "outputs": [],
   "source": [
    "def below_average(nums):\n",
    "    avg = find_average(nums)\n",
    "    \n",
    "    belows = []\n",
    "    for num in nums:\n",
    "        if num < avg:\n",
    "            belows.append(num)\n",
    "    return (avg, belows)"
   ]
  },
  {
   "cell_type": "code",
   "execution_count": null,
   "id": "9cb8229f",
   "metadata": {
    "execution": {
     "iopub.execute_input": "2023-10-08T02:57:38.802222Z",
     "iopub.status.busy": "2023-10-08T02:57:38.801955Z",
     "iopub.status.idle": "2023-10-08T02:57:38.805464Z",
     "shell.execute_reply": "2023-10-08T02:57:38.804880Z"
    }
   },
   "outputs": [],
   "source": [
    "answers = below_average([1, 10000, 2, 7, 11000])\n",
    "print(\"The average is: \" + str(answers[0]) + \" and the below average numbers are: \" + str(answers[1])) "
   ]
  },
  {
   "cell_type": "markdown",
   "id": "61ba394f",
   "metadata": {
    "slideshow": {
     "slide_type": "subslide"
    }
   },
   "source": [
    "## Side note: Value unpacking\n",
    "\n",
    "That last example was kind of awkward - we assigned to `answers`, then had to access each part of it by an index. We can use something called \"value unpacking\" to improve this. \n",
    "\n",
    "**Value unpacking** allows you to assign multiple values to multiple variables at once. "
   ]
  },
  {
   "cell_type": "code",
   "execution_count": null,
   "id": "971a849c",
   "metadata": {
    "execution": {
     "iopub.execute_input": "2023-10-08T02:57:38.808753Z",
     "iopub.status.busy": "2023-10-08T02:57:38.808477Z",
     "iopub.status.idle": "2023-10-08T02:57:38.812251Z",
     "shell.execute_reply": "2023-10-08T02:57:38.811663Z"
    }
   },
   "outputs": [],
   "source": [
    "# without value unpacking\n",
    "answers = below_average([1, 10000, 2, 7, 11000])\n",
    "print(\"The average is: \" + str(answers[0]) + \" and the below average numbers are: \" + str(answers[1]))"
   ]
  },
  {
   "cell_type": "code",
   "execution_count": null,
   "id": "7c85d836",
   "metadata": {
    "execution": {
     "iopub.execute_input": "2023-10-08T02:57:38.815261Z",
     "iopub.status.busy": "2023-10-08T02:57:38.815011Z",
     "iopub.status.idle": "2023-10-08T02:57:38.818684Z",
     "shell.execute_reply": "2023-10-08T02:57:38.818079Z"
    },
    "slideshow": {
     "slide_type": "-"
    }
   },
   "outputs": [],
   "source": [
    "# with value unpacking\n",
    "avg, below_avg_nums = below_average([1, 10000, 2, 7, 11000])\n",
    "print(\"The average is: \" + str(avg) + \" and the below average numbers are: \" + str(below_avg_nums))"
   ]
  },
  {
   "cell_type": "markdown",
   "id": "61bb89d3",
   "metadata": {
    "slideshow": {
     "slide_type": "subslide"
    }
   },
   "source": [
    "Value unpacking works with any sequence type"
   ]
  },
  {
   "cell_type": "code",
   "execution_count": null,
   "id": "e020b2f6",
   "metadata": {
    "execution": {
     "iopub.execute_input": "2023-10-08T02:57:38.821792Z",
     "iopub.status.busy": "2023-10-08T02:57:38.821529Z",
     "iopub.status.idle": "2023-10-08T02:57:38.825988Z",
     "shell.execute_reply": "2023-10-08T02:57:38.825261Z"
    }
   },
   "outputs": [],
   "source": [
    "names = [\"Larry\", \"Moe\", \"Curly\"]\n",
    "stooge1, stooge2, stooge3 = names\n",
    "print(\"Stooge 1: \" + stooge1 + \", stooge 2: \" + stooge2 + \", stooge 3: \" + stooge3)\n",
    "\n",
    "# equivalent to 'stooge1, stooge2, stooge3 = names'\n",
    "stooge1 = names[0]\n",
    "stooge2 = names[1]\n",
    "stooge3 = names[2]"
   ]
  },
  {
   "cell_type": "code",
   "execution_count": null,
   "id": "13dece82",
   "metadata": {
    "execution": {
     "iopub.execute_input": "2023-10-08T02:57:38.829593Z",
     "iopub.status.busy": "2023-10-08T02:57:38.829264Z",
     "iopub.status.idle": "2023-10-08T02:57:38.833313Z",
     "shell.execute_reply": "2023-10-08T02:57:38.832480Z"
    }
   },
   "outputs": [],
   "source": [
    "a, b, c = \"xyz\"\n",
    "print(\"a: \" + a + \"; b: \" + b + \"; c: \" + c)"
   ]
  },
  {
   "cell_type": "markdown",
   "id": "4d870d3a",
   "metadata": {
    "slideshow": {
     "slide_type": "subslide"
    }
   },
   "source": [
    "The assignment will raise an error if the number of variables on the left doesn't match the length of the sequence being unpacked."
   ]
  },
  {
   "cell_type": "code",
   "execution_count": null,
   "id": "476bb441",
   "metadata": {
    "execution": {
     "iopub.execute_input": "2023-10-08T02:57:38.836771Z",
     "iopub.status.busy": "2023-10-08T02:57:38.836491Z",
     "iopub.status.idle": "2023-10-08T02:57:38.852872Z",
     "shell.execute_reply": "2023-10-08T02:57:38.852281Z"
    },
    "slideshow": {
     "slide_type": "-"
    },
    "tags": [
     "raises-exception"
    ]
   },
   "outputs": [],
   "source": [
    "a, b, c = (1, 2)"
   ]
  },
  {
   "cell_type": "code",
   "execution_count": null,
   "id": "c54413d7",
   "metadata": {
    "execution": {
     "iopub.execute_input": "2023-10-08T02:57:38.856208Z",
     "iopub.status.busy": "2023-10-08T02:57:38.855908Z",
     "iopub.status.idle": "2023-10-08T02:57:38.870827Z",
     "shell.execute_reply": "2023-10-08T02:57:38.870239Z"
    },
    "tags": [
     "raises-exception"
    ]
   },
   "outputs": [],
   "source": [
    "a, b = (1, 2, 3)"
   ]
  },
  {
   "cell_type": "markdown",
   "id": "2ba44185",
   "metadata": {
    "slideshow": {
     "slide_type": "subslide"
    }
   },
   "source": [
    "# `range` revisited\n",
    "\n",
    "`range` is actually a sequence type that generates integers:"
   ]
  },
  {
   "cell_type": "code",
   "execution_count": null,
   "id": "cee46f7a",
   "metadata": {
    "execution": {
     "iopub.execute_input": "2023-10-08T02:57:38.873996Z",
     "iopub.status.busy": "2023-10-08T02:57:38.873719Z",
     "iopub.status.idle": "2023-10-08T02:57:38.877949Z",
     "shell.execute_reply": "2023-10-08T02:57:38.877297Z"
    }
   },
   "outputs": [],
   "source": [
    "range(5)"
   ]
  },
  {
   "cell_type": "code",
   "execution_count": null,
   "id": "0d659e7d",
   "metadata": {
    "execution": {
     "iopub.execute_input": "2023-10-08T02:57:38.882011Z",
     "iopub.status.busy": "2023-10-08T02:57:38.881565Z",
     "iopub.status.idle": "2023-10-08T02:57:38.886147Z",
     "shell.execute_reply": "2023-10-08T02:57:38.885571Z"
    }
   },
   "outputs": [],
   "source": [
    "list(range(5))"
   ]
  },
  {
   "cell_type": "markdown",
   "id": "ab79c6c0",
   "metadata": {},
   "source": [
    "Note the difference! `range` is **not** a `list`! It is a sequence though."
   ]
  },
  {
   "cell_type": "markdown",
   "id": "8635f353",
   "metadata": {
    "slideshow": {
     "slide_type": "subslide"
    }
   },
   "source": [
    "Even though `range` and `list` are different types, they behave the same in a `for` loop:"
   ]
  },
  {
   "cell_type": "code",
   "execution_count": null,
   "id": "c7376843",
   "metadata": {
    "execution": {
     "iopub.execute_input": "2023-10-08T02:57:38.889370Z",
     "iopub.status.busy": "2023-10-08T02:57:38.889117Z",
     "iopub.status.idle": "2023-10-08T02:57:38.892843Z",
     "shell.execute_reply": "2023-10-08T02:57:38.892203Z"
    },
    "slideshow": {
     "slide_type": "-"
    }
   },
   "outputs": [],
   "source": [
    "for i in range(5):\n",
    "    print(i)"
   ]
  },
  {
   "cell_type": "markdown",
   "id": "c5c9c82f",
   "metadata": {},
   "source": [
    "behaves the same as:"
   ]
  },
  {
   "cell_type": "code",
   "execution_count": null,
   "id": "68330b5b",
   "metadata": {
    "execution": {
     "iopub.execute_input": "2023-10-08T02:57:38.896677Z",
     "iopub.status.busy": "2023-10-08T02:57:38.896382Z",
     "iopub.status.idle": "2023-10-08T02:57:38.900937Z",
     "shell.execute_reply": "2023-10-08T02:57:38.900297Z"
    }
   },
   "outputs": [],
   "source": [
    "for i in [0,1,2,3,4]:\n",
    "    print(i)"
   ]
  },
  {
   "cell_type": "markdown",
   "id": "8a74db96",
   "metadata": {
    "slideshow": {
     "slide_type": "slide"
    }
   },
   "source": [
    "# `for` revisited\n",
    "\n",
    "It turns out that `for i in range(...):` is actually just a special case of the general `for` loop form:\n",
    "\n",
    "```\n",
    "for <var> in <sequence>:\n",
    "   statement(s)\n",
    "```\n",
    "\n",
    "A `for` loop can iterate over any **sequence**. It executes the code block once for each item in the sequence. \n",
    "\n",
    "This means you can use `for` loops on strings, lists, tuples, and ranges.\n"
   ]
  },
  {
   "cell_type": "code",
   "execution_count": null,
   "id": "986c5886",
   "metadata": {
    "execution": {
     "iopub.execute_input": "2023-10-08T02:57:38.904080Z",
     "iopub.status.busy": "2023-10-08T02:57:38.903815Z",
     "iopub.status.idle": "2023-10-08T02:57:38.907390Z",
     "shell.execute_reply": "2023-10-08T02:57:38.906717Z"
    },
    "slideshow": {
     "slide_type": "subslide"
    }
   },
   "outputs": [],
   "source": [
    "for c in \"Hello, world!\":\n",
    "    print(c)"
   ]
  },
  {
   "cell_type": "markdown",
   "id": "f63edc4d",
   "metadata": {
    "slideshow": {
     "slide_type": "slide"
    }
   },
   "source": [
    "# Iterables\n",
    "\n",
    "An **iterable** object is an object capable of returning its members one at a time. \n",
    "\n",
    "All sequence types are **iterables**. Other types can be iterable too. \n",
    "\n",
    "Some examples of non-sequence iterables:\n",
    "* Dictionaries (a data type we'll see in a few lectures)\n",
    "* Reading a file line-by-line\n",
    "* A \"generator\" - an iterator that generates a sequence on-demand, as each item is requested."
   ]
  },
  {
   "cell_type": "markdown",
   "id": "548058cc",
   "metadata": {
    "slideshow": {
     "slide_type": "subslide"
    }
   },
   "source": [
    "The details of iterables and iterators are beyond the scope of this class. The important things to know for now are:\n",
    "* **Iterables** are objects that can return their members one at a time\n",
    "* All iterables can be iterated over in a `for` loop.\n",
    "\n",
    "If you want to learn about this topic, this is a decent introductory resource: [Towards Data Science](https://towardsdatascience.com/python-basics-iteration-and-looping-6ca63b30835c). "
   ]
  },
  {
   "cell_type": "markdown",
   "id": "cf56a774",
   "metadata": {
    "slideshow": {
     "slide_type": "subslide"
    }
   },
   "source": [
    "# `for` revisited, again\n",
    "\n",
    "Last time, I promise. \n",
    "\n",
    "```\n",
    "for <var> in <iterable>:\n",
    "   statement(s)\n",
    "```\n",
    "\n",
    "`for` loops can loop over anything that is an **iterable**. This capture more than just **sequences**."
   ]
  },
  {
   "cell_type": "markdown",
   "id": "e89972fe",
   "metadata": {
    "slideshow": {
     "slide_type": "slide"
    }
   },
   "source": [
    "# Common sequence operations\n",
    "\n",
    "These work on all sequence types! We've seen some of these before on strings or lists. They also work on tuples (and even ranges).\n",
    "\n",
    "| Operation | Description | Example | Result |\n",
    "| --- | :--- | --- | :--- |\n",
    "| `x in s` | True if an item of s is equal to x | `\"hi\" in [\"hello\", \"hi\", \"yo\"]` | True |\n",
    "| `x not in s` | Opposite of `in` | `\"hi\" not in [\"hello\", \"hi\", \"yo\"]` | False |\n",
    "| `s + t` | Concatenate (combine end-to-end) | `[1,2,3] + [4,5]` | `[1,2,3,4,5]` |\n",
    "| `s * n` | Replicate | `\"abc\" * 3` | `\"abcabcabc\"` |\n",
    "| `s[i]` | *i*th item of `s` | `\"hello\"[1]` | `\"e\"` |\n",
    "| `s[i:j]` | slice of `s` from `i` to `j` | `\"hello\"[1:3]` | `\"ell\"` |\n",
    "| `len(s)` | length of `s` | `len(\"hello\")` | `5` |\n",
    "| `min(s)` | The smallest item of `s` | `min([4, 8, 7, 3])` | `3` |\n",
    "| `max(s)` | The largest item of `s` | `max([4, 8, 7, 3])` | `8` |\n",
    "| `s.index(x)` | index of the first occurrence of `x` in `s` | `[4, 8, 7, 3].index(7)` | `2` |\n",
    "| `s.count(x)` | total number of occurrences of `x` in `s` | `\"hello\".count(\"l\")` | `2` |"
   ]
  },
  {
   "cell_type": "markdown",
   "id": "a4b22365",
   "metadata": {
    "slideshow": {
     "slide_type": "slide"
    }
   },
   "source": [
    "# Exercise\n",
    "\n",
    "Write a program that prompts the user for 5 integers, then prints out:\n",
    "1. The largest integer they entered\n",
    "2. The smallest integer they entered\n",
    "3. Whether `42` is in the list of integers they entered\n",
    "4. How many times they repeated the first integer they entered\n",
    "  * e.g. if they entered: 4, 3, 4, 4, 1, then the answer would be 3, because they entered the number 4 three times.\n",
    "  \n",
    "Hint: Use a list to store the integers, then use the sequence operations for each task.\n",
    "  \n",
    "## [Repl.it: Sequences Playground](https://replit.com/team/cosi-10a-fall23/Sequence-playground)"
   ]
  },
  {
   "cell_type": "markdown",
   "id": "52731dc7",
   "metadata": {
    "slideshow": {
     "slide_type": "slide"
    }
   },
   "source": [
    "# More on Strings\n",
    "\n",
    "In addition to the common sequence operations, strings provide many other helpful methods.\n",
    "\n",
    "The full list can be found in the [official documentation on strings](https://docs.python.org/3/library/stdtypes.html#string-methods). \n",
    "\n",
    "We'll look through a few notable ones now."
   ]
  },
  {
   "cell_type": "markdown",
   "id": "c9e22759",
   "metadata": {
    "slideshow": {
     "slide_type": "subslide"
    }
   },
   "source": [
    "## split\n",
    "\n",
    "`s.split(<delim>)` splits a string into a list. By default it splits at any whitespace, or you can tell it which character(s) to split at:"
   ]
  },
  {
   "cell_type": "code",
   "execution_count": null,
   "id": "dca84053",
   "metadata": {
    "execution": {
     "iopub.execute_input": "2023-10-08T02:57:38.911478Z",
     "iopub.status.busy": "2023-10-08T02:57:38.911179Z",
     "iopub.status.idle": "2023-10-08T02:57:38.916721Z",
     "shell.execute_reply": "2023-10-08T02:57:38.915999Z"
    }
   },
   "outputs": [],
   "source": [
    "sentence = \"This is a sentence with lots of words\"\n",
    "sentence.split()"
   ]
  },
  {
   "cell_type": "code",
   "execution_count": null,
   "id": "243aa8e6",
   "metadata": {
    "execution": {
     "iopub.execute_input": "2023-10-08T02:57:38.919629Z",
     "iopub.status.busy": "2023-10-08T02:57:38.919364Z",
     "iopub.status.idle": "2023-10-08T02:57:38.924256Z",
     "shell.execute_reply": "2023-10-08T02:57:38.923540Z"
    }
   },
   "outputs": [],
   "source": [
    "sentence = \"This,is a sentence,with,lots of words\"\n",
    "sentence.split(\",\")"
   ]
  },
  {
   "cell_type": "markdown",
   "id": "0ecd3c75",
   "metadata": {
    "slideshow": {
     "slide_type": "subslide"
    }
   },
   "source": [
    "## join\n",
    "\n",
    "`s.join(<sequence of strings>)` joins a sequence of strings together into a single string, with `s` between each string."
   ]
  },
  {
   "cell_type": "code",
   "execution_count": null,
   "id": "19b24398",
   "metadata": {
    "execution": {
     "iopub.execute_input": "2023-10-08T02:57:38.927581Z",
     "iopub.status.busy": "2023-10-08T02:57:38.927282Z",
     "iopub.status.idle": "2023-10-08T02:57:38.933305Z",
     "shell.execute_reply": "2023-10-08T02:57:38.932493Z"
    }
   },
   "outputs": [],
   "source": [
    "' '.join([\"some\", \"words\", \"to\", \"stitch\", \"together\"])"
   ]
  },
  {
   "cell_type": "code",
   "execution_count": null,
   "id": "09b7f80b",
   "metadata": {
    "execution": {
     "iopub.execute_input": "2023-10-08T02:57:38.936924Z",
     "iopub.status.busy": "2023-10-08T02:57:38.936176Z",
     "iopub.status.idle": "2023-10-08T02:57:38.942023Z",
     "shell.execute_reply": "2023-10-08T02:57:38.941437Z"
    }
   },
   "outputs": [],
   "source": [
    "#print('\\n HI: '.join([\"some\", \"words\", \"to\", \"stitch\", \"together\"]))\n",
    "', '.join([\"10\",\"9\",\"8\",\"7\"])"
   ]
  },
  {
   "cell_type": "markdown",
   "id": "e14be3ca",
   "metadata": {
    "slideshow": {
     "slide_type": "subslide"
    }
   },
   "source": [
    "## isdigit\n",
    "\n",
    "`s.isdigit()` returns `True` if all characters in the string are digits and there is at least one character, `False` otherwise."
   ]
  },
  {
   "cell_type": "code",
   "execution_count": null,
   "id": "5a165a55",
   "metadata": {
    "execution": {
     "iopub.execute_input": "2023-10-08T02:57:38.945227Z",
     "iopub.status.busy": "2023-10-08T02:57:38.944928Z",
     "iopub.status.idle": "2023-10-08T02:57:38.950938Z",
     "shell.execute_reply": "2023-10-08T02:57:38.949660Z"
    }
   },
   "outputs": [],
   "source": [
    "'12345678'.isdigit()"
   ]
  },
  {
   "cell_type": "code",
   "execution_count": null,
   "id": "1a389911",
   "metadata": {
    "execution": {
     "iopub.execute_input": "2023-10-08T02:57:38.955034Z",
     "iopub.status.busy": "2023-10-08T02:57:38.954668Z",
     "iopub.status.idle": "2023-10-08T02:57:38.959326Z",
     "shell.execute_reply": "2023-10-08T02:57:38.958635Z"
    }
   },
   "outputs": [],
   "source": [
    "'123abc'.isdigit()"
   ]
  },
  {
   "cell_type": "markdown",
   "id": "61ed7209",
   "metadata": {
    "slideshow": {
     "slide_type": "subslide"
    }
   },
   "source": [
    "## Changing case\n",
    "\n",
    "`s.upper()` and `s.lower()` convert strings to upper and lower case"
   ]
  },
  {
   "cell_type": "code",
   "execution_count": null,
   "id": "1589ff4d",
   "metadata": {
    "execution": {
     "iopub.execute_input": "2023-10-08T02:57:38.963552Z",
     "iopub.status.busy": "2023-10-08T02:57:38.962993Z",
     "iopub.status.idle": "2023-10-08T02:57:38.969491Z",
     "shell.execute_reply": "2023-10-08T02:57:38.968720Z"
    }
   },
   "outputs": [],
   "source": [
    "'SpongeBob SquarePants'.upper()"
   ]
  },
  {
   "cell_type": "code",
   "execution_count": null,
   "id": "611b5025",
   "metadata": {
    "execution": {
     "iopub.execute_input": "2023-10-08T02:57:38.973455Z",
     "iopub.status.busy": "2023-10-08T02:57:38.973143Z",
     "iopub.status.idle": "2023-10-08T02:57:38.977879Z",
     "shell.execute_reply": "2023-10-08T02:57:38.977218Z"
    }
   },
   "outputs": [],
   "source": [
    "'SpongeBob SquarePants'.lower()"
   ]
  },
  {
   "cell_type": "markdown",
   "id": "03e4feaf",
   "metadata": {
    "slideshow": {
     "slide_type": "subslide"
    }
   },
   "source": [
    "## startswith / endswith\n",
    "\n",
    "`s.startswith(<search string>)` and `s.endswith(<search string>)`: return True if a string starts/ends with a substring"
   ]
  },
  {
   "cell_type": "code",
   "execution_count": null,
   "id": "8967302d",
   "metadata": {
    "execution": {
     "iopub.execute_input": "2023-10-08T02:57:38.982645Z",
     "iopub.status.busy": "2023-10-08T02:57:38.982251Z",
     "iopub.status.idle": "2023-10-08T02:57:38.987880Z",
     "shell.execute_reply": "2023-10-08T02:57:38.986866Z"
    }
   },
   "outputs": [],
   "source": [
    "'SpongeBob SquarePants'.startswith(\"Sponge\")"
   ]
  },
  {
   "cell_type": "code",
   "execution_count": null,
   "id": "1d0f9a1c",
   "metadata": {
    "execution": {
     "iopub.execute_input": "2023-10-08T02:57:38.991592Z",
     "iopub.status.busy": "2023-10-08T02:57:38.991276Z",
     "iopub.status.idle": "2023-10-08T02:57:38.997958Z",
     "shell.execute_reply": "2023-10-08T02:57:38.996080Z"
    }
   },
   "outputs": [],
   "source": [
    "# case matters!\n",
    "sponge = 'SpongeBob SquarePants'\n",
    "sponge.lower().endswith('pants')"
   ]
  },
  {
   "cell_type": "markdown",
   "id": "132f9706",
   "metadata": {
    "slideshow": {
     "slide_type": "slide"
    }
   },
   "source": [
    "# String formatting\n",
    "\n",
    "Let's look at [**f-strings**](https://docs.python.org/3/tutorial/inputoutput.html#formatted-string-literals), a more flexible, usable way to format strings for output.\n",
    "\n",
    "Adding an `f` before a string lets you you include the value of Python expressions inside a string. Here's an example:"
   ]
  },
  {
   "cell_type": "code",
   "execution_count": null,
   "id": "de5b61dd",
   "metadata": {
    "execution": {
     "iopub.execute_input": "2023-10-08T02:57:39.004038Z",
     "iopub.status.busy": "2023-10-08T02:57:39.003020Z",
     "iopub.status.idle": "2023-10-08T02:57:39.009221Z",
     "shell.execute_reply": "2023-10-08T02:57:39.007560Z"
    }
   },
   "outputs": [],
   "source": [
    "name = \"Spongebob\"\n",
    "age = 72\n",
    "foods = [\"Cake\", \"Pie\", \"Peanut Butter\"]"
   ]
  },
  {
   "cell_type": "code",
   "execution_count": null,
   "id": "f800b56c",
   "metadata": {
    "execution": {
     "iopub.execute_input": "2023-10-08T02:57:39.015607Z",
     "iopub.status.busy": "2023-10-08T02:57:39.014907Z",
     "iopub.status.idle": "2023-10-08T02:57:39.023915Z",
     "shell.execute_reply": "2023-10-08T02:57:39.020474Z"
    }
   },
   "outputs": [],
   "source": [
    "# Old way:\n",
    "print(\"Hi, I am \" + name + \", I'm \" + str(age) + \" years old, and I like \" + str(len(foods)) + \" foods: \" + ', '.join(foods) + \".\")"
   ]
  },
  {
   "cell_type": "code",
   "execution_count": null,
   "id": "701b0172",
   "metadata": {
    "execution": {
     "iopub.execute_input": "2023-10-08T02:57:39.029475Z",
     "iopub.status.busy": "2023-10-08T02:57:39.029001Z",
     "iopub.status.idle": "2023-10-08T02:57:39.034603Z",
     "shell.execute_reply": "2023-10-08T02:57:39.033477Z"
    }
   },
   "outputs": [],
   "source": [
    "# Using f-strings\n",
    "print(f\"Hi, I am {name}, I'm {age} years old, and I like {len(foods)} foods: {', '.join(foods)}.\")"
   ]
  },
  {
   "cell_type": "code",
   "execution_count": null,
   "id": "0c41c13e",
   "metadata": {
    "execution": {
     "iopub.execute_input": "2023-10-08T02:57:39.040841Z",
     "iopub.status.busy": "2023-10-08T02:57:39.040455Z",
     "iopub.status.idle": "2023-10-08T02:57:39.045503Z",
     "shell.execute_reply": "2023-10-08T02:57:39.044555Z"
    },
    "slideshow": {
     "slide_type": "subslide"
    }
   },
   "outputs": [],
   "source": [
    "# Using f-strings\n",
    "print(f\"Hi, I am {name}, I'm {age} years old, and I like {len(foods)} foods: {', '.join(foods)}.\")"
   ]
  },
  {
   "cell_type": "markdown",
   "id": "52514359",
   "metadata": {},
   "source": [
    "Note that we were able to include an integer (`age`) without an explicit type conversion. \n",
    "\n",
    "This makes printing **much** easier, no more awful lines like this: `print(\"Some text: \" + str(some_number) + \".\")`"
   ]
  },
  {
   "cell_type": "markdown",
   "id": "c9651a22",
   "metadata": {
    "slideshow": {
     "slide_type": "subslide"
    }
   },
   "source": [
    "One more formatting trick: to control the number of decimal places, add `:.<num decimals>f` after an expression in an f-string.\n",
    "\n",
    "For example:"
   ]
  },
  {
   "cell_type": "code",
   "execution_count": null,
   "id": "161a52f7",
   "metadata": {
    "execution": {
     "iopub.execute_input": "2023-10-08T02:57:39.049963Z",
     "iopub.status.busy": "2023-10-08T02:57:39.049638Z",
     "iopub.status.idle": "2023-10-08T02:57:39.054831Z",
     "shell.execute_reply": "2023-10-08T02:57:39.053931Z"
    }
   },
   "outputs": [],
   "source": [
    "fraction = 1/3\n",
    "print(fraction)\n",
    "print(f\"{fraction:.2f}\")"
   ]
  },
  {
   "cell_type": "markdown",
   "id": "ce5c595a",
   "metadata": {
    "slideshow": {
     "slide_type": "subslide"
    }
   },
   "source": [
    "The [official documentation on string formatting](https://docs.python.org/3/reference/lexical_analysis.html#f-strings) is extremely obtuse. Try [fstring.help](https://fstring.help/) for a deeper tutorial, and [fstring.help/cheat](https://fstring.help/cheat/) instead for a quick cheat sheet."
   ]
  },
  {
   "cell_type": "markdown",
   "id": "93ace8be",
   "metadata": {
    "slideshow": {
     "slide_type": "slide"
    }
   },
   "source": [
    "# Exercise\n",
    "\n",
    "Write a word guessing game where the user guesses one letter at a time to try to guess a secret word. Show the user's progress between each guess."
   ]
  },
  {
   "cell_type": "markdown",
   "id": "de98ffd6",
   "metadata": {
    "slideshow": {
     "slide_type": "subslide"
    }
   },
   "source": [
    "## Functional decomposition\n",
    "\n",
    "This time, let's write the code from the outside in:"
   ]
  },
  {
   "cell_type": "code",
   "execution_count": null,
   "id": "35102242",
   "metadata": {
    "execution": {
     "iopub.execute_input": "2023-10-08T02:57:39.059448Z",
     "iopub.status.busy": "2023-10-08T02:57:39.059066Z",
     "iopub.status.idle": "2023-10-08T02:57:39.064971Z",
     "shell.execute_reply": "2023-10-08T02:57:39.063075Z"
    }
   },
   "outputs": [],
   "source": [
    "def play_game():\n",
    "    word = \"secret\"\n",
    "    progress = [\"_\", \"_\", \"_\", \"_\", \"_\", \"_\"]\n",
    "    while True:\n",
    "        display_progress(progress)\n",
    "        guess = get_guess()\n",
    "        process_guess(word, progress)"
   ]
  },
  {
   "cell_type": "markdown",
   "id": "a8565b79",
   "metadata": {
    "slideshow": {
     "slide_type": "fragment"
    }
   },
   "source": [
    "We've written the outer code, and now we have an idea of which helper functions will be most useful."
   ]
  },
  {
   "cell_type": "code",
   "execution_count": null,
   "id": "e0166772",
   "metadata": {
    "execution": {
     "iopub.execute_input": "2023-10-08T02:57:39.074364Z",
     "iopub.status.busy": "2023-10-08T02:57:39.073861Z",
     "iopub.status.idle": "2023-10-08T02:57:39.079162Z",
     "shell.execute_reply": "2023-10-08T02:57:39.078249Z"
    },
    "slideshow": {
     "slide_type": "subslide"
    }
   },
   "outputs": [],
   "source": [
    "def display_progress(progress):\n",
    "    for p in progress:\n",
    "        print(p, end=\" \")\n",
    "       "
   ]
  },
  {
   "cell_type": "code",
   "execution_count": null,
   "id": "154a6737",
   "metadata": {
    "execution": {
     "iopub.execute_input": "2023-10-08T02:57:39.083527Z",
     "iopub.status.busy": "2023-10-08T02:57:39.083138Z",
     "iopub.status.idle": "2023-10-08T02:57:39.088503Z",
     "shell.execute_reply": "2023-10-08T02:57:39.087569Z"
    }
   },
   "outputs": [],
   "source": [
    "display_progress([\"_\", \"a\", \"b\", \"_\"])"
   ]
  },
  {
   "cell_type": "markdown",
   "id": "eeb5f4be",
   "metadata": {
    "slideshow": {
     "slide_type": "subslide"
    }
   },
   "source": [
    "Another way, using the string method `join` that we just saw:"
   ]
  },
  {
   "cell_type": "code",
   "execution_count": null,
   "id": "ecbe1d8a",
   "metadata": {
    "execution": {
     "iopub.execute_input": "2023-10-08T02:57:39.093565Z",
     "iopub.status.busy": "2023-10-08T02:57:39.093160Z",
     "iopub.status.idle": "2023-10-08T02:57:39.097676Z",
     "shell.execute_reply": "2023-10-08T02:57:39.096749Z"
    }
   },
   "outputs": [],
   "source": [
    "def display_progress(progress):\n",
    "    print(\" \".join(progress))"
   ]
  },
  {
   "cell_type": "code",
   "execution_count": null,
   "id": "6b758b99",
   "metadata": {
    "execution": {
     "iopub.execute_input": "2023-10-08T02:57:39.103870Z",
     "iopub.status.busy": "2023-10-08T02:57:39.102334Z",
     "iopub.status.idle": "2023-10-08T02:57:39.111313Z",
     "shell.execute_reply": "2023-10-08T02:57:39.110267Z"
    }
   },
   "outputs": [],
   "source": [
    "display_progress([\"_\", \"a\", \"b\", \"_\"])"
   ]
  },
  {
   "cell_type": "code",
   "execution_count": null,
   "id": "5d61767e",
   "metadata": {
    "execution": {
     "iopub.execute_input": "2023-10-08T02:57:39.116366Z",
     "iopub.status.busy": "2023-10-08T02:57:39.115456Z",
     "iopub.status.idle": "2023-10-08T02:57:39.127465Z",
     "shell.execute_reply": "2023-10-08T02:57:39.119935Z"
    },
    "slideshow": {
     "slide_type": "subslide"
    }
   },
   "outputs": [],
   "source": [
    "def play_game():\n",
    "    word = \"secret\"\n",
    "    progress = [\"_\", \"_\", \"_\", \"_\", \"_\", \"_\"]\n",
    "    while True:\n",
    "        display_progress(progress)\n",
    "        guess = get_guess()\n",
    "        process_guess(word, progress)"
   ]
  },
  {
   "cell_type": "markdown",
   "id": "370c94b1",
   "metadata": {},
   "source": [
    "Next up, `get_guess()`..."
   ]
  },
  {
   "cell_type": "code",
   "execution_count": null,
   "id": "062160bc",
   "metadata": {
    "execution": {
     "iopub.execute_input": "2023-10-08T02:57:39.134620Z",
     "iopub.status.busy": "2023-10-08T02:57:39.134206Z",
     "iopub.status.idle": "2023-10-08T02:57:39.139057Z",
     "shell.execute_reply": "2023-10-08T02:57:39.137877Z"
    },
    "slideshow": {
     "slide_type": "subslide"
    }
   },
   "outputs": [],
   "source": [
    "def get_guess():\n",
    "    return input(\"Guess a letter! \")"
   ]
  },
  {
   "cell_type": "code",
   "execution_count": null,
   "id": "0d25c151",
   "metadata": {
    "execution": {
     "iopub.execute_input": "2023-10-08T02:57:39.145001Z",
     "iopub.status.busy": "2023-10-08T02:57:39.144103Z",
     "iopub.status.idle": "2023-10-08T02:57:39.316923Z",
     "shell.execute_reply": "2023-10-08T02:57:39.315474Z"
    },
    "tags": [
     "remove-output"
    ]
   },
   "outputs": [],
   "source": [
    "get_guess()"
   ]
  },
  {
   "cell_type": "code",
   "execution_count": null,
   "id": "6db3658d",
   "metadata": {
    "execution": {
     "iopub.execute_input": "2023-10-08T02:57:39.328491Z",
     "iopub.status.busy": "2023-10-08T02:57:39.327865Z",
     "iopub.status.idle": "2023-10-08T02:57:39.336498Z",
     "shell.execute_reply": "2023-10-08T02:57:39.335075Z"
    },
    "slideshow": {
     "slide_type": "subslide"
    }
   },
   "outputs": [],
   "source": [
    "def get_guess():\n",
    "    while True:\n",
    "        guess = input(\"Guess a letter! \")\n",
    "        if len(guess) == 1 and guess.isalpha():\n",
    "            return guess\n",
    "        else:\n",
    "            print(\"Invalid guess, please guess a single letter\")\n",
    "            "
   ]
  },
  {
   "cell_type": "code",
   "execution_count": null,
   "id": "f2af4236",
   "metadata": {
    "execution": {
     "iopub.execute_input": "2023-10-08T02:57:39.345842Z",
     "iopub.status.busy": "2023-10-08T02:57:39.345136Z",
     "iopub.status.idle": "2023-10-08T02:57:39.400084Z",
     "shell.execute_reply": "2023-10-08T02:57:39.399072Z"
    },
    "tags": [
     "remove-output"
    ]
   },
   "outputs": [],
   "source": [
    "get_guess()"
   ]
  },
  {
   "cell_type": "code",
   "execution_count": null,
   "id": "0fe54840",
   "metadata": {
    "execution": {
     "iopub.execute_input": "2023-10-08T02:57:39.405889Z",
     "iopub.status.busy": "2023-10-08T02:57:39.405059Z",
     "iopub.status.idle": "2023-10-08T02:57:39.412772Z",
     "shell.execute_reply": "2023-10-08T02:57:39.411600Z"
    },
    "slideshow": {
     "slide_type": "subslide"
    }
   },
   "outputs": [],
   "source": [
    "def play_game():\n",
    "    word = \"secret\"\n",
    "    progress = [\"_\", \"_\", \"_\", \"_\", \"_\", \"_\"]\n",
    "    while True:\n",
    "        display_progress(progress)\n",
    "        guess = get_guess()\n",
    "        process_guess(guess, word, progress)"
   ]
  },
  {
   "cell_type": "markdown",
   "id": "6b684931",
   "metadata": {},
   "source": [
    "Next up, `process_guess()`, the trickiest part."
   ]
  },
  {
   "cell_type": "markdown",
   "id": "a28a25e2",
   "metadata": {
    "slideshow": {
     "slide_type": "subslide"
    }
   },
   "source": [
    "Walk through each letter of the secret word. If our guess matches that letter, then put that letter into `progress` at the correct index."
   ]
  },
  {
   "cell_type": "code",
   "execution_count": null,
   "id": "c3acab79",
   "metadata": {
    "execution": {
     "iopub.execute_input": "2023-10-08T02:57:39.419138Z",
     "iopub.status.busy": "2023-10-08T02:57:39.418538Z",
     "iopub.status.idle": "2023-10-08T02:57:39.426070Z",
     "shell.execute_reply": "2023-10-08T02:57:39.424735Z"
    },
    "slideshow": {
     "slide_type": "-"
    }
   },
   "outputs": [],
   "source": [
    "def process_guess(guess, word, progress):\n",
    "    for index in range(len(word)):\n",
    "        if guess == word[index]:\n",
    "            progress[index] = guess    "
   ]
  },
  {
   "cell_type": "code",
   "execution_count": null,
   "id": "d390d385",
   "metadata": {
    "execution": {
     "iopub.execute_input": "2023-10-08T02:57:39.433005Z",
     "iopub.status.busy": "2023-10-08T02:57:39.432596Z",
     "iopub.status.idle": "2023-10-08T02:57:39.437672Z",
     "shell.execute_reply": "2023-10-08T02:57:39.436769Z"
    }
   },
   "outputs": [],
   "source": [
    "progress = [\"s\", \"_\", \"_\", \"r\", \"_\", \"t\"]\n",
    "process_guess('e', 'secret', progress)\n",
    "print(progress)"
   ]
  },
  {
   "cell_type": "markdown",
   "id": "b9f552c4",
   "metadata": {
    "slideshow": {
     "slide_type": "subslide"
    }
   },
   "source": [
    "Each piece seems to work on its own, lets test it all together"
   ]
  },
  {
   "cell_type": "code",
   "execution_count": null,
   "id": "24b3903f",
   "metadata": {
    "execution": {
     "iopub.execute_input": "2023-10-08T02:57:39.443959Z",
     "iopub.status.busy": "2023-10-08T02:57:39.443431Z",
     "iopub.status.idle": "2023-10-08T02:57:39.449230Z",
     "shell.execute_reply": "2023-10-08T02:57:39.448107Z"
    },
    "slideshow": {
     "slide_type": "-"
    }
   },
   "outputs": [],
   "source": [
    "def play_game():\n",
    "    word = \"secret\"\n",
    "    progress = [\"_\", \"_\", \"_\", \"_\", \"_\", \"_\"]\n",
    "    while True:\n",
    "        display_progress(progress)\n",
    "        guess = get_guess()\n",
    "        process_guess(guess, word, progress)"
   ]
  },
  {
   "cell_type": "code",
   "execution_count": null,
   "id": "e5c84167",
   "metadata": {
    "execution": {
     "iopub.execute_input": "2023-10-08T02:57:39.456590Z",
     "iopub.status.busy": "2023-10-08T02:57:39.456094Z",
     "iopub.status.idle": "2023-10-08T02:57:39.513994Z",
     "shell.execute_reply": "2023-10-08T02:57:39.513012Z"
    },
    "tags": [
     "remove-output"
    ]
   },
   "outputs": [],
   "source": [
    "play_game()"
   ]
  },
  {
   "cell_type": "markdown",
   "id": "cada8b77",
   "metadata": {
    "slideshow": {
     "slide_type": "subslide"
    }
   },
   "source": [
    "Oops, we forgot to end the game!"
   ]
  },
  {
   "cell_type": "code",
   "execution_count": null,
   "id": "06ec7e0c",
   "metadata": {
    "execution": {
     "iopub.execute_input": "2023-10-08T02:57:39.518193Z",
     "iopub.status.busy": "2023-10-08T02:57:39.517616Z",
     "iopub.status.idle": "2023-10-08T02:57:39.523732Z",
     "shell.execute_reply": "2023-10-08T02:57:39.522990Z"
    },
    "slideshow": {
     "slide_type": "-"
    }
   },
   "outputs": [],
   "source": [
    "def play_game():\n",
    "    word = \"secret\"\n",
    "    progress = [\"_\", \"_\", \"_\", \"_\", \"_\", \"_\"]\n",
    "    while True:\n",
    "        display_progress(progress)\n",
    "        guess = get_guess()\n",
    "        process_guess(guess, word, progress)\n",
    "        if game_over(progress):\n",
    "            print(\"You win!\")\n",
    "            return"
   ]
  },
  {
   "cell_type": "code",
   "execution_count": null,
   "id": "08acdff1",
   "metadata": {
    "execution": {
     "iopub.execute_input": "2023-10-08T02:57:39.527071Z",
     "iopub.status.busy": "2023-10-08T02:57:39.526774Z",
     "iopub.status.idle": "2023-10-08T02:57:39.530832Z",
     "shell.execute_reply": "2023-10-08T02:57:39.530166Z"
    },
    "slideshow": {
     "slide_type": "subslide"
    }
   },
   "outputs": [],
   "source": [
    "def game_over(progress):\n",
    "    for letter in progress:\n",
    "        if letter == \"_\":\n",
    "            return False\n",
    "    return True"
   ]
  },
  {
   "cell_type": "code",
   "execution_count": null,
   "id": "b725241b",
   "metadata": {
    "execution": {
     "iopub.execute_input": "2023-10-08T02:57:39.534180Z",
     "iopub.status.busy": "2023-10-08T02:57:39.533841Z",
     "iopub.status.idle": "2023-10-08T02:57:39.541604Z",
     "shell.execute_reply": "2023-10-08T02:57:39.540458Z"
    }
   },
   "outputs": [],
   "source": [
    "game_over([\"a\", \"b\", \"c\"])"
   ]
  },
  {
   "cell_type": "code",
   "execution_count": null,
   "id": "417da869",
   "metadata": {
    "execution": {
     "iopub.execute_input": "2023-10-08T02:57:39.545655Z",
     "iopub.status.busy": "2023-10-08T02:57:39.545311Z",
     "iopub.status.idle": "2023-10-08T02:57:39.550572Z",
     "shell.execute_reply": "2023-10-08T02:57:39.549597Z"
    }
   },
   "outputs": [],
   "source": [
    "game_over([\"a\", \"_\", \"c\"])"
   ]
  },
  {
   "cell_type": "markdown",
   "id": "0f199661",
   "metadata": {
    "slideshow": {
     "slide_type": "subslide"
    }
   },
   "source": [
    "Or, again, a shorter way using one of the sequence operations: `in`"
   ]
  },
  {
   "cell_type": "code",
   "execution_count": null,
   "id": "bc30359c",
   "metadata": {
    "execution": {
     "iopub.execute_input": "2023-10-08T02:57:39.557734Z",
     "iopub.status.busy": "2023-10-08T02:57:39.556831Z",
     "iopub.status.idle": "2023-10-08T02:57:39.562307Z",
     "shell.execute_reply": "2023-10-08T02:57:39.560628Z"
    }
   },
   "outputs": [],
   "source": [
    "def game_over(progress):\n",
    "    return \"_\" not in progress"
   ]
  },
  {
   "cell_type": "code",
   "execution_count": null,
   "id": "ab3223e1",
   "metadata": {
    "execution": {
     "iopub.execute_input": "2023-10-08T02:57:39.566715Z",
     "iopub.status.busy": "2023-10-08T02:57:39.566070Z",
     "iopub.status.idle": "2023-10-08T02:57:39.574485Z",
     "shell.execute_reply": "2023-10-08T02:57:39.573556Z"
    }
   },
   "outputs": [],
   "source": [
    "game_over([\"a\", \"b\", \"c\"])"
   ]
  },
  {
   "cell_type": "code",
   "execution_count": null,
   "id": "037b814c",
   "metadata": {
    "execution": {
     "iopub.execute_input": "2023-10-08T02:57:39.580286Z",
     "iopub.status.busy": "2023-10-08T02:57:39.579884Z",
     "iopub.status.idle": "2023-10-08T02:57:39.587881Z",
     "shell.execute_reply": "2023-10-08T02:57:39.586193Z"
    }
   },
   "outputs": [],
   "source": [
    "game_over([\"a\", \"_\", \"c\"])"
   ]
  },
  {
   "cell_type": "code",
   "execution_count": null,
   "id": "46f5ba60",
   "metadata": {
    "execution": {
     "iopub.execute_input": "2023-10-08T02:57:39.595210Z",
     "iopub.status.busy": "2023-10-08T02:57:39.594666Z",
     "iopub.status.idle": "2023-10-08T02:57:39.602601Z",
     "shell.execute_reply": "2023-10-08T02:57:39.601083Z"
    },
    "slideshow": {
     "slide_type": "subslide"
    }
   },
   "outputs": [],
   "source": [
    "def play_game():\n",
    "    word = \"secret\"\n",
    "    progress = [\"_\", \"_\", \"_\", \"_\", \"_\", \"_\"]\n",
    "    while True:\n",
    "        display_progress(progress)\n",
    "        guess = get_guess()\n",
    "        process_guess(guess, word, progress)\n",
    "        if game_over(progress):\n",
    "            print(\"You win!\")\n",
    "            break"
   ]
  },
  {
   "cell_type": "code",
   "execution_count": null,
   "id": "77da2aa1",
   "metadata": {
    "execution": {
     "iopub.execute_input": "2023-10-08T02:57:39.607588Z",
     "iopub.status.busy": "2023-10-08T02:57:39.607162Z",
     "iopub.status.idle": "2023-10-08T02:57:39.671998Z",
     "shell.execute_reply": "2023-10-08T02:57:39.669728Z"
    },
    "tags": [
     "remove-output"
    ]
   },
   "outputs": [],
   "source": [
    "play_game()"
   ]
  },
  {
   "cell_type": "markdown",
   "id": "f4cf7f74",
   "metadata": {
    "slideshow": {
     "slide_type": "subslide"
    }
   },
   "source": [
    "What if we want to use a different word? We can parameterize `play_game`:"
   ]
  },
  {
   "cell_type": "code",
   "execution_count": null,
   "id": "ed5d6953",
   "metadata": {
    "execution": {
     "iopub.execute_input": "2023-10-08T02:57:39.677279Z",
     "iopub.status.busy": "2023-10-08T02:57:39.676872Z",
     "iopub.status.idle": "2023-10-08T02:57:39.683092Z",
     "shell.execute_reply": "2023-10-08T02:57:39.681896Z"
    }
   },
   "outputs": [],
   "source": [
    "def play_game(word):\n",
    "    progress = [\"_\"] * len(word)\n",
    "    while True:\n",
    "        display_progress(progress)\n",
    "        guess = get_guess()\n",
    "        process_guess(guess, word, progress)\n",
    "        if game_over(progress):\n",
    "            print(\"You win!\")\n",
    "            break"
   ]
  },
  {
   "cell_type": "code",
   "execution_count": null,
   "id": "95b41fce",
   "metadata": {
    "execution": {
     "iopub.execute_input": "2023-10-08T02:57:39.688977Z",
     "iopub.status.busy": "2023-10-08T02:57:39.688348Z",
     "iopub.status.idle": "2023-10-08T02:57:39.740637Z",
     "shell.execute_reply": "2023-10-08T02:57:39.738716Z"
    },
    "tags": [
     "remove-output"
    ]
   },
   "outputs": [],
   "source": [
    "play_game(\"abba\")"
   ]
  },
  {
   "cell_type": "markdown",
   "id": "46f36946",
   "metadata": {
    "slideshow": {
     "slide_type": "subslide"
    }
   },
   "source": [
    "More things to think about:\n",
    "* How would you keep track of how many incorrect guesses a user had made, and stop after 5 incorrect?\n",
    "* How would you keep track of which letters the user had already guessed?\n",
    "* How could you handle the user entering an upper case letter?"
   ]
  }
 ],
 "metadata": {
  "celltoolbar": "Slideshow",
  "kernelspec": {
   "display_name": "Python 3 (ipykernel)",
   "language": "python",
   "name": "python3"
  },
  "language_info": {
   "codemirror_mode": {
    "name": "ipython",
    "version": 3
   },
   "file_extension": ".py",
   "mimetype": "text/x-python",
   "name": "python",
   "nbconvert_exporter": "python",
   "pygments_lexer": "ipython3",
   "version": "3.10.9"
  }
 },
 "nbformat": 4,
 "nbformat_minor": 5
}
