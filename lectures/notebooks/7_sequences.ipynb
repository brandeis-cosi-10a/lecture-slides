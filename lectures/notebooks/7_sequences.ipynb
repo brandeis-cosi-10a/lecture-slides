{
 "cells": [
  {
   "cell_type": "markdown",
   "id": "1ee8a1d2",
   "metadata": {
    "slideshow": {
     "slide_type": "slide"
    }
   },
   "source": [
    "# Sequences\n",
    "\n",
    "<style>\n",
    "section.present > section.present { \n",
    "    max-height: 90%; \n",
    "    overflow-y: scroll;\n",
    "}\n",
    "</style>\n",
    "\n",
    "<small><a href=\"https://colab.research.google.com/github/brandeis-jdelfino/cosi-10a/blob/main/lectures/notebooks/7_sequences.ipynb\">Link to interactive slides on Google Colab</a></small>"
   ]
  },
  {
   "cell_type": "markdown",
   "id": "61f0aac4",
   "metadata": {
    "slideshow": {
     "slide_type": "slide"
    }
   },
   "source": [
    "# Sequence types\n",
    "\n",
    "We've looked at a few **sequence types** already - can you guess which types are sequence types?"
   ]
  },
  {
   "cell_type": "markdown",
   "id": "305139c4",
   "metadata": {
    "slideshow": {
     "slide_type": "fragment"
    }
   },
   "source": [
    "* **Sequence types** are data types that represent sequences of things. \n",
    "  * `str` - sequence of characters\n",
    "  * `list` - sequence of values\n",
    "  * `range` - (as in: `for i in range(5)`!) generated sequence of integers \n",
    "  * `tuple` - coming soon, similar to `list`\n",
    "  \n",
    "Today, we'll learn about tuples, some common operations that work on some/all sequence types, and more about strings."
   ]
  },
  {
   "cell_type": "markdown",
   "id": "421d62e1",
   "metadata": {
    "slideshow": {
     "slide_type": "slide"
    }
   },
   "source": [
    "# Tuples\n",
    "\n",
    "Tuples are a sequence type. They are almost the same as lists, with a few small differences:\n",
    "* Tuples are created and represented with parentheses `(` `)` instead of brackets `[` `]`\n",
    "* Tuples are **immutable**. This means they can't change after creation."
   ]
  },
  {
   "cell_type": "code",
   "execution_count": null,
   "id": "735ef902",
   "metadata": {
    "execution": {
     "iopub.execute_input": "2023-10-05T18:53:11.755989Z",
     "iopub.status.busy": "2023-10-05T18:53:11.755462Z",
     "iopub.status.idle": "2023-10-05T18:53:11.763921Z",
     "shell.execute_reply": "2023-10-05T18:53:11.763299Z"
    }
   },
   "outputs": [],
   "source": [
    "i_am_a_tuple = (1,2,3)\n",
    "print(i_am_a_tuple)"
   ]
  },
  {
   "cell_type": "code",
   "execution_count": null,
   "id": "1a2c6bc3",
   "metadata": {
    "execution": {
     "iopub.execute_input": "2023-10-05T18:53:11.767005Z",
     "iopub.status.busy": "2023-10-05T18:53:11.766742Z",
     "iopub.status.idle": "2023-10-05T18:53:11.770319Z",
     "shell.execute_reply": "2023-10-05T18:53:11.769560Z"
    }
   },
   "outputs": [],
   "source": [
    "im_also_a_tuple = (7,)\n",
    "print(im_also_a_tuple)"
   ]
  },
  {
   "cell_type": "code",
   "execution_count": null,
   "id": "3998b1a8",
   "metadata": {
    "execution": {
     "iopub.execute_input": "2023-10-05T18:53:11.773379Z",
     "iopub.status.busy": "2023-10-05T18:53:11.773108Z",
     "iopub.status.idle": "2023-10-05T18:53:11.776810Z",
     "shell.execute_reply": "2023-10-05T18:53:11.776164Z"
    }
   },
   "outputs": [],
   "source": [
    "# You don't strictly need the parentheses, although it's often more clear to include them\n",
    "hey_wait = 7,2\n",
    "print(hey_wait)"
   ]
  },
  {
   "cell_type": "markdown",
   "id": "465388dc",
   "metadata": {
    "slideshow": {
     "slide_type": "subslide"
    }
   },
   "source": [
    "Tuples are **immutable**. This means they can't change after creation.\n",
    "\n",
    "You can't add, remove, or change the items a tuple contains."
   ]
  },
  {
   "cell_type": "code",
   "execution_count": null,
   "id": "7aabe9ea",
   "metadata": {
    "execution": {
     "iopub.execute_input": "2023-10-05T18:53:11.779966Z",
     "iopub.status.busy": "2023-10-05T18:53:11.779715Z",
     "iopub.status.idle": "2023-10-05T18:53:12.077851Z",
     "shell.execute_reply": "2023-10-05T18:53:12.076959Z"
    },
    "tags": [
     "raises-exception"
    ]
   },
   "outputs": [],
   "source": [
    "flavors = (\"chocolate\", \"vanilla\", \"strawberry\")\n",
    "flavors[1] = \"coffee\""
   ]
  },
  {
   "cell_type": "markdown",
   "id": "021042e9",
   "metadata": {
    "slideshow": {
     "slide_type": "subslide"
    }
   },
   "source": [
    "You can convert back and forth between lists and tuples, similar to converting between `int`, `float`, and `str`:"
   ]
  },
  {
   "cell_type": "code",
   "execution_count": null,
   "id": "d10b9b4b",
   "metadata": {
    "execution": {
     "iopub.execute_input": "2023-10-05T18:53:12.081573Z",
     "iopub.status.busy": "2023-10-05T18:53:12.081292Z",
     "iopub.status.idle": "2023-10-05T18:53:12.085504Z",
     "shell.execute_reply": "2023-10-05T18:53:12.084790Z"
    }
   },
   "outputs": [],
   "source": [
    "flavors = (\"chocolate\", \"vanilla\", \"strawberry\")\n",
    "print(flavors)\n"
   ]
  },
  {
   "cell_type": "code",
   "execution_count": null,
   "id": "9b5e5b14",
   "metadata": {
    "execution": {
     "iopub.execute_input": "2023-10-05T18:53:12.088853Z",
     "iopub.status.busy": "2023-10-05T18:53:12.088563Z",
     "iopub.status.idle": "2023-10-05T18:53:12.092132Z",
     "shell.execute_reply": "2023-10-05T18:53:12.091476Z"
    }
   },
   "outputs": [],
   "source": [
    "new_flavors = list(flavors)\n",
    "new_flavors[1] = \"coffee\"\n",
    "print(new_flavors)"
   ]
  },
  {
   "cell_type": "code",
   "execution_count": null,
   "id": "0f52cfa1",
   "metadata": {
    "execution": {
     "iopub.execute_input": "2023-10-05T18:53:12.095615Z",
     "iopub.status.busy": "2023-10-05T18:53:12.095328Z",
     "iopub.status.idle": "2023-10-05T18:53:12.098804Z",
     "shell.execute_reply": "2023-10-05T18:53:12.098165Z"
    }
   },
   "outputs": [],
   "source": [
    "flavors = tuple(new_flavors)\n",
    "print(flavors)"
   ]
  },
  {
   "cell_type": "markdown",
   "id": "c7dc4477",
   "metadata": {
    "slideshow": {
     "slide_type": "subslide"
    }
   },
   "source": [
    "## Returning multiple values with tuples\n",
    "\n",
    "A common use for tuples is to easily return multiple values from a function.\n",
    "\n",
    "Here's a function that takes in a list of strings, and returns a 2-tuple containing the longest name, and the length of the longest name:"
   ]
  },
  {
   "cell_type": "code",
   "execution_count": null,
   "id": "0abb937d",
   "metadata": {
    "execution": {
     "iopub.execute_input": "2023-10-05T18:53:12.101952Z",
     "iopub.status.busy": "2023-10-05T18:53:12.101688Z",
     "iopub.status.idle": "2023-10-05T18:53:12.105152Z",
     "shell.execute_reply": "2023-10-05T18:53:12.104532Z"
    }
   },
   "outputs": [],
   "source": [
    "def longest_name(names):\n",
    "    max_name = \"\"\n",
    "    for name in names:\n",
    "        if len(name) > len(max_name):\n",
    "            max_name = name\n",
    "    return max_name, len(max_name)"
   ]
  },
  {
   "cell_type": "code",
   "execution_count": null,
   "id": "01ba92ad",
   "metadata": {
    "execution": {
     "iopub.execute_input": "2023-10-05T18:53:12.108332Z",
     "iopub.status.busy": "2023-10-05T18:53:12.108054Z",
     "iopub.status.idle": "2023-10-05T18:53:12.114446Z",
     "shell.execute_reply": "2023-10-05T18:53:12.113831Z"
    }
   },
   "outputs": [],
   "source": [
    "longest_name([\"Bill Murray\", \"Spongebob\", \"Batman\"])"
   ]
  },
  {
   "cell_type": "markdown",
   "id": "7bdc6587",
   "metadata": {
    "slideshow": {
     "slide_type": "subslide"
    }
   },
   "source": [
    "## Another example of multiple return values\n",
    "\n",
    "From last lecture:"
   ]
  },
  {
   "cell_type": "code",
   "execution_count": null,
   "id": "600f4374",
   "metadata": {
    "execution": {
     "iopub.execute_input": "2023-10-05T18:53:12.117652Z",
     "iopub.status.busy": "2023-10-05T18:53:12.117375Z",
     "iopub.status.idle": "2023-10-05T18:53:12.120935Z",
     "shell.execute_reply": "2023-10-05T18:53:12.120262Z"
    }
   },
   "outputs": [],
   "source": [
    "def find_average(nums):\n",
    "    sum = 0\n",
    "    for num in nums:\n",
    "        sum = sum + num\n",
    "    avg = sum / len(nums)\n",
    "    return avg"
   ]
  },
  {
   "cell_type": "code",
   "execution_count": null,
   "id": "5355bc79",
   "metadata": {
    "execution": {
     "iopub.execute_input": "2023-10-05T18:53:12.124093Z",
     "iopub.status.busy": "2023-10-05T18:53:12.123815Z",
     "iopub.status.idle": "2023-10-05T18:53:12.127636Z",
     "shell.execute_reply": "2023-10-05T18:53:12.126994Z"
    }
   },
   "outputs": [],
   "source": [
    "def below_average(nums):\n",
    "    avg = find_average(nums)\n",
    "    \n",
    "    print(\"The average is: \" + str(avg) + \". Here are all the below average numbers: \")\n",
    "    for num in nums:\n",
    "        if num < avg:\n",
    "            print(num, end=' ')"
   ]
  },
  {
   "cell_type": "markdown",
   "id": "7970681f",
   "metadata": {},
   "source": [
    "Let's modify `below_average` to return 2 things: the average, and a list of things below the average."
   ]
  },
  {
   "cell_type": "code",
   "execution_count": null,
   "id": "814461ab",
   "metadata": {
    "execution": {
     "iopub.execute_input": "2023-10-05T18:53:12.130873Z",
     "iopub.status.busy": "2023-10-05T18:53:12.130610Z",
     "iopub.status.idle": "2023-10-05T18:53:12.134245Z",
     "shell.execute_reply": "2023-10-05T18:53:12.133566Z"
    },
    "slideshow": {
     "slide_type": "subslide"
    }
   },
   "outputs": [],
   "source": [
    "def below_average(nums):\n",
    "    avg = find_average(nums)\n",
    "    \n",
    "    belows = []\n",
    "    for num in nums:\n",
    "        if num < avg:\n",
    "            belows.append(num)\n",
    "    return (avg, belows)"
   ]
  },
  {
   "cell_type": "code",
   "execution_count": null,
   "id": "b2b4610a",
   "metadata": {
    "execution": {
     "iopub.execute_input": "2023-10-05T18:53:12.137281Z",
     "iopub.status.busy": "2023-10-05T18:53:12.137020Z",
     "iopub.status.idle": "2023-10-05T18:53:12.140942Z",
     "shell.execute_reply": "2023-10-05T18:53:12.140255Z"
    }
   },
   "outputs": [],
   "source": [
    "answers = below_average([1, 10000, 2, 7, 11000])\n",
    "print(\"The average is: \" + str(answers[0]) + \" and the below average numbers are: \" + str(answers[1])) "
   ]
  },
  {
   "cell_type": "markdown",
   "id": "61ba394f",
   "metadata": {
    "slideshow": {
     "slide_type": "subslide"
    }
   },
   "source": [
    "## Side note: Value unpacking\n",
    "\n",
    "That last example was kind of awkward - we assigned to `answers`, then had to access each part of it by an index. We can use something called \"value unpacking\" to improve this. \n",
    "\n",
    "**Value unpacking** allows you to assign multiple values to multiple variables at once. "
   ]
  },
  {
   "cell_type": "code",
   "execution_count": null,
   "id": "971a849c",
   "metadata": {
    "execution": {
     "iopub.execute_input": "2023-10-05T18:53:12.144647Z",
     "iopub.status.busy": "2023-10-05T18:53:12.144117Z",
     "iopub.status.idle": "2023-10-05T18:53:12.148151Z",
     "shell.execute_reply": "2023-10-05T18:53:12.147449Z"
    }
   },
   "outputs": [],
   "source": [
    "# without value unpacking\n",
    "answers = below_average([1, 10000, 2, 7, 11000])\n",
    "print(\"The average is: \" + str(answers[0]) + \" and the below average numbers are: \" + str(answers[1]))"
   ]
  },
  {
   "cell_type": "code",
   "execution_count": null,
   "id": "7c85d836",
   "metadata": {
    "execution": {
     "iopub.execute_input": "2023-10-05T18:53:12.151663Z",
     "iopub.status.busy": "2023-10-05T18:53:12.151352Z",
     "iopub.status.idle": "2023-10-05T18:53:12.171748Z",
     "shell.execute_reply": "2023-10-05T18:53:12.165383Z"
    },
    "slideshow": {
     "slide_type": "-"
    }
   },
   "outputs": [],
   "source": [
    "# with value unpacking\n",
    "avg, below_avg_nums = below_average([1, 10000, 2, 7, 11000])\n",
    "print(\"The average is: \" + str(avg) + \" and the below average numbers are: \" + str(below_avg_nums))"
   ]
  },
  {
   "cell_type": "markdown",
   "id": "61bb89d3",
   "metadata": {
    "slideshow": {
     "slide_type": "subslide"
    }
   },
   "source": [
    "Value unpacking works with any sequence type"
   ]
  },
  {
   "cell_type": "code",
   "execution_count": null,
   "id": "e020b2f6",
   "metadata": {
    "execution": {
     "iopub.execute_input": "2023-10-05T18:53:12.178078Z",
     "iopub.status.busy": "2023-10-05T18:53:12.177753Z",
     "iopub.status.idle": "2023-10-05T18:53:12.181840Z",
     "shell.execute_reply": "2023-10-05T18:53:12.181099Z"
    }
   },
   "outputs": [],
   "source": [
    "names = [\"Larry\", \"Moe\", \"Curly\"]\n",
    "stooge1, stooge2, stooge3 = names\n",
    "print(\"Stooge 1: \" + stooge1 + \", stooge 2: \" + stooge2 + \", stooge 3: \" + stooge3)"
   ]
  },
  {
   "cell_type": "code",
   "execution_count": null,
   "id": "13dece82",
   "metadata": {
    "execution": {
     "iopub.execute_input": "2023-10-05T18:53:12.185685Z",
     "iopub.status.busy": "2023-10-05T18:53:12.185393Z",
     "iopub.status.idle": "2023-10-05T18:53:12.189465Z",
     "shell.execute_reply": "2023-10-05T18:53:12.188829Z"
    }
   },
   "outputs": [],
   "source": [
    "a, b, c = \"xyz\"\n",
    "print(\"a: \" + a + \"; b: \" + b + \"; c: \" + c)"
   ]
  },
  {
   "cell_type": "markdown",
   "id": "4d870d3a",
   "metadata": {
    "slideshow": {
     "slide_type": "subslide"
    }
   },
   "source": [
    "The assignment will raise an error if the number of variables on the left doesn't match the length of the sequence being unpacked."
   ]
  },
  {
   "cell_type": "code",
   "execution_count": null,
   "id": "476bb441",
   "metadata": {
    "execution": {
     "iopub.execute_input": "2023-10-05T18:53:12.192617Z",
     "iopub.status.busy": "2023-10-05T18:53:12.192356Z",
     "iopub.status.idle": "2023-10-05T18:53:12.208202Z",
     "shell.execute_reply": "2023-10-05T18:53:12.206841Z"
    },
    "slideshow": {
     "slide_type": "-"
    },
    "tags": [
     "raises-exception"
    ]
   },
   "outputs": [],
   "source": [
    "a, b, c = (1, 2)"
   ]
  },
  {
   "cell_type": "code",
   "execution_count": null,
   "id": "c54413d7",
   "metadata": {
    "execution": {
     "iopub.execute_input": "2023-10-05T18:53:12.211721Z",
     "iopub.status.busy": "2023-10-05T18:53:12.211459Z",
     "iopub.status.idle": "2023-10-05T18:53:12.226699Z",
     "shell.execute_reply": "2023-10-05T18:53:12.225685Z"
    },
    "tags": [
     "raises-exception"
    ]
   },
   "outputs": [],
   "source": [
    "a, b = (1, 2, 3)"
   ]
  },
  {
   "cell_type": "markdown",
   "id": "2ba44185",
   "metadata": {
    "slideshow": {
     "slide_type": "subslide"
    }
   },
   "source": [
    "# `range` revisited\n",
    "\n",
    "`range` is actually a sequence type that generates integers:"
   ]
  },
  {
   "cell_type": "code",
   "execution_count": null,
   "id": "a3335c1c",
   "metadata": {
    "execution": {
     "iopub.execute_input": "2023-10-05T18:53:12.230461Z",
     "iopub.status.busy": "2023-10-05T18:53:12.230196Z",
     "iopub.status.idle": "2023-10-05T18:53:12.234452Z",
     "shell.execute_reply": "2023-10-05T18:53:12.233810Z"
    }
   },
   "outputs": [],
   "source": [
    "range(5)"
   ]
  },
  {
   "cell_type": "code",
   "execution_count": null,
   "id": "0d659e7d",
   "metadata": {
    "execution": {
     "iopub.execute_input": "2023-10-05T18:53:12.237537Z",
     "iopub.status.busy": "2023-10-05T18:53:12.237280Z",
     "iopub.status.idle": "2023-10-05T18:53:12.241496Z",
     "shell.execute_reply": "2023-10-05T18:53:12.240834Z"
    }
   },
   "outputs": [],
   "source": [
    "list(range(5))"
   ]
  },
  {
   "cell_type": "markdown",
   "id": "38f7d2f0",
   "metadata": {},
   "source": [
    "Note the difference! `range` is **not** a `list`! It is a sequence though."
   ]
  },
  {
   "cell_type": "markdown",
   "id": "3afc926e",
   "metadata": {
    "slideshow": {
     "slide_type": "subslide"
    }
   },
   "source": [
    "Even though `range` and `list` are different types, they behave the same in a `for` loop:"
   ]
  },
  {
   "cell_type": "code",
   "execution_count": null,
   "id": "c7376843",
   "metadata": {
    "execution": {
     "iopub.execute_input": "2023-10-05T18:53:12.244656Z",
     "iopub.status.busy": "2023-10-05T18:53:12.244386Z",
     "iopub.status.idle": "2023-10-05T18:53:12.247592Z",
     "shell.execute_reply": "2023-10-05T18:53:12.246987Z"
    },
    "slideshow": {
     "slide_type": "-"
    }
   },
   "outputs": [],
   "source": [
    "for i in range(5):\n",
    "    print(i)"
   ]
  },
  {
   "cell_type": "markdown",
   "id": "c5c9c82f",
   "metadata": {},
   "source": [
    "behaves the same as:"
   ]
  },
  {
   "cell_type": "code",
   "execution_count": null,
   "id": "68330b5b",
   "metadata": {
    "execution": {
     "iopub.execute_input": "2023-10-05T18:53:12.250555Z",
     "iopub.status.busy": "2023-10-05T18:53:12.250305Z",
     "iopub.status.idle": "2023-10-05T18:53:12.253933Z",
     "shell.execute_reply": "2023-10-05T18:53:12.253251Z"
    }
   },
   "outputs": [],
   "source": [
    "for i in [0,1,2,3,4]:\n",
    "    print(i)"
   ]
  },
  {
   "cell_type": "markdown",
   "id": "8a74db96",
   "metadata": {
    "slideshow": {
     "slide_type": "slide"
    }
   },
   "source": [
    "# `for` revisited\n",
    "\n",
    "It turns out that `for i in range(...):` is actually just a special case of the general `for` loop form:\n",
    "\n",
    "```\n",
    "for <var> in <sequence>:\n",
    "   statement(s)\n",
    "```\n",
    "\n",
    "A `for` loop can iterate over any **sequence**. It executes the code block once for each item in the sequence. \n",
    "\n",
    "This means you can use `for` loops on strings, lists, tuples, and ranges.\n"
   ]
  },
  {
   "cell_type": "code",
   "execution_count": null,
   "id": "986c5886",
   "metadata": {
    "execution": {
     "iopub.execute_input": "2023-10-05T18:53:12.257006Z",
     "iopub.status.busy": "2023-10-05T18:53:12.256756Z",
     "iopub.status.idle": "2023-10-05T18:53:12.259957Z",
     "shell.execute_reply": "2023-10-05T18:53:12.259409Z"
    },
    "slideshow": {
     "slide_type": "subslide"
    }
   },
   "outputs": [],
   "source": [
    "for c in \"Hello, world!\":\n",
    "    print(c)"
   ]
  },
  {
   "cell_type": "markdown",
   "id": "f63edc4d",
   "metadata": {
    "slideshow": {
     "slide_type": "slide"
    }
   },
   "source": [
    "# Iterables\n",
    "\n",
    "An **iterable** object is an object capable of returning its members one at a time. \n",
    "\n",
    "All sequence types are **iterables**. Other types can be iterable too. \n",
    "\n",
    "Some examples of non-sequence iterables:\n",
    "* Dictionaries (a data type we'll see in a few lectures)\n",
    "* Reading a file line-by-line\n",
    "* A \"generator\" - an iterator that generates a sequence on-demand, as each item is requested."
   ]
  },
  {
   "cell_type": "markdown",
   "id": "548058cc",
   "metadata": {
    "slideshow": {
     "slide_type": "subslide"
    }
   },
   "source": [
    "The details of iterables and iterators are beyond the scope of this class. The important things to know for now are:\n",
    "* **Iterables** are objects that can return their members one at a time\n",
    "* All iterables can be iterated over in a `for` loop.\n",
    "\n",
    "If you want to learn about this topic, this is a decent introductory resource: [Towards Data Science](https://towardsdatascience.com/python-basics-iteration-and-looping-6ca63b30835c). "
   ]
  },
  {
   "cell_type": "markdown",
   "id": "cf56a774",
   "metadata": {
    "slideshow": {
     "slide_type": "subslide"
    }
   },
   "source": [
    "# `for` revisited, again\n",
    "\n",
    "Last time, I promise. \n",
    "\n",
    "```\n",
    "for <var> in <iterable>:\n",
    "   statement(s)\n",
    "```\n",
    "\n",
    "`for` loops can loop over anything that is an **iterable**. This capture more than just **sequences**."
   ]
  },
  {
   "cell_type": "markdown",
   "id": "e89972fe",
   "metadata": {
    "slideshow": {
     "slide_type": "slide"
    }
   },
   "source": [
    "# Common sequence operations\n",
    "\n",
    "These work on all sequence types! We've seen some of these before on strings or lists. They also work on tuples (and even ranges).\n",
    "\n",
    "| Operation | Description | Example | Result |\n",
    "| --- | :--- | --- | :--- |\n",
    "| `x in s` | True if an item of s is equal to x | `\"hi\" in [\"hello\", \"hi\", \"yo\"]` | True |\n",
    "| `x not in s` | Opposite of `in` | `\"hi\" not in [\"hello\", \"hi\", \"yo\"]` | False |\n",
    "| `s + t` | Concatenate (combine end-to-end) | `[1,2,3] + [4,5]` | `[1,2,3,4,5]` |\n",
    "| `s * n` | Replicate | `\"abc\" * 3` | `\"abcabcabc\"` |\n",
    "| `s[i]` | *i*th item of `s` | `\"hello\"[1]` | `\"e\"` |\n",
    "| `s[i:j]` | slice of `s` from `i` to `j` | `\"hello\"[1:3]` | `\"ell\"` |\n",
    "| `len(s)` | length of `s` | `len(\"hello\")` | `5` |\n",
    "| `min(s)` | The smallest item of `s` | `min([4, 8, 7, 3])` | `3` |\n",
    "| `max(s)` | The largest item of `s` | `max([4, 8, 7, 3])` | `8` |\n",
    "| `s.index(x)` | index of the first occurrence of `x` in `s` | `[4, 8, 7, 3].index(7)` | `2` |\n",
    "| `s.count(x)` | total number of occurrences of `x` in `s` | `\"hello\".count(\"l\")` | `2` |"
   ]
  },
  {
   "cell_type": "markdown",
   "id": "e3f15568",
   "metadata": {
    "slideshow": {
     "slide_type": "slide"
    }
   },
   "source": [
    "# Exercise\n",
    "\n",
    "Write a program that prompts the user for 5 integers, then prints out:\n",
    "1. The largest integer they entered\n",
    "2. The smallest integer they entered\n",
    "3. Whether `42` is in the list of integers they entered\n",
    "4. How many times they repeated the first integer they entered\n",
    "  * e.g. if they entered: 4, 3, 4, 4, 1, then the answer would be 3, because they entered the number 4 three times.\n",
    "  \n",
    "Hint: Use a list to store the integers, then use the sequence operations for each task.\n",
    "  \n",
    "## [Repl.it: Sequences Playground](https://replit.com/team/cosi-10a-fall23/Sequence-playground)"
   ]
  },
  {
   "cell_type": "markdown",
   "id": "52731dc7",
   "metadata": {
    "slideshow": {
     "slide_type": "slide"
    }
   },
   "source": [
    "# More on Strings\n",
    "\n",
    "In addition to the common sequence operations, strings provide many other helpful methods.\n",
    "\n",
    "The full list can be found in the [official documentation on strings](https://docs.python.org/3/library/stdtypes.html#string-methods). \n",
    "\n",
    "We'll look through a few notable ones now."
   ]
  },
  {
   "cell_type": "markdown",
   "id": "c9e22759",
   "metadata": {
    "slideshow": {
     "slide_type": "subslide"
    }
   },
   "source": [
    "## split\n",
    "\n",
    "`s.split(<delim>)` splits a string into a list. By default it splits at any whitespace, or you can tell it which character(s) to split at:"
   ]
  },
  {
   "cell_type": "code",
   "execution_count": null,
   "id": "dca84053",
   "metadata": {
    "execution": {
     "iopub.execute_input": "2023-10-05T18:53:12.263211Z",
     "iopub.status.busy": "2023-10-05T18:53:12.262976Z",
     "iopub.status.idle": "2023-10-05T18:53:12.267035Z",
     "shell.execute_reply": "2023-10-05T18:53:12.266513Z"
    }
   },
   "outputs": [],
   "source": [
    "sentence = \"This is a sentence with lots of words\"\n",
    "sentence.split()"
   ]
  },
  {
   "cell_type": "code",
   "execution_count": null,
   "id": "243aa8e6",
   "metadata": {
    "execution": {
     "iopub.execute_input": "2023-10-05T18:53:12.269729Z",
     "iopub.status.busy": "2023-10-05T18:53:12.269497Z",
     "iopub.status.idle": "2023-10-05T18:53:12.273792Z",
     "shell.execute_reply": "2023-10-05T18:53:12.273217Z"
    }
   },
   "outputs": [],
   "source": [
    "sentence = \"This,is a sentence,with,lots of words\"\n",
    "sentence.split(\",\")"
   ]
  },
  {
   "cell_type": "markdown",
   "id": "0ecd3c75",
   "metadata": {
    "slideshow": {
     "slide_type": "subslide"
    }
   },
   "source": [
    "## join\n",
    "\n",
    "`s.join(<sequence of strings>)` joins a sequence of strings together into a single string, with `s` between each string."
   ]
  },
  {
   "cell_type": "code",
   "execution_count": null,
   "id": "19b24398",
   "metadata": {
    "execution": {
     "iopub.execute_input": "2023-10-05T18:53:12.277113Z",
     "iopub.status.busy": "2023-10-05T18:53:12.276871Z",
     "iopub.status.idle": "2023-10-05T18:53:12.281296Z",
     "shell.execute_reply": "2023-10-05T18:53:12.280775Z"
    }
   },
   "outputs": [],
   "source": [
    "' '.join([\"some\", \"words\", \"to\", \"stitch\", \"together\"])"
   ]
  },
  {
   "cell_type": "code",
   "execution_count": null,
   "id": "09b7f80b",
   "metadata": {
    "execution": {
     "iopub.execute_input": "2023-10-05T18:53:12.284095Z",
     "iopub.status.busy": "2023-10-05T18:53:12.283855Z",
     "iopub.status.idle": "2023-10-05T18:53:12.287997Z",
     "shell.execute_reply": "2023-10-05T18:53:12.287455Z"
    }
   },
   "outputs": [],
   "source": [
    "'%T%'.join([\"some\", \"words\", \"to\", \"stitch\", \"together\"])"
   ]
  },
  {
   "cell_type": "markdown",
   "id": "e14be3ca",
   "metadata": {
    "slideshow": {
     "slide_type": "subslide"
    }
   },
   "source": [
    "## isdigit\n",
    "\n",
    "`s.isdigit()` returns `True` if all characters in the string are digits and there is at least one character, `False` otherwise."
   ]
  },
  {
   "cell_type": "code",
   "execution_count": null,
   "id": "5a165a55",
   "metadata": {
    "execution": {
     "iopub.execute_input": "2023-10-05T18:53:12.291006Z",
     "iopub.status.busy": "2023-10-05T18:53:12.290631Z",
     "iopub.status.idle": "2023-10-05T18:53:12.294657Z",
     "shell.execute_reply": "2023-10-05T18:53:12.293982Z"
    }
   },
   "outputs": [],
   "source": [
    "'12345678'.isdigit()"
   ]
  },
  {
   "cell_type": "code",
   "execution_count": null,
   "id": "1a389911",
   "metadata": {
    "execution": {
     "iopub.execute_input": "2023-10-05T18:53:12.297915Z",
     "iopub.status.busy": "2023-10-05T18:53:12.297367Z",
     "iopub.status.idle": "2023-10-05T18:53:12.301899Z",
     "shell.execute_reply": "2023-10-05T18:53:12.301331Z"
    }
   },
   "outputs": [],
   "source": [
    "'123abc'.isdigit()"
   ]
  },
  {
   "cell_type": "markdown",
   "id": "61ed7209",
   "metadata": {
    "slideshow": {
     "slide_type": "subslide"
    }
   },
   "source": [
    "## Changing case\n",
    "\n",
    "`s.upper()` and `s.lower()` convert strings to upper and lower case"
   ]
  },
  {
   "cell_type": "code",
   "execution_count": null,
   "id": "1589ff4d",
   "metadata": {
    "execution": {
     "iopub.execute_input": "2023-10-05T18:53:12.304850Z",
     "iopub.status.busy": "2023-10-05T18:53:12.304588Z",
     "iopub.status.idle": "2023-10-05T18:53:12.308964Z",
     "shell.execute_reply": "2023-10-05T18:53:12.308348Z"
    }
   },
   "outputs": [],
   "source": [
    "'SpongeBob SquarePants'.upper()"
   ]
  },
  {
   "cell_type": "code",
   "execution_count": null,
   "id": "611b5025",
   "metadata": {
    "execution": {
     "iopub.execute_input": "2023-10-05T18:53:12.311854Z",
     "iopub.status.busy": "2023-10-05T18:53:12.311616Z",
     "iopub.status.idle": "2023-10-05T18:53:12.315498Z",
     "shell.execute_reply": "2023-10-05T18:53:12.314977Z"
    }
   },
   "outputs": [],
   "source": [
    "'SpongeBob SquarePants'.lower()"
   ]
  },
  {
   "cell_type": "markdown",
   "id": "03e4feaf",
   "metadata": {
    "slideshow": {
     "slide_type": "subslide"
    }
   },
   "source": [
    "## startswith / endswith\n",
    "\n",
    "`s.startswith(<search string>)` and `s.endswith(<search string>)`: return True if a string starts/ends with a substring"
   ]
  },
  {
   "cell_type": "code",
   "execution_count": null,
   "id": "8967302d",
   "metadata": {
    "execution": {
     "iopub.execute_input": "2023-10-05T18:53:12.318505Z",
     "iopub.status.busy": "2023-10-05T18:53:12.318243Z",
     "iopub.status.idle": "2023-10-05T18:53:12.322246Z",
     "shell.execute_reply": "2023-10-05T18:53:12.321722Z"
    }
   },
   "outputs": [],
   "source": [
    "'SpongeBob SquarePants'.startswith(\"Sponge\")"
   ]
  },
  {
   "cell_type": "code",
   "execution_count": null,
   "id": "1d0f9a1c",
   "metadata": {
    "execution": {
     "iopub.execute_input": "2023-10-05T18:53:12.325085Z",
     "iopub.status.busy": "2023-10-05T18:53:12.324842Z",
     "iopub.status.idle": "2023-10-05T18:53:12.328824Z",
     "shell.execute_reply": "2023-10-05T18:53:12.328248Z"
    }
   },
   "outputs": [],
   "source": [
    "# case matters!\n",
    "'SpongeBob SquarePants'.endswith(\"pants\")"
   ]
  },
  {
   "cell_type": "markdown",
   "id": "132f9706",
   "metadata": {
    "slideshow": {
     "slide_type": "slide"
    }
   },
   "source": [
    "# String formatting\n",
    "\n",
    "Let's look at [**f-strings**](https://docs.python.org/3/tutorial/inputoutput.html#formatted-string-literals), a more flexible, usable way to format strings for output.\n",
    "\n",
    "Adding an `f` before a string lets you you include the value of Python expressions inside a string. Here's an example:"
   ]
  },
  {
   "cell_type": "code",
   "execution_count": null,
   "id": "837eb424",
   "metadata": {
    "execution": {
     "iopub.execute_input": "2023-10-05T18:53:12.331727Z",
     "iopub.status.busy": "2023-10-05T18:53:12.331493Z",
     "iopub.status.idle": "2023-10-05T18:53:12.334568Z",
     "shell.execute_reply": "2023-10-05T18:53:12.333997Z"
    }
   },
   "outputs": [],
   "source": [
    "name = \"Spongebob\"\n",
    "age = 72\n",
    "foods = [\"Cake\", \"Pie\", \"Peanut Butter\"]"
   ]
  },
  {
   "cell_type": "code",
   "execution_count": null,
   "id": "f21d235b",
   "metadata": {
    "execution": {
     "iopub.execute_input": "2023-10-05T18:53:12.337434Z",
     "iopub.status.busy": "2023-10-05T18:53:12.337198Z",
     "iopub.status.idle": "2023-10-05T18:53:12.340669Z",
     "shell.execute_reply": "2023-10-05T18:53:12.340114Z"
    }
   },
   "outputs": [],
   "source": [
    "# Old way:\n",
    "print(\"Hi, I am \" + name + \", I'm \" + str(age) + \" years old, and I like \" + str(len(foods)) + \" foods: \" + ', '.join(foods) + \".\")"
   ]
  },
  {
   "cell_type": "code",
   "execution_count": null,
   "id": "701b0172",
   "metadata": {
    "execution": {
     "iopub.execute_input": "2023-10-05T18:53:12.343621Z",
     "iopub.status.busy": "2023-10-05T18:53:12.343384Z",
     "iopub.status.idle": "2023-10-05T18:53:12.347131Z",
     "shell.execute_reply": "2023-10-05T18:53:12.346392Z"
    }
   },
   "outputs": [],
   "source": [
    "# Using f-strings\n",
    "print(f\"Hi, I am {name}, I'm {age} years old, and I like {len(foods)} foods: {', '.join(foods)}.\")"
   ]
  },
  {
   "cell_type": "code",
   "execution_count": null,
   "id": "d7c3a55e",
   "metadata": {
    "execution": {
     "iopub.execute_input": "2023-10-05T18:53:12.350132Z",
     "iopub.status.busy": "2023-10-05T18:53:12.349898Z",
     "iopub.status.idle": "2023-10-05T18:53:12.353548Z",
     "shell.execute_reply": "2023-10-05T18:53:12.352992Z"
    },
    "slideshow": {
     "slide_type": "subslide"
    }
   },
   "outputs": [],
   "source": [
    "# Using f-strings\n",
    "print(f\"Hi, I am {name}, I'm {age} years old, and I like {len(foods)} foods: {', '.join(foods)}.\")"
   ]
  },
  {
   "cell_type": "markdown",
   "id": "52514359",
   "metadata": {},
   "source": [
    "Note that we were able to include an integer (`age`) without an explicit type conversion. \n",
    "\n",
    "This makes printing **much** easier, no more awful lines like this: `print(\"Some text: \" + str(some_number) + \".\")`"
   ]
  },
  {
   "cell_type": "markdown",
   "id": "c9651a22",
   "metadata": {
    "slideshow": {
     "slide_type": "subslide"
    }
   },
   "source": [
    "One more formatting trick: to control the number of decimal places, add `:.<num decimals>f` after an expression in an f-string.\n",
    "\n",
    "For example:"
   ]
  },
  {
   "cell_type": "code",
   "execution_count": null,
   "id": "161a52f7",
   "metadata": {
    "execution": {
     "iopub.execute_input": "2023-10-05T18:53:12.356939Z",
     "iopub.status.busy": "2023-10-05T18:53:12.356664Z",
     "iopub.status.idle": "2023-10-05T18:53:12.360234Z",
     "shell.execute_reply": "2023-10-05T18:53:12.359699Z"
    }
   },
   "outputs": [],
   "source": [
    "fraction = 1/3\n",
    "print(fraction)\n",
    "print(f\"{fraction:.2f}\")"
   ]
  },
  {
   "cell_type": "markdown",
   "id": "ce5c595a",
   "metadata": {
    "slideshow": {
     "slide_type": "subslide"
    }
   },
   "source": [
    "The [official documentation on string formatting](https://docs.python.org/3/reference/lexical_analysis.html#f-strings) is extremely obtuse. Try [fstring.help](https://fstring.help/) for a deeper tutorial, and [fstring.help/cheat](https://fstring.help/cheat/) instead for a quick cheat sheet."
   ]
  },
  {
   "cell_type": "markdown",
   "id": "17934b2f",
   "metadata": {
    "slideshow": {
     "slide_type": "slide"
    }
   },
   "source": [
    "# Exercise\n",
    "\n",
    "Write a word guessing game where the user guesses one letter at a time to try to guess a secret word. Show the user's progress between each guess."
   ]
  },
  {
   "cell_type": "markdown",
   "id": "c9784094",
   "metadata": {
    "slideshow": {
     "slide_type": "subslide"
    }
   },
   "source": [
    "## Functional decomposition\n",
    "\n",
    "This time, let's write the code from the outside in:"
   ]
  },
  {
   "cell_type": "code",
   "execution_count": null,
   "id": "5165d8eb",
   "metadata": {
    "execution": {
     "iopub.execute_input": "2023-10-05T18:53:12.363246Z",
     "iopub.status.busy": "2023-10-05T18:53:12.363009Z",
     "iopub.status.idle": "2023-10-05T18:53:12.366416Z",
     "shell.execute_reply": "2023-10-05T18:53:12.365870Z"
    }
   },
   "outputs": [],
   "source": [
    "def play_game():\n",
    "    word = \"secret\"\n",
    "    progress = [\"_\", \"_\", \"_\", \"_\", \"_\", \"_\"]\n",
    "    while True:\n",
    "        display_progress(progress)\n",
    "        guess = get_guess()\n",
    "        process_guess(word, progress)"
   ]
  },
  {
   "cell_type": "markdown",
   "id": "c64dcf2f",
   "metadata": {
    "slideshow": {
     "slide_type": "fragment"
    }
   },
   "source": [
    "We've written the outer code, and now we have an idea of which helper functions will be most useful."
   ]
  },
  {
   "cell_type": "code",
   "execution_count": null,
   "id": "00b13a7e",
   "metadata": {
    "execution": {
     "iopub.execute_input": "2023-10-05T18:53:12.369294Z",
     "iopub.status.busy": "2023-10-05T18:53:12.369059Z",
     "iopub.status.idle": "2023-10-05T18:53:12.372178Z",
     "shell.execute_reply": "2023-10-05T18:53:12.371568Z"
    },
    "slideshow": {
     "slide_type": "subslide"
    }
   },
   "outputs": [],
   "source": [
    "def display_progress(progress):\n",
    "    for p in progress:\n",
    "        print(p, end=\" \")\n",
    "       "
   ]
  },
  {
   "cell_type": "code",
   "execution_count": null,
   "id": "b9b7f810",
   "metadata": {
    "execution": {
     "iopub.execute_input": "2023-10-05T18:53:12.374884Z",
     "iopub.status.busy": "2023-10-05T18:53:12.374637Z",
     "iopub.status.idle": "2023-10-05T18:53:12.377967Z",
     "shell.execute_reply": "2023-10-05T18:53:12.377443Z"
    }
   },
   "outputs": [],
   "source": [
    "display_progress([\"_\", \"a\", \"b\", \"_\"])"
   ]
  },
  {
   "cell_type": "markdown",
   "id": "9cad0b4a",
   "metadata": {
    "slideshow": {
     "slide_type": "subslide"
    }
   },
   "source": [
    "Another way, using the string method `join` that we just saw:"
   ]
  },
  {
   "cell_type": "code",
   "execution_count": null,
   "id": "e7133f61",
   "metadata": {
    "execution": {
     "iopub.execute_input": "2023-10-05T18:53:12.380760Z",
     "iopub.status.busy": "2023-10-05T18:53:12.380523Z",
     "iopub.status.idle": "2023-10-05T18:53:12.383733Z",
     "shell.execute_reply": "2023-10-05T18:53:12.383144Z"
    }
   },
   "outputs": [],
   "source": [
    "def display_progress(progress):\n",
    "    print(\" \".join(progress))"
   ]
  },
  {
   "cell_type": "code",
   "execution_count": null,
   "id": "1abbb027",
   "metadata": {
    "execution": {
     "iopub.execute_input": "2023-10-05T18:53:12.386487Z",
     "iopub.status.busy": "2023-10-05T18:53:12.386245Z",
     "iopub.status.idle": "2023-10-05T18:53:12.389654Z",
     "shell.execute_reply": "2023-10-05T18:53:12.389127Z"
    }
   },
   "outputs": [],
   "source": [
    "display_progress([\"_\", \"a\", \"b\", \"_\"])"
   ]
  },
  {
   "cell_type": "code",
   "execution_count": null,
   "id": "3f2e0667",
   "metadata": {
    "execution": {
     "iopub.execute_input": "2023-10-05T18:53:12.392551Z",
     "iopub.status.busy": "2023-10-05T18:53:12.392226Z",
     "iopub.status.idle": "2023-10-05T18:53:12.396452Z",
     "shell.execute_reply": "2023-10-05T18:53:12.395535Z"
    },
    "slideshow": {
     "slide_type": "subslide"
    }
   },
   "outputs": [],
   "source": [
    "def play_game():\n",
    "    word = \"secret\"\n",
    "    progress = [\"_\", \"_\", \"_\", \"_\", \"_\", \"_\"]\n",
    "    while True:\n",
    "        display_progress(progress)\n",
    "        guess = get_guess()\n",
    "        process_guess(word, progress)"
   ]
  },
  {
   "cell_type": "markdown",
   "id": "b218f5c7",
   "metadata": {},
   "source": [
    "Next up, `get_guess()`..."
   ]
  },
  {
   "cell_type": "code",
   "execution_count": null,
   "id": "8e9d844d",
   "metadata": {
    "execution": {
     "iopub.execute_input": "2023-10-05T18:53:12.400188Z",
     "iopub.status.busy": "2023-10-05T18:53:12.399911Z",
     "iopub.status.idle": "2023-10-05T18:53:12.403132Z",
     "shell.execute_reply": "2023-10-05T18:53:12.402496Z"
    },
    "slideshow": {
     "slide_type": "subslide"
    }
   },
   "outputs": [],
   "source": [
    "def get_guess():\n",
    "    return input(\"Guess a letter! \")"
   ]
  },
  {
   "cell_type": "code",
   "execution_count": null,
   "id": "cb97640e",
   "metadata": {
    "execution": {
     "iopub.execute_input": "2023-10-05T18:53:12.406374Z",
     "iopub.status.busy": "2023-10-05T18:53:12.406090Z",
     "iopub.status.idle": "2023-10-05T18:53:12.497180Z",
     "shell.execute_reply": "2023-10-05T18:53:12.496519Z"
    },
    "tags": [
     "remove-output"
    ]
   },
   "outputs": [],
   "source": [
    "get_guess()"
   ]
  },
  {
   "cell_type": "code",
   "execution_count": null,
   "id": "26a9ae65",
   "metadata": {
    "execution": {
     "iopub.execute_input": "2023-10-05T18:53:12.501244Z",
     "iopub.status.busy": "2023-10-05T18:53:12.500710Z",
     "iopub.status.idle": "2023-10-05T18:53:12.505328Z",
     "shell.execute_reply": "2023-10-05T18:53:12.504330Z"
    },
    "slideshow": {
     "slide_type": "subslide"
    }
   },
   "outputs": [],
   "source": [
    "def get_guess():\n",
    "    while True:\n",
    "        guess = input(\"Guess a letter! \")\n",
    "        if len(guess) == 1 and guess.isalpha():\n",
    "            return guess\n",
    "        else:\n",
    "            print(\"Invalid guess, please guess a single letter\")\n",
    "            "
   ]
  },
  {
   "cell_type": "code",
   "execution_count": null,
   "id": "3e87ec59",
   "metadata": {
    "execution": {
     "iopub.execute_input": "2023-10-05T18:53:12.509482Z",
     "iopub.status.busy": "2023-10-05T18:53:12.508832Z",
     "iopub.status.idle": "2023-10-05T18:53:12.536029Z",
     "shell.execute_reply": "2023-10-05T18:53:12.535382Z"
    },
    "tags": [
     "remove-output"
    ]
   },
   "outputs": [],
   "source": [
    "get_guess()"
   ]
  },
  {
   "cell_type": "code",
   "execution_count": null,
   "id": "2dfb3b65",
   "metadata": {
    "execution": {
     "iopub.execute_input": "2023-10-05T18:53:12.539563Z",
     "iopub.status.busy": "2023-10-05T18:53:12.539167Z",
     "iopub.status.idle": "2023-10-05T18:53:12.543262Z",
     "shell.execute_reply": "2023-10-05T18:53:12.542580Z"
    },
    "slideshow": {
     "slide_type": "subslide"
    }
   },
   "outputs": [],
   "source": [
    "def play_game():\n",
    "    word = \"secret\"\n",
    "    progress = [\"_\", \"_\", \"_\", \"_\", \"_\", \"_\"]\n",
    "    while True:\n",
    "        display_progress(progress)\n",
    "        guess = get_guess()\n",
    "        process_guess(guess, word, progress)"
   ]
  },
  {
   "cell_type": "markdown",
   "id": "f097c53a",
   "metadata": {},
   "source": [
    "Next up, `process_guess()`, the trickiest part."
   ]
  },
  {
   "cell_type": "markdown",
   "id": "b3cfc988",
   "metadata": {
    "slideshow": {
     "slide_type": "subslide"
    }
   },
   "source": [
    "Walk through each letter of the secret word. If our guess matches that letter, then put that letter into `progress` at the correct index."
   ]
  },
  {
   "cell_type": "code",
   "execution_count": null,
   "id": "869d10a2",
   "metadata": {
    "execution": {
     "iopub.execute_input": "2023-10-05T18:53:12.546690Z",
     "iopub.status.busy": "2023-10-05T18:53:12.546318Z",
     "iopub.status.idle": "2023-10-05T18:53:12.549901Z",
     "shell.execute_reply": "2023-10-05T18:53:12.549323Z"
    },
    "slideshow": {
     "slide_type": "-"
    }
   },
   "outputs": [],
   "source": [
    "def process_guess(guess, word, progress):\n",
    "    for index in range(len(word)):\n",
    "        if guess == word[index]:\n",
    "            progress[index] = guess\n",
    "            "
   ]
  },
  {
   "cell_type": "code",
   "execution_count": null,
   "id": "7c694b45",
   "metadata": {
    "execution": {
     "iopub.execute_input": "2023-10-05T18:53:12.553042Z",
     "iopub.status.busy": "2023-10-05T18:53:12.552601Z",
     "iopub.status.idle": "2023-10-05T18:53:12.556323Z",
     "shell.execute_reply": "2023-10-05T18:53:12.555660Z"
    }
   },
   "outputs": [],
   "source": [
    "progress = [\"s\", \"_\", \"_\", \"r\", \"_\", \"t\"]\n",
    "process_guess('e', 'secret', progress)\n",
    "print(progress)"
   ]
  },
  {
   "cell_type": "markdown",
   "id": "b092d7e9",
   "metadata": {
    "slideshow": {
     "slide_type": "subslide"
    }
   },
   "source": [
    "Each piece seems to work on its own, lets test it all together"
   ]
  },
  {
   "cell_type": "code",
   "execution_count": null,
   "id": "6faebcb0",
   "metadata": {
    "execution": {
     "iopub.execute_input": "2023-10-05T18:53:12.559594Z",
     "iopub.status.busy": "2023-10-05T18:53:12.559331Z",
     "iopub.status.idle": "2023-10-05T18:53:12.562985Z",
     "shell.execute_reply": "2023-10-05T18:53:12.562330Z"
    },
    "slideshow": {
     "slide_type": "-"
    }
   },
   "outputs": [],
   "source": [
    "def play_game():\n",
    "    word = \"secret\"\n",
    "    progress = [\"_\", \"_\", \"_\", \"_\", \"_\", \"_\"]\n",
    "    while True:\n",
    "        display_progress(progress)\n",
    "        guess = get_guess()\n",
    "        process_guess(guess, word, progress)"
   ]
  },
  {
   "cell_type": "code",
   "execution_count": null,
   "id": "06210491",
   "metadata": {
    "execution": {
     "iopub.execute_input": "2023-10-05T18:53:12.566028Z",
     "iopub.status.busy": "2023-10-05T18:53:12.565783Z",
     "iopub.status.idle": "2023-10-05T18:53:12.600931Z",
     "shell.execute_reply": "2023-10-05T18:53:12.600159Z"
    },
    "tags": [
     "remove-output"
    ]
   },
   "outputs": [],
   "source": [
    "play_game()"
   ]
  },
  {
   "cell_type": "markdown",
   "id": "eb26bdc8",
   "metadata": {
    "slideshow": {
     "slide_type": "subslide"
    }
   },
   "source": [
    "Oops, we forgot to end the game!"
   ]
  },
  {
   "cell_type": "code",
   "execution_count": null,
   "id": "629fcad1",
   "metadata": {
    "execution": {
     "iopub.execute_input": "2023-10-05T18:53:12.604199Z",
     "iopub.status.busy": "2023-10-05T18:53:12.603843Z",
     "iopub.status.idle": "2023-10-05T18:53:12.607896Z",
     "shell.execute_reply": "2023-10-05T18:53:12.607323Z"
    },
    "slideshow": {
     "slide_type": "-"
    }
   },
   "outputs": [],
   "source": [
    "def play_game():\n",
    "    word = \"secret\"\n",
    "    progress = [\"_\", \"_\", \"_\", \"_\", \"_\", \"_\"]\n",
    "    while True:\n",
    "        display_progress(progress)\n",
    "        guess = get_guess()\n",
    "        process_guess(guess, word, progress)\n",
    "        if game_over(progress):\n",
    "            print(\"You win!\")\n",
    "            break"
   ]
  },
  {
   "cell_type": "code",
   "execution_count": null,
   "id": "d86d0164",
   "metadata": {
    "execution": {
     "iopub.execute_input": "2023-10-05T18:53:12.611038Z",
     "iopub.status.busy": "2023-10-05T18:53:12.610696Z",
     "iopub.status.idle": "2023-10-05T18:53:12.614100Z",
     "shell.execute_reply": "2023-10-05T18:53:12.613488Z"
    },
    "slideshow": {
     "slide_type": "subslide"
    }
   },
   "outputs": [],
   "source": [
    "def game_over(progress):\n",
    "    for letter in progress:\n",
    "        if letter == \"_\":\n",
    "            return False\n",
    "    return True"
   ]
  },
  {
   "cell_type": "code",
   "execution_count": null,
   "id": "823f83c1",
   "metadata": {
    "execution": {
     "iopub.execute_input": "2023-10-05T18:53:12.617091Z",
     "iopub.status.busy": "2023-10-05T18:53:12.616743Z",
     "iopub.status.idle": "2023-10-05T18:53:12.621159Z",
     "shell.execute_reply": "2023-10-05T18:53:12.620510Z"
    }
   },
   "outputs": [],
   "source": [
    "game_over([\"a\", \"b\", \"c\"])"
   ]
  },
  {
   "cell_type": "code",
   "execution_count": null,
   "id": "40083977",
   "metadata": {
    "execution": {
     "iopub.execute_input": "2023-10-05T18:53:12.624126Z",
     "iopub.status.busy": "2023-10-05T18:53:12.623848Z",
     "iopub.status.idle": "2023-10-05T18:53:12.628214Z",
     "shell.execute_reply": "2023-10-05T18:53:12.627613Z"
    }
   },
   "outputs": [],
   "source": [
    "game_over([\"a\", \"_\", \"c\"])"
   ]
  },
  {
   "cell_type": "markdown",
   "id": "ded44014",
   "metadata": {
    "slideshow": {
     "slide_type": "subslide"
    }
   },
   "source": [
    "Or, again, a shorter way using one of the sequence operations: `in`"
   ]
  },
  {
   "cell_type": "code",
   "execution_count": null,
   "id": "9e6f275e",
   "metadata": {
    "execution": {
     "iopub.execute_input": "2023-10-05T18:53:12.631150Z",
     "iopub.status.busy": "2023-10-05T18:53:12.630901Z",
     "iopub.status.idle": "2023-10-05T18:53:12.634002Z",
     "shell.execute_reply": "2023-10-05T18:53:12.633392Z"
    }
   },
   "outputs": [],
   "source": [
    "def game_over(progress):\n",
    "    return \"_\" not in progress"
   ]
  },
  {
   "cell_type": "code",
   "execution_count": null,
   "id": "9ed4c7c9",
   "metadata": {
    "execution": {
     "iopub.execute_input": "2023-10-05T18:53:12.636972Z",
     "iopub.status.busy": "2023-10-05T18:53:12.636706Z",
     "iopub.status.idle": "2023-10-05T18:53:12.641066Z",
     "shell.execute_reply": "2023-10-05T18:53:12.640495Z"
    }
   },
   "outputs": [],
   "source": [
    "game_over([\"a\", \"b\", \"c\"])"
   ]
  },
  {
   "cell_type": "code",
   "execution_count": null,
   "id": "b964c403",
   "metadata": {
    "execution": {
     "iopub.execute_input": "2023-10-05T18:53:12.644131Z",
     "iopub.status.busy": "2023-10-05T18:53:12.643864Z",
     "iopub.status.idle": "2023-10-05T18:53:12.648015Z",
     "shell.execute_reply": "2023-10-05T18:53:12.647443Z"
    }
   },
   "outputs": [],
   "source": [
    "game_over([\"a\", \"_\", \"c\"])"
   ]
  },
  {
   "cell_type": "code",
   "execution_count": null,
   "id": "d480a2ae",
   "metadata": {
    "execution": {
     "iopub.execute_input": "2023-10-05T18:53:12.650823Z",
     "iopub.status.busy": "2023-10-05T18:53:12.650566Z",
     "iopub.status.idle": "2023-10-05T18:53:12.654381Z",
     "shell.execute_reply": "2023-10-05T18:53:12.653780Z"
    },
    "slideshow": {
     "slide_type": "subslide"
    }
   },
   "outputs": [],
   "source": [
    "def play_game():\n",
    "    word = \"secret\"\n",
    "    progress = [\"_\", \"_\", \"_\", \"_\", \"_\", \"_\"]\n",
    "    while True:\n",
    "        display_progress(progress)\n",
    "        guess = get_guess()\n",
    "        process_guess(guess, word, progress)\n",
    "        if game_over(progress):\n",
    "            print(\"You win!\")\n",
    "            break"
   ]
  },
  {
   "cell_type": "code",
   "execution_count": null,
   "id": "5538b6f0",
   "metadata": {
    "execution": {
     "iopub.execute_input": "2023-10-05T18:53:12.657387Z",
     "iopub.status.busy": "2023-10-05T18:53:12.657131Z",
     "iopub.status.idle": "2023-10-05T18:53:12.692864Z",
     "shell.execute_reply": "2023-10-05T18:53:12.691948Z"
    },
    "tags": [
     "remove-output"
    ]
   },
   "outputs": [],
   "source": [
    "play_game()"
   ]
  },
  {
   "cell_type": "markdown",
   "id": "3abbfa7c",
   "metadata": {
    "slideshow": {
     "slide_type": "subslide"
    }
   },
   "source": [
    "What if we want to use a different word? We can parameterize `play_game`:"
   ]
  },
  {
   "cell_type": "code",
   "execution_count": null,
   "id": "1b531659",
   "metadata": {
    "execution": {
     "iopub.execute_input": "2023-10-05T18:53:12.696863Z",
     "iopub.status.busy": "2023-10-05T18:53:12.696111Z",
     "iopub.status.idle": "2023-10-05T18:53:12.701148Z",
     "shell.execute_reply": "2023-10-05T18:53:12.700507Z"
    }
   },
   "outputs": [],
   "source": [
    "def play_game(word):\n",
    "    progress = [\"_\"] * len(word)\n",
    "    while True:\n",
    "        display_progress(progress)\n",
    "        guess = get_guess()\n",
    "        process_guess(guess, word, progress)\n",
    "        if game_over(progress):\n",
    "            print(\"You win!\")\n",
    "            break"
   ]
  },
  {
   "cell_type": "code",
   "execution_count": null,
   "id": "c0af929e",
   "metadata": {
    "execution": {
     "iopub.execute_input": "2023-10-05T18:53:12.704238Z",
     "iopub.status.busy": "2023-10-05T18:53:12.703968Z",
     "iopub.status.idle": "2023-10-05T18:53:12.737954Z",
     "shell.execute_reply": "2023-10-05T18:53:12.737319Z"
    },
    "tags": [
     "remove-output"
    ]
   },
   "outputs": [],
   "source": [
    "play_game(\"abba\")"
   ]
  },
  {
   "cell_type": "markdown",
   "id": "80cbf16f",
   "metadata": {
    "slideshow": {
     "slide_type": "subslide"
    }
   },
   "source": [
    "More things to think about:\n",
    "* How would you keep track of how many incorrect guesses a user had made, and stop after 5 incorrect?\n",
    "* How would you keep track of which letters the user had already guessed?\n",
    "* How could you handle the user entering an upper case letter?"
   ]
  }
 ],
 "metadata": {
  "celltoolbar": "Slideshow",
  "kernelspec": {
   "display_name": "Python 3 (ipykernel)",
   "language": "python",
   "name": "python3"
  },
  "language_info": {
   "codemirror_mode": {
    "name": "ipython",
    "version": 3
   },
   "file_extension": ".py",
   "mimetype": "text/x-python",
   "name": "python",
   "nbconvert_exporter": "python",
   "pygments_lexer": "ipython3",
   "version": "3.10.9"
  }
 },
 "nbformat": 4,
 "nbformat_minor": 5
}
