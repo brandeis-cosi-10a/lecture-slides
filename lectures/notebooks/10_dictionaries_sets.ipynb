{
 "cells": [
  {
   "cell_type": "markdown",
   "id": "1ee8a1d2",
   "metadata": {
    "slideshow": {
     "slide_type": "slide"
    }
   },
   "source": [
    "# Dictionaries and Sets\n",
    "\n",
    "<style>\n",
    "section.present > section.present { \n",
    "    max-height: 90%; \n",
    "    overflow-y: scroll;\n",
    "}\n",
    "</style>\n",
    "\n",
    "<small><a href=\"https://colab.research.google.com/github/brandeis-jdelfino/cosi-10a/blob/main/lectures/notebooks/10_dictionaries_sets.ipynb\">Link to interactive slides on Google Colab</a></small>"
   ]
  },
  {
   "cell_type": "markdown",
   "id": "84bdae82",
   "metadata": {
    "slideshow": {
     "slide_type": "slide"
    }
   },
   "source": [
    "## Announcements\n",
    "\n",
    "* PS2 grades are in LATTE, reach out to me with questions\n",
    "* PS3 due Sunday 11:59pm; don't count on availability of help over the weekend\n",
    "* PS3 guidance: Read the instructions carefully! In some problems, **especially Pig Latin**, the provided test cases don't cover every possible situation. \n",
    "   * You are required to add unit tests for Vowel Filter, but you are free to add them to other problems if it is helpful."
   ]
  },
  {
   "cell_type": "markdown",
   "id": "ecf7cb81",
   "metadata": {
    "slideshow": {
     "slide_type": "slide"
    }
   },
   "source": [
    "In the next 2 lectures, we'll cover the last 2 widely used data types in Python:\n",
    "* Dictionaries: mappings from keys to values\n",
    "* Sets: Unordered lists of unique values"
   ]
  },
  {
   "cell_type": "markdown",
   "id": "cf21df57",
   "metadata": {
    "slideshow": {
     "slide_type": "slide"
    }
   },
   "source": [
    "## The exercise Exercise, revisited\n",
    "\n",
    "We had 2 \"parallel lists\": names, and lists of which days those characters exercised. We used `zip` to iterate over them together."
   ]
  },
  {
   "cell_type": "code",
   "execution_count": null,
   "id": "61e4ff79",
   "metadata": {
    "execution": {
     "iopub.execute_input": "2023-10-24T12:15:24.400818Z",
     "iopub.status.busy": "2023-10-24T12:15:24.400112Z",
     "iopub.status.idle": "2023-10-24T12:15:24.421730Z",
     "shell.execute_reply": "2023-10-24T12:15:24.420407Z"
    }
   },
   "outputs": [],
   "source": [
    "names = [\"Spongebob\", \"Batman\", \"Dora\", \"Peppa\", \"Bill Murray\"]\n",
    "data = [\n",
    "    [1, 7, 15, 31],\n",
    "    [2, 21],\n",
    "    [5],\n",
    "    [1, 3, 5, 7, 9, 11, 13, 15, 17, 19, 21, 23, 25, 27, 29],\n",
    "    [1, 2, 3, 4, 5, 6]\n",
    "]\n",
    "\n",
    "most = 0\n",
    "most_name = \"\"\n",
    "for (name, dates) in zip(names, data):\n",
    "    if len(dates) > most:\n",
    "        most = len(dates)\n",
    "        most_name = name\n",
    "print(f\"{most_name} exercised the most, with {most} days of exercise!\")"
   ]
  },
  {
   "cell_type": "markdown",
   "id": "b1a36898",
   "metadata": {
    "slideshow": {
     "slide_type": "subslide"
    }
   },
   "source": [
    "**Dictionaries** are a better data structure for this type of data. They map **keys** (names) to **values** (list of exercise dates).\n",
    "\n",
    "Here's how that example would look with a dictionary."
   ]
  },
  {
   "cell_type": "code",
   "execution_count": null,
   "id": "182868ec",
   "metadata": {
    "execution": {
     "iopub.execute_input": "2023-10-24T12:15:24.428018Z",
     "iopub.status.busy": "2023-10-24T12:15:24.427702Z",
     "iopub.status.idle": "2023-10-24T12:15:24.435566Z",
     "shell.execute_reply": "2023-10-24T12:15:24.434043Z"
    }
   },
   "outputs": [],
   "source": [
    "data = {\n",
    "    \"Spongebob\": [1, 7, 15, 31],\n",
    "    \"Batman\": [2, 21],\n",
    "    \"Dora\": [5],\n",
    "    \"Peppa\": [1, 3, 5, 7, 9, 11, 13, 15, 17, 19, 21, 23, 25, 27, 29],\n",
    "    \"Bill Murray\": [1, 2, 3, 4, 5, 6]\n",
    "}\n",
    "\n",
    "most = 0\n",
    "most_name = \"\"\n",
    "for name in data:\n",
    "    if len(data[name]) > most:\n",
    "        most = len(data[name])\n",
    "        most_name = name\n",
    "print(f\"{most_name} exercised the most, with {most} days of exercise!\")"
   ]
  },
  {
   "cell_type": "markdown",
   "id": "e5a1eba7",
   "metadata": {
    "slideshow": {
     "slide_type": "slide"
    }
   },
   "source": [
    "# Creating dictionaries\n",
    "\n",
    "Dictionaries are created and represented with curly brackets: `{` and `}`."
   ]
  },
  {
   "cell_type": "code",
   "execution_count": null,
   "id": "3854a0d5",
   "metadata": {
    "execution": {
     "iopub.execute_input": "2023-10-24T12:15:24.440849Z",
     "iopub.status.busy": "2023-10-24T12:15:24.440560Z",
     "iopub.status.idle": "2023-10-24T12:15:24.444158Z",
     "shell.execute_reply": "2023-10-24T12:15:24.443556Z"
    }
   },
   "outputs": [],
   "source": [
    "distances_from_boston = {\n",
    "    \"NY, NY\": 216,\n",
    "    \"Portland, ME\": 110,\n",
    "    \"San Francisco, CA\": 2692,\n",
    "    \"Auckland, NZ\": 9002\n",
    "}\n",
    "print(distances_from_boston)"
   ]
  },
  {
   "cell_type": "markdown",
   "id": "8fc12d73",
   "metadata": {},
   "source": [
    "`distances_from_boston` holds 4 key/value pairs. All the keys are strings, all the values are integers. Keys can be any **immutable** type and values can be any type."
   ]
  },
  {
   "cell_type": "code",
   "execution_count": null,
   "id": "c39b73a4",
   "metadata": {
    "execution": {
     "iopub.execute_input": "2023-10-24T12:15:24.448252Z",
     "iopub.status.busy": "2023-10-24T12:15:24.447895Z",
     "iopub.status.idle": "2023-10-24T12:15:24.452464Z",
     "shell.execute_reply": "2023-10-24T12:15:24.450934Z"
    },
    "slideshow": {
     "slide_type": "subslide"
    }
   },
   "outputs": [],
   "source": [
    "x = {}\n",
    "print(x)"
   ]
  },
  {
   "cell_type": "markdown",
   "id": "2fab010b",
   "metadata": {},
   "source": [
    "`x` is an empty dictionary."
   ]
  },
  {
   "cell_type": "markdown",
   "id": "77391a05",
   "metadata": {
    "slideshow": {
     "slide_type": "subslide"
    }
   },
   "source": [
    "Dictionary keys are unique. The same key can't appear more than once in a dictionary."
   ]
  },
  {
   "cell_type": "code",
   "execution_count": null,
   "id": "f2aea045",
   "metadata": {
    "execution": {
     "iopub.execute_input": "2023-10-24T12:15:24.457427Z",
     "iopub.status.busy": "2023-10-24T12:15:24.457116Z",
     "iopub.status.idle": "2023-10-24T12:15:24.460804Z",
     "shell.execute_reply": "2023-10-24T12:15:24.460146Z"
    }
   },
   "outputs": [],
   "source": [
    "distances_from_boston = {\n",
    "    \"NY, NY\": 216,\n",
    "    \"NY, NY\": 110,\n",
    "    \"San Francisco, CA\": 2692,\n",
    "    \"Auckland, NZ\": 9002\n",
    "}\n",
    "print(distances_from_boston)"
   ]
  },
  {
   "cell_type": "markdown",
   "id": "a147ad39",
   "metadata": {},
   "source": [
    "The first `NY, NY` value (`216`) was overwritten by the second (`110`) "
   ]
  },
  {
   "cell_type": "markdown",
   "id": "ab100c46",
   "metadata": {
    "slideshow": {
     "slide_type": "slide"
    }
   },
   "source": [
    "## Accessing dictionary elements\n",
    "\n",
    "Dictionaries are accessed using the same bracket notation (`[]`) as lists, but with keys instead of indices."
   ]
  },
  {
   "cell_type": "code",
   "execution_count": null,
   "id": "0f15b8d4",
   "metadata": {
    "execution": {
     "iopub.execute_input": "2023-10-24T12:15:24.464996Z",
     "iopub.status.busy": "2023-10-24T12:15:24.464678Z",
     "iopub.status.idle": "2023-10-24T12:15:24.470162Z",
     "shell.execute_reply": "2023-10-24T12:15:24.469114Z"
    }
   },
   "outputs": [],
   "source": [
    "number_words = {\n",
    "    \"one\": 1,\n",
    "    \"four\": 4,\n",
    "    \"one hundred\": 100\n",
    "}\n",
    "print(number_words[\"four\"])"
   ]
  },
  {
   "cell_type": "code",
   "execution_count": null,
   "id": "6cf994b8",
   "metadata": {
    "execution": {
     "iopub.execute_input": "2023-10-24T12:15:24.473690Z",
     "iopub.status.busy": "2023-10-24T12:15:24.473400Z",
     "iopub.status.idle": "2023-10-24T12:15:24.476820Z",
     "shell.execute_reply": "2023-10-24T12:15:24.476259Z"
    }
   },
   "outputs": [],
   "source": [
    "print(number_words[\"one \" + \"hundred\"])"
   ]
  },
  {
   "cell_type": "markdown",
   "id": "53fe4581",
   "metadata": {
    "slideshow": {
     "slide_type": "subslide"
    }
   },
   "source": [
    "Accessing an element that doesn't exist generates an error"
   ]
  },
  {
   "cell_type": "code",
   "execution_count": null,
   "id": "8dbedcb5",
   "metadata": {
    "execution": {
     "iopub.execute_input": "2023-10-24T12:15:24.480442Z",
     "iopub.status.busy": "2023-10-24T12:15:24.480161Z",
     "iopub.status.idle": "2023-10-24T12:15:24.866423Z",
     "shell.execute_reply": "2023-10-24T12:15:24.863435Z"
    }
   },
   "outputs": [],
   "source": [
    "print(number_words[2])"
   ]
  },
  {
   "cell_type": "markdown",
   "id": "d5291d6f",
   "metadata": {
    "slideshow": {
     "slide_type": "subslide"
    }
   },
   "source": [
    "You can use the `.get()` method if you want to access an element that may not exist."
   ]
  },
  {
   "cell_type": "code",
   "execution_count": null,
   "id": "17a069b4",
   "metadata": {
    "execution": {
     "iopub.execute_input": "2023-10-24T12:15:24.875176Z",
     "iopub.status.busy": "2023-10-24T12:15:24.874509Z",
     "iopub.status.idle": "2023-10-24T12:15:24.888098Z",
     "shell.execute_reply": "2023-10-24T12:15:24.886446Z"
    }
   },
   "outputs": [],
   "source": [
    "number_words = {\n",
    "    \"one\": 1,\n",
    "    \"four\": 4,\n",
    "    \"one hundred\": 100\n",
    "}\n",
    "print(number_words.get(\"one\"))"
   ]
  },
  {
   "cell_type": "code",
   "execution_count": null,
   "id": "20058424",
   "metadata": {
    "execution": {
     "iopub.execute_input": "2023-10-24T12:15:24.903384Z",
     "iopub.status.busy": "2023-10-24T12:15:24.902577Z",
     "iopub.status.idle": "2023-10-24T12:15:24.912350Z",
     "shell.execute_reply": "2023-10-24T12:15:24.909545Z"
    }
   },
   "outputs": [],
   "source": [
    "print(number_words.get(\"two\"))"
   ]
  },
  {
   "cell_type": "markdown",
   "id": "5d8928fe",
   "metadata": {},
   "source": [
    "`get()` takes an optional argument the specifies the value to use if the key isn't found in the dictionary."
   ]
  },
  {
   "cell_type": "code",
   "execution_count": null,
   "id": "5d2899b9",
   "metadata": {
    "execution": {
     "iopub.execute_input": "2023-10-24T12:15:24.919460Z",
     "iopub.status.busy": "2023-10-24T12:15:24.918667Z",
     "iopub.status.idle": "2023-10-24T12:15:24.928303Z",
     "shell.execute_reply": "2023-10-24T12:15:24.926986Z"
    }
   },
   "outputs": [],
   "source": [
    "print(number_words.get(\"two\", \"unknown\"))"
   ]
  },
  {
   "cell_type": "markdown",
   "id": "f0e6954c",
   "metadata": {
    "slideshow": {
     "slide_type": "subslide"
    }
   },
   "source": [
    "You can check for the existince of a key with `in` (similar to lists and other sequences)"
   ]
  },
  {
   "cell_type": "code",
   "execution_count": null,
   "id": "eab3bf28",
   "metadata": {
    "execution": {
     "iopub.execute_input": "2023-10-24T12:15:24.933835Z",
     "iopub.status.busy": "2023-10-24T12:15:24.933408Z",
     "iopub.status.idle": "2023-10-24T12:15:24.938889Z",
     "shell.execute_reply": "2023-10-24T12:15:24.937935Z"
    }
   },
   "outputs": [],
   "source": [
    "number_words = {\n",
    "    \"one\": 1,\n",
    "    \"four\": 4,\n",
    "    \"one hundred\": 100\n",
    "}\n",
    "print(\"one\" in number_words)\n",
    "print(1 in number_words)"
   ]
  },
  {
   "cell_type": "code",
   "execution_count": null,
   "id": "d559277d",
   "metadata": {
    "execution": {
     "iopub.execute_input": "2023-10-24T12:15:24.942867Z",
     "iopub.status.busy": "2023-10-24T12:15:24.942508Z",
     "iopub.status.idle": "2023-10-24T12:15:24.952065Z",
     "shell.execute_reply": "2023-10-24T12:15:24.951000Z"
    }
   },
   "outputs": [],
   "source": [
    "\"ten\" in number_words"
   ]
  },
  {
   "cell_type": "markdown",
   "id": "bff0954d",
   "metadata": {
    "slideshow": {
     "slide_type": "slide"
    }
   },
   "source": [
    "## Modifying dictionaries\n",
    "\n",
    "Assigning a value to a key adds a key/value pair to the dictionary if the key doesn't already exist. If the key does already exist, the value for that key is updated."
   ]
  },
  {
   "cell_type": "code",
   "execution_count": null,
   "id": "6a2bbdc1",
   "metadata": {
    "execution": {
     "iopub.execute_input": "2023-10-24T12:15:24.958487Z",
     "iopub.status.busy": "2023-10-24T12:15:24.958026Z",
     "iopub.status.idle": "2023-10-24T12:15:24.963575Z",
     "shell.execute_reply": "2023-10-24T12:15:24.962676Z"
    }
   },
   "outputs": [],
   "source": [
    "number_preferences = {\n",
    "    1.5: False,\n",
    "    2.7: True,\n",
    "    3.9: False\n",
    "}\n",
    "print(number_preferences)"
   ]
  },
  {
   "cell_type": "code",
   "execution_count": null,
   "id": "23ccb5a9",
   "metadata": {
    "execution": {
     "iopub.execute_input": "2023-10-24T12:15:24.968378Z",
     "iopub.status.busy": "2023-10-24T12:15:24.967907Z",
     "iopub.status.idle": "2023-10-24T12:15:24.974543Z",
     "shell.execute_reply": "2023-10-24T12:15:24.973456Z"
    }
   },
   "outputs": [],
   "source": [
    "number_preferences[4.0] = \"yes\"\n",
    "print(number_preferences)"
   ]
  },
  {
   "cell_type": "code",
   "execution_count": null,
   "id": "fe046ee6",
   "metadata": {
    "execution": {
     "iopub.execute_input": "2023-10-24T12:15:24.978717Z",
     "iopub.status.busy": "2023-10-24T12:15:24.978373Z",
     "iopub.status.idle": "2023-10-24T12:15:24.983226Z",
     "shell.execute_reply": "2023-10-24T12:15:24.982149Z"
    }
   },
   "outputs": [],
   "source": [
    "number_preferences[1.5] = \"no\"\n",
    "print(number_preferences)"
   ]
  },
  {
   "cell_type": "markdown",
   "id": "f7c428d4",
   "metadata": {
    "slideshow": {
     "slide_type": "subslide"
    }
   },
   "source": [
    "You can delete from a dictionary using the `del` keyword."
   ]
  },
  {
   "cell_type": "code",
   "execution_count": null,
   "id": "db9b069b",
   "metadata": {
    "execution": {
     "iopub.execute_input": "2023-10-24T12:15:24.989322Z",
     "iopub.status.busy": "2023-10-24T12:15:24.988660Z",
     "iopub.status.idle": "2023-10-24T12:15:24.993920Z",
     "shell.execute_reply": "2023-10-24T12:15:24.992956Z"
    }
   },
   "outputs": [],
   "source": [
    "stats = {\n",
    "    \"height\": 67,\n",
    "    \"weight\": 140,\n",
    "    \"eye color\": \"blue\",\n",
    "    \"dominant hand\": \"left\"\n",
    "}\n",
    "print(stats)\n",
    "del stats[\"weight\"]\n",
    "print(stats)"
   ]
  },
  {
   "cell_type": "markdown",
   "id": "9ea32f85",
   "metadata": {
    "slideshow": {
     "slide_type": "slide"
    }
   },
   "source": [
    "## Iterating over dictionaries\n",
    "\n",
    "You can use for loops to iterate over the keys in a dictionary"
   ]
  },
  {
   "cell_type": "code",
   "execution_count": null,
   "id": "ca141bab",
   "metadata": {
    "execution": {
     "iopub.execute_input": "2023-10-24T12:15:24.997599Z",
     "iopub.status.busy": "2023-10-24T12:15:24.997297Z",
     "iopub.status.idle": "2023-10-24T12:15:25.001964Z",
     "shell.execute_reply": "2023-10-24T12:15:25.001282Z"
    }
   },
   "outputs": [],
   "source": [
    "stats = {\n",
    "    \"height\": 67,\n",
    "    \"weight\": 140,\n",
    "    \"eye color\": \"blue\",\n",
    "    \"dominant hand\": \"left\"\n",
    "}\n",
    "for statname in stats:\n",
    "    print(f\"My {statname} is {stats[statname]}\")"
   ]
  },
  {
   "cell_type": "markdown",
   "id": "a84afaaa",
   "metadata": {
    "slideshow": {
     "slide_type": "subslide"
    }
   },
   "source": [
    "You can also iterate over key/value pairs with the `.items()` method."
   ]
  },
  {
   "cell_type": "code",
   "execution_count": null,
   "id": "43e533f0",
   "metadata": {
    "execution": {
     "iopub.execute_input": "2023-10-24T12:15:25.006039Z",
     "iopub.status.busy": "2023-10-24T12:15:25.005730Z",
     "iopub.status.idle": "2023-10-24T12:15:25.010443Z",
     "shell.execute_reply": "2023-10-24T12:15:25.009636Z"
    }
   },
   "outputs": [],
   "source": [
    "stats = {\n",
    "    \"height\": 67,\n",
    "    \"weight\": 140,\n",
    "    \"eye color\": \"blue\",\n",
    "    \"dominant hand\": \"left\"\n",
    "}\n",
    "#print(list(stats.items()))\n",
    "for (key, value) in stats.items():\n",
    "    print(f\"My {key} is {value}\")\n",
    "#for key in stats:\n",
    "#    print(f\"My {key} is {stats[key]}\"))"
   ]
  },
  {
   "cell_type": "markdown",
   "id": "dc53395a",
   "metadata": {
    "slideshow": {
     "slide_type": "subslide"
    }
   },
   "source": [
    "`.items()` produces the keys/values as 2-tuples:"
   ]
  },
  {
   "cell_type": "code",
   "execution_count": null,
   "id": "dc138160",
   "metadata": {
    "execution": {
     "iopub.execute_input": "2023-10-24T12:15:25.014236Z",
     "iopub.status.busy": "2023-10-24T12:15:25.013938Z",
     "iopub.status.idle": "2023-10-24T12:15:25.018633Z",
     "shell.execute_reply": "2023-10-24T12:15:25.018023Z"
    }
   },
   "outputs": [],
   "source": [
    "list(stats.items())"
   ]
  },
  {
   "cell_type": "markdown",
   "id": "61bd003a",
   "metadata": {},
   "source": [
    "Our `for` loop used value unpacking - each key from `.items()` is unpacked into `statname`, and each value is unpacke into `value`:"
   ]
  },
  {
   "cell_type": "code",
   "execution_count": null,
   "id": "6c7b7fdf",
   "metadata": {
    "execution": {
     "iopub.execute_input": "2023-10-24T12:15:25.022200Z",
     "iopub.status.busy": "2023-10-24T12:15:25.021897Z",
     "iopub.status.idle": "2023-10-24T12:15:25.025702Z",
     "shell.execute_reply": "2023-10-24T12:15:25.024998Z"
    }
   },
   "outputs": [],
   "source": [
    "for statname, value in stats.items():\n",
    "    print(f\"My {statname} is {value}\")"
   ]
  },
  {
   "cell_type": "markdown",
   "id": "f053cd68",
   "metadata": {
    "slideshow": {
     "slide_type": "slide"
    }
   },
   "source": [
    "## Exercise\n",
    "\n",
    "Write a function to keep track of personal high scores for everyone who plays a game: `record_attempt(name, new_score, scores)`, where:\n",
    "* `name` is a string\n",
    "* `new_score` is an int\n",
    "* `scores` is a dictionary where the keys are names, and the value is the best score for a name\n",
    "* `record_attempt()` should modify `scores` in place"
   ]
  },
  {
   "cell_type": "code",
   "execution_count": null,
   "id": "b25ae039",
   "metadata": {
    "execution": {
     "iopub.execute_input": "2023-10-24T12:15:25.030627Z",
     "iopub.status.busy": "2023-10-24T12:15:25.030323Z",
     "iopub.status.idle": "2023-10-24T12:15:25.033741Z",
     "shell.execute_reply": "2023-10-24T12:15:25.032978Z"
    }
   },
   "outputs": [],
   "source": [
    "def record_attempt(name, new_score, scores):\n",
    "    # ???\n",
    "    return"
   ]
  },
  {
   "cell_type": "code",
   "execution_count": null,
   "id": "9ec62ab3",
   "metadata": {
    "execution": {
     "iopub.execute_input": "2023-10-24T12:15:25.037231Z",
     "iopub.status.busy": "2023-10-24T12:15:25.036912Z",
     "iopub.status.idle": "2023-10-24T12:15:25.040579Z",
     "shell.execute_reply": "2023-10-24T12:15:25.039954Z"
    },
    "slideshow": {
     "slide_type": "subslide"
    }
   },
   "outputs": [],
   "source": [
    "# attempt 1\n",
    "def record_attempt(name, new_score, scores):\n",
    "    if new_score > scores[name]:\n",
    "        scores[name] = new_score"
   ]
  },
  {
   "cell_type": "code",
   "execution_count": null,
   "id": "1e5650f8",
   "metadata": {
    "execution": {
     "iopub.execute_input": "2023-10-24T12:15:25.043656Z",
     "iopub.status.busy": "2023-10-24T12:15:25.043385Z",
     "iopub.status.idle": "2023-10-24T12:15:25.065782Z",
     "shell.execute_reply": "2023-10-24T12:15:25.065070Z"
    },
    "tags": [
     "raises-exception"
    ]
   },
   "outputs": [],
   "source": [
    "scores = {}\n",
    "record_attempt(\"Batman\", 100, scores)\n",
    "print(scores)"
   ]
  },
  {
   "cell_type": "markdown",
   "id": "3cf810ee",
   "metadata": {
    "slideshow": {
     "slide_type": "subslide"
    }
   },
   "source": [
    "We can't use `[]` to check the existing score, because the name might not be in there yet."
   ]
  },
  {
   "cell_type": "code",
   "execution_count": null,
   "id": "b74fc415",
   "metadata": {
    "execution": {
     "iopub.execute_input": "2023-10-24T12:15:25.070133Z",
     "iopub.status.busy": "2023-10-24T12:15:25.069856Z",
     "iopub.status.idle": "2023-10-24T12:15:25.073822Z",
     "shell.execute_reply": "2023-10-24T12:15:25.073136Z"
    },
    "slideshow": {
     "slide_type": "subslide"
    }
   },
   "outputs": [],
   "source": [
    "# attempt 2 (correct)\n",
    "def record_attempt(name, new_score, scores):\n",
    "    if name not in scores:\n",
    "        scores[name] = new_score\n",
    "    elif scores[name] < new_score:\n",
    "        scores[name] = new_score\n",
    "        \n",
    "    #if new_score > scores.get(name, 0):\n",
    "    #    scores[name] = new_score"
   ]
  },
  {
   "cell_type": "code",
   "execution_count": null,
   "id": "3280b0da",
   "metadata": {
    "execution": {
     "iopub.execute_input": "2023-10-24T12:15:25.077456Z",
     "iopub.status.busy": "2023-10-24T12:15:25.077171Z",
     "iopub.status.idle": "2023-10-24T12:15:25.080655Z",
     "shell.execute_reply": "2023-10-24T12:15:25.080047Z"
    }
   },
   "outputs": [],
   "source": [
    "scores = {}\n",
    "record_attempt(\"Batman\", 100, scores)\n",
    "print(scores)"
   ]
  },
  {
   "cell_type": "code",
   "execution_count": null,
   "id": "78beb8ae",
   "metadata": {
    "execution": {
     "iopub.execute_input": "2023-10-24T12:15:25.083644Z",
     "iopub.status.busy": "2023-10-24T12:15:25.083380Z",
     "iopub.status.idle": "2023-10-24T12:15:25.088646Z",
     "shell.execute_reply": "2023-10-24T12:15:25.087920Z"
    }
   },
   "outputs": [],
   "source": [
    "scores = {}\n",
    "record_attempt(\"Batman\", 100, scores)\n",
    "record_attempt(\"Superman\", 10, scores)\n",
    "record_attempt(\"Spongebob\", 50, scores)\n",
    "record_attempt(\"Spiderman\", 1, scores)\n",
    "record_attempt(\"Spiderman\", 11, scores)\n",
    "record_attempt(\"Spiderman\", 110, scores)\n",
    "print(scores)"
   ]
  },
  {
   "cell_type": "markdown",
   "id": "d18e05aa",
   "metadata": {
    "slideshow": {
     "slide_type": "slide"
    }
   },
   "source": [
    "# [Slido](https://wall.sli.do/event/h4FwBMY6vLLm4qKujQS37V?section=53bf946d-921c-4bda-8f4f-0e7fa6363572)"
   ]
  },
  {
   "cell_type": "markdown",
   "id": "9d371d7c",
   "metadata": {
    "slideshow": {
     "slide_type": "subslide"
    }
   },
   "source": [
    "## Exercise\n",
    "\n",
    "Write a function that prints the person with the highest overall score: `print_winner(scores)`"
   ]
  },
  {
   "cell_type": "code",
   "execution_count": null,
   "id": "6bd7b29a",
   "metadata": {
    "execution": {
     "iopub.execute_input": "2023-10-24T12:15:25.091919Z",
     "iopub.status.busy": "2023-10-24T12:15:25.091603Z",
     "iopub.status.idle": "2023-10-24T12:15:25.096761Z",
     "shell.execute_reply": "2023-10-24T12:15:25.096128Z"
    }
   },
   "outputs": [],
   "source": [
    "# attempt 1\n",
    "def print_winner(scores):\n",
    "    best_score = 0\n",
    "    best_player = \"\"\n",
    "    for player, score in scores.items():\n",
    "        if score > best_score:\n",
    "            best_score = score\n",
    "            best_player = player\n",
    "    print(f\"Congratulations, {player}, you win with {score} points!\")"
   ]
  },
  {
   "cell_type": "code",
   "execution_count": null,
   "id": "17fecd2a",
   "metadata": {
    "execution": {
     "iopub.execute_input": "2023-10-24T12:15:25.099894Z",
     "iopub.status.busy": "2023-10-24T12:15:25.099560Z",
     "iopub.status.idle": "2023-10-24T12:15:25.104602Z",
     "shell.execute_reply": "2023-10-24T12:15:25.103955Z"
    }
   },
   "outputs": [],
   "source": [
    "scores = {}\n",
    "record_attempt(\"Batman\", 100, scores)\n",
    "record_attempt(\"Superman\", 10, scores)\n",
    "record_attempt(\"Spongebob\", 50, scores)\n",
    "record_attempt(\"Spiderman\", 1, scores)\n",
    "record_attempt(\"Spiderman\", 11, scores)\n",
    "record_attempt(\"Spiderman\", 110, scores)\n",
    "print_winner(scores)"
   ]
  },
  {
   "cell_type": "markdown",
   "id": "1e956111",
   "metadata": {
    "slideshow": {
     "slide_type": "subslide"
    }
   },
   "source": [
    "That output looks correct... but can you spot the bug?"
   ]
  },
  {
   "cell_type": "code",
   "execution_count": null,
   "id": "ce18d9ec",
   "metadata": {
    "execution": {
     "iopub.execute_input": "2023-10-24T12:15:25.107942Z",
     "iopub.status.busy": "2023-10-24T12:15:25.107608Z",
     "iopub.status.idle": "2023-10-24T12:15:25.112409Z",
     "shell.execute_reply": "2023-10-24T12:15:25.111588Z"
    }
   },
   "outputs": [],
   "source": [
    "# attempt 1\n",
    "def print_winner(scores):\n",
    "    best_score = 0\n",
    "    best_player = \"\"\n",
    "    for player, score in scores.items():\n",
    "        if score > best_score:\n",
    "            best_score = score\n",
    "            best_player = player \n",
    "    print(f\"Congratulations, {player}, you win with {score} points!\")"
   ]
  },
  {
   "cell_type": "code",
   "execution_count": null,
   "id": "526e7e17",
   "metadata": {
    "execution": {
     "iopub.execute_input": "2023-10-24T12:15:25.117819Z",
     "iopub.status.busy": "2023-10-24T12:15:25.117086Z",
     "iopub.status.idle": "2023-10-24T12:15:25.123333Z",
     "shell.execute_reply": "2023-10-24T12:15:25.122660Z"
    },
    "slideshow": {
     "slide_type": "fragment"
    }
   },
   "outputs": [],
   "source": [
    "scores = {}\n",
    "record_attempt(\"Batman\", 150, scores)\n",
    "record_attempt(\"Spongebob\", 50, scores)\n",
    "record_attempt(\"Spiderman\", 1, scores)\n",
    "record_attempt(\"Spiderman\", 11, scores)\n",
    "record_attempt(\"Spiderman\", 110, scores)\n",
    "record_attempt(\"Superman\", 10, scores)\n",
    "print_winner(scores)"
   ]
  },
  {
   "cell_type": "markdown",
   "id": "ae847962",
   "metadata": {},
   "source": [
    "We printed the wrong variables at the end! This is a common type of error - make sure you test your code with a variety of inputs!"
   ]
  },
  {
   "cell_type": "code",
   "execution_count": null,
   "id": "c3676c09",
   "metadata": {
    "execution": {
     "iopub.execute_input": "2023-10-24T12:15:25.127358Z",
     "iopub.status.busy": "2023-10-24T12:15:25.127038Z",
     "iopub.status.idle": "2023-10-24T12:15:25.130956Z",
     "shell.execute_reply": "2023-10-24T12:15:25.130314Z"
    },
    "slideshow": {
     "slide_type": "subslide"
    }
   },
   "outputs": [],
   "source": [
    "# attempt 2 (correct)\n",
    "def print_winner(scores):\n",
    "    best_score = 0\n",
    "    best_player = \"\"\n",
    "    for player, score in scores.items():\n",
    "        if score > best_score:\n",
    "            best_score = score\n",
    "            best_player = player\n",
    "    print(f\"Congratulations, {best_player}, you win with {best_score} points!\")"
   ]
  },
  {
   "cell_type": "code",
   "execution_count": null,
   "id": "81f99fca",
   "metadata": {
    "execution": {
     "iopub.execute_input": "2023-10-24T12:15:25.136261Z",
     "iopub.status.busy": "2023-10-24T12:15:25.135543Z",
     "iopub.status.idle": "2023-10-24T12:15:25.142194Z",
     "shell.execute_reply": "2023-10-24T12:15:25.141067Z"
    },
    "slideshow": {
     "slide_type": "fragment"
    }
   },
   "outputs": [],
   "source": [
    "scores = {}\n",
    "record_attempt(\"Batman\", 150, scores)\n",
    "record_attempt(\"Superman\", 10, scores)\n",
    "record_attempt(\"Spongebob\", 50, scores)\n",
    "record_attempt(\"Spiderman\", 1, scores)\n",
    "record_attempt(\"Spiderman\", 11, scores)\n",
    "record_attempt(\"Spiderman\", 110, scores)\n",
    "print_winner(scores)"
   ]
  },
  {
   "cell_type": "markdown",
   "id": "249bfeb7",
   "metadata": {
    "slideshow": {
     "slide_type": "subslide"
    }
   },
   "source": [
    "## Exercise\n",
    "\n",
    "Write a function that takes a string, and returns a dictionary representing the unique words in the string, and the number of times each word occurred."
   ]
  },
  {
   "cell_type": "code",
   "execution_count": null,
   "id": "757ecb85",
   "metadata": {
    "execution": {
     "iopub.execute_input": "2023-10-24T12:15:25.147412Z",
     "iopub.status.busy": "2023-10-24T12:15:25.146853Z",
     "iopub.status.idle": "2023-10-24T12:15:25.153898Z",
     "shell.execute_reply": "2023-10-24T12:15:25.152510Z"
    },
    "slideshow": {
     "slide_type": "subslide"
    }
   },
   "outputs": [],
   "source": [
    "def count_words(word_string):\n",
    "    # ???\n",
    "    return {}"
   ]
  },
  {
   "cell_type": "code",
   "execution_count": null,
   "id": "495abde5",
   "metadata": {
    "execution": {
     "iopub.execute_input": "2023-10-24T12:15:25.160094Z",
     "iopub.status.busy": "2023-10-24T12:15:25.159724Z",
     "iopub.status.idle": "2023-10-24T12:15:25.166197Z",
     "shell.execute_reply": "2023-10-24T12:15:25.163806Z"
    },
    "slideshow": {
     "slide_type": "subslide"
    }
   },
   "outputs": [],
   "source": [
    "# attempt 1\n",
    "def count_words(word_string):\n",
    "    words = word_string.split()\n",
    "    counts = {}\n",
    "    for word in words:\n",
    "        counts[word] = counts[word] + 1\n",
    "    return counts"
   ]
  },
  {
   "cell_type": "code",
   "execution_count": null,
   "id": "dca8dd3b",
   "metadata": {
    "execution": {
     "iopub.execute_input": "2023-10-24T12:15:25.173868Z",
     "iopub.status.busy": "2023-10-24T12:15:25.173091Z",
     "iopub.status.idle": "2023-10-24T12:15:25.218286Z",
     "shell.execute_reply": "2023-10-24T12:15:25.215647Z"
    },
    "tags": [
     "raises-exception"
    ]
   },
   "outputs": [],
   "source": [
    "count_words(\"It was the best of times it was the worst of times it was the age of wisdom it was the age of foolishness\")"
   ]
  },
  {
   "cell_type": "markdown",
   "id": "85172442",
   "metadata": {
    "slideshow": {
     "slide_type": "subslide"
    }
   },
   "source": [
    "We need to handle the initial condition, where the word hasn't been found yet."
   ]
  },
  {
   "cell_type": "code",
   "execution_count": null,
   "id": "1f41ae33",
   "metadata": {
    "execution": {
     "iopub.execute_input": "2023-10-24T12:15:25.226080Z",
     "iopub.status.busy": "2023-10-24T12:15:25.224952Z",
     "iopub.status.idle": "2023-10-24T12:15:25.232788Z",
     "shell.execute_reply": "2023-10-24T12:15:25.231320Z"
    },
    "slideshow": {
     "slide_type": "-"
    }
   },
   "outputs": [],
   "source": [
    "# attempt 2\n",
    "def count_words(word_string):\n",
    "    words = word_string.split()\n",
    "    counts = {}\n",
    "    for word in words:\n",
    "        if word not in counts:\n",
    "            counts[word] = 1\n",
    "        else:\n",
    "            counts[word] = counts[word] + 1\n",
    "    return counts"
   ]
  },
  {
   "cell_type": "code",
   "execution_count": null,
   "id": "80f13cee",
   "metadata": {
    "execution": {
     "iopub.execute_input": "2023-10-24T12:15:25.240643Z",
     "iopub.status.busy": "2023-10-24T12:15:25.239597Z",
     "iopub.status.idle": "2023-10-24T12:15:25.250253Z",
     "shell.execute_reply": "2023-10-24T12:15:25.248673Z"
    },
    "tags": [
     "raises-exception"
    ]
   },
   "outputs": [],
   "source": [
    "count_words(\"It was the best of times it was the worst of times it was the age of wisdom it was the age of foolishness\")"
   ]
  },
  {
   "cell_type": "markdown",
   "id": "d4685ea7",
   "metadata": {
    "slideshow": {
     "slide_type": "subslide"
    }
   },
   "source": [
    "Whoops, looks like we have to deal with upper vs. lower case."
   ]
  },
  {
   "cell_type": "code",
   "execution_count": null,
   "id": "29d0c676",
   "metadata": {
    "execution": {
     "iopub.execute_input": "2023-10-24T12:15:25.259306Z",
     "iopub.status.busy": "2023-10-24T12:15:25.258238Z",
     "iopub.status.idle": "2023-10-24T12:15:25.267063Z",
     "shell.execute_reply": "2023-10-24T12:15:25.265380Z"
    },
    "slideshow": {
     "slide_type": "-"
    }
   },
   "outputs": [],
   "source": [
    "# attempt 3\n",
    "def count_words(word_string):\n",
    "    words = word_string.lower().split()\n",
    "    counts = {}\n",
    "    for word in words:\n",
    "        if word not in counts:\n",
    "            counts[word] = 1\n",
    "        else:\n",
    "            counts[word] = counts[word] + 1\n",
    "    return counts"
   ]
  },
  {
   "cell_type": "code",
   "execution_count": null,
   "id": "9d416a45",
   "metadata": {
    "execution": {
     "iopub.execute_input": "2023-10-24T12:15:25.274908Z",
     "iopub.status.busy": "2023-10-24T12:15:25.274386Z",
     "iopub.status.idle": "2023-10-24T12:15:25.287633Z",
     "shell.execute_reply": "2023-10-24T12:15:25.284744Z"
    },
    "tags": [
     "raises-exception"
    ]
   },
   "outputs": [],
   "source": [
    "count_words(\"It was the best of times it was the worst of times it was the age of wisdom it was the age of foolishness\")"
   ]
  },
  {
   "cell_type": "markdown",
   "id": "f6478b85",
   "metadata": {
    "slideshow": {
     "slide_type": "subslide"
    }
   },
   "source": [
    "That was perfectly good code! But we can make it a little cleaner using `get()`:"
   ]
  },
  {
   "cell_type": "code",
   "execution_count": null,
   "id": "cf794570",
   "metadata": {
    "execution": {
     "iopub.execute_input": "2023-10-24T12:15:25.296274Z",
     "iopub.status.busy": "2023-10-24T12:15:25.295739Z",
     "iopub.status.idle": "2023-10-24T12:15:25.308006Z",
     "shell.execute_reply": "2023-10-24T12:15:25.305736Z"
    }
   },
   "outputs": [],
   "source": [
    "# an alternative, using get()\n",
    "def count_words(word_string):\n",
    "    words = word_string.lower().split()\n",
    "    counts = {}\n",
    "    for word in words:\n",
    "        counts[word] = counts.get(word, 0) + 1\n",
    "    \n",
    "    sortable = [(freq, word) for word, freq in counts.items()]\n",
    "    sortable.sort(reverse=True)\n",
    "    \n",
    "    final_answer = []\n",
    "    for (freq, word) in sortable:\n",
    "        final_answer.append(word)\n",
    "    \n",
    "    return final_answer"
   ]
  },
  {
   "cell_type": "code",
   "execution_count": null,
   "id": "96f44ddd",
   "metadata": {
    "execution": {
     "iopub.execute_input": "2023-10-24T12:15:25.317068Z",
     "iopub.status.busy": "2023-10-24T12:15:25.316323Z",
     "iopub.status.idle": "2023-10-24T12:15:25.331784Z",
     "shell.execute_reply": "2023-10-24T12:15:25.329015Z"
    },
    "tags": [
     "raises-exception"
    ]
   },
   "outputs": [],
   "source": [
    "count_words(\"It was the best of times it was the worst of times it was the age of wisdom it was the age of foolishness\")"
   ]
  },
  {
   "cell_type": "markdown",
   "id": "c120518c",
   "metadata": {
    "slideshow": {
     "slide_type": "slide"
    }
   },
   "source": [
    "## Dictionary comprehensions\n",
    "\n",
    "Similar to lists, dictionaries can be created using \"comprehensions\":"
   ]
  },
  {
   "cell_type": "code",
   "execution_count": null,
   "id": "33715770",
   "metadata": {
    "execution": {
     "iopub.execute_input": "2023-10-24T12:15:25.338025Z",
     "iopub.status.busy": "2023-10-24T12:15:25.337489Z",
     "iopub.status.idle": "2023-10-24T12:15:25.344863Z",
     "shell.execute_reply": "2023-10-24T12:15:25.343517Z"
    }
   },
   "outputs": [],
   "source": [
    "squared_nums = {x: x**2 for x in range(5)}\n",
    "print(squared_nums)"
   ]
  },
  {
   "cell_type": "markdown",
   "id": "ba3c6bba",
   "metadata": {
    "slideshow": {
     "slide_type": "subslide"
    }
   },
   "source": [
    "The formal syntax of a dictionary comprehension is:\n",
    "\n",
    "`{<key expression>: <value expression> for <var> in <iterable>}`  \n",
    "or  \n",
    "`{<key expression>: <value expression> for <var> in <iterable> if <boolean expression>}`\n",
    "\n",
    "Both the key and value can be any expression (as long as they evaluate to valid key and value types)."
   ]
  },
  {
   "cell_type": "markdown",
   "id": "0bcbc960",
   "metadata": {
    "slideshow": {
     "slide_type": "subslide"
    }
   },
   "source": [
    "This code creates a dictionary that maps from vegetable name to the count of vowels in the vegetable name:"
   ]
  },
  {
   "cell_type": "code",
   "execution_count": null,
   "id": "62add22b",
   "metadata": {
    "execution": {
     "iopub.execute_input": "2023-10-24T12:15:25.351762Z",
     "iopub.status.busy": "2023-10-24T12:15:25.351330Z",
     "iopub.status.idle": "2023-10-24T12:15:25.356963Z",
     "shell.execute_reply": "2023-10-24T12:15:25.355425Z"
    }
   },
   "outputs": [],
   "source": [
    "def count_vowels(word):\n",
    "    count = 0\n",
    "    \n",
    "    for c in word:\n",
    "        if c in 'aeiou':\n",
    "            count += 1\n",
    "    return count"
   ]
  },
  {
   "cell_type": "code",
   "execution_count": null,
   "id": "d85a9f71",
   "metadata": {
    "execution": {
     "iopub.execute_input": "2023-10-24T12:15:25.362443Z",
     "iopub.status.busy": "2023-10-24T12:15:25.361828Z",
     "iopub.status.idle": "2023-10-24T12:15:25.368379Z",
     "shell.execute_reply": "2023-10-24T12:15:25.366460Z"
    },
    "slideshow": {
     "slide_type": ""
    }
   },
   "outputs": [],
   "source": [
    "# with a comprehension\n",
    "vegetables = [\"cucumber\", \"tomato\", \"pepper\", \"carrot\"]\n",
    "veggie_counts = {veggie: count_vowels(veggie) for veggie in vegetables}\n",
    "print(veggie_counts)"
   ]
  },
  {
   "cell_type": "code",
   "execution_count": null,
   "id": "e6fc9cf1",
   "metadata": {
    "execution": {
     "iopub.execute_input": "2023-10-24T12:15:25.373730Z",
     "iopub.status.busy": "2023-10-24T12:15:25.373255Z",
     "iopub.status.idle": "2023-10-24T12:15:25.379205Z",
     "shell.execute_reply": "2023-10-24T12:15:25.378432Z"
    },
    "slideshow": {
     "slide_type": ""
    }
   },
   "outputs": [],
   "source": [
    "# without a comprehension\n",
    "vegetables = [\"cucumber\", \"tomato\", \"pepper\", \"carrot\"]\n",
    "veggie_counts = {}\n",
    "for veggie in vegetables:\n",
    "    veggie_counts[veggie] = count_vowels(veggie)\n",
    "print(veggie_counts)"
   ]
  },
  {
   "cell_type": "markdown",
   "id": "0af6bad4",
   "metadata": {
    "slideshow": {
     "slide_type": "subslide"
    }
   },
   "source": [
    "This code does the same thing, except it limits the dictionary to vegetables that have at least 3 vowels in their names:"
   ]
  },
  {
   "cell_type": "code",
   "execution_count": null,
   "id": "83c26469",
   "metadata": {
    "execution": {
     "iopub.execute_input": "2023-10-24T12:15:25.385026Z",
     "iopub.status.busy": "2023-10-24T12:15:25.384555Z",
     "iopub.status.idle": "2023-10-24T12:15:25.390928Z",
     "shell.execute_reply": "2023-10-24T12:15:25.389483Z"
    },
    "slideshow": {
     "slide_type": "subslide"
    }
   },
   "outputs": [],
   "source": [
    "# with a comprehension\n",
    "vegetables = [\"cucumber\", \"tomato\", \"pepper\", \"carrot\"]\n",
    "veggie_counts = {veggie: count_vowels(veggie) for veggie in vegetables if count_vowels(veggie) > 2}\n",
    "print(veggie_counts)"
   ]
  },
  {
   "cell_type": "code",
   "execution_count": null,
   "id": "0788fa22",
   "metadata": {
    "execution": {
     "iopub.execute_input": "2023-10-24T12:15:25.395332Z",
     "iopub.status.busy": "2023-10-24T12:15:25.394975Z",
     "iopub.status.idle": "2023-10-24T12:15:25.401972Z",
     "shell.execute_reply": "2023-10-24T12:15:25.400343Z"
    },
    "slideshow": {
     "slide_type": "subslide"
    }
   },
   "outputs": [],
   "source": [
    "# without a comprehension\n",
    "vegetables = [\"cucumber\", \"tomato\", \"pepper\", \"carrot\"]\n",
    "veggie_counts = {}\n",
    "for veggie in vegetables:\n",
    "    num_vowels = count_vowels(veggie)\n",
    "    if num_vowels > 2:\n",
    "        veggie_counts[veggie] = num_vowels\n",
    "print(veggie_counts)"
   ]
  },
  {
   "cell_type": "markdown",
   "id": "7619877e",
   "metadata": {
    "slideshow": {
     "slide_type": "subslide"
    }
   },
   "source": [
    "One last example, which creates a dictionary with each vegetable as a key, and a random integer as each value:"
   ]
  },
  {
   "cell_type": "code",
   "execution_count": null,
   "id": "6381f692",
   "metadata": {
    "execution": {
     "iopub.execute_input": "2023-10-24T12:15:25.407502Z",
     "iopub.status.busy": "2023-10-24T12:15:25.406972Z",
     "iopub.status.idle": "2023-10-24T12:15:25.412560Z",
     "shell.execute_reply": "2023-10-24T12:15:25.411784Z"
    },
    "slideshow": {
     "slide_type": "subslide"
    }
   },
   "outputs": [],
   "source": [
    "import random \n",
    "vegetables = [\"cucumber\", \"tomato\", \"pepper\", \"carrot\"]\n",
    "veggie_counts = {veggie: random.randint(0, 10) for veggie in vegetables}\n",
    "print(veggie_counts)"
   ]
  },
  {
   "cell_type": "markdown",
   "id": "4bf44691",
   "metadata": {
    "slideshow": {
     "slide_type": "slide"
    }
   },
   "source": [
    "# [Slido](https://wall.sli.do/event/h4FwBMY6vLLm4qKujQS37V?section=53bf946d-921c-4bda-8f4f-0e7fa6363572)"
   ]
  },
  {
   "cell_type": "markdown",
   "id": "7d4a2b71",
   "metadata": {},
   "source": [
    "## Dictionaries review\n",
    "\n",
    "Dictionaries are best used when you have data that consists of key/value pairs. \n",
    "\n",
    "A simple example is an old-school phone book: the names are keys, the phone numbers are the values."
   ]
  },
  {
   "cell_type": "code",
   "execution_count": null,
   "id": "8ef25f1c",
   "metadata": {
    "execution": {
     "iopub.execute_input": "2023-10-24T12:15:25.418213Z",
     "iopub.status.busy": "2023-10-24T12:15:25.417796Z",
     "iopub.status.idle": "2023-10-24T12:15:25.422258Z",
     "shell.execute_reply": "2023-10-24T12:15:25.421094Z"
    }
   },
   "outputs": [],
   "source": [
    "phone_book = {\n",
    "    \"Harry\": \"555-1234\",\n",
    "    \"Hermione\": \"555-4567\",\n",
    "    \"Ron\": \"555-7890\"\n",
    "}"
   ]
  },
  {
   "cell_type": "markdown",
   "id": "962d6387",
   "metadata": {},
   "source": [
    "## Dictionaries review\n",
    "\n",
    "Key/value data is not always that simple though. \n",
    "\n",
    "Think of a modern Contacts app: the keys may still be names, but the values might have multiple phone numbers, addresses, social media handles, etc. The values themselves might be lists, or dictionaries, combinations of the 2."
   ]
  },
  {
   "cell_type": "code",
   "execution_count": null,
   "id": "882e3366",
   "metadata": {
    "execution": {
     "iopub.execute_input": "2023-10-24T12:15:25.427347Z",
     "iopub.status.busy": "2023-10-24T12:15:25.427013Z",
     "iopub.status.idle": "2023-10-24T12:15:25.432745Z",
     "shell.execute_reply": "2023-10-24T12:15:25.431394Z"
    }
   },
   "outputs": [],
   "source": [
    "contacts = {\n",
    "    \"Harry\": {\n",
    "        \"mobile\": \"555-1234\",\n",
    "        \"address\": \"Number 4 Privet Drive\",\n",
    "        \"instagram\": \"@harryp\"\n",
    "    },\n",
    "    \"Hermione\": {        \n",
    "        \"mobile\": \"555-4567\",\n",
    "        \"address\": \"8 Heathgate, Hampstead Garden Suburb, London\",\n",
    "        \"instagram\": \"@hermgran\"\n",
    "    },\n",
    "    \"Ron\": {        \n",
    "        \"mobile\": \"555-7890\",\n",
    "        \"address\": \"The Burrow\",\n",
    "        \"instagram\": \"@weaslier\"\n",
    "    }\n",
    "}"
   ]
  },
  {
   "cell_type": "markdown",
   "id": "900e55da",
   "metadata": {
    "slideshow": {
     "slide_type": "slide"
    }
   },
   "source": [
    "## Dictionaries review\n",
    "\n",
    "Accessing elements:\n",
    "* If you know the key will exist in the dictionary: use brackets `[...]`\n",
    "* If you aren't sure the key will exist: use `.get(...)`"
   ]
  },
  {
   "cell_type": "markdown",
   "id": "a1f60aa4",
   "metadata": {
    "slideshow": {
     "slide_type": "subslide"
    }
   },
   "source": [
    "## Brackets `[]`"
   ]
  },
  {
   "cell_type": "code",
   "execution_count": null,
   "id": "b0809984",
   "metadata": {
    "execution": {
     "iopub.execute_input": "2023-10-24T12:15:25.437345Z",
     "iopub.status.busy": "2023-10-24T12:15:25.436991Z",
     "iopub.status.idle": "2023-10-24T12:15:25.443201Z",
     "shell.execute_reply": "2023-10-24T12:15:25.442362Z"
    }
   },
   "outputs": [],
   "source": [
    "drink_temps = {\n",
    "    \"Red Wine\": 16.0,\n",
    "    \"White Wine\": 10.0,\n",
    "    \"Beer\": 8.0,\n",
    "    \"Black tea\": 85.0,\n",
    "    \"Green tea\": 74.0\n",
    "}\n",
    "\n",
    "for drink in drink_temps:\n",
    "    print(f\"Drink {drink} at {drink_temps[drink]}˚C\")"
   ]
  },
  {
   "cell_type": "markdown",
   "id": "9e5a65c7",
   "metadata": {
    "slideshow": {
     "slide_type": "notes"
    }
   },
   "source": [
    "Here, we know that each key will exist in the dictionary, so using brackets makes sense."
   ]
  },
  {
   "cell_type": "markdown",
   "id": "49c312da",
   "metadata": {
    "slideshow": {
     "slide_type": "subslide"
    }
   },
   "source": [
    "## `.get()`"
   ]
  },
  {
   "cell_type": "code",
   "execution_count": null,
   "id": "71b5a9a3",
   "metadata": {
    "execution": {
     "iopub.execute_input": "2023-10-24T12:15:25.448436Z",
     "iopub.status.busy": "2023-10-24T12:15:25.447988Z",
     "iopub.status.idle": "2023-10-24T12:15:25.605831Z",
     "shell.execute_reply": "2023-10-24T12:15:25.602622Z"
    }
   },
   "outputs": [],
   "source": [
    "drink_temps = {\n",
    "    \"Red Wine\": 16.0,\n",
    "    \"White Wine\": 10.0,\n",
    "    \"Beer\": 8.0,\n",
    "    \"Black tea\": 85.0,\n",
    "    \"Green tea\": 74.0\n",
    "}\n",
    "\n",
    "drink = input(\"What drink do you want to know about? \")\n",
    "print(f\"Drink {drink} at {drink_temps.get(drink)}˚C\")"
   ]
  },
  {
   "cell_type": "markdown",
   "id": "7e3a9e8a",
   "metadata": {
    "slideshow": {
     "slide_type": "notes"
    }
   },
   "source": [
    "Here, we don't know if the key will exist in the dictionary. If we used brackets, the code would raise an error if the user typed in a drink that wasn't in `drink_temps`. We can use `get()` to prevent an error from being raised."
   ]
  },
  {
   "cell_type": "markdown",
   "id": "77e859af",
   "metadata": {
    "slideshow": {
     "slide_type": "subslide"
    }
   },
   "source": [
    "## .get() is a convenience\n",
    "\n",
    "You can always explicitly check for the existence of a key before trying to access it with brackets."
   ]
  },
  {
   "cell_type": "code",
   "execution_count": null,
   "id": "2660d862",
   "metadata": {
    "execution": {
     "iopub.execute_input": "2023-10-24T12:15:25.613748Z",
     "iopub.status.busy": "2023-10-24T12:15:25.613296Z",
     "iopub.status.idle": "2023-10-24T12:15:25.659686Z",
     "shell.execute_reply": "2023-10-24T12:15:25.658427Z"
    }
   },
   "outputs": [],
   "source": [
    "drink_temps = {\n",
    "    \"Red Wine\": 16.0,\n",
    "    \"White Wine\": 10.0,\n",
    "    \"Beer\": 8.0,\n",
    "    \"Black tea\": 85.0,\n",
    "    \"Green tea\": 74.0\n",
    "}\n",
    "\n",
    "drink = input(\"What drink do you want to know about? \")\n",
    "if drink in drink_temps:\n",
    "    print(f\"Drink {drink} at {drink_temps[drink]}˚C\")\n",
    "else:\n",
    "    print(f\"I don't know about {drink}\")"
   ]
  },
  {
   "cell_type": "markdown",
   "id": "2d428c7e",
   "metadata": {
    "slideshow": {
     "slide_type": "subslide"
    }
   },
   "source": [
    "## `.get()` with a default value\n",
    "\n",
    "You can tell `.get()` what to return if the key does not exist in the dictionary."
   ]
  },
  {
   "cell_type": "code",
   "execution_count": null,
   "id": "342b9f4f",
   "metadata": {
    "execution": {
     "iopub.execute_input": "2023-10-24T12:15:25.668368Z",
     "iopub.status.busy": "2023-10-24T12:15:25.667848Z",
     "iopub.status.idle": "2023-10-24T12:15:25.710653Z",
     "shell.execute_reply": "2023-10-24T12:15:25.708866Z"
    }
   },
   "outputs": [],
   "source": [
    "drink_temps = {\n",
    "    \"Red Wine\": 16.0,\n",
    "    \"White Wine\": 10.0,\n",
    "    \"Beer\": 8.0,\n",
    "    \"Black tea\": 85.0,\n",
    "    \"Green tea\": 74.0\n",
    "}\n",
    "\n",
    "drink = input(\"What drink do you want to know about? \")\n",
    "print(f\"Drink {drink} at {drink_temps.get(drink, 'unknown')}˚C\")"
   ]
  },
  {
   "cell_type": "markdown",
   "id": "cfb0f915",
   "metadata": {
    "slideshow": {
     "slide_type": "notes"
    }
   },
   "source": [
    "This code demonstrates passing an extra parameter to `get()`. Now, if the users types in an unknown drink, `.get()` will return `\"unknown\"` instead of `None`."
   ]
  },
  {
   "cell_type": "markdown",
   "id": "b67ba34a",
   "metadata": {
    "slideshow": {
     "slide_type": "slide"
    }
   },
   "source": [
    "## Exercise\n",
    "\n",
    "You are given a list of strings representing birthday months. Count the number of birthdays in each month, and print them."
   ]
  },
  {
   "cell_type": "markdown",
   "id": "1bd80648",
   "metadata": {
    "slideshow": {
     "slide_type": "subslide"
    }
   },
   "source": [
    "I'm too lazy to generate a list of birthday months myself... I'll use Python, and the [random.choices()](https://docs.python.org/3/library/random.html#random.choices) function:"
   ]
  },
  {
   "cell_type": "code",
   "execution_count": null,
   "id": "79dbc822",
   "metadata": {
    "execution": {
     "iopub.execute_input": "2023-10-24T12:15:25.717359Z",
     "iopub.status.busy": "2023-10-24T12:15:25.716986Z",
     "iopub.status.idle": "2023-10-24T12:15:25.723306Z",
     "shell.execute_reply": "2023-10-24T12:15:25.722072Z"
    },
    "slideshow": {
     "slide_type": "-"
    }
   },
   "outputs": [],
   "source": [
    "import random\n",
    "# List of three-letter month abbreviations\n",
    "months = ['Jan', 'Feb', 'Mar', 'Apr', 'May', 'Jun', 'Jul', 'Aug', 'Sep', 'Oct', 'Nov', 'Dec']\n",
    "\n",
    "# Generate a random list of 20 month names\n",
    "birthday_data = random.choices(months, k=100)\n",
    "print(birthday_data)"
   ]
  },
  {
   "cell_type": "markdown",
   "id": "b36f61de",
   "metadata": {
    "slideshow": {
     "slide_type": "subslide"
    }
   },
   "source": [
    "Compute the counts by iterating over the list, and accumulating counts in a dictionary:"
   ]
  },
  {
   "cell_type": "code",
   "execution_count": null,
   "id": "eec657fa",
   "metadata": {
    "execution": {
     "iopub.execute_input": "2023-10-24T12:15:25.729244Z",
     "iopub.status.busy": "2023-10-24T12:15:25.728866Z",
     "iopub.status.idle": "2023-10-24T12:15:25.734486Z",
     "shell.execute_reply": "2023-10-24T12:15:25.733539Z"
    }
   },
   "outputs": [],
   "source": [
    "bday_counts = {}\n",
    "for bday in birthday_data:\n",
    "    if bday in bday_counts:\n",
    "        bday_counts[bday] += 1\n",
    "    else:\n",
    "        bday_counts[bday] = 1\n",
    "print(bday_counts)"
   ]
  },
  {
   "cell_type": "markdown",
   "id": "600ca555",
   "metadata": {
    "slideshow": {
     "slide_type": "subslide"
    }
   },
   "source": [
    "Now, let's sort them by number of birthdays."
   ]
  },
  {
   "cell_type": "code",
   "execution_count": null,
   "id": "454e2c36",
   "metadata": {
    "execution": {
     "iopub.execute_input": "2023-10-24T12:15:25.739401Z",
     "iopub.status.busy": "2023-10-24T12:15:25.738921Z",
     "iopub.status.idle": "2023-10-24T12:15:25.744886Z",
     "shell.execute_reply": "2023-10-24T12:15:25.743758Z"
    },
    "slideshow": {
     "slide_type": "fragment"
    }
   },
   "outputs": [],
   "source": [
    "sortable = []\n",
    "for month in bday_counts:\n",
    "    count = bday_counts[month]\n",
    "    sortable.append((count, month))\n",
    "sortable.sort(reverse=True)\n",
    "\n",
    "for pair in sortable:\n",
    "    print(f\"Count for {pair[1]}: {pair[0]}\")"
   ]
  },
  {
   "cell_type": "markdown",
   "id": "a584ae3c",
   "metadata": {},
   "source": [
    "Now, only print the months that have at least 10 birthdays."
   ]
  },
  {
   "cell_type": "code",
   "execution_count": null,
   "id": "05e2a648",
   "metadata": {
    "execution": {
     "iopub.execute_input": "2023-10-24T12:15:25.749559Z",
     "iopub.status.busy": "2023-10-24T12:15:25.749182Z",
     "iopub.status.idle": "2023-10-24T12:15:25.754924Z",
     "shell.execute_reply": "2023-10-24T12:15:25.753986Z"
    }
   },
   "outputs": [],
   "source": [
    "sortable = []\n",
    "for month in bday_counts:\n",
    "    count = bday_counts[month]\n",
    "    sortable.append((count, month))\n",
    "sortable.sort(reverse=True)\n",
    "\n",
    "for pair in sortable:\n",
    "    if pair[0] >= 10:\n",
    "        print(f\"Count for {pair[1]}: {pair[0]}\")"
   ]
  },
  {
   "cell_type": "markdown",
   "id": "4e13e8e7",
   "metadata": {
    "slideshow": {
     "slide_type": "subslide"
    }
   },
   "source": [
    "Now, we'll do the same exercises, but we'll use `get()`, comprehensions, and value unpacking.\n",
    "\n",
    "Compute the counts by iterating over the list, and accumulating counts in a dictionary:"
   ]
  },
  {
   "cell_type": "code",
   "execution_count": null,
   "id": "cb742765",
   "metadata": {
    "execution": {
     "iopub.execute_input": "2023-10-24T12:15:25.759580Z",
     "iopub.status.busy": "2023-10-24T12:15:25.759169Z",
     "iopub.status.idle": "2023-10-24T12:15:25.764571Z",
     "shell.execute_reply": "2023-10-24T12:15:25.763216Z"
    }
   },
   "outputs": [],
   "source": [
    "bday_counts = {}\n",
    "for bday in birthday_data:\n",
    "    bday_counts[bday] = bday_counts.get(bday, 0) + 1\n",
    "print(bday_counts)"
   ]
  },
  {
   "cell_type": "markdown",
   "id": "e0edc8ef",
   "metadata": {
    "slideshow": {
     "slide_type": "subslide"
    }
   },
   "source": [
    "Now, let's sort them by number of birthdays."
   ]
  },
  {
   "cell_type": "code",
   "execution_count": null,
   "id": "f8fbd71d",
   "metadata": {
    "execution": {
     "iopub.execute_input": "2023-10-24T12:15:25.768830Z",
     "iopub.status.busy": "2023-10-24T12:15:25.768085Z",
     "iopub.status.idle": "2023-10-24T12:15:25.773831Z",
     "shell.execute_reply": "2023-10-24T12:15:25.772858Z"
    },
    "slideshow": {
     "slide_type": "fragment"
    }
   },
   "outputs": [],
   "source": [
    "# Create a list of tuples we can sort - put the count first \n",
    "sortable = [(count, month) for (month, count) in bday_counts.items()]\n",
    "sortable.sort(reverse=True)\n",
    "\n",
    "for pair in sortable:\n",
    "    print(f\"Count for {pair[1]}: {pair[0]}\")"
   ]
  },
  {
   "cell_type": "markdown",
   "id": "bc6570ad",
   "metadata": {},
   "source": [
    "Now, only print the months that have at least 10 birthdays."
   ]
  },
  {
   "cell_type": "code",
   "execution_count": null,
   "id": "b17aef59",
   "metadata": {
    "execution": {
     "iopub.execute_input": "2023-10-24T12:15:25.778436Z",
     "iopub.status.busy": "2023-10-24T12:15:25.778112Z",
     "iopub.status.idle": "2023-10-24T12:15:25.783605Z",
     "shell.execute_reply": "2023-10-24T12:15:25.782838Z"
    }
   },
   "outputs": [],
   "source": [
    "sortable = [(count, month) for (month, count) in bday_counts.items() if count >= 10]\n",
    "sortable.sort(reverse=True)\n",
    "\n",
    "for pair in sortable:\n",
    "    print(f\"Count for {pair[1]}: {pair[0]}\")"
   ]
  },
  {
   "cell_type": "markdown",
   "id": "add953fb",
   "metadata": {
    "slideshow": {
     "slide_type": "slide"
    }
   },
   "source": [
    "# Sets\n",
    "\n",
    "Sets are unordered collections of unique values. \n",
    "\n",
    "They are most commonly used when you want to remove duplicates from a collection of items, easily check if an item is in a collection, or compare/combine multiple collections of unique items."
   ]
  },
  {
   "cell_type": "markdown",
   "id": "823df567",
   "metadata": {
    "slideshow": {
     "slide_type": "subslide"
    }
   },
   "source": [
    "## Creating sets \n",
    "\n",
    "Sets can be created from any iterable."
   ]
  },
  {
   "cell_type": "code",
   "execution_count": null,
   "id": "54986c12",
   "metadata": {
    "execution": {
     "iopub.execute_input": "2023-10-24T12:15:25.787816Z",
     "iopub.status.busy": "2023-10-24T12:15:25.787388Z",
     "iopub.status.idle": "2023-10-24T12:15:25.792380Z",
     "shell.execute_reply": "2023-10-24T12:15:25.791353Z"
    }
   },
   "outputs": [],
   "source": [
    "names = set([\"Batman\", \"Spiderman\", \"Batman\", \"Spongebob\"])\n",
    "print(names)"
   ]
  },
  {
   "cell_type": "markdown",
   "id": "e51b981d",
   "metadata": {
    "slideshow": {
     "slide_type": "subslide"
    }
   },
   "source": [
    "## Accessing set members\n",
    "\n",
    "Because sets are unordered, there are no index-based accessors. You can use `in` to check for membership."
   ]
  },
  {
   "cell_type": "code",
   "execution_count": null,
   "id": "313bed9b",
   "metadata": {
    "execution": {
     "iopub.execute_input": "2023-10-24T12:15:25.796064Z",
     "iopub.status.busy": "2023-10-24T12:15:25.795731Z",
     "iopub.status.idle": "2023-10-24T12:15:25.800068Z",
     "shell.execute_reply": "2023-10-24T12:15:25.799280Z"
    }
   },
   "outputs": [],
   "source": [
    "names = set([\"Batman\", \"Spiderman\", \"Batman\", \"Spongebob\"])"
   ]
  },
  {
   "cell_type": "code",
   "execution_count": null,
   "id": "abeb0fc4",
   "metadata": {
    "execution": {
     "iopub.execute_input": "2023-10-24T12:15:25.803484Z",
     "iopub.status.busy": "2023-10-24T12:15:25.803176Z",
     "iopub.status.idle": "2023-10-24T12:15:25.808591Z",
     "shell.execute_reply": "2023-10-24T12:15:25.807773Z"
    }
   },
   "outputs": [],
   "source": [
    "\"Batman\" in names"
   ]
  },
  {
   "cell_type": "code",
   "execution_count": null,
   "id": "73d210fb",
   "metadata": {
    "execution": {
     "iopub.execute_input": "2023-10-24T12:15:25.812237Z",
     "iopub.status.busy": "2023-10-24T12:15:25.811930Z",
     "iopub.status.idle": "2023-10-24T12:15:25.817726Z",
     "shell.execute_reply": "2023-10-24T12:15:25.816605Z"
    }
   },
   "outputs": [],
   "source": [
    "\"Peppa\" in names"
   ]
  },
  {
   "cell_type": "markdown",
   "id": "0fafb673",
   "metadata": {
    "slideshow": {
     "slide_type": "subslide"
    }
   },
   "source": [
    "## Iterating over sets\n",
    "\n",
    "Sets are iterable, which means you can loop through every member in a set with a `for` loop. \n",
    "\n",
    "They aren't sequences though - they don't have a well-defined order."
   ]
  },
  {
   "cell_type": "code",
   "execution_count": null,
   "id": "91a44055",
   "metadata": {
    "execution": {
     "iopub.execute_input": "2023-10-24T12:15:25.822529Z",
     "iopub.status.busy": "2023-10-24T12:15:25.821726Z",
     "iopub.status.idle": "2023-10-24T12:15:25.827414Z",
     "shell.execute_reply": "2023-10-24T12:15:25.826624Z"
    }
   },
   "outputs": [],
   "source": [
    "names = set([\"Batman\", \"Spiderman\", \"Batman\", \"Spongebob\"])\n",
    "for name in names:\n",
    "    print(name)"
   ]
  },
  {
   "cell_type": "markdown",
   "id": "aad239e3",
   "metadata": {
    "slideshow": {
     "slide_type": "subslide"
    }
   },
   "source": [
    "## Modifying sets\n",
    "\n",
    "`add()`, `remove()`, `clear()`"
   ]
  },
  {
   "cell_type": "code",
   "execution_count": null,
   "id": "da7bfa62",
   "metadata": {
    "execution": {
     "iopub.execute_input": "2023-10-24T12:15:25.831219Z",
     "iopub.status.busy": "2023-10-24T12:15:25.830827Z",
     "iopub.status.idle": "2023-10-24T12:15:25.840272Z",
     "shell.execute_reply": "2023-10-24T12:15:25.836788Z"
    }
   },
   "outputs": [],
   "source": [
    "names = set([\"Batman\", \"Spiderman\", \"Batman\", \"Spongebob\"])\n",
    "names.add(\"Peppa\")\n",
    "print(names)"
   ]
  },
  {
   "cell_type": "code",
   "execution_count": null,
   "id": "8f0cb2a7",
   "metadata": {
    "execution": {
     "iopub.execute_input": "2023-10-24T12:15:25.846912Z",
     "iopub.status.busy": "2023-10-24T12:15:25.846462Z",
     "iopub.status.idle": "2023-10-24T12:15:25.856882Z",
     "shell.execute_reply": "2023-10-24T12:15:25.854420Z"
    }
   },
   "outputs": [],
   "source": [
    "names = set([\"Batman\", \"Spiderman\", \"Batman\", \"Spongebob\"])\n",
    "names.remove(\"Batman\")\n",
    "print(names)"
   ]
  },
  {
   "cell_type": "code",
   "execution_count": null,
   "id": "d807b3bf",
   "metadata": {
    "execution": {
     "iopub.execute_input": "2023-10-24T12:15:25.861686Z",
     "iopub.status.busy": "2023-10-24T12:15:25.861337Z",
     "iopub.status.idle": "2023-10-24T12:15:25.867513Z",
     "shell.execute_reply": "2023-10-24T12:15:25.865984Z"
    }
   },
   "outputs": [],
   "source": [
    "names = set([\"Batman\", \"Spiderman\", \"Batman\", \"Spongebob\"])\n",
    "names.clear()\n",
    "print(names)"
   ]
  },
  {
   "cell_type": "markdown",
   "id": "58f4e563",
   "metadata": {},
   "source": [
    "## Modifying sets\n",
    "\n",
    "`update()` will add multiple items at once."
   ]
  },
  {
   "cell_type": "code",
   "execution_count": null,
   "id": "be5e930e",
   "metadata": {
    "execution": {
     "iopub.execute_input": "2023-10-24T12:15:25.873826Z",
     "iopub.status.busy": "2023-10-24T12:15:25.873131Z",
     "iopub.status.idle": "2023-10-24T12:15:25.879416Z",
     "shell.execute_reply": "2023-10-24T12:15:25.878481Z"
    }
   },
   "outputs": [],
   "source": [
    "names = set([\"Batman\", \"Spiderman\", \"Batman\", \"Spongebob\"])\n",
    "names.update([\"Wolverine\", \"Batman\", \"Wolverine\", \"Magneto\"])\n",
    "print(names)"
   ]
  },
  {
   "cell_type": "markdown",
   "id": "5e54dda1",
   "metadata": {
    "slideshow": {
     "slide_type": "subslide"
    }
   },
   "source": [
    "## Set operations\n",
    "\n",
    "Sets provide equality, intersection, union, and difference operators."
   ]
  },
  {
   "cell_type": "markdown",
   "id": "0f16dfec",
   "metadata": {
    "slideshow": {
     "slide_type": "subslide"
    }
   },
   "source": [
    "## Equality\n",
    "\n",
    "Sets can be compared with `==`"
   ]
  },
  {
   "cell_type": "code",
   "execution_count": null,
   "id": "0da2c191",
   "metadata": {
    "execution": {
     "iopub.execute_input": "2023-10-24T12:15:25.885514Z",
     "iopub.status.busy": "2023-10-24T12:15:25.885101Z",
     "iopub.status.idle": "2023-10-24T12:15:25.899658Z",
     "shell.execute_reply": "2023-10-24T12:15:25.894620Z"
    }
   },
   "outputs": [],
   "source": [
    "fluffy = set([\"cat\", \"dog\", \"dandelion\", \"pillow\"])\n",
    "loud = set([\"dog\", \"cat\", \"baby\", \"horn\", \"alarm\"])\n",
    "fluffy == loud"
   ]
  },
  {
   "cell_type": "markdown",
   "id": "7c02d975",
   "metadata": {
    "slideshow": {
     "slide_type": "subslide"
    }
   },
   "source": [
    "## Intersection \n",
    "\n",
    "The \"intersection\" of 2 (or more) sets is the set of elements which appear in each of the sets. The `&` operator performs an intersection on 2 sets."
   ]
  },
  {
   "cell_type": "code",
   "execution_count": null,
   "id": "d489db25",
   "metadata": {
    "execution": {
     "iopub.execute_input": "2023-10-24T12:15:25.906108Z",
     "iopub.status.busy": "2023-10-24T12:15:25.905577Z",
     "iopub.status.idle": "2023-10-24T12:15:25.916889Z",
     "shell.execute_reply": "2023-10-24T12:15:25.912519Z"
    },
    "slideshow": {
     "slide_type": "-"
    }
   },
   "outputs": [],
   "source": [
    "fluffy = set([\"cat\", \"dog\", \"dandelion\", \"pillow\"])\n",
    "loud = set([\"dog\", \"cat\", \"baby\", \"horn\", \"alarm\"])\n",
    "fluffy & loud"
   ]
  },
  {
   "cell_type": "markdown",
   "id": "8e00199b",
   "metadata": {
    "slideshow": {
     "slide_type": "subslide"
    }
   },
   "source": [
    "## Union\n",
    "\n",
    "The \"union\" of 2 (or more) sets is the set of elements that appear in any of the sets. The `|` operator performs a union on 2 sets."
   ]
  },
  {
   "cell_type": "code",
   "execution_count": null,
   "id": "cdaf5fc2",
   "metadata": {
    "execution": {
     "iopub.execute_input": "2023-10-24T12:15:25.924404Z",
     "iopub.status.busy": "2023-10-24T12:15:25.923777Z",
     "iopub.status.idle": "2023-10-24T12:15:25.934285Z",
     "shell.execute_reply": "2023-10-24T12:15:25.931365Z"
    }
   },
   "outputs": [],
   "source": [
    "fluffy = set([\"cat\", \"dog\", \"dandelion\", \"pillow\"])\n",
    "loud = set([\"dog\", \"cat\", \"baby\", \"horn\", \"alarm\"])\n",
    "fluffy | loud"
   ]
  },
  {
   "cell_type": "markdown",
   "id": "0f397b58",
   "metadata": {
    "slideshow": {
     "slide_type": "subslide"
    }
   },
   "source": [
    "## Subtraction / difference\n",
    "\n",
    "The \"difference\" of 2 sets is the set of elements that appears in set A, but not in set B. The `-` operator performs a difference on 2 sets."
   ]
  },
  {
   "cell_type": "code",
   "execution_count": null,
   "id": "fa27ec38",
   "metadata": {
    "execution": {
     "iopub.execute_input": "2023-10-24T12:15:25.942759Z",
     "iopub.status.busy": "2023-10-24T12:15:25.941909Z",
     "iopub.status.idle": "2023-10-24T12:15:25.950923Z",
     "shell.execute_reply": "2023-10-24T12:15:25.949620Z"
    },
    "slideshow": {
     "slide_type": "-"
    }
   },
   "outputs": [],
   "source": [
    "fluffy = set([\"cat\", \"dog\", \"dandelion\", \"pillow\"])\n",
    "loud = set([\"dog\", \"cat\", \"baby\", \"horn\", \"alarm\"])\n",
    "fluffy - loud"
   ]
  },
  {
   "cell_type": "markdown",
   "id": "7710f7b9",
   "metadata": {},
   "source": [
    "Order matters for subtraction."
   ]
  },
  {
   "cell_type": "code",
   "execution_count": null,
   "id": "3e04f91f",
   "metadata": {
    "execution": {
     "iopub.execute_input": "2023-10-24T12:15:25.956327Z",
     "iopub.status.busy": "2023-10-24T12:15:25.955476Z",
     "iopub.status.idle": "2023-10-24T12:15:25.962855Z",
     "shell.execute_reply": "2023-10-24T12:15:25.961539Z"
    }
   },
   "outputs": [],
   "source": [
    "loud - fluffy"
   ]
  },
  {
   "cell_type": "markdown",
   "id": "5b7dc6d3",
   "metadata": {
    "slideshow": {
     "slide_type": "subslide"
    }
   },
   "source": [
    "## Symmetric difference (\"xor\")\n",
    "\n",
    "The \"symmetric difference\" of 2 sets is the set of items that appear in either set, but not both. \n",
    "\n",
    "This is also sometimes referred to as `xor` (\"exclusive or\"), from boolean/digital logic. \n",
    "\n",
    "The `^` operator performs a symmetric difference."
   ]
  },
  {
   "cell_type": "code",
   "execution_count": null,
   "id": "e812620d",
   "metadata": {
    "execution": {
     "iopub.execute_input": "2023-10-24T12:15:25.968153Z",
     "iopub.status.busy": "2023-10-24T12:15:25.967771Z",
     "iopub.status.idle": "2023-10-24T12:15:25.975968Z",
     "shell.execute_reply": "2023-10-24T12:15:25.974997Z"
    }
   },
   "outputs": [],
   "source": [
    "fluffy = set([\"cat\", \"dog\", \"dandelion\", \"pillow\"])\n",
    "loud = set([\"dog\", \"cat\", \"baby\", \"horn\", \"alarm\"])\n",
    "fluffy ^ loud"
   ]
  },
  {
   "cell_type": "markdown",
   "id": "40187608",
   "metadata": {
    "slideshow": {
     "slide_type": "subslide"
    }
   },
   "source": [
    "## Superset / subset\n",
    "\n",
    "Superset: a set contains all elements of another set  \n",
    "Subset: a set is made up only of elements from another set"
   ]
  },
  {
   "cell_type": "code",
   "execution_count": null,
   "id": "a2e376ab",
   "metadata": {
    "execution": {
     "iopub.execute_input": "2023-10-24T12:15:25.980888Z",
     "iopub.status.busy": "2023-10-24T12:15:25.980435Z",
     "iopub.status.idle": "2023-10-24T12:15:25.987231Z",
     "shell.execute_reply": "2023-10-24T12:15:25.986220Z"
    }
   },
   "outputs": [],
   "source": [
    "letters = set(\"abcdefghijklmnopqrstuvwxyz\")\n",
    "vowels = set(\"aeiou\")\n",
    "letters.issuperset(vowels)"
   ]
  },
  {
   "cell_type": "code",
   "execution_count": null,
   "id": "3c4c3a75",
   "metadata": {
    "execution": {
     "iopub.execute_input": "2023-10-24T12:15:25.992902Z",
     "iopub.status.busy": "2023-10-24T12:15:25.992222Z",
     "iopub.status.idle": "2023-10-24T12:15:25.998737Z",
     "shell.execute_reply": "2023-10-24T12:15:25.997984Z"
    }
   },
   "outputs": [],
   "source": [
    "vowels.issuperset(letters)"
   ]
  },
  {
   "cell_type": "code",
   "execution_count": null,
   "id": "168f2584",
   "metadata": {
    "execution": {
     "iopub.execute_input": "2023-10-24T12:15:26.003763Z",
     "iopub.status.busy": "2023-10-24T12:15:26.003119Z",
     "iopub.status.idle": "2023-10-24T12:15:26.009683Z",
     "shell.execute_reply": "2023-10-24T12:15:26.008755Z"
    }
   },
   "outputs": [],
   "source": [
    "vowels.issubset(letters)"
   ]
  },
  {
   "cell_type": "code",
   "execution_count": null,
   "id": "6458b474",
   "metadata": {
    "execution": {
     "iopub.execute_input": "2023-10-24T12:15:26.014806Z",
     "iopub.status.busy": "2023-10-24T12:15:26.013993Z",
     "iopub.status.idle": "2023-10-24T12:15:26.020403Z",
     "shell.execute_reply": "2023-10-24T12:15:26.019472Z"
    }
   },
   "outputs": [],
   "source": [
    "letters.issubset(vowels)"
   ]
  },
  {
   "cell_type": "markdown",
   "id": "e1b338c7",
   "metadata": {
    "slideshow": {
     "slide_type": "subslide"
    }
   },
   "source": [
    "## Example\n",
    "\n",
    "Write a program that prompts the user to enter the postal abbreviations for all 50 U.S. states. The player loses if they repeat a guess, or guesses something that isn't valid."
   ]
  },
  {
   "cell_type": "code",
   "execution_count": null,
   "id": "47a85d7e",
   "metadata": {
    "execution": {
     "iopub.execute_input": "2023-10-24T12:15:26.025612Z",
     "iopub.status.busy": "2023-10-24T12:15:26.025044Z",
     "iopub.status.idle": "2023-10-24T12:15:26.030734Z",
     "shell.execute_reply": "2023-10-24T12:15:26.029750Z"
    }
   },
   "outputs": [],
   "source": [
    "states = set([ 'AK', 'AL', 'AR', 'AZ', 'CA', 'CO', 'CT', 'DE', 'FL', 'GA',\n",
    "           'HI', 'IA', 'ID', 'IL', 'IN', 'KS', 'KY', 'LA', 'MA', 'MD', 'ME',\n",
    "           'MI', 'MN', 'MO', 'MS', 'MT', 'NC', 'ND', 'NE', 'NH', 'NJ', 'NM',\n",
    "           'NV', 'NY', 'OH', 'OK', 'OR', 'PA', 'RI', 'SC', 'SD', 'TN', 'TX',\n",
    "           'UT', 'VA', 'VT', 'WA', 'WI', 'WV', 'WY'])"
   ]
  },
  {
   "cell_type": "code",
   "execution_count": null,
   "id": "8e5e3add",
   "metadata": {
    "execution": {
     "iopub.execute_input": "2023-10-24T12:15:26.036081Z",
     "iopub.status.busy": "2023-10-24T12:15:26.035242Z",
     "iopub.status.idle": "2023-10-24T12:15:26.079146Z",
     "shell.execute_reply": "2023-10-24T12:15:26.078151Z"
    },
    "slideshow": {
     "slide_type": "subslide"
    },
    "tags": [
     "remove-output"
    ]
   },
   "outputs": [],
   "source": [
    "states = set([ 'AK', 'AL', 'AR', 'AZ', 'CA', 'CO', 'CT', 'DE', 'FL', 'GA',\n",
    "           'HI', 'IA', 'ID', 'IL', 'IN', 'KS', 'KY', 'LA', 'MA', 'MD', 'ME',\n",
    "           'MI', 'MN', 'MO', 'MS', 'MT', 'NC', 'ND', 'NE', 'NH', 'NJ', 'NM',\n",
    "           'NV', 'NY', 'OH', 'OK', 'OR', 'PA', 'RI', 'SC', 'SD', 'TN', 'TX',\n",
    "           'UT', 'VA', 'VT', 'WA', 'WI', 'WV', 'WY'])\n",
    "guesses = set()\n",
    "\n",
    "print(\"Guess all 50 US state postal abbreviations, without repeating.\")\n",
    "while True:\n",
    "    print(\"Guess? \")\n",
    "    answer = input()\n",
    "    if answer in guesses:\n",
    "        print(f\"You already guessed {answer}!\")\n",
    "        break\n",
    "    if answer not in states:\n",
    "        print(f\"{answer} is not a valid postal code!\")\n",
    "        break\n",
    "    guesses.add(answer)\n",
    "    if guesses == states:\n",
    "        print(\"You win!\")\n",
    "        break\n",
    "    print(f\"You've guessed {len(guesses)}/{len(states)} so far.\")"
   ]
  }
 ],
 "metadata": {
  "celltoolbar": "Slideshow",
  "kernelspec": {
   "display_name": "Python 3 (ipykernel)",
   "language": "python",
   "name": "python3"
  },
  "language_info": {
   "codemirror_mode": {
    "name": "ipython",
    "version": 3
   },
   "file_extension": ".py",
   "mimetype": "text/x-python",
   "name": "python",
   "nbconvert_exporter": "python",
   "pygments_lexer": "ipython3",
   "version": "3.10.9"
  }
 },
 "nbformat": 4,
 "nbformat_minor": 5
}
