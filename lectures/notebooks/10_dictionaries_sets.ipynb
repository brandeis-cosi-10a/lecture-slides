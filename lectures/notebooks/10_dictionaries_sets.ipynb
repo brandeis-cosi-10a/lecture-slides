{
 "cells": [
  {
   "cell_type": "markdown",
   "id": "1ee8a1d2",
   "metadata": {
    "slideshow": {
     "slide_type": "slide"
    }
   },
   "source": [
    "# Dictionaries and Sets\n",
    "\n",
    "<style>\n",
    "section.present > section.present { \n",
    "    max-height: 90%; \n",
    "    overflow-y: scroll;\n",
    "}\n",
    "</style>\n",
    "\n",
    "<small><a href=\"https://colab.research.google.com/github/brandeis-jdelfino/cosi-10a/blob/main/lectures/notebooks/10_dictionaries_sets.ipynb\">Link to interactive slides on Google Colab</a></small>"
   ]
  },
  {
   "cell_type": "markdown",
   "id": "ecf7cb81",
   "metadata": {
    "slideshow": {
     "slide_type": "slide"
    }
   },
   "source": [
    "Today, we'll cover the last 2 widely used data types in Python:\n",
    "* Dictionaries: mappings from keys to values\n",
    "* Sets: Unordered lists of unique values"
   ]
  },
  {
   "cell_type": "markdown",
   "id": "cf21df57",
   "metadata": {
    "slideshow": {
     "slide_type": "slide"
    }
   },
   "source": [
    "## The Exercise exercise, revisited\n",
    "\n",
    "We had 2 \"parallel lists\": names, and lists of which days those characters exercised. We used `zip` to iterate over them together."
   ]
  },
  {
   "cell_type": "code",
   "execution_count": null,
   "id": "61e4ff79",
   "metadata": {
    "execution": {
     "iopub.execute_input": "2023-06-21T15:03:42.823386Z",
     "iopub.status.busy": "2023-06-21T15:03:42.822793Z",
     "iopub.status.idle": "2023-06-21T15:03:42.841524Z",
     "shell.execute_reply": "2023-06-21T15:03:42.840654Z"
    }
   },
   "outputs": [],
   "source": [
    "names = [\"Spongebob\", \"Batman\", \"Dora\", \"Peppa\", \"Bill Murray\"]\n",
    "data = [\n",
    "    [1, 7, 15, 31],\n",
    "    [2, 21],\n",
    "    [5],\n",
    "    [1, 3, 5, 7, 9, 11, 13, 15, 17, 19, 21, 23, 25, 27, 29],\n",
    "    [1, 2, 3, 4, 5, 6]\n",
    "]\n",
    "\n",
    "most = 0\n",
    "most_name = \"\"\n",
    "for (name, dates) in zip(names, data):\n",
    "    if len(dates) > most:\n",
    "        most = len(dates)\n",
    "        most_name = name\n",
    "print(f\"{most_name} exercised the most, with {most} days of exercise!\")"
   ]
  },
  {
   "cell_type": "markdown",
   "id": "b1a36898",
   "metadata": {
    "slideshow": {
     "slide_type": "subslide"
    }
   },
   "source": [
    "**Dictionaries** are a better data structure for this type of data. They map **keys** (names) to **values** (list of exercise dates).\n",
    "\n",
    "Here's how that example would look with a dictionary."
   ]
  },
  {
   "cell_type": "code",
   "execution_count": null,
   "id": "182868ec",
   "metadata": {
    "execution": {
     "iopub.execute_input": "2023-06-21T15:03:42.845684Z",
     "iopub.status.busy": "2023-06-21T15:03:42.845352Z",
     "iopub.status.idle": "2023-06-21T15:03:42.851263Z",
     "shell.execute_reply": "2023-06-21T15:03:42.850628Z"
    }
   },
   "outputs": [],
   "source": [
    "data = {\n",
    "    \"Spongebob\": [1, 7, 15, 31],\n",
    "    \"Batman\": [2, 21],\n",
    "    \"Dora\": [5],\n",
    "    \"Peppa\": [1, 3, 5, 7, 9, 11, 13, 15, 17, 19, 21, 23, 25, 27, 29],\n",
    "    \"Bill Murray\": [1, 2, 3, 4, 5, 6]\n",
    "}\n",
    "\n",
    "most = 0\n",
    "most_name = \"\"\n",
    "for name in data:\n",
    "    if len(data[name]) > most:\n",
    "        most = len(data[name])\n",
    "        most_name = name\n",
    "print(f\"{most_name} exercised the most, with {most} days of exercise!\")"
   ]
  },
  {
   "cell_type": "markdown",
   "id": "e5a1eba7",
   "metadata": {
    "slideshow": {
     "slide_type": "slide"
    }
   },
   "source": [
    "# Creating dictionaries\n",
    "\n",
    "Dictionaries are created and represented with curly brackets: `{` and `}`."
   ]
  },
  {
   "cell_type": "code",
   "execution_count": null,
   "id": "3854a0d5",
   "metadata": {
    "execution": {
     "iopub.execute_input": "2023-06-21T15:03:42.854450Z",
     "iopub.status.busy": "2023-06-21T15:03:42.854183Z",
     "iopub.status.idle": "2023-06-21T15:03:42.857622Z",
     "shell.execute_reply": "2023-06-21T15:03:42.857018Z"
    }
   },
   "outputs": [],
   "source": [
    "distances_from_boston = {\n",
    "    \"NY, NY\": 216,\n",
    "    \"Portland, ME\": 110,\n",
    "    \"San Francisco, CA\": 2692,\n",
    "    \"Auckland, NZ\": 9002\n",
    "}\n",
    "print(distances_from_boston)"
   ]
  },
  {
   "cell_type": "markdown",
   "id": "8fc12d73",
   "metadata": {},
   "source": [
    "`distances_from_boston` holds 4 key/value pairs. All the keys are strings, all the values are integers. Keys can be any **immutable** type and values can be any type."
   ]
  },
  {
   "cell_type": "code",
   "execution_count": null,
   "id": "c39b73a4",
   "metadata": {
    "execution": {
     "iopub.execute_input": "2023-06-21T15:03:42.860933Z",
     "iopub.status.busy": "2023-06-21T15:03:42.860683Z",
     "iopub.status.idle": "2023-06-21T15:03:42.864525Z",
     "shell.execute_reply": "2023-06-21T15:03:42.863677Z"
    },
    "slideshow": {
     "slide_type": "subslide"
    }
   },
   "outputs": [],
   "source": [
    "x = {}\n",
    "print(x)"
   ]
  },
  {
   "cell_type": "markdown",
   "id": "2fab010b",
   "metadata": {},
   "source": [
    "`x` is an empty dictionary."
   ]
  },
  {
   "cell_type": "markdown",
   "id": "77391a05",
   "metadata": {
    "slideshow": {
     "slide_type": "subslide"
    }
   },
   "source": [
    "Dictionary keys are unique. The same key can't appear more than once in a dictionary."
   ]
  },
  {
   "cell_type": "code",
   "execution_count": null,
   "id": "f2aea045",
   "metadata": {
    "execution": {
     "iopub.execute_input": "2023-06-21T15:03:42.867664Z",
     "iopub.status.busy": "2023-06-21T15:03:42.867406Z",
     "iopub.status.idle": "2023-06-21T15:03:42.870931Z",
     "shell.execute_reply": "2023-06-21T15:03:42.870300Z"
    }
   },
   "outputs": [],
   "source": [
    "distances_from_boston = {\n",
    "    \"NY, NY\": 216,\n",
    "    \"NY, NY\": 110,\n",
    "    \"San Francisco, CA\": 2692,\n",
    "    \"Auckland, NZ\": 9002\n",
    "}\n",
    "print(distances_from_boston)"
   ]
  },
  {
   "cell_type": "markdown",
   "id": "a147ad39",
   "metadata": {},
   "source": [
    "The first `NY, NY` value (`216`) was overwritten by the second (`110`) "
   ]
  },
  {
   "cell_type": "markdown",
   "id": "ab100c46",
   "metadata": {
    "slideshow": {
     "slide_type": "slide"
    }
   },
   "source": [
    "## Accessing dictionary elements\n",
    "\n",
    "Dictionaries are accessed using the same bracket notation (`[]`) as lists, but with keys instead of indices."
   ]
  },
  {
   "cell_type": "code",
   "execution_count": null,
   "id": "0f15b8d4",
   "metadata": {
    "execution": {
     "iopub.execute_input": "2023-06-21T15:03:42.873967Z",
     "iopub.status.busy": "2023-06-21T15:03:42.873710Z",
     "iopub.status.idle": "2023-06-21T15:03:42.877132Z",
     "shell.execute_reply": "2023-06-21T15:03:42.876518Z"
    }
   },
   "outputs": [],
   "source": [
    "number_words = {\n",
    "    \"one\": 1,\n",
    "    \"four\": 4,\n",
    "    \"one hundred\": 100\n",
    "}\n",
    "print(number_words[\"four\"])"
   ]
  },
  {
   "cell_type": "code",
   "execution_count": null,
   "id": "6cf994b8",
   "metadata": {
    "execution": {
     "iopub.execute_input": "2023-06-21T15:03:42.880128Z",
     "iopub.status.busy": "2023-06-21T15:03:42.879888Z",
     "iopub.status.idle": "2023-06-21T15:03:42.883189Z",
     "shell.execute_reply": "2023-06-21T15:03:42.882567Z"
    }
   },
   "outputs": [],
   "source": [
    "print(number_words[\"one \" + \"hundred\"])"
   ]
  },
  {
   "cell_type": "markdown",
   "id": "53fe4581",
   "metadata": {
    "slideshow": {
     "slide_type": "subslide"
    }
   },
   "source": [
    "Accessing an element that doesn't exist generates an error"
   ]
  },
  {
   "cell_type": "code",
   "execution_count": null,
   "id": "8dbedcb5",
   "metadata": {
    "execution": {
     "iopub.execute_input": "2023-06-21T15:03:42.886139Z",
     "iopub.status.busy": "2023-06-21T15:03:42.885891Z",
     "iopub.status.idle": "2023-06-21T15:03:43.163789Z",
     "shell.execute_reply": "2023-06-21T15:03:43.163160Z"
    }
   },
   "outputs": [],
   "source": [
    "print(number_words[2])"
   ]
  },
  {
   "cell_type": "markdown",
   "id": "d5291d6f",
   "metadata": {
    "slideshow": {
     "slide_type": "subslide"
    }
   },
   "source": [
    "You can use the `.get()` method if you want to access an element that may not exist."
   ]
  },
  {
   "cell_type": "code",
   "execution_count": null,
   "id": "17a069b4",
   "metadata": {
    "execution": {
     "iopub.execute_input": "2023-06-21T15:03:43.167749Z",
     "iopub.status.busy": "2023-06-21T15:03:43.167371Z",
     "iopub.status.idle": "2023-06-21T15:03:43.172076Z",
     "shell.execute_reply": "2023-06-21T15:03:43.171172Z"
    }
   },
   "outputs": [],
   "source": [
    "number_words = {\n",
    "    \"one\": 1,\n",
    "    \"four\": 4,\n",
    "    \"one hundred\": 100\n",
    "}\n",
    "print(number_words.get(\"one\"))"
   ]
  },
  {
   "cell_type": "code",
   "execution_count": null,
   "id": "20058424",
   "metadata": {
    "execution": {
     "iopub.execute_input": "2023-06-21T15:03:43.175772Z",
     "iopub.status.busy": "2023-06-21T15:03:43.175432Z",
     "iopub.status.idle": "2023-06-21T15:03:43.179582Z",
     "shell.execute_reply": "2023-06-21T15:03:43.178816Z"
    }
   },
   "outputs": [],
   "source": [
    "print(number_words.get(\"two\"))"
   ]
  },
  {
   "cell_type": "markdown",
   "id": "5d8928fe",
   "metadata": {},
   "source": [
    "`get()` takes an optional argument the specifies the value to use if the key isn't found in the dictionary."
   ]
  },
  {
   "cell_type": "code",
   "execution_count": null,
   "id": "5d2899b9",
   "metadata": {
    "execution": {
     "iopub.execute_input": "2023-06-21T15:03:43.182954Z",
     "iopub.status.busy": "2023-06-21T15:03:43.182673Z",
     "iopub.status.idle": "2023-06-21T15:03:43.186086Z",
     "shell.execute_reply": "2023-06-21T15:03:43.185511Z"
    }
   },
   "outputs": [],
   "source": [
    "print(number_words.get(\"two\", \"unknown\"))"
   ]
  },
  {
   "cell_type": "markdown",
   "id": "f0e6954c",
   "metadata": {
    "slideshow": {
     "slide_type": "subslide"
    }
   },
   "source": [
    "You can check for the existince of a key with `in` (similar to lists and other sequences)"
   ]
  },
  {
   "cell_type": "code",
   "execution_count": null,
   "id": "eab3bf28",
   "metadata": {
    "execution": {
     "iopub.execute_input": "2023-06-21T15:03:43.189248Z",
     "iopub.status.busy": "2023-06-21T15:03:43.188993Z",
     "iopub.status.idle": "2023-06-21T15:03:43.192411Z",
     "shell.execute_reply": "2023-06-21T15:03:43.191824Z"
    }
   },
   "outputs": [],
   "source": [
    "number_words = {\n",
    "    \"one\": 1,\n",
    "    \"four\": 4,\n",
    "    \"one hundred\": 100\n",
    "}\n",
    "print(\"one\" in number_words)"
   ]
  },
  {
   "cell_type": "code",
   "execution_count": null,
   "id": "d559277d",
   "metadata": {
    "execution": {
     "iopub.execute_input": "2023-06-21T15:03:43.195599Z",
     "iopub.status.busy": "2023-06-21T15:03:43.195345Z",
     "iopub.status.idle": "2023-06-21T15:03:43.201334Z",
     "shell.execute_reply": "2023-06-21T15:03:43.200734Z"
    }
   },
   "outputs": [],
   "source": [
    "\"ten\" in number_words"
   ]
  },
  {
   "cell_type": "markdown",
   "id": "bff0954d",
   "metadata": {},
   "source": [
    "## Modifying dictionaries\n",
    "\n",
    "You can assign to a key to either add it to the dictionary (if it doesn't exist) or update the value for an existing item."
   ]
  },
  {
   "cell_type": "code",
   "execution_count": null,
   "id": "6a2bbdc1",
   "metadata": {
    "execution": {
     "iopub.execute_input": "2023-06-21T15:03:43.204367Z",
     "iopub.status.busy": "2023-06-21T15:03:43.204115Z",
     "iopub.status.idle": "2023-06-21T15:03:43.207714Z",
     "shell.execute_reply": "2023-06-21T15:03:43.207091Z"
    }
   },
   "outputs": [],
   "source": [
    "number_preferences = {\n",
    "    1.5: False,\n",
    "    2.7: True,\n",
    "    3.9: False\n",
    "}\n",
    "print(number_preferences)"
   ]
  },
  {
   "cell_type": "code",
   "execution_count": null,
   "id": "23ccb5a9",
   "metadata": {
    "execution": {
     "iopub.execute_input": "2023-06-21T15:03:43.210700Z",
     "iopub.status.busy": "2023-06-21T15:03:43.210439Z",
     "iopub.status.idle": "2023-06-21T15:03:43.213846Z",
     "shell.execute_reply": "2023-06-21T15:03:43.213278Z"
    }
   },
   "outputs": [],
   "source": [
    "number_preferences[4.0] = \"yes\"\n",
    "print(number_preferences)"
   ]
  },
  {
   "cell_type": "code",
   "execution_count": null,
   "id": "fe046ee6",
   "metadata": {
    "execution": {
     "iopub.execute_input": "2023-06-21T15:03:43.216875Z",
     "iopub.status.busy": "2023-06-21T15:03:43.216447Z",
     "iopub.status.idle": "2023-06-21T15:03:43.219701Z",
     "shell.execute_reply": "2023-06-21T15:03:43.219104Z"
    }
   },
   "outputs": [],
   "source": [
    "number_preferences[1.5] = \"no\"\n",
    "print(number_preferences)"
   ]
  },
  {
   "cell_type": "markdown",
   "id": "f7c428d4",
   "metadata": {
    "slideshow": {
     "slide_type": "subslide"
    }
   },
   "source": [
    "You can delete from a dictionary using the `del` keyword."
   ]
  },
  {
   "cell_type": "code",
   "execution_count": null,
   "id": "db9b069b",
   "metadata": {
    "execution": {
     "iopub.execute_input": "2023-06-21T15:03:43.222892Z",
     "iopub.status.busy": "2023-06-21T15:03:43.222472Z",
     "iopub.status.idle": "2023-06-21T15:03:43.226125Z",
     "shell.execute_reply": "2023-06-21T15:03:43.225529Z"
    }
   },
   "outputs": [],
   "source": [
    "stats = {\n",
    "    \"height\": 67,\n",
    "    \"weight\": 140,\n",
    "    \"eye color\": \"blue\",\n",
    "    \"dominant hand\": \"left\"\n",
    "}\n",
    "print(stats)\n",
    "del stats[\"weight\"]\n",
    "print(stats)"
   ]
  },
  {
   "cell_type": "markdown",
   "id": "9ea32f85",
   "metadata": {
    "slideshow": {
     "slide_type": "slide"
    }
   },
   "source": [
    "## Iterating over dictionaries\n",
    "\n",
    "You can use for loops to iterate over the keys in a dictionary"
   ]
  },
  {
   "cell_type": "code",
   "execution_count": null,
   "id": "ca141bab",
   "metadata": {
    "execution": {
     "iopub.execute_input": "2023-06-21T15:03:43.229318Z",
     "iopub.status.busy": "2023-06-21T15:03:43.228897Z",
     "iopub.status.idle": "2023-06-21T15:03:43.232622Z",
     "shell.execute_reply": "2023-06-21T15:03:43.232056Z"
    }
   },
   "outputs": [],
   "source": [
    "stats = {\n",
    "    \"height\": 67,\n",
    "    \"weight\": 140,\n",
    "    \"eye color\": \"blue\",\n",
    "    \"dominant hand\": \"left\"\n",
    "}\n",
    "for statname in stats:\n",
    "    print(f\"My {statname} is {stats[statname]}\")"
   ]
  },
  {
   "cell_type": "markdown",
   "id": "a84afaaa",
   "metadata": {
    "slideshow": {
     "slide_type": "subslide"
    }
   },
   "source": [
    "You can also iterate over key/value pairs with the `.items()` method."
   ]
  },
  {
   "cell_type": "code",
   "execution_count": null,
   "id": "43e533f0",
   "metadata": {
    "execution": {
     "iopub.execute_input": "2023-06-21T15:03:43.235814Z",
     "iopub.status.busy": "2023-06-21T15:03:43.235557Z",
     "iopub.status.idle": "2023-06-21T15:03:43.239197Z",
     "shell.execute_reply": "2023-06-21T15:03:43.238622Z"
    }
   },
   "outputs": [],
   "source": [
    "stats = {\n",
    "    \"height\": 67,\n",
    "    \"weight\": 140,\n",
    "    \"eye color\": \"blue\",\n",
    "    \"dominant hand\": \"left\"\n",
    "}\n",
    "for statname, value in stats.items():\n",
    "    print(f\"My {statname} is {value}\")"
   ]
  },
  {
   "cell_type": "markdown",
   "id": "61ba394f",
   "metadata": {
    "slideshow": {
     "slide_type": "subslide"
    }
   },
   "source": [
    "## Side note: Value unpacking\n",
    "\n",
    "Initializing 2 values in a `for` loop is something we haven't seen before: \n",
    "\n",
    "`for statname, value in stats.items():` \n",
    "\n",
    "This uses something called \"value unpacking\". It's a shortcut to assign multiple values to multiple variables at once. It works with any sequence."
   ]
  },
  {
   "cell_type": "code",
   "execution_count": null,
   "id": "5f3f4586",
   "metadata": {
    "execution": {
     "iopub.execute_input": "2023-06-21T15:03:43.242297Z",
     "iopub.status.busy": "2023-06-21T15:03:43.242051Z",
     "iopub.status.idle": "2023-06-21T15:03:43.245344Z",
     "shell.execute_reply": "2023-06-21T15:03:43.244696Z"
    }
   },
   "outputs": [],
   "source": [
    "a, b = (1, 2)\n",
    "print(f\"{a=} {b=}\")"
   ]
  },
  {
   "cell_type": "code",
   "execution_count": null,
   "id": "e020b2f6",
   "metadata": {
    "execution": {
     "iopub.execute_input": "2023-06-21T15:03:43.248128Z",
     "iopub.status.busy": "2023-06-21T15:03:43.247882Z",
     "iopub.status.idle": "2023-06-21T15:03:43.251327Z",
     "shell.execute_reply": "2023-06-21T15:03:43.250800Z"
    }
   },
   "outputs": [],
   "source": [
    "names = [\"Larry\", \"Moe\", \"Curly\"]\n",
    "stooge1, stooge2, stooge3 = names\n",
    "print(f\"{stooge1=} {stooge2=} {stooge3=}\")"
   ]
  },
  {
   "cell_type": "code",
   "execution_count": null,
   "id": "d2c5e787",
   "metadata": {
    "execution": {
     "iopub.execute_input": "2023-06-21T15:03:43.254185Z",
     "iopub.status.busy": "2023-06-21T15:03:43.253941Z",
     "iopub.status.idle": "2023-06-21T15:03:43.257590Z",
     "shell.execute_reply": "2023-06-21T15:03:43.257001Z"
    }
   },
   "outputs": [],
   "source": [
    "number_words = {\n",
    "    \"one\": 1,\n",
    "    \"four\": 4,\n",
    "    \"one hundred\": 100\n",
    "}\n",
    "o, f, oh = number_words\n",
    "print(f\"{o=}, {f=}, {oh=}\")"
   ]
  },
  {
   "cell_type": "markdown",
   "id": "4d870d3a",
   "metadata": {
    "slideshow": {
     "slide_type": "subslide"
    }
   },
   "source": [
    "The number of variables on the left must match the length of the sequence being unpacked."
   ]
  },
  {
   "cell_type": "code",
   "execution_count": null,
   "id": "476bb441",
   "metadata": {
    "execution": {
     "iopub.execute_input": "2023-06-21T15:03:43.260480Z",
     "iopub.status.busy": "2023-06-21T15:03:43.260234Z",
     "iopub.status.idle": "2023-06-21T15:03:43.274726Z",
     "shell.execute_reply": "2023-06-21T15:03:43.274117Z"
    },
    "slideshow": {
     "slide_type": "-"
    },
    "tags": [
     "raises-exception"
    ]
   },
   "outputs": [],
   "source": [
    "a, b, c = (1, 2)"
   ]
  },
  {
   "cell_type": "code",
   "execution_count": null,
   "id": "c54413d7",
   "metadata": {
    "execution": {
     "iopub.execute_input": "2023-06-21T15:03:43.278108Z",
     "iopub.status.busy": "2023-06-21T15:03:43.277855Z",
     "iopub.status.idle": "2023-06-21T15:03:43.292015Z",
     "shell.execute_reply": "2023-06-21T15:03:43.291362Z"
    },
    "tags": [
     "raises-exception"
    ]
   },
   "outputs": [],
   "source": [
    "a, b = (1, 2, 3)"
   ]
  },
  {
   "cell_type": "markdown",
   "id": "dc53395a",
   "metadata": {
    "slideshow": {
     "slide_type": "subslide"
    }
   },
   "source": [
    "Back to dictionaries...\n",
    "\n",
    "`.items()` produces the keys/values as 2-tuples:"
   ]
  },
  {
   "cell_type": "code",
   "execution_count": null,
   "id": "dc138160",
   "metadata": {
    "execution": {
     "iopub.execute_input": "2023-06-21T15:03:43.295284Z",
     "iopub.status.busy": "2023-06-21T15:03:43.295028Z",
     "iopub.status.idle": "2023-06-21T15:03:43.299711Z",
     "shell.execute_reply": "2023-06-21T15:03:43.299095Z"
    }
   },
   "outputs": [],
   "source": [
    "list(stats.items())"
   ]
  },
  {
   "cell_type": "markdown",
   "id": "61bd003a",
   "metadata": {},
   "source": [
    "This is why our `for` loop worked - each key from `.items()` is unpacked into `statname`, and each value is unpacke into `value`:"
   ]
  },
  {
   "cell_type": "code",
   "execution_count": null,
   "id": "6c7b7fdf",
   "metadata": {
    "execution": {
     "iopub.execute_input": "2023-06-21T15:03:43.302732Z",
     "iopub.status.busy": "2023-06-21T15:03:43.302473Z",
     "iopub.status.idle": "2023-06-21T15:03:43.305919Z",
     "shell.execute_reply": "2023-06-21T15:03:43.305281Z"
    }
   },
   "outputs": [],
   "source": [
    "for statname, value in stats.items():\n",
    "    print(f\"My {statname} is {value}\")"
   ]
  },
  {
   "cell_type": "markdown",
   "id": "f053cd68",
   "metadata": {},
   "source": [
    "## Exercise\n",
    "\n",
    "Write a function to keep track of personal high scores for everyone who plays a game: `record_attempt(name, new_score, scores)`, where:\n",
    "* `name` is a string\n",
    "* `new_score` is an int\n",
    "* `scores` is a dictionary mapping name->best score. The function should modify `scores` in place."
   ]
  },
  {
   "cell_type": "code",
   "execution_count": null,
   "id": "eb2b9699",
   "metadata": {
    "execution": {
     "iopub.execute_input": "2023-06-21T15:03:43.309167Z",
     "iopub.status.busy": "2023-06-21T15:03:43.308743Z",
     "iopub.status.idle": "2023-06-21T15:03:43.311817Z",
     "shell.execute_reply": "2023-06-21T15:03:43.311292Z"
    }
   },
   "outputs": [],
   "source": [
    "def record_attempt(name, new_score, scores):\n",
    "    # ???\n",
    "    return"
   ]
  },
  {
   "cell_type": "code",
   "execution_count": null,
   "id": "66ec20bd",
   "metadata": {
    "execution": {
     "iopub.execute_input": "2023-06-21T15:03:43.314624Z",
     "iopub.status.busy": "2023-06-21T15:03:43.314382Z",
     "iopub.status.idle": "2023-06-21T15:03:43.317668Z",
     "shell.execute_reply": "2023-06-21T15:03:43.316987Z"
    },
    "slideshow": {
     "slide_type": "subslide"
    }
   },
   "outputs": [],
   "source": [
    "# attempt 1\n",
    "def record_attempt(name, new_score, scores):\n",
    "    if new_score > scores[name]:\n",
    "        scores[name] = new_score"
   ]
  },
  {
   "cell_type": "code",
   "execution_count": null,
   "id": "dd246221",
   "metadata": {
    "execution": {
     "iopub.execute_input": "2023-06-21T15:03:43.320403Z",
     "iopub.status.busy": "2023-06-21T15:03:43.320166Z",
     "iopub.status.idle": "2023-06-21T15:03:43.342924Z",
     "shell.execute_reply": "2023-06-21T15:03:43.341946Z"
    },
    "tags": [
     "raises-exception"
    ]
   },
   "outputs": [],
   "source": [
    "scores = {}\n",
    "record_attempt(\"Batman\", 100, scores)\n",
    "print(scores)"
   ]
  },
  {
   "cell_type": "markdown",
   "id": "60c40625",
   "metadata": {
    "slideshow": {
     "slide_type": "subslide"
    }
   },
   "source": [
    "We can't use `[]` to check the existing score, because the name might not be in there yet."
   ]
  },
  {
   "cell_type": "code",
   "execution_count": null,
   "id": "6bd60182",
   "metadata": {
    "execution": {
     "iopub.execute_input": "2023-06-21T15:03:43.346815Z",
     "iopub.status.busy": "2023-06-21T15:03:43.346556Z",
     "iopub.status.idle": "2023-06-21T15:03:43.350066Z",
     "shell.execute_reply": "2023-06-21T15:03:43.349369Z"
    },
    "slideshow": {
     "slide_type": "subslide"
    }
   },
   "outputs": [],
   "source": [
    "# attempt 2 (correct)\n",
    "def record_attempt(name, new_score, scores):\n",
    "    if new_score > scores.get(name, 0):\n",
    "        scores[name] = new_score"
   ]
  },
  {
   "cell_type": "code",
   "execution_count": null,
   "id": "2bc53859",
   "metadata": {
    "execution": {
     "iopub.execute_input": "2023-06-21T15:03:43.352967Z",
     "iopub.status.busy": "2023-06-21T15:03:43.352709Z",
     "iopub.status.idle": "2023-06-21T15:03:43.356182Z",
     "shell.execute_reply": "2023-06-21T15:03:43.355560Z"
    }
   },
   "outputs": [],
   "source": [
    "scores = {}\n",
    "record_attempt(\"Batman\", 100, scores)\n",
    "print(scores)"
   ]
  },
  {
   "cell_type": "code",
   "execution_count": null,
   "id": "1b087336",
   "metadata": {
    "execution": {
     "iopub.execute_input": "2023-06-21T15:03:43.359180Z",
     "iopub.status.busy": "2023-06-21T15:03:43.358761Z",
     "iopub.status.idle": "2023-06-21T15:03:43.362794Z",
     "shell.execute_reply": "2023-06-21T15:03:43.362156Z"
    }
   },
   "outputs": [],
   "source": [
    "scores = {}\n",
    "record_attempt(\"Batman\", 100, scores)\n",
    "record_attempt(\"Superman\", 10, scores)\n",
    "record_attempt(\"Spongebob\", 50, scores)\n",
    "record_attempt(\"Spiderman\", 1, scores)\n",
    "record_attempt(\"Spiderman\", 11, scores)\n",
    "record_attempt(\"Spiderman\", 110, scores)\n",
    "print(scores)"
   ]
  },
  {
   "cell_type": "markdown",
   "id": "6ea22517",
   "metadata": {
    "slideshow": {
     "slide_type": "subslide"
    }
   },
   "source": [
    "## Exercise\n",
    "\n",
    "Write a function that prints the person with the highest overall score: `print_winner(scores)`"
   ]
  },
  {
   "cell_type": "code",
   "execution_count": null,
   "id": "1878e457",
   "metadata": {
    "execution": {
     "iopub.execute_input": "2023-06-21T15:03:43.365828Z",
     "iopub.status.busy": "2023-06-21T15:03:43.365544Z",
     "iopub.status.idle": "2023-06-21T15:03:43.369255Z",
     "shell.execute_reply": "2023-06-21T15:03:43.368662Z"
    }
   },
   "outputs": [],
   "source": [
    "# attempt 1\n",
    "def print_winner(scores):\n",
    "    best_score = 0\n",
    "    best_player = \"\"\n",
    "    for player, score in scores.items():\n",
    "        if score > best_score:\n",
    "            best_score = score\n",
    "            best_player = player\n",
    "    print(f\"Congratulations, {player}, you win with {score} points!\")"
   ]
  },
  {
   "cell_type": "code",
   "execution_count": null,
   "id": "35c65840",
   "metadata": {
    "execution": {
     "iopub.execute_input": "2023-06-21T15:03:43.372000Z",
     "iopub.status.busy": "2023-06-21T15:03:43.371735Z",
     "iopub.status.idle": "2023-06-21T15:03:43.375751Z",
     "shell.execute_reply": "2023-06-21T15:03:43.375139Z"
    }
   },
   "outputs": [],
   "source": [
    "scores = {}\n",
    "record_attempt(\"Batman\", 100, scores)\n",
    "record_attempt(\"Superman\", 10, scores)\n",
    "record_attempt(\"Spongebob\", 50, scores)\n",
    "record_attempt(\"Spiderman\", 1, scores)\n",
    "record_attempt(\"Spiderman\", 11, scores)\n",
    "record_attempt(\"Spiderman\", 110, scores)\n",
    "print_winner(scores)"
   ]
  },
  {
   "cell_type": "markdown",
   "id": "ab7b2665",
   "metadata": {
    "slideshow": {
     "slide_type": "subslide"
    }
   },
   "source": [
    "Can you spot the bug?"
   ]
  },
  {
   "cell_type": "code",
   "execution_count": null,
   "id": "9d874390",
   "metadata": {
    "execution": {
     "iopub.execute_input": "2023-06-21T15:03:43.378857Z",
     "iopub.status.busy": "2023-06-21T15:03:43.378400Z",
     "iopub.status.idle": "2023-06-21T15:03:43.382189Z",
     "shell.execute_reply": "2023-06-21T15:03:43.381580Z"
    }
   },
   "outputs": [],
   "source": [
    "# attempt 1\n",
    "def print_winner(scores):\n",
    "    best_score = 0\n",
    "    best_player = \"\"\n",
    "    for player, score in scores.items():\n",
    "        if score > best_score:\n",
    "            best_score = score\n",
    "            best_player = player\n",
    "    print(f\"Congratulations, {player}, you win with {score} points!\")"
   ]
  },
  {
   "cell_type": "code",
   "execution_count": null,
   "id": "c90c2b60",
   "metadata": {
    "execution": {
     "iopub.execute_input": "2023-06-21T15:03:43.385054Z",
     "iopub.status.busy": "2023-06-21T15:03:43.384811Z",
     "iopub.status.idle": "2023-06-21T15:03:43.388771Z",
     "shell.execute_reply": "2023-06-21T15:03:43.388166Z"
    },
    "slideshow": {
     "slide_type": "fragment"
    }
   },
   "outputs": [],
   "source": [
    "scores = {}\n",
    "record_attempt(\"Batman\", 150, scores)\n",
    "record_attempt(\"Superman\", 10, scores)\n",
    "record_attempt(\"Spongebob\", 50, scores)\n",
    "record_attempt(\"Spiderman\", 1, scores)\n",
    "record_attempt(\"Spiderman\", 11, scores)\n",
    "record_attempt(\"Spiderman\", 110, scores)\n",
    "print_winner(scores)"
   ]
  },
  {
   "cell_type": "markdown",
   "id": "b548bf4f",
   "metadata": {},
   "source": [
    "This is a common type of error - make sure you test your code with a variety of inputs!"
   ]
  },
  {
   "cell_type": "code",
   "execution_count": null,
   "id": "9be80d57",
   "metadata": {
    "execution": {
     "iopub.execute_input": "2023-06-21T15:03:43.391754Z",
     "iopub.status.busy": "2023-06-21T15:03:43.391506Z",
     "iopub.status.idle": "2023-06-21T15:03:43.395240Z",
     "shell.execute_reply": "2023-06-21T15:03:43.394619Z"
    },
    "slideshow": {
     "slide_type": "subslide"
    }
   },
   "outputs": [],
   "source": [
    "# attempt 2 (correct)\n",
    "def print_winner(scores):\n",
    "    best_score = 0\n",
    "    best_player = \"\"\n",
    "    for player, score in scores.items():\n",
    "        if score > best_score:\n",
    "            best_score = score\n",
    "            best_player = player\n",
    "    print(f\"Congratulations, {best_player}, you win with {best_score} points!\")"
   ]
  },
  {
   "cell_type": "code",
   "execution_count": null,
   "id": "77dbb29e",
   "metadata": {
    "execution": {
     "iopub.execute_input": "2023-06-21T15:03:43.398178Z",
     "iopub.status.busy": "2023-06-21T15:03:43.397925Z",
     "iopub.status.idle": "2023-06-21T15:03:43.402030Z",
     "shell.execute_reply": "2023-06-21T15:03:43.401422Z"
    },
    "slideshow": {
     "slide_type": "fragment"
    }
   },
   "outputs": [],
   "source": [
    "scores = {}\n",
    "record_attempt(\"Batman\", 150, scores)\n",
    "record_attempt(\"Superman\", 10, scores)\n",
    "record_attempt(\"Spongebob\", 50, scores)\n",
    "record_attempt(\"Spiderman\", 1, scores)\n",
    "record_attempt(\"Spiderman\", 11, scores)\n",
    "record_attempt(\"Spiderman\", 110, scores)\n",
    "print_winner(scores)"
   ]
  },
  {
   "cell_type": "markdown",
   "id": "70b30d76",
   "metadata": {
    "slideshow": {
     "slide_type": "subslide"
    }
   },
   "source": [
    "## Exercise\n",
    "\n",
    "Write a function that takes a string, and returns a dictionary representing the unique words and the number of times each word occurred."
   ]
  },
  {
   "cell_type": "code",
   "execution_count": null,
   "id": "4f5dcfc4",
   "metadata": {
    "execution": {
     "iopub.execute_input": "2023-06-21T15:03:43.404973Z",
     "iopub.status.busy": "2023-06-21T15:03:43.404723Z",
     "iopub.status.idle": "2023-06-21T15:03:43.407796Z",
     "shell.execute_reply": "2023-06-21T15:03:43.407247Z"
    },
    "slideshow": {
     "slide_type": "subslide"
    }
   },
   "outputs": [],
   "source": [
    "def count_words(word_string):\n",
    "    # ???\n",
    "    return {}"
   ]
  },
  {
   "cell_type": "code",
   "execution_count": null,
   "id": "c4cac522",
   "metadata": {
    "execution": {
     "iopub.execute_input": "2023-06-21T15:03:43.410723Z",
     "iopub.status.busy": "2023-06-21T15:03:43.410479Z",
     "iopub.status.idle": "2023-06-21T15:03:43.413996Z",
     "shell.execute_reply": "2023-06-21T15:03:43.413398Z"
    },
    "slideshow": {
     "slide_type": "subslide"
    }
   },
   "outputs": [],
   "source": [
    "# attempt 1\n",
    "def count_words(word_string):\n",
    "    words = word_string.split()\n",
    "    counts = {}\n",
    "    for word in words:\n",
    "        counts[word] = counts[word] + 1\n",
    "    return counts"
   ]
  },
  {
   "cell_type": "code",
   "execution_count": null,
   "id": "f352f2c5",
   "metadata": {
    "execution": {
     "iopub.execute_input": "2023-06-21T15:03:43.416920Z",
     "iopub.status.busy": "2023-06-21T15:03:43.416670Z",
     "iopub.status.idle": "2023-06-21T15:03:43.438434Z",
     "shell.execute_reply": "2023-06-21T15:03:43.437831Z"
    },
    "tags": [
     "raises-exception"
    ]
   },
   "outputs": [],
   "source": [
    "count_words(\"It was the best of times it was the worst of times it was the age of wisdom it was the age of foolishness\")"
   ]
  },
  {
   "cell_type": "code",
   "execution_count": null,
   "id": "78ed9714",
   "metadata": {
    "execution": {
     "iopub.execute_input": "2023-06-21T15:03:43.441791Z",
     "iopub.status.busy": "2023-06-21T15:03:43.441497Z",
     "iopub.status.idle": "2023-06-21T15:03:43.445543Z",
     "shell.execute_reply": "2023-06-21T15:03:43.444984Z"
    },
    "slideshow": {
     "slide_type": "subslide"
    }
   },
   "outputs": [],
   "source": [
    "# attempt 2\n",
    "def count_words(word_string):\n",
    "    words = word_string.split()\n",
    "    counts = {}\n",
    "    for word in words:\n",
    "        if word not in counts:\n",
    "            counts[word] = 1\n",
    "        else:\n",
    "            counts[word] = counts[word] + 1\n",
    "    return counts"
   ]
  },
  {
   "cell_type": "code",
   "execution_count": null,
   "id": "5d9cd47b",
   "metadata": {
    "execution": {
     "iopub.execute_input": "2023-06-21T15:03:43.448967Z",
     "iopub.status.busy": "2023-06-21T15:03:43.448679Z",
     "iopub.status.idle": "2023-06-21T15:03:43.453523Z",
     "shell.execute_reply": "2023-06-21T15:03:43.452882Z"
    },
    "tags": [
     "raises-exception"
    ]
   },
   "outputs": [],
   "source": [
    "count_words(\"It was the best of times it was the worst of times it was the age of wisdom it was the age of foolishness\")"
   ]
  },
  {
   "cell_type": "code",
   "execution_count": null,
   "id": "a11b6824",
   "metadata": {
    "execution": {
     "iopub.execute_input": "2023-06-21T15:03:43.456737Z",
     "iopub.status.busy": "2023-06-21T15:03:43.456480Z",
     "iopub.status.idle": "2023-06-21T15:03:43.460283Z",
     "shell.execute_reply": "2023-06-21T15:03:43.459704Z"
    },
    "slideshow": {
     "slide_type": "subslide"
    }
   },
   "outputs": [],
   "source": [
    "# attempt 3\n",
    "def count_words(word_string):\n",
    "    words = word_string.lower().split()\n",
    "    counts = {}\n",
    "    for word in words:\n",
    "        if word not in counts:\n",
    "            counts[word] = 1\n",
    "        else:\n",
    "            counts[word] = counts[word] + 1\n",
    "    return counts"
   ]
  },
  {
   "cell_type": "code",
   "execution_count": null,
   "id": "d715a6cf",
   "metadata": {
    "execution": {
     "iopub.execute_input": "2023-06-21T15:03:43.463392Z",
     "iopub.status.busy": "2023-06-21T15:03:43.463040Z",
     "iopub.status.idle": "2023-06-21T15:03:43.467545Z",
     "shell.execute_reply": "2023-06-21T15:03:43.466970Z"
    },
    "tags": [
     "raises-exception"
    ]
   },
   "outputs": [],
   "source": [
    "count_words(\"It was the best of times it was the worst of times it was the age of wisdom it was the age of foolishness\")"
   ]
  },
  {
   "cell_type": "code",
   "execution_count": null,
   "id": "30c5a529",
   "metadata": {
    "execution": {
     "iopub.execute_input": "2023-06-21T15:03:43.470431Z",
     "iopub.status.busy": "2023-06-21T15:03:43.470198Z",
     "iopub.status.idle": "2023-06-21T15:03:43.473782Z",
     "shell.execute_reply": "2023-06-21T15:03:43.473157Z"
    }
   },
   "outputs": [],
   "source": [
    "# an alternative, using get()\n",
    "def count_words(word_string):\n",
    "    words = word_string.lower().split()\n",
    "    counts = {}\n",
    "    for word in words:\n",
    "        counts[word] = counts.get(word, 0) + 1\n",
    "    return counts"
   ]
  },
  {
   "cell_type": "code",
   "execution_count": null,
   "id": "4f010a33",
   "metadata": {
    "execution": {
     "iopub.execute_input": "2023-06-21T15:03:43.476898Z",
     "iopub.status.busy": "2023-06-21T15:03:43.476451Z",
     "iopub.status.idle": "2023-06-21T15:03:43.480843Z",
     "shell.execute_reply": "2023-06-21T15:03:43.480293Z"
    },
    "tags": [
     "raises-exception"
    ]
   },
   "outputs": [],
   "source": [
    "count_words(\"It was the best of times it was the worst of times it was the age of wisdom it was the age of foolishness\")"
   ]
  },
  {
   "cell_type": "markdown",
   "id": "cb58f1cf",
   "metadata": {
    "slideshow": {
     "slide_type": "slide"
    }
   },
   "source": [
    "# Sets\n",
    "\n",
    "Sets are unordered lists of unique values. "
   ]
  },
  {
   "cell_type": "markdown",
   "id": "2c522cc4",
   "metadata": {
    "slideshow": {
     "slide_type": "subslide"
    }
   },
   "source": [
    "## Creating sets \n",
    "\n",
    "Sets can be created from any iterable."
   ]
  },
  {
   "cell_type": "code",
   "execution_count": null,
   "id": "5c1b8835",
   "metadata": {
    "execution": {
     "iopub.execute_input": "2023-06-21T15:03:43.483796Z",
     "iopub.status.busy": "2023-06-21T15:03:43.483546Z",
     "iopub.status.idle": "2023-06-21T15:03:43.486829Z",
     "shell.execute_reply": "2023-06-21T15:03:43.486082Z"
    }
   },
   "outputs": [],
   "source": [
    "names = set([\"Batman\", \"Spiderman\", \"Batman\", \"Spongebob\"])\n",
    "print(names)"
   ]
  },
  {
   "cell_type": "markdown",
   "id": "e227a5b6",
   "metadata": {
    "slideshow": {
     "slide_type": "subslide"
    }
   },
   "source": [
    "## Accessing set members\n",
    "\n",
    "Because sets are unordered, there are no index-based accessors. You can use `in` to check for membership."
   ]
  },
  {
   "cell_type": "code",
   "execution_count": null,
   "id": "06d4adf4",
   "metadata": {
    "execution": {
     "iopub.execute_input": "2023-06-21T15:03:43.489902Z",
     "iopub.status.busy": "2023-06-21T15:03:43.489670Z",
     "iopub.status.idle": "2023-06-21T15:03:43.492712Z",
     "shell.execute_reply": "2023-06-21T15:03:43.492152Z"
    }
   },
   "outputs": [],
   "source": [
    "names = set([\"Batman\", \"Spiderman\", \"Batman\", \"Spongebob\"])"
   ]
  },
  {
   "cell_type": "code",
   "execution_count": null,
   "id": "3406ac5b",
   "metadata": {
    "execution": {
     "iopub.execute_input": "2023-06-21T15:03:43.495645Z",
     "iopub.status.busy": "2023-06-21T15:03:43.495396Z",
     "iopub.status.idle": "2023-06-21T15:03:43.499631Z",
     "shell.execute_reply": "2023-06-21T15:03:43.499055Z"
    }
   },
   "outputs": [],
   "source": [
    "\"Batman\" in names"
   ]
  },
  {
   "cell_type": "code",
   "execution_count": null,
   "id": "0991bbb2",
   "metadata": {
    "execution": {
     "iopub.execute_input": "2023-06-21T15:03:43.502516Z",
     "iopub.status.busy": "2023-06-21T15:03:43.502276Z",
     "iopub.status.idle": "2023-06-21T15:03:43.506293Z",
     "shell.execute_reply": "2023-06-21T15:03:43.505722Z"
    }
   },
   "outputs": [],
   "source": [
    "\"Peppa\" in names"
   ]
  },
  {
   "cell_type": "markdown",
   "id": "69f8219d",
   "metadata": {
    "slideshow": {
     "slide_type": "subslide"
    }
   },
   "source": [
    "## Modifying sets\n",
    "\n",
    "`add()`, `remove()`, `clear()`"
   ]
  },
  {
   "cell_type": "code",
   "execution_count": null,
   "id": "aea80ac2",
   "metadata": {
    "execution": {
     "iopub.execute_input": "2023-06-21T15:03:43.509290Z",
     "iopub.status.busy": "2023-06-21T15:03:43.509039Z",
     "iopub.status.idle": "2023-06-21T15:03:43.512494Z",
     "shell.execute_reply": "2023-06-21T15:03:43.511920Z"
    }
   },
   "outputs": [],
   "source": [
    "names = set([\"Batman\", \"Spiderman\", \"Batman\", \"Spongebob\"])\n",
    "names.add(\"Peppa\")\n",
    "print(names)"
   ]
  },
  {
   "cell_type": "code",
   "execution_count": null,
   "id": "d714c92a",
   "metadata": {
    "execution": {
     "iopub.execute_input": "2023-06-21T15:03:43.515410Z",
     "iopub.status.busy": "2023-06-21T15:03:43.515162Z",
     "iopub.status.idle": "2023-06-21T15:03:43.518665Z",
     "shell.execute_reply": "2023-06-21T15:03:43.518124Z"
    }
   },
   "outputs": [],
   "source": [
    "names = set([\"Batman\", \"Spiderman\", \"Batman\", \"Spongebob\"])\n",
    "names.remove(\"Batman\")\n",
    "print(names)"
   ]
  },
  {
   "cell_type": "code",
   "execution_count": null,
   "id": "bd839cfa",
   "metadata": {
    "execution": {
     "iopub.execute_input": "2023-06-21T15:03:43.521397Z",
     "iopub.status.busy": "2023-06-21T15:03:43.521154Z",
     "iopub.status.idle": "2023-06-21T15:03:43.524581Z",
     "shell.execute_reply": "2023-06-21T15:03:43.524052Z"
    }
   },
   "outputs": [],
   "source": [
    "names = set([\"Batman\", \"Spiderman\", \"Batman\", \"Spongebob\"])\n",
    "names.clear()\n",
    "print(names)"
   ]
  },
  {
   "cell_type": "markdown",
   "id": "0a5bbde3",
   "metadata": {
    "slideshow": {
     "slide_type": "subslide"
    }
   },
   "source": [
    "## Set operations\n",
    "\n",
    "Sets provide union, intersection, and difference operators."
   ]
  },
  {
   "cell_type": "markdown",
   "id": "88e2cf03",
   "metadata": {
    "slideshow": {
     "slide_type": "subslide"
    }
   },
   "source": [
    "## Equality\n",
    "\n",
    "Sets can be compared with `==`"
   ]
  },
  {
   "cell_type": "code",
   "execution_count": null,
   "id": "13909daf",
   "metadata": {
    "execution": {
     "iopub.execute_input": "2023-06-21T15:03:43.527674Z",
     "iopub.status.busy": "2023-06-21T15:03:43.527408Z",
     "iopub.status.idle": "2023-06-21T15:03:43.532460Z",
     "shell.execute_reply": "2023-06-21T15:03:43.531804Z"
    }
   },
   "outputs": [],
   "source": [
    "fluffy = set([\"cat\", \"dog\", \"dandelion\", \"pillow\"])\n",
    "loud = set([\"dog\", \"cat\", \"baby\", \"horn\", \"alarm\"])\n",
    "fluffy == loud"
   ]
  },
  {
   "cell_type": "markdown",
   "id": "08033d07",
   "metadata": {
    "slideshow": {
     "slide_type": "subslide"
    }
   },
   "source": [
    "## Intersection \n",
    "\n",
    "The \"intersection\" of 2 (or more) sets is the set of elements that appear in all sets"
   ]
  },
  {
   "cell_type": "code",
   "execution_count": null,
   "id": "7ef62e9d",
   "metadata": {
    "execution": {
     "iopub.execute_input": "2023-06-21T15:03:43.535544Z",
     "iopub.status.busy": "2023-06-21T15:03:43.535307Z",
     "iopub.status.idle": "2023-06-21T15:03:43.539629Z",
     "shell.execute_reply": "2023-06-21T15:03:43.539097Z"
    },
    "slideshow": {
     "slide_type": "-"
    }
   },
   "outputs": [],
   "source": [
    "fluffy = set([\"cat\", \"dog\", \"dandelion\", \"pillow\"])\n",
    "loud = set([\"dog\", \"cat\", \"baby\", \"horn\", \"alarm\"])\n",
    "fluffy & loud"
   ]
  },
  {
   "cell_type": "markdown",
   "id": "5920c178",
   "metadata": {
    "slideshow": {
     "slide_type": "subslide"
    }
   },
   "source": [
    "## Union\n",
    "\n",
    "The \"union\" of 2 (or more) sets is the set of elements that appear in any sets"
   ]
  },
  {
   "cell_type": "code",
   "execution_count": null,
   "id": "47f13196",
   "metadata": {
    "execution": {
     "iopub.execute_input": "2023-06-21T15:03:43.542526Z",
     "iopub.status.busy": "2023-06-21T15:03:43.542294Z",
     "iopub.status.idle": "2023-06-21T15:03:43.547299Z",
     "shell.execute_reply": "2023-06-21T15:03:43.546709Z"
    }
   },
   "outputs": [],
   "source": [
    "fluffy = set([\"cat\", \"dog\", \"dandelion\", \"pillow\"])\n",
    "loud = set([\"dog\", \"cat\", \"baby\", \"horn\", \"alarm\"])\n",
    "fluffy | loud"
   ]
  },
  {
   "cell_type": "markdown",
   "id": "b6925e18",
   "metadata": {
    "slideshow": {
     "slide_type": "subslide"
    }
   },
   "source": [
    "## Subtraction / difference\n",
    "\n",
    "The \"difference\" of 2 sets is the set of elements that appears in set A, but not in set B."
   ]
  },
  {
   "cell_type": "code",
   "execution_count": null,
   "id": "82212f31",
   "metadata": {
    "execution": {
     "iopub.execute_input": "2023-06-21T15:03:43.550263Z",
     "iopub.status.busy": "2023-06-21T15:03:43.550003Z",
     "iopub.status.idle": "2023-06-21T15:03:43.554507Z",
     "shell.execute_reply": "2023-06-21T15:03:43.553926Z"
    },
    "slideshow": {
     "slide_type": "-"
    }
   },
   "outputs": [],
   "source": [
    "fluffy = set([\"cat\", \"dog\", \"dandelion\", \"pillow\"])\n",
    "loud = set([\"dog\", \"cat\", \"baby\", \"horn\", \"alarm\"])\n",
    "fluffy - loud"
   ]
  },
  {
   "cell_type": "markdown",
   "id": "a8560886",
   "metadata": {},
   "source": [
    "Order matters for subtraction."
   ]
  },
  {
   "cell_type": "code",
   "execution_count": null,
   "id": "06190e83",
   "metadata": {
    "execution": {
     "iopub.execute_input": "2023-06-21T15:03:43.557341Z",
     "iopub.status.busy": "2023-06-21T15:03:43.557108Z",
     "iopub.status.idle": "2023-06-21T15:03:43.560912Z",
     "shell.execute_reply": "2023-06-21T15:03:43.560267Z"
    }
   },
   "outputs": [],
   "source": [
    "loud - fluffy"
   ]
  },
  {
   "cell_type": "markdown",
   "id": "2ac7c640",
   "metadata": {
    "slideshow": {
     "slide_type": "subslide"
    }
   },
   "source": [
    "## Symmetric difference (\"xor\")\n",
    "\n",
    "The \"symmetric difference\" of 2 sets is the set of items that appear in one set, but not the other. This is also sometimes referred to as `xor` (\"exclusive or\"), from boolean/digital logic."
   ]
  },
  {
   "cell_type": "code",
   "execution_count": null,
   "id": "454d7c7d",
   "metadata": {
    "execution": {
     "iopub.execute_input": "2023-06-21T15:03:43.563796Z",
     "iopub.status.busy": "2023-06-21T15:03:43.563568Z",
     "iopub.status.idle": "2023-06-21T15:03:43.567960Z",
     "shell.execute_reply": "2023-06-21T15:03:43.567403Z"
    }
   },
   "outputs": [],
   "source": [
    "fluffy = set([\"cat\", \"dog\", \"dandelion\", \"pillow\"])\n",
    "loud = set([\"dog\", \"cat\", \"baby\", \"horn\", \"alarm\"])\n",
    "fluffy ^ loud"
   ]
  },
  {
   "cell_type": "markdown",
   "id": "fbfa4cff",
   "metadata": {
    "slideshow": {
     "slide_type": "subslide"
    }
   },
   "source": [
    "## Superset / subset\n",
    "\n",
    "Superset: a set contains all elements of another set  \n",
    "Subset: a set is made up only of elements from another set"
   ]
  },
  {
   "cell_type": "code",
   "execution_count": null,
   "id": "73115c9b",
   "metadata": {
    "execution": {
     "iopub.execute_input": "2023-06-21T15:03:43.570819Z",
     "iopub.status.busy": "2023-06-21T15:03:43.570571Z",
     "iopub.status.idle": "2023-06-21T15:03:43.574705Z",
     "shell.execute_reply": "2023-06-21T15:03:43.574184Z"
    }
   },
   "outputs": [],
   "source": [
    "letters = set(\"abcdefghijklmnopqrstuvwxyz\")\n",
    "vowels = set(\"aeiou\")\n",
    "letters.issuperset(vowels)"
   ]
  },
  {
   "cell_type": "code",
   "execution_count": null,
   "id": "5557f2b9",
   "metadata": {
    "execution": {
     "iopub.execute_input": "2023-06-21T15:03:43.577368Z",
     "iopub.status.busy": "2023-06-21T15:03:43.577136Z",
     "iopub.status.idle": "2023-06-21T15:03:43.581040Z",
     "shell.execute_reply": "2023-06-21T15:03:43.580504Z"
    }
   },
   "outputs": [],
   "source": [
    "vowels.issuperset(letters)"
   ]
  },
  {
   "cell_type": "code",
   "execution_count": null,
   "id": "549f8c7f",
   "metadata": {
    "execution": {
     "iopub.execute_input": "2023-06-21T15:03:43.583780Z",
     "iopub.status.busy": "2023-06-21T15:03:43.583551Z",
     "iopub.status.idle": "2023-06-21T15:03:43.587466Z",
     "shell.execute_reply": "2023-06-21T15:03:43.586949Z"
    }
   },
   "outputs": [],
   "source": [
    "vowels.issubset(letters)"
   ]
  },
  {
   "cell_type": "code",
   "execution_count": null,
   "id": "b19dd6b3",
   "metadata": {
    "execution": {
     "iopub.execute_input": "2023-06-21T15:03:43.590196Z",
     "iopub.status.busy": "2023-06-21T15:03:43.589965Z",
     "iopub.status.idle": "2023-06-21T15:03:43.593646Z",
     "shell.execute_reply": "2023-06-21T15:03:43.593057Z"
    }
   },
   "outputs": [],
   "source": [
    "letters.issubset(vowels)"
   ]
  },
  {
   "cell_type": "markdown",
   "id": "48bc3aae",
   "metadata": {
    "slideshow": {
     "slide_type": "subslide"
    }
   },
   "source": [
    "## Example\n",
    "\n",
    "Write a program that prompts the user to enter the postal abbreviations for all 50 U.S. states. The player loses if they repeat a guess, or guess something that isn't valid."
   ]
  },
  {
   "cell_type": "code",
   "execution_count": null,
   "id": "9ec23b05",
   "metadata": {
    "execution": {
     "iopub.execute_input": "2023-06-21T15:03:43.596463Z",
     "iopub.status.busy": "2023-06-21T15:03:43.596231Z",
     "iopub.status.idle": "2023-06-21T15:03:43.675688Z",
     "shell.execute_reply": "2023-06-21T15:03:43.674087Z"
    },
    "slideshow": {
     "slide_type": "subslide"
    },
    "tags": [
     "remove-output"
    ]
   },
   "outputs": [],
   "source": [
    "states = set([ 'AK', 'AL', 'AR', 'AZ', 'CA', 'CO', 'CT', 'DE', 'FL', 'GA',\n",
    "           'HI', 'IA', 'ID', 'IL', 'IN', 'KS', 'KY', 'LA', 'MA', 'MD', 'ME',\n",
    "           'MI', 'MN', 'MO', 'MS', 'MT', 'NC', 'ND', 'NE', 'NH', 'NJ', 'NM',\n",
    "           'NV', 'NY', 'OH', 'OK', 'OR', 'PA', 'RI', 'SC', 'SD', 'TN', 'TX',\n",
    "           'UT', 'VA', 'VT', 'WA', 'WI', 'WV', 'WY'])\n",
    "guesses = set()\n",
    "\n",
    "print(\"Guess all 50 US state postal abbreviations, without repeating.\")\n",
    "while True:\n",
    "    print(\"Guess? \")\n",
    "    answer = input()\n",
    "    if answer in guesses:\n",
    "        print(f\"You already guessed {answer}!\")\n",
    "        break\n",
    "    if answer not in states:\n",
    "        print(f\"{answer} is not a valid postal code!\")\n",
    "        break\n",
    "    guesses.add(answer)\n",
    "    if guesses == states:\n",
    "        print(\"You win!\")\n",
    "        break\n",
    "    print(f\"You've guessed {len(guesses)}/{len(states)} so far.\")"
   ]
  }
 ],
 "metadata": {
  "celltoolbar": "Slideshow",
  "kernelspec": {
   "display_name": "Python 3 (ipykernel)",
   "language": "python",
   "name": "python3"
  },
  "language_info": {
   "codemirror_mode": {
    "name": "ipython",
    "version": 3
   },
   "file_extension": ".py",
   "mimetype": "text/x-python",
   "name": "python",
   "nbconvert_exporter": "python",
   "pygments_lexer": "ipython3",
   "version": "3.10.9"
  }
 },
 "nbformat": 4,
 "nbformat_minor": 5
}
