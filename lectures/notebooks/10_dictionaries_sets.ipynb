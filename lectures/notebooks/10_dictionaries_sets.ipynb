{
 "cells": [
  {
   "cell_type": "markdown",
   "id": "1ee8a1d2",
   "metadata": {
    "slideshow": {
     "slide_type": "slide"
    }
   },
   "source": [
    "# Dictionaries and Sets\n",
    "\n",
    "<style>\n",
    "section.present > section.present { \n",
    "    max-height: 90%; \n",
    "    overflow-y: scroll;\n",
    "}\n",
    "</style>\n",
    "\n",
    "<small><a href=\"https://colab.research.google.com/github/brandeis-jdelfino/cosi-10a/blob/main/lectures/notebooks/10_dictionaries_sets.ipynb\">Link to interactive slides on Google Colab</a></small>"
   ]
  },
  {
   "cell_type": "markdown",
   "id": "ecf7cb81",
   "metadata": {
    "slideshow": {
     "slide_type": "slide"
    }
   },
   "source": [
    "Today, we'll cover the last 2 widely used data types in Python:\n",
    "* Dictionaries: mappings from keys to values\n",
    "* Sets: Unordered lists of unique values"
   ]
  },
  {
   "cell_type": "markdown",
   "id": "cf21df57",
   "metadata": {
    "slideshow": {
     "slide_type": "slide"
    }
   },
   "source": [
    "## The Exercise exercise, revisited\n",
    "\n",
    "We had 2 \"parallel lists\": names, and lists of which days those characters exercised. We used `zip` to iterate over them together."
   ]
  },
  {
   "cell_type": "code",
   "execution_count": null,
   "id": "61e4ff79",
   "metadata": {
    "execution": {
     "iopub.execute_input": "2023-06-29T15:33:50.973770Z",
     "iopub.status.busy": "2023-06-29T15:33:50.973236Z",
     "iopub.status.idle": "2023-06-29T15:33:50.991497Z",
     "shell.execute_reply": "2023-06-29T15:33:50.990688Z"
    }
   },
   "outputs": [],
   "source": [
    "names = [\"Spongebob\", \"Batman\", \"Dora\", \"Peppa\", \"Bill Murray\"]\n",
    "data = [\n",
    "    [1, 7, 15, 31],\n",
    "    [2, 21],\n",
    "    [5],\n",
    "    [1, 3, 5, 7, 9, 11, 13, 15, 17, 19, 21, 23, 25, 27, 29],\n",
    "    [1, 2, 3, 4, 5, 6]\n",
    "]\n",
    "\n",
    "most = 0\n",
    "most_name = \"\"\n",
    "for (name, dates) in zip(names, data):\n",
    "    if len(dates) > most:\n",
    "        most = len(dates)\n",
    "        most_name = name\n",
    "print(f\"{most_name} exercised the most, with {most} days of exercise!\")"
   ]
  },
  {
   "cell_type": "markdown",
   "id": "b1a36898",
   "metadata": {
    "slideshow": {
     "slide_type": "subslide"
    }
   },
   "source": [
    "**Dictionaries** are a better data structure for this type of data. They map **keys** (names) to **values** (list of exercise dates).\n",
    "\n",
    "Here's how that example would look with a dictionary."
   ]
  },
  {
   "cell_type": "code",
   "execution_count": null,
   "id": "182868ec",
   "metadata": {
    "execution": {
     "iopub.execute_input": "2023-06-29T15:33:50.996613Z",
     "iopub.status.busy": "2023-06-29T15:33:50.996297Z",
     "iopub.status.idle": "2023-06-29T15:33:51.001339Z",
     "shell.execute_reply": "2023-06-29T15:33:51.000636Z"
    }
   },
   "outputs": [],
   "source": [
    "data = {\n",
    "    \"Spongebob\": [1, 7, 15, 31],\n",
    "    \"Batman\": [2, 21],\n",
    "    \"Dora\": [5],\n",
    "    \"Peppa\": [1, 3, 5, 7, 9, 11, 13, 15, 17, 19, 21, 23, 25, 27, 29],\n",
    "    \"Bill Murray\": [1, 2, 3, 4, 5, 6]\n",
    "}\n",
    "\n",
    "most = 0\n",
    "most_name = \"\"\n",
    "for name in data:\n",
    "    if len(data[name]) > most:\n",
    "        most = len(data[name])\n",
    "        most_name = name\n",
    "print(f\"{most_name} exercised the most, with {most} days of exercise!\")"
   ]
  },
  {
   "cell_type": "markdown",
   "id": "e5a1eba7",
   "metadata": {
    "slideshow": {
     "slide_type": "slide"
    }
   },
   "source": [
    "# Creating dictionaries\n",
    "\n",
    "Dictionaries are created and represented with curly brackets: `{` and `}`."
   ]
  },
  {
   "cell_type": "code",
   "execution_count": null,
   "id": "3854a0d5",
   "metadata": {
    "execution": {
     "iopub.execute_input": "2023-06-29T15:33:51.005545Z",
     "iopub.status.busy": "2023-06-29T15:33:51.005255Z",
     "iopub.status.idle": "2023-06-29T15:33:51.008774Z",
     "shell.execute_reply": "2023-06-29T15:33:51.008120Z"
    }
   },
   "outputs": [],
   "source": [
    "distances_from_boston = {\n",
    "    \"NY, NY\": 216,\n",
    "    \"Portland, ME\": 110,\n",
    "    \"San Francisco, CA\": 2692,\n",
    "    \"Auckland, NZ\": 9002\n",
    "}\n",
    "print(distances_from_boston)"
   ]
  },
  {
   "cell_type": "markdown",
   "id": "8fc12d73",
   "metadata": {},
   "source": [
    "`distances_from_boston` holds 4 key/value pairs. All the keys are strings, all the values are integers. Keys can be any **immutable** type and values can be any type."
   ]
  },
  {
   "cell_type": "code",
   "execution_count": null,
   "id": "c39b73a4",
   "metadata": {
    "execution": {
     "iopub.execute_input": "2023-06-29T15:33:51.013628Z",
     "iopub.status.busy": "2023-06-29T15:33:51.013090Z",
     "iopub.status.idle": "2023-06-29T15:33:51.017098Z",
     "shell.execute_reply": "2023-06-29T15:33:51.016367Z"
    },
    "slideshow": {
     "slide_type": "subslide"
    }
   },
   "outputs": [],
   "source": [
    "x = {}\n",
    "print(x)"
   ]
  },
  {
   "cell_type": "markdown",
   "id": "2fab010b",
   "metadata": {},
   "source": [
    "`x` is an empty dictionary."
   ]
  },
  {
   "cell_type": "markdown",
   "id": "77391a05",
   "metadata": {
    "slideshow": {
     "slide_type": "subslide"
    }
   },
   "source": [
    "Dictionary keys are unique. The same key can't appear more than once in a dictionary."
   ]
  },
  {
   "cell_type": "code",
   "execution_count": null,
   "id": "f2aea045",
   "metadata": {
    "execution": {
     "iopub.execute_input": "2023-06-29T15:33:51.021940Z",
     "iopub.status.busy": "2023-06-29T15:33:51.021660Z",
     "iopub.status.idle": "2023-06-29T15:33:51.025321Z",
     "shell.execute_reply": "2023-06-29T15:33:51.024732Z"
    }
   },
   "outputs": [],
   "source": [
    "distances_from_boston = {\n",
    "    \"NY, NY\": 216,\n",
    "    \"NY, NY\": 110,\n",
    "    \"San Francisco, CA\": 2692,\n",
    "    \"Auckland, NZ\": 9002\n",
    "}\n",
    "print(distances_from_boston)"
   ]
  },
  {
   "cell_type": "markdown",
   "id": "a147ad39",
   "metadata": {},
   "source": [
    "The first `NY, NY` value (`216`) was overwritten by the second (`110`) "
   ]
  },
  {
   "cell_type": "markdown",
   "id": "ab100c46",
   "metadata": {
    "slideshow": {
     "slide_type": "slide"
    }
   },
   "source": [
    "## Accessing dictionary elements\n",
    "\n",
    "Dictionaries are accessed using the same bracket notation (`[]`) as lists, but with keys instead of indices."
   ]
  },
  {
   "cell_type": "code",
   "execution_count": null,
   "id": "0f15b8d4",
   "metadata": {
    "execution": {
     "iopub.execute_input": "2023-06-29T15:33:51.029535Z",
     "iopub.status.busy": "2023-06-29T15:33:51.029203Z",
     "iopub.status.idle": "2023-06-29T15:33:51.033813Z",
     "shell.execute_reply": "2023-06-29T15:33:51.032808Z"
    }
   },
   "outputs": [],
   "source": [
    "number_words = {\n",
    "    \"one\": 1,\n",
    "    \"four\": 4,\n",
    "    \"one hundred\": 100\n",
    "}\n",
    "print(number_words[\"four\"])"
   ]
  },
  {
   "cell_type": "code",
   "execution_count": null,
   "id": "6cf994b8",
   "metadata": {
    "execution": {
     "iopub.execute_input": "2023-06-29T15:33:51.038771Z",
     "iopub.status.busy": "2023-06-29T15:33:51.038461Z",
     "iopub.status.idle": "2023-06-29T15:33:51.042304Z",
     "shell.execute_reply": "2023-06-29T15:33:51.041479Z"
    }
   },
   "outputs": [],
   "source": [
    "print(number_words[\"one \" + \"hundred\"])"
   ]
  },
  {
   "cell_type": "markdown",
   "id": "53fe4581",
   "metadata": {
    "slideshow": {
     "slide_type": "subslide"
    }
   },
   "source": [
    "Accessing an element that doesn't exist generates an error"
   ]
  },
  {
   "cell_type": "code",
   "execution_count": null,
   "id": "8dbedcb5",
   "metadata": {
    "execution": {
     "iopub.execute_input": "2023-06-29T15:33:51.047279Z",
     "iopub.status.busy": "2023-06-29T15:33:51.046968Z",
     "iopub.status.idle": "2023-06-29T15:33:51.404911Z",
     "shell.execute_reply": "2023-06-29T15:33:51.404257Z"
    }
   },
   "outputs": [],
   "source": [
    "print(number_words[2])"
   ]
  },
  {
   "cell_type": "markdown",
   "id": "d5291d6f",
   "metadata": {
    "slideshow": {
     "slide_type": "subslide"
    }
   },
   "source": [
    "You can use the `.get()` method if you want to access an element that may not exist."
   ]
  },
  {
   "cell_type": "code",
   "execution_count": null,
   "id": "17a069b4",
   "metadata": {
    "execution": {
     "iopub.execute_input": "2023-06-29T15:33:51.408816Z",
     "iopub.status.busy": "2023-06-29T15:33:51.408402Z",
     "iopub.status.idle": "2023-06-29T15:33:51.412760Z",
     "shell.execute_reply": "2023-06-29T15:33:51.411976Z"
    }
   },
   "outputs": [],
   "source": [
    "number_words = {\n",
    "    \"one\": 1,\n",
    "    \"four\": 4,\n",
    "    \"one hundred\": 100\n",
    "}\n",
    "print(number_words.get(\"one\"))"
   ]
  },
  {
   "cell_type": "code",
   "execution_count": null,
   "id": "20058424",
   "metadata": {
    "execution": {
     "iopub.execute_input": "2023-06-29T15:33:51.417692Z",
     "iopub.status.busy": "2023-06-29T15:33:51.417252Z",
     "iopub.status.idle": "2023-06-29T15:33:51.423263Z",
     "shell.execute_reply": "2023-06-29T15:33:51.421947Z"
    }
   },
   "outputs": [],
   "source": [
    "print(number_words.get(\"two\"))"
   ]
  },
  {
   "cell_type": "markdown",
   "id": "5d8928fe",
   "metadata": {},
   "source": [
    "`get()` takes an optional argument the specifies the value to use if the key isn't found in the dictionary."
   ]
  },
  {
   "cell_type": "code",
   "execution_count": null,
   "id": "5d2899b9",
   "metadata": {
    "execution": {
     "iopub.execute_input": "2023-06-29T15:33:51.427619Z",
     "iopub.status.busy": "2023-06-29T15:33:51.427023Z",
     "iopub.status.idle": "2023-06-29T15:33:51.432185Z",
     "shell.execute_reply": "2023-06-29T15:33:51.430792Z"
    }
   },
   "outputs": [],
   "source": [
    "print(number_words.get(\"two\", \"unknown\"))"
   ]
  },
  {
   "cell_type": "markdown",
   "id": "f0e6954c",
   "metadata": {
    "slideshow": {
     "slide_type": "subslide"
    }
   },
   "source": [
    "You can check for the existince of a key with `in` (similar to lists and other sequences)"
   ]
  },
  {
   "cell_type": "code",
   "execution_count": null,
   "id": "eab3bf28",
   "metadata": {
    "execution": {
     "iopub.execute_input": "2023-06-29T15:33:51.437416Z",
     "iopub.status.busy": "2023-06-29T15:33:51.437026Z",
     "iopub.status.idle": "2023-06-29T15:33:51.441985Z",
     "shell.execute_reply": "2023-06-29T15:33:51.441151Z"
    }
   },
   "outputs": [],
   "source": [
    "number_words = {\n",
    "    \"one\": 1,\n",
    "    \"four\": 4,\n",
    "    \"one hundred\": 100\n",
    "}\n",
    "print(\"one\" in number_words)"
   ]
  },
  {
   "cell_type": "code",
   "execution_count": null,
   "id": "d559277d",
   "metadata": {
    "execution": {
     "iopub.execute_input": "2023-06-29T15:33:51.447472Z",
     "iopub.status.busy": "2023-06-29T15:33:51.446904Z",
     "iopub.status.idle": "2023-06-29T15:33:51.456269Z",
     "shell.execute_reply": "2023-06-29T15:33:51.455269Z"
    }
   },
   "outputs": [],
   "source": [
    "\"ten\" in number_words"
   ]
  },
  {
   "cell_type": "markdown",
   "id": "bff0954d",
   "metadata": {},
   "source": [
    "## Modifying dictionaries\n",
    "\n",
    "Assigning a value to a key adds a key/value pair to the dictionary if the key doesn't already exist. If the key does already exist, the value for that key is updated."
   ]
  },
  {
   "cell_type": "code",
   "execution_count": null,
   "id": "6a2bbdc1",
   "metadata": {
    "execution": {
     "iopub.execute_input": "2023-06-29T15:33:51.460428Z",
     "iopub.status.busy": "2023-06-29T15:33:51.460001Z",
     "iopub.status.idle": "2023-06-29T15:33:51.466785Z",
     "shell.execute_reply": "2023-06-29T15:33:51.465643Z"
    }
   },
   "outputs": [],
   "source": [
    "number_preferences = {\n",
    "    1.5: False,\n",
    "    2.7: True,\n",
    "    3.9: False\n",
    "}\n",
    "print(number_preferences)"
   ]
  },
  {
   "cell_type": "code",
   "execution_count": null,
   "id": "23ccb5a9",
   "metadata": {
    "execution": {
     "iopub.execute_input": "2023-06-29T15:33:51.471839Z",
     "iopub.status.busy": "2023-06-29T15:33:51.471424Z",
     "iopub.status.idle": "2023-06-29T15:33:51.476333Z",
     "shell.execute_reply": "2023-06-29T15:33:51.475468Z"
    }
   },
   "outputs": [],
   "source": [
    "number_preferences[4.0] = \"yes\"\n",
    "print(number_preferences)"
   ]
  },
  {
   "cell_type": "code",
   "execution_count": null,
   "id": "fe046ee6",
   "metadata": {
    "execution": {
     "iopub.execute_input": "2023-06-29T15:33:51.481782Z",
     "iopub.status.busy": "2023-06-29T15:33:51.481321Z",
     "iopub.status.idle": "2023-06-29T15:33:51.486723Z",
     "shell.execute_reply": "2023-06-29T15:33:51.485660Z"
    }
   },
   "outputs": [],
   "source": [
    "number_preferences[1.5] = \"no\"\n",
    "print(number_preferences)"
   ]
  },
  {
   "cell_type": "markdown",
   "id": "f7c428d4",
   "metadata": {
    "slideshow": {
     "slide_type": "subslide"
    }
   },
   "source": [
    "You can delete from a dictionary using the `del` keyword."
   ]
  },
  {
   "cell_type": "code",
   "execution_count": null,
   "id": "db9b069b",
   "metadata": {
    "execution": {
     "iopub.execute_input": "2023-06-29T15:33:51.491527Z",
     "iopub.status.busy": "2023-06-29T15:33:51.491171Z",
     "iopub.status.idle": "2023-06-29T15:33:51.496545Z",
     "shell.execute_reply": "2023-06-29T15:33:51.495559Z"
    }
   },
   "outputs": [],
   "source": [
    "stats = {\n",
    "    \"height\": 67,\n",
    "    \"weight\": 140,\n",
    "    \"eye color\": \"blue\",\n",
    "    \"dominant hand\": \"left\"\n",
    "}\n",
    "print(stats)\n",
    "del stats[\"weight\"]\n",
    "print(stats)"
   ]
  },
  {
   "cell_type": "markdown",
   "id": "9ea32f85",
   "metadata": {
    "slideshow": {
     "slide_type": "slide"
    }
   },
   "source": [
    "## Iterating over dictionaries\n",
    "\n",
    "You can use for loops to iterate over the keys in a dictionary"
   ]
  },
  {
   "cell_type": "code",
   "execution_count": null,
   "id": "ca141bab",
   "metadata": {
    "execution": {
     "iopub.execute_input": "2023-06-29T15:33:51.500331Z",
     "iopub.status.busy": "2023-06-29T15:33:51.500017Z",
     "iopub.status.idle": "2023-06-29T15:33:51.505131Z",
     "shell.execute_reply": "2023-06-29T15:33:51.504147Z"
    }
   },
   "outputs": [],
   "source": [
    "stats = {\n",
    "    \"height\": 67,\n",
    "    \"weight\": 140,\n",
    "    \"eye color\": \"blue\",\n",
    "    \"dominant hand\": \"left\"\n",
    "}\n",
    "for statname in stats:\n",
    "    print(f\"My {statname} is {stats[statname]}\")"
   ]
  },
  {
   "cell_type": "markdown",
   "id": "a84afaaa",
   "metadata": {
    "slideshow": {
     "slide_type": "subslide"
    }
   },
   "source": [
    "You can also iterate over key/value pairs with the `.items()` method."
   ]
  },
  {
   "cell_type": "code",
   "execution_count": null,
   "id": "43e533f0",
   "metadata": {
    "execution": {
     "iopub.execute_input": "2023-06-29T15:33:51.508555Z",
     "iopub.status.busy": "2023-06-29T15:33:51.508245Z",
     "iopub.status.idle": "2023-06-29T15:33:51.513109Z",
     "shell.execute_reply": "2023-06-29T15:33:51.512287Z"
    }
   },
   "outputs": [],
   "source": [
    "stats = {\n",
    "    \"height\": 67,\n",
    "    \"weight\": 140,\n",
    "    \"eye color\": \"blue\",\n",
    "    \"dominant hand\": \"left\"\n",
    "}\n",
    "for statname, value in stats.items():\n",
    "    print(f\"My {statname} is {value}\")"
   ]
  },
  {
   "cell_type": "markdown",
   "id": "61ba394f",
   "metadata": {
    "slideshow": {
     "slide_type": "skip"
    }
   },
   "source": [
    "## Side note: Value unpacking\n",
    "\n",
    "Initializing 2 values in a `for` loop is something we haven't seen before: \n",
    "\n",
    "`for statname, value in stats.items():` \n",
    "\n",
    "This uses something called \"value unpacking\". It's a shortcut to assign multiple values to multiple variables at once. It works with any sequence."
   ]
  },
  {
   "cell_type": "code",
   "execution_count": null,
   "id": "5f3f4586",
   "metadata": {
    "execution": {
     "iopub.execute_input": "2023-06-29T15:33:51.518162Z",
     "iopub.status.busy": "2023-06-29T15:33:51.517650Z",
     "iopub.status.idle": "2023-06-29T15:33:51.523466Z",
     "shell.execute_reply": "2023-06-29T15:33:51.522653Z"
    },
    "slideshow": {
     "slide_type": "skip"
    }
   },
   "outputs": [],
   "source": [
    "a, b = (1, 2)\n",
    "print(f\"{a=} {b=}\")"
   ]
  },
  {
   "cell_type": "code",
   "execution_count": null,
   "id": "e020b2f6",
   "metadata": {
    "execution": {
     "iopub.execute_input": "2023-06-29T15:33:51.527530Z",
     "iopub.status.busy": "2023-06-29T15:33:51.527118Z",
     "iopub.status.idle": "2023-06-29T15:33:51.531513Z",
     "shell.execute_reply": "2023-06-29T15:33:51.530843Z"
    },
    "slideshow": {
     "slide_type": "skip"
    }
   },
   "outputs": [],
   "source": [
    "names = [\"Larry\", \"Moe\", \"Curly\"]\n",
    "stooge1, stooge2, stooge3 = names\n",
    "print(f\"{stooge1=} {stooge2=} {stooge3=}\")"
   ]
  },
  {
   "cell_type": "code",
   "execution_count": null,
   "id": "e59fe61c",
   "metadata": {
    "execution": {
     "iopub.execute_input": "2023-06-29T15:33:51.534780Z",
     "iopub.status.busy": "2023-06-29T15:33:51.534458Z",
     "iopub.status.idle": "2023-06-29T15:33:51.538966Z",
     "shell.execute_reply": "2023-06-29T15:33:51.538292Z"
    },
    "slideshow": {
     "slide_type": "skip"
    }
   },
   "outputs": [],
   "source": [
    "number_words = {\n",
    "    \"one\": 1,\n",
    "    \"four\": 4,\n",
    "    \"one hundred\": 100\n",
    "}\n",
    "o, f, oh = number_words\n",
    "print(f\"{o=}, {f=}, {oh=}\")"
   ]
  },
  {
   "cell_type": "markdown",
   "id": "4d870d3a",
   "metadata": {
    "slideshow": {
     "slide_type": "skip"
    }
   },
   "source": [
    "The number of variables on the left must match the length of the sequence being unpacked."
   ]
  },
  {
   "cell_type": "code",
   "execution_count": null,
   "id": "476bb441",
   "metadata": {
    "execution": {
     "iopub.execute_input": "2023-06-29T15:33:51.542255Z",
     "iopub.status.busy": "2023-06-29T15:33:51.541986Z",
     "iopub.status.idle": "2023-06-29T15:33:51.559936Z",
     "shell.execute_reply": "2023-06-29T15:33:51.558912Z"
    },
    "slideshow": {
     "slide_type": "skip"
    },
    "tags": [
     "raises-exception"
    ]
   },
   "outputs": [],
   "source": [
    "a, b, c = (1, 2)"
   ]
  },
  {
   "cell_type": "code",
   "execution_count": null,
   "id": "c54413d7",
   "metadata": {
    "execution": {
     "iopub.execute_input": "2023-06-29T15:33:51.564704Z",
     "iopub.status.busy": "2023-06-29T15:33:51.564234Z",
     "iopub.status.idle": "2023-06-29T15:33:51.583448Z",
     "shell.execute_reply": "2023-06-29T15:33:51.582306Z"
    },
    "slideshow": {
     "slide_type": "skip"
    },
    "tags": [
     "raises-exception"
    ]
   },
   "outputs": [],
   "source": [
    "a, b = (1, 2, 3)"
   ]
  },
  {
   "cell_type": "markdown",
   "id": "dc53395a",
   "metadata": {
    "slideshow": {
     "slide_type": "subslide"
    }
   },
   "source": [
    "`.items()` produces the keys/values as 2-tuples:"
   ]
  },
  {
   "cell_type": "code",
   "execution_count": null,
   "id": "dc138160",
   "metadata": {
    "execution": {
     "iopub.execute_input": "2023-06-29T15:33:51.588043Z",
     "iopub.status.busy": "2023-06-29T15:33:51.587731Z",
     "iopub.status.idle": "2023-06-29T15:33:51.594473Z",
     "shell.execute_reply": "2023-06-29T15:33:51.593142Z"
    }
   },
   "outputs": [],
   "source": [
    "list(stats.items())"
   ]
  },
  {
   "cell_type": "markdown",
   "id": "61bd003a",
   "metadata": {},
   "source": [
    "Our `for` loop used value unpacking - each key from `.items()` is unpacked into `statname`, and each value is unpacke into `value`:"
   ]
  },
  {
   "cell_type": "code",
   "execution_count": null,
   "id": "6c7b7fdf",
   "metadata": {
    "execution": {
     "iopub.execute_input": "2023-06-29T15:33:51.607588Z",
     "iopub.status.busy": "2023-06-29T15:33:51.606212Z",
     "iopub.status.idle": "2023-06-29T15:33:51.647333Z",
     "shell.execute_reply": "2023-06-29T15:33:51.631670Z"
    }
   },
   "outputs": [],
   "source": [
    "for statname, value in stats.items():\n",
    "    print(f\"My {statname} is {value}\")"
   ]
  },
  {
   "cell_type": "markdown",
   "id": "f053cd68",
   "metadata": {},
   "source": [
    "## Exercise\n",
    "\n",
    "Write a function to keep track of personal high scores for everyone who plays a game: `record_attempt(name, new_score, scores)`, where:\n",
    "* `name` is a string\n",
    "* `new_score` is an int\n",
    "* `scores` is a dictionary mapping name->best score. The function should modify `scores` in place."
   ]
  },
  {
   "cell_type": "code",
   "execution_count": null,
   "id": "b25ae039",
   "metadata": {
    "execution": {
     "iopub.execute_input": "2023-06-29T15:33:51.744561Z",
     "iopub.status.busy": "2023-06-29T15:33:51.740970Z",
     "iopub.status.idle": "2023-06-29T15:33:51.757735Z",
     "shell.execute_reply": "2023-06-29T15:33:51.751093Z"
    }
   },
   "outputs": [],
   "source": [
    "def record_attempt(name, new_score, scores):\n",
    "    # ???\n",
    "    return"
   ]
  },
  {
   "cell_type": "code",
   "execution_count": null,
   "id": "9ec62ab3",
   "metadata": {
    "execution": {
     "iopub.execute_input": "2023-06-29T15:33:51.768110Z",
     "iopub.status.busy": "2023-06-29T15:33:51.767500Z",
     "iopub.status.idle": "2023-06-29T15:33:51.774220Z",
     "shell.execute_reply": "2023-06-29T15:33:51.772848Z"
    },
    "slideshow": {
     "slide_type": "subslide"
    }
   },
   "outputs": [],
   "source": [
    "# attempt 1\n",
    "def record_attempt(name, new_score, scores):\n",
    "    if new_score > scores[name]:\n",
    "        scores[name] = new_score"
   ]
  },
  {
   "cell_type": "code",
   "execution_count": null,
   "id": "1e5650f8",
   "metadata": {
    "execution": {
     "iopub.execute_input": "2023-06-29T15:33:51.780706Z",
     "iopub.status.busy": "2023-06-29T15:33:51.780094Z",
     "iopub.status.idle": "2023-06-29T15:33:51.818455Z",
     "shell.execute_reply": "2023-06-29T15:33:51.817429Z"
    },
    "tags": [
     "raises-exception"
    ]
   },
   "outputs": [],
   "source": [
    "scores = {}\n",
    "record_attempt(\"Batman\", 100, scores)\n",
    "print(scores)"
   ]
  },
  {
   "cell_type": "markdown",
   "id": "3cf810ee",
   "metadata": {
    "slideshow": {
     "slide_type": "subslide"
    }
   },
   "source": [
    "We can't use `[]` to check the existing score, because the name might not be in there yet."
   ]
  },
  {
   "cell_type": "code",
   "execution_count": null,
   "id": "b74fc415",
   "metadata": {
    "execution": {
     "iopub.execute_input": "2023-06-29T15:33:51.822899Z",
     "iopub.status.busy": "2023-06-29T15:33:51.822520Z",
     "iopub.status.idle": "2023-06-29T15:33:51.827672Z",
     "shell.execute_reply": "2023-06-29T15:33:51.826675Z"
    },
    "slideshow": {
     "slide_type": "subslide"
    }
   },
   "outputs": [],
   "source": [
    "# attempt 2 (correct)\n",
    "def record_attempt(name, new_score, scores):\n",
    "    if new_score > scores.get(name, 0):\n",
    "        scores[name] = new_score"
   ]
  },
  {
   "cell_type": "code",
   "execution_count": null,
   "id": "3280b0da",
   "metadata": {
    "execution": {
     "iopub.execute_input": "2023-06-29T15:33:51.832453Z",
     "iopub.status.busy": "2023-06-29T15:33:51.832085Z",
     "iopub.status.idle": "2023-06-29T15:33:51.836155Z",
     "shell.execute_reply": "2023-06-29T15:33:51.835456Z"
    }
   },
   "outputs": [],
   "source": [
    "scores = {}\n",
    "record_attempt(\"Batman\", 100, scores)\n",
    "print(scores)"
   ]
  },
  {
   "cell_type": "code",
   "execution_count": null,
   "id": "78beb8ae",
   "metadata": {
    "execution": {
     "iopub.execute_input": "2023-06-29T15:33:51.840051Z",
     "iopub.status.busy": "2023-06-29T15:33:51.839669Z",
     "iopub.status.idle": "2023-06-29T15:33:51.844926Z",
     "shell.execute_reply": "2023-06-29T15:33:51.844180Z"
    }
   },
   "outputs": [],
   "source": [
    "scores = {}\n",
    "record_attempt(\"Batman\", 100, scores)\n",
    "record_attempt(\"Superman\", 10, scores)\n",
    "record_attempt(\"Spongebob\", 50, scores)\n",
    "record_attempt(\"Spiderman\", 1, scores)\n",
    "record_attempt(\"Spiderman\", 11, scores)\n",
    "record_attempt(\"Spiderman\", 110, scores)\n",
    "print(scores)"
   ]
  },
  {
   "cell_type": "markdown",
   "id": "9d371d7c",
   "metadata": {
    "slideshow": {
     "slide_type": "subslide"
    }
   },
   "source": [
    "## Exercise\n",
    "\n",
    "Write a function that prints the person with the highest overall score: `print_winner(scores)`"
   ]
  },
  {
   "cell_type": "code",
   "execution_count": null,
   "id": "6bd7b29a",
   "metadata": {
    "execution": {
     "iopub.execute_input": "2023-06-29T15:33:51.849201Z",
     "iopub.status.busy": "2023-06-29T15:33:51.848782Z",
     "iopub.status.idle": "2023-06-29T15:33:51.853339Z",
     "shell.execute_reply": "2023-06-29T15:33:51.852598Z"
    }
   },
   "outputs": [],
   "source": [
    "# attempt 1\n",
    "def print_winner(scores):\n",
    "    best_score = 0\n",
    "    best_player = \"\"\n",
    "    for player, score in scores.items():\n",
    "        if score > best_score:\n",
    "            best_score = score\n",
    "            best_player = player\n",
    "    print(f\"Congratulations, {player}, you win with {score} points!\")"
   ]
  },
  {
   "cell_type": "code",
   "execution_count": null,
   "id": "17fecd2a",
   "metadata": {
    "execution": {
     "iopub.execute_input": "2023-06-29T15:33:51.857595Z",
     "iopub.status.busy": "2023-06-29T15:33:51.857147Z",
     "iopub.status.idle": "2023-06-29T15:33:51.863753Z",
     "shell.execute_reply": "2023-06-29T15:33:51.862812Z"
    }
   },
   "outputs": [],
   "source": [
    "scores = {}\n",
    "record_attempt(\"Batman\", 100, scores)\n",
    "record_attempt(\"Superman\", 10, scores)\n",
    "record_attempt(\"Spongebob\", 50, scores)\n",
    "record_attempt(\"Spiderman\", 1, scores)\n",
    "record_attempt(\"Spiderman\", 11, scores)\n",
    "record_attempt(\"Spiderman\", 110, scores)\n",
    "print_winner(scores)"
   ]
  },
  {
   "cell_type": "markdown",
   "id": "1e956111",
   "metadata": {
    "slideshow": {
     "slide_type": "subslide"
    }
   },
   "source": [
    "That output looks correct... but can you spot the bug?"
   ]
  },
  {
   "cell_type": "code",
   "execution_count": null,
   "id": "ce18d9ec",
   "metadata": {
    "execution": {
     "iopub.execute_input": "2023-06-29T15:33:51.868587Z",
     "iopub.status.busy": "2023-06-29T15:33:51.868203Z",
     "iopub.status.idle": "2023-06-29T15:33:51.873091Z",
     "shell.execute_reply": "2023-06-29T15:33:51.871955Z"
    }
   },
   "outputs": [],
   "source": [
    "# attempt 1\n",
    "def print_winner(scores):\n",
    "    best_score = 0\n",
    "    best_player = \"\"\n",
    "    for player, score in scores.items():\n",
    "        if score > best_score:\n",
    "            best_score = score\n",
    "            best_player = player\n",
    "    print(f\"Congratulations, {player}, you win with {score} points!\")"
   ]
  },
  {
   "cell_type": "code",
   "execution_count": null,
   "id": "526e7e17",
   "metadata": {
    "execution": {
     "iopub.execute_input": "2023-06-29T15:33:51.877696Z",
     "iopub.status.busy": "2023-06-29T15:33:51.877302Z",
     "iopub.status.idle": "2023-06-29T15:33:51.883483Z",
     "shell.execute_reply": "2023-06-29T15:33:51.882537Z"
    },
    "slideshow": {
     "slide_type": "fragment"
    }
   },
   "outputs": [],
   "source": [
    "scores = {}\n",
    "record_attempt(\"Batman\", 150, scores)\n",
    "record_attempt(\"Superman\", 10, scores)\n",
    "record_attempt(\"Spongebob\", 50, scores)\n",
    "record_attempt(\"Spiderman\", 1, scores)\n",
    "record_attempt(\"Spiderman\", 11, scores)\n",
    "record_attempt(\"Spiderman\", 110, scores)\n",
    "print_winner(scores)"
   ]
  },
  {
   "cell_type": "markdown",
   "id": "ae847962",
   "metadata": {},
   "source": [
    "This is a common type of error - make sure you test your code with a variety of inputs!"
   ]
  },
  {
   "cell_type": "code",
   "execution_count": null,
   "id": "c3676c09",
   "metadata": {
    "execution": {
     "iopub.execute_input": "2023-06-29T15:33:51.888005Z",
     "iopub.status.busy": "2023-06-29T15:33:51.887616Z",
     "iopub.status.idle": "2023-06-29T15:33:51.892897Z",
     "shell.execute_reply": "2023-06-29T15:33:51.891912Z"
    },
    "slideshow": {
     "slide_type": "subslide"
    }
   },
   "outputs": [],
   "source": [
    "# attempt 2 (correct)\n",
    "def print_winner(scores):\n",
    "    best_score = 0\n",
    "    best_player = \"\"\n",
    "    for player, score in scores.items():\n",
    "        if score > best_score:\n",
    "            best_score = score\n",
    "            best_player = player\n",
    "    print(f\"Congratulations, {best_player}, you win with {best_score} points!\")"
   ]
  },
  {
   "cell_type": "code",
   "execution_count": null,
   "id": "81f99fca",
   "metadata": {
    "execution": {
     "iopub.execute_input": "2023-06-29T15:33:51.896314Z",
     "iopub.status.busy": "2023-06-29T15:33:51.896024Z",
     "iopub.status.idle": "2023-06-29T15:33:51.903347Z",
     "shell.execute_reply": "2023-06-29T15:33:51.901728Z"
    },
    "slideshow": {
     "slide_type": "fragment"
    }
   },
   "outputs": [],
   "source": [
    "scores = {}\n",
    "record_attempt(\"Batman\", 150, scores)\n",
    "record_attempt(\"Superman\", 10, scores)\n",
    "record_attempt(\"Spongebob\", 50, scores)\n",
    "record_attempt(\"Spiderman\", 1, scores)\n",
    "record_attempt(\"Spiderman\", 11, scores)\n",
    "record_attempt(\"Spiderman\", 110, scores)\n",
    "print_winner(scores)"
   ]
  },
  {
   "cell_type": "markdown",
   "id": "249bfeb7",
   "metadata": {
    "slideshow": {
     "slide_type": "subslide"
    }
   },
   "source": [
    "## Exercise\n",
    "\n",
    "Write a function that takes a string, and returns a dictionary representing the unique words in the string, and the number of times each word occurred."
   ]
  },
  {
   "cell_type": "code",
   "execution_count": null,
   "id": "757ecb85",
   "metadata": {
    "execution": {
     "iopub.execute_input": "2023-06-29T15:33:51.907796Z",
     "iopub.status.busy": "2023-06-29T15:33:51.907444Z",
     "iopub.status.idle": "2023-06-29T15:33:51.911316Z",
     "shell.execute_reply": "2023-06-29T15:33:51.910600Z"
    },
    "slideshow": {
     "slide_type": "subslide"
    }
   },
   "outputs": [],
   "source": [
    "def count_words(word_string):\n",
    "    # ???\n",
    "    return {}"
   ]
  },
  {
   "cell_type": "code",
   "execution_count": null,
   "id": "495abde5",
   "metadata": {
    "execution": {
     "iopub.execute_input": "2023-06-29T15:33:51.914986Z",
     "iopub.status.busy": "2023-06-29T15:33:51.914673Z",
     "iopub.status.idle": "2023-06-29T15:33:51.918364Z",
     "shell.execute_reply": "2023-06-29T15:33:51.917710Z"
    },
    "slideshow": {
     "slide_type": "subslide"
    }
   },
   "outputs": [],
   "source": [
    "# attempt 1\n",
    "def count_words(word_string):\n",
    "    words = word_string.split()\n",
    "    counts = {}\n",
    "    for word in words:\n",
    "        counts[word] = counts[word] + 1\n",
    "    return counts"
   ]
  },
  {
   "cell_type": "code",
   "execution_count": null,
   "id": "dca8dd3b",
   "metadata": {
    "execution": {
     "iopub.execute_input": "2023-06-29T15:33:51.922143Z",
     "iopub.status.busy": "2023-06-29T15:33:51.921568Z",
     "iopub.status.idle": "2023-06-29T15:33:51.947166Z",
     "shell.execute_reply": "2023-06-29T15:33:51.946185Z"
    },
    "tags": [
     "raises-exception"
    ]
   },
   "outputs": [],
   "source": [
    "count_words(\"It was the best of times it was the worst of times it was the age of wisdom it was the age of foolishness\")"
   ]
  },
  {
   "cell_type": "markdown",
   "id": "85172442",
   "metadata": {
    "slideshow": {
     "slide_type": "subslide"
    }
   },
   "source": [
    "We need to handle the initial condition, where the word hasn't been found yet."
   ]
  },
  {
   "cell_type": "code",
   "execution_count": null,
   "id": "1f41ae33",
   "metadata": {
    "execution": {
     "iopub.execute_input": "2023-06-29T15:33:51.951041Z",
     "iopub.status.busy": "2023-06-29T15:33:51.950739Z",
     "iopub.status.idle": "2023-06-29T15:33:51.955837Z",
     "shell.execute_reply": "2023-06-29T15:33:51.954548Z"
    },
    "slideshow": {
     "slide_type": "-"
    }
   },
   "outputs": [],
   "source": [
    "# attempt 2\n",
    "def count_words(word_string):\n",
    "    words = word_string.split()\n",
    "    counts = {}\n",
    "    for word in words:\n",
    "        if word not in counts:\n",
    "            counts[word] = 1\n",
    "        else:\n",
    "            counts[word] = counts[word] + 1\n",
    "    return counts"
   ]
  },
  {
   "cell_type": "code",
   "execution_count": null,
   "id": "80f13cee",
   "metadata": {
    "execution": {
     "iopub.execute_input": "2023-06-29T15:33:51.959224Z",
     "iopub.status.busy": "2023-06-29T15:33:51.958920Z",
     "iopub.status.idle": "2023-06-29T15:33:51.964597Z",
     "shell.execute_reply": "2023-06-29T15:33:51.963637Z"
    },
    "tags": [
     "raises-exception"
    ]
   },
   "outputs": [],
   "source": [
    "count_words(\"It was the best of times it was the worst of times it was the age of wisdom it was the age of foolishness\")"
   ]
  },
  {
   "cell_type": "markdown",
   "id": "d4685ea7",
   "metadata": {
    "slideshow": {
     "slide_type": "subslide"
    }
   },
   "source": [
    "Whoops, looks like we have to deal with upper vs. lower case."
   ]
  },
  {
   "cell_type": "code",
   "execution_count": null,
   "id": "29d0c676",
   "metadata": {
    "execution": {
     "iopub.execute_input": "2023-06-29T15:33:51.969780Z",
     "iopub.status.busy": "2023-06-29T15:33:51.968804Z",
     "iopub.status.idle": "2023-06-29T15:33:51.974133Z",
     "shell.execute_reply": "2023-06-29T15:33:51.973350Z"
    },
    "slideshow": {
     "slide_type": "-"
    }
   },
   "outputs": [],
   "source": [
    "# attempt 3\n",
    "def count_words(word_string):\n",
    "    words = word_string.lower().split()\n",
    "    counts = {}\n",
    "    for word in words:\n",
    "        if word not in counts:\n",
    "            counts[word] = 1\n",
    "        else:\n",
    "            counts[word] = counts[word] + 1\n",
    "    return counts"
   ]
  },
  {
   "cell_type": "code",
   "execution_count": null,
   "id": "9d416a45",
   "metadata": {
    "execution": {
     "iopub.execute_input": "2023-06-29T15:33:51.978770Z",
     "iopub.status.busy": "2023-06-29T15:33:51.978298Z",
     "iopub.status.idle": "2023-06-29T15:33:51.985859Z",
     "shell.execute_reply": "2023-06-29T15:33:51.984635Z"
    },
    "tags": [
     "raises-exception"
    ]
   },
   "outputs": [],
   "source": [
    "count_words(\"It was the best of times it was the worst of times it was the age of wisdom it was the age of foolishness\")"
   ]
  },
  {
   "cell_type": "markdown",
   "id": "f6478b85",
   "metadata": {},
   "source": [
    "That was perfectly good code! But we can make it a little cleaner using `get()`:"
   ]
  },
  {
   "cell_type": "code",
   "execution_count": null,
   "id": "cf794570",
   "metadata": {
    "execution": {
     "iopub.execute_input": "2023-06-29T15:33:51.990016Z",
     "iopub.status.busy": "2023-06-29T15:33:51.989410Z",
     "iopub.status.idle": "2023-06-29T15:33:51.994431Z",
     "shell.execute_reply": "2023-06-29T15:33:51.993304Z"
    }
   },
   "outputs": [],
   "source": [
    "# an alternative, using get()\n",
    "def count_words(word_string):\n",
    "    words = word_string.lower().split()\n",
    "    counts = {}\n",
    "    for word in words:\n",
    "        counts[word] = counts.get(word, 0) + 1\n",
    "    return counts"
   ]
  },
  {
   "cell_type": "code",
   "execution_count": null,
   "id": "96f44ddd",
   "metadata": {
    "execution": {
     "iopub.execute_input": "2023-06-29T15:33:51.999100Z",
     "iopub.status.busy": "2023-06-29T15:33:51.998457Z",
     "iopub.status.idle": "2023-06-29T15:33:52.005524Z",
     "shell.execute_reply": "2023-06-29T15:33:52.004722Z"
    },
    "tags": [
     "raises-exception"
    ]
   },
   "outputs": [],
   "source": [
    "count_words(\"It was the best of times it was the worst of times it was the age of wisdom it was the age of foolishness\")"
   ]
  },
  {
   "cell_type": "markdown",
   "id": "add953fb",
   "metadata": {
    "slideshow": {
     "slide_type": "slide"
    }
   },
   "source": [
    "# Sets\n",
    "\n",
    "Sets are unordered lists of unique values. "
   ]
  },
  {
   "cell_type": "markdown",
   "id": "823df567",
   "metadata": {
    "slideshow": {
     "slide_type": "subslide"
    }
   },
   "source": [
    "## Creating sets \n",
    "\n",
    "Sets can be created from any iterable."
   ]
  },
  {
   "cell_type": "code",
   "execution_count": null,
   "id": "54986c12",
   "metadata": {
    "execution": {
     "iopub.execute_input": "2023-06-29T15:33:52.011497Z",
     "iopub.status.busy": "2023-06-29T15:33:52.010851Z",
     "iopub.status.idle": "2023-06-29T15:33:52.021693Z",
     "shell.execute_reply": "2023-06-29T15:33:52.018956Z"
    }
   },
   "outputs": [],
   "source": [
    "names = set([\"Batman\", \"Spiderman\", \"Batman\", \"Spongebob\"])\n",
    "print(names)"
   ]
  },
  {
   "cell_type": "markdown",
   "id": "e51b981d",
   "metadata": {
    "slideshow": {
     "slide_type": "subslide"
    }
   },
   "source": [
    "## Accessing set members\n",
    "\n",
    "Because sets are unordered, there are no index-based accessors. You can use `in` to check for membership."
   ]
  },
  {
   "cell_type": "code",
   "execution_count": null,
   "id": "313bed9b",
   "metadata": {
    "execution": {
     "iopub.execute_input": "2023-06-29T15:33:52.028341Z",
     "iopub.status.busy": "2023-06-29T15:33:52.027707Z",
     "iopub.status.idle": "2023-06-29T15:33:52.035187Z",
     "shell.execute_reply": "2023-06-29T15:33:52.033272Z"
    }
   },
   "outputs": [],
   "source": [
    "names = set([\"Batman\", \"Spiderman\", \"Batman\", \"Spongebob\"])"
   ]
  },
  {
   "cell_type": "code",
   "execution_count": null,
   "id": "abeb0fc4",
   "metadata": {
    "execution": {
     "iopub.execute_input": "2023-06-29T15:33:52.039989Z",
     "iopub.status.busy": "2023-06-29T15:33:52.039380Z",
     "iopub.status.idle": "2023-06-29T15:33:52.047936Z",
     "shell.execute_reply": "2023-06-29T15:33:52.045953Z"
    }
   },
   "outputs": [],
   "source": [
    "\"Batman\" in names"
   ]
  },
  {
   "cell_type": "code",
   "execution_count": null,
   "id": "73d210fb",
   "metadata": {
    "execution": {
     "iopub.execute_input": "2023-06-29T15:33:52.054372Z",
     "iopub.status.busy": "2023-06-29T15:33:52.053940Z",
     "iopub.status.idle": "2023-06-29T15:33:52.063257Z",
     "shell.execute_reply": "2023-06-29T15:33:52.061432Z"
    }
   },
   "outputs": [],
   "source": [
    "\"Peppa\" in names"
   ]
  },
  {
   "cell_type": "markdown",
   "id": "aad239e3",
   "metadata": {
    "slideshow": {
     "slide_type": "subslide"
    }
   },
   "source": [
    "## Modifying sets\n",
    "\n",
    "`add()`, `remove()`, `clear()`"
   ]
  },
  {
   "cell_type": "code",
   "execution_count": null,
   "id": "da7bfa62",
   "metadata": {
    "execution": {
     "iopub.execute_input": "2023-06-29T15:33:52.072092Z",
     "iopub.status.busy": "2023-06-29T15:33:52.071446Z",
     "iopub.status.idle": "2023-06-29T15:33:52.080259Z",
     "shell.execute_reply": "2023-06-29T15:33:52.078431Z"
    }
   },
   "outputs": [],
   "source": [
    "names = set([\"Batman\", \"Spiderman\", \"Batman\", \"Spongebob\"])\n",
    "names.add(\"Peppa\")\n",
    "print(names)"
   ]
  },
  {
   "cell_type": "code",
   "execution_count": null,
   "id": "8f0cb2a7",
   "metadata": {
    "execution": {
     "iopub.execute_input": "2023-06-29T15:33:52.086664Z",
     "iopub.status.busy": "2023-06-29T15:33:52.086265Z",
     "iopub.status.idle": "2023-06-29T15:33:52.092315Z",
     "shell.execute_reply": "2023-06-29T15:33:52.091285Z"
    }
   },
   "outputs": [],
   "source": [
    "names = set([\"Batman\", \"Spiderman\", \"Batman\", \"Spongebob\"])\n",
    "names.remove(\"Batman\")\n",
    "print(names)"
   ]
  },
  {
   "cell_type": "code",
   "execution_count": null,
   "id": "d807b3bf",
   "metadata": {
    "execution": {
     "iopub.execute_input": "2023-06-29T15:33:52.102399Z",
     "iopub.status.busy": "2023-06-29T15:33:52.100005Z",
     "iopub.status.idle": "2023-06-29T15:33:52.108938Z",
     "shell.execute_reply": "2023-06-29T15:33:52.107120Z"
    }
   },
   "outputs": [],
   "source": [
    "names = set([\"Batman\", \"Spiderman\", \"Batman\", \"Spongebob\"])\n",
    "names.clear()\n",
    "print(names)"
   ]
  },
  {
   "cell_type": "markdown",
   "id": "58f4e563",
   "metadata": {},
   "source": [
    "## Modifying sets\n",
    "\n",
    "`update()` will add multiple items at once."
   ]
  },
  {
   "cell_type": "code",
   "execution_count": null,
   "id": "be5e930e",
   "metadata": {
    "execution": {
     "iopub.execute_input": "2023-06-29T15:33:52.118903Z",
     "iopub.status.busy": "2023-06-29T15:33:52.118148Z",
     "iopub.status.idle": "2023-06-29T15:33:52.126948Z",
     "shell.execute_reply": "2023-06-29T15:33:52.124287Z"
    }
   },
   "outputs": [],
   "source": [
    "names = set([\"Batman\", \"Spiderman\", \"Batman\", \"Spongebob\"])\n",
    "names.update([\"Wolverine\", \"Batman\", \"Wolverine\", \"Magneto\"])\n",
    "print(names)"
   ]
  },
  {
   "cell_type": "markdown",
   "id": "5e54dda1",
   "metadata": {
    "slideshow": {
     "slide_type": "subslide"
    }
   },
   "source": [
    "## Set operations\n",
    "\n",
    "Sets provide equality, intersection, union, and difference operators."
   ]
  },
  {
   "cell_type": "markdown",
   "id": "0f16dfec",
   "metadata": {
    "slideshow": {
     "slide_type": "subslide"
    }
   },
   "source": [
    "## Equality\n",
    "\n",
    "Sets can be compared with `==`"
   ]
  },
  {
   "cell_type": "code",
   "execution_count": null,
   "id": "0da2c191",
   "metadata": {
    "execution": {
     "iopub.execute_input": "2023-06-29T15:33:52.137035Z",
     "iopub.status.busy": "2023-06-29T15:33:52.135302Z",
     "iopub.status.idle": "2023-06-29T15:33:52.146759Z",
     "shell.execute_reply": "2023-06-29T15:33:52.144752Z"
    }
   },
   "outputs": [],
   "source": [
    "fluffy = set([\"cat\", \"dog\", \"dandelion\", \"pillow\"])\n",
    "loud = set([\"dog\", \"cat\", \"baby\", \"horn\", \"alarm\"])\n",
    "fluffy == loud"
   ]
  },
  {
   "cell_type": "markdown",
   "id": "7c02d975",
   "metadata": {
    "slideshow": {
     "slide_type": "subslide"
    }
   },
   "source": [
    "## Intersection \n",
    "\n",
    "The \"intersection\" of 2 (or more) sets is the set of elements that appear in all sets. The `&` operator performs an intersection on 2 sets."
   ]
  },
  {
   "cell_type": "code",
   "execution_count": null,
   "id": "d489db25",
   "metadata": {
    "execution": {
     "iopub.execute_input": "2023-06-29T15:33:52.153096Z",
     "iopub.status.busy": "2023-06-29T15:33:52.152692Z",
     "iopub.status.idle": "2023-06-29T15:33:52.161506Z",
     "shell.execute_reply": "2023-06-29T15:33:52.159670Z"
    },
    "slideshow": {
     "slide_type": "-"
    }
   },
   "outputs": [],
   "source": [
    "fluffy = set([\"cat\", \"dog\", \"dandelion\", \"pillow\"])\n",
    "loud = set([\"dog\", \"cat\", \"baby\", \"horn\", \"alarm\"])\n",
    "fluffy & loud"
   ]
  },
  {
   "cell_type": "markdown",
   "id": "8e00199b",
   "metadata": {
    "slideshow": {
     "slide_type": "subslide"
    }
   },
   "source": [
    "## Union\n",
    "\n",
    "The \"union\" of 2 (or more) sets is the set of elements that appear in any of the sets. The `|` operator performs a union on 2 sets."
   ]
  },
  {
   "cell_type": "code",
   "execution_count": null,
   "id": "cdaf5fc2",
   "metadata": {
    "execution": {
     "iopub.execute_input": "2023-06-29T15:33:52.167683Z",
     "iopub.status.busy": "2023-06-29T15:33:52.167047Z",
     "iopub.status.idle": "2023-06-29T15:33:52.174847Z",
     "shell.execute_reply": "2023-06-29T15:33:52.173231Z"
    }
   },
   "outputs": [],
   "source": [
    "fluffy = set([\"cat\", \"dog\", \"dandelion\", \"pillow\"])\n",
    "loud = set([\"dog\", \"cat\", \"baby\", \"horn\", \"alarm\"])\n",
    "fluffy | loud"
   ]
  },
  {
   "cell_type": "markdown",
   "id": "0f397b58",
   "metadata": {
    "slideshow": {
     "slide_type": "subslide"
    }
   },
   "source": [
    "## Subtraction / difference\n",
    "\n",
    "The \"difference\" of 2 sets is the set of elements that appears in set A, but not in set B. The `-` operator performs a difference on 2 sets."
   ]
  },
  {
   "cell_type": "code",
   "execution_count": null,
   "id": "fa27ec38",
   "metadata": {
    "execution": {
     "iopub.execute_input": "2023-06-29T15:33:52.180911Z",
     "iopub.status.busy": "2023-06-29T15:33:52.180462Z",
     "iopub.status.idle": "2023-06-29T15:33:52.188333Z",
     "shell.execute_reply": "2023-06-29T15:33:52.187303Z"
    },
    "slideshow": {
     "slide_type": "-"
    }
   },
   "outputs": [],
   "source": [
    "fluffy = set([\"cat\", \"dog\", \"dandelion\", \"pillow\"])\n",
    "loud = set([\"dog\", \"cat\", \"baby\", \"horn\", \"alarm\"])\n",
    "fluffy - loud"
   ]
  },
  {
   "cell_type": "markdown",
   "id": "7710f7b9",
   "metadata": {},
   "source": [
    "Order matters for subtraction."
   ]
  },
  {
   "cell_type": "code",
   "execution_count": null,
   "id": "3e04f91f",
   "metadata": {
    "execution": {
     "iopub.execute_input": "2023-06-29T15:33:52.194531Z",
     "iopub.status.busy": "2023-06-29T15:33:52.193869Z",
     "iopub.status.idle": "2023-06-29T15:33:52.200091Z",
     "shell.execute_reply": "2023-06-29T15:33:52.199222Z"
    }
   },
   "outputs": [],
   "source": [
    "loud - fluffy"
   ]
  },
  {
   "cell_type": "markdown",
   "id": "5b7dc6d3",
   "metadata": {
    "slideshow": {
     "slide_type": "subslide"
    }
   },
   "source": [
    "## Symmetric difference (\"xor\")\n",
    "\n",
    "The \"symmetric difference\" of 2 sets is the set of items that appear in one set, but not the other. \n",
    "\n",
    "This is also sometimes referred to as `xor` (\"exclusive or\"), from boolean/digital logic. \n",
    "\n",
    "The `^` operator performs a symmetric difference."
   ]
  },
  {
   "cell_type": "code",
   "execution_count": null,
   "id": "e812620d",
   "metadata": {
    "execution": {
     "iopub.execute_input": "2023-06-29T15:33:52.204745Z",
     "iopub.status.busy": "2023-06-29T15:33:52.204297Z",
     "iopub.status.idle": "2023-06-29T15:33:52.211173Z",
     "shell.execute_reply": "2023-06-29T15:33:52.209633Z"
    }
   },
   "outputs": [],
   "source": [
    "fluffy = set([\"cat\", \"dog\", \"dandelion\", \"pillow\"])\n",
    "loud = set([\"dog\", \"cat\", \"baby\", \"horn\", \"alarm\"])\n",
    "fluffy ^ loud"
   ]
  },
  {
   "cell_type": "markdown",
   "id": "40187608",
   "metadata": {
    "slideshow": {
     "slide_type": "subslide"
    }
   },
   "source": [
    "## Superset / subset\n",
    "\n",
    "Superset: a set contains all elements of another set  \n",
    "Subset: a set is made up only of elements from another set"
   ]
  },
  {
   "cell_type": "code",
   "execution_count": null,
   "id": "a2e376ab",
   "metadata": {
    "execution": {
     "iopub.execute_input": "2023-06-29T15:33:52.215425Z",
     "iopub.status.busy": "2023-06-29T15:33:52.215064Z",
     "iopub.status.idle": "2023-06-29T15:33:52.220952Z",
     "shell.execute_reply": "2023-06-29T15:33:52.220055Z"
    }
   },
   "outputs": [],
   "source": [
    "letters = set(\"abcdefghijklmnopqrstuvwxyz\")\n",
    "vowels = set(\"aeiou\")\n",
    "letters.issuperset(vowels)"
   ]
  },
  {
   "cell_type": "code",
   "execution_count": null,
   "id": "3c4c3a75",
   "metadata": {
    "execution": {
     "iopub.execute_input": "2023-06-29T15:33:52.224547Z",
     "iopub.status.busy": "2023-06-29T15:33:52.224245Z",
     "iopub.status.idle": "2023-06-29T15:33:52.229755Z",
     "shell.execute_reply": "2023-06-29T15:33:52.228743Z"
    }
   },
   "outputs": [],
   "source": [
    "vowels.issuperset(letters)"
   ]
  },
  {
   "cell_type": "code",
   "execution_count": null,
   "id": "168f2584",
   "metadata": {
    "execution": {
     "iopub.execute_input": "2023-06-29T15:33:52.233156Z",
     "iopub.status.busy": "2023-06-29T15:33:52.232868Z",
     "iopub.status.idle": "2023-06-29T15:33:52.238102Z",
     "shell.execute_reply": "2023-06-29T15:33:52.237343Z"
    }
   },
   "outputs": [],
   "source": [
    "vowels.issubset(letters)"
   ]
  },
  {
   "cell_type": "code",
   "execution_count": null,
   "id": "6458b474",
   "metadata": {
    "execution": {
     "iopub.execute_input": "2023-06-29T15:33:52.241365Z",
     "iopub.status.busy": "2023-06-29T15:33:52.241085Z",
     "iopub.status.idle": "2023-06-29T15:33:52.246654Z",
     "shell.execute_reply": "2023-06-29T15:33:52.245880Z"
    }
   },
   "outputs": [],
   "source": [
    "letters.issubset(vowels)"
   ]
  },
  {
   "cell_type": "markdown",
   "id": "e1b338c7",
   "metadata": {
    "slideshow": {
     "slide_type": "subslide"
    }
   },
   "source": [
    "## Example\n",
    "\n",
    "Write a program that prompts the user to enter the postal abbreviations for all 50 U.S. states. The player loses if they repeat a guess, or guesses something that isn't valid."
   ]
  },
  {
   "cell_type": "code",
   "execution_count": null,
   "id": "8e5e3add",
   "metadata": {
    "execution": {
     "iopub.execute_input": "2023-06-29T15:33:52.249870Z",
     "iopub.status.busy": "2023-06-29T15:33:52.249593Z",
     "iopub.status.idle": "2023-06-29T15:33:52.350671Z",
     "shell.execute_reply": "2023-06-29T15:33:52.349983Z"
    },
    "slideshow": {
     "slide_type": "subslide"
    },
    "tags": [
     "remove-output"
    ]
   },
   "outputs": [],
   "source": [
    "states = set([ 'AK', 'AL', 'AR', 'AZ', 'CA', 'CO', 'CT', 'DE', 'FL', 'GA',\n",
    "           'HI', 'IA', 'ID', 'IL', 'IN', 'KS', 'KY', 'LA', 'MA', 'MD', 'ME',\n",
    "           'MI', 'MN', 'MO', 'MS', 'MT', 'NC', 'ND', 'NE', 'NH', 'NJ', 'NM',\n",
    "           'NV', 'NY', 'OH', 'OK', 'OR', 'PA', 'RI', 'SC', 'SD', 'TN', 'TX',\n",
    "           'UT', 'VA', 'VT', 'WA', 'WI', 'WV', 'WY'])\n",
    "guesses = set()\n",
    "\n",
    "print(\"Guess all 50 US state postal abbreviations, without repeating.\")\n",
    "while True:\n",
    "    print(\"Guess? \")\n",
    "    answer = input()\n",
    "    if answer in guesses:\n",
    "        print(f\"You already guessed {answer}!\")\n",
    "        break\n",
    "    if answer not in states:\n",
    "        print(f\"{answer} is not a valid postal code!\")\n",
    "        break\n",
    "    guesses.add(answer)\n",
    "    if guesses == states:\n",
    "        print(\"You win!\")\n",
    "        break\n",
    "    print(f\"You've guessed {len(guesses)}/{len(states)} so far.\")"
   ]
  }
 ],
 "metadata": {
  "celltoolbar": "Slideshow",
  "kernelspec": {
   "display_name": "Python 3 (ipykernel)",
   "language": "python",
   "name": "python3"
  },
  "language_info": {
   "codemirror_mode": {
    "name": "ipython",
    "version": 3
   },
   "file_extension": ".py",
   "mimetype": "text/x-python",
   "name": "python",
   "nbconvert_exporter": "python",
   "pygments_lexer": "ipython3",
   "version": "3.10.9"
  }
 },
 "nbformat": 4,
 "nbformat_minor": 5
}
