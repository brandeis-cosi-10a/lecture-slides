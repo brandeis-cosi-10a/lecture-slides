{
 "cells": [
  {
   "cell_type": "markdown",
   "id": "1ee8a1d2",
   "metadata": {
    "slideshow": {
     "slide_type": "slide"
    }
   },
   "source": [
    "# Dictionaries and Sets\n",
    "\n",
    "<style>\n",
    "section.present > section.present { \n",
    "    max-height: 90%; \n",
    "    overflow-y: scroll;\n",
    "}\n",
    "</style>\n",
    "\n",
    "<small><a href=\"https://colab.research.google.com/github/brandeis-jdelfino/cosi-10a/blob/main/lectures/notebooks/10_dictionaries_sets.ipynb\">Link to interactive slides on Google Colab</a></small>"
   ]
  },
  {
   "cell_type": "markdown",
   "id": "84bdae82",
   "metadata": {
    "slideshow": {
     "slide_type": "slide"
    }
   },
   "source": [
    "## Announcements\n",
    "\n",
    "* PS2 grades are in LATTE, reach out to me with questions\n",
    "* PS3 due Sunday 11:59pm; don't count on availability of help over the weekend\n",
    "* PS3 guidance: Read the instructions carefully! In some problems, **especially Pig Latin**, the provided test cases don't cover every possible situation. \n",
    "   * You are required to add unit tests for Vowel Filter, but you are free to add them to other problems if it is helpful."
   ]
  },
  {
   "cell_type": "markdown",
   "id": "ecf7cb81",
   "metadata": {
    "slideshow": {
     "slide_type": "slide"
    }
   },
   "source": [
    "In the next 2 lectures, we'll cover the last 2 widely used data types in Python:\n",
    "* Dictionaries: mappings from keys to values\n",
    "* Sets: Unordered lists of unique values"
   ]
  },
  {
   "cell_type": "markdown",
   "id": "cf21df57",
   "metadata": {
    "slideshow": {
     "slide_type": "slide"
    }
   },
   "source": [
    "## The exercise Exercise, revisited\n",
    "\n",
    "We had 2 \"parallel lists\": names, and lists of which days those characters exercised. We used `zip` to iterate over them together."
   ]
  },
  {
   "cell_type": "code",
   "execution_count": null,
   "id": "61e4ff79",
   "metadata": {
    "execution": {
     "iopub.execute_input": "2023-10-23T01:58:07.918878Z",
     "iopub.status.busy": "2023-10-23T01:58:07.918249Z",
     "iopub.status.idle": "2023-10-23T01:58:07.935098Z",
     "shell.execute_reply": "2023-10-23T01:58:07.934313Z"
    }
   },
   "outputs": [],
   "source": [
    "names = [\"Spongebob\", \"Batman\", \"Dora\", \"Peppa\", \"Bill Murray\"]\n",
    "data = [\n",
    "    [1, 7, 15, 31],\n",
    "    [2, 21],\n",
    "    [5],\n",
    "    [1, 3, 5, 7, 9, 11, 13, 15, 17, 19, 21, 23, 25, 27, 29],\n",
    "    [1, 2, 3, 4, 5, 6]\n",
    "]\n",
    "\n",
    "most = 0\n",
    "most_name = \"\"\n",
    "for (name, dates) in zip(names, data):\n",
    "    if len(dates) > most:\n",
    "        most = len(dates)\n",
    "        most_name = name\n",
    "print(f\"{most_name} exercised the most, with {most} days of exercise!\")"
   ]
  },
  {
   "cell_type": "markdown",
   "id": "b1a36898",
   "metadata": {
    "slideshow": {
     "slide_type": "subslide"
    }
   },
   "source": [
    "**Dictionaries** are a better data structure for this type of data. They map **keys** (names) to **values** (list of exercise dates).\n",
    "\n",
    "Here's how that example would look with a dictionary."
   ]
  },
  {
   "cell_type": "code",
   "execution_count": null,
   "id": "182868ec",
   "metadata": {
    "execution": {
     "iopub.execute_input": "2023-10-23T01:58:07.939238Z",
     "iopub.status.busy": "2023-10-23T01:58:07.938902Z",
     "iopub.status.idle": "2023-10-23T01:58:07.944573Z",
     "shell.execute_reply": "2023-10-23T01:58:07.943927Z"
    }
   },
   "outputs": [],
   "source": [
    "data = {\n",
    "    \"Spongebob\": [1, 7, 15, 31],\n",
    "    \"Batman\": [2, 21],\n",
    "    \"Dora\": [5],\n",
    "    \"Peppa\": [1, 3, 5, 7, 9, 11, 13, 15, 17, 19, 21, 23, 25, 27, 29],\n",
    "    \"Bill Murray\": [1, 2, 3, 4, 5, 6]\n",
    "}\n",
    "\n",
    "most = 0\n",
    "most_name = \"\"\n",
    "for name in data:\n",
    "    if len(data[name]) > most:\n",
    "        most = len(data[name])\n",
    "        most_name = name\n",
    "print(f\"{most_name} exercised the most, with {most} days of exercise!\")"
   ]
  },
  {
   "cell_type": "markdown",
   "id": "e5a1eba7",
   "metadata": {
    "slideshow": {
     "slide_type": "slide"
    }
   },
   "source": [
    "# Creating dictionaries\n",
    "\n",
    "Dictionaries are created and represented with curly brackets: `{` and `}`."
   ]
  },
  {
   "cell_type": "code",
   "execution_count": null,
   "id": "3854a0d5",
   "metadata": {
    "execution": {
     "iopub.execute_input": "2023-10-23T01:58:07.948017Z",
     "iopub.status.busy": "2023-10-23T01:58:07.947624Z",
     "iopub.status.idle": "2023-10-23T01:58:07.952004Z",
     "shell.execute_reply": "2023-10-23T01:58:07.951298Z"
    }
   },
   "outputs": [],
   "source": [
    "distances_from_boston = {\n",
    "    \"NY, NY\": 216,\n",
    "    \"Portland, ME\": 110,\n",
    "    \"San Francisco, CA\": 2692,\n",
    "    \"Auckland, NZ\": 9002\n",
    "}\n",
    "print(distances_from_boston)"
   ]
  },
  {
   "cell_type": "markdown",
   "id": "8fc12d73",
   "metadata": {},
   "source": [
    "`distances_from_boston` holds 4 key/value pairs. All the keys are strings, all the values are integers. Keys can be any **immutable** type and values can be any type."
   ]
  },
  {
   "cell_type": "code",
   "execution_count": null,
   "id": "c39b73a4",
   "metadata": {
    "execution": {
     "iopub.execute_input": "2023-10-23T01:58:07.955295Z",
     "iopub.status.busy": "2023-10-23T01:58:07.954892Z",
     "iopub.status.idle": "2023-10-23T01:58:07.958905Z",
     "shell.execute_reply": "2023-10-23T01:58:07.958235Z"
    },
    "slideshow": {
     "slide_type": "subslide"
    }
   },
   "outputs": [],
   "source": [
    "x = {}\n",
    "print(x)"
   ]
  },
  {
   "cell_type": "markdown",
   "id": "2fab010b",
   "metadata": {},
   "source": [
    "`x` is an empty dictionary."
   ]
  },
  {
   "cell_type": "markdown",
   "id": "77391a05",
   "metadata": {
    "slideshow": {
     "slide_type": "subslide"
    }
   },
   "source": [
    "Dictionary keys are unique. The same key can't appear more than once in a dictionary."
   ]
  },
  {
   "cell_type": "code",
   "execution_count": null,
   "id": "f2aea045",
   "metadata": {
    "execution": {
     "iopub.execute_input": "2023-10-23T01:58:07.962162Z",
     "iopub.status.busy": "2023-10-23T01:58:07.961896Z",
     "iopub.status.idle": "2023-10-23T01:58:07.966111Z",
     "shell.execute_reply": "2023-10-23T01:58:07.965259Z"
    }
   },
   "outputs": [],
   "source": [
    "distances_from_boston = {\n",
    "    \"NY, NY\": 216,\n",
    "    \"NY, NY\": 110,\n",
    "    \"San Francisco, CA\": 2692,\n",
    "    \"Auckland, NZ\": 9002\n",
    "}\n",
    "print(distances_from_boston)"
   ]
  },
  {
   "cell_type": "markdown",
   "id": "a147ad39",
   "metadata": {},
   "source": [
    "The first `NY, NY` value (`216`) was overwritten by the second (`110`) "
   ]
  },
  {
   "cell_type": "markdown",
   "id": "ab100c46",
   "metadata": {
    "slideshow": {
     "slide_type": "slide"
    }
   },
   "source": [
    "## Accessing dictionary elements\n",
    "\n",
    "Dictionaries are accessed using the same bracket notation (`[]`) as lists, but with keys instead of indices."
   ]
  },
  {
   "cell_type": "code",
   "execution_count": null,
   "id": "0f15b8d4",
   "metadata": {
    "execution": {
     "iopub.execute_input": "2023-10-23T01:58:07.969562Z",
     "iopub.status.busy": "2023-10-23T01:58:07.969282Z",
     "iopub.status.idle": "2023-10-23T01:58:07.972905Z",
     "shell.execute_reply": "2023-10-23T01:58:07.972119Z"
    }
   },
   "outputs": [],
   "source": [
    "number_words = {\n",
    "    \"one\": 1,\n",
    "    \"four\": 4,\n",
    "    \"one hundred\": 100\n",
    "}\n",
    "print(number_words[\"four\"])"
   ]
  },
  {
   "cell_type": "code",
   "execution_count": null,
   "id": "6cf994b8",
   "metadata": {
    "execution": {
     "iopub.execute_input": "2023-10-23T01:58:07.976201Z",
     "iopub.status.busy": "2023-10-23T01:58:07.975916Z",
     "iopub.status.idle": "2023-10-23T01:58:07.979376Z",
     "shell.execute_reply": "2023-10-23T01:58:07.978722Z"
    }
   },
   "outputs": [],
   "source": [
    "print(number_words[\"one \" + \"hundred\"])"
   ]
  },
  {
   "cell_type": "markdown",
   "id": "53fe4581",
   "metadata": {
    "slideshow": {
     "slide_type": "subslide"
    }
   },
   "source": [
    "Accessing an element that doesn't exist generates an error"
   ]
  },
  {
   "cell_type": "code",
   "execution_count": null,
   "id": "8dbedcb5",
   "metadata": {
    "execution": {
     "iopub.execute_input": "2023-10-23T01:58:07.983121Z",
     "iopub.status.busy": "2023-10-23T01:58:07.982830Z",
     "iopub.status.idle": "2023-10-23T01:58:08.283714Z",
     "shell.execute_reply": "2023-10-23T01:58:08.282804Z"
    }
   },
   "outputs": [],
   "source": [
    "print(number_words[2])"
   ]
  },
  {
   "cell_type": "markdown",
   "id": "d5291d6f",
   "metadata": {
    "slideshow": {
     "slide_type": "subslide"
    }
   },
   "source": [
    "You can use the `.get()` method if you want to access an element that may not exist."
   ]
  },
  {
   "cell_type": "code",
   "execution_count": null,
   "id": "17a069b4",
   "metadata": {
    "execution": {
     "iopub.execute_input": "2023-10-23T01:58:08.288983Z",
     "iopub.status.busy": "2023-10-23T01:58:08.288027Z",
     "iopub.status.idle": "2023-10-23T01:58:08.293766Z",
     "shell.execute_reply": "2023-10-23T01:58:08.292838Z"
    }
   },
   "outputs": [],
   "source": [
    "number_words = {\n",
    "    \"one\": 1,\n",
    "    \"four\": 4,\n",
    "    \"one hundred\": 100\n",
    "}\n",
    "print(number_words.get(\"one\"))"
   ]
  },
  {
   "cell_type": "code",
   "execution_count": null,
   "id": "20058424",
   "metadata": {
    "execution": {
     "iopub.execute_input": "2023-10-23T01:58:08.299143Z",
     "iopub.status.busy": "2023-10-23T01:58:08.298793Z",
     "iopub.status.idle": "2023-10-23T01:58:08.303360Z",
     "shell.execute_reply": "2023-10-23T01:58:08.302620Z"
    }
   },
   "outputs": [],
   "source": [
    "print(number_words.get(\"two\"))"
   ]
  },
  {
   "cell_type": "markdown",
   "id": "5d8928fe",
   "metadata": {},
   "source": [
    "`get()` takes an optional argument the specifies the value to use if the key isn't found in the dictionary."
   ]
  },
  {
   "cell_type": "code",
   "execution_count": null,
   "id": "5d2899b9",
   "metadata": {
    "execution": {
     "iopub.execute_input": "2023-10-23T01:58:08.307459Z",
     "iopub.status.busy": "2023-10-23T01:58:08.307171Z",
     "iopub.status.idle": "2023-10-23T01:58:08.311989Z",
     "shell.execute_reply": "2023-10-23T01:58:08.310225Z"
    }
   },
   "outputs": [],
   "source": [
    "print(number_words.get(\"two\", \"unknown\"))"
   ]
  },
  {
   "cell_type": "markdown",
   "id": "f0e6954c",
   "metadata": {
    "slideshow": {
     "slide_type": "subslide"
    }
   },
   "source": [
    "You can check for the existince of a key with `in` (similar to lists and other sequences)"
   ]
  },
  {
   "cell_type": "code",
   "execution_count": null,
   "id": "eab3bf28",
   "metadata": {
    "execution": {
     "iopub.execute_input": "2023-10-23T01:58:08.315841Z",
     "iopub.status.busy": "2023-10-23T01:58:08.315556Z",
     "iopub.status.idle": "2023-10-23T01:58:08.319757Z",
     "shell.execute_reply": "2023-10-23T01:58:08.318750Z"
    }
   },
   "outputs": [],
   "source": [
    "number_words = {\n",
    "    \"one\": 1,\n",
    "    \"four\": 4,\n",
    "    \"one hundred\": 100\n",
    "}\n",
    "print(\"one\" in number_words)\n",
    "print(1 in number_words)"
   ]
  },
  {
   "cell_type": "code",
   "execution_count": null,
   "id": "d559277d",
   "metadata": {
    "execution": {
     "iopub.execute_input": "2023-10-23T01:58:08.323339Z",
     "iopub.status.busy": "2023-10-23T01:58:08.323046Z",
     "iopub.status.idle": "2023-10-23T01:58:08.330891Z",
     "shell.execute_reply": "2023-10-23T01:58:08.330198Z"
    }
   },
   "outputs": [],
   "source": [
    "\"ten\" in number_words"
   ]
  },
  {
   "cell_type": "markdown",
   "id": "bff0954d",
   "metadata": {
    "slideshow": {
     "slide_type": "slide"
    }
   },
   "source": [
    "## Modifying dictionaries\n",
    "\n",
    "Assigning a value to a key adds a key/value pair to the dictionary if the key doesn't already exist. If the key does already exist, the value for that key is updated."
   ]
  },
  {
   "cell_type": "code",
   "execution_count": null,
   "id": "6a2bbdc1",
   "metadata": {
    "execution": {
     "iopub.execute_input": "2023-10-23T01:58:08.334117Z",
     "iopub.status.busy": "2023-10-23T01:58:08.333794Z",
     "iopub.status.idle": "2023-10-23T01:58:08.338279Z",
     "shell.execute_reply": "2023-10-23T01:58:08.337658Z"
    }
   },
   "outputs": [],
   "source": [
    "number_preferences = {\n",
    "    1.5: False,\n",
    "    2.7: True,\n",
    "    3.9: False\n",
    "}\n",
    "print(number_preferences)"
   ]
  },
  {
   "cell_type": "code",
   "execution_count": null,
   "id": "23ccb5a9",
   "metadata": {
    "execution": {
     "iopub.execute_input": "2023-10-23T01:58:08.341746Z",
     "iopub.status.busy": "2023-10-23T01:58:08.341424Z",
     "iopub.status.idle": "2023-10-23T01:58:08.346334Z",
     "shell.execute_reply": "2023-10-23T01:58:08.345564Z"
    }
   },
   "outputs": [],
   "source": [
    "number_preferences[4.0] = \"yes\"\n",
    "print(number_preferences)"
   ]
  },
  {
   "cell_type": "code",
   "execution_count": null,
   "id": "fe046ee6",
   "metadata": {
    "execution": {
     "iopub.execute_input": "2023-10-23T01:58:08.349638Z",
     "iopub.status.busy": "2023-10-23T01:58:08.349356Z",
     "iopub.status.idle": "2023-10-23T01:58:08.353512Z",
     "shell.execute_reply": "2023-10-23T01:58:08.352850Z"
    }
   },
   "outputs": [],
   "source": [
    "number_preferences[1.5] = \"no\"\n",
    "print(number_preferences)"
   ]
  },
  {
   "cell_type": "markdown",
   "id": "f7c428d4",
   "metadata": {
    "slideshow": {
     "slide_type": "subslide"
    }
   },
   "source": [
    "You can delete from a dictionary using the `del` keyword."
   ]
  },
  {
   "cell_type": "code",
   "execution_count": null,
   "id": "db9b069b",
   "metadata": {
    "execution": {
     "iopub.execute_input": "2023-10-23T01:58:08.357029Z",
     "iopub.status.busy": "2023-10-23T01:58:08.356718Z",
     "iopub.status.idle": "2023-10-23T01:58:08.362245Z",
     "shell.execute_reply": "2023-10-23T01:58:08.361006Z"
    }
   },
   "outputs": [],
   "source": [
    "stats = {\n",
    "    \"height\": 67,\n",
    "    \"weight\": 140,\n",
    "    \"eye color\": \"blue\",\n",
    "    \"dominant hand\": \"left\"\n",
    "}\n",
    "print(stats)\n",
    "del stats[\"weight\"]\n",
    "print(stats)"
   ]
  },
  {
   "cell_type": "markdown",
   "id": "9ea32f85",
   "metadata": {
    "slideshow": {
     "slide_type": "slide"
    }
   },
   "source": [
    "## Iterating over dictionaries\n",
    "\n",
    "You can use for loops to iterate over the keys in a dictionary"
   ]
  },
  {
   "cell_type": "code",
   "execution_count": null,
   "id": "ca141bab",
   "metadata": {
    "execution": {
     "iopub.execute_input": "2023-10-23T01:58:08.365486Z",
     "iopub.status.busy": "2023-10-23T01:58:08.365206Z",
     "iopub.status.idle": "2023-10-23T01:58:08.369952Z",
     "shell.execute_reply": "2023-10-23T01:58:08.369299Z"
    }
   },
   "outputs": [],
   "source": [
    "stats = {\n",
    "    \"height\": 67,\n",
    "    \"weight\": 140,\n",
    "    \"eye color\": \"blue\",\n",
    "    \"dominant hand\": \"left\"\n",
    "}\n",
    "for statname in stats:\n",
    "    print(f\"My {statname} is {stats[statname]}\")"
   ]
  },
  {
   "cell_type": "markdown",
   "id": "a84afaaa",
   "metadata": {
    "slideshow": {
     "slide_type": "subslide"
    }
   },
   "source": [
    "You can also iterate over key/value pairs with the `.items()` method."
   ]
  },
  {
   "cell_type": "code",
   "execution_count": null,
   "id": "43e533f0",
   "metadata": {
    "execution": {
     "iopub.execute_input": "2023-10-23T01:58:08.373268Z",
     "iopub.status.busy": "2023-10-23T01:58:08.372979Z",
     "iopub.status.idle": "2023-10-23T01:58:08.378240Z",
     "shell.execute_reply": "2023-10-23T01:58:08.377386Z"
    }
   },
   "outputs": [],
   "source": [
    "stats = {\n",
    "    \"height\": 67,\n",
    "    \"weight\": 140,\n",
    "    \"eye color\": \"blue\",\n",
    "    \"dominant hand\": \"left\"\n",
    "}\n",
    "#print(list(stats.items()))\n",
    "for (key, value) in stats.items():\n",
    "    print(f\"My {key} is {value}\")\n",
    "#for key in stats:\n",
    "#    print(f\"My {key} is {stats[key]}\"))"
   ]
  },
  {
   "cell_type": "markdown",
   "id": "dc53395a",
   "metadata": {
    "slideshow": {
     "slide_type": "subslide"
    }
   },
   "source": [
    "`.items()` produces the keys/values as 2-tuples:"
   ]
  },
  {
   "cell_type": "code",
   "execution_count": null,
   "id": "dc138160",
   "metadata": {
    "execution": {
     "iopub.execute_input": "2023-10-23T01:58:08.382000Z",
     "iopub.status.busy": "2023-10-23T01:58:08.381711Z",
     "iopub.status.idle": "2023-10-23T01:58:08.386586Z",
     "shell.execute_reply": "2023-10-23T01:58:08.385970Z"
    }
   },
   "outputs": [],
   "source": [
    "list(stats.items())"
   ]
  },
  {
   "cell_type": "markdown",
   "id": "61bd003a",
   "metadata": {},
   "source": [
    "Our `for` loop used value unpacking - each key from `.items()` is unpacked into `statname`, and each value is unpacke into `value`:"
   ]
  },
  {
   "cell_type": "code",
   "execution_count": null,
   "id": "6c7b7fdf",
   "metadata": {
    "execution": {
     "iopub.execute_input": "2023-10-23T01:58:08.389902Z",
     "iopub.status.busy": "2023-10-23T01:58:08.389614Z",
     "iopub.status.idle": "2023-10-23T01:58:08.394397Z",
     "shell.execute_reply": "2023-10-23T01:58:08.393679Z"
    }
   },
   "outputs": [],
   "source": [
    "for statname, value in stats.items():\n",
    "    print(f\"My {statname} is {value}\")"
   ]
  },
  {
   "cell_type": "markdown",
   "id": "f053cd68",
   "metadata": {
    "slideshow": {
     "slide_type": "slide"
    }
   },
   "source": [
    "## Exercise\n",
    "\n",
    "Write a function to keep track of personal high scores for everyone who plays a game: `record_attempt(name, new_score, scores)`, where:\n",
    "* `name` is a string\n",
    "* `new_score` is an int\n",
    "* `scores` is a dictionary where the keys are names, and the value is the best score for a name\n",
    "* `record_attempt()` should modify `scores` in place"
   ]
  },
  {
   "cell_type": "code",
   "execution_count": null,
   "id": "b25ae039",
   "metadata": {
    "execution": {
     "iopub.execute_input": "2023-10-23T01:58:08.398492Z",
     "iopub.status.busy": "2023-10-23T01:58:08.398146Z",
     "iopub.status.idle": "2023-10-23T01:58:08.401967Z",
     "shell.execute_reply": "2023-10-23T01:58:08.401296Z"
    }
   },
   "outputs": [],
   "source": [
    "def record_attempt(name, new_score, scores):\n",
    "    # ???\n",
    "    return"
   ]
  },
  {
   "cell_type": "code",
   "execution_count": null,
   "id": "9ec62ab3",
   "metadata": {
    "execution": {
     "iopub.execute_input": "2023-10-23T01:58:08.405147Z",
     "iopub.status.busy": "2023-10-23T01:58:08.404873Z",
     "iopub.status.idle": "2023-10-23T01:58:08.408719Z",
     "shell.execute_reply": "2023-10-23T01:58:08.407865Z"
    },
    "slideshow": {
     "slide_type": "subslide"
    }
   },
   "outputs": [],
   "source": [
    "# attempt 1\n",
    "def record_attempt(name, new_score, scores):\n",
    "    if new_score > scores[name]:\n",
    "        scores[name] = new_score"
   ]
  },
  {
   "cell_type": "code",
   "execution_count": null,
   "id": "1e5650f8",
   "metadata": {
    "execution": {
     "iopub.execute_input": "2023-10-23T01:58:08.412624Z",
     "iopub.status.busy": "2023-10-23T01:58:08.411918Z",
     "iopub.status.idle": "2023-10-23T01:58:08.438463Z",
     "shell.execute_reply": "2023-10-23T01:58:08.437783Z"
    },
    "tags": [
     "raises-exception"
    ]
   },
   "outputs": [],
   "source": [
    "scores = {}\n",
    "record_attempt(\"Batman\", 100, scores)\n",
    "print(scores)"
   ]
  },
  {
   "cell_type": "markdown",
   "id": "3cf810ee",
   "metadata": {
    "slideshow": {
     "slide_type": "subslide"
    }
   },
   "source": [
    "We can't use `[]` to check the existing score, because the name might not be in there yet."
   ]
  },
  {
   "cell_type": "code",
   "execution_count": null,
   "id": "b74fc415",
   "metadata": {
    "execution": {
     "iopub.execute_input": "2023-10-23T01:58:08.443281Z",
     "iopub.status.busy": "2023-10-23T01:58:08.442693Z",
     "iopub.status.idle": "2023-10-23T01:58:08.448663Z",
     "shell.execute_reply": "2023-10-23T01:58:08.446763Z"
    },
    "slideshow": {
     "slide_type": "subslide"
    }
   },
   "outputs": [],
   "source": [
    "# attempt 2 (correct)\n",
    "def record_attempt(name, new_score, scores):\n",
    "    if name not in scores:\n",
    "        scores[name] = new_score\n",
    "    elif scores[name] < new_score:\n",
    "        scores[name] = new_score\n",
    "        \n",
    "    #if new_score > scores.get(name, 0):\n",
    "    #    scores[name] = new_score"
   ]
  },
  {
   "cell_type": "code",
   "execution_count": null,
   "id": "3280b0da",
   "metadata": {
    "execution": {
     "iopub.execute_input": "2023-10-23T01:58:08.453222Z",
     "iopub.status.busy": "2023-10-23T01:58:08.452783Z",
     "iopub.status.idle": "2023-10-23T01:58:08.460645Z",
     "shell.execute_reply": "2023-10-23T01:58:08.458045Z"
    }
   },
   "outputs": [],
   "source": [
    "scores = {}\n",
    "record_attempt(\"Batman\", 100, scores)\n",
    "print(scores)"
   ]
  },
  {
   "cell_type": "code",
   "execution_count": null,
   "id": "78beb8ae",
   "metadata": {
    "execution": {
     "iopub.execute_input": "2023-10-23T01:58:08.467711Z",
     "iopub.status.busy": "2023-10-23T01:58:08.467056Z",
     "iopub.status.idle": "2023-10-23T01:58:08.473898Z",
     "shell.execute_reply": "2023-10-23T01:58:08.472734Z"
    }
   },
   "outputs": [],
   "source": [
    "scores = {}\n",
    "record_attempt(\"Batman\", 100, scores)\n",
    "record_attempt(\"Superman\", 10, scores)\n",
    "record_attempt(\"Spongebob\", 50, scores)\n",
    "record_attempt(\"Spiderman\", 1, scores)\n",
    "record_attempt(\"Spiderman\", 11, scores)\n",
    "record_attempt(\"Spiderman\", 110, scores)\n",
    "print(scores)"
   ]
  },
  {
   "cell_type": "markdown",
   "id": "d18e05aa",
   "metadata": {
    "slideshow": {
     "slide_type": "slide"
    }
   },
   "source": [
    "# [Slido](https://wall.sli.do/event/h4FwBMY6vLLm4qKujQS37V?section=53bf946d-921c-4bda-8f4f-0e7fa6363572)"
   ]
  },
  {
   "cell_type": "markdown",
   "id": "9d371d7c",
   "metadata": {
    "slideshow": {
     "slide_type": "subslide"
    }
   },
   "source": [
    "## Exercise\n",
    "\n",
    "Write a function that prints the person with the highest overall score: `print_winner(scores)`"
   ]
  },
  {
   "cell_type": "code",
   "execution_count": null,
   "id": "6bd7b29a",
   "metadata": {
    "execution": {
     "iopub.execute_input": "2023-10-23T01:58:08.482377Z",
     "iopub.status.busy": "2023-10-23T01:58:08.481936Z",
     "iopub.status.idle": "2023-10-23T01:58:08.486684Z",
     "shell.execute_reply": "2023-10-23T01:58:08.485915Z"
    }
   },
   "outputs": [],
   "source": [
    "# attempt 1\n",
    "def print_winner(scores):\n",
    "    best_score = 0\n",
    "    best_player = \"\"\n",
    "    for player, score in scores.items():\n",
    "        if score > best_score:\n",
    "            best_score = score\n",
    "            best_player = player\n",
    "    print(f\"Congratulations, {player}, you win with {score} points!\")"
   ]
  },
  {
   "cell_type": "code",
   "execution_count": null,
   "id": "17fecd2a",
   "metadata": {
    "execution": {
     "iopub.execute_input": "2023-10-23T01:58:08.492675Z",
     "iopub.status.busy": "2023-10-23T01:58:08.491568Z",
     "iopub.status.idle": "2023-10-23T01:58:08.499294Z",
     "shell.execute_reply": "2023-10-23T01:58:08.498207Z"
    }
   },
   "outputs": [],
   "source": [
    "scores = {}\n",
    "record_attempt(\"Batman\", 100, scores)\n",
    "record_attempt(\"Superman\", 10, scores)\n",
    "record_attempt(\"Spongebob\", 50, scores)\n",
    "record_attempt(\"Spiderman\", 1, scores)\n",
    "record_attempt(\"Spiderman\", 11, scores)\n",
    "record_attempt(\"Spiderman\", 110, scores)\n",
    "print_winner(scores)"
   ]
  },
  {
   "cell_type": "markdown",
   "id": "1e956111",
   "metadata": {
    "slideshow": {
     "slide_type": "subslide"
    }
   },
   "source": [
    "That output looks correct... but can you spot the bug?"
   ]
  },
  {
   "cell_type": "code",
   "execution_count": null,
   "id": "ce18d9ec",
   "metadata": {
    "execution": {
     "iopub.execute_input": "2023-10-23T01:58:08.504813Z",
     "iopub.status.busy": "2023-10-23T01:58:08.503809Z",
     "iopub.status.idle": "2023-10-23T01:58:08.511261Z",
     "shell.execute_reply": "2023-10-23T01:58:08.510137Z"
    }
   },
   "outputs": [],
   "source": [
    "# attempt 1\n",
    "def print_winner(scores):\n",
    "    best_score = 0\n",
    "    best_player = \"\"\n",
    "    for player, score in scores.items():\n",
    "        if score > best_score:\n",
    "            best_score = score\n",
    "            best_player = player \n",
    "    print(f\"Congratulations, {player}, you win with {score} points!\")"
   ]
  },
  {
   "cell_type": "code",
   "execution_count": null,
   "id": "526e7e17",
   "metadata": {
    "execution": {
     "iopub.execute_input": "2023-10-23T01:58:08.517749Z",
     "iopub.status.busy": "2023-10-23T01:58:08.517087Z",
     "iopub.status.idle": "2023-10-23T01:58:08.523789Z",
     "shell.execute_reply": "2023-10-23T01:58:08.522723Z"
    },
    "slideshow": {
     "slide_type": "fragment"
    }
   },
   "outputs": [],
   "source": [
    "scores = {}\n",
    "record_attempt(\"Batman\", 150, scores)\n",
    "record_attempt(\"Spongebob\", 50, scores)\n",
    "record_attempt(\"Spiderman\", 1, scores)\n",
    "record_attempt(\"Spiderman\", 11, scores)\n",
    "record_attempt(\"Spiderman\", 110, scores)\n",
    "record_attempt(\"Superman\", 10, scores)\n",
    "print_winner(scores)"
   ]
  },
  {
   "cell_type": "markdown",
   "id": "ae847962",
   "metadata": {},
   "source": [
    "We printed the wrong variables at the end! This is a common type of error - make sure you test your code with a variety of inputs!"
   ]
  },
  {
   "cell_type": "code",
   "execution_count": null,
   "id": "c3676c09",
   "metadata": {
    "execution": {
     "iopub.execute_input": "2023-10-23T01:58:08.529594Z",
     "iopub.status.busy": "2023-10-23T01:58:08.529018Z",
     "iopub.status.idle": "2023-10-23T01:58:08.535578Z",
     "shell.execute_reply": "2023-10-23T01:58:08.534529Z"
    },
    "slideshow": {
     "slide_type": "subslide"
    }
   },
   "outputs": [],
   "source": [
    "# attempt 2 (correct)\n",
    "def print_winner(scores):\n",
    "    best_score = 0\n",
    "    best_player = \"\"\n",
    "    for player, score in scores.items():\n",
    "        if score > best_score:\n",
    "            best_score = score\n",
    "            best_player = player\n",
    "    print(f\"Congratulations, {best_player}, you win with {best_score} points!\")"
   ]
  },
  {
   "cell_type": "code",
   "execution_count": null,
   "id": "81f99fca",
   "metadata": {
    "execution": {
     "iopub.execute_input": "2023-10-23T01:58:08.540578Z",
     "iopub.status.busy": "2023-10-23T01:58:08.540091Z",
     "iopub.status.idle": "2023-10-23T01:58:08.548168Z",
     "shell.execute_reply": "2023-10-23T01:58:08.546000Z"
    },
    "slideshow": {
     "slide_type": "fragment"
    }
   },
   "outputs": [],
   "source": [
    "scores = {}\n",
    "record_attempt(\"Batman\", 150, scores)\n",
    "record_attempt(\"Superman\", 10, scores)\n",
    "record_attempt(\"Spongebob\", 50, scores)\n",
    "record_attempt(\"Spiderman\", 1, scores)\n",
    "record_attempt(\"Spiderman\", 11, scores)\n",
    "record_attempt(\"Spiderman\", 110, scores)\n",
    "print_winner(scores)"
   ]
  },
  {
   "cell_type": "markdown",
   "id": "249bfeb7",
   "metadata": {
    "slideshow": {
     "slide_type": "subslide"
    }
   },
   "source": [
    "## Exercise\n",
    "\n",
    "Write a function that takes a string, and returns a dictionary representing the unique words in the string, and the number of times each word occurred."
   ]
  },
  {
   "cell_type": "code",
   "execution_count": null,
   "id": "757ecb85",
   "metadata": {
    "execution": {
     "iopub.execute_input": "2023-10-23T01:58:08.553477Z",
     "iopub.status.busy": "2023-10-23T01:58:08.553063Z",
     "iopub.status.idle": "2023-10-23T01:58:08.557473Z",
     "shell.execute_reply": "2023-10-23T01:58:08.556501Z"
    },
    "slideshow": {
     "slide_type": "subslide"
    }
   },
   "outputs": [],
   "source": [
    "def count_words(word_string):\n",
    "    # ???\n",
    "    return {}"
   ]
  },
  {
   "cell_type": "code",
   "execution_count": null,
   "id": "495abde5",
   "metadata": {
    "execution": {
     "iopub.execute_input": "2023-10-23T01:58:08.562422Z",
     "iopub.status.busy": "2023-10-23T01:58:08.561441Z",
     "iopub.status.idle": "2023-10-23T01:58:08.566276Z",
     "shell.execute_reply": "2023-10-23T01:58:08.565494Z"
    },
    "slideshow": {
     "slide_type": "subslide"
    }
   },
   "outputs": [],
   "source": [
    "# attempt 1\n",
    "def count_words(word_string):\n",
    "    words = word_string.split()\n",
    "    counts = {}\n",
    "    for word in words:\n",
    "        counts[word] = counts[word] + 1\n",
    "    return counts"
   ]
  },
  {
   "cell_type": "code",
   "execution_count": null,
   "id": "dca8dd3b",
   "metadata": {
    "execution": {
     "iopub.execute_input": "2023-10-23T01:58:08.570595Z",
     "iopub.status.busy": "2023-10-23T01:58:08.570265Z",
     "iopub.status.idle": "2023-10-23T01:58:08.596995Z",
     "shell.execute_reply": "2023-10-23T01:58:08.596303Z"
    },
    "tags": [
     "raises-exception"
    ]
   },
   "outputs": [],
   "source": [
    "count_words(\"It was the best of times it was the worst of times it was the age of wisdom it was the age of foolishness\")"
   ]
  },
  {
   "cell_type": "markdown",
   "id": "85172442",
   "metadata": {
    "slideshow": {
     "slide_type": "subslide"
    }
   },
   "source": [
    "We need to handle the initial condition, where the word hasn't been found yet."
   ]
  },
  {
   "cell_type": "code",
   "execution_count": null,
   "id": "1f41ae33",
   "metadata": {
    "execution": {
     "iopub.execute_input": "2023-10-23T01:58:08.600649Z",
     "iopub.status.busy": "2023-10-23T01:58:08.600161Z",
     "iopub.status.idle": "2023-10-23T01:58:08.604697Z",
     "shell.execute_reply": "2023-10-23T01:58:08.603856Z"
    },
    "slideshow": {
     "slide_type": "-"
    }
   },
   "outputs": [],
   "source": [
    "# attempt 2\n",
    "def count_words(word_string):\n",
    "    words = word_string.split()\n",
    "    counts = {}\n",
    "    for word in words:\n",
    "        if word not in counts:\n",
    "            counts[word] = 1\n",
    "        else:\n",
    "            counts[word] = counts[word] + 1\n",
    "    return counts"
   ]
  },
  {
   "cell_type": "code",
   "execution_count": null,
   "id": "80f13cee",
   "metadata": {
    "execution": {
     "iopub.execute_input": "2023-10-23T01:58:08.608115Z",
     "iopub.status.busy": "2023-10-23T01:58:08.607749Z",
     "iopub.status.idle": "2023-10-23T01:58:08.613529Z",
     "shell.execute_reply": "2023-10-23T01:58:08.612711Z"
    },
    "tags": [
     "raises-exception"
    ]
   },
   "outputs": [],
   "source": [
    "count_words(\"It was the best of times it was the worst of times it was the age of wisdom it was the age of foolishness\")"
   ]
  },
  {
   "cell_type": "markdown",
   "id": "d4685ea7",
   "metadata": {
    "slideshow": {
     "slide_type": "subslide"
    }
   },
   "source": [
    "Whoops, looks like we have to deal with upper vs. lower case."
   ]
  },
  {
   "cell_type": "code",
   "execution_count": null,
   "id": "29d0c676",
   "metadata": {
    "execution": {
     "iopub.execute_input": "2023-10-23T01:58:08.616964Z",
     "iopub.status.busy": "2023-10-23T01:58:08.616525Z",
     "iopub.status.idle": "2023-10-23T01:58:08.620695Z",
     "shell.execute_reply": "2023-10-23T01:58:08.620073Z"
    },
    "slideshow": {
     "slide_type": "-"
    }
   },
   "outputs": [],
   "source": [
    "# attempt 3\n",
    "def count_words(word_string):\n",
    "    words = word_string.lower().split()\n",
    "    counts = {}\n",
    "    for word in words:\n",
    "        if word not in counts:\n",
    "            counts[word] = 1\n",
    "        else:\n",
    "            counts[word] = counts[word] + 1\n",
    "    return counts"
   ]
  },
  {
   "cell_type": "code",
   "execution_count": null,
   "id": "9d416a45",
   "metadata": {
    "execution": {
     "iopub.execute_input": "2023-10-23T01:58:08.624101Z",
     "iopub.status.busy": "2023-10-23T01:58:08.623599Z",
     "iopub.status.idle": "2023-10-23T01:58:08.629266Z",
     "shell.execute_reply": "2023-10-23T01:58:08.628620Z"
    },
    "tags": [
     "raises-exception"
    ]
   },
   "outputs": [],
   "source": [
    "count_words(\"It was the best of times it was the worst of times it was the age of wisdom it was the age of foolishness\")"
   ]
  },
  {
   "cell_type": "markdown",
   "id": "f6478b85",
   "metadata": {
    "slideshow": {
     "slide_type": "subslide"
    }
   },
   "source": [
    "That was perfectly good code! But we can make it a little cleaner using `get()`:"
   ]
  },
  {
   "cell_type": "code",
   "execution_count": null,
   "id": "cf794570",
   "metadata": {
    "execution": {
     "iopub.execute_input": "2023-10-23T01:58:08.632547Z",
     "iopub.status.busy": "2023-10-23T01:58:08.632221Z",
     "iopub.status.idle": "2023-10-23T01:58:08.637361Z",
     "shell.execute_reply": "2023-10-23T01:58:08.636623Z"
    }
   },
   "outputs": [],
   "source": [
    "# an alternative, using get()\n",
    "def count_words(word_string):\n",
    "    words = word_string.lower().split()\n",
    "    counts = {}\n",
    "    for word in words:\n",
    "        counts[word] = counts.get(word, 0) + 1\n",
    "    \n",
    "    sortable = [(freq, word) for word, freq in counts.items()]\n",
    "    sortable.sort(reverse=True)\n",
    "    \n",
    "    final_answer = []\n",
    "    for (freq, word) in sortable:\n",
    "        final_answer.append(word)\n",
    "    \n",
    "    return final_answer"
   ]
  },
  {
   "cell_type": "code",
   "execution_count": null,
   "id": "96f44ddd",
   "metadata": {
    "execution": {
     "iopub.execute_input": "2023-10-23T01:58:08.640590Z",
     "iopub.status.busy": "2023-10-23T01:58:08.640265Z",
     "iopub.status.idle": "2023-10-23T01:58:08.645625Z",
     "shell.execute_reply": "2023-10-23T01:58:08.644932Z"
    },
    "tags": [
     "raises-exception"
    ]
   },
   "outputs": [],
   "source": [
    "count_words(\"It was the best of times it was the worst of times it was the age of wisdom it was the age of foolishness\")"
   ]
  },
  {
   "cell_type": "markdown",
   "id": "c120518c",
   "metadata": {
    "slideshow": {
     "slide_type": "slide"
    }
   },
   "source": [
    "## Dictionary comprehensions\n",
    "\n",
    "Similar to lists, dictionaries can be created using \"comprehensions\":"
   ]
  },
  {
   "cell_type": "code",
   "execution_count": null,
   "id": "33715770",
   "metadata": {
    "execution": {
     "iopub.execute_input": "2023-10-23T01:58:08.649795Z",
     "iopub.status.busy": "2023-10-23T01:58:08.649131Z",
     "iopub.status.idle": "2023-10-23T01:58:08.653017Z",
     "shell.execute_reply": "2023-10-23T01:58:08.652406Z"
    }
   },
   "outputs": [],
   "source": [
    "squared_nums = {x: x**2 for x in range(5)}\n",
    "print(squared_nums)"
   ]
  },
  {
   "cell_type": "markdown",
   "id": "ba3c6bba",
   "metadata": {
    "slideshow": {
     "slide_type": "subslide"
    }
   },
   "source": [
    "The formal syntax of a dictionary comprehension is:\n",
    "\n",
    "`{<key expression>: <value expression> for <var> in <iterable>}`  \n",
    "or  \n",
    "`{<key expression>: <value expression> for <var> in <iterable> if <boolean expression>}`\n",
    "\n",
    "Both the key and value can be any expression (as long as they evaluate to valid key and value types)."
   ]
  },
  {
   "cell_type": "markdown",
   "id": "0bcbc960",
   "metadata": {
    "slideshow": {
     "slide_type": "subslide"
    }
   },
   "source": [
    "This code creates a dictionary that maps from vegetable name to the count of vowels in the vegetable name:"
   ]
  },
  {
   "cell_type": "code",
   "execution_count": null,
   "id": "62add22b",
   "metadata": {
    "execution": {
     "iopub.execute_input": "2023-10-23T01:58:08.656801Z",
     "iopub.status.busy": "2023-10-23T01:58:08.656259Z",
     "iopub.status.idle": "2023-10-23T01:58:08.660478Z",
     "shell.execute_reply": "2023-10-23T01:58:08.659745Z"
    }
   },
   "outputs": [],
   "source": [
    "def count_vowels(word):\n",
    "    count = 0\n",
    "    \n",
    "    for c in word:\n",
    "        if c in 'aeiou':\n",
    "            count += 1\n",
    "    return count"
   ]
  },
  {
   "cell_type": "code",
   "execution_count": null,
   "id": "d85a9f71",
   "metadata": {
    "execution": {
     "iopub.execute_input": "2023-10-23T01:58:08.664492Z",
     "iopub.status.busy": "2023-10-23T01:58:08.664005Z",
     "iopub.status.idle": "2023-10-23T01:58:08.668282Z",
     "shell.execute_reply": "2023-10-23T01:58:08.667662Z"
    },
    "slideshow": {
     "slide_type": ""
    }
   },
   "outputs": [],
   "source": [
    "# with a comprehension\n",
    "vegetables = [\"cucumber\", \"tomato\", \"pepper\", \"carrot\"]\n",
    "veggie_counts = {veggie: count_vowels(veggie) for veggie in vegetables}\n",
    "print(veggie_counts)"
   ]
  },
  {
   "cell_type": "code",
   "execution_count": null,
   "id": "e6fc9cf1",
   "metadata": {
    "execution": {
     "iopub.execute_input": "2023-10-23T01:58:08.671486Z",
     "iopub.status.busy": "2023-10-23T01:58:08.671219Z",
     "iopub.status.idle": "2023-10-23T01:58:08.676135Z",
     "shell.execute_reply": "2023-10-23T01:58:08.675413Z"
    },
    "slideshow": {
     "slide_type": ""
    }
   },
   "outputs": [],
   "source": [
    "# without a comprehension\n",
    "vegetables = [\"cucumber\", \"tomato\", \"pepper\", \"carrot\"]\n",
    "veggie_counts = {}\n",
    "for veggie in vegetables:\n",
    "    veggie_counts[veggie] = count_vowels(veggie)\n",
    "print(veggie_counts)"
   ]
  },
  {
   "cell_type": "markdown",
   "id": "0af6bad4",
   "metadata": {
    "slideshow": {
     "slide_type": "subslide"
    }
   },
   "source": [
    "This code does the same thing, except it limits the dictionary to vegetables that have at least 3 vowels in their names:"
   ]
  },
  {
   "cell_type": "code",
   "execution_count": null,
   "id": "83c26469",
   "metadata": {
    "execution": {
     "iopub.execute_input": "2023-10-23T01:58:08.679666Z",
     "iopub.status.busy": "2023-10-23T01:58:08.678941Z",
     "iopub.status.idle": "2023-10-23T01:58:08.686016Z",
     "shell.execute_reply": "2023-10-23T01:58:08.685321Z"
    },
    "slideshow": {
     "slide_type": "subslide"
    }
   },
   "outputs": [],
   "source": [
    "# with a comprehension\n",
    "vegetables = [\"cucumber\", \"tomato\", \"pepper\", \"carrot\"]\n",
    "veggie_counts = {veggie: count_vowels(veggie) for veggie in vegetables if count_vowels(veggie) > 2}\n",
    "print(veggie_counts)"
   ]
  },
  {
   "cell_type": "code",
   "execution_count": null,
   "id": "0788fa22",
   "metadata": {
    "execution": {
     "iopub.execute_input": "2023-10-23T01:58:08.689601Z",
     "iopub.status.busy": "2023-10-23T01:58:08.689176Z",
     "iopub.status.idle": "2023-10-23T01:58:08.693806Z",
     "shell.execute_reply": "2023-10-23T01:58:08.693137Z"
    },
    "slideshow": {
     "slide_type": "subslide"
    }
   },
   "outputs": [],
   "source": [
    "# without a comprehension\n",
    "vegetables = [\"cucumber\", \"tomato\", \"pepper\", \"carrot\"]\n",
    "veggie_counts = {}\n",
    "for veggie in vegetables:\n",
    "    num_vowels = count_vowels(veggie)\n",
    "    if num_vowels > 2:\n",
    "        veggie_counts[veggie] = num_vowels\n",
    "print(veggie_counts)"
   ]
  },
  {
   "cell_type": "markdown",
   "id": "7619877e",
   "metadata": {
    "slideshow": {
     "slide_type": "subslide"
    }
   },
   "source": [
    "One last example, which creates a dictionary with each vegetable as a key, and a random integer as each value:"
   ]
  },
  {
   "cell_type": "code",
   "execution_count": null,
   "id": "6381f692",
   "metadata": {
    "execution": {
     "iopub.execute_input": "2023-10-23T01:58:08.698635Z",
     "iopub.status.busy": "2023-10-23T01:58:08.697917Z",
     "iopub.status.idle": "2023-10-23T01:58:08.702217Z",
     "shell.execute_reply": "2023-10-23T01:58:08.701560Z"
    },
    "slideshow": {
     "slide_type": "subslide"
    }
   },
   "outputs": [],
   "source": [
    "import random \n",
    "vegetables = [\"cucumber\", \"tomato\", \"pepper\", \"carrot\"]\n",
    "veggie_counts = {veggie: random.randint(0, 10) for veggie in vegetables}\n",
    "print(veggie_counts)"
   ]
  },
  {
   "cell_type": "markdown",
   "id": "4bf44691",
   "metadata": {
    "slideshow": {
     "slide_type": "slide"
    }
   },
   "source": [
    "# [Slido](https://wall.sli.do/event/h4FwBMY6vLLm4qKujQS37V?section=53bf946d-921c-4bda-8f4f-0e7fa6363572)"
   ]
  },
  {
   "cell_type": "markdown",
   "id": "d80cbbdd",
   "metadata": {},
   "source": [
    "## Dictionaries review\n",
    "\n",
    "Dictionaries are best used when you have data that consists of key/value pairs. \n",
    "\n",
    "A simple example is an old-school phone book: the names are keys, the phone numbers are the values."
   ]
  },
  {
   "cell_type": "code",
   "execution_count": null,
   "id": "65603243",
   "metadata": {
    "execution": {
     "iopub.execute_input": "2023-10-23T01:58:08.706058Z",
     "iopub.status.busy": "2023-10-23T01:58:08.705551Z",
     "iopub.status.idle": "2023-10-23T01:58:08.709429Z",
     "shell.execute_reply": "2023-10-23T01:58:08.708723Z"
    }
   },
   "outputs": [],
   "source": [
    "phone_book = {\n",
    "    \"Harry\": \"555-1234\",\n",
    "    \"Hermione\": \"555-4567\",\n",
    "    \"Ron\": \"555-7890\"\n",
    "}"
   ]
  },
  {
   "cell_type": "markdown",
   "id": "bd5dafd4",
   "metadata": {},
   "source": [
    "## Dictionaries review\n",
    "\n",
    "Key/value data is not always that simple though. \n",
    "\n",
    "Think of a modern Contacts app: the keys may still be names, but the values might have multiple phone numbers, addresses, social media handles, etc. The values themselves might be lists, or dictionaries, combinations of the 2."
   ]
  },
  {
   "cell_type": "code",
   "execution_count": null,
   "id": "ff71c3cd",
   "metadata": {
    "execution": {
     "iopub.execute_input": "2023-10-23T01:58:08.713054Z",
     "iopub.status.busy": "2023-10-23T01:58:08.712700Z",
     "iopub.status.idle": "2023-10-23T01:58:08.716981Z",
     "shell.execute_reply": "2023-10-23T01:58:08.716335Z"
    }
   },
   "outputs": [],
   "source": [
    "contacts = {\n",
    "    \"Harry\": {\n",
    "        \"mobile\": \"555-1234\",\n",
    "        \"address\": \"Number 4 Privet Drive\",\n",
    "        \"instagram\": \"@harryp\"\n",
    "    },\n",
    "    \"Hermione\": {        \n",
    "        \"mobile\": \"555-4567\",\n",
    "        \"address\": \"8 Heathgate, Hampstead Garden Suburb, London\",\n",
    "        \"instagram\": \"@hermgran\"\n",
    "    },\n",
    "    \"Ron\": {        \n",
    "        \"mobile\": \"555-7890\",\n",
    "        \"address\": \"The Burrow\",\n",
    "        \"instagram\": \"@weaslier\"\n",
    "    }\n",
    "}"
   ]
  },
  {
   "cell_type": "markdown",
   "id": "bb14b2d7",
   "metadata": {
    "slideshow": {
     "slide_type": "slide"
    }
   },
   "source": [
    "## Dictionaries review\n",
    "\n",
    "Accessing elements:\n",
    "* If you know the key will exist in the dictionary: use brackets `[...]`\n",
    "* If you aren't sure the key will exist: use `.get(...)`"
   ]
  },
  {
   "cell_type": "markdown",
   "id": "9bfcc14a",
   "metadata": {
    "slideshow": {
     "slide_type": "subslide"
    }
   },
   "source": [
    "## Brackets `[]`"
   ]
  },
  {
   "cell_type": "code",
   "execution_count": null,
   "id": "f745e870",
   "metadata": {
    "execution": {
     "iopub.execute_input": "2023-10-23T01:58:08.720277Z",
     "iopub.status.busy": "2023-10-23T01:58:08.719938Z",
     "iopub.status.idle": "2023-10-23T01:58:08.725293Z",
     "shell.execute_reply": "2023-10-23T01:58:08.724533Z"
    }
   },
   "outputs": [],
   "source": [
    "drink_temps = {\n",
    "    \"Red Wine\": 16.0,\n",
    "    \"White Wine\": 10.0,\n",
    "    \"Beer\": 8.0,\n",
    "    \"Black tea\": 85.0,\n",
    "    \"Green tea\": 74.0\n",
    "}\n",
    "\n",
    "for drink in drink_temps:\n",
    "    print(f\"Drink {drink} at {drink_temps[drink]}˚C\")"
   ]
  },
  {
   "cell_type": "markdown",
   "id": "b513f790",
   "metadata": {
    "slideshow": {
     "slide_type": "notes"
    }
   },
   "source": [
    "Here, we know that each key will exist in the dictionary, so using brackets makes sense."
   ]
  },
  {
   "cell_type": "markdown",
   "id": "be288af2",
   "metadata": {
    "slideshow": {
     "slide_type": "subslide"
    }
   },
   "source": [
    "## `.get()`"
   ]
  },
  {
   "cell_type": "code",
   "execution_count": null,
   "id": "c0a436d0",
   "metadata": {
    "execution": {
     "iopub.execute_input": "2023-10-23T01:58:08.728680Z",
     "iopub.status.busy": "2023-10-23T01:58:08.728285Z",
     "iopub.status.idle": "2023-10-23T01:58:08.822134Z",
     "shell.execute_reply": "2023-10-23T01:58:08.821245Z"
    }
   },
   "outputs": [],
   "source": [
    "drink_temps = {\n",
    "    \"Red Wine\": 16.0,\n",
    "    \"White Wine\": 10.0,\n",
    "    \"Beer\": 8.0,\n",
    "    \"Black tea\": 85.0,\n",
    "    \"Green tea\": 74.0\n",
    "}\n",
    "\n",
    "drink = input(\"What drink do you want to know about? \")\n",
    "print(f\"Drink {drink} at {drink_temps.get(drink)}˚C\")"
   ]
  },
  {
   "cell_type": "markdown",
   "id": "5d5a6ab6",
   "metadata": {
    "slideshow": {
     "slide_type": "notes"
    }
   },
   "source": [
    "Here, we don't know if the key will exist in the dictionary. If we used brackets, the code would raise an error if the user typed in a drink that wasn't in `drink_temps`. We can use `get()` to prevent an error from being raised."
   ]
  },
  {
   "cell_type": "markdown",
   "id": "c0eeb4d0",
   "metadata": {
    "slideshow": {
     "slide_type": "subslide"
    }
   },
   "source": [
    "## .get() is a convenience\n",
    "\n",
    "You can always explicitly check for the existence of a key before trying to access it with brackets."
   ]
  },
  {
   "cell_type": "code",
   "execution_count": null,
   "id": "4280d2e2",
   "metadata": {
    "execution": {
     "iopub.execute_input": "2023-10-23T01:58:08.827508Z",
     "iopub.status.busy": "2023-10-23T01:58:08.827117Z",
     "iopub.status.idle": "2023-10-23T01:58:08.854284Z",
     "shell.execute_reply": "2023-10-23T01:58:08.853174Z"
    }
   },
   "outputs": [],
   "source": [
    "drink_temps = {\n",
    "    \"Red Wine\": 16.0,\n",
    "    \"White Wine\": 10.0,\n",
    "    \"Beer\": 8.0,\n",
    "    \"Black tea\": 85.0,\n",
    "    \"Green tea\": 74.0\n",
    "}\n",
    "\n",
    "drink = input(\"What drink do you want to know about? \")\n",
    "if drink in drink_temps:\n",
    "    print(f\"Drink {drink} at {drink_temps[drink]}˚C\")\n",
    "else:\n",
    "    print(f\"I don't know about {drink}\")"
   ]
  },
  {
   "cell_type": "markdown",
   "id": "46a7a600",
   "metadata": {
    "slideshow": {
     "slide_type": "subslide"
    }
   },
   "source": [
    "## `.get()` with a default value\n",
    "\n",
    "You can tell `.get()` what to return if the key does not exist in the dictionary."
   ]
  },
  {
   "cell_type": "code",
   "execution_count": null,
   "id": "d7755551",
   "metadata": {
    "execution": {
     "iopub.execute_input": "2023-10-23T01:58:08.859062Z",
     "iopub.status.busy": "2023-10-23T01:58:08.858679Z",
     "iopub.status.idle": "2023-10-23T01:58:08.885482Z",
     "shell.execute_reply": "2023-10-23T01:58:08.884435Z"
    }
   },
   "outputs": [],
   "source": [
    "drink_temps = {\n",
    "    \"Red Wine\": 16.0,\n",
    "    \"White Wine\": 10.0,\n",
    "    \"Beer\": 8.0,\n",
    "    \"Black tea\": 85.0,\n",
    "    \"Green tea\": 74.0\n",
    "}\n",
    "\n",
    "drink = input(\"What drink do you want to know about? \")\n",
    "print(f\"Drink {drink} at {drink_temps.get(drink, 'unknown')}˚C\")"
   ]
  },
  {
   "cell_type": "markdown",
   "id": "7db7adfe",
   "metadata": {
    "slideshow": {
     "slide_type": "notes"
    }
   },
   "source": [
    "This code demonstrates passing an extra parameter to `get()`. Now, if the users types in an unknown drink, `.get()` will return `\"unknown\"` instead of `None`."
   ]
  },
  {
   "cell_type": "markdown",
   "id": "add953fb",
   "metadata": {
    "slideshow": {
     "slide_type": "slide"
    }
   },
   "source": [
    "# Sets\n",
    "\n",
    "Sets are unordered collections of unique values. \n",
    "\n",
    "They are most commonly used when you want to remove duplicates from a collection of items, easily check if an item is in a collection, or compare/combine multiple collections of unique items."
   ]
  },
  {
   "cell_type": "markdown",
   "id": "823df567",
   "metadata": {
    "slideshow": {
     "slide_type": "subslide"
    }
   },
   "source": [
    "## Creating sets \n",
    "\n",
    "Sets can be created from any iterable."
   ]
  },
  {
   "cell_type": "code",
   "execution_count": null,
   "id": "54986c12",
   "metadata": {
    "execution": {
     "iopub.execute_input": "2023-10-23T01:58:08.888916Z",
     "iopub.status.busy": "2023-10-23T01:58:08.888616Z",
     "iopub.status.idle": "2023-10-23T01:58:08.894026Z",
     "shell.execute_reply": "2023-10-23T01:58:08.892578Z"
    }
   },
   "outputs": [],
   "source": [
    "names = set([\"Batman\", \"Spiderman\", \"Batman\", \"Spongebob\"])\n",
    "print(names)"
   ]
  },
  {
   "cell_type": "markdown",
   "id": "e51b981d",
   "metadata": {
    "slideshow": {
     "slide_type": "subslide"
    }
   },
   "source": [
    "## Accessing set members\n",
    "\n",
    "Because sets are unordered, there are no index-based accessors. You can use `in` to check for membership."
   ]
  },
  {
   "cell_type": "code",
   "execution_count": null,
   "id": "313bed9b",
   "metadata": {
    "execution": {
     "iopub.execute_input": "2023-10-23T01:58:08.898024Z",
     "iopub.status.busy": "2023-10-23T01:58:08.897727Z",
     "iopub.status.idle": "2023-10-23T01:58:08.901447Z",
     "shell.execute_reply": "2023-10-23T01:58:08.900585Z"
    }
   },
   "outputs": [],
   "source": [
    "names = set([\"Batman\", \"Spiderman\", \"Batman\", \"Spongebob\"])"
   ]
  },
  {
   "cell_type": "code",
   "execution_count": null,
   "id": "abeb0fc4",
   "metadata": {
    "execution": {
     "iopub.execute_input": "2023-10-23T01:58:08.904587Z",
     "iopub.status.busy": "2023-10-23T01:58:08.904304Z",
     "iopub.status.idle": "2023-10-23T01:58:08.910254Z",
     "shell.execute_reply": "2023-10-23T01:58:08.908606Z"
    }
   },
   "outputs": [],
   "source": [
    "\"Batman\" in names"
   ]
  },
  {
   "cell_type": "code",
   "execution_count": null,
   "id": "73d210fb",
   "metadata": {
    "execution": {
     "iopub.execute_input": "2023-10-23T01:58:08.914095Z",
     "iopub.status.busy": "2023-10-23T01:58:08.913780Z",
     "iopub.status.idle": "2023-10-23T01:58:08.918560Z",
     "shell.execute_reply": "2023-10-23T01:58:08.917872Z"
    }
   },
   "outputs": [],
   "source": [
    "\"Peppa\" in names"
   ]
  },
  {
   "cell_type": "markdown",
   "id": "0fafb673",
   "metadata": {
    "slideshow": {
     "slide_type": "subslide"
    }
   },
   "source": [
    "## Iterating over sets\n",
    "\n",
    "Sets are iterable, which means you can loop through every member in a set with a `for` loop. \n",
    "\n",
    "They aren't sequences though - they don't have a well-defined order."
   ]
  },
  {
   "cell_type": "code",
   "execution_count": null,
   "id": "91a44055",
   "metadata": {
    "execution": {
     "iopub.execute_input": "2023-10-23T01:58:08.921840Z",
     "iopub.status.busy": "2023-10-23T01:58:08.921561Z",
     "iopub.status.idle": "2023-10-23T01:58:08.927183Z",
     "shell.execute_reply": "2023-10-23T01:58:08.925983Z"
    }
   },
   "outputs": [],
   "source": [
    "names = set([\"Batman\", \"Spiderman\", \"Batman\", \"Spongebob\"])\n",
    "for name in names:\n",
    "    print(name)"
   ]
  },
  {
   "cell_type": "markdown",
   "id": "aad239e3",
   "metadata": {
    "slideshow": {
     "slide_type": "subslide"
    }
   },
   "source": [
    "## Modifying sets\n",
    "\n",
    "`add()`, `remove()`, `clear()`"
   ]
  },
  {
   "cell_type": "code",
   "execution_count": null,
   "id": "da7bfa62",
   "metadata": {
    "execution": {
     "iopub.execute_input": "2023-10-23T01:58:08.932842Z",
     "iopub.status.busy": "2023-10-23T01:58:08.932196Z",
     "iopub.status.idle": "2023-10-23T01:58:08.937594Z",
     "shell.execute_reply": "2023-10-23T01:58:08.936933Z"
    }
   },
   "outputs": [],
   "source": [
    "names = set([\"Batman\", \"Spiderman\", \"Batman\", \"Spongebob\"])\n",
    "names.add(\"Peppa\")\n",
    "print(names)"
   ]
  },
  {
   "cell_type": "code",
   "execution_count": null,
   "id": "8f0cb2a7",
   "metadata": {
    "execution": {
     "iopub.execute_input": "2023-10-23T01:58:08.942094Z",
     "iopub.status.busy": "2023-10-23T01:58:08.941708Z",
     "iopub.status.idle": "2023-10-23T01:58:08.946776Z",
     "shell.execute_reply": "2023-10-23T01:58:08.945971Z"
    }
   },
   "outputs": [],
   "source": [
    "names = set([\"Batman\", \"Spiderman\", \"Batman\", \"Spongebob\"])\n",
    "names.remove(\"Batman\")\n",
    "print(names)"
   ]
  },
  {
   "cell_type": "code",
   "execution_count": null,
   "id": "d807b3bf",
   "metadata": {
    "execution": {
     "iopub.execute_input": "2023-10-23T01:58:08.951615Z",
     "iopub.status.busy": "2023-10-23T01:58:08.951134Z",
     "iopub.status.idle": "2023-10-23T01:58:08.956886Z",
     "shell.execute_reply": "2023-10-23T01:58:08.955782Z"
    }
   },
   "outputs": [],
   "source": [
    "names = set([\"Batman\", \"Spiderman\", \"Batman\", \"Spongebob\"])\n",
    "names.clear()\n",
    "print(names)"
   ]
  },
  {
   "cell_type": "markdown",
   "id": "58f4e563",
   "metadata": {},
   "source": [
    "## Modifying sets\n",
    "\n",
    "`update()` will add multiple items at once."
   ]
  },
  {
   "cell_type": "code",
   "execution_count": null,
   "id": "be5e930e",
   "metadata": {
    "execution": {
     "iopub.execute_input": "2023-10-23T01:58:08.962687Z",
     "iopub.status.busy": "2023-10-23T01:58:08.962022Z",
     "iopub.status.idle": "2023-10-23T01:58:08.968232Z",
     "shell.execute_reply": "2023-10-23T01:58:08.967314Z"
    }
   },
   "outputs": [],
   "source": [
    "names = set([\"Batman\", \"Spiderman\", \"Batman\", \"Spongebob\"])\n",
    "names.update([\"Wolverine\", \"Batman\", \"Wolverine\", \"Magneto\"])\n",
    "print(names)"
   ]
  },
  {
   "cell_type": "markdown",
   "id": "5e54dda1",
   "metadata": {
    "slideshow": {
     "slide_type": "subslide"
    }
   },
   "source": [
    "## Set operations\n",
    "\n",
    "Sets provide equality, intersection, union, and difference operators."
   ]
  },
  {
   "cell_type": "markdown",
   "id": "0f16dfec",
   "metadata": {
    "slideshow": {
     "slide_type": "subslide"
    }
   },
   "source": [
    "## Equality\n",
    "\n",
    "Sets can be compared with `==`"
   ]
  },
  {
   "cell_type": "code",
   "execution_count": null,
   "id": "0da2c191",
   "metadata": {
    "execution": {
     "iopub.execute_input": "2023-10-23T01:58:08.973863Z",
     "iopub.status.busy": "2023-10-23T01:58:08.973494Z",
     "iopub.status.idle": "2023-10-23T01:58:08.981354Z",
     "shell.execute_reply": "2023-10-23T01:58:08.980245Z"
    }
   },
   "outputs": [],
   "source": [
    "fluffy = set([\"cat\", \"dog\", \"dandelion\", \"pillow\"])\n",
    "loud = set([\"dog\", \"cat\", \"baby\", \"horn\", \"alarm\"])\n",
    "fluffy == loud"
   ]
  },
  {
   "cell_type": "markdown",
   "id": "7c02d975",
   "metadata": {
    "slideshow": {
     "slide_type": "subslide"
    }
   },
   "source": [
    "## Intersection \n",
    "\n",
    "The \"intersection\" of 2 (or more) sets is the set of elements which appear in each of the sets. The `&` operator performs an intersection on 2 sets."
   ]
  },
  {
   "cell_type": "code",
   "execution_count": null,
   "id": "d489db25",
   "metadata": {
    "execution": {
     "iopub.execute_input": "2023-10-23T01:58:08.986557Z",
     "iopub.status.busy": "2023-10-23T01:58:08.986067Z",
     "iopub.status.idle": "2023-10-23T01:58:08.994975Z",
     "shell.execute_reply": "2023-10-23T01:58:08.993153Z"
    },
    "slideshow": {
     "slide_type": "-"
    }
   },
   "outputs": [],
   "source": [
    "fluffy = set([\"cat\", \"dog\", \"dandelion\", \"pillow\"])\n",
    "loud = set([\"dog\", \"cat\", \"baby\", \"horn\", \"alarm\"])\n",
    "fluffy & loud"
   ]
  },
  {
   "cell_type": "markdown",
   "id": "8e00199b",
   "metadata": {
    "slideshow": {
     "slide_type": "subslide"
    }
   },
   "source": [
    "## Union\n",
    "\n",
    "The \"union\" of 2 (or more) sets is the set of elements that appear in any of the sets. The `|` operator performs a union on 2 sets."
   ]
  },
  {
   "cell_type": "code",
   "execution_count": null,
   "id": "cdaf5fc2",
   "metadata": {
    "execution": {
     "iopub.execute_input": "2023-10-23T01:58:09.000808Z",
     "iopub.status.busy": "2023-10-23T01:58:09.000397Z",
     "iopub.status.idle": "2023-10-23T01:58:09.007631Z",
     "shell.execute_reply": "2023-10-23T01:58:09.006413Z"
    }
   },
   "outputs": [],
   "source": [
    "fluffy = set([\"cat\", \"dog\", \"dandelion\", \"pillow\"])\n",
    "loud = set([\"dog\", \"cat\", \"baby\", \"horn\", \"alarm\"])\n",
    "fluffy | loud"
   ]
  },
  {
   "cell_type": "markdown",
   "id": "0f397b58",
   "metadata": {
    "slideshow": {
     "slide_type": "subslide"
    }
   },
   "source": [
    "## Subtraction / difference\n",
    "\n",
    "The \"difference\" of 2 sets is the set of elements that appears in set A, but not in set B. The `-` operator performs a difference on 2 sets."
   ]
  },
  {
   "cell_type": "code",
   "execution_count": null,
   "id": "fa27ec38",
   "metadata": {
    "execution": {
     "iopub.execute_input": "2023-10-23T01:58:09.013120Z",
     "iopub.status.busy": "2023-10-23T01:58:09.012481Z",
     "iopub.status.idle": "2023-10-23T01:58:09.019570Z",
     "shell.execute_reply": "2023-10-23T01:58:09.018049Z"
    },
    "slideshow": {
     "slide_type": "-"
    }
   },
   "outputs": [],
   "source": [
    "fluffy = set([\"cat\", \"dog\", \"dandelion\", \"pillow\"])\n",
    "loud = set([\"dog\", \"cat\", \"baby\", \"horn\", \"alarm\"])\n",
    "fluffy - loud"
   ]
  },
  {
   "cell_type": "markdown",
   "id": "7710f7b9",
   "metadata": {},
   "source": [
    "Order matters for subtraction."
   ]
  },
  {
   "cell_type": "code",
   "execution_count": null,
   "id": "3e04f91f",
   "metadata": {
    "execution": {
     "iopub.execute_input": "2023-10-23T01:58:09.026372Z",
     "iopub.status.busy": "2023-10-23T01:58:09.025809Z",
     "iopub.status.idle": "2023-10-23T01:58:09.033272Z",
     "shell.execute_reply": "2023-10-23T01:58:09.032115Z"
    }
   },
   "outputs": [],
   "source": [
    "loud - fluffy"
   ]
  },
  {
   "cell_type": "markdown",
   "id": "5b7dc6d3",
   "metadata": {
    "slideshow": {
     "slide_type": "subslide"
    }
   },
   "source": [
    "## Symmetric difference (\"xor\")\n",
    "\n",
    "The \"symmetric difference\" of 2 sets is the set of items that appear in either set, but not both. \n",
    "\n",
    "This is also sometimes referred to as `xor` (\"exclusive or\"), from boolean/digital logic. \n",
    "\n",
    "The `^` operator performs a symmetric difference."
   ]
  },
  {
   "cell_type": "code",
   "execution_count": null,
   "id": "e812620d",
   "metadata": {
    "execution": {
     "iopub.execute_input": "2023-10-23T01:58:09.038731Z",
     "iopub.status.busy": "2023-10-23T01:58:09.038376Z",
     "iopub.status.idle": "2023-10-23T01:58:09.046326Z",
     "shell.execute_reply": "2023-10-23T01:58:09.044476Z"
    }
   },
   "outputs": [],
   "source": [
    "fluffy = set([\"cat\", \"dog\", \"dandelion\", \"pillow\"])\n",
    "loud = set([\"dog\", \"cat\", \"baby\", \"horn\", \"alarm\"])\n",
    "fluffy ^ loud"
   ]
  },
  {
   "cell_type": "markdown",
   "id": "40187608",
   "metadata": {
    "slideshow": {
     "slide_type": "subslide"
    }
   },
   "source": [
    "## Superset / subset\n",
    "\n",
    "Superset: a set contains all elements of another set  \n",
    "Subset: a set is made up only of elements from another set"
   ]
  },
  {
   "cell_type": "code",
   "execution_count": null,
   "id": "a2e376ab",
   "metadata": {
    "execution": {
     "iopub.execute_input": "2023-10-23T01:58:09.050869Z",
     "iopub.status.busy": "2023-10-23T01:58:09.050450Z",
     "iopub.status.idle": "2023-10-23T01:58:09.059014Z",
     "shell.execute_reply": "2023-10-23T01:58:09.057992Z"
    }
   },
   "outputs": [],
   "source": [
    "letters = set(\"abcdefghijklmnopqrstuvwxyz\")\n",
    "vowels = set(\"aeiou\")\n",
    "letters.issuperset(vowels)"
   ]
  },
  {
   "cell_type": "code",
   "execution_count": null,
   "id": "3c4c3a75",
   "metadata": {
    "execution": {
     "iopub.execute_input": "2023-10-23T01:58:09.065153Z",
     "iopub.status.busy": "2023-10-23T01:58:09.064793Z",
     "iopub.status.idle": "2023-10-23T01:58:09.072648Z",
     "shell.execute_reply": "2023-10-23T01:58:09.071384Z"
    }
   },
   "outputs": [],
   "source": [
    "vowels.issuperset(letters)"
   ]
  },
  {
   "cell_type": "code",
   "execution_count": null,
   "id": "168f2584",
   "metadata": {
    "execution": {
     "iopub.execute_input": "2023-10-23T01:58:09.078248Z",
     "iopub.status.busy": "2023-10-23T01:58:09.077546Z",
     "iopub.status.idle": "2023-10-23T01:58:09.084182Z",
     "shell.execute_reply": "2023-10-23T01:58:09.082974Z"
    }
   },
   "outputs": [],
   "source": [
    "vowels.issubset(letters)"
   ]
  },
  {
   "cell_type": "code",
   "execution_count": null,
   "id": "6458b474",
   "metadata": {
    "execution": {
     "iopub.execute_input": "2023-10-23T01:58:09.089563Z",
     "iopub.status.busy": "2023-10-23T01:58:09.089155Z",
     "iopub.status.idle": "2023-10-23T01:58:09.096252Z",
     "shell.execute_reply": "2023-10-23T01:58:09.095063Z"
    }
   },
   "outputs": [],
   "source": [
    "letters.issubset(vowels)"
   ]
  },
  {
   "cell_type": "markdown",
   "id": "e1b338c7",
   "metadata": {
    "slideshow": {
     "slide_type": "subslide"
    }
   },
   "source": [
    "## Example\n",
    "\n",
    "Write a program that prompts the user to enter the postal abbreviations for all 50 U.S. states. The player loses if they repeat a guess, or guesses something that isn't valid."
   ]
  },
  {
   "cell_type": "code",
   "execution_count": null,
   "id": "47a85d7e",
   "metadata": {
    "execution": {
     "iopub.execute_input": "2023-10-23T01:58:09.101535Z",
     "iopub.status.busy": "2023-10-23T01:58:09.100945Z",
     "iopub.status.idle": "2023-10-23T01:58:09.106463Z",
     "shell.execute_reply": "2023-10-23T01:58:09.105435Z"
    }
   },
   "outputs": [],
   "source": [
    "states = set([ 'AK', 'AL', 'AR', 'AZ', 'CA', 'CO', 'CT', 'DE', 'FL', 'GA',\n",
    "           'HI', 'IA', 'ID', 'IL', 'IN', 'KS', 'KY', 'LA', 'MA', 'MD', 'ME',\n",
    "           'MI', 'MN', 'MO', 'MS', 'MT', 'NC', 'ND', 'NE', 'NH', 'NJ', 'NM',\n",
    "           'NV', 'NY', 'OH', 'OK', 'OR', 'PA', 'RI', 'SC', 'SD', 'TN', 'TX',\n",
    "           'UT', 'VA', 'VT', 'WA', 'WI', 'WV', 'WY'])"
   ]
  },
  {
   "cell_type": "code",
   "execution_count": null,
   "id": "8e5e3add",
   "metadata": {
    "execution": {
     "iopub.execute_input": "2023-10-23T01:58:09.112245Z",
     "iopub.status.busy": "2023-10-23T01:58:09.111784Z",
     "iopub.status.idle": "2023-10-23T01:58:09.155481Z",
     "shell.execute_reply": "2023-10-23T01:58:09.154241Z"
    },
    "slideshow": {
     "slide_type": "subslide"
    },
    "tags": [
     "remove-output"
    ]
   },
   "outputs": [],
   "source": [
    "states = set([ 'AK', 'AL', 'AR', 'AZ', 'CA', 'CO', 'CT', 'DE', 'FL', 'GA',\n",
    "           'HI', 'IA', 'ID', 'IL', 'IN', 'KS', 'KY', 'LA', 'MA', 'MD', 'ME',\n",
    "           'MI', 'MN', 'MO', 'MS', 'MT', 'NC', 'ND', 'NE', 'NH', 'NJ', 'NM',\n",
    "           'NV', 'NY', 'OH', 'OK', 'OR', 'PA', 'RI', 'SC', 'SD', 'TN', 'TX',\n",
    "           'UT', 'VA', 'VT', 'WA', 'WI', 'WV', 'WY'])\n",
    "guesses = set()\n",
    "\n",
    "print(\"Guess all 50 US state postal abbreviations, without repeating.\")\n",
    "while True:\n",
    "    print(\"Guess? \")\n",
    "    answer = input()\n",
    "    if answer in guesses:\n",
    "        print(f\"You already guessed {answer}!\")\n",
    "        break\n",
    "    if answer not in states:\n",
    "        print(f\"{answer} is not a valid postal code!\")\n",
    "        break\n",
    "    guesses.add(answer)\n",
    "    if guesses == states:\n",
    "        print(\"You win!\")\n",
    "        break\n",
    "    print(f\"You've guessed {len(guesses)}/{len(states)} so far.\")"
   ]
  }
 ],
 "metadata": {
  "celltoolbar": "Slideshow",
  "kernelspec": {
   "display_name": "Python 3 (ipykernel)",
   "language": "python",
   "name": "python3"
  },
  "language_info": {
   "codemirror_mode": {
    "name": "ipython",
    "version": 3
   },
   "file_extension": ".py",
   "mimetype": "text/x-python",
   "name": "python",
   "nbconvert_exporter": "python",
   "pygments_lexer": "ipython3",
   "version": "3.10.9"
  }
 },
 "nbformat": 4,
 "nbformat_minor": 5
}
