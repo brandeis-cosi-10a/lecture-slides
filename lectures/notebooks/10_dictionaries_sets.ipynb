{
 "cells": [
  {
   "cell_type": "markdown",
   "id": "1ee8a1d2",
   "metadata": {
    "slideshow": {
     "slide_type": "slide"
    }
   },
   "source": [
    "# Dictionaries and Sets\n",
    "\n",
    "<style>\n",
    "section.present > section.present { \n",
    "    max-height: 90%; \n",
    "    overflow-y: scroll;\n",
    "}\n",
    "</style>\n",
    "\n",
    "<small><a href=\"https://colab.research.google.com/github/brandeis-jdelfino/cosi-10a/blob/main/lectures/notebooks/10_dictionaries_sets.ipynb\">Link to interactive slides on Google Colab</a></small>"
   ]
  },
  {
   "cell_type": "markdown",
   "id": "84bdae82",
   "metadata": {
    "slideshow": {
     "slide_type": "slide"
    }
   },
   "source": [
    "## Announcements\n",
    "\n",
    "* PS2 grades are in LATTE, reach out to me with questions\n",
    "* PS3 due Sunday 11:59pm; don't count on availability of help over the weekend\n",
    "* PS3 guidance: Read the instructions carefully! In some problems, **especially Pig Latin**, the provided test cases don't cover every possible situation. \n",
    "   * You are required to add unit tests for Vowel Filter, but you are free to add them to other problems if it is helpful."
   ]
  },
  {
   "cell_type": "markdown",
   "id": "ecf7cb81",
   "metadata": {
    "slideshow": {
     "slide_type": "slide"
    }
   },
   "source": [
    "In the next 2 lectures, we'll cover the last 2 widely used data types in Python:\n",
    "* Dictionaries: mappings from keys to values\n",
    "* Sets: Unordered lists of unique values"
   ]
  },
  {
   "cell_type": "markdown",
   "id": "cf21df57",
   "metadata": {
    "slideshow": {
     "slide_type": "slide"
    }
   },
   "source": [
    "## The exercise Exercise, revisited\n",
    "\n",
    "We had 2 \"parallel lists\": names, and lists of which days those characters exercised. We used `zip` to iterate over them together."
   ]
  },
  {
   "cell_type": "code",
   "execution_count": null,
   "id": "61e4ff79",
   "metadata": {
    "execution": {
     "iopub.execute_input": "2023-10-20T00:51:53.333787Z",
     "iopub.status.busy": "2023-10-20T00:51:53.333427Z",
     "iopub.status.idle": "2023-10-20T00:51:53.347565Z",
     "shell.execute_reply": "2023-10-20T00:51:53.346565Z"
    }
   },
   "outputs": [],
   "source": [
    "names = [\"Spongebob\", \"Batman\", \"Dora\", \"Peppa\", \"Bill Murray\"]\n",
    "data = [\n",
    "    [1, 7, 15, 31],\n",
    "    [2, 21],\n",
    "    [5],\n",
    "    [1, 3, 5, 7, 9, 11, 13, 15, 17, 19, 21, 23, 25, 27, 29],\n",
    "    [1, 2, 3, 4, 5, 6]\n",
    "]\n",
    "\n",
    "most = 0\n",
    "most_name = \"\"\n",
    "for (name, dates) in zip(names, data):\n",
    "    if len(dates) > most:\n",
    "        most = len(dates)\n",
    "        most_name = name\n",
    "print(f\"{most_name} exercised the most, with {most} days of exercise!\")"
   ]
  },
  {
   "cell_type": "markdown",
   "id": "b1a36898",
   "metadata": {
    "slideshow": {
     "slide_type": "subslide"
    }
   },
   "source": [
    "**Dictionaries** are a better data structure for this type of data. They map **keys** (names) to **values** (list of exercise dates).\n",
    "\n",
    "Here's how that example would look with a dictionary."
   ]
  },
  {
   "cell_type": "code",
   "execution_count": null,
   "id": "182868ec",
   "metadata": {
    "execution": {
     "iopub.execute_input": "2023-10-20T00:51:53.351866Z",
     "iopub.status.busy": "2023-10-20T00:51:53.351548Z",
     "iopub.status.idle": "2023-10-20T00:51:53.357989Z",
     "shell.execute_reply": "2023-10-20T00:51:53.357211Z"
    }
   },
   "outputs": [],
   "source": [
    "data = {\n",
    "    \"Spongebob\": [1, 7, 15, 31],\n",
    "    \"Batman\": [2, 21],\n",
    "    \"Dora\": [5],\n",
    "    \"Peppa\": [1, 3, 5, 7, 9, 11, 13, 15, 17, 19, 21, 23, 25, 27, 29],\n",
    "    \"Bill Murray\": [1, 2, 3, 4, 5, 6]\n",
    "}\n",
    "\n",
    "most = 0\n",
    "most_name = \"\"\n",
    "for name in data:\n",
    "    if len(data[name]) > most:\n",
    "        most = len(data[name])\n",
    "        most_name = name\n",
    "print(f\"{most_name} exercised the most, with {most} days of exercise!\")"
   ]
  },
  {
   "cell_type": "markdown",
   "id": "e5a1eba7",
   "metadata": {
    "slideshow": {
     "slide_type": "slide"
    }
   },
   "source": [
    "# Creating dictionaries\n",
    "\n",
    "Dictionaries are created and represented with curly brackets: `{` and `}`."
   ]
  },
  {
   "cell_type": "code",
   "execution_count": null,
   "id": "3854a0d5",
   "metadata": {
    "execution": {
     "iopub.execute_input": "2023-10-20T00:51:53.361931Z",
     "iopub.status.busy": "2023-10-20T00:51:53.361544Z",
     "iopub.status.idle": "2023-10-20T00:51:53.366265Z",
     "shell.execute_reply": "2023-10-20T00:51:53.365479Z"
    }
   },
   "outputs": [],
   "source": [
    "distances_from_boston = {\n",
    "    \"NY, NY\": 216,\n",
    "    \"Portland, ME\": 110,\n",
    "    \"San Francisco, CA\": 2692,\n",
    "    \"Auckland, NZ\": 9002\n",
    "}\n",
    "print(distances_from_boston)"
   ]
  },
  {
   "cell_type": "markdown",
   "id": "8fc12d73",
   "metadata": {},
   "source": [
    "`distances_from_boston` holds 4 key/value pairs. All the keys are strings, all the values are integers. Keys can be any **immutable** type and values can be any type."
   ]
  },
  {
   "cell_type": "code",
   "execution_count": null,
   "id": "c39b73a4",
   "metadata": {
    "execution": {
     "iopub.execute_input": "2023-10-20T00:51:53.370332Z",
     "iopub.status.busy": "2023-10-20T00:51:53.370011Z",
     "iopub.status.idle": "2023-10-20T00:51:53.374587Z",
     "shell.execute_reply": "2023-10-20T00:51:53.373881Z"
    },
    "slideshow": {
     "slide_type": "subslide"
    }
   },
   "outputs": [],
   "source": [
    "x = {}\n",
    "print(x)"
   ]
  },
  {
   "cell_type": "markdown",
   "id": "2fab010b",
   "metadata": {},
   "source": [
    "`x` is an empty dictionary."
   ]
  },
  {
   "cell_type": "markdown",
   "id": "77391a05",
   "metadata": {
    "slideshow": {
     "slide_type": "subslide"
    }
   },
   "source": [
    "Dictionary keys are unique. The same key can't appear more than once in a dictionary."
   ]
  },
  {
   "cell_type": "code",
   "execution_count": null,
   "id": "f2aea045",
   "metadata": {
    "execution": {
     "iopub.execute_input": "2023-10-20T00:51:53.378585Z",
     "iopub.status.busy": "2023-10-20T00:51:53.378061Z",
     "iopub.status.idle": "2023-10-20T00:51:53.382687Z",
     "shell.execute_reply": "2023-10-20T00:51:53.381970Z"
    }
   },
   "outputs": [],
   "source": [
    "distances_from_boston = {\n",
    "    \"NY, NY\": 216,\n",
    "    \"NY, NY\": 110,\n",
    "    \"San Francisco, CA\": 2692,\n",
    "    \"Auckland, NZ\": 9002\n",
    "}\n",
    "print(distances_from_boston)"
   ]
  },
  {
   "cell_type": "markdown",
   "id": "a147ad39",
   "metadata": {},
   "source": [
    "The first `NY, NY` value (`216`) was overwritten by the second (`110`) "
   ]
  },
  {
   "cell_type": "markdown",
   "id": "ab100c46",
   "metadata": {
    "slideshow": {
     "slide_type": "slide"
    }
   },
   "source": [
    "## Accessing dictionary elements\n",
    "\n",
    "Dictionaries are accessed using the same bracket notation (`[]`) as lists, but with keys instead of indices."
   ]
  },
  {
   "cell_type": "code",
   "execution_count": null,
   "id": "0f15b8d4",
   "metadata": {
    "execution": {
     "iopub.execute_input": "2023-10-20T00:51:53.386462Z",
     "iopub.status.busy": "2023-10-20T00:51:53.386145Z",
     "iopub.status.idle": "2023-10-20T00:51:53.390347Z",
     "shell.execute_reply": "2023-10-20T00:51:53.389710Z"
    }
   },
   "outputs": [],
   "source": [
    "number_words = {\n",
    "    \"one\": 1,\n",
    "    \"four\": 4,\n",
    "    \"one hundred\": 100\n",
    "}\n",
    "print(number_words[\"four\"])"
   ]
  },
  {
   "cell_type": "code",
   "execution_count": null,
   "id": "6cf994b8",
   "metadata": {
    "execution": {
     "iopub.execute_input": "2023-10-20T00:51:53.393395Z",
     "iopub.status.busy": "2023-10-20T00:51:53.393135Z",
     "iopub.status.idle": "2023-10-20T00:51:53.396914Z",
     "shell.execute_reply": "2023-10-20T00:51:53.395944Z"
    }
   },
   "outputs": [],
   "source": [
    "print(number_words[\"one \" + \"hundred\"])"
   ]
  },
  {
   "cell_type": "markdown",
   "id": "53fe4581",
   "metadata": {
    "slideshow": {
     "slide_type": "subslide"
    }
   },
   "source": [
    "Accessing an element that doesn't exist generates an error"
   ]
  },
  {
   "cell_type": "code",
   "execution_count": null,
   "id": "8dbedcb5",
   "metadata": {
    "execution": {
     "iopub.execute_input": "2023-10-20T00:51:53.400585Z",
     "iopub.status.busy": "2023-10-20T00:51:53.400209Z",
     "iopub.status.idle": "2023-10-20T00:51:53.725791Z",
     "shell.execute_reply": "2023-10-20T00:51:53.724839Z"
    }
   },
   "outputs": [],
   "source": [
    "print(number_words[2])"
   ]
  },
  {
   "cell_type": "markdown",
   "id": "d5291d6f",
   "metadata": {
    "slideshow": {
     "slide_type": "subslide"
    }
   },
   "source": [
    "You can use the `.get()` method if you want to access an element that may not exist."
   ]
  },
  {
   "cell_type": "code",
   "execution_count": null,
   "id": "17a069b4",
   "metadata": {
    "execution": {
     "iopub.execute_input": "2023-10-20T00:51:53.730001Z",
     "iopub.status.busy": "2023-10-20T00:51:53.729705Z",
     "iopub.status.idle": "2023-10-20T00:51:53.733443Z",
     "shell.execute_reply": "2023-10-20T00:51:53.732671Z"
    }
   },
   "outputs": [],
   "source": [
    "number_words = {\n",
    "    \"one\": 1,\n",
    "    \"four\": 4,\n",
    "    \"one hundred\": 100\n",
    "}\n",
    "print(number_words.get(\"one\"))"
   ]
  },
  {
   "cell_type": "code",
   "execution_count": null,
   "id": "20058424",
   "metadata": {
    "execution": {
     "iopub.execute_input": "2023-10-20T00:51:53.736685Z",
     "iopub.status.busy": "2023-10-20T00:51:53.736406Z",
     "iopub.status.idle": "2023-10-20T00:51:53.739894Z",
     "shell.execute_reply": "2023-10-20T00:51:53.739268Z"
    }
   },
   "outputs": [],
   "source": [
    "print(number_words.get(\"two\"))"
   ]
  },
  {
   "cell_type": "markdown",
   "id": "5d8928fe",
   "metadata": {},
   "source": [
    "`get()` takes an optional argument the specifies the value to use if the key isn't found in the dictionary."
   ]
  },
  {
   "cell_type": "code",
   "execution_count": null,
   "id": "5d2899b9",
   "metadata": {
    "execution": {
     "iopub.execute_input": "2023-10-20T00:51:53.744060Z",
     "iopub.status.busy": "2023-10-20T00:51:53.743635Z",
     "iopub.status.idle": "2023-10-20T00:51:53.749258Z",
     "shell.execute_reply": "2023-10-20T00:51:53.747949Z"
    }
   },
   "outputs": [],
   "source": [
    "print(number_words.get(\"two\", \"unknown\"))"
   ]
  },
  {
   "cell_type": "markdown",
   "id": "f0e6954c",
   "metadata": {
    "slideshow": {
     "slide_type": "subslide"
    }
   },
   "source": [
    "You can check for the existince of a key with `in` (similar to lists and other sequences)"
   ]
  },
  {
   "cell_type": "code",
   "execution_count": null,
   "id": "eab3bf28",
   "metadata": {
    "execution": {
     "iopub.execute_input": "2023-10-20T00:51:53.755154Z",
     "iopub.status.busy": "2023-10-20T00:51:53.754543Z",
     "iopub.status.idle": "2023-10-20T00:51:53.759745Z",
     "shell.execute_reply": "2023-10-20T00:51:53.758366Z"
    }
   },
   "outputs": [],
   "source": [
    "number_words = {\n",
    "    \"one\": 1,\n",
    "    \"four\": 4,\n",
    "    \"one hundred\": 100\n",
    "}\n",
    "print(\"one\" in number_words)\n",
    "print(1 in number_words)"
   ]
  },
  {
   "cell_type": "code",
   "execution_count": null,
   "id": "d559277d",
   "metadata": {
    "execution": {
     "iopub.execute_input": "2023-10-20T00:51:53.764782Z",
     "iopub.status.busy": "2023-10-20T00:51:53.764455Z",
     "iopub.status.idle": "2023-10-20T00:51:53.775824Z",
     "shell.execute_reply": "2023-10-20T00:51:53.774112Z"
    }
   },
   "outputs": [],
   "source": [
    "\"ten\" in number_words"
   ]
  },
  {
   "cell_type": "markdown",
   "id": "bff0954d",
   "metadata": {
    "slideshow": {
     "slide_type": "slide"
    }
   },
   "source": [
    "## Modifying dictionaries\n",
    "\n",
    "Assigning a value to a key adds a key/value pair to the dictionary if the key doesn't already exist. If the key does already exist, the value for that key is updated."
   ]
  },
  {
   "cell_type": "code",
   "execution_count": null,
   "id": "6a2bbdc1",
   "metadata": {
    "execution": {
     "iopub.execute_input": "2023-10-20T00:51:53.780854Z",
     "iopub.status.busy": "2023-10-20T00:51:53.780484Z",
     "iopub.status.idle": "2023-10-20T00:51:53.786438Z",
     "shell.execute_reply": "2023-10-20T00:51:53.785494Z"
    }
   },
   "outputs": [],
   "source": [
    "number_preferences = {\n",
    "    1.5: False,\n",
    "    2.7: True,\n",
    "    3.9: False\n",
    "}\n",
    "print(number_preferences)"
   ]
  },
  {
   "cell_type": "code",
   "execution_count": null,
   "id": "23ccb5a9",
   "metadata": {
    "execution": {
     "iopub.execute_input": "2023-10-20T00:51:53.790228Z",
     "iopub.status.busy": "2023-10-20T00:51:53.789906Z",
     "iopub.status.idle": "2023-10-20T00:51:53.794757Z",
     "shell.execute_reply": "2023-10-20T00:51:53.794048Z"
    }
   },
   "outputs": [],
   "source": [
    "number_preferences[4.0] = \"yes\"\n",
    "print(number_preferences)"
   ]
  },
  {
   "cell_type": "code",
   "execution_count": null,
   "id": "fe046ee6",
   "metadata": {
    "execution": {
     "iopub.execute_input": "2023-10-20T00:51:53.798404Z",
     "iopub.status.busy": "2023-10-20T00:51:53.798105Z",
     "iopub.status.idle": "2023-10-20T00:51:53.802692Z",
     "shell.execute_reply": "2023-10-20T00:51:53.801987Z"
    }
   },
   "outputs": [],
   "source": [
    "number_preferences[1.5] = \"no\"\n",
    "print(number_preferences)"
   ]
  },
  {
   "cell_type": "markdown",
   "id": "f7c428d4",
   "metadata": {
    "slideshow": {
     "slide_type": "subslide"
    }
   },
   "source": [
    "You can delete from a dictionary using the `del` keyword."
   ]
  },
  {
   "cell_type": "code",
   "execution_count": null,
   "id": "db9b069b",
   "metadata": {
    "execution": {
     "iopub.execute_input": "2023-10-20T00:51:53.806165Z",
     "iopub.status.busy": "2023-10-20T00:51:53.805860Z",
     "iopub.status.idle": "2023-10-20T00:51:53.810836Z",
     "shell.execute_reply": "2023-10-20T00:51:53.810139Z"
    }
   },
   "outputs": [],
   "source": [
    "stats = {\n",
    "    \"height\": 67,\n",
    "    \"weight\": 140,\n",
    "    \"eye color\": \"blue\",\n",
    "    \"dominant hand\": \"left\"\n",
    "}\n",
    "print(stats)\n",
    "del stats[\"weight\"]\n",
    "print(stats)"
   ]
  },
  {
   "cell_type": "markdown",
   "id": "9ea32f85",
   "metadata": {
    "slideshow": {
     "slide_type": "slide"
    }
   },
   "source": [
    "## Iterating over dictionaries\n",
    "\n",
    "You can use for loops to iterate over the keys in a dictionary"
   ]
  },
  {
   "cell_type": "code",
   "execution_count": null,
   "id": "ca141bab",
   "metadata": {
    "execution": {
     "iopub.execute_input": "2023-10-20T00:51:53.814092Z",
     "iopub.status.busy": "2023-10-20T00:51:53.813820Z",
     "iopub.status.idle": "2023-10-20T00:51:53.818579Z",
     "shell.execute_reply": "2023-10-20T00:51:53.817754Z"
    }
   },
   "outputs": [],
   "source": [
    "stats = {\n",
    "    \"height\": 67,\n",
    "    \"weight\": 140,\n",
    "    \"eye color\": \"blue\",\n",
    "    \"dominant hand\": \"left\"\n",
    "}\n",
    "for statname in stats:\n",
    "    print(f\"My {statname} is {stats[statname]}\")"
   ]
  },
  {
   "cell_type": "markdown",
   "id": "a84afaaa",
   "metadata": {
    "slideshow": {
     "slide_type": "subslide"
    }
   },
   "source": [
    "You can also iterate over key/value pairs with the `.items()` method."
   ]
  },
  {
   "cell_type": "code",
   "execution_count": null,
   "id": "43e533f0",
   "metadata": {
    "execution": {
     "iopub.execute_input": "2023-10-20T00:51:53.821893Z",
     "iopub.status.busy": "2023-10-20T00:51:53.821609Z",
     "iopub.status.idle": "2023-10-20T00:51:53.825990Z",
     "shell.execute_reply": "2023-10-20T00:51:53.825272Z"
    }
   },
   "outputs": [],
   "source": [
    "stats = {\n",
    "    \"height\": 67,\n",
    "    \"weight\": 140,\n",
    "    \"eye color\": \"blue\",\n",
    "    \"dominant hand\": \"left\"\n",
    "}\n",
    "#print(list(stats.items()))\n",
    "for (key, value) in stats.items():\n",
    "    print(f\"My {key} is {value}\")\n",
    "#for key in stats:\n",
    "#    print(f\"My {key} is {stats[key]}\"))"
   ]
  },
  {
   "cell_type": "markdown",
   "id": "dc53395a",
   "metadata": {
    "slideshow": {
     "slide_type": "subslide"
    }
   },
   "source": [
    "`.items()` produces the keys/values as 2-tuples:"
   ]
  },
  {
   "cell_type": "code",
   "execution_count": null,
   "id": "dc138160",
   "metadata": {
    "execution": {
     "iopub.execute_input": "2023-10-20T00:51:53.829406Z",
     "iopub.status.busy": "2023-10-20T00:51:53.829116Z",
     "iopub.status.idle": "2023-10-20T00:51:53.834931Z",
     "shell.execute_reply": "2023-10-20T00:51:53.834243Z"
    }
   },
   "outputs": [],
   "source": [
    "list(stats.items())"
   ]
  },
  {
   "cell_type": "markdown",
   "id": "61bd003a",
   "metadata": {},
   "source": [
    "Our `for` loop used value unpacking - each key from `.items()` is unpacked into `statname`, and each value is unpacke into `value`:"
   ]
  },
  {
   "cell_type": "code",
   "execution_count": null,
   "id": "6c7b7fdf",
   "metadata": {
    "execution": {
     "iopub.execute_input": "2023-10-20T00:51:53.838244Z",
     "iopub.status.busy": "2023-10-20T00:51:53.837953Z",
     "iopub.status.idle": "2023-10-20T00:51:53.841572Z",
     "shell.execute_reply": "2023-10-20T00:51:53.840976Z"
    }
   },
   "outputs": [],
   "source": [
    "for statname, value in stats.items():\n",
    "    print(f\"My {statname} is {value}\")"
   ]
  },
  {
   "cell_type": "markdown",
   "id": "f053cd68",
   "metadata": {
    "slideshow": {
     "slide_type": "slide"
    }
   },
   "source": [
    "## Exercise\n",
    "\n",
    "Write a function to keep track of personal high scores for everyone who plays a game: `record_attempt(name, new_score, scores)`, where:\n",
    "* `name` is a string\n",
    "* `new_score` is an int\n",
    "* `scores` is a dictionary where the keys are names, and the value is the best score for a name\n",
    "* `record_attempt()` should modify `scores` in place"
   ]
  },
  {
   "cell_type": "code",
   "execution_count": null,
   "id": "b25ae039",
   "metadata": {
    "execution": {
     "iopub.execute_input": "2023-10-20T00:51:53.845038Z",
     "iopub.status.busy": "2023-10-20T00:51:53.844584Z",
     "iopub.status.idle": "2023-10-20T00:51:53.848096Z",
     "shell.execute_reply": "2023-10-20T00:51:53.847350Z"
    }
   },
   "outputs": [],
   "source": [
    "def record_attempt(name, new_score, scores):\n",
    "    # ???\n",
    "    return"
   ]
  },
  {
   "cell_type": "code",
   "execution_count": null,
   "id": "9ec62ab3",
   "metadata": {
    "execution": {
     "iopub.execute_input": "2023-10-20T00:51:53.851283Z",
     "iopub.status.busy": "2023-10-20T00:51:53.851019Z",
     "iopub.status.idle": "2023-10-20T00:51:53.854292Z",
     "shell.execute_reply": "2023-10-20T00:51:53.853689Z"
    },
    "slideshow": {
     "slide_type": "subslide"
    }
   },
   "outputs": [],
   "source": [
    "# attempt 1\n",
    "def record_attempt(name, new_score, scores):\n",
    "    if new_score > scores[name]:\n",
    "        scores[name] = new_score"
   ]
  },
  {
   "cell_type": "code",
   "execution_count": null,
   "id": "1e5650f8",
   "metadata": {
    "execution": {
     "iopub.execute_input": "2023-10-20T00:51:53.858553Z",
     "iopub.status.busy": "2023-10-20T00:51:53.858250Z",
     "iopub.status.idle": "2023-10-20T00:51:53.880636Z",
     "shell.execute_reply": "2023-10-20T00:51:53.879914Z"
    },
    "tags": [
     "raises-exception"
    ]
   },
   "outputs": [],
   "source": [
    "scores = {}\n",
    "record_attempt(\"Batman\", 100, scores)\n",
    "print(scores)"
   ]
  },
  {
   "cell_type": "markdown",
   "id": "3cf810ee",
   "metadata": {
    "slideshow": {
     "slide_type": "subslide"
    }
   },
   "source": [
    "We can't use `[]` to check the existing score, because the name might not be in there yet."
   ]
  },
  {
   "cell_type": "code",
   "execution_count": null,
   "id": "b74fc415",
   "metadata": {
    "execution": {
     "iopub.execute_input": "2023-10-20T00:51:53.884237Z",
     "iopub.status.busy": "2023-10-20T00:51:53.883698Z",
     "iopub.status.idle": "2023-10-20T00:51:53.887559Z",
     "shell.execute_reply": "2023-10-20T00:51:53.886921Z"
    },
    "slideshow": {
     "slide_type": "subslide"
    }
   },
   "outputs": [],
   "source": [
    "# attempt 2 (correct)\n",
    "def record_attempt(name, new_score, scores):\n",
    "    if name not in scores:\n",
    "        scores[name] = new_score\n",
    "    elif scores[name] < new_score:\n",
    "        scores[name] = new_score\n",
    "        \n",
    "    #if new_score > scores.get(name, 0):\n",
    "    #    scores[name] = new_score"
   ]
  },
  {
   "cell_type": "code",
   "execution_count": null,
   "id": "3280b0da",
   "metadata": {
    "execution": {
     "iopub.execute_input": "2023-10-20T00:51:53.890805Z",
     "iopub.status.busy": "2023-10-20T00:51:53.890532Z",
     "iopub.status.idle": "2023-10-20T00:51:53.894274Z",
     "shell.execute_reply": "2023-10-20T00:51:53.893570Z"
    }
   },
   "outputs": [],
   "source": [
    "scores = {}\n",
    "record_attempt(\"Batman\", 100, scores)\n",
    "print(scores)"
   ]
  },
  {
   "cell_type": "code",
   "execution_count": null,
   "id": "78beb8ae",
   "metadata": {
    "execution": {
     "iopub.execute_input": "2023-10-20T00:51:53.897645Z",
     "iopub.status.busy": "2023-10-20T00:51:53.897364Z",
     "iopub.status.idle": "2023-10-20T00:51:53.901961Z",
     "shell.execute_reply": "2023-10-20T00:51:53.901322Z"
    }
   },
   "outputs": [],
   "source": [
    "scores = {}\n",
    "record_attempt(\"Batman\", 100, scores)\n",
    "record_attempt(\"Superman\", 10, scores)\n",
    "record_attempt(\"Spongebob\", 50, scores)\n",
    "record_attempt(\"Spiderman\", 1, scores)\n",
    "record_attempt(\"Spiderman\", 11, scores)\n",
    "record_attempt(\"Spiderman\", 110, scores)\n",
    "print(scores)"
   ]
  },
  {
   "cell_type": "markdown",
   "id": "d18e05aa",
   "metadata": {
    "slideshow": {
     "slide_type": "slide"
    }
   },
   "source": [
    "# [Slido](https://wall.sli.do/event/h4FwBMY6vLLm4qKujQS37V?section=53bf946d-921c-4bda-8f4f-0e7fa6363572)"
   ]
  },
  {
   "cell_type": "markdown",
   "id": "9d371d7c",
   "metadata": {
    "slideshow": {
     "slide_type": "subslide"
    }
   },
   "source": [
    "## Exercise\n",
    "\n",
    "Write a function that prints the person with the highest overall score: `print_winner(scores)`"
   ]
  },
  {
   "cell_type": "code",
   "execution_count": null,
   "id": "6bd7b29a",
   "metadata": {
    "execution": {
     "iopub.execute_input": "2023-10-20T00:51:53.905284Z",
     "iopub.status.busy": "2023-10-20T00:51:53.905003Z",
     "iopub.status.idle": "2023-10-20T00:51:53.908965Z",
     "shell.execute_reply": "2023-10-20T00:51:53.908302Z"
    }
   },
   "outputs": [],
   "source": [
    "# attempt 1\n",
    "def print_winner(scores):\n",
    "    best_score = 0\n",
    "    best_player = \"\"\n",
    "    for player, score in scores.items():\n",
    "        if score > best_score:\n",
    "            best_score = score\n",
    "            best_player = player\n",
    "    print(f\"Congratulations, {player}, you win with {score} points!\")"
   ]
  },
  {
   "cell_type": "code",
   "execution_count": null,
   "id": "17fecd2a",
   "metadata": {
    "execution": {
     "iopub.execute_input": "2023-10-20T00:51:53.912008Z",
     "iopub.status.busy": "2023-10-20T00:51:53.911753Z",
     "iopub.status.idle": "2023-10-20T00:51:53.916125Z",
     "shell.execute_reply": "2023-10-20T00:51:53.915341Z"
    }
   },
   "outputs": [],
   "source": [
    "scores = {}\n",
    "record_attempt(\"Batman\", 100, scores)\n",
    "record_attempt(\"Superman\", 10, scores)\n",
    "record_attempt(\"Spongebob\", 50, scores)\n",
    "record_attempt(\"Spiderman\", 1, scores)\n",
    "record_attempt(\"Spiderman\", 11, scores)\n",
    "record_attempt(\"Spiderman\", 110, scores)\n",
    "print_winner(scores)"
   ]
  },
  {
   "cell_type": "markdown",
   "id": "1e956111",
   "metadata": {
    "slideshow": {
     "slide_type": "subslide"
    }
   },
   "source": [
    "That output looks correct... but can you spot the bug?"
   ]
  },
  {
   "cell_type": "code",
   "execution_count": null,
   "id": "ce18d9ec",
   "metadata": {
    "execution": {
     "iopub.execute_input": "2023-10-20T00:51:53.919164Z",
     "iopub.status.busy": "2023-10-20T00:51:53.918876Z",
     "iopub.status.idle": "2023-10-20T00:51:53.922659Z",
     "shell.execute_reply": "2023-10-20T00:51:53.922072Z"
    }
   },
   "outputs": [],
   "source": [
    "# attempt 1\n",
    "def print_winner(scores):\n",
    "    best_score = 0\n",
    "    best_player = \"\"\n",
    "    for player, score in scores.items():\n",
    "        if score > best_score:\n",
    "            best_score = score\n",
    "            best_player = player \n",
    "    print(f\"Congratulations, {player}, you win with {score} points!\")"
   ]
  },
  {
   "cell_type": "code",
   "execution_count": null,
   "id": "526e7e17",
   "metadata": {
    "execution": {
     "iopub.execute_input": "2023-10-20T00:51:53.925831Z",
     "iopub.status.busy": "2023-10-20T00:51:53.925528Z",
     "iopub.status.idle": "2023-10-20T00:51:53.929746Z",
     "shell.execute_reply": "2023-10-20T00:51:53.929092Z"
    },
    "slideshow": {
     "slide_type": "fragment"
    }
   },
   "outputs": [],
   "source": [
    "scores = {}\n",
    "record_attempt(\"Batman\", 150, scores)\n",
    "record_attempt(\"Spongebob\", 50, scores)\n",
    "record_attempt(\"Spiderman\", 1, scores)\n",
    "record_attempt(\"Spiderman\", 11, scores)\n",
    "record_attempt(\"Spiderman\", 110, scores)\n",
    "record_attempt(\"Superman\", 10, scores)\n",
    "print_winner(scores)"
   ]
  },
  {
   "cell_type": "markdown",
   "id": "ae847962",
   "metadata": {},
   "source": [
    "We printed the wrong variables at the end! This is a common type of error - make sure you test your code with a variety of inputs!"
   ]
  },
  {
   "cell_type": "code",
   "execution_count": null,
   "id": "c3676c09",
   "metadata": {
    "execution": {
     "iopub.execute_input": "2023-10-20T00:51:53.933123Z",
     "iopub.status.busy": "2023-10-20T00:51:53.932848Z",
     "iopub.status.idle": "2023-10-20T00:51:53.936804Z",
     "shell.execute_reply": "2023-10-20T00:51:53.936122Z"
    },
    "slideshow": {
     "slide_type": "subslide"
    }
   },
   "outputs": [],
   "source": [
    "# attempt 2 (correct)\n",
    "def print_winner(scores):\n",
    "    best_score = 0\n",
    "    best_player = \"\"\n",
    "    for player, score in scores.items():\n",
    "        if score > best_score:\n",
    "            best_score = score\n",
    "            best_player = player\n",
    "    print(f\"Congratulations, {best_player}, you win with {best_score} points!\")"
   ]
  },
  {
   "cell_type": "code",
   "execution_count": null,
   "id": "81f99fca",
   "metadata": {
    "execution": {
     "iopub.execute_input": "2023-10-20T00:51:53.940073Z",
     "iopub.status.busy": "2023-10-20T00:51:53.939796Z",
     "iopub.status.idle": "2023-10-20T00:51:53.944489Z",
     "shell.execute_reply": "2023-10-20T00:51:53.943752Z"
    },
    "slideshow": {
     "slide_type": "fragment"
    }
   },
   "outputs": [],
   "source": [
    "scores = {}\n",
    "record_attempt(\"Batman\", 150, scores)\n",
    "record_attempt(\"Superman\", 10, scores)\n",
    "record_attempt(\"Spongebob\", 50, scores)\n",
    "record_attempt(\"Spiderman\", 1, scores)\n",
    "record_attempt(\"Spiderman\", 11, scores)\n",
    "record_attempt(\"Spiderman\", 110, scores)\n",
    "print_winner(scores)"
   ]
  },
  {
   "cell_type": "markdown",
   "id": "249bfeb7",
   "metadata": {
    "slideshow": {
     "slide_type": "subslide"
    }
   },
   "source": [
    "## Exercise\n",
    "\n",
    "Write a function that takes a string, and returns a dictionary representing the unique words in the string, and the number of times each word occurred."
   ]
  },
  {
   "cell_type": "code",
   "execution_count": null,
   "id": "757ecb85",
   "metadata": {
    "execution": {
     "iopub.execute_input": "2023-10-20T00:51:53.947809Z",
     "iopub.status.busy": "2023-10-20T00:51:53.947545Z",
     "iopub.status.idle": "2023-10-20T00:51:53.950887Z",
     "shell.execute_reply": "2023-10-20T00:51:53.950208Z"
    },
    "slideshow": {
     "slide_type": "subslide"
    }
   },
   "outputs": [],
   "source": [
    "def count_words(word_string):\n",
    "    # ???\n",
    "    return {}"
   ]
  },
  {
   "cell_type": "code",
   "execution_count": null,
   "id": "495abde5",
   "metadata": {
    "execution": {
     "iopub.execute_input": "2023-10-20T00:51:53.956873Z",
     "iopub.status.busy": "2023-10-20T00:51:53.953842Z",
     "iopub.status.idle": "2023-10-20T00:51:53.960862Z",
     "shell.execute_reply": "2023-10-20T00:51:53.960128Z"
    },
    "slideshow": {
     "slide_type": "subslide"
    }
   },
   "outputs": [],
   "source": [
    "# attempt 1\n",
    "def count_words(word_string):\n",
    "    words = word_string.split()\n",
    "    counts = {}\n",
    "    for word in words:\n",
    "        counts[word] = counts[word] + 1\n",
    "    return counts"
   ]
  },
  {
   "cell_type": "code",
   "execution_count": null,
   "id": "dca8dd3b",
   "metadata": {
    "execution": {
     "iopub.execute_input": "2023-10-20T00:51:53.964130Z",
     "iopub.status.busy": "2023-10-20T00:51:53.963822Z",
     "iopub.status.idle": "2023-10-20T00:51:53.988088Z",
     "shell.execute_reply": "2023-10-20T00:51:53.987318Z"
    },
    "tags": [
     "raises-exception"
    ]
   },
   "outputs": [],
   "source": [
    "count_words(\"It was the best of times it was the worst of times it was the age of wisdom it was the age of foolishness\")"
   ]
  },
  {
   "cell_type": "markdown",
   "id": "85172442",
   "metadata": {
    "slideshow": {
     "slide_type": "subslide"
    }
   },
   "source": [
    "We need to handle the initial condition, where the word hasn't been found yet."
   ]
  },
  {
   "cell_type": "code",
   "execution_count": null,
   "id": "1f41ae33",
   "metadata": {
    "execution": {
     "iopub.execute_input": "2023-10-20T00:51:53.991436Z",
     "iopub.status.busy": "2023-10-20T00:51:53.991096Z",
     "iopub.status.idle": "2023-10-20T00:51:53.995504Z",
     "shell.execute_reply": "2023-10-20T00:51:53.994731Z"
    },
    "slideshow": {
     "slide_type": "-"
    }
   },
   "outputs": [],
   "source": [
    "# attempt 2\n",
    "def count_words(word_string):\n",
    "    words = word_string.split()\n",
    "    counts = {}\n",
    "    for word in words:\n",
    "        if word not in counts:\n",
    "            counts[word] = 1\n",
    "        else:\n",
    "            counts[word] = counts[word] + 1\n",
    "    return counts"
   ]
  },
  {
   "cell_type": "code",
   "execution_count": null,
   "id": "80f13cee",
   "metadata": {
    "execution": {
     "iopub.execute_input": "2023-10-20T00:51:53.998782Z",
     "iopub.status.busy": "2023-10-20T00:51:53.998413Z",
     "iopub.status.idle": "2023-10-20T00:51:54.003888Z",
     "shell.execute_reply": "2023-10-20T00:51:54.002914Z"
    },
    "tags": [
     "raises-exception"
    ]
   },
   "outputs": [],
   "source": [
    "count_words(\"It was the best of times it was the worst of times it was the age of wisdom it was the age of foolishness\")"
   ]
  },
  {
   "cell_type": "markdown",
   "id": "d4685ea7",
   "metadata": {
    "slideshow": {
     "slide_type": "subslide"
    }
   },
   "source": [
    "Whoops, looks like we have to deal with upper vs. lower case."
   ]
  },
  {
   "cell_type": "code",
   "execution_count": null,
   "id": "29d0c676",
   "metadata": {
    "execution": {
     "iopub.execute_input": "2023-10-20T00:51:54.007572Z",
     "iopub.status.busy": "2023-10-20T00:51:54.007196Z",
     "iopub.status.idle": "2023-10-20T00:51:54.011558Z",
     "shell.execute_reply": "2023-10-20T00:51:54.010851Z"
    },
    "slideshow": {
     "slide_type": "-"
    }
   },
   "outputs": [],
   "source": [
    "# attempt 3\n",
    "def count_words(word_string):\n",
    "    words = word_string.lower().split()\n",
    "    counts = {}\n",
    "    for word in words:\n",
    "        if word not in counts:\n",
    "            counts[word] = 1\n",
    "        else:\n",
    "            counts[word] = counts[word] + 1\n",
    "    return counts"
   ]
  },
  {
   "cell_type": "code",
   "execution_count": null,
   "id": "9d416a45",
   "metadata": {
    "execution": {
     "iopub.execute_input": "2023-10-20T00:51:54.015091Z",
     "iopub.status.busy": "2023-10-20T00:51:54.014781Z",
     "iopub.status.idle": "2023-10-20T00:51:54.021956Z",
     "shell.execute_reply": "2023-10-20T00:51:54.020391Z"
    },
    "tags": [
     "raises-exception"
    ]
   },
   "outputs": [],
   "source": [
    "count_words(\"It was the best of times it was the worst of times it was the age of wisdom it was the age of foolishness\")"
   ]
  },
  {
   "cell_type": "markdown",
   "id": "f6478b85",
   "metadata": {
    "slideshow": {
     "slide_type": "subslide"
    }
   },
   "source": [
    "That was perfectly good code! But we can make it a little cleaner using `get()`:"
   ]
  },
  {
   "cell_type": "code",
   "execution_count": null,
   "id": "cf794570",
   "metadata": {
    "execution": {
     "iopub.execute_input": "2023-10-20T00:51:54.029370Z",
     "iopub.status.busy": "2023-10-20T00:51:54.028833Z",
     "iopub.status.idle": "2023-10-20T00:51:54.036095Z",
     "shell.execute_reply": "2023-10-20T00:51:54.035188Z"
    }
   },
   "outputs": [],
   "source": [
    "# an alternative, using get()\n",
    "def count_words(word_string):\n",
    "    words = word_string.lower().split()\n",
    "    counts = {}\n",
    "    for word in words:\n",
    "        counts[word] = counts.get(word, 0) + 1\n",
    "    \n",
    "    sortable = [(freq, word) for word, freq in counts.items()]\n",
    "    sortable.sort(reverse=True)\n",
    "    \n",
    "    final_answer = []\n",
    "    for (freq, word) in sortable:\n",
    "        final_answer.append(word)\n",
    "    \n",
    "    return final_answer"
   ]
  },
  {
   "cell_type": "code",
   "execution_count": null,
   "id": "96f44ddd",
   "metadata": {
    "execution": {
     "iopub.execute_input": "2023-10-20T00:51:54.041105Z",
     "iopub.status.busy": "2023-10-20T00:51:54.040662Z",
     "iopub.status.idle": "2023-10-20T00:51:54.053703Z",
     "shell.execute_reply": "2023-10-20T00:51:54.052596Z"
    },
    "tags": [
     "raises-exception"
    ]
   },
   "outputs": [],
   "source": [
    "count_words(\"It was the best of times it was the worst of times it was the age of wisdom it was the age of foolishness\")"
   ]
  },
  {
   "cell_type": "markdown",
   "id": "c120518c",
   "metadata": {
    "slideshow": {
     "slide_type": "slide"
    }
   },
   "source": [
    "## Dictionary comprehensions\n",
    "\n",
    "Similar to lists, dictionaries can be created using \"comprehensions\":"
   ]
  },
  {
   "cell_type": "code",
   "execution_count": null,
   "id": "33715770",
   "metadata": {
    "execution": {
     "iopub.execute_input": "2023-10-20T00:51:54.060431Z",
     "iopub.status.busy": "2023-10-20T00:51:54.059943Z",
     "iopub.status.idle": "2023-10-20T00:51:54.066583Z",
     "shell.execute_reply": "2023-10-20T00:51:54.065416Z"
    }
   },
   "outputs": [],
   "source": [
    "squared_nums = {x: x**2 for x in range(5)}\n",
    "print(squared_nums)"
   ]
  },
  {
   "cell_type": "markdown",
   "id": "ba3c6bba",
   "metadata": {
    "slideshow": {
     "slide_type": "subslide"
    }
   },
   "source": [
    "The formal syntax of a dictionary comprehension is:\n",
    "\n",
    "`{<key expression>: <value expression> for <var> in <iterable>}`  \n",
    "or  \n",
    "`{<key expression>: <value expression> for <var> in <iterable> if <boolean expression>}`\n",
    "\n",
    "Both the key and value can be any expression (as long as they evaluate to valid key and value types)."
   ]
  },
  {
   "cell_type": "markdown",
   "id": "0bcbc960",
   "metadata": {
    "slideshow": {
     "slide_type": "subslide"
    }
   },
   "source": [
    "This code creates a dictionary that maps from vegetable name to the count of vowels in the vegetable name:"
   ]
  },
  {
   "cell_type": "code",
   "execution_count": null,
   "id": "62add22b",
   "metadata": {
    "execution": {
     "iopub.execute_input": "2023-10-20T00:51:54.072099Z",
     "iopub.status.busy": "2023-10-20T00:51:54.071521Z",
     "iopub.status.idle": "2023-10-20T00:51:54.077141Z",
     "shell.execute_reply": "2023-10-20T00:51:54.076051Z"
    }
   },
   "outputs": [],
   "source": [
    "def count_vowels(word):\n",
    "    count = 0\n",
    "    \n",
    "    for c in word:\n",
    "        if c in 'aeiou':\n",
    "            count += 1\n",
    "    return count"
   ]
  },
  {
   "cell_type": "code",
   "execution_count": null,
   "id": "d85a9f71",
   "metadata": {
    "execution": {
     "iopub.execute_input": "2023-10-20T00:51:54.083608Z",
     "iopub.status.busy": "2023-10-20T00:51:54.082754Z",
     "iopub.status.idle": "2023-10-20T00:51:54.090236Z",
     "shell.execute_reply": "2023-10-20T00:51:54.089165Z"
    },
    "slideshow": {
     "slide_type": ""
    }
   },
   "outputs": [],
   "source": [
    "# with a comprehension\n",
    "vegetables = [\"cucumber\", \"tomato\", \"pepper\", \"carrot\"]\n",
    "veggie_counts = {veggie: count_vowels(veggie) for veggie in vegetables}\n",
    "print(veggie_counts)"
   ]
  },
  {
   "cell_type": "code",
   "execution_count": null,
   "id": "e6fc9cf1",
   "metadata": {
    "execution": {
     "iopub.execute_input": "2023-10-20T00:51:54.094234Z",
     "iopub.status.busy": "2023-10-20T00:51:54.093886Z",
     "iopub.status.idle": "2023-10-20T00:51:54.100101Z",
     "shell.execute_reply": "2023-10-20T00:51:54.098946Z"
    },
    "slideshow": {
     "slide_type": ""
    }
   },
   "outputs": [],
   "source": [
    "# without a comprehension\n",
    "vegetables = [\"cucumber\", \"tomato\", \"pepper\", \"carrot\"]\n",
    "veggie_counts = {}\n",
    "for veggie in vegetables:\n",
    "    veggie_counts[veggie] = count_vowels(veggie)\n",
    "print(veggie_counts)"
   ]
  },
  {
   "cell_type": "markdown",
   "id": "0af6bad4",
   "metadata": {
    "slideshow": {
     "slide_type": "subslide"
    }
   },
   "source": [
    "This code does the same thing, except it limits the dictionary to vegetables that have at least 3 vowels in their names:"
   ]
  },
  {
   "cell_type": "code",
   "execution_count": null,
   "id": "83c26469",
   "metadata": {
    "execution": {
     "iopub.execute_input": "2023-10-20T00:51:54.105542Z",
     "iopub.status.busy": "2023-10-20T00:51:54.104496Z",
     "iopub.status.idle": "2023-10-20T00:51:54.109873Z",
     "shell.execute_reply": "2023-10-20T00:51:54.109041Z"
    },
    "slideshow": {
     "slide_type": "subslide"
    }
   },
   "outputs": [],
   "source": [
    "# with a comprehension\n",
    "vegetables = [\"cucumber\", \"tomato\", \"pepper\", \"carrot\"]\n",
    "veggie_counts = {veggie: count_vowels(veggie) for veggie in vegetables if count_vowels(veggie) > 2}\n",
    "print(veggie_counts)"
   ]
  },
  {
   "cell_type": "code",
   "execution_count": null,
   "id": "0788fa22",
   "metadata": {
    "execution": {
     "iopub.execute_input": "2023-10-20T00:51:54.115422Z",
     "iopub.status.busy": "2023-10-20T00:51:54.114828Z",
     "iopub.status.idle": "2023-10-20T00:51:54.121586Z",
     "shell.execute_reply": "2023-10-20T00:51:54.119875Z"
    },
    "slideshow": {
     "slide_type": "subslide"
    }
   },
   "outputs": [],
   "source": [
    "# without a comprehension\n",
    "vegetables = [\"cucumber\", \"tomato\", \"pepper\", \"carrot\"]\n",
    "veggie_counts = {}\n",
    "for veggie in vegetables:\n",
    "    num_vowels = count_vowels(veggie)\n",
    "    if num_vowels > 2:\n",
    "        veggie_counts[veggie] = num_vowels\n",
    "print(veggie_counts)"
   ]
  },
  {
   "cell_type": "markdown",
   "id": "7619877e",
   "metadata": {
    "slideshow": {
     "slide_type": "subslide"
    }
   },
   "source": [
    "One last example, which creates a dictionary with each vegetable as a key, and a random integer as each value:"
   ]
  },
  {
   "cell_type": "code",
   "execution_count": null,
   "id": "6381f692",
   "metadata": {
    "execution": {
     "iopub.execute_input": "2023-10-20T00:51:54.127261Z",
     "iopub.status.busy": "2023-10-20T00:51:54.126689Z",
     "iopub.status.idle": "2023-10-20T00:51:54.133568Z",
     "shell.execute_reply": "2023-10-20T00:51:54.131976Z"
    },
    "slideshow": {
     "slide_type": "subslide"
    }
   },
   "outputs": [],
   "source": [
    "import random \n",
    "vegetables = [\"cucumber\", \"tomato\", \"pepper\", \"carrot\"]\n",
    "veggie_counts = {veggie: random.randint(0, 10) for veggie in vegetables}\n",
    "print(veggie_counts)"
   ]
  },
  {
   "cell_type": "markdown",
   "id": "4bf44691",
   "metadata": {
    "slideshow": {
     "slide_type": "slide"
    }
   },
   "source": [
    "# [Slido](https://wall.sli.do/event/h4FwBMY6vLLm4qKujQS37V?section=53bf946d-921c-4bda-8f4f-0e7fa6363572)"
   ]
  },
  {
   "cell_type": "markdown",
   "id": "add953fb",
   "metadata": {
    "slideshow": {
     "slide_type": "slide"
    }
   },
   "source": [
    "# Sets\n",
    "\n",
    "Sets are unordered lists of unique values. "
   ]
  },
  {
   "cell_type": "markdown",
   "id": "823df567",
   "metadata": {
    "slideshow": {
     "slide_type": "subslide"
    }
   },
   "source": [
    "## Creating sets \n",
    "\n",
    "Sets can be created from any iterable."
   ]
  },
  {
   "cell_type": "code",
   "execution_count": null,
   "id": "54986c12",
   "metadata": {
    "execution": {
     "iopub.execute_input": "2023-10-20T00:51:54.139296Z",
     "iopub.status.busy": "2023-10-20T00:51:54.138949Z",
     "iopub.status.idle": "2023-10-20T00:51:54.143962Z",
     "shell.execute_reply": "2023-10-20T00:51:54.142882Z"
    }
   },
   "outputs": [],
   "source": [
    "names = set([\"Batman\", \"Spiderman\", \"Batman\", \"Spongebob\"])\n",
    "print(names)"
   ]
  },
  {
   "cell_type": "markdown",
   "id": "e51b981d",
   "metadata": {
    "slideshow": {
     "slide_type": "subslide"
    }
   },
   "source": [
    "## Accessing set members\n",
    "\n",
    "Because sets are unordered, there are no index-based accessors. You can use `in` to check for membership."
   ]
  },
  {
   "cell_type": "code",
   "execution_count": null,
   "id": "313bed9b",
   "metadata": {
    "execution": {
     "iopub.execute_input": "2023-10-20T00:51:54.150123Z",
     "iopub.status.busy": "2023-10-20T00:51:54.149601Z",
     "iopub.status.idle": "2023-10-20T00:51:54.154356Z",
     "shell.execute_reply": "2023-10-20T00:51:54.153603Z"
    }
   },
   "outputs": [],
   "source": [
    "names = set([\"Batman\", \"Spiderman\", \"Batman\", \"Spongebob\"])"
   ]
  },
  {
   "cell_type": "code",
   "execution_count": null,
   "id": "abeb0fc4",
   "metadata": {
    "execution": {
     "iopub.execute_input": "2023-10-20T00:51:54.158029Z",
     "iopub.status.busy": "2023-10-20T00:51:54.157707Z",
     "iopub.status.idle": "2023-10-20T00:51:54.163497Z",
     "shell.execute_reply": "2023-10-20T00:51:54.162449Z"
    }
   },
   "outputs": [],
   "source": [
    "\"Batman\" in names"
   ]
  },
  {
   "cell_type": "code",
   "execution_count": null,
   "id": "73d210fb",
   "metadata": {
    "execution": {
     "iopub.execute_input": "2023-10-20T00:51:54.167892Z",
     "iopub.status.busy": "2023-10-20T00:51:54.167427Z",
     "iopub.status.idle": "2023-10-20T00:51:54.173362Z",
     "shell.execute_reply": "2023-10-20T00:51:54.172084Z"
    }
   },
   "outputs": [],
   "source": [
    "\"Peppa\" in names"
   ]
  },
  {
   "cell_type": "markdown",
   "id": "0fafb673",
   "metadata": {
    "slideshow": {
     "slide_type": "subslide"
    }
   },
   "source": [
    "## Iterating over sets\n",
    "\n",
    "Sets are iterable, which means you can loop through every member in a set with a `for` loop. \n",
    "\n",
    "They aren't sequences though - they don't have a well-defined order."
   ]
  },
  {
   "cell_type": "code",
   "execution_count": null,
   "id": "91a44055",
   "metadata": {
    "execution": {
     "iopub.execute_input": "2023-10-20T00:51:54.178311Z",
     "iopub.status.busy": "2023-10-20T00:51:54.177960Z",
     "iopub.status.idle": "2023-10-20T00:51:54.182731Z",
     "shell.execute_reply": "2023-10-20T00:51:54.181930Z"
    }
   },
   "outputs": [],
   "source": [
    "names = set([\"Batman\", \"Spiderman\", \"Batman\", \"Spongebob\"])\n",
    "for name in names:\n",
    "    print(name)"
   ]
  },
  {
   "cell_type": "markdown",
   "id": "aad239e3",
   "metadata": {
    "slideshow": {
     "slide_type": "subslide"
    }
   },
   "source": [
    "## Modifying sets\n",
    "\n",
    "`add()`, `remove()`, `clear()`"
   ]
  },
  {
   "cell_type": "code",
   "execution_count": null,
   "id": "da7bfa62",
   "metadata": {
    "execution": {
     "iopub.execute_input": "2023-10-20T00:51:54.187536Z",
     "iopub.status.busy": "2023-10-20T00:51:54.187201Z",
     "iopub.status.idle": "2023-10-20T00:51:54.192282Z",
     "shell.execute_reply": "2023-10-20T00:51:54.191128Z"
    }
   },
   "outputs": [],
   "source": [
    "names = set([\"Batman\", \"Spiderman\", \"Batman\", \"Spongebob\"])\n",
    "names.add(\"Peppa\")\n",
    "print(names)"
   ]
  },
  {
   "cell_type": "code",
   "execution_count": null,
   "id": "8f0cb2a7",
   "metadata": {
    "execution": {
     "iopub.execute_input": "2023-10-20T00:51:54.199265Z",
     "iopub.status.busy": "2023-10-20T00:51:54.198413Z",
     "iopub.status.idle": "2023-10-20T00:51:54.206485Z",
     "shell.execute_reply": "2023-10-20T00:51:54.205180Z"
    }
   },
   "outputs": [],
   "source": [
    "names = set([\"Batman\", \"Spiderman\", \"Batman\", \"Spongebob\"])\n",
    "names.remove(\"Batman\")\n",
    "print(names)"
   ]
  },
  {
   "cell_type": "code",
   "execution_count": null,
   "id": "d807b3bf",
   "metadata": {
    "execution": {
     "iopub.execute_input": "2023-10-20T00:51:54.213495Z",
     "iopub.status.busy": "2023-10-20T00:51:54.212634Z",
     "iopub.status.idle": "2023-10-20T00:51:54.238386Z",
     "shell.execute_reply": "2023-10-20T00:51:54.234871Z"
    }
   },
   "outputs": [],
   "source": [
    "names = set([\"Batman\", \"Spiderman\", \"Batman\", \"Spongebob\"])\n",
    "names.clear()\n",
    "print(names)"
   ]
  },
  {
   "cell_type": "markdown",
   "id": "58f4e563",
   "metadata": {},
   "source": [
    "## Modifying sets\n",
    "\n",
    "`update()` will add multiple items at once."
   ]
  },
  {
   "cell_type": "code",
   "execution_count": null,
   "id": "be5e930e",
   "metadata": {
    "execution": {
     "iopub.execute_input": "2023-10-20T00:51:54.247433Z",
     "iopub.status.busy": "2023-10-20T00:51:54.246897Z",
     "iopub.status.idle": "2023-10-20T00:51:54.257264Z",
     "shell.execute_reply": "2023-10-20T00:51:54.255422Z"
    }
   },
   "outputs": [],
   "source": [
    "names = set([\"Batman\", \"Spiderman\", \"Batman\", \"Spongebob\"])\n",
    "names.update([\"Wolverine\", \"Batman\", \"Wolverine\", \"Magneto\"])\n",
    "print(names)"
   ]
  },
  {
   "cell_type": "markdown",
   "id": "5e54dda1",
   "metadata": {
    "slideshow": {
     "slide_type": "subslide"
    }
   },
   "source": [
    "## Set operations\n",
    "\n",
    "Sets provide equality, intersection, union, and difference operators."
   ]
  },
  {
   "cell_type": "markdown",
   "id": "0f16dfec",
   "metadata": {
    "slideshow": {
     "slide_type": "subslide"
    }
   },
   "source": [
    "## Equality\n",
    "\n",
    "Sets can be compared with `==`"
   ]
  },
  {
   "cell_type": "code",
   "execution_count": null,
   "id": "0da2c191",
   "metadata": {
    "execution": {
     "iopub.execute_input": "2023-10-20T00:51:54.263232Z",
     "iopub.status.busy": "2023-10-20T00:51:54.262689Z",
     "iopub.status.idle": "2023-10-20T00:51:54.272693Z",
     "shell.execute_reply": "2023-10-20T00:51:54.271713Z"
    }
   },
   "outputs": [],
   "source": [
    "fluffy = set([\"cat\", \"dog\", \"dandelion\", \"pillow\"])\n",
    "loud = set([\"dog\", \"cat\", \"baby\", \"horn\", \"alarm\"])\n",
    "fluffy == loud"
   ]
  },
  {
   "cell_type": "markdown",
   "id": "7c02d975",
   "metadata": {
    "slideshow": {
     "slide_type": "subslide"
    }
   },
   "source": [
    "## Intersection \n",
    "\n",
    "The \"intersection\" of 2 (or more) sets is the set of elements that appear in all sets. The `&` operator performs an intersection on 2 sets."
   ]
  },
  {
   "cell_type": "code",
   "execution_count": null,
   "id": "d489db25",
   "metadata": {
    "execution": {
     "iopub.execute_input": "2023-10-20T00:51:54.277167Z",
     "iopub.status.busy": "2023-10-20T00:51:54.276744Z",
     "iopub.status.idle": "2023-10-20T00:51:54.285787Z",
     "shell.execute_reply": "2023-10-20T00:51:54.284097Z"
    },
    "slideshow": {
     "slide_type": "-"
    }
   },
   "outputs": [],
   "source": [
    "fluffy = set([\"cat\", \"dog\", \"dandelion\", \"pillow\"])\n",
    "loud = set([\"dog\", \"cat\", \"baby\", \"horn\", \"alarm\"])\n",
    "fluffy & loud"
   ]
  },
  {
   "cell_type": "markdown",
   "id": "8e00199b",
   "metadata": {
    "slideshow": {
     "slide_type": "subslide"
    }
   },
   "source": [
    "## Union\n",
    "\n",
    "The \"union\" of 2 (or more) sets is the set of elements that appear in any of the sets. The `|` operator performs a union on 2 sets."
   ]
  },
  {
   "cell_type": "code",
   "execution_count": null,
   "id": "cdaf5fc2",
   "metadata": {
    "execution": {
     "iopub.execute_input": "2023-10-20T00:51:54.292199Z",
     "iopub.status.busy": "2023-10-20T00:51:54.291693Z",
     "iopub.status.idle": "2023-10-20T00:51:54.301433Z",
     "shell.execute_reply": "2023-10-20T00:51:54.299583Z"
    }
   },
   "outputs": [],
   "source": [
    "fluffy = set([\"cat\", \"dog\", \"dandelion\", \"pillow\"])\n",
    "loud = set([\"dog\", \"cat\", \"baby\", \"horn\", \"alarm\"])\n",
    "fluffy | loud"
   ]
  },
  {
   "cell_type": "markdown",
   "id": "0f397b58",
   "metadata": {
    "slideshow": {
     "slide_type": "subslide"
    }
   },
   "source": [
    "## Subtraction / difference\n",
    "\n",
    "The \"difference\" of 2 sets is the set of elements that appears in set A, but not in set B. The `-` operator performs a difference on 2 sets."
   ]
  },
  {
   "cell_type": "code",
   "execution_count": null,
   "id": "fa27ec38",
   "metadata": {
    "execution": {
     "iopub.execute_input": "2023-10-20T00:51:54.307296Z",
     "iopub.status.busy": "2023-10-20T00:51:54.306560Z",
     "iopub.status.idle": "2023-10-20T00:51:54.313951Z",
     "shell.execute_reply": "2023-10-20T00:51:54.312794Z"
    },
    "slideshow": {
     "slide_type": "-"
    }
   },
   "outputs": [],
   "source": [
    "fluffy = set([\"cat\", \"dog\", \"dandelion\", \"pillow\"])\n",
    "loud = set([\"dog\", \"cat\", \"baby\", \"horn\", \"alarm\"])\n",
    "fluffy - loud"
   ]
  },
  {
   "cell_type": "markdown",
   "id": "7710f7b9",
   "metadata": {},
   "source": [
    "Order matters for subtraction."
   ]
  },
  {
   "cell_type": "code",
   "execution_count": null,
   "id": "3e04f91f",
   "metadata": {
    "execution": {
     "iopub.execute_input": "2023-10-20T00:51:54.320500Z",
     "iopub.status.busy": "2023-10-20T00:51:54.320124Z",
     "iopub.status.idle": "2023-10-20T00:51:54.325977Z",
     "shell.execute_reply": "2023-10-20T00:51:54.324765Z"
    }
   },
   "outputs": [],
   "source": [
    "loud - fluffy"
   ]
  },
  {
   "cell_type": "markdown",
   "id": "5b7dc6d3",
   "metadata": {
    "slideshow": {
     "slide_type": "subslide"
    }
   },
   "source": [
    "## Symmetric difference (\"xor\")\n",
    "\n",
    "The \"symmetric difference\" of 2 sets is the set of items that appear in either set, but not both. \n",
    "\n",
    "This is also sometimes referred to as `xor` (\"exclusive or\"), from boolean/digital logic. \n",
    "\n",
    "The `^` operator performs a symmetric difference."
   ]
  },
  {
   "cell_type": "code",
   "execution_count": null,
   "id": "e812620d",
   "metadata": {
    "execution": {
     "iopub.execute_input": "2023-10-20T00:51:54.332691Z",
     "iopub.status.busy": "2023-10-20T00:51:54.332222Z",
     "iopub.status.idle": "2023-10-20T00:51:54.339762Z",
     "shell.execute_reply": "2023-10-20T00:51:54.338991Z"
    }
   },
   "outputs": [],
   "source": [
    "fluffy = set([\"cat\", \"dog\", \"dandelion\", \"pillow\"])\n",
    "loud = set([\"dog\", \"cat\", \"baby\", \"horn\", \"alarm\"])\n",
    "fluffy ^ loud"
   ]
  },
  {
   "cell_type": "markdown",
   "id": "40187608",
   "metadata": {
    "slideshow": {
     "slide_type": "subslide"
    }
   },
   "source": [
    "## Superset / subset\n",
    "\n",
    "Superset: a set contains all elements of another set  \n",
    "Subset: a set is made up only of elements from another set"
   ]
  },
  {
   "cell_type": "code",
   "execution_count": null,
   "id": "a2e376ab",
   "metadata": {
    "execution": {
     "iopub.execute_input": "2023-10-20T00:51:54.345438Z",
     "iopub.status.busy": "2023-10-20T00:51:54.344039Z",
     "iopub.status.idle": "2023-10-20T00:51:54.355715Z",
     "shell.execute_reply": "2023-10-20T00:51:54.354179Z"
    }
   },
   "outputs": [],
   "source": [
    "letters = set(\"abcdefghijklmnopqrstuvwxyz\")\n",
    "vowels = set(\"aeiou\")\n",
    "letters.issuperset(vowels)"
   ]
  },
  {
   "cell_type": "code",
   "execution_count": null,
   "id": "3c4c3a75",
   "metadata": {
    "execution": {
     "iopub.execute_input": "2023-10-20T00:51:54.360400Z",
     "iopub.status.busy": "2023-10-20T00:51:54.359819Z",
     "iopub.status.idle": "2023-10-20T00:51:54.369971Z",
     "shell.execute_reply": "2023-10-20T00:51:54.367720Z"
    }
   },
   "outputs": [],
   "source": [
    "vowels.issuperset(letters)"
   ]
  },
  {
   "cell_type": "code",
   "execution_count": null,
   "id": "168f2584",
   "metadata": {
    "execution": {
     "iopub.execute_input": "2023-10-20T00:51:54.374678Z",
     "iopub.status.busy": "2023-10-20T00:51:54.374221Z",
     "iopub.status.idle": "2023-10-20T00:51:54.383854Z",
     "shell.execute_reply": "2023-10-20T00:51:54.382320Z"
    }
   },
   "outputs": [],
   "source": [
    "vowels.issubset(letters)"
   ]
  },
  {
   "cell_type": "code",
   "execution_count": null,
   "id": "6458b474",
   "metadata": {
    "execution": {
     "iopub.execute_input": "2023-10-20T00:51:54.390245Z",
     "iopub.status.busy": "2023-10-20T00:51:54.389578Z",
     "iopub.status.idle": "2023-10-20T00:51:54.405860Z",
     "shell.execute_reply": "2023-10-20T00:51:54.402314Z"
    }
   },
   "outputs": [],
   "source": [
    "letters.issubset(vowels)"
   ]
  },
  {
   "cell_type": "markdown",
   "id": "e6865d73",
   "metadata": {
    "slideshow": {
     "slide_type": "subslide"
    }
   },
   "source": [
    "## Set Comprehensions\n",
    "\n",
    "Just like lists and dictionaries, sets can also be created with comprehensions.\n",
    "\n",
    "Confusingly, their comprehensions use curly brackets `{` `}`"
   ]
  },
  {
   "cell_type": "markdown",
   "id": "e1b338c7",
   "metadata": {
    "slideshow": {
     "slide_type": "subslide"
    }
   },
   "source": [
    "## Example\n",
    "\n",
    "Write a program that prompts the user to enter the postal abbreviations for all 50 U.S. states. The player loses if they repeat a guess, or guesses something that isn't valid."
   ]
  },
  {
   "cell_type": "code",
   "execution_count": null,
   "id": "47a85d7e",
   "metadata": {
    "execution": {
     "iopub.execute_input": "2023-10-20T00:51:54.420378Z",
     "iopub.status.busy": "2023-10-20T00:51:54.419831Z",
     "iopub.status.idle": "2023-10-20T00:51:54.437720Z",
     "shell.execute_reply": "2023-10-20T00:51:54.433638Z"
    }
   },
   "outputs": [],
   "source": [
    "states = set([ 'AK', 'AL', 'AR', 'AZ', 'CA', 'CO', 'CT', 'DE', 'FL', 'GA',\n",
    "           'HI', 'IA', 'ID', 'IL', 'IN', 'KS', 'KY', 'LA', 'MA', 'MD', 'ME',\n",
    "           'MI', 'MN', 'MO', 'MS', 'MT', 'NC', 'ND', 'NE', 'NH', 'NJ', 'NM',\n",
    "           'NV', 'NY', 'OH', 'OK', 'OR', 'PA', 'RI', 'SC', 'SD', 'TN', 'TX',\n",
    "           'UT', 'VA', 'VT', 'WA', 'WI', 'WV', 'WY'])"
   ]
  },
  {
   "cell_type": "code",
   "execution_count": null,
   "id": "8e5e3add",
   "metadata": {
    "execution": {
     "iopub.execute_input": "2023-10-20T00:51:54.445153Z",
     "iopub.status.busy": "2023-10-20T00:51:54.444602Z",
     "iopub.status.idle": "2023-10-20T00:51:54.650762Z",
     "shell.execute_reply": "2023-10-20T00:51:54.647946Z"
    },
    "slideshow": {
     "slide_type": "subslide"
    },
    "tags": [
     "remove-output"
    ]
   },
   "outputs": [],
   "source": [
    "states = set([ 'AK', 'AL', 'AR', 'AZ', 'CA', 'CO', 'CT', 'DE', 'FL', 'GA',\n",
    "           'HI', 'IA', 'ID', 'IL', 'IN', 'KS', 'KY', 'LA', 'MA', 'MD', 'ME',\n",
    "           'MI', 'MN', 'MO', 'MS', 'MT', 'NC', 'ND', 'NE', 'NH', 'NJ', 'NM',\n",
    "           'NV', 'NY', 'OH', 'OK', 'OR', 'PA', 'RI', 'SC', 'SD', 'TN', 'TX',\n",
    "           'UT', 'VA', 'VT', 'WA', 'WI', 'WV', 'WY'])\n",
    "guesses = set()\n",
    "\n",
    "print(\"Guess all 50 US state postal abbreviations, without repeating.\")\n",
    "while True:\n",
    "    print(\"Guess? \")\n",
    "    answer = input()\n",
    "    if answer in guesses:\n",
    "        print(f\"You already guessed {answer}!\")\n",
    "        break\n",
    "    if answer not in states:\n",
    "        print(f\"{answer} is not a valid postal code!\")\n",
    "        break\n",
    "    guesses.add(answer)\n",
    "    if guesses == states:\n",
    "        print(\"You win!\")\n",
    "        break\n",
    "    print(f\"You've guessed {len(guesses)}/{len(states)} so far.\")"
   ]
  }
 ],
 "metadata": {
  "celltoolbar": "Slideshow",
  "kernelspec": {
   "display_name": "Python 3 (ipykernel)",
   "language": "python",
   "name": "python3"
  },
  "language_info": {
   "codemirror_mode": {
    "name": "ipython",
    "version": 3
   },
   "file_extension": ".py",
   "mimetype": "text/x-python",
   "name": "python",
   "nbconvert_exporter": "python",
   "pygments_lexer": "ipython3",
   "version": "3.10.9"
  }
 },
 "nbformat": 4,
 "nbformat_minor": 5
}
