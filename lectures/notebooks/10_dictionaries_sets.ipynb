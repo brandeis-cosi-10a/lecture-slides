{
 "cells": [
  {
   "cell_type": "markdown",
   "id": "1ee8a1d2",
   "metadata": {
    "slideshow": {
     "slide_type": "slide"
    }
   },
   "source": [
    "# Dictionaries and Sets\n",
    "\n",
    "<style>\n",
    "section.present > section.present { \n",
    "    max-height: 90%; \n",
    "    overflow-y: scroll;\n",
    "}\n",
    "</style>\n",
    "\n",
    "<small><a href=\"https://colab.research.google.com/github/brandeis-jdelfino/cosi-10a/blob/main/lectures/notebooks/10_dictionaries_sets.ipynb\">Link to interactive slides on Google Colab</a></small>"
   ]
  },
  {
   "cell_type": "markdown",
   "id": "c1709fcf",
   "metadata": {},
   "source": [
    "## Announcements\n",
    "\n",
    "* PS2 grades are in LATTE, reach out to me with questions\n",
    "* PS3 due Sunday 11:59pm; don't count on availability of help over the weekend"
   ]
  },
  {
   "cell_type": "markdown",
   "id": "ecf7cb81",
   "metadata": {
    "slideshow": {
     "slide_type": "slide"
    }
   },
   "source": [
    "In the next 2 lectures, we'll cover the last 2 widely used data types in Python:\n",
    "* Dictionaries: mappings from keys to values\n",
    "* Sets: Unordered lists of unique values"
   ]
  },
  {
   "cell_type": "markdown",
   "id": "cf21df57",
   "metadata": {
    "slideshow": {
     "slide_type": "slide"
    }
   },
   "source": [
    "## The exercise Exercise, revisited\n",
    "\n",
    "We had 2 \"parallel lists\": names, and lists of which days those characters exercised. We used `zip` to iterate over them together."
   ]
  },
  {
   "cell_type": "code",
   "execution_count": null,
   "id": "61e4ff79",
   "metadata": {
    "execution": {
     "iopub.execute_input": "2023-10-18T23:14:08.232259Z",
     "iopub.status.busy": "2023-10-18T23:14:08.231370Z",
     "iopub.status.idle": "2023-10-18T23:14:08.246137Z",
     "shell.execute_reply": "2023-10-18T23:14:08.245255Z"
    }
   },
   "outputs": [],
   "source": [
    "names = [\"Spongebob\", \"Batman\", \"Dora\", \"Peppa\", \"Bill Murray\"]\n",
    "data = [\n",
    "    [1, 7, 15, 31],\n",
    "    [2, 21],\n",
    "    [5],\n",
    "    [1, 3, 5, 7, 9, 11, 13, 15, 17, 19, 21, 23, 25, 27, 29],\n",
    "    [1, 2, 3, 4, 5, 6]\n",
    "]\n",
    "\n",
    "most = 0\n",
    "most_name = \"\"\n",
    "for (name, dates) in zip(names, data):\n",
    "    if len(dates) > most:\n",
    "        most = len(dates)\n",
    "        most_name = name\n",
    "print(f\"{most_name} exercised the most, with {most} days of exercise!\")"
   ]
  },
  {
   "cell_type": "markdown",
   "id": "b1a36898",
   "metadata": {
    "slideshow": {
     "slide_type": "subslide"
    }
   },
   "source": [
    "**Dictionaries** are a better data structure for this type of data. They map **keys** (names) to **values** (list of exercise dates).\n",
    "\n",
    "Here's how that example would look with a dictionary."
   ]
  },
  {
   "cell_type": "code",
   "execution_count": null,
   "id": "182868ec",
   "metadata": {
    "execution": {
     "iopub.execute_input": "2023-10-18T23:14:08.249883Z",
     "iopub.status.busy": "2023-10-18T23:14:08.249343Z",
     "iopub.status.idle": "2023-10-18T23:14:08.255600Z",
     "shell.execute_reply": "2023-10-18T23:14:08.254746Z"
    }
   },
   "outputs": [],
   "source": [
    "data = {\n",
    "    \"Spongebob\": [1, 7, 15, 31],\n",
    "    \"Batman\": [2, 21],\n",
    "    \"Dora\": [5],\n",
    "    \"Peppa\": [1, 3, 5, 7, 9, 11, 13, 15, 17, 19, 21, 23, 25, 27, 29],\n",
    "    \"Bill Murray\": [1, 2, 3, 4, 5, 6]\n",
    "}\n",
    "\n",
    "most = 0\n",
    "most_name = \"\"\n",
    "for name in data:\n",
    "    if len(data[name]) > most:\n",
    "        most = len(data[name])\n",
    "        most_name = name\n",
    "print(f\"{most_name} exercised the most, with {most} days of exercise!\")"
   ]
  },
  {
   "cell_type": "markdown",
   "id": "e5a1eba7",
   "metadata": {
    "slideshow": {
     "slide_type": "slide"
    }
   },
   "source": [
    "# Creating dictionaries\n",
    "\n",
    "Dictionaries are created and represented with curly brackets: `{` and `}`."
   ]
  },
  {
   "cell_type": "code",
   "execution_count": null,
   "id": "3854a0d5",
   "metadata": {
    "execution": {
     "iopub.execute_input": "2023-10-18T23:14:08.264094Z",
     "iopub.status.busy": "2023-10-18T23:14:08.263401Z",
     "iopub.status.idle": "2023-10-18T23:14:08.269716Z",
     "shell.execute_reply": "2023-10-18T23:14:08.268067Z"
    }
   },
   "outputs": [],
   "source": [
    "distances_from_boston = {\n",
    "    \"NY, NY\": 216,\n",
    "    \"Portland, ME\": 110,\n",
    "    \"San Francisco, CA\": 2692,\n",
    "    \"Auckland, NZ\": 9002\n",
    "}\n",
    "print(distances_from_boston)"
   ]
  },
  {
   "cell_type": "markdown",
   "id": "8fc12d73",
   "metadata": {},
   "source": [
    "`distances_from_boston` holds 4 key/value pairs. All the keys are strings, all the values are integers. Keys can be any **immutable** type and values can be any type."
   ]
  },
  {
   "cell_type": "code",
   "execution_count": null,
   "id": "c39b73a4",
   "metadata": {
    "execution": {
     "iopub.execute_input": "2023-10-18T23:14:08.274306Z",
     "iopub.status.busy": "2023-10-18T23:14:08.273573Z",
     "iopub.status.idle": "2023-10-18T23:14:08.281357Z",
     "shell.execute_reply": "2023-10-18T23:14:08.280451Z"
    },
    "slideshow": {
     "slide_type": "subslide"
    }
   },
   "outputs": [],
   "source": [
    "x = {}\n",
    "print(x)"
   ]
  },
  {
   "cell_type": "markdown",
   "id": "2fab010b",
   "metadata": {},
   "source": [
    "`x` is an empty dictionary."
   ]
  },
  {
   "cell_type": "markdown",
   "id": "77391a05",
   "metadata": {
    "slideshow": {
     "slide_type": "subslide"
    }
   },
   "source": [
    "Dictionary keys are unique. The same key can't appear more than once in a dictionary."
   ]
  },
  {
   "cell_type": "code",
   "execution_count": null,
   "id": "f2aea045",
   "metadata": {
    "execution": {
     "iopub.execute_input": "2023-10-18T23:14:08.296701Z",
     "iopub.status.busy": "2023-10-18T23:14:08.295696Z",
     "iopub.status.idle": "2023-10-18T23:14:08.327681Z",
     "shell.execute_reply": "2023-10-18T23:14:08.314979Z"
    }
   },
   "outputs": [],
   "source": [
    "distances_from_boston = {\n",
    "    \"NY, NY\": 216,\n",
    "    \"NY, NY\": 110,\n",
    "    \"San Francisco, CA\": 2692,\n",
    "    \"Auckland, NZ\": 9002\n",
    "}\n",
    "print(distances_from_boston)"
   ]
  },
  {
   "cell_type": "markdown",
   "id": "a147ad39",
   "metadata": {},
   "source": [
    "The first `NY, NY` value (`216`) was overwritten by the second (`110`) "
   ]
  },
  {
   "cell_type": "markdown",
   "id": "ab100c46",
   "metadata": {
    "slideshow": {
     "slide_type": "slide"
    }
   },
   "source": [
    "## Accessing dictionary elements\n",
    "\n",
    "Dictionaries are accessed using the same bracket notation (`[]`) as lists, but with keys instead of indices."
   ]
  },
  {
   "cell_type": "code",
   "execution_count": null,
   "id": "0f15b8d4",
   "metadata": {
    "execution": {
     "iopub.execute_input": "2023-10-18T23:14:08.335446Z",
     "iopub.status.busy": "2023-10-18T23:14:08.334849Z",
     "iopub.status.idle": "2023-10-18T23:14:08.355397Z",
     "shell.execute_reply": "2023-10-18T23:14:08.354267Z"
    }
   },
   "outputs": [],
   "source": [
    "number_words = {\n",
    "    \"one\": 1,\n",
    "    \"four\": 4,\n",
    "    \"one hundred\": 100\n",
    "}\n",
    "print(number_words[\"four\"])"
   ]
  },
  {
   "cell_type": "code",
   "execution_count": null,
   "id": "6cf994b8",
   "metadata": {
    "execution": {
     "iopub.execute_input": "2023-10-18T23:14:08.360848Z",
     "iopub.status.busy": "2023-10-18T23:14:08.360225Z",
     "iopub.status.idle": "2023-10-18T23:14:08.365322Z",
     "shell.execute_reply": "2023-10-18T23:14:08.364061Z"
    }
   },
   "outputs": [],
   "source": [
    "print(number_words[\"one \" + \"hundred\"])"
   ]
  },
  {
   "cell_type": "markdown",
   "id": "53fe4581",
   "metadata": {
    "slideshow": {
     "slide_type": "subslide"
    }
   },
   "source": [
    "Accessing an element that doesn't exist generates an error"
   ]
  },
  {
   "cell_type": "code",
   "execution_count": null,
   "id": "8dbedcb5",
   "metadata": {
    "execution": {
     "iopub.execute_input": "2023-10-18T23:14:08.370546Z",
     "iopub.status.busy": "2023-10-18T23:14:08.370120Z",
     "iopub.status.idle": "2023-10-18T23:14:08.833073Z",
     "shell.execute_reply": "2023-10-18T23:14:08.829140Z"
    }
   },
   "outputs": [],
   "source": [
    "print(number_words[2])"
   ]
  },
  {
   "cell_type": "markdown",
   "id": "d5291d6f",
   "metadata": {
    "slideshow": {
     "slide_type": "subslide"
    }
   },
   "source": [
    "You can use the `.get()` method if you want to access an element that may not exist."
   ]
  },
  {
   "cell_type": "code",
   "execution_count": null,
   "id": "17a069b4",
   "metadata": {
    "execution": {
     "iopub.execute_input": "2023-10-18T23:14:08.839872Z",
     "iopub.status.busy": "2023-10-18T23:14:08.839386Z",
     "iopub.status.idle": "2023-10-18T23:14:08.847624Z",
     "shell.execute_reply": "2023-10-18T23:14:08.844789Z"
    }
   },
   "outputs": [],
   "source": [
    "number_words = {\n",
    "    \"one\": 1,\n",
    "    \"four\": 4,\n",
    "    \"one hundred\": 100\n",
    "}\n",
    "print(number_words.get(\"one\"))"
   ]
  },
  {
   "cell_type": "code",
   "execution_count": null,
   "id": "20058424",
   "metadata": {
    "execution": {
     "iopub.execute_input": "2023-10-18T23:14:08.854777Z",
     "iopub.status.busy": "2023-10-18T23:14:08.854051Z",
     "iopub.status.idle": "2023-10-18T23:14:08.859610Z",
     "shell.execute_reply": "2023-10-18T23:14:08.858689Z"
    }
   },
   "outputs": [],
   "source": [
    "print(number_words.get(\"two\"))"
   ]
  },
  {
   "cell_type": "markdown",
   "id": "5d8928fe",
   "metadata": {},
   "source": [
    "`get()` takes an optional argument the specifies the value to use if the key isn't found in the dictionary."
   ]
  },
  {
   "cell_type": "code",
   "execution_count": null,
   "id": "5d2899b9",
   "metadata": {
    "execution": {
     "iopub.execute_input": "2023-10-18T23:14:08.867227Z",
     "iopub.status.busy": "2023-10-18T23:14:08.866742Z",
     "iopub.status.idle": "2023-10-18T23:14:08.872418Z",
     "shell.execute_reply": "2023-10-18T23:14:08.871024Z"
    }
   },
   "outputs": [],
   "source": [
    "print(number_words.get(\"two\", \"unknown\"))"
   ]
  },
  {
   "cell_type": "markdown",
   "id": "f0e6954c",
   "metadata": {
    "slideshow": {
     "slide_type": "subslide"
    }
   },
   "source": [
    "You can check for the existince of a key with `in` (similar to lists and other sequences)"
   ]
  },
  {
   "cell_type": "code",
   "execution_count": null,
   "id": "eab3bf28",
   "metadata": {
    "execution": {
     "iopub.execute_input": "2023-10-18T23:14:08.878074Z",
     "iopub.status.busy": "2023-10-18T23:14:08.877599Z",
     "iopub.status.idle": "2023-10-18T23:14:08.886664Z",
     "shell.execute_reply": "2023-10-18T23:14:08.884640Z"
    }
   },
   "outputs": [],
   "source": [
    "number_words = {\n",
    "    \"one\": 1,\n",
    "    \"four\": 4,\n",
    "    \"one hundred\": 100\n",
    "}\n",
    "print(\"one\" in number_words)"
   ]
  },
  {
   "cell_type": "code",
   "execution_count": null,
   "id": "d559277d",
   "metadata": {
    "execution": {
     "iopub.execute_input": "2023-10-18T23:14:08.892825Z",
     "iopub.status.busy": "2023-10-18T23:14:08.892210Z",
     "iopub.status.idle": "2023-10-18T23:14:08.903298Z",
     "shell.execute_reply": "2023-10-18T23:14:08.901537Z"
    }
   },
   "outputs": [],
   "source": [
    "\"ten\" in number_words"
   ]
  },
  {
   "cell_type": "markdown",
   "id": "bff0954d",
   "metadata": {},
   "source": [
    "## Modifying dictionaries\n",
    "\n",
    "Assigning a value to a key adds a key/value pair to the dictionary if the key doesn't already exist. If the key does already exist, the value for that key is updated."
   ]
  },
  {
   "cell_type": "code",
   "execution_count": null,
   "id": "6a2bbdc1",
   "metadata": {
    "execution": {
     "iopub.execute_input": "2023-10-18T23:14:08.908865Z",
     "iopub.status.busy": "2023-10-18T23:14:08.908480Z",
     "iopub.status.idle": "2023-10-18T23:14:08.915262Z",
     "shell.execute_reply": "2023-10-18T23:14:08.914120Z"
    }
   },
   "outputs": [],
   "source": [
    "number_preferences = {\n",
    "    1.5: False,\n",
    "    2.7: True,\n",
    "    3.9: False\n",
    "}\n",
    "print(number_preferences)"
   ]
  },
  {
   "cell_type": "code",
   "execution_count": null,
   "id": "23ccb5a9",
   "metadata": {
    "execution": {
     "iopub.execute_input": "2023-10-18T23:14:08.920709Z",
     "iopub.status.busy": "2023-10-18T23:14:08.920198Z",
     "iopub.status.idle": "2023-10-18T23:14:08.928637Z",
     "shell.execute_reply": "2023-10-18T23:14:08.925347Z"
    }
   },
   "outputs": [],
   "source": [
    "number_preferences[4.0] = \"yes\"\n",
    "print(number_preferences)"
   ]
  },
  {
   "cell_type": "code",
   "execution_count": null,
   "id": "fe046ee6",
   "metadata": {
    "execution": {
     "iopub.execute_input": "2023-10-18T23:14:08.936130Z",
     "iopub.status.busy": "2023-10-18T23:14:08.935682Z",
     "iopub.status.idle": "2023-10-18T23:14:08.941747Z",
     "shell.execute_reply": "2023-10-18T23:14:08.940582Z"
    }
   },
   "outputs": [],
   "source": [
    "number_preferences[1.5] = \"no\"\n",
    "print(number_preferences)"
   ]
  },
  {
   "cell_type": "markdown",
   "id": "f7c428d4",
   "metadata": {
    "slideshow": {
     "slide_type": "subslide"
    }
   },
   "source": [
    "You can delete from a dictionary using the `del` keyword."
   ]
  },
  {
   "cell_type": "code",
   "execution_count": null,
   "id": "db9b069b",
   "metadata": {
    "execution": {
     "iopub.execute_input": "2023-10-18T23:14:08.948930Z",
     "iopub.status.busy": "2023-10-18T23:14:08.948459Z",
     "iopub.status.idle": "2023-10-18T23:14:08.956257Z",
     "shell.execute_reply": "2023-10-18T23:14:08.954873Z"
    }
   },
   "outputs": [],
   "source": [
    "stats = {\n",
    "    \"height\": 67,\n",
    "    \"weight\": 140,\n",
    "    \"eye color\": \"blue\",\n",
    "    \"dominant hand\": \"left\"\n",
    "}\n",
    "print(stats)\n",
    "del stats[\"weight\"]\n",
    "print(stats)"
   ]
  },
  {
   "cell_type": "markdown",
   "id": "9ea32f85",
   "metadata": {
    "slideshow": {
     "slide_type": "slide"
    }
   },
   "source": [
    "## Iterating over dictionaries\n",
    "\n",
    "You can use for loops to iterate over the keys in a dictionary"
   ]
  },
  {
   "cell_type": "code",
   "execution_count": null,
   "id": "ca141bab",
   "metadata": {
    "execution": {
     "iopub.execute_input": "2023-10-18T23:14:08.963646Z",
     "iopub.status.busy": "2023-10-18T23:14:08.962238Z",
     "iopub.status.idle": "2023-10-18T23:14:08.972098Z",
     "shell.execute_reply": "2023-10-18T23:14:08.971035Z"
    }
   },
   "outputs": [],
   "source": [
    "stats = {\n",
    "    \"height\": 67,\n",
    "    \"weight\": 140,\n",
    "    \"eye color\": \"blue\",\n",
    "    \"dominant hand\": \"left\"\n",
    "}\n",
    "for statname in stats:\n",
    "    print(f\"My {statname} is {stats[statname]}\")"
   ]
  },
  {
   "cell_type": "markdown",
   "id": "a84afaaa",
   "metadata": {
    "slideshow": {
     "slide_type": "subslide"
    }
   },
   "source": [
    "You can also iterate over key/value pairs with the `.items()` method."
   ]
  },
  {
   "cell_type": "code",
   "execution_count": null,
   "id": "43e533f0",
   "metadata": {
    "execution": {
     "iopub.execute_input": "2023-10-18T23:14:08.977402Z",
     "iopub.status.busy": "2023-10-18T23:14:08.976743Z",
     "iopub.status.idle": "2023-10-18T23:14:08.983694Z",
     "shell.execute_reply": "2023-10-18T23:14:08.982188Z"
    }
   },
   "outputs": [],
   "source": [
    "stats = {\n",
    "    \"height\": 67,\n",
    "    \"weight\": 140,\n",
    "    \"eye color\": \"blue\",\n",
    "    \"dominant hand\": \"left\"\n",
    "}\n",
    "for statname, value in stats.items():\n",
    "    print(f\"My {statname} is {value}\")"
   ]
  },
  {
   "cell_type": "markdown",
   "id": "dc53395a",
   "metadata": {
    "slideshow": {
     "slide_type": "subslide"
    }
   },
   "source": [
    "`.items()` produces the keys/values as 2-tuples:"
   ]
  },
  {
   "cell_type": "code",
   "execution_count": null,
   "id": "dc138160",
   "metadata": {
    "execution": {
     "iopub.execute_input": "2023-10-18T23:14:08.989330Z",
     "iopub.status.busy": "2023-10-18T23:14:08.988757Z",
     "iopub.status.idle": "2023-10-18T23:14:08.995929Z",
     "shell.execute_reply": "2023-10-18T23:14:08.994997Z"
    }
   },
   "outputs": [],
   "source": [
    "list(stats.items())"
   ]
  },
  {
   "cell_type": "markdown",
   "id": "61bd003a",
   "metadata": {},
   "source": [
    "Our `for` loop used value unpacking - each key from `.items()` is unpacked into `statname`, and each value is unpacke into `value`:"
   ]
  },
  {
   "cell_type": "code",
   "execution_count": null,
   "id": "6c7b7fdf",
   "metadata": {
    "execution": {
     "iopub.execute_input": "2023-10-18T23:14:09.002411Z",
     "iopub.status.busy": "2023-10-18T23:14:09.001995Z",
     "iopub.status.idle": "2023-10-18T23:14:09.009366Z",
     "shell.execute_reply": "2023-10-18T23:14:09.008127Z"
    }
   },
   "outputs": [],
   "source": [
    "for statname, value in stats.items():\n",
    "    print(f\"My {statname} is {value}\")"
   ]
  },
  {
   "cell_type": "markdown",
   "id": "f053cd68",
   "metadata": {},
   "source": [
    "## Exercise\n",
    "\n",
    "Write a function to keep track of personal high scores for everyone who plays a game: `record_attempt(name, new_score, scores)`, where:\n",
    "* `name` is a string\n",
    "* `new_score` is an int\n",
    "* `scores` is a dictionary where the keys are names, and the value is the best score for a name\n",
    "* `record_attempt()` should modify `scores` in place"
   ]
  },
  {
   "cell_type": "code",
   "execution_count": null,
   "id": "b25ae039",
   "metadata": {
    "execution": {
     "iopub.execute_input": "2023-10-18T23:14:09.014567Z",
     "iopub.status.busy": "2023-10-18T23:14:09.013808Z",
     "iopub.status.idle": "2023-10-18T23:14:09.018490Z",
     "shell.execute_reply": "2023-10-18T23:14:09.017556Z"
    }
   },
   "outputs": [],
   "source": [
    "def record_attempt(name, new_score, scores):\n",
    "    # ???\n",
    "    return"
   ]
  },
  {
   "cell_type": "code",
   "execution_count": null,
   "id": "9ec62ab3",
   "metadata": {
    "execution": {
     "iopub.execute_input": "2023-10-18T23:14:09.022880Z",
     "iopub.status.busy": "2023-10-18T23:14:09.022418Z",
     "iopub.status.idle": "2023-10-18T23:14:09.027662Z",
     "shell.execute_reply": "2023-10-18T23:14:09.026790Z"
    },
    "slideshow": {
     "slide_type": "subslide"
    }
   },
   "outputs": [],
   "source": [
    "# attempt 1\n",
    "def record_attempt(name, new_score, scores):\n",
    "    if new_score > scores[name]:\n",
    "        scores[name] = new_score"
   ]
  },
  {
   "cell_type": "code",
   "execution_count": null,
   "id": "1e5650f8",
   "metadata": {
    "execution": {
     "iopub.execute_input": "2023-10-18T23:14:09.033165Z",
     "iopub.status.busy": "2023-10-18T23:14:09.032551Z",
     "iopub.status.idle": "2023-10-18T23:14:09.064044Z",
     "shell.execute_reply": "2023-10-18T23:14:09.062987Z"
    },
    "tags": [
     "raises-exception"
    ]
   },
   "outputs": [],
   "source": [
    "scores = {}\n",
    "record_attempt(\"Batman\", 100, scores)\n",
    "print(scores)"
   ]
  },
  {
   "cell_type": "markdown",
   "id": "3cf810ee",
   "metadata": {
    "slideshow": {
     "slide_type": "subslide"
    }
   },
   "source": [
    "We can't use `[]` to check the existing score, because the name might not be in there yet."
   ]
  },
  {
   "cell_type": "code",
   "execution_count": null,
   "id": "b74fc415",
   "metadata": {
    "execution": {
     "iopub.execute_input": "2023-10-18T23:14:09.068577Z",
     "iopub.status.busy": "2023-10-18T23:14:09.067753Z",
     "iopub.status.idle": "2023-10-18T23:14:09.072778Z",
     "shell.execute_reply": "2023-10-18T23:14:09.071902Z"
    },
    "slideshow": {
     "slide_type": "subslide"
    }
   },
   "outputs": [],
   "source": [
    "# attempt 2 (correct)\n",
    "def record_attempt(name, new_score, scores):\n",
    "    if new_score > scores.get(name, 0):\n",
    "        scores[name] = new_score"
   ]
  },
  {
   "cell_type": "code",
   "execution_count": null,
   "id": "3280b0da",
   "metadata": {
    "execution": {
     "iopub.execute_input": "2023-10-18T23:14:09.076698Z",
     "iopub.status.busy": "2023-10-18T23:14:09.076352Z",
     "iopub.status.idle": "2023-10-18T23:14:09.082342Z",
     "shell.execute_reply": "2023-10-18T23:14:09.081607Z"
    }
   },
   "outputs": [],
   "source": [
    "scores = {}\n",
    "record_attempt(\"Batman\", 100, scores)\n",
    "print(scores)"
   ]
  },
  {
   "cell_type": "code",
   "execution_count": null,
   "id": "78beb8ae",
   "metadata": {
    "execution": {
     "iopub.execute_input": "2023-10-18T23:14:09.087915Z",
     "iopub.status.busy": "2023-10-18T23:14:09.087523Z",
     "iopub.status.idle": "2023-10-18T23:14:09.093883Z",
     "shell.execute_reply": "2023-10-18T23:14:09.092490Z"
    }
   },
   "outputs": [],
   "source": [
    "scores = {}\n",
    "record_attempt(\"Batman\", 100, scores)\n",
    "record_attempt(\"Superman\", 10, scores)\n",
    "record_attempt(\"Spongebob\", 50, scores)\n",
    "record_attempt(\"Spiderman\", 1, scores)\n",
    "record_attempt(\"Spiderman\", 11, scores)\n",
    "record_attempt(\"Spiderman\", 110, scores)\n",
    "print(scores)"
   ]
  },
  {
   "cell_type": "markdown",
   "id": "ee86ca2a",
   "metadata": {
    "slideshow": {
     "slide_type": "slide"
    }
   },
   "source": [
    "# [Slido](https://wall.sli.do/event/h4FwBMY6vLLm4qKujQS37V?section=53bf946d-921c-4bda-8f4f-0e7fa6363572)"
   ]
  },
  {
   "cell_type": "markdown",
   "id": "9d371d7c",
   "metadata": {
    "slideshow": {
     "slide_type": "subslide"
    }
   },
   "source": [
    "## Exercise\n",
    "\n",
    "Write a function that prints the person with the highest overall score: `print_winner(scores)`"
   ]
  },
  {
   "cell_type": "code",
   "execution_count": null,
   "id": "6bd7b29a",
   "metadata": {
    "execution": {
     "iopub.execute_input": "2023-10-18T23:14:09.099236Z",
     "iopub.status.busy": "2023-10-18T23:14:09.098910Z",
     "iopub.status.idle": "2023-10-18T23:14:09.105033Z",
     "shell.execute_reply": "2023-10-18T23:14:09.104269Z"
    }
   },
   "outputs": [],
   "source": [
    "# attempt 1\n",
    "def print_winner(scores):\n",
    "    best_score = 0\n",
    "    best_player = \"\"\n",
    "    for player, score in scores.items():\n",
    "        if score > best_score:\n",
    "            best_score = score\n",
    "            best_player = player\n",
    "    print(f\"Congratulations, {player}, you win with {score} points!\")"
   ]
  },
  {
   "cell_type": "code",
   "execution_count": null,
   "id": "17fecd2a",
   "metadata": {
    "execution": {
     "iopub.execute_input": "2023-10-18T23:14:09.108470Z",
     "iopub.status.busy": "2023-10-18T23:14:09.108185Z",
     "iopub.status.idle": "2023-10-18T23:14:09.114706Z",
     "shell.execute_reply": "2023-10-18T23:14:09.113915Z"
    }
   },
   "outputs": [],
   "source": [
    "scores = {}\n",
    "record_attempt(\"Batman\", 100, scores)\n",
    "record_attempt(\"Superman\", 10, scores)\n",
    "record_attempt(\"Spongebob\", 50, scores)\n",
    "record_attempt(\"Spiderman\", 1, scores)\n",
    "record_attempt(\"Spiderman\", 11, scores)\n",
    "record_attempt(\"Spiderman\", 110, scores)\n",
    "print_winner(scores)"
   ]
  },
  {
   "cell_type": "markdown",
   "id": "1e956111",
   "metadata": {
    "slideshow": {
     "slide_type": "subslide"
    }
   },
   "source": [
    "That output looks correct... but can you spot the bug?"
   ]
  },
  {
   "cell_type": "code",
   "execution_count": null,
   "id": "ce18d9ec",
   "metadata": {
    "execution": {
     "iopub.execute_input": "2023-10-18T23:14:09.119315Z",
     "iopub.status.busy": "2023-10-18T23:14:09.118661Z",
     "iopub.status.idle": "2023-10-18T23:14:09.123069Z",
     "shell.execute_reply": "2023-10-18T23:14:09.122325Z"
    }
   },
   "outputs": [],
   "source": [
    "# attempt 1\n",
    "def print_winner(scores):\n",
    "    best_score = 0\n",
    "    best_player = \"\"\n",
    "    for player, score in scores.items():\n",
    "        if score > best_score:\n",
    "            best_score = score\n",
    "            best_player = player\n",
    "    print(f\"Congratulations, {player}, you win with {score} points!\")"
   ]
  },
  {
   "cell_type": "code",
   "execution_count": null,
   "id": "526e7e17",
   "metadata": {
    "execution": {
     "iopub.execute_input": "2023-10-18T23:14:09.128398Z",
     "iopub.status.busy": "2023-10-18T23:14:09.127986Z",
     "iopub.status.idle": "2023-10-18T23:14:09.132726Z",
     "shell.execute_reply": "2023-10-18T23:14:09.131931Z"
    },
    "slideshow": {
     "slide_type": "fragment"
    }
   },
   "outputs": [],
   "source": [
    "scores = {}\n",
    "record_attempt(\"Batman\", 150, scores)\n",
    "record_attempt(\"Superman\", 10, scores)\n",
    "record_attempt(\"Spongebob\", 50, scores)\n",
    "record_attempt(\"Spiderman\", 1, scores)\n",
    "record_attempt(\"Spiderman\", 11, scores)\n",
    "record_attempt(\"Spiderman\", 110, scores)\n",
    "print_winner(scores)"
   ]
  },
  {
   "cell_type": "markdown",
   "id": "ae847962",
   "metadata": {},
   "source": [
    "We printed the wrong variables at the end! This is a common type of error - make sure you test your code with a variety of inputs!"
   ]
  },
  {
   "cell_type": "code",
   "execution_count": null,
   "id": "c3676c09",
   "metadata": {
    "execution": {
     "iopub.execute_input": "2023-10-18T23:14:09.137791Z",
     "iopub.status.busy": "2023-10-18T23:14:09.137077Z",
     "iopub.status.idle": "2023-10-18T23:14:09.143202Z",
     "shell.execute_reply": "2023-10-18T23:14:09.141210Z"
    },
    "slideshow": {
     "slide_type": "subslide"
    }
   },
   "outputs": [],
   "source": [
    "# attempt 2 (correct)\n",
    "def print_winner(scores):\n",
    "    best_score = 0\n",
    "    best_player = \"\"\n",
    "    for player, score in scores.items():\n",
    "        if score > best_score:\n",
    "            best_score = score\n",
    "            best_player = player\n",
    "    print(f\"Congratulations, {best_player}, you win with {best_score} points!\")"
   ]
  },
  {
   "cell_type": "code",
   "execution_count": null,
   "id": "81f99fca",
   "metadata": {
    "execution": {
     "iopub.execute_input": "2023-10-18T23:14:09.147894Z",
     "iopub.status.busy": "2023-10-18T23:14:09.147453Z",
     "iopub.status.idle": "2023-10-18T23:14:09.154473Z",
     "shell.execute_reply": "2023-10-18T23:14:09.152796Z"
    },
    "slideshow": {
     "slide_type": "fragment"
    }
   },
   "outputs": [],
   "source": [
    "scores = {}\n",
    "record_attempt(\"Batman\", 150, scores)\n",
    "record_attempt(\"Superman\", 10, scores)\n",
    "record_attempt(\"Spongebob\", 50, scores)\n",
    "record_attempt(\"Spiderman\", 1, scores)\n",
    "record_attempt(\"Spiderman\", 11, scores)\n",
    "record_attempt(\"Spiderman\", 110, scores)\n",
    "print_winner(scores)"
   ]
  },
  {
   "cell_type": "markdown",
   "id": "249bfeb7",
   "metadata": {
    "slideshow": {
     "slide_type": "subslide"
    }
   },
   "source": [
    "## Exercise\n",
    "\n",
    "Write a function that takes a string, and returns a dictionary representing the unique words in the string, and the number of times each word occurred."
   ]
  },
  {
   "cell_type": "code",
   "execution_count": null,
   "id": "757ecb85",
   "metadata": {
    "execution": {
     "iopub.execute_input": "2023-10-18T23:14:09.158788Z",
     "iopub.status.busy": "2023-10-18T23:14:09.158353Z",
     "iopub.status.idle": "2023-10-18T23:14:09.163711Z",
     "shell.execute_reply": "2023-10-18T23:14:09.162344Z"
    },
    "slideshow": {
     "slide_type": "subslide"
    }
   },
   "outputs": [],
   "source": [
    "def count_words(word_string):\n",
    "    # ???\n",
    "    return {}"
   ]
  },
  {
   "cell_type": "code",
   "execution_count": null,
   "id": "495abde5",
   "metadata": {
    "execution": {
     "iopub.execute_input": "2023-10-18T23:14:09.168062Z",
     "iopub.status.busy": "2023-10-18T23:14:09.167656Z",
     "iopub.status.idle": "2023-10-18T23:14:09.172405Z",
     "shell.execute_reply": "2023-10-18T23:14:09.171674Z"
    },
    "slideshow": {
     "slide_type": "subslide"
    }
   },
   "outputs": [],
   "source": [
    "# attempt 1\n",
    "def count_words(word_string):\n",
    "    words = word_string.split()\n",
    "    counts = {}\n",
    "    for word in words:\n",
    "        counts[word] = counts[word] + 1\n",
    "    return counts"
   ]
  },
  {
   "cell_type": "code",
   "execution_count": null,
   "id": "dca8dd3b",
   "metadata": {
    "execution": {
     "iopub.execute_input": "2023-10-18T23:14:09.176460Z",
     "iopub.status.busy": "2023-10-18T23:14:09.176052Z",
     "iopub.status.idle": "2023-10-18T23:14:09.207300Z",
     "shell.execute_reply": "2023-10-18T23:14:09.206639Z"
    },
    "tags": [
     "raises-exception"
    ]
   },
   "outputs": [],
   "source": [
    "count_words(\"It was the best of times it was the worst of times it was the age of wisdom it was the age of foolishness\")"
   ]
  },
  {
   "cell_type": "markdown",
   "id": "85172442",
   "metadata": {
    "slideshow": {
     "slide_type": "subslide"
    }
   },
   "source": [
    "We need to handle the initial condition, where the word hasn't been found yet."
   ]
  },
  {
   "cell_type": "code",
   "execution_count": null,
   "id": "1f41ae33",
   "metadata": {
    "execution": {
     "iopub.execute_input": "2023-10-18T23:14:09.212285Z",
     "iopub.status.busy": "2023-10-18T23:14:09.211667Z",
     "iopub.status.idle": "2023-10-18T23:14:09.217588Z",
     "shell.execute_reply": "2023-10-18T23:14:09.216058Z"
    },
    "slideshow": {
     "slide_type": "-"
    }
   },
   "outputs": [],
   "source": [
    "# attempt 2\n",
    "def count_words(word_string):\n",
    "    words = word_string.split()\n",
    "    counts = {}\n",
    "    for word in words:\n",
    "        if word not in counts:\n",
    "            counts[word] = 1\n",
    "        else:\n",
    "            counts[word] = counts[word] + 1\n",
    "    return counts"
   ]
  },
  {
   "cell_type": "code",
   "execution_count": null,
   "id": "80f13cee",
   "metadata": {
    "execution": {
     "iopub.execute_input": "2023-10-18T23:14:09.221831Z",
     "iopub.status.busy": "2023-10-18T23:14:09.221519Z",
     "iopub.status.idle": "2023-10-18T23:14:09.228445Z",
     "shell.execute_reply": "2023-10-18T23:14:09.227587Z"
    },
    "tags": [
     "raises-exception"
    ]
   },
   "outputs": [],
   "source": [
    "count_words(\"It was the best of times it was the worst of times it was the age of wisdom it was the age of foolishness\")"
   ]
  },
  {
   "cell_type": "markdown",
   "id": "d4685ea7",
   "metadata": {
    "slideshow": {
     "slide_type": "subslide"
    }
   },
   "source": [
    "Whoops, looks like we have to deal with upper vs. lower case."
   ]
  },
  {
   "cell_type": "code",
   "execution_count": null,
   "id": "29d0c676",
   "metadata": {
    "execution": {
     "iopub.execute_input": "2023-10-18T23:14:09.234732Z",
     "iopub.status.busy": "2023-10-18T23:14:09.234176Z",
     "iopub.status.idle": "2023-10-18T23:14:09.239501Z",
     "shell.execute_reply": "2023-10-18T23:14:09.238676Z"
    },
    "slideshow": {
     "slide_type": "-"
    }
   },
   "outputs": [],
   "source": [
    "# attempt 3\n",
    "def count_words(word_string):\n",
    "    words = word_string.lower().split()\n",
    "    counts = {}\n",
    "    for word in words:\n",
    "        if word not in counts:\n",
    "            counts[word] = 1\n",
    "        else:\n",
    "            counts[word] = counts[word] + 1\n",
    "    return counts"
   ]
  },
  {
   "cell_type": "code",
   "execution_count": null,
   "id": "9d416a45",
   "metadata": {
    "execution": {
     "iopub.execute_input": "2023-10-18T23:14:09.243368Z",
     "iopub.status.busy": "2023-10-18T23:14:09.243063Z",
     "iopub.status.idle": "2023-10-18T23:14:09.252105Z",
     "shell.execute_reply": "2023-10-18T23:14:09.250846Z"
    },
    "tags": [
     "raises-exception"
    ]
   },
   "outputs": [],
   "source": [
    "count_words(\"It was the best of times it was the worst of times it was the age of wisdom it was the age of foolishness\")"
   ]
  },
  {
   "cell_type": "markdown",
   "id": "f6478b85",
   "metadata": {
    "slideshow": {
     "slide_type": "subslide"
    }
   },
   "source": [
    "That was perfectly good code! But we can make it a little cleaner using `get()`:"
   ]
  },
  {
   "cell_type": "code",
   "execution_count": null,
   "id": "cf794570",
   "metadata": {
    "execution": {
     "iopub.execute_input": "2023-10-18T23:14:09.256784Z",
     "iopub.status.busy": "2023-10-18T23:14:09.256446Z",
     "iopub.status.idle": "2023-10-18T23:14:09.262185Z",
     "shell.execute_reply": "2023-10-18T23:14:09.261049Z"
    }
   },
   "outputs": [],
   "source": [
    "# an alternative, using get()\n",
    "def count_words(word_string):\n",
    "    words = word_string.lower().split()\n",
    "    counts = {}\n",
    "    for word in words:\n",
    "        counts[word] = counts.get(word, 0) + 1\n",
    "    return counts"
   ]
  },
  {
   "cell_type": "code",
   "execution_count": null,
   "id": "96f44ddd",
   "metadata": {
    "execution": {
     "iopub.execute_input": "2023-10-18T23:14:09.276721Z",
     "iopub.status.busy": "2023-10-18T23:14:09.276149Z",
     "iopub.status.idle": "2023-10-18T23:14:09.286656Z",
     "shell.execute_reply": "2023-10-18T23:14:09.284624Z"
    },
    "tags": [
     "raises-exception"
    ]
   },
   "outputs": [],
   "source": [
    "count_words(\"It was the best of times it was the worst of times it was the age of wisdom it was the age of foolishness\")"
   ]
  },
  {
   "cell_type": "markdown",
   "id": "c2bfbe94",
   "metadata": {
    "slideshow": {
     "slide_type": "slide"
    }
   },
   "source": [
    "## Dictionary comprehensions\n",
    "\n",
    "Similar to lists, dictionaries can be created using \"comprehensions\":"
   ]
  },
  {
   "cell_type": "code",
   "execution_count": null,
   "id": "3f9a0d28",
   "metadata": {
    "execution": {
     "iopub.execute_input": "2023-10-18T23:14:09.291755Z",
     "iopub.status.busy": "2023-10-18T23:14:09.291417Z",
     "iopub.status.idle": "2023-10-18T23:14:09.298808Z",
     "shell.execute_reply": "2023-10-18T23:14:09.297512Z"
    }
   },
   "outputs": [],
   "source": [
    "squared_nums = {x: x**2 for x in range(5)}\n",
    "print(squared_nums)"
   ]
  },
  {
   "cell_type": "markdown",
   "id": "6925b281",
   "metadata": {
    "slideshow": {
     "slide_type": "subslide"
    }
   },
   "source": [
    "The formal syntax of a dictionary comprehension is:\n",
    "\n",
    "`{<key expression>: <value expression> for <var> in <iterable>}`  \n",
    "or  \n",
    "`{<key expression>: <value expression> for <var> in <iterable> if <boolean expression>}`\n",
    "\n",
    "Both the key and value can be any expression (as long as they evaluate to valid key and value types)."
   ]
  },
  {
   "cell_type": "markdown",
   "id": "4bee65de",
   "metadata": {
    "slideshow": {
     "slide_type": "subslide"
    }
   },
   "source": [
    "This code creates a dictionary that maps from vegetable name to the count of vowels in the vegetable name:"
   ]
  },
  {
   "cell_type": "code",
   "execution_count": null,
   "id": "f3dde53d",
   "metadata": {
    "execution": {
     "iopub.execute_input": "2023-10-18T23:14:09.304058Z",
     "iopub.status.busy": "2023-10-18T23:14:09.303704Z",
     "iopub.status.idle": "2023-10-18T23:14:09.308348Z",
     "shell.execute_reply": "2023-10-18T23:14:09.307566Z"
    }
   },
   "outputs": [],
   "source": [
    "def count_vowels(word):\n",
    "    count = 0\n",
    "    for c in word:\n",
    "        if c in 'aeiou':\n",
    "            count += 1\n",
    "    return count"
   ]
  },
  {
   "cell_type": "code",
   "execution_count": null,
   "id": "1b142d8b",
   "metadata": {
    "execution": {
     "iopub.execute_input": "2023-10-18T23:14:09.313434Z",
     "iopub.status.busy": "2023-10-18T23:14:09.312760Z",
     "iopub.status.idle": "2023-10-18T23:14:09.319683Z",
     "shell.execute_reply": "2023-10-18T23:14:09.318177Z"
    },
    "slideshow": {
     "slide_type": ""
    }
   },
   "outputs": [],
   "source": [
    "# with a comprehension\n",
    "vegetables = [\"cucumber\", \"tomato\", \"pepper\", \"carrot\"]\n",
    "veggie_counts = {veggie: count_vowels(veggie) for veggie in vegetables}\n",
    "print(veggie_counts)"
   ]
  },
  {
   "cell_type": "code",
   "execution_count": null,
   "id": "e0a88294",
   "metadata": {
    "execution": {
     "iopub.execute_input": "2023-10-18T23:14:09.325190Z",
     "iopub.status.busy": "2023-10-18T23:14:09.324514Z",
     "iopub.status.idle": "2023-10-18T23:14:09.332885Z",
     "shell.execute_reply": "2023-10-18T23:14:09.331271Z"
    },
    "slideshow": {
     "slide_type": ""
    }
   },
   "outputs": [],
   "source": [
    "# without a comprehension\n",
    "vegetables = [\"cucumber\", \"tomato\", \"pepper\", \"carrot\"]\n",
    "veggie_counts = {}\n",
    "for veggie in vegetables:\n",
    "    veggie_counts[veggie] = count_vowels(veggie)\n",
    "print(veggie_counts)"
   ]
  },
  {
   "cell_type": "markdown",
   "id": "d375042d",
   "metadata": {
    "slideshow": {
     "slide_type": "subslide"
    }
   },
   "source": [
    "This code does the same thing, except it limits the dictionary to vegetables that have at least 3 vowels in their names:"
   ]
  },
  {
   "cell_type": "code",
   "execution_count": null,
   "id": "ca6ad29d",
   "metadata": {
    "execution": {
     "iopub.execute_input": "2023-10-18T23:14:09.340512Z",
     "iopub.status.busy": "2023-10-18T23:14:09.340009Z",
     "iopub.status.idle": "2023-10-18T23:14:09.347572Z",
     "shell.execute_reply": "2023-10-18T23:14:09.345174Z"
    },
    "slideshow": {
     "slide_type": "subslide"
    }
   },
   "outputs": [],
   "source": [
    "# with a comprehension\n",
    "vegetables = [\"cucumber\", \"tomato\", \"pepper\", \"carrot\"]\n",
    "veggie_counts = {veggie: count_vowels(veggie) for veggie in vegetables if count_vowels(veggie) > 2}\n",
    "print(veggie_counts)"
   ]
  },
  {
   "cell_type": "code",
   "execution_count": null,
   "id": "71b3ac33",
   "metadata": {
    "execution": {
     "iopub.execute_input": "2023-10-18T23:14:09.354649Z",
     "iopub.status.busy": "2023-10-18T23:14:09.354270Z",
     "iopub.status.idle": "2023-10-18T23:14:09.359547Z",
     "shell.execute_reply": "2023-10-18T23:14:09.358702Z"
    },
    "slideshow": {
     "slide_type": "subslide"
    }
   },
   "outputs": [],
   "source": [
    "# without a comprehension\n",
    "vegetables = [\"cucumber\", \"tomato\", \"pepper\", \"carrot\"]\n",
    "veggie_counts = {}\n",
    "for veggie in vegetables:\n",
    "    num_vowels = count_vowels(veggie)\n",
    "    if num_vowels > 2:\n",
    "        veggie_counts[veggie] = num_vowels\n",
    "print(veggie_counts)"
   ]
  },
  {
   "cell_type": "markdown",
   "id": "01c3b98e",
   "metadata": {
    "slideshow": {
     "slide_type": "subslide"
    }
   },
   "source": [
    "One last example, which creates a dictionary with each vegetable as a key, and a random integer as each value:"
   ]
  },
  {
   "cell_type": "code",
   "execution_count": null,
   "id": "7682d5d4",
   "metadata": {
    "execution": {
     "iopub.execute_input": "2023-10-18T23:14:09.366063Z",
     "iopub.status.busy": "2023-10-18T23:14:09.365712Z",
     "iopub.status.idle": "2023-10-18T23:14:09.372308Z",
     "shell.execute_reply": "2023-10-18T23:14:09.371483Z"
    },
    "slideshow": {
     "slide_type": "subslide"
    }
   },
   "outputs": [],
   "source": [
    "import random \n",
    "vegetables = [\"cucumber\", \"tomato\", \"pepper\", \"carrot\"]\n",
    "veggie_counts = {veggie: random.randint(0, 10) for veggie in vegetables}\n",
    "print(veggie_counts)"
   ]
  },
  {
   "cell_type": "markdown",
   "id": "06b3eb99",
   "metadata": {
    "slideshow": {
     "slide_type": "slide"
    }
   },
   "source": [
    "# [Slido](https://wall.sli.do/event/h4FwBMY6vLLm4qKujQS37V?section=53bf946d-921c-4bda-8f4f-0e7fa6363572)"
   ]
  },
  {
   "cell_type": "markdown",
   "id": "add953fb",
   "metadata": {
    "slideshow": {
     "slide_type": "slide"
    }
   },
   "source": [
    "# Sets\n",
    "\n",
    "Sets are unordered lists of unique values. "
   ]
  },
  {
   "cell_type": "markdown",
   "id": "823df567",
   "metadata": {
    "slideshow": {
     "slide_type": "subslide"
    }
   },
   "source": [
    "## Creating sets \n",
    "\n",
    "Sets can be created from any iterable."
   ]
  },
  {
   "cell_type": "code",
   "execution_count": null,
   "id": "54986c12",
   "metadata": {
    "execution": {
     "iopub.execute_input": "2023-10-18T23:14:09.376462Z",
     "iopub.status.busy": "2023-10-18T23:14:09.375969Z",
     "iopub.status.idle": "2023-10-18T23:14:09.382444Z",
     "shell.execute_reply": "2023-10-18T23:14:09.381218Z"
    }
   },
   "outputs": [],
   "source": [
    "names = set([\"Batman\", \"Spiderman\", \"Batman\", \"Spongebob\"])\n",
    "print(names)"
   ]
  },
  {
   "cell_type": "markdown",
   "id": "e51b981d",
   "metadata": {
    "slideshow": {
     "slide_type": "subslide"
    }
   },
   "source": [
    "## Accessing set members\n",
    "\n",
    "Because sets are unordered, there are no index-based accessors. You can use `in` to check for membership."
   ]
  },
  {
   "cell_type": "code",
   "execution_count": null,
   "id": "313bed9b",
   "metadata": {
    "execution": {
     "iopub.execute_input": "2023-10-18T23:14:09.388698Z",
     "iopub.status.busy": "2023-10-18T23:14:09.388264Z",
     "iopub.status.idle": "2023-10-18T23:14:09.392125Z",
     "shell.execute_reply": "2023-10-18T23:14:09.391359Z"
    }
   },
   "outputs": [],
   "source": [
    "names = set([\"Batman\", \"Spiderman\", \"Batman\", \"Spongebob\"])"
   ]
  },
  {
   "cell_type": "code",
   "execution_count": null,
   "id": "abeb0fc4",
   "metadata": {
    "execution": {
     "iopub.execute_input": "2023-10-18T23:14:09.399642Z",
     "iopub.status.busy": "2023-10-18T23:14:09.398619Z",
     "iopub.status.idle": "2023-10-18T23:14:09.417149Z",
     "shell.execute_reply": "2023-10-18T23:14:09.408177Z"
    }
   },
   "outputs": [],
   "source": [
    "\"Batman\" in names"
   ]
  },
  {
   "cell_type": "code",
   "execution_count": null,
   "id": "73d210fb",
   "metadata": {
    "execution": {
     "iopub.execute_input": "2023-10-18T23:14:09.451726Z",
     "iopub.status.busy": "2023-10-18T23:14:09.441433Z",
     "iopub.status.idle": "2023-10-18T23:14:09.473454Z",
     "shell.execute_reply": "2023-10-18T23:14:09.471703Z"
    }
   },
   "outputs": [],
   "source": [
    "\"Peppa\" in names"
   ]
  },
  {
   "cell_type": "markdown",
   "id": "0fafb673",
   "metadata": {
    "slideshow": {
     "slide_type": "subslide"
    }
   },
   "source": [
    "## Iterating over sets\n",
    "\n",
    "Sets are iterable, which means you can loop through every member in a set with a `for` loop. \n",
    "\n",
    "They aren't sequences though - they don't have a well-defined order."
   ]
  },
  {
   "cell_type": "code",
   "execution_count": null,
   "id": "91a44055",
   "metadata": {
    "execution": {
     "iopub.execute_input": "2023-10-18T23:14:09.487686Z",
     "iopub.status.busy": "2023-10-18T23:14:09.486907Z",
     "iopub.status.idle": "2023-10-18T23:14:09.554530Z",
     "shell.execute_reply": "2023-10-18T23:14:09.526387Z"
    }
   },
   "outputs": [],
   "source": [
    "names = set([\"Batman\", \"Spiderman\", \"Batman\", \"Spongebob\"])\n",
    "for name in names:\n",
    "    print(name)"
   ]
  },
  {
   "cell_type": "markdown",
   "id": "aad239e3",
   "metadata": {
    "slideshow": {
     "slide_type": "subslide"
    }
   },
   "source": [
    "## Modifying sets\n",
    "\n",
    "`add()`, `remove()`, `clear()`"
   ]
  },
  {
   "cell_type": "code",
   "execution_count": null,
   "id": "da7bfa62",
   "metadata": {
    "execution": {
     "iopub.execute_input": "2023-10-18T23:14:09.562582Z",
     "iopub.status.busy": "2023-10-18T23:14:09.561552Z",
     "iopub.status.idle": "2023-10-18T23:14:09.572054Z",
     "shell.execute_reply": "2023-10-18T23:14:09.569437Z"
    }
   },
   "outputs": [],
   "source": [
    "names = set([\"Batman\", \"Spiderman\", \"Batman\", \"Spongebob\"])\n",
    "names.add(\"Peppa\")\n",
    "print(names)"
   ]
  },
  {
   "cell_type": "code",
   "execution_count": null,
   "id": "8f0cb2a7",
   "metadata": {
    "execution": {
     "iopub.execute_input": "2023-10-18T23:14:09.578080Z",
     "iopub.status.busy": "2023-10-18T23:14:09.577377Z",
     "iopub.status.idle": "2023-10-18T23:14:09.585139Z",
     "shell.execute_reply": "2023-10-18T23:14:09.583445Z"
    }
   },
   "outputs": [],
   "source": [
    "names = set([\"Batman\", \"Spiderman\", \"Batman\", \"Spongebob\"])\n",
    "names.remove(\"Batman\")\n",
    "print(names)"
   ]
  },
  {
   "cell_type": "code",
   "execution_count": null,
   "id": "d807b3bf",
   "metadata": {
    "execution": {
     "iopub.execute_input": "2023-10-18T23:14:09.592034Z",
     "iopub.status.busy": "2023-10-18T23:14:09.591294Z",
     "iopub.status.idle": "2023-10-18T23:14:09.599308Z",
     "shell.execute_reply": "2023-10-18T23:14:09.598100Z"
    }
   },
   "outputs": [],
   "source": [
    "names = set([\"Batman\", \"Spiderman\", \"Batman\", \"Spongebob\"])\n",
    "names.clear()\n",
    "print(names)"
   ]
  },
  {
   "cell_type": "markdown",
   "id": "58f4e563",
   "metadata": {},
   "source": [
    "## Modifying sets\n",
    "\n",
    "`update()` will add multiple items at once."
   ]
  },
  {
   "cell_type": "code",
   "execution_count": null,
   "id": "be5e930e",
   "metadata": {
    "execution": {
     "iopub.execute_input": "2023-10-18T23:14:09.607363Z",
     "iopub.status.busy": "2023-10-18T23:14:09.606848Z",
     "iopub.status.idle": "2023-10-18T23:14:09.615115Z",
     "shell.execute_reply": "2023-10-18T23:14:09.613841Z"
    }
   },
   "outputs": [],
   "source": [
    "names = set([\"Batman\", \"Spiderman\", \"Batman\", \"Spongebob\"])\n",
    "names.update([\"Wolverine\", \"Batman\", \"Wolverine\", \"Magneto\"])\n",
    "print(names)"
   ]
  },
  {
   "cell_type": "markdown",
   "id": "5e54dda1",
   "metadata": {
    "slideshow": {
     "slide_type": "subslide"
    }
   },
   "source": [
    "## Set operations\n",
    "\n",
    "Sets provide equality, intersection, union, and difference operators."
   ]
  },
  {
   "cell_type": "markdown",
   "id": "0f16dfec",
   "metadata": {
    "slideshow": {
     "slide_type": "subslide"
    }
   },
   "source": [
    "## Equality\n",
    "\n",
    "Sets can be compared with `==`"
   ]
  },
  {
   "cell_type": "code",
   "execution_count": null,
   "id": "0da2c191",
   "metadata": {
    "execution": {
     "iopub.execute_input": "2023-10-18T23:14:09.622379Z",
     "iopub.status.busy": "2023-10-18T23:14:09.621858Z",
     "iopub.status.idle": "2023-10-18T23:14:09.630977Z",
     "shell.execute_reply": "2023-10-18T23:14:09.629344Z"
    }
   },
   "outputs": [],
   "source": [
    "fluffy = set([\"cat\", \"dog\", \"dandelion\", \"pillow\"])\n",
    "loud = set([\"dog\", \"cat\", \"baby\", \"horn\", \"alarm\"])\n",
    "fluffy == loud"
   ]
  },
  {
   "cell_type": "markdown",
   "id": "7c02d975",
   "metadata": {
    "slideshow": {
     "slide_type": "subslide"
    }
   },
   "source": [
    "## Intersection \n",
    "\n",
    "The \"intersection\" of 2 (or more) sets is the set of elements that appear in all sets. The `&` operator performs an intersection on 2 sets."
   ]
  },
  {
   "cell_type": "code",
   "execution_count": null,
   "id": "d489db25",
   "metadata": {
    "execution": {
     "iopub.execute_input": "2023-10-18T23:14:09.638005Z",
     "iopub.status.busy": "2023-10-18T23:14:09.637596Z",
     "iopub.status.idle": "2023-10-18T23:14:09.645021Z",
     "shell.execute_reply": "2023-10-18T23:14:09.644193Z"
    },
    "slideshow": {
     "slide_type": "-"
    }
   },
   "outputs": [],
   "source": [
    "fluffy = set([\"cat\", \"dog\", \"dandelion\", \"pillow\"])\n",
    "loud = set([\"dog\", \"cat\", \"baby\", \"horn\", \"alarm\"])\n",
    "fluffy & loud"
   ]
  },
  {
   "cell_type": "markdown",
   "id": "8e00199b",
   "metadata": {
    "slideshow": {
     "slide_type": "subslide"
    }
   },
   "source": [
    "## Union\n",
    "\n",
    "The \"union\" of 2 (or more) sets is the set of elements that appear in any of the sets. The `|` operator performs a union on 2 sets."
   ]
  },
  {
   "cell_type": "code",
   "execution_count": null,
   "id": "cdaf5fc2",
   "metadata": {
    "execution": {
     "iopub.execute_input": "2023-10-18T23:14:09.651575Z",
     "iopub.status.busy": "2023-10-18T23:14:09.650904Z",
     "iopub.status.idle": "2023-10-18T23:14:09.659658Z",
     "shell.execute_reply": "2023-10-18T23:14:09.658573Z"
    }
   },
   "outputs": [],
   "source": [
    "fluffy = set([\"cat\", \"dog\", \"dandelion\", \"pillow\"])\n",
    "loud = set([\"dog\", \"cat\", \"baby\", \"horn\", \"alarm\"])\n",
    "fluffy | loud"
   ]
  },
  {
   "cell_type": "markdown",
   "id": "0f397b58",
   "metadata": {
    "slideshow": {
     "slide_type": "subslide"
    }
   },
   "source": [
    "## Subtraction / difference\n",
    "\n",
    "The \"difference\" of 2 sets is the set of elements that appears in set A, but not in set B. The `-` operator performs a difference on 2 sets."
   ]
  },
  {
   "cell_type": "code",
   "execution_count": null,
   "id": "fa27ec38",
   "metadata": {
    "execution": {
     "iopub.execute_input": "2023-10-18T23:14:09.663464Z",
     "iopub.status.busy": "2023-10-18T23:14:09.663127Z",
     "iopub.status.idle": "2023-10-18T23:14:09.675068Z",
     "shell.execute_reply": "2023-10-18T23:14:09.674206Z"
    },
    "slideshow": {
     "slide_type": "-"
    }
   },
   "outputs": [],
   "source": [
    "fluffy = set([\"cat\", \"dog\", \"dandelion\", \"pillow\"])\n",
    "loud = set([\"dog\", \"cat\", \"baby\", \"horn\", \"alarm\"])\n",
    "fluffy - loud"
   ]
  },
  {
   "cell_type": "markdown",
   "id": "7710f7b9",
   "metadata": {},
   "source": [
    "Order matters for subtraction."
   ]
  },
  {
   "cell_type": "code",
   "execution_count": null,
   "id": "3e04f91f",
   "metadata": {
    "execution": {
     "iopub.execute_input": "2023-10-18T23:14:09.679515Z",
     "iopub.status.busy": "2023-10-18T23:14:09.679187Z",
     "iopub.status.idle": "2023-10-18T23:14:09.687075Z",
     "shell.execute_reply": "2023-10-18T23:14:09.685959Z"
    }
   },
   "outputs": [],
   "source": [
    "loud - fluffy"
   ]
  },
  {
   "cell_type": "markdown",
   "id": "5b7dc6d3",
   "metadata": {
    "slideshow": {
     "slide_type": "subslide"
    }
   },
   "source": [
    "## Symmetric difference (\"xor\")\n",
    "\n",
    "The \"symmetric difference\" of 2 sets is the set of items that appear in either set, but not both. \n",
    "\n",
    "This is also sometimes referred to as `xor` (\"exclusive or\"), from boolean/digital logic. \n",
    "\n",
    "The `^` operator performs a symmetric difference."
   ]
  },
  {
   "cell_type": "code",
   "execution_count": null,
   "id": "e812620d",
   "metadata": {
    "execution": {
     "iopub.execute_input": "2023-10-18T23:14:09.691346Z",
     "iopub.status.busy": "2023-10-18T23:14:09.691007Z",
     "iopub.status.idle": "2023-10-18T23:14:09.696593Z",
     "shell.execute_reply": "2023-10-18T23:14:09.695822Z"
    }
   },
   "outputs": [],
   "source": [
    "fluffy = set([\"cat\", \"dog\", \"dandelion\", \"pillow\"])\n",
    "loud = set([\"dog\", \"cat\", \"baby\", \"horn\", \"alarm\"])\n",
    "fluffy ^ loud"
   ]
  },
  {
   "cell_type": "markdown",
   "id": "40187608",
   "metadata": {
    "slideshow": {
     "slide_type": "subslide"
    }
   },
   "source": [
    "## Superset / subset\n",
    "\n",
    "Superset: a set contains all elements of another set  \n",
    "Subset: a set is made up only of elements from another set"
   ]
  },
  {
   "cell_type": "code",
   "execution_count": null,
   "id": "a2e376ab",
   "metadata": {
    "execution": {
     "iopub.execute_input": "2023-10-18T23:14:09.701789Z",
     "iopub.status.busy": "2023-10-18T23:14:09.700919Z",
     "iopub.status.idle": "2023-10-18T23:14:09.707096Z",
     "shell.execute_reply": "2023-10-18T23:14:09.706351Z"
    }
   },
   "outputs": [],
   "source": [
    "letters = set(\"abcdefghijklmnopqrstuvwxyz\")\n",
    "vowels = set(\"aeiou\")\n",
    "letters.issuperset(vowels)"
   ]
  },
  {
   "cell_type": "code",
   "execution_count": null,
   "id": "3c4c3a75",
   "metadata": {
    "execution": {
     "iopub.execute_input": "2023-10-18T23:14:09.710968Z",
     "iopub.status.busy": "2023-10-18T23:14:09.710661Z",
     "iopub.status.idle": "2023-10-18T23:14:09.715745Z",
     "shell.execute_reply": "2023-10-18T23:14:09.715035Z"
    }
   },
   "outputs": [],
   "source": [
    "vowels.issuperset(letters)"
   ]
  },
  {
   "cell_type": "code",
   "execution_count": null,
   "id": "168f2584",
   "metadata": {
    "execution": {
     "iopub.execute_input": "2023-10-18T23:14:09.721253Z",
     "iopub.status.busy": "2023-10-18T23:14:09.720747Z",
     "iopub.status.idle": "2023-10-18T23:14:09.725626Z",
     "shell.execute_reply": "2023-10-18T23:14:09.724955Z"
    }
   },
   "outputs": [],
   "source": [
    "vowels.issubset(letters)"
   ]
  },
  {
   "cell_type": "code",
   "execution_count": null,
   "id": "6458b474",
   "metadata": {
    "execution": {
     "iopub.execute_input": "2023-10-18T23:14:09.728750Z",
     "iopub.status.busy": "2023-10-18T23:14:09.728479Z",
     "iopub.status.idle": "2023-10-18T23:14:09.734218Z",
     "shell.execute_reply": "2023-10-18T23:14:09.732891Z"
    }
   },
   "outputs": [],
   "source": [
    "letters.issubset(vowels)"
   ]
  },
  {
   "cell_type": "markdown",
   "id": "6451bdfd",
   "metadata": {
    "slideshow": {
     "slide_type": "subslide"
    }
   },
   "source": [
    "## Set Comprehensions\n",
    "\n",
    "Just like lists and dictionaries, sets can also be created with comprehensions.\n",
    "\n",
    "Confusingly, their comprehensions use curly brackets `{` `}`"
   ]
  },
  {
   "cell_type": "markdown",
   "id": "e1b338c7",
   "metadata": {
    "slideshow": {
     "slide_type": "subslide"
    }
   },
   "source": [
    "## Example\n",
    "\n",
    "Write a program that prompts the user to enter the postal abbreviations for all 50 U.S. states. The player loses if they repeat a guess, or guesses something that isn't valid."
   ]
  },
  {
   "cell_type": "code",
   "execution_count": null,
   "id": "47a85d7e",
   "metadata": {
    "execution": {
     "iopub.execute_input": "2023-10-18T23:14:09.739138Z",
     "iopub.status.busy": "2023-10-18T23:14:09.738840Z",
     "iopub.status.idle": "2023-10-18T23:14:09.743223Z",
     "shell.execute_reply": "2023-10-18T23:14:09.742555Z"
    }
   },
   "outputs": [],
   "source": [
    "states = set([ 'AK', 'AL', 'AR', 'AZ', 'CA', 'CO', 'CT', 'DE', 'FL', 'GA',\n",
    "           'HI', 'IA', 'ID', 'IL', 'IN', 'KS', 'KY', 'LA', 'MA', 'MD', 'ME',\n",
    "           'MI', 'MN', 'MO', 'MS', 'MT', 'NC', 'ND', 'NE', 'NH', 'NJ', 'NM',\n",
    "           'NV', 'NY', 'OH', 'OK', 'OR', 'PA', 'RI', 'SC', 'SD', 'TN', 'TX',\n",
    "           'UT', 'VA', 'VT', 'WA', 'WI', 'WV', 'WY'])"
   ]
  },
  {
   "cell_type": "code",
   "execution_count": null,
   "id": "8e5e3add",
   "metadata": {
    "execution": {
     "iopub.execute_input": "2023-10-18T23:14:09.746552Z",
     "iopub.status.busy": "2023-10-18T23:14:09.746264Z",
     "iopub.status.idle": "2023-10-18T23:14:09.877723Z",
     "shell.execute_reply": "2023-10-18T23:14:09.876115Z"
    },
    "slideshow": {
     "slide_type": "subslide"
    },
    "tags": [
     "remove-output"
    ]
   },
   "outputs": [],
   "source": [
    "states = set([ 'AK', 'AL', 'AR', 'AZ', 'CA', 'CO', 'CT', 'DE', 'FL', 'GA',\n",
    "           'HI', 'IA', 'ID', 'IL', 'IN', 'KS', 'KY', 'LA', 'MA', 'MD', 'ME',\n",
    "           'MI', 'MN', 'MO', 'MS', 'MT', 'NC', 'ND', 'NE', 'NH', 'NJ', 'NM',\n",
    "           'NV', 'NY', 'OH', 'OK', 'OR', 'PA', 'RI', 'SC', 'SD', 'TN', 'TX',\n",
    "           'UT', 'VA', 'VT', 'WA', 'WI', 'WV', 'WY'])\n",
    "guesses = set()\n",
    "\n",
    "print(\"Guess all 50 US state postal abbreviations, without repeating.\")\n",
    "while True:\n",
    "    print(\"Guess? \")\n",
    "    answer = input()\n",
    "    if answer in guesses:\n",
    "        print(f\"You already guessed {answer}!\")\n",
    "        break\n",
    "    if answer not in states:\n",
    "        print(f\"{answer} is not a valid postal code!\")\n",
    "        break\n",
    "    guesses.add(answer)\n",
    "    if guesses == states:\n",
    "        print(\"You win!\")\n",
    "        break\n",
    "    print(f\"You've guessed {len(guesses)}/{len(states)} so far.\")"
   ]
  }
 ],
 "metadata": {
  "celltoolbar": "Slideshow",
  "kernelspec": {
   "display_name": "Python 3 (ipykernel)",
   "language": "python",
   "name": "python3"
  },
  "language_info": {
   "codemirror_mode": {
    "name": "ipython",
    "version": 3
   },
   "file_extension": ".py",
   "mimetype": "text/x-python",
   "name": "python",
   "nbconvert_exporter": "python",
   "pygments_lexer": "ipython3",
   "version": "3.10.9"
  }
 },
 "nbformat": 4,
 "nbformat_minor": 5
}
