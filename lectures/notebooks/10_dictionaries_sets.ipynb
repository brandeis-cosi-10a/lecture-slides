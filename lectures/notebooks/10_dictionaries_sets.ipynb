{
 "cells": [
  {
   "cell_type": "markdown",
   "id": "1ee8a1d2",
   "metadata": {
    "slideshow": {
     "slide_type": "slide"
    }
   },
   "source": [
    "# Dictionaries and Sets\n",
    "\n",
    "<style>\n",
    "section.present > section.present { \n",
    "    max-height: 90%; \n",
    "    overflow-y: scroll;\n",
    "}\n",
    "</style>\n",
    "\n",
    "<small><a href=\"https://colab.research.google.com/github/brandeis-jdelfino/cosi-10a/blob/main/lectures/notebooks/10_dictionaries_sets.ipynb\">Link to interactive slides on Google Colab</a></small>"
   ]
  },
  {
   "cell_type": "markdown",
   "id": "84bdae82",
   "metadata": {
    "slideshow": {
     "slide_type": "slide"
    }
   },
   "source": [
    "## Announcements\n",
    "\n",
    "* PS2 grades are in LATTE, reach out to me with questions\n",
    "* PS3 due Sunday 11:59pm; don't count on availability of help over the weekend\n",
    "* PS3 guidance: Read the instructions carefully! In some problems, **especially Pig Latin**, the provided test cases don't cover every possible situation. \n",
    "   * You are required to add unit tests for Vowel Filter, but you are free to add them to other problems if it is helpful."
   ]
  },
  {
   "cell_type": "markdown",
   "id": "ecf7cb81",
   "metadata": {
    "slideshow": {
     "slide_type": "slide"
    }
   },
   "source": [
    "In the next 2 lectures, we'll cover the last 2 widely used data types in Python:\n",
    "* Dictionaries: mappings from keys to values\n",
    "* Sets: Unordered lists of unique values"
   ]
  },
  {
   "cell_type": "markdown",
   "id": "cf21df57",
   "metadata": {
    "slideshow": {
     "slide_type": "slide"
    }
   },
   "source": [
    "## The exercise Exercise, revisited\n",
    "\n",
    "We had 2 \"parallel lists\": names, and lists of which days those characters exercised. We used `zip` to iterate over them together."
   ]
  },
  {
   "cell_type": "code",
   "execution_count": null,
   "id": "61e4ff79",
   "metadata": {
    "execution": {
     "iopub.execute_input": "2023-10-27T13:11:21.851154Z",
     "iopub.status.busy": "2023-10-27T13:11:21.850598Z",
     "iopub.status.idle": "2023-10-27T13:11:21.870827Z",
     "shell.execute_reply": "2023-10-27T13:11:21.869558Z"
    }
   },
   "outputs": [],
   "source": [
    "names = [\"Spongebob\", \"Batman\", \"Dora\", \"Peppa\", \"Bill Murray\"]\n",
    "data = [\n",
    "    [1, 7, 15, 31],\n",
    "    [2, 21],\n",
    "    [5],\n",
    "    [1, 3, 5, 7, 9, 11, 13, 15, 17, 19, 21, 23, 25, 27, 29],\n",
    "    [1, 2, 3, 4, 5, 6]\n",
    "]\n",
    "\n",
    "most = 0\n",
    "most_name = \"\"\n",
    "for (name, dates) in zip(names, data):\n",
    "    if len(dates) > most:\n",
    "        most = len(dates)\n",
    "        most_name = name\n",
    "print(f\"{most_name} exercised the most, with {most} days of exercise!\")"
   ]
  },
  {
   "cell_type": "markdown",
   "id": "b1a36898",
   "metadata": {
    "slideshow": {
     "slide_type": "subslide"
    }
   },
   "source": [
    "**Dictionaries** are a better data structure for this type of data. They map **keys** (names) to **values** (list of exercise dates).\n",
    "\n",
    "Here's how that example would look with a dictionary."
   ]
  },
  {
   "cell_type": "code",
   "execution_count": null,
   "id": "182868ec",
   "metadata": {
    "execution": {
     "iopub.execute_input": "2023-10-27T13:11:21.875024Z",
     "iopub.status.busy": "2023-10-27T13:11:21.874404Z",
     "iopub.status.idle": "2023-10-27T13:11:21.882545Z",
     "shell.execute_reply": "2023-10-27T13:11:21.881789Z"
    }
   },
   "outputs": [],
   "source": [
    "data = {\n",
    "    \"Spongebob\": [1, 7, 15, 31],\n",
    "    \"Batman\": [2, 21],\n",
    "    \"Dora\": [5],\n",
    "    \"Peppa\": [1, 3, 5, 7, 9, 11, 13, 15, 17, 19, 21, 23, 25, 27, 29],\n",
    "    \"Bill Murray\": [1, 2, 3, 4, 5, 6]\n",
    "}\n",
    "\n",
    "most = 0\n",
    "most_name = \"\"\n",
    "for name in data:\n",
    "    if len(data[name]) > most:\n",
    "        most = len(data[name])\n",
    "        most_name = name\n",
    "print(f\"{most_name} exercised the most, with {most} days of exercise!\")"
   ]
  },
  {
   "cell_type": "markdown",
   "id": "e5a1eba7",
   "metadata": {
    "slideshow": {
     "slide_type": "slide"
    }
   },
   "source": [
    "# Creating dictionaries\n",
    "\n",
    "Dictionaries are created and represented with curly brackets: `{` and `}`."
   ]
  },
  {
   "cell_type": "code",
   "execution_count": null,
   "id": "3854a0d5",
   "metadata": {
    "execution": {
     "iopub.execute_input": "2023-10-27T13:11:21.887752Z",
     "iopub.status.busy": "2023-10-27T13:11:21.887402Z",
     "iopub.status.idle": "2023-10-27T13:11:21.892847Z",
     "shell.execute_reply": "2023-10-27T13:11:21.891379Z"
    }
   },
   "outputs": [],
   "source": [
    "distances_from_boston = {\n",
    "    \"NY, NY\": 216,\n",
    "    \"Portland, ME\": 110,\n",
    "    \"San Francisco, CA\": 2692,\n",
    "    \"Auckland, NZ\": 9002\n",
    "}\n",
    "print(distances_from_boston)"
   ]
  },
  {
   "cell_type": "markdown",
   "id": "8fc12d73",
   "metadata": {},
   "source": [
    "`distances_from_boston` holds 4 key/value pairs. All the keys are strings, all the values are integers. Keys can be any **immutable** type and values can be any type."
   ]
  },
  {
   "cell_type": "code",
   "execution_count": null,
   "id": "c39b73a4",
   "metadata": {
    "execution": {
     "iopub.execute_input": "2023-10-27T13:11:21.898301Z",
     "iopub.status.busy": "2023-10-27T13:11:21.897967Z",
     "iopub.status.idle": "2023-10-27T13:11:21.902597Z",
     "shell.execute_reply": "2023-10-27T13:11:21.901732Z"
    },
    "slideshow": {
     "slide_type": "subslide"
    }
   },
   "outputs": [],
   "source": [
    "x = {}\n",
    "print(x)"
   ]
  },
  {
   "cell_type": "markdown",
   "id": "2fab010b",
   "metadata": {},
   "source": [
    "`x` is an empty dictionary."
   ]
  },
  {
   "cell_type": "markdown",
   "id": "77391a05",
   "metadata": {
    "slideshow": {
     "slide_type": "subslide"
    }
   },
   "source": [
    "Dictionary keys are unique. The same key can't appear more than once in a dictionary."
   ]
  },
  {
   "cell_type": "code",
   "execution_count": null,
   "id": "f2aea045",
   "metadata": {
    "execution": {
     "iopub.execute_input": "2023-10-27T13:11:21.907444Z",
     "iopub.status.busy": "2023-10-27T13:11:21.906894Z",
     "iopub.status.idle": "2023-10-27T13:11:21.913640Z",
     "shell.execute_reply": "2023-10-27T13:11:21.912738Z"
    }
   },
   "outputs": [],
   "source": [
    "distances_from_boston = {\n",
    "    \"NY, NY\": 216,\n",
    "    \"NY, NY\": 110,\n",
    "    \"San Francisco, CA\": 2692,\n",
    "    \"Auckland, NZ\": 9002\n",
    "}\n",
    "print(distances_from_boston)"
   ]
  },
  {
   "cell_type": "markdown",
   "id": "a147ad39",
   "metadata": {},
   "source": [
    "The first `NY, NY` value (`216`) was overwritten by the second (`110`) "
   ]
  },
  {
   "cell_type": "markdown",
   "id": "ab100c46",
   "metadata": {
    "slideshow": {
     "slide_type": "slide"
    }
   },
   "source": [
    "## Accessing dictionary elements\n",
    "\n",
    "Dictionaries are accessed using the same bracket notation (`[]`) as lists, but with keys instead of indices."
   ]
  },
  {
   "cell_type": "code",
   "execution_count": null,
   "id": "0f15b8d4",
   "metadata": {
    "execution": {
     "iopub.execute_input": "2023-10-27T13:11:21.920031Z",
     "iopub.status.busy": "2023-10-27T13:11:21.919500Z",
     "iopub.status.idle": "2023-10-27T13:11:21.925404Z",
     "shell.execute_reply": "2023-10-27T13:11:21.924176Z"
    }
   },
   "outputs": [],
   "source": [
    "number_words = {\n",
    "    \"one\": 1,\n",
    "    \"four\": 4,\n",
    "    \"one hundred\": 100\n",
    "}\n",
    "print(number_words[\"four\"])"
   ]
  },
  {
   "cell_type": "code",
   "execution_count": null,
   "id": "6cf994b8",
   "metadata": {
    "execution": {
     "iopub.execute_input": "2023-10-27T13:11:21.930961Z",
     "iopub.status.busy": "2023-10-27T13:11:21.930590Z",
     "iopub.status.idle": "2023-10-27T13:11:21.935199Z",
     "shell.execute_reply": "2023-10-27T13:11:21.934219Z"
    }
   },
   "outputs": [],
   "source": [
    "print(number_words[\"one \" + \"hundred\"])"
   ]
  },
  {
   "cell_type": "markdown",
   "id": "53fe4581",
   "metadata": {
    "slideshow": {
     "slide_type": "subslide"
    }
   },
   "source": [
    "Accessing an element that doesn't exist generates an error"
   ]
  },
  {
   "cell_type": "code",
   "execution_count": null,
   "id": "8dbedcb5",
   "metadata": {
    "execution": {
     "iopub.execute_input": "2023-10-27T13:11:21.940375Z",
     "iopub.status.busy": "2023-10-27T13:11:21.939942Z",
     "iopub.status.idle": "2023-10-27T13:11:22.261600Z",
     "shell.execute_reply": "2023-10-27T13:11:22.260453Z"
    }
   },
   "outputs": [],
   "source": [
    "print(number_words[2])"
   ]
  },
  {
   "cell_type": "markdown",
   "id": "d5291d6f",
   "metadata": {
    "slideshow": {
     "slide_type": "subslide"
    }
   },
   "source": [
    "You can use the `.get()` method if you want to access an element that may not exist."
   ]
  },
  {
   "cell_type": "code",
   "execution_count": null,
   "id": "17a069b4",
   "metadata": {
    "execution": {
     "iopub.execute_input": "2023-10-27T13:11:22.265122Z",
     "iopub.status.busy": "2023-10-27T13:11:22.264850Z",
     "iopub.status.idle": "2023-10-27T13:11:22.268751Z",
     "shell.execute_reply": "2023-10-27T13:11:22.268031Z"
    }
   },
   "outputs": [],
   "source": [
    "number_words = {\n",
    "    \"one\": 1,\n",
    "    \"four\": 4,\n",
    "    \"one hundred\": 100\n",
    "}\n",
    "print(number_words.get(\"one\"))"
   ]
  },
  {
   "cell_type": "code",
   "execution_count": null,
   "id": "20058424",
   "metadata": {
    "execution": {
     "iopub.execute_input": "2023-10-27T13:11:22.272186Z",
     "iopub.status.busy": "2023-10-27T13:11:22.271910Z",
     "iopub.status.idle": "2023-10-27T13:11:22.275268Z",
     "shell.execute_reply": "2023-10-27T13:11:22.274620Z"
    }
   },
   "outputs": [],
   "source": [
    "print(number_words.get(\"two\"))"
   ]
  },
  {
   "cell_type": "markdown",
   "id": "5d8928fe",
   "metadata": {},
   "source": [
    "`get()` takes an optional argument the specifies the value to use if the key isn't found in the dictionary."
   ]
  },
  {
   "cell_type": "code",
   "execution_count": null,
   "id": "5d2899b9",
   "metadata": {
    "execution": {
     "iopub.execute_input": "2023-10-27T13:11:22.278842Z",
     "iopub.status.busy": "2023-10-27T13:11:22.278531Z",
     "iopub.status.idle": "2023-10-27T13:11:22.282095Z",
     "shell.execute_reply": "2023-10-27T13:11:22.281490Z"
    }
   },
   "outputs": [],
   "source": [
    "print(number_words.get(\"two\", \"unknown\"))"
   ]
  },
  {
   "cell_type": "markdown",
   "id": "f0e6954c",
   "metadata": {
    "slideshow": {
     "slide_type": "subslide"
    }
   },
   "source": [
    "You can check for the existince of a key with `in` (similar to lists and other sequences)"
   ]
  },
  {
   "cell_type": "code",
   "execution_count": null,
   "id": "eab3bf28",
   "metadata": {
    "execution": {
     "iopub.execute_input": "2023-10-27T13:11:22.285395Z",
     "iopub.status.busy": "2023-10-27T13:11:22.285116Z",
     "iopub.status.idle": "2023-10-27T13:11:22.288843Z",
     "shell.execute_reply": "2023-10-27T13:11:22.288262Z"
    }
   },
   "outputs": [],
   "source": [
    "number_words = {\n",
    "    \"one\": 1,\n",
    "    \"four\": 4,\n",
    "    \"one hundred\": 100\n",
    "}\n",
    "print(\"one\" in number_words)\n",
    "print(1 in number_words)"
   ]
  },
  {
   "cell_type": "code",
   "execution_count": null,
   "id": "d559277d",
   "metadata": {
    "execution": {
     "iopub.execute_input": "2023-10-27T13:11:22.291793Z",
     "iopub.status.busy": "2023-10-27T13:11:22.291547Z",
     "iopub.status.idle": "2023-10-27T13:11:22.297915Z",
     "shell.execute_reply": "2023-10-27T13:11:22.297336Z"
    }
   },
   "outputs": [],
   "source": [
    "\"ten\" in number_words"
   ]
  },
  {
   "cell_type": "markdown",
   "id": "bff0954d",
   "metadata": {
    "slideshow": {
     "slide_type": "slide"
    }
   },
   "source": [
    "## Modifying dictionaries\n",
    "\n",
    "Assigning a value to a key adds a key/value pair to the dictionary if the key doesn't already exist. If the key does already exist, the value for that key is updated."
   ]
  },
  {
   "cell_type": "code",
   "execution_count": null,
   "id": "6a2bbdc1",
   "metadata": {
    "execution": {
     "iopub.execute_input": "2023-10-27T13:11:22.301265Z",
     "iopub.status.busy": "2023-10-27T13:11:22.300978Z",
     "iopub.status.idle": "2023-10-27T13:11:22.304697Z",
     "shell.execute_reply": "2023-10-27T13:11:22.304017Z"
    }
   },
   "outputs": [],
   "source": [
    "number_preferences = {\n",
    "    1.5: False,\n",
    "    2.7: True,\n",
    "    3.9: False\n",
    "}\n",
    "print(number_preferences)"
   ]
  },
  {
   "cell_type": "code",
   "execution_count": null,
   "id": "23ccb5a9",
   "metadata": {
    "execution": {
     "iopub.execute_input": "2023-10-27T13:11:22.307993Z",
     "iopub.status.busy": "2023-10-27T13:11:22.307532Z",
     "iopub.status.idle": "2023-10-27T13:11:22.311194Z",
     "shell.execute_reply": "2023-10-27T13:11:22.310630Z"
    }
   },
   "outputs": [],
   "source": [
    "number_preferences[4.0] = \"yes\"\n",
    "print(number_preferences)"
   ]
  },
  {
   "cell_type": "code",
   "execution_count": null,
   "id": "fe046ee6",
   "metadata": {
    "execution": {
     "iopub.execute_input": "2023-10-27T13:11:22.314449Z",
     "iopub.status.busy": "2023-10-27T13:11:22.313994Z",
     "iopub.status.idle": "2023-10-27T13:11:22.317641Z",
     "shell.execute_reply": "2023-10-27T13:11:22.316888Z"
    }
   },
   "outputs": [],
   "source": [
    "number_preferences[1.5] = \"no\"\n",
    "print(number_preferences)"
   ]
  },
  {
   "cell_type": "markdown",
   "id": "f7c428d4",
   "metadata": {
    "slideshow": {
     "slide_type": "subslide"
    }
   },
   "source": [
    "You can delete from a dictionary using the `del` keyword."
   ]
  },
  {
   "cell_type": "code",
   "execution_count": null,
   "id": "db9b069b",
   "metadata": {
    "execution": {
     "iopub.execute_input": "2023-10-27T13:11:22.320746Z",
     "iopub.status.busy": "2023-10-27T13:11:22.320502Z",
     "iopub.status.idle": "2023-10-27T13:11:22.324194Z",
     "shell.execute_reply": "2023-10-27T13:11:22.323586Z"
    }
   },
   "outputs": [],
   "source": [
    "stats = {\n",
    "    \"height\": 67,\n",
    "    \"weight\": 140,\n",
    "    \"eye color\": \"blue\",\n",
    "    \"dominant hand\": \"left\"\n",
    "}\n",
    "print(stats)\n",
    "del stats[\"weight\"]\n",
    "print(stats)"
   ]
  },
  {
   "cell_type": "markdown",
   "id": "9ea32f85",
   "metadata": {
    "slideshow": {
     "slide_type": "slide"
    }
   },
   "source": [
    "## Iterating over dictionaries\n",
    "\n",
    "You can use for loops to iterate over the keys in a dictionary"
   ]
  },
  {
   "cell_type": "code",
   "execution_count": null,
   "id": "ca141bab",
   "metadata": {
    "execution": {
     "iopub.execute_input": "2023-10-27T13:11:22.327490Z",
     "iopub.status.busy": "2023-10-27T13:11:22.327202Z",
     "iopub.status.idle": "2023-10-27T13:11:22.330796Z",
     "shell.execute_reply": "2023-10-27T13:11:22.330289Z"
    }
   },
   "outputs": [],
   "source": [
    "stats = {\n",
    "    \"height\": 67,\n",
    "    \"weight\": 140,\n",
    "    \"eye color\": \"blue\",\n",
    "    \"dominant hand\": \"left\"\n",
    "}\n",
    "for statname in stats:\n",
    "    print(f\"My {statname} is {stats[statname]}\")"
   ]
  },
  {
   "cell_type": "markdown",
   "id": "a84afaaa",
   "metadata": {
    "slideshow": {
     "slide_type": "subslide"
    }
   },
   "source": [
    "You can also iterate over key/value pairs with the `.items()` method."
   ]
  },
  {
   "cell_type": "code",
   "execution_count": null,
   "id": "43e533f0",
   "metadata": {
    "execution": {
     "iopub.execute_input": "2023-10-27T13:11:22.333981Z",
     "iopub.status.busy": "2023-10-27T13:11:22.333719Z",
     "iopub.status.idle": "2023-10-27T13:11:22.337402Z",
     "shell.execute_reply": "2023-10-27T13:11:22.336776Z"
    }
   },
   "outputs": [],
   "source": [
    "stats = {\n",
    "    \"height\": 67,\n",
    "    \"weight\": 140,\n",
    "    \"eye color\": \"blue\",\n",
    "    \"dominant hand\": \"left\"\n",
    "}\n",
    "#print(list(stats.items()))\n",
    "for (key, value) in stats.items():\n",
    "    print(f\"My {key} is {value}\")\n",
    "#for key in stats:\n",
    "#    print(f\"My {key} is {stats[key]}\"))"
   ]
  },
  {
   "cell_type": "markdown",
   "id": "dc53395a",
   "metadata": {
    "slideshow": {
     "slide_type": "subslide"
    }
   },
   "source": [
    "`.items()` produces the keys/values as 2-tuples:"
   ]
  },
  {
   "cell_type": "code",
   "execution_count": null,
   "id": "dc138160",
   "metadata": {
    "execution": {
     "iopub.execute_input": "2023-10-27T13:11:22.340275Z",
     "iopub.status.busy": "2023-10-27T13:11:22.340029Z",
     "iopub.status.idle": "2023-10-27T13:11:22.344523Z",
     "shell.execute_reply": "2023-10-27T13:11:22.343923Z"
    }
   },
   "outputs": [],
   "source": [
    "list(stats.items())"
   ]
  },
  {
   "cell_type": "markdown",
   "id": "61bd003a",
   "metadata": {},
   "source": [
    "Our `for` loop used value unpacking - each key from `.items()` is unpacked into `statname`, and each value is unpacke into `value`:"
   ]
  },
  {
   "cell_type": "code",
   "execution_count": null,
   "id": "6c7b7fdf",
   "metadata": {
    "execution": {
     "iopub.execute_input": "2023-10-27T13:11:22.347410Z",
     "iopub.status.busy": "2023-10-27T13:11:22.347164Z",
     "iopub.status.idle": "2023-10-27T13:11:22.352030Z",
     "shell.execute_reply": "2023-10-27T13:11:22.351093Z"
    }
   },
   "outputs": [],
   "source": [
    "for statname, value in stats.items():\n",
    "    print(f\"My {statname} is {value}\")"
   ]
  },
  {
   "cell_type": "markdown",
   "id": "f053cd68",
   "metadata": {
    "slideshow": {
     "slide_type": "slide"
    }
   },
   "source": [
    "## Exercise\n",
    "\n",
    "Write a function to keep track of personal high scores for everyone who plays a game: `record_attempt(name, new_score, scores)`, where:\n",
    "* `name` is a string\n",
    "* `new_score` is an int\n",
    "* `scores` is a dictionary where the keys are names, and the value is the best score for a name\n",
    "* `record_attempt()` should modify `scores` in place"
   ]
  },
  {
   "cell_type": "code",
   "execution_count": null,
   "id": "b25ae039",
   "metadata": {
    "execution": {
     "iopub.execute_input": "2023-10-27T13:11:22.361224Z",
     "iopub.status.busy": "2023-10-27T13:11:22.360569Z",
     "iopub.status.idle": "2023-10-27T13:11:22.369222Z",
     "shell.execute_reply": "2023-10-27T13:11:22.367180Z"
    }
   },
   "outputs": [],
   "source": [
    "def record_attempt(name, new_score, scores):\n",
    "    # ???\n",
    "    return"
   ]
  },
  {
   "cell_type": "code",
   "execution_count": null,
   "id": "9ec62ab3",
   "metadata": {
    "execution": {
     "iopub.execute_input": "2023-10-27T13:11:22.375113Z",
     "iopub.status.busy": "2023-10-27T13:11:22.374609Z",
     "iopub.status.idle": "2023-10-27T13:11:22.379361Z",
     "shell.execute_reply": "2023-10-27T13:11:22.378281Z"
    },
    "slideshow": {
     "slide_type": "subslide"
    }
   },
   "outputs": [],
   "source": [
    "# attempt 1\n",
    "def record_attempt(name, new_score, scores):\n",
    "    if new_score > scores[name]:\n",
    "        scores[name] = new_score"
   ]
  },
  {
   "cell_type": "code",
   "execution_count": null,
   "id": "1e5650f8",
   "metadata": {
    "execution": {
     "iopub.execute_input": "2023-10-27T13:11:22.384064Z",
     "iopub.status.busy": "2023-10-27T13:11:22.383482Z",
     "iopub.status.idle": "2023-10-27T13:11:22.418837Z",
     "shell.execute_reply": "2023-10-27T13:11:22.418003Z"
    },
    "tags": [
     "raises-exception"
    ]
   },
   "outputs": [],
   "source": [
    "scores = {}\n",
    "record_attempt(\"Batman\", 100, scores)\n",
    "print(scores)"
   ]
  },
  {
   "cell_type": "markdown",
   "id": "3cf810ee",
   "metadata": {
    "slideshow": {
     "slide_type": "subslide"
    }
   },
   "source": [
    "We can't use `[]` to check the existing score, because the name might not be in there yet."
   ]
  },
  {
   "cell_type": "code",
   "execution_count": null,
   "id": "b74fc415",
   "metadata": {
    "execution": {
     "iopub.execute_input": "2023-10-27T13:11:22.423015Z",
     "iopub.status.busy": "2023-10-27T13:11:22.422638Z",
     "iopub.status.idle": "2023-10-27T13:11:22.428466Z",
     "shell.execute_reply": "2023-10-27T13:11:22.427416Z"
    },
    "slideshow": {
     "slide_type": "subslide"
    }
   },
   "outputs": [],
   "source": [
    "# attempt 2 (correct)\n",
    "def record_attempt(name, new_score, scores):\n",
    "    if name not in scores:\n",
    "        scores[name] = new_score\n",
    "    elif scores[name] < new_score:\n",
    "        scores[name] = new_score\n",
    "        \n",
    "    #if new_score > scores.get(name, 0):\n",
    "    #    scores[name] = new_score"
   ]
  },
  {
   "cell_type": "code",
   "execution_count": null,
   "id": "3280b0da",
   "metadata": {
    "execution": {
     "iopub.execute_input": "2023-10-27T13:11:22.433226Z",
     "iopub.status.busy": "2023-10-27T13:11:22.432865Z",
     "iopub.status.idle": "2023-10-27T13:11:22.437699Z",
     "shell.execute_reply": "2023-10-27T13:11:22.437001Z"
    }
   },
   "outputs": [],
   "source": [
    "scores = {}\n",
    "record_attempt(\"Batman\", 100, scores)\n",
    "print(scores)"
   ]
  },
  {
   "cell_type": "code",
   "execution_count": null,
   "id": "78beb8ae",
   "metadata": {
    "execution": {
     "iopub.execute_input": "2023-10-27T13:11:22.441647Z",
     "iopub.status.busy": "2023-10-27T13:11:22.441085Z",
     "iopub.status.idle": "2023-10-27T13:11:22.446885Z",
     "shell.execute_reply": "2023-10-27T13:11:22.445747Z"
    }
   },
   "outputs": [],
   "source": [
    "scores = {}\n",
    "record_attempt(\"Batman\", 100, scores)\n",
    "record_attempt(\"Superman\", 10, scores)\n",
    "record_attempt(\"Spongebob\", 50, scores)\n",
    "record_attempt(\"Spiderman\", 1, scores)\n",
    "record_attempt(\"Spiderman\", 11, scores)\n",
    "record_attempt(\"Spiderman\", 110, scores)\n",
    "print(scores)"
   ]
  },
  {
   "cell_type": "markdown",
   "id": "d18e05aa",
   "metadata": {
    "slideshow": {
     "slide_type": "slide"
    }
   },
   "source": [
    "# [Slido](https://wall.sli.do/event/h4FwBMY6vLLm4qKujQS37V?section=53bf946d-921c-4bda-8f4f-0e7fa6363572)"
   ]
  },
  {
   "cell_type": "markdown",
   "id": "9d371d7c",
   "metadata": {
    "slideshow": {
     "slide_type": "subslide"
    }
   },
   "source": [
    "## Exercise\n",
    "\n",
    "Write a function that prints the person with the highest overall score: `print_winner(scores)`"
   ]
  },
  {
   "cell_type": "code",
   "execution_count": null,
   "id": "6bd7b29a",
   "metadata": {
    "execution": {
     "iopub.execute_input": "2023-10-27T13:11:22.451871Z",
     "iopub.status.busy": "2023-10-27T13:11:22.451529Z",
     "iopub.status.idle": "2023-10-27T13:11:22.456014Z",
     "shell.execute_reply": "2023-10-27T13:11:22.455239Z"
    }
   },
   "outputs": [],
   "source": [
    "# attempt 1\n",
    "def print_winner(scores):\n",
    "    best_score = 0\n",
    "    best_player = \"\"\n",
    "    for player, score in scores.items():\n",
    "        if score > best_score:\n",
    "            best_score = score\n",
    "            best_player = player\n",
    "    print(f\"Congratulations, {player}, you win with {score} points!\")"
   ]
  },
  {
   "cell_type": "code",
   "execution_count": null,
   "id": "17fecd2a",
   "metadata": {
    "execution": {
     "iopub.execute_input": "2023-10-27T13:11:22.460287Z",
     "iopub.status.busy": "2023-10-27T13:11:22.459969Z",
     "iopub.status.idle": "2023-10-27T13:11:22.466262Z",
     "shell.execute_reply": "2023-10-27T13:11:22.465175Z"
    }
   },
   "outputs": [],
   "source": [
    "scores = {}\n",
    "record_attempt(\"Batman\", 100, scores)\n",
    "record_attempt(\"Superman\", 10, scores)\n",
    "record_attempt(\"Spongebob\", 50, scores)\n",
    "record_attempt(\"Spiderman\", 1, scores)\n",
    "record_attempt(\"Spiderman\", 11, scores)\n",
    "record_attempt(\"Spiderman\", 110, scores)\n",
    "print_winner(scores)"
   ]
  },
  {
   "cell_type": "markdown",
   "id": "1e956111",
   "metadata": {
    "slideshow": {
     "slide_type": "subslide"
    }
   },
   "source": [
    "That output looks correct... but can you spot the bug?"
   ]
  },
  {
   "cell_type": "code",
   "execution_count": null,
   "id": "ce18d9ec",
   "metadata": {
    "execution": {
     "iopub.execute_input": "2023-10-27T13:11:22.470236Z",
     "iopub.status.busy": "2023-10-27T13:11:22.469802Z",
     "iopub.status.idle": "2023-10-27T13:11:22.474409Z",
     "shell.execute_reply": "2023-10-27T13:11:22.473501Z"
    }
   },
   "outputs": [],
   "source": [
    "# attempt 1\n",
    "def print_winner(scores):\n",
    "    best_score = 0\n",
    "    best_player = \"\"\n",
    "    for player, score in scores.items():\n",
    "        if score > best_score:\n",
    "            best_score = score\n",
    "            best_player = player \n",
    "    print(f\"Congratulations, {player}, you win with {score} points!\")"
   ]
  },
  {
   "cell_type": "code",
   "execution_count": null,
   "id": "526e7e17",
   "metadata": {
    "execution": {
     "iopub.execute_input": "2023-10-27T13:11:22.478804Z",
     "iopub.status.busy": "2023-10-27T13:11:22.478362Z",
     "iopub.status.idle": "2023-10-27T13:11:22.484404Z",
     "shell.execute_reply": "2023-10-27T13:11:22.483587Z"
    },
    "slideshow": {
     "slide_type": "fragment"
    }
   },
   "outputs": [],
   "source": [
    "scores = {}\n",
    "record_attempt(\"Batman\", 150, scores)\n",
    "record_attempt(\"Spongebob\", 50, scores)\n",
    "record_attempt(\"Spiderman\", 1, scores)\n",
    "record_attempt(\"Spiderman\", 11, scores)\n",
    "record_attempt(\"Spiderman\", 110, scores)\n",
    "record_attempt(\"Superman\", 10, scores)\n",
    "print_winner(scores)"
   ]
  },
  {
   "cell_type": "markdown",
   "id": "ae847962",
   "metadata": {},
   "source": [
    "We printed the wrong variables at the end! This is a common type of error - make sure you test your code with a variety of inputs!"
   ]
  },
  {
   "cell_type": "code",
   "execution_count": null,
   "id": "c3676c09",
   "metadata": {
    "execution": {
     "iopub.execute_input": "2023-10-27T13:11:22.487789Z",
     "iopub.status.busy": "2023-10-27T13:11:22.487479Z",
     "iopub.status.idle": "2023-10-27T13:11:22.491874Z",
     "shell.execute_reply": "2023-10-27T13:11:22.491099Z"
    },
    "slideshow": {
     "slide_type": "subslide"
    }
   },
   "outputs": [],
   "source": [
    "# attempt 2 (correct)\n",
    "def print_winner(scores):\n",
    "    best_score = 0\n",
    "    best_player = \"\"\n",
    "    for player, score in scores.items():\n",
    "        if score > best_score:\n",
    "            best_score = score\n",
    "            best_player = player\n",
    "    print(f\"Congratulations, {best_player}, you win with {best_score} points!\")"
   ]
  },
  {
   "cell_type": "code",
   "execution_count": null,
   "id": "81f99fca",
   "metadata": {
    "execution": {
     "iopub.execute_input": "2023-10-27T13:11:22.496499Z",
     "iopub.status.busy": "2023-10-27T13:11:22.495790Z",
     "iopub.status.idle": "2023-10-27T13:11:22.501919Z",
     "shell.execute_reply": "2023-10-27T13:11:22.501110Z"
    },
    "slideshow": {
     "slide_type": "fragment"
    }
   },
   "outputs": [],
   "source": [
    "scores = {}\n",
    "record_attempt(\"Batman\", 150, scores)\n",
    "record_attempt(\"Superman\", 10, scores)\n",
    "record_attempt(\"Spongebob\", 50, scores)\n",
    "record_attempt(\"Spiderman\", 1, scores)\n",
    "record_attempt(\"Spiderman\", 11, scores)\n",
    "record_attempt(\"Spiderman\", 110, scores)\n",
    "print_winner(scores)"
   ]
  },
  {
   "cell_type": "markdown",
   "id": "249bfeb7",
   "metadata": {
    "slideshow": {
     "slide_type": "subslide"
    }
   },
   "source": [
    "## Exercise\n",
    "\n",
    "Write a function that takes a string, and returns a dictionary representing the unique words in the string, and the number of times each word occurred."
   ]
  },
  {
   "cell_type": "code",
   "execution_count": null,
   "id": "757ecb85",
   "metadata": {
    "execution": {
     "iopub.execute_input": "2023-10-27T13:11:22.505486Z",
     "iopub.status.busy": "2023-10-27T13:11:22.505127Z",
     "iopub.status.idle": "2023-10-27T13:11:22.509116Z",
     "shell.execute_reply": "2023-10-27T13:11:22.508057Z"
    },
    "slideshow": {
     "slide_type": "subslide"
    }
   },
   "outputs": [],
   "source": [
    "def count_words(word_string):\n",
    "    # ???\n",
    "    return {}"
   ]
  },
  {
   "cell_type": "code",
   "execution_count": null,
   "id": "495abde5",
   "metadata": {
    "execution": {
     "iopub.execute_input": "2023-10-27T13:11:22.513774Z",
     "iopub.status.busy": "2023-10-27T13:11:22.513253Z",
     "iopub.status.idle": "2023-10-27T13:11:22.518159Z",
     "shell.execute_reply": "2023-10-27T13:11:22.517335Z"
    },
    "slideshow": {
     "slide_type": "subslide"
    }
   },
   "outputs": [],
   "source": [
    "# attempt 1\n",
    "def count_words(word_string):\n",
    "    words = word_string.split()\n",
    "    counts = {}\n",
    "    for word in words:\n",
    "        counts[word] = counts[word] + 1\n",
    "    return counts"
   ]
  },
  {
   "cell_type": "code",
   "execution_count": null,
   "id": "dca8dd3b",
   "metadata": {
    "execution": {
     "iopub.execute_input": "2023-10-27T13:11:22.521516Z",
     "iopub.status.busy": "2023-10-27T13:11:22.521201Z",
     "iopub.status.idle": "2023-10-27T13:11:22.549404Z",
     "shell.execute_reply": "2023-10-27T13:11:22.547738Z"
    },
    "tags": [
     "raises-exception"
    ]
   },
   "outputs": [],
   "source": [
    "count_words(\"It was the best of times it was the worst of times it was the age of wisdom it was the age of foolishness\")"
   ]
  },
  {
   "cell_type": "markdown",
   "id": "85172442",
   "metadata": {
    "slideshow": {
     "slide_type": "subslide"
    }
   },
   "source": [
    "We need to handle the initial condition, where the word hasn't been found yet."
   ]
  },
  {
   "cell_type": "code",
   "execution_count": null,
   "id": "1f41ae33",
   "metadata": {
    "execution": {
     "iopub.execute_input": "2023-10-27T13:11:22.553154Z",
     "iopub.status.busy": "2023-10-27T13:11:22.552849Z",
     "iopub.status.idle": "2023-10-27T13:11:22.557154Z",
     "shell.execute_reply": "2023-10-27T13:11:22.556294Z"
    },
    "slideshow": {
     "slide_type": "-"
    }
   },
   "outputs": [],
   "source": [
    "# attempt 2\n",
    "def count_words(word_string):\n",
    "    words = word_string.split()\n",
    "    counts = {}\n",
    "    for word in words:\n",
    "        if word not in counts:\n",
    "            counts[word] = 1\n",
    "        else:\n",
    "            counts[word] = counts[word] + 1\n",
    "    return counts"
   ]
  },
  {
   "cell_type": "code",
   "execution_count": null,
   "id": "80f13cee",
   "metadata": {
    "execution": {
     "iopub.execute_input": "2023-10-27T13:11:22.561426Z",
     "iopub.status.busy": "2023-10-27T13:11:22.561006Z",
     "iopub.status.idle": "2023-10-27T13:11:22.566929Z",
     "shell.execute_reply": "2023-10-27T13:11:22.566183Z"
    },
    "tags": [
     "raises-exception"
    ]
   },
   "outputs": [],
   "source": [
    "count_words(\"It was the best of times it was the worst of times it was the age of wisdom it was the age of foolishness\")"
   ]
  },
  {
   "cell_type": "markdown",
   "id": "d4685ea7",
   "metadata": {
    "slideshow": {
     "slide_type": "subslide"
    }
   },
   "source": [
    "Whoops, looks like we have to deal with upper vs. lower case."
   ]
  },
  {
   "cell_type": "code",
   "execution_count": null,
   "id": "29d0c676",
   "metadata": {
    "execution": {
     "iopub.execute_input": "2023-10-27T13:11:22.570356Z",
     "iopub.status.busy": "2023-10-27T13:11:22.570072Z",
     "iopub.status.idle": "2023-10-27T13:11:22.574546Z",
     "shell.execute_reply": "2023-10-27T13:11:22.573654Z"
    },
    "slideshow": {
     "slide_type": "-"
    }
   },
   "outputs": [],
   "source": [
    "# attempt 3\n",
    "def count_words(word_string):\n",
    "    words = word_string.lower().split()\n",
    "    counts = {}\n",
    "    for word in words:\n",
    "        if word not in counts:\n",
    "            counts[word] = 1\n",
    "        else:\n",
    "            counts[word] = counts[word] + 1\n",
    "    return counts"
   ]
  },
  {
   "cell_type": "code",
   "execution_count": null,
   "id": "9d416a45",
   "metadata": {
    "execution": {
     "iopub.execute_input": "2023-10-27T13:11:22.578853Z",
     "iopub.status.busy": "2023-10-27T13:11:22.578413Z",
     "iopub.status.idle": "2023-10-27T13:11:22.584648Z",
     "shell.execute_reply": "2023-10-27T13:11:22.583908Z"
    },
    "tags": [
     "raises-exception"
    ]
   },
   "outputs": [],
   "source": [
    "count_words(\"It was the best of times it was the worst of times it was the age of wisdom it was the age of foolishness\")"
   ]
  },
  {
   "cell_type": "markdown",
   "id": "f6478b85",
   "metadata": {
    "slideshow": {
     "slide_type": "subslide"
    }
   },
   "source": [
    "That was perfectly good code! But we can make it a little cleaner using `get()`:"
   ]
  },
  {
   "cell_type": "code",
   "execution_count": null,
   "id": "cf794570",
   "metadata": {
    "execution": {
     "iopub.execute_input": "2023-10-27T13:11:22.588092Z",
     "iopub.status.busy": "2023-10-27T13:11:22.587810Z",
     "iopub.status.idle": "2023-10-27T13:11:22.592773Z",
     "shell.execute_reply": "2023-10-27T13:11:22.592012Z"
    }
   },
   "outputs": [],
   "source": [
    "# an alternative, using get()\n",
    "def count_words(word_string):\n",
    "    words = word_string.lower().split()\n",
    "    counts = {}\n",
    "    for word in words:\n",
    "        counts[word] = counts.get(word, 0) + 1\n",
    "    \n",
    "    sortable = [(freq, word) for word, freq in counts.items()]\n",
    "    sortable.sort(reverse=True)\n",
    "    \n",
    "    final_answer = []\n",
    "    for (freq, word) in sortable:\n",
    "        final_answer.append(word)\n",
    "    \n",
    "    return final_answer"
   ]
  },
  {
   "cell_type": "code",
   "execution_count": null,
   "id": "96f44ddd",
   "metadata": {
    "execution": {
     "iopub.execute_input": "2023-10-27T13:11:22.595811Z",
     "iopub.status.busy": "2023-10-27T13:11:22.595539Z",
     "iopub.status.idle": "2023-10-27T13:11:22.600037Z",
     "shell.execute_reply": "2023-10-27T13:11:22.599439Z"
    },
    "tags": [
     "raises-exception"
    ]
   },
   "outputs": [],
   "source": [
    "count_words(\"It was the best of times it was the worst of times it was the age of wisdom it was the age of foolishness\")"
   ]
  },
  {
   "cell_type": "markdown",
   "id": "c120518c",
   "metadata": {
    "slideshow": {
     "slide_type": "slide"
    }
   },
   "source": [
    "## Dictionary comprehensions\n",
    "\n",
    "Similar to lists, dictionaries can be created using \"comprehensions\":"
   ]
  },
  {
   "cell_type": "code",
   "execution_count": null,
   "id": "33715770",
   "metadata": {
    "execution": {
     "iopub.execute_input": "2023-10-27T13:11:22.603271Z",
     "iopub.status.busy": "2023-10-27T13:11:22.602828Z",
     "iopub.status.idle": "2023-10-27T13:11:22.606295Z",
     "shell.execute_reply": "2023-10-27T13:11:22.605689Z"
    }
   },
   "outputs": [],
   "source": [
    "squared_nums = {x: x**2 for x in range(5)}\n",
    "print(squared_nums)"
   ]
  },
  {
   "cell_type": "markdown",
   "id": "ba3c6bba",
   "metadata": {
    "slideshow": {
     "slide_type": "subslide"
    }
   },
   "source": [
    "The formal syntax of a dictionary comprehension is:\n",
    "\n",
    "`{<key expression>: <value expression> for <var> in <iterable>}`  \n",
    "or  \n",
    "`{<key expression>: <value expression> for <var> in <iterable> if <boolean expression>}`\n",
    "\n",
    "Both the key and value can be any expression (as long as they evaluate to valid key and value types)."
   ]
  },
  {
   "cell_type": "markdown",
   "id": "0bcbc960",
   "metadata": {
    "slideshow": {
     "slide_type": "subslide"
    }
   },
   "source": [
    "This code creates a dictionary that maps from vegetable name to the count of vowels in the vegetable name:"
   ]
  },
  {
   "cell_type": "code",
   "execution_count": null,
   "id": "62add22b",
   "metadata": {
    "execution": {
     "iopub.execute_input": "2023-10-27T13:11:22.609878Z",
     "iopub.status.busy": "2023-10-27T13:11:22.609609Z",
     "iopub.status.idle": "2023-10-27T13:11:22.613051Z",
     "shell.execute_reply": "2023-10-27T13:11:22.612346Z"
    }
   },
   "outputs": [],
   "source": [
    "def count_vowels(word):\n",
    "    count = 0\n",
    "    \n",
    "    for c in word:\n",
    "        if c in 'aeiou':\n",
    "            count += 1\n",
    "    return count"
   ]
  },
  {
   "cell_type": "code",
   "execution_count": null,
   "id": "d85a9f71",
   "metadata": {
    "execution": {
     "iopub.execute_input": "2023-10-27T13:11:22.615937Z",
     "iopub.status.busy": "2023-10-27T13:11:22.615684Z",
     "iopub.status.idle": "2023-10-27T13:11:22.619492Z",
     "shell.execute_reply": "2023-10-27T13:11:22.618971Z"
    },
    "slideshow": {
     "slide_type": ""
    }
   },
   "outputs": [],
   "source": [
    "# with a comprehension\n",
    "vegetables = [\"cucumber\", \"tomato\", \"pepper\", \"carrot\"]\n",
    "veggie_counts = {veggie: count_vowels(veggie) for veggie in vegetables}\n",
    "print(veggie_counts)"
   ]
  },
  {
   "cell_type": "code",
   "execution_count": null,
   "id": "e6fc9cf1",
   "metadata": {
    "execution": {
     "iopub.execute_input": "2023-10-27T13:11:22.622554Z",
     "iopub.status.busy": "2023-10-27T13:11:22.622304Z",
     "iopub.status.idle": "2023-10-27T13:11:22.626159Z",
     "shell.execute_reply": "2023-10-27T13:11:22.625550Z"
    },
    "slideshow": {
     "slide_type": ""
    }
   },
   "outputs": [],
   "source": [
    "# without a comprehension\n",
    "vegetables = [\"cucumber\", \"tomato\", \"pepper\", \"carrot\"]\n",
    "veggie_counts = {}\n",
    "for veggie in vegetables:\n",
    "    veggie_counts[veggie] = count_vowels(veggie)\n",
    "print(veggie_counts)"
   ]
  },
  {
   "cell_type": "markdown",
   "id": "0af6bad4",
   "metadata": {
    "slideshow": {
     "slide_type": "subslide"
    }
   },
   "source": [
    "This code does the same thing, except it limits the dictionary to vegetables that have at least 3 vowels in their names:"
   ]
  },
  {
   "cell_type": "code",
   "execution_count": null,
   "id": "83c26469",
   "metadata": {
    "execution": {
     "iopub.execute_input": "2023-10-27T13:11:22.629298Z",
     "iopub.status.busy": "2023-10-27T13:11:22.629032Z",
     "iopub.status.idle": "2023-10-27T13:11:22.635852Z",
     "shell.execute_reply": "2023-10-27T13:11:22.635221Z"
    },
    "slideshow": {
     "slide_type": "subslide"
    }
   },
   "outputs": [],
   "source": [
    "# with a comprehension\n",
    "vegetables = [\"cucumber\", \"tomato\", \"pepper\", \"carrot\"]\n",
    "veggie_counts = {veggie: count_vowels(veggie) for veggie in vegetables if count_vowels(veggie) > 2}\n",
    "print(veggie_counts)"
   ]
  },
  {
   "cell_type": "code",
   "execution_count": null,
   "id": "0788fa22",
   "metadata": {
    "execution": {
     "iopub.execute_input": "2023-10-27T13:11:22.638983Z",
     "iopub.status.busy": "2023-10-27T13:11:22.638717Z",
     "iopub.status.idle": "2023-10-27T13:11:22.643091Z",
     "shell.execute_reply": "2023-10-27T13:11:22.642481Z"
    },
    "slideshow": {
     "slide_type": "subslide"
    }
   },
   "outputs": [],
   "source": [
    "# without a comprehension\n",
    "vegetables = [\"cucumber\", \"tomato\", \"pepper\", \"carrot\"]\n",
    "veggie_counts = {}\n",
    "for veggie in vegetables:\n",
    "    num_vowels = count_vowels(veggie)\n",
    "    if num_vowels > 2:\n",
    "        veggie_counts[veggie] = num_vowels\n",
    "print(veggie_counts)"
   ]
  },
  {
   "cell_type": "markdown",
   "id": "7619877e",
   "metadata": {
    "slideshow": {
     "slide_type": "subslide"
    }
   },
   "source": [
    "One last example, which creates a dictionary with each vegetable as a key, and a random integer as each value:"
   ]
  },
  {
   "cell_type": "code",
   "execution_count": null,
   "id": "6381f692",
   "metadata": {
    "execution": {
     "iopub.execute_input": "2023-10-27T13:11:22.646240Z",
     "iopub.status.busy": "2023-10-27T13:11:22.645969Z",
     "iopub.status.idle": "2023-10-27T13:11:22.650141Z",
     "shell.execute_reply": "2023-10-27T13:11:22.649538Z"
    },
    "slideshow": {
     "slide_type": "subslide"
    }
   },
   "outputs": [],
   "source": [
    "import random \n",
    "vegetables = [\"cucumber\", \"tomato\", \"pepper\", \"carrot\"]\n",
    "veggie_counts = {veggie: random.randint(0, 10) for veggie in vegetables}\n",
    "print(veggie_counts)"
   ]
  },
  {
   "cell_type": "markdown",
   "id": "4bf44691",
   "metadata": {
    "slideshow": {
     "slide_type": "slide"
    }
   },
   "source": [
    "# [Slido](https://wall.sli.do/event/h4FwBMY6vLLm4qKujQS37V?section=53bf946d-921c-4bda-8f4f-0e7fa6363572)"
   ]
  },
  {
   "cell_type": "markdown",
   "id": "0757f9c2",
   "metadata": {
    "slideshow": {
     "slide_type": "slide"
    }
   },
   "source": [
    "# Announcements\n",
    "\n",
    "* PS4 has been posted, due Tuesday 11/7. 4 problems, you must do all 4. \n",
    "* \"Birthday tracker\" and \"Age range filter\" are smaller, \"Personal Finance Tracker\" and \"Jeopardy\" are larger.\n",
    "* PS3 grading will start this week."
   ]
  },
  {
   "cell_type": "markdown",
   "id": "35c01389",
   "metadata": {
    "slideshow": {
     "slide_type": "slide"
    }
   },
   "source": [
    "## Dictionaries review\n",
    "\n",
    "Dictionaries are best used when you have data that consists of key/value pairs. \n",
    "\n",
    "A simple example is an old-school phone book: the names are keys, the phone numbers are the values."
   ]
  },
  {
   "cell_type": "code",
   "execution_count": null,
   "id": "e960aae7",
   "metadata": {
    "execution": {
     "iopub.execute_input": "2023-10-27T13:11:22.653445Z",
     "iopub.status.busy": "2023-10-27T13:11:22.653186Z",
     "iopub.status.idle": "2023-10-27T13:11:22.656411Z",
     "shell.execute_reply": "2023-10-27T13:11:22.655761Z"
    }
   },
   "outputs": [],
   "source": [
    "phone_book = {\n",
    "    \"Harry\": \"555-1234\",\n",
    "    \"Hermione\": \"555-4567\",\n",
    "    \"Ron\": \"555-7890\"\n",
    "}"
   ]
  },
  {
   "cell_type": "markdown",
   "id": "0ed28e7c",
   "metadata": {
    "slideshow": {
     "slide_type": "subslide"
    }
   },
   "source": [
    "## Dictionaries review\n",
    "\n",
    "Key/value data is not always that simple though. \n",
    "\n",
    "Think of a modern Contacts app: the keys may still be names, but the values might have multiple phone numbers, addresses, social media handles, etc. The values themselves might be lists, or dictionaries, combinations of the 2."
   ]
  },
  {
   "cell_type": "code",
   "execution_count": null,
   "id": "8b7c706d",
   "metadata": {
    "execution": {
     "iopub.execute_input": "2023-10-27T13:11:22.660235Z",
     "iopub.status.busy": "2023-10-27T13:11:22.659764Z",
     "iopub.status.idle": "2023-10-27T13:11:22.663455Z",
     "shell.execute_reply": "2023-10-27T13:11:22.662865Z"
    }
   },
   "outputs": [],
   "source": [
    "contacts = {\n",
    "    \"Harry\": {\n",
    "        \"mobile\": \"555-1234\",\n",
    "        \"address\": \"Number 4 Privet Drive\",\n",
    "        \"instagram\": \"@harryp\"\n",
    "    },\n",
    "    \"Hermione\": {        \n",
    "        \"mobile\": \"555-4567\",\n",
    "        \"address\": \"8 Heathgate, Hampstead Garden Suburb, London\",\n",
    "        \"instagram\": \"@hermgran\"\n",
    "    },\n",
    "    \"Ron\": {        \n",
    "        \"mobile\": \"555-7890\",\n",
    "        \"address\": \"The Burrow\",\n",
    "        \"instagram\": \"@weaslier\"\n",
    "    }\n",
    "}"
   ]
  },
  {
   "cell_type": "markdown",
   "id": "1e6a4899",
   "metadata": {
    "slideshow": {
     "slide_type": "slide"
    }
   },
   "source": [
    "## Dictionaries review\n",
    "\n",
    "Accessing elements:\n",
    "* If you know the key will exist in the dictionary: use brackets `[...]`\n",
    "* If you aren't sure the key will exist: use `.get(...)`"
   ]
  },
  {
   "cell_type": "markdown",
   "id": "1de06761",
   "metadata": {
    "slideshow": {
     "slide_type": "subslide"
    }
   },
   "source": [
    "## Brackets `[]`"
   ]
  },
  {
   "cell_type": "code",
   "execution_count": null,
   "id": "928a4b31",
   "metadata": {
    "execution": {
     "iopub.execute_input": "2023-10-27T13:11:22.667066Z",
     "iopub.status.busy": "2023-10-27T13:11:22.666782Z",
     "iopub.status.idle": "2023-10-27T13:11:22.670588Z",
     "shell.execute_reply": "2023-10-27T13:11:22.669972Z"
    }
   },
   "outputs": [],
   "source": [
    "drink_temps = {\n",
    "    \"Red Wine\": 16.0,\n",
    "    \"White Wine\": 10.0,\n",
    "    \"Beer\": 8.0,\n",
    "    \"Black tea\": 85.0,\n",
    "    \"Green tea\": 74.0\n",
    "}\n",
    "\n",
    "for drink in drink_temps:\n",
    "    print(f\"Drink {drink} at {drink_temps[drink]}˚C\")"
   ]
  },
  {
   "cell_type": "markdown",
   "id": "29cd653f",
   "metadata": {
    "slideshow": {
     "slide_type": "notes"
    }
   },
   "source": [
    "Here, we know that each key will exist in the dictionary, so using brackets makes sense."
   ]
  },
  {
   "cell_type": "markdown",
   "id": "71699ae6",
   "metadata": {
    "slideshow": {
     "slide_type": "subslide"
    }
   },
   "source": [
    "## `.get()`"
   ]
  },
  {
   "cell_type": "code",
   "execution_count": null,
   "id": "e572c048",
   "metadata": {
    "execution": {
     "iopub.execute_input": "2023-10-27T13:11:22.674408Z",
     "iopub.status.busy": "2023-10-27T13:11:22.673899Z",
     "iopub.status.idle": "2023-10-27T13:11:22.761885Z",
     "shell.execute_reply": "2023-10-27T13:11:22.760978Z"
    }
   },
   "outputs": [],
   "source": [
    "drink_temps = {\n",
    "    \"Red Wine\": 16.0,\n",
    "    \"White Wine\": 10.0,\n",
    "    \"Beer\": 8.0,\n",
    "    \"Black tea\": 85.0,\n",
    "    \"Green tea\": 74.0\n",
    "}\n",
    "\n",
    "drink = input(\"What drink do you want to know about? \")\n",
    "print(f\"Drink {drink} at {drink_temps.get(drink)}˚C\")"
   ]
  },
  {
   "cell_type": "markdown",
   "id": "5f4a8c1a",
   "metadata": {
    "slideshow": {
     "slide_type": "notes"
    }
   },
   "source": [
    "Here, we don't know if the key will exist in the dictionary. If we used brackets, the code would raise an error if the user typed in a drink that wasn't in `drink_temps`. We can use `get()` to prevent an error from being raised."
   ]
  },
  {
   "cell_type": "markdown",
   "id": "3d47bd21",
   "metadata": {
    "slideshow": {
     "slide_type": "subslide"
    }
   },
   "source": [
    "## .get() is a convenience\n",
    "\n",
    "You can always explicitly check for the existence of a key before trying to access it with brackets."
   ]
  },
  {
   "cell_type": "code",
   "execution_count": null,
   "id": "a10230f6",
   "metadata": {
    "execution": {
     "iopub.execute_input": "2023-10-27T13:11:22.765562Z",
     "iopub.status.busy": "2023-10-27T13:11:22.765279Z",
     "iopub.status.idle": "2023-10-27T13:11:22.789523Z",
     "shell.execute_reply": "2023-10-27T13:11:22.788730Z"
    }
   },
   "outputs": [],
   "source": [
    "drink_temps = {\n",
    "    \"Red Wine\": 16.0,\n",
    "    \"White Wine\": 10.0,\n",
    "    \"Beer\": 8.0,\n",
    "    \"Black tea\": 85.0,\n",
    "    \"Green tea\": 74.0\n",
    "}\n",
    "\n",
    "drink = input(\"What drink do you want to know about? \")\n",
    "if drink in drink_temps:\n",
    "    print(f\"Drink {drink} at {drink_temps[drink]}˚C\")\n",
    "else:\n",
    "    print(f\"I don't know about {drink}\")"
   ]
  },
  {
   "cell_type": "markdown",
   "id": "ef806ffd",
   "metadata": {
    "slideshow": {
     "slide_type": "subslide"
    }
   },
   "source": [
    "## `.get()` with a default value\n",
    "\n",
    "You can tell `.get()` what to return if the key does not exist in the dictionary."
   ]
  },
  {
   "cell_type": "code",
   "execution_count": null,
   "id": "f4d7a196",
   "metadata": {
    "execution": {
     "iopub.execute_input": "2023-10-27T13:11:22.793568Z",
     "iopub.status.busy": "2023-10-27T13:11:22.793215Z",
     "iopub.status.idle": "2023-10-27T13:11:22.819261Z",
     "shell.execute_reply": "2023-10-27T13:11:22.818308Z"
    }
   },
   "outputs": [],
   "source": [
    "drink_temps = {\n",
    "    \"Red Wine\": 16.0,\n",
    "    \"White Wine\": 10.0,\n",
    "    \"Beer\": 8.0,\n",
    "    \"Black tea\": 85.0,\n",
    "    \"Green tea\": 74.0\n",
    "}\n",
    "\n",
    "drink = input(\"What drink do you want to know about? \")\n",
    "print(f\"Drink {drink} at {drink_temps.get(drink, 'unknown')}˚C\")"
   ]
  },
  {
   "cell_type": "markdown",
   "id": "2d7ad923",
   "metadata": {
    "slideshow": {
     "slide_type": "notes"
    }
   },
   "source": [
    "This code demonstrates passing an extra parameter to `get()`. Now, if the users types in an unknown drink, `.get()` will return `\"unknown\"` instead of `None`."
   ]
  },
  {
   "cell_type": "markdown",
   "id": "ae0abd2e",
   "metadata": {
    "slideshow": {
     "slide_type": "slide"
    }
   },
   "source": [
    "## Exercise\n",
    "\n",
    "You are given a list of strings representing birthday months. Count the number of birthdays in each month, and print them."
   ]
  },
  {
   "cell_type": "markdown",
   "id": "d4a61935",
   "metadata": {
    "slideshow": {
     "slide_type": "subslide"
    }
   },
   "source": [
    "I'm too lazy to generate a list of birthday months myself... I'll use Python, and the [random.choices()](https://docs.python.org/3/library/random.html#random.choices) function:"
   ]
  },
  {
   "cell_type": "code",
   "execution_count": null,
   "id": "e18ff8e4",
   "metadata": {
    "execution": {
     "iopub.execute_input": "2023-10-27T13:11:22.822722Z",
     "iopub.status.busy": "2023-10-27T13:11:22.822441Z",
     "iopub.status.idle": "2023-10-27T13:11:22.827639Z",
     "shell.execute_reply": "2023-10-27T13:11:22.826667Z"
    },
    "slideshow": {
     "slide_type": "-"
    }
   },
   "outputs": [],
   "source": [
    "import random\n",
    "# List of three-letter month abbreviations\n",
    "months = ['Jan', 'Feb', 'Mar', 'Apr', 'May', 'Jun', 'Jul', 'Aug', 'Sep', 'Oct', 'Nov', 'Dec']\n",
    "\n",
    "# Generate a random list of 20 month names\n",
    "birthday_data = random.choices(months, k=100)\n",
    "print(birthday_data)"
   ]
  },
  {
   "cell_type": "markdown",
   "id": "9380ccd8",
   "metadata": {
    "slideshow": {
     "slide_type": "subslide"
    }
   },
   "source": [
    "Compute the counts by iterating over the list, and accumulating counts in a dictionary:"
   ]
  },
  {
   "cell_type": "code",
   "execution_count": null,
   "id": "f3818735",
   "metadata": {
    "execution": {
     "iopub.execute_input": "2023-10-27T13:11:22.831294Z",
     "iopub.status.busy": "2023-10-27T13:11:22.831021Z",
     "iopub.status.idle": "2023-10-27T13:11:22.835156Z",
     "shell.execute_reply": "2023-10-27T13:11:22.834177Z"
    }
   },
   "outputs": [],
   "source": [
    "bday_counts = {}\n",
    "for bday in birthday_data:\n",
    "    if bday in bday_counts:\n",
    "        # bday_counts[bday] = bday_counts[bday] + 1\n",
    "        bday_counts[bday] += 1        \n",
    "    else:\n",
    "        bday_counts[bday] = 1\n",
    "print(bday_counts)"
   ]
  },
  {
   "cell_type": "markdown",
   "id": "3c55d714",
   "metadata": {
    "slideshow": {
     "slide_type": "subslide"
    }
   },
   "source": [
    "Now, let's sort them by number of birthdays."
   ]
  },
  {
   "cell_type": "code",
   "execution_count": null,
   "id": "a12f5dfa",
   "metadata": {
    "execution": {
     "iopub.execute_input": "2023-10-27T13:11:22.839402Z",
     "iopub.status.busy": "2023-10-27T13:11:22.839121Z",
     "iopub.status.idle": "2023-10-27T13:11:22.843492Z",
     "shell.execute_reply": "2023-10-27T13:11:22.842526Z"
    }
   },
   "outputs": [],
   "source": [
    "print(bday_counts)"
   ]
  },
  {
   "cell_type": "code",
   "execution_count": null,
   "id": "8982f634",
   "metadata": {
    "execution": {
     "iopub.execute_input": "2023-10-27T13:11:22.846912Z",
     "iopub.status.busy": "2023-10-27T13:11:22.846631Z",
     "iopub.status.idle": "2023-10-27T13:11:22.851209Z",
     "shell.execute_reply": "2023-10-27T13:11:22.850438Z"
    },
    "slideshow": {
     "slide_type": "fragment"
    }
   },
   "outputs": [],
   "source": [
    "sortable = []\n",
    "for month in bday_counts:\n",
    "    print(month)\n",
    "    # bday_counts['Aug']\n",
    "    count = bday_counts[month]\n",
    "    sortable.append((count, month))\n",
    "sortable.sort(reverse=True)\n",
    "\n",
    "#for pair in sortable:\n",
    "#    print(f\"Count for {pair[1]}: {pair[0]}\")"
   ]
  },
  {
   "cell_type": "markdown",
   "id": "870fe2e4",
   "metadata": {
    "slideshow": {
     "slide_type": "subslide"
    }
   },
   "source": [
    "Now, only print the months that have at least 10 birthdays."
   ]
  },
  {
   "cell_type": "code",
   "execution_count": null,
   "id": "758693f0",
   "metadata": {},
   "outputs": [],
   "source": []
  },
  {
   "cell_type": "code",
   "execution_count": null,
   "id": "4cd8c3e3",
   "metadata": {
    "execution": {
     "iopub.execute_input": "2023-10-27T13:11:22.855020Z",
     "iopub.status.busy": "2023-10-27T13:11:22.854742Z",
     "iopub.status.idle": "2023-10-27T13:11:22.860197Z",
     "shell.execute_reply": "2023-10-27T13:11:22.859146Z"
    },
    "slideshow": {
     "slide_type": "fragment"
    }
   },
   "outputs": [],
   "source": [
    "sortable = []\n",
    "for month in bday_counts:\n",
    "    count = bday_counts[month]\n",
    "    sortable.append((count, month))\n",
    "sortable.sort(reverse=True)\n",
    "\n",
    "for pair in sortable:\n",
    "    if pair[0] >= 10:\n",
    "        print(f\"Count for {pair[1]}: {pair[0]}\")"
   ]
  },
  {
   "cell_type": "markdown",
   "id": "ec589445",
   "metadata": {
    "slideshow": {
     "slide_type": "subslide"
    }
   },
   "source": [
    "Now, we'll do the same exercises, but we'll use `get()`, comprehensions, and value unpacking.\n",
    "\n",
    "Compute the counts by iterating over the list, and accumulating counts in a dictionary:"
   ]
  },
  {
   "cell_type": "code",
   "execution_count": null,
   "id": "b6a5c135",
   "metadata": {
    "execution": {
     "iopub.execute_input": "2023-10-27T13:11:22.864033Z",
     "iopub.status.busy": "2023-10-27T13:11:22.863745Z",
     "iopub.status.idle": "2023-10-27T13:11:22.867931Z",
     "shell.execute_reply": "2023-10-27T13:11:22.866980Z"
    },
    "slideshow": {
     "slide_type": "fragment"
    }
   },
   "outputs": [],
   "source": [
    "bday_counts = {}\n",
    "for bday in birthday_data:\n",
    "    bday_counts[bday] = bday_counts.get(bday, 0) + 1\n",
    "print(bday_counts)"
   ]
  },
  {
   "cell_type": "markdown",
   "id": "2b7679ad",
   "metadata": {
    "slideshow": {
     "slide_type": "subslide"
    }
   },
   "source": [
    "Now, let's sort them by number of birthdays."
   ]
  },
  {
   "cell_type": "code",
   "execution_count": null,
   "id": "29eb2c6c",
   "metadata": {
    "execution": {
     "iopub.execute_input": "2023-10-27T13:11:22.871460Z",
     "iopub.status.busy": "2023-10-27T13:11:22.871184Z",
     "iopub.status.idle": "2023-10-27T13:11:22.876378Z",
     "shell.execute_reply": "2023-10-27T13:11:22.875388Z"
    },
    "slideshow": {
     "slide_type": "fragment"
    }
   },
   "outputs": [],
   "source": [
    "# Create a list of tuples we can sort - put the count first \n",
    "sortable = [(count, month) for (month, count) in bday_counts.items()]\n",
    "sortable.sort(reverse=True)\n",
    "\n",
    "for pair in sortable:\n",
    "    print(f\"Count for {pair[1]}: {pair[0]}\")"
   ]
  },
  {
   "cell_type": "markdown",
   "id": "5be77bec",
   "metadata": {
    "slideshow": {
     "slide_type": "subslide"
    }
   },
   "source": [
    "Now, only print the months that have at least 10 birthdays."
   ]
  },
  {
   "cell_type": "code",
   "execution_count": null,
   "id": "d6f3e0d0",
   "metadata": {
    "execution": {
     "iopub.execute_input": "2023-10-27T13:11:22.880659Z",
     "iopub.status.busy": "2023-10-27T13:11:22.880374Z",
     "iopub.status.idle": "2023-10-27T13:11:22.885005Z",
     "shell.execute_reply": "2023-10-27T13:11:22.884309Z"
    },
    "slideshow": {
     "slide_type": "fragment"
    }
   },
   "outputs": [],
   "source": [
    "sortable = [(count, month) for (month, count) in bday_counts.items() if count >= 10]\n",
    "sortable.sort(reverse=True)\n",
    "\n",
    "for pair in sortable:\n",
    "    print(f\"Count for {pair[1]}: {pair[0]}\")"
   ]
  },
  {
   "cell_type": "markdown",
   "id": "add953fb",
   "metadata": {
    "slideshow": {
     "slide_type": "slide"
    }
   },
   "source": [
    "# Sets\n",
    "\n",
    "Sets are unordered collections of unique values. \n",
    "\n",
    "They are most commonly used when you want to remove duplicates from a collection of items, easily check if an item is in a collection, or compare/combine multiple collections of unique items."
   ]
  },
  {
   "cell_type": "markdown",
   "id": "823df567",
   "metadata": {
    "slideshow": {
     "slide_type": "subslide"
    }
   },
   "source": [
    "## Creating sets \n",
    "\n",
    "Sets can be created from any iterable."
   ]
  },
  {
   "cell_type": "code",
   "execution_count": null,
   "id": "54986c12",
   "metadata": {
    "execution": {
     "iopub.execute_input": "2023-10-27T13:11:22.888201Z",
     "iopub.status.busy": "2023-10-27T13:11:22.887940Z",
     "iopub.status.idle": "2023-10-27T13:11:22.892822Z",
     "shell.execute_reply": "2023-10-27T13:11:22.892134Z"
    }
   },
   "outputs": [],
   "source": [
    "names = set([\"Batman\", \"Spiderman\", \"Batman\", \"Spongebob\"])\n",
    "print(names)"
   ]
  },
  {
   "cell_type": "markdown",
   "id": "e51b981d",
   "metadata": {
    "slideshow": {
     "slide_type": "subslide"
    }
   },
   "source": [
    "## Accessing set members\n",
    "\n",
    "Because sets are unordered, there are no index-based accessors. You can use `in` to check for membership."
   ]
  },
  {
   "cell_type": "code",
   "execution_count": null,
   "id": "313bed9b",
   "metadata": {
    "execution": {
     "iopub.execute_input": "2023-10-27T13:11:22.896345Z",
     "iopub.status.busy": "2023-10-27T13:11:22.896060Z",
     "iopub.status.idle": "2023-10-27T13:11:22.899468Z",
     "shell.execute_reply": "2023-10-27T13:11:22.898823Z"
    }
   },
   "outputs": [],
   "source": [
    "names = set([\"Batman\", \"Spiderman\", \"Batman\", \"Spongebob\"])"
   ]
  },
  {
   "cell_type": "code",
   "execution_count": null,
   "id": "abeb0fc4",
   "metadata": {
    "execution": {
     "iopub.execute_input": "2023-10-27T13:11:22.902468Z",
     "iopub.status.busy": "2023-10-27T13:11:22.902210Z",
     "iopub.status.idle": "2023-10-27T13:11:22.906774Z",
     "shell.execute_reply": "2023-10-27T13:11:22.905826Z"
    }
   },
   "outputs": [],
   "source": [
    "\"Batman\" in names"
   ]
  },
  {
   "cell_type": "code",
   "execution_count": null,
   "id": "73d210fb",
   "metadata": {
    "execution": {
     "iopub.execute_input": "2023-10-27T13:11:22.910721Z",
     "iopub.status.busy": "2023-10-27T13:11:22.910123Z",
     "iopub.status.idle": "2023-10-27T13:11:22.914635Z",
     "shell.execute_reply": "2023-10-27T13:11:22.914022Z"
    }
   },
   "outputs": [],
   "source": [
    "\"Peppa\" in names"
   ]
  },
  {
   "cell_type": "markdown",
   "id": "0fafb673",
   "metadata": {
    "slideshow": {
     "slide_type": "subslide"
    }
   },
   "source": [
    "## Iterating over sets\n",
    "\n",
    "Sets are iterable, which means you can loop through every member in a set with a `for` loop. \n",
    "\n",
    "They aren't sequences though - they don't have a well-defined order."
   ]
  },
  {
   "cell_type": "code",
   "execution_count": null,
   "id": "91a44055",
   "metadata": {
    "execution": {
     "iopub.execute_input": "2023-10-27T13:11:22.917488Z",
     "iopub.status.busy": "2023-10-27T13:11:22.917247Z",
     "iopub.status.idle": "2023-10-27T13:11:22.920727Z",
     "shell.execute_reply": "2023-10-27T13:11:22.920200Z"
    }
   },
   "outputs": [],
   "source": [
    "names = set([\"Batman\", \"Spiderman\", \"Batman\", \"Spongebob\"])\n",
    "for name in names:\n",
    "    print(name)"
   ]
  },
  {
   "cell_type": "markdown",
   "id": "aad239e3",
   "metadata": {
    "slideshow": {
     "slide_type": "subslide"
    }
   },
   "source": [
    "## Modifying sets\n",
    "\n",
    "`add()`, `remove()`, `clear()`"
   ]
  },
  {
   "cell_type": "code",
   "execution_count": null,
   "id": "da7bfa62",
   "metadata": {
    "execution": {
     "iopub.execute_input": "2023-10-27T13:11:22.924058Z",
     "iopub.status.busy": "2023-10-27T13:11:22.923740Z",
     "iopub.status.idle": "2023-10-27T13:11:22.928002Z",
     "shell.execute_reply": "2023-10-27T13:11:22.927223Z"
    }
   },
   "outputs": [],
   "source": [
    "names = set([\"Batman\", \"Spiderman\", \"Batman\", \"Spongebob\"])\n",
    "names.add(\"Peppa\")\n",
    "print(names)"
   ]
  },
  {
   "cell_type": "code",
   "execution_count": null,
   "id": "8f0cb2a7",
   "metadata": {
    "execution": {
     "iopub.execute_input": "2023-10-27T13:11:22.931119Z",
     "iopub.status.busy": "2023-10-27T13:11:22.930849Z",
     "iopub.status.idle": "2023-10-27T13:11:22.934383Z",
     "shell.execute_reply": "2023-10-27T13:11:22.933822Z"
    }
   },
   "outputs": [],
   "source": [
    "names = set([\"Batman\", \"Spiderman\", \"Batman\", \"Spongebob\"])\n",
    "names.remove(\"Batman\")\n",
    "print(names)"
   ]
  },
  {
   "cell_type": "code",
   "execution_count": null,
   "id": "d807b3bf",
   "metadata": {
    "execution": {
     "iopub.execute_input": "2023-10-27T13:11:22.937325Z",
     "iopub.status.busy": "2023-10-27T13:11:22.937078Z",
     "iopub.status.idle": "2023-10-27T13:11:22.940688Z",
     "shell.execute_reply": "2023-10-27T13:11:22.940099Z"
    }
   },
   "outputs": [],
   "source": [
    "names = set([\"Batman\", \"Spiderman\", \"Batman\", \"Spongebob\"])\n",
    "names.clear()\n",
    "print(names)"
   ]
  },
  {
   "cell_type": "markdown",
   "id": "58f4e563",
   "metadata": {
    "slideshow": {
     "slide_type": "subslide"
    }
   },
   "source": [
    "## Modifying sets\n",
    "\n",
    "`update()` will add multiple items at once."
   ]
  },
  {
   "cell_type": "code",
   "execution_count": null,
   "id": "be5e930e",
   "metadata": {
    "execution": {
     "iopub.execute_input": "2023-10-27T13:11:22.943734Z",
     "iopub.status.busy": "2023-10-27T13:11:22.943487Z",
     "iopub.status.idle": "2023-10-27T13:11:22.947064Z",
     "shell.execute_reply": "2023-10-27T13:11:22.946515Z"
    }
   },
   "outputs": [],
   "source": [
    "names = set([\"Batman\", \"Spiderman\", \"Batman\", \"Spongebob\"])\n",
    "names.update([\"Wolverine\", \"Batman\", \"Wolverine\", \"Magneto\"])\n",
    "print(names)"
   ]
  },
  {
   "cell_type": "markdown",
   "id": "c6196bc1",
   "metadata": {
    "slideshow": {
     "slide_type": "slide"
    }
   },
   "source": [
    "# [Slido](https://wall.sli.do/event/q3yHmCaUfustjPYd3hmXAY?section=cd06177b-4f39-4055-850c-4bbccb918a33)"
   ]
  },
  {
   "cell_type": "markdown",
   "id": "5e54dda1",
   "metadata": {
    "slideshow": {
     "slide_type": "subslide"
    }
   },
   "source": [
    "## Set operations\n",
    "\n",
    "Sets provide equality, intersection, union, and difference operators."
   ]
  },
  {
   "cell_type": "markdown",
   "id": "0f16dfec",
   "metadata": {
    "slideshow": {
     "slide_type": "subslide"
    }
   },
   "source": [
    "## Equality\n",
    "\n",
    "Sets can be compared with `==`"
   ]
  },
  {
   "cell_type": "code",
   "execution_count": null,
   "id": "0da2c191",
   "metadata": {
    "execution": {
     "iopub.execute_input": "2023-10-27T13:11:22.950156Z",
     "iopub.status.busy": "2023-10-27T13:11:22.949903Z",
     "iopub.status.idle": "2023-10-27T13:11:22.954218Z",
     "shell.execute_reply": "2023-10-27T13:11:22.953707Z"
    }
   },
   "outputs": [],
   "source": [
    "fluffy = set([\"cat\", \"dog\", \"dandelion\", \"pillow\"])\n",
    "loud = set([\"dog\", \"cat\", \"baby\", \"horn\", \"alarm\"])\n",
    "fluffy == loud"
   ]
  },
  {
   "cell_type": "markdown",
   "id": "7c02d975",
   "metadata": {
    "slideshow": {
     "slide_type": "subslide"
    }
   },
   "source": [
    "## Intersection \n",
    "\n",
    "The \"intersection\" of 2 (or more) sets is the set of elements which appear in each of the sets. The `&` operator performs an intersection on 2 sets."
   ]
  },
  {
   "cell_type": "code",
   "execution_count": null,
   "id": "d489db25",
   "metadata": {
    "execution": {
     "iopub.execute_input": "2023-10-27T13:11:22.957062Z",
     "iopub.status.busy": "2023-10-27T13:11:22.956816Z",
     "iopub.status.idle": "2023-10-27T13:11:22.961294Z",
     "shell.execute_reply": "2023-10-27T13:11:22.960729Z"
    },
    "slideshow": {
     "slide_type": "-"
    }
   },
   "outputs": [],
   "source": [
    "fluffy = set([\"cat\", \"dog\", \"dandelion\", \"pillow\"])\n",
    "loud = set([\"dog\", \"cat\", \"baby\", \"horn\", \"alarm\"])\n",
    "fluffy & loud"
   ]
  },
  {
   "cell_type": "markdown",
   "id": "8e00199b",
   "metadata": {
    "slideshow": {
     "slide_type": "subslide"
    }
   },
   "source": [
    "## Union\n",
    "\n",
    "The \"union\" of 2 (or more) sets is the set of elements that appear in any of the sets. The `|` operator performs a union on 2 sets."
   ]
  },
  {
   "cell_type": "code",
   "execution_count": null,
   "id": "cdaf5fc2",
   "metadata": {
    "execution": {
     "iopub.execute_input": "2023-10-27T13:11:22.964224Z",
     "iopub.status.busy": "2023-10-27T13:11:22.963977Z",
     "iopub.status.idle": "2023-10-27T13:11:22.968458Z",
     "shell.execute_reply": "2023-10-27T13:11:22.967880Z"
    }
   },
   "outputs": [],
   "source": [
    "fluffy = set([\"cat\", \"dog\", \"dandelion\", \"pillow\"])\n",
    "loud = set([\"dog\", \"cat\", \"baby\", \"horn\", \"alarm\"])\n",
    "fluffy | loud"
   ]
  },
  {
   "cell_type": "markdown",
   "id": "0f397b58",
   "metadata": {
    "slideshow": {
     "slide_type": "subslide"
    }
   },
   "source": [
    "## Subtraction / difference\n",
    "\n",
    "The \"difference\" of 2 sets is the set of elements that appears in set A, but not in set B. The `-` operator performs a difference on 2 sets."
   ]
  },
  {
   "cell_type": "code",
   "execution_count": null,
   "id": "fa27ec38",
   "metadata": {
    "execution": {
     "iopub.execute_input": "2023-10-27T13:11:22.971406Z",
     "iopub.status.busy": "2023-10-27T13:11:22.971162Z",
     "iopub.status.idle": "2023-10-27T13:11:22.975668Z",
     "shell.execute_reply": "2023-10-27T13:11:22.975139Z"
    },
    "slideshow": {
     "slide_type": "-"
    }
   },
   "outputs": [],
   "source": [
    "fluffy = set([\"cat\", \"dog\", \"dandelion\", \"pillow\"])\n",
    "loud = set([\"dog\", \"cat\", \"baby\", \"horn\", \"alarm\"])\n",
    "fluffy - loud"
   ]
  },
  {
   "cell_type": "markdown",
   "id": "7710f7b9",
   "metadata": {},
   "source": [
    "Order matters for subtraction."
   ]
  },
  {
   "cell_type": "code",
   "execution_count": null,
   "id": "3e04f91f",
   "metadata": {
    "execution": {
     "iopub.execute_input": "2023-10-27T13:11:22.978514Z",
     "iopub.status.busy": "2023-10-27T13:11:22.978273Z",
     "iopub.status.idle": "2023-10-27T13:11:22.982338Z",
     "shell.execute_reply": "2023-10-27T13:11:22.981822Z"
    }
   },
   "outputs": [],
   "source": [
    "loud - fluffy\n"
   ]
  },
  {
   "cell_type": "markdown",
   "id": "5b7dc6d3",
   "metadata": {
    "slideshow": {
     "slide_type": "subslide"
    }
   },
   "source": [
    "## Symmetric difference (\"xor\")\n",
    "\n",
    "The \"symmetric difference\" of 2 sets is the set of items that appear in either set, but not both. \n",
    "\n",
    "This is also sometimes referred to as `xor` (\"exclusive or\"), from boolean/digital logic. \n",
    "\n",
    "The `^` operator performs a symmetric difference."
   ]
  },
  {
   "cell_type": "code",
   "execution_count": null,
   "id": "e812620d",
   "metadata": {
    "execution": {
     "iopub.execute_input": "2023-10-27T13:11:22.985162Z",
     "iopub.status.busy": "2023-10-27T13:11:22.984928Z",
     "iopub.status.idle": "2023-10-27T13:11:22.989354Z",
     "shell.execute_reply": "2023-10-27T13:11:22.988836Z"
    }
   },
   "outputs": [],
   "source": [
    "fluffy = set([\"cat\", \"dog\", \"dandelion\", \"pillow\"])\n",
    "loud = set([\"dog\", \"cat\", \"baby\", \"horn\", \"alarm\"])\n",
    "fluffy ^ loud"
   ]
  },
  {
   "cell_type": "markdown",
   "id": "40187608",
   "metadata": {
    "slideshow": {
     "slide_type": "subslide"
    }
   },
   "source": [
    "## Superset / subset\n",
    "\n",
    "Superset: a set contains all elements of another set  \n",
    "Subset: a set is made up only of elements from another set"
   ]
  },
  {
   "cell_type": "code",
   "execution_count": null,
   "id": "a2e376ab",
   "metadata": {
    "execution": {
     "iopub.execute_input": "2023-10-27T13:11:22.992173Z",
     "iopub.status.busy": "2023-10-27T13:11:22.991943Z",
     "iopub.status.idle": "2023-10-27T13:11:22.996100Z",
     "shell.execute_reply": "2023-10-27T13:11:22.995495Z"
    }
   },
   "outputs": [],
   "source": [
    "letters = set(\"abcdefghijklmnopqrstuvwxyz\")\n",
    "vowels = set(\"aeiou\")\n",
    "letters.issuperset(vowels)"
   ]
  },
  {
   "cell_type": "code",
   "execution_count": null,
   "id": "3c4c3a75",
   "metadata": {
    "execution": {
     "iopub.execute_input": "2023-10-27T13:11:22.999022Z",
     "iopub.status.busy": "2023-10-27T13:11:22.998758Z",
     "iopub.status.idle": "2023-10-27T13:11:23.002732Z",
     "shell.execute_reply": "2023-10-27T13:11:23.002220Z"
    }
   },
   "outputs": [],
   "source": [
    "vowels.issuperset(letters)"
   ]
  },
  {
   "cell_type": "code",
   "execution_count": null,
   "id": "168f2584",
   "metadata": {
    "execution": {
     "iopub.execute_input": "2023-10-27T13:11:23.005600Z",
     "iopub.status.busy": "2023-10-27T13:11:23.005340Z",
     "iopub.status.idle": "2023-10-27T13:11:23.009600Z",
     "shell.execute_reply": "2023-10-27T13:11:23.009060Z"
    }
   },
   "outputs": [],
   "source": [
    "vowels.issubset(letters)"
   ]
  },
  {
   "cell_type": "code",
   "execution_count": null,
   "id": "6458b474",
   "metadata": {
    "execution": {
     "iopub.execute_input": "2023-10-27T13:11:23.012375Z",
     "iopub.status.busy": "2023-10-27T13:11:23.012126Z",
     "iopub.status.idle": "2023-10-27T13:11:23.016258Z",
     "shell.execute_reply": "2023-10-27T13:11:23.015575Z"
    }
   },
   "outputs": [],
   "source": [
    "letters.issubset(vowels)"
   ]
  },
  {
   "cell_type": "markdown",
   "id": "e1b338c7",
   "metadata": {
    "slideshow": {
     "slide_type": "subslide"
    }
   },
   "source": [
    "## Example\n",
    "\n",
    "Write a program that prompts the user to enter the postal abbreviations for all 50 U.S. states. The player loses if they repeat a guess, or guesses something that isn't valid."
   ]
  },
  {
   "cell_type": "code",
   "execution_count": null,
   "id": "47a85d7e",
   "metadata": {
    "execution": {
     "iopub.execute_input": "2023-10-27T13:11:23.019367Z",
     "iopub.status.busy": "2023-10-27T13:11:23.019096Z",
     "iopub.status.idle": "2023-10-27T13:11:23.023786Z",
     "shell.execute_reply": "2023-10-27T13:11:23.022927Z"
    }
   },
   "outputs": [],
   "source": [
    "states = set([ 'AK', 'AL', 'AR', 'AZ', 'CA', 'CO', 'CT', 'DE', 'FL', 'GA',\n",
    "           'HI', 'IA', 'ID', 'IL', 'IN', 'KS', 'KY', 'LA', 'MA', 'MD', 'ME',\n",
    "           'MI', 'MN', 'MO', 'MS', 'MT', 'NC', 'ND', 'NE', 'NH', 'NJ', 'NM',\n",
    "           'NV', 'NY', 'OH', 'OK', 'OR', 'PA', 'RI', 'SC', 'SD', 'TN', 'TX',\n",
    "           'UT', 'VA', 'VT', 'WA', 'WI', 'WV', 'WY'])"
   ]
  },
  {
   "cell_type": "code",
   "execution_count": null,
   "id": "8e5e3add",
   "metadata": {
    "execution": {
     "iopub.execute_input": "2023-10-27T13:11:23.027083Z",
     "iopub.status.busy": "2023-10-27T13:11:23.026794Z",
     "iopub.status.idle": "2023-10-27T13:11:23.057667Z",
     "shell.execute_reply": "2023-10-27T13:11:23.056607Z"
    },
    "slideshow": {
     "slide_type": "subslide"
    },
    "tags": [
     "remove-output"
    ]
   },
   "outputs": [],
   "source": [
    "states = set([ 'AK', 'AL', 'AR', 'AZ', 'CA', 'CO', 'CT', 'DE', 'FL', 'GA',\n",
    "           'HI', 'IA', 'ID', 'IL', 'IN', 'KS', 'KY', 'LA', 'MA', 'MD', 'ME',\n",
    "           'MI', 'MN', 'MO', 'MS', 'MT', 'NC', 'ND', 'NE', 'NH', 'NJ', 'NM',\n",
    "           'NV', 'NY', 'OH', 'OK', 'OR', 'PA', 'RI', 'SC', 'SD', 'TN', 'TX',\n",
    "           'UT', 'VA', 'VT', 'WA', 'WI', 'WV', 'WY'])\n",
    "guesses = set()\n",
    "\n",
    "print(\"Guess all 50 US state postal abbreviations, without repeating.\")\n",
    "while True:\n",
    "    print(\"Guess? \")\n",
    "    answer = input()\n",
    "    if answer in guesses:\n",
    "        print(f\"You already guessed {answer}!\")\n",
    "        break\n",
    "    if answer not in states:\n",
    "        print(f\"{answer} is not a valid postal code!\")\n",
    "        break\n",
    "    guesses.add(answer)\n",
    "    if guesses == states:\n",
    "        print(\"You win!\")\n",
    "        break\n",
    "    print(f\"You've guessed {len(guesses)}/{len(states)} so far.\")"
   ]
  }
 ],
 "metadata": {
  "celltoolbar": "Slideshow",
  "kernelspec": {
   "display_name": "Python 3 (ipykernel)",
   "language": "python",
   "name": "python3"
  },
  "language_info": {
   "codemirror_mode": {
    "name": "ipython",
    "version": 3
   },
   "file_extension": ".py",
   "mimetype": "text/x-python",
   "name": "python",
   "nbconvert_exporter": "python",
   "pygments_lexer": "ipython3",
   "version": "3.10.9"
  }
 },
 "nbformat": 4,
 "nbformat_minor": 5
}
