{
 "cells": [
  {
   "cell_type": "markdown",
   "id": "1ee8a1d2",
   "metadata": {
    "slideshow": {
     "slide_type": "slide"
    }
   },
   "source": [
    "# Dictionaries and Sets\n",
    "\n",
    "<style>\n",
    "section.present > section.present { \n",
    "    max-height: 90%; \n",
    "    overflow-y: scroll;\n",
    "}\n",
    "</style>\n",
    "\n",
    "<small><a href=\"https://colab.research.google.com/github/brandeis-jdelfino/cosi-10a/blob/main/lectures/notebooks/10_dictionaries_sets.ipynb\">Link to interactive slides on Google Colab</a></small>"
   ]
  },
  {
   "cell_type": "markdown",
   "id": "84bdae82",
   "metadata": {
    "slideshow": {
     "slide_type": "slide"
    }
   },
   "source": [
    "## Announcements\n",
    "\n",
    "* PS2 grades are in LATTE, reach out to me with questions\n",
    "* PS3 due Sunday 11:59pm; don't count on availability of help over the weekend\n",
    "* PS3 guidance: Read the instructions carefully! In some problems, **especially Pig Latin**, the provided test cases don't cover every possible situation. \n",
    "   * You are required to add unit tests for Vowel Filter, but you are free to add them to other problems if it is helpful."
   ]
  },
  {
   "cell_type": "markdown",
   "id": "ecf7cb81",
   "metadata": {
    "slideshow": {
     "slide_type": "slide"
    }
   },
   "source": [
    "In the next 2 lectures, we'll cover the last 2 widely used data types in Python:\n",
    "* Dictionaries: mappings from keys to values\n",
    "* Sets: Unordered lists of unique values"
   ]
  },
  {
   "cell_type": "markdown",
   "id": "cf21df57",
   "metadata": {
    "slideshow": {
     "slide_type": "slide"
    }
   },
   "source": [
    "## The exercise Exercise, revisited\n",
    "\n",
    "We had 2 \"parallel lists\": names, and lists of which days those characters exercised. We used `zip` to iterate over them together."
   ]
  },
  {
   "cell_type": "code",
   "execution_count": null,
   "id": "61e4ff79",
   "metadata": {
    "execution": {
     "iopub.execute_input": "2023-10-24T12:22:35.000393Z",
     "iopub.status.busy": "2023-10-24T12:22:35.000052Z",
     "iopub.status.idle": "2023-10-24T12:22:35.019226Z",
     "shell.execute_reply": "2023-10-24T12:22:35.018029Z"
    }
   },
   "outputs": [],
   "source": [
    "names = [\"Spongebob\", \"Batman\", \"Dora\", \"Peppa\", \"Bill Murray\"]\n",
    "data = [\n",
    "    [1, 7, 15, 31],\n",
    "    [2, 21],\n",
    "    [5],\n",
    "    [1, 3, 5, 7, 9, 11, 13, 15, 17, 19, 21, 23, 25, 27, 29],\n",
    "    [1, 2, 3, 4, 5, 6]\n",
    "]\n",
    "\n",
    "most = 0\n",
    "most_name = \"\"\n",
    "for (name, dates) in zip(names, data):\n",
    "    if len(dates) > most:\n",
    "        most = len(dates)\n",
    "        most_name = name\n",
    "print(f\"{most_name} exercised the most, with {most} days of exercise!\")"
   ]
  },
  {
   "cell_type": "markdown",
   "id": "b1a36898",
   "metadata": {
    "slideshow": {
     "slide_type": "subslide"
    }
   },
   "source": [
    "**Dictionaries** are a better data structure for this type of data. They map **keys** (names) to **values** (list of exercise dates).\n",
    "\n",
    "Here's how that example would look with a dictionary."
   ]
  },
  {
   "cell_type": "code",
   "execution_count": null,
   "id": "182868ec",
   "metadata": {
    "execution": {
     "iopub.execute_input": "2023-10-24T12:22:35.024451Z",
     "iopub.status.busy": "2023-10-24T12:22:35.023890Z",
     "iopub.status.idle": "2023-10-24T12:22:35.029520Z",
     "shell.execute_reply": "2023-10-24T12:22:35.028831Z"
    }
   },
   "outputs": [],
   "source": [
    "data = {\n",
    "    \"Spongebob\": [1, 7, 15, 31],\n",
    "    \"Batman\": [2, 21],\n",
    "    \"Dora\": [5],\n",
    "    \"Peppa\": [1, 3, 5, 7, 9, 11, 13, 15, 17, 19, 21, 23, 25, 27, 29],\n",
    "    \"Bill Murray\": [1, 2, 3, 4, 5, 6]\n",
    "}\n",
    "\n",
    "most = 0\n",
    "most_name = \"\"\n",
    "for name in data:\n",
    "    if len(data[name]) > most:\n",
    "        most = len(data[name])\n",
    "        most_name = name\n",
    "print(f\"{most_name} exercised the most, with {most} days of exercise!\")"
   ]
  },
  {
   "cell_type": "markdown",
   "id": "e5a1eba7",
   "metadata": {
    "slideshow": {
     "slide_type": "slide"
    }
   },
   "source": [
    "# Creating dictionaries\n",
    "\n",
    "Dictionaries are created and represented with curly brackets: `{` and `}`."
   ]
  },
  {
   "cell_type": "code",
   "execution_count": null,
   "id": "3854a0d5",
   "metadata": {
    "execution": {
     "iopub.execute_input": "2023-10-24T12:22:35.033151Z",
     "iopub.status.busy": "2023-10-24T12:22:35.032853Z",
     "iopub.status.idle": "2023-10-24T12:22:35.036699Z",
     "shell.execute_reply": "2023-10-24T12:22:35.036080Z"
    }
   },
   "outputs": [],
   "source": [
    "distances_from_boston = {\n",
    "    \"NY, NY\": 216,\n",
    "    \"Portland, ME\": 110,\n",
    "    \"San Francisco, CA\": 2692,\n",
    "    \"Auckland, NZ\": 9002\n",
    "}\n",
    "print(distances_from_boston)"
   ]
  },
  {
   "cell_type": "markdown",
   "id": "8fc12d73",
   "metadata": {},
   "source": [
    "`distances_from_boston` holds 4 key/value pairs. All the keys are strings, all the values are integers. Keys can be any **immutable** type and values can be any type."
   ]
  },
  {
   "cell_type": "code",
   "execution_count": null,
   "id": "c39b73a4",
   "metadata": {
    "execution": {
     "iopub.execute_input": "2023-10-24T12:22:35.039834Z",
     "iopub.status.busy": "2023-10-24T12:22:35.039573Z",
     "iopub.status.idle": "2023-10-24T12:22:35.042785Z",
     "shell.execute_reply": "2023-10-24T12:22:35.042196Z"
    },
    "slideshow": {
     "slide_type": "subslide"
    }
   },
   "outputs": [],
   "source": [
    "x = {}\n",
    "print(x)"
   ]
  },
  {
   "cell_type": "markdown",
   "id": "2fab010b",
   "metadata": {},
   "source": [
    "`x` is an empty dictionary."
   ]
  },
  {
   "cell_type": "markdown",
   "id": "77391a05",
   "metadata": {
    "slideshow": {
     "slide_type": "subslide"
    }
   },
   "source": [
    "Dictionary keys are unique. The same key can't appear more than once in a dictionary."
   ]
  },
  {
   "cell_type": "code",
   "execution_count": null,
   "id": "f2aea045",
   "metadata": {
    "execution": {
     "iopub.execute_input": "2023-10-24T12:22:35.046188Z",
     "iopub.status.busy": "2023-10-24T12:22:35.045930Z",
     "iopub.status.idle": "2023-10-24T12:22:35.049431Z",
     "shell.execute_reply": "2023-10-24T12:22:35.048796Z"
    }
   },
   "outputs": [],
   "source": [
    "distances_from_boston = {\n",
    "    \"NY, NY\": 216,\n",
    "    \"NY, NY\": 110,\n",
    "    \"San Francisco, CA\": 2692,\n",
    "    \"Auckland, NZ\": 9002\n",
    "}\n",
    "print(distances_from_boston)"
   ]
  },
  {
   "cell_type": "markdown",
   "id": "a147ad39",
   "metadata": {},
   "source": [
    "The first `NY, NY` value (`216`) was overwritten by the second (`110`) "
   ]
  },
  {
   "cell_type": "markdown",
   "id": "ab100c46",
   "metadata": {
    "slideshow": {
     "slide_type": "slide"
    }
   },
   "source": [
    "## Accessing dictionary elements\n",
    "\n",
    "Dictionaries are accessed using the same bracket notation (`[]`) as lists, but with keys instead of indices."
   ]
  },
  {
   "cell_type": "code",
   "execution_count": null,
   "id": "0f15b8d4",
   "metadata": {
    "execution": {
     "iopub.execute_input": "2023-10-24T12:22:35.052577Z",
     "iopub.status.busy": "2023-10-24T12:22:35.052317Z",
     "iopub.status.idle": "2023-10-24T12:22:35.055784Z",
     "shell.execute_reply": "2023-10-24T12:22:35.055168Z"
    }
   },
   "outputs": [],
   "source": [
    "number_words = {\n",
    "    \"one\": 1,\n",
    "    \"four\": 4,\n",
    "    \"one hundred\": 100\n",
    "}\n",
    "print(number_words[\"four\"])"
   ]
  },
  {
   "cell_type": "code",
   "execution_count": null,
   "id": "6cf994b8",
   "metadata": {
    "execution": {
     "iopub.execute_input": "2023-10-24T12:22:35.058768Z",
     "iopub.status.busy": "2023-10-24T12:22:35.058509Z",
     "iopub.status.idle": "2023-10-24T12:22:35.061939Z",
     "shell.execute_reply": "2023-10-24T12:22:35.061333Z"
    }
   },
   "outputs": [],
   "source": [
    "print(number_words[\"one \" + \"hundred\"])"
   ]
  },
  {
   "cell_type": "markdown",
   "id": "53fe4581",
   "metadata": {
    "slideshow": {
     "slide_type": "subslide"
    }
   },
   "source": [
    "Accessing an element that doesn't exist generates an error"
   ]
  },
  {
   "cell_type": "code",
   "execution_count": null,
   "id": "8dbedcb5",
   "metadata": {
    "execution": {
     "iopub.execute_input": "2023-10-24T12:22:35.065044Z",
     "iopub.status.busy": "2023-10-24T12:22:35.064801Z",
     "iopub.status.idle": "2023-10-24T12:22:35.336616Z",
     "shell.execute_reply": "2023-10-24T12:22:35.335866Z"
    }
   },
   "outputs": [],
   "source": [
    "print(number_words[2])"
   ]
  },
  {
   "cell_type": "markdown",
   "id": "d5291d6f",
   "metadata": {
    "slideshow": {
     "slide_type": "subslide"
    }
   },
   "source": [
    "You can use the `.get()` method if you want to access an element that may not exist."
   ]
  },
  {
   "cell_type": "code",
   "execution_count": null,
   "id": "17a069b4",
   "metadata": {
    "execution": {
     "iopub.execute_input": "2023-10-24T12:22:35.340818Z",
     "iopub.status.busy": "2023-10-24T12:22:35.340347Z",
     "iopub.status.idle": "2023-10-24T12:22:35.346757Z",
     "shell.execute_reply": "2023-10-24T12:22:35.345035Z"
    }
   },
   "outputs": [],
   "source": [
    "number_words = {\n",
    "    \"one\": 1,\n",
    "    \"four\": 4,\n",
    "    \"one hundred\": 100\n",
    "}\n",
    "print(number_words.get(\"one\"))"
   ]
  },
  {
   "cell_type": "code",
   "execution_count": null,
   "id": "20058424",
   "metadata": {
    "execution": {
     "iopub.execute_input": "2023-10-24T12:22:35.351825Z",
     "iopub.status.busy": "2023-10-24T12:22:35.351381Z",
     "iopub.status.idle": "2023-10-24T12:22:35.355152Z",
     "shell.execute_reply": "2023-10-24T12:22:35.354539Z"
    }
   },
   "outputs": [],
   "source": [
    "print(number_words.get(\"two\"))"
   ]
  },
  {
   "cell_type": "markdown",
   "id": "5d8928fe",
   "metadata": {},
   "source": [
    "`get()` takes an optional argument the specifies the value to use if the key isn't found in the dictionary."
   ]
  },
  {
   "cell_type": "code",
   "execution_count": null,
   "id": "5d2899b9",
   "metadata": {
    "execution": {
     "iopub.execute_input": "2023-10-24T12:22:35.358226Z",
     "iopub.status.busy": "2023-10-24T12:22:35.357963Z",
     "iopub.status.idle": "2023-10-24T12:22:35.361473Z",
     "shell.execute_reply": "2023-10-24T12:22:35.360901Z"
    }
   },
   "outputs": [],
   "source": [
    "print(number_words.get(\"two\", \"unknown\"))"
   ]
  },
  {
   "cell_type": "markdown",
   "id": "f0e6954c",
   "metadata": {
    "slideshow": {
     "slide_type": "subslide"
    }
   },
   "source": [
    "You can check for the existince of a key with `in` (similar to lists and other sequences)"
   ]
  },
  {
   "cell_type": "code",
   "execution_count": null,
   "id": "eab3bf28",
   "metadata": {
    "execution": {
     "iopub.execute_input": "2023-10-24T12:22:35.364906Z",
     "iopub.status.busy": "2023-10-24T12:22:35.364604Z",
     "iopub.status.idle": "2023-10-24T12:22:35.368364Z",
     "shell.execute_reply": "2023-10-24T12:22:35.367752Z"
    }
   },
   "outputs": [],
   "source": [
    "number_words = {\n",
    "    \"one\": 1,\n",
    "    \"four\": 4,\n",
    "    \"one hundred\": 100\n",
    "}\n",
    "print(\"one\" in number_words)\n",
    "print(1 in number_words)"
   ]
  },
  {
   "cell_type": "code",
   "execution_count": null,
   "id": "d559277d",
   "metadata": {
    "execution": {
     "iopub.execute_input": "2023-10-24T12:22:35.371541Z",
     "iopub.status.busy": "2023-10-24T12:22:35.371273Z",
     "iopub.status.idle": "2023-10-24T12:22:35.377482Z",
     "shell.execute_reply": "2023-10-24T12:22:35.376882Z"
    }
   },
   "outputs": [],
   "source": [
    "\"ten\" in number_words"
   ]
  },
  {
   "cell_type": "markdown",
   "id": "bff0954d",
   "metadata": {
    "slideshow": {
     "slide_type": "slide"
    }
   },
   "source": [
    "## Modifying dictionaries\n",
    "\n",
    "Assigning a value to a key adds a key/value pair to the dictionary if the key doesn't already exist. If the key does already exist, the value for that key is updated."
   ]
  },
  {
   "cell_type": "code",
   "execution_count": null,
   "id": "6a2bbdc1",
   "metadata": {
    "execution": {
     "iopub.execute_input": "2023-10-24T12:22:35.380736Z",
     "iopub.status.busy": "2023-10-24T12:22:35.380468Z",
     "iopub.status.idle": "2023-10-24T12:22:35.384142Z",
     "shell.execute_reply": "2023-10-24T12:22:35.383464Z"
    }
   },
   "outputs": [],
   "source": [
    "number_preferences = {\n",
    "    1.5: False,\n",
    "    2.7: True,\n",
    "    3.9: False\n",
    "}\n",
    "print(number_preferences)"
   ]
  },
  {
   "cell_type": "code",
   "execution_count": null,
   "id": "23ccb5a9",
   "metadata": {
    "execution": {
     "iopub.execute_input": "2023-10-24T12:22:35.387052Z",
     "iopub.status.busy": "2023-10-24T12:22:35.386788Z",
     "iopub.status.idle": "2023-10-24T12:22:35.390157Z",
     "shell.execute_reply": "2023-10-24T12:22:35.389568Z"
    }
   },
   "outputs": [],
   "source": [
    "number_preferences[4.0] = \"yes\"\n",
    "print(number_preferences)"
   ]
  },
  {
   "cell_type": "code",
   "execution_count": null,
   "id": "fe046ee6",
   "metadata": {
    "execution": {
     "iopub.execute_input": "2023-10-24T12:22:35.393173Z",
     "iopub.status.busy": "2023-10-24T12:22:35.392908Z",
     "iopub.status.idle": "2023-10-24T12:22:35.396292Z",
     "shell.execute_reply": "2023-10-24T12:22:35.395590Z"
    }
   },
   "outputs": [],
   "source": [
    "number_preferences[1.5] = \"no\"\n",
    "print(number_preferences)"
   ]
  },
  {
   "cell_type": "markdown",
   "id": "f7c428d4",
   "metadata": {
    "slideshow": {
     "slide_type": "subslide"
    }
   },
   "source": [
    "You can delete from a dictionary using the `del` keyword."
   ]
  },
  {
   "cell_type": "code",
   "execution_count": null,
   "id": "db9b069b",
   "metadata": {
    "execution": {
     "iopub.execute_input": "2023-10-24T12:22:35.399405Z",
     "iopub.status.busy": "2023-10-24T12:22:35.399153Z",
     "iopub.status.idle": "2023-10-24T12:22:35.402867Z",
     "shell.execute_reply": "2023-10-24T12:22:35.402293Z"
    }
   },
   "outputs": [],
   "source": [
    "stats = {\n",
    "    \"height\": 67,\n",
    "    \"weight\": 140,\n",
    "    \"eye color\": \"blue\",\n",
    "    \"dominant hand\": \"left\"\n",
    "}\n",
    "print(stats)\n",
    "del stats[\"weight\"]\n",
    "print(stats)"
   ]
  },
  {
   "cell_type": "markdown",
   "id": "9ea32f85",
   "metadata": {
    "slideshow": {
     "slide_type": "slide"
    }
   },
   "source": [
    "## Iterating over dictionaries\n",
    "\n",
    "You can use for loops to iterate over the keys in a dictionary"
   ]
  },
  {
   "cell_type": "code",
   "execution_count": null,
   "id": "ca141bab",
   "metadata": {
    "execution": {
     "iopub.execute_input": "2023-10-24T12:22:35.405963Z",
     "iopub.status.busy": "2023-10-24T12:22:35.405658Z",
     "iopub.status.idle": "2023-10-24T12:22:35.410005Z",
     "shell.execute_reply": "2023-10-24T12:22:35.409265Z"
    }
   },
   "outputs": [],
   "source": [
    "stats = {\n",
    "    \"height\": 67,\n",
    "    \"weight\": 140,\n",
    "    \"eye color\": \"blue\",\n",
    "    \"dominant hand\": \"left\"\n",
    "}\n",
    "for statname in stats:\n",
    "    print(f\"My {statname} is {stats[statname]}\")"
   ]
  },
  {
   "cell_type": "markdown",
   "id": "a84afaaa",
   "metadata": {
    "slideshow": {
     "slide_type": "subslide"
    }
   },
   "source": [
    "You can also iterate over key/value pairs with the `.items()` method."
   ]
  },
  {
   "cell_type": "code",
   "execution_count": null,
   "id": "43e533f0",
   "metadata": {
    "execution": {
     "iopub.execute_input": "2023-10-24T12:22:35.413150Z",
     "iopub.status.busy": "2023-10-24T12:22:35.412878Z",
     "iopub.status.idle": "2023-10-24T12:22:35.416677Z",
     "shell.execute_reply": "2023-10-24T12:22:35.416040Z"
    }
   },
   "outputs": [],
   "source": [
    "stats = {\n",
    "    \"height\": 67,\n",
    "    \"weight\": 140,\n",
    "    \"eye color\": \"blue\",\n",
    "    \"dominant hand\": \"left\"\n",
    "}\n",
    "#print(list(stats.items()))\n",
    "for (key, value) in stats.items():\n",
    "    print(f\"My {key} is {value}\")\n",
    "#for key in stats:\n",
    "#    print(f\"My {key} is {stats[key]}\"))"
   ]
  },
  {
   "cell_type": "markdown",
   "id": "dc53395a",
   "metadata": {
    "slideshow": {
     "slide_type": "subslide"
    }
   },
   "source": [
    "`.items()` produces the keys/values as 2-tuples:"
   ]
  },
  {
   "cell_type": "code",
   "execution_count": null,
   "id": "dc138160",
   "metadata": {
    "execution": {
     "iopub.execute_input": "2023-10-24T12:22:35.419920Z",
     "iopub.status.busy": "2023-10-24T12:22:35.419571Z",
     "iopub.status.idle": "2023-10-24T12:22:35.424630Z",
     "shell.execute_reply": "2023-10-24T12:22:35.424018Z"
    }
   },
   "outputs": [],
   "source": [
    "list(stats.items())"
   ]
  },
  {
   "cell_type": "markdown",
   "id": "61bd003a",
   "metadata": {},
   "source": [
    "Our `for` loop used value unpacking - each key from `.items()` is unpacked into `statname`, and each value is unpacke into `value`:"
   ]
  },
  {
   "cell_type": "code",
   "execution_count": null,
   "id": "6c7b7fdf",
   "metadata": {
    "execution": {
     "iopub.execute_input": "2023-10-24T12:22:35.429938Z",
     "iopub.status.busy": "2023-10-24T12:22:35.429523Z",
     "iopub.status.idle": "2023-10-24T12:22:35.433067Z",
     "shell.execute_reply": "2023-10-24T12:22:35.432453Z"
    }
   },
   "outputs": [],
   "source": [
    "for statname, value in stats.items():\n",
    "    print(f\"My {statname} is {value}\")"
   ]
  },
  {
   "cell_type": "markdown",
   "id": "f053cd68",
   "metadata": {
    "slideshow": {
     "slide_type": "slide"
    }
   },
   "source": [
    "## Exercise\n",
    "\n",
    "Write a function to keep track of personal high scores for everyone who plays a game: `record_attempt(name, new_score, scores)`, where:\n",
    "* `name` is a string\n",
    "* `new_score` is an int\n",
    "* `scores` is a dictionary where the keys are names, and the value is the best score for a name\n",
    "* `record_attempt()` should modify `scores` in place"
   ]
  },
  {
   "cell_type": "code",
   "execution_count": null,
   "id": "b25ae039",
   "metadata": {
    "execution": {
     "iopub.execute_input": "2023-10-24T12:22:35.436157Z",
     "iopub.status.busy": "2023-10-24T12:22:35.435896Z",
     "iopub.status.idle": "2023-10-24T12:22:35.438995Z",
     "shell.execute_reply": "2023-10-24T12:22:35.438372Z"
    }
   },
   "outputs": [],
   "source": [
    "def record_attempt(name, new_score, scores):\n",
    "    # ???\n",
    "    return"
   ]
  },
  {
   "cell_type": "code",
   "execution_count": null,
   "id": "9ec62ab3",
   "metadata": {
    "execution": {
     "iopub.execute_input": "2023-10-24T12:22:35.441901Z",
     "iopub.status.busy": "2023-10-24T12:22:35.441645Z",
     "iopub.status.idle": "2023-10-24T12:22:35.444966Z",
     "shell.execute_reply": "2023-10-24T12:22:35.444365Z"
    },
    "slideshow": {
     "slide_type": "subslide"
    }
   },
   "outputs": [],
   "source": [
    "# attempt 1\n",
    "def record_attempt(name, new_score, scores):\n",
    "    if new_score > scores[name]:\n",
    "        scores[name] = new_score"
   ]
  },
  {
   "cell_type": "code",
   "execution_count": null,
   "id": "1e5650f8",
   "metadata": {
    "execution": {
     "iopub.execute_input": "2023-10-24T12:22:35.447871Z",
     "iopub.status.busy": "2023-10-24T12:22:35.447616Z",
     "iopub.status.idle": "2023-10-24T12:22:35.469761Z",
     "shell.execute_reply": "2023-10-24T12:22:35.469106Z"
    },
    "tags": [
     "raises-exception"
    ]
   },
   "outputs": [],
   "source": [
    "scores = {}\n",
    "record_attempt(\"Batman\", 100, scores)\n",
    "print(scores)"
   ]
  },
  {
   "cell_type": "markdown",
   "id": "3cf810ee",
   "metadata": {
    "slideshow": {
     "slide_type": "subslide"
    }
   },
   "source": [
    "We can't use `[]` to check the existing score, because the name might not be in there yet."
   ]
  },
  {
   "cell_type": "code",
   "execution_count": null,
   "id": "b74fc415",
   "metadata": {
    "execution": {
     "iopub.execute_input": "2023-10-24T12:22:35.473307Z",
     "iopub.status.busy": "2023-10-24T12:22:35.472993Z",
     "iopub.status.idle": "2023-10-24T12:22:35.477437Z",
     "shell.execute_reply": "2023-10-24T12:22:35.476822Z"
    },
    "slideshow": {
     "slide_type": "subslide"
    }
   },
   "outputs": [],
   "source": [
    "# attempt 2 (correct)\n",
    "def record_attempt(name, new_score, scores):\n",
    "    if name not in scores:\n",
    "        scores[name] = new_score\n",
    "    elif scores[name] < new_score:\n",
    "        scores[name] = new_score\n",
    "        \n",
    "    #if new_score > scores.get(name, 0):\n",
    "    #    scores[name] = new_score"
   ]
  },
  {
   "cell_type": "code",
   "execution_count": null,
   "id": "3280b0da",
   "metadata": {
    "execution": {
     "iopub.execute_input": "2023-10-24T12:22:35.480689Z",
     "iopub.status.busy": "2023-10-24T12:22:35.480436Z",
     "iopub.status.idle": "2023-10-24T12:22:35.484302Z",
     "shell.execute_reply": "2023-10-24T12:22:35.483616Z"
    }
   },
   "outputs": [],
   "source": [
    "scores = {}\n",
    "record_attempt(\"Batman\", 100, scores)\n",
    "print(scores)"
   ]
  },
  {
   "cell_type": "code",
   "execution_count": null,
   "id": "78beb8ae",
   "metadata": {
    "execution": {
     "iopub.execute_input": "2023-10-24T12:22:35.487816Z",
     "iopub.status.busy": "2023-10-24T12:22:35.487562Z",
     "iopub.status.idle": "2023-10-24T12:22:35.491718Z",
     "shell.execute_reply": "2023-10-24T12:22:35.491067Z"
    }
   },
   "outputs": [],
   "source": [
    "scores = {}\n",
    "record_attempt(\"Batman\", 100, scores)\n",
    "record_attempt(\"Superman\", 10, scores)\n",
    "record_attempt(\"Spongebob\", 50, scores)\n",
    "record_attempt(\"Spiderman\", 1, scores)\n",
    "record_attempt(\"Spiderman\", 11, scores)\n",
    "record_attempt(\"Spiderman\", 110, scores)\n",
    "print(scores)"
   ]
  },
  {
   "cell_type": "markdown",
   "id": "d18e05aa",
   "metadata": {
    "slideshow": {
     "slide_type": "slide"
    }
   },
   "source": [
    "# [Slido](https://wall.sli.do/event/h4FwBMY6vLLm4qKujQS37V?section=53bf946d-921c-4bda-8f4f-0e7fa6363572)"
   ]
  },
  {
   "cell_type": "markdown",
   "id": "9d371d7c",
   "metadata": {
    "slideshow": {
     "slide_type": "subslide"
    }
   },
   "source": [
    "## Exercise\n",
    "\n",
    "Write a function that prints the person with the highest overall score: `print_winner(scores)`"
   ]
  },
  {
   "cell_type": "code",
   "execution_count": null,
   "id": "6bd7b29a",
   "metadata": {
    "execution": {
     "iopub.execute_input": "2023-10-24T12:22:35.494880Z",
     "iopub.status.busy": "2023-10-24T12:22:35.494619Z",
     "iopub.status.idle": "2023-10-24T12:22:35.498347Z",
     "shell.execute_reply": "2023-10-24T12:22:35.497767Z"
    }
   },
   "outputs": [],
   "source": [
    "# attempt 1\n",
    "def print_winner(scores):\n",
    "    best_score = 0\n",
    "    best_player = \"\"\n",
    "    for player, score in scores.items():\n",
    "        if score > best_score:\n",
    "            best_score = score\n",
    "            best_player = player\n",
    "    print(f\"Congratulations, {player}, you win with {score} points!\")"
   ]
  },
  {
   "cell_type": "code",
   "execution_count": null,
   "id": "17fecd2a",
   "metadata": {
    "execution": {
     "iopub.execute_input": "2023-10-24T12:22:35.501289Z",
     "iopub.status.busy": "2023-10-24T12:22:35.501027Z",
     "iopub.status.idle": "2023-10-24T12:22:35.504975Z",
     "shell.execute_reply": "2023-10-24T12:22:35.504350Z"
    }
   },
   "outputs": [],
   "source": [
    "scores = {}\n",
    "record_attempt(\"Batman\", 100, scores)\n",
    "record_attempt(\"Superman\", 10, scores)\n",
    "record_attempt(\"Spongebob\", 50, scores)\n",
    "record_attempt(\"Spiderman\", 1, scores)\n",
    "record_attempt(\"Spiderman\", 11, scores)\n",
    "record_attempt(\"Spiderman\", 110, scores)\n",
    "print_winner(scores)"
   ]
  },
  {
   "cell_type": "markdown",
   "id": "1e956111",
   "metadata": {
    "slideshow": {
     "slide_type": "subslide"
    }
   },
   "source": [
    "That output looks correct... but can you spot the bug?"
   ]
  },
  {
   "cell_type": "code",
   "execution_count": null,
   "id": "ce18d9ec",
   "metadata": {
    "execution": {
     "iopub.execute_input": "2023-10-24T12:22:35.508086Z",
     "iopub.status.busy": "2023-10-24T12:22:35.507825Z",
     "iopub.status.idle": "2023-10-24T12:22:35.511702Z",
     "shell.execute_reply": "2023-10-24T12:22:35.510996Z"
    }
   },
   "outputs": [],
   "source": [
    "# attempt 1\n",
    "def print_winner(scores):\n",
    "    best_score = 0\n",
    "    best_player = \"\"\n",
    "    for player, score in scores.items():\n",
    "        if score > best_score:\n",
    "            best_score = score\n",
    "            best_player = player \n",
    "    print(f\"Congratulations, {player}, you win with {score} points!\")"
   ]
  },
  {
   "cell_type": "code",
   "execution_count": null,
   "id": "526e7e17",
   "metadata": {
    "execution": {
     "iopub.execute_input": "2023-10-24T12:22:35.514694Z",
     "iopub.status.busy": "2023-10-24T12:22:35.514440Z",
     "iopub.status.idle": "2023-10-24T12:22:35.518320Z",
     "shell.execute_reply": "2023-10-24T12:22:35.517743Z"
    },
    "slideshow": {
     "slide_type": "fragment"
    }
   },
   "outputs": [],
   "source": [
    "scores = {}\n",
    "record_attempt(\"Batman\", 150, scores)\n",
    "record_attempt(\"Spongebob\", 50, scores)\n",
    "record_attempt(\"Spiderman\", 1, scores)\n",
    "record_attempt(\"Spiderman\", 11, scores)\n",
    "record_attempt(\"Spiderman\", 110, scores)\n",
    "record_attempt(\"Superman\", 10, scores)\n",
    "print_winner(scores)"
   ]
  },
  {
   "cell_type": "markdown",
   "id": "ae847962",
   "metadata": {},
   "source": [
    "We printed the wrong variables at the end! This is a common type of error - make sure you test your code with a variety of inputs!"
   ]
  },
  {
   "cell_type": "code",
   "execution_count": null,
   "id": "c3676c09",
   "metadata": {
    "execution": {
     "iopub.execute_input": "2023-10-24T12:22:35.521432Z",
     "iopub.status.busy": "2023-10-24T12:22:35.521181Z",
     "iopub.status.idle": "2023-10-24T12:22:35.524778Z",
     "shell.execute_reply": "2023-10-24T12:22:35.524192Z"
    },
    "slideshow": {
     "slide_type": "subslide"
    }
   },
   "outputs": [],
   "source": [
    "# attempt 2 (correct)\n",
    "def print_winner(scores):\n",
    "    best_score = 0\n",
    "    best_player = \"\"\n",
    "    for player, score in scores.items():\n",
    "        if score > best_score:\n",
    "            best_score = score\n",
    "            best_player = player\n",
    "    print(f\"Congratulations, {best_player}, you win with {best_score} points!\")"
   ]
  },
  {
   "cell_type": "code",
   "execution_count": null,
   "id": "81f99fca",
   "metadata": {
    "execution": {
     "iopub.execute_input": "2023-10-24T12:22:35.527734Z",
     "iopub.status.busy": "2023-10-24T12:22:35.527466Z",
     "iopub.status.idle": "2023-10-24T12:22:35.531616Z",
     "shell.execute_reply": "2023-10-24T12:22:35.530972Z"
    },
    "slideshow": {
     "slide_type": "fragment"
    }
   },
   "outputs": [],
   "source": [
    "scores = {}\n",
    "record_attempt(\"Batman\", 150, scores)\n",
    "record_attempt(\"Superman\", 10, scores)\n",
    "record_attempt(\"Spongebob\", 50, scores)\n",
    "record_attempt(\"Spiderman\", 1, scores)\n",
    "record_attempt(\"Spiderman\", 11, scores)\n",
    "record_attempt(\"Spiderman\", 110, scores)\n",
    "print_winner(scores)"
   ]
  },
  {
   "cell_type": "markdown",
   "id": "249bfeb7",
   "metadata": {
    "slideshow": {
     "slide_type": "subslide"
    }
   },
   "source": [
    "## Exercise\n",
    "\n",
    "Write a function that takes a string, and returns a dictionary representing the unique words in the string, and the number of times each word occurred."
   ]
  },
  {
   "cell_type": "code",
   "execution_count": null,
   "id": "757ecb85",
   "metadata": {
    "execution": {
     "iopub.execute_input": "2023-10-24T12:22:35.534600Z",
     "iopub.status.busy": "2023-10-24T12:22:35.534341Z",
     "iopub.status.idle": "2023-10-24T12:22:35.537478Z",
     "shell.execute_reply": "2023-10-24T12:22:35.536849Z"
    },
    "slideshow": {
     "slide_type": "subslide"
    }
   },
   "outputs": [],
   "source": [
    "def count_words(word_string):\n",
    "    # ???\n",
    "    return {}"
   ]
  },
  {
   "cell_type": "code",
   "execution_count": null,
   "id": "495abde5",
   "metadata": {
    "execution": {
     "iopub.execute_input": "2023-10-24T12:22:35.540563Z",
     "iopub.status.busy": "2023-10-24T12:22:35.540219Z",
     "iopub.status.idle": "2023-10-24T12:22:35.543880Z",
     "shell.execute_reply": "2023-10-24T12:22:35.543254Z"
    },
    "slideshow": {
     "slide_type": "subslide"
    }
   },
   "outputs": [],
   "source": [
    "# attempt 1\n",
    "def count_words(word_string):\n",
    "    words = word_string.split()\n",
    "    counts = {}\n",
    "    for word in words:\n",
    "        counts[word] = counts[word] + 1\n",
    "    return counts"
   ]
  },
  {
   "cell_type": "code",
   "execution_count": null,
   "id": "dca8dd3b",
   "metadata": {
    "execution": {
     "iopub.execute_input": "2023-10-24T12:22:35.546698Z",
     "iopub.status.busy": "2023-10-24T12:22:35.546465Z",
     "iopub.status.idle": "2023-10-24T12:22:35.568154Z",
     "shell.execute_reply": "2023-10-24T12:22:35.567524Z"
    },
    "tags": [
     "raises-exception"
    ]
   },
   "outputs": [],
   "source": [
    "count_words(\"It was the best of times it was the worst of times it was the age of wisdom it was the age of foolishness\")"
   ]
  },
  {
   "cell_type": "markdown",
   "id": "85172442",
   "metadata": {
    "slideshow": {
     "slide_type": "subslide"
    }
   },
   "source": [
    "We need to handle the initial condition, where the word hasn't been found yet."
   ]
  },
  {
   "cell_type": "code",
   "execution_count": null,
   "id": "1f41ae33",
   "metadata": {
    "execution": {
     "iopub.execute_input": "2023-10-24T12:22:35.571530Z",
     "iopub.status.busy": "2023-10-24T12:22:35.571233Z",
     "iopub.status.idle": "2023-10-24T12:22:35.575283Z",
     "shell.execute_reply": "2023-10-24T12:22:35.574615Z"
    },
    "slideshow": {
     "slide_type": "-"
    }
   },
   "outputs": [],
   "source": [
    "# attempt 2\n",
    "def count_words(word_string):\n",
    "    words = word_string.split()\n",
    "    counts = {}\n",
    "    for word in words:\n",
    "        if word not in counts:\n",
    "            counts[word] = 1\n",
    "        else:\n",
    "            counts[word] = counts[word] + 1\n",
    "    return counts"
   ]
  },
  {
   "cell_type": "code",
   "execution_count": null,
   "id": "80f13cee",
   "metadata": {
    "execution": {
     "iopub.execute_input": "2023-10-24T12:22:35.578705Z",
     "iopub.status.busy": "2023-10-24T12:22:35.578446Z",
     "iopub.status.idle": "2023-10-24T12:22:35.582980Z",
     "shell.execute_reply": "2023-10-24T12:22:35.582220Z"
    },
    "tags": [
     "raises-exception"
    ]
   },
   "outputs": [],
   "source": [
    "count_words(\"It was the best of times it was the worst of times it was the age of wisdom it was the age of foolishness\")"
   ]
  },
  {
   "cell_type": "markdown",
   "id": "d4685ea7",
   "metadata": {
    "slideshow": {
     "slide_type": "subslide"
    }
   },
   "source": [
    "Whoops, looks like we have to deal with upper vs. lower case."
   ]
  },
  {
   "cell_type": "code",
   "execution_count": null,
   "id": "29d0c676",
   "metadata": {
    "execution": {
     "iopub.execute_input": "2023-10-24T12:22:35.586587Z",
     "iopub.status.busy": "2023-10-24T12:22:35.586310Z",
     "iopub.status.idle": "2023-10-24T12:22:35.590345Z",
     "shell.execute_reply": "2023-10-24T12:22:35.589624Z"
    },
    "slideshow": {
     "slide_type": "-"
    }
   },
   "outputs": [],
   "source": [
    "# attempt 3\n",
    "def count_words(word_string):\n",
    "    words = word_string.lower().split()\n",
    "    counts = {}\n",
    "    for word in words:\n",
    "        if word not in counts:\n",
    "            counts[word] = 1\n",
    "        else:\n",
    "            counts[word] = counts[word] + 1\n",
    "    return counts"
   ]
  },
  {
   "cell_type": "code",
   "execution_count": null,
   "id": "9d416a45",
   "metadata": {
    "execution": {
     "iopub.execute_input": "2023-10-24T12:22:35.593299Z",
     "iopub.status.busy": "2023-10-24T12:22:35.593036Z",
     "iopub.status.idle": "2023-10-24T12:22:35.597943Z",
     "shell.execute_reply": "2023-10-24T12:22:35.597266Z"
    },
    "tags": [
     "raises-exception"
    ]
   },
   "outputs": [],
   "source": [
    "count_words(\"It was the best of times it was the worst of times it was the age of wisdom it was the age of foolishness\")"
   ]
  },
  {
   "cell_type": "markdown",
   "id": "f6478b85",
   "metadata": {
    "slideshow": {
     "slide_type": "subslide"
    }
   },
   "source": [
    "That was perfectly good code! But we can make it a little cleaner using `get()`:"
   ]
  },
  {
   "cell_type": "code",
   "execution_count": null,
   "id": "cf794570",
   "metadata": {
    "execution": {
     "iopub.execute_input": "2023-10-24T12:22:35.601323Z",
     "iopub.status.busy": "2023-10-24T12:22:35.600851Z",
     "iopub.status.idle": "2023-10-24T12:22:35.605164Z",
     "shell.execute_reply": "2023-10-24T12:22:35.604563Z"
    }
   },
   "outputs": [],
   "source": [
    "# an alternative, using get()\n",
    "def count_words(word_string):\n",
    "    words = word_string.lower().split()\n",
    "    counts = {}\n",
    "    for word in words:\n",
    "        counts[word] = counts.get(word, 0) + 1\n",
    "    \n",
    "    sortable = [(freq, word) for word, freq in counts.items()]\n",
    "    sortable.sort(reverse=True)\n",
    "    \n",
    "    final_answer = []\n",
    "    for (freq, word) in sortable:\n",
    "        final_answer.append(word)\n",
    "    \n",
    "    return final_answer"
   ]
  },
  {
   "cell_type": "code",
   "execution_count": null,
   "id": "96f44ddd",
   "metadata": {
    "execution": {
     "iopub.execute_input": "2023-10-24T12:22:35.608234Z",
     "iopub.status.busy": "2023-10-24T12:22:35.607873Z",
     "iopub.status.idle": "2023-10-24T12:22:35.612349Z",
     "shell.execute_reply": "2023-10-24T12:22:35.611724Z"
    },
    "tags": [
     "raises-exception"
    ]
   },
   "outputs": [],
   "source": [
    "count_words(\"It was the best of times it was the worst of times it was the age of wisdom it was the age of foolishness\")"
   ]
  },
  {
   "cell_type": "markdown",
   "id": "c120518c",
   "metadata": {
    "slideshow": {
     "slide_type": "slide"
    }
   },
   "source": [
    "## Dictionary comprehensions\n",
    "\n",
    "Similar to lists, dictionaries can be created using \"comprehensions\":"
   ]
  },
  {
   "cell_type": "code",
   "execution_count": null,
   "id": "33715770",
   "metadata": {
    "execution": {
     "iopub.execute_input": "2023-10-24T12:22:35.615439Z",
     "iopub.status.busy": "2023-10-24T12:22:35.615080Z",
     "iopub.status.idle": "2023-10-24T12:22:35.618627Z",
     "shell.execute_reply": "2023-10-24T12:22:35.618080Z"
    }
   },
   "outputs": [],
   "source": [
    "squared_nums = {x: x**2 for x in range(5)}\n",
    "print(squared_nums)"
   ]
  },
  {
   "cell_type": "markdown",
   "id": "ba3c6bba",
   "metadata": {
    "slideshow": {
     "slide_type": "subslide"
    }
   },
   "source": [
    "The formal syntax of a dictionary comprehension is:\n",
    "\n",
    "`{<key expression>: <value expression> for <var> in <iterable>}`  \n",
    "or  \n",
    "`{<key expression>: <value expression> for <var> in <iterable> if <boolean expression>}`\n",
    "\n",
    "Both the key and value can be any expression (as long as they evaluate to valid key and value types)."
   ]
  },
  {
   "cell_type": "markdown",
   "id": "0bcbc960",
   "metadata": {
    "slideshow": {
     "slide_type": "subslide"
    }
   },
   "source": [
    "This code creates a dictionary that maps from vegetable name to the count of vowels in the vegetable name:"
   ]
  },
  {
   "cell_type": "code",
   "execution_count": null,
   "id": "62add22b",
   "metadata": {
    "execution": {
     "iopub.execute_input": "2023-10-24T12:22:35.621776Z",
     "iopub.status.busy": "2023-10-24T12:22:35.621510Z",
     "iopub.status.idle": "2023-10-24T12:22:35.624885Z",
     "shell.execute_reply": "2023-10-24T12:22:35.624296Z"
    }
   },
   "outputs": [],
   "source": [
    "def count_vowels(word):\n",
    "    count = 0\n",
    "    \n",
    "    for c in word:\n",
    "        if c in 'aeiou':\n",
    "            count += 1\n",
    "    return count"
   ]
  },
  {
   "cell_type": "code",
   "execution_count": null,
   "id": "d85a9f71",
   "metadata": {
    "execution": {
     "iopub.execute_input": "2023-10-24T12:22:35.627760Z",
     "iopub.status.busy": "2023-10-24T12:22:35.627518Z",
     "iopub.status.idle": "2023-10-24T12:22:35.631095Z",
     "shell.execute_reply": "2023-10-24T12:22:35.630544Z"
    },
    "slideshow": {
     "slide_type": ""
    }
   },
   "outputs": [],
   "source": [
    "# with a comprehension\n",
    "vegetables = [\"cucumber\", \"tomato\", \"pepper\", \"carrot\"]\n",
    "veggie_counts = {veggie: count_vowels(veggie) for veggie in vegetables}\n",
    "print(veggie_counts)"
   ]
  },
  {
   "cell_type": "code",
   "execution_count": null,
   "id": "e6fc9cf1",
   "metadata": {
    "execution": {
     "iopub.execute_input": "2023-10-24T12:22:35.633931Z",
     "iopub.status.busy": "2023-10-24T12:22:35.633686Z",
     "iopub.status.idle": "2023-10-24T12:22:35.637194Z",
     "shell.execute_reply": "2023-10-24T12:22:35.636614Z"
    },
    "slideshow": {
     "slide_type": ""
    }
   },
   "outputs": [],
   "source": [
    "# without a comprehension\n",
    "vegetables = [\"cucumber\", \"tomato\", \"pepper\", \"carrot\"]\n",
    "veggie_counts = {}\n",
    "for veggie in vegetables:\n",
    "    veggie_counts[veggie] = count_vowels(veggie)\n",
    "print(veggie_counts)"
   ]
  },
  {
   "cell_type": "markdown",
   "id": "0af6bad4",
   "metadata": {
    "slideshow": {
     "slide_type": "subslide"
    }
   },
   "source": [
    "This code does the same thing, except it limits the dictionary to vegetables that have at least 3 vowels in their names:"
   ]
  },
  {
   "cell_type": "code",
   "execution_count": null,
   "id": "83c26469",
   "metadata": {
    "execution": {
     "iopub.execute_input": "2023-10-24T12:22:35.640281Z",
     "iopub.status.busy": "2023-10-24T12:22:35.640033Z",
     "iopub.status.idle": "2023-10-24T12:22:35.643874Z",
     "shell.execute_reply": "2023-10-24T12:22:35.643276Z"
    },
    "slideshow": {
     "slide_type": "subslide"
    }
   },
   "outputs": [],
   "source": [
    "# with a comprehension\n",
    "vegetables = [\"cucumber\", \"tomato\", \"pepper\", \"carrot\"]\n",
    "veggie_counts = {veggie: count_vowels(veggie) for veggie in vegetables if count_vowels(veggie) > 2}\n",
    "print(veggie_counts)"
   ]
  },
  {
   "cell_type": "code",
   "execution_count": null,
   "id": "0788fa22",
   "metadata": {
    "execution": {
     "iopub.execute_input": "2023-10-24T12:22:35.646803Z",
     "iopub.status.busy": "2023-10-24T12:22:35.646541Z",
     "iopub.status.idle": "2023-10-24T12:22:35.650387Z",
     "shell.execute_reply": "2023-10-24T12:22:35.649800Z"
    },
    "slideshow": {
     "slide_type": "subslide"
    }
   },
   "outputs": [],
   "source": [
    "# without a comprehension\n",
    "vegetables = [\"cucumber\", \"tomato\", \"pepper\", \"carrot\"]\n",
    "veggie_counts = {}\n",
    "for veggie in vegetables:\n",
    "    num_vowels = count_vowels(veggie)\n",
    "    if num_vowels > 2:\n",
    "        veggie_counts[veggie] = num_vowels\n",
    "print(veggie_counts)"
   ]
  },
  {
   "cell_type": "markdown",
   "id": "7619877e",
   "metadata": {
    "slideshow": {
     "slide_type": "subslide"
    }
   },
   "source": [
    "One last example, which creates a dictionary with each vegetable as a key, and a random integer as each value:"
   ]
  },
  {
   "cell_type": "code",
   "execution_count": null,
   "id": "6381f692",
   "metadata": {
    "execution": {
     "iopub.execute_input": "2023-10-24T12:22:35.653305Z",
     "iopub.status.busy": "2023-10-24T12:22:35.653062Z",
     "iopub.status.idle": "2023-10-24T12:22:35.656896Z",
     "shell.execute_reply": "2023-10-24T12:22:35.656302Z"
    },
    "slideshow": {
     "slide_type": "subslide"
    }
   },
   "outputs": [],
   "source": [
    "import random \n",
    "vegetables = [\"cucumber\", \"tomato\", \"pepper\", \"carrot\"]\n",
    "veggie_counts = {veggie: random.randint(0, 10) for veggie in vegetables}\n",
    "print(veggie_counts)"
   ]
  },
  {
   "cell_type": "markdown",
   "id": "4bf44691",
   "metadata": {
    "slideshow": {
     "slide_type": "slide"
    }
   },
   "source": [
    "# [Slido](https://wall.sli.do/event/h4FwBMY6vLLm4qKujQS37V?section=53bf946d-921c-4bda-8f4f-0e7fa6363572)"
   ]
  },
  {
   "cell_type": "markdown",
   "id": "35c01389",
   "metadata": {},
   "source": [
    "## Dictionaries review\n",
    "\n",
    "Dictionaries are best used when you have data that consists of key/value pairs. \n",
    "\n",
    "A simple example is an old-school phone book: the names are keys, the phone numbers are the values."
   ]
  },
  {
   "cell_type": "code",
   "execution_count": null,
   "id": "e960aae7",
   "metadata": {
    "execution": {
     "iopub.execute_input": "2023-10-24T12:22:35.659934Z",
     "iopub.status.busy": "2023-10-24T12:22:35.659690Z",
     "iopub.status.idle": "2023-10-24T12:22:35.662666Z",
     "shell.execute_reply": "2023-10-24T12:22:35.662119Z"
    }
   },
   "outputs": [],
   "source": [
    "phone_book = {\n",
    "    \"Harry\": \"555-1234\",\n",
    "    \"Hermione\": \"555-4567\",\n",
    "    \"Ron\": \"555-7890\"\n",
    "}"
   ]
  },
  {
   "cell_type": "markdown",
   "id": "0ed28e7c",
   "metadata": {},
   "source": [
    "## Dictionaries review\n",
    "\n",
    "Key/value data is not always that simple though. \n",
    "\n",
    "Think of a modern Contacts app: the keys may still be names, but the values might have multiple phone numbers, addresses, social media handles, etc. The values themselves might be lists, or dictionaries, combinations of the 2."
   ]
  },
  {
   "cell_type": "code",
   "execution_count": null,
   "id": "8b7c706d",
   "metadata": {
    "execution": {
     "iopub.execute_input": "2023-10-24T12:22:35.665474Z",
     "iopub.status.busy": "2023-10-24T12:22:35.665245Z",
     "iopub.status.idle": "2023-10-24T12:22:35.668596Z",
     "shell.execute_reply": "2023-10-24T12:22:35.668077Z"
    }
   },
   "outputs": [],
   "source": [
    "contacts = {\n",
    "    \"Harry\": {\n",
    "        \"mobile\": \"555-1234\",\n",
    "        \"address\": \"Number 4 Privet Drive\",\n",
    "        \"instagram\": \"@harryp\"\n",
    "    },\n",
    "    \"Hermione\": {        \n",
    "        \"mobile\": \"555-4567\",\n",
    "        \"address\": \"8 Heathgate, Hampstead Garden Suburb, London\",\n",
    "        \"instagram\": \"@hermgran\"\n",
    "    },\n",
    "    \"Ron\": {        \n",
    "        \"mobile\": \"555-7890\",\n",
    "        \"address\": \"The Burrow\",\n",
    "        \"instagram\": \"@weaslier\"\n",
    "    }\n",
    "}"
   ]
  },
  {
   "cell_type": "markdown",
   "id": "1e6a4899",
   "metadata": {
    "slideshow": {
     "slide_type": "slide"
    }
   },
   "source": [
    "## Dictionaries review\n",
    "\n",
    "Accessing elements:\n",
    "* If you know the key will exist in the dictionary: use brackets `[...]`\n",
    "* If you aren't sure the key will exist: use `.get(...)`"
   ]
  },
  {
   "cell_type": "markdown",
   "id": "1de06761",
   "metadata": {
    "slideshow": {
     "slide_type": "subslide"
    }
   },
   "source": [
    "## Brackets `[]`"
   ]
  },
  {
   "cell_type": "code",
   "execution_count": null,
   "id": "928a4b31",
   "metadata": {
    "execution": {
     "iopub.execute_input": "2023-10-24T12:22:35.671590Z",
     "iopub.status.busy": "2023-10-24T12:22:35.671344Z",
     "iopub.status.idle": "2023-10-24T12:22:35.675053Z",
     "shell.execute_reply": "2023-10-24T12:22:35.674533Z"
    }
   },
   "outputs": [],
   "source": [
    "drink_temps = {\n",
    "    \"Red Wine\": 16.0,\n",
    "    \"White Wine\": 10.0,\n",
    "    \"Beer\": 8.0,\n",
    "    \"Black tea\": 85.0,\n",
    "    \"Green tea\": 74.0\n",
    "}\n",
    "\n",
    "for drink in drink_temps:\n",
    "    print(f\"Drink {drink} at {drink_temps[drink]}˚C\")"
   ]
  },
  {
   "cell_type": "markdown",
   "id": "29cd653f",
   "metadata": {
    "slideshow": {
     "slide_type": "notes"
    }
   },
   "source": [
    "Here, we know that each key will exist in the dictionary, so using brackets makes sense."
   ]
  },
  {
   "cell_type": "markdown",
   "id": "71699ae6",
   "metadata": {
    "slideshow": {
     "slide_type": "subslide"
    }
   },
   "source": [
    "## `.get()`"
   ]
  },
  {
   "cell_type": "code",
   "execution_count": null,
   "id": "e572c048",
   "metadata": {
    "execution": {
     "iopub.execute_input": "2023-10-24T12:22:35.678099Z",
     "iopub.status.busy": "2023-10-24T12:22:35.677860Z",
     "iopub.status.idle": "2023-10-24T12:22:35.756257Z",
     "shell.execute_reply": "2023-10-24T12:22:35.755297Z"
    }
   },
   "outputs": [],
   "source": [
    "drink_temps = {\n",
    "    \"Red Wine\": 16.0,\n",
    "    \"White Wine\": 10.0,\n",
    "    \"Beer\": 8.0,\n",
    "    \"Black tea\": 85.0,\n",
    "    \"Green tea\": 74.0\n",
    "}\n",
    "\n",
    "drink = input(\"What drink do you want to know about? \")\n",
    "print(f\"Drink {drink} at {drink_temps.get(drink)}˚C\")"
   ]
  },
  {
   "cell_type": "markdown",
   "id": "5f4a8c1a",
   "metadata": {
    "slideshow": {
     "slide_type": "notes"
    }
   },
   "source": [
    "Here, we don't know if the key will exist in the dictionary. If we used brackets, the code would raise an error if the user typed in a drink that wasn't in `drink_temps`. We can use `get()` to prevent an error from being raised."
   ]
  },
  {
   "cell_type": "markdown",
   "id": "3d47bd21",
   "metadata": {
    "slideshow": {
     "slide_type": "subslide"
    }
   },
   "source": [
    "## .get() is a convenience\n",
    "\n",
    "You can always explicitly check for the existence of a key before trying to access it with brackets."
   ]
  },
  {
   "cell_type": "code",
   "execution_count": null,
   "id": "a10230f6",
   "metadata": {
    "execution": {
     "iopub.execute_input": "2023-10-24T12:22:35.759710Z",
     "iopub.status.busy": "2023-10-24T12:22:35.759443Z",
     "iopub.status.idle": "2023-10-24T12:22:35.782748Z",
     "shell.execute_reply": "2023-10-24T12:22:35.782104Z"
    }
   },
   "outputs": [],
   "source": [
    "drink_temps = {\n",
    "    \"Red Wine\": 16.0,\n",
    "    \"White Wine\": 10.0,\n",
    "    \"Beer\": 8.0,\n",
    "    \"Black tea\": 85.0,\n",
    "    \"Green tea\": 74.0\n",
    "}\n",
    "\n",
    "drink = input(\"What drink do you want to know about? \")\n",
    "if drink in drink_temps:\n",
    "    print(f\"Drink {drink} at {drink_temps[drink]}˚C\")\n",
    "else:\n",
    "    print(f\"I don't know about {drink}\")"
   ]
  },
  {
   "cell_type": "markdown",
   "id": "ef806ffd",
   "metadata": {
    "slideshow": {
     "slide_type": "subslide"
    }
   },
   "source": [
    "## `.get()` with a default value\n",
    "\n",
    "You can tell `.get()` what to return if the key does not exist in the dictionary."
   ]
  },
  {
   "cell_type": "code",
   "execution_count": null,
   "id": "f4d7a196",
   "metadata": {
    "execution": {
     "iopub.execute_input": "2023-10-24T12:22:35.786135Z",
     "iopub.status.busy": "2023-10-24T12:22:35.785681Z",
     "iopub.status.idle": "2023-10-24T12:22:35.808026Z",
     "shell.execute_reply": "2023-10-24T12:22:35.807326Z"
    }
   },
   "outputs": [],
   "source": [
    "drink_temps = {\n",
    "    \"Red Wine\": 16.0,\n",
    "    \"White Wine\": 10.0,\n",
    "    \"Beer\": 8.0,\n",
    "    \"Black tea\": 85.0,\n",
    "    \"Green tea\": 74.0\n",
    "}\n",
    "\n",
    "drink = input(\"What drink do you want to know about? \")\n",
    "print(f\"Drink {drink} at {drink_temps.get(drink, 'unknown')}˚C\")"
   ]
  },
  {
   "cell_type": "markdown",
   "id": "2d7ad923",
   "metadata": {
    "slideshow": {
     "slide_type": "notes"
    }
   },
   "source": [
    "This code demonstrates passing an extra parameter to `get()`. Now, if the users types in an unknown drink, `.get()` will return `\"unknown\"` instead of `None`."
   ]
  },
  {
   "cell_type": "markdown",
   "id": "ae0abd2e",
   "metadata": {
    "slideshow": {
     "slide_type": "slide"
    }
   },
   "source": [
    "## Exercise\n",
    "\n",
    "You are given a list of strings representing birthday months. Count the number of birthdays in each month, and print them."
   ]
  },
  {
   "cell_type": "markdown",
   "id": "d4a61935",
   "metadata": {
    "slideshow": {
     "slide_type": "subslide"
    }
   },
   "source": [
    "I'm too lazy to generate a list of birthday months myself... I'll use Python, and the [random.choices()](https://docs.python.org/3/library/random.html#random.choices) function:"
   ]
  },
  {
   "cell_type": "code",
   "execution_count": null,
   "id": "e18ff8e4",
   "metadata": {
    "execution": {
     "iopub.execute_input": "2023-10-24T12:22:35.811619Z",
     "iopub.status.busy": "2023-10-24T12:22:35.811321Z",
     "iopub.status.idle": "2023-10-24T12:22:35.815827Z",
     "shell.execute_reply": "2023-10-24T12:22:35.815098Z"
    },
    "slideshow": {
     "slide_type": "-"
    }
   },
   "outputs": [],
   "source": [
    "import random\n",
    "# List of three-letter month abbreviations\n",
    "months = ['Jan', 'Feb', 'Mar', 'Apr', 'May', 'Jun', 'Jul', 'Aug', 'Sep', 'Oct', 'Nov', 'Dec']\n",
    "\n",
    "# Generate a random list of 20 month names\n",
    "birthday_data = random.choices(months, k=100)\n",
    "print(birthday_data)"
   ]
  },
  {
   "cell_type": "markdown",
   "id": "9380ccd8",
   "metadata": {
    "slideshow": {
     "slide_type": "subslide"
    }
   },
   "source": [
    "Compute the counts by iterating over the list, and accumulating counts in a dictionary:"
   ]
  },
  {
   "cell_type": "code",
   "execution_count": null,
   "id": "f3818735",
   "metadata": {
    "execution": {
     "iopub.execute_input": "2023-10-24T12:22:35.819800Z",
     "iopub.status.busy": "2023-10-24T12:22:35.819481Z",
     "iopub.status.idle": "2023-10-24T12:22:35.823531Z",
     "shell.execute_reply": "2023-10-24T12:22:35.822749Z"
    }
   },
   "outputs": [],
   "source": [
    "bday_counts = {}\n",
    "for bday in birthday_data:\n",
    "    if bday in bday_counts:\n",
    "        bday_counts[bday] += 1\n",
    "    else:\n",
    "        bday_counts[bday] = 1\n",
    "print(bday_counts)"
   ]
  },
  {
   "cell_type": "markdown",
   "id": "3c55d714",
   "metadata": {
    "slideshow": {
     "slide_type": "subslide"
    }
   },
   "source": [
    "Now, let's sort them by number of birthdays."
   ]
  },
  {
   "cell_type": "code",
   "execution_count": null,
   "id": "8982f634",
   "metadata": {
    "execution": {
     "iopub.execute_input": "2023-10-24T12:22:35.827314Z",
     "iopub.status.busy": "2023-10-24T12:22:35.827024Z",
     "iopub.status.idle": "2023-10-24T12:22:35.831081Z",
     "shell.execute_reply": "2023-10-24T12:22:35.830501Z"
    },
    "slideshow": {
     "slide_type": "fragment"
    }
   },
   "outputs": [],
   "source": [
    "sortable = []\n",
    "for month in bday_counts:\n",
    "    count = bday_counts[month]\n",
    "    sortable.append((count, month))\n",
    "sortable.sort(reverse=True)\n",
    "\n",
    "for pair in sortable:\n",
    "    print(f\"Count for {pair[1]}: {pair[0]}\")"
   ]
  },
  {
   "cell_type": "markdown",
   "id": "870fe2e4",
   "metadata": {
    "slideshow": {
     "slide_type": "subslide"
    }
   },
   "source": [
    "Now, only print the months that have at least 10 birthdays."
   ]
  },
  {
   "cell_type": "code",
   "execution_count": null,
   "id": "4cd8c3e3",
   "metadata": {
    "execution": {
     "iopub.execute_input": "2023-10-24T12:22:35.834157Z",
     "iopub.status.busy": "2023-10-24T12:22:35.833905Z",
     "iopub.status.idle": "2023-10-24T12:22:35.837865Z",
     "shell.execute_reply": "2023-10-24T12:22:35.837264Z"
    },
    "slideshow": {
     "slide_type": "fragment"
    }
   },
   "outputs": [],
   "source": [
    "sortable = []\n",
    "for month in bday_counts:\n",
    "    count = bday_counts[month]\n",
    "    sortable.append((count, month))\n",
    "sortable.sort(reverse=True)\n",
    "\n",
    "for pair in sortable:\n",
    "    if pair[0] >= 10:\n",
    "        print(f\"Count for {pair[1]}: {pair[0]}\")"
   ]
  },
  {
   "cell_type": "markdown",
   "id": "ec589445",
   "metadata": {
    "slideshow": {
     "slide_type": "subslide"
    }
   },
   "source": [
    "Now, we'll do the same exercises, but we'll use `get()`, comprehensions, and value unpacking.\n",
    "\n",
    "Compute the counts by iterating over the list, and accumulating counts in a dictionary:"
   ]
  },
  {
   "cell_type": "code",
   "execution_count": null,
   "id": "b6a5c135",
   "metadata": {
    "execution": {
     "iopub.execute_input": "2023-10-24T12:22:35.840909Z",
     "iopub.status.busy": "2023-10-24T12:22:35.840659Z",
     "iopub.status.idle": "2023-10-24T12:22:35.844342Z",
     "shell.execute_reply": "2023-10-24T12:22:35.843688Z"
    },
    "slideshow": {
     "slide_type": "fragment"
    }
   },
   "outputs": [],
   "source": [
    "bday_counts = {}\n",
    "for bday in birthday_data:\n",
    "    bday_counts[bday] = bday_counts.get(bday, 0) + 1\n",
    "print(bday_counts)"
   ]
  },
  {
   "cell_type": "markdown",
   "id": "2b7679ad",
   "metadata": {
    "slideshow": {
     "slide_type": "subslide"
    }
   },
   "source": [
    "Now, let's sort them by number of birthdays."
   ]
  },
  {
   "cell_type": "code",
   "execution_count": null,
   "id": "29eb2c6c",
   "metadata": {
    "execution": {
     "iopub.execute_input": "2023-10-24T12:22:35.847463Z",
     "iopub.status.busy": "2023-10-24T12:22:35.847206Z",
     "iopub.status.idle": "2023-10-24T12:22:35.851132Z",
     "shell.execute_reply": "2023-10-24T12:22:35.850515Z"
    },
    "slideshow": {
     "slide_type": "fragment"
    }
   },
   "outputs": [],
   "source": [
    "# Create a list of tuples we can sort - put the count first \n",
    "sortable = [(count, month) for (month, count) in bday_counts.items()]\n",
    "sortable.sort(reverse=True)\n",
    "\n",
    "for pair in sortable:\n",
    "    print(f\"Count for {pair[1]}: {pair[0]}\")"
   ]
  },
  {
   "cell_type": "markdown",
   "id": "5be77bec",
   "metadata": {
    "slideshow": {
     "slide_type": "subslide"
    }
   },
   "source": [
    "Now, only print the months that have at least 10 birthdays."
   ]
  },
  {
   "cell_type": "code",
   "execution_count": null,
   "id": "d6f3e0d0",
   "metadata": {
    "execution": {
     "iopub.execute_input": "2023-10-24T12:22:35.854406Z",
     "iopub.status.busy": "2023-10-24T12:22:35.854144Z",
     "iopub.status.idle": "2023-10-24T12:22:35.858050Z",
     "shell.execute_reply": "2023-10-24T12:22:35.857492Z"
    },
    "slideshow": {
     "slide_type": "fragment"
    }
   },
   "outputs": [],
   "source": [
    "sortable = [(count, month) for (month, count) in bday_counts.items() if count >= 10]\n",
    "sortable.sort(reverse=True)\n",
    "\n",
    "for pair in sortable:\n",
    "    print(f\"Count for {pair[1]}: {pair[0]}\")"
   ]
  },
  {
   "cell_type": "markdown",
   "id": "add953fb",
   "metadata": {
    "slideshow": {
     "slide_type": "slide"
    }
   },
   "source": [
    "# Sets\n",
    "\n",
    "Sets are unordered collections of unique values. \n",
    "\n",
    "They are most commonly used when you want to remove duplicates from a collection of items, easily check if an item is in a collection, or compare/combine multiple collections of unique items."
   ]
  },
  {
   "cell_type": "markdown",
   "id": "823df567",
   "metadata": {
    "slideshow": {
     "slide_type": "subslide"
    }
   },
   "source": [
    "## Creating sets \n",
    "\n",
    "Sets can be created from any iterable."
   ]
  },
  {
   "cell_type": "code",
   "execution_count": null,
   "id": "54986c12",
   "metadata": {
    "execution": {
     "iopub.execute_input": "2023-10-24T12:22:35.861080Z",
     "iopub.status.busy": "2023-10-24T12:22:35.860838Z",
     "iopub.status.idle": "2023-10-24T12:22:35.864481Z",
     "shell.execute_reply": "2023-10-24T12:22:35.863811Z"
    }
   },
   "outputs": [],
   "source": [
    "names = set([\"Batman\", \"Spiderman\", \"Batman\", \"Spongebob\"])\n",
    "print(names)"
   ]
  },
  {
   "cell_type": "markdown",
   "id": "e51b981d",
   "metadata": {
    "slideshow": {
     "slide_type": "subslide"
    }
   },
   "source": [
    "## Accessing set members\n",
    "\n",
    "Because sets are unordered, there are no index-based accessors. You can use `in` to check for membership."
   ]
  },
  {
   "cell_type": "code",
   "execution_count": null,
   "id": "313bed9b",
   "metadata": {
    "execution": {
     "iopub.execute_input": "2023-10-24T12:22:35.867409Z",
     "iopub.status.busy": "2023-10-24T12:22:35.867166Z",
     "iopub.status.idle": "2023-10-24T12:22:35.870257Z",
     "shell.execute_reply": "2023-10-24T12:22:35.869660Z"
    }
   },
   "outputs": [],
   "source": [
    "names = set([\"Batman\", \"Spiderman\", \"Batman\", \"Spongebob\"])"
   ]
  },
  {
   "cell_type": "code",
   "execution_count": null,
   "id": "abeb0fc4",
   "metadata": {
    "execution": {
     "iopub.execute_input": "2023-10-24T12:22:35.873025Z",
     "iopub.status.busy": "2023-10-24T12:22:35.872789Z",
     "iopub.status.idle": "2023-10-24T12:22:35.876685Z",
     "shell.execute_reply": "2023-10-24T12:22:35.876088Z"
    }
   },
   "outputs": [],
   "source": [
    "\"Batman\" in names"
   ]
  },
  {
   "cell_type": "code",
   "execution_count": null,
   "id": "73d210fb",
   "metadata": {
    "execution": {
     "iopub.execute_input": "2023-10-24T12:22:35.879780Z",
     "iopub.status.busy": "2023-10-24T12:22:35.879466Z",
     "iopub.status.idle": "2023-10-24T12:22:35.883682Z",
     "shell.execute_reply": "2023-10-24T12:22:35.883074Z"
    }
   },
   "outputs": [],
   "source": [
    "\"Peppa\" in names"
   ]
  },
  {
   "cell_type": "markdown",
   "id": "0fafb673",
   "metadata": {
    "slideshow": {
     "slide_type": "subslide"
    }
   },
   "source": [
    "## Iterating over sets\n",
    "\n",
    "Sets are iterable, which means you can loop through every member in a set with a `for` loop. \n",
    "\n",
    "They aren't sequences though - they don't have a well-defined order."
   ]
  },
  {
   "cell_type": "code",
   "execution_count": null,
   "id": "91a44055",
   "metadata": {
    "execution": {
     "iopub.execute_input": "2023-10-24T12:22:35.886803Z",
     "iopub.status.busy": "2023-10-24T12:22:35.886538Z",
     "iopub.status.idle": "2023-10-24T12:22:35.890559Z",
     "shell.execute_reply": "2023-10-24T12:22:35.889911Z"
    }
   },
   "outputs": [],
   "source": [
    "names = set([\"Batman\", \"Spiderman\", \"Batman\", \"Spongebob\"])\n",
    "for name in names:\n",
    "    print(name)"
   ]
  },
  {
   "cell_type": "markdown",
   "id": "aad239e3",
   "metadata": {
    "slideshow": {
     "slide_type": "subslide"
    }
   },
   "source": [
    "## Modifying sets\n",
    "\n",
    "`add()`, `remove()`, `clear()`"
   ]
  },
  {
   "cell_type": "code",
   "execution_count": null,
   "id": "da7bfa62",
   "metadata": {
    "execution": {
     "iopub.execute_input": "2023-10-24T12:22:35.893839Z",
     "iopub.status.busy": "2023-10-24T12:22:35.893601Z",
     "iopub.status.idle": "2023-10-24T12:22:35.897602Z",
     "shell.execute_reply": "2023-10-24T12:22:35.896962Z"
    }
   },
   "outputs": [],
   "source": [
    "names = set([\"Batman\", \"Spiderman\", \"Batman\", \"Spongebob\"])\n",
    "names.add(\"Peppa\")\n",
    "print(names)"
   ]
  },
  {
   "cell_type": "code",
   "execution_count": null,
   "id": "8f0cb2a7",
   "metadata": {
    "execution": {
     "iopub.execute_input": "2023-10-24T12:22:35.900662Z",
     "iopub.status.busy": "2023-10-24T12:22:35.900424Z",
     "iopub.status.idle": "2023-10-24T12:22:35.903997Z",
     "shell.execute_reply": "2023-10-24T12:22:35.903376Z"
    }
   },
   "outputs": [],
   "source": [
    "names = set([\"Batman\", \"Spiderman\", \"Batman\", \"Spongebob\"])\n",
    "names.remove(\"Batman\")\n",
    "print(names)"
   ]
  },
  {
   "cell_type": "code",
   "execution_count": null,
   "id": "d807b3bf",
   "metadata": {
    "execution": {
     "iopub.execute_input": "2023-10-24T12:22:35.907051Z",
     "iopub.status.busy": "2023-10-24T12:22:35.906781Z",
     "iopub.status.idle": "2023-10-24T12:22:35.910209Z",
     "shell.execute_reply": "2023-10-24T12:22:35.909685Z"
    }
   },
   "outputs": [],
   "source": [
    "names = set([\"Batman\", \"Spiderman\", \"Batman\", \"Spongebob\"])\n",
    "names.clear()\n",
    "print(names)"
   ]
  },
  {
   "cell_type": "markdown",
   "id": "58f4e563",
   "metadata": {},
   "source": [
    "## Modifying sets\n",
    "\n",
    "`update()` will add multiple items at once."
   ]
  },
  {
   "cell_type": "code",
   "execution_count": null,
   "id": "be5e930e",
   "metadata": {
    "execution": {
     "iopub.execute_input": "2023-10-24T12:22:35.913132Z",
     "iopub.status.busy": "2023-10-24T12:22:35.912891Z",
     "iopub.status.idle": "2023-10-24T12:22:35.916295Z",
     "shell.execute_reply": "2023-10-24T12:22:35.915731Z"
    }
   },
   "outputs": [],
   "source": [
    "names = set([\"Batman\", \"Spiderman\", \"Batman\", \"Spongebob\"])\n",
    "names.update([\"Wolverine\", \"Batman\", \"Wolverine\", \"Magneto\"])\n",
    "print(names)"
   ]
  },
  {
   "cell_type": "markdown",
   "id": "c6196bc1",
   "metadata": {
    "slideshow": {
     "slide_type": "slide"
    }
   },
   "source": [
    "# [Slido](https://wall.sli.do/event/q3yHmCaUfustjPYd3hmXAY?section=cd06177b-4f39-4055-850c-4bbccb918a33)"
   ]
  },
  {
   "cell_type": "markdown",
   "id": "5e54dda1",
   "metadata": {
    "slideshow": {
     "slide_type": "subslide"
    }
   },
   "source": [
    "## Set operations\n",
    "\n",
    "Sets provide equality, intersection, union, and difference operators."
   ]
  },
  {
   "cell_type": "markdown",
   "id": "0f16dfec",
   "metadata": {
    "slideshow": {
     "slide_type": "subslide"
    }
   },
   "source": [
    "## Equality\n",
    "\n",
    "Sets can be compared with `==`"
   ]
  },
  {
   "cell_type": "code",
   "execution_count": null,
   "id": "0da2c191",
   "metadata": {
    "execution": {
     "iopub.execute_input": "2023-10-24T12:22:35.919485Z",
     "iopub.status.busy": "2023-10-24T12:22:35.919202Z",
     "iopub.status.idle": "2023-10-24T12:22:35.923531Z",
     "shell.execute_reply": "2023-10-24T12:22:35.923018Z"
    }
   },
   "outputs": [],
   "source": [
    "fluffy = set([\"cat\", \"dog\", \"dandelion\", \"pillow\"])\n",
    "loud = set([\"dog\", \"cat\", \"baby\", \"horn\", \"alarm\"])\n",
    "fluffy == loud"
   ]
  },
  {
   "cell_type": "markdown",
   "id": "7c02d975",
   "metadata": {
    "slideshow": {
     "slide_type": "subslide"
    }
   },
   "source": [
    "## Intersection \n",
    "\n",
    "The \"intersection\" of 2 (or more) sets is the set of elements which appear in each of the sets. The `&` operator performs an intersection on 2 sets."
   ]
  },
  {
   "cell_type": "code",
   "execution_count": null,
   "id": "d489db25",
   "metadata": {
    "execution": {
     "iopub.execute_input": "2023-10-24T12:22:35.926384Z",
     "iopub.status.busy": "2023-10-24T12:22:35.926138Z",
     "iopub.status.idle": "2023-10-24T12:22:35.930497Z",
     "shell.execute_reply": "2023-10-24T12:22:35.929962Z"
    },
    "slideshow": {
     "slide_type": "-"
    }
   },
   "outputs": [],
   "source": [
    "fluffy = set([\"cat\", \"dog\", \"dandelion\", \"pillow\"])\n",
    "loud = set([\"dog\", \"cat\", \"baby\", \"horn\", \"alarm\"])\n",
    "fluffy & loud"
   ]
  },
  {
   "cell_type": "markdown",
   "id": "8e00199b",
   "metadata": {
    "slideshow": {
     "slide_type": "subslide"
    }
   },
   "source": [
    "## Union\n",
    "\n",
    "The \"union\" of 2 (or more) sets is the set of elements that appear in any of the sets. The `|` operator performs a union on 2 sets."
   ]
  },
  {
   "cell_type": "code",
   "execution_count": null,
   "id": "cdaf5fc2",
   "metadata": {
    "execution": {
     "iopub.execute_input": "2023-10-24T12:22:35.933456Z",
     "iopub.status.busy": "2023-10-24T12:22:35.933218Z",
     "iopub.status.idle": "2023-10-24T12:22:35.937704Z",
     "shell.execute_reply": "2023-10-24T12:22:35.937143Z"
    }
   },
   "outputs": [],
   "source": [
    "fluffy = set([\"cat\", \"dog\", \"dandelion\", \"pillow\"])\n",
    "loud = set([\"dog\", \"cat\", \"baby\", \"horn\", \"alarm\"])\n",
    "fluffy | loud"
   ]
  },
  {
   "cell_type": "markdown",
   "id": "0f397b58",
   "metadata": {
    "slideshow": {
     "slide_type": "subslide"
    }
   },
   "source": [
    "## Subtraction / difference\n",
    "\n",
    "The \"difference\" of 2 sets is the set of elements that appears in set A, but not in set B. The `-` operator performs a difference on 2 sets."
   ]
  },
  {
   "cell_type": "code",
   "execution_count": null,
   "id": "fa27ec38",
   "metadata": {
    "execution": {
     "iopub.execute_input": "2023-10-24T12:22:35.940567Z",
     "iopub.status.busy": "2023-10-24T12:22:35.940330Z",
     "iopub.status.idle": "2023-10-24T12:22:35.944715Z",
     "shell.execute_reply": "2023-10-24T12:22:35.944159Z"
    },
    "slideshow": {
     "slide_type": "-"
    }
   },
   "outputs": [],
   "source": [
    "fluffy = set([\"cat\", \"dog\", \"dandelion\", \"pillow\"])\n",
    "loud = set([\"dog\", \"cat\", \"baby\", \"horn\", \"alarm\"])\n",
    "fluffy - loud"
   ]
  },
  {
   "cell_type": "markdown",
   "id": "7710f7b9",
   "metadata": {},
   "source": [
    "Order matters for subtraction."
   ]
  },
  {
   "cell_type": "code",
   "execution_count": null,
   "id": "3e04f91f",
   "metadata": {
    "execution": {
     "iopub.execute_input": "2023-10-24T12:22:35.947522Z",
     "iopub.status.busy": "2023-10-24T12:22:35.947285Z",
     "iopub.status.idle": "2023-10-24T12:22:35.951227Z",
     "shell.execute_reply": "2023-10-24T12:22:35.950637Z"
    }
   },
   "outputs": [],
   "source": [
    "loud - fluffy"
   ]
  },
  {
   "cell_type": "markdown",
   "id": "5b7dc6d3",
   "metadata": {
    "slideshow": {
     "slide_type": "subslide"
    }
   },
   "source": [
    "## Symmetric difference (\"xor\")\n",
    "\n",
    "The \"symmetric difference\" of 2 sets is the set of items that appear in either set, but not both. \n",
    "\n",
    "This is also sometimes referred to as `xor` (\"exclusive or\"), from boolean/digital logic. \n",
    "\n",
    "The `^` operator performs a symmetric difference."
   ]
  },
  {
   "cell_type": "code",
   "execution_count": null,
   "id": "e812620d",
   "metadata": {
    "execution": {
     "iopub.execute_input": "2023-10-24T12:22:35.954204Z",
     "iopub.status.busy": "2023-10-24T12:22:35.953955Z",
     "iopub.status.idle": "2023-10-24T12:22:35.959017Z",
     "shell.execute_reply": "2023-10-24T12:22:35.957841Z"
    }
   },
   "outputs": [],
   "source": [
    "fluffy = set([\"cat\", \"dog\", \"dandelion\", \"pillow\"])\n",
    "loud = set([\"dog\", \"cat\", \"baby\", \"horn\", \"alarm\"])\n",
    "fluffy ^ loud"
   ]
  },
  {
   "cell_type": "markdown",
   "id": "40187608",
   "metadata": {
    "slideshow": {
     "slide_type": "subslide"
    }
   },
   "source": [
    "## Superset / subset\n",
    "\n",
    "Superset: a set contains all elements of another set  \n",
    "Subset: a set is made up only of elements from another set"
   ]
  },
  {
   "cell_type": "code",
   "execution_count": null,
   "id": "a2e376ab",
   "metadata": {
    "execution": {
     "iopub.execute_input": "2023-10-24T12:22:35.962237Z",
     "iopub.status.busy": "2023-10-24T12:22:35.961968Z",
     "iopub.status.idle": "2023-10-24T12:22:35.966262Z",
     "shell.execute_reply": "2023-10-24T12:22:35.965737Z"
    }
   },
   "outputs": [],
   "source": [
    "letters = set(\"abcdefghijklmnopqrstuvwxyz\")\n",
    "vowels = set(\"aeiou\")\n",
    "letters.issuperset(vowels)"
   ]
  },
  {
   "cell_type": "code",
   "execution_count": null,
   "id": "3c4c3a75",
   "metadata": {
    "execution": {
     "iopub.execute_input": "2023-10-24T12:22:35.969572Z",
     "iopub.status.busy": "2023-10-24T12:22:35.969292Z",
     "iopub.status.idle": "2023-10-24T12:22:35.973333Z",
     "shell.execute_reply": "2023-10-24T12:22:35.972784Z"
    }
   },
   "outputs": [],
   "source": [
    "vowels.issuperset(letters)"
   ]
  },
  {
   "cell_type": "code",
   "execution_count": null,
   "id": "168f2584",
   "metadata": {
    "execution": {
     "iopub.execute_input": "2023-10-24T12:22:35.976396Z",
     "iopub.status.busy": "2023-10-24T12:22:35.976080Z",
     "iopub.status.idle": "2023-10-24T12:22:35.980229Z",
     "shell.execute_reply": "2023-10-24T12:22:35.979704Z"
    }
   },
   "outputs": [],
   "source": [
    "vowels.issubset(letters)"
   ]
  },
  {
   "cell_type": "code",
   "execution_count": null,
   "id": "6458b474",
   "metadata": {
    "execution": {
     "iopub.execute_input": "2023-10-24T12:22:35.982993Z",
     "iopub.status.busy": "2023-10-24T12:22:35.982760Z",
     "iopub.status.idle": "2023-10-24T12:22:35.986984Z",
     "shell.execute_reply": "2023-10-24T12:22:35.986466Z"
    }
   },
   "outputs": [],
   "source": [
    "letters.issubset(vowels)"
   ]
  },
  {
   "cell_type": "markdown",
   "id": "e1b338c7",
   "metadata": {
    "slideshow": {
     "slide_type": "subslide"
    }
   },
   "source": [
    "## Example\n",
    "\n",
    "Write a program that prompts the user to enter the postal abbreviations for all 50 U.S. states. The player loses if they repeat a guess, or guesses something that isn't valid."
   ]
  },
  {
   "cell_type": "code",
   "execution_count": null,
   "id": "47a85d7e",
   "metadata": {
    "execution": {
     "iopub.execute_input": "2023-10-24T12:22:35.989850Z",
     "iopub.status.busy": "2023-10-24T12:22:35.989608Z",
     "iopub.status.idle": "2023-10-24T12:22:35.993546Z",
     "shell.execute_reply": "2023-10-24T12:22:35.993005Z"
    }
   },
   "outputs": [],
   "source": [
    "states = set([ 'AK', 'AL', 'AR', 'AZ', 'CA', 'CO', 'CT', 'DE', 'FL', 'GA',\n",
    "           'HI', 'IA', 'ID', 'IL', 'IN', 'KS', 'KY', 'LA', 'MA', 'MD', 'ME',\n",
    "           'MI', 'MN', 'MO', 'MS', 'MT', 'NC', 'ND', 'NE', 'NH', 'NJ', 'NM',\n",
    "           'NV', 'NY', 'OH', 'OK', 'OR', 'PA', 'RI', 'SC', 'SD', 'TN', 'TX',\n",
    "           'UT', 'VA', 'VT', 'WA', 'WI', 'WV', 'WY'])"
   ]
  },
  {
   "cell_type": "code",
   "execution_count": null,
   "id": "8e5e3add",
   "metadata": {
    "execution": {
     "iopub.execute_input": "2023-10-24T12:22:35.996480Z",
     "iopub.status.busy": "2023-10-24T12:22:35.996233Z",
     "iopub.status.idle": "2023-10-24T12:22:36.028089Z",
     "shell.execute_reply": "2023-10-24T12:22:36.027354Z"
    },
    "slideshow": {
     "slide_type": "subslide"
    },
    "tags": [
     "remove-output"
    ]
   },
   "outputs": [],
   "source": [
    "states = set([ 'AK', 'AL', 'AR', 'AZ', 'CA', 'CO', 'CT', 'DE', 'FL', 'GA',\n",
    "           'HI', 'IA', 'ID', 'IL', 'IN', 'KS', 'KY', 'LA', 'MA', 'MD', 'ME',\n",
    "           'MI', 'MN', 'MO', 'MS', 'MT', 'NC', 'ND', 'NE', 'NH', 'NJ', 'NM',\n",
    "           'NV', 'NY', 'OH', 'OK', 'OR', 'PA', 'RI', 'SC', 'SD', 'TN', 'TX',\n",
    "           'UT', 'VA', 'VT', 'WA', 'WI', 'WV', 'WY'])\n",
    "guesses = set()\n",
    "\n",
    "print(\"Guess all 50 US state postal abbreviations, without repeating.\")\n",
    "while True:\n",
    "    print(\"Guess? \")\n",
    "    answer = input()\n",
    "    if answer in guesses:\n",
    "        print(f\"You already guessed {answer}!\")\n",
    "        break\n",
    "    if answer not in states:\n",
    "        print(f\"{answer} is not a valid postal code!\")\n",
    "        break\n",
    "    guesses.add(answer)\n",
    "    if guesses == states:\n",
    "        print(\"You win!\")\n",
    "        break\n",
    "    print(f\"You've guessed {len(guesses)}/{len(states)} so far.\")"
   ]
  }
 ],
 "metadata": {
  "celltoolbar": "Slideshow",
  "kernelspec": {
   "display_name": "Python 3 (ipykernel)",
   "language": "python",
   "name": "python3"
  },
  "language_info": {
   "codemirror_mode": {
    "name": "ipython",
    "version": 3
   },
   "file_extension": ".py",
   "mimetype": "text/x-python",
   "name": "python",
   "nbconvert_exporter": "python",
   "pygments_lexer": "ipython3",
   "version": "3.10.9"
  }
 },
 "nbformat": 4,
 "nbformat_minor": 5
}
