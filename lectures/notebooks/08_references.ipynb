{
 "cells": [
  {
   "cell_type": "markdown",
   "id": "50b20b2a",
   "metadata": {
    "slideshow": {
     "slide_type": "slide"
    }
   },
   "source": [
    "# References\n",
    "\n",
    "<style>\n",
    "section.present > section.present { \n",
    "    max-height: 90%; \n",
    "    overflow-y: scroll;\n",
    "}\n",
    "</style>\n",
    "\n",
    "<small><a href=\"https://colab.research.google.com/github/brandeis-jdelfino/cosi-10a/blob/main/lectures/notebooks/8_references.ipynb\">Link to interactive slides on Google Colab</a></small>"
   ]
  },
  {
   "cell_type": "markdown",
   "id": "35514fda",
   "metadata": {
    "slideshow": {
     "slide_type": "slide"
    }
   },
   "source": [
    "# Announcements\n",
    "\n",
    "* PS2 grading has started. \n",
    "   * You will see feedback on individual problems in repl.it as we grade. \n",
    "   * Final grades will be entered into LATTE when grading is complete\n",
    "* PS3 has been posted.\n",
    "   * 4 problems, this time you must do all 4.\n",
    "   * Don't expect an extension if you wait until next week to start.\n",
    "* No quiz tomorrow\n",
    "   * Recitation is still your best place to get practice and help, please attend. It's a great time to start on the problem set and get help (see previous point).\n",
    "   * If you don't have a 4 on all quizzes so far, please retake the questions you missed.\n",
    "* Thursday is Brandeis Monday, no lecture\n",
    "   * Monday office hours schedule will apply"
   ]
  },
  {
   "cell_type": "markdown",
   "id": "6ae7a02a",
   "metadata": {
    "slideshow": {
     "slide_type": "slide"
    }
   },
   "source": [
    "# Review: Scope and Arguments\n",
    "\n",
    "What does this print?"
   ]
  },
  {
   "cell_type": "code",
   "execution_count": null,
   "id": "bd8c5c46",
   "metadata": {
    "execution": {
     "iopub.execute_input": "2023-10-14T18:01:43.335583Z",
     "iopub.status.busy": "2023-10-14T18:01:43.335260Z",
     "iopub.status.idle": "2023-10-14T18:01:43.353607Z",
     "shell.execute_reply": "2023-10-14T18:01:43.351939Z"
    }
   },
   "outputs": [],
   "source": [
    "def add_one(num):\n",
    "    num = num + 1\n",
    "    print(f\"inside add_one: {num=}\")\n",
    "    \n",
    "x = 5\n",
    "add_one(x)\n",
    "add_one(x)\n",
    "print(x)"
   ]
  },
  {
   "cell_type": "markdown",
   "id": "19acd785",
   "metadata": {
    "slideshow": {
     "slide_type": "subslide"
    }
   },
   "source": [
    "# Review: Scope and Arguments\n",
    "\n",
    "What does this print?"
   ]
  },
  {
   "cell_type": "code",
   "execution_count": null,
   "id": "9e6982a1",
   "metadata": {
    "execution": {
     "iopub.execute_input": "2023-10-14T18:01:43.358979Z",
     "iopub.status.busy": "2023-10-14T18:01:43.358494Z",
     "iopub.status.idle": "2023-10-14T18:01:43.363748Z",
     "shell.execute_reply": "2023-10-14T18:01:43.363046Z"
    }
   },
   "outputs": [],
   "source": [
    "def add_one(x):\n",
    "    x = x + 1\n",
    "    print(f\"inside add_one: {x=}\")\n",
    "    \n",
    "x = 5\n",
    "add_one(x)\n",
    "add_one(x)\n",
    "print(x)"
   ]
  },
  {
   "cell_type": "markdown",
   "id": "b6a146bb",
   "metadata": {
    "slideshow": {
     "slide_type": "fragment"
    }
   },
   "source": [
    "The `x` in the global scope is not the same as the `x` in `add_one`."
   ]
  },
  {
   "cell_type": "markdown",
   "id": "9ed164e2",
   "metadata": {
    "slideshow": {
     "slide_type": "slide"
    }
   },
   "source": [
    "# Review: Mutable vs. Immutable\n",
    "\n",
    "All types in Python can be classified as **mutable** or **immutable**.\n",
    "\n",
    "* The value of **mutable** types can change.\n",
    "* The value of **immutable** types can never change.\n",
    "\n",
    "This may seems surprising, but most of the data types we've looked at so far are **immutable**.\n",
    "\n",
    "* immutable: `int`, `float`, `bool`, `str`, `tuple`\n",
    "* mutable: `list`"
   ]
  },
  {
   "cell_type": "markdown",
   "id": "f75b31aa",
   "metadata": {
    "slideshow": {
     "slide_type": "slide"
    }
   },
   "source": [
    "# References\n",
    "\n",
    "Confession time: I lied to you in lecture 2 when I explained that a variable was like a \"box\" in which you can store a value.\n",
    "\n",
    "In Python, a variable is actually a **reference to** a value."
   ]
  },
  {
   "cell_type": "markdown",
   "id": "030d937c",
   "metadata": {
    "slideshow": {
     "slide_type": "subslide"
    }
   },
   "source": [
    "## Our mental model so far"
   ]
  },
  {
   "cell_type": "markdown",
   "id": "0d1612d0",
   "metadata": {
    "slideshow": {
     "slide_type": "notes"
    }
   },
   "source": [
    "Drawing on the board: a box labeled `a`, with the value `\"Hello\"` in it"
   ]
  },
  {
   "cell_type": "code",
   "execution_count": null,
   "id": "ff3624f4",
   "metadata": {
    "execution": {
     "iopub.execute_input": "2023-10-14T18:01:43.367665Z",
     "iopub.status.busy": "2023-10-14T18:01:43.367267Z",
     "iopub.status.idle": "2023-10-14T18:01:43.371480Z",
     "shell.execute_reply": "2023-10-14T18:01:43.370730Z"
    }
   },
   "outputs": [],
   "source": [
    "a = \"Hello\""
   ]
  },
  {
   "cell_type": "markdown",
   "id": "6a42c0f2",
   "metadata": {
    "slideshow": {
     "slide_type": "subslide"
    }
   },
   "source": [
    "## The way things actually work"
   ]
  },
  {
   "cell_type": "markdown",
   "id": "fd716939",
   "metadata": {
    "slideshow": {
     "slide_type": "notes"
    }
   },
   "source": [
    "Drawing on the board: 6 boxes, numbered 0 through 5. The value \"Hello\" in box 0. A separate box labeled `a`, with an arrow drawn to box 0."
   ]
  },
  {
   "cell_type": "code",
   "execution_count": null,
   "id": "7db99102",
   "metadata": {
    "execution": {
     "iopub.execute_input": "2023-10-14T18:01:43.374926Z",
     "iopub.status.busy": "2023-10-14T18:01:43.374644Z",
     "iopub.status.idle": "2023-10-14T18:01:43.378664Z",
     "shell.execute_reply": "2023-10-14T18:01:43.377724Z"
    }
   },
   "outputs": [],
   "source": [
    "a = \"Hello\""
   ]
  },
  {
   "cell_type": "markdown",
   "id": "16d8452b",
   "metadata": {
    "slideshow": {
     "slide_type": "subslide"
    }
   },
   "source": [
    "Think of the computer's memory like a big warehouse, with millions of numbered boxes in it.\n",
    "\n",
    "When you create a variable with a value:\n",
    "1. The computer picks an empty numbered box, and puts the value into it.\n",
    "2. It writes the number of the box down on a piece of paper.\n",
    "3. It hands that piece of paper to your variable\n",
    "4. The variable uses that number to find its value when needed.\n",
    "\n",
    "The piece of paper is a **reference** to a value. The box contains the actual value."
   ]
  },
  {
   "cell_type": "markdown",
   "id": "da193095",
   "metadata": {
    "slideshow": {
     "slide_type": "slide"
    }
   },
   "source": [
    "# 2 Volunteers needed\n",
    "\n",
    "You'll need to share your favorite colors, and hold an index card."
   ]
  },
  {
   "cell_type": "markdown",
   "id": "ebef312e",
   "metadata": {
    "slideshow": {
     "slide_type": "notes"
    }
   },
   "source": [
    "1. Get 2 volunteers to act as variables\n",
    "2. Ask first volunteer for their favorite color, add it as a string to the memory boxes, hand them an index card with the number of the box used.\n",
    "3. Repeat for volunteer 2, require a different color.\n",
    "4. When we encounter a print, ask each variable to read their value aloud."
   ]
  },
  {
   "cell_type": "code",
   "execution_count": null,
   "id": "578b489a",
   "metadata": {
    "execution": {
     "iopub.execute_input": "2023-10-14T18:01:43.382336Z",
     "iopub.status.busy": "2023-10-14T18:01:43.382034Z",
     "iopub.status.idle": "2023-10-14T18:01:43.387374Z",
     "shell.execute_reply": "2023-10-14T18:01:43.386741Z"
    },
    "slideshow": {
     "slide_type": "subslide"
    }
   },
   "outputs": [],
   "source": [
    "name1 = \"color1\"\n",
    "name2 = \"color2\"\n",
    "print(name1, name2)"
   ]
  },
  {
   "cell_type": "markdown",
   "id": "16e12abb",
   "metadata": {
    "slideshow": {
     "slide_type": "notes"
    }
   },
   "source": [
    "1. Get a new color from the first person. Add it as a value to a new memory box, swap their index card."
   ]
  },
  {
   "cell_type": "code",
   "execution_count": null,
   "id": "3f60a511",
   "metadata": {
    "execution": {
     "iopub.execute_input": "2023-10-14T18:01:43.390519Z",
     "iopub.status.busy": "2023-10-14T18:01:43.390235Z",
     "iopub.status.idle": "2023-10-14T18:01:43.395330Z",
     "shell.execute_reply": "2023-10-14T18:01:43.394411Z"
    },
    "slideshow": {
     "slide_type": "fragment"
    }
   },
   "outputs": [],
   "source": [
    "name1 = \"color3\"\n",
    "print(name1, name2)"
   ]
  },
  {
   "cell_type": "markdown",
   "id": "412056b6",
   "metadata": {
    "slideshow": {
     "slide_type": "notes"
    }
   },
   "source": [
    "1. Force second person to like first person's color. Give them an index card with the same number as first person."
   ]
  },
  {
   "cell_type": "code",
   "execution_count": null,
   "id": "2e58ad7a",
   "metadata": {
    "execution": {
     "iopub.execute_input": "2023-10-14T18:01:43.399080Z",
     "iopub.status.busy": "2023-10-14T18:01:43.398365Z",
     "iopub.status.idle": "2023-10-14T18:01:43.405148Z",
     "shell.execute_reply": "2023-10-14T18:01:43.404478Z"
    },
    "slideshow": {
     "slide_type": "fragment"
    }
   },
   "outputs": [],
   "source": [
    "name2 = name1\n",
    "print(name1, name2)"
   ]
  },
  {
   "cell_type": "markdown",
   "id": "a69e7b22",
   "metadata": {
    "slideshow": {
     "slide_type": "notes"
    }
   },
   "source": [
    "1. Second person changes their color, add the value to the boxes and hand them a new index card."
   ]
  },
  {
   "cell_type": "code",
   "execution_count": null,
   "id": "18d86676",
   "metadata": {
    "execution": {
     "iopub.execute_input": "2023-10-14T18:01:43.408368Z",
     "iopub.status.busy": "2023-10-14T18:01:43.407981Z",
     "iopub.status.idle": "2023-10-14T18:01:43.413786Z",
     "shell.execute_reply": "2023-10-14T18:01:43.413009Z"
    },
    "slideshow": {
     "slide_type": "fragment"
    }
   },
   "outputs": [],
   "source": [
    "name2 = \"color4\"\n",
    "print(name1, name2)"
   ]
  },
  {
   "cell_type": "markdown",
   "id": "1f1c24f8",
   "metadata": {
    "slideshow": {
     "slide_type": "notes"
    }
   },
   "source": [
    "No matter what, person 1 can't do anything to change person 2's value."
   ]
  },
  {
   "cell_type": "markdown",
   "id": "3deb40fb",
   "metadata": {
    "slideshow": {
     "slide_type": "subslide"
    }
   },
   "source": [
    "# Python Tutor\n",
    "\n",
    "We're going to use a new, very useful tool to help us visualize variables, scope, and references (today's topic): [Python Tutor](http://pythontutor.com)\n",
    "\n",
    "Let's look at those 2 `add_one` examples in Python Tutor:\n",
    "\n",
    "[First example](https://pythontutor.com/render.html#code=def%20add_one%28num%29%3A%0A%20%20%20%20num%20%3D%20num%20%2B%201%0A%20%20%20%20%0Ax%20%3D%205%0Aadd_one%28x%29%0Aadd_one%28x%29%0Aprint%28x%29&cumulative=false&curInstr=0&heapPrimitives=nevernest&mode=display&origin=opt-frontend.js&py=311&rawInputLstJSON=%5B%5D&textReferences=false)\n",
    "\n",
    "[Second example](https://pythontutor.com/render.html#code=def%20add_one%28x%29%3A%0A%20%20%20%20x%20%3D%20x%20%2B%201%0A%20%20%20%20%0Ax%20%3D%205%0Aadd_one%28x%29%0Aadd_one%28x%29%0Aprint%28x%29&cumulative=false&curInstr=0&heapPrimitives=nevernest&mode=display&origin=opt-frontend.js&py=311&rawInputLstJSON=%5B%5D&textReferences=false)\n"
   ]
  },
  {
   "cell_type": "markdown",
   "id": "1c7b0eb2",
   "metadata": {
    "slideshow": {
     "slide_type": "subslide"
    }
   },
   "source": [
    "Let's look one more time, except this time we'll have Python Tutor show the references explicitly:\n",
    "\n",
    "[First example](https://pythontutor.com/render.html#code=def%20add_one%28num%29%3A%0A%20%20%20%20num%20%3D%20num%20%2B%201%0A%20%20%20%20%0Ax%20%3D%205%0Aadd_one%28x%29%0Aadd_one%28x%29%0Aprint%28x%29&cumulative=false&curInstr=0&heapPrimitives=true&mode=display&origin=opt-frontend.js&py=311&rawInputLstJSON=%5B%5D&textReferences=false)"
   ]
  },
  {
   "cell_type": "markdown",
   "id": "d89ab9e8",
   "metadata": {
    "slideshow": {
     "slide_type": "subslide"
    }
   },
   "source": [
    "All variables in Python are references. (This is not true in all programming languages).\n",
    "\n",
    "* When a variable is assigned to (`=`), it is changed to refer to a different value. \n",
    "  * i.e. it \"gets a new piece of paper with a new number on it\".\n",
    "* Assignment does **not** change the original value itself. \n",
    "  * i.e. it does not \"change the value in the original box\".\n",
    "* In some cases, multiple variables can **reference** the same value\n",
    "  * i.e. their pieces of paper will have the same number written on them."
   ]
  },
  {
   "cell_type": "markdown",
   "id": "206d97bd",
   "metadata": {
    "slideshow": {
     "slide_type": "slide"
    }
   },
   "source": [
    "# This is confusing, why do we care?"
   ]
  },
  {
   "cell_type": "markdown",
   "id": "a76c92be",
   "metadata": {
    "slideshow": {
     "slide_type": "notes"
    }
   },
   "source": [
    "1. Clear out memory boxes, take back index cards.\n",
    "1. Ask first volunteer for their 2 favorite colors, add a list to a memory box, hand them an index card with the number of the box used.\n",
    "2. Repeat for volunteer 2, require different colors."
   ]
  },
  {
   "cell_type": "code",
   "execution_count": null,
   "id": "cc7d7133",
   "metadata": {
    "execution": {
     "iopub.execute_input": "2023-10-14T18:01:43.418043Z",
     "iopub.status.busy": "2023-10-14T18:01:43.417686Z",
     "iopub.status.idle": "2023-10-14T18:01:43.421568Z",
     "shell.execute_reply": "2023-10-14T18:01:43.420791Z"
    },
    "slideshow": {
     "slide_type": "subslide"
    }
   },
   "outputs": [],
   "source": [
    "name1 = [\"color1\", \"color2\"]\n",
    "name2 = [\"color3\", \"color4\"]\n",
    "print(name1, name2)"
   ]
  },
  {
   "cell_type": "markdown",
   "id": "9cc8518f",
   "metadata": {
    "slideshow": {
     "slide_type": "notes"
    }
   },
   "source": [
    "1. Make first person pick 2 new colors, create a new list in a new box, and swap their index card."
   ]
  },
  {
   "cell_type": "code",
   "execution_count": null,
   "id": "9d6d4342",
   "metadata": {
    "execution": {
     "iopub.execute_input": "2023-10-14T18:01:43.427629Z",
     "iopub.status.busy": "2023-10-14T18:01:43.427098Z",
     "iopub.status.idle": "2023-10-14T18:01:43.431202Z",
     "shell.execute_reply": "2023-10-14T18:01:43.430610Z"
    },
    "slideshow": {
     "slide_type": "fragment"
    }
   },
   "outputs": [],
   "source": [
    "name1 = [\"color5\", \"color6\"]\n",
    "print(name1, name2)"
   ]
  },
  {
   "cell_type": "markdown",
   "id": "01d521c3",
   "metadata": {
    "slideshow": {
     "slide_type": "notes"
    }
   },
   "source": [
    "1. Force second person to like first person's colors. Give them an index card with the same number as the first person."
   ]
  },
  {
   "cell_type": "code",
   "execution_count": null,
   "id": "e89c1465",
   "metadata": {
    "execution": {
     "iopub.execute_input": "2023-10-14T18:01:43.434881Z",
     "iopub.status.busy": "2023-10-14T18:01:43.434584Z",
     "iopub.status.idle": "2023-10-14T18:01:43.438130Z",
     "shell.execute_reply": "2023-10-14T18:01:43.437463Z"
    },
    "slideshow": {
     "slide_type": "fragment"
    }
   },
   "outputs": [],
   "source": [
    "name2 = name1\n",
    "print(name1, name2)"
   ]
  },
  {
   "cell_type": "markdown",
   "id": "ceda288b",
   "metadata": {
    "slideshow": {
     "slide_type": "notes"
    }
   },
   "source": [
    "1. Update list in place, notice how both people's colors are updated."
   ]
  },
  {
   "cell_type": "code",
   "execution_count": null,
   "id": "b4617f4a",
   "metadata": {
    "execution": {
     "iopub.execute_input": "2023-10-14T18:01:43.442910Z",
     "iopub.status.busy": "2023-10-14T18:01:43.442608Z",
     "iopub.status.idle": "2023-10-14T18:01:43.446469Z",
     "shell.execute_reply": "2023-10-14T18:01:43.445732Z"
    },
    "slideshow": {
     "slide_type": "fragment"
    }
   },
   "outputs": [],
   "source": [
    "name2[0] = \"color7\"\n",
    "print(name1, name2)"
   ]
  },
  {
   "cell_type": "markdown",
   "id": "91bba3a0",
   "metadata": {
    "slideshow": {
     "slide_type": "slide"
    }
   },
   "source": [
    "# This is confusing, why do we care?\n",
    "\n",
    "Consider these two code snippets:"
   ]
  },
  {
   "cell_type": "code",
   "execution_count": null,
   "id": "f593da98",
   "metadata": {
    "execution": {
     "iopub.execute_input": "2023-10-14T18:01:43.449787Z",
     "iopub.status.busy": "2023-10-14T18:01:43.449483Z",
     "iopub.status.idle": "2023-10-14T18:01:43.452986Z",
     "shell.execute_reply": "2023-10-14T18:01:43.452444Z"
    }
   },
   "outputs": [],
   "source": [
    "a = 1\n",
    "b = a\n",
    "a = a + 1\n",
    "print(f\"{a=} {b=}\")"
   ]
  },
  {
   "cell_type": "code",
   "execution_count": null,
   "id": "a319d9b6",
   "metadata": {
    "execution": {
     "iopub.execute_input": "2023-10-14T18:01:43.457625Z",
     "iopub.status.busy": "2023-10-14T18:01:43.457052Z",
     "iopub.status.idle": "2023-10-14T18:01:43.462034Z",
     "shell.execute_reply": "2023-10-14T18:01:43.461299Z"
    }
   },
   "outputs": [],
   "source": [
    "a = [1, 2, 3]\n",
    "b = a\n",
    "a[0] = 4\n",
    "print(f\"{a=} {b=}\")"
   ]
  },
  {
   "cell_type": "markdown",
   "id": "916e4713",
   "metadata": {
    "slideshow": {
     "slide_type": "subslide"
    }
   },
   "source": [
    "Another surprising example:"
   ]
  },
  {
   "cell_type": "code",
   "execution_count": null,
   "id": "486f8646",
   "metadata": {
    "execution": {
     "iopub.execute_input": "2023-10-14T18:01:43.465269Z",
     "iopub.status.busy": "2023-10-14T18:01:43.464956Z",
     "iopub.status.idle": "2023-10-14T18:01:43.469444Z",
     "shell.execute_reply": "2023-10-14T18:01:43.468868Z"
    }
   },
   "outputs": [],
   "source": [
    "def add_one(num):\n",
    "    num = num + 1\n",
    "    print(f\"inside add_one: {num=}\")\n",
    "\n",
    "a = 1\n",
    "add_one(a)\n",
    "print(f\"global scope {a=}\")"
   ]
  },
  {
   "cell_type": "code",
   "execution_count": null,
   "id": "eb78fbfe",
   "metadata": {
    "execution": {
     "iopub.execute_input": "2023-10-14T18:01:43.472869Z",
     "iopub.status.busy": "2023-10-14T18:01:43.472515Z",
     "iopub.status.idle": "2023-10-14T18:01:43.478557Z",
     "shell.execute_reply": "2023-10-14T18:01:43.477014Z"
    }
   },
   "outputs": [],
   "source": [
    "def add_one(nums):\n",
    "    nums[0] = nums[0] + 1\n",
    "    print(f\"inside add_one: {nums=}\")\n",
    "\n",
    "a = [1]\n",
    "add_one(a)\n",
    "print(f\"global scope {a=}\")"
   ]
  },
  {
   "cell_type": "markdown",
   "id": "76fafa05",
   "metadata": {
    "slideshow": {
     "slide_type": "subslide"
    }
   },
   "source": [
    "Understanding references is key to understanding **why** this code behaves the way it does. \n",
    "\n",
    "This behavior is a **very** common source of confusion."
   ]
  },
  {
   "cell_type": "markdown",
   "id": "d339b554",
   "metadata": {
    "slideshow": {
     "slide_type": "subslide"
    }
   },
   "source": [
    "Let's walk through a few code examples and talk in detail about what is happening to references vs. values on each line."
   ]
  },
  {
   "cell_type": "code",
   "execution_count": null,
   "id": "f8c40507",
   "metadata": {
    "execution": {
     "iopub.execute_input": "2023-10-14T18:01:43.484370Z",
     "iopub.status.busy": "2023-10-14T18:01:43.484080Z",
     "iopub.status.idle": "2023-10-14T18:01:43.487703Z",
     "shell.execute_reply": "2023-10-14T18:01:43.486688Z"
    },
    "slideshow": {
     "slide_type": "subslide"
    }
   },
   "outputs": [],
   "source": [
    "a = 1\n",
    "b = 1\n",
    "a = 2"
   ]
  },
  {
   "cell_type": "markdown",
   "id": "30d14d29",
   "metadata": {},
   "source": [
    "On line 1, `a` refers to value `1`.\n",
    "\n",
    "On line 2, `b` refers to value `1`.\n",
    "\n",
    "On line 3, `a` is updated to refer to value `2`, instead of referring to value `1`.\n",
    "\n",
    "We **didn't** change the value `1` to `2`. We changed `a` to refer to a different value. `ints` are immutable, we can't change them.\n",
    "\n",
    "[Python Tutor link](https://pythontutor.com/render.html#code=a%20%3D%201%0Ab%20%3D%201%0Aa%20%3D%202&cumulative=false&curInstr=0&heapPrimitives=true&mode=display&origin=opt-frontend.js&py=311&rawInputLstJSON=%5B%5D&textReferences=false)"
   ]
  },
  {
   "cell_type": "code",
   "execution_count": null,
   "id": "608b58da",
   "metadata": {
    "execution": {
     "iopub.execute_input": "2023-10-14T18:01:43.492001Z",
     "iopub.status.busy": "2023-10-14T18:01:43.491684Z",
     "iopub.status.idle": "2023-10-14T18:01:43.495265Z",
     "shell.execute_reply": "2023-10-14T18:01:43.494646Z"
    },
    "slideshow": {
     "slide_type": "subslide"
    }
   },
   "outputs": [],
   "source": [
    "a = 1\n",
    "b = a\n",
    "a = a + 1\n",
    "print(f\"{a=} {b=}\")"
   ]
  },
  {
   "cell_type": "markdown",
   "id": "ed003d54",
   "metadata": {},
   "source": [
    "On line 1, `a` refers to value `1`.\n",
    "\n",
    "On line 2, `b` refers to the same value as `a`: `1`.\n",
    "\n",
    "`b` does **not** refer to `a`. It refers to the value `1`.\n",
    "\n",
    "On line 3, `a` is changed to refer to the value `2`. \n",
    "\n",
    "We didn't update the value `1`, we only updated `a`'s reference. `b` still refers to the value `1`.\n",
    "\n",
    "[Python Tutor link](https://pythontutor.com/render.html#code=a%20%3D%201%0Ab%20%3D%20a%0Aa%20%3D%20a%20%2B%201%0Aprint%28f%22%7Ba%3D%7D%20%7Bb%3D%7D%22%29&cumulative=false&curInstr=0&heapPrimitives=true&mode=display&origin=opt-frontend.js&py=311&rawInputLstJSON=%5B%5D&textReferences=false)"
   ]
  },
  {
   "cell_type": "code",
   "execution_count": null,
   "id": "b10c6a69",
   "metadata": {
    "execution": {
     "iopub.execute_input": "2023-10-14T18:01:43.498808Z",
     "iopub.status.busy": "2023-10-14T18:01:43.498519Z",
     "iopub.status.idle": "2023-10-14T18:01:43.502501Z",
     "shell.execute_reply": "2023-10-14T18:01:43.501867Z"
    },
    "slideshow": {
     "slide_type": "subslide"
    }
   },
   "outputs": [],
   "source": [
    "a = [1, 2, 3]\n",
    "b = a\n",
    "a[0] = 4\n",
    "print(f\"{a=} {b=}\")"
   ]
  },
  {
   "cell_type": "markdown",
   "id": "4d4e0de3",
   "metadata": {},
   "source": [
    "Lists **appear to** behave differently. Lists are **mutable**. We can change the value of a list.\n",
    "\n",
    "On line 1, `a` refers to a list `[1,2,3]`\n",
    "\n",
    "On line 2, `b` refers to the same list which `a` refers to.\n",
    "\n",
    "On line 3, we modify the list itself! We're changing a value by assigning to an index in the list, we're not changing `a`'s reference.\n",
    "\n",
    "Since `a` and `b` refer to the same list value, and we modified that list value, both `a` and `b` will reflect the change made to the list.\n",
    "\n",
    "[Python Tutor link](https://pythontutor.com/visualize.html#code=a%20%3D%20%5B1,%202,%203%5D%0Ab%20%3D%20a%0Aa%5B0%5D%20%3D%204%0A&cumulative=false&curInstr=0&heapPrimitives=true&mode=display&origin=opt-frontend.js&py=3&rawInputLstJSON=%5B%5D&textReferences=false)\n",
    "\n"
   ]
  },
  {
   "cell_type": "code",
   "execution_count": null,
   "id": "1d9b57e5",
   "metadata": {
    "execution": {
     "iopub.execute_input": "2023-10-14T18:01:43.506748Z",
     "iopub.status.busy": "2023-10-14T18:01:43.506407Z",
     "iopub.status.idle": "2023-10-14T18:01:43.512161Z",
     "shell.execute_reply": "2023-10-14T18:01:43.511560Z"
    },
    "slideshow": {
     "slide_type": "subslide"
    }
   },
   "outputs": [],
   "source": [
    "a = [1, 2, 3]\n",
    "b = a\n",
    "a = [4, 5, 6]\n",
    "a[0] = 9\n",
    "print(f\"{a=} {b=}\")"
   ]
  },
  {
   "cell_type": "markdown",
   "id": "aa763a29",
   "metadata": {},
   "source": [
    "This example highlights the difference between changing a variable's reference, and mutating the value it refers to.\n",
    "\n",
    "On line 1, `a` refers to a list `[1,2,3]`\n",
    "\n",
    "On line 2, `b` refers to the same list which `a` refers to.\n",
    "\n",
    "On line 3, we change `a` to refer to a new list `[4,5,6]` by assigning to `a`. We have not modified the original list value that `a` referred to. `a` and `b` now refer to different lists.\n",
    "\n",
    "On line 4, we modify the list value that `a` refers to. `b`'s list is unchanged.\n",
    "\n",
    "[Python tutor link](https://pythontutor.com/visualize.html#code=a%20%3D%20%5B1,%202,%203%5D%0Ab%20%3D%20a%0Aa%20%3D%20%5B4,%205,%206%5D%0Aa%5B0%5D%20%3D%209&cumulative=false&curInstr=0&heapPrimitives=true&mode=display&origin=opt-frontend.js&py=3&rawInputLstJSON=%5B%5D&textReferences=false)"
   ]
  },
  {
   "cell_type": "markdown",
   "id": "35afd6eb",
   "metadata": {
    "slideshow": {
     "slide_type": "slide"
    }
   },
   "source": [
    "# [Slido](https://wall.sli.do/event/aS8ZegjvKXxPo9Nh65q1jN?section=dbb5fc0f-0274-4aa8-b925-119d565b88a1)"
   ]
  },
  {
   "cell_type": "markdown",
   "id": "9ebdf1ec",
   "metadata": {
    "slideshow": {
     "slide_type": "subslide"
    }
   },
   "source": [
    "\n",
    "When arguments are passed to functions, the references (not the values!) are copied."
   ]
  },
  {
   "cell_type": "code",
   "execution_count": null,
   "id": "160611b8",
   "metadata": {
    "execution": {
     "iopub.execute_input": "2023-10-14T18:01:43.515523Z",
     "iopub.status.busy": "2023-10-14T18:01:43.515256Z",
     "iopub.status.idle": "2023-10-14T18:01:43.519027Z",
     "shell.execute_reply": "2023-10-14T18:01:43.518310Z"
    }
   },
   "outputs": [],
   "source": [
    "def add_one(num):\n",
    "    num = num + 1    \n",
    "    print(f\"inside add_one: {num=}\")\n",
    "\n",
    "a = 1\n",
    "add_one(a)\n",
    "print(f\"global scope {a=}\")"
   ]
  },
  {
   "cell_type": "markdown",
   "id": "b8b235cf",
   "metadata": {},
   "source": [
    "When the code reaches line 2, `a` is a reference to value `1`, and `num` is also a reference to the value `1`.\n",
    "\n",
    "Other than referring to the same value, `a` and `num` are not connected.\n",
    "\n",
    "After line 2 executes, `num` is updated to refer to value `2`, and `a` continues to refer to value `1`.\n",
    "\n",
    "[Python tutor link](https://pythontutor.com/visualize.html#code=def%20add_one%28num%29%3A%0A%20%20%20%20num%20%3D%20num%20%2B%201%0A%20%20%20%20print%28%22inside%20add_one%3A%20%22%20%2B%20str%28num%29%29%0A%0Aa%20%3D%201%0Aadd_one%28a%29%0Aprint%28f%22global%20scope%3A%20%22%20%2B%20str%28a%29%29&cumulative=false&curInstr=0&heapPrimitives=true&mode=display&origin=opt-frontend.js&py=3&rawInputLstJSON=%5B%5D&textReferences=false)\n"
   ]
  },
  {
   "cell_type": "markdown",
   "id": "47271e4c",
   "metadata": {
    "slideshow": {
     "slide_type": "subslide"
    }
   },
   "source": [
    "If a **value** is modified inside a function, references from outside the function will see the change."
   ]
  },
  {
   "cell_type": "code",
   "execution_count": null,
   "id": "1bf47cd9",
   "metadata": {
    "execution": {
     "iopub.execute_input": "2023-10-14T18:01:43.522730Z",
     "iopub.status.busy": "2023-10-14T18:01:43.522404Z",
     "iopub.status.idle": "2023-10-14T18:01:43.527910Z",
     "shell.execute_reply": "2023-10-14T18:01:43.527181Z"
    }
   },
   "outputs": [],
   "source": [
    "def add_one(nums):\n",
    "    nums[0] = nums[0] + 1\n",
    "    print(f\"inside add_one: {nums=}\")\n",
    "\n",
    "a = [1]\n",
    "add_one(a)\n",
    "print(f\"global scope {a=}\")"
   ]
  },
  {
   "cell_type": "markdown",
   "id": "681545e6",
   "metadata": {},
   "source": [
    "When the code reaches line 2, both `a` and `nums` refer to the same list `[0]`.\n",
    "\n",
    "After line 2 executes, the list value has changed. Because `a` and `nums` both refer to it, they both see the change.\n",
    "\n",
    "[Python tutor link](https://pythontutor.com/visualize.html#code=def%20add_one%28nums%29%3A%0A%20%20%20%20nums%5B0%5D%20%3D%20nums%5B0%5D%20%2B%201%0A%20%20%20%20print%28%22inside%20add_one%3A%20%22%20%2B%20str%28nums%29%29%0A%0Aa%20%3D%20%5B1%5D%0Aadd_one%28a%29%0Aprint%28f%22global%20scope%3A%20%22%20%2B%20str%28a%29%29&cumulative=false&curInstr=0&heapPrimitives=true&mode=display&origin=opt-frontend.js&py=3&rawInputLstJSON=%5B%5D&textReferences=false)\n"
   ]
  },
  {
   "cell_type": "markdown",
   "id": "a68f24c4",
   "metadata": {
    "slideshow": {
     "slide_type": "subslide"
    }
   },
   "source": [
    "# Another way to think about this\n",
    "\n",
    "If the word \"references\" is confusing, you can also think about a variable as a \"name\" for a value.\n",
    "\n",
    "Assignment (`=`) binds (or assigns) a name to a value. \n",
    "\n",
    "Passing an argument into a function also binds a name to a value. The name is the name of the function's parameter.\n",
    "\n",
    "One value might have multiple names at a time.\n",
    "\n",
    "When you assign (`=`), the value isn't copied. You've added a new name for the value."
   ]
  },
  {
   "cell_type": "markdown",
   "id": "4902b356",
   "metadata": {
    "slideshow": {
     "slide_type": "slide"
    }
   },
   "source": [
    "# copy\n",
    "\n",
    "Sometimes you want to make changes to a value, but keep those changes from being seen by any other reference to that value. In these cases, you can copy the value before modifying it.\n",
    "\n",
    "Python provides some tools in the `copy` [module](https://docs.python.org/3/library/copy.html).\n",
    "\n",
    "* `copy.copy()` will do a **shallow** copy - copy the outer value only\n",
    "* `copy.deepcopy()` will do a **deep** copy - copy all nested values. This only comes into play when you have things like nested lists.\n"
   ]
  },
  {
   "cell_type": "code",
   "execution_count": null,
   "id": "669cb639",
   "metadata": {
    "execution": {
     "iopub.execute_input": "2023-10-14T18:01:43.531209Z",
     "iopub.status.busy": "2023-10-14T18:01:43.530935Z",
     "iopub.status.idle": "2023-10-14T18:01:43.535259Z",
     "shell.execute_reply": "2023-10-14T18:01:43.534669Z"
    }
   },
   "outputs": [],
   "source": [
    "import copy\n",
    "a = [1,2,3]\n",
    "b = copy.copy(a)\n",
    "b[0] = 9\n",
    "print(f\"{a=} {b=}\")"
   ]
  },
  {
   "cell_type": "markdown",
   "id": "ac0f9f3c",
   "metadata": {
    "slideshow": {
     "slide_type": "-"
    }
   },
   "source": [
    "[Python Tutor link](https://pythontutor.com/render.html#code=import%20copy%0Aa%20%3D%20%5B1,2,3%5D%0Ab%20%3D%20copy.copy%28a%29%0Ab%5B0%5D%20%3D%209%0Aprint%28f%22%7Ba%3D%7D%20%7Bb%3D%7D%22%29&cumulative=false&curInstr=0&heapPrimitives=true&mode=display&origin=opt-frontend.js&py=311&rawInputLstJSON=%5B%5D&textReferences=false)"
   ]
  },
  {
   "cell_type": "markdown",
   "id": "b8a8adad",
   "metadata": {
    "slideshow": {
     "slide_type": "subslide"
    }
   },
   "source": [
    "This is most often useful in functions, where you don't want the function to mess with the caller's values."
   ]
  },
  {
   "cell_type": "code",
   "execution_count": null,
   "id": "8072fa7b",
   "metadata": {
    "execution": {
     "iopub.execute_input": "2023-10-14T18:01:43.538738Z",
     "iopub.status.busy": "2023-10-14T18:01:43.538390Z",
     "iopub.status.idle": "2023-10-14T18:01:43.547576Z",
     "shell.execute_reply": "2023-10-14T18:01:43.546863Z"
    },
    "slideshow": {
     "slide_type": "-"
    }
   },
   "outputs": [],
   "source": [
    "def add_one(nums):\n",
    "    newlist = copy.copy(nums)\n",
    "    for i in range(len(newlist)):\n",
    "        newlist[i] = newlist[i] + 1\n",
    "    return newlist\n",
    "\n",
    "a = [1,2,3]\n",
    "b = add_one(a)\n",
    "print(f\"{a=} {b=}\")"
   ]
  },
  {
   "cell_type": "markdown",
   "id": "330ebc43",
   "metadata": {},
   "source": [
    "[Python Tutor link](https://pythontutor.com/render.html#code=import%20copy%0Adef%20add_one%28nums%29%3A%0A%20%20%20%20newlist%20%3D%20copy.copy%28nums%29%0A%20%20%20%20for%20i%20in%20range%28len%28newlist%29%29%3A%0A%20%20%20%20%20%20%20%20newlist%5Bi%5D%20%3D%20newlist%5Bi%5D%20%2B%201%0A%20%20%20%20return%20newlist%0A%0Aa%20%3D%20%5B1,2,3%5D%0Ab%20%3D%20add_one%28a%29%0Aprint%28f%22%7Ba%3D%7D%20%7Bb%3D%7D%22%29&cumulative=false&curInstr=0&heapPrimitives=true&mode=display&origin=opt-frontend.js&py=311&rawInputLstJSON=%5B%5D&textReferences=false)"
   ]
  },
  {
   "cell_type": "markdown",
   "id": "9ab509e1",
   "metadata": {
    "slideshow": {
     "slide_type": "slide"
    }
   },
   "source": [
    "# Puzzles\n",
    "\n",
    "[\"Reference puzzles\" on repl.it](https://replit.com/team/cosi-10a-fall23/Reference-puzzles)"
   ]
  },
  {
   "cell_type": "markdown",
   "id": "db689513",
   "metadata": {
    "slideshow": {
     "slide_type": "slide"
    }
   },
   "source": [
    "# [Slido](https://wall.sli.do/event/aS8ZegjvKXxPo9Nh65q1jN?section=dbb5fc0f-0274-4aa8-b925-119d565b88a1)"
   ]
  }
 ],
 "metadata": {
  "celltoolbar": "Slideshow",
  "kernelspec": {
   "display_name": "Python 3 (ipykernel)",
   "language": "python",
   "name": "python3"
  },
  "language_info": {
   "codemirror_mode": {
    "name": "ipython",
    "version": 3
   },
   "file_extension": ".py",
   "mimetype": "text/x-python",
   "name": "python",
   "nbconvert_exporter": "python",
   "pygments_lexer": "ipython3",
   "version": "3.10.9"
  }
 },
 "nbformat": 4,
 "nbformat_minor": 5
}
