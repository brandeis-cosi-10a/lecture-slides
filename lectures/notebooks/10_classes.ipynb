{
 "cells": [
  {
   "cell_type": "code",
   "execution_count": null,
   "id": "775cf7f0",
   "metadata": {},
   "outputs": [],
   "source": []
  },
  {
   "cell_type": "markdown",
   "id": "05f7606d",
   "metadata": {
    "slideshow": {
     "slide_type": "slide"
    }
   },
   "source": [
    "# Announcements\n",
    "\n",
    "* PS8 due tomorrow (11/26), 11:59pm\n",
    "* Next week: one more Problem Set and Quiz to go!\n",
    "   * Please correct your quizzes!\n",
    "* Have a nice break!"
   ]
  },
  {
   "cell_type": "markdown",
   "id": "608f6f81",
   "metadata": {
    "slideshow": {
     "slide_type": "slide"
    }
   },
   "source": [
    "# Classes\n",
    "\n",
    "<style>\n",
    "section.present > section.present { \n",
    "    max-height: 90%; \n",
    "    overflow-y: scroll;\n",
    "}\n",
    "</style>\n",
    "\n",
    "<small><a href=\"https://colab.research.google.com/github/brandeis-jdelfino/cosi-10a/blob/24fall/lectures/notebooks/10_classes.ipynb\">Link to interactive slides on Google Colab</a></small>"
   ]
  },
  {
   "cell_type": "markdown",
   "id": "2b4fbe2a",
   "metadata": {
    "slideshow": {
     "slide_type": "slide"
    }
   },
   "source": [
    "# Classes\n",
    "\n",
    "A \"class\" is something that bundles data and functionality together.\n",
    "\n",
    "Classes help us add structure to our programs."
   ]
  },
  {
   "cell_type": "markdown",
   "id": "1a19a085",
   "metadata": {
    "slideshow": {
     "slide_type": "subslide"
    }
   },
   "source": [
    "# The exercise Exercise, revisited again\n",
    "\n",
    "A dictionary held data about people's exercise schedules:"
   ]
  },
  {
   "cell_type": "code",
   "execution_count": null,
   "id": "182868ec",
   "metadata": {},
   "outputs": [],
   "source": [
    "data = {\n",
    "    \"Spongebob\": [1, 7, 15, 31],\n",
    "    \"Batman\": [2, 21],\n",
    "    \"Dora\": [5],\n",
    "    \"Peppa\": [1, 3, 5, 7, 9, 11, 13, 15, 17, 19, 21, 23, 25, 27, 29],\n",
    "    \"Bill Murray\": [1, 2, 3, 4, 5, 6]\n",
    "}\n",
    "\n",
    "most = 0\n",
    "most_name = \"\"\n",
    "for name in data:\n",
    "    if len(data[name]) > most:\n",
    "        most = len(data[name])\n",
    "        most_name = name\n",
    "print(f\"{most_name} exercised the most, with {most} days of exercise!\")"
   ]
  },
  {
   "cell_type": "markdown",
   "id": "9f390191",
   "metadata": {
    "slideshow": {
     "slide_type": "subslide"
    }
   },
   "source": [
    "# Classes add structure to programs\n",
    "\n",
    "To make our program more structured and readable, we can use a **class**. "
   ]
  },
  {
   "cell_type": "markdown",
   "id": "4728b0c8",
   "metadata": {
    "slideshow": {
     "slide_type": "subslide"
    }
   },
   "source": [
    "Here is the code we wish we could write:"
   ]
  },
  {
   "cell_type": "code",
   "execution_count": null,
   "id": "17d985d7",
   "metadata": {},
   "outputs": [],
   "source": [
    "# data = [ ??? ]\n",
    "\n",
    "most = None\n",
    "for exercise_data in data:\n",
    "    if most == None or exercise_data.days_exercised() > most.days_exercised():\n",
    "        most = exercise_data\n",
    "\n",
    "print(f\"{most.name} exercised the most, with {most.days_exercised()} days of exercise!\")"
   ]
  },
  {
   "cell_type": "markdown",
   "id": "2fa16f7a",
   "metadata": {},
   "source": [
    "But what goes in `data`?\n",
    "\n",
    "Where did that `days_exercised()` function come from? \n",
    "\n",
    "Where did `.name` come from?"
   ]
  },
  {
   "cell_type": "markdown",
   "id": "fb2aa225",
   "metadata": {
    "slideshow": {
     "slide_type": "subslide"
    }
   },
   "source": [
    "In order to make this work, we can define a class:"
   ]
  },
  {
   "cell_type": "code",
   "execution_count": null,
   "id": "d5446110",
   "metadata": {},
   "outputs": [],
   "source": [
    "# Note: this code is an illustrative example, don't copy this pattern\n",
    "# as we'll see later, there are better ways to write this code using classes\n",
    "\n",
    "class ExerciseInfo:\n",
    "    def days_exercised(self):\n",
    "        return len(self.dates)\n",
    "\n",
    "peppa_info = ExerciseInfo()\n",
    "peppa_info.name = \"Peppa\"\n",
    "peppa_info.dates = [1, 3, 5, 7, 9, 11, 13, 15, 17, 19, 21, 23, 25, 27, 29]\n",
    "\n",
    "spongebob_info = ExerciseInfo()\n",
    "spongebob_info.name = \"Spongebob\"\n",
    "spongebob_info.dates = [1, 7, 15, 31]\n",
    "\n",
    "data = [peppa_info, spongebob_info]\n",
    "\n",
    "most = None\n",
    "for exercise_data in data:\n",
    "    if most == None or exercise_data.days_exercised() > most.days_exercised():\n",
    "        most = exercise_data\n",
    "\n",
    "print(f\"{most.name} exercised the most, with {most.days_exercised()} days of exercise!\")"
   ]
  },
  {
   "cell_type": "markdown",
   "id": "0ad55772",
   "metadata": {
    "slideshow": {
     "slide_type": "subslide"
    }
   },
   "source": [
    "# What just happened?\n",
    "\n",
    "We defined a class: `ExerciseInfo`\n",
    "\n",
    "We added some functionality to the class: a function called `days_exercised`\n",
    "\n",
    "We created two **instances** of the class: `peppa_info` and `spongebob_info`, and set some data on each instance.\n",
    "\n",
    "We put those instances into a list, and used them to figure out who exercised the most."
   ]
  },
  {
   "cell_type": "markdown",
   "id": "07bcf986",
   "metadata": {
    "slideshow": {
     "slide_type": "subslide"
    }
   },
   "source": [
    "# Class vs Object\n",
    "\n",
    "`ExerciseInfo` is the **class**. \n",
    "\n",
    "A **class** specifies the data and behavior which will exist on an object. It is like a blueprint.\n",
    "\n",
    "`peppa_info` and `spongebob_info` are **objects**: specific copies (or instances) of the class.\n",
    "\n",
    "Each object has its own data, and different objects are independent from each other.\n",
    "\n",
    "**Objects** are often called **instances** of a class."
   ]
  },
  {
   "cell_type": "markdown",
   "id": "f673641e",
   "metadata": {
    "slideshow": {
     "slide_type": "subslide"
    }
   },
   "source": [
    "# Class vs Instance analogies\n",
    "\n",
    "A 3d model file is like a class, the thing that comes out of the 3d printer is the object, or instance.\n",
    "\n",
    "Individual prints might use different colors, or be printed at different scales. They come from the same model file, but have their own, independent properties."
   ]
  },
  {
   "cell_type": "markdown",
   "id": "b66e6ea8",
   "metadata": {
    "slideshow": {
     "slide_type": "subslide"
    }
   },
   "source": [
    "# Class vs Instance analogies\n",
    "\n",
    "A car blueprint is like a class, a physical car is the object, or instance.\n",
    "\n",
    "Individual cars might have different trim levels, or come in different colors, but they are made from the same blueprint."
   ]
  },
  {
   "cell_type": "markdown",
   "id": "22978900",
   "metadata": {
    "slideshow": {
     "slide_type": "subslide"
    }
   },
   "source": [
    "# Class vs Instance analogies\n",
    "   \n",
    "A sewing pattern is like a class, a sewn garment is the object, or instance.\n",
    "\n",
    "Individual garments can be made out of different fabrics, or cut to different sizes, but they are all produced from the same pattern."
   ]
  },
  {
   "cell_type": "markdown",
   "id": "c2697b34",
   "metadata": {
    "slideshow": {
     "slide_type": "subslide"
    }
   },
   "source": [
    "# Defining classes\n",
    "\n",
    "Defining a class is like defining a function. When you define a function, the function doesn't run. The function must be called to make it run. \n",
    "\n",
    "Defining a class specifies what the class holds, and what it does, but it doesn't create any instances. Instances must be explicitly created."
   ]
  },
  {
   "cell_type": "markdown",
   "id": "df5594fb",
   "metadata": {
    "slideshow": {
     "slide_type": "subslide"
    }
   },
   "source": [
    "# Defining classes\n",
    "\n",
    "Defining a class is done with the `class` keyword. This code defines a class named `ExerciseInfo`:\n",
    "\n",
    "```\n",
    "class ExerciseInfo:\n",
    "    # class definition statements go here\n",
    "```"
   ]
  },
  {
   "cell_type": "markdown",
   "id": "6bba6c80",
   "metadata": {
    "slideshow": {
     "slide_type": "subslide"
    }
   },
   "source": [
    "# Adding behavior to classes\n",
    "\n",
    "Functions can be included in class definitions. Functions on classes are called **methods**. \n",
    "\n",
    "The name difference is a fine distinction for our purposes, you can use \"function\" and \"method\" interchangably in this class."
   ]
  },
  {
   "cell_type": "markdown",
   "id": "e4e2fdce",
   "metadata": {
    "slideshow": {
     "slide_type": "subslide"
    }
   },
   "source": [
    "# Adding behavior to classes\n",
    "\n",
    "This code defines the `ExerciseInfo` class, and includes a single method named `days_exercised`:\n",
    "\n",
    "```\n",
    "class ExerciseInfo:\n",
    "   def days_exercised(self):\n",
    "      return len(self.dates)\n",
    "```"
   ]
  },
  {
   "cell_type": "markdown",
   "id": "c34afcdb",
   "metadata": {
    "slideshow": {
     "slide_type": "subslide"
    }
   },
   "source": [
    "# Creating objects\n",
    "\n",
    "Objects are created by adding `()` to the class name. \n",
    "\n",
    "This code creates a single `ExerciseInfo` object, or instance, and stores it in a variable named `peppa_info`:\n",
    "\n",
    "```\n",
    "peppa_info = ExerciseInfo()\n",
    "```\n",
    "\n",
    "(Just like functions, we'll see later that arguments can sometimes go inside those empty parentheses)"
   ]
  },
  {
   "cell_type": "markdown",
   "id": "195f9dd9",
   "metadata": {
    "slideshow": {
     "slide_type": "subslide"
    }
   },
   "source": [
    "# Attributes\n",
    "\n",
    "Instances can hold variables. These are called attributes.\n",
    "\n",
    "One way to add an attribute is to just set one on an instance:\n",
    "\n",
    "```\n",
    "peppa_info.name = \"Peppa\"\n",
    "```\n",
    "\n",
    "The `peppa_info` instance now holds an attribute named `name`, with the value `\"Peppa\"`."
   ]
  },
  {
   "cell_type": "code",
   "execution_count": null,
   "id": "140bd17e",
   "metadata": {
    "slideshow": {
     "slide_type": "subslide"
    }
   },
   "outputs": [],
   "source": [
    "class ExerciseInfo:\n",
    "    def days_exercised(self):\n",
    "        return len(self.dates)\n",
    "\n",
    "peppa_info = ExerciseInfo()\n",
    "peppa_info.name = \"Peppa\"\n",
    "peppa_info.dates = [1, 3, 5, 7, 9, 11, 13, 15, 17, 19, 21, 23, 25, 27, 29]\n",
    "\n",
    "spongebob_info = ExerciseInfo()\n",
    "spongebob_info.name = \"Spongebob\"\n",
    "spongebob_info.dates = [1, 7, 15, 31]\n",
    "\n",
    "# ..."
   ]
  },
  {
   "cell_type": "markdown",
   "id": "385ff957",
   "metadata": {
    "slideshow": {
     "slide_type": "-"
    }
   },
   "source": [
    "# But...\n",
    "\n",
    "This approach has flaws. It requires users of the class to know which fields to set, and to always remember to set them consistently.\n",
    "\n",
    "In order for classes to actually add structure to our programs, they should be able to specify which fields they have."
   ]
  },
  {
   "cell_type": "markdown",
   "id": "90acfb06",
   "metadata": {
    "slideshow": {
     "slide_type": "subslide"
    }
   },
   "source": [
    "# Specifying attributes in the class definition\n",
    "\n",
    "The crazy\\* Python syntax for setting attributes in the class definition is:"
   ]
  },
  {
   "cell_type": "code",
   "execution_count": null,
   "id": "300cc4d8",
   "metadata": {},
   "outputs": [],
   "source": [
    "class ExerciseInfo:\n",
    "    def __init__(self):\n",
    "        self.name = \"\"\n",
    "        self.dates = []\n",
    "\n",
    "    def days_exercised(self):\n",
    "        return len(self.dates)\n"
   ]
  },
  {
   "cell_type": "markdown",
   "id": "7e5b6e4f",
   "metadata": {},
   "source": [
    "\\* It's not actually crazy, there are reasons it is done this way, but the syntax is intimidating and obtuse"
   ]
  },
  {
   "cell_type": "markdown",
   "id": "bf5b3af2",
   "metadata": {
    "slideshow": {
     "slide_type": "subslide"
    }
   },
   "source": [
    "# The __init__ function\n",
    "\n",
    "That crazy-looking function: `__init__(self)` is called a **constructor**. \n",
    "\n",
    "It is run automatically when a new instance of the class is created.\n",
    "\n",
    "In the case of `ExerciseInfo`, 2 attributes are defined: `name` and `dates`:\n",
    "\n",
    "```\n",
    "    def __init__(self):\n",
    "        self.name = \"\"\n",
    "        self.dates = []\n",
    "```"
   ]
  },
  {
   "cell_type": "markdown",
   "id": "f64d7b90",
   "metadata": {
    "slideshow": {
     "slide_type": "subslide"
    }
   },
   "source": [
    "# The init function\n",
    "\n",
    "The init function can also take arguments:"
   ]
  },
  {
   "cell_type": "code",
   "execution_count": null,
   "id": "4a1b53e2",
   "metadata": {},
   "outputs": [],
   "source": [
    "class ExerciseInfo:\n",
    "    def __init__(self, exerciser_name, exerciser_dates):\n",
    "        self.name = exerciser_name\n",
    "        self.dates = exerciser_dates\n",
    "\n",
    "    def days_exercised(self):\n",
    "        return len(self.dates)\n"
   ]
  },
  {
   "cell_type": "markdown",
   "id": "0718355e",
   "metadata": {
    "slideshow": {
     "slide_type": "subslide"
    }
   },
   "source": [
    "# The init function\n",
    "\n",
    "Now, when we create an `ExerciseInfo`, we must supply two arguments: `exerciser_name` and `exerciser_dates`:"
   ]
  },
  {
   "cell_type": "code",
   "execution_count": null,
   "id": "4b2620a6",
   "metadata": {
    "slideshow": {
     "slide_type": "-"
    }
   },
   "outputs": [],
   "source": [
    "class ExerciseInfo:\n",
    "    def __init__(self, exerciser_name, exerciser_dates):\n",
    "        self.name = exerciser_name\n",
    "        self.dates = exerciser_dates\n",
    "\n",
    "    def days_exercised(self):\n",
    "        return len(self.dates)\n",
    "\n",
    "# ExerciseInfo()\n",
    "peppa_info = ExerciseInfo(\"Peppa\", [1, 3, 5, 7, 9, 11, 13, 15, 17, 19, 21, 23, 25, 27, 29])\n",
    "spongebob_info = ExerciseInfo(\"Spongebob\", [1, 7, 15, 31])\n",
    "\n",
    "print(f\"{peppa_info.name} exercised on days: {peppa_info.dates}.\")\n",
    "print(f\"That's {peppa_info.days_exercised()} days!\")\n",
    "# ..."
   ]
  },
  {
   "cell_type": "markdown",
   "id": "7881349e",
   "metadata": {
    "slideshow": {
     "slide_type": "subslide"
    }
   },
   "source": [
    "## `self`\n",
    "\n",
    "We see this strange parameter, `self`, on each method.\n",
    "\n",
    "Methods need a way to access the instances on which they are called. \n",
    "\n",
    "e.g. `days_exercised` needs access to a list of dates, so that the number of days can be calculated\n",
    "\n",
    "But the `days_exercised` for `peppa_info` is different from the `days_exercised` for `spongebob_info`."
   ]
  },
  {
   "cell_type": "markdown",
   "id": "5b901ada",
   "metadata": {
    "slideshow": {
     "slide_type": "subslide"
    }
   },
   "source": [
    "## `self`\n",
    "\n",
    "When a class method is called, the instance is always \"magically\" passed as the first parameter to the method.\n",
    "\n",
    "Let's look at `ExerciseInfo` in PythonTutor to see this: [PythonTutor link](https://pythontutor.com/render.html#code=class%20ExerciseInfo%3A%0A%20%20%20%20def%20__init__%28self,%20exerciser_name,%20exerciser_dates%29%3A%0A%20%20%20%20%20%20%20%20self.name%20%3D%20exerciser_name%0A%20%20%20%20%20%20%20%20self.dates%20%3D%20exerciser_dates%0A%0A%20%20%20%20def%20days_exercised%28self%29%3A%0A%20%20%20%20%20%20%20%20return%20len%28self.dates%29%0A%0Apeppa_days%20%3D%20%5B1,%203,%205,%207,%209,%2011,%2013,%2015,%2017,%2019,%2021,%2023,%2025,%2027,%2029%5D%0Apeppa_info%20%3D%20ExerciseInfo%28%22Peppa%22,%20peppa_days%29%0Aspongebob_days%20%3D%20%5B1,%207,%2015,%2031%5D%0Aspongebob_info%20%3D%20ExerciseInfo%28%22Spongebob%22,%20spongebob_days%29%0A%0Apeppa_num_days%20%3D%20peppa_info.days_exercised%28%29%0Aprint%28f%22%7Bpeppa_info.name%7D%20exercised%20on%20days%3A%20%7Bpeppa_info.dates%7D.%20That's%20%7Bpeppa_num_days%7D%20days!%22%29%0A%23%20...&cumulative=false&curInstr=0&heapPrimitives=nevernest&mode=display&origin=opt-frontend.js&py=3&rawInputLstJSON=%5B%5D&textReferences=false)"
   ]
  },
  {
   "cell_type": "markdown",
   "id": "72f41231",
   "metadata": {
    "slideshow": {
     "slide_type": "subslide"
    }
   },
   "source": [
    "## `self` and methods\n",
    "\n",
    "These two lines of code are equivalent:\n",
    "\n",
    "```\n",
    "peppa_info.days_exercised()\n",
    "```\n",
    "\n",
    "vs. \n",
    "\n",
    "```\n",
    "ExerciseInfo.days_exercised(peppa_info)\n",
    "```\n",
    "\n",
    "They both say: call the method `days_exercised` on the `ExerciseInfo` class, and use `peppa_info` as the instance.\n",
    "\n",
    "We virtually always use the first syntax, but the second syntax more clearly shows how that first parameter, `self` gets filled in."
   ]
  },
  {
   "cell_type": "markdown",
   "id": "fab25e2f",
   "metadata": {
    "slideshow": {
     "slide_type": "subslide"
    }
   },
   "source": [
    "## Common gotcha: forgetting your self\n",
    "\n",
    "A common \"gotcha\" is forgetting to add the `self` parameter to a method definition:"
   ]
  },
  {
   "cell_type": "code",
   "execution_count": null,
   "id": "9388ea73",
   "metadata": {},
   "outputs": [],
   "source": [
    "class ExerciseInfo:\n",
    "    def __init__(self, exerciser_name, exerciser_dates):\n",
    "        self.name = exerciser_name\n",
    "        self.dates = exerciser_dates\n",
    "\n",
    "    # no self parameter here - incorrect!\n",
    "    def days_exercised():\n",
    "        return len(self.dates)\n",
    "        \n",
    "peppa_info = ExerciseInfo(\"Peppa\", [1, 3, 5, 7, 9, 11, 13, 15, 17, 19, 21, 23, 25, 27, 29])\n",
    "print(f\"Peppa exercised for {peppa_info.days_exercised()} days!\")"
   ]
  },
  {
   "cell_type": "code",
   "execution_count": null,
   "id": "be01ee3e",
   "metadata": {
    "slideshow": {
     "slide_type": "subslide"
    }
   },
   "outputs": [],
   "source": [
    "class ExerciseInfo:\n",
    "    def __init__(self, exerciser_name, exerciser_dates):\n",
    "        self.name = exerciser_name\n",
    "        self.dates = exerciser_dates\n",
    "\n",
    "    # no self parameter here - incorrect!\n",
    "    def days_exercised():\n",
    "        return len(self.dates)\n",
    "\n",
    "peppa_info = ExerciseInfo(\"Peppa\", [1, 3, 5, 7, 9, 11, 13, 15, 17, 19, 21, 23, 25, 27, 29])\n",
    "print(f\"Peppa exercised for {peppa_info.days_exercised()} days!\")"
   ]
  },
  {
   "cell_type": "markdown",
   "id": "6714f5eb",
   "metadata": {
    "slideshow": {
     "slide_type": "subslide"
    }
   },
   "source": [
    "`TypeError: days_exercised() takes 0 positional arguments but 1 was given`\n",
    "\n",
    "It **looks** like we called days_exercised with 0 arguments: `peppa_info.days_exercised()`\n",
    "\n",
    "But because we are calling a function on an **instance**, the instance is \"magically\" passed as the first parameter. \n",
    "\n",
    "So, we're actually calling `days_exercised` with 1 argument, and that argument is `peppa_info`."
   ]
  },
  {
   "cell_type": "markdown",
   "id": "fa564dcd",
   "metadata": {
    "slideshow": {
     "slide_type": "slide"
    }
   },
   "source": [
    "# Class example: Animals\n",
    "\n",
    "Let's create a class to represent animals. An animal has:\n",
    "\n",
    "* A name\n",
    "* A species\n",
    "* A weight in pounds\n",
    "* A sound it makes"
   ]
  },
  {
   "cell_type": "markdown",
   "id": "bcf2df8e",
   "metadata": {
    "slideshow": {
     "slide_type": "subslide"
    }
   },
   "source": [
    "Let's define a minimal `Animal` class:"
   ]
  },
  {
   "cell_type": "code",
   "execution_count": null,
   "id": "a7d6258f",
   "metadata": {},
   "outputs": [],
   "source": [
    "class Animal:\n",
    "    def __init__(self, name, species, weight, sound):\n",
    "        self.name = name\n",
    "        self.species = species\n",
    "        self.weight = weight\n",
    "        self.sound = sound"
   ]
  },
  {
   "cell_type": "markdown",
   "id": "ca52564a",
   "metadata": {
    "slideshow": {
     "slide_type": "subslide"
    }
   },
   "source": [
    "Note the similar variable names: `self.name = name`, `self.species = species`, etc\n",
    "\n",
    "`name` is the the parameter to `__init__`\n",
    "\n",
    "`self.name` is the attribute on the `Animal` instance being created.\n",
    "\n",
    "Those lines of code are setting fields on the instance based on the parameters passed to `__init__`.\n",
    "\n",
    "We happened to name the parameter and the attribute the same thing, but they can each be named anything."
   ]
  },
  {
   "cell_type": "markdown",
   "id": "0b854f8e",
   "metadata": {
    "slideshow": {
     "slide_type": "subslide"
    }
   },
   "source": [
    "Let's create a few animals:"
   ]
  },
  {
   "cell_type": "code",
   "execution_count": null,
   "id": "50250a5b",
   "metadata": {},
   "outputs": [],
   "source": [
    "lion = Animal(\"Simba\", \"Lion\", 400, \"rawr\")\n",
    "dog = Animal(\"Spot\", \"Dalmatian\", 50, \"woof\")\n",
    "cat = Animal(\"Toast\", \"Domestic cat\", 9, \"meh\")\n",
    "fox = Animal(\"Rusty\", \"Red Fox\", 12, \"???\")\n",
    "\n",
    "print(f\"Dog info: name: {dog.name}, species/breed: {dog.species}, {dog.weight} lbs, says: '{dog.sound}'\")"
   ]
  },
  {
   "cell_type": "markdown",
   "id": "34a4d875",
   "metadata": {
    "slideshow": {
     "slide_type": "subslide"
    }
   },
   "source": [
    "Let's write a function to print out our animals"
   ]
  },
  {
   "cell_type": "code",
   "execution_count": null,
   "id": "b7e54fb2",
   "metadata": {},
   "outputs": [],
   "source": [
    "def print_animal(a):\n",
    "    print(f\"Animal info: name: {a.name}, species/breed: {a.species}, {a.weight} lbs, says: '{a.sound}'\")\n",
    "\n",
    "print_animal(lion)\n",
    "print_animal(dog)\n",
    "print_animal(cat)\n",
    "print_animal(fox)"
   ]
  },
  {
   "cell_type": "markdown",
   "id": "d637e9d1",
   "metadata": {
    "slideshow": {
     "slide_type": "subslide"
    }
   },
   "source": [
    "But wait! Classes help us group data and functionality together.\n",
    "\n",
    "Printing out info about an animal belongs with the `Animal` class:"
   ]
  },
  {
   "cell_type": "code",
   "execution_count": null,
   "id": "45c1d544",
   "metadata": {},
   "outputs": [],
   "source": [
    "class Animal:\n",
    "    def __init__(self, name, species, weight, sound):\n",
    "        self.name = name\n",
    "        self.species = species\n",
    "        self.weight = weight\n",
    "        self.sound = sound\n",
    "    \n",
    "    def print_description(self):\n",
    "        print(f\"Animal info: name: {self.name}, species/breed: {self.species}, {self.weight} lbs, says: '{self.sound}'\")"
   ]
  },
  {
   "cell_type": "code",
   "execution_count": null,
   "id": "ddeec82a",
   "metadata": {},
   "outputs": [],
   "source": [
    "lion = Animal(\"Simba\", \"Lion\", 400, \"rawr\")\n",
    "dog = Animal(\"Spot\", \"Dalmatian\", 50, \"woof\")\n",
    "cat = Animal(\"Toast\", \"Domestic cat\", 9, \"meh\")\n",
    "fox = Animal(\"Rusty\", \"Red Fox\", 12, \"???\")\n",
    "\n",
    "lion.print_description()\n",
    "dog.print_description()\n",
    "cat.print_description()\n",
    "fox.print_description()"
   ]
  },
  {
   "cell_type": "markdown",
   "id": "1abe8b6e",
   "metadata": {
    "slideshow": {
     "slide_type": "subslide"
    }
   },
   "source": [
    "Great, we have some animals. \n",
    "\n",
    "Now, we have decided to help our friend choose a new pet.\n",
    "\n",
    "They travel by plane a lot. So they need to know if the pet can accompany them.\n",
    "\n",
    "Airlines allow pets up to ~20 pounds in the cabin."
   ]
  },
  {
   "cell_type": "markdown",
   "id": "721435b5",
   "metadata": {
    "slideshow": {
     "slide_type": "subslide"
    }
   },
   "source": [
    "We can add some functionality to our Animal class to help us filter animals that can travel:"
   ]
  },
  {
   "cell_type": "code",
   "execution_count": null,
   "id": "072b63fe",
   "metadata": {},
   "outputs": [],
   "source": [
    "class Animal:\n",
    "    def __init__(self, name, species, weight, sound):\n",
    "        self.name = name\n",
    "        self.species = species\n",
    "        self.weight = weight\n",
    "        self.sound = sound\n",
    "    \n",
    "    def print_description(self):\n",
    "        print(f\"Animal info: name: {self.name}, species/breed: {self.species}, {self.weight} lbs, says: '{self.sound}'\")\n",
    "    \n",
    "    def can_travel_by_plane(self):\n",
    "        return self.weight <= 20"
   ]
  },
  {
   "cell_type": "code",
   "execution_count": null,
   "id": "a847e86c",
   "metadata": {
    "slideshow": {
     "slide_type": "subslide"
    }
   },
   "outputs": [],
   "source": [
    "lion = Animal(\"Simba\", \"Lion\", 400, \"rawr\")\n",
    "dog = Animal(\"Spot\", \"Dalmatian\", 50, \"woof\")\n",
    "cat = Animal(\"Toast\", \"Domestic cat\", 9, \"meh\")\n",
    "fox = Animal(\"Rusty\", \"Red Fox\", 12, \"???\")\n",
    "  \n",
    "all_animals = [ lion, dog, cat, fox]\n",
    "\n",
    "for animal in all_animals:\n",
    "    if animal.can_travel_by_plane():\n",
    "        print(\"I found an animal for you!\")\n",
    "        animal.print_description()"
   ]
  },
  {
   "cell_type": "markdown",
   "id": "29506eec",
   "metadata": {
    "slideshow": {
     "slide_type": "slide"
    }
   },
   "source": [
    "# Announcements\n",
    "\n",
    "* PS9 due Wednesday, 12/11, 11:59pm - **no late days allowed**\n",
    "* Quiz 10 Wednesday\n",
    "* Quiz corrections are due Friday, 12/13, **no exceptions**"
   ]
  },
  {
   "cell_type": "markdown",
   "id": "c9b7b696",
   "metadata": {
    "slideshow": {
     "slide_type": "slide"
    }
   },
   "source": [
    "## Types\n",
    "\n",
    "Each class definition creates a new **type** - just like `int`, `str`, `list`, `dict`, etc are types.\n",
    "\n",
    "You can check the type of a variable with the built-in `isinstance()` function:"
   ]
  },
  {
   "cell_type": "code",
   "execution_count": null,
   "id": "afbd8fcc",
   "metadata": {},
   "outputs": [],
   "source": [
    "isinstance(1, int)"
   ]
  },
  {
   "cell_type": "code",
   "execution_count": null,
   "id": "67c91f72",
   "metadata": {},
   "outputs": [],
   "source": [
    "isinstance(\"hi\", str)"
   ]
  },
  {
   "cell_type": "code",
   "execution_count": null,
   "id": "dc8e3640",
   "metadata": {},
   "outputs": [],
   "source": [
    "class Stuff:\n",
    "    def __init__(self, amount):\n",
    "        self.amount = amount\n",
    "        \n",
    "s = Stuff(10)\n",
    "isinstance(s, Stuff)"
   ]
  },
  {
   "cell_type": "markdown",
   "id": "67e9c15f",
   "metadata": {
    "slideshow": {
     "slide_type": "subslide"
    }
   },
   "source": [
    "You can also get the type of an object with `type()`:"
   ]
  },
  {
   "cell_type": "code",
   "execution_count": null,
   "id": "d23af553",
   "metadata": {},
   "outputs": [],
   "source": [
    "type(1)"
   ]
  },
  {
   "cell_type": "code",
   "execution_count": null,
   "id": "1718780d",
   "metadata": {},
   "outputs": [],
   "source": [
    "type(\"hi\")"
   ]
  },
  {
   "cell_type": "code",
   "execution_count": null,
   "id": "663158bc",
   "metadata": {},
   "outputs": [],
   "source": [
    "s = Stuff(10)\n",
    "type(s)"
   ]
  },
  {
   "cell_type": "markdown",
   "id": "5c77ebae",
   "metadata": {
    "slideshow": {
     "slide_type": "subslide"
    }
   },
   "source": [
    "## References\n",
    "\n",
    "[PythonTutor link](https://pythontutor.com/render.html#code=class%20BankAccount%3A%0A%20%20%20%20def%20__init__%28self,%20initial_balance%29%3A%0A%20%20%20%20%20%20%20%20self.balance%20%3D%20initial_balance%0A%20%20%20%20%0A%20%20%20%20def%20deposit%28self,%20amount%29%3A%0A%20%20%20%20%20%20%20%20self.balance%20%2B%3D%20amount%0A%0Ab%20%3D%20BankAccount%28100%29%0Ac%20%3D%20b%0Ab.deposit%28200%29%0Aprint%28%22b%3A%20%22%20%2B%20str%28b.balance%29%29%0Aprint%28%22c%3A%20%22%20%2B%20str%28c.balance%29%29&cumulative=false&curInstr=0&heapPrimitives=nevernest&mode=display&origin=opt-frontend.js&py=3&rawInputLstJSON=%5B%5D&textReferences=false)\n",
    "\n",
    "Class instances behave just like lists, dictionaries, and other mutable objects. Variables **refer** to the instances, and any mutations of the instances will be seen by all variables referring to the same object."
   ]
  },
  {
   "cell_type": "code",
   "execution_count": null,
   "id": "0e9e9ada",
   "metadata": {
    "slideshow": {
     "slide_type": "subslide"
    }
   },
   "outputs": [],
   "source": [
    "class Animal:\n",
    "    def __init__(self, name, species, weight, sound):\n",
    "        self.name = name\n",
    "        self.species = species\n",
    "        self.weight = weight\n",
    "        self.sound = sound\n",
    "    \n",
    "    def print_description(self):\n",
    "        print(f\"Animal info: name: {self.name}, species/breed: {self.species}, {self.weight} lbs, says: '{self.sound}'\")\n",
    "    \n",
    "    def can_travel_by_plane(self):\n",
    "        return self.weight <= 20"
   ]
  },
  {
   "cell_type": "code",
   "execution_count": null,
   "id": "9ea1bd4d",
   "metadata": {
    "slideshow": {
     "slide_type": "subslide"
    }
   },
   "outputs": [],
   "source": [
    "cat1 = Animal(\"Toast\", \"Domestic cat\", 9, \"meh\")\n",
    "cat2 = cat1\n",
    "cat1.weight = 15\n",
    "print(f\"{cat1.weight=} {cat2.weight=}\")"
   ]
  },
  {
   "cell_type": "markdown",
   "id": "a6de7fda",
   "metadata": {},
   "source": [
    "# When to use a class, and why\n",
    "\n",
    "Classes can add structure to your programs.\n",
    "\n",
    "If you have a bunch of related data and functionality, grouping them together on a class may improve your code.\n",
    "\n",
    "If you are ever dealing with multiple \"parallel\" lists, where entries at index `i` in each list are all related somehow, then grouping that data together on a class may improve your code."
   ]
  },
  {
   "cell_type": "markdown",
   "id": "887507ed",
   "metadata": {},
   "source": [
    "# When it's ok to not worry about classes\n",
    "\n",
    "Coming out of Cosi-10a, you can almost always ignore classes (except for PS9)!\n",
    "\n",
    "Classes aren't necessary for the types and sizes of problems we've worked on in this class.\n",
    "\n",
    "\n",
    "For larger or more complex programs, they become critical in order to keep code organized.\n",
    "\n",
    "Some languages also require the use of classes (e.g. Java)"
   ]
  },
  {
   "cell_type": "markdown",
   "id": "5bb7ca70",
   "metadata": {
    "slideshow": {
     "slide_type": "slide"
    }
   },
   "source": [
    "# Best practices\n",
    "\n",
    "Classes should:\n",
    "* Focus on modeling a single thing\n",
    "* Make code that uses them clearer, not more confusing\n",
    "* Hide complexity"
   ]
  },
  {
   "cell_type": "markdown",
   "id": "c31396b0",
   "metadata": {
    "slideshow": {
     "slide_type": "notes"
    }
   },
   "source": [
    "# More Classes\n",
    "\n",
    "If you continue on to Cosi-12b, you'll learn a lot more about classes, why they're important, and the more advanced programming patterns that they unlock."
   ]
  },
  {
   "cell_type": "markdown",
   "id": "cbbf2e8b",
   "metadata": {
    "slideshow": {
     "slide_type": "slide"
    }
   },
   "source": [
    "## Exercise: Country Info\n",
    "\n",
    "[Open the class exercises Codespace](https://codespaces.new/brandeis-cosi-10a/class-exercises?quickstart=1)\n",
    "\n",
    "Open the file: `exercises/10/01_country_data`, follow the instructions.\n",
    "* If you don't see this folder: Open the file: `get_exercises.sh`, click the \"Run\" button at the top right of the editor.\n"
   ]
  }
 ],
 "metadata": {
  "celltoolbar": "Slideshow",
  "kernelspec": {
   "display_name": "Python 3 (ipykernel)",
   "language": "python",
   "name": "python3"
  },
  "language_info": {
   "codemirror_mode": {
    "name": "ipython",
    "version": 3
   },
   "file_extension": ".py",
   "mimetype": "text/x-python",
   "name": "python",
   "nbconvert_exporter": "python",
   "pygments_lexer": "ipython3",
   "version": "3.9.6"
  }
 },
 "nbformat": 4,
 "nbformat_minor": 5
}
