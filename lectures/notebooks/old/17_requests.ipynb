{
 "cells": [
  {
   "cell_type": "markdown",
   "id": "1ee8a1d2",
   "metadata": {
    "slideshow": {
     "slide_type": "slide"
    }
   },
   "source": [
    "# Working With Data From the Internet\n",
    "\n",
    "<style>\n",
    "section.present > section.present { \n",
    "    max-height: 90%; \n",
    "    overflow-y: scroll;\n",
    "}\n",
    "</style>\n",
    "\n",
    "<small><a href=\"https://colab.research.google.com/github/brandeis-jdelfino/cosi-10a/blob/main/lectures/notebooks/17_requests.ipynb\">Link to interactive slides on Google Colab</a></small>"
   ]
  },
  {
   "cell_type": "markdown",
   "id": "323e5a69",
   "metadata": {
    "slideshow": {
     "slide_type": "slide"
    }
   },
   "source": [
    "# Where is the International Space Station?"
   ]
  },
  {
   "cell_type": "markdown",
   "id": "3a356bcb",
   "metadata": {
    "slideshow": {
     "slide_type": "fragment"
    }
   },
   "source": [
    "# [Right here](http://api.open-notify.org/iss-now.json)"
   ]
  },
  {
   "cell_type": "markdown",
   "id": "3439a717",
   "metadata": {
    "slideshow": {
     "slide_type": "fragment"
    }
   },
   "source": [
    "Does that data format look familiar?"
   ]
  },
  {
   "cell_type": "markdown",
   "id": "01a94f7b",
   "metadata": {
    "slideshow": {
     "slide_type": "fragment"
    }
   },
   "source": [
    "It's JSON!\n",
    "\n",
    "JSON is a very commonly used data exchange format."
   ]
  },
  {
   "cell_type": "markdown",
   "id": "761936e1",
   "metadata": {
    "slideshow": {
     "slide_type": "slide"
    }
   },
   "source": [
    "## Requests library\n",
    "\n",
    "We can fetch and work with this data from Python."
   ]
  },
  {
   "cell_type": "code",
   "execution_count": null,
   "id": "571661ff",
   "metadata": {
    "execution": {
     "iopub.execute_input": "2024-04-22T23:14:36.957516Z",
     "iopub.status.busy": "2024-04-22T23:14:36.956986Z",
     "iopub.status.idle": "2024-04-22T23:14:37.390573Z",
     "shell.execute_reply": "2024-04-22T23:14:37.389688Z"
    }
   },
   "outputs": [],
   "source": [
    "import requests\n",
    "data = requests.get('http://api.open-notify.org/iss-now.json').json()\n",
    "print(data)\n",
    "print(f\"The ISS is at lat: {data['iss_position']['latitude']}, long: {data['iss_position']['longitude']}\")"
   ]
  },
  {
   "cell_type": "markdown",
   "id": "13b0aa9b",
   "metadata": {
    "slideshow": {
     "slide_type": "fragment"
    }
   },
   "source": [
    "This code fetches that JSON string, parses it into Python objects, then prints out the latitude/longitude."
   ]
  },
  {
   "cell_type": "markdown",
   "id": "71c2e3a5",
   "metadata": {
    "slideshow": {
     "slide_type": "slide"
    }
   },
   "source": [
    "## Networking on the Internet\n",
    "\n",
    "Let's dig into what it means to \"send a request\" over the internet.\n",
    "\n",
    "This is a 30,000 foot overview - many details are glossed over."
   ]
  },
  {
   "cell_type": "markdown",
   "id": "bea589fa",
   "metadata": {
    "slideshow": {
     "slide_type": "subslide"
    }
   },
   "source": [
    "## Mailing letters\n",
    "\n",
    "We'll use an analogy: sending a request over the internet is like mailing someone a letter.\n",
    "\n",
    "A letter is sent to an address, and is contained inside an envelope."
   ]
  },
  {
   "cell_type": "markdown",
   "id": "56d41284",
   "metadata": {
    "slideshow": {
     "slide_type": "fragment"
    }
   },
   "source": [
    "A URL is like the address the letter is being mailed to."
   ]
  },
  {
   "cell_type": "markdown",
   "id": "365bbbbd",
   "metadata": {
    "slideshow": {
     "slide_type": "subslide"
    }
   },
   "source": [
    "## Anatomy of a URL\n",
    "\n",
    "`http://video.google.com/videoplay?docid=1234&hl=en`\n",
    "\n",
    "* `http://`: The \"protocol\", or \"scheme\"\n",
    "   * This specifies the format of the request\n",
    "* `video.google.com`: The \"domain name\", or a unique name for a location on the internet\n",
    "   * Starts after the protocol, and after `://`\n",
    "* `videoplay`: The \"path\", or the name of the resource being accessed\n",
    "   * Starts after the end of the domain, and after a `/`\n",
    "* `docid=1234&hl=en`: The \"query\", or parameters related to a request\n",
    "   * Starts at the end of the path, and after a `?`\n",
    "   * `docid=1234` and `hl=en` are each individual \"parameters\", and parameters are always separated by `&`"
   ]
  },
  {
   "cell_type": "markdown",
   "id": "240b3698",
   "metadata": {
    "slideshow": {
     "slide_type": "subslide"
    }
   },
   "source": [
    "## Anatomy of our URL\n",
    "\n",
    "`http://api.open-notify.org/iss-now.json`\n",
    "\n",
    "* `http://`: protocol\n",
    "* `api.open-notify.org`: domain\n",
    "* `iss-now.json`: path"
   ]
  },
  {
   "cell_type": "markdown",
   "id": "146f507f",
   "metadata": {
    "slideshow": {
     "slide_type": "subslide"
    }
   },
   "source": [
    "## IP Addresses and Domain Names\n",
    "\n",
    "Every computer connected to the internet has a unique IP address. \n",
    "\n",
    "* They look like this: `4.36.195.10`\n",
    "\n",
    "Every domain name has one or more IP addresses associated with it.\n",
    "\n",
    "* brandeis.edu's IP address is: `76.223.22.0`\n",
    "\n",
    "The first step of sending a request is to translate the domain to an IP address.\n"
   ]
  },
  {
   "cell_type": "markdown",
   "id": "22801ff8",
   "metadata": {
    "slideshow": {
     "slide_type": "subslide"
    }
   },
   "source": [
    "## IP addresses are like formal postal addresses\n",
    "\n",
    "A domain is like the name of a location that you understand, like \"Joe's house\" or \"the park around the corner from my house\".\n",
    "\n",
    "An IP address is like the actual address of the house or park, including all the necessary details, such as postal code."
   ]
  },
  {
   "cell_type": "markdown",
   "id": "8875c0de",
   "metadata": {
    "slideshow": {
     "slide_type": "subslide"
    }
   },
   "source": [
    "## DNS\n",
    "\n",
    "**DNS** (Domain Name System) is like a big dictionary that maps from domain name to IP address.\n",
    "\n",
    "The owner of a domain has the ability to specify which IP address(es) a domain maps to.\n",
    "\n",
    "DNS records are publicly accessible: https://traceroute-online.com/check-dns-records/\n",
    "\n",
    "All routing of traffic on the internet is done using IP addresses."
   ]
  },
  {
   "cell_type": "markdown",
   "id": "edc283b8",
   "metadata": {
    "slideshow": {
     "slide_type": "subslide"
    }
   },
   "source": [
    "## DNS is like an address book\n",
    "\n",
    "DNS is like your address book - it translates from a \"place name\" to a physical address that the postal service recognizes.\n",
    "\n",
    "You can't mail a letter to \"Joe's house\", but you can mail a letter to \"123 Python Lane, Boston MA, 02118\" (not my real address)."
   ]
  },
  {
   "cell_type": "markdown",
   "id": "e5897463",
   "metadata": {
    "slideshow": {
     "slide_type": "subslide"
    }
   },
   "source": [
    "## IP Routing\n",
    "\n",
    "Requests will typically be passed between many servers on the way to arriving at the specified IP address. \n",
    "\n",
    "How this routing works is beyond the scope of this lecture, but we can look up the route a request takes: https://traceroute-online.com/"
   ]
  },
  {
   "cell_type": "markdown",
   "id": "0eef0526",
   "metadata": {
    "slideshow": {
     "slide_type": "subslide"
    }
   },
   "source": [
    "## IP Routing is like the postal network \n",
    "\n",
    "IP routing is like the network of trucks, planes, trains, etc that are used to get your letter to its final destination. \n",
    "\n",
    "Your letter might stop at multiple other post offices along the way.\n",
    "\n",
    "No one along the way knows or cares what is **in** your letter. They're just delivering an envelope.\n",
    "\n",
    "You also don't care exactly what route your letter takes, as long as it gets to its destination."
   ]
  },
  {
   "cell_type": "markdown",
   "id": "db7ec920",
   "metadata": {
    "slideshow": {
     "slide_type": "subslide"
    }
   },
   "source": [
    "## Load balancing\n",
    "\n",
    "Eventually, your request ends up at a server with the IP address associated with the domain you requested.\n",
    "\n",
    "Those first servers are often \"load balancers\", which route requests to other servers, which can actually respond to the requests.\n",
    "\n",
    "This routing is different than IP routing, but we don't need to worry about the difference.\n",
    "\n",
    "Eventually, the request is routed to a server that can generate a response."
   ]
  },
  {
   "cell_type": "markdown",
   "id": "d728cbff",
   "metadata": {
    "slideshow": {
     "slide_type": "subslide"
    }
   },
   "source": [
    "## Load balancing is like a campus mail room\n",
    "\n",
    "If you mail a letter to me at my campus address, the postal service delivers it to the mail room. \n",
    "\n",
    "From there, the mail room staff on campus routes the letter to my mail box.\n",
    "\n",
    "This is similar to the role of a load balancer."
   ]
  },
  {
   "cell_type": "markdown",
   "id": "d622100f",
   "metadata": {
    "slideshow": {
     "slide_type": "subslide"
    }
   },
   "source": [
    "## HTTP Requests\n",
    "\n",
    "Our protocol is \"http\", which means we are making an \"HTTP request\"\n",
    "\n",
    "**HTTP** stands for \"HyperText Transport Protocol\"\n",
    "\n",
    "It is the protocol (agreed upon format) for the majority of requests on the internet.\n",
    "\n",
    "Other common protocols include: \n",
    "* `ftp` (file transfer)\n",
    "* `smtp` and `imap` (email)\n",
    "* `udp` (real time communication)"
   ]
  },
  {
   "cell_type": "markdown",
   "id": "1eea5d80",
   "metadata": {
    "slideshow": {
     "slide_type": "subslide"
    }
   },
   "source": [
    "## HTTP is the language in which your letter is written\n",
    "\n",
    "It doesn't have anything to do with how the letter is routed or handled by the postal service, but it is important that your recipient knows how to interpret the letter we wrote."
   ]
  },
  {
   "cell_type": "markdown",
   "id": "5ef12740",
   "metadata": {
    "slideshow": {
     "slide_type": "subslide"
    }
   },
   "source": [
    "## Anatomy of an HTTP Request\n",
    "\n",
    "An HTTP request is just a blob of text describing our request.\n",
    "\n",
    "It consists of 3 parts:\n",
    "1. Request line\n",
    "   * Specifies the HTTP method, and the resource being requested\n",
    "2. Headers (Optional)\n",
    "   * Directives on how to handle the request\n",
    "3. Body (optional)\n",
    "   * The payload of the message, if applicable"
   ]
  },
  {
   "cell_type": "markdown",
   "id": "825debc2",
   "metadata": {
    "slideshow": {
     "slide_type": "subslide"
    }
   },
   "source": [
    "Here's what our HTTP request looks like when sent from a browser. It has 8 headers and no body:\n",
    "\n",
    "```\n",
    "GET /iss-now.json HTTP/1.1\n",
    "Accept: text/html,application/xhtml+xml,[...]\n",
    "Accept-Encoding: gzip, deflate\n",
    "Accept-Language: en-US,en;q=0.9\n",
    "Cache-Control: max-age=0\n",
    "Connection: keep-alive\n",
    "Host: api.open-notify.org\n",
    "Upgrade-Insecure-Requests: 1\n",
    "User-Agent: Mozilla/5.0 (Macintosh; Intel Mac OS X 10_15_7) [...]\n",
    "```"
   ]
  },
  {
   "cell_type": "markdown",
   "id": "3e296b98",
   "metadata": {
    "slideshow": {
     "slide_type": "subslide"
    }
   },
   "source": [
    "## HTTP Methods\n",
    "\n",
    "HTTP requests always have a \"method\".\n",
    "\n",
    "There are several methods, but the 2 most common are \"GET\" and \"POST\".\n",
    "\n",
    "**GET** requests are typically used to retrieve data.\n",
    "\n",
    "**POST** requests are typically used to send data."
   ]
  },
  {
   "cell_type": "markdown",
   "id": "aa0c87b9",
   "metadata": {
    "slideshow": {
     "slide_type": "subslide"
    }
   },
   "source": [
    "## Reading and Responding to the Letter\n",
    "\n",
    "The letter has been delivered to a person who should be able to understand it.\n",
    "\n",
    "That person will know how to interpret the contents, and how to respond.\n",
    "\n",
    "That person might still call on other people (servers) to help create a response.\n",
    "\n",
    "The response will be returned in the same language and format (protocol) as the original letter."
   ]
  },
  {
   "cell_type": "markdown",
   "id": "889d5a2a",
   "metadata": {
    "slideshow": {
     "slide_type": "subslide"
    }
   },
   "source": [
    "## HTTP Responses\n",
    "\n",
    "HTTP responses have status codes, headers, and bodies.\n",
    "\n",
    "Wikipedia has a [full list](https://en.wikipedia.org/wiki/List_of_HTTP_status_codes) of status codes. Common codes are:\n",
    "* `200` - success\n",
    "* `301` / `302` - permanent / temporary redirect\n",
    "* `404` - not found\n",
    "* `500` - server error"
   ]
  },
  {
   "cell_type": "markdown",
   "id": "9a3da29b",
   "metadata": {
    "slideshow": {
     "slide_type": "subslide"
    }
   },
   "source": [
    "Here's what our HTTP response looks like when received in the browser. It has 6 headers and a body containing a JSON string:\n",
    "\n",
    "```\n",
    "HTTP/1.1 200 OK\n",
    "Server: nginx/1.10.3\n",
    "Date: Wed, 25 Oct 2023 03:10:09 GMT\n",
    "Content-Type: application/json\n",
    "Content-Length: 113\n",
    "Connection: keep-alive\n",
    "access-control-allow-origin: *\n",
    "\n",
    "{\"timestamp\": 1698203409, \"iss_position\": {\"latitude\": \"35.2661\", \"longitude\": \"110.0297\"}, \"message\": \"success\"}\n",
    "```"
   ]
  },
  {
   "cell_type": "markdown",
   "id": "ee3e08b6",
   "metadata": {
    "slideshow": {
     "slide_type": "subslide"
    }
   },
   "source": [
    "## Letter Responses\n",
    "\n",
    "* `200` is like successfully receiving a reply letter.\n",
    "* `301` / `302` are a bit like forwarding mail to another address - the postal service handles this for you; similarly most HTTP clients will also handle it for you.\n",
    "* `404` is like trying to send a letter to an unknown address, and having it returned\n",
    "* `500` is like the box of mail containing your letter falling off the truck and getting lost\n",
    "\n",
    "The body of the response is like the letter you receive in response to your inquiry."
   ]
  },
  {
   "cell_type": "markdown",
   "id": "6cd3eda6",
   "metadata": {
    "slideshow": {
     "slide_type": "subslide"
    }
   },
   "source": [
    "## All the terminology together\n",
    "\n",
    "`requests.get('http://api.open-notify.org/iss-now.json')`\n",
    "\n",
    "We made an HTTP request to the domain `api.open-notify.org`, asking it to `GET` the data for the resource `iss-now.json`.\n",
    "\n",
    "It returned a response with a `200` (success) status code, and a JSON object in the body."
   ]
  },
  {
   "cell_type": "markdown",
   "id": "722398e5",
   "metadata": {
    "slideshow": {
     "slide_type": "slide"
    }
   },
   "source": [
    "## Back to the `requests` library...\n",
    "\n",
    "`requests.get()` returns a `Response` object, which has many fields: [Response](https://requests.readthedocs.io/en/latest/api/#requests.Response)"
   ]
  },
  {
   "cell_type": "code",
   "execution_count": null,
   "id": "8c62e1bc",
   "metadata": {
    "execution": {
     "iopub.execute_input": "2024-04-22T23:14:37.399072Z",
     "iopub.status.busy": "2024-04-22T23:14:37.398646Z",
     "iopub.status.idle": "2024-04-22T23:14:37.556883Z",
     "shell.execute_reply": "2024-04-22T23:14:37.555602Z"
    }
   },
   "outputs": [],
   "source": [
    "response = requests.get('http://api.open-notify.org/iss-now.json')\n",
    "print(response.status_code)\n",
    "print()\n",
    "print(response.headers)\n",
    "print()\n",
    "print(response.text)"
   ]
  },
  {
   "cell_type": "markdown",
   "id": "60b04c87",
   "metadata": {
    "slideshow": {
     "slide_type": "subslide"
    }
   },
   "source": [
    "We can use the handy `json()` method, which attempts to parse the body of the response as JSON:"
   ]
  },
  {
   "cell_type": "code",
   "execution_count": null,
   "id": "c8973ea2",
   "metadata": {
    "execution": {
     "iopub.execute_input": "2024-04-22T23:14:37.563479Z",
     "iopub.status.busy": "2024-04-22T23:14:37.563058Z",
     "iopub.status.idle": "2024-04-22T23:14:37.571378Z",
     "shell.execute_reply": "2024-04-22T23:14:37.569403Z"
    }
   },
   "outputs": [],
   "source": [
    "print(type(response.json()))\n",
    "print(response.json())"
   ]
  },
  {
   "cell_type": "markdown",
   "id": "39583d0c",
   "metadata": {
    "slideshow": {
     "slide_type": "slide"
    }
   },
   "source": [
    "## All this networking stuff is great...\n",
    "\n",
    "But I really just want to know what part of the world the ISS is over, and I can't translate latitude/longitudes in my head."
   ]
  },
  {
   "cell_type": "markdown",
   "id": "1aca680a",
   "metadata": {
    "slideshow": {
     "slide_type": "fragment"
    }
   },
   "source": [
    "Let's use another free service, [geocode.xyz/api](http://geocode.xyz/api)"
   ]
  },
  {
   "cell_type": "markdown",
   "id": "bf7b036f",
   "metadata": {
    "slideshow": {
     "slide_type": "subslide"
    }
   },
   "source": [
    "It has several options, but we want the simple one: turn a lat/long into an address."
   ]
  },
  {
   "cell_type": "code",
   "execution_count": null,
   "id": "a81472fa",
   "metadata": {
    "execution": {
     "iopub.execute_input": "2024-04-22T23:14:37.579706Z",
     "iopub.status.busy": "2024-04-22T23:14:37.579131Z",
     "iopub.status.idle": "2024-04-22T23:14:38.648348Z",
     "shell.execute_reply": "2024-04-22T23:14:38.647525Z"
    }
   },
   "outputs": [],
   "source": [
    "import json\n",
    "response = requests.get('http://api.open-notify.org/iss-now.json')\n",
    "response_json = response.json()\n",
    "\n",
    "pos = response_json['iss_position']\n",
    "print(pos)\n",
    "\n",
    "geocode_url = f\"https://geocode.xyz/{pos['latitude']},{pos['longitude']}?json=1\"\n",
    "\n",
    "print(f\"Reverse geocoding: {pos=} with {geocode_url=}\")\n",
    "geolocate_response = requests.get(geocode_url)\n",
    "\n",
    "print(geolocate_response.status_code)\n",
    "#print(geolocate_response.json())\n",
    "\n",
    "#pretty print:\n",
    "print(json.dumps(geolocate_response.json(), indent=2, ensure_ascii=False))"
   ]
  },
  {
   "cell_type": "markdown",
   "id": "4698ff42",
   "metadata": {
    "slideshow": {
     "slide_type": "slide"
    }
   },
   "source": [
    "## Meteorites\n",
    "\n",
    "[JSON Meteorite data from NASA](https://data.nasa.gov/resource/y77d-th95.json)\n",
    "\n",
    "[Dataset description on NASA's Open Data Portal](https://data.nasa.gov/Space-Science/Meteorite-Landings/gh4g-9sfh)"
   ]
  },
  {
   "cell_type": "code",
   "execution_count": null,
   "id": "398c6e57",
   "metadata": {
    "execution": {
     "iopub.execute_input": "2024-04-22T23:14:38.651605Z",
     "iopub.status.busy": "2024-04-22T23:14:38.651339Z",
     "iopub.status.idle": "2024-04-22T23:14:39.337898Z",
     "shell.execute_reply": "2024-04-22T23:14:39.335318Z"
    },
    "slideshow": {
     "slide_type": "subslide"
    }
   },
   "outputs": [],
   "source": [
    "import requests\n",
    "meteorites = requests.get('https://data.nasa.gov/resource/gh4g-9sfh.json?').json()\n",
    "print(type(meteorites))"
   ]
  },
  {
   "cell_type": "code",
   "execution_count": null,
   "id": "d570093b",
   "metadata": {
    "execution": {
     "iopub.execute_input": "2024-04-22T23:14:39.346036Z",
     "iopub.status.busy": "2024-04-22T23:14:39.345609Z",
     "iopub.status.idle": "2024-04-22T23:14:39.359688Z",
     "shell.execute_reply": "2024-04-22T23:14:39.353974Z"
    },
    "slideshow": {
     "slide_type": "-"
    }
   },
   "outputs": [],
   "source": [
    "print(len(meteorites))"
   ]
  },
  {
   "cell_type": "markdown",
   "id": "53adb364",
   "metadata": {
    "slideshow": {
     "slide_type": "fragment"
    }
   },
   "source": [
    "Hm, exactly 1000. Seems suspicious - maybe we aren't getting all the data."
   ]
  },
  {
   "cell_type": "markdown",
   "id": "084690cf",
   "metadata": {
    "slideshow": {
     "slide_type": "subslide"
    }
   },
   "source": [
    "This required some digging, but NASA's datasets are powered by the \"Socrata Data API\". Here's [some documentation](https://dev.socrata.com/foundry/data.nasa.gov/gh4g-9sfh). \n",
    "\n",
    "A little Google searching unearths this documentation about how to ask for more results:\n",
    "[Information on paging with Socrata Data API](https://dev.socrata.com/docs/paging.html)"
   ]
  },
  {
   "cell_type": "code",
   "execution_count": null,
   "id": "5aafa81b",
   "metadata": {
    "execution": {
     "iopub.execute_input": "2024-04-22T23:14:39.369090Z",
     "iopub.status.busy": "2024-04-22T23:14:39.367794Z",
     "iopub.status.idle": "2024-04-22T23:14:40.907937Z",
     "shell.execute_reply": "2024-04-22T23:14:40.907205Z"
    },
    "slideshow": {
     "slide_type": "subslide"
    }
   },
   "outputs": [],
   "source": [
    "import requests\n",
    "meteorites = requests.get('https://data.nasa.gov/resource/gh4g-9sfh.json?$limit=50000').json()\n",
    "print(type(meteorites))"
   ]
  },
  {
   "cell_type": "code",
   "execution_count": null,
   "id": "580aa2f6",
   "metadata": {
    "execution": {
     "iopub.execute_input": "2024-04-22T23:14:40.911803Z",
     "iopub.status.busy": "2024-04-22T23:14:40.911079Z",
     "iopub.status.idle": "2024-04-22T23:14:40.916070Z",
     "shell.execute_reply": "2024-04-22T23:14:40.915299Z"
    }
   },
   "outputs": [],
   "source": [
    "print(len(meteorites))"
   ]
  },
  {
   "cell_type": "code",
   "execution_count": null,
   "id": "c94725b4",
   "metadata": {
    "execution": {
     "iopub.execute_input": "2024-04-22T23:14:40.919891Z",
     "iopub.status.busy": "2024-04-22T23:14:40.919567Z",
     "iopub.status.idle": "2024-04-22T23:14:40.924022Z",
     "shell.execute_reply": "2024-04-22T23:14:40.923222Z"
    }
   },
   "outputs": [],
   "source": [
    "print(meteorites[0])"
   ]
  },
  {
   "cell_type": "markdown",
   "id": "e44c2519",
   "metadata": {
    "slideshow": {
     "slide_type": "subslide"
    }
   },
   "source": [
    "What can we do with this data?"
   ]
  },
  {
   "cell_type": "markdown",
   "id": "3271e05f",
   "metadata": {
    "slideshow": {
     "slide_type": "subslide"
    }
   },
   "source": [
    "List all meteorites above a certain size."
   ]
  },
  {
   "cell_type": "code",
   "execution_count": null,
   "id": "92a7f3d6",
   "metadata": {
    "execution": {
     "iopub.execute_input": "2024-04-22T23:14:40.927781Z",
     "iopub.status.busy": "2024-04-22T23:14:40.927472Z",
     "iopub.status.idle": "2024-04-22T23:14:40.931594Z",
     "shell.execute_reply": "2024-04-22T23:14:40.930828Z"
    }
   },
   "outputs": [],
   "source": [
    "def list_bigger_than(mites, min_mass):\n",
    "    results = []\n",
    "    for m in mites:\n",
    "        if m['mass'] > min_mass:\n",
    "            results.append(m)\n",
    "    return results"
   ]
  },
  {
   "cell_type": "code",
   "execution_count": null,
   "id": "24c4f9c9",
   "metadata": {
    "execution": {
     "iopub.execute_input": "2024-04-22T23:14:40.935152Z",
     "iopub.status.busy": "2024-04-22T23:14:40.934840Z",
     "iopub.status.idle": "2024-04-22T23:14:41.290703Z",
     "shell.execute_reply": "2024-04-22T23:14:41.289951Z"
    },
    "tags": [
     "raises-exception"
    ]
   },
   "outputs": [],
   "source": [
    "list_bigger_than(meteorites, 10000000)"
   ]
  },
  {
   "cell_type": "markdown",
   "id": "5562ab71",
   "metadata": {
    "slideshow": {
     "slide_type": "fragment"
    }
   },
   "source": [
    "Oh, right, mass is a string in the JSON. We need to convert it."
   ]
  },
  {
   "cell_type": "code",
   "execution_count": null,
   "id": "fba55f88",
   "metadata": {
    "execution": {
     "iopub.execute_input": "2024-04-22T23:14:41.295454Z",
     "iopub.status.busy": "2024-04-22T23:14:41.295156Z",
     "iopub.status.idle": "2024-04-22T23:14:41.299018Z",
     "shell.execute_reply": "2024-04-22T23:14:41.298327Z"
    },
    "slideshow": {
     "slide_type": "subslide"
    }
   },
   "outputs": [],
   "source": [
    "def list_bigger_than(mites, min_mass):\n",
    "    results = []\n",
    "    for m in mites:\n",
    "        if float(m['mass']) > min_mass:\n",
    "            results.append(m)\n",
    "    return results"
   ]
  },
  {
   "cell_type": "code",
   "execution_count": null,
   "id": "134e913d",
   "metadata": {
    "execution": {
     "iopub.execute_input": "2024-04-22T23:14:41.303353Z",
     "iopub.status.busy": "2024-04-22T23:14:41.302902Z",
     "iopub.status.idle": "2024-04-22T23:14:41.326964Z",
     "shell.execute_reply": "2024-04-22T23:14:41.326262Z"
    },
    "tags": [
     "raises-exception"
    ]
   },
   "outputs": [],
   "source": [
    "list_bigger_than(meteorites, 10000000)"
   ]
  },
  {
   "cell_type": "markdown",
   "id": "0d468014",
   "metadata": {
    "slideshow": {
     "slide_type": "fragment"
    }
   },
   "source": [
    "Ok, not all meteorites have a mass... "
   ]
  },
  {
   "cell_type": "code",
   "execution_count": null,
   "id": "2bfefef3",
   "metadata": {
    "execution": {
     "iopub.execute_input": "2024-04-22T23:14:41.330220Z",
     "iopub.status.busy": "2024-04-22T23:14:41.329951Z",
     "iopub.status.idle": "2024-04-22T23:14:41.334127Z",
     "shell.execute_reply": "2024-04-22T23:14:41.333058Z"
    },
    "slideshow": {
     "slide_type": "subslide"
    }
   },
   "outputs": [],
   "source": [
    "def list_bigger_than(mites, min_mass):\n",
    "    results = []\n",
    "    for m in mites:\n",
    "        if float(m.get('mass', 0)) > min_mass:\n",
    "            results.append(m)\n",
    "    return results"
   ]
  },
  {
   "cell_type": "code",
   "execution_count": null,
   "id": "b176306e",
   "metadata": {
    "execution": {
     "iopub.execute_input": "2024-04-22T23:14:41.337690Z",
     "iopub.status.busy": "2024-04-22T23:14:41.337412Z",
     "iopub.status.idle": "2024-04-22T23:14:41.362164Z",
     "shell.execute_reply": "2024-04-22T23:14:41.361579Z"
    },
    "tags": [
     "raises-exception"
    ]
   },
   "outputs": [],
   "source": [
    "list_bigger_than(meteorites, 10000000)"
   ]
  },
  {
   "cell_type": "markdown",
   "id": "55318a94",
   "metadata": {
    "slideshow": {
     "slide_type": "subslide"
    }
   },
   "source": [
    "Let's list all the meteorites in a year. "
   ]
  },
  {
   "cell_type": "code",
   "execution_count": null,
   "id": "acc79c5d",
   "metadata": {
    "execution": {
     "iopub.execute_input": "2024-04-22T23:14:41.365383Z",
     "iopub.status.busy": "2024-04-22T23:14:41.365117Z",
     "iopub.status.idle": "2024-04-22T23:14:41.369262Z",
     "shell.execute_reply": "2024-04-22T23:14:41.368603Z"
    },
    "slideshow": {
     "slide_type": ""
    }
   },
   "outputs": [],
   "source": [
    "def list_in_year(mites, year):\n",
    "    results = []\n",
    "    for m in mites:\n",
    "        if m['year'] == year:\n",
    "            results.append(m)\n",
    "    return results"
   ]
  },
  {
   "cell_type": "code",
   "execution_count": null,
   "id": "d0398c66",
   "metadata": {
    "execution": {
     "iopub.execute_input": "2024-04-22T23:14:41.372317Z",
     "iopub.status.busy": "2024-04-22T23:14:41.372051Z",
     "iopub.status.idle": "2024-04-22T23:14:41.395262Z",
     "shell.execute_reply": "2024-04-22T23:14:41.394450Z"
    }
   },
   "outputs": [],
   "source": [
    "list_in_year(meteorites, 1945)"
   ]
  },
  {
   "cell_type": "markdown",
   "id": "93108420",
   "metadata": {
    "slideshow": {
     "slide_type": "subslide"
    }
   },
   "source": [
    "This data is dirty - not all meteorites have years either. Let's get an idea of how bad the data is."
   ]
  },
  {
   "cell_type": "code",
   "execution_count": null,
   "id": "d5cbbf89",
   "metadata": {
    "execution": {
     "iopub.execute_input": "2024-04-22T23:14:41.398568Z",
     "iopub.status.busy": "2024-04-22T23:14:41.398297Z",
     "iopub.status.idle": "2024-04-22T23:14:41.413208Z",
     "shell.execute_reply": "2024-04-22T23:14:41.412561Z"
    }
   },
   "outputs": [],
   "source": [
    "full_count = len(meteorites)\n",
    "no_mass = 0\n",
    "no_year = 0\n",
    "\n",
    "for m in meteorites:\n",
    "    if 'year' not in m:\n",
    "        no_year += 1\n",
    "\n",
    "for m in meteorites:\n",
    "    if 'mass' not in m:\n",
    "        no_mass += 1\n",
    "\n",
    "print(f\"No year: {no_year} ({no_year / full_count * 100:.2f} %)\")\n",
    "print(f\"No mass: {no_mass} ({no_mass / full_count * 100:.2f} %)\")"
   ]
  },
  {
   "cell_type": "code",
   "execution_count": null,
   "id": "7283c94a",
   "metadata": {
    "execution": {
     "iopub.execute_input": "2024-04-22T23:14:41.416388Z",
     "iopub.status.busy": "2024-04-22T23:14:41.416065Z",
     "iopub.status.idle": "2024-04-22T23:14:41.420451Z",
     "shell.execute_reply": "2024-04-22T23:14:41.419776Z"
    },
    "slideshow": {
     "slide_type": "subslide"
    }
   },
   "outputs": [],
   "source": [
    "def list_in_year(mites, year):\n",
    "    results = []\n",
    "    for m in mites:\n",
    "        if m.get('year', 0) == year:\n",
    "            results.append(m)\n",
    "    return results"
   ]
  },
  {
   "cell_type": "code",
   "execution_count": null,
   "id": "f0708330",
   "metadata": {
    "execution": {
     "iopub.execute_input": "2024-04-22T23:14:41.423411Z",
     "iopub.status.busy": "2024-04-22T23:14:41.423143Z",
     "iopub.status.idle": "2024-04-22T23:14:41.434707Z",
     "shell.execute_reply": "2024-04-22T23:14:41.433741Z"
    }
   },
   "outputs": [],
   "source": [
    "list_in_year(meteorites, 1945)"
   ]
  },
  {
   "cell_type": "markdown",
   "id": "64c51c63",
   "metadata": {
    "slideshow": {
     "slide_type": "fragment"
    }
   },
   "source": [
    "Suspicious..."
   ]
  },
  {
   "cell_type": "code",
   "execution_count": null,
   "id": "4b6037bc",
   "metadata": {
    "execution": {
     "iopub.execute_input": "2024-04-22T23:14:41.437980Z",
     "iopub.status.busy": "2024-04-22T23:14:41.437700Z",
     "iopub.status.idle": "2024-04-22T23:14:41.441480Z",
     "shell.execute_reply": "2024-04-22T23:14:41.440686Z"
    },
    "slideshow": {
     "slide_type": "subslide"
    }
   },
   "outputs": [],
   "source": [
    "print(meteorites[0]['year'])"
   ]
  },
  {
   "cell_type": "markdown",
   "id": "bf2b07e8",
   "metadata": {
    "slideshow": {
     "slide_type": "fragment"
    }
   },
   "source": [
    "Aha, it's formatted as a full timestamp. \n",
    "\n",
    "We could parse the whole date using the [datetime](https://docs.python.org/3/library/datetime.html), but we only care about the year. "
   ]
  },
  {
   "cell_type": "code",
   "execution_count": null,
   "id": "cfc76adf",
   "metadata": {
    "execution": {
     "iopub.execute_input": "2024-04-22T23:14:41.445068Z",
     "iopub.status.busy": "2024-04-22T23:14:41.444780Z",
     "iopub.status.idle": "2024-04-22T23:14:41.448489Z",
     "shell.execute_reply": "2024-04-22T23:14:41.447912Z"
    },
    "slideshow": {
     "slide_type": "subslide"
    }
   },
   "outputs": [],
   "source": [
    "def list_in_year(mites, year):\n",
    "    results = []\n",
    "    for m in mites:\n",
    "        if int(m.get('year', '0000')[:4]) == year:\n",
    "            results.append(m)\n",
    "    return results"
   ]
  },
  {
   "cell_type": "code",
   "execution_count": null,
   "id": "4f58009a",
   "metadata": {
    "execution": {
     "iopub.execute_input": "2024-04-22T23:14:41.452394Z",
     "iopub.status.busy": "2024-04-22T23:14:41.452101Z",
     "iopub.status.idle": "2024-04-22T23:14:41.477218Z",
     "shell.execute_reply": "2024-04-22T23:14:41.476584Z"
    }
   },
   "outputs": [],
   "source": [
    "list_in_year(meteorites, 1945)"
   ]
  },
  {
   "cell_type": "markdown",
   "id": "50822569",
   "metadata": {
    "slideshow": {
     "slide_type": "subslide"
    }
   },
   "source": [
    "Maybe we should clean up all the data at once, rather than doing it every time we try to access something.\n",
    "\n",
    "A class would make sense here:"
   ]
  },
  {
   "cell_type": "code",
   "execution_count": null,
   "id": "71f72734",
   "metadata": {
    "execution": {
     "iopub.execute_input": "2024-04-22T23:14:41.480716Z",
     "iopub.status.busy": "2024-04-22T23:14:41.480433Z",
     "iopub.status.idle": "2024-04-22T23:14:41.484474Z",
     "shell.execute_reply": "2024-04-22T23:14:41.483799Z"
    }
   },
   "outputs": [],
   "source": [
    "class Meteorite:\n",
    "    def __init__(self, name, mass, year, lat, long):\n",
    "        self.name = name\n",
    "        self.mass = mass\n",
    "        self.year = year\n",
    "        self.lat = lat\n",
    "        self.long = long"
   ]
  },
  {
   "cell_type": "markdown",
   "id": "3d0101a8",
   "metadata": {
    "slideshow": {
     "slide_type": "subslide"
    }
   },
   "source": [
    "Now we need code to translate from that JSON to a `Meteorite` instance.\n",
    "\n",
    "It's tempting to add a method to the class that populates the data from JSON. \n",
    "\n",
    "This is bad design - we prefer to fully initialize our instances on creation, rather than create them in an unusable state and then populate them.\n",
    "\n",
    "It's also temping to make the consructor take the JSON directly. \n",
    "\n",
    "This is also bad design - it \"couples\" our class too tightly to this particular representation of the data by making it impossible to create an instance without writing out the JSON."
   ]
  },
  {
   "cell_type": "markdown",
   "id": "1c4d93f2",
   "metadata": {
    "slideshow": {
     "slide_type": "subslide"
    }
   },
   "source": [
    "Instead, we'll write a function that takes in JSON, and returns a new `Meteorite` instance:"
   ]
  },
  {
   "cell_type": "code",
   "execution_count": null,
   "id": "4d6a2706",
   "metadata": {
    "execution": {
     "iopub.execute_input": "2024-04-22T23:14:41.487869Z",
     "iopub.status.busy": "2024-04-22T23:14:41.487593Z",
     "iopub.status.idle": "2024-04-22T23:14:41.492399Z",
     "shell.execute_reply": "2024-04-22T23:14:41.491725Z"
    }
   },
   "outputs": [],
   "source": [
    "def new_mite_from_json(json_data):\n",
    "    if 'name' not in json_data or 'year' not in json_data or 'mass' not in json_data or 'geolocation' not in json_data:\n",
    "        return None\n",
    "\n",
    "    loc = json_data['geolocation']\n",
    "    if 'latitude' not in loc or 'longitude' not in loc:\n",
    "        return None\n",
    "\n",
    "    return Meteorite(\n",
    "        name = json_data['name'],\n",
    "        year = int(json_data['year'][:4]),\n",
    "        mass = float(json_data['mass']),\n",
    "        lat = float(loc['latitude']),\n",
    "        long = float(loc['longitude'])\n",
    "    )"
   ]
  },
  {
   "cell_type": "code",
   "execution_count": null,
   "id": "112b489b",
   "metadata": {
    "execution": {
     "iopub.execute_input": "2024-04-22T23:14:41.495395Z",
     "iopub.status.busy": "2024-04-22T23:14:41.495133Z",
     "iopub.status.idle": "2024-04-22T23:14:41.582707Z",
     "shell.execute_reply": "2024-04-22T23:14:41.582063Z"
    },
    "slideshow": {
     "slide_type": "subslide"
    }
   },
   "outputs": [],
   "source": [
    "mites = []\n",
    "for m in meteorites:\n",
    "    mite = new_mite_from_json(m)\n",
    "    if mite:\n",
    "        mites.append(mite)\n",
    "print(len(mites))"
   ]
  },
  {
   "cell_type": "code",
   "execution_count": null,
   "id": "35f02546",
   "metadata": {
    "execution": {
     "iopub.execute_input": "2024-04-22T23:14:41.585879Z",
     "iopub.status.busy": "2024-04-22T23:14:41.585601Z",
     "iopub.status.idle": "2024-04-22T23:14:41.589472Z",
     "shell.execute_reply": "2024-04-22T23:14:41.588770Z"
    },
    "slideshow": {
     "slide_type": "subslide"
    }
   },
   "outputs": [],
   "source": [
    "def list_bigger_than(mites, min_mass):\n",
    "    results = []\n",
    "    for m in mites:\n",
    "        if m.mass > min_mass:\n",
    "            results.append(m)\n",
    "    return results"
   ]
  },
  {
   "cell_type": "code",
   "execution_count": null,
   "id": "97c15eeb",
   "metadata": {
    "execution": {
     "iopub.execute_input": "2024-04-22T23:14:41.592736Z",
     "iopub.status.busy": "2024-04-22T23:14:41.592462Z",
     "iopub.status.idle": "2024-04-22T23:14:41.600289Z",
     "shell.execute_reply": "2024-04-22T23:14:41.599530Z"
    }
   },
   "outputs": [],
   "source": [
    "list_bigger_than(mites, 10000000)"
   ]
  },
  {
   "cell_type": "markdown",
   "id": "833c5067",
   "metadata": {
    "slideshow": {
     "slide_type": "subslide"
    }
   },
   "source": [
    "One downside to using a class is that we can't easily print all the info out.\n",
    "\n",
    "Let's define the handy `__str__` method."
   ]
  },
  {
   "cell_type": "code",
   "execution_count": null,
   "id": "54cb3230",
   "metadata": {
    "execution": {
     "iopub.execute_input": "2024-04-22T23:14:41.603424Z",
     "iopub.status.busy": "2024-04-22T23:14:41.603154Z",
     "iopub.status.idle": "2024-04-22T23:14:41.607191Z",
     "shell.execute_reply": "2024-04-22T23:14:41.606534Z"
    }
   },
   "outputs": [],
   "source": [
    "class Meteorite:\n",
    "    def __init__(self, name, mass, year, lat, long):\n",
    "        self.name = name\n",
    "        self.mass = mass\n",
    "        self.year = year\n",
    "        self.lat = lat\n",
    "        self.long = long\n",
    "    \n",
    "    def __str__(self):\n",
    "        return f\"{self.name} ({self.year}) ({int(self.mass/1000)} kg) [{self.lat}, {self.long}]\""
   ]
  },
  {
   "cell_type": "code",
   "execution_count": null,
   "id": "a972ddfc",
   "metadata": {
    "execution": {
     "iopub.execute_input": "2024-04-22T23:14:41.610177Z",
     "iopub.status.busy": "2024-04-22T23:14:41.609922Z",
     "iopub.status.idle": "2024-04-22T23:14:41.738068Z",
     "shell.execute_reply": "2024-04-22T23:14:41.737312Z"
    },
    "slideshow": {
     "slide_type": "subslide"
    }
   },
   "outputs": [],
   "source": [
    "mites = []\n",
    "for m in meteorites:\n",
    "    mite = new_mite_from_json(m)\n",
    "    if mite:\n",
    "        mites.append(mite)\n",
    "print(len(mites))"
   ]
  },
  {
   "cell_type": "code",
   "execution_count": null,
   "id": "39b0c31c",
   "metadata": {
    "execution": {
     "iopub.execute_input": "2024-04-22T23:14:41.741404Z",
     "iopub.status.busy": "2024-04-22T23:14:41.741109Z",
     "iopub.status.idle": "2024-04-22T23:14:41.745008Z",
     "shell.execute_reply": "2024-04-22T23:14:41.744388Z"
    },
    "slideshow": {
     "slide_type": "subslide"
    }
   },
   "outputs": [],
   "source": [
    "def list_bigger_than(mites, min_mass):\n",
    "    results = []\n",
    "    for m in mites:\n",
    "        if m.mass > min_mass:\n",
    "            results.append(m)\n",
    "    return results"
   ]
  },
  {
   "cell_type": "code",
   "execution_count": null,
   "id": "42de9dfc",
   "metadata": {
    "execution": {
     "iopub.execute_input": "2024-04-22T23:14:41.748385Z",
     "iopub.status.busy": "2024-04-22T23:14:41.748109Z",
     "iopub.status.idle": "2024-04-22T23:14:41.755122Z",
     "shell.execute_reply": "2024-04-22T23:14:41.754119Z"
    }
   },
   "outputs": [],
   "source": [
    "for m in list_bigger_than(mites, 10000000):\n",
    "    print(m)"
   ]
  },
  {
   "cell_type": "code",
   "execution_count": null,
   "id": "7446b3dc",
   "metadata": {
    "execution": {
     "iopub.execute_input": "2024-04-22T23:14:41.759136Z",
     "iopub.status.busy": "2024-04-22T23:14:41.758603Z",
     "iopub.status.idle": "2024-04-22T23:14:41.762659Z",
     "shell.execute_reply": "2024-04-22T23:14:41.761791Z"
    },
    "slideshow": {
     "slide_type": "subslide"
    }
   },
   "outputs": [],
   "source": [
    "def list_in_year(mites, year):\n",
    "    results = []\n",
    "    for m in mites:\n",
    "        if m.year == year:\n",
    "            results.append(m)\n",
    "    return results"
   ]
  },
  {
   "cell_type": "code",
   "execution_count": null,
   "id": "306e35c3",
   "metadata": {
    "execution": {
     "iopub.execute_input": "2024-04-22T23:14:41.766527Z",
     "iopub.status.busy": "2024-04-22T23:14:41.766242Z",
     "iopub.status.idle": "2024-04-22T23:14:41.772911Z",
     "shell.execute_reply": "2024-04-22T23:14:41.771918Z"
    }
   },
   "outputs": [],
   "source": [
    "for m in list_in_year(mites, 1945):\n",
    "    print(m)"
   ]
  },
  {
   "cell_type": "markdown",
   "id": "40f0cab8",
   "metadata": {
    "execution": {
     "iopub.execute_input": "2023-10-30T01:20:09.741587Z",
     "iopub.status.busy": "2023-10-30T01:20:09.741286Z",
     "iopub.status.idle": "2023-10-30T01:20:09.745477Z",
     "shell.execute_reply": "2023-10-30T01:20:09.744965Z"
    },
    "slideshow": {
     "slide_type": "subslide"
    }
   },
   "source": [
    "\n",
    "Count meteorites by year"
   ]
  },
  {
   "cell_type": "code",
   "execution_count": null,
   "id": "11b6f13f",
   "metadata": {
    "execution": {
     "iopub.execute_input": "2024-04-22T23:14:41.777061Z",
     "iopub.status.busy": "2024-04-22T23:14:41.776744Z",
     "iopub.status.idle": "2024-04-22T23:14:41.780863Z",
     "shell.execute_reply": "2024-04-22T23:14:41.780047Z"
    }
   },
   "outputs": [],
   "source": [
    "def count_by_year(mites):\n",
    "    years = {}\n",
    "    for m in mites:\n",
    "        if m.year in years:\n",
    "            years[m.year] += 1\n",
    "        else:\n",
    "            years[m.year] = 1\n",
    "\n",
    "    return years"
   ]
  },
  {
   "cell_type": "code",
   "execution_count": null,
   "id": "9ef21637",
   "metadata": {
    "execution": {
     "iopub.execute_input": "2024-04-22T23:14:41.784417Z",
     "iopub.status.busy": "2024-04-22T23:14:41.784110Z",
     "iopub.status.idle": "2024-04-22T23:14:41.801481Z",
     "shell.execute_reply": "2024-04-22T23:14:41.800714Z"
    }
   },
   "outputs": [],
   "source": [
    "count_by_year(mites)"
   ]
  },
  {
   "cell_type": "markdown",
   "id": "eaba33b0",
   "metadata": {
    "slideshow": {
     "slide_type": "subslide"
    }
   },
   "source": [
    "We can sort by year, and print them out in order:"
   ]
  },
  {
   "cell_type": "code",
   "execution_count": null,
   "id": "79a4eeba",
   "metadata": {
    "execution": {
     "iopub.execute_input": "2024-04-22T23:14:41.805313Z",
     "iopub.status.busy": "2024-04-22T23:14:41.804959Z",
     "iopub.status.idle": "2024-04-22T23:14:41.817454Z",
     "shell.execute_reply": "2024-04-22T23:14:41.816709Z"
    },
    "slideshow": {
     "slide_type": ""
    }
   },
   "outputs": [],
   "source": [
    "counts = count_by_year(mites)\n",
    "sorted_years = sorted(counts.keys(), reverse=True)\n",
    "for y in sorted_years:\n",
    "    print(f\"{y}: {counts[y]}\")"
   ]
  },
  {
   "cell_type": "markdown",
   "id": "f3d00cbc",
   "metadata": {
    "slideshow": {
     "slide_type": "subslide"
    }
   },
   "source": [
    "We could also sort by count:"
   ]
  },
  {
   "cell_type": "code",
   "execution_count": null,
   "id": "91ac8f76",
   "metadata": {
    "execution": {
     "iopub.execute_input": "2024-04-22T23:14:41.822089Z",
     "iopub.status.busy": "2024-04-22T23:14:41.821741Z",
     "iopub.status.idle": "2024-04-22T23:14:41.834908Z",
     "shell.execute_reply": "2024-04-22T23:14:41.834123Z"
    }
   },
   "outputs": [],
   "source": [
    "counts = count_by_year(mites)\n",
    "sorted_counts = sorted(counts.items(), key=lambda x: x[1], reverse=True)\n",
    "for year, count in sorted_counts:\n",
    "    print(f\"{year}: {count}\")"
   ]
  },
  {
   "cell_type": "markdown",
   "id": "c9483763",
   "metadata": {
    "slideshow": {
     "slide_type": "subslide"
    }
   },
   "source": [
    "Find all meteorites within a certain distance."
   ]
  },
  {
   "cell_type": "code",
   "execution_count": null,
   "id": "3de5c796",
   "metadata": {
    "execution": {
     "iopub.execute_input": "2024-04-22T23:14:41.839235Z",
     "iopub.status.busy": "2024-04-22T23:14:41.838917Z",
     "iopub.status.idle": "2024-04-22T23:14:41.843001Z",
     "shell.execute_reply": "2024-04-22T23:14:41.842285Z"
    }
   },
   "outputs": [],
   "source": [
    "def list_within_distance(mites, lat, long, miles):\n",
    "    results = []\n",
    "    for m in mites:\n",
    "        if distance(m.lat, m.long, lat, long) <= miles:\n",
    "            results.append(m)\n",
    "\n",
    "    return results\n",
    "\n",
    "def distance(lat1, long1, lat2, long2):\n",
    "    # ???\n",
    "    pass"
   ]
  },
  {
   "cell_type": "markdown",
   "id": "a8ac1845",
   "metadata": {
    "slideshow": {
     "slide_type": "subslide"
    }
   },
   "source": [
    "It turns out that accurately calculating the distance between 2 lat/long pairs is **really** complicated.\n",
    "\n",
    "The formulas for calculating the surface distance between 2 points on a sphere are a [bit complicated](https://en.wikipedia.org/wiki/Great-circle_distance). \n",
    "\n",
    "But the Earth isn't perfectly spherical, so if we really want to be accurate, we need some [serious math](https://en.wikipedia.org/wiki/Geodesics_on_an_ellipsoid)!"
   ]
  },
  {
   "cell_type": "markdown",
   "id": "92b961cc",
   "metadata": {
    "slideshow": {
     "slide_type": "subslide"
    }
   },
   "source": [
    "Luckily, someone else has written this for us. We can try the [geopy](https://github.com/geopy/geopy) library. \n",
    "\n",
    "Their homepage even contains a code sample for getting the geodesic distance between 2 points."
   ]
  },
  {
   "cell_type": "code",
   "execution_count": null,
   "id": "02fb440b",
   "metadata": {
    "execution": {
     "iopub.execute_input": "2024-04-22T23:14:41.847197Z",
     "iopub.status.busy": "2024-04-22T23:14:41.846886Z",
     "iopub.status.idle": "2024-04-22T23:14:41.901775Z",
     "shell.execute_reply": "2024-04-22T23:14:41.899971Z"
    },
    "slideshow": {
     "slide_type": "subslide"
    }
   },
   "outputs": [],
   "source": [
    "from geopy.distance import geodesic\n",
    "\n",
    "def distance(lat1, long1, lat2, long2):\n",
    "    return geodesic((lat1, long1), (lat2, long2)).miles\n",
    "\n",
    "def list_within_miles(mites, lat, long, miles):\n",
    "    results = []\n",
    "    for m in mites:\n",
    "        d = distance(m.lat, m.long, lat, long)\n",
    "        if d <= miles:\n",
    "            results.append((d, m))\n",
    "\n",
    "    return results"
   ]
  },
  {
   "cell_type": "code",
   "execution_count": null,
   "id": "b5336ac3",
   "metadata": {
    "execution": {
     "iopub.execute_input": "2024-04-22T23:14:41.906609Z",
     "iopub.status.busy": "2024-04-22T23:14:41.906311Z",
     "iopub.status.idle": "2024-04-22T23:14:51.771422Z",
     "shell.execute_reply": "2024-04-22T23:14:51.770731Z"
    },
    "slideshow": {
     "slide_type": "subslide"
    }
   },
   "outputs": [],
   "source": [
    "brandeis_lat = 42.3654\n",
    "brandeis_long = -71.2586\n",
    "results = list_within_miles(mites, brandeis_lat, brandeis_long, 150)\n",
    "results.sort()"
   ]
  },
  {
   "cell_type": "code",
   "execution_count": null,
   "id": "6fd24f16",
   "metadata": {
    "execution": {
     "iopub.execute_input": "2024-04-22T23:14:51.775505Z",
     "iopub.status.busy": "2024-04-22T23:14:51.775193Z",
     "iopub.status.idle": "2024-04-22T23:14:51.779137Z",
     "shell.execute_reply": "2024-04-22T23:14:51.778509Z"
    }
   },
   "outputs": [],
   "source": [
    "for r in results:\n",
    "    print(f\"{r[1]}, {int(r[0])} miles\")"
   ]
  },
  {
   "cell_type": "markdown",
   "id": "e9498b2e",
   "metadata": {
    "slideshow": {
     "slide_type": "subslide"
    }
   },
   "source": [
    "If you noticed, the `geopy` library also provides functions to geocode.\n",
    "\n",
    "These functions are just wrappers around a service like [geocode.xyz](geocode.xyz), which we used earlier."
   ]
  },
  {
   "cell_type": "code",
   "execution_count": null,
   "id": "565e4d1c",
   "metadata": {
    "execution": {
     "iopub.execute_input": "2024-04-22T23:14:51.782730Z",
     "iopub.status.busy": "2024-04-22T23:14:51.782456Z",
     "iopub.status.idle": "2024-04-22T23:14:52.271207Z",
     "shell.execute_reply": "2024-04-22T23:14:52.270287Z"
    },
    "slideshow": {
     "slide_type": ""
    }
   },
   "outputs": [],
   "source": [
    "# Usage instructions on the geopy homepage: https://github.com/geopy/geopy\n",
    "from geopy.geocoders import Nominatim\n",
    "\n",
    "def geocode(lat, long):\n",
    "    geolocator = Nominatim(user_agent=\"brandeis_cosi_10a\")\n",
    "    location = geolocator.reverse(f\"{lat}, {long}\")\n",
    "    return location\n",
    "\n",
    "print(results[0][1])\n",
    "print(geocode(results[0][1].lat, results[0][1].long))"
   ]
  },
  {
   "cell_type": "markdown",
   "id": "b591ff4a",
   "metadata": {
    "slideshow": {
     "slide_type": "slide"
    }
   },
   "source": [
    "# Wrap up\n",
    "\n",
    "We're starting to see the real power of Python, and coding in general. We can automate tasks and data processing that would be tedious and painful to do by hand.\n",
    "\n",
    "Check out this [list of free JSON data sets](https://github.com/jdorfman/awesome-json-datasets) - try fetching one of them and doing something interesting. Or, try joining together the data from more than one!"
   ]
  }
 ],
 "metadata": {
  "celltoolbar": "Slideshow",
  "kernelspec": {
   "display_name": "Python 3 (ipykernel)",
   "language": "python",
   "name": "python3"
  },
  "language_info": {
   "codemirror_mode": {
    "name": "ipython",
    "version": 3
   },
   "file_extension": ".py",
   "mimetype": "text/x-python",
   "name": "python",
   "nbconvert_exporter": "python",
   "pygments_lexer": "ipython3",
   "version": "3.10.9"
  }
 },
 "nbformat": 4,
 "nbformat_minor": 5
}
