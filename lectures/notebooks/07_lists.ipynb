{
 "cells": [
  {
   "cell_type": "markdown",
   "id": "26653147",
   "metadata": {},
   "source": [
    "# Cosi-10a: Introduction to Problem Solving in Python\n",
    "### Fall 2024\n",
    "\n",
    "<small>[Link to interactive slides on Google Colab](https://colab.research.google.com/github/brandeis-cosi-10a/lecture-slides/blob/24fall/)</small>\n",
    "\n",
    "<style>\n",
    "section.present > section.present { \n",
    "    max-height: 100%; \n",
    "    overflow-y: scroll;\n",
    "}\n",
    "</style>"
   ]
  },
  {
   "cell_type": "markdown",
   "id": "e04d6879",
   "metadata": {
    "slideshow": {
     "slide_type": "slide"
    }
   },
   "source": [
    "# Lists\n",
    "\n",
    "So far, we've been dealing with single values - integers, floats, strings.\n",
    "\n",
    "Today, we'll learn about new data type: lists!"
   ]
  },
  {
   "cell_type": "markdown",
   "id": "a239b34a",
   "metadata": {
    "slideshow": {
     "slide_type": "slide"
    }
   },
   "source": [
    "# Creating lists"
   ]
  },
  {
   "cell_type": "code",
   "execution_count": null,
   "id": "5f9bb1a4",
   "metadata": {
    "execution": {
     "iopub.execute_input": "2024-08-20T19:32:51.434983Z",
     "iopub.status.busy": "2024-08-20T19:32:51.434617Z",
     "iopub.status.idle": "2024-08-20T19:32:51.451004Z",
     "shell.execute_reply": "2024-08-20T19:32:51.450107Z"
    }
   },
   "outputs": [],
   "source": [
    "x = [2, 5, 7, 9]\n",
    "print(x)"
   ]
  },
  {
   "cell_type": "markdown",
   "id": "2d367a27",
   "metadata": {},
   "source": [
    "`x` holds a list with 4 items: the integers 2, 5, 7, and 9."
   ]
  },
  {
   "cell_type": "code",
   "execution_count": null,
   "id": "af9ce082",
   "metadata": {
    "execution": {
     "iopub.execute_input": "2024-08-20T19:32:51.455484Z",
     "iopub.status.busy": "2024-08-20T19:32:51.455160Z",
     "iopub.status.idle": "2024-08-20T19:32:51.458970Z",
     "shell.execute_reply": "2024-08-20T19:32:51.458307Z"
    }
   },
   "outputs": [],
   "source": [
    "y = []\n",
    "print(y)"
   ]
  },
  {
   "cell_type": "markdown",
   "id": "b692c650",
   "metadata": {},
   "source": [
    "`y` is an empty list"
   ]
  },
  {
   "cell_type": "code",
   "execution_count": null,
   "id": "f1a5c95c",
   "metadata": {
    "execution": {
     "iopub.execute_input": "2024-08-20T19:32:51.462502Z",
     "iopub.status.busy": "2024-08-20T19:32:51.462150Z",
     "iopub.status.idle": "2024-08-20T19:32:51.465826Z",
     "shell.execute_reply": "2024-08-20T19:32:51.465170Z"
    },
    "slideshow": {
     "slide_type": "subslide"
    }
   },
   "outputs": [],
   "source": [
    "z = [\"lists\", \"can hold\", \"any data type\"]\n",
    "print(z)"
   ]
  },
  {
   "cell_type": "markdown",
   "id": "fe4a7be7",
   "metadata": {},
   "source": [
    "`z` is a list holding 3 strings"
   ]
  },
  {
   "cell_type": "code",
   "execution_count": null,
   "id": "7a757884",
   "metadata": {
    "execution": {
     "iopub.execute_input": "2024-08-20T19:32:51.470382Z",
     "iopub.status.busy": "2024-08-20T19:32:51.469741Z",
     "iopub.status.idle": "2024-08-20T19:32:51.473536Z",
     "shell.execute_reply": "2024-08-20T19:32:51.472938Z"
    }
   },
   "outputs": [],
   "source": [
    "q = [1, 2.0, \"lists hold anything\", True]\n",
    "print(q)"
   ]
  },
  {
   "cell_type": "markdown",
   "id": "b9370229",
   "metadata": {},
   "source": [
    "`q` is a list with 4 items: an integer, a float, a string, and a boolean.\n",
    "\n",
    "Lists can hold a mix of different data types."
   ]
  },
  {
   "cell_type": "code",
   "execution_count": null,
   "id": "9e082738",
   "metadata": {
    "execution": {
     "iopub.execute_input": "2024-08-20T19:32:51.476860Z",
     "iopub.status.busy": "2024-08-20T19:32:51.476595Z",
     "iopub.status.idle": "2024-08-20T19:32:51.481106Z",
     "shell.execute_reply": "2024-08-20T19:32:51.480043Z"
    },
    "slideshow": {
     "slide_type": "subslide"
    }
   },
   "outputs": [],
   "source": [
    "r = [[1,2,3], [4,5,6]]\n",
    "print(r)"
   ]
  },
  {
   "cell_type": "markdown",
   "id": "aa6f5052",
   "metadata": {},
   "source": [
    "`r` is a list holding 2 lists, each of which hold 3 integers.\n",
    "\n",
    "If your brain just exploded a little, don't worry - we'll revisit nested lists."
   ]
  },
  {
   "cell_type": "markdown",
   "id": "9a3b8e88",
   "metadata": {
    "slideshow": {
     "slide_type": "slide"
    }
   },
   "source": [
    "# Accessing lists\n",
    "\n",
    "You can access items in a list by **index**.\n",
    "\n",
    "The indices are **0-based**: the first item in the list has index 0."
   ]
  },
  {
   "cell_type": "code",
   "execution_count": null,
   "id": "5fb9c9e1",
   "metadata": {
    "execution": {
     "iopub.execute_input": "2024-08-20T19:32:51.484463Z",
     "iopub.status.busy": "2024-08-20T19:32:51.484183Z",
     "iopub.status.idle": "2024-08-20T19:32:51.490793Z",
     "shell.execute_reply": "2024-08-20T19:32:51.490202Z"
    }
   },
   "outputs": [],
   "source": [
    "foods = [\"apple\", \"banana\", \"chocolate\"]\n",
    "foods[0]"
   ]
  },
  {
   "cell_type": "code",
   "execution_count": null,
   "id": "5098c573",
   "metadata": {
    "execution": {
     "iopub.execute_input": "2024-08-20T19:32:51.493729Z",
     "iopub.status.busy": "2024-08-20T19:32:51.493457Z",
     "iopub.status.idle": "2024-08-20T19:32:51.497798Z",
     "shell.execute_reply": "2024-08-20T19:32:51.497194Z"
    }
   },
   "outputs": [],
   "source": [
    "foods[2]"
   ]
  },
  {
   "cell_type": "markdown",
   "id": "5e133222",
   "metadata": {
    "slideshow": {
     "slide_type": "subslide"
    }
   },
   "source": [
    "Accessing an element outside the bounds of the array produces an error:"
   ]
  },
  {
   "cell_type": "code",
   "execution_count": null,
   "id": "89cf4a8d",
   "metadata": {
    "execution": {
     "iopub.execute_input": "2024-08-20T19:32:51.500807Z",
     "iopub.status.busy": "2024-08-20T19:32:51.500552Z",
     "iopub.status.idle": "2024-08-20T19:32:51.782008Z",
     "shell.execute_reply": "2024-08-20T19:32:51.781368Z"
    },
    "tags": [
     "raises-exception"
    ]
   },
   "outputs": [],
   "source": [
    "foods = [\"apple\", \"banana\", \"chocolate\"]\n",
    "foods[3]"
   ]
  },
  {
   "cell_type": "markdown",
   "id": "e3cebf48",
   "metadata": {
    "slideshow": {
     "slide_type": "subslide"
    }
   },
   "source": [
    "You can use negative indices to count backwards from the end:"
   ]
  },
  {
   "cell_type": "code",
   "execution_count": null,
   "id": "9fdfe380",
   "metadata": {
    "execution": {
     "iopub.execute_input": "2024-08-20T19:32:51.786324Z",
     "iopub.status.busy": "2024-08-20T19:32:51.785842Z",
     "iopub.status.idle": "2024-08-20T19:32:51.791497Z",
     "shell.execute_reply": "2024-08-20T19:32:51.790791Z"
    }
   },
   "outputs": [],
   "source": [
    "foods = [\"apple\", \"banana\", \"chocolate\"]\n",
    "foods[-2]"
   ]
  },
  {
   "cell_type": "code",
   "execution_count": null,
   "id": "67d639a4",
   "metadata": {
    "execution": {
     "iopub.execute_input": "2024-08-20T19:32:51.795477Z",
     "iopub.status.busy": "2024-08-20T19:32:51.794814Z",
     "iopub.status.idle": "2024-08-20T19:32:51.799371Z",
     "shell.execute_reply": "2024-08-20T19:32:51.798810Z"
    }
   },
   "outputs": [],
   "source": [
    "foods[-3]"
   ]
  },
  {
   "cell_type": "markdown",
   "id": "ea0fa86a",
   "metadata": {
    "slideshow": {
     "slide_type": "slide"
    }
   },
   "source": [
    "# Slicing\n",
    "\n",
    "You can **slice** lists - create a new list from a subset of a list.\n",
    "\n",
    "Slice from the beginning of the list up to an index with `[:n]`:"
   ]
  },
  {
   "cell_type": "code",
   "execution_count": null,
   "id": "0c7e7558",
   "metadata": {
    "execution": {
     "iopub.execute_input": "2024-08-20T19:32:51.802602Z",
     "iopub.status.busy": "2024-08-20T19:32:51.802323Z",
     "iopub.status.idle": "2024-08-20T19:32:51.805523Z",
     "shell.execute_reply": "2024-08-20T19:32:51.804941Z"
    }
   },
   "outputs": [],
   "source": [
    "mountains = [\"everest\", \"whitney\", \"washington\", \"denali\", \"rainier\"]"
   ]
  },
  {
   "cell_type": "code",
   "execution_count": null,
   "id": "fbbd26ca",
   "metadata": {
    "execution": {
     "iopub.execute_input": "2024-08-20T19:32:51.808319Z",
     "iopub.status.busy": "2024-08-20T19:32:51.808064Z",
     "iopub.status.idle": "2024-08-20T19:32:51.812435Z",
     "shell.execute_reply": "2024-08-20T19:32:51.811844Z"
    }
   },
   "outputs": [],
   "source": [
    "# take everything up to (but not including) index 2\n",
    "mountains[:2]"
   ]
  },
  {
   "cell_type": "markdown",
   "id": "edbf204f",
   "metadata": {},
   "source": [
    "Slice from an index to the end of the list with `[n:]`:"
   ]
  },
  {
   "cell_type": "code",
   "execution_count": null,
   "id": "7af6ac76",
   "metadata": {
    "execution": {
     "iopub.execute_input": "2024-08-20T19:32:51.815516Z",
     "iopub.status.busy": "2024-08-20T19:32:51.815264Z",
     "iopub.status.idle": "2024-08-20T19:32:51.819042Z",
     "shell.execute_reply": "2024-08-20T19:32:51.818402Z"
    }
   },
   "outputs": [],
   "source": [
    "# drop the first item in the list\n",
    "new_mountains = mountains[1:]\n",
    "print(mountains)\n",
    "print(new_mountains)"
   ]
  },
  {
   "cell_type": "markdown",
   "id": "76c3775d",
   "metadata": {
    "slideshow": {
     "slide_type": "subslide"
    }
   },
   "source": [
    "Slice from the middle by providing a start and end index `[m:n]`:"
   ]
  },
  {
   "cell_type": "code",
   "execution_count": null,
   "id": "415fa705",
   "metadata": {
    "execution": {
     "iopub.execute_input": "2024-08-20T19:32:51.822066Z",
     "iopub.status.busy": "2024-08-20T19:32:51.821810Z",
     "iopub.status.idle": "2024-08-20T19:32:51.826328Z",
     "shell.execute_reply": "2024-08-20T19:32:51.825715Z"
    }
   },
   "outputs": [],
   "source": [
    "mountains = [\"everest\", \"whitney\", \"washington\", \"denali\", \"rainier\"]\n",
    "# take indices 1, 2\n",
    "mountains[1:3]"
   ]
  },
  {
   "cell_type": "markdown",
   "id": "fb8abeba",
   "metadata": {},
   "source": [
    "You can even use negative indices when slicing:"
   ]
  },
  {
   "cell_type": "code",
   "execution_count": null,
   "id": "5aa7024d",
   "metadata": {
    "execution": {
     "iopub.execute_input": "2024-08-20T19:32:51.829491Z",
     "iopub.status.busy": "2024-08-20T19:32:51.829136Z",
     "iopub.status.idle": "2024-08-20T19:32:51.833609Z",
     "shell.execute_reply": "2024-08-20T19:32:51.832813Z"
    }
   },
   "outputs": [],
   "source": [
    "# take everything up to the last 2 items\n",
    "mountains[:-2]"
   ]
  },
  {
   "cell_type": "code",
   "execution_count": null,
   "id": "d33feba6",
   "metadata": {
    "execution": {
     "iopub.execute_input": "2024-08-20T19:32:51.836774Z",
     "iopub.status.busy": "2024-08-20T19:32:51.836420Z",
     "iopub.status.idle": "2024-08-20T19:32:51.840765Z",
     "shell.execute_reply": "2024-08-20T19:32:51.840111Z"
    }
   },
   "outputs": [],
   "source": [
    "# drop the first and last items\n",
    "mountains[1:-1]"
   ]
  },
  {
   "cell_type": "markdown",
   "id": "53d0022e",
   "metadata": {
    "slideshow": {
     "slide_type": "slide"
    }
   },
   "source": [
    "# Length\n",
    "\n",
    "The `len()` function gives you the length of a list:"
   ]
  },
  {
   "cell_type": "code",
   "execution_count": null,
   "id": "d1463495",
   "metadata": {
    "execution": {
     "iopub.execute_input": "2024-08-20T19:32:51.843802Z",
     "iopub.status.busy": "2024-08-20T19:32:51.843541Z",
     "iopub.status.idle": "2024-08-20T19:32:51.847859Z",
     "shell.execute_reply": "2024-08-20T19:32:51.847331Z"
    }
   },
   "outputs": [],
   "source": [
    "mountains = [\"everest\", \"whitney\", \"washington\", \"denali\", \"rainier\"]\n",
    "len(mountains)"
   ]
  },
  {
   "cell_type": "markdown",
   "id": "6c9ffbd4",
   "metadata": {
    "slideshow": {
     "slide_type": "slide"
    }
   },
   "source": [
    "# Modifying lists\n",
    "\n",
    "You can add, remove, and change elements.\n",
    "\n",
    "Assigning to an element changes it in place:"
   ]
  },
  {
   "cell_type": "code",
   "execution_count": null,
   "id": "4005901b",
   "metadata": {
    "execution": {
     "iopub.execute_input": "2024-08-20T19:32:51.851138Z",
     "iopub.status.busy": "2024-08-20T19:32:51.850872Z",
     "iopub.status.idle": "2024-08-20T19:32:51.854274Z",
     "shell.execute_reply": "2024-08-20T19:32:51.853680Z"
    }
   },
   "outputs": [],
   "source": [
    "mountains = [\"rushmore\", \"whitney\", \"washington\", \"denali\", \"rainier\"]\n",
    "mountains[0] = \"everest\"\n",
    "print(mountains)"
   ]
  },
  {
   "cell_type": "markdown",
   "id": "2d45454e",
   "metadata": {
    "slideshow": {
     "slide_type": "subslide"
    }
   },
   "source": [
    "The `append()` method adds an element to the end:"
   ]
  },
  {
   "cell_type": "code",
   "execution_count": null,
   "id": "663cabfd",
   "metadata": {
    "execution": {
     "iopub.execute_input": "2024-08-20T19:32:51.857544Z",
     "iopub.status.busy": "2024-08-20T19:32:51.857282Z",
     "iopub.status.idle": "2024-08-20T19:32:51.860645Z",
     "shell.execute_reply": "2024-08-20T19:32:51.860069Z"
    }
   },
   "outputs": [],
   "source": [
    "mountains = [\"everest\", \"whitney\", \"washington\", \"denali\", \"rainier\"]\n",
    "mountains.append(\"kilimanjaro\")\n",
    "print(mountains)"
   ]
  },
  {
   "cell_type": "markdown",
   "id": "d8f20e3d",
   "metadata": {
    "slideshow": {
     "slide_type": "subslide"
    }
   },
   "source": [
    "The `insert()` method will insert at a given index:"
   ]
  },
  {
   "cell_type": "code",
   "execution_count": null,
   "id": "07f6cdbd",
   "metadata": {
    "execution": {
     "iopub.execute_input": "2024-08-20T19:32:51.863844Z",
     "iopub.status.busy": "2024-08-20T19:32:51.863585Z",
     "iopub.status.idle": "2024-08-20T19:32:51.867155Z",
     "shell.execute_reply": "2024-08-20T19:32:51.866566Z"
    }
   },
   "outputs": [],
   "source": [
    "mountains = [\"everest\", \"whitney\", \"washington\", \"denali\", \"rainier\"]\n",
    "mountains.insert(1, \"kilimanjaro\")\n",
    "print(mountains)"
   ]
  },
  {
   "cell_type": "markdown",
   "id": "7fef35c1",
   "metadata": {
    "slideshow": {
     "slide_type": "subslide"
    }
   },
   "source": [
    "A few ways to delete items:\n",
    "\n",
    "The `del` keyword:"
   ]
  },
  {
   "cell_type": "code",
   "execution_count": null,
   "id": "5829b112",
   "metadata": {
    "execution": {
     "iopub.execute_input": "2024-08-20T19:32:51.870115Z",
     "iopub.status.busy": "2024-08-20T19:32:51.869871Z",
     "iopub.status.idle": "2024-08-20T19:32:51.873349Z",
     "shell.execute_reply": "2024-08-20T19:32:51.872658Z"
    }
   },
   "outputs": [],
   "source": [
    "mountains = [\"everest\", \"whitney\", \"washington\", \"denali\", \"rainier\"]\n",
    "del mountains[3] \n",
    "print(mountains)"
   ]
  },
  {
   "cell_type": "markdown",
   "id": "f2eb6228",
   "metadata": {},
   "source": [
    "The `pop()` method, which takes the index to remove, and returns the element that was removed:"
   ]
  },
  {
   "cell_type": "code",
   "execution_count": null,
   "id": "be7d2a02",
   "metadata": {
    "execution": {
     "iopub.execute_input": "2024-08-20T19:32:51.876495Z",
     "iopub.status.busy": "2024-08-20T19:32:51.876233Z",
     "iopub.status.idle": "2024-08-20T19:32:51.879914Z",
     "shell.execute_reply": "2024-08-20T19:32:51.879384Z"
    }
   },
   "outputs": [],
   "source": [
    "mountains = [\"everest\", \"whitney\", \"washington\", \"denali\", \"rainier\"]\n",
    "popped = mountains.pop(2)\n",
    "print(f\"Removed {popped}\")\n",
    "print(f\"List after the pop: {mountains}\")"
   ]
  },
  {
   "cell_type": "markdown",
   "id": "80288aa7",
   "metadata": {
    "slideshow": {
     "slide_type": "subslide"
    }
   },
   "source": [
    "Remove everything with the `clear()` method"
   ]
  },
  {
   "cell_type": "code",
   "execution_count": null,
   "id": "b61d81af",
   "metadata": {
    "execution": {
     "iopub.execute_input": "2024-08-20T19:32:51.883087Z",
     "iopub.status.busy": "2024-08-20T19:32:51.882805Z",
     "iopub.status.idle": "2024-08-20T19:32:51.886271Z",
     "shell.execute_reply": "2024-08-20T19:32:51.885726Z"
    }
   },
   "outputs": [],
   "source": [
    "mountains = [\"everest\", \"whitney\", \"washington\", \"denali\", \"rainier\"]\n",
    "mountains.clear()\n",
    "print(mountains)"
   ]
  },
  {
   "cell_type": "markdown",
   "id": "723a14c5",
   "metadata": {
    "slideshow": {
     "slide_type": "subslide"
    }
   },
   "source": [
    "Concatenate 2 lists with `+`:"
   ]
  },
  {
   "cell_type": "code",
   "execution_count": null,
   "id": "b7c474a9",
   "metadata": {
    "execution": {
     "iopub.execute_input": "2024-08-20T19:32:51.889237Z",
     "iopub.status.busy": "2024-08-20T19:32:51.888982Z",
     "iopub.status.idle": "2024-08-20T19:32:51.892467Z",
     "shell.execute_reply": "2024-08-20T19:32:51.891910Z"
    }
   },
   "outputs": [],
   "source": [
    "a = [1,2,3]\n",
    "b = [4,5,6]\n",
    "print(a + b)"
   ]
  },
  {
   "cell_type": "markdown",
   "id": "a17513e8",
   "metadata": {
    "slideshow": {
     "slide_type": "slide"
    }
   },
   "source": [
    "# Aside: method vs function\n",
    "\n",
    "We just reviewed a few `list` **methods**. Methods are functions that are **called on** a value.\n",
    "\n",
    "Methods are called on a value using a `.`: `some_variable.some_method()`\n",
    "\n",
    "For example: to remove the last item from a list named `spam`, call the `pop` method on it: `spam.pop()`.\n",
    "\n",
    "Lists have many useful methods (we covered most, but not all, of them): [list method documentation](https://docs.python.org/3/tutorial/datastructures.html)\n",
    "\n",
    "We'll revisit methods later in the term, all you need to know for now is the syntax for calling them."
   ]
  },
  {
   "cell_type": "markdown",
   "id": "a1b3471e",
   "metadata": {
    "slideshow": {
     "slide_type": "slide"
    }
   },
   "source": [
    "# Example\n",
    "\n",
    "Build a **cat**alog (hah): a program that prompts the user for the names of their cats, and prints them all out.\n",
    "\n"
   ]
  },
  {
   "cell_type": "markdown",
   "id": "072c925a",
   "metadata": {
    "slideshow": {
     "slide_type": "subslide"
    }
   },
   "source": [
    "Before lists, the best we could do is something like this, where we have a maximum number of cats, and store each one in its own variable:"
   ]
  },
  {
   "cell_type": "code",
   "execution_count": null,
   "id": "99386b33",
   "metadata": {
    "execution": {
     "iopub.execute_input": "2024-08-20T19:32:51.895602Z",
     "iopub.status.busy": "2024-08-20T19:32:51.895346Z",
     "iopub.status.idle": "2024-08-20T19:32:51.977517Z",
     "shell.execute_reply": "2024-08-20T19:32:51.976572Z"
    },
    "tags": [
     "remove-output"
    ]
   },
   "outputs": [],
   "source": [
    "print('Enter the name of cat 1:')\n",
    "catName1 = input()\n",
    "print('Enter the name of cat 2:')\n",
    "catName2 = input()\n",
    "print('Enter the name of cat 3:')\n",
    "catName3 = input()\n",
    "print('Enter the name of cat 4:')\n",
    "catName4 = input()\n",
    "print('Enter the name of cat 5:')\n",
    "catName5 = input()\n",
    "print('Enter the name of cat 6:')\n",
    "catName6 = input()\n",
    "print('The cat names are:')\n",
    "print(catName1 + ' ' + catName2 + ' ' + catName3 + ' ' + catName4 + ' ' +\n",
    "catName5 + ' ' + catName6)"
   ]
  },
  {
   "cell_type": "markdown",
   "id": "9e2a17f4",
   "metadata": {
    "slideshow": {
     "slide_type": "subslide"
    }
   },
   "source": [
    "Lists improve this significantly, and free us up from a fixed number of cats.\n",
    "\n",
    "We will keep a list of cat names, and add to it each time the user enters one. At the end, we will print out the list."
   ]
  },
  {
   "cell_type": "code",
   "execution_count": null,
   "id": "9cd530fe",
   "metadata": {
    "execution": {
     "iopub.execute_input": "2024-08-20T19:32:51.981606Z",
     "iopub.status.busy": "2024-08-20T19:32:51.980954Z",
     "iopub.status.idle": "2024-08-20T19:32:52.004497Z",
     "shell.execute_reply": "2024-08-20T19:32:52.003705Z"
    },
    "slideshow": {
     "slide_type": "-"
    },
    "tags": [
     "remove-output"
    ]
   },
   "outputs": [],
   "source": [
    "catNames = []\n",
    "while True:\n",
    "    number_of_cats_so_far = len(catNames)\n",
    "    \n",
    "    print('Enter the name of cat ' + str(number_of_cats_so_far + 1) +\n",
    "      ' (Or enter nothing to stop):')\n",
    "    name = input()\n",
    "    if name == '':\n",
    "        break\n",
    "    catNames.append(name)\n",
    "\n",
    "print(f\"The cat names are: {catNames}\")"
   ]
  },
  {
   "cell_type": "markdown",
   "id": "12bdb0c1",
   "metadata": {
    "slideshow": {
     "slide_type": "slide"
    }
   },
   "source": [
    "# Lists and Loops: Friends Forever\n",
    "\n",
    "It's very common to want to perform an action for each item in a list. Loops help us do this!\n",
    "\n",
    "Write a function that takes a list of integers as a parameter, and prints out the square of each number.\n",
    "\n",
    "One way to do it:"
   ]
  },
  {
   "cell_type": "code",
   "execution_count": null,
   "id": "fbc323f8",
   "metadata": {
    "execution": {
     "iopub.execute_input": "2024-08-20T19:32:52.007998Z",
     "iopub.status.busy": "2024-08-20T19:32:52.007734Z",
     "iopub.status.idle": "2024-08-20T19:32:52.011392Z",
     "shell.execute_reply": "2024-08-20T19:32:52.010663Z"
    }
   },
   "outputs": [],
   "source": [
    "def print_squares(nums):\n",
    "    for i in range(len(nums)):\n",
    "        print(nums[i] ** 2)        "
   ]
  },
  {
   "cell_type": "code",
   "execution_count": null,
   "id": "e9d4491c",
   "metadata": {
    "execution": {
     "iopub.execute_input": "2024-08-20T19:32:52.014438Z",
     "iopub.status.busy": "2024-08-20T19:32:52.014171Z",
     "iopub.status.idle": "2024-08-20T19:32:52.017675Z",
     "shell.execute_reply": "2024-08-20T19:32:52.016948Z"
    }
   },
   "outputs": [],
   "source": [
    "print_squares([3,5,11])"
   ]
  },
  {
   "cell_type": "code",
   "execution_count": null,
   "id": "2bd7e928",
   "metadata": {
    "execution": {
     "iopub.execute_input": "2024-08-20T19:32:52.020797Z",
     "iopub.status.busy": "2024-08-20T19:32:52.020527Z",
     "iopub.status.idle": "2024-08-20T19:32:52.023932Z",
     "shell.execute_reply": "2024-08-20T19:32:52.023217Z"
    },
    "slideshow": {
     "slide_type": "subslide"
    }
   },
   "outputs": [],
   "source": [
    "def print_squares(nums):\n",
    "    for i in range(len(nums)):\n",
    "        print(nums[i] ** 2)"
   ]
  },
  {
   "cell_type": "markdown",
   "id": "dd79e0b7",
   "metadata": {
    "slideshow": {
     "slide_type": ""
    }
   },
   "source": [
    "Let's unroll the loop for `print_squares([3,5,11])`:\n",
    "\n",
    "1. **Find the values over which the loop will iterate**"
   ]
  },
  {
   "cell_type": "markdown",
   "id": "06523612",
   "metadata": {
    "slideshow": {
     "slide_type": "fragment"
    }
   },
   "source": [
    "`for i in range(len(nums))` -> `for i in range(3)`\n",
    "\n",
    "So, the loop will iterate over the values: 0, 1, 2"
   ]
  },
  {
   "cell_type": "markdown",
   "id": "4cb7883e",
   "metadata": {
    "slideshow": {
     "slide_type": "subslide"
    }
   },
   "source": [
    "1. Find the values over which the loop will iterate: 0, 1, 2\n",
    "1. **Copy the code inside the loop once for each value, and replace the loop variable with the iteration values:**"
   ]
  },
  {
   "cell_type": "code",
   "execution_count": null,
   "id": "3e08c527",
   "metadata": {
    "execution": {
     "iopub.execute_input": "2024-08-20T19:32:52.027230Z",
     "iopub.status.busy": "2024-08-20T19:32:52.026964Z",
     "iopub.status.idle": "2024-08-20T19:32:52.030796Z",
     "shell.execute_reply": "2024-08-20T19:32:52.030164Z"
    },
    "slideshow": {
     "slide_type": "fragment"
    }
   },
   "outputs": [],
   "source": [
    "nums = [3, 5, 11]\n",
    "print(nums[0] ** 2)\n",
    "print(nums[1] ** 2)\n",
    "print(nums[2] ** 2)"
   ]
  },
  {
   "cell_type": "markdown",
   "id": "e3795f08",
   "metadata": {
    "slideshow": {
     "slide_type": "subslide"
    }
   },
   "source": [
    "That works, but there are other ways to iterate over a list.\n",
    "\n",
    "`for <var> in <list>:` will execute the code block once for each item in the list, with `<var>` equal to the next list item for each iteration.\n",
    "\n",
    "More on list iteration in the next lecture - for today, just knowing this form of the `for` loop is enough."
   ]
  },
  {
   "cell_type": "code",
   "execution_count": null,
   "id": "729b1ef2",
   "metadata": {
    "execution": {
     "iopub.execute_input": "2024-08-20T19:32:52.034084Z",
     "iopub.status.busy": "2024-08-20T19:32:52.033672Z",
     "iopub.status.idle": "2024-08-20T19:32:52.037403Z",
     "shell.execute_reply": "2024-08-20T19:32:52.036773Z"
    }
   },
   "outputs": [],
   "source": [
    "def print_squares(nums):\n",
    "    for num in nums:\n",
    "        print(num ** 2)"
   ]
  },
  {
   "cell_type": "code",
   "execution_count": null,
   "id": "be9b2581",
   "metadata": {
    "execution": {
     "iopub.execute_input": "2024-08-20T19:32:52.040541Z",
     "iopub.status.busy": "2024-08-20T19:32:52.040269Z",
     "iopub.status.idle": "2024-08-20T19:32:52.043718Z",
     "shell.execute_reply": "2024-08-20T19:32:52.043103Z"
    }
   },
   "outputs": [],
   "source": [
    "print_squares([3,5,11])"
   ]
  },
  {
   "cell_type": "markdown",
   "id": "120742a2",
   "metadata": {
    "slideshow": {
     "slide_type": "slide"
    }
   },
   "source": [
    "# Example\n",
    "\n",
    "1. Define a list holding 4 strings, each describing something you like.\n",
    "1. Write a for loop to print out each string with `\"One of my favorite things: \"` **pre**prended to it"
   ]
  },
  {
   "cell_type": "code",
   "execution_count": null,
   "id": "0dbe4eca",
   "metadata": {
    "execution": {
     "iopub.execute_input": "2024-08-20T19:32:52.046935Z",
     "iopub.status.busy": "2024-08-20T19:32:52.046668Z",
     "iopub.status.idle": "2024-08-20T19:32:52.050236Z",
     "shell.execute_reply": "2024-08-20T19:32:52.049501Z"
    },
    "slideshow": {
     "slide_type": "subslide"
    }
   },
   "outputs": [],
   "source": [
    "nice_things = [\"Fresh baked cookies\", \"Mountains\", \"Sleep\", \"Spicy food\"]\n",
    "for thing in nice_things:\n",
    "    print(\"One of my favorite things: \" + thing)"
   ]
  },
  {
   "cell_type": "markdown",
   "id": "f359b96c",
   "metadata": {
    "slideshow": {
     "slide_type": "slide"
    }
   },
   "source": [
    "# Example: find the underperformers\n",
    "\n",
    "Write a function to find the average of a list of numbers, then print out all the numbers below the average."
   ]
  },
  {
   "cell_type": "markdown",
   "id": "62b418fd",
   "metadata": {
    "slideshow": {
     "slide_type": "fragment"
    }
   },
   "source": [
    "Let's use our usual strategy: decompose the problem. Two main parts:\n",
    "\n",
    "1. Find the average of a list of numbers\n",
    "2. Print all the numbers lower than that average"
   ]
  },
  {
   "cell_type": "markdown",
   "id": "2471a378",
   "metadata": {
    "slideshow": {
     "slide_type": "subslide"
    }
   },
   "source": [
    "Step 1, find the average:"
   ]
  },
  {
   "cell_type": "code",
   "execution_count": null,
   "id": "600f4374",
   "metadata": {
    "execution": {
     "iopub.execute_input": "2024-08-20T19:32:52.053620Z",
     "iopub.status.busy": "2024-08-20T19:32:52.053352Z",
     "iopub.status.idle": "2024-08-20T19:32:52.056936Z",
     "shell.execute_reply": "2024-08-20T19:32:52.056315Z"
    }
   },
   "outputs": [],
   "source": [
    "def find_average(nums):\n",
    "    sum = 0\n",
    "    for num in nums:\n",
    "        sum = sum + num\n",
    "    avg = sum / len(nums)\n",
    "    return avg"
   ]
  },
  {
   "cell_type": "code",
   "execution_count": null,
   "id": "6025bf87",
   "metadata": {
    "execution": {
     "iopub.execute_input": "2024-08-20T19:32:52.060224Z",
     "iopub.status.busy": "2024-08-20T19:32:52.059947Z",
     "iopub.status.idle": "2024-08-20T19:32:52.064311Z",
     "shell.execute_reply": "2024-08-20T19:32:52.063686Z"
    }
   },
   "outputs": [],
   "source": [
    "find_average([1,2,3,4,100000])"
   ]
  },
  {
   "cell_type": "markdown",
   "id": "013dc98c",
   "metadata": {
    "slideshow": {
     "slide_type": "subslide"
    }
   },
   "source": [
    "Step 2: print each item below the average:"
   ]
  },
  {
   "cell_type": "code",
   "execution_count": null,
   "id": "66a7e988",
   "metadata": {
    "execution": {
     "iopub.execute_input": "2024-08-20T19:32:52.067538Z",
     "iopub.status.busy": "2024-08-20T19:32:52.067266Z",
     "iopub.status.idle": "2024-08-20T19:32:52.071204Z",
     "shell.execute_reply": "2024-08-20T19:32:52.070569Z"
    },
    "slideshow": {
     "slide_type": "-"
    }
   },
   "outputs": [],
   "source": [
    "def below_average(nums):\n",
    "    avg = find_average(nums)\n",
    "    \n",
    "    print(\"The average is: \" + str(avg) + \". Here are all the below average numbers: \")\n",
    "    for num in nums:\n",
    "        if num < avg:\n",
    "            print(num, end=' ')"
   ]
  },
  {
   "cell_type": "code",
   "execution_count": null,
   "id": "929782bb",
   "metadata": {
    "execution": {
     "iopub.execute_input": "2024-08-20T19:32:52.074269Z",
     "iopub.status.busy": "2024-08-20T19:32:52.074003Z",
     "iopub.status.idle": "2024-08-20T19:32:52.077411Z",
     "shell.execute_reply": "2024-08-20T19:32:52.076762Z"
    },
    "slideshow": {
     "slide_type": "-"
    }
   },
   "outputs": [],
   "source": [
    "below_average([1,2,3,4,100000])"
   ]
  },
  {
   "cell_type": "markdown",
   "id": "5a17eb68",
   "metadata": {
    "slideshow": {
     "slide_type": "slide"
    }
   },
   "source": [
    "# Example: find the largest number\n",
    "\n",
    "Write a function to find the largest number in a list. \n",
    "\n",
    "Similar to \"cumulative algorithms\", we'll define a variable to hold the largest number we've seen so far."
   ]
  },
  {
   "cell_type": "code",
   "execution_count": null,
   "id": "480f52e6",
   "metadata": {
    "execution": {
     "iopub.execute_input": "2024-08-20T19:32:52.080857Z",
     "iopub.status.busy": "2024-08-20T19:32:52.080566Z",
     "iopub.status.idle": "2024-08-20T19:32:52.084014Z",
     "shell.execute_reply": "2024-08-20T19:32:52.083445Z"
    }
   },
   "outputs": [],
   "source": [
    "def find_largest(nums):\n",
    "    biggest = 0\n",
    "    for num in nums:\n",
    "        if num > biggest:\n",
    "            biggest = num\n",
    "    return biggest"
   ]
  },
  {
   "cell_type": "code",
   "execution_count": null,
   "id": "e9edd6ad",
   "metadata": {
    "execution": {
     "iopub.execute_input": "2024-08-20T19:32:52.087001Z",
     "iopub.status.busy": "2024-08-20T19:32:52.086740Z",
     "iopub.status.idle": "2024-08-20T19:32:52.091142Z",
     "shell.execute_reply": "2024-08-20T19:32:52.090497Z"
    }
   },
   "outputs": [],
   "source": [
    "find_largest([18, 27, 1, 3, 10, 1000])"
   ]
  },
  {
   "cell_type": "markdown",
   "id": "d7e5a6dd",
   "metadata": {
    "slideshow": {
     "slide_type": "subslide"
    }
   },
   "source": [
    "Looks like it worked... but can you spot the bug?"
   ]
  },
  {
   "cell_type": "code",
   "execution_count": null,
   "id": "80d2e689",
   "metadata": {
    "execution": {
     "iopub.execute_input": "2024-08-20T19:32:52.094138Z",
     "iopub.status.busy": "2024-08-20T19:32:52.093880Z",
     "iopub.status.idle": "2024-08-20T19:32:52.097249Z",
     "shell.execute_reply": "2024-08-20T19:32:52.096662Z"
    }
   },
   "outputs": [],
   "source": [
    "def find_largest(nums):\n",
    "    biggest = 0\n",
    "    for num in nums: \n",
    "        if num > biggest:\n",
    "            biggest = num\n",
    "    return biggest"
   ]
  },
  {
   "cell_type": "code",
   "execution_count": null,
   "id": "a50ed117",
   "metadata": {
    "execution": {
     "iopub.execute_input": "2024-08-20T19:32:52.100175Z",
     "iopub.status.busy": "2024-08-20T19:32:52.099933Z",
     "iopub.status.idle": "2024-08-20T19:32:52.104018Z",
     "shell.execute_reply": "2024-08-20T19:32:52.103494Z"
    },
    "slideshow": {
     "slide_type": "fragment"
    }
   },
   "outputs": [],
   "source": [
    "find_largest([-1, -2, -3])"
   ]
  },
  {
   "cell_type": "markdown",
   "id": "57de5587",
   "metadata": {
    "slideshow": {
     "slide_type": "subslide"
    }
   },
   "source": [
    "`0` is a bad choice for our initial maximum value. \n",
    "\n",
    "We could use a very negative number. But, in Python, integers are unbounded, so it will never be negative enough to cover all cases.\n",
    "\n",
    "Let's try something else..."
   ]
  },
  {
   "cell_type": "code",
   "execution_count": null,
   "id": "2bc5c62b",
   "metadata": {
    "execution": {
     "iopub.execute_input": "2024-08-20T19:32:52.106870Z",
     "iopub.status.busy": "2024-08-20T19:32:52.106623Z",
     "iopub.status.idle": "2024-08-20T19:32:52.110011Z",
     "shell.execute_reply": "2024-08-20T19:32:52.109473Z"
    }
   },
   "outputs": [],
   "source": [
    "def find_largest(nums):\n",
    "    biggest = nums[0]\n",
    "    for num in nums[1:]:\n",
    "        if num > biggest:\n",
    "            biggest = num\n",
    "    return biggest"
   ]
  },
  {
   "cell_type": "code",
   "execution_count": null,
   "id": "84c494b1",
   "metadata": {
    "execution": {
     "iopub.execute_input": "2024-08-20T19:32:52.112896Z",
     "iopub.status.busy": "2024-08-20T19:32:52.112644Z",
     "iopub.status.idle": "2024-08-20T19:32:52.116727Z",
     "shell.execute_reply": "2024-08-20T19:32:52.116097Z"
    }
   },
   "outputs": [],
   "source": [
    "find_largest([-1,-2,-3])"
   ]
  },
  {
   "cell_type": "code",
   "execution_count": null,
   "id": "843446c1",
   "metadata": {
    "execution": {
     "iopub.execute_input": "2024-08-20T19:32:52.119483Z",
     "iopub.status.busy": "2024-08-20T19:32:52.119242Z",
     "iopub.status.idle": "2024-08-20T19:32:52.141095Z",
     "shell.execute_reply": "2024-08-20T19:32:52.140408Z"
    },
    "slideshow": {
     "slide_type": "fragment"
    }
   },
   "outputs": [],
   "source": [
    "find_largest([])"
   ]
  },
  {
   "cell_type": "markdown",
   "id": "b33aebb3",
   "metadata": {
    "slideshow": {
     "slide_type": "subslide"
    }
   },
   "source": [
    "Whoops, this doesn't work on empty lists!"
   ]
  },
  {
   "cell_type": "code",
   "execution_count": null,
   "id": "1f6c9cb4",
   "metadata": {
    "execution": {
     "iopub.execute_input": "2024-08-20T19:32:52.144597Z",
     "iopub.status.busy": "2024-08-20T19:32:52.144340Z",
     "iopub.status.idle": "2024-08-20T19:32:52.148523Z",
     "shell.execute_reply": "2024-08-20T19:32:52.147873Z"
    },
    "slideshow": {
     "slide_type": "fragment"
    }
   },
   "outputs": [],
   "source": [
    "def find_largest(nums):\n",
    "    if len(nums) == 0:\n",
    "        return None\n",
    "    \n",
    "    biggest = nums[0]\n",
    "    for num in nums[1:]:\n",
    "        if num > biggest:\n",
    "            biggest = num\n",
    "    return biggest"
   ]
  },
  {
   "cell_type": "code",
   "execution_count": null,
   "id": "9453bc9d",
   "metadata": {
    "execution": {
     "iopub.execute_input": "2024-08-20T19:32:52.151883Z",
     "iopub.status.busy": "2024-08-20T19:32:52.151624Z",
     "iopub.status.idle": "2024-08-20T19:32:52.156435Z",
     "shell.execute_reply": "2024-08-20T19:32:52.155806Z"
    }
   },
   "outputs": [],
   "source": [
    "find_largest([-1,-2,-3])"
   ]
  },
  {
   "cell_type": "code",
   "execution_count": null,
   "id": "38922609",
   "metadata": {
    "execution": {
     "iopub.execute_input": "2024-08-20T19:32:52.159606Z",
     "iopub.status.busy": "2024-08-20T19:32:52.159336Z",
     "iopub.status.idle": "2024-08-20T19:32:52.163591Z",
     "shell.execute_reply": "2024-08-20T19:32:52.162996Z"
    }
   },
   "outputs": [],
   "source": [
    "find_largest([-2])"
   ]
  },
  {
   "cell_type": "markdown",
   "id": "d7a3b7c4",
   "metadata": {
    "slideshow": {
     "slide_type": "subslide"
    }
   },
   "source": [
    "This is perfectly good! Here's one more option though:"
   ]
  },
  {
   "cell_type": "code",
   "execution_count": null,
   "id": "2e8bad8b",
   "metadata": {
    "execution": {
     "iopub.execute_input": "2024-08-20T19:32:52.166673Z",
     "iopub.status.busy": "2024-08-20T19:32:52.166406Z",
     "iopub.status.idle": "2024-08-20T19:32:52.169960Z",
     "shell.execute_reply": "2024-08-20T19:32:52.169329Z"
    }
   },
   "outputs": [],
   "source": [
    "def find_largest(nums):\n",
    "    biggest = None\n",
    "    for num in nums:\n",
    "        if biggest is None or num > biggest:\n",
    "            biggest = num\n",
    "    return biggest"
   ]
  },
  {
   "cell_type": "code",
   "execution_count": null,
   "id": "d1521fcd",
   "metadata": {
    "execution": {
     "iopub.execute_input": "2024-08-20T19:32:52.173012Z",
     "iopub.status.busy": "2024-08-20T19:32:52.172747Z",
     "iopub.status.idle": "2024-08-20T19:32:52.176882Z",
     "shell.execute_reply": "2024-08-20T19:32:52.176362Z"
    }
   },
   "outputs": [],
   "source": [
    "find_largest([-1,-2,-3])"
   ]
  },
  {
   "cell_type": "code",
   "execution_count": null,
   "id": "89810ac7",
   "metadata": {
    "execution": {
     "iopub.execute_input": "2024-08-20T19:32:52.179840Z",
     "iopub.status.busy": "2024-08-20T19:32:52.179579Z",
     "iopub.status.idle": "2024-08-20T19:32:52.182857Z",
     "shell.execute_reply": "2024-08-20T19:32:52.182296Z"
    },
    "slideshow": {
     "slide_type": "-"
    }
   },
   "outputs": [],
   "source": [
    "print(find_largest([]))"
   ]
  },
  {
   "cell_type": "markdown",
   "id": "60927821",
   "metadata": {
    "slideshow": {
     "slide_type": "slide"
    }
   },
   "source": [
    "## Oh wait, Python does this for us\n",
    "\n",
    "There is a `max` function (also `min`) that will give us the largest/smallest item in a list: [max() documentation](https://docs.python.org/3/library/functions.html#max)\n",
    "\n",
    "This was still a useful exercise to go through, because the issues we encountered and fixed are all common coding challenges.\n",
    "\n",
    "But when you're writing code in the wild, check for a built-in function or library that you can use before building it all yourself!"
   ]
  },
  {
   "cell_type": "code",
   "execution_count": null,
   "id": "26982949",
   "metadata": {
    "execution": {
     "iopub.execute_input": "2024-08-20T19:32:52.185736Z",
     "iopub.status.busy": "2024-08-20T19:32:52.185499Z",
     "iopub.status.idle": "2024-08-20T19:32:52.189465Z",
     "shell.execute_reply": "2024-08-20T19:32:52.188946Z"
    }
   },
   "outputs": [],
   "source": [
    "max([-1, -2, -3])"
   ]
  },
  {
   "cell_type": "markdown",
   "id": "3bc9b42c",
   "metadata": {
    "slideshow": {
     "slide_type": "slide"
    }
   },
   "source": [
    "# Example: to-do list\n",
    "\n",
    "Write a to-do list program. It should prompt the user for tasks, let the user print all their tasks, and remove things from the list."
   ]
  },
  {
   "cell_type": "code",
   "execution_count": null,
   "id": "aaa98d8c",
   "metadata": {
    "execution": {
     "iopub.execute_input": "2024-08-20T19:32:52.192481Z",
     "iopub.status.busy": "2024-08-20T19:32:52.192233Z",
     "iopub.status.idle": "2024-08-20T19:32:52.218206Z",
     "shell.execute_reply": "2024-08-20T19:32:52.217522Z"
    },
    "tags": [
     "remove-output"
    ]
   },
   "outputs": [],
   "source": [
    "tasks = []\n",
    "while True:\n",
    "\n",
    "  answer = input(\"What would you like to do? (a)dd a task, (r)emove a task, (l)ist the tasks, or (q)uit \")\n",
    "\n",
    "  if answer == \"q\":\n",
    "    break\n",
    "\n",
    "  if answer == \"a\":\n",
    "    item = input(\"Enter the task: \")\n",
    "    tasks.append(item)\n",
    "  elif answer == \"l\":\n",
    "    for i in range(len(tasks)):\n",
    "      print(str(i+1) + \": \" + tasks[i])\n",
    "  elif answer == \"r\":\n",
    "    # Note this will error if you try to delete an index that doesn't exist in the list!\n",
    "    index = int(input(\"Enter the number of the task to remove \"))\n",
    "    removed = tasks.pop(index - 1)\n",
    "    print(\"You removed: \" + removed)\n",
    "  else:\n",
    "    print(\"Invalid input, try again\")\n",
    "\n",
    "    "
   ]
  },
  {
   "cell_type": "markdown",
   "id": "635a1eb2",
   "metadata": {},
   "source": [
    "To be written"
   ]
  },
  {
   "cell_type": "markdown",
   "id": "1ee8a1d2",
   "metadata": {
    "slideshow": {
     "slide_type": "slide"
    }
   },
   "source": [
    "# Sequences\n",
    "\n",
    "<style>\n",
    "section.present > section.present { \n",
    "    max-height: 90%; \n",
    "    overflow-y: scroll;\n",
    "}\n",
    "</style>\n",
    "\n",
    "<small><a href=\"https://colab.research.google.com/github/brandeis-jdelfino/cosi-10a/blob/main/lectures/notebooks/7_sequences.ipynb\">Link to interactive slides on Google Colab</a></small>"
   ]
  },
  {
   "cell_type": "markdown",
   "id": "61f0aac4",
   "metadata": {
    "slideshow": {
     "slide_type": "slide"
    }
   },
   "source": [
    "# Sequence types\n",
    "\n",
    "We've looked at a few **sequence types** already - can you guess which types are sequence types?"
   ]
  },
  {
   "cell_type": "markdown",
   "id": "305139c4",
   "metadata": {
    "slideshow": {
     "slide_type": "fragment"
    }
   },
   "source": [
    "* **Sequence types** are data types that represent sequences of things. \n",
    "  * `str` - sequence of characters\n",
    "  * `list` - sequence of values\n",
    "  * `range` - (as in: `for i in range(5)`!) generated sequence of integers \n",
    "  * `tuple` - coming soon, similar to `list`\n",
    "  \n",
    "Today, we'll learn about tuples, some common operations that work on some/all sequence types, and more about strings."
   ]
  },
  {
   "cell_type": "markdown",
   "id": "421d62e1",
   "metadata": {
    "slideshow": {
     "slide_type": "slide"
    }
   },
   "source": [
    "# Tuples\n",
    "\n",
    "Tuples are a sequence type. They are almost the same as lists, with a few small differences:\n",
    "* Tuples are created and represented with parentheses `(` `)` instead of brackets `[` `]`\n",
    "* Tuples are **immutable**. This means they can't change after creation."
   ]
  },
  {
   "cell_type": "code",
   "execution_count": null,
   "id": "735ef902",
   "metadata": {
    "execution": {
     "iopub.execute_input": "2024-08-20T19:32:52.222195Z",
     "iopub.status.busy": "2024-08-20T19:32:52.221933Z",
     "iopub.status.idle": "2024-08-20T19:32:52.225676Z",
     "shell.execute_reply": "2024-08-20T19:32:52.224945Z"
    }
   },
   "outputs": [],
   "source": [
    "i_am_a_tuple = (1,2,3)\n",
    "print(i_am_a_tuple)"
   ]
  },
  {
   "cell_type": "code",
   "execution_count": null,
   "id": "1a2c6bc3",
   "metadata": {
    "execution": {
     "iopub.execute_input": "2024-08-20T19:32:52.228904Z",
     "iopub.status.busy": "2024-08-20T19:32:52.228643Z",
     "iopub.status.idle": "2024-08-20T19:32:52.231964Z",
     "shell.execute_reply": "2024-08-20T19:32:52.231368Z"
    }
   },
   "outputs": [],
   "source": [
    "im_also_a_tuple = (7,)\n",
    "print(im_also_a_tuple)"
   ]
  },
  {
   "cell_type": "code",
   "execution_count": null,
   "id": "9fbc2302",
   "metadata": {
    "execution": {
     "iopub.execute_input": "2024-08-20T19:32:52.234833Z",
     "iopub.status.busy": "2024-08-20T19:32:52.234585Z",
     "iopub.status.idle": "2024-08-20T19:32:52.238009Z",
     "shell.execute_reply": "2024-08-20T19:32:52.237295Z"
    }
   },
   "outputs": [],
   "source": [
    "# You don't strictly need the parentheses, although it's often more clear to include them\n",
    "hey_wait = 7,2\n",
    "print(hey_wait)"
   ]
  },
  {
   "cell_type": "markdown",
   "id": "d0964505",
   "metadata": {
    "slideshow": {
     "slide_type": "subslide"
    }
   },
   "source": [
    "Tuples are **immutable**. This means they can't change after creation.\n",
    "\n",
    "You can't add, remove, or change the items a tuple contains."
   ]
  },
  {
   "cell_type": "code",
   "execution_count": null,
   "id": "7aabe9ea",
   "metadata": {
    "execution": {
     "iopub.execute_input": "2024-08-20T19:32:52.241052Z",
     "iopub.status.busy": "2024-08-20T19:32:52.240794Z",
     "iopub.status.idle": "2024-08-20T19:32:52.257282Z",
     "shell.execute_reply": "2024-08-20T19:32:52.256622Z"
    },
    "tags": [
     "raises-exception"
    ]
   },
   "outputs": [],
   "source": [
    "flavors = (\"chocolate\", \"vanilla\", \"strawberry\")\n",
    "flavors[1] = \"coffee\""
   ]
  },
  {
   "cell_type": "markdown",
   "id": "021042e9",
   "metadata": {
    "slideshow": {
     "slide_type": "subslide"
    }
   },
   "source": [
    "You can convert back and forth between lists and tuples, similar to converting between `int`, `float`, and `str`:"
   ]
  },
  {
   "cell_type": "code",
   "execution_count": null,
   "id": "d10b9b4b",
   "metadata": {
    "execution": {
     "iopub.execute_input": "2024-08-20T19:32:52.260677Z",
     "iopub.status.busy": "2024-08-20T19:32:52.260398Z",
     "iopub.status.idle": "2024-08-20T19:32:52.263812Z",
     "shell.execute_reply": "2024-08-20T19:32:52.263203Z"
    }
   },
   "outputs": [],
   "source": [
    "flavors = (\"chocolate\", \"vanilla\", \"strawberry\")\n",
    "print(flavors)\n"
   ]
  },
  {
   "cell_type": "code",
   "execution_count": null,
   "id": "9b5e5b14",
   "metadata": {
    "execution": {
     "iopub.execute_input": "2024-08-20T19:32:52.266867Z",
     "iopub.status.busy": "2024-08-20T19:32:52.266599Z",
     "iopub.status.idle": "2024-08-20T19:32:52.270172Z",
     "shell.execute_reply": "2024-08-20T19:32:52.269567Z"
    }
   },
   "outputs": [],
   "source": [
    "new_flavors = list(flavors)\n",
    "new_flavors[1] = \"coffee\"\n",
    "print(new_flavors)"
   ]
  },
  {
   "cell_type": "code",
   "execution_count": null,
   "id": "0f52cfa1",
   "metadata": {
    "execution": {
     "iopub.execute_input": "2024-08-20T19:32:52.274930Z",
     "iopub.status.busy": "2024-08-20T19:32:52.274597Z",
     "iopub.status.idle": "2024-08-20T19:32:52.278381Z",
     "shell.execute_reply": "2024-08-20T19:32:52.277764Z"
    }
   },
   "outputs": [],
   "source": [
    "flavors = tuple(new_flavors)\n",
    "print(flavors)"
   ]
  },
  {
   "cell_type": "markdown",
   "id": "c7dc4477",
   "metadata": {
    "slideshow": {
     "slide_type": "subslide"
    }
   },
   "source": [
    "## Returning multiple values with tuples\n",
    "\n",
    "A common use for tuples is to easily return multiple values from a function.\n",
    "\n",
    "Here's a function that takes in a list of strings, and returns a 2-tuple containing the longest name, and the length of the longest name:"
   ]
  },
  {
   "cell_type": "code",
   "execution_count": null,
   "id": "0abb937d",
   "metadata": {
    "execution": {
     "iopub.execute_input": "2024-08-20T19:32:52.281434Z",
     "iopub.status.busy": "2024-08-20T19:32:52.281171Z",
     "iopub.status.idle": "2024-08-20T19:32:52.284779Z",
     "shell.execute_reply": "2024-08-20T19:32:52.284193Z"
    }
   },
   "outputs": [],
   "source": [
    "def longest_name(names):\n",
    "    max_name = \"\"\n",
    "    for name in names:\n",
    "        if len(name) > len(max_name):\n",
    "            max_name = name\n",
    "    return (max_name, len(max_name))"
   ]
  },
  {
   "cell_type": "code",
   "execution_count": null,
   "id": "01ba92ad",
   "metadata": {
    "execution": {
     "iopub.execute_input": "2024-08-20T19:32:52.287790Z",
     "iopub.status.busy": "2024-08-20T19:32:52.287526Z",
     "iopub.status.idle": "2024-08-20T19:32:52.291848Z",
     "shell.execute_reply": "2024-08-20T19:32:52.291211Z"
    }
   },
   "outputs": [],
   "source": [
    "longest_name([\"Bill Murray\", \"Spongebob\", \"Batman\"])"
   ]
  },
  {
   "cell_type": "markdown",
   "id": "d484b4bc",
   "metadata": {
    "slideshow": {
     "slide_type": "subslide"
    }
   },
   "source": [
    "## Another example of multiple return values\n",
    "\n",
    "From last lecture:"
   ]
  },
  {
   "cell_type": "code",
   "execution_count": null,
   "id": "2fb50316",
   "metadata": {
    "execution": {
     "iopub.execute_input": "2024-08-20T19:32:52.294844Z",
     "iopub.status.busy": "2024-08-20T19:32:52.294599Z",
     "iopub.status.idle": "2024-08-20T19:32:52.298033Z",
     "shell.execute_reply": "2024-08-20T19:32:52.297477Z"
    }
   },
   "outputs": [],
   "source": [
    "def find_average(nums):\n",
    "    sum = 0\n",
    "    for num in nums:\n",
    "        sum = sum + num\n",
    "    avg = sum / len(nums)\n",
    "    return avg"
   ]
  },
  {
   "cell_type": "code",
   "execution_count": null,
   "id": "2ebd299e",
   "metadata": {
    "execution": {
     "iopub.execute_input": "2024-08-20T19:32:52.300892Z",
     "iopub.status.busy": "2024-08-20T19:32:52.300637Z",
     "iopub.status.idle": "2024-08-20T19:32:52.304082Z",
     "shell.execute_reply": "2024-08-20T19:32:52.303553Z"
    }
   },
   "outputs": [],
   "source": [
    "def below_average(nums):\n",
    "    avg = find_average(nums)\n",
    "    \n",
    "    print(\"The average is: \" + str(avg) + \". Here are all the below average numbers: \")\n",
    "    for num in nums:\n",
    "        if num < avg:\n",
    "            print(num, end=' ')"
   ]
  },
  {
   "cell_type": "markdown",
   "id": "59be94f7",
   "metadata": {},
   "source": [
    "Let's modify `below_average` to return 2 things: the average, and a list of things below the average."
   ]
  },
  {
   "cell_type": "code",
   "execution_count": null,
   "id": "e6a07367",
   "metadata": {
    "execution": {
     "iopub.execute_input": "2024-08-20T19:32:52.307027Z",
     "iopub.status.busy": "2024-08-20T19:32:52.306775Z",
     "iopub.status.idle": "2024-08-20T19:32:52.310943Z",
     "shell.execute_reply": "2024-08-20T19:32:52.310321Z"
    },
    "slideshow": {
     "slide_type": "subslide"
    }
   },
   "outputs": [],
   "source": [
    "def below_average(nums):\n",
    "    avg = find_average(nums)\n",
    "    \n",
    "    belows = []\n",
    "    for num in nums:\n",
    "        if num < avg:\n",
    "            belows.append(num)\n",
    "    return (avg, belows)"
   ]
  },
  {
   "cell_type": "code",
   "execution_count": null,
   "id": "9cb8229f",
   "metadata": {
    "execution": {
     "iopub.execute_input": "2024-08-20T19:32:52.314146Z",
     "iopub.status.busy": "2024-08-20T19:32:52.313891Z",
     "iopub.status.idle": "2024-08-20T19:32:52.317890Z",
     "shell.execute_reply": "2024-08-20T19:32:52.317133Z"
    }
   },
   "outputs": [],
   "source": [
    "answers = below_average([1, 10000, 2, 7, 11000])\n",
    "print(\"The average is: \" + str(answers[0]) + \" and the below average numbers are: \" + str(answers[1])) "
   ]
  },
  {
   "cell_type": "markdown",
   "id": "61ba394f",
   "metadata": {
    "slideshow": {
     "slide_type": "subslide"
    }
   },
   "source": [
    "## Side note: Value unpacking\n",
    "\n",
    "That last example was kind of awkward - we assigned to `answers`, then had to access each part of it by an index. We can use something called \"value unpacking\" to improve this. \n",
    "\n",
    "**Value unpacking** allows you to assign multiple values to multiple variables at once. "
   ]
  },
  {
   "cell_type": "code",
   "execution_count": null,
   "id": "971a849c",
   "metadata": {
    "execution": {
     "iopub.execute_input": "2024-08-20T19:32:52.321182Z",
     "iopub.status.busy": "2024-08-20T19:32:52.320918Z",
     "iopub.status.idle": "2024-08-20T19:32:52.324544Z",
     "shell.execute_reply": "2024-08-20T19:32:52.324010Z"
    }
   },
   "outputs": [],
   "source": [
    "# without value unpacking\n",
    "answers = below_average([1, 10000, 2, 7, 11000])\n",
    "print(\"The average is: \" + str(answers[0]) + \" and the below average numbers are: \" + str(answers[1]))"
   ]
  },
  {
   "cell_type": "code",
   "execution_count": null,
   "id": "7c85d836",
   "metadata": {
    "execution": {
     "iopub.execute_input": "2024-08-20T19:32:52.327426Z",
     "iopub.status.busy": "2024-08-20T19:32:52.327181Z",
     "iopub.status.idle": "2024-08-20T19:32:52.330659Z",
     "shell.execute_reply": "2024-08-20T19:32:52.330037Z"
    },
    "slideshow": {
     "slide_type": "-"
    }
   },
   "outputs": [],
   "source": [
    "# with value unpacking\n",
    "avg, below_avg_nums = below_average([1, 10000, 2, 7, 11000])\n",
    "print(\"The average is: \" + str(avg) + \" and the below average numbers are: \" + str(below_avg_nums))"
   ]
  },
  {
   "cell_type": "markdown",
   "id": "61bb89d3",
   "metadata": {
    "slideshow": {
     "slide_type": "subslide"
    }
   },
   "source": [
    "Value unpacking works with any sequence type"
   ]
  },
  {
   "cell_type": "code",
   "execution_count": null,
   "id": "e020b2f6",
   "metadata": {
    "execution": {
     "iopub.execute_input": "2024-08-20T19:32:52.333791Z",
     "iopub.status.busy": "2024-08-20T19:32:52.333536Z",
     "iopub.status.idle": "2024-08-20T19:32:52.337403Z",
     "shell.execute_reply": "2024-08-20T19:32:52.336781Z"
    }
   },
   "outputs": [],
   "source": [
    "names = [\"Larry\", \"Moe\", \"Curly\"]\n",
    "stooge1, stooge2, stooge3 = names\n",
    "print(\"Stooge 1: \" + stooge1 + \", stooge 2: \" + stooge2 + \", stooge 3: \" + stooge3)\n",
    "\n",
    "# equivalent to 'stooge1, stooge2, stooge3 = names'\n",
    "stooge1 = names[0]\n",
    "stooge2 = names[1]\n",
    "stooge3 = names[2]"
   ]
  },
  {
   "cell_type": "code",
   "execution_count": null,
   "id": "13dece82",
   "metadata": {
    "execution": {
     "iopub.execute_input": "2024-08-20T19:32:52.340399Z",
     "iopub.status.busy": "2024-08-20T19:32:52.340130Z",
     "iopub.status.idle": "2024-08-20T19:32:52.343564Z",
     "shell.execute_reply": "2024-08-20T19:32:52.342966Z"
    }
   },
   "outputs": [],
   "source": [
    "a, b, c = \"xyz\"\n",
    "print(\"a: \" + a + \"; b: \" + b + \"; c: \" + c)"
   ]
  },
  {
   "cell_type": "markdown",
   "id": "4d870d3a",
   "metadata": {
    "slideshow": {
     "slide_type": "subslide"
    }
   },
   "source": [
    "The assignment will raise an error if the number of variables on the left doesn't match the length of the sequence being unpacked."
   ]
  },
  {
   "cell_type": "code",
   "execution_count": null,
   "id": "476bb441",
   "metadata": {
    "execution": {
     "iopub.execute_input": "2024-08-20T19:32:52.346696Z",
     "iopub.status.busy": "2024-08-20T19:32:52.346434Z",
     "iopub.status.idle": "2024-08-20T19:32:52.363043Z",
     "shell.execute_reply": "2024-08-20T19:32:52.362356Z"
    },
    "slideshow": {
     "slide_type": "-"
    },
    "tags": [
     "raises-exception"
    ]
   },
   "outputs": [],
   "source": [
    "a, b, c = (1, 2)"
   ]
  },
  {
   "cell_type": "code",
   "execution_count": null,
   "id": "c54413d7",
   "metadata": {
    "execution": {
     "iopub.execute_input": "2024-08-20T19:32:52.366315Z",
     "iopub.status.busy": "2024-08-20T19:32:52.366035Z",
     "iopub.status.idle": "2024-08-20T19:32:52.381413Z",
     "shell.execute_reply": "2024-08-20T19:32:52.380702Z"
    },
    "tags": [
     "raises-exception"
    ]
   },
   "outputs": [],
   "source": [
    "a, b = (1, 2, 3)"
   ]
  },
  {
   "cell_type": "markdown",
   "id": "2ba44185",
   "metadata": {
    "slideshow": {
     "slide_type": "subslide"
    }
   },
   "source": [
    "# `range` revisited\n",
    "\n",
    "`range` is actually a sequence type that generates integers:"
   ]
  },
  {
   "cell_type": "code",
   "execution_count": null,
   "id": "cee46f7a",
   "metadata": {
    "execution": {
     "iopub.execute_input": "2024-08-20T19:32:52.384971Z",
     "iopub.status.busy": "2024-08-20T19:32:52.384495Z",
     "iopub.status.idle": "2024-08-20T19:32:52.389609Z",
     "shell.execute_reply": "2024-08-20T19:32:52.388999Z"
    }
   },
   "outputs": [],
   "source": [
    "range(5)"
   ]
  },
  {
   "cell_type": "code",
   "execution_count": null,
   "id": "0d659e7d",
   "metadata": {
    "execution": {
     "iopub.execute_input": "2024-08-20T19:32:52.392912Z",
     "iopub.status.busy": "2024-08-20T19:32:52.392649Z",
     "iopub.status.idle": "2024-08-20T19:32:52.397619Z",
     "shell.execute_reply": "2024-08-20T19:32:52.396889Z"
    }
   },
   "outputs": [],
   "source": [
    "list(range(5))"
   ]
  },
  {
   "cell_type": "markdown",
   "id": "ab79c6c0",
   "metadata": {},
   "source": [
    "Note the difference! `range` is **not** a `list`! It is a sequence though."
   ]
  },
  {
   "cell_type": "markdown",
   "id": "8635f353",
   "metadata": {
    "slideshow": {
     "slide_type": "subslide"
    }
   },
   "source": [
    "Even though `range` and `list` are different types, they behave the same in a `for` loop:"
   ]
  },
  {
   "cell_type": "code",
   "execution_count": null,
   "id": "c7376843",
   "metadata": {
    "execution": {
     "iopub.execute_input": "2024-08-20T19:32:52.400959Z",
     "iopub.status.busy": "2024-08-20T19:32:52.400467Z",
     "iopub.status.idle": "2024-08-20T19:32:52.405140Z",
     "shell.execute_reply": "2024-08-20T19:32:52.403403Z"
    },
    "slideshow": {
     "slide_type": "-"
    }
   },
   "outputs": [],
   "source": [
    "for i in range(5):\n",
    "    print(i)"
   ]
  },
  {
   "cell_type": "markdown",
   "id": "c5c9c82f",
   "metadata": {},
   "source": [
    "behaves the same as:"
   ]
  },
  {
   "cell_type": "code",
   "execution_count": null,
   "id": "68330b5b",
   "metadata": {
    "execution": {
     "iopub.execute_input": "2024-08-20T19:32:52.409212Z",
     "iopub.status.busy": "2024-08-20T19:32:52.408920Z",
     "iopub.status.idle": "2024-08-20T19:32:52.413876Z",
     "shell.execute_reply": "2024-08-20T19:32:52.413023Z"
    }
   },
   "outputs": [],
   "source": [
    "for i in [0,1,2,3,4]:\n",
    "    print(i)"
   ]
  },
  {
   "cell_type": "markdown",
   "id": "8a74db96",
   "metadata": {
    "slideshow": {
     "slide_type": "slide"
    }
   },
   "source": [
    "# `for` revisited\n",
    "\n",
    "It turns out that `for i in range(...):` is actually just a special case of the general `for` loop form:\n",
    "\n",
    "```\n",
    "for <var> in <sequence>:\n",
    "   statement(s)\n",
    "```\n",
    "\n",
    "A `for` loop can iterate over any **sequence**. It executes the code block once for each item in the sequence. \n",
    "\n",
    "This means you can use `for` loops on strings, lists, tuples, and ranges.\n"
   ]
  },
  {
   "cell_type": "code",
   "execution_count": null,
   "id": "986c5886",
   "metadata": {
    "execution": {
     "iopub.execute_input": "2024-08-20T19:32:52.417389Z",
     "iopub.status.busy": "2024-08-20T19:32:52.417082Z",
     "iopub.status.idle": "2024-08-20T19:32:52.421734Z",
     "shell.execute_reply": "2024-08-20T19:32:52.421005Z"
    },
    "slideshow": {
     "slide_type": "subslide"
    }
   },
   "outputs": [],
   "source": [
    "for c in \"Hello, world!\":\n",
    "    print(c)"
   ]
  },
  {
   "cell_type": "markdown",
   "id": "f63edc4d",
   "metadata": {
    "slideshow": {
     "slide_type": "slide"
    }
   },
   "source": [
    "# Iterables\n",
    "\n",
    "An **iterable** object is an object capable of returning its members one at a time. \n",
    "\n",
    "All sequence types are **iterables**. Other types can be iterable too. \n",
    "\n",
    "Some examples of non-sequence iterables:\n",
    "* Dictionaries (a data type we'll see in a few lectures)\n",
    "* Reading a file line-by-line\n",
    "* A \"generator\" - an iterator that generates a sequence on-demand, as each item is requested."
   ]
  },
  {
   "cell_type": "markdown",
   "id": "548058cc",
   "metadata": {
    "slideshow": {
     "slide_type": "subslide"
    }
   },
   "source": [
    "The details of iterables and iterators are beyond the scope of this class. The important things to know for now are:\n",
    "* **Iterables** are objects that can return their members one at a time\n",
    "* All iterables can be iterated over in a `for` loop.\n",
    "\n",
    "If you want to learn about this topic, this is a decent introductory resource: [Towards Data Science](https://towardsdatascience.com/python-basics-iteration-and-looping-6ca63b30835c). "
   ]
  },
  {
   "cell_type": "markdown",
   "id": "cf56a774",
   "metadata": {
    "slideshow": {
     "slide_type": "subslide"
    }
   },
   "source": [
    "# `for` revisited, again\n",
    "\n",
    "Last time, I promise. \n",
    "\n",
    "```\n",
    "for <var> in <iterable>:\n",
    "   statement(s)\n",
    "```\n",
    "\n",
    "`for` loops can loop over anything that is an **iterable**. This capture more than just **sequences**."
   ]
  },
  {
   "cell_type": "markdown",
   "id": "e89972fe",
   "metadata": {
    "slideshow": {
     "slide_type": "slide"
    }
   },
   "source": [
    "# Common sequence operations\n",
    "\n",
    "These work on all sequence types! We've seen some of these before on strings or lists. They also work on tuples (and even ranges).\n",
    "\n",
    "| Operation | Description | Example | Result |\n",
    "| --- | :--- | --- | :--- |\n",
    "| `x in s` | True if an item of s is equal to x | `\"hi\" in [\"hello\", \"hi\", \"yo\"]` | True |\n",
    "| `x not in s` | Opposite of `in` | `\"hi\" not in [\"hello\", \"hi\", \"yo\"]` | False |\n",
    "| `s + t` | Concatenate (combine end-to-end) | `[1,2,3] + [4,5]` | `[1,2,3,4,5]` |\n",
    "| `s * n` | Replicate | `\"abc\" * 3` | `\"abcabcabc\"` |\n",
    "| `s[i]` | *i*th item of `s` | `\"hello\"[1]` | `\"e\"` |\n",
    "| `s[i:j]` | slice of `s` from `i` to `j` | `\"hello\"[1:3]` | `\"ell\"` |\n",
    "| `len(s)` | length of `s` | `len(\"hello\")` | `5` |\n",
    "| `min(s)` | The smallest item of `s` | `min([4, 8, 7, 3])` | `3` |\n",
    "| `max(s)` | The largest item of `s` | `max([4, 8, 7, 3])` | `8` |\n",
    "| `s.index(x)` | index of the first occurrence of `x` in `s` | `[4, 8, 7, 3].index(7)` | `2` |\n",
    "| `s.count(x)` | total number of occurrences of `x` in `s` | `\"hello\".count(\"l\")` | `2` |"
   ]
  },
  {
   "cell_type": "markdown",
   "id": "a4b22365",
   "metadata": {
    "slideshow": {
     "slide_type": "slide"
    }
   },
   "source": [
    "# Example\n",
    "\n",
    "Write a program that prompts the user for 5 integers, then prints out:\n",
    "1. The largest integer they entered\n",
    "2. The smallest integer they entered\n",
    "3. Whether `42` is in the list of integers they entered\n",
    "4. How many times they repeated the first integer they entered\n",
    "  * e.g. if they entered: 4, 3, 4, 4, 1, then the answer would be 3, because they entered the number 4 three times.\n",
    "  \n",
    "Hint: Use a list to store the integers, then use the sequence operations for each task."
   ]
  },
  {
   "cell_type": "code",
   "execution_count": null,
   "id": "04cc2444",
   "metadata": {
    "execution": {
     "iopub.execute_input": "2024-08-20T19:32:52.425200Z",
     "iopub.status.busy": "2024-08-20T19:32:52.424946Z",
     "iopub.status.idle": "2024-08-20T19:32:52.427831Z",
     "shell.execute_reply": "2024-08-20T19:32:52.427239Z"
    }
   },
   "outputs": [],
   "source": [
    "# Live coding solution"
   ]
  },
  {
   "cell_type": "markdown",
   "id": "52731dc7",
   "metadata": {
    "slideshow": {
     "slide_type": "slide"
    }
   },
   "source": [
    "# More on Strings\n",
    "\n",
    "In addition to the common sequence operations, strings provide many other helpful methods.\n",
    "\n",
    "The full list can be found in the [official documentation on strings](https://docs.python.org/3/library/stdtypes.html#string-methods). \n",
    "\n",
    "We'll look through a few notable ones now."
   ]
  },
  {
   "cell_type": "markdown",
   "id": "c9e22759",
   "metadata": {
    "slideshow": {
     "slide_type": "subslide"
    }
   },
   "source": [
    "## split\n",
    "\n",
    "`s.split(<delim>)` splits a string into a list. By default it splits at any whitespace, or you can tell it which character(s) to split at:"
   ]
  },
  {
   "cell_type": "code",
   "execution_count": null,
   "id": "dca84053",
   "metadata": {
    "execution": {
     "iopub.execute_input": "2024-08-20T19:32:52.430906Z",
     "iopub.status.busy": "2024-08-20T19:32:52.430660Z",
     "iopub.status.idle": "2024-08-20T19:32:52.434831Z",
     "shell.execute_reply": "2024-08-20T19:32:52.434285Z"
    }
   },
   "outputs": [],
   "source": [
    "sentence = \"This is a sentence with lots of words\"\n",
    "sentence.split()"
   ]
  },
  {
   "cell_type": "code",
   "execution_count": null,
   "id": "243aa8e6",
   "metadata": {
    "execution": {
     "iopub.execute_input": "2024-08-20T19:32:52.437695Z",
     "iopub.status.busy": "2024-08-20T19:32:52.437441Z",
     "iopub.status.idle": "2024-08-20T19:32:52.441507Z",
     "shell.execute_reply": "2024-08-20T19:32:52.440949Z"
    }
   },
   "outputs": [],
   "source": [
    "sentence = \"This,is a sentence,with,lots of words\"\n",
    "sentence.split(\",\")"
   ]
  },
  {
   "cell_type": "markdown",
   "id": "0ecd3c75",
   "metadata": {
    "slideshow": {
     "slide_type": "subslide"
    }
   },
   "source": [
    "## join\n",
    "\n",
    "`s.join(<sequence of strings>)` joins a sequence of strings together into a single string, with `s` between each string."
   ]
  },
  {
   "cell_type": "code",
   "execution_count": null,
   "id": "19b24398",
   "metadata": {
    "execution": {
     "iopub.execute_input": "2024-08-20T19:32:52.444438Z",
     "iopub.status.busy": "2024-08-20T19:32:52.444138Z",
     "iopub.status.idle": "2024-08-20T19:32:52.449312Z",
     "shell.execute_reply": "2024-08-20T19:32:52.448653Z"
    }
   },
   "outputs": [],
   "source": [
    "' '.join([\"some\", \"words\", \"to\", \"stitch\", \"together\"])"
   ]
  },
  {
   "cell_type": "code",
   "execution_count": null,
   "id": "09b7f80b",
   "metadata": {
    "execution": {
     "iopub.execute_input": "2024-08-20T19:32:52.452395Z",
     "iopub.status.busy": "2024-08-20T19:32:52.452140Z",
     "iopub.status.idle": "2024-08-20T19:32:52.456471Z",
     "shell.execute_reply": "2024-08-20T19:32:52.455881Z"
    }
   },
   "outputs": [],
   "source": [
    "#print('\\n HI: '.join([\"some\", \"words\", \"to\", \"stitch\", \"together\"]))\n",
    "', '.join([\"10\",\"9\",\"8\",\"7\"])"
   ]
  },
  {
   "cell_type": "markdown",
   "id": "e14be3ca",
   "metadata": {
    "slideshow": {
     "slide_type": "subslide"
    }
   },
   "source": [
    "## isdigit\n",
    "\n",
    "`s.isdigit()` returns `True` if all characters in the string are digits and there is at least one character, `False` otherwise."
   ]
  },
  {
   "cell_type": "code",
   "execution_count": null,
   "id": "5a165a55",
   "metadata": {
    "execution": {
     "iopub.execute_input": "2024-08-20T19:32:52.459524Z",
     "iopub.status.busy": "2024-08-20T19:32:52.459268Z",
     "iopub.status.idle": "2024-08-20T19:32:52.463237Z",
     "shell.execute_reply": "2024-08-20T19:32:52.462716Z"
    }
   },
   "outputs": [],
   "source": [
    "'12345678'.isdigit()"
   ]
  },
  {
   "cell_type": "code",
   "execution_count": null,
   "id": "1a389911",
   "metadata": {
    "execution": {
     "iopub.execute_input": "2024-08-20T19:32:52.465967Z",
     "iopub.status.busy": "2024-08-20T19:32:52.465729Z",
     "iopub.status.idle": "2024-08-20T19:32:52.470031Z",
     "shell.execute_reply": "2024-08-20T19:32:52.469350Z"
    }
   },
   "outputs": [],
   "source": [
    "'123abc'.isdigit()"
   ]
  },
  {
   "cell_type": "markdown",
   "id": "61ed7209",
   "metadata": {
    "slideshow": {
     "slide_type": "subslide"
    }
   },
   "source": [
    "## Changing case\n",
    "\n",
    "`s.upper()` and `s.lower()` convert strings to upper and lower case"
   ]
  },
  {
   "cell_type": "code",
   "execution_count": null,
   "id": "1589ff4d",
   "metadata": {
    "execution": {
     "iopub.execute_input": "2024-08-20T19:32:52.473160Z",
     "iopub.status.busy": "2024-08-20T19:32:52.472923Z",
     "iopub.status.idle": "2024-08-20T19:32:52.477114Z",
     "shell.execute_reply": "2024-08-20T19:32:52.476525Z"
    }
   },
   "outputs": [],
   "source": [
    "'SpongeBob SquarePants'.upper()"
   ]
  },
  {
   "cell_type": "code",
   "execution_count": null,
   "id": "611b5025",
   "metadata": {
    "execution": {
     "iopub.execute_input": "2024-08-20T19:32:52.480046Z",
     "iopub.status.busy": "2024-08-20T19:32:52.479791Z",
     "iopub.status.idle": "2024-08-20T19:32:52.483727Z",
     "shell.execute_reply": "2024-08-20T19:32:52.483186Z"
    }
   },
   "outputs": [],
   "source": [
    "'SpongeBob SquarePants'.lower()"
   ]
  },
  {
   "cell_type": "markdown",
   "id": "03e4feaf",
   "metadata": {
    "slideshow": {
     "slide_type": "subslide"
    }
   },
   "source": [
    "## startswith / endswith\n",
    "\n",
    "`s.startswith(<search string>)` and `s.endswith(<search string>)`: return True if a string starts/ends with a substring"
   ]
  },
  {
   "cell_type": "code",
   "execution_count": null,
   "id": "8967302d",
   "metadata": {
    "execution": {
     "iopub.execute_input": "2024-08-20T19:32:52.486622Z",
     "iopub.status.busy": "2024-08-20T19:32:52.486368Z",
     "iopub.status.idle": "2024-08-20T19:32:52.490343Z",
     "shell.execute_reply": "2024-08-20T19:32:52.489797Z"
    }
   },
   "outputs": [],
   "source": [
    "'SpongeBob SquarePants'.startswith(\"Sponge\")"
   ]
  },
  {
   "cell_type": "code",
   "execution_count": null,
   "id": "1d0f9a1c",
   "metadata": {
    "execution": {
     "iopub.execute_input": "2024-08-20T19:32:52.493361Z",
     "iopub.status.busy": "2024-08-20T19:32:52.493073Z",
     "iopub.status.idle": "2024-08-20T19:32:52.497364Z",
     "shell.execute_reply": "2024-08-20T19:32:52.496834Z"
    }
   },
   "outputs": [],
   "source": [
    "# case matters!\n",
    "sponge = 'SpongeBob SquarePants'\n",
    "sponge.lower().endswith('pants')"
   ]
  },
  {
   "cell_type": "markdown",
   "id": "6479ae2e",
   "metadata": {},
   "source": [
    "TODO: add an example of more complicated string manipulation"
   ]
  },
  {
   "cell_type": "markdown",
   "id": "93ace8be",
   "metadata": {
    "slideshow": {
     "slide_type": "slide"
    }
   },
   "source": [
    "# Exercise\n",
    "\n",
    "Write a word guessing game where the user guesses one letter at a time to try to guess a secret word. Show the user's progress between each guess."
   ]
  },
  {
   "cell_type": "markdown",
   "id": "de98ffd6",
   "metadata": {
    "slideshow": {
     "slide_type": "subslide"
    }
   },
   "source": [
    "## Functional decomposition\n",
    "\n",
    "This time, let's write the code from the outside in:"
   ]
  },
  {
   "cell_type": "code",
   "execution_count": null,
   "id": "35102242",
   "metadata": {
    "execution": {
     "iopub.execute_input": "2024-08-20T19:32:52.500461Z",
     "iopub.status.busy": "2024-08-20T19:32:52.500216Z",
     "iopub.status.idle": "2024-08-20T19:32:52.503857Z",
     "shell.execute_reply": "2024-08-20T19:32:52.503286Z"
    }
   },
   "outputs": [],
   "source": [
    "def play_game():\n",
    "    word = \"secret\"\n",
    "    progress = [\"_\", \"_\", \"_\", \"_\", \"_\", \"_\"]\n",
    "    while True:\n",
    "        display_progress(progress)\n",
    "        guess = get_guess()\n",
    "        process_guess(word, progress)"
   ]
  },
  {
   "cell_type": "markdown",
   "id": "a8565b79",
   "metadata": {
    "slideshow": {
     "slide_type": "fragment"
    }
   },
   "source": [
    "We've written the outer code, and now we have an idea of which helper functions will be most useful."
   ]
  },
  {
   "cell_type": "code",
   "execution_count": null,
   "id": "e0166772",
   "metadata": {
    "execution": {
     "iopub.execute_input": "2024-08-20T19:32:52.506693Z",
     "iopub.status.busy": "2024-08-20T19:32:52.506452Z",
     "iopub.status.idle": "2024-08-20T19:32:52.509535Z",
     "shell.execute_reply": "2024-08-20T19:32:52.508961Z"
    },
    "slideshow": {
     "slide_type": "subslide"
    }
   },
   "outputs": [],
   "source": [
    "def display_progress(progress):\n",
    "    for p in progress:\n",
    "        print(p, end=\" \")\n",
    "       "
   ]
  },
  {
   "cell_type": "code",
   "execution_count": null,
   "id": "154a6737",
   "metadata": {
    "execution": {
     "iopub.execute_input": "2024-08-20T19:32:52.512421Z",
     "iopub.status.busy": "2024-08-20T19:32:52.512160Z",
     "iopub.status.idle": "2024-08-20T19:32:52.515603Z",
     "shell.execute_reply": "2024-08-20T19:32:52.514997Z"
    }
   },
   "outputs": [],
   "source": [
    "display_progress([\"_\", \"a\", \"b\", \"_\"])"
   ]
  },
  {
   "cell_type": "markdown",
   "id": "eeb5f4be",
   "metadata": {
    "slideshow": {
     "slide_type": "subslide"
    }
   },
   "source": [
    "Another way, using the string method `join` that we just saw:"
   ]
  },
  {
   "cell_type": "code",
   "execution_count": null,
   "id": "ecbe1d8a",
   "metadata": {
    "execution": {
     "iopub.execute_input": "2024-08-20T19:32:52.518629Z",
     "iopub.status.busy": "2024-08-20T19:32:52.518365Z",
     "iopub.status.idle": "2024-08-20T19:32:52.521484Z",
     "shell.execute_reply": "2024-08-20T19:32:52.520955Z"
    }
   },
   "outputs": [],
   "source": [
    "def display_progress(progress):\n",
    "    print(\" \".join(progress))"
   ]
  },
  {
   "cell_type": "code",
   "execution_count": null,
   "id": "6b758b99",
   "metadata": {
    "execution": {
     "iopub.execute_input": "2024-08-20T19:32:52.524265Z",
     "iopub.status.busy": "2024-08-20T19:32:52.524028Z",
     "iopub.status.idle": "2024-08-20T19:32:52.527332Z",
     "shell.execute_reply": "2024-08-20T19:32:52.526753Z"
    }
   },
   "outputs": [],
   "source": [
    "display_progress([\"_\", \"a\", \"b\", \"_\"])"
   ]
  },
  {
   "cell_type": "code",
   "execution_count": null,
   "id": "5d61767e",
   "metadata": {
    "execution": {
     "iopub.execute_input": "2024-08-20T19:32:52.530079Z",
     "iopub.status.busy": "2024-08-20T19:32:52.529841Z",
     "iopub.status.idle": "2024-08-20T19:32:52.533338Z",
     "shell.execute_reply": "2024-08-20T19:32:52.532739Z"
    },
    "slideshow": {
     "slide_type": "subslide"
    }
   },
   "outputs": [],
   "source": [
    "def play_game():\n",
    "    word = \"secret\"\n",
    "    progress = [\"_\", \"_\", \"_\", \"_\", \"_\", \"_\"]\n",
    "    while True:\n",
    "        display_progress(progress)\n",
    "        guess = get_guess()\n",
    "        process_guess(word, progress)"
   ]
  },
  {
   "cell_type": "markdown",
   "id": "370c94b1",
   "metadata": {},
   "source": [
    "Next up, `get_guess()`..."
   ]
  },
  {
   "cell_type": "code",
   "execution_count": null,
   "id": "062160bc",
   "metadata": {
    "execution": {
     "iopub.execute_input": "2024-08-20T19:32:52.536304Z",
     "iopub.status.busy": "2024-08-20T19:32:52.536053Z",
     "iopub.status.idle": "2024-08-20T19:32:52.539107Z",
     "shell.execute_reply": "2024-08-20T19:32:52.538528Z"
    },
    "slideshow": {
     "slide_type": "subslide"
    }
   },
   "outputs": [],
   "source": [
    "def get_guess():\n",
    "    return input(\"Guess a letter! \")"
   ]
  },
  {
   "cell_type": "code",
   "execution_count": null,
   "id": "0d25c151",
   "metadata": {
    "execution": {
     "iopub.execute_input": "2024-08-20T19:32:52.541913Z",
     "iopub.status.busy": "2024-08-20T19:32:52.541666Z",
     "iopub.status.idle": "2024-08-20T19:32:52.569772Z",
     "shell.execute_reply": "2024-08-20T19:32:52.568970Z"
    },
    "tags": [
     "remove-output"
    ]
   },
   "outputs": [],
   "source": [
    "get_guess()"
   ]
  },
  {
   "cell_type": "code",
   "execution_count": null,
   "id": "6db3658d",
   "metadata": {
    "execution": {
     "iopub.execute_input": "2024-08-20T19:32:52.573602Z",
     "iopub.status.busy": "2024-08-20T19:32:52.573286Z",
     "iopub.status.idle": "2024-08-20T19:32:52.577649Z",
     "shell.execute_reply": "2024-08-20T19:32:52.576912Z"
    },
    "slideshow": {
     "slide_type": "subslide"
    }
   },
   "outputs": [],
   "source": [
    "def get_guess():\n",
    "    while True:\n",
    "        guess = input(\"Guess a letter! \")\n",
    "        if len(guess) == 1 and guess.isalpha():\n",
    "            return guess\n",
    "        else:\n",
    "            print(\"Invalid guess, please guess a single letter\")\n",
    "            "
   ]
  },
  {
   "cell_type": "code",
   "execution_count": null,
   "id": "f2af4236",
   "metadata": {
    "execution": {
     "iopub.execute_input": "2024-08-20T19:32:52.581147Z",
     "iopub.status.busy": "2024-08-20T19:32:52.580874Z",
     "iopub.status.idle": "2024-08-20T19:32:52.608224Z",
     "shell.execute_reply": "2024-08-20T19:32:52.607613Z"
    },
    "tags": [
     "remove-output"
    ]
   },
   "outputs": [],
   "source": [
    "get_guess()"
   ]
  },
  {
   "cell_type": "code",
   "execution_count": null,
   "id": "0fe54840",
   "metadata": {
    "execution": {
     "iopub.execute_input": "2024-08-20T19:32:52.611882Z",
     "iopub.status.busy": "2024-08-20T19:32:52.611326Z",
     "iopub.status.idle": "2024-08-20T19:32:52.615969Z",
     "shell.execute_reply": "2024-08-20T19:32:52.615314Z"
    },
    "slideshow": {
     "slide_type": "subslide"
    }
   },
   "outputs": [],
   "source": [
    "def play_game():\n",
    "    word = \"secret\"\n",
    "    progress = [\"_\", \"_\", \"_\", \"_\", \"_\", \"_\"]\n",
    "    while True:\n",
    "        display_progress(progress)\n",
    "        guess = get_guess()\n",
    "        process_guess(guess, word, progress)"
   ]
  },
  {
   "cell_type": "markdown",
   "id": "6b684931",
   "metadata": {},
   "source": [
    "Next up, `process_guess()`, the trickiest part."
   ]
  },
  {
   "cell_type": "markdown",
   "id": "a28a25e2",
   "metadata": {
    "slideshow": {
     "slide_type": "subslide"
    }
   },
   "source": [
    "Walk through each letter of the secret word. If our guess matches that letter, then put that letter into `progress` at the correct index."
   ]
  },
  {
   "cell_type": "code",
   "execution_count": null,
   "id": "c3acab79",
   "metadata": {
    "execution": {
     "iopub.execute_input": "2024-08-20T19:32:52.619522Z",
     "iopub.status.busy": "2024-08-20T19:32:52.619213Z",
     "iopub.status.idle": "2024-08-20T19:32:52.622702Z",
     "shell.execute_reply": "2024-08-20T19:32:52.622075Z"
    },
    "slideshow": {
     "slide_type": "-"
    }
   },
   "outputs": [],
   "source": [
    "def process_guess(guess, word, progress):\n",
    "    for index in range(len(word)):\n",
    "        if guess == word[index]:\n",
    "            progress[index] = guess    "
   ]
  },
  {
   "cell_type": "code",
   "execution_count": null,
   "id": "d390d385",
   "metadata": {
    "execution": {
     "iopub.execute_input": "2024-08-20T19:32:52.625680Z",
     "iopub.status.busy": "2024-08-20T19:32:52.625412Z",
     "iopub.status.idle": "2024-08-20T19:32:52.628977Z",
     "shell.execute_reply": "2024-08-20T19:32:52.628371Z"
    }
   },
   "outputs": [],
   "source": [
    "progress = [\"s\", \"_\", \"_\", \"r\", \"_\", \"t\"]\n",
    "process_guess('e', 'secret', progress)\n",
    "print(progress)"
   ]
  },
  {
   "cell_type": "markdown",
   "id": "b9f552c4",
   "metadata": {
    "slideshow": {
     "slide_type": "subslide"
    }
   },
   "source": [
    "Each piece seems to work on its own, lets test it all together"
   ]
  },
  {
   "cell_type": "code",
   "execution_count": null,
   "id": "24b3903f",
   "metadata": {
    "execution": {
     "iopub.execute_input": "2024-08-20T19:32:52.632082Z",
     "iopub.status.busy": "2024-08-20T19:32:52.631816Z",
     "iopub.status.idle": "2024-08-20T19:32:52.635390Z",
     "shell.execute_reply": "2024-08-20T19:32:52.634747Z"
    },
    "slideshow": {
     "slide_type": "-"
    }
   },
   "outputs": [],
   "source": [
    "def play_game():\n",
    "    word = \"secret\"\n",
    "    progress = [\"_\", \"_\", \"_\", \"_\", \"_\", \"_\"]\n",
    "    while True:\n",
    "        display_progress(progress)\n",
    "        guess = get_guess()\n",
    "        process_guess(guess, word, progress)"
   ]
  },
  {
   "cell_type": "code",
   "execution_count": null,
   "id": "e5c84167",
   "metadata": {
    "execution": {
     "iopub.execute_input": "2024-08-20T19:32:52.638417Z",
     "iopub.status.busy": "2024-08-20T19:32:52.638162Z",
     "iopub.status.idle": "2024-08-20T19:32:52.672721Z",
     "shell.execute_reply": "2024-08-20T19:32:52.671548Z"
    },
    "tags": [
     "remove-output"
    ]
   },
   "outputs": [],
   "source": [
    "play_game()"
   ]
  },
  {
   "cell_type": "markdown",
   "id": "cada8b77",
   "metadata": {
    "slideshow": {
     "slide_type": "subslide"
    }
   },
   "source": [
    "Oops, we forgot to end the game!"
   ]
  },
  {
   "cell_type": "code",
   "execution_count": null,
   "id": "06ec7e0c",
   "metadata": {
    "execution": {
     "iopub.execute_input": "2024-08-20T19:32:52.676864Z",
     "iopub.status.busy": "2024-08-20T19:32:52.676498Z",
     "iopub.status.idle": "2024-08-20T19:32:52.681270Z",
     "shell.execute_reply": "2024-08-20T19:32:52.680646Z"
    },
    "slideshow": {
     "slide_type": "-"
    }
   },
   "outputs": [],
   "source": [
    "def play_game():\n",
    "    word = \"secret\"\n",
    "    progress = [\"_\", \"_\", \"_\", \"_\", \"_\", \"_\"]\n",
    "    while True:\n",
    "        display_progress(progress)\n",
    "        guess = get_guess()\n",
    "        process_guess(guess, word, progress)\n",
    "        if game_over(progress):\n",
    "            print(\"You win!\")\n",
    "            return"
   ]
  },
  {
   "cell_type": "code",
   "execution_count": null,
   "id": "08acdff1",
   "metadata": {
    "execution": {
     "iopub.execute_input": "2024-08-20T19:32:52.684504Z",
     "iopub.status.busy": "2024-08-20T19:32:52.684220Z",
     "iopub.status.idle": "2024-08-20T19:32:52.688044Z",
     "shell.execute_reply": "2024-08-20T19:32:52.687423Z"
    },
    "slideshow": {
     "slide_type": "subslide"
    }
   },
   "outputs": [],
   "source": [
    "def game_over(progress):\n",
    "    for letter in progress:\n",
    "        if letter == \"_\":\n",
    "            return False\n",
    "    return True"
   ]
  },
  {
   "cell_type": "code",
   "execution_count": null,
   "id": "b725241b",
   "metadata": {
    "execution": {
     "iopub.execute_input": "2024-08-20T19:32:52.691083Z",
     "iopub.status.busy": "2024-08-20T19:32:52.690818Z",
     "iopub.status.idle": "2024-08-20T19:32:52.695143Z",
     "shell.execute_reply": "2024-08-20T19:32:52.694539Z"
    }
   },
   "outputs": [],
   "source": [
    "game_over([\"a\", \"b\", \"c\"])"
   ]
  },
  {
   "cell_type": "code",
   "execution_count": null,
   "id": "417da869",
   "metadata": {
    "execution": {
     "iopub.execute_input": "2024-08-20T19:32:52.698273Z",
     "iopub.status.busy": "2024-08-20T19:32:52.697935Z",
     "iopub.status.idle": "2024-08-20T19:32:52.702031Z",
     "shell.execute_reply": "2024-08-20T19:32:52.701492Z"
    }
   },
   "outputs": [],
   "source": [
    "game_over([\"a\", \"_\", \"c\"])"
   ]
  },
  {
   "cell_type": "markdown",
   "id": "0f199661",
   "metadata": {
    "slideshow": {
     "slide_type": "subslide"
    }
   },
   "source": [
    "Or, again, a shorter way using one of the sequence operations: `in`"
   ]
  },
  {
   "cell_type": "code",
   "execution_count": null,
   "id": "bc30359c",
   "metadata": {
    "execution": {
     "iopub.execute_input": "2024-08-20T19:32:52.705498Z",
     "iopub.status.busy": "2024-08-20T19:32:52.705219Z",
     "iopub.status.idle": "2024-08-20T19:32:52.708373Z",
     "shell.execute_reply": "2024-08-20T19:32:52.707816Z"
    }
   },
   "outputs": [],
   "source": [
    "def game_over(progress):\n",
    "    return \"_\" not in progress"
   ]
  },
  {
   "cell_type": "code",
   "execution_count": null,
   "id": "ab3223e1",
   "metadata": {
    "execution": {
     "iopub.execute_input": "2024-08-20T19:32:52.711542Z",
     "iopub.status.busy": "2024-08-20T19:32:52.711201Z",
     "iopub.status.idle": "2024-08-20T19:32:52.715676Z",
     "shell.execute_reply": "2024-08-20T19:32:52.715068Z"
    }
   },
   "outputs": [],
   "source": [
    "game_over([\"a\", \"b\", \"c\"])"
   ]
  },
  {
   "cell_type": "code",
   "execution_count": null,
   "id": "037b814c",
   "metadata": {
    "execution": {
     "iopub.execute_input": "2024-08-20T19:32:52.718560Z",
     "iopub.status.busy": "2024-08-20T19:32:52.718302Z",
     "iopub.status.idle": "2024-08-20T19:32:52.722455Z",
     "shell.execute_reply": "2024-08-20T19:32:52.721843Z"
    }
   },
   "outputs": [],
   "source": [
    "game_over([\"a\", \"_\", \"c\"])"
   ]
  },
  {
   "cell_type": "code",
   "execution_count": null,
   "id": "46f5ba60",
   "metadata": {
    "execution": {
     "iopub.execute_input": "2024-08-20T19:32:52.725355Z",
     "iopub.status.busy": "2024-08-20T19:32:52.725102Z",
     "iopub.status.idle": "2024-08-20T19:32:52.728861Z",
     "shell.execute_reply": "2024-08-20T19:32:52.728292Z"
    },
    "slideshow": {
     "slide_type": "subslide"
    }
   },
   "outputs": [],
   "source": [
    "def play_game():\n",
    "    word = \"secret\"\n",
    "    progress = [\"_\", \"_\", \"_\", \"_\", \"_\", \"_\"]\n",
    "    while True:\n",
    "        display_progress(progress)\n",
    "        guess = get_guess()\n",
    "        process_guess(guess, word, progress)\n",
    "        if game_over(progress):\n",
    "            print(\"You win!\")\n",
    "            break"
   ]
  },
  {
   "cell_type": "code",
   "execution_count": null,
   "id": "77da2aa1",
   "metadata": {
    "execution": {
     "iopub.execute_input": "2024-08-20T19:32:52.731805Z",
     "iopub.status.busy": "2024-08-20T19:32:52.731519Z",
     "iopub.status.idle": "2024-08-20T19:32:52.767793Z",
     "shell.execute_reply": "2024-08-20T19:32:52.766625Z"
    },
    "tags": [
     "remove-output"
    ]
   },
   "outputs": [],
   "source": [
    "play_game()"
   ]
  },
  {
   "cell_type": "markdown",
   "id": "f4cf7f74",
   "metadata": {
    "slideshow": {
     "slide_type": "subslide"
    }
   },
   "source": [
    "What if we want to use a different word? We can parameterize `play_game`:"
   ]
  },
  {
   "cell_type": "code",
   "execution_count": null,
   "id": "ed5d6953",
   "metadata": {
    "execution": {
     "iopub.execute_input": "2024-08-20T19:32:52.771237Z",
     "iopub.status.busy": "2024-08-20T19:32:52.770949Z",
     "iopub.status.idle": "2024-08-20T19:32:52.775070Z",
     "shell.execute_reply": "2024-08-20T19:32:52.774254Z"
    }
   },
   "outputs": [],
   "source": [
    "def play_game(word):\n",
    "    progress = [\"_\"] * len(word)\n",
    "    while True:\n",
    "        display_progress(progress)\n",
    "        guess = get_guess()\n",
    "        process_guess(guess, word, progress)\n",
    "        if game_over(progress):\n",
    "            print(\"You win!\")\n",
    "            break"
   ]
  },
  {
   "cell_type": "code",
   "execution_count": null,
   "id": "95b41fce",
   "metadata": {
    "execution": {
     "iopub.execute_input": "2024-08-20T19:32:52.778344Z",
     "iopub.status.busy": "2024-08-20T19:32:52.778076Z",
     "iopub.status.idle": "2024-08-20T19:32:52.813488Z",
     "shell.execute_reply": "2024-08-20T19:32:52.812462Z"
    },
    "tags": [
     "remove-output"
    ]
   },
   "outputs": [],
   "source": [
    "play_game(\"abba\")"
   ]
  },
  {
   "cell_type": "markdown",
   "id": "46f36946",
   "metadata": {
    "slideshow": {
     "slide_type": "subslide"
    }
   },
   "source": [
    "More things to think about:\n",
    "* How would you keep track of how many incorrect guesses a user had made, and stop after 5 incorrect?\n",
    "* How would you keep track of which letters the user had already guessed?\n",
    "* How could you handle the user entering an upper case letter?"
   ]
  },
  {
   "cell_type": "code",
   "execution_count": null,
   "id": "92361cf6",
   "metadata": {},
   "outputs": [],
   "source": []
  },
  {
   "cell_type": "markdown",
   "id": "50b20b2a",
   "metadata": {
    "slideshow": {
     "slide_type": "slide"
    }
   },
   "source": [
    "# References\n",
    "\n",
    "<style>\n",
    "section.present > section.present { \n",
    "    max-height: 90%; \n",
    "    overflow-y: scroll;\n",
    "}\n",
    "</style>\n",
    "\n",
    "<small><a href=\"https://colab.research.google.com/github/brandeis-jdelfino/cosi-10a/blob/main/lectures/notebooks/8_references.ipynb\">Link to interactive slides on Google Colab</a></small>"
   ]
  },
  {
   "cell_type": "markdown",
   "id": "6ae7a02a",
   "metadata": {
    "slideshow": {
     "slide_type": "slide"
    }
   },
   "source": [
    "# Review: Scope and Arguments\n",
    "\n",
    "What does this print?"
   ]
  },
  {
   "cell_type": "code",
   "execution_count": null,
   "id": "bd8c5c46",
   "metadata": {
    "execution": {
     "iopub.execute_input": "2024-08-20T19:32:52.817297Z",
     "iopub.status.busy": "2024-08-20T19:32:52.817032Z",
     "iopub.status.idle": "2024-08-20T19:32:52.821040Z",
     "shell.execute_reply": "2024-08-20T19:32:52.820390Z"
    }
   },
   "outputs": [],
   "source": [
    "def add_one(num):\n",
    "    num = num + 1\n",
    "    print(f\"inside add_one: {num=}\")\n",
    "    \n",
    "x = 5\n",
    "add_one(x)\n",
    "add_one(x)\n",
    "print(x)"
   ]
  },
  {
   "cell_type": "markdown",
   "id": "19acd785",
   "metadata": {
    "slideshow": {
     "slide_type": "subslide"
    }
   },
   "source": [
    "# Review: Scope and Arguments\n",
    "\n",
    "What does this print?"
   ]
  },
  {
   "cell_type": "code",
   "execution_count": null,
   "id": "9e6982a1",
   "metadata": {
    "execution": {
     "iopub.execute_input": "2024-08-20T19:32:52.824109Z",
     "iopub.status.busy": "2024-08-20T19:32:52.823839Z",
     "iopub.status.idle": "2024-08-20T19:32:52.827804Z",
     "shell.execute_reply": "2024-08-20T19:32:52.827110Z"
    }
   },
   "outputs": [],
   "source": [
    "def add_one(x):\n",
    "    x = x + 1\n",
    "    print(f\"inside add_one: {x=}\")\n",
    "    \n",
    "x = 5\n",
    "add_one(x)\n",
    "add_one(x)\n",
    "print(x)"
   ]
  },
  {
   "cell_type": "markdown",
   "id": "b6a146bb",
   "metadata": {
    "slideshow": {
     "slide_type": "fragment"
    }
   },
   "source": [
    "The `x` in the global scope is not the same as the `x` in `add_one`."
   ]
  },
  {
   "cell_type": "markdown",
   "id": "9ed164e2",
   "metadata": {
    "slideshow": {
     "slide_type": "slide"
    }
   },
   "source": [
    "# Review: Mutable vs. Immutable\n",
    "\n",
    "All types in Python can be classified as **mutable** or **immutable**.\n",
    "\n",
    "* The value of **mutable** types can change.\n",
    "* The value of **immutable** types can never change.\n",
    "\n",
    "This may seems surprising, but most of the data types we've looked at so far are **immutable**.\n",
    "\n",
    "* immutable: `int`, `float`, `bool`, `str`, `tuple`\n",
    "* mutable: `list`"
   ]
  },
  {
   "cell_type": "markdown",
   "id": "f75b31aa",
   "metadata": {
    "slideshow": {
     "slide_type": "slide"
    }
   },
   "source": [
    "# References\n",
    "\n",
    "Confession time: I lied to you in lecture 2 when I explained that a variable was like a \"box\" in which you can store a value.\n",
    "\n",
    "In Python, a variable is actually a **reference to** a value."
   ]
  },
  {
   "cell_type": "markdown",
   "id": "030d937c",
   "metadata": {
    "slideshow": {
     "slide_type": "subslide"
    }
   },
   "source": [
    "## Our mental model so far"
   ]
  },
  {
   "cell_type": "markdown",
   "id": "0d1612d0",
   "metadata": {
    "slideshow": {
     "slide_type": "notes"
    }
   },
   "source": [
    "Drawing on the board: a box labeled `a`, with the value `\"Hello\"` in it"
   ]
  },
  {
   "cell_type": "code",
   "execution_count": null,
   "id": "ff3624f4",
   "metadata": {
    "execution": {
     "iopub.execute_input": "2024-08-20T19:32:52.831379Z",
     "iopub.status.busy": "2024-08-20T19:32:52.831082Z",
     "iopub.status.idle": "2024-08-20T19:32:52.834193Z",
     "shell.execute_reply": "2024-08-20T19:32:52.833586Z"
    }
   },
   "outputs": [],
   "source": [
    "a = \"Hello\""
   ]
  },
  {
   "cell_type": "markdown",
   "id": "6a42c0f2",
   "metadata": {
    "slideshow": {
     "slide_type": "subslide"
    }
   },
   "source": [
    "## The way things actually work"
   ]
  },
  {
   "cell_type": "markdown",
   "id": "fd716939",
   "metadata": {
    "slideshow": {
     "slide_type": "notes"
    }
   },
   "source": [
    "Drawing on the board: 6 boxes, numbered 0 through 5. The value \"Hello\" in box 0. A separate box labeled `a`, with an arrow drawn to box 0."
   ]
  },
  {
   "cell_type": "code",
   "execution_count": null,
   "id": "7db99102",
   "metadata": {
    "execution": {
     "iopub.execute_input": "2024-08-20T19:32:52.837418Z",
     "iopub.status.busy": "2024-08-20T19:32:52.837149Z",
     "iopub.status.idle": "2024-08-20T19:32:52.840246Z",
     "shell.execute_reply": "2024-08-20T19:32:52.839635Z"
    }
   },
   "outputs": [],
   "source": [
    "a = \"Hello\""
   ]
  },
  {
   "cell_type": "markdown",
   "id": "16d8452b",
   "metadata": {
    "slideshow": {
     "slide_type": "subslide"
    }
   },
   "source": [
    "Think of the computer's memory like a big warehouse, with millions of numbered boxes in it.\n",
    "\n",
    "When you create a variable with a value:\n",
    "1. The computer picks an empty numbered box, and puts the value into it.\n",
    "2. It writes the number of the box down on a piece of paper.\n",
    "3. It hands that piece of paper to your variable\n",
    "4. The variable uses that number to find its value when needed.\n",
    "\n",
    "The piece of paper is a **reference** to a value. The box contains the actual value."
   ]
  },
  {
   "cell_type": "markdown",
   "id": "da193095",
   "metadata": {
    "slideshow": {
     "slide_type": "slide"
    }
   },
   "source": [
    "# 2 Volunteers needed\n",
    "\n",
    "You'll need to share your favorite colors, and hold an index card."
   ]
  },
  {
   "cell_type": "markdown",
   "id": "ebef312e",
   "metadata": {
    "slideshow": {
     "slide_type": "notes"
    }
   },
   "source": [
    "1. Get 2 volunteers to act as variables\n",
    "2. Ask first volunteer for their favorite color, add it as a string to the memory boxes, hand them an index card with the number of the box used.\n",
    "3. Repeat for volunteer 2, require a different color.\n",
    "4. When we encounter a print, ask each variable to read their value aloud."
   ]
  },
  {
   "cell_type": "code",
   "execution_count": null,
   "id": "578b489a",
   "metadata": {
    "execution": {
     "iopub.execute_input": "2024-08-20T19:32:52.843314Z",
     "iopub.status.busy": "2024-08-20T19:32:52.843065Z",
     "iopub.status.idle": "2024-08-20T19:32:52.846630Z",
     "shell.execute_reply": "2024-08-20T19:32:52.846047Z"
    },
    "slideshow": {
     "slide_type": "subslide"
    }
   },
   "outputs": [],
   "source": [
    "name1 = \"color1\"\n",
    "name2 = \"color2\"\n",
    "print(name1, name2)"
   ]
  },
  {
   "cell_type": "markdown",
   "id": "16e12abb",
   "metadata": {
    "slideshow": {
     "slide_type": "notes"
    }
   },
   "source": [
    "1. Get a new color from the first person. Add it as a value to a new memory box, swap their index card."
   ]
  },
  {
   "cell_type": "code",
   "execution_count": null,
   "id": "3f60a511",
   "metadata": {
    "execution": {
     "iopub.execute_input": "2024-08-20T19:32:52.849707Z",
     "iopub.status.busy": "2024-08-20T19:32:52.849442Z",
     "iopub.status.idle": "2024-08-20T19:32:52.852845Z",
     "shell.execute_reply": "2024-08-20T19:32:52.852218Z"
    },
    "slideshow": {
     "slide_type": "fragment"
    }
   },
   "outputs": [],
   "source": [
    "name1 = \"color3\"\n",
    "print(name1, name2)"
   ]
  },
  {
   "cell_type": "markdown",
   "id": "412056b6",
   "metadata": {
    "slideshow": {
     "slide_type": "notes"
    }
   },
   "source": [
    "1. Force second person to like first person's color. Give them an index card with the same number as first person."
   ]
  },
  {
   "cell_type": "code",
   "execution_count": null,
   "id": "2e58ad7a",
   "metadata": {
    "execution": {
     "iopub.execute_input": "2024-08-20T19:32:52.855880Z",
     "iopub.status.busy": "2024-08-20T19:32:52.855600Z",
     "iopub.status.idle": "2024-08-20T19:32:52.859012Z",
     "shell.execute_reply": "2024-08-20T19:32:52.858435Z"
    },
    "slideshow": {
     "slide_type": "fragment"
    }
   },
   "outputs": [],
   "source": [
    "name2 = name1\n",
    "print(name1, name2)"
   ]
  },
  {
   "cell_type": "markdown",
   "id": "a69e7b22",
   "metadata": {
    "slideshow": {
     "slide_type": "notes"
    }
   },
   "source": [
    "1. Second person changes their color, add the value to the boxes and hand them a new index card."
   ]
  },
  {
   "cell_type": "code",
   "execution_count": null,
   "id": "18d86676",
   "metadata": {
    "execution": {
     "iopub.execute_input": "2024-08-20T19:32:52.862031Z",
     "iopub.status.busy": "2024-08-20T19:32:52.861780Z",
     "iopub.status.idle": "2024-08-20T19:32:52.865159Z",
     "shell.execute_reply": "2024-08-20T19:32:52.864505Z"
    },
    "slideshow": {
     "slide_type": "fragment"
    }
   },
   "outputs": [],
   "source": [
    "name2 = \"color4\"\n",
    "print(name1, name2)"
   ]
  },
  {
   "cell_type": "markdown",
   "id": "1f1c24f8",
   "metadata": {
    "slideshow": {
     "slide_type": "notes"
    }
   },
   "source": [
    "No matter what, person 1 can't do anything to change person 2's value."
   ]
  },
  {
   "cell_type": "markdown",
   "id": "3deb40fb",
   "metadata": {
    "slideshow": {
     "slide_type": "subslide"
    }
   },
   "source": [
    "# Python Tutor\n",
    "\n",
    "We're going to use a new, very useful tool to help us visualize variables, scope, and references (today's topic): [Python Tutor](http://pythontutor.com)\n",
    "\n",
    "Let's look at those 2 `add_one` examples in Python Tutor:\n",
    "\n",
    "[First example](https://pythontutor.com/render.html#code=def%20add_one%28num%29%3A%0A%20%20%20%20num%20%3D%20num%20%2B%201%0A%20%20%20%20%0Ax%20%3D%205%0Aadd_one%28x%29%0Aadd_one%28x%29%0Aprint%28x%29&cumulative=false&curInstr=0&heapPrimitives=nevernest&mode=display&origin=opt-frontend.js&py=311&rawInputLstJSON=%5B%5D&textReferences=false)\n",
    "\n",
    "[Second example](https://pythontutor.com/render.html#code=def%20add_one%28x%29%3A%0A%20%20%20%20x%20%3D%20x%20%2B%201%0A%20%20%20%20%0Ax%20%3D%205%0Aadd_one%28x%29%0Aadd_one%28x%29%0Aprint%28x%29&cumulative=false&curInstr=0&heapPrimitives=nevernest&mode=display&origin=opt-frontend.js&py=311&rawInputLstJSON=%5B%5D&textReferences=false)\n"
   ]
  },
  {
   "cell_type": "markdown",
   "id": "1c7b0eb2",
   "metadata": {
    "slideshow": {
     "slide_type": "subslide"
    }
   },
   "source": [
    "Let's look one more time, except this time we'll have Python Tutor show the references explicitly:\n",
    "\n",
    "[First example](https://pythontutor.com/render.html#code=def%20add_one%28num%29%3A%0A%20%20%20%20num%20%3D%20num%20%2B%201%0A%20%20%20%20%0Ax%20%3D%205%0Aadd_one%28x%29%0Aadd_one%28x%29%0Aprint%28x%29&cumulative=false&curInstr=0&heapPrimitives=true&mode=display&origin=opt-frontend.js&py=311&rawInputLstJSON=%5B%5D&textReferences=false)"
   ]
  },
  {
   "cell_type": "markdown",
   "id": "d89ab9e8",
   "metadata": {
    "slideshow": {
     "slide_type": "subslide"
    }
   },
   "source": [
    "All variables in Python are references. (This is not true in all programming languages).\n",
    "\n",
    "* When a variable is assigned to (`=`), it is changed to refer to a different value. \n",
    "  * i.e. it \"gets a new piece of paper with a new number on it\".\n",
    "* Assignment does **not** change the original value itself. \n",
    "  * i.e. it does not \"change the value in the original box\".\n",
    "* In some cases, multiple variables can **reference** the same value\n",
    "  * i.e. their pieces of paper will have the same number written on them."
   ]
  },
  {
   "cell_type": "markdown",
   "id": "206d97bd",
   "metadata": {
    "slideshow": {
     "slide_type": "slide"
    }
   },
   "source": [
    "# This is confusing, why do we care?"
   ]
  },
  {
   "cell_type": "markdown",
   "id": "a76c92be",
   "metadata": {
    "slideshow": {
     "slide_type": "notes"
    }
   },
   "source": [
    "1. Clear out memory boxes, take back index cards.\n",
    "1. Ask first volunteer for their 2 favorite colors, add a list to a memory box, hand them an index card with the number of the box used.\n",
    "2. Repeat for volunteer 2, require different colors."
   ]
  },
  {
   "cell_type": "code",
   "execution_count": null,
   "id": "cc7d7133",
   "metadata": {
    "execution": {
     "iopub.execute_input": "2024-08-20T19:32:52.868418Z",
     "iopub.status.busy": "2024-08-20T19:32:52.868170Z",
     "iopub.status.idle": "2024-08-20T19:32:52.871762Z",
     "shell.execute_reply": "2024-08-20T19:32:52.871118Z"
    },
    "slideshow": {
     "slide_type": "subslide"
    }
   },
   "outputs": [],
   "source": [
    "name1 = [\"color1\", \"color2\"]\n",
    "name2 = [\"color3\", \"color4\"]\n",
    "print(name1, name2)"
   ]
  },
  {
   "cell_type": "markdown",
   "id": "9cc8518f",
   "metadata": {
    "slideshow": {
     "slide_type": "notes"
    }
   },
   "source": [
    "1. Make first person pick 2 new colors, create a new list in a new box, and swap their index card."
   ]
  },
  {
   "cell_type": "code",
   "execution_count": null,
   "id": "9d6d4342",
   "metadata": {
    "execution": {
     "iopub.execute_input": "2024-08-20T19:32:52.874803Z",
     "iopub.status.busy": "2024-08-20T19:32:52.874553Z",
     "iopub.status.idle": "2024-08-20T19:32:52.877935Z",
     "shell.execute_reply": "2024-08-20T19:32:52.877354Z"
    },
    "slideshow": {
     "slide_type": "fragment"
    }
   },
   "outputs": [],
   "source": [
    "name1 = [\"color5\", \"color6\"]\n",
    "print(name1, name2)"
   ]
  },
  {
   "cell_type": "markdown",
   "id": "01d521c3",
   "metadata": {
    "slideshow": {
     "slide_type": "notes"
    }
   },
   "source": [
    "1. Force second person to like first person's colors. Give them an index card with the same number as the first person."
   ]
  },
  {
   "cell_type": "code",
   "execution_count": null,
   "id": "e89c1465",
   "metadata": {
    "execution": {
     "iopub.execute_input": "2024-08-20T19:32:52.881106Z",
     "iopub.status.busy": "2024-08-20T19:32:52.880841Z",
     "iopub.status.idle": "2024-08-20T19:32:52.884094Z",
     "shell.execute_reply": "2024-08-20T19:32:52.883540Z"
    },
    "slideshow": {
     "slide_type": "fragment"
    }
   },
   "outputs": [],
   "source": [
    "name2 = name1\n",
    "print(name1, name2)"
   ]
  },
  {
   "cell_type": "markdown",
   "id": "ceda288b",
   "metadata": {
    "slideshow": {
     "slide_type": "notes"
    }
   },
   "source": [
    "1. Update list in place, notice how both people's colors are updated."
   ]
  },
  {
   "cell_type": "code",
   "execution_count": null,
   "id": "b4617f4a",
   "metadata": {
    "execution": {
     "iopub.execute_input": "2024-08-20T19:32:52.886877Z",
     "iopub.status.busy": "2024-08-20T19:32:52.886640Z",
     "iopub.status.idle": "2024-08-20T19:32:52.889992Z",
     "shell.execute_reply": "2024-08-20T19:32:52.889381Z"
    },
    "slideshow": {
     "slide_type": "fragment"
    }
   },
   "outputs": [],
   "source": [
    "name2[0] = \"color7\"\n",
    "print(name1, name2)"
   ]
  },
  {
   "cell_type": "markdown",
   "id": "91bba3a0",
   "metadata": {
    "slideshow": {
     "slide_type": "slide"
    }
   },
   "source": [
    "# This is confusing, why do we care?\n",
    "\n",
    "Consider these two code snippets:"
   ]
  },
  {
   "cell_type": "code",
   "execution_count": null,
   "id": "f593da98",
   "metadata": {
    "execution": {
     "iopub.execute_input": "2024-08-20T19:32:52.892918Z",
     "iopub.status.busy": "2024-08-20T19:32:52.892679Z",
     "iopub.status.idle": "2024-08-20T19:32:52.896041Z",
     "shell.execute_reply": "2024-08-20T19:32:52.895487Z"
    }
   },
   "outputs": [],
   "source": [
    "a = 1\n",
    "b = a\n",
    "a = a + 1\n",
    "print(f\"{a=} {b=}\")"
   ]
  },
  {
   "cell_type": "code",
   "execution_count": null,
   "id": "a319d9b6",
   "metadata": {
    "execution": {
     "iopub.execute_input": "2024-08-20T19:32:52.899339Z",
     "iopub.status.busy": "2024-08-20T19:32:52.899062Z",
     "iopub.status.idle": "2024-08-20T19:32:52.902523Z",
     "shell.execute_reply": "2024-08-20T19:32:52.901908Z"
    }
   },
   "outputs": [],
   "source": [
    "a = [1, 2, 3]\n",
    "b = a\n",
    "a[0] = 4\n",
    "print(f\"{a=} {b=}\")"
   ]
  },
  {
   "cell_type": "markdown",
   "id": "916e4713",
   "metadata": {
    "slideshow": {
     "slide_type": "subslide"
    }
   },
   "source": [
    "Another surprising example:"
   ]
  },
  {
   "cell_type": "code",
   "execution_count": null,
   "id": "486f8646",
   "metadata": {
    "execution": {
     "iopub.execute_input": "2024-08-20T19:32:52.905669Z",
     "iopub.status.busy": "2024-08-20T19:32:52.905400Z",
     "iopub.status.idle": "2024-08-20T19:32:52.909350Z",
     "shell.execute_reply": "2024-08-20T19:32:52.908714Z"
    }
   },
   "outputs": [],
   "source": [
    "def add_one(num):\n",
    "    num = num + 1\n",
    "    print(f\"inside add_one: {num=}\")\n",
    "\n",
    "a = 1\n",
    "add_one(a)\n",
    "print(f\"global scope {a=}\")"
   ]
  },
  {
   "cell_type": "code",
   "execution_count": null,
   "id": "eb78fbfe",
   "metadata": {
    "execution": {
     "iopub.execute_input": "2024-08-20T19:32:52.912242Z",
     "iopub.status.busy": "2024-08-20T19:32:52.911973Z",
     "iopub.status.idle": "2024-08-20T19:32:52.915925Z",
     "shell.execute_reply": "2024-08-20T19:32:52.915233Z"
    }
   },
   "outputs": [],
   "source": [
    "def add_one(nums):\n",
    "    nums[0] = nums[0] + 1\n",
    "    print(f\"inside add_one: {nums=}\")\n",
    "\n",
    "a = [1]\n",
    "add_one(a)\n",
    "print(f\"global scope {a=}\")"
   ]
  },
  {
   "cell_type": "markdown",
   "id": "76fafa05",
   "metadata": {
    "slideshow": {
     "slide_type": "subslide"
    }
   },
   "source": [
    "Understanding references is key to understanding **why** this code behaves the way it does. \n",
    "\n",
    "This behavior is a **very** common source of confusion."
   ]
  },
  {
   "cell_type": "markdown",
   "id": "d339b554",
   "metadata": {
    "slideshow": {
     "slide_type": "subslide"
    }
   },
   "source": [
    "Let's walk through a few code examples and talk in detail about what is happening to references vs. values on each line."
   ]
  },
  {
   "cell_type": "code",
   "execution_count": null,
   "id": "f8c40507",
   "metadata": {
    "execution": {
     "iopub.execute_input": "2024-08-20T19:32:52.919194Z",
     "iopub.status.busy": "2024-08-20T19:32:52.918944Z",
     "iopub.status.idle": "2024-08-20T19:32:52.922019Z",
     "shell.execute_reply": "2024-08-20T19:32:52.921428Z"
    },
    "slideshow": {
     "slide_type": "subslide"
    }
   },
   "outputs": [],
   "source": [
    "a = 1\n",
    "b = 1\n",
    "a = 2"
   ]
  },
  {
   "cell_type": "markdown",
   "id": "30d14d29",
   "metadata": {},
   "source": [
    "On line 1, `a` refers to value `1`.\n",
    "\n",
    "On line 2, `b` refers to value `1`.\n",
    "\n",
    "On line 3, `a` is updated to refer to value `2`, instead of referring to value `1`.\n",
    "\n",
    "We **didn't** change the value `1` to `2`. We changed `a` to refer to a different value. `ints` are immutable, we can't change them.\n",
    "\n",
    "[Python Tutor link](https://pythontutor.com/render.html#code=a%20%3D%201%0Ab%20%3D%201%0Aa%20%3D%202&cumulative=false&curInstr=0&heapPrimitives=true&mode=display&origin=opt-frontend.js&py=311&rawInputLstJSON=%5B%5D&textReferences=false)"
   ]
  },
  {
   "cell_type": "code",
   "execution_count": null,
   "id": "608b58da",
   "metadata": {
    "execution": {
     "iopub.execute_input": "2024-08-20T19:32:52.924983Z",
     "iopub.status.busy": "2024-08-20T19:32:52.924721Z",
     "iopub.status.idle": "2024-08-20T19:32:52.928381Z",
     "shell.execute_reply": "2024-08-20T19:32:52.927611Z"
    },
    "slideshow": {
     "slide_type": "subslide"
    }
   },
   "outputs": [],
   "source": [
    "a = 1\n",
    "b = a\n",
    "a = a + 1\n",
    "print(f\"{a=} {b=}\")"
   ]
  },
  {
   "cell_type": "markdown",
   "id": "ed003d54",
   "metadata": {},
   "source": [
    "On line 1, `a` refers to value `1`.\n",
    "\n",
    "On line 2, `b` refers to the same value as `a`: `1`.\n",
    "\n",
    "`b` does **not** refer to `a`. It refers to the value `1`.\n",
    "\n",
    "On line 3, `a` is changed to refer to the value `2`. \n",
    "\n",
    "We didn't update the value `1`, we only updated `a`'s reference. `b` still refers to the value `1`.\n",
    "\n",
    "[Python Tutor link](https://pythontutor.com/render.html#code=a%20%3D%201%0Ab%20%3D%20a%0Aa%20%3D%20a%20%2B%201%0Aprint%28f%22%7Ba%3D%7D%20%7Bb%3D%7D%22%29&cumulative=false&curInstr=0&heapPrimitives=true&mode=display&origin=opt-frontend.js&py=311&rawInputLstJSON=%5B%5D&textReferences=false)"
   ]
  },
  {
   "cell_type": "code",
   "execution_count": null,
   "id": "b10c6a69",
   "metadata": {
    "execution": {
     "iopub.execute_input": "2024-08-20T19:32:52.931390Z",
     "iopub.status.busy": "2024-08-20T19:32:52.931125Z",
     "iopub.status.idle": "2024-08-20T19:32:52.934789Z",
     "shell.execute_reply": "2024-08-20T19:32:52.934162Z"
    },
    "slideshow": {
     "slide_type": "subslide"
    }
   },
   "outputs": [],
   "source": [
    "a = [1, 2, 3]\n",
    "b = a\n",
    "a[0] = 4\n",
    "print(f\"{a=} {b=}\")"
   ]
  },
  {
   "cell_type": "markdown",
   "id": "4d4e0de3",
   "metadata": {},
   "source": [
    "Lists **appear to** behave differently. Lists are **mutable**. We can change the value of a list.\n",
    "\n",
    "On line 1, `a` refers to a list `[1,2,3]`\n",
    "\n",
    "On line 2, `b` refers to the same list which `a` refers to.\n",
    "\n",
    "On line 3, we modify the list itself! We're changing a value by assigning to an index in the list, we're not changing `a`'s reference.\n",
    "\n",
    "Since `a` and `b` refer to the same list value, and we modified that list value, both `a` and `b` will reflect the change made to the list.\n",
    "\n",
    "[Python Tutor link](https://pythontutor.com/visualize.html#code=a%20%3D%20%5B1,%202,%203%5D%0Ab%20%3D%20a%0Aa%5B0%5D%20%3D%204%0A&cumulative=false&curInstr=0&heapPrimitives=true&mode=display&origin=opt-frontend.js&py=3&rawInputLstJSON=%5B%5D&textReferences=false)\n",
    "\n"
   ]
  },
  {
   "cell_type": "code",
   "execution_count": null,
   "id": "1d9b57e5",
   "metadata": {
    "execution": {
     "iopub.execute_input": "2024-08-20T19:32:52.937817Z",
     "iopub.status.busy": "2024-08-20T19:32:52.937557Z",
     "iopub.status.idle": "2024-08-20T19:32:52.941238Z",
     "shell.execute_reply": "2024-08-20T19:32:52.940700Z"
    },
    "slideshow": {
     "slide_type": "subslide"
    }
   },
   "outputs": [],
   "source": [
    "a = [1, 2, 3]\n",
    "b = a\n",
    "a = [4, 5, 6]\n",
    "a[0] = 9\n",
    "print(f\"{a=} {b=}\")"
   ]
  },
  {
   "cell_type": "markdown",
   "id": "aa763a29",
   "metadata": {},
   "source": [
    "This example highlights the difference between changing a variable's reference, and mutating the value it refers to.\n",
    "\n",
    "On line 1, `a` refers to a list `[1,2,3]`\n",
    "\n",
    "On line 2, `b` refers to the same list which `a` refers to.\n",
    "\n",
    "On line 3, we change `a` to refer to a new list `[4,5,6]` by assigning to `a`. We have not modified the original list value that `a` referred to. `a` and `b` now refer to different lists.\n",
    "\n",
    "On line 4, we modify the list value that `a` refers to. `b`'s list is unchanged.\n",
    "\n",
    "[Python tutor link](https://pythontutor.com/visualize.html#code=a%20%3D%20%5B1,%202,%203%5D%0Ab%20%3D%20a%0Aa%20%3D%20%5B4,%205,%206%5D%0Aa%5B0%5D%20%3D%209&cumulative=false&curInstr=0&heapPrimitives=true&mode=display&origin=opt-frontend.js&py=3&rawInputLstJSON=%5B%5D&textReferences=false)"
   ]
  },
  {
   "cell_type": "markdown",
   "id": "35afd6eb",
   "metadata": {
    "slideshow": {
     "slide_type": "slide"
    }
   },
   "source": [
    "# [Slido](https://wall.sli.do/event/aS8ZegjvKXxPo9Nh65q1jN?section=dbb5fc0f-0274-4aa8-b925-119d565b88a1)"
   ]
  },
  {
   "cell_type": "markdown",
   "id": "9ebdf1ec",
   "metadata": {
    "slideshow": {
     "slide_type": "subslide"
    }
   },
   "source": [
    "\n",
    "When arguments are passed to functions, the references (not the values!) are copied."
   ]
  },
  {
   "cell_type": "code",
   "execution_count": null,
   "id": "160611b8",
   "metadata": {
    "execution": {
     "iopub.execute_input": "2024-08-20T19:32:52.944345Z",
     "iopub.status.busy": "2024-08-20T19:32:52.944098Z",
     "iopub.status.idle": "2024-08-20T19:32:52.948253Z",
     "shell.execute_reply": "2024-08-20T19:32:52.947675Z"
    }
   },
   "outputs": [],
   "source": [
    "def add_one(num):\n",
    "    num = num + 1    \n",
    "    print(f\"inside add_one: {num=}\")\n",
    "\n",
    "a = 1\n",
    "add_one(a)\n",
    "print(f\"global scope {a=}\")"
   ]
  },
  {
   "cell_type": "markdown",
   "id": "b8b235cf",
   "metadata": {},
   "source": [
    "When the code reaches line 2, `a` is a reference to value `1`, and `num` is also a reference to the value `1`.\n",
    "\n",
    "Other than referring to the same value, `a` and `num` are not connected.\n",
    "\n",
    "After line 2 executes, `num` is updated to refer to value `2`, and `a` continues to refer to value `1`.\n",
    "\n",
    "[Python tutor link](https://pythontutor.com/visualize.html#code=def%20add_one%28num%29%3A%0A%20%20%20%20num%20%3D%20num%20%2B%201%0A%20%20%20%20print%28%22inside%20add_one%3A%20%22%20%2B%20str%28num%29%29%0A%0Aa%20%3D%201%0Aadd_one%28a%29%0Aprint%28f%22global%20scope%3A%20%22%20%2B%20str%28a%29%29&cumulative=false&curInstr=0&heapPrimitives=true&mode=display&origin=opt-frontend.js&py=3&rawInputLstJSON=%5B%5D&textReferences=false)\n"
   ]
  },
  {
   "cell_type": "markdown",
   "id": "47271e4c",
   "metadata": {
    "slideshow": {
     "slide_type": "subslide"
    }
   },
   "source": [
    "If a **value** is modified inside a function, references from outside the function will see the change."
   ]
  },
  {
   "cell_type": "code",
   "execution_count": null,
   "id": "1bf47cd9",
   "metadata": {
    "execution": {
     "iopub.execute_input": "2024-08-20T19:32:52.951206Z",
     "iopub.status.busy": "2024-08-20T19:32:52.950965Z",
     "iopub.status.idle": "2024-08-20T19:32:52.954860Z",
     "shell.execute_reply": "2024-08-20T19:32:52.954312Z"
    }
   },
   "outputs": [],
   "source": [
    "def add_one(nums):\n",
    "    nums[0] = nums[0] + 1\n",
    "    print(f\"inside add_one: {nums=}\")\n",
    "\n",
    "a = [1]\n",
    "add_one(a)\n",
    "print(f\"global scope {a=}\")"
   ]
  },
  {
   "cell_type": "markdown",
   "id": "681545e6",
   "metadata": {},
   "source": [
    "When the code reaches line 2, both `a` and `nums` refer to the same list `[0]`.\n",
    "\n",
    "After line 2 executes, the list value has changed. Because `a` and `nums` both refer to it, they both see the change.\n",
    "\n",
    "[Python tutor link](https://pythontutor.com/visualize.html#code=def%20add_one%28nums%29%3A%0A%20%20%20%20nums%5B0%5D%20%3D%20nums%5B0%5D%20%2B%201%0A%20%20%20%20print%28%22inside%20add_one%3A%20%22%20%2B%20str%28nums%29%29%0A%0Aa%20%3D%20%5B1%5D%0Aadd_one%28a%29%0Aprint%28f%22global%20scope%3A%20%22%20%2B%20str%28a%29%29&cumulative=false&curInstr=0&heapPrimitives=true&mode=display&origin=opt-frontend.js&py=3&rawInputLstJSON=%5B%5D&textReferences=false)\n"
   ]
  },
  {
   "cell_type": "markdown",
   "id": "a68f24c4",
   "metadata": {
    "slideshow": {
     "slide_type": "subslide"
    }
   },
   "source": [
    "# Another way to think about this\n",
    "\n",
    "If the word \"references\" is confusing, you can also think about a variable as a \"name\" for a value.\n",
    "\n",
    "Assignment (`=`) binds (or assigns) a name to a value. \n",
    "\n",
    "Passing an argument into a function also binds a name to a value. The name is the name of the function's parameter.\n",
    "\n",
    "One value might have multiple names at a time.\n",
    "\n",
    "When you assign (`=`), the value isn't copied. You've added a new name for the value."
   ]
  },
  {
   "cell_type": "markdown",
   "id": "4902b356",
   "metadata": {
    "slideshow": {
     "slide_type": "slide"
    }
   },
   "source": [
    "# copy\n",
    "\n",
    "Sometimes you want to make changes to a value, but keep those changes from being seen by any other reference to that value. In these cases, you can copy the value before modifying it.\n",
    "\n",
    "Python provides some tools in the `copy` [module](https://docs.python.org/3/library/copy.html).\n",
    "\n",
    "* `copy.copy()` will do a **shallow** copy - copy the outer value only\n",
    "* `copy.deepcopy()` will do a **deep** copy - copy all nested values. This only comes into play when you have things like nested lists.\n"
   ]
  },
  {
   "cell_type": "code",
   "execution_count": null,
   "id": "669cb639",
   "metadata": {
    "execution": {
     "iopub.execute_input": "2024-08-20T19:32:52.957890Z",
     "iopub.status.busy": "2024-08-20T19:32:52.957644Z",
     "iopub.status.idle": "2024-08-20T19:32:52.961327Z",
     "shell.execute_reply": "2024-08-20T19:32:52.960707Z"
    }
   },
   "outputs": [],
   "source": [
    "import copy\n",
    "a = [1,2,3]\n",
    "b = copy.copy(a)\n",
    "b[0] = 9\n",
    "print(f\"{a=} {b=}\")"
   ]
  },
  {
   "cell_type": "markdown",
   "id": "ac0f9f3c",
   "metadata": {
    "slideshow": {
     "slide_type": "-"
    }
   },
   "source": [
    "[Python Tutor link](https://pythontutor.com/render.html#code=import%20copy%0Aa%20%3D%20%5B1,2,3%5D%0Ab%20%3D%20copy.copy%28a%29%0Ab%5B0%5D%20%3D%209%0Aprint%28f%22%7Ba%3D%7D%20%7Bb%3D%7D%22%29&cumulative=false&curInstr=0&heapPrimitives=true&mode=display&origin=opt-frontend.js&py=311&rawInputLstJSON=%5B%5D&textReferences=false)"
   ]
  },
  {
   "cell_type": "markdown",
   "id": "b8a8adad",
   "metadata": {
    "slideshow": {
     "slide_type": "subslide"
    }
   },
   "source": [
    "This is most often useful in functions, where you don't want the function to mess with the caller's values."
   ]
  },
  {
   "cell_type": "code",
   "execution_count": null,
   "id": "8072fa7b",
   "metadata": {
    "execution": {
     "iopub.execute_input": "2024-08-20T19:32:52.964540Z",
     "iopub.status.busy": "2024-08-20T19:32:52.964030Z",
     "iopub.status.idle": "2024-08-20T19:32:52.968187Z",
     "shell.execute_reply": "2024-08-20T19:32:52.967502Z"
    },
    "slideshow": {
     "slide_type": "-"
    }
   },
   "outputs": [],
   "source": [
    "def add_one(nums):\n",
    "    newlist = copy.copy(nums)\n",
    "    for i in range(len(newlist)):\n",
    "        newlist[i] = newlist[i] + 1\n",
    "    return newlist\n",
    "\n",
    "a = [1,2,3]\n",
    "b = add_one(a)\n",
    "print(f\"{a=} {b=}\")"
   ]
  },
  {
   "cell_type": "markdown",
   "id": "330ebc43",
   "metadata": {},
   "source": [
    "[Python Tutor link](https://pythontutor.com/render.html#code=import%20copy%0Adef%20add_one%28nums%29%3A%0A%20%20%20%20newlist%20%3D%20copy.copy%28nums%29%0A%20%20%20%20for%20i%20in%20range%28len%28newlist%29%29%3A%0A%20%20%20%20%20%20%20%20newlist%5Bi%5D%20%3D%20newlist%5Bi%5D%20%2B%201%0A%20%20%20%20return%20newlist%0A%0Aa%20%3D%20%5B1,2,3%5D%0Ab%20%3D%20add_one%28a%29%0Aprint%28f%22%7Ba%3D%7D%20%7Bb%3D%7D%22%29&cumulative=false&curInstr=0&heapPrimitives=true&mode=display&origin=opt-frontend.js&py=311&rawInputLstJSON=%5B%5D&textReferences=false)"
   ]
  },
  {
   "cell_type": "markdown",
   "id": "a474b5a1",
   "metadata": {},
   "source": [
    "## Exercise: Reference Puzzles\n",
    "\n",
    "[GitHub Classroom -> Class exercises -> Open in GitHub Cospaces](https://classroom.github.com/a/M3gdSqkV)\n",
    "\n",
    "Open the file: `exercises/09/reference_puzzles/README.md`, follow the instructions.\n",
    "* If you don't see this folder: Open the file: `get_exercises.sh`, click the \"Run\" button at the top right of the editor.\n"
   ]
  },
  {
   "cell_type": "markdown",
   "id": "9c7cc163",
   "metadata": {
    "slideshow": {
     "slide_type": "slide"
    }
   },
   "source": [
    "# Removing from lists in a loop"
   ]
  },
  {
   "cell_type": "code",
   "execution_count": null,
   "id": "a2c073fd",
   "metadata": {
    "execution": {
     "iopub.execute_input": "2024-08-20T19:32:52.972122Z",
     "iopub.status.busy": "2024-08-20T19:32:52.971719Z",
     "iopub.status.idle": "2024-08-20T19:32:52.975776Z",
     "shell.execute_reply": "2024-08-20T19:32:52.975105Z"
    },
    "slideshow": {
     "slide_type": "-"
    }
   },
   "outputs": [],
   "source": [
    "def remove_all(to_remove, nums):\n",
    "    for i in range(len(nums)):\n",
    "        if nums[i] == to_remove:\n",
    "            del nums[i]"
   ]
  },
  {
   "cell_type": "code",
   "execution_count": null,
   "id": "9d535bc9",
   "metadata": {
    "execution": {
     "iopub.execute_input": "2024-08-20T19:32:52.978771Z",
     "iopub.status.busy": "2024-08-20T19:32:52.978503Z",
     "iopub.status.idle": "2024-08-20T19:32:53.000862Z",
     "shell.execute_reply": "2024-08-20T19:32:53.000089Z"
    }
   },
   "outputs": [],
   "source": [
    "digits = [1,2,3,4,1]\n",
    "remove_all(1, digits)\n",
    "print(digits)"
   ]
  },
  {
   "cell_type": "markdown",
   "id": "f22648fa",
   "metadata": {
    "slideshow": {
     "slide_type": "subslide"
    }
   },
   "source": [
    "What's going on?"
   ]
  },
  {
   "cell_type": "markdown",
   "id": "ad52a098",
   "metadata": {
    "slideshow": {
     "slide_type": "fragment"
    }
   },
   "source": [
    "Python tutor to the rescue... [link](https://pythontutor.com/visualize.html#code=def%20remove_all%28to_remove,%20nums%29%3A%0A%20%20%20%20for%20i%20in%20range%28len%28nums%29%29%3A%0A%20%20%20%20%20%20%20%20if%20nums%5Bi%5D%20%3D%3D%20to_remove%3A%0A%20%20%20%20%20%20%20%20%20%20%20%20del%20nums%5Bi%5D%0A%20%20%20%20return%20nums%0Adigits%20%3D%20%5B1,2,3,4,1%5D%0Aremove_all%281,%20digits%29&cumulative=false&curInstr=16&heapPrimitives=nevernest&mode=display&origin=opt-frontend.js&py=3&rawInputLstJSON=%5B%5D&textReferences=false)"
   ]
  },
  {
   "cell_type": "markdown",
   "id": "f3451933",
   "metadata": {
    "slideshow": {
     "slide_type": "fragment"
    }
   },
   "source": [
    "Removing from a list while iterating over it is tricky, because the list changes as the loop proceeds.\n",
    "\n",
    "Two high level approaches\n",
    "* Iterate backwards\n",
    "* Create a new list, and add items that shouldn't be deleted"
   ]
  },
  {
   "cell_type": "markdown",
   "id": "57678de8",
   "metadata": {
    "slideshow": {
     "slide_type": "subslide"
    }
   },
   "source": [
    "Option 1: iterate backwards. Modifies the list in-place. [Python tutor link](https://pythontutor.com/visualize.html#code=%23%20Option%201%3A%20iterate%20backwards%0Adef%20remove_all%28to_remove,%20nums%29%3A%0A%20%20%20%20%23%20iterate%20backwards%20from%20len%28nums%29-1%20-%3E%200%0A%20%20%20%20for%20i%20in%20range%28len%28nums%29-1,%20-1,%20-1%29%3A%0A%20%20%20%20%20%20%20%20if%20nums%5Bi%5D%20%3D%3D%20to_remove%3A%0A%20%20%20%20%20%20%20%20%20%20%20%20del%20nums%5Bi%5D%0A%20%20%20%20return%20nums%0A%20%20%20%20%0Adigits%20%3D%20%5B1,2,3,4,1%5D%0Aremove_all%281,%20digits%29&cumulative=false&curInstr=19&heapPrimitives=nevernest&mode=display&origin=opt-frontend.js&py=3&rawInputLstJSON=%5B%5D&textReferences=false)"
   ]
  },
  {
   "cell_type": "code",
   "execution_count": null,
   "id": "f1ba76a3",
   "metadata": {
    "execution": {
     "iopub.execute_input": "2024-08-20T19:32:53.005016Z",
     "iopub.status.busy": "2024-08-20T19:32:53.004680Z",
     "iopub.status.idle": "2024-08-20T19:32:53.008754Z",
     "shell.execute_reply": "2024-08-20T19:32:53.008094Z"
    },
    "slideshow": {
     "slide_type": "-"
    }
   },
   "outputs": [],
   "source": [
    "def remove_all(to_remove, nums):\n",
    "    # iterate backwards from len(nums)-1 -> 0\n",
    "    for i in range(len(nums)-1, -1, -1):\n",
    "        if nums[i] == to_remove:\n",
    "            del nums[i]\n"
   ]
  },
  {
   "cell_type": "code",
   "execution_count": null,
   "id": "23b2d664",
   "metadata": {
    "execution": {
     "iopub.execute_input": "2024-08-20T19:32:53.012360Z",
     "iopub.status.busy": "2024-08-20T19:32:53.012090Z",
     "iopub.status.idle": "2024-08-20T19:32:53.016144Z",
     "shell.execute_reply": "2024-08-20T19:32:53.015262Z"
    }
   },
   "outputs": [],
   "source": [
    "digits = [1,2,3,4,1]\n",
    "remove_all(1, digits)\n",
    "print(digits)"
   ]
  },
  {
   "cell_type": "markdown",
   "id": "2fde3313",
   "metadata": {
    "slideshow": {
     "slide_type": "subslide"
    }
   },
   "source": [
    "Option 2: Make a new list of items that shouldn't be removed. Doesn't modify the original list. \n",
    "\n",
    "[Python tutor link](https://pythontutor.com/visualize.html#code=def%20remove_all%28to_remove,%20nums%29%3A%0A%20%20%20%20new_nums%20%3D%20%5B%5D%0A%20%20%20%20for%20n%20in%20nums%3A%0A%20%20%20%20%20%20%20%20if%20n%20!%3D%20to_remove%3A%0A%20%20%20%20%20%20%20%20%20%20%20%20new_nums.append%28n%29%0A%20%20%20%20return%20new_nums%0A%20%20%20%20%0Adigits%20%3D%20%5B1,2,3,4,1%5D%0Anew_digits%20%3D%20remove_all%281,%20digits%29%0Aprint%28f%22New%20digits%3A%20%7Bnew_digits%7D,%20original%20digits%3A%20%7Bdigits%7D%22%29&cumulative=false&curInstr=21&heapPrimitives=nevernest&mode=display&origin=opt-frontend.js&py=3&rawInputLstJSON=%5B%5D&textReferences=false)"
   ]
  },
  {
   "cell_type": "code",
   "execution_count": null,
   "id": "3ca5b387",
   "metadata": {
    "execution": {
     "iopub.execute_input": "2024-08-20T19:32:53.019782Z",
     "iopub.status.busy": "2024-08-20T19:32:53.019496Z",
     "iopub.status.idle": "2024-08-20T19:32:53.023106Z",
     "shell.execute_reply": "2024-08-20T19:32:53.022496Z"
    },
    "slideshow": {
     "slide_type": "-"
    }
   },
   "outputs": [],
   "source": [
    "def remove_all(to_remove, nums):\n",
    "    new_nums = []\n",
    "    for n in nums:\n",
    "        if n != to_remove:\n",
    "            new_nums.append(n)\n",
    "    return new_nums"
   ]
  },
  {
   "cell_type": "code",
   "execution_count": null,
   "id": "e4c12029",
   "metadata": {
    "execution": {
     "iopub.execute_input": "2024-08-20T19:32:53.026326Z",
     "iopub.status.busy": "2024-08-20T19:32:53.025976Z",
     "iopub.status.idle": "2024-08-20T19:32:53.029562Z",
     "shell.execute_reply": "2024-08-20T19:32:53.028939Z"
    }
   },
   "outputs": [],
   "source": [
    "digits = [1,2,3,4,1]\n",
    "new_digits = remove_all(1, digits)\n",
    "print(f\"New digits: {new_digits}, original digits: {digits}\")\n"
   ]
  },
  {
   "cell_type": "markdown",
   "id": "c240e062",
   "metadata": {
    "slideshow": {
     "slide_type": "slide"
    }
   },
   "source": [
    "# Sorting\n",
    "\n",
    "Lists come with a handy `sort()` method. It sorts the list in place. If the `reverse` parameter is set to `True`, the items will be sorted in descending order."
   ]
  },
  {
   "cell_type": "code",
   "execution_count": null,
   "id": "813e90a8",
   "metadata": {
    "execution": {
     "iopub.execute_input": "2024-08-20T19:32:53.032724Z",
     "iopub.status.busy": "2024-08-20T19:32:53.032374Z",
     "iopub.status.idle": "2024-08-20T19:32:53.036281Z",
     "shell.execute_reply": "2024-08-20T19:32:53.035651Z"
    }
   },
   "outputs": [],
   "source": [
    "animals = [\"Zebra\", \"Aardvark\", \"Sloth\", \"Cat\", \"Dog\", \"Ferret\"]\n",
    "animals.sort()\n",
    "print(animals)\n",
    "animals.sort(reverse=True)\n",
    "print(animals)"
   ]
  },
  {
   "cell_type": "markdown",
   "id": "afcd9d08",
   "metadata": {
    "slideshow": {
     "slide_type": "subslide"
    }
   },
   "source": [
    "If you don't want to modify the list in place, there is also a `sorted()` function that makes a new, sorted list:"
   ]
  },
  {
   "cell_type": "code",
   "execution_count": null,
   "id": "fe2bf9be",
   "metadata": {
    "execution": {
     "iopub.execute_input": "2024-08-20T19:32:53.039385Z",
     "iopub.status.busy": "2024-08-20T19:32:53.039108Z",
     "iopub.status.idle": "2024-08-20T19:32:53.042962Z",
     "shell.execute_reply": "2024-08-20T19:32:53.042360Z"
    }
   },
   "outputs": [],
   "source": [
    "animals = [\"Zebra\", \"Aardvark\", \"Sloth\", \"Cat\", \"Dog\", \"Ferret\"]\n",
    "new_animals = sorted(animals)\n",
    "print(f\"Original animals: {animals}\")\n",
    "print(f\"Sorted animals: {new_animals}\")"
   ]
  },
  {
   "cell_type": "markdown",
   "id": "2a38c4f5",
   "metadata": {
    "slideshow": {
     "slide_type": "slide"
    }
   },
   "source": [
    "# Reversing\n",
    "\n",
    "Lists also have a `reverse()` method, which reverses the list in place:"
   ]
  },
  {
   "cell_type": "code",
   "execution_count": null,
   "id": "36039f2f",
   "metadata": {
    "execution": {
     "iopub.execute_input": "2024-08-20T19:32:53.046198Z",
     "iopub.status.busy": "2024-08-20T19:32:53.045823Z",
     "iopub.status.idle": "2024-08-20T19:32:53.049510Z",
     "shell.execute_reply": "2024-08-20T19:32:53.048772Z"
    }
   },
   "outputs": [],
   "source": [
    "animals = [\"Zebra\", \"Aardvark\", \"Sloth\", \"Cat\", \"Dog\", \"Ferret\"]\n",
    "animals.reverse()\n",
    "print(animals)"
   ]
  },
  {
   "cell_type": "markdown",
   "id": "870a5af3",
   "metadata": {
    "slideshow": {
     "slide_type": "subslide"
    }
   },
   "source": [
    "Similar to `sort()` and `sorted()`, there is also a `reversed()` function:"
   ]
  },
  {
   "cell_type": "code",
   "execution_count": null,
   "id": "1cdc3468",
   "metadata": {
    "execution": {
     "iopub.execute_input": "2024-08-20T19:32:53.052530Z",
     "iopub.status.busy": "2024-08-20T19:32:53.052275Z",
     "iopub.status.idle": "2024-08-20T19:32:53.056075Z",
     "shell.execute_reply": "2024-08-20T19:32:53.055482Z"
    }
   },
   "outputs": [],
   "source": [
    "animals = [\"Zebra\", \"Aardvark\", \"Sloth\", \"Cat\", \"Dog\", \"Ferret\"]\n",
    "new_animals = reversed(animals)\n",
    "print(f\"Original animals: {animals}\")\n",
    "print(f\"New animals: {new_animals}\")"
   ]
  },
  {
   "cell_type": "markdown",
   "id": "3e8d429e",
   "metadata": {
    "slideshow": {
     "slide_type": "fragment"
    }
   },
   "source": [
    "Wait, what?"
   ]
  },
  {
   "cell_type": "markdown",
   "id": "938b8fde",
   "metadata": {
    "slideshow": {
     "slide_type": "subslide"
    }
   },
   "source": [
    "`reversed()` returns an **iterator**. \n",
    "\n",
    "Recall from the _Sequences_ lecture that an **iterator** is an object that returns the items in an **iterable**, one at a time.\n",
    "\n",
    "The details of iterators are (still) mostly beyond the scope of this class, but you will encounter them from time to time. Useful things to know for now:\n",
    "1. You can easily convert an iterator to a list, by using `list(<iterator>)`.\n",
    "2. You can use a `for` loop on an iterator, but only once (using an iterator \"consumes\" it)."
   ]
  },
  {
   "cell_type": "code",
   "execution_count": null,
   "id": "4fb8714b",
   "metadata": {
    "execution": {
     "iopub.execute_input": "2024-08-20T19:32:53.059163Z",
     "iopub.status.busy": "2024-08-20T19:32:53.058897Z",
     "iopub.status.idle": "2024-08-20T19:32:53.062611Z",
     "shell.execute_reply": "2024-08-20T19:32:53.062053Z"
    }
   },
   "outputs": [],
   "source": [
    "animals = [\"Zebra\", \"Aardvark\", \"Sloth\", \"Cat\", \"Dog\", \"Ferret\"]\n",
    "new_animals = list(reversed(animals))\n",
    "print(f\"Original animals: {animals}\")\n",
    "print(f\"New animals: {new_animals}\")"
   ]
  },
  {
   "cell_type": "code",
   "execution_count": null,
   "id": "7f33d581",
   "metadata": {
    "execution": {
     "iopub.execute_input": "2024-08-20T19:32:53.065552Z",
     "iopub.status.busy": "2024-08-20T19:32:53.065294Z",
     "iopub.status.idle": "2024-08-20T19:32:53.068918Z",
     "shell.execute_reply": "2024-08-20T19:32:53.068310Z"
    },
    "slideshow": {
     "slide_type": "subslide"
    }
   },
   "outputs": [],
   "source": [
    "# our trusty for loop works on iterables\n",
    "animals = [\"Zebra\", \"Aardvark\", \"Sloth\", \"Cat\", \"Dog\", \"Ferret\"]\n",
    "for animal in reversed(animals):\n",
    "    print(animal)\n"
   ]
  },
  {
   "cell_type": "code",
   "execution_count": null,
   "id": "c60dfb1c",
   "metadata": {
    "execution": {
     "iopub.execute_input": "2024-08-20T19:32:53.071848Z",
     "iopub.status.busy": "2024-08-20T19:32:53.071583Z",
     "iopub.status.idle": "2024-08-20T19:32:53.075393Z",
     "shell.execute_reply": "2024-08-20T19:32:53.074794Z"
    }
   },
   "outputs": [],
   "source": [
    "# using an iterator \"consumes\" it - you can't convert it to a list or iterate over it more than once\n",
    "animals = [\"Zebra\", \"Aardvark\", \"Sloth\", \"Cat\", \"Dog\", \"Ferret\"]\n",
    "new_animals = reversed(animals)\n",
    "new_animal_list1 = list(new_animals)\n",
    "new_animal_list2 = list(new_animals)\n",
    "print(f\"{new_animal_list1=}\\n{new_animal_list2=}\")"
   ]
  },
  {
   "cell_type": "markdown",
   "id": "274746db",
   "metadata": {
    "slideshow": {
     "slide_type": "subslide"
    }
   },
   "source": [
    "# Zip\n",
    "\n",
    "You can \"zip\" two lists together and iterate over them at the same time. This is useful when you have \"parallel\" lists."
   ]
  },
  {
   "cell_type": "markdown",
   "id": "b380e18c",
   "metadata": {
    "slideshow": {
     "slide_type": "subslide"
    }
   },
   "source": [
    "Consider this example, where we have a list of names and a list of ages, and we want to print the names & ages out together."
   ]
  },
  {
   "cell_type": "code",
   "execution_count": null,
   "id": "f9e8e091",
   "metadata": {
    "execution": {
     "iopub.execute_input": "2024-08-20T19:32:53.078536Z",
     "iopub.status.busy": "2024-08-20T19:32:53.078293Z",
     "iopub.status.idle": "2024-08-20T19:32:53.082034Z",
     "shell.execute_reply": "2024-08-20T19:32:53.081475Z"
    }
   },
   "outputs": [],
   "source": [
    "names = [\"Spongebob\", \"Batman\", \"Dora\", \"Peppa\"]\n",
    "ages = [22, 26, 7, 4]\n",
    "\n",
    "for i in range(len(names)):\n",
    "    print(f\"{names[i]} is {ages[i]} years old\")"
   ]
  },
  {
   "cell_type": "markdown",
   "id": "1d7d7e3a",
   "metadata": {
    "slideshow": {
     "slide_type": "subslide"
    }
   },
   "source": [
    "That's totally fine! But, if you prefer, you can use `zip()`. \n",
    "\n",
    "`zip` takes 2 or more lists, and returns an iterator that produces tuples with the next item from each list."
   ]
  },
  {
   "cell_type": "code",
   "execution_count": null,
   "id": "ce0862da",
   "metadata": {
    "execution": {
     "iopub.execute_input": "2024-08-20T19:32:53.084999Z",
     "iopub.status.busy": "2024-08-20T19:32:53.084744Z",
     "iopub.status.idle": "2024-08-20T19:32:53.089902Z",
     "shell.execute_reply": "2024-08-20T19:32:53.089168Z"
    }
   },
   "outputs": [],
   "source": [
    "names = [\"Spongebob\", \"Batman\", \"Dora\", \"Peppa\"]\n",
    "ages = [22, 26, 7, 4]\n",
    "list(zip(names, ages))"
   ]
  },
  {
   "cell_type": "code",
   "execution_count": null,
   "id": "e1b4eb6c",
   "metadata": {
    "execution": {
     "iopub.execute_input": "2024-08-20T19:32:53.093138Z",
     "iopub.status.busy": "2024-08-20T19:32:53.092893Z",
     "iopub.status.idle": "2024-08-20T19:32:53.097289Z",
     "shell.execute_reply": "2024-08-20T19:32:53.096691Z"
    },
    "slideshow": {
     "slide_type": "subslide"
    }
   },
   "outputs": [],
   "source": [
    "names = [\"Spongebob\", \"Batman\", \"Dora\", \"Peppa\"]\n",
    "ages = [22, 26, 7, 4]\n",
    "\n",
    "for (name, age) in zip(names, ages):\n",
    "    print(f\"{name} is {age} years old\")"
   ]
  },
  {
   "cell_type": "markdown",
   "id": "6399de7b",
   "metadata": {},
   "source": [
    "TODO: pull sorting a list of tuples up to here, go through the method"
   ]
  },
  {
   "cell_type": "markdown",
   "id": "b03f7f95",
   "metadata": {
    "slideshow": {
     "slide_type": "slide"
    }
   },
   "source": [
    "# Nested lists\n",
    "\n",
    "Lists can contain other lists. You can chain brackets (`[]`) to access individual items.\n",
    "\n",
    "Here is a list which contains 5 lists, each of which contain 5 strings:"
   ]
  },
  {
   "cell_type": "code",
   "execution_count": null,
   "id": "cbfddebd",
   "metadata": {
    "execution": {
     "iopub.execute_input": "2024-08-20T19:32:53.100421Z",
     "iopub.status.busy": "2024-08-20T19:32:53.100166Z",
     "iopub.status.idle": "2024-08-20T19:32:53.103683Z",
     "shell.execute_reply": "2024-08-20T19:32:53.103162Z"
    }
   },
   "outputs": [],
   "source": [
    "ascii_art = [\n",
    "    ['-', '*', '-', '*', '-'],\n",
    "    ['-', '*', '-', '*', '-'],\n",
    "    ['*', '-', '*', '-', '*'],\n",
    "    ['*', '*', '-', '*', '*'],\n",
    "    ['-', '-', '*', '-', '-'],\n",
    "]"
   ]
  },
  {
   "cell_type": "code",
   "execution_count": null,
   "id": "28f48622",
   "metadata": {
    "execution": {
     "iopub.execute_input": "2024-08-20T19:32:53.106600Z",
     "iopub.status.busy": "2024-08-20T19:32:53.106350Z",
     "iopub.status.idle": "2024-08-20T19:32:53.109668Z",
     "shell.execute_reply": "2024-08-20T19:32:53.109074Z"
    }
   },
   "outputs": [],
   "source": [
    "print(ascii_art[0])"
   ]
  },
  {
   "cell_type": "code",
   "execution_count": null,
   "id": "e45d526f",
   "metadata": {
    "execution": {
     "iopub.execute_input": "2024-08-20T19:32:53.112463Z",
     "iopub.status.busy": "2024-08-20T19:32:53.112226Z",
     "iopub.status.idle": "2024-08-20T19:32:53.115439Z",
     "shell.execute_reply": "2024-08-20T19:32:53.114862Z"
    }
   },
   "outputs": [],
   "source": [
    "print(ascii_art[0][1])"
   ]
  },
  {
   "cell_type": "code",
   "execution_count": null,
   "id": "84e10a65",
   "metadata": {
    "execution": {
     "iopub.execute_input": "2024-08-20T19:32:53.118382Z",
     "iopub.status.busy": "2024-08-20T19:32:53.118128Z",
     "iopub.status.idle": "2024-08-20T19:32:53.121447Z",
     "shell.execute_reply": "2024-08-20T19:32:53.120889Z"
    }
   },
   "outputs": [],
   "source": [
    "print(ascii_art[4][3])"
   ]
  },
  {
   "cell_type": "markdown",
   "id": "fca2cb7b",
   "metadata": {
    "slideshow": {
     "slide_type": "subslide"
    }
   },
   "source": [
    "You can write nested `for` loops to iterate over all the items in nested lists. [Python tutor link](https://pythontutor.com/visualize.html#code=ascii_art%20%3D%20%5B%0A%20%20%20%20%5B'-',%20'*',%20'-',%20'*',%20'-'%5D,%0A%20%20%20%20%5B'-',%20'*',%20'-',%20'*',%20'-'%5D,%0A%20%20%20%20%5B'*',%20'-',%20'*',%20'-',%20'*'%5D,%0A%20%20%20%20%5B'*',%20'*',%20'-',%20'*',%20'*'%5D,%0A%20%20%20%20%5B'-',%20'-',%20'*',%20'-',%20'-'%5D,%0A%5D%0A%0Afor%20row%20in%20ascii_art%3A%0A%20%20%20%20for%20cell%20in%20row%3A%0A%20%20%20%20%20%20%20%20print%28cell,%20end%3D''%29%0A%20%20%20%20print%28%29&cumulative=false&curInstr=34&heapPrimitives=nevernest&mode=display&origin=opt-frontend.js&py=3&rawInputLstJSON=%5B%5D&textReferences=false)"
   ]
  },
  {
   "cell_type": "code",
   "execution_count": null,
   "id": "7730ed85",
   "metadata": {
    "execution": {
     "iopub.execute_input": "2024-08-20T19:32:53.124383Z",
     "iopub.status.busy": "2024-08-20T19:32:53.124141Z",
     "iopub.status.idle": "2024-08-20T19:32:53.127652Z",
     "shell.execute_reply": "2024-08-20T19:32:53.127106Z"
    }
   },
   "outputs": [],
   "source": [
    "for row in ascii_art:\n",
    "    for cell in row:\n",
    "        print(cell, end='')\n",
    "    print()"
   ]
  },
  {
   "cell_type": "markdown",
   "id": "ae2e7a19",
   "metadata": {
    "slideshow": {
     "slide_type": "subslide"
    }
   },
   "source": [
    "Nesting can be arbitrarily deep (although this is often not a good idea):"
   ]
  },
  {
   "cell_type": "code",
   "execution_count": null,
   "id": "443f1d6e",
   "metadata": {
    "execution": {
     "iopub.execute_input": "2024-08-20T19:32:53.130542Z",
     "iopub.status.busy": "2024-08-20T19:32:53.130301Z",
     "iopub.status.idle": "2024-08-20T19:32:53.134701Z",
     "shell.execute_reply": "2024-08-20T19:32:53.134181Z"
    }
   },
   "outputs": [],
   "source": [
    "f = [1, [2, [3, 4, [5, 6], 7], 8], 9, 10]\n",
    "f"
   ]
  },
  {
   "cell_type": "code",
   "execution_count": null,
   "id": "fa5530bc",
   "metadata": {
    "execution": {
     "iopub.execute_input": "2024-08-20T19:32:53.137560Z",
     "iopub.status.busy": "2024-08-20T19:32:53.137309Z",
     "iopub.status.idle": "2024-08-20T19:32:53.140647Z",
     "shell.execute_reply": "2024-08-20T19:32:53.140046Z"
    }
   },
   "outputs": [],
   "source": [
    "print(f[1][1][2][0])"
   ]
  },
  {
   "cell_type": "markdown",
   "id": "c9b5fe87",
   "metadata": {
    "slideshow": {
     "slide_type": "slide"
    }
   },
   "source": [
    "## Example: find the most fit person\n",
    "\n",
    "Let's say we have some data representing the dates on which people exercised this month. Write a program that prints out which person exerecised the most, and the number of times they exercised.\n",
    "\n",
    "Example data:\n",
    "```\n",
    "data = [\n",
    "    [1, 7, 15, 31],\n",
    "    [2, 21],\n",
    "    [5],\n",
    "    [1, 3, 5, 7, 9, 11, 13, 15, 17, 19, 21, 23, 25, 27, 29],\n",
    "    [1, 2, 3, 4, 5, 6]\n",
    "]\n",
    "```"
   ]
  },
  {
   "cell_type": "markdown",
   "id": "66c249bf",
   "metadata": {
    "slideshow": {
     "slide_type": "subslide"
    }
   },
   "source": [
    "Our strategy here will be very similar to what we did for \"cumulative loops\":\n",
    "1. Declare some variables to hold the max values.\n",
    "2. Loop over every item in the outer list, and check whether it's the longest we've seen so far.  \n",
    "   2a. If it is, record the max, and also the index of the max\n",
    "3. At the end, print out the max and max index."
   ]
  },
  {
   "cell_type": "code",
   "execution_count": null,
   "id": "928241bc",
   "metadata": {
    "execution": {
     "iopub.execute_input": "2024-08-20T19:32:53.143689Z",
     "iopub.status.busy": "2024-08-20T19:32:53.143450Z",
     "iopub.status.idle": "2024-08-20T19:32:53.148257Z",
     "shell.execute_reply": "2024-08-20T19:32:53.147634Z"
    },
    "slideshow": {
     "slide_type": "subslide"
    }
   },
   "outputs": [],
   "source": [
    "data = [\n",
    "    [1, 7, 15, 31],\n",
    "    [2, 21],\n",
    "    [5],\n",
    "    [1, 3, 5, 7, 9, 11, 13, 15, 17, 19, 21, 23, 25, 27, 29],\n",
    "    [1, 2, 3, 4, 5, 6]\n",
    "]\n",
    "\n",
    "most = 0\n",
    "most_index = 0\n",
    "for i in range(len(data)):\n",
    "    if len(data[i]) > most:\n",
    "        most = len(data[i])\n",
    "        most_index = i\n",
    "print(f\"Person #{most_index+1} exercised the most, with {most} days of exercise!\")"
   ]
  },
  {
   "cell_type": "markdown",
   "id": "0f0640a2",
   "metadata": {
    "slideshow": {
     "slide_type": "subslide"
    }
   },
   "source": [
    "A tweak to this: we're also given a parallel list of names. Print out the name of the person who exercised the most."
   ]
  },
  {
   "cell_type": "code",
   "execution_count": null,
   "id": "4e3c1a93",
   "metadata": {
    "execution": {
     "iopub.execute_input": "2024-08-20T19:32:53.151273Z",
     "iopub.status.busy": "2024-08-20T19:32:53.151012Z",
     "iopub.status.idle": "2024-08-20T19:32:53.155054Z",
     "shell.execute_reply": "2024-08-20T19:32:53.154438Z"
    },
    "slideshow": {
     "slide_type": "-"
    }
   },
   "outputs": [],
   "source": [
    "names = [\"Spongebob\", \"Batman\", \"Dora\", \"Peppa\", \"Bill Murray\"]\n",
    "data = [\n",
    "    [1, 7, 15, 31],\n",
    "    [2, 21],\n",
    "    [5],\n",
    "    [1, 3, 5, 7, 9, 11, 13, 15, 17, 19, 21, 23, 25, 27, 29],\n",
    "    [1, 2, 3, 4, 5, 6]\n",
    "]"
   ]
  },
  {
   "cell_type": "code",
   "execution_count": null,
   "id": "49d3673a",
   "metadata": {
    "execution": {
     "iopub.execute_input": "2024-08-20T19:32:53.158072Z",
     "iopub.status.busy": "2024-08-20T19:32:53.157811Z",
     "iopub.status.idle": "2024-08-20T19:32:53.162531Z",
     "shell.execute_reply": "2024-08-20T19:32:53.161919Z"
    },
    "slideshow": {
     "slide_type": "subslide"
    }
   },
   "outputs": [],
   "source": [
    "names = [\"Spongebob\", \"Batman\", \"Dora\", \"Peppa\", \"Bill Murray\"]\n",
    "data = [\n",
    "    [1, 7, 15, 31],\n",
    "    [2, 21],\n",
    "    [5],\n",
    "    [1, 3, 5, 7, 9, 11, 13, 15, 17, 19, 21, 23, 25, 27, 29],\n",
    "    [1, 2, 3, 4, 5, 6]\n",
    "]\n",
    "\n",
    "most = 0\n",
    "most_name = \"\"\n",
    "for (name, dates) in zip(names, data):\n",
    "    if len(dates) > most:\n",
    "        most = len(dates)\n",
    "        most_name = name\n",
    "print(f\"{most_name} exercised the most, with {most} days of exercise!\")"
   ]
  },
  {
   "cell_type": "markdown",
   "id": "997e4574",
   "metadata": {
    "slideshow": {
     "slide_type": "-"
    }
   },
   "source": [
    "[Python tutor link](https://pythontutor.com/visualize.html#code=names%20%3D%20%5B%22Spongebob%22,%20%22Batman%22,%20%22Dora%22,%20%22Peppa%22,%20%22Bill%20Murray%22%5D%0Adata%20%3D%20%5B%0A%20%20%20%20%5B1,%207,%2015,%2031%5D,%0A%20%20%20%20%5B2,%2021%5D,%0A%20%20%20%20%5B5%5D,%0A%20%20%20%20%5B1,%203,%205,%207,%209,%2011,%2013,%2015,%2017,%2019,%2021,%2023,%2025,%2027,%2029%5D,%0A%20%20%20%20%5B1,%202,%203,%204,%205,%206%5D%0A%5D%0A%0Amost%20%3D%200%0Amost_name%20%3D%20%22%22%0Afor%20%28name,%20dates%29%20in%20zip%28names,%20data%29%3A%0A%20%20%20%20if%20len%28dates%29%20%3E%20most%3A%0A%20%20%20%20%20%20%20%20most%20%3D%20len%28dates%29%0A%20%20%20%20%20%20%20%20most_name%20%3D%20name%0Aprint%28f%22%7Bmost_name%7D%20exercised%20the%20most,%20with%20%7Bmost%7D%20days%20of%20exercise!%22%29&cumulative=false&curInstr=0&heapPrimitives=nevernest&mode=display&origin=opt-frontend.js&py=3&rawInputLstJSON=%5B%5D&textReferences=false)"
   ]
  },
  {
   "cell_type": "markdown",
   "id": "dbf0a582",
   "metadata": {
    "slideshow": {
     "slide_type": "subslide"
    }
   },
   "source": [
    "## Example: sort by days exercised\n",
    "\n",
    "Sort the list of names in the order of the number of days they exercised.\n",
    "\n",
    "This is a bit tricky - how do we sort one list according to the values in another list?"
   ]
  },
  {
   "cell_type": "markdown",
   "id": "3dc7d4aa",
   "metadata": {
    "slideshow": {
     "slide_type": "fragment"
    }
   },
   "source": [
    "We can leverage the way that tuples are sorted: in order of their first element, with ties broken by successive elements.\n",
    "\n",
    "`(1, 10)` is less than `(2, 3)`  \n",
    "`(1, 10)` is less than `(1, 11)`"
   ]
  },
  {
   "cell_type": "markdown",
   "id": "340b287a",
   "metadata": {
    "slideshow": {
     "slide_type": "subslide"
    }
   },
   "source": [
    "Solution: \n",
    "1. Create a list of tuples, containing the number of days of exercise and the name\n",
    "2. Sort it\n",
    "3. Create a final list consisting of only the name"
   ]
  },
  {
   "cell_type": "code",
   "execution_count": null,
   "id": "cb3ce1c8",
   "metadata": {
    "execution": {
     "iopub.execute_input": "2024-08-20T19:32:53.165782Z",
     "iopub.status.busy": "2024-08-20T19:32:53.165518Z",
     "iopub.status.idle": "2024-08-20T19:32:53.170493Z",
     "shell.execute_reply": "2024-08-20T19:32:53.169905Z"
    }
   },
   "outputs": [],
   "source": [
    "names = [\"Spongebob\", \"Batman\", \"Dora\", \"Peppa\", \"Bill Murray\"]\n",
    "data = [\n",
    "    [1, 7, 15, 31],\n",
    "    [2, 21],\n",
    "    [5],\n",
    "    [1, 3, 5, 7, 9, 11, 13, 15, 17, 19, 21, 23, 25, 27, 29],\n",
    "    [1, 2, 3, 4, 5, 6]\n",
    "]\n",
    "\n",
    "sortable = []\n",
    "for dates, name in zip(data, names):\n",
    "    sortable.append((len(dates), name))\n",
    "\n",
    "sortable.sort(reverse=True)\n",
    "\n",
    "final_answer = []\n",
    "for num_dates, name in sortable:\n",
    "    final_answer.append(name)\n",
    "\n",
    "print(final_answer)"
   ]
  },
  {
   "cell_type": "markdown",
   "id": "78ed08c6",
   "metadata": {},
   "source": [
    "[PythonTutor link](https://pythontutor.com/render.html#code=names%20%3D%20%5B%22Spongebob%22,%20%22Batman%22,%20%22Dora%22,%20%22Peppa%22,%20%22Bill%20Murray%22%5D%0Adata%20%3D%20%5B%0A%20%20%20%20%5B1,%207,%2015,%2031%5D,%0A%20%20%20%20%5B2,%2021%5D,%0A%20%20%20%20%5B5%5D,%0A%20%20%20%20%5B1,%203,%205,%207,%209,%2011,%2013,%2015,%2017,%2019,%2021,%2023,%2025,%2027,%2029%5D,%0A%20%20%20%20%5B1,%202,%203,%204,%205,%206%5D%0A%5D%0A%0Asortable%20%3D%20%5B%5D%0Afor%20dates,%20name%20in%20zip%28data,%20names%29%3A%0A%20%20%20%20sortable.append%28%28len%28dates%29,%20name%29%29%0A%0Asortable.sort%28%29%0A%0Afinal_answer%20%3D%20%5B%5D%0Afor%20num_dates,%20name%20in%20sortable%3A%0A%20%20%20%20final_answer.append%28name%29%0A%0Aprint%28final_answer%29&cumulative=false&curInstr=0&heapPrimitives=nevernest&mode=display&origin=opt-frontend.js&py=311&rawInputLstJSON=%5B%5D&textReferences=false)"
   ]
  },
  {
   "cell_type": "markdown",
   "id": "dd0564ab",
   "metadata": {},
   "source": [
    "TODO: fill this way out, more examples, mostly 2-d lists. Simplify sorting down because it should be covered in advanced lists before this"
   ]
  },
  {
   "cell_type": "markdown",
   "id": "86508fe8",
   "metadata": {
    "slideshow": {
     "slide_type": "slide"
    }
   },
   "source": [
    "## List comprehensions\n",
    "\n",
    "Python provides a shorthand for transforming and filtering lists."
   ]
  },
  {
   "cell_type": "code",
   "execution_count": null,
   "id": "ea62553c",
   "metadata": {
    "execution": {
     "iopub.execute_input": "2024-08-20T19:32:53.173820Z",
     "iopub.status.busy": "2024-08-20T19:32:53.173553Z",
     "iopub.status.idle": "2024-08-20T19:32:53.177217Z",
     "shell.execute_reply": "2024-08-20T19:32:53.176598Z"
    }
   },
   "outputs": [],
   "source": [
    "fruits = [\"apple\", \"banana\", \"strawberry\", \"plum\"]\n",
    "new_fruits = [x.upper() for x in fruits]\n",
    "print(new_fruits)"
   ]
  },
  {
   "cell_type": "code",
   "execution_count": null,
   "id": "a8d8a6da",
   "metadata": {
    "execution": {
     "iopub.execute_input": "2024-08-20T19:32:53.180131Z",
     "iopub.status.busy": "2024-08-20T19:32:53.179870Z",
     "iopub.status.idle": "2024-08-20T19:32:53.183441Z",
     "shell.execute_reply": "2024-08-20T19:32:53.182853Z"
    }
   },
   "outputs": [],
   "source": [
    "short_fruits = [x for x in fruits if len(x) < 6]\n",
    "print(short_fruits)"
   ]
  },
  {
   "cell_type": "markdown",
   "id": "580192d6",
   "metadata": {
    "slideshow": {
     "slide_type": "subslide"
    }
   },
   "source": [
    "A list comprehension creates a new list from an existing iterable.\n",
    "\n",
    "The full syntax is:\n",
    "\n",
    "`[<expression> for <item> in <iterable>]`  \n",
    "or  \n",
    "`[<expression> for <item> in <iterable> if <boolean expression>]`\n",
    "\n",
    "Let's compare some examples to the equivalent using a `for` loop."
   ]
  },
  {
   "cell_type": "code",
   "execution_count": null,
   "id": "a72324c4",
   "metadata": {
    "execution": {
     "iopub.execute_input": "2024-08-20T19:32:53.186506Z",
     "iopub.status.busy": "2024-08-20T19:32:53.186236Z",
     "iopub.status.idle": "2024-08-20T19:32:53.189807Z",
     "shell.execute_reply": "2024-08-20T19:32:53.189211Z"
    },
    "slideshow": {
     "slide_type": "subslide"
    }
   },
   "outputs": [],
   "source": [
    "fruits = [\"apple\", \"banana\", \"strawberry\", \"plum\"]\n",
    "new_fruits = [x.upper() for x in fruits]\n",
    "print(new_fruits)"
   ]
  },
  {
   "cell_type": "code",
   "execution_count": null,
   "id": "7bf3e1c6",
   "metadata": {
    "execution": {
     "iopub.execute_input": "2024-08-20T19:32:53.193007Z",
     "iopub.status.busy": "2024-08-20T19:32:53.192741Z",
     "iopub.status.idle": "2024-08-20T19:32:53.196421Z",
     "shell.execute_reply": "2024-08-20T19:32:53.195871Z"
    }
   },
   "outputs": [],
   "source": [
    "# without list comprehensions\n",
    "fruits = [\"apple\", \"banana\", \"strawberry\", \"plum\"]\n",
    "new_fruits = []\n",
    "for f in fruits:\n",
    "    new_fruits.append(f.upper())\n",
    "print(new_fruits)"
   ]
  },
  {
   "cell_type": "code",
   "execution_count": null,
   "id": "e2781fae",
   "metadata": {
    "execution": {
     "iopub.execute_input": "2024-08-20T19:32:53.199456Z",
     "iopub.status.busy": "2024-08-20T19:32:53.199209Z",
     "iopub.status.idle": "2024-08-20T19:32:53.202620Z",
     "shell.execute_reply": "2024-08-20T19:32:53.202085Z"
    },
    "slideshow": {
     "slide_type": "subslide"
    }
   },
   "outputs": [],
   "source": [
    "fruits = [\"apple\", \"banana\", \"strawberry\", \"plum\"]\n",
    "short_fruits = [fruit for fruit in fruits if len(fruit) < 6]\n",
    "print(short_fruits)"
   ]
  },
  {
   "cell_type": "code",
   "execution_count": null,
   "id": "76e5d296",
   "metadata": {
    "execution": {
     "iopub.execute_input": "2024-08-20T19:32:53.205657Z",
     "iopub.status.busy": "2024-08-20T19:32:53.205405Z",
     "iopub.status.idle": "2024-08-20T19:32:53.209101Z",
     "shell.execute_reply": "2024-08-20T19:32:53.208541Z"
    }
   },
   "outputs": [],
   "source": [
    "# without list comprehensions\n",
    "fruits = [\"apple\", \"banana\", \"strawberry\", \"plum\"]\n",
    "short_fruits = []\n",
    "for f in fruits:\n",
    "    if len(f) < 6:\n",
    "        short_fruits.append(f)\n",
    "print(short_fruits)"
   ]
  },
  {
   "cell_type": "markdown",
   "id": "2eca51cd",
   "metadata": {
    "slideshow": {
     "slide_type": "subslide"
    }
   },
   "source": [
    "## Another example\n",
    "\n",
    "Let's apply sales tax to a list of prices"
   ]
  },
  {
   "cell_type": "code",
   "execution_count": null,
   "id": "4e537679",
   "metadata": {
    "execution": {
     "iopub.execute_input": "2024-08-20T19:32:53.211987Z",
     "iopub.status.busy": "2024-08-20T19:32:53.211738Z",
     "iopub.status.idle": "2024-08-20T19:32:53.215512Z",
     "shell.execute_reply": "2024-08-20T19:32:53.214959Z"
    },
    "slideshow": {
     "slide_type": "-"
    }
   },
   "outputs": [],
   "source": [
    "def apply_sales_tax(amt):\n",
    "    return amt * 1.06\n",
    "\n",
    "prices = [10.5, 5, 100.98, 59.99]\n",
    "total_prices = [apply_sales_tax(x) for x in prices]\n",
    "print(total_prices)"
   ]
  },
  {
   "cell_type": "code",
   "execution_count": null,
   "id": "547643ce",
   "metadata": {
    "execution": {
     "iopub.execute_input": "2024-08-20T19:32:53.218554Z",
     "iopub.status.busy": "2024-08-20T19:32:53.218247Z",
     "iopub.status.idle": "2024-08-20T19:32:53.222514Z",
     "shell.execute_reply": "2024-08-20T19:32:53.221894Z"
    }
   },
   "outputs": [],
   "source": [
    "# without list comprehensions\n",
    "def apply_sales_tax(amt):\n",
    "    return amt * 1.06\n",
    "\n",
    "prices = [10.5, 5, 100.98, 59.99]\n",
    "total_prices = []\n",
    "for p in prices:\n",
    "    total_prices.append(apply_sales_tax(p))\n",
    "print(total_prices)"
   ]
  },
  {
   "cell_type": "markdown",
   "id": "095d1c12",
   "metadata": {
    "slideshow": {
     "slide_type": "subslide"
    }
   },
   "source": [
    "We could also handle the formatting with a comprehension:"
   ]
  },
  {
   "cell_type": "code",
   "execution_count": null,
   "id": "92235c6a",
   "metadata": {
    "execution": {
     "iopub.execute_input": "2024-08-20T19:32:53.225562Z",
     "iopub.status.busy": "2024-08-20T19:32:53.225302Z",
     "iopub.status.idle": "2024-08-20T19:32:53.229249Z",
     "shell.execute_reply": "2024-08-20T19:32:53.228574Z"
    },
    "slideshow": {
     "slide_type": "-"
    }
   },
   "outputs": [],
   "source": [
    "def apply_sales_tax(amt):\n",
    "    return amt * 1.06\n",
    "\n",
    "prices = [10.5, 5, 100.98, 59.99]\n",
    "total_prices = [apply_sales_tax(x) for x in prices]\n",
    "print([f\"${x:.2f}\" for x in total_prices])"
   ]
  },
  {
   "cell_type": "code",
   "execution_count": null,
   "id": "bb37ca28",
   "metadata": {
    "execution": {
     "iopub.execute_input": "2024-08-20T19:32:53.233018Z",
     "iopub.status.busy": "2024-08-20T19:32:53.232731Z",
     "iopub.status.idle": "2024-08-20T19:32:53.237606Z",
     "shell.execute_reply": "2024-08-20T19:32:53.236796Z"
    }
   },
   "outputs": [],
   "source": [
    "# without list comprehensions\n",
    "def apply_sales_tax(amt):\n",
    "    return amt * 1.06\n",
    "\n",
    "prices = [10.5, 5, 100.98, 59.99]\n",
    "total_prices = []\n",
    "for p in prices:\n",
    "    total_price = apply_sales_tax(p)\n",
    "    total_prices.append(f\"${total_price:.2f}\")\n",
    "print(total_prices)"
   ]
  },
  {
   "cell_type": "markdown",
   "id": "2afa2edf",
   "metadata": {
    "slideshow": {
     "slide_type": "subslide"
    }
   },
   "source": [
    "Or, we could collapse it even more with an extra function and one comprehension:"
   ]
  },
  {
   "cell_type": "code",
   "execution_count": null,
   "id": "6fe88608",
   "metadata": {
    "execution": {
     "iopub.execute_input": "2024-08-20T19:32:53.241106Z",
     "iopub.status.busy": "2024-08-20T19:32:53.240811Z",
     "iopub.status.idle": "2024-08-20T19:32:53.245416Z",
     "shell.execute_reply": "2024-08-20T19:32:53.244816Z"
    },
    "slideshow": {
     "slide_type": "-"
    }
   },
   "outputs": [],
   "source": [
    "def apply_sales_tax(amt):\n",
    "    return amt * 1.06\n",
    "\n",
    "def format_price(p):\n",
    "    return f\"${p:.2f}\"\n",
    "\n",
    "prices = [10.5, 5, 100.98, 59.99]\n",
    "print([format_price(apply_sales_tax(x)) for x in prices])"
   ]
  },
  {
   "cell_type": "code",
   "execution_count": null,
   "id": "b7c6213f",
   "metadata": {
    "execution": {
     "iopub.execute_input": "2024-08-20T19:32:53.248633Z",
     "iopub.status.busy": "2024-08-20T19:32:53.248354Z",
     "iopub.status.idle": "2024-08-20T19:32:53.252829Z",
     "shell.execute_reply": "2024-08-20T19:32:53.252180Z"
    }
   },
   "outputs": [],
   "source": [
    "# without list comprehensions\n",
    "def apply_sales_tax(amt):\n",
    "    return amt * 1.06\n",
    "\n",
    "prices = [10.5, 5, 100.98, 59.99]\n",
    "total_prices = []\n",
    "for p in prices:\n",
    "    total_price = apply_sales_tax(p)\n",
    "    total_prices.append(f\"${total_price:.2f}\")\n",
    "print(total_prices)"
   ]
  },
  {
   "cell_type": "markdown",
   "id": "3c0a5fa4",
   "metadata": {
    "slideshow": {
     "slide_type": "subslide"
    }
   },
   "source": [
    "You can filter and transform in one step. Let's only show the big purchases:"
   ]
  },
  {
   "cell_type": "code",
   "execution_count": null,
   "id": "0e500e0d",
   "metadata": {
    "execution": {
     "iopub.execute_input": "2024-08-20T19:32:53.255914Z",
     "iopub.status.busy": "2024-08-20T19:32:53.255646Z",
     "iopub.status.idle": "2024-08-20T19:32:53.259985Z",
     "shell.execute_reply": "2024-08-20T19:32:53.259303Z"
    },
    "slideshow": {
     "slide_type": "-"
    }
   },
   "outputs": [],
   "source": [
    "def apply_sales_tax(amt):\n",
    "    return amt * 1.06\n",
    "\n",
    "def format_price(p):\n",
    "    return f\"${p:.2f}\"\n",
    "\n",
    "prices = [10.5, 5, 100.98, 59.99]\n",
    "print([format_price(apply_sales_tax(x)) for x in prices if x > 50])"
   ]
  },
  {
   "cell_type": "code",
   "execution_count": null,
   "id": "8058cafa",
   "metadata": {
    "execution": {
     "iopub.execute_input": "2024-08-20T19:32:53.262881Z",
     "iopub.status.busy": "2024-08-20T19:32:53.262618Z",
     "iopub.status.idle": "2024-08-20T19:32:53.266723Z",
     "shell.execute_reply": "2024-08-20T19:32:53.266137Z"
    }
   },
   "outputs": [],
   "source": [
    "# without list comprehensions\n",
    "def apply_sales_tax(amt):\n",
    "    return amt * 1.06\n",
    "\n",
    "prices = [10.5, 5, 100.98, 59.99]\n",
    "total_prices = []\n",
    "for p in prices:\n",
    "    if p > 50:\n",
    "        total_price = apply_sales_tax(p)\n",
    "        total_prices.append(f\"${total_price:.2f}\")\n",
    "print(total_prices)"
   ]
  },
  {
   "cell_type": "markdown",
   "id": "e654ca4b",
   "metadata": {
    "slideshow": {
     "slide_type": "subslide"
    }
   },
   "source": [
    "## Syntactic \"sugar\"\n",
    "\n",
    "List comprehensions are never necessary - you can always write equivalent code with a for loop and conditional.\n",
    "\n",
    "It's important to recognize the syntax, because it's commonly used in Python. \n",
    "\n",
    "Sometimes, they make code more readable, sometimes less. Try them out, see if you like them!"
   ]
  }
 ],
 "metadata": {
  "celltoolbar": "Slideshow",
  "kernelspec": {
   "display_name": "Python 3 (ipykernel)",
   "language": "python",
   "name": "python3"
  },
  "language_info": {
   "codemirror_mode": {
    "name": "ipython",
    "version": 3
   },
   "file_extension": ".py",
   "mimetype": "text/x-python",
   "name": "python",
   "nbconvert_exporter": "python",
   "pygments_lexer": "ipython3",
   "version": "3.10.9"
  }
 },
 "nbformat": 4,
 "nbformat_minor": 5
}
