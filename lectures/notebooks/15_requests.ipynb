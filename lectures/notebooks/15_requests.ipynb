{
 "cells": [
  {
   "cell_type": "markdown",
   "id": "1ee8a1d2",
   "metadata": {
    "slideshow": {
     "slide_type": "slide"
    }
   },
   "source": [
    "# Working With Data From the Internet\n",
    "\n",
    "<style>\n",
    "section.present > section.present { \n",
    "    max-height: 90%; \n",
    "    overflow-y: scroll;\n",
    "}\n",
    "</style>\n",
    "\n",
    "<small><a href=\"https://colab.research.google.com/github/brandeis-jdelfino/cosi-10a/blob/main/lectures/notebooks/15_requests.ipynb\">Link to interactive slides on Google Colab</a></small>"
   ]
  },
  {
   "cell_type": "markdown",
   "id": "323e5a69",
   "metadata": {
    "slideshow": {
     "slide_type": "slide"
    }
   },
   "source": [
    "# Where is the International Space Station?"
   ]
  },
  {
   "cell_type": "markdown",
   "id": "3a356bcb",
   "metadata": {
    "slideshow": {
     "slide_type": "fragment"
    }
   },
   "source": [
    "# [Right here](http://api.open-notify.org/iss-now.json)"
   ]
  },
  {
   "cell_type": "markdown",
   "id": "3439a717",
   "metadata": {
    "slideshow": {
     "slide_type": "fragment"
    }
   },
   "source": [
    "Does that data format look familiar?"
   ]
  },
  {
   "cell_type": "markdown",
   "id": "01a94f7b",
   "metadata": {
    "slideshow": {
     "slide_type": "fragment"
    }
   },
   "source": [
    "It's JSON!\n",
    "\n",
    "JSON is a very commonly used data exchange format."
   ]
  },
  {
   "cell_type": "markdown",
   "id": "761936e1",
   "metadata": {
    "slideshow": {
     "slide_type": "slide"
    }
   },
   "source": [
    "## Requests library\n",
    "\n",
    "We can fetch and work with this data from Python."
   ]
  },
  {
   "cell_type": "code",
   "execution_count": null,
   "id": "571661ff",
   "metadata": {
    "execution": {
     "iopub.execute_input": "2023-10-30T03:37:04.881477Z",
     "iopub.status.busy": "2023-10-30T03:37:04.881101Z",
     "iopub.status.idle": "2023-10-30T03:37:05.163384Z",
     "shell.execute_reply": "2023-10-30T03:37:05.162462Z"
    }
   },
   "outputs": [],
   "source": [
    "import requests\n",
    "data = requests.get('http://api.open-notify.org/iss-now.json').json()\n",
    "print(data)\n",
    "print(f\"The ISS is at lat: {data['iss_position']['latitude']}, long: {data['iss_position']['longitude']}\")"
   ]
  },
  {
   "cell_type": "markdown",
   "id": "71c2e3a5",
   "metadata": {
    "slideshow": {
     "slide_type": "slide"
    }
   },
   "source": [
    "## Networking on the Internet\n",
    "\n",
    "Let's dig into what it means to \"send a request\" over the internet.\n",
    "\n",
    "This is a 30,000 foot overview - many details are glossed over."
   ]
  },
  {
   "cell_type": "markdown",
   "id": "bea589fa",
   "metadata": {
    "slideshow": {
     "slide_type": "subslide"
    }
   },
   "source": [
    "## Mailing letters\n",
    "\n",
    "We'll use an analogy: sending a request over the internet is like mailing someone a letter.\n",
    "\n",
    "A letter is sent to an address, and has contents inside an envelope."
   ]
  },
  {
   "cell_type": "markdown",
   "id": "56d41284",
   "metadata": {
    "slideshow": {
     "slide_type": "fragment"
    }
   },
   "source": [
    "The URL is like the address."
   ]
  },
  {
   "cell_type": "markdown",
   "id": "365bbbbd",
   "metadata": {
    "slideshow": {
     "slide_type": "subslide"
    }
   },
   "source": [
    "## Anatomy of a URL\n",
    "\n",
    "`http://video.google.com/videoplay?docid=1234&hl=en`\n",
    "\n",
    "* `http://`: The \"protocol\", or \"scheme\"\n",
    "   * This specifies the format of the request\n",
    "* `video.google.com`: The \"domain name\", or a unique name for a location on the internet\n",
    "   * Starts after the protocol, and after `://`\n",
    "* `videoplay`: The \"path\", or the name of the resource being accessed\n",
    "   * Starts after the end of the domain, and after a `/`\n",
    "* `docid=1234&hl=en`: The \"query\", or parameters related to a request\n",
    "   * Starts at the end of the path, and after a `?`\n",
    "   * `docid=1234` and `hl=en` are each individual \"parameters\", and parameters are always separated by `&`"
   ]
  },
  {
   "cell_type": "markdown",
   "id": "240b3698",
   "metadata": {
    "slideshow": {
     "slide_type": "subslide"
    }
   },
   "source": [
    "## Anatomy of our URL\n",
    "\n",
    "`http://api.open-notify.org/iss-now.json`\n",
    "\n",
    "* `http://`: protocol\n",
    "* `api.open-notify.org`: domain\n",
    "* `iss-now.json`: path"
   ]
  },
  {
   "cell_type": "markdown",
   "id": "146f507f",
   "metadata": {
    "slideshow": {
     "slide_type": "subslide"
    }
   },
   "source": [
    "## IP Addresses and Domain Names\n",
    "\n",
    "Every computer connected to the internet has a unique IP address. \n",
    "\n",
    "Every domain name has one or more IP addresses associated with it.\n",
    "\n",
    "The first step of sending a request is to translate the domain to an IP address.\n"
   ]
  },
  {
   "cell_type": "markdown",
   "id": "22801ff8",
   "metadata": {
    "slideshow": {
     "slide_type": "subslide"
    }
   },
   "source": [
    "## Mailing letters\n",
    "\n",
    "A domain is like the name of a location that you understand, like \"Joe's house\" or \"the park around the corner from my house\".\n",
    "\n",
    "An IP address is like the actual address of the house or park, including all the necessary details, such as postal code."
   ]
  },
  {
   "cell_type": "markdown",
   "id": "8875c0de",
   "metadata": {
    "slideshow": {
     "slide_type": "subslide"
    }
   },
   "source": [
    "## DNS\n",
    "\n",
    "**DNS** (Domain Name System) is like a big dictionary that maps from domain name to IP address.\n",
    "\n",
    "The owner of a domain has the ability to specify which IP address(es) a domain maps to.\n",
    "\n",
    "DNS records are publicly accessible: https://traceroute-online.com/check-dns-records/\n",
    "\n",
    "All routing of traffic on the internet is done using IP addresses."
   ]
  },
  {
   "cell_type": "markdown",
   "id": "edc283b8",
   "metadata": {
    "slideshow": {
     "slide_type": "subslide"
    }
   },
   "source": [
    "## Address books\n",
    "\n",
    "DNS is like your address book - it translates from a \"place name\" to a physical address that the postal service recognizes.\n",
    "\n",
    "You can't mail a letter to \"Joe's house\", but you can mail a letter to \"123 Python Lane, Boston MA, 02118\" (not my real address)."
   ]
  },
  {
   "cell_type": "markdown",
   "id": "e5897463",
   "metadata": {
    "slideshow": {
     "slide_type": "subslide"
    }
   },
   "source": [
    "## IP Routing\n",
    "\n",
    "Routing traffic by IP address is beyond the scope of this lecture, but requests will typically be passed between many servers on the way to arriving at the specified IP address.\n",
    "\n",
    "Many tools allow you to trace the path of a request: https://traceroute-online.com/"
   ]
  },
  {
   "cell_type": "markdown",
   "id": "0eef0526",
   "metadata": {
    "slideshow": {
     "slide_type": "subslide"
    }
   },
   "source": [
    "## Postal network \n",
    "\n",
    "IP routing is like the network of trucks, planes, trains, etc that are used to get your letter to its final destination. \n",
    "\n",
    "Your letter might stop at multiple other post offices along the way.\n",
    "\n",
    "No one along the way knows or cares what is **in** your letter. They're just delivering an envelope."
   ]
  },
  {
   "cell_type": "markdown",
   "id": "db7ec920",
   "metadata": {
    "slideshow": {
     "slide_type": "subslide"
    }
   },
   "source": [
    "## Load balancing\n",
    "\n",
    "Eventually, your request ends up at a server with the IP address associated with the domain you requested.\n",
    "\n",
    "Those first servers are often \"load balancers\", which route requests to other servers, which can actually respond to the requests.\n",
    "\n",
    "This routing is different than IP routing, but we don't need to worry about the difference.\n",
    "\n",
    "Eventually, the request is routed to a server that can generate a response."
   ]
  },
  {
   "cell_type": "markdown",
   "id": "d728cbff",
   "metadata": {
    "slideshow": {
     "slide_type": "subslide"
    }
   },
   "source": [
    "## Campus mail room\n",
    "\n",
    "If you mail a letter to me at my campus address, the postal service delivers it to the mail room.\n",
    "\n",
    "Load balancing, and other routing that happens after delivery to a DNS-registered IP, is like the mail room staff on campus who route the letter to my personal mailbox."
   ]
  },
  {
   "cell_type": "markdown",
   "id": "d622100f",
   "metadata": {
    "slideshow": {
     "slide_type": "subslide"
    }
   },
   "source": [
    "## HTTP Requests\n",
    "\n",
    "Our protocol is \"http\", which means we are making an \"HTTP request\"\n",
    "\n",
    "**HTTP** stands for \"HyperText Transport Protocol\"\n",
    "\n",
    "It is the protocol (agreed upon format) for the majority of requests on the internet.\n",
    "\n",
    "Other common protocols include: \n",
    "* `ftp` (file transfer)\n",
    "* `smtp` and `imap` (email)\n",
    "* `udp` (real time communication)"
   ]
  },
  {
   "cell_type": "markdown",
   "id": "1eea5d80",
   "metadata": {
    "slideshow": {
     "slide_type": "subslide"
    }
   },
   "source": [
    "## The Language of Your Letter\n",
    "\n",
    "HTTP is like the language the letter inside the envelope is written in.\n",
    "\n",
    "It doesn't have anything to do with how the letter is routed or handled by the postal service, but it is important that your recipient knows how to interpret the letter we wrote."
   ]
  },
  {
   "cell_type": "markdown",
   "id": "5ef12740",
   "metadata": {},
   "source": [
    "## Anatomy of an HTTP Request\n",
    "\n",
    "An HTTP request is just a blob of text describing our request.\n",
    "\n",
    "It consists of 3 parts:\n",
    "1. Request line\n",
    "   * Specifies the HTTP method, and the resource being requested\n",
    "2. Headers (Optional)\n",
    "   * Directives on how to handle the request\n",
    "3. Body (optional)\n",
    "   * The payload of the message, if applicable"
   ]
  },
  {
   "cell_type": "markdown",
   "id": "825debc2",
   "metadata": {},
   "source": [
    "Here's what our HTTP request looks like when sent from a browser. It has 8 headers and no body:\n",
    "\n",
    "```\n",
    "GET /iss-now.json HTTP/1.1\n",
    "Accept: text/html,application/xhtml+xml,[...]\n",
    "Accept-Encoding: gzip, deflate\n",
    "Accept-Language: en-US,en;q=0.9\n",
    "Cache-Control: max-age=0\n",
    "Connection: keep-alive\n",
    "Host: api.open-notify.org\n",
    "Upgrade-Insecure-Requests: 1\n",
    "User-Agent: Mozilla/5.0 (Macintosh; Intel Mac OS X 10_15_7) [...]\n",
    "```"
   ]
  },
  {
   "cell_type": "markdown",
   "id": "3e296b98",
   "metadata": {
    "slideshow": {
     "slide_type": "subslide"
    }
   },
   "source": [
    "## HTTP Methods\n",
    "\n",
    "HTTP requests always have a \"method\".\n",
    "\n",
    "There are several methods, but the 2 most common are \"GET\" and \"POST\".\n",
    "\n",
    "**GET** requests are typically used to retrieve data.\n",
    "\n",
    "**POST** requests are typically used to send data."
   ]
  },
  {
   "cell_type": "markdown",
   "id": "aa0c87b9",
   "metadata": {
    "slideshow": {
     "slide_type": "subslide"
    }
   },
   "source": [
    "## Reading and Responding to the Letter\n",
    "\n",
    "The letter has been delivered to a person who should be able to understand it.\n",
    "\n",
    "That person will know how to interpret the contents, and how to respond.\n",
    "\n",
    "That person might still call on other people (servers) to help create a response.\n",
    "\n",
    "The response will be returned in the same language and format (protocol) as the original letter."
   ]
  },
  {
   "cell_type": "markdown",
   "id": "889d5a2a",
   "metadata": {},
   "source": [
    "## HTTP Responses\n",
    "\n",
    "HTTP responses have status codes, headers, and bodies.\n",
    "\n",
    "Wikipedia has a [full list](https://en.wikipedia.org/wiki/List_of_HTTP_status_codes) of status codes. Common codes are:\n",
    "* `200` - success\n",
    "* `301` / `302` - permanent / temporary redirect\n",
    "* `404` - not found\n",
    "* `500` - server error"
   ]
  },
  {
   "cell_type": "markdown",
   "id": "9a3da29b",
   "metadata": {},
   "source": [
    "Here's what our HTTP response looks like when received in the browser. It has 6 headers and a body containing a JSON string:\n",
    "\n",
    "```\n",
    "HTTP/1.1 200 OK\n",
    "Server: nginx/1.10.3\n",
    "Date: Wed, 25 Oct 2023 03:10:09 GMT\n",
    "Content-Type: application/json\n",
    "Content-Length: 113\n",
    "Connection: keep-alive\n",
    "access-control-allow-origin: *\n",
    "\n",
    "{\"timestamp\": 1698203409, \"iss_position\": {\"latitude\": \"35.2661\", \"longitude\": \"110.0297\"}, \"message\": \"success\"}\n",
    "```"
   ]
  },
  {
   "cell_type": "markdown",
   "id": "ee3e08b6",
   "metadata": {
    "slideshow": {
     "slide_type": "subslide"
    }
   },
   "source": [
    "## Letter Responses\n",
    "\n",
    "* `200` is like successfully receiving a reply letter.\n",
    "* `301` / `302` are a bit like forwarding mail to another address - the postal service handles this for you; similarly most HTTP clients will also handle it for you.\n",
    "* `404` is like trying to send a letter to an unknown address, and having it returned\n",
    "* `500` is like the box of mail containing your letter falling off the truck and getting lost\n",
    "\n",
    "The body of the response is like the letter you receive in response to your inquiry."
   ]
  },
  {
   "cell_type": "markdown",
   "id": "6cd3eda6",
   "metadata": {
    "slideshow": {
     "slide_type": "subslide"
    }
   },
   "source": [
    "## All the terminology together\n",
    "\n",
    "`requests.get('http://api.open-notify.org/iss-now.json')`\n",
    "\n",
    "We made an HTTP request to the domain `api.open-notify.org`, asking it to `GET` the data for the resource `iss-now.json`.\n",
    "\n",
    "It returned a response with a `200` (success) status code, and a JSON object in the body."
   ]
  },
  {
   "cell_type": "markdown",
   "id": "722398e5",
   "metadata": {
    "slideshow": {
     "slide_type": "slide"
    }
   },
   "source": [
    "## Back to the `requests` library...\n",
    "\n",
    "`requests.get()` returns a `Response` object, which has many fields: [Response](https://requests.readthedocs.io/en/latest/api/#requests.Response)"
   ]
  },
  {
   "cell_type": "code",
   "execution_count": null,
   "id": "8c62e1bc",
   "metadata": {
    "execution": {
     "iopub.execute_input": "2023-10-30T03:37:05.172250Z",
     "iopub.status.busy": "2023-10-30T03:37:05.171755Z",
     "iopub.status.idle": "2023-10-30T03:37:05.332297Z",
     "shell.execute_reply": "2023-10-30T03:37:05.331226Z"
    }
   },
   "outputs": [],
   "source": [
    "response = requests.get('http://api.open-notify.org/iss-now.json')\n",
    "print(response.status_code)\n",
    "print()\n",
    "print(response.headers)\n",
    "print()\n",
    "print(response.text)"
   ]
  },
  {
   "cell_type": "markdown",
   "id": "60b04c87",
   "metadata": {
    "slideshow": {
     "slide_type": "subslide"
    }
   },
   "source": [
    "We can use the handy `json()` method, which attempts to parse the body of the response as JSON:"
   ]
  },
  {
   "cell_type": "code",
   "execution_count": null,
   "id": "c8973ea2",
   "metadata": {
    "execution": {
     "iopub.execute_input": "2023-10-30T03:37:05.337318Z",
     "iopub.status.busy": "2023-10-30T03:37:05.336629Z",
     "iopub.status.idle": "2023-10-30T03:37:05.341346Z",
     "shell.execute_reply": "2023-10-30T03:37:05.340486Z"
    }
   },
   "outputs": [],
   "source": [
    "print(type(response.json()))\n",
    "print(response.json())"
   ]
  },
  {
   "cell_type": "markdown",
   "id": "39583d0c",
   "metadata": {
    "slideshow": {
     "slide_type": "slide"
    }
   },
   "source": [
    "## All this networking stuff is great...\n",
    "\n",
    "But I really just want to know what part of the world the ISS is over, and I can't translate latitude/longitudes in my head."
   ]
  },
  {
   "cell_type": "markdown",
   "id": "1aca680a",
   "metadata": {
    "slideshow": {
     "slide_type": "fragment"
    }
   },
   "source": [
    "Let's use another free service, [geocode.xyz/api](http://geocode.xyz/api)"
   ]
  },
  {
   "cell_type": "markdown",
   "id": "bf7b036f",
   "metadata": {
    "slideshow": {
     "slide_type": "subslide"
    }
   },
   "source": [
    "It has several options, but we want the simple one: turn a lat/long into an address."
   ]
  },
  {
   "cell_type": "code",
   "execution_count": null,
   "id": "a81472fa",
   "metadata": {
    "execution": {
     "iopub.execute_input": "2023-10-30T03:37:05.346160Z",
     "iopub.status.busy": "2023-10-30T03:37:05.345568Z",
     "iopub.status.idle": "2023-10-30T03:37:11.759012Z",
     "shell.execute_reply": "2023-10-30T03:37:11.757678Z"
    }
   },
   "outputs": [],
   "source": [
    "import json\n",
    "response = requests.get('http://api.open-notify.org/iss-now.json')\n",
    "response_json = response.json()\n",
    "\n",
    "pos = response_json['iss_position']\n",
    "geocode_url = f\"https://geocode.xyz/{pos['latitude']},{pos['longitude']}?json=1\"\n",
    "print(f\"Reverse geocoding: {pos=} with {geocode_url=}\")\n",
    "\n",
    "geolocate_response = requests.get(geocode_url)\n",
    "print(geolocate_response.status_code)\n",
    "print(geolocate_response.json())\n",
    "\n",
    "# pretty print:\n",
    "#print(json.dumps(geolocate_response.json(), indent=2, ensure_ascii=False))"
   ]
  },
  {
   "cell_type": "markdown",
   "id": "4698ff42",
   "metadata": {
    "slideshow": {
     "slide_type": "slide"
    }
   },
   "source": [
    "## Meteorites\n",
    "\n",
    "[JSON Meteorite data from NASA](https://data.nasa.gov/resource/y77d-th95.json)\n",
    "\n",
    "[Dataset description on NASA's Open Data Portal](https://data.nasa.gov/Space-Science/Meteorite-Landings/gh4g-9sfh)"
   ]
  },
  {
   "cell_type": "code",
   "execution_count": null,
   "id": "398c6e57",
   "metadata": {
    "execution": {
     "iopub.execute_input": "2023-10-30T03:37:11.764018Z",
     "iopub.status.busy": "2023-10-30T03:37:11.763572Z",
     "iopub.status.idle": "2023-10-30T03:37:12.582933Z",
     "shell.execute_reply": "2023-10-30T03:37:12.581741Z"
    },
    "slideshow": {
     "slide_type": "subslide"
    }
   },
   "outputs": [],
   "source": [
    "import requests\n",
    "meteorites = requests.get('https://data.nasa.gov/resource/gh4g-9sfh.json?').json()\n",
    "print(type(meteorites))"
   ]
  },
  {
   "cell_type": "code",
   "execution_count": null,
   "id": "d570093b",
   "metadata": {
    "execution": {
     "iopub.execute_input": "2023-10-30T03:37:12.587507Z",
     "iopub.status.busy": "2023-10-30T03:37:12.586921Z",
     "iopub.status.idle": "2023-10-30T03:37:12.591025Z",
     "shell.execute_reply": "2023-10-30T03:37:12.590328Z"
    },
    "slideshow": {
     "slide_type": "-"
    }
   },
   "outputs": [],
   "source": [
    "print(len(meteorites))"
   ]
  },
  {
   "cell_type": "markdown",
   "id": "53adb364",
   "metadata": {
    "slideshow": {
     "slide_type": "fragment"
    }
   },
   "source": [
    "Hm, exactly 1000. Seems suspicious - maybe we aren't getting all the data."
   ]
  },
  {
   "cell_type": "markdown",
   "id": "084690cf",
   "metadata": {
    "slideshow": {
     "slide_type": "subslide"
    }
   },
   "source": [
    "Let's look closer at the page describing the data: [Dataset description on NASA's Open Data Portal](https://data.nasa.gov/Space-Science/Meteorite-Landings/gh4g-9sfh)"
   ]
  },
  {
   "cell_type": "markdown",
   "id": "62b3a26f",
   "metadata": {
    "slideshow": {
     "slide_type": "fragment"
    }
   },
   "source": [
    "Looks like this data set is served by something called the \"Socrata Data API\". \n",
    "\n",
    "A little Google searching unearths this documentation about how to ask for more results:\n",
    "[Information on paging with Socrata Data API](https://dev.socrata.com/docs/paging.html)"
   ]
  },
  {
   "cell_type": "code",
   "execution_count": null,
   "id": "5aafa81b",
   "metadata": {
    "execution": {
     "iopub.execute_input": "2023-10-30T03:37:12.594921Z",
     "iopub.status.busy": "2023-10-30T03:37:12.594615Z",
     "iopub.status.idle": "2023-10-30T03:37:14.275702Z",
     "shell.execute_reply": "2023-10-30T03:37:14.274734Z"
    },
    "slideshow": {
     "slide_type": "subslide"
    }
   },
   "outputs": [],
   "source": [
    "import requests\n",
    "meteorites = requests.get('https://data.nasa.gov/resource/gh4g-9sfh.json?$limit=50000').json()\n",
    "print(type(meteorites))"
   ]
  },
  {
   "cell_type": "code",
   "execution_count": null,
   "id": "580aa2f6",
   "metadata": {
    "execution": {
     "iopub.execute_input": "2023-10-30T03:37:14.279125Z",
     "iopub.status.busy": "2023-10-30T03:37:14.278826Z",
     "iopub.status.idle": "2023-10-30T03:37:14.282901Z",
     "shell.execute_reply": "2023-10-30T03:37:14.282189Z"
    }
   },
   "outputs": [],
   "source": [
    "print(len(meteorites))"
   ]
  },
  {
   "cell_type": "code",
   "execution_count": null,
   "id": "c94725b4",
   "metadata": {
    "execution": {
     "iopub.execute_input": "2023-10-30T03:37:14.286801Z",
     "iopub.status.busy": "2023-10-30T03:37:14.286463Z",
     "iopub.status.idle": "2023-10-30T03:37:14.291230Z",
     "shell.execute_reply": "2023-10-30T03:37:14.289944Z"
    }
   },
   "outputs": [],
   "source": [
    "print(meteorites[0])"
   ]
  },
  {
   "cell_type": "markdown",
   "id": "e44c2519",
   "metadata": {
    "slideshow": {
     "slide_type": "subslide"
    }
   },
   "source": [
    "What can we do with this data? Any ideas?"
   ]
  },
  {
   "cell_type": "markdown",
   "id": "3271e05f",
   "metadata": {
    "slideshow": {
     "slide_type": "subslide"
    }
   },
   "source": [
    "List all meteorites above a certain size."
   ]
  },
  {
   "cell_type": "code",
   "execution_count": null,
   "id": "92a7f3d6",
   "metadata": {
    "execution": {
     "iopub.execute_input": "2023-10-30T03:37:14.295286Z",
     "iopub.status.busy": "2023-10-30T03:37:14.294905Z",
     "iopub.status.idle": "2023-10-30T03:37:14.299755Z",
     "shell.execute_reply": "2023-10-30T03:37:14.299079Z"
    }
   },
   "outputs": [],
   "source": [
    "def list_bigger_than(mites, min_mass):\n",
    "    results = []\n",
    "    for m in mites:\n",
    "        if m['mass'] > min_mass:\n",
    "            results.append(m)\n",
    "    return results"
   ]
  },
  {
   "cell_type": "code",
   "execution_count": null,
   "id": "24c4f9c9",
   "metadata": {
    "execution": {
     "iopub.execute_input": "2023-10-30T03:37:14.303102Z",
     "iopub.status.busy": "2023-10-30T03:37:14.302776Z",
     "iopub.status.idle": "2023-10-30T03:37:14.672370Z",
     "shell.execute_reply": "2023-10-30T03:37:14.671598Z"
    },
    "tags": [
     "raises-exception"
    ]
   },
   "outputs": [],
   "source": [
    "list_bigger_than(meteorites, 10000000)"
   ]
  },
  {
   "cell_type": "markdown",
   "id": "5562ab71",
   "metadata": {
    "slideshow": {
     "slide_type": "notes"
    }
   },
   "source": [
    "Oh, right, mass is a string in the JSON. We need to convert it."
   ]
  },
  {
   "cell_type": "code",
   "execution_count": null,
   "id": "fba55f88",
   "metadata": {
    "execution": {
     "iopub.execute_input": "2023-10-30T03:37:14.676810Z",
     "iopub.status.busy": "2023-10-30T03:37:14.676498Z",
     "iopub.status.idle": "2023-10-30T03:37:14.680720Z",
     "shell.execute_reply": "2023-10-30T03:37:14.680019Z"
    },
    "slideshow": {
     "slide_type": "subslide"
    }
   },
   "outputs": [],
   "source": [
    "def list_bigger_than(mites, min_mass):\n",
    "    results = []\n",
    "    for m in mites:\n",
    "        if float(m['mass']) > min_mass:\n",
    "            results.append(m)\n",
    "    return results"
   ]
  },
  {
   "cell_type": "code",
   "execution_count": null,
   "id": "134e913d",
   "metadata": {
    "execution": {
     "iopub.execute_input": "2023-10-30T03:37:14.684347Z",
     "iopub.status.busy": "2023-10-30T03:37:14.684041Z",
     "iopub.status.idle": "2023-10-30T03:37:14.720508Z",
     "shell.execute_reply": "2023-10-30T03:37:14.719007Z"
    },
    "tags": [
     "raises-exception"
    ]
   },
   "outputs": [],
   "source": [
    "list_bigger_than(meteorites, 10000000)"
   ]
  },
  {
   "cell_type": "markdown",
   "id": "0d468014",
   "metadata": {
    "slideshow": {
     "slide_type": "notes"
    }
   },
   "source": [
    "Ok, not all meteorites have a mass... "
   ]
  },
  {
   "cell_type": "code",
   "execution_count": null,
   "id": "2bfefef3",
   "metadata": {
    "execution": {
     "iopub.execute_input": "2023-10-30T03:37:14.725202Z",
     "iopub.status.busy": "2023-10-30T03:37:14.724872Z",
     "iopub.status.idle": "2023-10-30T03:37:14.730489Z",
     "shell.execute_reply": "2023-10-30T03:37:14.728988Z"
    },
    "slideshow": {
     "slide_type": "subslide"
    }
   },
   "outputs": [],
   "source": [
    "def list_bigger_than(mites, min_mass):\n",
    "    results = []\n",
    "    for m in mites:\n",
    "        if float(m.get('mass', 0)) > min_mass:\n",
    "            results.append(m)\n",
    "    return results"
   ]
  },
  {
   "cell_type": "code",
   "execution_count": null,
   "id": "b176306e",
   "metadata": {
    "execution": {
     "iopub.execute_input": "2023-10-30T03:37:14.734852Z",
     "iopub.status.busy": "2023-10-30T03:37:14.734488Z",
     "iopub.status.idle": "2023-10-30T03:37:14.763895Z",
     "shell.execute_reply": "2023-10-30T03:37:14.763051Z"
    },
    "tags": [
     "raises-exception"
    ]
   },
   "outputs": [],
   "source": [
    "list_bigger_than(meteorites, 10000000)"
   ]
  },
  {
   "cell_type": "markdown",
   "id": "55318a94",
   "metadata": {
    "slideshow": {
     "slide_type": "subslide"
    }
   },
   "source": [
    "Let's list all the meteorites in a year. "
   ]
  },
  {
   "cell_type": "code",
   "execution_count": null,
   "id": "acc79c5d",
   "metadata": {
    "execution": {
     "iopub.execute_input": "2023-10-30T03:37:14.768887Z",
     "iopub.status.busy": "2023-10-30T03:37:14.768476Z",
     "iopub.status.idle": "2023-10-30T03:37:14.772360Z",
     "shell.execute_reply": "2023-10-30T03:37:14.771715Z"
    },
    "slideshow": {
     "slide_type": "subslide"
    }
   },
   "outputs": [],
   "source": [
    "def list_in_year(mites, year):\n",
    "    results = []\n",
    "    for m in mites:\n",
    "        if m['year'] == year:\n",
    "            results.append(m)\n",
    "    return results"
   ]
  },
  {
   "cell_type": "code",
   "execution_count": null,
   "id": "d0398c66",
   "metadata": {
    "execution": {
     "iopub.execute_input": "2023-10-30T03:37:14.776108Z",
     "iopub.status.busy": "2023-10-30T03:37:14.775796Z",
     "iopub.status.idle": "2023-10-30T03:37:14.803500Z",
     "shell.execute_reply": "2023-10-30T03:37:14.802786Z"
    }
   },
   "outputs": [],
   "source": [
    "list_in_year(meteorites, 1945)"
   ]
  },
  {
   "cell_type": "markdown",
   "id": "93108420",
   "metadata": {
    "slideshow": {
     "slide_type": "subslide"
    }
   },
   "source": [
    "This data is dirty - not all meteorites have years either:"
   ]
  },
  {
   "cell_type": "code",
   "execution_count": null,
   "id": "d5cbbf89",
   "metadata": {
    "execution": {
     "iopub.execute_input": "2023-10-30T03:37:14.806931Z",
     "iopub.status.busy": "2023-10-30T03:37:14.806639Z",
     "iopub.status.idle": "2023-10-30T03:37:14.824625Z",
     "shell.execute_reply": "2023-10-30T03:37:14.823532Z"
    }
   },
   "outputs": [],
   "source": [
    "full_count = len(meteorites)\n",
    "no_mass = len([x for x in meteorites if 'year' not in x])\n",
    "no_year = len([x for x in meteorites if 'mass' not in x])\n",
    "print(f\"No year: {no_year} ({no_year / full_count * 100:.2f} %)\")\n",
    "print(f\"No mass: {no_mass} ({no_mass / full_count * 100:.2f} %)\")"
   ]
  },
  {
   "cell_type": "code",
   "execution_count": null,
   "id": "7283c94a",
   "metadata": {
    "execution": {
     "iopub.execute_input": "2023-10-30T03:37:14.829371Z",
     "iopub.status.busy": "2023-10-30T03:37:14.828971Z",
     "iopub.status.idle": "2023-10-30T03:37:14.833518Z",
     "shell.execute_reply": "2023-10-30T03:37:14.832610Z"
    },
    "slideshow": {
     "slide_type": "subslide"
    }
   },
   "outputs": [],
   "source": [
    "def list_in_year(mites, year):\n",
    "    results = []\n",
    "    for m in mites:\n",
    "        if m.get('year', 0) == year:\n",
    "            results.append(m)\n",
    "    return results"
   ]
  },
  {
   "cell_type": "code",
   "execution_count": null,
   "id": "f0708330",
   "metadata": {
    "execution": {
     "iopub.execute_input": "2023-10-30T03:37:14.838328Z",
     "iopub.status.busy": "2023-10-30T03:37:14.837842Z",
     "iopub.status.idle": "2023-10-30T03:37:14.856256Z",
     "shell.execute_reply": "2023-10-30T03:37:14.854035Z"
    }
   },
   "outputs": [],
   "source": [
    "list_in_year(meteorites, 1945)"
   ]
  },
  {
   "cell_type": "markdown",
   "id": "64c51c63",
   "metadata": {
    "slideshow": {
     "slide_type": "fragment"
    }
   },
   "source": [
    "Suspicious..."
   ]
  },
  {
   "cell_type": "code",
   "execution_count": null,
   "id": "4b6037bc",
   "metadata": {
    "execution": {
     "iopub.execute_input": "2023-10-30T03:37:14.863496Z",
     "iopub.status.busy": "2023-10-30T03:37:14.863108Z",
     "iopub.status.idle": "2023-10-30T03:37:14.869188Z",
     "shell.execute_reply": "2023-10-30T03:37:14.868136Z"
    },
    "slideshow": {
     "slide_type": "subslide"
    }
   },
   "outputs": [],
   "source": [
    "print(meteorites[0]['year'])"
   ]
  },
  {
   "cell_type": "markdown",
   "id": "bf2b07e8",
   "metadata": {},
   "source": [
    "Aha, it's formatted as a full timestamp. \n",
    "\n",
    "We could parse the whole pdate using the [datetime](https://docs.python.org/3/library/datetime.html), but we only care about the year. "
   ]
  },
  {
   "cell_type": "code",
   "execution_count": null,
   "id": "cfc76adf",
   "metadata": {
    "execution": {
     "iopub.execute_input": "2023-10-30T03:37:14.874638Z",
     "iopub.status.busy": "2023-10-30T03:37:14.874159Z",
     "iopub.status.idle": "2023-10-30T03:37:14.880133Z",
     "shell.execute_reply": "2023-10-30T03:37:14.879278Z"
    },
    "slideshow": {
     "slide_type": "subslide"
    }
   },
   "outputs": [],
   "source": [
    "def list_in_year(mites, year):\n",
    "    results = []\n",
    "    for m in mites:\n",
    "        if int(m.get('year', '0000')[:4]) == year:\n",
    "            results.append(m)\n",
    "    return results"
   ]
  },
  {
   "cell_type": "code",
   "execution_count": null,
   "id": "4f58009a",
   "metadata": {
    "execution": {
     "iopub.execute_input": "2023-10-30T03:37:14.884801Z",
     "iopub.status.busy": "2023-10-30T03:37:14.884120Z",
     "iopub.status.idle": "2023-10-30T03:37:14.919872Z",
     "shell.execute_reply": "2023-10-30T03:37:14.918939Z"
    }
   },
   "outputs": [],
   "source": [
    "list_in_year(meteorites, 1945)"
   ]
  },
  {
   "cell_type": "markdown",
   "id": "50822569",
   "metadata": {
    "slideshow": {
     "slide_type": "subslide"
    }
   },
   "source": [
    "Maybe we should clean up all the data at once, rather than doing it every time we try to access something.\n",
    "\n",
    "A class would make sense here:"
   ]
  },
  {
   "cell_type": "code",
   "execution_count": null,
   "id": "71f72734",
   "metadata": {
    "execution": {
     "iopub.execute_input": "2023-10-30T03:37:14.924774Z",
     "iopub.status.busy": "2023-10-30T03:37:14.924388Z",
     "iopub.status.idle": "2023-10-30T03:37:14.930365Z",
     "shell.execute_reply": "2023-10-30T03:37:14.928926Z"
    }
   },
   "outputs": [],
   "source": [
    "class Meteorite:\n",
    "    def __init__(self, name, mass, year, lat, long):\n",
    "        self.name = name\n",
    "        self.mass = mass\n",
    "        self.year = year\n",
    "        self.lat = lat\n",
    "        self.long = long"
   ]
  },
  {
   "cell_type": "markdown",
   "id": "3d0101a8",
   "metadata": {
    "slideshow": {
     "slide_type": "subslide"
    }
   },
   "source": [
    "Now we need code to translate from that JSON to a `Meteorite` instance.\n",
    "\n",
    "It's tempting to add a method to the class that populates the data from JSON. \n",
    "\n",
    "This is bad design - we prefer to fully initialize our instances on creation, rather than create them in an unusable state and then populate them.\n",
    "\n",
    "It's also temping to make the consructor take the JSON directly. \n",
    "\n",
    "This is also bad design - it \"couples\" our class too tightly to this particular representation of the data by making it impossible to create an instance without writing out the JSON."
   ]
  },
  {
   "cell_type": "markdown",
   "id": "1c4d93f2",
   "metadata": {
    "slideshow": {
     "slide_type": "subslide"
    }
   },
   "source": [
    "Instead, we'll write a function that takes in JSON, and returns a new `Meteorite` instance:"
   ]
  },
  {
   "cell_type": "code",
   "execution_count": null,
   "id": "4d6a2706",
   "metadata": {
    "execution": {
     "iopub.execute_input": "2023-10-30T03:37:14.937939Z",
     "iopub.status.busy": "2023-10-30T03:37:14.937309Z",
     "iopub.status.idle": "2023-10-30T03:37:14.947273Z",
     "shell.execute_reply": "2023-10-30T03:37:14.946008Z"
    }
   },
   "outputs": [],
   "source": [
    "def new_mite_from_json(json_data):\n",
    "    if 'name' not in json_data or 'year' not in json_data or 'mass' not in json_data or 'geolocation' not in json_data:\n",
    "        return None\n",
    "\n",
    "    loc = json_data['geolocation']\n",
    "    if 'latitude' not in loc or 'longitude' not in loc:\n",
    "        return None\n",
    "\n",
    "    return Meteorite(\n",
    "        name = json_data['name'],\n",
    "        year = int(json_data['year'][:4]),\n",
    "        mass = float(json_data['mass']),\n",
    "        lat = float(loc['latitude']),\n",
    "        long = float(loc['longitude'])\n",
    "    )"
   ]
  },
  {
   "cell_type": "code",
   "execution_count": null,
   "id": "112b489b",
   "metadata": {
    "execution": {
     "iopub.execute_input": "2023-10-30T03:37:14.953351Z",
     "iopub.status.busy": "2023-10-30T03:37:14.952592Z",
     "iopub.status.idle": "2023-10-30T03:37:15.090597Z",
     "shell.execute_reply": "2023-10-30T03:37:15.089279Z"
    },
    "slideshow": {
     "slide_type": "subslide"
    }
   },
   "outputs": [],
   "source": [
    "mites = []\n",
    "for m in meteorites:\n",
    "    mite = new_mite_from_json(m)\n",
    "    if mite:\n",
    "        mites.append(mite)\n",
    "print(len(mites))"
   ]
  },
  {
   "cell_type": "code",
   "execution_count": null,
   "id": "35f02546",
   "metadata": {
    "execution": {
     "iopub.execute_input": "2023-10-30T03:37:15.096191Z",
     "iopub.status.busy": "2023-10-30T03:37:15.095567Z",
     "iopub.status.idle": "2023-10-30T03:37:15.100488Z",
     "shell.execute_reply": "2023-10-30T03:37:15.099525Z"
    },
    "slideshow": {
     "slide_type": "subslide"
    }
   },
   "outputs": [],
   "source": [
    "def list_bigger_than(mites, min_mass):\n",
    "    results = []\n",
    "    for m in mites:\n",
    "        if m.mass > min_mass:\n",
    "            results.append(m)\n",
    "    return results"
   ]
  },
  {
   "cell_type": "code",
   "execution_count": null,
   "id": "97c15eeb",
   "metadata": {
    "execution": {
     "iopub.execute_input": "2023-10-30T03:37:15.105522Z",
     "iopub.status.busy": "2023-10-30T03:37:15.105125Z",
     "iopub.status.idle": "2023-10-30T03:37:15.118039Z",
     "shell.execute_reply": "2023-10-30T03:37:15.117107Z"
    }
   },
   "outputs": [],
   "source": [
    "list_bigger_than(mites, 10000000)"
   ]
  },
  {
   "cell_type": "markdown",
   "id": "833c5067",
   "metadata": {
    "slideshow": {
     "slide_type": "subslide"
    }
   },
   "source": [
    "One downside to using a class is that we can't easily print all the info out."
   ]
  },
  {
   "cell_type": "code",
   "execution_count": null,
   "id": "54cb3230",
   "metadata": {
    "execution": {
     "iopub.execute_input": "2023-10-30T03:37:15.124755Z",
     "iopub.status.busy": "2023-10-30T03:37:15.124293Z",
     "iopub.status.idle": "2023-10-30T03:37:15.130787Z",
     "shell.execute_reply": "2023-10-30T03:37:15.129796Z"
    }
   },
   "outputs": [],
   "source": [
    "class Meteorite:\n",
    "    def __init__(self, name, mass, year, lat, long):\n",
    "        self.name = name\n",
    "        self.mass = mass\n",
    "        self.year = year\n",
    "        self.lat = lat\n",
    "        self.long = long\n",
    "    \n",
    "    def format(self):\n",
    "        return f\"{self.name} ({self.year}) ({int(self.mass/1000)} kg) [{self.lat}, {self.long}]\""
   ]
  },
  {
   "cell_type": "code",
   "execution_count": null,
   "id": "a972ddfc",
   "metadata": {
    "execution": {
     "iopub.execute_input": "2023-10-30T03:37:15.136596Z",
     "iopub.status.busy": "2023-10-30T03:37:15.135824Z",
     "iopub.status.idle": "2023-10-30T03:37:15.392103Z",
     "shell.execute_reply": "2023-10-30T03:37:15.390610Z"
    },
    "slideshow": {
     "slide_type": "subslide"
    }
   },
   "outputs": [],
   "source": [
    "mites = []\n",
    "for m in meteorites:\n",
    "    mite = new_mite_from_json(m)\n",
    "    if mite:\n",
    "        mites.append(mite)\n",
    "print(len(mites))"
   ]
  },
  {
   "cell_type": "code",
   "execution_count": null,
   "id": "39b0c31c",
   "metadata": {
    "execution": {
     "iopub.execute_input": "2023-10-30T03:37:15.396417Z",
     "iopub.status.busy": "2023-10-30T03:37:15.396058Z",
     "iopub.status.idle": "2023-10-30T03:37:15.403918Z",
     "shell.execute_reply": "2023-10-30T03:37:15.402274Z"
    },
    "slideshow": {
     "slide_type": "subslide"
    }
   },
   "outputs": [],
   "source": [
    "def list_bigger_than(mites, min_mass):\n",
    "    results = []\n",
    "    for m in mites:\n",
    "        if m.mass > min_mass:\n",
    "            results.append(m)\n",
    "    return results"
   ]
  },
  {
   "cell_type": "code",
   "execution_count": null,
   "id": "42de9dfc",
   "metadata": {
    "execution": {
     "iopub.execute_input": "2023-10-30T03:37:15.409406Z",
     "iopub.status.busy": "2023-10-30T03:37:15.408950Z",
     "iopub.status.idle": "2023-10-30T03:37:15.419919Z",
     "shell.execute_reply": "2023-10-30T03:37:15.417643Z"
    }
   },
   "outputs": [],
   "source": [
    "for m in list_bigger_than(mites, 10000000):\n",
    "    print(m.format())"
   ]
  },
  {
   "cell_type": "code",
   "execution_count": null,
   "id": "7446b3dc",
   "metadata": {
    "execution": {
     "iopub.execute_input": "2023-10-30T03:37:15.426793Z",
     "iopub.status.busy": "2023-10-30T03:37:15.426068Z",
     "iopub.status.idle": "2023-10-30T03:37:15.431421Z",
     "shell.execute_reply": "2023-10-30T03:37:15.430517Z"
    }
   },
   "outputs": [],
   "source": [
    "def list_in_year(mites, year):\n",
    "    results = []\n",
    "    for m in mites:\n",
    "        if m.year == year:\n",
    "            results.append(m)\n",
    "    return results"
   ]
  },
  {
   "cell_type": "code",
   "execution_count": null,
   "id": "306e35c3",
   "metadata": {
    "execution": {
     "iopub.execute_input": "2023-10-30T03:37:15.437338Z",
     "iopub.status.busy": "2023-10-30T03:37:15.436777Z",
     "iopub.status.idle": "2023-10-30T03:37:15.445728Z",
     "shell.execute_reply": "2023-10-30T03:37:15.444429Z"
    }
   },
   "outputs": [],
   "source": [
    "for m in list_in_year(mites, 1945):\n",
    "    print(m.format())"
   ]
  },
  {
   "cell_type": "markdown",
   "id": "40f0cab8",
   "metadata": {
    "execution": {
     "iopub.execute_input": "2023-10-30T01:20:09.741587Z",
     "iopub.status.busy": "2023-10-30T01:20:09.741286Z",
     "iopub.status.idle": "2023-10-30T01:20:09.745477Z",
     "shell.execute_reply": "2023-10-30T01:20:09.744965Z"
    },
    "slideshow": {
     "slide_type": "subslide"
    }
   },
   "source": [
    "\n",
    "Count meteorites by year"
   ]
  },
  {
   "cell_type": "code",
   "execution_count": null,
   "id": "11b6f13f",
   "metadata": {
    "execution": {
     "iopub.execute_input": "2023-10-30T03:37:15.450846Z",
     "iopub.status.busy": "2023-10-30T03:37:15.450103Z",
     "iopub.status.idle": "2023-10-30T03:37:15.456508Z",
     "shell.execute_reply": "2023-10-30T03:37:15.455669Z"
    }
   },
   "outputs": [],
   "source": [
    "def count_by_year(mites):\n",
    "    years = {}\n",
    "    for m in mites:\n",
    "        years[m.year] = years.get(m.year, 0) + 1\n",
    "\n",
    "    return years"
   ]
  },
  {
   "cell_type": "code",
   "execution_count": null,
   "id": "9ef21637",
   "metadata": {
    "execution": {
     "iopub.execute_input": "2023-10-30T03:37:15.460863Z",
     "iopub.status.busy": "2023-10-30T03:37:15.460530Z",
     "iopub.status.idle": "2023-10-30T03:37:15.483919Z",
     "shell.execute_reply": "2023-10-30T03:37:15.482873Z"
    }
   },
   "outputs": [],
   "source": [
    "count_by_year(mites)"
   ]
  },
  {
   "cell_type": "markdown",
   "id": "eaba33b0",
   "metadata": {
    "slideshow": {
     "slide_type": "subslide"
    }
   },
   "source": [
    "We can sort by year, and print them out in order:"
   ]
  },
  {
   "cell_type": "code",
   "execution_count": null,
   "id": "79a4eeba",
   "metadata": {
    "execution": {
     "iopub.execute_input": "2023-10-30T03:37:15.490785Z",
     "iopub.status.busy": "2023-10-30T03:37:15.489794Z",
     "iopub.status.idle": "2023-10-30T03:37:15.508769Z",
     "shell.execute_reply": "2023-10-30T03:37:15.507478Z"
    },
    "slideshow": {
     "slide_type": ""
    }
   },
   "outputs": [],
   "source": [
    "counts = count_by_year(mites)\n",
    "sorted_years = sorted(counts.keys())\n",
    "for y in sorted_years:\n",
    "    print(f\"{y}: {counts[y]}\")"
   ]
  },
  {
   "cell_type": "markdown",
   "id": "c9483763",
   "metadata": {
    "slideshow": {
     "slide_type": "subslide"
    }
   },
   "source": [
    "Find all meteorites within a certain distance."
   ]
  },
  {
   "cell_type": "code",
   "execution_count": null,
   "id": "3de5c796",
   "metadata": {
    "execution": {
     "iopub.execute_input": "2023-10-30T03:37:15.514072Z",
     "iopub.status.busy": "2023-10-30T03:37:15.512788Z",
     "iopub.status.idle": "2023-10-30T03:37:15.519400Z",
     "shell.execute_reply": "2023-10-30T03:37:15.518120Z"
    }
   },
   "outputs": [],
   "source": [
    "def distance(lat1, long1, lat2, long2):\n",
    "    # ???\n",
    "    pass\n",
    "\n",
    "def list_within_distance(mites, lat, long, miles):\n",
    "    results = []\n",
    "    for m in mites:\n",
    "        if distance(m.lat, m.long, lat, long) <= miles:\n",
    "            results.append(m)\n",
    "\n",
    "    return results"
   ]
  },
  {
   "cell_type": "markdown",
   "id": "a8ac1845",
   "metadata": {
    "slideshow": {
     "slide_type": "subslide"
    }
   },
   "source": [
    "It turns out that accurately calculating the distance between 2 lat/long pairs is **really** complicated.\n",
    "\n",
    "The formulas for calculating the surface distance between 2 points on a sphere are a [bit complicated](https://en.wikipedia.org/wiki/Great-circle_distance). \n",
    "\n",
    "But the Earth isn't perfectly spherical, so if we really want to be accurate, we need some [serious math](https://en.wikipedia.org/wiki/Geodesics_on_an_ellipsoid)!"
   ]
  },
  {
   "cell_type": "markdown",
   "id": "92b961cc",
   "metadata": {
    "slideshow": {
     "slide_type": "fragment"
    }
   },
   "source": [
    "Luckily, someone else has written this for us. We can try the [geopy](https://github.com/geopy/geopy) library. \n",
    "\n",
    "Their homepage even contains a code sample for getting the geodesic distance between 2 points."
   ]
  },
  {
   "cell_type": "code",
   "execution_count": null,
   "id": "02fb440b",
   "metadata": {
    "execution": {
     "iopub.execute_input": "2023-10-30T03:37:15.524903Z",
     "iopub.status.busy": "2023-10-30T03:37:15.524460Z",
     "iopub.status.idle": "2023-10-30T03:37:15.586992Z",
     "shell.execute_reply": "2023-10-30T03:37:15.585685Z"
    },
    "slideshow": {
     "slide_type": "subslide"
    }
   },
   "outputs": [],
   "source": [
    "from geopy.distance import geodesic\n",
    "\n",
    "def distance(lat1, long1, lat2, long2):\n",
    "    return geodesic((lat1, long1), (lat2, long2)).miles\n",
    "\n",
    "def list_within_miles(mites, lat, long, miles):\n",
    "    results = []\n",
    "    for m in mites:\n",
    "        d = distance(m.lat, m.long, lat, long)\n",
    "        if d <= miles:\n",
    "            results.append((d, m))\n",
    "\n",
    "    return results"
   ]
  },
  {
   "cell_type": "code",
   "execution_count": null,
   "id": "b5336ac3",
   "metadata": {
    "execution": {
     "iopub.execute_input": "2023-10-30T03:37:15.592863Z",
     "iopub.status.busy": "2023-10-30T03:37:15.591643Z",
     "iopub.status.idle": "2023-10-30T03:37:24.354511Z",
     "shell.execute_reply": "2023-10-30T03:37:24.353614Z"
    },
    "slideshow": {
     "slide_type": "subslide"
    }
   },
   "outputs": [],
   "source": [
    "brandeis_lat = 42.3654\n",
    "brandeis_long = -71.2586\n",
    "results = list_within_miles(mites, brandeis_lat, brandeis_long, 150)\n",
    "results.sort()"
   ]
  },
  {
   "cell_type": "code",
   "execution_count": null,
   "id": "6fd24f16",
   "metadata": {
    "execution": {
     "iopub.execute_input": "2023-10-30T03:37:24.358572Z",
     "iopub.status.busy": "2023-10-30T03:37:24.358269Z",
     "iopub.status.idle": "2023-10-30T03:37:24.362588Z",
     "shell.execute_reply": "2023-10-30T03:37:24.361745Z"
    }
   },
   "outputs": [],
   "source": [
    "for r in results:\n",
    "    print(f\"{r[1].format()}, {int(r[0])} miles\")"
   ]
  },
  {
   "cell_type": "markdown",
   "id": "e9498b2e",
   "metadata": {
    "slideshow": {
     "slide_type": "subslide"
    }
   },
   "source": [
    "If you noticed, the `geopy` library also provides functions to geocode.\n",
    "\n",
    "These functions are just wrappers around a service like [geocode.xyz](geocode.xyz), which we used earlier."
   ]
  },
  {
   "cell_type": "code",
   "execution_count": null,
   "id": "565e4d1c",
   "metadata": {
    "execution": {
     "iopub.execute_input": "2023-10-30T03:37:24.367070Z",
     "iopub.status.busy": "2023-10-30T03:37:24.366494Z",
     "iopub.status.idle": "2023-10-30T03:37:24.865241Z",
     "shell.execute_reply": "2023-10-30T03:37:24.863989Z"
    },
    "slideshow": {
     "slide_type": ""
    }
   },
   "outputs": [],
   "source": [
    "# Usage instructions on the geopy homepage: https://github.com/geopy/geopy\n",
    "from geopy.geocoders import Nominatim\n",
    "\n",
    "def geocode(lat, long):\n",
    "    geolocator = Nominatim(user_agent=\"brandeis_cosi_10a\")\n",
    "    location = geolocator.reverse(f\"{lat}, {long}\")\n",
    "    return location\n",
    "\n",
    "print(results[0][1].format())\n",
    "print(geocode(results[0][1].lat, results[0][1].long))"
   ]
  },
  {
   "cell_type": "markdown",
   "id": "b591ff4a",
   "metadata": {
    "slideshow": {
     "slide_type": "slide"
    }
   },
   "source": [
    "# Wrap up\n",
    "\n",
    "We're starting to see the real power of Python, and coding in general. We can automate tasks and data processing that would be tedious and painful to do by hand.\n",
    "\n",
    "Check out this [list of free JSON data sets](https://github.com/jdorfman/awesome-json-datasets) - try fetching one of them and doing something interesting. Or, try joining together the data from more than one!"
   ]
  }
 ],
 "metadata": {
  "celltoolbar": "Slideshow",
  "kernelspec": {
   "display_name": "Python 3 (ipykernel)",
   "language": "python",
   "name": "python3"
  },
  "language_info": {
   "codemirror_mode": {
    "name": "ipython",
    "version": 3
   },
   "file_extension": ".py",
   "mimetype": "text/x-python",
   "name": "python",
   "nbconvert_exporter": "python",
   "pygments_lexer": "ipython3",
   "version": "3.10.9"
  }
 },
 "nbformat": 4,
 "nbformat_minor": 5
}
