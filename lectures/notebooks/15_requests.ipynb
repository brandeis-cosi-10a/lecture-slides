{
 "cells": [
  {
   "cell_type": "markdown",
   "id": "1ee8a1d2",
   "metadata": {
    "slideshow": {
     "slide_type": "slide"
    }
   },
   "source": [
    "# Working With Data From the Internet\n",
    "\n",
    "<style>\n",
    "section.present > section.present { \n",
    "    max-height: 90%; \n",
    "    overflow-y: scroll;\n",
    "}\n",
    "</style>\n",
    "\n",
    "<small><a href=\"https://colab.research.google.com/github/brandeis-jdelfino/cosi-10a/blob/main/lectures/notebooks/15_reques.ipynb\">Link to interactive slides on Google Colab</a></small>"
   ]
  },
  {
   "cell_type": "markdown",
   "id": "323e5a69",
   "metadata": {
    "slideshow": {
     "slide_type": "slide"
    }
   },
   "source": [
    "# Where is the International Space Station?"
   ]
  },
  {
   "cell_type": "markdown",
   "id": "3a356bcb",
   "metadata": {
    "slideshow": {
     "slide_type": "fragment"
    }
   },
   "source": [
    "# [Right here](http://api.open-notify.org/iss-now.json)"
   ]
  },
  {
   "cell_type": "markdown",
   "id": "3439a717",
   "metadata": {
    "slideshow": {
     "slide_type": "fragment"
    }
   },
   "source": [
    "Does that data format look familiar?"
   ]
  },
  {
   "cell_type": "markdown",
   "id": "01a94f7b",
   "metadata": {
    "slideshow": {
     "slide_type": "fragment"
    }
   },
   "source": [
    "It's JSON!"
   ]
  },
  {
   "cell_type": "markdown",
   "id": "761936e1",
   "metadata": {
    "slideshow": {
     "slide_type": "slide"
    }
   },
   "source": [
    "## Requests library\n",
    "\n",
    "We can fetch and work with this data from Python."
   ]
  },
  {
   "cell_type": "code",
   "execution_count": null,
   "id": "571661ff",
   "metadata": {
    "execution": {
     "iopub.execute_input": "2023-10-27T13:11:47.855503Z",
     "iopub.status.busy": "2023-10-27T13:11:47.854785Z",
     "iopub.status.idle": "2023-10-27T13:11:48.161823Z",
     "shell.execute_reply": "2023-10-27T13:11:48.160894Z"
    }
   },
   "outputs": [],
   "source": [
    "import requests\n",
    "data = requests.get('http://api.open-notify.org/iss-now.json').json()\n",
    "print(data)\n",
    "print(f\"The ISS is at lat: {data['iss_position']['latitude']}, long: {data['iss_position']['longitude']}\")"
   ]
  },
  {
   "cell_type": "markdown",
   "id": "71c2e3a5",
   "metadata": {
    "slideshow": {
     "slide_type": "slide"
    }
   },
   "source": [
    "## Networking on the Internet\n",
    "\n",
    "Let's dig into what it means to \"send a request\" over the internet.\n",
    "\n",
    "This is a 30,000 foot overview - many details are glossed over."
   ]
  },
  {
   "cell_type": "markdown",
   "id": "365bbbbd",
   "metadata": {
    "slideshow": {
     "slide_type": "subslide"
    }
   },
   "source": [
    "## Anatomy of a URL\n",
    "\n",
    "`http://video.google.com/videoplay?docid=1234&hl=en`\n",
    "\n",
    "* `http://`: The \"protocol\", or \"scheme\"\n",
    "   * This specifies the format of the request\n",
    "* `video.google.com`: The \"domain name\", or a unique name for a location on the internet\n",
    "   * Starts after the protocol, and after `://`\n",
    "* `videoplay`: The \"path\", or the name of the resource being accessed\n",
    "   * Starts after the end of the domain, and after a `/`\n",
    "* `docid=1234&hl=en`: The \"query\", or parameters related to a request\n",
    "   * Starts at the end of the path, and after a `?`\n",
    "   * `docid=1234` and `hl=en` are each individual \"parameters\", and parameters are always separated by `&`"
   ]
  },
  {
   "cell_type": "markdown",
   "id": "240b3698",
   "metadata": {
    "slideshow": {
     "slide_type": "subslide"
    }
   },
   "source": [
    "## Anatomy of our URL\n",
    "\n",
    "`http://api.open-notify.org/iss-now.json`\n",
    "\n",
    "* `http://`: protocol\n",
    "* `api.open-notify.org`: domain\n",
    "* `iss-now.json`: path"
   ]
  },
  {
   "cell_type": "markdown",
   "id": "146f507f",
   "metadata": {
    "slideshow": {
     "slide_type": "subslide"
    }
   },
   "source": [
    "## IP Addresses and Domain Names\n",
    "\n",
    "Every computer connected to the internet has an IP address. \n",
    "\n",
    "Every domain name has one or more IP addresses associated with it.\n",
    "\n",
    "The first step of sending a request is to translate the domain to an IP address.\n"
   ]
  },
  {
   "cell_type": "markdown",
   "id": "bea589fa",
   "metadata": {
    "slideshow": {
     "slide_type": "subslide"
    }
   },
   "source": [
    "## Mailing letters\n",
    "\n",
    "Let's use an analogy: sending a request over the internet is like mailing someone a letter.\n",
    "\n",
    "A domain is an address that you understand, like \"Joe's house\".\n",
    "\n",
    "An IP address is like the actual address of my house, including all the necessary details, such as postal code."
   ]
  },
  {
   "cell_type": "markdown",
   "id": "8875c0de",
   "metadata": {
    "slideshow": {
     "slide_type": "subslide"
    }
   },
   "source": [
    "## DNS\n",
    "\n",
    "**DNS** (Domain Name System) is like a big dictionary that maps from domain name to IP address.\n",
    "\n",
    "The owner of a domain has the ability to specify which IP address(es) a domain maps to.\n",
    "\n",
    "DNS records are easily accessible: https://traceroute-online.com/check-dns-records/\n",
    "\n",
    "All routing of traffic on the internet is done using IP addresses."
   ]
  },
  {
   "cell_type": "markdown",
   "id": "edc283b8",
   "metadata": {
    "slideshow": {
     "slide_type": "subslide"
    }
   },
   "source": [
    "## Address books\n",
    "\n",
    "DNS is like your address book - it translates from a \"place name\" to a physical address that the postal service recognizes.\n",
    "\n",
    "You can't mail a letter to \"Joe's house\", but you can mail a letter to \"123 Python Lane, Boston MA, 02118\" (not my real address)."
   ]
  },
  {
   "cell_type": "markdown",
   "id": "e5897463",
   "metadata": {
    "slideshow": {
     "slide_type": "subslide"
    }
   },
   "source": [
    "## IP Routing\n",
    "\n",
    "Routing traffic by IP address is beyond the scope of this lecture, but requests will typically be passed between many servers on the way to arriving at the specified IP address.\n",
    "\n",
    "Many tools allow you to trace the path of a request: https://traceroute-online.com/"
   ]
  },
  {
   "cell_type": "markdown",
   "id": "0eef0526",
   "metadata": {
    "slideshow": {
     "slide_type": "subslide"
    }
   },
   "source": [
    "## Postal network \n",
    "\n",
    "IP routing is like the network of trucks, planes, trains, etc that are used to get your letter to its final destination. \n",
    "\n",
    "Your letter might stop at multiple other post offices along the way.\n",
    "\n",
    "No one along the way knows or cares what is **in** your letter. They're just delivering an envelope."
   ]
  },
  {
   "cell_type": "markdown",
   "id": "db7ec920",
   "metadata": {
    "slideshow": {
     "slide_type": "subslide"
    }
   },
   "source": [
    "## Load balancing\n",
    "\n",
    "Eventually, your request ends up at a server with the IP address associated with the domain you requested.\n",
    "\n",
    "Those first servers are often \"load balancers\", which route requests to other servers, which can actually respond to the requests.\n",
    "\n",
    "This routing is different than IP routing, but we don't need to worry about the difference.\n",
    "\n",
    "Eventually, the request is routed to a server that can generate a response."
   ]
  },
  {
   "cell_type": "markdown",
   "id": "d728cbff",
   "metadata": {
    "slideshow": {
     "slide_type": "subslide"
    }
   },
   "source": [
    "## Campus mail room\n",
    "\n",
    "If you mail a letter to me at my campus address, the postal service delivers it to the mail room.\n",
    "\n",
    "Load balancing, and other routing that happens after delivery to a DNS-registered IP, is like the mail room staff on campus getting the letter to my personal mailbox."
   ]
  },
  {
   "cell_type": "markdown",
   "id": "d622100f",
   "metadata": {
    "slideshow": {
     "slide_type": "subslide"
    }
   },
   "source": [
    "## HTTP Requests\n",
    "\n",
    "Our protocol is \"http\", which means we are making an \"HTTP request\"\n",
    "\n",
    "**HTTP** stands for \"HyperText Transport Protocol\"\n",
    "\n",
    "It is the protocol (agreed upon format) for the majority of requests on the internet.\n",
    "\n",
    "Other common protocols include: \n",
    "* `ftp` (file transfer)\n",
    "* `smtp` and `imap` (email)\n",
    "* `udp` (real time communication)"
   ]
  },
  {
   "cell_type": "markdown",
   "id": "1eea5d80",
   "metadata": {
    "slideshow": {
     "slide_type": "subslide"
    }
   },
   "source": [
    "## The Language of Your Letter\n",
    "\n",
    "HTTP is like the language the letter inside the envelope is written in.\n",
    "\n",
    "It doesn't have anything to do with how the letter is routed or handled by the postal service, but it is important that your recipient knows how to interpret the letter we wrote."
   ]
  },
  {
   "cell_type": "markdown",
   "id": "5ef12740",
   "metadata": {},
   "source": [
    "## Anatomy of an HTTP Request\n",
    "\n",
    "An HTTP request is just a blob of text describing our request.\n",
    "\n",
    "It consists of 3 parts:\n",
    "1. Request line\n",
    "   * Specifies the HTTP method, and the resource being requested\n",
    "2. Headers (Optional)\n",
    "   * Directives on how to handle the request\n",
    "3. Body (optional)\n",
    "   * The payload of the message, if applicable"
   ]
  },
  {
   "cell_type": "markdown",
   "id": "825debc2",
   "metadata": {},
   "source": [
    "Here's what our HTTP request looks like when sent from a browser. It has 8 headers and no body:\n",
    "\n",
    "```\n",
    "GET /iss-now.json HTTP/1.1\n",
    "Accept: text/html,application/xhtml+xml,[...]\n",
    "Accept-Encoding: gzip, deflate\n",
    "Accept-Language: en-US,en;q=0.9\n",
    "Cache-Control: max-age=0\n",
    "Connection: keep-alive\n",
    "Host: api.open-notify.org\n",
    "Upgrade-Insecure-Requests: 1\n",
    "User-Agent: Mozilla/5.0 (Macintosh; Intel Mac OS X 10_15_7) [...]\n",
    "```"
   ]
  },
  {
   "cell_type": "markdown",
   "id": "3e296b98",
   "metadata": {
    "slideshow": {
     "slide_type": "subslide"
    }
   },
   "source": [
    "## HTTP Methods\n",
    "\n",
    "HTTP requests always have a \"method\".\n",
    "\n",
    "There are several methods, but the 2 most common are \"GET\" and \"POST\".\n",
    "\n",
    "**GET** requests are typically used to retrieve data.\n",
    "\n",
    "**POST** requests are typically used to send data."
   ]
  },
  {
   "cell_type": "markdown",
   "id": "aa0c87b9",
   "metadata": {
    "slideshow": {
     "slide_type": "subslide"
    }
   },
   "source": [
    "## Reading and Responding to the Letter\n",
    "\n",
    "The letter has been delivered to a person who should be able to understand it.\n",
    "\n",
    "That person will know how to interpret the contents, and how to respond.\n",
    "\n",
    "That person might still call on other people (servers) to help create a response.\n",
    "\n",
    "The response will be returned in the same language and format (protocol) as the original letter."
   ]
  },
  {
   "cell_type": "markdown",
   "id": "889d5a2a",
   "metadata": {},
   "source": [
    "## HTTP Responses\n",
    "\n",
    "HTTP responses have status codes, headers, and bodies.\n",
    "\n",
    "Wikipedia has a [full list](https://en.wikipedia.org/wiki/List_of_HTTP_status_codes) of status codes. Common codes are:\n",
    "* `200` - success\n",
    "* `301` / `302` - permanent / temporary redirect\n",
    "* `404` - not found\n",
    "* `500` - server error"
   ]
  },
  {
   "cell_type": "markdown",
   "id": "9a3da29b",
   "metadata": {},
   "source": [
    "Here's what our HTTP response looks like when received in the browser. It has 6 headers and a body containing a JSON string:\n",
    "\n",
    "```\n",
    "HTTP/1.1 200 OK\n",
    "Server: nginx/1.10.3\n",
    "Date: Wed, 25 Oct 2023 03:10:09 GMT\n",
    "Content-Type: application/json\n",
    "Content-Length: 113\n",
    "Connection: keep-alive\n",
    "access-control-allow-origin: *\n",
    "\n",
    "{\"timestamp\": 1698203409, \"iss_position\": {\"latitude\": \"35.2661\", \"longitude\": \"110.0297\"}, \"message\": \"success\"}\n",
    "```"
   ]
  },
  {
   "cell_type": "markdown",
   "id": "ee3e08b6",
   "metadata": {
    "slideshow": {
     "slide_type": "subslide"
    }
   },
   "source": [
    "## Letter Responses\n",
    "\n",
    "* `200` is like receiving a letter back.\n",
    "* `301` / `302` are a bit like forwarding mail to another address - the postal service handles this for you, and most HTTP clients will also handle it\n",
    "* `404` is like trying to send a letter to an unknown address, and having it returned\n",
    "* `500` is like the box of mail containing your letter fell off the truck and got lost\n",
    "\n",
    "The body of the response is like the letter you receive in response to your inquiry."
   ]
  },
  {
   "cell_type": "markdown",
   "id": "6cd3eda6",
   "metadata": {
    "slideshow": {
     "slide_type": "subslide"
    }
   },
   "source": [
    "## All the terminology together\n",
    "\n",
    "`requests.get('http://api.open-notify.org/iss-now.json')`\n",
    "\n",
    "We made an HTTP request to the domain `api.open-notify.org`, asking it to `GET` the data for the resource `iss-now.json`.\n",
    "\n",
    "It returned a response with a `200` (success) status code, and a JSON object in the body."
   ]
  },
  {
   "cell_type": "markdown",
   "id": "722398e5",
   "metadata": {
    "slideshow": {
     "slide_type": "slide"
    }
   },
   "source": [
    "## Back to the `requests` library...\n",
    "\n",
    "`requests.get()` returns a `Response` object, which has many fields: [Response](https://requests.readthedocs.io/en/latest/api/#requests.Response)"
   ]
  },
  {
   "cell_type": "code",
   "execution_count": null,
   "id": "8c62e1bc",
   "metadata": {
    "execution": {
     "iopub.execute_input": "2023-10-27T13:11:48.167602Z",
     "iopub.status.busy": "2023-10-27T13:11:48.167144Z",
     "iopub.status.idle": "2023-10-27T13:11:48.332466Z",
     "shell.execute_reply": "2023-10-27T13:11:48.331557Z"
    }
   },
   "outputs": [],
   "source": [
    "response = requests.get('http://api.open-notify.org/iss-now.json')\n",
    "print(response.status_code)\n",
    "print()\n",
    "print(response.headers)\n",
    "print()\n",
    "print(response.text)"
   ]
  },
  {
   "cell_type": "markdown",
   "id": "60b04c87",
   "metadata": {
    "slideshow": {
     "slide_type": "subslide"
    }
   },
   "source": [
    "We can use the handy `json()` method, which attempts to parse the body of the response as JSON:"
   ]
  },
  {
   "cell_type": "code",
   "execution_count": null,
   "id": "c8973ea2",
   "metadata": {
    "execution": {
     "iopub.execute_input": "2023-10-27T13:11:48.336648Z",
     "iopub.status.busy": "2023-10-27T13:11:48.336326Z",
     "iopub.status.idle": "2023-10-27T13:11:48.340747Z",
     "shell.execute_reply": "2023-10-27T13:11:48.339974Z"
    }
   },
   "outputs": [],
   "source": [
    "print(type(response.json()))\n",
    "print(response.json())"
   ]
  },
  {
   "cell_type": "markdown",
   "id": "39583d0c",
   "metadata": {
    "slideshow": {
     "slide_type": "slide"
    }
   },
   "source": [
    "## All this networking stuff is great...\n",
    "\n",
    "But I really just want to know what part of the world the ISS is over, and I can't translate latitude/longitudes in my head."
   ]
  },
  {
   "cell_type": "markdown",
   "id": "1aca680a",
   "metadata": {
    "slideshow": {
     "slide_type": "fragment"
    }
   },
   "source": [
    "Let's use another free service, [geocode.xyz/api](http://geocode.xyz/api)"
   ]
  },
  {
   "cell_type": "markdown",
   "id": "bf7b036f",
   "metadata": {
    "slideshow": {
     "slide_type": "subslide"
    }
   },
   "source": [
    "It has several options, but we want the simple one: turn a lat/long into an address."
   ]
  },
  {
   "cell_type": "code",
   "execution_count": null,
   "id": "a81472fa",
   "metadata": {
    "execution": {
     "iopub.execute_input": "2023-10-27T13:11:48.344572Z",
     "iopub.status.busy": "2023-10-27T13:11:48.344259Z",
     "iopub.status.idle": "2023-10-27T13:11:49.341747Z",
     "shell.execute_reply": "2023-10-27T13:11:49.340848Z"
    }
   },
   "outputs": [],
   "source": [
    "import json\n",
    "response = requests.get('http://api.open-notify.org/iss-now.json')\n",
    "response_json = response.json()\n",
    "\n",
    "pos = response_json['iss_position']\n",
    "geocode_url = f\"https://geocode.xyz/{pos['latitude']},{pos['longitude']}?json=1\"\n",
    "print(f\"Reverse geocoding: {pos=} with {geocode_url=}\")\n",
    "\n",
    "geolocate_response = requests.get(geocode_url)\n",
    "print(geolocate_response.status_code)\n",
    "print(geolocate_response.json())\n",
    "\n",
    "# pretty print:\n",
    "#print(json.dumps(geolocate_response.json(), indent=2, ensure_ascii=False))"
   ]
  },
  {
   "cell_type": "code",
   "execution_count": null,
   "id": "3c4b59f3",
   "metadata": {},
   "outputs": [],
   "source": []
  }
 ],
 "metadata": {
  "celltoolbar": "Slideshow",
  "kernelspec": {
   "display_name": "Python 3 (ipykernel)",
   "language": "python",
   "name": "python3"
  },
  "language_info": {
   "codemirror_mode": {
    "name": "ipython",
    "version": 3
   },
   "file_extension": ".py",
   "mimetype": "text/x-python",
   "name": "python",
   "nbconvert_exporter": "python",
   "pygments_lexer": "ipython3",
   "version": "3.10.9"
  }
 },
 "nbformat": 4,
 "nbformat_minor": 5
}
