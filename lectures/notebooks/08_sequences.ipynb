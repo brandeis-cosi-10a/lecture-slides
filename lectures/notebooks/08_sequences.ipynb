{
 "cells": [
  {
   "cell_type": "markdown",
   "id": "26653147",
   "metadata": {},
   "source": [
    "# Cosi-10a: Introduction to Problem Solving in Python\n",
    "### Spring 2025\n",
    "\n",
    "<style>\n",
    "section.present > section.present { \n",
    "    max-height: 100%; \n",
    "    overflow-y: scroll;\n",
    "}\n",
    "</style>"
   ]
  },
  {
   "cell_type": "markdown",
   "id": "1ee8a1d2",
   "metadata": {
    "slideshow": {
     "slide_type": "slide"
    }
   },
   "source": [
    "# Sequences"
   ]
  },
  {
   "cell_type": "markdown",
   "id": "61f0aac4",
   "metadata": {
    "slideshow": {
     "slide_type": "slide"
    }
   },
   "source": [
    "# Sequence types\n",
    "\n",
    "We've looked at a few **sequence types** already - can you guess which types are sequence types?"
   ]
  },
  {
   "cell_type": "markdown",
   "id": "305139c4",
   "metadata": {
    "slideshow": {
     "slide_type": "fragment"
    }
   },
   "source": [
    "* **Sequence types** are data types that represent sequences of things. \n",
    "  * `str` - sequence of characters\n",
    "  * `list` - sequence of values\n",
    "  * `range` - (as in: `for i in range(5)`!) generated sequence of integers \n",
    "  * `tuple` - coming soon, similar to `list`\n",
    "  \n",
    "Today, we'll learn about tuples, some common operations that work on some/all sequence types, and more about strings."
   ]
  },
  {
   "cell_type": "markdown",
   "id": "421d62e1",
   "metadata": {
    "slideshow": {
     "slide_type": "slide"
    }
   },
   "source": [
    "# Tuples\n",
    "\n",
    "Tuples are a sequence type. They are almost the same as lists, with a few small differences:\n",
    "* Tuples are created and represented with parentheses `(` `)` instead of brackets `[` `]`\n",
    "* Tuples are **immutable**. This means they can't change after creation."
   ]
  },
  {
   "cell_type": "code",
   "execution_count": null,
   "id": "735ef902",
   "metadata": {},
   "outputs": [],
   "source": [
    "i_am_a_tuple = (1,2,3)\n",
    "print(i_am_a_tuple)"
   ]
  },
  {
   "cell_type": "code",
   "execution_count": null,
   "id": "1a2c6bc3",
   "metadata": {},
   "outputs": [],
   "source": [
    "im_also_a_tuple = (7,)\n",
    "print(im_also_a_tuple)"
   ]
  },
  {
   "cell_type": "code",
   "execution_count": null,
   "id": "9fbc2302",
   "metadata": {},
   "outputs": [],
   "source": [
    "# You don't strictly need the parentheses, although it's often more clear to include them\n",
    "hey_wait = 7,2\n",
    "print(hey_wait)"
   ]
  },
  {
   "cell_type": "markdown",
   "id": "d0964505",
   "metadata": {
    "slideshow": {
     "slide_type": "subslide"
    }
   },
   "source": [
    "Tuples are **immutable**. This means they can't change after creation.\n",
    "\n",
    "You can't add, remove, or change the items a tuple contains."
   ]
  },
  {
   "cell_type": "code",
   "execution_count": null,
   "id": "7aabe9ea",
   "metadata": {
    "tags": [
     "raises-exception"
    ]
   },
   "outputs": [],
   "source": [
    "flavors = (\"chocolate\", \"vanilla\", \"strawberry\")\n",
    "flavors[1] = \"coffee\""
   ]
  },
  {
   "cell_type": "markdown",
   "id": "021042e9",
   "metadata": {
    "slideshow": {
     "slide_type": "subslide"
    }
   },
   "source": [
    "You can convert back and forth between lists and tuples, similar to converting between `int`, `float`, and `str`:"
   ]
  },
  {
   "cell_type": "code",
   "execution_count": null,
   "id": "d10b9b4b",
   "metadata": {},
   "outputs": [],
   "source": [
    "flavors = (\"chocolate\", \"vanilla\", \"strawberry\")\n",
    "print(flavors)"
   ]
  },
  {
   "cell_type": "code",
   "execution_count": null,
   "id": "9b5e5b14",
   "metadata": {},
   "outputs": [],
   "source": [
    "new_flavors = list(flavors)\n",
    "new_flavors[1] = \"coffee\"\n",
    "print(new_flavors)"
   ]
  },
  {
   "cell_type": "code",
   "execution_count": null,
   "id": "0f52cfa1",
   "metadata": {},
   "outputs": [],
   "source": [
    "flavors = tuple(new_flavors)\n",
    "print(flavors)"
   ]
  },
  {
   "cell_type": "markdown",
   "id": "c7dc4477",
   "metadata": {
    "slideshow": {
     "slide_type": "subslide"
    }
   },
   "source": [
    "## Returning multiple values with tuples\n",
    "\n",
    "We've seen that you can return multiple values from a function.\n",
    "\n",
    "In reality, we are returning a single value: a tuple!\n",
    "\n",
    "But, when we assign a tuple to multiple variables, the individual values in the tuple are \"unpacked\" into them"
   ]
  },
  {
   "cell_type": "code",
   "execution_count": null,
   "id": "34023344",
   "metadata": {},
   "outputs": [],
   "source": [
    "def make_two_nums():\n",
    "    return 10, 20\n",
    "\n",
    "x, y = make_two_nums()\n",
    "print(x, y)\n",
    "\n",
    "a = make_two_nums()\n",
    "print(a)"
   ]
  },
  {
   "cell_type": "markdown",
   "id": "d484b4bc",
   "metadata": {
    "slideshow": {
     "slide_type": "subslide"
    }
   },
   "source": [
    "## Revisiting multiple return values\n",
    "\n",
    "Recall our code that finds numbers below the average of the numbers:"
   ]
  },
  {
   "cell_type": "code",
   "execution_count": null,
   "id": "b7d27e87",
   "metadata": {},
   "outputs": [],
   "source": [
    "def find_average(nums):\n",
    "    sum = 0\n",
    "    for num in nums:\n",
    "        sum = sum + num\n",
    "    avg = sum / len(nums)\n",
    "    return avg"
   ]
  },
  {
   "cell_type": "code",
   "execution_count": null,
   "id": "2ebd299e",
   "metadata": {},
   "outputs": [],
   "source": [
    "def below_average(nums):\n",
    "    avg = find_average(nums)\n",
    "    \n",
    "    print(\"The average is: \" + str(avg) + \". Here are all the below average numbers: \")\n",
    "    for num in nums:\n",
    "        if num < avg:\n",
    "            print(num, end=' ')"
   ]
  },
  {
   "cell_type": "markdown",
   "id": "59be94f7",
   "metadata": {},
   "source": [
    "Let's modify `below_average` to return 2 things: the average, and a list of things below the average."
   ]
  },
  {
   "cell_type": "code",
   "execution_count": null,
   "id": "e6a07367",
   "metadata": {
    "slideshow": {
     "slide_type": "subslide"
    }
   },
   "outputs": [],
   "source": [
    "def below_average(nums):\n",
    "    avg = find_average(nums)\n",
    "    \n",
    "    belows = []\n",
    "    for num in nums:\n",
    "        if num < avg:\n",
    "            belows.append(num)\n",
    "    return (avg, belows)"
   ]
  },
  {
   "cell_type": "code",
   "execution_count": null,
   "id": "9cb8229f",
   "metadata": {},
   "outputs": [],
   "source": [
    "a, b = below_average([1, 10000, 2, 7, 11000])\n",
    "print(f\"The average is: {a} and the below average numbers are: {b}\") "
   ]
  },
  {
   "cell_type": "markdown",
   "id": "61ba394f",
   "metadata": {
    "slideshow": {
     "slide_type": "subslide"
    }
   },
   "source": [
    "## Value unpacking\n",
    "\n",
    "Until now, we've been using **value unpacking** to immediately unpack multiple return values into multiple individual variables. \n",
    "\n",
    "**Value unpacking** allows you to assign multiple values to multiple variables at once, and can be used on any sequence type.\n",
    "\n",
    "You don't have to unpack the values - you can store the whole tuple in a variable."
   ]
  },
  {
   "cell_type": "code",
   "execution_count": null,
   "id": "971a849c",
   "metadata": {},
   "outputs": [],
   "source": [
    "# without value unpacking\n",
    "answers = below_average([1, 10000, 2, 7, 11000])\n",
    "print(f\"answers var: {answers}\")\n",
    "print(f\"answers[0]: {answers[0]}\")\n",
    "print(f\"answers[1]: {answers[1]}\")\n",
    "print(f\"The average is: {answers[0]} and the below average numbers are: {answers[1]}\") "
   ]
  },
  {
   "cell_type": "code",
   "execution_count": null,
   "id": "7c85d836",
   "metadata": {
    "slideshow": {
     "slide_type": "-"
    }
   },
   "outputs": [],
   "source": [
    "# with value unpacking\n",
    "avg, below_avg_nums = below_average([1, 10000, 2, 7, 11000])\n",
    "print(f\"The average is: {avg} and the below average numbers are: {belows}\") "
   ]
  },
  {
   "cell_type": "markdown",
   "id": "61bb89d3",
   "metadata": {
    "slideshow": {
     "slide_type": "subslide"
    }
   },
   "source": [
    "Value unpacking works with any sequence type"
   ]
  },
  {
   "cell_type": "code",
   "execution_count": null,
   "id": "e020b2f6",
   "metadata": {},
   "outputs": [],
   "source": [
    "names = [\"Larry\", \"Moe\", \"Curly\"]\n",
    "stooge1, stooge2, stooge3 = names\n",
    "print(\"Stooge 1: \" + stooge1 + \", stooge 2: \" + stooge2 + \", stooge 3: \" + stooge3)\n",
    "\n",
    "# equivalent to 'stooge1, stooge2, stooge3 = names'\n",
    "stooge1 = names[0]\n",
    "stooge2 = names[1]\n",
    "stooge3 = names[2]"
   ]
  },
  {
   "cell_type": "code",
   "execution_count": null,
   "id": "13dece82",
   "metadata": {},
   "outputs": [],
   "source": [
    "a, b, c = \"xyz\"\n",
    "print(\"a: \" + a + \"; b: \" + b + \"; c: \" + c)"
   ]
  },
  {
   "cell_type": "markdown",
   "id": "4d870d3a",
   "metadata": {
    "slideshow": {
     "slide_type": "subslide"
    }
   },
   "source": [
    "The assignment will raise an error if the number of variables on the left doesn't match the length of the sequence being unpacked."
   ]
  },
  {
   "cell_type": "code",
   "execution_count": null,
   "id": "476bb441",
   "metadata": {
    "slideshow": {
     "slide_type": "-"
    },
    "tags": [
     "raises-exception"
    ]
   },
   "outputs": [],
   "source": [
    "a, b, c = (1, 2)"
   ]
  },
  {
   "cell_type": "code",
   "execution_count": null,
   "id": "c54413d7",
   "metadata": {
    "tags": [
     "raises-exception"
    ]
   },
   "outputs": [],
   "source": [
    "a, b = (1, 2, 3)"
   ]
  },
  {
   "cell_type": "markdown",
   "id": "2ba44185",
   "metadata": {
    "slideshow": {
     "slide_type": "subslide"
    }
   },
   "source": [
    "# `range` revisited\n",
    "\n",
    "`range` is actually a sequence type that generates integers:"
   ]
  },
  {
   "cell_type": "code",
   "execution_count": null,
   "id": "cee46f7a",
   "metadata": {},
   "outputs": [],
   "source": [
    "range(5)"
   ]
  },
  {
   "cell_type": "code",
   "execution_count": null,
   "id": "0d659e7d",
   "metadata": {},
   "outputs": [],
   "source": [
    "list(range(5))"
   ]
  },
  {
   "cell_type": "markdown",
   "id": "ab79c6c0",
   "metadata": {},
   "source": [
    "Note the difference! `range` is **not** a `list`! It is a sequence though."
   ]
  },
  {
   "cell_type": "markdown",
   "id": "8635f353",
   "metadata": {
    "slideshow": {
     "slide_type": "subslide"
    }
   },
   "source": [
    "Even though `range` and `list` are different types, they behave the same in a `for` loop:"
   ]
  },
  {
   "cell_type": "code",
   "execution_count": null,
   "id": "c7376843",
   "metadata": {
    "slideshow": {
     "slide_type": "-"
    }
   },
   "outputs": [],
   "source": [
    "for i in range(5):\n",
    "    print(i)"
   ]
  },
  {
   "cell_type": "markdown",
   "id": "c5c9c82f",
   "metadata": {},
   "source": [
    "behaves the same as:"
   ]
  },
  {
   "cell_type": "code",
   "execution_count": null,
   "id": "68330b5b",
   "metadata": {},
   "outputs": [],
   "source": [
    "nums = [0,1,2,3,4]\n",
    "for i in nums:\n",
    "    print(i)"
   ]
  },
  {
   "cell_type": "markdown",
   "id": "8a74db96",
   "metadata": {
    "slideshow": {
     "slide_type": "slide"
    }
   },
   "source": [
    "# `for` revisited\n",
    "\n",
    "It turns out that `for i in range(...):` is actually just a special case of the general `for` loop form:\n",
    "\n",
    "```\n",
    "for <var> in <sequence>:\n",
    "   statement(s)\n",
    "```\n",
    "\n",
    "A `for` loop can iterate over any **sequence**. It executes the code block once for each item in the sequence. \n",
    "\n",
    "This means you can use `for` loops on strings, lists, tuples, and ranges.\n"
   ]
  },
  {
   "cell_type": "code",
   "execution_count": null,
   "id": "986c5886",
   "metadata": {
    "slideshow": {
     "slide_type": "subslide"
    }
   },
   "outputs": [],
   "source": [
    "for c in \"Hello, world!\":\n",
    "    print(c)"
   ]
  },
  {
   "cell_type": "markdown",
   "id": "f63edc4d",
   "metadata": {
    "slideshow": {
     "slide_type": "slide"
    }
   },
   "source": [
    "# Iterables\n",
    "\n",
    "An **iterable** object is an object capable of returning its members one at a time. \n",
    "\n",
    "All sequence types are **iterables**. Other types can be iterable too. \n",
    "\n",
    "Some examples of non-sequence iterables:\n",
    "* Dictionaries (a data type we'll see in a few lectures)\n",
    "* Reading a file line-by-line\n",
    "* A \"generator\" - an iterator that generates a sequence on-demand, as each item is requested."
   ]
  },
  {
   "cell_type": "markdown",
   "id": "548058cc",
   "metadata": {
    "slideshow": {
     "slide_type": "subslide"
    }
   },
   "source": [
    "The details of iterables and iterators are beyond the scope of this class. The important things to know for now are:\n",
    "* **Iterables** are objects that can return their members one at a time\n",
    "* All iterables can be iterated over in a `for` loop.\n",
    "\n",
    "If you want to learn about this topic, this is a decent introductory resource: [Towards Data Science](https://towardsdatascience.com/python-basics-iteration-and-looping-6ca63b30835c). "
   ]
  },
  {
   "cell_type": "markdown",
   "id": "cf56a774",
   "metadata": {
    "slideshow": {
     "slide_type": "subslide"
    }
   },
   "source": [
    "# `for` revisited, again\n",
    "\n",
    "Last time, I promise. \n",
    "\n",
    "```\n",
    "for <var> in <iterable>:\n",
    "   statement(s)\n",
    "```\n",
    "\n",
    "`for` loops can loop over anything that is an **iterable**. This capture more than just **sequences**."
   ]
  },
  {
   "cell_type": "markdown",
   "id": "e89972fe",
   "metadata": {
    "slideshow": {
     "slide_type": "slide"
    }
   },
   "source": [
    "# Common sequence operations\n",
    "\n",
    "These work on all sequence types! We've seen some of these before on strings or lists. They also work on tuples (and even ranges).\n",
    "\n",
    "| Operation | Description | Example | Result |\n",
    "| --- | :--- | --- | :--- |\n",
    "| `x in s` | True if an item of s is equal to x | `\"hi\" in [\"hello\", \"hi\", \"yo\"]` | True |\n",
    "| `x not in s` | Opposite of `in` | `\"hi\" not in [\"hello\", \"hi\", \"yo\"]` | False |\n",
    "| `s + t` | Concatenate (combine end-to-end) | `[1,2,3] + [4,5]` | `[1,2,3,4,5]` |\n",
    "| `s * n` | Replicate | `\"abc\" * 3` | `\"abcabcabc\"` |\n",
    "| `s[i]` | *i*th item of `s` | `\"hello\"[1]` | `\"e\"` |\n",
    "| `s[i:j]` | slice of `s` from `i` to `j` | `\"hello\"[1:3]` | `\"el\"` |\n",
    "| `len(s)` | length of `s` | `len(\"hello\")` | `5` |\n",
    "| `min(s)` | The smallest item of `s` | `min([4, 8, 7, 3])` | `3` |\n",
    "| `max(s)` | The largest item of `s` | `max([4, 8, 7, 3])` | `8` |\n",
    "| `s.index(x)` | index of the first occurrence of `x` in `s` | `[4, 8, 7, 3].index(7)` | `2` |\n",
    "| `s.count(x)` | total number of occurrences of `x` in `s` | `\"hello\".count(\"l\")` | `2` |"
   ]
  },
  {
   "cell_type": "markdown",
   "id": "a4b22365",
   "metadata": {
    "slideshow": {
     "slide_type": "slide"
    }
   },
   "source": [
    "# Example\n",
    "\n",
    "Write a program that prompts the user for 5 integers, then prints out:\n",
    "1. The largest integer they entered\n",
    "2. The smallest integer they entered\n",
    "3. Whether `42` is in the list of integers they entered\n",
    "4. How many times they repeated the first integer they entered\n",
    "  * e.g. if they entered: 4, 3, 4, 4, 1, then the answer would be `3`, because they entered the number `4` three times.\n",
    "  \n",
    "Hint: Use a list to store the integers, then use the sequence operations for each task."
   ]
  },
  {
   "cell_type": "code",
   "execution_count": null,
   "id": "04cc2444",
   "metadata": {},
   "outputs": [],
   "source": [
    "nums = []\n",
    "for i in range(5):\n",
    "    ans = int(input(\"Number? \"))\n",
    "    nums.append(ans)\n",
    "\n",
    "print(nums)\n",
    "print(f\"The max is: {max(nums)}\")\n",
    "print(f\"The min is: {min(nums)}\")\n",
    "if nums.count(42) > 0:\n",
    "    print(\"42 is in the list\")\n",
    "else:\n",
    "    print(\"42 is not in the list\")\n",
    "#print(f\"42 is in the list: {bool(nums.count(42))}\")\n",
    "print(f\"User entered the number {nums[0]} this many times: {nums.count(nums[0])}\")"
   ]
  },
  {
   "cell_type": "markdown",
   "id": "52731dc7",
   "metadata": {
    "slideshow": {
     "slide_type": "slide"
    }
   },
   "source": [
    "# More on Strings\n",
    "\n",
    "In addition to the common sequence operations, strings provide many other helpful methods.\n",
    "\n",
    "The full list can be found in the [official documentation on strings](https://docs.python.org/3/library/stdtypes.html#string-methods). \n",
    "\n",
    "We'll look through a few notable ones now."
   ]
  },
  {
   "cell_type": "markdown",
   "id": "c9e22759",
   "metadata": {
    "slideshow": {
     "slide_type": "subslide"
    }
   },
   "source": [
    "## split\n",
    "\n",
    "`s.split(<delim>)` splits a string into a list. By default it splits at any whitespace, or you can tell it which character(s) to split at:"
   ]
  },
  {
   "cell_type": "code",
   "execution_count": null,
   "id": "dca84053",
   "metadata": {},
   "outputs": [],
   "source": [
    "sentence = \"This is a sentence with lots of words\"\n",
    "sentence.split()"
   ]
  },
  {
   "cell_type": "code",
   "execution_count": null,
   "id": "243aa8e6",
   "metadata": {},
   "outputs": [],
   "source": [
    "sentence = \"This,is a sentence,with,lots of words\"\n",
    "sentence.split(\",\")"
   ]
  },
  {
   "cell_type": "markdown",
   "id": "0ecd3c75",
   "metadata": {
    "slideshow": {
     "slide_type": "subslide"
    }
   },
   "source": [
    "## join\n",
    "\n",
    "`s.join(<sequence of strings>)` joins a sequence of strings together into a single string, with `s` between each string."
   ]
  },
  {
   "cell_type": "code",
   "execution_count": null,
   "id": "19b24398",
   "metadata": {},
   "outputs": [],
   "source": [
    "' '.join([\"some\", \"words\", \"to\", \"stitch\", \"together\"])"
   ]
  },
  {
   "cell_type": "code",
   "execution_count": null,
   "id": "09b7f80b",
   "metadata": {},
   "outputs": [],
   "source": [
    "', '.join([\"10\",\"9\",\"8\",\"7\"])"
   ]
  },
  {
   "cell_type": "markdown",
   "id": "e14be3ca",
   "metadata": {
    "slideshow": {
     "slide_type": "subslide"
    }
   },
   "source": [
    "## isdigit\n",
    "\n",
    "`s.isdigit()` returns `True` if all characters in the string are digits and there is at least one character, `False` otherwise."
   ]
  },
  {
   "cell_type": "code",
   "execution_count": null,
   "id": "5a165a55",
   "metadata": {},
   "outputs": [],
   "source": [
    "'12345678'.isdigit()"
   ]
  },
  {
   "cell_type": "code",
   "execution_count": null,
   "id": "1a389911",
   "metadata": {},
   "outputs": [],
   "source": [
    "'123abc'.isdigit()"
   ]
  },
  {
   "cell_type": "markdown",
   "id": "61ed7209",
   "metadata": {
    "slideshow": {
     "slide_type": "subslide"
    }
   },
   "source": [
    "## Changing case\n",
    "\n",
    "`s.upper()` and `s.lower()` create new copies of a string in upper and lower case."
   ]
  },
  {
   "cell_type": "code",
   "execution_count": null,
   "id": "1589ff4d",
   "metadata": {},
   "outputs": [],
   "source": [
    "'SpongeBob SquarePants'.upper()"
   ]
  },
  {
   "cell_type": "code",
   "execution_count": null,
   "id": "611b5025",
   "metadata": {},
   "outputs": [],
   "source": [
    "'SpongeBob SquarePants'.lower()"
   ]
  },
  {
   "cell_type": "markdown",
   "id": "e032dcac",
   "metadata": {
    "slideshow": {
     "slide_type": "subslide"
    }
   },
   "source": [
    "## Changing case - common pitfall\n",
    "\n",
    "Note that `.upper()` and `.lower()` don't modify the string itself - they return a new string."
   ]
  },
  {
   "cell_type": "code",
   "execution_count": null,
   "id": "33e95c9d",
   "metadata": {},
   "outputs": [],
   "source": [
    "words = \"Hello Class\"\n",
    "words.upper()\n",
    "print(words)\n",
    "\n",
    "yelling_words = words.upper()\n",
    "print(yelling_words)"
   ]
  },
  {
   "cell_type": "markdown",
   "id": "03e4feaf",
   "metadata": {
    "slideshow": {
     "slide_type": "subslide"
    }
   },
   "source": [
    "## startswith / endswith\n",
    "\n",
    "`s.startswith(<search string>)` and `s.endswith(<search string>)`: return True if a string starts/ends with a substring"
   ]
  },
  {
   "cell_type": "code",
   "execution_count": null,
   "id": "8967302d",
   "metadata": {},
   "outputs": [],
   "source": [
    "'SpongeBob SquarePants'.startswith(\"Sponge\")"
   ]
  },
  {
   "cell_type": "code",
   "execution_count": null,
   "id": "1d0f9a1c",
   "metadata": {},
   "outputs": [],
   "source": [
    "# case matters!\n",
    "sponge = 'SpongeBob SquarePants'\n",
    "# sponge.lower() -> 'spongebob squarepants'\n",
    "sponge.lower().endswith('pants')"
   ]
  },
  {
   "cell_type": "markdown",
   "id": "3b95457c",
   "metadata": {
    "slideshow": {
     "slide_type": "slide"
    }
   },
   "source": [
    "## Announcements\n",
    "\n",
    "* Quiz 6 during Wednesday recitation\n",
    "* PS5 due tonight, 11:59pm\n",
    "* PS6 out today, due Thursday 11/7, 11:59pm"
   ]
  },
  {
   "cell_type": "markdown",
   "id": "aec5ab7c",
   "metadata": {
    "slideshow": {
     "slide_type": "subslide"
    }
   },
   "source": [
    "## Example\n",
    "\n",
    "Write a function that takes a string as a parameter, and returns a new string where the first letter of every word is moved to the end. If a word starts with a number, it should be unchanged."
   ]
  },
  {
   "cell_type": "markdown",
   "id": "b3d5c9ec",
   "metadata": {
    "slideshow": {
     "slide_type": "fragment"
    }
   },
   "source": [
    "Approach:\n",
    "\n",
    "1. Split the string up in to words\n",
    "2. Iterate over each word\n",
    "3. If the word doesn't start with a number, re-organize the letters\n",
    "4. Store all the words in a list\n",
    "5. Create a string to return by joining our list of strings together"
   ]
  },
  {
   "cell_type": "markdown",
   "id": "c370cef3",
   "metadata": {
    "slideshow": {
     "slide_type": "fragment"
    }
   },
   "source": [
    "... but how?"
   ]
  },
  {
   "cell_type": "markdown",
   "id": "2e7b4200",
   "metadata": {
    "slideshow": {
     "slide_type": "subslide"
    }
   },
   "source": [
    "Approach:\n",
    "\n",
    "1. Split the string up in to words\n",
    "   * `split()` method\n",
    "2. Iterate over each word\n",
    "   * `for word in words`\n",
    "3. If the word doesn't start with a number, re-organize the letters\n",
    "   * `isdigit()` method, string slicing (`[1:]`)\n",
    "4. Return a string at the end\n",
    "   * Create a new list to store all the words, then use `join()` to turn it into a string"
   ]
  },
  {
   "cell_type": "code",
   "execution_count": null,
   "id": "774c480e",
   "metadata": {
    "slideshow": {
     "slide_type": "subslide"
    }
   },
   "outputs": [],
   "source": [
    "def mix_words(words):\n",
    "    split_words = words.split()\n",
    "    new_words = []\n",
    "    for word in split_words:\n",
    "        if not word[0].isdigit():\n",
    "            word = word[1:] + word[0]\n",
    "        new_words.append(word)\n",
    "    return ' '.join(new_words)\n",
    "\n",
    "mix_words(\"Hi this 1s a string with some gr8 words\")"
   ]
  },
  {
   "cell_type": "markdown",
   "id": "93ace8be",
   "metadata": {
    "slideshow": {
     "slide_type": "slide"
    }
   },
   "source": [
    "# Exercise\n",
    "\n",
    "Write a word guessing game where the user guesses one letter at a time to try to guess a secret word. Show the user's progress between each guess."
   ]
  },
  {
   "cell_type": "markdown",
   "id": "de98ffd6",
   "metadata": {
    "slideshow": {
     "slide_type": "subslide"
    }
   },
   "source": [
    "## Functional decomposition\n",
    "\n",
    "This time, let's write the code from the outside in:"
   ]
  },
  {
   "cell_type": "code",
   "execution_count": null,
   "id": "35102242",
   "metadata": {},
   "outputs": [],
   "source": [
    "def play_game():\n",
    "    word = \"secret\"\n",
    "    progress = [\"_\", \"_\", \"_\", \"_\", \"_\", \"_\"]\n",
    "    while True:\n",
    "        display_progress(progress)\n",
    "        guess = get_guess()\n",
    "        process_guess(word, progress, guess)"
   ]
  },
  {
   "cell_type": "markdown",
   "id": "a8565b79",
   "metadata": {
    "slideshow": {
     "slide_type": "fragment"
    }
   },
   "source": [
    "We've written the outer code, and now we have an idea of which helper functions will be most useful."
   ]
  },
  {
   "cell_type": "code",
   "execution_count": null,
   "id": "e0166772",
   "metadata": {
    "slideshow": {
     "slide_type": "subslide"
    }
   },
   "outputs": [],
   "source": [
    "def display_progress(progress):\n",
    "    for p in progress:\n",
    "        print(p, end=\" \")\n",
    "       "
   ]
  },
  {
   "cell_type": "code",
   "execution_count": null,
   "id": "154a6737",
   "metadata": {},
   "outputs": [],
   "source": [
    "display_progress([\"_\", \"a\", \"b\", \"_\"])"
   ]
  },
  {
   "cell_type": "markdown",
   "id": "eeb5f4be",
   "metadata": {
    "slideshow": {
     "slide_type": "subslide"
    }
   },
   "source": [
    "Another way, using the string method `join` that we just saw:"
   ]
  },
  {
   "cell_type": "code",
   "execution_count": null,
   "id": "ecbe1d8a",
   "metadata": {},
   "outputs": [],
   "source": [
    "def display_progress(progress):\n",
    "    print(\" \".join(progress)) "
   ]
  },
  {
   "cell_type": "code",
   "execution_count": null,
   "id": "6b758b99",
   "metadata": {},
   "outputs": [],
   "source": [
    "display_progress([\"_\", \"a\", \"b\", \"_\"])"
   ]
  },
  {
   "cell_type": "code",
   "execution_count": null,
   "id": "5d61767e",
   "metadata": {
    "slideshow": {
     "slide_type": "subslide"
    }
   },
   "outputs": [],
   "source": [
    "def play_game():\n",
    "    word = \"secret\"\n",
    "    progress = [\"_\", \"_\", \"_\", \"_\", \"_\", \"_\"]\n",
    "    while True:\n",
    "        display_progress(progress)\n",
    "        guess = get_guess()\n",
    "        process_guess(word, progress)"
   ]
  },
  {
   "cell_type": "markdown",
   "id": "370c94b1",
   "metadata": {},
   "source": [
    "Next up, `get_guess()`..."
   ]
  },
  {
   "cell_type": "code",
   "execution_count": null,
   "id": "062160bc",
   "metadata": {
    "slideshow": {
     "slide_type": "subslide"
    }
   },
   "outputs": [],
   "source": [
    "def get_guess():\n",
    "    return input(\"Guess a letter! \")"
   ]
  },
  {
   "cell_type": "code",
   "execution_count": null,
   "id": "0d25c151",
   "metadata": {
    "tags": [
     "remove-output"
    ]
   },
   "outputs": [],
   "source": [
    "get_guess()"
   ]
  },
  {
   "cell_type": "code",
   "execution_count": null,
   "id": "6db3658d",
   "metadata": {
    "slideshow": {
     "slide_type": "subslide"
    }
   },
   "outputs": [],
   "source": [
    "def get_guess():\n",
    "    while True:\n",
    "        guess = input(\"Guess a letter! \")\n",
    "        if len(guess) == 1 and guess.isalpha():\n",
    "            return guess\n",
    "        else:\n",
    "            print(\"Invalid guess, please guess a single letter\")\n",
    "            "
   ]
  },
  {
   "cell_type": "code",
   "execution_count": null,
   "id": "f2af4236",
   "metadata": {
    "tags": [
     "remove-output"
    ]
   },
   "outputs": [],
   "source": [
    "get_guess()"
   ]
  },
  {
   "cell_type": "code",
   "execution_count": null,
   "id": "0fe54840",
   "metadata": {
    "slideshow": {
     "slide_type": "subslide"
    }
   },
   "outputs": [],
   "source": [
    "def play_game():\n",
    "    word = \"secret\"\n",
    "    progress = [\"_\", \"_\", \"_\", \"_\", \"_\", \"_\"]\n",
    "    while True:\n",
    "        display_progress(progress)\n",
    "        guess = get_guess()\n",
    "        process_guess(guess, word, progress)"
   ]
  },
  {
   "cell_type": "markdown",
   "id": "6b684931",
   "metadata": {},
   "source": [
    "Next up, `process_guess()`, the trickiest part."
   ]
  },
  {
   "cell_type": "markdown",
   "id": "a28a25e2",
   "metadata": {
    "slideshow": {
     "slide_type": "subslide"
    }
   },
   "source": [
    "Walk through each letter of the secret word. If our guess matches that letter, then put that letter into `progress` at the correct index."
   ]
  },
  {
   "cell_type": "code",
   "execution_count": null,
   "id": "c3acab79",
   "metadata": {
    "slideshow": {
     "slide_type": "-"
    }
   },
   "outputs": [],
   "source": [
    "def process_guess(guess, word, progress):\n",
    "    for index in range(len(word)):\n",
    "        if guess.lower() == word[index]:\n",
    "            progress[index] = guess    "
   ]
  },
  {
   "cell_type": "code",
   "execution_count": null,
   "id": "d390d385",
   "metadata": {},
   "outputs": [],
   "source": [
    "progress = [\"s\", \"_\", \"_\", \"r\", \"_\", \"t\"]\n",
    "process_guess('e', 'secret', progress)\n",
    "print(progress)"
   ]
  },
  {
   "cell_type": "markdown",
   "id": "b9f552c4",
   "metadata": {
    "slideshow": {
     "slide_type": "subslide"
    }
   },
   "source": [
    "Each piece seems to work on its own, lets test it all together"
   ]
  },
  {
   "cell_type": "code",
   "execution_count": null,
   "id": "24b3903f",
   "metadata": {
    "slideshow": {
     "slide_type": "-"
    }
   },
   "outputs": [],
   "source": [
    "def play_game():\n",
    "    word = \"secret\"\n",
    "    progress = [\"_\", \"_\", \"_\", \"_\", \"_\", \"_\"]\n",
    "    while True:\n",
    "        display_progress(progress)\n",
    "        guess = get_guess()\n",
    "        process_guess(guess, word, progress)"
   ]
  },
  {
   "cell_type": "code",
   "execution_count": null,
   "id": "e5c84167",
   "metadata": {
    "tags": [
     "remove-output"
    ]
   },
   "outputs": [],
   "source": [
    "play_game()"
   ]
  },
  {
   "cell_type": "markdown",
   "id": "cada8b77",
   "metadata": {
    "slideshow": {
     "slide_type": "subslide"
    }
   },
   "source": [
    "Oops, we forgot to end the game!"
   ]
  },
  {
   "cell_type": "code",
   "execution_count": null,
   "id": "06ec7e0c",
   "metadata": {
    "slideshow": {
     "slide_type": "-"
    }
   },
   "outputs": [],
   "source": [
    "def play_game():\n",
    "    word = \"secret\"\n",
    "    progress = [\"_\", \"_\", \"_\", \"_\", \"_\", \"_\"]\n",
    "    while True:\n",
    "        display_progress(progress)\n",
    "        guess = get_guess()\n",
    "        process_guess(guess, word, progress)\n",
    "        if game_over(progress):\n",
    "            print(\"You win!\")\n",
    "            return"
   ]
  },
  {
   "cell_type": "code",
   "execution_count": null,
   "id": "08acdff1",
   "metadata": {
    "slideshow": {
     "slide_type": "subslide"
    }
   },
   "outputs": [],
   "source": [
    "def game_over(progress):\n",
    "    for letter in progress:\n",
    "        if letter == \"_\":\n",
    "            return False\n",
    "    return True"
   ]
  },
  {
   "cell_type": "code",
   "execution_count": null,
   "id": "b725241b",
   "metadata": {},
   "outputs": [],
   "source": [
    "game_over([\"a\", \"b\", \"c\"])"
   ]
  },
  {
   "cell_type": "code",
   "execution_count": null,
   "id": "417da869",
   "metadata": {},
   "outputs": [],
   "source": [
    "game_over([\"a\", \"_\", \"c\"])"
   ]
  },
  {
   "cell_type": "markdown",
   "id": "0f199661",
   "metadata": {
    "slideshow": {
     "slide_type": "subslide"
    }
   },
   "source": [
    "Or, again, a shorter way using one of the sequence operations: `in`"
   ]
  },
  {
   "cell_type": "code",
   "execution_count": null,
   "id": "bc30359c",
   "metadata": {},
   "outputs": [],
   "source": [
    "def game_over(progress):\n",
    "    return \"_\" not in progress"
   ]
  },
  {
   "cell_type": "code",
   "execution_count": null,
   "id": "ab3223e1",
   "metadata": {},
   "outputs": [],
   "source": [
    "game_over([\"a\", \"b\", \"c\"])"
   ]
  },
  {
   "cell_type": "code",
   "execution_count": null,
   "id": "037b814c",
   "metadata": {},
   "outputs": [],
   "source": [
    "game_over([\"a\", \"_\", \"c\"])"
   ]
  },
  {
   "cell_type": "code",
   "execution_count": null,
   "id": "46f5ba60",
   "metadata": {
    "slideshow": {
     "slide_type": "subslide"
    }
   },
   "outputs": [],
   "source": [
    "def play_game():\n",
    "    word = \"secret\"\n",
    "    progress = [\"_\", \"_\", \"_\", \"_\", \"_\", \"_\"]\n",
    "    while True:\n",
    "        display_progress(progress)\n",
    "        guess = get_guess()\n",
    "        process_guess(guess, word, progress)\n",
    "        if game_over(progress):\n",
    "            print(\"You win!\")\n",
    "            break"
   ]
  },
  {
   "cell_type": "code",
   "execution_count": null,
   "id": "77da2aa1",
   "metadata": {
    "tags": [
     "remove-output"
    ]
   },
   "outputs": [],
   "source": [
    "play_game()"
   ]
  },
  {
   "cell_type": "markdown",
   "id": "f4cf7f74",
   "metadata": {
    "slideshow": {
     "slide_type": "subslide"
    }
   },
   "source": [
    "What if we want to use a different word? We can parameterize `play_game`:"
   ]
  },
  {
   "cell_type": "code",
   "execution_count": null,
   "id": "ed5d6953",
   "metadata": {},
   "outputs": [],
   "source": [
    "def play_game(word):\n",
    "    #progress = [\"_\"] * len(word)\n",
    "    blanks = []\n",
    "    for i in range(len(word)):\n",
    "        blanks.append(\"_\")\n",
    "        \n",
    "    while True:\n",
    "        display_progress(blanks)\n",
    "        guess = get_guess()\n",
    "        process_guess(guess, word, blanks)\n",
    "        if game_over(blanks):\n",
    "            print(\"You win!\")\n",
    "            break"
   ]
  },
  {
   "cell_type": "code",
   "execution_count": null,
   "id": "95b41fce",
   "metadata": {
    "tags": [
     "remove-output"
    ]
   },
   "outputs": [],
   "source": [
    "play_game(\"abba\")"
   ]
  },
  {
   "cell_type": "markdown",
   "id": "46f36946",
   "metadata": {
    "slideshow": {
     "slide_type": "subslide"
    }
   },
   "source": [
    "More things to think about:\n",
    "* How would you keep track of how many incorrect guesses a user had made, and stop after 5 incorrect?\n",
    "* How would you keep track of which letters the user had already guessed?\n",
    "* How could you handle the user entering an upper case letter?"
   ]
  },
  {
   "cell_type": "markdown",
   "id": "50b20b2a",
   "metadata": {
    "slideshow": {
     "slide_type": "slide"
    }
   },
   "source": [
    "# References"
   ]
  },
  {
   "cell_type": "markdown",
   "id": "6ae7a02a",
   "metadata": {
    "slideshow": {
     "slide_type": "slide"
    }
   },
   "source": [
    "# Review: Scope and Arguments\n",
    "\n",
    "What does this print?"
   ]
  },
  {
   "cell_type": "code",
   "execution_count": null,
   "id": "bd8c5c46",
   "metadata": {},
   "outputs": [],
   "source": [
    "def add_one(num):\n",
    "    num = num + 1\n",
    "    print(f\"inside add_one: {num=}\")\n",
    "    \n",
    "x = 5\n",
    "add_one(x)\n",
    "add_one(x)\n",
    "print(x)"
   ]
  },
  {
   "cell_type": "markdown",
   "id": "19acd785",
   "metadata": {
    "slideshow": {
     "slide_type": "subslide"
    }
   },
   "source": [
    "# Review: Scope and Arguments\n",
    "\n",
    "What does this print?"
   ]
  },
  {
   "cell_type": "code",
   "execution_count": null,
   "id": "9e6982a1",
   "metadata": {},
   "outputs": [],
   "source": [
    "def add_one(x):\n",
    "    x = x + 1\n",
    "    print(f\"inside add_one: {x=}\")\n",
    "    \n",
    "x = 5\n",
    "add_one(x)\n",
    "add_one(x)\n",
    "print(x)"
   ]
  },
  {
   "cell_type": "markdown",
   "id": "b6a146bb",
   "metadata": {
    "slideshow": {
     "slide_type": "fragment"
    }
   },
   "source": [
    "The `x` in the global scope is not the same as the `x` in `add_one`."
   ]
  },
  {
   "cell_type": "markdown",
   "id": "9ed164e2",
   "metadata": {
    "slideshow": {
     "slide_type": "slide"
    }
   },
   "source": [
    "# Review: Mutable vs. Immutable\n",
    "\n",
    "All types in Python can be classified as **mutable** or **immutable**.\n",
    "\n",
    "* The value of **mutable** types can change.\n",
    "* The value of **immutable** types can never change.\n",
    "\n",
    "This may seems surprising, but most of the data types we've looked at so far are **immutable**.\n",
    "\n",
    "* immutable: `int`, `float`, `bool`, `str`, `tuple`\n",
    "* mutable: `list`"
   ]
  },
  {
   "cell_type": "markdown",
   "id": "f75b31aa",
   "metadata": {
    "slideshow": {
     "slide_type": "slide"
    }
   },
   "source": [
    "# References\n",
    "\n",
    "Confession time: I lied to you in lecture 2 when I explained that a variable was like a \"box\" in which you can store a value.\n",
    "\n",
    "In Python, a variable is actually a **reference to** a value."
   ]
  },
  {
   "cell_type": "markdown",
   "id": "030d937c",
   "metadata": {
    "slideshow": {
     "slide_type": "subslide"
    }
   },
   "source": [
    "## Our mental model so far"
   ]
  },
  {
   "cell_type": "markdown",
   "id": "0d1612d0",
   "metadata": {
    "slideshow": {
     "slide_type": "notes"
    }
   },
   "source": [
    "Drawing on the board: a box labeled `a`, with the value `\"Hello\"` in it"
   ]
  },
  {
   "cell_type": "code",
   "execution_count": null,
   "id": "ff3624f4",
   "metadata": {},
   "outputs": [],
   "source": [
    "a = \"Hello\""
   ]
  },
  {
   "cell_type": "markdown",
   "id": "6a42c0f2",
   "metadata": {
    "slideshow": {
     "slide_type": "subslide"
    }
   },
   "source": [
    "## The way things actually work"
   ]
  },
  {
   "cell_type": "markdown",
   "id": "fd716939",
   "metadata": {
    "slideshow": {
     "slide_type": "notes"
    }
   },
   "source": [
    "Drawing on the board: 6 boxes, numbered 0 through 5. The value \"Hello\" in box 0. A separate box labeled `a`, with an arrow drawn to box 0."
   ]
  },
  {
   "cell_type": "code",
   "execution_count": null,
   "id": "7db99102",
   "metadata": {},
   "outputs": [],
   "source": [
    "a = \"Hello\""
   ]
  },
  {
   "cell_type": "markdown",
   "id": "16d8452b",
   "metadata": {
    "slideshow": {
     "slide_type": "subslide"
    }
   },
   "source": [
    "Think of the computer's memory like a big warehouse, with millions of numbered boxes in it.\n",
    "\n",
    "When you create a variable with a value:\n",
    "1. The computer picks an empty numbered box, and puts the value into it.\n",
    "2. It writes the number of the box down on a piece of paper.\n",
    "3. It hands that piece of paper to your variable\n",
    "4. The variable uses that number to find its value when needed.\n",
    "\n",
    "The piece of paper is a **reference** to a value. The box contains the actual value."
   ]
  },
  {
   "cell_type": "markdown",
   "id": "da193095",
   "metadata": {
    "slideshow": {
     "slide_type": "slide"
    }
   },
   "source": [
    "# 2 Volunteers needed\n",
    "\n",
    "Fulfill your semester-long dream of becoming a variable!\n",
    "\n",
    "You'll need to share your favorite colors, and hold an index card."
   ]
  },
  {
   "cell_type": "markdown",
   "id": "ebef312e",
   "metadata": {
    "slideshow": {
     "slide_type": "notes"
    }
   },
   "source": [
    "1. Get 2 volunteers to act as variables\n",
    "2. Ask first volunteer for their favorite color, add it as a string to the memory boxes, hand them an index card with the number of the box used.\n",
    "3. Repeat for volunteer 2, require a different color.\n",
    "4. When we encounter a print, ask each variable to read their value aloud."
   ]
  },
  {
   "cell_type": "code",
   "execution_count": null,
   "id": "578b489a",
   "metadata": {
    "slideshow": {
     "slide_type": "subslide"
    }
   },
   "outputs": [],
   "source": [
    "name1 = \"color1\"\n",
    "name2 = \"color2\"\n",
    "print(name1, name2)"
   ]
  },
  {
   "cell_type": "markdown",
   "id": "16e12abb",
   "metadata": {
    "slideshow": {
     "slide_type": "notes"
    }
   },
   "source": [
    "1. Get a new color from the first person. Add it as a value to a new memory box, swap their index card."
   ]
  },
  {
   "cell_type": "code",
   "execution_count": null,
   "id": "3f60a511",
   "metadata": {
    "slideshow": {
     "slide_type": "fragment"
    }
   },
   "outputs": [],
   "source": [
    "name1 = \"color3\"\n",
    "print(name1, name2)"
   ]
  },
  {
   "cell_type": "markdown",
   "id": "412056b6",
   "metadata": {
    "slideshow": {
     "slide_type": "notes"
    }
   },
   "source": [
    "1. Force second person to like first person's color. Give them an index card with the same number as first person."
   ]
  },
  {
   "cell_type": "code",
   "execution_count": null,
   "id": "2e58ad7a",
   "metadata": {
    "slideshow": {
     "slide_type": "fragment"
    }
   },
   "outputs": [],
   "source": [
    "name2 = name1\n",
    "print(name1, name2)"
   ]
  },
  {
   "cell_type": "markdown",
   "id": "a69e7b22",
   "metadata": {
    "slideshow": {
     "slide_type": "notes"
    }
   },
   "source": [
    "1. Second person changes their color, add the value to the boxes and hand them a new index card."
   ]
  },
  {
   "cell_type": "code",
   "execution_count": null,
   "id": "18d86676",
   "metadata": {
    "slideshow": {
     "slide_type": "fragment"
    }
   },
   "outputs": [],
   "source": [
    "name2 = \"color4\"\n",
    "print(name1, name2)"
   ]
  },
  {
   "cell_type": "markdown",
   "id": "1f1c24f8",
   "metadata": {
    "slideshow": {
     "slide_type": "notes"
    }
   },
   "source": [
    "No matter what, person 1 can't do anything to change person 2's value."
   ]
  },
  {
   "cell_type": "markdown",
   "id": "d89ab9e8",
   "metadata": {
    "slideshow": {
     "slide_type": "subslide"
    }
   },
   "source": [
    "All variables in Python are references. (This is not true in all programming languages).\n",
    "\n",
    "* When a variable is assigned to (`=`), it is changed to refer to a different value. \n",
    "  * i.e. it \"gets a new piece of paper with a new number on it\".\n",
    "* Assignment does **not** change the original value itself. \n",
    "  * i.e. it does not \"change the value in the original box\".\n",
    "* In some cases, multiple variables can **reference** the same value\n",
    "  * i.e. their pieces of paper will have the same number written on them."
   ]
  },
  {
   "cell_type": "markdown",
   "id": "206d97bd",
   "metadata": {
    "slideshow": {
     "slide_type": "slide"
    }
   },
   "source": [
    "# This is confusing, why do we care?"
   ]
  },
  {
   "cell_type": "markdown",
   "id": "a76c92be",
   "metadata": {
    "slideshow": {
     "slide_type": "notes"
    }
   },
   "source": [
    "1. Clear out memory boxes, take back index cards.\n",
    "1. Ask first volunteer for their 2 favorite colors, add a list to a memory box, hand them an index card with the number of the box used.\n",
    "2. Repeat for volunteer 2, require different colors."
   ]
  },
  {
   "cell_type": "code",
   "execution_count": null,
   "id": "cc7d7133",
   "metadata": {
    "slideshow": {
     "slide_type": "subslide"
    }
   },
   "outputs": [],
   "source": [
    "name1 = [\"color1\", \"color2\"]\n",
    "name2 = [\"color3\", \"color4\"]\n",
    "print(name1, name2)"
   ]
  },
  {
   "cell_type": "markdown",
   "id": "9cc8518f",
   "metadata": {
    "slideshow": {
     "slide_type": "notes"
    }
   },
   "source": [
    "1. Make first person pick 2 new colors, create a new list in a new box, and swap their index card."
   ]
  },
  {
   "cell_type": "code",
   "execution_count": null,
   "id": "9d6d4342",
   "metadata": {
    "slideshow": {
     "slide_type": "fragment"
    }
   },
   "outputs": [],
   "source": [
    "name1 = [\"color5\", \"color6\"]\n",
    "print(name1, name2)"
   ]
  },
  {
   "cell_type": "markdown",
   "id": "01d521c3",
   "metadata": {
    "slideshow": {
     "slide_type": "notes"
    }
   },
   "source": [
    "1. Force second person to like first person's colors. Give them an index card with the same number as the first person."
   ]
  },
  {
   "cell_type": "code",
   "execution_count": null,
   "id": "e89c1465",
   "metadata": {
    "slideshow": {
     "slide_type": "fragment"
    }
   },
   "outputs": [],
   "source": [
    "name2 = name1\n",
    "print(name1, name2)"
   ]
  },
  {
   "cell_type": "markdown",
   "id": "ceda288b",
   "metadata": {
    "slideshow": {
     "slide_type": "notes"
    }
   },
   "source": [
    "1. Update list in place, notice how both people's colors are updated."
   ]
  },
  {
   "cell_type": "code",
   "execution_count": null,
   "id": "b4617f4a",
   "metadata": {
    "slideshow": {
     "slide_type": "fragment"
    }
   },
   "outputs": [],
   "source": [
    "name2[0] = \"color7\"\n",
    "print(name1, name2)"
   ]
  },
  {
   "cell_type": "markdown",
   "id": "91bba3a0",
   "metadata": {
    "slideshow": {
     "slide_type": "slide"
    }
   },
   "source": [
    "# This is confusing, why do we care?\n",
    "\n",
    "Consider these two code snippets:"
   ]
  },
  {
   "cell_type": "code",
   "execution_count": null,
   "id": "f593da98",
   "metadata": {},
   "outputs": [],
   "source": [
    "a = 1\n",
    "b = a\n",
    "a = a + 1\n",
    "print(f\"{a=} {b=}\")"
   ]
  },
  {
   "cell_type": "code",
   "execution_count": null,
   "id": "a319d9b6",
   "metadata": {},
   "outputs": [],
   "source": [
    "a = [1, 2, 3]\n",
    "b = a\n",
    "a[0] = 4\n",
    "print(f\"{a=} {b=}\")"
   ]
  },
  {
   "cell_type": "markdown",
   "id": "916e4713",
   "metadata": {
    "slideshow": {
     "slide_type": "subslide"
    }
   },
   "source": [
    "Another surprising example:"
   ]
  },
  {
   "cell_type": "code",
   "execution_count": null,
   "id": "486f8646",
   "metadata": {},
   "outputs": [],
   "source": [
    "def add_one(num):\n",
    "    num = num + 1\n",
    "    print(f\"inside add_one: {num=}\")\n",
    "\n",
    "a = 1\n",
    "add_one(a)\n",
    "print(f\"global scope {a=}\")"
   ]
  },
  {
   "cell_type": "code",
   "execution_count": null,
   "id": "eb78fbfe",
   "metadata": {},
   "outputs": [],
   "source": [
    "def add_one(nums):\n",
    "    nums[0] = nums[0] + 1\n",
    "    print(f\"inside add_one: {nums=}\")\n",
    "\n",
    "a = [1]\n",
    "add_one(a)\n",
    "print(f\"global scope {a=}\")"
   ]
  },
  {
   "cell_type": "markdown",
   "id": "76fafa05",
   "metadata": {
    "slideshow": {
     "slide_type": "subslide"
    }
   },
   "source": [
    "Understanding references is key to understanding **why** this code behaves the way it does. \n",
    "\n",
    "This behavior is a **very** common source of confusion."
   ]
  },
  {
   "cell_type": "markdown",
   "id": "3deb40fb",
   "metadata": {
    "slideshow": {
     "slide_type": "subslide"
    }
   },
   "source": [
    "# Python Tutor\n",
    "\n",
    "We're going to use a new, very useful tool to help us visualize variables, scope, and references (today's topic): [Python Tutor](http://pythontutor.com)\n",
    "\n",
    "Let's look at those 2 `add_one` examples in Python Tutor:\n",
    "\n",
    "[First example](https://pythontutor.com/render.html#code=def%20add_one%28num%29%3A%0A%20%20%20%20num%20%3D%20num%20%2B%201%0A%20%20%20%20%0Ax%20%3D%205%0Aadd_one%28x%29%0Aadd_one%28x%29%0Aprint%28x%29&cumulative=false&curInstr=0&heapPrimitives=nevernest&mode=display&origin=opt-frontend.js&py=311&rawInputLstJSON=%5B%5D&textReferences=false)\n",
    "\n",
    "[Second example](https://pythontutor.com/render.html#code=def%20add_one%28x%29%3A%0A%20%20%20%20x%20%3D%20x%20%2B%201%0A%20%20%20%20%0Ax%20%3D%205%0Aadd_one%28x%29%0Aadd_one%28x%29%0Aprint%28x%29&cumulative=false&curInstr=0&heapPrimitives=nevernest&mode=display&origin=opt-frontend.js&py=311&rawInputLstJSON=%5B%5D&textReferences=false)\n"
   ]
  },
  {
   "cell_type": "markdown",
   "id": "1c7b0eb2",
   "metadata": {
    "slideshow": {
     "slide_type": "subslide"
    }
   },
   "source": [
    "Let's look one more time, except this time we'll have Python Tutor show the references explicitly:\n",
    "\n",
    "[First example](https://pythontutor.com/render.html#code=def%20add_one%28num%29%3A%0A%20%20%20%20num%20%3D%20num%20%2B%201%0A%20%20%20%20%0Ax%20%3D%205%0Aadd_one%28x%29%0Aadd_one%28x%29%0Aprint%28x%29&cumulative=false&curInstr=0&heapPrimitives=true&mode=display&origin=opt-frontend.js&py=311&rawInputLstJSON=%5B%5D&textReferences=false)"
   ]
  },
  {
   "cell_type": "markdown",
   "id": "d339b554",
   "metadata": {
    "slideshow": {
     "slide_type": "subslide"
    }
   },
   "source": [
    "Let's walk through a few code examples and talk in detail about what is happening to references vs. values on each line."
   ]
  },
  {
   "cell_type": "code",
   "execution_count": null,
   "id": "f8c40507",
   "metadata": {
    "slideshow": {
     "slide_type": "subslide"
    }
   },
   "outputs": [],
   "source": [
    "a = 1\n",
    "b = 1\n",
    "a = 2"
   ]
  },
  {
   "cell_type": "markdown",
   "id": "30d14d29",
   "metadata": {},
   "source": [
    "On line 1, `a` refers to value `1`.\n",
    "\n",
    "On line 2, `b` refers to value `1`.\n",
    "\n",
    "On line 3, `a` is updated to refer to value `2`, instead of referring to value `1`.\n",
    "\n",
    "We **didn't** change the value `1` to `2`. We changed `a` to refer to a different value. `ints` are immutable, we can't change them.\n",
    "\n",
    "[Python Tutor link](https://pythontutor.com/render.html#code=a%20%3D%201%0Ab%20%3D%201%0Aa%20%3D%202&cumulative=false&curInstr=0&heapPrimitives=true&mode=display&origin=opt-frontend.js&py=311&rawInputLstJSON=%5B%5D&textReferences=false)"
   ]
  },
  {
   "cell_type": "code",
   "execution_count": null,
   "id": "608b58da",
   "metadata": {
    "slideshow": {
     "slide_type": "subslide"
    }
   },
   "outputs": [],
   "source": [
    "a = 1\n",
    "b = a\n",
    "a = a + 1\n",
    "print(f\"{a=} {b=}\")"
   ]
  },
  {
   "cell_type": "markdown",
   "id": "ed003d54",
   "metadata": {},
   "source": [
    "On line 1, `a` refers to value `1`.\n",
    "\n",
    "On line 2, `b` refers to the same value as `a`: `1`.\n",
    "\n",
    "`b` does **not** refer to `a`. It refers to the value `1`.\n",
    "\n",
    "On line 3, `a` is changed to refer to the value `2`. \n",
    "\n",
    "We didn't update the value `1`, we only updated `a`'s reference. `b` still refers to the value `1`.\n",
    "\n",
    "[Python Tutor link](https://pythontutor.com/render.html#code=a%20%3D%201%0Ab%20%3D%20a%0Aa%20%3D%20a%20%2B%201%0Aprint%28f%22%7Ba%3D%7D%20%7Bb%3D%7D%22%29&cumulative=false&curInstr=0&heapPrimitives=true&mode=display&origin=opt-frontend.js&py=311&rawInputLstJSON=%5B%5D&textReferences=false)"
   ]
  },
  {
   "cell_type": "code",
   "execution_count": null,
   "id": "b10c6a69",
   "metadata": {
    "slideshow": {
     "slide_type": "subslide"
    }
   },
   "outputs": [],
   "source": [
    "a = [1, 2, 3]\n",
    "b = a\n",
    "a[0] = 4\n",
    "print(f\"{a=} {b=}\")"
   ]
  },
  {
   "cell_type": "markdown",
   "id": "4d4e0de3",
   "metadata": {},
   "source": [
    "Lists **appear to** behave differently. Lists are **mutable**. We can change the value of a list.\n",
    "\n",
    "On line 1, `a` refers to a list `[1,2,3]`\n",
    "\n",
    "On line 2, `b` refers to the same list which `a` refers to.\n",
    "\n",
    "On line 3, we modify the list itself! We're changing a value by assigning to an index in the list, we're not changing `a`'s reference.\n",
    "\n",
    "Since `a` and `b` refer to the same list value, and we modified that list value, both `a` and `b` will reflect the change made to the list.\n",
    "\n",
    "[Python Tutor link](https://pythontutor.com/visualize.html#code=a%20%3D%20%5B1,%202,%203%5D%0Ab%20%3D%20a%0Aa%5B0%5D%20%3D%204%0A&cumulative=false&curInstr=0&heapPrimitives=true&mode=display&origin=opt-frontend.js&py=3&rawInputLstJSON=%5B%5D&textReferences=false)\n",
    "\n"
   ]
  },
  {
   "cell_type": "code",
   "execution_count": null,
   "id": "1d9b57e5",
   "metadata": {
    "slideshow": {
     "slide_type": "subslide"
    }
   },
   "outputs": [],
   "source": [
    "a = [1, 2, 3]\n",
    "b = a\n",
    "a = [4, 5, 6]\n",
    "a[0] = 9\n",
    "print(f\"{a=} {b=}\")"
   ]
  },
  {
   "cell_type": "markdown",
   "id": "aa763a29",
   "metadata": {},
   "source": [
    "This example highlights the difference between changing a variable's reference, and mutating the value it refers to.\n",
    "\n",
    "On line 1, `a` refers to a list `[1,2,3]`\n",
    "\n",
    "On line 2, `b` refers to the same list which `a` refers to.\n",
    "\n",
    "On line 3, we change `a` to refer to a new list `[4,5,6]` by assigning to `a`. We have not modified the original list value that `a` referred to. `a` and `b` now refer to different lists.\n",
    "\n",
    "On line 4, we modify the list value that `a` refers to. `b`'s list is unchanged.\n",
    "\n",
    "[Python tutor link](https://pythontutor.com/visualize.html#code=a%20%3D%20%5B1,%202,%203%5D%0Ab%20%3D%20a%0Aa%20%3D%20%5B4,%205,%206%5D%0Aa%5B0%5D%20%3D%209&cumulative=false&curInstr=0&heapPrimitives=true&mode=display&origin=opt-frontend.js&py=3&rawInputLstJSON=%5B%5D&textReferences=false)"
   ]
  },
  {
   "cell_type": "markdown",
   "id": "9ebdf1ec",
   "metadata": {
    "slideshow": {
     "slide_type": "subslide"
    }
   },
   "source": [
    "\n",
    "When arguments are passed to functions, the references (not the values!) are copied."
   ]
  },
  {
   "cell_type": "code",
   "execution_count": null,
   "id": "160611b8",
   "metadata": {},
   "outputs": [],
   "source": [
    "def add_one(num):\n",
    "    num = num + 1    \n",
    "    print(f\"inside add_one: {num=}\")\n",
    "\n",
    "a = 1\n",
    "add_one(a)\n",
    "print(f\"global scope {a=}\")"
   ]
  },
  {
   "cell_type": "markdown",
   "id": "b8b235cf",
   "metadata": {},
   "source": [
    "When the code reaches line 2, `a` is a reference to value `1`, and `num` is also a reference to the value `1`.\n",
    "\n",
    "Other than referring to the same value, `a` and `num` are not connected.\n",
    "\n",
    "After line 2 executes, `num` is updated to refer to value `2`, and `a` continues to refer to value `1`.\n",
    "\n",
    "[Python tutor link](https://pythontutor.com/visualize.html#code=def%20add_one%28num%29%3A%0A%20%20%20%20num%20%3D%20num%20%2B%201%0A%20%20%20%20print%28%22inside%20add_one%3A%20%22%20%2B%20str%28num%29%29%0A%0Aa%20%3D%201%0Aadd_one%28a%29%0Aprint%28f%22global%20scope%3A%20%22%20%2B%20str%28a%29%29&cumulative=false&curInstr=0&heapPrimitives=true&mode=display&origin=opt-frontend.js&py=3&rawInputLstJSON=%5B%5D&textReferences=false)\n"
   ]
  },
  {
   "cell_type": "markdown",
   "id": "47271e4c",
   "metadata": {
    "slideshow": {
     "slide_type": "subslide"
    }
   },
   "source": [
    "If a **value** is modified inside a function, references from outside the function will see the change."
   ]
  },
  {
   "cell_type": "code",
   "execution_count": null,
   "id": "1bf47cd9",
   "metadata": {},
   "outputs": [],
   "source": [
    "def add_one(nums):\n",
    "    nums[0] = nums[0] + 1\n",
    "    print(f\"inside add_one: {nums=}\")\n",
    "\n",
    "a = [1]\n",
    "add_one(a)\n",
    "print(f\"global scope {a=}\")"
   ]
  },
  {
   "cell_type": "markdown",
   "id": "681545e6",
   "metadata": {},
   "source": [
    "When the code reaches line 2, both `a` and `nums` refer to the same list `[0]`.\n",
    "\n",
    "After line 2 executes, the list value has changed. Because `a` and `nums` both refer to it, they both see the change.\n",
    "\n",
    "[Python tutor link](https://pythontutor.com/visualize.html#code=def%20add_one%28nums%29%3A%0A%20%20%20%20nums%5B0%5D%20%3D%20nums%5B0%5D%20%2B%201%0A%20%20%20%20print%28%22inside%20add_one%3A%20%22%20%2B%20str%28nums%29%29%0A%0Aa%20%3D%20%5B1%5D%0Aadd_one%28a%29%0Aprint%28f%22global%20scope%3A%20%22%20%2B%20str%28a%29%29&cumulative=false&curInstr=0&heapPrimitives=true&mode=display&origin=opt-frontend.js&py=3&rawInputLstJSON=%5B%5D&textReferences=false)\n"
   ]
  },
  {
   "cell_type": "markdown",
   "id": "a68f24c4",
   "metadata": {
    "slideshow": {
     "slide_type": "subslide"
    }
   },
   "source": [
    "# Another way to think about this\n",
    "\n",
    "If the word \"references\" is confusing, you can also think about a variable as a \"name\" for a value.\n",
    "\n",
    "Assignment (`=`) binds (or assigns) a name to a value. \n",
    "\n",
    "Passing an argument into a function also binds a name to a value. The name is the name of the function's parameter.\n",
    "\n",
    "One value might have multiple names at a time.\n",
    "\n",
    "When you assign (`=`), the value isn't copied. You've added a new name for the value."
   ]
  },
  {
   "cell_type": "markdown",
   "id": "4902b356",
   "metadata": {
    "slideshow": {
     "slide_type": "slide"
    }
   },
   "source": [
    "# copy\n",
    "\n",
    "Sometimes you want to make changes to a value, but keep those changes from being seen by any other reference to that value. In these cases, you can copy the value before modifying it.\n",
    "\n",
    "Python provides some tools in the `copy` [module](https://docs.python.org/3/library/copy.html).\n",
    "\n",
    "* `copy.copy()` will do a **shallow** copy - copy the outer value only\n",
    "* `copy.deepcopy()` will do a **deep** copy - copy all nested values. This only comes into play when you have things like nested lists.\n"
   ]
  },
  {
   "cell_type": "code",
   "execution_count": null,
   "id": "669cb639",
   "metadata": {},
   "outputs": [],
   "source": [
    "import copy\n",
    "a = [1,2,3]\n",
    "b = copy.copy(a)\n",
    "b[0] = 9\n",
    "print(f\"{a=} {b=}\")"
   ]
  },
  {
   "cell_type": "markdown",
   "id": "ac0f9f3c",
   "metadata": {
    "slideshow": {
     "slide_type": "-"
    }
   },
   "source": [
    "[Python Tutor link](https://pythontutor.com/render.html#code=import%20copy%0Aa%20%3D%20%5B1,2,3%5D%0Ab%20%3D%20copy.copy%28a%29%0Ab%5B0%5D%20%3D%209%0Aprint%28f%22%7Ba%3D%7D%20%7Bb%3D%7D%22%29&cumulative=false&curInstr=0&heapPrimitives=true&mode=display&origin=opt-frontend.js&py=311&rawInputLstJSON=%5B%5D&textReferences=false)"
   ]
  },
  {
   "cell_type": "markdown",
   "id": "b8a8adad",
   "metadata": {
    "slideshow": {
     "slide_type": "subslide"
    }
   },
   "source": [
    "This is most often useful in functions, where you don't want the function to mess with the caller's values."
   ]
  },
  {
   "cell_type": "code",
   "execution_count": null,
   "id": "8072fa7b",
   "metadata": {
    "slideshow": {
     "slide_type": "-"
    }
   },
   "outputs": [],
   "source": [
    "def add_one(nums):\n",
    "    newlist = copy.copy(nums)\n",
    "    for i in range(len(newlist)):\n",
    "        newlist[i] = newlist[i] + 1\n",
    "    return newlist\n",
    "\n",
    "a = [1,2,3]\n",
    "b = add_one(a)\n",
    "print(f\"{a=} {b=}\")"
   ]
  },
  {
   "cell_type": "markdown",
   "id": "330ebc43",
   "metadata": {},
   "source": [
    "[Python Tutor link](https://pythontutor.com/render.html#code=import%20copy%0Adef%20add_one%28nums%29%3A%0A%20%20%20%20newlist%20%3D%20copy.copy%28nums%29%0A%20%20%20%20for%20i%20in%20range%28len%28newlist%29%29%3A%0A%20%20%20%20%20%20%20%20newlist%5Bi%5D%20%3D%20newlist%5Bi%5D%20%2B%201%0A%20%20%20%20return%20newlist%0A%0Aa%20%3D%20%5B1,2,3%5D%0Ab%20%3D%20add_one%28a%29%0Aprint%28f%22%7Ba%3D%7D%20%7Bb%3D%7D%22%29&cumulative=false&curInstr=0&heapPrimitives=true&mode=display&origin=opt-frontend.js&py=311&rawInputLstJSON=%5B%5D&textReferences=false)"
   ]
  },
  {
   "cell_type": "markdown",
   "id": "a474b5a1",
   "metadata": {
    "slideshow": {
     "slide_type": "slide"
    }
   },
   "source": [
    "## Exercise: Reference Puzzles\n",
    "\n",
    "[Open the class exercises Codespace](https://codespaces.new/brandeis-cosi-10a/class-exercises?quickstart=1)\n",
    "\n",
    "Open the file: `exercises/07/01_reference_puzzles/README.md`, follow the instructions.\n",
    "* If you don't see this folder: Open the file: `get_exercises.sh`, click the \"Run\" button at the top right of the editor.\n"
   ]
  },
  {
   "cell_type": "markdown",
   "id": "9c7cc163",
   "metadata": {
    "slideshow": {
     "slide_type": "slide"
    }
   },
   "source": [
    "# Removing from lists in a loop"
   ]
  },
  {
   "cell_type": "code",
   "execution_count": null,
   "id": "a2c073fd",
   "metadata": {
    "slideshow": {
     "slide_type": "-"
    }
   },
   "outputs": [],
   "source": [
    "def remove_all(to_remove, nums):\n",
    "    for i in range(len(nums)):\n",
    "        if nums[i] == to_remove:\n",
    "            del nums[i]"
   ]
  },
  {
   "cell_type": "code",
   "execution_count": null,
   "id": "9d535bc9",
   "metadata": {},
   "outputs": [],
   "source": [
    "digits = [1,2,3,4,1]\n",
    "remove_all(1, digits)\n",
    "print(digits)"
   ]
  },
  {
   "cell_type": "markdown",
   "id": "f22648fa",
   "metadata": {
    "slideshow": {
     "slide_type": "subslide"
    }
   },
   "source": [
    "What's going on?"
   ]
  },
  {
   "cell_type": "markdown",
   "id": "ad52a098",
   "metadata": {
    "slideshow": {
     "slide_type": "fragment"
    }
   },
   "source": [
    "Python tutor to the rescue... [link](https://pythontutor.com/visualize.html#code=def%20remove_all%28to_remove,%20nums%29%3A%0A%20%20%20%20for%20i%20in%20range%28len%28nums%29%29%3A%0A%20%20%20%20%20%20%20%20if%20nums%5Bi%5D%20%3D%3D%20to_remove%3A%0A%20%20%20%20%20%20%20%20%20%20%20%20del%20nums%5Bi%5D%0A%20%20%20%20return%20nums%0Adigits%20%3D%20%5B1,2,3,4,1%5D%0Aremove_all%281,%20digits%29&cumulative=false&curInstr=16&heapPrimitives=nevernest&mode=display&origin=opt-frontend.js&py=3&rawInputLstJSON=%5B%5D&textReferences=false)"
   ]
  },
  {
   "cell_type": "markdown",
   "id": "f3451933",
   "metadata": {
    "slideshow": {
     "slide_type": "fragment"
    }
   },
   "source": [
    "Removing from a list while iterating over it is tricky, because the list changes as the loop proceeds.\n",
    "\n",
    "Two high level approaches\n",
    "* Iterate backwards\n",
    "* Create a new list, and add items that shouldn't be deleted"
   ]
  },
  {
   "cell_type": "markdown",
   "id": "57678de8",
   "metadata": {
    "slideshow": {
     "slide_type": "subslide"
    }
   },
   "source": [
    "Option 1: iterate backwards. Modifies the list in-place. [Python tutor link](https://pythontutor.com/visualize.html#code=%23%20Option%201%3A%20iterate%20backwards%0Adef%20remove_all%28to_remove,%20nums%29%3A%0A%20%20%20%20%23%20iterate%20backwards%20from%20len%28nums%29-1%20-%3E%200%0A%20%20%20%20for%20i%20in%20range%28len%28nums%29-1,%20-1,%20-1%29%3A%0A%20%20%20%20%20%20%20%20if%20nums%5Bi%5D%20%3D%3D%20to_remove%3A%0A%20%20%20%20%20%20%20%20%20%20%20%20del%20nums%5Bi%5D%0A%20%20%20%20return%20nums%0A%20%20%20%20%0Adigits%20%3D%20%5B1,2,3,4,1%5D%0Aremove_all%281,%20digits%29&cumulative=false&curInstr=19&heapPrimitives=nevernest&mode=display&origin=opt-frontend.js&py=3&rawInputLstJSON=%5B%5D&textReferences=false)"
   ]
  },
  {
   "cell_type": "code",
   "execution_count": null,
   "id": "f1ba76a3",
   "metadata": {
    "slideshow": {
     "slide_type": "-"
    }
   },
   "outputs": [],
   "source": [
    "def remove_all(to_remove, nums):\n",
    "    # iterate backwards from len(nums)-1 -> 0\n",
    "    for i in range(len(nums)-1, 0, -1):\n",
    "        if nums[i] == to_remove:\n",
    "            del nums[i] \n"
   ]
  },
  {
   "cell_type": "code",
   "execution_count": null,
   "id": "23b2d664",
   "metadata": {},
   "outputs": [],
   "source": [
    "digits = [1,2,3,4,1]\n",
    "remove_all(1, digits)\n",
    "print(digits)"
   ]
  },
  {
   "cell_type": "markdown",
   "id": "2fde3313",
   "metadata": {
    "slideshow": {
     "slide_type": "subslide"
    }
   },
   "source": [
    "Option 2: Make a new list of items that shouldn't be removed. Doesn't modify the original list. \n",
    "\n",
    "[Python tutor link](https://pythontutor.com/visualize.html#code=def%20remove_all%28to_remove,%20nums%29%3A%0A%20%20%20%20new_nums%20%3D%20%5B%5D%0A%20%20%20%20for%20n%20in%20nums%3A%0A%20%20%20%20%20%20%20%20if%20n%20!%3D%20to_remove%3A%0A%20%20%20%20%20%20%20%20%20%20%20%20new_nums.append%28n%29%0A%20%20%20%20return%20new_nums%0A%20%20%20%20%0Adigits%20%3D%20%5B1,2,3,4,1%5D%0Anew_digits%20%3D%20remove_all%281,%20digits%29%0Aprint%28f%22New%20digits%3A%20%7Bnew_digits%7D,%20original%20digits%3A%20%7Bdigits%7D%22%29&cumulative=false&curInstr=21&heapPrimitives=nevernest&mode=display&origin=opt-frontend.js&py=3&rawInputLstJSON=%5B%5D&textReferences=false)"
   ]
  },
  {
   "cell_type": "code",
   "execution_count": null,
   "id": "3ca5b387",
   "metadata": {
    "slideshow": {
     "slide_type": "-"
    }
   },
   "outputs": [],
   "source": [
    "def remove_all(to_remove, nums):\n",
    "    new_nums = []\n",
    "    for n in nums:\n",
    "        if n != to_remove:\n",
    "            new_nums.append(n)\n",
    "    return new_nums"
   ]
  },
  {
   "cell_type": "code",
   "execution_count": null,
   "id": "e4c12029",
   "metadata": {},
   "outputs": [],
   "source": [
    "digits = [1,2,3,4,1]\n",
    "new_digits = remove_all(1, digits)\n",
    "print(f\"New digits: {new_digits}, original digits: {digits}\")\n"
   ]
  },
  {
   "cell_type": "markdown",
   "id": "c240e062",
   "metadata": {
    "slideshow": {
     "slide_type": "slide"
    }
   },
   "source": [
    "# Sorting\n",
    "\n",
    "Lists come with a handy `sort()` method. It sorts the list in place. If the `reverse` parameter is set to `True`, the items will be sorted in descending order."
   ]
  },
  {
   "cell_type": "code",
   "execution_count": null,
   "id": "190160e6",
   "metadata": {},
   "outputs": [],
   "source": [
    "animals = [\"Zebra\", \"Aardvark\", \"Sloth\", \"Cat\", \"Dog\", \"Ferret\", \"2\", \"1\", \"10\", \"True\", \"1.1\"]\n",
    "animals.sort()\n",
    "print(animals)\n",
    "animals.sort(reverse=True)\n",
    "print(animals)"
   ]
  },
  {
   "cell_type": "markdown",
   "id": "afcd9d08",
   "metadata": {
    "slideshow": {
     "slide_type": "subslide"
    }
   },
   "source": [
    "If you don't want to modify the list in place, there is also a `sorted()` function that makes a new, sorted list:"
   ]
  },
  {
   "cell_type": "code",
   "execution_count": null,
   "id": "fe2bf9be",
   "metadata": {},
   "outputs": [],
   "source": [
    "animals = [\"Zebra\", \"Aardvark\", \"Sloth\", \"Cat\", \"Dog\", \"Ferret\"]\n",
    "new_animals = sorted(animals)\n",
    "print(f\"Original animals: {animals}\")\n",
    "print(f\"Sorted animals: {new_animals}\")"
   ]
  },
  {
   "cell_type": "markdown",
   "id": "0fb0d751",
   "metadata": {
    "slideshow": {
     "slide_type": "subslide"
    }
   },
   "source": [
    "## Sorting tuples\n",
    "\n",
    "Using `sort` on a list of tuples allows us to perform complex sorting.\n",
    "\n",
    "Tuples are sorted by first by their first values. If the first values tie, the second values are compared, and so on, until the tie is broken (or the 2 values are found to be the same).\n",
    "\n",
    "`(1, 9)` < `(2, 8)`        <-- First values are compared\n",
    "\n",
    "`(1, 9)` < `(1, 10)`       <-- Tie in first value, second values are compared\n",
    "\n",
    "`(1, 2, 3)` < `(1, 2, 4)`  <-- Tie in first 2 values, third values are compared"
   ]
  },
  {
   "cell_type": "markdown",
   "id": "0388ea52",
   "metadata": {
    "slideshow": {
     "slide_type": "subslide"
    }
   },
   "source": [
    "We can leverage this to perform more complicated sorts. Given:\n",
    "\n",
    "```\n",
    "animals = [\"Zebra\", \"Aardvark\", \"Sloth\", \"Cat\", \"Dog\", \"Ferret\"]\n",
    "sizes = [100, 40, 50, 10, 20, 5]\n",
    "```\n",
    "\n",
    "Let's sort our animals by size."
   ]
  },
  {
   "cell_type": "markdown",
   "id": "23a3ae86",
   "metadata": {
    "slideshow": {
     "slide_type": "fragment"
    }
   },
   "source": [
    "This is complicated! Our approach to this type of problem is:\n",
    "\n",
    "1. Create a list that holds tuples; each tuple should contain the sort value first, and the other value second.\n",
    "2. Sort the list of tuples.\n",
    "3. Iterate over the sorted list, extracting whatever is needed from each tuple."
   ]
  },
  {
   "cell_type": "code",
   "execution_count": null,
   "id": "65368d1b",
   "metadata": {
    "slideshow": {
     "slide_type": "subslide"
    }
   },
   "outputs": [],
   "source": [
    "animals = [\"Zebra\", \"Aardvark\", \"Sloth\", \"Cat\", \"Dog\", \"Ferret\"]\n",
    "sizes = [100, 40, 50, 10, 20, 5]\n",
    "\n",
    "combined = []\n",
    "for i in range(len(animals)):\n",
    "    combined.append((sizes[i], animals[i]))\n",
    "print(combined)\n",
    "\n",
    "combined.sort(reverse=True)\n",
    "\n",
    "print(combined)\n",
    "for i in range(len(combined)):\n",
    "    print(f\"Animal {combined[i][1]} is #{i+1} in size at {combined[i][0]} lbs.\")\n"
   ]
  },
  {
   "cell_type": "markdown",
   "id": "b03f7f95",
   "metadata": {
    "slideshow": {
     "slide_type": "slide"
    }
   },
   "source": [
    "# Nested lists\n",
    "\n",
    "Lists can contain other lists. You can chain brackets (`[]`) to access individual items.\n",
    "\n",
    "Here is a list which contains 5 lists, each of which contain 5 strings:"
   ]
  },
  {
   "cell_type": "code",
   "execution_count": null,
   "id": "6beed908",
   "metadata": {},
   "outputs": [],
   "source": [
    "ascii_art = [\n",
    "    ['-', '*', '-', '*', '-'],\n",
    "    ['-', '*', '-', '*', '-'],\n",
    "    ['*', '-', '*', '-', '*'],\n",
    "     ['*', '*', '-', '*', '*'],\n",
    "    ['-', '-', '*', '-', '-'],\n",
    "]"
   ]
  },
  {
   "cell_type": "code",
   "execution_count": null,
   "id": "28f48622",
   "metadata": {},
   "outputs": [],
   "source": [
    "print(ascii_art[0])"
   ]
  },
  {
   "cell_type": "code",
   "execution_count": null,
   "id": "e45d526f",
   "metadata": {},
   "outputs": [],
   "source": [
    "print(ascii_art[0][1])"
   ]
  },
  {
   "cell_type": "code",
   "execution_count": null,
   "id": "84e10a65",
   "metadata": {},
   "outputs": [],
   "source": [
    "print(ascii_art[4][3])"
   ]
  },
  {
   "cell_type": "markdown",
   "id": "fca2cb7b",
   "metadata": {
    "slideshow": {
     "slide_type": "subslide"
    }
   },
   "source": [
    "You can write nested `for` loops to iterate over all the items in nested lists. [Python tutor link](https://pythontutor.com/visualize.html#code=ascii_art%20%3D%20%5B%0A%20%20%20%20%5B'-',%20'*',%20'-',%20'*',%20'-'%5D,%0A%20%20%20%20%5B'-',%20'*',%20'-',%20'*',%20'-'%5D,%0A%20%20%20%20%5B'*',%20'-',%20'*',%20'-',%20'*'%5D,%0A%20%20%20%20%5B'*',%20'*',%20'-',%20'*',%20'*'%5D,%0A%20%20%20%20%5B'-',%20'-',%20'*',%20'-',%20'-'%5D,%0A%5D%0A%0Afor%20row%20in%20ascii_art%3A%0A%20%20%20%20for%20cell%20in%20row%3A%0A%20%20%20%20%20%20%20%20print%28cell,%20end%3D''%29%0A%20%20%20%20print%28%29&cumulative=false&curInstr=34&heapPrimitives=nevernest&mode=display&origin=opt-frontend.js&py=3&rawInputLstJSON=%5B%5D&textReferences=false)"
   ]
  },
  {
   "cell_type": "code",
   "execution_count": null,
   "id": "7730ed85",
   "metadata": {},
   "outputs": [],
   "source": [
    "for row in ascii_art:\n",
    "    for cell in row:\n",
    "        print(cell, end='')\n",
    "    print()"
   ]
  },
  {
   "cell_type": "markdown",
   "id": "ae2e7a19",
   "metadata": {
    "slideshow": {
     "slide_type": "subslide"
    }
   },
   "source": [
    "Nesting can be arbitrarily deep (although this is often not a good idea):"
   ]
  },
  {
   "cell_type": "code",
   "execution_count": null,
   "id": "443f1d6e",
   "metadata": {
    "slideshow": {
     "slide_type": "-"
    }
   },
   "outputs": [],
   "source": [
    "f = [1, [2, [3, 4, [5, 6], 7], 8], 9, 10]\n",
    "f"
   ]
  },
  {
   "cell_type": "code",
   "execution_count": null,
   "id": "fa5530bc",
   "metadata": {},
   "outputs": [],
   "source": [
    "print(f[1][1][2][0])"
   ]
  },
  {
   "cell_type": "markdown",
   "id": "1b44676c",
   "metadata": {
    "slideshow": {
     "slide_type": "slide"
    }
   },
   "source": [
    "## Example\n",
    "\n",
    "Imagine we store our personal appointment calendar in a nested list: the outer list contains one entry for each day. The inner list holds a list of appointments for the day.\n",
    "\n",
    "Write a function that will take in calendar data as a nested list, and print out our appointments for each day."
   ]
  },
  {
   "cell_type": "code",
   "execution_count": null,
   "id": "e9e8888c",
   "metadata": {
    "slideshow": {
     "slide_type": "subslide"
    }
   },
   "outputs": [],
   "source": [
    "def print_appointments(calendar_data):\n",
    "    for day_data in calendar_data:\n",
    "        print(f\"Appointments for today:\")\n",
    "        for appt in day_data:\n",
    "            print(appt)"
   ]
  },
  {
   "cell_type": "markdown",
   "id": "5246b17c",
   "metadata": {
    "slideshow": {
     "slide_type": "subslide"
    }
   },
   "source": [
    "Let's make some data to test with:"
   ]
  },
  {
   "cell_type": "code",
   "execution_count": null,
   "id": "e4cf56cb",
   "metadata": {},
   "outputs": [],
   "source": [
    "calendar = []\n",
    "\n",
    "for i in range(30):\n",
    "    calendar.append([])\n",
    "\n",
    "calendar[1].append(\"Brunch\")\n",
    "calendar[3].append(\"Soccer match\")\n",
    "calendar[3].append(\"Exam\")\n",
    "calendar[12].append(\"Birthday party\")\n",
    "calendar[13].append(\"Job interview\")\n",
    "calendar[20].append(\"Homework 1\")\n",
    "calendar[20].append(\"Homework 2\")\n",
    "calendar[20].append(\"Homework 3\")\n",
    "\n",
    "i = 1\n",
    "for day_data in calendar:\n",
    "    j = 1\n",
    "    print(f\"Appointments for a day: {i}\")\n",
    "    for appointment in day_data:\n",
    "        print(appointment)\n",
    "        j += 1\n",
    "    i += 1"
   ]
  },
  {
   "cell_type": "code",
   "execution_count": null,
   "id": "60f82dfd",
   "metadata": {
    "slideshow": {
     "slide_type": "subslide"
    }
   },
   "outputs": [],
   "source": [
    "print_appointments(calendar)"
   ]
  },
  {
   "cell_type": "markdown",
   "id": "a23134cd",
   "metadata": {},
   "source": [
    "Let's print out the dates, and number our appointments each day. We need to switch to using `for i in range(len(...))` so that we have access to the list indices."
   ]
  },
  {
   "cell_type": "code",
   "execution_count": null,
   "id": "5cdce534",
   "metadata": {
    "slideshow": {
     "slide_type": "subslide"
    }
   },
   "outputs": [],
   "source": [
    "def print_appointments(calendar_data):\n",
    "    for i in range(len(calendar_data)):\n",
    "        print(f\"Appointment data for day {i+1}:\")\n",
    "        for j in range(len(calendar_data[i])):\n",
    "            print(f\"{j+1}: {calendar_data[i][j]}\")\n",
    "\n",
    "print_appointments(calendar)"
   ]
  },
  {
   "cell_type": "markdown",
   "id": "01239061",
   "metadata": {
    "slideshow": {
     "slide_type": "subslide"
    }
   },
   "source": [
    "Let's skip days with no events:"
   ]
  },
  {
   "cell_type": "code",
   "execution_count": null,
   "id": "022e2a27",
   "metadata": {
    "slideshow": {
     "slide_type": "subslide"
    }
   },
   "outputs": [],
   "source": [
    "def print_appointments(calendar_data):\n",
    "    for i in range(len(calendar_data)):\n",
    "        if len(calendar_data[i]) != 0:\n",
    "            print(f\"Appointment data for day {i+1}:\")\n",
    "            for j in range(len(calendar_data[i])):\n",
    "                print(f\"{j+1}: {calendar_data[i] [j]}\")\n",
    "\n",
    "print_appointments(calendar)"
   ]
  },
  {
   "cell_type": "markdown",
   "id": "c9b5fe87",
   "metadata": {
    "slideshow": {
     "slide_type": "slide"
    }
   },
   "source": [
    "## Example: find the most fit person\n",
    "\n",
    "Let's say we have some data representing the dates on which people exercised this month. Write a program that prints out which person exerecised the most, and the number of times they exercised.\n",
    "\n",
    "Example data:\n",
    "```\n",
    "data = [\n",
    "    [1, 7, 15, 31],\n",
    "    [2, 21],\n",
    "    [5],\n",
    "    [1, 3, 5, 7, 9, 11, 13, 15, 17, 19, 21, 23, 25, 27, 29],\n",
    "    [1, 2, 3, 4, 5, 6]\n",
    "]\n",
    "```"
   ]
  },
  {
   "cell_type": "markdown",
   "id": "66c249bf",
   "metadata": {
    "slideshow": {
     "slide_type": "subslide"
    }
   },
   "source": [
    "Our strategy here will be very similar to what we did for \"cumulative loops\":\n",
    "1. Declare some variables to hold the max values.\n",
    "2. Loop over every item in the outer list, and check whether it's the longest we've seen so far.  \n",
    "   2a. If it is, record the max, and also the index of the max\n",
    "3. At the end, print out the max and max index."
   ]
  },
  {
   "cell_type": "code",
   "execution_count": null,
   "id": "928241bc",
   "metadata": {
    "slideshow": {
     "slide_type": "subslide"
    }
   },
   "outputs": [],
   "source": [
    "data = [\n",
    "    [1, 7, 15, 31],\n",
    "    [2, 21],\n",
    "    [5],\n",
    "    [1, 3, 5, 7, 9, 11, 13, 15, 17, 19, 21, 23, 25, 27, 29],\n",
    "    [1, 2, 3, 4, 5, 6]\n",
    "]\n",
    "\n",
    "most = 0\n",
    "most_index = 0\n",
    "for i in range(len(data)):\n",
    "    if len(data[i]) > most:\n",
    "        most = len(data[i])\n",
    "        most_index = i\n",
    "print(f\"Person #{most_index+1} exercised the most, with {most} days of exercise!\")"
   ]
  },
  {
   "cell_type": "markdown",
   "id": "0f0640a2",
   "metadata": {
    "slideshow": {
     "slide_type": "subslide"
    }
   },
   "source": [
    "A tweak to this: we're also given a parallel list of names. Print out the name of the person who exercised the most."
   ]
  },
  {
   "cell_type": "code",
   "execution_count": null,
   "id": "4e3c1a93",
   "metadata": {
    "slideshow": {
     "slide_type": "-"
    }
   },
   "outputs": [],
   "source": [
    "names = [\"Spongebob\", \"Batman\", \"Dora\", \"Peppa\", \"Bill Murray\"]\n",
    "data = [\n",
    "    [1, 7, 15, 31],\n",
    "    [2, 21],\n",
    "    [5],\n",
    "    [1, 3, 5, 7, 9, 11, 13, 15, 17, 19, 21, 23, 25, 27, 29],\n",
    "    [1, 2, 3, 4, 5, 6]\n",
    "]"
   ]
  },
  {
   "cell_type": "code",
   "execution_count": null,
   "id": "49d3673a",
   "metadata": {
    "slideshow": {
     "slide_type": "subslide"
    }
   },
   "outputs": [],
   "source": [
    "names = [\"Spongebob\", \"Batman\", \"Dora\", \"Peppa\", \"Bill Murray\"]\n",
    "data = [\n",
    "    [1, 7, 15, 31],\n",
    "    [2, 21],\n",
    "    [5],\n",
    "    [1, 3, 5, 7, 9, 11, 13, 15, 17, 19, 21, 23, 25, 27, 29],\n",
    "    [1, 2, 3, 4, 5, 6]\n",
    "]\n",
    "\n",
    "most = 0\n",
    "most_name = \"\"\n",
    "for i in range(len(names)):\n",
    "    if len(data[i]) > most:\n",
    "        most = len(data[i])\n",
    "        most_name = names[i]\n",
    "print(f\"{most_name} exercised the most, with {most} days of exercise!\")"
   ]
  },
  {
   "cell_type": "markdown",
   "id": "dbf0a582",
   "metadata": {
    "slideshow": {
     "slide_type": "subslide"
    }
   },
   "source": [
    "## Example: sort by days exercised\n",
    "\n",
    "Sort the list of names in the order of the number of days they exercised.\n",
    "\n",
    "For this, we need to use the tuple sorting trick we looked at earlier."
   ]
  },
  {
   "cell_type": "markdown",
   "id": "340b287a",
   "metadata": {
    "slideshow": {
     "slide_type": "subslide"
    }
   },
   "source": [
    "Solution: \n",
    "1. Create a list that holds tuples; each tuple should contain the number of exercise days first, then the name\n",
    "2. Sort the list of tuples.\n",
    "3. Iterate over the sorted list, grabbing the name from each tuple."
   ]
  },
  {
   "cell_type": "code",
   "execution_count": null,
   "id": "cb3ce1c8",
   "metadata": {
    "slideshow": {
     "slide_type": "subslide"
    }
   },
   "outputs": [],
   "source": [
    "names = [\"Spongebob\", \"Batman\", \"Dora\", \"Peppa\", \"Bill Murray\"]\n",
    "data = [\n",
    "    [1, 7, 15, 31],\n",
    "    [2, 21],\n",
    "    [5],\n",
    "    [1, 3, 5, 7, 9, 11, 13, 15, 17, 19, 21, 23, 25, 27, 29],\n",
    "    [1, 2, 3, 4, 5, 6]\n",
    "]\n",
    "\n",
    "sortable = []\n",
    "for i in range(len(names)):\n",
    "    sortable.append((len(data[i]), names[i]))\n",
    "\n",
    "print(sortable)\n",
    "\n",
    "sortable.sort(reverse=True)\n",
    " \n",
    "print(sortable)\n",
    "\n",
    "final_answer = []\n",
    "for i in range(len(sortable)):\n",
    "    print(sortable[i])\n",
    "    final_answer.append(sortable[i][1])\n",
    "\n",
    "print(final_answer)"
   ]
  },
  {
   "cell_type": "markdown",
   "id": "78ed08c6",
   "metadata": {},
   "source": [
    "[PythonTutor link](https://pythontutor.com/render.html#code=names%20%3D%20%5B%22Spongebob%22,%20%22Batman%22,%20%22Dora%22,%20%22Peppa%22,%20%22Bill%20Murray%22%5D%0Adata%20%3D%20%5B%0A%20%20%20%20%5B1,%207,%2015,%2031%5D,%0A%20%20%20%20%5B2,%2021%5D,%0A%20%20%20%20%5B5%5D,%0A%20%20%20%20%5B1,%203,%205,%207,%209,%2011,%2013,%2015,%2017,%2019,%2021,%2023,%2025,%2027,%2029%5D,%0A%20%20%20%20%5B1,%202,%203,%204,%205,%206%5D%0A%5D%0A%0Asortable%20%3D%20%5B%5D%0Afor%20dates,%20name%20in%20zip%28data,%20names%29%3A%0A%20%20%20%20sortable.append%28%28len%28dates%29,%20name%29%29%0A%0Asortable.sort%28%29%0A%0Afinal_answer%20%3D%20%5B%5D%0Afor%20num_dates,%20name%20in%20sortable%3A%0A%20%20%20%20final_answer.append%28name%29%0A%0Aprint%28final_answer%29&cumulative=false&curInstr=0&heapPrimitives=nevernest&mode=display&origin=opt-frontend.js&py=311&rawInputLstJSON=%5B%5D&textReferences=false)"
   ]
  }
 ],
 "metadata": {
  "celltoolbar": "Slideshow",
  "kernelspec": {
   "display_name": "Python 3 (ipykernel)",
   "language": "python",
   "name": "python3"
  },
  "language_info": {
   "codemirror_mode": {
    "name": "ipython",
    "version": 3
   },
   "file_extension": ".py",
   "mimetype": "text/x-python",
   "name": "python",
   "nbconvert_exporter": "python",
   "pygments_lexer": "ipython3",
   "version": "3.9.6"
  }
 },
 "nbformat": 4,
 "nbformat_minor": 5
}
