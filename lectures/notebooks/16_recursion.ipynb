{
 "cells": [
  {
   "cell_type": "markdown",
   "id": "1ee8a1d2",
   "metadata": {
    "slideshow": {
     "slide_type": "slide"
    }
   },
   "source": [
    "# Recursion\n",
    "\n",
    "<style>\n",
    "section.present > section.present { \n",
    "    max-height: 90%; \n",
    "    overflow-y: scroll;\n",
    "}\n",
    "</style>\n",
    "\n",
    "<small><a href=\"https://colab.research.google.com/github/brandeis-jdelfino/cosi-10a/blob/main/lectures/notebooks/16_recursion.ipynb\">Link to interactive slides on Google Colab</a></small>"
   ]
  },
  {
   "cell_type": "markdown",
   "id": "db07bff7",
   "metadata": {
    "slideshow": {
     "slide_type": "slide"
    }
   },
   "source": [
    "## Fibonacci sequence\n",
    "\n",
    "The \"Fibonacci sequence\" is a famous sequence of numbers.\n",
    "\n",
    "The sequence starts with:\n",
    "\n",
    "0, 1, 1, 2, 3, 5, 8, 13, 21, 34, 55, 89, ...\n",
    "\n",
    "The first two numbers are 0 and 1. After that, each number is the sum of the 2 numbers before it."
   ]
  },
  {
   "cell_type": "markdown",
   "id": "a8119a92",
   "metadata": {
    "slideshow": {
     "slide_type": "subslide"
    }
   },
   "source": [
    "We can write code to generate the `n`th Fibonacci number:"
   ]
  },
  {
   "cell_type": "code",
   "execution_count": null,
   "id": "14e32cdb",
   "metadata": {
    "execution": {
     "iopub.execute_input": "2023-11-14T03:23:52.543215Z",
     "iopub.status.busy": "2023-11-14T03:23:52.542866Z",
     "iopub.status.idle": "2023-11-14T03:23:52.559680Z",
     "shell.execute_reply": "2023-11-14T03:23:52.558588Z"
    }
   },
   "outputs": [],
   "source": [
    "def fib(n):\n",
    "    if n == 0:\n",
    "        return 0\n",
    "    elif n == 1:\n",
    "        return 1\n",
    "    else:\n",
    "        first = 0\n",
    "        second = 1\n",
    "        for i in range(n-1):\n",
    "            nextnum = first + second\n",
    "            first = second\n",
    "            second = nextnum\n",
    "        return second"
   ]
  },
  {
   "cell_type": "code",
   "execution_count": null,
   "id": "b8c2d549",
   "metadata": {
    "execution": {
     "iopub.execute_input": "2023-11-14T03:23:52.564149Z",
     "iopub.status.busy": "2023-11-14T03:23:52.563741Z",
     "iopub.status.idle": "2023-11-14T03:23:52.569066Z",
     "shell.execute_reply": "2023-11-14T03:23:52.567972Z"
    },
    "slideshow": {
     "slide_type": "subslide"
    }
   },
   "outputs": [],
   "source": [
    "for i in range(10):\n",
    "    print(fib(i))"
   ]
  },
  {
   "cell_type": "code",
   "execution_count": null,
   "id": "23a59fb0",
   "metadata": {
    "execution": {
     "iopub.execute_input": "2023-11-14T03:23:52.574365Z",
     "iopub.status.busy": "2023-11-14T03:23:52.573696Z",
     "iopub.status.idle": "2023-11-14T03:23:52.578113Z",
     "shell.execute_reply": "2023-11-14T03:23:52.577307Z"
    }
   },
   "outputs": [],
   "source": [
    "print(fib(35))"
   ]
  },
  {
   "cell_type": "markdown",
   "id": "af73db0a",
   "metadata": {
    "slideshow": {
     "slide_type": "slide"
    }
   },
   "source": [
    "Great! But here's another option:"
   ]
  },
  {
   "cell_type": "code",
   "execution_count": null,
   "id": "a227a6c1",
   "metadata": {
    "execution": {
     "iopub.execute_input": "2023-11-14T03:23:52.582042Z",
     "iopub.status.busy": "2023-11-14T03:23:52.581724Z",
     "iopub.status.idle": "2023-11-14T03:23:52.586356Z",
     "shell.execute_reply": "2023-11-14T03:23:52.585431Z"
    }
   },
   "outputs": [],
   "source": [
    "def fib(n):\n",
    "    if n == 0:\n",
    "        return 0\n",
    "    elif n == 1:\n",
    "        return 1\n",
    "    else:\n",
    "        return fib(n-1) + fib(n-2)"
   ]
  },
  {
   "cell_type": "code",
   "execution_count": null,
   "id": "e3bb8b21",
   "metadata": {
    "execution": {
     "iopub.execute_input": "2023-11-14T03:23:52.590419Z",
     "iopub.status.busy": "2023-11-14T03:23:52.590072Z",
     "iopub.status.idle": "2023-11-14T03:23:52.594733Z",
     "shell.execute_reply": "2023-11-14T03:23:52.593733Z"
    },
    "slideshow": {
     "slide_type": "subslide"
    }
   },
   "outputs": [],
   "source": [
    "for i in range(10):\n",
    "    print(fib(i))"
   ]
  },
  {
   "cell_type": "code",
   "execution_count": null,
   "id": "959bfd14",
   "metadata": {
    "execution": {
     "iopub.execute_input": "2023-11-14T03:23:52.598535Z",
     "iopub.status.busy": "2023-11-14T03:23:52.598216Z",
     "iopub.status.idle": "2023-11-14T03:23:57.416911Z",
     "shell.execute_reply": "2023-11-14T03:23:57.415906Z"
    }
   },
   "outputs": [],
   "source": [
    "print(fib(35))"
   ]
  },
  {
   "cell_type": "markdown",
   "id": "39d97e14",
   "metadata": {
    "slideshow": {
     "slide_type": "subslide"
    }
   },
   "source": [
    "## Recursion\n",
    "\n",
    "When a function calls itself, it is called **recursion**."
   ]
  },
  {
   "cell_type": "markdown",
   "id": "685e065e",
   "metadata": {
    "slideshow": {
     "slide_type": "subslide"
    }
   },
   "source": [
    "## Recursion\n",
    "\n",
    "Recursion is often not an efficient solution, as we saw above.\n",
    "\n",
    "It is virtually never used in production code. There is always a way to re-write a recursive solution using loops."
   ]
  },
  {
   "cell_type": "markdown",
   "id": "9a232b62",
   "metadata": {
    "slideshow": {
     "slide_type": "fragment"
    }
   },
   "source": [
    "So why learn it?"
   ]
  },
  {
   "cell_type": "markdown",
   "id": "11be954f",
   "metadata": {
    "slideshow": {
     "slide_type": "subslide"
    }
   },
   "source": [
    "## Recursion - why learn it?\n",
    "\n",
    "2 reasons:\n",
    "\n",
    "1. Some algorithms are **much simpler** to express recursively.\n",
    "2. It is often easier to prove things (such as correctness or efficiency) about the recursive version of an algorithm. \n",
    "\n",
    "If you continue into Computer Science, recursion is a critical concept.\n",
    "\n",
    "If you don't, it is still a useful, interesting way to try to break some problems down."
   ]
  },
  {
   "cell_type": "markdown",
   "id": "6ed74834",
   "metadata": {
    "slideshow": {
     "slide_type": "slide"
    }
   },
   "source": [
    "## The recursion formula\n",
    "\n",
    "In recursion, we talk about 2 things: **base cases** and **recursive steps**.\n",
    "\n",
    "**Base case(s)** are the cases we immediately know the answer to.\n",
    "* Base cases don't call the same function again.\n",
    "* If you don't define at least one base case, your recursive function will go on forever.\n",
    "* For the Fibonacci numbers, the base cases are the first 2 numbers: 0 and 1\n",
    "\n",
    "**Recursive step(s)** are the steps where we apply the same function to a smaller or simpler version of the input.\n",
    "* Recursive steps must be guaranteed to somehow get \"closer\" to the base case, otherwise your recursive function will go on forever.\n",
    "* For the Fibonacci numbers, we calculate the `n`th number by computing the `n-1`th and `n-2`th number with the same function."
   ]
  },
  {
   "cell_type": "code",
   "execution_count": null,
   "id": "6f2e53a0",
   "metadata": {
    "execution": {
     "iopub.execute_input": "2023-11-14T03:23:57.423061Z",
     "iopub.status.busy": "2023-11-14T03:23:57.422667Z",
     "iopub.status.idle": "2023-11-14T03:23:57.431135Z",
     "shell.execute_reply": "2023-11-14T03:23:57.428500Z"
    },
    "slideshow": {
     "slide_type": "subslide"
    }
   },
   "outputs": [],
   "source": [
    "def fib(n):\n",
    "    if n == 0:    # base case 1\n",
    "        return 0\n",
    "    elif n == 1:  # base case 2\n",
    "        return 1\n",
    "    else:         # recursive case\n",
    "        return fib(n-1) + fib(n-2)"
   ]
  },
  {
   "cell_type": "markdown",
   "id": "352a6f1b",
   "metadata": {
    "slideshow": {
     "slide_type": "slide"
    }
   },
   "source": [
    "## Exercise\n",
    "\n",
    "Write a recursive function to sum the digits of a number."
   ]
  },
  {
   "cell_type": "markdown",
   "id": "aa90db6e",
   "metadata": {
    "slideshow": {
     "slide_type": "fragment"
    }
   },
   "source": [
    "What is our base case?\n",
    "\n",
    "What is our recursive step?"
   ]
  },
  {
   "cell_type": "markdown",
   "id": "59c0fd3f",
   "metadata": {
    "slideshow": {
     "slide_type": "subslide"
    }
   },
   "source": [
    "Base case: a single digit number sums to itself\n",
    "\n",
    "Recursive step: compute the sum of the first `n-1` digits, and add the `n`th digit to that sum"
   ]
  },
  {
   "cell_type": "code",
   "execution_count": null,
   "id": "f529ff46",
   "metadata": {
    "execution": {
     "iopub.execute_input": "2023-11-14T03:23:57.436826Z",
     "iopub.status.busy": "2023-11-14T03:23:57.436435Z",
     "iopub.status.idle": "2023-11-14T03:23:57.441040Z",
     "shell.execute_reply": "2023-11-14T03:23:57.439984Z"
    }
   },
   "outputs": [],
   "source": [
    "def sum_digits(num):\n",
    "    if num < 10:     # base case\n",
    "        return num\n",
    "    else:\n",
    "        return (num % 10) + sum_digits(num // 10)"
   ]
  },
  {
   "cell_type": "code",
   "execution_count": null,
   "id": "1b9e67b1",
   "metadata": {
    "execution": {
     "iopub.execute_input": "2023-11-14T03:23:57.445869Z",
     "iopub.status.busy": "2023-11-14T03:23:57.445334Z",
     "iopub.status.idle": "2023-11-14T03:23:57.452389Z",
     "shell.execute_reply": "2023-11-14T03:23:57.451219Z"
    }
   },
   "outputs": [],
   "source": [
    "print(sum_digits(1234))\n",
    "print(sum_digits(999999999))"
   ]
  },
  {
   "cell_type": "markdown",
   "id": "1b4a9416",
   "metadata": {
    "slideshow": {
     "slide_type": "slide"
    }
   },
   "source": [
    "## Exercise\n",
    "\n",
    "Write a recursive function to calculate the power of a number, given the base and exponent.\n",
    "\n",
    "What is the base case? What is the recursive step?"
   ]
  },
  {
   "cell_type": "markdown",
   "id": "f6bf3496",
   "metadata": {
    "slideshow": {
     "slide_type": "subslide"
    }
   },
   "source": [
    "Base case: exponent is 0\n",
    "\n",
    "Recursive case: compute the power of `base` and `exponent-1`, and multiply that by `base`."
   ]
  },
  {
   "cell_type": "code",
   "execution_count": null,
   "id": "d041075d",
   "metadata": {
    "execution": {
     "iopub.execute_input": "2023-11-14T03:23:57.457478Z",
     "iopub.status.busy": "2023-11-14T03:23:57.456739Z",
     "iopub.status.idle": "2023-11-14T03:23:57.462775Z",
     "shell.execute_reply": "2023-11-14T03:23:57.461625Z"
    }
   },
   "outputs": [],
   "source": [
    "def raise_to_power(base, exponent):\n",
    "    if exponent == 0:\n",
    "        return 1\n",
    "    else:\n",
    "        return raise_to_power(base, exponent-1) * base"
   ]
  },
  {
   "cell_type": "code",
   "execution_count": null,
   "id": "ec460894",
   "metadata": {
    "execution": {
     "iopub.execute_input": "2023-11-14T03:23:57.468643Z",
     "iopub.status.busy": "2023-11-14T03:23:57.468245Z",
     "iopub.status.idle": "2023-11-14T03:23:57.474118Z",
     "shell.execute_reply": "2023-11-14T03:23:57.472646Z"
    }
   },
   "outputs": [],
   "source": [
    "print(raise_to_power(2, 4))\n",
    "print(raise_to_power(10, 3))\n",
    "print(raise_to_power(1.5, 15))"
   ]
  },
  {
   "cell_type": "markdown",
   "id": "b7ffb224",
   "metadata": {
    "slideshow": {
     "slide_type": "slide"
    }
   },
   "source": [
    "## Exercise\n",
    "\n",
    "Write a function to solve a [Tower of Hanoi](https://en.wikipedia.org/wiki/Tower_of_Hanoi) puzzle.\n",
    "\n",
    "This one is trickier."
   ]
  },
  {
   "cell_type": "markdown",
   "id": "aed46776",
   "metadata": {
    "slideshow": {
     "slide_type": "subslide"
    }
   },
   "source": [
    "Let's define some notation and assumptions.\n",
    "\n",
    "* We have 3 pegs to work with, and we'll label them `a`, `b`, and `c`.\n",
    "* Discs are labeled `1` through `n`, with disc `1` being the smallest and `n` being the largest.\n",
    "* The game starts with `n` discs on peg `a`."
   ]
  },
  {
   "cell_type": "markdown",
   "id": "ea98cd41",
   "metadata": {
    "slideshow": {
     "slide_type": "subslide"
    }
   },
   "source": [
    "## Key insight\n",
    "\n",
    "If we have a valid stack of discs, and need to move the top `m` of them from peg `a` to `c`, we first have to move `m-1` discs to peg `b` to free up disc `m`."
   ]
  },
  {
   "cell_type": "markdown",
   "id": "2cf6fe34",
   "metadata": {
    "slideshow": {
     "slide_type": "subslide"
    }
   },
   "source": [
    "The point of the game is: \"Move `n` discs from `a` to `c`\"\n",
    "\n",
    "Using our key insight, we can break that down into a few smaller steps:\n",
    "\n",
    "1. Move `n` discs from `a` to `c` by doing:\n",
    "   1. Move `n-1` discs from `a` to `b`.\n",
    "   2. Move disc `n` to `c`.\n",
    "   3. Move `n-1` discs from `b` to `c`."
   ]
  },
  {
   "cell_type": "markdown",
   "id": "530e2443",
   "metadata": {
    "slideshow": {
     "slide_type": "subslide"
    }
   },
   "source": [
    "We can then expand further: \"Move the top `n-1` discs from `a` to `b`\" becomes:\n",
    "\n",
    "1. Move `n-2` discs from `a` to `c`.\n",
    "2. Move disc `n-1` to `b`.\n",
    "3. Move `n-2` discs from `c` to `b`.\n"
   ]
  },
  {
   "cell_type": "markdown",
   "id": "69f89576",
   "metadata": {
    "slideshow": {
     "slide_type": "subslide"
    }
   },
   "source": [
    "So now our entire game looks like this: \n",
    "\n",
    "1. Move `n` discs from `a` to `c` by doing:\n",
    "   1. Move `n-1` discs from `a` to `b`.\n",
    "      1. Move `n-2` discs from `a` to `c`.\n",
    "      2. Move disc `n-1` to `b`.\n",
    "      3. Move the `n-2` discs from `c` to `b`.\n",
    "   2. Move disc `n` to `c`.\n",
    "   3. Move `n-1` discs from `b` to `c`."
   ]
  },
  {
   "cell_type": "markdown",
   "id": "015f16cb",
   "metadata": {
    "slideshow": {
     "slide_type": "subslide"
    }
   },
   "source": [
    "We can similarly expand the last step:\n",
    "\n",
    "1. Move `n` discs from `a` to `c` by doing:\n",
    "    1. Move `n-1` discs from `a` to `b` by doing:\n",
    "       1. Move `n-2` discs from `a` to `c`.\n",
    "       2. Move disc `n-1` to `b`.\n",
    "       3. Move `n-2` discs from `c` to `b`.\n",
    "    2. Move disc `n` to peg `c`.\n",
    "    3. Move `n-1` discs from `b` to `c` by doing:\n",
    "       1. Move `n-2` discs from `b` to `a`.\n",
    "       2. Move disc `n-1` to `c`.\n",
    "       3. Move `n-2` discs from `a` to `c`.\n"
   ]
  },
  {
   "cell_type": "markdown",
   "id": "1d89d9ff",
   "metadata": {
    "slideshow": {
     "slide_type": "subslide"
    }
   },
   "source": [
    "One more level...\n",
    "\n",
    "1. Move `n` discs from `a` to `c` by doing:\n",
    "    1. Move `n-1` discs from `a` to `b` by doing:\n",
    "       1. Move `n-2` discs from `a` to `c` by doing:\n",
    "          1. Move `n-3` discs from `a` to `b`.\n",
    "          1. Move disc `n-2` to `c`\n",
    "          1. Move `n-3` discs from `b` to `c`.   \n",
    "       2. Move disc `n-1` to `b`.\n",
    "       3. Move `n-2` discs from `c` to `b`.\n",
    "    2. Move disc `n` to peg `c`.\n",
    "    3. Move `n-1` discs from `b` to `c` by doing:\n",
    "       1. Move `n-2` discs from `b` to `a`.\n",
    "       2. Move disc `n-1` to `c`.\n",
    "       3. Move `n-2` discs from `a` to `c`."
   ]
  },
  {
   "cell_type": "markdown",
   "id": "ef50d5f2",
   "metadata": {
    "slideshow": {
     "slide_type": "subslide"
    }
   },
   "source": [
    "We can see the recursive nature of this solution!"
   ]
  },
  {
   "cell_type": "markdown",
   "id": "f82f5300",
   "metadata": {
    "slideshow": {
     "slide_type": "subslide"
    }
   },
   "source": [
    "First, our base case. Moving a single disc."
   ]
  },
  {
   "cell_type": "code",
   "execution_count": null,
   "id": "e7715765",
   "metadata": {
    "execution": {
     "iopub.execute_input": "2023-11-14T03:23:57.480162Z",
     "iopub.status.busy": "2023-11-14T03:23:57.479488Z",
     "iopub.status.idle": "2023-11-14T03:23:57.486130Z",
     "shell.execute_reply": "2023-11-14T03:23:57.485180Z"
    },
    "slideshow": {
     "slide_type": ""
    }
   },
   "outputs": [],
   "source": [
    "def hanoi(discs, source, target, other):\n",
    "    if discs == 1:\n",
    "        print(f\"Move disc 1 from '{source}' to '{target}'\")\n",
    "    else:\n",
    "        print(\"I dunno\")"
   ]
  },
  {
   "cell_type": "markdown",
   "id": "a72c684c",
   "metadata": {
    "slideshow": {
     "slide_type": "fragment"
    }
   },
   "source": [
    "It may not be obvious yet, but it's safe to assume that it's valid to move a single disc from `source` to `target`.\n",
    "\n",
    "Our final algorithm will never attempt an invalid move."
   ]
  },
  {
   "cell_type": "code",
   "execution_count": null,
   "id": "70194260",
   "metadata": {
    "execution": {
     "iopub.execute_input": "2023-11-14T03:23:57.490619Z",
     "iopub.status.busy": "2023-11-14T03:23:57.490098Z",
     "iopub.status.idle": "2023-11-14T03:23:57.495284Z",
     "shell.execute_reply": "2023-11-14T03:23:57.494193Z"
    },
    "slideshow": {
     "slide_type": "subslide"
    }
   },
   "outputs": [],
   "source": [
    "hanoi(1, 'a', 'c', 'b')"
   ]
  },
  {
   "cell_type": "markdown",
   "id": "76b1004f",
   "metadata": {
    "slideshow": {
     "slide_type": "subslide"
    }
   },
   "source": [
    "Now the recursive case. Remember our steps:\n",
    "1. move `n-1` to `other`\n",
    "2. move `n` to `target` \n",
    "3. move `n-1` to `target`"
   ]
  },
  {
   "cell_type": "code",
   "execution_count": null,
   "id": "509cecc0",
   "metadata": {
    "execution": {
     "iopub.execute_input": "2023-11-14T03:23:57.501055Z",
     "iopub.status.busy": "2023-11-14T03:23:57.500463Z",
     "iopub.status.idle": "2023-11-14T03:23:57.506361Z",
     "shell.execute_reply": "2023-11-14T03:23:57.504981Z"
    },
    "slideshow": {
     "slide_type": ""
    }
   },
   "outputs": [],
   "source": [
    "def hanoi(discs, source, target, other):\n",
    "    if discs == 1:\n",
    "        print(f\"Move disc 1 from '{source}' to '{target}'\")\n",
    "    else:\n",
    "        hanoi(discs-1, source, other, target)\n",
    "        print(f\"Move disc {discs} from '{source}' to '{target}'\")\n",
    "        hanoi(discs-1, other, target, source)"
   ]
  },
  {
   "cell_type": "code",
   "execution_count": null,
   "id": "33ad8096",
   "metadata": {
    "execution": {
     "iopub.execute_input": "2023-11-14T03:23:57.511470Z",
     "iopub.status.busy": "2023-11-14T03:23:57.510998Z",
     "iopub.status.idle": "2023-11-14T03:23:57.516771Z",
     "shell.execute_reply": "2023-11-14T03:23:57.515622Z"
    },
    "slideshow": {
     "slide_type": "subslide"
    }
   },
   "outputs": [],
   "source": [
    "hanoi(2, 'a', 'c', 'b')"
   ]
  },
  {
   "cell_type": "code",
   "execution_count": null,
   "id": "96f48a38",
   "metadata": {
    "execution": {
     "iopub.execute_input": "2023-11-14T03:23:57.521881Z",
     "iopub.status.busy": "2023-11-14T03:23:57.521223Z",
     "iopub.status.idle": "2023-11-14T03:23:57.527070Z",
     "shell.execute_reply": "2023-11-14T03:23:57.526152Z"
    },
    "slideshow": {
     "slide_type": "subslide"
    }
   },
   "outputs": [],
   "source": [
    "hanoi(3, 'a', 'c', 'b')"
   ]
  },
  {
   "cell_type": "code",
   "execution_count": null,
   "id": "ea8c8d64",
   "metadata": {
    "execution": {
     "iopub.execute_input": "2023-11-14T03:23:57.532369Z",
     "iopub.status.busy": "2023-11-14T03:23:57.531818Z",
     "iopub.status.idle": "2023-11-14T03:23:57.538658Z",
     "shell.execute_reply": "2023-11-14T03:23:57.536776Z"
    },
    "slideshow": {
     "slide_type": "subslide"
    }
   },
   "outputs": [],
   "source": [
    "hanoi(7, 'a', 'c', 'b')"
   ]
  },
  {
   "cell_type": "markdown",
   "id": "b08bef0d",
   "metadata": {
    "slideshow": {
     "slide_type": "subslide"
    }
   },
   "source": [
    "## Exercise\n",
    "\n",
    "Modify our hanoi function to just count the number of moves required."
   ]
  },
  {
   "cell_type": "code",
   "execution_count": null,
   "id": "6248c500",
   "metadata": {
    "execution": {
     "iopub.execute_input": "2023-11-14T03:23:57.543763Z",
     "iopub.status.busy": "2023-11-14T03:23:57.543319Z",
     "iopub.status.idle": "2023-11-14T03:23:57.549160Z",
     "shell.execute_reply": "2023-11-14T03:23:57.547913Z"
    },
    "slideshow": {
     "slide_type": "subslide"
    }
   },
   "outputs": [],
   "source": [
    "def count_hanoi(discs, source, target, other):\n",
    "    if discs == 1:\n",
    "        return 1\n",
    "    else:\n",
    "        return 1 + count_hanoi(discs-1, source, other, target) + count_hanoi(discs-1, other, target, source)"
   ]
  },
  {
   "cell_type": "code",
   "execution_count": null,
   "id": "308505dc",
   "metadata": {
    "execution": {
     "iopub.execute_input": "2023-11-14T03:23:57.554506Z",
     "iopub.status.busy": "2023-11-14T03:23:57.554157Z",
     "iopub.status.idle": "2023-11-14T03:23:57.559057Z",
     "shell.execute_reply": "2023-11-14T03:23:57.558214Z"
    }
   },
   "outputs": [],
   "source": [
    "print(count_hanoi(7, 'a', 'c', 'b'))"
   ]
  },
  {
   "cell_type": "code",
   "execution_count": null,
   "id": "d2e0c422",
   "metadata": {
    "execution": {
     "iopub.execute_input": "2023-11-14T03:23:57.564548Z",
     "iopub.status.busy": "2023-11-14T03:23:57.564054Z",
     "iopub.status.idle": "2023-11-14T03:23:57.569606Z",
     "shell.execute_reply": "2023-11-14T03:23:57.568754Z"
    }
   },
   "outputs": [],
   "source": [
    "print(count_hanoi(10, 'a', 'c', 'b'))"
   ]
  },
  {
   "cell_type": "code",
   "execution_count": null,
   "id": "a7a320d7",
   "metadata": {
    "execution": {
     "iopub.execute_input": "2023-11-14T03:23:57.574308Z",
     "iopub.status.busy": "2023-11-14T03:23:57.573962Z",
     "iopub.status.idle": "2023-11-14T03:23:57.770693Z",
     "shell.execute_reply": "2023-11-14T03:23:57.769516Z"
    }
   },
   "outputs": [],
   "source": [
    "print(count_hanoi(20, 'a', 'c', 'b'))"
   ]
  },
  {
   "cell_type": "markdown",
   "id": "626a14c9",
   "metadata": {
    "slideshow": {
     "slide_type": "slide"
    }
   },
   "source": [
    "# Wrap up\n",
    "\n",
    "We saw, especially with this last example, how recursion can provide very elegant implementations of seemingly complex algorithms.\n",
    "\n",
    "It can have a similar effect when trying to prove the efficiency or correctness of an algorithm. Proving things about base cases is often trivial. Proving that the recursive steps are correct, or counting the number of recursive steps needed is also often (relatively) simple. \n",
    "\n",
    "Even if you never write a recursive function, learning how to break a problem down into base cases and recursive steps can be a very powerful problem solving technique."
   ]
  }
 ],
 "metadata": {
  "celltoolbar": "Slideshow",
  "kernelspec": {
   "display_name": "Python 3 (ipykernel)",
   "language": "python",
   "name": "python3"
  },
  "language_info": {
   "codemirror_mode": {
    "name": "ipython",
    "version": 3
   },
   "file_extension": ".py",
   "mimetype": "text/x-python",
   "name": "python",
   "nbconvert_exporter": "python",
   "pygments_lexer": "ipython3",
   "version": "3.10.9"
  }
 },
 "nbformat": 4,
 "nbformat_minor": 5
}
