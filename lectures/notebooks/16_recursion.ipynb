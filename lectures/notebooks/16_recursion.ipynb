{
 "cells": [
  {
   "cell_type": "markdown",
   "id": "1ee8a1d2",
   "metadata": {
    "slideshow": {
     "slide_type": "slide"
    }
   },
   "source": [
    "# Recursion\n",
    "\n",
    "<style>\n",
    "section.present > section.present { \n",
    "    max-height: 90%; \n",
    "    overflow-y: scroll;\n",
    "}\n",
    "</style>\n",
    "\n",
    "<small><a href=\"https://colab.research.google.com/github/brandeis-jdelfino/cosi-10a/blob/main/lectures/notebooks/16_recursion.ipynb\">Link to interactive slides on Google Colab</a></small>"
   ]
  },
  {
   "cell_type": "markdown",
   "id": "6c896c9a",
   "metadata": {
    "slideshow": {
     "slide_type": "slide"
    }
   },
   "source": [
    "## Fibonacci sequence\n",
    "\n",
    "The \"Fibonacci sequence\" is a famous sequence of numbers.\n",
    "\n",
    "The sequence starts with:\n",
    "\n",
    "0, 1, 1, 2, 3, 5, 8, 13, 21, 34, 55, 89, ...\n",
    "\n",
    "The first two numbers are 0 and 1. After that, each number is the sum of the 2 numbers before it."
   ]
  },
  {
   "cell_type": "markdown",
   "id": "ff9785d2",
   "metadata": {
    "slideshow": {
     "slide_type": "subslide"
    }
   },
   "source": [
    "We can write code to generate the `n`th Fibonacci number:"
   ]
  },
  {
   "cell_type": "code",
   "execution_count": null,
   "id": "d4198b7a",
   "metadata": {
    "execution": {
     "iopub.execute_input": "2023-11-16T13:21:58.750803Z",
     "iopub.status.busy": "2023-11-16T13:21:58.750474Z",
     "iopub.status.idle": "2023-11-16T13:21:58.767584Z",
     "shell.execute_reply": "2023-11-16T13:21:58.766322Z"
    }
   },
   "outputs": [],
   "source": [
    "def fib(n):\n",
    "    if n == 0:\n",
    "        return 0\n",
    "    elif n == 1:\n",
    "        return 1\n",
    "    else:\n",
    "        first = 0\n",
    "        second = 1\n",
    "        for i in range(n-1):\n",
    "            nextnum = first + second\n",
    "            first = second\n",
    "            second = nextnum\n",
    "        return second"
   ]
  },
  {
   "cell_type": "code",
   "execution_count": null,
   "id": "fcc96690",
   "metadata": {
    "execution": {
     "iopub.execute_input": "2023-11-16T13:21:58.772418Z",
     "iopub.status.busy": "2023-11-16T13:21:58.772064Z",
     "iopub.status.idle": "2023-11-16T13:21:58.776719Z",
     "shell.execute_reply": "2023-11-16T13:21:58.775745Z"
    },
    "slideshow": {
     "slide_type": "subslide"
    }
   },
   "outputs": [],
   "source": [
    "for i in range(10):\n",
    "    print(fib(i))"
   ]
  },
  {
   "cell_type": "code",
   "execution_count": null,
   "id": "29269b37",
   "metadata": {
    "execution": {
     "iopub.execute_input": "2023-11-16T13:21:58.781861Z",
     "iopub.status.busy": "2023-11-16T13:21:58.781227Z",
     "iopub.status.idle": "2023-11-16T13:21:58.785524Z",
     "shell.execute_reply": "2023-11-16T13:21:58.784750Z"
    }
   },
   "outputs": [],
   "source": [
    "print(fib(35))"
   ]
  },
  {
   "cell_type": "markdown",
   "id": "4a087fde",
   "metadata": {
    "slideshow": {
     "slide_type": "slide"
    }
   },
   "source": [
    "Great! But here's another option:"
   ]
  },
  {
   "cell_type": "code",
   "execution_count": null,
   "id": "769850f3",
   "metadata": {
    "execution": {
     "iopub.execute_input": "2023-11-16T13:21:58.790002Z",
     "iopub.status.busy": "2023-11-16T13:21:58.789640Z",
     "iopub.status.idle": "2023-11-16T13:21:58.794102Z",
     "shell.execute_reply": "2023-11-16T13:21:58.793142Z"
    }
   },
   "outputs": [],
   "source": [
    "def fib(n):\n",
    "    if n == 0:\n",
    "        return 0\n",
    "    elif n == 1:\n",
    "        return 1\n",
    "    else:\n",
    "        return fib(n-1) + fib(n-2)"
   ]
  },
  {
   "cell_type": "code",
   "execution_count": null,
   "id": "c9bd6506",
   "metadata": {
    "execution": {
     "iopub.execute_input": "2023-11-16T13:21:58.797949Z",
     "iopub.status.busy": "2023-11-16T13:21:58.797616Z",
     "iopub.status.idle": "2023-11-16T13:21:58.801990Z",
     "shell.execute_reply": "2023-11-16T13:21:58.800985Z"
    },
    "slideshow": {
     "slide_type": "subslide"
    }
   },
   "outputs": [],
   "source": [
    "for i in range(10):\n",
    "    print(fib(i))"
   ]
  },
  {
   "cell_type": "code",
   "execution_count": null,
   "id": "079575c6",
   "metadata": {
    "execution": {
     "iopub.execute_input": "2023-11-16T13:21:58.807148Z",
     "iopub.status.busy": "2023-11-16T13:21:58.806539Z",
     "iopub.status.idle": "2023-11-16T13:22:03.908830Z",
     "shell.execute_reply": "2023-11-16T13:22:03.907949Z"
    }
   },
   "outputs": [],
   "source": [
    "print(fib(35))"
   ]
  },
  {
   "cell_type": "markdown",
   "id": "11c71b8f",
   "metadata": {
    "slideshow": {
     "slide_type": "subslide"
    }
   },
   "source": [
    "## Recursion\n",
    "\n",
    "When a function calls itself, it is called **recursion**."
   ]
  },
  {
   "cell_type": "markdown",
   "id": "c20b2115",
   "metadata": {
    "slideshow": {
     "slide_type": "subslide"
    }
   },
   "source": [
    "## Recursion\n",
    "\n",
    "Recursion is often not an efficient solution, as we saw above.\n",
    "\n",
    "It is virtually never used in production code. There is always a way to re-write a recursive solution using loops."
   ]
  },
  {
   "cell_type": "markdown",
   "id": "fb7eaee9",
   "metadata": {
    "slideshow": {
     "slide_type": "fragment"
    }
   },
   "source": [
    "So why learn it?"
   ]
  },
  {
   "cell_type": "markdown",
   "id": "16c40945",
   "metadata": {
    "slideshow": {
     "slide_type": "subslide"
    }
   },
   "source": [
    "## Recursion - why learn it?\n",
    "\n",
    "2 reasons:\n",
    "\n",
    "1. Some algorithms are **much simpler** to express recursively.\n",
    "2. It is often easier to prove things (such as correctness or efficiency) about the recursive version of an algorithm. \n",
    "\n",
    "If you continue into Computer Science, recursion is a critical concept.\n",
    "\n",
    "If you don't, it is still a useful, interesting way to try to break some problems down."
   ]
  },
  {
   "cell_type": "markdown",
   "id": "93156062",
   "metadata": {
    "slideshow": {
     "slide_type": "slide"
    }
   },
   "source": [
    "## The recursion formula\n",
    "\n",
    "In recursion, we talk about 2 things: **base cases** and **recursive steps**.\n",
    "\n",
    "**Base case(s)** are the cases we immediately know the answer to.\n",
    "* Base cases don't call the same function again.\n",
    "* If you don't define at least one base case, your recursive function will go on forever.\n",
    "* For the Fibonacci numbers, the base cases are the first 2 numbers: 0 and 1\n",
    "\n",
    "**Recursive step(s)** are the steps where we apply the same function to a smaller or simpler version of the input.\n",
    "* Recursive steps must be guaranteed to somehow get \"closer\" to the base case, otherwise your recursive function will go on forever.\n",
    "* For the Fibonacci numbers, we calculate the `n`th number by computing the `n-1`th and `n-2`th number with the same function."
   ]
  },
  {
   "cell_type": "code",
   "execution_count": null,
   "id": "128e9c94",
   "metadata": {
    "execution": {
     "iopub.execute_input": "2023-11-16T13:22:03.913487Z",
     "iopub.status.busy": "2023-11-16T13:22:03.913151Z",
     "iopub.status.idle": "2023-11-16T13:22:03.917675Z",
     "shell.execute_reply": "2023-11-16T13:22:03.916800Z"
    },
    "slideshow": {
     "slide_type": "subslide"
    }
   },
   "outputs": [],
   "source": [
    "def fib(n):\n",
    "    if n == 0:    # base case 1\n",
    "        return 0\n",
    "    elif n == 1:  # base case 2\n",
    "        return 1\n",
    "    else:         # recursive case\n",
    "        return fib(n-1) + fib(n-2)"
   ]
  },
  {
   "cell_type": "markdown",
   "id": "550802ed",
   "metadata": {
    "slideshow": {
     "slide_type": "slide"
    }
   },
   "source": [
    "## Exercise\n",
    "\n",
    "Write a recursive function to sum the digits of a number."
   ]
  },
  {
   "cell_type": "markdown",
   "id": "b1a90d27",
   "metadata": {
    "slideshow": {
     "slide_type": "fragment"
    }
   },
   "source": [
    "What is our base case?\n",
    "\n",
    "What is our recursive step?"
   ]
  },
  {
   "cell_type": "markdown",
   "id": "8543bc25",
   "metadata": {
    "slideshow": {
     "slide_type": "subslide"
    }
   },
   "source": [
    "Base case: a single digit number sums to itself\n",
    "\n",
    "Recursive step: compute the sum of the first `n-1` digits, and add the `n`th digit to that sum"
   ]
  },
  {
   "cell_type": "code",
   "execution_count": null,
   "id": "98e4fdbb",
   "metadata": {
    "execution": {
     "iopub.execute_input": "2023-11-16T13:22:03.921967Z",
     "iopub.status.busy": "2023-11-16T13:22:03.921623Z",
     "iopub.status.idle": "2023-11-16T13:22:03.925680Z",
     "shell.execute_reply": "2023-11-16T13:22:03.924878Z"
    }
   },
   "outputs": [],
   "source": [
    "def sum_digits(num):\n",
    "    if num < 10:     # base case\n",
    "        return num\n",
    "    else:\n",
    "        return (num % 10) + sum_digits(num // 10)"
   ]
  },
  {
   "cell_type": "code",
   "execution_count": null,
   "id": "0b148269",
   "metadata": {
    "execution": {
     "iopub.execute_input": "2023-11-16T13:22:03.929674Z",
     "iopub.status.busy": "2023-11-16T13:22:03.929336Z",
     "iopub.status.idle": "2023-11-16T13:22:03.933597Z",
     "shell.execute_reply": "2023-11-16T13:22:03.932670Z"
    }
   },
   "outputs": [],
   "source": [
    "print(sum_digits(1234))\n",
    "print(sum_digits(999999999))"
   ]
  },
  {
   "cell_type": "markdown",
   "id": "0595e84c",
   "metadata": {
    "slideshow": {
     "slide_type": "slide"
    }
   },
   "source": [
    "## Exercise\n",
    "\n",
    "Write a recursive function to calculate the power of a number, given the base and exponent.\n",
    "\n",
    "What is the base case? What is the recursive step?"
   ]
  },
  {
   "cell_type": "markdown",
   "id": "f0e04558",
   "metadata": {
    "slideshow": {
     "slide_type": "subslide"
    }
   },
   "source": [
    "Base case: exponent is 0\n",
    "\n",
    "Recursive case: compute the power of `base` and `exponent-1`, and multiply that by `base`."
   ]
  },
  {
   "cell_type": "code",
   "execution_count": null,
   "id": "f1754800",
   "metadata": {
    "execution": {
     "iopub.execute_input": "2023-11-16T13:22:03.938271Z",
     "iopub.status.busy": "2023-11-16T13:22:03.937906Z",
     "iopub.status.idle": "2023-11-16T13:22:03.941997Z",
     "shell.execute_reply": "2023-11-16T13:22:03.941127Z"
    }
   },
   "outputs": [],
   "source": [
    "def raise_to_power(base, exponent):\n",
    "    if exponent == 0:\n",
    "        return 1\n",
    "    else:\n",
    "        return raise_to_power(base, exponent-1) * base"
   ]
  },
  {
   "cell_type": "code",
   "execution_count": null,
   "id": "e5231af2",
   "metadata": {
    "execution": {
     "iopub.execute_input": "2023-11-16T13:22:03.946070Z",
     "iopub.status.busy": "2023-11-16T13:22:03.945740Z",
     "iopub.status.idle": "2023-11-16T13:22:03.950641Z",
     "shell.execute_reply": "2023-11-16T13:22:03.949289Z"
    }
   },
   "outputs": [],
   "source": [
    "print(raise_to_power(2, 4))\n",
    "print(raise_to_power(10, 3))\n",
    "print(raise_to_power(1.5, 15))"
   ]
  },
  {
   "cell_type": "markdown",
   "id": "e55857b9",
   "metadata": {
    "slideshow": {
     "slide_type": "slide"
    }
   },
   "source": [
    "## Exercise\n",
    "\n",
    "Write a function to solve a [Tower of Hanoi](https://en.wikipedia.org/wiki/Tower_of_Hanoi) puzzle.\n",
    "\n",
    "This one is trickier.\n",
    "\n",
    "Let's play a quick game: [browser Tower of Hanoi game](https://www.mathsisfun.com/games/towerofhanoi.html)"
   ]
  },
  {
   "cell_type": "markdown",
   "id": "0954f9db",
   "metadata": {
    "slideshow": {
     "slide_type": "subslide"
    }
   },
   "source": [
    "Let's define some notation and assumptions.\n",
    "\n",
    "* We have 3 pegs to work with, and we'll label them `a`, `b`, and `c`.\n",
    "* Discs are labeled `1` through `n`, with disc `1` being the smallest and `n` being the largest.\n",
    "* The game starts with `n` discs on peg `a`."
   ]
  },
  {
   "cell_type": "markdown",
   "id": "f2c01b57",
   "metadata": {
    "slideshow": {
     "slide_type": "subslide"
    }
   },
   "source": [
    "## Key insight\n",
    "\n",
    "If we have a valid stack of discs, and need to move the top `m` of them from peg `a` to `c`, we first have to move `m-1` discs to peg `b` to free up disc `m`."
   ]
  },
  {
   "cell_type": "markdown",
   "id": "868b611f",
   "metadata": {
    "slideshow": {
     "slide_type": "subslide"
    }
   },
   "source": [
    "The point of the game is: \"Move `n` discs from `a` to `c`\"\n",
    "\n",
    "Using our key insight, we can break that down into a few smaller steps:\n",
    "\n",
    "1. Move `n` discs from `a` to `c` by doing:\n",
    "   1. Move `n-1` discs from `a` to `b`.\n",
    "   2. Move disc `n` to `c`.\n",
    "   3. Move `n-1` discs from `b` to `c`."
   ]
  },
  {
   "cell_type": "markdown",
   "id": "2f543787",
   "metadata": {
    "slideshow": {
     "slide_type": "subslide"
    }
   },
   "source": [
    "We can then expand further: \"Move the top `n-1` discs from `a` to `b`\" becomes:\n",
    "\n",
    "1. Move `n-2` discs from `a` to `c`.\n",
    "2. Move disc `n-1` to `b`.\n",
    "3. Move `n-2` discs from `c` to `b`.\n"
   ]
  },
  {
   "cell_type": "markdown",
   "id": "05c0f9d7",
   "metadata": {
    "slideshow": {
     "slide_type": "subslide"
    }
   },
   "source": [
    "So now our entire game looks like this: \n",
    "\n",
    "1. Move `n` discs from `a` to `c` by doing:\n",
    "   1. Move `n-1` discs from `a` to `b`.\n",
    "      1. Move `n-2` discs from `a` to `c`.\n",
    "      2. Move disc `n-1` to `b`.\n",
    "      3. Move the `n-2` discs from `c` to `b`.\n",
    "   2. Move disc `n` to `c`.\n",
    "   3. Move `n-1` discs from `b` to `c`."
   ]
  },
  {
   "cell_type": "markdown",
   "id": "011dafe6",
   "metadata": {
    "slideshow": {
     "slide_type": "subslide"
    }
   },
   "source": [
    "We can similarly expand the last step:\n",
    "\n",
    "1. Move `n` discs from `a` to `c` by doing:\n",
    "    1. Move `n-1` discs from `a` to `b` by doing:\n",
    "       1. Move `n-2` discs from `a` to `c`.\n",
    "       2. Move disc `n-1` to `b`.\n",
    "       3. Move `n-2` discs from `c` to `b`.\n",
    "    2. Move disc `n` to peg `c`.\n",
    "    3. Move `n-1` discs from `b` to `c` by doing:\n",
    "       1. Move `n-2` discs from `b` to `a`.\n",
    "       2. Move disc `n-1` to `c`.\n",
    "       3. Move `n-2` discs from `a` to `c`.\n"
   ]
  },
  {
   "cell_type": "markdown",
   "id": "6b25e055",
   "metadata": {
    "slideshow": {
     "slide_type": "subslide"
    }
   },
   "source": [
    "One more level...\n",
    "\n",
    "1. Move `n` discs from `a` to `c` by doing:\n",
    "    1. Move `n-1` discs from `a` to `b` by doing:\n",
    "       1. Move `n-2` discs from `a` to `c` by doing:\n",
    "          1. Move `n-3` discs from `a` to `b`.\n",
    "          1. Move disc `n-2` to `c`\n",
    "          1. Move `n-3` discs from `b` to `c`.   \n",
    "       2. Move disc `n-1` to `b`.\n",
    "       3. Move `n-2` discs from `c` to `b`.\n",
    "    2. Move disc `n` to peg `c`.\n",
    "    3. Move `n-1` discs from `b` to `c` by doing:\n",
    "       1. Move `n-2` discs from `b` to `a`.\n",
    "       2. Move disc `n-1` to `c`.\n",
    "       3. Move `n-2` discs from `a` to `c`."
   ]
  },
  {
   "cell_type": "markdown",
   "id": "d204ee46",
   "metadata": {
    "slideshow": {
     "slide_type": "subslide"
    }
   },
   "source": [
    "We can see the recursive nature of this solution!"
   ]
  },
  {
   "cell_type": "markdown",
   "id": "ab915f05",
   "metadata": {
    "slideshow": {
     "slide_type": "subslide"
    }
   },
   "source": [
    "First, our base case. Moving a single disc."
   ]
  },
  {
   "cell_type": "code",
   "execution_count": null,
   "id": "e58223dc",
   "metadata": {
    "execution": {
     "iopub.execute_input": "2023-11-16T13:22:03.955900Z",
     "iopub.status.busy": "2023-11-16T13:22:03.955547Z",
     "iopub.status.idle": "2023-11-16T13:22:03.960076Z",
     "shell.execute_reply": "2023-11-16T13:22:03.959170Z"
    },
    "slideshow": {
     "slide_type": ""
    }
   },
   "outputs": [],
   "source": [
    "def hanoi(discs, source, target, other):\n",
    "    if discs == 1:\n",
    "        print(f\"Move disc 1 from '{source}' to '{target}'\")\n",
    "    else:\n",
    "        print(\"I dunno\")"
   ]
  },
  {
   "cell_type": "markdown",
   "id": "0e6bf98a",
   "metadata": {
    "slideshow": {
     "slide_type": "fragment"
    }
   },
   "source": [
    "It may not be obvious yet, but it's safe to assume that it's valid to move a single disc from `source` to `target`.\n",
    "\n",
    "Our final algorithm will never attempt an invalid move."
   ]
  },
  {
   "cell_type": "code",
   "execution_count": null,
   "id": "110864d7",
   "metadata": {
    "execution": {
     "iopub.execute_input": "2023-11-16T13:22:03.964031Z",
     "iopub.status.busy": "2023-11-16T13:22:03.963707Z",
     "iopub.status.idle": "2023-11-16T13:22:03.967823Z",
     "shell.execute_reply": "2023-11-16T13:22:03.966811Z"
    },
    "slideshow": {
     "slide_type": "subslide"
    }
   },
   "outputs": [],
   "source": [
    "hanoi(1, 'a', 'c', 'b')"
   ]
  },
  {
   "cell_type": "markdown",
   "id": "a54a8218",
   "metadata": {
    "slideshow": {
     "slide_type": "subslide"
    }
   },
   "source": [
    "Now the recursive case. Remember our steps:\n",
    "1. move `n-1` to `other`\n",
    "2. move `n` to `target` \n",
    "3. move `n-1` to `target`"
   ]
  },
  {
   "cell_type": "code",
   "execution_count": null,
   "id": "45939396",
   "metadata": {
    "execution": {
     "iopub.execute_input": "2023-11-16T13:22:03.971880Z",
     "iopub.status.busy": "2023-11-16T13:22:03.971558Z",
     "iopub.status.idle": "2023-11-16T13:22:03.976463Z",
     "shell.execute_reply": "2023-11-16T13:22:03.975597Z"
    },
    "slideshow": {
     "slide_type": ""
    }
   },
   "outputs": [],
   "source": [
    "def hanoi(discs, source, target, other):\n",
    "    if discs == 1:\n",
    "        print(f\"Move disc 1 from '{source}' to '{target}'\")\n",
    "    else:\n",
    "        hanoi(discs-1, source, other, target)\n",
    "        print(f\"Move disc {discs} from '{source}' to '{target}'\")\n",
    "        hanoi(discs-1, other, target, source)"
   ]
  },
  {
   "cell_type": "code",
   "execution_count": null,
   "id": "6b659be1",
   "metadata": {
    "execution": {
     "iopub.execute_input": "2023-11-16T13:22:03.980260Z",
     "iopub.status.busy": "2023-11-16T13:22:03.979919Z",
     "iopub.status.idle": "2023-11-16T13:22:03.984747Z",
     "shell.execute_reply": "2023-11-16T13:22:03.983906Z"
    },
    "slideshow": {
     "slide_type": "subslide"
    }
   },
   "outputs": [],
   "source": [
    "hanoi(2, 'a', 'c', 'b')"
   ]
  },
  {
   "cell_type": "code",
   "execution_count": null,
   "id": "1eb67e67",
   "metadata": {
    "execution": {
     "iopub.execute_input": "2023-11-16T13:22:03.988501Z",
     "iopub.status.busy": "2023-11-16T13:22:03.988181Z",
     "iopub.status.idle": "2023-11-16T13:22:03.992779Z",
     "shell.execute_reply": "2023-11-16T13:22:03.991963Z"
    },
    "slideshow": {
     "slide_type": "subslide"
    }
   },
   "outputs": [],
   "source": [
    "hanoi(3, 'a', 'c', 'b')"
   ]
  },
  {
   "cell_type": "code",
   "execution_count": null,
   "id": "0d20ed41",
   "metadata": {
    "execution": {
     "iopub.execute_input": "2023-11-16T13:22:03.996452Z",
     "iopub.status.busy": "2023-11-16T13:22:03.996133Z",
     "iopub.status.idle": "2023-11-16T13:22:04.000674Z",
     "shell.execute_reply": "2023-11-16T13:22:03.999892Z"
    },
    "slideshow": {
     "slide_type": "subslide"
    }
   },
   "outputs": [],
   "source": [
    "hanoi(7, 'a', 'c', 'b')"
   ]
  },
  {
   "cell_type": "markdown",
   "id": "4d074fb2",
   "metadata": {
    "slideshow": {
     "slide_type": "subslide"
    }
   },
   "source": [
    "## Exercise\n",
    "\n",
    "Modify our hanoi function to just count the number of moves required."
   ]
  },
  {
   "cell_type": "code",
   "execution_count": null,
   "id": "c0bb0ed3",
   "metadata": {
    "execution": {
     "iopub.execute_input": "2023-11-16T13:22:04.004842Z",
     "iopub.status.busy": "2023-11-16T13:22:04.004317Z",
     "iopub.status.idle": "2023-11-16T13:22:04.008828Z",
     "shell.execute_reply": "2023-11-16T13:22:04.008054Z"
    },
    "slideshow": {
     "slide_type": "subslide"
    }
   },
   "outputs": [],
   "source": [
    "def count_hanoi(discs, source, target, other):\n",
    "    if discs == 1:\n",
    "        return 1\n",
    "    else:\n",
    "        return 1 + count_hanoi(discs-1, source, other, target) + count_hanoi(discs-1, other, target, source)"
   ]
  },
  {
   "cell_type": "code",
   "execution_count": null,
   "id": "9d52d3ad",
   "metadata": {
    "execution": {
     "iopub.execute_input": "2023-11-16T13:22:04.012425Z",
     "iopub.status.busy": "2023-11-16T13:22:04.012119Z",
     "iopub.status.idle": "2023-11-16T13:22:04.016374Z",
     "shell.execute_reply": "2023-11-16T13:22:04.015632Z"
    }
   },
   "outputs": [],
   "source": [
    "print(count_hanoi(7, 'a', 'c', 'b'))"
   ]
  },
  {
   "cell_type": "code",
   "execution_count": null,
   "id": "395a9b94",
   "metadata": {
    "execution": {
     "iopub.execute_input": "2023-11-16T13:22:04.020071Z",
     "iopub.status.busy": "2023-11-16T13:22:04.019757Z",
     "iopub.status.idle": "2023-11-16T13:22:04.023992Z",
     "shell.execute_reply": "2023-11-16T13:22:04.023093Z"
    }
   },
   "outputs": [],
   "source": [
    "print(count_hanoi(10, 'a', 'c', 'b'))"
   ]
  },
  {
   "cell_type": "code",
   "execution_count": null,
   "id": "bdb24ea0",
   "metadata": {
    "execution": {
     "iopub.execute_input": "2023-11-16T13:22:04.028156Z",
     "iopub.status.busy": "2023-11-16T13:22:04.027618Z",
     "iopub.status.idle": "2023-11-16T13:22:04.327744Z",
     "shell.execute_reply": "2023-11-16T13:22:04.320483Z"
    }
   },
   "outputs": [],
   "source": [
    "print(count_hanoi(20, 'a', 'c', 'b'))"
   ]
  },
  {
   "cell_type": "markdown",
   "id": "0f009117",
   "metadata": {
    "slideshow": {
     "slide_type": "slide"
    }
   },
   "source": [
    "# Wrap up\n",
    "\n",
    "We saw, especially with this last example, how recursion can provide very elegant implementations of seemingly complex algorithms.\n",
    "\n",
    "It can have a similar effect when trying to prove the efficiency or correctness of an algorithm. Proving things about base cases is often trivial. Proving that the recursive steps are correct, or counting the number of recursive steps needed is also often (relatively) simple. \n",
    "\n",
    "Even if you never write a recursive function, learning how to break a problem down into base cases and recursive steps can be a very powerful problem solving technique."
   ]
  }
 ],
 "metadata": {
  "celltoolbar": "Slideshow",
  "kernelspec": {
   "display_name": "Python 3 (ipykernel)",
   "language": "python",
   "name": "python3"
  },
  "language_info": {
   "codemirror_mode": {
    "name": "ipython",
    "version": 3
   },
   "file_extension": ".py",
   "mimetype": "text/x-python",
   "name": "python",
   "nbconvert_exporter": "python",
   "pygments_lexer": "ipython3",
   "version": "3.10.9"
  }
 },
 "nbformat": 4,
 "nbformat_minor": 5
}
