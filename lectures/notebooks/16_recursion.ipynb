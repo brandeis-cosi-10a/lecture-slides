{
 "cells": [
  {
   "cell_type": "markdown",
   "id": "1ee8a1d2",
   "metadata": {
    "slideshow": {
     "slide_type": "slide"
    }
   },
   "source": [
    "# Recursion\n",
    "\n",
    "<style>\n",
    "section.present > section.present { \n",
    "    max-height: 90%; \n",
    "    overflow-y: scroll;\n",
    "}\n",
    "</style>\n",
    "\n",
    "<small><a href=\"https://colab.research.google.com/github/brandeis-jdelfino/cosi-10a/blob/main/lectures/notebooks/16_recursion.ipynb\">Link to interactive slides on Google Colab</a></small>"
   ]
  },
  {
   "cell_type": "markdown",
   "id": "4dc494a5",
   "metadata": {
    "slideshow": {
     "slide_type": "slide"
    }
   },
   "source": [
    "## Fibonacci sequence\n",
    "\n",
    "The \"Fibonacci sequence\" is a famous sequence of numbers.\n",
    "\n",
    "The sequence starts with:\n",
    "\n",
    "0, 1, 1, 2, 3, 5, 8, 13, 21, 34, 55, 89, ...\n",
    "\n",
    "The first two numbers are 0 and 1. After that, each number is the sum of the 2 numbers before it."
   ]
  },
  {
   "cell_type": "markdown",
   "id": "2d8b5dad",
   "metadata": {
    "slideshow": {
     "slide_type": "subslide"
    }
   },
   "source": [
    "We can write code to generate the `n`th Fibonacci number:"
   ]
  },
  {
   "cell_type": "code",
   "execution_count": null,
   "id": "0b406d09",
   "metadata": {
    "execution": {
     "iopub.execute_input": "2023-11-14T03:33:23.351159Z",
     "iopub.status.busy": "2023-11-14T03:33:23.350773Z",
     "iopub.status.idle": "2023-11-14T03:33:23.373426Z",
     "shell.execute_reply": "2023-11-14T03:33:23.371883Z"
    }
   },
   "outputs": [],
   "source": [
    "def fib(n):\n",
    "    if n == 0:\n",
    "        return 0\n",
    "    elif n == 1:\n",
    "        return 1\n",
    "    else:\n",
    "        first = 0\n",
    "        second = 1\n",
    "        for i in range(n-1):\n",
    "            nextnum = first + second\n",
    "            first = second\n",
    "            second = nextnum\n",
    "        return second"
   ]
  },
  {
   "cell_type": "code",
   "execution_count": null,
   "id": "102af433",
   "metadata": {
    "execution": {
     "iopub.execute_input": "2023-11-14T03:33:23.378081Z",
     "iopub.status.busy": "2023-11-14T03:33:23.377732Z",
     "iopub.status.idle": "2023-11-14T03:33:23.382549Z",
     "shell.execute_reply": "2023-11-14T03:33:23.381801Z"
    },
    "slideshow": {
     "slide_type": "subslide"
    }
   },
   "outputs": [],
   "source": [
    "for i in range(10):\n",
    "    print(fib(i))"
   ]
  },
  {
   "cell_type": "code",
   "execution_count": null,
   "id": "dcf85159",
   "metadata": {
    "execution": {
     "iopub.execute_input": "2023-11-14T03:33:23.387160Z",
     "iopub.status.busy": "2023-11-14T03:33:23.386788Z",
     "iopub.status.idle": "2023-11-14T03:33:23.391905Z",
     "shell.execute_reply": "2023-11-14T03:33:23.391201Z"
    }
   },
   "outputs": [],
   "source": [
    "print(fib(35))"
   ]
  },
  {
   "cell_type": "markdown",
   "id": "d519a127",
   "metadata": {
    "slideshow": {
     "slide_type": "slide"
    }
   },
   "source": [
    "Great! But here's another option:"
   ]
  },
  {
   "cell_type": "code",
   "execution_count": null,
   "id": "070ec507",
   "metadata": {
    "execution": {
     "iopub.execute_input": "2023-11-14T03:33:23.395786Z",
     "iopub.status.busy": "2023-11-14T03:33:23.395424Z",
     "iopub.status.idle": "2023-11-14T03:33:23.400146Z",
     "shell.execute_reply": "2023-11-14T03:33:23.399245Z"
    }
   },
   "outputs": [],
   "source": [
    "def fib(n):\n",
    "    if n == 0:\n",
    "        return 0\n",
    "    elif n == 1:\n",
    "        return 1\n",
    "    else:\n",
    "        return fib(n-1) + fib(n-2)"
   ]
  },
  {
   "cell_type": "code",
   "execution_count": null,
   "id": "f2e6d654",
   "metadata": {
    "execution": {
     "iopub.execute_input": "2023-11-14T03:33:23.404954Z",
     "iopub.status.busy": "2023-11-14T03:33:23.404585Z",
     "iopub.status.idle": "2023-11-14T03:33:23.409426Z",
     "shell.execute_reply": "2023-11-14T03:33:23.408564Z"
    },
    "slideshow": {
     "slide_type": "subslide"
    }
   },
   "outputs": [],
   "source": [
    "for i in range(10):\n",
    "    print(fib(i))"
   ]
  },
  {
   "cell_type": "code",
   "execution_count": null,
   "id": "1bbb15de",
   "metadata": {
    "execution": {
     "iopub.execute_input": "2023-11-14T03:33:23.414080Z",
     "iopub.status.busy": "2023-11-14T03:33:23.413256Z",
     "iopub.status.idle": "2023-11-14T03:33:28.978159Z",
     "shell.execute_reply": "2023-11-14T03:33:28.977367Z"
    }
   },
   "outputs": [],
   "source": [
    "print(fib(35))"
   ]
  },
  {
   "cell_type": "markdown",
   "id": "bb34b3dc",
   "metadata": {
    "slideshow": {
     "slide_type": "subslide"
    }
   },
   "source": [
    "## Recursion\n",
    "\n",
    "When a function calls itself, it is called **recursion**."
   ]
  },
  {
   "cell_type": "markdown",
   "id": "677a59cb",
   "metadata": {
    "slideshow": {
     "slide_type": "subslide"
    }
   },
   "source": [
    "## Recursion\n",
    "\n",
    "Recursion is often not an efficient solution, as we saw above.\n",
    "\n",
    "It is virtually never used in production code. There is always a way to re-write a recursive solution using loops."
   ]
  },
  {
   "cell_type": "markdown",
   "id": "5fa1914b",
   "metadata": {
    "slideshow": {
     "slide_type": "fragment"
    }
   },
   "source": [
    "So why learn it?"
   ]
  },
  {
   "cell_type": "markdown",
   "id": "f678212a",
   "metadata": {
    "slideshow": {
     "slide_type": "subslide"
    }
   },
   "source": [
    "## Recursion - why learn it?\n",
    "\n",
    "2 reasons:\n",
    "\n",
    "1. Some algorithms are **much simpler** to express recursively.\n",
    "2. It is often easier to prove things (such as correctness or efficiency) about the recursive version of an algorithm. \n",
    "\n",
    "If you continue into Computer Science, recursion is a critical concept.\n",
    "\n",
    "If you don't, it is still a useful, interesting way to try to break some problems down."
   ]
  },
  {
   "cell_type": "markdown",
   "id": "3514553a",
   "metadata": {
    "slideshow": {
     "slide_type": "slide"
    }
   },
   "source": [
    "## The recursion formula\n",
    "\n",
    "In recursion, we talk about 2 things: **base cases** and **recursive steps**.\n",
    "\n",
    "**Base case(s)** are the cases we immediately know the answer to.\n",
    "* Base cases don't call the same function again.\n",
    "* If you don't define at least one base case, your recursive function will go on forever.\n",
    "* For the Fibonacci numbers, the base cases are the first 2 numbers: 0 and 1\n",
    "\n",
    "**Recursive step(s)** are the steps where we apply the same function to a smaller or simpler version of the input.\n",
    "* Recursive steps must be guaranteed to somehow get \"closer\" to the base case, otherwise your recursive function will go on forever.\n",
    "* For the Fibonacci numbers, we calculate the `n`th number by computing the `n-1`th and `n-2`th number with the same function."
   ]
  },
  {
   "cell_type": "code",
   "execution_count": null,
   "id": "eda482da",
   "metadata": {
    "execution": {
     "iopub.execute_input": "2023-11-14T03:33:28.983844Z",
     "iopub.status.busy": "2023-11-14T03:33:28.983425Z",
     "iopub.status.idle": "2023-11-14T03:33:28.988649Z",
     "shell.execute_reply": "2023-11-14T03:33:28.987774Z"
    },
    "slideshow": {
     "slide_type": "subslide"
    }
   },
   "outputs": [],
   "source": [
    "def fib(n):\n",
    "    if n == 0:    # base case 1\n",
    "        return 0\n",
    "    elif n == 1:  # base case 2\n",
    "        return 1\n",
    "    else:         # recursive case\n",
    "        return fib(n-1) + fib(n-2)"
   ]
  },
  {
   "cell_type": "markdown",
   "id": "636abc6b",
   "metadata": {
    "slideshow": {
     "slide_type": "slide"
    }
   },
   "source": [
    "## Exercise\n",
    "\n",
    "Write a recursive function to sum the digits of a number."
   ]
  },
  {
   "cell_type": "markdown",
   "id": "ab658330",
   "metadata": {
    "slideshow": {
     "slide_type": "fragment"
    }
   },
   "source": [
    "What is our base case?\n",
    "\n",
    "What is our recursive step?"
   ]
  },
  {
   "cell_type": "markdown",
   "id": "d802c504",
   "metadata": {
    "slideshow": {
     "slide_type": "subslide"
    }
   },
   "source": [
    "Base case: a single digit number sums to itself\n",
    "\n",
    "Recursive step: compute the sum of the first `n-1` digits, and add the `n`th digit to that sum"
   ]
  },
  {
   "cell_type": "code",
   "execution_count": null,
   "id": "51d9cf2f",
   "metadata": {
    "execution": {
     "iopub.execute_input": "2023-11-14T03:33:28.992934Z",
     "iopub.status.busy": "2023-11-14T03:33:28.992604Z",
     "iopub.status.idle": "2023-11-14T03:33:28.997126Z",
     "shell.execute_reply": "2023-11-14T03:33:28.996257Z"
    }
   },
   "outputs": [],
   "source": [
    "def sum_digits(num):\n",
    "    if num < 10:     # base case\n",
    "        return num\n",
    "    else:\n",
    "        return (num % 10) + sum_digits(num // 10)"
   ]
  },
  {
   "cell_type": "code",
   "execution_count": null,
   "id": "40020146",
   "metadata": {
    "execution": {
     "iopub.execute_input": "2023-11-14T03:33:29.003229Z",
     "iopub.status.busy": "2023-11-14T03:33:29.002206Z",
     "iopub.status.idle": "2023-11-14T03:33:29.006900Z",
     "shell.execute_reply": "2023-11-14T03:33:29.006110Z"
    }
   },
   "outputs": [],
   "source": [
    "print(sum_digits(1234))\n",
    "print(sum_digits(999999999))"
   ]
  },
  {
   "cell_type": "markdown",
   "id": "64d5000a",
   "metadata": {
    "slideshow": {
     "slide_type": "slide"
    }
   },
   "source": [
    "## Exercise\n",
    "\n",
    "Write a recursive function to calculate the power of a number, given the base and exponent.\n",
    "\n",
    "What is the base case? What is the recursive step?"
   ]
  },
  {
   "cell_type": "markdown",
   "id": "52f55d02",
   "metadata": {
    "slideshow": {
     "slide_type": "subslide"
    }
   },
   "source": [
    "Base case: exponent is 0\n",
    "\n",
    "Recursive case: compute the power of `base` and `exponent-1`, and multiply that by `base`."
   ]
  },
  {
   "cell_type": "code",
   "execution_count": null,
   "id": "83160c04",
   "metadata": {
    "execution": {
     "iopub.execute_input": "2023-11-14T03:33:29.011199Z",
     "iopub.status.busy": "2023-11-14T03:33:29.010859Z",
     "iopub.status.idle": "2023-11-14T03:33:29.015594Z",
     "shell.execute_reply": "2023-11-14T03:33:29.014424Z"
    }
   },
   "outputs": [],
   "source": [
    "def raise_to_power(base, exponent):\n",
    "    if exponent == 0:\n",
    "        return 1\n",
    "    else:\n",
    "        return raise_to_power(base, exponent-1) * base"
   ]
  },
  {
   "cell_type": "code",
   "execution_count": null,
   "id": "17a5420d",
   "metadata": {
    "execution": {
     "iopub.execute_input": "2023-11-14T03:33:29.020894Z",
     "iopub.status.busy": "2023-11-14T03:33:29.020531Z",
     "iopub.status.idle": "2023-11-14T03:33:29.025433Z",
     "shell.execute_reply": "2023-11-14T03:33:29.024554Z"
    }
   },
   "outputs": [],
   "source": [
    "print(raise_to_power(2, 4))\n",
    "print(raise_to_power(10, 3))\n",
    "print(raise_to_power(1.5, 15))"
   ]
  },
  {
   "cell_type": "markdown",
   "id": "da2edf68",
   "metadata": {
    "slideshow": {
     "slide_type": "slide"
    }
   },
   "source": [
    "## Exercise\n",
    "\n",
    "Write a function to solve a [Tower of Hanoi](https://en.wikipedia.org/wiki/Tower_of_Hanoi) puzzle.\n",
    "\n",
    "This one is trickier.\n",
    "\n",
    "Let's play a quick game: [browser Tower of Hanoi game](https://www.mathsisfun.com/games/towerofhanoi.html)"
   ]
  },
  {
   "cell_type": "markdown",
   "id": "d5385f8a",
   "metadata": {
    "slideshow": {
     "slide_type": "subslide"
    }
   },
   "source": [
    "Let's define some notation and assumptions.\n",
    "\n",
    "* We have 3 pegs to work with, and we'll label them `a`, `b`, and `c`.\n",
    "* Discs are labeled `1` through `n`, with disc `1` being the smallest and `n` being the largest.\n",
    "* The game starts with `n` discs on peg `a`."
   ]
  },
  {
   "cell_type": "markdown",
   "id": "3e2f4588",
   "metadata": {
    "slideshow": {
     "slide_type": "subslide"
    }
   },
   "source": [
    "## Key insight\n",
    "\n",
    "If we have a valid stack of discs, and need to move the top `m` of them from peg `a` to `c`, we first have to move `m-1` discs to peg `b` to free up disc `m`."
   ]
  },
  {
   "cell_type": "markdown",
   "id": "a1a6223c",
   "metadata": {
    "slideshow": {
     "slide_type": "subslide"
    }
   },
   "source": [
    "The point of the game is: \"Move `n` discs from `a` to `c`\"\n",
    "\n",
    "Using our key insight, we can break that down into a few smaller steps:\n",
    "\n",
    "1. Move `n` discs from `a` to `c` by doing:\n",
    "   1. Move `n-1` discs from `a` to `b`.\n",
    "   2. Move disc `n` to `c`.\n",
    "   3. Move `n-1` discs from `b` to `c`."
   ]
  },
  {
   "cell_type": "markdown",
   "id": "49e4c1be",
   "metadata": {
    "slideshow": {
     "slide_type": "subslide"
    }
   },
   "source": [
    "We can then expand further: \"Move the top `n-1` discs from `a` to `b`\" becomes:\n",
    "\n",
    "1. Move `n-2` discs from `a` to `c`.\n",
    "2. Move disc `n-1` to `b`.\n",
    "3. Move `n-2` discs from `c` to `b`.\n"
   ]
  },
  {
   "cell_type": "markdown",
   "id": "659dd684",
   "metadata": {
    "slideshow": {
     "slide_type": "subslide"
    }
   },
   "source": [
    "So now our entire game looks like this: \n",
    "\n",
    "1. Move `n` discs from `a` to `c` by doing:\n",
    "   1. Move `n-1` discs from `a` to `b`.\n",
    "      1. Move `n-2` discs from `a` to `c`.\n",
    "      2. Move disc `n-1` to `b`.\n",
    "      3. Move the `n-2` discs from `c` to `b`.\n",
    "   2. Move disc `n` to `c`.\n",
    "   3. Move `n-1` discs from `b` to `c`."
   ]
  },
  {
   "cell_type": "markdown",
   "id": "9d151fa6",
   "metadata": {
    "slideshow": {
     "slide_type": "subslide"
    }
   },
   "source": [
    "We can similarly expand the last step:\n",
    "\n",
    "1. Move `n` discs from `a` to `c` by doing:\n",
    "    1. Move `n-1` discs from `a` to `b` by doing:\n",
    "       1. Move `n-2` discs from `a` to `c`.\n",
    "       2. Move disc `n-1` to `b`.\n",
    "       3. Move `n-2` discs from `c` to `b`.\n",
    "    2. Move disc `n` to peg `c`.\n",
    "    3. Move `n-1` discs from `b` to `c` by doing:\n",
    "       1. Move `n-2` discs from `b` to `a`.\n",
    "       2. Move disc `n-1` to `c`.\n",
    "       3. Move `n-2` discs from `a` to `c`.\n"
   ]
  },
  {
   "cell_type": "markdown",
   "id": "6ad17526",
   "metadata": {
    "slideshow": {
     "slide_type": "subslide"
    }
   },
   "source": [
    "One more level...\n",
    "\n",
    "1. Move `n` discs from `a` to `c` by doing:\n",
    "    1. Move `n-1` discs from `a` to `b` by doing:\n",
    "       1. Move `n-2` discs from `a` to `c` by doing:\n",
    "          1. Move `n-3` discs from `a` to `b`.\n",
    "          1. Move disc `n-2` to `c`\n",
    "          1. Move `n-3` discs from `b` to `c`.   \n",
    "       2. Move disc `n-1` to `b`.\n",
    "       3. Move `n-2` discs from `c` to `b`.\n",
    "    2. Move disc `n` to peg `c`.\n",
    "    3. Move `n-1` discs from `b` to `c` by doing:\n",
    "       1. Move `n-2` discs from `b` to `a`.\n",
    "       2. Move disc `n-1` to `c`.\n",
    "       3. Move `n-2` discs from `a` to `c`."
   ]
  },
  {
   "cell_type": "markdown",
   "id": "e7d6f506",
   "metadata": {
    "slideshow": {
     "slide_type": "subslide"
    }
   },
   "source": [
    "We can see the recursive nature of this solution!"
   ]
  },
  {
   "cell_type": "markdown",
   "id": "2bedda84",
   "metadata": {
    "slideshow": {
     "slide_type": "subslide"
    }
   },
   "source": [
    "First, our base case. Moving a single disc."
   ]
  },
  {
   "cell_type": "code",
   "execution_count": null,
   "id": "ff46bbcb",
   "metadata": {
    "execution": {
     "iopub.execute_input": "2023-11-14T03:33:29.030415Z",
     "iopub.status.busy": "2023-11-14T03:33:29.030036Z",
     "iopub.status.idle": "2023-11-14T03:33:29.036105Z",
     "shell.execute_reply": "2023-11-14T03:33:29.035067Z"
    },
    "slideshow": {
     "slide_type": ""
    }
   },
   "outputs": [],
   "source": [
    "def hanoi(discs, source, target, other):\n",
    "    if discs == 1:\n",
    "        print(f\"Move disc 1 from '{source}' to '{target}'\")\n",
    "    else:\n",
    "        print(\"I dunno\")"
   ]
  },
  {
   "cell_type": "markdown",
   "id": "b1cba582",
   "metadata": {
    "slideshow": {
     "slide_type": "fragment"
    }
   },
   "source": [
    "It may not be obvious yet, but it's safe to assume that it's valid to move a single disc from `source` to `target`.\n",
    "\n",
    "Our final algorithm will never attempt an invalid move."
   ]
  },
  {
   "cell_type": "code",
   "execution_count": null,
   "id": "839a0519",
   "metadata": {
    "execution": {
     "iopub.execute_input": "2023-11-14T03:33:29.040767Z",
     "iopub.status.busy": "2023-11-14T03:33:29.040091Z",
     "iopub.status.idle": "2023-11-14T03:33:29.044468Z",
     "shell.execute_reply": "2023-11-14T03:33:29.043675Z"
    },
    "slideshow": {
     "slide_type": "subslide"
    }
   },
   "outputs": [],
   "source": [
    "hanoi(1, 'a', 'c', 'b')"
   ]
  },
  {
   "cell_type": "markdown",
   "id": "628fcb9a",
   "metadata": {
    "slideshow": {
     "slide_type": "subslide"
    }
   },
   "source": [
    "Now the recursive case. Remember our steps:\n",
    "1. move `n-1` to `other`\n",
    "2. move `n` to `target` \n",
    "3. move `n-1` to `target`"
   ]
  },
  {
   "cell_type": "code",
   "execution_count": null,
   "id": "4ba83e54",
   "metadata": {
    "execution": {
     "iopub.execute_input": "2023-11-14T03:33:29.050498Z",
     "iopub.status.busy": "2023-11-14T03:33:29.049837Z",
     "iopub.status.idle": "2023-11-14T03:33:29.056016Z",
     "shell.execute_reply": "2023-11-14T03:33:29.055016Z"
    },
    "slideshow": {
     "slide_type": ""
    }
   },
   "outputs": [],
   "source": [
    "def hanoi(discs, source, target, other):\n",
    "    if discs == 1:\n",
    "        print(f\"Move disc 1 from '{source}' to '{target}'\")\n",
    "    else:\n",
    "        hanoi(discs-1, source, other, target)\n",
    "        print(f\"Move disc {discs} from '{source}' to '{target}'\")\n",
    "        hanoi(discs-1, other, target, source)"
   ]
  },
  {
   "cell_type": "code",
   "execution_count": null,
   "id": "169b4464",
   "metadata": {
    "execution": {
     "iopub.execute_input": "2023-11-14T03:33:29.060089Z",
     "iopub.status.busy": "2023-11-14T03:33:29.059743Z",
     "iopub.status.idle": "2023-11-14T03:33:29.064151Z",
     "shell.execute_reply": "2023-11-14T03:33:29.062978Z"
    },
    "slideshow": {
     "slide_type": "subslide"
    }
   },
   "outputs": [],
   "source": [
    "hanoi(2, 'a', 'c', 'b')"
   ]
  },
  {
   "cell_type": "code",
   "execution_count": null,
   "id": "9e834928",
   "metadata": {
    "execution": {
     "iopub.execute_input": "2023-11-14T03:33:29.070428Z",
     "iopub.status.busy": "2023-11-14T03:33:29.069941Z",
     "iopub.status.idle": "2023-11-14T03:33:29.075058Z",
     "shell.execute_reply": "2023-11-14T03:33:29.074223Z"
    },
    "slideshow": {
     "slide_type": "subslide"
    }
   },
   "outputs": [],
   "source": [
    "hanoi(3, 'a', 'c', 'b')"
   ]
  },
  {
   "cell_type": "code",
   "execution_count": null,
   "id": "602847d3",
   "metadata": {
    "execution": {
     "iopub.execute_input": "2023-11-14T03:33:29.078741Z",
     "iopub.status.busy": "2023-11-14T03:33:29.078414Z",
     "iopub.status.idle": "2023-11-14T03:33:29.084448Z",
     "shell.execute_reply": "2023-11-14T03:33:29.083522Z"
    },
    "slideshow": {
     "slide_type": "subslide"
    }
   },
   "outputs": [],
   "source": [
    "hanoi(7, 'a', 'c', 'b')"
   ]
  },
  {
   "cell_type": "markdown",
   "id": "10d79fae",
   "metadata": {
    "slideshow": {
     "slide_type": "subslide"
    }
   },
   "source": [
    "## Exercise\n",
    "\n",
    "Modify our hanoi function to just count the number of moves required."
   ]
  },
  {
   "cell_type": "code",
   "execution_count": null,
   "id": "8d6b7c07",
   "metadata": {
    "execution": {
     "iopub.execute_input": "2023-11-14T03:33:29.088882Z",
     "iopub.status.busy": "2023-11-14T03:33:29.088464Z",
     "iopub.status.idle": "2023-11-14T03:33:29.093200Z",
     "shell.execute_reply": "2023-11-14T03:33:29.092389Z"
    },
    "slideshow": {
     "slide_type": "subslide"
    }
   },
   "outputs": [],
   "source": [
    "def count_hanoi(discs, source, target, other):\n",
    "    if discs == 1:\n",
    "        return 1\n",
    "    else:\n",
    "        return 1 + count_hanoi(discs-1, source, other, target) + count_hanoi(discs-1, other, target, source)"
   ]
  },
  {
   "cell_type": "code",
   "execution_count": null,
   "id": "c98851d2",
   "metadata": {
    "execution": {
     "iopub.execute_input": "2023-11-14T03:33:29.097258Z",
     "iopub.status.busy": "2023-11-14T03:33:29.096804Z",
     "iopub.status.idle": "2023-11-14T03:33:29.101479Z",
     "shell.execute_reply": "2023-11-14T03:33:29.100704Z"
    }
   },
   "outputs": [],
   "source": [
    "print(count_hanoi(7, 'a', 'c', 'b'))"
   ]
  },
  {
   "cell_type": "code",
   "execution_count": null,
   "id": "fff0c93d",
   "metadata": {
    "execution": {
     "iopub.execute_input": "2023-11-14T03:33:29.105823Z",
     "iopub.status.busy": "2023-11-14T03:33:29.105468Z",
     "iopub.status.idle": "2023-11-14T03:33:29.109803Z",
     "shell.execute_reply": "2023-11-14T03:33:29.109030Z"
    }
   },
   "outputs": [],
   "source": [
    "print(count_hanoi(10, 'a', 'c', 'b'))"
   ]
  },
  {
   "cell_type": "code",
   "execution_count": null,
   "id": "c98b897d",
   "metadata": {
    "execution": {
     "iopub.execute_input": "2023-11-14T03:33:29.114058Z",
     "iopub.status.busy": "2023-11-14T03:33:29.113709Z",
     "iopub.status.idle": "2023-11-14T03:33:29.295094Z",
     "shell.execute_reply": "2023-11-14T03:33:29.294274Z"
    }
   },
   "outputs": [],
   "source": [
    "print(count_hanoi(20, 'a', 'c', 'b'))"
   ]
  },
  {
   "cell_type": "markdown",
   "id": "3208876b",
   "metadata": {
    "slideshow": {
     "slide_type": "slide"
    }
   },
   "source": [
    "# Wrap up\n",
    "\n",
    "We saw, especially with this last example, how recursion can provide very elegant implementations of seemingly complex algorithms.\n",
    "\n",
    "It can have a similar effect when trying to prove the efficiency or correctness of an algorithm. Proving things about base cases is often trivial. Proving that the recursive steps are correct, or counting the number of recursive steps needed is also often (relatively) simple. \n",
    "\n",
    "Even if you never write a recursive function, learning how to break a problem down into base cases and recursive steps can be a very powerful problem solving technique."
   ]
  }
 ],
 "metadata": {
  "celltoolbar": "Slideshow",
  "kernelspec": {
   "display_name": "Python 3 (ipykernel)",
   "language": "python",
   "name": "python3"
  },
  "language_info": {
   "codemirror_mode": {
    "name": "ipython",
    "version": 3
   },
   "file_extension": ".py",
   "mimetype": "text/x-python",
   "name": "python",
   "nbconvert_exporter": "python",
   "pygments_lexer": "ipython3",
   "version": "3.10.9"
  }
 },
 "nbformat": 4,
 "nbformat_minor": 5
}
