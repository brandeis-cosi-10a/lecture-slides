{
 "cells": [
  {
   "cell_type": "markdown",
   "id": "14aab3a0-7e52-4129-997b-1c02404760cc",
   "metadata": {
    "slideshow": {
     "slide_type": "slide"
    },
    "tags": []
   },
   "source": [
    "# Cosi-10a: Introduction to Problem Solving in Python\n",
    "### Fall 2023\n",
    "\n",
    "<small>[Link to interactive slides on Google Colab](https://colab.research.google.com/github/brandeis-jdelfino/cosi-10a/blob/main/lectures/notebooks/2_datatypes_expressions_variables.ipynb)</small>\n",
    "\n",
    "<style>\n",
    "section.present > section.present { \n",
    "    max-height: 100%; \n",
    "    overflow-y: scroll;\n",
    "}\n",
    "</style>"
   ]
  },
  {
   "cell_type": "markdown",
   "id": "2215c343",
   "metadata": {
    "slideshow": {
     "slide_type": "slide"
    }
   },
   "source": [
    "## Who am I?\n",
    "\n",
    "Joe Delfino - you can call me Joe or Mr. Delfino.\n",
    "\n",
    "I spent 19 years as a software engineer, in a variety of industries and roles.\n",
    "\n",
    "I love using code to build simple, elegant solutions to hard problems. I also love teaching other people how to do this!\n",
    "\n",
    "I also teach Computer Science and Computational Thinking at a middle/high school in Brookline.\n",
    "\n",
    "If you ever have questions or want to talk, don't hesitate to reach out in person or via email, I'd love to connect directly with you."
   ]
  },
  {
   "cell_type": "markdown",
   "id": "defd85ee",
   "metadata": {
    "slideshow": {
     "slide_type": "slide"
    }
   },
   "source": [
    "## Why are you here?\n",
    "\n",
    "## What are you hoping to get from Cosi-10a?\n"
   ]
  },
  {
   "cell_type": "markdown",
   "id": "5f8d8bbc",
   "metadata": {
    "slideshow": {
     "slide_type": "slide"
    }
   },
   "source": [
    "# Why <sub><small>(I think)</small></sub> this class is valuable\n",
    "\n"
   ]
  },
  {
   "cell_type": "markdown",
   "id": "412a7f69",
   "metadata": {
    "slideshow": {
     "slide_type": "fragment"
    }
   },
   "source": [
    "* Required skill for the study of Computer Science, which is a fascinating field"
   ]
  },
  {
   "cell_type": "markdown",
   "id": "a8c5c0e6",
   "metadata": {
    "slideshow": {
     "slide_type": "fragment"
    }
   },
   "source": [
    "* Problem solving skills you'll practice here are applicable to many domains"
   ]
  },
  {
   "cell_type": "markdown",
   "id": "964116f3",
   "metadata": {
    "slideshow": {
     "slide_type": "fragment"
    }
   },
   "source": [
    "* Programming computers is empowering"
   ]
  },
  {
   "cell_type": "markdown",
   "id": "bdbc7406-af19-46f8-a5e1-8c31fd972508",
   "metadata": {
    "slideshow": {
     "slide_type": "slide"
    },
    "tags": []
   },
   "source": [
    "# What will you learn?"
   ]
  },
  {
   "cell_type": "markdown",
   "id": "a2b29dad",
   "metadata": {
    "slideshow": {
     "slide_type": "subslide"
    }
   },
   "source": [
    "## Fundamentals of the Python programming language\n",
    "* “If X is true, then do Y, otherwise do Z”\n",
    "* “Perform this operation 10 times”\n",
    "* “Find the sum of a list of numbers”"
   ]
  },
  {
   "cell_type": "markdown",
   "id": "78eac96a",
   "metadata": {
    "slideshow": {
     "slide_type": "subslide"
    }
   },
   "source": [
    "## How to apply code to solve problems\n",
    "\n",
    "Examples of some problems you'll tackle in this class:\n",
    "* Write code to calculate the boiling point of water at any altitude\n",
    "* Write a text-based program to track inventory and sales for a small store\n",
    "* Write a text-based Jeopardy game"
   ]
  },
  {
   "cell_type": "markdown",
   "id": "0a273840",
   "metadata": {
    "slideshow": {
     "slide_type": "subslide"
    }
   },
   "source": [
    "## Problem solving techniques\n",
    "* Decomposition\n",
    "* Abstraction\n",
    "* Pattern Matching\n",
    "* Algorithmic Representation\n",
    "* Debugging\n"
   ]
  },
  {
   "cell_type": "markdown",
   "id": "00f603e2",
   "metadata": {
    "slideshow": {
     "slide_type": "slide"
    }
   },
   "source": [
    "# Python\n",
    "<small>(not the snake)</small>\n"
   ]
  },
  {
   "cell_type": "markdown",
   "id": "e7ee7917",
   "metadata": {
    "slideshow": {
     "slide_type": "subslide"
    }
   },
   "source": [
    "## This class focuses on the Python programming language\n",
    "\n",
    "### Python:\n",
    "* Is very commonly used, especially for machine learning, data analysis, and web servers\n",
    "* Has a (relatively) shallow learning curve\n",
    "* Has great documentation and community support\n",
    "* Has many libraries readily available\n"
   ]
  },
  {
   "cell_type": "markdown",
   "id": "4ec10795",
   "metadata": {
    "slideshow": {
     "slide_type": "subslide"
    }
   },
   "source": [
    "## Other languages\n",
    "\n",
    "### Many, many other programming languages exist:\n",
    "* __Javascript__: web (client and server) programming\n",
    "* __Java__: ubiquitous, many applications\n",
    "* __C and C++__: lower level languages, nowadays most common for performance sensitive applications\n",
    "* __HTML & CSS__: not programming languages (debatably), but are used for web development\n",
    "* __Swift / Kotlin__: iOS and Android development, respectively\n",
    "* __Matlab, R__: data analysis and visualization\n",
    "* Countless others: __Ruby, PHP, C#, Go, Rust, Perl__, etc"
   ]
  },
  {
   "cell_type": "markdown",
   "id": "5adbb5dc",
   "metadata": {
    "slideshow": {
     "slide_type": "slide"
    }
   },
   "source": [
    "# Writing and running code\n",
    "* To write Python, all you need is a text editor\n",
    "* To run (or execute) Python code, you need an interpreter\n",
    "* A Python interpreter translates your code into lower level instructions, and then executes them\n",
    "* Similar to interpreter who translates between spoken languages"
   ]
  },
  {
   "cell_type": "markdown",
   "id": "eba58804",
   "metadata": {
    "slideshow": {
     "slide_type": "subslide"
    }
   },
   "source": [
    "## Integrated Development Environments\n",
    "\n",
    "Integrated Development Environments (IDEs) are applications that integrate the text editor and the interpreter\n",
    "\n",
    "We’ll use a cloud-based IDE called [repl.it](https://repl.it)\n",
    "\n",
    "No local setup required - just a modern browser\n",
    "\n",
    "repl.it has integrated tools to run and debug your code, and lots of quality-of-life features that you will appreciate as we go deeper\n",
    "\n",
    "[Link to our class on repl.it](https://replit.com/team/cosi-10a-fall23) (this link is also on LATTE)\n"
   ]
  },
  {
   "cell_type": "markdown",
   "id": "686eee8f",
   "metadata": {
    "slideshow": {
     "slide_type": "slide"
    }
   },
   "source": [
    "# Our first Python program\n",
    "\n",
    "repl.it: [Lecture 1 exercises: Hello, world](https://replit.com/@cosi-10a-fall23/Hello-world)"
   ]
  },
  {
   "cell_type": "code",
   "execution_count": null,
   "id": "7a2e43e9",
   "metadata": {
    "execution": {
     "iopub.execute_input": "2023-08-31T02:13:27.148527Z",
     "iopub.status.busy": "2023-08-31T02:13:27.148227Z",
     "iopub.status.idle": "2023-08-31T02:13:27.157709Z",
     "shell.execute_reply": "2023-08-31T02:13:27.157039Z"
    },
    "slideshow": {
     "slide_type": "fragment"
    },
    "tags": []
   },
   "outputs": [],
   "source": [
    "print(\"Hello world!\")\n"
   ]
  },
  {
   "cell_type": "markdown",
   "id": "27aabf09",
   "metadata": {
    "slideshow": {
     "slide_type": "subslide"
    }
   },
   "source": [
    "# Code is picky\n",
    "\n",
    "## Spacing, punctuation, capitalization all matter"
   ]
  },
  {
   "cell_type": "markdown",
   "id": "bef05d94",
   "metadata": {
    "slideshow": {
     "slide_type": "subslide"
    }
   },
   "source": [
    "* Quotation marks are required here"
   ]
  },
  {
   "cell_type": "code",
   "execution_count": null,
   "id": "5ad0817d",
   "metadata": {
    "execution": {
     "iopub.execute_input": "2023-08-31T02:13:27.161135Z",
     "iopub.status.busy": "2023-08-31T02:13:27.160866Z",
     "iopub.status.idle": "2023-08-31T02:13:27.164984Z",
     "shell.execute_reply": "2023-08-31T02:13:27.164338Z"
    },
    "slideshow": {
     "slide_type": "-"
    },
    "tags": [
     "raises-exception"
    ]
   },
   "outputs": [],
   "source": [
    "print(Hello, world!)"
   ]
  },
  {
   "cell_type": "markdown",
   "id": "c417f380",
   "metadata": {
    "slideshow": {
     "slide_type": "subslide"
    }
   },
   "source": [
    "* Parentheses are required here"
   ]
  },
  {
   "cell_type": "code",
   "execution_count": null,
   "id": "bab1c969",
   "metadata": {
    "execution": {
     "iopub.execute_input": "2023-08-31T02:13:27.168179Z",
     "iopub.status.busy": "2023-08-31T02:13:27.167777Z",
     "iopub.status.idle": "2023-08-31T02:13:27.172170Z",
     "shell.execute_reply": "2023-08-31T02:13:27.171458Z"
    },
    "slideshow": {
     "slide_type": "-"
    },
    "tags": [
     "raises-exception"
    ]
   },
   "outputs": [],
   "source": [
    "print \"Hello, world!\""
   ]
  },
  {
   "cell_type": "markdown",
   "id": "70a5ac86",
   "metadata": {
    "slideshow": {
     "slide_type": "subslide"
    }
   },
   "source": [
    "* \"print\" must be lowercase"
   ]
  },
  {
   "cell_type": "code",
   "execution_count": null,
   "id": "a5fd6d0a",
   "metadata": {
    "execution": {
     "iopub.execute_input": "2023-08-31T02:13:27.175651Z",
     "iopub.status.busy": "2023-08-31T02:13:27.175352Z",
     "iopub.status.idle": "2023-08-31T02:13:27.470641Z",
     "shell.execute_reply": "2023-08-31T02:13:27.470061Z"
    },
    "slideshow": {
     "slide_type": "-"
    },
    "tags": [
     "raises-exception"
    ]
   },
   "outputs": [],
   "source": [
    "Print(\"Hello, world!\")"
   ]
  },
  {
   "cell_type": "markdown",
   "id": "c51422ae",
   "metadata": {
    "slideshow": {
     "slide_type": "subslide"
    }
   },
   "source": [
    "* In Python, even indentation matters!"
   ]
  },
  {
   "cell_type": "code",
   "execution_count": null,
   "id": "b3b09d61",
   "metadata": {
    "execution": {
     "iopub.execute_input": "2023-08-31T02:13:27.475243Z",
     "iopub.status.busy": "2023-08-31T02:13:27.474781Z",
     "iopub.status.idle": "2023-08-31T02:13:27.479815Z",
     "shell.execute_reply": "2023-08-31T02:13:27.479088Z"
    },
    "slideshow": {
     "slide_type": "-"
    },
    "tags": [
     "raises-exception"
    ]
   },
   "outputs": [],
   "source": [
    "print(\"Hello, world!\")\n",
    "  print(\"You can't use random indents like this!\")"
   ]
  },
  {
   "cell_type": "markdown",
   "id": "1740c266",
   "metadata": {
    "slideshow": {
     "slide_type": "slide"
    }
   },
   "source": [
    "# Some terminology"
   ]
  },
  {
   "cell_type": "code",
   "execution_count": null,
   "id": "33a472bf",
   "metadata": {
    "execution": {
     "iopub.execute_input": "2023-08-31T02:13:27.483327Z",
     "iopub.status.busy": "2023-08-31T02:13:27.483048Z",
     "iopub.status.idle": "2023-08-31T02:13:27.486637Z",
     "shell.execute_reply": "2023-08-31T02:13:27.485976Z"
    },
    "slideshow": {
     "slide_type": "-"
    }
   },
   "outputs": [],
   "source": [
    "print(\"Hello, world!\")"
   ]
  },
  {
   "cell_type": "markdown",
   "id": "48b839de",
   "metadata": {
    "slideshow": {
     "slide_type": "fragment"
    }
   },
   "source": [
    "* <span style=\"color: green;\">**print**</span> is a **function**: a named, reusable block of code\n",
    "\n",
    "* This code **calls** or **invokes** the <span style=\"color: green;\">**print**</span> function."
   ]
  },
  {
   "cell_type": "markdown",
   "id": "dc176cb3",
   "metadata": {
    "slideshow": {
     "slide_type": "fragment"
    }
   },
   "source": [
    "* <span style=\"color: #BA2121;\">\"Hello, world!\"</span> is a **string**: a sequence of characters\n",
    "\n",
    "* We are passing the string <span style=\"color: #BA2121;\">\"Hello, world!\"</span> to the <span style=\"color: green;\">**print**</span> function.\n",
    "\n",
    "* A value passed to a function is called an **argument**.\n"
   ]
  },
  {
   "cell_type": "markdown",
   "id": "fc8289f3",
   "metadata": {
    "slideshow": {
     "slide_type": "fragment"
    }
   },
   "source": [
    "* So: we are calling the <span style=\"color: green;\">**print**</span> function with the string argument <span style=\"color: #BA2121;\">\"Hello, world!\"</span>\n",
    "\n",
    "* Or: we are passing the string argument <span style=\"color: #BA2121;\">\"Hello, world!\"</span> to the <span style=\"color: green;\">**print**</span> function"
   ]
  },
  {
   "cell_type": "markdown",
   "id": "2444998d",
   "metadata": {
    "slideshow": {
     "slide_type": "slide"
    }
   },
   "source": [
    "# Comments\n",
    "\n",
    "* Lines that start with a `#` are **comments**\n",
    "* They are ignored by the interpreter\n",
    "*  Comments can be used to document or explain your code."
   ]
  },
  {
   "cell_type": "code",
   "execution_count": null,
   "id": "9cad0139",
   "metadata": {
    "execution": {
     "iopub.execute_input": "2023-08-31T02:13:27.491156Z",
     "iopub.status.busy": "2023-08-31T02:13:27.490322Z",
     "iopub.status.idle": "2023-08-31T02:13:27.494411Z",
     "shell.execute_reply": "2023-08-31T02:13:27.493779Z"
    },
    "slideshow": {
     "slide_type": "-"
    }
   },
   "outputs": [],
   "source": [
    "# This is a comment. \n",
    "# Any line starting with a hashtag is a comment, and is ignored by the interpreter.\n",
    "#\n",
    "# Comments can be used to document or explain your code.\n",
    "print(\"Hello, world!\")"
   ]
  },
  {
   "cell_type": "markdown",
   "id": "fa98023b",
   "metadata": {
    "slideshow": {
     "slide_type": "slide"
    }
   },
   "source": [
    "# [Slido](https://wall.sli.do/event/roY72XuP2wvQjqZws2wEhn?section=8e77d85d-ebe0-420c-b323-6f48716773ff)"
   ]
  },
  {
   "cell_type": "markdown",
   "id": "31b83fac",
   "metadata": {
    "slideshow": {
     "slide_type": "slide"
    }
   },
   "source": [
    "# Strings\n",
    "\n",
    "* A string is a sequence of characters\n",
    "* Also referred to as `str` in Python\n",
    "* Strings are surrounded by quotes\n",
    "  * Can use single quotes (`'`) or double quotes (`\"`)\n",
    "  * No difference between the two, but the beginning and ending quote must match\n",
    "* Quotes mark where the string starts and ends, but are not included in the string itself.\n",
    "* Can use triple quotes (`\"\"\"`) to surround a string that spans multiple lines\n"
   ]
  },
  {
   "cell_type": "markdown",
   "id": "7d5bbdc6",
   "metadata": {
    "slideshow": {
     "slide_type": "subslide"
    }
   },
   "source": [
    "## String examples"
   ]
  },
  {
   "cell_type": "code",
   "execution_count": null,
   "id": "8006ac16",
   "metadata": {
    "execution": {
     "iopub.execute_input": "2023-08-31T02:13:27.497634Z",
     "iopub.status.busy": "2023-08-31T02:13:27.497374Z",
     "iopub.status.idle": "2023-08-31T02:13:27.503297Z",
     "shell.execute_reply": "2023-08-31T02:13:27.502685Z"
    },
    "slideshow": {
     "slide_type": "subslide"
    }
   },
   "outputs": [],
   "source": [
    "'I am a short string'"
   ]
  },
  {
   "cell_type": "code",
   "execution_count": null,
   "id": "ee2419f5",
   "metadata": {
    "execution": {
     "iopub.execute_input": "2023-08-31T02:13:27.506453Z",
     "iopub.status.busy": "2023-08-31T02:13:27.506134Z",
     "iopub.status.idle": "2023-08-31T02:13:27.511097Z",
     "shell.execute_reply": "2023-08-31T02:13:27.510408Z"
    },
    "slideshow": {
     "slide_type": "subslide"
    }
   },
   "outputs": [],
   "source": [
    "\"This is a longer string that goes on and on and on and on and on and on and on and on and on and on and on\""
   ]
  },
  {
   "cell_type": "code",
   "execution_count": null,
   "id": "5c9bf7fa",
   "metadata": {
    "execution": {
     "iopub.execute_input": "2023-08-31T02:13:27.514460Z",
     "iopub.status.busy": "2023-08-31T02:13:27.514170Z",
     "iopub.status.idle": "2023-08-31T02:13:27.518978Z",
     "shell.execute_reply": "2023-08-31T02:13:27.518293Z"
    },
    "slideshow": {
     "slide_type": "subslide"
    }
   },
   "outputs": [],
   "source": [
    "'You can put \"quotes\" inside'"
   ]
  },
  {
   "cell_type": "code",
   "execution_count": null,
   "id": "4c095133",
   "metadata": {
    "execution": {
     "iopub.execute_input": "2023-08-31T02:13:27.522606Z",
     "iopub.status.busy": "2023-08-31T02:13:27.522254Z",
     "iopub.status.idle": "2023-08-31T02:13:27.555929Z",
     "shell.execute_reply": "2023-08-31T02:13:27.554853Z"
    },
    "slideshow": {
     "slide_type": "subslide"
    }
   },
   "outputs": [],
   "source": [
    "\"\"\"I am a string\n",
    "that spans multiple lines\"\"\""
   ]
  },
  {
   "cell_type": "markdown",
   "id": "da2d17af",
   "metadata": {
    "slideshow": {
     "slide_type": "subslide"
    }
   },
   "source": [
    "## Invalid string examples"
   ]
  },
  {
   "cell_type": "code",
   "execution_count": null,
   "id": "c4be93a1",
   "metadata": {
    "execution": {
     "iopub.execute_input": "2023-08-31T02:13:27.561644Z",
     "iopub.status.busy": "2023-08-31T02:13:27.561312Z",
     "iopub.status.idle": "2023-08-31T02:13:27.565451Z",
     "shell.execute_reply": "2023-08-31T02:13:27.564763Z"
    },
    "slideshow": {
     "slide_type": "subslide"
    },
    "tags": [
     "raises-exception"
    ]
   },
   "outputs": [],
   "source": [
    "'This string is missing an end quote"
   ]
  },
  {
   "cell_type": "code",
   "execution_count": null,
   "id": "9d4c2642",
   "metadata": {
    "execution": {
     "iopub.execute_input": "2023-08-31T02:13:27.568931Z",
     "iopub.status.busy": "2023-08-31T02:13:27.568543Z",
     "iopub.status.idle": "2023-08-31T02:13:27.573050Z",
     "shell.execute_reply": "2023-08-31T02:13:27.572321Z"
    },
    "slideshow": {
     "slide_type": "subslide"
    },
    "tags": [
     "raises-exception"
    ]
   },
   "outputs": [],
   "source": [
    "\"Must use triple\n",
    "quotes to span multiple lines.\""
   ]
  },
  {
   "cell_type": "code",
   "execution_count": null,
   "id": "ead77a95",
   "metadata": {
    "execution": {
     "iopub.execute_input": "2023-08-31T02:13:27.577947Z",
     "iopub.status.busy": "2023-08-31T02:13:27.577604Z",
     "iopub.status.idle": "2023-08-31T02:13:27.582412Z",
     "shell.execute_reply": "2023-08-31T02:13:27.581675Z"
    },
    "slideshow": {
     "slide_type": "subslide"
    },
    "tags": [
     "raises-exception"
    ]
   },
   "outputs": [],
   "source": [
    "'This is not a 'legal' string'"
   ]
  },
  {
   "cell_type": "code",
   "execution_count": null,
   "id": "d5215948",
   "metadata": {
    "execution": {
     "iopub.execute_input": "2023-08-31T02:13:27.587069Z",
     "iopub.status.busy": "2023-08-31T02:13:27.586556Z",
     "iopub.status.idle": "2023-08-31T02:13:27.592733Z",
     "shell.execute_reply": "2023-08-31T02:13:27.591391Z"
    },
    "slideshow": {
     "slide_type": "subslide"
    },
    "tags": [
     "raises-exception"
    ]
   },
   "outputs": [],
   "source": [
    "\"This is also not a \"legal\" string\""
   ]
  },
  {
   "cell_type": "markdown",
   "id": "bbfaff10",
   "metadata": {
    "slideshow": {
     "slide_type": "subslide"
    }
   },
   "source": [
    "## Escape sequences\n",
    "\n",
    "* Special characters in a string must be “escaped”\n",
    "* Escape sequences start with a `\\` \n",
    "* Common escape sequences:\n",
    "  * `\\\"` - double quote\n",
    "  * `\\'` - single quote\n",
    "  * `\\t` - tab\n",
    "  * `\\n` - newline\n",
    "  * `\\\\` - backslash\n"
   ]
  },
  {
   "cell_type": "markdown",
   "id": "99487227",
   "metadata": {
    "slideshow": {
     "slide_type": "subslide"
    }
   },
   "source": [
    "## Escape sequence examples"
   ]
  },
  {
   "cell_type": "code",
   "execution_count": null,
   "id": "ca9c2851",
   "metadata": {
    "execution": {
     "iopub.execute_input": "2023-08-31T02:13:27.597089Z",
     "iopub.status.busy": "2023-08-31T02:13:27.596782Z",
     "iopub.status.idle": "2023-08-31T02:13:27.601338Z",
     "shell.execute_reply": "2023-08-31T02:13:27.600734Z"
    },
    "slideshow": {
     "slide_type": "subslide",
     "transition": "fade-in-then-out"
    }
   },
   "outputs": [],
   "source": [
    "'This IS a \\'legal\\' string'"
   ]
  },
  {
   "cell_type": "code",
   "execution_count": null,
   "id": "5bbfd0a1",
   "metadata": {
    "execution": {
     "iopub.execute_input": "2023-08-31T02:13:27.604391Z",
     "iopub.status.busy": "2023-08-31T02:13:27.604140Z",
     "iopub.status.idle": "2023-08-31T02:13:27.608290Z",
     "shell.execute_reply": "2023-08-31T02:13:27.607696Z"
    },
    "slideshow": {
     "slide_type": "subslide"
    }
   },
   "outputs": [],
   "source": [
    "\"This is also a \\\"legal\\\" string\""
   ]
  },
  {
   "cell_type": "code",
   "execution_count": null,
   "id": "c9fc78fa",
   "metadata": {
    "execution": {
     "iopub.execute_input": "2023-08-31T02:13:27.611427Z",
     "iopub.status.busy": "2023-08-31T02:13:27.611003Z",
     "iopub.status.idle": "2023-08-31T02:13:27.614363Z",
     "shell.execute_reply": "2023-08-31T02:13:27.613767Z"
    },
    "slideshow": {
     "slide_type": "subslide"
    }
   },
   "outputs": [],
   "source": [
    "print(\"Let's\\t\\tmake\\n\\na\\t\\tbox\")"
   ]
  },
  {
   "cell_type": "code",
   "execution_count": null,
   "id": "20c342bb",
   "metadata": {
    "execution": {
     "iopub.execute_input": "2023-08-31T02:13:27.617720Z",
     "iopub.status.busy": "2023-08-31T02:13:27.617465Z",
     "iopub.status.idle": "2023-08-31T02:13:27.621733Z",
     "shell.execute_reply": "2023-08-31T02:13:27.620608Z"
    },
    "slideshow": {
     "slide_type": "subslide"
    }
   },
   "outputs": [],
   "source": [
    "print(\"Hello!\\tI\\'m a\\ncomplicated\\\\interesting\\n\\\"string\\\"\")"
   ]
  },
  {
   "cell_type": "markdown",
   "id": "ac6467cb",
   "metadata": {
    "slideshow": {
     "slide_type": "slide"
    }
   },
   "source": [
    "# Tracing & Debugging <small>(Learn to fish)</small>\n",
    "\n",
    "* Often, your code won't work as expected (or at all)\n",
    "* Actually typing out the code is often only a fraction of the work\n",
    "* \"Debugging\" - finding and fixing the errors - is a skill on its own\n",
    "* You also won't always be working with code YOU wrote - you need practice in deciphering others' code\n",
    "* We'll cover some basic, but widely useful debugging strategies during the semester"
   ]
  },
  {
   "cell_type": "markdown",
   "id": "ffbce638",
   "metadata": {
    "slideshow": {
     "slide_type": "subslide"
    }
   },
   "source": [
    "## Step-thru debugging\n",
    "\n",
    "* \"Debuggers\" are tools that let you advance through a program step by step, and examine the state of the program at each step\n",
    "* They are very powerful, but are often painful to get set up.\n",
    "* Luckily, Python is a very debugger-friendly language, and repl.it has Python debugging support built in."
   ]
  },
  {
   "cell_type": "markdown",
   "id": "ea35111e",
   "metadata": {
    "slideshow": {
     "slide_type": "subslide"
    }
   },
   "source": [
    "## Step-thru debugging\n",
    "\n",
    "repl.it: [Lecture 1 exercises: Strings Practice](https://replit.com/@cosi-10a-fall23/Strings-practice#main.py)"
   ]
  },
  {
   "cell_type": "markdown",
   "id": "d3041bc0",
   "metadata": {
    "slideshow": {
     "slide_type": "subslide"
    }
   },
   "source": [
    "1. Open the debugging tab from the list of tools on the left\n",
    "2. Add a \"breakpoint\" by clicking in the code margin\n",
    "3. Click the play button to start your program, and the \"Next step\" arrow to move to the next line.\n",
    "\n",
    "<img src=\"./images/replit_debugging.png\" style=\"display:block; margin:auto; width: 80%;\"/>\n"
   ]
  },
  {
   "cell_type": "code",
   "execution_count": null,
   "id": "a0a38ccc",
   "metadata": {
    "execution": {
     "iopub.execute_input": "2023-08-31T02:13:27.625382Z",
     "iopub.status.busy": "2023-08-31T02:13:27.625098Z",
     "iopub.status.idle": "2023-08-31T02:13:27.629285Z",
     "shell.execute_reply": "2023-08-31T02:13:27.628634Z"
    },
    "slideshow": {
     "slide_type": "-"
    }
   },
   "outputs": [],
   "source": [
    "# %load ../../snippets/strings_practice.py\n",
    "print('Hello!\\tI\\'m a\\ncomplicated\\\\interesting\\n\\”string\\”')\n",
    "print(\"\\ta\\tb\\tc\")\n",
    "print(\"\\\\\\\\\")\n",
    "print(\"'\")\n",
    "print(\"\\\"\\\"\\\"\")\n",
    "print(\"c:\\now\\then\\this_is_confusing\")\n",
    "\n"
   ]
  },
  {
   "cell_type": "markdown",
   "id": "3f33ffde",
   "metadata": {
    "slideshow": {
     "slide_type": "subslide"
    }
   },
   "source": [
    "## Decoding error messages"
   ]
  },
  {
   "cell_type": "code",
   "execution_count": null,
   "id": "0f6d6ed2",
   "metadata": {
    "execution": {
     "iopub.execute_input": "2023-08-31T02:13:27.632492Z",
     "iopub.status.busy": "2023-08-31T02:13:27.632210Z",
     "iopub.status.idle": "2023-08-31T02:13:27.636394Z",
     "shell.execute_reply": "2023-08-31T02:13:27.635716Z"
    },
    "slideshow": {
     "slide_type": "-"
    },
    "tags": [
     "raises-exception"
    ]
   },
   "outputs": [],
   "source": [
    "print(\"What is wrong with this line)\n",
    "print \"Something else is wrong here\"\n",
    "print(This is getting ridiculous)\n",
    "print('Can't we have a single working line?')"
   ]
  },
  {
   "cell_type": "markdown",
   "id": "7dc33cef",
   "metadata": {
    "slideshow": {
     "slide_type": "subslide"
    }
   },
   "source": [
    "## Reference documentation\n",
    "* Python comes with many built-in functions and libraries, all with exhaustive documentation\n",
    "* The documentation can be very useful, but also intimidating\n",
    "* Interpreting the formal docs is a skill on its own\n",
    "* The official, formal docs will make more sense as the term goes on\n"
   ]
  },
  {
   "cell_type": "markdown",
   "id": "0300a663",
   "metadata": {
    "slideshow": {
     "slide_type": "subslide"
    }
   },
   "source": [
    "<img src=\"./images/print_refdoc.png\" style=\"display:block; margin:auto; width: 80%;\"/>\n"
   ]
  },
  {
   "cell_type": "markdown",
   "id": "1dba8cc2",
   "metadata": {
    "slideshow": {
     "slide_type": "subslide"
    }
   },
   "source": [
    "## Other sources of information\n",
    "\n",
    "* [StackOverflow](https://stackoverflow.com) can be a great source of information and help.\n",
    "  * Be sure to actually read the questions and answers - often the actual question doesn’t match the title, or the answer doesn’t actually answer the original question.\n",
    "  * For example: [How do I write a \"tab\" in Python?](https://stackoverflow.com/questions/4488570/how-do-i-write-a-tab-in-python)\n",
    "* ChatGPT, Bard, etc will try to generate code and/or explain code if you ask them. \n",
    "  * **But they produce buggy code just as often as they produce working code**. \n",
    "  * The code they produce code often looks great at first glance, but is incorrect or odd in subtle ways that you won't notice (but the TAs and I will)."
   ]
  },
  {
   "cell_type": "markdown",
   "id": "1b2904da",
   "metadata": {
    "slideshow": {
     "slide_type": "subslide"
    }
   },
   "source": [
    "## Academic honesty\n",
    "\n",
    "**The goal of this class is for your human brain to learn fundamental programming concepts and practices.**\n",
    "\n",
    "Using outside sources to short-circuit the assignments will also short-circuit your learning process. You need to practice writing your own code to truly learn the skills.\n",
    "* Copying code or answers from any outside source for a graded assignment in this class is academic dishonesty. \n",
    "\n",
    "* Discussing specific code, showing any parts of your code, or viewing any parts of someone else’s code for a graded assignment in this class is academic dishonesty.\n",
    "\n",
    "There are many ungraded exercises available for extra practice, with published solutions to compare to - feel free to work with your classmates on these, use online resources if they seem helpful, or reach out during office hours or by email!\n",
    "\n",
    "If you're stuck on a graded assignment, reach out during office hours, recitation, or by email. The TAs and I are here to help - if you are feeling stuck, turn to us before you do something that might be considered cheating. \n",
    "\n",
    "<small>See the syllabus for more detail, this is not an exhaustive guide.</small>\n"
   ]
  },
  {
   "cell_type": "markdown",
   "id": "5811b696",
   "metadata": {
    "slideshow": {
     "slide_type": "slide"
    }
   },
   "source": [
    "# Administrivia\n",
    "\n",
    "[LATTE - Cosi-10a-3](https://moodle2.brandeis.edu/course/view.php?id=31254) - The course LATTE page is the starting point for everything. Slides, recorded lectures, assignments, announcements, etc will all be posted there. \n",
    "\n",
    "\n",
    "[Grading - syllabus](https://moodle2.brandeis.edu/syllabus/default/233COSI-10A-3_1689867539.pdf) - Please read the syllabus!\n",
    "\n",
    "\n",
    "[Link to interactive slides on Google Colab](https://colab.research.google.com/github/brandeis-jdelfino/cosi-10a/blob/main/lectures/notebooks/2_datatypes_expressions_variables.ipynb) - You can access interactive versions of these slides yourself, where you can edit & run any of the code samples in the lectures.\n",
    "\n",
    "\n",
    "[Book - Automate the Boring Stuff](https://automatetheboringstuff.com/#toc) - This is free, and available online. We don't follow the book exactly, but it's very accessible, and chapters 1 through 11 map to the first 2/3 of the content we'll cover. If you need practice problems, or just want a different explanation of the concepts we're covering, try it out."
   ]
  },
  {
   "cell_type": "markdown",
   "id": "a075fd51",
   "metadata": {
    "slideshow": {
     "slide_type": "subslide"
    }
   },
   "source": [
    "## Administrivia\n",
    "\n",
    "[Mastery Learning App - Cosi-10a-3](https://mastery.cs.brandeis.edu/showCourse/644015f6715784a89ec62b31) - The Mastery Learning App (MLA) is where you will submit your assignments, and be able to track the skills you've mastered in the class. The PIN to join the class is on LATTE.\n",
    "\n",
    "\n",
    "[Mastery Learning App - Problem Set 0](https://mastery.cs.brandeis.edu/showProblem/648cbe7c715784a89ec9aced) - The first (micro) problem set. This should take you 5-10 minutes, barring any technical difficulties, and is intended to ensure you're set up for the first real problem set, which will be posted 9/5 and due 9/18.\n"
   ]
  },
  {
   "cell_type": "markdown",
   "id": "084aae09",
   "metadata": {
    "slideshow": {
     "slide_type": "slide"
    }
   },
   "source": [
    "# [Slido](https://wall.sli.do/event/roY72XuP2wvQjqZws2wEhn?section=8e77d85d-ebe0-420c-b323-6f48716773ff)"
   ]
  }
 ],
 "metadata": {
  "celltoolbar": "Slideshow",
  "kernelspec": {
   "display_name": "Python 3 (ipykernel)",
   "language": "python",
   "name": "python3"
  },
  "language_info": {
   "codemirror_mode": {
    "name": "ipython",
    "version": 3
   },
   "file_extension": ".py",
   "mimetype": "text/x-python",
   "name": "python",
   "nbconvert_exporter": "python",
   "pygments_lexer": "ipython3",
   "version": "3.10.9"
  }
 },
 "nbformat": 4,
 "nbformat_minor": 5
}
