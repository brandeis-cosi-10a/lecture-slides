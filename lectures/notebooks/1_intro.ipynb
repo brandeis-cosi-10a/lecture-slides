{
 "cells": [
  {
   "cell_type": "markdown",
   "id": "14aab3a0-7e52-4129-997b-1c02404760cc",
   "metadata": {
    "slideshow": {
     "slide_type": "slide"
    },
    "tags": []
   },
   "source": [
    "# Cosi-10a: Introduction to Problem Solving in Python\n",
    "### Fall 2023"
   ]
  },
  {
   "cell_type": "markdown",
   "id": "defd85ee",
   "metadata": {
    "slideshow": {
     "slide_type": "slide"
    }
   },
   "source": [
    "## Why are you here?\n",
    "\n",
    "## What are you hoping to get from Cosi-10a?\n"
   ]
  },
  {
   "cell_type": "markdown",
   "id": "5f8d8bbc",
   "metadata": {
    "slideshow": {
     "slide_type": "slide"
    }
   },
   "source": [
    "# Why <sub><small>(I think)</small></sub> this class is valuable\n",
    "\n"
   ]
  },
  {
   "cell_type": "markdown",
   "id": "412a7f69",
   "metadata": {
    "slideshow": {
     "slide_type": "fragment"
    }
   },
   "source": [
    "* Required skill for the study of Computer Science, which is a fascinating field"
   ]
  },
  {
   "cell_type": "markdown",
   "id": "a8c5c0e6",
   "metadata": {
    "slideshow": {
     "slide_type": "fragment"
    }
   },
   "source": [
    "* Problem solving skills you'll practice here are applicable to many domains"
   ]
  },
  {
   "cell_type": "markdown",
   "id": "964116f3",
   "metadata": {
    "slideshow": {
     "slide_type": "fragment"
    }
   },
   "source": [
    "* Programming computers is empowering"
   ]
  },
  {
   "cell_type": "markdown",
   "id": "bdbc7406-af19-46f8-a5e1-8c31fd972508",
   "metadata": {
    "slideshow": {
     "slide_type": "slide"
    },
    "tags": []
   },
   "source": [
    "# What will you learn?"
   ]
  },
  {
   "cell_type": "markdown",
   "id": "a2b29dad",
   "metadata": {
    "slideshow": {
     "slide_type": "subslide"
    }
   },
   "source": [
    "## Fundamentals of the Python programming language\n",
    "* “If X, then do Y, else do Z”\n",
    "* “Perform this operation 10 times”\n",
    "* “Find the sum of a list of numbers”"
   ]
  },
  {
   "cell_type": "markdown",
   "id": "78eac96a",
   "metadata": {
    "slideshow": {
     "slide_type": "subslide"
    }
   },
   "source": [
    "## How to apply code to solve problems:\n",
    "* Print the lyrics to “99 bottles of beer” without writing out all ~400 lines\n",
    "* Program a hangman game\n"
   ]
  },
  {
   "cell_type": "markdown",
   "id": "0a273840",
   "metadata": {
    "slideshow": {
     "slide_type": "subslide"
    }
   },
   "source": [
    "## Problem solving techniques\n",
    "* Decomposition\n",
    "* Abstraction\n",
    "* Pattern Matching\n",
    "* Algorithmic Representation\n",
    "* Debugging\n"
   ]
  },
  {
   "cell_type": "markdown",
   "id": "00f603e2",
   "metadata": {
    "slideshow": {
     "slide_type": "slide"
    }
   },
   "source": [
    "# Python\n",
    "<small>(not the snake)</small>\n"
   ]
  },
  {
   "cell_type": "markdown",
   "id": "e7ee7917",
   "metadata": {
    "slideshow": {
     "slide_type": "subslide"
    }
   },
   "source": [
    "## This class focuses on the Python programming language.\n",
    "\n",
    "### Python:\n",
    "* Is very commonly used, especially for machine learning, data analysis, and web servers\n",
    "* Has a (relatively) shallow learning curve\n",
    "* Has great documentation and community support\n",
    "* Has many libraries readily available\n"
   ]
  },
  {
   "cell_type": "markdown",
   "id": "4ec10795",
   "metadata": {
    "slideshow": {
     "slide_type": "subslide"
    }
   },
   "source": [
    "## Other languages\n",
    "\n",
    "### Many, many other programming languages exist:\n",
    "* Javascript: web (client and server) programming\n",
    "* Java: ubiquitous, many applications\n",
    "* C and C++: lower level languages, nowadays most common for performance sensitive applications\n",
    "* HTML & CSS: not programming languages (debatably), but are used for web development\n",
    "* Swift / Kotlin: iOS and Android development, respectively\n",
    "* Matlab, R: data analysis and visualization\n",
    "* Countless others: Ruby, PHP, C#, Go, Rust, Perl, etc"
   ]
  },
  {
   "cell_type": "markdown",
   "id": "5adbb5dc",
   "metadata": {
    "slideshow": {
     "slide_type": "slide"
    }
   },
   "source": [
    "# Writing and running code\n",
    "* To write Python, all you need is a text editor\n",
    "* To run (or execute) Python code, you need an interpreter\n",
    "* A Python interpreter translates your code into lower level instructions, and then executes them\n",
    "* Similar to interpreter who translates between spoken languages"
   ]
  },
  {
   "cell_type": "markdown",
   "id": "eba58804",
   "metadata": {
    "slideshow": {
     "slide_type": "subslide"
    }
   },
   "source": [
    "## Integrated Development Environments\n",
    "\n",
    "Integrated Development Environments (IDEs) are applications that integrate the text editor and the interpreter\n",
    "\n",
    "We’ll use a cloud-based IDE called [repl.it](https://repl.it)\n",
    "\n",
    "No local setup required - just a modern browser\n",
    "\n",
    "repl.it has integrated tools to run and debug your code, and lots of quality-of-life features that you will appreciate as we go deeper\n",
    "\n",
    "[Link to our class on repl.it](https://replit.com/team/cosi-10a-fall23) (this link is also on LATTE)\n"
   ]
  },
  {
   "cell_type": "markdown",
   "id": "686eee8f",
   "metadata": {
    "slideshow": {
     "slide_type": "slide"
    }
   },
   "source": [
    "# Our first Python program\n",
    "\n",
    "repl.it: [Lecture 1 exercises: Hello, world](https://replit.com/@cosi-10a-fall23/Hello-world)"
   ]
  },
  {
   "cell_type": "code",
   "execution_count": null,
   "id": "7a2e43e9",
   "metadata": {
    "slideshow": {
     "slide_type": "fragment"
    },
    "tags": []
   },
   "outputs": [],
   "source": [
    "print(\"Hello world!\")\n"
   ]
  },
  {
   "cell_type": "markdown",
   "id": "27aabf09",
   "metadata": {
    "slideshow": {
     "slide_type": "subslide"
    }
   },
   "source": [
    "# Code is picky\n",
    "\n",
    "## Spacing, punctuation, capitalization all matter"
   ]
  },
  {
   "cell_type": "markdown",
   "id": "bef05d94",
   "metadata": {
    "slideshow": {
     "slide_type": "subslide"
    }
   },
   "source": [
    "* Quotation marks are required here"
   ]
  },
  {
   "cell_type": "code",
   "execution_count": null,
   "id": "5ad0817d",
   "metadata": {
    "slideshow": {
     "slide_type": "-"
    },
    "tags": [
     "raises-exception"
    ]
   },
   "outputs": [],
   "source": [
    "print(Hello, world!)"
   ]
  },
  {
   "cell_type": "markdown",
   "id": "c417f380",
   "metadata": {
    "slideshow": {
     "slide_type": "subslide"
    }
   },
   "source": [
    "* Parentheses are required here"
   ]
  },
  {
   "cell_type": "code",
   "execution_count": null,
   "id": "bab1c969",
   "metadata": {
    "slideshow": {
     "slide_type": "-"
    },
    "tags": [
     "raises-exception"
    ]
   },
   "outputs": [],
   "source": [
    "print \"Hello, world!\""
   ]
  },
  {
   "cell_type": "markdown",
   "id": "70a5ac86",
   "metadata": {
    "slideshow": {
     "slide_type": "subslide"
    }
   },
   "source": [
    "* \"print\" must be lowercase"
   ]
  },
  {
   "cell_type": "code",
   "execution_count": null,
   "id": "a5fd6d0a",
   "metadata": {
    "slideshow": {
     "slide_type": "-"
    },
    "tags": [
     "raises-exception"
    ]
   },
   "outputs": [],
   "source": [
    "Print(\"Hello, world!\")"
   ]
  },
  {
   "cell_type": "markdown",
   "id": "c51422ae",
   "metadata": {
    "slideshow": {
     "slide_type": "subslide"
    }
   },
   "source": [
    "* In Python, even indentation matters!"
   ]
  },
  {
   "cell_type": "code",
   "execution_count": null,
   "id": "b3b09d61",
   "metadata": {
    "slideshow": {
     "slide_type": "-"
    },
    "tags": [
     "raises-exception"
    ]
   },
   "outputs": [],
   "source": [
    "print(\"Hello, world!\")\n",
    "  print(\"You can't use random indents like this!\")"
   ]
  },
  {
   "cell_type": "markdown",
   "id": "1740c266",
   "metadata": {
    "slideshow": {
     "slide_type": "slide"
    }
   },
   "source": [
    "# Some terminology"
   ]
  },
  {
   "cell_type": "code",
   "execution_count": null,
   "id": "33a472bf",
   "metadata": {
    "slideshow": {
     "slide_type": "-"
    }
   },
   "outputs": [],
   "source": [
    "print(\"Hello, world!\")"
   ]
  },
  {
   "cell_type": "markdown",
   "id": "48b839de",
   "metadata": {
    "slideshow": {
     "slide_type": "fragment"
    }
   },
   "source": [
    "* <span style=\"color: green;\">**print**</span> is a **function**: a named, reusable block of code\n",
    "\n",
    "* This code **calls** or **invokes** the <span style=\"color: green;\">**print**</span> function."
   ]
  },
  {
   "cell_type": "markdown",
   "id": "dc176cb3",
   "metadata": {
    "slideshow": {
     "slide_type": "fragment"
    }
   },
   "source": [
    "* <span style=\"color: #BA2121;\">\"Hello, world!\"</span> is a **string**: a sequence of characters\n",
    "\n",
    "* We are passing the string <span style=\"color: #BA2121;\">\"Hello, world!\"</span> to the <span style=\"color: green;\">**print**</span> function.\n",
    "\n",
    "* A value passed to a function is called an **argument**.\n"
   ]
  },
  {
   "cell_type": "markdown",
   "id": "fc8289f3",
   "metadata": {
    "slideshow": {
     "slide_type": "fragment"
    }
   },
   "source": [
    "* So: we are calling the <span style=\"color: green;\">**print**</span> function with the string argument <span style=\"color: #BA2121;\">\"Hello, world!\"</span>\n",
    "\n",
    "* Or: we are passing the string argument <span style=\"color: #BA2121;\">\"Hello, world!\"</span> to the <span style=\"color: green;\">**print**</span> function"
   ]
  },
  {
   "cell_type": "markdown",
   "id": "31b83fac",
   "metadata": {
    "slideshow": {
     "slide_type": "slide"
    }
   },
   "source": [
    "# Strings\n",
    "\n",
    "* A string is a sequence of characters\n",
    "* Also referred to as `str` in Python\n",
    "* Strings are surrounded by quotes\n",
    "* Can use single quotes (`'`) or double quotes (`\"`)\n",
    "  * No difference between the two, but the beginning and ending quote must match\n",
    "* Quotes mark where the string starts and ends, but are not included in the string itself.\n",
    "* Can use triple quotes (`\"\"\"`) to surround a string that spans multiple lines\n"
   ]
  },
  {
   "cell_type": "markdown",
   "id": "7d5bbdc6",
   "metadata": {
    "slideshow": {
     "slide_type": "subslide"
    }
   },
   "source": [
    "## String examples"
   ]
  },
  {
   "cell_type": "code",
   "execution_count": null,
   "id": "8006ac16",
   "metadata": {
    "slideshow": {
     "slide_type": "subslide"
    }
   },
   "outputs": [],
   "source": [
    "'I am a short string'"
   ]
  },
  {
   "cell_type": "code",
   "execution_count": null,
   "id": "ee2419f5",
   "metadata": {
    "slideshow": {
     "slide_type": "subslide"
    }
   },
   "outputs": [],
   "source": [
    "\"This is a longer string that goes on and on and on and on and on and on and on and on and on and on and on\""
   ]
  },
  {
   "cell_type": "code",
   "execution_count": null,
   "id": "5c9bf7fa",
   "metadata": {
    "slideshow": {
     "slide_type": "subslide"
    }
   },
   "outputs": [],
   "source": [
    "'You can put \"quotes\" inside'"
   ]
  },
  {
   "cell_type": "code",
   "execution_count": null,
   "id": "4c095133",
   "metadata": {
    "slideshow": {
     "slide_type": "subslide"
    }
   },
   "outputs": [],
   "source": [
    "\"\"\"I am a string\n",
    "that spans multiple lines\"\"\""
   ]
  },
  {
   "cell_type": "markdown",
   "id": "da2d17af",
   "metadata": {
    "slideshow": {
     "slide_type": "subslide"
    }
   },
   "source": [
    "## Invalid string examples"
   ]
  },
  {
   "cell_type": "code",
   "execution_count": null,
   "id": "c4be93a1",
   "metadata": {
    "slideshow": {
     "slide_type": "subslide"
    },
    "tags": [
     "raises-exception"
    ]
   },
   "outputs": [],
   "source": [
    "'This string is missing an end quote"
   ]
  },
  {
   "cell_type": "code",
   "execution_count": null,
   "id": "9d4c2642",
   "metadata": {
    "slideshow": {
     "slide_type": "subslide"
    },
    "tags": [
     "raises-exception"
    ]
   },
   "outputs": [],
   "source": [
    "\"Must use triple\n",
    "quotes to span multiple lines.\""
   ]
  },
  {
   "cell_type": "code",
   "execution_count": null,
   "id": "ead77a95",
   "metadata": {
    "slideshow": {
     "slide_type": "subslide"
    },
    "tags": [
     "raises-exception"
    ]
   },
   "outputs": [],
   "source": [
    "'This is not a 'legal' string'"
   ]
  },
  {
   "cell_type": "code",
   "execution_count": null,
   "id": "d5215948",
   "metadata": {
    "slideshow": {
     "slide_type": "subslide"
    },
    "tags": [
     "raises-exception"
    ]
   },
   "outputs": [],
   "source": [
    "\"This is also not a \"legal\" string\""
   ]
  },
  {
   "cell_type": "markdown",
   "id": "bbfaff10",
   "metadata": {
    "slideshow": {
     "slide_type": "subslide"
    }
   },
   "source": [
    "## Escape sequences\n",
    "\n",
    "* Special characters in a string must be “escaped”\n",
    "* Escape sequences start with a `\\` \n",
    "* Common escape sequences:\n",
    "  * `\\\"` - double quote\n",
    "  * `\\'` - single quote\n",
    "  * `\\t` - tab\n",
    "  * `\\n` - newline\n",
    "  * `\\\\` - backslash\n"
   ]
  },
  {
   "cell_type": "markdown",
   "id": "99487227",
   "metadata": {
    "slideshow": {
     "slide_type": "subslide"
    }
   },
   "source": [
    "## Escape sequence examples"
   ]
  },
  {
   "cell_type": "code",
   "execution_count": null,
   "id": "ca9c2851",
   "metadata": {
    "slideshow": {
     "slide_type": "subslide",
     "transition": "fade-in-then-out"
    }
   },
   "outputs": [],
   "source": [
    "'This IS a \\'legal\\' string'"
   ]
  },
  {
   "cell_type": "code",
   "execution_count": null,
   "id": "5bbfd0a1",
   "metadata": {
    "slideshow": {
     "slide_type": "subslide"
    }
   },
   "outputs": [],
   "source": [
    "\"This is also a \\\"legal\\\" string\""
   ]
  },
  {
   "cell_type": "code",
   "execution_count": null,
   "id": "c9fc78fa",
   "metadata": {
    "slideshow": {
     "slide_type": "subslide"
    }
   },
   "outputs": [],
   "source": [
    "print(\"Let's\\t\\tmake\\n\\na\\t\\tbox\")"
   ]
  },
  {
   "cell_type": "code",
   "execution_count": null,
   "id": "20c342bb",
   "metadata": {
    "slideshow": {
     "slide_type": "subslide"
    }
   },
   "outputs": [],
   "source": [
    "print(\"Hello!\\tI\\'m a\\ncomplicated\\\\interesting\\n\\\"string\\\"\")"
   ]
  },
  {
   "cell_type": "markdown",
   "id": "ac6467cb",
   "metadata": {
    "slideshow": {
     "slide_type": "slide"
    }
   },
   "source": [
    "# Tracing & Debugging\n",
    "\n",
    "* Often, your code won't work as expected (or at all)\n",
    "* \"Debugging\" - finding and fixing the errors - is a skill on its own\n",
    "* You also won't always be working with code YOU wrote - you need practice in deciphering others' code\n",
    "* You'll spend almost as much time on tracing & debugging assignments as you will writing your own code in this class.\n",
    "* We'll cover some basic, but widely useful strategies during the semester"
   ]
  },
  {
   "cell_type": "markdown",
   "id": "ffbce638",
   "metadata": {},
   "source": [
    "## Step-thru debugging\n",
    "\n",
    "repl.it: [Lecture 1 exercises: Strings Practice](https://replit.com/@cosi-10a-fall23/Strings-practice#main.py)"
   ]
  },
  {
   "cell_type": "code",
   "execution_count": null,
   "id": "0ad648e3",
   "metadata": {
    "slideshow": {
     "slide_type": "subslide"
    }
   },
   "outputs": [],
   "source": [
    "# %load ../../snippets/strings_practice.py\n",
    "print('Hello!\\tI\\'m a\\ncomplicated\\\\interesting\\n\\”string\\”')\n",
    "print()\n",
    "print(\"\\ta\\tb\\tc\")\n",
    "print()\n",
    "print(\"\\\\\\\\\")\n",
    "print()\n",
    "print(\"'\")\n",
    "print()\n",
    "print(\"\\\"\\\"\\\"\")\n",
    "print()\n",
    "print(\"C:\\nin\\the downward spiral\")\n",
    "\n"
   ]
  },
  {
   "cell_type": "markdown",
   "id": "d3041bc0",
   "metadata": {
    "slideshow": {
     "slide_type": "subslide"
    }
   },
   "source": [
    "1. Open the debugging tab from the list of tools on the left\n",
    "2. Add a \"breakpoint\" by clicking in the code margins\n",
    "3. Click the play button to start your program, and the \"Next step\" arrow to move to the next line.\n",
    "\n",
    "<img src=\"../../assets/replit_debugging.png\" style=\"display:block; margin:auto; width: 80%;\"/>\n"
   ]
  },
  {
   "cell_type": "code",
   "execution_count": null,
   "id": "8e88575f",
   "metadata": {},
   "outputs": [],
   "source": []
  }
 ],
 "metadata": {
  "celltoolbar": "Slideshow",
  "kernelspec": {
   "display_name": "Python 3 (ipykernel)",
   "language": "python",
   "name": "python3"
  },
  "language_info": {
   "codemirror_mode": {
    "name": "ipython",
    "version": 3
   },
   "file_extension": ".py",
   "mimetype": "text/x-python",
   "name": "python",
   "nbconvert_exporter": "python",
   "pygments_lexer": "ipython3",
   "version": "3.10.9"
  }
 },
 "nbformat": 4,
 "nbformat_minor": 5
}
