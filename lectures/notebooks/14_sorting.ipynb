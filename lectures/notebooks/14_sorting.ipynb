{
 "cells": [
  {
   "cell_type": "markdown",
   "id": "1ee8a1d2",
   "metadata": {
    "slideshow": {
     "slide_type": "slide"
    }
   },
   "source": [
    "# Sorting\n",
    "\n",
    "<style>\n",
    "section.present > section.present { \n",
    "    max-height: 90%; \n",
    "    overflow-y: scroll;\n",
    "}\n",
    "</style>\n",
    "\n",
    "<small><a href=\"https://colab.research.google.com/github/brandeis-jdelfino/cosi-10a/blob/main/lectures/notebooks/14_sorting.ipynb\">Link to interactive slides on Google Colab</a></small>"
   ]
  },
  {
   "cell_type": "markdown",
   "id": "601e8693",
   "metadata": {
    "slideshow": {
     "slide_type": "slide"
    }
   },
   "source": [
    "## 7 volunteers needed\n",
    "\n",
    "You'll need to hold a piece of paper with a number on it, and stand at the front of the class for a few demonstrations."
   ]
  },
  {
   "cell_type": "markdown",
   "id": "cdfcaecc",
   "metadata": {
    "slideshow": {
     "slide_type": "fragment"
    }
   },
   "source": [
    "## Please sort yourselves by the order of your numbers"
   ]
  },
  {
   "cell_type": "markdown",
   "id": "e211c2db",
   "metadata": {
    "slideshow": {
     "slide_type": "subslide"
    }
   },
   "source": [
    "## What happened? How did you sort yourselves?"
   ]
  },
  {
   "cell_type": "markdown",
   "id": "7a0fa9fe",
   "metadata": {
    "slideshow": {
     "slide_type": "notes"
    }
   },
   "source": [
    "Sort yourselves in the order of your numbers - lowest on stage right, highest on stage left.\n",
    "\n",
    "How did you do it?\n",
    "\n",
    "However you did - that's a sorting algorithm. "
   ]
  },
  {
   "cell_type": "markdown",
   "id": "54248906",
   "metadata": {
    "slideshow": {
     "slide_type": "notes"
    }
   },
   "source": [
    "You may think you surveyed multiple numbers at once, but you probably did them one at a time, quickly.\n",
    "\n",
    "Computers generally can't compare multiple things at once. \n",
    "\n",
    "Complex comparisons are made up of many smaller, individual comparisons.\n",
    "\n",
    "Sorting algorithms range from simple to complex, but if you dig down far enough, they are all made up of a series of comparisons of 2 numbers.\n",
    "\n",
    "More complex sorting algorithms attempt to minimize the number of comparisons needed to sort a whole list."
   ]
  },
  {
   "cell_type": "markdown",
   "id": "fb3ac9ca",
   "metadata": {
    "slideshow": {
     "slide_type": "slide"
    }
   },
   "source": [
    "## Sorting algorithms\n",
    "\n",
    "Today we'll look at 2 of the simpler sorting algorithms:\n",
    "* Bubble sort\n",
    "* Insertion sort"
   ]
  },
  {
   "cell_type": "markdown",
   "id": "2fb91a16",
   "metadata": {
    "slideshow": {
     "slide_type": "subslide"
    }
   },
   "source": [
    "## Bubble sort\n",
    "\n",
    "1. Compare the first 2 elements in the list. \n",
    "   * If the first is larger than the second, swap them.\n",
    "2. Repeat for each pair of elements in the list - (2 and 3), (3 and 4), (4 and 5), and so on.\n",
    "3. Repeat steps 1 and 2 until no swaps were made for the entire list.\n",
    "\n",
    "It's called \"bubble sort\" because the next largest item is \"bubbled up\" to the end of list on each pass."
   ]
  },
  {
   "cell_type": "markdown",
   "id": "36b5c514",
   "metadata": {
    "slideshow": {
     "slide_type": "subslide"
    }
   },
   "source": [
    "## Insertion sort\n",
    "\n",
    "At a high level, the process is: \n",
    "1. Create a new list\n",
    "2. Insert the elements into it one at a time, putting them into their correct positions in the new list."
   ]
  },
  {
   "cell_type": "markdown",
   "id": "2b8aac72",
   "metadata": {
    "slideshow": {
     "slide_type": "subslide"
    }
   },
   "source": [
    "## Insertion sort\n",
    "\n",
    "More specifically:\n",
    "\n",
    "1. Create a new list\n",
    "2. Insert each element from the original list into the new list, using the following steps:  \n",
    "   2a. Compare the new element to the first element in the new list.\n",
    "      * If the new element is smaller, insert the smaller element just before the larger element.\n",
    "      * Otherwise, repeat step 2a with the next element from the new list.\n",
    "            \n",
    "   2b. If the new element is larger than all elements in the new list, insert it at the end.\n"
   ]
  },
  {
   "cell_type": "markdown",
   "id": "6ff4e6a4",
   "metadata": {
    "slideshow": {
     "slide_type": "slide"
    }
   },
   "source": [
    "## Thank you volunteers!"
   ]
  },
  {
   "cell_type": "markdown",
   "id": "e850720d",
   "metadata": {
    "slideshow": {
     "slide_type": "slide"
    }
   },
   "source": [
    "## Coding bubble sort\n",
    "\n",
    "Let's write code for bubble sort!\n",
    "\n",
    "1. Compare the first 2 elements in the list. \n",
    "   * If the right is larger than the left, swap them.\n",
    "2. Repeat for each pair of elements in the list - (2 and 3), (3 and 4), (4 and 5), and so on.\n",
    "3. Repeat steps 1 and 2 until no swaps were made for the entire list."
   ]
  },
  {
   "cell_type": "markdown",
   "id": "2b1d6a42",
   "metadata": {
    "slideshow": {
     "slide_type": "subslide"
    }
   },
   "source": [
    "First, the core part: walk through the list, compare each consecutive pair of numbers, and swap them if the first is larger."
   ]
  },
  {
   "cell_type": "code",
   "execution_count": null,
   "id": "e178316f",
   "metadata": {
    "execution": {
     "iopub.execute_input": "2023-11-13T04:13:59.817279Z",
     "iopub.status.busy": "2023-11-13T04:13:59.816907Z",
     "iopub.status.idle": "2023-11-13T04:13:59.833925Z",
     "shell.execute_reply": "2023-11-13T04:13:59.833076Z"
    },
    "slideshow": {
     "slide_type": ""
    }
   },
   "outputs": [],
   "source": [
    "data = [36, 83, 9, 54, 94, 20, 18, 84, 12, 56]\n",
    "# incorrect\n",
    "for i in range(len(data)-1):\n",
    "    if data[i] > data[i+1]:\n",
    "        # swap?\n",
    "        data[i] = data[i+1]\n",
    "        data[i+1] = data[i]\n",
    "        \n",
    "print(data)"
   ]
  },
  {
   "cell_type": "markdown",
   "id": "d1bb2ae3",
   "metadata": {
    "slideshow": {
     "slide_type": "subslide"
    }
   },
   "source": [
    "We need to use an intermediate, temporary variable to swap."
   ]
  },
  {
   "cell_type": "code",
   "execution_count": null,
   "id": "cac74a7e",
   "metadata": {
    "execution": {
     "iopub.execute_input": "2023-11-13T04:13:59.838416Z",
     "iopub.status.busy": "2023-11-13T04:13:59.838075Z",
     "iopub.status.idle": "2023-11-13T04:13:59.843318Z",
     "shell.execute_reply": "2023-11-13T04:13:59.842533Z"
    },
    "slideshow": {
     "slide_type": ""
    }
   },
   "outputs": [],
   "source": [
    "data = [36, 83, 9, 54, 94, 20, 18, 84, 12, 56]\n",
    "# correct\n",
    "for i in range(len(data)-1):\n",
    "    if data[i] > data[i+1]:\n",
    "        temp = data[i+1]\n",
    "        data[i+1] = data[i]\n",
    "        data[i] = temp\n",
    "        \n",
    "print(data)"
   ]
  },
  {
   "cell_type": "markdown",
   "id": "4e6ab5c4",
   "metadata": {
    "slideshow": {
     "slide_type": "subslide"
    }
   },
   "source": [
    "Now we need to do those passes until no swaps happen:"
   ]
  },
  {
   "cell_type": "code",
   "execution_count": null,
   "id": "584accef",
   "metadata": {
    "execution": {
     "iopub.execute_input": "2023-11-13T04:13:59.846622Z",
     "iopub.status.busy": "2023-11-13T04:13:59.846339Z",
     "iopub.status.idle": "2023-11-13T04:13:59.851146Z",
     "shell.execute_reply": "2023-11-13T04:13:59.850493Z"
    }
   },
   "outputs": [],
   "source": [
    "data = [36, 83, 9, 54, 94, 20, 18, 84, 12, 56]\n",
    "\n",
    "while True:\n",
    "    swapped = False\n",
    "    for i in range(len(data)-1):\n",
    "        if data[i] > data[i+1]:\n",
    "            temp = data[i+1]\n",
    "            data[i+1] = data[i]\n",
    "            data[i] = temp\n",
    "            swapped = True\n",
    "    if not swapped:\n",
    "        break\n",
    "print(data)"
   ]
  },
  {
   "cell_type": "markdown",
   "id": "6c313e2b",
   "metadata": {
    "slideshow": {
     "slide_type": "slide"
    }
   },
   "source": [
    "## Insertion sort\n",
    "\n",
    "1. Create a new list\n",
    "2. Insert each element from the original list into the new list, using the following steps:  \n",
    "   2a. Compare the new element to the first element in the new list.\n",
    "      * If the new element is smaller, insert it into the right of the first element.\n",
    "      * Otherwise, repeat step 2a with the next element in the new list.  \n",
    "            \n",
    "   2b. If the new element is larger than all elements in the new list, insert it at the end."
   ]
  },
  {
   "cell_type": "code",
   "execution_count": null,
   "id": "3eceddb7",
   "metadata": {
    "execution": {
     "iopub.execute_input": "2023-11-13T04:13:59.854328Z",
     "iopub.status.busy": "2023-11-13T04:13:59.854061Z",
     "iopub.status.idle": "2023-11-13T04:13:59.858419Z",
     "shell.execute_reply": "2023-11-13T04:13:59.857693Z"
    },
    "slideshow": {
     "slide_type": "subslide"
    }
   },
   "outputs": [],
   "source": [
    "data = [36, 83, 9, 54, 94, 20, 18, 84, 12, 56]\n",
    "sorted_data = []\n",
    "\n",
    "for num in data:\n",
    "    insertion_point = 0\n",
    "    while insertion_point < len(sorted_data) and num > sorted_data[insertion_point]:\n",
    "        insertion_point += 1\n",
    "    sorted_data.insert(insertion_point, num)\n",
    "\n",
    "print(sorted_data)"
   ]
  },
  {
   "cell_type": "markdown",
   "id": "b32a6a22",
   "metadata": {},
   "source": [
    "## Sorting efficiency\n",
    "\n",
    "Both of these sorts are relatively **inefficient**: they require a lot of comparisons in order to sort the list. \n",
    "\n",
    "The sorting algorithm used by `.sort()` and `sorted()` is called \"[Timsort](https://en.wikipedia.org/wiki/Timsort)\" (named for Tim Peters, who wrote it for Python), and is significantly more efficient.\n",
    "\n",
    "The algorithm is relatively complex, and the theory behind why it is so efficient is even more complex.\n",
    "\n",
    "However, just like every other sorting algorithm, it's ultimately doing a series of comparisons of 2 values at a time.\n",
    "\n",
    "Luckily, we can use it without learning all those details."
   ]
  },
  {
   "cell_type": "markdown",
   "id": "574ccfb7",
   "metadata": {
    "slideshow": {
     "slide_type": "slide"
    }
   },
   "source": [
    "## Let's look at some more powerful ways to sort sequences in Python\n",
    "## Exercise\n",
    "\n",
    "Sort the words in a string alphabetically"
   ]
  },
  {
   "cell_type": "code",
   "execution_count": null,
   "id": "b1872edc",
   "metadata": {
    "execution": {
     "iopub.execute_input": "2023-11-13T04:13:59.861603Z",
     "iopub.status.busy": "2023-11-13T04:13:59.861335Z",
     "iopub.status.idle": "2023-11-13T04:13:59.864998Z",
     "shell.execute_reply": "2023-11-13T04:13:59.864340Z"
    },
    "slideshow": {
     "slide_type": "-"
    }
   },
   "outputs": [],
   "source": [
    "value = \"This note is about Bill Murray, a famous American actor.\"\n",
    "words = value.split()\n",
    "words.sort()\n",
    "print(' '.join(words))"
   ]
  },
  {
   "cell_type": "markdown",
   "id": "f6bb5ea4",
   "metadata": {
    "slideshow": {
     "slide_type": "fragment"
    }
   },
   "source": [
    "Hmm... case matters. We could lowercase the whole string before splitting..."
   ]
  },
  {
   "cell_type": "code",
   "execution_count": null,
   "id": "9ab560c2",
   "metadata": {
    "execution": {
     "iopub.execute_input": "2023-11-13T04:13:59.867985Z",
     "iopub.status.busy": "2023-11-13T04:13:59.867732Z",
     "iopub.status.idle": "2023-11-13T04:13:59.871403Z",
     "shell.execute_reply": "2023-11-13T04:13:59.870760Z"
    },
    "slideshow": {
     "slide_type": "subslide"
    }
   },
   "outputs": [],
   "source": [
    "value = \"This note is about Bill Murray, a famous American actor.\"\n",
    "value = value.lower()\n",
    "words = value.split()\n",
    "words.sort()\n",
    "print(' '.join(words))"
   ]
  },
  {
   "cell_type": "markdown",
   "id": "765845c0",
   "metadata": {
    "slideshow": {
     "slide_type": "subslide"
    }
   },
   "source": [
    "But what if we want to preserve the original case in our resulting string?"
   ]
  },
  {
   "cell_type": "markdown",
   "id": "aa22a86d",
   "metadata": {
    "slideshow": {
     "slide_type": "subslide"
    }
   },
   "source": [
    "## Telling `sort` how to sort\n",
    "\n",
    "By default, `sort()` orders the values by... the values.\n",
    "\n",
    "We can tell it to order them by something else, using the `key` parameter.\n",
    "\n",
    "The `key` parameter should be a **function** that returns the sort key for a given value."
   ]
  },
  {
   "cell_type": "code",
   "execution_count": null,
   "id": "551a4e97",
   "metadata": {
    "execution": {
     "iopub.execute_input": "2023-11-13T04:13:59.874598Z",
     "iopub.status.busy": "2023-11-13T04:13:59.874337Z",
     "iopub.status.idle": "2023-11-13T04:13:59.878097Z",
     "shell.execute_reply": "2023-11-13T04:13:59.877504Z"
    },
    "slideshow": {
     "slide_type": "subslide"
    }
   },
   "outputs": [],
   "source": [
    "def make_lower(value):\n",
    "    return value.lower()\n",
    "\n",
    "value = \"This note is about Bill Murray, a famous American actor.\"\n",
    "words = value.split()\n",
    "\n",
    "words.sort(key=make_lower)\n",
    "print(' '.join(words))"
   ]
  },
  {
   "cell_type": "markdown",
   "id": "2916f884",
   "metadata": {
    "slideshow": {
     "slide_type": "fragment"
    }
   },
   "source": [
    "Wait, what? Did we just pass a function as a parameter?\n",
    "\n",
    "Yes, yes we did."
   ]
  },
  {
   "cell_type": "markdown",
   "id": "09fa9930",
   "metadata": {
    "slideshow": {
     "slide_type": "slide"
    }
   },
   "source": [
    "# Functions are Objects\n",
    "\n",
    "Python has **first class functions**. \n",
    "\n",
    "This means that functions are objects, just like other types: `int`, `str`, `list`, `dict`, `set`, etc.\n",
    "\n",
    "They can be passed as arguments to other functions, assigned to variables, returned by other functions, and even stored in lists, dictionaries, and sets.\n",
    "\n",
    "We'll only use this concept for this specific sorting technique, but it is quite powerful and widely used in advanced programming."
   ]
  },
  {
   "cell_type": "markdown",
   "id": "21a2f80a",
   "metadata": {
    "slideshow": {
     "slide_type": "subslide"
    }
   },
   "source": [
    "## Back to sorting...\n",
    "\n",
    "In this example, our final answer uses the original, capitalized values.\n",
    "\n",
    "But the comparisons used to determine the overall order were done with the lowercase values."
   ]
  },
  {
   "cell_type": "code",
   "execution_count": null,
   "id": "ae390429",
   "metadata": {
    "execution": {
     "iopub.execute_input": "2023-11-13T04:13:59.881411Z",
     "iopub.status.busy": "2023-11-13T04:13:59.881152Z",
     "iopub.status.idle": "2023-11-13T04:13:59.884987Z",
     "shell.execute_reply": "2023-11-13T04:13:59.884362Z"
    },
    "slideshow": {
     "slide_type": "subslide"
    }
   },
   "outputs": [],
   "source": [
    "def make_lower(value):\n",
    "    return value.lower()\n",
    "\n",
    "value = \"This note is about Bill Murray, a famous American actor.\"\n",
    "words = value.split()\n",
    "\n",
    "words.sort(key=make_lower)\n",
    "print(' '.join(words))"
   ]
  },
  {
   "cell_type": "markdown",
   "id": "74235d69",
   "metadata": {
    "slideshow": {
     "slide_type": "subslide"
    }
   },
   "source": [
    "For another example, we'll sort the words by length:"
   ]
  },
  {
   "cell_type": "code",
   "execution_count": null,
   "id": "ae72fd08",
   "metadata": {
    "execution": {
     "iopub.execute_input": "2023-11-13T04:13:59.888042Z",
     "iopub.status.busy": "2023-11-13T04:13:59.887786Z",
     "iopub.status.idle": "2023-11-13T04:13:59.891550Z",
     "shell.execute_reply": "2023-11-13T04:13:59.890964Z"
    }
   },
   "outputs": [],
   "source": [
    "def get_len(value):\n",
    "    return len(value)\n",
    "\n",
    "value = \"This note is about Bill Murray, a famous American actor.\"\n",
    "words = value.split()\n",
    "\n",
    "words.sort(key=get_len)\n",
    "print(' '.join(words))"
   ]
  },
  {
   "cell_type": "markdown",
   "id": "ed21e420",
   "metadata": {
    "slideshow": {
     "slide_type": "subslide"
    }
   },
   "source": [
    "A little trick: because `len` is already a function, we actually don't need to define `get_len`, we can just use `len` directly:"
   ]
  },
  {
   "cell_type": "code",
   "execution_count": null,
   "id": "912108ba",
   "metadata": {
    "execution": {
     "iopub.execute_input": "2023-11-13T04:13:59.894674Z",
     "iopub.status.busy": "2023-11-13T04:13:59.894407Z",
     "iopub.status.idle": "2023-11-13T04:13:59.898133Z",
     "shell.execute_reply": "2023-11-13T04:13:59.897537Z"
    }
   },
   "outputs": [],
   "source": [
    "value = \"This note is about Bill Murray, a famous American actor.\"\n",
    "words = value.split()\n",
    "\n",
    "words.sort(key=len)\n",
    "print(' '.join(words))"
   ]
  },
  {
   "cell_type": "markdown",
   "id": "0767e7dd",
   "metadata": {
    "slideshow": {
     "slide_type": "subslide"
    }
   },
   "source": [
    "We could even sort by the 2nd letter of each word:"
   ]
  },
  {
   "cell_type": "code",
   "execution_count": null,
   "id": "7f422bb5",
   "metadata": {
    "execution": {
     "iopub.execute_input": "2023-11-13T04:13:59.901320Z",
     "iopub.status.busy": "2023-11-13T04:13:59.900967Z",
     "iopub.status.idle": "2023-11-13T04:13:59.905925Z",
     "shell.execute_reply": "2023-11-13T04:13:59.905296Z"
    }
   },
   "outputs": [],
   "source": [
    "def second_letter(value):\n",
    "    if len(value) > 1:\n",
    "        return value[1]\n",
    "    return value\n",
    "\n",
    "value = \"This note is about Bill Murray, a famous American actor.\"\n",
    "words = value.split()\n",
    "\n",
    "words.sort(key=second_letter)\n",
    "print(' '.join(words))"
   ]
  },
  {
   "cell_type": "markdown",
   "id": "a344c419",
   "metadata": {
    "slideshow": {
     "slide_type": "subslide"
    }
   },
   "source": [
    "# Sorting class instances\n",
    "\n",
    "We can use this new idea to easily sort class instances."
   ]
  },
  {
   "cell_type": "code",
   "execution_count": null,
   "id": "9e6405ad",
   "metadata": {
    "execution": {
     "iopub.execute_input": "2023-11-13T04:13:59.909070Z",
     "iopub.status.busy": "2023-11-13T04:13:59.908734Z",
     "iopub.status.idle": "2023-11-13T04:13:59.913023Z",
     "shell.execute_reply": "2023-11-13T04:13:59.912379Z"
    },
    "slideshow": {
     "slide_type": "subslide"
    }
   },
   "outputs": [],
   "source": [
    "class Book:\n",
    "    def __init__(self, title, word_count, author):\n",
    "        self.title = title\n",
    "        self.word_count = word_count\n",
    "        self.author = author\n",
    "\n",
    "    def format(self):\n",
    "        return f\"{self.title} ({self.word_count} words), by {self.author}\""
   ]
  },
  {
   "cell_type": "code",
   "execution_count": null,
   "id": "e8182520",
   "metadata": {
    "execution": {
     "iopub.execute_input": "2023-11-13T04:13:59.916059Z",
     "iopub.status.busy": "2023-11-13T04:13:59.915790Z",
     "iopub.status.idle": "2023-11-13T04:13:59.919363Z",
     "shell.execute_reply": "2023-11-13T04:13:59.918808Z"
    }
   },
   "outputs": [],
   "source": [
    "books = [\n",
    "    Book(\"War and Peace\", 561304, \"Leo Tolstoy\"),\n",
    "    Book(\"Harry Potter 1\", 77325, \"J. K. Rowling\"),\n",
    "    Book(\"The Golden Compass\", 112815, \"Philip Pullman\"),\n",
    "    Book(\"The Hobbit\", 95356, \"J. R. R. Tolkein\"),\n",
    "    Book(\"The Old Man and the Sea\", 26601, \"Ernest Hemingway\")\n",
    "]"
   ]
  },
  {
   "cell_type": "markdown",
   "id": "e114006e",
   "metadata": {
    "slideshow": {
     "slide_type": "subslide"
    }
   },
   "source": [
    "Previously, when we've needed to sort like this, we've created a list of 2-tuples, containing the sort value first, and the actual value second, then sorted that list.\n",
    "\n",
    "Example of sorting books by their length, \"the hard way\":"
   ]
  },
  {
   "cell_type": "code",
   "execution_count": null,
   "id": "369501e5",
   "metadata": {
    "execution": {
     "iopub.execute_input": "2023-11-13T04:13:59.922272Z",
     "iopub.status.busy": "2023-11-13T04:13:59.922015Z",
     "iopub.status.idle": "2023-11-13T04:13:59.925963Z",
     "shell.execute_reply": "2023-11-13T04:13:59.925342Z"
    }
   },
   "outputs": [],
   "source": [
    "sortable = []\n",
    "for book in books:\n",
    "    sortable.append((book.word_count, book))\n",
    "sortable.sort(reverse=True)\n",
    "\n",
    "sorted_list = []\n",
    "for count, book in sortable:\n",
    "    print(book.format())\n"
   ]
  },
  {
   "cell_type": "markdown",
   "id": "b64d4f01",
   "metadata": {
    "slideshow": {
     "slide_type": "subslide"
    }
   },
   "source": [
    "Instead, we can define a function that returns the word count for a book, and use that as a sort key."
   ]
  },
  {
   "cell_type": "code",
   "execution_count": null,
   "id": "9e8fc309",
   "metadata": {
    "execution": {
     "iopub.execute_input": "2023-11-13T04:13:59.929004Z",
     "iopub.status.busy": "2023-11-13T04:13:59.928747Z",
     "iopub.status.idle": "2023-11-13T04:13:59.932775Z",
     "shell.execute_reply": "2023-11-13T04:13:59.932112Z"
    }
   },
   "outputs": [],
   "source": [
    "def get_wc(book):\n",
    "    return book.word_count\n",
    "\n",
    "books.sort(reverse=True, key=get_wc)\n",
    "for book in books:\n",
    "    print(book.format())"
   ]
  },
  {
   "cell_type": "markdown",
   "id": "4ecb6d50",
   "metadata": {
    "slideshow": {
     "slide_type": "subslide"
    }
   },
   "source": [
    "Similarly, we can define a sort key to sort by author's name."
   ]
  },
  {
   "cell_type": "code",
   "execution_count": null,
   "id": "451c523f",
   "metadata": {
    "execution": {
     "iopub.execute_input": "2023-11-13T04:13:59.936305Z",
     "iopub.status.busy": "2023-11-13T04:13:59.935800Z",
     "iopub.status.idle": "2023-11-13T04:13:59.939530Z",
     "shell.execute_reply": "2023-11-13T04:13:59.938895Z"
    }
   },
   "outputs": [],
   "source": [
    "def get_author(book):\n",
    "    return book.author\n",
    "\n",
    "books.sort(key=get_author)\n",
    "for book in books:\n",
    "    print(book.format())"
   ]
  },
  {
   "cell_type": "markdown",
   "id": "311f5535",
   "metadata": {
    "slideshow": {
     "slide_type": "subslide"
    }
   },
   "source": [
    "We could even sort by author's last name:"
   ]
  },
  {
   "cell_type": "code",
   "execution_count": null,
   "id": "5f125211",
   "metadata": {
    "execution": {
     "iopub.execute_input": "2023-11-13T04:13:59.942799Z",
     "iopub.status.busy": "2023-11-13T04:13:59.942534Z",
     "iopub.status.idle": "2023-11-13T04:13:59.946268Z",
     "shell.execute_reply": "2023-11-13T04:13:59.945674Z"
    }
   },
   "outputs": [],
   "source": [
    "def get_author_last_name(book):\n",
    "    return book.author.split()[-1]\n",
    "\n",
    "books.sort(key=get_author_last_name)\n",
    "for book in books:\n",
    "    print(book.format())"
   ]
  },
  {
   "cell_type": "markdown",
   "id": "f165720e",
   "metadata": {
    "slideshow": {
     "slide_type": "slide"
    }
   },
   "source": [
    "# Max/min\n",
    "\n",
    "The built-in methods `max` and `min` also take `key` parameters."
   ]
  },
  {
   "cell_type": "code",
   "execution_count": null,
   "id": "852cac85",
   "metadata": {
    "execution": {
     "iopub.execute_input": "2023-11-13T04:13:59.949401Z",
     "iopub.status.busy": "2023-11-13T04:13:59.949138Z",
     "iopub.status.idle": "2023-11-13T04:13:59.953122Z",
     "shell.execute_reply": "2023-11-13T04:13:59.952519Z"
    }
   },
   "outputs": [],
   "source": [
    "def get_wc(book):\n",
    "    return book.word_count\n",
    "\n",
    "highest = max(books, key=get_wc)\n",
    "lowest = min(books, key=get_wc)\n",
    "print(f\"Book with highest wordcount: {highest.format()}\")\n",
    "print(f\"Book with lowest wordcount: {lowest.format()}\")"
   ]
  },
  {
   "cell_type": "markdown",
   "id": "3d5a5d56",
   "metadata": {
    "slideshow": {
     "slide_type": "slide"
    }
   },
   "source": [
    "# Lambdas\n",
    "\n",
    "Some of you have seen sorting examples written with the `lambda` keyword, like this:"
   ]
  },
  {
   "cell_type": "code",
   "execution_count": null,
   "id": "c60d9c99",
   "metadata": {
    "execution": {
     "iopub.execute_input": "2023-11-13T04:13:59.956216Z",
     "iopub.status.busy": "2023-11-13T04:13:59.955959Z",
     "iopub.status.idle": "2023-11-13T04:13:59.959548Z",
     "shell.execute_reply": "2023-11-13T04:13:59.958981Z"
    }
   },
   "outputs": [],
   "source": [
    "books.sort(reverse=True, key=lambda book: book.word_count)\n",
    "for book in books:\n",
    "    print(book.format())"
   ]
  },
  {
   "cell_type": "code",
   "execution_count": null,
   "id": "1854cd19",
   "metadata": {
    "execution": {
     "iopub.execute_input": "2023-11-13T04:13:59.962557Z",
     "iopub.status.busy": "2023-11-13T04:13:59.962290Z",
     "iopub.status.idle": "2023-11-13T04:13:59.966180Z",
     "shell.execute_reply": "2023-11-13T04:13:59.965399Z"
    }
   },
   "outputs": [],
   "source": [
    "books.sort(reverse=True, key=lambda book: book.word_count)\n",
    "for book in books:\n",
    "    print(book.format())"
   ]
  },
  {
   "cell_type": "markdown",
   "id": "bf8cf114",
   "metadata": {},
   "source": [
    "Is equivalent to:"
   ]
  },
  {
   "cell_type": "code",
   "execution_count": null,
   "id": "52b4b4a9",
   "metadata": {
    "execution": {
     "iopub.execute_input": "2023-11-13T04:13:59.969311Z",
     "iopub.status.busy": "2023-11-13T04:13:59.969046Z",
     "iopub.status.idle": "2023-11-13T04:13:59.972763Z",
     "shell.execute_reply": "2023-11-13T04:13:59.972119Z"
    },
    "slideshow": {
     "slide_type": "subslide"
    }
   },
   "outputs": [],
   "source": [
    "def get_wc(book):\n",
    "    return book.word_count\n",
    "\n",
    "books.sort(reverse=True, key=get_wc)\n",
    "for book in books:\n",
    "    print(book.format())"
   ]
  },
  {
   "cell_type": "markdown",
   "id": "c8a50ee7",
   "metadata": {
    "slideshow": {
     "slide_type": "subslide"
    }
   },
   "source": [
    "This example uses a **lambda** to create a function inline, rather than needing to define it separately.\n",
    "\n",
    "A **lambda** is an **anonymous, inline function** that can contain a single expression. The return value is whatever the expression evaluates to.\n",
    "\n",
    "The syntax is:\n",
    "```\n",
    "lambda <arguments>: <expression>\n",
    "```"
   ]
  },
  {
   "cell_type": "markdown",
   "id": "e3053f5a",
   "metadata": {
    "slideshow": {
     "slide_type": "subslide"
    }
   },
   "source": [
    "Lambdas are similar to list comprehensions: they are a relatively advanced programming feature, and allow you to express complex ideas more concisely. \n",
    "\n",
    "You never have to use a lambda. You can always define a normal function. \n",
    "\n",
    "We're only covering them because they are very commonly (and conveniently) used to specify sort keys."
   ]
  }
 ],
 "metadata": {
  "celltoolbar": "Slideshow",
  "kernelspec": {
   "display_name": "Python 3 (ipykernel)",
   "language": "python",
   "name": "python3"
  },
  "language_info": {
   "codemirror_mode": {
    "name": "ipython",
    "version": 3
   },
   "file_extension": ".py",
   "mimetype": "text/x-python",
   "name": "python",
   "nbconvert_exporter": "python",
   "pygments_lexer": "ipython3",
   "version": "3.10.9"
  }
 },
 "nbformat": 4,
 "nbformat_minor": 5
}
