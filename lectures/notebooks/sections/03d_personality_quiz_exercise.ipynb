{
 "cells": [
  {
   "cell_type": "markdown",
   "id": "68de12cd",
   "metadata": {
    "slideshow": {
     "slide_type": "slide"
    }
   },
   "source": [
    "# Exercise: Personality Quiz\n",
    "\n",
    "[Open the class exercises Codespace](https://codespaces.new/brandeis-cosi-10a/class-exercises?quickstart=1)\n",
    "\n",
    "Open the file: `exercises/03/personality_quiz/README.md`, follow the instructions.\n",
    "* If you don't see this folder: Open the file: `get_exercises.sh`, click the \"Run\" button at the top right of the editor.\n"
   ]
  }
 ],
 "metadata": {
  "kernelspec": {
   "display_name": "Python 3 (ipykernel)",
   "language": "python",
   "name": "python3"
  },
  "language_info": {
   "codemirror_mode": {
    "name": "ipython",
    "version": 3
   },
   "file_extension": ".py",
   "mimetype": "text/x-python",
   "name": "python",
   "nbconvert_exporter": "python",
   "pygments_lexer": "ipython3",
   "version": "3.10.9"
  }
 },
 "nbformat": 4,
 "nbformat_minor": 5
}
