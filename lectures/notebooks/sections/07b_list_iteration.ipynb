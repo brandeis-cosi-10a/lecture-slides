{
 "cells": [
  {
   "cell_type": "markdown",
   "id": "12bdb0c1",
   "metadata": {
    "slideshow": {
     "slide_type": "slide"
    }
   },
   "source": [
    "# Lists and Loops: Friends Forever\n",
    "\n",
    "It's very common to want to perform an action for each item in a list. Loops help us do this!\n",
    "\n",
    "Write a function that takes a list of integers as a parameter, and prints out the square of each number.\n",
    "\n",
    "One way to do it:"
   ]
  },
  {
   "cell_type": "code",
   "execution_count": null,
   "id": "fbc323f8",
   "metadata": {
    "execution": {
     "iopub.execute_input": "2023-10-04T02:31:48.781585Z",
     "iopub.status.busy": "2023-10-04T02:31:48.780751Z",
     "iopub.status.idle": "2023-10-04T02:31:48.784872Z",
     "shell.execute_reply": "2023-10-04T02:31:48.784214Z"
    }
   },
   "outputs": [],
   "source": [
    "def print_squares(nums):\n",
    "    for i in range(len(nums)):\n",
    "        print(nums[i] ** 2)        "
   ]
  },
  {
   "cell_type": "code",
   "execution_count": null,
   "id": "e9d4491c",
   "metadata": {
    "execution": {
     "iopub.execute_input": "2023-10-04T02:31:48.788162Z",
     "iopub.status.busy": "2023-10-04T02:31:48.787908Z",
     "iopub.status.idle": "2023-10-04T02:31:48.791873Z",
     "shell.execute_reply": "2023-10-04T02:31:48.790925Z"
    }
   },
   "outputs": [],
   "source": [
    "print_squares([3,5,11])"
   ]
  },
  {
   "cell_type": "code",
   "execution_count": null,
   "id": "2bd7e928",
   "metadata": {
    "execution": {
     "iopub.execute_input": "2023-10-04T02:31:48.795157Z",
     "iopub.status.busy": "2023-10-04T02:31:48.794848Z",
     "iopub.status.idle": "2023-10-04T02:31:48.798872Z",
     "shell.execute_reply": "2023-10-04T02:31:48.798158Z"
    },
    "slideshow": {
     "slide_type": "subslide"
    }
   },
   "outputs": [],
   "source": [
    "def print_squares(nums):\n",
    "    for i in range(len(nums)):\n",
    "        print(nums[i] ** 2)"
   ]
  },
  {
   "cell_type": "markdown",
   "id": "dd79e0b7",
   "metadata": {
    "slideshow": {
     "slide_type": ""
    }
   },
   "source": [
    "Let's unroll the loop for `print_squares([3,5,11])`:\n",
    "\n",
    "1. **Find the values over which the loop will iterate**"
   ]
  },
  {
   "cell_type": "markdown",
   "id": "06523612",
   "metadata": {
    "slideshow": {
     "slide_type": "fragment"
    }
   },
   "source": [
    "`for i in range(len(nums))` -> `for i in range(3)`\n",
    "\n",
    "So, the loop will iterate over the values: 0, 1, 2"
   ]
  },
  {
   "cell_type": "markdown",
   "id": "4cb7883e",
   "metadata": {
    "slideshow": {
     "slide_type": "subslide"
    }
   },
   "source": [
    "1. Find the values over which the loop will iterate: 0, 1, 2\n",
    "1. **Copy the code inside the loop once for each value, and replace the loop variable with the iteration values:**"
   ]
  },
  {
   "cell_type": "code",
   "execution_count": 2,
   "id": "3e08c527",
   "metadata": {
    "slideshow": {
     "slide_type": "fragment"
    }
   },
   "outputs": [
    {
     "name": "stdout",
     "output_type": "stream",
     "text": [
      "9\n",
      "25\n",
      "121\n"
     ]
    }
   ],
   "source": [
    "nums = [3, 5, 11]\n",
    "print(nums[0] ** 2)\n",
    "print(nums[1] ** 2)\n",
    "print(nums[2] ** 2)"
   ]
  },
  {
   "cell_type": "markdown",
   "id": "e3795f08",
   "metadata": {
    "slideshow": {
     "slide_type": "subslide"
    }
   },
   "source": [
    "That works, but there are other ways to iterate over a list.\n",
    "\n",
    "`for <var> in <list>:` will execute the code block once for each item in the list, with `<var>` equal to the next list item for each iteration.\n",
    "\n",
    "More on list iteration in the next lecture - for today, just knowing this form of the `for` loop is enough."
   ]
  },
  {
   "cell_type": "code",
   "execution_count": null,
   "id": "729b1ef2",
   "metadata": {
    "execution": {
     "iopub.execute_input": "2023-10-04T02:31:48.802629Z",
     "iopub.status.busy": "2023-10-04T02:31:48.802339Z",
     "iopub.status.idle": "2023-10-04T02:31:48.805659Z",
     "shell.execute_reply": "2023-10-04T02:31:48.805061Z"
    }
   },
   "outputs": [],
   "source": [
    "def print_squares(nums):\n",
    "    for num in nums:\n",
    "        print(num ** 2)"
   ]
  },
  {
   "cell_type": "code",
   "execution_count": null,
   "id": "be9b2581",
   "metadata": {
    "execution": {
     "iopub.execute_input": "2023-10-04T02:31:48.808683Z",
     "iopub.status.busy": "2023-10-04T02:31:48.808419Z",
     "iopub.status.idle": "2023-10-04T02:31:48.811736Z",
     "shell.execute_reply": "2023-10-04T02:31:48.811172Z"
    }
   },
   "outputs": [],
   "source": [
    "print_squares([3,5,11])"
   ]
  },
  {
   "cell_type": "markdown",
   "id": "120742a2",
   "metadata": {
    "slideshow": {
     "slide_type": "slide"
    }
   },
   "source": [
    "# Example\n",
    "\n",
    "1. Define a list holding 4 strings, each describing something you like.\n",
    "1. Write a for loop to print out each string with `\"One of my favorite things: \"` **pre**prended to it"
   ]
  },
  {
   "cell_type": "code",
   "execution_count": null,
   "id": "0dbe4eca",
   "metadata": {
    "execution": {
     "iopub.execute_input": "2023-10-04T02:31:48.814699Z",
     "iopub.status.busy": "2023-10-04T02:31:48.814459Z",
     "iopub.status.idle": "2023-10-04T02:31:48.818113Z",
     "shell.execute_reply": "2023-10-04T02:31:48.817390Z"
    },
    "slideshow": {
     "slide_type": "subslide"
    }
   },
   "outputs": [],
   "source": [
    "nice_things = [\"Fresh baked cookies\", \"Mountains\", \"Sleep\", \"Spicy food\"]\n",
    "for thing in nice_things:\n",
    "    print(\"One of my favorite things: \" + thing)"
   ]
  },
  {
   "cell_type": "markdown",
   "id": "f359b96c",
   "metadata": {
    "slideshow": {
     "slide_type": "slide"
    }
   },
   "source": [
    "# Example: find the underperformers\n",
    "\n",
    "Write a function to find the average of a list of numbers, then print out all the numbers below the average."
   ]
  },
  {
   "cell_type": "markdown",
   "id": "62b418fd",
   "metadata": {
    "slideshow": {
     "slide_type": "fragment"
    }
   },
   "source": [
    "Let's use our usual strategy: decompose the problem. Two main parts:\n",
    "\n",
    "1. Find the average of a list of numbers\n",
    "2. Print all the numbers lower than that average"
   ]
  },
  {
   "cell_type": "markdown",
   "id": "2471a378",
   "metadata": {
    "slideshow": {
     "slide_type": "subslide"
    }
   },
   "source": [
    "Step 1, find the average:"
   ]
  },
  {
   "cell_type": "code",
   "execution_count": null,
   "id": "600f4374",
   "metadata": {
    "execution": {
     "iopub.execute_input": "2023-10-04T02:31:48.821206Z",
     "iopub.status.busy": "2023-10-04T02:31:48.820968Z",
     "iopub.status.idle": "2023-10-04T02:31:48.824224Z",
     "shell.execute_reply": "2023-10-04T02:31:48.823665Z"
    }
   },
   "outputs": [],
   "source": [
    "def find_average(nums):\n",
    "    sum = 0\n",
    "    for num in nums:\n",
    "        sum = sum + num\n",
    "    avg = sum / len(nums)\n",
    "    return avg"
   ]
  },
  {
   "cell_type": "code",
   "execution_count": null,
   "id": "6025bf87",
   "metadata": {
    "execution": {
     "iopub.execute_input": "2023-10-04T02:31:48.827077Z",
     "iopub.status.busy": "2023-10-04T02:31:48.826833Z",
     "iopub.status.idle": "2023-10-04T02:31:48.830945Z",
     "shell.execute_reply": "2023-10-04T02:31:48.830414Z"
    }
   },
   "outputs": [],
   "source": [
    "find_average([1,2,3,4,100000])"
   ]
  },
  {
   "cell_type": "markdown",
   "id": "013dc98c",
   "metadata": {
    "slideshow": {
     "slide_type": "subslide"
    }
   },
   "source": [
    "Step 2: print each item below the average:"
   ]
  },
  {
   "cell_type": "code",
   "execution_count": null,
   "id": "66a7e988",
   "metadata": {
    "execution": {
     "iopub.execute_input": "2023-10-04T02:31:48.833959Z",
     "iopub.status.busy": "2023-10-04T02:31:48.833681Z",
     "iopub.status.idle": "2023-10-04T02:31:48.837288Z",
     "shell.execute_reply": "2023-10-04T02:31:48.836752Z"
    },
    "slideshow": {
     "slide_type": "-"
    }
   },
   "outputs": [],
   "source": [
    "def below_average(nums):\n",
    "    avg = find_average(nums)\n",
    "    \n",
    "    print(\"The average is: \" + str(avg) + \". Here are all the below average numbers: \")\n",
    "    for num in nums:\n",
    "        if num < avg:\n",
    "            print(num, end=' ')"
   ]
  },
  {
   "cell_type": "code",
   "execution_count": null,
   "id": "929782bb",
   "metadata": {
    "execution": {
     "iopub.execute_input": "2023-10-04T02:31:48.840025Z",
     "iopub.status.busy": "2023-10-04T02:31:48.839785Z",
     "iopub.status.idle": "2023-10-04T02:31:48.843187Z",
     "shell.execute_reply": "2023-10-04T02:31:48.842633Z"
    },
    "slideshow": {
     "slide_type": "-"
    }
   },
   "outputs": [],
   "source": [
    "below_average([1,2,3,4,100000])"
   ]
  },
  {
   "cell_type": "markdown",
   "id": "5a17eb68",
   "metadata": {
    "slideshow": {
     "slide_type": "slide"
    }
   },
   "source": [
    "# Example: find the largest number\n",
    "\n",
    "Write a function to find the largest number in a list. \n",
    "\n",
    "Similar to \"cumulative algorithms\", we'll define a variable to hold the largest number we've seen so far."
   ]
  },
  {
   "cell_type": "code",
   "execution_count": null,
   "id": "480f52e6",
   "metadata": {
    "execution": {
     "iopub.execute_input": "2023-10-04T02:31:48.846193Z",
     "iopub.status.busy": "2023-10-04T02:31:48.845929Z",
     "iopub.status.idle": "2023-10-04T02:31:48.849257Z",
     "shell.execute_reply": "2023-10-04T02:31:48.848741Z"
    }
   },
   "outputs": [],
   "source": [
    "def find_largest(nums):\n",
    "    biggest = 0\n",
    "    for num in nums:\n",
    "        if num > biggest:\n",
    "            biggest = num\n",
    "    return biggest"
   ]
  },
  {
   "cell_type": "code",
   "execution_count": null,
   "id": "e9edd6ad",
   "metadata": {
    "execution": {
     "iopub.execute_input": "2023-10-04T02:31:48.851995Z",
     "iopub.status.busy": "2023-10-04T02:31:48.851755Z",
     "iopub.status.idle": "2023-10-04T02:31:48.855896Z",
     "shell.execute_reply": "2023-10-04T02:31:48.855327Z"
    }
   },
   "outputs": [],
   "source": [
    "find_largest([18, 27, 1, 3, 10, 1000])"
   ]
  },
  {
   "cell_type": "markdown",
   "id": "d7e5a6dd",
   "metadata": {
    "slideshow": {
     "slide_type": "subslide"
    }
   },
   "source": [
    "Looks like it worked... but can you spot the bug?"
   ]
  },
  {
   "cell_type": "code",
   "execution_count": null,
   "id": "80d2e689",
   "metadata": {
    "execution": {
     "iopub.execute_input": "2023-10-04T02:31:48.859392Z",
     "iopub.status.busy": "2023-10-04T02:31:48.859063Z",
     "iopub.status.idle": "2023-10-04T02:31:48.863098Z",
     "shell.execute_reply": "2023-10-04T02:31:48.862434Z"
    }
   },
   "outputs": [],
   "source": [
    "def find_largest(nums):\n",
    "    biggest = 0\n",
    "    for num in nums: \n",
    "        if num > biggest:\n",
    "            biggest = num\n",
    "    return biggest"
   ]
  },
  {
   "cell_type": "code",
   "execution_count": null,
   "id": "a50ed117",
   "metadata": {
    "execution": {
     "iopub.execute_input": "2023-10-04T02:31:48.866211Z",
     "iopub.status.busy": "2023-10-04T02:31:48.865789Z",
     "iopub.status.idle": "2023-10-04T02:31:48.869794Z",
     "shell.execute_reply": "2023-10-04T02:31:48.869258Z"
    },
    "slideshow": {
     "slide_type": "fragment"
    }
   },
   "outputs": [],
   "source": [
    "find_largest([-1, -2, -3])"
   ]
  },
  {
   "cell_type": "markdown",
   "id": "57de5587",
   "metadata": {
    "slideshow": {
     "slide_type": "subslide"
    }
   },
   "source": [
    "`0` is a bad choice for our initial maximum value. \n",
    "\n",
    "We could use a very negative number. But, in Python, integers are unbounded, so it will never be negative enough to cover all cases.\n",
    "\n",
    "Let's try something else..."
   ]
  },
  {
   "cell_type": "code",
   "execution_count": null,
   "id": "2bc5c62b",
   "metadata": {
    "execution": {
     "iopub.execute_input": "2023-10-04T02:31:48.873453Z",
     "iopub.status.busy": "2023-10-04T02:31:48.872882Z",
     "iopub.status.idle": "2023-10-04T02:31:48.877833Z",
     "shell.execute_reply": "2023-10-04T02:31:48.877071Z"
    }
   },
   "outputs": [],
   "source": [
    "def find_largest(nums):\n",
    "    biggest = nums[0]\n",
    "    for num in nums[1:]:\n",
    "        if num > biggest:\n",
    "            biggest = num\n",
    "    return biggest"
   ]
  },
  {
   "cell_type": "code",
   "execution_count": null,
   "id": "84c494b1",
   "metadata": {
    "execution": {
     "iopub.execute_input": "2023-10-04T02:31:48.881727Z",
     "iopub.status.busy": "2023-10-04T02:31:48.881435Z",
     "iopub.status.idle": "2023-10-04T02:31:48.885787Z",
     "shell.execute_reply": "2023-10-04T02:31:48.885218Z"
    }
   },
   "outputs": [],
   "source": [
    "find_largest([-1,-2,-3])"
   ]
  },
  {
   "cell_type": "code",
   "execution_count": null,
   "id": "843446c1",
   "metadata": {
    "execution": {
     "iopub.execute_input": "2023-10-04T02:31:48.888853Z",
     "iopub.status.busy": "2023-10-04T02:31:48.888547Z",
     "iopub.status.idle": "2023-10-04T02:31:48.910250Z",
     "shell.execute_reply": "2023-10-04T02:31:48.909589Z"
    },
    "slideshow": {
     "slide_type": "fragment"
    }
   },
   "outputs": [],
   "source": [
    "find_largest([])"
   ]
  },
  {
   "cell_type": "markdown",
   "id": "b33aebb3",
   "metadata": {
    "slideshow": {
     "slide_type": "subslide"
    }
   },
   "source": [
    "Whoops, this doesn't work on empty lists!"
   ]
  },
  {
   "cell_type": "code",
   "execution_count": null,
   "id": "1f6c9cb4",
   "metadata": {
    "execution": {
     "iopub.execute_input": "2023-10-04T02:31:48.913450Z",
     "iopub.status.busy": "2023-10-04T02:31:48.913189Z",
     "iopub.status.idle": "2023-10-04T02:31:48.917022Z",
     "shell.execute_reply": "2023-10-04T02:31:48.916419Z"
    },
    "slideshow": {
     "slide_type": "fragment"
    }
   },
   "outputs": [],
   "source": [
    "def find_largest(nums):\n",
    "    if len(nums) == 0:\n",
    "        return None\n",
    "    \n",
    "    biggest = nums[0]\n",
    "    for num in nums[1:]:\n",
    "        if num > biggest:\n",
    "            biggest = num\n",
    "    return biggest"
   ]
  },
  {
   "cell_type": "code",
   "execution_count": null,
   "id": "9453bc9d",
   "metadata": {
    "execution": {
     "iopub.execute_input": "2023-10-04T02:31:48.919952Z",
     "iopub.status.busy": "2023-10-04T02:31:48.919687Z",
     "iopub.status.idle": "2023-10-04T02:31:48.923907Z",
     "shell.execute_reply": "2023-10-04T02:31:48.923309Z"
    }
   },
   "outputs": [],
   "source": [
    "find_largest([-1,-2,-3])"
   ]
  },
  {
   "cell_type": "code",
   "execution_count": null,
   "id": "38922609",
   "metadata": {
    "execution": {
     "iopub.execute_input": "2023-10-04T02:31:48.926866Z",
     "iopub.status.busy": "2023-10-04T02:31:48.926595Z",
     "iopub.status.idle": "2023-10-04T02:31:48.930758Z",
     "shell.execute_reply": "2023-10-04T02:31:48.930044Z"
    }
   },
   "outputs": [],
   "source": [
    "find_largest([-2])"
   ]
  },
  {
   "cell_type": "markdown",
   "id": "d7a3b7c4",
   "metadata": {
    "slideshow": {
     "slide_type": "subslide"
    }
   },
   "source": [
    "This is perfectly good! Here's one more option though:"
   ]
  },
  {
   "cell_type": "code",
   "execution_count": 3,
   "id": "2e8bad8b",
   "metadata": {
    "execution": {
     "iopub.execute_input": "2023-10-04T02:31:48.933884Z",
     "iopub.status.busy": "2023-10-04T02:31:48.933621Z",
     "iopub.status.idle": "2023-10-04T02:31:48.937063Z",
     "shell.execute_reply": "2023-10-04T02:31:48.936500Z"
    }
   },
   "outputs": [],
   "source": [
    "def find_largest(nums):\n",
    "    biggest = None\n",
    "    for num in nums:\n",
    "        if biggest is None or num > biggest:\n",
    "            biggest = num\n",
    "    return biggest"
   ]
  },
  {
   "cell_type": "code",
   "execution_count": 7,
   "id": "d1521fcd",
   "metadata": {
    "execution": {
     "iopub.execute_input": "2023-10-04T02:31:48.940054Z",
     "iopub.status.busy": "2023-10-04T02:31:48.939794Z",
     "iopub.status.idle": "2023-10-04T02:31:48.943987Z",
     "shell.execute_reply": "2023-10-04T02:31:48.943414Z"
    }
   },
   "outputs": [
    {
     "data": {
      "text/plain": [
       "-1"
      ]
     },
     "execution_count": 7,
     "metadata": {},
     "output_type": "execute_result"
    }
   ],
   "source": [
    "find_largest([-1,-2,-3])"
   ]
  },
  {
   "cell_type": "code",
   "execution_count": 9,
   "id": "89810ac7",
   "metadata": {
    "execution": {
     "iopub.execute_input": "2023-10-04T02:31:48.946721Z",
     "iopub.status.busy": "2023-10-04T02:31:48.946488Z",
     "iopub.status.idle": "2023-10-04T02:31:48.949733Z",
     "shell.execute_reply": "2023-10-04T02:31:48.949177Z"
    },
    "slideshow": {
     "slide_type": "-"
    }
   },
   "outputs": [
    {
     "name": "stdout",
     "output_type": "stream",
     "text": [
      "None\n"
     ]
    }
   ],
   "source": [
    "print(find_largest([]))"
   ]
  },
  {
   "cell_type": "markdown",
   "id": "60927821",
   "metadata": {
    "slideshow": {
     "slide_type": "slide"
    }
   },
   "source": [
    "## Oh wait, Python does this for us\n",
    "\n",
    "There is a `max` function (also `min`) that will give us the largest/smallest item in a list: [max() documentation](https://docs.python.org/3/library/functions.html#max)\n",
    "\n",
    "This was still a useful exercise to go through, because the issues we encountered and fixed are all common coding challenges.\n",
    "\n",
    "But when you're writing code in the wild, check for a built-in function or library that you can use before building it all yourself!"
   ]
  },
  {
   "cell_type": "code",
   "execution_count": null,
   "id": "26982949",
   "metadata": {
    "execution": {
     "iopub.execute_input": "2023-10-04T02:31:48.953032Z",
     "iopub.status.busy": "2023-10-04T02:31:48.952759Z",
     "iopub.status.idle": "2023-10-04T02:31:48.956919Z",
     "shell.execute_reply": "2023-10-04T02:31:48.956372Z"
    }
   },
   "outputs": [],
   "source": [
    "max([-1, -2, -3])"
   ]
  },
  {
   "cell_type": "markdown",
   "id": "3bc9b42c",
   "metadata": {
    "slideshow": {
     "slide_type": "slide"
    }
   },
   "source": [
    "# Example: to-do list\n",
    "\n",
    "Write a to-do list program. It should prompt the user for tasks, let the user print all their tasks, and remove things from the list."
   ]
  },
  {
   "cell_type": "code",
   "execution_count": null,
   "id": "aaa98d8c",
   "metadata": {
    "execution": {
     "iopub.execute_input": "2023-10-04T02:31:48.959823Z",
     "iopub.status.busy": "2023-10-04T02:31:48.959586Z",
     "iopub.status.idle": "2023-10-04T02:31:48.985633Z",
     "shell.execute_reply": "2023-10-04T02:31:48.984967Z"
    },
    "tags": [
     "remove-output"
    ]
   },
   "outputs": [],
   "source": [
    "tasks = []\n",
    "while True:\n",
    "\n",
    "  answer = input(\"What would you like to do? (a)dd a task, (r)emove a task, (l)ist the tasks, or (q)uit \")\n",
    "\n",
    "  if answer == \"q\":\n",
    "    break\n",
    "\n",
    "  if answer == \"a\":\n",
    "    item = input(\"Enter the task: \")\n",
    "    tasks.append(item)\n",
    "  elif answer == \"l\":\n",
    "    for i in range(len(tasks)):\n",
    "      print(str(i+1) + \": \" + tasks[i])\n",
    "  elif answer == \"r\":\n",
    "    # Note this will error if you try to delete an index that doesn't exist in the list!\n",
    "    index = int(input(\"Enter the number of the task to remove \"))\n",
    "    removed = tasks.pop(index - 1)\n",
    "    print(\"You removed: \" + removed)\n",
    "  else:\n",
    "    print(\"Invalid input, try again\")\n",
    "\n",
    "    "
   ]
  }
 ],
 "metadata": {
  "celltoolbar": "Slideshow",
  "kernelspec": {
   "display_name": "Python 3 (ipykernel)",
   "language": "python",
   "name": "python3"
  },
  "language_info": {
   "codemirror_mode": {
    "name": "ipython",
    "version": 3
   },
   "file_extension": ".py",
   "mimetype": "text/x-python",
   "name": "python",
   "nbconvert_exporter": "python",
   "pygments_lexer": "ipython3",
   "version": "3.10.9"
  }
 },
 "nbformat": 4,
 "nbformat_minor": 5
}
