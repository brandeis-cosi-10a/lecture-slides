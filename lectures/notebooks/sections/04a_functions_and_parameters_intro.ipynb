{
 "cells": [
  {
   "cell_type": "markdown",
   "id": "1ee8a1d2",
   "metadata": {
    "slideshow": {
     "slide_type": "slide"
    }
   },
   "source": [
    "# Functions\n",
    "\n",
    "<style>\n",
    "section.present > section.present { \n",
    "    max-height: 90%; \n",
    "    overflow-y: scroll;\n",
    "}\n",
    "</style>\n",
    "\n",
    "<small><a href=\"https://colab.research.google.com/github/brandeis-jdelfino/cosi-10a/blob/main/lectures/notebooks/4_functions.ipynb\">Link to interactive slides on Google Colab</a></small>"
   ]
  },
  {
   "cell_type": "markdown",
   "id": "ed1371c9",
   "metadata": {
    "slideshow": {
     "slide_type": "subslide"
    }
   },
   "source": [
    "**function**: A named group of statements\n",
    "\n",
    "* They are used to:\n",
    "  * Reduce redundancy and code duplication\n",
    "  * Represent the structure of a program\n",
    "* Functions are what make large, complex programs possible to build and maintain."
   ]
  },
  {
   "cell_type": "markdown",
   "id": "74b67395",
   "metadata": {
    "slideshow": {
     "slide_type": "slide"
    }
   },
   "source": [
    "# Functions by example\n",
    "### Write a program to print the lyrics to \"The Green Grass Grew All Around\"\n",
    "\n",
    "Oh in the woods there was a tree  \n",
    "The prettiest tree  \n",
    "You ever did see  \n",
    "And the tree was in the ground  \n",
    "And the green grass grew all around, all around, and the green grass grew all around  \n",
    "\n",
    "And on that tree  \n",
    "There was a limb  \n",
    "The prettiest limb  \n",
    "That you ever did see  \n",
    "And the limb was on the tree  \n",
    "And the tree was in the ground  \n",
    "And the green grass grew all around, all around, and the green grass grew all around  \n",
    "\n",
    "And on that limb  \n",
    "There was a branch  \n",
    "The prettiest branch  \n",
    "That you ever did see  \n",
    "And the branch was on the limb,  \n",
    "And the limb was on the tree,  \n",
    "And the tree was in the ground  \n",
    "And the green grass grew all around, all around, and the green grass grew all around  \n",
    "\n",
    "And on that branch  \n",
    "There was a nest  \n",
    "The prettiest nest  \n",
    "That you ever did see  \n",
    "And the nest was on the branch  \n",
    "And the branch was on the limb  \n",
    "And the limb was on the tree  \n",
    "And the tree was in the ground  \n",
    "And the green grass grew all around, all around, and the green grass grew all around  \n",
    "\n",
    "And in that nest  \n",
    "There was an egg  \n",
    "The prettiest egg  \n",
    "That you ever did see  \n",
    "And the egg was in the nest  \n",
    "And the nest was on the branch  \n",
    "And the branch was on the limb  \n",
    "And the limb was on the tree  \n",
    "And the tree was in the ground  \n",
    "And the green grass grew all around, all around, and the green grass grew all around  \n",
    "\n",
    "And in that egg  \n",
    "There was a bird  \n",
    "The prettiest bird  \n",
    "That you ever did see  \n",
    "And the bird was in the egg  \n",
    "And the egg was in the nest  \n",
    "And the nest was on the branch  \n",
    "And the branch was on the limb  \n",
    "And the limb was on the tree  \n",
    "And the tree was in the ground  \n",
    "And the green grass grew all around, all around, and the green grass grew all around  "
   ]
  },
  {
   "cell_type": "markdown",
   "id": "a2c01e5a",
   "metadata": {
    "slideshow": {
     "slide_type": "subslide"
    }
   },
   "source": [
    "## A naive solution"
   ]
  },
  {
   "cell_type": "code",
   "execution_count": null,
   "id": "c0461282",
   "metadata": {
    "execution": {
     "iopub.execute_input": "2023-10-04T02:30:13.364239Z",
     "iopub.status.busy": "2023-10-04T02:30:13.363735Z",
     "iopub.status.idle": "2023-10-04T02:30:13.386805Z",
     "shell.execute_reply": "2023-10-04T02:30:13.385259Z"
    }
   },
   "outputs": [],
   "source": [
    "print(\"Oh in the woods there was a tree\")\n",
    "print(\"The prettiest tree\")\n",
    "print(\"You ever did see\")\n",
    "print(\"And the tree was in the ground\")\n",
    "print(\"And the green grass grew all around, all around, and the green grass grew all around\")\n",
    "print()\n",
    "print(\"And on that tree\")\n",
    "print(\"There was a limb\")\n",
    "print(\"The prettiest limb\")\n",
    "print(\"That you ever did see\")\n",
    "print(\"And the limb was on the tree\")\n",
    "print(\"And the tree was in the ground\")\n",
    "print(\"And the green grass grew all around, all around, and the green grass grew all around\")\n",
    "print()\n",
    "print(\"And on that limb\")\n",
    "print(\"There was a branch\")\n",
    "print(\"The prettiest branch\")\n",
    "print(\"That you ever did see\")  \n",
    "print(\"And the branch was on the limb,\")\n",
    "print(\"And the limb was on the tree,\")\n",
    "print(\"And the tree was in the ground\")\n",
    "print(\"And the green grass grew all around, all around, and the green grass grew all around\")\n",
    "print()\n",
    "print(\"And on that branch\")\n",
    "print(\"There was a nest\")\n",
    "print(\"The prettiest nest\")\n",
    "print(\"That you ever did see\")\n",
    "print(\"And the nest was on the branch\")\n",
    "print(\"And the branch was on the limb\")\n",
    "print(\"And the limb was on the tree\")\n",
    "print(\"And the tree was in the ground\")\n",
    "print(\"And the green grass grew all around, all around, and the green grass grew all around\")\n",
    "print()\n",
    "print(\"And in that nest\")\n",
    "print(\"There was an egg\")\n",
    "print(\"The prettiest egg\")\n",
    "print(\"That you ever did see\")\n",
    "print(\"And the egg was in the nest\")\n",
    "print(\"And the nest was on the branch\")\n",
    "print(\"And the branch was on the limb\")\n",
    "print(\"And the limb was on the tree\")\n",
    "print(\"And the tree was in the ground\")\n",
    "print(\"And the green grass grew all around, all around, and the green grass grew all around\")\n",
    "print()\n",
    "print(\"And in that egg\")\n",
    "print(\"There was a bird\")\n",
    "print(\"The prettiest bird\")\n",
    "print(\"That you ever did see\")\n",
    "print(\"And the bird was in the egg\")\n",
    "print(\"And the egg was in the nest\")\n",
    "print(\"And the nest was on the branch\")\n",
    "print(\"And the branch was on the limb\")\n",
    "print(\"And the limb was on the tree\")\n",
    "print(\"And the tree was in the ground\")\n",
    "print(\"And the green grass grew all around, all around, and the green grass grew all around\")"
   ]
  },
  {
   "cell_type": "markdown",
   "id": "3934f3fe",
   "metadata": {
    "slideshow": {
     "slide_type": "subslide"
    }
   },
   "source": [
    "## Duplication\n",
    "\n",
    "There is a LOT of duplication in this song.\n",
    "\n",
    "We can \"factor out\" some of this redundancy into re-usable blocks of code (functions). This is similar to how we pulled common bits of code out of the different if/else branches with the progressive income tax calculator.\n",
    "\n",
    "For our first function, we'll pull out the two lines that occur in every verse:\n",
    "\n",
    "\n",
    "> Oh in the woods there was a tree  \n",
    "> The prettiest tree  \n",
    "> You ever did see  \n",
    "> **And the tree was in the ground  \n",
    "> And the green grass grew all around, all around, and the green grass grew all around**\n"
   ]
  },
  {
   "cell_type": "code",
   "execution_count": null,
   "id": "c9a85e44",
   "metadata": {
    "execution": {
     "iopub.execute_input": "2023-10-04T02:30:13.390870Z",
     "iopub.status.busy": "2023-10-04T02:30:13.390539Z",
     "iopub.status.idle": "2023-10-04T02:30:13.395984Z",
     "shell.execute_reply": "2023-10-04T02:30:13.395347Z"
    },
    "slideshow": {
     "slide_type": "subslide"
    }
   },
   "outputs": [],
   "source": [
    "# Our first function:\n",
    "def tree():\n",
    "    print(\"And the tree was in the ground\")\n",
    "    print(\"And the green grass grew all around, all around, and the green grass grew all around\")\n",
    "    print()\n",
    "    \n",
    "print(\"Oh in the woods there was a tree\")\n",
    "print(\"The prettiest tree\")\n",
    "print(\"You ever did see\")\n",
    "tree()\n",
    "print(\"And on that tree\")\n",
    "print(\"There was a limb\")\n",
    "print(\"The prettiest limb\")\n",
    "print(\"That you ever did see\")\n",
    "print(\"And the limb was on the tree\")\n",
    "tree()\n",
    "print(\"And on that limb\")\n",
    "print(\"There was a branch\")\n",
    "print(\"The prettiest branch\")\n",
    "print(\"That you ever did see\")\n",
    "print(\"And the branch was on the limb,\")\n",
    "print(\"And the limb was on the tree,\")\n",
    "tree()\n",
    "# ... "
   ]
  },
  {
   "cell_type": "markdown",
   "id": "3a3d3f13",
   "metadata": {
    "slideshow": {
     "slide_type": "subslide"
    }
   },
   "source": [
    "## Function definition syntax\n",
    "\n",
    "```\n",
    "def <name>():\n",
    "    statement(s)\n",
    "``` \n",
    "\n",
    "* **Defining** a function makes it available for use\n",
    "  * Merely defining a function does not execute any of the statements in the function."
   ]
  },
  {
   "cell_type": "code",
   "execution_count": null,
   "id": "8555460b",
   "metadata": {
    "execution": {
     "iopub.execute_input": "2023-10-04T02:30:13.399257Z",
     "iopub.status.busy": "2023-10-04T02:30:13.398960Z",
     "iopub.status.idle": "2023-10-04T02:30:13.402497Z",
     "shell.execute_reply": "2023-10-04T02:30:13.401808Z"
    }
   },
   "outputs": [],
   "source": [
    "def tree():\n",
    "    print(\"And the tree was in the ground\")\n",
    "    print(\"And the green grass grew all around, all around, and the green grass grew all around\")\n",
    "    print()"
   ]
  },
  {
   "cell_type": "markdown",
   "id": "b2346f64",
   "metadata": {
    "slideshow": {
     "slide_type": "subslide"
    }
   },
   "source": [
    "* **Calling** or **invoking** a function makes the code inside the function run."
   ]
  },
  {
   "cell_type": "code",
   "execution_count": null,
   "id": "575a9446",
   "metadata": {
    "execution": {
     "iopub.execute_input": "2023-10-04T02:30:13.405613Z",
     "iopub.status.busy": "2023-10-04T02:30:13.405352Z",
     "iopub.status.idle": "2023-10-04T02:30:13.409049Z",
     "shell.execute_reply": "2023-10-04T02:30:13.408430Z"
    }
   },
   "outputs": [],
   "source": [
    "tree()"
   ]
  },
  {
   "cell_type": "markdown",
   "id": "bd99d947",
   "metadata": {
    "slideshow": {
     "slide_type": "subslide"
    }
   },
   "source": [
    "## Let's continue on the song... "
   ]
  },
  {
   "cell_type": "code",
   "execution_count": null,
   "id": "fa2de143",
   "metadata": {
    "execution": {
     "iopub.execute_input": "2023-10-04T02:30:13.412502Z",
     "iopub.status.busy": "2023-10-04T02:30:13.412210Z",
     "iopub.status.idle": "2023-10-04T02:30:13.416798Z",
     "shell.execute_reply": "2023-10-04T02:30:13.416165Z"
    }
   },
   "outputs": [],
   "source": [
    "# ...\n",
    "print(\"And on that tree\")  \n",
    "print(\"There was a limb\")  \n",
    "print(\"The prettiest limb\")  \n",
    "print(\"That you ever did see\")  \n",
    "print(\"And the limb was on the tree\")  \n",
    "tree()  \n",
    "print(\"And on that limb\")  \n",
    "print(\"There was a branch\")  \n",
    "print(\"The prettiest branch\")  \n",
    "print(\"That you ever did see\")  \n",
    "print(\"And the branch was on the limb,\")  \n",
    "print(\"And the limb was on the tree,\")  \n",
    "tree()\n",
    "# ..."
   ]
  },
  {
   "cell_type": "markdown",
   "id": "81bbc9bd",
   "metadata": {},
   "source": [
    "The last two lines (`print(\"And the limb was on the tree\")` and `tree()`) appear together in every verse after the first one. Let's wrap them in a function...\n"
   ]
  },
  {
   "cell_type": "code",
   "execution_count": null,
   "id": "b728645e",
   "metadata": {
    "execution": {
     "iopub.execute_input": "2023-10-04T02:30:13.420016Z",
     "iopub.status.busy": "2023-10-04T02:30:13.419739Z",
     "iopub.status.idle": "2023-10-04T02:30:13.425053Z",
     "shell.execute_reply": "2023-10-04T02:30:13.424390Z"
    },
    "slideshow": {
     "slide_type": "subslide"
    }
   },
   "outputs": [],
   "source": [
    "def tree():\n",
    "    print(\"And the tree was in the ground\")\n",
    "    print(\"And the green grass grew all around, all around, and the green grass grew all around\")\n",
    "    print()\n",
    "    \n",
    "def limb():\n",
    "    print(\"And the limb was on the tree,\")\n",
    "    tree()\n",
    "    \n",
    "print(\"Oh in the woods there was a tree\")\n",
    "print(\"The prettiest tree\")\n",
    "print(\"You ever did see\")\n",
    "tree()\n",
    "print(\"And on that tree\")\n",
    "print(\"There was a limb\")\n",
    "print(\"The prettiest limb\")\n",
    "print(\"That you ever did see\")\n",
    "limb()\n",
    "print(\"And on that limb\")\n",
    "print(\"There was a branch\")\n",
    "print(\"The prettiest branch\")\n",
    "print(\"That you ever did see\")\n",
    "print(\"And the branch was on the limb,\")\n",
    "limb()"
   ]
  },
  {
   "cell_type": "markdown",
   "id": "0851da68",
   "metadata": {
    "slideshow": {
     "slide_type": "subslide"
    }
   },
   "source": [
    "## Functions can call other functions"
   ]
  },
  {
   "cell_type": "code",
   "execution_count": null,
   "id": "03534e3e",
   "metadata": {
    "execution": {
     "iopub.execute_input": "2023-10-04T02:30:13.428153Z",
     "iopub.status.busy": "2023-10-04T02:30:13.427893Z",
     "iopub.status.idle": "2023-10-04T02:30:13.431616Z",
     "shell.execute_reply": "2023-10-04T02:30:13.431013Z"
    }
   },
   "outputs": [],
   "source": [
    "def a():\n",
    "    print(\"a\")\n",
    "\n",
    "def b():\n",
    "    print(\"b1\")\n",
    "    a()\n",
    "    print(\"b2\")\n",
    "    \n",
    "b()"
   ]
  },
  {
   "cell_type": "markdown",
   "id": "154575de",
   "metadata": {
    "slideshow": {
     "slide_type": "subslide"
    }
   },
   "source": [
    "## We can continue breaking our song down..."
   ]
  },
  {
   "cell_type": "code",
   "execution_count": null,
   "id": "d7c28cda",
   "metadata": {
    "execution": {
     "iopub.execute_input": "2023-10-04T02:30:13.434830Z",
     "iopub.status.busy": "2023-10-04T02:30:13.434565Z",
     "iopub.status.idle": "2023-10-04T02:30:13.440400Z",
     "shell.execute_reply": "2023-10-04T02:30:13.439724Z"
    }
   },
   "outputs": [],
   "source": [
    "def tree():\n",
    "    print(\"And the tree was in the ground\")\n",
    "    print(\"And the green grass grew all around, all around, and the green grass grew all around\")\n",
    "    print()\n",
    "    \n",
    "def limb():\n",
    "    print(\"And the limb was on the tree,\")\n",
    "    tree()\n",
    "    \n",
    "def branch():\n",
    "    print(\"And the branch was on the limb,\")\n",
    "    limb()\n",
    "    \n",
    "print(\"Oh in the woods there was a tree\")\n",
    "print(\"The prettiest tree\")\n",
    "print(\"You ever did see\")\n",
    "tree()\n",
    "print(\"And on that tree\")\n",
    "print(\"There was a limb\")\n",
    "print(\"The prettiest limb\")\n",
    "print(\"That you ever did see\")\n",
    "limb()\n",
    "print(\"And on that limb\")\n",
    "print(\"There was a branch\")\n",
    "print(\"The prettiest branch\")\n",
    "print(\"That you ever did see\")\n",
    "branch()\n",
    "print(\"And on that branch\")\n",
    "print(\"There was a nest\")\n",
    "print(\"The prettiest nest\")\n",
    "print(\"That you ever did see\")\n",
    "print(\"And the nest was on the branch\")\n",
    "branch()"
   ]
  },
  {
   "cell_type": "code",
   "execution_count": null,
   "id": "912338c9",
   "metadata": {
    "execution": {
     "iopub.execute_input": "2023-10-04T02:30:13.443512Z",
     "iopub.status.busy": "2023-10-04T02:30:13.443256Z",
     "iopub.status.idle": "2023-10-04T02:30:13.450284Z",
     "shell.execute_reply": "2023-10-04T02:30:13.449632Z"
    },
    "slideshow": {
     "slide_type": "subslide"
    }
   },
   "outputs": [],
   "source": [
    "def tree():\n",
    "    print(\"And the tree was in the ground\")\n",
    "    print(\"And the green grass grew all around, all around, and the green grass grew all around\")\n",
    "    print()\n",
    "    \n",
    "def limb():\n",
    "    print(\"And the limb was on the tree,\")\n",
    "    tree()\n",
    "    \n",
    "def branch():\n",
    "    print(\"And the branch was on the limb,\")\n",
    "    limb()\n",
    "    \n",
    "def nest():\n",
    "    print(\"And the nest was on the branch\")\n",
    "    branch()\n",
    "\n",
    "def egg():\n",
    "    print(\"And the egg was in the nest\")\n",
    "    nest()\n",
    "\n",
    "def bird():\n",
    "    print(\"And the bird was in the egg\")\n",
    "    egg()\n",
    "    \n",
    "print(\"Oh in the woods there was a tree\")\n",
    "print(\"The prettiest tree\")\n",
    "print(\"You ever did see\")\n",
    "tree()\n",
    "print(\"And on that tree\")\n",
    "print(\"There was a limb\")\n",
    "print(\"The prettiest limb\")\n",
    "print(\"That you ever did see\")\n",
    "limb()\n",
    "print(\"And on that limb\")\n",
    "print(\"There was a branch\")\n",
    "print(\"The prettiest branch\")\n",
    "print(\"That you ever did see\")\n",
    "branch()\n",
    "print(\"And on that branch\")\n",
    "print(\"There was a nest\")\n",
    "print(\"The prettiest nest\")\n",
    "print(\"That you ever did see\")\n",
    "nest()\n",
    "print(\"And in that nest\")\n",
    "print(\"There was an egg\")\n",
    "print(\"The prettiest egg\")\n",
    "print(\"That you ever did see\")\n",
    "egg()\n",
    "print(\"And in that egg\")\n",
    "print(\"There was a bird\")\n",
    "print(\"The prettiest bird\")\n",
    "print(\"That you ever did see\")\n",
    "bird()"
   ]
  },
  {
   "cell_type": "markdown",
   "id": "f9d4f100",
   "metadata": {
    "slideshow": {
     "slide_type": "slide"
    }
   },
   "source": [
    "# Functional decomposition\n",
    "\n",
    "* We are **decomposing** our song into smaller pieces.\n",
    "* Decomposing a complicated program into coherent, reusable chunks is an extremely valuable programming skill.\n",
    "* It will come with practice and experience - your first attempts might feel like they create more work, headache, and confusion than they save.\n",
    "* Stick with it, it will pay off!"
   ]
  },
  {
   "cell_type": "markdown",
   "id": "33ef2fc5",
   "metadata": {
    "slideshow": {
     "slide_type": "slide"
    }
   },
   "source": [
    "# Parameters\n",
    "\n",
    "### We still have more duplication in our song\n",
    "\n",
    "And on that **tree**  \n",
    "There was a **limb**  \n",
    "The prettiest **limb**  \n",
    "That you ever did see  \n",
    "\n",
    "vs. \n",
    "\n",
    "And on that **limb**  \n",
    "There was a **branch**  \n",
    "The prettiest **branch**  \n",
    "That you ever did see"
   ]
  },
  {
   "cell_type": "markdown",
   "id": "b090681f",
   "metadata": {
    "slideshow": {
     "slide_type": "subslide"
    }
   },
   "source": [
    "## Parameters\n",
    "\n",
    "Functions can be **parameterized**. \n",
    "\n",
    "```\n",
    "def <name>(parameter1, [parameter2], ...):\n",
    "    statement(s)\n",
    "```\n",
    "\n",
    "* A **parameter** is a variable defined as input to a function. \n",
    "* An **argument** is a value passed to a function when it is called.\n",
    "* This is a fine distinction, and the two terms are often used interchangably. The distinction is generally ok to ignore unless you are in a context where the difference matters (e.g. formal documentation or specifications)."
   ]
  },
  {
   "cell_type": "markdown",
   "id": "d8110e12",
   "metadata": {
    "slideshow": {
     "slide_type": "subslide"
    }
   },
   "source": [
    "## Parameters\n",
    "\n",
    "We can write a parameterized function for the first part of the verses.  "
   ]
  },
  {
   "cell_type": "code",
   "execution_count": null,
   "id": "2a716302",
   "metadata": {
    "execution": {
     "iopub.execute_input": "2023-10-04T02:30:13.453700Z",
     "iopub.status.busy": "2023-10-04T02:30:13.453436Z",
     "iopub.status.idle": "2023-10-04T02:30:13.457239Z",
     "shell.execute_reply": "2023-10-04T02:30:13.456589Z"
    }
   },
   "outputs": [],
   "source": [
    "def verse(first_thing, second_thing):\n",
    "    print(\"And on that \" + first_thing)\n",
    "    print(\"There was a \" + second_thing)\n",
    "    print(\"The prettiest \" + second_thing)\n",
    "    print(\"That you ever did see\")\n",
    "    \n",
    "verse(\"tree\", \"limb\")"
   ]
  },
  {
   "cell_type": "code",
   "execution_count": null,
   "id": "6435a4f7",
   "metadata": {
    "execution": {
     "iopub.execute_input": "2023-10-04T02:30:13.460434Z",
     "iopub.status.busy": "2023-10-04T02:30:13.460168Z",
     "iopub.status.idle": "2023-10-04T02:30:13.466728Z",
     "shell.execute_reply": "2023-10-04T02:30:13.466127Z"
    },
    "slideshow": {
     "slide_type": "subslide"
    }
   },
   "outputs": [],
   "source": [
    "def tree():\n",
    "    print(\"And the tree was in the ground\")\n",
    "    print(\"And the green grass grew all around, all around, and the green grass grew all around\")\n",
    "    print()\n",
    "    \n",
    "def limb():\n",
    "    print(\"And the limb was on the tree,\")\n",
    "    tree()\n",
    "    \n",
    "def branch():\n",
    "    print(\"And the branch was on the limb,\")\n",
    "    limb()\n",
    "    \n",
    "def nest():\n",
    "    print(\"And the nest was on the branch\")\n",
    "    branch()\n",
    "\n",
    "def egg():\n",
    "    print(\"And the egg was in the nest\")\n",
    "    nest()\n",
    "\n",
    "def bird():\n",
    "    print(\"And the bird was in the egg\")\n",
    "    egg()\n",
    "\n",
    "def verse(first_thing, second_thing):\n",
    "    print(\"And on that \" + first_thing)\n",
    "    print(\"There was a \" + second_thing)\n",
    "    print(\"The prettiest \" + second_thing)\n",
    "    print(\"That you ever did see\")\n",
    "    \n",
    "print(\"Oh in the woods there was a tree\")\n",
    "print(\"The prettiest tree\")\n",
    "print(\"You ever did see\")\n",
    "tree()\n",
    "verse(\"tree\", \"limb\")\n",
    "limb()\n",
    "verse(\"limb\", \"branch\")\n",
    "branch()\n",
    "verse(\"branch\", \"nest\")\n",
    "nest()\n",
    "verse(\"nest\", \"egg\")\n",
    "egg()\n",
    "verse(\"egg\", \"bird\")\n",
    "bird()"
   ]
  },
  {
   "cell_type": "markdown",
   "id": "6d471df5",
   "metadata": {
    "slideshow": {
     "slide_type": "subslide"
    }
   },
   "source": [
    "# Wait, that song isn't quite right...\n",
    "\n",
    "The egg verse is special:\n",
    "\n",
    "And **on** that nest  \n",
    "There was **a** egg  \n",
    "The prettiest egg  \n",
    "That you ever did see  \n",
    "\n",
    "One way to fix this would be to write a special function (or just use print statements) for that verse. \n",
    "\n",
    "But... we're learning about functions, so let's keep going."
   ]
  },
  {
   "cell_type": "markdown",
   "id": "5eae094d",
   "metadata": {
    "slideshow": {
     "slide_type": "subslide"
    }
   },
   "source": [
    "We can add one more parameter, `orientation` to our `verse` function:"
   ]
  },
  {
   "cell_type": "code",
   "execution_count": null,
   "id": "eecece39",
   "metadata": {
    "execution": {
     "iopub.execute_input": "2023-10-04T02:30:13.469898Z",
     "iopub.status.busy": "2023-10-04T02:30:13.469635Z",
     "iopub.status.idle": "2023-10-04T02:30:13.473674Z",
     "shell.execute_reply": "2023-10-04T02:30:13.473102Z"
    },
    "slideshow": {
     "slide_type": "-"
    },
    "tags": [
     "remove-output"
    ]
   },
   "outputs": [],
   "source": [
    "def verse(first_thing, second_thing, orientation):\n",
    "    print(\"And \" + orientation + \" that \" + first_thing)\n",
    "    print(\"There was a \" + second_thing)\n",
    "    print(\"The prettiest \" + second_thing)\n",
    "    print(\"That you ever did see\")\n",
    "    \n",
    "verse(\"branch\", \"limb\", \"on\")\n",
    "print()\n",
    "verse(\"nest\", \"egg\", \"in\")"
   ]
  }
 ],
 "metadata": {
  "celltoolbar": "Slideshow",
  "kernelspec": {
   "display_name": "Python 3 (ipykernel)",
   "language": "python",
   "name": "python3"
  },
  "language_info": {
   "codemirror_mode": {
    "name": "ipython",
    "version": 3
   },
   "file_extension": ".py",
   "mimetype": "text/x-python",
   "name": "python",
   "nbconvert_exporter": "python",
   "pygments_lexer": "ipython3",
   "version": "3.10.9"
  }
 },
 "nbformat": 4,
 "nbformat_minor": 5
}
