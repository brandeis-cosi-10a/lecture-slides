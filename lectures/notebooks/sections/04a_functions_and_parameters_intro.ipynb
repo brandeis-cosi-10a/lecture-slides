{
 "cells": [
  {
   "cell_type": "markdown",
   "id": "1ee8a1d2",
   "metadata": {
    "slideshow": {
     "slide_type": "slide"
    }
   },
   "source": [
    "# Functions\n",
    "\n",
    "<style>\n",
    "section.present > section.present { \n",
    "    max-height: 90%; \n",
    "    overflow-y: scroll;\n",
    "}\n",
    "</style>\n",
    "\n",
    "<small><a href=\"https://colab.research.google.com/github/brandeis-jdelfino/cosi-10a/blob/main/lectures/notebooks/4_functions.ipynb\">Link to interactive slides on Google Colab</a></small>"
   ]
  },
  {
   "cell_type": "markdown",
   "id": "ed1371c9",
   "metadata": {
    "slideshow": {
     "slide_type": "subslide"
    }
   },
   "source": [
    "**function**: A named group of statements\n",
    "\n",
    "* They are used to:\n",
    "  * Reduce redundancy and code duplication\n",
    "  * Represent the structure of a program\n",
    "* Functions are what make large, complex programs possible to build and maintain."
   ]
  },
  {
   "cell_type": "markdown",
   "id": "74b67395",
   "metadata": {
    "slideshow": {
     "slide_type": "slide"
    }
   },
   "source": [
    "# Functions by example\n",
    "### Write a program to print the lyrics to \"The Green Grass Grew All Around\"\n",
    "\n",
    "Oh in the woods there was a tree  \n",
    "The prettiest tree  \n",
    "You ever did see  \n",
    "And the tree was in the ground  \n",
    "And the green grass grew all around, all around, and the green grass grew all around  \n",
    "\n",
    "And on that tree  \n",
    "There was a limb  \n",
    "The prettiest limb  \n",
    "That you ever did see  \n",
    "And the limb was on the tree  \n",
    "And the tree was in the ground  \n",
    "And the green grass grew all around, all around, and the green grass grew all around  \n",
    "\n",
    "And on that limb  \n",
    "There was a branch  \n",
    "The prettiest branch  \n",
    "That you ever did see  \n",
    "And the branch was on the limb,  \n",
    "And the limb was on the tree,  \n",
    "And the tree was in the ground  \n",
    "And the green grass grew all around, all around, and the green grass grew all around  \n",
    "\n",
    "And on that branch  \n",
    "There was a nest  \n",
    "The prettiest nest  \n",
    "That you ever did see  \n",
    "And the nest was on the branch  \n",
    "And the branch was on the limb  \n",
    "And the limb was on the tree  \n",
    "And the tree was in the ground  \n",
    "And the green grass grew all around, all around, and the green grass grew all around  \n",
    "\n",
    "And in that nest  \n",
    "There was an egg  \n",
    "The prettiest egg  \n",
    "That you ever did see  \n",
    "And the egg was in the nest  \n",
    "And the nest was on the branch  \n",
    "And the branch was on the limb  \n",
    "And the limb was on the tree  \n",
    "And the tree was in the ground  \n",
    "And the green grass grew all around, all around, and the green grass grew all around  \n",
    "\n",
    "And in that egg  \n",
    "There was a bird  \n",
    "The prettiest bird  \n",
    "That you ever did see  \n",
    "And the bird was in the egg  \n",
    "And the egg was in the nest  \n",
    "And the nest was on the branch  \n",
    "And the branch was on the limb  \n",
    "And the limb was on the tree  \n",
    "And the tree was in the ground  \n",
    "And the green grass grew all around, all around, and the green grass grew all around  "
   ]
  },
  {
   "cell_type": "markdown",
   "id": "a2c01e5a",
   "metadata": {
    "slideshow": {
     "slide_type": "subslide"
    }
   },
   "source": [
    "## A naive solution"
   ]
  },
  {
   "cell_type": "code",
   "execution_count": null,
   "id": "c0461282",
   "metadata": {},
   "outputs": [],
   "source": [
    "print(\"Oh in the woods there was a tree\")\n",
    "print(\"The prettiest tree\")\n",
    "print(\"You ever did see\")\n",
    "print(\"And the tree was in the ground\")\n",
    "print(\"And the green grass grew all around, all around, and the green grass grew all around\")\n",
    "print()\n",
    "print(\"And on that tree\")\n",
    "print(\"There was a limb\")\n",
    "print(\"The prettiest limb\")\n",
    "print(\"That you ever did see\")\n",
    "print(\"And the limb was on the tree\")\n",
    "print(\"And the tree was in the ground\")\n",
    "print(\"And the green grass grew all around, all around, and the green grass grew all around\")\n",
    "print()\n",
    "print(\"And on that limb\")\n",
    "print(\"There was a branch\")\n",
    "print(\"The prettiest branch\")\n",
    "print(\"That you ever did see\")  \n",
    "print(\"And the branch was on the limb,\")\n",
    "print(\"And the limb was on the tree,\")\n",
    "print(\"And the tree was in the ground\")\n",
    "print(\"And the green grass grew all around, all around, and the green grass grew all around\")\n",
    "print()\n",
    "print(\"And on that branch\")\n",
    "print(\"There was a nest\")\n",
    "print(\"The prettiest nest\")\n",
    "print(\"That you ever did see\")\n",
    "print(\"And the nest was on the branch\")\n",
    "print(\"And the branch was on the limb\")\n",
    "print(\"And the limb was on the tree\")\n",
    "print(\"And the tree was in the ground\")\n",
    "print(\"And the green grass grew all around, all around, and the green grass grew all around\")\n",
    "print()\n",
    "print(\"And in that nest\")\n",
    "print(\"There was an egg\")\n",
    "print(\"The prettiest egg\")\n",
    "print(\"That you ever did see\")\n",
    "print(\"And the egg was in the nest\")\n",
    "print(\"And the nest was on the branch\")\n",
    "print(\"And the branch was on the limb\")\n",
    "print(\"And the limb was on the tree\")\n",
    "print(\"And the tree was in the ground\")\n",
    "print(\"And the green grass grew all around, all around, and the green grass grew all around\")\n",
    "print()\n",
    "print(\"And in that egg\")\n",
    "print(\"There was a bird\")\n",
    "print(\"The prettiest bird\")\n",
    "print(\"That you ever did see\")\n",
    "print(\"And the bird was in the egg\")\n",
    "print(\"And the egg was in the nest\")\n",
    "print(\"And the nest was on the branch\")\n",
    "print(\"And the branch was on the limb\")\n",
    "print(\"And the limb was on the tree\")\n",
    "print(\"And the tree was in the ground\")\n",
    "print(\"And the green grass grew all around, all around, and the green grass grew all around\")"
   ]
  },
  {
   "cell_type": "markdown",
   "id": "3934f3fe",
   "metadata": {
    "slideshow": {
     "slide_type": "subslide"
    }
   },
   "source": [
    "## Duplication\n",
    "\n",
    "There is a LOT of duplication in this song.\n",
    "\n",
    "We can \"factor out\" some of this redundancy into re-usable blocks of code (functions). This is similar to how we pulled common bits of code out of the different if/else branches with the progressive income tax calculator.\n",
    "\n",
    "For our first function, we'll pull out the two lines that occur in every verse:\n",
    "\n",
    "\n",
    "> Oh in the woods there was a tree  \n",
    "> The prettiest tree  \n",
    "> You ever did see  \n",
    "> **And the tree was in the ground  \n",
    "> And the green grass grew all around, all around, and the green grass grew all around**\n"
   ]
  },
  {
   "cell_type": "code",
   "execution_count": null,
   "id": "c9a85e44",
   "metadata": {
    "slideshow": {
     "slide_type": "subslide"
    }
   },
   "outputs": [],
   "source": [
    "# Our first function:\n",
    "def tree():\n",
    "    print(\"And the tree was in the ground\")\n",
    "    print(\"And the green grass grew all around, all around, and the green grass grew all around\")\n",
    "    print()\n",
    "    \n",
    "print(\"Oh in the woods there was a tree\")\n",
    "print(\"The prettiest tree\")\n",
    "print(\"You ever did see\")\n",
    "tree()\n",
    "print(\"And on that tree\")\n",
    "print(\"There was a limb\")\n",
    "print(\"The prettiest limb\")\n",
    "print(\"That you ever did see\")\n",
    "print(\"And the limb was on the tree\")\n",
    "tree()\n",
    "print(\"And on that limb\")\n",
    "print(\"There was a branch\")\n",
    "print(\"The prettiest branch\")\n",
    "print(\"That you ever did see\")\n",
    "print(\"And the branch was on the limb,\")\n",
    "print(\"And the limb was on the tree,\")\n",
    "tree()\n",
    "# ... "
   ]
  },
  {
   "cell_type": "markdown",
   "id": "3a3d3f13",
   "metadata": {
    "slideshow": {
     "slide_type": "subslide"
    }
   },
   "source": [
    "## Function definition syntax\n",
    "\n",
    "```\n",
    "def <name>():\n",
    "    statement(s)\n",
    "``` \n",
    "\n",
    "* **Defining** a function makes it available for use\n",
    "  * Merely defining a function does not execute any of the statements in the function."
   ]
  },
  {
   "cell_type": "code",
   "execution_count": null,
   "id": "8555460b",
   "metadata": {},
   "outputs": [],
   "source": [
    "def tree():\n",
    "    print(\"And the tree was in the ground\")\n",
    "    print(\"And the green grass grew all around, all around, and the green grass grew all around\")\n",
    "    print()"
   ]
  },
  {
   "cell_type": "markdown",
   "id": "b2346f64",
   "metadata": {
    "slideshow": {
     "slide_type": "subslide"
    }
   },
   "source": [
    "* **Calling** or **invoking** a function makes the code inside the function run."
   ]
  },
  {
   "cell_type": "code",
   "execution_count": null,
   "id": "575a9446",
   "metadata": {},
   "outputs": [],
   "source": [
    "tree()"
   ]
  },
  {
   "cell_type": "markdown",
   "id": "bd99d947",
   "metadata": {
    "slideshow": {
     "slide_type": "subslide"
    }
   },
   "source": [
    "## Let's continue on the song... "
   ]
  },
  {
   "cell_type": "code",
   "execution_count": null,
   "id": "fa2de143",
   "metadata": {},
   "outputs": [],
   "source": [
    "# ...\n",
    "print(\"And on that tree\")  \n",
    "print(\"There was a limb\")  \n",
    "print(\"The prettiest limb\")  \n",
    "print(\"That you ever did see\")  \n",
    "print(\"And the limb was on the tree\")  \n",
    "tree()  \n",
    "print(\"And on that limb\")  \n",
    "print(\"There was a branch\")  \n",
    "print(\"The prettiest branch\")  \n",
    "print(\"That you ever did see\")  \n",
    "print(\"And the branch was on the limb,\")  \n",
    "print(\"And the limb was on the tree,\")  \n",
    "tree()\n",
    "# ..."
   ]
  },
  {
   "cell_type": "markdown",
   "id": "81bbc9bd",
   "metadata": {},
   "source": [
    "The last two lines (`print(\"And the limb was on the tree\")` and `tree()`) appear together in every verse after the first one. Let's wrap them in a function...\n"
   ]
  },
  {
   "cell_type": "code",
   "execution_count": null,
   "id": "b728645e",
   "metadata": {
    "slideshow": {
     "slide_type": "subslide"
    }
   },
   "outputs": [],
   "source": [
    "def tree():\n",
    "    print(\"And the tree was in the ground\")\n",
    "    print(\"And the green grass grew all around, all around, and the green grass grew all around\")\n",
    "    print()\n",
    "    \n",
    "def limb():\n",
    "    print(\"And the limb was on the tree,\")\n",
    "    tree()\n",
    "    \n",
    "print(\"Oh in the woods there was a tree\")\n",
    "print(\"The prettiest tree\")\n",
    "print(\"You ever did see\")\n",
    "tree()\n",
    "print(\"And on that tree\")\n",
    "print(\"There was a limb\")\n",
    "print(\"The prettiest limb\")\n",
    "print(\"That you ever did see\")\n",
    "limb()\n",
    "print(\"And on that limb\")\n",
    "print(\"There was a branch\")\n",
    "print(\"The prettiest branch\")\n",
    "print(\"That you ever did see\")\n",
    "print(\"And the branch was on the limb,\")\n",
    "limb()"
   ]
  },
  {
   "cell_type": "markdown",
   "id": "0851da68",
   "metadata": {
    "slideshow": {
     "slide_type": "subslide"
    }
   },
   "source": [
    "## Functions can call other functions"
   ]
  },
  {
   "cell_type": "code",
   "execution_count": null,
   "id": "03534e3e",
   "metadata": {},
   "outputs": [],
   "source": [
    "def a():\n",
    "    print(\"a\")\n",
    "\n",
    "def b():\n",
    "    print(\"b1\")\n",
    "    a()\n",
    "    print(\"b2\")\n",
    "    \n",
    "b()"
   ]
  },
  {
   "cell_type": "markdown",
   "id": "154575de",
   "metadata": {
    "slideshow": {
     "slide_type": "subslide"
    }
   },
   "source": [
    "## We can continue breaking our song down..."
   ]
  },
  {
   "cell_type": "code",
   "execution_count": null,
   "id": "d7c28cda",
   "metadata": {},
   "outputs": [],
   "source": [
    "def tree():\n",
    "    print(\"And the tree was in the ground\")\n",
    "    print(\"And the green grass grew all around, all around, and the green grass grew all around\")\n",
    "    print()\n",
    "    \n",
    "def limb():\n",
    "    print(\"And the limb was on the tree,\")\n",
    "    tree()\n",
    "    \n",
    "def branch():\n",
    "    print(\"And the branch was on the limb,\")\n",
    "    limb()\n",
    "    \n",
    "print(\"Oh in the woods there was a tree\")\n",
    "print(\"The prettiest tree\")\n",
    "print(\"You ever did see\")\n",
    "tree()\n",
    "print(\"And on that tree\")\n",
    "print(\"There was a limb\")\n",
    "print(\"The prettiest limb\")\n",
    "print(\"That you ever did see\")\n",
    "limb()\n",
    "print(\"And on that limb\")\n",
    "print(\"There was a branch\")\n",
    "print(\"The prettiest branch\")\n",
    "print(\"That you ever did see\")\n",
    "branch()\n",
    "print(\"And on that branch\")\n",
    "print(\"There was a nest\")\n",
    "print(\"The prettiest nest\")\n",
    "print(\"That you ever did see\")\n",
    "print(\"And the nest was on the branch\")\n",
    "branch()"
   ]
  },
  {
   "cell_type": "code",
   "execution_count": null,
   "id": "912338c9",
   "metadata": {
    "slideshow": {
     "slide_type": "subslide"
    }
   },
   "outputs": [],
   "source": [
    "def tree():\n",
    "    print(\"And the tree was in the ground\")\n",
    "    print(\"And the green grass grew all around, all around, and the green grass grew all around\")\n",
    "    print()\n",
    "    \n",
    "def limb():\n",
    "    print(\"And the limb was on the tree,\")\n",
    "    tree()\n",
    "    \n",
    "def branch():\n",
    "    print(\"And the branch was on the limb,\")\n",
    "    limb()\n",
    "    \n",
    "def nest():\n",
    "    print(\"And the nest was on the branch\")\n",
    "    branch()\n",
    "\n",
    "def egg():\n",
    "    print(\"And the egg was in the nest\")\n",
    "    nest()\n",
    "\n",
    "def bird():\n",
    "    print(\"And the bird was in the egg\")\n",
    "    egg()\n",
    "    \n",
    "print(\"Oh in the woods there was a tree\")\n",
    "print(\"The prettiest tree\")\n",
    "print(\"You ever did see\")\n",
    "tree()\n",
    "print(\"And on that tree\")\n",
    "print(\"There was a limb\")\n",
    "print(\"The prettiest limb\")\n",
    "print(\"That you ever did see\")\n",
    "limb()\n",
    "print(\"And on that limb\")\n",
    "print(\"There was a branch\")\n",
    "print(\"The prettiest branch\")\n",
    "print(\"That you ever did see\")\n",
    "branch()\n",
    "print(\"And on that branch\")\n",
    "print(\"There was a nest\")\n",
    "print(\"The prettiest nest\")\n",
    "print(\"That you ever did see\")\n",
    "nest()\n",
    "print(\"And in that nest\")\n",
    "print(\"There was an egg\")\n",
    "print(\"The prettiest egg\")\n",
    "print(\"That you ever did see\")\n",
    "egg()\n",
    "print(\"And in that egg\")\n",
    "print(\"There was a bird\")\n",
    "print(\"The prettiest bird\")\n",
    "print(\"That you ever did see\")\n",
    "bird()"
   ]
  },
  {
   "cell_type": "markdown",
   "id": "f9d4f100",
   "metadata": {
    "slideshow": {
     "slide_type": "slide"
    }
   },
   "source": [
    "# Functional decomposition\n",
    "\n",
    "* We are **decomposing** our song into smaller pieces.\n",
    "* Decomposing a complicated program into coherent, reusable chunks is an extremely valuable programming skill.\n",
    "* It will come with practice and experience - your first attempts might feel like they create more work, headache, and confusion than they save.\n",
    "* Stick with it, it will pay off!"
   ]
  },
  {
   "cell_type": "markdown",
   "id": "33ef2fc5",
   "metadata": {
    "slideshow": {
     "slide_type": "slide"
    }
   },
   "source": [
    "# Parameters\n",
    "\n",
    "### We still have more duplication in our song\n",
    "\n",
    "And on that **tree**  \n",
    "There was a **limb**  \n",
    "The prettiest **limb**  \n",
    "That you ever did see  \n",
    "\n",
    "vs. \n",
    "\n",
    "And on that **limb**  \n",
    "There was a **branch**  \n",
    "The prettiest **branch**  \n",
    "That you ever did see"
   ]
  },
  {
   "cell_type": "markdown",
   "id": "b090681f",
   "metadata": {
    "slideshow": {
     "slide_type": "subslide"
    }
   },
   "source": [
    "## Parameters\n",
    "\n",
    "Functions can be **parameterized**. \n",
    "\n",
    "```\n",
    "def <name>(parameter1, [parameter2], ...):\n",
    "    statement(s)\n",
    "```\n",
    "\n",
    "* A **parameter** is a variable defined as input to a function. \n",
    "* An **argument** is a value passed to a function when it is called.\n",
    "* This is a fine distinction, and the two terms are often used interchangably. The distinction is generally ok to ignore unless you are in a context where the difference matters (e.g. formal documentation or specifications)."
   ]
  },
  {
   "cell_type": "markdown",
   "id": "d8110e12",
   "metadata": {
    "slideshow": {
     "slide_type": "subslide"
    }
   },
   "source": [
    "## Parameters\n",
    "\n",
    "We can write a parameterized function for the first part of the verses.  "
   ]
  },
  {
   "cell_type": "code",
   "execution_count": null,
   "id": "2a716302",
   "metadata": {},
   "outputs": [],
   "source": [
    "def verse(first_thing, second_thing):\n",
    "    print(\"And on that \" + first_thing)\n",
    "    print(\"There was a \" + second_thing)\n",
    "    print(\"The prettiest \" + second_thing)\n",
    "    print(\"That you ever did see\")\n",
    "    \n",
    "verse(\"tree\", \"limb\")"
   ]
  },
  {
   "cell_type": "code",
   "execution_count": null,
   "id": "6435a4f7",
   "metadata": {
    "slideshow": {
     "slide_type": "subslide"
    }
   },
   "outputs": [],
   "source": [
    "def tree():\n",
    "    print(\"And the tree was in the ground\")\n",
    "    print(\"And the green grass grew all around, all around, and the green grass grew all around\")\n",
    "    print()\n",
    "    \n",
    "def limb():\n",
    "    print(\"And the limb was on the tree,\")\n",
    "    tree()\n",
    "    \n",
    "def branch():\n",
    "    print(\"And the branch was on the limb,\")\n",
    "    limb()\n",
    "    \n",
    "def nest():\n",
    "    print(\"And the nest was on the branch\")\n",
    "    branch()\n",
    "\n",
    "def egg():\n",
    "    print(\"And the egg was in the nest\")\n",
    "    nest()\n",
    "\n",
    "def bird():\n",
    "    print(\"And the bird was in the egg\")\n",
    "    egg()\n",
    "\n",
    "def verse(first_thing, second_thing):\n",
    "    print(\"And on that \" + first_thing)\n",
    "    print(\"There was a \" + second_thing)\n",
    "    print(\"The prettiest \" + second_thing)\n",
    "    print(\"That you ever did see\")\n",
    "    \n",
    "print(\"Oh in the woods there was a tree\")\n",
    "print(\"The prettiest tree\")\n",
    "print(\"You ever did see\")\n",
    "tree()\n",
    "verse(\"tree\", \"limb\")\n",
    "limb()\n",
    "verse(\"limb\", \"branch\")\n",
    "branch()\n",
    "verse(\"branch\", \"nest\")\n",
    "nest()\n",
    "verse(\"nest\", \"egg\")\n",
    "egg()\n",
    "verse(\"egg\", \"bird\")\n",
    "bird()"
   ]
  },
  {
   "cell_type": "markdown",
   "id": "6d471df5",
   "metadata": {
    "slideshow": {
     "slide_type": "subslide"
    }
   },
   "source": [
    "# Wait, that song isn't quite right...\n",
    "\n",
    "The egg verse is special:\n",
    "\n",
    "And **on** that nest  \n",
    "There was **a** egg  \n",
    "The prettiest egg  \n",
    "That you ever did see  \n",
    "\n",
    "One way to fix this would be to write a special function (or just use print statements) for that verse. \n",
    "\n",
    "But... we're learning about functions, so let's keep going."
   ]
  },
  {
   "cell_type": "markdown",
   "id": "5eae094d",
   "metadata": {
    "slideshow": {
     "slide_type": "subslide"
    }
   },
   "source": [
    "We can add one more parameter, `orientation` to our `verse` function:"
   ]
  },
  {
   "cell_type": "code",
   "execution_count": null,
   "id": "eecece39",
   "metadata": {
    "slideshow": {
     "slide_type": "-"
    },
    "tags": [
     "remove-output"
    ]
   },
   "outputs": [],
   "source": [
    "def verse(first_thing, second_thing, orientation):\n",
    "    print(\"And \" + orientation + \" that \" + first_thing)\n",
    "    print(\"There was a \" + second_thing)\n",
    "    print(\"The prettiest \" + second_thing)\n",
    "    print(\"That you ever did see\")\n",
    "    \n",
    "verse(\"branch\", \"limb\", \"on\")\n",
    "print()\n",
    "verse(\"nest\", \"egg\", \"in\")"
   ]
  },
  {
   "cell_type": "markdown",
   "id": "994b0b3a",
   "metadata": {},
   "source": [
    "# Example 0: Print a haiku\n",
    "\n",
    "Write a function that prints a haiku"
   ]
  },
  {
   "cell_type": "code",
   "execution_count": null,
   "id": "8aad8198",
   "metadata": {},
   "outputs": [],
   "source": [
    "def haiku():\n",
    "    print(\"'A Poppy Blooms'\")\n",
    "    print(\"(by Katsushika Hokusai):\")\n",
    "    print()\n",
    "    print(\"I write, erase, rewrite\")\n",
    "    print(\"Erase again, and then\")\n",
    "    print(\"A poppy blooms.\")"
   ]
  },
  {
   "cell_type": "code",
   "execution_count": null,
   "id": "83abd2cc",
   "metadata": {},
   "outputs": [],
   "source": [
    "haiku()"
   ]
  },
  {
   "cell_type": "markdown",
   "id": "f28742ab",
   "metadata": {
    "slideshow": {
     "slide_type": "slide"
    }
   },
   "source": [
    "# Example 1: Math facts\n",
    "\n",
    "Write a function that takes 2 numbers as input, and prints out some math facts about them:\n",
    "- The sum of the numbers\n",
    "- The product of the numbers\n",
    "- Which number is larger"
   ]
  },
  {
   "cell_type": "code",
   "execution_count": null,
   "id": "d0968b68",
   "metadata": {
    "slideshow": {
     "slide_type": "subslide"
    }
   },
   "outputs": [],
   "source": [
    "def print_math_facts(x, y):\n",
    "    print(\"Amazing (but true) facts about \" + str(x) + \" and \" + str(y) + \":\")\n",
    "    print(\"Their sum is: \" + str(x+y))\n",
    "    print(\"Their product is: \" + str(x*y))\n",
    "    if x > y:\n",
    "        print(str(x) + \" is larger.\")\n",
    "    else:\n",
    "        print(str(y) + \" is larger.\")        "
   ]
  },
  {
   "cell_type": "code",
   "execution_count": null,
   "id": "46d21a84",
   "metadata": {},
   "outputs": [],
   "source": [
    "print_math_facts(2, 3)"
   ]
  },
  {
   "cell_type": "code",
   "execution_count": null,
   "id": "bfe0728f",
   "metadata": {},
   "outputs": [],
   "source": [
    "print_math_facts(3, 2)"
   ]
  },
  {
   "cell_type": "code",
   "execution_count": null,
   "id": "929079ed",
   "metadata": {},
   "outputs": [],
   "source": [
    "print_math_facts(11, 7419)"
   ]
  },
  {
   "cell_type": "markdown",
   "id": "be4fd53f",
   "metadata": {
    "slideshow": {
     "slide_type": "slide"
    }
   },
   "source": [
    "# Example 2: State facts\n",
    "\n",
    "Write a function that takes information about a US state as input, and prints out some facts about it:\n",
    "* The name of the state\n",
    "* The state bird\n",
    "* The population of the state, and whether that population is above or below the mean US state population\n",
    "* The size of the state, and the percentage of the average state size (`state_size/avg_size*100`)"
   ]
  },
  {
   "cell_type": "code",
   "execution_count": null,
   "id": "ab8ee87d",
   "metadata": {
    "slideshow": {
     "slide_type": "subslide"
    }
   },
   "outputs": [],
   "source": [
    "def print_state_facts(name, bird, population, size):\n",
    "    print(\"Facts about \" + name + \":\")\n",
    "    print(name + \"'s state bird is the \" + bird)\n",
    "    if population > 4657757:\n",
    "        print(\"With a population of \" + str(population) + \", \" + name + \" is above the mean US state population.\")\n",
    "    else:\n",
    "        print(\"With a population of \" + str(population) + \", \" + name + \" is below the mean US state population.\")\n",
    "    size_pct = size / 75933 * 100\n",
    "    print(name + \" covers \" + str(size_pct) + \"% as much area as the average US state.\")"
   ]
  },
  {
   "cell_type": "code",
   "execution_count": null,
   "id": "d68309f8",
   "metadata": {
    "slideshow": {
     "slide_type": "subslide"
    }
   },
   "outputs": [],
   "source": [
    "print_state_facts(\"Massachusetts\", \"Chickadee\", 7029917, 10555)"
   ]
  },
  {
   "cell_type": "code",
   "execution_count": null,
   "id": "5bd1787d",
   "metadata": {
    "slideshow": {
     "slide_type": ""
    }
   },
   "outputs": [],
   "source": [
    "print_state_facts(\"Alaska\", \"Ptarmigan\", 733391, 663267)"
   ]
  },
  {
   "cell_type": "markdown",
   "id": "f85de690",
   "metadata": {},
   "source": [
    "## An improvement\n",
    "\n",
    "Let's reduce duplication when printing the population facts:"
   ]
  },
  {
   "cell_type": "code",
   "execution_count": null,
   "id": "f12e1593",
   "metadata": {},
   "outputs": [],
   "source": [
    "def print_state_facts(name, bird, population, size):\n",
    "    print(\"Facts about \" + name + \":\")\n",
    "    print(name + \"'s state bird is the \" + bird)\n",
    "\n",
    "    pop_comparison = ''\n",
    "    if population > 4657757:\n",
    "        pop_comparison = 'above'\n",
    "    else:\n",
    "        pop_comparison = 'below'\n",
    "    \n",
    "    print(\"With a population of \" + str(population) + \", \" + name + \" is \" + pop_comparison + \" the mean US state population.\")\n",
    "    \n",
    "    size_pct = size / 75933 * 100\n",
    "    print(name + \" covers \" + str(size_pct) + \"% as much area as the average US state.\")"
   ]
  },
  {
   "cell_type": "code",
   "execution_count": null,
   "id": "69b11404",
   "metadata": {
    "slideshow": {
     "slide_type": "subslide"
    }
   },
   "outputs": [],
   "source": [
    "print_state_facts(\"Massachusetts\", \"Chickadee\", 7029917, 10555)"
   ]
  },
  {
   "cell_type": "code",
   "execution_count": null,
   "id": "bb6557b3",
   "metadata": {
    "slideshow": {
     "slide_type": ""
    }
   },
   "outputs": [],
   "source": [
    "print_state_facts(\"Oregon\", \"Meadowlark\", 4237256, 98381)"
   ]
  },
  {
   "cell_type": "markdown",
   "id": "23dfa6a9",
   "metadata": {
    "slideshow": {
     "slide_type": "slide"
    }
   },
   "source": [
    "# Example 3: Sandwich instructions\n",
    "\n",
    "Write a function that takes in a set of ingredients (bread, meat, cheese, condiment) and prints instructions to make a sandwich."
   ]
  },
  {
   "cell_type": "code",
   "execution_count": null,
   "id": "a41a9f80",
   "metadata": {
    "slideshow": {
     "slide_type": "subslide"
    }
   },
   "outputs": [],
   "source": [
    "def sandwich(bread, meat, cheese, condiment):\n",
    "    print(\"Here are instructions to make a \" + meat + \" and \" + cheese + \" on \" + bread + \" with \" + condiment + \".\")\n",
    "    print(\"Step 1: Lay out 2 slices of \" + bread)\n",
    "    print(\"Step 2: Spread \" + condiment + \" on both slices of \" + bread + \" bread.\")\n",
    "    print(\"Step 3: Put 3 pieces of \" + meat + \" on one slice of the \" + bread  + \" bread.\")\n",
    "    print(\"Step 4: Put 2 pieces of \" + cheese  + \" on top of the \" + meat + \".\")\n",
    "    print(\"Step 5: Put the second slice of bread on top of the \" + cheese + \".\")\n",
    "    print(\"Step 6: Cut in half\")\n",
    "    print(\"Step 7: Eat!\")"
   ]
  },
  {
   "cell_type": "code",
   "execution_count": null,
   "id": "2f8d5766",
   "metadata": {
    "slideshow": {
     "slide_type": "subslide"
    }
   },
   "outputs": [],
   "source": [
    "sandwich(\"sourdough\", \"turkey\", \"swiss\", \"mustard\")"
   ]
  },
  {
   "cell_type": "code",
   "execution_count": null,
   "id": "379aeb48",
   "metadata": {},
   "outputs": [],
   "source": [
    "sandwich(\"rye\", \"ham\", \"provolone\", \"mayo\")"
   ]
  },
  {
   "cell_type": "markdown",
   "id": "6c8b1c5a",
   "metadata": {
    "slideshow": {
     "slide_type": "slide"
    }
   },
   "source": [
    "# Example 3a: More flexible sandwich instructions\n",
    "\n",
    "Modify the function so that the cheese and condiment can be excluded by passing an empty string for those arguments."
   ]
  },
  {
   "cell_type": "markdown",
   "id": "18e05df2",
   "metadata": {
    "slideshow": {
     "slide_type": "subslide"
    }
   },
   "source": [
    "Let's start with the first line:"
   ]
  },
  {
   "cell_type": "code",
   "execution_count": null,
   "id": "bdc0ac35",
   "metadata": {
    "slideshow": {
     "slide_type": ""
    }
   },
   "outputs": [],
   "source": [
    "def sandwich(bread, meat, cheese, condiment):\n",
    "    desc = \"Here are instructions to make a \" + meat\n",
    "    \n",
    "    if cheese:\n",
    "        desc += \" and \"  + cheese\n",
    "    \n",
    "    desc += \" on \" + bread\n",
    "    \n",
    "    if condiment:\n",
    "        desc += \" with \" + condiment\n",
    "    \n",
    "    desc += \".\"\n",
    "    \n",
    "    print(desc)"
   ]
  },
  {
   "cell_type": "code",
   "execution_count": null,
   "id": "95df4d9f",
   "metadata": {
    "slideshow": {
     "slide_type": "subslide"
    }
   },
   "outputs": [],
   "source": [
    "sandwich(\"sourdough\", \"turkey\", \"swiss\", \"mustard\")"
   ]
  },
  {
   "cell_type": "code",
   "execution_count": null,
   "id": "8db4cd2e",
   "metadata": {},
   "outputs": [],
   "source": [
    "sandwich(\"sourdough\", \"turkey\", \"\", \"mustard\")"
   ]
  },
  {
   "cell_type": "code",
   "execution_count": null,
   "id": "1fa5f395",
   "metadata": {},
   "outputs": [],
   "source": [
    "sandwich(\"sourdough\", \"turkey\", \"swiss\", \"\")"
   ]
  },
  {
   "cell_type": "code",
   "execution_count": null,
   "id": "5ca60dad",
   "metadata": {},
   "outputs": [],
   "source": [
    "sandwich(\"sourdough\", \"turkey\", \"\", \"\")"
   ]
  },
  {
   "cell_type": "markdown",
   "id": "9b84e040",
   "metadata": {
    "slideshow": {
     "slide_type": "subslide"
    }
   },
   "source": [
    "Step 1 is the same as before:"
   ]
  },
  {
   "cell_type": "code",
   "execution_count": null,
   "id": "f2575eb2",
   "metadata": {
    "slideshow": {
     "slide_type": ""
    }
   },
   "outputs": [],
   "source": [
    "def sandwich(bread, meat, cheese, condiment):\n",
    "    desc = \"Here are instructions to make a \" + meat    \n",
    "    if cheese:\n",
    "        desc += \" and \"  + cheese\n",
    "    desc += \" on \" + bread    \n",
    "    if condiment:\n",
    "        desc += \" with \" + condiment\n",
    "    desc += \".\"    \n",
    "    print(desc)\n",
    "    \n",
    "    print(\"Step 1: Lay out 2 slices of \" + bread + \" bread.\")"
   ]
  },
  {
   "cell_type": "code",
   "execution_count": null,
   "id": "b0604e5a",
   "metadata": {},
   "outputs": [],
   "source": [
    "sandwich(\"sourdough\", \"turkey\", \"swiss\", \"mustard\")"
   ]
  },
  {
   "cell_type": "markdown",
   "id": "d33665fe",
   "metadata": {
    "slideshow": {
     "slide_type": "subslide"
    }
   },
   "source": [
    "Step 2 is where we start to run into trouble... it's different if we have a condiment."
   ]
  },
  {
   "cell_type": "code",
   "execution_count": null,
   "id": "2a886fce",
   "metadata": {
    "slideshow": {
     "slide_type": ""
    }
   },
   "outputs": [],
   "source": [
    "def sandwich(bread, meat, cheese, condiment):\n",
    "    desc = \"Here are instructions to make a \" + meat    \n",
    "    if cheese:\n",
    "        desc += \" and \"  + cheese\n",
    "    desc += \" on \" + bread\n",
    "    if condiment:\n",
    "        desc += \" with \" + condiment\n",
    "    desc += \".\"\n",
    "    print(desc)\n",
    "    \n",
    "    print(\"Step 1: Lay out 2 slices of \" + bread + \" bread.\")\n",
    "    \n",
    "    if condiment:\n",
    "        print(\"Step 2: Spread \" + condiment + \" on both slices of \" + bread + \" bread.\")\n",
    "        print(\"Step 3: Put 3 pieces of \" + meat + \" on one slice of \" + bread + \" bread.\")\n",
    "    else: \n",
    "        print(\"Step 2: Put 3 pieces of \" + meat + \" on one slice of \" + bread + \" bread.\")"
   ]
  },
  {
   "cell_type": "code",
   "execution_count": null,
   "id": "af7a2592",
   "metadata": {},
   "outputs": [],
   "source": [
    "sandwich(\"sourdough\", \"turkey\", \"swiss\", \"mustard\")"
   ]
  },
  {
   "cell_type": "code",
   "execution_count": null,
   "id": "59a9d22f",
   "metadata": {},
   "outputs": [],
   "source": [
    "sandwich(\"sourdough\", \"turkey\", \"swiss\", \"\")"
   ]
  },
  {
   "cell_type": "markdown",
   "id": "387c53e1",
   "metadata": {
    "slideshow": {
     "slide_type": "subslide"
    }
   },
   "source": [
    "Step 3/4 is where things really get messy:"
   ]
  },
  {
   "cell_type": "code",
   "execution_count": null,
   "id": "165a6e19",
   "metadata": {
    "slideshow": {
     "slide_type": ""
    }
   },
   "outputs": [],
   "source": [
    "def sandwich(bread, meat, cheese, condiment):\n",
    "    desc = \"Here are instructions to make a \" + meat    \n",
    "    if cheese:\n",
    "        desc += \" and \"  + cheese\n",
    "    desc += \" on \" + bread\n",
    "    if condiment:\n",
    "        desc += \" with \" + condiment\n",
    "    desc += \".\"\n",
    "    print(desc)\n",
    "    \n",
    "    print(\"Step 1: Lay out 2 slices of \" + bread + \" bread.\")\n",
    "    \n",
    "    if condiment:\n",
    "        print(\"Step 2: Spread \" + condiment + \" on both slices of \" + bread + \" bread.\")\n",
    "        print(\"Step 3: Put 3 pieces of \" + meat + \" on one slice of \" + bread + \" bread.\")\n",
    "    else: \n",
    "        print(\"Step 2: Put 3 pieces of \" + meat + \" on one slice of \" + bread + \" bread.\")\n",
    "        \n",
    "    if cheese:\n",
    "        if condiment: # yes cheese, yes condiment\n",
    "            print(\"Step 4: Put 2 pieces of \" + cheese  + \" on top of the \" + meat + \".\")\n",
    "            print(\"Step 5: Put the second slice of bread on top of the \" + cheese + \".\")\n",
    "        else: # yes cheese, no condiment\n",
    "            print(\"Step 3: Put 2 pieces of \" + cheese  + \" on top of the \" + meat + \".\")\n",
    "            print(\"Step 4: Put the second slice of bread on top of the \" + cheese + \".\")\n",
    "    else:\n",
    "        if condiment: # no cheese, yes condiment\n",
    "            print(\"Step 4: Put the second slice of bread on top of the \" + meat + \".\")\n",
    "        else: # no cheese, no condiment\n",
    "            print(\"Step 3: Put the second slice of bread on top of the \" + meat + \".\")\n"
   ]
  },
  {
   "cell_type": "code",
   "execution_count": null,
   "id": "cf931ffc",
   "metadata": {
    "slideshow": {
     "slide_type": "subslide"
    }
   },
   "outputs": [],
   "source": [
    "sandwich(\"sourdough\", \"turkey\", \"swiss\", \"mustard\")"
   ]
  },
  {
   "cell_type": "code",
   "execution_count": null,
   "id": "e7b87ffc",
   "metadata": {
    "slideshow": {
     "slide_type": ""
    }
   },
   "outputs": [],
   "source": [
    "sandwich(\"sourdough\", \"turkey\", \"\", \"mustard\")"
   ]
  },
  {
   "cell_type": "code",
   "execution_count": null,
   "id": "29835c72",
   "metadata": {
    "slideshow": {
     "slide_type": "subslide"
    }
   },
   "outputs": [],
   "source": [
    "sandwich(\"sourdough\", \"turkey\", \"swiss\", \"\")"
   ]
  },
  {
   "cell_type": "code",
   "execution_count": null,
   "id": "e6d5ba3c",
   "metadata": {},
   "outputs": [],
   "source": [
    "sandwich(\"sourdough\", \"turkey\", \"\", \"\")"
   ]
  },
  {
   "cell_type": "markdown",
   "id": "cd77046a",
   "metadata": {
    "slideshow": {
     "slide_type": "subslide"
    }
   },
   "source": [
    "Before we get any further... there **must** be a better way!\n",
    "\n",
    "Any ideas?"
   ]
  },
  {
   "cell_type": "markdown",
   "id": "f38ba422",
   "metadata": {
    "slideshow": {
     "slide_type": "fragment"
    }
   },
   "source": [
    "Let's use a variable to keep track of which step number is next!"
   ]
  },
  {
   "cell_type": "code",
   "execution_count": null,
   "id": "5a409d6f",
   "metadata": {
    "slideshow": {
     "slide_type": "subslide"
    }
   },
   "outputs": [],
   "source": [
    "def sandwich(bread, meat, cheese, condiment):\n",
    "    desc = \"Here are instructions to make a \" + meat\n",
    "    if cheese:\n",
    "        desc += \" and \"  + cheese\n",
    "    desc += \" on \" + bread\n",
    "    if condiment:\n",
    "        desc += \" with \" + condiment\n",
    "    desc += \".\"\n",
    "    print(desc)\n",
    "    \n",
    "    step = 1\n",
    "    print(\"Step \" + str(step) + \": Lay out 2 slices of \" + bread + \" bread.\")\n",
    "    step += 1\n",
    "\n",
    "    if condiment:\n",
    "        print(\"Step \" + str(step) + \": Spread \" + condiment + \" on both slices of \" + bread + \" bread.\")\n",
    "        step += 1 \n",
    "        \n",
    "    print(\"Step \" + str(step) + \": Put 3 pieces of \" + meat + \" on one slice of \" + bread + \" bread.\")\n",
    "    step += 1\n",
    "    \n",
    "    if cheese:\n",
    "        print(\"Step \" + str(step) + \": Put 2 pieces of \" + cheese  + \" on top of the \" + meat + \".\")\n",
    "        step += 1\n",
    "        print(\"Step \" + str(step) + \": Put the second slice of bread on top of the \" + cheese + \".\")\n",
    "        step += 1\n",
    "    else:\n",
    "        print(\"Step \" + str(step) + \": Put the second slice of bread on top of the \" + meat + \".\")\n",
    "        step += 1\n",
    "        \n",
    "    print(\"Step \" + str(step) + \": Cut in half\")\n",
    "    step += 1\n",
    "    \n",
    "    print(\"Step \" + str(step) + \": Eat!\")"
   ]
  },
  {
   "cell_type": "code",
   "execution_count": null,
   "id": "6b59c569",
   "metadata": {},
   "outputs": [],
   "source": [
    "sandwich(\"sourdough\", \"turkey\", \"swiss\", \"mustard\")"
   ]
  },
  {
   "cell_type": "code",
   "execution_count": null,
   "id": "d58eeac4",
   "metadata": {},
   "outputs": [],
   "source": [
    "sandwich(\"sourdough\", \"turkey\", \"\", \"\")"
   ]
  },
  {
   "cell_type": "code",
   "execution_count": null,
   "id": "6f783807",
   "metadata": {},
   "outputs": [],
   "source": [
    "sandwich(\"sourdough\", \"turkey\", \"swiss\", \"\")"
   ]
  },
  {
   "cell_type": "code",
   "execution_count": null,
   "id": "1b163871",
   "metadata": {},
   "outputs": [],
   "source": [
    "sandwich(\"sourdough\", \"turkey\", \"\", \"mustard\")"
   ]
  },
  {
   "cell_type": "markdown",
   "id": "fcfa1d2b",
   "metadata": {},
   "source": [
    "## Helper functions\n",
    "\n",
    "When you notice repeated patterns or lines of code in your programs, it's often a good idea to create a function that \"factors out\" the repetition.\n",
    "\n",
    "In our function, we're starting many lines with `\"Step \" + str(step) + \":\"`, e.g.:\n",
    "\n",
    "`print(\"Step \" + str(step) + \": Lay out 2 slices of \" + bread + \" bread.\")`\n",
    "\n",
    "Let's write a function to handle this."
   ]
  },
  {
   "cell_type": "code",
   "execution_count": null,
   "id": "83696766",
   "metadata": {
    "slideshow": {
     "slide_type": "subslide"
    }
   },
   "outputs": [],
   "source": [
    "def print_step(step_num, instruction):\n",
    "    print(\"Step \" + str(step_num) + \": \" + instruction)"
   ]
  },
  {
   "cell_type": "code",
   "execution_count": null,
   "id": "d048600c",
   "metadata": {},
   "outputs": [],
   "source": [
    "print_step(3, \"Toast bread\")"
   ]
  },
  {
   "cell_type": "code",
   "execution_count": null,
   "id": "a06fdfe2",
   "metadata": {},
   "outputs": [],
   "source": [
    "print_step(1, \"Get ingredients\")"
   ]
  },
  {
   "cell_type": "code",
   "execution_count": null,
   "id": "a7a01136",
   "metadata": {
    "slideshow": {
     "slide_type": "subslide"
    }
   },
   "outputs": [],
   "source": [
    "def sandwich(bread, meat, cheese, condiment):\n",
    "    desc = \"Here are instructions to make a \" + meat\n",
    "    \n",
    "    if cheese:\n",
    "        desc += \" and \"  + cheese\n",
    "    desc += \" on \" + bread\n",
    "    \n",
    "    if condiment:\n",
    "        desc += \" with \" + condiment\n",
    "    desc += \".\"\n",
    "    \n",
    "    print(desc)\n",
    "    \n",
    "    step = 1\n",
    "    print_step(step, \"Lay out 2 slices of \" + bread + \" bread.\")\n",
    "    step += 1\n",
    "    \n",
    "    if condiment:\n",
    "        print_step(step, \"Spread \" + condiment + \" on both slices of \" + bread + \" bread.\")\n",
    "        step += 1 \n",
    "        \n",
    "    print_step(step, \"Put 3 pieces of \" + meat + \" on one slice of \" + bread + \" bread.\")\n",
    "    step += 1\n",
    "    \n",
    "    if cheese:\n",
    "        print_step(step, \"Put 2 pieces of \" + cheese  + \" on top of the \" + meat + \".\")\n",
    "        step += 1\n",
    "        print_step(step, \"Put the second slice of bread on top of the \" + cheese + \".\")\n",
    "        step += 1\n",
    "    else:\n",
    "        print_step(step, \"Put the second slice of bread on top of the \" + meat + \".\")\n",
    "        step += 1\n",
    "        \n",
    "    print_step(step, \"Cut in half\")\n",
    "    step += 1\n",
    "    \n",
    "    print_step(step, \"Eat!\")"
   ]
  },
  {
   "cell_type": "code",
   "execution_count": null,
   "id": "07078591",
   "metadata": {},
   "outputs": [],
   "source": [
    "sandwich(\"sourdough\", \"turkey\", \"swiss\", \"mustard\")"
   ]
  }
 ],
 "metadata": {
  "celltoolbar": "Slideshow",
  "kernelspec": {
   "display_name": "Python 3 (ipykernel)",
   "language": "python",
   "name": "python3"
  },
  "language_info": {
   "codemirror_mode": {
    "name": "ipython",
    "version": 3
   },
   "file_extension": ".py",
   "mimetype": "text/x-python",
   "name": "python",
   "nbconvert_exporter": "python",
   "pygments_lexer": "ipython3",
   "version": "3.10.9"
  }
 },
 "nbformat": 4,
 "nbformat_minor": 5
}
