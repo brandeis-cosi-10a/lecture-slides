{
 "cells": [
  {
   "cell_type": "markdown",
   "id": "1ee8a1d2",
   "metadata": {
    "slideshow": {
     "slide_type": "slide"
    }
   },
   "source": [
    "# Unit Tests\n",
    "\n",
    "<style>\n",
    "section.present > section.present { \n",
    "    max-height: 90%; \n",
    "    overflow-y: scroll;\n",
    "}\n",
    "</style>\n",
    "\n",
    "<small><a href=\"https://colab.research.google.com/github/brandeis-jdelfino/cosi-10a/blob/main/lectures/notebooks/x_unit_tests.ipynb\">Link to interactive slides on Google Colab</a></small>"
   ]
  },
  {
   "cell_type": "markdown",
   "id": "522198fd",
   "metadata": {
    "slideshow": {
     "slide_type": "subslide"
    }
   },
   "source": [
    "## Testing so far\n",
    "\n",
    "So far, your assignments have come with automated \"input/output\" tests that you run through VSCode.\n",
    "\n",
    "Today, we'll learn a little more about testing, including how to add your own tests.\n",
    "\n",
    "Going forward, you will run tests the same way you used to, but the output will look a little different, and you will also need to add your own test cases for some assignments."
   ]
  },
  {
   "cell_type": "markdown",
   "id": "e3865973",
   "metadata": {
    "slideshow": {
     "slide_type": "slide"
    }
   },
   "source": [
    "# Testing Code\n",
    "\n",
    "Testing code is really important. You virtually never get code right the first time.\n",
    "\n",
    "Testing code manually is tedious and error prone. \n",
    "\n",
    "Luckily, you can use code to validate your code! "
   ]
  },
  {
   "cell_type": "markdown",
   "id": "e005700c",
   "metadata": {
    "slideshow": {
     "slide_type": "subslide"
    }
   },
   "source": [
    "## Manual vs. automated testing\n",
    "\n",
    "Unit testing is one way to automate what you already do manually when coding: running your code, and checking to see that it doesn't crash, and produces the output you expect.\n",
    "\n",
    "Instead of clicking \"play\", interacting with your code by typing into the terminal, and then reading the output to see what is produced...\n",
    "\n",
    "You can write code that will do all those steps for you, and alert you if there are any problems."
   ]
  },
  {
   "cell_type": "markdown",
   "id": "04c9e5e5",
   "metadata": {
    "slideshow": {
     "slide_type": "subslide"
    }
   },
   "source": [
    "# Why write tests?\n",
    "\n",
    "Tests give you fast feedback on your code.\n",
    "\n",
    "Manual testing takes time, and is also tedious enough that you end up taking shortcuts, which can let bugs sneak through.\n",
    "\n",
    "Tests are especially useful in ensuring that your code continues to work as you make changse or additions to it."
   ]
  },
  {
   "cell_type": "markdown",
   "id": "d748557e",
   "metadata": {
    "slideshow": {
     "slide_type": "slide"
    }
   },
   "source": [
    "# Unit Testing\n",
    "\n",
    "There are many types of testing that can be employed when writing code and building software. \n",
    "\n",
    "\"Unit\" tests are a the smallest, narrowest type of testing - they test small pieces of code (e.g. a single function) in isolation.\n",
    "\n",
    "Other common types of testing (which we won't cover here) are \"integration tests\", \"end-to-end tests\", \"functional tests\", and \"acceptance tests\". "
   ]
  },
  {
   "cell_type": "markdown",
   "id": "d4b3654b",
   "metadata": {
    "slideshow": {
     "slide_type": "subslide"
    }
   },
   "source": [
    "## Unit testing in Python\n",
    "\n",
    "All major programming languages have unit testing \"frameworks\" - proscribed ways to write, run, and automate unit tests. Most major programming languages have more than one framework.\n",
    "\n",
    "Python has a built-in framework called [unittest](https://docs.python.org/3/library/unittest.html).\n",
    "\n",
    "However, there's a nicer, commonly used framework that we'll cover here and use in assignments: [pytest](https://docs.pytest.org/en/7.3.x/)"
   ]
  },
  {
   "cell_type": "markdown",
   "id": "7fa2936a",
   "metadata": {
    "slideshow": {
     "slide_type": "slide"
    }
   },
   "source": [
    "## pytest\n",
    "\n",
    "`pytest` is a framework - a collection of code, tools, and conventions - that make writing and running unit tests easy. It is very powerful, and has many features.\n",
    "\n",
    "We'll only cover the basics, but it has [extensive documentation with lots of specific examples](https://docs.pytest.org/en/7.3.x/how-to/index.html#how-to).\n",
    "\n"
   ]
  },
  {
   "cell_type": "markdown",
   "id": "6f8457e3",
   "metadata": {
    "slideshow": {
     "slide_type": "subslide"
    }
   },
   "source": [
    "## pytest - Defining tests\n",
    "\n",
    "* To define a test, create a function whose name starts with `test_`\n",
    "  * e.g. `test_add()`\n",
    "  * The `pytest` program will \"magically\" find and run any functions that are named like this.\n",
    "* Each `test_` function is called a \"test case\""
   ]
  },
  {
   "cell_type": "markdown",
   "id": "de130263",
   "metadata": {
    "slideshow": {
     "slide_type": "subslide"
    }
   },
   "source": [
    "## Writing test cases\n",
    "\n",
    "A unit test typically runs some of your code, and then makes **assertions** about what your code should do using the `assert` keyword.\n",
    "\n",
    "Here is an example function, `add` and a single test case for it:"
   ]
  },
  {
   "cell_type": "code",
   "execution_count": null,
   "id": "69f3efc3",
   "metadata": {
    "execution": {
     "iopub.execute_input": "2023-09-21T00:44:52.840565Z",
     "iopub.status.busy": "2023-09-21T00:44:52.839962Z",
     "iopub.status.idle": "2023-09-21T00:44:52.859110Z",
     "shell.execute_reply": "2023-09-21T00:44:52.858182Z"
    },
    "tags": [
     "raises-exception"
    ]
   },
   "outputs": [],
   "source": [
    "def add(num1, num2):\n",
    "    return num1 + num2\n",
    "\n",
    "def test_add():\n",
    "    assert add(1, 1) == 2\n",
    "    assert add(1, 1) != 3"
   ]
  },
  {
   "cell_type": "code",
   "execution_count": null,
   "id": "ef1fac37",
   "metadata": {},
   "outputs": [],
   "source": [
    "test_add()\n",
    "print(\"It passed!\")"
   ]
  },
  {
   "cell_type": "markdown",
   "id": "664d55d1",
   "metadata": {
    "slideshow": {
     "slide_type": "subslide"
    }
   },
   "source": [
    "## Assertions\n",
    "\n",
    "_**assert (v)**: State a fact confidently and forcefully_\n",
    "\n",
    "An `assert` in code is an indication that an expression should always evaluate to True.\n",
    "\n",
    "`assert` statements are used in unit testing to check that code is behaving as expected, and to raise an error if they aren't."
   ]
  },
  {
   "cell_type": "markdown",
   "id": "e109b8da",
   "metadata": {
    "slideshow": {
     "slide_type": "subslide"
    }
   },
   "source": [
    "## Assertions\n",
    "\n",
    "An `assert` statement should be followed by a boolean expression.\n",
    "* If that expressions evaluates to `True`, the assert \"passes\", and the test continues. \n",
    "* Otherwise, it generates an error, and the test fails.\n"
   ]
  },
  {
   "cell_type": "markdown",
   "id": "ca69707a",
   "metadata": {
    "slideshow": {
     "slide_type": "slide"
    }
   },
   "source": [
    "## Running tests in VSCode\n",
    "\n",
    "VSCode has pytest integration, so tests can be run from the \"Testing\" tab in the left dock from within VSCode.\n",
    "\n",
    "Any functions in your project that start with `test_` will automatically be included in the list of available tests.\n",
    "\n",
    "The input/output tests that you've been using so far are actually just (somewhat complex) pytests."
   ]
  },
  {
   "cell_type": "markdown",
   "id": "57e8aaab",
   "metadata": {
    "slideshow": {
     "slide_type": "subslide"
    }
   },
   "source": [
    "## Running tests from the command line\n",
    "\n",
    "* To run tests, type `pytest` on the command line (the terminal at the bottom of the screen in VSCode)\n",
    "* You can add `-v` or `-vv` to the `pytest` command (e.g. `pytest -vv`) to get more verbose output when diagnosing failures.\n",
    "* To run a single test by itself, you can add `-k <test name>`, e.g. `pytest -k test_add`.\n",
    "  * This can be useful when you have multiple failures but want to work on one at a time.\n"
   ]
  },
  {
   "cell_type": "markdown",
   "id": "beae871c",
   "metadata": {
    "slideshow": {
     "slide_type": "subslide"
    }
   },
   "source": [
    "# Unit testing - do it!\n",
    "\n",
    "Writing unit tests might seem tedious or not worth it, especially for an assignment you'll hand in and then never touch again.\n",
    "\n",
    "\"I just need to check this one more time, then I'm done... I'll just test it manually.\" - every programmer ever\n",
    "\n",
    "Writing unit tests is almost always worth it. They'll save you time, and just the process of thinking about which cases to test often helps you uncover bugs."
   ]
  },
  {
   "cell_type": "markdown",
   "id": "af1fc7d9",
   "metadata": {
    "slideshow": {
     "slide_type": "subslide"
    }
   },
   "source": [
    "## Unit testing best practices\n",
    "\n",
    "You can structure your tests however you want - each test could have multiple assertions, invoke your code multiple times, etc.\n",
    "\n",
    "However, the best practice for unit tests is to make each test case very focused. When each test validates a single thing, you can easily see what is wrong when it fails. \n",
    "\n",
    "Conversely, if a single test is testing many things, it can be harder to determine what's wrong just from a failure, and one error might mask other errors in the same test."
   ]
  },
  {
   "cell_type": "markdown",
   "id": "876ded18",
   "metadata": {
    "slideshow": {
     "slide_type": "subslide"
    }
   },
   "source": [
    "## Unit testing best practices\n",
    "\n",
    "Unit tests are very useful for testing **boundary conditions**, or **edge cases**. \n",
    "\n",
    "These are situations where your test sends valid, but non-typical input - e.g. an empty string, or a negative number, or 0. It's common for code to handle these cases incorrectly. Adding tests for them will help catch bugs. \n",
    "\n",
    "Think explicitly about **boundary conditions** when coming up with test cases."
   ]
  },
  {
   "cell_type": "markdown",
   "id": "3074812a",
   "metadata": {
    "slideshow": {
     "slide_type": "subslide"
    }
   },
   "source": [
    "## Test driven development\n",
    "\n",
    "Some people even write their tests **before** their code - this is called Test Driven Development. \n",
    "\n",
    "Documenting the expected behavior of your function with tests before you implement it can make it easier and faster to write correct code. "
   ]
  },
  {
   "cell_type": "markdown",
   "id": "ae76217e",
   "metadata": {
    "slideshow": {
     "slide_type": "subslide"
    }
   },
   "source": [
    "# Unit testing and coding assignments\n",
    "\n",
    "Most assignments from now on will use `pytest` for automated testing. Any failing tests will mean you won't pass at least one skill for the assignment, so be sure to run them just before submission.\n",
    "\n",
    "Please don't modify provided test cases. But feel free to add your own - in many cases the provided tests are not exhaustive, so a clean test run does not automatically mean your code is perfect!"
   ]
  }
 ],
 "metadata": {
  "celltoolbar": "Slideshow",
  "kernelspec": {
   "display_name": "Python 3 (ipykernel)",
   "language": "python",
   "name": "python3"
  },
  "language_info": {
   "codemirror_mode": {
    "name": "ipython",
    "version": 3
   },
   "file_extension": ".py",
   "mimetype": "text/x-python",
   "name": "python",
   "nbconvert_exporter": "python",
   "pygments_lexer": "ipython3",
   "version": "3.10.9"
  }
 },
 "nbformat": 4,
 "nbformat_minor": 5
}
