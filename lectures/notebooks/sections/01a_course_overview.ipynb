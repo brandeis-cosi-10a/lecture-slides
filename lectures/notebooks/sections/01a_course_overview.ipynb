{
 "cells": [
  {
   "cell_type": "markdown",
   "id": "91c2e605",
   "metadata": {
    "slideshow": {
     "slide_type": "slide"
    }
   },
   "source": [
    "# Welcome to 10a!"
   ]
  },
  {
   "cell_type": "markdown",
   "id": "2215c343",
   "metadata": {
    "slideshow": {
     "slide_type": "slide"
    }
   },
   "source": [
    "## Who am I?\n",
    "\n",
    "Joe Delfino - you can call me Joe or Mr. Delfino.\n",
    "\n",
    "I spent 20 years as a software engineer, in a variety of industries and roles.\n",
    "\n",
    "I love using code to build simple, elegant solutions to hard problems. I also love teaching other people how to do this!\n",
    "\n",
    "If you ever have questions or want to talk, don't hesitate to reach out in person or via email, I'd love to connect directly with you."
   ]
  },
  {
   "cell_type": "markdown",
   "id": "defd85ee",
   "metadata": {
    "slideshow": {
     "slide_type": "slide"
    }
   },
   "source": [
    "## Why are you here?\n",
    "\n",
    "## What are you hoping to get from Cosi-10a?\n"
   ]
  },
  {
   "cell_type": "markdown",
   "id": "5f8d8bbc",
   "metadata": {
    "slideshow": {
     "slide_type": "slide"
    }
   },
   "source": [
    "# Why <sub><small>(I think)</small></sub> this class is valuable\n",
    "\n"
   ]
  },
  {
   "cell_type": "markdown",
   "id": "412a7f69",
   "metadata": {
    "slideshow": {
     "slide_type": "fragment"
    }
   },
   "source": [
    "* Required skill for the study of Computer Science, which is a fascinating field"
   ]
  },
  {
   "cell_type": "markdown",
   "id": "a8c5c0e6",
   "metadata": {
    "slideshow": {
     "slide_type": "fragment"
    }
   },
   "source": [
    "* Problem solving skills you'll practice here are applicable to many domains"
   ]
  },
  {
   "cell_type": "markdown",
   "id": "964116f3",
   "metadata": {
    "slideshow": {
     "slide_type": "fragment"
    }
   },
   "source": [
    "* Programming computers is empowering"
   ]
  },
  {
   "cell_type": "markdown",
   "id": "bdbc7406-af19-46f8-a5e1-8c31fd972508",
   "metadata": {
    "slideshow": {
     "slide_type": "slide"
    },
    "tags": []
   },
   "source": [
    "# What will you learn?"
   ]
  },
  {
   "cell_type": "markdown",
   "id": "a2b29dad",
   "metadata": {
    "slideshow": {
     "slide_type": "subslide"
    }
   },
   "source": [
    "## Fundamentals of the Python programming language\n",
    "* “If X is true, then do Y, otherwise do Z”\n",
    "* “Perform this operation 10 times”\n",
    "* “Find the sum of a list of numbers”"
   ]
  },
  {
   "cell_type": "markdown",
   "id": "78eac96a",
   "metadata": {
    "slideshow": {
     "slide_type": "subslide"
    }
   },
   "source": [
    "## How to apply code to solve problems\n",
    "\n",
    "Examples of some problems you might tackle in this class:\n",
    "* Write code to calculate the boiling point of water at any altitude\n",
    "* Write a text-based program to track inventory and sales for a small store\n",
    "* Write a text-based Jeopardy game"
   ]
  },
  {
   "cell_type": "markdown",
   "id": "0a273840",
   "metadata": {
    "slideshow": {
     "slide_type": "subslide"
    }
   },
   "source": [
    "## Problem solving techniques\n",
    "* Decomposition\n",
    "* Abstraction\n",
    "* Pattern Matching\n",
    "* Algorithmic Representation\n",
    "* Debugging\n"
   ]
  },
  {
   "cell_type": "markdown",
   "id": "00f603e2",
   "metadata": {
    "slideshow": {
     "slide_type": "slide"
    }
   },
   "source": [
    "# Python\n",
    "<small>(not the snake)</small>\n"
   ]
  },
  {
   "cell_type": "markdown",
   "id": "e7ee7917",
   "metadata": {
    "slideshow": {
     "slide_type": "subslide"
    }
   },
   "source": [
    "## This class focuses on the Python programming language\n",
    "\n",
    "### Python:\n",
    "* Is very commonly used, especially for machine learning, data analysis, and web servers\n",
    "* Has a (relatively) shallow learning curve\n",
    "* Has great documentation and community support\n",
    "* Has many libraries readily available\n"
   ]
  },
  {
   "cell_type": "markdown",
   "id": "4ec10795",
   "metadata": {
    "slideshow": {
     "slide_type": "subslide"
    }
   },
   "source": [
    "## Other languages\n",
    "\n",
    "### Many, many other programming languages exist:\n",
    "* __Javascript__: web (client and server) programming\n",
    "* __Java__: ubiquitous, many applications\n",
    "* __C and C++__: lower level languages, nowadays most common for performance sensitive applications\n",
    "* __HTML & CSS__: not programming languages (debatably), but are used for web development\n",
    "* __Swift / Kotlin__: iOS and Android development, respectively\n",
    "* __Matlab, R__: data analysis and visualization\n",
    "* Countless others: __Ruby, PHP, C#, Go, Rust, Perl__, etc"
   ]
  },
  {
   "cell_type": "markdown",
   "id": "5adbb5dc",
   "metadata": {
    "slideshow": {
     "slide_type": "slide"
    }
   },
   "source": [
    "# Writing and running code\n",
    "* To write Python, all you need is a text editor\n",
    "* To run (or execute) Python code, you need an interpreter\n",
    "* A Python interpreter translates your code into lower level instructions, and then executes them\n",
    "* Similar to interpreter who translates between spoken languages"
   ]
  },
  {
   "cell_type": "markdown",
   "id": "eba58804",
   "metadata": {
    "slideshow": {
     "slide_type": "subslide"
    }
   },
   "source": [
    "## Integrated Development Environments\n",
    "\n",
    "Integrated Development Environments (IDEs) are applications that integrate the text editor and the interpreter\n",
    "\n",
    "We'll use an IDE called \"Visual Studio Code\", or \"VSCode\".\n",
    "\n",
    "VSCode has integrated tools to run and debug your code, and lots of quality-of-life features that you will appreciate as we go deeper.\n",
    "\n",
    "You'll do all your project work for this class in a browser-based version of VSCode."
   ]
  },
  {
   "cell_type": "markdown",
   "id": "a6a2a10a",
   "metadata": {},
   "source": [
    "## GitHub Classroom\n",
    "\n",
    "We'll use GitHub Classroom to distribute, submit, test, and give feedback on programming assignments. \n",
    "\n",
    "You'll need to create a GitHub account if you don't already. \n",
    "\n",
    "Using a GitHub account linked to your Brandeis email is strongly recommended, but not required.\n",
    "\n",
    "You'll automatically join the classroom when you open the first assignment during recitation this week."
   ]
  },
  {
   "cell_type": "markdown",
   "id": "5811b696",
   "metadata": {
    "slideshow": {
     "slide_type": "slide"
    }
   },
   "source": [
    "# Syllabus\n",
    "\n",
    "TODO: update syllabus link\n",
    "\n",
    "[Syllabus review](https://moodle2.brandeis.edu/syllabus/default/233COSI-10A-3_1689867539.pdf)"
   ]
  },
  {
   "cell_type": "markdown",
   "id": "31a9f749",
   "metadata": {
    "slideshow": {
     "slide_type": "slide"
    }
   },
   "source": [
    "# Course content\n",
    "\n",
    "TODO: update Moodle link\n",
    "\n",
    "[Moodle - Cosi-10a-4](https://moodle2.brandeis.edu/course/view.php?id=31254) - The course Moodle page is the starting point for everything. Slides, recorded lectures, assignments, announcements, etc will all be posted there. \n",
    "\n",
    "[Link to interactive slides on Google Colab](https://colab.research.google.com/github/brandeis-cosi-10a/lecture-slides/blob/24fall) - You can access interactive versions of these slides yourself, where you can edit & run any of the code samples in the lectures\n",
    "\n",
    "[Book - Automate the Boring Stuff](https://automatetheboringstuff.com/#toc) - This is free, and available online. We don't follow the book exactly, but it's very accessible, and chapters 1 through 11 map to the most of the content we'll cover. If you need practice problems, or just want a different explanation of the concepts we're covering, try it out."
   ]
  },
  {
   "cell_type": "markdown",
   "id": "1b2904da",
   "metadata": {
    "slideshow": {
     "slide_type": "subslide"
    }
   },
   "source": [
    "## Academic integrity\n",
    "\n",
    "**The goal of this class is for your human brain to learn fundamental programming concepts and practices.**\n",
    "\n",
    "**Coding is not a spectator sport.**\n",
    "\n",
    "**You must practice writing code, yourself, in order to grasp and (eventually) master it.**\n",
    "\n",
    "Using outside sources to short-circuit the assignments will short-circuit your learning process.\n",
    "* Copying code or answers from **any outside source** for a graded assignment in this class is academic dishonesty. \n",
    "* Using **AI tools (Copilot, ChatGPT, Gemini, etc) in any way** to complete graded assignments is academic dishonesty.\n",
    "* Discussing specific code, showing any parts of your code, viewing any parts of someone else’s code for a graded assignment in this class is academic dishonesty.\n",
    "\n",
    "There are many ungraded exercises available for extra practice, with published solutions to compare to - feel free to work with your classmates on these, use online resources if they seem helpful, or reach out during office hours or by email!\n",
    "\n",
    "<small>See the syllabus for more detail, this is not an exhaustive guide.</small>\n"
   ]
  },
  {
   "cell_type": "markdown",
   "id": "b92c89d8",
   "metadata": {},
   "source": [
    "# How to do well in this class\n",
    "\n",
    "1. Be physically and mentally present during lectures and recitations\n",
    "   * These will prepare you for the programming assignments.\n",
    "1. Start assignments early\n",
    "   * You **will** get stuck at some point. If you start 2 hours before a deadline, we probably can't help you.\n",
    "1. Get help if you feel stuck\n",
    "   * The TAs and I are here to help - reach out during office hours, or by email!\n",
    "1. Follow academic integrity policies\n",
    "   * Cases will be referred to the university if there is evidence of academic dishonesty.\n",
    "   * It is much easier than you think for the TAs and me to spot code copied from external sources or other students."
   ]
  }
 ],
 "metadata": {
  "celltoolbar": "Slideshow",
  "kernelspec": {
   "display_name": "Python 3 (ipykernel)",
   "language": "python",
   "name": "python3"
  },
  "language_info": {
   "codemirror_mode": {
    "name": "ipython",
    "version": 3
   },
   "file_extension": ".py",
   "mimetype": "text/x-python",
   "name": "python",
   "nbconvert_exporter": "python",
   "pygments_lexer": "ipython3",
   "version": "3.10.9"
  }
 },
 "nbformat": 4,
 "nbformat_minor": 5
}
