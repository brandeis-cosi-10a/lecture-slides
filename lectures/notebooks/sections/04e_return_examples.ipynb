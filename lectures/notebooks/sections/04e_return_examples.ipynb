{
 "cells": [
  {
   "cell_type": "markdown",
   "id": "6e08878e",
   "metadata": {
    "slideshow": {
     "slide_type": "slide"
    }
   },
   "source": [
    "# Example 0: Average\n",
    "\n",
    "Write a function that takes 5 numbers as input, and returns the average."
   ]
  },
  {
   "cell_type": "code",
   "execution_count": null,
   "id": "afa2f488",
   "metadata": {
    "slideshow": {
     "slide_type": "subslide"
    }
   },
   "outputs": [],
   "source": [
    "def average(a, b, c, d, e):\n",
    "    sum = a + b + c + d + e\n",
    "    return sum / 5"
   ]
  },
  {
   "cell_type": "code",
   "execution_count": null,
   "id": "b5cb1696",
   "metadata": {
    "slideshow": {
     "slide_type": "subslide"
    }
   },
   "outputs": [],
   "source": [
    "average(1, 2, 3, 4, 5)"
   ]
  },
  {
   "cell_type": "code",
   "execution_count": null,
   "id": "d6f2ae83",
   "metadata": {},
   "outputs": [],
   "source": [
    "average(1, 1, 1, 1, 9999)"
   ]
  },
  {
   "cell_type": "code",
   "execution_count": null,
   "id": "70214437",
   "metadata": {},
   "outputs": [],
   "source": [
    "average(-10, -5, 0, 5, 10)"
   ]
  },
  {
   "cell_type": "markdown",
   "id": "ec7f0d57",
   "metadata": {
    "slideshow": {
     "slide_type": "slide"
    }
   },
   "source": [
    "# Example 1: Make things exciting\n",
    "\n",
    "Write a function that makes a string excited by adding an exclamation point at the end, and optionally making the text ALL CAPS."
   ]
  },
  {
   "cell_type": "code",
   "execution_count": null,
   "id": "5fa9f653",
   "metadata": {
    "slideshow": {
     "slide_type": "subslide"
    }
   },
   "outputs": [],
   "source": [
    "def make_exciting(value, all_caps):\n",
    "    if all_caps:\n",
    "        value = value.upper()\n",
    "    return value + \"!\""
   ]
  },
  {
   "cell_type": "code",
   "execution_count": null,
   "id": "dbf26103",
   "metadata": {},
   "outputs": [],
   "source": [
    "make_exciting(\"Hi class\", False)"
   ]
  },
  {
   "cell_type": "code",
   "execution_count": null,
   "id": "9aa68783",
   "metadata": {},
   "outputs": [],
   "source": [
    "make_exciting(\"Hi class\", True)"
   ]
  },
  {
   "cell_type": "code",
   "execution_count": null,
   "id": "eaa3c519",
   "metadata": {},
   "outputs": [],
   "source": [
    "print(\"Today I went to 10a, and it was... \" + make_exciting(\"the best day ever\", True))"
   ]
  },
  {
   "cell_type": "markdown",
   "id": "d9ed7c12",
   "metadata": {
    "slideshow": {
     "slide_type": "slide"
    }
   },
   "source": [
    "# Example 2: Sandwich instructions revisited\n",
    "\n",
    "Improve our function that took in a set of ingredients (bread, meat, cheese, condiment) and printed instructions to make a sandwich"
   ]
  },
  {
   "cell_type": "markdown",
   "id": "19a754dc",
   "metadata": {
    "slideshow": {
     "slide_type": "subslide"
    }
   },
   "source": [
    "\n",
    "The code we left off with:"
   ]
  },
  {
   "cell_type": "code",
   "execution_count": null,
   "id": "0d4c0219",
   "metadata": {
    "slideshow": {
     "slide_type": ""
    }
   },
   "outputs": [],
   "source": [
    "def print_step(step_num, instruction):\n",
    "    print(\"Step \" + str(step_num) + \": \" + instruction)\n",
    "    \n",
    "def sandwich(bread, meat, cheese, condiment):\n",
    "    desc = \"Here are instructions to make a \" + meat\n",
    "    \n",
    "    if cheese:\n",
    "        desc += \" and \"  + cheese\n",
    "    desc += \" on \" + bread\n",
    "    \n",
    "    if condiment:\n",
    "        desc += \" with \" + condiment\n",
    "    desc += \".\"\n",
    "    \n",
    "    print(desc)\n",
    "    \n",
    "    step = 1\n",
    "    print_step(step, \"Lay out 2 slices of \" + bread + \" bread.\")\n",
    "    step += 1\n",
    "    \n",
    "    if condiment:\n",
    "        print_step(step, \"Spread \" + condiment + \" on both slices of \" + bread + \" bread.\")\n",
    "        step += 1 \n",
    "        \n",
    "    print_step(step, \"Put 3 pieces of \" + meat + \" on one slice of \" + bread + \" bread.\")\n",
    "    step += 1\n",
    "    \n",
    "    if cheese:\n",
    "        print_step(step, \"Put 2 pieces of \" + cheese  + \" on top of the \" + meat + \".\")\n",
    "        step += 1\n",
    "        print_step(step, \"Put the second slice of bread on top of the \" + cheese + \".\")\n",
    "        step += 1\n",
    "    else:\n",
    "        print_step(step, \"Put the second slice of bread on top of the \" + meat + \".\")\n",
    "        step += 1\n",
    "        \n",
    "    print_step(step, \"Cut in half\")\n",
    "    step += 1\n",
    "    \n",
    "    print_step(step, \"Eat!\")"
   ]
  },
  {
   "cell_type": "code",
   "execution_count": null,
   "id": "8cd92d6c",
   "metadata": {
    "scrolled": true,
    "slideshow": {
     "slide_type": "subslide"
    }
   },
   "outputs": [],
   "source": [
    "sandwich(\"sourdough\", \"turkey\", \"swiss\", \"mustard\")"
   ]
  },
  {
   "cell_type": "markdown",
   "id": "b0e91323",
   "metadata": {
    "slideshow": {
     "slide_type": "subslide"
    }
   },
   "source": [
    "## Sandwich Decomposition\n",
    "\n",
    "Our function is pretty long - almost 30 lines of code.\n",
    "\n",
    "When functions get beyond 15-20 lines of code, it's usually a good idea to try to **decompose** them, or break them up into smaller parts."
   ]
  },
  {
   "cell_type": "markdown",
   "id": "bf9f083a",
   "metadata": {
    "slideshow": {
     "slide_type": "subslide"
    }
   },
   "source": [
    "The code that prints the first line of output is pretty self-contained. Let's make it a function!"
   ]
  },
  {
   "cell_type": "code",
   "execution_count": null,
   "id": "2a0bb513",
   "metadata": {
    "slideshow": {
     "slide_type": ""
    }
   },
   "outputs": [],
   "source": [
    "def sandwich(bread, meat, cheese, condiment):\n",
    "    desc = \"Here are instructions to make a \" + meat\n",
    "    \n",
    "    if cheese:\n",
    "        desc += \" and \"  + cheese\n",
    "    desc += \" on \" + bread\n",
    "    \n",
    "    if condiment:\n",
    "        desc += \" with \" + condiment\n",
    "    desc += \".\"\n",
    "    \n",
    "    print(desc)\n",
    "    \n",
    "    step = 1\n",
    "    print_step(step, \"Lay out 2 slices of \" + bread + \" bread.\")\n",
    "    step += 1\n",
    "    \n",
    "    if condiment:\n",
    "        print_step(step, \"Spread \" + condiment + \" on both slices of \" + bread + \" bread.\")\n",
    "        step += 1 \n",
    "        \n",
    "    print_step(step, \"Put 3 pieces of \" + meat + \" on one slice of \" + bread + \" bread.\")\n",
    "    step += 1\n",
    "    \n",
    "    if cheese:\n",
    "        print_step(step, \"Put 2 pieces of \" + cheese  + \" on top of the \" + meat + \".\")\n",
    "        step += 1\n",
    "        print_step(step, \"Put the second slice of bread on top of the \" + cheese + \".\")\n",
    "        step += 1\n",
    "    else:\n",
    "        print_step(step, \"Put the second slice of bread on top of the \" + meat + \".\")\n",
    "        step += 1\n",
    "        \n",
    "    print_step(step, \"Cut in half\")\n",
    "    step += 1\n",
    "    \n",
    "    print_step(step, \"Eat!\")"
   ]
  },
  {
   "cell_type": "code",
   "execution_count": null,
   "id": "fbdd906b",
   "metadata": {
    "slideshow": {
     "slide_type": "subslide"
    }
   },
   "outputs": [],
   "source": [
    "def print_intro(bread, meat, cheese, condiment):\n",
    "    desc = \"Here are instructions to make a \" + meat\n",
    "    \n",
    "    if cheese:\n",
    "        desc += \" and \"  + cheese\n",
    "    desc += \" on \" + bread\n",
    "    \n",
    "    if condiment:\n",
    "        desc += \" with \" + condiment\n",
    "    desc += \".\"\n",
    "    \n",
    "    print(desc)"
   ]
  },
  {
   "cell_type": "code",
   "execution_count": null,
   "id": "a72679f3",
   "metadata": {
    "scrolled": true
   },
   "outputs": [],
   "source": [
    "print_intro(\"sourdough\", \"turkey\", \"swiss\", \"mustard\")"
   ]
  },
  {
   "cell_type": "code",
   "execution_count": null,
   "id": "c1eaee98",
   "metadata": {
    "scrolled": true
   },
   "outputs": [],
   "source": [
    "print_intro(\"sourdough\", \"turkey\", \"\", \"mustard\")"
   ]
  },
  {
   "cell_type": "code",
   "execution_count": null,
   "id": "c4b86bbb",
   "metadata": {
    "scrolled": true
   },
   "outputs": [],
   "source": [
    "print_intro(\"sourdough\", \"turkey\", \"swiss\", \"\")"
   ]
  },
  {
   "cell_type": "code",
   "execution_count": null,
   "id": "da86a61c",
   "metadata": {
    "slideshow": {
     "slide_type": "subslide"
    }
   },
   "outputs": [],
   "source": [
    "def sandwich(bread, meat, cheese, condiment):\n",
    "    print_intro(bread, meat, cheese, condiment)\n",
    "    \n",
    "    step = 1\n",
    "    print_step(step, \"Lay out 2 slices of \" + bread + \" bread.\")\n",
    "    step += 1\n",
    "    \n",
    "    if condiment:\n",
    "        print_step(step, \"Spread \" + condiment + \" on both slices of \" + bread + \" bread.\")\n",
    "        step += 1 \n",
    "        \n",
    "    print_step(step, \"Put 3 pieces of \" + meat + \" on one slice of \" + bread + \" bread.\")\n",
    "    step += 1\n",
    "    \n",
    "    if cheese:\n",
    "        print_step(step, \"Put 2 pieces of \" + cheese  + \" on top of the \" + meat + \".\")\n",
    "        step += 1\n",
    "        print_step(step, \"Put the second slice of bread on top of the \" + cheese + \".\")\n",
    "        step += 1\n",
    "    else:\n",
    "        print_step(step, \"Put the second slice of bread on top of the \" + meat + \".\")\n",
    "        step += 1\n",
    "        \n",
    "    print_step(step, \"Cut in half\")\n",
    "    step += 1\n",
    "    \n",
    "    print_step(step, \"Eat!\")"
   ]
  },
  {
   "cell_type": "code",
   "execution_count": null,
   "id": "c72f94a9",
   "metadata": {
    "scrolled": true
   },
   "outputs": [],
   "source": [
    "sandwich(\"sourdough\", \"turkey\", \"swiss\", \"mustard\")"
   ]
  },
  {
   "cell_type": "markdown",
   "id": "6c04f8b6",
   "metadata": {
    "slideshow": {
     "slide_type": "subslide"
    }
   },
   "source": [
    "The intro was easy to \"factor out\".\n",
    "\n",
    "The rest is trickier - we need to keep track of which step we're on."
   ]
  },
  {
   "cell_type": "markdown",
   "id": "6ad1f0c6",
   "metadata": {
    "slideshow": {
     "slide_type": "fragment"
    }
   },
   "source": [
    "`return` to the rescue!"
   ]
  },
  {
   "cell_type": "markdown",
   "id": "29bb48b1",
   "metadata": {
    "slideshow": {
     "slide_type": "subslide"
    }
   },
   "source": [
    "The code that handles (optionally) adding the cheese and second slice of bread is all related. Let's try moving it to a function."
   ]
  },
  {
   "cell_type": "code",
   "execution_count": null,
   "id": "78321909",
   "metadata": {
    "slideshow": {
     "slide_type": ""
    }
   },
   "outputs": [],
   "source": [
    "def sandwich(bread, meat, cheese, condiment):\n",
    "    print_intro(bread, meat, cheese, condiment)\n",
    "    \n",
    "    step = 1\n",
    "    print_step(step, \"Lay out 2 slices of \" + bread + \" bread.\")\n",
    "    step += 1\n",
    "    \n",
    "    if condiment:\n",
    "        print_step(step, \"Spread \" + condiment + \" on both slices of \" + bread + \" bread.\")\n",
    "        step += 1 \n",
    "        \n",
    "    print_step(step, \"Put 3 pieces of \" + meat + \" on one slice of \" + bread + \" bread.\")\n",
    "    step += 1\n",
    "    \n",
    "    if cheese:\n",
    "        print_step(step, \"Put 2 pieces of \" + cheese  + \" on top of the \" + meat + \".\")\n",
    "        step += 1\n",
    "        print_step(step, \"Put the second slice of bread on top of the \" + cheese + \".\")\n",
    "        step += 1\n",
    "    else:\n",
    "        print_step(step, \"Put the second slice of bread on top of the \" + meat + \".\")\n",
    "        step += 1\n",
    "        \n",
    "    print_step(step, \"Cut in half\")\n",
    "    step += 1\n",
    "    \n",
    "    print_step(step, \"Eat!\")"
   ]
  },
  {
   "cell_type": "code",
   "execution_count": null,
   "id": "d98ed59c",
   "metadata": {
    "slideshow": {
     "slide_type": "subslide"
    }
   },
   "outputs": [],
   "source": [
    "def print_second_slice_instructions(st, cheese, meat):\n",
    "    if cheese:\n",
    "        print_step(st, \"Put 2 pieces of \" + cheese  + \" on top of the \" + meat + \".\")\n",
    "        st += 1\n",
    "        print_step(st, \"Put the second slice of bread on top of the \" + cheese + \".\")\n",
    "        st += 1\n",
    "    else:\n",
    "        print_step(st, \"Put the second slice of bread on top of the \" + meat + \".\")\n",
    "        st += 1\n",
    "    return st"
   ]
  },
  {
   "cell_type": "code",
   "execution_count": null,
   "id": "5d009122",
   "metadata": {
    "slideshow": {
     "slide_type": "subslide"
    }
   },
   "outputs": [],
   "source": [
    "def sandwich(bread, meat, cheese, condiment):\n",
    "    print_intro(bread, meat, cheese, condiment)\n",
    "    \n",
    "    step = 1\n",
    "    print_step(step, \"Lay out 2 slices of \" + bread + \" bread.\")\n",
    "    step += 1\n",
    "    \n",
    "    if condiment:\n",
    "        print_step(step, \"Spread \" + condiment + \" on both slices of \" + bread + \" bread.\")\n",
    "        step += 1 \n",
    "        \n",
    "    print_step(step, \"Put 3 pieces of \" + meat + \" on one slice of \" + bread + \" bread.\")\n",
    "    step += 1\n",
    "    \n",
    "    step = print_second_slice_instructions(step, cheese, meat)\n",
    "        \n",
    "    print_step(step, \"Cut in half\")\n",
    "    step += 1\n",
    "    \n",
    "    print_step(step, \"Eat!\")"
   ]
  },
  {
   "cell_type": "code",
   "execution_count": null,
   "id": "d4d5413a",
   "metadata": {
    "scrolled": true,
    "slideshow": {
     "slide_type": "subslide"
    }
   },
   "outputs": [],
   "source": [
    "sandwich(\"sourdough\", \"turkey\", \"swiss\", \"mustard\")"
   ]
  },
  {
   "cell_type": "code",
   "execution_count": null,
   "id": "d8b4aec1",
   "metadata": {
    "scrolled": true
   },
   "outputs": [],
   "source": [
    "sandwich(\"sourdough\", \"turkey\", \"\", \"mustard\")"
   ]
  },
  {
   "cell_type": "markdown",
   "id": "b81b0ebe",
   "metadata": {
    "slideshow": {
     "slide_type": "subslide"
    }
   },
   "source": [
    "We can do the same thing for other parts of our function:"
   ]
  },
  {
   "cell_type": "code",
   "execution_count": null,
   "id": "c30585fb",
   "metadata": {},
   "outputs": [],
   "source": [
    "def print_condiment_step(st, bread, condiment):\n",
    "    if condiment:\n",
    "        print_step(st, \"Spread \" + condiment + \" on both slices of \" + bread + \" bread.\")\n",
    "        st += 1\n",
    "    return st"
   ]
  },
  {
   "cell_type": "code",
   "execution_count": null,
   "id": "3c78c035",
   "metadata": {
    "slideshow": {
     "slide_type": "subslide"
    }
   },
   "outputs": [],
   "source": [
    "def sandwich(bread, meat, cheese, condiment):\n",
    "    print_intro(bread, meat, cheese, condiment)\n",
    "    step = 1\n",
    "\n",
    "    print_step(step, \"Lay out 2 slices of \" + bread + \" bread.\")\n",
    "    step += 1\n",
    "    \n",
    "    step = print_condiment_step(step, bread, condiment)\n",
    "        \n",
    "    print_step(step, \"Put 3 pieces of \" + meat + \" on one slice of \" + bread + \" bread.\")\n",
    "    step += 1\n",
    "    \n",
    "    step = print_second_slice_instructions(step, cheese, meat)\n",
    "        \n",
    "    print_step(step, \"Cut in half\")\n",
    "    step += 1\n",
    "    \n",
    "    print_step(step, \"Eat!\")"
   ]
  },
  {
   "cell_type": "code",
   "execution_count": null,
   "id": "5fb3160f",
   "metadata": {
    "scrolled": true,
    "slideshow": {
     "slide_type": "subslide"
    }
   },
   "outputs": [],
   "source": [
    "sandwich(\"sourdough\", \"turkey\", \"swiss\", \"mustard\")"
   ]
  },
  {
   "cell_type": "code",
   "execution_count": null,
   "id": "1f8e5a36",
   "metadata": {
    "scrolled": false,
    "slideshow": {
     "slide_type": ""
    }
   },
   "outputs": [],
   "source": [
    "sandwich(\"sourdough\", \"turkey\", \"swiss\", \"\")"
   ]
  },
  {
   "cell_type": "code",
   "execution_count": null,
   "id": "2f311e74",
   "metadata": {
    "slideshow": {
     "slide_type": "subslide"
    }
   },
   "outputs": [],
   "source": [
    "def print_cut_and_eat(step):\n",
    "    print_step(step, \"Cut in half\")\n",
    "    step += 1\n",
    "    print_step(step, \"Eat!\")"
   ]
  },
  {
   "cell_type": "code",
   "execution_count": null,
   "id": "b2922775",
   "metadata": {
    "slideshow": {
     "slide_type": "subslide"
    }
   },
   "outputs": [],
   "source": [
    "def sandwich(bread, meat, cheese, condiment):\n",
    "    print_intro(bread, meat, cheese, condiment)\n",
    "    step = 1\n",
    "\n",
    "    print_step(step, \"Lay out 2 slices of \" + bread + \" bread.\")\n",
    "    step += 1\n",
    "    \n",
    "    step = print_condiment_step(step, bread, condiment)\n",
    "        \n",
    "    print_step(step, \"Put 3 pieces of \" + meat + \" on one slice of \" + bread + \" bread.\")\n",
    "    step += 1\n",
    "    \n",
    "    step = print_second_slice_instructions(step, cheese, meat)\n",
    "       \n",
    "    print_cut_and_eat(step)"
   ]
  },
  {
   "cell_type": "code",
   "execution_count": null,
   "id": "c3b248d2",
   "metadata": {
    "scrolled": false
   },
   "outputs": [],
   "source": [
    "sandwich(\"sourdough\", \"turkey\", \"swiss\", \"mustard\")"
   ]
  },
  {
   "cell_type": "markdown",
   "id": "f06c8b9e",
   "metadata": {
    "slideshow": {
     "slide_type": "subslide"
    }
   },
   "source": [
    "All of the final code in one place:"
   ]
  },
  {
   "cell_type": "code",
   "execution_count": 90,
   "id": "f9e75727",
   "metadata": {},
   "outputs": [],
   "source": [
    "def print_step(step_num, instruction):\n",
    "    print(\"Step \" + str(step_num) + \": \" + instruction)\n",
    "    \n",
    "    \n",
    "def print_intro(bread, meat, cheese, condiment):\n",
    "    desc = \"Here are instructions to make a \" + meat\n",
    "    \n",
    "    if cheese:\n",
    "        desc += \" and \"  + cheese\n",
    "    desc += \" on \" + bread\n",
    "    \n",
    "    if condiment:\n",
    "        desc += \" with \" + condiment\n",
    "    desc += \".\"\n",
    "    \n",
    "    print(desc)\n",
    "    \n",
    "\n",
    "def print_condiment_step(st, bread, condiment):\n",
    "    if condiment:\n",
    "        print_step(st, \"Spread \" + condiment + \" on both slices of \" + bread + \" bread.\")\n",
    "        st += 1\n",
    "    return st\n",
    "\n",
    "\n",
    "def print_second_slice_instructions(st, cheese, meat):\n",
    "    st\n",
    "    if cheese:\n",
    "        print_step(st, \"Put 2 pieces of \" + cheese  + \" on top of the \" + meat + \".\")\n",
    "        st += 1\n",
    "        print_step(st, \"Put the second slice of bread on top of the \" + cheese + \".\")\n",
    "        st += 1\n",
    "    else:\n",
    "        print_step(st, \"Put the second slice of bread on top of the \" + meat + \".\")\n",
    "        st += 1\n",
    "    return st\n",
    "\n",
    "\n",
    "def print_cut_and_eat(step):\n",
    "    print_step(step, \"Cut in half\")\n",
    "    step += 1\n",
    "    print_step(step, \"Eat!\")    \n",
    "    \n",
    "    \n",
    "def sandwich(bread, meat, cheese, condiment):\n",
    "    print_intro(bread, meat, cheese, condiment)\n",
    "    step = 1\n",
    "\n",
    "    print_step(step, \"Lay out 2 slices of \" + bread + \" bread.\")\n",
    "    step += 1\n",
    "    \n",
    "    step = print_condiment_step(step, bread, condiment)\n",
    "        \n",
    "    print_step(step, \"Put 3 pieces of \" + meat + \" on one slice of \" + bread + \" bread.\")\n",
    "    step += 1\n",
    "    \n",
    "    step = print_second_slice_instructions(step, cheese, meat)\n",
    "       \n",
    "    print_cut_and_eat(step)"
   ]
  },
  {
   "cell_type": "code",
   "execution_count": 91,
   "id": "e27d8528",
   "metadata": {
    "scrolled": false,
    "slideshow": {
     "slide_type": "subslide"
    }
   },
   "outputs": [
    {
     "name": "stdout",
     "output_type": "stream",
     "text": [
      "Here are instructions to make a turkey and swiss on sourdough with mustard.\n",
      "Step 1: Lay out 2 slices of sourdough bread.\n",
      "Step 2: Spread mustard on both slices of sourdough bread.\n",
      "Step 3: Put 3 pieces of turkey on one slice of sourdough bread.\n",
      "Step 4: Put 2 pieces of swiss on top of the turkey.\n",
      "Step 5: Put the second slice of bread on top of the swiss.\n",
      "Step 6: Cut in half\n",
      "Step 7: Eat!\n"
     ]
    }
   ],
   "source": [
    "sandwich(\"sourdough\", \"turkey\", \"swiss\", \"mustard\")"
   ]
  },
  {
   "cell_type": "code",
   "execution_count": 92,
   "id": "3c6a42db",
   "metadata": {
    "scrolled": false,
    "slideshow": {
     "slide_type": ""
    }
   },
   "outputs": [
    {
     "name": "stdout",
     "output_type": "stream",
     "text": [
      "Here are instructions to make a turkey on sourdough with mustard.\n",
      "Step 1: Lay out 2 slices of sourdough bread.\n",
      "Step 2: Spread mustard on both slices of sourdough bread.\n",
      "Step 3: Put 3 pieces of turkey on one slice of sourdough bread.\n",
      "Step 4: Put the second slice of bread on top of the turkey.\n",
      "Step 5: Cut in half\n",
      "Step 6: Eat!\n"
     ]
    }
   ],
   "source": [
    "sandwich(\"sourdough\", \"turkey\", \"\", \"mustard\")"
   ]
  },
  {
   "cell_type": "code",
   "execution_count": 93,
   "id": "9a7c16bc",
   "metadata": {
    "scrolled": true,
    "slideshow": {
     "slide_type": "subslide"
    }
   },
   "outputs": [
    {
     "name": "stdout",
     "output_type": "stream",
     "text": [
      "Here are instructions to make a turkey and swiss on sourdough.\n",
      "Step 1: Lay out 2 slices of sourdough bread.\n",
      "Step 2: Put 3 pieces of turkey on one slice of sourdough bread.\n",
      "Step 3: Put 2 pieces of swiss on top of the turkey.\n",
      "Step 4: Put the second slice of bread on top of the swiss.\n",
      "Step 5: Cut in half\n",
      "Step 6: Eat!\n"
     ]
    }
   ],
   "source": [
    "sandwich(\"sourdough\", \"turkey\", \"swiss\", \"\")"
   ]
  },
  {
   "cell_type": "code",
   "execution_count": 94,
   "id": "871e1ee8",
   "metadata": {
    "scrolled": false,
    "slideshow": {
     "slide_type": ""
    }
   },
   "outputs": [
    {
     "name": "stdout",
     "output_type": "stream",
     "text": [
      "Here are instructions to make a turkey on sourdough.\n",
      "Step 1: Lay out 2 slices of sourdough bread.\n",
      "Step 2: Put 3 pieces of turkey on one slice of sourdough bread.\n",
      "Step 3: Put the second slice of bread on top of the turkey.\n",
      "Step 4: Cut in half\n",
      "Step 5: Eat!\n"
     ]
    }
   ],
   "source": [
    "sandwich(\"sourdough\", \"turkey\", \"\", \"\")"
   ]
  },
  {
   "cell_type": "markdown",
   "id": "2678db98",
   "metadata": {
    "slideshow": {
     "slide_type": "subslide"
    }
   },
   "source": [
    "## But wait... that's more code!\n",
    "\n",
    "We split our function up because it was too long... but ended up with more code?!"
   ]
  },
  {
   "cell_type": "markdown",
   "id": "63a81c85",
   "metadata": {
    "slideshow": {
     "slide_type": "fragment"
    }
   },
   "source": [
    "The overall code is longer, but each piece of code is smaller and simpler.\n",
    "\n",
    "The goal is not to write the shortest code.\n",
    "\n",
    "The goal is to write **correct** and **understandable** code!\n",
    "\n",
    "**Decomposition** helps with this. It takes practice, but it pays off."
   ]
  }
 ],
 "metadata": {
  "celltoolbar": "Slideshow",
  "kernelspec": {
   "display_name": "Python 3 (ipykernel)",
   "language": "python",
   "name": "python3"
  },
  "language_info": {
   "codemirror_mode": {
    "name": "ipython",
    "version": 3
   },
   "file_extension": ".py",
   "mimetype": "text/x-python",
   "name": "python",
   "nbconvert_exporter": "python",
   "pygments_lexer": "ipython3",
   "version": "3.10.9"
  }
 },
 "nbformat": 4,
 "nbformat_minor": 5
}
