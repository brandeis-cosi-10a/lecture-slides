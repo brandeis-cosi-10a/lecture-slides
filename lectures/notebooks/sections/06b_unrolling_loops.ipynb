{
 "cells": [
  {
   "cell_type": "markdown",
   "id": "97566f4c",
   "metadata": {
    "slideshow": {
     "slide_type": "slide"
    }
   },
   "source": [
    "# Unrolling loops\n",
    "\n",
    "Let's \"unroll\" a loop into the statements it will execute, to get a better handle on it:"
   ]
  },
  {
   "cell_type": "code",
   "execution_count": null,
   "id": "ade30494",
   "metadata": {},
   "outputs": [],
   "source": [
    "for i in range(3, 7):\n",
    "    if i % 2 == 0:\n",
    "        print(i, end=' ')"
   ]
  },
  {
   "cell_type": "markdown",
   "id": "0f26011d",
   "metadata": {},
   "source": [
    "is equivalent to:"
   ]
  },
  {
   "cell_type": "code",
   "execution_count": null,
   "id": "82065ad2",
   "metadata": {},
   "outputs": [],
   "source": [
    "if 3 % 2 == 0:\n",
    "    print(3, end=' ')\n",
    "if 4 % 2 == 0:\n",
    "    print(4, end=' ')\n",
    "if 5 % 2 == 0:\n",
    "    print(5, end=' ')\n",
    "if 6 % 2 == 0:\n",
    "    print(6, end=' ')"
   ]
  },
  {
   "cell_type": "markdown",
   "id": "513aa8b1",
   "metadata": {
    "slideshow": {
     "slide_type": "subslide"
    }
   },
   "source": [
    "# How-to: unroll loops\n",
    "\n",
    "1. **Write out a list of the values the loop will iterate through**"
   ]
  },
  {
   "cell_type": "code",
   "execution_count": null,
   "id": "6bd7e573",
   "metadata": {},
   "outputs": [],
   "source": [
    "for i in range(3, 7):\n",
    "    if i % 2 == 0:\n",
    "        print(i, end=' ')"
   ]
  },
  {
   "cell_type": "markdown",
   "id": "e2fe9be1",
   "metadata": {},
   "source": [
    "This loop will iterate through: 3, 4, 5, 6"
   ]
  },
  {
   "cell_type": "markdown",
   "id": "4ffc3373",
   "metadata": {
    "slideshow": {
     "slide_type": "subslide"
    }
   },
   "source": [
    "# How-to: unroll loops\n",
    "\n",
    "1. Write out a list of the values the loop will iterate through\n",
    "2. **Copy the code inside the loop, and paste it once.**"
   ]
  },
  {
   "cell_type": "code",
   "execution_count": null,
   "id": "4ae1dca3",
   "metadata": {
    "slideshow": {
     "slide_type": ""
    }
   },
   "outputs": [],
   "source": [
    "for i in range(3, 7):\n",
    "    if i % 2 == 0:\n",
    "        print(i, end=' ')"
   ]
  },
  {
   "cell_type": "markdown",
   "id": "124f01e2",
   "metadata": {},
   "source": [
    "The code inside this loop is:"
   ]
  },
  {
   "cell_type": "code",
   "execution_count": null,
   "id": "e479844a",
   "metadata": {},
   "outputs": [],
   "source": [
    "if i % 2 == 0:\n",
    "    print(i, end=' ')"
   ]
  },
  {
   "cell_type": "markdown",
   "id": "db5c7124",
   "metadata": {
    "slideshow": {
     "slide_type": "subslide"
    }
   },
   "source": [
    "# How-to: unroll loops\n",
    "\n",
    "1. Write out a list of the values the loop will iterate through\n",
    "2. Copy the code inside the loop, and paste it once.\n",
    "3. **Replace all of the loop variables with the first iteration value**"
   ]
  },
  {
   "cell_type": "code",
   "execution_count": null,
   "id": "7a789f8f",
   "metadata": {
    "slideshow": {
     "slide_type": ""
    }
   },
   "outputs": [],
   "source": [
    "for i in range(3, 7):\n",
    "    if i % 2 == 0:\n",
    "        print(i, end=' ')"
   ]
  },
  {
   "cell_type": "markdown",
   "id": "8eae3f4d",
   "metadata": {},
   "source": [
    "The loop variable is `i`, and the first iteration value is `3`:"
   ]
  },
  {
   "cell_type": "code",
   "execution_count": null,
   "id": "c6d90fbf",
   "metadata": {},
   "outputs": [],
   "source": [
    "if 3 % 2 == 0:\n",
    "    print(3, end=' ')"
   ]
  },
  {
   "cell_type": "markdown",
   "id": "1afe14ad",
   "metadata": {
    "slideshow": {
     "slide_type": "subslide"
    }
   },
   "source": [
    "# How-to: unroll loops\n",
    "\n",
    "1. Write out a list of the values the loop will iterate through\n",
    "2. Copy the code inside the loop, and paste it once.\n",
    "3. Replace all of the loop variables with the first iteration value\n",
    "4. Repeat steps 2 & 3 for each iteration value"
   ]
  },
  {
   "cell_type": "code",
   "execution_count": null,
   "id": "267df59c",
   "metadata": {
    "slideshow": {
     "slide_type": ""
    }
   },
   "outputs": [],
   "source": [
    "for i in range(3, 7):\n",
    "    if i % 2 == 0:\n",
    "        print(i, end=' ')"
   ]
  },
  {
   "cell_type": "markdown",
   "id": "231e7bb5",
   "metadata": {},
   "source": [
    "Here is the fully unrolled loop:"
   ]
  },
  {
   "cell_type": "code",
   "execution_count": null,
   "id": "b2185fd6",
   "metadata": {},
   "outputs": [],
   "source": [
    "if 3 % 2 == 0:\n",
    "    print(3, end=' ')\n",
    "if 4 % 2 == 0:\n",
    "    print(4, end=' ')\n",
    "if 5 % 2 == 0:\n",
    "    print(5, end=' ')\n",
    "if 6 % 2 == 0:\n",
    "    print(6, end=' ')"
   ]
  },
  {
   "cell_type": "markdown",
   "id": "1e2ae993",
   "metadata": {
    "slideshow": {
     "slide_type": "subslide"
    }
   },
   "source": [
    "# Unrolling loops: another example"
   ]
  },
  {
   "cell_type": "code",
   "execution_count": null,
   "id": "dafac58a",
   "metadata": {},
   "outputs": [],
   "source": [
    "age = 18\n",
    "for i in range(100, 103):\n",
    "    print(\"If you are \" + str(i) + \" years old...\")\n",
    "    print(\"You were born in \" + str(2024 - i))"
   ]
  },
  {
   "cell_type": "markdown",
   "id": "32329a04",
   "metadata": {
    "slideshow": {
     "slide_type": "subslide"
    }
   },
   "source": [
    "# How-to: unroll loops\n",
    "\n",
    "1. Write out a list of the values the loop will iterate through\n",
    "2. Copy the code inside the loop, and paste it once.\n",
    "3. Replace all of the loop variables with the first iteration value\n",
    "4. Repeat steps 2 & 3 for each iteration value"
   ]
  },
  {
   "cell_type": "markdown",
   "id": "3dcd3775",
   "metadata": {
    "slideshow": {
     "slide_type": "fragment"
    }
   },
   "source": [
    "This loop will iterate over the values: 100, 101, 102"
   ]
  },
  {
   "cell_type": "code",
   "execution_count": null,
   "id": "e3215471",
   "metadata": {
    "slideshow": {
     "slide_type": "fragment"
    }
   },
   "outputs": [],
   "source": [
    "age = 18\n",
    "print(\"If you are \" + str(100) + \" years old...\")\n",
    "print(\"You were born in \" + str(2024 - 100))\n",
    "print(\"If you are \" + str(101) + \" years old...\")\n",
    "print(\"You were born in \" + str(2024 - 101))\n",
    "print(\"If you are \" + str(102) + \" years old...\")\n",
    "print(\"You were born in \" + str(2024 - 103))"
   ]
  },
  {
   "cell_type": "markdown",
   "id": "3b8a48d7",
   "metadata": {
    "slideshow": {
     "slide_type": "slide"
    }
   },
   "source": [
    "# Unrolling loops: why?\n",
    "\n",
    "Unrolling a loop is not something you would normally do when writing code.\n",
    "\n",
    "However, translating between a loop and the steps that are actually executed when the code runs is a useful exercise. It helps you grasp the abstraction of a loop."
   ]
  }
 ],
 "metadata": {
  "celltoolbar": "Slideshow",
  "kernelspec": {
   "display_name": "Python 3 (ipykernel)",
   "language": "python",
   "name": "python3"
  },
  "language_info": {
   "codemirror_mode": {
    "name": "ipython",
    "version": 3
   },
   "file_extension": ".py",
   "mimetype": "text/x-python",
   "name": "python",
   "nbconvert_exporter": "python",
   "pygments_lexer": "ipython3",
   "version": "3.10.9"
  }
 },
 "nbformat": 4,
 "nbformat_minor": 5
}
