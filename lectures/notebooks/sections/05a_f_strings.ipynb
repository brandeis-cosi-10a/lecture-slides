{
 "cells": [
  {
   "cell_type": "markdown",
   "id": "1f30f1fa",
   "metadata": {
    "slideshow": {
     "slide_type": "slide"
    }
   },
   "source": [
    "## String formatting\n",
    "\n",
    "Formatting strings with variables in them can be pretty annoying.\n",
    "\n",
    "Let's look at a better way."
   ]
  },
  {
   "cell_type": "markdown",
   "id": "225328ed",
   "metadata": {
    "slideshow": {
     "slide_type": "subslide"
    }
   },
   "source": [
    "Recall our count_letters example:"
   ]
  },
  {
   "cell_type": "code",
   "execution_count": null,
   "id": "f244b434",
   "metadata": {
    "slideshow": {
     "slide_type": ""
    }
   },
   "outputs": [],
   "source": [
    "def count_letters(words):\n",
    "    vowels = 0\n",
    "    consonants = 0\n",
    "    for char in words:\n",
    "        if char == 'a' or char == 'e' or char == 'i' or char == 'o' or char == 'u':\n",
    "            vowels += 1\n",
    "        elif char.isalpha():\n",
    "            # char.isalpha() returns True if the character is a letter\n",
    "            consonants += 1\n",
    "    return vowels, consonants"
   ]
  },
  {
   "cell_type": "code",
   "execution_count": null,
   "id": "468843ea",
   "metadata": {
    "slideshow": {
     "slide_type": ""
    }
   },
   "outputs": [],
   "source": [
    "v, c = count_letters(\"Hello class, count these words with me.\")\n",
    "print(\"Vowels: \" + str(v) + \" consonants: \" + str(c)) "
   ]
  },
  {
   "cell_type": "markdown",
   "id": "1fdf132e",
   "metadata": {
    "slideshow": {
     "slide_type": "subslide"
    }
   },
   "source": [
    "We can improve this with \"f-strings\":"
   ]
  },
  {
   "cell_type": "code",
   "execution_count": null,
   "id": "ba9a0507",
   "metadata": {
    "slideshow": {
     "slide_type": ""
    }
   },
   "outputs": [],
   "source": [
    "v, c = count_letters(\"Hello class, count these words with me.\")\n",
    "print(\"Vowels: \" + str(v) + \" consonants: \" + str(c)) "
   ]
  },
  {
   "cell_type": "markdown",
   "id": "5e5a0278",
   "metadata": {},
   "source": [
    "becomes:"
   ]
  },
  {
   "cell_type": "code",
   "execution_count": null,
   "id": "941388bd",
   "metadata": {},
   "outputs": [],
   "source": [
    "v, c = count_letters(\"Hello class, count these words with me.\")\n",
    "print(f\"Vowels: {v} consonants: {c}\") "
   ]
  },
  {
   "cell_type": "markdown",
   "id": "b2e8f459",
   "metadata": {
    "slideshow": {
     "slide_type": "subslide"
    }
   },
   "source": [
    "## F-strings\n",
    "\n",
    "* Are strings that have an `f` immediately before the first quote\n",
    "* Can contain any python **expression** enclosed in curly braces (`{` `}`)\n",
    "   * Remember an expression can be a single value or a combination of values and operators. It can even be a function call."
   ]
  },
  {
   "cell_type": "code",
   "execution_count": null,
   "id": "29432d50",
   "metadata": {
    "slideshow": {
     "slide_type": "subslide"
    }
   },
   "outputs": [],
   "source": [
    "num = 42\n",
    "print(f\"You can include variables: {num}\")\n",
    "print(f\"You can do math: {num / 7}\")\n",
    "print(f\"You can even call functions! {count_letters('some letters')}\")\n",
    "print(f\"Include multiple values in a single string: {num}, {num / 7}, {num * 7}\")"
   ]
  },
  {
   "cell_type": "markdown",
   "id": "3394ce62",
   "metadata": {
    "slideshow": {
     "slide_type": "subslide"
    }
   },
   "source": [
    "## Some more examples:"
   ]
  },
  {
   "cell_type": "code",
   "execution_count": null,
   "id": "de5b61dd",
   "metadata": {},
   "outputs": [],
   "source": [
    "name = \"Spongebob\"\n",
    "age = 72\n",
    "foods = [\"Cake\", \"Pie\", \"Peanut Butter\"]"
   ]
  },
  {
   "cell_type": "code",
   "execution_count": null,
   "id": "f800b56c",
   "metadata": {},
   "outputs": [],
   "source": [
    "# Old way:\n",
    "print(\"Hi, I am \" + name + \", I'm \" + str(age) + \" years old, and I like \" + str(len(foods)) + \" foods: \" + ', '.join(foods) + \".\")"
   ]
  },
  {
   "cell_type": "code",
   "execution_count": null,
   "id": "701b0172",
   "metadata": {},
   "outputs": [],
   "source": [
    "# Using f-strings\n",
    "print(f\"Hi, I am {name}, I'm {age} years old, and I like {len(foods)} foods: {', '.join(foods)}.\")"
   ]
  },
  {
   "cell_type": "code",
   "execution_count": null,
   "id": "0c41c13e",
   "metadata": {
    "slideshow": {
     "slide_type": "subslide"
    }
   },
   "outputs": [],
   "source": [
    "# Using f-strings\n",
    "print(f\"Hi, I am {name}, I'm {age} years old, and I like {len(foods)} foods: {', '.join(foods)}.\")"
   ]
  },
  {
   "cell_type": "markdown",
   "id": "52514359",
   "metadata": {},
   "source": [
    "Note that we were able to include an integer (`age`) without an explicit type conversion. \n",
    "\n",
    "This makes printing **much** easier, no more awful lines like this: `print(\"Some text: \" + str(some_number) + \".\")`"
   ]
  },
  {
   "cell_type": "markdown",
   "id": "c9651a22",
   "metadata": {
    "slideshow": {
     "slide_type": "subslide"
    }
   },
   "source": [
    "One more formatting trick: to control the number of decimal places, add `:.<num decimals>f` after an expression in an f-string.\n",
    "\n",
    "For example:"
   ]
  },
  {
   "cell_type": "code",
   "execution_count": null,
   "id": "161a52f7",
   "metadata": {},
   "outputs": [],
   "source": [
    "fraction = 1/3\n",
    "print(fraction)\n",
    "print(f\"{fraction:.2f}\")"
   ]
  },
  {
   "cell_type": "markdown",
   "id": "e9616a3d",
   "metadata": {
    "slideshow": {
     "slide_type": "subslide"
    }
   },
   "source": [
    "## F-strings - try them!\n",
    "\n",
    "You will never be required to use f-strings, but they can save you some typing / headache when formatting strings.\n",
    "\n",
    "The [official documentation on string formatting](https://docs.python.org/3/reference/lexical_analysis.html#f-strings) is extremely obtuse. Try [fstring.help](https://fstring.help/) for a deeper tutorial, and [fstring.help/cheat](https://fstring.help/cheat/) instead for a quick cheat sheet."
   ]
  }
 ],
 "metadata": {
  "celltoolbar": "Slideshow",
  "kernelspec": {
   "display_name": "Python 3 (ipykernel)",
   "language": "python",
   "name": "python3"
  },
  "language_info": {
   "codemirror_mode": {
    "name": "ipython",
    "version": 3
   },
   "file_extension": ".py",
   "mimetype": "text/x-python",
   "name": "python",
   "nbconvert_exporter": "python",
   "pygments_lexer": "ipython3",
   "version": "3.10.9"
  }
 },
 "nbformat": 4,
 "nbformat_minor": 5
}
