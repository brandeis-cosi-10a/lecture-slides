{
 "cells": [
  {
   "cell_type": "markdown",
   "id": "614b4478",
   "metadata": {
    "slideshow": {
     "slide_type": "slide"
    }
   },
   "source": [
    "# Scope\n",
    "\n",
    "* A variable's definition is **scoped** to the block of code it is defined in.\n",
    "* A variable defined in a function is only available in that function.\n",
    "* Trying to use a variable outside of its scope is an error."
   ]
  },
  {
   "cell_type": "code",
   "execution_count": null,
   "id": "e01c55c2",
   "metadata": {
    "execution": {
     "iopub.execute_input": "2023-10-04T02:30:13.983780Z",
     "iopub.status.busy": "2023-10-04T02:30:13.983468Z",
     "iopub.status.idle": "2023-10-04T02:30:13.987325Z",
     "shell.execute_reply": "2023-10-04T02:30:13.986543Z"
    },
    "slideshow": {
     "slide_type": "subslide"
    }
   },
   "outputs": [],
   "source": [
    "def house():\n",
    "    furniture = \"couch\"\n",
    "    print(furniture)\n",
    "\n",
    "house()"
   ]
  },
  {
   "cell_type": "code",
   "execution_count": null,
   "id": "5b3f9f6e",
   "metadata": {
    "execution": {
     "iopub.execute_input": "2023-10-04T02:30:13.990734Z",
     "iopub.status.busy": "2023-10-04T02:30:13.990456Z",
     "iopub.status.idle": "2023-10-04T02:30:14.005573Z",
     "shell.execute_reply": "2023-10-04T02:30:14.004922Z"
    }
   },
   "outputs": [],
   "source": [
    "def house():\n",
    "    furniture = \"couch\"\n",
    "\n",
    "house()\n",
    "print(furniture)"
   ]
  },
  {
   "cell_type": "markdown",
   "id": "35a12c3e",
   "metadata": {
    "slideshow": {
     "slide_type": "subslide"
    }
   },
   "source": [
    "# Scope\n",
    "\n",
    "* In Python, there are technically 4 scopes.\n",
    "* You'll only need to be aware of 2:\n",
    "  * **global**: variables defined outside of a function\n",
    "  * **local**: variables defined inside a function\n",
    "* Remember: variables are defined when they are first assigned to. Their scope is determined by where that first assignment happens."
   ]
  },
  {
   "cell_type": "markdown",
   "id": "9c9024b6",
   "metadata": {
    "slideshow": {
     "slide_type": "subslide"
    }
   },
   "source": [
    "If you're curious, the other 2 scopes are:\n",
    "* **enclosing**, which applies when functions are declared inside other functions (!)\n",
    "* **built-in**, which covers all the functions and variables that are built into the Python language. \n",
    "    * For example: `if` and `else` are in the built-in scope."
   ]
  },
  {
   "cell_type": "markdown",
   "id": "a4de70b2",
   "metadata": {
    "slideshow": {
     "slide_type": "subslide"
    }
   },
   "source": [
    "Some examples:"
   ]
  },
  {
   "cell_type": "code",
   "execution_count": null,
   "id": "d2c87426",
   "metadata": {
    "execution": {
     "iopub.execute_input": "2023-10-04T02:30:14.009124Z",
     "iopub.status.busy": "2023-10-04T02:30:14.008860Z",
     "iopub.status.idle": "2023-10-04T02:30:14.012997Z",
     "shell.execute_reply": "2023-10-04T02:30:14.012351Z"
    },
    "slideshow": {
     "slide_type": ""
    }
   },
   "outputs": [],
   "source": [
    "color1 = \"red\"\n",
    "def paint():\n",
    "    color2 = \"green\"\n",
    "    if 2 > 1:\n",
    "        color3 = \"blue\"\n",
    "        print(color1, color2, color3)\n",
    "paint()"
   ]
  },
  {
   "cell_type": "code",
   "execution_count": null,
   "id": "ac2620af",
   "metadata": {
    "execution": {
     "iopub.execute_input": "2023-10-04T02:30:14.016106Z",
     "iopub.status.busy": "2023-10-04T02:30:14.015842Z",
     "iopub.status.idle": "2023-10-04T02:30:14.019688Z",
     "shell.execute_reply": "2023-10-04T02:30:14.019036Z"
    },
    "slideshow": {
     "slide_type": "subslide"
    }
   },
   "outputs": [],
   "source": [
    "color1 = \"red\"\n",
    "def paint():\n",
    "    color2 = \"green\"\n",
    "    if 2 > 1:\n",
    "        color3 = \"blue\"\n",
    "    print(color1, color2, color3)\n",
    "    \n",
    "paint()"
   ]
  },
  {
   "cell_type": "code",
   "execution_count": null,
   "id": "067750d8",
   "metadata": {
    "execution": {
     "iopub.execute_input": "2023-10-04T02:30:14.022672Z",
     "iopub.status.busy": "2023-10-04T02:30:14.022420Z",
     "iopub.status.idle": "2023-10-04T02:30:14.038079Z",
     "shell.execute_reply": "2023-10-04T02:30:14.037410Z"
    },
    "slideshow": {
     "slide_type": "subslide"
    },
    "tags": [
     "raises-exception"
    ]
   },
   "outputs": [],
   "source": [
    "color1 = \"red\"\n",
    "def paint():\n",
    "    color2 = \"green\"\n",
    "    if 2 > 1:\n",
    "        color3 = \"blue\"\n",
    "\n",
    "print(color1, color2, color3)\n",
    "paint()"
   ]
  },
  {
   "cell_type": "markdown",
   "id": "a97616fa",
   "metadata": {
    "slideshow": {
     "slide_type": "slide"
    }
   },
   "source": [
    "## Global variables: special snowflakes\n",
    "\n",
    "What does this print?"
   ]
  },
  {
   "cell_type": "code",
   "execution_count": null,
   "id": "93683bf2",
   "metadata": {
    "execution": {
     "iopub.execute_input": "2023-10-04T02:30:14.041547Z",
     "iopub.status.busy": "2023-10-04T02:30:14.041280Z",
     "iopub.status.idle": "2023-10-04T02:30:14.045694Z",
     "shell.execute_reply": "2023-10-04T02:30:14.045060Z"
    }
   },
   "outputs": [],
   "source": [
    "color = \"red\"\n",
    "def paint():\n",
    "    color = \"green\"\n",
    "    print(\"Inside paint: \" + color)\n",
    "\n",
    "print(\"Outside before func: \" + color)\n",
    "paint()\n",
    "print(\"Outside after func: \" + color)"
   ]
  },
  {
   "cell_type": "markdown",
   "id": "d3b189e5",
   "metadata": {
    "slideshow": {
     "slide_type": "subslide"
    }
   },
   "source": [
    "## Global variables: special snowflakes\n",
    "\n",
    "* Global variables can be **read** from a local scope.\n",
    "* To **write** to a global variable from a local scope, you must use the `global` keyword.\n",
    "* This is a common gotcha, you will probably run into this while writing your own code!"
   ]
  },
  {
   "cell_type": "markdown",
   "id": "45c35170",
   "metadata": {
    "slideshow": {
     "slide_type": "subslide"
    }
   },
   "source": [
    "In this example, we are actually creating a new local variable named `color` inside the `paint` function."
   ]
  },
  {
   "cell_type": "code",
   "execution_count": null,
   "id": "5e851d67",
   "metadata": {
    "execution": {
     "iopub.execute_input": "2023-10-04T02:30:14.041547Z",
     "iopub.status.busy": "2023-10-04T02:30:14.041280Z",
     "iopub.status.idle": "2023-10-04T02:30:14.045694Z",
     "shell.execute_reply": "2023-10-04T02:30:14.045060Z"
    }
   },
   "outputs": [],
   "source": [
    "color = \"red\"\n",
    "def paint():\n",
    "    color = \"green\"\n",
    "    print(\"Inside paint: \" + color)\n",
    "\n",
    "print(\"Outside before func: \" + color)\n",
    "paint()\n",
    "print(\"Outside after func: \" + color)"
   ]
  },
  {
   "cell_type": "markdown",
   "id": "21b6e1e0",
   "metadata": {
    "slideshow": {
     "slide_type": "fragment"
    }
   },
   "source": [
    "Creating a local variable with the same name as a global variable is referred to as \"shadowing\".\n",
    "\n",
    "Don't rely on shadowing on purpose, it will produce confusing code."
   ]
  },
  {
   "cell_type": "markdown",
   "id": "9968ba85",
   "metadata": {
    "slideshow": {
     "slide_type": "subslide"
    }
   },
   "source": [
    "Here is the corrected code:"
   ]
  },
  {
   "cell_type": "code",
   "execution_count": null,
   "id": "881628b1",
   "metadata": {
    "execution": {
     "iopub.execute_input": "2023-10-04T02:30:14.048703Z",
     "iopub.status.busy": "2023-10-04T02:30:14.048440Z",
     "iopub.status.idle": "2023-10-04T02:30:14.052391Z",
     "shell.execute_reply": "2023-10-04T02:30:14.051768Z"
    },
    "slideshow": {
     "slide_type": ""
    }
   },
   "outputs": [],
   "source": [
    "color = \"red\"\n",
    "def paint():\n",
    "    global color\n",
    "    color = \"green\"\n",
    "    print(\"Inside paint: \" + color)\n",
    "\n",
    "print(\"Outside before func: \" + color)\n",
    "paint()\n",
    "print(\"Outside after func: \" + color)"
   ]
  },
  {
   "cell_type": "markdown",
   "id": "df17984e",
   "metadata": {
    "slideshow": {
     "slide_type": "subslide"
    }
   },
   "source": [
    "One place this gotcha often shows up is when trying to add to a global inside a function."
   ]
  },
  {
   "cell_type": "code",
   "execution_count": null,
   "id": "b8327c0f",
   "metadata": {
    "execution": {
     "iopub.execute_input": "2023-10-04T02:30:14.048703Z",
     "iopub.status.busy": "2023-10-04T02:30:14.048440Z",
     "iopub.status.idle": "2023-10-04T02:30:14.052391Z",
     "shell.execute_reply": "2023-10-04T02:30:14.051768Z"
    },
    "slideshow": {
     "slide_type": ""
    },
    "tags": [
     "raises-exception"
    ]
   },
   "outputs": [],
   "source": [
    "score = 1\n",
    "def register_goal():\n",
    "    score += 1\n",
    "    print(\"Inside register_goal: \" + str(score))\n",
    "\n",
    "print(\"Outside before func: \" + str(score))\n",
    "register_goal()\n",
    "print(\"Outside after func: \" + str(score))"
   ]
  },
  {
   "cell_type": "markdown",
   "id": "7fc16807",
   "metadata": {
    "slideshow": {
     "slide_type": "subslide"
    }
   },
   "source": [
    "If you see a `local variable '...' referenced before assignment` error, but you know the variable has been assigned to... \n",
    "\n",
    "... you are probably trying to assign to a global variable inside a function without declaring it global.\n",
    "\n",
    "Here is the corrected code. It explicitly declares `score` as a `global` inside the `register_goal` function."
   ]
  },
  {
   "cell_type": "code",
   "execution_count": null,
   "id": "cbcf9758",
   "metadata": {
    "execution": {
     "iopub.execute_input": "2023-10-04T02:30:14.048703Z",
     "iopub.status.busy": "2023-10-04T02:30:14.048440Z",
     "iopub.status.idle": "2023-10-04T02:30:14.052391Z",
     "shell.execute_reply": "2023-10-04T02:30:14.051768Z"
    },
    "slideshow": {
     "slide_type": ""
    }
   },
   "outputs": [],
   "source": [
    "score = 1\n",
    "def register_goal():\n",
    "    global score\n",
    "    score += 1\n",
    "    print(\"Inside register_goal: \" + str(score))\n",
    "\n",
    "print(\"Outside before func: \" + str(score))\n",
    "register_goal()\n",
    "print(\"Outside after func: \" + str(score))"
   ]
  }
 ],
 "metadata": {
  "celltoolbar": "Slideshow",
  "kernelspec": {
   "display_name": "Python 3 (ipykernel)",
   "language": "python",
   "name": "python3"
  },
  "language_info": {
   "codemirror_mode": {
    "name": "ipython",
    "version": 3
   },
   "file_extension": ".py",
   "mimetype": "text/x-python",
   "name": "python",
   "nbconvert_exporter": "python",
   "pygments_lexer": "ipython3",
   "version": "3.10.9"
  }
 },
 "nbformat": 4,
 "nbformat_minor": 5
}
