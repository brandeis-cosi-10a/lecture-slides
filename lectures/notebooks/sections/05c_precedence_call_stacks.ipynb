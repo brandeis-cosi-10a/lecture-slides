{
 "cells": [
  {
   "cell_type": "markdown",
   "id": "96614ff4",
   "metadata": {
    "slideshow": {
     "slide_type": "slide"
    }
   },
   "source": [
    "# Precedence and Evaluation Order\n",
    "\n",
    "When functions are combined in an expression, they evaluate \"from the inside out\"."
   ]
  },
  {
   "cell_type": "code",
   "execution_count": null,
   "id": "c568aa9d",
   "metadata": {
    "execution": {
     "iopub.execute_input": "2023-10-04T02:30:13.903434Z",
     "iopub.status.busy": "2023-10-04T02:30:13.903185Z",
     "iopub.status.idle": "2023-10-04T02:30:13.907218Z",
     "shell.execute_reply": "2023-10-04T02:30:13.906676Z"
    }
   },
   "outputs": [],
   "source": [
    "add(1, add(2, 3))"
   ]
  },
  {
   "cell_type": "markdown",
   "id": "7781b8fc",
   "metadata": {},
   "source": [
    "The \"inner\" `add` is evaluated first, and the result of it is passed as an argument to the \"outer\" `add`:\n",
    "\n",
    "`add(1, add(2, 3))` ->  \n",
    "`add(1, 5        )` ->  \n",
    "`6`"
   ]
  },
  {
   "cell_type": "code",
   "execution_count": null,
   "id": "5e67c4c9",
   "metadata": {
    "execution": {
     "iopub.execute_input": "2023-10-04T02:30:13.910143Z",
     "iopub.status.busy": "2023-10-04T02:30:13.909902Z",
     "iopub.status.idle": "2023-10-04T02:30:13.914002Z",
     "shell.execute_reply": "2023-10-04T02:30:13.913372Z"
    },
    "slideshow": {
     "slide_type": "subslide"
    }
   },
   "outputs": [],
   "source": [
    "add(add(1, 2), add(add(4, 5), 3))"
   ]
  },
  {
   "cell_type": "markdown",
   "id": "d70022b2",
   "metadata": {},
   "source": [
    "`add(add(1, 2), add(add(4, 5), 3))` ->  \n",
    "`add(3,         add(9,         3))` ->  \n",
    "`add(3,         12               )` ->  \n",
    "`15`"
   ]
  },
  {
   "cell_type": "markdown",
   "id": "c12b6e1f",
   "metadata": {
    "slideshow": {
     "slide_type": "slide"
    }
   },
   "source": [
    "# Call stacks\n",
    "\n",
    "* When a function is called, the execution of the program \"jumps into\" the function. \n",
    "* When the function finishes, execution \"jumps back\" to the place where the function was called from.\n",
    "* The chain of function calls that leads to the current line of code is called the \"call stack\"."
   ]
  },
  {
   "cell_type": "code",
   "execution_count": null,
   "id": "4b278798",
   "metadata": {
    "execution": {
     "iopub.execute_input": "2023-10-04T02:30:13.940194Z",
     "iopub.status.busy": "2023-10-04T02:30:13.939956Z",
     "iopub.status.idle": "2023-10-04T02:30:13.944199Z",
     "shell.execute_reply": "2023-10-04T02:30:13.943612Z"
    },
    "slideshow": {
     "slide_type": "subslide"
    },
    "tags": [
     "remove-output"
    ]
   },
   "outputs": [],
   "source": [
    "def a():\n",
    "    print(\"a1\")\n",
    "    b()\n",
    "    print(\"a2\")\n",
    "    c()\n",
    "    print(\"a3\")\n",
    "    \n",
    "def b():\n",
    "    print(\"b1\")\n",
    "    c()\n",
    "    print(\"b2\")\n",
    "    \n",
    "def c():\n",
    "    print(\"c1\")\n",
    "    d()\n",
    "    print(\"c2\")\n",
    "\n",
    "def d():\n",
    "    print(\"d\")\n",
    "\n",
    "a()\n"
   ]
  }
 ],
 "metadata": {
  "celltoolbar": "Slideshow",
  "kernelspec": {
   "display_name": "Python 3 (ipykernel)",
   "language": "python",
   "name": "python3"
  },
  "language_info": {
   "codemirror_mode": {
    "name": "ipython",
    "version": 3
   },
   "file_extension": ".py",
   "mimetype": "text/x-python",
   "name": "python",
   "nbconvert_exporter": "python",
   "pygments_lexer": "ipython3",
   "version": "3.10.9"
  }
 },
 "nbformat": 4,
 "nbformat_minor": 5
}
