{
 "cells": [
  {
   "cell_type": "markdown",
   "id": "6ba4e9d8",
   "metadata": {},
   "source": [
    "TODO: update there was an old lady assignment to take out default param requirement... it will probably come before this lecture"
   ]
  },
  {
   "cell_type": "markdown",
   "id": "a80466c9",
   "metadata": {
    "slideshow": {
     "slide_type": "slide"
    }
   },
   "source": [
    "## Default values\n",
    "\n",
    "Function parameters can have **default values**. A default value is used if no argument is passed for a parameter.\n",
    "\n",
    "Example:"
   ]
  },
  {
   "cell_type": "code",
   "execution_count": 30,
   "id": "f1cb6d2f",
   "metadata": {
    "execution": {
     "iopub.execute_input": "2023-10-04T02:30:13.486807Z",
     "iopub.status.busy": "2023-10-04T02:30:13.486558Z",
     "iopub.status.idle": "2023-10-04T02:30:13.489816Z",
     "shell.execute_reply": "2023-10-04T02:30:13.489145Z"
    }
   },
   "outputs": [],
   "source": [
    "def greet(name = \"guest\"):\n",
    "    print(\"Hello, \" + name + \"!\")"
   ]
  },
  {
   "cell_type": "code",
   "execution_count": 31,
   "id": "7b2b3c50",
   "metadata": {
    "execution": {
     "iopub.execute_input": "2023-10-04T02:30:13.492860Z",
     "iopub.status.busy": "2023-10-04T02:30:13.492543Z",
     "iopub.status.idle": "2023-10-04T02:30:13.495715Z",
     "shell.execute_reply": "2023-10-04T02:30:13.495110Z"
    }
   },
   "outputs": [
    {
     "name": "stdout",
     "output_type": "stream",
     "text": [
      "Hello, guest!\n"
     ]
    }
   ],
   "source": [
    "greet()"
   ]
  },
  {
   "cell_type": "code",
   "execution_count": 32,
   "id": "8c147cf0",
   "metadata": {
    "execution": {
     "iopub.execute_input": "2023-10-04T02:30:13.498771Z",
     "iopub.status.busy": "2023-10-04T02:30:13.498512Z",
     "iopub.status.idle": "2023-10-04T02:30:13.501755Z",
     "shell.execute_reply": "2023-10-04T02:30:13.501173Z"
    }
   },
   "outputs": [
    {
     "name": "stdout",
     "output_type": "stream",
     "text": [
      "Hello, Joe!\n"
     ]
    }
   ],
   "source": [
    "greet(\"Joe\")"
   ]
  },
  {
   "cell_type": "markdown",
   "id": "b2f9b46f",
   "metadata": {
    "slideshow": {
     "slide_type": "subslide"
    }
   },
   "source": [
    "## Overriding default values\n",
    "\n",
    "When we pass a value in for a defaulted parameter, we are **\"overriding\"** the default."
   ]
  },
  {
   "cell_type": "markdown",
   "id": "d805e7e1",
   "metadata": {
    "slideshow": {
     "slide_type": "subslide"
    }
   },
   "source": [
    "Here's another example. This one takes one required parameter (`name`), and one parameter with a default value (`invite_in`)."
   ]
  },
  {
   "cell_type": "code",
   "execution_count": 38,
   "id": "29163040",
   "metadata": {},
   "outputs": [],
   "source": [
    "def greet(name, invite_in=False):\n",
    "    print(\"Hello, \" + name + \"!\")\n",
    "    if invite_in:\n",
    "        print(\"Come on in!\")\n",
    "    else:\n",
    "        print(\"Great to see you!\")"
   ]
  },
  {
   "cell_type": "code",
   "execution_count": 39,
   "id": "00d0305f",
   "metadata": {
    "execution": {
     "iopub.execute_input": "2023-10-04T02:30:13.492860Z",
     "iopub.status.busy": "2023-10-04T02:30:13.492543Z",
     "iopub.status.idle": "2023-10-04T02:30:13.495715Z",
     "shell.execute_reply": "2023-10-04T02:30:13.495110Z"
    },
    "slideshow": {
     "slide_type": "subslide"
    }
   },
   "outputs": [
    {
     "name": "stdout",
     "output_type": "stream",
     "text": [
      "Hello, Joe!\n",
      "Great to see you!\n"
     ]
    }
   ],
   "source": [
    "greet(\"Joe\")"
   ]
  },
  {
   "cell_type": "code",
   "execution_count": 40,
   "id": "cfe117bc",
   "metadata": {
    "execution": {
     "iopub.execute_input": "2023-10-04T02:30:13.498771Z",
     "iopub.status.busy": "2023-10-04T02:30:13.498512Z",
     "iopub.status.idle": "2023-10-04T02:30:13.501755Z",
     "shell.execute_reply": "2023-10-04T02:30:13.501173Z"
    }
   },
   "outputs": [
    {
     "name": "stdout",
     "output_type": "stream",
     "text": [
      "Hello, Joe!\n",
      "Come on in!\n"
     ]
    }
   ],
   "source": [
    "# Override the default value for invite_in\n",
    "greet(\"Joe\", True)"
   ]
  },
  {
   "cell_type": "code",
   "execution_count": 41,
   "id": "93600d1e",
   "metadata": {
    "execution": {
     "iopub.execute_input": "2023-10-04T02:30:13.498771Z",
     "iopub.status.busy": "2023-10-04T02:30:13.498512Z",
     "iopub.status.idle": "2023-10-04T02:30:13.501755Z",
     "shell.execute_reply": "2023-10-04T02:30:13.501173Z"
    }
   },
   "outputs": [
    {
     "name": "stdout",
     "output_type": "stream",
     "text": [
      "Hello, Joe!\n",
      "Great to see you!\n"
     ]
    }
   ],
   "source": [
    "greet(\"Joe\", False)"
   ]
  },
  {
   "cell_type": "markdown",
   "id": "92fb8527",
   "metadata": {
    "slideshow": {
     "slide_type": "subslide"
    }
   },
   "source": [
    "You must supply an argument for every non-default argument."
   ]
  },
  {
   "cell_type": "code",
   "execution_count": 42,
   "id": "d2e71df9",
   "metadata": {
    "execution": {
     "iopub.execute_input": "2023-10-04T02:30:13.498771Z",
     "iopub.status.busy": "2023-10-04T02:30:13.498512Z",
     "iopub.status.idle": "2023-10-04T02:30:13.501755Z",
     "shell.execute_reply": "2023-10-04T02:30:13.501173Z"
    },
    "tags": [
     "raises-exception"
    ]
   },
   "outputs": [
    {
     "ename": "TypeError",
     "evalue": "greet() missing 1 required positional argument: 'name'",
     "output_type": "error",
     "traceback": [
      "\u001b[0;31m---------------------------------------------------------------------------\u001b[0m",
      "\u001b[0;31mTypeError\u001b[0m                                 Traceback (most recent call last)",
      "Cell \u001b[0;32mIn[42], line 2\u001b[0m\n\u001b[1;32m      1\u001b[0m \u001b[38;5;66;03m# Raises an error - name has no default, we must specify value for it\u001b[39;00m\n\u001b[0;32m----> 2\u001b[0m \u001b[43mgreet\u001b[49m\u001b[43m(\u001b[49m\u001b[43m)\u001b[49m\n",
      "\u001b[0;31mTypeError\u001b[0m: greet() missing 1 required positional argument: 'name'"
     ]
    }
   ],
   "source": [
    "# Raises an error - name has no default, we must specify value for it\n",
    "greet()"
   ]
  },
  {
   "cell_type": "markdown",
   "id": "264c5d14",
   "metadata": {
    "slideshow": {
     "slide_type": "subslide"
    }
   },
   "source": [
    "Example 3. This one takes two parameters with default values."
   ]
  },
  {
   "cell_type": "code",
   "execution_count": 43,
   "id": "e98dbd7d",
   "metadata": {},
   "outputs": [],
   "source": [
    "def greet(name=\"guest\", invite_in=False):\n",
    "    print(\"Hello, \" + name + \"!\")\n",
    "    if invite_in:\n",
    "        print(\"Come on in!\")\n",
    "    else:\n",
    "        print(\"Great to see you!\")"
   ]
  },
  {
   "cell_type": "code",
   "execution_count": 44,
   "id": "5cf5090b",
   "metadata": {
    "execution": {
     "iopub.execute_input": "2023-10-04T02:30:13.498771Z",
     "iopub.status.busy": "2023-10-04T02:30:13.498512Z",
     "iopub.status.idle": "2023-10-04T02:30:13.501755Z",
     "shell.execute_reply": "2023-10-04T02:30:13.501173Z"
    },
    "slideshow": {
     "slide_type": "subslide"
    }
   },
   "outputs": [
    {
     "name": "stdout",
     "output_type": "stream",
     "text": [
      "Hello, guest!\n",
      "Great to see you!\n"
     ]
    }
   ],
   "source": [
    "greet()"
   ]
  },
  {
   "cell_type": "code",
   "execution_count": 45,
   "id": "2098f72a",
   "metadata": {
    "execution": {
     "iopub.execute_input": "2023-10-04T02:30:13.492860Z",
     "iopub.status.busy": "2023-10-04T02:30:13.492543Z",
     "iopub.status.idle": "2023-10-04T02:30:13.495715Z",
     "shell.execute_reply": "2023-10-04T02:30:13.495110Z"
    }
   },
   "outputs": [
    {
     "name": "stdout",
     "output_type": "stream",
     "text": [
      "Hello, Joe!\n",
      "Great to see you!\n"
     ]
    }
   ],
   "source": [
    "greet(\"Joe\")"
   ]
  },
  {
   "cell_type": "code",
   "execution_count": 46,
   "id": "8200931e",
   "metadata": {
    "execution": {
     "iopub.execute_input": "2023-10-04T02:30:13.498771Z",
     "iopub.status.busy": "2023-10-04T02:30:13.498512Z",
     "iopub.status.idle": "2023-10-04T02:30:13.501755Z",
     "shell.execute_reply": "2023-10-04T02:30:13.501173Z"
    }
   },
   "outputs": [
    {
     "name": "stdout",
     "output_type": "stream",
     "text": [
      "Hello, Joe!\n",
      "Come on in!\n"
     ]
    }
   ],
   "source": [
    "greet(\"Joe\", True)"
   ]
  },
  {
   "cell_type": "markdown",
   "id": "d9e41cdd",
   "metadata": {
    "slideshow": {
     "slide_type": "subslide"
    }
   },
   "source": [
    "But what if we want to provide `True` for the `invite_in` parameter, but leave the `name` as the default value?"
   ]
  },
  {
   "cell_type": "code",
   "execution_count": 2,
   "id": "0527767a",
   "metadata": {
    "scrolled": false
   },
   "outputs": [
    {
     "name": "stdout",
     "output_type": "stream",
     "text": [
      "Hello, guest!\n",
      "Come on in!\n"
     ]
    }
   ],
   "source": [
    "# Option 1: \n",
    "greet(\"guest\", True)"
   ]
  },
  {
   "cell_type": "markdown",
   "id": "d33c0c22",
   "metadata": {
    "slideshow": {
     "slide_type": "fragment"
    }
   },
   "source": [
    "This works, but could become a problem if we want to call a function with many defaulted parameters, but only override 1 of the defaults."
   ]
  },
  {
   "cell_type": "markdown",
   "id": "27d93c9f",
   "metadata": {
    "slideshow": {
     "slide_type": "slide"
    }
   },
   "source": [
    "##  Calling functions with named arguments\n",
    "\n",
    "You can specify the name of each argument when calling a function."
   ]
  },
  {
   "cell_type": "code",
   "execution_count": 48,
   "id": "0328d56f",
   "metadata": {
    "scrolled": false
   },
   "outputs": [
    {
     "name": "stdout",
     "output_type": "stream",
     "text": [
      "Hello, guest!\n",
      "Come on in!\n"
     ]
    }
   ],
   "source": [
    "greet(invite_in=True)"
   ]
  },
  {
   "cell_type": "markdown",
   "id": "c90a23bd",
   "metadata": {
    "slideshow": {
     "slide_type": "subslide"
    }
   },
   "source": [
    "So far, we've always called functions with **positional arguments**:"
   ]
  },
  {
   "cell_type": "code",
   "execution_count": 49,
   "id": "664cc4e3",
   "metadata": {
    "scrolled": true
   },
   "outputs": [
    {
     "name": "stdout",
     "output_type": "stream",
     "text": [
      "Hello, Joe!\n",
      "Come on in!\n"
     ]
    }
   ],
   "source": [
    "greet(\"Joe\", True)"
   ]
  },
  {
   "cell_type": "markdown",
   "id": "d6fd6f62",
   "metadata": {
    "slideshow": {
     "slide_type": ""
    }
   },
   "source": [
    "Functions can also be called with **named arguments**:"
   ]
  },
  {
   "cell_type": "code",
   "execution_count": 50,
   "id": "5c3ac30e",
   "metadata": {
    "scrolled": true
   },
   "outputs": [
    {
     "name": "stdout",
     "output_type": "stream",
     "text": [
      "Hello, guest!\n",
      "Come on in!\n"
     ]
    }
   ],
   "source": [
    "greet(invite_in=True)"
   ]
  },
  {
   "cell_type": "code",
   "execution_count": 12,
   "id": "5a9f887f",
   "metadata": {
    "scrolled": true,
    "slideshow": {
     "slide_type": "subslide"
    }
   },
   "outputs": [
    {
     "name": "stdout",
     "output_type": "stream",
     "text": [
      "Hello, guest!\n",
      "Come on in!\n"
     ]
    }
   ],
   "source": [
    "greet(invite_in=True)"
   ]
  },
  {
   "cell_type": "markdown",
   "id": "d248a027",
   "metadata": {
    "slideshow": {
     "slide_type": ""
    }
   },
   "source": [
    "This allows `name` to use the default value, and overrides the default value for `invite_in`.\n",
    "\n",
    "Named arguments can always be used, even when no parameters have default values."
   ]
  },
  {
   "cell_type": "markdown",
   "id": "a11382a3",
   "metadata": {
    "slideshow": {
     "slide_type": "subslide"
    }
   },
   "source": [
    "Another example:"
   ]
  },
  {
   "cell_type": "code",
   "execution_count": 51,
   "id": "315cd726",
   "metadata": {
    "execution": {
     "iopub.execute_input": "2023-10-04T02:30:13.518735Z",
     "iopub.status.busy": "2023-10-04T02:30:13.518477Z",
     "iopub.status.idle": "2023-10-04T02:30:13.521663Z",
     "shell.execute_reply": "2023-10-04T02:30:13.521023Z"
    },
    "slideshow": {
     "slide_type": "-"
    }
   },
   "outputs": [],
   "source": [
    "def meet(name1, name2):\n",
    "    print(name1 + \", meet \" + name2 + \".\")"
   ]
  },
  {
   "cell_type": "code",
   "execution_count": 52,
   "id": "9c671bb9",
   "metadata": {
    "execution": {
     "iopub.execute_input": "2023-10-04T02:30:13.525288Z",
     "iopub.status.busy": "2023-10-04T02:30:13.524966Z",
     "iopub.status.idle": "2023-10-04T02:30:13.528338Z",
     "shell.execute_reply": "2023-10-04T02:30:13.527703Z"
    }
   },
   "outputs": [
    {
     "name": "stdout",
     "output_type": "stream",
     "text": [
      "Bill, meet Ted.\n"
     ]
    }
   ],
   "source": [
    "meet(\"Bill\", \"Ted\")"
   ]
  },
  {
   "cell_type": "code",
   "execution_count": 53,
   "id": "c7abc37a",
   "metadata": {
    "execution": {
     "iopub.execute_input": "2023-10-04T02:30:13.525288Z",
     "iopub.status.busy": "2023-10-04T02:30:13.524966Z",
     "iopub.status.idle": "2023-10-04T02:30:13.528338Z",
     "shell.execute_reply": "2023-10-04T02:30:13.527703Z"
    }
   },
   "outputs": [
    {
     "name": "stdout",
     "output_type": "stream",
     "text": [
      "Harry, meet Hermione.\n"
     ]
    }
   ],
   "source": [
    "meet(\"Harry\", name2 = \"Hermione\")"
   ]
  },
  {
   "cell_type": "code",
   "execution_count": 54,
   "id": "123b2a5d",
   "metadata": {
    "execution": {
     "iopub.execute_input": "2023-10-04T02:30:13.532190Z",
     "iopub.status.busy": "2023-10-04T02:30:13.531907Z",
     "iopub.status.idle": "2023-10-04T02:30:13.535247Z",
     "shell.execute_reply": "2023-10-04T02:30:13.534573Z"
    }
   },
   "outputs": [
    {
     "name": "stdout",
     "output_type": "stream",
     "text": [
      "Mario, meet Luigi.\n"
     ]
    }
   ],
   "source": [
    "meet(name1 = \"Mario\", name2 = \"Luigi\")"
   ]
  },
  {
   "cell_type": "markdown",
   "id": "504844b4",
   "metadata": {
    "slideshow": {
     "slide_type": "subslide"
    }
   },
   "source": [
    "Named arguments can be passed in any order."
   ]
  },
  {
   "cell_type": "code",
   "execution_count": 55,
   "id": "577512ef",
   "metadata": {
    "execution": {
     "iopub.execute_input": "2023-10-04T02:30:13.538648Z",
     "iopub.status.busy": "2023-10-04T02:30:13.538384Z",
     "iopub.status.idle": "2023-10-04T02:30:13.541778Z",
     "shell.execute_reply": "2023-10-04T02:30:13.541091Z"
    },
    "scrolled": true
   },
   "outputs": [
    {
     "name": "stdout",
     "output_type": "stream",
     "text": [
      "Luke, meet your father.\n"
     ]
    }
   ],
   "source": [
    "meet(name2 = \"your father\", name1 = \"Luke\")"
   ]
  },
  {
   "cell_type": "markdown",
   "id": "dfbb9153",
   "metadata": {
    "slideshow": {
     "slide_type": "subslide"
    }
   },
   "source": [
    "A more complicated example:"
   ]
  },
  {
   "cell_type": "code",
   "execution_count": 60,
   "id": "5d883859",
   "metadata": {
    "execution": {
     "iopub.execute_input": "2023-10-04T02:30:13.544816Z",
     "iopub.status.busy": "2023-10-04T02:30:13.544566Z",
     "iopub.status.idle": "2023-10-04T02:30:13.548396Z",
     "shell.execute_reply": "2023-10-04T02:30:13.547777Z"
    },
    "slideshow": {
     "slide_type": ""
    }
   },
   "outputs": [],
   "source": [
    "def menu(breakfast, lunch = \"PB&J\", dinner = \"Ramen\", dessert = \"1 full pint of Ben & Jerry's\"):\n",
    "    print(\"Today's menu: \")\n",
    "    print(\"Breakfast: \" + breakfast)\n",
    "    print(\"Lunch: \" + lunch)\n",
    "    print(\"Dinner: \" + dinner)\n",
    "    print(\"Dessert: \" + dessert)"
   ]
  },
  {
   "cell_type": "code",
   "execution_count": 61,
   "id": "c48f5cf3",
   "metadata": {
    "scrolled": true
   },
   "outputs": [
    {
     "name": "stdout",
     "output_type": "stream",
     "text": [
      "Today's menu: \n",
      "Breakfast: Eggs\n",
      "Lunch: PB&J\n",
      "Dinner: Ramen\n",
      "Dessert: 1 full pint of Ben & Jerry's\n"
     ]
    }
   ],
   "source": [
    "menu(\"Eggs\")"
   ]
  },
  {
   "cell_type": "code",
   "execution_count": 62,
   "id": "018c2a80",
   "metadata": {
    "execution": {
     "iopub.execute_input": "2023-10-04T02:30:13.544816Z",
     "iopub.status.busy": "2023-10-04T02:30:13.544566Z",
     "iopub.status.idle": "2023-10-04T02:30:13.548396Z",
     "shell.execute_reply": "2023-10-04T02:30:13.547777Z"
    },
    "slideshow": {
     "slide_type": "subslide"
    }
   },
   "outputs": [],
   "source": [
    "def menu(breakfast, lunch = \"PB&J\", dinner = \"Ramen\", dessert = \"1 full pint of Ben & Jerry's\"):\n",
    "    print(\"Today's menu: \")\n",
    "    print(\"Breakfast: \" + breakfast)\n",
    "    print(\"Lunch: \" + lunch)\n",
    "    print(\"Dinner: \" + dinner)\n",
    "    print(\"Dessert: \" + dessert)"
   ]
  },
  {
   "cell_type": "code",
   "execution_count": 29,
   "id": "e1bcc2e9",
   "metadata": {
    "execution": {
     "iopub.execute_input": "2023-10-04T02:30:13.551501Z",
     "iopub.status.busy": "2023-10-04T02:30:13.551235Z",
     "iopub.status.idle": "2023-10-04T02:30:13.554607Z",
     "shell.execute_reply": "2023-10-04T02:30:13.553977Z"
    },
    "scrolled": false
   },
   "outputs": [
    {
     "name": "stdout",
     "output_type": "stream",
     "text": [
      "Today's menu: \n",
      "Breakfast: Cereal\n",
      "Lunch: PB&J\n",
      "Dinner: Lobster\n",
      "Dessert: 1 full pint of Ben & Jerry's\n"
     ]
    }
   ],
   "source": [
    "menu(\"Cereal\", dinner = \"Lobster\")"
   ]
  },
  {
   "cell_type": "code",
   "execution_count": 62,
   "id": "97480ffa",
   "metadata": {
    "execution": {
     "iopub.execute_input": "2023-10-04T02:30:13.544816Z",
     "iopub.status.busy": "2023-10-04T02:30:13.544566Z",
     "iopub.status.idle": "2023-10-04T02:30:13.548396Z",
     "shell.execute_reply": "2023-10-04T02:30:13.547777Z"
    },
    "slideshow": {
     "slide_type": "subslide"
    }
   },
   "outputs": [],
   "source": [
    "def menu(breakfast, lunch = \"PB&J\", dinner = \"Ramen\", dessert = \"1 full pint of Ben & Jerry's\"):\n",
    "    print(\"Today's menu: \")\n",
    "    print(\"Breakfast: \" + breakfast)\n",
    "    print(\"Lunch: \" + lunch)\n",
    "    print(\"Dinner: \" + dinner)\n",
    "    print(\"Dessert: \" + dessert)"
   ]
  },
  {
   "cell_type": "code",
   "execution_count": 63,
   "id": "2d15c9db",
   "metadata": {
    "execution": {
     "iopub.execute_input": "2023-10-04T02:30:13.551501Z",
     "iopub.status.busy": "2023-10-04T02:30:13.551235Z",
     "iopub.status.idle": "2023-10-04T02:30:13.554607Z",
     "shell.execute_reply": "2023-10-04T02:30:13.553977Z"
    },
    "scrolled": false
   },
   "outputs": [
    {
     "name": "stdout",
     "output_type": "stream",
     "text": [
      "Today's menu: \n",
      "Breakfast: Lox\n",
      "Lunch: Tuna Sandwich\n",
      "Dinner: Sushi\n",
      "Dessert: 1 full pint of Ben & Jerry's\n"
     ]
    }
   ],
   "source": [
    "menu(\"Lox\", \"Tuna Sandwich\", \"Sushi\")"
   ]
  },
  {
   "cell_type": "markdown",
   "id": "cc4001c0",
   "metadata": {
    "slideshow": {
     "slide_type": "subslide"
    }
   },
   "source": [
    "You can mix named/unnamed arguments in one call, but all positional arguments must come before any named arguments."
   ]
  },
  {
   "cell_type": "code",
   "execution_count": 26,
   "id": "314b394d",
   "metadata": {
    "execution": {
     "iopub.execute_input": "2023-10-04T02:30:13.843408Z",
     "iopub.status.busy": "2023-10-04T02:30:13.843145Z",
     "iopub.status.idle": "2023-10-04T02:30:13.847751Z",
     "shell.execute_reply": "2023-10-04T02:30:13.847089Z"
    },
    "slideshow": {
     "slide_type": "-"
    },
    "tags": [
     "raises-exception"
    ]
   },
   "outputs": [
    {
     "ename": "SyntaxError",
     "evalue": "positional argument follows keyword argument (2912349045.py, line 1)",
     "output_type": "error",
     "traceback": [
      "\u001b[0;36m  Cell \u001b[0;32mIn[26], line 1\u001b[0;36m\u001b[0m\n\u001b[0;31m    menu(\"Oatmeal\", dessert = \"Skittles\", \"Ham & Cheese\")\u001b[0m\n\u001b[0m                                                        ^\u001b[0m\n\u001b[0;31mSyntaxError\u001b[0m\u001b[0;31m:\u001b[0m positional argument follows keyword argument\n"
     ]
    }
   ],
   "source": [
    "menu(\"Oatmeal\", dessert = \"Skittles\", \"Ham & Cheese\")"
   ]
  }
 ],
 "metadata": {
  "celltoolbar": "Slideshow",
  "kernelspec": {
   "display_name": "Python 3 (ipykernel)",
   "language": "python",
   "name": "python3"
  },
  "language_info": {
   "codemirror_mode": {
    "name": "ipython",
    "version": 3
   },
   "file_extension": ".py",
   "mimetype": "text/x-python",
   "name": "python",
   "nbconvert_exporter": "python",
   "pygments_lexer": "ipython3",
   "version": "3.10.9"
  }
 },
 "nbformat": 4,
 "nbformat_minor": 5
}
