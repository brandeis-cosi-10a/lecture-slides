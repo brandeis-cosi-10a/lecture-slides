{
 "cells": [
  {
   "cell_type": "markdown",
   "id": "6ba4e9d8",
   "metadata": {},
   "source": [
    "TODO: old content was green grass song, but didn't make a lot of sense. write some new examples. also the examples here are weak. also update there was an old lady assignment to take out default param requirement? it will probably come before this lecture"
   ]
  },
  {
   "cell_type": "markdown",
   "id": "a80466c9",
   "metadata": {
    "slideshow": {
     "slide_type": "subslide"
    }
   },
   "source": [
    "## Default values\n",
    "\n",
    "Function parameters can have **default values**. A default value is used if no argument is passed for a parameter.\n",
    "\n",
    "Example:"
   ]
  },
  {
   "cell_type": "code",
   "execution_count": null,
   "id": "f1cb6d2f",
   "metadata": {
    "execution": {
     "iopub.execute_input": "2023-10-04T02:30:13.486807Z",
     "iopub.status.busy": "2023-10-04T02:30:13.486558Z",
     "iopub.status.idle": "2023-10-04T02:30:13.489816Z",
     "shell.execute_reply": "2023-10-04T02:30:13.489145Z"
    }
   },
   "outputs": [],
   "source": [
    "def greet(name = \"guest\"):\n",
    "    print(\"Hello, \" + name + \"!\")"
   ]
  },
  {
   "cell_type": "code",
   "execution_count": null,
   "id": "7b2b3c50",
   "metadata": {
    "execution": {
     "iopub.execute_input": "2023-10-04T02:30:13.492860Z",
     "iopub.status.busy": "2023-10-04T02:30:13.492543Z",
     "iopub.status.idle": "2023-10-04T02:30:13.495715Z",
     "shell.execute_reply": "2023-10-04T02:30:13.495110Z"
    }
   },
   "outputs": [],
   "source": [
    "greet()"
   ]
  },
  {
   "cell_type": "code",
   "execution_count": null,
   "id": "8c147cf0",
   "metadata": {
    "execution": {
     "iopub.execute_input": "2023-10-04T02:30:13.498771Z",
     "iopub.status.busy": "2023-10-04T02:30:13.498512Z",
     "iopub.status.idle": "2023-10-04T02:30:13.501755Z",
     "shell.execute_reply": "2023-10-04T02:30:13.501173Z"
    }
   },
   "outputs": [],
   "source": [
    "greet(\"Joe\")"
   ]
  },
  {
   "cell_type": "markdown",
   "id": "27d93c9f",
   "metadata": {
    "slideshow": {
     "slide_type": "subslide"
    }
   },
   "source": [
    "##  Calling functions: named parameters\n",
    "\n",
    "Our `verse` function call has gotten a little obtuse:  \n",
    "  \n",
    "`verse(\"nest\", \"egg\", \"in\", \"an\")`  \n",
    "  \n",
    "We can improve the readability.\n"
   ]
  },
  {
   "cell_type": "markdown",
   "id": "5a2c3344",
   "metadata": {
    "slideshow": {
     "slide_type": "subslide"
    }
   },
   "source": [
    "So far, we've called functions with **positional arguments**:"
   ]
  },
  {
   "cell_type": "code",
   "execution_count": null,
   "id": "315cd726",
   "metadata": {
    "execution": {
     "iopub.execute_input": "2023-10-04T02:30:13.518735Z",
     "iopub.status.busy": "2023-10-04T02:30:13.518477Z",
     "iopub.status.idle": "2023-10-04T02:30:13.521663Z",
     "shell.execute_reply": "2023-10-04T02:30:13.521023Z"
    },
    "slideshow": {
     "slide_type": "-"
    }
   },
   "outputs": [],
   "source": [
    "def meet(name1, name2):\n",
    "    print(name1 + \", meet \" + name2 + \".\")"
   ]
  },
  {
   "cell_type": "code",
   "execution_count": null,
   "id": "9c671bb9",
   "metadata": {
    "execution": {
     "iopub.execute_input": "2023-10-04T02:30:13.525288Z",
     "iopub.status.busy": "2023-10-04T02:30:13.524966Z",
     "iopub.status.idle": "2023-10-04T02:30:13.528338Z",
     "shell.execute_reply": "2023-10-04T02:30:13.527703Z"
    }
   },
   "outputs": [],
   "source": [
    "meet(\"Bill\", \"Ted\")"
   ]
  },
  {
   "cell_type": "markdown",
   "id": "d6fd6f62",
   "metadata": {},
   "source": [
    "Functions can also be called with **named arguments**:"
   ]
  },
  {
   "cell_type": "code",
   "execution_count": null,
   "id": "123b2a5d",
   "metadata": {
    "execution": {
     "iopub.execute_input": "2023-10-04T02:30:13.532190Z",
     "iopub.status.busy": "2023-10-04T02:30:13.531907Z",
     "iopub.status.idle": "2023-10-04T02:30:13.535247Z",
     "shell.execute_reply": "2023-10-04T02:30:13.534573Z"
    }
   },
   "outputs": [],
   "source": [
    "meet(name1 = \"Mario\", name2 = \"Luigi\")"
   ]
  },
  {
   "cell_type": "markdown",
   "id": "504844b4",
   "metadata": {
    "slideshow": {
     "slide_type": "subslide"
    }
   },
   "source": [
    "Named arguments can be passed in any order."
   ]
  },
  {
   "cell_type": "code",
   "execution_count": null,
   "id": "577512ef",
   "metadata": {
    "execution": {
     "iopub.execute_input": "2023-10-04T02:30:13.538648Z",
     "iopub.status.busy": "2023-10-04T02:30:13.538384Z",
     "iopub.status.idle": "2023-10-04T02:30:13.541778Z",
     "shell.execute_reply": "2023-10-04T02:30:13.541091Z"
    }
   },
   "outputs": [],
   "source": [
    "meet(name2 = \"your father\", name1 = \"Luke\")"
   ]
  },
  {
   "cell_type": "code",
   "execution_count": null,
   "id": "5d883859",
   "metadata": {
    "execution": {
     "iopub.execute_input": "2023-10-04T02:30:13.544816Z",
     "iopub.status.busy": "2023-10-04T02:30:13.544566Z",
     "iopub.status.idle": "2023-10-04T02:30:13.548396Z",
     "shell.execute_reply": "2023-10-04T02:30:13.547777Z"
    },
    "slideshow": {
     "slide_type": "-"
    }
   },
   "outputs": [],
   "source": [
    "def menu(breakfast, lunch = \"PB&J\", dinner = \"Ramen\", dessert = \"1 full pint of Ben & Jerry's\"):\n",
    "    print(\"Today's menu: \")\n",
    "    print(\"Breakfast: \" + breakfast)\n",
    "    print(\"Lunch: \" + lunch)\n",
    "    print(\"Dinner: \" + dinner)\n",
    "    print(\"Dessert: \" + dessert)\n",
    "    \n",
    "menu(\"Eggs\")"
   ]
  },
  {
   "cell_type": "code",
   "execution_count": null,
   "id": "e1bcc2e9",
   "metadata": {
    "execution": {
     "iopub.execute_input": "2023-10-04T02:30:13.551501Z",
     "iopub.status.busy": "2023-10-04T02:30:13.551235Z",
     "iopub.status.idle": "2023-10-04T02:30:13.554607Z",
     "shell.execute_reply": "2023-10-04T02:30:13.553977Z"
    }
   },
   "outputs": [],
   "source": [
    "menu(\"Cereal\", dinner = \"Lobster\")"
   ]
  },
  {
   "cell_type": "markdown",
   "id": "1cffaa3d",
   "metadata": {
    "slideshow": {
     "slide_type": "subslide"
    }
   },
   "source": [
    "You must supply an argument for every non-default argument."
   ]
  },
  {
   "cell_type": "code",
   "execution_count": null,
   "id": "cd414bc7",
   "metadata": {
    "execution": {
     "iopub.execute_input": "2023-10-04T02:30:13.557606Z",
     "iopub.status.busy": "2023-10-04T02:30:13.557341Z",
     "iopub.status.idle": "2023-10-04T02:30:13.839803Z",
     "shell.execute_reply": "2023-10-04T02:30:13.839191Z"
    },
    "slideshow": {
     "slide_type": "-"
    },
    "tags": [
     "raises-exception"
    ]
   },
   "outputs": [],
   "source": [
    "menu() "
   ]
  },
  {
   "cell_type": "markdown",
   "id": "cc4001c0",
   "metadata": {
    "slideshow": {
     "slide_type": "-"
    }
   },
   "source": [
    "You can mix named/unnamed arguments in one call, but all positional arguments must come before any named arguments."
   ]
  },
  {
   "cell_type": "code",
   "execution_count": null,
   "id": "314b394d",
   "metadata": {
    "execution": {
     "iopub.execute_input": "2023-10-04T02:30:13.843408Z",
     "iopub.status.busy": "2023-10-04T02:30:13.843145Z",
     "iopub.status.idle": "2023-10-04T02:30:13.847751Z",
     "shell.execute_reply": "2023-10-04T02:30:13.847089Z"
    },
    "slideshow": {
     "slide_type": "-"
    },
    "tags": [
     "raises-exception"
    ]
   },
   "outputs": [],
   "source": [
    "menu(\"Oatmeal\", dessert = \"Skittles\", \"Ham & Cheese\")"
   ]
  }
 ],
 "metadata": {
  "kernelspec": {
   "display_name": "Python 3 (ipykernel)",
   "language": "python",
   "name": "python3"
  },
  "language_info": {
   "codemirror_mode": {
    "name": "ipython",
    "version": 3
   },
   "file_extension": ".py",
   "mimetype": "text/x-python",
   "name": "python",
   "nbconvert_exporter": "python",
   "pygments_lexer": "ipython3",
   "version": "3.10.9"
  }
 },
 "nbformat": 4,
 "nbformat_minor": 5
}
