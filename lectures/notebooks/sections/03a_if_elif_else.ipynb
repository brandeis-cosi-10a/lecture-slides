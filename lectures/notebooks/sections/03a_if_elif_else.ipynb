{
 "cells": [
  {
   "cell_type": "markdown",
   "id": "1ee8a1d2",
   "metadata": {
    "slideshow": {
     "slide_type": "slide"
    }
   },
   "source": [
    "# Conditionals\n",
    "\n",
    "<style>\n",
    "section.present > section.present { \n",
    "    max-height: 100%; \n",
    "    overflow-y: scroll;\n",
    "}\n",
    "</style>\n",
    "\n",
    "<small><a href=\"https://colab.research.google.com/github/brandeis-jdelfino/cosi-10a/blob/main/lectures/notebooks/3_conditionals.ipynb\">Link to interactive slides on Google Colab</a></small>"
   ]
  },
  {
   "cell_type": "markdown",
   "id": "8ff5e354",
   "metadata": {
    "slideshow": {
     "slide_type": "subslide"
    }
   },
   "source": [
    "# Movie scripts vs. Choose Your Own Adventure\n",
    "\n",
    "So far, we've been writing programs that resemble scripts for movies: we define a set of steps to take, and then we walk through them one by one, with the same path and outcome each time.\n",
    "\n",
    "Today, we'll look at **conditional execution**, which will let us write programs that don't always take the same path - kind of like a Choose Your Own Adventure book.\n",
    "\n",
    "<br/><br/>\n",
    "<img src=\"./images/choose-your-own-adventure.gif\" style=\"display:block; margin:auto; width: 50%;\"/>\n"
   ]
  },
  {
   "cell_type": "markdown",
   "id": "e4f0420f",
   "metadata": {
    "slideshow": {
     "slide_type": "slide"
    }
   },
   "source": [
    "# `if` statements\n",
    "\n",
    "An `if` statement is the most basic conditional statement in Python. It looks like this:\n",
    "```\n",
    "if <test>:\n",
    "    statement(s)\n",
    "```"
   ]
  },
  {
   "cell_type": "code",
   "execution_count": null,
   "id": "e134df66",
   "metadata": {
    "execution": {
     "iopub.execute_input": "2023-09-11T02:05:27.794036Z",
     "iopub.status.busy": "2023-09-11T02:05:27.793442Z",
     "iopub.status.idle": "2023-09-11T02:05:27.809000Z",
     "shell.execute_reply": "2023-09-11T02:05:27.807657Z"
    }
   },
   "outputs": [],
   "source": [
    "x = 2\n",
    "if x > 5:\n",
    "    print(\"This print executes when x is greater than 5\")"
   ]
  },
  {
   "cell_type": "code",
   "execution_count": null,
   "id": "1f8e2b4a",
   "metadata": {
    "execution": {
     "iopub.execute_input": "2023-09-11T02:05:27.813802Z",
     "iopub.status.busy": "2023-09-11T02:05:27.813028Z",
     "iopub.status.idle": "2023-09-11T02:05:27.817393Z",
     "shell.execute_reply": "2023-09-11T02:05:27.816735Z"
    },
    "slideshow": {
     "slide_type": "subslide"
    }
   },
   "outputs": [],
   "source": [
    "x = 10\n",
    "if x > 5:\n",
    "    print(\"This print executes when x is greater than 5\")"
   ]
  },
  {
   "cell_type": "markdown",
   "id": "597f3f4c",
   "metadata": {
    "slideshow": {
     "slide_type": "-"
    }
   },
   "source": [
    "* `x > 5` is the **test**. It must be a **boolean expression**.\n",
    "  * A **boolean expression** is any expression that evaluates to `True` or `False`\n",
    "\n",
    "* `print(\"This print executes when x is greater than 5\")` is a statement \"inside\" the if. \n",
    "  * It is **conditionally executed**.\n",
    "  * i.e. It is executed if the test `x  > 5` evaluates to `True`."
   ]
  },
  {
   "cell_type": "markdown",
   "id": "c2efe8b6",
   "metadata": {
    "slideshow": {
     "slide_type": "subslide"
    }
   },
   "source": [
    "## Indentation matters\n",
    "\n",
    "The lines that are indented after the `if <test>:` line are the lines that are conditionally executed.\n",
    "\n",
    "The conditional execution stops when the indentation stops."
   ]
  },
  {
   "cell_type": "code",
   "execution_count": null,
   "id": "d421b12c",
   "metadata": {
    "execution": {
     "iopub.execute_input": "2023-09-11T02:05:27.820766Z",
     "iopub.status.busy": "2023-09-11T02:05:27.820494Z",
     "iopub.status.idle": "2023-09-11T02:05:27.824282Z",
     "shell.execute_reply": "2023-09-11T02:05:27.823595Z"
    }
   },
   "outputs": [],
   "source": [
    "x = 10\n",
    "if x > 5:\n",
    "    print(\"This prints if x is greater than 5\")\n",
    "    print(\"This also prints when x is greater than 5\")\n",
    "    \n",
    "print(\"This always prints\")"
   ]
  },
  {
   "cell_type": "markdown",
   "id": "9235e7c2",
   "metadata": {},
   "source": [
    "`print(\"This always prints\")` is always executed "
   ]
  },
  {
   "cell_type": "markdown",
   "id": "5074f9ef",
   "metadata": {
    "slideshow": {
     "slide_type": "slide"
    }
   },
   "source": [
    "# Writing tests\n",
    "\n",
    "There are a number of comparison (relational) and logical (and/or/not) operators that can be used in conditionals.\n",
    "\n",
    "(They can be used anywhere, but show up most commonly in conditionals)"
   ]
  },
  {
   "cell_type": "markdown",
   "id": "095b7716",
   "metadata": {
    "slideshow": {
     "slide_type": "subslide"
    }
   },
   "source": [
    "# Relational operators\n",
    "\n",
    "Relational operators are commonly used in `if` tests.\n",
    "\n",
    "| Operator | Meaning | Example | Result |\n",
    "| --- | --- | --- | --- |\n",
    "| == | equal | 1 + 1 == 2 | True |\n",
    "| != | not equal | 2 + 3 != 4 | True |\n",
    "| < | less than | 10 < 5 | False |\n",
    "| > | greater than | 10 > 5 | True |\n",
    "| <= | less than or equal to | 1 + 1 <= 2 | True |\n",
    "| >= | greater than or equal to | 3 + 4 >= 6 | False |"
   ]
  },
  {
   "cell_type": "markdown",
   "id": "79407036",
   "metadata": {
    "slideshow": {
     "slide_type": "subslide"
    }
   },
   "source": [
    "## Relational expressions\n",
    "\n",
    "Evaluating an expression with a relational operator results in a boolean (True or False) value. \n",
    "\n",
    "Some examples:"
   ]
  },
  {
   "cell_type": "code",
   "execution_count": null,
   "id": "3c539938",
   "metadata": {},
   "outputs": [],
   "source": [
    "5 < 10"
   ]
  },
  {
   "cell_type": "code",
   "execution_count": null,
   "id": "7a916ea8",
   "metadata": {},
   "outputs": [],
   "source": [
    "5 == 10"
   ]
  },
  {
   "cell_type": "code",
   "execution_count": null,
   "id": "f5fa8487",
   "metadata": {
    "slideshow": {
     "slide_type": "subslide"
    }
   },
   "outputs": [],
   "source": [
    "(5 + 1) == 6"
   ]
  },
  {
   "cell_type": "code",
   "execution_count": null,
   "id": "5d3107ae",
   "metadata": {
    "slideshow": {
     "slide_type": ""
    }
   },
   "outputs": [],
   "source": [
    "(7 * 2) != 14"
   ]
  },
  {
   "cell_type": "code",
   "execution_count": null,
   "id": "d4832a6e",
   "metadata": {},
   "outputs": [],
   "source": [
    "(6 ** 2) <= 40"
   ]
  },
  {
   "cell_type": "markdown",
   "id": "b875f3a6",
   "metadata": {
    "slideshow": {
     "slide_type": "subslide"
    }
   },
   "source": [
    "## Logical operators\n",
    "\n",
    "Logical operators are also commonly used in `if` tests. From highest to lowest precedence:\n",
    "\n",
    "| Operation | Meaning |\n",
    "| --- | --- | \n",
    "| `x or y` | `True` if `x` is `True` OR `y` is `True` |\n",
    "| `x and y` | `True` if `x` is `True` AND `y` is `True` |\n",
    "| `not x` | `True` if `x` is `False`, `False` if `x` is `True` |\n"
   ]
  },
  {
   "cell_type": "code",
   "execution_count": null,
   "id": "e30d45d2",
   "metadata": {
    "execution": {
     "iopub.execute_input": "2023-09-11T02:05:27.861442Z",
     "iopub.status.busy": "2023-09-11T02:05:27.861196Z",
     "iopub.status.idle": "2023-09-11T02:05:27.867374Z",
     "shell.execute_reply": "2023-09-11T02:05:27.866771Z"
    }
   },
   "outputs": [],
   "source": [
    "(1 > 2) or (5 > 4)"
   ]
  },
  {
   "cell_type": "code",
   "execution_count": null,
   "id": "28b1580b",
   "metadata": {
    "execution": {
     "iopub.execute_input": "2023-09-11T02:05:27.870401Z",
     "iopub.status.busy": "2023-09-11T02:05:27.870152Z",
     "iopub.status.idle": "2023-09-11T02:05:27.874415Z",
     "shell.execute_reply": "2023-09-11T02:05:27.873796Z"
    }
   },
   "outputs": [],
   "source": [
    "(1 > 2) and (5 > 4)"
   ]
  },
  {
   "cell_type": "code",
   "execution_count": null,
   "id": "117727f9",
   "metadata": {
    "execution": {
     "iopub.execute_input": "2023-09-11T02:05:27.877360Z",
     "iopub.status.busy": "2023-09-11T02:05:27.877117Z",
     "iopub.status.idle": "2023-09-11T02:05:27.880983Z",
     "shell.execute_reply": "2023-09-11T02:05:27.880470Z"
    }
   },
   "outputs": [],
   "source": [
    "not (1 > 2)"
   ]
  },
  {
   "cell_type": "markdown",
   "id": "4264b195",
   "metadata": {
    "slideshow": {
     "slide_type": "slide"
    }
   },
   "source": [
    "# Example: Grade buckets\n",
    "\n",
    "Write code to convert a number grade into a letter grade."
   ]
  },
  {
   "cell_type": "code",
   "execution_count": null,
   "id": "3891d1d5",
   "metadata": {
    "slideshow": {
     "slide_type": "subslide"
    }
   },
   "outputs": [],
   "source": [
    "grade = 81\n",
    "if grade <= 65:\n",
    "    print(\"F\")\n",
    "if grade >= 66 and grade <= 72:\n",
    "    print(\"D\")\n",
    "if grade >= 73 and grade <= 79:\n",
    "    print(\"C\")\n",
    "if grade >= 80 and grade <= 89:\n",
    "    print(\"B\")\n",
    "if grade >= 90:\n",
    "    print(\"A\")"
   ]
  },
  {
   "cell_type": "markdown",
   "id": "29c79a9e",
   "metadata": {
    "slideshow": {
     "slide_type": "slide"
    }
   },
   "source": [
    "# `if/else` statements\n",
    "\n",
    "You can add an `else` clause to an `if` statement. The `else` clause will execute if the test evaluates to `False`\n",
    "\n",
    "```\n",
    "if <test>:\n",
    "    statement(s)\n",
    "else:\n",
    "    statement(s)\n",
    "```"
   ]
  },
  {
   "cell_type": "code",
   "execution_count": null,
   "id": "bf00f69c",
   "metadata": {
    "execution": {
     "iopub.execute_input": "2023-09-11T02:05:27.827608Z",
     "iopub.status.busy": "2023-09-11T02:05:27.827351Z",
     "iopub.status.idle": "2023-09-11T02:05:27.831089Z",
     "shell.execute_reply": "2023-09-11T02:05:27.830516Z"
    }
   },
   "outputs": [],
   "source": [
    "x = 4\n",
    "if x > 5:\n",
    "    print(\"x is big!\")\n",
    "else:\n",
    "    print(\"x is small!\")"
   ]
  },
  {
   "cell_type": "markdown",
   "id": "07c5be4b",
   "metadata": {
    "slideshow": {
     "slide_type": "slide"
    }
   },
   "source": [
    "# `if/elif/else` statements\n",
    "\n",
    "The last variation is \"if/else-if/else\". \n",
    "\n",
    "```\n",
    "if <test1>:\n",
    "    statement(s)\n",
    "elif <test2>:\n",
    "    statement(s)\n",
    "else:\n",
    "    statement(s)\n",
    "```\n",
    "\n",
    "You can have as many `elif` clauses as you want. You can also omit the `else` clause.\n",
    "\n",
    "Each `elif` test is only performed if all the tests before it evaluate to `False`."
   ]
  },
  {
   "cell_type": "code",
   "execution_count": null,
   "id": "6b646575",
   "metadata": {
    "execution": {
     "iopub.execute_input": "2023-09-11T02:05:27.834120Z",
     "iopub.status.busy": "2023-09-11T02:05:27.833880Z",
     "iopub.status.idle": "2023-09-11T02:05:27.837620Z",
     "shell.execute_reply": "2023-09-11T02:05:27.836890Z"
    }
   },
   "outputs": [],
   "source": [
    "x = 4\n",
    "if x > 100:\n",
    "    print(\"x is really big!\")\n",
    "elif x > 10:\n",
    "    print(\"x is kinda big\")\n",
    "else:\n",
    "    print(\"x is small!\")"
   ]
  }
 ],
 "metadata": {
  "kernelspec": {
   "display_name": "Python 3 (ipykernel)",
   "language": "python",
   "name": "python3"
  },
  "language_info": {
   "codemirror_mode": {
    "name": "ipython",
    "version": 3
   },
   "file_extension": ".py",
   "mimetype": "text/x-python",
   "name": "python",
   "nbconvert_exporter": "python",
   "pygments_lexer": "ipython3",
   "version": "3.10.9"
  }
 },
 "nbformat": 4,
 "nbformat_minor": 5
}
