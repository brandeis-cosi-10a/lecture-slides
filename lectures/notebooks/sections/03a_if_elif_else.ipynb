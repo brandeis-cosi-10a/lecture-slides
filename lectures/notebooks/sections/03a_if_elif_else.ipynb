{
 "cells": [
  {
   "cell_type": "markdown",
   "id": "1ee8a1d2",
   "metadata": {
    "slideshow": {
     "slide_type": "slide"
    }
   },
   "source": [
    "# Conditionals\n",
    "\n",
    "<style>\n",
    "section.present > section.present { \n",
    "    max-height: 100%; \n",
    "    overflow-y: scroll;\n",
    "}\n",
    "</style>\n",
    "\n",
    "<small><a href=\"https://colab.research.google.com/github/brandeis-jdelfino/cosi-10a/blob/main/lectures/notebooks/3_conditionals.ipynb\">Link to interactive slides on Google Colab</a></small>"
   ]
  },
  {
   "cell_type": "markdown",
   "id": "8ff5e354",
   "metadata": {
    "slideshow": {
     "slide_type": "subslide"
    }
   },
   "source": [
    "# Movie scripts vs. Choose Your Own Adventure\n",
    "\n",
    "So far, we've been writing programs that resemble scripts for movies: we define a set of steps to take, and then we walk through them one by one, with the same path and outcome each time.\n",
    "\n",
    "Today, we'll look at **conditional execution**, which will let us write programs that don't always take the same path - kind of like a Choose Your Own Adventure book.\n",
    "\n",
    "<br/><br/>\n",
    "<img src=\"./images/choose-your-own-adventure.gif\" style=\"display:block; margin:auto; width: 50%;\"/>\n"
   ]
  },
  {
   "cell_type": "markdown",
   "id": "e4f0420f",
   "metadata": {
    "slideshow": {
     "slide_type": "slide"
    }
   },
   "source": [
    "# `if` statements\n",
    "\n",
    "An `if` statement is the most basic conditional statement in Python. It looks like this:\n",
    "```\n",
    "if <test>:\n",
    "    statement(s)\n",
    "```"
   ]
  },
  {
   "cell_type": "code",
   "execution_count": null,
   "id": "e134df66",
   "metadata": {
    "execution": {
     "iopub.execute_input": "2023-09-11T02:05:27.794036Z",
     "iopub.status.busy": "2023-09-11T02:05:27.793442Z",
     "iopub.status.idle": "2023-09-11T02:05:27.809000Z",
     "shell.execute_reply": "2023-09-11T02:05:27.807657Z"
    }
   },
   "outputs": [],
   "source": [
    "x = 2\n",
    "if x > 5:\n",
    "    print(\"This print executes when x is greater than 5\")"
   ]
  },
  {
   "cell_type": "code",
   "execution_count": null,
   "id": "1f8e2b4a",
   "metadata": {
    "execution": {
     "iopub.execute_input": "2023-09-11T02:05:27.813802Z",
     "iopub.status.busy": "2023-09-11T02:05:27.813028Z",
     "iopub.status.idle": "2023-09-11T02:05:27.817393Z",
     "shell.execute_reply": "2023-09-11T02:05:27.816735Z"
    },
    "slideshow": {
     "slide_type": "subslide"
    }
   },
   "outputs": [],
   "source": [
    "x = 10\n",
    "if x > 5:\n",
    "    print(\"This print executes when x is greater than 5\")"
   ]
  },
  {
   "cell_type": "markdown",
   "id": "597f3f4c",
   "metadata": {
    "slideshow": {
     "slide_type": "-"
    }
   },
   "source": [
    "* `x > 5` is the **test**. It must be a **boolean expression**.\n",
    "  * A **boolean expression** is any expression that evaluates to `True` or `False`\n",
    "\n",
    "* `print(\"This print executes when x is greater than 5\")` is a statement \"inside\" the if. \n",
    "  * It is **conditionally executed**.\n",
    "  * i.e. It is executed if the test `x  > 5` evaluates to `True`."
   ]
  },
  {
   "cell_type": "markdown",
   "id": "c2efe8b6",
   "metadata": {
    "slideshow": {
     "slide_type": "subslide"
    }
   },
   "source": [
    "## Indentation matters\n",
    "\n",
    "The lines that are indented after the `if <test>:` line are the lines that are conditionally executed.\n",
    "\n",
    "The conditional execution stops when the indentation stops."
   ]
  },
  {
   "cell_type": "code",
   "execution_count": null,
   "id": "d421b12c",
   "metadata": {
    "execution": {
     "iopub.execute_input": "2023-09-11T02:05:27.820766Z",
     "iopub.status.busy": "2023-09-11T02:05:27.820494Z",
     "iopub.status.idle": "2023-09-11T02:05:27.824282Z",
     "shell.execute_reply": "2023-09-11T02:05:27.823595Z"
    }
   },
   "outputs": [],
   "source": [
    "x = 10\n",
    "if x > 5:\n",
    "    print(\"This prints if x is greater than 5\")\n",
    "    print(\"This also prints when x is greater than 5\")\n",
    "    \n",
    "print(\"This always prints\")"
   ]
  },
  {
   "cell_type": "markdown",
   "id": "9235e7c2",
   "metadata": {},
   "source": [
    "`print(\"This always prints\")` is always executed "
   ]
  },
  {
   "cell_type": "markdown",
   "id": "5074f9ef",
   "metadata": {
    "slideshow": {
     "slide_type": "slide"
    }
   },
   "source": [
    "# Writing tests\n",
    "\n",
    "There are a number of comparison (relational) and logical (and/or/not) operators that can be used in conditionals.\n",
    "\n",
    "(They can be used anywhere, but show up most commonly in conditionals)"
   ]
  },
  {
   "cell_type": "markdown",
   "id": "095b7716",
   "metadata": {
    "slideshow": {
     "slide_type": "subslide"
    }
   },
   "source": [
    "# Relational operators\n",
    "\n",
    "Relational operators are commonly used in `if` tests.\n",
    "\n",
    "| Operator | Meaning | Example | Result |\n",
    "| --- | --- | --- | --- |\n",
    "| == | equal | 1 + 1 == 2 | True |\n",
    "| != | not equal | 2 + 3 != 4 | True |\n",
    "| < | less than | 10 < 5 | False |\n",
    "| > | greater than | 10 > 5 | True |\n",
    "| <= | less than or equal to | 1 + 1 <= 2 | True |\n",
    "| >= | greater than or equal to | 3 + 4 >= 6 | False |"
   ]
  },
  {
   "cell_type": "markdown",
   "id": "79407036",
   "metadata": {
    "slideshow": {
     "slide_type": "subslide"
    }
   },
   "source": [
    "## Relational expressions\n",
    "\n",
    "Evaluating an expression with a relational operator results in a boolean (True or False) value. \n",
    "\n",
    "Some examples:"
   ]
  },
  {
   "cell_type": "code",
   "execution_count": null,
   "id": "3c539938",
   "metadata": {},
   "outputs": [],
   "source": [
    "5 < 10"
   ]
  },
  {
   "cell_type": "code",
   "execution_count": null,
   "id": "7a916ea8",
   "metadata": {},
   "outputs": [],
   "source": [
    "5 == 10"
   ]
  },
  {
   "cell_type": "code",
   "execution_count": null,
   "id": "f5fa8487",
   "metadata": {
    "slideshow": {
     "slide_type": "subslide"
    }
   },
   "outputs": [],
   "source": [
    "(5 + 1) == 6"
   ]
  },
  {
   "cell_type": "code",
   "execution_count": null,
   "id": "5d3107ae",
   "metadata": {
    "slideshow": {
     "slide_type": ""
    }
   },
   "outputs": [],
   "source": [
    "(7 * 2) != 14"
   ]
  },
  {
   "cell_type": "code",
   "execution_count": null,
   "id": "d4832a6e",
   "metadata": {},
   "outputs": [],
   "source": [
    "(6 ** 2) <= 40"
   ]
  },
  {
   "cell_type": "markdown",
   "id": "b875f3a6",
   "metadata": {
    "slideshow": {
     "slide_type": "subslide"
    }
   },
   "source": [
    "## Logical operators\n",
    "\n",
    "Logical operators are also commonly used in `if` tests. From highest to lowest precedence:\n",
    "\n",
    "| Operation | Meaning |\n",
    "| --- | --- | \n",
    "| `x or y` | `True` if `x` is `True` OR `y` is `True` |\n",
    "| `x and y` | `True` if `x` is `True` AND `y` is `True` |\n",
    "| `not x` | `True` if `x` is `False`, `False` if `x` is `True` |\n"
   ]
  },
  {
   "cell_type": "code",
   "execution_count": null,
   "id": "e30d45d2",
   "metadata": {
    "execution": {
     "iopub.execute_input": "2023-09-11T02:05:27.861442Z",
     "iopub.status.busy": "2023-09-11T02:05:27.861196Z",
     "iopub.status.idle": "2023-09-11T02:05:27.867374Z",
     "shell.execute_reply": "2023-09-11T02:05:27.866771Z"
    }
   },
   "outputs": [],
   "source": [
    "(1 > 2) or (5 > 4)"
   ]
  },
  {
   "cell_type": "code",
   "execution_count": null,
   "id": "28b1580b",
   "metadata": {
    "execution": {
     "iopub.execute_input": "2023-09-11T02:05:27.870401Z",
     "iopub.status.busy": "2023-09-11T02:05:27.870152Z",
     "iopub.status.idle": "2023-09-11T02:05:27.874415Z",
     "shell.execute_reply": "2023-09-11T02:05:27.873796Z"
    }
   },
   "outputs": [],
   "source": [
    "(1 > 2) and (5 > 4)"
   ]
  },
  {
   "cell_type": "code",
   "execution_count": null,
   "id": "117727f9",
   "metadata": {
    "execution": {
     "iopub.execute_input": "2023-09-11T02:05:27.877360Z",
     "iopub.status.busy": "2023-09-11T02:05:27.877117Z",
     "iopub.status.idle": "2023-09-11T02:05:27.880983Z",
     "shell.execute_reply": "2023-09-11T02:05:27.880470Z"
    }
   },
   "outputs": [],
   "source": [
    "not (1 > 2)"
   ]
  },
  {
   "cell_type": "markdown",
   "id": "4264b195",
   "metadata": {
    "slideshow": {
     "slide_type": "slide"
    }
   },
   "source": [
    "# Example: Grade buckets\n",
    "\n",
    "Write code to convert a number grade into a letter grade."
   ]
  },
  {
   "cell_type": "code",
   "execution_count": null,
   "id": "3891d1d5",
   "metadata": {
    "slideshow": {
     "slide_type": "subslide"
    }
   },
   "outputs": [],
   "source": [
    "grade = 81\n",
    "if grade <= 65:\n",
    "    print(\"F\")\n",
    "if grade >= 66 and grade <= 72:\n",
    "    print(\"D\")\n",
    "if grade >= 73 and grade <= 79:\n",
    "    print(\"C\")\n",
    "if grade >= 80 and grade <= 89:\n",
    "    print(\"B\")\n",
    "if grade >= 90:\n",
    "    print(\"A\")"
   ]
  },
  {
   "cell_type": "markdown",
   "id": "29c79a9e",
   "metadata": {
    "slideshow": {
     "slide_type": "slide"
    }
   },
   "source": [
    "# `if/else` statements\n",
    "\n",
    "You can add an `else` clause to an `if` statement. The `else` clause will execute if the test evaluates to `False`\n",
    "\n",
    "```\n",
    "if <test>:\n",
    "    statement(s)\n",
    "else:\n",
    "    statement(s)\n",
    "```"
   ]
  },
  {
   "cell_type": "code",
   "execution_count": null,
   "id": "bf00f69c",
   "metadata": {
    "execution": {
     "iopub.execute_input": "2023-09-11T02:05:27.827608Z",
     "iopub.status.busy": "2023-09-11T02:05:27.827351Z",
     "iopub.status.idle": "2023-09-11T02:05:27.831089Z",
     "shell.execute_reply": "2023-09-11T02:05:27.830516Z"
    }
   },
   "outputs": [],
   "source": [
    "x = 4\n",
    "if x > 5:\n",
    "    print(\"x is big!\")\n",
    "else:\n",
    "    print(\"x is small!\")"
   ]
  },
  {
   "cell_type": "markdown",
   "id": "07c5be4b",
   "metadata": {
    "slideshow": {
     "slide_type": "slide"
    }
   },
   "source": [
    "# `if/elif/else` statements\n",
    "\n",
    "The last variation is \"if/else-if/else\". \n",
    "\n",
    "```\n",
    "if <test1>:\n",
    "    statement(s)\n",
    "elif <test2>:\n",
    "    statement(s)\n",
    "else:\n",
    "    statement(s)\n",
    "```\n",
    "\n",
    "You can have as many `elif` clauses as you want. You can also omit the `else` clause.\n",
    "\n",
    "Each `elif` test is only performed if all the tests before it evaluate to `False`."
   ]
  },
  {
   "cell_type": "code",
   "execution_count": null,
   "id": "6b646575",
   "metadata": {
    "execution": {
     "iopub.execute_input": "2023-09-11T02:05:27.834120Z",
     "iopub.status.busy": "2023-09-11T02:05:27.833880Z",
     "iopub.status.idle": "2023-09-11T02:05:27.837620Z",
     "shell.execute_reply": "2023-09-11T02:05:27.836890Z"
    }
   },
   "outputs": [],
   "source": [
    "x = 4\n",
    "if x > 100:\n",
    "    print(\"x is really big!\")\n",
    "elif x > 10:\n",
    "    print(\"x is kinda big\")\n",
    "else:\n",
    "    print(\"x is small!\")"
   ]
  },
  {
   "cell_type": "markdown",
   "id": "3db8dc32",
   "metadata": {
    "slideshow": {
     "slide_type": "slide"
    }
   },
   "source": [
    "# Logic\n",
    "\n",
    "There are many different ways to structure conditional execution logic. Learning to choose the best one takes practice. Let's look at a few examples."
   ]
  },
  {
   "cell_type": "markdown",
   "id": "0f4a39f3",
   "metadata": {
    "slideshow": {
     "slide_type": "subslide"
    }
   },
   "source": [
    "# Example 0: How big is x?\n",
    "\n",
    "What if we re-ordered the if/elif clauses from previous example?\n",
    "\n",
    "Is there any value we can set `x` to that would make this code print \"x is really big!\"?"
   ]
  },
  {
   "cell_type": "code",
   "execution_count": null,
   "id": "5057e191",
   "metadata": {
    "slideshow": {
     "slide_type": ""
    }
   },
   "outputs": [],
   "source": [
    "x = 4\n",
    "if x > 10:\n",
    "    print(\"x is kinda big\")\n",
    "elif x > 100:\n",
    "    print(\"x is really big!\")\n",
    "else:\n",
    "    print(\"x is small!\")"
   ]
  },
  {
   "cell_type": "markdown",
   "id": "4660b74a",
   "metadata": {
    "slideshow": {
     "slide_type": "fragment"
    }
   },
   "source": [
    "No! If `x > 100`, then `x > 10` is also always True. The second branch of the if/else will never be taken."
   ]
  },
  {
   "cell_type": "markdown",
   "id": "23a548a8",
   "metadata": {
    "slideshow": {
     "slide_type": "subslide"
    }
   },
   "source": [
    "This is the correct way to order the clauses for this example:"
   ]
  },
  {
   "cell_type": "code",
   "execution_count": null,
   "id": "d44409a0",
   "metadata": {
    "execution": {
     "iopub.execute_input": "2023-09-11T02:05:27.834120Z",
     "iopub.status.busy": "2023-09-11T02:05:27.833880Z",
     "iopub.status.idle": "2023-09-11T02:05:27.837620Z",
     "shell.execute_reply": "2023-09-11T02:05:27.836890Z"
    }
   },
   "outputs": [],
   "source": [
    "x = 4\n",
    "if x > 100:\n",
    "    print(\"x is really big!\")\n",
    "elif x > 10:\n",
    "    print(\"x is kinda big\")\n",
    "else:\n",
    "    print(\"x is small!\")"
   ]
  },
  {
   "cell_type": "markdown",
   "id": "e91b0c41",
   "metadata": {
    "slideshow": {
     "slide_type": "subslide"
    }
   },
   "source": [
    "# Example 1: Grade buckets"
   ]
  },
  {
   "cell_type": "code",
   "execution_count": null,
   "id": "5a6bdea9",
   "metadata": {
    "execution": {
     "iopub.execute_input": "2023-09-11T02:05:27.840822Z",
     "iopub.status.busy": "2023-09-11T02:05:27.840571Z",
     "iopub.status.idle": "2023-09-11T02:05:27.844598Z",
     "shell.execute_reply": "2023-09-11T02:05:27.843855Z"
    }
   },
   "outputs": [],
   "source": [
    "# Attempt 1\n",
    "grade = 81\n",
    "if grade > 65:\n",
    "    print(\"D\")\n",
    "if grade > 72:\n",
    "    print(\"C\")\n",
    "if grade > 79:\n",
    "    print(\"B\")\n",
    "if grade > 89:\n",
    "    print(\"A\")\n",
    "else:\n",
    "    print(\"F\")"
   ]
  },
  {
   "cell_type": "markdown",
   "id": "158197b9",
   "metadata": {
    "slideshow": {
     "slide_type": "fragment"
    }
   },
   "source": [
    "This logic is incorrect - each `if` is evaluated independently. This code allows a number grade to be categorized under multiple letter grades."
   ]
  },
  {
   "cell_type": "code",
   "execution_count": null,
   "id": "784109b6",
   "metadata": {
    "execution": {
     "iopub.execute_input": "2023-09-11T02:05:27.847744Z",
     "iopub.status.busy": "2023-09-11T02:05:27.847483Z",
     "iopub.status.idle": "2023-09-11T02:05:27.851589Z",
     "shell.execute_reply": "2023-09-11T02:05:27.850962Z"
    },
    "slideshow": {
     "slide_type": "subslide"
    }
   },
   "outputs": [],
   "source": [
    "# Attempt 2\n",
    "grade = 81\n",
    "if grade > 65:\n",
    "    print(\"D\")\n",
    "elif grade > 72:\n",
    "    print(\"C\")\n",
    "elif grade > 79:\n",
    "    print(\"B\")\n",
    "elif grade > 89:\n",
    "    print(\"A\")\n",
    "else:\n",
    "    print(\"F\")"
   ]
  },
  {
   "cell_type": "markdown",
   "id": "ed2dadae",
   "metadata": {
    "slideshow": {
     "slide_type": "fragment"
    }
   },
   "source": [
    "Still incorrect - by using `if/elif/else` we now get a single letter grade, but the order of our tests leads to an incorrect answer."
   ]
  },
  {
   "cell_type": "code",
   "execution_count": null,
   "id": "030e9684",
   "metadata": {
    "execution": {
     "iopub.execute_input": "2023-09-11T02:05:27.854647Z",
     "iopub.status.busy": "2023-09-11T02:05:27.854390Z",
     "iopub.status.idle": "2023-09-11T02:05:27.858283Z",
     "shell.execute_reply": "2023-09-11T02:05:27.857707Z"
    },
    "slideshow": {
     "slide_type": "subslide"
    }
   },
   "outputs": [],
   "source": [
    "# Attempt 3\n",
    "grade = 81\n",
    "if grade > 89:\n",
    "    print(\"A\")\n",
    "elif grade > 79:\n",
    "    print(\"B\")\n",
    "elif grade > 72:\n",
    "    print(\"C\")\n",
    "elif grade > 65:\n",
    "    print(\"D\")\n",
    "else:\n",
    "    print(\"F\")"
   ]
  },
  {
   "cell_type": "markdown",
   "id": "520feac8",
   "metadata": {
    "slideshow": {
     "slide_type": "fragment"
    }
   },
   "source": [
    "Now we get a correct answer!"
   ]
  },
  {
   "cell_type": "markdown",
   "id": "022cefb1",
   "metadata": {
    "slideshow": {
     "slide_type": "subslide"
    }
   },
   "source": [
    "## More than one way to skin a cat\n",
    "\n",
    "Recall our first implementation, using only `if`s:"
   ]
  },
  {
   "cell_type": "code",
   "execution_count": null,
   "id": "cf96a41c",
   "metadata": {
    "execution": {
     "iopub.execute_input": "2023-09-11T02:05:27.883888Z",
     "iopub.status.busy": "2023-09-11T02:05:27.883641Z",
     "iopub.status.idle": "2023-09-11T02:05:27.887949Z",
     "shell.execute_reply": "2023-09-11T02:05:27.887346Z"
    },
    "slideshow": {
     "slide_type": "-"
    }
   },
   "outputs": [],
   "source": [
    "# Attempt 4\n",
    "grade = 81\n",
    "if grade <= 65:\n",
    "    print(\"F\")\n",
    "if grade >= 66 and grade <= 72:\n",
    "    print(\"D\")\n",
    "if grade >= 73 and grade <= 79:\n",
    "    print(\"C\")\n",
    "if grade >= 80 and grade <= 89:\n",
    "    print(\"B\")\n",
    "if grade >= 90:\n",
    "    print(\"A\")"
   ]
  },
  {
   "cell_type": "markdown",
   "id": "77a97d35",
   "metadata": {
    "slideshow": {
     "slide_type": "subslide"
    }
   },
   "source": [
    "## More than one way to skin a cat\n",
    "\n",
    "Is one better than the other?"
   ]
  },
  {
   "cell_type": "markdown",
   "id": "01c08fc2",
   "metadata": {
    "slideshow": {
     "slide_type": "fragment"
    }
   },
   "source": [
    "Both are correct for the purposes of this exercise.\n",
    "\n",
    "The if/elif/else version is slightly better style.\n",
    "  * An if/elif/else is guaranteed to execute exactly one case, which makes sense for bucketing a grade.\n",
    "  * The solution using only `if`s also has some logic duplicated - the upper and lower bounds are specified for each grade band. If the bands change, the code needs to be updated in 2 places."
   ]
  },
  {
   "cell_type": "markdown",
   "id": "f126d853",
   "metadata": {},
   "source": [
    "## [Slido](https://wall.sli.do/event/nL7RNpye9SGtTzAPwEprpq?section=fa767b13-221d-4960-ab2d-be2a418d9b39)"
   ]
  },
  {
   "cell_type": "markdown",
   "id": "38a9ea06",
   "metadata": {
    "slideshow": {
     "slide_type": "subslide"
    }
   },
   "source": [
    "# Example 2: Allergies"
   ]
  },
  {
   "cell_type": "code",
   "execution_count": null,
   "id": "ad6096d9",
   "metadata": {
    "execution": {
     "iopub.execute_input": "2023-09-11T02:05:27.891165Z",
     "iopub.status.busy": "2023-09-11T02:05:27.890904Z",
     "iopub.status.idle": "2023-09-11T02:05:27.894876Z",
     "shell.execute_reply": "2023-09-11T02:05:27.894235Z"
    }
   },
   "outputs": [],
   "source": [
    "# Attempt 1\n",
    "\n",
    "nuts = \"n\"\n",
    "shellfish = \"y\"\n",
    "gluten = \"n\"\n",
    "pollen = \"n\"\n",
    "\n",
    "print(\"Don't feed me the following types of food: \")\n",
    "if nuts == \"y\":\n",
    "    print(\"nuts\")\n",
    "elif shellfish == \"y\":\n",
    "    print(\"shellfish\")\n",
    "elif gluten == \"y\":\n",
    "    print(\"gluten\")\n",
    "else:\n",
    "    print(\"pollen\")"
   ]
  },
  {
   "cell_type": "markdown",
   "id": "138578b1",
   "metadata": {
    "slideshow": {
     "slide_type": "fragment"
    }
   },
   "source": [
    "Looks ok... but wait... Can you spot the bug?"
   ]
  },
  {
   "cell_type": "markdown",
   "id": "a6545175",
   "metadata": {
    "slideshow": {
     "slide_type": "fragment"
    }
   },
   "source": [
    "This code is not correct with more than one allergy."
   ]
  },
  {
   "cell_type": "code",
   "execution_count": null,
   "id": "9e9699c8",
   "metadata": {
    "execution": {
     "iopub.execute_input": "2023-09-11T02:05:27.898211Z",
     "iopub.status.busy": "2023-09-11T02:05:27.897958Z",
     "iopub.status.idle": "2023-09-11T02:05:27.902041Z",
     "shell.execute_reply": "2023-09-11T02:05:27.901448Z"
    },
    "slideshow": {
     "slide_type": "subslide"
    }
   },
   "outputs": [],
   "source": [
    "# Attempt 1\n",
    "\n",
    "nuts = \"y\"\n",
    "shellfish = \"y\"\n",
    "gluten = \"n\"\n",
    "pollen = \"n\"\n",
    "\n",
    "print(\"Don't feed me the following types of food: \")\n",
    "if nuts == \"y\":\n",
    "    print(\"nuts\")\n",
    "elif shellfish == \"y\":\n",
    "    print(\"shellfish\")\n",
    "elif gluten == \"y\":\n",
    "    print(\"gluten\")\n",
    "else:\n",
    "    print(\"pollen\")"
   ]
  },
  {
   "cell_type": "markdown",
   "id": "976565c1",
   "metadata": {
    "slideshow": {
     "slide_type": "fragment"
    }
   },
   "source": [
    "The if/elif/else structure here doesn't make sense. If more than one allergy is present, the code will need to execute more than one of the cases."
   ]
  },
  {
   "cell_type": "code",
   "execution_count": null,
   "id": "6c0d923a",
   "metadata": {
    "execution": {
     "iopub.execute_input": "2023-09-11T02:05:27.905360Z",
     "iopub.status.busy": "2023-09-11T02:05:27.905093Z",
     "iopub.status.idle": "2023-09-11T02:05:27.909210Z",
     "shell.execute_reply": "2023-09-11T02:05:27.908613Z"
    },
    "slideshow": {
     "slide_type": "subslide"
    }
   },
   "outputs": [],
   "source": [
    "# Attempt 2\n",
    "\n",
    "nuts = \"y\"\n",
    "shellfish = \"n\"\n",
    "gluten = \"y\"\n",
    "pollen = \"n\"\n",
    "\n",
    "print(\"Don't feed me the following types of food: \")\n",
    "if nuts == \"y\":\n",
    "    print(\"nuts\")\n",
    "if shellfish == \"y\":\n",
    "    print(\"shellfish\")\n",
    "if gluten == \"y\":\n",
    "    print(\"gluten\")\n",
    "if pollen == \"y\":\n",
    "    print(\"pollen\")"
   ]
  },
  {
   "cell_type": "markdown",
   "id": "fc2a7f0c",
   "metadata": {},
   "source": [
    "In this case, each test is independent. if/if/if makes sense."
   ]
  },
  {
   "cell_type": "markdown",
   "id": "9529f0d3",
   "metadata": {
    "slideshow": {
     "slide_type": "subslide"
    }
   },
   "source": [
    "# Example 3: Long jump\n"
   ]
  },
  {
   "cell_type": "code",
   "execution_count": null,
   "id": "7d473b92",
   "metadata": {
    "execution": {
     "iopub.execute_input": "2023-09-11T02:05:28.263866Z",
     "iopub.status.busy": "2023-09-11T02:05:28.263522Z",
     "iopub.status.idle": "2023-09-11T02:05:28.268966Z",
     "shell.execute_reply": "2023-09-11T02:05:28.267887Z"
    },
    "slideshow": {
     "slide_type": "-"
    }
   },
   "outputs": [],
   "source": [
    "# Attempt 1\n",
    "world_record = 8.95\n",
    "jump_distance = 9.01\n",
    "officially_verified = \"y\"\n",
    "\n",
    "if jump_distance > world_record and officially_verified == \"y\":\n",
    "    print(\"Congratulations, you just set a new world long jump record!\")\n",
    "elif jump_distance > world_record:\n",
    "        print(\"Great jump, but it's not a record without verification.\")\n",
    "else:\n",
    "    print(\"Good try, but not a record\")"
   ]
  },
  {
   "cell_type": "markdown",
   "id": "eb58b6ae",
   "metadata": {
    "slideshow": {
     "slide_type": "fragment"
    }
   },
   "source": [
    "This code is correct. However, there is a more readable way to structure it."
   ]
  },
  {
   "cell_type": "markdown",
   "id": "c66aea9a",
   "metadata": {
    "slideshow": {
     "slide_type": "subslide"
    }
   },
   "source": [
    "## Yet another way to skin a cat"
   ]
  },
  {
   "cell_type": "code",
   "execution_count": null,
   "id": "473d9e91",
   "metadata": {
    "execution": {
     "iopub.execute_input": "2023-09-11T02:05:28.272506Z",
     "iopub.status.busy": "2023-09-11T02:05:28.272171Z",
     "iopub.status.idle": "2023-09-11T02:05:28.276765Z",
     "shell.execute_reply": "2023-09-11T02:05:28.276037Z"
    }
   },
   "outputs": [],
   "source": [
    "world_record = 8.95\n",
    "jump_distance = 9.01\n",
    "officially_verified = \"y\"\n",
    "\n",
    "if jump_distance > world_record:\n",
    "    if officially_verified == \"y\":\n",
    "        print(\"Congratulations, you just set a new world long jump record!\")\n",
    "    else:\n",
    "        print(\"Great jump, but it's not a record without verification.\")\n",
    "else:\n",
    "    print(\"Good try, but not a record\")"
   ]
  },
  {
   "cell_type": "markdown",
   "id": "b9461431",
   "metadata": {
    "slideshow": {
     "slide_type": "fragment"
    }
   },
   "source": [
    "Conditional statements can be \"nested\" inside one another. For each level of nesting, the indentation level increases."
   ]
  },
  {
   "cell_type": "markdown",
   "id": "6e57798e",
   "metadata": {
    "slideshow": {
     "slide_type": "subslide"
    }
   },
   "source": [
    "# Code style\n",
    "\n",
    "With complex conditionals, there are often many different ways to represent the same logic. Try to pick a structure that maps correctly to the logic you need, but is also easy (for you and someone else) to understand. The shortest code is not always the best.\n",
    "\n",
    "As you gain more coding experience, your ability to balance conciseness, readability, and simplicity will improve."
   ]
  }
 ],
 "metadata": {
  "kernelspec": {
   "display_name": "Python 3 (ipykernel)",
   "language": "python",
   "name": "python3"
  },
  "language_info": {
   "codemirror_mode": {
    "name": "ipython",
    "version": 3
   },
   "file_extension": ".py",
   "mimetype": "text/x-python",
   "name": "python",
   "nbconvert_exporter": "python",
   "pygments_lexer": "ipython3",
   "version": "3.10.9"
  }
 },
 "nbformat": 4,
 "nbformat_minor": 5
}
