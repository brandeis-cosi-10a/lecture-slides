{
 "cells": [
  {
   "cell_type": "markdown",
   "id": "e04d6879",
   "metadata": {
    "slideshow": {
     "slide_type": "slide"
    }
   },
   "source": [
    "# Lists\n",
    "\n",
    "So far, we've been dealing with single values - integers, floats, strings.\n",
    "\n",
    "Today, we'll learn about new data type: lists!"
   ]
  },
  {
   "cell_type": "markdown",
   "id": "a239b34a",
   "metadata": {
    "slideshow": {
     "slide_type": "slide"
    }
   },
   "source": [
    "# Creating lists"
   ]
  },
  {
   "cell_type": "code",
   "execution_count": null,
   "id": "5f9bb1a4",
   "metadata": {
    "execution": {
     "iopub.execute_input": "2023-10-04T02:31:48.220285Z",
     "iopub.status.busy": "2023-10-04T02:31:48.219918Z",
     "iopub.status.idle": "2023-10-04T02:31:48.236500Z",
     "shell.execute_reply": "2023-10-04T02:31:48.235637Z"
    }
   },
   "outputs": [],
   "source": [
    "x = [2, 5, 7, 9]\n",
    "print(x)"
   ]
  },
  {
   "cell_type": "markdown",
   "id": "2d367a27",
   "metadata": {},
   "source": [
    "`x` holds a list with 4 items: the integers 2, 5, 7, and 9."
   ]
  },
  {
   "cell_type": "code",
   "execution_count": null,
   "id": "af9ce082",
   "metadata": {
    "execution": {
     "iopub.execute_input": "2023-10-04T02:31:48.240934Z",
     "iopub.status.busy": "2023-10-04T02:31:48.240606Z",
     "iopub.status.idle": "2023-10-04T02:31:48.244712Z",
     "shell.execute_reply": "2023-10-04T02:31:48.243931Z"
    }
   },
   "outputs": [],
   "source": [
    "y = []\n",
    "print(y)"
   ]
  },
  {
   "cell_type": "markdown",
   "id": "b692c650",
   "metadata": {},
   "source": [
    "`y` is an empty list"
   ]
  },
  {
   "cell_type": "code",
   "execution_count": null,
   "id": "f1a5c95c",
   "metadata": {
    "execution": {
     "iopub.execute_input": "2023-10-04T02:31:48.248266Z",
     "iopub.status.busy": "2023-10-04T02:31:48.247972Z",
     "iopub.status.idle": "2023-10-04T02:31:48.251866Z",
     "shell.execute_reply": "2023-10-04T02:31:48.251150Z"
    },
    "slideshow": {
     "slide_type": "subslide"
    }
   },
   "outputs": [],
   "source": [
    "z = [\"lists\", \"can hold\", \"any data type\"]\n",
    "print(z)"
   ]
  },
  {
   "cell_type": "markdown",
   "id": "fe4a7be7",
   "metadata": {},
   "source": [
    "`z` is a list holding 3 strings"
   ]
  },
  {
   "cell_type": "code",
   "execution_count": null,
   "id": "7a757884",
   "metadata": {
    "execution": {
     "iopub.execute_input": "2023-10-04T02:31:48.255226Z",
     "iopub.status.busy": "2023-10-04T02:31:48.254929Z",
     "iopub.status.idle": "2023-10-04T02:31:48.258559Z",
     "shell.execute_reply": "2023-10-04T02:31:48.257934Z"
    }
   },
   "outputs": [],
   "source": [
    "q = [1, 2.0, \"lists hold anything\", True]\n",
    "print(q)"
   ]
  },
  {
   "cell_type": "markdown",
   "id": "b9370229",
   "metadata": {},
   "source": [
    "`q` is a list with 4 items: an integer, a float, a string, and a boolean.\n",
    "\n",
    "Lists can hold a mix of different data types."
   ]
  },
  {
   "cell_type": "code",
   "execution_count": null,
   "id": "9e082738",
   "metadata": {
    "execution": {
     "iopub.execute_input": "2023-10-04T02:31:48.261922Z",
     "iopub.status.busy": "2023-10-04T02:31:48.261656Z",
     "iopub.status.idle": "2023-10-04T02:31:48.265281Z",
     "shell.execute_reply": "2023-10-04T02:31:48.264664Z"
    },
    "slideshow": {
     "slide_type": "subslide"
    }
   },
   "outputs": [],
   "source": [
    "r = [[1,2,3], [4,5,6]]\n",
    "print(r)"
   ]
  },
  {
   "cell_type": "markdown",
   "id": "aa6f5052",
   "metadata": {},
   "source": [
    "`r` is a list holding 2 lists, each of which hold 3 integers.\n",
    "\n",
    "If your brain just exploded a little, don't worry - we'll revisit nested lists."
   ]
  },
  {
   "cell_type": "markdown",
   "id": "9a3b8e88",
   "metadata": {
    "slideshow": {
     "slide_type": "slide"
    }
   },
   "source": [
    "# Accessing lists\n",
    "\n",
    "You can access items in a list by **index**.\n",
    "\n",
    "The indices are **0-based**: the first item in the list has index 0."
   ]
  },
  {
   "cell_type": "code",
   "execution_count": null,
   "id": "5fb9c9e1",
   "metadata": {
    "execution": {
     "iopub.execute_input": "2023-10-04T02:31:48.268634Z",
     "iopub.status.busy": "2023-10-04T02:31:48.268364Z",
     "iopub.status.idle": "2023-10-04T02:31:48.274714Z",
     "shell.execute_reply": "2023-10-04T02:31:48.274161Z"
    }
   },
   "outputs": [],
   "source": [
    "foods = [\"apple\", \"banana\", \"chocolate\"]\n",
    "foods[0]"
   ]
  },
  {
   "cell_type": "code",
   "execution_count": null,
   "id": "5098c573",
   "metadata": {
    "execution": {
     "iopub.execute_input": "2023-10-04T02:31:48.277836Z",
     "iopub.status.busy": "2023-10-04T02:31:48.277570Z",
     "iopub.status.idle": "2023-10-04T02:31:48.281883Z",
     "shell.execute_reply": "2023-10-04T02:31:48.281137Z"
    }
   },
   "outputs": [],
   "source": [
    "foods[2]"
   ]
  },
  {
   "cell_type": "markdown",
   "id": "5e133222",
   "metadata": {
    "slideshow": {
     "slide_type": "subslide"
    }
   },
   "source": [
    "Accessing an element outside the bounds of the array produces an error:"
   ]
  },
  {
   "cell_type": "code",
   "execution_count": null,
   "id": "89cf4a8d",
   "metadata": {
    "execution": {
     "iopub.execute_input": "2023-10-04T02:31:48.284994Z",
     "iopub.status.busy": "2023-10-04T02:31:48.284722Z",
     "iopub.status.idle": "2023-10-04T02:31:48.551659Z",
     "shell.execute_reply": "2023-10-04T02:31:48.550975Z"
    },
    "tags": [
     "raises-exception"
    ]
   },
   "outputs": [],
   "source": [
    "foods = [\"apple\", \"banana\", \"chocolate\"]\n",
    "foods[3]"
   ]
  },
  {
   "cell_type": "markdown",
   "id": "e3cebf48",
   "metadata": {
    "slideshow": {
     "slide_type": "subslide"
    }
   },
   "source": [
    "You can use negative indices to count backwards from the end:"
   ]
  },
  {
   "cell_type": "code",
   "execution_count": null,
   "id": "9fdfe380",
   "metadata": {
    "execution": {
     "iopub.execute_input": "2023-10-04T02:31:48.555207Z",
     "iopub.status.busy": "2023-10-04T02:31:48.554913Z",
     "iopub.status.idle": "2023-10-04T02:31:48.559847Z",
     "shell.execute_reply": "2023-10-04T02:31:48.559203Z"
    }
   },
   "outputs": [],
   "source": [
    "foods = [\"apple\", \"banana\", \"chocolate\"]\n",
    "foods[-2]"
   ]
  },
  {
   "cell_type": "code",
   "execution_count": null,
   "id": "67d639a4",
   "metadata": {
    "execution": {
     "iopub.execute_input": "2023-10-04T02:31:48.563194Z",
     "iopub.status.busy": "2023-10-04T02:31:48.562901Z",
     "iopub.status.idle": "2023-10-04T02:31:48.567490Z",
     "shell.execute_reply": "2023-10-04T02:31:48.566904Z"
    }
   },
   "outputs": [],
   "source": [
    "foods[-3]"
   ]
  },
  {
   "cell_type": "markdown",
   "id": "ea0fa86a",
   "metadata": {
    "slideshow": {
     "slide_type": "slide"
    }
   },
   "source": [
    "# Slicing\n",
    "\n",
    "You can **slice** lists - create a new list from a subset of a list.\n",
    "\n",
    "Slice from the beginning of the list up to an index with `[:n]`:"
   ]
  },
  {
   "cell_type": "code",
   "execution_count": null,
   "id": "0c7e7558",
   "metadata": {
    "execution": {
     "iopub.execute_input": "2023-10-04T02:31:48.570520Z",
     "iopub.status.busy": "2023-10-04T02:31:48.570261Z",
     "iopub.status.idle": "2023-10-04T02:31:48.573474Z",
     "shell.execute_reply": "2023-10-04T02:31:48.572826Z"
    }
   },
   "outputs": [],
   "source": [
    "mountains = [\"everest\", \"whitney\", \"washington\", \"denali\", \"rainier\"]"
   ]
  },
  {
   "cell_type": "code",
   "execution_count": null,
   "id": "fbbd26ca",
   "metadata": {
    "execution": {
     "iopub.execute_input": "2023-10-04T02:31:48.576597Z",
     "iopub.status.busy": "2023-10-04T02:31:48.576332Z",
     "iopub.status.idle": "2023-10-04T02:31:48.580568Z",
     "shell.execute_reply": "2023-10-04T02:31:48.580062Z"
    }
   },
   "outputs": [],
   "source": [
    "# take everything up to (but not including) index 2\n",
    "mountains[:2]"
   ]
  },
  {
   "cell_type": "markdown",
   "id": "edbf204f",
   "metadata": {},
   "source": [
    "Slice from an index to the end of the list with `[n:]`:"
   ]
  },
  {
   "cell_type": "code",
   "execution_count": null,
   "id": "7af6ac76",
   "metadata": {
    "execution": {
     "iopub.execute_input": "2023-10-04T02:31:48.583404Z",
     "iopub.status.busy": "2023-10-04T02:31:48.583168Z",
     "iopub.status.idle": "2023-10-04T02:31:48.586468Z",
     "shell.execute_reply": "2023-10-04T02:31:48.585965Z"
    }
   },
   "outputs": [],
   "source": [
    "# drop the first item in the list\n",
    "new_mountains = mountains[1:]\n",
    "print(mountains)\n",
    "print(new_mountains)"
   ]
  },
  {
   "cell_type": "markdown",
   "id": "76c3775d",
   "metadata": {
    "slideshow": {
     "slide_type": "subslide"
    }
   },
   "source": [
    "Slice from the middle by providing a start and end index `[m:n]`:"
   ]
  },
  {
   "cell_type": "code",
   "execution_count": null,
   "id": "415fa705",
   "metadata": {
    "execution": {
     "iopub.execute_input": "2023-10-04T02:31:48.589346Z",
     "iopub.status.busy": "2023-10-04T02:31:48.589108Z",
     "iopub.status.idle": "2023-10-04T02:31:48.593257Z",
     "shell.execute_reply": "2023-10-04T02:31:48.592668Z"
    }
   },
   "outputs": [],
   "source": [
    "mountains = [\"everest\", \"whitney\", \"washington\", \"denali\", \"rainier\"]\n",
    "# take indices 1, 2\n",
    "mountains[1:3]"
   ]
  },
  {
   "cell_type": "markdown",
   "id": "fb8abeba",
   "metadata": {},
   "source": [
    "You can even use negative indices when slicing:"
   ]
  },
  {
   "cell_type": "code",
   "execution_count": null,
   "id": "5aa7024d",
   "metadata": {
    "execution": {
     "iopub.execute_input": "2023-10-04T02:31:48.596194Z",
     "iopub.status.busy": "2023-10-04T02:31:48.595943Z",
     "iopub.status.idle": "2023-10-04T02:31:48.599906Z",
     "shell.execute_reply": "2023-10-04T02:31:48.599358Z"
    }
   },
   "outputs": [],
   "source": [
    "# take everything up to the last 2 items\n",
    "mountains[:-2]"
   ]
  },
  {
   "cell_type": "code",
   "execution_count": null,
   "id": "d33feba6",
   "metadata": {
    "execution": {
     "iopub.execute_input": "2023-10-04T02:31:48.602689Z",
     "iopub.status.busy": "2023-10-04T02:31:48.602449Z",
     "iopub.status.idle": "2023-10-04T02:31:48.606451Z",
     "shell.execute_reply": "2023-10-04T02:31:48.605861Z"
    }
   },
   "outputs": [],
   "source": [
    "# drop the first and last items\n",
    "mountains[1:-1]"
   ]
  },
  {
   "cell_type": "markdown",
   "id": "53d0022e",
   "metadata": {
    "slideshow": {
     "slide_type": "slide"
    }
   },
   "source": [
    "# Length\n",
    "\n",
    "The `len()` function gives you the length of a list:"
   ]
  },
  {
   "cell_type": "code",
   "execution_count": null,
   "id": "d1463495",
   "metadata": {
    "execution": {
     "iopub.execute_input": "2023-10-04T02:31:48.609660Z",
     "iopub.status.busy": "2023-10-04T02:31:48.609392Z",
     "iopub.status.idle": "2023-10-04T02:31:48.613822Z",
     "shell.execute_reply": "2023-10-04T02:31:48.613307Z"
    }
   },
   "outputs": [],
   "source": [
    "mountains = [\"everest\", \"whitney\", \"washington\", \"denali\", \"rainier\"]\n",
    "len(mountains)"
   ]
  },
  {
   "cell_type": "markdown",
   "id": "6c9ffbd4",
   "metadata": {
    "slideshow": {
     "slide_type": "slide"
    }
   },
   "source": [
    "# Modifying lists\n",
    "\n",
    "You can add, remove, and change elements.\n",
    "\n",
    "Assigning to an element changes it in place:"
   ]
  },
  {
   "cell_type": "code",
   "execution_count": null,
   "id": "4005901b",
   "metadata": {
    "execution": {
     "iopub.execute_input": "2023-10-04T02:31:48.616757Z",
     "iopub.status.busy": "2023-10-04T02:31:48.616500Z",
     "iopub.status.idle": "2023-10-04T02:31:48.620131Z",
     "shell.execute_reply": "2023-10-04T02:31:48.619560Z"
    }
   },
   "outputs": [],
   "source": [
    "mountains = [\"rushmore\", \"whitney\", \"washington\", \"denali\", \"rainier\"]\n",
    "mountains[0] = \"everest\"\n",
    "print(mountains)"
   ]
  },
  {
   "cell_type": "markdown",
   "id": "2d45454e",
   "metadata": {
    "slideshow": {
     "slide_type": "subslide"
    }
   },
   "source": [
    "The `append()` method adds an element to the end:"
   ]
  },
  {
   "cell_type": "code",
   "execution_count": null,
   "id": "663cabfd",
   "metadata": {
    "execution": {
     "iopub.execute_input": "2023-10-04T02:31:48.622991Z",
     "iopub.status.busy": "2023-10-04T02:31:48.622749Z",
     "iopub.status.idle": "2023-10-04T02:31:48.626195Z",
     "shell.execute_reply": "2023-10-04T02:31:48.625646Z"
    }
   },
   "outputs": [],
   "source": [
    "mountains = [\"everest\", \"whitney\", \"washington\", \"denali\", \"rainier\"]\n",
    "mountains.append(\"kilimanjaro\")\n",
    "print(mountains)"
   ]
  },
  {
   "cell_type": "markdown",
   "id": "d8f20e3d",
   "metadata": {
    "slideshow": {
     "slide_type": "subslide"
    }
   },
   "source": [
    "The `insert()` method will insert at a given index:"
   ]
  },
  {
   "cell_type": "code",
   "execution_count": null,
   "id": "07f6cdbd",
   "metadata": {
    "execution": {
     "iopub.execute_input": "2023-10-04T02:31:48.629077Z",
     "iopub.status.busy": "2023-10-04T02:31:48.628822Z",
     "iopub.status.idle": "2023-10-04T02:31:48.632202Z",
     "shell.execute_reply": "2023-10-04T02:31:48.631672Z"
    }
   },
   "outputs": [],
   "source": [
    "mountains = [\"everest\", \"whitney\", \"washington\", \"denali\", \"rainier\"]\n",
    "mountains.insert(1, \"kilimanjaro\")\n",
    "print(mountains)"
   ]
  },
  {
   "cell_type": "markdown",
   "id": "7fef35c1",
   "metadata": {
    "slideshow": {
     "slide_type": "subslide"
    }
   },
   "source": [
    "A few ways to delete items:\n",
    "\n",
    "The `del` keyword:"
   ]
  },
  {
   "cell_type": "code",
   "execution_count": null,
   "id": "5829b112",
   "metadata": {
    "execution": {
     "iopub.execute_input": "2023-10-04T02:31:48.635159Z",
     "iopub.status.busy": "2023-10-04T02:31:48.634923Z",
     "iopub.status.idle": "2023-10-04T02:31:48.638312Z",
     "shell.execute_reply": "2023-10-04T02:31:48.637745Z"
    }
   },
   "outputs": [],
   "source": [
    "mountains = [\"everest\", \"whitney\", \"washington\", \"denali\", \"rainier\"]\n",
    "del mountains[3] \n",
    "print(mountains)"
   ]
  },
  {
   "cell_type": "markdown",
   "id": "f2eb6228",
   "metadata": {},
   "source": [
    "The `pop()` method, which takes the index to remove, and returns the element that was removed:"
   ]
  },
  {
   "cell_type": "code",
   "execution_count": 4,
   "id": "be7d2a02",
   "metadata": {
    "execution": {
     "iopub.execute_input": "2023-10-04T02:31:48.641313Z",
     "iopub.status.busy": "2023-10-04T02:31:48.640904Z",
     "iopub.status.idle": "2023-10-04T02:31:48.658109Z",
     "shell.execute_reply": "2023-10-04T02:31:48.656889Z"
    }
   },
   "outputs": [
    {
     "name": "stdout",
     "output_type": "stream",
     "text": [
      "Removed washington\n",
      "List after the pop: ['everest', 'whitney', 'denali', 'rainier']\n"
     ]
    }
   ],
   "source": [
    "mountains = [\"everest\", \"whitney\", \"washington\", \"denali\", \"rainier\"]\n",
    "popped = mountains.pop(2)\n",
    "print(f\"Removed {popped}\")\n",
    "print(f\"List after the pop: {mountains}\")"
   ]
  },
  {
   "cell_type": "markdown",
   "id": "80288aa7",
   "metadata": {
    "slideshow": {
     "slide_type": "subslide"
    }
   },
   "source": [
    "Remove everything with the `clear()` method"
   ]
  },
  {
   "cell_type": "code",
   "execution_count": null,
   "id": "b61d81af",
   "metadata": {
    "execution": {
     "iopub.execute_input": "2023-10-04T02:31:48.661646Z",
     "iopub.status.busy": "2023-10-04T02:31:48.661349Z",
     "iopub.status.idle": "2023-10-04T02:31:48.665625Z",
     "shell.execute_reply": "2023-10-04T02:31:48.664943Z"
    }
   },
   "outputs": [],
   "source": [
    "mountains = [\"everest\", \"whitney\", \"washington\", \"denali\", \"rainier\"]\n",
    "mountains.clear()\n",
    "print(mountains)"
   ]
  },
  {
   "cell_type": "markdown",
   "id": "723a14c5",
   "metadata": {
    "slideshow": {
     "slide_type": "subslide"
    }
   },
   "source": [
    "Concatenate 2 lists with `+`:"
   ]
  },
  {
   "cell_type": "code",
   "execution_count": null,
   "id": "b7c474a9",
   "metadata": {
    "execution": {
     "iopub.execute_input": "2023-10-04T02:31:48.669070Z",
     "iopub.status.busy": "2023-10-04T02:31:48.668813Z",
     "iopub.status.idle": "2023-10-04T02:31:48.672233Z",
     "shell.execute_reply": "2023-10-04T02:31:48.671695Z"
    }
   },
   "outputs": [],
   "source": [
    "a = [1,2,3]\n",
    "b = [4,5,6]\n",
    "print(a + b)"
   ]
  },
  {
   "cell_type": "markdown",
   "id": "a17513e8",
   "metadata": {
    "slideshow": {
     "slide_type": "slide"
    }
   },
   "source": [
    "# Aside: method vs function\n",
    "\n",
    "We just reviewed a few `list` **methods**. Methods are functions that are **called on** a value.\n",
    "\n",
    "Methods are called on a value using a `.`: `some_variable.some_method()`\n",
    "\n",
    "For example: to remove the last item from a list named `spam`, call the `pop` method on it: `spam.pop()`.\n",
    "\n",
    "Lists have many useful methods (we covered most, but not all, of them): [list method documentation](https://docs.python.org/3/tutorial/datastructures.html)\n",
    "\n",
    "We'll revisit methods later in the term, all you need to know for now is the syntax for calling them."
   ]
  },
  {
   "cell_type": "markdown",
   "id": "a1b3471e",
   "metadata": {
    "slideshow": {
     "slide_type": "slide"
    }
   },
   "source": [
    "# Example\n",
    "\n",
    "Build a **cat**alog (hah): a program that prompts the user for the names of their cats, and prints them all out.\n",
    "\n"
   ]
  },
  {
   "cell_type": "markdown",
   "id": "072c925a",
   "metadata": {
    "slideshow": {
     "slide_type": "subslide"
    }
   },
   "source": [
    "Before lists, the best we could do is something like this, where we have a maximum number of cats, and store each one in its own variable:"
   ]
  },
  {
   "cell_type": "code",
   "execution_count": null,
   "id": "99386b33",
   "metadata": {
    "execution": {
     "iopub.execute_input": "2023-10-04T02:31:48.675519Z",
     "iopub.status.busy": "2023-10-04T02:31:48.675251Z",
     "iopub.status.idle": "2023-10-04T02:31:48.750174Z",
     "shell.execute_reply": "2023-10-04T02:31:48.749364Z"
    },
    "tags": [
     "remove-output"
    ]
   },
   "outputs": [],
   "source": [
    "print('Enter the name of cat 1:')\n",
    "catName1 = input()\n",
    "print('Enter the name of cat 2:')\n",
    "catName2 = input()\n",
    "print('Enter the name of cat 3:')\n",
    "catName3 = input()\n",
    "print('Enter the name of cat 4:')\n",
    "catName4 = input()\n",
    "print('Enter the name of cat 5:')\n",
    "catName5 = input()\n",
    "print('Enter the name of cat 6:')\n",
    "catName6 = input()\n",
    "print('The cat names are:')\n",
    "print(catName1 + ' ' + catName2 + ' ' + catName3 + ' ' + catName4 + ' ' +\n",
    "catName5 + ' ' + catName6)"
   ]
  },
  {
   "cell_type": "markdown",
   "id": "9e2a17f4",
   "metadata": {
    "slideshow": {
     "slide_type": "subslide"
    }
   },
   "source": [
    "Lists improve this significantly, and free us up from a fixed number of cats.\n",
    "\n",
    "We will keep a list of cat names, and add to it each time the user enters one. At the end, we will print out the list."
   ]
  },
  {
   "cell_type": "code",
   "execution_count": 1,
   "id": "9cd530fe",
   "metadata": {
    "execution": {
     "iopub.execute_input": "2023-10-04T02:31:48.753982Z",
     "iopub.status.busy": "2023-10-04T02:31:48.753662Z",
     "iopub.status.idle": "2023-10-04T02:31:48.776982Z",
     "shell.execute_reply": "2023-10-04T02:31:48.775844Z"
    },
    "scrolled": true,
    "slideshow": {
     "slide_type": "-"
    },
    "tags": [
     "remove-output"
    ]
   },
   "outputs": [
    {
     "name": "stdout",
     "output_type": "stream",
     "text": [
      "Enter the name of cat 1 (Or enter nothing to stop):\n",
      "fk\n",
      "Enter the name of cat 2 (Or enter nothing to stop):\n",
      "f\n",
      "Enter the name of cat 3 (Or enter nothing to stop):\n",
      "f\n",
      "Enter the name of cat 4 (Or enter nothing to stop):\n",
      "f\n",
      "Enter the name of cat 5 (Or enter nothing to stop):\n",
      "\n",
      "The cat names are: ['fk', 'f', 'f', 'f']\n"
     ]
    }
   ],
   "source": [
    "catNames = []\n",
    "while True:\n",
    "    number_of_cats_so_far = len(catNames)\n",
    "    \n",
    "    print('Enter the name of cat ' + str(number_of_cats_so_far + 1) +\n",
    "      ' (Or enter nothing to stop):')\n",
    "    name = input()\n",
    "    if name == '':\n",
    "        break\n",
    "    catNames.append(name)\n",
    "\n",
    "print(f\"The cat names are: {catNames}\")"
   ]
  }
 ],
 "metadata": {
  "kernelspec": {
   "display_name": "Python 3 (ipykernel)",
   "language": "python",
   "name": "python3"
  },
  "language_info": {
   "codemirror_mode": {
    "name": "ipython",
    "version": 3
   },
   "file_extension": ".py",
   "mimetype": "text/x-python",
   "name": "python",
   "nbconvert_exporter": "python",
   "pygments_lexer": "ipython3",
   "version": "3.10.9"
  }
 },
 "nbformat": 4,
 "nbformat_minor": 5
}
