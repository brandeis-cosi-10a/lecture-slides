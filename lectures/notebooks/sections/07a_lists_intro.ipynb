{
 "cells": [
  {
   "cell_type": "markdown",
   "id": "e04d6879",
   "metadata": {
    "slideshow": {
     "slide_type": "slide"
    }
   },
   "source": [
    "# Lists\n",
    "\n",
    "So far, we've been dealing with single values - integers, floats, strings.\n",
    "\n",
    "Today, we'll learn about new data type: lists!"
   ]
  },
  {
   "cell_type": "markdown",
   "id": "a239b34a",
   "metadata": {
    "slideshow": {
     "slide_type": "slide"
    }
   },
   "source": [
    "# Creating lists"
   ]
  },
  {
   "cell_type": "code",
   "execution_count": null,
   "id": "5f9bb1a4",
   "metadata": {},
   "outputs": [],
   "source": [
    "x = [2, 5, 7, 9]\n",
    "print(x)"
   ]
  },
  {
   "cell_type": "markdown",
   "id": "2d367a27",
   "metadata": {},
   "source": [
    "`x` holds a list with 4 items: the integers 2, 5, 7, and 9."
   ]
  },
  {
   "cell_type": "code",
   "execution_count": null,
   "id": "af9ce082",
   "metadata": {},
   "outputs": [],
   "source": [
    "y = []\n",
    "print(y)"
   ]
  },
  {
   "cell_type": "markdown",
   "id": "b692c650",
   "metadata": {},
   "source": [
    "`y` is an empty list"
   ]
  },
  {
   "cell_type": "code",
   "execution_count": null,
   "id": "f1a5c95c",
   "metadata": {
    "slideshow": {
     "slide_type": "subslide"
    }
   },
   "outputs": [],
   "source": [
    "z = [\"lists\", \"can hold\", \"any data type\"]\n",
    "print(z)"
   ]
  },
  {
   "cell_type": "markdown",
   "id": "fe4a7be7",
   "metadata": {},
   "source": [
    "`z` is a list holding 3 strings"
   ]
  },
  {
   "cell_type": "code",
   "execution_count": null,
   "id": "7a757884",
   "metadata": {},
   "outputs": [],
   "source": [
    "q = [1, 2.0, \"lists hold anything\", True]\n",
    "print(q)"
   ]
  },
  {
   "cell_type": "markdown",
   "id": "b9370229",
   "metadata": {},
   "source": [
    "`q` is a list with 4 items: an integer, a float, a string, and a boolean.\n",
    "\n",
    "Lists can hold a mix of different data types."
   ]
  },
  {
   "cell_type": "code",
   "execution_count": null,
   "id": "9e082738",
   "metadata": {
    "slideshow": {
     "slide_type": "subslide"
    }
   },
   "outputs": [],
   "source": [
    "r = [[1,2,3], [4,5,6]]\n",
    "print(r)"
   ]
  },
  {
   "cell_type": "markdown",
   "id": "aa6f5052",
   "metadata": {},
   "source": [
    "`r` is a list holding 2 lists, each of which hold 3 integers.\n",
    "\n",
    "If your brain just exploded a little, don't worry - we'll revisit nested lists."
   ]
  },
  {
   "cell_type": "markdown",
   "id": "9a3b8e88",
   "metadata": {
    "slideshow": {
     "slide_type": "slide"
    }
   },
   "source": [
    "# Accessing lists\n",
    "\n",
    "You can access items in a list by **index**.\n",
    "\n",
    "The indices are **0-based**: the first item in the list has index 0."
   ]
  },
  {
   "cell_type": "code",
   "execution_count": null,
   "id": "5fb9c9e1",
   "metadata": {},
   "outputs": [],
   "source": [
    "foods = [\"apple\", \"banana\", \"chocolate\"]\n",
    "foods[0]"
   ]
  },
  {
   "cell_type": "code",
   "execution_count": null,
   "id": "5098c573",
   "metadata": {},
   "outputs": [],
   "source": [
    "foods[2]"
   ]
  },
  {
   "cell_type": "markdown",
   "id": "5e133222",
   "metadata": {
    "slideshow": {
     "slide_type": "subslide"
    }
   },
   "source": [
    "Accessing an element outside the bounds of the array produces an error:"
   ]
  },
  {
   "cell_type": "code",
   "execution_count": null,
   "id": "89cf4a8d",
   "metadata": {
    "tags": [
     "raises-exception"
    ]
   },
   "outputs": [],
   "source": [
    "foods = [\"apple\", \"banana\", \"chocolate\"]\n",
    "foods[3]"
   ]
  },
  {
   "cell_type": "markdown",
   "id": "e3cebf48",
   "metadata": {
    "slideshow": {
     "slide_type": "subslide"
    }
   },
   "source": [
    "You can use negative indices to count backwards from the end:"
   ]
  },
  {
   "cell_type": "code",
   "execution_count": null,
   "id": "9fdfe380",
   "metadata": {},
   "outputs": [],
   "source": [
    "foods = [\"apple\", \"banana\", \"chocolate\"]\n",
    "foods[-2]"
   ]
  },
  {
   "cell_type": "code",
   "execution_count": null,
   "id": "67d639a4",
   "metadata": {},
   "outputs": [],
   "source": [
    "foods[-3]"
   ]
  },
  {
   "cell_type": "markdown",
   "id": "ea0fa86a",
   "metadata": {
    "slideshow": {
     "slide_type": "slide"
    }
   },
   "source": [
    "# Slicing\n",
    "\n",
    "You can **slice** lists - create a new list from a subset of a list.\n",
    "\n",
    "Slice from the beginning of the list up to an index with `[:n]`:"
   ]
  },
  {
   "cell_type": "code",
   "execution_count": null,
   "id": "0c7e7558",
   "metadata": {},
   "outputs": [],
   "source": [
    "mountains = [\"everest\", \"whitney\", \"washington\", \"denali\", \"rainier\"]"
   ]
  },
  {
   "cell_type": "code",
   "execution_count": null,
   "id": "fbbd26ca",
   "metadata": {},
   "outputs": [],
   "source": [
    "# take everything up to (but not including) index 2\n",
    "mountains[:2]"
   ]
  },
  {
   "cell_type": "markdown",
   "id": "edbf204f",
   "metadata": {},
   "source": [
    "Slice from an index to the end of the list with `[n:]`:"
   ]
  },
  {
   "cell_type": "code",
   "execution_count": null,
   "id": "7af6ac76",
   "metadata": {},
   "outputs": [],
   "source": [
    "# drop the first item in the list\n",
    "new_mountains = mountains[1:]\n",
    "print(mountains)\n",
    "print(new_mountains)"
   ]
  },
  {
   "cell_type": "markdown",
   "id": "76c3775d",
   "metadata": {
    "slideshow": {
     "slide_type": "subslide"
    }
   },
   "source": [
    "Slice from the middle by providing a start and end index `[m:n]`:"
   ]
  },
  {
   "cell_type": "code",
   "execution_count": null,
   "id": "415fa705",
   "metadata": {},
   "outputs": [],
   "source": [
    "mountains = [\"everest\", \"whitney\", \"washington\", \"denali\", \"rainier\"]\n",
    "# take indices 1, 2\n",
    "mountains[1:3]"
   ]
  },
  {
   "cell_type": "markdown",
   "id": "fb8abeba",
   "metadata": {},
   "source": [
    "You can even use negative indices when slicing:"
   ]
  },
  {
   "cell_type": "code",
   "execution_count": null,
   "id": "5aa7024d",
   "metadata": {},
   "outputs": [],
   "source": [
    "# take everything up to the last 2 items\n",
    "mountains[:-2]"
   ]
  },
  {
   "cell_type": "code",
   "execution_count": null,
   "id": "d33feba6",
   "metadata": {},
   "outputs": [],
   "source": [
    "# drop the first and last items\n",
    "mountains[1:-1]"
   ]
  },
  {
   "cell_type": "markdown",
   "id": "53d0022e",
   "metadata": {
    "slideshow": {
     "slide_type": "slide"
    }
   },
   "source": [
    "# Length\n",
    "\n",
    "The `len()` function gives you the length of a list:"
   ]
  },
  {
   "cell_type": "code",
   "execution_count": null,
   "id": "d1463495",
   "metadata": {},
   "outputs": [],
   "source": [
    "mountains = [\"everest\", \"whitney\", \"washington\", \"denali\", \"rainier\"]\n",
    "len(mountains)"
   ]
  },
  {
   "cell_type": "markdown",
   "id": "6c9ffbd4",
   "metadata": {
    "slideshow": {
     "slide_type": "slide"
    }
   },
   "source": [
    "# Modifying lists\n",
    "\n",
    "You can add, remove, and change elements.\n",
    "\n",
    "Assigning to an element changes it in place:"
   ]
  },
  {
   "cell_type": "code",
   "execution_count": null,
   "id": "4005901b",
   "metadata": {},
   "outputs": [],
   "source": [
    "mountains = [\"rushmore\", \"whitney\", \"washington\", \"denali\", \"rainier\"]\n",
    "mountains[0] = \"everest\"\n",
    "print(mountains)"
   ]
  },
  {
   "cell_type": "markdown",
   "id": "2d45454e",
   "metadata": {
    "slideshow": {
     "slide_type": "subslide"
    }
   },
   "source": [
    "The `append()` method adds an element to the end:"
   ]
  },
  {
   "cell_type": "code",
   "execution_count": null,
   "id": "663cabfd",
   "metadata": {},
   "outputs": [],
   "source": [
    "mountains = [\"everest\", \"whitney\", \"washington\", \"denali\", \"rainier\"]\n",
    "mountains.append(\"kilimanjaro\")\n",
    "print(mountains)"
   ]
  },
  {
   "cell_type": "markdown",
   "id": "d8f20e3d",
   "metadata": {
    "slideshow": {
     "slide_type": "subslide"
    }
   },
   "source": [
    "The `insert()` method will insert at a given index:"
   ]
  },
  {
   "cell_type": "code",
   "execution_count": null,
   "id": "07f6cdbd",
   "metadata": {},
   "outputs": [],
   "source": [
    "mountains = [\"everest\", \"whitney\", \"washington\", \"denali\", \"rainier\"]\n",
    "mountains.insert(1, \"kilimanjaro\")\n",
    "print(mountains)"
   ]
  },
  {
   "cell_type": "markdown",
   "id": "7fef35c1",
   "metadata": {
    "slideshow": {
     "slide_type": "subslide"
    }
   },
   "source": [
    "A few ways to delete items:\n",
    "\n",
    "The `del` keyword:"
   ]
  },
  {
   "cell_type": "code",
   "execution_count": null,
   "id": "5829b112",
   "metadata": {},
   "outputs": [],
   "source": [
    "mountains = [\"everest\", \"whitney\", \"washington\", \"denali\", \"rainier\"]\n",
    "del mountains[3] \n",
    "print(mountains)"
   ]
  },
  {
   "cell_type": "markdown",
   "id": "f2eb6228",
   "metadata": {},
   "source": [
    "The `pop()` method, which takes the index to remove, and returns the element that was removed:"
   ]
  },
  {
   "cell_type": "code",
   "execution_count": null,
   "id": "be7d2a02",
   "metadata": {},
   "outputs": [],
   "source": [
    "mountains = [\"everest\", \"whitney\", \"washington\", \"denali\", \"rainier\"]\n",
    "popped = mountains.pop(2)\n",
    "print(f\"Removed {popped}\")\n",
    "print(f\"List after the pop: {mountains}\")"
   ]
  },
  {
   "cell_type": "markdown",
   "id": "80288aa7",
   "metadata": {
    "slideshow": {
     "slide_type": "subslide"
    }
   },
   "source": [
    "Remove everything with the `clear()` method"
   ]
  },
  {
   "cell_type": "code",
   "execution_count": null,
   "id": "b61d81af",
   "metadata": {},
   "outputs": [],
   "source": [
    "mountains = [\"everest\", \"whitney\", \"washington\", \"denali\", \"rainier\"]\n",
    "mountains.clear()\n",
    "print(mountains)"
   ]
  },
  {
   "cell_type": "markdown",
   "id": "723a14c5",
   "metadata": {
    "slideshow": {
     "slide_type": "subslide"
    }
   },
   "source": [
    "Concatenate 2 lists with `+`:"
   ]
  },
  {
   "cell_type": "code",
   "execution_count": null,
   "id": "b7c474a9",
   "metadata": {},
   "outputs": [],
   "source": [
    "a = [1,2,3]\n",
    "b = [4,5,6]\n",
    "print(a + b)"
   ]
  },
  {
   "cell_type": "markdown",
   "id": "a17513e8",
   "metadata": {
    "slideshow": {
     "slide_type": "slide"
    }
   },
   "source": [
    "# Aside: method vs function\n",
    "\n",
    "We just reviewed a few `list` **methods**. Methods are functions that are **called on** a value.\n",
    "\n",
    "Methods are called on a value using a `.`: `some_variable.some_method()`\n",
    "\n",
    "For example: to remove the last item from a list named `spam`, call the `pop` method on it: `spam.pop()`.\n",
    "\n",
    "Lists have many useful methods (we covered most, but not all, of them): [list method documentation](https://docs.python.org/3/tutorial/datastructures.html)\n",
    "\n",
    "We'll revisit methods later in the term, all you need to know for now is the syntax for calling them."
   ]
  },
  {
   "cell_type": "markdown",
   "id": "a1b3471e",
   "metadata": {
    "slideshow": {
     "slide_type": "slide"
    }
   },
   "source": [
    "# Example\n",
    "\n",
    "Build a **cat**alog (hah): a program that prompts the user for the names of their cats, and prints them all out.\n",
    "\n"
   ]
  },
  {
   "cell_type": "markdown",
   "id": "072c925a",
   "metadata": {
    "slideshow": {
     "slide_type": "subslide"
    }
   },
   "source": [
    "Before lists, the best we could do is something like this, where we have a maximum number of cats, and store each one in its own variable:"
   ]
  },
  {
   "cell_type": "code",
   "execution_count": null,
   "id": "99386b33",
   "metadata": {
    "tags": [
     "remove-output"
    ]
   },
   "outputs": [],
   "source": [
    "print('Enter the name of cat 1:')\n",
    "catName1 = input()\n",
    "print('Enter the name of cat 2:')\n",
    "catName2 = input()\n",
    "print('Enter the name of cat 3:')\n",
    "catName3 = input()\n",
    "print('Enter the name of cat 4:')\n",
    "catName4 = input()\n",
    "print('Enter the name of cat 5:')\n",
    "catName5 = input()\n",
    "print('Enter the name of cat 6:')\n",
    "catName6 = input()\n",
    "print('The cat names are:')\n",
    "print(catName1 + ' ' + catName2 + ' ' + catName3 + ' ' + catName4 + ' ' +\n",
    "catName5 + ' ' + catName6)"
   ]
  },
  {
   "cell_type": "markdown",
   "id": "9e2a17f4",
   "metadata": {
    "slideshow": {
     "slide_type": "subslide"
    }
   },
   "source": [
    "Lists improve this significantly, and free us up from a fixed number of cats.\n",
    "\n",
    "We will keep a list of cat names, and add to it each time the user enters one. At the end, we will print out the list."
   ]
  },
  {
   "cell_type": "code",
   "execution_count": null,
   "id": "9cd530fe",
   "metadata": {
    "slideshow": {
     "slide_type": "-"
    },
    "tags": [
     "remove-output"
    ]
   },
   "outputs": [],
   "source": [
    "catNames = []\n",
    "while True:\n",
    "    number_of_cats_so_far = len(catNames)\n",
    "    \n",
    "    print('Enter the name of cat ' + str(number_of_cats_so_far + 1) +\n",
    "      ' (Or enter nothing to stop):')\n",
    "    name = input()\n",
    "    if name == '':\n",
    "        break\n",
    "    catNames.append(name)\n",
    "\n",
    "print(f\"The cat names are: {catNames}\")"
   ]
  }
 ],
 "metadata": {
  "kernelspec": {
   "display_name": "Python 3 (ipykernel)",
   "language": "python",
   "name": "python3"
  },
  "language_info": {
   "codemirror_mode": {
    "name": "ipython",
    "version": 3
   },
   "file_extension": ".py",
   "mimetype": "text/x-python",
   "name": "python",
   "nbconvert_exporter": "python",
   "pygments_lexer": "ipython3",
   "version": "3.10.9"
  }
 },
 "nbformat": 4,
 "nbformat_minor": 5
}
