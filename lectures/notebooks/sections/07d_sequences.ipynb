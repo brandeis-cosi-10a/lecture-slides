{
 "cells": [
  {
   "cell_type": "markdown",
   "id": "1ee8a1d2",
   "metadata": {
    "slideshow": {
     "slide_type": "slide"
    }
   },
   "source": [
    "# Sequences\n",
    "\n",
    "<style>\n",
    "section.present > section.present { \n",
    "    max-height: 90%; \n",
    "    overflow-y: scroll;\n",
    "}\n",
    "</style>\n",
    "\n",
    "<small><a href=\"https://colab.research.google.com/github/brandeis-jdelfino/cosi-10a/blob/main/lectures/notebooks/7_sequences.ipynb\">Link to interactive slides on Google Colab</a></small>"
   ]
  },
  {
   "cell_type": "markdown",
   "id": "61f0aac4",
   "metadata": {
    "slideshow": {
     "slide_type": "slide"
    }
   },
   "source": [
    "# Sequence types\n",
    "\n",
    "We've looked at a few **sequence types** already - can you guess which types are sequence types?"
   ]
  },
  {
   "cell_type": "markdown",
   "id": "305139c4",
   "metadata": {
    "slideshow": {
     "slide_type": "fragment"
    }
   },
   "source": [
    "* **Sequence types** are data types that represent sequences of things. \n",
    "  * `str` - sequence of characters\n",
    "  * `list` - sequence of values\n",
    "  * `range` - (as in: `for i in range(5)`!) generated sequence of integers \n",
    "  * `tuple` - coming soon, similar to `list`\n",
    "  \n",
    "Today, we'll learn about tuples, some common operations that work on some/all sequence types, and more about strings."
   ]
  },
  {
   "cell_type": "markdown",
   "id": "421d62e1",
   "metadata": {
    "slideshow": {
     "slide_type": "slide"
    }
   },
   "source": [
    "# Tuples\n",
    "\n",
    "Tuples are a sequence type. They are almost the same as lists, with a few small differences:\n",
    "* Tuples are created and represented with parentheses `(` `)` instead of brackets `[` `]`\n",
    "* Tuples are **immutable**. This means they can't change after creation."
   ]
  },
  {
   "cell_type": "code",
   "execution_count": null,
   "id": "735ef902",
   "metadata": {},
   "outputs": [],
   "source": [
    "i_am_a_tuple = (1,2,3)\n",
    "print(i_am_a_tuple)"
   ]
  },
  {
   "cell_type": "code",
   "execution_count": null,
   "id": "1a2c6bc3",
   "metadata": {},
   "outputs": [],
   "source": [
    "im_also_a_tuple = (7,)\n",
    "print(im_also_a_tuple)"
   ]
  },
  {
   "cell_type": "code",
   "execution_count": null,
   "id": "9fbc2302",
   "metadata": {},
   "outputs": [],
   "source": [
    "# You don't strictly need the parentheses, although it's often more clear to include them\n",
    "hey_wait = 7,2\n",
    "print(hey_wait)"
   ]
  },
  {
   "cell_type": "markdown",
   "id": "d0964505",
   "metadata": {
    "slideshow": {
     "slide_type": "subslide"
    }
   },
   "source": [
    "Tuples are **immutable**. This means they can't change after creation.\n",
    "\n",
    "You can't add, remove, or change the items a tuple contains."
   ]
  },
  {
   "cell_type": "code",
   "execution_count": null,
   "id": "7aabe9ea",
   "metadata": {
    "tags": [
     "raises-exception"
    ]
   },
   "outputs": [],
   "source": [
    "flavors = (\"chocolate\", \"vanilla\", \"strawberry\")\n",
    "flavors[1] = \"coffee\""
   ]
  },
  {
   "cell_type": "markdown",
   "id": "021042e9",
   "metadata": {
    "slideshow": {
     "slide_type": "subslide"
    }
   },
   "source": [
    "You can convert back and forth between lists and tuples, similar to converting between `int`, `float`, and `str`:"
   ]
  },
  {
   "cell_type": "code",
   "execution_count": null,
   "id": "d10b9b4b",
   "metadata": {},
   "outputs": [],
   "source": [
    "flavors = (\"chocolate\", \"vanilla\", \"strawberry\")\n",
    "print(flavors)\n"
   ]
  },
  {
   "cell_type": "code",
   "execution_count": null,
   "id": "9b5e5b14",
   "metadata": {},
   "outputs": [],
   "source": [
    "new_flavors = list(flavors)\n",
    "new_flavors[1] = \"coffee\"\n",
    "print(new_flavors)"
   ]
  },
  {
   "cell_type": "code",
   "execution_count": null,
   "id": "0f52cfa1",
   "metadata": {},
   "outputs": [],
   "source": [
    "flavors = tuple(new_flavors)\n",
    "print(flavors)"
   ]
  },
  {
   "cell_type": "markdown",
   "id": "c7dc4477",
   "metadata": {
    "slideshow": {
     "slide_type": "subslide"
    }
   },
   "source": [
    "## Returning multiple values with tuples\n",
    "\n",
    "A common use for tuples is to easily return multiple values from a function.\n",
    "\n",
    "Here's a function that takes in a list of strings, and returns a 2-tuple containing the longest name, and the length of the longest name:"
   ]
  },
  {
   "cell_type": "code",
   "execution_count": null,
   "id": "0abb937d",
   "metadata": {},
   "outputs": [],
   "source": [
    "def longest_name(names):\n",
    "    max_name = \"\"\n",
    "    for name in names:\n",
    "        if len(name) > len(max_name):\n",
    "            max_name = name\n",
    "    return (max_name, len(max_name))"
   ]
  },
  {
   "cell_type": "code",
   "execution_count": null,
   "id": "01ba92ad",
   "metadata": {},
   "outputs": [],
   "source": [
    "longest_name([\"Bill Murray\", \"Spongebob\", \"Batman\"])"
   ]
  },
  {
   "cell_type": "markdown",
   "id": "d484b4bc",
   "metadata": {
    "slideshow": {
     "slide_type": "subslide"
    }
   },
   "source": [
    "## Another example of multiple return values\n",
    "\n",
    "From last lecture:"
   ]
  },
  {
   "cell_type": "code",
   "execution_count": null,
   "id": "600f4374",
   "metadata": {},
   "outputs": [],
   "source": [
    "def find_average(nums):\n",
    "    sum = 0\n",
    "    for num in nums:\n",
    "        sum = sum + num\n",
    "    avg = sum / len(nums)\n",
    "    return avg"
   ]
  },
  {
   "cell_type": "code",
   "execution_count": null,
   "id": "2ebd299e",
   "metadata": {},
   "outputs": [],
   "source": [
    "def below_average(nums):\n",
    "    avg = find_average(nums)\n",
    "    \n",
    "    print(\"The average is: \" + str(avg) + \". Here are all the below average numbers: \")\n",
    "    for num in nums:\n",
    "        if num < avg:\n",
    "            print(num, end=' ')"
   ]
  },
  {
   "cell_type": "markdown",
   "id": "59be94f7",
   "metadata": {},
   "source": [
    "Let's modify `below_average` to return 2 things: the average, and a list of things below the average."
   ]
  },
  {
   "cell_type": "code",
   "execution_count": null,
   "id": "e6a07367",
   "metadata": {
    "slideshow": {
     "slide_type": "subslide"
    }
   },
   "outputs": [],
   "source": [
    "def below_average(nums):\n",
    "    avg = find_average(nums)\n",
    "    \n",
    "    belows = []\n",
    "    for num in nums:\n",
    "        if num < avg:\n",
    "            belows.append(num)\n",
    "    return (avg, belows)"
   ]
  },
  {
   "cell_type": "code",
   "execution_count": null,
   "id": "9cb8229f",
   "metadata": {},
   "outputs": [],
   "source": [
    "answers = below_average([1, 10000, 2, 7, 11000])\n",
    "print(\"The average is: \" + str(answers[0]) + \" and the below average numbers are: \" + str(answers[1])) "
   ]
  },
  {
   "cell_type": "markdown",
   "id": "61ba394f",
   "metadata": {
    "slideshow": {
     "slide_type": "subslide"
    }
   },
   "source": [
    "## Side note: Value unpacking\n",
    "\n",
    "That last example was kind of awkward - we assigned to `answers`, then had to access each part of it by an index. We can use something called \"value unpacking\" to improve this. \n",
    "\n",
    "**Value unpacking** allows you to assign multiple values to multiple variables at once. "
   ]
  },
  {
   "cell_type": "code",
   "execution_count": null,
   "id": "971a849c",
   "metadata": {},
   "outputs": [],
   "source": [
    "# without value unpacking\n",
    "answers = below_average([1, 10000, 2, 7, 11000])\n",
    "print(\"The average is: \" + str(answers[0]) + \" and the below average numbers are: \" + str(answers[1]))"
   ]
  },
  {
   "cell_type": "code",
   "execution_count": null,
   "id": "7c85d836",
   "metadata": {
    "slideshow": {
     "slide_type": "-"
    }
   },
   "outputs": [],
   "source": [
    "# with value unpacking\n",
    "avg, below_avg_nums = below_average([1, 10000, 2, 7, 11000])\n",
    "print(\"The average is: \" + str(avg) + \" and the below average numbers are: \" + str(below_avg_nums))"
   ]
  },
  {
   "cell_type": "markdown",
   "id": "61bb89d3",
   "metadata": {
    "slideshow": {
     "slide_type": "subslide"
    }
   },
   "source": [
    "Value unpacking works with any sequence type"
   ]
  },
  {
   "cell_type": "code",
   "execution_count": null,
   "id": "e020b2f6",
   "metadata": {},
   "outputs": [],
   "source": [
    "names = [\"Larry\", \"Moe\", \"Curly\"]\n",
    "stooge1, stooge2, stooge3 = names\n",
    "print(\"Stooge 1: \" + stooge1 + \", stooge 2: \" + stooge2 + \", stooge 3: \" + stooge3)\n",
    "\n",
    "# equivalent to 'stooge1, stooge2, stooge3 = names'\n",
    "stooge1 = names[0]\n",
    "stooge2 = names[1]\n",
    "stooge3 = names[2]"
   ]
  },
  {
   "cell_type": "code",
   "execution_count": null,
   "id": "13dece82",
   "metadata": {},
   "outputs": [],
   "source": [
    "a, b, c = \"xyz\"\n",
    "print(\"a: \" + a + \"; b: \" + b + \"; c: \" + c)"
   ]
  },
  {
   "cell_type": "markdown",
   "id": "4d870d3a",
   "metadata": {
    "slideshow": {
     "slide_type": "subslide"
    }
   },
   "source": [
    "The assignment will raise an error if the number of variables on the left doesn't match the length of the sequence being unpacked."
   ]
  },
  {
   "cell_type": "code",
   "execution_count": null,
   "id": "476bb441",
   "metadata": {
    "slideshow": {
     "slide_type": "-"
    },
    "tags": [
     "raises-exception"
    ]
   },
   "outputs": [],
   "source": [
    "a, b, c = (1, 2)"
   ]
  },
  {
   "cell_type": "code",
   "execution_count": null,
   "id": "c54413d7",
   "metadata": {
    "tags": [
     "raises-exception"
    ]
   },
   "outputs": [],
   "source": [
    "a, b = (1, 2, 3)"
   ]
  },
  {
   "cell_type": "markdown",
   "id": "2ba44185",
   "metadata": {
    "slideshow": {
     "slide_type": "subslide"
    }
   },
   "source": [
    "# `range` revisited\n",
    "\n",
    "`range` is actually a sequence type that generates integers:"
   ]
  },
  {
   "cell_type": "code",
   "execution_count": null,
   "id": "cee46f7a",
   "metadata": {},
   "outputs": [],
   "source": [
    "range(5)"
   ]
  },
  {
   "cell_type": "code",
   "execution_count": null,
   "id": "0d659e7d",
   "metadata": {},
   "outputs": [],
   "source": [
    "list(range(5))"
   ]
  },
  {
   "cell_type": "markdown",
   "id": "ab79c6c0",
   "metadata": {},
   "source": [
    "Note the difference! `range` is **not** a `list`! It is a sequence though."
   ]
  },
  {
   "cell_type": "markdown",
   "id": "8635f353",
   "metadata": {
    "slideshow": {
     "slide_type": "subslide"
    }
   },
   "source": [
    "Even though `range` and `list` are different types, they behave the same in a `for` loop:"
   ]
  },
  {
   "cell_type": "code",
   "execution_count": null,
   "id": "c7376843",
   "metadata": {
    "slideshow": {
     "slide_type": "-"
    }
   },
   "outputs": [],
   "source": [
    "for i in range(5):\n",
    "    print(i)"
   ]
  },
  {
   "cell_type": "markdown",
   "id": "c5c9c82f",
   "metadata": {},
   "source": [
    "behaves the same as:"
   ]
  },
  {
   "cell_type": "code",
   "execution_count": null,
   "id": "68330b5b",
   "metadata": {},
   "outputs": [],
   "source": [
    "for i in [0,1,2,3,4]:\n",
    "    print(i)"
   ]
  },
  {
   "cell_type": "markdown",
   "id": "8a74db96",
   "metadata": {
    "slideshow": {
     "slide_type": "slide"
    }
   },
   "source": [
    "# `for` revisited\n",
    "\n",
    "It turns out that `for i in range(...):` is actually just a special case of the general `for` loop form:\n",
    "\n",
    "```\n",
    "for <var> in <sequence>:\n",
    "   statement(s)\n",
    "```\n",
    "\n",
    "A `for` loop can iterate over any **sequence**. It executes the code block once for each item in the sequence. \n",
    "\n",
    "This means you can use `for` loops on strings, lists, tuples, and ranges.\n"
   ]
  },
  {
   "cell_type": "code",
   "execution_count": null,
   "id": "986c5886",
   "metadata": {
    "slideshow": {
     "slide_type": "subslide"
    }
   },
   "outputs": [],
   "source": [
    "for c in \"Hello, world!\":\n",
    "    print(c)"
   ]
  },
  {
   "cell_type": "markdown",
   "id": "f63edc4d",
   "metadata": {
    "slideshow": {
     "slide_type": "slide"
    }
   },
   "source": [
    "# Iterables\n",
    "\n",
    "An **iterable** object is an object capable of returning its members one at a time. \n",
    "\n",
    "All sequence types are **iterables**. Other types can be iterable too. \n",
    "\n",
    "Some examples of non-sequence iterables:\n",
    "* Dictionaries (a data type we'll see in a few lectures)\n",
    "* Reading a file line-by-line\n",
    "* A \"generator\" - an iterator that generates a sequence on-demand, as each item is requested."
   ]
  },
  {
   "cell_type": "markdown",
   "id": "548058cc",
   "metadata": {
    "slideshow": {
     "slide_type": "subslide"
    }
   },
   "source": [
    "The details of iterables and iterators are beyond the scope of this class. The important things to know for now are:\n",
    "* **Iterables** are objects that can return their members one at a time\n",
    "* All iterables can be iterated over in a `for` loop.\n",
    "\n",
    "If you want to learn about this topic, this is a decent introductory resource: [Towards Data Science](https://towardsdatascience.com/python-basics-iteration-and-looping-6ca63b30835c). "
   ]
  },
  {
   "cell_type": "markdown",
   "id": "cf56a774",
   "metadata": {
    "slideshow": {
     "slide_type": "subslide"
    }
   },
   "source": [
    "# `for` revisited, again\n",
    "\n",
    "Last time, I promise. \n",
    "\n",
    "```\n",
    "for <var> in <iterable>:\n",
    "   statement(s)\n",
    "```\n",
    "\n",
    "`for` loops can loop over anything that is an **iterable**. This capture more than just **sequences**."
   ]
  },
  {
   "cell_type": "markdown",
   "id": "e89972fe",
   "metadata": {
    "slideshow": {
     "slide_type": "slide"
    }
   },
   "source": [
    "# Common sequence operations\n",
    "\n",
    "These work on all sequence types! We've seen some of these before on strings or lists. They also work on tuples (and even ranges).\n",
    "\n",
    "| Operation | Description | Example | Result |\n",
    "| --- | :--- | --- | :--- |\n",
    "| `x in s` | True if an item of s is equal to x | `\"hi\" in [\"hello\", \"hi\", \"yo\"]` | True |\n",
    "| `x not in s` | Opposite of `in` | `\"hi\" not in [\"hello\", \"hi\", \"yo\"]` | False |\n",
    "| `s + t` | Concatenate (combine end-to-end) | `[1,2,3] + [4,5]` | `[1,2,3,4,5]` |\n",
    "| `s * n` | Replicate | `\"abc\" * 3` | `\"abcabcabc\"` |\n",
    "| `s[i]` | *i*th item of `s` | `\"hello\"[1]` | `\"e\"` |\n",
    "| `s[i:j]` | slice of `s` from `i` to `j` | `\"hello\"[1:3]` | `\"ell\"` |\n",
    "| `len(s)` | length of `s` | `len(\"hello\")` | `5` |\n",
    "| `min(s)` | The smallest item of `s` | `min([4, 8, 7, 3])` | `3` |\n",
    "| `max(s)` | The largest item of `s` | `max([4, 8, 7, 3])` | `8` |\n",
    "| `s.index(x)` | index of the first occurrence of `x` in `s` | `[4, 8, 7, 3].index(7)` | `2` |\n",
    "| `s.count(x)` | total number of occurrences of `x` in `s` | `\"hello\".count(\"l\")` | `2` |"
   ]
  },
  {
   "cell_type": "markdown",
   "id": "a4b22365",
   "metadata": {
    "slideshow": {
     "slide_type": "slide"
    }
   },
   "source": [
    "# Example\n",
    "\n",
    "Write a program that prompts the user for 5 integers, then prints out:\n",
    "1. The largest integer they entered\n",
    "2. The smallest integer they entered\n",
    "3. Whether `42` is in the list of integers they entered\n",
    "4. How many times they repeated the first integer they entered\n",
    "  * e.g. if they entered: 4, 3, 4, 4, 1, then the answer would be 3, because they entered the number 4 three times.\n",
    "  \n",
    "Hint: Use a list to store the integers, then use the sequence operations for each task."
   ]
  },
  {
   "cell_type": "code",
   "execution_count": null,
   "id": "04cc2444",
   "metadata": {},
   "outputs": [],
   "source": [
    "# Live coding solution"
   ]
  }
 ],
 "metadata": {
  "celltoolbar": "Slideshow",
  "kernelspec": {
   "display_name": "Python 3 (ipykernel)",
   "language": "python",
   "name": "python3"
  },
  "language_info": {
   "codemirror_mode": {
    "name": "ipython",
    "version": 3
   },
   "file_extension": ".py",
   "mimetype": "text/x-python",
   "name": "python",
   "nbconvert_exporter": "python",
   "pygments_lexer": "ipython3",
   "version": "3.10.9"
  }
 },
 "nbformat": 4,
 "nbformat_minor": 5
}
