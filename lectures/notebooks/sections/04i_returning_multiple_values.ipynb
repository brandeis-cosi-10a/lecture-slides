{
 "cells": [
  {
   "cell_type": "markdown",
   "id": "f862f9c3",
   "metadata": {
    "slideshow": {
     "slide_type": "slide"
    }
   },
   "source": [
    "# Returning multiple values\n",
    "\n",
    "So far, all of our examples have returned a single value.\n",
    "\n",
    "In Python, functions can also return multiple values."
   ]
  },
  {
   "cell_type": "code",
   "execution_count": null,
   "id": "0fef4d38",
   "metadata": {
    "slideshow": {
     "slide_type": "fragment"
    }
   },
   "outputs": [],
   "source": [
    "def find_sum_and_avg(a, b, c, d, e):\n",
    "    total = a + b + c + d + e\n",
    "    avg = total / 5\n",
    "    return total, avg"
   ]
  },
  {
   "cell_type": "code",
   "execution_count": null,
   "id": "e75e36ca",
   "metadata": {},
   "outputs": [],
   "source": [
    "find_sum_and_avg(1, 3, 5, 7, 100)"
   ]
  },
  {
   "cell_type": "markdown",
   "id": "9ce5d546",
   "metadata": {
    "slideshow": {
     "slide_type": "slide"
    }
   },
   "source": [
    "## Using multiple return values\n",
    "\n",
    "When calling the function, you can assign the result to multiple values."
   ]
  },
  {
   "cell_type": "code",
   "execution_count": null,
   "id": "89f835d2",
   "metadata": {},
   "outputs": [],
   "source": [
    "grand_total, avg_price = find_sum_and_avg(1.99, 5, 29.95, 2, .99)\n",
    "print(\"Grand total is: \" + str(grand_total))\n",
    "print(\"Average is: \" + str(avg_price))"
   ]
  },
  {
   "cell_type": "markdown",
   "id": "6ba365fd",
   "metadata": {
    "slideshow": {
     "slide_type": "subslide"
    }
   },
   "source": [
    "## Example: counting characters\n",
    "\n",
    "Write a function that counts the number of vowels and consonants in a string."
   ]
  },
  {
   "cell_type": "code",
   "execution_count": null,
   "id": "d1e025ed",
   "metadata": {
    "slideshow": {
     "slide_type": "fragment"
    }
   },
   "outputs": [],
   "source": [
    "def count_letters(words):\n",
    "    vowels = 0\n",
    "    consonants = 0\n",
    "    for char in words:\n",
    "        if char == 'a' or char == 'e' or char == 'i' or char == 'o' or char == 'u':\n",
    "            vowels += 1\n",
    "        elif char.isalpha():\n",
    "            # char.isalpha() returns True if the character is a letter\n",
    "            consonants += 1\n",
    "    return vowels, consonants"
   ]
  },
  {
   "cell_type": "code",
   "execution_count": null,
   "id": "4e1a2882",
   "metadata": {
    "slideshow": {
     "slide_type": "subslide"
    }
   },
   "outputs": [],
   "source": [
    "v, c = count_letters(\"Hello class, count these words with me.\")\n",
    "print(\"Vowels: \" + str(v) + \" consonants: \" + str(c)) "
   ]
  },
  {
   "cell_type": "code",
   "execution_count": null,
   "id": "f6180a3f",
   "metadata": {},
   "outputs": [],
   "source": [
    "v, c = count_letters(\",.@($@*!#*(! 9219!,;))\")\n",
    "print(\"Vowels: \" + str(v) + \" consonants: \" + str(c)) "
   ]
  },
  {
   "cell_type": "code",
   "execution_count": null,
   "id": "53779c0c",
   "metadata": {},
   "outputs": [],
   "source": [
    "v, c = count_letters(\" h e l l o . w o r l d\")\n",
    "print(\"Vowels: \" + str(v) + \" consonants: \" + str(c)) "
   ]
  },
  {
   "cell_type": "markdown",
   "id": "904cf474",
   "metadata": {},
   "source": [
    "## A breadcrumb\n",
    "\n",
    "Technically, functions only ever return a single value.\n",
    "\n",
    "What's actually happening here is that the function is returning a `tuple` - a datatype that can hold multiple other values.\n",
    "\n",
    "We'll revisit this in a few lectures when we learn about tuples - don't worry about it for now!"
   ]
  }
 ],
 "metadata": {
  "celltoolbar": "Slideshow",
  "kernelspec": {
   "display_name": "Python 3 (ipykernel)",
   "language": "python",
   "name": "python3"
  },
  "language_info": {
   "codemirror_mode": {
    "name": "ipython",
    "version": 3
   },
   "file_extension": ".py",
   "mimetype": "text/x-python",
   "name": "python",
   "nbconvert_exporter": "python",
   "pygments_lexer": "ipython3",
   "version": "3.10.9"
  }
 },
 "nbformat": 4,
 "nbformat_minor": 5
}
