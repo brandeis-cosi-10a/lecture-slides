{
 "cells": [
  {
   "cell_type": "markdown",
   "id": "63db525d",
   "metadata": {
    "slideshow": {
     "slide_type": "slide"
    }
   },
   "source": [
    "# Variables\n",
    "\n",
    "* Like a box\\* in the computer’s memory where you can store a single value\n",
    "* The box has a **name**, and a **value** inside it"
   ]
  },
  {
   "cell_type": "markdown",
   "id": "cb521422",
   "metadata": {
    "slideshow": {
     "slide_type": "fragment"
    }
   },
   "source": [
    "\\* Full disclosure: This analogy is imperfect in Python, we'll come back to this later in the term"
   ]
  },
  {
   "cell_type": "markdown",
   "id": "b2f90eaa",
   "metadata": {
    "slideshow": {
     "slide_type": "subslide"
    }
   },
   "source": [
    "## Variables - what can you do with them? \n",
    "\n",
    "You can: \n",
    "* **Assign** (put a value inside the box)\n",
    "  * The first time you assign to a variable, the variable is **declared** (i.e. the box is created for you)\n",
    "* **Read** or **use** the value\n"
   ]
  },
  {
   "cell_type": "code",
   "execution_count": null,
   "id": "dc197b71",
   "metadata": {},
   "outputs": [],
   "source": [
    "# declare the variable \"name\" and assign the string \"Joe\" to it\n",
    "name = \"Joe\"\n",
    "print(name)\n",
    "\n",
    "# assign the string \"Spongebob\" to the variable \"name\", overwriting the old value (\"Joe\")\n",
    "name = \"Spongebob\"\n",
    "print(name)\n",
    "\n",
    "# appends \" Squarepants\" to \"Spongebob\", setting the name variable equal to \"Spongebob Squarepants\"\n",
    "name = name + \" Squarepants\"\n",
    "print(name)\n"
   ]
  },
  {
   "cell_type": "markdown",
   "id": "eacb8ddc",
   "metadata": {
    "slideshow": {
     "slide_type": "subslide"
    }
   },
   "source": [
    "## Variable example usage"
   ]
  },
  {
   "cell_type": "code",
   "execution_count": null,
   "id": "b2280c9c",
   "metadata": {},
   "outputs": [],
   "source": [
    "tetons = \"mountains\"\n",
    "acadia = \"forests\"\n",
    "\n",
    "print(tetons)\n",
    "print(acadia)\n",
    "\n",
    "tetons = \"beautiful\"\n",
    "\n",
    "print(tetons)\n",
    "print(tetons + acadia)\n",
    "print(tetons + \" \" + acadia)\n",
    "\n",
    "answer = 42\n",
    "acadia = acadia + \" are peaceful\"\n",
    "print(acadia + str(answer))\n",
    "\n",
    "joshua_tree = str(answer + 7)\n",
    "print(tetons + \" \" + joshua_tree)"
   ]
  },
  {
   "cell_type": "markdown",
   "id": "c0e9c8ca",
   "metadata": {
    "slideshow": {
     "slide_type": "subslide"
    }
   },
   "source": [
    "# Step-thru debugging revisited\n",
    "\n",
    "repl.it: [Lecture 2 exercises: Variables](https://replit.com/@cosi-10a-fall23/Variables#main.py)"
   ]
  },
  {
   "cell_type": "markdown",
   "id": "491e7aee",
   "metadata": {
    "slideshow": {
     "slide_type": "subslide"
    }
   },
   "source": [
    "# Variable naming - requirements\n",
    "\n",
    "* Must start with a letter or the underscore character\n",
    "* Cannot start with a number\n",
    "* Can only contain alphanumeric characters and underscores (A-z, 0-9, and _ )\n",
    "  * No spaces! No dashes! \n",
    "* Case-sensitive \n",
    "  * \"banff\", \"Banff\" and \"BANFF\" are three different variables"
   ]
  },
  {
   "cell_type": "markdown",
   "id": "0fb8e10c",
   "metadata": {},
   "source": [
    "| Valid names | <span style=\"color:red\">Invalid names</span> |\n",
    "| --- | --- | \n",
    "| no_hyphens | <span style=\"color:red\">no-hyphens</span> |\n",
    "| foo42 | <span style=\"color:red\">42foo</span> |\n",
    "| \\_bar | <span style=\"color:red\">bar$</span> |\n",
    "| chocolateIsGreat | <span style=\"color:red\">chocolate is great</span> |\n",
    "| no_special_chars | <span style=\"color:red\">'no_special_chars'</span> |\n"
   ]
  },
  {
   "cell_type": "markdown",
   "id": "a138bd98",
   "metadata": {
    "slideshow": {
     "slide_type": "subslide"
    }
   },
   "source": [
    "## Variable naming - suggestions\n",
    "\n",
    "* Variable names should be descriptive, and reflect the data stored in the value\n",
    "  * E.g. `userName` instead of `u` or `data`\n",
    "* There are several common naming conventions for variables. Try to pick one and stick with it within a single program:\n",
    "  * `lower_case_with_underscores`\n",
    "  * `camelCase`\n",
    "  * `UpperCamelCase`\n",
    "  * `alllowercase` (not recommended)\n",
    "  * `ALL_CAPS_WITH_UNDERSCORES` (not recommended)\n"
   ]
  },
  {
   "cell_type": "markdown",
   "id": "42f50421",
   "metadata": {
    "slideshow": {
     "slide_type": "slide"
    }
   },
   "source": [
    "## Code \"style\"\n",
    "\n",
    "* Almost all code is read more often than it is written\n",
    "* Even if the code is only for you - it takes a surprisingly short amount of time to forget exactly how your code works\n",
    "* Using consistent, readable style is a good practice that will save you time and confusion as your programs become more complex.\n",
    "* That said - you won't be graded on style, and you don't need to follow any particular coding style in this class. Your initial goal is to produce working code that both you and the course staff understand."
   ]
  },
  {
   "cell_type": "markdown",
   "id": "09eaaf0d",
   "metadata": {
    "slideshow": {
     "slide_type": "slide"
    }
   },
   "source": [
    "## Example: Let's write a (small) real program\n",
    "\n",
    "1. Prompt the user for their name, and respond with a greeting that references their name.\n",
    "2. Ask the user what their favorite animal is, and respond with a reference to the type of animal the entered."
   ]
  },
  {
   "cell_type": "code",
   "execution_count": null,
   "id": "8fa04ba0",
   "metadata": {
    "slideshow": {
     "slide_type": "subslide"
    },
    "tags": [
     "remove-output"
    ]
   },
   "outputs": [],
   "source": [
    "print(\"Name?\")\n",
    "name = input()\n",
    "print(\"Hi \" + name + \"!\")\n",
    "print(\"What is your favorite animal?\")\n",
    "animal = input()\n",
    "print(animal + \" is a great animal!\")"
   ]
  },
  {
   "cell_type": "markdown",
   "id": "d0c70080",
   "metadata": {
    "slideshow": {
     "slide_type": "slide"
    }
   },
   "source": [
    "## Let's add to it\n",
    "\n",
    "3. Ask the user how many pets they have.\n",
    "4. Print \"If you got a {animal}, you'd have {pets} pets!\"\n",
    "    * {animal} should be their favorite animal\n",
    "    * {pets} should be the number of pets then entered, plus 1"
   ]
  },
  {
   "cell_type": "code",
   "execution_count": null,
   "id": "55f231cc",
   "metadata": {
    "slideshow": {
     "slide_type": "subslide"
    },
    "tags": [
     "remove-output",
     "raises-exception"
    ]
   },
   "outputs": [],
   "source": [
    "print(\"Name?\")\n",
    "name = input()\n",
    "print(\"Hi \" + name + \"!\")\n",
    "print(\"What is your favorite animal?\")\n",
    "animal = input()\n",
    "print(animal + \" is a great animal!\")\n",
    "\n",
    "print(\"How many pets do you have?\")\n",
    "pet_count = input()\n",
    "print(\"If you got a \" + animal + \", you'd have \" + pet_count + 1 + \" pets!\")"
   ]
  },
  {
   "cell_type": "markdown",
   "id": "4553f1a9",
   "metadata": {
    "slideshow": {
     "slide_type": "subslide"
    }
   },
   "source": [
    "## Types!\n",
    "\n",
    "`TypeError: can only concatenate str (not \"int\") to str`\n",
    "\n",
    "`input()` always creates a string.\n",
    "\n",
    "If we want to perform integer operations on `pet_count`, we must convert it."
   ]
  },
  {
   "cell_type": "code",
   "execution_count": null,
   "id": "25936612",
   "metadata": {
    "tags": [
     "remove-output",
     "raises-exception"
    ]
   },
   "outputs": [],
   "source": [
    "print(\"Name?\")\n",
    "name = input()\n",
    "print(\"Hi \" + name + \"!\")\n",
    "print(\"What is your favorite animal?\")\n",
    "animal = input()\n",
    "print(animal + \" is a great animal!\")\n",
    "\n",
    "print(\"How many pets do you have?\")\n",
    "pet_count = input()\n",
    "print(\"If you got a \" + animal + \", you'd have \" + int(pet_count) + 1 + \" pets!\")"
   ]
  },
  {
   "cell_type": "markdown",
   "id": "80a961e4",
   "metadata": {},
   "source": [
    "## Types?!\n",
    "\n",
    "We converted `pet_count` to an integer.\n",
    "\n",
    "But now, order of operations says that we add `int(pet_count)` to the string `\"If you got a {animal}, you'd have \"`.\n",
    "\n",
    "You can't add strings and ints.\n",
    "\n",
    "We need to convert to an integer to do the math, then back to a string!"
   ]
  },
  {
   "cell_type": "code",
   "execution_count": null,
   "id": "2c287fc0",
   "metadata": {
    "tags": [
     "remove-output",
     "raises-exception"
    ]
   },
   "outputs": [],
   "source": [
    "print(\"Name?\")\n",
    "name = input()\n",
    "print(\"Hi \" + name + \"!\")\n",
    "print(\"What is your favorite animal?\")\n",
    "animal = input()\n",
    "print(animal + \" is a great animal!\")\n",
    "\n",
    "print(\"How many pets do you have?\")\n",
    "pet_count = input()\n",
    "print(\"If you got a \" + animal + \", you'd have \" + str(int(pet_count) + 1) + \" pets!\")"
   ]
  },
  {
   "cell_type": "markdown",
   "id": "fe701f0d",
   "metadata": {
    "slideshow": {
     "slide_type": "slide"
    }
   },
   "source": [
    "## More readable (maybe)"
   ]
  },
  {
   "cell_type": "code",
   "execution_count": null,
   "id": "26c83282",
   "metadata": {
    "tags": [
     "remove-output"
    ]
   },
   "outputs": [],
   "source": [
    "print(\"Name?\")\n",
    "name = input()\n",
    "print(\"Hi \" + name + \"!\")\n",
    "print(\"What is your favorite animal?\")\n",
    "animal = input()\n",
    "print(animal + \" is a great animal!\")\n",
    "\n",
    "print(\"How many pets do you have?\")\n",
    "pet_count = input()\n",
    "new_pet_count = str(int(pet_count) + 1)\n",
    "print(\"If you got a \" + animal + \", you'd have \" + new_pet_count + \" pets!\")"
   ]
  }
 ],
 "metadata": {
  "celltoolbar": "Slideshow",
  "kernelspec": {
   "display_name": "Python 3 (ipykernel)",
   "language": "python",
   "name": "python3"
  },
  "language_info": {
   "codemirror_mode": {
    "name": "ipython",
    "version": 3
   },
   "file_extension": ".py",
   "mimetype": "text/x-python",
   "name": "python",
   "nbconvert_exporter": "python",
   "pygments_lexer": "ipython3",
   "version": "3.10.9"
  }
 },
 "nbformat": 4,
 "nbformat_minor": 5
}
