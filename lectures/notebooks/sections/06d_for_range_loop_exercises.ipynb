{
 "cells": [
  {
   "cell_type": "markdown",
   "id": "2387e502",
   "metadata": {},
   "source": [
    "## Exercise: Number facts\n",
    "\n",
    "[GitHub Classroom -> Class exercises -> Open in GitHub Cospaces](https://classroom.github.com/a/M3gdSqkV)\n",
    "\n",
    "Open the file: `exercises/05/number_facts/README.md`, follow the instructions.\n",
    "* If you don't see this folder: Open the file: `get_exercises.sh`, click the \"Run\" button at the top right of the editor.\n"
   ]
  }
 ],
 "metadata": {
  "kernelspec": {
   "display_name": "Python 3 (ipykernel)",
   "language": "python",
   "name": "python3"
  },
  "language_info": {
   "codemirror_mode": {
    "name": "ipython",
    "version": 3
   },
   "file_extension": ".py",
   "mimetype": "text/x-python",
   "name": "python",
   "nbconvert_exporter": "python",
   "pygments_lexer": "ipython3",
   "version": "3.10.9"
  }
 },
 "nbformat": 4,
 "nbformat_minor": 5
}
