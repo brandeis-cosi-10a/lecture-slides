{
 "cells": [
  {
   "cell_type": "markdown",
   "id": "994b0b3a",
   "metadata": {},
   "source": [
    "# Example 0: Print a haiku\n",
    "\n",
    "Write a function that prints a haiku"
   ]
  },
  {
   "cell_type": "code",
   "execution_count": null,
   "id": "8aad8198",
   "metadata": {},
   "outputs": [],
   "source": [
    "def haiku():\n",
    "    print(\"'A Poppy Blooms'\")\n",
    "    print(\"(by Katsushika Hokusai):\")\n",
    "    print()\n",
    "    print(\"I write, erase, rewrite\")\n",
    "    print(\"Erase again, and then\")\n",
    "    print(\"A poppy blooms.\")"
   ]
  },
  {
   "cell_type": "code",
   "execution_count": null,
   "id": "83abd2cc",
   "metadata": {},
   "outputs": [],
   "source": [
    "haiku()"
   ]
  },
  {
   "cell_type": "markdown",
   "id": "f28742ab",
   "metadata": {
    "slideshow": {
     "slide_type": "slide"
    }
   },
   "source": [
    "# Example 1: Math facts\n",
    "\n",
    "Write a function that takes 2 numbers as input, and prints out some math facts about them:\n",
    "- The sum of the numbers\n",
    "- The product of the numbers\n",
    "- Which number is larger"
   ]
  },
  {
   "cell_type": "code",
   "execution_count": null,
   "id": "d0968b68",
   "metadata": {
    "slideshow": {
     "slide_type": "subslide"
    }
   },
   "outputs": [],
   "source": [
    "def print_math_facts(x, y):\n",
    "    print(\"Amazing (but true) facts about \" + str(x) + \" and \" + str(y) + \":\")\n",
    "    print(\"Their sum is: \" + str(x+y))\n",
    "    print(\"Their product is: \" + str(x*y))\n",
    "    if x > y:\n",
    "        print(str(x) + \" is larger.\")\n",
    "    else:\n",
    "        print(str(y) + \" is larger.\")        "
   ]
  },
  {
   "cell_type": "code",
   "execution_count": null,
   "id": "46d21a84",
   "metadata": {
    "scrolled": true
   },
   "outputs": [],
   "source": [
    "print_math_facts(2, 3)"
   ]
  },
  {
   "cell_type": "code",
   "execution_count": null,
   "id": "bfe0728f",
   "metadata": {
    "scrolled": true
   },
   "outputs": [],
   "source": [
    "print_math_facts(3, 2)"
   ]
  },
  {
   "cell_type": "code",
   "execution_count": null,
   "id": "929079ed",
   "metadata": {},
   "outputs": [],
   "source": [
    "print_math_facts(11, 7419)"
   ]
  },
  {
   "cell_type": "markdown",
   "id": "be4fd53f",
   "metadata": {
    "slideshow": {
     "slide_type": "slide"
    }
   },
   "source": [
    "# Example 2: State facts\n",
    "\n",
    "Write a function that takes information about a US state as input, and prints out some facts about it:\n",
    "* The name of the state\n",
    "* The state bird\n",
    "* The population of the state, and whether that population is above or below the mean US state population\n",
    "* The size of the state, and the percentage of the average state size (`state_size/avg_size*100`)"
   ]
  },
  {
   "cell_type": "code",
   "execution_count": null,
   "id": "ab8ee87d",
   "metadata": {
    "slideshow": {
     "slide_type": "subslide"
    }
   },
   "outputs": [],
   "source": [
    "def print_state_facts(name, bird, population, size):\n",
    "    print(\"Facts about \" + name + \":\")\n",
    "    print(name + \"'s state bird is the \" + bird)\n",
    "    if population > 4657757:\n",
    "        print(\"With a population of \" + str(population) + \", \" + name + \" is above the mean US state population.\")\n",
    "    else:\n",
    "        print(\"With a population of \" + str(population) + \", \" + name + \" is below the mean US state population.\")\n",
    "    size_pct = size / 75933 * 100\n",
    "    print(name + \" covers \" + str(size_pct) + \"% as much area as the average US state.\")"
   ]
  },
  {
   "cell_type": "code",
   "execution_count": null,
   "id": "d68309f8",
   "metadata": {
    "scrolled": false,
    "slideshow": {
     "slide_type": "subslide"
    }
   },
   "outputs": [],
   "source": [
    "print_state_facts(\"Massachusetts\", \"Chickadee\", 7029917, 10555)"
   ]
  },
  {
   "cell_type": "code",
   "execution_count": null,
   "id": "5bd1787d",
   "metadata": {
    "scrolled": true,
    "slideshow": {
     "slide_type": ""
    }
   },
   "outputs": [],
   "source": [
    "print_state_facts(\"Alaska\", \"Ptarmigan\", 733391, 663267)"
   ]
  },
  {
   "cell_type": "markdown",
   "id": "f85de690",
   "metadata": {},
   "source": [
    "## An improvement\n",
    "\n",
    "Let's reduce duplication when printing the population facts:"
   ]
  },
  {
   "cell_type": "code",
   "execution_count": null,
   "id": "f12e1593",
   "metadata": {},
   "outputs": [],
   "source": [
    "def print_state_facts(name, bird, population, size):\n",
    "    print(\"Facts about \" + name + \":\")\n",
    "    print(name + \"'s state bird is the \" + bird)\n",
    "\n",
    "    pop_comparison = ''\n",
    "    if population > 4657757:\n",
    "        pop_comparison = 'above'\n",
    "    else:\n",
    "        pop_comparison = 'below'\n",
    "    \n",
    "    print(\"With a population of \" + str(population) + \", \" + name + \" is \" + pop_comparison + \" the mean US state population.\")\n",
    "    \n",
    "    size_pct = size / 75933 * 100\n",
    "    print(name + \" covers \" + str(size_pct) + \"% as much area as the average US state.\")"
   ]
  },
  {
   "cell_type": "code",
   "execution_count": null,
   "id": "69b11404",
   "metadata": {
    "scrolled": false,
    "slideshow": {
     "slide_type": "subslide"
    }
   },
   "outputs": [],
   "source": [
    "print_state_facts(\"Massachusetts\", \"Chickadee\", 7029917, 10555)"
   ]
  },
  {
   "cell_type": "code",
   "execution_count": null,
   "id": "bb6557b3",
   "metadata": {
    "scrolled": true,
    "slideshow": {
     "slide_type": ""
    }
   },
   "outputs": [],
   "source": [
    "print_state_facts(\"Oregon\", \"Meadowlark\", 4237256, 98381)"
   ]
  },
  {
   "cell_type": "markdown",
   "id": "23dfa6a9",
   "metadata": {
    "slideshow": {
     "slide_type": "slide"
    }
   },
   "source": [
    "# Example 3: Sandwich instructions\n",
    "\n",
    "Write a function that takes in a set of ingredients (bread, meat, cheese, condiment) and prints instructions to make a sandwich."
   ]
  },
  {
   "cell_type": "code",
   "execution_count": null,
   "id": "a41a9f80",
   "metadata": {
    "slideshow": {
     "slide_type": "subslide"
    }
   },
   "outputs": [],
   "source": [
    "def sandwich(bread, meat, cheese, condiment):\n",
    "    print(\"Here are instructions to make a \" + meat + \" and \" + cheese + \" on \" + bread + \" with \" + condiment + \".\")\n",
    "    print(\"Step 1: Lay out 2 slices of \" + bread)\n",
    "    print(\"Step 2: Spread \" + condiment + \" on both slices of \" + bread + \" bread.\")\n",
    "    print(\"Step 3: Put 3 pieces of \" + meat + \" on one slice of the \" + bread  + \" bread.\")\n",
    "    print(\"Step 4: Put 2 pieces of \" + cheese  + \" on top of the \" + meat + \".\")\n",
    "    print(\"Step 5: Put the second slice of bread on top of the \" + cheese + \".\")\n",
    "    print(\"Step 6: Cut in half\")\n",
    "    print(\"Step 7: Eat!\")"
   ]
  },
  {
   "cell_type": "code",
   "execution_count": 93,
   "id": "2f8d5766",
   "metadata": {
    "scrolled": false,
    "slideshow": {
     "slide_type": "subslide"
    }
   },
   "outputs": [
    {
     "name": "stdout",
     "output_type": "stream",
     "text": [
      "Here are instructions to make a turkey and swiss on sourdough with mustard.\n",
      "Step 1: Lay out 2 slices of sourdough bread.\n",
      "Step 2: Spread mustard on both slices of sourdough bread.\n",
      "Step 3: Put 3 pieces of turkey on one slice of sourdough bread.\n",
      "Step 4: Put 2 pieces of swiss on top of the turkey.\n",
      "Step 5: Put the second slice of bread on top of the swiss.\n"
     ]
    }
   ],
   "source": [
    "sandwich(\"sourdough\", \"turkey\", \"swiss\", \"mustard\")"
   ]
  },
  {
   "cell_type": "code",
   "execution_count": 94,
   "id": "379aeb48",
   "metadata": {},
   "outputs": [
    {
     "name": "stdout",
     "output_type": "stream",
     "text": [
      "Here are instructions to make a ham and provolone on rye with mayo.\n",
      "Step 1: Lay out 2 slices of rye bread.\n",
      "Step 2: Spread mayo on both slices of rye bread.\n",
      "Step 3: Put 3 pieces of ham on one slice of rye bread.\n",
      "Step 4: Put 2 pieces of provolone on top of the ham.\n",
      "Step 5: Put the second slice of bread on top of the provolone.\n"
     ]
    }
   ],
   "source": [
    "sandwich(\"rye\", \"ham\", \"provolone\", \"mayo\")"
   ]
  },
  {
   "cell_type": "markdown",
   "id": "6c8b1c5a",
   "metadata": {
    "slideshow": {
     "slide_type": "slide"
    }
   },
   "source": [
    "# Example 3a: More flexible sandwich instructions\n",
    "\n",
    "Modify the function so that the cheese and condiment can be excluded by passing an empty string for those arguments."
   ]
  },
  {
   "cell_type": "markdown",
   "id": "18e05df2",
   "metadata": {
    "slideshow": {
     "slide_type": "subslide"
    }
   },
   "source": [
    "Let's start with the first line:"
   ]
  },
  {
   "cell_type": "code",
   "execution_count": 95,
   "id": "bdc0ac35",
   "metadata": {
    "slideshow": {
     "slide_type": ""
    }
   },
   "outputs": [],
   "source": [
    "def sandwich(bread, meat, cheese, condiment):\n",
    "    desc = \"Here are instructions to make a \" + meat\n",
    "    \n",
    "    if cheese:\n",
    "        desc += \" and \"  + cheese\n",
    "    \n",
    "    desc += \" on \" + bread\n",
    "    \n",
    "    if condiment:\n",
    "        desc += \" with \" + condiment\n",
    "    \n",
    "    desc += \".\"\n",
    "    \n",
    "    print(desc)"
   ]
  },
  {
   "cell_type": "code",
   "execution_count": 96,
   "id": "95df4d9f",
   "metadata": {
    "scrolled": true,
    "slideshow": {
     "slide_type": "subslide"
    }
   },
   "outputs": [
    {
     "name": "stdout",
     "output_type": "stream",
     "text": [
      "Here are instructions to make a turkey and swiss on sourdough with mustard.\n"
     ]
    }
   ],
   "source": [
    "sandwich(\"sourdough\", \"turkey\", \"swiss\", \"mustard\")"
   ]
  },
  {
   "cell_type": "code",
   "execution_count": 97,
   "id": "8db4cd2e",
   "metadata": {
    "scrolled": true
   },
   "outputs": [
    {
     "name": "stdout",
     "output_type": "stream",
     "text": [
      "Here are instructions to make a turkey on sourdough with mustard.\n"
     ]
    }
   ],
   "source": [
    "sandwich(\"sourdough\", \"turkey\", \"\", \"mustard\")"
   ]
  },
  {
   "cell_type": "code",
   "execution_count": 98,
   "id": "1fa5f395",
   "metadata": {
    "scrolled": true
   },
   "outputs": [
    {
     "name": "stdout",
     "output_type": "stream",
     "text": [
      "Here are instructions to make a turkey and swiss on sourdough.\n"
     ]
    }
   ],
   "source": [
    "sandwich(\"sourdough\", \"turkey\", \"swiss\", \"\")"
   ]
  },
  {
   "cell_type": "code",
   "execution_count": 99,
   "id": "5ca60dad",
   "metadata": {
    "scrolled": true
   },
   "outputs": [
    {
     "name": "stdout",
     "output_type": "stream",
     "text": [
      "Here are instructions to make a turkey on sourdough.\n"
     ]
    }
   ],
   "source": [
    "sandwich(\"sourdough\", \"turkey\", \"\", \"\")"
   ]
  },
  {
   "cell_type": "markdown",
   "id": "9b84e040",
   "metadata": {
    "slideshow": {
     "slide_type": "subslide"
    }
   },
   "source": [
    "Step 1 is the same as before:"
   ]
  },
  {
   "cell_type": "code",
   "execution_count": 100,
   "id": "f2575eb2",
   "metadata": {
    "slideshow": {
     "slide_type": ""
    }
   },
   "outputs": [],
   "source": [
    "def sandwich(bread, meat, cheese, condiment):\n",
    "    desc = \"Here are instructions to make a \" + meat    \n",
    "    if cheese:\n",
    "        desc += \" and \"  + cheese\n",
    "    desc += \" on \" + bread    \n",
    "    if condiment:\n",
    "        desc += \" with \" + condiment\n",
    "    desc += \".\"    \n",
    "    print(desc)\n",
    "    \n",
    "    print(\"Step 1: Lay out 2 slices of \" + bread + \" bread.\")"
   ]
  },
  {
   "cell_type": "code",
   "execution_count": 101,
   "id": "b0604e5a",
   "metadata": {
    "scrolled": true
   },
   "outputs": [
    {
     "name": "stdout",
     "output_type": "stream",
     "text": [
      "Here are instructions to make a turkey and swiss on sourdough with mustard.\n",
      "Step 1: Lay out 2 slices of sourdough bread.\n"
     ]
    }
   ],
   "source": [
    "sandwich(\"sourdough\", \"turkey\", \"swiss\", \"mustard\")"
   ]
  },
  {
   "cell_type": "markdown",
   "id": "d33665fe",
   "metadata": {
    "slideshow": {
     "slide_type": "subslide"
    }
   },
   "source": [
    "Step 2 is where we start to run into trouble... it's different if we have a condiment."
   ]
  },
  {
   "cell_type": "code",
   "execution_count": 102,
   "id": "2a886fce",
   "metadata": {
    "slideshow": {
     "slide_type": ""
    }
   },
   "outputs": [],
   "source": [
    "def sandwich(bread, meat, cheese, condiment):\n",
    "    desc = \"Here are instructions to make a \" + meat    \n",
    "    if cheese:\n",
    "        desc += \" and \"  + cheese\n",
    "    desc += \" on \" + bread\n",
    "    if condiment:\n",
    "        desc += \" with \" + condiment\n",
    "    desc += \".\"\n",
    "    print(desc)\n",
    "    \n",
    "    print(\"Step 1: Lay out 2 slices of \" + bread + \" bread.\")\n",
    "    \n",
    "    if condiment:\n",
    "        print(\"Step 2: Spread \" + condiment + \" on both slices of \" + bread + \" bread.\")\n",
    "        print(\"Step 3: Put 3 pieces of \" + meat + \" on one slice of \" + bread + \" bread.\")\n",
    "    else: \n",
    "        print(\"Step 2: Put 3 pieces of \" + meat + \" on one slice of \" + bread + \" bread.\")"
   ]
  },
  {
   "cell_type": "code",
   "execution_count": 103,
   "id": "af7a2592",
   "metadata": {
    "scrolled": true
   },
   "outputs": [
    {
     "name": "stdout",
     "output_type": "stream",
     "text": [
      "Here are instructions to make a turkey and swiss on sourdough with mustard.\n",
      "Step 1: Lay out 2 slices of sourdough bread.\n",
      "Step 2: Spread mustard on both slices of sourdough bread.\n",
      "Step 3: Put 3 pieces of turkey on one slice of sourdough bread.\n"
     ]
    }
   ],
   "source": [
    "sandwich(\"sourdough\", \"turkey\", \"swiss\", \"mustard\")"
   ]
  },
  {
   "cell_type": "code",
   "execution_count": 104,
   "id": "59a9d22f",
   "metadata": {
    "scrolled": true
   },
   "outputs": [
    {
     "name": "stdout",
     "output_type": "stream",
     "text": [
      "Here are instructions to make a turkey and swiss on sourdough.\n",
      "Step 1: Lay out 2 slices of sourdough bread.\n",
      "Step 2: Put 3 pieces of turkey on one slice of sourdough bread.\n"
     ]
    }
   ],
   "source": [
    "sandwich(\"sourdough\", \"turkey\", \"swiss\", \"\")"
   ]
  },
  {
   "cell_type": "markdown",
   "id": "387c53e1",
   "metadata": {
    "slideshow": {
     "slide_type": "subslide"
    }
   },
   "source": [
    "Step 3/4 is where things really get messy:"
   ]
  },
  {
   "cell_type": "code",
   "execution_count": 105,
   "id": "165a6e19",
   "metadata": {
    "slideshow": {
     "slide_type": ""
    }
   },
   "outputs": [],
   "source": [
    "def sandwich(bread, meat, cheese, condiment):\n",
    "    desc = \"Here are instructions to make a \" + meat    \n",
    "    if cheese:\n",
    "        desc += \" and \"  + cheese\n",
    "    desc += \" on \" + bread\n",
    "    if condiment:\n",
    "        desc += \" with \" + condiment\n",
    "    desc += \".\"\n",
    "    print(desc)\n",
    "    \n",
    "    print(\"Step 1: Lay out 2 slices of \" + bread + \" bread.\")\n",
    "    \n",
    "    if condiment:\n",
    "        print(\"Step 2: Spread \" + condiment + \" on both slices of \" + bread + \" bread.\")\n",
    "        print(\"Step 3: Put 3 pieces of \" + meat + \" on one slice of \" + bread + \" bread.\")\n",
    "    else: \n",
    "        print(\"Step 2: Put 3 pieces of \" + meat + \" on one slice of \" + bread + \" bread.\")\n",
    "        \n",
    "    if cheese:\n",
    "        if condiment: # yes cheese, yes condiment\n",
    "            print(\"Step 4: Put 2 pieces of \" + cheese  + \" on top of the \" + meat + \".\")\n",
    "            print(\"Step 5: Put the second slice of bread on top of the \" + cheese + \".\")\n",
    "        else: # yes cheese, no condiment\n",
    "            print(\"Step 3: Put 2 pieces of \" + cheese  + \" on top of the \" + meat + \".\")\n",
    "            print(\"Step 4: Put the second slice of bread on top of the \" + cheese + \".\")\n",
    "    else:\n",
    "        if condiment: # no cheese, yes condiment\n",
    "            print(\"Step 4: Put the second slice of bread on top of the \" + meat + \".\")\n",
    "        else: # no cheese, no condiment\n",
    "            print(\"Step 3: Put the second slice of bread on top of the \" + meat + \".\")\n"
   ]
  },
  {
   "cell_type": "code",
   "execution_count": 106,
   "id": "cf931ffc",
   "metadata": {
    "scrolled": false,
    "slideshow": {
     "slide_type": "subslide"
    }
   },
   "outputs": [
    {
     "name": "stdout",
     "output_type": "stream",
     "text": [
      "Here are instructions to make a turkey and swiss on sourdough with mustard.\n",
      "Step 1: Lay out 2 slices of sourdough bread.\n",
      "Step 2: Spread mustard on both slices of sourdough bread.\n",
      "Step 3: Put 3 pieces of turkey on one slice of sourdough bread.\n",
      "Step 4: Put 2 pieces of swiss on top of the turkey.\n",
      "Step 5: Put the second slice of bread on top of the swiss.\n"
     ]
    }
   ],
   "source": [
    "sandwich(\"sourdough\", \"turkey\", \"swiss\", \"mustard\")"
   ]
  },
  {
   "cell_type": "code",
   "execution_count": 107,
   "id": "e7b87ffc",
   "metadata": {
    "scrolled": true,
    "slideshow": {
     "slide_type": ""
    }
   },
   "outputs": [
    {
     "name": "stdout",
     "output_type": "stream",
     "text": [
      "Here are instructions to make a turkey on sourdough with mustard.\n",
      "Step 1: Lay out 2 slices of sourdough bread.\n",
      "Step 2: Spread mustard on both slices of sourdough bread.\n",
      "Step 3: Put 3 pieces of turkey on one slice of sourdough bread.\n",
      "Step 4: Put the second slice of bread on top of the turkey.\n"
     ]
    }
   ],
   "source": [
    "sandwich(\"sourdough\", \"turkey\", \"\", \"mustard\")"
   ]
  },
  {
   "cell_type": "code",
   "execution_count": 108,
   "id": "29835c72",
   "metadata": {
    "scrolled": true,
    "slideshow": {
     "slide_type": "subslide"
    }
   },
   "outputs": [
    {
     "name": "stdout",
     "output_type": "stream",
     "text": [
      "Here are instructions to make a turkey and swiss on sourdough.\n",
      "Step 1: Lay out 2 slices of sourdough bread.\n",
      "Step 2: Put 3 pieces of turkey on one slice of sourdough bread.\n",
      "Step 3: Put 2 pieces of swiss on top of the turkey.\n",
      "Step 4: Put the second slice of bread on top of the swiss.\n"
     ]
    }
   ],
   "source": [
    "sandwich(\"sourdough\", \"turkey\", \"swiss\", \"\")"
   ]
  },
  {
   "cell_type": "code",
   "execution_count": 109,
   "id": "e6d5ba3c",
   "metadata": {
    "scrolled": false
   },
   "outputs": [
    {
     "name": "stdout",
     "output_type": "stream",
     "text": [
      "Here are instructions to make a turkey on sourdough.\n",
      "Step 1: Lay out 2 slices of sourdough bread.\n",
      "Step 2: Put 3 pieces of turkey on one slice of sourdough bread.\n",
      "Step 3: Put the second slice of bread on top of the turkey.\n"
     ]
    }
   ],
   "source": [
    "sandwich(\"sourdough\", \"turkey\", \"\", \"\")"
   ]
  },
  {
   "cell_type": "markdown",
   "id": "cd77046a",
   "metadata": {
    "slideshow": {
     "slide_type": "subslide"
    }
   },
   "source": [
    "Before we get any further... there **must** be a better way!\n",
    "\n",
    "Any ideas?"
   ]
  },
  {
   "cell_type": "markdown",
   "id": "f38ba422",
   "metadata": {
    "slideshow": {
     "slide_type": "fragment"
    }
   },
   "source": [
    "Let's use a variable to keep track of which step number is next!"
   ]
  },
  {
   "cell_type": "code",
   "execution_count": null,
   "id": "5a409d6f",
   "metadata": {
    "slideshow": {
     "slide_type": "subslide"
    }
   },
   "outputs": [],
   "source": [
    "def sandwich(bread, meat, cheese, condiment):\n",
    "    desc = \"Here are instructions to make a \" + meat\n",
    "    if cheese:\n",
    "        desc += \" and \"  + cheese\n",
    "    desc += \" on \" + bread\n",
    "    if condiment:\n",
    "        desc += \" with \" + condiment\n",
    "    desc += \".\"\n",
    "    print(desc)\n",
    "    \n",
    "    step = 1\n",
    "    print(\"Step \" + str(step) + \": Lay out 2 slices of \" + bread + \" bread.\")\n",
    "    step += 1\n",
    "\n",
    "    if condiment:\n",
    "        print(\"Step \" + str(step) + \": Spread \" + condiment + \" on both slices of \" + bread + \" bread.\")\n",
    "        step += 1 \n",
    "        \n",
    "    print(\"Step \" + str(step) + \": Put 3 pieces of \" + meat + \" on one slice of \" + bread + \" bread.\")\n",
    "    step += 1\n",
    "    \n",
    "    if cheese:\n",
    "        print(\"Step \" + str(step) + \": Put 2 pieces of \" + cheese  + \" on top of the \" + meat + \".\")\n",
    "        step += 1\n",
    "        print(\"Step \" + str(step) + \": Put the second slice of bread on top of the \" + cheese + \".\")\n",
    "        step += 1\n",
    "    else:\n",
    "        print(\"Step \" + str(step) + \": Put the second slice of bread on top of the \" + meat + \".\")\n",
    "        step += 1\n",
    "        \n",
    "    print(\"Step \" + str(step) + \": Cut in half\")\n",
    "    step += 1\n",
    "    \n",
    "    print(\"Step \" + str(step) + \": Eat!\")"
   ]
  },
  {
   "cell_type": "code",
   "execution_count": null,
   "id": "6b59c569",
   "metadata": {},
   "outputs": [],
   "source": [
    "sandwich(\"sourdough\", \"turkey\", \"swiss\", \"mustard\")"
   ]
  },
  {
   "cell_type": "code",
   "execution_count": null,
   "id": "d58eeac4",
   "metadata": {},
   "outputs": [],
   "source": [
    "sandwich(\"sourdough\", \"turkey\", \"\", \"\")"
   ]
  },
  {
   "cell_type": "code",
   "execution_count": null,
   "id": "6f783807",
   "metadata": {
    "scrolled": true
   },
   "outputs": [],
   "source": [
    "sandwich(\"sourdough\", \"turkey\", \"swiss\", \"\")"
   ]
  },
  {
   "cell_type": "code",
   "execution_count": null,
   "id": "1b163871",
   "metadata": {
    "scrolled": false
   },
   "outputs": [],
   "source": [
    "sandwich(\"sourdough\", \"turkey\", \"\", \"mustard\")"
   ]
  },
  {
   "cell_type": "markdown",
   "id": "fcfa1d2b",
   "metadata": {},
   "source": [
    "## Helper functions\n",
    "\n",
    "When you notice repeated patterns or lines of code in your programs, it's often a good idea to create a function that \"factors out\" the repetition.\n",
    "\n",
    "In our function, we're starting many lines with `\"Step \" + str(step) + \":\"`, e.g.:\n",
    "\n",
    "`print(\"Step \" + str(step) + \": Lay out 2 slices of \" + bread + \" bread.\")`\n",
    "\n",
    "Let's write a function to handle this."
   ]
  },
  {
   "cell_type": "code",
   "execution_count": 110,
   "id": "83696766",
   "metadata": {
    "slideshow": {
     "slide_type": "subslide"
    }
   },
   "outputs": [],
   "source": [
    "def print_step(step_num, instruction):\n",
    "    print(\"Step \" + str(step_num) + \": \" + instruction)"
   ]
  },
  {
   "cell_type": "code",
   "execution_count": 111,
   "id": "d048600c",
   "metadata": {},
   "outputs": [
    {
     "name": "stdout",
     "output_type": "stream",
     "text": [
      "Step 3: Toast bread\n"
     ]
    }
   ],
   "source": [
    "print_step(3, \"Toast bread\")"
   ]
  },
  {
   "cell_type": "code",
   "execution_count": 112,
   "id": "a06fdfe2",
   "metadata": {},
   "outputs": [
    {
     "name": "stdout",
     "output_type": "stream",
     "text": [
      "Step 1: Get ingredients\n"
     ]
    }
   ],
   "source": [
    "print_step(1, \"Get ingredients\")"
   ]
  },
  {
   "cell_type": "code",
   "execution_count": 113,
   "id": "a7a01136",
   "metadata": {
    "slideshow": {
     "slide_type": "subslide"
    }
   },
   "outputs": [],
   "source": [
    "def sandwich(bread, meat, cheese, condiment):\n",
    "    desc = \"Here are instructions to make a \" + meat\n",
    "    \n",
    "    if cheese:\n",
    "        desc += \" and \"  + cheese\n",
    "    desc += \" on \" + bread\n",
    "    \n",
    "    if condiment:\n",
    "        desc += \" with \" + condiment\n",
    "    desc += \".\"\n",
    "    \n",
    "    print(desc)\n",
    "    \n",
    "    step = 1\n",
    "    print_step(step, \"Lay out 2 slices of \" + bread + \" bread.\")\n",
    "    step += 1\n",
    "    \n",
    "    if condiment:\n",
    "        print_step(step, \"Spread \" + condiment + \" on both slices of \" + bread + \" bread.\")\n",
    "        step += 1 \n",
    "        \n",
    "    print_step(step, \"Put 3 pieces of \" + meat + \" on one slice of \" + bread + \" bread.\")\n",
    "    step += 1\n",
    "    \n",
    "    if cheese:\n",
    "        print_step(step, \"Put 2 pieces of \" + cheese  + \" on top of the \" + meat + \".\")\n",
    "        step += 1\n",
    "        print_step(step, \"Put the second slice of bread on top of the \" + cheese + \".\")\n",
    "        step += 1\n",
    "    else:\n",
    "        print_step(step, \"Put the second slice of bread on top of the \" + meat + \".\")\n",
    "        step += 1\n",
    "        \n",
    "    print_step(step, \"Cut in half\")\n",
    "    step += 1\n",
    "    \n",
    "    print_step(step, \"Eat!\")"
   ]
  },
  {
   "cell_type": "code",
   "execution_count": 114,
   "id": "07078591",
   "metadata": {},
   "outputs": [
    {
     "name": "stdout",
     "output_type": "stream",
     "text": [
      "Here are instructions to make a turkey and swiss on sourdough with mustard.\n",
      "Step 1: Lay out 2 slices of sourdough bread.\n",
      "Step 2: Spread mustard on both slices of sourdough bread.\n",
      "Step 3: Put 3 pieces of turkey on one slice of sourdough bread.\n",
      "Step 4: Put 2 pieces of swiss on top of the turkey.\n",
      "Step 5: Put the second slice of bread on top of the swiss.\n",
      "Step 6: Cut in half\n",
      "Step 7: Eat!\n"
     ]
    }
   ],
   "source": [
    "sandwich(\"sourdough\", \"turkey\", \"swiss\", \"mustard\")"
   ]
  }
 ],
 "metadata": {
  "celltoolbar": "Slideshow",
  "kernelspec": {
   "display_name": "Python 3 (ipykernel)",
   "language": "python",
   "name": "python3"
  },
  "language_info": {
   "codemirror_mode": {
    "name": "ipython",
    "version": 3
   },
   "file_extension": ".py",
   "mimetype": "text/x-python",
   "name": "python",
   "nbconvert_exporter": "python",
   "pygments_lexer": "ipython3",
   "version": "3.10.9"
  }
 },
 "nbformat": 4,
 "nbformat_minor": 5
}
