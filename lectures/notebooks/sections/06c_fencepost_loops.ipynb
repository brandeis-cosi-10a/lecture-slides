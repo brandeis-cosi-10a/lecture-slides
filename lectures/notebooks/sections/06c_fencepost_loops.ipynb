{
 "cells": [
  {
   "cell_type": "code",
   "execution_count": null,
   "id": "f9c3a80e",
   "metadata": {
    "execution": {
     "iopub.execute_input": "2023-09-30T20:43:10.476005Z",
     "iopub.status.busy": "2023-09-30T20:43:10.475743Z",
     "iopub.status.idle": "2023-09-30T20:43:10.479637Z",
     "shell.execute_reply": "2023-09-30T20:43:10.478973Z"
    },
    "slideshow": {
     "slide_type": "slide"
    }
   },
   "outputs": [],
   "source": [
    "# You can count down with a negative step\n",
    "for i in range(10, 0, -1):\n",
    "    print(i, end=', ')\n",
    "print(\"... blastoff!\")"
   ]
  },
  {
   "cell_type": "markdown",
   "id": "5740e877",
   "metadata": {},
   "source": [
    "How do we omit that last `,` in our countdown? \n",
    "\n",
    "This is a common problem when writing loops."
   ]
  },
  {
   "cell_type": "markdown",
   "id": "3a324b89",
   "metadata": {
    "slideshow": {
     "slide_type": "subslide"
    }
   },
   "source": [
    "## A flawed attempt:"
   ]
  },
  {
   "cell_type": "code",
   "execution_count": 1,
   "id": "f7b152bf",
   "metadata": {
    "execution": {
     "iopub.execute_input": "2023-09-30T20:43:10.482663Z",
     "iopub.status.busy": "2023-09-30T20:43:10.482407Z",
     "iopub.status.idle": "2023-09-30T20:43:10.486099Z",
     "shell.execute_reply": "2023-09-30T20:43:10.485522Z"
    }
   },
   "outputs": [
    {
     "name": "stdout",
     "output_type": "stream",
     "text": [
      ", 10, 9, 8, 7, 6, 5, 4, 3, 2, 1... blastoff!\n"
     ]
    }
   ],
   "source": [
    "for i in range(10, 0, -1):\n",
    "    print(\", \" + str(i), end='')\n",
    "print(\"... blastoff!\")"
   ]
  },
  {
   "cell_type": "markdown",
   "id": "88060957",
   "metadata": {
    "slideshow": {
     "slide_type": "slide"
    }
   },
   "source": [
    "## Not quite...\n",
    "\n",
    "We want to print `n` numbers, but `n-1` commas. If we always print a number and comma together, we'll never get it right."
   ]
  },
  {
   "cell_type": "markdown",
   "id": "482242ef",
   "metadata": {
    "slideshow": {
     "slide_type": "subslide"
    }
   },
   "source": [
    "**Solution 1**: Pull the first number out of the loop and print it by itself, then print a comma before every other number"
   ]
  },
  {
   "cell_type": "code",
   "execution_count": null,
   "id": "6b6992ff",
   "metadata": {
    "execution": {
     "iopub.execute_input": "2023-09-30T20:43:10.489379Z",
     "iopub.status.busy": "2023-09-30T20:43:10.489123Z",
     "iopub.status.idle": "2023-09-30T20:43:10.492846Z",
     "shell.execute_reply": "2023-09-30T20:43:10.492261Z"
    },
    "slideshow": {
     "slide_type": "-"
    }
   },
   "outputs": [],
   "source": [
    "print(10, end='')\n",
    "for i in range(9, 0, -1):\n",
    "    print(\", \" + str(i), end='')\n",
    "print(\"... blastoff!\")"
   ]
  },
  {
   "cell_type": "markdown",
   "id": "06919794",
   "metadata": {
    "slideshow": {
     "slide_type": "fragment"
    }
   },
   "source": [
    "**Solution 2**: Print every number with a comma after it, but pull the last number out of the loop and print it by itself."
   ]
  },
  {
   "cell_type": "code",
   "execution_count": null,
   "id": "aaca82b7",
   "metadata": {
    "execution": {
     "iopub.execute_input": "2023-09-30T20:43:10.496174Z",
     "iopub.status.busy": "2023-09-30T20:43:10.495901Z",
     "iopub.status.idle": "2023-09-30T20:43:10.499464Z",
     "shell.execute_reply": "2023-09-30T20:43:10.498874Z"
    }
   },
   "outputs": [],
   "source": [
    "for i in range(10, 1, -1): \n",
    "    print(i, end=', ')\n",
    "print(\"1... blastoff!\")"
   ]
  },
  {
   "cell_type": "markdown",
   "id": "717f3afa",
   "metadata": {
    "slideshow": {
     "slide_type": "slide"
    }
   },
   "source": [
    "# Fencepost loops\n",
    "\n",
    "This pattern is called a \"fencepost loop\" because it is similar to building a fence - you need a post followed by rails for each section, and at the end you need a single extra post to finish it off.\n",
    "\n",
    "<br/><br/>\n",
    "<img src=\"../images/fencepost.png\" style=\"display:block; margin:auto; width: 50%;\"/>\n"
   ]
  }
 ],
 "metadata": {
  "celltoolbar": "Slideshow",
  "kernelspec": {
   "display_name": "Python 3 (ipykernel)",
   "language": "python",
   "name": "python3"
  },
  "language_info": {
   "codemirror_mode": {
    "name": "ipython",
    "version": 3
   },
   "file_extension": ".py",
   "mimetype": "text/x-python",
   "name": "python",
   "nbconvert_exporter": "python",
   "pygments_lexer": "ipython3",
   "version": "3.10.9"
  }
 },
 "nbformat": 4,
 "nbformat_minor": 5
}
