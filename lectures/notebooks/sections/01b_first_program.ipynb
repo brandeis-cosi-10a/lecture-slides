{
 "cells": [
  {
   "cell_type": "markdown",
   "id": "686eee8f",
   "metadata": {
    "slideshow": {
     "slide_type": "slide"
    }
   },
   "source": [
    "# Our first Python program"
   ]
  },
  {
   "cell_type": "code",
   "execution_count": 1,
   "id": "7a2e43e9",
   "metadata": {
    "slideshow": {
     "slide_type": "fragment"
    },
    "tags": []
   },
   "outputs": [
    {
     "name": "stdout",
     "output_type": "stream",
     "text": [
      "Hello world!\n"
     ]
    }
   ],
   "source": [
    "print(\"Hello world!\")"
   ]
  },
  {
   "cell_type": "markdown",
   "id": "27aabf09",
   "metadata": {
    "slideshow": {
     "slide_type": "subslide"
    }
   },
   "source": [
    "# Code is picky\n",
    "\n",
    "## Spacing, punctuation, capitalization all matter"
   ]
  },
  {
   "cell_type": "markdown",
   "id": "bef05d94",
   "metadata": {
    "slideshow": {
     "slide_type": "subslide"
    }
   },
   "source": [
    "* Quotation marks are required here"
   ]
  },
  {
   "cell_type": "code",
   "execution_count": 2,
   "id": "5ad0817d",
   "metadata": {
    "slideshow": {
     "slide_type": "-"
    },
    "tags": [
     "raises-exception"
    ]
   },
   "outputs": [
    {
     "ename": "SyntaxError",
     "evalue": "invalid syntax (4206259929.py, line 1)",
     "output_type": "error",
     "traceback": [
      "\u001b[0;36m  Cell \u001b[0;32mIn[2], line 1\u001b[0;36m\u001b[0m\n\u001b[0;31m    print(Hello, world!)\u001b[0m\n\u001b[0m                      ^\u001b[0m\n\u001b[0;31mSyntaxError\u001b[0m\u001b[0;31m:\u001b[0m invalid syntax\n"
     ]
    }
   ],
   "source": [
    "print(Hello, world!)"
   ]
  },
  {
   "cell_type": "markdown",
   "id": "c417f380",
   "metadata": {
    "slideshow": {
     "slide_type": "subslide"
    }
   },
   "source": [
    "* Parentheses are required here"
   ]
  },
  {
   "cell_type": "code",
   "execution_count": 3,
   "id": "bab1c969",
   "metadata": {
    "slideshow": {
     "slide_type": "-"
    },
    "tags": [
     "raises-exception"
    ]
   },
   "outputs": [
    {
     "ename": "SyntaxError",
     "evalue": "Missing parentheses in call to 'print'. Did you mean print(...)? (4007745712.py, line 1)",
     "output_type": "error",
     "traceback": [
      "\u001b[0;36m  Cell \u001b[0;32mIn[3], line 1\u001b[0;36m\u001b[0m\n\u001b[0;31m    print \"Hello, world!\"\u001b[0m\n\u001b[0m    ^\u001b[0m\n\u001b[0;31mSyntaxError\u001b[0m\u001b[0;31m:\u001b[0m Missing parentheses in call to 'print'. Did you mean print(...)?\n"
     ]
    }
   ],
   "source": [
    "print \"Hello, world!\""
   ]
  },
  {
   "cell_type": "markdown",
   "id": "70a5ac86",
   "metadata": {
    "slideshow": {
     "slide_type": "subslide"
    }
   },
   "source": [
    "* \"print\" must be lowercase"
   ]
  },
  {
   "cell_type": "code",
   "execution_count": 4,
   "id": "a5fd6d0a",
   "metadata": {
    "slideshow": {
     "slide_type": "-"
    },
    "tags": [
     "raises-exception"
    ]
   },
   "outputs": [
    {
     "ename": "NameError",
     "evalue": "name 'Print' is not defined",
     "output_type": "error",
     "traceback": [
      "\u001b[0;31m---------------------------------------------------------------------------\u001b[0m",
      "\u001b[0;31mNameError\u001b[0m                                 Traceback (most recent call last)",
      "Cell \u001b[0;32mIn[4], line 1\u001b[0m\n\u001b[0;32m----> 1\u001b[0m \u001b[43mPrint\u001b[49m(\u001b[38;5;124m\"\u001b[39m\u001b[38;5;124mHello, world!\u001b[39m\u001b[38;5;124m\"\u001b[39m)\n",
      "\u001b[0;31mNameError\u001b[0m: name 'Print' is not defined"
     ]
    }
   ],
   "source": [
    "Print(\"Hello, world!\")"
   ]
  },
  {
   "cell_type": "markdown",
   "id": "c51422ae",
   "metadata": {
    "slideshow": {
     "slide_type": "subslide"
    }
   },
   "source": [
    "* In Python, even indentation matters!"
   ]
  },
  {
   "cell_type": "code",
   "execution_count": 5,
   "id": "b3b09d61",
   "metadata": {
    "slideshow": {
     "slide_type": "-"
    },
    "tags": [
     "raises-exception"
    ]
   },
   "outputs": [
    {
     "ename": "IndentationError",
     "evalue": "unexpected indent (841942942.py, line 2)",
     "output_type": "error",
     "traceback": [
      "\u001b[0;36m  Cell \u001b[0;32mIn[5], line 2\u001b[0;36m\u001b[0m\n\u001b[0;31m    print(\"You can't use random indents like this!\")\u001b[0m\n\u001b[0m    ^\u001b[0m\n\u001b[0;31mIndentationError\u001b[0m\u001b[0;31m:\u001b[0m unexpected indent\n"
     ]
    }
   ],
   "source": [
    "print(\"Hello, world!\")\n",
    "  print(\"You can't use random indents like this!\")"
   ]
  },
  {
   "cell_type": "markdown",
   "id": "1740c266",
   "metadata": {
    "slideshow": {
     "slide_type": "slide"
    }
   },
   "source": [
    "# Some terminology"
   ]
  },
  {
   "cell_type": "code",
   "execution_count": 6,
   "id": "33a472bf",
   "metadata": {
    "slideshow": {
     "slide_type": "-"
    }
   },
   "outputs": [
    {
     "name": "stdout",
     "output_type": "stream",
     "text": [
      "Hello, world!\n"
     ]
    }
   ],
   "source": [
    "print(\"Hello, world!\")"
   ]
  },
  {
   "cell_type": "markdown",
   "id": "48b839de",
   "metadata": {
    "slideshow": {
     "slide_type": "fragment"
    }
   },
   "source": [
    "* <span style=\"color: green;\">**print**</span> is a **function**: a named, reusable block of code\n",
    "\n",
    "* The code above **calls** or **invokes** the <span style=\"color: green;\">**print**</span> function."
   ]
  },
  {
   "cell_type": "markdown",
   "id": "dc176cb3",
   "metadata": {
    "slideshow": {
     "slide_type": "fragment"
    }
   },
   "source": [
    "* <span style=\"color: #BA2121;\">\"Hello, world!\"</span> is a **string**: a sequence of characters\n",
    "\n",
    "* We are passing the string <span style=\"color: #BA2121;\">\"Hello, world!\"</span> to the <span style=\"color: green;\">**print**</span> function.\n",
    "\n",
    "* A value passed to a function is called an **argument**.\n"
   ]
  },
  {
   "cell_type": "markdown",
   "id": "fc8289f3",
   "metadata": {
    "slideshow": {
     "slide_type": "fragment"
    }
   },
   "source": [
    "* So: we are calling the <span style=\"color: green;\">**print**</span> function with the string argument <span style=\"color: #BA2121;\">\"Hello, world!\"</span>\n",
    "\n",
    "* Or: we are passing the string argument <span style=\"color: #BA2121;\">\"Hello, world!\"</span> to the <span style=\"color: green;\">**print**</span> function"
   ]
  },
  {
   "cell_type": "markdown",
   "id": "2444998d",
   "metadata": {
    "slideshow": {
     "slide_type": "slide"
    }
   },
   "source": [
    "# Comments\n",
    "\n",
    "* Lines that start with a `#` are **comments**\n",
    "* They are ignored by the interpreter\n",
    "*  Comments can be used to document or explain your code."
   ]
  },
  {
   "cell_type": "code",
   "execution_count": null,
   "id": "9cad0139",
   "metadata": {
    "slideshow": {
     "slide_type": "-"
    }
   },
   "outputs": [],
   "source": [
    "# This is a comment. \n",
    "# Any line starting with a hashtag is a comment, and is ignored by the interpreter.\n",
    "#\n",
    "# Comments can be used to document or explain your code.\n",
    "print(\"Hello, world!\")"
   ]
  },
  {
   "cell_type": "markdown",
   "id": "fa98023b",
   "metadata": {
    "slideshow": {
     "slide_type": "slide"
    }
   },
   "source": [
    "# [Slido]"
   ]
  },
  {
   "cell_type": "markdown",
   "id": "3f33ffde",
   "metadata": {
    "slideshow": {
     "slide_type": "subslide"
    }
   },
   "source": [
    "## Decoding error messages"
   ]
  },
  {
   "cell_type": "code",
   "execution_count": 7,
   "id": "0f6d6ed2",
   "metadata": {
    "slideshow": {
     "slide_type": "-"
    },
    "tags": [
     "raises-exception"
    ]
   },
   "outputs": [
    {
     "ename": "SyntaxError",
     "evalue": "unterminated string literal (detected at line 1) (3947439827.py, line 1)",
     "output_type": "error",
     "traceback": [
      "\u001b[0;36m  Cell \u001b[0;32mIn[7], line 1\u001b[0;36m\u001b[0m\n\u001b[0;31m    print(\"What is wrong with this line)\u001b[0m\n\u001b[0m          ^\u001b[0m\n\u001b[0;31mSyntaxError\u001b[0m\u001b[0;31m:\u001b[0m unterminated string literal (detected at line 1)\n"
     ]
    }
   ],
   "source": [
    "print(\"What is wrong with this line)\n",
    "print \"Something else is wrong here\"\n",
    "print(This is getting ridiculous)\n",
    "print('Can't we have a single working line?')"
   ]
  },
  {
   "cell_type": "markdown",
   "id": "7dc33cef",
   "metadata": {
    "slideshow": {
     "slide_type": "subslide"
    }
   },
   "source": [
    "## Reference documentation\n",
    "* Python comes with many built-in functions and libraries, all with exhaustive documentation\n",
    "* The documentation can be very useful, but also intimidating\n",
    "* Interpreting the formal docs is a skill on its own\n",
    "* The official, formal docs will make more sense as the term goes on\n"
   ]
  },
  {
   "cell_type": "markdown",
   "id": "0300a663",
   "metadata": {
    "slideshow": {
     "slide_type": "subslide"
    }
   },
   "source": [
    "<img src=\"./images/print_refdoc.png\" style=\"display:block; margin:auto; width: 80%;\"/>\n"
   ]
  }
 ],
 "metadata": {
  "kernelspec": {
   "display_name": "Python 3 (ipykernel)",
   "language": "python",
   "name": "python3"
  },
  "language_info": {
   "codemirror_mode": {
    "name": "ipython",
    "version": 3
   },
   "file_extension": ".py",
   "mimetype": "text/x-python",
   "name": "python",
   "nbconvert_exporter": "python",
   "pygments_lexer": "ipython3",
   "version": "3.10.9"
  }
 },
 "nbformat": 4,
 "nbformat_minor": 5
}
