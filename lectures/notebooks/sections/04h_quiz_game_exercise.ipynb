{
 "cells": [
  {
   "cell_type": "markdown",
   "id": "2387e502",
   "metadata": {},
   "source": [
    "## Exercise: Quiz Game\n",
    "\n",
    "[GitHub Classroom -> Class exercises -> Open in GitHub Cospaces](https://classroom.github.com/a/M3gdSqkV)\n",
    "\n",
    "Open the file: `exercises/04/quiz_game/README.md`, follow the instructions.\n",
    "* If you don't see this folder: Open the file: `get_exercises.sh`, click the \"Run\" button at the top right of the editor.\n"
   ]
  },
  {
   "cell_type": "markdown",
   "id": "c4d0a102",
   "metadata": {
    "slideshow": {
     "slide_type": "slide"
    }
   },
   "source": [
    "# Exercise\n",
    "\n",
    "Write a program which quizzes a player with a series of at least 5 questions.\n",
    "\n",
    "The player should be awarded 1 point for each correct answer. \n",
    "\n",
    "If the player answers incorrectly 2 times, the quiz should end.\n",
    "\n",
    "At the end of the quiz (win or lose), the program should print out the number of points the player earned."
   ]
  },
  {
   "cell_type": "code",
   "execution_count": null,
   "id": "dc1312aa",
   "metadata": {
    "execution": {
     "iopub.execute_input": "2023-10-04T02:30:14.055627Z",
     "iopub.status.busy": "2023-10-04T02:30:14.055373Z",
     "iopub.status.idle": "2023-10-04T02:30:14.142405Z",
     "shell.execute_reply": "2023-10-04T02:30:14.141732Z"
    },
    "slideshow": {
     "slide_type": "subslide"
    },
    "tags": [
     "remove-output"
    ]
   },
   "outputs": [],
   "source": [
    "# Attempt 1\n",
    "print(\"Welcome to the geography quiz!\")\n",
    "incorrect = 0\n",
    "points = 0\n",
    "\n",
    "answer1 = input(\"Question 1: Does Kansas border Colorado? (y/n) \")\n",
    "if answer1 == 'y':\n",
    "    points = points + 1\n",
    "else:\n",
    "    incorrect = incorrect + 1\n",
    "\n",
    "answer2 = input(\"Question 2: How many countries are in Europe? \")\n",
    "if answer2 == \"50\":\n",
    "    points = points + 1\n",
    "else:\n",
    "    incorrect = incorrect + 1\n",
    "\n",
    "if incorrect < 2:\n",
    "    answer3 = input(\"Question 3: In which state can you find the Grand Canyon? \")\n",
    "    if answer3 == \"Arizona\":\n",
    "        points = points + 1\n",
    "    else:\n",
    "        incorrect = incorrect + 1\n",
    "\n",
    "if incorrect < 2:\n",
    "    answer4 = input(\"Question 4: Which North American city has a larger population: Los Angeles or Mexico City? \")\n",
    "    if answer4 == \"Mexico City\":\n",
    "        points = points + 1\n",
    "    else:\n",
    "        incorrect = incorrect + 1\n",
    "\n",
    "if incorrect < 2:\n",
    "    answer4 = input(\"Question 5: Which country has the most volcanoes? \")\n",
    "    if answer4 == \"Indonesia\":\n",
    "        points = points + 1\n",
    "    else:\n",
    "        incorrect = incorrect + 1\n",
    "\n",
    "print(\"You earned \" + str(points) + \" points!\")"
   ]
  },
  {
   "cell_type": "markdown",
   "id": "70ffe635",
   "metadata": {
    "slideshow": {
     "slide_type": "subslide"
    }
   },
   "source": [
    "This is ok, but pretty clunky. Let's add some feedback after answering the questions."
   ]
  },
  {
   "cell_type": "code",
   "execution_count": null,
   "id": "00ffe2d0",
   "metadata": {
    "execution": {
     "iopub.execute_input": "2023-10-04T02:30:14.146336Z",
     "iopub.status.busy": "2023-10-04T02:30:14.146003Z",
     "iopub.status.idle": "2023-10-04T02:30:14.177259Z",
     "shell.execute_reply": "2023-10-04T02:30:14.175404Z"
    },
    "slideshow": {
     "slide_type": "subslide"
    },
    "tags": [
     "remove-output"
    ]
   },
   "outputs": [],
   "source": [
    "# Attempt 2\n",
    "print(\"Welcome to the geography quiz!\")\n",
    "incorrect = 0\n",
    "points = 0\n",
    "\n",
    "answer1 = input(\"Question 1: Does Kansas border Colorado? (y/n) \")\n",
    "if answer1 == 'y':\n",
    "    print(\"Correct!\")\n",
    "    points = points + 1\n",
    "else:\n",
    "    print(\"Incorrect! The answer was 'y'\")\n",
    "    incorrect = incorrect + 1\n",
    "\n",
    "answer2 = input(\"Question 2: How many countries are in Europe? \")\n",
    "if answer2 == \"50\":\n",
    "    print(\"Correct!\")\n",
    "    points = points + 1\n",
    "else:\n",
    "    print(\"Incorrect! The answer was '50'\")\n",
    "    incorrect = incorrect + 1\n",
    "\n",
    "if incorrect < 2:\n",
    "    answer3 = input(\"Question 3: In which state can you find the Grand Canyon? \")\n",
    "    if answer3 == \"Arizona\":\n",
    "        print(\"Correct!\")\n",
    "        points = points + 1\n",
    "    else:\n",
    "        print(\"Incorrect! The answer was 'Arizona'\")\n",
    "        incorrect = incorrect + 1\n",
    "\n",
    "if incorrect < 2:\n",
    "    answer4 = input(\"Question 4: Which North American city has a larger population: Los Angeles or Mexico City? \")\n",
    "    if answer4 == \"Mexico City\":\n",
    "        print(\"Correct!\")\n",
    "        points = points + 1\n",
    "    else:\n",
    "        print(\"Incorrect! The answer was 'Mexico City'\")\n",
    "        incorrect = incorrect + 1\n",
    "\n",
    "if incorrect < 2:\n",
    "    answer4 = input(\"Question 5: Which country has the most volcanoes? \")\n",
    "    if answer4 == \"Indonesia\":\n",
    "        print(\"Correct!\")\n",
    "        points = points + 1\n",
    "    else:\n",
    "        print(\"Incorrect! The answer was 'Indonesia'\")\n",
    "        incorrect = incorrect + 1\n",
    "\n",
    "print(\"You earned \" + str(points) + \" points!\")"
   ]
  },
  {
   "cell_type": "markdown",
   "id": "d8c42a42",
   "metadata": {
    "slideshow": {
     "slide_type": "subslide"
    }
   },
   "source": [
    "It plays a little better, but making that change was tedious - we had to make 5 almost identical edits. There's a lot duplication. Let's **decompose**. \n",
    "\n",
    "The main repeated parts of the game are asking a question, and checking the answer. Let's write functions for those operations."
   ]
  },
  {
   "cell_type": "code",
   "execution_count": null,
   "id": "9e7bb4b3",
   "metadata": {
    "execution": {
     "iopub.execute_input": "2023-10-04T02:30:14.180707Z",
     "iopub.status.busy": "2023-10-04T02:30:14.180449Z",
     "iopub.status.idle": "2023-10-04T02:30:14.213367Z",
     "shell.execute_reply": "2023-10-04T02:30:14.212721Z"
    },
    "slideshow": {
     "slide_type": "subslide"
    },
    "tags": [
     "remove-output"
    ]
   },
   "outputs": [],
   "source": [
    "# Attempt 3 - is this good?\n",
    "print(\"Welcome to the geography quiz!\")\n",
    "incorrect = 0\n",
    "points = 0\n",
    "\n",
    "def do_question(question):\n",
    "    answer = input(question)\n",
    "    return answer\n",
    "\n",
    "def check_answer(actual, expected):\n",
    "    if actual == expected:\n",
    "        print(\"Correct!\")        \n",
    "        return True\n",
    "    else:\n",
    "        print(\"Incorrect! The correct answer was '\" + expected + \"'\")        \n",
    "        return False\n",
    "\n",
    "answer1 = do_question(\"Question 1: Does Kansas border Colorado? (y/n) \")\n",
    "if check_answer(answer1, \"y\"):\n",
    "    points = points + 1\n",
    "else:\n",
    "    incorrect = incorrect + 1\n",
    "\n",
    "answer2 = do_question(\"Question 2: How many countries are in Europe? \")\n",
    "if check_answer(answer2, \"50\"):\n",
    "    points = points + 1\n",
    "else:\n",
    "    incorrect = incorrect + 1\n",
    "\n",
    "#...\n",
    "print(\"You earned \" + str(points) + \" points!\")"
   ]
  },
  {
   "cell_type": "markdown",
   "id": "7feac485",
   "metadata": {
    "slideshow": {
     "slide_type": "subslide"
    }
   },
   "source": [
    "Hm, this has taken away **some** duplication. \n",
    "\n",
    "But `do_question` is too small to be very useful, and we still have a lot of boilerplate for each question.\n",
    "\n",
    "Let's try combining these 2 together - they always happen in sequence, and we don't have much of a reason to split them apart."
   ]
  },
  {
   "cell_type": "code",
   "execution_count": null,
   "id": "f6679dff",
   "metadata": {
    "execution": {
     "iopub.execute_input": "2023-10-04T02:30:14.217497Z",
     "iopub.status.busy": "2023-10-04T02:30:14.217179Z",
     "iopub.status.idle": "2023-10-04T02:30:14.250900Z",
     "shell.execute_reply": "2023-10-04T02:30:14.250155Z"
    },
    "slideshow": {
     "slide_type": "subslide"
    },
    "tags": [
     "remove-output"
    ]
   },
   "outputs": [],
   "source": [
    "# Attempt 4\n",
    "print(\"Welcome to the geography quiz!\")\n",
    "incorrect = 0\n",
    "points = 0\n",
    "\n",
    "def do_question(question, expected_answer):\n",
    "    answer = input(question)\n",
    "    if answer == expected_answer:\n",
    "        print(\"Correct!\")\n",
    "        return True\n",
    "    else:\n",
    "        print(\"Incorrect! The answer was '\" + expected_answer + \"'\")\n",
    "        return False\n",
    "        \n",
    "if do_question(\"Question 1: Does Kansas border Colorado? (y/n) \", \"y\"):\n",
    "    points = points + 1\n",
    "else:\n",
    "    incorrect = incorrect + 1\n",
    "    \n",
    "if do_question(\"Question 2: How many countries are in Europe? \", \"50\"):\n",
    "    points = points + 1\n",
    "else:\n",
    "    incorrect = incorrect + 1\n",
    "\n",
    "# ...\n",
    "print(\"You earned \" + str(points) + \" points!\")"
   ]
  },
  {
   "cell_type": "markdown",
   "id": "4586c7d6",
   "metadata": {
    "slideshow": {
     "slide_type": "subslide"
    }
   },
   "source": [
    "Can we do better?"
   ]
  },
  {
   "cell_type": "markdown",
   "id": "1fa89d42",
   "metadata": {
    "slideshow": {
     "slide_type": "fragment"
    }
   },
   "source": [
    "Let's try doing the point & incorrect tracking inside `do_question`."
   ]
  },
  {
   "cell_type": "code",
   "execution_count": null,
   "id": "594ce4ce",
   "metadata": {
    "execution": {
     "iopub.execute_input": "2023-10-04T02:30:14.254196Z",
     "iopub.status.busy": "2023-10-04T02:30:14.253928Z",
     "iopub.status.idle": "2023-10-04T02:30:14.285845Z",
     "shell.execute_reply": "2023-10-04T02:30:14.285218Z"
    },
    "slideshow": {
     "slide_type": "subslide"
    },
    "tags": [
     "remove-output"
    ]
   },
   "outputs": [],
   "source": [
    "# Attempt 5\n",
    "print(\"Welcome to the geography quiz!\")\n",
    "incorrect = 0\n",
    "points = 0\n",
    "\n",
    "def do_question(question, expected_answer):\n",
    "    answer = input(question)\n",
    "    if answer == expected_answer:\n",
    "        print(\"Correct!\")\n",
    "        points = points + 1\n",
    "    else:\n",
    "        print(\"Incorrect! The answer was '\" + expected_answer + \"'\")\n",
    "        incorrect = incorrect + 1\n",
    "        \n",
    "do_question(\"Question 1: Does Kansas border Colorado? (y/n) \", \"y\")\n",
    "do_question(\"Question 2: How many countries are in Europe? \", \"50\")\n",
    "do_question(\"Question 3: In which state can you find the Grand Canyon? \", \"Arizona\")\n",
    "do_question(\"Question 4: Which North American city has a larger population: Los Angeles or Mexico City? \", \"Mexico City\")\n",
    "do_question(\"Question 5: Which country has the most volcanoes? \", \"Indonesia\")\n",
    "print(\"You earned \" + str(points) + \" points!\")"
   ]
  },
  {
   "cell_type": "markdown",
   "id": "3b294fad",
   "metadata": {
    "slideshow": {
     "slide_type": "subslide"
    }
   },
   "source": [
    "`UnboundLocalError: local variable 'points' referenced before assignment`\n",
    "\n",
    "What's wrong?"
   ]
  },
  {
   "cell_type": "markdown",
   "id": "b9561251",
   "metadata": {
    "slideshow": {
     "slide_type": "fragment"
    }
   },
   "source": [
    "Those pesky globals... `points` is treated like a local variable in that function. We need to explicitly use the `global` keyword."
   ]
  },
  {
   "cell_type": "code",
   "execution_count": null,
   "id": "5f247d53",
   "metadata": {
    "execution": {
     "iopub.execute_input": "2023-10-04T02:30:14.289455Z",
     "iopub.status.busy": "2023-10-04T02:30:14.289165Z",
     "iopub.status.idle": "2023-10-04T02:30:14.323106Z",
     "shell.execute_reply": "2023-10-04T02:30:14.322057Z"
    },
    "slideshow": {
     "slide_type": "subslide"
    },
    "tags": [
     "remove-output"
    ]
   },
   "outputs": [],
   "source": [
    "# Attempt 6\n",
    "print(\"Welcome to the geography quiz!\")\n",
    "incorrect = 0\n",
    "points = 0\n",
    "\n",
    "def do_question(question, expected_answer):\n",
    "    global points\n",
    "    global incorrect\n",
    "    answer = input(question)\n",
    "    if answer == expected_answer:\n",
    "        print(\"Correct!\")\n",
    "        points = points + 1\n",
    "    else:\n",
    "        print(\"Incorrect! The answer was '\" + expected_answer + \"'\")\n",
    "        incorrect = incorrect + 1\n",
    "        \n",
    "do_question(\"Question 1: Does Kansas border Colorado? (y/n) \", \"y\")\n",
    "do_question(\"Question 2: How many countries are in Europe? \", \"50\")\n",
    "do_question(\"Question 3: In which state can you find the Grand Canyon? \", \"Arizona\")\n",
    "do_question(\"Question 4: Which North American city has a larger population: Los Angeles or Mexico City? \", \"Mexico City\")\n",
    "do_question(\"Question 5: Which country has the most volcanoes? \", \"Indonesia\")\n",
    "print(\"You earned \" + str(points) + \" points!\")"
   ]
  },
  {
   "cell_type": "markdown",
   "id": "2858f8ff",
   "metadata": {
    "slideshow": {
     "slide_type": "subslide"
    }
   },
   "source": [
    "# Globals again \n",
    "\n",
    "Overusing globals is considered a bad coding practice. Having more than a few of them can make larger programs very difficult to debug and maintain. \n",
    "\n",
    "However, you haven't yet learned the language features that would let you avoid using them in this case - so for now, use globals if you think they can help!"
   ]
  },
  {
   "cell_type": "markdown",
   "id": "3fbb9b19",
   "metadata": {
    "slideshow": {
     "slide_type": "fragment"
    }
   },
   "source": [
    "This is much better. Is it still correct?"
   ]
  },
  {
   "cell_type": "code",
   "execution_count": null,
   "id": "18fb68e2",
   "metadata": {
    "execution": {
     "iopub.execute_input": "2023-10-04T02:30:14.326961Z",
     "iopub.status.busy": "2023-10-04T02:30:14.326687Z",
     "iopub.status.idle": "2023-10-04T02:30:14.358676Z",
     "shell.execute_reply": "2023-10-04T02:30:14.357367Z"
    },
    "slideshow": {
     "slide_type": "subslide"
    },
    "tags": [
     "remove-output"
    ]
   },
   "outputs": [],
   "source": [
    "# Attempt 6\n",
    "print(\"Welcome to the geography quiz!\")\n",
    "incorrect = 0\n",
    "points = 0\n",
    "\n",
    "def do_question(question, expected_answer):\n",
    "    global points\n",
    "    global incorrect\n",
    "    answer = input(question)\n",
    "    if answer == expected_answer:\n",
    "        print(\"Correct!\")\n",
    "        points = points + 1\n",
    "    else:\n",
    "        print(\"Incorrect! The answer was '\" + expected_answer + \"'\")\n",
    "        incorrect = incorrect + 1\n",
    "        \n",
    "do_question(\"Question 1: Does Kansas border Colorado? (y/n) \", \"y\")\n",
    "do_question(\"Question 2: How many countries are in Europe? \", \"50\")\n",
    "do_question(\"Question 3: In which state can you find the Grand Canyon? \", \"Arizona\")\n",
    "do_question(\"Question 4: Which North American city has a larger population: Los Angeles or Mexico City? \", \"Mexico City\")\n",
    "do_question(\"Question 5: Which country has the most volcanoes? \", \"Indonesia\")\n",
    "print(\"You earned \" + str(points) + \" points!\")"
   ]
  },
  {
   "cell_type": "markdown",
   "id": "0adf0f6c",
   "metadata": {
    "slideshow": {
     "slide_type": "fragment"
    }
   },
   "source": [
    "Whoops... it doesn't stop after 2 wrong answers."
   ]
  },
  {
   "cell_type": "markdown",
   "id": "cc01cb92",
   "metadata": {
    "slideshow": {
     "slide_type": "subslide"
    }
   },
   "source": [
    "Here we use `return` to control the flow of the program. Once the player has accumulated 2 incorrect answers, the rest of the questions are skipped."
   ]
  },
  {
   "cell_type": "code",
   "execution_count": null,
   "id": "2c1bd986",
   "metadata": {
    "execution": {
     "iopub.execute_input": "2023-10-04T02:30:14.363262Z",
     "iopub.status.busy": "2023-10-04T02:30:14.362974Z",
     "iopub.status.idle": "2023-10-04T02:30:14.397325Z",
     "shell.execute_reply": "2023-10-04T02:30:14.396563Z"
    },
    "slideshow": {
     "slide_type": "-"
    },
    "tags": [
     "remove-output"
    ]
   },
   "outputs": [],
   "source": [
    "# Attempt 7\n",
    "print(\"Welcome to the geography quiz!\")\n",
    "incorrect = 0\n",
    "points = 0\n",
    "\n",
    "def do_question(question, expected_answer):\n",
    "    global points\n",
    "    global incorrect\n",
    "    if incorrect >= 2:\n",
    "        return\n",
    "    \n",
    "    answer = input(question)\n",
    "    if answer == expected_answer:\n",
    "        print(\"Correct!\")\n",
    "        points = points + 1\n",
    "    else:\n",
    "        print(\"Incorrect! The answer was '\" + expected_answer + \"'\")\n",
    "        incorrect = incorrect + 1\n",
    "        \n",
    "do_question(\"Question 1: Does Kansas border Colorado? (y/n) \", \"y\")\n",
    "do_question(\"Question 2: How many countries are in Europe? \", \"50\")\n",
    "do_question(\"Question 3: In which state can you find the Grand Canyon? \", \"Arizona\")\n",
    "do_question(\"Question 4: Which North American city has a larger population: Los Angeles or Mexico City? \", \"Mexico City\")\n",
    "do_question(\"Question 5: Which country has the most volcanoes? \", \"Indonesia\")\n",
    "print(\"You earned \" + str(points) + \" points!\")"
   ]
  },
  {
   "cell_type": "markdown",
   "id": "5a696575",
   "metadata": {
    "slideshow": {
     "slide_type": "subslide"
    }
   },
   "source": [
    "Seems awkward to have to pass in the question number as part of the question text... let's add a parameter."
   ]
  },
  {
   "cell_type": "code",
   "execution_count": null,
   "id": "57051583",
   "metadata": {
    "execution": {
     "iopub.execute_input": "2023-10-04T02:30:14.400902Z",
     "iopub.status.busy": "2023-10-04T02:30:14.400610Z",
     "iopub.status.idle": "2023-10-04T02:30:14.436325Z",
     "shell.execute_reply": "2023-10-04T02:30:14.434950Z"
    },
    "slideshow": {
     "slide_type": "subslide"
    },
    "tags": [
     "remove-output"
    ]
   },
   "outputs": [],
   "source": [
    "# Attempt 8\n",
    "print(\"Welcome to the geography quiz!\")\n",
    "incorrect = 0\n",
    "points = 0\n",
    "\n",
    "def do_question(number, question, expected_answer):\n",
    "    global points\n",
    "    global incorrect\n",
    "    if incorrect >= 2:\n",
    "        return\n",
    "    \n",
    "    answer = input(\"Question \" + str(number) + \": \" + question)\n",
    "    if answer == expected_answer:\n",
    "        print(\"Correct!\")\n",
    "        points = points + 1\n",
    "    else:\n",
    "        print(\"Incorrect! The answer was '\" + expected_answer + \"'\")\n",
    "        incorrect = incorrect + 1\n",
    "        \n",
    "do_question(1, \"Does Kansas border Colorado? (y/n) \", \"y\")\n",
    "do_question(2, \"How many countries are in Europe? \", \"50\")\n",
    "do_question(3, \"In which state can you find the Grand Canyon? \", \"Arizona\")\n",
    "do_question(4, \"Which North American city has a larger population: Los Angeles or Mexico City? \", \"Mexico City\")\n",
    "do_question(5, \"Which country has the most volcanoes? \", \"Indonesia\")\n",
    "print(\"You earned \" + str(points) + \" points!\")"
   ]
  },
  {
   "cell_type": "markdown",
   "id": "0b3a3806",
   "metadata": {
    "slideshow": {
     "slide_type": "subslide"
    }
   },
   "source": [
    "Do you notice how much easier it is to make improvements when we don't have duplicated code? We make the change once inside our function, and get the benefit everywhere that function is used."
   ]
  },
  {
   "cell_type": "markdown",
   "id": "28438cf1",
   "metadata": {
    "slideshow": {
     "slide_type": "fragment"
    }
   },
   "source": [
    "This is pretty good. \n",
    "\n",
    "Last thing - what if we wanted to make our answer checking fancier? For example, make it case-insensitive, or even allow close misspellings?"
   ]
  },
  {
   "cell_type": "markdown",
   "id": "bc0b9d33",
   "metadata": {
    "slideshow": {
     "slide_type": "fragment"
    }
   },
   "source": [
    "We haven't covered enough to actually do those things yet, but let's take the first step of **factoring out** the comparison logic."
   ]
  },
  {
   "cell_type": "code",
   "execution_count": null,
   "id": "16c60061",
   "metadata": {
    "execution": {
     "iopub.execute_input": "2023-10-04T02:30:14.440207Z",
     "iopub.status.busy": "2023-10-04T02:30:14.439916Z",
     "iopub.status.idle": "2023-10-04T02:30:14.447051Z",
     "shell.execute_reply": "2023-10-04T02:30:14.446340Z"
    },
    "slideshow": {
     "slide_type": "subslide"
    },
    "tags": [
     "remove-output"
    ]
   },
   "outputs": [],
   "source": [
    "# Attempt 9\n",
    "print(\"Welcome to the geography quiz!\")\n",
    "incorrect = 0\n",
    "points = 0\n",
    "\n",
    "def check_answer(actual, expected):\n",
    "    # TODO: replace this with much fancier logic\n",
    "    return actual == expected\n",
    "\n",
    "def do_question(number, question, expected_answer):\n",
    "    global points\n",
    "    global incorrect\n",
    "    if incorrect >= 2:\n",
    "        return\n",
    "    \n",
    "    answer = input(\"Question \" + str(number) + \": \" + question)\n",
    "    if check_answer(answer, expected_answer):\n",
    "        print(\"Correct!\")\n",
    "        points = points + 1\n",
    "    else:\n",
    "        print(\"Incorrect! The answer was '\" + expected_answer + \"'\")\n",
    "        incorrect = incorrect + 1\n",
    "        \n",
    "do_question(1, Does Kansas border Colorado? (y/n) \", \"y\")\n",
    "do_question(2, How many countries are in Europe? \", \"50\")\n",
    "do_question(3, In which state can you find the Grand Canyon? \", \"Arizona\")\n",
    "do_question(4, Which North American city has a larger population: Los Angeles or Mexico City? \", \"Mexico City\")\n",
    "do_question(5, Which country has the most volcanoes? \", \"Indonesia\")\n",
    "print(\"You earned \" + str(points) + \" points!\")"
   ]
  },
  {
   "cell_type": "markdown",
   "id": "9a9a6589",
   "metadata": {
    "slideshow": {
     "slide_type": "subslide"
    }
   },
   "source": [
    "We've created an isolated place for our comparison logic. We've **encapsulated** the logic in a function. \n",
    "\n",
    "This function is easy to test in isolation, and it keeps `do_question` simple even if we eventually have very complicated comparison logic."
   ]
  },
  {
   "cell_type": "markdown",
   "id": "d36bcfc4",
   "metadata": {
    "slideshow": {
     "slide_type": "subslide"
    }
   },
   "source": [
    "The slides **might** have made this process of refactoring seem straightforward, but even a relatively simple program like this took me a few iterations to get working and presentable:\n",
    "\n",
    "* It took a few tries to figure out how to best group the logic - my initial tries (not all shown) split the question asking and answer checking in different ways, before I finally settled on combining the logic into one function.\n",
    "* There are multiple ways to handle the question numbering. I originally tried a global counter variable, rather than passing an argument to `do_question`.\n",
    "* I got tripped up with whether/how to use globals to track the points and incorrect answers.\n",
    "\n",
    "... and I've been doing this professionally for ~20 years."
   ]
  },
  {
   "cell_type": "markdown",
   "id": "c60d8ae3",
   "metadata": {
    "slideshow": {
     "slide_type": "subslide"
    }
   },
   "source": [
    "You rarely write working code on your first try, let alone clean or elegant code. \n",
    "\n",
    "Just the process of trying to write code to solve a problem will teach you about both the problem and the solution. You will learn as you try to tackle it.\n",
    "\n",
    "Don't get discouraged if you don't immediately see a solution, or a good solution. Try some things, see where they work or don't work, and go from there.\n",
    "\n",
    "Coding takes practice. The more practice you get, the easier it will feel, and the faster you will get to working and elegant solutions."
   ]
  }
 ],
 "metadata": {
  "celltoolbar": "Slideshow",
  "kernelspec": {
   "display_name": "Python 3 (ipykernel)",
   "language": "python",
   "name": "python3"
  },
  "language_info": {
   "codemirror_mode": {
    "name": "ipython",
    "version": 3
   },
   "file_extension": ".py",
   "mimetype": "text/x-python",
   "name": "python",
   "nbconvert_exporter": "python",
   "pygments_lexer": "ipython3",
   "version": "3.10.9"
  }
 },
 "nbformat": 4,
 "nbformat_minor": 5
}
