{
 "cells": [
  {
   "cell_type": "markdown",
   "id": "ab94d165",
   "metadata": {
    "slideshow": {
     "slide_type": "slide"
    }
   },
   "source": [
    "# Controlling loops\n",
    "\n",
    "* The `break` keyword will stop a loop and continue on to the code immediately after a loop.\n",
    "* The `continue` keyword will skip to the next iteration of the loop.\n",
    "\n",
    "Both of these work for `for` and `while` loops."
   ]
  },
  {
   "cell_type": "markdown",
   "id": "e16f65e9",
   "metadata": {
    "slideshow": {
     "slide_type": "subslide"
    }
   },
   "source": [
    "## `break`\n",
    "\n",
    "Let's revisit the number-adder"
   ]
  },
  {
   "cell_type": "code",
   "execution_count": null,
   "id": "7c2a6d52",
   "metadata": {
    "execution": {
     "iopub.execute_input": "2023-09-30T20:43:10.916471Z",
     "iopub.status.busy": "2023-09-30T20:43:10.916182Z",
     "iopub.status.idle": "2023-09-30T20:43:10.940095Z",
     "shell.execute_reply": "2023-09-30T20:43:10.939208Z"
    },
    "tags": [
     "remove-output"
    ]
   },
   "outputs": [],
   "source": [
    "total = 0\n",
    "answer = 0\n",
    "\n",
    "while answer != \"quit\":\n",
    "    total = total + int(answer)\n",
    "    print(\"Sum so far:\" + str(total))\n",
    "    answer = input(\"Type a number, or 'quit' to stop: \")\n",
    "\n",
    "print(\"Sum: \" + str(total))"
   ]
  },
  {
   "cell_type": "markdown",
   "id": "1e9369da",
   "metadata": {
    "slideshow": {
     "slide_type": "subslide"
    }
   },
   "source": [
    "Using `break`, we can write this a different way:"
   ]
  },
  {
   "cell_type": "code",
   "execution_count": null,
   "id": "5023d3d0",
   "metadata": {
    "execution": {
     "iopub.execute_input": "2023-09-30T20:43:11.052225Z",
     "iopub.status.busy": "2023-09-30T20:43:11.051867Z",
     "iopub.status.idle": "2023-09-30T20:43:11.074538Z",
     "shell.execute_reply": "2023-09-30T20:43:11.073857Z"
    },
    "tags": [
     "remove-output"
    ]
   },
   "outputs": [],
   "source": [
    "total = 0\n",
    "while True:\n",
    "    answer = input(\"Type a number, or 'quit' to stop: \")\n",
    "    if answer == \"quit\":\n",
    "        break\n",
    "    total = total + int(answer)\n",
    "    print(\"Sum so far:\" + str(total))\n",
    "print(\"Final sum: \" + str(total))"
   ]
  },
  {
   "cell_type": "markdown",
   "id": "c3c14e68",
   "metadata": {},
   "source": [
    "`break` stops the loop and jumps to the code immediately after the loop.  \n",
    "`while True: ... break` is another common loop pattern."
   ]
  },
  {
   "cell_type": "markdown",
   "id": "13a6474c",
   "metadata": {
    "slideshow": {
     "slide_type": "subslide"
    }
   },
   "source": [
    "## `continue`\n",
    "\n",
    "`continue` skips the rest of the current iteration, and starts at the beginning of the next iteration (if there are any left).  \n",
    "  \n",
    "\n",
    "`continue` is never **necessary**. You can always recreate the same logic with nested `if/else` statements. But it can help improve readability by letting you avoid deep nesting of conditionals."
   ]
  },
  {
   "cell_type": "code",
   "execution_count": null,
   "id": "a001c39f",
   "metadata": {
    "execution": {
     "iopub.execute_input": "2023-09-30T20:43:11.078173Z",
     "iopub.status.busy": "2023-09-30T20:43:11.077885Z",
     "iopub.status.idle": "2023-09-30T20:43:11.084283Z",
     "shell.execute_reply": "2023-09-30T20:43:11.083651Z"
    },
    "slideshow": {
     "slide_type": "subslide"
    },
    "tags": [
     "remove-output"
    ]
   },
   "outputs": [],
   "source": [
    "for x in range(10000):\n",
    "    if x % 7 == 0:\n",
    "        y = random.randint(1, 10)\n",
    "        if y % 5 == 0:\n",
    "            z = random.randint(1, 100)\n",
    "            if z % 23 == 0:\n",
    "                print(\"made it! pretend this block contains lots and lots of code\")"
   ]
  },
  {
   "cell_type": "code",
   "execution_count": null,
   "id": "c8ff9c76",
   "metadata": {
    "execution": {
     "iopub.execute_input": "2023-09-30T20:43:11.087720Z",
     "iopub.status.busy": "2023-09-30T20:43:11.087462Z",
     "iopub.status.idle": "2023-09-30T20:43:11.093569Z",
     "shell.execute_reply": "2023-09-30T20:43:11.092971Z"
    },
    "tags": [
     "remove-output"
    ]
   },
   "outputs": [],
   "source": [
    "# vs.\n",
    "for x in range(10000):\n",
    "    if x % 7 != 0:\n",
    "        continue\n",
    "        \n",
    "    y = random.randint(1, 10)\n",
    "    if y % 5 != 0:\n",
    "        continue\n",
    "        \n",
    "    z = random.randint(1, 100)\n",
    "    if z % 23 != 0:\n",
    "        continue\n",
    "    \n",
    "    print(\"made it! pretend this block contains lots and lots of code\")"
   ]
  }
 ],
 "metadata": {
  "celltoolbar": "Slideshow",
  "kernelspec": {
   "display_name": "Python 3 (ipykernel)",
   "language": "python",
   "name": "python3"
  },
  "language_info": {
   "codemirror_mode": {
    "name": "ipython",
    "version": 3
   },
   "file_extension": ".py",
   "mimetype": "text/x-python",
   "name": "python",
   "nbconvert_exporter": "python",
   "pygments_lexer": "ipython3",
   "version": "3.10.9"
  }
 },
 "nbformat": 4,
 "nbformat_minor": 5
}
