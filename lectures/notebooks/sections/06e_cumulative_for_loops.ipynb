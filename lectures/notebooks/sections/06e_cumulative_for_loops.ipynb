{
 "cells": [
  {
   "cell_type": "markdown",
   "id": "9369463d",
   "metadata": {
    "slideshow": {
     "slide_type": "slide"
    }
   },
   "source": [
    "## Example: Adding numbers in a loop\n",
    "\n",
    "Write a function to compute the sum of every number between two numbers."
   ]
  },
  {
   "cell_type": "code",
   "execution_count": null,
   "id": "9f41b674",
   "metadata": {
    "tags": [
     "remove-output"
    ]
   },
   "outputs": [],
   "source": [
    "def sum_range(start, stop):\n",
    "    for i in range(start, stop):\n",
    "        # ???"
   ]
  },
  {
   "cell_type": "markdown",
   "id": "74d8bfc5",
   "metadata": {
    "slideshow": {
     "slide_type": "subslide"
    }
   },
   "source": [
    "This is another common looping pattern. We'll create a variable to hold our running total, and add to it in each iteration of the loop."
   ]
  },
  {
   "cell_type": "code",
   "execution_count": null,
   "id": "d1c35fca",
   "metadata": {},
   "outputs": [],
   "source": [
    "def sum_range(start, stop):\n",
    "    total = 0\n",
    "    for i in range(start, stop):\n",
    "        total = total + i\n",
    "    return total"
   ]
  },
  {
   "cell_type": "markdown",
   "id": "9483ba7e",
   "metadata": {
    "slideshow": {
     "slide_type": "slide"
    }
   },
   "source": [
    "# Cumulative algorithms\n",
    "\n",
    "These are called cumulative algorithms.\n",
    "\n",
    "1. Create a variable to hold the cumulative value, and initialize it to the starting value\n",
    "   * The \"cumulative value\" is the value being built up as the loop iterates\n",
    "1. Update the cumulative value on each iteration of the loop.\n",
    "1. Apply any adjustments needed after the loop\n",
    "   * For example, if computing an average: sum all the numbers, then divide by the number of numbers"
   ]
  },
  {
   "cell_type": "markdown",
   "id": "f22a5888",
   "metadata": {
    "slideshow": {
     "slide_type": "slide"
    }
   },
   "source": [
    "1. **Create a variable to hold the cumulative value, and initialize it to the starting value**\n",
    "1. Update the cumulative value during each iteration of a loop.\n",
    "1. Apply any adjustments needed after the loop"
   ]
  },
  {
   "cell_type": "code",
   "execution_count": null,
   "id": "d59a1a89",
   "metadata": {},
   "outputs": [],
   "source": [
    "def sum_range(start, stop):\n",
    "    total = 0"
   ]
  },
  {
   "cell_type": "markdown",
   "id": "58c098ce",
   "metadata": {
    "slideshow": {
     "slide_type": "slide"
    }
   },
   "source": [
    "1. Create a variable to hold the cumulative value, and initialize it to the starting value\n",
    "1. **Update the cumulative value during each iteration of a loop.**\n",
    "1. Apply any adjustments needed after the loop"
   ]
  },
  {
   "cell_type": "code",
   "execution_count": null,
   "id": "fbaaac4a",
   "metadata": {},
   "outputs": [],
   "source": [
    "def sum_range(start, stop):\n",
    "    total = 0\n",
    "    for i in range(start, stop):\n",
    "        total = total + i"
   ]
  },
  {
   "cell_type": "markdown",
   "id": "b6917df4",
   "metadata": {
    "slideshow": {
     "slide_type": "slide"
    }
   },
   "source": [
    "1. Create a variable to hold the cumulative value, and initialize it to the starting value\n",
    "1. Update the cumulative value during each iteration of a loop..\n",
    "1. **Apply any adjustments needed after the loop**"
   ]
  },
  {
   "cell_type": "code",
   "execution_count": null,
   "id": "d8f69568",
   "metadata": {},
   "outputs": [],
   "source": [
    "def sum_range(start, stop):\n",
    "    total = 0\n",
    "    for i in range(start, stop):\n",
    "        total = total + i\n",
    "    # No adjustments to make for a sum\n",
    "    return total"
   ]
  },
  {
   "cell_type": "code",
   "execution_count": null,
   "id": "88335906",
   "metadata": {},
   "outputs": [],
   "source": [
    "sum_range(1, 10)"
   ]
  },
  {
   "cell_type": "markdown",
   "id": "32329a04",
   "metadata": {
    "slideshow": {
     "slide_type": "subslide"
    }
   },
   "source": [
    "## Unrolling loops practice\n",
    "\n",
    "Reminder:\n",
    "1. Write out a list of the values the loop will iterate through\n",
    "2. Copy the code inside the loop, and paste it once.\n",
    "3. Replace all of the loop variables with the first iteration value\n",
    "4. Repeat steps 2 & 3 for each iteration value\n",
    "\n",
    "Let's unroll this loop"
   ]
  },
  {
   "cell_type": "code",
   "execution_count": null,
   "id": "b78d3169",
   "metadata": {},
   "outputs": [],
   "source": [
    "def sum_range(start, stop):\n",
    "    total = 0\n",
    "    for i in range(start, stop):\n",
    "        total = total + i\n",
    "    return total\n",
    "sum_range(1, 7)"
   ]
  },
  {
   "cell_type": "markdown",
   "id": "137c0d22",
   "metadata": {
    "slideshow": {
     "slide_type": "subslide"
    }
   },
   "source": [
    "1. Write out a list of the values the loop will iterate through"
   ]
  },
  {
   "cell_type": "code",
   "execution_count": null,
   "id": "954910b9",
   "metadata": {},
   "outputs": [],
   "source": [
    "def sum_range(start, stop):\n",
    "    total = 0\n",
    "    for i in range(start, stop):\n",
    "        total = total + i\n",
    "    return total\n",
    "sum_range(1, 7)"
   ]
  },
  {
   "cell_type": "markdown",
   "id": "720a0e25",
   "metadata": {
    "slideshow": {
     "slide_type": "fragment"
    }
   },
   "source": [
    "This loop will iterate over the values: 1, 2, 3, 4, 5, 6"
   ]
  },
  {
   "cell_type": "markdown",
   "id": "2364bd90",
   "metadata": {
    "slideshow": {
     "slide_type": "subslide"
    }
   },
   "source": [
    "2. Copy the code inside the loop, and paste it once."
   ]
  },
  {
   "cell_type": "code",
   "execution_count": null,
   "id": "fd3b44f6",
   "metadata": {},
   "outputs": [],
   "source": [
    "def sum_range(start, stop):\n",
    "    total = 0\n",
    "    for i in range(start, stop):\n",
    "        total = total + i\n",
    "    return total\n",
    "sum_range(1, 7)"
   ]
  },
  {
   "cell_type": "markdown",
   "id": "e6244fd5",
   "metadata": {
    "slideshow": {
     "slide_type": "fragment"
    }
   },
   "source": [
    "The loop code is:"
   ]
  },
  {
   "cell_type": "code",
   "execution_count": null,
   "id": "4482fa8a",
   "metadata": {
    "tags": [
     "raises-exception",
     "remove-output"
    ]
   },
   "outputs": [],
   "source": [
    "total = total + i"
   ]
  },
  {
   "cell_type": "markdown",
   "id": "087ae69d",
   "metadata": {
    "slideshow": {
     "slide_type": "subslide"
    }
   },
   "source": [
    "3. Replace all of the loop variables with the first iteration value"
   ]
  },
  {
   "cell_type": "code",
   "execution_count": null,
   "id": "3b38639e",
   "metadata": {
    "tags": [
     "raises-exception",
     "remove-output"
    ]
   },
   "outputs": [],
   "source": [
    "total = total + i"
   ]
  },
  {
   "cell_type": "markdown",
   "id": "27de58e8",
   "metadata": {
    "slideshow": {
     "slide_type": "fragment"
    }
   },
   "source": [
    "becomes:"
   ]
  },
  {
   "cell_type": "code",
   "execution_count": null,
   "id": "9668585e",
   "metadata": {
    "tags": [
     "remove-output",
     "raises-exception"
    ]
   },
   "outputs": [],
   "source": [
    "total = total + 1"
   ]
  },
  {
   "cell_type": "markdown",
   "id": "9b867562",
   "metadata": {
    "slideshow": {
     "slide_type": "subslide"
    }
   },
   "source": [
    "4. Repeat steps 2 & 3 for each iteration value"
   ]
  },
  {
   "cell_type": "code",
   "execution_count": null,
   "id": "5305b54d",
   "metadata": {},
   "outputs": [],
   "source": [
    "def sum_range(start, stop):\n",
    "    total = 0\n",
    "    for i in range(start, stop):\n",
    "        total = total + i\n",
    "    return total\n",
    "sum_range(1, 7)"
   ]
  },
  {
   "cell_type": "code",
   "execution_count": null,
   "id": "c6b0e764",
   "metadata": {
    "slideshow": {
     "slide_type": "fragment"
    }
   },
   "outputs": [],
   "source": [
    "total = total + 1\n",
    "total = total + 2\n",
    "total = total + 3\n",
    "total = total + 4\n",
    "total = total + 5\n",
    "total = total + 6\n",
    "print(total)"
   ]
  },
  {
   "cell_type": "markdown",
   "id": "96f33aa5",
   "metadata": {
    "slideshow": {
     "slide_type": "slide"
    }
   },
   "source": [
    "Oops... we forgot the code before the loop!"
   ]
  },
  {
   "cell_type": "code",
   "execution_count": null,
   "id": "29286daa",
   "metadata": {},
   "outputs": [],
   "source": [
    "def sum_range(start, stop):\n",
    "    total = 0\n",
    "    for i in range(start, stop):\n",
    "        total = total + i\n",
    "    return total\n",
    "sum_range(1, 7)"
   ]
  },
  {
   "cell_type": "code",
   "execution_count": null,
   "id": "990feab0",
   "metadata": {},
   "outputs": [],
   "source": [
    "total = 0\n",
    "total = total + 1\n",
    "total = total + 2\n",
    "total = total + 3\n",
    "total = total + 4\n",
    "total = total + 5\n",
    "total = total + 6\n",
    "print(total)"
   ]
  },
  {
   "cell_type": "markdown",
   "id": "38e3e7c3",
   "metadata": {
    "slideshow": {
     "slide_type": "slide"
    }
   },
   "source": [
    "## Another example: Counting spaces\n",
    "\n",
    "Write a loop that prompts the user for 5 sentences/phrases. Find the average number of words in the phrases (by counting the spaces in each input).\n",
    "\n",
    "We can count the number of spaces in a string like this:"
   ]
  },
  {
   "cell_type": "code",
   "execution_count": null,
   "id": "6fa9cff6",
   "metadata": {},
   "outputs": [],
   "source": [
    "words = \"We're just atoms that arranged themselves the right way.\"\n",
    "print(words.count(' '))"
   ]
  },
  {
   "cell_type": "markdown",
   "id": "447f5444",
   "metadata": {
    "slideshow": {
     "slide_type": "subslide"
    }
   },
   "source": [
    "1. **Create a variable to hold the cumulative value, and initialize it to the starting value**\n",
    "1. Update the cumulative value during each iteration of a loop.\n",
    "1. Apply any adjustments needed after the loop"
   ]
  },
  {
   "cell_type": "code",
   "execution_count": null,
   "id": "16fdd978",
   "metadata": {},
   "outputs": [],
   "source": [
    "total_words = 0"
   ]
  },
  {
   "cell_type": "markdown",
   "id": "9ca6a0ed",
   "metadata": {
    "slideshow": {
     "slide_type": "subslide"
    }
   },
   "source": [
    "1. Create a variable to hold the cumulative value, and initialize it to the starting value\n",
    "1. **Update the cumulative value during each iteration of a loop.**\n",
    "1. Apply any adjustments needed after the loop"
   ]
  },
  {
   "cell_type": "code",
   "execution_count": null,
   "id": "9bce73ba",
   "metadata": {
    "tags": [
     "remove-output"
    ]
   },
   "outputs": [],
   "source": [
    "total_words = 0\n",
    "for i in range(5):\n",
    "    words = input(\"Enter a phrase:\")\n",
    "    total_words += words.count(' ')"
   ]
  },
  {
   "cell_type": "markdown",
   "id": "ba598be3",
   "metadata": {
    "slideshow": {
     "slide_type": "subslide"
    }
   },
   "source": [
    "1. Create a variable to hold the cumulative value, and initialize it to the starting value\n",
    "1. Update the cumulative value during each iteration of a loop.\n",
    "1. **Apply any adjustments needed after the loop.**"
   ]
  },
  {
   "cell_type": "code",
   "execution_count": null,
   "id": "6cc83b40",
   "metadata": {
    "tags": [
     "remove-output"
    ]
   },
   "outputs": [],
   "source": [
    "total_words = 0\n",
    "for i in range(5):\n",
    "    words = input(\"Enter a phrase:\")\n",
    "    total_words += words.count(' ')\n",
    "avg_words = total_words / 5\n",
    "print(avg_words)"
   ]
  }
 ],
 "metadata": {
  "celltoolbar": "Slideshow",
  "kernelspec": {
   "display_name": "Python 3 (ipykernel)",
   "language": "python",
   "name": "python3"
  },
  "language_info": {
   "codemirror_mode": {
    "name": "ipython",
    "version": 3
   },
   "file_extension": ".py",
   "mimetype": "text/x-python",
   "name": "python",
   "nbconvert_exporter": "python",
   "pygments_lexer": "ipython3",
   "version": "3.10.9"
  }
 },
 "nbformat": 4,
 "nbformat_minor": 5
}
