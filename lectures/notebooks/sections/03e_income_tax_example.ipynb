{
 "cells": [
  {
   "cell_type": "markdown",
   "id": "9abfa128",
   "metadata": {
    "slideshow": {
     "slide_type": "slide"
    }
   },
   "source": [
    "# Example Problem - Progressive income tax calculator\n",
    "\n",
    "In a progressive tax, different portions of income are taxed at different rates:\n",
    "\n",
    "| Tax rate | Income amounts |\n",
    "| --- | --- |\n",
    "| 10% |  \\\\$0 to \\\\$10,275 |\n",
    "| 12% | \\\\$10,276 to \\\\$41,775 |\n",
    "| 22% | \\\\$41,776 to \\\\$89,075 |\n",
    "| 24% | \\\\$89,076 to \\\\$170,050 |\n",
    "| 32% | \\\\$170,051 to \\\\$215,950 |\n",
    "| 35% | \\\\$215,951 to \\\\$539,900 |\n",
    "| 37% | \\\\$539,901 or more |"
   ]
  },
  {
   "cell_type": "markdown",
   "id": "bdb86372",
   "metadata": {
    "slideshow": {
     "slide_type": "subslide"
    }
   },
   "source": [
    "# Example Problem - Progressive income tax calculator\n",
    "\n",
    "e.g. an income of \\\\$90,000 would be taxed:\n",
    "\n",
    "| Bracket | Equation | Tax amount |\n",
    "| --- | --- | --- |\n",
    "| 10% for the first \\\\$10,275 | `10275 * 0.1` | \\\\$1027.5 |\n",
    "| 12% of \\\\$10,276 to \\\\$41,775 | `(41775 - 10276) * 0.12` | \\\\$3779.88 |\n",
    "| 22% of \\\\$41,776 to \\\\$89,075| `(89075 - 41776) * 0.22` | \\\\$10405.78 |\n",
    "| 24% of \\\\$89,076 to \\\\$90,000 | `(90000 - 89076) * 0.24` | \\\\$221.76 |\n",
    "| Total | `1027.5 + 3779.88 + 10405.78 + 221.76` | \\\\$15434.92 |"
   ]
  },
  {
   "cell_type": "markdown",
   "id": "209c8667",
   "metadata": {
    "slideshow": {
     "slide_type": "subslide"
    }
   },
   "source": [
    "## Approach\n",
    "\n",
    "Take this one step at a time.\n",
    "\n",
    "First, the simplest case: calculate tax if income is less than $10,275"
   ]
  },
  {
   "cell_type": "code",
   "execution_count": null,
   "id": "7da1eb75",
   "metadata": {},
   "outputs": [],
   "source": [
    "income = 8510\n",
    "\n",
    "if income < 10275:\n",
    "    tax = income * 0.1\n",
    "    print(\"You owe $\" + str(tax) + \" on income of $\" + str(income) + \". Your tax rate is \" + str(tax / income * 100) + \"%.\")\n",
    "else:\n",
    "    print(\"Your income is too high. Please see a certified tax professional.\")"
   ]
  },
  {
   "cell_type": "markdown",
   "id": "df21cd5a",
   "metadata": {
    "slideshow": {
     "slide_type": "subslide"
    }
   },
   "source": [
    "## Step 2\n",
    "\n",
    "Add another step: handle income between \\\\$10275 and \\\\$41775"
   ]
  },
  {
   "cell_type": "code",
   "execution_count": null,
   "id": "4d0d29f6",
   "metadata": {},
   "outputs": [],
   "source": [
    "income = 32791\n",
    "\n",
    "if income < 10275:\n",
    "    tax = income * 0.1\n",
    "    print(\"You owe $\" + str(tax) + \" on income of $\" + str(income) + \". Your tax rate is \" + str(tax / income * 100) + \"%.\")\n",
    "elif income < 41775:\n",
    "    tax = (10275 * 0.1) + ((income - 10275) * .12)\n",
    "    print(\"You owe $\" + str(tax) + \" on income of $\" + str(income) + \". Your tax rate is \" + str(tax / income * 100) + \"%.\")\n",
    "else:\n",
    "    print(\"Your income is too high. Please see a certified tax professional.\")"
   ]
  },
  {
   "cell_type": "markdown",
   "id": "c82c2f6f",
   "metadata": {
    "slideshow": {
     "slide_type": "subslide"
    }
   },
   "source": [
    "## Readability\n",
    "\n",
    "Let's improve the readability of that calculation, and also remove the duplicated print."
   ]
  },
  {
   "cell_type": "code",
   "execution_count": null,
   "id": "ff1695ec",
   "metadata": {},
   "outputs": [],
   "source": [
    "income = 32791\n",
    "\n",
    "if income < 10275:\n",
    "    tax = income * 0.1\n",
    "elif income < 41775:\n",
    "    bracket1 = (10275 * .1)\n",
    "    bracket2 = (income - 10275) * .12\n",
    "    tax = bracket1 + bracket2\n",
    "\n",
    "if income < 41777:\n",
    "    print(\"You owe $\" + str(tax) + \" on income of $\" + str(income) + \". Your tax rate is \" + str(tax / income * 100) + \"%.\")\n",
    "else:\n",
    "    print(\"Your income is too high. Please see a certified tax professional.\")"
   ]
  },
  {
   "cell_type": "markdown",
   "id": "f0422ec7",
   "metadata": {
    "slideshow": {
     "slide_type": "subslide"
    }
   },
   "source": [
    "## Next case..."
   ]
  },
  {
   "cell_type": "code",
   "execution_count": null,
   "id": "dcbc48fd",
   "metadata": {
    "slideshow": {
     "slide_type": ""
    }
   },
   "outputs": [],
   "source": [
    "income = 75013\n",
    "\n",
    "if income < 10275:\n",
    "    tax = 8510 * 0.1\n",
    "elif income < 41775:\n",
    "    bracket1 = (10275 * .1)\n",
    "    bracket2 = (income - 10275) * .12\n",
    "    tax = bracket1 + bracket2\n",
    "elif income < 89075:\n",
    "    bracket1 = (10275 * .1)\n",
    "    bracket2 = (41775 - 10275) * .12\n",
    "    bracket3 = (income - 41775) * .22\n",
    "    tax = bracket1 + bracket2 + bracket3\n",
    "        \n",
    "if income < 89075:\n",
    "    print(\"You owe $\" + str(tax) + \" on income of $\" + str(income) + \". Your tax rate is \" + str(tax / income * 100) + \"%.\")\n",
    "else:\n",
    "    print(\"Your income is too high. Please see a certified tax professional.\")"
   ]
  },
  {
   "cell_type": "markdown",
   "id": "5fe9ce5e",
   "metadata": {
    "slideshow": {
     "slide_type": "subslide"
    }
   },
   "source": [
    "## Do you see a pattern?\n",
    "\n",
    "Let's fill in the rest..."
   ]
  },
  {
   "cell_type": "code",
   "execution_count": null,
   "id": "bf81fb25",
   "metadata": {
    "execution": {
     "iopub.execute_input": "2023-09-11T02:05:28.280412Z",
     "iopub.status.busy": "2023-09-11T02:05:28.280154Z",
     "iopub.status.idle": "2023-09-11T02:05:28.287844Z",
     "shell.execute_reply": "2023-09-11T02:05:28.287242Z"
    },
    "slideshow": {
     "slide_type": "subslide"
    }
   },
   "outputs": [],
   "source": [
    "income = 390101\n",
    "tax = 0\n",
    "if income <= 10275:\n",
    "    tax = income * .1\n",
    "elif income <= 41775:\n",
    "    bracket1 = (10275 * .1)\n",
    "    bracket2 = (income - 10275) * .12\n",
    "    tax = bracket1 + bracket2\n",
    "elif income <= 89075:\n",
    "    bracket1 = (10275 * .1)\n",
    "    bracket2 = (41775 - 10275) * .12\n",
    "    bracket3 = (income - 41775) * .22\n",
    "    tax = bracket1 + bracket2 + bracket3\n",
    "elif income <= 170050:\n",
    "    bracket1 = (10275 * .1)\n",
    "    bracket2 = (41775 - 10275) * .12\n",
    "    bracket3 = (89075 - 41775) * .22\n",
    "    bracket4 = (income - 89075) * .24\n",
    "    tax = bracket1 + bracket2 + bracket3 + bracket4\n",
    "elif income <= 215950:\n",
    "    bracket1 = (10275 * .1)\n",
    "    bracket2 = (41775 - 10275) * .12\n",
    "    bracket3 = (89075 - 41775) * .22\n",
    "    bracket4 = (170050 - 89075) * .24\n",
    "    bracket5 = (income - 170050) * .32\n",
    "    tax = bracket1 + bracket2 + bracket3 + bracket4 + bracket5\n",
    "elif income < 539900:\n",
    "    bracket1 = (10275 * .1)\n",
    "    bracket2 = (41775 - 10275) * .12\n",
    "    bracket3 = (89075 - 41775) * .22\n",
    "    bracket4 = (170050 - 89075) * .24\n",
    "    bracket5 = (215950 - 170050) * .32\n",
    "    bracket6 = (income - 215950) * .35\n",
    "    tax = bracket1 + bracket2 + bracket3 + bracket4 + bracket5 + bracket6\n",
    "else:\n",
    "    bracket1 = (10275 * .1)\n",
    "    bracket2 = (41775 - 10275) * .12\n",
    "    bracket3 = (89075 - 41775) * .22\n",
    "    bracket4 = (170050 - 89075) * .24\n",
    "    bracket5 = (215950 - 170050) * .32\n",
    "    bracket6 = (539900 - 215950) * .35\n",
    "    bracket7 = (income - 539900) * .37\n",
    "    tax = bracket1 + bracket2 + bracket3 + bracket4 + bracket5 + bracket6 + bracket7\n",
    "    \n",
    "print(\"You owe $\" + str(tax) + \" on income of $\" + str(income) + \". Your tax rate is \" + str(tax / income) + \"%.\")"
   ]
  },
  {
   "cell_type": "markdown",
   "id": "172ecf61",
   "metadata": {
    "slideshow": {
     "slide_type": "subslide"
    }
   },
   "source": [
    "## Factoring out common code\n",
    "\n",
    "In the previous example, there was a lot of duplicated code. We can \"factor\" that code out so it isn't repeated."
   ]
  },
  {
   "cell_type": "code",
   "execution_count": null,
   "id": "70f4a779",
   "metadata": {
    "execution": {
     "iopub.execute_input": "2023-09-11T02:05:28.290975Z",
     "iopub.status.busy": "2023-09-11T02:05:28.290712Z",
     "iopub.status.idle": "2023-09-11T02:05:28.297379Z",
     "shell.execute_reply": "2023-09-11T02:05:28.296780Z"
    }
   },
   "outputs": [],
   "source": [
    "income = 390101\n",
    "tax = 0\n",
    "\n",
    "bracket1 = (10275 * .1)\n",
    "bracket2 = (41775 - 10275) * .12\n",
    "bracket3 = (89075 - 41775) * .22\n",
    "bracket4 = (170050 - 89075) * .24\n",
    "bracket5 = (215950 - 170050) * .32\n",
    "bracket6 = (539900 - 215950) * .35\n",
    "\n",
    "if income <= 10275:\n",
    "    tax = income * .1\n",
    "elif income <= 41775:\n",
    "    bracket2 = (income - 10275) * .12\n",
    "    tax = bracket1 + bracket2\n",
    "elif income <= 89075:\n",
    "    bracket3 = (income - 41775) * .22\n",
    "    tax = bracket1 + bracket2 + bracket3\n",
    "elif income <= 170050:\n",
    "    bracket4 = (income - 89075) * .24\n",
    "    tax = bracket1 + bracket2 + bracket3 + bracket4\n",
    "elif income <= 215950:\n",
    "    bracket5 = (income - 170050) * .32\n",
    "    tax = bracket1 + bracket2 + bracket3 + bracket4 + bracket5\n",
    "elif income < 539900:\n",
    "    bracket6 = (income - 215950) * .35\n",
    "    tax = bracket1 + bracket2 + bracket3 + bracket4 + bracket5 + bracket6\n",
    "else:\n",
    "    bracket7 = (income - 539900) * .37\n",
    "    tax = bracket1 + bracket2 + bracket3 + bracket4 + bracket5 + bracket6 + bracket7\n",
    "\n",
    "print(\"You owe $\" + str(tax) + \" on income of $\" + str(income) + \". Your tax rate is \" + str(tax / income) + \"%.\")"
   ]
  },
  {
   "cell_type": "markdown",
   "id": "595235d6",
   "metadata": {
    "slideshow": {
     "slide_type": "subslide"
    }
   },
   "source": [
    "# One more refinement\n",
    "\n",
    "Key observation: each full bracket always includes all the brackets below it."
   ]
  },
  {
   "cell_type": "code",
   "execution_count": null,
   "id": "b735ffeb",
   "metadata": {
    "execution": {
     "iopub.execute_input": "2023-09-11T02:05:28.300600Z",
     "iopub.status.busy": "2023-09-11T02:05:28.300338Z",
     "iopub.status.idle": "2023-09-11T02:05:28.306081Z",
     "shell.execute_reply": "2023-09-11T02:05:28.305441Z"
    }
   },
   "outputs": [],
   "source": [
    "\n",
    "\n",
    "income = 390101\n",
    "tax = 0\n",
    "\n",
    "bracket1_total = (10275 * .1)\n",
    "bracket2_total = bracket1_total + (41775 - 10275) * .12\n",
    "bracket3_total = bracket2_total + (89075 - 41775) * .22\n",
    "bracket4_total = bracket3_total + (170050 - 89075) * .24\n",
    "bracket5_total = bracket4_total + (215950 - 170050) * .32\n",
    "bracket6_total = bracket5_total + (539900 - 215950) * .35\n",
    "\n",
    "if income <= 10275:\n",
    "    tax = income * .1\n",
    "elif income <= 41775:\n",
    "    tax = bracket1_total + (income - 10275) * .12\n",
    "elif income <= 89075:\n",
    "    tax = bracket2_total + (income - 41775) * .22\n",
    "elif income <= 170050:\n",
    "    tax = bracket3_total + (income - 89075) * .24\n",
    "elif income <= 215950:\n",
    "    tax = bracket4_total + (income - 170050) * .32\n",
    "elif income < 539900:\n",
    "    tax = bracket5_total + (income - 215950) * .35\n",
    "else:\n",
    "    tax = bracket6_total + (income - 539900) * .37\n",
    "\n",
    "print(\"You owe $\" + str(tax) + \" on income of $\" + str(income) + \". Your tax rate is \" + str(tax / income) + \"%.\")"
   ]
  },
  {
   "cell_type": "markdown",
   "id": "af533163",
   "metadata": {},
   "source": [
    "## Decomposition\n",
    "\n",
    "Breaking a problem down into parts or steps is called **decomposition**.\n",
    "\n",
    "It's a critical practice in coding!\n",
    "\n",
    "If you aren't sure where to start, pick the smallest part of the problem you can identify a solution for, and tackle it first."
   ]
  }
 ],
 "metadata": {
  "celltoolbar": "Slideshow",
  "kernelspec": {
   "display_name": "Python 3 (ipykernel)",
   "language": "python",
   "name": "python3"
  },
  "language_info": {
   "codemirror_mode": {
    "name": "ipython",
    "version": 3
   },
   "file_extension": ".py",
   "mimetype": "text/x-python",
   "name": "python",
   "nbconvert_exporter": "python",
   "pygments_lexer": "ipython3",
   "version": "3.10.9"
  }
 },
 "nbformat": 4,
 "nbformat_minor": 5
}
