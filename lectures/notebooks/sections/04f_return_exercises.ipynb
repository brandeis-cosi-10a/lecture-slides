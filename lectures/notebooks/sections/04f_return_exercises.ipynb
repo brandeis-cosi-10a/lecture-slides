{
 "cells": [
  {
   "cell_type": "markdown",
   "id": "1a9a1bbf",
   "metadata": {
    "slideshow": {
     "slide_type": "slide"
    }
   },
   "source": [
    "What do each of these functions **return**?\n",
    "* Describe the return value in terms of the function parameters\n",
    "* Give the data type that is returned\n",
    "* Give an example of inputs and the return value those inputs would produce"
   ]
  },
  {
   "cell_type": "code",
   "execution_count": null,
   "id": "f68324a2",
   "metadata": {},
   "outputs": [],
   "source": [
    "def append_number(value, number):\n",
    "    return value + str(number)\n",
    "\n",
    "def add_one_and_double(number):\n",
    "    return (number + 1) * 2\n",
    "\n",
    "def divide_by_seven(value):\n",
    "    print(str(int(value) / 7)\n",
    "\n",
    "def add_one_to_str(value):\n",
    "    return str(int(value) + 1)\n",
    "\n"
   ]
  },
  {
   "cell_type": "markdown",
   "id": "bbfe6bf5",
   "metadata": {
    "slideshow": {
     "slide_type": "slide"
    }
   },
   "source": [
    "You are given these 3 functions: `square`, `mod`, and `subtract_3`. Predict what the given code will print."
   ]
  },
  {
   "cell_type": "code",
   "execution_count": null,
   "id": "3ba86cac",
   "metadata": {
    "slideshow": {
     "slide_type": ""
    }
   },
   "outputs": [],
   "source": [
    "def square(value):\n",
    "    return value * value\n",
    "\n",
    "\n",
    "def mod(value, divisor):\n",
    "    return value % divisor\n",
    "\n",
    "\n",
    "def subtract_3(value):\n",
    "    return value - 3"
   ]
  },
  {
   "cell_type": "code",
   "execution_count": null,
   "id": "3a370a06",
   "metadata": {},
   "outputs": [],
   "source": [
    "answer = subtract_3(square(6))\n",
    "print(answer)"
   ]
  },
  {
   "cell_type": "code",
   "execution_count": null,
   "id": "b705bd6d",
   "metadata": {
    "slideshow": {
     "slide_type": "slide"
    }
   },
   "outputs": [],
   "source": [
    "def square(value):\n",
    "    return value * value\n",
    "\n",
    "\n",
    "def mod(value, divisor):\n",
    "    return value % divisor\n",
    "\n",
    "\n",
    "def subtract_3(value):\n",
    "    return value - 3"
   ]
  },
  {
   "cell_type": "code",
   "execution_count": null,
   "id": "d1d9708b",
   "metadata": {},
   "outputs": [],
   "source": [
    "answer = subtract_3(square(mod(17, 5)))\n",
    "print(answer)"
   ]
  },
  {
   "cell_type": "code",
   "execution_count": null,
   "id": "85534086",
   "metadata": {
    "slideshow": {
     "slide_type": "slide"
    }
   },
   "outputs": [],
   "source": [
    "def square(value):\n",
    "    return value * value\n",
    "\n",
    "\n",
    "def mod(value, divisor):\n",
    "    return value % divisor\n",
    "\n",
    "\n",
    "def subtract_3(value):\n",
    "    return value - 3"
   ]
  },
  {
   "cell_type": "code",
   "execution_count": null,
   "id": "9f479b50",
   "metadata": {},
   "outputs": [],
   "source": [
    "answer = square(square(square(3)))\n",
    "print(answer)"
   ]
  },
  {
   "cell_type": "code",
   "execution_count": null,
   "id": "672fb977",
   "metadata": {
    "slideshow": {
     "slide_type": "slide"
    }
   },
   "outputs": [],
   "source": [
    "def square(value):\n",
    "    return value * value\n",
    "\n",
    "\n",
    "def mod(value, divisor):\n",
    "    return value % divisor\n",
    "\n",
    "\n",
    "def subtract_3(value):\n",
    "    return value - 3"
   ]
  },
  {
   "cell_type": "code",
   "execution_count": null,
   "id": "be167bc6",
   "metadata": {},
   "outputs": [],
   "source": [
    "answer = mod(28, square(subtract_3(7)))\n",
    "print(answer)"
   ]
  },
  {
   "cell_type": "code",
   "execution_count": null,
   "id": "67006b61",
   "metadata": {
    "slideshow": {
     "slide_type": "slide"
    }
   },
   "outputs": [],
   "source": [
    "def square(value):\n",
    "    return value * value\n",
    "\n",
    "\n",
    "def mod(value, divisor):\n",
    "    return value % divisor\n",
    "\n",
    "\n",
    "def subtract_3(value):\n",
    "    return value - 3"
   ]
  },
  {
   "cell_type": "code",
   "execution_count": null,
   "id": "b6394d48",
   "metadata": {},
   "outputs": [],
   "source": [
    "answer = mod(square(7), subtract_3(square(mod(15, 4))))\n",
    "print(answer)"
   ]
  },
  {
   "cell_type": "markdown",
   "id": "59432e28",
   "metadata": {
    "slideshow": {
     "slide_type": "slide"
    }
   },
   "source": [
    "# Exercise: Rectangle info\n",
    "\n",
    "[GitHub Classroom -> Class exercises -> Open in GitHub Cospaces](https://classroom.github.com/a/M3gdSqkV)\n",
    "\n",
    "Open the file: `exercises/04/rectangle_info/README.md`, follow the instructions.\n",
    "* If you don't see this folder: Open the file: `get_exercises.sh`, click the \"Run\" button at the top right of the editor.\n"
   ]
  }
 ],
 "metadata": {
  "celltoolbar": "Slideshow",
  "kernelspec": {
   "display_name": "Python 3 (ipykernel)",
   "language": "python",
   "name": "python3"
  },
  "language_info": {
   "codemirror_mode": {
    "name": "ipython",
    "version": 3
   },
   "file_extension": ".py",
   "mimetype": "text/x-python",
   "name": "python",
   "nbconvert_exporter": "python",
   "pygments_lexer": "ipython3",
   "version": "3.10.9"
  }
 },
 "nbformat": 4,
 "nbformat_minor": 5
}
