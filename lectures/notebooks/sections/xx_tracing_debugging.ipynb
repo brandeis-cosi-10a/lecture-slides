{
 "cells": [
  {
   "cell_type": "markdown",
   "id": "ac6467cb",
   "metadata": {
    "slideshow": {
     "slide_type": "slide"
    }
   },
   "source": [
    "# Tracing & Debugging <small>(Learn to fish)</small>\n",
    "\n",
    "* Often, your code won't work as expected (or at all)\n",
    "* Actually typing out the code is often only a fraction of the work\n",
    "* \"Debugging\" - finding and fixing the errors - is a skill on its own\n",
    "* You also won't always be working with code YOU wrote - you need practice in deciphering others' code\n",
    "* We'll cover some basic, but widely useful debugging strategies during the semester"
   ]
  },
  {
   "cell_type": "markdown",
   "id": "ffbce638",
   "metadata": {
    "slideshow": {
     "slide_type": "subslide"
    }
   },
   "source": [
    "## Step-thru debugging\n",
    "\n",
    "* \"Debuggers\" are tools that let you advance through a program step by step, and examine the state of the program at each step\n",
    "* They are very powerful, but are often painful to get set up.\n",
    "* Luckily, Python is a very debugger-friendly language, and VSCode has Python debugging support built in."
   ]
  },
  {
   "cell_type": "markdown",
   "id": "ea35111e",
   "metadata": {
    "slideshow": {
     "slide_type": "subslide"
    }
   },
   "source": [
    "## Step-thru debugging\n",
    "\n",
    "TODO: replace with GH Classroom code example with interesting debugging (str vs int comparison?)"
   ]
  },
  {
   "cell_type": "markdown",
   "id": "d3041bc0",
   "metadata": {
    "slideshow": {
     "slide_type": "subslide"
    }
   },
   "source": [
    "1. Open the debugging tab from the list of tools on the left\n",
    "2. Add a \"breakpoint\" by clicking in the code margin\n",
    "3. Click the play button to start your program, and the \"Next step\" arrow to move to the next line.\n",
    "\n",
    "TODO: add screenshot of VSCode debugging"
   ]
  }
 ],
 "metadata": {
  "kernelspec": {
   "display_name": "Python 3 (ipykernel)",
   "language": "python",
   "name": "python3"
  },
  "language_info": {
   "codemirror_mode": {
    "name": "ipython",
    "version": 3
   },
   "file_extension": ".py",
   "mimetype": "text/x-python",
   "name": "python",
   "nbconvert_exporter": "python",
   "pygments_lexer": "ipython3",
   "version": "3.10.9"
  }
 },
 "nbformat": 4,
 "nbformat_minor": 5
}
