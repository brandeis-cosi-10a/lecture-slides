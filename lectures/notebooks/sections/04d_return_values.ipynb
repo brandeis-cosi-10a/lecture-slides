{
 "cells": [
  {
   "cell_type": "markdown",
   "id": "735255b6",
   "metadata": {
    "slideshow": {
     "slide_type": "slide"
    }
   },
   "source": [
    "\n",
    "# Return\n",
    "\n",
    "* Functions can produce values.\n",
    "* Using the `return` keyword in a function makes the function produce a value."
   ]
  },
  {
   "cell_type": "code",
   "execution_count": null,
   "id": "9b69489b",
   "metadata": {
    "execution": {
     "iopub.execute_input": "2023-10-04T02:30:13.880263Z",
     "iopub.status.busy": "2023-10-04T02:30:13.879963Z",
     "iopub.status.idle": "2023-10-04T02:30:13.886964Z",
     "shell.execute_reply": "2023-10-04T02:30:13.886173Z"
    },
    "slideshow": {
     "slide_type": "-"
    }
   },
   "outputs": [],
   "source": [
    "def add(a, b):\n",
    "    return a + b\n",
    "\n",
    "add(1, 2)"
   ]
  },
  {
   "cell_type": "markdown",
   "id": "c3d4ddde",
   "metadata": {
    "slideshow": {
     "slide_type": "slide"
    }
   },
   "source": [
    "## `return` vs `print`"
   ]
  },
  {
   "cell_type": "code",
   "execution_count": null,
   "id": "b6d3a341",
   "metadata": {
    "slideshow": {
     "slide_type": ""
    }
   },
   "outputs": [],
   "source": [
    "def add_and_return(a, b):\n",
    "    return a + b\n",
    "\n",
    "def add_and_print(a, b):\n",
    "    print(a + b)"
   ]
  },
  {
   "cell_type": "code",
   "execution_count": null,
   "id": "6039cd01",
   "metadata": {},
   "outputs": [],
   "source": [
    "add_and_return(2, 3)"
   ]
  },
  {
   "cell_type": "code",
   "execution_count": null,
   "id": "5ffc5396",
   "metadata": {
    "scrolled": true
   },
   "outputs": [],
   "source": [
    "add_and_print(2, 3)"
   ]
  },
  {
   "cell_type": "markdown",
   "id": "4574896a",
   "metadata": {
    "slideshow": {
     "slide_type": "fragment"
    }
   },
   "source": [
    "They look the same here - but are they?"
   ]
  },
  {
   "cell_type": "markdown",
   "id": "41d78a9c",
   "metadata": {
    "slideshow": {
     "slide_type": "subslide"
    }
   },
   "source": [
    "# `return` vs. `print`\n",
    "\n",
    "At first glance, `return` and `print` might seem the same. \n",
    "\n",
    "**They are not!** The difference is important, but might be confusing at first!\n",
    "\n",
    "`print` writes a value to the program's output (the terminal)\n",
    "\n",
    "`return` hands a result back to the code which called the function"
   ]
  },
  {
   "cell_type": "markdown",
   "id": "10b9e128",
   "metadata": {
    "slideshow": {
     "slide_type": "subslide"
    }
   },
   "source": [
    "## Phone a friend: `return`\n",
    "\n",
    "You are given a math homework assignment.\n",
    "\n",
    "One of the problems is too hard, so you call a friend on the phone to get help.\n",
    "\n",
    "You read the question to your friend.\n",
    "\n",
    "Your friend thinks for a minute, and then responds with the answer.\n",
    "\n",
    "You write the answer on your paper."
   ]
  },
  {
   "cell_type": "markdown",
   "id": "8b4541ef",
   "metadata": {
    "slideshow": {
     "slide_type": "subslide"
    }
   },
   "source": [
    "## Phone a friend: `return`\n",
    "\n",
    "You are given a math homework assignment.\n",
    "\n",
    "<span style=\"color:blue\">One of the problems is too hard, so you call a friend on the phone to get help.</span> (_Your friend is the function - you give them input, they produce output_)\n",
    "\n",
    "<span style=\"color:green\">You read the question to your friend.</span> (_This is calling the function_)\n",
    "\n",
    "<span style=\"color:red\">Your friend thinks for a minute, and then responds with the answer.</span> (_This is the function \"returning\" the answer_)\n",
    "\n",
    "<span style=\"color:purple\">You write the answer on your paper</span> (_This is the calling code using the return value_) "
   ]
  },
  {
   "cell_type": "markdown",
   "id": "856d93ed",
   "metadata": {
    "slideshow": {
     "slide_type": "subslide"
    }
   },
   "source": [
    "## Phone a friend: `print`\n",
    "\n",
    "You are given a math homework assignment.\n",
    "\n",
    "One of the problems is too hard, so you call a friend on the phone to get help.\n",
    "\n",
    "You read the question to your friend.\n",
    "\n",
    "Your friend thinks for a minute, and then writes the answer down on a piece of paper and hangs up.\n",
    "\n",
    "You contemplate how unhelpful your friend was, and fail the homework assignment."
   ]
  },
  {
   "cell_type": "markdown",
   "id": "28d710fe",
   "metadata": {
    "slideshow": {
     "slide_type": "subslide"
    }
   },
   "source": [
    "## Phone a friend: `print`\n",
    "\n",
    "You are given a math homework assignment.\n",
    "\n",
    "One of the problems is too hard, so you call a friend on the phone to get help.\n",
    "\n",
    "You read the question to your friend.\n",
    "\n",
    "<span style=\"color:red\">Your friend thinks for a minute, and then writes the answer down on a piece of paper and hangs up.</span> (_This is your friend \"printing\" the answer - your friend has produced output, but it is not directly available to you, the caller._)\n",
    "\n",
    "You contemplate how unhelpful your friend was, and fail the homework assignment."
   ]
  },
  {
   "cell_type": "markdown",
   "id": "f93a3be0",
   "metadata": {
    "slideshow": {
     "slide_type": "subslide"
    }
   },
   "source": [
    "Let's explore the difference with some examples."
   ]
  },
  {
   "cell_type": "code",
   "execution_count": null,
   "id": "c5e60219",
   "metadata": {
    "slideshow": {
     "slide_type": ""
    }
   },
   "outputs": [],
   "source": [
    "def add_and_print(a, b):\n",
    "    print(a + b)\n",
    "    \n",
    "def add_and_return(a, b):\n",
    "    return a + b"
   ]
  },
  {
   "cell_type": "code",
   "execution_count": null,
   "id": "bc7772a1",
   "metadata": {
    "scrolled": true
   },
   "outputs": [],
   "source": [
    "print(\"add_and_print produces the value: \" + str(add_and_print(2, 3)))"
   ]
  },
  {
   "cell_type": "code",
   "execution_count": null,
   "id": "b85f2dc1",
   "metadata": {
    "scrolled": true,
    "slideshow": {
     "slide_type": ""
    }
   },
   "outputs": [],
   "source": [
    "print(\"add_and_return produces the value: \" + str(add_and_return(2, 3)))"
   ]
  },
  {
   "cell_type": "code",
   "execution_count": 39,
   "id": "4a343b95",
   "metadata": {
    "scrolled": true,
    "slideshow": {
     "slide_type": "subslide"
    }
   },
   "outputs": [
    {
     "name": "stdout",
     "output_type": "stream",
     "text": [
      "5\n",
      "add_and_print produces the value: None\n"
     ]
    }
   ],
   "source": [
    "print(\"add_and_print produces the value: \" + str(add_and_print(2, 3)))"
   ]
  },
  {
   "cell_type": "code",
   "execution_count": 40,
   "id": "78a2bffa",
   "metadata": {
    "scrolled": true,
    "slideshow": {
     "slide_type": ""
    }
   },
   "outputs": [
    {
     "name": "stdout",
     "output_type": "stream",
     "text": [
      "add_and_return produces the value: 5\n"
     ]
    }
   ],
   "source": [
    "print(\"add_and_return produces the value: \" + str(add_and_return(2, 3)))"
   ]
  },
  {
   "cell_type": "markdown",
   "id": "e9bcf0ae",
   "metadata": {},
   "source": [
    "`add_and_print` is writing a value directly to this slide.\n",
    "\n",
    "`add_and_return` is handing a value back to the code that called it. That code can use the value however it wants."
   ]
  },
  {
   "cell_type": "markdown",
   "id": "e4c2e005",
   "metadata": {
    "slideshow": {
     "slide_type": "subslide"
    }
   },
   "source": [
    "Using `return` is especially useful when the calling code needs to use the result of the function."
   ]
  },
  {
   "cell_type": "code",
   "execution_count": 41,
   "id": "6c098ace",
   "metadata": {
    "scrolled": true,
    "slideshow": {
     "slide_type": ""
    }
   },
   "outputs": [
    {
     "name": "stdout",
     "output_type": "stream",
     "text": [
      "5\n"
     ]
    },
    {
     "ename": "TypeError",
     "evalue": "unsupported operand type(s) for +: 'NoneType' and 'int'",
     "output_type": "error",
     "traceback": [
      "\u001b[0;31m---------------------------------------------------------------------------\u001b[0m",
      "\u001b[0;31mTypeError\u001b[0m                                 Traceback (most recent call last)",
      "Cell \u001b[0;32mIn[41], line 1\u001b[0m\n\u001b[0;32m----> 1\u001b[0m \u001b[38;5;28mprint\u001b[39m(\u001b[38;5;124m\"\u001b[39m\u001b[38;5;124mAdding 1 to add_and_print(2,3) produces: \u001b[39m\u001b[38;5;124m\"\u001b[39m \u001b[38;5;241m+\u001b[39m \u001b[38;5;28mstr\u001b[39m(\u001b[43madd_and_print\u001b[49m\u001b[43m(\u001b[49m\u001b[38;5;241;43m2\u001b[39;49m\u001b[43m,\u001b[49m\u001b[43m \u001b[49m\u001b[38;5;241;43m3\u001b[39;49m\u001b[43m)\u001b[49m\u001b[43m \u001b[49m\u001b[38;5;241;43m+\u001b[39;49m\u001b[43m \u001b[49m\u001b[38;5;241;43m1\u001b[39;49m))\n",
      "\u001b[0;31mTypeError\u001b[0m: unsupported operand type(s) for +: 'NoneType' and 'int'"
     ]
    }
   ],
   "source": [
    "print(\"Adding 1 to add_and_print(2,3) produces: \" + str(add_and_print(2, 3) + 1))"
   ]
  },
  {
   "cell_type": "code",
   "execution_count": 42,
   "id": "a14f20e5",
   "metadata": {
    "scrolled": true,
    "slideshow": {
     "slide_type": ""
    }
   },
   "outputs": [
    {
     "name": "stdout",
     "output_type": "stream",
     "text": [
      "Adding 1 to add_and_return(2,3) produces: 6\n"
     ]
    }
   ],
   "source": [
    "print(\"Adding 1 to add_and_return(2,3) produces: \" + str(add_and_return(2, 3) + 1))"
   ]
  },
  {
   "cell_type": "markdown",
   "id": "ded45698",
   "metadata": {
    "slideshow": {
     "slide_type": "slide"
    }
   },
   "source": [
    "## None\n",
    "\n",
    "`None` is a special value that represents \"null\" or \"empty\".\n",
    "\n",
    "If you don't specify a return value from a function, the function will return `None`. \n",
    "\n",
    "This happens when:\n",
    "* execution reaches the end of the function without encountering a return statement\n",
    "* there is a \"bare\" `return` with no value\n",
    "* `return None` is used explicitly"
   ]
  },
  {
   "cell_type": "markdown",
   "id": "7b28d294",
   "metadata": {
    "slideshow": {
     "slide_type": "subslide"
    }
   },
   "source": [
    "## None\n",
    "\n",
    "`None` can be used like any other value. \n",
    "\n",
    "e.g. `None` can be assigned to a variable (`a = None`)\n",
    "\n",
    "It has its own type: `NoneType` - similar to `int`, `str`, `float`."
   ]
  },
  {
   "cell_type": "code",
   "execution_count": 43,
   "id": "be6edb3d",
   "metadata": {
    "execution": {
     "iopub.execute_input": "2023-10-04T02:30:13.917114Z",
     "iopub.status.busy": "2023-10-04T02:30:13.916870Z",
     "iopub.status.idle": "2023-10-04T02:30:13.920164Z",
     "shell.execute_reply": "2023-10-04T02:30:13.919514Z"
    },
    "slideshow": {
     "slide_type": "subslide"
    }
   },
   "outputs": [
    {
     "name": "stdout",
     "output_type": "stream",
     "text": [
      "None\n"
     ]
    }
   ],
   "source": [
    "def do_stuff():\n",
    "    val = \"Hello \" + \"world\"\n",
    "print(do_stuff())"
   ]
  },
  {
   "cell_type": "code",
   "execution_count": 44,
   "id": "d9192d3d",
   "metadata": {
    "execution": {
     "iopub.execute_input": "2023-10-04T02:30:13.917114Z",
     "iopub.status.busy": "2023-10-04T02:30:13.916870Z",
     "iopub.status.idle": "2023-10-04T02:30:13.920164Z",
     "shell.execute_reply": "2023-10-04T02:30:13.919514Z"
    }
   },
   "outputs": [
    {
     "name": "stdout",
     "output_type": "stream",
     "text": [
      "None\n"
     ]
    }
   ],
   "source": [
    "def do_stuff():\n",
    "    a = 5 + 10\n",
    "    return\n",
    "print(do_stuff())"
   ]
  },
  {
   "cell_type": "code",
   "execution_count": 45,
   "id": "59997401",
   "metadata": {
    "execution": {
     "iopub.execute_input": "2023-10-04T02:30:13.917114Z",
     "iopub.status.busy": "2023-10-04T02:30:13.916870Z",
     "iopub.status.idle": "2023-10-04T02:30:13.920164Z",
     "shell.execute_reply": "2023-10-04T02:30:13.919514Z"
    }
   },
   "outputs": [
    {
     "name": "stdout",
     "output_type": "stream",
     "text": [
      "None\n"
     ]
    }
   ],
   "source": [
    "def do_stuff():\n",
    "    b = 7 / 5\n",
    "    return None\n",
    "print(do_stuff())"
   ]
  },
  {
   "cell_type": "markdown",
   "id": "15187a04",
   "metadata": {
    "slideshow": {
     "slide_type": "subslide"
    }
   },
   "source": [
    "## Control flow\n",
    "\n",
    "* When a `return` statement is encountered, the function stops executing.\n",
    "* `return` can be used to control the flow of your program."
   ]
  },
  {
   "cell_type": "code",
   "execution_count": null,
   "id": "746ed6da",
   "metadata": {
    "execution": {
     "iopub.execute_input": "2023-10-04T02:30:13.923029Z",
     "iopub.status.busy": "2023-10-04T02:30:13.922770Z",
     "iopub.status.idle": "2023-10-04T02:30:13.925920Z",
     "shell.execute_reply": "2023-10-04T02:30:13.925398Z"
    }
   },
   "outputs": [],
   "source": [
    "def div(a, b):\n",
    "    if b == 0:\n",
    "        return None\n",
    "    return a / b"
   ]
  },
  {
   "cell_type": "code",
   "execution_count": null,
   "id": "cf928a46",
   "metadata": {
    "execution": {
     "iopub.execute_input": "2023-10-04T02:30:13.928686Z",
     "iopub.status.busy": "2023-10-04T02:30:13.928455Z",
     "iopub.status.idle": "2023-10-04T02:30:13.931657Z",
     "shell.execute_reply": "2023-10-04T02:30:13.931135Z"
    }
   },
   "outputs": [],
   "source": [
    "print(div(10, 2))"
   ]
  },
  {
   "cell_type": "code",
   "execution_count": null,
   "id": "ce6e01d5",
   "metadata": {
    "execution": {
     "iopub.execute_input": "2023-10-04T02:30:13.934374Z",
     "iopub.status.busy": "2023-10-04T02:30:13.934135Z",
     "iopub.status.idle": "2023-10-04T02:30:13.937387Z",
     "shell.execute_reply": "2023-10-04T02:30:13.936803Z"
    }
   },
   "outputs": [],
   "source": [
    "print(div(10, 0))"
   ]
  },
  {
   "cell_type": "markdown",
   "id": "a65d1489",
   "metadata": {
    "slideshow": {
     "slide_type": "slide"
    }
   },
   "source": [
    "## Terminology\n",
    "* When a function produces a value, we say it **returns** a value.\n",
    "* The value a function produces is referred to as the **return value**\n",
    "* When the `return` keyword is used in a function, it is referred to as **returning from** the function."
   ]
  }
 ],
 "metadata": {
  "celltoolbar": "Slideshow",
  "kernelspec": {
   "display_name": "Python 3 (ipykernel)",
   "language": "python",
   "name": "python3"
  },
  "language_info": {
   "codemirror_mode": {
    "name": "ipython",
    "version": 3
   },
   "file_extension": ".py",
   "mimetype": "text/x-python",
   "name": "python",
   "nbconvert_exporter": "python",
   "pygments_lexer": "ipython3",
   "version": "3.10.9"
  }
 },
 "nbformat": 4,
 "nbformat_minor": 5
}
