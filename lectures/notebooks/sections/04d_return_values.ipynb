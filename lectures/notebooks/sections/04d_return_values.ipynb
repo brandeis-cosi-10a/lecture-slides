{
 "cells": [
  {
   "cell_type": "markdown",
   "id": "735255b6",
   "metadata": {
    "slideshow": {
     "slide_type": "slide"
    }
   },
   "source": [
    "\n",
    "# Return\n",
    "\n",
    "* Functions can produce values.\n",
    "* Using the `return` keyword in a function makes the function produce a value."
   ]
  },
  {
   "cell_type": "code",
   "execution_count": null,
   "id": "9b69489b",
   "metadata": {
    "execution": {
     "iopub.execute_input": "2023-10-04T02:30:13.880263Z",
     "iopub.status.busy": "2023-10-04T02:30:13.879963Z",
     "iopub.status.idle": "2023-10-04T02:30:13.886964Z",
     "shell.execute_reply": "2023-10-04T02:30:13.886173Z"
    },
    "slideshow": {
     "slide_type": "-"
    }
   },
   "outputs": [],
   "source": [
    "def add(a, b):\n",
    "    return a + b\n",
    "\n",
    "add(1, 2)"
   ]
  },
  {
   "cell_type": "markdown",
   "id": "c3d4ddde",
   "metadata": {
    "slideshow": {
     "slide_type": "slide"
    }
   },
   "source": [
    "## `return` vs `print`"
   ]
  },
  {
   "cell_type": "code",
   "execution_count": null,
   "id": "b6d3a341",
   "metadata": {
    "slideshow": {
     "slide_type": ""
    }
   },
   "outputs": [],
   "source": [
    "def add_and_return(a, b):\n",
    "    return a + b\n",
    "\n",
    "def add_and_print(a, b):\n",
    "    print(a + b)"
   ]
  },
  {
   "cell_type": "code",
   "execution_count": null,
   "id": "6039cd01",
   "metadata": {},
   "outputs": [],
   "source": [
    "add_and_return(2, 3)"
   ]
  },
  {
   "cell_type": "code",
   "execution_count": null,
   "id": "5ffc5396",
   "metadata": {},
   "outputs": [],
   "source": [
    "add_and_print(2, 3)"
   ]
  },
  {
   "cell_type": "markdown",
   "id": "4574896a",
   "metadata": {
    "slideshow": {
     "slide_type": "fragment"
    }
   },
   "source": [
    "They look the same here - but are they?"
   ]
  },
  {
   "cell_type": "markdown",
   "id": "41d78a9c",
   "metadata": {
    "slideshow": {
     "slide_type": "subslide"
    }
   },
   "source": [
    "# `return` vs. `print`\n",
    "\n",
    "At first glance, `return` and `print` might seem the same. \n",
    "\n",
    "**They are not!** The difference is important, but might be confusing at first!\n",
    "\n",
    "`print` writes a value to the program's output (the terminal)\n",
    "\n",
    "`return` hands a result back to the code which called the function"
   ]
  },
  {
   "cell_type": "markdown",
   "id": "10b9e128",
   "metadata": {
    "slideshow": {
     "slide_type": "subslide"
    }
   },
   "source": [
    "## Phone a friend: `return`\n",
    "\n",
    "You are given a math homework assignment.\n",
    "\n",
    "One of the problems is too hard, so you call a friend on the phone to get help.\n",
    "\n",
    "You read the question to your friend.\n",
    "\n",
    "Your friend thinks for a minute, and then responds with the answer.\n",
    "\n",
    "You write the answer on your paper."
   ]
  },
  {
   "cell_type": "markdown",
   "id": "8b4541ef",
   "metadata": {
    "slideshow": {
     "slide_type": "subslide"
    }
   },
   "source": [
    "## Phone a friend: `return`\n",
    "\n",
    "You are given a math homework assignment.\n",
    "\n",
    "<span style=\"color:blue\">One of the problems is too hard, so you call a friend on the phone to get help.</span> (_Your friend is the function - you give them input, they produce output_)\n",
    "\n",
    "<span style=\"color:green\">You read the question to your friend.</span> (_This is calling the function_)\n",
    "\n",
    "<span style=\"color:red\">Your friend thinks for a minute, and then responds with the answer.</span> (_This is the function \"returning\" the answer_)\n",
    "\n",
    "<span style=\"color:purple\">You write the answer on your paper</span> (_This is the calling code using the return value_) "
   ]
  },
  {
   "cell_type": "markdown",
   "id": "856d93ed",
   "metadata": {
    "slideshow": {
     "slide_type": "subslide"
    }
   },
   "source": [
    "## Phone a friend: `print`\n",
    "\n",
    "You are given a math homework assignment.\n",
    "\n",
    "One of the problems is too hard, so you call a friend on the phone to get help.\n",
    "\n",
    "You read the question to your friend.\n",
    "\n",
    "Your friend thinks for a minute, and then writes the answer down on a piece of paper and hangs up.\n",
    "\n",
    "You contemplate how unhelpful your friend was, and fail the homework assignment."
   ]
  },
  {
   "cell_type": "markdown",
   "id": "28d710fe",
   "metadata": {
    "slideshow": {
     "slide_type": "subslide"
    }
   },
   "source": [
    "## Phone a friend: `print`\n",
    "\n",
    "You are given a math homework assignment.\n",
    "\n",
    "One of the problems is too hard, so you call a friend on the phone to get help.\n",
    "\n",
    "You read the question to your friend.\n",
    "\n",
    "<span style=\"color:red\">Your friend thinks for a minute, and then writes the answer down on a piece of paper and hangs up.</span> (_This is your friend \"printing\" the answer - your friend has produced output, but it is not directly available to you, the caller._)\n",
    "\n",
    "You contemplate how unhelpful your friend was, and fail the homework assignment."
   ]
  },
  {
   "cell_type": "markdown",
   "id": "f93a3be0",
   "metadata": {
    "slideshow": {
     "slide_type": "subslide"
    }
   },
   "source": [
    "Let's explore the difference with some examples."
   ]
  },
  {
   "cell_type": "code",
   "execution_count": null,
   "id": "c5e60219",
   "metadata": {
    "slideshow": {
     "slide_type": ""
    }
   },
   "outputs": [],
   "source": [
    "def add_and_print(a, b):\n",
    "    print(a + b)\n",
    "    \n",
    "def add_and_return(a, b):\n",
    "    return a + b"
   ]
  },
  {
   "cell_type": "code",
   "execution_count": null,
   "id": "bc7772a1",
   "metadata": {},
   "outputs": [],
   "source": [
    "print(\"add_and_print produces the value: \" + str(add_and_print(2, 3)))"
   ]
  },
  {
   "cell_type": "code",
   "execution_count": null,
   "id": "b85f2dc1",
   "metadata": {
    "slideshow": {
     "slide_type": ""
    }
   },
   "outputs": [],
   "source": [
    "print(\"add_and_return produces the value: \" + str(add_and_return(2, 3)))"
   ]
  },
  {
   "cell_type": "code",
   "execution_count": null,
   "id": "4a343b95",
   "metadata": {
    "slideshow": {
     "slide_type": "subslide"
    }
   },
   "outputs": [],
   "source": [
    "print(\"add_and_print produces the value: \" + str(add_and_print(2, 3)))"
   ]
  },
  {
   "cell_type": "code",
   "execution_count": null,
   "id": "78a2bffa",
   "metadata": {
    "slideshow": {
     "slide_type": ""
    }
   },
   "outputs": [],
   "source": [
    "print(\"add_and_return produces the value: \" + str(add_and_return(2, 3)))"
   ]
  },
  {
   "cell_type": "markdown",
   "id": "e9bcf0ae",
   "metadata": {},
   "source": [
    "`add_and_print` is writing a value directly to this slide.\n",
    "\n",
    "`add_and_return` is handing a value back to the code that called it. That code can use the value however it wants."
   ]
  },
  {
   "cell_type": "markdown",
   "id": "e4c2e005",
   "metadata": {
    "slideshow": {
     "slide_type": "subslide"
    }
   },
   "source": [
    "Using `return` is especially useful when the calling code needs to use the result of the function."
   ]
  },
  {
   "cell_type": "code",
   "execution_count": null,
   "id": "6c098ace",
   "metadata": {
    "slideshow": {
     "slide_type": ""
    }
   },
   "outputs": [],
   "source": [
    "print(\"Adding 1 to add_and_print(2,3) produces: \" + str(add_and_print(2, 3) + 1))"
   ]
  },
  {
   "cell_type": "code",
   "execution_count": null,
   "id": "a14f20e5",
   "metadata": {
    "slideshow": {
     "slide_type": ""
    }
   },
   "outputs": [],
   "source": [
    "print(\"Adding 1 to add_and_return(2,3) produces: \" + str(add_and_return(2, 3) + 1))"
   ]
  },
  {
   "cell_type": "markdown",
   "id": "ded45698",
   "metadata": {
    "slideshow": {
     "slide_type": "slide"
    }
   },
   "source": [
    "## None\n",
    "\n",
    "`None` is a special value that represents \"null\" or \"empty\".\n",
    "\n",
    "If you don't specify a return value from a function, the function will return `None`. \n",
    "\n",
    "This happens when:\n",
    "* execution reaches the end of the function without encountering a return statement\n",
    "* there is a \"bare\" `return` with no value\n",
    "* `return None` is used explicitly"
   ]
  },
  {
   "cell_type": "markdown",
   "id": "7b28d294",
   "metadata": {
    "slideshow": {
     "slide_type": "subslide"
    }
   },
   "source": [
    "## None\n",
    "\n",
    "`None` can be used like any other value. \n",
    "\n",
    "e.g. `None` can be assigned to a variable (`a = None`)\n",
    "\n",
    "It has its own type: `NoneType` - similar to `int`, `str`, `float`."
   ]
  },
  {
   "cell_type": "code",
   "execution_count": null,
   "id": "be6edb3d",
   "metadata": {
    "execution": {
     "iopub.execute_input": "2023-10-04T02:30:13.917114Z",
     "iopub.status.busy": "2023-10-04T02:30:13.916870Z",
     "iopub.status.idle": "2023-10-04T02:30:13.920164Z",
     "shell.execute_reply": "2023-10-04T02:30:13.919514Z"
    },
    "slideshow": {
     "slide_type": "subslide"
    }
   },
   "outputs": [],
   "source": [
    "def do_stuff():\n",
    "    val = \"Hello \" + \"world\"\n",
    "print(do_stuff())"
   ]
  },
  {
   "cell_type": "code",
   "execution_count": null,
   "id": "d9192d3d",
   "metadata": {
    "execution": {
     "iopub.execute_input": "2023-10-04T02:30:13.917114Z",
     "iopub.status.busy": "2023-10-04T02:30:13.916870Z",
     "iopub.status.idle": "2023-10-04T02:30:13.920164Z",
     "shell.execute_reply": "2023-10-04T02:30:13.919514Z"
    }
   },
   "outputs": [],
   "source": [
    "def do_stuff():\n",
    "    a = 5 + 10\n",
    "    return\n",
    "print(do_stuff())"
   ]
  },
  {
   "cell_type": "code",
   "execution_count": null,
   "id": "59997401",
   "metadata": {
    "execution": {
     "iopub.execute_input": "2023-10-04T02:30:13.917114Z",
     "iopub.status.busy": "2023-10-04T02:30:13.916870Z",
     "iopub.status.idle": "2023-10-04T02:30:13.920164Z",
     "shell.execute_reply": "2023-10-04T02:30:13.919514Z"
    }
   },
   "outputs": [],
   "source": [
    "def do_stuff():\n",
    "    b = 7 / 5\n",
    "    return None\n",
    "print(do_stuff())"
   ]
  },
  {
   "cell_type": "markdown",
   "id": "15187a04",
   "metadata": {
    "slideshow": {
     "slide_type": "subslide"
    }
   },
   "source": [
    "## Control flow\n",
    "\n",
    "* When a `return` statement is encountered, the function stops executing.\n",
    "* `return` can be used to control the flow of your program."
   ]
  },
  {
   "cell_type": "code",
   "execution_count": null,
   "id": "746ed6da",
   "metadata": {
    "execution": {
     "iopub.execute_input": "2023-10-04T02:30:13.923029Z",
     "iopub.status.busy": "2023-10-04T02:30:13.922770Z",
     "iopub.status.idle": "2023-10-04T02:30:13.925920Z",
     "shell.execute_reply": "2023-10-04T02:30:13.925398Z"
    }
   },
   "outputs": [],
   "source": [
    "def div(a, b):\n",
    "    if b == 0:\n",
    "        return None\n",
    "    return a / b"
   ]
  },
  {
   "cell_type": "code",
   "execution_count": null,
   "id": "cf928a46",
   "metadata": {
    "execution": {
     "iopub.execute_input": "2023-10-04T02:30:13.928686Z",
     "iopub.status.busy": "2023-10-04T02:30:13.928455Z",
     "iopub.status.idle": "2023-10-04T02:30:13.931657Z",
     "shell.execute_reply": "2023-10-04T02:30:13.931135Z"
    }
   },
   "outputs": [],
   "source": [
    "print(div(10, 2))"
   ]
  },
  {
   "cell_type": "code",
   "execution_count": null,
   "id": "ce6e01d5",
   "metadata": {
    "execution": {
     "iopub.execute_input": "2023-10-04T02:30:13.934374Z",
     "iopub.status.busy": "2023-10-04T02:30:13.934135Z",
     "iopub.status.idle": "2023-10-04T02:30:13.937387Z",
     "shell.execute_reply": "2023-10-04T02:30:13.936803Z"
    }
   },
   "outputs": [],
   "source": [
    "print(div(10, 0))"
   ]
  },
  {
   "cell_type": "markdown",
   "id": "a65d1489",
   "metadata": {
    "slideshow": {
     "slide_type": "slide"
    }
   },
   "source": [
    "## Terminology\n",
    "* When a function produces a value, we say it **returns** a value.\n",
    "* The value a function produces is referred to as the **return value**\n",
    "* When the `return` keyword is used in a function, it is referred to as **returning from** the function."
   ]
  },
  {
   "cell_type": "markdown",
   "id": "6e08878e",
   "metadata": {
    "slideshow": {
     "slide_type": "slide"
    }
   },
   "source": [
    "# Example 0: Average\n",
    "\n",
    "Write a function that takes 5 numbers as input, and returns the average."
   ]
  },
  {
   "cell_type": "code",
   "execution_count": null,
   "id": "afa2f488",
   "metadata": {
    "slideshow": {
     "slide_type": "subslide"
    }
   },
   "outputs": [],
   "source": [
    "def average(a, b, c, d, e):\n",
    "    sum = a + b + c + d + e\n",
    "    return sum / 5"
   ]
  },
  {
   "cell_type": "code",
   "execution_count": null,
   "id": "b5cb1696",
   "metadata": {
    "slideshow": {
     "slide_type": "subslide"
    }
   },
   "outputs": [],
   "source": [
    "average(1, 2, 3, 4, 5)"
   ]
  },
  {
   "cell_type": "code",
   "execution_count": null,
   "id": "d6f2ae83",
   "metadata": {},
   "outputs": [],
   "source": [
    "average(1, 1, 1, 1, 9999)"
   ]
  },
  {
   "cell_type": "code",
   "execution_count": null,
   "id": "70214437",
   "metadata": {},
   "outputs": [],
   "source": [
    "average(-10, -5, 0, 5, 10)"
   ]
  },
  {
   "cell_type": "markdown",
   "id": "ec7f0d57",
   "metadata": {
    "slideshow": {
     "slide_type": "slide"
    }
   },
   "source": [
    "# Example 1: Make things exciting\n",
    "\n",
    "Write a function that makes a string excited by adding an exclamation point at the end, and optionally making the text ALL CAPS."
   ]
  },
  {
   "cell_type": "code",
   "execution_count": null,
   "id": "5fa9f653",
   "metadata": {
    "slideshow": {
     "slide_type": "subslide"
    }
   },
   "outputs": [],
   "source": [
    "def make_exciting(value, all_caps):\n",
    "    if all_caps:\n",
    "        value = value.upper()\n",
    "    return value + \"!\""
   ]
  },
  {
   "cell_type": "code",
   "execution_count": null,
   "id": "dbf26103",
   "metadata": {},
   "outputs": [],
   "source": [
    "make_exciting(\"Hi class\", False)"
   ]
  },
  {
   "cell_type": "code",
   "execution_count": null,
   "id": "9aa68783",
   "metadata": {},
   "outputs": [],
   "source": [
    "make_exciting(\"Hi class\", True)"
   ]
  },
  {
   "cell_type": "code",
   "execution_count": null,
   "id": "eaa3c519",
   "metadata": {},
   "outputs": [],
   "source": [
    "print(\"Today I went to 10a, and it was... \" + make_exciting(\"the best day ever\", True))"
   ]
  },
  {
   "cell_type": "markdown",
   "id": "d9ed7c12",
   "metadata": {
    "slideshow": {
     "slide_type": "slide"
    }
   },
   "source": [
    "# Example 2: Sandwich instructions revisited\n",
    "\n",
    "Improve our function that took in a set of ingredients (bread, meat, cheese, condiment) and printed instructions to make a sandwich"
   ]
  },
  {
   "cell_type": "markdown",
   "id": "19a754dc",
   "metadata": {
    "slideshow": {
     "slide_type": "subslide"
    }
   },
   "source": [
    "\n",
    "The code we left off with:"
   ]
  },
  {
   "cell_type": "code",
   "execution_count": null,
   "id": "0d4c0219",
   "metadata": {
    "slideshow": {
     "slide_type": ""
    }
   },
   "outputs": [],
   "source": [
    "def print_step(step_num, instruction):\n",
    "    print(\"Step \" + str(step_num) + \": \" + instruction)\n",
    "    \n",
    "def sandwich(bread, meat, cheese, condiment):\n",
    "    desc = \"Here are instructions to make a \" + meat\n",
    "    \n",
    "    if cheese:\n",
    "        desc += \" and \"  + cheese\n",
    "    desc += \" on \" + bread\n",
    "    \n",
    "    if condiment:\n",
    "        desc += \" with \" + condiment\n",
    "    desc += \".\"\n",
    "    \n",
    "    print(desc)\n",
    "    \n",
    "    step = 1\n",
    "    print_step(step, \"Lay out 2 slices of \" + bread + \" bread.\")\n",
    "    step += 1\n",
    "    \n",
    "    if condiment:\n",
    "        print_step(step, \"Spread \" + condiment + \" on both slices of \" + bread + \" bread.\")\n",
    "        step += 1 \n",
    "        \n",
    "    print_step(step, \"Put 3 pieces of \" + meat + \" on one slice of \" + bread + \" bread.\")\n",
    "    step += 1\n",
    "    \n",
    "    if cheese:\n",
    "        print_step(step, \"Put 2 pieces of \" + cheese  + \" on top of the \" + meat + \".\")\n",
    "        step += 1\n",
    "        print_step(step, \"Put the second slice of bread on top of the \" + cheese + \".\")\n",
    "        step += 1\n",
    "    else:\n",
    "        print_step(step, \"Put the second slice of bread on top of the \" + meat + \".\")\n",
    "        step += 1\n",
    "        \n",
    "    print_step(step, \"Cut in half\")\n",
    "    step += 1\n",
    "    \n",
    "    print_step(step, \"Eat!\")"
   ]
  },
  {
   "cell_type": "code",
   "execution_count": null,
   "id": "8cd92d6c",
   "metadata": {
    "slideshow": {
     "slide_type": "subslide"
    }
   },
   "outputs": [],
   "source": [
    "sandwich(\"sourdough\", \"turkey\", \"swiss\", \"mustard\")"
   ]
  },
  {
   "cell_type": "markdown",
   "id": "b0e91323",
   "metadata": {
    "slideshow": {
     "slide_type": "subslide"
    }
   },
   "source": [
    "## Sandwich Decomposition\n",
    "\n",
    "Our function is pretty long - almost 30 lines of code.\n",
    "\n",
    "When functions get beyond 15-20 lines of code, it's usually a good idea to try to **decompose** them, or break them up into smaller parts."
   ]
  },
  {
   "cell_type": "markdown",
   "id": "bf9f083a",
   "metadata": {
    "slideshow": {
     "slide_type": "subslide"
    }
   },
   "source": [
    "The code that prints the first line of output is pretty self-contained. Let's make it a function!"
   ]
  },
  {
   "cell_type": "code",
   "execution_count": null,
   "id": "2a0bb513",
   "metadata": {
    "slideshow": {
     "slide_type": ""
    }
   },
   "outputs": [],
   "source": [
    "def sandwich(bread, meat, cheese, condiment):\n",
    "    desc = \"Here are instructions to make a \" + meat\n",
    "    \n",
    "    if cheese:\n",
    "        desc += \" and \"  + cheese\n",
    "    desc += \" on \" + bread\n",
    "    \n",
    "    if condiment:\n",
    "        desc += \" with \" + condiment\n",
    "    desc += \".\"\n",
    "    \n",
    "    print(desc)\n",
    "    \n",
    "    step = 1\n",
    "    print_step(step, \"Lay out 2 slices of \" + bread + \" bread.\")\n",
    "    step += 1\n",
    "    \n",
    "    if condiment:\n",
    "        print_step(step, \"Spread \" + condiment + \" on both slices of \" + bread + \" bread.\")\n",
    "        step += 1 \n",
    "        \n",
    "    print_step(step, \"Put 3 pieces of \" + meat + \" on one slice of \" + bread + \" bread.\")\n",
    "    step += 1\n",
    "    \n",
    "    if cheese:\n",
    "        print_step(step, \"Put 2 pieces of \" + cheese  + \" on top of the \" + meat + \".\")\n",
    "        step += 1\n",
    "        print_step(step, \"Put the second slice of bread on top of the \" + cheese + \".\")\n",
    "        step += 1\n",
    "    else:\n",
    "        print_step(step, \"Put the second slice of bread on top of the \" + meat + \".\")\n",
    "        step += 1\n",
    "        \n",
    "    print_step(step, \"Cut in half\")\n",
    "    step += 1\n",
    "    \n",
    "    print_step(step, \"Eat!\")"
   ]
  },
  {
   "cell_type": "code",
   "execution_count": null,
   "id": "fbdd906b",
   "metadata": {
    "slideshow": {
     "slide_type": "subslide"
    }
   },
   "outputs": [],
   "source": [
    "def print_intro(bread, meat, cheese, condiment):\n",
    "    desc = \"Here are instructions to make a \" + meat\n",
    "    \n",
    "    if cheese:\n",
    "        desc += \" and \"  + cheese\n",
    "    desc += \" on \" + bread\n",
    "    \n",
    "    if condiment:\n",
    "        desc += \" with \" + condiment\n",
    "    desc += \".\"\n",
    "    \n",
    "    print(desc)"
   ]
  },
  {
   "cell_type": "code",
   "execution_count": null,
   "id": "a72679f3",
   "metadata": {},
   "outputs": [],
   "source": [
    "print_intro(\"sourdough\", \"turkey\", \"swiss\", \"mustard\")"
   ]
  },
  {
   "cell_type": "code",
   "execution_count": null,
   "id": "c1eaee98",
   "metadata": {},
   "outputs": [],
   "source": [
    "print_intro(\"sourdough\", \"turkey\", \"\", \"mustard\")"
   ]
  },
  {
   "cell_type": "code",
   "execution_count": null,
   "id": "c4b86bbb",
   "metadata": {},
   "outputs": [],
   "source": [
    "print_intro(\"sourdough\", \"turkey\", \"swiss\", \"\")"
   ]
  },
  {
   "cell_type": "code",
   "execution_count": null,
   "id": "da86a61c",
   "metadata": {
    "slideshow": {
     "slide_type": "subslide"
    }
   },
   "outputs": [],
   "source": [
    "def sandwich(bread, meat, cheese, condiment):\n",
    "    print_intro(bread, meat, cheese, condiment)\n",
    "    \n",
    "    step = 1\n",
    "    print_step(step, \"Lay out 2 slices of \" + bread + \" bread.\")\n",
    "    step += 1\n",
    "    \n",
    "    if condiment:\n",
    "        print_step(step, \"Spread \" + condiment + \" on both slices of \" + bread + \" bread.\")\n",
    "        step += 1 \n",
    "        \n",
    "    print_step(step, \"Put 3 pieces of \" + meat + \" on one slice of \" + bread + \" bread.\")\n",
    "    step += 1\n",
    "    \n",
    "    if cheese:\n",
    "        print_step(step, \"Put 2 pieces of \" + cheese  + \" on top of the \" + meat + \".\")\n",
    "        step += 1\n",
    "        print_step(step, \"Put the second slice of bread on top of the \" + cheese + \".\")\n",
    "        step += 1\n",
    "    else:\n",
    "        print_step(step, \"Put the second slice of bread on top of the \" + meat + \".\")\n",
    "        step += 1\n",
    "        \n",
    "    print_step(step, \"Cut in half\")\n",
    "    step += 1\n",
    "    \n",
    "    print_step(step, \"Eat!\")"
   ]
  },
  {
   "cell_type": "code",
   "execution_count": null,
   "id": "c72f94a9",
   "metadata": {},
   "outputs": [],
   "source": [
    "sandwich(\"sourdough\", \"turkey\", \"swiss\", \"mustard\")"
   ]
  },
  {
   "cell_type": "markdown",
   "id": "6c04f8b6",
   "metadata": {
    "slideshow": {
     "slide_type": "subslide"
    }
   },
   "source": [
    "The intro was easy to \"factor out\".\n",
    "\n",
    "The rest is trickier - we need to keep track of which step we're on."
   ]
  },
  {
   "cell_type": "markdown",
   "id": "6ad1f0c6",
   "metadata": {
    "slideshow": {
     "slide_type": "fragment"
    }
   },
   "source": [
    "`return` to the rescue!"
   ]
  },
  {
   "cell_type": "markdown",
   "id": "29bb48b1",
   "metadata": {
    "slideshow": {
     "slide_type": "subslide"
    }
   },
   "source": [
    "The code that handles (optionally) adding the condiment looks like it could move to its own function. Let's try it."
   ]
  },
  {
   "cell_type": "code",
   "execution_count": null,
   "id": "c30585fb",
   "metadata": {},
   "outputs": [],
   "source": [
    "# Attempt 1: return whether or not a step was used\n",
    "def print_condiment_step(num, bread, condiment):\n",
    "    if condiment:\n",
    "        print_step(num, \"Spread \" + condiment + \" on both slices of \" + bread + \" bread.\")\n",
    "        return True\n",
    "    return False"
   ]
  },
  {
   "cell_type": "code",
   "execution_count": null,
   "id": "3c78c035",
   "metadata": {
    "slideshow": {
     "slide_type": "subslide"
    }
   },
   "outputs": [],
   "source": [
    "def sandwich(bread, meat, cheese, condiment):\n",
    "    print_intro(bread, meat, cheese, condiment)\n",
    "    step = 1\n",
    "\n",
    "    print_step(step, \"Lay out 2 slices of \" + bread + \" bread.\")\n",
    "    step += 1\n",
    "    \n",
    "    used_condiment = print_condiment_step(step, bread, condiment)\n",
    "    if used_condiment:\n",
    "        step += 1\n",
    "        \n",
    "    print_step(step, \"Put 3 pieces of \" + meat + \" on one slice of \" + bread + \" bread.\")\n",
    "    step += 1\n",
    "    \n",
    "    if cheese:\n",
    "        print_step(step, \"Put 2 pieces of \" + cheese  + \" on top of the \" + meat + \".\")\n",
    "        step += 1\n",
    "        print_step(step, \"Put the second slice of bread on top of the \" + cheese + \".\")\n",
    "        step += 1\n",
    "    else:\n",
    "        print_step(step, \"Put the second slice of bread on top of the \" + meat + \".\")\n",
    "        step += 1\n",
    "        \n",
    "    print_step(step, \"Cut in half\")\n",
    "    step += 1\n",
    "    \n",
    "    print_step(step, \"Eat!\")"
   ]
  },
  {
   "cell_type": "code",
   "execution_count": null,
   "id": "4e15b21f",
   "metadata": {},
   "outputs": [],
   "source": [
    "sandwich(\"sourdough\", \"turkey\", \"swiss\", \"mustard\")"
   ]
  },
  {
   "cell_type": "markdown",
   "id": "2e4de1e9",
   "metadata": {
    "slideshow": {
     "slide_type": "subslide"
    }
   },
   "source": [
    "This is ok... it works. But the code in `sandwich` is just a complicated as before:\n",
    "\n",
    "```\n",
    "if condiment:\n",
    "    print_step(step, \"Spread \" + condiment + \" on both slices of \" + bread + \" bread.\")\n",
    "    step += 1 \n",
    "```\n",
    "vs.\n",
    "```\n",
    "used_condiment = print_condiment_step(step, bread, condiment)\n",
    "if used_condiment:\n",
    "    step += 1\n",
    "```\n",
    "We can do better!"
   ]
  },
  {
   "cell_type": "code",
   "execution_count": null,
   "id": "e6c2d39f",
   "metadata": {
    "slideshow": {
     "slide_type": "subslide"
    }
   },
   "outputs": [],
   "source": [
    "def print_condiment_step(num, bread, condiment):\n",
    "    if condiment:\n",
    "        print_step(num, \"Spread \" + condiment + \" on both slices of \" + bread + \" bread.\")\n",
    "        num += 1\n",
    "    return num"
   ]
  },
  {
   "cell_type": "code",
   "execution_count": null,
   "id": "659a6458",
   "metadata": {
    "slideshow": {
     "slide_type": "subslide"
    }
   },
   "outputs": [],
   "source": [
    "def sandwich(bread, meat, cheese, condiment):\n",
    "    print_intro(bread, meat, cheese, condiment)\n",
    "    step = 1\n",
    "\n",
    "    print_step(step, \"Lay out 2 slices of \" + bread + \" bread.\")\n",
    "    step += 1\n",
    "    \n",
    "    step = print_condiment_step(step, bread, condiment)\n",
    "        \n",
    "    print_step(step, \"Put 3 pieces of \" + meat + \" on one slice of \" + bread + \" bread.\")\n",
    "    step += 1\n",
    "    \n",
    "    if cheese:\n",
    "        print_step(step, \"Put 2 pieces of \" + cheese  + \" on top of the \" + meat + \".\")\n",
    "        step += 1\n",
    "        print_step(step, \"Put the second slice of bread on top of the \" + cheese + \".\")\n",
    "        step += 1\n",
    "    else:\n",
    "        print_step(step, \"Put the second slice of bread on top of the \" + meat + \".\")\n",
    "        step += 1\n",
    "        \n",
    "    print_step(step, \"Cut in half\")\n",
    "    step += 1\n",
    "    \n",
    "    print_step(step, \"Eat!\")"
   ]
  },
  {
   "cell_type": "code",
   "execution_count": null,
   "id": "5fb3160f",
   "metadata": {
    "slideshow": {
     "slide_type": "subslide"
    }
   },
   "outputs": [],
   "source": [
    "sandwich(\"sourdough\", \"turkey\", \"swiss\", \"mustard\")"
   ]
  },
  {
   "cell_type": "code",
   "execution_count": null,
   "id": "1f8e5a36",
   "metadata": {
    "slideshow": {
     "slide_type": ""
    }
   },
   "outputs": [],
   "source": [
    "sandwich(\"sourdough\", \"turkey\", \"swiss\", \"\")"
   ]
  },
  {
   "cell_type": "markdown",
   "id": "65e8aaeb",
   "metadata": {
    "slideshow": {
     "slide_type": "subslide"
    }
   },
   "source": [
    "The code that handles (optionally) adding the cheese and second slice of bread is all related. Let's try moving it to a function too."
   ]
  },
  {
   "cell_type": "code",
   "execution_count": null,
   "id": "78321909",
   "metadata": {
    "slideshow": {
     "slide_type": ""
    }
   },
   "outputs": [],
   "source": [
    "def sandwich(bread, meat, cheese, condiment):\n",
    "    print_intro(bread, meat, cheese, condiment)\n",
    "    \n",
    "    step = 1\n",
    "    print_step(step, \"Lay out 2 slices of \" + bread + \" bread.\")\n",
    "    step += 1\n",
    "    \n",
    "    step = print_condiment_step(step, bread, condiment)\n",
    "        \n",
    "    print_step(step, \"Put 3 pieces of \" + meat + \" on one slice of \" + bread + \" bread.\")\n",
    "    step += 1\n",
    "    \n",
    "    if cheese:\n",
    "        print_step(step, \"Put 2 pieces of \" + cheese  + \" on top of the \" + meat + \".\")\n",
    "        step += 1\n",
    "        print_step(step, \"Put the second slice of bread on top of the \" + cheese + \".\")\n",
    "        step += 1\n",
    "    else:\n",
    "        print_step(step, \"Put the second slice of bread on top of the \" + meat + \".\")\n",
    "        step += 1\n",
    "        \n",
    "    print_step(step, \"Cut in half\")\n",
    "    step += 1\n",
    "    \n",
    "    print_step(step, \"Eat!\")"
   ]
  },
  {
   "cell_type": "code",
   "execution_count": null,
   "id": "d98ed59c",
   "metadata": {
    "slideshow": {
     "slide_type": "subslide"
    }
   },
   "outputs": [],
   "source": [
    "def print_second_slice_instructions(num, cheese, meat):\n",
    "    if cheese:\n",
    "        print_step(num, \"Put 2 pieces of \" + cheese  + \" on top of the \" + meat + \".\")\n",
    "        num += 1\n",
    "        print_step(num, \"Put the second slice of bread on top of the \" + cheese + \".\")\n",
    "        num += 1\n",
    "    else:\n",
    "        print_step(num, \"Put the second slice of bread on top of the \" + meat + \".\")\n",
    "        num += 1\n",
    "    return num"
   ]
  },
  {
   "cell_type": "code",
   "execution_count": null,
   "id": "5d009122",
   "metadata": {
    "slideshow": {
     "slide_type": "subslide"
    }
   },
   "outputs": [],
   "source": [
    "def sandwich(bread, meat, cheese, condiment):\n",
    "    print_intro(bread, meat, cheese, condiment)\n",
    "    \n",
    "    step = 1\n",
    "    print_step(step, \"Lay out 2 slices of \" + bread + \" bread.\")\n",
    "    step += 1\n",
    "    \n",
    "    if condiment:\n",
    "        print_step(step, \"Spread \" + condiment + \" on both slices of \" + bread + \" bread.\")\n",
    "        step += 1 \n",
    "        \n",
    "    print_step(step, \"Put 3 pieces of \" + meat + \" on one slice of \" + bread + \" bread.\")\n",
    "    step += 1\n",
    "    \n",
    "    step = print_second_slice_instructions(step, cheese, meat)\n",
    "        \n",
    "    print_step(step, \"Cut in half\")\n",
    "    step += 1\n",
    "    \n",
    "    print_step(step, \"Eat!\")"
   ]
  },
  {
   "cell_type": "code",
   "execution_count": null,
   "id": "d4d5413a",
   "metadata": {
    "slideshow": {
     "slide_type": "subslide"
    }
   },
   "outputs": [],
   "source": [
    "sandwich(\"sourdough\", \"turkey\", \"swiss\", \"mustard\")"
   ]
  },
  {
   "cell_type": "code",
   "execution_count": null,
   "id": "d8b4aec1",
   "metadata": {},
   "outputs": [],
   "source": [
    "sandwich(\"sourdough\", \"turkey\", \"\", \"mustard\")"
   ]
  },
  {
   "cell_type": "markdown",
   "id": "b81b0ebe",
   "metadata": {
    "slideshow": {
     "slide_type": "subslide"
    }
   },
   "source": [
    "We can do the same thing for other parts of our function:"
   ]
  },
  {
   "cell_type": "code",
   "execution_count": null,
   "id": "2f311e74",
   "metadata": {
    "slideshow": {
     "slide_type": "subslide"
    }
   },
   "outputs": [],
   "source": [
    "def print_cut_and_eat(num):\n",
    "    print_step(num, \"Cut in half\")\n",
    "    num += 1\n",
    "    print_step(num, \"Eat!\")"
   ]
  },
  {
   "cell_type": "code",
   "execution_count": null,
   "id": "b2922775",
   "metadata": {
    "slideshow": {
     "slide_type": "subslide"
    }
   },
   "outputs": [],
   "source": [
    "def sandwich(bread, meat, cheese, condiment):\n",
    "    print_intro(bread, meat, cheese, condiment)\n",
    "    step = 1\n",
    "\n",
    "    print_step(step, \"Lay out 2 slices of \" + bread + \" bread.\")\n",
    "    step += 1\n",
    "    \n",
    "    step = print_condiment_step(step, bread, condiment)\n",
    "        \n",
    "    print_step(step, \"Put 3 pieces of \" + meat + \" on one slice of \" + bread + \" bread.\")\n",
    "    step += 1\n",
    "    \n",
    "    step = print_second_slice_instructions(step, cheese, meat)\n",
    "       \n",
    "    print_cut_and_eat(step)"
   ]
  },
  {
   "cell_type": "code",
   "execution_count": null,
   "id": "c3b248d2",
   "metadata": {},
   "outputs": [],
   "source": [
    "sandwich(\"sourdough\", \"turkey\", \"swiss\", \"mustard\")"
   ]
  },
  {
   "cell_type": "markdown",
   "id": "984bf1a3",
   "metadata": {
    "slideshow": {
     "slide_type": "subslide"
    }
   },
   "source": [
    "The rest of the steps are probably too simple to warrant their own functions. But let's move them anyway to make everything look consistent."
   ]
  },
  {
   "cell_type": "code",
   "execution_count": null,
   "id": "49988dd7",
   "metadata": {},
   "outputs": [],
   "source": [
    "def print_bread_step(num, bread):\n",
    "    print_step(num, \"Lay out 2 slices of \" + bread + \" bread.\")\n",
    "    return num + 1\n",
    "\n",
    "def print_meat_step(num, meat, bread):\n",
    "    print_step(num, \"Put 3 pieces of \" + meat + \" on one slice of \" + bread + \" bread.\")\n",
    "    return num + 1"
   ]
  },
  {
   "cell_type": "code",
   "execution_count": null,
   "id": "713b47ab",
   "metadata": {
    "slideshow": {
     "slide_type": "subslide"
    }
   },
   "outputs": [],
   "source": [
    "def sandwich(bread, meat, cheese, condiment):\n",
    "    print_intro(bread, meat, cheese, condiment)\n",
    "    step = 1\n",
    "    \n",
    "    step = print_bread_step(step, bread)\n",
    "    step = print_condiment_step(step, bread, condiment)\n",
    "    step = print_meat_step(step, meat, bread)\n",
    "    step = print_second_slice_instructions(step, cheese, meat)\n",
    "    \n",
    "    print_cut_and_eat(step)"
   ]
  },
  {
   "cell_type": "code",
   "execution_count": null,
   "id": "2c52abe8",
   "metadata": {
    "slideshow": {
     "slide_type": "subslide"
    }
   },
   "outputs": [],
   "source": [
    "sandwich(\"sourdough\", \"turkey\", \"swiss\", \"mustard\")"
   ]
  },
  {
   "cell_type": "code",
   "execution_count": null,
   "id": "94ccc83f",
   "metadata": {},
   "outputs": [],
   "source": [
    "sandwich(\"sourdough\", \"turkey\", \"\", \"mustard\")"
   ]
  },
  {
   "cell_type": "markdown",
   "id": "f06c8b9e",
   "metadata": {
    "slideshow": {
     "slide_type": "subslide"
    }
   },
   "source": [
    "All of the final code in one place:"
   ]
  },
  {
   "cell_type": "code",
   "execution_count": null,
   "id": "f9e75727",
   "metadata": {},
   "outputs": [],
   "source": [
    "def print_step(step_num, instruction):\n",
    "    print(\"Step \" + str(step_num) + \": \" + instruction)\n",
    "    \n",
    "    \n",
    "def print_intro(bread, meat, cheese, condiment):\n",
    "    desc = \"Here are instructions to make a \" + meat\n",
    "    \n",
    "    if cheese:\n",
    "        desc += \" and \"  + cheese\n",
    "    desc += \" on \" + bread\n",
    "    \n",
    "    if condiment:\n",
    "        desc += \" with \" + condiment\n",
    "    desc += \".\"\n",
    "    \n",
    "    print(desc)\n",
    "    \n",
    "\n",
    "def print_bread_step(num, bread):\n",
    "    print_step(num, \"Lay out 2 slices of \" + bread + \" bread.\")\n",
    "    return num + 1\n",
    "\n",
    "\n",
    "def print_condiment_step(num, bread, condiment):\n",
    "    if condiment:\n",
    "        print_step(num, \"Spread \" + condiment + \" on both slices of \" + bread + \" bread.\")\n",
    "        num += 1\n",
    "    return num\n",
    "\n",
    "\n",
    "def print_second_slice_instructions(num, cheese, meat):\n",
    "    if cheese:\n",
    "        print_step(num, \"Put 2 pieces of \" + cheese  + \" on top of the \" + meat + \".\")\n",
    "        num += 1\n",
    "        print_step(num, \"Put the second slice of bread on top of the \" + cheese + \".\")\n",
    "        num += 1\n",
    "    else:\n",
    "        print_step(num, \"Put the second slice of bread on top of the \" + meat + \".\")\n",
    "        num += 1\n",
    "    return num\n",
    "\n",
    "\n",
    "def print_meat_step(num, meat, bread):\n",
    "    print_step(num, \"Put 3 pieces of \" + meat + \" on one slice of \" + bread + \" bread.\")\n",
    "    return num + 1\n",
    "\n",
    "\n",
    "def print_cut_and_eat(num):\n",
    "    print_step(num, \"Cut in half\")\n",
    "    num += 1\n",
    "    print_step(num, \"Eat!\")    \n",
    "    \n",
    "    \n",
    "def sandwich(bread, meat, cheese, condiment):\n",
    "    print_intro(bread, meat, cheese, condiment)\n",
    "    step = 1\n",
    "\n",
    "    step = print_bread_step(step, bread)\n",
    "    step = print_condiment_step(step, bread, condiment)\n",
    "    step = print_meat_step(step, meat, bread)\n",
    "    step = print_second_slice_instructions(step, cheese, meat)\n",
    "       \n",
    "    print_cut_and_eat(step)"
   ]
  },
  {
   "cell_type": "code",
   "execution_count": null,
   "id": "e27d8528",
   "metadata": {
    "slideshow": {
     "slide_type": "subslide"
    }
   },
   "outputs": [],
   "source": [
    "sandwich(\"sourdough\", \"turkey\", \"swiss\", \"mustard\")"
   ]
  },
  {
   "cell_type": "code",
   "execution_count": null,
   "id": "3c6a42db",
   "metadata": {
    "slideshow": {
     "slide_type": ""
    }
   },
   "outputs": [],
   "source": [
    "sandwich(\"sourdough\", \"turkey\", \"\", \"mustard\")"
   ]
  },
  {
   "cell_type": "code",
   "execution_count": null,
   "id": "9a7c16bc",
   "metadata": {
    "slideshow": {
     "slide_type": "subslide"
    }
   },
   "outputs": [],
   "source": [
    "sandwich(\"sourdough\", \"turkey\", \"swiss\", \"\")"
   ]
  },
  {
   "cell_type": "code",
   "execution_count": null,
   "id": "871e1ee8",
   "metadata": {
    "slideshow": {
     "slide_type": ""
    }
   },
   "outputs": [],
   "source": [
    "sandwich(\"sourdough\", \"turkey\", \"\", \"\")"
   ]
  },
  {
   "cell_type": "markdown",
   "id": "2678db98",
   "metadata": {
    "slideshow": {
     "slide_type": "subslide"
    }
   },
   "source": [
    "## But wait... that's more code!\n",
    "\n",
    "We split our function up because it was too long... but ended up with more code?!"
   ]
  },
  {
   "cell_type": "markdown",
   "id": "63a81c85",
   "metadata": {
    "slideshow": {
     "slide_type": "fragment"
    }
   },
   "source": [
    "The overall code is longer, but each piece of code is smaller and simpler.\n",
    "\n",
    "The goal is not to write the shortest code.\n",
    "\n",
    "The goal is to write **correct** and **understandable** code!\n",
    "\n",
    "**Decomposition** helps with this. It takes practice, but it pays off."
   ]
  }
 ],
 "metadata": {
  "celltoolbar": "Slideshow",
  "kernelspec": {
   "display_name": "Python 3 (ipykernel)",
   "language": "python",
   "name": "python3"
  },
  "language_info": {
   "codemirror_mode": {
    "name": "ipython",
    "version": 3
   },
   "file_extension": ".py",
   "mimetype": "text/x-python",
   "name": "python",
   "nbconvert_exporter": "python",
   "pygments_lexer": "ipython3",
   "version": "3.10.9"
  }
 },
 "nbformat": 4,
 "nbformat_minor": 5
}
