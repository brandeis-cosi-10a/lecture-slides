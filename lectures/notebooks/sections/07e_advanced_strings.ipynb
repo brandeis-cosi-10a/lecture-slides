{
 "cells": [
  {
   "cell_type": "markdown",
   "id": "52731dc7",
   "metadata": {
    "slideshow": {
     "slide_type": "slide"
    }
   },
   "source": [
    "# More on Strings\n",
    "\n",
    "In addition to the common sequence operations, strings provide many other helpful methods.\n",
    "\n",
    "The full list can be found in the [official documentation on strings](https://docs.python.org/3/library/stdtypes.html#string-methods). \n",
    "\n",
    "We'll look through a few notable ones now."
   ]
  },
  {
   "cell_type": "markdown",
   "id": "c9e22759",
   "metadata": {
    "slideshow": {
     "slide_type": "subslide"
    }
   },
   "source": [
    "## split\n",
    "\n",
    "`s.split(<delim>)` splits a string into a list. By default it splits at any whitespace, or you can tell it which character(s) to split at:"
   ]
  },
  {
   "cell_type": "code",
   "execution_count": null,
   "id": "dca84053",
   "metadata": {
    "execution": {
     "iopub.execute_input": "2023-10-08T02:57:38.911478Z",
     "iopub.status.busy": "2023-10-08T02:57:38.911179Z",
     "iopub.status.idle": "2023-10-08T02:57:38.916721Z",
     "shell.execute_reply": "2023-10-08T02:57:38.915999Z"
    }
   },
   "outputs": [],
   "source": [
    "sentence = \"This is a sentence with lots of words\"\n",
    "sentence.split()"
   ]
  },
  {
   "cell_type": "code",
   "execution_count": null,
   "id": "243aa8e6",
   "metadata": {
    "execution": {
     "iopub.execute_input": "2023-10-08T02:57:38.919629Z",
     "iopub.status.busy": "2023-10-08T02:57:38.919364Z",
     "iopub.status.idle": "2023-10-08T02:57:38.924256Z",
     "shell.execute_reply": "2023-10-08T02:57:38.923540Z"
    }
   },
   "outputs": [],
   "source": [
    "sentence = \"This,is a sentence,with,lots of words\"\n",
    "sentence.split(\",\")"
   ]
  },
  {
   "cell_type": "markdown",
   "id": "0ecd3c75",
   "metadata": {
    "slideshow": {
     "slide_type": "subslide"
    }
   },
   "source": [
    "## join\n",
    "\n",
    "`s.join(<sequence of strings>)` joins a sequence of strings together into a single string, with `s` between each string."
   ]
  },
  {
   "cell_type": "code",
   "execution_count": null,
   "id": "19b24398",
   "metadata": {
    "execution": {
     "iopub.execute_input": "2023-10-08T02:57:38.927581Z",
     "iopub.status.busy": "2023-10-08T02:57:38.927282Z",
     "iopub.status.idle": "2023-10-08T02:57:38.933305Z",
     "shell.execute_reply": "2023-10-08T02:57:38.932493Z"
    }
   },
   "outputs": [],
   "source": [
    "' '.join([\"some\", \"words\", \"to\", \"stitch\", \"together\"])"
   ]
  },
  {
   "cell_type": "code",
   "execution_count": null,
   "id": "09b7f80b",
   "metadata": {
    "execution": {
     "iopub.execute_input": "2023-10-08T02:57:38.936924Z",
     "iopub.status.busy": "2023-10-08T02:57:38.936176Z",
     "iopub.status.idle": "2023-10-08T02:57:38.942023Z",
     "shell.execute_reply": "2023-10-08T02:57:38.941437Z"
    }
   },
   "outputs": [],
   "source": [
    "#print('\\n HI: '.join([\"some\", \"words\", \"to\", \"stitch\", \"together\"]))\n",
    "', '.join([\"10\",\"9\",\"8\",\"7\"])"
   ]
  },
  {
   "cell_type": "markdown",
   "id": "e14be3ca",
   "metadata": {
    "slideshow": {
     "slide_type": "subslide"
    }
   },
   "source": [
    "## isdigit\n",
    "\n",
    "`s.isdigit()` returns `True` if all characters in the string are digits and there is at least one character, `False` otherwise."
   ]
  },
  {
   "cell_type": "code",
   "execution_count": null,
   "id": "5a165a55",
   "metadata": {
    "execution": {
     "iopub.execute_input": "2023-10-08T02:57:38.945227Z",
     "iopub.status.busy": "2023-10-08T02:57:38.944928Z",
     "iopub.status.idle": "2023-10-08T02:57:38.950938Z",
     "shell.execute_reply": "2023-10-08T02:57:38.949660Z"
    }
   },
   "outputs": [],
   "source": [
    "'12345678'.isdigit()"
   ]
  },
  {
   "cell_type": "code",
   "execution_count": null,
   "id": "1a389911",
   "metadata": {
    "execution": {
     "iopub.execute_input": "2023-10-08T02:57:38.955034Z",
     "iopub.status.busy": "2023-10-08T02:57:38.954668Z",
     "iopub.status.idle": "2023-10-08T02:57:38.959326Z",
     "shell.execute_reply": "2023-10-08T02:57:38.958635Z"
    }
   },
   "outputs": [],
   "source": [
    "'123abc'.isdigit()"
   ]
  },
  {
   "cell_type": "markdown",
   "id": "61ed7209",
   "metadata": {
    "slideshow": {
     "slide_type": "subslide"
    }
   },
   "source": [
    "## Changing case\n",
    "\n",
    "`s.upper()` and `s.lower()` convert strings to upper and lower case"
   ]
  },
  {
   "cell_type": "code",
   "execution_count": null,
   "id": "1589ff4d",
   "metadata": {
    "execution": {
     "iopub.execute_input": "2023-10-08T02:57:38.963552Z",
     "iopub.status.busy": "2023-10-08T02:57:38.962993Z",
     "iopub.status.idle": "2023-10-08T02:57:38.969491Z",
     "shell.execute_reply": "2023-10-08T02:57:38.968720Z"
    }
   },
   "outputs": [],
   "source": [
    "'SpongeBob SquarePants'.upper()"
   ]
  },
  {
   "cell_type": "code",
   "execution_count": null,
   "id": "611b5025",
   "metadata": {
    "execution": {
     "iopub.execute_input": "2023-10-08T02:57:38.973455Z",
     "iopub.status.busy": "2023-10-08T02:57:38.973143Z",
     "iopub.status.idle": "2023-10-08T02:57:38.977879Z",
     "shell.execute_reply": "2023-10-08T02:57:38.977218Z"
    }
   },
   "outputs": [],
   "source": [
    "'SpongeBob SquarePants'.lower()"
   ]
  },
  {
   "cell_type": "markdown",
   "id": "03e4feaf",
   "metadata": {
    "slideshow": {
     "slide_type": "subslide"
    }
   },
   "source": [
    "## startswith / endswith\n",
    "\n",
    "`s.startswith(<search string>)` and `s.endswith(<search string>)`: return True if a string starts/ends with a substring"
   ]
  },
  {
   "cell_type": "code",
   "execution_count": null,
   "id": "8967302d",
   "metadata": {
    "execution": {
     "iopub.execute_input": "2023-10-08T02:57:38.982645Z",
     "iopub.status.busy": "2023-10-08T02:57:38.982251Z",
     "iopub.status.idle": "2023-10-08T02:57:38.987880Z",
     "shell.execute_reply": "2023-10-08T02:57:38.986866Z"
    }
   },
   "outputs": [],
   "source": [
    "'SpongeBob SquarePants'.startswith(\"Sponge\")"
   ]
  },
  {
   "cell_type": "code",
   "execution_count": null,
   "id": "1d0f9a1c",
   "metadata": {
    "execution": {
     "iopub.execute_input": "2023-10-08T02:57:38.991592Z",
     "iopub.status.busy": "2023-10-08T02:57:38.991276Z",
     "iopub.status.idle": "2023-10-08T02:57:38.997958Z",
     "shell.execute_reply": "2023-10-08T02:57:38.996080Z"
    }
   },
   "outputs": [],
   "source": [
    "# case matters!\n",
    "sponge = 'SpongeBob SquarePants'\n",
    "sponge.lower().endswith('pants')"
   ]
  },
  {
   "cell_type": "markdown",
   "id": "6479ae2e",
   "metadata": {},
   "source": [
    "TODO: add an example of more complicated string manipulation"
   ]
  }
 ],
 "metadata": {
  "kernelspec": {
   "display_name": "Python 3 (ipykernel)",
   "language": "python",
   "name": "python3"
  },
  "language_info": {
   "codemirror_mode": {
    "name": "ipython",
    "version": 3
   },
   "file_extension": ".py",
   "mimetype": "text/x-python",
   "name": "python",
   "nbconvert_exporter": "python",
   "pygments_lexer": "ipython3",
   "version": "3.10.9"
  }
 },
 "nbformat": 4,
 "nbformat_minor": 5
}
