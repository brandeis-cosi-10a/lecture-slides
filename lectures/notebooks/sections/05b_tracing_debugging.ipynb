{
 "cells": [
  {
   "cell_type": "markdown",
   "id": "ac6467cb",
   "metadata": {
    "slideshow": {
     "slide_type": "slide"
    }
   },
   "source": [
    "# Tracing & Debugging <small>(Learn to fish)</small>\n",
    "\n",
    "* Often, your code won't work as expected (or at all)\n",
    "* Actually typing out the code is often only a fraction of the work\n",
    "* \"Debugging\" - finding and fixing the errors - is a skill on its own\n",
    "* You also won't always be working with code YOU wrote - you need practice in deciphering others' code"
   ]
  },
  {
   "cell_type": "markdown",
   "id": "0c248719",
   "metadata": {
    "slideshow": {
     "slide_type": "slide"
    }
   },
   "source": [
    "## Debugging via prints\n",
    "\n",
    "Adding print statements to your code is an effective (if inelegant) way to understand why your code isn't behaving the way you expect it to.\n",
    "\n",
    "Try:\n",
    "* Printing hardcoded messages at certain points in the program, to see when (or if) your program reaches those points.\n",
    "* Printing out the value of variables just before a conditional, to see why the conditional isn't working the way you expect\n",
    "* Printing out the value of variables just before a crash, to see why your program is dying"
   ]
  },
  {
   "cell_type": "markdown",
   "id": "2bade47b",
   "metadata": {
    "slideshow": {
     "slide_type": "slide"
    }
   },
   "source": [
    "Debugging with prints has limits"
   ]
  },
  {
   "cell_type": "code",
   "execution_count": null,
   "id": "47b57c8d",
   "metadata": {
    "slideshow": {
     "slide_type": "subslide"
    },
    "tags": [
     "remove-output"
    ]
   },
   "outputs": [],
   "source": [
    "x = input(\"Guess a lucky number: \")\n",
    "if x == 7:\n",
    "    print(\"You win $1,000,000!\")\n",
    "else:\n",
    "    print(\"Sorry, you lose\")"
   ]
  },
  {
   "cell_type": "code",
   "execution_count": null,
   "id": "4990a135",
   "metadata": {
    "slideshow": {
     "slide_type": "subslide"
    },
    "tags": [
     "remove-output"
    ]
   },
   "outputs": [],
   "source": [
    "x = input(\"Guess a lucky number: \")\n",
    "print(x, 7)  # <-- not a helpful debugging print\n",
    "if x == 7:\n",
    "    print(\"You win $1,000,000!\")\n",
    "else:\n",
    "    print(\"Sorry, you lose\")"
   ]
  },
  {
   "cell_type": "markdown",
   "id": "ffbce638",
   "metadata": {
    "slideshow": {
     "slide_type": "slide"
    }
   },
   "source": [
    "## Debuggers\n",
    "\n",
    "* \"Debuggers\" are tools that let you advance through a program step by step, and examine the state of the program at each step\n",
    "* They are very powerful!\n",
    "* In some languages, they are hard to set up.\n",
    "* Luckily, Python is a very debugger-friendly language, and VSCode has Python debugging support built in."
   ]
  },
  {
   "cell_type": "markdown",
   "id": "6b8ad400",
   "metadata": {
    "slideshow": {
     "slide_type": "subslide"
    }
   },
   "source": [
    "The typical flow is:\n",
    "1. Set a \"breakpoint\" - a breakpoint is a place in the program where the debugger will pause when it is reached.\n",
    "1. Launch the debugger\n",
    "1. Once code execution reaches the breakpoint, examine the state of the program, \n",
    "or continue stepping through line by line."
   ]
  },
  {
   "cell_type": "markdown",
   "id": "ea35111e",
   "metadata": {
    "slideshow": {
     "slide_type": "subslide"
    }
   },
   "source": [
    "## Step-thru debugging - launching\n",
    "\n",
    "<img src='../images/debugging_launch.png' width=800>"
   ]
  },
  {
   "cell_type": "markdown",
   "id": "8ee0000b",
   "metadata": {
    "slideshow": {
     "slide_type": "subslide"
    }
   },
   "source": [
    "## Step-thru debugging - controlling\n",
    "\n",
    "<img src='../images/debugging_tour.png' width=800>"
   ]
  },
  {
   "cell_type": "markdown",
   "id": "2387e502",
   "metadata": {},
   "source": [
    "## Exercise: Debugging 101\n",
    "\n",
    "[GitHub Classroom -> Class exercises -> Open in GitHub Cospaces](https://classroom.github.com/a/M3gdSqkV)\n",
    "\n",
    "Open the file: `exercises/04/debugging_101/README.md`, follow the instructions.\n",
    "* If you don't see this folder: Open the file: `get_exercises.sh`, click the \"Run\" button at the top right of the editor.\n"
   ]
  }
 ],
 "metadata": {
  "celltoolbar": "Slideshow",
  "kernelspec": {
   "display_name": "Python 3 (ipykernel)",
   "language": "python",
   "name": "python3"
  },
  "language_info": {
   "codemirror_mode": {
    "name": "ipython",
    "version": 3
   },
   "file_extension": ".py",
   "mimetype": "text/x-python",
   "name": "python",
   "nbconvert_exporter": "python",
   "pygments_lexer": "ipython3",
   "version": "3.10.9"
  }
 },
 "nbformat": 4,
 "nbformat_minor": 5
}
