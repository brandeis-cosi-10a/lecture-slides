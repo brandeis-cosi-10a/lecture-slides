{
 "cells": [
  {
   "cell_type": "markdown",
   "id": "09eaaf0d",
   "metadata": {
    "slideshow": {
     "slide_type": "slide"
    }
   },
   "source": [
    "## Example: Let's write a (small) real program\n",
    "\n",
    "1. Prompt the user for their name, and respond with a greeting that references their name.\n",
    "2. Ask the user what their favorite animal is, and respond with a reference to the type of animal the entered."
   ]
  },
  {
   "cell_type": "code",
   "execution_count": null,
   "id": "8fa04ba0",
   "metadata": {
    "slideshow": {
     "slide_type": "subslide"
    },
    "tags": [
     "remove-output"
    ]
   },
   "outputs": [],
   "source": [
    "print(\"Name?\")\n",
    "name = input()\n",
    "print(\"Hi \" + name + \"!\")\n",
    "print(\"What is your favorite animal?\")\n",
    "animal = input()\n",
    "print(animal + \" is a great animal!\")"
   ]
  },
  {
   "cell_type": "markdown",
   "id": "d0c70080",
   "metadata": {
    "slideshow": {
     "slide_type": "slide"
    }
   },
   "source": [
    "## Let's add to it\n",
    "\n",
    "3. Ask the user how many pets they have.\n",
    "4. Print \"If you got a {animal}, you'd have {pets} pets!\"\n",
    "    * {animal} should be their favorite animal\n",
    "    * {pets} should be the number of pets then entered, plus 1"
   ]
  },
  {
   "cell_type": "code",
   "execution_count": null,
   "id": "55f231cc",
   "metadata": {
    "slideshow": {
     "slide_type": "subslide"
    },
    "tags": [
     "remove-output",
     "raises-exception"
    ]
   },
   "outputs": [],
   "source": [
    "print(\"Name?\")\n",
    "name = input()\n",
    "print(\"Hi \" + name + \"!\")\n",
    "print(\"What is your favorite animal?\")\n",
    "animal = input()\n",
    "print(animal + \" is a great animal!\")\n",
    "\n",
    "print(\"How many pets do you have?\")\n",
    "pet_count = input()\n",
    "print(\"If you got a \" + animal + \", you'd have \" + pet_count + 1 + \" pets!\")"
   ]
  },
  {
   "cell_type": "markdown",
   "id": "4553f1a9",
   "metadata": {
    "slideshow": {
     "slide_type": "subslide"
    }
   },
   "source": [
    "## Types!\n",
    "\n",
    "`TypeError: can only concatenate str (not \"int\") to str`\n",
    "\n",
    "`input()` always creates a string.\n",
    "\n",
    "If we want to perform integer operations on `pet_count`, we must convert it."
   ]
  },
  {
   "cell_type": "code",
   "execution_count": null,
   "id": "25936612",
   "metadata": {
    "tags": [
     "remove-output",
     "raises-exception"
    ]
   },
   "outputs": [],
   "source": [
    "print(\"Name?\")\n",
    "name = input()\n",
    "print(\"Hi \" + name + \"!\")\n",
    "print(\"What is your favorite animal?\")\n",
    "animal = input()\n",
    "print(animal + \" is a great animal!\")\n",
    "\n",
    "print(\"How many pets do you have?\")\n",
    "pet_count = input()\n",
    "print(\"If you got a \" + animal + \", you'd have \" + int(pet_count) + 1 + \" pets!\")"
   ]
  },
  {
   "cell_type": "markdown",
   "id": "80a961e4",
   "metadata": {},
   "source": [
    "## Types?!\n",
    "\n",
    "We converted `pet_count` to an integer.\n",
    "\n",
    "But now, order of operations says that we add `int(pet_count)` to the string `\"If you got a {animal}, you'd have \"`.\n",
    "\n",
    "You can't add strings and ints.\n",
    "\n",
    "We need to convert to an integer to do the math, then back to a string!"
   ]
  },
  {
   "cell_type": "code",
   "execution_count": null,
   "id": "2c287fc0",
   "metadata": {
    "tags": [
     "remove-output",
     "raises-exception"
    ]
   },
   "outputs": [],
   "source": [
    "print(\"Name?\")\n",
    "name = input()\n",
    "print(\"Hi \" + name + \"!\")\n",
    "print(\"What is your favorite animal?\")\n",
    "animal = input()\n",
    "print(animal + \" is a great animal!\")\n",
    "\n",
    "print(\"How many pets do you have?\")\n",
    "pet_count = input()\n",
    "print(\"If you got a \" + animal + \", you'd have \" + str(int(pet_count) + 1) + \" pets!\")"
   ]
  },
  {
   "cell_type": "markdown",
   "id": "fe701f0d",
   "metadata": {
    "slideshow": {
     "slide_type": "slide"
    }
   },
   "source": [
    "## More readable (maybe)"
   ]
  },
  {
   "cell_type": "code",
   "execution_count": null,
   "id": "26c83282",
   "metadata": {
    "tags": [
     "remove-output"
    ]
   },
   "outputs": [],
   "source": [
    "print(\"Name?\")\n",
    "name = input()\n",
    "print(\"Hi \" + name + \"!\")\n",
    "print(\"What is your favorite animal?\")\n",
    "animal = input()\n",
    "print(animal + \" is a great animal!\")\n",
    "\n",
    "print(\"How many pets do you have?\")\n",
    "pet_count = input()\n",
    "new_pet_count = str(int(pet_count) + 1)\n",
    "print(\"If you got a \" + animal + \", you'd have \" + new_pet_count + \" pets!\")"
   ]
  }
 ],
 "metadata": {
  "celltoolbar": "Tags",
  "kernelspec": {
   "display_name": "Python 3 (ipykernel)",
   "language": "python",
   "name": "python3"
  },
  "language_info": {
   "codemirror_mode": {
    "name": "ipython",
    "version": 3
   },
   "file_extension": ".py",
   "mimetype": "text/x-python",
   "name": "python",
   "nbconvert_exporter": "python",
   "pygments_lexer": "ipython3",
   "version": "3.10.9"
  }
 },
 "nbformat": 4,
 "nbformat_minor": 5
}
