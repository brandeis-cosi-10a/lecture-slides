{
 "cells": [
  {
   "cell_type": "markdown",
   "id": "6ba4e9d8",
   "metadata": {},
   "source": [
    "TODO: update there was an old lady assignment to take out default param requirement... it will probably come before this lecture"
   ]
  },
  {
   "cell_type": "markdown",
   "id": "a80466c9",
   "metadata": {
    "slideshow": {
     "slide_type": "slide"
    }
   },
   "source": [
    "## Default values\n",
    "\n",
    "Function parameters can have **default values**. A default value is used if no argument is passed for a parameter.\n",
    "\n",
    "Example:"
   ]
  },
  {
   "cell_type": "code",
   "execution_count": null,
   "id": "f1cb6d2f",
   "metadata": {},
   "outputs": [],
   "source": [
    "def greet(name = \"guest\"):\n",
    "    print(\"Hello, \" + name + \"!\")"
   ]
  },
  {
   "cell_type": "code",
   "execution_count": null,
   "id": "7b2b3c50",
   "metadata": {},
   "outputs": [],
   "source": [
    "greet()"
   ]
  },
  {
   "cell_type": "code",
   "execution_count": null,
   "id": "8c147cf0",
   "metadata": {},
   "outputs": [],
   "source": [
    "greet(\"Joe\")"
   ]
  },
  {
   "cell_type": "markdown",
   "id": "b2f9b46f",
   "metadata": {
    "slideshow": {
     "slide_type": "subslide"
    }
   },
   "source": [
    "## Overriding default values\n",
    "\n",
    "When we pass a value in for a defaulted parameter, we are **\"overriding\"** the default."
   ]
  },
  {
   "cell_type": "markdown",
   "id": "d805e7e1",
   "metadata": {
    "slideshow": {
     "slide_type": "subslide"
    }
   },
   "source": [
    "Here's another example. This one takes one required parameter (`name`), and one parameter with a default value (`invite_in`)."
   ]
  },
  {
   "cell_type": "code",
   "execution_count": null,
   "id": "29163040",
   "metadata": {},
   "outputs": [],
   "source": [
    "def greet(name, invite_in=False):\n",
    "    print(\"Hello, \" + name + \"!\")\n",
    "    if invite_in:\n",
    "        print(\"Come on in!\")\n",
    "    else:\n",
    "        print(\"Great to see you!\")"
   ]
  },
  {
   "cell_type": "code",
   "execution_count": null,
   "id": "00d0305f",
   "metadata": {
    "slideshow": {
     "slide_type": "subslide"
    }
   },
   "outputs": [],
   "source": [
    "greet(\"Joe\")"
   ]
  },
  {
   "cell_type": "code",
   "execution_count": null,
   "id": "cfe117bc",
   "metadata": {},
   "outputs": [],
   "source": [
    "# Override the default value for invite_in\n",
    "greet(\"Joe\", True)"
   ]
  },
  {
   "cell_type": "code",
   "execution_count": null,
   "id": "93600d1e",
   "metadata": {},
   "outputs": [],
   "source": [
    "greet(\"Joe\", False)"
   ]
  },
  {
   "cell_type": "markdown",
   "id": "92fb8527",
   "metadata": {
    "slideshow": {
     "slide_type": "subslide"
    }
   },
   "source": [
    "You must supply an argument for every non-default argument."
   ]
  },
  {
   "cell_type": "code",
   "execution_count": null,
   "id": "d2e71df9",
   "metadata": {
    "tags": [
     "raises-exception"
    ]
   },
   "outputs": [],
   "source": [
    "# Raises an error - name has no default, we must specify value for it\n",
    "greet()"
   ]
  },
  {
   "cell_type": "markdown",
   "id": "264c5d14",
   "metadata": {
    "slideshow": {
     "slide_type": "subslide"
    }
   },
   "source": [
    "Example 3. This one takes two parameters with default values."
   ]
  },
  {
   "cell_type": "code",
   "execution_count": null,
   "id": "e98dbd7d",
   "metadata": {},
   "outputs": [],
   "source": [
    "def greet(name=\"guest\", invite_in=False):\n",
    "    print(\"Hello, \" + name + \"!\")\n",
    "    if invite_in:\n",
    "        print(\"Come on in!\")\n",
    "    else:\n",
    "        print(\"Great to see you!\")"
   ]
  },
  {
   "cell_type": "code",
   "execution_count": null,
   "id": "5cf5090b",
   "metadata": {
    "slideshow": {
     "slide_type": "subslide"
    }
   },
   "outputs": [],
   "source": [
    "greet()"
   ]
  },
  {
   "cell_type": "code",
   "execution_count": null,
   "id": "2098f72a",
   "metadata": {},
   "outputs": [],
   "source": [
    "greet(\"Joe\")"
   ]
  },
  {
   "cell_type": "code",
   "execution_count": null,
   "id": "8200931e",
   "metadata": {},
   "outputs": [],
   "source": [
    "greet(\"Joe\", True)"
   ]
  },
  {
   "cell_type": "markdown",
   "id": "d9e41cdd",
   "metadata": {
    "slideshow": {
     "slide_type": "subslide"
    }
   },
   "source": [
    "But what if we want to provide `True` for the `invite_in` parameter, but leave the `name` as the default value?"
   ]
  },
  {
   "cell_type": "code",
   "execution_count": null,
   "id": "0527767a",
   "metadata": {},
   "outputs": [],
   "source": [
    "# Option 1: \n",
    "greet(\"guest\", True)"
   ]
  },
  {
   "cell_type": "markdown",
   "id": "d33c0c22",
   "metadata": {
    "slideshow": {
     "slide_type": "fragment"
    }
   },
   "source": [
    "This works, but could become a problem if we want to call a function with many defaulted parameters, but only override 1 of the defaults."
   ]
  },
  {
   "cell_type": "markdown",
   "id": "27d93c9f",
   "metadata": {
    "slideshow": {
     "slide_type": "slide"
    }
   },
   "source": [
    "##  Calling functions with named arguments\n",
    "\n",
    "You can specify the name of each argument when calling a function."
   ]
  },
  {
   "cell_type": "code",
   "execution_count": null,
   "id": "0328d56f",
   "metadata": {},
   "outputs": [],
   "source": [
    "greet(invite_in=True)"
   ]
  },
  {
   "cell_type": "markdown",
   "id": "c90a23bd",
   "metadata": {
    "slideshow": {
     "slide_type": "subslide"
    }
   },
   "source": [
    "So far, we've always called functions with **positional arguments**:"
   ]
  },
  {
   "cell_type": "code",
   "execution_count": null,
   "id": "664cc4e3",
   "metadata": {},
   "outputs": [],
   "source": [
    "greet(\"Joe\", True)"
   ]
  },
  {
   "cell_type": "markdown",
   "id": "d6fd6f62",
   "metadata": {
    "slideshow": {
     "slide_type": ""
    }
   },
   "source": [
    "Functions can also be called with **named arguments**:"
   ]
  },
  {
   "cell_type": "code",
   "execution_count": null,
   "id": "5c3ac30e",
   "metadata": {},
   "outputs": [],
   "source": [
    "greet(invite_in=True)"
   ]
  },
  {
   "cell_type": "code",
   "execution_count": null,
   "id": "5a9f887f",
   "metadata": {
    "slideshow": {
     "slide_type": "subslide"
    }
   },
   "outputs": [],
   "source": [
    "greet(invite_in=True)"
   ]
  },
  {
   "cell_type": "markdown",
   "id": "d248a027",
   "metadata": {
    "slideshow": {
     "slide_type": ""
    }
   },
   "source": [
    "This allows `name` to use the default value, and overrides the default value for `invite_in`.\n",
    "\n",
    "Named arguments can always be used, even when no parameters have default values."
   ]
  },
  {
   "cell_type": "markdown",
   "id": "a11382a3",
   "metadata": {
    "slideshow": {
     "slide_type": "subslide"
    }
   },
   "source": [
    "Another example:"
   ]
  },
  {
   "cell_type": "code",
   "execution_count": null,
   "id": "315cd726",
   "metadata": {
    "slideshow": {
     "slide_type": "-"
    }
   },
   "outputs": [],
   "source": [
    "def meet(name1, name2):\n",
    "    print(name1 + \", meet \" + name2 + \".\")"
   ]
  },
  {
   "cell_type": "code",
   "execution_count": null,
   "id": "9c671bb9",
   "metadata": {},
   "outputs": [],
   "source": [
    "meet(\"Bill\", \"Ted\")"
   ]
  },
  {
   "cell_type": "code",
   "execution_count": null,
   "id": "c7abc37a",
   "metadata": {},
   "outputs": [],
   "source": [
    "meet(\"Harry\", name2 = \"Hermione\")"
   ]
  },
  {
   "cell_type": "code",
   "execution_count": null,
   "id": "123b2a5d",
   "metadata": {},
   "outputs": [],
   "source": [
    "meet(name1 = \"Mario\", name2 = \"Luigi\")"
   ]
  },
  {
   "cell_type": "markdown",
   "id": "504844b4",
   "metadata": {
    "slideshow": {
     "slide_type": "subslide"
    }
   },
   "source": [
    "Named arguments can be passed in any order."
   ]
  },
  {
   "cell_type": "code",
   "execution_count": null,
   "id": "577512ef",
   "metadata": {},
   "outputs": [],
   "source": [
    "meet(name2 = \"your father\", name1 = \"Luke\")"
   ]
  },
  {
   "cell_type": "markdown",
   "id": "dfbb9153",
   "metadata": {
    "slideshow": {
     "slide_type": "subslide"
    }
   },
   "source": [
    "A more complicated example:"
   ]
  },
  {
   "cell_type": "code",
   "execution_count": null,
   "id": "5d883859",
   "metadata": {
    "slideshow": {
     "slide_type": ""
    }
   },
   "outputs": [],
   "source": [
    "def menu(breakfast, lunch = \"PB&J\", dinner = \"Ramen\", dessert = \"1 full pint of Ben & Jerry's\"):\n",
    "    print(\"Today's menu: \")\n",
    "    print(\"Breakfast: \" + breakfast)\n",
    "    print(\"Lunch: \" + lunch)\n",
    "    print(\"Dinner: \" + dinner)\n",
    "    print(\"Dessert: \" + dessert)"
   ]
  },
  {
   "cell_type": "code",
   "execution_count": null,
   "id": "c48f5cf3",
   "metadata": {},
   "outputs": [],
   "source": [
    "menu(\"Eggs\")"
   ]
  },
  {
   "cell_type": "code",
   "execution_count": null,
   "id": "018c2a80",
   "metadata": {
    "slideshow": {
     "slide_type": "subslide"
    }
   },
   "outputs": [],
   "source": [
    "def menu(breakfast, lunch = \"PB&J\", dinner = \"Ramen\", dessert = \"1 full pint of Ben & Jerry's\"):\n",
    "    print(\"Today's menu: \")\n",
    "    print(\"Breakfast: \" + breakfast)\n",
    "    print(\"Lunch: \" + lunch)\n",
    "    print(\"Dinner: \" + dinner)\n",
    "    print(\"Dessert: \" + dessert)"
   ]
  },
  {
   "cell_type": "code",
   "execution_count": null,
   "id": "e1bcc2e9",
   "metadata": {},
   "outputs": [],
   "source": [
    "menu(\"Cereal\", dinner = \"Lobster\")"
   ]
  },
  {
   "cell_type": "code",
   "execution_count": null,
   "id": "97480ffa",
   "metadata": {
    "slideshow": {
     "slide_type": "subslide"
    }
   },
   "outputs": [],
   "source": [
    "def menu(breakfast, lunch = \"PB&J\", dinner = \"Ramen\", dessert = \"1 full pint of Ben & Jerry's\"):\n",
    "    print(\"Today's menu: \")\n",
    "    print(\"Breakfast: \" + breakfast)\n",
    "    print(\"Lunch: \" + lunch)\n",
    "    print(\"Dinner: \" + dinner)\n",
    "    print(\"Dessert: \" + dessert)"
   ]
  },
  {
   "cell_type": "code",
   "execution_count": null,
   "id": "2d15c9db",
   "metadata": {},
   "outputs": [],
   "source": [
    "menu(\"Lox\", \"Tuna Sandwich\", \"Sushi\")"
   ]
  },
  {
   "cell_type": "markdown",
   "id": "cc4001c0",
   "metadata": {
    "slideshow": {
     "slide_type": "subslide"
    }
   },
   "source": [
    "You can mix named/unnamed arguments in one call, but all positional arguments must come before any named arguments."
   ]
  },
  {
   "cell_type": "code",
   "execution_count": null,
   "id": "314b394d",
   "metadata": {
    "slideshow": {
     "slide_type": "-"
    },
    "tags": [
     "raises-exception"
    ]
   },
   "outputs": [],
   "source": [
    "menu(\"Oatmeal\", dessert = \"Skittles\", \"Ham & Cheese\")"
   ]
  },
  {
   "cell_type": "markdown",
   "id": "62295063",
   "metadata": {},
   "source": [
    "## Exercise: Arrow Params\n",
    "\n",
    "[GitHub Classroom -> Class exercises -> Open in GitHub Cospaces](https://classroom.github.com/a/M3gdSqkV)\n",
    "\n",
    "Open the file: `exercises/04/arrow_params/README.md`, follow the instructions.\n",
    "* If you don't see this folder: Open the file: `get_exercises.sh`, click the \"Run\" button at the top right of the editor.\n"
   ]
  }
 ],
 "metadata": {
  "celltoolbar": "Slideshow",
  "kernelspec": {
   "display_name": "Python 3 (ipykernel)",
   "language": "python",
   "name": "python3"
  },
  "language_info": {
   "codemirror_mode": {
    "name": "ipython",
    "version": 3
   },
   "file_extension": ".py",
   "mimetype": "text/x-python",
   "name": "python",
   "nbconvert_exporter": "python",
   "pygments_lexer": "ipython3",
   "version": "3.10.9"
  }
 },
 "nbformat": 4,
 "nbformat_minor": 5
}
