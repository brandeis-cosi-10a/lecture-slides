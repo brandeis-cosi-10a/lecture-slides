{
 "cells": [
  {
   "cell_type": "markdown",
   "id": "571b90f0",
   "metadata": {
    "slideshow": {
     "slide_type": "slide"
    }
   },
   "source": [
    "# Example: Lucky Sevens\n",
    "\n",
    "Write a function that generates random numbers between 1 and 10. Stop after 10 rolls, or when a 7 is rolled, whichever comes first. Return `True` if a 7 was rolled, or `False` if the roll limit is reached.\n",
    "\n"
   ]
  },
  {
   "cell_type": "code",
   "execution_count": null,
   "id": "c085e1fa",
   "metadata": {
    "execution": {
     "iopub.execute_input": "2023-09-30T20:43:10.943551Z",
     "iopub.status.busy": "2023-09-30T20:43:10.943262Z",
     "iopub.status.idle": "2023-09-30T20:43:10.948608Z",
     "shell.execute_reply": "2023-09-30T20:43:10.947128Z"
    },
    "slideshow": {
     "slide_type": "fragment"
    },
    "tags": [
     "remove-output"
    ]
   },
   "outputs": [],
   "source": [
    "import random\n",
    "def roll():\n",
    "    for i in range(10):\n",
    "        roll = random.randint(1, 10)\n",
    "        if roll == 7:\n",
    "            # ???\n",
    "        "
   ]
  },
  {
   "cell_type": "markdown",
   "id": "2014985b",
   "metadata": {
    "slideshow": {
     "slide_type": "subslide"
    }
   },
   "source": [
    "## Side note: generating random numbers\n",
    "\n",
    "You can generate random integers with the function:\n",
    "\n",
    "`random.randint(a, b)`\n",
    "* This returns a (pseudo)random integer N such that `a <= N <= b`. \n",
    "* In order to use this, you must add `import random` at the top of your program. \n",
    "* This makes the random **module** available for use.\n",
    "  * A **module** is a collection of related functions. \n",
    "  * Python provides many useful built-in modules. \n",
    "  * You can also find and install modules that other people have written. \n",
    "  * We'll touch on modules more as the term goes on.\n",
    "\n",
    "[random.randint() function reference](https://docs.python.org/3/library/random.html#random.randint)"
   ]
  },
  {
   "cell_type": "markdown",
   "id": "e7305d1f",
   "metadata": {
    "slideshow": {
     "slide_type": "subslide"
    }
   },
   "source": [
    "First attempt... is it correct?"
   ]
  },
  {
   "cell_type": "code",
   "execution_count": 11,
   "id": "fbddd3bc",
   "metadata": {
    "execution": {
     "iopub.execute_input": "2023-09-30T20:43:10.952112Z",
     "iopub.status.busy": "2023-09-30T20:43:10.951832Z",
     "iopub.status.idle": "2023-09-30T20:43:10.959207Z",
     "shell.execute_reply": "2023-09-30T20:43:10.958321Z"
    },
    "slideshow": {
     "slide_type": "-"
    }
   },
   "outputs": [
    {
     "data": {
      "text/plain": [
       "False"
      ]
     },
     "execution_count": 11,
     "metadata": {},
     "output_type": "execute_result"
    }
   ],
   "source": [
    "import random\n",
    "def roll():\n",
    "    for i in range(10):\n",
    "        roll = random.randint(1, 10)\n",
    "        if roll == 7:\n",
    "            return True\n",
    "        else: \n",
    "            return False\n",
    "roll()"
   ]
  },
  {
   "cell_type": "markdown",
   "id": "d67f4a94",
   "metadata": {
    "slideshow": {
     "slide_type": "subslide"
    }
   },
   "source": [
    "Seems suspicious... we almost always get `False`. \n",
    "\n",
    "The probability of at least one `7` in 10 rolls is: `1 - (90% ^ 10)`, or about 65%.  \n",
    "\n",
    "It seems like we should see `True` more often, but with small samples of random numbers, it's hard to tell for sure - maybe we're just unlucky.\n",
    "\n",
    "Can we test it?"
   ]
  },
  {
   "cell_type": "markdown",
   "id": "2628cdb4",
   "metadata": {
    "slideshow": {
     "slide_type": "subslide"
    }
   },
   "source": [
    "\n",
    "## Can we test it?\n",
    "\n",
    "A good way to test random number distribution is to run the code thousands of times, and see if the results are close to what we expect.\n",
    "\n",
    "That's tedious to do by hand... but luckily we have code!"
   ]
  },
  {
   "cell_type": "code",
   "execution_count": 13,
   "id": "e047ea29",
   "metadata": {
    "execution": {
     "iopub.execute_input": "2023-09-30T20:43:10.963130Z",
     "iopub.status.busy": "2023-09-30T20:43:10.962769Z",
     "iopub.status.idle": "2023-09-30T20:43:10.980884Z",
     "shell.execute_reply": "2023-09-30T20:43:10.980047Z"
    },
    "scrolled": true,
    "slideshow": {
     "slide_type": ""
    }
   },
   "outputs": [
    {
     "name": "stdout",
     "output_type": "stream",
     "text": [
      "Rolled a 7: 1025 times\n"
     ]
    }
   ],
   "source": [
    "count = 0\n",
    "\n",
    "for i in range(10000):\n",
    "    if roll():\n",
    "        count = count + 1\n",
    "\n",
    "print(\"Rolled a 7: \" + str(count) + \" times\")"
   ]
  },
  {
   "cell_type": "markdown",
   "id": "c3048df8",
   "metadata": {
    "slideshow": {
     "slide_type": "subslide"
    }
   },
   "source": [
    "Some quick improvements so we can see how far off we are:"
   ]
  },
  {
   "cell_type": "code",
   "execution_count": 15,
   "id": "77c91261",
   "metadata": {
    "execution": {
     "iopub.execute_input": "2023-09-30T20:43:10.963130Z",
     "iopub.status.busy": "2023-09-30T20:43:10.962769Z",
     "iopub.status.idle": "2023-09-30T20:43:10.980884Z",
     "shell.execute_reply": "2023-09-30T20:43:10.980047Z"
    },
    "slideshow": {
     "slide_type": ""
    }
   },
   "outputs": [
    {
     "name": "stdout",
     "output_type": "stream",
     "text": [
      "Rolled a 7 1006/10000 times\n",
      "Expected number of 7s is ~6513\n"
     ]
    }
   ],
   "source": [
    "count = 0\n",
    "iterations = 10000\n",
    "expected_sevens = (1 - (0.9 ** 10)) * iterations\n",
    "\n",
    "for i in range(iterations):\n",
    "    if roll():\n",
    "        count = count + 1\n",
    "\n",
    "print(\"Rolled a 7 \" + str(count) + \"/\" + str(iterations) + \" times\")\n",
    "print(\"Expected number of 7s is ~\" + str(int(expected_sevens)))"
   ]
  },
  {
   "cell_type": "markdown",
   "id": "982cce1f",
   "metadata": {
    "slideshow": {
     "slide_type": "subslide"
    }
   },
   "source": [
    "The counts are way off... what's the logic error?"
   ]
  },
  {
   "cell_type": "code",
   "execution_count": 11,
   "id": "722fdfab",
   "metadata": {
    "execution": {
     "iopub.execute_input": "2023-09-30T20:43:10.952112Z",
     "iopub.status.busy": "2023-09-30T20:43:10.951832Z",
     "iopub.status.idle": "2023-09-30T20:43:10.959207Z",
     "shell.execute_reply": "2023-09-30T20:43:10.958321Z"
    },
    "slideshow": {
     "slide_type": "-"
    }
   },
   "outputs": [
    {
     "data": {
      "text/plain": [
       "False"
      ]
     },
     "execution_count": 11,
     "metadata": {},
     "output_type": "execute_result"
    }
   ],
   "source": [
    "import random\n",
    "def roll():\n",
    "    for i in range(10):\n",
    "        roll = random.randint(1, 10)\n",
    "        if roll == 7:\n",
    "            return True\n",
    "        else: \n",
    "            return False\n",
    "roll()"
   ]
  },
  {
   "cell_type": "markdown",
   "id": "ff1253cf",
   "metadata": {
    "slideshow": {
     "slide_type": "fragment"
    }
   },
   "source": [
    "The code returns after the first roll every time, 7 or not!"
   ]
  },
  {
   "cell_type": "markdown",
   "id": "a8114cd8",
   "metadata": {
    "slideshow": {
     "slide_type": "subslide"
    }
   },
   "source": [
    "A corrected version:"
   ]
  },
  {
   "cell_type": "code",
   "execution_count": 16,
   "id": "1a00cd3c",
   "metadata": {
    "execution": {
     "iopub.execute_input": "2023-09-30T20:43:10.985201Z",
     "iopub.status.busy": "2023-09-30T20:43:10.984930Z",
     "iopub.status.idle": "2023-09-30T20:43:10.988985Z",
     "shell.execute_reply": "2023-09-30T20:43:10.988219Z"
    },
    "slideshow": {
     "slide_type": ""
    }
   },
   "outputs": [],
   "source": [
    "import random\n",
    "def roll():\n",
    "    for i in range(10):\n",
    "        roll = random.randint(1, 10)\n",
    "        if roll == 7:\n",
    "            return True\n",
    "    return False"
   ]
  },
  {
   "cell_type": "code",
   "execution_count": 17,
   "id": "cb9083ab",
   "metadata": {
    "execution": {
     "iopub.execute_input": "2023-09-30T20:43:10.992712Z",
     "iopub.status.busy": "2023-09-30T20:43:10.992402Z",
     "iopub.status.idle": "2023-09-30T20:43:11.048213Z",
     "shell.execute_reply": "2023-09-30T20:43:11.047422Z"
    },
    "slideshow": {
     "slide_type": "subslide"
    }
   },
   "outputs": [
    {
     "name": "stdout",
     "output_type": "stream",
     "text": [
      "Rolled a 7 6453/10000 times\n",
      "Expected number of 7s is ~6513\n"
     ]
    }
   ],
   "source": [
    "count = 0\n",
    "iterations = 10000\n",
    "expected_sevens = (1 - (0.9 ** 10)) * iterations\n",
    "\n",
    "for i in range(0, iterations):\n",
    "    if roll() == True:\n",
    "        count = count + 1\n",
    "\n",
    "print(\"Rolled a 7 \" + str(count) + \"/\" + str(iterations) + \" times\")\n",
    "print(\"Expected number of 7s is ~\" + str(int(expected_sevens)))"
   ]
  },
  {
   "cell_type": "markdown",
   "id": "f057b0b7",
   "metadata": {},
   "source": [
    "That looks right!"
   ]
  },
  {
   "cell_type": "markdown",
   "id": "93e3abaf",
   "metadata": {
    "slideshow": {
     "slide_type": "subslide"
    }
   },
   "source": [
    "# Controlling loops\n",
    "\n",
    "We looked at `break` and `continue`. `return` is another way to control a loop if it's inside a function.\n",
    "\n",
    "But, as we just saw, using `return` with loops can be tricky.\n",
    "\n",
    "Be sure to think about whether it's ok to skip the rest of the loop iterations and the rest of the function when `return`ing from a loop."
   ]
  }
 ],
 "metadata": {
  "celltoolbar": "Slideshow",
  "kernelspec": {
   "display_name": "Python 3 (ipykernel)",
   "language": "python",
   "name": "python3"
  },
  "language_info": {
   "codemirror_mode": {
    "name": "ipython",
    "version": 3
   },
   "file_extension": ".py",
   "mimetype": "text/x-python",
   "name": "python",
   "nbconvert_exporter": "python",
   "pygments_lexer": "ipython3",
   "version": "3.10.9"
  }
 },
 "nbformat": 4,
 "nbformat_minor": 5
}
