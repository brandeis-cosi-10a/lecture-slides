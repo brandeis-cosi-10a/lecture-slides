{
 "cells": [
  {
   "cell_type": "markdown",
   "id": "86508fe8",
   "metadata": {
    "slideshow": {
     "slide_type": "slide"
    }
   },
   "source": [
    "## List comprehensions\n",
    "\n",
    "Python provides a shorthand for transforming and filtering lists."
   ]
  },
  {
   "cell_type": "code",
   "execution_count": null,
   "id": "ea62553c",
   "metadata": {},
   "outputs": [],
   "source": [
    "fruits = [\"apple\", \"banana\", \"strawberry\", \"plum\"]\n",
    "new_fruits = [x.upper() for x in fruits]\n",
    "print(new_fruits)"
   ]
  },
  {
   "cell_type": "code",
   "execution_count": null,
   "id": "a8d8a6da",
   "metadata": {},
   "outputs": [],
   "source": [
    "short_fruits = [x for x in fruits if len(x) < 6]\n",
    "print(short_fruits)"
   ]
  },
  {
   "cell_type": "markdown",
   "id": "580192d6",
   "metadata": {
    "slideshow": {
     "slide_type": "subslide"
    }
   },
   "source": [
    "A list comprehension creates a new list from an existing iterable.\n",
    "\n",
    "The full syntax is:\n",
    "\n",
    "`[<expression> for <item> in <iterable>]`  \n",
    "or  \n",
    "`[<expression> for <item> in <iterable> if <boolean expression>]`\n",
    "\n",
    "Let's compare some examples to the equivalent using a `for` loop."
   ]
  },
  {
   "cell_type": "code",
   "execution_count": null,
   "id": "a72324c4",
   "metadata": {
    "slideshow": {
     "slide_type": "subslide"
    }
   },
   "outputs": [],
   "source": [
    "fruits = [\"apple\", \"banana\", \"strawberry\", \"plum\"]\n",
    "new_fruits = [x.upper() for x in fruits]\n",
    "print(new_fruits)"
   ]
  },
  {
   "cell_type": "code",
   "execution_count": null,
   "id": "7bf3e1c6",
   "metadata": {},
   "outputs": [],
   "source": [
    "# without list comprehensions\n",
    "fruits = [\"apple\", \"banana\", \"strawberry\", \"plum\"]\n",
    "new_fruits = []\n",
    "for f in fruits:\n",
    "    new_fruits.append(f.upper())\n",
    "print(new_fruits)"
   ]
  },
  {
   "cell_type": "code",
   "execution_count": null,
   "id": "e2781fae",
   "metadata": {
    "slideshow": {
     "slide_type": "subslide"
    }
   },
   "outputs": [],
   "source": [
    "fruits = [\"apple\", \"banana\", \"strawberry\", \"plum\"]\n",
    "short_fruits = [fruit for fruit in fruits if len(fruit) < 6]\n",
    "print(short_fruits)"
   ]
  },
  {
   "cell_type": "code",
   "execution_count": null,
   "id": "76e5d296",
   "metadata": {},
   "outputs": [],
   "source": [
    "# without list comprehensions\n",
    "fruits = [\"apple\", \"banana\", \"strawberry\", \"plum\"]\n",
    "short_fruits = []\n",
    "for f in fruits:\n",
    "    if len(f) < 6:\n",
    "        short_fruits.append(f)\n",
    "print(short_fruits)"
   ]
  },
  {
   "cell_type": "markdown",
   "id": "2eca51cd",
   "metadata": {
    "slideshow": {
     "slide_type": "subslide"
    }
   },
   "source": [
    "## Another example\n",
    "\n",
    "Let's apply sales tax to a list of prices"
   ]
  },
  {
   "cell_type": "code",
   "execution_count": null,
   "id": "4e537679",
   "metadata": {
    "slideshow": {
     "slide_type": "-"
    }
   },
   "outputs": [],
   "source": [
    "def apply_sales_tax(amt):\n",
    "    return amt * 1.06\n",
    "\n",
    "prices = [10.5, 5, 100.98, 59.99]\n",
    "total_prices = [apply_sales_tax(x) for x in prices]\n",
    "print(total_prices)"
   ]
  },
  {
   "cell_type": "code",
   "execution_count": null,
   "id": "547643ce",
   "metadata": {},
   "outputs": [],
   "source": [
    "# without list comprehensions\n",
    "def apply_sales_tax(amt):\n",
    "    return amt * 1.06\n",
    "\n",
    "prices = [10.5, 5, 100.98, 59.99]\n",
    "total_prices = []\n",
    "for p in prices:\n",
    "    total_prices.append(apply_sales_tax(p))\n",
    "print(total_prices)"
   ]
  },
  {
   "cell_type": "markdown",
   "id": "095d1c12",
   "metadata": {
    "slideshow": {
     "slide_type": "subslide"
    }
   },
   "source": [
    "We could also handle the formatting with a comprehension:"
   ]
  },
  {
   "cell_type": "code",
   "execution_count": null,
   "id": "92235c6a",
   "metadata": {
    "slideshow": {
     "slide_type": "-"
    }
   },
   "outputs": [],
   "source": [
    "def apply_sales_tax(amt):\n",
    "    return amt * 1.06\n",
    "\n",
    "prices = [10.5, 5, 100.98, 59.99]\n",
    "total_prices = [apply_sales_tax(x) for x in prices]\n",
    "print([f\"${x:.2f}\" for x in total_prices])"
   ]
  },
  {
   "cell_type": "code",
   "execution_count": null,
   "id": "bb37ca28",
   "metadata": {},
   "outputs": [],
   "source": [
    "# without list comprehensions\n",
    "def apply_sales_tax(amt):\n",
    "    return amt * 1.06\n",
    "\n",
    "prices = [10.5, 5, 100.98, 59.99]\n",
    "total_prices = []\n",
    "for p in prices:\n",
    "    total_price = apply_sales_tax(p)\n",
    "    total_prices.append(f\"${total_price:.2f}\")\n",
    "print(total_prices)"
   ]
  },
  {
   "cell_type": "markdown",
   "id": "2afa2edf",
   "metadata": {
    "slideshow": {
     "slide_type": "subslide"
    }
   },
   "source": [
    "Or, we could collapse it even more with an extra function and one comprehension:"
   ]
  },
  {
   "cell_type": "code",
   "execution_count": null,
   "id": "6fe88608",
   "metadata": {
    "slideshow": {
     "slide_type": "-"
    }
   },
   "outputs": [],
   "source": [
    "def apply_sales_tax(amt):\n",
    "    return amt * 1.06\n",
    "\n",
    "def format_price(p):\n",
    "    return f\"${p:.2f}\"\n",
    "\n",
    "prices = [10.5, 5, 100.98, 59.99]\n",
    "print([format_price(apply_sales_tax(x)) for x in prices])"
   ]
  },
  {
   "cell_type": "code",
   "execution_count": null,
   "id": "b7c6213f",
   "metadata": {},
   "outputs": [],
   "source": [
    "# without list comprehensions\n",
    "def apply_sales_tax(amt):\n",
    "    return amt * 1.06\n",
    "\n",
    "prices = [10.5, 5, 100.98, 59.99]\n",
    "total_prices = []\n",
    "for p in prices:\n",
    "    total_price = apply_sales_tax(p)\n",
    "    total_prices.append(f\"${total_price:.2f}\")\n",
    "print(total_prices)"
   ]
  },
  {
   "cell_type": "markdown",
   "id": "3c0a5fa4",
   "metadata": {
    "slideshow": {
     "slide_type": "subslide"
    }
   },
   "source": [
    "You can filter and transform in one step. Let's only show the big purchases:"
   ]
  },
  {
   "cell_type": "code",
   "execution_count": null,
   "id": "0e500e0d",
   "metadata": {
    "slideshow": {
     "slide_type": "-"
    }
   },
   "outputs": [],
   "source": [
    "def apply_sales_tax(amt):\n",
    "    return amt * 1.06\n",
    "\n",
    "def format_price(p):\n",
    "    return f\"${p:.2f}\"\n",
    "\n",
    "prices = [10.5, 5, 100.98, 59.99]\n",
    "print([format_price(apply_sales_tax(x)) for x in prices if x > 50])"
   ]
  },
  {
   "cell_type": "code",
   "execution_count": null,
   "id": "8058cafa",
   "metadata": {},
   "outputs": [],
   "source": [
    "# without list comprehensions\n",
    "def apply_sales_tax(amt):\n",
    "    return amt * 1.06\n",
    "\n",
    "prices = [10.5, 5, 100.98, 59.99]\n",
    "total_prices = []\n",
    "for p in prices:\n",
    "    if p > 50:\n",
    "        total_price = apply_sales_tax(p)\n",
    "        total_prices.append(f\"${total_price:.2f}\")\n",
    "print(total_prices)"
   ]
  },
  {
   "cell_type": "markdown",
   "id": "e654ca4b",
   "metadata": {
    "slideshow": {
     "slide_type": "subslide"
    }
   },
   "source": [
    "## Syntactic \"sugar\"\n",
    "\n",
    "List comprehensions are never necessary - you can always write equivalent code with a for loop and conditional.\n",
    "\n",
    "It's important to recognize the syntax, because it's commonly used in Python. \n",
    "\n",
    "Sometimes, they make code more readable, sometimes less. Try them out, see if you like them!"
   ]
  }
 ],
 "metadata": {
  "kernelspec": {
   "display_name": "Python 3 (ipykernel)",
   "language": "python",
   "name": "python3"
  },
  "language_info": {
   "codemirror_mode": {
    "name": "ipython",
    "version": 3
   },
   "file_extension": ".py",
   "mimetype": "text/x-python",
   "name": "python",
   "nbconvert_exporter": "python",
   "pygments_lexer": "ipython3",
   "version": "3.10.9"
  }
 },
 "nbformat": 4,
 "nbformat_minor": 5
}
