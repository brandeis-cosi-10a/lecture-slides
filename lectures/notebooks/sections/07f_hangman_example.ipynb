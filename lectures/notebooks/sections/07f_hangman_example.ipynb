{
 "cells": [
  {
   "cell_type": "markdown",
   "id": "93ace8be",
   "metadata": {
    "slideshow": {
     "slide_type": "slide"
    }
   },
   "source": [
    "# Exercise\n",
    "\n",
    "Write a word guessing game where the user guesses one letter at a time to try to guess a secret word. Show the user's progress between each guess."
   ]
  },
  {
   "cell_type": "markdown",
   "id": "de98ffd6",
   "metadata": {
    "slideshow": {
     "slide_type": "subslide"
    }
   },
   "source": [
    "## Functional decomposition\n",
    "\n",
    "This time, let's write the code from the outside in:"
   ]
  },
  {
   "cell_type": "code",
   "execution_count": null,
   "id": "35102242",
   "metadata": {
    "execution": {
     "iopub.execute_input": "2023-10-08T02:57:39.059448Z",
     "iopub.status.busy": "2023-10-08T02:57:39.059066Z",
     "iopub.status.idle": "2023-10-08T02:57:39.064971Z",
     "shell.execute_reply": "2023-10-08T02:57:39.063075Z"
    }
   },
   "outputs": [],
   "source": [
    "def play_game():\n",
    "    word = \"secret\"\n",
    "    progress = [\"_\", \"_\", \"_\", \"_\", \"_\", \"_\"]\n",
    "    while True:\n",
    "        display_progress(progress)\n",
    "        guess = get_guess()\n",
    "        process_guess(word, progress)"
   ]
  },
  {
   "cell_type": "markdown",
   "id": "a8565b79",
   "metadata": {
    "slideshow": {
     "slide_type": "fragment"
    }
   },
   "source": [
    "We've written the outer code, and now we have an idea of which helper functions will be most useful."
   ]
  },
  {
   "cell_type": "code",
   "execution_count": null,
   "id": "e0166772",
   "metadata": {
    "execution": {
     "iopub.execute_input": "2023-10-08T02:57:39.074364Z",
     "iopub.status.busy": "2023-10-08T02:57:39.073861Z",
     "iopub.status.idle": "2023-10-08T02:57:39.079162Z",
     "shell.execute_reply": "2023-10-08T02:57:39.078249Z"
    },
    "slideshow": {
     "slide_type": "subslide"
    }
   },
   "outputs": [],
   "source": [
    "def display_progress(progress):\n",
    "    for p in progress:\n",
    "        print(p, end=\" \")\n",
    "       "
   ]
  },
  {
   "cell_type": "code",
   "execution_count": null,
   "id": "154a6737",
   "metadata": {
    "execution": {
     "iopub.execute_input": "2023-10-08T02:57:39.083527Z",
     "iopub.status.busy": "2023-10-08T02:57:39.083138Z",
     "iopub.status.idle": "2023-10-08T02:57:39.088503Z",
     "shell.execute_reply": "2023-10-08T02:57:39.087569Z"
    }
   },
   "outputs": [],
   "source": [
    "display_progress([\"_\", \"a\", \"b\", \"_\"])"
   ]
  },
  {
   "cell_type": "markdown",
   "id": "eeb5f4be",
   "metadata": {
    "slideshow": {
     "slide_type": "subslide"
    }
   },
   "source": [
    "Another way, using the string method `join` that we just saw:"
   ]
  },
  {
   "cell_type": "code",
   "execution_count": null,
   "id": "ecbe1d8a",
   "metadata": {
    "execution": {
     "iopub.execute_input": "2023-10-08T02:57:39.093565Z",
     "iopub.status.busy": "2023-10-08T02:57:39.093160Z",
     "iopub.status.idle": "2023-10-08T02:57:39.097676Z",
     "shell.execute_reply": "2023-10-08T02:57:39.096749Z"
    }
   },
   "outputs": [],
   "source": [
    "def display_progress(progress):\n",
    "    print(\" \".join(progress))"
   ]
  },
  {
   "cell_type": "code",
   "execution_count": null,
   "id": "6b758b99",
   "metadata": {
    "execution": {
     "iopub.execute_input": "2023-10-08T02:57:39.103870Z",
     "iopub.status.busy": "2023-10-08T02:57:39.102334Z",
     "iopub.status.idle": "2023-10-08T02:57:39.111313Z",
     "shell.execute_reply": "2023-10-08T02:57:39.110267Z"
    }
   },
   "outputs": [],
   "source": [
    "display_progress([\"_\", \"a\", \"b\", \"_\"])"
   ]
  },
  {
   "cell_type": "code",
   "execution_count": null,
   "id": "5d61767e",
   "metadata": {
    "execution": {
     "iopub.execute_input": "2023-10-08T02:57:39.116366Z",
     "iopub.status.busy": "2023-10-08T02:57:39.115456Z",
     "iopub.status.idle": "2023-10-08T02:57:39.127465Z",
     "shell.execute_reply": "2023-10-08T02:57:39.119935Z"
    },
    "slideshow": {
     "slide_type": "subslide"
    }
   },
   "outputs": [],
   "source": [
    "def play_game():\n",
    "    word = \"secret\"\n",
    "    progress = [\"_\", \"_\", \"_\", \"_\", \"_\", \"_\"]\n",
    "    while True:\n",
    "        display_progress(progress)\n",
    "        guess = get_guess()\n",
    "        process_guess(word, progress)"
   ]
  },
  {
   "cell_type": "markdown",
   "id": "370c94b1",
   "metadata": {},
   "source": [
    "Next up, `get_guess()`..."
   ]
  },
  {
   "cell_type": "code",
   "execution_count": null,
   "id": "062160bc",
   "metadata": {
    "execution": {
     "iopub.execute_input": "2023-10-08T02:57:39.134620Z",
     "iopub.status.busy": "2023-10-08T02:57:39.134206Z",
     "iopub.status.idle": "2023-10-08T02:57:39.139057Z",
     "shell.execute_reply": "2023-10-08T02:57:39.137877Z"
    },
    "slideshow": {
     "slide_type": "subslide"
    }
   },
   "outputs": [],
   "source": [
    "def get_guess():\n",
    "    return input(\"Guess a letter! \")"
   ]
  },
  {
   "cell_type": "code",
   "execution_count": null,
   "id": "0d25c151",
   "metadata": {
    "execution": {
     "iopub.execute_input": "2023-10-08T02:57:39.145001Z",
     "iopub.status.busy": "2023-10-08T02:57:39.144103Z",
     "iopub.status.idle": "2023-10-08T02:57:39.316923Z",
     "shell.execute_reply": "2023-10-08T02:57:39.315474Z"
    },
    "tags": [
     "remove-output"
    ]
   },
   "outputs": [],
   "source": [
    "get_guess()"
   ]
  },
  {
   "cell_type": "code",
   "execution_count": null,
   "id": "6db3658d",
   "metadata": {
    "execution": {
     "iopub.execute_input": "2023-10-08T02:57:39.328491Z",
     "iopub.status.busy": "2023-10-08T02:57:39.327865Z",
     "iopub.status.idle": "2023-10-08T02:57:39.336498Z",
     "shell.execute_reply": "2023-10-08T02:57:39.335075Z"
    },
    "slideshow": {
     "slide_type": "subslide"
    }
   },
   "outputs": [],
   "source": [
    "def get_guess():\n",
    "    while True:\n",
    "        guess = input(\"Guess a letter! \")\n",
    "        if len(guess) == 1 and guess.isalpha():\n",
    "            return guess\n",
    "        else:\n",
    "            print(\"Invalid guess, please guess a single letter\")\n",
    "            "
   ]
  },
  {
   "cell_type": "code",
   "execution_count": null,
   "id": "f2af4236",
   "metadata": {
    "execution": {
     "iopub.execute_input": "2023-10-08T02:57:39.345842Z",
     "iopub.status.busy": "2023-10-08T02:57:39.345136Z",
     "iopub.status.idle": "2023-10-08T02:57:39.400084Z",
     "shell.execute_reply": "2023-10-08T02:57:39.399072Z"
    },
    "tags": [
     "remove-output"
    ]
   },
   "outputs": [],
   "source": [
    "get_guess()"
   ]
  },
  {
   "cell_type": "code",
   "execution_count": null,
   "id": "0fe54840",
   "metadata": {
    "execution": {
     "iopub.execute_input": "2023-10-08T02:57:39.405889Z",
     "iopub.status.busy": "2023-10-08T02:57:39.405059Z",
     "iopub.status.idle": "2023-10-08T02:57:39.412772Z",
     "shell.execute_reply": "2023-10-08T02:57:39.411600Z"
    },
    "slideshow": {
     "slide_type": "subslide"
    }
   },
   "outputs": [],
   "source": [
    "def play_game():\n",
    "    word = \"secret\"\n",
    "    progress = [\"_\", \"_\", \"_\", \"_\", \"_\", \"_\"]\n",
    "    while True:\n",
    "        display_progress(progress)\n",
    "        guess = get_guess()\n",
    "        process_guess(guess, word, progress)"
   ]
  },
  {
   "cell_type": "markdown",
   "id": "6b684931",
   "metadata": {},
   "source": [
    "Next up, `process_guess()`, the trickiest part."
   ]
  },
  {
   "cell_type": "markdown",
   "id": "a28a25e2",
   "metadata": {
    "slideshow": {
     "slide_type": "subslide"
    }
   },
   "source": [
    "Walk through each letter of the secret word. If our guess matches that letter, then put that letter into `progress` at the correct index."
   ]
  },
  {
   "cell_type": "code",
   "execution_count": null,
   "id": "c3acab79",
   "metadata": {
    "execution": {
     "iopub.execute_input": "2023-10-08T02:57:39.419138Z",
     "iopub.status.busy": "2023-10-08T02:57:39.418538Z",
     "iopub.status.idle": "2023-10-08T02:57:39.426070Z",
     "shell.execute_reply": "2023-10-08T02:57:39.424735Z"
    },
    "slideshow": {
     "slide_type": "-"
    }
   },
   "outputs": [],
   "source": [
    "def process_guess(guess, word, progress):\n",
    "    for index in range(len(word)):\n",
    "        if guess == word[index]:\n",
    "            progress[index] = guess    "
   ]
  },
  {
   "cell_type": "code",
   "execution_count": null,
   "id": "d390d385",
   "metadata": {
    "execution": {
     "iopub.execute_input": "2023-10-08T02:57:39.433005Z",
     "iopub.status.busy": "2023-10-08T02:57:39.432596Z",
     "iopub.status.idle": "2023-10-08T02:57:39.437672Z",
     "shell.execute_reply": "2023-10-08T02:57:39.436769Z"
    }
   },
   "outputs": [],
   "source": [
    "progress = [\"s\", \"_\", \"_\", \"r\", \"_\", \"t\"]\n",
    "process_guess('e', 'secret', progress)\n",
    "print(progress)"
   ]
  },
  {
   "cell_type": "markdown",
   "id": "b9f552c4",
   "metadata": {
    "slideshow": {
     "slide_type": "subslide"
    }
   },
   "source": [
    "Each piece seems to work on its own, lets test it all together"
   ]
  },
  {
   "cell_type": "code",
   "execution_count": null,
   "id": "24b3903f",
   "metadata": {
    "execution": {
     "iopub.execute_input": "2023-10-08T02:57:39.443959Z",
     "iopub.status.busy": "2023-10-08T02:57:39.443431Z",
     "iopub.status.idle": "2023-10-08T02:57:39.449230Z",
     "shell.execute_reply": "2023-10-08T02:57:39.448107Z"
    },
    "slideshow": {
     "slide_type": "-"
    }
   },
   "outputs": [],
   "source": [
    "def play_game():\n",
    "    word = \"secret\"\n",
    "    progress = [\"_\", \"_\", \"_\", \"_\", \"_\", \"_\"]\n",
    "    while True:\n",
    "        display_progress(progress)\n",
    "        guess = get_guess()\n",
    "        process_guess(guess, word, progress)"
   ]
  },
  {
   "cell_type": "code",
   "execution_count": null,
   "id": "e5c84167",
   "metadata": {
    "execution": {
     "iopub.execute_input": "2023-10-08T02:57:39.456590Z",
     "iopub.status.busy": "2023-10-08T02:57:39.456094Z",
     "iopub.status.idle": "2023-10-08T02:57:39.513994Z",
     "shell.execute_reply": "2023-10-08T02:57:39.513012Z"
    },
    "tags": [
     "remove-output"
    ]
   },
   "outputs": [],
   "source": [
    "play_game()"
   ]
  },
  {
   "cell_type": "markdown",
   "id": "cada8b77",
   "metadata": {
    "slideshow": {
     "slide_type": "subslide"
    }
   },
   "source": [
    "Oops, we forgot to end the game!"
   ]
  },
  {
   "cell_type": "code",
   "execution_count": null,
   "id": "06ec7e0c",
   "metadata": {
    "execution": {
     "iopub.execute_input": "2023-10-08T02:57:39.518193Z",
     "iopub.status.busy": "2023-10-08T02:57:39.517616Z",
     "iopub.status.idle": "2023-10-08T02:57:39.523732Z",
     "shell.execute_reply": "2023-10-08T02:57:39.522990Z"
    },
    "slideshow": {
     "slide_type": "-"
    }
   },
   "outputs": [],
   "source": [
    "def play_game():\n",
    "    word = \"secret\"\n",
    "    progress = [\"_\", \"_\", \"_\", \"_\", \"_\", \"_\"]\n",
    "    while True:\n",
    "        display_progress(progress)\n",
    "        guess = get_guess()\n",
    "        process_guess(guess, word, progress)\n",
    "        if game_over(progress):\n",
    "            print(\"You win!\")\n",
    "            return"
   ]
  },
  {
   "cell_type": "code",
   "execution_count": null,
   "id": "08acdff1",
   "metadata": {
    "execution": {
     "iopub.execute_input": "2023-10-08T02:57:39.527071Z",
     "iopub.status.busy": "2023-10-08T02:57:39.526774Z",
     "iopub.status.idle": "2023-10-08T02:57:39.530832Z",
     "shell.execute_reply": "2023-10-08T02:57:39.530166Z"
    },
    "slideshow": {
     "slide_type": "subslide"
    }
   },
   "outputs": [],
   "source": [
    "def game_over(progress):\n",
    "    for letter in progress:\n",
    "        if letter == \"_\":\n",
    "            return False\n",
    "    return True"
   ]
  },
  {
   "cell_type": "code",
   "execution_count": null,
   "id": "b725241b",
   "metadata": {
    "execution": {
     "iopub.execute_input": "2023-10-08T02:57:39.534180Z",
     "iopub.status.busy": "2023-10-08T02:57:39.533841Z",
     "iopub.status.idle": "2023-10-08T02:57:39.541604Z",
     "shell.execute_reply": "2023-10-08T02:57:39.540458Z"
    }
   },
   "outputs": [],
   "source": [
    "game_over([\"a\", \"b\", \"c\"])"
   ]
  },
  {
   "cell_type": "code",
   "execution_count": null,
   "id": "417da869",
   "metadata": {
    "execution": {
     "iopub.execute_input": "2023-10-08T02:57:39.545655Z",
     "iopub.status.busy": "2023-10-08T02:57:39.545311Z",
     "iopub.status.idle": "2023-10-08T02:57:39.550572Z",
     "shell.execute_reply": "2023-10-08T02:57:39.549597Z"
    }
   },
   "outputs": [],
   "source": [
    "game_over([\"a\", \"_\", \"c\"])"
   ]
  },
  {
   "cell_type": "markdown",
   "id": "0f199661",
   "metadata": {
    "slideshow": {
     "slide_type": "subslide"
    }
   },
   "source": [
    "Or, again, a shorter way using one of the sequence operations: `in`"
   ]
  },
  {
   "cell_type": "code",
   "execution_count": null,
   "id": "bc30359c",
   "metadata": {
    "execution": {
     "iopub.execute_input": "2023-10-08T02:57:39.557734Z",
     "iopub.status.busy": "2023-10-08T02:57:39.556831Z",
     "iopub.status.idle": "2023-10-08T02:57:39.562307Z",
     "shell.execute_reply": "2023-10-08T02:57:39.560628Z"
    }
   },
   "outputs": [],
   "source": [
    "def game_over(progress):\n",
    "    return \"_\" not in progress"
   ]
  },
  {
   "cell_type": "code",
   "execution_count": null,
   "id": "ab3223e1",
   "metadata": {
    "execution": {
     "iopub.execute_input": "2023-10-08T02:57:39.566715Z",
     "iopub.status.busy": "2023-10-08T02:57:39.566070Z",
     "iopub.status.idle": "2023-10-08T02:57:39.574485Z",
     "shell.execute_reply": "2023-10-08T02:57:39.573556Z"
    }
   },
   "outputs": [],
   "source": [
    "game_over([\"a\", \"b\", \"c\"])"
   ]
  },
  {
   "cell_type": "code",
   "execution_count": null,
   "id": "037b814c",
   "metadata": {
    "execution": {
     "iopub.execute_input": "2023-10-08T02:57:39.580286Z",
     "iopub.status.busy": "2023-10-08T02:57:39.579884Z",
     "iopub.status.idle": "2023-10-08T02:57:39.587881Z",
     "shell.execute_reply": "2023-10-08T02:57:39.586193Z"
    }
   },
   "outputs": [],
   "source": [
    "game_over([\"a\", \"_\", \"c\"])"
   ]
  },
  {
   "cell_type": "code",
   "execution_count": null,
   "id": "46f5ba60",
   "metadata": {
    "execution": {
     "iopub.execute_input": "2023-10-08T02:57:39.595210Z",
     "iopub.status.busy": "2023-10-08T02:57:39.594666Z",
     "iopub.status.idle": "2023-10-08T02:57:39.602601Z",
     "shell.execute_reply": "2023-10-08T02:57:39.601083Z"
    },
    "slideshow": {
     "slide_type": "subslide"
    }
   },
   "outputs": [],
   "source": [
    "def play_game():\n",
    "    word = \"secret\"\n",
    "    progress = [\"_\", \"_\", \"_\", \"_\", \"_\", \"_\"]\n",
    "    while True:\n",
    "        display_progress(progress)\n",
    "        guess = get_guess()\n",
    "        process_guess(guess, word, progress)\n",
    "        if game_over(progress):\n",
    "            print(\"You win!\")\n",
    "            break"
   ]
  },
  {
   "cell_type": "code",
   "execution_count": null,
   "id": "77da2aa1",
   "metadata": {
    "execution": {
     "iopub.execute_input": "2023-10-08T02:57:39.607588Z",
     "iopub.status.busy": "2023-10-08T02:57:39.607162Z",
     "iopub.status.idle": "2023-10-08T02:57:39.671998Z",
     "shell.execute_reply": "2023-10-08T02:57:39.669728Z"
    },
    "tags": [
     "remove-output"
    ]
   },
   "outputs": [],
   "source": [
    "play_game()"
   ]
  },
  {
   "cell_type": "markdown",
   "id": "f4cf7f74",
   "metadata": {
    "slideshow": {
     "slide_type": "subslide"
    }
   },
   "source": [
    "What if we want to use a different word? We can parameterize `play_game`:"
   ]
  },
  {
   "cell_type": "code",
   "execution_count": null,
   "id": "ed5d6953",
   "metadata": {
    "execution": {
     "iopub.execute_input": "2023-10-08T02:57:39.677279Z",
     "iopub.status.busy": "2023-10-08T02:57:39.676872Z",
     "iopub.status.idle": "2023-10-08T02:57:39.683092Z",
     "shell.execute_reply": "2023-10-08T02:57:39.681896Z"
    }
   },
   "outputs": [],
   "source": [
    "def play_game(word):\n",
    "    progress = [\"_\"] * len(word)\n",
    "    while True:\n",
    "        display_progress(progress)\n",
    "        guess = get_guess()\n",
    "        process_guess(guess, word, progress)\n",
    "        if game_over(progress):\n",
    "            print(\"You win!\")\n",
    "            break"
   ]
  },
  {
   "cell_type": "code",
   "execution_count": null,
   "id": "95b41fce",
   "metadata": {
    "execution": {
     "iopub.execute_input": "2023-10-08T02:57:39.688977Z",
     "iopub.status.busy": "2023-10-08T02:57:39.688348Z",
     "iopub.status.idle": "2023-10-08T02:57:39.740637Z",
     "shell.execute_reply": "2023-10-08T02:57:39.738716Z"
    },
    "tags": [
     "remove-output"
    ]
   },
   "outputs": [],
   "source": [
    "play_game(\"abba\")"
   ]
  },
  {
   "cell_type": "markdown",
   "id": "46f36946",
   "metadata": {
    "slideshow": {
     "slide_type": "subslide"
    }
   },
   "source": [
    "More things to think about:\n",
    "* How would you keep track of how many incorrect guesses a user had made, and stop after 5 incorrect?\n",
    "* How would you keep track of which letters the user had already guessed?\n",
    "* How could you handle the user entering an upper case letter?"
   ]
  },
  {
   "cell_type": "code",
   "execution_count": null,
   "id": "92361cf6",
   "metadata": {},
   "outputs": [],
   "source": []
  }
 ],
 "metadata": {
  "kernelspec": {
   "display_name": "Python 3 (ipykernel)",
   "language": "python",
   "name": "python3"
  },
  "language_info": {
   "codemirror_mode": {
    "name": "ipython",
    "version": 3
   },
   "file_extension": ".py",
   "mimetype": "text/x-python",
   "name": "python",
   "nbconvert_exporter": "python",
   "pygments_lexer": "ipython3",
   "version": "3.10.9"
  }
 },
 "nbformat": 4,
 "nbformat_minor": 5
}
