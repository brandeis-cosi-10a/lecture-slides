{
 "cells": [
  {
   "cell_type": "markdown",
   "id": "31b83fac",
   "metadata": {
    "slideshow": {
     "slide_type": "slide"
    }
   },
   "source": [
    "# Strings\n",
    "\n",
    "* A string is a sequence of characters\n",
    "* Also referred to as `str` in Python\n",
    "* Strings are surrounded by quotes\n",
    "  * Can use single quotes (`'`) or double quotes (`\"`)\n",
    "  * No difference between the two, but the beginning and ending quote must match\n",
    "* Quotes mark where the string starts and ends, but are not included in the string itself.\n",
    "* Can use triple quotes (`\"\"\"`) to surround a string that spans multiple lines\n"
   ]
  },
  {
   "cell_type": "markdown",
   "id": "7d5bbdc6",
   "metadata": {
    "slideshow": {
     "slide_type": "subslide"
    }
   },
   "source": [
    "## String examples"
   ]
  },
  {
   "cell_type": "code",
   "execution_count": null,
   "id": "8006ac16",
   "metadata": {
    "execution": {
     "iopub.execute_input": "2023-09-04T15:56:12.913041Z",
     "iopub.status.busy": "2023-09-04T15:56:12.912779Z",
     "iopub.status.idle": "2023-09-04T15:56:12.918832Z",
     "shell.execute_reply": "2023-09-04T15:56:12.918272Z"
    },
    "slideshow": {
     "slide_type": "subslide"
    }
   },
   "outputs": [],
   "source": [
    "print('I am a short string')"
   ]
  },
  {
   "cell_type": "code",
   "execution_count": null,
   "id": "ee2419f5",
   "metadata": {
    "execution": {
     "iopub.execute_input": "2023-09-04T15:56:12.921874Z",
     "iopub.status.busy": "2023-09-04T15:56:12.921606Z",
     "iopub.status.idle": "2023-09-04T15:56:12.925723Z",
     "shell.execute_reply": "2023-09-04T15:56:12.925184Z"
    },
    "slideshow": {
     "slide_type": "subslide"
    }
   },
   "outputs": [],
   "source": [
    "print(\"This is a longer string that goes on and on and on and on and on and on and on and on and on and on and on\")"
   ]
  },
  {
   "cell_type": "code",
   "execution_count": null,
   "id": "5c9bf7fa",
   "metadata": {
    "execution": {
     "iopub.execute_input": "2023-09-04T15:56:12.928516Z",
     "iopub.status.busy": "2023-09-04T15:56:12.928254Z",
     "iopub.status.idle": "2023-09-04T15:56:12.932259Z",
     "shell.execute_reply": "2023-09-04T15:56:12.931641Z"
    },
    "slideshow": {
     "slide_type": "subslide"
    }
   },
   "outputs": [],
   "source": [
    "print('You can put \"quotes\" inside')"
   ]
  },
  {
   "cell_type": "code",
   "execution_count": null,
   "id": "4c095133",
   "metadata": {
    "execution": {
     "iopub.execute_input": "2023-09-04T15:56:12.935487Z",
     "iopub.status.busy": "2023-09-04T15:56:12.935214Z",
     "iopub.status.idle": "2023-09-04T15:56:12.939344Z",
     "shell.execute_reply": "2023-09-04T15:56:12.938764Z"
    },
    "slideshow": {
     "slide_type": "subslide"
    }
   },
   "outputs": [],
   "source": [
    "print(\"\"\"I am a string\n",
    "that spans multiple lines\"\"\")"
   ]
  },
  {
   "cell_type": "markdown",
   "id": "da2d17af",
   "metadata": {
    "slideshow": {
     "slide_type": "subslide"
    }
   },
   "source": [
    "## Invalid string examples"
   ]
  },
  {
   "cell_type": "code",
   "execution_count": null,
   "id": "c4be93a1",
   "metadata": {
    "execution": {
     "iopub.execute_input": "2023-09-04T15:56:12.942413Z",
     "iopub.status.busy": "2023-09-04T15:56:12.942170Z",
     "iopub.status.idle": "2023-09-04T15:56:12.945718Z",
     "shell.execute_reply": "2023-09-04T15:56:12.945041Z"
    },
    "slideshow": {
     "slide_type": "subslide"
    },
    "tags": [
     "raises-exception"
    ]
   },
   "outputs": [],
   "source": [
    "print('This string is missing an end quote)"
   ]
  },
  {
   "cell_type": "code",
   "execution_count": null,
   "id": "9d4c2642",
   "metadata": {
    "execution": {
     "iopub.execute_input": "2023-09-04T15:56:12.948590Z",
     "iopub.status.busy": "2023-09-04T15:56:12.948357Z",
     "iopub.status.idle": "2023-09-04T15:56:12.951643Z",
     "shell.execute_reply": "2023-09-04T15:56:12.951089Z"
    },
    "slideshow": {
     "slide_type": "subslide"
    },
    "tags": [
     "raises-exception"
    ]
   },
   "outputs": [],
   "source": [
    "print(\"Must use triple\n",
    "quotes to span multiple lines.\")"
   ]
  },
  {
   "cell_type": "code",
   "execution_count": null,
   "id": "ead77a95",
   "metadata": {
    "execution": {
     "iopub.execute_input": "2023-09-04T15:56:12.954377Z",
     "iopub.status.busy": "2023-09-04T15:56:12.954130Z",
     "iopub.status.idle": "2023-09-04T15:56:12.958106Z",
     "shell.execute_reply": "2023-09-04T15:56:12.957483Z"
    },
    "slideshow": {
     "slide_type": "subslide"
    },
    "tags": [
     "raises-exception"
    ]
   },
   "outputs": [],
   "source": [
    "print('This is not a 'legal' string')"
   ]
  },
  {
   "cell_type": "code",
   "execution_count": null,
   "id": "d5215948",
   "metadata": {
    "execution": {
     "iopub.execute_input": "2023-09-04T15:56:12.960836Z",
     "iopub.status.busy": "2023-09-04T15:56:12.960589Z",
     "iopub.status.idle": "2023-09-04T15:56:12.964239Z",
     "shell.execute_reply": "2023-09-04T15:56:12.963615Z"
    },
    "slideshow": {
     "slide_type": "subslide"
    },
    "tags": [
     "raises-exception"
    ]
   },
   "outputs": [],
   "source": [
    "print(\"This is also not a \"legal\" string\")"
   ]
  },
  {
   "cell_type": "markdown",
   "id": "bbfaff10",
   "metadata": {
    "slideshow": {
     "slide_type": "subslide"
    }
   },
   "source": [
    "## Escape sequences\n",
    "\n",
    "* Special characters in a string must be “escaped”\n",
    "* Escape sequences start with a `\\` \n",
    "* Common escape sequences:\n",
    "  * `\\\"` - double quote\n",
    "  * `\\'` - single quote\n",
    "  * `\\t` - tab\n",
    "  * `\\n` - newline\n",
    "  * `\\\\` - backslash\n"
   ]
  },
  {
   "cell_type": "markdown",
   "id": "99487227",
   "metadata": {
    "slideshow": {
     "slide_type": "subslide"
    }
   },
   "source": [
    "## Escape sequence examples"
   ]
  },
  {
   "cell_type": "code",
   "execution_count": null,
   "id": "ca9c2851",
   "metadata": {
    "execution": {
     "iopub.execute_input": "2023-09-04T15:56:12.967559Z",
     "iopub.status.busy": "2023-09-04T15:56:12.967171Z",
     "iopub.status.idle": "2023-09-04T15:56:12.971339Z",
     "shell.execute_reply": "2023-09-04T15:56:12.970746Z"
    },
    "slideshow": {
     "slide_type": "subslide",
     "transition": "fade-in-then-out"
    }
   },
   "outputs": [],
   "source": [
    "'This IS a \\'legal\\' string'"
   ]
  },
  {
   "cell_type": "code",
   "execution_count": null,
   "id": "5bbfd0a1",
   "metadata": {
    "execution": {
     "iopub.execute_input": "2023-09-04T15:56:12.974420Z",
     "iopub.status.busy": "2023-09-04T15:56:12.974176Z",
     "iopub.status.idle": "2023-09-04T15:56:12.977930Z",
     "shell.execute_reply": "2023-09-04T15:56:12.977413Z"
    },
    "slideshow": {
     "slide_type": "subslide"
    }
   },
   "outputs": [],
   "source": [
    "\"This is also a \\\"legal\\\" string\""
   ]
  },
  {
   "cell_type": "code",
   "execution_count": null,
   "id": "c9fc78fa",
   "metadata": {
    "execution": {
     "iopub.execute_input": "2023-09-04T15:56:12.980623Z",
     "iopub.status.busy": "2023-09-04T15:56:12.980388Z",
     "iopub.status.idle": "2023-09-04T15:56:12.983597Z",
     "shell.execute_reply": "2023-09-04T15:56:12.983070Z"
    },
    "slideshow": {
     "slide_type": "subslide"
    }
   },
   "outputs": [],
   "source": [
    "print(\"Let's\\t\\tmake\\n\\na\\t\\tbox\")"
   ]
  },
  {
   "cell_type": "code",
   "execution_count": null,
   "id": "20c342bb",
   "metadata": {
    "execution": {
     "iopub.execute_input": "2023-09-04T15:56:12.986300Z",
     "iopub.status.busy": "2023-09-04T15:56:12.986062Z",
     "iopub.status.idle": "2023-09-04T15:56:12.989326Z",
     "shell.execute_reply": "2023-09-04T15:56:12.988657Z"
    },
    "slideshow": {
     "slide_type": "subslide"
    }
   },
   "outputs": [],
   "source": [
    "print(\"Hello!\\tI\\'m a\\ncomplicated\\\\interesting\\n\\\"string\\\"\")"
   ]
  }
 ],
 "metadata": {
  "kernelspec": {
   "display_name": "Python 3 (ipykernel)",
   "language": "python",
   "name": "python3"
  },
  "language_info": {
   "codemirror_mode": {
    "name": "ipython",
    "version": 3
   },
   "file_extension": ".py",
   "mimetype": "text/x-python",
   "name": "python",
   "nbconvert_exporter": "python",
   "pygments_lexer": "ipython3",
   "version": "3.10.9"
  }
 },
 "nbformat": 4,
 "nbformat_minor": 5
}
