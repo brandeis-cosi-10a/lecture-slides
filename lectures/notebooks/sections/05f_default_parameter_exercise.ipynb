{
 "cells": [
  {
   "cell_type": "markdown",
   "id": "62295063",
   "metadata": {},
   "source": [
    "## Exercise: Arrow Params\n",
    "\n",
    "[GitHub Classroom -> Class exercises -> Open in GitHub Cospaces](https://classroom.github.com/a/M3gdSqkV)\n",
    "\n",
    "Open the file: `exercises/04/arrow_params/README.md`, follow the instructions.\n",
    "* If you don't see this folder: Open the file: `get_exercises.sh`, click the \"Run\" button at the top right of the editor.\n"
   ]
  }
 ],
 "metadata": {
  "kernelspec": {
   "display_name": "Python 3 (ipykernel)",
   "language": "python",
   "name": "python3"
  },
  "language_info": {
   "codemirror_mode": {
    "name": "ipython",
    "version": 3
   },
   "file_extension": ".py",
   "mimetype": "text/x-python",
   "name": "python",
   "nbconvert_exporter": "python",
   "pygments_lexer": "ipython3",
   "version": "3.10.9"
  }
 },
 "nbformat": 4,
 "nbformat_minor": 5
}
