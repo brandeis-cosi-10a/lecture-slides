{
 "cells": [
  {
   "cell_type": "markdown",
   "id": "1ee8a1d2",
   "metadata": {
    "slideshow": {
     "slide_type": "slide"
    }
   },
   "source": [
    "# File Input/Output, CSVs\n",
    "\n",
    "<style>\n",
    "section.present > section.present { \n",
    "    max-height: 90%; \n",
    "    overflow-y: scroll;\n",
    "}\n",
    "</style>\n",
    "\n",
    "<small><a href=\"https://colab.research.google.com/github/brandeis-jdelfino/cosi-10a/blob/main/lectures/notebooks/12_file_io.ipynb\">Link to interactive slides on Google Colab</a></small>"
   ]
  },
  {
   "cell_type": "markdown",
   "id": "5169b53d",
   "metadata": {
    "slideshow": {
     "slide_type": "slide"
    }
   },
   "source": [
    "# Reading files\n",
    "\n",
    "Python allows you to read the contents of files:"
   ]
  },
  {
   "cell_type": "code",
   "execution_count": null,
   "id": "09399bfb",
   "metadata": {
    "execution": {
     "iopub.execute_input": "2023-10-30T03:57:49.955697Z",
     "iopub.status.busy": "2023-10-30T03:57:49.955296Z",
     "iopub.status.idle": "2023-10-30T03:57:49.972406Z",
     "shell.execute_reply": "2023-10-30T03:57:49.971500Z"
    }
   },
   "outputs": [],
   "source": [
    "f = open('../../snippets/names.txt')\n",
    "print(f.read())"
   ]
  },
  {
   "cell_type": "markdown",
   "id": "ad1f2a3e",
   "metadata": {
    "slideshow": {
     "slide_type": "slide"
    }
   },
   "source": [
    "# But first: Understanding file paths\n",
    "\n",
    "Files are stored in a big tree of nested directories, each of which can contain files and/or other directories. \n",
    "\n",
    "A directory that contains another directory is called a \"parent\" directory. \n",
    "\n",
    "The \"root\" directory is the (eventual) parent of all files and directories.\n",
    "\n",
    "The \"working\" directory is the directory you are currently working in. Every program or command that runs has a \"working\" directory."
   ]
  },
  {
   "cell_type": "markdown",
   "id": "44fd0d12",
   "metadata": {
    "slideshow": {
     "slide_type": "subslide"
    }
   },
   "source": [
    "## File path syntax\n",
    "\n",
    "Special characters:\n",
    "* `/`: directory separator\n",
    "* `..`: parent directory\n",
    "* `.`: current directory\n",
    "* `~`: your home directory\n",
    "* `*`: wildcard, match any characters"
   ]
  },
  {
   "cell_type": "markdown",
   "id": "3b3ca8cc",
   "metadata": {
    "slideshow": {
     "slide_type": "subslide"
    }
   },
   "source": [
    "## Absolute vs. relative file paths\n",
    "\n",
    "File paths that start with `/` are \"absolute\", meaning they are interpreted relative to the root directory.\n",
    "\n",
    "File paths that do not start with `/` are \"relative\", and are interpreted relative to you current working directory."
   ]
  },
  {
   "cell_type": "markdown",
   "id": "4e4e5803",
   "metadata": {
    "slideshow": {
     "slide_type": "subslide"
    }
   },
   "source": [
    "## Examples\n",
    "* `/Users/jdelfino/stuff/smile.txt` \n",
    "   * the file `smile.txt` found in the directory `/Users/jdelfino/stuff`  \n",
    "* `stuff/smile.txt`\n",
    "   * the file `smile.txt`, in the `stuff` directory, in the current working directory  \n",
    "* `../smile.txt`\n",
    "   * the file `smile.txt` found in the parent directory of the current working directory  \n",
    "* `./*.txt` or `*.txt`\n",
    "   * all files with the `.txt` extension in the current working directory  \n",
    "* `../*.txt`\n",
    "   * all files with the `.txt` extension found in the parent directory of the current working directory  \n"
   ]
  },
  {
   "cell_type": "markdown",
   "id": "a466138e",
   "metadata": {
    "slideshow": {
     "slide_type": "slide"
    }
   },
   "source": [
    "# Reading files\n",
    "\n",
    "Python allows you to read the contents of files:"
   ]
  },
  {
   "cell_type": "code",
   "execution_count": null,
   "id": "444e4d6f",
   "metadata": {
    "execution": {
     "iopub.execute_input": "2023-10-30T03:57:49.977411Z",
     "iopub.status.busy": "2023-10-30T03:57:49.976941Z",
     "iopub.status.idle": "2023-10-30T03:57:49.981497Z",
     "shell.execute_reply": "2023-10-30T03:57:49.980757Z"
    }
   },
   "outputs": [],
   "source": [
    "f = open('../../snippets/names.txt')\n",
    "print(f.read())"
   ]
  },
  {
   "cell_type": "markdown",
   "id": "14a564ba",
   "metadata": {
    "slideshow": {
     "slide_type": "subslide"
    }
   },
   "source": [
    "You can also get the data one line at a a time:"
   ]
  },
  {
   "cell_type": "code",
   "execution_count": null,
   "id": "7e2e5bb2",
   "metadata": {
    "execution": {
     "iopub.execute_input": "2023-10-30T03:57:49.984915Z",
     "iopub.status.busy": "2023-10-30T03:57:49.984610Z",
     "iopub.status.idle": "2023-10-30T03:57:49.989069Z",
     "shell.execute_reply": "2023-10-30T03:57:49.988243Z"
    }
   },
   "outputs": [],
   "source": [
    "f = open('../../snippets/names.txt')\n",
    "for line in f:\n",
    "    print(line, end='')"
   ]
  },
  {
   "cell_type": "markdown",
   "id": "8156b975",
   "metadata": {},
   "source": [
    "Note the `end=''` for the `print`. \n",
    "\n",
    "When reading a file, the newlines from the file are returned as part of each line. \n",
    "\n",
    "You can strip them out with the `strip()` string method, depending on how you want to use the data."
   ]
  },
  {
   "cell_type": "code",
   "execution_count": null,
   "id": "ec054b09",
   "metadata": {
    "execution": {
     "iopub.execute_input": "2023-10-30T03:57:49.992434Z",
     "iopub.status.busy": "2023-10-30T03:57:49.992154Z",
     "iopub.status.idle": "2023-10-30T03:57:49.996208Z",
     "shell.execute_reply": "2023-10-30T03:57:49.995596Z"
    },
    "slideshow": {
     "slide_type": "subslide"
    }
   },
   "outputs": [],
   "source": [
    "f = open('../../snippets/names.txt')\n",
    "for line in f:\n",
    "    print(f\"Name: {line.strip()}\")"
   ]
  },
  {
   "cell_type": "markdown",
   "id": "4a1128bc",
   "metadata": {
    "slideshow": {
     "slide_type": "subslide"
    }
   },
   "source": [
    "## File objects\n",
    "\n",
    "`open()` returns a \"file object\". File objects have a number of methods, and are also **iterables** - that's why we were able to use a for loop on them."
   ]
  },
  {
   "cell_type": "markdown",
   "id": "3a8ef820",
   "metadata": {
    "slideshow": {
     "slide_type": "slide"
    }
   },
   "source": [
    "# Writing Files\n",
    "\n",
    "You can write strings to files:"
   ]
  },
  {
   "cell_type": "code",
   "execution_count": null,
   "id": "8df33eb0",
   "metadata": {
    "execution": {
     "iopub.execute_input": "2023-10-30T03:57:49.999488Z",
     "iopub.status.busy": "2023-10-30T03:57:49.999224Z",
     "iopub.status.idle": "2023-10-30T03:57:50.003626Z",
     "shell.execute_reply": "2023-10-30T03:57:50.003010Z"
    }
   },
   "outputs": [],
   "source": [
    "f = open('../../snippets/output.txt', 'w')\n",
    "f.write(\"Hello, files!\")\n",
    "f.close()\n",
    "\n",
    "g = open('../../snippets/output.txt', 'r')\n",
    "print(f\"File contents: {g.read()}\")"
   ]
  },
  {
   "cell_type": "markdown",
   "id": "95f0453c",
   "metadata": {},
   "source": [
    "Note the call to `close()` - files must be closed after writing to them."
   ]
  },
  {
   "cell_type": "markdown",
   "id": "9384b03b",
   "metadata": {
    "slideshow": {
     "slide_type": "subslide"
    }
   },
   "source": [
    "## File modes\n",
    "\n",
    "Notice that we called `open` slightly differently for writing vs. reading:\n",
    "\n",
    "`open('../../snippets/output.txt', 'w')`  \n",
    "vs.  \n",
    "`open('../../snippets/output.txt', 'r')`\n",
    "\n",
    "The second paramater is the \"mode\". There are several modes, but the most commonly useful are:\n",
    "\n",
    "| character | mode |\n",
    "|:---:|:---|\n",
    "| r | open for reading (default) |\n",
    "| w | open for writing, truncating the file first |\n",
    "| a | open for writing, appending to the end of file if it exists |"
   ]
  },
  {
   "cell_type": "markdown",
   "id": "ec99d3c7",
   "metadata": {
    "slideshow": {
     "slide_type": "subslide"
    }
   },
   "source": [
    "## Closing files\n",
    "\n",
    "Files need to be closed when they are no longer needed. \n",
    "\n",
    "We did it above with the `.close()` method.\n",
    "\n",
    "This is especially important when writing, because data is sometimes not actually written to the file until `close()` is called!"
   ]
  },
  {
   "cell_type": "code",
   "execution_count": null,
   "id": "891c1dbf",
   "metadata": {
    "execution": {
     "iopub.execute_input": "2023-10-30T03:57:50.006890Z",
     "iopub.status.busy": "2023-10-30T03:57:50.006631Z",
     "iopub.status.idle": "2023-10-30T03:57:50.010886Z",
     "shell.execute_reply": "2023-10-30T03:57:50.010198Z"
    }
   },
   "outputs": [],
   "source": [
    "f = open('../../snippets/output.txt', 'w')\n",
    "f.write(\"Hello, files!\")\n",
    "\n",
    "g = open('../../snippets/output.txt', 'r')\n",
    "print(f\"File contents: {g.read()}\")"
   ]
  },
  {
   "cell_type": "markdown",
   "id": "6d6a787f",
   "metadata": {
    "slideshow": {
     "slide_type": "slide"
    }
   },
   "source": [
    "## `with`\n",
    "\n",
    "There's a convenient way to ensure you don't forget to close a file: a `with` clause."
   ]
  },
  {
   "cell_type": "code",
   "execution_count": null,
   "id": "6902e747",
   "metadata": {
    "execution": {
     "iopub.execute_input": "2023-10-30T03:57:50.013963Z",
     "iopub.status.busy": "2023-10-30T03:57:50.013702Z",
     "iopub.status.idle": "2023-10-30T03:57:50.018216Z",
     "shell.execute_reply": "2023-10-30T03:57:50.017608Z"
    }
   },
   "outputs": [],
   "source": [
    "with open('../../snippets/names.txt', 'r') as f:\n",
    "    print(f\"File closed before for loop? {f.closed}\")\n",
    "    \n",
    "    for line in f:\n",
    "        print(line, end='')\n",
    "    \n",
    "    print(f\"File closed inside after for loop? {f.closed}\")\n",
    "\n",
    "print(f\"File closed at end? {f.closed}\")"
   ]
  },
  {
   "cell_type": "markdown",
   "id": "02d8f99d",
   "metadata": {},
   "source": [
    "This code opens the file, assigns the file object to `f`, executes the code inside the `with` block, then automatically closes the file when exiting the `with` block."
   ]
  },
  {
   "cell_type": "markdown",
   "id": "1f344c65",
   "metadata": {
    "slideshow": {
     "slide_type": "subslide"
    }
   },
   "source": [
    "## Context managers\n",
    "\n",
    "File objects are **context managers**, which means they can be used with the `with` statement to manage resources automatically when entering and exiting a `with` block.\n",
    "\n",
    "There are other context managers in Python, and you can even [write your own](https://docs.python.org/3/reference/datamodel.html#context-managers). \n",
    "\n",
    "It's good practice to handle file objects with `with` rather than closing manually."
   ]
  },
  {
   "cell_type": "markdown",
   "id": "302725d4",
   "metadata": {
    "slideshow": {
     "slide_type": "slide"
    }
   },
   "source": [
    "## Exercise\n",
    "\n",
    "Read in two files, `../../snippets/hamlet.txt` and `../../snippets/macbeth.txt` and print out all the lines that are found in both files."
   ]
  },
  {
   "cell_type": "code",
   "execution_count": null,
   "id": "134e4057",
   "metadata": {
    "execution": {
     "iopub.execute_input": "2023-10-30T03:57:50.021650Z",
     "iopub.status.busy": "2023-10-30T03:57:50.021384Z",
     "iopub.status.idle": "2023-10-30T03:57:50.202875Z",
     "shell.execute_reply": "2023-10-30T03:57:50.201957Z"
    }
   },
   "outputs": [],
   "source": [
    "macbeth = []\n",
    "hamlet = []\n",
    "\n",
    "with open('../../snippets/shakespeare/hamlet.txt', 'r') as f:\n",
    "    for line in f:\n",
    "        hamlet.append(line.strip())\n",
    "\n",
    "with open('../../snippets/shakespeare/macbeth.txt', 'r') as f:\n",
    "    for line in f:\n",
    "        macbeth.append(line.strip())\n",
    "\n",
    "for line in hamlet:\n",
    "    if line in macbeth:\n",
    "        print(line)"
   ]
  },
  {
   "cell_type": "markdown",
   "id": "380b60a1",
   "metadata": {
    "slideshow": {
     "slide_type": "subslide"
    }
   },
   "source": [
    "Looks like we need to handle duplicates..."
   ]
  },
  {
   "cell_type": "code",
   "execution_count": null,
   "id": "eabc8fe7",
   "metadata": {
    "execution": {
     "iopub.execute_input": "2023-10-30T03:57:50.206718Z",
     "iopub.status.busy": "2023-10-30T03:57:50.206421Z",
     "iopub.status.idle": "2023-10-30T03:57:50.214967Z",
     "shell.execute_reply": "2023-10-30T03:57:50.214122Z"
    },
    "slideshow": {
     "slide_type": "fragment"
    }
   },
   "outputs": [],
   "source": [
    "macbeth = set()\n",
    "hamlet = set()\n",
    "\n",
    "with open('../../snippets/shakespeare/hamlet.txt', 'r') as f:\n",
    "    for line in f:\n",
    "        hamlet.add(line.strip())\n",
    "\n",
    "with open('../../snippets/shakespeare/macbeth.txt', 'r') as f:\n",
    "    for line in f:\n",
    "        macbeth.add(line.strip())\n",
    "\n",
    "print(hamlet & macbeth)"
   ]
  },
  {
   "cell_type": "markdown",
   "id": "be2707aa",
   "metadata": {
    "slideshow": {
     "slide_type": "subslide"
    }
   },
   "source": [
    "We can make the output a little prettier"
   ]
  },
  {
   "cell_type": "code",
   "execution_count": null,
   "id": "3f1b43a0",
   "metadata": {
    "execution": {
     "iopub.execute_input": "2023-10-30T03:57:50.218467Z",
     "iopub.status.busy": "2023-10-30T03:57:50.218175Z",
     "iopub.status.idle": "2023-10-30T03:57:50.226654Z",
     "shell.execute_reply": "2023-10-30T03:57:50.226018Z"
    }
   },
   "outputs": [],
   "source": [
    "macbeth = set()\n",
    "hamlet = set()\n",
    "\n",
    "with open('../../snippets/shakespeare/hamlet.txt', 'r') as f:\n",
    "    for line in f:\n",
    "        hamlet.add(line.strip())\n",
    "\n",
    "with open('../../snippets/shakespeare/macbeth.txt', 'r') as f:\n",
    "    for line in f:\n",
    "        macbeth.add(line.strip())\n",
    "\n",
    "overlapping = sorted(list(macbeth & hamlet))\n",
    "print('\\n'.join(overlapping))"
   ]
  },
  {
   "cell_type": "markdown",
   "id": "97471c68",
   "metadata": {
    "slideshow": {
     "slide_type": "slide"
    }
   },
   "source": [
    "## Exercise 2\n",
    "\n",
    "Do the same thing for all of Shakespeare's plays at once."
   ]
  },
  {
   "cell_type": "code",
   "execution_count": null,
   "id": "90939f8d",
   "metadata": {
    "execution": {
     "iopub.execute_input": "2023-10-30T03:57:50.229733Z",
     "iopub.status.busy": "2023-10-30T03:57:50.229488Z",
     "iopub.status.idle": "2023-10-30T03:57:50.233128Z",
     "shell.execute_reply": "2023-10-30T03:57:50.232513Z"
    }
   },
   "outputs": [],
   "source": [
    "macbeth = set()\n",
    "hamlet = set()\n",
    "othello = set()\n",
    "henry_iv_part1 = set()\n",
    "henry_iv_part2 = set()\n",
    "# ..."
   ]
  },
  {
   "cell_type": "markdown",
   "id": "b471ed9e",
   "metadata": {
    "slideshow": {
     "slide_type": "fragment"
    }
   },
   "source": [
    "There must be an easier way."
   ]
  },
  {
   "cell_type": "markdown",
   "id": "83291360",
   "metadata": {
    "slideshow": {
     "slide_type": "subslide"
    }
   },
   "source": [
    "We can use `os.listdir()` to get everything in a directory."
   ]
  },
  {
   "cell_type": "code",
   "execution_count": null,
   "id": "3966481d",
   "metadata": {
    "execution": {
     "iopub.execute_input": "2023-10-30T03:57:50.236238Z",
     "iopub.status.busy": "2023-10-30T03:57:50.235995Z",
     "iopub.status.idle": "2023-10-30T03:57:50.239776Z",
     "shell.execute_reply": "2023-10-30T03:57:50.239231Z"
    }
   },
   "outputs": [],
   "source": [
    "import os\n",
    "play_files = [f for f in os.listdir('../../snippets/shakespeare/')]\n",
    "print(play_files)\n",
    "print(len(play_files))"
   ]
  },
  {
   "cell_type": "markdown",
   "id": "18d559f1",
   "metadata": {
    "slideshow": {
     "slide_type": "subslide"
    }
   },
   "source": [
    "Next problem, how do we avoid writing 41 for loops?\n",
    "\n",
    "Let's functionally decompose, 2 steps:\n",
    "1. Find all file names and load the lines from each file into a set\n",
    "2. Find the intersection between the lines from each file"
   ]
  },
  {
   "cell_type": "markdown",
   "id": "2c5ece84",
   "metadata": {
    "slideshow": {
     "slide_type": "subslide"
    }
   },
   "source": [
    "1. Find all file names and load the lines from each file into a set"
   ]
  },
  {
   "cell_type": "code",
   "execution_count": null,
   "id": "f6373c39",
   "metadata": {
    "execution": {
     "iopub.execute_input": "2023-10-30T03:57:50.242941Z",
     "iopub.status.busy": "2023-10-30T03:57:50.242680Z",
     "iopub.status.idle": "2023-10-30T03:57:50.246951Z",
     "shell.execute_reply": "2023-10-30T03:57:50.246002Z"
    },
    "slideshow": {
     "slide_type": "-"
    }
   },
   "outputs": [],
   "source": [
    "def load_files(directory):\n",
    "    all_data = []\n",
    "    for filename in os.listdir(directory):\n",
    "        play_lines = set()\n",
    "        with open(directory + filename, 'r') as f:\n",
    "            for line in f:\n",
    "                play_lines.add(line.strip())\n",
    "        all_data.append(play_lines)\n",
    "    return all_data"
   ]
  },
  {
   "cell_type": "markdown",
   "id": "0c88398f",
   "metadata": {
    "slideshow": {
     "slide_type": "subslide"
    }
   },
   "source": [
    "Let's make this more readable - split out the code to process a single file"
   ]
  },
  {
   "cell_type": "code",
   "execution_count": null,
   "id": "c6d0fc0d",
   "metadata": {
    "execution": {
     "iopub.execute_input": "2023-10-30T03:57:50.250287Z",
     "iopub.status.busy": "2023-10-30T03:57:50.249994Z",
     "iopub.status.idle": "2023-10-30T03:57:50.255010Z",
     "shell.execute_reply": "2023-10-30T03:57:50.253839Z"
    },
    "slideshow": {
     "slide_type": "-"
    }
   },
   "outputs": [],
   "source": [
    "def load_file(filename):\n",
    "    play_lines = set()\n",
    "    with open(filename, 'r') as f:\n",
    "        for line in f:\n",
    "            play_lines.add(line.strip())\n",
    "    return play_lines\n",
    "\n",
    "def load_files(directory):\n",
    "    all_data = []\n",
    "    for filename in os.listdir(directory):\n",
    "        all_data.append(load_file(directory + filename))\n",
    "    return all_data"
   ]
  },
  {
   "cell_type": "code",
   "execution_count": null,
   "id": "370c770b",
   "metadata": {
    "execution": {
     "iopub.execute_input": "2023-10-30T03:57:50.258687Z",
     "iopub.status.busy": "2023-10-30T03:57:50.258360Z",
     "iopub.status.idle": "2023-10-30T03:57:50.434561Z",
     "shell.execute_reply": "2023-10-30T03:57:50.433921Z"
    },
    "slideshow": {
     "slide_type": "subslide"
    },
    "tags": [
     "raises-exception"
    ]
   },
   "outputs": [],
   "source": [
    "all_lines = load_files('../../snippets/shakespeare/')\n",
    "\n",
    "print(f\"Loaded {len(all_lines)} files\")\n",
    "for play in all_lines:\n",
    "    print(f\"Unique lines: {len(play)}\")"
   ]
  },
  {
   "cell_type": "markdown",
   "id": "b590cd6d",
   "metadata": {
    "slideshow": {
     "slide_type": "subslide"
    }
   },
   "source": [
    "Hm, might be nice to see filenames. Let's do a dictionary of sets."
   ]
  },
  {
   "cell_type": "code",
   "execution_count": null,
   "id": "66871d9b",
   "metadata": {
    "execution": {
     "iopub.execute_input": "2023-10-30T03:57:50.438194Z",
     "iopub.status.busy": "2023-10-30T03:57:50.437869Z",
     "iopub.status.idle": "2023-10-30T03:57:50.442602Z",
     "shell.execute_reply": "2023-10-30T03:57:50.441807Z"
    },
    "slideshow": {
     "slide_type": "-"
    }
   },
   "outputs": [],
   "source": [
    "def load_file(filename):\n",
    "    play_lines = set()\n",
    "    with open(filename, 'r') as f:\n",
    "        for line in f:\n",
    "            play_lines.add(line.strip())\n",
    "    return play_lines\n",
    "\n",
    "def load_files(directory):\n",
    "    all_data = {}\n",
    "    for filename in os.listdir(directory):\n",
    "        all_data[filename] = load_file(directory + filename)\n",
    "    return all_data"
   ]
  },
  {
   "cell_type": "code",
   "execution_count": null,
   "id": "7f2e198c",
   "metadata": {
    "execution": {
     "iopub.execute_input": "2023-10-30T03:57:50.446546Z",
     "iopub.status.busy": "2023-10-30T03:57:50.446241Z",
     "iopub.status.idle": "2023-10-30T03:57:50.506196Z",
     "shell.execute_reply": "2023-10-30T03:57:50.505354Z"
    },
    "slideshow": {
     "slide_type": "subslide"
    },
    "tags": [
     "raises-exception"
    ]
   },
   "outputs": [],
   "source": [
    "play_lines = load_files('../../snippets/shakespeare/')\n",
    "\n",
    "print(f\"Loaded {len(play_lines)} files\")\n",
    "for play in play_lines:\n",
    "    print(f\"unique lines: {len(play_lines[play])} ({play})\")"
   ]
  },
  {
   "cell_type": "markdown",
   "id": "0857904d",
   "metadata": {
    "slideshow": {
     "slide_type": "subslide"
    }
   },
   "source": [
    "2. Find the intersection between the lines from each file"
   ]
  },
  {
   "cell_type": "code",
   "execution_count": null,
   "id": "87bf4b83",
   "metadata": {
    "execution": {
     "iopub.execute_input": "2023-10-30T03:57:50.509976Z",
     "iopub.status.busy": "2023-10-30T03:57:50.509622Z",
     "iopub.status.idle": "2023-10-30T03:57:50.514694Z",
     "shell.execute_reply": "2023-10-30T03:57:50.513900Z"
    }
   },
   "outputs": [],
   "source": [
    "common_lines = set()\n",
    "for play in play_lines:\n",
    "    common_lines = common_lines & play_lines[play]\n",
    "print(common_lines)"
   ]
  },
  {
   "cell_type": "markdown",
   "id": "f3ed331b",
   "metadata": {
    "slideshow": {
     "slide_type": "fragment"
    }
   },
   "source": [
    "Seems suspicious... let's debug"
   ]
  },
  {
   "cell_type": "code",
   "execution_count": null,
   "id": "5a07aa24",
   "metadata": {
    "execution": {
     "iopub.execute_input": "2023-10-30T03:57:50.518065Z",
     "iopub.status.busy": "2023-10-30T03:57:50.517745Z",
     "iopub.status.idle": "2023-10-30T03:57:50.522006Z",
     "shell.execute_reply": "2023-10-30T03:57:50.521383Z"
    },
    "slideshow": {
     "slide_type": "subslide"
    }
   },
   "outputs": [],
   "source": [
    "common_lines = set()\n",
    "for play in play_lines:\n",
    "    common_lines = common_lines & play_lines[play]\n",
    "    print(f\"Lines after intersection with {play}: {len(common_lines)}\")\n",
    "print(common_lines)"
   ]
  },
  {
   "cell_type": "markdown",
   "id": "3b9cd628",
   "metadata": {
    "slideshow": {
     "slide_type": "subslide"
    }
   },
   "source": [
    "Oh, we start with an empty set. An empty set intersected with anything is... an empty set. Start with the first play instead."
   ]
  },
  {
   "cell_type": "code",
   "execution_count": null,
   "id": "0b1ee810",
   "metadata": {
    "execution": {
     "iopub.execute_input": "2023-10-30T03:57:50.525397Z",
     "iopub.status.busy": "2023-10-30T03:57:50.525142Z",
     "iopub.status.idle": "2023-10-30T03:57:50.530089Z",
     "shell.execute_reply": "2023-10-30T03:57:50.529328Z"
    },
    "slideshow": {
     "slide_type": "-"
    }
   },
   "outputs": [],
   "source": [
    "common_lines = None\n",
    "for play in play_lines:\n",
    "    if common_lines is None:\n",
    "        common_lines = play_lines[play]\n",
    "    else:\n",
    "        common_lines = common_lines & play_lines[play]\n",
    "    print(f\"Lines after intersection with {play}: {len(common_lines)}\")\n",
    "print(common_lines)"
   ]
  },
  {
   "cell_type": "markdown",
   "id": "4aa111a0",
   "metadata": {
    "slideshow": {
     "slide_type": "slide"
    }
   },
   "source": [
    "# CSV files\n",
    "\n",
    "CSV stands for \"character separated values\". \n",
    "\n",
    "In CSV files, rows of data are represented by lines in a file, and columns of data are separated by a specific character, called a **delimiter**. Commas (`,`) are commonly used as a delimiter, but any character can be a delimiter.\n",
    "\n",
    "CSV files are another common way to store structured data, especially if the data is tabular (like a spreadsheet).\n",
    "\n",
    "Here's an example of CSV data. Each line contains 4 fields: `id`, `name`, `house`, `hair color`:"
   ]
  },
  {
   "cell_type": "code",
   "execution_count": null,
   "id": "5fe876c9",
   "metadata": {
    "execution": {
     "iopub.execute_input": "2023-10-30T03:57:50.533978Z",
     "iopub.status.busy": "2023-10-30T03:57:50.533263Z",
     "iopub.status.idle": "2023-10-30T03:57:50.544443Z",
     "shell.execute_reply": "2023-10-30T03:57:50.543323Z"
    }
   },
   "outputs": [],
   "source": [
    "with open('../../snippets/csv_example.csv', 'r') as f:\n",
    "    for line in f:\n",
    "        print(line, end='')"
   ]
  },
  {
   "cell_type": "markdown",
   "id": "ac58d7aa",
   "metadata": {
    "slideshow": {
     "slide_type": "subslide"
    }
   },
   "source": [
    "## Reading CSVs\n",
    "\n",
    "We could just use `.split(',')` to split each line into a list. But Python provides some nice CSV utilities in the `csv` module.\n",
    "\n",
    "`csv.reader()` creates an iterable object that produces each line as a list."
   ]
  },
  {
   "cell_type": "code",
   "execution_count": null,
   "id": "7ae5a1e0",
   "metadata": {
    "execution": {
     "iopub.execute_input": "2023-10-30T03:57:50.548822Z",
     "iopub.status.busy": "2023-10-30T03:57:50.548343Z",
     "iopub.status.idle": "2023-10-30T03:57:50.553478Z",
     "shell.execute_reply": "2023-10-30T03:57:50.552709Z"
    }
   },
   "outputs": [],
   "source": [
    "import csv\n",
    "with open('../../snippets/csv_example.csv', 'r') as f:\n",
    "    reader = csv.reader(f, delimiter=',')\n",
    "    for line in reader:\n",
    "        print(line)"
   ]
  },
  {
   "cell_type": "markdown",
   "id": "19f39836",
   "metadata": {
    "slideshow": {
     "slide_type": "subslide"
    }
   },
   "source": [
    "## Writing CSVs\n",
    "\n",
    "`csv.writer()` creates an object with a `writerow` method, which takes a `list` and writes it out as a single CSV row."
   ]
  },
  {
   "cell_type": "code",
   "execution_count": null,
   "id": "db79160a",
   "metadata": {
    "execution": {
     "iopub.execute_input": "2023-10-30T03:57:50.557258Z",
     "iopub.status.busy": "2023-10-30T03:57:50.556969Z",
     "iopub.status.idle": "2023-10-30T03:57:50.562875Z",
     "shell.execute_reply": "2023-10-30T03:57:50.562217Z"
    },
    "slideshow": {
     "slide_type": "-"
    }
   },
   "outputs": [],
   "source": [
    "import csv\n",
    "data = [\n",
    "    ['11', 'Harry', 'Gryffindor', 'Brown'],\n",
    "    ['18', 'Draco', 'Slytherin', 'Blonde'],\n",
    "    ['22', 'Cho', 'Ravenclaw', 'Black'],\n",
    "    ['28', 'Ron', 'Gryffindor', 'Red'],\n",
    "    ['47', 'Hermione', 'Gryffindor', 'Brown']]\n",
    "\n",
    "with open('../../snippets/csv_example2.csv', 'w', newline='') as f:\n",
    "    writer = csv.writer(f, delimiter='|')\n",
    "    for d in data:\n",
    "        writer.writerow(d)\n",
    "        \n",
    "with open('../../snippets/csv_example2.csv', 'r') as f:\n",
    "    for line in f:\n",
    "        print(line, end='')"
   ]
  },
  {
   "cell_type": "markdown",
   "id": "f79043f9",
   "metadata": {
    "slideshow": {
     "slide_type": "subslide"
    }
   },
   "source": [
    "## How useful is this, really?\n",
    "\n",
    "Why use the `csv` module, when `split()` and `join()` calls are so easy?\n",
    "\n",
    "Well, it handles a lot of edge cases - for example, escaped delimiters within fields."
   ]
  },
  {
   "cell_type": "markdown",
   "id": "da013658",
   "metadata": {
    "slideshow": {
     "slide_type": "subslide"
    }
   },
   "source": [
    "Here's an example using `split()` and `join()`"
   ]
  },
  {
   "cell_type": "code",
   "execution_count": null,
   "id": "029d85ca",
   "metadata": {
    "execution": {
     "iopub.execute_input": "2023-10-30T03:57:50.566031Z",
     "iopub.status.busy": "2023-10-30T03:57:50.565771Z",
     "iopub.status.idle": "2023-10-30T03:57:50.571521Z",
     "shell.execute_reply": "2023-10-30T03:57:50.570765Z"
    },
    "slideshow": {
     "slide_type": "-"
    }
   },
   "outputs": [],
   "source": [
    "import csv\n",
    "data = [\n",
    "    ['11', 'Harry', 'Gryffindor', 'Brown,mostly'],\n",
    "    ['18', 'Draco', 'Slytherin', 'Blonde,mostly'],\n",
    "    ['22', 'Cho', 'Ravenclaw', 'Black,really'],\n",
    "    ['28', 'Ron', 'Gryffindor', 'Red,very'],\n",
    "    ['47', 'Hermione', 'Gryffindor', 'Brown']]\n",
    "\n",
    "with open('../../snippets/csv_example2.csv', 'w', newline='') as f:\n",
    "    for d in data:\n",
    "        f.write(','.join(d) + '\\n')\n",
    "        \n",
    "with open('../../snippets/csv_example2.csv', 'r') as f:\n",
    "    for line in f:\n",
    "        print(line.strip().split(','))"
   ]
  },
  {
   "cell_type": "markdown",
   "id": "08098063",
   "metadata": {
    "slideshow": {
     "slide_type": "subslide"
    }
   },
   "source": [
    "Here's the same example using the `csv` module"
   ]
  },
  {
   "cell_type": "code",
   "execution_count": null,
   "id": "7e06e2af",
   "metadata": {
    "execution": {
     "iopub.execute_input": "2023-10-30T03:57:50.574956Z",
     "iopub.status.busy": "2023-10-30T03:57:50.574642Z",
     "iopub.status.idle": "2023-10-30T03:57:50.580894Z",
     "shell.execute_reply": "2023-10-30T03:57:50.580328Z"
    }
   },
   "outputs": [],
   "source": [
    "import csv\n",
    "data = [\n",
    "    ['11', 'Harry', 'Gryffindor', 'Brown,mostly'],\n",
    "    ['18', 'Draco', 'Slytherin', 'Blonde,mostly'],\n",
    "    ['22', 'Cho', 'Ravenclaw', 'Black,really'],\n",
    "    ['28', 'Ron', 'Gryffindor', 'Red,very'],\n",
    "    ['47', 'Hermione', 'Gryffindor', 'Brown']]\n",
    "\n",
    "with open('../../snippets/csv_example2.csv', 'w', newline='') as f:\n",
    "    writer = csv.writer(f, delimiter=',')\n",
    "    for d in data:\n",
    "        writer.writerow(d)\n",
    "        \n",
    "with open('../../snippets/csv_example2.csv', 'r') as f:\n",
    "    reader = csv.reader(f, delimiter=',')\n",
    "    for line in reader:\n",
    "        print(line)"
   ]
  },
  {
   "cell_type": "markdown",
   "id": "0f001354",
   "metadata": {
    "slideshow": {
     "slide_type": "slide"
    }
   },
   "source": [
    "# JSON\n",
    "\n",
    "We know how to read and write strings, but what about other types - ints, floats, lists, dictionaries?\n",
    "\n",
    "Enter **JSON**: \"**J**ava**s**cript **O**bject **N**otation\". \n",
    "\n",
    "JSON is a **data exchange format**: a method of representing data as sequences of characters (strings) which can be interpreted by many programming languages.\n",
    "\n",
    "The JSON format can represent strings, ints, floats, booleans, lists, dictionaries, and `None`. "
   ]
  },
  {
   "cell_type": "markdown",
   "id": "ed66a45f",
   "metadata": {
    "slideshow": {
     "slide_type": "subslide"
    }
   },
   "source": [
    "A Python data structure:"
   ]
  },
  {
   "cell_type": "code",
   "execution_count": null,
   "id": "e2113a0e",
   "metadata": {
    "execution": {
     "iopub.execute_input": "2023-10-30T03:57:50.584217Z",
     "iopub.status.busy": "2023-10-30T03:57:50.583922Z",
     "iopub.status.idle": "2023-10-30T03:57:50.587398Z",
     "shell.execute_reply": "2023-10-30T03:57:50.586740Z"
    }
   },
   "outputs": [],
   "source": [
    "data = {\n",
    "    \"name\": \"John\",\n",
    "    \"age\": 30,\n",
    "    \"candy_preferences\": [\n",
    "        \"Reese's\",\n",
    "        \"Snickers\"\n",
    "    ]\n",
    "}"
   ]
  },
  {
   "cell_type": "markdown",
   "id": "52c3b9ca",
   "metadata": {},
   "source": [
    "This data structure can be represented as a string in JSON format (or: a \"JSON string\"):"
   ]
  },
  {
   "cell_type": "code",
   "execution_count": null,
   "id": "fcab7765",
   "metadata": {
    "execution": {
     "iopub.execute_input": "2023-10-30T03:57:50.590979Z",
     "iopub.status.busy": "2023-10-30T03:57:50.590613Z",
     "iopub.status.idle": "2023-10-30T03:57:50.597519Z",
     "shell.execute_reply": "2023-10-30T03:57:50.596886Z"
    }
   },
   "outputs": [],
   "source": [
    "'{\"name\":\"John\", \"age\":30, candy_preferences:[\"Reese\\'s\", \"Snickers\"]}'"
   ]
  },
  {
   "cell_type": "markdown",
   "id": "81cd070f",
   "metadata": {
    "slideshow": {
     "slide_type": "subslide"
    }
   },
   "source": [
    "## Why?\n",
    "\n",
    "This looks very similar to the way that Python prints data structures... why is this useful?\n",
    "\n",
    "JSON is not Python-specific. If you use a Python program to create a JSON string, it will be readable by many other programming languages.\n",
    "\n",
    "It's a **data exchange format**, and it's very commonly used."
   ]
  },
  {
   "cell_type": "markdown",
   "id": "355885ab",
   "metadata": {
    "slideshow": {
     "slide_type": ""
    }
   },
   "source": [
    "# JSON in Python\n",
    "\n",
    "Python has the `json` package, which contains utilities for reading and writing JSON."
   ]
  },
  {
   "cell_type": "code",
   "execution_count": null,
   "id": "13165af6",
   "metadata": {
    "execution": {
     "iopub.execute_input": "2023-10-30T03:57:50.600843Z",
     "iopub.status.busy": "2023-10-30T03:57:50.600553Z",
     "iopub.status.idle": "2023-10-30T03:57:50.605469Z",
     "shell.execute_reply": "2023-10-30T03:57:50.604807Z"
    }
   },
   "outputs": [],
   "source": [
    "import json\n",
    "mydata = {\n",
    "    \"numbers\": [1,2,3,4],\n",
    "    \"another number\": 2.75,\n",
    "    \"more dictionaries\": [{'a': 1, 'b': 2, 'c': 3}]\n",
    "}\n",
    "json.dumps(mydata)"
   ]
  },
  {
   "cell_type": "markdown",
   "id": "bfc41069",
   "metadata": {},
   "source": [
    "## dump / dumps\n",
    "\n",
    "The `dump` and `dumps` methods **serialize** data structures:\n",
    "* `json.dumps(<object>)` **serializes** a data structure to a string.  \n",
    "* `json.dump(<object>, <file object>)` **serializes** a data structure to a string and writes the string to a file.\n",
    "\n",
    "\"Serializing\" a data structure means converting it to a string (or bytes) representation.\n",
    "\n",
    "An easy way to remember the difference: The `s` on `dumps` actually stands for `string`."
   ]
  },
  {
   "cell_type": "markdown",
   "id": "01744b22",
   "metadata": {
    "slideshow": {
     "slide_type": "subslide"
    }
   },
   "source": [
    "## Pretty printing\n",
    "\n",
    "`json.dumps()` also takes an optional `indent` parameter. If specified, it will \"pretty print\" the JSON:"
   ]
  },
  {
   "cell_type": "code",
   "execution_count": null,
   "id": "def0c2d6",
   "metadata": {
    "execution": {
     "iopub.execute_input": "2023-10-30T03:57:50.608867Z",
     "iopub.status.busy": "2023-10-30T03:57:50.608587Z",
     "iopub.status.idle": "2023-10-30T03:57:50.612649Z",
     "shell.execute_reply": "2023-10-30T03:57:50.611876Z"
    }
   },
   "outputs": [],
   "source": [
    "import json\n",
    "mydata = {\n",
    "    \"numbers\": [1,2,3,4],\n",
    "    \"another number\": 2.75,\n",
    "    \"more dictionaries\": [{'a': 1, 'b': 2, 'c': 3}]\n",
    "}\n",
    "print(json.dumps(mydata, indent=4))"
   ]
  },
  {
   "cell_type": "markdown",
   "id": "cf20a42f",
   "metadata": {
    "slideshow": {
     "slide_type": "subslide"
    }
   },
   "source": [
    "## load / loads\n",
    "\n",
    "`load`/`loads` do the opposite of `dump`/`dumps`: they **parse** strings into data structures.\n",
    "* `json.loads(<str>)` **parses** a string into a data structure.  \n",
    "* `json.load(<file object>)` reads the contents of a file and **parses** it into a data structure."
   ]
  },
  {
   "cell_type": "code",
   "execution_count": null,
   "id": "3e5c6b41",
   "metadata": {
    "execution": {
     "iopub.execute_input": "2023-10-30T03:57:50.616088Z",
     "iopub.status.busy": "2023-10-30T03:57:50.615811Z",
     "iopub.status.idle": "2023-10-30T03:57:50.620602Z",
     "shell.execute_reply": "2023-10-30T03:57:50.620021Z"
    }
   },
   "outputs": [],
   "source": [
    "import json\n",
    "mydata = {\n",
    "    \"numbers\": [1,2,3,4],\n",
    "    \"another number\": 2.75,\n",
    "    \"more dictionaries\": [{'a': 1, 'b': 2, 'c': 3}]\n",
    "}\n",
    "with open('../../snippets/test.json', 'w') as f:\n",
    "    json.dump(mydata, f)\n",
    "\n",
    "with open('../../snippets/test.json', 'r') as f:\n",
    "    data = json.load(f)\n",
    "\n",
    "print(data)"
   ]
  },
  {
   "cell_type": "markdown",
   "id": "38c0acdc",
   "metadata": {
    "slideshow": {
     "slide_type": "slide"
    }
   },
   "source": [
    "## Exercise: Let's play around with some movie data\n",
    "\n",
    "You can grab data scraped from Wikipedia on movies, in JSON format, here: https://raw.githubusercontent.com/prust/wikipedia-movie-data/master/movies.json"
   ]
  },
  {
   "cell_type": "code",
   "execution_count": null,
   "id": "05b1053b",
   "metadata": {
    "execution": {
     "iopub.execute_input": "2023-10-30T03:57:50.623720Z",
     "iopub.status.busy": "2023-10-30T03:57:50.623428Z",
     "iopub.status.idle": "2023-10-30T03:57:51.007579Z",
     "shell.execute_reply": "2023-10-30T03:57:51.006665Z"
    },
    "slideshow": {
     "slide_type": "subslide"
    }
   },
   "outputs": [],
   "source": [
    "import json\n",
    "with open('../../snippets/movie_data.json', 'r') as f:\n",
    "    json_movies = json.load(f)\n",
    "print(f\"Loaded {len(json_movies)} movies\")"
   ]
  },
  {
   "cell_type": "code",
   "execution_count": null,
   "id": "f1e02e03",
   "metadata": {
    "execution": {
     "iopub.execute_input": "2023-10-30T03:57:51.011072Z",
     "iopub.status.busy": "2023-10-30T03:57:51.010746Z",
     "iopub.status.idle": "2023-10-30T03:57:51.015343Z",
     "shell.execute_reply": "2023-10-30T03:57:51.014752Z"
    }
   },
   "outputs": [],
   "source": [
    "print(json_movies[0])"
   ]
  },
  {
   "cell_type": "code",
   "execution_count": null,
   "id": "39698f77",
   "metadata": {
    "execution": {
     "iopub.execute_input": "2023-10-30T03:57:51.018236Z",
     "iopub.status.busy": "2023-10-30T03:57:51.017979Z",
     "iopub.status.idle": "2023-10-30T03:57:51.021787Z",
     "shell.execute_reply": "2023-10-30T03:57:51.021092Z"
    }
   },
   "outputs": [],
   "source": [
    "print(json.dumps(json_movies[-100], indent=2))"
   ]
  },
  {
   "cell_type": "markdown",
   "id": "f09b9fe9",
   "metadata": {
    "slideshow": {
     "slide_type": "subslide"
    }
   },
   "source": [
    "Cool! Let's print all the movies from a given year."
   ]
  },
  {
   "cell_type": "code",
   "execution_count": null,
   "id": "e9864e99",
   "metadata": {
    "execution": {
     "iopub.execute_input": "2023-10-30T03:57:51.025013Z",
     "iopub.status.busy": "2023-10-30T03:57:51.024764Z",
     "iopub.status.idle": "2023-10-30T03:57:51.036382Z",
     "shell.execute_reply": "2023-10-30T03:57:51.035606Z"
    }
   },
   "outputs": [],
   "source": [
    "year = 2013\n",
    "for movie in json_movies:\n",
    "    if movie['year'] == year:\n",
    "        print(movie['title'])"
   ]
  },
  {
   "cell_type": "markdown",
   "id": "f7abe359",
   "metadata": {
    "slideshow": {
     "slide_type": "subslide"
    }
   },
   "source": [
    "How about searching based on title? "
   ]
  },
  {
   "cell_type": "code",
   "execution_count": null,
   "id": "3709b5f6",
   "metadata": {
    "execution": {
     "iopub.execute_input": "2023-10-30T03:57:51.039771Z",
     "iopub.status.busy": "2023-10-30T03:57:51.039497Z",
     "iopub.status.idle": "2023-10-30T03:57:51.050557Z",
     "shell.execute_reply": "2023-10-30T03:57:51.049849Z"
    }
   },
   "outputs": [],
   "source": [
    "search_string = \"Freedom\"\n",
    "for movie in json_movies:\n",
    "    if search_string in movie['title']:\n",
    "        print(f\"{movie['title']} ({movie['year']})\")"
   ]
  },
  {
   "cell_type": "markdown",
   "id": "890ee938",
   "metadata": {
    "slideshow": {
     "slide_type": "subslide"
    }
   },
   "source": [
    "Ok how about a cast search? Find every movie that had certain cast member."
   ]
  },
  {
   "cell_type": "markdown",
   "id": "39942316",
   "metadata": {
    "slideshow": {
     "slide_type": "fragment"
    }
   },
   "source": [
    "Hm... There's a lot of structured data, and we're performing operations on it... what if we introduced a class or 2?"
   ]
  },
  {
   "cell_type": "code",
   "execution_count": null,
   "id": "696f9c54",
   "metadata": {
    "execution": {
     "iopub.execute_input": "2023-10-30T03:57:51.054653Z",
     "iopub.status.busy": "2023-10-30T03:57:51.054358Z",
     "iopub.status.idle": "2023-10-30T03:57:51.178497Z",
     "shell.execute_reply": "2023-10-30T03:57:51.177688Z"
    },
    "slideshow": {
     "slide_type": "subslide"
    }
   },
   "outputs": [],
   "source": [
    "class Movie:\n",
    "    def __init__(self, title, year, cast, genres):\n",
    "        self.title = title\n",
    "        self.year = year\n",
    "        self.cast = cast\n",
    "        self.genres = genres\n",
    "    \n",
    "movies = []\n",
    "for movie in json_movies:\n",
    "    movies.append(Movie(movie['title'], movie['year'], movie['cast'], movie['genres']))"
   ]
  },
  {
   "cell_type": "code",
   "execution_count": null,
   "id": "48df5c99",
   "metadata": {
    "execution": {
     "iopub.execute_input": "2023-10-30T03:57:51.182551Z",
     "iopub.status.busy": "2023-10-30T03:57:51.182217Z",
     "iopub.status.idle": "2023-10-30T03:57:51.186274Z",
     "shell.execute_reply": "2023-10-30T03:57:51.185481Z"
    }
   },
   "outputs": [],
   "source": [
    "print(movies[0])"
   ]
  },
  {
   "cell_type": "markdown",
   "id": "cb938ba9",
   "metadata": {
    "slideshow": {
     "slide_type": "subslide"
    }
   },
   "source": [
    "That's not a helpful print. "
   ]
  },
  {
   "cell_type": "code",
   "execution_count": null,
   "id": "9ab60eee",
   "metadata": {
    "execution": {
     "iopub.execute_input": "2023-10-30T03:57:51.190513Z",
     "iopub.status.busy": "2023-10-30T03:57:51.190186Z",
     "iopub.status.idle": "2023-10-30T03:57:51.330700Z",
     "shell.execute_reply": "2023-10-30T03:57:51.329751Z"
    }
   },
   "outputs": [],
   "source": [
    "class Movie:\n",
    "    def __init__(self, title, year, cast, genres):\n",
    "        self.title = title\n",
    "        self.year = year\n",
    "        self.cast = cast\n",
    "        self.genres = genres\n",
    "\n",
    "    def format(self):\n",
    "        return f\"{self.title} ({self.year})\"\n",
    "\n",
    "movies = []\n",
    "for movie in json_movies:\n",
    "    movies.append(Movie(movie['title'], movie['year'], movie['cast'], movie['genres']))"
   ]
  },
  {
   "cell_type": "code",
   "execution_count": null,
   "id": "7dfffd43",
   "metadata": {
    "execution": {
     "iopub.execute_input": "2023-10-30T03:57:51.334357Z",
     "iopub.status.busy": "2023-10-30T03:57:51.334066Z",
     "iopub.status.idle": "2023-10-30T03:57:51.337958Z",
     "shell.execute_reply": "2023-10-30T03:57:51.337151Z"
    }
   },
   "outputs": [],
   "source": [
    "print(movies[0].format())"
   ]
  },
  {
   "cell_type": "markdown",
   "id": "2ebcf776",
   "metadata": {
    "slideshow": {
     "slide_type": "subslide"
    }
   },
   "source": [
    "Back to our problem - cast search. Let's add a method to `Movie` to check whether a person was in the cast:"
   ]
  },
  {
   "cell_type": "code",
   "execution_count": null,
   "id": "6e63262d",
   "metadata": {
    "execution": {
     "iopub.execute_input": "2023-10-30T03:57:51.341306Z",
     "iopub.status.busy": "2023-10-30T03:57:51.341024Z",
     "iopub.status.idle": "2023-10-30T03:57:51.345862Z",
     "shell.execute_reply": "2023-10-30T03:57:51.344917Z"
    }
   },
   "outputs": [],
   "source": [
    "class Movie:\n",
    "    def __init__(self, title, year, cast, genres):\n",
    "        self.title = title\n",
    "        self.year = year\n",
    "        self.cast = cast\n",
    "        self.genres = genres\n",
    "\n",
    "    def format(self):\n",
    "        return f\"{self.title} ({self.year})\"\n",
    "    \n",
    "    def cast_contained(self, name):\n",
    "        return name in self.cast"
   ]
  },
  {
   "cell_type": "markdown",
   "id": "e2902f04",
   "metadata": {
    "slideshow": {
     "slide_type": "subslide"
    }
   },
   "source": [
    "Let's test it!"
   ]
  },
  {
   "cell_type": "code",
   "execution_count": null,
   "id": "5561c4d4",
   "metadata": {
    "execution": {
     "iopub.execute_input": "2023-10-30T03:57:51.349084Z",
     "iopub.status.busy": "2023-10-30T03:57:51.348820Z",
     "iopub.status.idle": "2023-10-30T03:57:51.352753Z",
     "shell.execute_reply": "2023-10-30T03:57:51.351946Z"
    }
   },
   "outputs": [],
   "source": [
    "movie = Movie(\n",
    "    \"Best Movie\", \n",
    "    2023, \n",
    "    [\"Joe Delfino\", \"Spongebob Squarepants\", \"Michael J. Fox\"], \n",
    "    [\"genre1\", \"genre2\"])\n",
    "\n",
    "print(movie.cast_contained(\"Joe Delfino\"))\n",
    "print(movie.cast_contained(\"Christopher Walken\"))"
   ]
  },
  {
   "cell_type": "markdown",
   "id": "711f2c49",
   "metadata": {
    "slideshow": {
     "slide_type": "subslide"
    }
   },
   "source": [
    "Now we can use that to build our cast search:"
   ]
  },
  {
   "cell_type": "code",
   "execution_count": null,
   "id": "6bda872e",
   "metadata": {
    "execution": {
     "iopub.execute_input": "2023-10-30T03:57:51.356633Z",
     "iopub.status.busy": "2023-10-30T03:57:51.356294Z",
     "iopub.status.idle": "2023-10-30T03:57:51.481178Z",
     "shell.execute_reply": "2023-10-30T03:57:51.480098Z"
    }
   },
   "outputs": [],
   "source": [
    "movies = []\n",
    "for movie in json_movies:\n",
    "    movies.append(Movie(movie['title'], movie['year'], movie['cast'], movie['genres']))"
   ]
  },
  {
   "cell_type": "code",
   "execution_count": null,
   "id": "396e60be",
   "metadata": {
    "execution": {
     "iopub.execute_input": "2023-10-30T03:57:51.485212Z",
     "iopub.status.busy": "2023-10-30T03:57:51.484861Z",
     "iopub.status.idle": "2023-10-30T03:57:51.500909Z",
     "shell.execute_reply": "2023-10-30T03:57:51.500120Z"
    }
   },
   "outputs": [],
   "source": [
    "person = \"Christopher Walken\"\n",
    "for movie in movies:\n",
    "    if movie.cast_contained(person):\n",
    "        print(movie.format())"
   ]
  },
  {
   "cell_type": "markdown",
   "id": "f2e0c443",
   "metadata": {
    "slideshow": {
     "slide_type": "subslide"
    }
   },
   "source": [
    "What about a container class to hold all our movies, and encapsulate some of these searching methods?"
   ]
  },
  {
   "cell_type": "code",
   "execution_count": null,
   "id": "41aa35a8",
   "metadata": {
    "execution": {
     "iopub.execute_input": "2023-10-30T03:57:51.505907Z",
     "iopub.status.busy": "2023-10-30T03:57:51.505034Z",
     "iopub.status.idle": "2023-10-30T03:57:51.511799Z",
     "shell.execute_reply": "2023-10-30T03:57:51.510752Z"
    }
   },
   "outputs": [],
   "source": [
    "class MovieCatalog:\n",
    "    def __init__(self):\n",
    "        self.movies = []\n",
    "        \n",
    "    def add_movie(self, movie):\n",
    "        self.movies.append(movie)\n",
    "    \n",
    "    def cast_search(self, person):\n",
    "        matches = []\n",
    "        for movie in self.movies:\n",
    "            if movie.cast_contained(person):\n",
    "                matches.append(movie)\n",
    "        return matches\n",
    "    \n",
    "def load_movie_catalog(filename):\n",
    "    with open(filename, 'r') as f:\n",
    "        json_movies = json.load(f)\n",
    "\n",
    "    cat = MovieCatalog()\n",
    "    for json_movie in json_movies:\n",
    "        cat.add_movie(Movie(json_movie['title'], json_movie['year'], json_movie['cast'], json_movie['genres']))\n",
    "    return cat"
   ]
  },
  {
   "cell_type": "code",
   "execution_count": null,
   "id": "90dcd8c3",
   "metadata": {
    "execution": {
     "iopub.execute_input": "2023-10-30T03:57:51.515469Z",
     "iopub.status.busy": "2023-10-30T03:57:51.515143Z",
     "iopub.status.idle": "2023-10-30T03:57:52.079164Z",
     "shell.execute_reply": "2023-10-30T03:57:52.078270Z"
    },
    "slideshow": {
     "slide_type": "subslide"
    }
   },
   "outputs": [],
   "source": [
    "cat = load_movie_catalog('../../snippets/movie_data.json')\n",
    "\n",
    "matches = cat.cast_search(\"Christopher Walken\")\n",
    "for match in matches:\n",
    "    print(match.format())"
   ]
  },
  {
   "cell_type": "markdown",
   "id": "dce68622",
   "metadata": {
    "slideshow": {
     "slide_type": "subslide"
    }
   },
   "source": [
    "We can re-write `cast_search` with a list comprehension:"
   ]
  },
  {
   "cell_type": "code",
   "execution_count": null,
   "id": "63416119",
   "metadata": {
    "execution": {
     "iopub.execute_input": "2023-10-30T03:57:52.083227Z",
     "iopub.status.busy": "2023-10-30T03:57:52.082901Z",
     "iopub.status.idle": "2023-10-30T03:57:52.087546Z",
     "shell.execute_reply": "2023-10-30T03:57:52.086733Z"
    }
   },
   "outputs": [],
   "source": [
    "class MovieCatalog:\n",
    "    def __init__(self):\n",
    "        self.movies = []\n",
    "        \n",
    "    def add_movie(self, movie):\n",
    "        self.movies.append(movie)\n",
    "    \n",
    "    def cast_search(self, person):\n",
    "        return [m for m in self.movies if m.cast_contained(person)]    "
   ]
  },
  {
   "cell_type": "markdown",
   "id": "470b20a7",
   "metadata": {
    "slideshow": {
     "slide_type": "subslide"
    }
   },
   "source": [
    "## JSON and Classes: Best buds\n",
    "\n",
    "JSON data and classes often go well together - classes can capture the structure of the data, and let you define operations to perform on it."
   ]
  },
  {
   "cell_type": "markdown",
   "id": "e943b144",
   "metadata": {
    "slideshow": {
     "slide_type": "subslide"
    }
   },
   "source": [
    "## Final movie code\n",
    "\n",
    "Including `MovieCatalog` methods for title/year search."
   ]
  },
  {
   "cell_type": "code",
   "execution_count": null,
   "id": "25e9d31d",
   "metadata": {
    "execution": {
     "iopub.execute_input": "2023-10-30T03:57:52.091422Z",
     "iopub.status.busy": "2023-10-30T03:57:52.091115Z",
     "iopub.status.idle": "2023-10-30T03:57:52.100477Z",
     "shell.execute_reply": "2023-10-30T03:57:52.099642Z"
    }
   },
   "outputs": [],
   "source": [
    "class Movie:\n",
    "    def __init__(self, title, year, cast, genres):\n",
    "        self.title = title\n",
    "        self.year = year\n",
    "        self.cast = cast\n",
    "        self.genres = genres\n",
    "\n",
    "    def __str__(self):\n",
    "        return f\"{self.title} ({self.year})\"\n",
    "    \n",
    "    def cast_contained(self, name):\n",
    "        return name in self.cast\n",
    "    \n",
    "    \n",
    "class MovieCatalog:\n",
    "    def __init__(self):\n",
    "        self.movies = []\n",
    "        \n",
    "    def add_movie(self, movie):\n",
    "        self.movies.append(movie)\n",
    "    \n",
    "    def cast_search(self, person):\n",
    "        return [m for m in self.movies if m.cast_contained(person)]    \n",
    "    \n",
    "    def title_search(self, value):\n",
    "        return [m for m in self.movies if value in m.title]\n",
    "    \n",
    "    def year_search(self, year):\n",
    "        return [m for m in self.movies if m.year == year]\n",
    "    \n",
    "    \n",
    "def load_movie_catalog(filename):\n",
    "    with open(filename, 'r') as f:\n",
    "        json_movies = json.load(f)\n",
    "\n",
    "    cat = MovieCatalog()\n",
    "    for json_movie in json_movies:\n",
    "        cat.add_movie(Movie(json_movie['title'], json_movie['year'], json_movie['cast'], json_movie['genres']))\n",
    "    return cat    "
   ]
  }
 ],
 "metadata": {
  "celltoolbar": "Slideshow",
  "kernelspec": {
   "display_name": "Python 3 (ipykernel)",
   "language": "python",
   "name": "python3"
  },
  "language_info": {
   "codemirror_mode": {
    "name": "ipython",
    "version": 3
   },
   "file_extension": ".py",
   "mimetype": "text/x-python",
   "name": "python",
   "nbconvert_exporter": "python",
   "pygments_lexer": "ipython3",
   "version": "3.10.9"
  }
 },
 "nbformat": 4,
 "nbformat_minor": 5
}
