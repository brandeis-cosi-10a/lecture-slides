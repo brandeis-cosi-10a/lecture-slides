{
 "cells": [
  {
   "cell_type": "markdown",
   "id": "1ee8a1d2",
   "metadata": {
    "slideshow": {
     "slide_type": "slide"
    }
   },
   "source": [
    "# File Input/Output, JSON, CSVs\n",
    "\n",
    "<style>\n",
    "section.present > section.present { \n",
    "    max-height: 90%; \n",
    "    overflow-y: scroll;\n",
    "}\n",
    "</style>\n",
    "\n",
    "<small><a href=\"https://colab.research.google.com/github/brandeis-jdelfino/cosi-10a/blob/main/lectures/notebooks/12_file_io.ipynb\">Link to interactive slides on Google Colab</a></small>"
   ]
  },
  {
   "cell_type": "markdown",
   "id": "91487a63",
   "metadata": {},
   "source": [
    "To add: file path overview (at least cover `/` and `..`)"
   ]
  },
  {
   "cell_type": "markdown",
   "id": "5169b53d",
   "metadata": {
    "slideshow": {
     "slide_type": "slide"
    }
   },
   "source": [
    "# Reading files\n",
    "\n",
    "Python allows you to read the contents of files:"
   ]
  },
  {
   "cell_type": "code",
   "execution_count": null,
   "id": "09399bfb",
   "metadata": {
    "execution": {
     "iopub.execute_input": "2023-07-20T15:40:09.722703Z",
     "iopub.status.busy": "2023-07-20T15:40:09.722367Z",
     "iopub.status.idle": "2023-07-20T15:40:09.739161Z",
     "shell.execute_reply": "2023-07-20T15:40:09.738302Z"
    }
   },
   "outputs": [],
   "source": [
    "f = open('../../snippets/names.txt')\n",
    "print(f.read())"
   ]
  },
  {
   "cell_type": "markdown",
   "id": "14a564ba",
   "metadata": {
    "slideshow": {
     "slide_type": "subslide"
    }
   },
   "source": [
    "You can also get the data one line at a a time:"
   ]
  },
  {
   "cell_type": "code",
   "execution_count": null,
   "id": "7e2e5bb2",
   "metadata": {
    "execution": {
     "iopub.execute_input": "2023-07-20T15:40:09.743757Z",
     "iopub.status.busy": "2023-07-20T15:40:09.743419Z",
     "iopub.status.idle": "2023-07-20T15:40:09.747951Z",
     "shell.execute_reply": "2023-07-20T15:40:09.747272Z"
    }
   },
   "outputs": [],
   "source": [
    "f = open('../../snippets/names.txt')\n",
    "for line in f:\n",
    "    print(line, end='')"
   ]
  },
  {
   "cell_type": "markdown",
   "id": "8156b975",
   "metadata": {},
   "source": [
    "Note the `end=''` for the `print`. When reading a file, the newlines from the file are returned. You can strip them out with the `strip()` string method, depending on how you want to use the data."
   ]
  },
  {
   "cell_type": "code",
   "execution_count": null,
   "id": "ec054b09",
   "metadata": {
    "execution": {
     "iopub.execute_input": "2023-07-20T15:40:09.751440Z",
     "iopub.status.busy": "2023-07-20T15:40:09.751163Z",
     "iopub.status.idle": "2023-07-20T15:40:09.755179Z",
     "shell.execute_reply": "2023-07-20T15:40:09.754480Z"
    },
    "slideshow": {
     "slide_type": "subslide"
    }
   },
   "outputs": [],
   "source": [
    "f = open('../../snippets/names.txt')\n",
    "for line in f:\n",
    "    print(f\"Name: {line.strip()}\")"
   ]
  },
  {
   "cell_type": "markdown",
   "id": "4a1128bc",
   "metadata": {},
   "source": [
    "## File objects\n",
    "\n",
    "`open()` returns a file object. File objects have a number of methods, and are also **iterables**, as we just saw."
   ]
  },
  {
   "cell_type": "markdown",
   "id": "3a8ef820",
   "metadata": {},
   "source": [
    "# Writing Files\n",
    "\n",
    "You can write strings to files also:"
   ]
  },
  {
   "cell_type": "code",
   "execution_count": null,
   "id": "8df33eb0",
   "metadata": {
    "execution": {
     "iopub.execute_input": "2023-07-20T15:40:09.758510Z",
     "iopub.status.busy": "2023-07-20T15:40:09.758247Z",
     "iopub.status.idle": "2023-07-20T15:40:09.763005Z",
     "shell.execute_reply": "2023-07-20T15:40:09.762443Z"
    }
   },
   "outputs": [],
   "source": [
    "f = open('../../snippets/output.txt', 'w')\n",
    "f.write(\"Hello, files!\")\n",
    "f.close()\n",
    "\n",
    "g = open('../../snippets/output.txt', 'r')\n",
    "print(f\"File contents: {g.read()}\")"
   ]
  },
  {
   "cell_type": "markdown",
   "id": "9384b03b",
   "metadata": {
    "slideshow": {
     "slide_type": "subslide"
    }
   },
   "source": [
    "## File modes\n",
    "\n",
    "Notice that we called `open` slightly differently for writing vs. reading:\n",
    "\n",
    "`open('../../snippets/output.txt', 'w')`  \n",
    "vs.  \n",
    "`open('../../snippets/output.txt', 'r')`\n",
    "\n",
    "The second paramater is the \"mode\". There are several modes, but the most commonly useful are:\n",
    "\n",
    "| character | mode |\n",
    "|:---:|:---|\n",
    "| r | open for reading (default) |\n",
    "| w | open for writing, truncating the file first |\n",
    "| a | open for writing, appending to the end of file if it exists |"
   ]
  },
  {
   "cell_type": "markdown",
   "id": "ec99d3c7",
   "metadata": {
    "slideshow": {
     "slide_type": "subslide"
    }
   },
   "source": [
    "## Closing files\n",
    "\n",
    "Files need to be closed when they are no longer needed. \n",
    "\n",
    "We did it above with the `.close()` method.\n",
    "\n",
    "This is especially important when writing, because data is sometimes not actually written to the file until `close()` is called!"
   ]
  },
  {
   "cell_type": "code",
   "execution_count": null,
   "id": "891c1dbf",
   "metadata": {
    "execution": {
     "iopub.execute_input": "2023-07-20T15:40:09.766006Z",
     "iopub.status.busy": "2023-07-20T15:40:09.765772Z",
     "iopub.status.idle": "2023-07-20T15:40:09.769571Z",
     "shell.execute_reply": "2023-07-20T15:40:09.769058Z"
    }
   },
   "outputs": [],
   "source": [
    "f = open('../../snippets/output.txt', 'w')\n",
    "f.write(\"Hello, files!\")\n",
    "\n",
    "g = open('../../snippets/output.txt', 'r')\n",
    "print(f\"File contents: {g.read()}\")"
   ]
  },
  {
   "cell_type": "markdown",
   "id": "6d6a787f",
   "metadata": {
    "slideshow": {
     "slide_type": "slide"
    }
   },
   "source": [
    "## `with`\n",
    "\n",
    "There's a convenient way to ensure you don't forget to close a file: a `with` clause."
   ]
  },
  {
   "cell_type": "code",
   "execution_count": null,
   "id": "6902e747",
   "metadata": {
    "execution": {
     "iopub.execute_input": "2023-07-20T15:40:09.772707Z",
     "iopub.status.busy": "2023-07-20T15:40:09.772446Z",
     "iopub.status.idle": "2023-07-20T15:40:09.776754Z",
     "shell.execute_reply": "2023-07-20T15:40:09.776128Z"
    }
   },
   "outputs": [],
   "source": [
    "with open('../../snippets/names.txt', 'r') as f:\n",
    "    print(f\"File closed before for loop? {f.closed}\")\n",
    "    \n",
    "    for line in f:\n",
    "        print(line, end='')\n",
    "    \n",
    "    print(f\"File closed inside after for loop? {f.closed}\")\n",
    "\n",
    "print(f\"File closed at end? {f.closed}\")"
   ]
  },
  {
   "cell_type": "markdown",
   "id": "02d8f99d",
   "metadata": {},
   "source": [
    "This code opens the file, assigns the file object to `f`, executes the code inside the `with` block, then automatically closes the file when exiting the `with` block."
   ]
  },
  {
   "cell_type": "markdown",
   "id": "1f344c65",
   "metadata": {
    "slideshow": {
     "slide_type": "subslide"
    }
   },
   "source": [
    "## Context managers\n",
    "\n",
    "File objects are **context managers**, which means they can be used with the `with` statement to manage resources automatically when entering and exiting a `with` block.\n",
    "\n",
    "There are other context managers in Python, and you can even [write your own](https://docs.python.org/3/reference/datamodel.html#context-managers). \n",
    "\n",
    "It's good practice to handle file objects with `with` rather than closing manually."
   ]
  },
  {
   "cell_type": "markdown",
   "id": "0f001354",
   "metadata": {
    "slideshow": {
     "slide_type": "slide"
    }
   },
   "source": [
    "# JSON\n",
    "\n",
    "We know how to read and write strings, but what about other types - ints, floats, lists, dictionaries?\n",
    "\n",
    "Python has the `json` package, which contains utilities for reading and writing **JSON**.\n",
    "\n",
    "JSON stands for \"JavaScript Object Notation\". It is a very popular, widely used data exchange format. If you need to store structured data, it's a good default choice.\n",
    "\n",
    "JSON can represent strings, ints, floats, booleans, lists, dictionaries, and `None`."
   ]
  },
  {
   "cell_type": "code",
   "execution_count": null,
   "id": "13165af6",
   "metadata": {
    "execution": {
     "iopub.execute_input": "2023-07-20T15:40:09.779792Z",
     "iopub.status.busy": "2023-07-20T15:40:09.779554Z",
     "iopub.status.idle": "2023-07-20T15:40:09.786232Z",
     "shell.execute_reply": "2023-07-20T15:40:09.785553Z"
    }
   },
   "outputs": [],
   "source": [
    "import json\n",
    "mydata = {\n",
    "    \"numbers\": [1,2,3,4],\n",
    "    \"another number\": 2.75,\n",
    "    \"more dictionaries\": [{'a': 1, 'b': 2, 'c': 3}]\n",
    "}\n",
    "json.dumps(mydata)"
   ]
  },
  {
   "cell_type": "markdown",
   "id": "bfc41069",
   "metadata": {},
   "source": [
    "## dump / dumps\n",
    "\n",
    "The `dump` and `dumps` methods **serialize** data structures:\n",
    "* `json.dumps(<object>)` **serializes** a data structure to a string.  \n",
    "* `json.dump(<object>, <file object>)` **serializes** a data structure to a string and writes the string to a file.\n",
    "\n",
    "\"Serializing\" a data structure means converting it to a string (or bytes) representation.\n",
    "\n",
    "An easy way to remember the difference: The `s` on `dumps` actually stands for `string`."
   ]
  },
  {
   "cell_type": "markdown",
   "id": "01744b22",
   "metadata": {
    "slideshow": {
     "slide_type": "subslide"
    }
   },
   "source": [
    "## Pretty printing\n",
    "\n",
    "`json.dumps()` also takes an optional `indent` parameter. If specified, it will \"pretty print\" the JSON:"
   ]
  },
  {
   "cell_type": "code",
   "execution_count": null,
   "id": "def0c2d6",
   "metadata": {
    "execution": {
     "iopub.execute_input": "2023-07-20T15:40:09.789638Z",
     "iopub.status.busy": "2023-07-20T15:40:09.789368Z",
     "iopub.status.idle": "2023-07-20T15:40:09.793285Z",
     "shell.execute_reply": "2023-07-20T15:40:09.792768Z"
    }
   },
   "outputs": [],
   "source": [
    "import json\n",
    "mydata = {\n",
    "    \"numbers\": [1,2,3,4],\n",
    "    \"another number\": 2.75,\n",
    "    \"more dictionaries\": [{'a': 1, 'b': 2, 'c': 3}]\n",
    "}\n",
    "print(json.dumps(mydata, indent=4))"
   ]
  },
  {
   "cell_type": "markdown",
   "id": "cf20a42f",
   "metadata": {
    "slideshow": {
     "slide_type": "subslide"
    }
   },
   "source": [
    "## load / loads\n",
    "\n",
    "`load`/`loads` do the opposite of `dump`/`dumps`: they **parse** strings into data structures.\n",
    "* `json.loads(<str>)` **parses** a string into a data structure.  \n",
    "* `json.load(<file object>)` reads the contents of a file and **parses** it into a data structure."
   ]
  },
  {
   "cell_type": "code",
   "execution_count": null,
   "id": "3e5c6b41",
   "metadata": {
    "execution": {
     "iopub.execute_input": "2023-07-20T15:40:09.796404Z",
     "iopub.status.busy": "2023-07-20T15:40:09.796148Z",
     "iopub.status.idle": "2023-07-20T15:40:09.801529Z",
     "shell.execute_reply": "2023-07-20T15:40:09.800891Z"
    }
   },
   "outputs": [],
   "source": [
    "import json\n",
    "mydata = {\n",
    "    \"numbers\": [1,2,3,4],\n",
    "    \"another number\": 2.75,\n",
    "    \"more dictionaries\": [{'a': 1, 'b': 2, 'c': 3}]\n",
    "}\n",
    "with open('../../snippets/test.json', 'w') as f:\n",
    "    json.dump(mydata, f)\n",
    "\n",
    "with open('../../snippets/test.json', 'r') as f:\n",
    "    data = json.load(f)\n",
    "\n",
    "print(data)"
   ]
  },
  {
   "cell_type": "markdown",
   "id": "4aa111a0",
   "metadata": {
    "slideshow": {
     "slide_type": "slide"
    }
   },
   "source": [
    "# CSV files\n",
    "\n",
    "CSV stands for \"character separated values\". \n",
    "\n",
    "In CSV files, rows of data are represented by lines in a file, and columns of data are separated by a specific character, called a **delimiter**. Commas (`,`) are commonly used as a delimiter, but any character can be a delimiter.\n",
    "\n",
    "CSV files are another common way to store structured data, especially if the data is tabular (like a spreadsheet).\n",
    "\n",
    "Here's an example of CSV data. Each line contains 4 fields: `id`, `name`, `house`, `hair color`:"
   ]
  },
  {
   "cell_type": "code",
   "execution_count": null,
   "id": "5fe876c9",
   "metadata": {
    "execution": {
     "iopub.execute_input": "2023-07-20T15:40:09.804693Z",
     "iopub.status.busy": "2023-07-20T15:40:09.804441Z",
     "iopub.status.idle": "2023-07-20T15:40:09.808588Z",
     "shell.execute_reply": "2023-07-20T15:40:09.807843Z"
    }
   },
   "outputs": [],
   "source": [
    "with open('../../snippets/csv_example.csv', 'r') as f:\n",
    "    for line in f:\n",
    "        print(line, end='')"
   ]
  },
  {
   "cell_type": "markdown",
   "id": "ac58d7aa",
   "metadata": {
    "slideshow": {
     "slide_type": "subslide"
    }
   },
   "source": [
    "## Reading CSVs\n",
    "\n",
    "We could just use `.split(',')` to split each line into a list. But Python provides some nice CSV utilities in the `csv` module.\n",
    "\n",
    "`csv.reader()` creates an iterable object that produces each line as a list."
   ]
  },
  {
   "cell_type": "code",
   "execution_count": null,
   "id": "7ae5a1e0",
   "metadata": {
    "execution": {
     "iopub.execute_input": "2023-07-20T15:40:09.811703Z",
     "iopub.status.busy": "2023-07-20T15:40:09.811450Z",
     "iopub.status.idle": "2023-07-20T15:40:09.815508Z",
     "shell.execute_reply": "2023-07-20T15:40:09.814889Z"
    }
   },
   "outputs": [],
   "source": [
    "import csv\n",
    "with open('../../snippets/csv_example.csv', 'r') as f:\n",
    "    reader = csv.reader(f, delimiter=',')\n",
    "    for line in reader:\n",
    "        print(line)"
   ]
  },
  {
   "cell_type": "markdown",
   "id": "19f39836",
   "metadata": {
    "slideshow": {
     "slide_type": "subslide"
    }
   },
   "source": [
    "## Writing CSVs\n",
    "\n",
    "`csv.writer()` creates an object with a `writerow` method, which takes a `list` and writes it out as a single CSV row."
   ]
  },
  {
   "cell_type": "code",
   "execution_count": null,
   "id": "db79160a",
   "metadata": {
    "execution": {
     "iopub.execute_input": "2023-07-20T15:40:09.818527Z",
     "iopub.status.busy": "2023-07-20T15:40:09.818273Z",
     "iopub.status.idle": "2023-07-20T15:40:09.823538Z",
     "shell.execute_reply": "2023-07-20T15:40:09.822933Z"
    },
    "slideshow": {
     "slide_type": "-"
    }
   },
   "outputs": [],
   "source": [
    "import csv\n",
    "data = [\n",
    "    ['11', 'Harry', 'Gryffindor', 'Brown'],\n",
    "    ['18', 'Draco', 'Slytherin', 'Blonde'],\n",
    "    ['22', 'Cho', 'Ravenclaw', 'Black'],\n",
    "    ['28', 'Ron', 'Gryffindor', 'Red'],\n",
    "    ['47', 'Hermione', 'Gryffindor', 'Brown']]\n",
    "\n",
    "with open('../../snippets/csv_example2.csv', 'w', newline='') as f:\n",
    "    writer = csv.writer(f, delimiter='|')\n",
    "    for d in data:\n",
    "        writer.writerow(d)\n",
    "        \n",
    "with open('../../snippets/csv_example2.csv', 'r') as f:\n",
    "    for line in f:\n",
    "        print(line, end='')"
   ]
  },
  {
   "cell_type": "markdown",
   "id": "f79043f9",
   "metadata": {
    "slideshow": {
     "slide_type": "subslide"
    }
   },
   "source": [
    "## How useful is this, really?\n",
    "\n",
    "Why use the `csv` module, when `split()` and `join()` calls are so easy? It handles a lot of edge cases - for example, escaped delimiters within fields."
   ]
  },
  {
   "cell_type": "code",
   "execution_count": null,
   "id": "029d85ca",
   "metadata": {
    "execution": {
     "iopub.execute_input": "2023-07-20T15:40:09.826738Z",
     "iopub.status.busy": "2023-07-20T15:40:09.826475Z",
     "iopub.status.idle": "2023-07-20T15:40:09.832017Z",
     "shell.execute_reply": "2023-07-20T15:40:09.831329Z"
    }
   },
   "outputs": [],
   "source": [
    "import csv\n",
    "data = [\n",
    "    ['11', 'Harry', 'Gryffindor', 'Brown,mostly'],\n",
    "    ['18', 'Draco', 'Slytherin', 'Blonde,mostly'],\n",
    "    ['22', 'Cho', 'Ravenclaw', 'Black,really'],\n",
    "    ['28', 'Ron', 'Gryffindor', 'Red,very'],\n",
    "    ['47', 'Hermione', 'Gryffindor', 'Brown']]\n",
    "\n",
    "with open('../../snippets/csv_example2.csv', 'w', newline='') as f:\n",
    "    writer = csv.writer(f, delimiter=',')\n",
    "    for d in data:\n",
    "        writer.writerow(d)\n",
    "        \n",
    "with open('../../snippets/csv_example2.csv', 'r') as f:\n",
    "    for line in f:\n",
    "        print(line, end='')"
   ]
  }
 ],
 "metadata": {
  "celltoolbar": "Slideshow",
  "kernelspec": {
   "display_name": "Python 3 (ipykernel)",
   "language": "python",
   "name": "python3"
  },
  "language_info": {
   "codemirror_mode": {
    "name": "ipython",
    "version": 3
   },
   "file_extension": ".py",
   "mimetype": "text/x-python",
   "name": "python",
   "nbconvert_exporter": "python",
   "pygments_lexer": "ipython3",
   "version": "3.10.9"
  }
 },
 "nbformat": 4,
 "nbformat_minor": 5
}
