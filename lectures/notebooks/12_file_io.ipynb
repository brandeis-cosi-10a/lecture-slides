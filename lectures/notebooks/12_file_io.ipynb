{
 "cells": [
  {
   "cell_type": "markdown",
   "id": "1ee8a1d2",
   "metadata": {
    "slideshow": {
     "slide_type": "slide"
    }
   },
   "source": [
    "# File Input/Output, CSVs\n",
    "\n",
    "<style>\n",
    "section.present > section.present { \n",
    "    max-height: 90%; \n",
    "    overflow-y: scroll;\n",
    "}\n",
    "</style>\n",
    "\n",
    "<small><a href=\"https://colab.research.google.com/github/brandeis-jdelfino/cosi-10a/blob/main/lectures/notebooks/12_file_io.ipynb\">Link to interactive slides on Google Colab</a></small>"
   ]
  },
  {
   "cell_type": "markdown",
   "id": "5169b53d",
   "metadata": {
    "slideshow": {
     "slide_type": "slide"
    }
   },
   "source": [
    "# Reading files\n",
    "\n",
    "Python allows you to read the contents of files:"
   ]
  },
  {
   "cell_type": "code",
   "execution_count": null,
   "id": "09399bfb",
   "metadata": {
    "execution": {
     "iopub.execute_input": "2023-11-06T19:07:57.309633Z",
     "iopub.status.busy": "2023-11-06T19:07:57.309178Z",
     "iopub.status.idle": "2023-11-06T19:07:57.319479Z",
     "shell.execute_reply": "2023-11-06T19:07:57.318771Z"
    }
   },
   "outputs": [],
   "source": [
    "f = open('../../snippets/names.txt')\n",
    "print(f.read())"
   ]
  },
  {
   "cell_type": "markdown",
   "id": "ad1f2a3e",
   "metadata": {
    "slideshow": {
     "slide_type": "slide"
    }
   },
   "source": [
    "# But first: Understanding file paths\n",
    "\n",
    "Files are stored in a big tree of nested directories, each of which can contain files and/or other directories. \n",
    "\n",
    "A directory that contains another directory is called a \"parent\" directory. \n",
    "\n",
    "The \"root\" directory is the (eventual) parent of all files and directories.\n",
    "\n",
    "The \"working\" directory is the directory you are currently working in. Every program or command that runs has a \"working\" directory."
   ]
  },
  {
   "cell_type": "markdown",
   "id": "44fd0d12",
   "metadata": {
    "slideshow": {
     "slide_type": "subslide"
    }
   },
   "source": [
    "## File path syntax\n",
    "\n",
    "Special characters:\n",
    "* `/`: directory separator\n",
    "* `..`: parent directory\n",
    "* `.`: current directory\n",
    "* `~`: your home directory\n",
    "* `*`: wildcard, match any characters"
   ]
  },
  {
   "cell_type": "markdown",
   "id": "3b3ca8cc",
   "metadata": {
    "slideshow": {
     "slide_type": "subslide"
    }
   },
   "source": [
    "## Absolute vs. relative file paths\n",
    "\n",
    "File paths that start with `/` are \"absolute\", meaning they are interpreted relative to the root directory.\n",
    "\n",
    "File paths that do not start with `/` are \"relative\", and are interpreted relative to the current working directory."
   ]
  },
  {
   "cell_type": "markdown",
   "id": "4e4e5803",
   "metadata": {
    "slideshow": {
     "slide_type": "subslide"
    }
   },
   "source": [
    "## Examples\n",
    "* `/Users/jdelfino/stuff/smile.txt` \n",
    "   * the file `smile.txt` found in the directory `/Users/jdelfino/stuff`  \n",
    "* `stuff/smile.txt`\n",
    "   * the file `smile.txt`, in the `stuff` directory, in the current working directory  \n",
    "* `../smile.txt`\n",
    "   * the file `smile.txt` found in the parent directory of the current working directory  \n",
    "* `./*.txt` or `*.txt`\n",
    "   * all files with the `.txt` extension in the current working directory  \n",
    "* `../*.txt`\n",
    "   * all files with the `.txt` extension found in the parent directory of the current working directory  \n"
   ]
  },
  {
   "cell_type": "markdown",
   "id": "a466138e",
   "metadata": {
    "slideshow": {
     "slide_type": "slide"
    }
   },
   "source": [
    "# Reading files\n",
    "\n",
    "Python allows you to read the contents of files:"
   ]
  },
  {
   "cell_type": "code",
   "execution_count": null,
   "id": "444e4d6f",
   "metadata": {
    "execution": {
     "iopub.execute_input": "2023-11-06T19:07:57.323725Z",
     "iopub.status.busy": "2023-11-06T19:07:57.323345Z",
     "iopub.status.idle": "2023-11-06T19:07:57.328279Z",
     "shell.execute_reply": "2023-11-06T19:07:57.327585Z"
    }
   },
   "outputs": [],
   "source": [
    "f = open('../../snippets/names.txt')\n",
    "print(f.read())"
   ]
  },
  {
   "cell_type": "markdown",
   "id": "14a564ba",
   "metadata": {
    "slideshow": {
     "slide_type": "subslide"
    }
   },
   "source": [
    "You can also get the data one line at a a time:"
   ]
  },
  {
   "cell_type": "code",
   "execution_count": null,
   "id": "7e2e5bb2",
   "metadata": {
    "execution": {
     "iopub.execute_input": "2023-11-06T19:07:57.331616Z",
     "iopub.status.busy": "2023-11-06T19:07:57.331342Z",
     "iopub.status.idle": "2023-11-06T19:07:57.335846Z",
     "shell.execute_reply": "2023-11-06T19:07:57.334959Z"
    }
   },
   "outputs": [],
   "source": [
    "f = open('../../snippets/names.txt')\n",
    "for line in f:\n",
    "    print(line, end='')"
   ]
  },
  {
   "cell_type": "markdown",
   "id": "8156b975",
   "metadata": {},
   "source": [
    "Note the `end=''` for the `print`. \n",
    "\n",
    "When reading a file, the newlines from the file are returned as part of each line. \n",
    "\n",
    "You can strip them out with the `strip()` string method, depending on how you want to use the data."
   ]
  },
  {
   "cell_type": "code",
   "execution_count": null,
   "id": "ec054b09",
   "metadata": {
    "execution": {
     "iopub.execute_input": "2023-11-06T19:07:57.339058Z",
     "iopub.status.busy": "2023-11-06T19:07:57.338785Z",
     "iopub.status.idle": "2023-11-06T19:07:57.343449Z",
     "shell.execute_reply": "2023-11-06T19:07:57.342607Z"
    },
    "slideshow": {
     "slide_type": "subslide"
    }
   },
   "outputs": [],
   "source": [
    "f = open('../../snippets/names.txt')\n",
    "for line in f:\n",
    "    print(f\"Name: {line.strip()}\")"
   ]
  },
  {
   "cell_type": "markdown",
   "id": "4a1128bc",
   "metadata": {
    "slideshow": {
     "slide_type": "subslide"
    }
   },
   "source": [
    "## File objects\n",
    "\n",
    "`open()` returns a \"file object\". File objects have a number of methods, and are also **iterables** - that's why we were able to use a for loop on them."
   ]
  },
  {
   "cell_type": "markdown",
   "id": "3a8ef820",
   "metadata": {
    "slideshow": {
     "slide_type": "slide"
    }
   },
   "source": [
    "# Writing Files\n",
    "\n",
    "You can write strings to files:"
   ]
  },
  {
   "cell_type": "code",
   "execution_count": null,
   "id": "8df33eb0",
   "metadata": {
    "execution": {
     "iopub.execute_input": "2023-11-06T19:07:57.346989Z",
     "iopub.status.busy": "2023-11-06T19:07:57.346710Z",
     "iopub.status.idle": "2023-11-06T19:07:57.351449Z",
     "shell.execute_reply": "2023-11-06T19:07:57.350745Z"
    }
   },
   "outputs": [],
   "source": [
    "f = open('../../snippets/output.txt', 'w')\n",
    "f.write(\"Hello, files!\")\n",
    "f.close()\n",
    "\n",
    "g = open('../../snippets/output.txt', 'r')\n",
    "print(f\"File contents: {g.read()}\")"
   ]
  },
  {
   "cell_type": "markdown",
   "id": "95f0453c",
   "metadata": {},
   "source": [
    "Note the call to `close()` - files must be closed after writing to them."
   ]
  },
  {
   "cell_type": "markdown",
   "id": "9384b03b",
   "metadata": {
    "slideshow": {
     "slide_type": "subslide"
    }
   },
   "source": [
    "## File modes\n",
    "\n",
    "Notice that we called `open` slightly differently for writing vs. reading:\n",
    "\n",
    "`open('../../snippets/output.txt', 'w')`  \n",
    "vs.  \n",
    "`open('../../snippets/output.txt', 'r')`\n",
    "\n",
    "The second paramater is the \"mode\". There are several modes, but the most commonly useful are:\n",
    "\n",
    "| character | mode |\n",
    "|:---:|:---|\n",
    "| r | open for reading (default) |\n",
    "| w | open for writing, truncating the file first |\n",
    "| a | open for writing, appending to the end of file if it exists |"
   ]
  },
  {
   "cell_type": "markdown",
   "id": "ec99d3c7",
   "metadata": {
    "slideshow": {
     "slide_type": "subslide"
    }
   },
   "source": [
    "## Closing files\n",
    "\n",
    "Files need to be closed when they are no longer needed. \n",
    "\n",
    "We did it above with the `.close()` method.\n",
    "\n",
    "This is especially important when writing data to files, because the data is sometimes not actually written to the file until `close()` is called!"
   ]
  },
  {
   "cell_type": "code",
   "execution_count": null,
   "id": "891c1dbf",
   "metadata": {
    "execution": {
     "iopub.execute_input": "2023-11-06T19:07:57.355313Z",
     "iopub.status.busy": "2023-11-06T19:07:57.355032Z",
     "iopub.status.idle": "2023-11-06T19:07:57.359492Z",
     "shell.execute_reply": "2023-11-06T19:07:57.358867Z"
    }
   },
   "outputs": [],
   "source": [
    "f = open('../../snippets/output.txt', 'w')\n",
    "f.write(\"Hello, files!\")\n",
    "\n",
    "g = open('../../snippets/output.txt', 'r')\n",
    "print(f\"File contents: {g.read()}\")"
   ]
  },
  {
   "cell_type": "markdown",
   "id": "3ce398e8",
   "metadata": {
    "slideshow": {
     "slide_type": "subslide"
    }
   },
   "source": [
    "File objects have a `closed` attribute that can be accessed to tell you whether a file has been closed or not."
   ]
  },
  {
   "cell_type": "code",
   "execution_count": null,
   "id": "2710a486",
   "metadata": {
    "execution": {
     "iopub.execute_input": "2023-11-06T19:07:57.363035Z",
     "iopub.status.busy": "2023-11-06T19:07:57.362763Z",
     "iopub.status.idle": "2023-11-06T19:07:57.367878Z",
     "shell.execute_reply": "2023-11-06T19:07:57.367266Z"
    }
   },
   "outputs": [],
   "source": [
    "f = open('../../snippets/output.txt', 'w')\n",
    "print(f\"[Before writing to file] Is f closed? {f.closed}\")\n",
    "f.write(\"Hello, files!\")\n",
    "print(f\"[After writing to file] Is f closed? {f.closed}\")\n",
    "f.close()\n",
    "print(f\"[After closing] Is f closed? {f.closed}\")\n",
    "\n",
    "g = open('../../snippets/output.txt', 'r')\n",
    "print(f\"File contents: {g.read()}\")\n",
    "print(f\"[After reading file contents] Is g closed? {g.closed}\")"
   ]
  },
  {
   "cell_type": "markdown",
   "id": "6d6a787f",
   "metadata": {
    "slideshow": {
     "slide_type": "slide"
    }
   },
   "source": [
    "## `with`\n",
    "\n",
    "There's a convenient way to ensure you don't forget to close a file: a `with` clause."
   ]
  },
  {
   "cell_type": "code",
   "execution_count": null,
   "id": "6902e747",
   "metadata": {
    "execution": {
     "iopub.execute_input": "2023-11-06T19:07:57.371454Z",
     "iopub.status.busy": "2023-11-06T19:07:57.370860Z",
     "iopub.status.idle": "2023-11-06T19:07:57.375639Z",
     "shell.execute_reply": "2023-11-06T19:07:57.374889Z"
    }
   },
   "outputs": [],
   "source": [
    "with open('../../snippets/names.txt', 'r') as f:\n",
    "    print(f\"[Before for loop] Is f closed? {f.closed}\")\n",
    "    \n",
    "    for line in f:\n",
    "        print(line, end='')\n",
    "    \n",
    "    print(f\"[After for loop] Is f closed? {f.closed}\")\n",
    "\n",
    "print(f\"[Outside 'with' clause] Is f closed? {f.closed}\")"
   ]
  },
  {
   "cell_type": "markdown",
   "id": "02d8f99d",
   "metadata": {},
   "source": [
    "This code opens the file, assigns the file object to the variable `f`, executes the code inside the `with` block, then automatically closes the file when exiting the `with` block."
   ]
  },
  {
   "cell_type": "markdown",
   "id": "1f344c65",
   "metadata": {
    "slideshow": {
     "slide_type": "subslide"
    }
   },
   "source": [
    "## Context managers\n",
    "\n",
    "File objects are **context managers**, which means they can be used with the `with` statement to manage resources automatically when entering and exiting a `with` block.\n",
    "\n",
    "There are other context managers in Python, and you can even [write your own](https://docs.python.org/3/reference/datamodel.html#context-managers). \n",
    "\n",
    "It's good practice to handle file objects with `with` rather than closing manually."
   ]
  },
  {
   "cell_type": "markdown",
   "id": "302725d4",
   "metadata": {
    "slideshow": {
     "slide_type": "slide"
    }
   },
   "source": [
    "## Exercise\n",
    "\n",
    "Read in two files, `../../snippets/hamlet.txt` and `../../snippets/macbeth.txt` and print out all the lines that are found in both files."
   ]
  },
  {
   "cell_type": "markdown",
   "id": "39668452",
   "metadata": {
    "slideshow": {
     "slide_type": "subslide"
    }
   },
   "source": [
    "First, read a single file into a list and print out some things about it:"
   ]
  },
  {
   "cell_type": "code",
   "execution_count": null,
   "id": "af4ee5a6",
   "metadata": {
    "execution": {
     "iopub.execute_input": "2023-11-06T19:07:57.379101Z",
     "iopub.status.busy": "2023-11-06T19:07:57.378818Z",
     "iopub.status.idle": "2023-11-06T19:07:57.385150Z",
     "shell.execute_reply": "2023-11-06T19:07:57.384594Z"
    }
   },
   "outputs": [],
   "source": [
    "macbeth = []\n",
    "with open('../../snippets/shakespeare/macbeth.txt', 'r') as f:\n",
    "    for line in f:\n",
    "        macbeth.append(line.strip())\n",
    "\n",
    "print(f\"Found {len(macbeth)} total lines.\")\n",
    "print()\n",
    "print(\"First 10 lines:\")\n",
    "print()\n",
    "for line in macbeth[:10]:\n",
    "    print(line)\n",
    "\n",
    "print()\n",
    "print(\"10 lines from the middle:\")\n",
    "print()\n",
    "for line in macbeth[2000:2010]:\n",
    "    print(line)\n"
   ]
  },
  {
   "cell_type": "markdown",
   "id": "561924ef",
   "metadata": {
    "slideshow": {
     "slide_type": "subslide"
    }
   },
   "source": [
    "Now read the other file too, and check for overlap:"
   ]
  },
  {
   "cell_type": "code",
   "execution_count": null,
   "id": "134e4057",
   "metadata": {
    "execution": {
     "iopub.execute_input": "2023-11-06T19:07:57.388705Z",
     "iopub.status.busy": "2023-11-06T19:07:57.388253Z",
     "iopub.status.idle": "2023-11-06T19:07:57.587028Z",
     "shell.execute_reply": "2023-11-06T19:07:57.586256Z"
    }
   },
   "outputs": [],
   "source": [
    "macbeth = []\n",
    "hamlet = []\n",
    "\n",
    "with open('../../snippets/shakespeare/macbeth.txt', 'r') as f:\n",
    "    for line in f:\n",
    "        macbeth.append(line.strip())\n",
    "\n",
    "with open('../../snippets/shakespeare/hamlet.txt', 'r') as f:\n",
    "    for line in f:\n",
    "        hamlet.append(line.strip())\n",
    "\n",
    "for line in hamlet:\n",
    "    if line in macbeth:\n",
    "        print(line)"
   ]
  },
  {
   "cell_type": "markdown",
   "id": "380b60a1",
   "metadata": {
    "slideshow": {
     "slide_type": "subslide"
    }
   },
   "source": [
    "Looks like we need to handle duplicates..."
   ]
  },
  {
   "cell_type": "code",
   "execution_count": null,
   "id": "eabc8fe7",
   "metadata": {
    "execution": {
     "iopub.execute_input": "2023-11-06T19:07:57.591399Z",
     "iopub.status.busy": "2023-11-06T19:07:57.590897Z",
     "iopub.status.idle": "2023-11-06T19:07:57.604998Z",
     "shell.execute_reply": "2023-11-06T19:07:57.604379Z"
    },
    "slideshow": {
     "slide_type": "fragment"
    }
   },
   "outputs": [],
   "source": [
    "macbeth = set()\n",
    "hamlet = set()\n",
    "\n",
    "with open('../../snippets/shakespeare/macbeth.txt', 'r') as f:\n",
    "    for line in f:\n",
    "        macbeth.add(line.strip())\n",
    "\n",
    "with open('../../snippets/shakespeare/hamlet.txt', 'r') as f:\n",
    "    for line in f:\n",
    "        hamlet.add(line.strip())\n",
    "\n",
    "print(hamlet & macbeth)"
   ]
  },
  {
   "cell_type": "markdown",
   "id": "be2707aa",
   "metadata": {
    "slideshow": {
     "slide_type": "subslide"
    }
   },
   "source": [
    "We can make the output a little prettier"
   ]
  },
  {
   "cell_type": "code",
   "execution_count": null,
   "id": "3f1b43a0",
   "metadata": {
    "execution": {
     "iopub.execute_input": "2023-11-06T19:07:57.609106Z",
     "iopub.status.busy": "2023-11-06T19:07:57.608786Z",
     "iopub.status.idle": "2023-11-06T19:07:57.617962Z",
     "shell.execute_reply": "2023-11-06T19:07:57.617310Z"
    }
   },
   "outputs": [],
   "source": [
    "macbeth = set()\n",
    "hamlet = set()\n",
    "\n",
    "with open('../../snippets/shakespeare/hamlet.txt', 'r') as f:\n",
    "    for line in f:\n",
    "        hamlet.add(line.strip())\n",
    "\n",
    "with open('../../snippets/shakespeare/macbeth.txt', 'r') as f:\n",
    "    for line in f:\n",
    "        macbeth.add(line.strip())\n",
    "\n",
    "overlapping = sorted(list(macbeth & hamlet))\n",
    "print('\\n'.join(overlapping))"
   ]
  },
  {
   "cell_type": "markdown",
   "id": "97471c68",
   "metadata": {
    "slideshow": {
     "slide_type": "slide"
    }
   },
   "source": [
    "## Exercise 2\n",
    "\n",
    "Do the same thing for all of Shakespeare's plays at once."
   ]
  },
  {
   "cell_type": "code",
   "execution_count": null,
   "id": "90939f8d",
   "metadata": {
    "execution": {
     "iopub.execute_input": "2023-11-06T19:07:57.621114Z",
     "iopub.status.busy": "2023-11-06T19:07:57.620845Z",
     "iopub.status.idle": "2023-11-06T19:07:57.625054Z",
     "shell.execute_reply": "2023-11-06T19:07:57.624402Z"
    }
   },
   "outputs": [],
   "source": [
    "macbeth = set()\n",
    "hamlet = set()\n",
    "othello = set()\n",
    "henry_iv_part1 = set()\n",
    "henry_iv_part2 = set()\n",
    "# ..."
   ]
  },
  {
   "cell_type": "markdown",
   "id": "b471ed9e",
   "metadata": {
    "slideshow": {
     "slide_type": "fragment"
    }
   },
   "source": [
    "There must be an easier way."
   ]
  },
  {
   "cell_type": "markdown",
   "id": "83291360",
   "metadata": {
    "slideshow": {
     "slide_type": "subslide"
    }
   },
   "source": [
    "We can use `os.listdir()` to get everything in a directory."
   ]
  },
  {
   "cell_type": "code",
   "execution_count": null,
   "id": "3966481d",
   "metadata": {
    "execution": {
     "iopub.execute_input": "2023-11-06T19:07:57.628181Z",
     "iopub.status.busy": "2023-11-06T19:07:57.627923Z",
     "iopub.status.idle": "2023-11-06T19:07:57.632210Z",
     "shell.execute_reply": "2023-11-06T19:07:57.631439Z"
    }
   },
   "outputs": [],
   "source": [
    "import os\n",
    "play_files = []\n",
    "for f in os.listdir('../../snippets/shakespeare/'):\n",
    "    play_files.append(f)\n",
    "print(play_files)\n",
    "print(len(play_files))"
   ]
  },
  {
   "cell_type": "markdown",
   "id": "18d559f1",
   "metadata": {
    "slideshow": {
     "slide_type": "subslide"
    }
   },
   "source": [
    "Next problem, how do we avoid writing 41 for loops?\n",
    "\n",
    "Let's functionally decompose, 2 steps:\n",
    "1. Find all file names and load the lines from each file into a set\n",
    "2. Find the intersection between the lines from each file"
   ]
  },
  {
   "cell_type": "markdown",
   "id": "2c5ece84",
   "metadata": {
    "slideshow": {
     "slide_type": "subslide"
    }
   },
   "source": [
    "1. Find all file names and load the lines from each file into a set"
   ]
  },
  {
   "cell_type": "code",
   "execution_count": null,
   "id": "f6373c39",
   "metadata": {
    "execution": {
     "iopub.execute_input": "2023-11-06T19:07:57.635550Z",
     "iopub.status.busy": "2023-11-06T19:07:57.635293Z",
     "iopub.status.idle": "2023-11-06T19:07:57.639088Z",
     "shell.execute_reply": "2023-11-06T19:07:57.638485Z"
    },
    "slideshow": {
     "slide_type": "-"
    }
   },
   "outputs": [],
   "source": [
    "def load_files(directory):\n",
    "    all_data = []\n",
    "    for filename in os.listdir(directory):\n",
    "        play_lines = set()\n",
    "        with open(directory + filename, 'r') as f:\n",
    "            for line in f:\n",
    "                play_lines.add(line.strip())\n",
    "        all_data.append(play_lines)\n",
    "    return all_data"
   ]
  },
  {
   "cell_type": "markdown",
   "id": "0c88398f",
   "metadata": {
    "slideshow": {
     "slide_type": "subslide"
    }
   },
   "source": [
    "Let's make this more readable - split out the code to process a single file"
   ]
  },
  {
   "cell_type": "code",
   "execution_count": null,
   "id": "c6d0fc0d",
   "metadata": {
    "execution": {
     "iopub.execute_input": "2023-11-06T19:07:57.642565Z",
     "iopub.status.busy": "2023-11-06T19:07:57.642288Z",
     "iopub.status.idle": "2023-11-06T19:07:57.646335Z",
     "shell.execute_reply": "2023-11-06T19:07:57.645813Z"
    },
    "slideshow": {
     "slide_type": "-"
    }
   },
   "outputs": [],
   "source": [
    "def load_file(filename):\n",
    "    play_lines = set()\n",
    "    with open(filename, 'r') as f:\n",
    "        for line in f:\n",
    "            play_lines.add(line.strip())\n",
    "    return play_lines\n",
    "\n",
    "def load_files(directory):\n",
    "    all_data = []\n",
    "    for filename in os.listdir(directory):\n",
    "        all_data.append(load_file(directory + filename))\n",
    "    return all_data"
   ]
  },
  {
   "cell_type": "code",
   "execution_count": null,
   "id": "370c770b",
   "metadata": {
    "execution": {
     "iopub.execute_input": "2023-11-06T19:07:57.649517Z",
     "iopub.status.busy": "2023-11-06T19:07:57.649255Z",
     "iopub.status.idle": "2023-11-06T19:07:57.720180Z",
     "shell.execute_reply": "2023-11-06T19:07:57.719112Z"
    },
    "slideshow": {
     "slide_type": "subslide"
    },
    "tags": [
     "raises-exception"
    ]
   },
   "outputs": [],
   "source": [
    "all_lines = load_files('../../snippets/shakespeare/')\n",
    "\n",
    "print(f\"Loaded {len(all_lines)} files\")\n",
    "for play in all_lines:\n",
    "    print(f\"Unique lines: {len(play)}\")"
   ]
  },
  {
   "cell_type": "markdown",
   "id": "b590cd6d",
   "metadata": {
    "slideshow": {
     "slide_type": "subslide"
    }
   },
   "source": [
    "Hm, might be nice to see filenames. Let's do a dictionary of sets."
   ]
  },
  {
   "cell_type": "code",
   "execution_count": null,
   "id": "66871d9b",
   "metadata": {
    "execution": {
     "iopub.execute_input": "2023-11-06T19:07:57.724307Z",
     "iopub.status.busy": "2023-11-06T19:07:57.723744Z",
     "iopub.status.idle": "2023-11-06T19:07:57.730686Z",
     "shell.execute_reply": "2023-11-06T19:07:57.729901Z"
    },
    "slideshow": {
     "slide_type": "-"
    }
   },
   "outputs": [],
   "source": [
    "def load_file(filename):\n",
    "    play_lines = set()\n",
    "    with open(filename, 'r') as f:\n",
    "        for line in f:\n",
    "            play_lines.add(line.strip())\n",
    "    return play_lines\n",
    "\n",
    "def load_files(directory):\n",
    "    all_data = {}\n",
    "    for filename in os.listdir(directory):\n",
    "        all_data[filename] = load_file(directory + filename)\n",
    "    return all_data"
   ]
  },
  {
   "cell_type": "code",
   "execution_count": null,
   "id": "7f2e198c",
   "metadata": {
    "execution": {
     "iopub.execute_input": "2023-11-06T19:07:57.734414Z",
     "iopub.status.busy": "2023-11-06T19:07:57.734018Z",
     "iopub.status.idle": "2023-11-06T19:07:57.813663Z",
     "shell.execute_reply": "2023-11-06T19:07:57.812566Z"
    },
    "slideshow": {
     "slide_type": "subslide"
    },
    "tags": [
     "raises-exception"
    ]
   },
   "outputs": [],
   "source": [
    "play_lines = load_files('../../snippets/shakespeare/')\n",
    "\n",
    "print(f\"Loaded {len(play_lines)} files\")\n",
    "for play in play_lines:\n",
    "    print(f\"unique lines: {len(play_lines[play])} ({play})\")"
   ]
  },
  {
   "cell_type": "markdown",
   "id": "0857904d",
   "metadata": {
    "slideshow": {
     "slide_type": "subslide"
    }
   },
   "source": [
    "2. Find the intersection between the lines from each file"
   ]
  },
  {
   "cell_type": "code",
   "execution_count": null,
   "id": "5da28c0b",
   "metadata": {
    "execution": {
     "iopub.execute_input": "2023-11-06T19:07:57.817532Z",
     "iopub.status.busy": "2023-11-06T19:07:57.817199Z",
     "iopub.status.idle": "2023-11-06T19:07:57.925680Z",
     "shell.execute_reply": "2023-11-06T19:07:57.922300Z"
    }
   },
   "outputs": [],
   "source": [
    "play_lines = load_files('../../snippets/shakespeare/')"
   ]
  },
  {
   "cell_type": "code",
   "execution_count": null,
   "id": "87bf4b83",
   "metadata": {
    "execution": {
     "iopub.execute_input": "2023-11-06T19:07:57.933605Z",
     "iopub.status.busy": "2023-11-06T19:07:57.933025Z",
     "iopub.status.idle": "2023-11-06T19:07:57.961110Z",
     "shell.execute_reply": "2023-11-06T19:07:57.957020Z"
    }
   },
   "outputs": [],
   "source": [
    "common_lines = set()\n",
    "for play in play_lines:\n",
    "    common_lines = common_lines & play_lines[play]\n",
    "print(common_lines)"
   ]
  },
  {
   "cell_type": "markdown",
   "id": "f3ed331b",
   "metadata": {
    "slideshow": {
     "slide_type": "fragment"
    }
   },
   "source": [
    "Seems suspicious... let's debug"
   ]
  },
  {
   "cell_type": "code",
   "execution_count": null,
   "id": "5a07aa24",
   "metadata": {
    "execution": {
     "iopub.execute_input": "2023-11-06T19:07:57.977040Z",
     "iopub.status.busy": "2023-11-06T19:07:57.976316Z",
     "iopub.status.idle": "2023-11-06T19:07:57.984257Z",
     "shell.execute_reply": "2023-11-06T19:07:57.983445Z"
    },
    "slideshow": {
     "slide_type": "subslide"
    }
   },
   "outputs": [],
   "source": [
    "common_lines = set()\n",
    "for play in play_lines:\n",
    "    common_lines = common_lines & play_lines[play]\n",
    "    print(f\"Lines after intersection with {play}: {len(common_lines)}\")\n",
    "print(common_lines)"
   ]
  },
  {
   "cell_type": "markdown",
   "id": "3b9cd628",
   "metadata": {
    "slideshow": {
     "slide_type": "subslide"
    }
   },
   "source": [
    "Oh, we start with an empty set. An empty set intersected with anything is... an empty set. Start with the first play instead."
   ]
  },
  {
   "cell_type": "code",
   "execution_count": null,
   "id": "0b1ee810",
   "metadata": {
    "execution": {
     "iopub.execute_input": "2023-11-06T19:07:57.989463Z",
     "iopub.status.busy": "2023-11-06T19:07:57.988877Z",
     "iopub.status.idle": "2023-11-06T19:07:58.000592Z",
     "shell.execute_reply": "2023-11-06T19:07:57.998212Z"
    },
    "slideshow": {
     "slide_type": "-"
    }
   },
   "outputs": [],
   "source": [
    "common_lines = None\n",
    "for play in play_lines:\n",
    "    if common_lines is None:\n",
    "        common_lines = play_lines[play]\n",
    "    else:\n",
    "        common_lines = common_lines & play_lines[play]\n",
    "    print(f\"Lines after intersection with {play}: {len(common_lines)}\")\n",
    "print(common_lines)"
   ]
  },
  {
   "cell_type": "markdown",
   "id": "4aa111a0",
   "metadata": {
    "slideshow": {
     "slide_type": "slide"
    }
   },
   "source": [
    "# CSV files\n",
    "\n",
    "CSV stands for \"character separated values\". \n",
    "\n",
    "In CSV files, rows of data are represented by lines in a file, and columns of data are separated by a specific character, called a **delimiter**. Commas (`,`) are commonly used as a delimiter, but any character can be a delimiter.\n",
    "\n",
    "CSV files are another common way to store structured data, especially if the data is tabular (like a spreadsheet).\n",
    "\n",
    "Here's an example of CSV data. Each line contains 4 fields: `id`, `name`, `house`, `hair color`:"
   ]
  },
  {
   "cell_type": "code",
   "execution_count": null,
   "id": "5fe876c9",
   "metadata": {
    "execution": {
     "iopub.execute_input": "2023-11-06T19:07:58.010373Z",
     "iopub.status.busy": "2023-11-06T19:07:58.009843Z",
     "iopub.status.idle": "2023-11-06T19:07:58.020149Z",
     "shell.execute_reply": "2023-11-06T19:07:58.018219Z"
    }
   },
   "outputs": [],
   "source": [
    "with open('../../snippets/csv_example.csv', 'r') as f:\n",
    "    for line in f:\n",
    "        print(line, end='')"
   ]
  },
  {
   "cell_type": "markdown",
   "id": "ac58d7aa",
   "metadata": {
    "slideshow": {
     "slide_type": "subslide"
    }
   },
   "source": [
    "## Reading CSVs\n",
    "\n",
    "We could just use `.split(',')` to split each line into a list. But Python provides some nice CSV utilities in the `csv` module.\n",
    "\n",
    "`csv.reader()` creates an iterable object that produces each line as a list."
   ]
  },
  {
   "cell_type": "code",
   "execution_count": null,
   "id": "7ae5a1e0",
   "metadata": {
    "execution": {
     "iopub.execute_input": "2023-11-06T19:07:58.026285Z",
     "iopub.status.busy": "2023-11-06T19:07:58.025801Z",
     "iopub.status.idle": "2023-11-06T19:07:58.051612Z",
     "shell.execute_reply": "2023-11-06T19:07:58.047850Z"
    }
   },
   "outputs": [],
   "source": [
    "import csv\n",
    "with open('../../snippets/csv_example.csv', 'r') as f:\n",
    "    reader = csv.reader(f, delimiter=',')\n",
    "    for line in reader:\n",
    "        print(line)"
   ]
  },
  {
   "cell_type": "markdown",
   "id": "19f39836",
   "metadata": {
    "slideshow": {
     "slide_type": "subslide"
    }
   },
   "source": [
    "## Writing CSVs\n",
    "\n",
    "`csv.writer()` creates an object with a `writerow` method, which takes a `list` and writes it out as a single CSV row."
   ]
  },
  {
   "cell_type": "code",
   "execution_count": null,
   "id": "db79160a",
   "metadata": {
    "execution": {
     "iopub.execute_input": "2023-11-06T19:07:58.061498Z",
     "iopub.status.busy": "2023-11-06T19:07:58.060915Z",
     "iopub.status.idle": "2023-11-06T19:07:58.076921Z",
     "shell.execute_reply": "2023-11-06T19:07:58.075059Z"
    },
    "slideshow": {
     "slide_type": "-"
    }
   },
   "outputs": [],
   "source": [
    "import csv\n",
    "data = [\n",
    "    ['11', 'Harry', 'Gryffindor', 'Brown'],\n",
    "    ['18', 'Draco', 'Slytherin', 'Blonde'],\n",
    "    ['22', 'Cho', 'Ravenclaw', 'Black'],\n",
    "    ['28', 'Ron', 'Gryffindor', 'Red'],\n",
    "    ['47', 'Hermione', 'Gryffindor', 'Brown']]\n",
    "\n",
    "with open('../../snippets/csv_example2.csv', 'w', newline='') as f:\n",
    "    writer = csv.writer(f, delimiter='|')\n",
    "    for d in data:\n",
    "        writer.writerow(d)\n",
    "        \n",
    "with open('../../snippets/csv_example2.csv', 'r') as f:\n",
    "    for line in f:\n",
    "        print(line, end='')"
   ]
  },
  {
   "cell_type": "markdown",
   "id": "f79043f9",
   "metadata": {
    "slideshow": {
     "slide_type": "subslide"
    }
   },
   "source": [
    "## How useful is this, really?\n",
    "\n",
    "Why use the `csv` module, when `split()` and `join()` calls are so easy?\n",
    "\n",
    "Well, it handles a lot of edge cases - for example, escaped delimiters within fields."
   ]
  },
  {
   "cell_type": "markdown",
   "id": "da013658",
   "metadata": {
    "slideshow": {
     "slide_type": "subslide"
    }
   },
   "source": [
    "Here's an example using `split()` and `join()`"
   ]
  },
  {
   "cell_type": "code",
   "execution_count": null,
   "id": "029d85ca",
   "metadata": {
    "execution": {
     "iopub.execute_input": "2023-11-06T19:07:58.087092Z",
     "iopub.status.busy": "2023-11-06T19:07:58.086207Z",
     "iopub.status.idle": "2023-11-06T19:07:58.102773Z",
     "shell.execute_reply": "2023-11-06T19:07:58.101307Z"
    },
    "slideshow": {
     "slide_type": "-"
    }
   },
   "outputs": [],
   "source": [
    "import csv\n",
    "data = [\n",
    "    ['11', 'Harry', 'Gryffindor', 'Brown,mostly'],\n",
    "    ['18', 'Draco', 'Slytherin', 'Blonde,mostly'],\n",
    "    ['22', 'Cho', 'Ravenclaw', 'Black,really'],\n",
    "    ['28', 'Ron', 'Gryffindor', 'Red,very'],\n",
    "    ['47', 'Hermione', 'Gryffindor', 'Brown']]\n",
    "\n",
    "with open('../../snippets/csv_example2.csv', 'w', newline='') as f:\n",
    "    for d in data:\n",
    "        f.write(','.join(d) + '\\n')\n",
    "        \n",
    "with open('../../snippets/csv_example2.csv', 'r') as f:\n",
    "    for line in f:\n",
    "        print(line.strip().split(','))"
   ]
  },
  {
   "cell_type": "markdown",
   "id": "08098063",
   "metadata": {
    "slideshow": {
     "slide_type": "subslide"
    }
   },
   "source": [
    "Here's the same example using the `csv` module"
   ]
  },
  {
   "cell_type": "code",
   "execution_count": null,
   "id": "7e06e2af",
   "metadata": {
    "execution": {
     "iopub.execute_input": "2023-11-06T19:07:58.112989Z",
     "iopub.status.busy": "2023-11-06T19:07:58.112350Z",
     "iopub.status.idle": "2023-11-06T19:07:58.125741Z",
     "shell.execute_reply": "2023-11-06T19:07:58.124680Z"
    }
   },
   "outputs": [],
   "source": [
    "import csv\n",
    "data = [\n",
    "    ['11', 'Harry', 'Gryffindor', 'Brown,mostly'],\n",
    "    ['18', 'Draco', 'Slytherin', 'Blonde,mostly'],\n",
    "    ['22', 'Cho', 'Ravenclaw', 'Black,really'],\n",
    "    ['28', 'Ron', 'Gryffindor', 'Red,very'],\n",
    "    ['47', 'Hermione', 'Gryffindor', 'Brown']]\n",
    "\n",
    "with open('../../snippets/csv_example2.csv', 'w', newline='') as f:\n",
    "    writer = csv.writer(f, delimiter=',')\n",
    "    for d in data:\n",
    "        writer.writerow(d)\n",
    "        \n",
    "with open('../../snippets/csv_example2.csv', 'r') as f:\n",
    "    reader = csv.reader(f, delimiter=',')\n",
    "    for line in reader:\n",
    "        print(line)"
   ]
  },
  {
   "cell_type": "markdown",
   "id": "0f001354",
   "metadata": {
    "slideshow": {
     "slide_type": "slide"
    }
   },
   "source": [
    "# JSON\n",
    "\n",
    "We know how to read and write strings, but what about other types - ints, floats, lists, dictionaries?\n",
    "\n",
    "Enter **JSON**: \"**J**ava**s**cript **O**bject **N**otation\". \n",
    "\n",
    "JSON is a **data exchange format**: a method of representing data as sequences of characters (strings) which can be interpreted by many programming languages.\n",
    "\n",
    "The JSON format can represent strings, ints, floats, booleans, lists, dictionaries, and `None`. "
   ]
  },
  {
   "cell_type": "markdown",
   "id": "ed66a45f",
   "metadata": {
    "slideshow": {
     "slide_type": "subslide"
    }
   },
   "source": [
    "A Python data structure:"
   ]
  },
  {
   "cell_type": "code",
   "execution_count": null,
   "id": "e2113a0e",
   "metadata": {
    "execution": {
     "iopub.execute_input": "2023-11-06T19:07:58.134421Z",
     "iopub.status.busy": "2023-11-06T19:07:58.133737Z",
     "iopub.status.idle": "2023-11-06T19:07:58.142063Z",
     "shell.execute_reply": "2023-11-06T19:07:58.140636Z"
    }
   },
   "outputs": [],
   "source": [
    "data = {\n",
    "    \"name\": \"John\",\n",
    "    \"age\": 30,\n",
    "    \"candy_preferences\": [\n",
    "        \"Reese's\",\n",
    "        \"Snickers\"\n",
    "    ]\n",
    "}"
   ]
  },
  {
   "cell_type": "markdown",
   "id": "52c3b9ca",
   "metadata": {},
   "source": [
    "This data structure can be represented as a string in JSON format (or: a \"JSON string\"):"
   ]
  },
  {
   "cell_type": "code",
   "execution_count": null,
   "id": "fcab7765",
   "metadata": {
    "execution": {
     "iopub.execute_input": "2023-11-06T19:07:58.148680Z",
     "iopub.status.busy": "2023-11-06T19:07:58.148217Z",
     "iopub.status.idle": "2023-11-06T19:07:58.168179Z",
     "shell.execute_reply": "2023-11-06T19:07:58.166297Z"
    }
   },
   "outputs": [],
   "source": [
    "'{\"name\":\"John\", \"age\":30, candy_preferences:[\"Reese\\'s\", \"Snickers\"]}'"
   ]
  },
  {
   "cell_type": "markdown",
   "id": "81cd070f",
   "metadata": {
    "slideshow": {
     "slide_type": "subslide"
    }
   },
   "source": [
    "## Why?\n",
    "\n",
    "This looks very similar to the way that Python prints data structures... why is this useful?\n",
    "\n",
    "JSON is not Python-specific. If you use a Python program to create a JSON string, it will be readable by many other programming languages.\n",
    "\n",
    "It's a **data exchange format**, and it's very commonly used."
   ]
  },
  {
   "cell_type": "markdown",
   "id": "355885ab",
   "metadata": {
    "slideshow": {
     "slide_type": ""
    }
   },
   "source": [
    "# JSON in Python\n",
    "\n",
    "Python has the `json` package, which contains utilities for reading and writing JSON."
   ]
  },
  {
   "cell_type": "code",
   "execution_count": null,
   "id": "13165af6",
   "metadata": {
    "execution": {
     "iopub.execute_input": "2023-11-06T19:07:58.178899Z",
     "iopub.status.busy": "2023-11-06T19:07:58.178141Z",
     "iopub.status.idle": "2023-11-06T19:07:58.203004Z",
     "shell.execute_reply": "2023-11-06T19:07:58.195464Z"
    }
   },
   "outputs": [],
   "source": [
    "import json\n",
    "mydata = {\n",
    "    \"numbers\": [1,2,3,4],\n",
    "    \"another number\": 2.75,\n",
    "    \"more dictionaries\": [{'a': 1, 'b': 2, 'c': 3}]\n",
    "}\n",
    "json.dumps(mydata)"
   ]
  },
  {
   "cell_type": "markdown",
   "id": "bfc41069",
   "metadata": {},
   "source": [
    "## dump / dumps\n",
    "\n",
    "The `dump` and `dumps` methods **serialize** data structures:\n",
    "* `json.dumps(<object>)` **serializes** a data structure to a string.  \n",
    "* `json.dump(<object>, <file object>)` **serializes** a data structure to a string and writes the string to a file.\n",
    "\n",
    "\"Serializing\" a data structure means converting it to a string (or bytes) representation.\n",
    "\n",
    "An easy way to remember the difference: The `s` on `dumps` actually stands for `string`."
   ]
  },
  {
   "cell_type": "markdown",
   "id": "01744b22",
   "metadata": {
    "slideshow": {
     "slide_type": "subslide"
    }
   },
   "source": [
    "## Pretty printing\n",
    "\n",
    "`json.dumps()` also takes an optional `indent` parameter. If specified, it will \"pretty print\" the JSON:"
   ]
  },
  {
   "cell_type": "code",
   "execution_count": null,
   "id": "def0c2d6",
   "metadata": {
    "execution": {
     "iopub.execute_input": "2023-11-06T19:07:58.217747Z",
     "iopub.status.busy": "2023-11-06T19:07:58.217105Z",
     "iopub.status.idle": "2023-11-06T19:07:58.227804Z",
     "shell.execute_reply": "2023-11-06T19:07:58.225549Z"
    }
   },
   "outputs": [],
   "source": [
    "import json\n",
    "mydata = {\n",
    "    \"numbers\": [1,2,3,4],\n",
    "    \"another number\": 2.75,\n",
    "    \"more dictionaries\": [{'a': 1, 'b': 2, 'c': 3}]\n",
    "}\n",
    "print(json.dumps(mydata, indent=4))"
   ]
  },
  {
   "cell_type": "markdown",
   "id": "cf20a42f",
   "metadata": {
    "slideshow": {
     "slide_type": "subslide"
    }
   },
   "source": [
    "## load / loads\n",
    "\n",
    "`load`/`loads` do the opposite of `dump`/`dumps`: they **parse** strings into data structures.\n",
    "* `json.loads(<str>)` **parses** a string into a data structure.  \n",
    "* `json.load(<file object>)` reads the contents of a file and **parses** it into a data structure."
   ]
  },
  {
   "cell_type": "code",
   "execution_count": null,
   "id": "3e5c6b41",
   "metadata": {
    "execution": {
     "iopub.execute_input": "2023-11-06T19:07:58.233664Z",
     "iopub.status.busy": "2023-11-06T19:07:58.233259Z",
     "iopub.status.idle": "2023-11-06T19:07:58.244736Z",
     "shell.execute_reply": "2023-11-06T19:07:58.242734Z"
    }
   },
   "outputs": [],
   "source": [
    "import json\n",
    "mydata = {\n",
    "    \"numbers\": [1,2,3,4],\n",
    "    \"another number\": 2.75,\n",
    "    \"more dictionaries\": [{'a': 1, 'b': 2, 'c': 3}]\n",
    "}\n",
    "with open('../../snippets/test.json', 'w') as f:\n",
    "    json.dump(mydata, f)\n",
    "\n",
    "with open('../../snippets/test.json', 'r') as f:\n",
    "    data = json.load(f)\n",
    "\n",
    "print(data)"
   ]
  },
  {
   "cell_type": "markdown",
   "id": "38c0acdc",
   "metadata": {
    "slideshow": {
     "slide_type": "slide"
    }
   },
   "source": [
    "## Exercise: Let's play around with some movie data\n",
    "\n",
    "You can grab data scraped from Wikipedia on movies, in JSON format, here: https://raw.githubusercontent.com/prust/wikipedia-movie-data/master/movies.json"
   ]
  },
  {
   "cell_type": "code",
   "execution_count": null,
   "id": "05b1053b",
   "metadata": {
    "execution": {
     "iopub.execute_input": "2023-11-06T19:07:58.251417Z",
     "iopub.status.busy": "2023-11-06T19:07:58.250878Z",
     "iopub.status.idle": "2023-11-06T19:07:58.930565Z",
     "shell.execute_reply": "2023-11-06T19:07:58.929928Z"
    },
    "slideshow": {
     "slide_type": "subslide"
    }
   },
   "outputs": [],
   "source": [
    "import json\n",
    "with open('../../snippets/movie_data.json', 'r') as f:\n",
    "    json_movies = json.load(f)\n",
    "print(f\"Loaded {len(json_movies)} movies\")"
   ]
  },
  {
   "cell_type": "code",
   "execution_count": null,
   "id": "f1e02e03",
   "metadata": {
    "execution": {
     "iopub.execute_input": "2023-11-06T19:07:58.936003Z",
     "iopub.status.busy": "2023-11-06T19:07:58.935523Z",
     "iopub.status.idle": "2023-11-06T19:07:58.940218Z",
     "shell.execute_reply": "2023-11-06T19:07:58.939456Z"
    }
   },
   "outputs": [],
   "source": [
    "print(json_movies[0])"
   ]
  },
  {
   "cell_type": "code",
   "execution_count": null,
   "id": "39698f77",
   "metadata": {
    "execution": {
     "iopub.execute_input": "2023-11-06T19:07:58.943498Z",
     "iopub.status.busy": "2023-11-06T19:07:58.943042Z",
     "iopub.status.idle": "2023-11-06T19:07:58.946877Z",
     "shell.execute_reply": "2023-11-06T19:07:58.946252Z"
    }
   },
   "outputs": [],
   "source": [
    "print(json.dumps(json_movies[-100], indent=2))"
   ]
  },
  {
   "cell_type": "markdown",
   "id": "f09b9fe9",
   "metadata": {
    "slideshow": {
     "slide_type": "subslide"
    }
   },
   "source": [
    "Cool! Let's print all the movies from a given year."
   ]
  },
  {
   "cell_type": "code",
   "execution_count": null,
   "id": "e9864e99",
   "metadata": {
    "execution": {
     "iopub.execute_input": "2023-11-06T19:07:58.950132Z",
     "iopub.status.busy": "2023-11-06T19:07:58.949859Z",
     "iopub.status.idle": "2023-11-06T19:07:58.960759Z",
     "shell.execute_reply": "2023-11-06T19:07:58.960134Z"
    }
   },
   "outputs": [],
   "source": [
    "year = 2013\n",
    "for movie in json_movies:\n",
    "    if movie['year'] == year:\n",
    "        print(movie['title'])"
   ]
  },
  {
   "cell_type": "markdown",
   "id": "f7abe359",
   "metadata": {
    "slideshow": {
     "slide_type": "subslide"
    }
   },
   "source": [
    "How about searching based on title? "
   ]
  },
  {
   "cell_type": "code",
   "execution_count": null,
   "id": "3709b5f6",
   "metadata": {
    "execution": {
     "iopub.execute_input": "2023-11-06T19:07:58.963937Z",
     "iopub.status.busy": "2023-11-06T19:07:58.963618Z",
     "iopub.status.idle": "2023-11-06T19:07:58.975281Z",
     "shell.execute_reply": "2023-11-06T19:07:58.974344Z"
    }
   },
   "outputs": [],
   "source": [
    "search_string = \"Freedom\"\n",
    "for movie in json_movies:\n",
    "    if search_string in movie['title']:\n",
    "        print(f\"{movie['title']} ({movie['year']})\")"
   ]
  },
  {
   "cell_type": "markdown",
   "id": "890ee938",
   "metadata": {
    "slideshow": {
     "slide_type": "subslide"
    }
   },
   "source": [
    "Ok how about a cast search? Find every movie that had certain cast member."
   ]
  },
  {
   "cell_type": "markdown",
   "id": "39942316",
   "metadata": {
    "slideshow": {
     "slide_type": "fragment"
    }
   },
   "source": [
    "Hm... There's a lot of structured data, and we're performing operations on it... what if we introduced a class or 2?"
   ]
  },
  {
   "cell_type": "code",
   "execution_count": null,
   "id": "696f9c54",
   "metadata": {
    "execution": {
     "iopub.execute_input": "2023-11-06T19:07:58.978748Z",
     "iopub.status.busy": "2023-11-06T19:07:58.978459Z",
     "iopub.status.idle": "2023-11-06T19:07:59.097014Z",
     "shell.execute_reply": "2023-11-06T19:07:59.095803Z"
    },
    "slideshow": {
     "slide_type": "subslide"
    }
   },
   "outputs": [],
   "source": [
    "class Movie:\n",
    "    def __init__(self, title, year, cast, genres):\n",
    "        self.title = title\n",
    "        self.year = year\n",
    "        self.cast = cast\n",
    "        self.genres = genres\n",
    "    \n",
    "movies = []\n",
    "for movie in json_movies:\n",
    "    movies.append(Movie(movie['title'], movie['year'], movie['cast'], movie['genres']))"
   ]
  },
  {
   "cell_type": "code",
   "execution_count": null,
   "id": "48df5c99",
   "metadata": {
    "execution": {
     "iopub.execute_input": "2023-11-06T19:07:59.100980Z",
     "iopub.status.busy": "2023-11-06T19:07:59.100665Z",
     "iopub.status.idle": "2023-11-06T19:07:59.104967Z",
     "shell.execute_reply": "2023-11-06T19:07:59.104185Z"
    }
   },
   "outputs": [],
   "source": [
    "print(movies[0])"
   ]
  },
  {
   "cell_type": "markdown",
   "id": "cb938ba9",
   "metadata": {
    "slideshow": {
     "slide_type": "subslide"
    }
   },
   "source": [
    "That's not a helpful print. "
   ]
  },
  {
   "cell_type": "code",
   "execution_count": null,
   "id": "9ab60eee",
   "metadata": {
    "execution": {
     "iopub.execute_input": "2023-11-06T19:07:59.109253Z",
     "iopub.status.busy": "2023-11-06T19:07:59.108929Z",
     "iopub.status.idle": "2023-11-06T19:07:59.247812Z",
     "shell.execute_reply": "2023-11-06T19:07:59.247014Z"
    }
   },
   "outputs": [],
   "source": [
    "class Movie:\n",
    "    def __init__(self, title, year, cast, genres):\n",
    "        self.title = title\n",
    "        self.year = year\n",
    "        self.cast = cast\n",
    "        self.genres = genres\n",
    "\n",
    "    def format(self):\n",
    "        return f\"{self.title} ({self.year})\"\n",
    "\n",
    "movies = []\n",
    "for movie in json_movies:\n",
    "    movies.append(Movie(movie['title'], movie['year'], movie['cast'], movie['genres']))"
   ]
  },
  {
   "cell_type": "code",
   "execution_count": null,
   "id": "7dfffd43",
   "metadata": {
    "execution": {
     "iopub.execute_input": "2023-11-06T19:07:59.251402Z",
     "iopub.status.busy": "2023-11-06T19:07:59.251088Z",
     "iopub.status.idle": "2023-11-06T19:07:59.254932Z",
     "shell.execute_reply": "2023-11-06T19:07:59.254266Z"
    }
   },
   "outputs": [],
   "source": [
    "print(movies[0].format())"
   ]
  },
  {
   "cell_type": "markdown",
   "id": "2ebcf776",
   "metadata": {
    "slideshow": {
     "slide_type": "subslide"
    }
   },
   "source": [
    "Back to our problem - cast search. Let's add a method to `Movie` to check whether a person was in the cast:"
   ]
  },
  {
   "cell_type": "code",
   "execution_count": null,
   "id": "6e63262d",
   "metadata": {
    "execution": {
     "iopub.execute_input": "2023-11-06T19:07:59.259583Z",
     "iopub.status.busy": "2023-11-06T19:07:59.259213Z",
     "iopub.status.idle": "2023-11-06T19:07:59.264436Z",
     "shell.execute_reply": "2023-11-06T19:07:59.263742Z"
    }
   },
   "outputs": [],
   "source": [
    "class Movie:\n",
    "    def __init__(self, title, year, cast, genres):\n",
    "        self.title = title\n",
    "        self.year = year\n",
    "        self.cast = cast\n",
    "        self.genres = genres\n",
    "\n",
    "    def format(self):\n",
    "        return f\"{self.title} ({self.year})\"\n",
    "    \n",
    "    def cast_contained(self, name):\n",
    "        return name in self.cast"
   ]
  },
  {
   "cell_type": "markdown",
   "id": "e2902f04",
   "metadata": {
    "slideshow": {
     "slide_type": "subslide"
    }
   },
   "source": [
    "Let's test it!"
   ]
  },
  {
   "cell_type": "code",
   "execution_count": null,
   "id": "5561c4d4",
   "metadata": {
    "execution": {
     "iopub.execute_input": "2023-11-06T19:07:59.267818Z",
     "iopub.status.busy": "2023-11-06T19:07:59.267526Z",
     "iopub.status.idle": "2023-11-06T19:07:59.272069Z",
     "shell.execute_reply": "2023-11-06T19:07:59.271174Z"
    }
   },
   "outputs": [],
   "source": [
    "movie = Movie(\n",
    "    \"Best Movie\", \n",
    "    2023, \n",
    "    [\"Joe Delfino\", \"Spongebob Squarepants\", \"Michael J. Fox\"], \n",
    "    [\"genre1\", \"genre2\"])\n",
    "\n",
    "print(movie.cast_contained(\"Joe Delfino\"))\n",
    "print(movie.cast_contained(\"Christopher Walken\"))"
   ]
  },
  {
   "cell_type": "markdown",
   "id": "711f2c49",
   "metadata": {
    "slideshow": {
     "slide_type": "subslide"
    }
   },
   "source": [
    "Now we can use that to build our cast search:"
   ]
  },
  {
   "cell_type": "code",
   "execution_count": null,
   "id": "6bda872e",
   "metadata": {
    "execution": {
     "iopub.execute_input": "2023-11-06T19:07:59.276146Z",
     "iopub.status.busy": "2023-11-06T19:07:59.275796Z",
     "iopub.status.idle": "2023-11-06T19:07:59.398139Z",
     "shell.execute_reply": "2023-11-06T19:07:59.397309Z"
    }
   },
   "outputs": [],
   "source": [
    "movies = []\n",
    "for movie in json_movies:\n",
    "    movies.append(Movie(movie['title'], movie['year'], movie['cast'], movie['genres']))"
   ]
  },
  {
   "cell_type": "code",
   "execution_count": null,
   "id": "396e60be",
   "metadata": {
    "execution": {
     "iopub.execute_input": "2023-11-06T19:07:59.402220Z",
     "iopub.status.busy": "2023-11-06T19:07:59.401876Z",
     "iopub.status.idle": "2023-11-06T19:07:59.417099Z",
     "shell.execute_reply": "2023-11-06T19:07:59.416375Z"
    }
   },
   "outputs": [],
   "source": [
    "person = \"Christopher Walken\"\n",
    "for movie in movies:\n",
    "    if movie.cast_contained(person):\n",
    "        print(movie.format())"
   ]
  },
  {
   "cell_type": "markdown",
   "id": "f2e0c443",
   "metadata": {
    "slideshow": {
     "slide_type": "subslide"
    }
   },
   "source": [
    "What about a container class to hold all our movies, and encapsulate some of these searching methods?"
   ]
  },
  {
   "cell_type": "code",
   "execution_count": null,
   "id": "41aa35a8",
   "metadata": {
    "execution": {
     "iopub.execute_input": "2023-11-06T19:07:59.421217Z",
     "iopub.status.busy": "2023-11-06T19:07:59.420885Z",
     "iopub.status.idle": "2023-11-06T19:07:59.427611Z",
     "shell.execute_reply": "2023-11-06T19:07:59.426589Z"
    }
   },
   "outputs": [],
   "source": [
    "class MovieCatalog:\n",
    "    def __init__(self):\n",
    "        self.movies = []\n",
    "        \n",
    "    def add_movie(self, movie):\n",
    "        self.movies.append(movie)\n",
    "    \n",
    "    def cast_search(self, person):\n",
    "        matches = []\n",
    "        for movie in self.movies:\n",
    "            if movie.cast_contained(person):\n",
    "                matches.append(movie)\n",
    "        return matches\n",
    "    \n",
    "def load_movie_catalog(filename):\n",
    "    with open(filename, 'r') as f:\n",
    "        json_movies = json.load(f)\n",
    "\n",
    "    cat = MovieCatalog()\n",
    "    for json_movie in json_movies:\n",
    "        cat.add_movie(Movie(json_movie['title'], json_movie['year'], json_movie['cast'], json_movie['genres']))\n",
    "    return cat"
   ]
  },
  {
   "cell_type": "code",
   "execution_count": null,
   "id": "90dcd8c3",
   "metadata": {
    "execution": {
     "iopub.execute_input": "2023-11-06T19:07:59.431274Z",
     "iopub.status.busy": "2023-11-06T19:07:59.430955Z",
     "iopub.status.idle": "2023-11-06T19:08:00.091579Z",
     "shell.execute_reply": "2023-11-06T19:08:00.090754Z"
    },
    "slideshow": {
     "slide_type": "subslide"
    }
   },
   "outputs": [],
   "source": [
    "cat = load_movie_catalog('../../snippets/movie_data.json')\n",
    "\n",
    "matches = cat.cast_search(\"Christopher Walken\")\n",
    "for match in matches:\n",
    "    print(match.format())"
   ]
  },
  {
   "cell_type": "markdown",
   "id": "dce68622",
   "metadata": {
    "slideshow": {
     "slide_type": "subslide"
    }
   },
   "source": [
    "We can re-write `cast_search` with a list comprehension:"
   ]
  },
  {
   "cell_type": "code",
   "execution_count": null,
   "id": "63416119",
   "metadata": {
    "execution": {
     "iopub.execute_input": "2023-11-06T19:08:00.095408Z",
     "iopub.status.busy": "2023-11-06T19:08:00.095083Z",
     "iopub.status.idle": "2023-11-06T19:08:00.099994Z",
     "shell.execute_reply": "2023-11-06T19:08:00.099209Z"
    }
   },
   "outputs": [],
   "source": [
    "class MovieCatalog:\n",
    "    def __init__(self):\n",
    "        self.movies = []\n",
    "        \n",
    "    def add_movie(self, movie):\n",
    "        self.movies.append(movie)\n",
    "    \n",
    "    def cast_search(self, person):\n",
    "        return [m for m in self.movies if m.cast_contained(person)]    "
   ]
  },
  {
   "cell_type": "markdown",
   "id": "470b20a7",
   "metadata": {
    "slideshow": {
     "slide_type": "subslide"
    }
   },
   "source": [
    "## JSON and Classes: Best buds\n",
    "\n",
    "JSON data and classes often go well together - classes can capture the structure of the data, and let you define operations to perform on it."
   ]
  },
  {
   "cell_type": "markdown",
   "id": "e943b144",
   "metadata": {
    "slideshow": {
     "slide_type": "subslide"
    }
   },
   "source": [
    "## Final movie code\n",
    "\n",
    "Including `MovieCatalog` methods for title/year search."
   ]
  },
  {
   "cell_type": "code",
   "execution_count": null,
   "id": "25e9d31d",
   "metadata": {
    "execution": {
     "iopub.execute_input": "2023-11-06T19:08:00.103779Z",
     "iopub.status.busy": "2023-11-06T19:08:00.103468Z",
     "iopub.status.idle": "2023-11-06T19:08:00.113019Z",
     "shell.execute_reply": "2023-11-06T19:08:00.112198Z"
    }
   },
   "outputs": [],
   "source": [
    "class Movie:\n",
    "    def __init__(self, title, year, cast, genres):\n",
    "        self.title = title\n",
    "        self.year = year\n",
    "        self.cast = cast\n",
    "        self.genres = genres\n",
    "\n",
    "    def __str__(self):\n",
    "        return f\"{self.title} ({self.year})\"\n",
    "    \n",
    "    def cast_contained(self, name):\n",
    "        return name in self.cast\n",
    "    \n",
    "    \n",
    "class MovieCatalog:\n",
    "    def __init__(self):\n",
    "        self.movies = []\n",
    "        \n",
    "    def add_movie(self, movie):\n",
    "        self.movies.append(movie)\n",
    "    \n",
    "    def cast_search(self, person):\n",
    "        return [m for m in self.movies if m.cast_contained(person)]    \n",
    "    \n",
    "    def title_search(self, value):\n",
    "        return [m for m in self.movies if value in m.title]\n",
    "    \n",
    "    def year_search(self, year):\n",
    "        return [m for m in self.movies if m.year == year]\n",
    "    \n",
    "    \n",
    "def load_movie_catalog(filename):\n",
    "    with open(filename, 'r') as f:\n",
    "        json_movies = json.load(f)\n",
    "\n",
    "    cat = MovieCatalog()\n",
    "    for json_movie in json_movies:\n",
    "        cat.add_movie(Movie(json_movie['title'], json_movie['year'], json_movie['cast'], json_movie['genres']))\n",
    "    return cat    "
   ]
  }
 ],
 "metadata": {
  "celltoolbar": "Slideshow",
  "kernelspec": {
   "display_name": "Python 3 (ipykernel)",
   "language": "python",
   "name": "python3"
  },
  "language_info": {
   "codemirror_mode": {
    "name": "ipython",
    "version": 3
   },
   "file_extension": ".py",
   "mimetype": "text/x-python",
   "name": "python",
   "nbconvert_exporter": "python",
   "pygments_lexer": "ipython3",
   "version": "3.10.9"
  }
 },
 "nbformat": 4,
 "nbformat_minor": 5
}
