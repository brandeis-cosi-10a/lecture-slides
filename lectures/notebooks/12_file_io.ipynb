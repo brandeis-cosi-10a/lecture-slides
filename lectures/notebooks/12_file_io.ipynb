{
 "cells": [
  {
   "cell_type": "markdown",
   "id": "1ee8a1d2",
   "metadata": {
    "slideshow": {
     "slide_type": "slide"
    }
   },
   "source": [
    "# File Input/Output, CSVs\n",
    "\n",
    "<style>\n",
    "section.present > section.present { \n",
    "    max-height: 90%; \n",
    "    overflow-y: scroll;\n",
    "}\n",
    "</style>\n",
    "\n",
    "<small><a href=\"https://colab.research.google.com/github/brandeis-jdelfino/cosi-10a/blob/main/lectures/notebooks/12_file_io.ipynb\">Link to interactive slides on Google Colab</a></small>"
   ]
  },
  {
   "cell_type": "markdown",
   "id": "69bb0aba",
   "metadata": {
    "slideshow": {
     "slide_type": "slide"
    }
   },
   "source": [
    "# Announcements\n",
    "\n",
    "* PS4 due tonight, 11:59pm\n",
    "* PS5 will open Thursday after lecture - 1 (larger) problem using classes and file I/O. \n",
    "   * Due Tuesday 11/21 11:59 pm\n",
    "* PS6 will be a smaller problem set, after Thanksgiving break, covering recursion, regular expressions, and some review\n",
    "* Quiz 7 tomorrow on classes"
   ]
  },
  {
   "cell_type": "markdown",
   "id": "5169b53d",
   "metadata": {
    "slideshow": {
     "slide_type": "slide"
    }
   },
   "source": [
    "# Reading files\n",
    "\n",
    "Python allows you to read the contents of files:"
   ]
  },
  {
   "cell_type": "code",
   "execution_count": null,
   "id": "09399bfb",
   "metadata": {
    "execution": {
     "iopub.execute_input": "2023-11-12T21:25:44.777334Z",
     "iopub.status.busy": "2023-11-12T21:25:44.776829Z",
     "iopub.status.idle": "2023-11-12T21:25:44.791059Z",
     "shell.execute_reply": "2023-11-12T21:25:44.790208Z"
    }
   },
   "outputs": [],
   "source": [
    "f = open('../../snippets/names.txt')\n",
    "print(f.read())"
   ]
  },
  {
   "cell_type": "markdown",
   "id": "ad1f2a3e",
   "metadata": {
    "slideshow": {
     "slide_type": "slide"
    }
   },
   "source": [
    "# But first: Understanding file paths\n",
    "\n",
    "Files are stored in a big tree of nested directories, each of which can contain files and/or other directories. \n",
    "\n",
    "A directory that contains another directory is called a \"parent\" directory. \n",
    "\n",
    "The \"root\" directory is the (eventual) parent of all files and directories.\n",
    "\n",
    "The \"working\" directory is the directory you are currently working in. Every program or command that runs has a \"working\" directory."
   ]
  },
  {
   "cell_type": "markdown",
   "id": "44fd0d12",
   "metadata": {
    "slideshow": {
     "slide_type": "subslide"
    }
   },
   "source": [
    "## File path syntax\n",
    "\n",
    "Special characters:\n",
    "* `/`: directory separator\n",
    "* `..`: parent directory\n",
    "* `.`: current directory\n",
    "* `~`: your home directory\n",
    "* `*`: wildcard, match any characters"
   ]
  },
  {
   "cell_type": "markdown",
   "id": "3b3ca8cc",
   "metadata": {
    "slideshow": {
     "slide_type": "subslide"
    }
   },
   "source": [
    "## Absolute vs. relative file paths\n",
    "\n",
    "File paths that start with `/` are \"absolute\", meaning they are interpreted relative to the root directory.\n",
    "\n",
    "File paths that do not start with `/` are \"relative\", and are interpreted relative to the current working directory."
   ]
  },
  {
   "cell_type": "markdown",
   "id": "4e4e5803",
   "metadata": {
    "slideshow": {
     "slide_type": "subslide"
    }
   },
   "source": [
    "## Examples\n",
    "* `/Users/jdelfino/stuff/smile.txt` \n",
    "   * the file `smile.txt` found in the directory `/Users/jdelfino/stuff`  \n",
    "* `stuff/smile.txt`\n",
    "   * the file `smile.txt`, in the `stuff` directory, in the current working directory  \n",
    "* `../smile.txt`\n",
    "   * the file `smile.txt` found in the parent directory of the current working directory  \n",
    "* `./*.txt` or `*.txt`\n",
    "   * all files with the `.txt` extension in the current working directory  \n",
    "* `../*.txt`\n",
    "   * all files with the `.txt` extension found in the parent directory of the current working directory  \n"
   ]
  },
  {
   "cell_type": "markdown",
   "id": "a466138e",
   "metadata": {
    "slideshow": {
     "slide_type": "slide"
    }
   },
   "source": [
    "# Reading files\n",
    "\n",
    "Python allows you to read the contents of files:"
   ]
  },
  {
   "cell_type": "code",
   "execution_count": null,
   "id": "444e4d6f",
   "metadata": {
    "execution": {
     "iopub.execute_input": "2023-11-12T21:25:44.795965Z",
     "iopub.status.busy": "2023-11-12T21:25:44.795503Z",
     "iopub.status.idle": "2023-11-12T21:25:44.804235Z",
     "shell.execute_reply": "2023-11-12T21:25:44.801747Z"
    }
   },
   "outputs": [],
   "source": [
    "f = open('../../snippets/names.txt')\n",
    "print(f.read())"
   ]
  },
  {
   "cell_type": "markdown",
   "id": "14a564ba",
   "metadata": {
    "slideshow": {
     "slide_type": "subslide"
    }
   },
   "source": [
    "You can also get the data one line at a a time:"
   ]
  },
  {
   "cell_type": "code",
   "execution_count": null,
   "id": "7e2e5bb2",
   "metadata": {
    "execution": {
     "iopub.execute_input": "2023-11-12T21:25:44.810082Z",
     "iopub.status.busy": "2023-11-12T21:25:44.809629Z",
     "iopub.status.idle": "2023-11-12T21:25:44.814847Z",
     "shell.execute_reply": "2023-11-12T21:25:44.813857Z"
    }
   },
   "outputs": [],
   "source": [
    "f = open('../../snippets/names.txt')\n",
    "for line in f:\n",
    "    print(line, end='')"
   ]
  },
  {
   "cell_type": "markdown",
   "id": "8156b975",
   "metadata": {},
   "source": [
    "Note the `end=''` for the `print`. \n",
    "\n",
    "When reading a file, the newlines from the file are returned as part of each line. \n",
    "\n",
    "You can strip them out with the `strip()` string method, depending on how you want to use the data."
   ]
  },
  {
   "cell_type": "code",
   "execution_count": null,
   "id": "ec054b09",
   "metadata": {
    "execution": {
     "iopub.execute_input": "2023-11-12T21:25:44.819010Z",
     "iopub.status.busy": "2023-11-12T21:25:44.818660Z",
     "iopub.status.idle": "2023-11-12T21:25:44.823672Z",
     "shell.execute_reply": "2023-11-12T21:25:44.822853Z"
    },
    "slideshow": {
     "slide_type": "subslide"
    }
   },
   "outputs": [],
   "source": [
    "f = open('../../snippets/names.txt')\n",
    "for line in f:\n",
    "    print(f\"Name: {line.strip()}\")"
   ]
  },
  {
   "cell_type": "markdown",
   "id": "4a1128bc",
   "metadata": {
    "slideshow": {
     "slide_type": "subslide"
    }
   },
   "source": [
    "## File objects\n",
    "\n",
    "`open()` returns a \"file object\". File objects have a number of methods, and are also **iterables** - that's why we were able to use a for loop on them."
   ]
  },
  {
   "cell_type": "markdown",
   "id": "3a8ef820",
   "metadata": {
    "slideshow": {
     "slide_type": "slide"
    }
   },
   "source": [
    "# Writing Files\n",
    "\n",
    "You can write strings to files:"
   ]
  },
  {
   "cell_type": "code",
   "execution_count": null,
   "id": "8df33eb0",
   "metadata": {
    "execution": {
     "iopub.execute_input": "2023-11-12T21:25:44.828924Z",
     "iopub.status.busy": "2023-11-12T21:25:44.828465Z",
     "iopub.status.idle": "2023-11-12T21:25:44.839432Z",
     "shell.execute_reply": "2023-11-12T21:25:44.838619Z"
    }
   },
   "outputs": [],
   "source": [
    "f = open('../../snippets/output.txt', 'w')\n",
    "f.write(\"Hello, files!\")\n",
    "f.close()\n",
    "\n",
    "g = open('../../snippets/output.txt', 'r')\n",
    "print(f\"File contents: {g.read()}\")"
   ]
  },
  {
   "cell_type": "markdown",
   "id": "95f0453c",
   "metadata": {},
   "source": [
    "Note the call to `close()` - files must be closed after writing to them."
   ]
  },
  {
   "cell_type": "markdown",
   "id": "9384b03b",
   "metadata": {
    "slideshow": {
     "slide_type": "subslide"
    }
   },
   "source": [
    "## File modes\n",
    "\n",
    "Notice that we called `open` slightly differently for writing vs. reading:\n",
    "\n",
    "`open('../../snippets/output.txt', 'w')`  \n",
    "vs.  \n",
    "`open('../../snippets/output.txt', 'r')`\n",
    "\n",
    "The second paramater is the \"mode\". There are several modes, but the most commonly useful are:\n",
    "\n",
    "| character | mode |\n",
    "|:---:|:---|\n",
    "| r | open for reading (default) |\n",
    "| w | open for writing, truncating the file first |\n",
    "| a | open for writing, appending to the end of file if it exists |"
   ]
  },
  {
   "cell_type": "markdown",
   "id": "ec99d3c7",
   "metadata": {
    "slideshow": {
     "slide_type": "subslide"
    }
   },
   "source": [
    "## Closing files\n",
    "\n",
    "Files need to be closed when they are no longer needed. \n",
    "\n",
    "We did it above with the `.close()` method.\n",
    "\n",
    "This is especially important when writing data to files, because the data is sometimes not actually written to the file until `close()` is called!"
   ]
  },
  {
   "cell_type": "code",
   "execution_count": null,
   "id": "891c1dbf",
   "metadata": {
    "execution": {
     "iopub.execute_input": "2023-11-12T21:25:44.844261Z",
     "iopub.status.busy": "2023-11-12T21:25:44.843483Z",
     "iopub.status.idle": "2023-11-12T21:25:44.850307Z",
     "shell.execute_reply": "2023-11-12T21:25:44.849229Z"
    }
   },
   "outputs": [],
   "source": [
    "f = open('../../snippets/output.txt', 'w')\n",
    "f.write(\"Hello, files!\")\n",
    "f.close()\n",
    "\n",
    "g = open('../../snippets/output.txt', 'r')\n",
    "print(f\"File contents: {g.read()}\")"
   ]
  },
  {
   "cell_type": "markdown",
   "id": "c5255c02",
   "metadata": {
    "slideshow": {
     "slide_type": "subslide"
    }
   },
   "source": [
    "File objects have a `closed` attribute that can be accessed to tell you whether a file has been closed or not."
   ]
  },
  {
   "cell_type": "code",
   "execution_count": null,
   "id": "81b8ca11",
   "metadata": {
    "execution": {
     "iopub.execute_input": "2023-11-12T21:25:44.854465Z",
     "iopub.status.busy": "2023-11-12T21:25:44.854126Z",
     "iopub.status.idle": "2023-11-12T21:25:45.249938Z",
     "shell.execute_reply": "2023-11-12T21:25:45.248703Z"
    }
   },
   "outputs": [],
   "source": [
    "output_filename = '../../snippets/output.txt'\n",
    "output_file = open(filename, 'w')\n",
    "\n",
    "print(f\"[Before writing to file] Is f closed? {f.closed}\")\n",
    "f.write(\"Hello, files!\")\n",
    "print(f\"[After writing to file] Is f closed? {f.closed}\")\n",
    "f.close()\n",
    "print(f\"[After closing] Is f closed? {f.closed}\")\n",
    "\n",
    "g = open('../../snippets/output.txt', 'r')\n",
    "print(f\"File contents: {g.read()}\")\n",
    "print(f\"[After reading file contents] Is g closed? {g.closed}\")"
   ]
  },
  {
   "cell_type": "markdown",
   "id": "6d6a787f",
   "metadata": {
    "slideshow": {
     "slide_type": "slide"
    }
   },
   "source": [
    "## `with`\n",
    "\n",
    "There's a convenient way to ensure you don't forget to close a file: a `with` clause."
   ]
  },
  {
   "cell_type": "code",
   "execution_count": null,
   "id": "6902e747",
   "metadata": {
    "execution": {
     "iopub.execute_input": "2023-11-12T21:25:45.255096Z",
     "iopub.status.busy": "2023-11-12T21:25:45.254475Z",
     "iopub.status.idle": "2023-11-12T21:25:45.260217Z",
     "shell.execute_reply": "2023-11-12T21:25:45.259410Z"
    }
   },
   "outputs": [],
   "source": [
    "with open('../../snippets/names.txt', 'r') as f:\n",
    "    print(f\"[Before for loop] Is f closed? {f.closed}\")\n",
    "    \n",
    "    for line in f:\n",
    "        print(line, end='')\n",
    "    \n",
    "    print(f\"[After for loop] Is f closed? {f.closed}\")\n",
    "\n",
    "print(f\"[Outside 'with' clause] Is f closed? {f.closed}\")"
   ]
  },
  {
   "cell_type": "markdown",
   "id": "02d8f99d",
   "metadata": {},
   "source": [
    "This code opens the file, assigns the file object to the variable `f`, executes the code inside the `with` block, then automatically closes the file when exiting the `with` block."
   ]
  },
  {
   "cell_type": "markdown",
   "id": "1f344c65",
   "metadata": {
    "slideshow": {
     "slide_type": "subslide"
    }
   },
   "source": [
    "## Context managers\n",
    "\n",
    "File objects are **context managers**, which means they can be used with the `with` statement to manage resources automatically when entering and exiting a `with` block.\n",
    "\n",
    "There are other context managers in Python, and you can even [write your own](https://docs.python.org/3/reference/datamodel.html#context-managers). \n",
    "\n",
    "It's good practice to handle file objects with `with` rather than closing manually."
   ]
  },
  {
   "cell_type": "markdown",
   "id": "302725d4",
   "metadata": {
    "slideshow": {
     "slide_type": "slide"
    }
   },
   "source": [
    "## Exercise\n",
    "\n",
    "Read in two files, `../../snippets/hamlet.txt` and `../../snippets/macbeth.txt` and print out all the lines that are found in both files."
   ]
  },
  {
   "cell_type": "markdown",
   "id": "9d881c37",
   "metadata": {
    "slideshow": {
     "slide_type": "subslide"
    }
   },
   "source": [
    "First, read a single file into a list and print out some things about it:"
   ]
  },
  {
   "cell_type": "code",
   "execution_count": null,
   "id": "4032c36f",
   "metadata": {
    "execution": {
     "iopub.execute_input": "2023-11-12T21:25:45.264409Z",
     "iopub.status.busy": "2023-11-12T21:25:45.264081Z",
     "iopub.status.idle": "2023-11-12T21:25:45.273257Z",
     "shell.execute_reply": "2023-11-12T21:25:45.272481Z"
    }
   },
   "outputs": [],
   "source": [
    "macbeth = []\n",
    "with open('../../snippets/shakespeare/macbeth.txt', 'r') as f:\n",
    "    print(type(f))\n",
    "    for line in f:\n",
    "        macbeth.append(line.strip())\n",
    "\n",
    "print(f\"Found {len(macbeth)} total lines.\")\n",
    "print()\n",
    "print(\"First 10 lines:\")\n",
    "print()\n",
    "for line in macbeth[:10]:\n",
    "    print(line)\n",
    "\n",
    "print()\n",
    "print(\"10 lines from the middle:\")\n",
    "print()\n",
    "for line in macbeth[2000:2010]:\n",
    "    print(line)\n"
   ]
  },
  {
   "cell_type": "markdown",
   "id": "564065cb",
   "metadata": {
    "slideshow": {
     "slide_type": "subslide"
    }
   },
   "source": [
    "Now read the other file too, and check for overlap:"
   ]
  },
  {
   "cell_type": "code",
   "execution_count": null,
   "id": "134e4057",
   "metadata": {
    "execution": {
     "iopub.execute_input": "2023-11-12T21:25:45.277295Z",
     "iopub.status.busy": "2023-11-12T21:25:45.276918Z",
     "iopub.status.idle": "2023-11-12T21:25:45.544295Z",
     "shell.execute_reply": "2023-11-12T21:25:45.543500Z"
    }
   },
   "outputs": [],
   "source": [
    "macbeth = []\n",
    "hamlet = []\n",
    "\n",
    "with open('../../snippets/shakespeare/macbeth.txt', 'r') as f:\n",
    "    for line in f:\n",
    "        macbeth.append(line.strip())\n",
    "\n",
    "with open('../../snippets/shakespeare/hamlet.txt', 'r') as f:\n",
    "    for line in f:\n",
    "        hamlet.append(line.strip())\n",
    "\n",
    "for line in hamlet:\n",
    "    if line in macbeth:\n",
    "        print(line)"
   ]
  },
  {
   "cell_type": "markdown",
   "id": "380b60a1",
   "metadata": {
    "slideshow": {
     "slide_type": "subslide"
    }
   },
   "source": [
    "Looks like we need to handle duplicates..."
   ]
  },
  {
   "cell_type": "code",
   "execution_count": null,
   "id": "eabc8fe7",
   "metadata": {
    "execution": {
     "iopub.execute_input": "2023-11-12T21:25:45.548407Z",
     "iopub.status.busy": "2023-11-12T21:25:45.548085Z",
     "iopub.status.idle": "2023-11-12T21:25:45.558293Z",
     "shell.execute_reply": "2023-11-12T21:25:45.557370Z"
    },
    "slideshow": {
     "slide_type": "fragment"
    }
   },
   "outputs": [],
   "source": [
    "macbeth = set()\n",
    "hamlet = set()\n",
    "\n",
    "with open('../../snippets/shakespeare/macbeth.txt', 'r') as f:\n",
    "    for line in f:\n",
    "        macbeth.add(line.strip())\n",
    "\n",
    "with open('../../snippets/shakespeare/hamlet.txt', 'r') as f:\n",
    "    for line in f:\n",
    "        hamlet.add(line.strip())\n",
    "\n",
    "print(hamlet & macbeth)"
   ]
  },
  {
   "cell_type": "markdown",
   "id": "be2707aa",
   "metadata": {
    "slideshow": {
     "slide_type": "subslide"
    }
   },
   "source": [
    "We can make the output a little prettier"
   ]
  },
  {
   "cell_type": "code",
   "execution_count": null,
   "id": "3f1b43a0",
   "metadata": {
    "execution": {
     "iopub.execute_input": "2023-11-12T21:25:45.563221Z",
     "iopub.status.busy": "2023-11-12T21:25:45.562841Z",
     "iopub.status.idle": "2023-11-12T21:25:45.572913Z",
     "shell.execute_reply": "2023-11-12T21:25:45.572097Z"
    }
   },
   "outputs": [],
   "source": [
    "macbeth = set()\n",
    "hamlet = set()\n",
    "\n",
    "with open('../../snippets/shakespeare/hamlet.txt', 'r') as f:\n",
    "    for line in f:\n",
    "        hamlet.add(line.strip())\n",
    "\n",
    "with open('../../snippets/shakespeare/macbeth.txt', 'r') as f:\n",
    "    for line in f:\n",
    "        macbeth.add(line.strip())\n",
    "\n",
    "overlapping = sorted(list(macbeth & hamlet))\n",
    "print('\\n'.join(overlapping))"
   ]
  },
  {
   "cell_type": "markdown",
   "id": "97471c68",
   "metadata": {
    "slideshow": {
     "slide_type": "slide"
    }
   },
   "source": [
    "## Exercise 2\n",
    "\n",
    "Do the same thing for all of Shakespeare's plays at once."
   ]
  },
  {
   "cell_type": "code",
   "execution_count": null,
   "id": "90939f8d",
   "metadata": {
    "execution": {
     "iopub.execute_input": "2023-11-12T21:25:45.577360Z",
     "iopub.status.busy": "2023-11-12T21:25:45.576477Z",
     "iopub.status.idle": "2023-11-12T21:25:45.581329Z",
     "shell.execute_reply": "2023-11-12T21:25:45.580480Z"
    }
   },
   "outputs": [],
   "source": [
    "macbeth = set()\n",
    "hamlet = set()\n",
    "othello = set()\n",
    "henry_iv_part1 = set()\n",
    "henry_iv_part2 = set()\n",
    "# ..."
   ]
  },
  {
   "cell_type": "markdown",
   "id": "b471ed9e",
   "metadata": {
    "slideshow": {
     "slide_type": "fragment"
    }
   },
   "source": [
    "There must be an easier way."
   ]
  },
  {
   "cell_type": "markdown",
   "id": "83291360",
   "metadata": {
    "slideshow": {
     "slide_type": "subslide"
    }
   },
   "source": [
    "We can use `os.listdir()` to get everything in a directory."
   ]
  },
  {
   "cell_type": "code",
   "execution_count": null,
   "id": "3966481d",
   "metadata": {
    "execution": {
     "iopub.execute_input": "2023-11-12T21:25:45.585330Z",
     "iopub.status.busy": "2023-11-12T21:25:45.585008Z",
     "iopub.status.idle": "2023-11-12T21:25:45.590281Z",
     "shell.execute_reply": "2023-11-12T21:25:45.589436Z"
    }
   },
   "outputs": [],
   "source": [
    "import os\n",
    "play_files = []\n",
    "for f in os.listdir('../../snippets/shakespeare/'):\n",
    "    play_files.append(f)\n",
    "print(play_files)\n",
    "print(len(play_files))"
   ]
  },
  {
   "cell_type": "markdown",
   "id": "18d559f1",
   "metadata": {
    "slideshow": {
     "slide_type": "subslide"
    }
   },
   "source": [
    "Next problem, how do we avoid writing 41 for loops?\n",
    "\n",
    "Let's functionally decompose, 2 steps:\n",
    "1. Find all file names and load the lines from each file into a set\n",
    "2. Find the intersection between the lines from each file"
   ]
  },
  {
   "cell_type": "markdown",
   "id": "2c5ece84",
   "metadata": {
    "slideshow": {
     "slide_type": "subslide"
    }
   },
   "source": [
    "1. Find all file names and load the lines from each file into a set"
   ]
  },
  {
   "cell_type": "code",
   "execution_count": null,
   "id": "f6373c39",
   "metadata": {
    "execution": {
     "iopub.execute_input": "2023-11-12T21:25:45.594396Z",
     "iopub.status.busy": "2023-11-12T21:25:45.594062Z",
     "iopub.status.idle": "2023-11-12T21:25:45.599036Z",
     "shell.execute_reply": "2023-11-12T21:25:45.598051Z"
    },
    "slideshow": {
     "slide_type": "-"
    }
   },
   "outputs": [],
   "source": [
    "def load_files(directory):\n",
    "    all_data = []\n",
    "    for filename in os.listdir(directory): \n",
    "        play_lines = set()\n",
    "        with open(directory + filename, 'r') as f:\n",
    "            for line in f:\n",
    "                play_lines.add(line.strip())\n",
    "        all_data.append(play_lines)\n",
    "    return all_data"
   ]
  },
  {
   "cell_type": "markdown",
   "id": "0c88398f",
   "metadata": {
    "slideshow": {
     "slide_type": "subslide"
    }
   },
   "source": [
    "Let's make this more readable - split out the code to process a single file"
   ]
  },
  {
   "cell_type": "code",
   "execution_count": null,
   "id": "c6d0fc0d",
   "metadata": {
    "execution": {
     "iopub.execute_input": "2023-11-12T21:25:45.603059Z",
     "iopub.status.busy": "2023-11-12T21:25:45.602736Z",
     "iopub.status.idle": "2023-11-12T21:25:45.608169Z",
     "shell.execute_reply": "2023-11-12T21:25:45.607292Z"
    },
    "slideshow": {
     "slide_type": "-"
    }
   },
   "outputs": [],
   "source": [
    "def load_file(filename):\n",
    "    play_lines = set()\n",
    "    with open(filename, 'r') as f:\n",
    "        for line in f:\n",
    "            play_lines.add(line.strip())\n",
    "    return play_lines\n",
    "\n",
    "def load_files(directory):\n",
    "    all_data = []\n",
    "    for filename in os.listdir(directory):\n",
    "        all_data.append(load_file(directory + filename))\n",
    "    return all_data"
   ]
  },
  {
   "cell_type": "code",
   "execution_count": null,
   "id": "370c770b",
   "metadata": {
    "execution": {
     "iopub.execute_input": "2023-11-12T21:25:45.611911Z",
     "iopub.status.busy": "2023-11-12T21:25:45.611585Z",
     "iopub.status.idle": "2023-11-12T21:25:45.783246Z",
     "shell.execute_reply": "2023-11-12T21:25:45.782385Z"
    },
    "slideshow": {
     "slide_type": "subslide"
    },
    "tags": [
     "raises-exception"
    ]
   },
   "outputs": [],
   "source": [
    "all_lines = load_files('../../snippets/shakespeare/')\n",
    "\n",
    "print(f\"Loaded {len(all_lines)} files\")\n",
    "for play in all_lines:\n",
    "    print(f\"Unique lines: {len(play)}\")"
   ]
  },
  {
   "cell_type": "markdown",
   "id": "b590cd6d",
   "metadata": {
    "slideshow": {
     "slide_type": "subslide"
    }
   },
   "source": [
    "Hm, might be nice to see filenames. Let's do a dictionary of sets."
   ]
  },
  {
   "cell_type": "code",
   "execution_count": null,
   "id": "66871d9b",
   "metadata": {
    "execution": {
     "iopub.execute_input": "2023-11-12T21:25:45.787395Z",
     "iopub.status.busy": "2023-11-12T21:25:45.787031Z",
     "iopub.status.idle": "2023-11-12T21:25:45.792554Z",
     "shell.execute_reply": "2023-11-12T21:25:45.791721Z"
    },
    "slideshow": {
     "slide_type": "-"
    }
   },
   "outputs": [],
   "source": [
    "def load_file(filename):\n",
    "    play_lines = set()\n",
    "    with open(filename, 'r') as f:\n",
    "        for line in f:\n",
    "            play_lines.add(line.strip())\n",
    "    return play_lines\n",
    "\n",
    "def load_files(directory):\n",
    "    all_data = {}\n",
    "    for filename in os.listdir(directory):\n",
    "        all_data[filename] = load_file(directory + filename)\n",
    "    return all_data"
   ]
  },
  {
   "cell_type": "code",
   "execution_count": null,
   "id": "7f2e198c",
   "metadata": {
    "execution": {
     "iopub.execute_input": "2023-11-12T21:25:45.796391Z",
     "iopub.status.busy": "2023-11-12T21:25:45.796052Z",
     "iopub.status.idle": "2023-11-12T21:25:45.878295Z",
     "shell.execute_reply": "2023-11-12T21:25:45.877101Z"
    },
    "slideshow": {
     "slide_type": "subslide"
    },
    "tags": [
     "raises-exception"
    ]
   },
   "outputs": [],
   "source": [
    "play_lines = load_files('../../snippets/shakespeare/')\n",
    "\n",
    "print(f\"Loaded {len(play_lines)} files\")\n",
    "for play in play_lines:\n",
    "    print(f\"unique lines: {len(play_lines[play])} ({play})\")"
   ]
  },
  {
   "cell_type": "markdown",
   "id": "0857904d",
   "metadata": {
    "slideshow": {
     "slide_type": "subslide"
    }
   },
   "source": [
    "2. Find the intersection between the lines from each file"
   ]
  },
  {
   "cell_type": "code",
   "execution_count": null,
   "id": "3fed899e",
   "metadata": {
    "execution": {
     "iopub.execute_input": "2023-11-12T21:25:45.882377Z",
     "iopub.status.busy": "2023-11-12T21:25:45.882011Z",
     "iopub.status.idle": "2023-11-12T21:25:45.976183Z",
     "shell.execute_reply": "2023-11-12T21:25:45.975240Z"
    }
   },
   "outputs": [],
   "source": [
    "play_lines = load_files('../../snippets/shakespeare/')"
   ]
  },
  {
   "cell_type": "code",
   "execution_count": null,
   "id": "87bf4b83",
   "metadata": {
    "execution": {
     "iopub.execute_input": "2023-11-12T21:25:45.982573Z",
     "iopub.status.busy": "2023-11-12T21:25:45.981808Z",
     "iopub.status.idle": "2023-11-12T21:25:45.989635Z",
     "shell.execute_reply": "2023-11-12T21:25:45.988038Z"
    }
   },
   "outputs": [],
   "source": [
    "common_lines = set()\n",
    "for play in play_lines:\n",
    "    common_lines = common_lines & play_lines[play]\n",
    "print(common_lines)"
   ]
  },
  {
   "cell_type": "markdown",
   "id": "f3ed331b",
   "metadata": {
    "slideshow": {
     "slide_type": "fragment"
    }
   },
   "source": [
    "Seems suspicious... let's debug"
   ]
  },
  {
   "cell_type": "code",
   "execution_count": null,
   "id": "5a07aa24",
   "metadata": {
    "execution": {
     "iopub.execute_input": "2023-11-12T21:25:45.996740Z",
     "iopub.status.busy": "2023-11-12T21:25:45.996288Z",
     "iopub.status.idle": "2023-11-12T21:25:46.003497Z",
     "shell.execute_reply": "2023-11-12T21:25:46.002151Z"
    },
    "slideshow": {
     "slide_type": "subslide"
    }
   },
   "outputs": [],
   "source": [
    "common_lines = set()\n",
    "for play in play_lines:\n",
    "    common_lines = common_lines & play_lines[play]\n",
    "    print(f\"Lines after intersection with {play}: {len(common_lines)}\")\n",
    "print(common_lines)"
   ]
  },
  {
   "cell_type": "markdown",
   "id": "3b9cd628",
   "metadata": {
    "slideshow": {
     "slide_type": "subslide"
    }
   },
   "source": [
    "Oh, we start with an empty set. An empty set intersected with anything is... an empty set. Start with the first play instead."
   ]
  },
  {
   "cell_type": "code",
   "execution_count": null,
   "id": "0b1ee810",
   "metadata": {
    "execution": {
     "iopub.execute_input": "2023-11-12T21:25:46.008567Z",
     "iopub.status.busy": "2023-11-12T21:25:46.008093Z",
     "iopub.status.idle": "2023-11-12T21:25:46.015711Z",
     "shell.execute_reply": "2023-11-12T21:25:46.014066Z"
    },
    "slideshow": {
     "slide_type": "-"
    }
   },
   "outputs": [],
   "source": [
    "common_lines = None\n",
    "for play in play_lines:\n",
    "    if common_lines is None:\n",
    "        common_lines = play_lines[play]\n",
    "    else:\n",
    "        common_lines = common_lines & play_lines[play]\n",
    "    print(f\"Lines after intersection with {play}: {len(common_lines)}\")\n",
    "print(common_lines)"
   ]
  },
  {
   "cell_type": "markdown",
   "id": "4aa111a0",
   "metadata": {
    "slideshow": {
     "slide_type": "slide"
    }
   },
   "source": [
    "# CSV files\n",
    "\n",
    "CSV stands for \"character separated values\". \n",
    "\n",
    "In CSV files, rows of data are represented by lines in a file, and columns of data are separated by a specific character, called a **delimiter**. Commas (`,`) are commonly used as a delimiter, but any character can be a delimiter.\n",
    "\n",
    "CSV files are another common way to store structured data, especially if the data is tabular (like a spreadsheet).\n",
    "\n",
    "Here's an example of CSV data. Each line contains 4 fields: `id`, `name`, `house`, `hair color`:"
   ]
  },
  {
   "cell_type": "code",
   "execution_count": null,
   "id": "5fe876c9",
   "metadata": {
    "execution": {
     "iopub.execute_input": "2023-11-12T21:25:46.020850Z",
     "iopub.status.busy": "2023-11-12T21:25:46.020442Z",
     "iopub.status.idle": "2023-11-12T21:25:46.028664Z",
     "shell.execute_reply": "2023-11-12T21:25:46.027317Z"
    }
   },
   "outputs": [],
   "source": [
    "with open('../../snippets/csv_example.csv', 'r') as f:\n",
    "    for line in f:\n",
    "        print(line.strip())"
   ]
  },
  {
   "cell_type": "markdown",
   "id": "ac58d7aa",
   "metadata": {
    "slideshow": {
     "slide_type": "subslide"
    }
   },
   "source": [
    "## Reading CSVs\n",
    "\n",
    "We could just use `.split(',')` to split each line into a list. But Python provides some nice CSV utilities in the `csv` module.\n",
    "\n",
    "`csv.reader()` creates an iterable object that produces each line as a list."
   ]
  },
  {
   "cell_type": "code",
   "execution_count": null,
   "id": "7ae5a1e0",
   "metadata": {
    "execution": {
     "iopub.execute_input": "2023-11-12T21:25:46.034346Z",
     "iopub.status.busy": "2023-11-12T21:25:46.033942Z",
     "iopub.status.idle": "2023-11-12T21:25:46.041223Z",
     "shell.execute_reply": "2023-11-12T21:25:46.039942Z"
    }
   },
   "outputs": [],
   "source": [
    "import csv\n",
    "with open('../../snippets/csv_example.csv', 'r') as f:\n",
    "    reader = csv.reader(f, delimiter=',')\n",
    "    for line in reader:\n",
    "        print(line)"
   ]
  },
  {
   "cell_type": "markdown",
   "id": "19f39836",
   "metadata": {
    "slideshow": {
     "slide_type": "subslide"
    }
   },
   "source": [
    "## Writing CSVs\n",
    "\n",
    "`csv.writer()` creates an object with a `writerow` method, which takes a `list` and writes it out as a single CSV row."
   ]
  },
  {
   "cell_type": "code",
   "execution_count": null,
   "id": "db79160a",
   "metadata": {
    "execution": {
     "iopub.execute_input": "2023-11-12T21:25:46.046738Z",
     "iopub.status.busy": "2023-11-12T21:25:46.046327Z",
     "iopub.status.idle": "2023-11-12T21:25:46.058280Z",
     "shell.execute_reply": "2023-11-12T21:25:46.056609Z"
    },
    "slideshow": {
     "slide_type": "-"
    }
   },
   "outputs": [],
   "source": [
    "import csv\n",
    "data = [\n",
    "    ['11', 'Harry', 'Gryffindor', 'Brown'],\n",
    "    ['18', 'Draco', 'Slytherin', 'Blonde'],\n",
    "    ['22', 'Cho', 'Ravenclaw', 'Black'],\n",
    "    ['28', 'Ron', 'Gryffindor', 'Red'],\n",
    "    ['47', 'Hermione', 'Gryffindor', 'Brown']]\n",
    "\n",
    "with open('../../snippets/csv_example2.csv', 'w', newline='') as f:\n",
    "    writer = csv.writer(f, delimiter='|')\n",
    "    for d in data:\n",
    "        writer.writerow(d)\n",
    "        \n",
    "with open('../../snippets/csv_example2.csv', 'r') as f:\n",
    "    for line in f:\n",
    "        print(line, end='')"
   ]
  },
  {
   "cell_type": "markdown",
   "id": "f79043f9",
   "metadata": {
    "slideshow": {
     "slide_type": "subslide"
    }
   },
   "source": [
    "## How useful is this, really?\n",
    "\n",
    "Why use the `csv` module, when `split()` and `join()` calls are so easy?\n",
    "\n",
    "Well, it handles a lot of edge cases - for example, escaped delimiters within fields."
   ]
  },
  {
   "cell_type": "markdown",
   "id": "da013658",
   "metadata": {
    "slideshow": {
     "slide_type": "subslide"
    }
   },
   "source": [
    "Here's an example using `split()` and `join()`"
   ]
  },
  {
   "cell_type": "code",
   "execution_count": null,
   "id": "029d85ca",
   "metadata": {
    "execution": {
     "iopub.execute_input": "2023-11-12T21:25:46.066758Z",
     "iopub.status.busy": "2023-11-12T21:25:46.066101Z",
     "iopub.status.idle": "2023-11-12T21:25:46.080116Z",
     "shell.execute_reply": "2023-11-12T21:25:46.078411Z"
    },
    "slideshow": {
     "slide_type": "-"
    }
   },
   "outputs": [],
   "source": [
    "import csv\n",
    "data = [\n",
    "    ['11', 'Harry', 'Gryffindor', 'Brown,mostly'],\n",
    "    ['18', 'Draco', 'Slytherin', 'Blonde,mostly'],\n",
    "    ['22', 'Cho', 'Ravenclaw', 'Black,really'],\n",
    "    ['28', 'Ron', 'Gryffindor', 'Red,very'],\n",
    "    ['47', 'Hermione', 'Gryffindor', 'Brown']]\n",
    "\n",
    "with open('../../snippets/csv_example2.csv', 'w', newline='') as f:\n",
    "    for d in data:\n",
    "        f.write(','.join(d) + '\\n')\n",
    "        \n",
    "with open('../../snippets/csv_example2.csv', 'r') as f:\n",
    "    for line in f:\n",
    "        print(line.strip().split(','))"
   ]
  },
  {
   "cell_type": "markdown",
   "id": "08098063",
   "metadata": {
    "slideshow": {
     "slide_type": "subslide"
    }
   },
   "source": [
    "Here's the same example using the `csv` module"
   ]
  },
  {
   "cell_type": "code",
   "execution_count": null,
   "id": "7e06e2af",
   "metadata": {
    "execution": {
     "iopub.execute_input": "2023-11-12T21:25:46.088492Z",
     "iopub.status.busy": "2023-11-12T21:25:46.087497Z",
     "iopub.status.idle": "2023-11-12T21:25:46.103158Z",
     "shell.execute_reply": "2023-11-12T21:25:46.101943Z"
    }
   },
   "outputs": [],
   "source": [
    "import csv\n",
    "data = [\n",
    "    ['11', 'Harry', 'Gryffindor', 'Brown,mostly'],\n",
    "    ['18', 'Draco', 'Slytherin', 'Blonde,mostly'],\n",
    "    ['22', 'Cho', 'Ravenclaw', 'Black,really'],\n",
    "    ['28', 'Ron', 'Gryffindor', 'Red,very'],\n",
    "    ['47', 'Hermione', 'Gryffindor', 'Brown']]\n",
    "\n",
    "with open('../../snippets/csv_example2.csv', 'w', newline='') as f:\n",
    "    writer = csv.writer(f, delimiter=',')\n",
    "    for d in data:\n",
    "        writer.writerow(d)\n",
    "\n",
    "with open('../../snippets/csv_example2.csv', 'r') as f:\n",
    "    for line in f:\n",
    "        print(line.strip())\n",
    "        \n",
    "with open('../../snippets/csv_example2.csv', 'r') as f:\n",
    "    reader = csv.reader(f, delimiter=',')\n",
    "    for line in reader:  \n",
    "        print(line)"
   ]
  },
  {
   "cell_type": "markdown",
   "id": "0f001354",
   "metadata": {
    "slideshow": {
     "slide_type": "slide"
    }
   },
   "source": [
    "# JSON\n",
    "\n",
    "We know how to read and write strings, but what about other types - ints, floats, lists, dictionaries?\n",
    "\n",
    "Enter **JSON**: \"**J**ava**s**cript **O**bject **N**otation\". \n",
    "\n",
    "JSON is a **data exchange format**: a method of representing data as sequences of characters (strings) which can be interpreted by many programming languages.\n",
    "\n",
    "The JSON format can represent strings, ints, floats, booleans, lists, dictionaries, and `None`. "
   ]
  },
  {
   "cell_type": "markdown",
   "id": "ed66a45f",
   "metadata": {
    "slideshow": {
     "slide_type": "subslide"
    }
   },
   "source": [
    "A Python data structure:"
   ]
  },
  {
   "cell_type": "code",
   "execution_count": null,
   "id": "e2113a0e",
   "metadata": {
    "execution": {
     "iopub.execute_input": "2023-11-12T21:25:46.110546Z",
     "iopub.status.busy": "2023-11-12T21:25:46.110083Z",
     "iopub.status.idle": "2023-11-12T21:25:46.117023Z",
     "shell.execute_reply": "2023-11-12T21:25:46.115541Z"
    }
   },
   "outputs": [],
   "source": [
    "data = {\n",
    "    \"name\": \"John\",\n",
    "    \"age\": 30,\n",
    "    \"candy_preferences\": [\n",
    "        \"Reese's\",\n",
    "        \"Snickers\"\n",
    "    ]\n",
    "}"
   ]
  },
  {
   "cell_type": "markdown",
   "id": "52c3b9ca",
   "metadata": {},
   "source": [
    "This data structure can be represented as a string in JSON format (or: a \"JSON string\"):"
   ]
  },
  {
   "cell_type": "code",
   "execution_count": null,
   "id": "fcab7765",
   "metadata": {
    "execution": {
     "iopub.execute_input": "2023-11-12T21:25:46.123303Z",
     "iopub.status.busy": "2023-11-12T21:25:46.122873Z",
     "iopub.status.idle": "2023-11-12T21:25:46.133163Z",
     "shell.execute_reply": "2023-11-12T21:25:46.132341Z"
    }
   },
   "outputs": [],
   "source": [
    "'{\"name\":\"John\", \"age\":30, candy_preferences:[\"Reese\\'s\", \"Snickers\"]}'"
   ]
  },
  {
   "cell_type": "markdown",
   "id": "81cd070f",
   "metadata": {
    "slideshow": {
     "slide_type": "subslide"
    }
   },
   "source": [
    "## Why?\n",
    "\n",
    "This looks very similar to the way that Python prints data structures... why is this useful?\n",
    "\n",
    "JSON is not Python-specific. If you use a Python program to create a JSON string, it will be readable by many other programming languages.\n",
    "\n",
    "It's a **data exchange format**, and it's very commonly used."
   ]
  },
  {
   "cell_type": "markdown",
   "id": "c0dfb906",
   "metadata": {
    "slideshow": {
     "slide_type": "slide"
    }
   },
   "source": [
    "# Announcements\n",
    "\n",
    "* PS5 is open, due Tuesday 11/21 11:59pm"
   ]
  },
  {
   "cell_type": "markdown",
   "id": "355885ab",
   "metadata": {
    "slideshow": {
     "slide_type": "subslide"
    }
   },
   "source": [
    "# JSON in Python\n",
    "\n",
    "Python has the `json` package, which contains utilities for reading and writing JSON."
   ]
  },
  {
   "cell_type": "code",
   "execution_count": null,
   "id": "13165af6",
   "metadata": {
    "execution": {
     "iopub.execute_input": "2023-11-12T21:25:46.137822Z",
     "iopub.status.busy": "2023-11-12T21:25:46.137196Z",
     "iopub.status.idle": "2023-11-12T21:25:46.143646Z",
     "shell.execute_reply": "2023-11-12T21:25:46.142748Z"
    }
   },
   "outputs": [],
   "source": [
    "import json\n",
    "mydata = {\n",
    "    \"numbers\": [1,2,3,4],\n",
    "    \"another number\": 2.75,\n",
    "    \"more dictionaries\": [{'a': 1, 'b': 2, 'c': 3}]\n",
    "}\n",
    "json.dumps(mydata)"
   ]
  },
  {
   "cell_type": "markdown",
   "id": "bfc41069",
   "metadata": {
    "slideshow": {
     "slide_type": "subslide"
    }
   },
   "source": [
    "## dump / dumps\n",
    "\n",
    "The `dump` and `dumps` methods **serialize** data structures:\n",
    "* `json.dumps(<object>)` **serializes** a data structure to a string.  \n",
    "* `json.dump(<object>, <file object>)` **serializes** a data structure to a string and writes the string to a file.\n",
    "\n",
    "\"Serializing\" a data structure means converting it to a string (or bytes) representation.\n",
    "\n",
    "An easy way to remember the difference: The `s` on `dumps` actually stands for `string`."
   ]
  },
  {
   "cell_type": "markdown",
   "id": "01744b22",
   "metadata": {
    "slideshow": {
     "slide_type": "subslide"
    }
   },
   "source": [
    "## Pretty printing\n",
    "\n",
    "`json.dumps()` also takes an optional `indent` parameter. If specified, it will \"pretty print\" the JSON:"
   ]
  },
  {
   "cell_type": "code",
   "execution_count": null,
   "id": "def0c2d6",
   "metadata": {
    "execution": {
     "iopub.execute_input": "2023-11-12T21:25:46.147837Z",
     "iopub.status.busy": "2023-11-12T21:25:46.147481Z",
     "iopub.status.idle": "2023-11-12T21:25:46.152469Z",
     "shell.execute_reply": "2023-11-12T21:25:46.151450Z"
    }
   },
   "outputs": [],
   "source": [
    "import json\n",
    "mydata = {\n",
    "    \"numbers\": [1,2,3,4],\n",
    "    \"another number\": 2.75,\n",
    "    \"more dictionaries\": [{'a': 1, 'b': 2, 'c': 3}]\n",
    "}\n",
    "print(json.dumps(mydata, indent=4))"
   ]
  },
  {
   "cell_type": "markdown",
   "id": "cf20a42f",
   "metadata": {
    "slideshow": {
     "slide_type": "subslide"
    }
   },
   "source": [
    "## load / loads\n",
    "\n",
    "`load`/`loads` do the opposite of `dump`/`dumps`: they **parse** strings into data structures.\n",
    "* `json.loads(<str>)` **parses** a string into a data structure.  \n",
    "* `json.load(<file object>)` reads the contents of a file and **parses** it into a data structure."
   ]
  },
  {
   "cell_type": "code",
   "execution_count": null,
   "id": "3e5c6b41",
   "metadata": {
    "execution": {
     "iopub.execute_input": "2023-11-12T21:25:46.157710Z",
     "iopub.status.busy": "2023-11-12T21:25:46.156953Z",
     "iopub.status.idle": "2023-11-12T21:25:46.185135Z",
     "shell.execute_reply": "2023-11-12T21:25:46.184322Z"
    }
   },
   "outputs": [],
   "source": [
    "import json\n",
    "mydata = {\n",
    "    \"numbers\": [1,2,3,4],\n",
    "    \"another number\": 2.75,\n",
    "    \"more dictionaries\": [{'a': 1, 'b': 2, 'c': 3}]\n",
    "} \n",
    "with open('../../snippets/test.json', 'w') as f:\n",
    "    json.dump(mydata, f)\n",
    "\n",
    "with open('../../snippets/test.json', 'r') as f:\n",
    "    data = json.load(f)\n",
    "\n",
    "print(data)"
   ]
  },
  {
   "cell_type": "markdown",
   "id": "38c0acdc",
   "metadata": {
    "slideshow": {
     "slide_type": "slide"
    }
   },
   "source": [
    "## Exercise: Let's play around with some movie data\n",
    "\n",
    "You can grab data scraped from Wikipedia on movies, in JSON format, here: https://raw.githubusercontent.com/prust/wikipedia-movie-data/master/movies.json"
   ]
  },
  {
   "cell_type": "code",
   "execution_count": null,
   "id": "05b1053b",
   "metadata": {
    "execution": {
     "iopub.execute_input": "2023-11-12T21:25:46.189490Z",
     "iopub.status.busy": "2023-11-12T21:25:46.188816Z",
     "iopub.status.idle": "2023-11-12T21:25:46.746277Z",
     "shell.execute_reply": "2023-11-12T21:25:46.745393Z"
    },
    "slideshow": {
     "slide_type": "subslide"
    }
   },
   "outputs": [],
   "source": [
    "import json\n",
    "with open('../../snippets/movie_data.json', 'r') as f:\n",
    "    json_movies = json.load(f)\n",
    "print(f\"Loaded {len(json_movies)} movies\")"
   ]
  },
  {
   "cell_type": "code",
   "execution_count": null,
   "id": "f1e02e03",
   "metadata": {
    "execution": {
     "iopub.execute_input": "2023-11-12T21:25:46.750166Z",
     "iopub.status.busy": "2023-11-12T21:25:46.749836Z",
     "iopub.status.idle": "2023-11-12T21:25:46.754004Z",
     "shell.execute_reply": "2023-11-12T21:25:46.753079Z"
    }
   },
   "outputs": [],
   "source": [
    "print(json_movies[0])"
   ]
  },
  {
   "cell_type": "code",
   "execution_count": null,
   "id": "39698f77",
   "metadata": {
    "execution": {
     "iopub.execute_input": "2023-11-12T21:25:46.758539Z",
     "iopub.status.busy": "2023-11-12T21:25:46.757915Z",
     "iopub.status.idle": "2023-11-12T21:25:46.762895Z",
     "shell.execute_reply": "2023-11-12T21:25:46.762017Z"
    }
   },
   "outputs": [],
   "source": [
    "#print(json_movies[-100])\n",
    "print(json.dumps(json_movies[-100], indent=2))"
   ]
  },
  {
   "cell_type": "markdown",
   "id": "f09b9fe9",
   "metadata": {
    "slideshow": {
     "slide_type": "subslide"
    }
   },
   "source": [
    "Cool! Let's print all the movies from a given year."
   ]
  },
  {
   "cell_type": "code",
   "execution_count": null,
   "id": "e9864e99",
   "metadata": {
    "execution": {
     "iopub.execute_input": "2023-11-12T21:25:46.767287Z",
     "iopub.status.busy": "2023-11-12T21:25:46.766918Z",
     "iopub.status.idle": "2023-11-12T21:25:46.780560Z",
     "shell.execute_reply": "2023-11-12T21:25:46.779648Z"
    }
   },
   "outputs": [],
   "source": [
    "year = 2021\n",
    "for movie in json_movies:\n",
    "    if movie['year'] == year:\n",
    "        print(movie['title'])"
   ]
  },
  {
   "cell_type": "markdown",
   "id": "f7abe359",
   "metadata": {
    "slideshow": {
     "slide_type": "subslide"
    }
   },
   "source": [
    "How about searching based on title? "
   ]
  },
  {
   "cell_type": "code",
   "execution_count": null,
   "id": "3709b5f6",
   "metadata": {
    "execution": {
     "iopub.execute_input": "2023-11-12T21:25:46.785426Z",
     "iopub.status.busy": "2023-11-12T21:25:46.784743Z",
     "iopub.status.idle": "2023-11-12T21:25:46.799696Z",
     "shell.execute_reply": "2023-11-12T21:25:46.798844Z"
    }
   },
   "outputs": [],
   "source": [
    "search_string = \"Freedom\"\n",
    "for movie in json_movies:\n",
    "    if search_string in movie['title']:\n",
    "        print(f\"{movie['title']} ({movie['year']})\")"
   ]
  },
  {
   "cell_type": "markdown",
   "id": "890ee938",
   "metadata": {
    "slideshow": {
     "slide_type": "subslide"
    }
   },
   "source": [
    "Ok how about a cast search? Find every movie that had certain cast member."
   ]
  },
  {
   "cell_type": "markdown",
   "id": "39942316",
   "metadata": {
    "slideshow": {
     "slide_type": "fragment"
    }
   },
   "source": [
    "Hm... There's a lot of structured data, and we're performing operations on it... what if we introduced a class or 2?"
   ]
  },
  {
   "cell_type": "code",
   "execution_count": null,
   "id": "696f9c54",
   "metadata": {
    "execution": {
     "iopub.execute_input": "2023-11-12T21:25:46.804157Z",
     "iopub.status.busy": "2023-11-12T21:25:46.803481Z",
     "iopub.status.idle": "2023-11-12T21:25:46.954218Z",
     "shell.execute_reply": "2023-11-12T21:25:46.953060Z"
    },
    "slideshow": {
     "slide_type": "subslide"
    }
   },
   "outputs": [],
   "source": [
    "class Movie:\n",
    "    def __init__(self, title, year, cast, genres):\n",
    "        self.title = title\n",
    "        self.year = year\n",
    "        self.cast = cast\n",
    "        self.genres = genres\n",
    "    \n",
    "movies = []\n",
    "for movie in json_movies:\n",
    "    movies.append(Movie(movie['title'], movie['year'], movie['cast'], movie['genres']))"
   ]
  },
  {
   "cell_type": "code",
   "execution_count": null,
   "id": "48df5c99",
   "metadata": {
    "execution": {
     "iopub.execute_input": "2023-11-12T21:25:46.959782Z",
     "iopub.status.busy": "2023-11-12T21:25:46.959386Z",
     "iopub.status.idle": "2023-11-12T21:25:46.964181Z",
     "shell.execute_reply": "2023-11-12T21:25:46.963354Z"
    }
   },
   "outputs": [],
   "source": [
    "print(movies[0])"
   ]
  },
  {
   "cell_type": "markdown",
   "id": "cb938ba9",
   "metadata": {
    "slideshow": {
     "slide_type": "subslide"
    }
   },
   "source": [
    "That's not a helpful print. "
   ]
  },
  {
   "cell_type": "code",
   "execution_count": null,
   "id": "9ab60eee",
   "metadata": {
    "execution": {
     "iopub.execute_input": "2023-11-12T21:25:46.968873Z",
     "iopub.status.busy": "2023-11-12T21:25:46.968500Z",
     "iopub.status.idle": "2023-11-12T21:25:47.019672Z",
     "shell.execute_reply": "2023-11-12T21:25:47.018801Z"
    }
   },
   "outputs": [],
   "source": [
    "class Movie:\n",
    "    def __init__(self, title, year, cast, genres):\n",
    "        self.title = title\n",
    "        self.year = year\n",
    "        self.cast = cast\n",
    "        self.genres = genres\n",
    "\n",
    "    def format(self):\n",
    "        return f\"{self.title} ({self.year})\"\n",
    "\n",
    "movies = []\n",
    "for movie in json_movies:\n",
    "    m = Movie(movie['title'], movie['year'], movie['cast'], movie['genres'])\n",
    "    movies.append(m)"
   ]
  },
  {
   "cell_type": "code",
   "execution_count": null,
   "id": "7dfffd43",
   "metadata": {
    "execution": {
     "iopub.execute_input": "2023-11-12T21:25:47.023511Z",
     "iopub.status.busy": "2023-11-12T21:25:47.023190Z",
     "iopub.status.idle": "2023-11-12T21:25:47.027850Z",
     "shell.execute_reply": "2023-11-12T21:25:47.027081Z"
    }
   },
   "outputs": [],
   "source": [
    "print(movies[0].format())"
   ]
  },
  {
   "cell_type": "markdown",
   "id": "2ebcf776",
   "metadata": {
    "slideshow": {
     "slide_type": "subslide"
    }
   },
   "source": [
    "Back to our problem - cast search. Let's add a method to `Movie` to check whether a person was in the cast:"
   ]
  },
  {
   "cell_type": "code",
   "execution_count": null,
   "id": "6e63262d",
   "metadata": {
    "execution": {
     "iopub.execute_input": "2023-11-12T21:25:47.031766Z",
     "iopub.status.busy": "2023-11-12T21:25:47.031440Z",
     "iopub.status.idle": "2023-11-12T21:25:47.036363Z",
     "shell.execute_reply": "2023-11-12T21:25:47.035544Z"
    }
   },
   "outputs": [],
   "source": [
    "class Movie:\n",
    "    def __init__(self, title, year, cast, genres):\n",
    "        self.title = title\n",
    "        self.year = year\n",
    "        self.cast = cast\n",
    "        self.genres = genres\n",
    "\n",
    "    def format(self):\n",
    "        return f\"{self.title} ({self.year})\"\n",
    "    \n",
    "    def cast_contained(self, name):\n",
    "        return name in self.cast"
   ]
  },
  {
   "cell_type": "markdown",
   "id": "e2902f04",
   "metadata": {
    "slideshow": {
     "slide_type": "subslide"
    }
   },
   "source": [
    "Let's test it!"
   ]
  },
  {
   "cell_type": "code",
   "execution_count": null,
   "id": "5561c4d4",
   "metadata": {
    "execution": {
     "iopub.execute_input": "2023-11-12T21:25:47.040510Z",
     "iopub.status.busy": "2023-11-12T21:25:47.040159Z",
     "iopub.status.idle": "2023-11-12T21:25:47.045138Z",
     "shell.execute_reply": "2023-11-12T21:25:47.044372Z"
    }
   },
   "outputs": [],
   "source": [
    "movie = Movie(\n",
    "    \"Best Movie\", \n",
    "    2023, \n",
    "    [\"Joe Delfino\", \"Spongebob Squarepants\", \"Michael J. Fox\"], \n",
    "    [\"genre1\", \"genre2\"])\n",
    "\n",
    "print(movie.cast_contained(\"Joe Delfino\"))\n",
    "print(movie.cast_contained(\"Christopher Walken\"))"
   ]
  },
  {
   "cell_type": "markdown",
   "id": "711f2c49",
   "metadata": {
    "slideshow": {
     "slide_type": "subslide"
    }
   },
   "source": [
    "Now we can use that to build our cast search:"
   ]
  },
  {
   "cell_type": "code",
   "execution_count": null,
   "id": "6bda872e",
   "metadata": {
    "execution": {
     "iopub.execute_input": "2023-11-12T21:25:47.049002Z",
     "iopub.status.busy": "2023-11-12T21:25:47.048684Z",
     "iopub.status.idle": "2023-11-12T21:25:47.179324Z",
     "shell.execute_reply": "2023-11-12T21:25:47.178139Z"
    }
   },
   "outputs": [],
   "source": [
    "movies = []\n",
    "for movie in json_movies:\n",
    "    movies.append(Movie(movie['title'], movie['year'], movie['cast'], movie['genres']))"
   ]
  },
  {
   "cell_type": "code",
   "execution_count": null,
   "id": "396e60be",
   "metadata": {
    "execution": {
     "iopub.execute_input": "2023-11-12T21:25:47.183315Z",
     "iopub.status.busy": "2023-11-12T21:25:47.182949Z",
     "iopub.status.idle": "2023-11-12T21:25:47.198930Z",
     "shell.execute_reply": "2023-11-12T21:25:47.198105Z"
    }
   },
   "outputs": [],
   "source": [
    "person = \"Christopher Walken\"\n",
    "for movie in movies:\n",
    "    if movie.cast_contained(person):\n",
    "        print(movie.format())"
   ]
  },
  {
   "cell_type": "markdown",
   "id": "f2e0c443",
   "metadata": {
    "slideshow": {
     "slide_type": "subslide"
    }
   },
   "source": [
    "What about a container class to hold all our movies, and encapsulate some of these searching methods?"
   ]
  },
  {
   "cell_type": "code",
   "execution_count": null,
   "id": "41aa35a8",
   "metadata": {
    "execution": {
     "iopub.execute_input": "2023-11-12T21:25:47.202791Z",
     "iopub.status.busy": "2023-11-12T21:25:47.202440Z",
     "iopub.status.idle": "2023-11-12T21:25:47.209157Z",
     "shell.execute_reply": "2023-11-12T21:25:47.208342Z"
    }
   },
   "outputs": [],
   "source": [
    "class MovieCatalog:\n",
    "    def __init__(self):\n",
    "        self.movies = []\n",
    "        \n",
    "    def add_movie(self, movie):\n",
    "        self.movies.append(movie)\n",
    "    \n",
    "    def cast_search(self, person):\n",
    "        matches = []\n",
    "        for movie in self.movies:\n",
    "            if movie.cast_contained(person):\n",
    "                matches.append(movie)\n",
    "        return matches\n",
    "    \n",
    "def load_movie_catalog(filename):\n",
    "    with open(filename, 'r') as f:\n",
    "        json_movies = json.load(f)\n",
    "\n",
    "    cat = MovieCatalog()\n",
    "    for json_movie in json_movies:\n",
    "        cat.add_movie(Movie(json_movie['title'], json_movie['year'], json_movie['cast'], json_movie['genres']))\n",
    "    return cat"
   ]
  },
  {
   "cell_type": "code",
   "execution_count": null,
   "id": "90dcd8c3",
   "metadata": {
    "execution": {
     "iopub.execute_input": "2023-11-12T21:25:47.213295Z",
     "iopub.status.busy": "2023-11-12T21:25:47.212643Z",
     "iopub.status.idle": "2023-11-12T21:25:47.834773Z",
     "shell.execute_reply": "2023-11-12T21:25:47.833947Z"
    },
    "slideshow": {
     "slide_type": "subslide"
    }
   },
   "outputs": [],
   "source": [
    "cat = load_movie_catalog('../../snippets/movie_data.json')\n",
    "\n",
    "matches = cat.cast_search(\"Christopher Walken\")\n",
    "for match in matches:\n",
    "    print(match.format())"
   ]
  },
  {
   "cell_type": "markdown",
   "id": "dce68622",
   "metadata": {
    "slideshow": {
     "slide_type": "subslide"
    }
   },
   "source": [
    "We can re-write `cast_search` with a list comprehension:"
   ]
  },
  {
   "cell_type": "code",
   "execution_count": null,
   "id": "63416119",
   "metadata": {
    "execution": {
     "iopub.execute_input": "2023-11-12T21:25:47.838775Z",
     "iopub.status.busy": "2023-11-12T21:25:47.838456Z",
     "iopub.status.idle": "2023-11-12T21:25:47.843459Z",
     "shell.execute_reply": "2023-11-12T21:25:47.842643Z"
    }
   },
   "outputs": [],
   "source": [
    "class MovieCatalog:\n",
    "    def __init__(self):\n",
    "        self.movies = []\n",
    "        \n",
    "    def add_movie(self, movie):\n",
    "        self.movies.append(movie)\n",
    "    \n",
    "    def cast_search(self, person):\n",
    "        return [m for m in self.movies if m.cast_contained(person)]"
   ]
  },
  {
   "cell_type": "markdown",
   "id": "470b20a7",
   "metadata": {
    "slideshow": {
     "slide_type": "subslide"
    }
   },
   "source": [
    "## JSON and Classes: Best buds\n",
    "\n",
    "JSON data and classes often go well together - classes can capture the structure of the data, and let you define operations to perform on it."
   ]
  },
  {
   "cell_type": "markdown",
   "id": "e943b144",
   "metadata": {
    "slideshow": {
     "slide_type": "subslide"
    }
   },
   "source": [
    "## Final movie code\n",
    "\n",
    "Including `MovieCatalog` methods for title/year search."
   ]
  },
  {
   "cell_type": "code",
   "execution_count": null,
   "id": "25e9d31d",
   "metadata": {
    "execution": {
     "iopub.execute_input": "2023-11-12T21:25:47.847534Z",
     "iopub.status.busy": "2023-11-12T21:25:47.847176Z",
     "iopub.status.idle": "2023-11-12T21:25:47.856496Z",
     "shell.execute_reply": "2023-11-12T21:25:47.855672Z"
    }
   },
   "outputs": [],
   "source": [
    "class Movie:\n",
    "    def __init__(self, title, year, cast, genres):\n",
    "        self.title = title\n",
    "        self.year = year\n",
    "        self.cast = cast\n",
    "        self.genres = genres\n",
    "\n",
    "    def format(self):\n",
    "        return f\"{self.title} ({self.year})\"\n",
    "    \n",
    "    def cast_contained(self, name):\n",
    "        return name in self.cast\n",
    "    \n",
    "    \n",
    "class MovieCatalog:\n",
    "    def __init__(self):\n",
    "        self.movies = []\n",
    "        \n",
    "    def add_movie(self, movie):\n",
    "        self.movies.append(movie)\n",
    "    \n",
    "    def cast_search(self, person):\n",
    "        return [m for m in self.movies if m.cast_contained(person)]    \n",
    "    \n",
    "    def title_search(self, value):\n",
    "        return [m for m in self.movies if value in m.title]\n",
    "    \n",
    "    def year_search(self, year):\n",
    "        return [m for m in self.movies if m.year == year]\n",
    "    \n",
    "    def find_duo(self, person1, person2):\n",
    "        results = []\n",
    "        for movie in self.movies:\n",
    "            if movie.cast_contained(person1) and movie.cast_contained(person2):\n",
    "                results.append(movie)\n",
    "        return results\n",
    "    \n",
    "def load_movie_catalog(filename):\n",
    "    with open(filename, 'r') as f:\n",
    "        json_movies = json.load(f)\n",
    "\n",
    "    cat = MovieCatalog()\n",
    "    for json_movie in json_movies:\n",
    "        cat.add_movie(Movie(json_movie['title'], json_movie['year'], json_movie['cast'], json_movie['genres']))\n",
    "    return cat    "
   ]
  },
  {
   "cell_type": "code",
   "execution_count": null,
   "id": "09395ef3",
   "metadata": {
    "execution": {
     "iopub.execute_input": "2023-11-12T21:25:47.860329Z",
     "iopub.status.busy": "2023-11-12T21:25:47.860008Z",
     "iopub.status.idle": "2023-11-12T21:25:48.411575Z",
     "shell.execute_reply": "2023-11-12T21:25:48.410750Z"
    }
   },
   "outputs": [],
   "source": [
    "\n",
    "cat = load_movie_catalog('../../snippets/movie_data.json')\n",
    "dunes = cat.title_search(\"Dune\")\n",
    "#for d in dunes:\n",
    "#    print(d.cast)\n",
    "    \n",
    "results = cat.find_duo(\"Christopher Walken\", \"Timothée Chalamet\")\n",
    "for r in results:\n",
    "    print(r.format())"
   ]
  },
  {
   "cell_type": "markdown",
   "id": "beda89ef",
   "metadata": {
    "slideshow": {
     "slide_type": "slide"
    }
   },
   "source": [
    "## Exercise: Airport Data\n",
    "\n",
    "[repl.it](https://replit.com/team/cosi-10a-fall23/JSON-practice)"
   ]
  }
 ],
 "metadata": {
  "celltoolbar": "Slideshow",
  "kernelspec": {
   "display_name": "Python 3 (ipykernel)",
   "language": "python",
   "name": "python3"
  },
  "language_info": {
   "codemirror_mode": {
    "name": "ipython",
    "version": 3
   },
   "file_extension": ".py",
   "mimetype": "text/x-python",
   "name": "python",
   "nbconvert_exporter": "python",
   "pygments_lexer": "ipython3",
   "version": "3.10.9"
  }
 },
 "nbformat": 4,
 "nbformat_minor": 5
}
