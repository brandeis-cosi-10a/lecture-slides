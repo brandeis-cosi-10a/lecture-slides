{
 "cells": [
  {
   "cell_type": "markdown",
   "id": "26653147",
   "metadata": {},
   "source": [
    "# Cosi-10a: Introduction to Problem Solving in Python\n",
    "### Fall 2024\n",
    "\n",
    "<small>[Link to interactive slides on Google Colab](https://colab.research.google.com/github/brandeis-cosi-10a/lecture-slides/blob/24fall/)</small>\n",
    "\n",
    "<style>\n",
    "section.present > section.present { \n",
    "    max-height: 100%; \n",
    "    overflow-y: scroll;\n",
    "}\n",
    "</style>"
   ]
  },
  {
   "cell_type": "markdown",
   "id": "1ee8a1d2",
   "metadata": {
    "slideshow": {
     "slide_type": "slide"
    }
   },
   "source": [
    "# Functions\n",
    "\n",
    "<style>\n",
    "section.present > section.present { \n",
    "    max-height: 90%; \n",
    "    overflow-y: scroll;\n",
    "}\n",
    "</style>\n",
    "\n",
    "<small><a href=\"https://colab.research.google.com/github/brandeis-jdelfino/cosi-10a/blob/main/lectures/notebooks/4_functions.ipynb\">Link to interactive slides on Google Colab</a></small>"
   ]
  },
  {
   "cell_type": "markdown",
   "id": "ed1371c9",
   "metadata": {
    "slideshow": {
     "slide_type": "subslide"
    }
   },
   "source": [
    "**function**: A named group of statements\n",
    "\n",
    "* They are used to:\n",
    "  * Reduce redundancy and code duplication\n",
    "  * Represent the structure of a program\n",
    "* Functions are what make large, complex programs possible to build and maintain."
   ]
  },
  {
   "cell_type": "markdown",
   "id": "74b67395",
   "metadata": {
    "slideshow": {
     "slide_type": "slide"
    }
   },
   "source": [
    "# Functions by example\n",
    "### Write a program to print the lyrics to \"The Green Grass Grew All Around\"\n",
    "\n",
    "Oh in the woods there was a tree  \n",
    "The prettiest tree  \n",
    "You ever did see  \n",
    "And the tree was in the ground  \n",
    "And the green grass grew all around, all around, and the green grass grew all around  \n",
    "\n",
    "And on that tree  \n",
    "There was a limb  \n",
    "The prettiest limb  \n",
    "That you ever did see  \n",
    "And the limb was on the tree  \n",
    "And the tree was in the ground  \n",
    "And the green grass grew all around, all around, and the green grass grew all around  \n",
    "\n",
    "And on that limb  \n",
    "There was a branch  \n",
    "The prettiest branch  \n",
    "That you ever did see  \n",
    "And the branch was on the limb,  \n",
    "And the limb was on the tree,  \n",
    "And the tree was in the ground  \n",
    "And the green grass grew all around, all around, and the green grass grew all around  \n",
    "\n",
    "And on that branch  \n",
    "There was a nest  \n",
    "The prettiest nest  \n",
    "That you ever did see  \n",
    "And the nest was on the branch  \n",
    "And the branch was on the limb  \n",
    "And the limb was on the tree  \n",
    "And the tree was in the ground  \n",
    "And the green grass grew all around, all around, and the green grass grew all around  \n",
    "\n",
    "And in that nest  \n",
    "There was an egg  \n",
    "The prettiest egg  \n",
    "That you ever did see  \n",
    "And the egg was in the nest  \n",
    "And the nest was on the branch  \n",
    "And the branch was on the limb  \n",
    "And the limb was on the tree  \n",
    "And the tree was in the ground  \n",
    "And the green grass grew all around, all around, and the green grass grew all around  \n",
    "\n",
    "And in that egg  \n",
    "There was a bird  \n",
    "The prettiest bird  \n",
    "That you ever did see  \n",
    "And the bird was in the egg  \n",
    "And the egg was in the nest  \n",
    "And the nest was on the branch  \n",
    "And the branch was on the limb  \n",
    "And the limb was on the tree  \n",
    "And the tree was in the ground  \n",
    "And the green grass grew all around, all around, and the green grass grew all around  "
   ]
  },
  {
   "cell_type": "markdown",
   "id": "a2c01e5a",
   "metadata": {
    "slideshow": {
     "slide_type": "subslide"
    }
   },
   "source": [
    "## A naive solution"
   ]
  },
  {
   "cell_type": "code",
   "execution_count": null,
   "id": "c0461282",
   "metadata": {
    "execution": {
     "iopub.execute_input": "2024-08-20T19:22:15.002106Z",
     "iopub.status.busy": "2024-08-20T19:22:15.001666Z",
     "iopub.status.idle": "2024-08-20T19:22:15.015202Z",
     "shell.execute_reply": "2024-08-20T19:22:15.014553Z"
    }
   },
   "outputs": [],
   "source": [
    "print(\"Oh in the woods there was a tree\")\n",
    "print(\"The prettiest tree\")\n",
    "print(\"You ever did see\")\n",
    "print(\"And the tree was in the ground\")\n",
    "print(\"And the green grass grew all around, all around, and the green grass grew all around\")\n",
    "print()\n",
    "print(\"And on that tree\")\n",
    "print(\"There was a limb\")\n",
    "print(\"The prettiest limb\")\n",
    "print(\"That you ever did see\")\n",
    "print(\"And the limb was on the tree\")\n",
    "print(\"And the tree was in the ground\")\n",
    "print(\"And the green grass grew all around, all around, and the green grass grew all around\")\n",
    "print()\n",
    "print(\"And on that limb\")\n",
    "print(\"There was a branch\")\n",
    "print(\"The prettiest branch\")\n",
    "print(\"That you ever did see\")  \n",
    "print(\"And the branch was on the limb,\")\n",
    "print(\"And the limb was on the tree,\")\n",
    "print(\"And the tree was in the ground\")\n",
    "print(\"And the green grass grew all around, all around, and the green grass grew all around\")\n",
    "print()\n",
    "print(\"And on that branch\")\n",
    "print(\"There was a nest\")\n",
    "print(\"The prettiest nest\")\n",
    "print(\"That you ever did see\")\n",
    "print(\"And the nest was on the branch\")\n",
    "print(\"And the branch was on the limb\")\n",
    "print(\"And the limb was on the tree\")\n",
    "print(\"And the tree was in the ground\")\n",
    "print(\"And the green grass grew all around, all around, and the green grass grew all around\")\n",
    "print()\n",
    "print(\"And in that nest\")\n",
    "print(\"There was an egg\")\n",
    "print(\"The prettiest egg\")\n",
    "print(\"That you ever did see\")\n",
    "print(\"And the egg was in the nest\")\n",
    "print(\"And the nest was on the branch\")\n",
    "print(\"And the branch was on the limb\")\n",
    "print(\"And the limb was on the tree\")\n",
    "print(\"And the tree was in the ground\")\n",
    "print(\"And the green grass grew all around, all around, and the green grass grew all around\")\n",
    "print()\n",
    "print(\"And in that egg\")\n",
    "print(\"There was a bird\")\n",
    "print(\"The prettiest bird\")\n",
    "print(\"That you ever did see\")\n",
    "print(\"And the bird was in the egg\")\n",
    "print(\"And the egg was in the nest\")\n",
    "print(\"And the nest was on the branch\")\n",
    "print(\"And the branch was on the limb\")\n",
    "print(\"And the limb was on the tree\")\n",
    "print(\"And the tree was in the ground\")\n",
    "print(\"And the green grass grew all around, all around, and the green grass grew all around\")"
   ]
  },
  {
   "cell_type": "markdown",
   "id": "3934f3fe",
   "metadata": {
    "slideshow": {
     "slide_type": "subslide"
    }
   },
   "source": [
    "## Duplication\n",
    "\n",
    "There is a LOT of duplication in this song.\n",
    "\n",
    "We can \"factor out\" some of this redundancy into re-usable blocks of code (functions). This is similar to how we pulled common bits of code out of the different if/else branches with the progressive income tax calculator.\n",
    "\n",
    "For our first function, we'll pull out the two lines that occur in every verse:\n",
    "\n",
    "\n",
    "> Oh in the woods there was a tree  \n",
    "> The prettiest tree  \n",
    "> You ever did see  \n",
    "> **And the tree was in the ground  \n",
    "> And the green grass grew all around, all around, and the green grass grew all around**\n"
   ]
  },
  {
   "cell_type": "code",
   "execution_count": null,
   "id": "c9a85e44",
   "metadata": {
    "execution": {
     "iopub.execute_input": "2024-08-20T19:22:15.019029Z",
     "iopub.status.busy": "2024-08-20T19:22:15.018770Z",
     "iopub.status.idle": "2024-08-20T19:22:15.024354Z",
     "shell.execute_reply": "2024-08-20T19:22:15.023487Z"
    },
    "slideshow": {
     "slide_type": "subslide"
    }
   },
   "outputs": [],
   "source": [
    "# Our first function:\n",
    "def tree():\n",
    "    print(\"And the tree was in the ground\")\n",
    "    print(\"And the green grass grew all around, all around, and the green grass grew all around\")\n",
    "    print()\n",
    "    \n",
    "print(\"Oh in the woods there was a tree\")\n",
    "print(\"The prettiest tree\")\n",
    "print(\"You ever did see\")\n",
    "tree()\n",
    "print(\"And on that tree\")\n",
    "print(\"There was a limb\")\n",
    "print(\"The prettiest limb\")\n",
    "print(\"That you ever did see\")\n",
    "print(\"And the limb was on the tree\")\n",
    "tree()\n",
    "print(\"And on that limb\")\n",
    "print(\"There was a branch\")\n",
    "print(\"The prettiest branch\")\n",
    "print(\"That you ever did see\")\n",
    "print(\"And the branch was on the limb,\")\n",
    "print(\"And the limb was on the tree,\")\n",
    "tree()\n",
    "# ... "
   ]
  },
  {
   "cell_type": "markdown",
   "id": "3a3d3f13",
   "metadata": {
    "slideshow": {
     "slide_type": "subslide"
    }
   },
   "source": [
    "## Function definition syntax\n",
    "\n",
    "```\n",
    "def <name>():\n",
    "    statement(s)\n",
    "``` \n",
    "\n",
    "* **Defining** a function makes it available for use\n",
    "  * Merely defining a function does not execute any of the statements in the function."
   ]
  },
  {
   "cell_type": "code",
   "execution_count": null,
   "id": "8555460b",
   "metadata": {
    "execution": {
     "iopub.execute_input": "2024-08-20T19:22:15.027455Z",
     "iopub.status.busy": "2024-08-20T19:22:15.027192Z",
     "iopub.status.idle": "2024-08-20T19:22:15.030505Z",
     "shell.execute_reply": "2024-08-20T19:22:15.029853Z"
    }
   },
   "outputs": [],
   "source": [
    "def tree():\n",
    "    print(\"And the tree was in the ground\")\n",
    "    print(\"And the green grass grew all around, all around, and the green grass grew all around\")\n",
    "    print()"
   ]
  },
  {
   "cell_type": "markdown",
   "id": "b2346f64",
   "metadata": {
    "slideshow": {
     "slide_type": "subslide"
    }
   },
   "source": [
    "* **Calling** or **invoking** a function makes the code inside the function run."
   ]
  },
  {
   "cell_type": "code",
   "execution_count": null,
   "id": "575a9446",
   "metadata": {
    "execution": {
     "iopub.execute_input": "2024-08-20T19:22:15.033591Z",
     "iopub.status.busy": "2024-08-20T19:22:15.033332Z",
     "iopub.status.idle": "2024-08-20T19:22:15.036708Z",
     "shell.execute_reply": "2024-08-20T19:22:15.036141Z"
    }
   },
   "outputs": [],
   "source": [
    "tree()"
   ]
  },
  {
   "cell_type": "markdown",
   "id": "bd99d947",
   "metadata": {
    "slideshow": {
     "slide_type": "subslide"
    }
   },
   "source": [
    "## Let's continue on the song... "
   ]
  },
  {
   "cell_type": "code",
   "execution_count": null,
   "id": "fa2de143",
   "metadata": {
    "execution": {
     "iopub.execute_input": "2024-08-20T19:22:15.039745Z",
     "iopub.status.busy": "2024-08-20T19:22:15.039487Z",
     "iopub.status.idle": "2024-08-20T19:22:15.043831Z",
     "shell.execute_reply": "2024-08-20T19:22:15.043238Z"
    }
   },
   "outputs": [],
   "source": [
    "# ...\n",
    "print(\"And on that tree\")  \n",
    "print(\"There was a limb\")  \n",
    "print(\"The prettiest limb\")  \n",
    "print(\"That you ever did see\")  \n",
    "print(\"And the limb was on the tree\")  \n",
    "tree()  \n",
    "print(\"And on that limb\")  \n",
    "print(\"There was a branch\")  \n",
    "print(\"The prettiest branch\")  \n",
    "print(\"That you ever did see\")  \n",
    "print(\"And the branch was on the limb,\")  \n",
    "print(\"And the limb was on the tree,\")  \n",
    "tree()\n",
    "# ..."
   ]
  },
  {
   "cell_type": "markdown",
   "id": "81bbc9bd",
   "metadata": {},
   "source": [
    "The last two lines (`print(\"And the limb was on the tree\")` and `tree()`) appear together in every verse after the first one. Let's wrap them in a function...\n"
   ]
  },
  {
   "cell_type": "code",
   "execution_count": null,
   "id": "b728645e",
   "metadata": {
    "execution": {
     "iopub.execute_input": "2024-08-20T19:22:15.046985Z",
     "iopub.status.busy": "2024-08-20T19:22:15.046724Z",
     "iopub.status.idle": "2024-08-20T19:22:15.051807Z",
     "shell.execute_reply": "2024-08-20T19:22:15.051153Z"
    },
    "slideshow": {
     "slide_type": "subslide"
    }
   },
   "outputs": [],
   "source": [
    "def tree():\n",
    "    print(\"And the tree was in the ground\")\n",
    "    print(\"And the green grass grew all around, all around, and the green grass grew all around\")\n",
    "    print()\n",
    "    \n",
    "def limb():\n",
    "    print(\"And the limb was on the tree,\")\n",
    "    tree()\n",
    "    \n",
    "print(\"Oh in the woods there was a tree\")\n",
    "print(\"The prettiest tree\")\n",
    "print(\"You ever did see\")\n",
    "tree()\n",
    "print(\"And on that tree\")\n",
    "print(\"There was a limb\")\n",
    "print(\"The prettiest limb\")\n",
    "print(\"That you ever did see\")\n",
    "limb()\n",
    "print(\"And on that limb\")\n",
    "print(\"There was a branch\")\n",
    "print(\"The prettiest branch\")\n",
    "print(\"That you ever did see\")\n",
    "print(\"And the branch was on the limb,\")\n",
    "limb()"
   ]
  },
  {
   "cell_type": "markdown",
   "id": "0851da68",
   "metadata": {
    "slideshow": {
     "slide_type": "subslide"
    }
   },
   "source": [
    "## Functions can call other functions"
   ]
  },
  {
   "cell_type": "code",
   "execution_count": null,
   "id": "03534e3e",
   "metadata": {
    "execution": {
     "iopub.execute_input": "2024-08-20T19:22:15.054921Z",
     "iopub.status.busy": "2024-08-20T19:22:15.054664Z",
     "iopub.status.idle": "2024-08-20T19:22:15.058173Z",
     "shell.execute_reply": "2024-08-20T19:22:15.057611Z"
    }
   },
   "outputs": [],
   "source": [
    "def a():\n",
    "    print(\"a\")\n",
    "\n",
    "def b():\n",
    "    print(\"b1\")\n",
    "    a()\n",
    "    print(\"b2\")\n",
    "    \n",
    "b()"
   ]
  },
  {
   "cell_type": "markdown",
   "id": "154575de",
   "metadata": {
    "slideshow": {
     "slide_type": "subslide"
    }
   },
   "source": [
    "## We can continue breaking our song down..."
   ]
  },
  {
   "cell_type": "code",
   "execution_count": null,
   "id": "d7c28cda",
   "metadata": {
    "execution": {
     "iopub.execute_input": "2024-08-20T19:22:15.061446Z",
     "iopub.status.busy": "2024-08-20T19:22:15.061180Z",
     "iopub.status.idle": "2024-08-20T19:22:15.066926Z",
     "shell.execute_reply": "2024-08-20T19:22:15.066280Z"
    }
   },
   "outputs": [],
   "source": [
    "def tree():\n",
    "    print(\"And the tree was in the ground\")\n",
    "    print(\"And the green grass grew all around, all around, and the green grass grew all around\")\n",
    "    print()\n",
    "    \n",
    "def limb():\n",
    "    print(\"And the limb was on the tree,\")\n",
    "    tree()\n",
    "    \n",
    "def branch():\n",
    "    print(\"And the branch was on the limb,\")\n",
    "    limb()\n",
    "    \n",
    "print(\"Oh in the woods there was a tree\")\n",
    "print(\"The prettiest tree\")\n",
    "print(\"You ever did see\")\n",
    "tree()\n",
    "print(\"And on that tree\")\n",
    "print(\"There was a limb\")\n",
    "print(\"The prettiest limb\")\n",
    "print(\"That you ever did see\")\n",
    "limb()\n",
    "print(\"And on that limb\")\n",
    "print(\"There was a branch\")\n",
    "print(\"The prettiest branch\")\n",
    "print(\"That you ever did see\")\n",
    "branch()\n",
    "print(\"And on that branch\")\n",
    "print(\"There was a nest\")\n",
    "print(\"The prettiest nest\")\n",
    "print(\"That you ever did see\")\n",
    "print(\"And the nest was on the branch\")\n",
    "branch()"
   ]
  },
  {
   "cell_type": "code",
   "execution_count": null,
   "id": "912338c9",
   "metadata": {
    "execution": {
     "iopub.execute_input": "2024-08-20T19:22:15.069996Z",
     "iopub.status.busy": "2024-08-20T19:22:15.069730Z",
     "iopub.status.idle": "2024-08-20T19:22:15.076852Z",
     "shell.execute_reply": "2024-08-20T19:22:15.076226Z"
    },
    "slideshow": {
     "slide_type": "subslide"
    }
   },
   "outputs": [],
   "source": [
    "def tree():\n",
    "    print(\"And the tree was in the ground\")\n",
    "    print(\"And the green grass grew all around, all around, and the green grass grew all around\")\n",
    "    print()\n",
    "    \n",
    "def limb():\n",
    "    print(\"And the limb was on the tree,\")\n",
    "    tree()\n",
    "    \n",
    "def branch():\n",
    "    print(\"And the branch was on the limb,\")\n",
    "    limb()\n",
    "    \n",
    "def nest():\n",
    "    print(\"And the nest was on the branch\")\n",
    "    branch()\n",
    "\n",
    "def egg():\n",
    "    print(\"And the egg was in the nest\")\n",
    "    nest()\n",
    "\n",
    "def bird():\n",
    "    print(\"And the bird was in the egg\")\n",
    "    egg()\n",
    "    \n",
    "print(\"Oh in the woods there was a tree\")\n",
    "print(\"The prettiest tree\")\n",
    "print(\"You ever did see\")\n",
    "tree()\n",
    "print(\"And on that tree\")\n",
    "print(\"There was a limb\")\n",
    "print(\"The prettiest limb\")\n",
    "print(\"That you ever did see\")\n",
    "limb()\n",
    "print(\"And on that limb\")\n",
    "print(\"There was a branch\")\n",
    "print(\"The prettiest branch\")\n",
    "print(\"That you ever did see\")\n",
    "branch()\n",
    "print(\"And on that branch\")\n",
    "print(\"There was a nest\")\n",
    "print(\"The prettiest nest\")\n",
    "print(\"That you ever did see\")\n",
    "nest()\n",
    "print(\"And in that nest\")\n",
    "print(\"There was an egg\")\n",
    "print(\"The prettiest egg\")\n",
    "print(\"That you ever did see\")\n",
    "egg()\n",
    "print(\"And in that egg\")\n",
    "print(\"There was a bird\")\n",
    "print(\"The prettiest bird\")\n",
    "print(\"That you ever did see\")\n",
    "bird()"
   ]
  },
  {
   "cell_type": "markdown",
   "id": "f9d4f100",
   "metadata": {
    "slideshow": {
     "slide_type": "slide"
    }
   },
   "source": [
    "# Functional decomposition\n",
    "\n",
    "* We are **decomposing** our song into smaller pieces.\n",
    "* Decomposing a complicated program into coherent, reusable chunks is an extremely valuable programming skill.\n",
    "* It will come with practice and experience - your first attempts might feel like they create more work, headache, and confusion than they save.\n",
    "* Stick with it, it will pay off!"
   ]
  },
  {
   "cell_type": "markdown",
   "id": "33ef2fc5",
   "metadata": {
    "slideshow": {
     "slide_type": "slide"
    }
   },
   "source": [
    "# Parameters\n",
    "\n",
    "### We still have more duplication in our song\n",
    "\n",
    "And on that **tree**  \n",
    "There was a **limb**  \n",
    "The prettiest **limb**  \n",
    "That you ever did see  \n",
    "\n",
    "vs. \n",
    "\n",
    "And on that **limb**  \n",
    "There was a **branch**  \n",
    "The prettiest **branch**  \n",
    "That you ever did see"
   ]
  },
  {
   "cell_type": "markdown",
   "id": "b090681f",
   "metadata": {
    "slideshow": {
     "slide_type": "subslide"
    }
   },
   "source": [
    "## Parameters\n",
    "\n",
    "Functions can be **parameterized**. \n",
    "\n",
    "```\n",
    "def <name>(parameter1, [parameter2], ...):\n",
    "    statement(s)\n",
    "```\n",
    "\n",
    "* A **parameter** is a variable defined as input to a function. \n",
    "* An **argument** is a value passed to a function when it is called.\n",
    "* This is a fine distinction, and the two terms are often used interchangably. The distinction is generally ok to ignore unless you are in a context where the difference matters (e.g. formal documentation or specifications)."
   ]
  },
  {
   "cell_type": "markdown",
   "id": "d8110e12",
   "metadata": {
    "slideshow": {
     "slide_type": "subslide"
    }
   },
   "source": [
    "## Parameters\n",
    "\n",
    "We can write a parameterized function for the first part of the verses.  "
   ]
  },
  {
   "cell_type": "code",
   "execution_count": null,
   "id": "2a716302",
   "metadata": {
    "execution": {
     "iopub.execute_input": "2024-08-20T19:22:15.080156Z",
     "iopub.status.busy": "2024-08-20T19:22:15.079905Z",
     "iopub.status.idle": "2024-08-20T19:22:15.084509Z",
     "shell.execute_reply": "2024-08-20T19:22:15.083203Z"
    }
   },
   "outputs": [],
   "source": [
    "def verse(first_thing, second_thing):\n",
    "    print(\"And on that \" + first_thing)\n",
    "    print(\"There was a \" + second_thing)\n",
    "    print(\"The prettiest \" + second_thing)\n",
    "    print(\"That you ever did see\")\n",
    "    \n",
    "verse(\"tree\", \"limb\")"
   ]
  },
  {
   "cell_type": "code",
   "execution_count": null,
   "id": "6435a4f7",
   "metadata": {
    "execution": {
     "iopub.execute_input": "2024-08-20T19:22:15.088149Z",
     "iopub.status.busy": "2024-08-20T19:22:15.087807Z",
     "iopub.status.idle": "2024-08-20T19:22:15.094276Z",
     "shell.execute_reply": "2024-08-20T19:22:15.093587Z"
    },
    "slideshow": {
     "slide_type": "subslide"
    }
   },
   "outputs": [],
   "source": [
    "def tree():\n",
    "    print(\"And the tree was in the ground\")\n",
    "    print(\"And the green grass grew all around, all around, and the green grass grew all around\")\n",
    "    print()\n",
    "    \n",
    "def limb():\n",
    "    print(\"And the limb was on the tree,\")\n",
    "    tree()\n",
    "    \n",
    "def branch():\n",
    "    print(\"And the branch was on the limb,\")\n",
    "    limb()\n",
    "    \n",
    "def nest():\n",
    "    print(\"And the nest was on the branch\")\n",
    "    branch()\n",
    "\n",
    "def egg():\n",
    "    print(\"And the egg was in the nest\")\n",
    "    nest()\n",
    "\n",
    "def bird():\n",
    "    print(\"And the bird was in the egg\")\n",
    "    egg()\n",
    "\n",
    "def verse(first_thing, second_thing):\n",
    "    print(\"And on that \" + first_thing)\n",
    "    print(\"There was a \" + second_thing)\n",
    "    print(\"The prettiest \" + second_thing)\n",
    "    print(\"That you ever did see\")\n",
    "    \n",
    "print(\"Oh in the woods there was a tree\")\n",
    "print(\"The prettiest tree\")\n",
    "print(\"You ever did see\")\n",
    "tree()\n",
    "verse(\"tree\", \"limb\")\n",
    "limb()\n",
    "verse(\"limb\", \"branch\")\n",
    "branch()\n",
    "verse(\"branch\", \"nest\")\n",
    "nest()\n",
    "verse(\"nest\", \"egg\")\n",
    "egg()\n",
    "verse(\"egg\", \"bird\")\n",
    "bird()"
   ]
  },
  {
   "cell_type": "markdown",
   "id": "6d471df5",
   "metadata": {
    "slideshow": {
     "slide_type": "subslide"
    }
   },
   "source": [
    "# Wait, that song isn't quite right...\n",
    "\n",
    "The egg verse is special:\n",
    "\n",
    "And **on** that nest  \n",
    "There was **a** egg  \n",
    "The prettiest egg  \n",
    "That you ever did see  \n",
    "\n",
    "One way to fix this would be to write a special function (or just use print statements) for that verse. \n",
    "\n",
    "But... we're learning about functions, so let's keep going."
   ]
  },
  {
   "cell_type": "markdown",
   "id": "5eae094d",
   "metadata": {
    "slideshow": {
     "slide_type": "subslide"
    }
   },
   "source": [
    "We can add one more parameter, `orientation` to our `verse` function:"
   ]
  },
  {
   "cell_type": "code",
   "execution_count": null,
   "id": "eecece39",
   "metadata": {
    "execution": {
     "iopub.execute_input": "2024-08-20T19:22:15.097553Z",
     "iopub.status.busy": "2024-08-20T19:22:15.097301Z",
     "iopub.status.idle": "2024-08-20T19:22:15.101630Z",
     "shell.execute_reply": "2024-08-20T19:22:15.100968Z"
    },
    "slideshow": {
     "slide_type": "-"
    },
    "tags": [
     "remove-output"
    ]
   },
   "outputs": [],
   "source": [
    "def verse(first_thing, second_thing, orientation):\n",
    "    print(\"And \" + orientation + \" that \" + first_thing)\n",
    "    print(\"There was a \" + second_thing)\n",
    "    print(\"The prettiest \" + second_thing)\n",
    "    print(\"That you ever did see\")\n",
    "    \n",
    "verse(\"branch\", \"limb\", \"on\")\n",
    "print()\n",
    "verse(\"nest\", \"egg\", \"in\")"
   ]
  },
  {
   "cell_type": "markdown",
   "id": "994b0b3a",
   "metadata": {},
   "source": [
    "# Example 0: Print a haiku\n",
    "\n",
    "Write a function that prints a haiku"
   ]
  },
  {
   "cell_type": "code",
   "execution_count": null,
   "id": "8aad8198",
   "metadata": {
    "execution": {
     "iopub.execute_input": "2024-08-20T19:22:15.104857Z",
     "iopub.status.busy": "2024-08-20T19:22:15.104591Z",
     "iopub.status.idle": "2024-08-20T19:22:15.108184Z",
     "shell.execute_reply": "2024-08-20T19:22:15.107569Z"
    }
   },
   "outputs": [],
   "source": [
    "def haiku():\n",
    "    print(\"'A Poppy Blooms'\")\n",
    "    print(\"(by Katsushika Hokusai):\")\n",
    "    print()\n",
    "    print(\"I write, erase, rewrite\")\n",
    "    print(\"Erase again, and then\")\n",
    "    print(\"A poppy blooms.\")"
   ]
  },
  {
   "cell_type": "code",
   "execution_count": null,
   "id": "83abd2cc",
   "metadata": {
    "execution": {
     "iopub.execute_input": "2024-08-20T19:22:15.111137Z",
     "iopub.status.busy": "2024-08-20T19:22:15.110884Z",
     "iopub.status.idle": "2024-08-20T19:22:15.114192Z",
     "shell.execute_reply": "2024-08-20T19:22:15.113592Z"
    }
   },
   "outputs": [],
   "source": [
    "haiku()"
   ]
  },
  {
   "cell_type": "markdown",
   "id": "f28742ab",
   "metadata": {
    "slideshow": {
     "slide_type": "slide"
    }
   },
   "source": [
    "# Example 1: Math facts\n",
    "\n",
    "Write a function that takes 2 numbers as input, and prints out some math facts about them:\n",
    "- The sum of the numbers\n",
    "- The product of the numbers\n",
    "- Which number is larger"
   ]
  },
  {
   "cell_type": "code",
   "execution_count": null,
   "id": "d0968b68",
   "metadata": {
    "execution": {
     "iopub.execute_input": "2024-08-20T19:22:15.117231Z",
     "iopub.status.busy": "2024-08-20T19:22:15.116976Z",
     "iopub.status.idle": "2024-08-20T19:22:15.120685Z",
     "shell.execute_reply": "2024-08-20T19:22:15.120049Z"
    },
    "slideshow": {
     "slide_type": "subslide"
    }
   },
   "outputs": [],
   "source": [
    "def print_math_facts(x, y):\n",
    "    print(\"Amazing (but true) facts about \" + str(x) + \" and \" + str(y) + \":\")\n",
    "    print(\"Their sum is: \" + str(x+y))\n",
    "    print(\"Their product is: \" + str(x*y))\n",
    "    if x > y:\n",
    "        print(str(x) + \" is larger.\")\n",
    "    else:\n",
    "        print(str(y) + \" is larger.\")        "
   ]
  },
  {
   "cell_type": "code",
   "execution_count": null,
   "id": "46d21a84",
   "metadata": {
    "execution": {
     "iopub.execute_input": "2024-08-20T19:22:15.123829Z",
     "iopub.status.busy": "2024-08-20T19:22:15.123569Z",
     "iopub.status.idle": "2024-08-20T19:22:15.126811Z",
     "shell.execute_reply": "2024-08-20T19:22:15.126203Z"
    }
   },
   "outputs": [],
   "source": [
    "print_math_facts(2, 3)"
   ]
  },
  {
   "cell_type": "code",
   "execution_count": null,
   "id": "bfe0728f",
   "metadata": {
    "execution": {
     "iopub.execute_input": "2024-08-20T19:22:15.130054Z",
     "iopub.status.busy": "2024-08-20T19:22:15.129796Z",
     "iopub.status.idle": "2024-08-20T19:22:15.133131Z",
     "shell.execute_reply": "2024-08-20T19:22:15.132549Z"
    }
   },
   "outputs": [],
   "source": [
    "print_math_facts(3, 2)"
   ]
  },
  {
   "cell_type": "code",
   "execution_count": null,
   "id": "929079ed",
   "metadata": {
    "execution": {
     "iopub.execute_input": "2024-08-20T19:22:15.135954Z",
     "iopub.status.busy": "2024-08-20T19:22:15.135712Z",
     "iopub.status.idle": "2024-08-20T19:22:15.138941Z",
     "shell.execute_reply": "2024-08-20T19:22:15.138387Z"
    }
   },
   "outputs": [],
   "source": [
    "print_math_facts(11, 7419)"
   ]
  },
  {
   "cell_type": "markdown",
   "id": "be4fd53f",
   "metadata": {
    "slideshow": {
     "slide_type": "slide"
    }
   },
   "source": [
    "# Example 2: State facts\n",
    "\n",
    "Write a function that takes information about a US state as input, and prints out some facts about it:\n",
    "* The name of the state\n",
    "* The state bird\n",
    "* The population of the state, and whether that population is above or below the mean US state population\n",
    "* The size of the state, and the percentage of the average state size (`state_size/avg_size*100`)"
   ]
  },
  {
   "cell_type": "code",
   "execution_count": null,
   "id": "ab8ee87d",
   "metadata": {
    "execution": {
     "iopub.execute_input": "2024-08-20T19:22:15.141793Z",
     "iopub.status.busy": "2024-08-20T19:22:15.141554Z",
     "iopub.status.idle": "2024-08-20T19:22:15.145663Z",
     "shell.execute_reply": "2024-08-20T19:22:15.145102Z"
    },
    "slideshow": {
     "slide_type": "subslide"
    }
   },
   "outputs": [],
   "source": [
    "def print_state_facts(name, bird, population, size):\n",
    "    print(\"Facts about \" + name + \":\")\n",
    "    print(name + \"'s state bird is the \" + bird)\n",
    "    if population > 4657757:\n",
    "        print(\"With a population of \" + str(population) + \", \" + name + \" is above the mean US state population.\")\n",
    "    else:\n",
    "        print(\"With a population of \" + str(population) + \", \" + name + \" is below the mean US state population.\")\n",
    "    size_pct = size / 75933 * 100\n",
    "    print(name + \" covers \" + str(size_pct) + \"% as much area as the average US state.\")"
   ]
  },
  {
   "cell_type": "code",
   "execution_count": null,
   "id": "d68309f8",
   "metadata": {
    "execution": {
     "iopub.execute_input": "2024-08-20T19:22:15.148623Z",
     "iopub.status.busy": "2024-08-20T19:22:15.148296Z",
     "iopub.status.idle": "2024-08-20T19:22:15.151715Z",
     "shell.execute_reply": "2024-08-20T19:22:15.151003Z"
    },
    "slideshow": {
     "slide_type": "subslide"
    }
   },
   "outputs": [],
   "source": [
    "print_state_facts(\"Massachusetts\", \"Chickadee\", 7029917, 10555)"
   ]
  },
  {
   "cell_type": "code",
   "execution_count": null,
   "id": "5bd1787d",
   "metadata": {
    "execution": {
     "iopub.execute_input": "2024-08-20T19:22:15.154512Z",
     "iopub.status.busy": "2024-08-20T19:22:15.154266Z",
     "iopub.status.idle": "2024-08-20T19:22:15.157739Z",
     "shell.execute_reply": "2024-08-20T19:22:15.157147Z"
    },
    "slideshow": {
     "slide_type": ""
    }
   },
   "outputs": [],
   "source": [
    "print_state_facts(\"Alaska\", \"Ptarmigan\", 733391, 663267)"
   ]
  },
  {
   "cell_type": "markdown",
   "id": "f85de690",
   "metadata": {},
   "source": [
    "## An improvement\n",
    "\n",
    "Let's reduce duplication when printing the population facts:"
   ]
  },
  {
   "cell_type": "code",
   "execution_count": null,
   "id": "f12e1593",
   "metadata": {
    "execution": {
     "iopub.execute_input": "2024-08-20T19:22:15.160611Z",
     "iopub.status.busy": "2024-08-20T19:22:15.160366Z",
     "iopub.status.idle": "2024-08-20T19:22:15.164605Z",
     "shell.execute_reply": "2024-08-20T19:22:15.164006Z"
    }
   },
   "outputs": [],
   "source": [
    "def print_state_facts(name, bird, population, size):\n",
    "    print(\"Facts about \" + name + \":\")\n",
    "    print(name + \"'s state bird is the \" + bird)\n",
    "\n",
    "    pop_comparison = ''\n",
    "    if population > 4657757:\n",
    "        pop_comparison = 'above'\n",
    "    else:\n",
    "        pop_comparison = 'below'\n",
    "    \n",
    "    print(\"With a population of \" + str(population) + \", \" + name + \" is \" + pop_comparison + \" the mean US state population.\")\n",
    "    \n",
    "    size_pct = size / 75933 * 100\n",
    "    print(name + \" covers \" + str(size_pct) + \"% as much area as the average US state.\")"
   ]
  },
  {
   "cell_type": "code",
   "execution_count": null,
   "id": "69b11404",
   "metadata": {
    "execution": {
     "iopub.execute_input": "2024-08-20T19:22:15.167483Z",
     "iopub.status.busy": "2024-08-20T19:22:15.167248Z",
     "iopub.status.idle": "2024-08-20T19:22:15.170601Z",
     "shell.execute_reply": "2024-08-20T19:22:15.170026Z"
    },
    "slideshow": {
     "slide_type": "subslide"
    }
   },
   "outputs": [],
   "source": [
    "print_state_facts(\"Massachusetts\", \"Chickadee\", 7029917, 10555)"
   ]
  },
  {
   "cell_type": "code",
   "execution_count": null,
   "id": "bb6557b3",
   "metadata": {
    "execution": {
     "iopub.execute_input": "2024-08-20T19:22:15.173474Z",
     "iopub.status.busy": "2024-08-20T19:22:15.173236Z",
     "iopub.status.idle": "2024-08-20T19:22:15.176496Z",
     "shell.execute_reply": "2024-08-20T19:22:15.175940Z"
    },
    "slideshow": {
     "slide_type": ""
    }
   },
   "outputs": [],
   "source": [
    "print_state_facts(\"Oregon\", \"Meadowlark\", 4237256, 98381)"
   ]
  },
  {
   "cell_type": "markdown",
   "id": "23dfa6a9",
   "metadata": {
    "slideshow": {
     "slide_type": "slide"
    }
   },
   "source": [
    "# Example 3: Sandwich instructions\n",
    "\n",
    "Write a function that takes in a set of ingredients (bread, meat, cheese, condiment) and prints instructions to make a sandwich."
   ]
  },
  {
   "cell_type": "code",
   "execution_count": null,
   "id": "a41a9f80",
   "metadata": {
    "execution": {
     "iopub.execute_input": "2024-08-20T19:22:15.179316Z",
     "iopub.status.busy": "2024-08-20T19:22:15.179080Z",
     "iopub.status.idle": "2024-08-20T19:22:15.183622Z",
     "shell.execute_reply": "2024-08-20T19:22:15.183016Z"
    },
    "slideshow": {
     "slide_type": "subslide"
    }
   },
   "outputs": [],
   "source": [
    "def sandwich(bread, meat, cheese, condiment):\n",
    "    print(\"Here are instructions to make a \" + meat + \" and \" + cheese + \" on \" + bread + \" with \" + condiment + \".\")\n",
    "    print(\"Step 1: Lay out 2 slices of \" + bread)\n",
    "    print(\"Step 2: Spread \" + condiment + \" on both slices of \" + bread + \" bread.\")\n",
    "    print(\"Step 3: Put 3 pieces of \" + meat + \" on one slice of the \" + bread  + \" bread.\")\n",
    "    print(\"Step 4: Put 2 pieces of \" + cheese  + \" on top of the \" + meat + \".\")\n",
    "    print(\"Step 5: Put the second slice of bread on top of the \" + cheese + \".\")\n",
    "    print(\"Step 6: Cut in half\")\n",
    "    print(\"Step 7: Eat!\")"
   ]
  },
  {
   "cell_type": "code",
   "execution_count": null,
   "id": "2f8d5766",
   "metadata": {
    "execution": {
     "iopub.execute_input": "2024-08-20T19:22:15.186552Z",
     "iopub.status.busy": "2024-08-20T19:22:15.186294Z",
     "iopub.status.idle": "2024-08-20T19:22:15.189905Z",
     "shell.execute_reply": "2024-08-20T19:22:15.189306Z"
    },
    "slideshow": {
     "slide_type": "subslide"
    }
   },
   "outputs": [],
   "source": [
    "sandwich(\"sourdough\", \"turkey\", \"swiss\", \"mustard\")"
   ]
  },
  {
   "cell_type": "code",
   "execution_count": null,
   "id": "379aeb48",
   "metadata": {
    "execution": {
     "iopub.execute_input": "2024-08-20T19:22:15.192920Z",
     "iopub.status.busy": "2024-08-20T19:22:15.192668Z",
     "iopub.status.idle": "2024-08-20T19:22:15.195994Z",
     "shell.execute_reply": "2024-08-20T19:22:15.195395Z"
    }
   },
   "outputs": [],
   "source": [
    "sandwich(\"rye\", \"ham\", \"provolone\", \"mayo\")"
   ]
  },
  {
   "cell_type": "markdown",
   "id": "6c8b1c5a",
   "metadata": {
    "slideshow": {
     "slide_type": "slide"
    }
   },
   "source": [
    "# Example 3a: More flexible sandwich instructions\n",
    "\n",
    "Modify the function so that the cheese and condiment can be excluded by passing an empty string for those arguments."
   ]
  },
  {
   "cell_type": "markdown",
   "id": "18e05df2",
   "metadata": {
    "slideshow": {
     "slide_type": "subslide"
    }
   },
   "source": [
    "Let's start with the first line:"
   ]
  },
  {
   "cell_type": "code",
   "execution_count": null,
   "id": "bdc0ac35",
   "metadata": {
    "execution": {
     "iopub.execute_input": "2024-08-20T19:22:15.199031Z",
     "iopub.status.busy": "2024-08-20T19:22:15.198797Z",
     "iopub.status.idle": "2024-08-20T19:22:15.202434Z",
     "shell.execute_reply": "2024-08-20T19:22:15.201868Z"
    },
    "slideshow": {
     "slide_type": ""
    }
   },
   "outputs": [],
   "source": [
    "def sandwich(bread, meat, cheese, condiment):\n",
    "    desc = \"Here are instructions to make a \" + meat\n",
    "    \n",
    "    if cheese:\n",
    "        desc += \" and \"  + cheese\n",
    "    \n",
    "    desc += \" on \" + bread\n",
    "    \n",
    "    if condiment:\n",
    "        desc += \" with \" + condiment\n",
    "    \n",
    "    desc += \".\"\n",
    "    \n",
    "    print(desc)"
   ]
  },
  {
   "cell_type": "code",
   "execution_count": null,
   "id": "95df4d9f",
   "metadata": {
    "execution": {
     "iopub.execute_input": "2024-08-20T19:22:15.205225Z",
     "iopub.status.busy": "2024-08-20T19:22:15.204990Z",
     "iopub.status.idle": "2024-08-20T19:22:15.208228Z",
     "shell.execute_reply": "2024-08-20T19:22:15.207708Z"
    },
    "slideshow": {
     "slide_type": "subslide"
    }
   },
   "outputs": [],
   "source": [
    "sandwich(\"sourdough\", \"turkey\", \"swiss\", \"mustard\")"
   ]
  },
  {
   "cell_type": "code",
   "execution_count": null,
   "id": "8db4cd2e",
   "metadata": {
    "execution": {
     "iopub.execute_input": "2024-08-20T19:22:15.211100Z",
     "iopub.status.busy": "2024-08-20T19:22:15.210859Z",
     "iopub.status.idle": "2024-08-20T19:22:15.214132Z",
     "shell.execute_reply": "2024-08-20T19:22:15.213570Z"
    }
   },
   "outputs": [],
   "source": [
    "sandwich(\"sourdough\", \"turkey\", \"\", \"mustard\")"
   ]
  },
  {
   "cell_type": "code",
   "execution_count": null,
   "id": "1fa5f395",
   "metadata": {
    "execution": {
     "iopub.execute_input": "2024-08-20T19:22:15.216824Z",
     "iopub.status.busy": "2024-08-20T19:22:15.216588Z",
     "iopub.status.idle": "2024-08-20T19:22:15.219789Z",
     "shell.execute_reply": "2024-08-20T19:22:15.219206Z"
    }
   },
   "outputs": [],
   "source": [
    "sandwich(\"sourdough\", \"turkey\", \"swiss\", \"\")"
   ]
  },
  {
   "cell_type": "code",
   "execution_count": null,
   "id": "5ca60dad",
   "metadata": {
    "execution": {
     "iopub.execute_input": "2024-08-20T19:22:15.222577Z",
     "iopub.status.busy": "2024-08-20T19:22:15.222342Z",
     "iopub.status.idle": "2024-08-20T19:22:15.225447Z",
     "shell.execute_reply": "2024-08-20T19:22:15.224927Z"
    }
   },
   "outputs": [],
   "source": [
    "sandwich(\"sourdough\", \"turkey\", \"\", \"\")"
   ]
  },
  {
   "cell_type": "markdown",
   "id": "9b84e040",
   "metadata": {
    "slideshow": {
     "slide_type": "subslide"
    }
   },
   "source": [
    "Step 1 is the same as before:"
   ]
  },
  {
   "cell_type": "code",
   "execution_count": null,
   "id": "f2575eb2",
   "metadata": {
    "execution": {
     "iopub.execute_input": "2024-08-20T19:22:15.228439Z",
     "iopub.status.busy": "2024-08-20T19:22:15.228201Z",
     "iopub.status.idle": "2024-08-20T19:22:15.232118Z",
     "shell.execute_reply": "2024-08-20T19:22:15.231571Z"
    },
    "slideshow": {
     "slide_type": ""
    }
   },
   "outputs": [],
   "source": [
    "def sandwich(bread, meat, cheese, condiment):\n",
    "    desc = \"Here are instructions to make a \" + meat    \n",
    "    if cheese:\n",
    "        desc += \" and \"  + cheese\n",
    "    desc += \" on \" + bread    \n",
    "    if condiment:\n",
    "        desc += \" with \" + condiment\n",
    "    desc += \".\"    \n",
    "    print(desc)\n",
    "    \n",
    "    print(\"Step 1: Lay out 2 slices of \" + bread + \" bread.\")"
   ]
  },
  {
   "cell_type": "code",
   "execution_count": null,
   "id": "b0604e5a",
   "metadata": {
    "execution": {
     "iopub.execute_input": "2024-08-20T19:22:15.235861Z",
     "iopub.status.busy": "2024-08-20T19:22:15.235526Z",
     "iopub.status.idle": "2024-08-20T19:22:15.239703Z",
     "shell.execute_reply": "2024-08-20T19:22:15.239152Z"
    }
   },
   "outputs": [],
   "source": [
    "sandwich(\"sourdough\", \"turkey\", \"swiss\", \"mustard\")"
   ]
  },
  {
   "cell_type": "markdown",
   "id": "d33665fe",
   "metadata": {
    "slideshow": {
     "slide_type": "subslide"
    }
   },
   "source": [
    "Step 2 is where we start to run into trouble... it's different if we have a condiment."
   ]
  },
  {
   "cell_type": "code",
   "execution_count": null,
   "id": "2a886fce",
   "metadata": {
    "execution": {
     "iopub.execute_input": "2024-08-20T19:22:15.242805Z",
     "iopub.status.busy": "2024-08-20T19:22:15.242565Z",
     "iopub.status.idle": "2024-08-20T19:22:15.247006Z",
     "shell.execute_reply": "2024-08-20T19:22:15.246442Z"
    },
    "slideshow": {
     "slide_type": ""
    }
   },
   "outputs": [],
   "source": [
    "def sandwich(bread, meat, cheese, condiment):\n",
    "    desc = \"Here are instructions to make a \" + meat    \n",
    "    if cheese:\n",
    "        desc += \" and \"  + cheese\n",
    "    desc += \" on \" + bread\n",
    "    if condiment:\n",
    "        desc += \" with \" + condiment\n",
    "    desc += \".\"\n",
    "    print(desc)\n",
    "    \n",
    "    print(\"Step 1: Lay out 2 slices of \" + bread + \" bread.\")\n",
    "    \n",
    "    if condiment:\n",
    "        print(\"Step 2: Spread \" + condiment + \" on both slices of \" + bread + \" bread.\")\n",
    "        print(\"Step 3: Put 3 pieces of \" + meat + \" on one slice of \" + bread + \" bread.\")\n",
    "    else: \n",
    "        print(\"Step 2: Put 3 pieces of \" + meat + \" on one slice of \" + bread + \" bread.\")"
   ]
  },
  {
   "cell_type": "code",
   "execution_count": null,
   "id": "af7a2592",
   "metadata": {
    "execution": {
     "iopub.execute_input": "2024-08-20T19:22:15.249977Z",
     "iopub.status.busy": "2024-08-20T19:22:15.249737Z",
     "iopub.status.idle": "2024-08-20T19:22:15.253614Z",
     "shell.execute_reply": "2024-08-20T19:22:15.252909Z"
    }
   },
   "outputs": [],
   "source": [
    "sandwich(\"sourdough\", \"turkey\", \"swiss\", \"mustard\")"
   ]
  },
  {
   "cell_type": "code",
   "execution_count": null,
   "id": "59a9d22f",
   "metadata": {
    "execution": {
     "iopub.execute_input": "2024-08-20T19:22:15.257102Z",
     "iopub.status.busy": "2024-08-20T19:22:15.256576Z",
     "iopub.status.idle": "2024-08-20T19:22:15.260286Z",
     "shell.execute_reply": "2024-08-20T19:22:15.259715Z"
    }
   },
   "outputs": [],
   "source": [
    "sandwich(\"sourdough\", \"turkey\", \"swiss\", \"\")"
   ]
  },
  {
   "cell_type": "markdown",
   "id": "387c53e1",
   "metadata": {
    "slideshow": {
     "slide_type": "subslide"
    }
   },
   "source": [
    "Step 3/4 is where things really get messy:"
   ]
  },
  {
   "cell_type": "code",
   "execution_count": null,
   "id": "165a6e19",
   "metadata": {
    "execution": {
     "iopub.execute_input": "2024-08-20T19:22:15.263242Z",
     "iopub.status.busy": "2024-08-20T19:22:15.262976Z",
     "iopub.status.idle": "2024-08-20T19:22:15.268775Z",
     "shell.execute_reply": "2024-08-20T19:22:15.267980Z"
    },
    "slideshow": {
     "slide_type": ""
    }
   },
   "outputs": [],
   "source": [
    "def sandwich(bread, meat, cheese, condiment):\n",
    "    desc = \"Here are instructions to make a \" + meat    \n",
    "    if cheese:\n",
    "        desc += \" and \"  + cheese\n",
    "    desc += \" on \" + bread\n",
    "    if condiment:\n",
    "        desc += \" with \" + condiment\n",
    "    desc += \".\"\n",
    "    print(desc)\n",
    "    \n",
    "    print(\"Step 1: Lay out 2 slices of \" + bread + \" bread.\")\n",
    "    \n",
    "    if condiment:\n",
    "        print(\"Step 2: Spread \" + condiment + \" on both slices of \" + bread + \" bread.\")\n",
    "        print(\"Step 3: Put 3 pieces of \" + meat + \" on one slice of \" + bread + \" bread.\")\n",
    "    else: \n",
    "        print(\"Step 2: Put 3 pieces of \" + meat + \" on one slice of \" + bread + \" bread.\")\n",
    "        \n",
    "    if cheese:\n",
    "        if condiment: # yes cheese, yes condiment\n",
    "            print(\"Step 4: Put 2 pieces of \" + cheese  + \" on top of the \" + meat + \".\")\n",
    "            print(\"Step 5: Put the second slice of bread on top of the \" + cheese + \".\")\n",
    "        else: # yes cheese, no condiment\n",
    "            print(\"Step 3: Put 2 pieces of \" + cheese  + \" on top of the \" + meat + \".\")\n",
    "            print(\"Step 4: Put the second slice of bread on top of the \" + cheese + \".\")\n",
    "    else:\n",
    "        if condiment: # no cheese, yes condiment\n",
    "            print(\"Step 4: Put the second slice of bread on top of the \" + meat + \".\")\n",
    "        else: # no cheese, no condiment\n",
    "            print(\"Step 3: Put the second slice of bread on top of the \" + meat + \".\")\n"
   ]
  },
  {
   "cell_type": "code",
   "execution_count": null,
   "id": "cf931ffc",
   "metadata": {
    "execution": {
     "iopub.execute_input": "2024-08-20T19:22:15.272056Z",
     "iopub.status.busy": "2024-08-20T19:22:15.271791Z",
     "iopub.status.idle": "2024-08-20T19:22:15.275255Z",
     "shell.execute_reply": "2024-08-20T19:22:15.274666Z"
    },
    "slideshow": {
     "slide_type": "subslide"
    }
   },
   "outputs": [],
   "source": [
    "sandwich(\"sourdough\", \"turkey\", \"swiss\", \"mustard\")"
   ]
  },
  {
   "cell_type": "code",
   "execution_count": null,
   "id": "e7b87ffc",
   "metadata": {
    "execution": {
     "iopub.execute_input": "2024-08-20T19:22:15.278422Z",
     "iopub.status.busy": "2024-08-20T19:22:15.278157Z",
     "iopub.status.idle": "2024-08-20T19:22:15.281436Z",
     "shell.execute_reply": "2024-08-20T19:22:15.280884Z"
    },
    "slideshow": {
     "slide_type": ""
    }
   },
   "outputs": [],
   "source": [
    "sandwich(\"sourdough\", \"turkey\", \"\", \"mustard\")"
   ]
  },
  {
   "cell_type": "code",
   "execution_count": null,
   "id": "29835c72",
   "metadata": {
    "execution": {
     "iopub.execute_input": "2024-08-20T19:22:15.284411Z",
     "iopub.status.busy": "2024-08-20T19:22:15.284076Z",
     "iopub.status.idle": "2024-08-20T19:22:15.287318Z",
     "shell.execute_reply": "2024-08-20T19:22:15.286727Z"
    },
    "slideshow": {
     "slide_type": "subslide"
    }
   },
   "outputs": [],
   "source": [
    "sandwich(\"sourdough\", \"turkey\", \"swiss\", \"\")"
   ]
  },
  {
   "cell_type": "code",
   "execution_count": null,
   "id": "e6d5ba3c",
   "metadata": {
    "execution": {
     "iopub.execute_input": "2024-08-20T19:22:15.290415Z",
     "iopub.status.busy": "2024-08-20T19:22:15.290156Z",
     "iopub.status.idle": "2024-08-20T19:22:15.293517Z",
     "shell.execute_reply": "2024-08-20T19:22:15.292861Z"
    }
   },
   "outputs": [],
   "source": [
    "sandwich(\"sourdough\", \"turkey\", \"\", \"\")"
   ]
  },
  {
   "cell_type": "markdown",
   "id": "cd77046a",
   "metadata": {
    "slideshow": {
     "slide_type": "subslide"
    }
   },
   "source": [
    "Before we get any further... there **must** be a better way!\n",
    "\n",
    "Any ideas?"
   ]
  },
  {
   "cell_type": "markdown",
   "id": "f38ba422",
   "metadata": {
    "slideshow": {
     "slide_type": "fragment"
    }
   },
   "source": [
    "Let's use a variable to keep track of which step number is next!"
   ]
  },
  {
   "cell_type": "code",
   "execution_count": null,
   "id": "5a409d6f",
   "metadata": {
    "execution": {
     "iopub.execute_input": "2024-08-20T19:22:15.297604Z",
     "iopub.status.busy": "2024-08-20T19:22:15.297302Z",
     "iopub.status.idle": "2024-08-20T19:22:15.304441Z",
     "shell.execute_reply": "2024-08-20T19:22:15.303199Z"
    },
    "slideshow": {
     "slide_type": "subslide"
    }
   },
   "outputs": [],
   "source": [
    "def sandwich(bread, meat, cheese, condiment):\n",
    "    desc = \"Here are instructions to make a \" + meat\n",
    "    if cheese:\n",
    "        desc += \" and \"  + cheese\n",
    "    desc += \" on \" + bread\n",
    "    if condiment:\n",
    "        desc += \" with \" + condiment\n",
    "    desc += \".\"\n",
    "    print(desc)\n",
    "    \n",
    "    step = 1\n",
    "    print(\"Step \" + str(step) + \": Lay out 2 slices of \" + bread + \" bread.\")\n",
    "    step += 1\n",
    "\n",
    "    if condiment:\n",
    "        print(\"Step \" + str(step) + \": Spread \" + condiment + \" on both slices of \" + bread + \" bread.\")\n",
    "        step += 1 \n",
    "        \n",
    "    print(\"Step \" + str(step) + \": Put 3 pieces of \" + meat + \" on one slice of \" + bread + \" bread.\")\n",
    "    step += 1\n",
    "    \n",
    "    if cheese:\n",
    "        print(\"Step \" + str(step) + \": Put 2 pieces of \" + cheese  + \" on top of the \" + meat + \".\")\n",
    "        step += 1\n",
    "        print(\"Step \" + str(step) + \": Put the second slice of bread on top of the \" + cheese + \".\")\n",
    "        step += 1\n",
    "    else:\n",
    "        print(\"Step \" + str(step) + \": Put the second slice of bread on top of the \" + meat + \".\")\n",
    "        step += 1\n",
    "        \n",
    "    print(\"Step \" + str(step) + \": Cut in half\")\n",
    "    step += 1\n",
    "    \n",
    "    print(\"Step \" + str(step) + \": Eat!\")"
   ]
  },
  {
   "cell_type": "code",
   "execution_count": null,
   "id": "6b59c569",
   "metadata": {
    "execution": {
     "iopub.execute_input": "2024-08-20T19:22:15.309234Z",
     "iopub.status.busy": "2024-08-20T19:22:15.308822Z",
     "iopub.status.idle": "2024-08-20T19:22:15.312824Z",
     "shell.execute_reply": "2024-08-20T19:22:15.312141Z"
    }
   },
   "outputs": [],
   "source": [
    "sandwich(\"sourdough\", \"turkey\", \"swiss\", \"mustard\")"
   ]
  },
  {
   "cell_type": "code",
   "execution_count": null,
   "id": "d58eeac4",
   "metadata": {
    "execution": {
     "iopub.execute_input": "2024-08-20T19:22:15.315961Z",
     "iopub.status.busy": "2024-08-20T19:22:15.315697Z",
     "iopub.status.idle": "2024-08-20T19:22:15.319126Z",
     "shell.execute_reply": "2024-08-20T19:22:15.318487Z"
    }
   },
   "outputs": [],
   "source": [
    "sandwich(\"sourdough\", \"turkey\", \"\", \"\")"
   ]
  },
  {
   "cell_type": "code",
   "execution_count": null,
   "id": "6f783807",
   "metadata": {
    "execution": {
     "iopub.execute_input": "2024-08-20T19:22:15.322089Z",
     "iopub.status.busy": "2024-08-20T19:22:15.321839Z",
     "iopub.status.idle": "2024-08-20T19:22:15.325396Z",
     "shell.execute_reply": "2024-08-20T19:22:15.324757Z"
    }
   },
   "outputs": [],
   "source": [
    "sandwich(\"sourdough\", \"turkey\", \"swiss\", \"\")"
   ]
  },
  {
   "cell_type": "code",
   "execution_count": null,
   "id": "1b163871",
   "metadata": {
    "execution": {
     "iopub.execute_input": "2024-08-20T19:22:15.328421Z",
     "iopub.status.busy": "2024-08-20T19:22:15.328161Z",
     "iopub.status.idle": "2024-08-20T19:22:15.331596Z",
     "shell.execute_reply": "2024-08-20T19:22:15.330948Z"
    }
   },
   "outputs": [],
   "source": [
    "sandwich(\"sourdough\", \"turkey\", \"\", \"mustard\")"
   ]
  },
  {
   "cell_type": "markdown",
   "id": "fcfa1d2b",
   "metadata": {},
   "source": [
    "## Helper functions\n",
    "\n",
    "When you notice repeated patterns or lines of code in your programs, it's often a good idea to create a function that \"factors out\" the repetition.\n",
    "\n",
    "In our function, we're starting many lines with `\"Step \" + str(step) + \":\"`, e.g.:\n",
    "\n",
    "`print(\"Step \" + str(step) + \": Lay out 2 slices of \" + bread + \" bread.\")`\n",
    "\n",
    "Let's write a function to handle this."
   ]
  },
  {
   "cell_type": "code",
   "execution_count": null,
   "id": "83696766",
   "metadata": {
    "execution": {
     "iopub.execute_input": "2024-08-20T19:22:15.335002Z",
     "iopub.status.busy": "2024-08-20T19:22:15.334555Z",
     "iopub.status.idle": "2024-08-20T19:22:15.337988Z",
     "shell.execute_reply": "2024-08-20T19:22:15.337382Z"
    },
    "slideshow": {
     "slide_type": "subslide"
    }
   },
   "outputs": [],
   "source": [
    "def print_step(step_num, instruction):\n",
    "    print(\"Step \" + str(step_num) + \": \" + instruction)"
   ]
  },
  {
   "cell_type": "code",
   "execution_count": null,
   "id": "d048600c",
   "metadata": {
    "execution": {
     "iopub.execute_input": "2024-08-20T19:22:15.341023Z",
     "iopub.status.busy": "2024-08-20T19:22:15.340761Z",
     "iopub.status.idle": "2024-08-20T19:22:15.344184Z",
     "shell.execute_reply": "2024-08-20T19:22:15.343538Z"
    }
   },
   "outputs": [],
   "source": [
    "print_step(3, \"Toast bread\")"
   ]
  },
  {
   "cell_type": "code",
   "execution_count": null,
   "id": "a06fdfe2",
   "metadata": {
    "execution": {
     "iopub.execute_input": "2024-08-20T19:22:15.347075Z",
     "iopub.status.busy": "2024-08-20T19:22:15.346813Z",
     "iopub.status.idle": "2024-08-20T19:22:15.350234Z",
     "shell.execute_reply": "2024-08-20T19:22:15.349647Z"
    }
   },
   "outputs": [],
   "source": [
    "print_step(1, \"Get ingredients\")"
   ]
  },
  {
   "cell_type": "code",
   "execution_count": null,
   "id": "a7a01136",
   "metadata": {
    "execution": {
     "iopub.execute_input": "2024-08-20T19:22:15.353121Z",
     "iopub.status.busy": "2024-08-20T19:22:15.352876Z",
     "iopub.status.idle": "2024-08-20T19:22:15.358279Z",
     "shell.execute_reply": "2024-08-20T19:22:15.357676Z"
    },
    "slideshow": {
     "slide_type": "subslide"
    }
   },
   "outputs": [],
   "source": [
    "def sandwich(bread, meat, cheese, condiment):\n",
    "    desc = \"Here are instructions to make a \" + meat\n",
    "    \n",
    "    if cheese:\n",
    "        desc += \" and \"  + cheese\n",
    "    desc += \" on \" + bread\n",
    "    \n",
    "    if condiment:\n",
    "        desc += \" with \" + condiment\n",
    "    desc += \".\"\n",
    "    \n",
    "    print(desc)\n",
    "    \n",
    "    step = 1\n",
    "    print_step(step, \"Lay out 2 slices of \" + bread + \" bread.\")\n",
    "    step += 1\n",
    "    \n",
    "    if condiment:\n",
    "        print_step(step, \"Spread \" + condiment + \" on both slices of \" + bread + \" bread.\")\n",
    "        step += 1 \n",
    "        \n",
    "    print_step(step, \"Put 3 pieces of \" + meat + \" on one slice of \" + bread + \" bread.\")\n",
    "    step += 1\n",
    "    \n",
    "    if cheese:\n",
    "        print_step(step, \"Put 2 pieces of \" + cheese  + \" on top of the \" + meat + \".\")\n",
    "        step += 1\n",
    "        print_step(step, \"Put the second slice of bread on top of the \" + cheese + \".\")\n",
    "        step += 1\n",
    "    else:\n",
    "        print_step(step, \"Put the second slice of bread on top of the \" + meat + \".\")\n",
    "        step += 1\n",
    "        \n",
    "    print_step(step, \"Cut in half\")\n",
    "    step += 1\n",
    "    \n",
    "    print_step(step, \"Eat!\")"
   ]
  },
  {
   "cell_type": "code",
   "execution_count": null,
   "id": "07078591",
   "metadata": {
    "execution": {
     "iopub.execute_input": "2024-08-20T19:22:15.361349Z",
     "iopub.status.busy": "2024-08-20T19:22:15.361008Z",
     "iopub.status.idle": "2024-08-20T19:22:15.364776Z",
     "shell.execute_reply": "2024-08-20T19:22:15.364117Z"
    }
   },
   "outputs": [],
   "source": [
    "sandwich(\"sourdough\", \"turkey\", \"swiss\", \"mustard\")"
   ]
  },
  {
   "cell_type": "markdown",
   "id": "86fafe44",
   "metadata": {
    "slideshow": {
     "slide_type": "slide"
    }
   },
   "source": [
    "# Exercise: Is it odd?\n",
    "\n",
    "[GitHub Classroom -> Class exercises -> Open in GitHub Cospaces](https://classroom.github.com/a/M3gdSqkV)\n",
    "\n",
    "Open the file: `exercises/04/is_odd/README.md`, follow the instructions.\n",
    "* If you don't see this folder: Open the file: `get_exercises.sh`, click the \"Run\" button at the top right of the editor.\n"
   ]
  },
  {
   "cell_type": "markdown",
   "id": "59432e28",
   "metadata": {
    "slideshow": {
     "slide_type": "slide"
    }
   },
   "source": [
    "# Exercise: Lifting Weights\n",
    "\n",
    "[GitHub Classroom -> Class exercises -> Open in GitHub Cospaces](https://classroom.github.com/a/M3gdSqkV)\n",
    "\n",
    "Open the file: `exercises/04/lifting_weights/README.md`, follow the instructions.\n",
    "* If you don't see this folder: Open the file: `get_exercises.sh`, click the \"Run\" button at the top right of the editor.\n"
   ]
  },
  {
   "cell_type": "markdown",
   "id": "735255b6",
   "metadata": {
    "slideshow": {
     "slide_type": "slide"
    }
   },
   "source": [
    "\n",
    "# Return\n",
    "\n",
    "* Functions can produce values.\n",
    "* Using the `return` keyword in a function makes the function produce a value."
   ]
  },
  {
   "cell_type": "code",
   "execution_count": null,
   "id": "9b69489b",
   "metadata": {
    "execution": {
     "iopub.execute_input": "2024-08-20T19:22:15.368101Z",
     "iopub.status.busy": "2024-08-20T19:22:15.367820Z",
     "iopub.status.idle": "2024-08-20T19:22:15.374456Z",
     "shell.execute_reply": "2024-08-20T19:22:15.373853Z"
    },
    "slideshow": {
     "slide_type": "-"
    }
   },
   "outputs": [],
   "source": [
    "def add(a, b):\n",
    "    return a + b\n",
    "\n",
    "add(1, 2)"
   ]
  },
  {
   "cell_type": "markdown",
   "id": "c3d4ddde",
   "metadata": {
    "slideshow": {
     "slide_type": "slide"
    }
   },
   "source": [
    "## `return` vs `print`"
   ]
  },
  {
   "cell_type": "code",
   "execution_count": null,
   "id": "b6d3a341",
   "metadata": {
    "execution": {
     "iopub.execute_input": "2024-08-20T19:22:15.377679Z",
     "iopub.status.busy": "2024-08-20T19:22:15.377414Z",
     "iopub.status.idle": "2024-08-20T19:22:15.380881Z",
     "shell.execute_reply": "2024-08-20T19:22:15.380321Z"
    },
    "slideshow": {
     "slide_type": ""
    }
   },
   "outputs": [],
   "source": [
    "def add_and_return(a, b):\n",
    "    return a + b\n",
    "\n",
    "def add_and_print(a, b):\n",
    "    print(a + b)"
   ]
  },
  {
   "cell_type": "code",
   "execution_count": null,
   "id": "6039cd01",
   "metadata": {
    "execution": {
     "iopub.execute_input": "2024-08-20T19:22:15.384008Z",
     "iopub.status.busy": "2024-08-20T19:22:15.383628Z",
     "iopub.status.idle": "2024-08-20T19:22:15.387641Z",
     "shell.execute_reply": "2024-08-20T19:22:15.387097Z"
    }
   },
   "outputs": [],
   "source": [
    "add_and_return(2, 3)"
   ]
  },
  {
   "cell_type": "code",
   "execution_count": null,
   "id": "5ffc5396",
   "metadata": {
    "execution": {
     "iopub.execute_input": "2024-08-20T19:22:15.390982Z",
     "iopub.status.busy": "2024-08-20T19:22:15.390687Z",
     "iopub.status.idle": "2024-08-20T19:22:15.394191Z",
     "shell.execute_reply": "2024-08-20T19:22:15.393559Z"
    }
   },
   "outputs": [],
   "source": [
    "add_and_print(2, 3)"
   ]
  },
  {
   "cell_type": "markdown",
   "id": "4574896a",
   "metadata": {
    "slideshow": {
     "slide_type": "fragment"
    }
   },
   "source": [
    "They look the same here - but are they?"
   ]
  },
  {
   "cell_type": "markdown",
   "id": "41d78a9c",
   "metadata": {
    "slideshow": {
     "slide_type": "subslide"
    }
   },
   "source": [
    "# `return` vs. `print`\n",
    "\n",
    "At first glance, `return` and `print` might seem the same. \n",
    "\n",
    "**They are not!** The difference is important, but might be confusing at first!\n",
    "\n",
    "`print` writes a value to the program's output (the terminal)\n",
    "\n",
    "`return` hands a result back to the code which called the function"
   ]
  },
  {
   "cell_type": "markdown",
   "id": "10b9e128",
   "metadata": {
    "slideshow": {
     "slide_type": "subslide"
    }
   },
   "source": [
    "## Phone a friend: `return`\n",
    "\n",
    "You are given a math homework assignment.\n",
    "\n",
    "One of the problems is too hard, so you call a friend on the phone to get help.\n",
    "\n",
    "You read the question to your friend.\n",
    "\n",
    "Your friend thinks for a minute, and then responds with the answer.\n",
    "\n",
    "You write the answer on your paper."
   ]
  },
  {
   "cell_type": "markdown",
   "id": "8b4541ef",
   "metadata": {
    "slideshow": {
     "slide_type": "subslide"
    }
   },
   "source": [
    "## Phone a friend: `return`\n",
    "\n",
    "You are given a math homework assignment.\n",
    "\n",
    "<span style=\"color:blue\">One of the problems is too hard, so you call a friend on the phone to get help.</span> (_Your friend is the function - you give them input, they produce output_)\n",
    "\n",
    "<span style=\"color:green\">You read the question to your friend.</span> (_This is calling the function_)\n",
    "\n",
    "<span style=\"color:red\">Your friend thinks for a minute, and then responds with the answer.</span> (_This is the function \"returning\" the answer_)\n",
    "\n",
    "<span style=\"color:purple\">You write the answer on your paper</span> (_This is the calling code using the return value_) "
   ]
  },
  {
   "cell_type": "markdown",
   "id": "856d93ed",
   "metadata": {
    "slideshow": {
     "slide_type": "subslide"
    }
   },
   "source": [
    "## Phone a friend: `print`\n",
    "\n",
    "You are given a math homework assignment.\n",
    "\n",
    "One of the problems is too hard, so you call a friend on the phone to get help.\n",
    "\n",
    "You read the question to your friend.\n",
    "\n",
    "Your friend thinks for a minute, and then writes the answer down on a piece of paper and hangs up.\n",
    "\n",
    "You contemplate how unhelpful your friend was, and fail the homework assignment."
   ]
  },
  {
   "cell_type": "markdown",
   "id": "28d710fe",
   "metadata": {
    "slideshow": {
     "slide_type": "subslide"
    }
   },
   "source": [
    "## Phone a friend: `print`\n",
    "\n",
    "You are given a math homework assignment.\n",
    "\n",
    "One of the problems is too hard, so you call a friend on the phone to get help.\n",
    "\n",
    "You read the question to your friend.\n",
    "\n",
    "<span style=\"color:red\">Your friend thinks for a minute, and then writes the answer down on a piece of paper and hangs up.</span> (_This is your friend \"printing\" the answer - your friend has produced output, but it is not directly available to you, the caller._)\n",
    "\n",
    "You contemplate how unhelpful your friend was, and fail the homework assignment."
   ]
  },
  {
   "cell_type": "markdown",
   "id": "f93a3be0",
   "metadata": {
    "slideshow": {
     "slide_type": "subslide"
    }
   },
   "source": [
    "Let's explore the difference with some examples."
   ]
  },
  {
   "cell_type": "code",
   "execution_count": null,
   "id": "c5e60219",
   "metadata": {
    "execution": {
     "iopub.execute_input": "2024-08-20T19:22:15.398120Z",
     "iopub.status.busy": "2024-08-20T19:22:15.397838Z",
     "iopub.status.idle": "2024-08-20T19:22:15.401528Z",
     "shell.execute_reply": "2024-08-20T19:22:15.400898Z"
    },
    "slideshow": {
     "slide_type": ""
    }
   },
   "outputs": [],
   "source": [
    "def add_and_print(a, b):\n",
    "    print(a + b)\n",
    "    \n",
    "def add_and_return(a, b):\n",
    "    return a + b"
   ]
  },
  {
   "cell_type": "code",
   "execution_count": null,
   "id": "bc7772a1",
   "metadata": {
    "execution": {
     "iopub.execute_input": "2024-08-20T19:22:15.404688Z",
     "iopub.status.busy": "2024-08-20T19:22:15.404427Z",
     "iopub.status.idle": "2024-08-20T19:22:15.407825Z",
     "shell.execute_reply": "2024-08-20T19:22:15.407266Z"
    }
   },
   "outputs": [],
   "source": [
    "print(\"add_and_print produces the value: \" + str(add_and_print(2, 3)))"
   ]
  },
  {
   "cell_type": "code",
   "execution_count": null,
   "id": "b85f2dc1",
   "metadata": {
    "execution": {
     "iopub.execute_input": "2024-08-20T19:22:15.410634Z",
     "iopub.status.busy": "2024-08-20T19:22:15.410383Z",
     "iopub.status.idle": "2024-08-20T19:22:15.413782Z",
     "shell.execute_reply": "2024-08-20T19:22:15.413201Z"
    },
    "slideshow": {
     "slide_type": ""
    }
   },
   "outputs": [],
   "source": [
    "print(\"add_and_return produces the value: \" + str(add_and_return(2, 3)))"
   ]
  },
  {
   "cell_type": "code",
   "execution_count": null,
   "id": "4a343b95",
   "metadata": {
    "execution": {
     "iopub.execute_input": "2024-08-20T19:22:15.416596Z",
     "iopub.status.busy": "2024-08-20T19:22:15.416340Z",
     "iopub.status.idle": "2024-08-20T19:22:15.419664Z",
     "shell.execute_reply": "2024-08-20T19:22:15.418933Z"
    },
    "slideshow": {
     "slide_type": "subslide"
    }
   },
   "outputs": [],
   "source": [
    "print(\"add_and_print produces the value: \" + str(add_and_print(2, 3)))"
   ]
  },
  {
   "cell_type": "code",
   "execution_count": null,
   "id": "78a2bffa",
   "metadata": {
    "execution": {
     "iopub.execute_input": "2024-08-20T19:22:15.422389Z",
     "iopub.status.busy": "2024-08-20T19:22:15.422152Z",
     "iopub.status.idle": "2024-08-20T19:22:15.425460Z",
     "shell.execute_reply": "2024-08-20T19:22:15.424906Z"
    },
    "slideshow": {
     "slide_type": ""
    }
   },
   "outputs": [],
   "source": [
    "print(\"add_and_return produces the value: \" + str(add_and_return(2, 3)))"
   ]
  },
  {
   "cell_type": "markdown",
   "id": "e9bcf0ae",
   "metadata": {},
   "source": [
    "`add_and_print` is writing a value directly to this slide.\n",
    "\n",
    "`add_and_return` is handing a value back to the code that called it. That code can use the value however it wants."
   ]
  },
  {
   "cell_type": "markdown",
   "id": "e4c2e005",
   "metadata": {
    "slideshow": {
     "slide_type": "subslide"
    }
   },
   "source": [
    "Using `return` is especially useful when the calling code needs to use the result of the function."
   ]
  },
  {
   "cell_type": "code",
   "execution_count": null,
   "id": "6c098ace",
   "metadata": {
    "execution": {
     "iopub.execute_input": "2024-08-20T19:22:15.428503Z",
     "iopub.status.busy": "2024-08-20T19:22:15.428271Z",
     "iopub.status.idle": "2024-08-20T19:22:15.700894Z",
     "shell.execute_reply": "2024-08-20T19:22:15.700191Z"
    },
    "slideshow": {
     "slide_type": ""
    }
   },
   "outputs": [],
   "source": [
    "print(\"Adding 1 to add_and_print(2,3) produces: \" + str(add_and_print(2, 3) + 1))"
   ]
  },
  {
   "cell_type": "code",
   "execution_count": null,
   "id": "a14f20e5",
   "metadata": {
    "execution": {
     "iopub.execute_input": "2024-08-20T19:22:15.704510Z",
     "iopub.status.busy": "2024-08-20T19:22:15.704217Z",
     "iopub.status.idle": "2024-08-20T19:22:15.708166Z",
     "shell.execute_reply": "2024-08-20T19:22:15.707488Z"
    },
    "slideshow": {
     "slide_type": ""
    }
   },
   "outputs": [],
   "source": [
    "print(\"Adding 1 to add_and_return(2,3) produces: \" + str(add_and_return(2, 3) + 1))"
   ]
  },
  {
   "cell_type": "markdown",
   "id": "ded45698",
   "metadata": {
    "slideshow": {
     "slide_type": "slide"
    }
   },
   "source": [
    "## None\n",
    "\n",
    "`None` is a special value that represents \"null\" or \"empty\".\n",
    "\n",
    "If you don't specify a return value from a function, the function will return `None`. \n",
    "\n",
    "This happens when:\n",
    "* execution reaches the end of the function without encountering a return statement\n",
    "* there is a \"bare\" `return` with no value\n",
    "* `return None` is used explicitly"
   ]
  },
  {
   "cell_type": "markdown",
   "id": "7b28d294",
   "metadata": {
    "slideshow": {
     "slide_type": "subslide"
    }
   },
   "source": [
    "## None\n",
    "\n",
    "`None` can be used like any other value. \n",
    "\n",
    "e.g. `None` can be assigned to a variable (`a = None`)\n",
    "\n",
    "It has its own type: `NoneType` - similar to `int`, `str`, `float`."
   ]
  },
  {
   "cell_type": "code",
   "execution_count": null,
   "id": "be6edb3d",
   "metadata": {
    "execution": {
     "iopub.execute_input": "2024-08-20T19:22:15.711657Z",
     "iopub.status.busy": "2024-08-20T19:22:15.711371Z",
     "iopub.status.idle": "2024-08-20T19:22:15.715595Z",
     "shell.execute_reply": "2024-08-20T19:22:15.714928Z"
    },
    "slideshow": {
     "slide_type": "subslide"
    }
   },
   "outputs": [],
   "source": [
    "def do_stuff():\n",
    "    val = \"Hello \" + \"world\"\n",
    "print(do_stuff())"
   ]
  },
  {
   "cell_type": "code",
   "execution_count": null,
   "id": "d9192d3d",
   "metadata": {
    "execution": {
     "iopub.execute_input": "2024-08-20T19:22:15.718791Z",
     "iopub.status.busy": "2024-08-20T19:22:15.718520Z",
     "iopub.status.idle": "2024-08-20T19:22:15.722058Z",
     "shell.execute_reply": "2024-08-20T19:22:15.721474Z"
    }
   },
   "outputs": [],
   "source": [
    "def do_stuff():\n",
    "    a = 5 + 10\n",
    "    return\n",
    "print(do_stuff())"
   ]
  },
  {
   "cell_type": "code",
   "execution_count": null,
   "id": "59997401",
   "metadata": {
    "execution": {
     "iopub.execute_input": "2024-08-20T19:22:15.725158Z",
     "iopub.status.busy": "2024-08-20T19:22:15.724867Z",
     "iopub.status.idle": "2024-08-20T19:22:15.729115Z",
     "shell.execute_reply": "2024-08-20T19:22:15.728154Z"
    }
   },
   "outputs": [],
   "source": [
    "def do_stuff():\n",
    "    b = 7 / 5\n",
    "    return None\n",
    "print(do_stuff())"
   ]
  },
  {
   "cell_type": "markdown",
   "id": "15187a04",
   "metadata": {
    "slideshow": {
     "slide_type": "subslide"
    }
   },
   "source": [
    "## Control flow\n",
    "\n",
    "* When a `return` statement is encountered, the function stops executing.\n",
    "* `return` can be used to control the flow of your program."
   ]
  },
  {
   "cell_type": "code",
   "execution_count": null,
   "id": "746ed6da",
   "metadata": {
    "execution": {
     "iopub.execute_input": "2024-08-20T19:22:15.732658Z",
     "iopub.status.busy": "2024-08-20T19:22:15.732374Z",
     "iopub.status.idle": "2024-08-20T19:22:15.735855Z",
     "shell.execute_reply": "2024-08-20T19:22:15.735095Z"
    }
   },
   "outputs": [],
   "source": [
    "def div(a, b):\n",
    "    if b == 0:\n",
    "        return None\n",
    "    return a / b"
   ]
  },
  {
   "cell_type": "code",
   "execution_count": null,
   "id": "cf928a46",
   "metadata": {
    "execution": {
     "iopub.execute_input": "2024-08-20T19:22:15.739392Z",
     "iopub.status.busy": "2024-08-20T19:22:15.739085Z",
     "iopub.status.idle": "2024-08-20T19:22:15.742785Z",
     "shell.execute_reply": "2024-08-20T19:22:15.742047Z"
    }
   },
   "outputs": [],
   "source": [
    "print(div(10, 2))"
   ]
  },
  {
   "cell_type": "code",
   "execution_count": null,
   "id": "ce6e01d5",
   "metadata": {
    "execution": {
     "iopub.execute_input": "2024-08-20T19:22:15.746094Z",
     "iopub.status.busy": "2024-08-20T19:22:15.745770Z",
     "iopub.status.idle": "2024-08-20T19:22:15.749564Z",
     "shell.execute_reply": "2024-08-20T19:22:15.748960Z"
    }
   },
   "outputs": [],
   "source": [
    "print(div(10, 0))"
   ]
  },
  {
   "cell_type": "markdown",
   "id": "a65d1489",
   "metadata": {
    "slideshow": {
     "slide_type": "slide"
    }
   },
   "source": [
    "## Terminology\n",
    "* When a function produces a value, we say it **returns** a value.\n",
    "* The value a function produces is referred to as the **return value**\n",
    "* When the `return` keyword is used in a function, it is referred to as **returning from** the function."
   ]
  },
  {
   "cell_type": "markdown",
   "id": "6e08878e",
   "metadata": {
    "slideshow": {
     "slide_type": "slide"
    }
   },
   "source": [
    "# Example 0: Average\n",
    "\n",
    "Write a function that takes 5 numbers as input, and returns the average."
   ]
  },
  {
   "cell_type": "code",
   "execution_count": null,
   "id": "afa2f488",
   "metadata": {
    "execution": {
     "iopub.execute_input": "2024-08-20T19:22:15.752572Z",
     "iopub.status.busy": "2024-08-20T19:22:15.752312Z",
     "iopub.status.idle": "2024-08-20T19:22:15.755507Z",
     "shell.execute_reply": "2024-08-20T19:22:15.754910Z"
    },
    "slideshow": {
     "slide_type": "subslide"
    }
   },
   "outputs": [],
   "source": [
    "def average(a, b, c, d, e):\n",
    "    sum = a + b + c + d + e\n",
    "    return sum / 5"
   ]
  },
  {
   "cell_type": "code",
   "execution_count": null,
   "id": "b5cb1696",
   "metadata": {
    "execution": {
     "iopub.execute_input": "2024-08-20T19:22:15.758276Z",
     "iopub.status.busy": "2024-08-20T19:22:15.758040Z",
     "iopub.status.idle": "2024-08-20T19:22:15.762060Z",
     "shell.execute_reply": "2024-08-20T19:22:15.761538Z"
    },
    "slideshow": {
     "slide_type": "subslide"
    }
   },
   "outputs": [],
   "source": [
    "average(1, 2, 3, 4, 5)"
   ]
  },
  {
   "cell_type": "code",
   "execution_count": null,
   "id": "d6f2ae83",
   "metadata": {
    "execution": {
     "iopub.execute_input": "2024-08-20T19:22:15.764811Z",
     "iopub.status.busy": "2024-08-20T19:22:15.764568Z",
     "iopub.status.idle": "2024-08-20T19:22:15.768746Z",
     "shell.execute_reply": "2024-08-20T19:22:15.768072Z"
    }
   },
   "outputs": [],
   "source": [
    "average(1, 1, 1, 1, 9999)"
   ]
  },
  {
   "cell_type": "code",
   "execution_count": null,
   "id": "70214437",
   "metadata": {
    "execution": {
     "iopub.execute_input": "2024-08-20T19:22:15.771591Z",
     "iopub.status.busy": "2024-08-20T19:22:15.771347Z",
     "iopub.status.idle": "2024-08-20T19:22:15.775448Z",
     "shell.execute_reply": "2024-08-20T19:22:15.774907Z"
    }
   },
   "outputs": [],
   "source": [
    "average(-10, -5, 0, 5, 10)"
   ]
  },
  {
   "cell_type": "markdown",
   "id": "ec7f0d57",
   "metadata": {
    "slideshow": {
     "slide_type": "slide"
    }
   },
   "source": [
    "# Example 1: Make things exciting\n",
    "\n",
    "Write a function that makes a string excited by adding an exclamation point at the end, and optionally making the text ALL CAPS."
   ]
  },
  {
   "cell_type": "code",
   "execution_count": null,
   "id": "5fa9f653",
   "metadata": {
    "execution": {
     "iopub.execute_input": "2024-08-20T19:22:15.778379Z",
     "iopub.status.busy": "2024-08-20T19:22:15.778143Z",
     "iopub.status.idle": "2024-08-20T19:22:15.781667Z",
     "shell.execute_reply": "2024-08-20T19:22:15.780998Z"
    },
    "slideshow": {
     "slide_type": "subslide"
    }
   },
   "outputs": [],
   "source": [
    "def make_exciting(value, all_caps):\n",
    "    if all_caps:\n",
    "        value = value.upper()\n",
    "    return value + \"!\""
   ]
  },
  {
   "cell_type": "code",
   "execution_count": null,
   "id": "dbf26103",
   "metadata": {
    "execution": {
     "iopub.execute_input": "2024-08-20T19:22:15.784572Z",
     "iopub.status.busy": "2024-08-20T19:22:15.784337Z",
     "iopub.status.idle": "2024-08-20T19:22:15.788407Z",
     "shell.execute_reply": "2024-08-20T19:22:15.787813Z"
    }
   },
   "outputs": [],
   "source": [
    "make_exciting(\"Hi class\", False)"
   ]
  },
  {
   "cell_type": "code",
   "execution_count": null,
   "id": "9aa68783",
   "metadata": {
    "execution": {
     "iopub.execute_input": "2024-08-20T19:22:15.791212Z",
     "iopub.status.busy": "2024-08-20T19:22:15.790975Z",
     "iopub.status.idle": "2024-08-20T19:22:15.794888Z",
     "shell.execute_reply": "2024-08-20T19:22:15.794259Z"
    }
   },
   "outputs": [],
   "source": [
    "make_exciting(\"Hi class\", True)"
   ]
  },
  {
   "cell_type": "code",
   "execution_count": null,
   "id": "eaa3c519",
   "metadata": {
    "execution": {
     "iopub.execute_input": "2024-08-20T19:22:15.797690Z",
     "iopub.status.busy": "2024-08-20T19:22:15.797445Z",
     "iopub.status.idle": "2024-08-20T19:22:15.800864Z",
     "shell.execute_reply": "2024-08-20T19:22:15.800249Z"
    }
   },
   "outputs": [],
   "source": [
    "print(\"Today I went to 10a, and it was... \" + make_exciting(\"the best day ever\", True))"
   ]
  },
  {
   "cell_type": "markdown",
   "id": "d9ed7c12",
   "metadata": {
    "slideshow": {
     "slide_type": "slide"
    }
   },
   "source": [
    "# Example 2: Sandwich instructions revisited\n",
    "\n",
    "Improve our function that took in a set of ingredients (bread, meat, cheese, condiment) and printed instructions to make a sandwich"
   ]
  },
  {
   "cell_type": "markdown",
   "id": "19a754dc",
   "metadata": {
    "slideshow": {
     "slide_type": "subslide"
    }
   },
   "source": [
    "\n",
    "The code we left off with:"
   ]
  },
  {
   "cell_type": "code",
   "execution_count": null,
   "id": "0d4c0219",
   "metadata": {
    "execution": {
     "iopub.execute_input": "2024-08-20T19:22:15.804131Z",
     "iopub.status.busy": "2024-08-20T19:22:15.803854Z",
     "iopub.status.idle": "2024-08-20T19:22:15.810056Z",
     "shell.execute_reply": "2024-08-20T19:22:15.809268Z"
    },
    "slideshow": {
     "slide_type": ""
    }
   },
   "outputs": [],
   "source": [
    "def print_step(step_num, instruction):\n",
    "    print(\"Step \" + str(step_num) + \": \" + instruction)\n",
    "    \n",
    "def sandwich(bread, meat, cheese, condiment):\n",
    "    desc = \"Here are instructions to make a \" + meat\n",
    "    \n",
    "    if cheese:\n",
    "        desc += \" and \"  + cheese\n",
    "    desc += \" on \" + bread\n",
    "    \n",
    "    if condiment:\n",
    "        desc += \" with \" + condiment\n",
    "    desc += \".\"\n",
    "    \n",
    "    print(desc)\n",
    "    \n",
    "    step = 1\n",
    "    print_step(step, \"Lay out 2 slices of \" + bread + \" bread.\")\n",
    "    step += 1\n",
    "    \n",
    "    if condiment:\n",
    "        print_step(step, \"Spread \" + condiment + \" on both slices of \" + bread + \" bread.\")\n",
    "        step += 1 \n",
    "        \n",
    "    print_step(step, \"Put 3 pieces of \" + meat + \" on one slice of \" + bread + \" bread.\")\n",
    "    step += 1\n",
    "    \n",
    "    if cheese:\n",
    "        print_step(step, \"Put 2 pieces of \" + cheese  + \" on top of the \" + meat + \".\")\n",
    "        step += 1\n",
    "        print_step(step, \"Put the second slice of bread on top of the \" + cheese + \".\")\n",
    "        step += 1\n",
    "    else:\n",
    "        print_step(step, \"Put the second slice of bread on top of the \" + meat + \".\")\n",
    "        step += 1\n",
    "        \n",
    "    print_step(step, \"Cut in half\")\n",
    "    step += 1\n",
    "    \n",
    "    print_step(step, \"Eat!\")"
   ]
  },
  {
   "cell_type": "code",
   "execution_count": null,
   "id": "8cd92d6c",
   "metadata": {
    "execution": {
     "iopub.execute_input": "2024-08-20T19:22:15.812973Z",
     "iopub.status.busy": "2024-08-20T19:22:15.812725Z",
     "iopub.status.idle": "2024-08-20T19:22:15.816135Z",
     "shell.execute_reply": "2024-08-20T19:22:15.815513Z"
    },
    "slideshow": {
     "slide_type": "subslide"
    }
   },
   "outputs": [],
   "source": [
    "sandwich(\"sourdough\", \"turkey\", \"swiss\", \"mustard\")"
   ]
  },
  {
   "cell_type": "markdown",
   "id": "b0e91323",
   "metadata": {
    "slideshow": {
     "slide_type": "subslide"
    }
   },
   "source": [
    "## Sandwich Decomposition\n",
    "\n",
    "Our function is pretty long - almost 30 lines of code.\n",
    "\n",
    "When functions get beyond 15-20 lines of code, it's usually a good idea to try to **decompose** them, or break them up into smaller parts."
   ]
  },
  {
   "cell_type": "markdown",
   "id": "bf9f083a",
   "metadata": {
    "slideshow": {
     "slide_type": "subslide"
    }
   },
   "source": [
    "The code that prints the first line of output is pretty self-contained. Let's make it a function!"
   ]
  },
  {
   "cell_type": "code",
   "execution_count": null,
   "id": "2a0bb513",
   "metadata": {
    "execution": {
     "iopub.execute_input": "2024-08-20T19:22:15.819395Z",
     "iopub.status.busy": "2024-08-20T19:22:15.819125Z",
     "iopub.status.idle": "2024-08-20T19:22:15.824631Z",
     "shell.execute_reply": "2024-08-20T19:22:15.823991Z"
    },
    "slideshow": {
     "slide_type": ""
    }
   },
   "outputs": [],
   "source": [
    "def sandwich(bread, meat, cheese, condiment):\n",
    "    desc = \"Here are instructions to make a \" + meat\n",
    "    \n",
    "    if cheese:\n",
    "        desc += \" and \"  + cheese\n",
    "    desc += \" on \" + bread\n",
    "    \n",
    "    if condiment:\n",
    "        desc += \" with \" + condiment\n",
    "    desc += \".\"\n",
    "    \n",
    "    print(desc)\n",
    "    \n",
    "    step = 1\n",
    "    print_step(step, \"Lay out 2 slices of \" + bread + \" bread.\")\n",
    "    step += 1\n",
    "    \n",
    "    if condiment:\n",
    "        print_step(step, \"Spread \" + condiment + \" on both slices of \" + bread + \" bread.\")\n",
    "        step += 1 \n",
    "        \n",
    "    print_step(step, \"Put 3 pieces of \" + meat + \" on one slice of \" + bread + \" bread.\")\n",
    "    step += 1\n",
    "    \n",
    "    if cheese:\n",
    "        print_step(step, \"Put 2 pieces of \" + cheese  + \" on top of the \" + meat + \".\")\n",
    "        step += 1\n",
    "        print_step(step, \"Put the second slice of bread on top of the \" + cheese + \".\")\n",
    "        step += 1\n",
    "    else:\n",
    "        print_step(step, \"Put the second slice of bread on top of the \" + meat + \".\")\n",
    "        step += 1\n",
    "        \n",
    "    print_step(step, \"Cut in half\")\n",
    "    step += 1\n",
    "    \n",
    "    print_step(step, \"Eat!\")"
   ]
  },
  {
   "cell_type": "code",
   "execution_count": null,
   "id": "fbdd906b",
   "metadata": {
    "execution": {
     "iopub.execute_input": "2024-08-20T19:22:15.827646Z",
     "iopub.status.busy": "2024-08-20T19:22:15.827386Z",
     "iopub.status.idle": "2024-08-20T19:22:15.831235Z",
     "shell.execute_reply": "2024-08-20T19:22:15.830503Z"
    },
    "slideshow": {
     "slide_type": "subslide"
    }
   },
   "outputs": [],
   "source": [
    "def print_intro(bread, meat, cheese, condiment):\n",
    "    desc = \"Here are instructions to make a \" + meat\n",
    "    \n",
    "    if cheese:\n",
    "        desc += \" and \"  + cheese\n",
    "    desc += \" on \" + bread\n",
    "    \n",
    "    if condiment:\n",
    "        desc += \" with \" + condiment\n",
    "    desc += \".\"\n",
    "    \n",
    "    print(desc)"
   ]
  },
  {
   "cell_type": "code",
   "execution_count": null,
   "id": "a72679f3",
   "metadata": {
    "execution": {
     "iopub.execute_input": "2024-08-20T19:22:15.834149Z",
     "iopub.status.busy": "2024-08-20T19:22:15.833897Z",
     "iopub.status.idle": "2024-08-20T19:22:15.837372Z",
     "shell.execute_reply": "2024-08-20T19:22:15.836655Z"
    }
   },
   "outputs": [],
   "source": [
    "print_intro(\"sourdough\", \"turkey\", \"swiss\", \"mustard\")"
   ]
  },
  {
   "cell_type": "code",
   "execution_count": null,
   "id": "c1eaee98",
   "metadata": {
    "execution": {
     "iopub.execute_input": "2024-08-20T19:22:15.840316Z",
     "iopub.status.busy": "2024-08-20T19:22:15.840057Z",
     "iopub.status.idle": "2024-08-20T19:22:15.843470Z",
     "shell.execute_reply": "2024-08-20T19:22:15.842886Z"
    }
   },
   "outputs": [],
   "source": [
    "print_intro(\"sourdough\", \"turkey\", \"\", \"mustard\")"
   ]
  },
  {
   "cell_type": "code",
   "execution_count": null,
   "id": "c4b86bbb",
   "metadata": {
    "execution": {
     "iopub.execute_input": "2024-08-20T19:22:15.846367Z",
     "iopub.status.busy": "2024-08-20T19:22:15.846115Z",
     "iopub.status.idle": "2024-08-20T19:22:15.849434Z",
     "shell.execute_reply": "2024-08-20T19:22:15.848834Z"
    }
   },
   "outputs": [],
   "source": [
    "print_intro(\"sourdough\", \"turkey\", \"swiss\", \"\")"
   ]
  },
  {
   "cell_type": "code",
   "execution_count": null,
   "id": "da86a61c",
   "metadata": {
    "execution": {
     "iopub.execute_input": "2024-08-20T19:22:15.852204Z",
     "iopub.status.busy": "2024-08-20T19:22:15.851963Z",
     "iopub.status.idle": "2024-08-20T19:22:15.857070Z",
     "shell.execute_reply": "2024-08-20T19:22:15.856466Z"
    },
    "slideshow": {
     "slide_type": "subslide"
    }
   },
   "outputs": [],
   "source": [
    "def sandwich(bread, meat, cheese, condiment):\n",
    "    print_intro(bread, meat, cheese, condiment)\n",
    "    \n",
    "    step = 1\n",
    "    print_step(step, \"Lay out 2 slices of \" + bread + \" bread.\")\n",
    "    step += 1\n",
    "    \n",
    "    if condiment:\n",
    "        print_step(step, \"Spread \" + condiment + \" on both slices of \" + bread + \" bread.\")\n",
    "        step += 1 \n",
    "        \n",
    "    print_step(step, \"Put 3 pieces of \" + meat + \" on one slice of \" + bread + \" bread.\")\n",
    "    step += 1\n",
    "    \n",
    "    if cheese:\n",
    "        print_step(step, \"Put 2 pieces of \" + cheese  + \" on top of the \" + meat + \".\")\n",
    "        step += 1\n",
    "        print_step(step, \"Put the second slice of bread on top of the \" + cheese + \".\")\n",
    "        step += 1\n",
    "    else:\n",
    "        print_step(step, \"Put the second slice of bread on top of the \" + meat + \".\")\n",
    "        step += 1\n",
    "        \n",
    "    print_step(step, \"Cut in half\")\n",
    "    step += 1\n",
    "    \n",
    "    print_step(step, \"Eat!\")"
   ]
  },
  {
   "cell_type": "code",
   "execution_count": null,
   "id": "c72f94a9",
   "metadata": {
    "execution": {
     "iopub.execute_input": "2024-08-20T19:22:15.859999Z",
     "iopub.status.busy": "2024-08-20T19:22:15.859746Z",
     "iopub.status.idle": "2024-08-20T19:22:15.863124Z",
     "shell.execute_reply": "2024-08-20T19:22:15.862572Z"
    }
   },
   "outputs": [],
   "source": [
    "sandwich(\"sourdough\", \"turkey\", \"swiss\", \"mustard\")"
   ]
  },
  {
   "cell_type": "markdown",
   "id": "6c04f8b6",
   "metadata": {
    "slideshow": {
     "slide_type": "subslide"
    }
   },
   "source": [
    "The intro was easy to \"factor out\".\n",
    "\n",
    "The rest is trickier - we need to keep track of which step we're on."
   ]
  },
  {
   "cell_type": "markdown",
   "id": "6ad1f0c6",
   "metadata": {
    "slideshow": {
     "slide_type": "fragment"
    }
   },
   "source": [
    "`return` to the rescue!"
   ]
  },
  {
   "cell_type": "markdown",
   "id": "29bb48b1",
   "metadata": {
    "slideshow": {
     "slide_type": "subslide"
    }
   },
   "source": [
    "The code that handles (optionally) adding the condiment looks like it could move to its own function. Let's try it."
   ]
  },
  {
   "cell_type": "code",
   "execution_count": null,
   "id": "c30585fb",
   "metadata": {
    "execution": {
     "iopub.execute_input": "2024-08-20T19:22:15.866266Z",
     "iopub.status.busy": "2024-08-20T19:22:15.866015Z",
     "iopub.status.idle": "2024-08-20T19:22:15.869582Z",
     "shell.execute_reply": "2024-08-20T19:22:15.868963Z"
    }
   },
   "outputs": [],
   "source": [
    "# Attempt 1: return whether or not a step was used\n",
    "def print_condiment_step(num, bread, condiment):\n",
    "    if condiment:\n",
    "        print_step(num, \"Spread \" + condiment + \" on both slices of \" + bread + \" bread.\")\n",
    "        return True\n",
    "    return False"
   ]
  },
  {
   "cell_type": "code",
   "execution_count": null,
   "id": "3c78c035",
   "metadata": {
    "execution": {
     "iopub.execute_input": "2024-08-20T19:22:15.872546Z",
     "iopub.status.busy": "2024-08-20T19:22:15.872282Z",
     "iopub.status.idle": "2024-08-20T19:22:15.877321Z",
     "shell.execute_reply": "2024-08-20T19:22:15.876743Z"
    },
    "slideshow": {
     "slide_type": "subslide"
    }
   },
   "outputs": [],
   "source": [
    "def sandwich(bread, meat, cheese, condiment):\n",
    "    print_intro(bread, meat, cheese, condiment)\n",
    "    step = 1\n",
    "\n",
    "    print_step(step, \"Lay out 2 slices of \" + bread + \" bread.\")\n",
    "    step += 1\n",
    "    \n",
    "    used_condiment = print_condiment_step(step, bread, condiment)\n",
    "    if used_condiment:\n",
    "        step += 1\n",
    "        \n",
    "    print_step(step, \"Put 3 pieces of \" + meat + \" on one slice of \" + bread + \" bread.\")\n",
    "    step += 1\n",
    "    \n",
    "    if cheese:\n",
    "        print_step(step, \"Put 2 pieces of \" + cheese  + \" on top of the \" + meat + \".\")\n",
    "        step += 1\n",
    "        print_step(step, \"Put the second slice of bread on top of the \" + cheese + \".\")\n",
    "        step += 1\n",
    "    else:\n",
    "        print_step(step, \"Put the second slice of bread on top of the \" + meat + \".\")\n",
    "        step += 1\n",
    "        \n",
    "    print_step(step, \"Cut in half\")\n",
    "    step += 1\n",
    "    \n",
    "    print_step(step, \"Eat!\")"
   ]
  },
  {
   "cell_type": "code",
   "execution_count": null,
   "id": "4e15b21f",
   "metadata": {
    "execution": {
     "iopub.execute_input": "2024-08-20T19:22:15.880322Z",
     "iopub.status.busy": "2024-08-20T19:22:15.880063Z",
     "iopub.status.idle": "2024-08-20T19:22:15.883414Z",
     "shell.execute_reply": "2024-08-20T19:22:15.882814Z"
    }
   },
   "outputs": [],
   "source": [
    "sandwich(\"sourdough\", \"turkey\", \"swiss\", \"mustard\")"
   ]
  },
  {
   "cell_type": "markdown",
   "id": "2e4de1e9",
   "metadata": {
    "slideshow": {
     "slide_type": "subslide"
    }
   },
   "source": [
    "This is ok... it works. But the code in `sandwich` is just a complicated as before:\n",
    "\n",
    "```\n",
    "if condiment:\n",
    "    print_step(step, \"Spread \" + condiment + \" on both slices of \" + bread + \" bread.\")\n",
    "    step += 1 \n",
    "```\n",
    "vs.\n",
    "```\n",
    "used_condiment = print_condiment_step(step, bread, condiment)\n",
    "if used_condiment:\n",
    "    step += 1\n",
    "```\n",
    "We can do better!"
   ]
  },
  {
   "cell_type": "code",
   "execution_count": null,
   "id": "e6c2d39f",
   "metadata": {
    "execution": {
     "iopub.execute_input": "2024-08-20T19:22:15.886598Z",
     "iopub.status.busy": "2024-08-20T19:22:15.886334Z",
     "iopub.status.idle": "2024-08-20T19:22:15.889621Z",
     "shell.execute_reply": "2024-08-20T19:22:15.889076Z"
    },
    "slideshow": {
     "slide_type": "subslide"
    }
   },
   "outputs": [],
   "source": [
    "def print_condiment_step(num, bread, condiment):\n",
    "    if condiment:\n",
    "        print_step(num, \"Spread \" + condiment + \" on both slices of \" + bread + \" bread.\")\n",
    "        num += 1\n",
    "    return num"
   ]
  },
  {
   "cell_type": "code",
   "execution_count": null,
   "id": "659a6458",
   "metadata": {
    "execution": {
     "iopub.execute_input": "2024-08-20T19:22:15.892732Z",
     "iopub.status.busy": "2024-08-20T19:22:15.892297Z",
     "iopub.status.idle": "2024-08-20T19:22:15.897219Z",
     "shell.execute_reply": "2024-08-20T19:22:15.896590Z"
    },
    "slideshow": {
     "slide_type": "subslide"
    }
   },
   "outputs": [],
   "source": [
    "def sandwich(bread, meat, cheese, condiment):\n",
    "    print_intro(bread, meat, cheese, condiment)\n",
    "    step = 1\n",
    "\n",
    "    print_step(step, \"Lay out 2 slices of \" + bread + \" bread.\")\n",
    "    step += 1\n",
    "    \n",
    "    step = print_condiment_step(step, bread, condiment)\n",
    "        \n",
    "    print_step(step, \"Put 3 pieces of \" + meat + \" on one slice of \" + bread + \" bread.\")\n",
    "    step += 1\n",
    "    \n",
    "    if cheese:\n",
    "        print_step(step, \"Put 2 pieces of \" + cheese  + \" on top of the \" + meat + \".\")\n",
    "        step += 1\n",
    "        print_step(step, \"Put the second slice of bread on top of the \" + cheese + \".\")\n",
    "        step += 1\n",
    "    else:\n",
    "        print_step(step, \"Put the second slice of bread on top of the \" + meat + \".\")\n",
    "        step += 1\n",
    "        \n",
    "    print_step(step, \"Cut in half\")\n",
    "    step += 1\n",
    "    \n",
    "    print_step(step, \"Eat!\")"
   ]
  },
  {
   "cell_type": "code",
   "execution_count": null,
   "id": "5fb3160f",
   "metadata": {
    "execution": {
     "iopub.execute_input": "2024-08-20T19:22:15.900162Z",
     "iopub.status.busy": "2024-08-20T19:22:15.899909Z",
     "iopub.status.idle": "2024-08-20T19:22:15.903358Z",
     "shell.execute_reply": "2024-08-20T19:22:15.902754Z"
    },
    "slideshow": {
     "slide_type": "subslide"
    }
   },
   "outputs": [],
   "source": [
    "sandwich(\"sourdough\", \"turkey\", \"swiss\", \"mustard\")"
   ]
  },
  {
   "cell_type": "code",
   "execution_count": null,
   "id": "1f8e5a36",
   "metadata": {
    "execution": {
     "iopub.execute_input": "2024-08-20T19:22:15.906353Z",
     "iopub.status.busy": "2024-08-20T19:22:15.905984Z",
     "iopub.status.idle": "2024-08-20T19:22:15.909313Z",
     "shell.execute_reply": "2024-08-20T19:22:15.908597Z"
    },
    "slideshow": {
     "slide_type": ""
    }
   },
   "outputs": [],
   "source": [
    "sandwich(\"sourdough\", \"turkey\", \"swiss\", \"\")"
   ]
  },
  {
   "cell_type": "markdown",
   "id": "65e8aaeb",
   "metadata": {
    "slideshow": {
     "slide_type": "subslide"
    }
   },
   "source": [
    "The code that handles (optionally) adding the cheese and second slice of bread is all related. Let's try moving it to a function too."
   ]
  },
  {
   "cell_type": "code",
   "execution_count": null,
   "id": "78321909",
   "metadata": {
    "execution": {
     "iopub.execute_input": "2024-08-20T19:22:15.912342Z",
     "iopub.status.busy": "2024-08-20T19:22:15.912102Z",
     "iopub.status.idle": "2024-08-20T19:22:15.916959Z",
     "shell.execute_reply": "2024-08-20T19:22:15.916349Z"
    },
    "slideshow": {
     "slide_type": ""
    }
   },
   "outputs": [],
   "source": [
    "def sandwich(bread, meat, cheese, condiment):\n",
    "    print_intro(bread, meat, cheese, condiment)\n",
    "    \n",
    "    step = 1\n",
    "    print_step(step, \"Lay out 2 slices of \" + bread + \" bread.\")\n",
    "    step += 1\n",
    "    \n",
    "    step = print_condiment_step(step, bread, condiment)\n",
    "        \n",
    "    print_step(step, \"Put 3 pieces of \" + meat + \" on one slice of \" + bread + \" bread.\")\n",
    "    step += 1\n",
    "    \n",
    "    if cheese:\n",
    "        print_step(step, \"Put 2 pieces of \" + cheese  + \" on top of the \" + meat + \".\")\n",
    "        step += 1\n",
    "        print_step(step, \"Put the second slice of bread on top of the \" + cheese + \".\")\n",
    "        step += 1\n",
    "    else:\n",
    "        print_step(step, \"Put the second slice of bread on top of the \" + meat + \".\")\n",
    "        step += 1\n",
    "        \n",
    "    print_step(step, \"Cut in half\")\n",
    "    step += 1\n",
    "    \n",
    "    print_step(step, \"Eat!\")"
   ]
  },
  {
   "cell_type": "code",
   "execution_count": null,
   "id": "d98ed59c",
   "metadata": {
    "execution": {
     "iopub.execute_input": "2024-08-20T19:22:15.920010Z",
     "iopub.status.busy": "2024-08-20T19:22:15.919663Z",
     "iopub.status.idle": "2024-08-20T19:22:15.923593Z",
     "shell.execute_reply": "2024-08-20T19:22:15.922985Z"
    },
    "slideshow": {
     "slide_type": "subslide"
    }
   },
   "outputs": [],
   "source": [
    "def print_second_slice_instructions(num, cheese, meat):\n",
    "    if cheese:\n",
    "        print_step(num, \"Put 2 pieces of \" + cheese  + \" on top of the \" + meat + \".\")\n",
    "        num += 1\n",
    "        print_step(num, \"Put the second slice of bread on top of the \" + cheese + \".\")\n",
    "        num += 1\n",
    "    else:\n",
    "        print_step(num, \"Put the second slice of bread on top of the \" + meat + \".\")\n",
    "        num += 1\n",
    "    return num"
   ]
  },
  {
   "cell_type": "code",
   "execution_count": null,
   "id": "5d009122",
   "metadata": {
    "execution": {
     "iopub.execute_input": "2024-08-20T19:22:15.926612Z",
     "iopub.status.busy": "2024-08-20T19:22:15.926354Z",
     "iopub.status.idle": "2024-08-20T19:22:15.930867Z",
     "shell.execute_reply": "2024-08-20T19:22:15.930259Z"
    },
    "slideshow": {
     "slide_type": "subslide"
    }
   },
   "outputs": [],
   "source": [
    "def sandwich(bread, meat, cheese, condiment):\n",
    "    print_intro(bread, meat, cheese, condiment)\n",
    "    \n",
    "    step = 1\n",
    "    print_step(step, \"Lay out 2 slices of \" + bread + \" bread.\")\n",
    "    step += 1\n",
    "    \n",
    "    if condiment:\n",
    "        print_step(step, \"Spread \" + condiment + \" on both slices of \" + bread + \" bread.\")\n",
    "        step += 1 \n",
    "        \n",
    "    print_step(step, \"Put 3 pieces of \" + meat + \" on one slice of \" + bread + \" bread.\")\n",
    "    step += 1\n",
    "    \n",
    "    step = print_second_slice_instructions(step, cheese, meat)\n",
    "        \n",
    "    print_step(step, \"Cut in half\")\n",
    "    step += 1\n",
    "    \n",
    "    print_step(step, \"Eat!\")"
   ]
  },
  {
   "cell_type": "code",
   "execution_count": null,
   "id": "d4d5413a",
   "metadata": {
    "execution": {
     "iopub.execute_input": "2024-08-20T19:22:15.933906Z",
     "iopub.status.busy": "2024-08-20T19:22:15.933654Z",
     "iopub.status.idle": "2024-08-20T19:22:15.937079Z",
     "shell.execute_reply": "2024-08-20T19:22:15.936501Z"
    },
    "slideshow": {
     "slide_type": "subslide"
    }
   },
   "outputs": [],
   "source": [
    "sandwich(\"sourdough\", \"turkey\", \"swiss\", \"mustard\")"
   ]
  },
  {
   "cell_type": "code",
   "execution_count": null,
   "id": "d8b4aec1",
   "metadata": {
    "execution": {
     "iopub.execute_input": "2024-08-20T19:22:15.940141Z",
     "iopub.status.busy": "2024-08-20T19:22:15.939573Z",
     "iopub.status.idle": "2024-08-20T19:22:15.943191Z",
     "shell.execute_reply": "2024-08-20T19:22:15.942593Z"
    }
   },
   "outputs": [],
   "source": [
    "sandwich(\"sourdough\", \"turkey\", \"\", \"mustard\")"
   ]
  },
  {
   "cell_type": "markdown",
   "id": "b81b0ebe",
   "metadata": {
    "slideshow": {
     "slide_type": "subslide"
    }
   },
   "source": [
    "We can do the same thing for other parts of our function:"
   ]
  },
  {
   "cell_type": "code",
   "execution_count": null,
   "id": "2f311e74",
   "metadata": {
    "execution": {
     "iopub.execute_input": "2024-08-20T19:22:15.946155Z",
     "iopub.status.busy": "2024-08-20T19:22:15.945915Z",
     "iopub.status.idle": "2024-08-20T19:22:15.949039Z",
     "shell.execute_reply": "2024-08-20T19:22:15.948507Z"
    },
    "slideshow": {
     "slide_type": "subslide"
    }
   },
   "outputs": [],
   "source": [
    "def print_cut_and_eat(num):\n",
    "    print_step(num, \"Cut in half\")\n",
    "    num += 1\n",
    "    print_step(num, \"Eat!\")"
   ]
  },
  {
   "cell_type": "code",
   "execution_count": null,
   "id": "b2922775",
   "metadata": {
    "execution": {
     "iopub.execute_input": "2024-08-20T19:22:15.951740Z",
     "iopub.status.busy": "2024-08-20T19:22:15.951511Z",
     "iopub.status.idle": "2024-08-20T19:22:15.955609Z",
     "shell.execute_reply": "2024-08-20T19:22:15.954990Z"
    },
    "slideshow": {
     "slide_type": "subslide"
    }
   },
   "outputs": [],
   "source": [
    "def sandwich(bread, meat, cheese, condiment):\n",
    "    print_intro(bread, meat, cheese, condiment)\n",
    "    step = 1\n",
    "\n",
    "    print_step(step, \"Lay out 2 slices of \" + bread + \" bread.\")\n",
    "    step += 1\n",
    "    \n",
    "    step = print_condiment_step(step, bread, condiment)\n",
    "        \n",
    "    print_step(step, \"Put 3 pieces of \" + meat + \" on one slice of \" + bread + \" bread.\")\n",
    "    step += 1\n",
    "    \n",
    "    step = print_second_slice_instructions(step, cheese, meat)\n",
    "       \n",
    "    print_cut_and_eat(step)"
   ]
  },
  {
   "cell_type": "code",
   "execution_count": null,
   "id": "c3b248d2",
   "metadata": {
    "execution": {
     "iopub.execute_input": "2024-08-20T19:22:15.958552Z",
     "iopub.status.busy": "2024-08-20T19:22:15.958290Z",
     "iopub.status.idle": "2024-08-20T19:22:15.961963Z",
     "shell.execute_reply": "2024-08-20T19:22:15.961251Z"
    }
   },
   "outputs": [],
   "source": [
    "sandwich(\"sourdough\", \"turkey\", \"swiss\", \"mustard\")"
   ]
  },
  {
   "cell_type": "markdown",
   "id": "984bf1a3",
   "metadata": {
    "slideshow": {
     "slide_type": "subslide"
    }
   },
   "source": [
    "The rest of the steps are probably too simple to warrant their own functions. But let's move them anyway to make everything look consistent."
   ]
  },
  {
   "cell_type": "code",
   "execution_count": null,
   "id": "49988dd7",
   "metadata": {
    "execution": {
     "iopub.execute_input": "2024-08-20T19:22:15.965997Z",
     "iopub.status.busy": "2024-08-20T19:22:15.965675Z",
     "iopub.status.idle": "2024-08-20T19:22:15.969715Z",
     "shell.execute_reply": "2024-08-20T19:22:15.969087Z"
    }
   },
   "outputs": [],
   "source": [
    "def print_bread_step(num, bread):\n",
    "    print_step(num, \"Lay out 2 slices of \" + bread + \" bread.\")\n",
    "    return num + 1\n",
    "\n",
    "def print_meat_step(num, meat, bread):\n",
    "    print_step(num, \"Put 3 pieces of \" + meat + \" on one slice of \" + bread + \" bread.\")\n",
    "    return num + 1"
   ]
  },
  {
   "cell_type": "code",
   "execution_count": null,
   "id": "713b47ab",
   "metadata": {
    "execution": {
     "iopub.execute_input": "2024-08-20T19:22:15.990246Z",
     "iopub.status.busy": "2024-08-20T19:22:15.981342Z",
     "iopub.status.idle": "2024-08-20T19:22:16.002121Z",
     "shell.execute_reply": "2024-08-20T19:22:15.999080Z"
    },
    "slideshow": {
     "slide_type": "subslide"
    }
   },
   "outputs": [],
   "source": [
    "def sandwich(bread, meat, cheese, condiment):\n",
    "    print_intro(bread, meat, cheese, condiment)\n",
    "    step = 1\n",
    "    \n",
    "    step = print_bread_step(step, bread)\n",
    "    step = print_condiment_step(step, bread, condiment)\n",
    "    step = print_meat_step(step, meat, bread)\n",
    "    step = print_second_slice_instructions(step, cheese, meat)\n",
    "    \n",
    "    print_cut_and_eat(step)"
   ]
  },
  {
   "cell_type": "code",
   "execution_count": null,
   "id": "2c52abe8",
   "metadata": {
    "execution": {
     "iopub.execute_input": "2024-08-20T19:22:16.006384Z",
     "iopub.status.busy": "2024-08-20T19:22:16.005776Z",
     "iopub.status.idle": "2024-08-20T19:22:16.010142Z",
     "shell.execute_reply": "2024-08-20T19:22:16.009366Z"
    },
    "slideshow": {
     "slide_type": "subslide"
    }
   },
   "outputs": [],
   "source": [
    "sandwich(\"sourdough\", \"turkey\", \"swiss\", \"mustard\")"
   ]
  },
  {
   "cell_type": "code",
   "execution_count": null,
   "id": "94ccc83f",
   "metadata": {
    "execution": {
     "iopub.execute_input": "2024-08-20T19:22:16.029514Z",
     "iopub.status.busy": "2024-08-20T19:22:16.029059Z",
     "iopub.status.idle": "2024-08-20T19:22:16.035068Z",
     "shell.execute_reply": "2024-08-20T19:22:16.032839Z"
    }
   },
   "outputs": [],
   "source": [
    "sandwich(\"sourdough\", \"turkey\", \"\", \"mustard\")"
   ]
  },
  {
   "cell_type": "markdown",
   "id": "f06c8b9e",
   "metadata": {
    "slideshow": {
     "slide_type": "subslide"
    }
   },
   "source": [
    "All of the final code in one place:"
   ]
  },
  {
   "cell_type": "code",
   "execution_count": null,
   "id": "f9e75727",
   "metadata": {
    "execution": {
     "iopub.execute_input": "2024-08-20T19:22:16.041480Z",
     "iopub.status.busy": "2024-08-20T19:22:16.041098Z",
     "iopub.status.idle": "2024-08-20T19:22:16.050151Z",
     "shell.execute_reply": "2024-08-20T19:22:16.049444Z"
    }
   },
   "outputs": [],
   "source": [
    "def print_step(step_num, instruction):\n",
    "    print(\"Step \" + str(step_num) + \": \" + instruction)\n",
    "    \n",
    "    \n",
    "def print_intro(bread, meat, cheese, condiment):\n",
    "    desc = \"Here are instructions to make a \" + meat\n",
    "    \n",
    "    if cheese:\n",
    "        desc += \" and \"  + cheese\n",
    "    desc += \" on \" + bread\n",
    "    \n",
    "    if condiment:\n",
    "        desc += \" with \" + condiment\n",
    "    desc += \".\"\n",
    "    \n",
    "    print(desc)\n",
    "    \n",
    "\n",
    "def print_bread_step(num, bread):\n",
    "    print_step(num, \"Lay out 2 slices of \" + bread + \" bread.\")\n",
    "    return num + 1\n",
    "\n",
    "\n",
    "def print_condiment_step(num, bread, condiment):\n",
    "    if condiment:\n",
    "        print_step(num, \"Spread \" + condiment + \" on both slices of \" + bread + \" bread.\")\n",
    "        num += 1\n",
    "    return num\n",
    "\n",
    "\n",
    "def print_second_slice_instructions(num, cheese, meat):\n",
    "    if cheese:\n",
    "        print_step(num, \"Put 2 pieces of \" + cheese  + \" on top of the \" + meat + \".\")\n",
    "        num += 1\n",
    "        print_step(num, \"Put the second slice of bread on top of the \" + cheese + \".\")\n",
    "        num += 1\n",
    "    else:\n",
    "        print_step(num, \"Put the second slice of bread on top of the \" + meat + \".\")\n",
    "        num += 1\n",
    "    return num\n",
    "\n",
    "\n",
    "def print_meat_step(num, meat, bread):\n",
    "    print_step(num, \"Put 3 pieces of \" + meat + \" on one slice of \" + bread + \" bread.\")\n",
    "    return num + 1\n",
    "\n",
    "\n",
    "def print_cut_and_eat(num):\n",
    "    print_step(num, \"Cut in half\")\n",
    "    num += 1\n",
    "    print_step(num, \"Eat!\")    \n",
    "    \n",
    "    \n",
    "def sandwich(bread, meat, cheese, condiment):\n",
    "    print_intro(bread, meat, cheese, condiment)\n",
    "    step = 1\n",
    "\n",
    "    step = print_bread_step(step, bread)\n",
    "    step = print_condiment_step(step, bread, condiment)\n",
    "    step = print_meat_step(step, meat, bread)\n",
    "    step = print_second_slice_instructions(step, cheese, meat)\n",
    "       \n",
    "    print_cut_and_eat(step)"
   ]
  },
  {
   "cell_type": "code",
   "execution_count": null,
   "id": "e27d8528",
   "metadata": {
    "execution": {
     "iopub.execute_input": "2024-08-20T19:22:16.053394Z",
     "iopub.status.busy": "2024-08-20T19:22:16.053116Z",
     "iopub.status.idle": "2024-08-20T19:22:16.056569Z",
     "shell.execute_reply": "2024-08-20T19:22:16.055944Z"
    },
    "slideshow": {
     "slide_type": "subslide"
    }
   },
   "outputs": [],
   "source": [
    "sandwich(\"sourdough\", \"turkey\", \"swiss\", \"mustard\")"
   ]
  },
  {
   "cell_type": "code",
   "execution_count": null,
   "id": "3c6a42db",
   "metadata": {
    "execution": {
     "iopub.execute_input": "2024-08-20T19:22:16.059596Z",
     "iopub.status.busy": "2024-08-20T19:22:16.059345Z",
     "iopub.status.idle": "2024-08-20T19:22:16.062646Z",
     "shell.execute_reply": "2024-08-20T19:22:16.062054Z"
    },
    "slideshow": {
     "slide_type": ""
    }
   },
   "outputs": [],
   "source": [
    "sandwich(\"sourdough\", \"turkey\", \"\", \"mustard\")"
   ]
  },
  {
   "cell_type": "code",
   "execution_count": null,
   "id": "9a7c16bc",
   "metadata": {
    "execution": {
     "iopub.execute_input": "2024-08-20T19:22:16.065740Z",
     "iopub.status.busy": "2024-08-20T19:22:16.065481Z",
     "iopub.status.idle": "2024-08-20T19:22:16.069095Z",
     "shell.execute_reply": "2024-08-20T19:22:16.068441Z"
    },
    "slideshow": {
     "slide_type": "subslide"
    }
   },
   "outputs": [],
   "source": [
    "sandwich(\"sourdough\", \"turkey\", \"swiss\", \"\")"
   ]
  },
  {
   "cell_type": "code",
   "execution_count": null,
   "id": "871e1ee8",
   "metadata": {
    "execution": {
     "iopub.execute_input": "2024-08-20T19:22:16.072343Z",
     "iopub.status.busy": "2024-08-20T19:22:16.071990Z",
     "iopub.status.idle": "2024-08-20T19:22:16.075499Z",
     "shell.execute_reply": "2024-08-20T19:22:16.074844Z"
    },
    "slideshow": {
     "slide_type": ""
    }
   },
   "outputs": [],
   "source": [
    "sandwich(\"sourdough\", \"turkey\", \"\", \"\")"
   ]
  },
  {
   "cell_type": "markdown",
   "id": "2678db98",
   "metadata": {
    "slideshow": {
     "slide_type": "subslide"
    }
   },
   "source": [
    "## But wait... that's more code!\n",
    "\n",
    "We split our function up because it was too long... but ended up with more code?!"
   ]
  },
  {
   "cell_type": "markdown",
   "id": "63a81c85",
   "metadata": {
    "slideshow": {
     "slide_type": "fragment"
    }
   },
   "source": [
    "The overall code is longer, but each piece of code is smaller and simpler.\n",
    "\n",
    "The goal is not to write the shortest code.\n",
    "\n",
    "The goal is to write **correct** and **understandable** code!\n",
    "\n",
    "**Decomposition** helps with this. It takes practice, but it pays off."
   ]
  },
  {
   "cell_type": "markdown",
   "id": "1a9a1bbf",
   "metadata": {
    "slideshow": {
     "slide_type": "slide"
    }
   },
   "source": [
    "What do each of these functions **return**?\n",
    "* Describe the return value in terms of the function parameters\n",
    "* Give the data type that is returned\n",
    "* Give an example of inputs and the return value those inputs would produce"
   ]
  },
  {
   "cell_type": "code",
   "execution_count": null,
   "id": "f68324a2",
   "metadata": {
    "execution": {
     "iopub.execute_input": "2024-08-20T19:22:16.078663Z",
     "iopub.status.busy": "2024-08-20T19:22:16.078400Z",
     "iopub.status.idle": "2024-08-20T19:22:16.083098Z",
     "shell.execute_reply": "2024-08-20T19:22:16.082501Z"
    }
   },
   "outputs": [],
   "source": [
    "def append_number(value, number):\n",
    "    return value + str(number)\n",
    "\n",
    "def add_one_and_double(number):\n",
    "    return (number + 1) * 2\n",
    "\n",
    "def divide_by_seven(value):\n",
    "    print(str(int(value) / 7)\n",
    "\n",
    "def add_one_to_str(value):\n",
    "    return str(int(value) + 1)\n",
    "\n"
   ]
  },
  {
   "cell_type": "markdown",
   "id": "bbfe6bf5",
   "metadata": {
    "slideshow": {
     "slide_type": "slide"
    }
   },
   "source": [
    "You are given these 3 functions: `square`, `mod`, and `subtract_3`. Predict what the given code will print."
   ]
  },
  {
   "cell_type": "code",
   "execution_count": null,
   "id": "3ba86cac",
   "metadata": {
    "execution": {
     "iopub.execute_input": "2024-08-20T19:22:16.086112Z",
     "iopub.status.busy": "2024-08-20T19:22:16.085863Z",
     "iopub.status.idle": "2024-08-20T19:22:16.089451Z",
     "shell.execute_reply": "2024-08-20T19:22:16.088827Z"
    },
    "slideshow": {
     "slide_type": ""
    }
   },
   "outputs": [],
   "source": [
    "def square(value):\n",
    "    return value * value\n",
    "\n",
    "\n",
    "def mod(value, divisor):\n",
    "    return value % divisor\n",
    "\n",
    "\n",
    "def subtract_3(value):\n",
    "    return value - 3"
   ]
  },
  {
   "cell_type": "code",
   "execution_count": null,
   "id": "3a370a06",
   "metadata": {
    "execution": {
     "iopub.execute_input": "2024-08-20T19:22:16.092398Z",
     "iopub.status.busy": "2024-08-20T19:22:16.092149Z",
     "iopub.status.idle": "2024-08-20T19:22:16.095509Z",
     "shell.execute_reply": "2024-08-20T19:22:16.094924Z"
    }
   },
   "outputs": [],
   "source": [
    "answer = subtract_3(square(6))\n",
    "print(answer)"
   ]
  },
  {
   "cell_type": "code",
   "execution_count": null,
   "id": "b705bd6d",
   "metadata": {
    "execution": {
     "iopub.execute_input": "2024-08-20T19:22:16.098418Z",
     "iopub.status.busy": "2024-08-20T19:22:16.098160Z",
     "iopub.status.idle": "2024-08-20T19:22:16.101682Z",
     "shell.execute_reply": "2024-08-20T19:22:16.101103Z"
    },
    "slideshow": {
     "slide_type": "slide"
    }
   },
   "outputs": [],
   "source": [
    "def square(value):\n",
    "    return value * value\n",
    "\n",
    "\n",
    "def mod(value, divisor):\n",
    "    return value % divisor\n",
    "\n",
    "\n",
    "def subtract_3(value):\n",
    "    return value - 3"
   ]
  },
  {
   "cell_type": "code",
   "execution_count": null,
   "id": "d1d9708b",
   "metadata": {
    "execution": {
     "iopub.execute_input": "2024-08-20T19:22:16.104712Z",
     "iopub.status.busy": "2024-08-20T19:22:16.104450Z",
     "iopub.status.idle": "2024-08-20T19:22:16.107823Z",
     "shell.execute_reply": "2024-08-20T19:22:16.107156Z"
    }
   },
   "outputs": [],
   "source": [
    "answer = subtract_3(square(mod(17, 5)))\n",
    "print(answer)"
   ]
  },
  {
   "cell_type": "code",
   "execution_count": null,
   "id": "85534086",
   "metadata": {
    "execution": {
     "iopub.execute_input": "2024-08-20T19:22:16.110772Z",
     "iopub.status.busy": "2024-08-20T19:22:16.110507Z",
     "iopub.status.idle": "2024-08-20T19:22:16.114210Z",
     "shell.execute_reply": "2024-08-20T19:22:16.113601Z"
    },
    "slideshow": {
     "slide_type": "slide"
    }
   },
   "outputs": [],
   "source": [
    "def square(value):\n",
    "    return value * value\n",
    "\n",
    "\n",
    "def mod(value, divisor):\n",
    "    return value % divisor\n",
    "\n",
    "\n",
    "def subtract_3(value):\n",
    "    return value - 3"
   ]
  },
  {
   "cell_type": "code",
   "execution_count": null,
   "id": "9f479b50",
   "metadata": {
    "execution": {
     "iopub.execute_input": "2024-08-20T19:22:16.117173Z",
     "iopub.status.busy": "2024-08-20T19:22:16.116919Z",
     "iopub.status.idle": "2024-08-20T19:22:16.120334Z",
     "shell.execute_reply": "2024-08-20T19:22:16.119740Z"
    }
   },
   "outputs": [],
   "source": [
    "answer = square(square(square(3)))\n",
    "print(answer)"
   ]
  },
  {
   "cell_type": "code",
   "execution_count": null,
   "id": "672fb977",
   "metadata": {
    "execution": {
     "iopub.execute_input": "2024-08-20T19:22:16.123262Z",
     "iopub.status.busy": "2024-08-20T19:22:16.123003Z",
     "iopub.status.idle": "2024-08-20T19:22:16.126505Z",
     "shell.execute_reply": "2024-08-20T19:22:16.125891Z"
    },
    "slideshow": {
     "slide_type": "slide"
    }
   },
   "outputs": [],
   "source": [
    "def square(value):\n",
    "    return value * value\n",
    "\n",
    "\n",
    "def mod(value, divisor):\n",
    "    return value % divisor\n",
    "\n",
    "\n",
    "def subtract_3(value):\n",
    "    return value - 3"
   ]
  },
  {
   "cell_type": "code",
   "execution_count": null,
   "id": "be167bc6",
   "metadata": {
    "execution": {
     "iopub.execute_input": "2024-08-20T19:22:16.129407Z",
     "iopub.status.busy": "2024-08-20T19:22:16.129141Z",
     "iopub.status.idle": "2024-08-20T19:22:16.132550Z",
     "shell.execute_reply": "2024-08-20T19:22:16.131978Z"
    }
   },
   "outputs": [],
   "source": [
    "answer = mod(28, square(subtract_3(7)))\n",
    "print(answer)"
   ]
  },
  {
   "cell_type": "code",
   "execution_count": null,
   "id": "67006b61",
   "metadata": {
    "execution": {
     "iopub.execute_input": "2024-08-20T19:22:16.135502Z",
     "iopub.status.busy": "2024-08-20T19:22:16.135166Z",
     "iopub.status.idle": "2024-08-20T19:22:16.138904Z",
     "shell.execute_reply": "2024-08-20T19:22:16.138292Z"
    },
    "slideshow": {
     "slide_type": "slide"
    }
   },
   "outputs": [],
   "source": [
    "def square(value):\n",
    "    return value * value\n",
    "\n",
    "\n",
    "def mod(value, divisor):\n",
    "    return value % divisor\n",
    "\n",
    "\n",
    "def subtract_3(value):\n",
    "    return value - 3"
   ]
  },
  {
   "cell_type": "code",
   "execution_count": null,
   "id": "b6394d48",
   "metadata": {
    "execution": {
     "iopub.execute_input": "2024-08-20T19:22:16.141891Z",
     "iopub.status.busy": "2024-08-20T19:22:16.141637Z",
     "iopub.status.idle": "2024-08-20T19:22:16.145206Z",
     "shell.execute_reply": "2024-08-20T19:22:16.144536Z"
    }
   },
   "outputs": [],
   "source": [
    "answer = mod(square(7), subtract_3(square(mod(15, 4))))\n",
    "print(answer)"
   ]
  },
  {
   "cell_type": "markdown",
   "id": "dfd8218f",
   "metadata": {
    "slideshow": {
     "slide_type": "slide"
    }
   },
   "source": [
    "# Exercise: Rectangle info\n",
    "\n",
    "[GitHub Classroom -> Class exercises -> Open in GitHub Cospaces](https://classroom.github.com/a/M3gdSqkV)\n",
    "\n",
    "Open the file: `exercises/04/rectangle_info/README.md`, follow the instructions.\n",
    "* If you don't see this folder: Open the file: `get_exercises.sh`, click the \"Run\" button at the top right of the editor.\n"
   ]
  },
  {
   "cell_type": "markdown",
   "id": "614b4478",
   "metadata": {
    "slideshow": {
     "slide_type": "slide"
    }
   },
   "source": [
    "# Scope\n",
    "\n",
    "* A variable's definition is **scoped** to the block of code it is defined in.\n",
    "* A variable defined in a function is only available in that function.\n",
    "* Trying to use a variable outside of its scope is an error."
   ]
  },
  {
   "cell_type": "code",
   "execution_count": null,
   "id": "e01c55c2",
   "metadata": {
    "execution": {
     "iopub.execute_input": "2024-08-20T19:22:16.148181Z",
     "iopub.status.busy": "2024-08-20T19:22:16.147937Z",
     "iopub.status.idle": "2024-08-20T19:22:16.151437Z",
     "shell.execute_reply": "2024-08-20T19:22:16.150846Z"
    },
    "slideshow": {
     "slide_type": "subslide"
    }
   },
   "outputs": [],
   "source": [
    "def house():\n",
    "    furniture = \"couch\"\n",
    "    print(furniture)\n",
    "\n",
    "house()"
   ]
  },
  {
   "cell_type": "code",
   "execution_count": null,
   "id": "5b3f9f6e",
   "metadata": {
    "execution": {
     "iopub.execute_input": "2024-08-20T19:22:16.154281Z",
     "iopub.status.busy": "2024-08-20T19:22:16.154042Z",
     "iopub.status.idle": "2024-08-20T19:22:16.169319Z",
     "shell.execute_reply": "2024-08-20T19:22:16.168616Z"
    }
   },
   "outputs": [],
   "source": [
    "def house():\n",
    "    furniture = \"couch\"\n",
    "\n",
    "house()\n",
    "print(furniture)"
   ]
  },
  {
   "cell_type": "markdown",
   "id": "35a12c3e",
   "metadata": {
    "slideshow": {
     "slide_type": "subslide"
    }
   },
   "source": [
    "# Scope\n",
    "\n",
    "* In Python, there are technically 4 scopes.\n",
    "* You'll only need to be aware of 2:\n",
    "  * **global**: variables defined outside of a function\n",
    "  * **local**: variables defined inside a function\n",
    "* Remember: variables are defined when they are first assigned to. Their scope is determined by where that first assignment happens."
   ]
  },
  {
   "cell_type": "markdown",
   "id": "9c9024b6",
   "metadata": {
    "slideshow": {
     "slide_type": "subslide"
    }
   },
   "source": [
    "If you're curious, the other 2 scopes are:\n",
    "* **enclosing**, which applies when functions are declared inside other functions (!)\n",
    "* **built-in**, which covers all the functions and variables that are built into the Python language. \n",
    "    * For example: `if` and `else` are in the built-in scope."
   ]
  },
  {
   "cell_type": "markdown",
   "id": "a4de70b2",
   "metadata": {
    "slideshow": {
     "slide_type": "subslide"
    }
   },
   "source": [
    "Some examples:"
   ]
  },
  {
   "cell_type": "code",
   "execution_count": null,
   "id": "d2c87426",
   "metadata": {
    "execution": {
     "iopub.execute_input": "2024-08-20T19:22:16.173025Z",
     "iopub.status.busy": "2024-08-20T19:22:16.172770Z",
     "iopub.status.idle": "2024-08-20T19:22:16.177121Z",
     "shell.execute_reply": "2024-08-20T19:22:16.176403Z"
    },
    "slideshow": {
     "slide_type": ""
    }
   },
   "outputs": [],
   "source": [
    "color1 = \"red\"\n",
    "def paint():\n",
    "    color2 = \"green\"\n",
    "    if 2 > 1:\n",
    "        color3 = \"blue\"\n",
    "        print(color1, color2, color3)\n",
    "paint()"
   ]
  },
  {
   "cell_type": "code",
   "execution_count": null,
   "id": "ac2620af",
   "metadata": {
    "execution": {
     "iopub.execute_input": "2024-08-20T19:22:16.180479Z",
     "iopub.status.busy": "2024-08-20T19:22:16.180218Z",
     "iopub.status.idle": "2024-08-20T19:22:16.183879Z",
     "shell.execute_reply": "2024-08-20T19:22:16.183298Z"
    },
    "slideshow": {
     "slide_type": "subslide"
    }
   },
   "outputs": [],
   "source": [
    "color1 = \"red\"\n",
    "def paint():\n",
    "    color2 = \"green\"\n",
    "    if 2 > 1:\n",
    "        color3 = \"blue\"\n",
    "    print(color1, color2, color3)\n",
    "    \n",
    "paint()"
   ]
  },
  {
   "cell_type": "code",
   "execution_count": null,
   "id": "067750d8",
   "metadata": {
    "execution": {
     "iopub.execute_input": "2024-08-20T19:22:16.186844Z",
     "iopub.status.busy": "2024-08-20T19:22:16.186587Z",
     "iopub.status.idle": "2024-08-20T19:22:16.203096Z",
     "shell.execute_reply": "2024-08-20T19:22:16.202396Z"
    },
    "slideshow": {
     "slide_type": "subslide"
    },
    "tags": [
     "raises-exception"
    ]
   },
   "outputs": [],
   "source": [
    "color1 = \"red\"\n",
    "def paint():\n",
    "    color2 = \"green\"\n",
    "    if 2 > 1:\n",
    "        color3 = \"blue\"\n",
    "\n",
    "print(color1, color2, color3)\n",
    "paint()"
   ]
  },
  {
   "cell_type": "markdown",
   "id": "a97616fa",
   "metadata": {
    "slideshow": {
     "slide_type": "slide"
    }
   },
   "source": [
    "## Global variables: special snowflakes\n",
    "\n",
    "What does this print?"
   ]
  },
  {
   "cell_type": "code",
   "execution_count": null,
   "id": "93683bf2",
   "metadata": {
    "execution": {
     "iopub.execute_input": "2024-08-20T19:22:16.206992Z",
     "iopub.status.busy": "2024-08-20T19:22:16.206462Z",
     "iopub.status.idle": "2024-08-20T19:22:16.211347Z",
     "shell.execute_reply": "2024-08-20T19:22:16.210715Z"
    }
   },
   "outputs": [],
   "source": [
    "color = \"red\"\n",
    "def paint():\n",
    "    color = \"green\"\n",
    "    print(\"Inside paint: \" + color)\n",
    "\n",
    "print(\"Outside before func: \" + color)\n",
    "paint()\n",
    "print(\"Outside after func: \" + color)"
   ]
  },
  {
   "cell_type": "markdown",
   "id": "d3b189e5",
   "metadata": {
    "slideshow": {
     "slide_type": "subslide"
    }
   },
   "source": [
    "## Global variables: special snowflakes\n",
    "\n",
    "* Global variables can be **read** from a local scope.\n",
    "* To **write** to a global variable from a local scope, you must use the `global` keyword.\n",
    "* This is a common gotcha, you will probably run into this while writing your own code!"
   ]
  },
  {
   "cell_type": "markdown",
   "id": "45c35170",
   "metadata": {
    "slideshow": {
     "slide_type": "subslide"
    }
   },
   "source": [
    "In this example, we are actually creating a new local variable named `color` inside the `paint` function."
   ]
  },
  {
   "cell_type": "code",
   "execution_count": null,
   "id": "5e851d67",
   "metadata": {
    "execution": {
     "iopub.execute_input": "2024-08-20T19:22:16.214436Z",
     "iopub.status.busy": "2024-08-20T19:22:16.214172Z",
     "iopub.status.idle": "2024-08-20T19:22:16.218086Z",
     "shell.execute_reply": "2024-08-20T19:22:16.217464Z"
    }
   },
   "outputs": [],
   "source": [
    "color = \"red\"\n",
    "def paint():\n",
    "    color = \"green\"\n",
    "    print(\"Inside paint: \" + color)\n",
    "\n",
    "print(\"Outside before func: \" + color)\n",
    "paint()\n",
    "print(\"Outside after func: \" + color)"
   ]
  },
  {
   "cell_type": "markdown",
   "id": "21b6e1e0",
   "metadata": {
    "slideshow": {
     "slide_type": "fragment"
    }
   },
   "source": [
    "Creating a local variable with the same name as a global variable is referred to as \"shadowing\".\n",
    "\n",
    "Don't rely on shadowing on purpose, it will produce confusing code."
   ]
  },
  {
   "cell_type": "markdown",
   "id": "9968ba85",
   "metadata": {
    "slideshow": {
     "slide_type": "subslide"
    }
   },
   "source": [
    "Here is the corrected code:"
   ]
  },
  {
   "cell_type": "code",
   "execution_count": null,
   "id": "881628b1",
   "metadata": {
    "execution": {
     "iopub.execute_input": "2024-08-20T19:22:16.221344Z",
     "iopub.status.busy": "2024-08-20T19:22:16.220986Z",
     "iopub.status.idle": "2024-08-20T19:22:16.224892Z",
     "shell.execute_reply": "2024-08-20T19:22:16.224241Z"
    },
    "slideshow": {
     "slide_type": ""
    }
   },
   "outputs": [],
   "source": [
    "color = \"red\"\n",
    "def paint():\n",
    "    global color\n",
    "    color = \"green\"\n",
    "    print(\"Inside paint: \" + color)\n",
    "\n",
    "print(\"Outside before func: \" + color)\n",
    "paint()\n",
    "print(\"Outside after func: \" + color)"
   ]
  },
  {
   "cell_type": "markdown",
   "id": "df17984e",
   "metadata": {
    "slideshow": {
     "slide_type": "subslide"
    }
   },
   "source": [
    "One place this gotcha often shows up is when trying to add to a global inside a function."
   ]
  },
  {
   "cell_type": "code",
   "execution_count": null,
   "id": "b8327c0f",
   "metadata": {
    "execution": {
     "iopub.execute_input": "2024-08-20T19:22:16.228133Z",
     "iopub.status.busy": "2024-08-20T19:22:16.227858Z",
     "iopub.status.idle": "2024-08-20T19:22:16.251243Z",
     "shell.execute_reply": "2024-08-20T19:22:16.250292Z"
    },
    "slideshow": {
     "slide_type": ""
    },
    "tags": [
     "raises-exception"
    ]
   },
   "outputs": [],
   "source": [
    "score = 1\n",
    "def register_goal():\n",
    "    score += 1\n",
    "    print(\"Inside register_goal: \" + str(score))\n",
    "\n",
    "print(\"Outside before func: \" + str(score))\n",
    "register_goal()\n",
    "print(\"Outside after func: \" + str(score))"
   ]
  },
  {
   "cell_type": "markdown",
   "id": "7fc16807",
   "metadata": {
    "slideshow": {
     "slide_type": "subslide"
    }
   },
   "source": [
    "If you see a `local variable '...' referenced before assignment` error, but you know the variable has been assigned to... \n",
    "\n",
    "... you are probably trying to assign to a global variable inside a function without declaring it global.\n",
    "\n",
    "Here is the corrected code. It explicitly declares `score` as a `global` inside the `register_goal` function."
   ]
  },
  {
   "cell_type": "code",
   "execution_count": null,
   "id": "cbcf9758",
   "metadata": {
    "execution": {
     "iopub.execute_input": "2024-08-20T19:22:16.254820Z",
     "iopub.status.busy": "2024-08-20T19:22:16.254561Z",
     "iopub.status.idle": "2024-08-20T19:22:16.258935Z",
     "shell.execute_reply": "2024-08-20T19:22:16.258218Z"
    },
    "slideshow": {
     "slide_type": ""
    }
   },
   "outputs": [],
   "source": [
    "score = 1\n",
    "def register_goal():\n",
    "    global score\n",
    "    score += 1\n",
    "    print(\"Inside register_goal: \" + str(score))\n",
    "\n",
    "print(\"Outside before func: \" + str(score))\n",
    "register_goal()\n",
    "print(\"Outside after func: \" + str(score))"
   ]
  },
  {
   "cell_type": "markdown",
   "id": "2387e502",
   "metadata": {},
   "source": [
    "## Exercise: Quiz Game\n",
    "\n",
    "[GitHub Classroom -> Class exercises -> Open in GitHub Cospaces](https://classroom.github.com/a/M3gdSqkV)\n",
    "\n",
    "Open the file: `exercises/04/quiz_game/README.md`, follow the instructions.\n",
    "* If you don't see this folder: Open the file: `get_exercises.sh`, click the \"Run\" button at the top right of the editor.\n"
   ]
  },
  {
   "cell_type": "markdown",
   "id": "c4d0a102",
   "metadata": {
    "slideshow": {
     "slide_type": "slide"
    }
   },
   "source": [
    "# Exercise\n",
    "\n",
    "Write a program which quizzes a player with a series of at least 5 questions.\n",
    "\n",
    "The player should be awarded 1 point for each correct answer. \n",
    "\n",
    "If the player answers incorrectly 2 times, the quiz should end.\n",
    "\n",
    "At the end of the quiz (win or lose), the program should print out the number of points the player earned."
   ]
  },
  {
   "cell_type": "code",
   "execution_count": null,
   "id": "dc1312aa",
   "metadata": {
    "execution": {
     "iopub.execute_input": "2024-08-20T19:22:16.262568Z",
     "iopub.status.busy": "2024-08-20T19:22:16.262286Z",
     "iopub.status.idle": "2024-08-20T19:22:16.343454Z",
     "shell.execute_reply": "2024-08-20T19:22:16.342552Z"
    },
    "slideshow": {
     "slide_type": "subslide"
    },
    "tags": [
     "remove-output"
    ]
   },
   "outputs": [],
   "source": [
    "# Attempt 1\n",
    "print(\"Welcome to the geography quiz!\")\n",
    "incorrect = 0\n",
    "points = 0\n",
    "\n",
    "answer1 = input(\"Question 1: Does Kansas border Colorado? (y/n) \")\n",
    "if answer1 == 'y':\n",
    "    points = points + 1\n",
    "else:\n",
    "    incorrect = incorrect + 1\n",
    "\n",
    "answer2 = input(\"Question 2: How many countries are in Europe? \")\n",
    "if answer2 == \"50\":\n",
    "    points = points + 1\n",
    "else:\n",
    "    incorrect = incorrect + 1\n",
    "\n",
    "if incorrect < 2:\n",
    "    answer3 = input(\"Question 3: In which state can you find the Grand Canyon? \")\n",
    "    if answer3 == \"Arizona\":\n",
    "        points = points + 1\n",
    "    else:\n",
    "        incorrect = incorrect + 1\n",
    "\n",
    "if incorrect < 2:\n",
    "    answer4 = input(\"Question 4: Which North American city has a larger population: Los Angeles or Mexico City? \")\n",
    "    if answer4 == \"Mexico City\":\n",
    "        points = points + 1\n",
    "    else:\n",
    "        incorrect = incorrect + 1\n",
    "\n",
    "if incorrect < 2:\n",
    "    answer4 = input(\"Question 5: Which country has the most volcanoes? \")\n",
    "    if answer4 == \"Indonesia\":\n",
    "        points = points + 1\n",
    "    else:\n",
    "        incorrect = incorrect + 1\n",
    "\n",
    "print(\"You earned \" + str(points) + \" points!\")"
   ]
  },
  {
   "cell_type": "markdown",
   "id": "70ffe635",
   "metadata": {
    "slideshow": {
     "slide_type": "subslide"
    }
   },
   "source": [
    "This is ok, but pretty clunky. Let's add some feedback after answering the questions."
   ]
  },
  {
   "cell_type": "code",
   "execution_count": null,
   "id": "00ffe2d0",
   "metadata": {
    "execution": {
     "iopub.execute_input": "2024-08-20T19:22:16.347667Z",
     "iopub.status.busy": "2024-08-20T19:22:16.347344Z",
     "iopub.status.idle": "2024-08-20T19:22:16.381346Z",
     "shell.execute_reply": "2024-08-20T19:22:16.380161Z"
    },
    "slideshow": {
     "slide_type": "subslide"
    },
    "tags": [
     "remove-output"
    ]
   },
   "outputs": [],
   "source": [
    "# Attempt 2\n",
    "print(\"Welcome to the geography quiz!\")\n",
    "incorrect = 0\n",
    "points = 0\n",
    "\n",
    "answer1 = input(\"Question 1: Does Kansas border Colorado? (y/n) \")\n",
    "if answer1 == 'y':\n",
    "    print(\"Correct!\")\n",
    "    points = points + 1\n",
    "else:\n",
    "    print(\"Incorrect! The answer was 'y'\")\n",
    "    incorrect = incorrect + 1\n",
    "\n",
    "answer2 = input(\"Question 2: How many countries are in Europe? \")\n",
    "if answer2 == \"50\":\n",
    "    print(\"Correct!\")\n",
    "    points = points + 1\n",
    "else:\n",
    "    print(\"Incorrect! The answer was '50'\")\n",
    "    incorrect = incorrect + 1\n",
    "\n",
    "if incorrect < 2:\n",
    "    answer3 = input(\"Question 3: In which state can you find the Grand Canyon? \")\n",
    "    if answer3 == \"Arizona\":\n",
    "        print(\"Correct!\")\n",
    "        points = points + 1\n",
    "    else:\n",
    "        print(\"Incorrect! The answer was 'Arizona'\")\n",
    "        incorrect = incorrect + 1\n",
    "\n",
    "if incorrect < 2:\n",
    "    answer4 = input(\"Question 4: Which North American city has a larger population: Los Angeles or Mexico City? \")\n",
    "    if answer4 == \"Mexico City\":\n",
    "        print(\"Correct!\")\n",
    "        points = points + 1\n",
    "    else:\n",
    "        print(\"Incorrect! The answer was 'Mexico City'\")\n",
    "        incorrect = incorrect + 1\n",
    "\n",
    "if incorrect < 2:\n",
    "    answer4 = input(\"Question 5: Which country has the most volcanoes? \")\n",
    "    if answer4 == \"Indonesia\":\n",
    "        print(\"Correct!\")\n",
    "        points = points + 1\n",
    "    else:\n",
    "        print(\"Incorrect! The answer was 'Indonesia'\")\n",
    "        incorrect = incorrect + 1\n",
    "\n",
    "print(\"You earned \" + str(points) + \" points!\")"
   ]
  },
  {
   "cell_type": "markdown",
   "id": "d8c42a42",
   "metadata": {
    "slideshow": {
     "slide_type": "subslide"
    }
   },
   "source": [
    "It plays a little better, but making that change was tedious - we had to make 5 almost identical edits. There's a lot duplication. Let's **decompose**. \n",
    "\n",
    "The main repeated parts of the game are asking a question, and checking the answer. Let's write functions for those operations."
   ]
  },
  {
   "cell_type": "code",
   "execution_count": null,
   "id": "9e7bb4b3",
   "metadata": {
    "execution": {
     "iopub.execute_input": "2024-08-20T19:22:16.385619Z",
     "iopub.status.busy": "2024-08-20T19:22:16.385325Z",
     "iopub.status.idle": "2024-08-20T19:22:16.418399Z",
     "shell.execute_reply": "2024-08-20T19:22:16.417436Z"
    },
    "slideshow": {
     "slide_type": "subslide"
    },
    "tags": [
     "remove-output"
    ]
   },
   "outputs": [],
   "source": [
    "# Attempt 3 - is this good?\n",
    "print(\"Welcome to the geography quiz!\")\n",
    "incorrect = 0\n",
    "points = 0\n",
    "\n",
    "def do_question(question):\n",
    "    answer = input(question)\n",
    "    return answer\n",
    "\n",
    "def check_answer(actual, expected):\n",
    "    if actual == expected:\n",
    "        print(\"Correct!\")        \n",
    "        return True\n",
    "    else:\n",
    "        print(\"Incorrect! The correct answer was '\" + expected + \"'\")        \n",
    "        return False\n",
    "\n",
    "answer1 = do_question(\"Question 1: Does Kansas border Colorado? (y/n) \")\n",
    "if check_answer(answer1, \"y\"):\n",
    "    points = points + 1\n",
    "else:\n",
    "    incorrect = incorrect + 1\n",
    "\n",
    "answer2 = do_question(\"Question 2: How many countries are in Europe? \")\n",
    "if check_answer(answer2, \"50\"):\n",
    "    points = points + 1\n",
    "else:\n",
    "    incorrect = incorrect + 1\n",
    "\n",
    "#...\n",
    "print(\"You earned \" + str(points) + \" points!\")"
   ]
  },
  {
   "cell_type": "markdown",
   "id": "7feac485",
   "metadata": {
    "slideshow": {
     "slide_type": "subslide"
    }
   },
   "source": [
    "Hm, this has taken away **some** duplication. \n",
    "\n",
    "But `do_question` is too small to be very useful, and we still have a lot of boilerplate for each question.\n",
    "\n",
    "Let's try combining these 2 together - they always happen in sequence, and we don't have much of a reason to split them apart."
   ]
  },
  {
   "cell_type": "code",
   "execution_count": null,
   "id": "f6679dff",
   "metadata": {
    "execution": {
     "iopub.execute_input": "2024-08-20T19:22:16.422060Z",
     "iopub.status.busy": "2024-08-20T19:22:16.421718Z",
     "iopub.status.idle": "2024-08-20T19:22:16.454173Z",
     "shell.execute_reply": "2024-08-20T19:22:16.453348Z"
    },
    "slideshow": {
     "slide_type": "subslide"
    },
    "tags": [
     "remove-output"
    ]
   },
   "outputs": [],
   "source": [
    "# Attempt 4\n",
    "print(\"Welcome to the geography quiz!\")\n",
    "incorrect = 0\n",
    "points = 0\n",
    "\n",
    "def do_question(question, expected_answer):\n",
    "    answer = input(question)\n",
    "    if answer == expected_answer:\n",
    "        print(\"Correct!\")\n",
    "        return True\n",
    "    else:\n",
    "        print(\"Incorrect! The answer was '\" + expected_answer + \"'\")\n",
    "        return False\n",
    "        \n",
    "if do_question(\"Question 1: Does Kansas border Colorado? (y/n) \", \"y\"):\n",
    "    points = points + 1\n",
    "else:\n",
    "    incorrect = incorrect + 1\n",
    "    \n",
    "if do_question(\"Question 2: How many countries are in Europe? \", \"50\"):\n",
    "    points = points + 1\n",
    "else:\n",
    "    incorrect = incorrect + 1\n",
    "\n",
    "# ...\n",
    "print(\"You earned \" + str(points) + \" points!\")"
   ]
  },
  {
   "cell_type": "markdown",
   "id": "4586c7d6",
   "metadata": {
    "slideshow": {
     "slide_type": "subslide"
    }
   },
   "source": [
    "Can we do better?"
   ]
  },
  {
   "cell_type": "markdown",
   "id": "1fa89d42",
   "metadata": {
    "slideshow": {
     "slide_type": "fragment"
    }
   },
   "source": [
    "Let's try doing the point & incorrect tracking inside `do_question`."
   ]
  },
  {
   "cell_type": "code",
   "execution_count": null,
   "id": "594ce4ce",
   "metadata": {
    "execution": {
     "iopub.execute_input": "2024-08-20T19:22:16.458247Z",
     "iopub.status.busy": "2024-08-20T19:22:16.457884Z",
     "iopub.status.idle": "2024-08-20T19:22:16.493587Z",
     "shell.execute_reply": "2024-08-20T19:22:16.492597Z"
    },
    "slideshow": {
     "slide_type": "subslide"
    },
    "tags": [
     "remove-output"
    ]
   },
   "outputs": [],
   "source": [
    "# Attempt 5\n",
    "print(\"Welcome to the geography quiz!\")\n",
    "incorrect = 0\n",
    "points = 0\n",
    "\n",
    "def do_question(question, expected_answer):\n",
    "    answer = input(question)\n",
    "    if answer == expected_answer:\n",
    "        print(\"Correct!\")\n",
    "        points = points + 1\n",
    "    else:\n",
    "        print(\"Incorrect! The answer was '\" + expected_answer + \"'\")\n",
    "        incorrect = incorrect + 1\n",
    "        \n",
    "do_question(\"Question 1: Does Kansas border Colorado? (y/n) \", \"y\")\n",
    "do_question(\"Question 2: How many countries are in Europe? \", \"50\")\n",
    "do_question(\"Question 3: In which state can you find the Grand Canyon? \", \"Arizona\")\n",
    "do_question(\"Question 4: Which North American city has a larger population: Los Angeles or Mexico City? \", \"Mexico City\")\n",
    "do_question(\"Question 5: Which country has the most volcanoes? \", \"Indonesia\")\n",
    "print(\"You earned \" + str(points) + \" points!\")"
   ]
  },
  {
   "cell_type": "markdown",
   "id": "3b294fad",
   "metadata": {
    "slideshow": {
     "slide_type": "subslide"
    }
   },
   "source": [
    "`UnboundLocalError: local variable 'points' referenced before assignment`\n",
    "\n",
    "What's wrong?"
   ]
  },
  {
   "cell_type": "markdown",
   "id": "b9561251",
   "metadata": {
    "slideshow": {
     "slide_type": "fragment"
    }
   },
   "source": [
    "Those pesky globals... `points` is treated like a local variable in that function. We need to explicitly use the `global` keyword."
   ]
  },
  {
   "cell_type": "code",
   "execution_count": null,
   "id": "5f247d53",
   "metadata": {
    "execution": {
     "iopub.execute_input": "2024-08-20T19:22:16.497519Z",
     "iopub.status.busy": "2024-08-20T19:22:16.497228Z",
     "iopub.status.idle": "2024-08-20T19:22:16.530524Z",
     "shell.execute_reply": "2024-08-20T19:22:16.529588Z"
    },
    "slideshow": {
     "slide_type": "subslide"
    },
    "tags": [
     "remove-output"
    ]
   },
   "outputs": [],
   "source": [
    "# Attempt 6\n",
    "print(\"Welcome to the geography quiz!\")\n",
    "incorrect = 0\n",
    "points = 0\n",
    "\n",
    "def do_question(question, expected_answer):\n",
    "    global points\n",
    "    global incorrect\n",
    "    answer = input(question)\n",
    "    if answer == expected_answer:\n",
    "        print(\"Correct!\")\n",
    "        points = points + 1\n",
    "    else:\n",
    "        print(\"Incorrect! The answer was '\" + expected_answer + \"'\")\n",
    "        incorrect = incorrect + 1\n",
    "        \n",
    "do_question(\"Question 1: Does Kansas border Colorado? (y/n) \", \"y\")\n",
    "do_question(\"Question 2: How many countries are in Europe? \", \"50\")\n",
    "do_question(\"Question 3: In which state can you find the Grand Canyon? \", \"Arizona\")\n",
    "do_question(\"Question 4: Which North American city has a larger population: Los Angeles or Mexico City? \", \"Mexico City\")\n",
    "do_question(\"Question 5: Which country has the most volcanoes? \", \"Indonesia\")\n",
    "print(\"You earned \" + str(points) + \" points!\")"
   ]
  },
  {
   "cell_type": "markdown",
   "id": "2858f8ff",
   "metadata": {
    "slideshow": {
     "slide_type": "subslide"
    }
   },
   "source": [
    "# Globals again \n",
    "\n",
    "Overusing globals is considered a bad coding practice. Having more than a few of them can make larger programs very difficult to debug and maintain. \n",
    "\n",
    "However, you haven't yet learned the language features that would let you avoid using them in this case - so for now, use globals if you think they can help!"
   ]
  },
  {
   "cell_type": "markdown",
   "id": "3fbb9b19",
   "metadata": {
    "slideshow": {
     "slide_type": "fragment"
    }
   },
   "source": [
    "This is much better. Is it still correct?"
   ]
  },
  {
   "cell_type": "code",
   "execution_count": null,
   "id": "18fb68e2",
   "metadata": {
    "execution": {
     "iopub.execute_input": "2024-08-20T19:22:16.534493Z",
     "iopub.status.busy": "2024-08-20T19:22:16.534204Z",
     "iopub.status.idle": "2024-08-20T19:22:16.565746Z",
     "shell.execute_reply": "2024-08-20T19:22:16.564902Z"
    },
    "slideshow": {
     "slide_type": "subslide"
    },
    "tags": [
     "remove-output"
    ]
   },
   "outputs": [],
   "source": [
    "# Attempt 6\n",
    "print(\"Welcome to the geography quiz!\")\n",
    "incorrect = 0\n",
    "points = 0\n",
    "\n",
    "def do_question(question, expected_answer):\n",
    "    global points\n",
    "    global incorrect\n",
    "    answer = input(question)\n",
    "    if answer == expected_answer:\n",
    "        print(\"Correct!\")\n",
    "        points = points + 1\n",
    "    else:\n",
    "        print(\"Incorrect! The answer was '\" + expected_answer + \"'\")\n",
    "        incorrect = incorrect + 1\n",
    "        \n",
    "do_question(\"Question 1: Does Kansas border Colorado? (y/n) \", \"y\")\n",
    "do_question(\"Question 2: How many countries are in Europe? \", \"50\")\n",
    "do_question(\"Question 3: In which state can you find the Grand Canyon? \", \"Arizona\")\n",
    "do_question(\"Question 4: Which North American city has a larger population: Los Angeles or Mexico City? \", \"Mexico City\")\n",
    "do_question(\"Question 5: Which country has the most volcanoes? \", \"Indonesia\")\n",
    "print(\"You earned \" + str(points) + \" points!\")"
   ]
  },
  {
   "cell_type": "markdown",
   "id": "0adf0f6c",
   "metadata": {
    "slideshow": {
     "slide_type": "fragment"
    }
   },
   "source": [
    "Whoops... it doesn't stop after 2 wrong answers."
   ]
  },
  {
   "cell_type": "markdown",
   "id": "cc01cb92",
   "metadata": {
    "slideshow": {
     "slide_type": "subslide"
    }
   },
   "source": [
    "Here we use `return` to control the flow of the program. Once the player has accumulated 2 incorrect answers, the rest of the questions are skipped."
   ]
  },
  {
   "cell_type": "code",
   "execution_count": null,
   "id": "2c1bd986",
   "metadata": {
    "execution": {
     "iopub.execute_input": "2024-08-20T19:22:16.570797Z",
     "iopub.status.busy": "2024-08-20T19:22:16.570271Z",
     "iopub.status.idle": "2024-08-20T19:22:16.604612Z",
     "shell.execute_reply": "2024-08-20T19:22:16.603180Z"
    },
    "slideshow": {
     "slide_type": "-"
    },
    "tags": [
     "remove-output"
    ]
   },
   "outputs": [],
   "source": [
    "# Attempt 7\n",
    "print(\"Welcome to the geography quiz!\")\n",
    "incorrect = 0\n",
    "points = 0\n",
    "\n",
    "def do_question(question, expected_answer):\n",
    "    global points\n",
    "    global incorrect\n",
    "    if incorrect >= 2:\n",
    "        return\n",
    "    \n",
    "    answer = input(question)\n",
    "    if answer == expected_answer:\n",
    "        print(\"Correct!\")\n",
    "        points = points + 1\n",
    "    else:\n",
    "        print(\"Incorrect! The answer was '\" + expected_answer + \"'\")\n",
    "        incorrect = incorrect + 1\n",
    "        \n",
    "do_question(\"Question 1: Does Kansas border Colorado? (y/n) \", \"y\")\n",
    "do_question(\"Question 2: How many countries are in Europe? \", \"50\")\n",
    "do_question(\"Question 3: In which state can you find the Grand Canyon? \", \"Arizona\")\n",
    "do_question(\"Question 4: Which North American city has a larger population: Los Angeles or Mexico City? \", \"Mexico City\")\n",
    "do_question(\"Question 5: Which country has the most volcanoes? \", \"Indonesia\")\n",
    "print(\"You earned \" + str(points) + \" points!\")"
   ]
  },
  {
   "cell_type": "markdown",
   "id": "5a696575",
   "metadata": {
    "slideshow": {
     "slide_type": "subslide"
    }
   },
   "source": [
    "Seems awkward to have to pass in the question number as part of the question text... let's add a parameter."
   ]
  },
  {
   "cell_type": "code",
   "execution_count": null,
   "id": "57051583",
   "metadata": {
    "execution": {
     "iopub.execute_input": "2024-08-20T19:22:16.608577Z",
     "iopub.status.busy": "2024-08-20T19:22:16.608230Z",
     "iopub.status.idle": "2024-08-20T19:22:16.642372Z",
     "shell.execute_reply": "2024-08-20T19:22:16.641443Z"
    },
    "slideshow": {
     "slide_type": "subslide"
    },
    "tags": [
     "remove-output"
    ]
   },
   "outputs": [],
   "source": [
    "# Attempt 8\n",
    "print(\"Welcome to the geography quiz!\")\n",
    "incorrect = 0\n",
    "points = 0\n",
    "\n",
    "def do_question(number, question, expected_answer):\n",
    "    global points\n",
    "    global incorrect\n",
    "    if incorrect >= 2:\n",
    "        return\n",
    "    \n",
    "    answer = input(\"Question \" + str(number) + \": \" + question)\n",
    "    if answer == expected_answer:\n",
    "        print(\"Correct!\")\n",
    "        points = points + 1\n",
    "    else:\n",
    "        print(\"Incorrect! The answer was '\" + expected_answer + \"'\")\n",
    "        incorrect = incorrect + 1\n",
    "        \n",
    "do_question(1, \"Does Kansas border Colorado? (y/n) \", \"y\")\n",
    "do_question(2, \"How many countries are in Europe? \", \"50\")\n",
    "do_question(3, \"In which state can you find the Grand Canyon? \", \"Arizona\")\n",
    "do_question(4, \"Which North American city has a larger population: Los Angeles or Mexico City? \", \"Mexico City\")\n",
    "do_question(5, \"Which country has the most volcanoes? \", \"Indonesia\")\n",
    "print(\"You earned \" + str(points) + \" points!\")"
   ]
  },
  {
   "cell_type": "markdown",
   "id": "0b3a3806",
   "metadata": {
    "slideshow": {
     "slide_type": "subslide"
    }
   },
   "source": [
    "Do you notice how much easier it is to make improvements when we don't have duplicated code? We make the change once inside our function, and get the benefit everywhere that function is used."
   ]
  },
  {
   "cell_type": "markdown",
   "id": "28438cf1",
   "metadata": {
    "slideshow": {
     "slide_type": "fragment"
    }
   },
   "source": [
    "This is pretty good. \n",
    "\n",
    "Last thing - what if we wanted to make our answer checking fancier? For example, make it case-insensitive, or even allow close misspellings?"
   ]
  },
  {
   "cell_type": "markdown",
   "id": "bc0b9d33",
   "metadata": {
    "slideshow": {
     "slide_type": "fragment"
    }
   },
   "source": [
    "We haven't covered enough to actually do those things yet, but let's take the first step of **factoring out** the comparison logic."
   ]
  },
  {
   "cell_type": "code",
   "execution_count": null,
   "id": "16c60061",
   "metadata": {
    "execution": {
     "iopub.execute_input": "2024-08-20T19:22:16.646093Z",
     "iopub.status.busy": "2024-08-20T19:22:16.645769Z",
     "iopub.status.idle": "2024-08-20T19:22:16.680794Z",
     "shell.execute_reply": "2024-08-20T19:22:16.679884Z"
    },
    "slideshow": {
     "slide_type": "subslide"
    },
    "tags": [
     "remove-output"
    ]
   },
   "outputs": [],
   "source": [
    "# Attempt 9\n",
    "print(\"Welcome to the geography quiz!\")\n",
    "incorrect = 0\n",
    "points = 0\n",
    "\n",
    "def check_answer(actual, expected):\n",
    "    # TODO: replace this with much fancier logic\n",
    "    return actual == expected\n",
    "\n",
    "def do_question(number, question, expected_answer):\n",
    "    global points\n",
    "    global incorrect\n",
    "    if incorrect >= 2:\n",
    "        return\n",
    "    \n",
    "    answer = input(\"Question \" + str(number) + \": \" + question)\n",
    "    if check_answer(answer, expected_answer):\n",
    "        print(\"Correct!\")\n",
    "        points = points + 1\n",
    "    else:\n",
    "        print(\"Incorrect! The answer was '\" + expected_answer + \"'\")\n",
    "        incorrect = incorrect + 1\n",
    "        \n",
    "do_question(1, \"Does Kansas border Colorado? (y/n) \", \"y\")\n",
    "do_question(2, \"How many countries are in Europe? \", \"50\")\n",
    "do_question(3, \"In which state can you find the Grand Canyon? \", \"Arizona\")\n",
    "do_question(4, \"Which North American city has a larger population: Los Angeles or Mexico City? \", \"Mexico City\")\n",
    "do_question(5, \"Which country has the most volcanoes? \", \"Indonesia\")\n",
    "print(\"You earned \" + str(points) + \" points!\")"
   ]
  },
  {
   "cell_type": "markdown",
   "id": "9a9a6589",
   "metadata": {
    "slideshow": {
     "slide_type": "subslide"
    }
   },
   "source": [
    "We've created an isolated place for our comparison logic. We've **encapsulated** the logic in a function. \n",
    "\n",
    "This function is easy to test in isolation, and it keeps `do_question` simple even if we eventually have very complicated comparison logic."
   ]
  },
  {
   "cell_type": "markdown",
   "id": "d36bcfc4",
   "metadata": {
    "slideshow": {
     "slide_type": "subslide"
    }
   },
   "source": [
    "The slides **might** have made this process of refactoring seem straightforward, but even a relatively simple program like this took me a few iterations to get working and presentable:\n",
    "\n",
    "* It took a few tries to figure out how to best group the logic - my initial tries (not all shown) split the question asking and answer checking in different ways, before I finally settled on combining the logic into one function.\n",
    "* There are multiple ways to handle the question numbering. I originally tried a global counter variable, rather than passing an argument to `do_question`.\n",
    "* I got tripped up with whether/how to use globals to track the points and incorrect answers.\n",
    "\n",
    "... and I've been doing this professionally for ~20 years."
   ]
  },
  {
   "cell_type": "markdown",
   "id": "c60d8ae3",
   "metadata": {
    "slideshow": {
     "slide_type": "subslide"
    }
   },
   "source": [
    "You rarely write working code on your first try, let alone clean or elegant code. \n",
    "\n",
    "Just the process of trying to write code to solve a problem will teach you about both the problem and the solution. You will learn as you try to tackle it.\n",
    "\n",
    "Don't get discouraged if you don't immediately see a solution, or a good solution. Try some things, see where they work or don't work, and go from there.\n",
    "\n",
    "Coding takes practice. The more practice you get, the easier it will feel, and the faster you will get to working and elegant solutions."
   ]
  },
  {
   "cell_type": "markdown",
   "id": "f862f9c3",
   "metadata": {
    "slideshow": {
     "slide_type": "slide"
    }
   },
   "source": [
    "# Returning multiple values\n",
    "\n",
    "So far, all of our examples have returned a single value.\n",
    "\n",
    "In Python, functions can also return multiple values."
   ]
  },
  {
   "cell_type": "code",
   "execution_count": null,
   "id": "0fef4d38",
   "metadata": {
    "execution": {
     "iopub.execute_input": "2024-08-20T19:22:16.684358Z",
     "iopub.status.busy": "2024-08-20T19:22:16.684049Z",
     "iopub.status.idle": "2024-08-20T19:22:16.687935Z",
     "shell.execute_reply": "2024-08-20T19:22:16.687294Z"
    },
    "slideshow": {
     "slide_type": "fragment"
    }
   },
   "outputs": [],
   "source": [
    "def find_sum_and_avg(a, b, c, d, e):\n",
    "    total = a + b + c + d + e\n",
    "    avg = total / 5\n",
    "    return total, avg"
   ]
  },
  {
   "cell_type": "code",
   "execution_count": null,
   "id": "e75e36ca",
   "metadata": {
    "execution": {
     "iopub.execute_input": "2024-08-20T19:22:16.691182Z",
     "iopub.status.busy": "2024-08-20T19:22:16.690893Z",
     "iopub.status.idle": "2024-08-20T19:22:16.696358Z",
     "shell.execute_reply": "2024-08-20T19:22:16.695598Z"
    }
   },
   "outputs": [],
   "source": [
    "find_sum_and_avg(1, 3, 5, 7, 100)"
   ]
  },
  {
   "cell_type": "markdown",
   "id": "9ce5d546",
   "metadata": {
    "slideshow": {
     "slide_type": "slide"
    }
   },
   "source": [
    "## Using multiple return values\n",
    "\n",
    "When calling the function, you can assign the result to multiple values."
   ]
  },
  {
   "cell_type": "code",
   "execution_count": null,
   "id": "89f835d2",
   "metadata": {
    "execution": {
     "iopub.execute_input": "2024-08-20T19:22:16.699408Z",
     "iopub.status.busy": "2024-08-20T19:22:16.699093Z",
     "iopub.status.idle": "2024-08-20T19:22:16.702851Z",
     "shell.execute_reply": "2024-08-20T19:22:16.702307Z"
    }
   },
   "outputs": [],
   "source": [
    "grand_total, avg_price = find_sum_and_avg(1.99, 5, 29.95, 2, .99)\n",
    "print(\"Grand total is: \" + str(grand_total))\n",
    "print(\"Average is: \" + str(avg_price))"
   ]
  },
  {
   "cell_type": "markdown",
   "id": "6ba365fd",
   "metadata": {
    "slideshow": {
     "slide_type": "subslide"
    }
   },
   "source": [
    "## Example: counting characters\n",
    "\n",
    "Write a function that counts the number of vowels and consonants in a string."
   ]
  },
  {
   "cell_type": "code",
   "execution_count": null,
   "id": "d1e025ed",
   "metadata": {
    "execution": {
     "iopub.execute_input": "2024-08-20T19:22:16.705780Z",
     "iopub.status.busy": "2024-08-20T19:22:16.705528Z",
     "iopub.status.idle": "2024-08-20T19:22:16.709264Z",
     "shell.execute_reply": "2024-08-20T19:22:16.708684Z"
    },
    "slideshow": {
     "slide_type": "fragment"
    }
   },
   "outputs": [],
   "source": [
    "def count_letters(words):\n",
    "    vowels = 0\n",
    "    consonants = 0\n",
    "    for char in words:\n",
    "        if char == 'a' or char == 'e' or char == 'i' or char == 'o' or char == 'u':\n",
    "            vowels += 1\n",
    "        elif char.isalpha():\n",
    "            # char.isalpha() returns True if the character is a letter\n",
    "            consonants += 1\n",
    "    return vowels, consonants"
   ]
  },
  {
   "cell_type": "code",
   "execution_count": null,
   "id": "4e1a2882",
   "metadata": {
    "execution": {
     "iopub.execute_input": "2024-08-20T19:22:16.712032Z",
     "iopub.status.busy": "2024-08-20T19:22:16.711789Z",
     "iopub.status.idle": "2024-08-20T19:22:16.715302Z",
     "shell.execute_reply": "2024-08-20T19:22:16.714725Z"
    },
    "slideshow": {
     "slide_type": "subslide"
    }
   },
   "outputs": [],
   "source": [
    "v, c = count_letters(\"Hello class, count these words with me.\")\n",
    "print(\"Vowels: \" + str(v) + \" consonants: \" + str(c)) "
   ]
  },
  {
   "cell_type": "code",
   "execution_count": null,
   "id": "f6180a3f",
   "metadata": {
    "execution": {
     "iopub.execute_input": "2024-08-20T19:22:16.718090Z",
     "iopub.status.busy": "2024-08-20T19:22:16.717851Z",
     "iopub.status.idle": "2024-08-20T19:22:16.721199Z",
     "shell.execute_reply": "2024-08-20T19:22:16.720654Z"
    }
   },
   "outputs": [],
   "source": [
    "v, c = count_letters(\",.@($@*!#*(! 9219!,;))\")\n",
    "print(\"Vowels: \" + str(v) + \" consonants: \" + str(c)) "
   ]
  },
  {
   "cell_type": "code",
   "execution_count": null,
   "id": "53779c0c",
   "metadata": {
    "execution": {
     "iopub.execute_input": "2024-08-20T19:22:16.724206Z",
     "iopub.status.busy": "2024-08-20T19:22:16.723914Z",
     "iopub.status.idle": "2024-08-20T19:22:16.728273Z",
     "shell.execute_reply": "2024-08-20T19:22:16.727428Z"
    }
   },
   "outputs": [],
   "source": [
    "v, c = count_letters(\" h e l l o . w o r l d\")\n",
    "print(\"Vowels: \" + str(v) + \" consonants: \" + str(c)) "
   ]
  },
  {
   "cell_type": "markdown",
   "id": "904cf474",
   "metadata": {},
   "source": [
    "## A breadcrumb\n",
    "\n",
    "Technically, functions only ever return a single value.\n",
    "\n",
    "What's actually happening here is that the function is returning a `tuple` - a datatype that can hold multiple other values.\n",
    "\n",
    "We'll revisit this in a few lectures when we learn about tuples - don't worry about it for now!"
   ]
  }
 ],
 "metadata": {
  "celltoolbar": "Slideshow",
  "kernelspec": {
   "display_name": "Python 3 (ipykernel)",
   "language": "python",
   "name": "python3"
  },
  "language_info": {
   "codemirror_mode": {
    "name": "ipython",
    "version": 3
   },
   "file_extension": ".py",
   "mimetype": "text/x-python",
   "name": "python",
   "nbconvert_exporter": "python",
   "pygments_lexer": "ipython3",
   "version": "3.10.9"
  }
 },
 "nbformat": 4,
 "nbformat_minor": 5
}
