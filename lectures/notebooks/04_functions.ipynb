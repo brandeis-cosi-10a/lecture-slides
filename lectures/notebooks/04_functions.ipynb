{
 "cells": [
  {
   "cell_type": "markdown",
   "id": "26653147",
   "metadata": {},
   "source": [
    "# Cosi-10a: Introduction to Problem Solving in Python\n",
    "### Fall 2024\n",
    "\n",
    "<small>[Link to interactive slides on Google Colab](https://colab.research.google.com/github/brandeis-cosi-10a/lecture-slides/blob/24fall/)</small>\n",
    "\n",
    "<style>\n",
    "section.present > section.present { \n",
    "    max-height: 100%; \n",
    "    overflow-y: scroll;\n",
    "}\n",
    "</style>"
   ]
  },
  {
   "cell_type": "markdown",
   "id": "1ee8a1d2",
   "metadata": {
    "slideshow": {
     "slide_type": "slide"
    }
   },
   "source": [
    "# Functions\n",
    "\n",
    "<style>\n",
    "section.present > section.present { \n",
    "    max-height: 90%; \n",
    "    overflow-y: scroll;\n",
    "}\n",
    "</style>\n",
    "\n",
    "<small><a href=\"https://colab.research.google.com/github/brandeis-jdelfino/cosi-10a/blob/main/lectures/notebooks/4_functions.ipynb\">Link to interactive slides on Google Colab</a></small>"
   ]
  },
  {
   "cell_type": "markdown",
   "id": "ed1371c9",
   "metadata": {
    "slideshow": {
     "slide_type": "subslide"
    }
   },
   "source": [
    "**function**: A named group of statements\n",
    "\n",
    "* They are used to:\n",
    "  * Reduce redundancy and code duplication\n",
    "  * Represent the structure of a program\n",
    "* Functions are what make large, complex programs possible to build and maintain."
   ]
  },
  {
   "cell_type": "markdown",
   "id": "74b67395",
   "metadata": {
    "slideshow": {
     "slide_type": "slide"
    }
   },
   "source": [
    "# Functions by example\n",
    "### Write a program to print the lyrics to \"The Green Grass Grew All Around\"\n",
    "\n",
    "Oh in the woods there was a tree  \n",
    "The prettiest tree  \n",
    "You ever did see  \n",
    "And the tree was in the ground  \n",
    "And the green grass grew all around, all around, and the green grass grew all around  \n",
    "\n",
    "And on that tree  \n",
    "There was a limb  \n",
    "The prettiest limb  \n",
    "That you ever did see  \n",
    "And the limb was on the tree  \n",
    "And the tree was in the ground  \n",
    "And the green grass grew all around, all around, and the green grass grew all around  \n",
    "\n",
    "And on that limb  \n",
    "There was a branch  \n",
    "The prettiest branch  \n",
    "That you ever did see  \n",
    "And the branch was on the limb,  \n",
    "And the limb was on the tree,  \n",
    "And the tree was in the ground  \n",
    "And the green grass grew all around, all around, and the green grass grew all around  \n",
    "\n",
    "And on that branch  \n",
    "There was a nest  \n",
    "The prettiest nest  \n",
    "That you ever did see  \n",
    "And the nest was on the branch  \n",
    "And the branch was on the limb  \n",
    "And the limb was on the tree  \n",
    "And the tree was in the ground  \n",
    "And the green grass grew all around, all around, and the green grass grew all around  \n",
    "\n",
    "And in that nest  \n",
    "There was an egg  \n",
    "The prettiest egg  \n",
    "That you ever did see  \n",
    "And the egg was in the nest  \n",
    "And the nest was on the branch  \n",
    "And the branch was on the limb  \n",
    "And the limb was on the tree  \n",
    "And the tree was in the ground  \n",
    "And the green grass grew all around, all around, and the green grass grew all around  \n",
    "\n",
    "And in that egg  \n",
    "There was a bird  \n",
    "The prettiest bird  \n",
    "That you ever did see  \n",
    "And the bird was in the egg  \n",
    "And the egg was in the nest  \n",
    "And the nest was on the branch  \n",
    "And the branch was on the limb  \n",
    "And the limb was on the tree  \n",
    "And the tree was in the ground  \n",
    "And the green grass grew all around, all around, and the green grass grew all around  "
   ]
  },
  {
   "cell_type": "markdown",
   "id": "a2c01e5a",
   "metadata": {
    "slideshow": {
     "slide_type": "subslide"
    }
   },
   "source": [
    "## A naive solution"
   ]
  },
  {
   "cell_type": "code",
   "execution_count": null,
   "id": "c0461282",
   "metadata": {
    "execution": {
     "iopub.execute_input": "2024-05-16T12:06:38.942739Z",
     "iopub.status.busy": "2024-05-16T12:06:38.942318Z",
     "iopub.status.idle": "2024-05-16T12:06:38.957320Z",
     "shell.execute_reply": "2024-05-16T12:06:38.956695Z"
    }
   },
   "outputs": [],
   "source": [
    "print(\"Oh in the woods there was a tree\")\n",
    "print(\"The prettiest tree\")\n",
    "print(\"You ever did see\")\n",
    "print(\"And the tree was in the ground\")\n",
    "print(\"And the green grass grew all around, all around, and the green grass grew all around\")\n",
    "print()\n",
    "print(\"And on that tree\")\n",
    "print(\"There was a limb\")\n",
    "print(\"The prettiest limb\")\n",
    "print(\"That you ever did see\")\n",
    "print(\"And the limb was on the tree\")\n",
    "print(\"And the tree was in the ground\")\n",
    "print(\"And the green grass grew all around, all around, and the green grass grew all around\")\n",
    "print()\n",
    "print(\"And on that limb\")\n",
    "print(\"There was a branch\")\n",
    "print(\"The prettiest branch\")\n",
    "print(\"That you ever did see\")  \n",
    "print(\"And the branch was on the limb,\")\n",
    "print(\"And the limb was on the tree,\")\n",
    "print(\"And the tree was in the ground\")\n",
    "print(\"And the green grass grew all around, all around, and the green grass grew all around\")\n",
    "print()\n",
    "print(\"And on that branch\")\n",
    "print(\"There was a nest\")\n",
    "print(\"The prettiest nest\")\n",
    "print(\"That you ever did see\")\n",
    "print(\"And the nest was on the branch\")\n",
    "print(\"And the branch was on the limb\")\n",
    "print(\"And the limb was on the tree\")\n",
    "print(\"And the tree was in the ground\")\n",
    "print(\"And the green grass grew all around, all around, and the green grass grew all around\")\n",
    "print()\n",
    "print(\"And in that nest\")\n",
    "print(\"There was an egg\")\n",
    "print(\"The prettiest egg\")\n",
    "print(\"That you ever did see\")\n",
    "print(\"And the egg was in the nest\")\n",
    "print(\"And the nest was on the branch\")\n",
    "print(\"And the branch was on the limb\")\n",
    "print(\"And the limb was on the tree\")\n",
    "print(\"And the tree was in the ground\")\n",
    "print(\"And the green grass grew all around, all around, and the green grass grew all around\")\n",
    "print()\n",
    "print(\"And in that egg\")\n",
    "print(\"There was a bird\")\n",
    "print(\"The prettiest bird\")\n",
    "print(\"That you ever did see\")\n",
    "print(\"And the bird was in the egg\")\n",
    "print(\"And the egg was in the nest\")\n",
    "print(\"And the nest was on the branch\")\n",
    "print(\"And the branch was on the limb\")\n",
    "print(\"And the limb was on the tree\")\n",
    "print(\"And the tree was in the ground\")\n",
    "print(\"And the green grass grew all around, all around, and the green grass grew all around\")"
   ]
  },
  {
   "cell_type": "markdown",
   "id": "3934f3fe",
   "metadata": {
    "slideshow": {
     "slide_type": "subslide"
    }
   },
   "source": [
    "## Duplication\n",
    "\n",
    "There is a LOT of duplication in this song.\n",
    "\n",
    "We can \"factor out\" some of this redundancy into re-usable blocks of code (functions). This is similar to how we pulled common bits of code out of the different if/else branches with the progressive income tax calculator.\n",
    "\n",
    "For our first function, we'll pull out the two lines that occur in every verse:\n",
    "\n",
    "\n",
    "> Oh in the woods there was a tree  \n",
    "> The prettiest tree  \n",
    "> You ever did see  \n",
    "> **And the tree was in the ground  \n",
    "> And the green grass grew all around, all around, and the green grass grew all around**\n"
   ]
  },
  {
   "cell_type": "code",
   "execution_count": null,
   "id": "c9a85e44",
   "metadata": {
    "execution": {
     "iopub.execute_input": "2024-05-16T12:06:38.960233Z",
     "iopub.status.busy": "2024-05-16T12:06:38.960046Z",
     "iopub.status.idle": "2024-05-16T12:06:38.964254Z",
     "shell.execute_reply": "2024-05-16T12:06:38.963777Z"
    },
    "slideshow": {
     "slide_type": "subslide"
    }
   },
   "outputs": [],
   "source": [
    "# Our first function:\n",
    "def tree():\n",
    "    print(\"And the tree was in the ground\")\n",
    "    print(\"And the green grass grew all around, all around, and the green grass grew all around\")\n",
    "    print()\n",
    "    \n",
    "print(\"Oh in the woods there was a tree\")\n",
    "print(\"The prettiest tree\")\n",
    "print(\"You ever did see\")\n",
    "tree()\n",
    "print(\"And on that tree\")\n",
    "print(\"There was a limb\")\n",
    "print(\"The prettiest limb\")\n",
    "print(\"That you ever did see\")\n",
    "print(\"And the limb was on the tree\")\n",
    "tree()\n",
    "print(\"And on that limb\")\n",
    "print(\"There was a branch\")\n",
    "print(\"The prettiest branch\")\n",
    "print(\"That you ever did see\")\n",
    "print(\"And the branch was on the limb,\")\n",
    "print(\"And the limb was on the tree,\")\n",
    "tree()\n",
    "# ... "
   ]
  },
  {
   "cell_type": "markdown",
   "id": "3a3d3f13",
   "metadata": {
    "slideshow": {
     "slide_type": "subslide"
    }
   },
   "source": [
    "## Function definition syntax\n",
    "\n",
    "```\n",
    "def <name>():\n",
    "    statement(s)\n",
    "``` \n",
    "\n",
    "* **Defining** a function makes it available for use\n",
    "  * Merely defining a function does not execute any of the statements in the function."
   ]
  },
  {
   "cell_type": "code",
   "execution_count": null,
   "id": "8555460b",
   "metadata": {
    "execution": {
     "iopub.execute_input": "2024-05-16T12:06:38.966912Z",
     "iopub.status.busy": "2024-05-16T12:06:38.966765Z",
     "iopub.status.idle": "2024-05-16T12:06:38.969501Z",
     "shell.execute_reply": "2024-05-16T12:06:38.968983Z"
    }
   },
   "outputs": [],
   "source": [
    "def tree():\n",
    "    print(\"And the tree was in the ground\")\n",
    "    print(\"And the green grass grew all around, all around, and the green grass grew all around\")\n",
    "    print()"
   ]
  },
  {
   "cell_type": "markdown",
   "id": "b2346f64",
   "metadata": {
    "slideshow": {
     "slide_type": "subslide"
    }
   },
   "source": [
    "* **Calling** or **invoking** a function makes the code inside the function run."
   ]
  },
  {
   "cell_type": "code",
   "execution_count": null,
   "id": "575a9446",
   "metadata": {
    "execution": {
     "iopub.execute_input": "2024-05-16T12:06:38.971830Z",
     "iopub.status.busy": "2024-05-16T12:06:38.971667Z",
     "iopub.status.idle": "2024-05-16T12:06:38.973932Z",
     "shell.execute_reply": "2024-05-16T12:06:38.973557Z"
    }
   },
   "outputs": [],
   "source": [
    "tree()"
   ]
  },
  {
   "cell_type": "markdown",
   "id": "bd99d947",
   "metadata": {
    "slideshow": {
     "slide_type": "subslide"
    }
   },
   "source": [
    "## Let's continue on the song... "
   ]
  },
  {
   "cell_type": "code",
   "execution_count": null,
   "id": "fa2de143",
   "metadata": {
    "execution": {
     "iopub.execute_input": "2024-05-16T12:06:38.976205Z",
     "iopub.status.busy": "2024-05-16T12:06:38.976045Z",
     "iopub.status.idle": "2024-05-16T12:06:38.979063Z",
     "shell.execute_reply": "2024-05-16T12:06:38.978668Z"
    }
   },
   "outputs": [],
   "source": [
    "# ...\n",
    "print(\"And on that tree\")  \n",
    "print(\"There was a limb\")  \n",
    "print(\"The prettiest limb\")  \n",
    "print(\"That you ever did see\")  \n",
    "print(\"And the limb was on the tree\")  \n",
    "tree()  \n",
    "print(\"And on that limb\")  \n",
    "print(\"There was a branch\")  \n",
    "print(\"The prettiest branch\")  \n",
    "print(\"That you ever did see\")  \n",
    "print(\"And the branch was on the limb,\")  \n",
    "print(\"And the limb was on the tree,\")  \n",
    "tree()\n",
    "# ..."
   ]
  },
  {
   "cell_type": "markdown",
   "id": "81bbc9bd",
   "metadata": {},
   "source": [
    "The last two lines (`print(\"And the limb was on the tree\")` and `tree()`) appear together in every verse after the first one. Let's wrap them in a function...\n"
   ]
  },
  {
   "cell_type": "code",
   "execution_count": null,
   "id": "b728645e",
   "metadata": {
    "execution": {
     "iopub.execute_input": "2024-05-16T12:06:38.981276Z",
     "iopub.status.busy": "2024-05-16T12:06:38.981161Z",
     "iopub.status.idle": "2024-05-16T12:06:38.984630Z",
     "shell.execute_reply": "2024-05-16T12:06:38.984300Z"
    },
    "slideshow": {
     "slide_type": "subslide"
    }
   },
   "outputs": [],
   "source": [
    "def tree():\n",
    "    print(\"And the tree was in the ground\")\n",
    "    print(\"And the green grass grew all around, all around, and the green grass grew all around\")\n",
    "    print()\n",
    "    \n",
    "def limb():\n",
    "    print(\"And the limb was on the tree,\")\n",
    "    tree()\n",
    "    \n",
    "print(\"Oh in the woods there was a tree\")\n",
    "print(\"The prettiest tree\")\n",
    "print(\"You ever did see\")\n",
    "tree()\n",
    "print(\"And on that tree\")\n",
    "print(\"There was a limb\")\n",
    "print(\"The prettiest limb\")\n",
    "print(\"That you ever did see\")\n",
    "limb()\n",
    "print(\"And on that limb\")\n",
    "print(\"There was a branch\")\n",
    "print(\"The prettiest branch\")\n",
    "print(\"That you ever did see\")\n",
    "print(\"And the branch was on the limb,\")\n",
    "limb()"
   ]
  },
  {
   "cell_type": "markdown",
   "id": "0851da68",
   "metadata": {
    "slideshow": {
     "slide_type": "subslide"
    }
   },
   "source": [
    "## Functions can call other functions"
   ]
  },
  {
   "cell_type": "code",
   "execution_count": null,
   "id": "03534e3e",
   "metadata": {
    "execution": {
     "iopub.execute_input": "2024-05-16T12:06:38.986719Z",
     "iopub.status.busy": "2024-05-16T12:06:38.986547Z",
     "iopub.status.idle": "2024-05-16T12:06:38.989109Z",
     "shell.execute_reply": "2024-05-16T12:06:38.988766Z"
    }
   },
   "outputs": [],
   "source": [
    "def a():\n",
    "    print(\"a\")\n",
    "\n",
    "def b():\n",
    "    print(\"b1\")\n",
    "    a()\n",
    "    print(\"b2\")\n",
    "    \n",
    "b()"
   ]
  },
  {
   "cell_type": "markdown",
   "id": "154575de",
   "metadata": {
    "slideshow": {
     "slide_type": "subslide"
    }
   },
   "source": [
    "## We can continue breaking our song down..."
   ]
  },
  {
   "cell_type": "code",
   "execution_count": null,
   "id": "d7c28cda",
   "metadata": {
    "execution": {
     "iopub.execute_input": "2024-05-16T12:06:38.991462Z",
     "iopub.status.busy": "2024-05-16T12:06:38.991324Z",
     "iopub.status.idle": "2024-05-16T12:06:38.995048Z",
     "shell.execute_reply": "2024-05-16T12:06:38.994686Z"
    }
   },
   "outputs": [],
   "source": [
    "def tree():\n",
    "    print(\"And the tree was in the ground\")\n",
    "    print(\"And the green grass grew all around, all around, and the green grass grew all around\")\n",
    "    print()\n",
    "    \n",
    "def limb():\n",
    "    print(\"And the limb was on the tree,\")\n",
    "    tree()\n",
    "    \n",
    "def branch():\n",
    "    print(\"And the branch was on the limb,\")\n",
    "    limb()\n",
    "    \n",
    "print(\"Oh in the woods there was a tree\")\n",
    "print(\"The prettiest tree\")\n",
    "print(\"You ever did see\")\n",
    "tree()\n",
    "print(\"And on that tree\")\n",
    "print(\"There was a limb\")\n",
    "print(\"The prettiest limb\")\n",
    "print(\"That you ever did see\")\n",
    "limb()\n",
    "print(\"And on that limb\")\n",
    "print(\"There was a branch\")\n",
    "print(\"The prettiest branch\")\n",
    "print(\"That you ever did see\")\n",
    "branch()\n",
    "print(\"And on that branch\")\n",
    "print(\"There was a nest\")\n",
    "print(\"The prettiest nest\")\n",
    "print(\"That you ever did see\")\n",
    "print(\"And the nest was on the branch\")\n",
    "branch()"
   ]
  },
  {
   "cell_type": "code",
   "execution_count": null,
   "id": "912338c9",
   "metadata": {
    "execution": {
     "iopub.execute_input": "2024-05-16T12:06:38.996845Z",
     "iopub.status.busy": "2024-05-16T12:06:38.996736Z",
     "iopub.status.idle": "2024-05-16T12:06:39.001048Z",
     "shell.execute_reply": "2024-05-16T12:06:39.000675Z"
    },
    "slideshow": {
     "slide_type": "subslide"
    }
   },
   "outputs": [],
   "source": [
    "def tree():\n",
    "    print(\"And the tree was in the ground\")\n",
    "    print(\"And the green grass grew all around, all around, and the green grass grew all around\")\n",
    "    print()\n",
    "    \n",
    "def limb():\n",
    "    print(\"And the limb was on the tree,\")\n",
    "    tree()\n",
    "    \n",
    "def branch():\n",
    "    print(\"And the branch was on the limb,\")\n",
    "    limb()\n",
    "    \n",
    "def nest():\n",
    "    print(\"And the nest was on the branch\")\n",
    "    branch()\n",
    "\n",
    "def egg():\n",
    "    print(\"And the egg was in the nest\")\n",
    "    nest()\n",
    "\n",
    "def bird():\n",
    "    print(\"And the bird was in the egg\")\n",
    "    egg()\n",
    "    \n",
    "print(\"Oh in the woods there was a tree\")\n",
    "print(\"The prettiest tree\")\n",
    "print(\"You ever did see\")\n",
    "tree()\n",
    "print(\"And on that tree\")\n",
    "print(\"There was a limb\")\n",
    "print(\"The prettiest limb\")\n",
    "print(\"That you ever did see\")\n",
    "limb()\n",
    "print(\"And on that limb\")\n",
    "print(\"There was a branch\")\n",
    "print(\"The prettiest branch\")\n",
    "print(\"That you ever did see\")\n",
    "branch()\n",
    "print(\"And on that branch\")\n",
    "print(\"There was a nest\")\n",
    "print(\"The prettiest nest\")\n",
    "print(\"That you ever did see\")\n",
    "nest()\n",
    "print(\"And in that nest\")\n",
    "print(\"There was an egg\")\n",
    "print(\"The prettiest egg\")\n",
    "print(\"That you ever did see\")\n",
    "egg()\n",
    "print(\"And in that egg\")\n",
    "print(\"There was a bird\")\n",
    "print(\"The prettiest bird\")\n",
    "print(\"That you ever did see\")\n",
    "bird()"
   ]
  },
  {
   "cell_type": "markdown",
   "id": "f9d4f100",
   "metadata": {
    "slideshow": {
     "slide_type": "slide"
    }
   },
   "source": [
    "# Functional decomposition\n",
    "\n",
    "* We are **decomposing** our song into smaller pieces.\n",
    "* Decomposing a complicated program into coherent, reusable chunks is an extremely valuable programming skill.\n",
    "* It will come with practice and experience - your first attempts might feel like they create more work, headache, and confusion than they save.\n",
    "* Stick with it, it will pay off!"
   ]
  },
  {
   "cell_type": "markdown",
   "id": "33ef2fc5",
   "metadata": {
    "slideshow": {
     "slide_type": "slide"
    }
   },
   "source": [
    "# Parameters\n",
    "\n",
    "### We still have more duplication in our song\n",
    "\n",
    "And on that **tree**  \n",
    "There was a **limb**  \n",
    "The prettiest **limb**  \n",
    "That you ever did see  \n",
    "\n",
    "vs. \n",
    "\n",
    "And on that **limb**  \n",
    "There was a **branch**  \n",
    "The prettiest **branch**  \n",
    "That you ever did see"
   ]
  },
  {
   "cell_type": "markdown",
   "id": "b090681f",
   "metadata": {
    "slideshow": {
     "slide_type": "subslide"
    }
   },
   "source": [
    "## Parameters\n",
    "\n",
    "Functions can be **parameterized**. \n",
    "\n",
    "```\n",
    "def <name>(parameter1, [parameter2], ...):\n",
    "    statement(s)\n",
    "```\n",
    "\n",
    "* A **parameter** is a variable defined as input to a function. \n",
    "* An **argument** is a value passed to a function when it is called.\n",
    "* This is a fine distinction, and the two terms are often used interchangably. The distinction is generally ok to ignore unless you are in a context where the difference matters (e.g. formal documentation or specifications)."
   ]
  },
  {
   "cell_type": "markdown",
   "id": "d8110e12",
   "metadata": {
    "slideshow": {
     "slide_type": "subslide"
    }
   },
   "source": [
    "## Parameters\n",
    "\n",
    "We can write a parameterized function for the first part of the verses.  "
   ]
  },
  {
   "cell_type": "code",
   "execution_count": null,
   "id": "2a716302",
   "metadata": {
    "execution": {
     "iopub.execute_input": "2024-05-16T12:06:39.003160Z",
     "iopub.status.busy": "2024-05-16T12:06:39.003032Z",
     "iopub.status.idle": "2024-05-16T12:06:39.005184Z",
     "shell.execute_reply": "2024-05-16T12:06:39.004911Z"
    }
   },
   "outputs": [],
   "source": [
    "def verse(first_thing, second_thing):\n",
    "    print(\"And on that \" + first_thing)\n",
    "    print(\"There was a \" + second_thing)\n",
    "    print(\"The prettiest \" + second_thing)\n",
    "    print(\"That you ever did see\")\n",
    "    \n",
    "verse(\"tree\", \"limb\")"
   ]
  },
  {
   "cell_type": "code",
   "execution_count": null,
   "id": "6435a4f7",
   "metadata": {
    "execution": {
     "iopub.execute_input": "2024-05-16T12:06:39.006713Z",
     "iopub.status.busy": "2024-05-16T12:06:39.006606Z",
     "iopub.status.idle": "2024-05-16T12:06:39.010029Z",
     "shell.execute_reply": "2024-05-16T12:06:39.009781Z"
    },
    "slideshow": {
     "slide_type": "subslide"
    }
   },
   "outputs": [],
   "source": [
    "def tree():\n",
    "    print(\"And the tree was in the ground\")\n",
    "    print(\"And the green grass grew all around, all around, and the green grass grew all around\")\n",
    "    print()\n",
    "    \n",
    "def limb():\n",
    "    print(\"And the limb was on the tree,\")\n",
    "    tree()\n",
    "    \n",
    "def branch():\n",
    "    print(\"And the branch was on the limb,\")\n",
    "    limb()\n",
    "    \n",
    "def nest():\n",
    "    print(\"And the nest was on the branch\")\n",
    "    branch()\n",
    "\n",
    "def egg():\n",
    "    print(\"And the egg was in the nest\")\n",
    "    nest()\n",
    "\n",
    "def bird():\n",
    "    print(\"And the bird was in the egg\")\n",
    "    egg()\n",
    "\n",
    "def verse(first_thing, second_thing):\n",
    "    print(\"And on that \" + first_thing)\n",
    "    print(\"There was a \" + second_thing)\n",
    "    print(\"The prettiest \" + second_thing)\n",
    "    print(\"That you ever did see\")\n",
    "    \n",
    "print(\"Oh in the woods there was a tree\")\n",
    "print(\"The prettiest tree\")\n",
    "print(\"You ever did see\")\n",
    "tree()\n",
    "verse(\"tree\", \"limb\")\n",
    "limb()\n",
    "verse(\"limb\", \"branch\")\n",
    "branch()\n",
    "verse(\"branch\", \"nest\")\n",
    "nest()\n",
    "verse(\"nest\", \"egg\")\n",
    "egg()\n",
    "verse(\"egg\", \"bird\")\n",
    "bird()"
   ]
  },
  {
   "cell_type": "markdown",
   "id": "6d471df5",
   "metadata": {
    "slideshow": {
     "slide_type": "subslide"
    }
   },
   "source": [
    "# Wait, that song isn't quite right...\n",
    "\n",
    "The egg verse is special:\n",
    "\n",
    "And **on** that nest  \n",
    "There was **a** egg  \n",
    "The prettiest egg  \n",
    "That you ever did see  \n",
    "\n",
    "One way to fix this would be to write a special function (or just use print statements) for that verse. \n",
    "\n",
    "But... we're learning about functions, so let's keep going."
   ]
  },
  {
   "cell_type": "markdown",
   "id": "5eae094d",
   "metadata": {
    "slideshow": {
     "slide_type": "subslide"
    }
   },
   "source": [
    "We can add one more parameter, `orientation` to our `verse` function:"
   ]
  },
  {
   "cell_type": "code",
   "execution_count": null,
   "id": "eecece39",
   "metadata": {
    "execution": {
     "iopub.execute_input": "2024-05-16T12:06:39.011579Z",
     "iopub.status.busy": "2024-05-16T12:06:39.011478Z",
     "iopub.status.idle": "2024-05-16T12:06:39.013648Z",
     "shell.execute_reply": "2024-05-16T12:06:39.013409Z"
    },
    "slideshow": {
     "slide_type": "-"
    },
    "tags": [
     "remove-output"
    ]
   },
   "outputs": [],
   "source": [
    "def verse(first_thing, second_thing, orientation):\n",
    "    print(\"And \" + orientation + \" that \" + first_thing)\n",
    "    print(\"There was a \" + second_thing)\n",
    "    print(\"The prettiest \" + second_thing)\n",
    "    print(\"That you ever did see\")\n",
    "    \n",
    "verse(\"branch\", \"limb\", \"on\")\n",
    "print()\n",
    "verse(\"nest\", \"egg\", \"in\")"
   ]
  },
  {
   "cell_type": "markdown",
   "id": "994b0b3a",
   "metadata": {},
   "source": [
    "# Example 0: Print a haiku\n",
    "\n",
    "Write a function that prints a haiku"
   ]
  },
  {
   "cell_type": "code",
   "execution_count": null,
   "id": "8aad8198",
   "metadata": {
    "execution": {
     "iopub.execute_input": "2024-05-16T12:06:39.015077Z",
     "iopub.status.busy": "2024-05-16T12:06:39.014995Z",
     "iopub.status.idle": "2024-05-16T12:06:39.016837Z",
     "shell.execute_reply": "2024-05-16T12:06:39.016582Z"
    }
   },
   "outputs": [],
   "source": [
    "def haiku():\n",
    "    print(\"'A Poppy Blooms'\")\n",
    "    print(\"(by Katsushika Hokusai):\")\n",
    "    print()\n",
    "    print(\"I write, erase, rewrite\")\n",
    "    print(\"Erase again, and then\")\n",
    "    print(\"A poppy blooms.\")"
   ]
  },
  {
   "cell_type": "code",
   "execution_count": null,
   "id": "83abd2cc",
   "metadata": {
    "execution": {
     "iopub.execute_input": "2024-05-16T12:06:39.018209Z",
     "iopub.status.busy": "2024-05-16T12:06:39.018131Z",
     "iopub.status.idle": "2024-05-16T12:06:39.019821Z",
     "shell.execute_reply": "2024-05-16T12:06:39.019541Z"
    }
   },
   "outputs": [],
   "source": [
    "haiku()"
   ]
  },
  {
   "cell_type": "markdown",
   "id": "f28742ab",
   "metadata": {
    "slideshow": {
     "slide_type": "slide"
    }
   },
   "source": [
    "# Example 1: Math facts\n",
    "\n",
    "Write a function that takes 2 numbers as input, and prints out some math facts about them:\n",
    "- The sum of the numbers\n",
    "- The product of the numbers\n",
    "- Which number is larger"
   ]
  },
  {
   "cell_type": "code",
   "execution_count": null,
   "id": "d0968b68",
   "metadata": {
    "execution": {
     "iopub.execute_input": "2024-05-16T12:06:39.021263Z",
     "iopub.status.busy": "2024-05-16T12:06:39.021186Z",
     "iopub.status.idle": "2024-05-16T12:06:39.023228Z",
     "shell.execute_reply": "2024-05-16T12:06:39.022971Z"
    },
    "slideshow": {
     "slide_type": "subslide"
    }
   },
   "outputs": [],
   "source": [
    "def print_math_facts(x, y):\n",
    "    print(\"Amazing (but true) facts about \" + str(x) + \" and \" + str(y) + \":\")\n",
    "    print(\"Their sum is: \" + str(x+y))\n",
    "    print(\"Their product is: \" + str(x*y))\n",
    "    if x > y:\n",
    "        print(str(x) + \" is larger.\")\n",
    "    else:\n",
    "        print(str(y) + \" is larger.\")        "
   ]
  },
  {
   "cell_type": "code",
   "execution_count": null,
   "id": "46d21a84",
   "metadata": {
    "execution": {
     "iopub.execute_input": "2024-05-16T12:06:39.024600Z",
     "iopub.status.busy": "2024-05-16T12:06:39.024532Z",
     "iopub.status.idle": "2024-05-16T12:06:39.026170Z",
     "shell.execute_reply": "2024-05-16T12:06:39.025912Z"
    }
   },
   "outputs": [],
   "source": [
    "print_math_facts(2, 3)"
   ]
  },
  {
   "cell_type": "code",
   "execution_count": null,
   "id": "bfe0728f",
   "metadata": {
    "execution": {
     "iopub.execute_input": "2024-05-16T12:06:39.027464Z",
     "iopub.status.busy": "2024-05-16T12:06:39.027395Z",
     "iopub.status.idle": "2024-05-16T12:06:39.028956Z",
     "shell.execute_reply": "2024-05-16T12:06:39.028723Z"
    }
   },
   "outputs": [],
   "source": [
    "print_math_facts(3, 2)"
   ]
  },
  {
   "cell_type": "code",
   "execution_count": null,
   "id": "929079ed",
   "metadata": {
    "execution": {
     "iopub.execute_input": "2024-05-16T12:06:39.030191Z",
     "iopub.status.busy": "2024-05-16T12:06:39.030109Z",
     "iopub.status.idle": "2024-05-16T12:06:39.031535Z",
     "shell.execute_reply": "2024-05-16T12:06:39.031320Z"
    }
   },
   "outputs": [],
   "source": [
    "print_math_facts(11, 7419)"
   ]
  },
  {
   "cell_type": "markdown",
   "id": "be4fd53f",
   "metadata": {
    "slideshow": {
     "slide_type": "slide"
    }
   },
   "source": [
    "# Example 2: State facts\n",
    "\n",
    "Write a function that takes information about a US state as input, and prints out some facts about it:\n",
    "* The name of the state\n",
    "* The state bird\n",
    "* The population of the state, and whether that population is above or below the mean US state population\n",
    "* The size of the state, and the percentage of the average state size (`state_size/avg_size*100`)"
   ]
  },
  {
   "cell_type": "code",
   "execution_count": null,
   "id": "ab8ee87d",
   "metadata": {
    "execution": {
     "iopub.execute_input": "2024-05-16T12:06:39.032868Z",
     "iopub.status.busy": "2024-05-16T12:06:39.032796Z",
     "iopub.status.idle": "2024-05-16T12:06:39.034945Z",
     "shell.execute_reply": "2024-05-16T12:06:39.034718Z"
    },
    "slideshow": {
     "slide_type": "subslide"
    }
   },
   "outputs": [],
   "source": [
    "def print_state_facts(name, bird, population, size):\n",
    "    print(\"Facts about \" + name + \":\")\n",
    "    print(name + \"'s state bird is the \" + bird)\n",
    "    if population > 4657757:\n",
    "        print(\"With a population of \" + str(population) + \", \" + name + \" is above the mean US state population.\")\n",
    "    else:\n",
    "        print(\"With a population of \" + str(population) + \", \" + name + \" is below the mean US state population.\")\n",
    "    size_pct = size / 75933 * 100\n",
    "    print(name + \" covers \" + str(size_pct) + \"% as much area as the average US state.\")"
   ]
  },
  {
   "cell_type": "code",
   "execution_count": null,
   "id": "d68309f8",
   "metadata": {
    "execution": {
     "iopub.execute_input": "2024-05-16T12:06:39.036262Z",
     "iopub.status.busy": "2024-05-16T12:06:39.036189Z",
     "iopub.status.idle": "2024-05-16T12:06:39.037874Z",
     "shell.execute_reply": "2024-05-16T12:06:39.037655Z"
    },
    "slideshow": {
     "slide_type": "subslide"
    }
   },
   "outputs": [],
   "source": [
    "print_state_facts(\"Massachusetts\", \"Chickadee\", 7029917, 10555)"
   ]
  },
  {
   "cell_type": "code",
   "execution_count": null,
   "id": "5bd1787d",
   "metadata": {
    "execution": {
     "iopub.execute_input": "2024-05-16T12:06:39.039062Z",
     "iopub.status.busy": "2024-05-16T12:06:39.038997Z",
     "iopub.status.idle": "2024-05-16T12:06:39.040550Z",
     "shell.execute_reply": "2024-05-16T12:06:39.040325Z"
    },
    "slideshow": {
     "slide_type": ""
    }
   },
   "outputs": [],
   "source": [
    "print_state_facts(\"Alaska\", \"Ptarmigan\", 733391, 663267)"
   ]
  },
  {
   "cell_type": "markdown",
   "id": "f85de690",
   "metadata": {},
   "source": [
    "## An improvement\n",
    "\n",
    "Let's reduce duplication when printing the population facts:"
   ]
  },
  {
   "cell_type": "code",
   "execution_count": null,
   "id": "f12e1593",
   "metadata": {
    "execution": {
     "iopub.execute_input": "2024-05-16T12:06:39.041847Z",
     "iopub.status.busy": "2024-05-16T12:06:39.041777Z",
     "iopub.status.idle": "2024-05-16T12:06:39.043898Z",
     "shell.execute_reply": "2024-05-16T12:06:39.043665Z"
    }
   },
   "outputs": [],
   "source": [
    "def print_state_facts(name, bird, population, size):\n",
    "    print(\"Facts about \" + name + \":\")\n",
    "    print(name + \"'s state bird is the \" + bird)\n",
    "\n",
    "    pop_comparison = ''\n",
    "    if population > 4657757:\n",
    "        pop_comparison = 'above'\n",
    "    else:\n",
    "        pop_comparison = 'below'\n",
    "    \n",
    "    print(\"With a population of \" + str(population) + \", \" + name + \" is \" + pop_comparison + \" the mean US state population.\")\n",
    "    \n",
    "    size_pct = size / 75933 * 100\n",
    "    print(name + \" covers \" + str(size_pct) + \"% as much area as the average US state.\")"
   ]
  },
  {
   "cell_type": "code",
   "execution_count": null,
   "id": "69b11404",
   "metadata": {
    "execution": {
     "iopub.execute_input": "2024-05-16T12:06:39.045125Z",
     "iopub.status.busy": "2024-05-16T12:06:39.045054Z",
     "iopub.status.idle": "2024-05-16T12:06:39.046630Z",
     "shell.execute_reply": "2024-05-16T12:06:39.046419Z"
    },
    "slideshow": {
     "slide_type": "subslide"
    }
   },
   "outputs": [],
   "source": [
    "print_state_facts(\"Massachusetts\", \"Chickadee\", 7029917, 10555)"
   ]
  },
  {
   "cell_type": "code",
   "execution_count": null,
   "id": "bb6557b3",
   "metadata": {
    "execution": {
     "iopub.execute_input": "2024-05-16T12:06:39.047876Z",
     "iopub.status.busy": "2024-05-16T12:06:39.047788Z",
     "iopub.status.idle": "2024-05-16T12:06:39.049367Z",
     "shell.execute_reply": "2024-05-16T12:06:39.049149Z"
    },
    "slideshow": {
     "slide_type": ""
    }
   },
   "outputs": [],
   "source": [
    "print_state_facts(\"Oregon\", \"Meadowlark\", 4237256, 98381)"
   ]
  },
  {
   "cell_type": "markdown",
   "id": "23dfa6a9",
   "metadata": {
    "slideshow": {
     "slide_type": "slide"
    }
   },
   "source": [
    "# Example 3: Sandwich instructions\n",
    "\n",
    "Write a function that takes in a set of ingredients (bread, meat, cheese, condiment) and prints instructions to make a sandwich."
   ]
  },
  {
   "cell_type": "code",
   "execution_count": null,
   "id": "a41a9f80",
   "metadata": {
    "execution": {
     "iopub.execute_input": "2024-05-16T12:06:39.050652Z",
     "iopub.status.busy": "2024-05-16T12:06:39.050582Z",
     "iopub.status.idle": "2024-05-16T12:06:39.052676Z",
     "shell.execute_reply": "2024-05-16T12:06:39.052467Z"
    },
    "slideshow": {
     "slide_type": "subslide"
    }
   },
   "outputs": [],
   "source": [
    "def sandwich(bread, meat, cheese, condiment):\n",
    "    print(\"Here are instructions to make a \" + meat + \" and \" + cheese + \" on \" + bread + \" with \" + condiment + \".\")\n",
    "    print(\"Step 1: Lay out 2 slices of \" + bread)\n",
    "    print(\"Step 2: Spread \" + condiment + \" on both slices of \" + bread + \" bread.\")\n",
    "    print(\"Step 3: Put 3 pieces of \" + meat + \" on one slice of the \" + bread  + \" bread.\")\n",
    "    print(\"Step 4: Put 2 pieces of \" + cheese  + \" on top of the \" + meat + \".\")\n",
    "    print(\"Step 5: Put the second slice of bread on top of the \" + cheese + \".\")\n",
    "    print(\"Step 6: Cut in half\")\n",
    "    print(\"Step 7: Eat!\")"
   ]
  },
  {
   "cell_type": "code",
   "execution_count": null,
   "id": "2f8d5766",
   "metadata": {
    "execution": {
     "iopub.execute_input": "2024-05-16T12:06:39.053933Z",
     "iopub.status.busy": "2024-05-16T12:06:39.053863Z",
     "iopub.status.idle": "2024-05-16T12:06:39.055519Z",
     "shell.execute_reply": "2024-05-16T12:06:39.055311Z"
    },
    "slideshow": {
     "slide_type": "subslide"
    }
   },
   "outputs": [],
   "source": [
    "sandwich(\"sourdough\", \"turkey\", \"swiss\", \"mustard\")"
   ]
  },
  {
   "cell_type": "code",
   "execution_count": null,
   "id": "379aeb48",
   "metadata": {
    "execution": {
     "iopub.execute_input": "2024-05-16T12:06:39.056741Z",
     "iopub.status.busy": "2024-05-16T12:06:39.056673Z",
     "iopub.status.idle": "2024-05-16T12:06:39.058190Z",
     "shell.execute_reply": "2024-05-16T12:06:39.057964Z"
    }
   },
   "outputs": [],
   "source": [
    "sandwich(\"rye\", \"ham\", \"provolone\", \"mayo\")"
   ]
  },
  {
   "cell_type": "markdown",
   "id": "6c8b1c5a",
   "metadata": {
    "slideshow": {
     "slide_type": "slide"
    }
   },
   "source": [
    "# Example 3a: More flexible sandwich instructions\n",
    "\n",
    "Modify the function so that the cheese and condiment can be excluded by passing an empty string for those arguments."
   ]
  },
  {
   "cell_type": "markdown",
   "id": "18e05df2",
   "metadata": {
    "slideshow": {
     "slide_type": "subslide"
    }
   },
   "source": [
    "Let's start with the first line:"
   ]
  },
  {
   "cell_type": "code",
   "execution_count": null,
   "id": "bdc0ac35",
   "metadata": {
    "execution": {
     "iopub.execute_input": "2024-05-16T12:06:39.059530Z",
     "iopub.status.busy": "2024-05-16T12:06:39.059463Z",
     "iopub.status.idle": "2024-05-16T12:06:39.061201Z",
     "shell.execute_reply": "2024-05-16T12:06:39.060978Z"
    },
    "slideshow": {
     "slide_type": ""
    }
   },
   "outputs": [],
   "source": [
    "def sandwich(bread, meat, cheese, condiment):\n",
    "    desc = \"Here are instructions to make a \" + meat\n",
    "    \n",
    "    if cheese:\n",
    "        desc += \" and \"  + cheese\n",
    "    \n",
    "    desc += \" on \" + bread\n",
    "    \n",
    "    if condiment:\n",
    "        desc += \" with \" + condiment\n",
    "    \n",
    "    desc += \".\"\n",
    "    \n",
    "    print(desc)"
   ]
  },
  {
   "cell_type": "code",
   "execution_count": null,
   "id": "95df4d9f",
   "metadata": {
    "execution": {
     "iopub.execute_input": "2024-05-16T12:06:39.062462Z",
     "iopub.status.busy": "2024-05-16T12:06:39.062396Z",
     "iopub.status.idle": "2024-05-16T12:06:39.063809Z",
     "shell.execute_reply": "2024-05-16T12:06:39.063590Z"
    },
    "slideshow": {
     "slide_type": "subslide"
    }
   },
   "outputs": [],
   "source": [
    "sandwich(\"sourdough\", \"turkey\", \"swiss\", \"mustard\")"
   ]
  },
  {
   "cell_type": "code",
   "execution_count": null,
   "id": "8db4cd2e",
   "metadata": {
    "execution": {
     "iopub.execute_input": "2024-05-16T12:06:39.065057Z",
     "iopub.status.busy": "2024-05-16T12:06:39.064977Z",
     "iopub.status.idle": "2024-05-16T12:06:39.066568Z",
     "shell.execute_reply": "2024-05-16T12:06:39.066343Z"
    }
   },
   "outputs": [],
   "source": [
    "sandwich(\"sourdough\", \"turkey\", \"\", \"mustard\")"
   ]
  },
  {
   "cell_type": "code",
   "execution_count": null,
   "id": "1fa5f395",
   "metadata": {
    "execution": {
     "iopub.execute_input": "2024-05-16T12:06:39.067772Z",
     "iopub.status.busy": "2024-05-16T12:06:39.067707Z",
     "iopub.status.idle": "2024-05-16T12:06:39.069445Z",
     "shell.execute_reply": "2024-05-16T12:06:39.069230Z"
    }
   },
   "outputs": [],
   "source": [
    "sandwich(\"sourdough\", \"turkey\", \"swiss\", \"\")"
   ]
  },
  {
   "cell_type": "code",
   "execution_count": null,
   "id": "5ca60dad",
   "metadata": {
    "execution": {
     "iopub.execute_input": "2024-05-16T12:06:39.070793Z",
     "iopub.status.busy": "2024-05-16T12:06:39.070725Z",
     "iopub.status.idle": "2024-05-16T12:06:39.072413Z",
     "shell.execute_reply": "2024-05-16T12:06:39.072209Z"
    }
   },
   "outputs": [],
   "source": [
    "sandwich(\"sourdough\", \"turkey\", \"\", \"\")"
   ]
  },
  {
   "cell_type": "markdown",
   "id": "9b84e040",
   "metadata": {
    "slideshow": {
     "slide_type": "subslide"
    }
   },
   "source": [
    "Step 1 is the same as before:"
   ]
  },
  {
   "cell_type": "code",
   "execution_count": null,
   "id": "f2575eb2",
   "metadata": {
    "execution": {
     "iopub.execute_input": "2024-05-16T12:06:39.073701Z",
     "iopub.status.busy": "2024-05-16T12:06:39.073636Z",
     "iopub.status.idle": "2024-05-16T12:06:39.075497Z",
     "shell.execute_reply": "2024-05-16T12:06:39.075290Z"
    },
    "slideshow": {
     "slide_type": ""
    }
   },
   "outputs": [],
   "source": [
    "def sandwich(bread, meat, cheese, condiment):\n",
    "    desc = \"Here are instructions to make a \" + meat    \n",
    "    if cheese:\n",
    "        desc += \" and \"  + cheese\n",
    "    desc += \" on \" + bread    \n",
    "    if condiment:\n",
    "        desc += \" with \" + condiment\n",
    "    desc += \".\"    \n",
    "    print(desc)\n",
    "    \n",
    "    print(\"Step 1: Lay out 2 slices of \" + bread + \" bread.\")"
   ]
  },
  {
   "cell_type": "code",
   "execution_count": null,
   "id": "b0604e5a",
   "metadata": {
    "execution": {
     "iopub.execute_input": "2024-05-16T12:06:39.076784Z",
     "iopub.status.busy": "2024-05-16T12:06:39.076714Z",
     "iopub.status.idle": "2024-05-16T12:06:39.078236Z",
     "shell.execute_reply": "2024-05-16T12:06:39.077999Z"
    }
   },
   "outputs": [],
   "source": [
    "sandwich(\"sourdough\", \"turkey\", \"swiss\", \"mustard\")"
   ]
  },
  {
   "cell_type": "markdown",
   "id": "d33665fe",
   "metadata": {
    "slideshow": {
     "slide_type": "subslide"
    }
   },
   "source": [
    "Step 2 is where we start to run into trouble... it's different if we have a condiment."
   ]
  },
  {
   "cell_type": "code",
   "execution_count": null,
   "id": "2a886fce",
   "metadata": {
    "execution": {
     "iopub.execute_input": "2024-05-16T12:06:39.079536Z",
     "iopub.status.busy": "2024-05-16T12:06:39.079468Z",
     "iopub.status.idle": "2024-05-16T12:06:39.081662Z",
     "shell.execute_reply": "2024-05-16T12:06:39.081445Z"
    },
    "slideshow": {
     "slide_type": ""
    }
   },
   "outputs": [],
   "source": [
    "def sandwich(bread, meat, cheese, condiment):\n",
    "    desc = \"Here are instructions to make a \" + meat    \n",
    "    if cheese:\n",
    "        desc += \" and \"  + cheese\n",
    "    desc += \" on \" + bread\n",
    "    if condiment:\n",
    "        desc += \" with \" + condiment\n",
    "    desc += \".\"\n",
    "    print(desc)\n",
    "    \n",
    "    print(\"Step 1: Lay out 2 slices of \" + bread + \" bread.\")\n",
    "    \n",
    "    if condiment:\n",
    "        print(\"Step 2: Spread \" + condiment + \" on both slices of \" + bread + \" bread.\")\n",
    "        print(\"Step 3: Put 3 pieces of \" + meat + \" on one slice of \" + bread + \" bread.\")\n",
    "    else: \n",
    "        print(\"Step 2: Put 3 pieces of \" + meat + \" on one slice of \" + bread + \" bread.\")"
   ]
  },
  {
   "cell_type": "code",
   "execution_count": null,
   "id": "af7a2592",
   "metadata": {
    "execution": {
     "iopub.execute_input": "2024-05-16T12:06:39.082878Z",
     "iopub.status.busy": "2024-05-16T12:06:39.082812Z",
     "iopub.status.idle": "2024-05-16T12:06:39.084483Z",
     "shell.execute_reply": "2024-05-16T12:06:39.084180Z"
    }
   },
   "outputs": [],
   "source": [
    "sandwich(\"sourdough\", \"turkey\", \"swiss\", \"mustard\")"
   ]
  },
  {
   "cell_type": "code",
   "execution_count": null,
   "id": "59a9d22f",
   "metadata": {
    "execution": {
     "iopub.execute_input": "2024-05-16T12:06:39.085908Z",
     "iopub.status.busy": "2024-05-16T12:06:39.085821Z",
     "iopub.status.idle": "2024-05-16T12:06:39.087561Z",
     "shell.execute_reply": "2024-05-16T12:06:39.087306Z"
    }
   },
   "outputs": [],
   "source": [
    "sandwich(\"sourdough\", \"turkey\", \"swiss\", \"\")"
   ]
  },
  {
   "cell_type": "markdown",
   "id": "387c53e1",
   "metadata": {
    "slideshow": {
     "slide_type": "subslide"
    }
   },
   "source": [
    "Step 3/4 is where things really get messy:"
   ]
  },
  {
   "cell_type": "code",
   "execution_count": null,
   "id": "165a6e19",
   "metadata": {
    "execution": {
     "iopub.execute_input": "2024-05-16T12:06:39.089003Z",
     "iopub.status.busy": "2024-05-16T12:06:39.088926Z",
     "iopub.status.idle": "2024-05-16T12:06:39.091853Z",
     "shell.execute_reply": "2024-05-16T12:06:39.091639Z"
    },
    "slideshow": {
     "slide_type": ""
    }
   },
   "outputs": [],
   "source": [
    "def sandwich(bread, meat, cheese, condiment):\n",
    "    desc = \"Here are instructions to make a \" + meat    \n",
    "    if cheese:\n",
    "        desc += \" and \"  + cheese\n",
    "    desc += \" on \" + bread\n",
    "    if condiment:\n",
    "        desc += \" with \" + condiment\n",
    "    desc += \".\"\n",
    "    print(desc)\n",
    "    \n",
    "    print(\"Step 1: Lay out 2 slices of \" + bread + \" bread.\")\n",
    "    \n",
    "    if condiment:\n",
    "        print(\"Step 2: Spread \" + condiment + \" on both slices of \" + bread + \" bread.\")\n",
    "        print(\"Step 3: Put 3 pieces of \" + meat + \" on one slice of \" + bread + \" bread.\")\n",
    "    else: \n",
    "        print(\"Step 2: Put 3 pieces of \" + meat + \" on one slice of \" + bread + \" bread.\")\n",
    "        \n",
    "    if cheese:\n",
    "        if condiment: # yes cheese, yes condiment\n",
    "            print(\"Step 4: Put 2 pieces of \" + cheese  + \" on top of the \" + meat + \".\")\n",
    "            print(\"Step 5: Put the second slice of bread on top of the \" + cheese + \".\")\n",
    "        else: # yes cheese, no condiment\n",
    "            print(\"Step 3: Put 2 pieces of \" + cheese  + \" on top of the \" + meat + \".\")\n",
    "            print(\"Step 4: Put the second slice of bread on top of the \" + cheese + \".\")\n",
    "    else:\n",
    "        if condiment: # no cheese, yes condiment\n",
    "            print(\"Step 4: Put the second slice of bread on top of the \" + meat + \".\")\n",
    "        else: # no cheese, no condiment\n",
    "            print(\"Step 3: Put the second slice of bread on top of the \" + meat + \".\")\n"
   ]
  },
  {
   "cell_type": "code",
   "execution_count": null,
   "id": "cf931ffc",
   "metadata": {
    "execution": {
     "iopub.execute_input": "2024-05-16T12:06:39.093216Z",
     "iopub.status.busy": "2024-05-16T12:06:39.093141Z",
     "iopub.status.idle": "2024-05-16T12:06:39.094851Z",
     "shell.execute_reply": "2024-05-16T12:06:39.094601Z"
    },
    "slideshow": {
     "slide_type": "subslide"
    }
   },
   "outputs": [],
   "source": [
    "sandwich(\"sourdough\", \"turkey\", \"swiss\", \"mustard\")"
   ]
  },
  {
   "cell_type": "code",
   "execution_count": null,
   "id": "e7b87ffc",
   "metadata": {
    "execution": {
     "iopub.execute_input": "2024-05-16T12:06:39.096194Z",
     "iopub.status.busy": "2024-05-16T12:06:39.096111Z",
     "iopub.status.idle": "2024-05-16T12:06:39.097877Z",
     "shell.execute_reply": "2024-05-16T12:06:39.097668Z"
    },
    "slideshow": {
     "slide_type": ""
    }
   },
   "outputs": [],
   "source": [
    "sandwich(\"sourdough\", \"turkey\", \"\", \"mustard\")"
   ]
  },
  {
   "cell_type": "code",
   "execution_count": null,
   "id": "29835c72",
   "metadata": {
    "execution": {
     "iopub.execute_input": "2024-05-16T12:06:39.099160Z",
     "iopub.status.busy": "2024-05-16T12:06:39.099083Z",
     "iopub.status.idle": "2024-05-16T12:06:39.100608Z",
     "shell.execute_reply": "2024-05-16T12:06:39.100369Z"
    },
    "slideshow": {
     "slide_type": "subslide"
    }
   },
   "outputs": [],
   "source": [
    "sandwich(\"sourdough\", \"turkey\", \"swiss\", \"\")"
   ]
  },
  {
   "cell_type": "code",
   "execution_count": null,
   "id": "e6d5ba3c",
   "metadata": {
    "execution": {
     "iopub.execute_input": "2024-05-16T12:06:39.101922Z",
     "iopub.status.busy": "2024-05-16T12:06:39.101856Z",
     "iopub.status.idle": "2024-05-16T12:06:39.103444Z",
     "shell.execute_reply": "2024-05-16T12:06:39.103223Z"
    }
   },
   "outputs": [],
   "source": [
    "sandwich(\"sourdough\", \"turkey\", \"\", \"\")"
   ]
  },
  {
   "cell_type": "markdown",
   "id": "cd77046a",
   "metadata": {
    "slideshow": {
     "slide_type": "subslide"
    }
   },
   "source": [
    "Before we get any further... there **must** be a better way!\n",
    "\n",
    "Any ideas?"
   ]
  },
  {
   "cell_type": "markdown",
   "id": "f38ba422",
   "metadata": {
    "slideshow": {
     "slide_type": "fragment"
    }
   },
   "source": [
    "Let's use a variable to keep track of which step number is next!"
   ]
  },
  {
   "cell_type": "code",
   "execution_count": null,
   "id": "5a409d6f",
   "metadata": {
    "execution": {
     "iopub.execute_input": "2024-05-16T12:06:39.104906Z",
     "iopub.status.busy": "2024-05-16T12:06:39.104831Z",
     "iopub.status.idle": "2024-05-16T12:06:39.108110Z",
     "shell.execute_reply": "2024-05-16T12:06:39.107886Z"
    },
    "slideshow": {
     "slide_type": "subslide"
    }
   },
   "outputs": [],
   "source": [
    "def sandwich(bread, meat, cheese, condiment):\n",
    "    desc = \"Here are instructions to make a \" + meat\n",
    "    if cheese:\n",
    "        desc += \" and \"  + cheese\n",
    "    desc += \" on \" + bread\n",
    "    if condiment:\n",
    "        desc += \" with \" + condiment\n",
    "    desc += \".\"\n",
    "    print(desc)\n",
    "    \n",
    "    step = 1\n",
    "    print(\"Step \" + str(step) + \": Lay out 2 slices of \" + bread + \" bread.\")\n",
    "    step += 1\n",
    "\n",
    "    if condiment:\n",
    "        print(\"Step \" + str(step) + \": Spread \" + condiment + \" on both slices of \" + bread + \" bread.\")\n",
    "        step += 1 \n",
    "        \n",
    "    print(\"Step \" + str(step) + \": Put 3 pieces of \" + meat + \" on one slice of \" + bread + \" bread.\")\n",
    "    step += 1\n",
    "    \n",
    "    if cheese:\n",
    "        print(\"Step \" + str(step) + \": Put 2 pieces of \" + cheese  + \" on top of the \" + meat + \".\")\n",
    "        step += 1\n",
    "        print(\"Step \" + str(step) + \": Put the second slice of bread on top of the \" + cheese + \".\")\n",
    "        step += 1\n",
    "    else:\n",
    "        print(\"Step \" + str(step) + \": Put the second slice of bread on top of the \" + meat + \".\")\n",
    "        step += 1\n",
    "        \n",
    "    print(\"Step \" + str(step) + \": Cut in half\")\n",
    "    step += 1\n",
    "    \n",
    "    print(\"Step \" + str(step) + \": Eat!\")"
   ]
  },
  {
   "cell_type": "code",
   "execution_count": null,
   "id": "6b59c569",
   "metadata": {
    "execution": {
     "iopub.execute_input": "2024-05-16T12:06:39.109470Z",
     "iopub.status.busy": "2024-05-16T12:06:39.109398Z",
     "iopub.status.idle": "2024-05-16T12:06:39.110995Z",
     "shell.execute_reply": "2024-05-16T12:06:39.110778Z"
    }
   },
   "outputs": [],
   "source": [
    "sandwich(\"sourdough\", \"turkey\", \"swiss\", \"mustard\")"
   ]
  },
  {
   "cell_type": "code",
   "execution_count": null,
   "id": "d58eeac4",
   "metadata": {
    "execution": {
     "iopub.execute_input": "2024-05-16T12:06:39.112251Z",
     "iopub.status.busy": "2024-05-16T12:06:39.112181Z",
     "iopub.status.idle": "2024-05-16T12:06:39.113790Z",
     "shell.execute_reply": "2024-05-16T12:06:39.113567Z"
    }
   },
   "outputs": [],
   "source": [
    "sandwich(\"sourdough\", \"turkey\", \"\", \"\")"
   ]
  },
  {
   "cell_type": "code",
   "execution_count": null,
   "id": "6f783807",
   "metadata": {
    "execution": {
     "iopub.execute_input": "2024-05-16T12:06:39.115031Z",
     "iopub.status.busy": "2024-05-16T12:06:39.114965Z",
     "iopub.status.idle": "2024-05-16T12:06:39.116546Z",
     "shell.execute_reply": "2024-05-16T12:06:39.116307Z"
    }
   },
   "outputs": [],
   "source": [
    "sandwich(\"sourdough\", \"turkey\", \"swiss\", \"\")"
   ]
  },
  {
   "cell_type": "code",
   "execution_count": null,
   "id": "1b163871",
   "metadata": {
    "execution": {
     "iopub.execute_input": "2024-05-16T12:06:39.117818Z",
     "iopub.status.busy": "2024-05-16T12:06:39.117732Z",
     "iopub.status.idle": "2024-05-16T12:06:39.119381Z",
     "shell.execute_reply": "2024-05-16T12:06:39.119170Z"
    }
   },
   "outputs": [],
   "source": [
    "sandwich(\"sourdough\", \"turkey\", \"\", \"mustard\")"
   ]
  },
  {
   "cell_type": "markdown",
   "id": "fcfa1d2b",
   "metadata": {},
   "source": [
    "## Helper functions\n",
    "\n",
    "When you notice repeated patterns or lines of code in your programs, it's often a good idea to create a function that \"factors out\" the repetition.\n",
    "\n",
    "In our function, we're starting many lines with `\"Step \" + str(step) + \":\"`, e.g.:\n",
    "\n",
    "`print(\"Step \" + str(step) + \": Lay out 2 slices of \" + bread + \" bread.\")`\n",
    "\n",
    "Let's write a function to handle this."
   ]
  },
  {
   "cell_type": "code",
   "execution_count": null,
   "id": "83696766",
   "metadata": {
    "execution": {
     "iopub.execute_input": "2024-05-16T12:06:39.120723Z",
     "iopub.status.busy": "2024-05-16T12:06:39.120654Z",
     "iopub.status.idle": "2024-05-16T12:06:39.122263Z",
     "shell.execute_reply": "2024-05-16T12:06:39.122052Z"
    },
    "slideshow": {
     "slide_type": "subslide"
    }
   },
   "outputs": [],
   "source": [
    "def print_step(step_num, instruction):\n",
    "    print(\"Step \" + str(step_num) + \": \" + instruction)"
   ]
  },
  {
   "cell_type": "code",
   "execution_count": null,
   "id": "d048600c",
   "metadata": {
    "execution": {
     "iopub.execute_input": "2024-05-16T12:06:39.123483Z",
     "iopub.status.busy": "2024-05-16T12:06:39.123415Z",
     "iopub.status.idle": "2024-05-16T12:06:39.124953Z",
     "shell.execute_reply": "2024-05-16T12:06:39.124732Z"
    }
   },
   "outputs": [],
   "source": [
    "print_step(3, \"Toast bread\")"
   ]
  },
  {
   "cell_type": "code",
   "execution_count": null,
   "id": "a06fdfe2",
   "metadata": {
    "execution": {
     "iopub.execute_input": "2024-05-16T12:06:39.126213Z",
     "iopub.status.busy": "2024-05-16T12:06:39.126146Z",
     "iopub.status.idle": "2024-05-16T12:06:39.127746Z",
     "shell.execute_reply": "2024-05-16T12:06:39.127534Z"
    }
   },
   "outputs": [],
   "source": [
    "print_step(1, \"Get ingredients\")"
   ]
  },
  {
   "cell_type": "code",
   "execution_count": null,
   "id": "a7a01136",
   "metadata": {
    "execution": {
     "iopub.execute_input": "2024-05-16T12:06:39.129024Z",
     "iopub.status.busy": "2024-05-16T12:06:39.128937Z",
     "iopub.status.idle": "2024-05-16T12:06:39.131514Z",
     "shell.execute_reply": "2024-05-16T12:06:39.131298Z"
    },
    "slideshow": {
     "slide_type": "subslide"
    }
   },
   "outputs": [],
   "source": [
    "def sandwich(bread, meat, cheese, condiment):\n",
    "    desc = \"Here are instructions to make a \" + meat\n",
    "    \n",
    "    if cheese:\n",
    "        desc += \" and \"  + cheese\n",
    "    desc += \" on \" + bread\n",
    "    \n",
    "    if condiment:\n",
    "        desc += \" with \" + condiment\n",
    "    desc += \".\"\n",
    "    \n",
    "    print(desc)\n",
    "    \n",
    "    step = 1\n",
    "    print_step(step, \"Lay out 2 slices of \" + bread + \" bread.\")\n",
    "    step += 1\n",
    "    \n",
    "    if condiment:\n",
    "        print_step(step, \"Spread \" + condiment + \" on both slices of \" + bread + \" bread.\")\n",
    "        step += 1 \n",
    "        \n",
    "    print_step(step, \"Put 3 pieces of \" + meat + \" on one slice of \" + bread + \" bread.\")\n",
    "    step += 1\n",
    "    \n",
    "    if cheese:\n",
    "        print_step(step, \"Put 2 pieces of \" + cheese  + \" on top of the \" + meat + \".\")\n",
    "        step += 1\n",
    "        print_step(step, \"Put the second slice of bread on top of the \" + cheese + \".\")\n",
    "        step += 1\n",
    "    else:\n",
    "        print_step(step, \"Put the second slice of bread on top of the \" + meat + \".\")\n",
    "        step += 1\n",
    "        \n",
    "    print_step(step, \"Cut in half\")\n",
    "    step += 1\n",
    "    \n",
    "    print_step(step, \"Eat!\")"
   ]
  },
  {
   "cell_type": "code",
   "execution_count": null,
   "id": "07078591",
   "metadata": {
    "execution": {
     "iopub.execute_input": "2024-05-16T12:06:39.132787Z",
     "iopub.status.busy": "2024-05-16T12:06:39.132700Z",
     "iopub.status.idle": "2024-05-16T12:06:39.134254Z",
     "shell.execute_reply": "2024-05-16T12:06:39.134043Z"
    }
   },
   "outputs": [],
   "source": [
    "sandwich(\"sourdough\", \"turkey\", \"swiss\", \"mustard\")"
   ]
  },
  {
   "cell_type": "markdown",
   "id": "86fafe44",
   "metadata": {
    "slideshow": {
     "slide_type": "slide"
    }
   },
   "source": [
    "# Exercise: Is it odd?\n",
    "\n",
    "[GitHub Classroom -> Class exercises -> Open in GitHub Cospaces](https://classroom.github.com/a/M3gdSqkV)\n",
    "\n",
    "Open the file: `exercises/04/is_odd/README.md`, follow the instructions.\n",
    "* If you don't see this folder: Open the file: `get_exercises.sh`, click the \"Run\" button at the top right of the editor.\n"
   ]
  },
  {
   "cell_type": "markdown",
   "id": "59432e28",
   "metadata": {
    "slideshow": {
     "slide_type": "slide"
    }
   },
   "source": [
    "# Exercise: Lifting Weights\n",
    "\n",
    "[GitHub Classroom -> Class exercises -> Open in GitHub Cospaces](https://classroom.github.com/a/M3gdSqkV)\n",
    "\n",
    "Open the file: `exercises/04/lifting_weights/README.md`, follow the instructions.\n",
    "* If you don't see this folder: Open the file: `get_exercises.sh`, click the \"Run\" button at the top right of the editor.\n"
   ]
  },
  {
   "cell_type": "markdown",
   "id": "735255b6",
   "metadata": {
    "slideshow": {
     "slide_type": "slide"
    }
   },
   "source": [
    "\n",
    "# Return\n",
    "\n",
    "* Functions can produce values.\n",
    "* Using the `return` keyword in a function makes the function produce a value."
   ]
  },
  {
   "cell_type": "code",
   "execution_count": null,
   "id": "9b69489b",
   "metadata": {
    "execution": {
     "iopub.execute_input": "2024-05-16T12:06:39.135697Z",
     "iopub.status.busy": "2024-05-16T12:06:39.135627Z",
     "iopub.status.idle": "2024-05-16T12:06:39.138465Z",
     "shell.execute_reply": "2024-05-16T12:06:39.138251Z"
    },
    "slideshow": {
     "slide_type": "-"
    }
   },
   "outputs": [],
   "source": [
    "def add(a, b):\n",
    "    return a + b\n",
    "\n",
    "add(1, 2)"
   ]
  },
  {
   "cell_type": "markdown",
   "id": "c3d4ddde",
   "metadata": {
    "slideshow": {
     "slide_type": "slide"
    }
   },
   "source": [
    "## `return` vs `print`"
   ]
  },
  {
   "cell_type": "code",
   "execution_count": null,
   "id": "b6d3a341",
   "metadata": {
    "execution": {
     "iopub.execute_input": "2024-05-16T12:06:39.139812Z",
     "iopub.status.busy": "2024-05-16T12:06:39.139740Z",
     "iopub.status.idle": "2024-05-16T12:06:39.141426Z",
     "shell.execute_reply": "2024-05-16T12:06:39.141178Z"
    },
    "slideshow": {
     "slide_type": ""
    }
   },
   "outputs": [],
   "source": [
    "def add_and_return(a, b):\n",
    "    return a + b\n",
    "\n",
    "def add_and_print(a, b):\n",
    "    print(a + b)"
   ]
  },
  {
   "cell_type": "code",
   "execution_count": null,
   "id": "6039cd01",
   "metadata": {
    "execution": {
     "iopub.execute_input": "2024-05-16T12:06:39.142699Z",
     "iopub.status.busy": "2024-05-16T12:06:39.142630Z",
     "iopub.status.idle": "2024-05-16T12:06:39.144534Z",
     "shell.execute_reply": "2024-05-16T12:06:39.144338Z"
    }
   },
   "outputs": [],
   "source": [
    "add_and_return(2, 3)"
   ]
  },
  {
   "cell_type": "code",
   "execution_count": null,
   "id": "5ffc5396",
   "metadata": {
    "execution": {
     "iopub.execute_input": "2024-05-16T12:06:39.145751Z",
     "iopub.status.busy": "2024-05-16T12:06:39.145681Z",
     "iopub.status.idle": "2024-05-16T12:06:39.147220Z",
     "shell.execute_reply": "2024-05-16T12:06:39.146998Z"
    }
   },
   "outputs": [],
   "source": [
    "add_and_print(2, 3)"
   ]
  },
  {
   "cell_type": "markdown",
   "id": "4574896a",
   "metadata": {
    "slideshow": {
     "slide_type": "fragment"
    }
   },
   "source": [
    "They look the same here - but are they?"
   ]
  },
  {
   "cell_type": "markdown",
   "id": "41d78a9c",
   "metadata": {
    "slideshow": {
     "slide_type": "subslide"
    }
   },
   "source": [
    "# `return` vs. `print`\n",
    "\n",
    "At first glance, `return` and `print` might seem the same. \n",
    "\n",
    "**They are not!** The difference is important, but might be confusing at first!\n",
    "\n",
    "`print` writes a value to the program's output (the terminal)\n",
    "\n",
    "`return` hands a result back to the code which called the function"
   ]
  },
  {
   "cell_type": "markdown",
   "id": "10b9e128",
   "metadata": {
    "slideshow": {
     "slide_type": "subslide"
    }
   },
   "source": [
    "## Phone a friend: `return`\n",
    "\n",
    "You are given a math homework assignment.\n",
    "\n",
    "One of the problems is too hard, so you call a friend on the phone to get help.\n",
    "\n",
    "You read the question to your friend.\n",
    "\n",
    "Your friend thinks for a minute, and then responds with the answer.\n",
    "\n",
    "You write the answer on your paper."
   ]
  },
  {
   "cell_type": "markdown",
   "id": "8b4541ef",
   "metadata": {
    "slideshow": {
     "slide_type": "subslide"
    }
   },
   "source": [
    "## Phone a friend: `return`\n",
    "\n",
    "You are given a math homework assignment.\n",
    "\n",
    "<span style=\"color:blue\">One of the problems is too hard, so you call a friend on the phone to get help.</span> (_Your friend is the function - you give them input, they produce output_)\n",
    "\n",
    "<span style=\"color:green\">You read the question to your friend.</span> (_This is calling the function_)\n",
    "\n",
    "<span style=\"color:red\">Your friend thinks for a minute, and then responds with the answer.</span> (_This is the function \"returning\" the answer_)\n",
    "\n",
    "<span style=\"color:purple\">You write the answer on your paper</span> (_This is the calling code using the return value_) "
   ]
  },
  {
   "cell_type": "markdown",
   "id": "856d93ed",
   "metadata": {
    "slideshow": {
     "slide_type": "subslide"
    }
   },
   "source": [
    "## Phone a friend: `print`\n",
    "\n",
    "You are given a math homework assignment.\n",
    "\n",
    "One of the problems is too hard, so you call a friend on the phone to get help.\n",
    "\n",
    "You read the question to your friend.\n",
    "\n",
    "Your friend thinks for a minute, and then writes the answer down on a piece of paper and hangs up.\n",
    "\n",
    "You contemplate how unhelpful your friend was, and fail the homework assignment."
   ]
  },
  {
   "cell_type": "markdown",
   "id": "28d710fe",
   "metadata": {
    "slideshow": {
     "slide_type": "subslide"
    }
   },
   "source": [
    "## Phone a friend: `print`\n",
    "\n",
    "You are given a math homework assignment.\n",
    "\n",
    "One of the problems is too hard, so you call a friend on the phone to get help.\n",
    "\n",
    "You read the question to your friend.\n",
    "\n",
    "<span style=\"color:red\">Your friend thinks for a minute, and then writes the answer down on a piece of paper and hangs up.</span> (_This is your friend \"printing\" the answer - your friend has produced output, but it is not directly available to you, the caller._)\n",
    "\n",
    "You contemplate how unhelpful your friend was, and fail the homework assignment."
   ]
  },
  {
   "cell_type": "markdown",
   "id": "f93a3be0",
   "metadata": {
    "slideshow": {
     "slide_type": "subslide"
    }
   },
   "source": [
    "Let's explore the difference with some examples."
   ]
  },
  {
   "cell_type": "code",
   "execution_count": null,
   "id": "c5e60219",
   "metadata": {
    "execution": {
     "iopub.execute_input": "2024-05-16T12:06:39.148837Z",
     "iopub.status.busy": "2024-05-16T12:06:39.148767Z",
     "iopub.status.idle": "2024-05-16T12:06:39.150453Z",
     "shell.execute_reply": "2024-05-16T12:06:39.150238Z"
    },
    "slideshow": {
     "slide_type": ""
    }
   },
   "outputs": [],
   "source": [
    "def add_and_print(a, b):\n",
    "    print(a + b)\n",
    "    \n",
    "def add_and_return(a, b):\n",
    "    return a + b"
   ]
  },
  {
   "cell_type": "code",
   "execution_count": null,
   "id": "bc7772a1",
   "metadata": {
    "execution": {
     "iopub.execute_input": "2024-05-16T12:06:39.151717Z",
     "iopub.status.busy": "2024-05-16T12:06:39.151652Z",
     "iopub.status.idle": "2024-05-16T12:06:39.153249Z",
     "shell.execute_reply": "2024-05-16T12:06:39.153040Z"
    }
   },
   "outputs": [],
   "source": [
    "print(\"add_and_print produces the value: \" + str(add_and_print(2, 3)))"
   ]
  },
  {
   "cell_type": "code",
   "execution_count": null,
   "id": "b85f2dc1",
   "metadata": {
    "execution": {
     "iopub.execute_input": "2024-05-16T12:06:39.154474Z",
     "iopub.status.busy": "2024-05-16T12:06:39.154387Z",
     "iopub.status.idle": "2024-05-16T12:06:39.156041Z",
     "shell.execute_reply": "2024-05-16T12:06:39.155826Z"
    },
    "slideshow": {
     "slide_type": ""
    }
   },
   "outputs": [],
   "source": [
    "print(\"add_and_return produces the value: \" + str(add_and_return(2, 3)))"
   ]
  },
  {
   "cell_type": "code",
   "execution_count": null,
   "id": "4a343b95",
   "metadata": {
    "execution": {
     "iopub.execute_input": "2024-05-16T12:06:39.157296Z",
     "iopub.status.busy": "2024-05-16T12:06:39.157227Z",
     "iopub.status.idle": "2024-05-16T12:06:39.158900Z",
     "shell.execute_reply": "2024-05-16T12:06:39.158687Z"
    },
    "slideshow": {
     "slide_type": "subslide"
    }
   },
   "outputs": [],
   "source": [
    "print(\"add_and_print produces the value: \" + str(add_and_print(2, 3)))"
   ]
  },
  {
   "cell_type": "code",
   "execution_count": null,
   "id": "78a2bffa",
   "metadata": {
    "execution": {
     "iopub.execute_input": "2024-05-16T12:06:39.160182Z",
     "iopub.status.busy": "2024-05-16T12:06:39.160111Z",
     "iopub.status.idle": "2024-05-16T12:06:39.161751Z",
     "shell.execute_reply": "2024-05-16T12:06:39.161534Z"
    },
    "slideshow": {
     "slide_type": ""
    }
   },
   "outputs": [],
   "source": [
    "print(\"add_and_return produces the value: \" + str(add_and_return(2, 3)))"
   ]
  },
  {
   "cell_type": "markdown",
   "id": "e9bcf0ae",
   "metadata": {},
   "source": [
    "`add_and_print` is writing a value directly to this slide.\n",
    "\n",
    "`add_and_return` is handing a value back to the code that called it. That code can use the value however it wants."
   ]
  },
  {
   "cell_type": "markdown",
   "id": "e4c2e005",
   "metadata": {
    "slideshow": {
     "slide_type": "subslide"
    }
   },
   "source": [
    "Using `return` is especially useful when the calling code needs to use the result of the function."
   ]
  },
  {
   "cell_type": "code",
   "execution_count": null,
   "id": "6c098ace",
   "metadata": {
    "execution": {
     "iopub.execute_input": "2024-05-16T12:06:39.163135Z",
     "iopub.status.busy": "2024-05-16T12:06:39.163066Z",
     "iopub.status.idle": "2024-05-16T12:06:39.261252Z",
     "shell.execute_reply": "2024-05-16T12:06:39.261011Z"
    },
    "slideshow": {
     "slide_type": ""
    }
   },
   "outputs": [],
   "source": [
    "print(\"Adding 1 to add_and_print(2,3) produces: \" + str(add_and_print(2, 3) + 1))"
   ]
  },
  {
   "cell_type": "code",
   "execution_count": null,
   "id": "a14f20e5",
   "metadata": {
    "execution": {
     "iopub.execute_input": "2024-05-16T12:06:39.262753Z",
     "iopub.status.busy": "2024-05-16T12:06:39.262671Z",
     "iopub.status.idle": "2024-05-16T12:06:39.264590Z",
     "shell.execute_reply": "2024-05-16T12:06:39.264361Z"
    },
    "slideshow": {
     "slide_type": ""
    }
   },
   "outputs": [],
   "source": [
    "print(\"Adding 1 to add_and_return(2,3) produces: \" + str(add_and_return(2, 3) + 1))"
   ]
  },
  {
   "cell_type": "markdown",
   "id": "ded45698",
   "metadata": {
    "slideshow": {
     "slide_type": "slide"
    }
   },
   "source": [
    "## None\n",
    "\n",
    "`None` is a special value that represents \"null\" or \"empty\".\n",
    "\n",
    "If you don't specify a return value from a function, the function will return `None`. \n",
    "\n",
    "This happens when:\n",
    "* execution reaches the end of the function without encountering a return statement\n",
    "* there is a \"bare\" `return` with no value\n",
    "* `return None` is used explicitly"
   ]
  },
  {
   "cell_type": "markdown",
   "id": "7b28d294",
   "metadata": {
    "slideshow": {
     "slide_type": "subslide"
    }
   },
   "source": [
    "## None\n",
    "\n",
    "`None` can be used like any other value. \n",
    "\n",
    "e.g. `None` can be assigned to a variable (`a = None`)\n",
    "\n",
    "It has its own type: `NoneType` - similar to `int`, `str`, `float`."
   ]
  },
  {
   "cell_type": "code",
   "execution_count": null,
   "id": "be6edb3d",
   "metadata": {
    "execution": {
     "iopub.execute_input": "2024-05-16T12:06:39.266023Z",
     "iopub.status.busy": "2024-05-16T12:06:39.265950Z",
     "iopub.status.idle": "2024-05-16T12:06:39.267677Z",
     "shell.execute_reply": "2024-05-16T12:06:39.267457Z"
    },
    "slideshow": {
     "slide_type": "subslide"
    }
   },
   "outputs": [],
   "source": [
    "def do_stuff():\n",
    "    val = \"Hello \" + \"world\"\n",
    "print(do_stuff())"
   ]
  },
  {
   "cell_type": "code",
   "execution_count": null,
   "id": "d9192d3d",
   "metadata": {
    "execution": {
     "iopub.execute_input": "2024-05-16T12:06:39.269041Z",
     "iopub.status.busy": "2024-05-16T12:06:39.268966Z",
     "iopub.status.idle": "2024-05-16T12:06:39.270708Z",
     "shell.execute_reply": "2024-05-16T12:06:39.270487Z"
    }
   },
   "outputs": [],
   "source": [
    "def do_stuff():\n",
    "    a = 5 + 10\n",
    "    return\n",
    "print(do_stuff())"
   ]
  },
  {
   "cell_type": "code",
   "execution_count": null,
   "id": "59997401",
   "metadata": {
    "execution": {
     "iopub.execute_input": "2024-05-16T12:06:39.271991Z",
     "iopub.status.busy": "2024-05-16T12:06:39.271919Z",
     "iopub.status.idle": "2024-05-16T12:06:39.273544Z",
     "shell.execute_reply": "2024-05-16T12:06:39.273324Z"
    }
   },
   "outputs": [],
   "source": [
    "def do_stuff():\n",
    "    b = 7 / 5\n",
    "    return None\n",
    "print(do_stuff())"
   ]
  },
  {
   "cell_type": "markdown",
   "id": "15187a04",
   "metadata": {
    "slideshow": {
     "slide_type": "subslide"
    }
   },
   "source": [
    "## Control flow\n",
    "\n",
    "* When a `return` statement is encountered, the function stops executing.\n",
    "* `return` can be used to control the flow of your program."
   ]
  },
  {
   "cell_type": "code",
   "execution_count": null,
   "id": "746ed6da",
   "metadata": {
    "execution": {
     "iopub.execute_input": "2024-05-16T12:06:39.274872Z",
     "iopub.status.busy": "2024-05-16T12:06:39.274801Z",
     "iopub.status.idle": "2024-05-16T12:06:39.276511Z",
     "shell.execute_reply": "2024-05-16T12:06:39.276280Z"
    }
   },
   "outputs": [],
   "source": [
    "def div(a, b):\n",
    "    if b == 0:\n",
    "        return None\n",
    "    return a / b"
   ]
  },
  {
   "cell_type": "code",
   "execution_count": null,
   "id": "cf928a46",
   "metadata": {
    "execution": {
     "iopub.execute_input": "2024-05-16T12:06:39.277755Z",
     "iopub.status.busy": "2024-05-16T12:06:39.277685Z",
     "iopub.status.idle": "2024-05-16T12:06:39.279265Z",
     "shell.execute_reply": "2024-05-16T12:06:39.279051Z"
    }
   },
   "outputs": [],
   "source": [
    "print(div(10, 2))"
   ]
  },
  {
   "cell_type": "code",
   "execution_count": null,
   "id": "ce6e01d5",
   "metadata": {
    "execution": {
     "iopub.execute_input": "2024-05-16T12:06:39.280543Z",
     "iopub.status.busy": "2024-05-16T12:06:39.280458Z",
     "iopub.status.idle": "2024-05-16T12:06:39.282017Z",
     "shell.execute_reply": "2024-05-16T12:06:39.281734Z"
    }
   },
   "outputs": [],
   "source": [
    "print(div(10, 0))"
   ]
  },
  {
   "cell_type": "markdown",
   "id": "a65d1489",
   "metadata": {
    "slideshow": {
     "slide_type": "slide"
    }
   },
   "source": [
    "## Terminology\n",
    "* When a function produces a value, we say it **returns** a value.\n",
    "* The value a function produces is referred to as the **return value**\n",
    "* When the `return` keyword is used in a function, it is referred to as **returning from** the function."
   ]
  },
  {
   "cell_type": "markdown",
   "id": "6e08878e",
   "metadata": {
    "slideshow": {
     "slide_type": "slide"
    }
   },
   "source": [
    "# Example 0: Average\n",
    "\n",
    "Write a function that takes 5 numbers as input, and returns the average."
   ]
  },
  {
   "cell_type": "code",
   "execution_count": null,
   "id": "afa2f488",
   "metadata": {
    "execution": {
     "iopub.execute_input": "2024-05-16T12:06:39.283404Z",
     "iopub.status.busy": "2024-05-16T12:06:39.283330Z",
     "iopub.status.idle": "2024-05-16T12:06:39.284998Z",
     "shell.execute_reply": "2024-05-16T12:06:39.284792Z"
    },
    "slideshow": {
     "slide_type": "subslide"
    }
   },
   "outputs": [],
   "source": [
    "def average(a, b, c, d, e):\n",
    "    sum = a + b + c + d + e\n",
    "    return sum / 5"
   ]
  },
  {
   "cell_type": "code",
   "execution_count": null,
   "id": "b5cb1696",
   "metadata": {
    "execution": {
     "iopub.execute_input": "2024-05-16T12:06:39.286263Z",
     "iopub.status.busy": "2024-05-16T12:06:39.286195Z",
     "iopub.status.idle": "2024-05-16T12:06:39.288150Z",
     "shell.execute_reply": "2024-05-16T12:06:39.287930Z"
    },
    "slideshow": {
     "slide_type": "subslide"
    }
   },
   "outputs": [],
   "source": [
    "average(1, 2, 3, 4, 5)"
   ]
  },
  {
   "cell_type": "code",
   "execution_count": null,
   "id": "d6f2ae83",
   "metadata": {
    "execution": {
     "iopub.execute_input": "2024-05-16T12:06:39.289401Z",
     "iopub.status.busy": "2024-05-16T12:06:39.289331Z",
     "iopub.status.idle": "2024-05-16T12:06:39.291306Z",
     "shell.execute_reply": "2024-05-16T12:06:39.291091Z"
    }
   },
   "outputs": [],
   "source": [
    "average(1, 1, 1, 1, 9999)"
   ]
  },
  {
   "cell_type": "code",
   "execution_count": null,
   "id": "70214437",
   "metadata": {
    "execution": {
     "iopub.execute_input": "2024-05-16T12:06:39.292530Z",
     "iopub.status.busy": "2024-05-16T12:06:39.292461Z",
     "iopub.status.idle": "2024-05-16T12:06:39.294456Z",
     "shell.execute_reply": "2024-05-16T12:06:39.294251Z"
    }
   },
   "outputs": [],
   "source": [
    "average(-10, -5, 0, 5, 10)"
   ]
  },
  {
   "cell_type": "markdown",
   "id": "ec7f0d57",
   "metadata": {
    "slideshow": {
     "slide_type": "slide"
    }
   },
   "source": [
    "# Example 1: Make things exciting\n",
    "\n",
    "Write a function that makes a string excited by adding an exclamation point at the end, and optionally making the text ALL CAPS."
   ]
  },
  {
   "cell_type": "code",
   "execution_count": null,
   "id": "5fa9f653",
   "metadata": {
    "execution": {
     "iopub.execute_input": "2024-05-16T12:06:39.295762Z",
     "iopub.status.busy": "2024-05-16T12:06:39.295695Z",
     "iopub.status.idle": "2024-05-16T12:06:39.297436Z",
     "shell.execute_reply": "2024-05-16T12:06:39.297209Z"
    },
    "slideshow": {
     "slide_type": "subslide"
    }
   },
   "outputs": [],
   "source": [
    "def make_exciting(value, all_caps):\n",
    "    if all_caps:\n",
    "        value = value.upper()\n",
    "    return value + \"!\""
   ]
  },
  {
   "cell_type": "code",
   "execution_count": null,
   "id": "dbf26103",
   "metadata": {
    "execution": {
     "iopub.execute_input": "2024-05-16T12:06:39.298770Z",
     "iopub.status.busy": "2024-05-16T12:06:39.298697Z",
     "iopub.status.idle": "2024-05-16T12:06:39.300664Z",
     "shell.execute_reply": "2024-05-16T12:06:39.300462Z"
    }
   },
   "outputs": [],
   "source": [
    "make_exciting(\"Hi class\", False)"
   ]
  },
  {
   "cell_type": "code",
   "execution_count": null,
   "id": "9aa68783",
   "metadata": {
    "execution": {
     "iopub.execute_input": "2024-05-16T12:06:39.301890Z",
     "iopub.status.busy": "2024-05-16T12:06:39.301824Z",
     "iopub.status.idle": "2024-05-16T12:06:39.303714Z",
     "shell.execute_reply": "2024-05-16T12:06:39.303499Z"
    }
   },
   "outputs": [],
   "source": [
    "make_exciting(\"Hi class\", True)"
   ]
  },
  {
   "cell_type": "code",
   "execution_count": null,
   "id": "eaa3c519",
   "metadata": {
    "execution": {
     "iopub.execute_input": "2024-05-16T12:06:39.304990Z",
     "iopub.status.busy": "2024-05-16T12:06:39.304922Z",
     "iopub.status.idle": "2024-05-16T12:06:39.306583Z",
     "shell.execute_reply": "2024-05-16T12:06:39.306376Z"
    }
   },
   "outputs": [],
   "source": [
    "print(\"Today I went to 10a, and it was... \" + make_exciting(\"the best day ever\", True))"
   ]
  },
  {
   "cell_type": "markdown",
   "id": "d9ed7c12",
   "metadata": {
    "slideshow": {
     "slide_type": "slide"
    }
   },
   "source": [
    "# Example 2: Sandwich instructions revisited\n",
    "\n",
    "Improve our function that took in a set of ingredients (bread, meat, cheese, condiment) and printed instructions to make a sandwich"
   ]
  },
  {
   "cell_type": "markdown",
   "id": "19a754dc",
   "metadata": {
    "slideshow": {
     "slide_type": "subslide"
    }
   },
   "source": [
    "\n",
    "The code we left off with:"
   ]
  },
  {
   "cell_type": "code",
   "execution_count": null,
   "id": "0d4c0219",
   "metadata": {
    "execution": {
     "iopub.execute_input": "2024-05-16T12:06:39.307916Z",
     "iopub.status.busy": "2024-05-16T12:06:39.307851Z",
     "iopub.status.idle": "2024-05-16T12:06:39.310722Z",
     "shell.execute_reply": "2024-05-16T12:06:39.310508Z"
    },
    "slideshow": {
     "slide_type": ""
    }
   },
   "outputs": [],
   "source": [
    "def print_step(step_num, instruction):\n",
    "    print(\"Step \" + str(step_num) + \": \" + instruction)\n",
    "    \n",
    "def sandwich(bread, meat, cheese, condiment):\n",
    "    desc = \"Here are instructions to make a \" + meat\n",
    "    \n",
    "    if cheese:\n",
    "        desc += \" and \"  + cheese\n",
    "    desc += \" on \" + bread\n",
    "    \n",
    "    if condiment:\n",
    "        desc += \" with \" + condiment\n",
    "    desc += \".\"\n",
    "    \n",
    "    print(desc)\n",
    "    \n",
    "    step = 1\n",
    "    print_step(step, \"Lay out 2 slices of \" + bread + \" bread.\")\n",
    "    step += 1\n",
    "    \n",
    "    if condiment:\n",
    "        print_step(step, \"Spread \" + condiment + \" on both slices of \" + bread + \" bread.\")\n",
    "        step += 1 \n",
    "        \n",
    "    print_step(step, \"Put 3 pieces of \" + meat + \" on one slice of \" + bread + \" bread.\")\n",
    "    step += 1\n",
    "    \n",
    "    if cheese:\n",
    "        print_step(step, \"Put 2 pieces of \" + cheese  + \" on top of the \" + meat + \".\")\n",
    "        step += 1\n",
    "        print_step(step, \"Put the second slice of bread on top of the \" + cheese + \".\")\n",
    "        step += 1\n",
    "    else:\n",
    "        print_step(step, \"Put the second slice of bread on top of the \" + meat + \".\")\n",
    "        step += 1\n",
    "        \n",
    "    print_step(step, \"Cut in half\")\n",
    "    step += 1\n",
    "    \n",
    "    print_step(step, \"Eat!\")"
   ]
  },
  {
   "cell_type": "code",
   "execution_count": null,
   "id": "8cd92d6c",
   "metadata": {
    "execution": {
     "iopub.execute_input": "2024-05-16T12:06:39.311930Z",
     "iopub.status.busy": "2024-05-16T12:06:39.311864Z",
     "iopub.status.idle": "2024-05-16T12:06:39.313475Z",
     "shell.execute_reply": "2024-05-16T12:06:39.313250Z"
    },
    "slideshow": {
     "slide_type": "subslide"
    }
   },
   "outputs": [],
   "source": [
    "sandwich(\"sourdough\", \"turkey\", \"swiss\", \"mustard\")"
   ]
  },
  {
   "cell_type": "markdown",
   "id": "b0e91323",
   "metadata": {
    "slideshow": {
     "slide_type": "subslide"
    }
   },
   "source": [
    "## Sandwich Decomposition\n",
    "\n",
    "Our function is pretty long - almost 30 lines of code.\n",
    "\n",
    "When functions get beyond 15-20 lines of code, it's usually a good idea to try to **decompose** them, or break them up into smaller parts."
   ]
  },
  {
   "cell_type": "markdown",
   "id": "bf9f083a",
   "metadata": {
    "slideshow": {
     "slide_type": "subslide"
    }
   },
   "source": [
    "The code that prints the first line of output is pretty self-contained. Let's make it a function!"
   ]
  },
  {
   "cell_type": "code",
   "execution_count": null,
   "id": "2a0bb513",
   "metadata": {
    "execution": {
     "iopub.execute_input": "2024-05-16T12:06:39.314794Z",
     "iopub.status.busy": "2024-05-16T12:06:39.314723Z",
     "iopub.status.idle": "2024-05-16T12:06:39.317374Z",
     "shell.execute_reply": "2024-05-16T12:06:39.317166Z"
    },
    "slideshow": {
     "slide_type": ""
    }
   },
   "outputs": [],
   "source": [
    "def sandwich(bread, meat, cheese, condiment):\n",
    "    desc = \"Here are instructions to make a \" + meat\n",
    "    \n",
    "    if cheese:\n",
    "        desc += \" and \"  + cheese\n",
    "    desc += \" on \" + bread\n",
    "    \n",
    "    if condiment:\n",
    "        desc += \" with \" + condiment\n",
    "    desc += \".\"\n",
    "    \n",
    "    print(desc)\n",
    "    \n",
    "    step = 1\n",
    "    print_step(step, \"Lay out 2 slices of \" + bread + \" bread.\")\n",
    "    step += 1\n",
    "    \n",
    "    if condiment:\n",
    "        print_step(step, \"Spread \" + condiment + \" on both slices of \" + bread + \" bread.\")\n",
    "        step += 1 \n",
    "        \n",
    "    print_step(step, \"Put 3 pieces of \" + meat + \" on one slice of \" + bread + \" bread.\")\n",
    "    step += 1\n",
    "    \n",
    "    if cheese:\n",
    "        print_step(step, \"Put 2 pieces of \" + cheese  + \" on top of the \" + meat + \".\")\n",
    "        step += 1\n",
    "        print_step(step, \"Put the second slice of bread on top of the \" + cheese + \".\")\n",
    "        step += 1\n",
    "    else:\n",
    "        print_step(step, \"Put the second slice of bread on top of the \" + meat + \".\")\n",
    "        step += 1\n",
    "        \n",
    "    print_step(step, \"Cut in half\")\n",
    "    step += 1\n",
    "    \n",
    "    print_step(step, \"Eat!\")"
   ]
  },
  {
   "cell_type": "code",
   "execution_count": null,
   "id": "fbdd906b",
   "metadata": {
    "execution": {
     "iopub.execute_input": "2024-05-16T12:06:39.318682Z",
     "iopub.status.busy": "2024-05-16T12:06:39.318610Z",
     "iopub.status.idle": "2024-05-16T12:06:39.320480Z",
     "shell.execute_reply": "2024-05-16T12:06:39.320273Z"
    },
    "slideshow": {
     "slide_type": "subslide"
    }
   },
   "outputs": [],
   "source": [
    "def print_intro(bread, meat, cheese, condiment):\n",
    "    desc = \"Here are instructions to make a \" + meat\n",
    "    \n",
    "    if cheese:\n",
    "        desc += \" and \"  + cheese\n",
    "    desc += \" on \" + bread\n",
    "    \n",
    "    if condiment:\n",
    "        desc += \" with \" + condiment\n",
    "    desc += \".\"\n",
    "    \n",
    "    print(desc)"
   ]
  },
  {
   "cell_type": "code",
   "execution_count": null,
   "id": "a72679f3",
   "metadata": {
    "execution": {
     "iopub.execute_input": "2024-05-16T12:06:39.321777Z",
     "iopub.status.busy": "2024-05-16T12:06:39.321711Z",
     "iopub.status.idle": "2024-05-16T12:06:39.323350Z",
     "shell.execute_reply": "2024-05-16T12:06:39.323137Z"
    }
   },
   "outputs": [],
   "source": [
    "print_intro(\"sourdough\", \"turkey\", \"swiss\", \"mustard\")"
   ]
  },
  {
   "cell_type": "code",
   "execution_count": null,
   "id": "c1eaee98",
   "metadata": {
    "execution": {
     "iopub.execute_input": "2024-05-16T12:06:39.324577Z",
     "iopub.status.busy": "2024-05-16T12:06:39.324510Z",
     "iopub.status.idle": "2024-05-16T12:06:39.326094Z",
     "shell.execute_reply": "2024-05-16T12:06:39.325856Z"
    }
   },
   "outputs": [],
   "source": [
    "print_intro(\"sourdough\", \"turkey\", \"\", \"mustard\")"
   ]
  },
  {
   "cell_type": "code",
   "execution_count": null,
   "id": "c4b86bbb",
   "metadata": {
    "execution": {
     "iopub.execute_input": "2024-05-16T12:06:39.327361Z",
     "iopub.status.busy": "2024-05-16T12:06:39.327292Z",
     "iopub.status.idle": "2024-05-16T12:06:39.328904Z",
     "shell.execute_reply": "2024-05-16T12:06:39.328658Z"
    }
   },
   "outputs": [],
   "source": [
    "print_intro(\"sourdough\", \"turkey\", \"swiss\", \"\")"
   ]
  },
  {
   "cell_type": "code",
   "execution_count": null,
   "id": "da86a61c",
   "metadata": {
    "execution": {
     "iopub.execute_input": "2024-05-16T12:06:39.330230Z",
     "iopub.status.busy": "2024-05-16T12:06:39.330159Z",
     "iopub.status.idle": "2024-05-16T12:06:39.332713Z",
     "shell.execute_reply": "2024-05-16T12:06:39.332483Z"
    },
    "slideshow": {
     "slide_type": "subslide"
    }
   },
   "outputs": [],
   "source": [
    "def sandwich(bread, meat, cheese, condiment):\n",
    "    print_intro(bread, meat, cheese, condiment)\n",
    "    \n",
    "    step = 1\n",
    "    print_step(step, \"Lay out 2 slices of \" + bread + \" bread.\")\n",
    "    step += 1\n",
    "    \n",
    "    if condiment:\n",
    "        print_step(step, \"Spread \" + condiment + \" on both slices of \" + bread + \" bread.\")\n",
    "        step += 1 \n",
    "        \n",
    "    print_step(step, \"Put 3 pieces of \" + meat + \" on one slice of \" + bread + \" bread.\")\n",
    "    step += 1\n",
    "    \n",
    "    if cheese:\n",
    "        print_step(step, \"Put 2 pieces of \" + cheese  + \" on top of the \" + meat + \".\")\n",
    "        step += 1\n",
    "        print_step(step, \"Put the second slice of bread on top of the \" + cheese + \".\")\n",
    "        step += 1\n",
    "    else:\n",
    "        print_step(step, \"Put the second slice of bread on top of the \" + meat + \".\")\n",
    "        step += 1\n",
    "        \n",
    "    print_step(step, \"Cut in half\")\n",
    "    step += 1\n",
    "    \n",
    "    print_step(step, \"Eat!\")"
   ]
  },
  {
   "cell_type": "code",
   "execution_count": null,
   "id": "c72f94a9",
   "metadata": {
    "execution": {
     "iopub.execute_input": "2024-05-16T12:06:39.334017Z",
     "iopub.status.busy": "2024-05-16T12:06:39.333947Z",
     "iopub.status.idle": "2024-05-16T12:06:39.335591Z",
     "shell.execute_reply": "2024-05-16T12:06:39.335367Z"
    }
   },
   "outputs": [],
   "source": [
    "sandwich(\"sourdough\", \"turkey\", \"swiss\", \"mustard\")"
   ]
  },
  {
   "cell_type": "markdown",
   "id": "6c04f8b6",
   "metadata": {
    "slideshow": {
     "slide_type": "subslide"
    }
   },
   "source": [
    "The intro was easy to \"factor out\".\n",
    "\n",
    "The rest is trickier - we need to keep track of which step we're on."
   ]
  },
  {
   "cell_type": "markdown",
   "id": "6ad1f0c6",
   "metadata": {
    "slideshow": {
     "slide_type": "fragment"
    }
   },
   "source": [
    "`return` to the rescue!"
   ]
  },
  {
   "cell_type": "markdown",
   "id": "29bb48b1",
   "metadata": {
    "slideshow": {
     "slide_type": "subslide"
    }
   },
   "source": [
    "The code that handles (optionally) adding the condiment looks like it could move to its own function. Let's try it."
   ]
  },
  {
   "cell_type": "code",
   "execution_count": null,
   "id": "c30585fb",
   "metadata": {
    "execution": {
     "iopub.execute_input": "2024-05-16T12:06:39.337093Z",
     "iopub.status.busy": "2024-05-16T12:06:39.337004Z",
     "iopub.status.idle": "2024-05-16T12:06:39.338770Z",
     "shell.execute_reply": "2024-05-16T12:06:39.338520Z"
    }
   },
   "outputs": [],
   "source": [
    "# Attempt 1: return whether or not a step was used\n",
    "def print_condiment_step(num, bread, condiment):\n",
    "    if condiment:\n",
    "        print_step(num, \"Spread \" + condiment + \" on both slices of \" + bread + \" bread.\")\n",
    "        return True\n",
    "    return False"
   ]
  },
  {
   "cell_type": "code",
   "execution_count": null,
   "id": "3c78c035",
   "metadata": {
    "execution": {
     "iopub.execute_input": "2024-05-16T12:06:39.340064Z",
     "iopub.status.busy": "2024-05-16T12:06:39.339974Z",
     "iopub.status.idle": "2024-05-16T12:06:39.342540Z",
     "shell.execute_reply": "2024-05-16T12:06:39.342290Z"
    },
    "slideshow": {
     "slide_type": "subslide"
    }
   },
   "outputs": [],
   "source": [
    "def sandwich(bread, meat, cheese, condiment):\n",
    "    print_intro(bread, meat, cheese, condiment)\n",
    "    step = 1\n",
    "\n",
    "    print_step(step, \"Lay out 2 slices of \" + bread + \" bread.\")\n",
    "    step += 1\n",
    "    \n",
    "    used_condiment = print_condiment_step(step, bread, condiment)\n",
    "    if used_condiment:\n",
    "        step += 1\n",
    "        \n",
    "    print_step(step, \"Put 3 pieces of \" + meat + \" on one slice of \" + bread + \" bread.\")\n",
    "    step += 1\n",
    "    \n",
    "    if cheese:\n",
    "        print_step(step, \"Put 2 pieces of \" + cheese  + \" on top of the \" + meat + \".\")\n",
    "        step += 1\n",
    "        print_step(step, \"Put the second slice of bread on top of the \" + cheese + \".\")\n",
    "        step += 1\n",
    "    else:\n",
    "        print_step(step, \"Put the second slice of bread on top of the \" + meat + \".\")\n",
    "        step += 1\n",
    "        \n",
    "    print_step(step, \"Cut in half\")\n",
    "    step += 1\n",
    "    \n",
    "    print_step(step, \"Eat!\")"
   ]
  },
  {
   "cell_type": "code",
   "execution_count": null,
   "id": "4e15b21f",
   "metadata": {
    "execution": {
     "iopub.execute_input": "2024-05-16T12:06:39.343825Z",
     "iopub.status.busy": "2024-05-16T12:06:39.343749Z",
     "iopub.status.idle": "2024-05-16T12:06:39.345404Z",
     "shell.execute_reply": "2024-05-16T12:06:39.345171Z"
    }
   },
   "outputs": [],
   "source": [
    "sandwich(\"sourdough\", \"turkey\", \"swiss\", \"mustard\")"
   ]
  },
  {
   "cell_type": "markdown",
   "id": "2e4de1e9",
   "metadata": {
    "slideshow": {
     "slide_type": "subslide"
    }
   },
   "source": [
    "This is ok... it works. But the code in `sandwich` is just a complicated as before:\n",
    "\n",
    "```\n",
    "if condiment:\n",
    "    print_step(step, \"Spread \" + condiment + \" on both slices of \" + bread + \" bread.\")\n",
    "    step += 1 \n",
    "```\n",
    "vs.\n",
    "```\n",
    "used_condiment = print_condiment_step(step, bread, condiment)\n",
    "if used_condiment:\n",
    "    step += 1\n",
    "```\n",
    "We can do better!"
   ]
  },
  {
   "cell_type": "code",
   "execution_count": null,
   "id": "e6c2d39f",
   "metadata": {
    "execution": {
     "iopub.execute_input": "2024-05-16T12:06:39.346840Z",
     "iopub.status.busy": "2024-05-16T12:06:39.346766Z",
     "iopub.status.idle": "2024-05-16T12:06:39.348729Z",
     "shell.execute_reply": "2024-05-16T12:06:39.348480Z"
    },
    "slideshow": {
     "slide_type": "subslide"
    }
   },
   "outputs": [],
   "source": [
    "def print_condiment_step(num, bread, condiment):\n",
    "    if condiment:\n",
    "        print_step(num, \"Spread \" + condiment + \" on both slices of \" + bread + \" bread.\")\n",
    "        num += 1\n",
    "    return num"
   ]
  },
  {
   "cell_type": "code",
   "execution_count": null,
   "id": "659a6458",
   "metadata": {
    "execution": {
     "iopub.execute_input": "2024-05-16T12:06:39.350047Z",
     "iopub.status.busy": "2024-05-16T12:06:39.349973Z",
     "iopub.status.idle": "2024-05-16T12:06:39.352383Z",
     "shell.execute_reply": "2024-05-16T12:06:39.352123Z"
    },
    "slideshow": {
     "slide_type": "subslide"
    }
   },
   "outputs": [],
   "source": [
    "def sandwich(bread, meat, cheese, condiment):\n",
    "    print_intro(bread, meat, cheese, condiment)\n",
    "    step = 1\n",
    "\n",
    "    print_step(step, \"Lay out 2 slices of \" + bread + \" bread.\")\n",
    "    step += 1\n",
    "    \n",
    "    step = print_condiment_step(step, bread, condiment)\n",
    "        \n",
    "    print_step(step, \"Put 3 pieces of \" + meat + \" on one slice of \" + bread + \" bread.\")\n",
    "    step += 1\n",
    "    \n",
    "    if cheese:\n",
    "        print_step(step, \"Put 2 pieces of \" + cheese  + \" on top of the \" + meat + \".\")\n",
    "        step += 1\n",
    "        print_step(step, \"Put the second slice of bread on top of the \" + cheese + \".\")\n",
    "        step += 1\n",
    "    else:\n",
    "        print_step(step, \"Put the second slice of bread on top of the \" + meat + \".\")\n",
    "        step += 1\n",
    "        \n",
    "    print_step(step, \"Cut in half\")\n",
    "    step += 1\n",
    "    \n",
    "    print_step(step, \"Eat!\")"
   ]
  },
  {
   "cell_type": "code",
   "execution_count": null,
   "id": "5fb3160f",
   "metadata": {
    "execution": {
     "iopub.execute_input": "2024-05-16T12:06:39.353727Z",
     "iopub.status.busy": "2024-05-16T12:06:39.353652Z",
     "iopub.status.idle": "2024-05-16T12:06:39.355340Z",
     "shell.execute_reply": "2024-05-16T12:06:39.355066Z"
    },
    "slideshow": {
     "slide_type": "subslide"
    }
   },
   "outputs": [],
   "source": [
    "sandwich(\"sourdough\", \"turkey\", \"swiss\", \"mustard\")"
   ]
  },
  {
   "cell_type": "code",
   "execution_count": null,
   "id": "1f8e5a36",
   "metadata": {
    "execution": {
     "iopub.execute_input": "2024-05-16T12:06:39.356586Z",
     "iopub.status.busy": "2024-05-16T12:06:39.356515Z",
     "iopub.status.idle": "2024-05-16T12:06:39.358018Z",
     "shell.execute_reply": "2024-05-16T12:06:39.357789Z"
    },
    "slideshow": {
     "slide_type": ""
    }
   },
   "outputs": [],
   "source": [
    "sandwich(\"sourdough\", \"turkey\", \"swiss\", \"\")"
   ]
  },
  {
   "cell_type": "markdown",
   "id": "65e8aaeb",
   "metadata": {
    "slideshow": {
     "slide_type": "subslide"
    }
   },
   "source": [
    "The code that handles (optionally) adding the cheese and second slice of bread is all related. Let's try moving it to a function too."
   ]
  },
  {
   "cell_type": "code",
   "execution_count": null,
   "id": "78321909",
   "metadata": {
    "execution": {
     "iopub.execute_input": "2024-05-16T12:06:39.359414Z",
     "iopub.status.busy": "2024-05-16T12:06:39.359323Z",
     "iopub.status.idle": "2024-05-16T12:06:39.361647Z",
     "shell.execute_reply": "2024-05-16T12:06:39.361426Z"
    },
    "slideshow": {
     "slide_type": ""
    }
   },
   "outputs": [],
   "source": [
    "def sandwich(bread, meat, cheese, condiment):\n",
    "    print_intro(bread, meat, cheese, condiment)\n",
    "    \n",
    "    step = 1\n",
    "    print_step(step, \"Lay out 2 slices of \" + bread + \" bread.\")\n",
    "    step += 1\n",
    "    \n",
    "    step = print_condiment_step(step, bread, condiment)\n",
    "        \n",
    "    print_step(step, \"Put 3 pieces of \" + meat + \" on one slice of \" + bread + \" bread.\")\n",
    "    step += 1\n",
    "    \n",
    "    if cheese:\n",
    "        print_step(step, \"Put 2 pieces of \" + cheese  + \" on top of the \" + meat + \".\")\n",
    "        step += 1\n",
    "        print_step(step, \"Put the second slice of bread on top of the \" + cheese + \".\")\n",
    "        step += 1\n",
    "    else:\n",
    "        print_step(step, \"Put the second slice of bread on top of the \" + meat + \".\")\n",
    "        step += 1\n",
    "        \n",
    "    print_step(step, \"Cut in half\")\n",
    "    step += 1\n",
    "    \n",
    "    print_step(step, \"Eat!\")"
   ]
  },
  {
   "cell_type": "code",
   "execution_count": null,
   "id": "d98ed59c",
   "metadata": {
    "execution": {
     "iopub.execute_input": "2024-05-16T12:06:39.362952Z",
     "iopub.status.busy": "2024-05-16T12:06:39.362867Z",
     "iopub.status.idle": "2024-05-16T12:06:39.364730Z",
     "shell.execute_reply": "2024-05-16T12:06:39.364519Z"
    },
    "slideshow": {
     "slide_type": "subslide"
    }
   },
   "outputs": [],
   "source": [
    "def print_second_slice_instructions(num, cheese, meat):\n",
    "    if cheese:\n",
    "        print_step(num, \"Put 2 pieces of \" + cheese  + \" on top of the \" + meat + \".\")\n",
    "        num += 1\n",
    "        print_step(num, \"Put the second slice of bread on top of the \" + cheese + \".\")\n",
    "        num += 1\n",
    "    else:\n",
    "        print_step(num, \"Put the second slice of bread on top of the \" + meat + \".\")\n",
    "        num += 1\n",
    "    return num"
   ]
  },
  {
   "cell_type": "code",
   "execution_count": null,
   "id": "5d009122",
   "metadata": {
    "execution": {
     "iopub.execute_input": "2024-05-16T12:06:39.366126Z",
     "iopub.status.busy": "2024-05-16T12:06:39.366040Z",
     "iopub.status.idle": "2024-05-16T12:06:39.368137Z",
     "shell.execute_reply": "2024-05-16T12:06:39.367935Z"
    },
    "slideshow": {
     "slide_type": "subslide"
    }
   },
   "outputs": [],
   "source": [
    "def sandwich(bread, meat, cheese, condiment):\n",
    "    print_intro(bread, meat, cheese, condiment)\n",
    "    \n",
    "    step = 1\n",
    "    print_step(step, \"Lay out 2 slices of \" + bread + \" bread.\")\n",
    "    step += 1\n",
    "    \n",
    "    if condiment:\n",
    "        print_step(step, \"Spread \" + condiment + \" on both slices of \" + bread + \" bread.\")\n",
    "        step += 1 \n",
    "        \n",
    "    print_step(step, \"Put 3 pieces of \" + meat + \" on one slice of \" + bread + \" bread.\")\n",
    "    step += 1\n",
    "    \n",
    "    step = print_second_slice_instructions(step, cheese, meat)\n",
    "        \n",
    "    print_step(step, \"Cut in half\")\n",
    "    step += 1\n",
    "    \n",
    "    print_step(step, \"Eat!\")"
   ]
  },
  {
   "cell_type": "code",
   "execution_count": null,
   "id": "d4d5413a",
   "metadata": {
    "execution": {
     "iopub.execute_input": "2024-05-16T12:06:39.369455Z",
     "iopub.status.busy": "2024-05-16T12:06:39.369368Z",
     "iopub.status.idle": "2024-05-16T12:06:39.370880Z",
     "shell.execute_reply": "2024-05-16T12:06:39.370661Z"
    },
    "slideshow": {
     "slide_type": "subslide"
    }
   },
   "outputs": [],
   "source": [
    "sandwich(\"sourdough\", \"turkey\", \"swiss\", \"mustard\")"
   ]
  },
  {
   "cell_type": "code",
   "execution_count": null,
   "id": "d8b4aec1",
   "metadata": {
    "execution": {
     "iopub.execute_input": "2024-05-16T12:06:39.372240Z",
     "iopub.status.busy": "2024-05-16T12:06:39.372169Z",
     "iopub.status.idle": "2024-05-16T12:06:39.373903Z",
     "shell.execute_reply": "2024-05-16T12:06:39.373692Z"
    }
   },
   "outputs": [],
   "source": [
    "sandwich(\"sourdough\", \"turkey\", \"\", \"mustard\")"
   ]
  },
  {
   "cell_type": "markdown",
   "id": "b81b0ebe",
   "metadata": {
    "slideshow": {
     "slide_type": "subslide"
    }
   },
   "source": [
    "We can do the same thing for other parts of our function:"
   ]
  },
  {
   "cell_type": "code",
   "execution_count": null,
   "id": "2f311e74",
   "metadata": {
    "execution": {
     "iopub.execute_input": "2024-05-16T12:06:39.375216Z",
     "iopub.status.busy": "2024-05-16T12:06:39.375147Z",
     "iopub.status.idle": "2024-05-16T12:06:39.376855Z",
     "shell.execute_reply": "2024-05-16T12:06:39.376629Z"
    },
    "slideshow": {
     "slide_type": "subslide"
    }
   },
   "outputs": [],
   "source": [
    "def print_cut_and_eat(num):\n",
    "    print_step(num, \"Cut in half\")\n",
    "    num += 1\n",
    "    print_step(num, \"Eat!\")"
   ]
  },
  {
   "cell_type": "code",
   "execution_count": null,
   "id": "b2922775",
   "metadata": {
    "execution": {
     "iopub.execute_input": "2024-05-16T12:06:39.378117Z",
     "iopub.status.busy": "2024-05-16T12:06:39.378047Z",
     "iopub.status.idle": "2024-05-16T12:06:39.380095Z",
     "shell.execute_reply": "2024-05-16T12:06:39.379871Z"
    },
    "slideshow": {
     "slide_type": "subslide"
    }
   },
   "outputs": [],
   "source": [
    "def sandwich(bread, meat, cheese, condiment):\n",
    "    print_intro(bread, meat, cheese, condiment)\n",
    "    step = 1\n",
    "\n",
    "    print_step(step, \"Lay out 2 slices of \" + bread + \" bread.\")\n",
    "    step += 1\n",
    "    \n",
    "    step = print_condiment_step(step, bread, condiment)\n",
    "        \n",
    "    print_step(step, \"Put 3 pieces of \" + meat + \" on one slice of \" + bread + \" bread.\")\n",
    "    step += 1\n",
    "    \n",
    "    step = print_second_slice_instructions(step, cheese, meat)\n",
    "       \n",
    "    print_cut_and_eat(step)"
   ]
  },
  {
   "cell_type": "code",
   "execution_count": null,
   "id": "c3b248d2",
   "metadata": {
    "execution": {
     "iopub.execute_input": "2024-05-16T12:06:39.381418Z",
     "iopub.status.busy": "2024-05-16T12:06:39.381346Z",
     "iopub.status.idle": "2024-05-16T12:06:39.383060Z",
     "shell.execute_reply": "2024-05-16T12:06:39.382828Z"
    }
   },
   "outputs": [],
   "source": [
    "sandwich(\"sourdough\", \"turkey\", \"swiss\", \"mustard\")"
   ]
  },
  {
   "cell_type": "markdown",
   "id": "984bf1a3",
   "metadata": {
    "slideshow": {
     "slide_type": "subslide"
    }
   },
   "source": [
    "The rest of the steps are probably too simple to warrant their own functions. But let's move them anyway to make everything look consistent."
   ]
  },
  {
   "cell_type": "code",
   "execution_count": null,
   "id": "49988dd7",
   "metadata": {
    "execution": {
     "iopub.execute_input": "2024-05-16T12:06:39.384359Z",
     "iopub.status.busy": "2024-05-16T12:06:39.384288Z",
     "iopub.status.idle": "2024-05-16T12:06:39.386163Z",
     "shell.execute_reply": "2024-05-16T12:06:39.385952Z"
    }
   },
   "outputs": [],
   "source": [
    "def print_bread_step(num, bread):\n",
    "    print_step(num, \"Lay out 2 slices of \" + bread + \" bread.\")\n",
    "    return num + 1\n",
    "\n",
    "def print_meat_step(num, meat, bread):\n",
    "    print_step(num, \"Put 3 pieces of \" + meat + \" on one slice of \" + bread + \" bread.\")\n",
    "    return num + 1"
   ]
  },
  {
   "cell_type": "code",
   "execution_count": null,
   "id": "713b47ab",
   "metadata": {
    "execution": {
     "iopub.execute_input": "2024-05-16T12:06:39.387420Z",
     "iopub.status.busy": "2024-05-16T12:06:39.387351Z",
     "iopub.status.idle": "2024-05-16T12:06:39.389245Z",
     "shell.execute_reply": "2024-05-16T12:06:39.389041Z"
    },
    "slideshow": {
     "slide_type": "subslide"
    }
   },
   "outputs": [],
   "source": [
    "def sandwich(bread, meat, cheese, condiment):\n",
    "    print_intro(bread, meat, cheese, condiment)\n",
    "    step = 1\n",
    "    \n",
    "    step = print_bread_step(step, bread)\n",
    "    step = print_condiment_step(step, bread, condiment)\n",
    "    step = print_meat_step(step, meat, bread)\n",
    "    step = print_second_slice_instructions(step, cheese, meat)\n",
    "    \n",
    "    print_cut_and_eat(step)"
   ]
  },
  {
   "cell_type": "code",
   "execution_count": null,
   "id": "2c52abe8",
   "metadata": {
    "execution": {
     "iopub.execute_input": "2024-05-16T12:06:39.390529Z",
     "iopub.status.busy": "2024-05-16T12:06:39.390464Z",
     "iopub.status.idle": "2024-05-16T12:06:39.392035Z",
     "shell.execute_reply": "2024-05-16T12:06:39.391814Z"
    },
    "slideshow": {
     "slide_type": "subslide"
    }
   },
   "outputs": [],
   "source": [
    "sandwich(\"sourdough\", \"turkey\", \"swiss\", \"mustard\")"
   ]
  },
  {
   "cell_type": "code",
   "execution_count": null,
   "id": "94ccc83f",
   "metadata": {
    "execution": {
     "iopub.execute_input": "2024-05-16T12:06:39.393276Z",
     "iopub.status.busy": "2024-05-16T12:06:39.393206Z",
     "iopub.status.idle": "2024-05-16T12:06:39.394843Z",
     "shell.execute_reply": "2024-05-16T12:06:39.394630Z"
    }
   },
   "outputs": [],
   "source": [
    "sandwich(\"sourdough\", \"turkey\", \"\", \"mustard\")"
   ]
  },
  {
   "cell_type": "markdown",
   "id": "f06c8b9e",
   "metadata": {
    "slideshow": {
     "slide_type": "subslide"
    }
   },
   "source": [
    "All of the final code in one place:"
   ]
  },
  {
   "cell_type": "code",
   "execution_count": null,
   "id": "f9e75727",
   "metadata": {
    "execution": {
     "iopub.execute_input": "2024-05-16T12:06:39.396228Z",
     "iopub.status.busy": "2024-05-16T12:06:39.396143Z",
     "iopub.status.idle": "2024-05-16T12:06:39.399750Z",
     "shell.execute_reply": "2024-05-16T12:06:39.399530Z"
    }
   },
   "outputs": [],
   "source": [
    "def print_step(step_num, instruction):\n",
    "    print(\"Step \" + str(step_num) + \": \" + instruction)\n",
    "    \n",
    "    \n",
    "def print_intro(bread, meat, cheese, condiment):\n",
    "    desc = \"Here are instructions to make a \" + meat\n",
    "    \n",
    "    if cheese:\n",
    "        desc += \" and \"  + cheese\n",
    "    desc += \" on \" + bread\n",
    "    \n",
    "    if condiment:\n",
    "        desc += \" with \" + condiment\n",
    "    desc += \".\"\n",
    "    \n",
    "    print(desc)\n",
    "    \n",
    "\n",
    "def print_bread_step(num, bread):\n",
    "    print_step(num, \"Lay out 2 slices of \" + bread + \" bread.\")\n",
    "    return num + 1\n",
    "\n",
    "\n",
    "def print_condiment_step(num, bread, condiment):\n",
    "    if condiment:\n",
    "        print_step(num, \"Spread \" + condiment + \" on both slices of \" + bread + \" bread.\")\n",
    "        num += 1\n",
    "    return num\n",
    "\n",
    "\n",
    "def print_second_slice_instructions(num, cheese, meat):\n",
    "    if cheese:\n",
    "        print_step(num, \"Put 2 pieces of \" + cheese  + \" on top of the \" + meat + \".\")\n",
    "        num += 1\n",
    "        print_step(num, \"Put the second slice of bread on top of the \" + cheese + \".\")\n",
    "        num += 1\n",
    "    else:\n",
    "        print_step(num, \"Put the second slice of bread on top of the \" + meat + \".\")\n",
    "        num += 1\n",
    "    return num\n",
    "\n",
    "\n",
    "def print_meat_step(num, meat, bread):\n",
    "    print_step(num, \"Put 3 pieces of \" + meat + \" on one slice of \" + bread + \" bread.\")\n",
    "    return num + 1\n",
    "\n",
    "\n",
    "def print_cut_and_eat(num):\n",
    "    print_step(num, \"Cut in half\")\n",
    "    num += 1\n",
    "    print_step(num, \"Eat!\")    \n",
    "    \n",
    "    \n",
    "def sandwich(bread, meat, cheese, condiment):\n",
    "    print_intro(bread, meat, cheese, condiment)\n",
    "    step = 1\n",
    "\n",
    "    step = print_bread_step(step, bread)\n",
    "    step = print_condiment_step(step, bread, condiment)\n",
    "    step = print_meat_step(step, meat, bread)\n",
    "    step = print_second_slice_instructions(step, cheese, meat)\n",
    "       \n",
    "    print_cut_and_eat(step)"
   ]
  },
  {
   "cell_type": "code",
   "execution_count": null,
   "id": "e27d8528",
   "metadata": {
    "execution": {
     "iopub.execute_input": "2024-05-16T12:06:39.401024Z",
     "iopub.status.busy": "2024-05-16T12:06:39.400957Z",
     "iopub.status.idle": "2024-05-16T12:06:39.402555Z",
     "shell.execute_reply": "2024-05-16T12:06:39.402339Z"
    },
    "slideshow": {
     "slide_type": "subslide"
    }
   },
   "outputs": [],
   "source": [
    "sandwich(\"sourdough\", \"turkey\", \"swiss\", \"mustard\")"
   ]
  },
  {
   "cell_type": "code",
   "execution_count": null,
   "id": "3c6a42db",
   "metadata": {
    "execution": {
     "iopub.execute_input": "2024-05-16T12:06:39.403837Z",
     "iopub.status.busy": "2024-05-16T12:06:39.403751Z",
     "iopub.status.idle": "2024-05-16T12:06:39.405315Z",
     "shell.execute_reply": "2024-05-16T12:06:39.405098Z"
    },
    "slideshow": {
     "slide_type": ""
    }
   },
   "outputs": [],
   "source": [
    "sandwich(\"sourdough\", \"turkey\", \"\", \"mustard\")"
   ]
  },
  {
   "cell_type": "code",
   "execution_count": null,
   "id": "9a7c16bc",
   "metadata": {
    "execution": {
     "iopub.execute_input": "2024-05-16T12:06:39.406567Z",
     "iopub.status.busy": "2024-05-16T12:06:39.406500Z",
     "iopub.status.idle": "2024-05-16T12:06:39.408064Z",
     "shell.execute_reply": "2024-05-16T12:06:39.407847Z"
    },
    "slideshow": {
     "slide_type": "subslide"
    }
   },
   "outputs": [],
   "source": [
    "sandwich(\"sourdough\", \"turkey\", \"swiss\", \"\")"
   ]
  },
  {
   "cell_type": "code",
   "execution_count": null,
   "id": "871e1ee8",
   "metadata": {
    "execution": {
     "iopub.execute_input": "2024-05-16T12:06:39.409305Z",
     "iopub.status.busy": "2024-05-16T12:06:39.409237Z",
     "iopub.status.idle": "2024-05-16T12:06:39.410892Z",
     "shell.execute_reply": "2024-05-16T12:06:39.410668Z"
    },
    "slideshow": {
     "slide_type": ""
    }
   },
   "outputs": [],
   "source": [
    "sandwich(\"sourdough\", \"turkey\", \"\", \"\")"
   ]
  },
  {
   "cell_type": "markdown",
   "id": "2678db98",
   "metadata": {
    "slideshow": {
     "slide_type": "subslide"
    }
   },
   "source": [
    "## But wait... that's more code!\n",
    "\n",
    "We split our function up because it was too long... but ended up with more code?!"
   ]
  },
  {
   "cell_type": "markdown",
   "id": "63a81c85",
   "metadata": {
    "slideshow": {
     "slide_type": "fragment"
    }
   },
   "source": [
    "The overall code is longer, but each piece of code is smaller and simpler.\n",
    "\n",
    "The goal is not to write the shortest code.\n",
    "\n",
    "The goal is to write **correct** and **understandable** code!\n",
    "\n",
    "**Decomposition** helps with this. It takes practice, but it pays off."
   ]
  },
  {
   "cell_type": "markdown",
   "id": "1a9a1bbf",
   "metadata": {
    "slideshow": {
     "slide_type": "slide"
    }
   },
   "source": [
    "What do each of these functions **return**?\n",
    "* Describe the return value in terms of the function parameters\n",
    "* Give the data type that is returned\n",
    "* Give an example of inputs and the return value those inputs would produce"
   ]
  },
  {
   "cell_type": "code",
   "execution_count": null,
   "id": "f68324a2",
   "metadata": {
    "execution": {
     "iopub.execute_input": "2024-05-16T12:06:39.412342Z",
     "iopub.status.busy": "2024-05-16T12:06:39.412273Z",
     "iopub.status.idle": "2024-05-16T12:06:39.414427Z",
     "shell.execute_reply": "2024-05-16T12:06:39.414217Z"
    }
   },
   "outputs": [],
   "source": [
    "def append_number(value, number):\n",
    "    return value + str(number)\n",
    "\n",
    "def add_one_and_double(number):\n",
    "    return (number + 1) * 2\n",
    "\n",
    "def divide_by_seven(value):\n",
    "    print(str(int(value) / 7)\n",
    "\n",
    "def add_one_to_str(value):\n",
    "    return str(int(value) + 1)\n",
    "\n"
   ]
  },
  {
   "cell_type": "markdown",
   "id": "bbfe6bf5",
   "metadata": {
    "slideshow": {
     "slide_type": "slide"
    }
   },
   "source": [
    "You are given these 3 functions: `square`, `mod`, and `subtract_3`. Predict what the given code will print."
   ]
  },
  {
   "cell_type": "code",
   "execution_count": null,
   "id": "3ba86cac",
   "metadata": {
    "execution": {
     "iopub.execute_input": "2024-05-16T12:06:39.415807Z",
     "iopub.status.busy": "2024-05-16T12:06:39.415736Z",
     "iopub.status.idle": "2024-05-16T12:06:39.417503Z",
     "shell.execute_reply": "2024-05-16T12:06:39.417295Z"
    },
    "slideshow": {
     "slide_type": ""
    }
   },
   "outputs": [],
   "source": [
    "def square(value):\n",
    "    return value * value\n",
    "\n",
    "\n",
    "def mod(value, divisor):\n",
    "    return value % divisor\n",
    "\n",
    "\n",
    "def subtract_3(value):\n",
    "    return value - 3"
   ]
  },
  {
   "cell_type": "code",
   "execution_count": null,
   "id": "3a370a06",
   "metadata": {
    "execution": {
     "iopub.execute_input": "2024-05-16T12:06:39.418741Z",
     "iopub.status.busy": "2024-05-16T12:06:39.418672Z",
     "iopub.status.idle": "2024-05-16T12:06:39.420176Z",
     "shell.execute_reply": "2024-05-16T12:06:39.419942Z"
    }
   },
   "outputs": [],
   "source": [
    "answer = subtract_3(square(6))\n",
    "print(answer)"
   ]
  },
  {
   "cell_type": "code",
   "execution_count": null,
   "id": "b705bd6d",
   "metadata": {
    "execution": {
     "iopub.execute_input": "2024-05-16T12:06:39.421471Z",
     "iopub.status.busy": "2024-05-16T12:06:39.421404Z",
     "iopub.status.idle": "2024-05-16T12:06:39.423160Z",
     "shell.execute_reply": "2024-05-16T12:06:39.422894Z"
    },
    "slideshow": {
     "slide_type": "slide"
    }
   },
   "outputs": [],
   "source": [
    "def square(value):\n",
    "    return value * value\n",
    "\n",
    "\n",
    "def mod(value, divisor):\n",
    "    return value % divisor\n",
    "\n",
    "\n",
    "def subtract_3(value):\n",
    "    return value - 3"
   ]
  },
  {
   "cell_type": "code",
   "execution_count": null,
   "id": "d1d9708b",
   "metadata": {
    "execution": {
     "iopub.execute_input": "2024-05-16T12:06:39.424424Z",
     "iopub.status.busy": "2024-05-16T12:06:39.424356Z",
     "iopub.status.idle": "2024-05-16T12:06:39.425963Z",
     "shell.execute_reply": "2024-05-16T12:06:39.425750Z"
    }
   },
   "outputs": [],
   "source": [
    "answer = subtract_3(square(mod(17, 5)))\n",
    "print(answer)"
   ]
  },
  {
   "cell_type": "code",
   "execution_count": null,
   "id": "85534086",
   "metadata": {
    "execution": {
     "iopub.execute_input": "2024-05-16T12:06:39.427243Z",
     "iopub.status.busy": "2024-05-16T12:06:39.427156Z",
     "iopub.status.idle": "2024-05-16T12:06:39.428834Z",
     "shell.execute_reply": "2024-05-16T12:06:39.428616Z"
    },
    "slideshow": {
     "slide_type": "slide"
    }
   },
   "outputs": [],
   "source": [
    "def square(value):\n",
    "    return value * value\n",
    "\n",
    "\n",
    "def mod(value, divisor):\n",
    "    return value % divisor\n",
    "\n",
    "\n",
    "def subtract_3(value):\n",
    "    return value - 3"
   ]
  },
  {
   "cell_type": "code",
   "execution_count": null,
   "id": "9f479b50",
   "metadata": {
    "execution": {
     "iopub.execute_input": "2024-05-16T12:06:39.430224Z",
     "iopub.status.busy": "2024-05-16T12:06:39.430150Z",
     "iopub.status.idle": "2024-05-16T12:06:39.431852Z",
     "shell.execute_reply": "2024-05-16T12:06:39.431608Z"
    }
   },
   "outputs": [],
   "source": [
    "answer = square(square(square(3)))\n",
    "print(answer)"
   ]
  },
  {
   "cell_type": "code",
   "execution_count": null,
   "id": "672fb977",
   "metadata": {
    "execution": {
     "iopub.execute_input": "2024-05-16T12:06:39.433140Z",
     "iopub.status.busy": "2024-05-16T12:06:39.433073Z",
     "iopub.status.idle": "2024-05-16T12:06:39.434717Z",
     "shell.execute_reply": "2024-05-16T12:06:39.434489Z"
    },
    "slideshow": {
     "slide_type": "slide"
    }
   },
   "outputs": [],
   "source": [
    "def square(value):\n",
    "    return value * value\n",
    "\n",
    "\n",
    "def mod(value, divisor):\n",
    "    return value % divisor\n",
    "\n",
    "\n",
    "def subtract_3(value):\n",
    "    return value - 3"
   ]
  },
  {
   "cell_type": "code",
   "execution_count": null,
   "id": "be167bc6",
   "metadata": {
    "execution": {
     "iopub.execute_input": "2024-05-16T12:06:39.435952Z",
     "iopub.status.busy": "2024-05-16T12:06:39.435885Z",
     "iopub.status.idle": "2024-05-16T12:06:39.437462Z",
     "shell.execute_reply": "2024-05-16T12:06:39.437239Z"
    }
   },
   "outputs": [],
   "source": [
    "answer = mod(28, square(subtract_3(7)))\n",
    "print(answer)"
   ]
  },
  {
   "cell_type": "code",
   "execution_count": null,
   "id": "67006b61",
   "metadata": {
    "execution": {
     "iopub.execute_input": "2024-05-16T12:06:39.438751Z",
     "iopub.status.busy": "2024-05-16T12:06:39.438684Z",
     "iopub.status.idle": "2024-05-16T12:06:39.440253Z",
     "shell.execute_reply": "2024-05-16T12:06:39.440028Z"
    },
    "slideshow": {
     "slide_type": "slide"
    }
   },
   "outputs": [],
   "source": [
    "def square(value):\n",
    "    return value * value\n",
    "\n",
    "\n",
    "def mod(value, divisor):\n",
    "    return value % divisor\n",
    "\n",
    "\n",
    "def subtract_3(value):\n",
    "    return value - 3"
   ]
  },
  {
   "cell_type": "code",
   "execution_count": null,
   "id": "b6394d48",
   "metadata": {
    "execution": {
     "iopub.execute_input": "2024-05-16T12:06:39.441512Z",
     "iopub.status.busy": "2024-05-16T12:06:39.441426Z",
     "iopub.status.idle": "2024-05-16T12:06:39.443061Z",
     "shell.execute_reply": "2024-05-16T12:06:39.442838Z"
    }
   },
   "outputs": [],
   "source": [
    "answer = mod(square(7), subtract_3(square(mod(15, 4))))\n",
    "print(answer)"
   ]
  },
  {
   "cell_type": "markdown",
   "id": "dfd8218f",
   "metadata": {
    "slideshow": {
     "slide_type": "slide"
    }
   },
   "source": [
    "# Exercise: Rectangle info\n",
    "\n",
    "[GitHub Classroom -> Class exercises -> Open in GitHub Cospaces](https://classroom.github.com/a/M3gdSqkV)\n",
    "\n",
    "Open the file: `exercises/04/rectangle_info/README.md`, follow the instructions.\n",
    "* If you don't see this folder: Open the file: `get_exercises.sh`, click the \"Run\" button at the top right of the editor.\n"
   ]
  },
  {
   "cell_type": "markdown",
   "id": "614b4478",
   "metadata": {
    "slideshow": {
     "slide_type": "slide"
    }
   },
   "source": [
    "# Scope\n",
    "\n",
    "* A variable's definition is **scoped** to the block of code it is defined in.\n",
    "* A variable defined in a function is only available in that function.\n",
    "* Trying to use a variable outside of its scope is an error."
   ]
  },
  {
   "cell_type": "code",
   "execution_count": null,
   "id": "e01c55c2",
   "metadata": {
    "execution": {
     "iopub.execute_input": "2024-05-16T12:06:39.444441Z",
     "iopub.status.busy": "2024-05-16T12:06:39.444374Z",
     "iopub.status.idle": "2024-05-16T12:06:39.445976Z",
     "shell.execute_reply": "2024-05-16T12:06:39.445752Z"
    },
    "slideshow": {
     "slide_type": "subslide"
    }
   },
   "outputs": [],
   "source": [
    "def house():\n",
    "    furniture = \"couch\"\n",
    "    print(furniture)\n",
    "\n",
    "house()"
   ]
  },
  {
   "cell_type": "code",
   "execution_count": null,
   "id": "5b3f9f6e",
   "metadata": {
    "execution": {
     "iopub.execute_input": "2024-05-16T12:06:39.447242Z",
     "iopub.status.busy": "2024-05-16T12:06:39.447170Z",
     "iopub.status.idle": "2024-05-16T12:06:39.453983Z",
     "shell.execute_reply": "2024-05-16T12:06:39.453745Z"
    }
   },
   "outputs": [],
   "source": [
    "def house():\n",
    "    furniture = \"couch\"\n",
    "\n",
    "house()\n",
    "print(furniture)"
   ]
  },
  {
   "cell_type": "markdown",
   "id": "35a12c3e",
   "metadata": {
    "slideshow": {
     "slide_type": "subslide"
    }
   },
   "source": [
    "# Scope\n",
    "\n",
    "* In Python, there are technically 4 scopes.\n",
    "* You'll only need to be aware of 2:\n",
    "  * **global**: variables defined outside of a function\n",
    "  * **local**: variables defined inside a function\n",
    "* Remember: variables are defined when they are first assigned to. Their scope is determined by where that first assignment happens."
   ]
  },
  {
   "cell_type": "markdown",
   "id": "9c9024b6",
   "metadata": {
    "slideshow": {
     "slide_type": "subslide"
    }
   },
   "source": [
    "If you're curious, the other 2 scopes are:\n",
    "* **enclosing**, which applies when functions are declared inside other functions (!)\n",
    "* **built-in**, which covers all the functions and variables that are built into the Python language. \n",
    "    * For example: `if` and `else` are in the built-in scope."
   ]
  },
  {
   "cell_type": "markdown",
   "id": "a4de70b2",
   "metadata": {
    "slideshow": {
     "slide_type": "subslide"
    }
   },
   "source": [
    "Some examples:"
   ]
  },
  {
   "cell_type": "code",
   "execution_count": null,
   "id": "d2c87426",
   "metadata": {
    "execution": {
     "iopub.execute_input": "2024-05-16T12:06:39.455429Z",
     "iopub.status.busy": "2024-05-16T12:06:39.455360Z",
     "iopub.status.idle": "2024-05-16T12:06:39.457205Z",
     "shell.execute_reply": "2024-05-16T12:06:39.456996Z"
    },
    "slideshow": {
     "slide_type": ""
    }
   },
   "outputs": [],
   "source": [
    "color1 = \"red\"\n",
    "def paint():\n",
    "    color2 = \"green\"\n",
    "    if 2 > 1:\n",
    "        color3 = \"blue\"\n",
    "        print(color1, color2, color3)\n",
    "paint()"
   ]
  },
  {
   "cell_type": "code",
   "execution_count": null,
   "id": "ac2620af",
   "metadata": {
    "execution": {
     "iopub.execute_input": "2024-05-16T12:06:39.458481Z",
     "iopub.status.busy": "2024-05-16T12:06:39.458411Z",
     "iopub.status.idle": "2024-05-16T12:06:39.460255Z",
     "shell.execute_reply": "2024-05-16T12:06:39.460022Z"
    },
    "slideshow": {
     "slide_type": "subslide"
    }
   },
   "outputs": [],
   "source": [
    "color1 = \"red\"\n",
    "def paint():\n",
    "    color2 = \"green\"\n",
    "    if 2 > 1:\n",
    "        color3 = \"blue\"\n",
    "    print(color1, color2, color3)\n",
    "    \n",
    "paint()"
   ]
  },
  {
   "cell_type": "code",
   "execution_count": null,
   "id": "067750d8",
   "metadata": {
    "execution": {
     "iopub.execute_input": "2024-05-16T12:06:39.461579Z",
     "iopub.status.busy": "2024-05-16T12:06:39.461491Z",
     "iopub.status.idle": "2024-05-16T12:06:39.468687Z",
     "shell.execute_reply": "2024-05-16T12:06:39.468455Z"
    },
    "slideshow": {
     "slide_type": "subslide"
    },
    "tags": [
     "raises-exception"
    ]
   },
   "outputs": [],
   "source": [
    "color1 = \"red\"\n",
    "def paint():\n",
    "    color2 = \"green\"\n",
    "    if 2 > 1:\n",
    "        color3 = \"blue\"\n",
    "\n",
    "print(color1, color2, color3)\n",
    "paint()"
   ]
  },
  {
   "cell_type": "markdown",
   "id": "a97616fa",
   "metadata": {
    "slideshow": {
     "slide_type": "slide"
    }
   },
   "source": [
    "## Global variables: special snowflakes\n",
    "\n",
    "What does this print?"
   ]
  },
  {
   "cell_type": "code",
   "execution_count": null,
   "id": "93683bf2",
   "metadata": {
    "execution": {
     "iopub.execute_input": "2024-05-16T12:06:39.470116Z",
     "iopub.status.busy": "2024-05-16T12:06:39.470046Z",
     "iopub.status.idle": "2024-05-16T12:06:39.471967Z",
     "shell.execute_reply": "2024-05-16T12:06:39.471755Z"
    }
   },
   "outputs": [],
   "source": [
    "color = \"red\"\n",
    "def paint():\n",
    "    color = \"green\"\n",
    "    print(\"Inside paint: \" + color)\n",
    "\n",
    "print(\"Outside before func: \" + color)\n",
    "paint()\n",
    "print(\"Outside after func: \" + color)"
   ]
  },
  {
   "cell_type": "markdown",
   "id": "d3b189e5",
   "metadata": {
    "slideshow": {
     "slide_type": "subslide"
    }
   },
   "source": [
    "## Global variables: special snowflakes\n",
    "\n",
    "* Global variables can be **read** from a local scope.\n",
    "* To **write** to a global variable from a local scope, you must use the `global` keyword.\n",
    "* This is a common gotcha, you will probably run into this while writing your own code!"
   ]
  },
  {
   "cell_type": "markdown",
   "id": "45c35170",
   "metadata": {
    "slideshow": {
     "slide_type": "subslide"
    }
   },
   "source": [
    "In this example, we are actually creating a new local variable named `color` inside the `paint` function."
   ]
  },
  {
   "cell_type": "code",
   "execution_count": null,
   "id": "5e851d67",
   "metadata": {
    "execution": {
     "iopub.execute_input": "2024-05-16T12:06:39.473332Z",
     "iopub.status.busy": "2024-05-16T12:06:39.473261Z",
     "iopub.status.idle": "2024-05-16T12:06:39.475203Z",
     "shell.execute_reply": "2024-05-16T12:06:39.474937Z"
    }
   },
   "outputs": [],
   "source": [
    "color = \"red\"\n",
    "def paint():\n",
    "    color = \"green\"\n",
    "    print(\"Inside paint: \" + color)\n",
    "\n",
    "print(\"Outside before func: \" + color)\n",
    "paint()\n",
    "print(\"Outside after func: \" + color)"
   ]
  },
  {
   "cell_type": "markdown",
   "id": "21b6e1e0",
   "metadata": {
    "slideshow": {
     "slide_type": "fragment"
    }
   },
   "source": [
    "Creating a local variable with the same name as a global variable is referred to as \"shadowing\".\n",
    "\n",
    "Don't rely on shadowing on purpose, it will produce confusing code."
   ]
  },
  {
   "cell_type": "markdown",
   "id": "9968ba85",
   "metadata": {
    "slideshow": {
     "slide_type": "subslide"
    }
   },
   "source": [
    "Here is the corrected code:"
   ]
  },
  {
   "cell_type": "code",
   "execution_count": null,
   "id": "881628b1",
   "metadata": {
    "execution": {
     "iopub.execute_input": "2024-05-16T12:06:39.476603Z",
     "iopub.status.busy": "2024-05-16T12:06:39.476534Z",
     "iopub.status.idle": "2024-05-16T12:06:39.478421Z",
     "shell.execute_reply": "2024-05-16T12:06:39.478210Z"
    },
    "slideshow": {
     "slide_type": ""
    }
   },
   "outputs": [],
   "source": [
    "color = \"red\"\n",
    "def paint():\n",
    "    global color\n",
    "    color = \"green\"\n",
    "    print(\"Inside paint: \" + color)\n",
    "\n",
    "print(\"Outside before func: \" + color)\n",
    "paint()\n",
    "print(\"Outside after func: \" + color)"
   ]
  },
  {
   "cell_type": "markdown",
   "id": "df17984e",
   "metadata": {
    "slideshow": {
     "slide_type": "subslide"
    }
   },
   "source": [
    "One place this gotcha often shows up is when trying to add to a global inside a function."
   ]
  },
  {
   "cell_type": "code",
   "execution_count": null,
   "id": "b8327c0f",
   "metadata": {
    "execution": {
     "iopub.execute_input": "2024-05-16T12:06:39.479767Z",
     "iopub.status.busy": "2024-05-16T12:06:39.479699Z",
     "iopub.status.idle": "2024-05-16T12:06:39.489538Z",
     "shell.execute_reply": "2024-05-16T12:06:39.489281Z"
    },
    "slideshow": {
     "slide_type": ""
    },
    "tags": [
     "raises-exception"
    ]
   },
   "outputs": [],
   "source": [
    "score = 1\n",
    "def register_goal():\n",
    "    score += 1\n",
    "    print(\"Inside register_goal: \" + str(score))\n",
    "\n",
    "print(\"Outside before func: \" + str(score))\n",
    "register_goal()\n",
    "print(\"Outside after func: \" + str(score))"
   ]
  },
  {
   "cell_type": "markdown",
   "id": "7fc16807",
   "metadata": {
    "slideshow": {
     "slide_type": "subslide"
    }
   },
   "source": [
    "If you see a `local variable '...' referenced before assignment` error, but you know the variable has been assigned to... \n",
    "\n",
    "... you are probably trying to assign to a global variable inside a function without declaring it global.\n",
    "\n",
    "Here is the corrected code. It explicitly declares `score` as a `global` inside the `register_goal` function."
   ]
  },
  {
   "cell_type": "code",
   "execution_count": null,
   "id": "cbcf9758",
   "metadata": {
    "execution": {
     "iopub.execute_input": "2024-05-16T12:06:39.491018Z",
     "iopub.status.busy": "2024-05-16T12:06:39.490923Z",
     "iopub.status.idle": "2024-05-16T12:06:39.492835Z",
     "shell.execute_reply": "2024-05-16T12:06:39.492621Z"
    },
    "slideshow": {
     "slide_type": ""
    }
   },
   "outputs": [],
   "source": [
    "score = 1\n",
    "def register_goal():\n",
    "    global score\n",
    "    score += 1\n",
    "    print(\"Inside register_goal: \" + str(score))\n",
    "\n",
    "print(\"Outside before func: \" + str(score))\n",
    "register_goal()\n",
    "print(\"Outside after func: \" + str(score))"
   ]
  },
  {
   "cell_type": "markdown",
   "id": "2387e502",
   "metadata": {},
   "source": [
    "## Exercise: Quiz Game\n",
    "\n",
    "[GitHub Classroom -> Class exercises -> Open in GitHub Cospaces](https://classroom.github.com/a/M3gdSqkV)\n",
    "\n",
    "Open the file: `exercises/04/quiz_game/README.md`, follow the instructions.\n",
    "* If you don't see this folder: Open the file: `get_exercises.sh`, click the \"Run\" button at the top right of the editor.\n"
   ]
  },
  {
   "cell_type": "markdown",
   "id": "c4d0a102",
   "metadata": {
    "slideshow": {
     "slide_type": "slide"
    }
   },
   "source": [
    "# Exercise\n",
    "\n",
    "Write a program which quizzes a player with a series of at least 5 questions.\n",
    "\n",
    "The player should be awarded 1 point for each correct answer. \n",
    "\n",
    "If the player answers incorrectly 2 times, the quiz should end.\n",
    "\n",
    "At the end of the quiz (win or lose), the program should print out the number of points the player earned."
   ]
  },
  {
   "cell_type": "code",
   "execution_count": null,
   "id": "dc1312aa",
   "metadata": {
    "execution": {
     "iopub.execute_input": "2024-05-16T12:06:39.494297Z",
     "iopub.status.busy": "2024-05-16T12:06:39.494205Z",
     "iopub.status.idle": "2024-05-16T12:06:39.577844Z",
     "shell.execute_reply": "2024-05-16T12:06:39.576800Z"
    },
    "slideshow": {
     "slide_type": "subslide"
    },
    "tags": [
     "remove-output"
    ]
   },
   "outputs": [],
   "source": [
    "# Attempt 1\n",
    "print(\"Welcome to the geography quiz!\")\n",
    "incorrect = 0\n",
    "points = 0\n",
    "\n",
    "answer1 = input(\"Question 1: Does Kansas border Colorado? (y/n) \")\n",
    "if answer1 == 'y':\n",
    "    points = points + 1\n",
    "else:\n",
    "    incorrect = incorrect + 1\n",
    "\n",
    "answer2 = input(\"Question 2: How many countries are in Europe? \")\n",
    "if answer2 == \"50\":\n",
    "    points = points + 1\n",
    "else:\n",
    "    incorrect = incorrect + 1\n",
    "\n",
    "if incorrect < 2:\n",
    "    answer3 = input(\"Question 3: In which state can you find the Grand Canyon? \")\n",
    "    if answer3 == \"Arizona\":\n",
    "        points = points + 1\n",
    "    else:\n",
    "        incorrect = incorrect + 1\n",
    "\n",
    "if incorrect < 2:\n",
    "    answer4 = input(\"Question 4: Which North American city has a larger population: Los Angeles or Mexico City? \")\n",
    "    if answer4 == \"Mexico City\":\n",
    "        points = points + 1\n",
    "    else:\n",
    "        incorrect = incorrect + 1\n",
    "\n",
    "if incorrect < 2:\n",
    "    answer4 = input(\"Question 5: Which country has the most volcanoes? \")\n",
    "    if answer4 == \"Indonesia\":\n",
    "        points = points + 1\n",
    "    else:\n",
    "        incorrect = incorrect + 1\n",
    "\n",
    "print(\"You earned \" + str(points) + \" points!\")"
   ]
  },
  {
   "cell_type": "markdown",
   "id": "70ffe635",
   "metadata": {
    "slideshow": {
     "slide_type": "subslide"
    }
   },
   "source": [
    "This is ok, but pretty clunky. Let's add some feedback after answering the questions."
   ]
  },
  {
   "cell_type": "code",
   "execution_count": null,
   "id": "00ffe2d0",
   "metadata": {
    "execution": {
     "iopub.execute_input": "2024-05-16T12:06:39.608757Z",
     "iopub.status.busy": "2024-05-16T12:06:39.608595Z",
     "iopub.status.idle": "2024-05-16T12:06:39.623762Z",
     "shell.execute_reply": "2024-05-16T12:06:39.623497Z"
    },
    "slideshow": {
     "slide_type": "subslide"
    },
    "tags": [
     "remove-output"
    ]
   },
   "outputs": [],
   "source": [
    "# Attempt 2\n",
    "print(\"Welcome to the geography quiz!\")\n",
    "incorrect = 0\n",
    "points = 0\n",
    "\n",
    "answer1 = input(\"Question 1: Does Kansas border Colorado? (y/n) \")\n",
    "if answer1 == 'y':\n",
    "    print(\"Correct!\")\n",
    "    points = points + 1\n",
    "else:\n",
    "    print(\"Incorrect! The answer was 'y'\")\n",
    "    incorrect = incorrect + 1\n",
    "\n",
    "answer2 = input(\"Question 2: How many countries are in Europe? \")\n",
    "if answer2 == \"50\":\n",
    "    print(\"Correct!\")\n",
    "    points = points + 1\n",
    "else:\n",
    "    print(\"Incorrect! The answer was '50'\")\n",
    "    incorrect = incorrect + 1\n",
    "\n",
    "if incorrect < 2:\n",
    "    answer3 = input(\"Question 3: In which state can you find the Grand Canyon? \")\n",
    "    if answer3 == \"Arizona\":\n",
    "        print(\"Correct!\")\n",
    "        points = points + 1\n",
    "    else:\n",
    "        print(\"Incorrect! The answer was 'Arizona'\")\n",
    "        incorrect = incorrect + 1\n",
    "\n",
    "if incorrect < 2:\n",
    "    answer4 = input(\"Question 4: Which North American city has a larger population: Los Angeles or Mexico City? \")\n",
    "    if answer4 == \"Mexico City\":\n",
    "        print(\"Correct!\")\n",
    "        points = points + 1\n",
    "    else:\n",
    "        print(\"Incorrect! The answer was 'Mexico City'\")\n",
    "        incorrect = incorrect + 1\n",
    "\n",
    "if incorrect < 2:\n",
    "    answer4 = input(\"Question 5: Which country has the most volcanoes? \")\n",
    "    if answer4 == \"Indonesia\":\n",
    "        print(\"Correct!\")\n",
    "        points = points + 1\n",
    "    else:\n",
    "        print(\"Incorrect! The answer was 'Indonesia'\")\n",
    "        incorrect = incorrect + 1\n",
    "\n",
    "print(\"You earned \" + str(points) + \" points!\")"
   ]
  },
  {
   "cell_type": "markdown",
   "id": "d8c42a42",
   "metadata": {
    "slideshow": {
     "slide_type": "subslide"
    }
   },
   "source": [
    "It plays a little better, but making that change was tedious - we had to make 5 almost identical edits. There's a lot duplication. Let's **decompose**. \n",
    "\n",
    "The main repeated parts of the game are asking a question, and checking the answer. Let's write functions for those operations."
   ]
  },
  {
   "cell_type": "code",
   "execution_count": null,
   "id": "9e7bb4b3",
   "metadata": {
    "execution": {
     "iopub.execute_input": "2024-05-16T12:06:39.625415Z",
     "iopub.status.busy": "2024-05-16T12:06:39.625300Z",
     "iopub.status.idle": "2024-05-16T12:06:39.640826Z",
     "shell.execute_reply": "2024-05-16T12:06:39.640571Z"
    },
    "slideshow": {
     "slide_type": "subslide"
    },
    "tags": [
     "remove-output"
    ]
   },
   "outputs": [],
   "source": [
    "# Attempt 3 - is this good?\n",
    "print(\"Welcome to the geography quiz!\")\n",
    "incorrect = 0\n",
    "points = 0\n",
    "\n",
    "def do_question(question):\n",
    "    answer = input(question)\n",
    "    return answer\n",
    "\n",
    "def check_answer(actual, expected):\n",
    "    if actual == expected:\n",
    "        print(\"Correct!\")        \n",
    "        return True\n",
    "    else:\n",
    "        print(\"Incorrect! The correct answer was '\" + expected + \"'\")        \n",
    "        return False\n",
    "\n",
    "answer1 = do_question(\"Question 1: Does Kansas border Colorado? (y/n) \")\n",
    "if check_answer(answer1, \"y\"):\n",
    "    points = points + 1\n",
    "else:\n",
    "    incorrect = incorrect + 1\n",
    "\n",
    "answer2 = do_question(\"Question 2: How many countries are in Europe? \")\n",
    "if check_answer(answer2, \"50\"):\n",
    "    points = points + 1\n",
    "else:\n",
    "    incorrect = incorrect + 1\n",
    "\n",
    "#...\n",
    "print(\"You earned \" + str(points) + \" points!\")"
   ]
  },
  {
   "cell_type": "markdown",
   "id": "7feac485",
   "metadata": {
    "slideshow": {
     "slide_type": "subslide"
    }
   },
   "source": [
    "Hm, this has taken away **some** duplication. \n",
    "\n",
    "But `do_question` is too small to be very useful, and we still have a lot of boilerplate for each question.\n",
    "\n",
    "Let's try combining these 2 together - they always happen in sequence, and we don't have much of a reason to split them apart."
   ]
  },
  {
   "cell_type": "code",
   "execution_count": null,
   "id": "f6679dff",
   "metadata": {
    "execution": {
     "iopub.execute_input": "2024-05-16T12:06:39.642312Z",
     "iopub.status.busy": "2024-05-16T12:06:39.642235Z",
     "iopub.status.idle": "2024-05-16T12:06:39.657026Z",
     "shell.execute_reply": "2024-05-16T12:06:39.656794Z"
    },
    "slideshow": {
     "slide_type": "subslide"
    },
    "tags": [
     "remove-output"
    ]
   },
   "outputs": [],
   "source": [
    "# Attempt 4\n",
    "print(\"Welcome to the geography quiz!\")\n",
    "incorrect = 0\n",
    "points = 0\n",
    "\n",
    "def do_question(question, expected_answer):\n",
    "    answer = input(question)\n",
    "    if answer == expected_answer:\n",
    "        print(\"Correct!\")\n",
    "        return True\n",
    "    else:\n",
    "        print(\"Incorrect! The answer was '\" + expected_answer + \"'\")\n",
    "        return False\n",
    "        \n",
    "if do_question(\"Question 1: Does Kansas border Colorado? (y/n) \", \"y\"):\n",
    "    points = points + 1\n",
    "else:\n",
    "    incorrect = incorrect + 1\n",
    "    \n",
    "if do_question(\"Question 2: How many countries are in Europe? \", \"50\"):\n",
    "    points = points + 1\n",
    "else:\n",
    "    incorrect = incorrect + 1\n",
    "\n",
    "# ...\n",
    "print(\"You earned \" + str(points) + \" points!\")"
   ]
  },
  {
   "cell_type": "markdown",
   "id": "4586c7d6",
   "metadata": {
    "slideshow": {
     "slide_type": "subslide"
    }
   },
   "source": [
    "Can we do better?"
   ]
  },
  {
   "cell_type": "markdown",
   "id": "1fa89d42",
   "metadata": {
    "slideshow": {
     "slide_type": "fragment"
    }
   },
   "source": [
    "Let's try doing the point & incorrect tracking inside `do_question`."
   ]
  },
  {
   "cell_type": "code",
   "execution_count": null,
   "id": "594ce4ce",
   "metadata": {
    "execution": {
     "iopub.execute_input": "2024-05-16T12:06:39.658540Z",
     "iopub.status.busy": "2024-05-16T12:06:39.658444Z",
     "iopub.status.idle": "2024-05-16T12:06:39.672370Z",
     "shell.execute_reply": "2024-05-16T12:06:39.672122Z"
    },
    "slideshow": {
     "slide_type": "subslide"
    },
    "tags": [
     "remove-output"
    ]
   },
   "outputs": [],
   "source": [
    "# Attempt 5\n",
    "print(\"Welcome to the geography quiz!\")\n",
    "incorrect = 0\n",
    "points = 0\n",
    "\n",
    "def do_question(question, expected_answer):\n",
    "    answer = input(question)\n",
    "    if answer == expected_answer:\n",
    "        print(\"Correct!\")\n",
    "        points = points + 1\n",
    "    else:\n",
    "        print(\"Incorrect! The answer was '\" + expected_answer + \"'\")\n",
    "        incorrect = incorrect + 1\n",
    "        \n",
    "do_question(\"Question 1: Does Kansas border Colorado? (y/n) \", \"y\")\n",
    "do_question(\"Question 2: How many countries are in Europe? \", \"50\")\n",
    "do_question(\"Question 3: In which state can you find the Grand Canyon? \", \"Arizona\")\n",
    "do_question(\"Question 4: Which North American city has a larger population: Los Angeles or Mexico City? \", \"Mexico City\")\n",
    "do_question(\"Question 5: Which country has the most volcanoes? \", \"Indonesia\")\n",
    "print(\"You earned \" + str(points) + \" points!\")"
   ]
  },
  {
   "cell_type": "markdown",
   "id": "3b294fad",
   "metadata": {
    "slideshow": {
     "slide_type": "subslide"
    }
   },
   "source": [
    "`UnboundLocalError: local variable 'points' referenced before assignment`\n",
    "\n",
    "What's wrong?"
   ]
  },
  {
   "cell_type": "markdown",
   "id": "b9561251",
   "metadata": {
    "slideshow": {
     "slide_type": "fragment"
    }
   },
   "source": [
    "Those pesky globals... `points` is treated like a local variable in that function. We need to explicitly use the `global` keyword."
   ]
  },
  {
   "cell_type": "code",
   "execution_count": null,
   "id": "5f247d53",
   "metadata": {
    "execution": {
     "iopub.execute_input": "2024-05-16T12:06:39.673900Z",
     "iopub.status.busy": "2024-05-16T12:06:39.673804Z",
     "iopub.status.idle": "2024-05-16T12:06:39.687701Z",
     "shell.execute_reply": "2024-05-16T12:06:39.687432Z"
    },
    "slideshow": {
     "slide_type": "subslide"
    },
    "tags": [
     "remove-output"
    ]
   },
   "outputs": [],
   "source": [
    "# Attempt 6\n",
    "print(\"Welcome to the geography quiz!\")\n",
    "incorrect = 0\n",
    "points = 0\n",
    "\n",
    "def do_question(question, expected_answer):\n",
    "    global points\n",
    "    global incorrect\n",
    "    answer = input(question)\n",
    "    if answer == expected_answer:\n",
    "        print(\"Correct!\")\n",
    "        points = points + 1\n",
    "    else:\n",
    "        print(\"Incorrect! The answer was '\" + expected_answer + \"'\")\n",
    "        incorrect = incorrect + 1\n",
    "        \n",
    "do_question(\"Question 1: Does Kansas border Colorado? (y/n) \", \"y\")\n",
    "do_question(\"Question 2: How many countries are in Europe? \", \"50\")\n",
    "do_question(\"Question 3: In which state can you find the Grand Canyon? \", \"Arizona\")\n",
    "do_question(\"Question 4: Which North American city has a larger population: Los Angeles or Mexico City? \", \"Mexico City\")\n",
    "do_question(\"Question 5: Which country has the most volcanoes? \", \"Indonesia\")\n",
    "print(\"You earned \" + str(points) + \" points!\")"
   ]
  },
  {
   "cell_type": "markdown",
   "id": "2858f8ff",
   "metadata": {
    "slideshow": {
     "slide_type": "subslide"
    }
   },
   "source": [
    "# Globals again \n",
    "\n",
    "Overusing globals is considered a bad coding practice. Having more than a few of them can make larger programs very difficult to debug and maintain. \n",
    "\n",
    "However, you haven't yet learned the language features that would let you avoid using them in this case - so for now, use globals if you think they can help!"
   ]
  },
  {
   "cell_type": "markdown",
   "id": "3fbb9b19",
   "metadata": {
    "slideshow": {
     "slide_type": "fragment"
    }
   },
   "source": [
    "This is much better. Is it still correct?"
   ]
  },
  {
   "cell_type": "code",
   "execution_count": null,
   "id": "18fb68e2",
   "metadata": {
    "execution": {
     "iopub.execute_input": "2024-05-16T12:06:39.689172Z",
     "iopub.status.busy": "2024-05-16T12:06:39.689080Z",
     "iopub.status.idle": "2024-05-16T12:06:39.702979Z",
     "shell.execute_reply": "2024-05-16T12:06:39.702744Z"
    },
    "slideshow": {
     "slide_type": "subslide"
    },
    "tags": [
     "remove-output"
    ]
   },
   "outputs": [],
   "source": [
    "# Attempt 6\n",
    "print(\"Welcome to the geography quiz!\")\n",
    "incorrect = 0\n",
    "points = 0\n",
    "\n",
    "def do_question(question, expected_answer):\n",
    "    global points\n",
    "    global incorrect\n",
    "    answer = input(question)\n",
    "    if answer == expected_answer:\n",
    "        print(\"Correct!\")\n",
    "        points = points + 1\n",
    "    else:\n",
    "        print(\"Incorrect! The answer was '\" + expected_answer + \"'\")\n",
    "        incorrect = incorrect + 1\n",
    "        \n",
    "do_question(\"Question 1: Does Kansas border Colorado? (y/n) \", \"y\")\n",
    "do_question(\"Question 2: How many countries are in Europe? \", \"50\")\n",
    "do_question(\"Question 3: In which state can you find the Grand Canyon? \", \"Arizona\")\n",
    "do_question(\"Question 4: Which North American city has a larger population: Los Angeles or Mexico City? \", \"Mexico City\")\n",
    "do_question(\"Question 5: Which country has the most volcanoes? \", \"Indonesia\")\n",
    "print(\"You earned \" + str(points) + \" points!\")"
   ]
  },
  {
   "cell_type": "markdown",
   "id": "0adf0f6c",
   "metadata": {
    "slideshow": {
     "slide_type": "fragment"
    }
   },
   "source": [
    "Whoops... it doesn't stop after 2 wrong answers."
   ]
  },
  {
   "cell_type": "markdown",
   "id": "cc01cb92",
   "metadata": {
    "slideshow": {
     "slide_type": "subslide"
    }
   },
   "source": [
    "Here we use `return` to control the flow of the program. Once the player has accumulated 2 incorrect answers, the rest of the questions are skipped."
   ]
  },
  {
   "cell_type": "code",
   "execution_count": null,
   "id": "2c1bd986",
   "metadata": {
    "execution": {
     "iopub.execute_input": "2024-05-16T12:06:39.704454Z",
     "iopub.status.busy": "2024-05-16T12:06:39.704380Z",
     "iopub.status.idle": "2024-05-16T12:06:39.718370Z",
     "shell.execute_reply": "2024-05-16T12:06:39.718091Z"
    },
    "slideshow": {
     "slide_type": "-"
    },
    "tags": [
     "remove-output"
    ]
   },
   "outputs": [],
   "source": [
    "# Attempt 7\n",
    "print(\"Welcome to the geography quiz!\")\n",
    "incorrect = 0\n",
    "points = 0\n",
    "\n",
    "def do_question(question, expected_answer):\n",
    "    global points\n",
    "    global incorrect\n",
    "    if incorrect >= 2:\n",
    "        return\n",
    "    \n",
    "    answer = input(question)\n",
    "    if answer == expected_answer:\n",
    "        print(\"Correct!\")\n",
    "        points = points + 1\n",
    "    else:\n",
    "        print(\"Incorrect! The answer was '\" + expected_answer + \"'\")\n",
    "        incorrect = incorrect + 1\n",
    "        \n",
    "do_question(\"Question 1: Does Kansas border Colorado? (y/n) \", \"y\")\n",
    "do_question(\"Question 2: How many countries are in Europe? \", \"50\")\n",
    "do_question(\"Question 3: In which state can you find the Grand Canyon? \", \"Arizona\")\n",
    "do_question(\"Question 4: Which North American city has a larger population: Los Angeles or Mexico City? \", \"Mexico City\")\n",
    "do_question(\"Question 5: Which country has the most volcanoes? \", \"Indonesia\")\n",
    "print(\"You earned \" + str(points) + \" points!\")"
   ]
  },
  {
   "cell_type": "markdown",
   "id": "5a696575",
   "metadata": {
    "slideshow": {
     "slide_type": "subslide"
    }
   },
   "source": [
    "Seems awkward to have to pass in the question number as part of the question text... let's add a parameter."
   ]
  },
  {
   "cell_type": "code",
   "execution_count": null,
   "id": "57051583",
   "metadata": {
    "execution": {
     "iopub.execute_input": "2024-05-16T12:06:39.719803Z",
     "iopub.status.busy": "2024-05-16T12:06:39.719726Z",
     "iopub.status.idle": "2024-05-16T12:06:39.734278Z",
     "shell.execute_reply": "2024-05-16T12:06:39.734042Z"
    },
    "slideshow": {
     "slide_type": "subslide"
    },
    "tags": [
     "remove-output"
    ]
   },
   "outputs": [],
   "source": [
    "# Attempt 8\n",
    "print(\"Welcome to the geography quiz!\")\n",
    "incorrect = 0\n",
    "points = 0\n",
    "\n",
    "def do_question(number, question, expected_answer):\n",
    "    global points\n",
    "    global incorrect\n",
    "    if incorrect >= 2:\n",
    "        return\n",
    "    \n",
    "    answer = input(\"Question \" + str(number) + \": \" + question)\n",
    "    if answer == expected_answer:\n",
    "        print(\"Correct!\")\n",
    "        points = points + 1\n",
    "    else:\n",
    "        print(\"Incorrect! The answer was '\" + expected_answer + \"'\")\n",
    "        incorrect = incorrect + 1\n",
    "        \n",
    "do_question(1, \"Does Kansas border Colorado? (y/n) \", \"y\")\n",
    "do_question(2, \"How many countries are in Europe? \", \"50\")\n",
    "do_question(3, \"In which state can you find the Grand Canyon? \", \"Arizona\")\n",
    "do_question(4, \"Which North American city has a larger population: Los Angeles or Mexico City? \", \"Mexico City\")\n",
    "do_question(5, \"Which country has the most volcanoes? \", \"Indonesia\")\n",
    "print(\"You earned \" + str(points) + \" points!\")"
   ]
  },
  {
   "cell_type": "markdown",
   "id": "0b3a3806",
   "metadata": {
    "slideshow": {
     "slide_type": "subslide"
    }
   },
   "source": [
    "Do you notice how much easier it is to make improvements when we don't have duplicated code? We make the change once inside our function, and get the benefit everywhere that function is used."
   ]
  },
  {
   "cell_type": "markdown",
   "id": "28438cf1",
   "metadata": {
    "slideshow": {
     "slide_type": "fragment"
    }
   },
   "source": [
    "This is pretty good. \n",
    "\n",
    "Last thing - what if we wanted to make our answer checking fancier? For example, make it case-insensitive, or even allow close misspellings?"
   ]
  },
  {
   "cell_type": "markdown",
   "id": "bc0b9d33",
   "metadata": {
    "slideshow": {
     "slide_type": "fragment"
    }
   },
   "source": [
    "We haven't covered enough to actually do those things yet, but let's take the first step of **factoring out** the comparison logic."
   ]
  },
  {
   "cell_type": "code",
   "execution_count": null,
   "id": "16c60061",
   "metadata": {
    "execution": {
     "iopub.execute_input": "2024-05-16T12:06:39.735858Z",
     "iopub.status.busy": "2024-05-16T12:06:39.735765Z",
     "iopub.status.idle": "2024-05-16T12:06:39.751270Z",
     "shell.execute_reply": "2024-05-16T12:06:39.750983Z"
    },
    "slideshow": {
     "slide_type": "subslide"
    },
    "tags": [
     "remove-output"
    ]
   },
   "outputs": [],
   "source": [
    "# Attempt 9\n",
    "print(\"Welcome to the geography quiz!\")\n",
    "incorrect = 0\n",
    "points = 0\n",
    "\n",
    "def check_answer(actual, expected):\n",
    "    # TODO: replace this with much fancier logic\n",
    "    return actual == expected\n",
    "\n",
    "def do_question(number, question, expected_answer):\n",
    "    global points\n",
    "    global incorrect\n",
    "    if incorrect >= 2:\n",
    "        return\n",
    "    \n",
    "    answer = input(\"Question \" + str(number) + \": \" + question)\n",
    "    if check_answer(answer, expected_answer):\n",
    "        print(\"Correct!\")\n",
    "        points = points + 1\n",
    "    else:\n",
    "        print(\"Incorrect! The answer was '\" + expected_answer + \"'\")\n",
    "        incorrect = incorrect + 1\n",
    "        \n",
    "do_question(1, \"Does Kansas border Colorado? (y/n) \", \"y\")\n",
    "do_question(2, \"How many countries are in Europe? \", \"50\")\n",
    "do_question(3, \"In which state can you find the Grand Canyon? \", \"Arizona\")\n",
    "do_question(4, \"Which North American city has a larger population: Los Angeles or Mexico City? \", \"Mexico City\")\n",
    "do_question(5, \"Which country has the most volcanoes? \", \"Indonesia\")\n",
    "print(\"You earned \" + str(points) + \" points!\")"
   ]
  },
  {
   "cell_type": "markdown",
   "id": "9a9a6589",
   "metadata": {
    "slideshow": {
     "slide_type": "subslide"
    }
   },
   "source": [
    "We've created an isolated place for our comparison logic. We've **encapsulated** the logic in a function. \n",
    "\n",
    "This function is easy to test in isolation, and it keeps `do_question` simple even if we eventually have very complicated comparison logic."
   ]
  },
  {
   "cell_type": "markdown",
   "id": "d36bcfc4",
   "metadata": {
    "slideshow": {
     "slide_type": "subslide"
    }
   },
   "source": [
    "The slides **might** have made this process of refactoring seem straightforward, but even a relatively simple program like this took me a few iterations to get working and presentable:\n",
    "\n",
    "* It took a few tries to figure out how to best group the logic - my initial tries (not all shown) split the question asking and answer checking in different ways, before I finally settled on combining the logic into one function.\n",
    "* There are multiple ways to handle the question numbering. I originally tried a global counter variable, rather than passing an argument to `do_question`.\n",
    "* I got tripped up with whether/how to use globals to track the points and incorrect answers.\n",
    "\n",
    "... and I've been doing this professionally for ~20 years."
   ]
  },
  {
   "cell_type": "markdown",
   "id": "c60d8ae3",
   "metadata": {
    "slideshow": {
     "slide_type": "subslide"
    }
   },
   "source": [
    "You rarely write working code on your first try, let alone clean or elegant code. \n",
    "\n",
    "Just the process of trying to write code to solve a problem will teach you about both the problem and the solution. You will learn as you try to tackle it.\n",
    "\n",
    "Don't get discouraged if you don't immediately see a solution, or a good solution. Try some things, see where they work or don't work, and go from there.\n",
    "\n",
    "Coding takes practice. The more practice you get, the easier it will feel, and the faster you will get to working and elegant solutions."
   ]
  },
  {
   "cell_type": "markdown",
   "id": "f862f9c3",
   "metadata": {
    "slideshow": {
     "slide_type": "slide"
    }
   },
   "source": [
    "# Returning multiple values\n",
    "\n",
    "So far, all of our examples have returned a single value.\n",
    "\n",
    "In Python, functions can also return multiple values."
   ]
  },
  {
   "cell_type": "code",
   "execution_count": null,
   "id": "0fef4d38",
   "metadata": {
    "execution": {
     "iopub.execute_input": "2024-05-16T12:06:39.752989Z",
     "iopub.status.busy": "2024-05-16T12:06:39.752889Z",
     "iopub.status.idle": "2024-05-16T12:06:39.754597Z",
     "shell.execute_reply": "2024-05-16T12:06:39.754368Z"
    },
    "slideshow": {
     "slide_type": "fragment"
    }
   },
   "outputs": [],
   "source": [
    "def find_sum_and_avg(a, b, c, d, e):\n",
    "    total = a + b + c + d + e\n",
    "    avg = total / 5\n",
    "    return total, avg"
   ]
  },
  {
   "cell_type": "code",
   "execution_count": null,
   "id": "e75e36ca",
   "metadata": {
    "execution": {
     "iopub.execute_input": "2024-05-16T12:06:39.755959Z",
     "iopub.status.busy": "2024-05-16T12:06:39.755884Z",
     "iopub.status.idle": "2024-05-16T12:06:39.757884Z",
     "shell.execute_reply": "2024-05-16T12:06:39.757651Z"
    }
   },
   "outputs": [],
   "source": [
    "find_sum_and_avg(1, 3, 5, 7, 100)"
   ]
  },
  {
   "cell_type": "markdown",
   "id": "9ce5d546",
   "metadata": {
    "slideshow": {
     "slide_type": "slide"
    }
   },
   "source": [
    "## Using multiple return values\n",
    "\n",
    "When calling the function, you can assign the result to multiple values."
   ]
  },
  {
   "cell_type": "code",
   "execution_count": null,
   "id": "89f835d2",
   "metadata": {
    "execution": {
     "iopub.execute_input": "2024-05-16T12:06:39.759275Z",
     "iopub.status.busy": "2024-05-16T12:06:39.759183Z",
     "iopub.status.idle": "2024-05-16T12:06:39.760937Z",
     "shell.execute_reply": "2024-05-16T12:06:39.760721Z"
    }
   },
   "outputs": [],
   "source": [
    "grand_total, avg_price = find_sum_and_avg(1.99, 5, 29.95, 2, .99)\n",
    "print(\"Grand total is: \" + str(grand_total))\n",
    "print(\"Average is: \" + str(avg_price))"
   ]
  },
  {
   "cell_type": "markdown",
   "id": "6ba365fd",
   "metadata": {
    "slideshow": {
     "slide_type": "subslide"
    }
   },
   "source": [
    "## Example: counting characters\n",
    "\n",
    "Write a function that counts the number of vowels and consonants in a string."
   ]
  },
  {
   "cell_type": "code",
   "execution_count": null,
   "id": "d1e025ed",
   "metadata": {
    "execution": {
     "iopub.execute_input": "2024-05-16T12:06:39.762388Z",
     "iopub.status.busy": "2024-05-16T12:06:39.762285Z",
     "iopub.status.idle": "2024-05-16T12:06:39.764256Z",
     "shell.execute_reply": "2024-05-16T12:06:39.764026Z"
    },
    "slideshow": {
     "slide_type": "fragment"
    }
   },
   "outputs": [],
   "source": [
    "def count_letters(words):\n",
    "    vowels = 0\n",
    "    consonants = 0\n",
    "    for char in words:\n",
    "        if char == 'a' or char == 'e' or char == 'i' or char == 'o' or char == 'u':\n",
    "            vowels += 1\n",
    "        elif char.isalpha():\n",
    "            # char.isalpha() returns True if the character is a letter\n",
    "            consonants += 1\n",
    "    return vowels, consonants"
   ]
  },
  {
   "cell_type": "code",
   "execution_count": null,
   "id": "4e1a2882",
   "metadata": {
    "execution": {
     "iopub.execute_input": "2024-05-16T12:06:39.765622Z",
     "iopub.status.busy": "2024-05-16T12:06:39.765526Z",
     "iopub.status.idle": "2024-05-16T12:06:39.767362Z",
     "shell.execute_reply": "2024-05-16T12:06:39.767105Z"
    },
    "slideshow": {
     "slide_type": "subslide"
    }
   },
   "outputs": [],
   "source": [
    "v, c = count_letters(\"Hello class, count these words with me.\")\n",
    "print(\"Vowels: \" + str(v) + \" consonants: \" + str(c)) "
   ]
  },
  {
   "cell_type": "code",
   "execution_count": null,
   "id": "f6180a3f",
   "metadata": {
    "execution": {
     "iopub.execute_input": "2024-05-16T12:06:39.768802Z",
     "iopub.status.busy": "2024-05-16T12:06:39.768699Z",
     "iopub.status.idle": "2024-05-16T12:06:39.770510Z",
     "shell.execute_reply": "2024-05-16T12:06:39.770257Z"
    }
   },
   "outputs": [],
   "source": [
    "v, c = count_letters(\",.@($@*!#*(! 9219!,;))\")\n",
    "print(\"Vowels: \" + str(v) + \" consonants: \" + str(c)) "
   ]
  },
  {
   "cell_type": "code",
   "execution_count": null,
   "id": "53779c0c",
   "metadata": {
    "execution": {
     "iopub.execute_input": "2024-05-16T12:06:39.771896Z",
     "iopub.status.busy": "2024-05-16T12:06:39.771789Z",
     "iopub.status.idle": "2024-05-16T12:06:39.773686Z",
     "shell.execute_reply": "2024-05-16T12:06:39.773418Z"
    }
   },
   "outputs": [],
   "source": [
    "v, c = count_letters(\" h e l l o . w o r l d\")\n",
    "print(\"Vowels: \" + str(v) + \" consonants: \" + str(c)) "
   ]
  },
  {
   "cell_type": "markdown",
   "id": "904cf474",
   "metadata": {},
   "source": [
    "## A breadcrumb\n",
    "\n",
    "Technically, functions only ever return a single value.\n",
    "\n",
    "What's actually happening here is that the function is returning a `tuple` - a datatype that can hold multiple other values.\n",
    "\n",
    "We'll revisit this in a few lectures when we learn about tuples - don't worry about it for now!"
   ]
  }
 ],
 "metadata": {
  "celltoolbar": "Slideshow",
  "kernelspec": {
   "display_name": "Python 3 (ipykernel)",
   "language": "python",
   "name": "python3"
  },
  "language_info": {
   "codemirror_mode": {
    "name": "ipython",
    "version": 3
   },
   "file_extension": ".py",
   "mimetype": "text/x-python",
   "name": "python",
   "nbconvert_exporter": "python",
   "pygments_lexer": "ipython3",
   "version": "3.10.9"
  }
 },
 "nbformat": 4,
 "nbformat_minor": 5
}
