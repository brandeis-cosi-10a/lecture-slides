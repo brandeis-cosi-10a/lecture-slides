{
 "cells": [
  {
   "cell_type": "markdown",
   "id": "1ee8a1d2",
   "metadata": {
    "slideshow": {
     "slide_type": "slide"
    }
   },
   "source": [
    "# Regular Expressions\n",
    "\n",
    "<style>\n",
    "section.present > section.present { \n",
    "    max-height: 90%; \n",
    "    overflow-y: scroll;\n",
    "}\n",
    "</style>\n",
    "\n",
    "<small><a href=\"https://colab.research.google.com/github/brandeis-jdelfino/cosi-10a/blob/main/lectures/notebooks/15_regexes.ipynb\">Link to interactive slides on Google Colab</a></small>"
   ]
  },
  {
   "cell_type": "markdown",
   "id": "b0488f9f",
   "metadata": {
    "slideshow": {
     "slide_type": "slide"
    }
   },
   "source": [
    "# Announcements\n",
    "\n",
    "* PS4 grades are in LATTE, let me know if you have questions.\n",
    "* If you aren't sure how to interpret LATTE grades, if the class ended today, the grade cutoffs for \"Problem set skills total\" would be:\n",
    "   * **A**: 68 - 72\n",
    "   * **B**: 65 - 67.9\n",
    "   * **C**: 61 - 64.9\n",
    "   * These represent the grading from the syllabus: 90% of mastery skills for an A, 80% for a B, 70% for a C.\n",
    "   * These assume you fully correct your quizzes."
   ]
  },
  {
   "cell_type": "markdown",
   "id": "115cd01e",
   "metadata": {
    "slideshow": {
     "slide_type": "slide"
    }
   },
   "source": [
    "## Exercise\n",
    "\n",
    "Determine whether a string contains a phone number. "
   ]
  },
  {
   "cell_type": "markdown",
   "id": "536036b5",
   "metadata": {
    "slideshow": {
     "slide_type": "fragment"
    }
   },
   "source": [
    "But not a specific phone number - anything that looks like a phone number: `555-1234`"
   ]
  },
  {
   "cell_type": "code",
   "execution_count": null,
   "id": "531a6ca1",
   "metadata": {
    "execution": {
     "iopub.execute_input": "2023-11-26T15:44:41.356097Z",
     "iopub.status.busy": "2023-11-26T15:44:41.355720Z",
     "iopub.status.idle": "2023-11-26T15:44:41.374481Z",
     "shell.execute_reply": "2023-11-26T15:44:41.373194Z"
    },
    "slideshow": {
     "slide_type": "subslide"
    }
   },
   "outputs": [],
   "source": [
    "def is_phone_number(value):\n",
    "    if len(value) != 8:\n",
    "        return False\n",
    "    if not value[0].isdigit():\n",
    "        return False\n",
    "    if not value[1].isdigit():\n",
    "        return False\n",
    "    if not value[2].isdigit():\n",
    "        return False\n",
    "    if value[3] != '-':\n",
    "        return False\n",
    "    if not value[4].isdigit():\n",
    "        return False\n",
    "    if not value[5].isdigit():\n",
    "        return False\n",
    "    if not value[6].isdigit():\n",
    "        return False  \n",
    "    if not value[7].isdigit():\n",
    "        return False  \n",
    "    return True"
   ]
  },
  {
   "cell_type": "code",
   "execution_count": null,
   "id": "b5e53ffa",
   "metadata": {
    "execution": {
     "iopub.execute_input": "2023-11-26T15:44:41.378909Z",
     "iopub.status.busy": "2023-11-26T15:44:41.378606Z",
     "iopub.status.idle": "2023-11-26T15:44:41.383134Z",
     "shell.execute_reply": "2023-11-26T15:44:41.382388Z"
    }
   },
   "outputs": [],
   "source": [
    "print(is_phone_number(\"555-1234\"))\n",
    "print(is_phone_number(\"5551234\"))\n",
    "print(is_phone_number(\"555-12345\"))\n",
    "print(is_phone_number(\"555-123\"))"
   ]
  },
  {
   "cell_type": "markdown",
   "id": "573f8510",
   "metadata": {
    "slideshow": {
     "slide_type": "subslide"
    }
   },
   "source": [
    "Now we can try `is_phone_number` at each index of a longer string..."
   ]
  },
  {
   "cell_type": "code",
   "execution_count": null,
   "id": "82f33464",
   "metadata": {
    "execution": {
     "iopub.execute_input": "2023-11-26T15:44:41.387035Z",
     "iopub.status.busy": "2023-11-26T15:44:41.386767Z",
     "iopub.status.idle": "2023-11-26T15:44:41.390619Z",
     "shell.execute_reply": "2023-11-26T15:44:41.389943Z"
    }
   },
   "outputs": [],
   "source": [
    "def contains_phone_number(value):\n",
    "    for i in range(len(value)-7):\n",
    "        if is_phone_number(value[i:i+8]):\n",
    "            return True\n",
    "    return False\n"
   ]
  },
  {
   "cell_type": "code",
   "execution_count": null,
   "id": "358051c4",
   "metadata": {
    "execution": {
     "iopub.execute_input": "2023-11-26T15:44:41.393872Z",
     "iopub.status.busy": "2023-11-26T15:44:41.393612Z",
     "iopub.status.idle": "2023-11-26T15:44:41.397469Z",
     "shell.execute_reply": "2023-11-26T15:44:41.396880Z"
    }
   },
   "outputs": [],
   "source": [
    "print(contains_phone_number(\"My phone number is 867-5309.\"))\n",
    "print(contains_phone_number(\"My phone number is 867-5309\"))\n",
    "print(contains_phone_number(\"867-5309 is my phone number.\"))\n",
    "print(contains_phone_number(\"867-5309\"))\n",
    "print(contains_phone_number(\"867-530 is not my phone number\"))\n",
    "print(contains_phone_number(\"867-530\"))\n",
    "print(contains_phone_number(\"My phone number is not 867-530\"))"
   ]
  },
  {
   "cell_type": "markdown",
   "id": "09f23c8d",
   "metadata": {
    "slideshow": {
     "slide_type": "subslide"
    }
   },
   "source": [
    "Ok, it's not pretty, but it works."
   ]
  },
  {
   "cell_type": "markdown",
   "id": "910aa087",
   "metadata": {
    "slideshow": {
     "slide_type": "fragment"
    }
   },
   "source": [
    "Now handle a variety of formats - with/without the dash, area codes `(617)867-5309`, `617-867-5309`, etc."
   ]
  },
  {
   "cell_type": "markdown",
   "id": "b19ba743",
   "metadata": {
    "slideshow": {
     "slide_type": "fragment"
    }
   },
   "source": [
    "Ugh."
   ]
  },
  {
   "cell_type": "markdown",
   "id": "6aa1a494",
   "metadata": {
    "slideshow": {
     "slide_type": "slide"
    }
   },
   "source": [
    "## Regular Expressions\n",
    "\n",
    "Python (along with many other programming languages) provides **regular expressions**: a powerful \"mini-language\" for matching, extracting, and manipulating string data.\n",
    "\n",
    "\"Regular expression\" is often shortened to \"regex\"."
   ]
  },
  {
   "cell_type": "code",
   "execution_count": null,
   "id": "cd886737",
   "metadata": {
    "execution": {
     "iopub.execute_input": "2023-11-26T15:44:41.400956Z",
     "iopub.status.busy": "2023-11-26T15:44:41.400704Z",
     "iopub.status.idle": "2023-11-26T15:44:41.404073Z",
     "shell.execute_reply": "2023-11-26T15:44:41.403482Z"
    },
    "slideshow": {
     "slide_type": "subslide"
    }
   },
   "outputs": [],
   "source": [
    "import re\n",
    "def contains_phone_number(value):\n",
    "    match = re.search('\\d{3}-\\d{4}', value)\n",
    "    return match is not None"
   ]
  },
  {
   "cell_type": "code",
   "execution_count": null,
   "id": "a2604261",
   "metadata": {
    "execution": {
     "iopub.execute_input": "2023-11-26T15:44:41.406880Z",
     "iopub.status.busy": "2023-11-26T15:44:41.406634Z",
     "iopub.status.idle": "2023-11-26T15:44:41.410527Z",
     "shell.execute_reply": "2023-11-26T15:44:41.409919Z"
    }
   },
   "outputs": [],
   "source": [
    "print(contains_phone_number(\"My phone number is 867-5309.\"))\n",
    "print(contains_phone_number(\"My phone number is 867-5309\"))\n",
    "print(contains_phone_number(\"867-5309 is my phone number.\"))\n",
    "print(contains_phone_number(\"867-5309\"))\n",
    "print(contains_phone_number(\"867-530 is not my phone number\"))\n",
    "print(contains_phone_number(\"867-530\"))\n",
    "print(contains_phone_number(\"My phone number is not 867-530\"))"
   ]
  },
  {
   "cell_type": "markdown",
   "id": "7651e4c7",
   "metadata": {
    "slideshow": {
     "slide_type": "subslide"
    }
   },
   "source": [
    "## If you thought `def __init__(self)` looked weird...\n",
    "\n",
    "`re.search('\\d{3}-\\d{4}', value)` is probably making your head spin"
   ]
  },
  {
   "cell_type": "markdown",
   "id": "a9444fbc",
   "metadata": {
    "slideshow": {
     "slide_type": "slide"
    }
   },
   "source": [
    "## Patterns\n",
    "\n",
    "A regex \"pattern\" defines a set of matching rules.\n",
    "\n",
    "A pattern might define the rules for a phone number, an email address, a date, or something more complicated.\n",
    "\n",
    "Patterns can be used to ask questions like \"does this string match this pattern?\" or \"can this string be found in this pattern?\""
   ]
  },
  {
   "cell_type": "markdown",
   "id": "41e145f8",
   "metadata": {
    "slideshow": {
     "slide_type": "subslide"
    }
   },
   "source": [
    "## The simplest pattern"
   ]
  },
  {
   "cell_type": "code",
   "execution_count": null,
   "id": "093dc72e",
   "metadata": {
    "execution": {
     "iopub.execute_input": "2023-11-26T15:44:41.413838Z",
     "iopub.status.busy": "2023-11-26T15:44:41.413578Z",
     "iopub.status.idle": "2023-11-26T15:44:41.416970Z",
     "shell.execute_reply": "2023-11-26T15:44:41.416380Z"
    }
   },
   "outputs": [],
   "source": [
    "pattern = \"test\"\n",
    "print(re.search(pattern, \"This is a test.\"))"
   ]
  },
  {
   "cell_type": "markdown",
   "id": "2e2eecc6",
   "metadata": {},
   "source": [
    "\"Normal\" characters in a pattern match themselves.\n",
    "\n",
    "The `search` function tries to find the pattern anywhere in a given string.\n",
    "\n",
    "So, we're using the `search` function here to ask: \"does the string `\"This is a test.\"` contain the sequence `test`\"?"
   ]
  },
  {
   "cell_type": "code",
   "execution_count": null,
   "id": "69b65def",
   "metadata": {
    "execution": {
     "iopub.execute_input": "2023-11-26T15:44:41.420046Z",
     "iopub.status.busy": "2023-11-26T15:44:41.419796Z",
     "iopub.status.idle": "2023-11-26T15:44:41.423184Z",
     "shell.execute_reply": "2023-11-26T15:44:41.422542Z"
    },
    "slideshow": {
     "slide_type": "subslide"
    }
   },
   "outputs": [],
   "source": [
    "pattern = \"test\"\n",
    "print(re.search(pattern, \"This is a test2.\"))\n"
   ]
  },
  {
   "cell_type": "markdown",
   "id": "18e69e74",
   "metadata": {},
   "source": [
    "`search` returns a `Match` object that gives us some information about the match that was found - where it occurred in the string, and what the matched text was.\n",
    "\n",
    "If no match is found, `search` returns `None`."
   ]
  },
  {
   "cell_type": "markdown",
   "id": "29055d1f",
   "metadata": {
    "slideshow": {
     "slide_type": "slide"
    }
   },
   "source": [
    "## Special sequences\n",
    "\n",
    "If we stuck only to normal characters, then regexes would be no better than saying `\"test\" in \"This is a test.\"`\n",
    "\n",
    "There are a number of special characters and sequences that offer much more power. We'll look at a few today."
   ]
  },
  {
   "cell_type": "markdown",
   "id": "a60b0097",
   "metadata": {
    "slideshow": {
     "slide_type": "subslide"
    }
   },
   "source": [
    "## `[]`\n",
    "\n",
    "Brackets denote a \"character class\" - a set of characters that can be matched:\n",
    "* `[abc]` matches `\"a\"`, `\"b\"`, or `\"c\"`\n",
    "\n",
    "`-` can be used to specify a range of characters:\n",
    "* `[0-9]` matches any digit between `0` and `9`\n",
    "* `[a-p]` matches any letter between `a` and `p`\n",
    "\n",
    "You can specify multiple ranges together:\n",
    "* `[a-zA-Z]` matches any upper or lower case letter"
   ]
  },
  {
   "cell_type": "code",
   "execution_count": null,
   "id": "6cc33227",
   "metadata": {
    "execution": {
     "iopub.execute_input": "2023-11-26T15:44:41.426301Z",
     "iopub.status.busy": "2023-11-26T15:44:41.426049Z",
     "iopub.status.idle": "2023-11-26T15:44:41.430204Z",
     "shell.execute_reply": "2023-11-26T15:44:41.429583Z"
    },
    "slideshow": {
     "slide_type": "subslide"
    }
   },
   "outputs": [],
   "source": [
    "pattern = 'I got an [ABCDF]'\n",
    "print(re.search(pattern, \"I got an A\"))\n",
    "print(re.search(pattern, \"I got an F :(\"))\n",
    "print(re.search(pattern, \"I got an d\"))\n",
    "print(re.search(pattern, \"I got a B\"))\n",
    "\n",
    "print(re.match(pattern, \":( I got an F\"))"
   ]
  },
  {
   "cell_type": "markdown",
   "id": "cef7c3c6",
   "metadata": {},
   "source": [
    "`[ABCDF]` in the pattern matches any of the letters: `A`, `B`, `C`, `D`, `F`."
   ]
  },
  {
   "cell_type": "markdown",
   "id": "25ad3d58",
   "metadata": {
    "slideshow": {
     "slide_type": "subslide"
    }
   },
   "source": [
    "## `^`\n",
    "\n",
    "Using `^` at the beginning of a character class means \"match anything **except** these characters\"."
   ]
  },
  {
   "cell_type": "code",
   "execution_count": null,
   "id": "6af60312",
   "metadata": {
    "execution": {
     "iopub.execute_input": "2023-11-26T15:44:41.433187Z",
     "iopub.status.busy": "2023-11-26T15:44:41.432932Z",
     "iopub.status.idle": "2023-11-26T15:44:41.437267Z",
     "shell.execute_reply": "2023-11-26T15:44:41.436674Z"
    }
   },
   "outputs": [],
   "source": [
    "pattern = 'No vowels allowed: [^aeiou]'\n",
    "\n",
    "print(re.search(pattern, \"No vowels allowed: p\"))\n",
    "print(re.search(pattern, \"No vowels allowed: a\"))\n",
    "\n",
    "pattern2 = '[^aeiou]*'\n",
    "print(re.findall(pattern2, \"No vowels allowed: p\"))\n",
    "print(re.search(pattern2, \"fjlwfjksnb\"))"
   ]
  },
  {
   "cell_type": "markdown",
   "id": "261c5706",
   "metadata": {
    "slideshow": {
     "slide_type": "fragment"
    }
   },
   "source": [
    "This pattern matches any substring that starts with `\"No vowels allowed: \"`, followed by a letter that isn't `a`, `e`, `i`, `o`, or `u`."
   ]
  },
  {
   "cell_type": "markdown",
   "id": "dc7a1ec9",
   "metadata": {
    "slideshow": {
     "slide_type": "subslide"
    }
   },
   "source": [
    "## Predefined character classes\n",
    "\n",
    "There are some predefined character classes you can use:\n",
    "\n",
    "| Sequence | Matches | Equivalent character class |\n",
    "| --- | --- | --- | \n",
    "| `\\d` | any digit | `[0-9]` |\n",
    "| `\\D` | any non-digit | `[^0-9]` |\n",
    "| `\\s` | any whitespace character | `[ \\t\\n\\r\\f\\v]` |\n",
    "| `\\S` | any non-whitespace character | `[^ \\t\\n\\r\\f\\v]` |\n",
    "| `\\w` | any alphanumeric character | `[a-zA-Z0-9_]` |\n",
    "| `\\W` | any non-alphanumeric character | `[^a-zA-Z0-9_]` |"
   ]
  },
  {
   "cell_type": "code",
   "execution_count": null,
   "id": "c76f1643",
   "metadata": {
    "execution": {
     "iopub.execute_input": "2023-11-26T15:44:41.440328Z",
     "iopub.status.busy": "2023-11-26T15:44:41.440085Z",
     "iopub.status.idle": "2023-11-26T15:44:41.443980Z",
     "shell.execute_reply": "2023-11-26T15:44:41.443406Z"
    },
    "slideshow": {
     "slide_type": ""
    }
   },
   "outputs": [],
   "source": [
    "pattern = \"Name:\\s\\w\\w\\w\\sPhone:\\s\\d\\d\\d-\\d\\d\\d\\d\"\n",
    "print(re.search(pattern, \"Name: Joe Phone: 555-1234\"))\n",
    "print(re.search(pattern, \"Name:\\tJoe\\nPhone: 555-1234\"))\n",
    "print(re.search(pattern, \"Name: Bill Phone: 555-1234\"))"
   ]
  },
  {
   "cell_type": "markdown",
   "id": "3e822de9",
   "metadata": {
    "slideshow": {
     "slide_type": "slide"
    }
   },
   "source": [
    "## Repetition\n",
    "\n",
    "The next set of special regex characters we'll look at allow us to introduce the idea of repetition. "
   ]
  },
  {
   "cell_type": "markdown",
   "id": "2d076f9e",
   "metadata": {
    "slideshow": {
     "slide_type": "subslide"
    }
   },
   "source": [
    "## `*` - zero or more times\n",
    "\n",
    "`*` means \"match the previous character zero or more times\""
   ]
  },
  {
   "cell_type": "code",
   "execution_count": null,
   "id": "ab3d2240",
   "metadata": {
    "execution": {
     "iopub.execute_input": "2023-11-26T15:44:41.447130Z",
     "iopub.status.busy": "2023-11-26T15:44:41.446740Z",
     "iopub.status.idle": "2023-11-26T15:44:41.450678Z",
     "shell.execute_reply": "2023-11-26T15:44:41.450106Z"
    }
   },
   "outputs": [],
   "source": [
    "pattern = \"Name:\\s*\\w\\w\\w\"\n",
    "print(re.search(pattern, \"Name:Joe\"))\n",
    "print(re.search(pattern, \"Name: Joe\"))\n",
    "print(re.search(pattern, \"Name:  Joe\"))\n",
    "print(re.search(pattern, \"Name:             Joe\"))"
   ]
  },
  {
   "cell_type": "markdown",
   "id": "24298a14",
   "metadata": {
    "slideshow": {
     "slide_type": "subslide"
    }
   },
   "source": [
    "## `?` - zero or one times\n",
    "\n",
    "`?` means \"match the previous character zero or one times\""
   ]
  },
  {
   "cell_type": "code",
   "execution_count": null,
   "id": "32f95717",
   "metadata": {
    "execution": {
     "iopub.execute_input": "2023-11-26T15:44:41.453883Z",
     "iopub.status.busy": "2023-11-26T15:44:41.453455Z",
     "iopub.status.idle": "2023-11-26T15:44:41.457504Z",
     "shell.execute_reply": "2023-11-26T15:44:41.456857Z"
    }
   },
   "outputs": [],
   "source": [
    "pattern = \"Name:\\s?\\w\\w\\w\"\n",
    "print(re.search(pattern, \"Name:Joe\"))\n",
    "print(re.search(pattern, \"Name: Joe\"))\n",
    "print(re.search(pattern, \"Name:  Joe\"))\n",
    "print(re.search(pattern, \"Name:             Joe\"))"
   ]
  },
  {
   "cell_type": "markdown",
   "id": "ef20840c",
   "metadata": {
    "slideshow": {
     "slide_type": "subslide"
    }
   },
   "source": [
    "## `+` - one or more times\n",
    "\n",
    "`+` means \"match the previous character one or more times\""
   ]
  },
  {
   "cell_type": "code",
   "execution_count": null,
   "id": "26348acf",
   "metadata": {
    "execution": {
     "iopub.execute_input": "2023-11-26T15:44:41.460464Z",
     "iopub.status.busy": "2023-11-26T15:44:41.460227Z",
     "iopub.status.idle": "2023-11-26T15:44:41.464348Z",
     "shell.execute_reply": "2023-11-26T15:44:41.463796Z"
    }
   },
   "outputs": [],
   "source": [
    "pattern = \"Name:\\s+\\w\\w\\w\"\n",
    "print(re.search(pattern, \"Name:Joe\"))\n",
    "print(re.search(pattern, \"Name: Joe\"))\n",
    "print(re.search(pattern, \"Name:  Joe\"))\n",
    "print(re.search(pattern, \"Name:             Joe\"))"
   ]
  },
  {
   "cell_type": "markdown",
   "id": "2beac47f",
   "metadata": {
    "slideshow": {
     "slide_type": "subslide"
    }
   },
   "source": [
    "## `{m,n}` - a specific range\n",
    "\n",
    "`{m,n}` means \"match the previous character at least `m`, but not more than `n`, times\""
   ]
  },
  {
   "cell_type": "code",
   "execution_count": null,
   "id": "60ac6b35",
   "metadata": {
    "execution": {
     "iopub.execute_input": "2023-11-26T15:44:41.467292Z",
     "iopub.status.busy": "2023-11-26T15:44:41.467055Z",
     "iopub.status.idle": "2023-11-26T15:44:41.471326Z",
     "shell.execute_reply": "2023-11-26T15:44:41.470736Z"
    }
   },
   "outputs": [],
   "source": [
    "pattern = \"Name:\\s{1,3}\\w\\w\\w\"\n",
    "print(re.search(pattern, \"Name:Joe\"))\n",
    "print(re.search(pattern, \"Name: Joe\"))\n",
    "print(re.search(pattern, \"Name:  Joe\"))\n",
    "print(re.search(pattern, \"Name:   Joe\"))\n",
    "print(re.search(pattern, \"Name:    Joe\"))\n",
    "print(re.search(pattern, \"Name:             Joe\"))"
   ]
  },
  {
   "cell_type": "markdown",
   "id": "c218533c",
   "metadata": {
    "slideshow": {
     "slide_type": "subslide"
    }
   },
   "source": [
    "You can also use a variant: `{m}`, which matches exactly `m` times:"
   ]
  },
  {
   "cell_type": "code",
   "execution_count": null,
   "id": "514ce162",
   "metadata": {
    "execution": {
     "iopub.execute_input": "2023-11-26T15:44:41.474436Z",
     "iopub.status.busy": "2023-11-26T15:44:41.474204Z",
     "iopub.status.idle": "2023-11-26T15:44:41.478548Z",
     "shell.execute_reply": "2023-11-26T15:44:41.477943Z"
    }
   },
   "outputs": [],
   "source": [
    "pattern = \"Name:\\s{2}\\w\\w\\w\"\n",
    "print(re.search(pattern, \"Name:Joe\"))\n",
    "print(re.search(pattern, \"Name: Joe\"))\n",
    "print(re.search(pattern, \"Name:  Joe\"))\n",
    "print(re.search(pattern, \"Name:   Joe\"))\n",
    "print(re.search(pattern, \"Name:             Joe\"))"
   ]
  },
  {
   "cell_type": "markdown",
   "id": "f7595a8d",
   "metadata": {
    "slideshow": {
     "slide_type": "slide"
    }
   },
   "source": [
    "## `()` - Grouping\n",
    "\n",
    "Parentheses - `()` - can be used to group multiple characters together."
   ]
  },
  {
   "cell_type": "code",
   "execution_count": null,
   "id": "290f7dd9",
   "metadata": {
    "execution": {
     "iopub.execute_input": "2023-11-26T15:44:41.481590Z",
     "iopub.status.busy": "2023-11-26T15:44:41.481322Z",
     "iopub.status.idle": "2023-11-26T15:44:41.485488Z",
     "shell.execute_reply": "2023-11-26T15:44:41.484933Z"
    }
   },
   "outputs": [],
   "source": [
    "#pattern = \"\\w*(,\\w+)*\"\n",
    "word = \"\\w+\"\n",
    "comma_and_word = f\",{word}\"\n",
    "pattern = f\"{word}({comma_and_word})*\"\n",
    "\n",
    "print(re.search(pattern, \"Any,length,list,matches\"))\n",
    "print(re.search(pattern, \"Any,length,list,matches,\"))\n",
    "print(re.search(pattern, \"Any\"))\n",
    "print(re.search(pattern, \"Can't,use,non,alphanumeric\"))"
   ]
  },
  {
   "cell_type": "code",
   "execution_count": null,
   "id": "1b3d14af",
   "metadata": {
    "execution": {
     "iopub.execute_input": "2023-11-26T15:44:41.488487Z",
     "iopub.status.busy": "2023-11-26T15:44:41.488221Z",
     "iopub.status.idle": "2023-11-26T15:44:41.492045Z",
     "shell.execute_reply": "2023-11-26T15:44:41.491512Z"
    },
    "slideshow": {
     "slide_type": "subslide"
    }
   },
   "outputs": [],
   "source": [
    "#pattern = \"[^,]*(,[^,]*)*\"\n",
    "word = \"[^,]+\"\n",
    "comma_and_word = f\",{word}\"\n",
    "pattern = f\"{word}({comma_and_word})*\"\n",
    "print(re.search(pattern, \"Any,length,list,matches\"))\n",
    "print(re.search(pattern, \"Any\"))\n",
    "print(re.search(pattern, \"Can't,use,non,alphanumeric\"))"
   ]
  },
  {
   "cell_type": "markdown",
   "id": "d7d0a9f2",
   "metadata": {
    "slideshow": {
     "slide_type": "subslide"
    }
   },
   "source": [
    "## `|` - \"or\"\n",
    "\n",
    "The pipe (`|`) character can be used to take two patterns, _A_ and _B_, and match either one.\n",
    "\n",
    "It has very low precedence, so you often need parentheses:"
   ]
  },
  {
   "cell_type": "code",
   "execution_count": null,
   "id": "892ca28d",
   "metadata": {
    "execution": {
     "iopub.execute_input": "2023-11-26T15:44:41.495262Z",
     "iopub.status.busy": "2023-11-26T15:44:41.495024Z",
     "iopub.status.idle": "2023-11-26T15:44:41.498869Z",
     "shell.execute_reply": "2023-11-26T15:44:41.498328Z"
    }
   },
   "outputs": [],
   "source": [
    "pattern = \"I'm (happy|sad)\"\n",
    "print(re.search(pattern, \"I'm happy\"))\n",
    "print(re.search(pattern, \"I'm sad\"))\n",
    "print(re.search(pattern, \"I'm excited\"))\n",
    "\n",
    "print(re.findall(pattern, \"I'm happy and I'm sad\"))"
   ]
  },
  {
   "cell_type": "markdown",
   "id": "46b4b626",
   "metadata": {
    "slideshow": {
     "slide_type": "slide"
    }
   },
   "source": [
    "## `re` module functions\n",
    "\n",
    "The `re` module gives us a few useful functions:\n",
    "\n",
    "| Function | meaning |\n",
    "| --- | --- |\n",
    "| match() | Match at the beginning of the string only |\n",
    "| search() | Match anywhere in the string |\n",
    "| findall() | Return a list of all matches (as strings) found in the string |\n",
    "| split() | Split a string wherever the pattern matches |\n",
    "| sub() | Replace all pattern matches with a different string |\n",
    "\n",
    "These all take 2 arguments: a pattern to match against, and a string to search in."
   ]
  },
  {
   "cell_type": "markdown",
   "id": "6eb30282",
   "metadata": {
    "slideshow": {
     "slide_type": "slide"
    }
   },
   "source": [
    "## Phone number matching revisited\n",
    "\n",
    "Our last pattern: `\\d{3}-\\d{4}`\n",
    "\n",
    "We can decode this now: any 3 digits, a dash, and any 4 digits."
   ]
  },
  {
   "cell_type": "markdown",
   "id": "3d52c196",
   "metadata": {
    "slideshow": {
     "slide_type": "subslide"
    }
   },
   "source": [
    "## Area codes\n",
    "\n",
    "We can accept area codes, with optional parentheses (e.g. `(617) 555-1234` or `617 555-1234`)"
   ]
  },
  {
   "cell_type": "code",
   "execution_count": null,
   "id": "38431cb6",
   "metadata": {
    "execution": {
     "iopub.execute_input": "2023-11-26T15:44:41.501830Z",
     "iopub.status.busy": "2023-11-26T15:44:41.501606Z",
     "iopub.status.idle": "2023-11-26T15:44:41.506361Z",
     "shell.execute_reply": "2023-11-26T15:44:41.505712Z"
    }
   },
   "outputs": [],
   "source": [
    "area_code = \"\\(?\\d{3}\\)?\"\n",
    "optional_space = \"[\\s-]?\"\n",
    "phone_number = \"\\d{3}-\\d{4}\"\n",
    "pattern = f\"{area_code}{optional_space}{phone_number}\"\n",
    "#pattern = \"\\(?\\d{3}\\)?\\s?\\d{3}-\\d{4}\"\n",
    "\n",
    "print(re.search(pattern, \"(617) 555-1234\"))\n",
    "print(re.search(pattern, \"617 555-1234\"))\n",
    "print(re.search(pattern, \"617-555-1234\"))"
   ]
  },
  {
   "cell_type": "markdown",
   "id": "8bcc52f5",
   "metadata": {
    "slideshow": {
     "slide_type": "subslide"
    }
   },
   "source": [
    "Handle dash, space, or nothing for each separator:"
   ]
  },
  {
   "cell_type": "code",
   "execution_count": null,
   "id": "ba068771",
   "metadata": {
    "execution": {
     "iopub.execute_input": "2023-11-26T15:44:41.509723Z",
     "iopub.status.busy": "2023-11-26T15:44:41.509457Z",
     "iopub.status.idle": "2023-11-26T15:44:41.514655Z",
     "shell.execute_reply": "2023-11-26T15:44:41.514075Z"
    }
   },
   "outputs": [],
   "source": [
    "area_code = \"\\(?\\d{3}\\)?\"\n",
    "optional_space = \"[\\s-]?\"\n",
    "phone_number = \"\\d{3}\" + optional_space + \"\\d{4}\"\n",
    "pattern = f\"{area_code}{optional_space}{phone_number}\"\n",
    "pattern = \"\\(?\\d{3}\\)?[-\\s]?\\d{3}[-\\s]?\\d{4}\"\n",
    "print(re.search(pattern, \"(617) 555-1234\"))\n",
    "print(re.search(pattern, \"617 555-1234\"))\n",
    "print(re.search(pattern, \"617-555-1234\"))\n",
    "print(re.search(pattern, \"617555-1234\"))\n",
    "print(re.search(pattern, \"617-5551234\"))\n",
    "print(re.search(pattern, \"6175551234\"))\n",
    "print(re.search(pattern, \"(617)-5551234\"))"
   ]
  },
  {
   "cell_type": "code",
   "execution_count": null,
   "id": "bd706610",
   "metadata": {
    "execution": {
     "iopub.execute_input": "2023-11-26T15:44:41.517612Z",
     "iopub.status.busy": "2023-11-26T15:44:41.517379Z",
     "iopub.status.idle": "2023-11-26T15:44:41.520854Z",
     "shell.execute_reply": "2023-11-26T15:44:41.520072Z"
    }
   },
   "outputs": [],
   "source": [
    "pattern = \"\\(?\\d{3}\\)?[-\\s]?\\d{3}[-\\s]?\\d{4}\"\n",
    "print(re.search(pattern, \"555-1234\"))"
   ]
  },
  {
   "cell_type": "markdown",
   "id": "d84285d6",
   "metadata": {
    "slideshow": {
     "slide_type": "subslide"
    }
   },
   "source": [
    "Make the whole area code optional:"
   ]
  },
  {
   "cell_type": "code",
   "execution_count": null,
   "id": "0fb9ec0a",
   "metadata": {
    "execution": {
     "iopub.execute_input": "2023-11-26T15:44:41.523997Z",
     "iopub.status.busy": "2023-11-26T15:44:41.523656Z",
     "iopub.status.idle": "2023-11-26T15:44:41.529202Z",
     "shell.execute_reply": "2023-11-26T15:44:41.528601Z"
    }
   },
   "outputs": [],
   "source": [
    "area_code = \"\\(?\\d{3}\\)?\"\n",
    "optional_area_code = f\"({area_code})?\"\n",
    "optional_space_or_dash = \"[\\s-]?\"\n",
    "phone_number = \"\\d{3}\" + optional_space_or_dash + \"\\d{4}\"\n",
    "pattern = f\"{optional_area_code}{optional_space_or_dash}{phone_number}\"\n",
    "#pattern = \"(\\(?\\d{3}\\)?)?[-\\s]?\\d{3}[-\\s]?\\d{4}\"\n",
    "print(re.search(pattern, \"555-1234\"))\n",
    "print(re.search(pattern, \"(617) 555-1234\"))\n",
    "print(re.search(pattern, \"617 555-1234\"))\n",
    "print(re.search(pattern, \"617-555-1234\"))\n",
    "print(re.search(pattern, \"617555-1234\"))\n",
    "print(re.search(pattern, \"617-5551234\"))\n",
    "print(re.search(pattern, \"6175551234\"))\n",
    "print(re.search(pattern, \"(617)-5551234\"))\n",
    "print(re.search(pattern, \"555-1234\"))"
   ]
  },
  {
   "cell_type": "markdown",
   "id": "2dca5fa8",
   "metadata": {
    "slideshow": {
     "slide_type": "slide"
    }
   },
   "source": [
    "## Exercise\n",
    "\n",
    "Write a regex that matches dates of the form: `MM/DD/YYYY`"
   ]
  },
  {
   "cell_type": "markdown",
   "id": "08fd78ea",
   "metadata": {
    "slideshow": {
     "slide_type": "subslide"
    }
   },
   "source": [
    "A naive version:"
   ]
  },
  {
   "cell_type": "code",
   "execution_count": null,
   "id": "4b0c9d28",
   "metadata": {
    "execution": {
     "iopub.execute_input": "2023-11-26T15:44:41.532330Z",
     "iopub.status.busy": "2023-11-26T15:44:41.532079Z",
     "iopub.status.idle": "2023-11-26T15:44:41.535628Z",
     "shell.execute_reply": "2023-11-26T15:44:41.535032Z"
    },
    "slideshow": {
     "slide_type": ""
    }
   },
   "outputs": [],
   "source": [
    "pattern = '\\d\\d/\\d\\d/\\d\\d\\d\\d'\n",
    "print(re.match(pattern, \"02/18/1974\"))\n",
    "print(re.match(pattern, \"12/18/2021\"))"
   ]
  },
  {
   "cell_type": "markdown",
   "id": "7ee229c0",
   "metadata": {
    "slideshow": {
     "slide_type": "subslide"
    }
   },
   "source": [
    "Let's improve it - first, allow `MM/DD/YY` as well:"
   ]
  },
  {
   "cell_type": "code",
   "execution_count": null,
   "id": "67568967",
   "metadata": {
    "execution": {
     "iopub.execute_input": "2023-11-26T15:44:41.538748Z",
     "iopub.status.busy": "2023-11-26T15:44:41.538497Z",
     "iopub.status.idle": "2023-11-26T15:44:41.542459Z",
     "shell.execute_reply": "2023-11-26T15:44:41.541811Z"
    }
   },
   "outputs": [],
   "source": [
    "pattern = '\\d\\d/\\d\\d/\\d\\d(\\d\\d)?'\n",
    "print(re.match(pattern, \"02/18/1974\"))\n",
    "print(re.match(pattern, \"12/18/2021\"))\n",
    "print(re.match(pattern, \"12/18/21\"))\n",
    "print(re.match(pattern, \"12/18/213\"))"
   ]
  },
  {
   "cell_type": "markdown",
   "id": "6e2e431b",
   "metadata": {
    "slideshow": {
     "slide_type": "subslide"
    }
   },
   "source": [
    "Now allow single digit day/months:"
   ]
  },
  {
   "cell_type": "code",
   "execution_count": null,
   "id": "da2e99b0",
   "metadata": {
    "execution": {
     "iopub.execute_input": "2023-11-26T15:44:41.545615Z",
     "iopub.status.busy": "2023-11-26T15:44:41.545377Z",
     "iopub.status.idle": "2023-11-26T15:44:41.549595Z",
     "shell.execute_reply": "2023-11-26T15:44:41.549016Z"
    }
   },
   "outputs": [],
   "source": [
    "month = '\\d?\\d'\n",
    "day = '\\d?\\d'\n",
    "year = '\\d\\d(\\d\\d)?'\n",
    "pattern = f'{month}/{day}/{year}'\n",
    "print(re.match(pattern, \"02/18/1974\"))\n",
    "print(re.match(pattern, \"12/18/2021\"))\n",
    "print(re.match(pattern, \"12/18/21\"))\n",
    "print(re.match(pattern, \"2/18/1974\"))\n",
    "print(re.match(pattern, \"12/8/1974\"))"
   ]
  },
  {
   "cell_type": "markdown",
   "id": "a83f15bc",
   "metadata": {
    "slideshow": {
     "slide_type": "subslide"
    }
   },
   "source": [
    "Now disallow obviously invalid months/days:"
   ]
  },
  {
   "cell_type": "code",
   "execution_count": null,
   "id": "d5d11b9a",
   "metadata": {
    "execution": {
     "iopub.execute_input": "2023-11-26T15:44:41.552658Z",
     "iopub.status.busy": "2023-11-26T15:44:41.552413Z",
     "iopub.status.idle": "2023-11-26T15:44:41.557585Z",
     "shell.execute_reply": "2023-11-26T15:44:41.556944Z"
    }
   },
   "outputs": [],
   "source": [
    "month = '(0?[1-9]|1?[0-2])'\n",
    "day = '[0-3]?\\d'\n",
    "year = '\\d\\d(\\d\\d)?'\n",
    "pattern = f'{month}/{day}/{year}'\n",
    "#pattern = '[01]?\\d/[0-3]?\\d/\\d\\d(\\d\\d)?'\n",
    "print(re.match(pattern, \"02/18/1974\"))\n",
    "print(re.match(pattern, \"12/18/2021\"))\n",
    "print(re.match(pattern, \"12/18/21\"))\n",
    "print(re.match(pattern, \"2/18/1974\"))\n",
    "print(re.match(pattern, \"12/8/1974\"))\n",
    "print(re.match(pattern, \"22/8/1974\"))\n",
    "print(re.match(pattern, \"02/48/1974\"))\n",
    "print(re.match(pattern, \"19/8/1974\"))"
   ]
  },
  {
   "cell_type": "markdown",
   "id": "4e77cf35",
   "metadata": {
    "slideshow": {
     "slide_type": "slide"
    }
   },
   "source": [
    "## Exercise\n",
    "\n",
    "Find valid hashtags and user mentions in a social media post.\n",
    "\n",
    "Hashtags start with `#`, and can contain letters, numbers, and underscores, but cannot start with an underscore. They must be at least 3 characters long.\n",
    "\n",
    "Usernames start with `@`, and can contain letters and numbers only. They must be between 2 and 24 characters long."
   ]
  },
  {
   "cell_type": "code",
   "execution_count": null,
   "id": "2d54ad59",
   "metadata": {
    "execution": {
     "iopub.execute_input": "2023-11-26T15:44:41.560617Z",
     "iopub.status.busy": "2023-11-26T15:44:41.560361Z",
     "iopub.status.idle": "2023-11-26T15:44:41.564132Z",
     "shell.execute_reply": "2023-11-26T15:44:41.563548Z"
    },
    "slideshow": {
     "slide_type": "subslide"
    }
   },
   "outputs": [],
   "source": [
    "hash_pattern = '#\\w[\\w_]{2,}'\n",
    "user_pattern = '@\\w{2,24}'\n",
    "message = \"Excited for #PythonRegex lecture! @User123, don't miss it. #RegexFun\"\n",
    "print(re.findall(hash_pattern, message))\n",
    "print(re.findall(user_pattern, message))"
   ]
  },
  {
   "cell_type": "markdown",
   "id": "cb41230c",
   "metadata": {
    "slideshow": {
     "slide_type": "slide"
    }
   },
   "source": [
    "## Exercise\n",
    "\n",
    "Extract quoted sections from text."
   ]
  },
  {
   "cell_type": "code",
   "execution_count": null,
   "id": "fead20ea",
   "metadata": {
    "execution": {
     "iopub.execute_input": "2023-11-26T15:44:41.567349Z",
     "iopub.status.busy": "2023-11-26T15:44:41.567089Z",
     "iopub.status.idle": "2023-11-26T15:44:41.573365Z",
     "shell.execute_reply": "2023-11-26T15:44:41.572772Z"
    }
   },
   "outputs": [],
   "source": [
    "quote_pattern = '\"[^\"]*\"'\n",
    "re.findall(quote_pattern, 'Find some \"quotes\" in \"this text\"')"
   ]
  },
  {
   "cell_type": "markdown",
   "id": "837ca323",
   "metadata": {
    "slideshow": {
     "slide_type": "slide"
    }
   },
   "source": [
    "Regular expressions have a number of other features we haven't talked about. \n",
    "\n",
    "They can be extremely powerful, and can also get extremely complex.\n",
    "\n",
    "Here's a regular expression to validate email addresses (which have a [more complicated specification than you might think](https://datatracker.ietf.org/doc/html/rfc5322#section-3.4.1)):\n",
    "\n",
    "```\n",
    "(?:[a-z0-9!#$%&'*+/=?^_`{|}~-]+(?:\\.[a-z0-9!#$%&'*+/=?^_`{|}~-]+)*|\"(?:[\\x01-\\x08\\x0b\\x0c\\x0e-\\x1f\\x21\\x23-\\x5b\\x5d-\\x7f]|\\\\[\\x01-\\x09\\x0b\\x0c\\x0e-\\x7f])*\")@(?:(?:[a-z0-9](?:[a-z0-9-]*[a-z0-9])?\\.)+[a-z0-9](?:[a-z0-9-]*[a-z0-9])?|\\[(?:(?:(2(5[0-5]|[0-4][0-9])|1[0-9][0-9]|[1-9]?[0-9]))\\.){3}(?:(2(5[0-5]|[0-4][0-9])|1[0-9][0-9]|[1-9]?[0-9])|[a-z0-9-]*[a-z0-9]:(?:[\\x01-\\x08\\x0b\\x0c\\x0e-\\x1f\\x21-\\x5a\\x53-\\x7f]|\\\\[\\x01-\\x09\\x0b\\x0c\\x0e-\\x7f])+)\\])\n",
    "```"
   ]
  },
  {
   "cell_type": "markdown",
   "id": "ae1e5f5c",
   "metadata": {
    "slideshow": {
     "slide_type": "slide"
    }
   },
   "source": [
    "The [Python tutorial on regular expressions](https://docs.python.org/3/howto/regex.html) is relatively accessible. It covers everything from this lecture, and more."
   ]
  }
 ],
 "metadata": {
  "celltoolbar": "Slideshow",
  "kernelspec": {
   "display_name": "Python 3 (ipykernel)",
   "language": "python",
   "name": "python3"
  },
  "language_info": {
   "codemirror_mode": {
    "name": "ipython",
    "version": 3
   },
   "file_extension": ".py",
   "mimetype": "text/x-python",
   "name": "python",
   "nbconvert_exporter": "python",
   "pygments_lexer": "ipython3",
   "version": "3.10.9"
  }
 },
 "nbformat": 4,
 "nbformat_minor": 5
}
