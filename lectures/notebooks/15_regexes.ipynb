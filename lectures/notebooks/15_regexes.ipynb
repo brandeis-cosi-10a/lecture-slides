{
 "cells": [
  {
   "cell_type": "markdown",
   "id": "1ee8a1d2",
   "metadata": {
    "slideshow": {
     "slide_type": "slide"
    }
   },
   "source": [
    "# Regular Expressions\n",
    "\n",
    "<style>\n",
    "section.present > section.present { \n",
    "    max-height: 90%; \n",
    "    overflow-y: scroll;\n",
    "}\n",
    "</style>\n",
    "\n",
    "<small><a href=\"https://colab.research.google.com/github/brandeis-jdelfino/cosi-10a/blob/main/lectures/notebooks/15_regexes.ipynb\">Link to interactive slides on Google Colab</a></small>"
   ]
  },
  {
   "cell_type": "markdown",
   "id": "b0488f9f",
   "metadata": {
    "slideshow": {
     "slide_type": "slide"
    }
   },
   "source": [
    "# Announcements\n",
    "\n",
    "* PS4 grades are in LATTE, let me know if you have questions.\n",
    "* If you aren't sure how to interpret LATTE grades, if the class ended today, the grade cutoffs for \"Problem set skills total\" would be:\n",
    "   * **A**: 68 - 72\n",
    "   * **B**: 65 - 67.9\n",
    "   * **C**: 61 - 64.9\n",
    "   * These represent the grading from the syllabus: 90% of mastery skills for an A, 80% for a B, 70% for a C.\n",
    "   * These assume you fully correct your quizzes."
   ]
  },
  {
   "cell_type": "markdown",
   "id": "115cd01e",
   "metadata": {
    "slideshow": {
     "slide_type": "slide"
    }
   },
   "source": [
    "## Exercise\n",
    "\n",
    "Determine whether a string contains a phone number. "
   ]
  },
  {
   "cell_type": "markdown",
   "id": "536036b5",
   "metadata": {
    "slideshow": {
     "slide_type": "fragment"
    }
   },
   "source": [
    "But not a specific phone number - anything that looks like a phone number: `555-1234`"
   ]
  },
  {
   "cell_type": "code",
   "execution_count": null,
   "id": "531a6ca1",
   "metadata": {
    "execution": {
     "iopub.execute_input": "2024-04-22T23:14:24.474980Z",
     "iopub.status.busy": "2024-04-22T23:14:24.474392Z",
     "iopub.status.idle": "2024-04-22T23:14:24.489531Z",
     "shell.execute_reply": "2024-04-22T23:14:24.488434Z"
    },
    "slideshow": {
     "slide_type": "subslide"
    }
   },
   "outputs": [],
   "source": [
    "def is_phone_number(value):\n",
    "    if len(value) != 8:\n",
    "        return False\n",
    "    if not value[0].isdigit():\n",
    "        return False\n",
    "    if not value[1].isdigit():\n",
    "        return False\n",
    "    if not value[2].isdigit():\n",
    "        return False\n",
    "    if value[3] != '-':\n",
    "        return False\n",
    "    if not value[4].isdigit():\n",
    "        return False\n",
    "    if not value[5].isdigit():\n",
    "        return False\n",
    "    if not value[6].isdigit():\n",
    "        return False  \n",
    "    if not value[7].isdigit():\n",
    "        return False  \n",
    "    return True"
   ]
  },
  {
   "cell_type": "code",
   "execution_count": null,
   "id": "b5e53ffa",
   "metadata": {
    "execution": {
     "iopub.execute_input": "2024-04-22T23:14:24.493471Z",
     "iopub.status.busy": "2024-04-22T23:14:24.493165Z",
     "iopub.status.idle": "2024-04-22T23:14:24.497787Z",
     "shell.execute_reply": "2024-04-22T23:14:24.496886Z"
    }
   },
   "outputs": [],
   "source": [
    "print(is_phone_number(\"555-1234\"))\n",
    "print(is_phone_number(\"5551234\"))\n",
    "print(is_phone_number(\"555-12345\"))\n",
    "print(is_phone_number(\"555-123\"))"
   ]
  },
  {
   "cell_type": "markdown",
   "id": "573f8510",
   "metadata": {
    "slideshow": {
     "slide_type": "subslide"
    }
   },
   "source": [
    "Now we can try `is_phone_number` at each index of a longer string..."
   ]
  },
  {
   "cell_type": "code",
   "execution_count": null,
   "id": "82f33464",
   "metadata": {
    "execution": {
     "iopub.execute_input": "2024-04-22T23:14:24.501505Z",
     "iopub.status.busy": "2024-04-22T23:14:24.501212Z",
     "iopub.status.idle": "2024-04-22T23:14:24.504973Z",
     "shell.execute_reply": "2024-04-22T23:14:24.504329Z"
    }
   },
   "outputs": [],
   "source": [
    "def contains_phone_number(value):\n",
    "    for i in range(len(value)-7):\n",
    "        if is_phone_number(value[i:i+8]):\n",
    "            return True\n",
    "    return False\n"
   ]
  },
  {
   "cell_type": "code",
   "execution_count": null,
   "id": "358051c4",
   "metadata": {
    "execution": {
     "iopub.execute_input": "2024-04-22T23:14:24.508987Z",
     "iopub.status.busy": "2024-04-22T23:14:24.508406Z",
     "iopub.status.idle": "2024-04-22T23:14:24.512939Z",
     "shell.execute_reply": "2024-04-22T23:14:24.512110Z"
    }
   },
   "outputs": [],
   "source": [
    "print(contains_phone_number(\"My phone number is 867-5309.\"))\n",
    "print(contains_phone_number(\"My phone number is 867-5309\"))\n",
    "print(contains_phone_number(\"867-5309 is my phone number.\"))\n",
    "print(contains_phone_number(\"867-5309\"))\n",
    "print(contains_phone_number(\"867-530 is not my phone number\"))\n",
    "print(contains_phone_number(\"867-530\"))\n",
    "print(contains_phone_number(\"My phone number is not 867-530\"))"
   ]
  },
  {
   "cell_type": "markdown",
   "id": "09f23c8d",
   "metadata": {
    "slideshow": {
     "slide_type": "subslide"
    }
   },
   "source": [
    "Ok, it's not pretty, but it works."
   ]
  },
  {
   "cell_type": "markdown",
   "id": "910aa087",
   "metadata": {
    "slideshow": {
     "slide_type": "fragment"
    }
   },
   "source": [
    "Now handle a variety of formats - with/without the dash, area codes `(617)867-5309`, `617-867-5309`, etc."
   ]
  },
  {
   "cell_type": "markdown",
   "id": "b19ba743",
   "metadata": {
    "slideshow": {
     "slide_type": "fragment"
    }
   },
   "source": [
    "Ugh."
   ]
  },
  {
   "cell_type": "markdown",
   "id": "6aa1a494",
   "metadata": {
    "slideshow": {
     "slide_type": "slide"
    }
   },
   "source": [
    "## Regular Expressions\n",
    "\n",
    "Python (along with many other programming languages) provides **regular expressions**: a powerful \"mini-language\" for matching, extracting, and manipulating string data.\n",
    "\n",
    "\"Regular expression\" is often shortened to \"regex\"."
   ]
  },
  {
   "cell_type": "code",
   "execution_count": null,
   "id": "cd886737",
   "metadata": {
    "execution": {
     "iopub.execute_input": "2024-04-22T23:14:24.516787Z",
     "iopub.status.busy": "2024-04-22T23:14:24.516508Z",
     "iopub.status.idle": "2024-04-22T23:14:24.520048Z",
     "shell.execute_reply": "2024-04-22T23:14:24.519442Z"
    },
    "slideshow": {
     "slide_type": "subslide"
    }
   },
   "outputs": [],
   "source": [
    "import re\n",
    "def contains_phone_number(value):\n",
    "    match = re.search('\\d{3}-\\d{4}', value)\n",
    "    return match is not None"
   ]
  },
  {
   "cell_type": "code",
   "execution_count": null,
   "id": "a2604261",
   "metadata": {
    "execution": {
     "iopub.execute_input": "2024-04-22T23:14:24.523462Z",
     "iopub.status.busy": "2024-04-22T23:14:24.523179Z",
     "iopub.status.idle": "2024-04-22T23:14:24.527400Z",
     "shell.execute_reply": "2024-04-22T23:14:24.526779Z"
    }
   },
   "outputs": [],
   "source": [
    "print(contains_phone_number(\"My phone number is 867-5309.\"))\n",
    "print(contains_phone_number(\"My phone number is 867-5309\"))\n",
    "print(contains_phone_number(\"867-5309 is my phone number.\"))\n",
    "print(contains_phone_number(\"867-5309\"))\n",
    "print(contains_phone_number(\"867-530 is not my phone number\"))\n",
    "print(contains_phone_number(\"867-530\"))\n",
    "print(contains_phone_number(\"My phone number is not 867-530\"))"
   ]
  },
  {
   "cell_type": "markdown",
   "id": "7651e4c7",
   "metadata": {
    "slideshow": {
     "slide_type": "subslide"
    }
   },
   "source": [
    "## If you thought `def __init__(self)` looked weird...\n",
    "\n",
    "`re.search('\\d{3}-\\d{4}', value)` is probably making your head spin"
   ]
  },
  {
   "cell_type": "markdown",
   "id": "a9444fbc",
   "metadata": {
    "slideshow": {
     "slide_type": "slide"
    }
   },
   "source": [
    "## Patterns\n",
    "\n",
    "A regex \"pattern\" defines a set of matching rules.\n",
    "\n",
    "A pattern might define the rules for a phone number, an email address, a date, or something more complicated.\n",
    "\n",
    "Patterns can be used to ask questions like \"does this string match this pattern?\" or \"can this string be found in this pattern?\""
   ]
  },
  {
   "cell_type": "markdown",
   "id": "41e145f8",
   "metadata": {
    "slideshow": {
     "slide_type": "subslide"
    }
   },
   "source": [
    "## The simplest pattern"
   ]
  },
  {
   "cell_type": "code",
   "execution_count": null,
   "id": "093dc72e",
   "metadata": {
    "execution": {
     "iopub.execute_input": "2024-04-22T23:14:24.530933Z",
     "iopub.status.busy": "2024-04-22T23:14:24.530647Z",
     "iopub.status.idle": "2024-04-22T23:14:24.534112Z",
     "shell.execute_reply": "2024-04-22T23:14:24.533527Z"
    }
   },
   "outputs": [],
   "source": [
    "pattern = \"test\"\n",
    "print(re.search(pattern, \"This is a test.\"))"
   ]
  },
  {
   "cell_type": "markdown",
   "id": "2e2eecc6",
   "metadata": {},
   "source": [
    "\"Normal\" characters in a pattern match themselves.\n",
    "\n",
    "The `search` function tries to find the pattern anywhere in a given string.\n",
    "\n",
    "So, we're using the `search` function here to ask: \"does the string `\"This is a test.\"` contain the sequence `test`\"?"
   ]
  },
  {
   "cell_type": "code",
   "execution_count": null,
   "id": "69b65def",
   "metadata": {
    "execution": {
     "iopub.execute_input": "2024-04-22T23:14:24.537545Z",
     "iopub.status.busy": "2024-04-22T23:14:24.537243Z",
     "iopub.status.idle": "2024-04-22T23:14:24.540979Z",
     "shell.execute_reply": "2024-04-22T23:14:24.540181Z"
    },
    "slideshow": {
     "slide_type": "subslide"
    }
   },
   "outputs": [],
   "source": [
    "pattern = \"test\"\n",
    "print(re.search(pattern, \"This is a test2.\"))\n"
   ]
  },
  {
   "cell_type": "markdown",
   "id": "18e69e74",
   "metadata": {},
   "source": [
    "`search` returns a `Match` object that gives us some information about the match that was found - where it occurred in the string, and what the matched text was.\n",
    "\n",
    "If no match is found, `search` returns `None`."
   ]
  },
  {
   "cell_type": "markdown",
   "id": "29055d1f",
   "metadata": {
    "slideshow": {
     "slide_type": "slide"
    }
   },
   "source": [
    "## Special sequences\n",
    "\n",
    "If we stuck only to normal characters, then regexes would be no better than saying `\"test\" in \"This is a test.\"`\n",
    "\n",
    "There are a number of special characters and sequences that offer much more power. We'll look at a few today."
   ]
  },
  {
   "cell_type": "markdown",
   "id": "a60b0097",
   "metadata": {
    "slideshow": {
     "slide_type": "subslide"
    }
   },
   "source": [
    "## `[]`\n",
    "\n",
    "Brackets denote a \"character class\" - a set of characters that can be matched:\n",
    "* `[abc]` matches `\"a\"`, `\"b\"`, or `\"c\"`\n",
    "\n",
    "`-` can be used to specify a range of characters:\n",
    "* `[0-9]` matches any digit between `0` and `9`\n",
    "* `[a-p]` matches any letter between `a` and `p`\n",
    "\n",
    "You can specify multiple ranges together:\n",
    "* `[a-zA-Z]` matches any upper or lower case letter"
   ]
  },
  {
   "cell_type": "code",
   "execution_count": null,
   "id": "6cc33227",
   "metadata": {
    "execution": {
     "iopub.execute_input": "2024-04-22T23:14:24.544415Z",
     "iopub.status.busy": "2024-04-22T23:14:24.544054Z",
     "iopub.status.idle": "2024-04-22T23:14:24.548473Z",
     "shell.execute_reply": "2024-04-22T23:14:24.547836Z"
    },
    "slideshow": {
     "slide_type": "subslide"
    }
   },
   "outputs": [],
   "source": [
    "pattern = 'I got an [ABCDF]'\n",
    "print(re.search(pattern, \"I got an A\"))\n",
    "print(re.search(pattern, \"I got an F :(\"))\n",
    "print(re.search(pattern, \"I got an d\"))\n",
    "print(re.search(pattern, \"I got a B\"))\n",
    "\n",
    "print(re.match(pattern, \":( I got an F\"))"
   ]
  },
  {
   "cell_type": "markdown",
   "id": "cef7c3c6",
   "metadata": {},
   "source": [
    "`[ABCDF]` in the pattern matches any of the letters: `A`, `B`, `C`, `D`, `F`."
   ]
  },
  {
   "cell_type": "markdown",
   "id": "25ad3d58",
   "metadata": {
    "slideshow": {
     "slide_type": "subslide"
    }
   },
   "source": [
    "## `^`\n",
    "\n",
    "Using `^` at the beginning of a character class means \"match anything **except** these characters\"."
   ]
  },
  {
   "cell_type": "code",
   "execution_count": null,
   "id": "6af60312",
   "metadata": {
    "execution": {
     "iopub.execute_input": "2024-04-22T23:14:24.551638Z",
     "iopub.status.busy": "2024-04-22T23:14:24.551380Z",
     "iopub.status.idle": "2024-04-22T23:14:24.556162Z",
     "shell.execute_reply": "2024-04-22T23:14:24.555495Z"
    }
   },
   "outputs": [],
   "source": [
    "pattern = 'No vowels allowed: [^aeiou]'\n",
    "\n",
    "print(re.search(pattern, \"No vowels allowed: p\"))\n",
    "print(re.search(pattern, \"No vowels allowed: a\"))\n",
    "\n",
    "pattern2 = '[^aeiou]*'\n",
    "print(re.findall(pattern2, \"No vowels allowed: p\"))\n",
    "print(re.search(pattern2, \"fjlwfjksnb\"))"
   ]
  },
  {
   "cell_type": "markdown",
   "id": "261c5706",
   "metadata": {
    "slideshow": {
     "slide_type": "fragment"
    }
   },
   "source": [
    "This pattern matches any substring that starts with `\"No vowels allowed: \"`, followed by a letter that isn't `a`, `e`, `i`, `o`, or `u`."
   ]
  },
  {
   "cell_type": "markdown",
   "id": "dc7a1ec9",
   "metadata": {
    "slideshow": {
     "slide_type": "subslide"
    }
   },
   "source": [
    "## Predefined character classes\n",
    "\n",
    "There are some predefined character classes you can use:\n",
    "\n",
    "| Sequence | Matches | Equivalent character class |\n",
    "| --- | --- | --- | \n",
    "| `\\d` | any digit | `[0-9]` |\n",
    "| `\\D` | any non-digit | `[^0-9]` |\n",
    "| `\\s` | any whitespace character | `[ \\t\\n\\r\\f\\v]` |\n",
    "| `\\S` | any non-whitespace character | `[^ \\t\\n\\r\\f\\v]` |\n",
    "| `\\w` | any alphanumeric character | `[a-zA-Z0-9_]` |\n",
    "| `\\W` | any non-alphanumeric character | `[^a-zA-Z0-9_]` |"
   ]
  },
  {
   "cell_type": "code",
   "execution_count": null,
   "id": "c76f1643",
   "metadata": {
    "execution": {
     "iopub.execute_input": "2024-04-22T23:14:24.559339Z",
     "iopub.status.busy": "2024-04-22T23:14:24.559077Z",
     "iopub.status.idle": "2024-04-22T23:14:24.563246Z",
     "shell.execute_reply": "2024-04-22T23:14:24.562611Z"
    },
    "slideshow": {
     "slide_type": ""
    }
   },
   "outputs": [],
   "source": [
    "pattern = \"Name:\\s\\w\\w\\w\\sPhone:\\s\\d\\d\\d-\\d\\d\\d\\d\"\n",
    "print(re.search(pattern, \"Name: Joe Phone: 555-1234\"))\n",
    "print(re.search(pattern, \"Name:\\tJoe\\nPhone: 555-1234\"))\n",
    "print(re.search(pattern, \"Name: Bill Phone: 555-1234\"))"
   ]
  },
  {
   "cell_type": "markdown",
   "id": "3e822de9",
   "metadata": {
    "slideshow": {
     "slide_type": "slide"
    }
   },
   "source": [
    "## Repetition\n",
    "\n",
    "The next set of special regex characters we'll look at allow us to introduce the idea of repetition. "
   ]
  },
  {
   "cell_type": "markdown",
   "id": "2d076f9e",
   "metadata": {
    "slideshow": {
     "slide_type": "subslide"
    }
   },
   "source": [
    "## `*` - zero or more times\n",
    "\n",
    "`*` means \"match the previous character zero or more times\""
   ]
  },
  {
   "cell_type": "code",
   "execution_count": null,
   "id": "ab3d2240",
   "metadata": {
    "execution": {
     "iopub.execute_input": "2024-04-22T23:14:24.566389Z",
     "iopub.status.busy": "2024-04-22T23:14:24.566126Z",
     "iopub.status.idle": "2024-04-22T23:14:24.570434Z",
     "shell.execute_reply": "2024-04-22T23:14:24.569816Z"
    }
   },
   "outputs": [],
   "source": [
    "pattern = \"Name:\\s*\\w\\w\\w\"\n",
    "print(re.search(pattern, \"Name:Joe\"))\n",
    "print(re.search(pattern, \"Name: Joe\"))\n",
    "print(re.search(pattern, \"Name:  Joe\"))\n",
    "print(re.search(pattern, \"Name:             Joe\"))"
   ]
  },
  {
   "cell_type": "markdown",
   "id": "24298a14",
   "metadata": {
    "slideshow": {
     "slide_type": "subslide"
    }
   },
   "source": [
    "## `?` - zero or one times\n",
    "\n",
    "`?` means \"match the previous character zero or one times\""
   ]
  },
  {
   "cell_type": "code",
   "execution_count": null,
   "id": "32f95717",
   "metadata": {
    "execution": {
     "iopub.execute_input": "2024-04-22T23:14:24.573937Z",
     "iopub.status.busy": "2024-04-22T23:14:24.573662Z",
     "iopub.status.idle": "2024-04-22T23:14:24.577734Z",
     "shell.execute_reply": "2024-04-22T23:14:24.577118Z"
    }
   },
   "outputs": [],
   "source": [
    "pattern = \"Name:\\s?\\w\\w\\w\"\n",
    "print(re.search(pattern, \"Name:Joe\"))\n",
    "print(re.search(pattern, \"Name: Joe\"))\n",
    "print(re.search(pattern, \"Name:  Joe\"))\n",
    "print(re.search(pattern, \"Name:             Joe\"))"
   ]
  },
  {
   "cell_type": "markdown",
   "id": "ef20840c",
   "metadata": {
    "slideshow": {
     "slide_type": "subslide"
    }
   },
   "source": [
    "## `+` - one or more times\n",
    "\n",
    "`+` means \"match the previous character one or more times\""
   ]
  },
  {
   "cell_type": "code",
   "execution_count": null,
   "id": "26348acf",
   "metadata": {
    "execution": {
     "iopub.execute_input": "2024-04-22T23:14:24.581586Z",
     "iopub.status.busy": "2024-04-22T23:14:24.581115Z",
     "iopub.status.idle": "2024-04-22T23:14:24.585399Z",
     "shell.execute_reply": "2024-04-22T23:14:24.584627Z"
    }
   },
   "outputs": [],
   "source": [
    "pattern = \"Name:\\s+\\w\\w\\w\"\n",
    "print(re.search(pattern, \"Name:Joe\"))\n",
    "print(re.search(pattern, \"Name: Joe\"))\n",
    "print(re.search(pattern, \"Name:  Joe\"))\n",
    "print(re.search(pattern, \"Name:             Joe\"))"
   ]
  },
  {
   "cell_type": "markdown",
   "id": "2beac47f",
   "metadata": {
    "slideshow": {
     "slide_type": "subslide"
    }
   },
   "source": [
    "## `{m,n}` - a specific range\n",
    "\n",
    "`{m,n}` means \"match the previous character at least `m`, but not more than `n`, times\""
   ]
  },
  {
   "cell_type": "code",
   "execution_count": null,
   "id": "60ac6b35",
   "metadata": {
    "execution": {
     "iopub.execute_input": "2024-04-22T23:14:24.589432Z",
     "iopub.status.busy": "2024-04-22T23:14:24.588958Z",
     "iopub.status.idle": "2024-04-22T23:14:24.593491Z",
     "shell.execute_reply": "2024-04-22T23:14:24.592786Z"
    }
   },
   "outputs": [],
   "source": [
    "pattern = \"Name:\\s{1,3}\\w\\w\\w\"\n",
    "print(re.search(pattern, \"Name:Joe\"))\n",
    "print(re.search(pattern, \"Name: Joe\"))\n",
    "print(re.search(pattern, \"Name:  Joe\"))\n",
    "print(re.search(pattern, \"Name:   Joe\"))\n",
    "print(re.search(pattern, \"Name:    Joe\"))\n",
    "print(re.search(pattern, \"Name:             Joe\"))"
   ]
  },
  {
   "cell_type": "markdown",
   "id": "c218533c",
   "metadata": {
    "slideshow": {
     "slide_type": "subslide"
    }
   },
   "source": [
    "You can also use a variant: `{m}`, which matches exactly `m` times:"
   ]
  },
  {
   "cell_type": "code",
   "execution_count": null,
   "id": "514ce162",
   "metadata": {
    "execution": {
     "iopub.execute_input": "2024-04-22T23:14:24.596866Z",
     "iopub.status.busy": "2024-04-22T23:14:24.596580Z",
     "iopub.status.idle": "2024-04-22T23:14:24.601086Z",
     "shell.execute_reply": "2024-04-22T23:14:24.600484Z"
    }
   },
   "outputs": [],
   "source": [
    "pattern = \"Name:\\s{2}\\w\\w\\w\"\n",
    "print(re.search(pattern, \"Name:Joe\"))\n",
    "print(re.search(pattern, \"Name: Joe\"))\n",
    "print(re.search(pattern, \"Name:  Joe\"))\n",
    "print(re.search(pattern, \"Name:   Joe\"))\n",
    "print(re.search(pattern, \"Name:             Joe\"))"
   ]
  },
  {
   "cell_type": "markdown",
   "id": "f7595a8d",
   "metadata": {
    "slideshow": {
     "slide_type": "slide"
    }
   },
   "source": [
    "## `()` - Grouping\n",
    "\n",
    "Parentheses - `()` - can be used to group multiple characters together."
   ]
  },
  {
   "cell_type": "code",
   "execution_count": null,
   "id": "290f7dd9",
   "metadata": {
    "execution": {
     "iopub.execute_input": "2024-04-22T23:14:24.604199Z",
     "iopub.status.busy": "2024-04-22T23:14:24.603924Z",
     "iopub.status.idle": "2024-04-22T23:14:24.608735Z",
     "shell.execute_reply": "2024-04-22T23:14:24.608127Z"
    }
   },
   "outputs": [],
   "source": [
    "#pattern = \"\\w*(,\\w+)*\"\n",
    "word = \"\\w+\"\n",
    "comma_and_word = f\",{word}\"\n",
    "pattern = f\"{word}({comma_and_word})*\"\n",
    "\n",
    "print(re.search(pattern, \"Any,length,list,matches\"))\n",
    "print(re.search(pattern, \"Any,length,list,matches,\"))\n",
    "print(re.search(pattern, \"Any\"))\n",
    "print(re.search(pattern, \"Can't,use,non,alphanumeric\"))"
   ]
  },
  {
   "cell_type": "code",
   "execution_count": null,
   "id": "1b3d14af",
   "metadata": {
    "execution": {
     "iopub.execute_input": "2024-04-22T23:14:24.611918Z",
     "iopub.status.busy": "2024-04-22T23:14:24.611565Z",
     "iopub.status.idle": "2024-04-22T23:14:24.615825Z",
     "shell.execute_reply": "2024-04-22T23:14:24.615226Z"
    },
    "slideshow": {
     "slide_type": "subslide"
    }
   },
   "outputs": [],
   "source": [
    "#pattern = \"[^,]*(,[^,]*)*\"\n",
    "word = \"[^,]+\"\n",
    "comma_and_word = f\",{word}\"\n",
    "pattern = f\"{word}({comma_and_word})*\"\n",
    "print(re.search(pattern, \"Any,length,list,matches\"))\n",
    "print(re.search(pattern, \"Any\"))\n",
    "print(re.search(pattern, \"Can't,use,non,alphanumeric\"))"
   ]
  },
  {
   "cell_type": "markdown",
   "id": "d7d0a9f2",
   "metadata": {
    "slideshow": {
     "slide_type": "subslide"
    }
   },
   "source": [
    "## `|` - \"or\"\n",
    "\n",
    "The pipe (`|`) character can be used to take two patterns, _A_ and _B_, and match either one.\n",
    "\n",
    "It has very low precedence, so you often need parentheses:"
   ]
  },
  {
   "cell_type": "code",
   "execution_count": null,
   "id": "892ca28d",
   "metadata": {
    "execution": {
     "iopub.execute_input": "2024-04-22T23:14:24.619074Z",
     "iopub.status.busy": "2024-04-22T23:14:24.618820Z",
     "iopub.status.idle": "2024-04-22T23:14:24.623601Z",
     "shell.execute_reply": "2024-04-22T23:14:24.622940Z"
    }
   },
   "outputs": [],
   "source": [
    "pattern = \"I'm (happy|sad)\"\n",
    "print(re.search(pattern, \"I'm happy\"))\n",
    "print(re.search(pattern, \"I'm sad\"))\n",
    "print(re.search(pattern, \"I'm excited\"))\n",
    "\n",
    "print(re.findall(pattern, \"I'm happy and I'm sad\"))"
   ]
  },
  {
   "cell_type": "markdown",
   "id": "46b4b626",
   "metadata": {
    "slideshow": {
     "slide_type": "slide"
    }
   },
   "source": [
    "## `re` module functions\n",
    "\n",
    "The `re` module gives us a few useful functions:\n",
    "\n",
    "| Function | meaning |\n",
    "| --- | --- |\n",
    "| match() | Match at the beginning of the string only |\n",
    "| search() | Match anywhere in the string |\n",
    "| findall() | Return a list of all matches (as strings) found in the string |\n",
    "| split() | Split a string wherever the pattern matches |\n",
    "| sub() | Replace all pattern matches with a different string |\n",
    "\n",
    "These all take 2 arguments: a pattern to match against, and a string to search in."
   ]
  },
  {
   "cell_type": "markdown",
   "id": "6eb30282",
   "metadata": {
    "slideshow": {
     "slide_type": "slide"
    }
   },
   "source": [
    "## Phone number matching revisited\n",
    "\n",
    "Our last pattern: `\\d{3}-\\d{4}`\n",
    "\n",
    "We can decode this now: any 3 digits, a dash, and any 4 digits."
   ]
  },
  {
   "cell_type": "markdown",
   "id": "3d52c196",
   "metadata": {
    "slideshow": {
     "slide_type": "subslide"
    }
   },
   "source": [
    "## Area codes\n",
    "\n",
    "We can accept area codes, with optional parentheses (e.g. `(617) 555-1234` or `617 555-1234`)"
   ]
  },
  {
   "cell_type": "code",
   "execution_count": null,
   "id": "38431cb6",
   "metadata": {
    "execution": {
     "iopub.execute_input": "2024-04-22T23:14:24.626968Z",
     "iopub.status.busy": "2024-04-22T23:14:24.626706Z",
     "iopub.status.idle": "2024-04-22T23:14:24.631566Z",
     "shell.execute_reply": "2024-04-22T23:14:24.630895Z"
    }
   },
   "outputs": [],
   "source": [
    "area_code = \"\\(?\\d{3}\\)?\"\n",
    "optional_space = \"[\\s-]?\"\n",
    "phone_number = \"\\d{3}-\\d{4}\"\n",
    "pattern = f\"{area_code}{optional_space}{phone_number}\"\n",
    "#pattern = \"\\(?\\d{3}\\)?\\s?\\d{3}-\\d{4}\"\n",
    "\n",
    "print(re.search(pattern, \"(617) 555-1234\"))\n",
    "print(re.search(pattern, \"617 555-1234\"))\n",
    "print(re.search(pattern, \"617-555-1234\"))"
   ]
  },
  {
   "cell_type": "markdown",
   "id": "8bcc52f5",
   "metadata": {
    "slideshow": {
     "slide_type": "subslide"
    }
   },
   "source": [
    "Handle dash, space, or nothing for each separator:"
   ]
  },
  {
   "cell_type": "code",
   "execution_count": null,
   "id": "ba068771",
   "metadata": {
    "execution": {
     "iopub.execute_input": "2024-04-22T23:14:24.634849Z",
     "iopub.status.busy": "2024-04-22T23:14:24.634585Z",
     "iopub.status.idle": "2024-04-22T23:14:24.640115Z",
     "shell.execute_reply": "2024-04-22T23:14:24.639483Z"
    }
   },
   "outputs": [],
   "source": [
    "area_code = \"\\(?\\d{3}\\)?\"\n",
    "optional_space = \"[\\s-]?\"\n",
    "phone_number = \"\\d{3}\" + optional_space + \"\\d{4}\"\n",
    "pattern = f\"{area_code}{optional_space}{phone_number}\"\n",
    "pattern = \"\\(?\\d{3}\\)?[-\\s]?\\d{3}[-\\s]?\\d{4}\"\n",
    "print(re.search(pattern, \"(617) 555-1234\"))\n",
    "print(re.search(pattern, \"617 555-1234\"))\n",
    "print(re.search(pattern, \"617-555-1234\"))\n",
    "print(re.search(pattern, \"617555-1234\"))\n",
    "print(re.search(pattern, \"617-5551234\"))\n",
    "print(re.search(pattern, \"6175551234\"))\n",
    "print(re.search(pattern, \"(617)-5551234\"))"
   ]
  },
  {
   "cell_type": "code",
   "execution_count": null,
   "id": "bd706610",
   "metadata": {
    "execution": {
     "iopub.execute_input": "2024-04-22T23:14:24.643075Z",
     "iopub.status.busy": "2024-04-22T23:14:24.642817Z",
     "iopub.status.idle": "2024-04-22T23:14:24.646521Z",
     "shell.execute_reply": "2024-04-22T23:14:24.645847Z"
    }
   },
   "outputs": [],
   "source": [
    "pattern = \"\\(?\\d{3}\\)?[-\\s]?\\d{3}[-\\s]?\\d{4}\"\n",
    "print(re.search(pattern, \"555-1234\"))"
   ]
  },
  {
   "cell_type": "markdown",
   "id": "d84285d6",
   "metadata": {
    "slideshow": {
     "slide_type": "subslide"
    }
   },
   "source": [
    "Make the whole area code optional:"
   ]
  },
  {
   "cell_type": "code",
   "execution_count": null,
   "id": "0fb9ec0a",
   "metadata": {
    "execution": {
     "iopub.execute_input": "2024-04-22T23:14:24.649667Z",
     "iopub.status.busy": "2024-04-22T23:14:24.649406Z",
     "iopub.status.idle": "2024-04-22T23:14:24.655050Z",
     "shell.execute_reply": "2024-04-22T23:14:24.654441Z"
    }
   },
   "outputs": [],
   "source": [
    "area_code = \"\\(?\\d{3}\\)?\"\n",
    "optional_area_code = f\"({area_code})?\"\n",
    "optional_space_or_dash = \"[\\s-]?\"\n",
    "phone_number = \"\\d{3}\" + optional_space_or_dash + \"\\d{4}\"\n",
    "pattern = f\"{optional_area_code}{optional_space_or_dash}{phone_number}\"\n",
    "#pattern = \"(\\(?\\d{3}\\)?)?[-\\s]?\\d{3}[-\\s]?\\d{4}\"\n",
    "print(re.search(pattern, \"555-1234\"))\n",
    "print(re.search(pattern, \"(617) 555-1234\"))\n",
    "print(re.search(pattern, \"617 555-1234\"))\n",
    "print(re.search(pattern, \"617-555-1234\"))\n",
    "print(re.search(pattern, \"617555-1234\"))\n",
    "print(re.search(pattern, \"617-5551234\"))\n",
    "print(re.search(pattern, \"6175551234\"))\n",
    "print(re.search(pattern, \"(617)-5551234\"))\n",
    "print(re.search(pattern, \"555-1234\"))"
   ]
  },
  {
   "cell_type": "markdown",
   "id": "2dca5fa8",
   "metadata": {
    "slideshow": {
     "slide_type": "slide"
    }
   },
   "source": [
    "## Exercise\n",
    "\n",
    "Write a regex that matches dates of the form: `MM/DD/YYYY`"
   ]
  },
  {
   "cell_type": "markdown",
   "id": "08fd78ea",
   "metadata": {
    "slideshow": {
     "slide_type": "subslide"
    }
   },
   "source": [
    "A naive version:"
   ]
  },
  {
   "cell_type": "code",
   "execution_count": null,
   "id": "4b0c9d28",
   "metadata": {
    "execution": {
     "iopub.execute_input": "2024-04-22T23:14:24.658410Z",
     "iopub.status.busy": "2024-04-22T23:14:24.658145Z",
     "iopub.status.idle": "2024-04-22T23:14:24.662569Z",
     "shell.execute_reply": "2024-04-22T23:14:24.661803Z"
    },
    "slideshow": {
     "slide_type": ""
    }
   },
   "outputs": [],
   "source": [
    "pattern = '\\d\\d/\\d\\d/\\d\\d\\d\\d'\n",
    "print(re.match(pattern, \"02/18/1974\"))\n",
    "print(re.match(pattern, \"12/18/2021\"))"
   ]
  },
  {
   "cell_type": "markdown",
   "id": "7ee229c0",
   "metadata": {
    "slideshow": {
     "slide_type": "subslide"
    }
   },
   "source": [
    "Let's improve it - first, allow `MM/DD/YY` as well:"
   ]
  },
  {
   "cell_type": "code",
   "execution_count": null,
   "id": "67568967",
   "metadata": {
    "execution": {
     "iopub.execute_input": "2024-04-22T23:14:24.665718Z",
     "iopub.status.busy": "2024-04-22T23:14:24.665448Z",
     "iopub.status.idle": "2024-04-22T23:14:24.670273Z",
     "shell.execute_reply": "2024-04-22T23:14:24.669497Z"
    }
   },
   "outputs": [],
   "source": [
    "pattern = '\\d\\d/\\d\\d/\\d\\d(\\d\\d)?'\n",
    "print(re.match(pattern, \"02/18/1974\"))\n",
    "print(re.match(pattern, \"12/18/2021\"))\n",
    "print(re.match(pattern, \"12/18/21\"))\n",
    "print(re.match(pattern, \"12/18/213\"))"
   ]
  },
  {
   "cell_type": "markdown",
   "id": "6e2e431b",
   "metadata": {
    "slideshow": {
     "slide_type": "subslide"
    }
   },
   "source": [
    "Now allow single digit day/months:"
   ]
  },
  {
   "cell_type": "code",
   "execution_count": null,
   "id": "da2e99b0",
   "metadata": {
    "execution": {
     "iopub.execute_input": "2024-04-22T23:14:24.673569Z",
     "iopub.status.busy": "2024-04-22T23:14:24.673291Z",
     "iopub.status.idle": "2024-04-22T23:14:24.678298Z",
     "shell.execute_reply": "2024-04-22T23:14:24.677620Z"
    }
   },
   "outputs": [],
   "source": [
    "month = '\\d?\\d'\n",
    "day = '\\d?\\d'\n",
    "year = '\\d\\d(\\d\\d)?'\n",
    "pattern = f'{month}/{day}/{year}'\n",
    "print(re.match(pattern, \"02/18/1974\"))\n",
    "print(re.match(pattern, \"12/18/2021\"))\n",
    "print(re.match(pattern, \"12/18/21\"))\n",
    "print(re.match(pattern, \"2/18/1974\"))\n",
    "print(re.match(pattern, \"12/8/1974\"))"
   ]
  },
  {
   "cell_type": "markdown",
   "id": "a83f15bc",
   "metadata": {
    "slideshow": {
     "slide_type": "subslide"
    }
   },
   "source": [
    "Now disallow obviously invalid months/days:"
   ]
  },
  {
   "cell_type": "code",
   "execution_count": null,
   "id": "d5d11b9a",
   "metadata": {
    "execution": {
     "iopub.execute_input": "2024-04-22T23:14:24.681318Z",
     "iopub.status.busy": "2024-04-22T23:14:24.681065Z",
     "iopub.status.idle": "2024-04-22T23:14:24.686556Z",
     "shell.execute_reply": "2024-04-22T23:14:24.685877Z"
    }
   },
   "outputs": [],
   "source": [
    "month = '(0?[1-9]|1?[0-2])'\n",
    "day = '[0-3]?\\d'\n",
    "year = '\\d\\d(\\d\\d)?'\n",
    "pattern = f'{month}/{day}/{year}'\n",
    "#pattern = '[01]?\\d/[0-3]?\\d/\\d\\d(\\d\\d)?'\n",
    "print(re.match(pattern, \"02/18/1974\"))\n",
    "print(re.match(pattern, \"12/18/2021\"))\n",
    "print(re.match(pattern, \"12/18/21\"))\n",
    "print(re.match(pattern, \"2/18/1974\"))\n",
    "print(re.match(pattern, \"12/8/1974\"))\n",
    "print(re.match(pattern, \"22/8/1974\"))\n",
    "print(re.match(pattern, \"02/48/1974\"))\n",
    "print(re.match(pattern, \"19/8/1974\"))"
   ]
  },
  {
   "cell_type": "markdown",
   "id": "4e77cf35",
   "metadata": {
    "slideshow": {
     "slide_type": "slide"
    }
   },
   "source": [
    "## Exercise\n",
    "\n",
    "Find valid hashtags and user mentions in a social media post.\n",
    "\n",
    "Hashtags start with `#`, and can contain letters, numbers, and underscores, but cannot start with an underscore. They must be at least 3 characters long.\n",
    "\n",
    "Usernames start with `@`, and can contain letters and numbers only. They must be between 2 and 24 characters long."
   ]
  },
  {
   "cell_type": "code",
   "execution_count": null,
   "id": "2d54ad59",
   "metadata": {
    "execution": {
     "iopub.execute_input": "2024-04-22T23:14:24.689637Z",
     "iopub.status.busy": "2024-04-22T23:14:24.689390Z",
     "iopub.status.idle": "2024-04-22T23:14:24.693509Z",
     "shell.execute_reply": "2024-04-22T23:14:24.692855Z"
    },
    "slideshow": {
     "slide_type": "subslide"
    }
   },
   "outputs": [],
   "source": [
    "hash_pattern = '#\\w[\\w_]{2,}'\n",
    "user_pattern = '@\\w{2,24}'\n",
    "message = \"Excited for #PythonRegex lecture! @User123, don't miss it. #RegexFun\"\n",
    "print(re.findall(hash_pattern, message))\n",
    "print(re.findall(user_pattern, message))"
   ]
  },
  {
   "cell_type": "markdown",
   "id": "cb41230c",
   "metadata": {
    "slideshow": {
     "slide_type": "slide"
    }
   },
   "source": [
    "## Exercise\n",
    "\n",
    "Extract quoted sections from text."
   ]
  },
  {
   "cell_type": "code",
   "execution_count": null,
   "id": "fead20ea",
   "metadata": {
    "execution": {
     "iopub.execute_input": "2024-04-22T23:14:24.696715Z",
     "iopub.status.busy": "2024-04-22T23:14:24.696452Z",
     "iopub.status.idle": "2024-04-22T23:14:24.703532Z",
     "shell.execute_reply": "2024-04-22T23:14:24.702609Z"
    }
   },
   "outputs": [],
   "source": [
    "quote_pattern = '\"[^\"]*\"'\n",
    "re.findall(quote_pattern, 'Find some \"quotes\" in \"this text\"')"
   ]
  },
  {
   "cell_type": "markdown",
   "id": "837ca323",
   "metadata": {
    "slideshow": {
     "slide_type": "slide"
    }
   },
   "source": [
    "Regular expressions have a number of other features we haven't talked about. \n",
    "\n",
    "They can be extremely powerful, and can also get extremely complex.\n",
    "\n",
    "Here's a regular expression to validate email addresses (which have a [more complicated specification than you might think](https://datatracker.ietf.org/doc/html/rfc5322#section-3.4.1)):\n",
    "\n",
    "```\n",
    "(?:[a-z0-9!#$%&'*+/=?^_`{|}~-]+(?:\\.[a-z0-9!#$%&'*+/=?^_`{|}~-]+)*|\"(?:[\\x01-\\x08\\x0b\\x0c\\x0e-\\x1f\\x21\\x23-\\x5b\\x5d-\\x7f]|\\\\[\\x01-\\x09\\x0b\\x0c\\x0e-\\x7f])*\")@(?:(?:[a-z0-9](?:[a-z0-9-]*[a-z0-9])?\\.)+[a-z0-9](?:[a-z0-9-]*[a-z0-9])?|\\[(?:(?:(2(5[0-5]|[0-4][0-9])|1[0-9][0-9]|[1-9]?[0-9]))\\.){3}(?:(2(5[0-5]|[0-4][0-9])|1[0-9][0-9]|[1-9]?[0-9])|[a-z0-9-]*[a-z0-9]:(?:[\\x01-\\x08\\x0b\\x0c\\x0e-\\x1f\\x21-\\x5a\\x53-\\x7f]|\\\\[\\x01-\\x09\\x0b\\x0c\\x0e-\\x7f])+)\\])\n",
    "```"
   ]
  },
  {
   "cell_type": "markdown",
   "id": "ae1e5f5c",
   "metadata": {
    "slideshow": {
     "slide_type": "slide"
    }
   },
   "source": [
    "The [Python tutorial on regular expressions](https://docs.python.org/3/howto/regex.html) is relatively accessible. It covers everything from this lecture, and more."
   ]
  },
  {
   "cell_type": "code",
   "execution_count": null,
   "id": "31f9b999",
   "metadata": {
    "execution": {
     "iopub.execute_input": "2024-04-22T23:14:24.707198Z",
     "iopub.status.busy": "2024-04-22T23:14:24.706913Z",
     "iopub.status.idle": "2024-04-22T23:14:24.710981Z",
     "shell.execute_reply": "2024-04-22T23:14:24.710299Z"
    },
    "slideshow": {
     "slide_type": "slide"
    }
   },
   "outputs": [],
   "source": [
    "import re\n",
    "\n",
    "# <characters> <digits>\n",
    "# advscd982\n",
    "\n",
    "pattern = \"^[a-zA-Z]* \\d*$\"\n",
    "print(re.search(pattern, \"advscd 982\"))\n",
    "print(re.search(pattern, \"advscd 982 fwiuh\"))\n"
   ]
  },
  {
   "cell_type": "code",
   "execution_count": null,
   "id": "0ac48445",
   "metadata": {
    "execution": {
     "iopub.execute_input": "2024-04-22T23:14:24.714508Z",
     "iopub.status.busy": "2024-04-22T23:14:24.714060Z",
     "iopub.status.idle": "2024-04-22T23:14:24.718105Z",
     "shell.execute_reply": "2024-04-22T23:14:24.717431Z"
    },
    "slideshow": {
     "slide_type": "slide"
    }
   },
   "outputs": [],
   "source": [
    "\n",
    "# [ or ( or { <characters> ] or ) or }\n",
    "import re\n",
    "\n",
    "pattern = \"[\\\\[\\\\(\\\\{]\\w*[\\\\]\\\\)\\\\}]\"\n",
    "print(re.search(pattern, \"{thiswontwork}\"))"
   ]
  }
 ],
 "metadata": {
  "celltoolbar": "Slideshow",
  "kernelspec": {
   "display_name": "Python 3 (ipykernel)",
   "language": "python",
   "name": "python3"
  },
  "language_info": {
   "codemirror_mode": {
    "name": "ipython",
    "version": 3
   },
   "file_extension": ".py",
   "mimetype": "text/x-python",
   "name": "python",
   "nbconvert_exporter": "python",
   "pygments_lexer": "ipython3",
   "version": "3.10.9"
  }
 },
 "nbformat": 4,
 "nbformat_minor": 5
}
