{
 "cells": [
  {
   "cell_type": "markdown",
   "id": "1ee8a1d2",
   "metadata": {
    "slideshow": {
     "slide_type": "slide"
    }
   },
   "source": [
    "# Regular Expressions\n",
    "\n",
    "<style>\n",
    "section.present > section.present { \n",
    "    max-height: 90%; \n",
    "    overflow-y: scroll;\n",
    "}\n",
    "</style>\n",
    "\n",
    "<small><a href=\"https://colab.research.google.com/github/brandeis-jdelfino/cosi-10a/blob/main/lectures/notebooks/15_regexes.ipynb\">Link to interactive slides on Google Colab</a></small>"
   ]
  },
  {
   "cell_type": "markdown",
   "id": "115cd01e",
   "metadata": {
    "slideshow": {
     "slide_type": "slide"
    }
   },
   "source": [
    "## Exercise\n",
    "\n",
    "Determine whether a string contains a phone number. "
   ]
  },
  {
   "cell_type": "markdown",
   "id": "536036b5",
   "metadata": {
    "slideshow": {
     "slide_type": "fragment"
    }
   },
   "source": [
    "But not a specific phone number - anything that looks like a phone number: `555-1234`"
   ]
  },
  {
   "cell_type": "code",
   "execution_count": null,
   "id": "531a6ca1",
   "metadata": {
    "execution": {
     "iopub.execute_input": "2023-11-13T04:14:09.720937Z",
     "iopub.status.busy": "2023-11-13T04:14:09.720370Z",
     "iopub.status.idle": "2023-11-13T04:14:09.738070Z",
     "shell.execute_reply": "2023-11-13T04:14:09.736709Z"
    },
    "slideshow": {
     "slide_type": "subslide"
    }
   },
   "outputs": [],
   "source": [
    "def is_phone_number(value):\n",
    "    if len(value) != 8:\n",
    "        return False\n",
    "    if not value[0].isdigit():\n",
    "        return False\n",
    "    if not value[1].isdigit():\n",
    "        return False\n",
    "    if not value[2].isdigit():\n",
    "        return False\n",
    "    if value[3] != '-':\n",
    "        return False\n",
    "    if not value[4].isdigit():\n",
    "        return False\n",
    "    if not value[5].isdigit():\n",
    "        return False\n",
    "    if not value[6].isdigit():\n",
    "        return False  \n",
    "    if not value[7].isdigit():\n",
    "        return False  \n",
    "    return True"
   ]
  },
  {
   "cell_type": "code",
   "execution_count": null,
   "id": "b5e53ffa",
   "metadata": {
    "execution": {
     "iopub.execute_input": "2023-11-13T04:14:09.742465Z",
     "iopub.status.busy": "2023-11-13T04:14:09.742133Z",
     "iopub.status.idle": "2023-11-13T04:14:09.746927Z",
     "shell.execute_reply": "2023-11-13T04:14:09.746192Z"
    }
   },
   "outputs": [],
   "source": [
    "print(is_phone_number(\"555-1234\"))\n",
    "print(is_phone_number(\"5551234\"))\n",
    "print(is_phone_number(\"555-12345\"))\n",
    "print(is_phone_number(\"555-123\"))"
   ]
  },
  {
   "cell_type": "markdown",
   "id": "573f8510",
   "metadata": {
    "slideshow": {
     "slide_type": "subslide"
    }
   },
   "source": [
    "Now we can try `is_phone_number` at each index of a longer string..."
   ]
  },
  {
   "cell_type": "code",
   "execution_count": null,
   "id": "82f33464",
   "metadata": {
    "execution": {
     "iopub.execute_input": "2023-11-13T04:14:09.751513Z",
     "iopub.status.busy": "2023-11-13T04:14:09.750890Z",
     "iopub.status.idle": "2023-11-13T04:14:09.755145Z",
     "shell.execute_reply": "2023-11-13T04:14:09.754419Z"
    }
   },
   "outputs": [],
   "source": [
    "def contains_phone_number(value):\n",
    "    for i in range(len(value)-7):\n",
    "        if is_phone_number(value[i:i+8]):\n",
    "            return True\n",
    "    return False\n"
   ]
  },
  {
   "cell_type": "code",
   "execution_count": null,
   "id": "358051c4",
   "metadata": {
    "execution": {
     "iopub.execute_input": "2023-11-13T04:14:09.758429Z",
     "iopub.status.busy": "2023-11-13T04:14:09.758175Z",
     "iopub.status.idle": "2023-11-13T04:14:09.762363Z",
     "shell.execute_reply": "2023-11-13T04:14:09.761768Z"
    }
   },
   "outputs": [],
   "source": [
    "print(contains_phone_number(\"My phone number is 867-5309.\"))\n",
    "print(contains_phone_number(\"My phone number is 867-5309\"))\n",
    "print(contains_phone_number(\"867-5309 is my phone number.\"))\n",
    "print(contains_phone_number(\"867-5309\"))\n",
    "print(contains_phone_number(\"867-530 is not my phone number\"))\n",
    "print(contains_phone_number(\"867-530\"))\n",
    "print(contains_phone_number(\"My phone number is not 867-530\"))"
   ]
  },
  {
   "cell_type": "markdown",
   "id": "09f23c8d",
   "metadata": {
    "slideshow": {
     "slide_type": "subslide"
    }
   },
   "source": [
    "Ok, it's not pretty, but it works."
   ]
  },
  {
   "cell_type": "markdown",
   "id": "910aa087",
   "metadata": {
    "slideshow": {
     "slide_type": "fragment"
    }
   },
   "source": [
    "Now handle a variety of formats - with/without the dash, area codes `(617)867-5309`, `617-867-5309`, etc."
   ]
  },
  {
   "cell_type": "markdown",
   "id": "b19ba743",
   "metadata": {
    "slideshow": {
     "slide_type": "fragment"
    }
   },
   "source": [
    "Ugh."
   ]
  },
  {
   "cell_type": "markdown",
   "id": "6aa1a494",
   "metadata": {
    "slideshow": {
     "slide_type": "slide"
    }
   },
   "source": [
    "## Regular Expressions\n",
    "\n",
    "Python (along with many other programming languages) provides **regular expressions**: a powerful \"mini-language\" for matching, extracting, and manipulating string data.\n",
    "\n",
    "\"Regular expression\" is often shortened to \"regex\"."
   ]
  },
  {
   "cell_type": "code",
   "execution_count": null,
   "id": "cd886737",
   "metadata": {
    "execution": {
     "iopub.execute_input": "2023-11-13T04:14:09.765830Z",
     "iopub.status.busy": "2023-11-13T04:14:09.765575Z",
     "iopub.status.idle": "2023-11-13T04:14:09.769122Z",
     "shell.execute_reply": "2023-11-13T04:14:09.768496Z"
    },
    "slideshow": {
     "slide_type": "subslide"
    }
   },
   "outputs": [],
   "source": [
    "import re\n",
    "def contains_phone_number(value):\n",
    "    match = re.search('\\d{3}-\\d{4}', value)\n",
    "    return match is not None"
   ]
  },
  {
   "cell_type": "code",
   "execution_count": null,
   "id": "a2604261",
   "metadata": {
    "execution": {
     "iopub.execute_input": "2023-11-13T04:14:09.772285Z",
     "iopub.status.busy": "2023-11-13T04:14:09.772028Z",
     "iopub.status.idle": "2023-11-13T04:14:09.776401Z",
     "shell.execute_reply": "2023-11-13T04:14:09.775826Z"
    }
   },
   "outputs": [],
   "source": [
    "print(contains_phone_number(\"My phone number is 867-5309.\"))\n",
    "print(contains_phone_number(\"My phone number is 867-5309\"))\n",
    "print(contains_phone_number(\"867-5309 is my phone number.\"))\n",
    "print(contains_phone_number(\"867-5309\"))\n",
    "print(contains_phone_number(\"867-530 is not my phone number\"))\n",
    "print(contains_phone_number(\"867-530\"))\n",
    "print(contains_phone_number(\"My phone number is not 867-530\"))"
   ]
  },
  {
   "cell_type": "markdown",
   "id": "7651e4c7",
   "metadata": {
    "slideshow": {
     "slide_type": "subslide"
    }
   },
   "source": [
    "## If you thought `def __init__(self)` looked weird...\n",
    "\n",
    "`re.search('\\d{3}-\\d{4}', value)` is probably making your head spin"
   ]
  },
  {
   "cell_type": "markdown",
   "id": "a9444fbc",
   "metadata": {
    "slideshow": {
     "slide_type": "slide"
    }
   },
   "source": [
    "## Patterns\n",
    "\n",
    "A regex \"pattern\" defines a set of matching rules.\n",
    "\n",
    "A pattern might define the rules for a phone number, an email address, a date, or something more complicated.\n",
    "\n",
    "Patterns can be used to ask questions like \"does this string match this pattern?\" or \"can this string be found in this pattern?\""
   ]
  },
  {
   "cell_type": "markdown",
   "id": "41e145f8",
   "metadata": {
    "slideshow": {
     "slide_type": "subslide"
    }
   },
   "source": [
    "## The simplest pattern"
   ]
  },
  {
   "cell_type": "code",
   "execution_count": null,
   "id": "093dc72e",
   "metadata": {
    "execution": {
     "iopub.execute_input": "2023-11-13T04:14:09.779588Z",
     "iopub.status.busy": "2023-11-13T04:14:09.779325Z",
     "iopub.status.idle": "2023-11-13T04:14:09.782656Z",
     "shell.execute_reply": "2023-11-13T04:14:09.782074Z"
    }
   },
   "outputs": [],
   "source": [
    "pattern = \"test\"\n",
    "print(re.search(pattern, \"This is a test.\"))"
   ]
  },
  {
   "cell_type": "markdown",
   "id": "2e2eecc6",
   "metadata": {},
   "source": [
    "\"Normal\" characters in a pattern match themselves.\n",
    "\n",
    "The `search` function tries to find the pattern anywhere in a given string.\n",
    "\n",
    "So, we're using the `search` function here to ask: \"does the string `\"This is a test.\"` contain the sequence `test`\"?"
   ]
  },
  {
   "cell_type": "code",
   "execution_count": null,
   "id": "69b65def",
   "metadata": {
    "execution": {
     "iopub.execute_input": "2023-11-13T04:14:09.785903Z",
     "iopub.status.busy": "2023-11-13T04:14:09.785646Z",
     "iopub.status.idle": "2023-11-13T04:14:09.788974Z",
     "shell.execute_reply": "2023-11-13T04:14:09.788390Z"
    },
    "slideshow": {
     "slide_type": "subslide"
    }
   },
   "outputs": [],
   "source": [
    "pattern = \"test\"\n",
    "print(re.search(pattern, \"This is a test.\"))"
   ]
  },
  {
   "cell_type": "markdown",
   "id": "18e69e74",
   "metadata": {},
   "source": [
    "`search` returns a `Match` object that gives us some information about the match that was found - where it occurred in the string, and what the matched text was.\n",
    "\n",
    "If no match is found, `search` returns `None`."
   ]
  },
  {
   "cell_type": "markdown",
   "id": "29055d1f",
   "metadata": {
    "slideshow": {
     "slide_type": "slide"
    }
   },
   "source": [
    "## Special sequences\n",
    "\n",
    "If we stuck only to normal characters, then regexes would be no better than saying `\"test\" in \"This is a test.\"`\n",
    "\n",
    "There are a number of special characters and sequences that offer much more power. We'll look at a few today."
   ]
  },
  {
   "cell_type": "markdown",
   "id": "a60b0097",
   "metadata": {
    "slideshow": {
     "slide_type": "subslide"
    }
   },
   "source": [
    "## `[]`\n",
    "\n",
    "Brackets denote a \"character class\" - a set of characters that can be matched:\n",
    "* `[abc]` matches `\"a\"`, `\"b\"`, or `\"c\"`\n",
    "\n",
    "`-` can be used to specify a range of characters:\n",
    "* `[0-9]` matches any digit between `0` and `9`\n",
    "* `[a-p]` matches any letter between `a` and `p`\n",
    "\n",
    "You can specify multiple ranges together:\n",
    "* `[a-zA-Z]` matches any upper or lower case letter"
   ]
  },
  {
   "cell_type": "code",
   "execution_count": null,
   "id": "6cc33227",
   "metadata": {
    "execution": {
     "iopub.execute_input": "2023-11-13T04:14:09.792292Z",
     "iopub.status.busy": "2023-11-13T04:14:09.792028Z",
     "iopub.status.idle": "2023-11-13T04:14:09.796349Z",
     "shell.execute_reply": "2023-11-13T04:14:09.795729Z"
    },
    "slideshow": {
     "slide_type": "subslide"
    }
   },
   "outputs": [],
   "source": [
    "pattern = 'I got an [ABCDF]'\n",
    "print(re.search(pattern, \"I got an A\"))\n",
    "print(re.search(pattern, \"I got an F :(\"))\n",
    "print(re.search(pattern, \"I got an d\"))\n",
    "print(re.search(pattern, \"I got a B\"))"
   ]
  },
  {
   "cell_type": "markdown",
   "id": "cef7c3c6",
   "metadata": {},
   "source": [
    "`[ABCDF]` in the pattern matches any of the letters: `A`, `B`, `C`, `D`, `F`."
   ]
  },
  {
   "cell_type": "markdown",
   "id": "25ad3d58",
   "metadata": {},
   "source": [
    "## `^`\n",
    "\n",
    "Using `^` at the beginning of a character class means \"match anything **except** these characters\"."
   ]
  },
  {
   "cell_type": "code",
   "execution_count": null,
   "id": "6af60312",
   "metadata": {
    "execution": {
     "iopub.execute_input": "2023-11-13T04:14:09.799465Z",
     "iopub.status.busy": "2023-11-13T04:14:09.799209Z",
     "iopub.status.idle": "2023-11-13T04:14:09.802807Z",
     "shell.execute_reply": "2023-11-13T04:14:09.802211Z"
    }
   },
   "outputs": [],
   "source": [
    "pattern = 'No vowels allowed: [^aeiou]'\n",
    "print(re.search(pattern, \"No vowels allowed: p\"))\n",
    "print(re.search(pattern, \"No vowels allowed: a\"))"
   ]
  },
  {
   "cell_type": "markdown",
   "id": "dc7a1ec9",
   "metadata": {},
   "source": [
    "## Predefined character classes\n",
    "\n",
    "There are some predefined character classes you can use:\n",
    "\n",
    "| Sequence | Matches | Equivalent character class |\n",
    "| --- | --- | --- | \n",
    "| `\\d` | any digit | `[0-9]` |\n",
    "| `\\D` | any non-digit | `[^0-9]` |\n",
    "| `\\s` | any whitespace character | `[ \\t\\n\\r\\f\\v]` |\n",
    "| `\\S` | any non-whitespace character | `[^ \\t\\n\\r\\f\\v]` |\n",
    "| `\\w` | any alphanumeric character | `[a-zA-Z0-9_]` |\n",
    "| `\\W` | any non-alphanumeric character | `[^a-zA-Z0-9_]` |"
   ]
  },
  {
   "cell_type": "code",
   "execution_count": null,
   "id": "c76f1643",
   "metadata": {
    "execution": {
     "iopub.execute_input": "2023-11-13T04:14:09.805992Z",
     "iopub.status.busy": "2023-11-13T04:14:09.805737Z",
     "iopub.status.idle": "2023-11-13T04:14:09.809844Z",
     "shell.execute_reply": "2023-11-13T04:14:09.809191Z"
    }
   },
   "outputs": [],
   "source": [
    "pattern = \"Name:\\s\\w\\w\\w\\sPhone:\\s\\d\\d\\d-\\d\\d\\d\\d\"\n",
    "print(re.search(pattern, \"Name: Joe Phone: 555-1234\"))\n",
    "print(re.search(pattern, \"Name:\\tJoe\\nPhone: 555-1234\"))\n",
    "print(re.search(pattern, \"Name: Bill Phone: 555-1234\"))"
   ]
  },
  {
   "cell_type": "markdown",
   "id": "3e822de9",
   "metadata": {
    "slideshow": {
     "slide_type": "slide"
    }
   },
   "source": [
    "## Repetition\n",
    "\n",
    "The next set of special regex characters we'll look at allow us to introduce the idea of repetition. "
   ]
  },
  {
   "cell_type": "markdown",
   "id": "2d076f9e",
   "metadata": {
    "slideshow": {
     "slide_type": "subslide"
    }
   },
   "source": [
    "## `*` - zero or more times\n",
    "\n",
    "`*` means \"match the previous character zero or more times\""
   ]
  },
  {
   "cell_type": "code",
   "execution_count": null,
   "id": "ab3d2240",
   "metadata": {
    "execution": {
     "iopub.execute_input": "2023-11-13T04:14:09.813140Z",
     "iopub.status.busy": "2023-11-13T04:14:09.812866Z",
     "iopub.status.idle": "2023-11-13T04:14:09.817313Z",
     "shell.execute_reply": "2023-11-13T04:14:09.816523Z"
    }
   },
   "outputs": [],
   "source": [
    "pattern = \"Name:\\s*\\w\\w\\w\"\n",
    "print(re.search(pattern, \"Name:Joe\"))\n",
    "print(re.search(pattern, \"Name: Joe\"))\n",
    "print(re.search(pattern, \"Name:  Joe\"))\n",
    "print(re.search(pattern, \"Name:             Joe\"))"
   ]
  },
  {
   "cell_type": "markdown",
   "id": "24298a14",
   "metadata": {
    "slideshow": {
     "slide_type": "subslide"
    }
   },
   "source": [
    "## `?` - zero or one times\n",
    "\n",
    "`?` means \"match the previous character zero or one times\""
   ]
  },
  {
   "cell_type": "code",
   "execution_count": null,
   "id": "32f95717",
   "metadata": {
    "execution": {
     "iopub.execute_input": "2023-11-13T04:14:09.820858Z",
     "iopub.status.busy": "2023-11-13T04:14:09.820569Z",
     "iopub.status.idle": "2023-11-13T04:14:09.824906Z",
     "shell.execute_reply": "2023-11-13T04:14:09.824314Z"
    }
   },
   "outputs": [],
   "source": [
    "pattern = \"Name:\\s?\\w\\w\\w\"\n",
    "print(re.search(pattern, \"Name:Joe\"))\n",
    "print(re.search(pattern, \"Name: Joe\"))\n",
    "print(re.search(pattern, \"Name:  Joe\"))\n",
    "print(re.search(pattern, \"Name:             Joe\"))"
   ]
  },
  {
   "cell_type": "markdown",
   "id": "ef20840c",
   "metadata": {
    "slideshow": {
     "slide_type": "subslide"
    }
   },
   "source": [
    "## `+` - one or more times\n",
    "\n",
    "`+` means \"match the previous character one or more times\""
   ]
  },
  {
   "cell_type": "code",
   "execution_count": null,
   "id": "26348acf",
   "metadata": {
    "execution": {
     "iopub.execute_input": "2023-11-13T04:14:09.828102Z",
     "iopub.status.busy": "2023-11-13T04:14:09.827801Z",
     "iopub.status.idle": "2023-11-13T04:14:09.832305Z",
     "shell.execute_reply": "2023-11-13T04:14:09.831621Z"
    }
   },
   "outputs": [],
   "source": [
    "pattern = \"Name:\\s+\\w\\w\\w\"\n",
    "print(re.search(pattern, \"Name:Joe\"))\n",
    "print(re.search(pattern, \"Name: Joe\"))\n",
    "print(re.search(pattern, \"Name:  Joe\"))\n",
    "print(re.search(pattern, \"Name:             Joe\"))"
   ]
  },
  {
   "cell_type": "markdown",
   "id": "2beac47f",
   "metadata": {
    "slideshow": {
     "slide_type": "subslide"
    }
   },
   "source": [
    "## `{m,n}` - a specific range\n",
    "\n",
    "`{m,n}` means \"match the previous character at least `m`, but not more than `n`, times\""
   ]
  },
  {
   "cell_type": "code",
   "execution_count": null,
   "id": "60ac6b35",
   "metadata": {
    "execution": {
     "iopub.execute_input": "2023-11-13T04:14:09.835360Z",
     "iopub.status.busy": "2023-11-13T04:14:09.835103Z",
     "iopub.status.idle": "2023-11-13T04:14:09.839458Z",
     "shell.execute_reply": "2023-11-13T04:14:09.838801Z"
    }
   },
   "outputs": [],
   "source": [
    "pattern = \"Name:\\s{1,3}\\w\\w\\w\"\n",
    "print(re.search(pattern, \"Name:Joe\"))\n",
    "print(re.search(pattern, \"Name: Joe\"))\n",
    "print(re.search(pattern, \"Name:  Joe\"))\n",
    "print(re.search(pattern, \"Name:   Joe\"))\n",
    "print(re.search(pattern, \"Name:    Joe\"))\n",
    "print(re.search(pattern, \"Name:             Joe\"))"
   ]
  },
  {
   "cell_type": "markdown",
   "id": "c218533c",
   "metadata": {},
   "source": [
    "You can also use a variant: `{m}`, which matches exactly `m` times:"
   ]
  },
  {
   "cell_type": "code",
   "execution_count": null,
   "id": "514ce162",
   "metadata": {
    "execution": {
     "iopub.execute_input": "2023-11-13T04:14:09.842504Z",
     "iopub.status.busy": "2023-11-13T04:14:09.842262Z",
     "iopub.status.idle": "2023-11-13T04:14:09.846330Z",
     "shell.execute_reply": "2023-11-13T04:14:09.845807Z"
    }
   },
   "outputs": [],
   "source": [
    "pattern = \"Name:\\s{2}\\w\\w\\w\"\n",
    "print(re.search(pattern, \"Name:Joe\"))\n",
    "print(re.search(pattern, \"Name: Joe\"))\n",
    "print(re.search(pattern, \"Name:  Joe\"))\n",
    "print(re.search(pattern, \"Name:   Joe\"))\n",
    "print(re.search(pattern, \"Name:             Joe\"))"
   ]
  },
  {
   "cell_type": "markdown",
   "id": "f7595a8d",
   "metadata": {
    "slideshow": {
     "slide_type": "slide"
    }
   },
   "source": [
    "## `()` - Grouping\n",
    "\n",
    "Parentheses - `()` - can be used to group multiple characters together."
   ]
  },
  {
   "cell_type": "code",
   "execution_count": null,
   "id": "290f7dd9",
   "metadata": {
    "execution": {
     "iopub.execute_input": "2023-11-13T04:14:09.849162Z",
     "iopub.status.busy": "2023-11-13T04:14:09.848924Z",
     "iopub.status.idle": "2023-11-13T04:14:09.852531Z",
     "shell.execute_reply": "2023-11-13T04:14:09.852017Z"
    }
   },
   "outputs": [],
   "source": [
    "pattern = \"\\w*(,\\w*)*\"\n",
    "print(re.search(pattern, \"Any,length,list,matches\"))\n",
    "print(re.search(pattern, \"Any\"))\n",
    "print(re.search(pattern, \"Can't,use,non,alphanumeric\"))"
   ]
  },
  {
   "cell_type": "code",
   "execution_count": null,
   "id": "1b3d14af",
   "metadata": {
    "execution": {
     "iopub.execute_input": "2023-11-13T04:14:09.855462Z",
     "iopub.status.busy": "2023-11-13T04:14:09.855230Z",
     "iopub.status.idle": "2023-11-13T04:14:09.858929Z",
     "shell.execute_reply": "2023-11-13T04:14:09.858413Z"
    },
    "slideshow": {
     "slide_type": "subslide"
    }
   },
   "outputs": [],
   "source": [
    "pattern = \"[^,]*(,[^,]*)*\"\n",
    "print(re.search(pattern, \"Any,length,list,matches\"))\n",
    "print(re.search(pattern, \"Any\"))\n",
    "print(re.search(pattern, \"Can't,use,non,alphanumeric\"))"
   ]
  },
  {
   "cell_type": "markdown",
   "id": "d7d0a9f2",
   "metadata": {},
   "source": [
    "## `|` - \"or\"\n",
    "\n",
    "The pipe (`|`) character can be used to take two patterns, _A_ and _B_, and match either one.\n",
    "\n",
    "It has very low precedence, so you often need parentheses:"
   ]
  },
  {
   "cell_type": "code",
   "execution_count": null,
   "id": "892ca28d",
   "metadata": {
    "execution": {
     "iopub.execute_input": "2023-11-13T04:14:09.861794Z",
     "iopub.status.busy": "2023-11-13T04:14:09.861534Z",
     "iopub.status.idle": "2023-11-13T04:14:09.865581Z",
     "shell.execute_reply": "2023-11-13T04:14:09.864984Z"
    }
   },
   "outputs": [],
   "source": [
    "pattern = \"I'm (happy|sad)\"\n",
    "print(re.search(pattern, \"I'm happy\"))\n",
    "print(re.search(pattern, \"I'm sad\"))\n",
    "print(re.search(pattern, \"I'm excited\"))"
   ]
  },
  {
   "cell_type": "markdown",
   "id": "46b4b626",
   "metadata": {},
   "source": [
    "## `re` module functions\n",
    "\n",
    "The `re` module gives us a few useful functions:\n",
    "\n",
    "| Function | meaning |\n",
    "| --- | --- |\n",
    "| match() | Match at the beginning of the string only |\n",
    "| search() | Match anywhere in the string |\n",
    "| findall() | Return a list of all matches (as strings) found in the string |\n",
    "| split() | Split a string wherever the pattern matches |\n",
    "| sub() | Replace all pattern matches with a different string |\n",
    "\n",
    "These all take 2 arguments: a pattern to match against, and a string to search in."
   ]
  },
  {
   "cell_type": "markdown",
   "id": "6eb30282",
   "metadata": {
    "slideshow": {
     "slide_type": "slide"
    }
   },
   "source": [
    "## Phone number matching revisited\n",
    "\n",
    "Our last pattern: `\\d{3}-\\d{4}`\n",
    "\n",
    "We can decode this now: any 3 digits, a dash, and any 4 digits."
   ]
  },
  {
   "cell_type": "markdown",
   "id": "3d52c196",
   "metadata": {
    "slideshow": {
     "slide_type": "subslide"
    }
   },
   "source": [
    "## Area codes\n",
    "\n",
    "We can accept area codes, with optional parentheses (e.g. `(617) 555-1234` or `617 555-1234`)"
   ]
  },
  {
   "cell_type": "code",
   "execution_count": null,
   "id": "38431cb6",
   "metadata": {
    "execution": {
     "iopub.execute_input": "2023-11-13T04:14:09.869010Z",
     "iopub.status.busy": "2023-11-13T04:14:09.868734Z",
     "iopub.status.idle": "2023-11-13T04:14:09.872804Z",
     "shell.execute_reply": "2023-11-13T04:14:09.872297Z"
    }
   },
   "outputs": [],
   "source": [
    "pattern = \"\\(?\\d{3}\\)?\\s?\\d{3}-\\d{4}\"\n",
    "print(re.search(pattern, \"(617) 555-1234\"))\n",
    "print(re.search(pattern, \"617 555-1234\"))\n",
    "print(re.search(pattern, \"617-555-1234\"))"
   ]
  },
  {
   "cell_type": "markdown",
   "id": "8bcc52f5",
   "metadata": {
    "slideshow": {
     "slide_type": "subslide"
    }
   },
   "source": [
    "Handle dash, space, or nothing for each separator:"
   ]
  },
  {
   "cell_type": "code",
   "execution_count": null,
   "id": "ba068771",
   "metadata": {
    "execution": {
     "iopub.execute_input": "2023-11-13T04:14:09.875757Z",
     "iopub.status.busy": "2023-11-13T04:14:09.875525Z",
     "iopub.status.idle": "2023-11-13T04:14:09.880031Z",
     "shell.execute_reply": "2023-11-13T04:14:09.879476Z"
    }
   },
   "outputs": [],
   "source": [
    "pattern = \"\\(?\\d{3}\\)?[-\\s]?\\d{3}[-\\s]?\\d{4}\"\n",
    "print(re.search(pattern, \"(617) 555-1234\"))\n",
    "print(re.search(pattern, \"617 555-1234\"))\n",
    "print(re.search(pattern, \"617-555-1234\"))\n",
    "print(re.search(pattern, \"617555-1234\"))\n",
    "print(re.search(pattern, \"617-5551234\"))\n",
    "print(re.search(pattern, \"6175551234\"))\n",
    "print(re.search(pattern, \"(617)-5551234\"))"
   ]
  },
  {
   "cell_type": "code",
   "execution_count": null,
   "id": "bd706610",
   "metadata": {
    "execution": {
     "iopub.execute_input": "2023-11-13T04:14:09.882862Z",
     "iopub.status.busy": "2023-11-13T04:14:09.882614Z",
     "iopub.status.idle": "2023-11-13T04:14:09.885979Z",
     "shell.execute_reply": "2023-11-13T04:14:09.885422Z"
    }
   },
   "outputs": [],
   "source": [
    "pattern = \"\\(?\\d{3}\\)?[-\\s]?\\d{3}[-\\s]?\\d{4}\"\n",
    "print(re.search(pattern, \"555-1234\"))"
   ]
  },
  {
   "cell_type": "markdown",
   "id": "d84285d6",
   "metadata": {
    "slideshow": {
     "slide_type": "subslide"
    }
   },
   "source": [
    "Make the whole area code optional:"
   ]
  },
  {
   "cell_type": "code",
   "execution_count": null,
   "id": "0fb9ec0a",
   "metadata": {
    "execution": {
     "iopub.execute_input": "2023-11-13T04:14:09.888912Z",
     "iopub.status.busy": "2023-11-13T04:14:09.888679Z",
     "iopub.status.idle": "2023-11-13T04:14:09.893417Z",
     "shell.execute_reply": "2023-11-13T04:14:09.892855Z"
    }
   },
   "outputs": [],
   "source": [
    "pattern = \"(\\(?\\d{3}\\)?)?[-\\s]?\\d{3}[-\\s]?\\d{4}\"\n",
    "print(re.search(pattern, \"555-1234\"))\n",
    "print(re.search(pattern, \"(617) 555-1234\"))\n",
    "print(re.search(pattern, \"617 555-1234\"))\n",
    "print(re.search(pattern, \"617-555-1234\"))\n",
    "print(re.search(pattern, \"617555-1234\"))\n",
    "print(re.search(pattern, \"617-5551234\"))\n",
    "print(re.search(pattern, \"6175551234\"))\n",
    "print(re.search(pattern, \"(617)-5551234\"))"
   ]
  },
  {
   "cell_type": "markdown",
   "id": "2dca5fa8",
   "metadata": {
    "slideshow": {
     "slide_type": "slide"
    }
   },
   "source": [
    "## Exercise\n",
    "\n",
    "Write a regex that matches dates of the form: `MM/DD/YYYY`"
   ]
  },
  {
   "cell_type": "markdown",
   "id": "08fd78ea",
   "metadata": {
    "slideshow": {
     "slide_type": "subslide"
    }
   },
   "source": [
    "A naive version:"
   ]
  },
  {
   "cell_type": "code",
   "execution_count": null,
   "id": "4b0c9d28",
   "metadata": {
    "execution": {
     "iopub.execute_input": "2023-11-13T04:14:09.896349Z",
     "iopub.status.busy": "2023-11-13T04:14:09.896117Z",
     "iopub.status.idle": "2023-11-13T04:14:09.899877Z",
     "shell.execute_reply": "2023-11-13T04:14:09.899265Z"
    },
    "slideshow": {
     "slide_type": ""
    }
   },
   "outputs": [],
   "source": [
    "pattern = '\\d\\d/\\d\\d/\\d\\d\\d\\d'\n",
    "print(re.match(pattern, \"02/18/1974\"))\n",
    "print(re.match(pattern, \"12/18/2021\"))"
   ]
  },
  {
   "cell_type": "markdown",
   "id": "7ee229c0",
   "metadata": {
    "slideshow": {
     "slide_type": "subslide"
    }
   },
   "source": [
    "Let's improve it - first, allow `MM/DD/YY` as well:"
   ]
  },
  {
   "cell_type": "code",
   "execution_count": null,
   "id": "67568967",
   "metadata": {
    "execution": {
     "iopub.execute_input": "2023-11-13T04:14:09.902686Z",
     "iopub.status.busy": "2023-11-13T04:14:09.902445Z",
     "iopub.status.idle": "2023-11-13T04:14:09.906168Z",
     "shell.execute_reply": "2023-11-13T04:14:09.905646Z"
    }
   },
   "outputs": [],
   "source": [
    "pattern = '\\d\\d/\\d\\d/\\d\\d(\\d\\d)?'\n",
    "print(re.match(pattern, \"02/18/1974\"))\n",
    "print(re.match(pattern, \"12/18/2021\"))\n",
    "print(re.match(pattern, \"12/18/21\"))"
   ]
  },
  {
   "cell_type": "markdown",
   "id": "6e2e431b",
   "metadata": {
    "slideshow": {
     "slide_type": "subslide"
    }
   },
   "source": [
    "Now allow single digit day/months:"
   ]
  },
  {
   "cell_type": "code",
   "execution_count": null,
   "id": "da2e99b0",
   "metadata": {
    "execution": {
     "iopub.execute_input": "2023-11-13T04:14:09.908944Z",
     "iopub.status.busy": "2023-11-13T04:14:09.908716Z",
     "iopub.status.idle": "2023-11-13T04:14:09.912830Z",
     "shell.execute_reply": "2023-11-13T04:14:09.912263Z"
    }
   },
   "outputs": [],
   "source": [
    "pattern = '\\d?\\d/\\d?\\d/\\d\\d(\\d\\d)?'\n",
    "print(re.match(pattern, \"02/18/1974\"))\n",
    "print(re.match(pattern, \"12/18/2021\"))\n",
    "print(re.match(pattern, \"12/18/21\"))\n",
    "print(re.match(pattern, \"2/18/1974\"))\n",
    "print(re.match(pattern, \"12/8/1974\"))"
   ]
  },
  {
   "cell_type": "markdown",
   "id": "a83f15bc",
   "metadata": {
    "slideshow": {
     "slide_type": "subslide"
    }
   },
   "source": [
    "Now disallow obviously invalid months/days:"
   ]
  },
  {
   "cell_type": "code",
   "execution_count": null,
   "id": "d5d11b9a",
   "metadata": {
    "execution": {
     "iopub.execute_input": "2023-11-13T04:14:09.915645Z",
     "iopub.status.busy": "2023-11-13T04:14:09.915413Z",
     "iopub.status.idle": "2023-11-13T04:14:09.919857Z",
     "shell.execute_reply": "2023-11-13T04:14:09.919350Z"
    }
   },
   "outputs": [],
   "source": [
    "pattern = '[01]?\\d/[0-3]?\\d/\\d\\d(\\d\\d)?'\n",
    "print(re.match(pattern, \"02/18/1974\"))\n",
    "print(re.match(pattern, \"12/18/2021\"))\n",
    "print(re.match(pattern, \"12/18/21\"))\n",
    "print(re.match(pattern, \"2/18/1974\"))\n",
    "print(re.match(pattern, \"12/8/1974\"))\n",
    "print(re.match(pattern, \"22/8/1974\"))\n",
    "print(re.match(pattern, \"02/48/1974\"))"
   ]
  },
  {
   "cell_type": "markdown",
   "id": "4e77cf35",
   "metadata": {
    "slideshow": {
     "slide_type": "slide"
    }
   },
   "source": [
    "## Exercise\n",
    "\n",
    "Find valid hashtags and user mentions in a social media post.\n",
    "\n",
    "Hashtags start with `#`, and can contain letters, numbers, and underscores, but cannot start with a number. They must be at least 3 characters long.\n",
    "\n",
    "Usernames start with `@`, and can contain letters and numbers only. They must be between 2 and 24 characters long."
   ]
  },
  {
   "cell_type": "code",
   "execution_count": null,
   "id": "2d54ad59",
   "metadata": {
    "execution": {
     "iopub.execute_input": "2023-11-13T04:14:09.922697Z",
     "iopub.status.busy": "2023-11-13T04:14:09.922455Z",
     "iopub.status.idle": "2023-11-13T04:14:09.926325Z",
     "shell.execute_reply": "2023-11-13T04:14:09.925691Z"
    },
    "slideshow": {
     "slide_type": "subslide"
    }
   },
   "outputs": [],
   "source": [
    "hash_pattern = '#\\w[\\w_]{2,}'\n",
    "user_pattern = '@\\w{2,24}'\n",
    "message = \"Excited for #PythonRegex lecture! @User123, don't miss it. #RegexFun\"\n",
    "print(re.findall(hash_pattern, message))\n",
    "print(re.findall(user_pattern, message))"
   ]
  },
  {
   "cell_type": "markdown",
   "id": "cb41230c",
   "metadata": {
    "slideshow": {
     "slide_type": "slide"
    }
   },
   "source": [
    "## Exercise\n",
    "\n",
    "Extract quoted sections from text."
   ]
  },
  {
   "cell_type": "code",
   "execution_count": null,
   "id": "fead20ea",
   "metadata": {
    "execution": {
     "iopub.execute_input": "2023-11-13T04:14:09.929076Z",
     "iopub.status.busy": "2023-11-13T04:14:09.928840Z",
     "iopub.status.idle": "2023-11-13T04:14:09.935147Z",
     "shell.execute_reply": "2023-11-13T04:14:09.934543Z"
    }
   },
   "outputs": [],
   "source": [
    "quote_pattern = '\"[^\"]*\"'\n",
    "re.findall(quote_pattern, 'Find some \"quotes\" in \"this text\"')"
   ]
  },
  {
   "cell_type": "markdown",
   "id": "837ca323",
   "metadata": {},
   "source": [
    "Regular expressions have a number of other features we haven't talked about. \n",
    "\n",
    "They can be extremely powerful, and can also get extremely complex.\n",
    "\n",
    "Here's a regular expression to validate email addresses (which have a [more complicated specification than you might think](https://datatracker.ietf.org/doc/html/rfc5322#section-3.4.1)):\n",
    "\n",
    "```\n",
    "(?:[a-z0-9!#$%&'*+/=?^_`{|}~-]+(?:\\.[a-z0-9!#$%&'*+/=?^_`{|}~-]+)*|\"(?:[\\x01-\\x08\\x0b\\x0c\\x0e-\\x1f\\x21\\x23-\\x5b\\x5d-\\x7f]|\\\\[\\x01-\\x09\\x0b\\x0c\\x0e-\\x7f])*\")@(?:(?:[a-z0-9](?:[a-z0-9-]*[a-z0-9])?\\.)+[a-z0-9](?:[a-z0-9-]*[a-z0-9])?|\\[(?:(?:(2(5[0-5]|[0-4][0-9])|1[0-9][0-9]|[1-9]?[0-9]))\\.){3}(?:(2(5[0-5]|[0-4][0-9])|1[0-9][0-9]|[1-9]?[0-9])|[a-z0-9-]*[a-z0-9]:(?:[\\x01-\\x08\\x0b\\x0c\\x0e-\\x1f\\x21-\\x5a\\x53-\\x7f]|\\\\[\\x01-\\x09\\x0b\\x0c\\x0e-\\x7f])+)\\])\n",
    "```"
   ]
  },
  {
   "cell_type": "markdown",
   "id": "ae1e5f5c",
   "metadata": {
    "slideshow": {
     "slide_type": "slide"
    }
   },
   "source": [
    "The [Python tutorial on regular expressions](https://docs.python.org/3/howto/regex.html) is relatively accessible. It covers everything from this lecture, and more."
   ]
  }
 ],
 "metadata": {
  "celltoolbar": "Slideshow",
  "kernelspec": {
   "display_name": "Python 3 (ipykernel)",
   "language": "python",
   "name": "python3"
  },
  "language_info": {
   "codemirror_mode": {
    "name": "ipython",
    "version": 3
   },
   "file_extension": ".py",
   "mimetype": "text/x-python",
   "name": "python",
   "nbconvert_exporter": "python",
   "pygments_lexer": "ipython3",
   "version": "3.10.9"
  }
 },
 "nbformat": 4,
 "nbformat_minor": 5
}
