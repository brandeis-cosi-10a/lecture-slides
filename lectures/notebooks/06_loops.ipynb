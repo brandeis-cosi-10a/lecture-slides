{
 "cells": [
  {
   "cell_type": "markdown",
   "id": "26653147",
   "metadata": {},
   "source": [
    "# Cosi-10a: Introduction to Problem Solving in Python\n",
    "### Fall 2024\n",
    "\n",
    "<small>[Link to interactive slides on Google Colab](https://colab.research.google.com/github/brandeis-cosi-10a/lecture-slides/blob/24fall/)</small>\n",
    "\n",
    "<style>\n",
    "section.present > section.present { \n",
    "    max-height: 100%; \n",
    "    overflow-y: scroll;\n",
    "}\n",
    "</style>"
   ]
  },
  {
   "cell_type": "markdown",
   "id": "1ee8a1d2",
   "metadata": {
    "slideshow": {
     "slide_type": "slide"
    }
   },
   "source": [
    "# Loops\n",
    "\n",
    "<style>\n",
    "section.present > section.present { \n",
    "    max-height: 90%; \n",
    "    overflow-y: scroll;\n",
    "}\n",
    "</style>\n",
    "\n",
    "<small><a href=\"https://colab.research.google.com/github/brandeis-jdelfino/cosi-10a/blob/main/lectures/notebooks/5_loops.ipynb\">Link to interactive slides on Google Colab</a></small>"
   ]
  },
  {
   "cell_type": "code",
   "execution_count": null,
   "id": "71eccbdb",
   "metadata": {
    "execution": {
     "iopub.execute_input": "2024-08-20T19:32:36.824305Z",
     "iopub.status.busy": "2024-08-20T19:32:36.823960Z",
     "iopub.status.idle": "2024-08-20T19:32:36.841873Z",
     "shell.execute_reply": "2024-08-20T19:32:36.841032Z"
    },
    "slideshow": {
     "slide_type": "slide"
    }
   },
   "outputs": [],
   "source": [
    "# Find all the numbers between 1 and 100 that are multiples of n\n",
    "def find_multiples(n):\n",
    "    if 1 % n == 0:\n",
    "        print(1, end=' ')\n",
    "    if 2 % n == 0:\n",
    "        print(2, end=' ')\n",
    "    if 3 % n == 0:\n",
    "        print(3, end=' ')\n",
    "    if 4 % n == 0:\n",
    "        print(4, end=' ')\n",
    "    if 5 % n == 0:\n",
    "        print(5, end=' ')\n",
    "    if 6 % n == 0:\n",
    "        print(6, end=' ')\n",
    "    if 7 % n == 0:\n",
    "        print(7, end=' ')\n",
    "    if 8 % n == 0:\n",
    "        print(8, end=' ')\n",
    "    #...\n",
    "\n",
    "find_multiples(3)"
   ]
  },
  {
   "cell_type": "markdown",
   "id": "35fc233e",
   "metadata": {
    "slideshow": {
     "slide_type": "slide"
    }
   },
   "source": [
    "## Side note: the `end` parameter for `print()`\n",
    "\n",
    "You may have noticed that, in that example, there were multiple print statements, but the output only printed one line.\n",
    "\n",
    "This happened because of the `end=' '` parameter, e.g.: `print(5, end=' ')`\n",
    "\n",
    "Recall string escaping from lecture 1: `\\n` is the escape sequence for a \"newline\"."
   ]
  },
  {
   "cell_type": "markdown",
   "id": "d2e55796",
   "metadata": {
    "slideshow": {
     "slide_type": "subslide"
    }
   },
   "source": [
    "## Side note: the `end` parameter for `print()`\n",
    "\n",
    "* Normally, `print` appends a `\\n` to the end of the printed string.\n",
    "* `end` is a parameter for the `print` function that controls the character appended to the printed string.\n",
    "* `end` has a default value: `\\n`.\n",
    "* If you override this, you can control the character that is appended at the end of the printed string.\n",
    "* If we set `end` to `' '`, successive prints will print on the same line, with a space in between."
   ]
  },
  {
   "cell_type": "code",
   "execution_count": null,
   "id": "7761130b",
   "metadata": {
    "execution": {
     "iopub.execute_input": "2024-08-20T19:32:36.846302Z",
     "iopub.status.busy": "2024-08-20T19:32:36.846000Z",
     "iopub.status.idle": "2024-08-20T19:32:36.849727Z",
     "shell.execute_reply": "2024-08-20T19:32:36.849068Z"
    }
   },
   "outputs": [],
   "source": [
    "print(\"1\", end=' ')\n",
    "print(\"2\", end=' ')\n",
    "print(\"3\", end=' ')"
   ]
  },
  {
   "cell_type": "markdown",
   "id": "d0bf50fa",
   "metadata": {
    "slideshow": {
     "slide_type": "slide"
    }
   },
   "source": [
    "# Loops!        "
   ]
  },
  {
   "cell_type": "code",
   "execution_count": null,
   "id": "815d61e5",
   "metadata": {
    "execution": {
     "iopub.execute_input": "2024-08-20T19:32:36.853423Z",
     "iopub.status.busy": "2024-08-20T19:32:36.853136Z",
     "iopub.status.idle": "2024-08-20T19:32:36.857076Z",
     "shell.execute_reply": "2024-08-20T19:32:36.856463Z"
    }
   },
   "outputs": [],
   "source": [
    "def find_multiples(n):\n",
    "    for i in range(1, 100):\n",
    "        if i % n == 0:\n",
    "            print(i, end=' ')\n",
    "\n",
    "find_multiples(3)"
   ]
  },
  {
   "cell_type": "markdown",
   "id": "8b10ef58",
   "metadata": {},
   "source": [
    "Today we'll talk about loops, which let you repeat sections of code."
   ]
  },
  {
   "cell_type": "markdown",
   "id": "6a640677",
   "metadata": {
    "slideshow": {
     "slide_type": "slide"
    }
   },
   "source": [
    "# The `for` loop\n",
    "\n",
    "```\n",
    "for <var> in range(<start>, <stop>):\n",
    "    statement(s)\n",
    "```"
   ]
  },
  {
   "cell_type": "code",
   "execution_count": null,
   "id": "20156919",
   "metadata": {
    "execution": {
     "iopub.execute_input": "2024-08-20T19:32:36.860782Z",
     "iopub.status.busy": "2024-08-20T19:32:36.860430Z",
     "iopub.status.idle": "2024-08-20T19:32:36.864475Z",
     "shell.execute_reply": "2024-08-20T19:32:36.863757Z"
    }
   },
   "outputs": [],
   "source": [
    "for i in range(3, 7):\n",
    "    print(i)"
   ]
  },
  {
   "cell_type": "markdown",
   "id": "e8abf2a6",
   "metadata": {
    "slideshow": {
     "slide_type": "-"
    }
   },
   "source": [
    "* This is one form of a `for` loop\n",
    "* It **iterates**, or repeats, once for each number from `start` to `stop - 1`.\n",
    "  * So it will repeat `start - stop` times.\n",
    "* For each **iteration** of the loop, `var` will be set to the next number in the sequence."
   ]
  },
  {
   "cell_type": "markdown",
   "id": "139cbda1",
   "metadata": {
    "slideshow": {
     "slide_type": "subslide"
    }
   },
   "source": [
    "## Range arguments\n",
    "\n",
    "* `range` has 2 variants:\n",
    "  * `range(stop)` - iterates from `0` to `stop-1`\n",
    "  * `range(start, stop, step=1)` - iterates from `start` to `stop-1`, changing the number by `step` each time"
   ]
  },
  {
   "cell_type": "code",
   "execution_count": null,
   "id": "0db8ed61",
   "metadata": {
    "execution": {
     "iopub.execute_input": "2024-08-20T19:32:36.868144Z",
     "iopub.status.busy": "2024-08-20T19:32:36.867860Z",
     "iopub.status.idle": "2024-08-20T19:32:36.871336Z",
     "shell.execute_reply": "2024-08-20T19:32:36.870747Z"
    },
    "slideshow": {
     "slide_type": "subslide"
    }
   },
   "outputs": [],
   "source": [
    "for i in range(5):\n",
    "    print(i, end=' ')"
   ]
  },
  {
   "cell_type": "code",
   "execution_count": null,
   "id": "16917ea0",
   "metadata": {
    "execution": {
     "iopub.execute_input": "2024-08-20T19:32:36.874613Z",
     "iopub.status.busy": "2024-08-20T19:32:36.874252Z",
     "iopub.status.idle": "2024-08-20T19:32:36.877889Z",
     "shell.execute_reply": "2024-08-20T19:32:36.877262Z"
    }
   },
   "outputs": [],
   "source": [
    "for i in range(3, 7):\n",
    "    print(i, end=' ')"
   ]
  },
  {
   "cell_type": "code",
   "execution_count": null,
   "id": "05d4ab35",
   "metadata": {
    "execution": {
     "iopub.execute_input": "2024-08-20T19:32:36.880940Z",
     "iopub.status.busy": "2024-08-20T19:32:36.880679Z",
     "iopub.status.idle": "2024-08-20T19:32:36.884289Z",
     "shell.execute_reply": "2024-08-20T19:32:36.883531Z"
    },
    "slideshow": {
     "slide_type": "subslide"
    }
   },
   "outputs": [],
   "source": [
    "for i in range(50, 101, 5):\n",
    "    print(i, end=' ')"
   ]
  },
  {
   "cell_type": "code",
   "execution_count": null,
   "id": "f9c3a80e",
   "metadata": {
    "execution": {
     "iopub.execute_input": "2024-08-20T19:32:36.887688Z",
     "iopub.status.busy": "2024-08-20T19:32:36.887349Z",
     "iopub.status.idle": "2024-08-20T19:32:36.891323Z",
     "shell.execute_reply": "2024-08-20T19:32:36.890520Z"
    }
   },
   "outputs": [],
   "source": [
    "# You can even count down with a negative step\n",
    "for i in range(10, 0, -1):\n",
    "    print(i, end=', ')\n",
    "print(\"... blastoff!\")"
   ]
  },
  {
   "cell_type": "markdown",
   "id": "97566f4c",
   "metadata": {
    "slideshow": {
     "slide_type": "slide"
    }
   },
   "source": [
    "# Unrolling loops\n",
    "\n",
    "Let's \"unroll\" a loop into the statements it will execute, to get a better handle on it:"
   ]
  },
  {
   "cell_type": "code",
   "execution_count": null,
   "id": "ade30494",
   "metadata": {
    "execution": {
     "iopub.execute_input": "2024-08-20T19:32:36.894723Z",
     "iopub.status.busy": "2024-08-20T19:32:36.894463Z",
     "iopub.status.idle": "2024-08-20T19:32:36.897893Z",
     "shell.execute_reply": "2024-08-20T19:32:36.897277Z"
    }
   },
   "outputs": [],
   "source": [
    "for i in range(3, 7):\n",
    "    if i % 2 == 0:\n",
    "        print(i, end=' ')"
   ]
  },
  {
   "cell_type": "markdown",
   "id": "0f26011d",
   "metadata": {},
   "source": [
    "is equivalent to:"
   ]
  },
  {
   "cell_type": "code",
   "execution_count": null,
   "id": "82065ad2",
   "metadata": {
    "execution": {
     "iopub.execute_input": "2024-08-20T19:32:36.901184Z",
     "iopub.status.busy": "2024-08-20T19:32:36.900909Z",
     "iopub.status.idle": "2024-08-20T19:32:36.905033Z",
     "shell.execute_reply": "2024-08-20T19:32:36.904423Z"
    }
   },
   "outputs": [],
   "source": [
    "if 3 % 2 == 0:\n",
    "    print(3, end=' ')\n",
    "if 4 % 2 == 0:\n",
    "    print(4, end=' ')\n",
    "if 5 % 2 == 0:\n",
    "    print(5, end=' ')\n",
    "if 6 % 2 == 0:\n",
    "    print(6, end=' ')"
   ]
  },
  {
   "cell_type": "markdown",
   "id": "513aa8b1",
   "metadata": {
    "slideshow": {
     "slide_type": "subslide"
    }
   },
   "source": [
    "# How-to: unroll loops\n",
    "\n",
    "1. **Write out a list of the values the loop will iterate through**"
   ]
  },
  {
   "cell_type": "code",
   "execution_count": null,
   "id": "6bd7e573",
   "metadata": {
    "execution": {
     "iopub.execute_input": "2024-08-20T19:32:36.908210Z",
     "iopub.status.busy": "2024-08-20T19:32:36.907925Z",
     "iopub.status.idle": "2024-08-20T19:32:36.911428Z",
     "shell.execute_reply": "2024-08-20T19:32:36.910814Z"
    }
   },
   "outputs": [],
   "source": [
    "for i in range(3, 7):\n",
    "    if i % 2 == 0:\n",
    "        print(i, end=' ')"
   ]
  },
  {
   "cell_type": "markdown",
   "id": "e2fe9be1",
   "metadata": {},
   "source": [
    "This loop will iterate through: 3, 4, 5, 6"
   ]
  },
  {
   "cell_type": "markdown",
   "id": "4ffc3373",
   "metadata": {
    "slideshow": {
     "slide_type": "subslide"
    }
   },
   "source": [
    "# How-to: unroll loops\n",
    "\n",
    "1. Write out a list of the values the loop will iterate through\n",
    "2. **Copy the code inside the loop, and paste it once.**"
   ]
  },
  {
   "cell_type": "code",
   "execution_count": null,
   "id": "4ae1dca3",
   "metadata": {
    "execution": {
     "iopub.execute_input": "2024-08-20T19:32:36.914676Z",
     "iopub.status.busy": "2024-08-20T19:32:36.914430Z",
     "iopub.status.idle": "2024-08-20T19:32:36.918106Z",
     "shell.execute_reply": "2024-08-20T19:32:36.917533Z"
    },
    "slideshow": {
     "slide_type": ""
    }
   },
   "outputs": [],
   "source": [
    "for i in range(3, 7):\n",
    "    if i % 2 == 0:\n",
    "        print(i, end=' ')"
   ]
  },
  {
   "cell_type": "markdown",
   "id": "124f01e2",
   "metadata": {},
   "source": [
    "The code inside this loop is:"
   ]
  },
  {
   "cell_type": "code",
   "execution_count": null,
   "id": "e479844a",
   "metadata": {
    "execution": {
     "iopub.execute_input": "2024-08-20T19:32:36.921140Z",
     "iopub.status.busy": "2024-08-20T19:32:36.920897Z",
     "iopub.status.idle": "2024-08-20T19:32:36.924371Z",
     "shell.execute_reply": "2024-08-20T19:32:36.923653Z"
    }
   },
   "outputs": [],
   "source": [
    "if i % 2 == 0:\n",
    "    print(i, end=' ')"
   ]
  },
  {
   "cell_type": "markdown",
   "id": "db5c7124",
   "metadata": {
    "slideshow": {
     "slide_type": "subslide"
    }
   },
   "source": [
    "# How-to: unroll loops\n",
    "\n",
    "1. Write out a list of the values the loop will iterate through\n",
    "2. Copy the code inside the loop, and paste it once.\n",
    "3. **Replace all of the loop variables with the first iteration value**"
   ]
  },
  {
   "cell_type": "code",
   "execution_count": null,
   "id": "7a789f8f",
   "metadata": {
    "execution": {
     "iopub.execute_input": "2024-08-20T19:32:36.927379Z",
     "iopub.status.busy": "2024-08-20T19:32:36.927122Z",
     "iopub.status.idle": "2024-08-20T19:32:36.931120Z",
     "shell.execute_reply": "2024-08-20T19:32:36.930334Z"
    },
    "slideshow": {
     "slide_type": ""
    }
   },
   "outputs": [],
   "source": [
    "for i in range(3, 7):\n",
    "    if i % 2 == 0:\n",
    "        print(i, end=' ')"
   ]
  },
  {
   "cell_type": "markdown",
   "id": "8eae3f4d",
   "metadata": {},
   "source": [
    "The loop variable is `i`, and the first iteration value is `3`:"
   ]
  },
  {
   "cell_type": "code",
   "execution_count": null,
   "id": "c6d90fbf",
   "metadata": {
    "execution": {
     "iopub.execute_input": "2024-08-20T19:32:36.934321Z",
     "iopub.status.busy": "2024-08-20T19:32:36.934036Z",
     "iopub.status.idle": "2024-08-20T19:32:36.937291Z",
     "shell.execute_reply": "2024-08-20T19:32:36.936671Z"
    }
   },
   "outputs": [],
   "source": [
    "if 3 % 2 == 0:\n",
    "    print(3, end=' ')"
   ]
  },
  {
   "cell_type": "markdown",
   "id": "1afe14ad",
   "metadata": {
    "slideshow": {
     "slide_type": "subslide"
    }
   },
   "source": [
    "# How-to: unroll loops\n",
    "\n",
    "1. Write out a list of the values the loop will iterate through\n",
    "2. Copy the code inside the loop, and paste it once.\n",
    "3. Replace all of the loop variables with the first iteration value\n",
    "4. Repeat steps 2 & 3 for each iteration value"
   ]
  },
  {
   "cell_type": "code",
   "execution_count": null,
   "id": "267df59c",
   "metadata": {
    "execution": {
     "iopub.execute_input": "2024-08-20T19:32:36.940514Z",
     "iopub.status.busy": "2024-08-20T19:32:36.940237Z",
     "iopub.status.idle": "2024-08-20T19:32:36.943735Z",
     "shell.execute_reply": "2024-08-20T19:32:36.943197Z"
    },
    "slideshow": {
     "slide_type": ""
    }
   },
   "outputs": [],
   "source": [
    "for i in range(3, 7):\n",
    "    if i % 2 == 0:\n",
    "        print(i, end=' ')"
   ]
  },
  {
   "cell_type": "markdown",
   "id": "231e7bb5",
   "metadata": {},
   "source": [
    "Here is the fully unrolled loop:"
   ]
  },
  {
   "cell_type": "code",
   "execution_count": null,
   "id": "b2185fd6",
   "metadata": {
    "execution": {
     "iopub.execute_input": "2024-08-20T19:32:36.946758Z",
     "iopub.status.busy": "2024-08-20T19:32:36.946525Z",
     "iopub.status.idle": "2024-08-20T19:32:36.950865Z",
     "shell.execute_reply": "2024-08-20T19:32:36.950298Z"
    }
   },
   "outputs": [],
   "source": [
    "if 3 % 2 == 0:\n",
    "    print(3, end=' ')\n",
    "if 4 % 2 == 0:\n",
    "    print(4, end=' ')\n",
    "if 5 % 2 == 0:\n",
    "    print(5, end=' ')\n",
    "if 6 % 2 == 0:\n",
    "    print(6, end=' ')"
   ]
  },
  {
   "cell_type": "markdown",
   "id": "1e2ae993",
   "metadata": {
    "slideshow": {
     "slide_type": "subslide"
    }
   },
   "source": [
    "# Unrolling loops: another example"
   ]
  },
  {
   "cell_type": "code",
   "execution_count": null,
   "id": "dafac58a",
   "metadata": {
    "execution": {
     "iopub.execute_input": "2024-08-20T19:32:36.953837Z",
     "iopub.status.busy": "2024-08-20T19:32:36.953585Z",
     "iopub.status.idle": "2024-08-20T19:32:36.957410Z",
     "shell.execute_reply": "2024-08-20T19:32:36.956818Z"
    }
   },
   "outputs": [],
   "source": [
    "age = 18\n",
    "for i in range(100, 103):\n",
    "    print(\"If you are \" + str(i) + \" years old...\")\n",
    "    print(\"You were born in \" + str(2024 - i))"
   ]
  },
  {
   "cell_type": "markdown",
   "id": "32329a04",
   "metadata": {
    "slideshow": {
     "slide_type": "subslide"
    }
   },
   "source": [
    "# How-to: unroll loops\n",
    "\n",
    "1. Write out a list of the values the loop will iterate through\n",
    "2. Copy the code inside the loop, and paste it once.\n",
    "3. Replace all of the loop variables with the first iteration value\n",
    "4. Repeat steps 2 & 3 for each iteration value"
   ]
  },
  {
   "cell_type": "markdown",
   "id": "3dcd3775",
   "metadata": {
    "slideshow": {
     "slide_type": "fragment"
    }
   },
   "source": [
    "This loop will iterate over the values: 100, 101, 102"
   ]
  },
  {
   "cell_type": "code",
   "execution_count": null,
   "id": "e3215471",
   "metadata": {
    "execution": {
     "iopub.execute_input": "2024-08-20T19:32:36.960468Z",
     "iopub.status.busy": "2024-08-20T19:32:36.960208Z",
     "iopub.status.idle": "2024-08-20T19:32:36.964688Z",
     "shell.execute_reply": "2024-08-20T19:32:36.964100Z"
    },
    "slideshow": {
     "slide_type": "fragment"
    }
   },
   "outputs": [],
   "source": [
    "age = 18\n",
    "print(\"If you are \" + str(100) + \" years old...\")\n",
    "print(\"You were born in \" + str(2024 - 100))\n",
    "print(\"If you are \" + str(101) + \" years old...\")\n",
    "print(\"You were born in \" + str(2024 - 101))\n",
    "print(\"If you are \" + str(102) + \" years old...\")\n",
    "print(\"You were born in \" + str(2024 - 103))"
   ]
  },
  {
   "cell_type": "markdown",
   "id": "3b8a48d7",
   "metadata": {
    "slideshow": {
     "slide_type": "slide"
    }
   },
   "source": [
    "# Unrolling loops: why?\n",
    "\n",
    "Unrolling a loop is not something you would normally do when writing code.\n",
    "\n",
    "However, translating between a loop and the steps that are actually executed when the code runs is a useful exercise. It helps you grasp the abstraction of a loop."
   ]
  },
  {
   "cell_type": "code",
   "execution_count": null,
   "id": "5a936eb3",
   "metadata": {
    "execution": {
     "iopub.execute_input": "2024-08-20T19:32:36.967896Z",
     "iopub.status.busy": "2024-08-20T19:32:36.967432Z",
     "iopub.status.idle": "2024-08-20T19:32:36.971055Z",
     "shell.execute_reply": "2024-08-20T19:32:36.970482Z"
    },
    "slideshow": {
     "slide_type": "slide"
    }
   },
   "outputs": [],
   "source": [
    "# You can count down with a negative step\n",
    "for i in range(10, 0, -1):\n",
    "    print(i, end=', ')\n",
    "print(\"... blastoff!\")"
   ]
  },
  {
   "cell_type": "markdown",
   "id": "5740e877",
   "metadata": {},
   "source": [
    "How do we omit that last `,` in our countdown? \n",
    "\n",
    "This is a common problem when writing loops."
   ]
  },
  {
   "cell_type": "markdown",
   "id": "3a324b89",
   "metadata": {
    "slideshow": {
     "slide_type": "subslide"
    }
   },
   "source": [
    "## A flawed attempt:"
   ]
  },
  {
   "cell_type": "code",
   "execution_count": null,
   "id": "f7b152bf",
   "metadata": {
    "execution": {
     "iopub.execute_input": "2024-08-20T19:32:36.974152Z",
     "iopub.status.busy": "2024-08-20T19:32:36.973903Z",
     "iopub.status.idle": "2024-08-20T19:32:36.977459Z",
     "shell.execute_reply": "2024-08-20T19:32:36.976908Z"
    }
   },
   "outputs": [],
   "source": [
    "for i in range(10, 0, -1):\n",
    "    print(\", \" + str(i), end='')\n",
    "print(\"... blastoff!\")"
   ]
  },
  {
   "cell_type": "markdown",
   "id": "88060957",
   "metadata": {
    "slideshow": {
     "slide_type": "slide"
    }
   },
   "source": [
    "## Not quite...\n",
    "\n",
    "We want to print `n` numbers, but `n-1` commas. If we always print a number and comma together, we'll never get it right."
   ]
  },
  {
   "cell_type": "markdown",
   "id": "482242ef",
   "metadata": {
    "slideshow": {
     "slide_type": "subslide"
    }
   },
   "source": [
    "**Solution 1**: Pull the first number out of the loop and print it by itself, then print a comma before every other number"
   ]
  },
  {
   "cell_type": "code",
   "execution_count": null,
   "id": "6b6992ff",
   "metadata": {
    "execution": {
     "iopub.execute_input": "2024-08-20T19:32:36.980458Z",
     "iopub.status.busy": "2024-08-20T19:32:36.980202Z",
     "iopub.status.idle": "2024-08-20T19:32:36.983932Z",
     "shell.execute_reply": "2024-08-20T19:32:36.983358Z"
    },
    "slideshow": {
     "slide_type": "-"
    }
   },
   "outputs": [],
   "source": [
    "print(10, end='')\n",
    "for i in range(9, 0, -1):\n",
    "    print(\", \" + str(i), end='')\n",
    "print(\"... blastoff!\")"
   ]
  },
  {
   "cell_type": "markdown",
   "id": "06919794",
   "metadata": {
    "slideshow": {
     "slide_type": "fragment"
    }
   },
   "source": [
    "**Solution 2**: Print every number with a comma after it, but pull the last number out of the loop and print it by itself."
   ]
  },
  {
   "cell_type": "code",
   "execution_count": null,
   "id": "aaca82b7",
   "metadata": {
    "execution": {
     "iopub.execute_input": "2024-08-20T19:32:36.986887Z",
     "iopub.status.busy": "2024-08-20T19:32:36.986631Z",
     "iopub.status.idle": "2024-08-20T19:32:36.990085Z",
     "shell.execute_reply": "2024-08-20T19:32:36.989549Z"
    }
   },
   "outputs": [],
   "source": [
    "for i in range(10, 1, -1): \n",
    "    print(i, end=', ')\n",
    "print(\"1... blastoff!\")"
   ]
  },
  {
   "cell_type": "markdown",
   "id": "717f3afa",
   "metadata": {
    "slideshow": {
     "slide_type": "slide"
    }
   },
   "source": [
    "# Fencepost loops\n",
    "\n",
    "This pattern is called a \"fencepost loop\" because it is similar to building a fence - you need a post followed by rails for each section, and at the end you need a single extra post to finish it off.\n",
    "\n",
    "<br/><br/>\n",
    "<img src=\"../images/fencepost.png\" style=\"display:block; margin:auto; width: 50%;\"/>\n"
   ]
  },
  {
   "cell_type": "markdown",
   "id": "2387e502",
   "metadata": {},
   "source": [
    "## Exercise: Number facts\n",
    "\n",
    "[GitHub Classroom -> Class exercises -> Open in GitHub Cospaces](https://classroom.github.com/a/M3gdSqkV)\n",
    "\n",
    "Open the file: `exercises/05/number_facts/README.md`, follow the instructions.\n",
    "* If you don't see this folder: Open the file: `get_exercises.sh`, click the \"Run\" button at the top right of the editor.\n"
   ]
  },
  {
   "cell_type": "markdown",
   "id": "9369463d",
   "metadata": {
    "slideshow": {
     "slide_type": "slide"
    }
   },
   "source": [
    "## Example: Adding numbers in a loop\n",
    "\n",
    "Write a function to compute the sum of every number between two numbers."
   ]
  },
  {
   "cell_type": "code",
   "execution_count": null,
   "id": "9f41b674",
   "metadata": {
    "execution": {
     "iopub.execute_input": "2024-08-20T19:32:36.993088Z",
     "iopub.status.busy": "2024-08-20T19:32:36.992855Z",
     "iopub.status.idle": "2024-08-20T19:32:36.996861Z",
     "shell.execute_reply": "2024-08-20T19:32:36.996212Z"
    },
    "tags": [
     "remove-output"
    ]
   },
   "outputs": [],
   "source": [
    "def sum_range(start, stop):\n",
    "    for i in range(start, stop):\n",
    "        # ???"
   ]
  },
  {
   "cell_type": "markdown",
   "id": "74d8bfc5",
   "metadata": {
    "slideshow": {
     "slide_type": "subslide"
    }
   },
   "source": [
    "This is another common looping pattern. We'll create a variable to hold our running total, and add to it in each iteration of the loop."
   ]
  },
  {
   "cell_type": "code",
   "execution_count": null,
   "id": "d1c35fca",
   "metadata": {
    "execution": {
     "iopub.execute_input": "2024-08-20T19:32:36.999800Z",
     "iopub.status.busy": "2024-08-20T19:32:36.999543Z",
     "iopub.status.idle": "2024-08-20T19:32:37.002795Z",
     "shell.execute_reply": "2024-08-20T19:32:37.002206Z"
    }
   },
   "outputs": [],
   "source": [
    "def sum_range(start, stop):\n",
    "    total = 0\n",
    "    for i in range(start, stop):\n",
    "        total = total + i\n",
    "    return total"
   ]
  },
  {
   "cell_type": "markdown",
   "id": "9483ba7e",
   "metadata": {
    "slideshow": {
     "slide_type": "slide"
    }
   },
   "source": [
    "# Cumulative algorithms\n",
    "\n",
    "These are called cumulative algorithms.\n",
    "\n",
    "1. Create a variable to hold the cumulative value, and initialize it to the starting value\n",
    "   * The \"cumulative value\" is the value being built up as the loop iterates\n",
    "1. Update the cumulative value on each iteration of the loop.\n",
    "1. Apply any adjustments needed after the loop\n",
    "   * For example, if computing an average: sum all the numbers, then divide by the number of numbers"
   ]
  },
  {
   "cell_type": "markdown",
   "id": "f22a5888",
   "metadata": {
    "slideshow": {
     "slide_type": "slide"
    }
   },
   "source": [
    "1. **Create a variable to hold the cumulative value, and initialize it to the starting value**\n",
    "1. Update the cumulative value during each iteration of a loop.\n",
    "1. Apply any adjustments needed after the loop"
   ]
  },
  {
   "cell_type": "code",
   "execution_count": null,
   "id": "d59a1a89",
   "metadata": {
    "execution": {
     "iopub.execute_input": "2024-08-20T19:32:37.005787Z",
     "iopub.status.busy": "2024-08-20T19:32:37.005542Z",
     "iopub.status.idle": "2024-08-20T19:32:37.008592Z",
     "shell.execute_reply": "2024-08-20T19:32:37.007965Z"
    }
   },
   "outputs": [],
   "source": [
    "def sum_range(start, stop):\n",
    "    total = 0"
   ]
  },
  {
   "cell_type": "markdown",
   "id": "58c098ce",
   "metadata": {
    "slideshow": {
     "slide_type": "slide"
    }
   },
   "source": [
    "1. Create a variable to hold the cumulative value, and initialize it to the starting value\n",
    "1. **Update the cumulative value during each iteration of a loop.**\n",
    "1. Apply any adjustments needed after the loop"
   ]
  },
  {
   "cell_type": "code",
   "execution_count": null,
   "id": "fbaaac4a",
   "metadata": {
    "execution": {
     "iopub.execute_input": "2024-08-20T19:32:37.011643Z",
     "iopub.status.busy": "2024-08-20T19:32:37.011383Z",
     "iopub.status.idle": "2024-08-20T19:32:37.014685Z",
     "shell.execute_reply": "2024-08-20T19:32:37.014148Z"
    }
   },
   "outputs": [],
   "source": [
    "def sum_range(start, stop):\n",
    "    total = 0\n",
    "    for i in range(start, stop):\n",
    "        total = total + i"
   ]
  },
  {
   "cell_type": "markdown",
   "id": "b6917df4",
   "metadata": {
    "slideshow": {
     "slide_type": "slide"
    }
   },
   "source": [
    "1. Create a variable to hold the cumulative value, and initialize it to the starting value\n",
    "1. Update the cumulative value during each iteration of a loop..\n",
    "1. **Apply any adjustments needed after the loop**"
   ]
  },
  {
   "cell_type": "code",
   "execution_count": null,
   "id": "d8f69568",
   "metadata": {
    "execution": {
     "iopub.execute_input": "2024-08-20T19:32:37.017553Z",
     "iopub.status.busy": "2024-08-20T19:32:37.017309Z",
     "iopub.status.idle": "2024-08-20T19:32:37.020558Z",
     "shell.execute_reply": "2024-08-20T19:32:37.020018Z"
    }
   },
   "outputs": [],
   "source": [
    "def sum_range(start, stop):\n",
    "    total = 0\n",
    "    for i in range(start, stop):\n",
    "        total = total + i\n",
    "    # No adjustments to make for a sum\n",
    "    return total"
   ]
  },
  {
   "cell_type": "code",
   "execution_count": null,
   "id": "88335906",
   "metadata": {
    "execution": {
     "iopub.execute_input": "2024-08-20T19:32:37.023345Z",
     "iopub.status.busy": "2024-08-20T19:32:37.023099Z",
     "iopub.status.idle": "2024-08-20T19:32:37.029517Z",
     "shell.execute_reply": "2024-08-20T19:32:37.028767Z"
    }
   },
   "outputs": [],
   "source": [
    "sum_range(1, 10)"
   ]
  },
  {
   "cell_type": "markdown",
   "id": "d71b5c50",
   "metadata": {
    "slideshow": {
     "slide_type": "subslide"
    }
   },
   "source": [
    "## Unrolling loops practice\n",
    "\n",
    "Reminder:\n",
    "1. Write out a list of the values the loop will iterate through\n",
    "2. Copy the code inside the loop, and paste it once.\n",
    "3. Replace all of the loop variables with the first iteration value\n",
    "4. Repeat steps 2 & 3 for each iteration value\n",
    "\n",
    "Let's unroll this loop"
   ]
  },
  {
   "cell_type": "code",
   "execution_count": null,
   "id": "b78d3169",
   "metadata": {
    "execution": {
     "iopub.execute_input": "2024-08-20T19:32:37.032632Z",
     "iopub.status.busy": "2024-08-20T19:32:37.032384Z",
     "iopub.status.idle": "2024-08-20T19:32:37.037144Z",
     "shell.execute_reply": "2024-08-20T19:32:37.036555Z"
    }
   },
   "outputs": [],
   "source": [
    "def sum_range(start, stop):\n",
    "    total = 0\n",
    "    for i in range(start, stop):\n",
    "        total = total + i\n",
    "    return total\n",
    "sum_range(1, 7)"
   ]
  },
  {
   "cell_type": "markdown",
   "id": "137c0d22",
   "metadata": {
    "slideshow": {
     "slide_type": "subslide"
    }
   },
   "source": [
    "1. Write out a list of the values the loop will iterate through"
   ]
  },
  {
   "cell_type": "code",
   "execution_count": null,
   "id": "954910b9",
   "metadata": {
    "execution": {
     "iopub.execute_input": "2024-08-20T19:32:37.040519Z",
     "iopub.status.busy": "2024-08-20T19:32:37.040200Z",
     "iopub.status.idle": "2024-08-20T19:32:37.044830Z",
     "shell.execute_reply": "2024-08-20T19:32:37.044303Z"
    }
   },
   "outputs": [],
   "source": [
    "def sum_range(start, stop):\n",
    "    total = 0\n",
    "    for i in range(start, stop):\n",
    "        total = total + i\n",
    "    return total\n",
    "sum_range(1, 7)"
   ]
  },
  {
   "cell_type": "markdown",
   "id": "720a0e25",
   "metadata": {
    "slideshow": {
     "slide_type": "fragment"
    }
   },
   "source": [
    "This loop will iterate over the values: 1, 2, 3, 4, 5, 6"
   ]
  },
  {
   "cell_type": "markdown",
   "id": "2364bd90",
   "metadata": {
    "slideshow": {
     "slide_type": "subslide"
    }
   },
   "source": [
    "2. Copy the code inside the loop, and paste it once."
   ]
  },
  {
   "cell_type": "code",
   "execution_count": null,
   "id": "fd3b44f6",
   "metadata": {
    "execution": {
     "iopub.execute_input": "2024-08-20T19:32:37.047772Z",
     "iopub.status.busy": "2024-08-20T19:32:37.047538Z",
     "iopub.status.idle": "2024-08-20T19:32:37.052144Z",
     "shell.execute_reply": "2024-08-20T19:32:37.051600Z"
    }
   },
   "outputs": [],
   "source": [
    "def sum_range(start, stop):\n",
    "    total = 0\n",
    "    for i in range(start, stop):\n",
    "        total = total + i\n",
    "    return total\n",
    "sum_range(1, 7)"
   ]
  },
  {
   "cell_type": "markdown",
   "id": "e6244fd5",
   "metadata": {
    "slideshow": {
     "slide_type": "fragment"
    }
   },
   "source": [
    "The loop code is:"
   ]
  },
  {
   "cell_type": "code",
   "execution_count": null,
   "id": "4482fa8a",
   "metadata": {
    "execution": {
     "iopub.execute_input": "2024-08-20T19:32:37.055024Z",
     "iopub.status.busy": "2024-08-20T19:32:37.054781Z",
     "iopub.status.idle": "2024-08-20T19:32:37.426168Z",
     "shell.execute_reply": "2024-08-20T19:32:37.425331Z"
    },
    "tags": [
     "raises-exception",
     "remove-output"
    ]
   },
   "outputs": [],
   "source": [
    "total = total + i"
   ]
  },
  {
   "cell_type": "markdown",
   "id": "087ae69d",
   "metadata": {
    "slideshow": {
     "slide_type": "subslide"
    }
   },
   "source": [
    "3. Replace all of the loop variables with the first iteration value"
   ]
  },
  {
   "cell_type": "code",
   "execution_count": null,
   "id": "3b38639e",
   "metadata": {
    "execution": {
     "iopub.execute_input": "2024-08-20T19:32:37.430660Z",
     "iopub.status.busy": "2024-08-20T19:32:37.429959Z",
     "iopub.status.idle": "2024-08-20T19:32:37.454578Z",
     "shell.execute_reply": "2024-08-20T19:32:37.452407Z"
    },
    "tags": [
     "raises-exception",
     "remove-output"
    ]
   },
   "outputs": [],
   "source": [
    "total = total + i"
   ]
  },
  {
   "cell_type": "markdown",
   "id": "27de58e8",
   "metadata": {
    "slideshow": {
     "slide_type": "fragment"
    }
   },
   "source": [
    "becomes:"
   ]
  },
  {
   "cell_type": "code",
   "execution_count": null,
   "id": "9668585e",
   "metadata": {
    "execution": {
     "iopub.execute_input": "2024-08-20T19:32:37.459359Z",
     "iopub.status.busy": "2024-08-20T19:32:37.458639Z",
     "iopub.status.idle": "2024-08-20T19:32:37.477596Z",
     "shell.execute_reply": "2024-08-20T19:32:37.476749Z"
    },
    "tags": [
     "remove-output",
     "raises-exception"
    ]
   },
   "outputs": [],
   "source": [
    "total = total + 1"
   ]
  },
  {
   "cell_type": "markdown",
   "id": "9b867562",
   "metadata": {
    "slideshow": {
     "slide_type": "subslide"
    }
   },
   "source": [
    "4. Repeat steps 2 & 3 for each iteration value"
   ]
  },
  {
   "cell_type": "code",
   "execution_count": null,
   "id": "5305b54d",
   "metadata": {
    "execution": {
     "iopub.execute_input": "2024-08-20T19:32:37.481284Z",
     "iopub.status.busy": "2024-08-20T19:32:37.480932Z",
     "iopub.status.idle": "2024-08-20T19:32:37.486740Z",
     "shell.execute_reply": "2024-08-20T19:32:37.485774Z"
    }
   },
   "outputs": [],
   "source": [
    "def sum_range(start, stop):\n",
    "    total = 0\n",
    "    for i in range(start, stop):\n",
    "        total = total + i\n",
    "    return total\n",
    "sum_range(1, 7)"
   ]
  },
  {
   "cell_type": "code",
   "execution_count": null,
   "id": "c6b0e764",
   "metadata": {
    "execution": {
     "iopub.execute_input": "2024-08-20T19:32:37.490099Z",
     "iopub.status.busy": "2024-08-20T19:32:37.489808Z",
     "iopub.status.idle": "2024-08-20T19:32:37.507055Z",
     "shell.execute_reply": "2024-08-20T19:32:37.506274Z"
    },
    "slideshow": {
     "slide_type": "fragment"
    }
   },
   "outputs": [],
   "source": [
    "total = total + 1\n",
    "total = total + 2\n",
    "total = total + 3\n",
    "total = total + 4\n",
    "total = total + 5\n",
    "total = total + 6\n",
    "print(total)"
   ]
  },
  {
   "cell_type": "markdown",
   "id": "96f33aa5",
   "metadata": {
    "slideshow": {
     "slide_type": "slide"
    }
   },
   "source": [
    "Oops... we forgot the code before the loop!"
   ]
  },
  {
   "cell_type": "code",
   "execution_count": null,
   "id": "29286daa",
   "metadata": {
    "execution": {
     "iopub.execute_input": "2024-08-20T19:32:37.510847Z",
     "iopub.status.busy": "2024-08-20T19:32:37.510565Z",
     "iopub.status.idle": "2024-08-20T19:32:37.515272Z",
     "shell.execute_reply": "2024-08-20T19:32:37.514677Z"
    }
   },
   "outputs": [],
   "source": [
    "def sum_range(start, stop):\n",
    "    total = 0\n",
    "    for i in range(start, stop):\n",
    "        total = total + i\n",
    "    return total\n",
    "sum_range(1, 7)"
   ]
  },
  {
   "cell_type": "code",
   "execution_count": null,
   "id": "990feab0",
   "metadata": {
    "execution": {
     "iopub.execute_input": "2024-08-20T19:32:37.518344Z",
     "iopub.status.busy": "2024-08-20T19:32:37.518083Z",
     "iopub.status.idle": "2024-08-20T19:32:37.522059Z",
     "shell.execute_reply": "2024-08-20T19:32:37.521415Z"
    }
   },
   "outputs": [],
   "source": [
    "total = 0\n",
    "total = total + 1\n",
    "total = total + 2\n",
    "total = total + 3\n",
    "total = total + 4\n",
    "total = total + 5\n",
    "total = total + 6\n",
    "print(total)"
   ]
  },
  {
   "cell_type": "markdown",
   "id": "38e3e7c3",
   "metadata": {
    "slideshow": {
     "slide_type": "slide"
    }
   },
   "source": [
    "## Another example: Counting spaces\n",
    "\n",
    "Write a loop that prompts the user for 5 sentences/phrases. Find the average number of words in the phrases (by counting the spaces in each input).\n",
    "\n",
    "We can count the number of spaces in a string like this:"
   ]
  },
  {
   "cell_type": "code",
   "execution_count": null,
   "id": "6fa9cff6",
   "metadata": {
    "execution": {
     "iopub.execute_input": "2024-08-20T19:32:37.525179Z",
     "iopub.status.busy": "2024-08-20T19:32:37.524919Z",
     "iopub.status.idle": "2024-08-20T19:32:37.528306Z",
     "shell.execute_reply": "2024-08-20T19:32:37.527709Z"
    }
   },
   "outputs": [],
   "source": [
    "words = \"We're just atoms that arranged themselves the right way.\"\n",
    "print(words.count(' '))"
   ]
  },
  {
   "cell_type": "markdown",
   "id": "447f5444",
   "metadata": {
    "slideshow": {
     "slide_type": "subslide"
    }
   },
   "source": [
    "1. **Create a variable to hold the cumulative value, and initialize it to the starting value**\n",
    "1. Update the cumulative value during each iteration of a loop.\n",
    "1. Apply any adjustments needed after the loop"
   ]
  },
  {
   "cell_type": "code",
   "execution_count": null,
   "id": "16fdd978",
   "metadata": {
    "execution": {
     "iopub.execute_input": "2024-08-20T19:32:37.531332Z",
     "iopub.status.busy": "2024-08-20T19:32:37.531092Z",
     "iopub.status.idle": "2024-08-20T19:32:37.534141Z",
     "shell.execute_reply": "2024-08-20T19:32:37.533551Z"
    }
   },
   "outputs": [],
   "source": [
    "total_words = 0"
   ]
  },
  {
   "cell_type": "markdown",
   "id": "9ca6a0ed",
   "metadata": {
    "slideshow": {
     "slide_type": "subslide"
    }
   },
   "source": [
    "1. Create a variable to hold the cumulative value, and initialize it to the starting value\n",
    "1. **Update the cumulative value during each iteration of a loop.**\n",
    "1. Apply any adjustments needed after the loop"
   ]
  },
  {
   "cell_type": "code",
   "execution_count": null,
   "id": "9bce73ba",
   "metadata": {
    "execution": {
     "iopub.execute_input": "2024-08-20T19:32:37.537069Z",
     "iopub.status.busy": "2024-08-20T19:32:37.536817Z",
     "iopub.status.idle": "2024-08-20T19:32:37.614545Z",
     "shell.execute_reply": "2024-08-20T19:32:37.613825Z"
    },
    "tags": [
     "remove-output"
    ]
   },
   "outputs": [],
   "source": [
    "total_words = 0\n",
    "for i in range(5):\n",
    "    words = input(\"Enter a phrase:\")\n",
    "    total_words += words.count(' ')"
   ]
  },
  {
   "cell_type": "markdown",
   "id": "ba598be3",
   "metadata": {
    "slideshow": {
     "slide_type": "subslide"
    }
   },
   "source": [
    "1. Create a variable to hold the cumulative value, and initialize it to the starting value\n",
    "1. Update the cumulative value during each iteration of a loop.\n",
    "1. **Apply any adjustments needed after the loop.**"
   ]
  },
  {
   "cell_type": "code",
   "execution_count": null,
   "id": "6cc83b40",
   "metadata": {
    "execution": {
     "iopub.execute_input": "2024-08-20T19:32:37.618439Z",
     "iopub.status.busy": "2024-08-20T19:32:37.618129Z",
     "iopub.status.idle": "2024-08-20T19:32:37.639996Z",
     "shell.execute_reply": "2024-08-20T19:32:37.639290Z"
    },
    "tags": [
     "remove-output"
    ]
   },
   "outputs": [],
   "source": [
    "total_words = 0\n",
    "for i in range(5):\n",
    "    words = input(\"Enter a phrase:\")\n",
    "    total_words += words.count(' ')\n",
    "avg_words = total_words / 5\n",
    "print(avg_words)"
   ]
  },
  {
   "cell_type": "markdown",
   "id": "f345e50f",
   "metadata": {
    "slideshow": {
     "slide_type": "slide"
    }
   },
   "source": [
    "# `while` loops\n",
    "\n",
    "`for/range` loops repeat for a predetermined number of iterations.\n",
    "  \n",
    "There is another kind of loop - `while` - that iterates until a condition becomes `False`.\n",
    "\n",
    "```\n",
    "while <boolean expression>:\n",
    "    statement(s)\n",
    "```"
   ]
  },
  {
   "cell_type": "code",
   "execution_count": null,
   "id": "235604dd",
   "metadata": {
    "execution": {
     "iopub.execute_input": "2024-08-20T19:32:37.643683Z",
     "iopub.status.busy": "2024-08-20T19:32:37.643412Z",
     "iopub.status.idle": "2024-08-20T19:32:37.647159Z",
     "shell.execute_reply": "2024-08-20T19:32:37.646520Z"
    },
    "slideshow": {
     "slide_type": "subslide"
    }
   },
   "outputs": [],
   "source": [
    "x = 27\n",
    "while x > 1:\n",
    "    print(x)\n",
    "    x = x / 2\n",
    "print(x)"
   ]
  },
  {
   "cell_type": "markdown",
   "id": "f0a24ff0",
   "metadata": {},
   "source": [
    "## `for` vs. `while`\n",
    "\n",
    "`for` loops are used when you know how many iterations to make before the loop starts\n",
    "\n",
    "`while` loops are used when you don't know how many iterations will be needed before the loop starts"
   ]
  },
  {
   "cell_type": "markdown",
   "id": "dc167314",
   "metadata": {
    "slideshow": {
     "slide_type": "slide"
    }
   },
   "source": [
    "# Example: Count the number of digits in a number\n",
    "\n",
    "Key insight: the answer is the number of times you can divide by 10 and have a result > 1.\n",
    "\n",
    "`while` loops always have a **stop condition**. In this case, our stop condition is the number becoming less than 1."
   ]
  },
  {
   "cell_type": "code",
   "execution_count": null,
   "id": "e77a9d5b",
   "metadata": {
    "execution": {
     "iopub.execute_input": "2024-08-20T19:32:37.650387Z",
     "iopub.status.busy": "2024-08-20T19:32:37.650124Z",
     "iopub.status.idle": "2024-08-20T19:32:37.653453Z",
     "shell.execute_reply": "2024-08-20T19:32:37.652711Z"
    },
    "slideshow": {
     "slide_type": "fragment"
    }
   },
   "outputs": [],
   "source": [
    "num = 103812\n",
    "while num >= 1:\n",
    "    num = num / 10"
   ]
  },
  {
   "cell_type": "markdown",
   "id": "ef7d8c88",
   "metadata": {},
   "source": [
    "This is another **cumulative algorithm**. We need to keep a running count of how many times we've divided."
   ]
  },
  {
   "cell_type": "code",
   "execution_count": null,
   "id": "d439a034",
   "metadata": {
    "execution": {
     "iopub.execute_input": "2024-08-20T19:32:37.656861Z",
     "iopub.status.busy": "2024-08-20T19:32:37.656586Z",
     "iopub.status.idle": "2024-08-20T19:32:37.660244Z",
     "shell.execute_reply": "2024-08-20T19:32:37.659522Z"
    }
   },
   "outputs": [],
   "source": [
    "num = 103812\n",
    "count = 0\n",
    "\n",
    "while num >= 1:\n",
    "    num = num / 10\n",
    "    count += 1\n",
    "\n",
    "print(count)"
   ]
  },
  {
   "cell_type": "markdown",
   "id": "118f2f47",
   "metadata": {
    "slideshow": {
     "slide_type": "slide"
    }
   },
   "source": [
    "# Example: Number adder\n",
    "\n",
    "Write a program that prompts the user to type in numbers. Keep a running sum of the numbers, and print out the total once the user types \"quit\".\n",
    "\n"
   ]
  },
  {
   "cell_type": "markdown",
   "id": "11dec15c",
   "metadata": {
    "slideshow": {
     "slide_type": "fragment"
    }
   },
   "source": [
    "In this case, our **stop condition** is based on a \"sentinel value\": a value that indicates we should stop.\n",
    "\n",
    "Our sentinel value is \"quit\", and our while loop continues until `answer` is equal to `\"quit\"`."
   ]
  },
  {
   "cell_type": "markdown",
   "id": "c30b7d80",
   "metadata": {
    "slideshow": {
     "slide_type": "subslide"
    }
   },
   "source": [
    "What's wrong with this attempt?"
   ]
  },
  {
   "cell_type": "code",
   "execution_count": null,
   "id": "84a47680",
   "metadata": {
    "execution": {
     "iopub.execute_input": "2024-08-20T19:32:37.663701Z",
     "iopub.status.busy": "2024-08-20T19:32:37.663450Z",
     "iopub.status.idle": "2024-08-20T19:32:37.687339Z",
     "shell.execute_reply": "2024-08-20T19:32:37.686655Z"
    },
    "tags": [
     "remove-output"
    ]
   },
   "outputs": [],
   "source": [
    "total = 0\n",
    "answer = \"n/a\"\n",
    "\n",
    "while answer != \"quit\":\n",
    "    answer = input(\"Type a number, or 'quit' to stop: \")\n",
    "    total = total + int(answer)\n",
    "    print(\"Sum so far: \" + str(total))\n",
    "\n",
    "print(\"Sum: \" + str(total))"
   ]
  },
  {
   "cell_type": "markdown",
   "id": "30178d0e",
   "metadata": {
    "slideshow": {
     "slide_type": "subslide"
    }
   },
   "source": [
    "When the user types `quit`, the conversion to `int` fails and causes an error.\n",
    "\n",
    "The solution here is similar to a fencepost loop - we need to pull part of the loop out of the loop."
   ]
  },
  {
   "cell_type": "code",
   "execution_count": null,
   "id": "0287a3e6",
   "metadata": {
    "execution": {
     "iopub.execute_input": "2024-08-20T19:32:37.690477Z",
     "iopub.status.busy": "2024-08-20T19:32:37.690222Z",
     "iopub.status.idle": "2024-08-20T19:32:37.712297Z",
     "shell.execute_reply": "2024-08-20T19:32:37.711624Z"
    },
    "tags": [
     "remove-output"
    ]
   },
   "outputs": [],
   "source": [
    "total = 0\n",
    "answer = input(\"Type a number, or 'quit' to stop: \")\n",
    "\n",
    "while answer != \"quit\":\n",
    "    total = total + int(answer)\n",
    "    print(\"Sum so far:\" + str(total))\n",
    "    answer = input(\"Type a number, or 'quit' to stop: \")\n",
    "\n",
    "print(\"Sum: \" + str(total))"
   ]
  },
  {
   "cell_type": "markdown",
   "id": "819b81ab",
   "metadata": {
    "slideshow": {
     "slide_type": "subslide"
    }
   },
   "source": [
    "This pattern is common when dealing with user input.  \n",
    "\n",
    "In some cases, there's another possible solution: set our initial \"dummy\" value to 0 and re-order the statements in the loop."
   ]
  },
  {
   "cell_type": "code",
   "execution_count": null,
   "id": "7c2a6d52",
   "metadata": {
    "execution": {
     "iopub.execute_input": "2024-08-20T19:32:37.715703Z",
     "iopub.status.busy": "2024-08-20T19:32:37.715414Z",
     "iopub.status.idle": "2024-08-20T19:32:37.741419Z",
     "shell.execute_reply": "2024-08-20T19:32:37.740741Z"
    },
    "tags": [
     "remove-output"
    ]
   },
   "outputs": [],
   "source": [
    "total = 0\n",
    "answer = 0\n",
    "\n",
    "while answer != \"quit\":\n",
    "    total = total + int(answer)\n",
    "    print(\"Sum so far:\" + str(total))\n",
    "    answer = input(\"Type a number, or 'quit' to stop: \")\n",
    "\n",
    "print(\"Sum: \" + str(total))"
   ]
  },
  {
   "cell_type": "markdown",
   "id": "220ca77f",
   "metadata": {},
   "source": [
    "One difference here is that we printed \"Sum so far\" before the user entered any numbers.  \n",
    "  \n",
    "For this program, that seems ok, but it might not be for every program.  \n",
    "\n",
    "Picking the right loop structure will take practice!\n"
   ]
  },
  {
   "cell_type": "markdown",
   "id": "ab94d165",
   "metadata": {
    "slideshow": {
     "slide_type": "slide"
    }
   },
   "source": [
    "# Controlling loops\n",
    "\n",
    "* The `break` keyword will stop a loop and continue on to the code immediately after a loop.\n",
    "* The `continue` keyword will skip to the next iteration of the loop.\n",
    "\n",
    "Both of these work for `for` and `while` loops."
   ]
  },
  {
   "cell_type": "markdown",
   "id": "e16f65e9",
   "metadata": {
    "slideshow": {
     "slide_type": "subslide"
    }
   },
   "source": [
    "## `break`\n",
    "\n",
    "Let's revisit the number-adder"
   ]
  },
  {
   "cell_type": "code",
   "execution_count": null,
   "id": "cdb195b6",
   "metadata": {
    "execution": {
     "iopub.execute_input": "2024-08-20T19:32:37.745368Z",
     "iopub.status.busy": "2024-08-20T19:32:37.745044Z",
     "iopub.status.idle": "2024-08-20T19:32:37.776612Z",
     "shell.execute_reply": "2024-08-20T19:32:37.775776Z"
    },
    "tags": [
     "remove-output"
    ]
   },
   "outputs": [],
   "source": [
    "total = 0\n",
    "answer = 0\n",
    "\n",
    "while answer != \"quit\":\n",
    "    total = total + int(answer)\n",
    "    print(\"Sum so far:\" + str(total))\n",
    "    answer = input(\"Type a number, or 'quit' to stop: \")\n",
    "\n",
    "print(\"Sum: \" + str(total))"
   ]
  },
  {
   "cell_type": "markdown",
   "id": "1e9369da",
   "metadata": {
    "slideshow": {
     "slide_type": "subslide"
    }
   },
   "source": [
    "Using `break`, we can write this a different way:"
   ]
  },
  {
   "cell_type": "code",
   "execution_count": null,
   "id": "5023d3d0",
   "metadata": {
    "execution": {
     "iopub.execute_input": "2024-08-20T19:32:37.780445Z",
     "iopub.status.busy": "2024-08-20T19:32:37.780100Z",
     "iopub.status.idle": "2024-08-20T19:32:37.811312Z",
     "shell.execute_reply": "2024-08-20T19:32:37.810637Z"
    },
    "tags": [
     "remove-output"
    ]
   },
   "outputs": [],
   "source": [
    "total = 0\n",
    "while True:\n",
    "    answer = input(\"Type a number, or 'quit' to stop: \")\n",
    "    if answer == \"quit\":\n",
    "        break\n",
    "    total = total + int(answer)\n",
    "    print(\"Sum so far:\" + str(total))\n",
    "print(\"Final sum: \" + str(total))"
   ]
  },
  {
   "cell_type": "markdown",
   "id": "c3c14e68",
   "metadata": {},
   "source": [
    "`break` stops the loop and jumps to the code immediately after the loop.  \n",
    "`while True: ... break` is another common loop pattern."
   ]
  },
  {
   "cell_type": "markdown",
   "id": "13a6474c",
   "metadata": {
    "slideshow": {
     "slide_type": "subslide"
    }
   },
   "source": [
    "## `continue`\n",
    "\n",
    "`continue` skips the rest of the current iteration, and starts at the beginning of the next iteration (if there are any left).  \n",
    "  \n",
    "\n",
    "`continue` is never **necessary**. You can always recreate the same logic with nested `if/else` statements. But it can help improve readability by letting you avoid deep nesting of conditionals."
   ]
  },
  {
   "cell_type": "code",
   "execution_count": null,
   "id": "a001c39f",
   "metadata": {
    "execution": {
     "iopub.execute_input": "2024-08-20T19:32:37.815291Z",
     "iopub.status.busy": "2024-08-20T19:32:37.814874Z",
     "iopub.status.idle": "2024-08-20T19:32:37.842264Z",
     "shell.execute_reply": "2024-08-20T19:32:37.841255Z"
    },
    "slideshow": {
     "slide_type": "subslide"
    },
    "tags": [
     "remove-output"
    ]
   },
   "outputs": [],
   "source": [
    "for x in range(10000):\n",
    "    if x % 7 == 0:\n",
    "        y = random.randint(1, 10)\n",
    "        if y % 5 == 0:\n",
    "            z = random.randint(1, 100)\n",
    "            if z % 23 == 0:\n",
    "                print(\"made it! pretend this block contains lots and lots of code\")"
   ]
  },
  {
   "cell_type": "code",
   "execution_count": null,
   "id": "c8ff9c76",
   "metadata": {
    "execution": {
     "iopub.execute_input": "2024-08-20T19:32:37.846681Z",
     "iopub.status.busy": "2024-08-20T19:32:37.846270Z",
     "iopub.status.idle": "2024-08-20T19:32:37.874880Z",
     "shell.execute_reply": "2024-08-20T19:32:37.873617Z"
    },
    "tags": [
     "remove-output"
    ]
   },
   "outputs": [],
   "source": [
    "# vs.\n",
    "for x in range(10000):\n",
    "    if x % 7 != 0:\n",
    "        continue\n",
    "        \n",
    "    y = random.randint(1, 10)\n",
    "    if y % 5 != 0:\n",
    "        continue\n",
    "        \n",
    "    z = random.randint(1, 100)\n",
    "    if z % 23 != 0:\n",
    "        continue\n",
    "    \n",
    "    print(\"made it! pretend this block contains lots and lots of code\")"
   ]
  },
  {
   "cell_type": "markdown",
   "id": "571b90f0",
   "metadata": {
    "slideshow": {
     "slide_type": "slide"
    }
   },
   "source": [
    "# Example: Lucky Sevens\n",
    "\n",
    "Write a function that generates random numbers between 1 and 10. Stop after 10 rolls, or when a 7 is rolled, whichever comes first. Return `True` if a 7 was rolled, or `False` if the roll limit is reached.\n",
    "\n"
   ]
  },
  {
   "cell_type": "code",
   "execution_count": null,
   "id": "c085e1fa",
   "metadata": {
    "execution": {
     "iopub.execute_input": "2024-08-20T19:32:37.879469Z",
     "iopub.status.busy": "2024-08-20T19:32:37.879131Z",
     "iopub.status.idle": "2024-08-20T19:32:37.884249Z",
     "shell.execute_reply": "2024-08-20T19:32:37.883406Z"
    },
    "slideshow": {
     "slide_type": "fragment"
    },
    "tags": [
     "remove-output"
    ]
   },
   "outputs": [],
   "source": [
    "import random\n",
    "def roll():\n",
    "    for i in range(10):\n",
    "        roll = random.randint(1, 10)\n",
    "        if roll == 7:\n",
    "            # ???\n",
    "        "
   ]
  },
  {
   "cell_type": "markdown",
   "id": "2014985b",
   "metadata": {
    "slideshow": {
     "slide_type": "subslide"
    }
   },
   "source": [
    "## Side note: generating random numbers\n",
    "\n",
    "You can generate random integers with the function:\n",
    "\n",
    "`random.randint(a, b)`\n",
    "* This returns a (pseudo)random integer N such that `a <= N <= b`. \n",
    "* In order to use this, you must add `import random` at the top of your program. \n",
    "* This makes the random **module** available for use.\n",
    "  * A **module** is a collection of related functions. \n",
    "  * Python provides many useful built-in modules. \n",
    "  * You can also find and install modules that other people have written. \n",
    "  * We'll touch on modules more as the term goes on.\n",
    "\n",
    "[random.randint() function reference](https://docs.python.org/3/library/random.html#random.randint)"
   ]
  },
  {
   "cell_type": "markdown",
   "id": "e7305d1f",
   "metadata": {
    "slideshow": {
     "slide_type": "subslide"
    }
   },
   "source": [
    "First attempt... is it correct?"
   ]
  },
  {
   "cell_type": "code",
   "execution_count": null,
   "id": "fbddd3bc",
   "metadata": {
    "execution": {
     "iopub.execute_input": "2024-08-20T19:32:37.888070Z",
     "iopub.status.busy": "2024-08-20T19:32:37.887763Z",
     "iopub.status.idle": "2024-08-20T19:32:37.893762Z",
     "shell.execute_reply": "2024-08-20T19:32:37.892615Z"
    },
    "slideshow": {
     "slide_type": "-"
    }
   },
   "outputs": [],
   "source": [
    "import random\n",
    "def roll():\n",
    "    for i in range(10):\n",
    "        roll = random.randint(1, 10)\n",
    "        if roll == 7:\n",
    "            return True\n",
    "        else: \n",
    "            return False\n",
    "roll()"
   ]
  },
  {
   "cell_type": "markdown",
   "id": "d67f4a94",
   "metadata": {
    "slideshow": {
     "slide_type": "subslide"
    }
   },
   "source": [
    "Seems suspicious... we almost always get `False`. \n",
    "\n",
    "The probability of at least one `7` in 10 rolls is: `1 - (90% ^ 10)`, or about 65%.  \n",
    "\n",
    "It seems like we should see `True` more often, but with small samples of random numbers, it's hard to tell for sure - maybe we're just unlucky.\n",
    "\n",
    "Can we test it?"
   ]
  },
  {
   "cell_type": "markdown",
   "id": "2628cdb4",
   "metadata": {
    "slideshow": {
     "slide_type": "subslide"
    }
   },
   "source": [
    "\n",
    "## Can we test it?\n",
    "\n",
    "A good way to test random number distribution is to run the code thousands of times, and see if the results are close to what we expect.\n",
    "\n",
    "That's tedious to do by hand... but luckily we have code!"
   ]
  },
  {
   "cell_type": "code",
   "execution_count": null,
   "id": "e047ea29",
   "metadata": {
    "execution": {
     "iopub.execute_input": "2024-08-20T19:32:37.897339Z",
     "iopub.status.busy": "2024-08-20T19:32:37.897045Z",
     "iopub.status.idle": "2024-08-20T19:32:37.913145Z",
     "shell.execute_reply": "2024-08-20T19:32:37.912411Z"
    },
    "slideshow": {
     "slide_type": ""
    }
   },
   "outputs": [],
   "source": [
    "count = 0\n",
    "\n",
    "for i in range(10000):\n",
    "    if roll():\n",
    "        count = count + 1\n",
    "\n",
    "print(\"Rolled a 7: \" + str(count) + \" times\")"
   ]
  },
  {
   "cell_type": "markdown",
   "id": "c3048df8",
   "metadata": {
    "slideshow": {
     "slide_type": "subslide"
    }
   },
   "source": [
    "Some quick improvements so we can see how far off we are:"
   ]
  },
  {
   "cell_type": "code",
   "execution_count": null,
   "id": "77c91261",
   "metadata": {
    "execution": {
     "iopub.execute_input": "2024-08-20T19:32:37.916877Z",
     "iopub.status.busy": "2024-08-20T19:32:37.916247Z",
     "iopub.status.idle": "2024-08-20T19:32:37.933298Z",
     "shell.execute_reply": "2024-08-20T19:32:37.932389Z"
    },
    "slideshow": {
     "slide_type": ""
    }
   },
   "outputs": [],
   "source": [
    "count = 0\n",
    "iterations = 10000\n",
    "expected_sevens = (1 - (0.9 ** 10)) * iterations\n",
    "\n",
    "for i in range(iterations):\n",
    "    if roll():\n",
    "        count = count + 1\n",
    "\n",
    "print(\"Rolled a 7 \" + str(count) + \"/\" + str(iterations) + \" times\")\n",
    "print(\"Expected number of 7s is ~\" + str(int(expected_sevens)))"
   ]
  },
  {
   "cell_type": "markdown",
   "id": "982cce1f",
   "metadata": {
    "slideshow": {
     "slide_type": "subslide"
    }
   },
   "source": [
    "The counts are way off... what's the logic error?"
   ]
  },
  {
   "cell_type": "code",
   "execution_count": null,
   "id": "722fdfab",
   "metadata": {
    "execution": {
     "iopub.execute_input": "2024-08-20T19:32:37.937137Z",
     "iopub.status.busy": "2024-08-20T19:32:37.936827Z",
     "iopub.status.idle": "2024-08-20T19:32:37.942061Z",
     "shell.execute_reply": "2024-08-20T19:32:37.941343Z"
    },
    "slideshow": {
     "slide_type": "-"
    }
   },
   "outputs": [],
   "source": [
    "import random\n",
    "def roll():\n",
    "    for i in range(10):\n",
    "        roll = random.randint(1, 10)\n",
    "        if roll == 7:\n",
    "            return True\n",
    "        else: \n",
    "            return False\n",
    "roll()"
   ]
  },
  {
   "cell_type": "markdown",
   "id": "ff1253cf",
   "metadata": {
    "slideshow": {
     "slide_type": "fragment"
    }
   },
   "source": [
    "The code returns after the first roll every time, 7 or not!"
   ]
  },
  {
   "cell_type": "markdown",
   "id": "a8114cd8",
   "metadata": {
    "slideshow": {
     "slide_type": "subslide"
    }
   },
   "source": [
    "A corrected version:"
   ]
  },
  {
   "cell_type": "code",
   "execution_count": null,
   "id": "1a00cd3c",
   "metadata": {
    "execution": {
     "iopub.execute_input": "2024-08-20T19:32:37.945151Z",
     "iopub.status.busy": "2024-08-20T19:32:37.944884Z",
     "iopub.status.idle": "2024-08-20T19:32:37.948418Z",
     "shell.execute_reply": "2024-08-20T19:32:37.947824Z"
    },
    "slideshow": {
     "slide_type": ""
    }
   },
   "outputs": [],
   "source": [
    "import random\n",
    "def roll():\n",
    "    for i in range(10):\n",
    "        roll = random.randint(1, 10)\n",
    "        if roll == 7:\n",
    "            return True\n",
    "    return False"
   ]
  },
  {
   "cell_type": "code",
   "execution_count": null,
   "id": "cb9083ab",
   "metadata": {
    "execution": {
     "iopub.execute_input": "2024-08-20T19:32:37.951484Z",
     "iopub.status.busy": "2024-08-20T19:32:37.951162Z",
     "iopub.status.idle": "2024-08-20T19:32:38.011544Z",
     "shell.execute_reply": "2024-08-20T19:32:38.010895Z"
    },
    "slideshow": {
     "slide_type": "subslide"
    }
   },
   "outputs": [],
   "source": [
    "count = 0\n",
    "iterations = 10000\n",
    "expected_sevens = (1 - (0.9 ** 10)) * iterations\n",
    "\n",
    "for i in range(0, iterations):\n",
    "    if roll() == True:\n",
    "        count = count + 1\n",
    "\n",
    "print(\"Rolled a 7 \" + str(count) + \"/\" + str(iterations) + \" times\")\n",
    "print(\"Expected number of 7s is ~\" + str(int(expected_sevens)))"
   ]
  },
  {
   "cell_type": "markdown",
   "id": "f057b0b7",
   "metadata": {},
   "source": [
    "That looks right!"
   ]
  },
  {
   "cell_type": "markdown",
   "id": "93e3abaf",
   "metadata": {
    "slideshow": {
     "slide_type": "subslide"
    }
   },
   "source": [
    "# Controlling loops\n",
    "\n",
    "We looked at `break` and `continue`. `return` is another way to control a loop if it's inside a function.\n",
    "\n",
    "But, as we just saw, using `return` with loops can be tricky.\n",
    "\n",
    "Be sure to think about whether it's ok to skip the rest of the loop iterations and the rest of the function when `return`ing from a loop."
   ]
  },
  {
   "cell_type": "markdown",
   "id": "ed7bc744",
   "metadata": {
    "slideshow": {
     "slide_type": "slide"
    }
   },
   "source": [
    "# Example: Adding Game\n",
    "\n",
    "* Write a program that plays an adding game.\n",
    "  * Ask the user to solve randomly generated addition problems with 2-5 numbers.\n",
    "  * The user gets 1 point for a correct answer, 0 for incorrect.\n",
    "  * The program stops after 3 incorrect answers."
   ]
  },
  {
   "cell_type": "markdown",
   "id": "1c180d3b",
   "metadata": {
    "slideshow": {
     "slide_type": "subslide"
    }
   },
   "source": [
    "### This is more complex than our other exercises. \n",
    "\n",
    "Let's break it down (functional decomposition):  \n",
    "\n",
    "* There are 2 major parts to our program:\n",
    "  * Handling a single problem: generate a problem, present it, check the answer, report correctness\n",
    "  * Outer game loop: let the player take a turn, track score, end the game after incorrect answers\n",
    "* We could decompose this further - each of the things listed on those lines could be its own function. \n",
    "  * However, we haven't learned all the language tools we need for that yet (lists, tuples)"
   ]
  },
  {
   "cell_type": "markdown",
   "id": "60c8ebb6",
   "metadata": {},
   "source": [
    "## Generate a problem:\n",
    "\n",
    "1. Pick a random number between 2 and 5: `random.randint(2, 6)`\n",
    "1. Generate that many random numbers between 1 and 20\n",
    "1. Join the numbers and `+` signs together into a string that represents the addition problem."
   ]
  },
  {
   "cell_type": "code",
   "execution_count": null,
   "id": "53fb28c6",
   "metadata": {
    "execution": {
     "iopub.execute_input": "2024-08-20T19:32:38.015942Z",
     "iopub.status.busy": "2024-08-20T19:32:38.015665Z",
     "iopub.status.idle": "2024-08-20T19:32:38.019685Z",
     "shell.execute_reply": "2024-08-20T19:32:38.019038Z"
    }
   },
   "outputs": [],
   "source": [
    "import random\n",
    "def turn():\n",
    "    number_count = random.randint(2, 5)\n",
    "    problem = ''\n",
    "    \n",
    "    for i in range(number_count):\n",
    "        problem = problem + str(random.randint(1, 20)) + \" + \"\n",
    "\n",
    "    problem = problem + \"= \"\n",
    "    print(problem)"
   ]
  },
  {
   "cell_type": "code",
   "execution_count": null,
   "id": "1f7d7c06",
   "metadata": {
    "execution": {
     "iopub.execute_input": "2024-08-20T19:32:38.022837Z",
     "iopub.status.busy": "2024-08-20T19:32:38.022545Z",
     "iopub.status.idle": "2024-08-20T19:32:38.025850Z",
     "shell.execute_reply": "2024-08-20T19:32:38.025233Z"
    }
   },
   "outputs": [],
   "source": [
    "turn()"
   ]
  },
  {
   "cell_type": "markdown",
   "id": "4ccee24a",
   "metadata": {
    "slideshow": {
     "slide_type": "subslide"
    }
   },
   "source": [
    "Wait, we've seen this bug before..."
   ]
  },
  {
   "cell_type": "markdown",
   "id": "721ec506",
   "metadata": {
    "slideshow": {
     "slide_type": "fragment"
    }
   },
   "source": [
    "Fenceposts!\n",
    "\n",
    "`|===|===|===| `  \n",
    "`5 + 3 + 7 + 10`"
   ]
  },
  {
   "cell_type": "markdown",
   "id": "28076ea9",
   "metadata": {
    "slideshow": {
     "slide_type": "subslide"
    }
   },
   "source": [
    "Pull the final number out of the loop to avoid printing an extra `+`"
   ]
  },
  {
   "cell_type": "code",
   "execution_count": null,
   "id": "8b1f1709",
   "metadata": {
    "execution": {
     "iopub.execute_input": "2024-08-20T19:32:38.029108Z",
     "iopub.status.busy": "2024-08-20T19:32:38.028847Z",
     "iopub.status.idle": "2024-08-20T19:32:38.032952Z",
     "shell.execute_reply": "2024-08-20T19:32:38.032337Z"
    }
   },
   "outputs": [],
   "source": [
    "import random\n",
    "def turn():\n",
    "    number_count = random.randint(2, 5)\n",
    "    problem = ''\n",
    "    \n",
    "    for i in range(number_count - 1):\n",
    "        problem = problem + str(random.randint(1, 20)) + \" + \"\n",
    "\n",
    "    problem += str(random.randint(1, 20)) + \" = \"\n",
    "    print(problem)"
   ]
  },
  {
   "cell_type": "code",
   "execution_count": null,
   "id": "3ad35869",
   "metadata": {
    "execution": {
     "iopub.execute_input": "2024-08-20T19:32:38.036288Z",
     "iopub.status.busy": "2024-08-20T19:32:38.036026Z",
     "iopub.status.idle": "2024-08-20T19:32:38.039721Z",
     "shell.execute_reply": "2024-08-20T19:32:38.038983Z"
    }
   },
   "outputs": [],
   "source": [
    "turn()"
   ]
  },
  {
   "cell_type": "markdown",
   "id": "4c5d68b6",
   "metadata": {
    "slideshow": {
     "slide_type": "subslide"
    }
   },
   "source": [
    "We also need to keep track of the solution as we go:"
   ]
  },
  {
   "cell_type": "code",
   "execution_count": null,
   "id": "61e83173",
   "metadata": {
    "execution": {
     "iopub.execute_input": "2024-08-20T19:32:38.042827Z",
     "iopub.status.busy": "2024-08-20T19:32:38.042560Z",
     "iopub.status.idle": "2024-08-20T19:32:38.047077Z",
     "shell.execute_reply": "2024-08-20T19:32:38.046312Z"
    },
    "slideshow": {
     "slide_type": "-"
    }
   },
   "outputs": [],
   "source": [
    "import random\n",
    "def turn():\n",
    "    number_count = random.randint(2, 5)\n",
    "    expected_sum = 0\n",
    "    problem = ''\n",
    "    \n",
    "    for i in range(number_count-1):\n",
    "        number = random.randint(1, 20)\n",
    "        expected_sum = expected_sum + number\n",
    "        problem = problem + str(number) + \" + \"\n",
    "\n",
    "    number = random.randint(1, 20)\n",
    "    expected_sum = expected_sum + number\n",
    "    problem += str(number) + \" = \"\n",
    "\n",
    "    print(problem)\n",
    "    print(expected_sum)"
   ]
  },
  {
   "cell_type": "code",
   "execution_count": null,
   "id": "010cec66",
   "metadata": {
    "execution": {
     "iopub.execute_input": "2024-08-20T19:32:38.050214Z",
     "iopub.status.busy": "2024-08-20T19:32:38.049933Z",
     "iopub.status.idle": "2024-08-20T19:32:38.053508Z",
     "shell.execute_reply": "2024-08-20T19:32:38.052847Z"
    }
   },
   "outputs": [],
   "source": [
    "turn()"
   ]
  },
  {
   "cell_type": "markdown",
   "id": "084c1866",
   "metadata": {
    "slideshow": {
     "slide_type": "subslide"
    }
   },
   "source": [
    "Now that our problem generation is working, let's switch gears.\n",
    "\n",
    "Let's write a function which handles asking for input, and checking the answer against an expected solution."
   ]
  },
  {
   "cell_type": "code",
   "execution_count": null,
   "id": "102c9f65",
   "metadata": {
    "execution": {
     "iopub.execute_input": "2024-08-20T19:32:38.057011Z",
     "iopub.status.busy": "2024-08-20T19:32:38.056675Z",
     "iopub.status.idle": "2024-08-20T19:32:38.060374Z",
     "shell.execute_reply": "2024-08-20T19:32:38.059786Z"
    },
    "slideshow": {
     "slide_type": "-"
    }
   },
   "outputs": [],
   "source": [
    "def prompt_and_check(solution):\n",
    "    guess = input(\"Guess? \")\n",
    "    \n",
    "    if guess == solution:\n",
    "        print(\"Correct! 1 point\")\n",
    "        return True\n",
    "    else:\n",
    "        print(\"BZZZT, wrong answer! The correct answer was: \" + str(solution))\n",
    "        return False    "
   ]
  },
  {
   "cell_type": "code",
   "execution_count": null,
   "id": "bddc5be1",
   "metadata": {
    "execution": {
     "iopub.execute_input": "2024-08-20T19:32:38.063381Z",
     "iopub.status.busy": "2024-08-20T19:32:38.063120Z",
     "iopub.status.idle": "2024-08-20T19:32:38.091174Z",
     "shell.execute_reply": "2024-08-20T19:32:38.090563Z"
    },
    "tags": [
     "remove-output"
    ]
   },
   "outputs": [],
   "source": [
    "prompt_and_check(34)"
   ]
  },
  {
   "cell_type": "markdown",
   "id": "7a126ab0",
   "metadata": {
    "slideshow": {
     "slide_type": "subslide"
    }
   },
   "source": [
    "## What's wrong?\n",
    "\n",
    "Why isn't `34` == `34` ??\n",
    "\n",
    "Step-thru debugging might be useful here... let's try it. "
   ]
  },
  {
   "cell_type": "markdown",
   "id": "fafb32de",
   "metadata": {
    "slideshow": {
     "slide_type": "subslide"
    }
   },
   "source": [
    "[GitHub Classroom -> Class exercises -> Open in GitHub Cospaces](https://classroom.github.com/a/M3gdSqkV)\n",
    "\n",
    "Open the file: `exercises/05/adding_game_debugging/README.md`, follow the instructions.\n",
    "* If you don't see this folder: Open the file: `get_exercises.sh`, click the \"Run\" button at the top right of the editor."
   ]
  },
  {
   "cell_type": "code",
   "execution_count": null,
   "id": "886dc479",
   "metadata": {
    "execution": {
     "iopub.execute_input": "2024-08-20T19:32:38.094794Z",
     "iopub.status.busy": "2024-08-20T19:32:38.094350Z",
     "iopub.status.idle": "2024-08-20T19:32:38.099150Z",
     "shell.execute_reply": "2024-08-20T19:32:38.098579Z"
    },
    "slideshow": {
     "slide_type": "fragment"
    }
   },
   "outputs": [],
   "source": [
    "34 == \"34\""
   ]
  },
  {
   "cell_type": "markdown",
   "id": "544d7741",
   "metadata": {
    "slideshow": {
     "slide_type": "subslide"
    }
   },
   "source": [
    "Convert input to an `int` before comparing"
   ]
  },
  {
   "cell_type": "code",
   "execution_count": null,
   "id": "992e177e",
   "metadata": {
    "execution": {
     "iopub.execute_input": "2024-08-20T19:32:38.102202Z",
     "iopub.status.busy": "2024-08-20T19:32:38.101942Z",
     "iopub.status.idle": "2024-08-20T19:32:38.106037Z",
     "shell.execute_reply": "2024-08-20T19:32:38.105381Z"
    },
    "slideshow": {
     "slide_type": "-"
    }
   },
   "outputs": [],
   "source": [
    "def prompt_and_check(solution):\n",
    "    guess = int(input(\"Guess? \"))\n",
    "    \n",
    "    if guess == solution:\n",
    "        print(\"Correct! 1 point\")\n",
    "        return True\n",
    "    else:\n",
    "        print(\"BZZZT, wrong answer! The correct answer was: \" + str(solution))\n",
    "        return False    "
   ]
  },
  {
   "cell_type": "code",
   "execution_count": null,
   "id": "582f910a",
   "metadata": {
    "execution": {
     "iopub.execute_input": "2024-08-20T19:32:38.109224Z",
     "iopub.status.busy": "2024-08-20T19:32:38.108799Z",
     "iopub.status.idle": "2024-08-20T19:32:38.138478Z",
     "shell.execute_reply": "2024-08-20T19:32:38.137392Z"
    },
    "tags": [
     "remove-output"
    ]
   },
   "outputs": [],
   "source": [
    "prompt_and_check(34)"
   ]
  },
  {
   "cell_type": "markdown",
   "id": "6bdd716f",
   "metadata": {
    "slideshow": {
     "slide_type": "subslide"
    }
   },
   "source": [
    "Let's incorporate `prompt_and_check()` into `turn()`:"
   ]
  },
  {
   "cell_type": "code",
   "execution_count": null,
   "id": "b1601305",
   "metadata": {
    "execution": {
     "iopub.execute_input": "2024-08-20T19:32:38.141749Z",
     "iopub.status.busy": "2024-08-20T19:32:38.141469Z",
     "iopub.status.idle": "2024-08-20T19:32:38.146533Z",
     "shell.execute_reply": "2024-08-20T19:32:38.145858Z"
    },
    "slideshow": {
     "slide_type": "-"
    }
   },
   "outputs": [],
   "source": [
    "import random\n",
    "def turn():\n",
    "    number_count = random.randint(2, 5)\n",
    "    expected_sum = 0\n",
    "    problem = ''\n",
    "    \n",
    "    for i in range(number_count-1):\n",
    "        number = random.randint(1, 20)\n",
    "        expected_sum = expected_sum + number\n",
    "        problem = problem + str(number) + \" + \"\n",
    "\n",
    "    number = random.randint(1, 20)\n",
    "    expected_sum = expected_sum + number\n",
    "    problem += str(number) + \" = \"\n",
    "\n",
    "    print(problem)\n",
    "    return prompt_and_check(expected_sum)"
   ]
  },
  {
   "cell_type": "code",
   "execution_count": null,
   "id": "b2903c8c",
   "metadata": {
    "execution": {
     "iopub.execute_input": "2024-08-20T19:32:38.149631Z",
     "iopub.status.busy": "2024-08-20T19:32:38.149365Z",
     "iopub.status.idle": "2024-08-20T19:32:38.196472Z",
     "shell.execute_reply": "2024-08-20T19:32:38.195158Z"
    },
    "tags": [
     "remove-output"
    ]
   },
   "outputs": [],
   "source": [
    "turn()"
   ]
  },
  {
   "cell_type": "markdown",
   "id": "14dce698",
   "metadata": {
    "slideshow": {
     "slide_type": "subslide"
    }
   },
   "source": [
    "Finally, the outer game loop. "
   ]
  },
  {
   "cell_type": "code",
   "execution_count": null,
   "id": "f423766e",
   "metadata": {
    "execution": {
     "iopub.execute_input": "2024-08-20T19:32:38.202700Z",
     "iopub.status.busy": "2024-08-20T19:32:38.202070Z",
     "iopub.status.idle": "2024-08-20T19:32:38.207536Z",
     "shell.execute_reply": "2024-08-20T19:32:38.206524Z"
    }
   },
   "outputs": [],
   "source": [
    "def game():\n",
    "    print(\"Welcome to the number sum game!\")\n",
    "\n",
    "    errors = 0\n",
    "    points = 0\n",
    "    \n",
    "    while errors < 3:\n",
    "        turn_result = turn() \n",
    "        if turn_result:\n",
    "            points = points + 1\n",
    "        else:\n",
    "            errors = errors + 1\n",
    "            \n",
    "    print(\"You earned \" + str(points) + \" total points!\")"
   ]
  },
  {
   "cell_type": "code",
   "execution_count": null,
   "id": "6c2f36e5",
   "metadata": {
    "execution": {
     "iopub.execute_input": "2024-08-20T19:32:38.211579Z",
     "iopub.status.busy": "2024-08-20T19:32:38.211093Z",
     "iopub.status.idle": "2024-08-20T19:32:38.260022Z",
     "shell.execute_reply": "2024-08-20T19:32:38.258961Z"
    },
    "slideshow": {
     "slide_type": "-"
    },
    "tags": [
     "remove-output"
    ]
   },
   "outputs": [],
   "source": [
    "game()"
   ]
  },
  {
   "cell_type": "markdown",
   "id": "24dc6583",
   "metadata": {},
   "source": [
    "We handled most of the complexity already in our helper functions, so this part was pretty simple!  \n",
    "\n",
    "This is an example of why decomposing programs is so powerful - it helps you to build (and test) piece by piece. "
   ]
  },
  {
   "cell_type": "markdown",
   "id": "9fb755b2",
   "metadata": {},
   "source": [
    "\n",
    "TODO: write some exercises"
   ]
  },
  {
   "cell_type": "markdown",
   "id": "7fe188f8",
   "metadata": {
    "slideshow": {
     "slide_type": "slide"
    }
   },
   "source": [
    "# Nested loops\n",
    "\n",
    "You can put loops... inside of loops\n",
    "\n",
    "### Exercise\n",
    "\n",
    "Write a function to draw a square. It should take in the side length as a parameter. For example, `square(4)` would print:\n",
    "```\n",
    "****\n",
    "****\n",
    "****\n",
    "****\n",
    "```"
   ]
  },
  {
   "cell_type": "code",
   "execution_count": null,
   "id": "afe944a6",
   "metadata": {
    "execution": {
     "iopub.execute_input": "2024-08-20T19:32:38.264108Z",
     "iopub.status.busy": "2024-08-20T19:32:38.263822Z",
     "iopub.status.idle": "2024-08-20T19:32:38.269935Z",
     "shell.execute_reply": "2024-08-20T19:32:38.269276Z"
    }
   },
   "outputs": [],
   "source": [
    "def square(size):\n",
    "    for i in range(size):\n",
    "        for j in range(size):\n",
    "            print('*', end='')\n",
    "        print()"
   ]
  },
  {
   "cell_type": "code",
   "execution_count": null,
   "id": "5974f19e",
   "metadata": {
    "execution": {
     "iopub.execute_input": "2024-08-20T19:32:38.273483Z",
     "iopub.status.busy": "2024-08-20T19:32:38.273168Z",
     "iopub.status.idle": "2024-08-20T19:32:38.277891Z",
     "shell.execute_reply": "2024-08-20T19:32:38.277009Z"
    }
   },
   "outputs": [],
   "source": [
    "square(10)"
   ]
  },
  {
   "cell_type": "markdown",
   "id": "a23082b1",
   "metadata": {
    "slideshow": {
     "slide_type": "subslide"
    }
   },
   "source": [
    "## Nested loops\n",
    "\n",
    "You can \"nest\" loops inside of each other. The inner loop is repeated by the outer loop. \n",
    "\n",
    "Let's \"unroll\" the outer loop for the call `square(4)`:"
   ]
  },
  {
   "cell_type": "code",
   "execution_count": null,
   "id": "4a9941ba",
   "metadata": {
    "execution": {
     "iopub.execute_input": "2024-08-20T19:32:38.282788Z",
     "iopub.status.busy": "2024-08-20T19:32:38.282175Z",
     "iopub.status.idle": "2024-08-20T19:32:38.288640Z",
     "shell.execute_reply": "2024-08-20T19:32:38.287811Z"
    }
   },
   "outputs": [],
   "source": [
    "for i in range(4):\n",
    "    for j in range(4):\n",
    "        print('*', end='')    \n",
    "    print()"
   ]
  },
  {
   "cell_type": "code",
   "execution_count": null,
   "id": "cd949b10",
   "metadata": {
    "execution": {
     "iopub.execute_input": "2024-08-20T19:32:38.293226Z",
     "iopub.status.busy": "2024-08-20T19:32:38.292680Z",
     "iopub.status.idle": "2024-08-20T19:32:38.299077Z",
     "shell.execute_reply": "2024-08-20T19:32:38.298329Z"
    }
   },
   "outputs": [],
   "source": [
    "# equivalent \"unrolled\" code\n",
    "for j in range(4):\n",
    "    print('*', end='')\n",
    "print()\n",
    "for j in range(4):\n",
    "    print('*', end='')\n",
    "print()\n",
    "for j in range(4):\n",
    "    print('*', end='')\n",
    "print()\n",
    "for j in range(4):\n",
    "    print('*', end='')\n",
    "print()"
   ]
  },
  {
   "cell_type": "code",
   "execution_count": null,
   "id": "535bbd80",
   "metadata": {
    "execution": {
     "iopub.execute_input": "2024-08-20T19:32:38.303197Z",
     "iopub.status.busy": "2024-08-20T19:32:38.302867Z",
     "iopub.status.idle": "2024-08-20T19:32:38.307607Z",
     "shell.execute_reply": "2024-08-20T19:32:38.306548Z"
    },
    "slideshow": {
     "slide_type": "subslide"
    }
   },
   "outputs": [],
   "source": [
    "for i in range(4):\n",
    "    for j in range(4):\n",
    "        print('*', end='')    \n",
    "    print()"
   ]
  },
  {
   "cell_type": "markdown",
   "id": "774b55c6",
   "metadata": {
    "slideshow": {
     "slide_type": ""
    }
   },
   "source": [
    "The entire inner loop is repeated once each time the outer loop runs.\n",
    "\n",
    "Each inner loop is drawing one row of the square, of width `size`.\n",
    "\n",
    "The outer loop draws `size` rows."
   ]
  },
  {
   "cell_type": "markdown",
   "id": "50900906",
   "metadata": {
    "slideshow": {
     "slide_type": "subslide"
    }
   },
   "source": [
    "# Example\n",
    "\n",
    "Write a function `pyramid(levels)` that draws the following, with the `levels` parameter controlling how many levels are drawn:\n",
    "```\n",
    "1\n",
    "22\n",
    "333\n",
    "4444\n",
    "55555\n",
    "```"
   ]
  },
  {
   "cell_type": "code",
   "execution_count": null,
   "id": "400d9429",
   "metadata": {
    "execution": {
     "iopub.execute_input": "2024-08-20T19:32:38.311441Z",
     "iopub.status.busy": "2024-08-20T19:32:38.311165Z",
     "iopub.status.idle": "2024-08-20T19:32:38.315945Z",
     "shell.execute_reply": "2024-08-20T19:32:38.315296Z"
    },
    "tags": [
     "remove-output",
     "raises-exception"
    ]
   },
   "outputs": [],
   "source": [
    "def pyramid(levels):\n",
    "    for row in range(levels):\n",
    "        for ??? in range(???):"
   ]
  },
  {
   "cell_type": "code",
   "execution_count": null,
   "id": "23c06337",
   "metadata": {
    "execution": {
     "iopub.execute_input": "2024-08-20T19:32:38.319928Z",
     "iopub.status.busy": "2024-08-20T19:32:38.319578Z",
     "iopub.status.idle": "2024-08-20T19:32:38.323793Z",
     "shell.execute_reply": "2024-08-20T19:32:38.323098Z"
    },
    "slideshow": {
     "slide_type": "slide"
    }
   },
   "outputs": [],
   "source": [
    "def pyramid(levels):\n",
    "    for row in range(levels):\n",
    "        for num in range(row):\n",
    "            print(row, end='')\n",
    "        print()"
   ]
  },
  {
   "cell_type": "code",
   "execution_count": null,
   "id": "0e3baa29",
   "metadata": {
    "execution": {
     "iopub.execute_input": "2024-08-20T19:32:38.326796Z",
     "iopub.status.busy": "2024-08-20T19:32:38.326543Z",
     "iopub.status.idle": "2024-08-20T19:32:38.330127Z",
     "shell.execute_reply": "2024-08-20T19:32:38.329559Z"
    }
   },
   "outputs": [],
   "source": [
    "pyramid(7)"
   ]
  },
  {
   "cell_type": "markdown",
   "id": "d1c6639c",
   "metadata": {
    "slideshow": {
     "slide_type": "subslide"
    }
   },
   "source": [
    "## Looks right... but wait\n",
    "\n",
    "There's an empty line at the beginning...\n",
    "\n",
    "Let's unroll the loops again, for `pyramid(4)`:"
   ]
  },
  {
   "cell_type": "code",
   "execution_count": null,
   "id": "8ca48f98",
   "metadata": {
    "execution": {
     "iopub.execute_input": "2024-08-20T19:32:38.333257Z",
     "iopub.status.busy": "2024-08-20T19:32:38.332993Z",
     "iopub.status.idle": "2024-08-20T19:32:38.337072Z",
     "shell.execute_reply": "2024-08-20T19:32:38.336343Z"
    }
   },
   "outputs": [],
   "source": [
    "for row in range(4):\n",
    "    for num in range(row):\n",
    "        print(row, end='')\n",
    "    print()"
   ]
  },
  {
   "cell_type": "markdown",
   "id": "4a65a61c",
   "metadata": {},
   "source": [
    "This loop will iterate over the values: 0, 1, 2, 3"
   ]
  },
  {
   "cell_type": "code",
   "execution_count": null,
   "id": "0beec5fa",
   "metadata": {
    "execution": {
     "iopub.execute_input": "2024-08-20T19:32:38.340779Z",
     "iopub.status.busy": "2024-08-20T19:32:38.340506Z",
     "iopub.status.idle": "2024-08-20T19:32:38.344989Z",
     "shell.execute_reply": "2024-08-20T19:32:38.344342Z"
    },
    "slideshow": {
     "slide_type": "subslide"
    }
   },
   "outputs": [],
   "source": [
    "for num in range(0):\n",
    "    print(0, end='')\n",
    "print()\n",
    "for num in range(1):\n",
    "    print(1, end='')\n",
    "print()\n",
    "for num in range(2):\n",
    "    print(2, end='')\n",
    "print()\n",
    "for num in range(3):\n",
    "    print(3, end='')\n",
    "print()"
   ]
  },
  {
   "cell_type": "markdown",
   "id": "433affc4",
   "metadata": {
    "slideshow": {
     "slide_type": "slide"
    }
   },
   "source": [
    "## The dreaded \"off by 1\" error"
   ]
  },
  {
   "cell_type": "code",
   "execution_count": null,
   "id": "6f0cb403",
   "metadata": {
    "execution": {
     "iopub.execute_input": "2024-08-20T19:32:38.347939Z",
     "iopub.status.busy": "2024-08-20T19:32:38.347686Z",
     "iopub.status.idle": "2024-08-20T19:32:38.351927Z",
     "shell.execute_reply": "2024-08-20T19:32:38.350828Z"
    }
   },
   "outputs": [],
   "source": [
    "def pyramid(levels):\n",
    "    for row in range(1, levels+1):\n",
    "        for num in range(row):\n",
    "            print(row, end='')\n",
    "        print()"
   ]
  },
  {
   "cell_type": "code",
   "execution_count": null,
   "id": "ee27f71a",
   "metadata": {
    "execution": {
     "iopub.execute_input": "2024-08-20T19:32:38.355696Z",
     "iopub.status.busy": "2024-08-20T19:32:38.355358Z",
     "iopub.status.idle": "2024-08-20T19:32:38.359520Z",
     "shell.execute_reply": "2024-08-20T19:32:38.358798Z"
    },
    "slideshow": {
     "slide_type": ""
    }
   },
   "outputs": [],
   "source": [
    "\n",
    "pyramid(7)"
   ]
  },
  {
   "cell_type": "markdown",
   "id": "87ff8a92",
   "metadata": {
    "slideshow": {
     "slide_type": "subslide"
    }
   },
   "source": [
    "Unrolled:"
   ]
  },
  {
   "cell_type": "code",
   "execution_count": null,
   "id": "0bfda39c",
   "metadata": {
    "execution": {
     "iopub.execute_input": "2024-08-20T19:32:38.362849Z",
     "iopub.status.busy": "2024-08-20T19:32:38.362526Z",
     "iopub.status.idle": "2024-08-20T19:32:38.367842Z",
     "shell.execute_reply": "2024-08-20T19:32:38.367086Z"
    },
    "slideshow": {
     "slide_type": ""
    }
   },
   "outputs": [],
   "source": [
    "for num in range(1):\n",
    "    print(1, end='')\n",
    "print()\n",
    "for num in range(2):\n",
    "    print(2, end='')\n",
    "print()\n",
    "for num in range(3):\n",
    "    print(3, end='')\n",
    "print()\n",
    "for num in range(4):\n",
    "    print(4, end='')\n",
    "print()"
   ]
  },
  {
   "cell_type": "markdown",
   "id": "18403a3c",
   "metadata": {
    "slideshow": {
     "slide_type": "subslide"
    }
   },
   "source": [
    "# Exercise\n",
    "\n",
    "Write a function `centered_pyramid(levels)` that draws the following, with the `levels` parameter controlling how many levels are drawn:\n",
    "\n",
    "```\n",
    "   1     \n",
    "  222\n",
    " 33333\n",
    "4444444\n",
    "```"
   ]
  },
  {
   "cell_type": "markdown",
   "id": "9d4674bc",
   "metadata": {
    "slideshow": {
     "slide_type": "slide"
    }
   },
   "source": [
    "This is trickier, let's look at the pattern...\n",
    "\n",
    "| row | spaces | numbers | spaces | total chars |\n",
    "|:---:|---:|:---:|:---|:---:|\n",
    "| 0 | 3 | 1 | 3 | 7 |\n",
    "| 1 | 2 | 3 | 2 | 7 |\n",
    "| 2 | 1 | 5 | 1 | 7 |\n",
    "| 3 | 0 | 7 | 0 | 7 |\n"
   ]
  },
  {
   "cell_type": "markdown",
   "id": "16288f7d",
   "metadata": {
    "slideshow": {
     "slide_type": "fragment"
    }
   },
   "source": [
    "If `levels` is the total number of rows, and `row` is the current row (starting at 0):\n",
    "\n",
    "* `spaces` = `levels - row - 1`\n",
    "* `numbers` = `row * 2 + 1`"
   ]
  },
  {
   "cell_type": "code",
   "execution_count": null,
   "id": "3bf263b4",
   "metadata": {
    "execution": {
     "iopub.execute_input": "2024-08-20T19:32:38.372273Z",
     "iopub.status.busy": "2024-08-20T19:32:38.371955Z",
     "iopub.status.idle": "2024-08-20T19:32:38.376280Z",
     "shell.execute_reply": "2024-08-20T19:32:38.375698Z"
    },
    "slideshow": {
     "slide_type": "subslide"
    }
   },
   "outputs": [],
   "source": [
    "def centered_pyramid(levels):\n",
    "    for row in range(levels):\n",
    "        for s in range(levels - row - 1):\n",
    "            print(' ', end='')\n",
    "        for n in range(row * 2 + 1):\n",
    "            print(row, end='')\n",
    "        for s in range(levels - row - 1):\n",
    "            print(' ', end='')\n",
    "        print()"
   ]
  },
  {
   "cell_type": "code",
   "execution_count": null,
   "id": "10cf7b54",
   "metadata": {
    "execution": {
     "iopub.execute_input": "2024-08-20T19:32:38.379510Z",
     "iopub.status.busy": "2024-08-20T19:32:38.379231Z",
     "iopub.status.idle": "2024-08-20T19:32:38.382825Z",
     "shell.execute_reply": "2024-08-20T19:32:38.382223Z"
    }
   },
   "outputs": [],
   "source": [
    "centered_pyramid(7)"
   ]
  },
  {
   "cell_type": "markdown",
   "id": "17071e69",
   "metadata": {
    "slideshow": {
     "slide_type": "subslide"
    }
   },
   "source": [
    "## Off by 1 again..."
   ]
  },
  {
   "cell_type": "code",
   "execution_count": null,
   "id": "e2275932",
   "metadata": {
    "execution": {
     "iopub.execute_input": "2024-08-20T19:32:38.387126Z",
     "iopub.status.busy": "2024-08-20T19:32:38.386829Z",
     "iopub.status.idle": "2024-08-20T19:32:38.391175Z",
     "shell.execute_reply": "2024-08-20T19:32:38.390601Z"
    }
   },
   "outputs": [],
   "source": [
    "def centered_pyramid(levels):\n",
    "    for row in range( levels):\n",
    "        for s in range(levels - row - 1):\n",
    "            print(' ', end='')\n",
    "        for n in range(row * 2 + 1):\n",
    "            print(row+1, end='')\n",
    "        for s in range(levels - row - 1):\n",
    "            print(' ', end='')\n",
    "        print()"
   ]
  },
  {
   "cell_type": "code",
   "execution_count": null,
   "id": "5d3bb9b6",
   "metadata": {
    "execution": {
     "iopub.execute_input": "2024-08-20T19:32:38.394301Z",
     "iopub.status.busy": "2024-08-20T19:32:38.394021Z",
     "iopub.status.idle": "2024-08-20T19:32:38.397553Z",
     "shell.execute_reply": "2024-08-20T19:32:38.397001Z"
    }
   },
   "outputs": [],
   "source": [
    "centered_pyramid(7)"
   ]
  },
  {
   "cell_type": "markdown",
   "id": "bbe0f2b7",
   "metadata": {
    "slideshow": {
     "slide_type": "subslide"
    }
   },
   "source": [
    "What would happen if we changed it to `row in range(1, levels+1)`?"
   ]
  },
  {
   "cell_type": "code",
   "execution_count": null,
   "id": "a8770a8e",
   "metadata": {
    "execution": {
     "iopub.execute_input": "2024-08-20T19:32:38.400704Z",
     "iopub.status.busy": "2024-08-20T19:32:38.400325Z",
     "iopub.status.idle": "2024-08-20T19:32:38.406335Z",
     "shell.execute_reply": "2024-08-20T19:32:38.405316Z"
    }
   },
   "outputs": [],
   "source": [
    "# incorrect!\n",
    "def centered_pyramid(levels):\n",
    "    for row in range(1, levels+1):\n",
    "        for s in range(levels - row - 1):\n",
    "            print(' ', end='')\n",
    "        for n in range(row * 2 + 1):\n",
    "            print(row, end='')\n",
    "        for s in range(levels - row - 1):\n",
    "            print(' ', end='')\n",
    "        print()"
   ]
  },
  {
   "cell_type": "code",
   "execution_count": null,
   "id": "76690be6",
   "metadata": {
    "execution": {
     "iopub.execute_input": "2024-08-20T19:32:38.409984Z",
     "iopub.status.busy": "2024-08-20T19:32:38.409621Z",
     "iopub.status.idle": "2024-08-20T19:32:38.413453Z",
     "shell.execute_reply": "2024-08-20T19:32:38.412899Z"
    }
   },
   "outputs": [],
   "source": [
    "centered_pyramid(7)"
   ]
  },
  {
   "cell_type": "markdown",
   "id": "8e4c1dce",
   "metadata": {
    "slideshow": {
     "slide_type": "fragment"
    }
   },
   "source": [
    "Multiple things depend on the variable `levels`, so changing it has a bigger impact. We could adjust every formula, but just adding `1` to the number that is printed results in simpler code."
   ]
  },
  {
   "cell_type": "markdown",
   "id": "a474b5a1",
   "metadata": {},
   "source": [
    "## Exercise: Print a calendar\n",
    "\n",
    "[GitHub Classroom -> Class exercises -> Open in GitHub Cospaces](https://classroom.github.com/a/M3gdSqkV)\n",
    "\n",
    "Open the file: `exercises/05/calendar/README.md`, follow the instructions.\n",
    "* If you don't see this folder: Open the file: `get_exercises.sh`, click the \"Run\" button at the top right of the editor.\n"
   ]
  }
 ],
 "metadata": {
  "celltoolbar": "Slideshow",
  "kernelspec": {
   "display_name": "Python 3 (ipykernel)",
   "language": "python",
   "name": "python3"
  },
  "language_info": {
   "codemirror_mode": {
    "name": "ipython",
    "version": 3
   },
   "file_extension": ".py",
   "mimetype": "text/x-python",
   "name": "python",
   "nbconvert_exporter": "python",
   "pygments_lexer": "ipython3",
   "version": "3.10.9"
  }
 },
 "nbformat": 4,
 "nbformat_minor": 5
}
