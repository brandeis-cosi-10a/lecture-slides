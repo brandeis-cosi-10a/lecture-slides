{
 "cells": [
  {
   "cell_type": "markdown",
   "id": "30364089",
   "metadata": {
    "slideshow": {
     "slide_type": "slide"
    }
   },
   "source": [
    "# Classes\n",
    "\n",
    "<style>\n",
    "section.present > section.present { \n",
    "    max-height: 90%; \n",
    "    overflow-y: scroll;\n",
    "}\n",
    "</style>\n",
    "\n",
    "<small><a href=\"https://colab.research.google.com/github/brandeis-jdelfino/cosi-10a/blob/main/lectures/notebooks/11_classes.ipynb\">Link to interactive slides on Google Colab</a></small>"
   ]
  },
  {
   "cell_type": "markdown",
   "id": "2ffa33c2",
   "metadata": {
    "slideshow": {
     "slide_type": "slide"
    }
   },
   "source": [
    "# Announcements\n",
    "\n",
    "* Sorry about quiz 6!\n",
    "* Quiz next Wednesday on Dictionaries & Sets\n",
    "* PS4 is open, please start! Due Tuesday 11/7"
   ]
  },
  {
   "cell_type": "markdown",
   "id": "ecf7cb81",
   "metadata": {
    "slideshow": {
     "slide_type": "slide"
    }
   },
   "source": [
    "# Exercise\n",
    "\n",
    "Create code to manage a bank account. The code should let you:\n",
    "* Deposit money\n",
    "* Withdraw money\n",
    "* View current balance\n",
    "* View transaction history\n",
    "* Apply interest payments"
   ]
  },
  {
   "cell_type": "markdown",
   "id": "dbd3faf8",
   "metadata": {
    "slideshow": {
     "slide_type": "fragment"
    }
   },
   "source": [
    "Let's look at how we might do this with the things we already know."
   ]
  },
  {
   "cell_type": "code",
   "execution_count": null,
   "id": "7e96a7d8",
   "metadata": {
    "execution": {
     "iopub.execute_input": "2023-10-27T13:11:36.021975Z",
     "iopub.status.busy": "2023-10-27T13:11:36.021617Z",
     "iopub.status.idle": "2023-10-27T13:11:36.037503Z",
     "shell.execute_reply": "2023-10-27T13:11:36.036393Z"
    },
    "slideshow": {
     "slide_type": "subslide"
    }
   },
   "outputs": [],
   "source": [
    "import time\n",
    "\n",
    "def make_bank_data():\n",
    "    return {\n",
    "        \"balance\": 0,\n",
    "        \"transactions\": []\n",
    "    }\n",
    "\n",
    "def deposit(bank_data, amount):\n",
    "    bank_data['balance'] += amount\n",
    "    bank_data['transactions'].append((amount, time.localtime()))\n",
    "\n",
    "def get_balance(bank_data):\n",
    "    return bank_data['balance']\n",
    "\n",
    "def get_transaction(bank_data, index):\n",
    "    return bank_data['transactions'][index]\n",
    "\n",
    "def pay_interest(bank_data):\n",
    "    bank_data['balance'] *= 1.05"
   ]
  },
  {
   "cell_type": "code",
   "execution_count": null,
   "id": "14a72ed6",
   "metadata": {
    "execution": {
     "iopub.execute_input": "2023-10-27T13:11:36.042113Z",
     "iopub.status.busy": "2023-10-27T13:11:36.041292Z",
     "iopub.status.idle": "2023-10-27T13:11:36.048140Z",
     "shell.execute_reply": "2023-10-27T13:11:36.047239Z"
    },
    "slideshow": {
     "slide_type": "subslide"
    }
   },
   "outputs": [],
   "source": [
    "data = make_bank_data()\n",
    "\n",
    "deposit(data, 10.0)\n",
    "deposit(data, 20.0)\n",
    "pay_interest(data)\n",
    "\n",
    "balance = get_balance(data)\n",
    "latest_transaction = get_transaction(data, -1)\n",
    "print(f\"Balance = ${balance}, latest transaction: ${latest_transaction[0]} at {time.asctime(latest_transaction[1])}\")\n"
   ]
  },
  {
   "cell_type": "markdown",
   "id": "57e3d905",
   "metadata": {
    "slideshow": {
     "slide_type": "slide"
    }
   },
   "source": [
    "# Classes\n",
    "\n",
    "But there's a better way to bundle data and functionality together: **classes**.\n",
    "\n",
    "Classes can have data **attributes** to hold data, and **methods** for modifying or accessing the data.\n",
    "\n",
    "Defining a new class creates a new **type** (similar to `int`, `string`, `list`, etc)."
   ]
  },
  {
   "cell_type": "markdown",
   "id": "202dc796",
   "metadata": {
    "slideshow": {
     "slide_type": "subslide"
    }
   },
   "source": [
    "Let's look at what a class for a bank account might look like.\n",
    "\n",
    "Some of this will look strange - don't worry, we'll go through each part of this in detail today."
   ]
  },
  {
   "cell_type": "code",
   "execution_count": null,
   "id": "999fc12e",
   "metadata": {
    "execution": {
     "iopub.execute_input": "2023-10-27T13:11:36.053307Z",
     "iopub.status.busy": "2023-10-27T13:11:36.052952Z",
     "iopub.status.idle": "2023-10-27T13:11:36.059575Z",
     "shell.execute_reply": "2023-10-27T13:11:36.058554Z"
    },
    "slideshow": {
     "slide_type": "subslide"
    }
   },
   "outputs": [],
   "source": [
    "import time\n",
    "\n",
    "# Define the class:\n",
    "class BankAccount:\n",
    "    def __init__(self):\n",
    "        self.balance = 0\n",
    "        self.transactions = []\n",
    "    \n",
    "    def deposit(self, amount):\n",
    "        self.balance += amount\n",
    "        self.transactions.append((amount, time.time()))\n",
    "    \n",
    "    def pay_interest(self):\n",
    "        self.balance *= 1.05\n",
    "\n",
    "# Create 2 instances of the class and use them:\n",
    "b = BankAccount()\n",
    "b.deposit(100)\n",
    "\n",
    "c = BankAccount()\n",
    "c.deposit(50)\n",
    "c.pay_interest()\n",
    "print(f\"b: Balance: {b.balance}; {b.transactions=}\")\n",
    "print(f\"c: Balance: {c.balance}; {c.transactions=}\")\n"
   ]
  },
  {
   "cell_type": "markdown",
   "id": "718597e2",
   "metadata": {
    "slideshow": {
     "slide_type": "notes"
    }
   },
   "source": [
    "[PythonTutor link](https://pythontutor.com/visualize.html#code=%23%20Define%20the%20class%3A%0Aclass%20BankAccount%3A%0A%20%20%20%20def%20__init__%28self%29%3A%0A%20%20%20%20%20%20%20%20self.balance%20%3D%200%0A%20%20%20%20%20%20%20%20self.transactions%20%3D%20%5B%5D%0A%20%20%20%20%0A%20%20%20%20def%20deposit%28self,%20amount%29%3A%0A%20%20%20%20%20%20%20%20self.balance%20%2B%3D%20amount%0A%20%20%20%20%20%20%20%20self.transactions.append%28amount%29%0A%20%20%20%20%0A%20%20%20%20def%20get_balance%28self%29%3A%0A%20%20%20%20%20%20%20%20return%20self.balance%0A%20%20%20%20%0A%20%20%20%20%23%20etc...%0A%0A%23%20Create%202%20instances%20of%20the%20class%20and%20use%20them%3A%0Ab%20%3D%20BankAccount%28%29%0Ab.deposit%28100%29%0Ac%20%3D%20BankAccount%28%29%0Ac.deposit%2850%29%0Aprint%28str%28b.get_balance%28%29%29%20%2B%20%22%3B%20%22%20%2B%20str%28b.transactions%29%29%0Aprint%28str%28c.get_balance%28%29%29%20%2B%20%22%3B%20%22%20%2B%20str%28c.transactions%29%29%0A&cumulative=false&curInstr=0&heapPrimitives=nevernest&mode=display&origin=opt-frontend.js&py=3&rawInputLstJSON=%5B%5D&textReferences=false)"
   ]
  },
  {
   "cell_type": "markdown",
   "id": "822e695a",
   "metadata": {
    "slideshow": {
     "slide_type": "notes"
    }
   },
   "source": [
    "Our `BankAccount` class above has 2 **attributes**: `balance` and `transactions`.\n",
    "\n",
    "It also has 2 **methods**: `deposit()` and `pay_interest()`.\n",
    "\n",
    "It has an `__init__()` method, which defines what to do when a new `BankAccount` is created."
   ]
  },
  {
   "cell_type": "markdown",
   "id": "9131f4d0",
   "metadata": {
    "slideshow": {
     "slide_type": "subslide"
    }
   },
   "source": [
    "## Class definition vs. class instances\n",
    "\n",
    "In that example, we **defined** a class, then created **instances** of the class.\n",
    "\n",
    "**Defining** a class is like creating a blueprint. You specify the data attributes and methods that the class has.\n",
    "\n",
    "Creating an **instance** of (or: **instantiating**) the class is like creating an object from the blueprint. "
   ]
  },
  {
   "cell_type": "markdown",
   "id": "0fcbe700",
   "metadata": {
    "slideshow": {
     "slide_type": "notes"
    }
   },
   "source": [
    "We **defined** that a BankAccount has a balance, a list of transactions, and a few methods that let you access or modify those fields.\n",
    "\n",
    "We created a single `BankAccount` object named `b`, then did some things with it.\n",
    "* You could also say we created a `BankAccount` **instance**.\n",
    "\n",
    "You can create multiple instances of a class, and each instance is independent, just like you can create multiple copies of the same physical object from a blueprint."
   ]
  },
  {
   "cell_type": "markdown",
   "id": "4f304faf",
   "metadata": {
    "slideshow": {
     "slide_type": "slide"
    }
   },
   "source": [
    "# Defining classes\n",
    "\n",
    "Classes are defined with the `class` keyword.\n",
    "\n",
    "```\n",
    "class <ClassName>:\n",
    "    <statements>\n",
    "```"
   ]
  },
  {
   "cell_type": "code",
   "execution_count": null,
   "id": "981d1f17",
   "metadata": {
    "execution": {
     "iopub.execute_input": "2023-10-27T13:11:36.064947Z",
     "iopub.status.busy": "2023-10-27T13:11:36.064613Z",
     "iopub.status.idle": "2023-10-27T13:11:36.069336Z",
     "shell.execute_reply": "2023-10-27T13:11:36.068691Z"
    },
    "tags": [
     "raises-exception",
     "remove-output"
    ]
   },
   "outputs": [],
   "source": [
    "class BankAccount:\n",
    "    # attributes and methods go here"
   ]
  },
  {
   "cell_type": "markdown",
   "id": "e38aeb2c",
   "metadata": {
    "slideshow": {
     "slide_type": "subslide"
    }
   },
   "source": [
    "## Defining Methods\n",
    "\n",
    "Methods are functions associated with a class."
   ]
  },
  {
   "cell_type": "code",
   "execution_count": null,
   "id": "355fa8d8",
   "metadata": {
    "execution": {
     "iopub.execute_input": "2023-10-27T13:11:36.073129Z",
     "iopub.status.busy": "2023-10-27T13:11:36.072625Z",
     "iopub.status.idle": "2023-10-27T13:11:36.077484Z",
     "shell.execute_reply": "2023-10-27T13:11:36.076719Z"
    },
    "tags": [
     "raises-exception",
     "remove-output"
    ]
   },
   "outputs": [],
   "source": [
    "class BankAccount:\n",
    "    def deposit(self, amount):\n",
    "        # code to handle depositing goes here   \n",
    "    \n",
    "    def pay_interest(self):\n",
    "        # code to add interest to the balance goes here"
   ]
  },
  {
   "cell_type": "markdown",
   "id": "7881349e",
   "metadata": {
    "slideshow": {
     "slide_type": "subslide"
    }
   },
   "source": [
    "## `self`\n",
    "\n",
    "We see this strange parameter, `self`, on each method.\n",
    "\n",
    "Methods need a way to access the instances on which they are called. \n",
    "* e.g. `deposit` needs access to the current balance, so that the balance can be increased by the deposit amount."
   ]
  },
  {
   "cell_type": "markdown",
   "id": "5b901ada",
   "metadata": {
    "slideshow": {
     "slide_type": "subslide"
    }
   },
   "source": [
    "## `self`\n",
    "\n",
    "When a class method is called, the instance is always passed as the first parameter, and convention is to name that parameter `self`.\n",
    "\n",
    "Passing the instance happens behind the scenes.\n",
    "\n",
    "Let's go back to our BankAccount example to see this in action: [PythonTutor link](https://pythontutor.com/visualize.html#code=%23%20Define%20the%20class%3A%0Aclass%20BankAccount%3A%0A%20%20%20%20def%20__init__%28self%29%3A%0A%20%20%20%20%20%20%20%20self.balance%20%3D%200%0A%20%20%20%20%20%20%20%20self.transactions%20%3D%20%5B%5D%0A%20%20%20%20%0A%20%20%20%20def%20deposit%28self,%20amount%29%3A%0A%20%20%20%20%20%20%20%20self.balance%20%2B%3D%20amount%0A%20%20%20%20%20%20%20%20self.transactions.append%28amount%29%0A%20%20%20%20%0A%20%20%20%20def%20get_balance%28self%29%3A%0A%20%20%20%20%20%20%20%20return%20self.balance%0A%20%20%20%20%0A%20%20%20%20%23%20etc...%0A%0A%23%20Create%202%20instances%20of%20the%20class%20and%20use%20them%3A%0Ab%20%3D%20BankAccount%28%29%0Ab.deposit%28100%29%0Ac%20%3D%20BankAccount%28%29%0Ac.deposit%2850%29%0Aprint%28str%28b.get_balance%28%29%29%20%2B%20%22%3B%20%22%20%2B%20str%28b.transactions%29%29%0Aprint%28str%28c.get_balance%28%29%29%20%2B%20%22%3B%20%22%20%2B%20str%28c.transactions%29%29%0A&cumulative=false&curInstr=0&heapPrimitives=nevernest&mode=display&origin=opt-frontend.js&py=3&rawInputLstJSON=%5B%5D&textReferences=false)"
   ]
  },
  {
   "cell_type": "markdown",
   "id": "0c576962",
   "metadata": {
    "slideshow": {
     "slide_type": "subslide"
    }
   },
   "source": [
    "## Attributes\n",
    "\n",
    "Attributes are pieces of data stored by a class. Our bank account has 2: `balance` and `transactions`.\n",
    "\n",
    "Attributes are typically created by assigning to them in the special `__init__()` function."
   ]
  },
  {
   "cell_type": "code",
   "execution_count": null,
   "id": "543803a2",
   "metadata": {
    "execution": {
     "iopub.execute_input": "2023-10-27T13:11:36.081255Z",
     "iopub.status.busy": "2023-10-27T13:11:36.080970Z",
     "iopub.status.idle": "2023-10-27T13:11:36.085064Z",
     "shell.execute_reply": "2023-10-27T13:11:36.084404Z"
    }
   },
   "outputs": [],
   "source": [
    "# Define our class with 2 attributes:\n",
    "class BankAccount:\n",
    "    def __init__(self):\n",
    "        self.balance = 0\n",
    "        self.transactions = []\n",
    "        \n",
    "    def deposit(self, amount):\n",
    "        # code to handle depositing goes here\n",
    "        pass\n",
    "    \n",
    "    def pay_interest(self):\n",
    "        # code to add interest to the balance goes here\n",
    "        pass"
   ]
  },
  {
   "cell_type": "markdown",
   "id": "ccade7eb",
   "metadata": {
    "slideshow": {
     "slide_type": "subslide"
    }
   },
   "source": [
    "## `__init__()`\n",
    "\n",
    "This crazy looking method is called the **init function** or the **constructor**. \n",
    "\n",
    "It is run when a new instance of the class is created.\n",
    "\n",
    "You don't have to provide an `__init__()` - if you don't provide one, you get a default version that does nothing."
   ]
  },
  {
   "cell_type": "code",
   "execution_count": null,
   "id": "de567afe",
   "metadata": {
    "execution": {
     "iopub.execute_input": "2023-10-27T13:11:36.088139Z",
     "iopub.status.busy": "2023-10-27T13:11:36.087874Z",
     "iopub.status.idle": "2023-10-27T13:11:36.092221Z",
     "shell.execute_reply": "2023-10-27T13:11:36.091393Z"
    }
   },
   "outputs": [],
   "source": [
    "# Define our class with 2 attributes:\n",
    "class BankAccount:\n",
    "    def __init__(self):\n",
    "        self.balance = 0\n",
    "        self.transactions = []\n",
    "        \n",
    "    def deposit(self, amount):\n",
    "        # code to handle depositing goes here\n",
    "        pass\n",
    "    \n",
    "    def pay_interest(self):\n",
    "        # code to add interest to the balance goes here\n",
    "        pass"
   ]
  },
  {
   "cell_type": "markdown",
   "id": "2a4ead5b",
   "metadata": {
    "slideshow": {
     "slide_type": "subslide"
    }
   },
   "source": [
    "Now that we know how to create attributes and methods, let's fill out the `deposit` and `pay_interest` methods.\n",
    "\n",
    "We can use `self` to access and modify the `balance` and `transactions` attributes."
   ]
  },
  {
   "cell_type": "code",
   "execution_count": null,
   "id": "95fbfc33",
   "metadata": {
    "execution": {
     "iopub.execute_input": "2023-10-27T13:11:36.096014Z",
     "iopub.status.busy": "2023-10-27T13:11:36.095726Z",
     "iopub.status.idle": "2023-10-27T13:11:36.099866Z",
     "shell.execute_reply": "2023-10-27T13:11:36.099300Z"
    },
    "slideshow": {
     "slide_type": "-"
    }
   },
   "outputs": [],
   "source": [
    "class BankAccount:\n",
    "    def __init__(self):\n",
    "        self.balance = 0\n",
    "        self.transactions = []\n",
    "    \n",
    "    def deposit(self, amount):\n",
    "        self.balance += amount\n",
    "        self.transactions.append((amount, time.time()))\n",
    "\n",
    "    def pay_interest(self):\n",
    "        self.balance *= 1.05"
   ]
  },
  {
   "cell_type": "markdown",
   "id": "3bb1e6d5",
   "metadata": {
    "slideshow": {
     "slide_type": "subslide"
    }
   },
   "source": [
    "## Creating class instances\n",
    "\n",
    "Class instances are created using the class name, followed by `()`:"
   ]
  },
  {
   "cell_type": "code",
   "execution_count": null,
   "id": "26554fae",
   "metadata": {
    "execution": {
     "iopub.execute_input": "2023-10-27T13:11:36.102909Z",
     "iopub.status.busy": "2023-10-27T13:11:36.102655Z",
     "iopub.status.idle": "2023-10-27T13:11:36.106011Z",
     "shell.execute_reply": "2023-10-27T13:11:36.105305Z"
    }
   },
   "outputs": [],
   "source": [
    "b = BankAccount()\n",
    "print(b.balance)"
   ]
  },
  {
   "cell_type": "markdown",
   "id": "ad7da86e",
   "metadata": {
    "slideshow": {
     "slide_type": "subslide"
    }
   },
   "source": [
    "Methods are called on instances:"
   ]
  },
  {
   "cell_type": "code",
   "execution_count": null,
   "id": "66b572d4",
   "metadata": {
    "execution": {
     "iopub.execute_input": "2023-10-27T13:11:36.109516Z",
     "iopub.status.busy": "2023-10-27T13:11:36.109218Z",
     "iopub.status.idle": "2023-10-27T13:11:36.113035Z",
     "shell.execute_reply": "2023-10-27T13:11:36.112384Z"
    }
   },
   "outputs": [],
   "source": [
    "b.deposit(50)\n",
    "print(b.balance) "
   ]
  },
  {
   "cell_type": "code",
   "execution_count": null,
   "id": "435e3ac7",
   "metadata": {
    "execution": {
     "iopub.execute_input": "2023-10-27T13:11:36.116202Z",
     "iopub.status.busy": "2023-10-27T13:11:36.115835Z",
     "iopub.status.idle": "2023-10-27T13:11:36.120628Z",
     "shell.execute_reply": "2023-10-27T13:11:36.119991Z"
    },
    "slideshow": {
     "slide_type": "subslide"
    }
   },
   "outputs": [],
   "source": [
    "class BankAccount:\n",
    "    def __init__(self):\n",
    "        self.balance = 0\n",
    "        self.transactions = []\n",
    "    \n",
    "    def deposit(self, amount):\n",
    "        self.balance += amount\n",
    "        self.transactions.append((amount, time.time()))\n",
    "\n",
    "    def pay_interest(self):\n",
    "        self.balance *= 1.05    \n",
    "        \n",
    "b = BankAccount()\n",
    "\n",
    "print(b.balance)\n",
    "\n",
    "b.deposit(50)\n",
    "# same as\n",
    "BankAccount.deposit(b, 100)"
   ]
  },
  {
   "cell_type": "markdown",
   "id": "44e346c0",
   "metadata": {},
   "source": [
    "Notice that, when we called deposit, we passed one parameter, even though its definition takes 2.\n",
    "\n",
    "Remember: the first parameter passed to a class method is always the instance it was called on. It is filled in behind the scenes for us, we don't need to pass it explicitly."
   ]
  },
  {
   "cell_type": "markdown",
   "id": "fab25e2f",
   "metadata": {
    "slideshow": {
     "slide_type": "subslide"
    }
   },
   "source": [
    "## Common gotcha: forgetting your self\n",
    "\n",
    "A common \"gotcha\" is forgetting to add the `self` parameter to a method definition:"
   ]
  },
  {
   "cell_type": "code",
   "execution_count": null,
   "id": "3565a6da",
   "metadata": {
    "execution": {
     "iopub.execute_input": "2023-10-27T13:11:36.124321Z",
     "iopub.status.busy": "2023-10-27T13:11:36.124005Z",
     "iopub.status.idle": "2023-10-27T13:11:36.471956Z",
     "shell.execute_reply": "2023-10-27T13:11:36.471291Z"
    },
    "tags": [
     "raises-exception"
    ]
   },
   "outputs": [],
   "source": [
    "class BankAccount:\n",
    "    def __init__(self):\n",
    "        self.balance = 0\n",
    "        self.transactions = []\n",
    "    \n",
    "    def deposit(amount):\n",
    "        self.balance += amount\n",
    "        self.transactions.append((amount, time.time()))\n",
    "        \n",
    "b = BankAccount()\n",
    "b.deposit(50)\n",
    "print(b.balance)       "
   ]
  },
  {
   "cell_type": "markdown",
   "id": "ca534b0b",
   "metadata": {
    "slideshow": {
     "slide_type": "subslide"
    }
   },
   "source": [
    "## `__init__()` can take arguments\n",
    "\n",
    "If you add parameters to `__init__`, then arguments must be passed to create your class:"
   ]
  },
  {
   "cell_type": "code",
   "execution_count": null,
   "id": "3bc95741",
   "metadata": {
    "execution": {
     "iopub.execute_input": "2023-10-27T13:11:36.476019Z",
     "iopub.status.busy": "2023-10-27T13:11:36.475693Z",
     "iopub.status.idle": "2023-10-27T13:11:36.480959Z",
     "shell.execute_reply": "2023-10-27T13:11:36.480244Z"
    }
   },
   "outputs": [],
   "source": [
    "class BankAccount:\n",
    "    def __init__(self, initial_balance):\n",
    "        self.balance = initial_balance\n",
    "        self.transactions = []\n",
    "    \n",
    "    def deposit(self, amount):\n",
    "        self.balance += amount\n",
    "        self.transactions.append((amount, time.time()))\n",
    "        \n",
    "    def pay_interest(self):\n",
    "        self.balance *= 1.05\n",
    "    \n",
    "b = BankAccount(100)\n",
    "b.deposit(50)\n",
    "print(b.balance)   "
   ]
  },
  {
   "cell_type": "markdown",
   "id": "2616ade0",
   "metadata": {
    "slideshow": {
     "slide_type": "subslide"
    }
   },
   "source": [
    "## Common gotcha: \"class attributes\"\n",
    "\n",
    "There are actually 2 types of attributes: \n",
    "* **Instance attributes** are unique to each instance. We just saw these: they are usually defined in `__init__`.\n",
    "* **Class attributes** are shared among every instance of a class. They are defined directly on the class."
   ]
  },
  {
   "cell_type": "code",
   "execution_count": null,
   "id": "7d89b620",
   "metadata": {
    "execution": {
     "iopub.execute_input": "2023-10-27T13:11:36.484364Z",
     "iopub.status.busy": "2023-10-27T13:11:36.484074Z",
     "iopub.status.idle": "2023-10-27T13:11:36.487793Z",
     "shell.execute_reply": "2023-10-27T13:11:36.487157Z"
    }
   },
   "outputs": [],
   "source": [
    "class BankAccount:\n",
    "    # A class variable; it is defined directly on the class. \n",
    "    # You probably don't want to do this!\n",
    "    class_transactions = []\n",
    "    \n",
    "    def __init__(self, initial_balance):\n",
    "        self.balance = initial_balance\n",
    "        # An instance variable - it is assigned to in __init__()\n",
    "        self.transactions = []"
   ]
  },
  {
   "cell_type": "markdown",
   "id": "7410e142",
   "metadata": {
    "slideshow": {
     "slide_type": "subslide"
    }
   },
   "source": [
    "## Beware class attributes\n",
    "\n",
    "Class attributes are shared between **all instances**. \n",
    "\n",
    "There are legitimate uses for them, but they are special cases. We're only looking at them because it is common to accidentally create them by putting your attribute initialization in the wrong place. \n",
    "\n",
    "Until you're working on more advanced programs, you can safely avoid them."
   ]
  },
  {
   "cell_type": "code",
   "execution_count": null,
   "id": "35decb92",
   "metadata": {
    "execution": {
     "iopub.execute_input": "2023-10-27T13:11:36.491649Z",
     "iopub.status.busy": "2023-10-27T13:11:36.491356Z",
     "iopub.status.idle": "2023-10-27T13:11:36.496479Z",
     "shell.execute_reply": "2023-10-27T13:11:36.495607Z"
    },
    "slideshow": {
     "slide_type": "subslide"
    }
   },
   "outputs": [],
   "source": [
    "# example of the surprising behavior of class attributes \n",
    "\n",
    "class BankAccount:\n",
    "    # A class variable; it is defined directly on the class. \n",
    "    # You probably don't want to do this!\n",
    "    class_transactions = []\n",
    "    \n",
    "    def __init__(self, initial_balance):\n",
    "        self.balance = initial_balance\n",
    "        # An instance variable - it is assigned to in __init__()\n",
    "        self.transactions = []\n",
    "        \n",
    "b = BankAccount(100)\n",
    "c = BankAccount(200)\n",
    "\n",
    "b.class_transactions.append(\"class transaction\")\n",
    "b.transactions.append(\"instance transaction\")\n",
    "\n",
    "print(f\"{b.class_transactions=}\\n{c.class_transactions=}\\n{b.transactions=}\\n{c.transactions=}\")"
   ]
  },
  {
   "cell_type": "markdown",
   "id": "32b31aa1",
   "metadata": {},
   "source": [
    "[PythonTutor link](https://pythontutor.com/render.html#code=%23%20example%20of%20the%20surprising%20behavior%20of%20class%20attributes%20%0A%0Aclass%20BankAccount%3A%0A%20%20%20%20%23%20A%20class%20variable%3B%20it%20is%20defined%20directly%20on%20the%20class.%20%0A%20%20%20%20%23%20You%20probably%20don't%20want%20to%20do%20this!%0A%20%20%20%20class_transactions%20%3D%20%5B%5D%0A%20%20%20%20%0A%20%20%20%20def%20__init__%28self,%20initial_balance%29%3A%0A%20%20%20%20%20%20%20%20self.balance%20%3D%20initial_balance%0A%20%20%20%20%20%20%20%20%23%20An%20instance%20variable%20-%20it%20is%20assigned%20to%20in%20__init__%28%29%0A%20%20%20%20%20%20%20%20self.transactions%20%3D%20%5B%5D%0A%20%20%20%20%20%20%20%20%0Ab%20%3D%20BankAccount%28100%29%0Ac%20%3D%20BankAccount%28200%29%0A%0Ab.class_transactions.append%28%22class%20transaction%22%29%0Ab.transactions.append%28%22instance%20transaction%22%29%0A%0Aprint%28f%22%7Bb.class_transactions%3D%7D%5Cn%7Bc.class_transactions%3D%7D%5Cn%7Bb.transactions%3D%7D%5Cn%7Bc.transactions%3D%7D%22%29&cumulative=false&curInstr=0&heapPrimitives=nevernest&mode=display&origin=opt-frontend.js&py=311&rawInputLstJSON=%5B%5D&textReferences=false)"
   ]
  },
  {
   "cell_type": "code",
   "execution_count": null,
   "id": "322e4978",
   "metadata": {
    "execution": {
     "iopub.execute_input": "2023-10-27T13:11:36.499834Z",
     "iopub.status.busy": "2023-10-27T13:11:36.499539Z",
     "iopub.status.idle": "2023-10-27T13:11:36.504639Z",
     "shell.execute_reply": "2023-10-27T13:11:36.503549Z"
    },
    "slideshow": {
     "slide_type": "skip"
    }
   },
   "outputs": [],
   "source": [
    "class BankAccount:\n",
    "    def __init__(self, initial_balance):\n",
    "        self.balance = initial_balance\n",
    "    \n",
    "    def deposit(self, amount):\n",
    "        self.balance += amount\n",
    "\n",
    "b = BankAccount(5)\n",
    "b.deposit(60)\n",
    "print(f\"{b.balance}\")\n",
    "\n",
    "# This is equivalent to b.deposit(700):\n",
    "# (This is only shown to de-mystify `self`, it's not a recommended way to call instance methods)\n",
    "BankAccount.deposit(b, 700)\n",
    "print(f\"{b.balance}\")"
   ]
  },
  {
   "cell_type": "markdown",
   "id": "b2060b0f",
   "metadata": {
    "slideshow": {
     "slide_type": "skip"
    }
   },
   "source": [
    "[PythonTutor link](https://pythontutor.com/render.html#code=class%20BankAccount%3A%0A%20%20%20%20def%20__init__%28self,%20initial_balance%29%3A%0A%20%20%20%20%20%20%20%20self.balance%20%3D%20initial_balance%0A%20%20%20%20%0A%20%20%20%20def%20deposit%28self,%20amount%29%3A%0A%20%20%20%20%20%20%20%20self.balance%20%2B%3D%20amount%0A%0Ab%20%3D%20BankAccount%285%29%0Ab.deposit%2860%29%0Aprint%28f%22%7Bb.balance%7D%22%29%0A%0A%23%20This%20is%20equivalent%20to%20b.deposit%28700%29%3A%0A%23%20%28This%20is%20only%20shown%20to%20de-mystify%20%60self%60,%20it's%20not%20a%20recommended%20way%20to%20call%20instance%20methods%29%0ABankAccount.deposit%28b,%20700%29%0Aprint%28f%22%7Bb.balance%7D%22%29&cumulative=false&curInstr=0&heapPrimitives=nevernest&mode=display&origin=opt-frontend.js&py=3&rawInputLstJSON=%5B%5D&textReferences=false)"
   ]
  },
  {
   "cell_type": "markdown",
   "id": "20c52701",
   "metadata": {
    "slideshow": {
     "slide_type": "slide"
    }
   },
   "source": [
    "# [Slido](https://wall.sli.do/event/2vVHJVqjohN7C2MhtDsBu2?section=5479b0b9-d73e-437b-a6cc-1fc08c40b4d6)"
   ]
  },
  {
   "cell_type": "markdown",
   "id": "07f16a03",
   "metadata": {
    "slideshow": {
     "slide_type": "slide"
    }
   },
   "source": [
    "## Exercise\n",
    "\n",
    "Create a class to model a social media site like ~~Twitter~~ X. \n",
    "\n",
    "It should have methods that let you add a user, create posts, and see a \"feed\" - a list of the most recent posts."
   ]
  },
  {
   "cell_type": "markdown",
   "id": "b017bd3b",
   "metadata": {
    "slideshow": {
     "slide_type": "subslide"
    }
   },
   "source": [
    "First, let's \"stub out\" the methods we need:"
   ]
  },
  {
   "cell_type": "code",
   "execution_count": null,
   "id": "cfd478e9",
   "metadata": {
    "execution": {
     "iopub.execute_input": "2023-10-27T13:11:36.508995Z",
     "iopub.status.busy": "2023-10-27T13:11:36.508554Z",
     "iopub.status.idle": "2023-10-27T13:11:36.512424Z",
     "shell.execute_reply": "2023-10-27T13:11:36.511774Z"
    }
   },
   "outputs": [],
   "source": [
    "class Social:\n",
    "    def add_user(self, name):\n",
    "        pass\n",
    "    \n",
    "    def create_post(self, username, contents):\n",
    "        pass\n",
    "    \n",
    "    def get_feed(self):\n",
    "        pass"
   ]
  },
  {
   "cell_type": "markdown",
   "id": "a87d2134",
   "metadata": {
    "slideshow": {
     "slide_type": "fragment"
    }
   },
   "source": [
    "It looks like we need to store at least names and posts."
   ]
  },
  {
   "cell_type": "markdown",
   "id": "65095990",
   "metadata": {
    "slideshow": {
     "slide_type": "subslide"
    }
   },
   "source": [
    "Let's fill in `add_user` and `create_post`. \n",
    "\n",
    "For our data structure, we'll start by trying a dictionary of lists. The keys will be usernames, and the values will be a lists of post per user."
   ]
  },
  {
   "cell_type": "code",
   "execution_count": null,
   "id": "7b309af1",
   "metadata": {
    "execution": {
     "iopub.execute_input": "2023-10-27T13:11:36.517589Z",
     "iopub.status.busy": "2023-10-27T13:11:36.516989Z",
     "iopub.status.idle": "2023-10-27T13:11:36.521273Z",
     "shell.execute_reply": "2023-10-27T13:11:36.520625Z"
    },
    "slideshow": {
     "slide_type": ""
    }
   },
   "outputs": [],
   "source": [
    "class Social:\n",
    "    def __init__(self):\n",
    "        self.users = {}\n",
    "        \n",
    "    def add_user(self, name):\n",
    "        self.users[name] = []\n",
    "    \n",
    "    def create_post(self, username, contents):\n",
    "        self.users[username].append(contents)\n",
    "    \n",
    "    def get_feed(self):\n",
    "        pass"
   ]
  },
  {
   "cell_type": "code",
   "execution_count": null,
   "id": "ad83a51c",
   "metadata": {
    "execution": {
     "iopub.execute_input": "2023-10-27T13:11:36.525120Z",
     "iopub.status.busy": "2023-10-27T13:11:36.524801Z",
     "iopub.status.idle": "2023-10-27T13:11:36.530938Z",
     "shell.execute_reply": "2023-10-27T13:11:36.530194Z"
    },
    "slideshow": {
     "slide_type": "subslide"
    }
   },
   "outputs": [],
   "source": [
    "twitter = Social()\n",
    "twitter.add_user(\"Larry\")\n",
    "twitter.add_user(\"Moe\")\n",
    "twitter.add_user(\"Curly\")\n",
    "twitter.create_post(\"Larry\", \"First!\")\n",
    "twitter.create_post(\"Larry\", \"Anyone else here?\")\n",
    "twitter.create_post(\"Curly\", \"This is lame.\")\n",
    "twitter.create_post(\"Larry\", \"Oh hi Curly\")\n",
    "\n",
    "print(twitter.users)"
   ]
  },
  {
   "cell_type": "markdown",
   "id": "7280550e",
   "metadata": {
    "slideshow": {
     "slide_type": "subslide"
    }
   },
   "source": [
    "Now we need to fill out `get_feed`, but we've hit our first roadblock. We know the order of one user's posts, but we don't know the relative order of all posts.\n",
    "\n",
    "We need to record the overall order in which the posts are created."
   ]
  },
  {
   "cell_type": "code",
   "execution_count": null,
   "id": "80a7f119",
   "metadata": {
    "execution": {
     "iopub.execute_input": "2023-10-27T13:11:36.534144Z",
     "iopub.status.busy": "2023-10-27T13:11:36.533873Z",
     "iopub.status.idle": "2023-10-27T13:11:36.538200Z",
     "shell.execute_reply": "2023-10-27T13:11:36.537490Z"
    },
    "slideshow": {
     "slide_type": ""
    }
   },
   "outputs": [],
   "source": [
    "class Social:\n",
    "    def __init__(self):\n",
    "        self.users = {}\n",
    "        self.next_post_number = 0\n",
    "        \n",
    "    def add_user(self, name):\n",
    "        self.users[name] = []\n",
    "    \n",
    "    def create_post(self, username, contents):\n",
    "        self.users[username].append((self.next_post_number, contents))\n",
    "        self.next_post_number += 1\n",
    "    \n",
    "    def get_feed(self):\n",
    "        pass"
   ]
  },
  {
   "cell_type": "code",
   "execution_count": null,
   "id": "4d1e5f9e",
   "metadata": {
    "execution": {
     "iopub.execute_input": "2023-10-27T13:11:36.542236Z",
     "iopub.status.busy": "2023-10-27T13:11:36.541917Z",
     "iopub.status.idle": "2023-10-27T13:11:36.546955Z",
     "shell.execute_reply": "2023-10-27T13:11:36.546028Z"
    },
    "slideshow": {
     "slide_type": "subslide"
    }
   },
   "outputs": [],
   "source": [
    "twitter = Social()\n",
    "twitter.add_user(\"Larry\")\n",
    "twitter.add_user(\"Moe\")\n",
    "twitter.add_user(\"Curly\")\n",
    "twitter.create_post(\"Larry\", \"First!\")\n",
    "twitter.create_post(\"Larry\", \"Anyone else here?\")\n",
    "twitter.create_post(\"Curly\", \"This is lame.\")\n",
    "twitter.create_post(\"Larry\", \"Oh hi Curly\")\n",
    "\n",
    "print(twitter.users)"
   ]
  },
  {
   "cell_type": "markdown",
   "id": "f4fa3d61",
   "metadata": {
    "slideshow": {
     "slide_type": "subslide"
    }
   },
   "source": [
    "Now we have enough info to order the posts:"
   ]
  },
  {
   "cell_type": "code",
   "execution_count": null,
   "id": "637f3941",
   "metadata": {
    "execution": {
     "iopub.execute_input": "2023-10-27T13:11:36.550567Z",
     "iopub.status.busy": "2023-10-27T13:11:36.550276Z",
     "iopub.status.idle": "2023-10-27T13:11:36.555372Z",
     "shell.execute_reply": "2023-10-27T13:11:36.554514Z"
    },
    "slideshow": {
     "slide_type": ""
    }
   },
   "outputs": [],
   "source": [
    "class Social:\n",
    "    def __init__(self):\n",
    "        self.users = {}\n",
    "        self.next_post_number = 0\n",
    "        \n",
    "    def add_user(self, name):\n",
    "        self.users[name] = []\n",
    "    \n",
    "    def create_post(self, username, contents):\n",
    "        self.users[username].append((self.next_post_number, contents))\n",
    "        self.next_post_number += 1\n",
    "    \n",
    "    def get_feed(self):\n",
    "        all_posts = []\n",
    "        for user in self.users:\n",
    "            for post in self.users[user]:\n",
    "                all_posts.append(post)\n",
    "        all_posts.sort(reverse=True)\n",
    "        return all_posts[:10]"
   ]
  },
  {
   "cell_type": "code",
   "execution_count": null,
   "id": "19d5a9ba",
   "metadata": {
    "execution": {
     "iopub.execute_input": "2023-10-27T13:11:36.559236Z",
     "iopub.status.busy": "2023-10-27T13:11:36.558951Z",
     "iopub.status.idle": "2023-10-27T13:11:36.563587Z",
     "shell.execute_reply": "2023-10-27T13:11:36.562717Z"
    },
    "slideshow": {
     "slide_type": "subslide"
    }
   },
   "outputs": [],
   "source": [
    "twitter = Social()\n",
    "twitter.add_user(\"Larry\")\n",
    "twitter.add_user(\"Moe\")\n",
    "twitter.add_user(\"Curly\")\n",
    "twitter.create_post(\"Larry\", \"First!\")\n",
    "twitter.create_post(\"Larry\", \"Anyone else here?\")\n",
    "twitter.create_post(\"Curly\", \"This is lame.\")\n",
    "twitter.create_post(\"Larry\", \"Oh hi Curly\")\n",
    "\n",
    "print(twitter.get_feed())"
   ]
  },
  {
   "cell_type": "markdown",
   "id": "d69e1505",
   "metadata": {
    "slideshow": {
     "slide_type": "subslide"
    }
   },
   "source": [
    "Ok, we've met the minimum requirements. However, to have any chance of competing in the social media space, we'll have to at least include usernames with our posts. \n",
    "\n",
    "Let's format our feed."
   ]
  },
  {
   "cell_type": "code",
   "execution_count": null,
   "id": "96c97de9",
   "metadata": {
    "execution": {
     "iopub.execute_input": "2023-10-27T13:11:36.566848Z",
     "iopub.status.busy": "2023-10-27T13:11:36.566579Z",
     "iopub.status.idle": "2023-10-27T13:11:36.571863Z",
     "shell.execute_reply": "2023-10-27T13:11:36.571238Z"
    }
   },
   "outputs": [],
   "source": [
    "class Social:\n",
    "    def __init__(self):\n",
    "        self.users = {}\n",
    "        self.next_post_number = 0\n",
    "        \n",
    "    def add_user(self, name):\n",
    "        self.users[name] = []\n",
    "    \n",
    "    def create_post(self, username, contents):\n",
    "        self.users[username].append((self.next_post_number, contents))\n",
    "        self.next_post_number += 1\n",
    "    \n",
    "    def get_feed(self):\n",
    "        all_posts = []\n",
    "        for user in self.users:\n",
    "            for postnum, contents in self.users[user]:\n",
    "                all_posts.append((postnum, f\"Post #{postnum+1}, by @{user}: {contents}\"))\n",
    "        all_posts.sort(reverse=True)\n",
    "        \n",
    "        final_feed = \"\"\n",
    "        for postnum, formatted in all_posts[:10]:\n",
    "            final_feed += formatted + \"\\n\"\n",
    "        return final_feed"
   ]
  },
  {
   "cell_type": "code",
   "execution_count": null,
   "id": "1e7bffb8",
   "metadata": {
    "execution": {
     "iopub.execute_input": "2023-10-27T13:11:36.575653Z",
     "iopub.status.busy": "2023-10-27T13:11:36.575367Z",
     "iopub.status.idle": "2023-10-27T13:11:36.580474Z",
     "shell.execute_reply": "2023-10-27T13:11:36.579648Z"
    },
    "slideshow": {
     "slide_type": "subslide"
    }
   },
   "outputs": [],
   "source": [
    "twitter = Social()\n",
    "twitter.add_user(\"Larry\")\n",
    "#Social.add_user(twitter, \"Larry\")\n",
    "twitter.add_user(\"Moe\")\n",
    "twitter.add_user(\"Curly\")\n",
    "twitter.create_post(\"Larry\", \"First!\")\n",
    "twitter.create_post(\"Larry\", \"Anyone else here?\")\n",
    "twitter.create_post(\"Curly\", \"This is lame.\")\n",
    "twitter.create_post(\"Larry\", \"Oh hi Curly\")\n",
    "\n",
    "print(twitter.get_feed())"
   ]
  },
  {
   "cell_type": "markdown",
   "id": "8552f33d",
   "metadata": {
    "slideshow": {
     "slide_type": "subslide"
    }
   },
   "source": [
    "We've ended up with 3 related pieces of data for each post: a number, a creator, and the contents. Let's introduce a class for `Post`s."
   ]
  },
  {
   "cell_type": "code",
   "execution_count": null,
   "id": "999969f1",
   "metadata": {
    "execution": {
     "iopub.execute_input": "2023-10-27T13:11:36.583641Z",
     "iopub.status.busy": "2023-10-27T13:11:36.583284Z",
     "iopub.status.idle": "2023-10-27T13:11:36.587438Z",
     "shell.execute_reply": "2023-10-27T13:11:36.586802Z"
    }
   },
   "outputs": [],
   "source": [
    "class Post:\n",
    "    def __init__(self, postnum, creator, contents):\n",
    "        self.creator = creator\n",
    "        self.contents = contents\n",
    "        self.postnum = postnum\n",
    "        \n",
    "    def format(self):\n",
    "        return f\"Post #{self.postnum}, by @{self.creator}: {self.contents}\""
   ]
  },
  {
   "cell_type": "code",
   "execution_count": null,
   "id": "d8a82694",
   "metadata": {
    "execution": {
     "iopub.execute_input": "2023-10-27T13:11:36.590776Z",
     "iopub.status.busy": "2023-10-27T13:11:36.590371Z",
     "iopub.status.idle": "2023-10-27T13:11:36.596286Z",
     "shell.execute_reply": "2023-10-27T13:11:36.595418Z"
    },
    "slideshow": {
     "slide_type": "subslide"
    }
   },
   "outputs": [],
   "source": [
    "class Social:\n",
    "    def __init__(self):\n",
    "        self.users = {}\n",
    "        self.next_post_number = 0\n",
    "        \n",
    "    def add_user(self, name):\n",
    "        self.users[name] = []\n",
    "    \n",
    "    def create_post(self, username, contents):\n",
    "        p = Post(self.next_post_number, username, contents)\n",
    "        self.users[username].append(p)\n",
    "        self.next_post_number += 1\n",
    "    \n",
    "    def get_feed(self):\n",
    "        all_posts = []\n",
    "        for user in self.users:\n",
    "            for post in self.users[user]:\n",
    "                all_posts.append((post.postnum, post))\n",
    "        all_posts.sort(reverse=True)\n",
    "        \n",
    "        final_feed = \"\"\n",
    "        for postnum, post in all_posts[:10]:\n",
    "            final_feed += post.format() + \"\\n\"\n",
    "        return final_feed"
   ]
  },
  {
   "cell_type": "code",
   "execution_count": null,
   "id": "12bd5e49",
   "metadata": {
    "execution": {
     "iopub.execute_input": "2023-10-27T13:11:36.599457Z",
     "iopub.status.busy": "2023-10-27T13:11:36.599205Z",
     "iopub.status.idle": "2023-10-27T13:11:36.603592Z",
     "shell.execute_reply": "2023-10-27T13:11:36.602992Z"
    },
    "slideshow": {
     "slide_type": "subslide"
    }
   },
   "outputs": [],
   "source": [
    "twitter = Social()\n",
    "twitter.add_user(\"Larry\")\n",
    "twitter.add_user(\"Moe\")\n",
    "twitter.add_user(\"Curly\")\n",
    "twitter.create_post(\"Larry\", \"First!\")\n",
    "twitter.create_post(\"Larry\", \"Anyone else here?\")\n",
    "twitter.create_post(\"Curly\", \"This is lame.\")\n",
    "twitter.create_post(\"Larry\", \"Oh hi Curly\")\n",
    "\n",
    "print(twitter.get_feed())"
   ]
  },
  {
   "cell_type": "markdown",
   "id": "527e8bf8",
   "metadata": {},
   "source": [
    "[PythonTutor link](https://pythontutor.com/render.html#code=class%20Post%3A%0A%20%20%20%20def%20__init__%28self,%20postnum,%20creator,%20contents%29%3A%0A%20%20%20%20%20%20%20%20self.creator%20%3D%20creator%0A%20%20%20%20%20%20%20%20self.contents%20%3D%20contents%0A%20%20%20%20%20%20%20%20self.postnum%20%3D%20postnum%0A%20%20%20%20%20%20%20%20%0A%20%20%20%20def%20format%28self%29%3A%0A%20%20%20%20%20%20%20%20return%20f%22Post%20%23%7Bself.postnum%7D,%20by%20%40%7Bself.creator%7D%3A%20%7Bself.contents%7D%22%0A%20%20%20%20%20%20%20%20%0Aclass%20Social%3A%0A%20%20%20%20def%20__init__%28self%29%3A%0A%20%20%20%20%20%20%20%20self.users%20%3D%20%7B%7D%0A%20%20%20%20%20%20%20%20self.next_post_number%20%3D%200%0A%20%20%20%20%20%20%20%20%0A%20%20%20%20def%20add_user%28self,%20name%29%3A%0A%20%20%20%20%20%20%20%20self.users%5Bname%5D%20%3D%20%5B%5D%0A%20%20%20%20%0A%20%20%20%20def%20create_post%28self,%20username,%20contents%29%3A%0A%20%20%20%20%20%20%20%20p%20%3D%20Post%28self.next_post_number,%20username,%20contents%29%0A%20%20%20%20%20%20%20%20self.users%5Busername%5D.append%28p%29%0A%20%20%20%20%20%20%20%20self.next_post_number%20%2B%3D%201%0A%20%20%20%20%0A%20%20%20%20def%20get_feed%28self%29%3A%0A%20%20%20%20%20%20%20%20all_posts%20%3D%20%5B%5D%0A%20%20%20%20%20%20%20%20for%20user%20in%20self.users%3A%0A%20%20%20%20%20%20%20%20%20%20%20%20for%20post%20in%20self.users%5Buser%5D%3A%0A%20%20%20%20%20%20%20%20%20%20%20%20%20%20%20%20all_posts.append%28%28post.postnum,%20post%29%29%0A%20%20%20%20%20%20%20%20all_posts.sort%28reverse%3DTrue%29%0A%20%20%20%20%20%20%20%20%0A%20%20%20%20%20%20%20%20final_feed%20%3D%20%22%22%0A%20%20%20%20%20%20%20%20for%20postnum,%20post%20in%20all_posts%5B%3A10%5D%3A%0A%20%20%20%20%20%20%20%20%20%20%20%20final_feed%20%2B%3D%20post.format%28%29%20%2B%20%22%5Cn%22%0A%20%20%20%20%20%20%20%20return%20final_feed%20%0A%20%20%20%20%20%20%20%20%0Atwitter%20%3D%20Social%28%29%0Atwitter.add_user%28%22Larry%22%29%0Atwitter.add_user%28%22Moe%22%29%0Atwitter.add_user%28%22Curly%22%29%0Atwitter.create_post%28%22Larry%22,%20%22First!%22%29%0Atwitter.create_post%28%22Larry%22,%20%22Anyone%20else%20here%3F%22%29%0Atwitter.create_post%28%22Curly%22,%20%22This%20is%20lame.%22%29%0Atwitter.create_post%28%22Larry%22,%20%22Oh%20hi%20Curly%22%29%0A%0Aprint%28twitter.get_feed%28%29%29&cumulative=false&curInstr=0&heapPrimitives=nevernest&mode=display&origin=opt-frontend.js&py=311&rawInputLstJSON=%5B%5D&textReferences=false)"
   ]
  },
  {
   "cell_type": "markdown",
   "id": "04f6e3b3",
   "metadata": {
    "slideshow": {
     "slide_type": "subslide"
    }
   },
   "source": [
    "Let's add a method to get all of a single user's posts:"
   ]
  },
  {
   "cell_type": "code",
   "execution_count": null,
   "id": "5193f311",
   "metadata": {
    "execution": {
     "iopub.execute_input": "2023-10-27T13:11:36.606858Z",
     "iopub.status.busy": "2023-10-27T13:11:36.606519Z",
     "iopub.status.idle": "2023-10-27T13:11:36.612481Z",
     "shell.execute_reply": "2023-10-27T13:11:36.611734Z"
    }
   },
   "outputs": [],
   "source": [
    "class Social:\n",
    "    def __init__(self):\n",
    "        self.users = {}\n",
    "        self.next_post_number = 0\n",
    "        \n",
    "    def add_user(self, name):\n",
    "        self.users[name] = []\n",
    "    \n",
    "    def create_post(self, username, contents):\n",
    "        p = Post(self.next_post_number, username, contents)\n",
    "        self.users[username].append(p)\n",
    "        self.next_post_number += 1\n",
    "\n",
    "    def get_user_posts(self, username):\n",
    "        return self.users[username]\n",
    "    \n",
    "    def get_feed(self):\n",
    "        all_posts = []\n",
    "        for user in self.users:\n",
    "            for post in self.users[user]:\n",
    "                all_posts.append((post.postnum, post))\n",
    "        all_posts.sort(reverse=True)\n",
    "\n",
    "        final_feed = \"\"\n",
    "        for postnum, post in all_posts[:10]:\n",
    "            final_feed += post.format() + \"\\n\"\n",
    "        return final_feed"
   ]
  },
  {
   "cell_type": "code",
   "execution_count": null,
   "id": "54796a97",
   "metadata": {
    "execution": {
     "iopub.execute_input": "2023-10-27T13:11:36.615716Z",
     "iopub.status.busy": "2023-10-27T13:11:36.615447Z",
     "iopub.status.idle": "2023-10-27T13:11:36.619780Z",
     "shell.execute_reply": "2023-10-27T13:11:36.619156Z"
    },
    "slideshow": {
     "slide_type": "subslide"
    }
   },
   "outputs": [],
   "source": [
    "twitter = Social()\n",
    "twitter.add_user(\"Larry\")\n",
    "twitter.add_user(\"Moe\")\n",
    "twitter.add_user(\"Curly\")\n",
    "twitter.create_post(\"Larry\", \"First!\")\n",
    "twitter.create_post(\"Larry\", \"Anyone else here?\")\n",
    "twitter.create_post(\"Curly\", \"This is lame.\")\n",
    "twitter.create_post(\"Larry\", \"Oh hi Curly\")\n",
    "\n",
    "for post in twitter.get_user_posts(\"Larry\"):\n",
    "    print(post)"
   ]
  },
  {
   "cell_type": "markdown",
   "id": "d8c2896d",
   "metadata": {
    "slideshow": {
     "slide_type": "subslide"
    }
   },
   "source": [
    "A lot of our complication revolves around keeping track of the overall order of posts.\n",
    "\n",
    "What if we just kept a list of all the posts in order, rather than one list per user?"
   ]
  },
  {
   "cell_type": "code",
   "execution_count": null,
   "id": "dba80c13",
   "metadata": {
    "execution": {
     "iopub.execute_input": "2023-10-27T13:11:36.623428Z",
     "iopub.status.busy": "2023-10-27T13:11:36.622764Z",
     "iopub.status.idle": "2023-10-27T13:11:36.629580Z",
     "shell.execute_reply": "2023-10-27T13:11:36.628581Z"
    },
    "slideshow": {
     "slide_type": "subslide"
    }
   },
   "outputs": [],
   "source": [
    "class Social:\n",
    "    def __init__(self):\n",
    "        self.users = set()\n",
    "        self.posts = []\n",
    "    \n",
    "    def add_user(self, name):\n",
    "        # TODO: Raise an error if `name` already exists\n",
    "        self.users.add(name)\n",
    "    \n",
    "    def create_post(self, username, contents):\n",
    "        self.posts.append(Post(len(self.posts), username, contents))\n",
    "    \n",
    "    def get_user_posts(self, username):\n",
    "        user_posts = []\n",
    "        for post in self.posts:\n",
    "            if post.creator == username:\n",
    "                user_posts.append(post)\n",
    "        return user_posts\n",
    "        #return [p for p in self.posts if p.creator == username]\n",
    "    \n",
    "    def get_feed(self):\n",
    "        final_feed = \"\"\n",
    "        for post in self.posts[-10:]:\n",
    "            final_feed += str(post) + \"\\n\"\n",
    "        return final_feed"
   ]
  },
  {
   "cell_type": "code",
   "execution_count": null,
   "id": "fe05e594",
   "metadata": {
    "execution": {
     "iopub.execute_input": "2023-10-27T13:11:36.632915Z",
     "iopub.status.busy": "2023-10-27T13:11:36.632634Z",
     "iopub.status.idle": "2023-10-27T13:11:36.637788Z",
     "shell.execute_reply": "2023-10-27T13:11:36.636622Z"
    },
    "slideshow": {
     "slide_type": "subslide"
    }
   },
   "outputs": [],
   "source": [
    "twitter = Social()\n",
    "twitter.add_user(\"Larry\")\n",
    "twitter.add_user(\"Moe\")\n",
    "twitter.add_user(\"Curly\")\n",
    "twitter.create_post(\"Larry\", \"First!\")\n",
    "twitter.create_post(\"Larry\", \"Anyone else here?\")\n",
    "twitter.create_post(\"Curly\", \"This is lame.\")\n",
    "twitter.create_post(\"Larry\", \"Oh hi Curly\")\n",
    "\n",
    "print(twitter.get_feed())"
   ]
  },
  {
   "cell_type": "markdown",
   "id": "2c2ed9ea",
   "metadata": {
    "slideshow": {
     "slide_type": "subslide"
    }
   },
   "source": [
    "Oops, the feed is in the wrong order..."
   ]
  },
  {
   "cell_type": "code",
   "execution_count": null,
   "id": "b2767690",
   "metadata": {
    "execution": {
     "iopub.execute_input": "2023-10-27T13:11:36.641975Z",
     "iopub.status.busy": "2023-10-27T13:11:36.641549Z",
     "iopub.status.idle": "2023-10-27T13:11:36.647904Z",
     "shell.execute_reply": "2023-10-27T13:11:36.647156Z"
    },
    "slideshow": {
     "slide_type": "subslide"
    }
   },
   "outputs": [],
   "source": [
    "class Social:\n",
    "    def __init__(self):\n",
    "        self.users = set()\n",
    "        self.posts = []\n",
    "    \n",
    "    def add_user(self, name):\n",
    "        # TODO: Raise an error if `name` already exists\n",
    "        self.users.add(name)\n",
    "    \n",
    "    def create_post(self, username, contents):\n",
    "        self.posts.append(Post(len(self.posts), username, contents))\n",
    "    \n",
    "    def get_user_posts(self, username):\n",
    "        return [p for p in self.posts if p.creator == username]\n",
    "    \n",
    "    def get_feed(self):\n",
    "        final_feed = \"\"\n",
    "        for post in reversed(self.posts[-10:]):\n",
    "            final_feed += str(post) + \"\\n\"\n",
    "        return final_feed"
   ]
  },
  {
   "cell_type": "code",
   "execution_count": null,
   "id": "3f1b6cae",
   "metadata": {
    "execution": {
     "iopub.execute_input": "2023-10-27T13:11:36.651582Z",
     "iopub.status.busy": "2023-10-27T13:11:36.651289Z",
     "iopub.status.idle": "2023-10-27T13:11:36.655889Z",
     "shell.execute_reply": "2023-10-27T13:11:36.655144Z"
    },
    "slideshow": {
     "slide_type": "subslide"
    }
   },
   "outputs": [],
   "source": [
    "twitter = Social()\n",
    "twitter.add_user(\"Larry\")\n",
    "twitter.add_user(\"Moe\")\n",
    "twitter.add_user(\"Curly\")\n",
    "twitter.create_post(\"Larry\", \"First!\")\n",
    "twitter.create_post(\"Larry\", \"Anyone else here?\")\n",
    "twitter.create_post(\"Curly\", \"This is lame.\")\n",
    "twitter.create_post(\"Larry\", \"Oh hi Curly\")\n",
    "\n",
    "print(twitter.get_feed())"
   ]
  },
  {
   "cell_type": "markdown",
   "id": "a18684e1",
   "metadata": {
    "slideshow": {
     "slide_type": "subslide"
    }
   },
   "source": [
    "Let's do our TODO:"
   ]
  },
  {
   "cell_type": "code",
   "execution_count": null,
   "id": "290fbab4",
   "metadata": {
    "execution": {
     "iopub.execute_input": "2023-10-27T13:11:36.659820Z",
     "iopub.status.busy": "2023-10-27T13:11:36.659424Z",
     "iopub.status.idle": "2023-10-27T13:11:36.665851Z",
     "shell.execute_reply": "2023-10-27T13:11:36.665083Z"
    }
   },
   "outputs": [],
   "source": [
    "class Social:\n",
    "    def __init__(self):\n",
    "        self.users = set()\n",
    "        self.posts = []\n",
    "    \n",
    "    def add_user(self, name):\n",
    "        if name in self.users:\n",
    "            raise Exception(\"User already exists\")\n",
    "        self.users.add(name)\n",
    "    \n",
    "    def create_post(self, username, contents):\n",
    "        self.posts.append(Post(len(self.posts), username, contents))\n",
    "    \n",
    "    def get_user_posts(self, username):\n",
    "        return [p for p in self.posts if p.creator == username]\n",
    "    \n",
    "    def get_feed(self):\n",
    "        final_feed = \"\"\n",
    "        for post in self.posts[-10:]:\n",
    "            final_feed += str(post) + \"\\n\"\n",
    "        return final_feed"
   ]
  },
  {
   "cell_type": "code",
   "execution_count": null,
   "id": "206028f0",
   "metadata": {
    "execution": {
     "iopub.execute_input": "2023-10-27T13:11:36.669450Z",
     "iopub.status.busy": "2023-10-27T13:11:36.669125Z",
     "iopub.status.idle": "2023-10-27T13:11:36.697702Z",
     "shell.execute_reply": "2023-10-27T13:11:36.697078Z"
    },
    "tags": [
     "raises-exception"
    ]
   },
   "outputs": [],
   "source": [
    "twitter = Social()\n",
    "twitter.add_user(\"Larry\")\n",
    "twitter.add_user(\"Larry\")"
   ]
  },
  {
   "cell_type": "markdown",
   "id": "edd03f7b",
   "metadata": {
    "slideshow": {
     "slide_type": "subslide"
    }
   },
   "source": [
    "## Next steps\n",
    "\n",
    "From here, depending on requirements, you could imagine going much further with this:\n",
    "* Introducing a `User` class to hold more information about a user (date joined, real name, billing info, etc)\n",
    "* Introduce the ability to edit or delete posts.\n",
    "* Introduce a `Feed` class to encapsulate the logic around ordering a feed.\n",
    "   * This might be a good thing to do if you are about to introduce more complicated feed ordering, such as weighted popularity\n",
    "* Introduce connections between `User`s, and allow feeds to be filtered to connected users' posts."
   ]
  },
  {
   "cell_type": "markdown",
   "id": "c6c4edd7",
   "metadata": {
    "slideshow": {
     "slide_type": "slide"
    }
   },
   "source": [
    "# [Slido](https://wall.sli.do/event/2vVHJVqjohN7C2MhtDsBu2?section=5479b0b9-d73e-437b-a6cc-1fc08c40b4d6)"
   ]
  },
  {
   "cell_type": "markdown",
   "id": "b030a1a6",
   "metadata": {
    "slideshow": {
     "slide_type": "slide"
    }
   },
   "source": [
    "## Exercise [repl.it](https://replit.com/team/cosi-10a-fall23/Class-practice)\n",
    "\n",
    "Write a class to represent an animal. \n",
    "\n",
    "An animal has a species, a name (`str`), a weight in pounds (`int`), and a sound it makes (`str`). Your `__init__` method should take these values as parameters."
   ]
  },
  {
   "cell_type": "markdown",
   "id": "82125f10",
   "metadata": {
    "slideshow": {
     "slide_type": "subslide"
    }
   },
   "source": [
    "Add a method that returns a string describing the animal (include the species, name, and weight).\n",
    "\n",
    "Create an `Animal` instance, and test your method."
   ]
  },
  {
   "cell_type": "markdown",
   "id": "dce26695",
   "metadata": {
    "slideshow": {
     "slide_type": "subslide"
    }
   },
   "source": [
    "Add a method called `make_sound` that returns a string: `<name> the <species> says \"<sound>\"`. E.g. 'Bessie the cow says \"moo\"'.\n",
    "\n",
    "Test your method on your animal instance."
   ]
  },
  {
   "cell_type": "markdown",
   "id": "9b5926da",
   "metadata": {
    "slideshow": {
     "slide_type": "subslide"
    }
   },
   "source": [
    "Add a method `is_heavier(self, other_animal)` that returns `True` if `self`'s weight is greater than `other_animal`'s weight.\n",
    "\n",
    "Make a second `Animal` instance, test your method on each of the 2."
   ]
  },
  {
   "cell_type": "markdown",
   "id": "fc7b8cb0",
   "metadata": {
    "slideshow": {
     "slide_type": "subslide"
    }
   },
   "source": [
    "Add a method `is_same_species(self, other_animal)` that returns `True` if `self` and `other_animal` are the same species.\n",
    "\n",
    "Make a couple more `Animal` instances - a few with the same species, a few with different species. Test your method on them."
   ]
  },
  {
   "cell_type": "markdown",
   "id": "24d84819",
   "metadata": {
    "slideshow": {
     "slide_type": "subslide"
    }
   },
   "source": [
    "# Make a Zoo\n",
    "\n",
    "Make a `Zoo` class to hold your animals.\n",
    "\n",
    "What data structure could you use to hold them? Initialize one in your `__init__` method."
   ]
  },
  {
   "cell_type": "markdown",
   "id": "a421f6ce",
   "metadata": {
    "slideshow": {
     "slide_type": "subslide"
    }
   },
   "source": [
    "Add a method called `add_animal` that adds an animal to the zoo.\n",
    "\n",
    "Create a `Zoo` instance and add a few of your animals to it. Test it by printing out the data structure that holds your animals."
   ]
  },
  {
   "cell_type": "markdown",
   "id": "6d83f20b",
   "metadata": {
    "slideshow": {
     "slide_type": "subslide"
    }
   },
   "source": [
    "Add a method `list_animals_of_species` that lists all the specific animals of a particular species.\n",
    "\n",
    "Test it on your `Zoo` instance."
   ]
  },
  {
   "cell_type": "markdown",
   "id": "8c42aff5",
   "metadata": {},
   "source": [
    "Add a method `list_species` that returns a list of all the species in the Zoo, with no repeats.\n",
    "\n",
    "Test it on your `Zoo` instance."
   ]
  },
  {
   "cell_type": "markdown",
   "id": "9002d8ac",
   "metadata": {
    "slideshow": {
     "slide_type": "subslide"
    }
   },
   "source": [
    "Add a method `species_count` that returns a dictionary holding a count of each species in the zoo.\n",
    "\n",
    "e.g.:\n",
    "```\n",
    "{ \n",
    "  'monkey': 3,\n",
    "  'giraffe': 2,\n",
    "  'lion': 1,\n",
    "  'snake': 10\n",
    "}\n",
    "```\n",
    "\n",
    "Create & add enough Animal instances to your Zoo to make this interesting, then test it."
   ]
  },
  {
   "cell_type": "markdown",
   "id": "aaece120",
   "metadata": {
    "slideshow": {
     "slide_type": "subslide"
    }
   },
   "source": [
    "What else could we add to our `Animal` or `Zoo`?"
   ]
  },
  {
   "cell_type": "markdown",
   "id": "c9b7b696",
   "metadata": {
    "slideshow": {
     "slide_type": "slide"
    }
   },
   "source": [
    "## Types\n",
    "\n",
    "Each class definition creates a new **type** - just like `int`, `str`, `list`, `dict`, etc are types.\n",
    "\n",
    "You can check the type of a variable with the built-in `isinstance()` function:"
   ]
  },
  {
   "cell_type": "code",
   "execution_count": null,
   "id": "afbd8fcc",
   "metadata": {
    "execution": {
     "iopub.execute_input": "2023-10-27T13:11:36.703003Z",
     "iopub.status.busy": "2023-10-27T13:11:36.702632Z",
     "iopub.status.idle": "2023-10-27T13:11:36.709857Z",
     "shell.execute_reply": "2023-10-27T13:11:36.709020Z"
    }
   },
   "outputs": [],
   "source": [
    "isinstance(1, int)"
   ]
  },
  {
   "cell_type": "code",
   "execution_count": null,
   "id": "67c91f72",
   "metadata": {
    "execution": {
     "iopub.execute_input": "2023-10-27T13:11:36.714080Z",
     "iopub.status.busy": "2023-10-27T13:11:36.713344Z",
     "iopub.status.idle": "2023-10-27T13:11:36.724830Z",
     "shell.execute_reply": "2023-10-27T13:11:36.723321Z"
    }
   },
   "outputs": [],
   "source": [
    "isinstance(\"hi\", str)"
   ]
  },
  {
   "cell_type": "code",
   "execution_count": null,
   "id": "dc8e3640",
   "metadata": {
    "execution": {
     "iopub.execute_input": "2023-10-27T13:11:36.729463Z",
     "iopub.status.busy": "2023-10-27T13:11:36.728799Z",
     "iopub.status.idle": "2023-10-27T13:11:36.734366Z",
     "shell.execute_reply": "2023-10-27T13:11:36.733543Z"
    }
   },
   "outputs": [],
   "source": [
    "b = BankAccount(100)\n",
    "isinstance(b, BankAccount)"
   ]
  },
  {
   "cell_type": "markdown",
   "id": "67e9c15f",
   "metadata": {
    "slideshow": {
     "slide_type": "subslide"
    }
   },
   "source": [
    "You can also get the type of an object with `type()`:"
   ]
  },
  {
   "cell_type": "code",
   "execution_count": null,
   "id": "d23af553",
   "metadata": {
    "execution": {
     "iopub.execute_input": "2023-10-27T13:11:36.739265Z",
     "iopub.status.busy": "2023-10-27T13:11:36.738938Z",
     "iopub.status.idle": "2023-10-27T13:11:36.744535Z",
     "shell.execute_reply": "2023-10-27T13:11:36.743595Z"
    }
   },
   "outputs": [],
   "source": [
    "type(1)"
   ]
  },
  {
   "cell_type": "code",
   "execution_count": null,
   "id": "1718780d",
   "metadata": {
    "execution": {
     "iopub.execute_input": "2023-10-27T13:11:36.748691Z",
     "iopub.status.busy": "2023-10-27T13:11:36.748372Z",
     "iopub.status.idle": "2023-10-27T13:11:36.754096Z",
     "shell.execute_reply": "2023-10-27T13:11:36.752703Z"
    }
   },
   "outputs": [],
   "source": [
    "type(\"hi\")"
   ]
  },
  {
   "cell_type": "code",
   "execution_count": null,
   "id": "663158bc",
   "metadata": {
    "execution": {
     "iopub.execute_input": "2023-10-27T13:11:36.758322Z",
     "iopub.status.busy": "2023-10-27T13:11:36.757697Z",
     "iopub.status.idle": "2023-10-27T13:11:36.763292Z",
     "shell.execute_reply": "2023-10-27T13:11:36.762397Z"
    }
   },
   "outputs": [],
   "source": [
    "b = BankAccount(100)\n",
    "type(b)"
   ]
  },
  {
   "cell_type": "markdown",
   "id": "5c77ebae",
   "metadata": {
    "slideshow": {
     "slide_type": "subslide"
    }
   },
   "source": [
    "## References\n",
    "\n",
    "[PythonTutor link](https://pythontutor.com/render.html#code=class%20BankAccount%3A%0A%20%20%20%20def%20__init__%28self,%20initial_balance%29%3A%0A%20%20%20%20%20%20%20%20self.balance%20%3D%20initial_balance%0A%20%20%20%20%0A%20%20%20%20def%20deposit%28self,%20amount%29%3A%0A%20%20%20%20%20%20%20%20self.balance%20%2B%3D%20amount%0A%0Ab%20%3D%20BankAccount%28100%29%0Ac%20%3D%20b%0Ab.deposit%28200%29%0Aprint%28%22b%3A%20%22%20%2B%20str%28b.balance%29%29%0Aprint%28%22c%3A%20%22%20%2B%20str%28c.balance%29%29&cumulative=false&curInstr=0&heapPrimitives=nevernest&mode=display&origin=opt-frontend.js&py=3&rawInputLstJSON=%5B%5D&textReferences=false)\n",
    "\n",
    "Class instances behave just like lists, dictionaries, and other mutable objects. Variables **refer** to the instances, and any mutations of the instances will be seen by all variables referring to the same object."
   ]
  },
  {
   "cell_type": "code",
   "execution_count": null,
   "id": "9ea1bd4d",
   "metadata": {
    "execution": {
     "iopub.execute_input": "2023-10-27T13:11:36.766963Z",
     "iopub.status.busy": "2023-10-27T13:11:36.766651Z",
     "iopub.status.idle": "2023-10-27T13:11:36.771221Z",
     "shell.execute_reply": "2023-10-27T13:11:36.770504Z"
    }
   },
   "outputs": [],
   "source": [
    "b = BankAccount(100)\n",
    "c = b\n",
    "b.deposit(200)\n",
    "print(f\"{b.balance=} {c.balance=}\")"
   ]
  },
  {
   "cell_type": "markdown",
   "id": "5bb7ca70",
   "metadata": {
    "slideshow": {
     "slide_type": "slide"
    }
   },
   "source": [
    "# Best practices\n",
    "\n",
    "Classes should:\n",
    "* Focus on modeling a single thing\n",
    "* Make code that uses them clearer, not more confusing\n",
    "* Hide complexity"
   ]
  },
  {
   "cell_type": "markdown",
   "id": "c31396b0",
   "metadata": {
    "slideshow": {
     "slide_type": "notes"
    }
   },
   "source": [
    "# Best practices\n",
    "\n",
    "* It can be tempting to make everything a class. \n",
    "  * You don't need to! If you're dealing with a very simple data structure, or a very small number of operations, it's probably simpler to skip the class.\n",
    "  * It's a judgment call - classes add coding overhead, but can also make code much easier to use, follow, and maintain. \n",
    "* It can also be tempting to rope a lot of loosely related code into a single, large class. \n",
    "  * Classes that are too large are hard to use and maintain, and don't add much value. \n",
    "* A good class definition provides a clean **interface** (set of methods / attributes for a user to interact with), and doesn't **couple** tightly with other code (i.e. the logic in the class is self-contained, and doesn't make assumptions about code outside the class).\n",
    "  * Good class design is a learned skill. Don't be afraid to just try things out, and learn from the tries that cause more trouble than they save. "
   ]
  },
  {
   "cell_type": "markdown",
   "id": "7e47b9ec",
   "metadata": {
    "slideshow": {
     "slide_type": "slide"
    }
   },
   "source": [
    "# Inheritance\n",
    "\n",
    "Classes can **inherit** from other classes.\n",
    "\n",
    "A class that inherits from another class is called a **child** class. A class that is inherited from is called a **parent** class.\n",
    "\n",
    "A child class has access to all of the parent class's attributes and methods.\n",
    "\n",
    "A child class can add its own attributes or methods, or **override** the parent methods by providing different implementations."
   ]
  },
  {
   "cell_type": "markdown",
   "id": "13edd05c",
   "metadata": {
    "slideshow": {
     "slide_type": "subslide"
    }
   },
   "source": [
    "## Inheritance - why so brief?\n",
    "\n",
    "Many intro to programming courses will spend a full lecture or 2 (or more) on inheritance. We'll be mostly skipping it for 2 reasons:\n",
    "\n",
    "1. If you continue into the Computer Science curriculum, you will cover object-oriented programming and inheritance in depth in Cosi-12b.\n",
    "\n",
    "2. In some languages, using inheritance is a good practice. In others, it is required. In Python, however, it is almost never the best design.*\n",
    "\n",
    "\\* This is a controversial opinion"
   ]
  },
  {
   "cell_type": "code",
   "execution_count": null,
   "id": "28e7580b",
   "metadata": {
    "execution": {
     "iopub.execute_input": "2023-10-27T13:11:36.775659Z",
     "iopub.status.busy": "2023-10-27T13:11:36.775351Z",
     "iopub.status.idle": "2023-10-27T13:11:36.781361Z",
     "shell.execute_reply": "2023-10-27T13:11:36.780665Z"
    },
    "slideshow": {
     "slide_type": "subslide"
    }
   },
   "outputs": [],
   "source": [
    "# an inheritance examples:\n",
    "class BankAccount:\n",
    "    def __init__(self, initial_balance):\n",
    "        self.balance = initial_balance\n",
    "    \n",
    "    def deposit(self, amount):\n",
    "        self.balance += amount\n",
    "        \n",
    "    def withdraw(self, amount):\n",
    "        self.balance -= amount\n",
    "        \n",
    "class InterestBearingAccount(BankAccount):\n",
    "    # override __init__ to take an interest rate\n",
    "    def __init__(self, initial_balance, interest_rate):\n",
    "        self.interest_rate = interest_rate\n",
    "        super().__init__(initial_balance)\n",
    "\n",
    "    def add_interest(self):\n",
    "        self.balance *= self.interest_rate\n",
    "        \n",
    "class FeeBasedAccount(BankAccount):\n",
    "    # override withdraw() to apply a fee on every withdrawal\n",
    "    def withdraw(self, amount):\n",
    "        self.balance = self.balance - amount - 3.0"
   ]
  },
  {
   "cell_type": "code",
   "execution_count": null,
   "id": "a01cd4ca",
   "metadata": {
    "execution": {
     "iopub.execute_input": "2023-10-27T13:11:36.785449Z",
     "iopub.status.busy": "2023-10-27T13:11:36.785080Z",
     "iopub.status.idle": "2023-10-27T13:11:36.790308Z",
     "shell.execute_reply": "2023-10-27T13:11:36.789473Z"
    },
    "slideshow": {
     "slide_type": "subslide"
    }
   },
   "outputs": [],
   "source": [
    "# non-inheritance alternative:\n",
    "class BankAccount:\n",
    "    def __init__(self, initial_balance, interest_rate=1, withdraw_fee=0):\n",
    "        self.balance = initial_balance\n",
    "        self.interest_rate = interest_rate\n",
    "        self.withdraw_fee = withdraw_fee\n",
    "    \n",
    "    def deposit(self, amount):\n",
    "        self.balance += amount\n",
    "        \n",
    "    def withdraw(self, amount):\n",
    "        self.balance = self.balance - amount - self.withdraw_fee\n",
    "        \n",
    "    def add_interest(self):\n",
    "        self.balance *= self.interest_rate"
   ]
  },
  {
   "cell_type": "markdown",
   "id": "595843a4",
   "metadata": {
    "slideshow": {
     "slide_type": "subslide"
    }
   },
   "source": [
    "## Inheritance quick reference\n",
    "\n",
    "* Define an inherited class:\n",
    "  * `class <child class name>(<parent class name>)`\n",
    "  * e.g. `class FeeBasedAccount(BankAccount)`\n",
    "* Child classes have access to all attributes and methods from a parent class.\n",
    "* Override a method from a parent class by defining a method with the same signature on a child class.\n",
    "* Inheritance can be chained\n",
    "  * If `B` inherits from `A`, and `C` inherits from `B`, then `C` has access to all of `A`'s and `B`'s data and methods.\n"
   ]
  }
 ],
 "metadata": {
  "celltoolbar": "Slideshow",
  "kernelspec": {
   "display_name": "Python 3 (ipykernel)",
   "language": "python",
   "name": "python3"
  },
  "language_info": {
   "codemirror_mode": {
    "name": "ipython",
    "version": 3
   },
   "file_extension": ".py",
   "mimetype": "text/x-python",
   "name": "python",
   "nbconvert_exporter": "python",
   "pygments_lexer": "ipython3",
   "version": "3.10.9"
  }
 },
 "nbformat": 4,
 "nbformat_minor": 5
}
