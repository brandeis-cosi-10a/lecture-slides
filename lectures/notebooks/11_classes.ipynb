{
 "cells": [
  {
   "cell_type": "markdown",
   "id": "1ee8a1d2",
   "metadata": {
    "slideshow": {
     "slide_type": "slide"
    }
   },
   "source": [
    "# Classes\n",
    "\n",
    "<style>\n",
    "section.present > section.present { \n",
    "    max-height: 90%; \n",
    "    overflow-y: scroll;\n",
    "}\n",
    "</style>\n",
    "\n",
    "<small><a href=\"https://colab.research.google.com/github/brandeis-jdelfino/cosi-10a/blob/main/lectures/notebooks/11_classes.ipynb\">Link to interactive slides on Google Colab</a></small>"
   ]
  },
  {
   "cell_type": "markdown",
   "id": "ecf7cb81",
   "metadata": {
    "slideshow": {
     "slide_type": "slide"
    }
   },
   "source": [
    "# Exercise\n",
    "\n",
    "Create code to manage a bank account. The code should let you:\n",
    "* Deposit money\n",
    "* Withdraw money\n",
    "* View current balance\n",
    "* View transaction history\n",
    "* Apply interest payments"
   ]
  },
  {
   "cell_type": "markdown",
   "id": "dbd3faf8",
   "metadata": {
    "slideshow": {
     "slide_type": "subslide"
    }
   },
   "source": [
    "We could achieve this with a couple of related data structures and some functions..."
   ]
  },
  {
   "cell_type": "code",
   "execution_count": null,
   "id": "7e96a7d8",
   "metadata": {
    "execution": {
     "iopub.execute_input": "2023-07-20T16:47:11.193883Z",
     "iopub.status.busy": "2023-07-20T16:47:11.193525Z",
     "iopub.status.idle": "2023-07-20T16:47:11.211406Z",
     "shell.execute_reply": "2023-07-20T16:47:11.210053Z"
    },
    "slideshow": {
     "slide_type": "-"
    }
   },
   "outputs": [],
   "source": [
    "import time\n",
    "\n",
    "def make_bank_data():\n",
    "    return {\n",
    "        \"balance\": 0,\n",
    "        \"transactions\": []\n",
    "    }\n",
    "\n",
    "def deposit(bank_data, amount):\n",
    "    bank_data['balance'] += amount\n",
    "    bank_data['transactions'].append((amount, time.now()))\n",
    "\n",
    "def get_balance(bank_data):\n",
    "    return bank_data['balance']\n",
    "\n",
    "# ... you get the picture"
   ]
  },
  {
   "cell_type": "markdown",
   "id": "57e3d905",
   "metadata": {
    "slideshow": {
     "slide_type": "slide"
    }
   },
   "source": [
    "# Classes\n",
    "\n",
    "But there's a better way to bundle data and functionality together: **classes**.\n",
    "\n",
    "Classes can have data **attributes** to hold data, and **methods** for modifying or accessing the data.\n",
    "\n",
    "Defining a new class creates a new **type** - similar to `int`, `str`, `list`, etc."
   ]
  },
  {
   "cell_type": "markdown",
   "id": "202dc796",
   "metadata": {
    "slideshow": {
     "slide_type": "subslide"
    }
   },
   "source": [
    "This is what a bank account class might look like. Some of this will look strange - don't worry, we'll go through each part of this in detail today."
   ]
  },
  {
   "cell_type": "code",
   "execution_count": null,
   "id": "355fa8d8",
   "metadata": {
    "execution": {
     "iopub.execute_input": "2023-07-20T16:47:11.216358Z",
     "iopub.status.busy": "2023-07-20T16:47:11.216031Z",
     "iopub.status.idle": "2023-07-20T16:47:11.222357Z",
     "shell.execute_reply": "2023-07-20T16:47:11.221599Z"
    }
   },
   "outputs": [],
   "source": [
    "import time\n",
    "class BankAccount:\n",
    "    def __init__(self):\n",
    "        self.balance = 0\n",
    "        self.transactions = []\n",
    "    \n",
    "    def deposit(self, amount):\n",
    "        self.balance += amount\n",
    "        self.transactions.append((amount, time.time()))\n",
    "    \n",
    "    def get_balance(self):\n",
    "        return self.balance\n",
    "    \n",
    "    # etc...\n",
    "    \n",
    "b = BankAccount()\n",
    "b.deposit(100)\n",
    "b.deposit(50)\n",
    "print(f\"Balance: {b.get_balance()}\")\n",
    "print(f\"Transactions: {b.transactions}\")"
   ]
  },
  {
   "cell_type": "markdown",
   "id": "9131f4d0",
   "metadata": {
    "slideshow": {
     "slide_type": "subslide"
    }
   },
   "source": [
    "## Defining vs. instantiating\n",
    "\n",
    "In that example, we **defined** a class, then **instantiated**, or created an **instance** of, the class.\n",
    "\n",
    "**Defining** a class is like creating a blueprint. You specify the data attributes and methods for the class.\n",
    "* We specified that a `BankAccount` has a balance, a list of transactions, and a few methods that let you access or modify those fields. \n",
    "\n",
    "**Instantiating** a class is like creating an object from the blueprint. \n",
    "* We created a single `BankAccount` object named `b`, then did some things with it.\n",
    "* You could also say we created a `BankAccount` **instance**.\n",
    "* You can create multiple instances of a class, and each instance is independent, just like you can create multiple copies of the same physical object from a blueprint.\n"
   ]
  },
  {
   "cell_type": "markdown",
   "id": "718597e2",
   "metadata": {
    "slideshow": {
     "slide_type": "subslide"
    }
   },
   "source": [
    "[PythonTutor link](https://pythontutor.com/visualize.html#code=%23%20Define%20the%20class%3A%0Aclass%20BankAccount%3A%0A%20%20%20%20def%20__init__%28self%29%3A%0A%20%20%20%20%20%20%20%20self.balance%20%3D%200%0A%20%20%20%20%20%20%20%20self.transactions%20%3D%20%5B%5D%0A%20%20%20%20%0A%20%20%20%20def%20deposit%28self,%20amount%29%3A%0A%20%20%20%20%20%20%20%20self.balance%20%2B%3D%20amount%0A%20%20%20%20%20%20%20%20self.transactions.append%28amount%29%0A%20%20%20%20%0A%20%20%20%20def%20get_balance%28self%29%3A%0A%20%20%20%20%20%20%20%20return%20self.balance%0A%20%20%20%20%0A%20%20%20%20%23%20etc...%0A%0A%23%20Create%202%20instances%20of%20the%20class%20and%20use%20them%3A%0Ab%20%3D%20BankAccount%28%29%0Ab.deposit%28100%29%0Ac%20%3D%20BankAccount%28%29%0Ac.deposit%2850%29%0Aprint%28str%28b.get_balance%28%29%29%20%2B%20%22%3B%20%22%20%2B%20str%28b.transactions%29%29%0Aprint%28str%28c.get_balance%28%29%29%20%2B%20%22%3B%20%22%20%2B%20str%28c.transactions%29%29%0A&cumulative=false&curInstr=0&heapPrimitives=nevernest&mode=display&origin=opt-frontend.js&py=3&rawInputLstJSON=%5B%5D&textReferences=false)"
   ]
  },
  {
   "cell_type": "code",
   "execution_count": null,
   "id": "999fc12e",
   "metadata": {
    "execution": {
     "iopub.execute_input": "2023-07-20T16:47:11.226299Z",
     "iopub.status.busy": "2023-07-20T16:47:11.226018Z",
     "iopub.status.idle": "2023-07-20T16:47:11.231918Z",
     "shell.execute_reply": "2023-07-20T16:47:11.231180Z"
    },
    "slideshow": {
     "slide_type": "-"
    }
   },
   "outputs": [],
   "source": [
    "import time\n",
    "\n",
    "# Define the class:\n",
    "class BankAccount:\n",
    "    def __init__(self):\n",
    "        self.balance = 0\n",
    "        self.transactions = []\n",
    "    \n",
    "    def deposit(self, amount):\n",
    "        self.balance += amount\n",
    "        self.transactions.append((amount, time.time()))\n",
    "    \n",
    "    def get_balance(self):\n",
    "        return self.balance\n",
    "    \n",
    "    # etc...\n",
    "\n",
    "# Create 2 instances of the class and use them:\n",
    "b = BankAccount()\n",
    "b.deposit(100)\n",
    "c = BankAccount()\n",
    "c.deposit(50)\n",
    "print(f\"b: Balance: {b.get_balance()}; {b.transactions=}\")\n",
    "print(f\"c: Balance: {c.get_balance()}; {c.transactions=}\")\n"
   ]
  },
  {
   "cell_type": "markdown",
   "id": "4f304faf",
   "metadata": {
    "slideshow": {
     "slide_type": "slide"
    }
   },
   "source": [
    "# Defining classes\n",
    "\n",
    "Classes are defined with the `class` keyword.\n",
    "\n",
    "```\n",
    "class <ClassName>:\n",
    "    <statements>\n",
    "```"
   ]
  },
  {
   "cell_type": "markdown",
   "id": "ccade7eb",
   "metadata": {
    "slideshow": {
     "slide_type": "subslide"
    }
   },
   "source": [
    "## `__init__()`\n",
    "\n",
    "This crazy looking function is called the **init function** or the **constructor**. \n",
    "\n",
    "It is run when a new instance of the class is created.\n",
    "\n",
    "You don't have to provide an `__init__()` - if you don't provide one, you get a default version that does nothing.\n",
    "\n",
    "It can take arguments, if you want it to!"
   ]
  },
  {
   "cell_type": "code",
   "execution_count": null,
   "id": "94061d34",
   "metadata": {
    "execution": {
     "iopub.execute_input": "2023-07-20T16:47:11.235247Z",
     "iopub.status.busy": "2023-07-20T16:47:11.234962Z",
     "iopub.status.idle": "2023-07-20T16:47:11.239162Z",
     "shell.execute_reply": "2023-07-20T16:47:11.238349Z"
    }
   },
   "outputs": [],
   "source": [
    "class BankAccount:\n",
    "    def __init__(self, initial_balance):\n",
    "        self.balance = initial_balance\n",
    "        \n",
    "b = BankAccount(100)\n",
    "c = BankAccount(500)\n",
    "\n",
    "print(f\"b balance: {b.balance}; c balance: {c.balance}\")"
   ]
  },
  {
   "cell_type": "markdown",
   "id": "7881349e",
   "metadata": {
    "slideshow": {
     "slide_type": "subslide"
    }
   },
   "source": [
    "## `self`\n",
    "\n",
    "We see this strange parameter, `self`, all over the place in classes.\n",
    "\n",
    "The `self` parameter is the way Python gives methods access to the instance they're being called on. When you call a method on an instance, the instance itself is passed as the first argument.\n",
    "\n",
    "This means that, when you call a method with 1 argument, it will actually be passed 2 arguments: the instance, and then your argument.\n",
    "\n",
    "It's easy to forget to add it when defining methods. If you get strange errors about calling methods with the wrong number of arguments, check to see if you left out the `self` parameter."
   ]
  },
  {
   "cell_type": "code",
   "execution_count": null,
   "id": "322e4978",
   "metadata": {
    "execution": {
     "iopub.execute_input": "2023-07-20T16:47:11.242266Z",
     "iopub.status.busy": "2023-07-20T16:47:11.241947Z",
     "iopub.status.idle": "2023-07-20T16:47:11.247266Z",
     "shell.execute_reply": "2023-07-20T16:47:11.246555Z"
    },
    "slideshow": {
     "slide_type": "subslide"
    }
   },
   "outputs": [],
   "source": [
    "class BankAccount:\n",
    "    def __init__(self, initial_balance):\n",
    "        self.balance = initial_balance\n",
    "    \n",
    "    def deposit(self, amount):\n",
    "        self.balance += amount\n",
    "\n",
    "b = BankAccount(5)\n",
    "b.deposit(60)\n",
    "print(f\"{b.balance}\")\n",
    "\n",
    "# This is equivalent to b.deposit(700):\n",
    "# (This is only shown to de-mystify `self`, it's not a recommended way to call instance methods)\n",
    "BankAccount.deposit(b, 700)\n",
    "print(f\"{b.balance}\")"
   ]
  },
  {
   "cell_type": "markdown",
   "id": "0c576962",
   "metadata": {
    "slideshow": {
     "slide_type": "subslide"
    }
   },
   "source": [
    "## Class and instance attributes\n",
    "\n",
    "Classes can have attributes that hold data (e.g. `balance` and `transactions` from `BankAccount`).\n",
    "\n",
    "There are 2 types of attributes: \n",
    "* **Instance attributes** are unique to each instance. They are usually defined in `__init__`.\n",
    "* **Class attributes** are shared among every instance of a class. They are defined directly on the class."
   ]
  },
  {
   "cell_type": "markdown",
   "id": "7410e142",
   "metadata": {
    "slideshow": {
     "slide_type": "subslide"
    }
   },
   "source": [
    "## Beware class attributes\n",
    "\n",
    "Class attributes are shared between **all instances**. \n",
    "\n",
    "There are legitimate uses for them, but they are special cases. Until you're a move advanced programmer, you can safely avoid them, and always use instance variables."
   ]
  },
  {
   "cell_type": "code",
   "execution_count": null,
   "id": "35decb92",
   "metadata": {
    "execution": {
     "iopub.execute_input": "2023-07-20T16:47:11.250823Z",
     "iopub.status.busy": "2023-07-20T16:47:11.250559Z",
     "iopub.status.idle": "2023-07-20T16:47:11.254919Z",
     "shell.execute_reply": "2023-07-20T16:47:11.254314Z"
    },
    "slideshow": {
     "slide_type": "-"
    }
   },
   "outputs": [],
   "source": [
    "# example of the surprising behavior of class attributes \n",
    "\n",
    "class BankAccount:\n",
    "    # A class variable; it is defined directly on the class\n",
    "    class_transactions = []\n",
    "    \n",
    "    def __init__(self, initial_balance):\n",
    "        self.balance = initial_balance\n",
    "        # An instance variable - it is assigned to in __init__\n",
    "        self.transactions = []\n",
    "        \n",
    "b = BankAccount(100)\n",
    "c = BankAccount(200)\n",
    "\n",
    "b.class_transactions.append(\"first class transaction\")\n",
    "b.transactions.append(\"first instance transaction\")\n",
    "\n",
    "print(f\"{b.class_transactions=}\\n{c.class_transactions=}\\n{b.transactions=}\\n{c.transactions}\")"
   ]
  },
  {
   "cell_type": "markdown",
   "id": "b6d69cbd",
   "metadata": {
    "slideshow": {
     "slide_type": "slide"
    }
   },
   "source": [
    "# Instances\n",
    "\n",
    "We've already seen the things you can do with instances.\n",
    "\n",
    "You create them by referencing the class name, and passing any arguments required by `__init__`, e.g.:\n",
    "\n",
    "* `b = BankAccount()` for a 0 argument `__init__`\n",
    "* `b = BankAccount(100)` for our 1-argument `__init__`.\n",
    "\n",
    "You can use `.` (the dot operator) to access data or methods on an instance, e.g.:\n",
    "\n",
    "* `b.deposit(100)`\n",
    "* `b.balance`"
   ]
  },
  {
   "cell_type": "markdown",
   "id": "c9b7b696",
   "metadata": {
    "slideshow": {
     "slide_type": "slide"
    }
   },
   "source": [
    "## Types\n",
    "\n",
    "Each class definition creates a new **type** - just like `int`, `str`, `list`, `dict`, etc are types.\n",
    "\n",
    "You can check the type of a variable with the built-in `isinstance()` function:"
   ]
  },
  {
   "cell_type": "code",
   "execution_count": null,
   "id": "afbd8fcc",
   "metadata": {
    "execution": {
     "iopub.execute_input": "2023-07-20T16:47:11.258044Z",
     "iopub.status.busy": "2023-07-20T16:47:11.257788Z",
     "iopub.status.idle": "2023-07-20T16:47:11.263979Z",
     "shell.execute_reply": "2023-07-20T16:47:11.263255Z"
    }
   },
   "outputs": [],
   "source": [
    "isinstance(1, int)"
   ]
  },
  {
   "cell_type": "code",
   "execution_count": null,
   "id": "67c91f72",
   "metadata": {
    "execution": {
     "iopub.execute_input": "2023-07-20T16:47:11.266970Z",
     "iopub.status.busy": "2023-07-20T16:47:11.266701Z",
     "iopub.status.idle": "2023-07-20T16:47:11.270758Z",
     "shell.execute_reply": "2023-07-20T16:47:11.270117Z"
    }
   },
   "outputs": [],
   "source": [
    "isinstance(\"hi\", str)"
   ]
  },
  {
   "cell_type": "code",
   "execution_count": null,
   "id": "dc8e3640",
   "metadata": {
    "execution": {
     "iopub.execute_input": "2023-07-20T16:47:11.273821Z",
     "iopub.status.busy": "2023-07-20T16:47:11.273558Z",
     "iopub.status.idle": "2023-07-20T16:47:11.277776Z",
     "shell.execute_reply": "2023-07-20T16:47:11.277156Z"
    }
   },
   "outputs": [],
   "source": [
    "b = BankAccount(100)\n",
    "isinstance(b, BankAccount)"
   ]
  },
  {
   "cell_type": "markdown",
   "id": "67e9c15f",
   "metadata": {},
   "source": [
    "You can also get the type of an object with `type()`:"
   ]
  },
  {
   "cell_type": "code",
   "execution_count": null,
   "id": "d23af553",
   "metadata": {
    "execution": {
     "iopub.execute_input": "2023-07-20T16:47:11.280828Z",
     "iopub.status.busy": "2023-07-20T16:47:11.280566Z",
     "iopub.status.idle": "2023-07-20T16:47:11.284595Z",
     "shell.execute_reply": "2023-07-20T16:47:11.284077Z"
    }
   },
   "outputs": [],
   "source": [
    "type(1)"
   ]
  },
  {
   "cell_type": "code",
   "execution_count": null,
   "id": "1718780d",
   "metadata": {
    "execution": {
     "iopub.execute_input": "2023-07-20T16:47:11.287454Z",
     "iopub.status.busy": "2023-07-20T16:47:11.287195Z",
     "iopub.status.idle": "2023-07-20T16:47:11.291213Z",
     "shell.execute_reply": "2023-07-20T16:47:11.290662Z"
    }
   },
   "outputs": [],
   "source": [
    "type(\"hi\")"
   ]
  },
  {
   "cell_type": "code",
   "execution_count": null,
   "id": "663158bc",
   "metadata": {
    "execution": {
     "iopub.execute_input": "2023-07-20T16:47:11.294071Z",
     "iopub.status.busy": "2023-07-20T16:47:11.293836Z",
     "iopub.status.idle": "2023-07-20T16:47:11.297917Z",
     "shell.execute_reply": "2023-07-20T16:47:11.297357Z"
    }
   },
   "outputs": [],
   "source": [
    "b = BankAccount(100)\n",
    "type(b)"
   ]
  },
  {
   "cell_type": "markdown",
   "id": "5c77ebae",
   "metadata": {
    "slideshow": {
     "slide_type": "subslide"
    }
   },
   "source": [
    "## References\n",
    "\n",
    "[PythonTutor link](https://pythontutor.com/visualize.html#code=class%20BankAccount%3A%0A%20%20%20%20def%20__init__%28self,%20initial_balance%29%3A%0A%20%20%20%20%20%20%20%20self.balance%20%3D%20initial_balance%0A%20%20%20%20%0A%20%20%20%20def%20deposit%28self,%20amount%29%3A%0A%20%20%20%20%20%20%20%20self.balance%20%2B%3D%20amount%0A%0Ab%20%3D%20BankAccount%28100%29%0Ac%20%3D%20b%0Ab.deposit%28200%29%0Aprint%28%22b%3A%20%22%20%2B%20b.balance%29%0Aprint%28%22c%3A%20%22%20%2B%20c.balance%29&cumulative=false&curInstr=0&heapPrimitives=nevernest&mode=display&origin=opt-frontend.js&py=3&rawInputLstJSON=%5B%5D&textReferences=false)\n",
    "\n",
    "Class instances behave just like lists, dictionaries, and other mutable objects. Variables **refer** to the instances, and any mutations of the instances will be seen by all variables referring to the same object."
   ]
  },
  {
   "cell_type": "code",
   "execution_count": null,
   "id": "9ea1bd4d",
   "metadata": {
    "execution": {
     "iopub.execute_input": "2023-07-20T16:47:11.301091Z",
     "iopub.status.busy": "2023-07-20T16:47:11.300830Z",
     "iopub.status.idle": "2023-07-20T16:47:11.580679Z",
     "shell.execute_reply": "2023-07-20T16:47:11.579987Z"
    }
   },
   "outputs": [],
   "source": [
    "b = BankAccount(100)\n",
    "c = b\n",
    "b.deposit(200)\n",
    "print(f\"{b.balance=} {c.balance=}\")\n"
   ]
  },
  {
   "cell_type": "markdown",
   "id": "705fe7d2",
   "metadata": {},
   "source": [
    "## Class design\n",
    "\n",
    "TODO\n",
    "Briefly cover interface / API, hard to misuse, encapsulation, etc"
   ]
  },
  {
   "cell_type": "markdown",
   "id": "5bb7ca70",
   "metadata": {
    "slideshow": {
     "slide_type": "slide"
    }
   },
   "source": [
    "# Best practices\n",
    "\n",
    "* It can be tempting to make everything a class. \n",
    "  * You don't need to! If you're dealing with a very simple data structure, or a very small number of operations, it's probably simpler to skip the class.\n",
    "  * It's a judgment call - classes add coding overhead, but can also make code much easier to use, follow, and maintain. \n",
    "* It can also be tempting to rope a lot of loosely related code into a single, large class. \n",
    "  * Again, this is a judgment call.\n",
    "  * Classes that are too large are hard to use and maintain, and don't add much value. \n",
    "* A good class definition provides a clean **interface** (set of methods / attributes for a user to interact with), and doesn't **couple** tightly with other code (i.e. the logic in the class is self-contained, and doesn't make assumptions about code outside the class).\n",
    "  * Good class design is a learned skill. Don't be afraid to just try things out, and learn from the tries that cause more trouble than they save. "
   ]
  },
  {
   "cell_type": "markdown",
   "id": "7e47b9ec",
   "metadata": {
    "slideshow": {
     "slide_type": "slide"
    }
   },
   "source": [
    "# Inheritance\n",
    "\n",
    "Classes can **inherit** from other classes.\n",
    "\n",
    "A class that inherits from another class is called a **child** class. A class that is inherited from is called a **parent** class.\n",
    "\n",
    "A child class has access to all of the parent class's attributes and methods.\n",
    "\n",
    "A child class can add its own attributes or methods, or **override** the parent methods by providing different implementations."
   ]
  },
  {
   "cell_type": "markdown",
   "id": "13edd05c",
   "metadata": {
    "slideshow": {
     "slide_type": "subslide"
    }
   },
   "source": [
    "## Inheritance - why so brief?\n",
    "\n",
    "Many intro to programming courses will spend a full lecture or 2 (or more) on inheritance. We'll be mostly skipping it for 2 reasons:\n",
    "\n",
    "1. If you continue into the Computer Science curriculum, you will cover object-oriented programming and inheritance in depth in Cosi-12b.\n",
    "\n",
    "2. I think inheritance is overused and often misused in Python. There are often better ways to add structure and separation of concerns to your code, such as using instance attributes to control behavior, breaking a larger class up into smaller classes, or introducing helper functions. You probably won't need inheritance in Python, unless you are working with pre-exisiting code that already uses it."
   ]
  },
  {
   "cell_type": "code",
   "execution_count": null,
   "id": "28e7580b",
   "metadata": {
    "execution": {
     "iopub.execute_input": "2023-07-20T16:47:11.585040Z",
     "iopub.status.busy": "2023-07-20T16:47:11.584735Z",
     "iopub.status.idle": "2023-07-20T16:47:11.590162Z",
     "shell.execute_reply": "2023-07-20T16:47:11.589391Z"
    },
    "slideshow": {
     "slide_type": "subslide"
    }
   },
   "outputs": [],
   "source": [
    "# an inheritance examples:\n",
    "class BankAccount:\n",
    "    def __init__(self, initial_balance):\n",
    "        self.balance = initial_balance\n",
    "    \n",
    "    def deposit(self, amount):\n",
    "        self.balance += amount\n",
    "        \n",
    "    def withdraw(self, amount):\n",
    "        self.balance -= amount\n",
    "        \n",
    "class InterestBearingAccount(BankAccount):\n",
    "    # override __init__ to take an interest rate\n",
    "    def __init__(self, initial_balance, interest_rate):\n",
    "        self.interest_rate = interest_rate\n",
    "        super().__init__(initial_balance)\n",
    "\n",
    "    def add_interest(self):\n",
    "        self.balance *= self.interest_rate\n",
    "        \n",
    "class FeeBasedAccount(BankAccount):\n",
    "    # override withdraw() to apply a fee on every withdrawal\n",
    "    def withdraw(self, amount):\n",
    "        self.balance = self.balance - amount - 3.0"
   ]
  },
  {
   "cell_type": "code",
   "execution_count": null,
   "id": "a01cd4ca",
   "metadata": {
    "execution": {
     "iopub.execute_input": "2023-07-20T16:47:11.593382Z",
     "iopub.status.busy": "2023-07-20T16:47:11.593149Z",
     "iopub.status.idle": "2023-07-20T16:47:11.597493Z",
     "shell.execute_reply": "2023-07-20T16:47:11.596768Z"
    },
    "slideshow": {
     "slide_type": "subslide"
    }
   },
   "outputs": [],
   "source": [
    "# non-inheritance alternative:\n",
    "class BankAccount:\n",
    "    def __init__(self, initial_balance, interest_rate=1, withdraw_fee=0):\n",
    "        self.balance = initial_balance\n",
    "        self.interest_rate = interest_rate\n",
    "        self.withdraw_fee = withdraw_fee\n",
    "    \n",
    "    def deposit(self, amount):\n",
    "        self.balance += amount\n",
    "        \n",
    "    def withdraw(self, amount):\n",
    "        self.balance = self.balance - amount - self.withdraw_fee\n",
    "        \n",
    "    def add_interest(self):\n",
    "        self.balance *= self.interest_rate"
   ]
  },
  {
   "cell_type": "markdown",
   "id": "595843a4",
   "metadata": {},
   "source": [
    "## Inheritance quick reference\n",
    "\n",
    "* Define an inherited class with `class <child class name>(<parent class name>)`, e.g. `class FeeBasedAccount(BankAccount)`\n",
    "* Child classes have access to all attributes and methods from a parent class.\n",
    "* Override a method from a parent class by defining a method with the same signature on a child class.\n",
    "* Inheritance can be chained\n",
    "  * If `B` inherits from `A`, and `C` inherits from `B`, then `C` has access to all of `A`'s and `B`'s data and methods.\n",
    "* You can reference the immediate parent class with the `super()` function. \n",
    "  * The parent `__init__` is not called automatically; if you override `__init__` you need to call the parent `__init__` explicitly."
   ]
  }
 ],
 "metadata": {
  "celltoolbar": "Slideshow",
  "kernelspec": {
   "display_name": "Python 3 (ipykernel)",
   "language": "python",
   "name": "python3"
  },
  "language_info": {
   "codemirror_mode": {
    "name": "ipython",
    "version": 3
   },
   "file_extension": ".py",
   "mimetype": "text/x-python",
   "name": "python",
   "nbconvert_exporter": "python",
   "pygments_lexer": "ipython3",
   "version": "3.10.9"
  }
 },
 "nbformat": 4,
 "nbformat_minor": 5
}
