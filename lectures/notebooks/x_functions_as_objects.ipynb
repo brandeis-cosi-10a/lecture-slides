{
 "cells": [
  {
   "cell_type": "markdown",
   "id": "3e74c92f",
   "metadata": {
    "slideshow": {
     "slide_type": "notes"
    }
   },
   "source": [
    "# Way too advanced for intro"
   ]
  },
  {
   "cell_type": "markdown",
   "id": "1ee8a1d2",
   "metadata": {
    "slideshow": {
     "slide_type": "slide"
    }
   },
   "source": [
    "# Functions as Objects\n",
    "\n",
    "<style>\n",
    "section.present > section.present { \n",
    "    max-height: 90%; \n",
    "    overflow-y: scroll;\n",
    "}\n",
    "</style>\n",
    "\n",
    "<small><a href=\"https://colab.research.google.com/github/brandeis-jdelfino/cosi-10a/blob/main/lectures/notebooks/14_functions_as_objects.ipynb\">Link to interactive slides on Google Colab</a></small>"
   ]
  },
  {
   "cell_type": "markdown",
   "id": "574ccfb7",
   "metadata": {
    "slideshow": {
     "slide_type": "slide"
    }
   },
   "source": [
    "## Exercise\n",
    "\n",
    "Sort the words in a string alphabetically"
   ]
  },
  {
   "cell_type": "code",
   "execution_count": null,
   "id": "b1872edc",
   "metadata": {
    "execution": {
     "iopub.execute_input": "2023-10-27T21:54:05.672454Z",
     "iopub.status.busy": "2023-10-27T21:54:05.671823Z",
     "iopub.status.idle": "2023-10-27T21:54:05.687899Z",
     "shell.execute_reply": "2023-10-27T21:54:05.687114Z"
    }
   },
   "outputs": [],
   "source": [
    "value = \"This note is about Bill Murray, a famous American actor.\"\n",
    "words = value.split()\n",
    "words.sort()\n",
    "print(' '.join(words))"
   ]
  },
  {
   "cell_type": "markdown",
   "id": "f6bb5ea4",
   "metadata": {
    "slideshow": {
     "slide_type": "fragment"
    }
   },
   "source": [
    "Hmm... case matters.\n",
    "\n",
    "We could just lowercase the whole string before splitting. But what if we want to preserve the original case in our resulting string?"
   ]
  },
  {
   "cell_type": "markdown",
   "id": "aa22a86d",
   "metadata": {
    "slideshow": {
     "slide_type": "subslide"
    }
   },
   "source": [
    "## Telling `sort` how to sort\n",
    "\n",
    "By default, `sort()` orders the values by... the values.\n",
    "\n",
    "We can tell it to order them by something else, using the `key` parameter.\n",
    "\n",
    "The `key` parameter should be a **function** that returns the sort key for a given value."
   ]
  },
  {
   "cell_type": "code",
   "execution_count": null,
   "id": "551a4e97",
   "metadata": {
    "execution": {
     "iopub.execute_input": "2023-10-27T21:54:05.692292Z",
     "iopub.status.busy": "2023-10-27T21:54:05.691684Z",
     "iopub.status.idle": "2023-10-27T21:54:05.696225Z",
     "shell.execute_reply": "2023-10-27T21:54:05.695432Z"
    },
    "slideshow": {
     "slide_type": "subslide"
    }
   },
   "outputs": [],
   "source": [
    "def make_lower(value):\n",
    "    return value.lower()\n",
    "\n",
    "value = \"This note is about Bill Murray, a famous American actor.\"\n",
    "words = value.split()\n",
    "\n",
    "words.sort(key=make_lower)\n",
    "print(' '.join(words))"
   ]
  },
  {
   "cell_type": "markdown",
   "id": "2916f884",
   "metadata": {
    "slideshow": {
     "slide_type": "fragment"
    }
   },
   "source": [
    "Wait, what? Did we just pass a function as a parameter?\n",
    "\n",
    "Yes, yes we did."
   ]
  },
  {
   "cell_type": "markdown",
   "id": "09fa9930",
   "metadata": {
    "slideshow": {
     "slide_type": "slide"
    }
   },
   "source": [
    "# Functions are Objects\n",
    "\n",
    "Python has **first class functions**. \n",
    "\n",
    "This means that functions are objects, just like other types: `int`, `str`, `list`, `dict`, `set`, etc.\n",
    "\n",
    "They can be passed as arguments to other functions.\n",
    "\n",
    "They can be assigned to variables.\n",
    "\n",
    "They can be returned by other functions.\n",
    "\n",
    "They can be stored in lists, dictionaries, and sets."
   ]
  },
  {
   "cell_type": "markdown",
   "id": "21a2f80a",
   "metadata": {
    "slideshow": {
     "slide_type": "subslide"
    }
   },
   "source": [
    "For another example, we'll sort the words by length:"
   ]
  },
  {
   "cell_type": "code",
   "execution_count": null,
   "id": "ae72fd08",
   "metadata": {
    "execution": {
     "iopub.execute_input": "2023-10-27T21:54:05.700016Z",
     "iopub.status.busy": "2023-10-27T21:54:05.699724Z",
     "iopub.status.idle": "2023-10-27T21:54:05.703677Z",
     "shell.execute_reply": "2023-10-27T21:54:05.703058Z"
    }
   },
   "outputs": [],
   "source": [
    "def get_len(value):\n",
    "    return len(value)\n",
    "\n",
    "value = \"This note is about Bill Murray, a famous American actor.\"\n",
    "words = value.split()\n",
    "\n",
    "words.sort(key=get_len)\n",
    "print(' '.join(words))"
   ]
  },
  {
   "cell_type": "markdown",
   "id": "ff4638ff",
   "metadata": {
    "slideshow": {
     "slide_type": "subslide"
    }
   },
   "source": [
    "But wait, `len` is a function too. We don't need to make our own wrapper, `get_len`. We can pass the function `len` directly!"
   ]
  },
  {
   "cell_type": "code",
   "execution_count": null,
   "id": "2de57d02",
   "metadata": {
    "execution": {
     "iopub.execute_input": "2023-10-27T21:54:05.707022Z",
     "iopub.status.busy": "2023-10-27T21:54:05.706550Z",
     "iopub.status.idle": "2023-10-27T21:54:05.710370Z",
     "shell.execute_reply": "2023-10-27T21:54:05.709768Z"
    }
   },
   "outputs": [],
   "source": [
    "value = \"This note is about Bill Murray, a famous American actor.\"\n",
    "words = value.split()\n",
    "\n",
    "words.sort(key=len)\n",
    "print(' '.join(words))"
   ]
  },
  {
   "cell_type": "markdown",
   "id": "e8e1c254",
   "metadata": {
    "slideshow": {
     "slide_type": "slide"
    }
   },
   "source": [
    "Turns out, we can also shorten our first example. Here's the original code:"
   ]
  },
  {
   "cell_type": "code",
   "execution_count": null,
   "id": "981d1994",
   "metadata": {
    "execution": {
     "iopub.execute_input": "2023-10-27T21:54:05.713578Z",
     "iopub.status.busy": "2023-10-27T21:54:05.713319Z",
     "iopub.status.idle": "2023-10-27T21:54:05.717215Z",
     "shell.execute_reply": "2023-10-27T21:54:05.716607Z"
    }
   },
   "outputs": [],
   "source": [
    "def make_lower(value):\n",
    "    return value.lower()\n",
    "\n",
    "value = \"This note is about Bill Murray, a famous American actor.\"\n",
    "words = value.split()\n",
    "\n",
    "words.sort(key=make_lower)\n",
    "print(' '.join(words))"
   ]
  },
  {
   "cell_type": "markdown",
   "id": "638fbee8",
   "metadata": {
    "slideshow": {
     "slide_type": "subslide"
    }
   },
   "source": [
    "We can actually rewrite this as:"
   ]
  },
  {
   "cell_type": "code",
   "execution_count": null,
   "id": "08915a77",
   "metadata": {
    "execution": {
     "iopub.execute_input": "2023-10-27T21:54:05.720507Z",
     "iopub.status.busy": "2023-10-27T21:54:05.720219Z",
     "iopub.status.idle": "2023-10-27T21:54:05.724548Z",
     "shell.execute_reply": "2023-10-27T21:54:05.723810Z"
    }
   },
   "outputs": [],
   "source": [
    "value = \"This note is about Bill Murray, a famous American actor.\"\n",
    "words = value.split()\n",
    "\n",
    "words.sort(key=str.lower)\n",
    "print(' '.join(words))"
   ]
  },
  {
   "cell_type": "markdown",
   "id": "4c0ec8e2",
   "metadata": {
    "slideshow": {
     "slide_type": "fragment"
    }
   },
   "source": [
    "What is `str.lower`? Let's dig in to understand."
   ]
  },
  {
   "cell_type": "markdown",
   "id": "c5029a56",
   "metadata": {
    "slideshow": {
     "slide_type": "slide"
    }
   },
   "source": [
    "## Review: calling methods"
   ]
  },
  {
   "cell_type": "code",
   "execution_count": null,
   "id": "099d5940",
   "metadata": {
    "execution": {
     "iopub.execute_input": "2023-10-27T21:54:05.727870Z",
     "iopub.status.busy": "2023-10-27T21:54:05.727590Z",
     "iopub.status.idle": "2023-10-27T21:54:05.731287Z",
     "shell.execute_reply": "2023-10-27T21:54:05.730543Z"
    }
   },
   "outputs": [],
   "source": [
    "class Tree:\n",
    "    def __init__(self):\n",
    "        self.height = 1\n",
    "\n",
    "    def grow(self):\n",
    "        self.height += 1"
   ]
  },
  {
   "cell_type": "code",
   "execution_count": null,
   "id": "8560f6e1",
   "metadata": {
    "execution": {
     "iopub.execute_input": "2023-10-27T21:54:05.734900Z",
     "iopub.status.busy": "2023-10-27T21:54:05.734415Z",
     "iopub.status.idle": "2023-10-27T21:54:05.738146Z",
     "shell.execute_reply": "2023-10-27T21:54:05.737521Z"
    }
   },
   "outputs": [],
   "source": [
    "t = Tree()\n",
    "t.grow()\n",
    "t.grow()\n",
    "print(t.height)"
   ]
  },
  {
   "cell_type": "markdown",
   "id": "791f04a8",
   "metadata": {
    "slideshow": {
     "slide_type": "fragment"
    }
   },
   "source": [
    "Notice that `grow()` takes the `self` parameter, but when we call `t.grow()`, we don't pass any parameters.\n",
    "\n",
    "When we call `t.grow()`, `t` \"magically\" gets passed as `self` to the `grow()` method."
   ]
  },
  {
   "cell_type": "markdown",
   "id": "e86e425a",
   "metadata": {
    "slideshow": {
     "slide_type": "subslide"
    }
   },
   "source": [
    "Here, we explicitly pass `t` for the `self` parameter:"
   ]
  },
  {
   "cell_type": "code",
   "execution_count": null,
   "id": "9100ad57",
   "metadata": {
    "execution": {
     "iopub.execute_input": "2023-10-27T21:54:05.742166Z",
     "iopub.status.busy": "2023-10-27T21:54:05.741872Z",
     "iopub.status.idle": "2023-10-27T21:54:05.745571Z",
     "shell.execute_reply": "2023-10-27T21:54:05.744940Z"
    }
   },
   "outputs": [],
   "source": [
    "t = Tree()\n",
    "Tree.grow(t)\n",
    "Tree.grow(t)\n",
    "print(t.height)"
   ]
  },
  {
   "cell_type": "markdown",
   "id": "77bf6047",
   "metadata": {
    "slideshow": {
     "slide_type": "fragment"
    }
   },
   "source": [
    "This is equivalent to the previous code.\n",
    "\n",
    "Note that we call `Tree.grow` here instead of `t.grow`. \n",
    "\n",
    "You wouldn't normally call a method this way, but it is completely valid."
   ]
  },
  {
   "cell_type": "markdown",
   "id": "e09521ca",
   "metadata": {
    "slideshow": {
     "slide_type": "slide"
    }
   },
   "source": [
    "## Back to `str.lower`\n",
    "\n",
    "`str.lower` is a method on the `str` class, just like `grow` is a method on the `Tree` class. \n",
    "\n",
    "`lower`'s definition might look like this:"
   ]
  },
  {
   "cell_type": "code",
   "execution_count": null,
   "id": "8d1879e9",
   "metadata": {
    "execution": {
     "iopub.execute_input": "2023-10-27T21:54:05.748978Z",
     "iopub.status.busy": "2023-10-27T21:54:05.748696Z",
     "iopub.status.idle": "2023-10-27T21:54:05.752287Z",
     "shell.execute_reply": "2023-10-27T21:54:05.751773Z"
    }
   },
   "outputs": [],
   "source": [
    "class str:\n",
    "    # ...\n",
    "    def lower(self):\n",
    "        # ..."
   ]
  },
  {
   "cell_type": "markdown",
   "id": "79458737",
   "metadata": {
    "slideshow": {
     "slide_type": ""
    }
   },
   "source": [
    "This means that `\"SOME STRING\".lower()` is equivalent to `str.lower(\"SOME STRING\")`."
   ]
  },
  {
   "cell_type": "markdown",
   "id": "7d00e2ba",
   "metadata": {
    "slideshow": {
     "slide_type": "subslide"
    }
   },
   "source": [
    "So, when we pass `str.lower` as a function here, `sort` will call it on each value in the list in order to get the sort key: \n",
    "\n",
    "`str.lower(value)`  \n",
    "which is equivalent to:  \n",
    "`value.lower()`"
   ]
  },
  {
   "cell_type": "code",
   "execution_count": null,
   "id": "3a0941cf",
   "metadata": {
    "execution": {
     "iopub.execute_input": "2023-10-27T21:54:05.755518Z",
     "iopub.status.busy": "2023-10-27T21:54:05.755204Z",
     "iopub.status.idle": "2023-10-27T21:54:05.758925Z",
     "shell.execute_reply": "2023-10-27T21:54:05.758383Z"
    }
   },
   "outputs": [],
   "source": [
    "value = \"This note is about Bill Murray, a famous American actor.\"\n",
    "words = value.split()\n",
    "\n",
    "words.sort(key=str.lower)\n",
    "print(' '.join(words))"
   ]
  },
  {
   "cell_type": "markdown",
   "id": "ffff41c2",
   "metadata": {
    "slideshow": {
     "slide_type": "slide"
    }
   },
   "source": [
    "## Some more examples"
   ]
  },
  {
   "cell_type": "markdown",
   "id": "c38cd515",
   "metadata": {},
   "source": [
    "What if we want to sort all words that start with `M` or `m` first, then alphabetically after that for every non-M word?"
   ]
  },
  {
   "cell_type": "code",
   "execution_count": null,
   "id": "90863c5f",
   "metadata": {
    "execution": {
     "iopub.execute_input": "2023-10-27T21:54:05.761978Z",
     "iopub.status.busy": "2023-10-27T21:54:05.761737Z",
     "iopub.status.idle": "2023-10-27T21:54:05.766369Z",
     "shell.execute_reply": "2023-10-27T21:54:05.765804Z"
    }
   },
   "outputs": [],
   "source": [
    "def m_first(value):\n",
    "    # upper case sorts first, so if our word starts with \"M\" or \"m\", use upper case for the sort key\n",
    "    if value[0].lower() == 'm':\n",
    "        return value.upper()\n",
    "    else:\n",
    "        return value.lower()\n",
    "    \n",
    "value = \"This note is about Bill Murray, a famous American actor.\"\n",
    "words = value.split()\n",
    "\n",
    "words.sort(key=m_first)\n",
    "print(' '.join(words))    "
   ]
  },
  {
   "cell_type": "markdown",
   "id": "63414920",
   "metadata": {
    "slideshow": {
     "slide_type": "slide"
    }
   },
   "source": [
    "## Lambdas\n",
    "\n",
    "We can even shorten this one, using something called a **lambda**.\n",
    "\n",
    "A lambda is an \"anonymous function\" - a function with no name."
   ]
  },
  {
   "cell_type": "code",
   "execution_count": null,
   "id": "8f9e5344",
   "metadata": {
    "execution": {
     "iopub.execute_input": "2023-10-27T21:54:05.769471Z",
     "iopub.status.busy": "2023-10-27T21:54:05.769199Z",
     "iopub.status.idle": "2023-10-27T21:54:05.773705Z",
     "shell.execute_reply": "2023-10-27T21:54:05.773138Z"
    }
   },
   "outputs": [],
   "source": [
    "value = \"This note is about Bill Murray, a famous American actor.\"\n",
    "words = value.split()\n",
    "\n",
    "words.sort(key=lambda x: value.upper() if x[0].lower() == 'm' else value.lower())\n",
    "print(' '.join(words)) "
   ]
  },
  {
   "cell_type": "markdown",
   "id": "1ff03482",
   "metadata": {
    "slideshow": {
     "slide_type": "subslide"
    }
   },
   "source": [
    "## Lambda syntax\n",
    "\n",
    "`lambda <parameter list>: <expression>`\n",
    "\n",
    "Lambdas can take any number of parameters, but can only consist of a single expression.\n",
    "\n",
    "They can be useful, but also can easily make code hard to read. Often, writing out a full function is more clear."
   ]
  },
  {
   "cell_type": "markdown",
   "id": "11777dfb",
   "metadata": {
    "slideshow": {
     "slide_type": "slide"
    }
   },
   "source": [
    "# Exercise: Write a class that handles secret messages\n",
    "\n",
    "It should allow a user to store messages and retrieve messages. "
   ]
  },
  {
   "cell_type": "markdown",
   "id": "67a4fae0",
   "metadata": {
    "slideshow": {
     "slide_type": "subslide"
    }
   },
   "source": [
    "First, we'll define some encode/decode functions. We'll use a \"Caesar cipher\", which just shifts each character forward in the alphabet."
   ]
  },
  {
   "cell_type": "code",
   "execution_count": null,
   "id": "6b82f1ed",
   "metadata": {
    "execution": {
     "iopub.execute_input": "2023-10-27T21:54:05.777209Z",
     "iopub.status.busy": "2023-10-27T21:54:05.776845Z",
     "iopub.status.idle": "2023-10-27T21:54:05.781605Z",
     "shell.execute_reply": "2023-10-27T21:54:05.780918Z"
    }
   },
   "outputs": [],
   "source": [
    "def caesar_encode(value):\n",
    "    new_val = \"\"\n",
    "    for c in value:\n",
    "        new_val = new_val + chr(ord(c) + 7)\n",
    "    return new_val\n",
    "\n",
    "def caesar_decode(value):\n",
    "    new_val = \"\"\n",
    "    for c in value:\n",
    "        new_val = new_val + chr(ord(c) - 7)\n",
    "    return new_val"
   ]
  },
  {
   "cell_type": "code",
   "execution_count": null,
   "id": "01cefdfa",
   "metadata": {
    "execution": {
     "iopub.execute_input": "2023-10-27T21:54:05.785103Z",
     "iopub.status.busy": "2023-10-27T21:54:05.784756Z",
     "iopub.status.idle": "2023-10-27T21:54:05.791023Z",
     "shell.execute_reply": "2023-10-27T21:54:05.790420Z"
    }
   },
   "outputs": [],
   "source": [
    "caesar_encode(\"Hi mom!\")"
   ]
  },
  {
   "cell_type": "code",
   "execution_count": null,
   "id": "e759ab3a",
   "metadata": {
    "execution": {
     "iopub.execute_input": "2023-10-27T21:54:05.794053Z",
     "iopub.status.busy": "2023-10-27T21:54:05.793800Z",
     "iopub.status.idle": "2023-10-27T21:54:05.798092Z",
     "shell.execute_reply": "2023-10-27T21:54:05.797520Z"
    }
   },
   "outputs": [],
   "source": [
    "caesar_decode(\"Op'tvt(\")"
   ]
  },
  {
   "cell_type": "markdown",
   "id": "2ad596d9",
   "metadata": {
    "slideshow": {
     "slide_type": "subslide"
    }
   },
   "source": [
    "Now we'll make a Message repository that encodes messages when storing, and decodes them when retrieving."
   ]
  },
  {
   "cell_type": "code",
   "execution_count": null,
   "id": "8d54182f",
   "metadata": {
    "execution": {
     "iopub.execute_input": "2023-10-27T21:54:05.801087Z",
     "iopub.status.busy": "2023-10-27T21:54:05.800832Z",
     "iopub.status.idle": "2023-10-27T21:54:05.805145Z",
     "shell.execute_reply": "2023-10-27T21:54:05.804475Z"
    },
    "slideshow": {
     "slide_type": ""
    }
   },
   "outputs": [],
   "source": [
    "class MessageRepository:\n",
    "    def __init__(self):\n",
    "        self.next_id = 0\n",
    "        self.messages = {}\n",
    "        \n",
    "    def get_message(self, message_id):\n",
    "        if message_id not in self.messages:\n",
    "            return None\n",
    "        return caesar_decode(self.messages[message_id])\n",
    "    \n",
    "    def store_message(self, message):\n",
    "        self.messages[self.next_id] = caesar_encode(message)\n",
    "        self.next_id += 1\n",
    "        return self.next_id - 1"
   ]
  },
  {
   "cell_type": "code",
   "execution_count": null,
   "id": "43d7d117",
   "metadata": {
    "execution": {
     "iopub.execute_input": "2023-10-27T21:54:05.808235Z",
     "iopub.status.busy": "2023-10-27T21:54:05.807974Z",
     "iopub.status.idle": "2023-10-27T21:54:05.811710Z",
     "shell.execute_reply": "2023-10-27T21:54:05.811130Z"
    }
   },
   "outputs": [],
   "source": [
    "repo = MessageRepository()\n",
    "msg_id = repo.store_message(\"Hi mom!\")\n",
    "\n",
    "print(repo.messages)\n",
    "print(repo.get_message(msg_id))"
   ]
  },
  {
   "cell_type": "markdown",
   "id": "214d710f",
   "metadata": {
    "slideshow": {
     "slide_type": "subslide"
    }
   },
   "source": [
    "But what if we want to alter the way we encode or decode messages? Or use different methods for different messages?\n",
    "\n",
    "We could try providing a menu of options... or we could allow the user to provide encode/decode functions!"
   ]
  },
  {
   "cell_type": "code",
   "execution_count": null,
   "id": "593f4557",
   "metadata": {
    "execution": {
     "iopub.execute_input": "2023-10-27T21:54:05.815126Z",
     "iopub.status.busy": "2023-10-27T21:54:05.814856Z",
     "iopub.status.idle": "2023-10-27T21:54:05.819245Z",
     "shell.execute_reply": "2023-10-27T21:54:05.818611Z"
    },
    "slideshow": {
     "slide_type": "subslide"
    }
   },
   "outputs": [],
   "source": [
    "class MessageRepository:\n",
    "    def __init__(self):\n",
    "        self.next_id = 0\n",
    "        self.messages = {}\n",
    "        \n",
    "    def get_message(self, message_id, decode_fn):\n",
    "        if message_id not in self.messages:\n",
    "            return None\n",
    "        return decode_fn(self.messages[message_id])\n",
    "    \n",
    "    def store_message(self, message, encode_fn):\n",
    "        self.messages[self.next_id] = encode_fn(message)\n",
    "        self.next_id += 1\n",
    "        return self.next_id - 1"
   ]
  },
  {
   "cell_type": "code",
   "execution_count": null,
   "id": "d9bc1382",
   "metadata": {
    "execution": {
     "iopub.execute_input": "2023-10-27T21:54:05.822746Z",
     "iopub.status.busy": "2023-10-27T21:54:05.822470Z",
     "iopub.status.idle": "2023-10-27T21:54:05.826042Z",
     "shell.execute_reply": "2023-10-27T21:54:05.825346Z"
    }
   },
   "outputs": [],
   "source": [
    "repo = MessageRepository()\n",
    "msg_id = repo.store_message(\"Hi mom!\", caesar_encode)\n",
    "print(repo.messages)\n",
    "print(repo.get_message(msg_id, caesar_decode))"
   ]
  },
  {
   "cell_type": "markdown",
   "id": "d1b2ee94",
   "metadata": {
    "slideshow": {
     "slide_type": "subslide"
    }
   },
   "source": [
    "You could also imagine a `MessageRepository` that took encode/decode functions on creation, and saved them for later use:"
   ]
  },
  {
   "cell_type": "code",
   "execution_count": null,
   "id": "4289e025",
   "metadata": {
    "execution": {
     "iopub.execute_input": "2023-10-27T21:54:05.829635Z",
     "iopub.status.busy": "2023-10-27T21:54:05.829142Z",
     "iopub.status.idle": "2023-10-27T21:54:05.833593Z",
     "shell.execute_reply": "2023-10-27T21:54:05.832984Z"
    }
   },
   "outputs": [],
   "source": [
    "class MessageRepository:\n",
    "    def __init__(self, encode_fn, decode_fn):\n",
    "        self.next_id = 0\n",
    "        self.messages = {}\n",
    "        self.encode_fn = encode_fn\n",
    "        self.decode_fn = decode_fn\n",
    "        \n",
    "    def get_message(self, message_id):\n",
    "        if message_id not in self.messages:\n",
    "            return None\n",
    "        return self.decode_fn(self.messages[message_id])\n",
    "    \n",
    "    def store_message(self, message):\n",
    "        self.messages[self.next_id] = self.encode_fn(message)\n",
    "        self.next_id += 1\n",
    "        return self.next_id - 1"
   ]
  },
  {
   "cell_type": "code",
   "execution_count": null,
   "id": "d287afb5",
   "metadata": {
    "execution": {
     "iopub.execute_input": "2023-10-27T21:54:05.836478Z",
     "iopub.status.busy": "2023-10-27T21:54:05.836216Z",
     "iopub.status.idle": "2023-10-27T21:54:05.840358Z",
     "shell.execute_reply": "2023-10-27T21:54:05.839473Z"
    }
   },
   "outputs": [],
   "source": [
    "repo = MessageRepository(caesar_encode, caesar_decode)\n",
    "msg_id = repo.store_message(\"Hi mom!\")\n",
    "print(repo.messages)\n",
    "print(repo.get_message(msg_id))"
   ]
  },
  {
   "cell_type": "markdown",
   "id": "a62d4d9e",
   "metadata": {
    "slideshow": {
     "slide_type": "subslide"
    }
   },
   "source": [
    "## What if we want a Caesar cipher that uses a different offset?"
   ]
  },
  {
   "cell_type": "markdown",
   "id": "f86929c1",
   "metadata": {},
   "source": [
    "Normally, we'd just add a parameter to `caesar_cipher`. "
   ]
  },
  {
   "cell_type": "code",
   "execution_count": null,
   "id": "31b806bc",
   "metadata": {
    "execution": {
     "iopub.execute_input": "2023-10-27T21:54:05.843917Z",
     "iopub.status.busy": "2023-10-27T21:54:05.843627Z",
     "iopub.status.idle": "2023-10-27T21:54:05.848012Z",
     "shell.execute_reply": "2023-10-27T21:54:05.847306Z"
    },
    "slideshow": {
     "slide_type": "subslide"
    }
   },
   "outputs": [],
   "source": [
    "def caesar_encode(value, n):\n",
    "    new_val = \"\"\n",
    "    for c in value:\n",
    "        new_val = new_val + chr(ord(c) + n)\n",
    "    return new_val\n",
    "\n",
    "def caesar_decode(value, n):\n",
    "    new_val = \"\"\n",
    "    for c in value:\n",
    "        new_val = new_val + chr(ord(c) - n)\n",
    "    return new_val"
   ]
  },
  {
   "cell_type": "code",
   "execution_count": null,
   "id": "09fcd676",
   "metadata": {
    "execution": {
     "iopub.execute_input": "2023-10-27T21:54:05.851009Z",
     "iopub.status.busy": "2023-10-27T21:54:05.850744Z",
     "iopub.status.idle": "2023-10-27T21:54:06.175055Z",
     "shell.execute_reply": "2023-10-27T21:54:06.173888Z"
    },
    "slideshow": {
     "slide_type": "subslide"
    },
    "tags": [
     "raises-exception"
    ]
   },
   "outputs": [],
   "source": [
    "repo = MessageRepository(caesar_encode, caesar_decode)\n",
    "msg_id = repo.store_message(\"Hi mom!\")\n",
    "print(repo.messages)\n",
    "print(repo.get_message(msg_id))"
   ]
  },
  {
   "cell_type": "markdown",
   "id": "d0a17aa4",
   "metadata": {
    "slideshow": {
     "slide_type": "subslide"
    }
   },
   "source": [
    "Our class, `MessageRepository`, expects our encode/decode functions to take 1 argument - the value to encode/decode. There's no way to get that extra argument to it without modifying the class.\n",
    "\n",
    "We could write a different function for each offset we wanted to use... but that's pretty tedious."
   ]
  },
  {
   "cell_type": "markdown",
   "id": "0f252ce6",
   "metadata": {
    "slideshow": {
     "slide_type": "subslide"
    }
   },
   "source": [
    "Or we could use a lambda:"
   ]
  },
  {
   "cell_type": "code",
   "execution_count": null,
   "id": "70857748",
   "metadata": {
    "execution": {
     "iopub.execute_input": "2023-10-27T21:54:06.179092Z",
     "iopub.status.busy": "2023-10-27T21:54:06.178661Z",
     "iopub.status.idle": "2023-10-27T21:54:06.199369Z",
     "shell.execute_reply": "2023-10-27T21:54:06.198176Z"
    }
   },
   "outputs": [],
   "source": [
    "def caesar_encode(value, n):\n",
    "    new_val = \"\"\n",
    "    for c in value:\n",
    "        new_val = new_val + chr(ord(c) + n)\n",
    "    return new_val\n",
    "\n",
    "repo = MessageRepository()\n",
    "msg_id = repo.store_message(\"Hi mom!\", lambda x: caesar_encode(x, 10))\n",
    "print(repo.messages)\n",
    "print(repo.get_message(msg_id, lambda x: caesar_encode(x, -10)))"
   ]
  },
  {
   "cell_type": "markdown",
   "id": "0b282480",
   "metadata": {},
   "source": [
    "Here, `lambda x: caesar_encode(x, 10)` creates a function that takes one argument, and then calls caesar_encode with that argument and `10` for `n`."
   ]
  },
  {
   "cell_type": "markdown",
   "id": "32faeee4",
   "metadata": {
    "slideshow": {
     "slide_type": "subslide"
    }
   },
   "source": [
    "This is perfectly good. \n",
    "\n",
    "However, for the sake of exploration, let's use a function... to create a function!"
   ]
  },
  {
   "cell_type": "code",
   "execution_count": null,
   "id": "987afe07",
   "metadata": {
    "execution": {
     "iopub.execute_input": "2023-10-27T21:54:06.203889Z",
     "iopub.status.busy": "2023-10-27T21:54:06.203287Z",
     "iopub.status.idle": "2023-10-27T21:54:06.207517Z",
     "shell.execute_reply": "2023-10-27T21:54:06.206652Z"
    }
   },
   "outputs": [],
   "source": [
    "def make_caesar_shift(n):\n",
    "    def caesar_shift(value):\n",
    "        new_val = \"\"\n",
    "        for c in value:\n",
    "            new_val = new_val + chr(ord(c) + n)\n",
    "        return new_val\n",
    "    return caesar_shift"
   ]
  },
  {
   "cell_type": "markdown",
   "id": "9976b15f",
   "metadata": {},
   "source": [
    "Here, `make_caesar_shift` is a function that creates, and returns, another function. "
   ]
  },
  {
   "cell_type": "markdown",
   "id": "9a950e4c",
   "metadata": {
    "slideshow": {
     "slide_type": "subslide"
    }
   },
   "source": [
    "We can use `make_caesar_shift` to create functions that we store in variables, call, or pass around, just like any other function."
   ]
  },
  {
   "cell_type": "code",
   "execution_count": null,
   "id": "354cb7d7",
   "metadata": {
    "execution": {
     "iopub.execute_input": "2023-10-27T21:54:06.211339Z",
     "iopub.status.busy": "2023-10-27T21:54:06.210868Z",
     "iopub.status.idle": "2023-10-27T21:54:06.215759Z",
     "shell.execute_reply": "2023-10-27T21:54:06.214328Z"
    },
    "slideshow": {
     "slide_type": "-"
    }
   },
   "outputs": [],
   "source": [
    "caesar_encode10 = make_caesar_shift(10)\n",
    "caesar_decode10 = make_caesar_shift(-10)\n",
    "\n",
    "encoded = caesar_encode10(\"Hi mom!\")\n",
    "print(encoded)\n",
    "print(caesar_decode10(encoded))"
   ]
  },
  {
   "cell_type": "markdown",
   "id": "db84285e",
   "metadata": {
    "slideshow": {
     "slide_type": "subslide"
    }
   },
   "source": [
    "Here's an example of using it with `MessageRepository`:"
   ]
  },
  {
   "cell_type": "code",
   "execution_count": null,
   "id": "ae991959",
   "metadata": {
    "execution": {
     "iopub.execute_input": "2023-10-27T21:54:06.219337Z",
     "iopub.status.busy": "2023-10-27T21:54:06.218947Z",
     "iopub.status.idle": "2023-10-27T21:54:06.223925Z",
     "shell.execute_reply": "2023-10-27T21:54:06.222983Z"
    }
   },
   "outputs": [],
   "source": [
    "def make_caesar_shift(n):\n",
    "    def caesar_shift(value):\n",
    "        new_val = \"\"\n",
    "        for c in value:\n",
    "            new_val = new_val + chr(ord(c) + n)\n",
    "        return new_val\n",
    "    return caesar_shift\n",
    "\n",
    "repo = MessageRepository(make_caesar_shift(5), make_caesar_shift(-5))\n",
    "msg_id = repo.store_message(\"Hi mom!\")\n",
    "print(repo.messages)\n",
    "print(repo.get_message(msg_id))"
   ]
  },
  {
   "cell_type": "markdown",
   "id": "6153bb68",
   "metadata": {
    "slideshow": {
     "slide_type": "slide"
    }
   },
   "source": [
    "## Exercise\n",
    "\n",
    "Write a function that tracks how long the execution of another function takes."
   ]
  },
  {
   "cell_type": "markdown",
   "id": "a94f5e88",
   "metadata": {
    "slideshow": {
     "slide_type": "fragment"
    }
   },
   "source": [
    "First, let's see what this would look like without worrying about functions as objects."
   ]
  },
  {
   "cell_type": "code",
   "execution_count": null,
   "id": "f3e1f0bd",
   "metadata": {
    "execution": {
     "iopub.execute_input": "2023-10-27T21:54:06.227211Z",
     "iopub.status.busy": "2023-10-27T21:54:06.226931Z",
     "iopub.status.idle": "2023-10-27T21:54:06.237093Z",
     "shell.execute_reply": "2023-10-27T21:54:06.236433Z"
    }
   },
   "outputs": [],
   "source": [
    "import time\n",
    "\n",
    "def sum_to_100k():\n",
    "    total = 0\n",
    "    for i in range(100000):\n",
    "        total += i\n",
    "    return total\n",
    "\n",
    "start_time = time.time()\n",
    "sum_to_100k()\n",
    "end_time = time.time()\n",
    "print(f\"That took {(end_time - start_time)*1000} ms\")"
   ]
  },
  {
   "cell_type": "markdown",
   "id": "c7f8f040",
   "metadata": {
    "slideshow": {
     "slide_type": "subslide"
    }
   },
   "source": [
    "Ok, now let's write a timer function that takes another function as an argument:"
   ]
  },
  {
   "cell_type": "code",
   "execution_count": null,
   "id": "7307bc43",
   "metadata": {
    "execution": {
     "iopub.execute_input": "2023-10-27T21:54:06.240792Z",
     "iopub.status.busy": "2023-10-27T21:54:06.240497Z",
     "iopub.status.idle": "2023-10-27T21:54:06.244070Z",
     "shell.execute_reply": "2023-10-27T21:54:06.243475Z"
    }
   },
   "outputs": [],
   "source": [
    "def timed(func):\n",
    "    start_time = time.time()\n",
    "    func()\n",
    "    end_time = time.time()\n",
    "    print(f\"That took {(end_time - start_time)*1000} ms\")"
   ]
  },
  {
   "cell_type": "code",
   "execution_count": null,
   "id": "0c67986d",
   "metadata": {
    "execution": {
     "iopub.execute_input": "2023-10-27T21:54:06.247917Z",
     "iopub.status.busy": "2023-10-27T21:54:06.247524Z",
     "iopub.status.idle": "2023-10-27T21:54:06.257903Z",
     "shell.execute_reply": "2023-10-27T21:54:06.256980Z"
    }
   },
   "outputs": [],
   "source": [
    "timed(sum_to_100k)"
   ]
  },
  {
   "cell_type": "markdown",
   "id": "579f1e21",
   "metadata": {
    "slideshow": {
     "slide_type": "fragment"
    }
   },
   "source": [
    "But what if we want to time a function that takes arguments?"
   ]
  },
  {
   "cell_type": "code",
   "execution_count": null,
   "id": "2244c94e",
   "metadata": {
    "execution": {
     "iopub.execute_input": "2023-10-27T21:54:06.261381Z",
     "iopub.status.busy": "2023-10-27T21:54:06.261081Z",
     "iopub.status.idle": "2023-10-27T21:54:06.267224Z",
     "shell.execute_reply": "2023-10-27T21:54:06.266048Z"
    },
    "slideshow": {
     "slide_type": "subslide"
    }
   },
   "outputs": [],
   "source": [
    "def timed(func):\n",
    "    start_time = time.time()\n",
    "    func()\n",
    "    end_time = time.time()\n",
    "    print(f\"That took {(end_time - start_time)*1000} ms\")\n",
    "    \n",
    "def sum_to(n):\n",
    "    total = 0\n",
    "    for i in range(n):\n",
    "        total += i\n",
    "    return total"
   ]
  },
  {
   "cell_type": "markdown",
   "id": "e955a5db",
   "metadata": {
    "slideshow": {
     "slide_type": "-"
    }
   },
   "source": [
    "`timed` takes in a function, `func`, which can't take any arguments. This is because `timed` calls `func` with 0 arguments.\n",
    "\n",
    "One way to use `sum_to(n)` would be to use a lambda to create a function that takes 0 arguments:"
   ]
  },
  {
   "cell_type": "code",
   "execution_count": null,
   "id": "ee23cc02",
   "metadata": {
    "execution": {
     "iopub.execute_input": "2023-10-27T21:54:06.271816Z",
     "iopub.status.busy": "2023-10-27T21:54:06.271432Z",
     "iopub.status.idle": "2023-10-27T21:54:06.283045Z",
     "shell.execute_reply": "2023-10-27T21:54:06.281985Z"
    }
   },
   "outputs": [],
   "source": [
    "timed(lambda: sum_to(100000))"
   ]
  },
  {
   "cell_type": "markdown",
   "id": "f56b7c58",
   "metadata": {
    "slideshow": {
     "slide_type": "subslide"
    }
   },
   "source": [
    "This is a little awkward.\n",
    "\n",
    "Luckily, Python gives us 2 special arguments: `*args` and `**kwargs`.\n",
    "\n",
    "`*args` represents all the positional paramaters, and `**kwargs` represents all the keyword (named) parameters passed to a function. (The `kw` in `kwargs` stands for \"keyword\".)"
   ]
  },
  {
   "cell_type": "code",
   "execution_count": null,
   "id": "34e227da",
   "metadata": {
    "execution": {
     "iopub.execute_input": "2023-10-27T21:54:06.286768Z",
     "iopub.status.busy": "2023-10-27T21:54:06.286463Z",
     "iopub.status.idle": "2023-10-27T21:54:06.290920Z",
     "shell.execute_reply": "2023-10-27T21:54:06.290174Z"
    }
   },
   "outputs": [],
   "source": [
    "def timed(func, *args, **kwargs):\n",
    "    start_time = time.time()\n",
    "    func(*args, **kwargs)\n",
    "    end_time = time.time()\n",
    "    print(f\"That took {(end_time - start_time)*1000} ms\")"
   ]
  },
  {
   "cell_type": "code",
   "execution_count": null,
   "id": "93df76fa",
   "metadata": {
    "execution": {
     "iopub.execute_input": "2023-10-27T21:54:06.295507Z",
     "iopub.status.busy": "2023-10-27T21:54:06.294955Z",
     "iopub.status.idle": "2023-10-27T21:54:06.306104Z",
     "shell.execute_reply": "2023-10-27T21:54:06.305302Z"
    }
   },
   "outputs": [],
   "source": [
    "timed(sum_to, 100000)"
   ]
  },
  {
   "cell_type": "markdown",
   "id": "a60d67bc",
   "metadata": {
    "slideshow": {
     "slide_type": "subslide"
    }
   },
   "source": [
    "`timed` now accepts a function, `func`, and any number of additional arguments. All those extra arguments are \"passed through\" to `func`.\n",
    "\n",
    "`*args` and `**kwargs` effectively act as wildcard parameters, and let `timed` pass them through without needing to know what they are, or how many of them there are."
   ]
  },
  {
   "cell_type": "code",
   "execution_count": null,
   "id": "3f4e3417",
   "metadata": {
    "execution": {
     "iopub.execute_input": "2023-10-27T21:54:06.309352Z",
     "iopub.status.busy": "2023-10-27T21:54:06.309058Z",
     "iopub.status.idle": "2023-10-27T21:54:06.313560Z",
     "shell.execute_reply": "2023-10-27T21:54:06.312616Z"
    }
   },
   "outputs": [],
   "source": [
    "def timed(func, *args, **kwargs):\n",
    "    start_time = time.time()\n",
    "    func(*args, **kwargs)\n",
    "    end_time = time.time()\n",
    "    print(f\"That took {(end_time - start_time)*1000} ms\")"
   ]
  },
  {
   "cell_type": "code",
   "execution_count": null,
   "id": "26b358b7",
   "metadata": {
    "execution": {
     "iopub.execute_input": "2023-10-27T21:54:06.316681Z",
     "iopub.status.busy": "2023-10-27T21:54:06.316400Z",
     "iopub.status.idle": "2023-10-27T21:54:06.325976Z",
     "shell.execute_reply": "2023-10-27T21:54:06.325332Z"
    }
   },
   "outputs": [],
   "source": [
    "def silly_sum_to(n, a, b, c, d, e, f, g):\n",
    "    return sum_to(n)\n",
    "\n",
    "timed(silly_sum_to, 100000, 1, 2, 3, 4, 5, 6, 7)"
   ]
  },
  {
   "cell_type": "markdown",
   "id": "99a1fded",
   "metadata": {
    "slideshow": {
     "slide_type": "subslide"
    }
   },
   "source": [
    "## Using functions to make functions\n",
    "\n",
    "Our last version of `timed` ran the function when it was called.\n",
    "\n",
    "What if, instead, we made it create a new, timed version of our function that we could call later?\n",
    "\n"
   ]
  },
  {
   "cell_type": "markdown",
   "id": "17e22efc",
   "metadata": {
    "slideshow": {
     "slide_type": "subslide"
    }
   },
   "source": [
    "Here's a new version of `timed` that returns a function wrapped in a timer. \n",
    "\n",
    "This `timed` doesn't run the function directly - it creates a new function and returns it, similar to `make_caesar_shift`."
   ]
  },
  {
   "cell_type": "code",
   "execution_count": null,
   "id": "c62857df",
   "metadata": {
    "execution": {
     "iopub.execute_input": "2023-10-27T21:54:06.330060Z",
     "iopub.status.busy": "2023-10-27T21:54:06.329644Z",
     "iopub.status.idle": "2023-10-27T21:54:06.333628Z",
     "shell.execute_reply": "2023-10-27T21:54:06.333025Z"
    }
   },
   "outputs": [],
   "source": [
    "def timed(func):\n",
    "    def wrapped():\n",
    "        start_time = time.time()    \n",
    "        func()\n",
    "        end_time = time.time()\n",
    "        print(f\"That took {(end_time - start_time)*1000} ms\")        \n",
    "    return wrapped"
   ]
  },
  {
   "cell_type": "code",
   "execution_count": null,
   "id": "b16fdc4a",
   "metadata": {
    "execution": {
     "iopub.execute_input": "2023-10-27T21:54:06.337125Z",
     "iopub.status.busy": "2023-10-27T21:54:06.336766Z",
     "iopub.status.idle": "2023-10-27T21:54:06.353185Z",
     "shell.execute_reply": "2023-10-27T21:54:06.352325Z"
    },
    "slideshow": {
     "slide_type": "-"
    }
   },
   "outputs": [],
   "source": [
    "frankenfunc = timed(sum_to)\n",
    "frankenfunc(100)\n",
    "frankenfunc(2000000)"
   ]
  },
  {
   "cell_type": "markdown",
   "id": "fdb7bda4",
   "metadata": {
    "slideshow": {
     "slide_type": "subslide"
    }
   },
   "source": [
    "This has the same problem with passing arguments - `*args` and `**kwargs` will work again here."
   ]
  },
  {
   "cell_type": "code",
   "execution_count": null,
   "id": "a3cbafae",
   "metadata": {
    "execution": {
     "iopub.execute_input": "2023-10-27T21:54:06.356590Z",
     "iopub.status.busy": "2023-10-27T21:54:06.356314Z",
     "iopub.status.idle": "2023-10-27T21:54:06.360795Z",
     "shell.execute_reply": "2023-10-27T21:54:06.359885Z"
    },
    "slideshow": {
     "slide_type": "-"
    }
   },
   "outputs": [],
   "source": [
    "def timed(func):\n",
    "    def wrapped(*args, **kwargs):\n",
    "        start_time = time.time()    \n",
    "        func(*args, **kwargs)\n",
    "        end_time = time.time()\n",
    "        print(f\"That took {(end_time - start_time)*1000} ms\")        \n",
    "    return wrapped\n",
    "\n",
    "def sum_to(n):\n",
    "    total = 0\n",
    "    for i in range(n):\n",
    "        total += i\n",
    "    return total"
   ]
  },
  {
   "cell_type": "code",
   "execution_count": null,
   "id": "d8a564bb",
   "metadata": {
    "execution": {
     "iopub.execute_input": "2023-10-27T21:54:06.364523Z",
     "iopub.status.busy": "2023-10-27T21:54:06.364232Z",
     "iopub.status.idle": "2023-10-27T21:54:06.485108Z",
     "shell.execute_reply": "2023-10-27T21:54:06.484428Z"
    },
    "slideshow": {
     "slide_type": "-"
    }
   },
   "outputs": [],
   "source": [
    "frankenfunc = timed(sum_to)\n",
    "frankenfunc(100)\n",
    "frankenfunc(2000000)"
   ]
  },
  {
   "cell_type": "markdown",
   "id": "a153065d",
   "metadata": {
    "slideshow": {
     "slide_type": "subslide"
    }
   },
   "source": [
    "We won't go deeper into `*args` and `**kwargs` in this class. You can do interesting and complicated (often: overcomplicated) things with them. \n",
    "\n",
    "If you want to read more about them, here's an [introduction](https://www.programiz.com/python-programming/args-and-kwargs).\n",
    "\n",
    "The important point for this exercise is that they make it possible for intermediate functions to \"pass through\" sets of arguments without needing to know what they are, or how many there are."
   ]
  },
  {
   "cell_type": "markdown",
   "id": "ec453560",
   "metadata": {
    "slideshow": {
     "slide_type": "slide"
    }
   },
   "source": [
    "## Decorators\n",
    "\n",
    "Python has a feature called \"decorators\", which is \"syntactic sugar\" for wrapping a function in another function."
   ]
  },
  {
   "cell_type": "code",
   "execution_count": null,
   "id": "275d552b",
   "metadata": {
    "execution": {
     "iopub.execute_input": "2023-10-27T21:54:06.488414Z",
     "iopub.status.busy": "2023-10-27T21:54:06.488092Z",
     "iopub.status.idle": "2023-10-27T21:54:06.492516Z",
     "shell.execute_reply": "2023-10-27T21:54:06.491939Z"
    }
   },
   "outputs": [],
   "source": [
    "def timed(func):\n",
    "    def wrapped(*args, **kwargs):\n",
    "        start_time = time.time()    \n",
    "        func(*args, **kwargs)\n",
    "        end_time = time.time()\n",
    "        print(f\"That took {(end_time - start_time)*1000} ms\")        \n",
    "    return wrapped\n",
    "\n",
    "@timed\n",
    "def sum_to(n):\n",
    "    total = 0\n",
    "    for i in range(n):\n",
    "        total += i\n",
    "    return total"
   ]
  },
  {
   "cell_type": "code",
   "execution_count": null,
   "id": "67031e7e",
   "metadata": {
    "execution": {
     "iopub.execute_input": "2023-10-27T21:54:06.495867Z",
     "iopub.status.busy": "2023-10-27T21:54:06.495585Z",
     "iopub.status.idle": "2023-10-27T21:54:06.556149Z",
     "shell.execute_reply": "2023-10-27T21:54:06.555540Z"
    }
   },
   "outputs": [],
   "source": [
    "sum_to(1000000)"
   ]
  },
  {
   "cell_type": "markdown",
   "id": "1488a73c",
   "metadata": {
    "slideshow": {
     "slide_type": "subslide"
    }
   },
   "source": [
    "## Decorators\n",
    "\n",
    "Creating a decorator is a fairly advanced Python programming activity.\n",
    "\n",
    "However, using them is common - many libraries to provide them to use, so you should recognize them, and understand that they are modifying the function they apply to, often in complex, seemingly-magical ways."
   ]
  },
  {
   "cell_type": "markdown",
   "id": "e969c8df",
   "metadata": {
    "slideshow": {
     "slide_type": "slide"
    }
   },
   "source": [
    "## Wrap up\n",
    "\n",
    "We covered some pretty advanced concepts today. Many of these are beyond the scope of a typical introductory level programming course.\n",
    "\n",
    "If you don't feel comfortable with the idea that functions are objects, or didn't follow the examples up to (but not including) `make_caesar_cipher`, you should review the beginning of the lecture.\n",
    "\n",
    "If you felt lost after that, please don't hesitate to reach out with questions if you want to understand... but also don't expect to see these topics on a quiz or in the last problem set."
   ]
  }
 ],
 "metadata": {
  "celltoolbar": "Slideshow",
  "kernelspec": {
   "display_name": "Python 3 (ipykernel)",
   "language": "python",
   "name": "python3"
  },
  "language_info": {
   "codemirror_mode": {
    "name": "ipython",
    "version": 3
   },
   "file_extension": ".py",
   "mimetype": "text/x-python",
   "name": "python",
   "nbconvert_exporter": "python",
   "pygments_lexer": "ipython3",
   "version": "3.10.9"
  }
 },
 "nbformat": 4,
 "nbformat_minor": 5
}
