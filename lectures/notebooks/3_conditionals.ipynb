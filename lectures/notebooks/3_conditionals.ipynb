{
 "cells": [
  {
   "cell_type": "markdown",
   "id": "1ee8a1d2",
   "metadata": {
    "slideshow": {
     "slide_type": "slide"
    }
   },
   "source": [
    "# Conditionals\n",
    "<small><a href=\"https://colab.research.google.com/github/brandeis-jdelfino/cosi-10a/blob/main/lectures/notebooks/3_conditionals.ipynb\">Link to interactive slides on Google Colab</a></small>"
   ]
  },
  {
   "cell_type": "markdown",
   "id": "5b10d5c6",
   "metadata": {
    "slideshow": {
     "slide_type": "subslide"
    }
   },
   "source": [
    "# Play scripts vs. Choose Your Own Adventure\n",
    "\n",
    "So far, we've been writing programs that resemble scripts for plays: we define a set of steps to take, and then we walk through them one by one, with the same path and outcome each time.\n",
    "\n",
    "Today, we'll look at **conditional execution**, which will make our programs closer to Choose Your Own Adventure books.\n",
    "\n",
    "<br/><br/>\n",
    "<img src=\"./images/choose-your-own-adventure.gif\" style=\"display:block; margin:auto; width: 50%;\"/>\n"
   ]
  },
  {
   "cell_type": "markdown",
   "id": "88b5a876",
   "metadata": {
    "slideshow": {
     "slide_type": "slide"
    }
   },
   "source": [
    "# `if` statements\n",
    "\n",
    "An `if` statement is the most basic conditional statement in Python. It looks like this:\n",
    "```\n",
    "if <test>:\n",
    "    statement(s)\n",
    "```"
   ]
  },
  {
   "cell_type": "code",
   "execution_count": null,
   "id": "dce7d3d3",
   "metadata": {},
   "outputs": [],
   "source": [
    "x = 10\n",
    "if x > 5:\n",
    "    print(\"This print executes when x is greater than 5\")"
   ]
  },
  {
   "cell_type": "code",
   "execution_count": null,
   "id": "a3c48a54",
   "metadata": {
    "slideshow": {
     "slide_type": "subslide"
    }
   },
   "outputs": [],
   "source": [
    "x = 10\n",
    "if x > 5:\n",
    "    print(\"This print executes when x is greater than 5\")"
   ]
  },
  {
   "cell_type": "markdown",
   "id": "fd8f8087",
   "metadata": {
    "slideshow": {
     "slide_type": "-"
    }
   },
   "source": [
    "* `x > 5` is the **test**. It must be a **boolean expression**.\n",
    "  * A **boolean expression** is any expression that evaluates to True or False\n",
    "\n",
    "* `print(\"This print executes when x is greater than 5\")` is a statement \"inside\" the if. \n",
    "  * It is **conditionally executed**.\n",
    "  * i.e. It is executed if the test (`x  > 5`) evaluates to `True`."
   ]
  },
  {
   "cell_type": "markdown",
   "id": "440b0078",
   "metadata": {
    "slideshow": {
     "slide_type": "subslide"
    }
   },
   "source": [
    "## Indentation matters\n",
    "\n",
    "The lines that are indented after the `if <test>:` line are the lines that are conditionally executed.\n",
    "\n",
    "The conditional execution stops when the indentation stops."
   ]
  },
  {
   "cell_type": "code",
   "execution_count": null,
   "id": "044f2e54",
   "metadata": {},
   "outputs": [],
   "source": [
    "x = 10\n",
    "if x > 5:\n",
    "    print(\"This prints if x is greater than 5\")\n",
    "    print(\"This also prints when x is greater than 5\")\n",
    "    \n",
    "print(\"This always prints\")"
   ]
  },
  {
   "cell_type": "markdown",
   "id": "06f4a693",
   "metadata": {},
   "source": [
    "`print(\"This always prints\")` is always executed "
   ]
  },
  {
   "cell_type": "markdown",
   "id": "a4b6d7cb",
   "metadata": {
    "slideshow": {
     "slide_type": "slide"
    }
   },
   "source": [
    "# Relational operators\n",
    "\n",
    "| Operator | Meaning | Example | Result |\n",
    "| --- | --- | --- | --- |\n",
    "| == | equal | 1 + 1 == 2 | True |\n",
    "| != | not equal | 2 + 3 != 4 | True |\n",
    "| < | less than | 10 < 5 | False |\n",
    "| > | greater than | 10 > 5 | True |\n",
    "| <= | less than or equal to | 1 + 1 <= 2 | True |\n",
    "| >= | greater than or equal to | 3 + 4 >= 6 | False |"
   ]
  },
  {
   "cell_type": "markdown",
   "id": "be317663",
   "metadata": {
    "slideshow": {
     "slide_type": "slide"
    }
   },
   "source": [
    "# `if/else` statements\n",
    "\n",
    "You can add an `else` clause to an `if` statement. The `else` clause will execute if the test evaluates to `False`\n",
    "\n",
    "```\n",
    "if <test>:\n",
    "    statement(s)\n",
    "else:\n",
    "    statement(s)\n",
    "```"
   ]
  },
  {
   "cell_type": "code",
   "execution_count": null,
   "id": "fa5cc31a",
   "metadata": {},
   "outputs": [],
   "source": [
    "x = 4\n",
    "if x > 5:\n",
    "    print(\"x is big!\")\n",
    "else:\n",
    "    print(\"x is small!\")"
   ]
  },
  {
   "cell_type": "markdown",
   "id": "4f2df98b",
   "metadata": {
    "slideshow": {
     "slide_type": "slide"
    }
   },
   "source": [
    "# `if/elif/else` statements\n",
    "\n",
    "The last variation is \"if/else if/else\". \n",
    "\n",
    "```\n",
    "if <test1>:\n",
    "    statement(s)\n",
    "elif <test2>:\n",
    "    statement(s)\n",
    "else:\n",
    "    statement(s)\n",
    "```\n",
    "\n",
    "You can have as many `elif` clauses as you want. You can also omit the `else` clause.\n",
    "\n",
    "Each `elif` test is only performed if all the tests before it evaluate to `False`."
   ]
  },
  {
   "cell_type": "markdown",
   "id": "26943afb",
   "metadata": {
    "slideshow": {
     "slide_type": "slide"
    }
   },
   "source": [
    "# Logic\n",
    "\n",
    "We have many different ways to structure conditional execution. They are each useful in different situations. Let's look at a few examples."
   ]
  },
  {
   "cell_type": "markdown",
   "id": "35d1c0e8",
   "metadata": {
    "slideshow": {
     "slide_type": "subslide"
    }
   },
   "source": [
    "# Example 1: Grade buckets"
   ]
  },
  {
   "cell_type": "code",
   "execution_count": null,
   "id": "b84ab1b5",
   "metadata": {},
   "outputs": [],
   "source": [
    "# Attempt 1\n",
    "grade = 81\n",
    "if grade > 65:\n",
    "    print(\"D\")\n",
    "if grade > 72:\n",
    "    print(\"C\")\n",
    "if grade > 79:\n",
    "    print(\"B\")\n",
    "if grade > 89:\n",
    "    print(\"A\")\n",
    "else:\n",
    "    print(\"F\")"
   ]
  },
  {
   "cell_type": "markdown",
   "id": "30748a7b",
   "metadata": {
    "slideshow": {
     "slide_type": "fragment"
    }
   },
   "source": [
    "This logic is incorrect - each `if` is evaluated independently. This code allows a number grade to be categorized under multiple letter grades."
   ]
  },
  {
   "cell_type": "code",
   "execution_count": null,
   "id": "b3efa06d",
   "metadata": {
    "slideshow": {
     "slide_type": "subslide"
    }
   },
   "outputs": [],
   "source": [
    "# Attempt 2\n",
    "grade = 81\n",
    "if grade > 65:\n",
    "    print(\"D\")\n",
    "elif grade > 72:\n",
    "    print(\"C\")\n",
    "elif grade > 79:\n",
    "    print(\"B\")\n",
    "elif grade > 89:\n",
    "    print(\"A\")\n",
    "else:\n",
    "    print(\"F\")"
   ]
  },
  {
   "cell_type": "markdown",
   "id": "21a3f2c4",
   "metadata": {
    "slideshow": {
     "slide_type": "fragment"
    }
   },
   "source": [
    "Still incorrect - by using `if/elif/else` we now get a single letter grade, but the order of our tests leads to an incorrect answer."
   ]
  },
  {
   "cell_type": "code",
   "execution_count": null,
   "id": "1b9070d1",
   "metadata": {
    "slideshow": {
     "slide_type": "subslide"
    }
   },
   "outputs": [],
   "source": [
    "# Attempt 3\n",
    "grade = 81\n",
    "if grade > 89:\n",
    "    print(\"A\")\n",
    "elif grade > 79:\n",
    "    print(\"B\")\n",
    "elif grade > 72:\n",
    "    print(\"C\")\n",
    "elif grade > 65:\n",
    "    print(\"D\")\n",
    "else:\n",
    "    print(\"F\")"
   ]
  },
  {
   "cell_type": "markdown",
   "id": "77105a08",
   "metadata": {
    "slideshow": {
     "slide_type": "fragment"
    }
   },
   "source": [
    "Now we get a correct answer!"
   ]
  },
  {
   "cell_type": "markdown",
   "id": "e99ac6ef",
   "metadata": {
    "slideshow": {
     "slide_type": "subslide"
    }
   },
   "source": [
    "## More than one way to skin a cat\n",
    "\n",
    "Is this different from the last attempt?"
   ]
  },
  {
   "cell_type": "code",
   "execution_count": null,
   "id": "a76aaa2c",
   "metadata": {
    "slideshow": {
     "slide_type": "-"
    }
   },
   "outputs": [],
   "source": [
    "# Attempt 4\n",
    "grade = 81\n",
    "if grade >= 0 and grade <= 65:\n",
    "    print(\"F\")\n",
    "if grade >= 66 and grade <= 72:\n",
    "    print(\"D\")\n",
    "if grade >= 73 and grade <= 79:\n",
    "    print(\"C\")\n",
    "if grade >= 80 and grade <= 89:\n",
    "    print(\"B\")\n",
    "if grade >= 90 and grade <= 100:\n",
    "    print(\"A\")"
   ]
  },
  {
   "cell_type": "markdown",
   "id": "b6fc5b71",
   "metadata": {
    "slideshow": {
     "slide_type": "subslide"
    }
   },
   "source": [
    "## More than one way to skin a cat\n",
    "\n",
    "* Attempt 4 (if/if/if) and Attempt 3 (if/elif/else) have almost identical logic.\n",
    "* Both are correct for the purposes of this exercise.\n",
    "  * What happens with each if we have a grade < 0 or > 100?\n",
    "* Attempt 3 (if/elif/else) is slightly better style.\n",
    "  * An if/elif/else is guaranteed to execute exactly one case, which makes sense for bucketing a grade.\n",
    "  * Attempt 4 also has some logic duplicated - the upper and lower bounds are specified for each grade band. If the bands change, the code needs to be updated in 2 places."
   ]
  },
  {
   "cell_type": "markdown",
   "id": "9ffeacdf",
   "metadata": {
    "slideshow": {
     "slide_type": "subslide"
    }
   },
   "source": [
    "## Brief detour: Boolean operators\n",
    "\n",
    "From highest to lowest precedence:\n",
    "\n",
    "| Operation | Meaning |\n",
    "| --- | --- | \n",
    "| `x or y` | `True` if `x` is `True` OR `y` is `True` |\n",
    "| `x and y` | `True` if `x` is `True` AND `y` is `True` |\n",
    "| `not x` | `True` if `x` is `False`, `False` if `x` is `True` |\n"
   ]
  },
  {
   "cell_type": "code",
   "execution_count": null,
   "id": "d04ab469",
   "metadata": {},
   "outputs": [],
   "source": [
    "(1 + 1 == 3) or (1 + 1 == 2)"
   ]
  },
  {
   "cell_type": "code",
   "execution_count": null,
   "id": "b582c9f3",
   "metadata": {},
   "outputs": [],
   "source": [
    "(1 + 1 == 3) and (1 + 1 == 2)"
   ]
  },
  {
   "cell_type": "code",
   "execution_count": null,
   "id": "1a5e53be",
   "metadata": {},
   "outputs": [],
   "source": [
    "not (1 + 1 == 2)"
   ]
  },
  {
   "cell_type": "markdown",
   "id": "8340e5d9",
   "metadata": {
    "slideshow": {
     "slide_type": "subslide"
    }
   },
   "source": [
    "# Example 2: Allergies"
   ]
  },
  {
   "cell_type": "code",
   "execution_count": null,
   "id": "95f898f8",
   "metadata": {},
   "outputs": [],
   "source": [
    "# Attempt 1\n",
    "\n",
    "nuts = \"n\"\n",
    "shellfish = \"y\"\n",
    "gluten = \"n\"\n",
    "pollen = \"n\"\n",
    "\n",
    "print(\"Don't feed me the following types of food: \")\n",
    "if nuts == \"y\":\n",
    "    print(\"nuts\")\n",
    "elif shellfish == \"y\":\n",
    "    print(\"shellfish\")\n",
    "elif gluten == \"y\":\n",
    "    print(\"gluten\")\n",
    "else:\n",
    "    print(\"pollen\")"
   ]
  },
  {
   "cell_type": "markdown",
   "id": "0fc1b6e2",
   "metadata": {
    "slideshow": {
     "slide_type": "fragment"
    }
   },
   "source": [
    "Looks ok... but wait..."
   ]
  },
  {
   "cell_type": "markdown",
   "id": "19161548",
   "metadata": {
    "slideshow": {
     "slide_type": "fragment"
    }
   },
   "source": [
    "This code is not correct with more than one allergy."
   ]
  },
  {
   "cell_type": "code",
   "execution_count": null,
   "id": "c848d495",
   "metadata": {
    "slideshow": {
     "slide_type": "subslide"
    }
   },
   "outputs": [],
   "source": [
    "# Attempt 1\n",
    "\n",
    "nuts = \"y\"\n",
    "shellfish = \"y\"\n",
    "gluten = \"n\"\n",
    "pollen = \"n\"\n",
    "\n",
    "print(\"Don't feed me the following types of food: \")\n",
    "if nuts == \"y\":\n",
    "    print(\"nuts\")\n",
    "elif shellfish == \"y\":\n",
    "    print(\"shellfish\")\n",
    "elif gluten == \"y\":\n",
    "    print(\"gluten\")\n",
    "else:\n",
    "    print(\"pollen\")"
   ]
  },
  {
   "cell_type": "markdown",
   "id": "033e8080",
   "metadata": {
    "slideshow": {
     "slide_type": "fragment"
    }
   },
   "source": [
    "The if/elif/else structure here doesn't make sense. If more than one allergy is present, the code will need to execute more than one of the cases."
   ]
  },
  {
   "cell_type": "code",
   "execution_count": null,
   "id": "f1f2590a",
   "metadata": {
    "slideshow": {
     "slide_type": "subslide"
    }
   },
   "outputs": [],
   "source": [
    "# Attempt 2\n",
    "\n",
    "nuts = \"y\"\n",
    "shellfish = \"n\"\n",
    "gluten = \"y\"\n",
    "pollen = \"n\"\n",
    "\n",
    "print(\"Don't feed me the following types of food: \")\n",
    "if nuts == \"y\":\n",
    "    print(\"nuts\")\n",
    "if shellfish == \"y\":\n",
    "    print(\"shellfish\")\n",
    "if gluten == \"y\":\n",
    "    print(\"gluten\")\n",
    "if pollen == \"y\":\n",
    "    print(\"pollen\")"
   ]
  },
  {
   "cell_type": "markdown",
   "id": "6f1476cb",
   "metadata": {},
   "source": [
    "In this case, each test is independent. if/if/if makes sense."
   ]
  },
  {
   "cell_type": "markdown",
   "id": "25bea612",
   "metadata": {
    "slideshow": {
     "slide_type": "slide"
    }
   },
   "source": [
    "# Example 3: Long jump\n"
   ]
  },
  {
   "cell_type": "code",
   "execution_count": null,
   "id": "7b7809fa",
   "metadata": {},
   "outputs": [],
   "source": [
    "# Attempt 1\n",
    "world_record = 8.95\n",
    "jump_distance = 9.01\n",
    "officially_verified = \"y\"\n",
    "\n",
    "if jump_distance > world_record and officially_verified == \"y\":\n",
    "    print(\"Congratulations, you just set a new world long jump record!\")\n",
    "elif jump_distance > world_record:\n",
    "        print(\"Great jump, but it's not a record without verification.\")\n",
    "else:\n",
    "    print(\"Good try, but not a record\")"
   ]
  },
  {
   "cell_type": "markdown",
   "id": "700ab847",
   "metadata": {
    "slideshow": {
     "slide_type": "fragment"
    }
   },
   "source": [
    "This code is correct. However, there is a more readable way to structure it."
   ]
  },
  {
   "cell_type": "markdown",
   "id": "af5e7e85",
   "metadata": {},
   "source": [
    "## Yet another way to skin a cat"
   ]
  },
  {
   "cell_type": "code",
   "execution_count": null,
   "id": "f20547b7",
   "metadata": {},
   "outputs": [],
   "source": [
    "world_record = 8.95\n",
    "jump_distance = 9.01\n",
    "officially_verified = \"y\"\n",
    "\n",
    "if jump_distance > world_record:\n",
    "    if officially_verified == \"y\":\n",
    "        print(\"Congratulations, you just set a new world long jump record!\")\n",
    "    else:\n",
    "        print(\"Great jump, but it's not a record without verification.\")\n",
    "else:\n",
    "    print(\"Good try, but not a record\")"
   ]
  },
  {
   "cell_type": "markdown",
   "id": "05bc01f4",
   "metadata": {
    "slideshow": {
     "slide_type": "fragment"
    }
   },
   "source": [
    "Conditional statements can be \"nested\" inside one another. For each level of nesting, the indentation level increases."
   ]
  },
  {
   "cell_type": "markdown",
   "id": "ceabbed9",
   "metadata": {
    "slideshow": {
     "slide_type": "subslide"
    }
   },
   "source": [
    "# Code style\n",
    "\n",
    "With complex conditionals, there are often many different ways to represent the same logic. Try to pick a structure that maps correctly to the logic you need, but is also easy (for you and someone else) to understand. The shortest code is not always the best.\n",
    "\n",
    "As you gain more coding experience, your ability to balance conciseness, readability, and simplicity will improve."
   ]
  },
  {
   "cell_type": "markdown",
   "id": "eb227c6c",
   "metadata": {
    "slideshow": {
     "slide_type": "slide"
    }
   },
   "source": [
    "# Exercise - Progressive income tax calculator\n",
    "\n",
    "In a progressive tax, different portions of income are taxed at different rates:\n",
    "\n",
    "| Tax rate | Income amounts |\n",
    "| --- | --- |\n",
    "| 10% |  \\\\$0 to \\\\$10,275 |\n",
    "| 12% | \\\\$10,276 to \\\\$41,775 |\n",
    "| 22% | \\\\$41,776 to \\\\$89,075 |\n",
    "| 24% | \\\\$89,076 to \\\\$170,050 |\n",
    "| 32% | \\\\$170,051 to \\\\$215,950 |\n",
    "| 35% | \\\\$215,951 to \\\\$539,900 |\n",
    "| 37% | \\\\$539,901 or more |"
   ]
  },
  {
   "cell_type": "markdown",
   "id": "57fa9ec0",
   "metadata": {
    "slideshow": {
     "slide_type": "subslide"
    }
   },
   "source": [
    "# Exercise - Progressive income tax calculator\n",
    "\n",
    "e.g. an income of \\\\$90,000 would be taxed:\n",
    "\n",
    "| Bracket | Tax amount |\n",
    "| --- | --- |\n",
    "| 10% for the first \\\\$10,275 | \\\\$1027.5 |\n",
    "| 12% of \\\\$10,276 to \\\\$41,775 | \\\\$3780 |\n",
    "| 22% of \\\\$41,776 to \\\\$89,075| \\\\$10405.78 |\n",
    "| 24% of \\\\$89,076 to \\\\$90,000 | \\\\$221.76 |\n",
    "| Total | \\\\$15434.92 |"
   ]
  },
  {
   "cell_type": "code",
   "execution_count": null,
   "id": "a8c1ebec",
   "metadata": {
    "slideshow": {
     "slide_type": "subslide"
    }
   },
   "outputs": [],
   "source": [
    "# Attempt 1\n",
    "\n",
    "income = 390101\n",
    "tax = 0\n",
    "if income <= 10275:\n",
    "    tax = income * .1\n",
    "elif income <= 41775:\n",
    "    bracket1 = (10275 * .1)\n",
    "    bracket2 = (income - 10275) * .12\n",
    "    tax = bracket1 + bracket2\n",
    "elif income <= 89075:\n",
    "    bracket1 = (10275 * .1)\n",
    "    bracket2 = (41775 - 10275) * .12\n",
    "    bracket3 = (income - 41775) * .22\n",
    "    tax = bracket1 + bracket2 + bracket3\n",
    "elif income <= 170050:\n",
    "    bracket1 = (10275 * .1)\n",
    "    bracket2 = (41775 - 10275) * .12\n",
    "    bracket3 = (89075 - 41775) * .22\n",
    "    bracket4 = (income - 89075) * .24\n",
    "    tax = bracket1 + bracket2 + bracket3 + bracket4\n",
    "elif income <= 215950:\n",
    "    bracket1 = (10275 * .1)\n",
    "    bracket2 = (41775 - 10275) * .12\n",
    "    bracket3 = (89075 - 41775) * .22\n",
    "    bracket4 = (170050 - 89075) * .24\n",
    "    bracket5 = (income - 170050) * .32\n",
    "    tax = bracket1 + bracket2 + bracket3 + bracket4 + bracket5\n",
    "elif income < 539900:\n",
    "    bracket1 = (10275 * .1)\n",
    "    bracket2 = (41775 - 10275) * .12\n",
    "    bracket3 = (89075 - 41775) * .22\n",
    "    bracket4 = (170050 - 89075) * .24\n",
    "    bracket5 = (215950 - 170050) * .32\n",
    "    bracket6 = (income - 215950) * .35\n",
    "    tax = bracket1 + bracket2 + bracket3 + bracket4 + bracket5 + bracket6\n",
    "else:\n",
    "    bracket1 = (10275 * .1)\n",
    "    bracket2 = (41775 - 10275) * .12\n",
    "    bracket3 = (89075 - 41775) * .22\n",
    "    bracket4 = (170050 - 89075) * .24\n",
    "    bracket5 = (215950 - 170050) * .32\n",
    "    bracket6 = (539900 - 215950) * .35\n",
    "    bracket7 = (income - 539900) * .37\n",
    "    tax = bracket1 + bracket2 + bracket3 + bracket4 + bracket5 + bracket6 + bracket7\n",
    "print(\"You owe $\" + str(tax) + \" on income of $\" + str(income) + \". Your tax rate is \" + str(tax / income) + \"%.\")"
   ]
  },
  {
   "cell_type": "markdown",
   "id": "875096b2",
   "metadata": {},
   "source": [
    "## Factoring out common code\n",
    "\n",
    "In the previous example, there was a lot of duplicated code. We can \"factor\" that code out so it isn't repeated."
   ]
  },
  {
   "cell_type": "code",
   "execution_count": null,
   "id": "fca55568",
   "metadata": {},
   "outputs": [],
   "source": [
    "# Attempt 2\n",
    "\n",
    "income = 390101\n",
    "tax = 0\n",
    "\n",
    "bracket1 = (10275 * .1)\n",
    "bracket2 = (41775 - 10275) * .12\n",
    "bracket3 = (89075 - 41775) * .22\n",
    "bracket4 = (170050 - 89075) * .24\n",
    "bracket5 = (215950 - 170050) * .32\n",
    "bracket6 = (539900 - 215950) * .35\n",
    "\n",
    "if income <= 10275:\n",
    "    tax = income * .1\n",
    "elif income <= 41775:\n",
    "    bracket2 = (income - 10275) * .12\n",
    "    tax = bracket1 + bracket2\n",
    "elif income <= 89075:\n",
    "    bracket3 = (income - 41775) * .22\n",
    "    tax = bracket1 + bracket2 + bracket3\n",
    "elif income <= 170050:\n",
    "    bracket4 = (income - 89075) * .24\n",
    "    tax = bracket1 + bracket2 + bracket3 + bracket4\n",
    "elif income <= 215950:\n",
    "    bracket5 = (income - 170050) * .32\n",
    "    tax = bracket1 + bracket2 + bracket3 + bracket4 + bracket5\n",
    "elif income < 539900:\n",
    "    bracket6 = (income - 215950) * .35\n",
    "    tax = bracket1 + bracket2 + bracket3 + bracket4 + bracket5 + bracket6\n",
    "else:\n",
    "    bracket7 = (income - 539900) * .37\n",
    "    tax = bracket1 + bracket2 + bracket3 + bracket4 + bracket5 + bracket6 + bracket7\n",
    "\n",
    "print(\"You owe $\" + str(tax) + \" on income of $\" + str(income) + \". Your tax rate is \" + str(tax / income) + \"%.\")"
   ]
  },
  {
   "cell_type": "markdown",
   "id": "206115ff",
   "metadata": {},
   "source": [
    "# One more refinement"
   ]
  },
  {
   "cell_type": "code",
   "execution_count": null,
   "id": "a5430b44",
   "metadata": {},
   "outputs": [],
   "source": [
    "# Attempt 3\n",
    "\n",
    "income = 390101\n",
    "tax = 0\n",
    "\n",
    "bracket1 = (10275 * .1)\n",
    "bracket2 = bracket1 + (41775 - 10275) * .12\n",
    "bracket3 = bracket2 + (89075 - 41775) * .22\n",
    "bracket4 = bracket3 + (170050 - 89075) * .24\n",
    "bracket5 = bracket4 + (215950 - 170050) * .32\n",
    "bracket6 = bracket5 + (539900 - 215950) * .35\n",
    "\n",
    "if income <= 10275:\n",
    "    tax = income * .1\n",
    "elif income <= 41775:\n",
    "    tax = bracket1 + (income - 10275) * .12\n",
    "elif income <= 89075:\n",
    "    tax = bracket2 + (income - 41775) * .22\n",
    "elif income <= 170050:\n",
    "    tax = bracket3 + (income - 89075) * .24\n",
    "elif income <= 215950:\n",
    "    tax = bracket4 + (income - 170050) * .32\n",
    "elif income < 539900:\n",
    "    tax = bracket5 + (income - 215950) * .35\n",
    "else:\n",
    "    tax = bracket6 + (income - 539900) * .37\n",
    "\n",
    "print(\"You owe $\" + str(tax) + \" on income of $\" + str(income) + \". Your tax rate is \" + str(tax / income) + \"%.\")"
   ]
  },
  {
   "cell_type": "code",
   "execution_count": null,
   "id": "3664505d",
   "metadata": {},
   "outputs": [],
   "source": []
  }
 ],
 "metadata": {
  "celltoolbar": "Slideshow",
  "kernelspec": {
   "display_name": "Python 3 (ipykernel)",
   "language": "python",
   "name": "python3"
  },
  "language_info": {
   "codemirror_mode": {
    "name": "ipython",
    "version": 3
   },
   "file_extension": ".py",
   "mimetype": "text/x-python",
   "name": "python",
   "nbconvert_exporter": "python",
   "pygments_lexer": "ipython3",
   "version": "3.10.9"
  }
 },
 "nbformat": 4,
 "nbformat_minor": 5
}
