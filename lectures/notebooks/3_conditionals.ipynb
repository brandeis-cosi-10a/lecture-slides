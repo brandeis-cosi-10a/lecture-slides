{
 "cells": [
  {
   "cell_type": "markdown",
   "id": "1ee8a1d2",
   "metadata": {
    "slideshow": {
     "slide_type": "slide"
    }
   },
   "source": [
    "# Conditionals\n",
    "\n",
    "<style>\n",
    "section.present > section.present { \n",
    "    max-height: 100%; \n",
    "    overflow-y: scroll;\n",
    "}\n",
    "</style>\n",
    "\n",
    "<small><a href=\"https://colab.research.google.com/github/brandeis-jdelfino/cosi-10a/blob/main/lectures/notebooks/3_conditionals.ipynb\">Link to interactive slides on Google Colab</a></small>"
   ]
  },
  {
   "cell_type": "markdown",
   "id": "8ff5e354",
   "metadata": {
    "slideshow": {
     "slide_type": "subslide"
    }
   },
   "source": [
    "# Movie scripts vs. Choose Your Own Adventure\n",
    "\n",
    "So far, we've been writing programs that resemble scripts for movies: we define a set of steps to take, and then we walk through them one by one, with the same path and outcome each time.\n",
    "\n",
    "Today, we'll look at **conditional execution**, which will let us write programs that don't always take the same path - kind of like a Choose Your Own Adventure book.\n",
    "\n",
    "<br/><br/>\n",
    "<img src=\"./images/choose-your-own-adventure.gif\" style=\"display:block; margin:auto; width: 50%;\"/>\n"
   ]
  },
  {
   "cell_type": "markdown",
   "id": "e4f0420f",
   "metadata": {
    "slideshow": {
     "slide_type": "slide"
    }
   },
   "source": [
    "# `if` statements\n",
    "\n",
    "An `if` statement is the most basic conditional statement in Python. It looks like this:\n",
    "```\n",
    "if <test>:\n",
    "    statement(s)\n",
    "```"
   ]
  },
  {
   "cell_type": "code",
   "execution_count": null,
   "id": "e134df66",
   "metadata": {
    "execution": {
     "iopub.execute_input": "2023-09-06T20:54:30.915795Z",
     "iopub.status.busy": "2023-09-06T20:54:30.915201Z",
     "iopub.status.idle": "2023-09-06T20:54:30.927393Z",
     "shell.execute_reply": "2023-09-06T20:54:30.926579Z"
    }
   },
   "outputs": [],
   "source": [
    "x = 10\n",
    "if x > 5:\n",
    "    print(\"This print executes when x is greater than 5\")"
   ]
  },
  {
   "cell_type": "code",
   "execution_count": null,
   "id": "1f8e2b4a",
   "metadata": {
    "execution": {
     "iopub.execute_input": "2023-09-06T20:54:30.931129Z",
     "iopub.status.busy": "2023-09-06T20:54:30.930816Z",
     "iopub.status.idle": "2023-09-06T20:54:30.935322Z",
     "shell.execute_reply": "2023-09-06T20:54:30.934532Z"
    },
    "slideshow": {
     "slide_type": "subslide"
    }
   },
   "outputs": [],
   "source": [
    "x = 10\n",
    "if x > 5:\n",
    "    print(\"This print executes when x is greater than 5\")"
   ]
  },
  {
   "cell_type": "markdown",
   "id": "597f3f4c",
   "metadata": {
    "slideshow": {
     "slide_type": "-"
    }
   },
   "source": [
    "* `x > 5` is the **test**. It must be a **boolean expression**.\n",
    "  * A **boolean expression** is any expression that evaluates to `True` or `False`\n",
    "\n",
    "* `print(\"This print executes when x is greater than 5\")` is a statement \"inside\" the if. \n",
    "  * It is **conditionally executed**.\n",
    "  * i.e. It is executed if the test `x  > 5` evaluates to `True`."
   ]
  },
  {
   "cell_type": "markdown",
   "id": "c2efe8b6",
   "metadata": {
    "slideshow": {
     "slide_type": "subslide"
    }
   },
   "source": [
    "## Indentation matters\n",
    "\n",
    "The lines that are indented after the `if <test>:` line are the lines that are conditionally executed.\n",
    "\n",
    "The conditional execution stops when the indentation stops."
   ]
  },
  {
   "cell_type": "code",
   "execution_count": null,
   "id": "d421b12c",
   "metadata": {
    "execution": {
     "iopub.execute_input": "2023-09-06T20:54:30.939196Z",
     "iopub.status.busy": "2023-09-06T20:54:30.938879Z",
     "iopub.status.idle": "2023-09-06T20:54:30.943199Z",
     "shell.execute_reply": "2023-09-06T20:54:30.942481Z"
    }
   },
   "outputs": [],
   "source": [
    "x = 10\n",
    "if x > 5:\n",
    "    print(\"This prints if x is greater than 5\")\n",
    "    print(\"This also prints when x is greater than 5\")\n",
    "    \n",
    "print(\"This always prints\")"
   ]
  },
  {
   "cell_type": "markdown",
   "id": "9235e7c2",
   "metadata": {},
   "source": [
    "`print(\"This always prints\")` is always executed "
   ]
  },
  {
   "cell_type": "markdown",
   "id": "095b7716",
   "metadata": {
    "slideshow": {
     "slide_type": "slide"
    }
   },
   "source": [
    "# Relational operators\n",
    "\n",
    "| Operator | Meaning | Example | Result |\n",
    "| --- | --- | --- | --- |\n",
    "| == | equal | 1 + 1 == 2 | True |\n",
    "| != | not equal | 2 + 3 != 4 | True |\n",
    "| < | less than | 10 < 5 | False |\n",
    "| > | greater than | 10 > 5 | True |\n",
    "| <= | less than or equal to | 1 + 1 <= 2 | True |\n",
    "| >= | greater than or equal to | 3 + 4 >= 6 | False |"
   ]
  },
  {
   "cell_type": "markdown",
   "id": "29c79a9e",
   "metadata": {
    "slideshow": {
     "slide_type": "slide"
    }
   },
   "source": [
    "# `if/else` statements\n",
    "\n",
    "You can add an `else` clause to an `if` statement. The `else` clause will execute if the test evaluates to `False`\n",
    "\n",
    "```\n",
    "if <test>:\n",
    "    statement(s)\n",
    "else:\n",
    "    statement(s)\n",
    "```"
   ]
  },
  {
   "cell_type": "code",
   "execution_count": null,
   "id": "bf00f69c",
   "metadata": {
    "execution": {
     "iopub.execute_input": "2023-09-06T20:54:30.946681Z",
     "iopub.status.busy": "2023-09-06T20:54:30.946408Z",
     "iopub.status.idle": "2023-09-06T20:54:30.950053Z",
     "shell.execute_reply": "2023-09-06T20:54:30.949439Z"
    }
   },
   "outputs": [],
   "source": [
    "x = 4\n",
    "if x > 5:\n",
    "    print(\"x is big!\")\n",
    "else:\n",
    "    print(\"x is small!\")"
   ]
  },
  {
   "cell_type": "markdown",
   "id": "07c5be4b",
   "metadata": {
    "slideshow": {
     "slide_type": "slide"
    }
   },
   "source": [
    "# `if/elif/else` statements\n",
    "\n",
    "The last variation is \"if/else-if/else\". \n",
    "\n",
    "```\n",
    "if <test1>:\n",
    "    statement(s)\n",
    "elif <test2>:\n",
    "    statement(s)\n",
    "else:\n",
    "    statement(s)\n",
    "```\n",
    "\n",
    "You can have as many `elif` clauses as you want. You can also omit the `else` clause.\n",
    "\n",
    "Each `elif` test is only performed if all the tests before it evaluate to `False`."
   ]
  },
  {
   "cell_type": "code",
   "execution_count": null,
   "id": "6b646575",
   "metadata": {
    "execution": {
     "iopub.execute_input": "2023-09-06T20:54:30.954067Z",
     "iopub.status.busy": "2023-09-06T20:54:30.953730Z",
     "iopub.status.idle": "2023-09-06T20:54:30.957992Z",
     "shell.execute_reply": "2023-09-06T20:54:30.957325Z"
    }
   },
   "outputs": [],
   "source": [
    "x = 4\n",
    "if x > 100:\n",
    "    print(\"x is really big!\")\n",
    "elif x > 10:\n",
    "    print(\"x is kinda big\")\n",
    "else:\n",
    "    print(\"x is small!\")"
   ]
  },
  {
   "cell_type": "markdown",
   "id": "3db8dc32",
   "metadata": {
    "slideshow": {
     "slide_type": "slide"
    }
   },
   "source": [
    "# Logic\n",
    "\n",
    "There are many different ways to structure conditional execution logic. Learning to choose the best one takes practice. Let's look at a few examples."
   ]
  },
  {
   "cell_type": "markdown",
   "id": "4264b195",
   "metadata": {
    "slideshow": {
     "slide_type": "subslide"
    }
   },
   "source": [
    "# Example 1: Grade buckets"
   ]
  },
  {
   "cell_type": "code",
   "execution_count": null,
   "id": "5a6bdea9",
   "metadata": {
    "execution": {
     "iopub.execute_input": "2023-09-06T20:54:30.961758Z",
     "iopub.status.busy": "2023-09-06T20:54:30.961454Z",
     "iopub.status.idle": "2023-09-06T20:54:30.966418Z",
     "shell.execute_reply": "2023-09-06T20:54:30.965583Z"
    }
   },
   "outputs": [],
   "source": [
    "# Attempt 1\n",
    "grade = 81\n",
    "if grade > 65:\n",
    "    print(\"D\")\n",
    "if grade > 72:\n",
    "    print(\"C\")\n",
    "if grade > 79:\n",
    "    print(\"B\")\n",
    "if grade > 89:\n",
    "    print(\"A\")\n",
    "else:\n",
    "    print(\"F\")"
   ]
  },
  {
   "cell_type": "markdown",
   "id": "158197b9",
   "metadata": {
    "slideshow": {
     "slide_type": "fragment"
    }
   },
   "source": [
    "This logic is incorrect - each `if` is evaluated independently. This code allows a number grade to be categorized under multiple letter grades."
   ]
  },
  {
   "cell_type": "code",
   "execution_count": null,
   "id": "784109b6",
   "metadata": {
    "execution": {
     "iopub.execute_input": "2023-09-06T20:54:30.975197Z",
     "iopub.status.busy": "2023-09-06T20:54:30.971984Z",
     "iopub.status.idle": "2023-09-06T20:54:30.989881Z",
     "shell.execute_reply": "2023-09-06T20:54:30.988843Z"
    },
    "slideshow": {
     "slide_type": "subslide"
    }
   },
   "outputs": [],
   "source": [
    "# Attempt 2\n",
    "grade = 81\n",
    "if grade > 65:\n",
    "    print(\"D\")\n",
    "elif grade > 72:\n",
    "    print(\"C\")\n",
    "elif grade > 79:\n",
    "    print(\"B\")\n",
    "elif grade > 89:\n",
    "    print(\"A\")\n",
    "else:\n",
    "    print(\"F\")"
   ]
  },
  {
   "cell_type": "markdown",
   "id": "ed2dadae",
   "metadata": {
    "slideshow": {
     "slide_type": "fragment"
    }
   },
   "source": [
    "Still incorrect - by using `if/elif/else` we now get a single letter grade, but the order of our tests leads to an incorrect answer."
   ]
  },
  {
   "cell_type": "code",
   "execution_count": null,
   "id": "030e9684",
   "metadata": {
    "execution": {
     "iopub.execute_input": "2023-09-06T20:54:30.994031Z",
     "iopub.status.busy": "2023-09-06T20:54:30.993631Z",
     "iopub.status.idle": "2023-09-06T20:54:31.000761Z",
     "shell.execute_reply": "2023-09-06T20:54:30.999321Z"
    },
    "slideshow": {
     "slide_type": "subslide"
    }
   },
   "outputs": [],
   "source": [
    "# Attempt 3\n",
    "grade = 81\n",
    "if grade > 89:\n",
    "    print(\"A\")\n",
    "elif grade > 79:\n",
    "    print(\"B\")\n",
    "elif grade > 72:\n",
    "    print(\"C\")\n",
    "elif grade > 65:\n",
    "    print(\"D\")\n",
    "else:\n",
    "    print(\"F\")"
   ]
  },
  {
   "cell_type": "markdown",
   "id": "520feac8",
   "metadata": {
    "slideshow": {
     "slide_type": "fragment"
    }
   },
   "source": [
    "Now we get a correct answer!"
   ]
  },
  {
   "cell_type": "markdown",
   "id": "b875f3a6",
   "metadata": {
    "slideshow": {
     "slide_type": "subslide"
    }
   },
   "source": [
    "## Brief detour: Boolean operators\n",
    "\n",
    "From highest to lowest precedence:\n",
    "\n",
    "| Operation | Meaning |\n",
    "| --- | --- | \n",
    "| `x or y` | `True` if `x` is `True` OR `y` is `True` |\n",
    "| `x and y` | `True` if `x` is `True` AND `y` is `True` |\n",
    "| `not x` | `True` if `x` is `False`, `False` if `x` is `True` |\n"
   ]
  },
  {
   "cell_type": "code",
   "execution_count": null,
   "id": "e30d45d2",
   "metadata": {
    "execution": {
     "iopub.execute_input": "2023-09-06T20:54:31.004756Z",
     "iopub.status.busy": "2023-09-06T20:54:31.004445Z",
     "iopub.status.idle": "2023-09-06T20:54:31.014071Z",
     "shell.execute_reply": "2023-09-06T20:54:31.012863Z"
    }
   },
   "outputs": [],
   "source": [
    "(1 + 1 == 3) or (1 + 1 == 2)"
   ]
  },
  {
   "cell_type": "code",
   "execution_count": null,
   "id": "28b1580b",
   "metadata": {
    "execution": {
     "iopub.execute_input": "2023-09-06T20:54:31.017891Z",
     "iopub.status.busy": "2023-09-06T20:54:31.017578Z",
     "iopub.status.idle": "2023-09-06T20:54:31.022033Z",
     "shell.execute_reply": "2023-09-06T20:54:31.021415Z"
    }
   },
   "outputs": [],
   "source": [
    "(1 + 1 == 3) and (1 + 1 == 2)"
   ]
  },
  {
   "cell_type": "code",
   "execution_count": null,
   "id": "117727f9",
   "metadata": {
    "execution": {
     "iopub.execute_input": "2023-09-06T20:54:31.025456Z",
     "iopub.status.busy": "2023-09-06T20:54:31.024899Z",
     "iopub.status.idle": "2023-09-06T20:54:31.030106Z",
     "shell.execute_reply": "2023-09-06T20:54:31.029288Z"
    }
   },
   "outputs": [],
   "source": [
    "not (1 + 1 == 2)"
   ]
  },
  {
   "cell_type": "markdown",
   "id": "022cefb1",
   "metadata": {
    "slideshow": {
     "slide_type": "subslide"
    }
   },
   "source": [
    "## More than one way to skin a cat\n",
    "\n",
    "Is this different from the last attempt?"
   ]
  },
  {
   "cell_type": "code",
   "execution_count": null,
   "id": "cf96a41c",
   "metadata": {
    "execution": {
     "iopub.execute_input": "2023-09-06T20:54:31.033816Z",
     "iopub.status.busy": "2023-09-06T20:54:31.033439Z",
     "iopub.status.idle": "2023-09-06T20:54:31.038623Z",
     "shell.execute_reply": "2023-09-06T20:54:31.037959Z"
    },
    "slideshow": {
     "slide_type": "-"
    }
   },
   "outputs": [],
   "source": [
    "# Attempt 4\n",
    "grade = 81\n",
    "if grade >= 0 and grade <= 65:\n",
    "    print(\"F\")\n",
    "if grade >= 66 and grade <= 72:\n",
    "    print(\"D\")\n",
    "if grade >= 73 and grade <= 79:\n",
    "    print(\"C\")\n",
    "if grade >= 80 and grade <= 89:\n",
    "    print(\"B\")\n",
    "if grade >= 90 and grade <= 100:\n",
    "    print(\"A\")"
   ]
  },
  {
   "cell_type": "markdown",
   "id": "77a97d35",
   "metadata": {
    "slideshow": {
     "slide_type": "subslide"
    }
   },
   "source": [
    "## More than one way to skin a cat\n",
    "\n",
    "* Attempt 4 (if/if/if) and Attempt 3 (if/elif/else) have almost identical logic.\n",
    "* Both are correct for the purposes of this exercise.\n",
    "  * What happens with each if we have a grade < 0 or > 100?\n",
    "* Attempt 3 (if/elif/else) is slightly better style.\n",
    "  * An if/elif/else is guaranteed to execute exactly one case, which makes sense for bucketing a grade.\n",
    "  * Attempt 4 also has some logic duplicated - the upper and lower bounds are specified for each grade band. If the bands change, the code needs to be updated in 2 places."
   ]
  },
  {
   "cell_type": "markdown",
   "id": "cbbbf68f",
   "metadata": {},
   "source": [
    "## [Slido](https://wall.sli.do/event/nL7RNpye9SGtTzAPwEprpq?section=fa767b13-221d-4960-ab2d-be2a418d9b39)"
   ]
  },
  {
   "cell_type": "markdown",
   "id": "38a9ea06",
   "metadata": {
    "slideshow": {
     "slide_type": "subslide"
    }
   },
   "source": [
    "# Example 2: Allergies"
   ]
  },
  {
   "cell_type": "code",
   "execution_count": null,
   "id": "ad6096d9",
   "metadata": {
    "execution": {
     "iopub.execute_input": "2023-09-06T20:54:31.042452Z",
     "iopub.status.busy": "2023-09-06T20:54:31.042181Z",
     "iopub.status.idle": "2023-09-06T20:54:31.046369Z",
     "shell.execute_reply": "2023-09-06T20:54:31.045742Z"
    }
   },
   "outputs": [],
   "source": [
    "# Attempt 1\n",
    "\n",
    "nuts = \"n\"\n",
    "shellfish = \"y\"\n",
    "gluten = \"n\"\n",
    "pollen = \"n\"\n",
    "\n",
    "print(\"Don't feed me the following types of food: \")\n",
    "if nuts == \"y\":\n",
    "    print(\"nuts\")\n",
    "elif shellfish == \"y\":\n",
    "    print(\"shellfish\")\n",
    "elif gluten == \"y\":\n",
    "    print(\"gluten\")\n",
    "else:\n",
    "    print(\"pollen\")"
   ]
  },
  {
   "cell_type": "markdown",
   "id": "138578b1",
   "metadata": {
    "slideshow": {
     "slide_type": "fragment"
    }
   },
   "source": [
    "Looks ok... but wait..."
   ]
  },
  {
   "cell_type": "markdown",
   "id": "a6545175",
   "metadata": {
    "slideshow": {
     "slide_type": "fragment"
    }
   },
   "source": [
    "This code is not correct with more than one allergy."
   ]
  },
  {
   "cell_type": "code",
   "execution_count": null,
   "id": "9e9699c8",
   "metadata": {
    "execution": {
     "iopub.execute_input": "2023-09-06T20:54:31.049650Z",
     "iopub.status.busy": "2023-09-06T20:54:31.049389Z",
     "iopub.status.idle": "2023-09-06T20:54:31.053478Z",
     "shell.execute_reply": "2023-09-06T20:54:31.052762Z"
    },
    "slideshow": {
     "slide_type": "subslide"
    }
   },
   "outputs": [],
   "source": [
    "# Attempt 1\n",
    "\n",
    "nuts = \"y\"\n",
    "shellfish = \"y\"\n",
    "gluten = \"n\"\n",
    "pollen = \"n\"\n",
    "\n",
    "print(\"Don't feed me the following types of food: \")\n",
    "if nuts == \"y\":\n",
    "    print(\"nuts\")\n",
    "elif shellfish == \"y\":\n",
    "    print(\"shellfish\")\n",
    "elif gluten == \"y\":\n",
    "    print(\"gluten\")\n",
    "else:\n",
    "    print(\"pollen\")"
   ]
  },
  {
   "cell_type": "markdown",
   "id": "976565c1",
   "metadata": {
    "slideshow": {
     "slide_type": "fragment"
    }
   },
   "source": [
    "The if/elif/else structure here doesn't make sense. If more than one allergy is present, the code will need to execute more than one of the cases."
   ]
  },
  {
   "cell_type": "code",
   "execution_count": null,
   "id": "6c0d923a",
   "metadata": {
    "execution": {
     "iopub.execute_input": "2023-09-06T20:54:31.056570Z",
     "iopub.status.busy": "2023-09-06T20:54:31.056309Z",
     "iopub.status.idle": "2023-09-06T20:54:31.060536Z",
     "shell.execute_reply": "2023-09-06T20:54:31.059922Z"
    },
    "slideshow": {
     "slide_type": "subslide"
    }
   },
   "outputs": [],
   "source": [
    "# Attempt 2\n",
    "\n",
    "nuts = \"y\"\n",
    "shellfish = \"n\"\n",
    "gluten = \"y\"\n",
    "pollen = \"n\"\n",
    "\n",
    "print(\"Don't feed me the following types of food: \")\n",
    "if nuts == \"y\":\n",
    "    print(\"nuts\")\n",
    "if shellfish == \"y\":\n",
    "    print(\"shellfish\")\n",
    "if gluten == \"y\":\n",
    "    print(\"gluten\")\n",
    "if pollen == \"y\":\n",
    "    print(\"pollen\")"
   ]
  },
  {
   "cell_type": "markdown",
   "id": "fc2a7f0c",
   "metadata": {},
   "source": [
    "In this case, each test is independent. if/if/if makes sense."
   ]
  },
  {
   "cell_type": "markdown",
   "id": "bfc04716",
   "metadata": {
    "slideshow": {
     "slide_type": "slide"
    }
   },
   "source": [
    "# Exercise: Fizzbuzz\n",
    "\n",
    "* Write a program that prompts the user for a number, and prints it. \n",
    "* If the number is divisible by 3, print \"FIZZ\" instead of the number.\n",
    "* If the number is divisible by 5, print \"BUZZ\" instead of the number.\n",
    "* If the number is divisible by 3 AND 5, print \"FIZZBUZZ\" instead of the number.\n",
    "\n",
    "repl.it: [Lecture 3 (Conditionals) exercises: FizzBuzz](https://replit.com/@cosi-10a-fall23/Fizzbuzz)\n",
    "\n",
    "If you solve this, you've just passed a first round screening question for many software engineering jobs!"
   ]
  },
  {
   "cell_type": "code",
   "execution_count": null,
   "id": "cf526794",
   "metadata": {
    "execution": {
     "iopub.execute_input": "2023-09-06T20:54:31.063625Z",
     "iopub.status.busy": "2023-09-06T20:54:31.063361Z",
     "iopub.status.idle": "2023-09-06T20:54:31.423173Z",
     "shell.execute_reply": "2023-09-06T20:54:31.422045Z"
    },
    "slideshow": {
     "slide_type": "subslide"
    },
    "tags": [
     "remove-output"
    ]
   },
   "outputs": [],
   "source": [
    "# %load ../../snippets/fizzbuzz.py\n",
    "number = int(input(\"What's your number? \"))\n",
    "\n",
    "if number % 3 == 0 and number % 5 == 0:\n",
    "  print(\"FIZZBUZZ\")\n",
    "elif number % 3 == 0:\n",
    "  print(\"FIZZ\")\n",
    "elif number % 5 == 0:\n",
    "  print(\"BUZZ\")\n",
    "else:\n",
    "  print(number)"
   ]
  },
  {
   "cell_type": "markdown",
   "id": "9529f0d3",
   "metadata": {
    "slideshow": {
     "slide_type": "subslide"
    }
   },
   "source": [
    "# Example 3: Long jump\n"
   ]
  },
  {
   "cell_type": "code",
   "execution_count": null,
   "id": "7d473b92",
   "metadata": {
    "execution": {
     "iopub.execute_input": "2023-09-06T20:54:31.428534Z",
     "iopub.status.busy": "2023-09-06T20:54:31.427285Z",
     "iopub.status.idle": "2023-09-06T20:54:31.433459Z",
     "shell.execute_reply": "2023-09-06T20:54:31.432439Z"
    },
    "slideshow": {
     "slide_type": "-"
    }
   },
   "outputs": [],
   "source": [
    "# Attempt 1\n",
    "world_record = 8.95\n",
    "jump_distance = 9.01\n",
    "officially_verified = \"y\"\n",
    "\n",
    "if jump_distance > world_record and officially_verified == \"y\":\n",
    "    print(\"Congratulations, you just set a new world long jump record!\")\n",
    "elif jump_distance > world_record:\n",
    "        print(\"Great jump, but it's not a record without verification.\")\n",
    "else:\n",
    "    print(\"Good try, but not a record\")"
   ]
  },
  {
   "cell_type": "markdown",
   "id": "eb58b6ae",
   "metadata": {
    "slideshow": {
     "slide_type": "fragment"
    }
   },
   "source": [
    "This code is correct. However, there is a more readable way to structure it."
   ]
  },
  {
   "cell_type": "markdown",
   "id": "c66aea9a",
   "metadata": {},
   "source": [
    "## Yet another way to skin a cat"
   ]
  },
  {
   "cell_type": "code",
   "execution_count": null,
   "id": "473d9e91",
   "metadata": {
    "execution": {
     "iopub.execute_input": "2023-09-06T20:54:31.436966Z",
     "iopub.status.busy": "2023-09-06T20:54:31.436684Z",
     "iopub.status.idle": "2023-09-06T20:54:31.441511Z",
     "shell.execute_reply": "2023-09-06T20:54:31.440857Z"
    }
   },
   "outputs": [],
   "source": [
    "world_record = 8.95\n",
    "jump_distance = 9.01\n",
    "officially_verified = \"y\"\n",
    "\n",
    "if jump_distance > world_record:\n",
    "    if officially_verified == \"y\":\n",
    "        print(\"Congratulations, you just set a new world long jump record!\")\n",
    "    else:\n",
    "        print(\"Great jump, but it's not a record without verification.\")\n",
    "else:\n",
    "    print(\"Good try, but not a record\")"
   ]
  },
  {
   "cell_type": "markdown",
   "id": "b9461431",
   "metadata": {
    "slideshow": {
     "slide_type": "fragment"
    }
   },
   "source": [
    "Conditional statements can be \"nested\" inside one another. For each level of nesting, the indentation level increases."
   ]
  },
  {
   "cell_type": "markdown",
   "id": "6e57798e",
   "metadata": {
    "slideshow": {
     "slide_type": "subslide"
    }
   },
   "source": [
    "# Code style\n",
    "\n",
    "With complex conditionals, there are often many different ways to represent the same logic. Try to pick a structure that maps correctly to the logic you need, but is also easy (for you and someone else) to understand. The shortest code is not always the best.\n",
    "\n",
    "As you gain more coding experience, your ability to balance conciseness, readability, and simplicity will improve."
   ]
  },
  {
   "cell_type": "markdown",
   "id": "300f9ab2",
   "metadata": {},
   "source": [
    "## [Slido](https://wall.sli.do/event/nL7RNpye9SGtTzAPwEprpq?section=fa767b13-221d-4960-ab2d-be2a418d9b39)"
   ]
  },
  {
   "cell_type": "markdown",
   "id": "9abfa128",
   "metadata": {
    "slideshow": {
     "slide_type": "slide"
    }
   },
   "source": [
    "# Exercise - Progressive income tax calculator\n",
    "\n",
    "In a progressive tax, different portions of income are taxed at different rates:\n",
    "\n",
    "| Tax rate | Income amounts |\n",
    "| --- | --- |\n",
    "| 10% |  \\\\$0 to \\\\$10,275 |\n",
    "| 12% | \\\\$10,276 to \\\\$41,775 |\n",
    "| 22% | \\\\$41,776 to \\\\$89,075 |\n",
    "| 24% | \\\\$89,076 to \\\\$170,050 |\n",
    "| 32% | \\\\$170,051 to \\\\$215,950 |\n",
    "| 35% | \\\\$215,951 to \\\\$539,900 |\n",
    "| 37% | \\\\$539,901 or more |"
   ]
  },
  {
   "cell_type": "markdown",
   "id": "bdb86372",
   "metadata": {
    "slideshow": {
     "slide_type": "subslide"
    }
   },
   "source": [
    "# Exercise - Progressive income tax calculator\n",
    "\n",
    "e.g. an income of \\\\$90,000 would be taxed:\n",
    "\n",
    "| Bracket | Tax amount |\n",
    "| --- | --- |\n",
    "| 10% for the first \\\\$10,275 | \\\\$1027.5 |\n",
    "| 12% of \\\\$10,276 to \\\\$41,775 | \\\\$3780 |\n",
    "| 22% of \\\\$41,776 to \\\\$89,075| \\\\$10405.78 |\n",
    "| 24% of \\\\$89,076 to \\\\$90,000 | \\\\$221.76 |\n",
    "| Total | \\\\$15434.92 |"
   ]
  },
  {
   "cell_type": "code",
   "execution_count": null,
   "id": "bf81fb25",
   "metadata": {
    "execution": {
     "iopub.execute_input": "2023-09-06T20:54:31.445419Z",
     "iopub.status.busy": "2023-09-06T20:54:31.445083Z",
     "iopub.status.idle": "2023-09-06T20:54:31.454909Z",
     "shell.execute_reply": "2023-09-06T20:54:31.454287Z"
    },
    "slideshow": {
     "slide_type": "subslide"
    }
   },
   "outputs": [],
   "source": [
    "# Attempt 1\n",
    "\n",
    "income = 390101\n",
    "tax = 0\n",
    "if income <= 10275:\n",
    "    tax = income * .1\n",
    "elif income <= 41775:\n",
    "    bracket1 = (10275 * .1)\n",
    "    bracket2 = (income - 10275) * .12\n",
    "    tax = bracket1 + bracket2\n",
    "elif income <= 89075:\n",
    "    bracket1 = (10275 * .1)\n",
    "    bracket2 = (41775 - 10275) * .12\n",
    "    bracket3 = (income - 41775) * .22\n",
    "    tax = bracket1 + bracket2 + bracket3\n",
    "elif income <= 170050:\n",
    "    bracket1 = (10275 * .1)\n",
    "    bracket2 = (41775 - 10275) * .12\n",
    "    bracket3 = (89075 - 41775) * .22\n",
    "    bracket4 = (income - 89075) * .24\n",
    "    tax = bracket1 + bracket2 + bracket3 + bracket4\n",
    "elif income <= 215950:\n",
    "    bracket1 = (10275 * .1)\n",
    "    bracket2 = (41775 - 10275) * .12\n",
    "    bracket3 = (89075 - 41775) * .22\n",
    "    bracket4 = (170050 - 89075) * .24\n",
    "    bracket5 = (income - 170050) * .32\n",
    "    tax = bracket1 + bracket2 + bracket3 + bracket4 + bracket5\n",
    "elif income < 539900:\n",
    "    bracket1 = (10275 * .1)\n",
    "    bracket2 = (41775 - 10275) * .12\n",
    "    bracket3 = (89075 - 41775) * .22\n",
    "    bracket4 = (170050 - 89075) * .24\n",
    "    bracket5 = (215950 - 170050) * .32\n",
    "    bracket6 = (income - 215950) * .35\n",
    "    tax = bracket1 + bracket2 + bracket3 + bracket4 + bracket5 + bracket6\n",
    "else:\n",
    "    bracket1 = (10275 * .1)\n",
    "    bracket2 = (41775 - 10275) * .12\n",
    "    bracket3 = (89075 - 41775) * .22\n",
    "    bracket4 = (170050 - 89075) * .24\n",
    "    bracket5 = (215950 - 170050) * .32\n",
    "    bracket6 = (539900 - 215950) * .35\n",
    "    bracket7 = (income - 539900) * .37\n",
    "    tax = bracket1 + bracket2 + bracket3 + bracket4 + bracket5 + bracket6 + bracket7\n",
    "print(\"You owe $\" + str(tax) + \" on income of $\" + str(income) + \". Your tax rate is \" + str(tax / income) + \"%.\")"
   ]
  },
  {
   "cell_type": "markdown",
   "id": "172ecf61",
   "metadata": {},
   "source": [
    "## Factoring out common code\n",
    "\n",
    "In the previous example, there was a lot of duplicated code. We can \"factor\" that code out so it isn't repeated."
   ]
  },
  {
   "cell_type": "code",
   "execution_count": null,
   "id": "70f4a779",
   "metadata": {
    "execution": {
     "iopub.execute_input": "2023-09-06T20:54:31.458528Z",
     "iopub.status.busy": "2023-09-06T20:54:31.458195Z",
     "iopub.status.idle": "2023-09-06T20:54:31.465371Z",
     "shell.execute_reply": "2023-09-06T20:54:31.464522Z"
    }
   },
   "outputs": [],
   "source": [
    "# Attempt 2\n",
    "\n",
    "income = 390101\n",
    "tax = 0\n",
    "\n",
    "bracket1 = (10275 * .1)\n",
    "bracket2 = (41775 - 10275) * .12\n",
    "bracket3 = (89075 - 41775) * .22\n",
    "bracket4 = (170050 - 89075) * .24\n",
    "bracket5 = (215950 - 170050) * .32\n",
    "bracket6 = (539900 - 215950) * .35\n",
    "\n",
    "if income <= 10275:\n",
    "    tax = income * .1\n",
    "elif income <= 41775:\n",
    "    bracket2 = (income - 10275) * .12\n",
    "    tax = bracket1 + bracket2\n",
    "elif income <= 89075:\n",
    "    bracket3 = (income - 41775) * .22\n",
    "    tax = bracket1 + bracket2 + bracket3\n",
    "elif income <= 170050:\n",
    "    bracket4 = (income - 89075) * .24\n",
    "    tax = bracket1 + bracket2 + bracket3 + bracket4\n",
    "elif income <= 215950:\n",
    "    bracket5 = (income - 170050) * .32\n",
    "    tax = bracket1 + bracket2 + bracket3 + bracket4 + bracket5\n",
    "elif income < 539900:\n",
    "    bracket6 = (income - 215950) * .35\n",
    "    tax = bracket1 + bracket2 + bracket3 + bracket4 + bracket5 + bracket6\n",
    "else:\n",
    "    bracket7 = (income - 539900) * .37\n",
    "    tax = bracket1 + bracket2 + bracket3 + bracket4 + bracket5 + bracket6 + bracket7\n",
    "\n",
    "print(\"You owe $\" + str(tax) + \" on income of $\" + str(income) + \". Your tax rate is \" + str(tax / income) + \"%.\")"
   ]
  },
  {
   "cell_type": "markdown",
   "id": "595235d6",
   "metadata": {},
   "source": [
    "# One more refinement"
   ]
  },
  {
   "cell_type": "code",
   "execution_count": null,
   "id": "b735ffeb",
   "metadata": {
    "execution": {
     "iopub.execute_input": "2023-09-06T20:54:31.470135Z",
     "iopub.status.busy": "2023-09-06T20:54:31.469834Z",
     "iopub.status.idle": "2023-09-06T20:54:31.476227Z",
     "shell.execute_reply": "2023-09-06T20:54:31.475622Z"
    }
   },
   "outputs": [],
   "source": [
    "# Attempt 3\n",
    "\n",
    "income = 390101\n",
    "tax = 0\n",
    "\n",
    "bracket1 = (10275 * .1)\n",
    "bracket2 = bracket1 + (41775 - 10275) * .12\n",
    "bracket3 = bracket2 + (89075 - 41775) * .22\n",
    "bracket4 = bracket3 + (170050 - 89075) * .24\n",
    "bracket5 = bracket4 + (215950 - 170050) * .32\n",
    "bracket6 = bracket5 + (539900 - 215950) * .35\n",
    "\n",
    "if income <= 10275:\n",
    "    tax = income * .1\n",
    "elif income <= 41775:\n",
    "    tax = bracket1 + (income - 10275) * .12\n",
    "elif income <= 89075:\n",
    "    tax = bracket2 + (income - 41775) * .22\n",
    "elif income <= 170050:\n",
    "    tax = bracket3 + (income - 89075) * .24\n",
    "elif income <= 215950:\n",
    "    tax = bracket4 + (income - 170050) * .32\n",
    "elif income < 539900:\n",
    "    tax = bracket5 + (income - 215950) * .35\n",
    "else:\n",
    "    tax = bracket6 + (income - 539900) * .37\n",
    "\n",
    "print(\"You owe $\" + str(tax) + \" on income of $\" + str(income) + \". Your tax rate is \" + str(tax / income) + \"%.\")"
   ]
  }
 ],
 "metadata": {
  "celltoolbar": "Slideshow",
  "kernelspec": {
   "display_name": "Python 3 (ipykernel)",
   "language": "python",
   "name": "python3"
  },
  "language_info": {
   "codemirror_mode": {
    "name": "ipython",
    "version": 3
   },
   "file_extension": ".py",
   "mimetype": "text/x-python",
   "name": "python",
   "nbconvert_exporter": "python",
   "pygments_lexer": "ipython3",
   "version": "3.10.9"
  }
 },
 "nbformat": 4,
 "nbformat_minor": 5
}
