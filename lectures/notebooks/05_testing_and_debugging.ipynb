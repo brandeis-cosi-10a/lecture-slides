{
 "cells": [
  {
   "cell_type": "markdown",
   "id": "26653147",
   "metadata": {},
   "source": [
    "# Cosi-10a: Introduction to Problem Solving in Python\n",
    "### Fall 2024\n",
    "\n",
    "<style>\n",
    "section.present > section.present { \n",
    "    max-height: 100%; \n",
    "    overflow-y: scroll;\n",
    "}\n",
    "</style>"
   ]
  },
  {
   "cell_type": "markdown",
   "id": "1f30f1fa",
   "metadata": {
    "slideshow": {
     "slide_type": "slide"
    }
   },
   "source": [
    "## String formatting\n",
    "\n",
    "Formatting strings with variables in them can be pretty annoying.\n",
    "\n",
    "Let's look at a better way."
   ]
  },
  {
   "cell_type": "markdown",
   "id": "225328ed",
   "metadata": {
    "slideshow": {
     "slide_type": "subslide"
    }
   },
   "source": [
    "Recall our average function:"
   ]
  },
  {
   "cell_type": "code",
   "execution_count": null,
   "id": "f244b434",
   "metadata": {
    "slideshow": {
     "slide_type": ""
    }
   },
   "outputs": [],
   "source": [
    "def find_sum_and_avg(a, b, c, d, e):\n",
    "    total = a + b + c + d + e\n",
    "    avg = total / 5\n",
    "    return total, avg"
   ]
  },
  {
   "cell_type": "code",
   "execution_count": null,
   "id": "468843ea",
   "metadata": {
    "slideshow": {
     "slide_type": ""
    }
   },
   "outputs": [],
   "source": [
    "t, a = find_sum_and_avg(1, 8, 81, 2, -19)\n",
    "print(\"The sum of the number is \" + str(t) + \" and the average is \" + str(a))"
   ]
  },
  {
   "cell_type": "markdown",
   "id": "1fdf132e",
   "metadata": {
    "slideshow": {
     "slide_type": "subslide"
    }
   },
   "source": [
    "We can improve this with \"f-strings\":"
   ]
  },
  {
   "cell_type": "code",
   "execution_count": null,
   "id": "ba9a0507",
   "metadata": {
    "slideshow": {
     "slide_type": ""
    }
   },
   "outputs": [],
   "source": [
    "t, a = find_sum_and_avg(1, 8, 81, 2, -19)\n",
    "print(\"The sum of the number is \" + str(t) + \" and the average is \" + str(a))"
   ]
  },
  {
   "cell_type": "markdown",
   "id": "5e5a0278",
   "metadata": {},
   "source": [
    "becomes:"
   ]
  },
  {
   "cell_type": "code",
   "execution_count": null,
   "id": "941388bd",
   "metadata": {},
   "outputs": [],
   "source": [
    "t, a = find_sum_and_avg(1, 8, 81, 2, -19)\n",
    "print(f\"The sum of the number is {t} and the average is {a}\")"
   ]
  },
  {
   "cell_type": "markdown",
   "id": "b2e8f459",
   "metadata": {
    "slideshow": {
     "slide_type": "subslide"
    }
   },
   "source": [
    "## F-strings\n",
    "\n",
    "* Are strings that have an `f` immediately before the first quote\n",
    "* Can contain any python **expression** enclosed in curly braces (`{` `}`)\n",
    "   * Remember an expression can be a single value or a combination of values and operators. It can even be a function call."
   ]
  },
  {
   "cell_type": "code",
   "execution_count": null,
   "id": "29432d50",
   "metadata": {
    "slideshow": {
     "slide_type": "subslide"
    }
   },
   "outputs": [],
   "source": [
    "num = 42\n",
    "print(f\"You can include variables: {num}\")\n",
    "print(f\"You can do math: {num / 7}\")\n",
    "print(f\"You can even call functions! {find_sum_and_avg(1, 8, 81, 2, -19)}\")\n",
    "print(f\"Include multiple values in a single string: {num}, {num / 7}, {num * 7}\")"
   ]
  },
  {
   "cell_type": "markdown",
   "id": "3394ce62",
   "metadata": {
    "slideshow": {
     "slide_type": "subslide"
    }
   },
   "source": [
    "Another example:"
   ]
  },
  {
   "cell_type": "code",
   "execution_count": null,
   "id": "d1e025ed",
   "metadata": {
    "slideshow": {
     "slide_type": "-"
    }
   },
   "outputs": [],
   "source": [
    "def analyze_sentence(words):\n",
    "    length = len(words)\n",
    "    spaces = words.count(' ')\n",
    "    punctuation = words.count('.') + words.count(',') + words.count(\"'\")\n",
    "    return length, spaces, punctuation"
   ]
  },
  {
   "cell_type": "code",
   "execution_count": null,
   "id": "4e1a2882",
   "metadata": {
    "slideshow": {
     "slide_type": "-"
    }
   },
   "outputs": [],
   "source": [
    "l, s, p = analyze_sentence(\"Hello class, count these words with me.\")\n",
    "print(\"Our sentence has length: \" + str(l) + \" spaces: \" + str(s) + \" punctuation chars: \" + str(p) + \".\")"
   ]
  },
  {
   "cell_type": "markdown",
   "id": "b7638e67",
   "metadata": {},
   "source": [
    "becomes:"
   ]
  },
  {
   "cell_type": "code",
   "execution_count": null,
   "id": "cf49bd46",
   "metadata": {},
   "outputs": [],
   "source": [
    "l, s, p = analyze_sentence(\"Hello class, count these words with me.\")\n",
    "print(f\"Our sentence has length: {l} spaces: {s} punctuation chars: {p}.\")"
   ]
  },
  {
   "cell_type": "markdown",
   "id": "f8280b1f",
   "metadata": {
    "slideshow": {
     "slide_type": "subslide"
    }
   },
   "source": [
    "Another example:"
   ]
  },
  {
   "cell_type": "code",
   "execution_count": null,
   "id": "de5b61dd",
   "metadata": {},
   "outputs": [],
   "source": [
    "name = \"Spongebob\"\n",
    "age = 72\n",
    "def fav_foods():\n",
    "    return \"Cake, Pie, Peanut Butter\""
   ]
  },
  {
   "cell_type": "code",
   "execution_count": null,
   "id": "f800b56c",
   "metadata": {},
   "outputs": [],
   "source": [
    "# Old way:\n",
    "print(\"Hi, I am \" + name + \", I'm \" + str(age) + \" years old, and I like these foods: \" + fav_foods() + \".\")"
   ]
  },
  {
   "cell_type": "code",
   "execution_count": null,
   "id": "701b0172",
   "metadata": {},
   "outputs": [],
   "source": [
    "# Using f-strings\n",
    "print(f\"Hi, I am {name}, I'm {age} years old, and I like these foods: {fav_foods()}.\")"
   ]
  },
  {
   "cell_type": "code",
   "execution_count": null,
   "id": "0c41c13e",
   "metadata": {
    "slideshow": {
     "slide_type": "subslide"
    }
   },
   "outputs": [],
   "source": [
    "# Using f-strings\n",
    "print(f\"Hi, I am {name}, I'm {age} years old, and I like these foods: {fav_foods()}.\")"
   ]
  },
  {
   "cell_type": "markdown",
   "id": "52514359",
   "metadata": {},
   "source": [
    "Note that we were able to include an integer (`age`) without an explicit type conversion. \n",
    "\n",
    "This makes printing **much** easier, no more awful lines like this: `print(\"Some text: \" + str(some_number) + \".\")`"
   ]
  },
  {
   "cell_type": "markdown",
   "id": "c9651a22",
   "metadata": {
    "slideshow": {
     "slide_type": "subslide"
    }
   },
   "source": [
    "One more formatting trick: to control the number of decimal places, add `:.<num decimals>f` after an expression in an f-string.\n",
    "\n",
    "For example:"
   ]
  },
  {
   "cell_type": "code",
   "execution_count": null,
   "id": "161a52f7",
   "metadata": {},
   "outputs": [],
   "source": [
    "fraction = 1/3\n",
    "print(fraction)\n",
    "print(f\"{fraction:.2f}\")"
   ]
  },
  {
   "cell_type": "markdown",
   "id": "e9616a3d",
   "metadata": {
    "slideshow": {
     "slide_type": "subslide"
    }
   },
   "source": [
    "## F-strings - try them!\n",
    "\n",
    "You will never be required to use f-strings, but they can save you some typing / headache when formatting strings.\n",
    "\n",
    "The [official documentation on string formatting](https://docs.python.org/3/reference/lexical_analysis.html#f-strings) is extremely obtuse. Try [fstring.help](https://fstring.help/) for a deeper tutorial, and [fstring.help/cheat](https://fstring.help/cheat/) instead for a quick cheat sheet."
   ]
  },
  {
   "cell_type": "markdown",
   "id": "ac6467cb",
   "metadata": {
    "slideshow": {
     "slide_type": "slide"
    }
   },
   "source": [
    "# Tracing & Debugging <small>(Learn to fish)</small>\n",
    "\n",
    "* Often, your code won't work as expected (or at all)\n",
    "* Actually typing out the code is often only a fraction of the work\n",
    "* \"Debugging\" - finding and fixing the errors - is a skill on its own\n",
    "* You also won't always be working with code YOU wrote - you need practice in deciphering others' code"
   ]
  },
  {
   "cell_type": "markdown",
   "id": "0c248719",
   "metadata": {
    "slideshow": {
     "slide_type": "slide"
    }
   },
   "source": [
    "## Debugging via prints\n",
    "\n",
    "Adding print statements to your code is an effective (if inelegant) way to understand why your code isn't behaving the way you expect it to.\n",
    "\n",
    "Try:\n",
    "* Printing hardcoded messages at certain points in the program, to see when (or if) your program reaches those points.\n",
    "* Printing out the value of variables just before a conditional, to see why the conditional isn't working the way you expect\n",
    "* Printing out the value of variables just before a crash, to see why your program is dying"
   ]
  },
  {
   "cell_type": "markdown",
   "id": "2bade47b",
   "metadata": {
    "slideshow": {
     "slide_type": "slide"
    }
   },
   "source": [
    "Debugging with prints has limits"
   ]
  },
  {
   "cell_type": "code",
   "execution_count": null,
   "id": "47b57c8d",
   "metadata": {
    "slideshow": {
     "slide_type": "subslide"
    },
    "tags": [
     "remove-output"
    ]
   },
   "outputs": [],
   "source": [
    "x = input(\"Guess a lucky number: \")\n",
    "if x == 7:\n",
    "    print(\"You win $1,000,000!\")\n",
    "else:\n",
    "    print(\"Sorry, you lose\")"
   ]
  },
  {
   "cell_type": "code",
   "execution_count": null,
   "id": "4990a135",
   "metadata": {
    "slideshow": {
     "slide_type": "subslide"
    },
    "tags": [
     "remove-output"
    ]
   },
   "outputs": [],
   "source": [
    "x = input(\"Guess a lucky number: \")\n",
    "print(x, 7)  # <-- not a helpful debugging print\n",
    "if x == 7:\n",
    "    print(\"You win $1,000,000!\")\n",
    "else:\n",
    "    print(\"Sorry, you lose\")"
   ]
  },
  {
   "cell_type": "markdown",
   "id": "ffbce638",
   "metadata": {
    "slideshow": {
     "slide_type": "slide"
    }
   },
   "source": [
    "## Debuggers\n",
    "\n",
    "* \"Debuggers\" are tools that let you advance through a program step by step, and examine the state of the program at each step\n",
    "* They are very powerful!\n",
    "* In some languages, they are hard to set up.\n",
    "* Luckily, Python is a very debugger-friendly language, and VSCode has Python debugging support built in."
   ]
  },
  {
   "cell_type": "markdown",
   "id": "6b8ad400",
   "metadata": {
    "slideshow": {
     "slide_type": "subslide"
    }
   },
   "source": [
    "The typical flow is:\n",
    "1. Set a \"breakpoint\" - a breakpoint is a place in the program where the debugger will pause when it is reached.\n",
    "1. Launch the debugger\n",
    "1. Once code execution reaches the breakpoint, examine the state of the program, \n",
    "or continue stepping through line by line."
   ]
  },
  {
   "cell_type": "markdown",
   "id": "ea35111e",
   "metadata": {
    "slideshow": {
     "slide_type": "subslide"
    }
   },
   "source": [
    "## Step-thru debugging - launching\n",
    "\n",
    "<img src='./images/debugging_launch.png' width=800>"
   ]
  },
  {
   "cell_type": "markdown",
   "id": "8ee0000b",
   "metadata": {
    "slideshow": {
     "slide_type": "subslide"
    }
   },
   "source": [
    "## Step-thru debugging - controlling\n",
    "\n",
    "<img src='./images/debugging_tour.png' width=800>"
   ]
  },
  {
   "cell_type": "markdown",
   "id": "2387e502",
   "metadata": {},
   "source": [
    "## Exercise: Debugging 101\n",
    "\n",
    "[GitHub Classroom -> Class exercises -> Open in GitHub Cospaces](https://classroom.github.com/a/M3gdSqkV)\n",
    "\n",
    "Open the file: `exercises/04/debugging_101/README.md`, follow the instructions.\n",
    "* If you don't see this folder: Open the file: `get_exercises.sh`, click the \"Run\" button at the top right of the editor.\n"
   ]
  },
  {
   "cell_type": "markdown",
   "id": "96614ff4",
   "metadata": {
    "slideshow": {
     "slide_type": "slide"
    }
   },
   "source": [
    "# Precedence and Evaluation Order\n",
    "\n",
    "When functions are combined in an expression, they evaluate \"from the inside out\"."
   ]
  },
  {
   "cell_type": "code",
   "execution_count": null,
   "id": "c568aa9d",
   "metadata": {},
   "outputs": [],
   "source": [
    "add(1, add(2, 3))"
   ]
  },
  {
   "cell_type": "markdown",
   "id": "7781b8fc",
   "metadata": {},
   "source": [
    "The \"inner\" `add` is evaluated first, and the result of it is passed as an argument to the \"outer\" `add`:\n",
    "\n",
    "`add(1, add(2, 3))` ->  \n",
    "`add(1, 5        )` ->  \n",
    "`6`"
   ]
  },
  {
   "cell_type": "code",
   "execution_count": null,
   "id": "5e67c4c9",
   "metadata": {
    "slideshow": {
     "slide_type": "subslide"
    }
   },
   "outputs": [],
   "source": [
    "add(add(1, 2), add(add(4, 5), 3))"
   ]
  },
  {
   "cell_type": "markdown",
   "id": "d70022b2",
   "metadata": {},
   "source": [
    "`add(add(1, 2), add(add(4, 5), 3))` ->  \n",
    "`add(3,         add(9,         3))` ->  \n",
    "`add(3,         12               )` ->  \n",
    "`15`"
   ]
  },
  {
   "cell_type": "markdown",
   "id": "c12b6e1f",
   "metadata": {
    "slideshow": {
     "slide_type": "slide"
    }
   },
   "source": [
    "# Call stacks\n",
    "\n",
    "* When a function is called, the execution of the program \"jumps into\" the function. \n",
    "* When the function finishes, execution \"jumps back\" to the place where the function was called from.\n",
    "* The chain of function calls that leads to the current line of code is called the \"call stack\"."
   ]
  },
  {
   "cell_type": "code",
   "execution_count": null,
   "id": "4b278798",
   "metadata": {
    "slideshow": {
     "slide_type": "subslide"
    },
    "tags": [
     "remove-output"
    ]
   },
   "outputs": [],
   "source": [
    "def a():\n",
    "    print(\"a1\")\n",
    "    b()\n",
    "    print(\"a2\")\n",
    "    c()\n",
    "    print(\"a3\")\n",
    "    \n",
    "def b():\n",
    "    print(\"b1\")\n",
    "    c()\n",
    "    print(\"b2\")\n",
    "    \n",
    "def c():\n",
    "    print(\"c1\")\n",
    "    d()\n",
    "    print(\"c2\")\n",
    "\n",
    "def d():\n",
    "    print(\"d\")\n",
    "\n",
    "a()\n"
   ]
  },
  {
   "cell_type": "markdown",
   "id": "51816b40",
   "metadata": {
    "slideshow": {
     "slide_type": "subslide"
    }
   },
   "source": [
    "## Exercise: Tracing nested function calls\n",
    "\n",
    "[GitHub Classroom -> Class exercises -> Open in GitHub Cospaces](https://classroom.github.com/a/M3gdSqkV)\n",
    "\n",
    "Open the file: `exercises/04/call_stacks/README.md`, follow the instructions.\n",
    "* If you don't see this folder: Open the file: `get_exercises.sh`, click the \"Run\" button at the top right of the editor.\n"
   ]
  },
  {
   "cell_type": "markdown",
   "id": "2f57ca1e",
   "metadata": {},
   "source": [
    "## Exercise: Call Stack Maze\n",
    "\n",
    "[GitHub Classroom -> Class exercises -> Open in GitHub Cospaces](https://classroom.github.com/a/M3gdSqkV)\n",
    "\n",
    "Open the file: `exercises/04/call_stack_maze/README.md`, follow the instructions.\n",
    "* If you don't see this folder: Open the file: `get_exercises.sh`, click the \"Run\" button at the top right of the editor.\n"
   ]
  },
  {
   "cell_type": "markdown",
   "id": "1ee8a1d2",
   "metadata": {
    "slideshow": {
     "slide_type": "slide"
    }
   },
   "source": [
    "# Unit Tests\n",
    "\n",
    "<style>\n",
    "section.present > section.present { \n",
    "    max-height: 90%; \n",
    "    overflow-y: scroll;\n",
    "}\n",
    "</style>\n",
    "\n",
    "<small><a href=\"https://colab.research.google.com/github/brandeis-jdelfino/cosi-10a/blob/main/lectures/notebooks/x_unit_tests.ipynb\">Link to interactive slides on Google Colab</a></small>"
   ]
  },
  {
   "cell_type": "markdown",
   "id": "522198fd",
   "metadata": {
    "slideshow": {
     "slide_type": "subslide"
    }
   },
   "source": [
    "## Testing so far\n",
    "\n",
    "So far, your assignments have come with automated \"input/output\" tests that you run through VSCode.\n",
    "\n",
    "Today, we'll learn a little more about testing, including how to add your own tests.\n",
    "\n",
    "Going forward, you will run tests the same way you used to, but the output will look a little different, and you will also need to add your own test cases for some assignments."
   ]
  },
  {
   "cell_type": "markdown",
   "id": "e3865973",
   "metadata": {
    "slideshow": {
     "slide_type": "slide"
    }
   },
   "source": [
    "# Testing Code\n",
    "\n",
    "Testing code is really important. You virtually never get code right the first time.\n",
    "\n",
    "Testing code manually is tedious and error prone. \n",
    "\n",
    "Luckily, you can use code to validate your code! "
   ]
  },
  {
   "cell_type": "markdown",
   "id": "e005700c",
   "metadata": {
    "slideshow": {
     "slide_type": "subslide"
    }
   },
   "source": [
    "## Manual vs. automated testing\n",
    "\n",
    "Unit testing is one way to automate what you already do manually when coding: running your code, and checking to see that it doesn't crash, and produces the output you expect.\n",
    "\n",
    "Instead of clicking \"play\", interacting with your code by typing into the terminal, and then reading the output to see what is produced...\n",
    "\n",
    "You can write code that will do all those steps for you, and alert you if there are any problems."
   ]
  },
  {
   "cell_type": "markdown",
   "id": "04c9e5e5",
   "metadata": {
    "slideshow": {
     "slide_type": "subslide"
    }
   },
   "source": [
    "# Why write tests?\n",
    "\n",
    "Tests give you fast feedback on your code.\n",
    "\n",
    "Manual testing takes time, and is also tedious enough that you end up taking shortcuts, which can let bugs sneak through.\n",
    "\n",
    "Tests are especially useful in ensuring that your code continues to work as you make changse or additions to it."
   ]
  },
  {
   "cell_type": "markdown",
   "id": "d748557e",
   "metadata": {
    "slideshow": {
     "slide_type": "slide"
    }
   },
   "source": [
    "# Unit Testing\n",
    "\n",
    "There are many types of testing that can be employed when writing code and building software. \n",
    "\n",
    "\"Unit\" tests are a the smallest, narrowest type of testing - they test small pieces of code (e.g. a single function) in isolation.\n",
    "\n",
    "Other common types of testing (which we won't cover here) are \"integration tests\", \"end-to-end tests\", \"functional tests\", and \"acceptance tests\". "
   ]
  },
  {
   "cell_type": "markdown",
   "id": "d4b3654b",
   "metadata": {
    "slideshow": {
     "slide_type": "subslide"
    }
   },
   "source": [
    "## Unit testing in Python\n",
    "\n",
    "All major programming languages have unit testing \"frameworks\" - proscribed ways to write, run, and automate unit tests. Most major programming languages have more than one framework.\n",
    "\n",
    "Python has a built-in framework called [unittest](https://docs.python.org/3/library/unittest.html).\n",
    "\n",
    "However, there's a nicer, commonly used framework that we'll cover here and use in assignments: [pytest](https://docs.pytest.org/en/7.3.x/)"
   ]
  },
  {
   "cell_type": "markdown",
   "id": "7fa2936a",
   "metadata": {
    "slideshow": {
     "slide_type": "slide"
    }
   },
   "source": [
    "## pytest\n",
    "\n",
    "`pytest` is a framework - a collection of code, tools, and conventions - that make writing and running unit tests easy. It is very powerful, and has many features.\n",
    "\n",
    "We'll only cover the basics, but it has [extensive documentation with lots of specific examples](https://docs.pytest.org/en/7.3.x/how-to/index.html#how-to).\n",
    "\n"
   ]
  },
  {
   "cell_type": "markdown",
   "id": "6f8457e3",
   "metadata": {
    "slideshow": {
     "slide_type": "subslide"
    }
   },
   "source": [
    "## pytest - Defining tests\n",
    "\n",
    "* To define a test, create a function whose name starts with `test_`\n",
    "  * e.g. `test_add()`\n",
    "  * The `pytest` program will \"magically\" find and run any functions that are named like this.\n",
    "* Each `test_` function is called a \"test case\""
   ]
  },
  {
   "cell_type": "markdown",
   "id": "de130263",
   "metadata": {
    "slideshow": {
     "slide_type": "subslide"
    }
   },
   "source": [
    "## Writing test cases\n",
    "\n",
    "A unit test typically runs some of your code, and then makes **assertions** about what your code should do using the `assert` keyword.\n",
    "\n",
    "Here is an example function, `add` and a single test case for it:"
   ]
  },
  {
   "cell_type": "code",
   "execution_count": null,
   "id": "69f3efc3",
   "metadata": {
    "tags": [
     "raises-exception"
    ]
   },
   "outputs": [],
   "source": [
    "def add(num1, num2):\n",
    "    return num1 + num2\n",
    "\n",
    "def test_add():\n",
    "    assert add(1, 1) == 2\n",
    "    assert add(1, 1) != 3"
   ]
  },
  {
   "cell_type": "code",
   "execution_count": null,
   "id": "ef1fac37",
   "metadata": {},
   "outputs": [],
   "source": [
    "test_add()\n",
    "print(\"It passed!\")"
   ]
  },
  {
   "cell_type": "markdown",
   "id": "664d55d1",
   "metadata": {
    "slideshow": {
     "slide_type": "subslide"
    }
   },
   "source": [
    "## Assertions\n",
    "\n",
    "_**assert (v)**: State a fact confidently and forcefully_\n",
    "\n",
    "An `assert` in code is an indication that an expression should always evaluate to True.\n",
    "\n",
    "`assert` statements are used in unit testing to check that code is behaving as expected, and to raise an error if they aren't."
   ]
  },
  {
   "cell_type": "markdown",
   "id": "e109b8da",
   "metadata": {
    "slideshow": {
     "slide_type": "subslide"
    }
   },
   "source": [
    "## Assertions\n",
    "\n",
    "An `assert` statement should be followed by a boolean expression.\n",
    "* If that expressions evaluates to `True`, the assert \"passes\", and the test continues. \n",
    "* Otherwise, it generates an error, and the test fails.\n"
   ]
  },
  {
   "cell_type": "markdown",
   "id": "ca69707a",
   "metadata": {
    "slideshow": {
     "slide_type": "slide"
    }
   },
   "source": [
    "## Running tests in VSCode\n",
    "\n",
    "VSCode has pytest integration, so tests can be run from the \"Testing\" tab in the left dock from within VSCode.\n",
    "\n",
    "Any functions in your project that start with `test_` will automatically be included in the list of available tests.\n",
    "\n",
    "The input/output tests that you've been using so far are actually just (very complex) pytests."
   ]
  },
  {
   "cell_type": "markdown",
   "id": "57e8aaab",
   "metadata": {
    "slideshow": {
     "slide_type": "subslide"
    }
   },
   "source": [
    "## Running tests from the command line\n",
    "\n",
    "* To run tests, type `pytest` on the command line (the terminal at the bottom of the screen in VSCode)\n",
    "* You can add `-v` or `-vv` to the `pytest` command (e.g. `pytest -vv`) to get more verbose output when diagnosing failures.\n",
    "* To run a single test by itself, you can add `-k <test name>`, e.g. `pytest -k test_add`.\n",
    "  * This can be useful when you have multiple failures but want to work on one at a time.\n"
   ]
  },
  {
   "cell_type": "markdown",
   "id": "beae871c",
   "metadata": {
    "slideshow": {
     "slide_type": "subslide"
    }
   },
   "source": [
    "# Unit testing - do it!\n",
    "\n",
    "Writing unit tests might seem tedious or not worth it, especially for an assignment you'll hand in and then never touch again.\n",
    "\n",
    "\"I just need to check this one more time, then I'm done... I'll just test it manually.\" - every programmer ever\n",
    "\n",
    "Writing unit tests is almost always worth it. They'll save you time, and just the process of thinking about which cases to test often helps you uncover bugs."
   ]
  },
  {
   "cell_type": "markdown",
   "id": "af1fc7d9",
   "metadata": {
    "slideshow": {
     "slide_type": "subslide"
    }
   },
   "source": [
    "## Unit testing best practices\n",
    "\n",
    "You can structure your tests however you want - each test could have multiple assertions, invoke your code multiple times, etc.\n",
    "\n",
    "However, the best practice for unit tests is to make each test case very focused. When each test validates a single thing, you can easily see what is wrong when it fails. \n",
    "\n",
    "Conversely, if a single test is testing many things, it can be harder to determine what's wrong just from a failure, and one error might mask other errors in the same test."
   ]
  },
  {
   "cell_type": "markdown",
   "id": "876ded18",
   "metadata": {
    "slideshow": {
     "slide_type": "subslide"
    }
   },
   "source": [
    "## Unit testing best practices\n",
    "\n",
    "Unit tests are very useful for testing **boundary conditions**, or **edge cases**. \n",
    "\n",
    "These are situations where your test sends valid, but non-typical input - e.g. an empty string, or a negative number, or 0. It's common for code to handle these cases incorrectly. Adding tests for them will help catch bugs. \n",
    "\n",
    "Think explicitly about **boundary conditions** when coming up with test cases."
   ]
  },
  {
   "cell_type": "markdown",
   "id": "3074812a",
   "metadata": {
    "slideshow": {
     "slide_type": "subslide"
    }
   },
   "source": [
    "## Test driven development\n",
    "\n",
    "Some people even write their tests **before** their code - this is called Test Driven Development. \n",
    "\n",
    "Documenting the expected behavior of your function with tests before you implement it can make it easier and faster to write correct code. "
   ]
  },
  {
   "cell_type": "markdown",
   "id": "ae76217e",
   "metadata": {
    "slideshow": {
     "slide_type": "subslide"
    }
   },
   "source": [
    "# Unit testing and coding assignments\n",
    "\n",
    "Most assignments from now on will use `pytest` for automated testing. Any failing tests will mean you won't pass at least one skill for the assignment, so be sure to run them just before submission.\n",
    "\n",
    "Please don't modify provided test cases. But feel free to add your own - in many cases the provided tests are not exhaustive, so a clean test run does not automatically mean your code is perfect!"
   ]
  },
  {
   "cell_type": "markdown",
   "id": "37f712cb",
   "metadata": {},
   "source": [
    "## Exercise: Unit test\n",
    "\n",
    "[GitHub Classroom -> Class exercises -> Open in GitHub Cospaces](https://classroom.github.com/a/M3gdSqkV)\n",
    "\n",
    "Open the file: `exercises/04/unit_test/README.md`, follow the instructions.\n",
    "* If you don't see this folder: Open the file: `get_exercises.sh`, click the \"Run\" button at the top right of the editor.\n"
   ]
  }
 ],
 "metadata": {
  "celltoolbar": "Slideshow",
  "kernelspec": {
   "display_name": "Python 3 (ipykernel)",
   "language": "python",
   "name": "python3"
  },
  "language_info": {
   "codemirror_mode": {
    "name": "ipython",
    "version": 3
   },
   "file_extension": ".py",
   "mimetype": "text/x-python",
   "name": "python",
   "nbconvert_exporter": "python",
   "pygments_lexer": "ipython3",
   "version": "3.9.6"
  }
 },
 "nbformat": 4,
 "nbformat_minor": 5
}
