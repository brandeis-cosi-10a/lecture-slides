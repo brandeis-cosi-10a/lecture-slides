{
 "cells": [
  {
   "cell_type": "markdown",
   "id": "26653147",
   "metadata": {},
   "source": [
    "# Cosi-10a: Introduction to Problem Solving in Python\n",
    "### Fall 2024\n",
    "\n",
    "<small>[Link to interactive slides on Google Colab](https://colab.research.google.com/github/brandeis-cosi-10a/lecture-slides/blob/24fall/)</small>\n",
    "\n",
    "<style>\n",
    "section.present > section.present { \n",
    "    max-height: 100%; \n",
    "    overflow-y: scroll;\n",
    "}\n",
    "</style>"
   ]
  },
  {
   "cell_type": "markdown",
   "id": "1f30f1fa",
   "metadata": {
    "slideshow": {
     "slide_type": "slide"
    }
   },
   "source": [
    "## String formatting\n",
    "\n",
    "Formatting strings with variables in them can be pretty annoying.\n",
    "\n",
    "Let's look at a better way."
   ]
  },
  {
   "cell_type": "markdown",
   "id": "225328ed",
   "metadata": {
    "slideshow": {
     "slide_type": "subslide"
    }
   },
   "source": [
    "Recall our count_letters example:"
   ]
  },
  {
   "cell_type": "code",
   "execution_count": null,
   "id": "f244b434",
   "metadata": {
    "slideshow": {
     "slide_type": ""
    }
   },
   "outputs": [],
   "source": [
    "def count_letters(words):\n",
    "    vowels = 0\n",
    "    consonants = 0\n",
    "    for char in words:\n",
    "        if char == 'a' or char == 'e' or char == 'i' or char == 'o' or char == 'u':\n",
    "            vowels += 1\n",
    "        elif char.isalpha():\n",
    "            # char.isalpha() returns True if the character is a letter\n",
    "            consonants += 1\n",
    "    return vowels, consonants"
   ]
  },
  {
   "cell_type": "code",
   "execution_count": null,
   "id": "468843ea",
   "metadata": {
    "slideshow": {
     "slide_type": ""
    }
   },
   "outputs": [],
   "source": [
    "v, c = count_letters(\"Hello class, count these words with me.\")\n",
    "print(\"Vowels: \" + str(v) + \" consonants: \" + str(c)) "
   ]
  },
  {
   "cell_type": "markdown",
   "id": "1fdf132e",
   "metadata": {
    "slideshow": {
     "slide_type": "subslide"
    }
   },
   "source": [
    "We can improve this with \"f-strings\":"
   ]
  },
  {
   "cell_type": "code",
   "execution_count": null,
   "id": "ba9a0507",
   "metadata": {
    "slideshow": {
     "slide_type": ""
    }
   },
   "outputs": [],
   "source": [
    "v, c = count_letters(\"Hello class, count these words with me.\")\n",
    "print(\"Vowels: \" + str(v) + \" consonants: \" + str(c)) "
   ]
  },
  {
   "cell_type": "markdown",
   "id": "5e5a0278",
   "metadata": {},
   "source": [
    "becomes:"
   ]
  },
  {
   "cell_type": "code",
   "execution_count": null,
   "id": "941388bd",
   "metadata": {},
   "outputs": [],
   "source": [
    "v, c = count_letters(\"Hello class, count these words with me.\")\n",
    "print(f\"Vowels: {v} consonants: {c}\") "
   ]
  },
  {
   "cell_type": "markdown",
   "id": "b2e8f459",
   "metadata": {
    "slideshow": {
     "slide_type": "subslide"
    }
   },
   "source": [
    "## F-strings\n",
    "\n",
    "* Are strings that have an `f` immediately before the first quote\n",
    "* Can contain any python **expression** enclosed in curly braces (`{` `}`)\n",
    "   * Remember an expression can be a single value or a combination of values and operators. It can even be a function call."
   ]
  },
  {
   "cell_type": "code",
   "execution_count": null,
   "id": "29432d50",
   "metadata": {
    "slideshow": {
     "slide_type": "subslide"
    }
   },
   "outputs": [],
   "source": [
    "num = 42\n",
    "print(f\"You can include variables: {num}\")\n",
    "print(f\"You can do math: {num / 7}\")\n",
    "print(f\"You can even call functions! {count_letters('some letters')}\")\n",
    "print(f\"Include multiple values in a single string: {num}, {num / 7}, {num * 7}\")"
   ]
  },
  {
   "cell_type": "markdown",
   "id": "3394ce62",
   "metadata": {
    "slideshow": {
     "slide_type": "subslide"
    }
   },
   "source": [
    "## Some more examples:"
   ]
  },
  {
   "cell_type": "code",
   "execution_count": null,
   "id": "de5b61dd",
   "metadata": {},
   "outputs": [],
   "source": [
    "name = \"Spongebob\"\n",
    "age = 72\n",
    "foods = [\"Cake\", \"Pie\", \"Peanut Butter\"]"
   ]
  },
  {
   "cell_type": "code",
   "execution_count": null,
   "id": "f800b56c",
   "metadata": {},
   "outputs": [],
   "source": [
    "# Old way:\n",
    "print(\"Hi, I am \" + name + \", I'm \" + str(age) + \" years old, and I like \" + str(len(foods)) + \" foods: \" + ', '.join(foods) + \".\")"
   ]
  },
  {
   "cell_type": "code",
   "execution_count": null,
   "id": "701b0172",
   "metadata": {},
   "outputs": [],
   "source": [
    "# Using f-strings\n",
    "print(f\"Hi, I am {name}, I'm {age} years old, and I like {len(foods)} foods: {', '.join(foods)}.\")"
   ]
  },
  {
   "cell_type": "code",
   "execution_count": null,
   "id": "0c41c13e",
   "metadata": {
    "slideshow": {
     "slide_type": "subslide"
    }
   },
   "outputs": [],
   "source": [
    "# Using f-strings\n",
    "print(f\"Hi, I am {name}, I'm {age} years old, and I like {len(foods)} foods: {', '.join(foods)}.\")"
   ]
  },
  {
   "cell_type": "markdown",
   "id": "52514359",
   "metadata": {},
   "source": [
    "Note that we were able to include an integer (`age`) without an explicit type conversion. \n",
    "\n",
    "This makes printing **much** easier, no more awful lines like this: `print(\"Some text: \" + str(some_number) + \".\")`"
   ]
  },
  {
   "cell_type": "markdown",
   "id": "c9651a22",
   "metadata": {
    "slideshow": {
     "slide_type": "subslide"
    }
   },
   "source": [
    "One more formatting trick: to control the number of decimal places, add `:.<num decimals>f` after an expression in an f-string.\n",
    "\n",
    "For example:"
   ]
  },
  {
   "cell_type": "code",
   "execution_count": null,
   "id": "161a52f7",
   "metadata": {},
   "outputs": [],
   "source": [
    "fraction = 1/3\n",
    "print(fraction)\n",
    "print(f\"{fraction:.2f}\")"
   ]
  },
  {
   "cell_type": "markdown",
   "id": "e9616a3d",
   "metadata": {
    "slideshow": {
     "slide_type": "subslide"
    }
   },
   "source": [
    "## F-strings - try them!\n",
    "\n",
    "You will never be required to use f-strings, but they can save you some typing / headache when formatting strings.\n",
    "\n",
    "The [official documentation on string formatting](https://docs.python.org/3/reference/lexical_analysis.html#f-strings) is extremely obtuse. Try [fstring.help](https://fstring.help/) for a deeper tutorial, and [fstring.help/cheat](https://fstring.help/cheat/) instead for a quick cheat sheet."
   ]
  },
  {
   "cell_type": "markdown",
   "id": "ac6467cb",
   "metadata": {
    "slideshow": {
     "slide_type": "slide"
    }
   },
   "source": [
    "# Tracing & Debugging <small>(Learn to fish)</small>\n",
    "\n",
    "* Often, your code won't work as expected (or at all)\n",
    "* Actually typing out the code is often only a fraction of the work\n",
    "* \"Debugging\" - finding and fixing the errors - is a skill on its own\n",
    "* You also won't always be working with code YOU wrote - you need practice in deciphering others' code"
   ]
  },
  {
   "cell_type": "markdown",
   "id": "0c248719",
   "metadata": {
    "slideshow": {
     "slide_type": "slide"
    }
   },
   "source": [
    "## Debugging via prints\n",
    "\n",
    "Adding print statements to your code is an effective (if inelegant) way to understand why your code isn't behaving the way you expect it to.\n",
    "\n",
    "Try:\n",
    "* Printing hardcoded messages at certain points in the program, to see when (or if) your program reaches those points.\n",
    "* Printing out the value of variables just before a conditional, to see why the conditional isn't working the way you expect\n",
    "* Printing out the value of variables just before a crash, to see why your program is dying"
   ]
  },
  {
   "cell_type": "markdown",
   "id": "2bade47b",
   "metadata": {
    "slideshow": {
     "slide_type": "slide"
    }
   },
   "source": [
    "Debugging with prints has limits"
   ]
  },
  {
   "cell_type": "code",
   "execution_count": null,
   "id": "47b57c8d",
   "metadata": {
    "slideshow": {
     "slide_type": "subslide"
    },
    "tags": [
     "remove-output"
    ]
   },
   "outputs": [],
   "source": [
    "x = input(\"Guess a lucky number: \")\n",
    "if x == 7:\n",
    "    print(\"You win $1,000,000!\")\n",
    "else:\n",
    "    print(\"Sorry, you lose\")"
   ]
  },
  {
   "cell_type": "code",
   "execution_count": null,
   "id": "4990a135",
   "metadata": {
    "slideshow": {
     "slide_type": "subslide"
    },
    "tags": [
     "remove-output"
    ]
   },
   "outputs": [],
   "source": [
    "x = input(\"Guess a lucky number: \")\n",
    "print(x, 7)  # <-- not a helpful debugging print\n",
    "if x == 7:\n",
    "    print(\"You win $1,000,000!\")\n",
    "else:\n",
    "    print(\"Sorry, you lose\")"
   ]
  },
  {
   "cell_type": "markdown",
   "id": "ffbce638",
   "metadata": {
    "slideshow": {
     "slide_type": "slide"
    }
   },
   "source": [
    "## Debuggers\n",
    "\n",
    "* \"Debuggers\" are tools that let you advance through a program step by step, and examine the state of the program at each step\n",
    "* They are very powerful!\n",
    "* In some languages, they are hard to set up.\n",
    "* Luckily, Python is a very debugger-friendly language, and VSCode has Python debugging support built in."
   ]
  },
  {
   "cell_type": "markdown",
   "id": "6b8ad400",
   "metadata": {
    "slideshow": {
     "slide_type": "subslide"
    }
   },
   "source": [
    "The typical flow is:\n",
    "1. Set a \"breakpoint\" - a breakpoint is a place in the program where the debugger will pause when it is reached.\n",
    "1. Launch the debugger\n",
    "1. Once code execution reaches the breakpoint, examine the state of the program, \n",
    "or continue stepping through line by line."
   ]
  },
  {
   "cell_type": "markdown",
   "id": "ea35111e",
   "metadata": {
    "slideshow": {
     "slide_type": "subslide"
    }
   },
   "source": [
    "## Step-thru debugging - launching\n",
    "\n",
    "<img src='../images/debugging_launch.png' width=800>"
   ]
  },
  {
   "cell_type": "markdown",
   "id": "8ee0000b",
   "metadata": {
    "slideshow": {
     "slide_type": "subslide"
    }
   },
   "source": [
    "## Step-thru debugging - controlling\n",
    "\n",
    "<img src='../images/debugging_tour.png' width=800>"
   ]
  },
  {
   "cell_type": "markdown",
   "id": "2387e502",
   "metadata": {},
   "source": [
    "## Exercise: Debugging 101\n",
    "\n",
    "[GitHub Classroom -> Class exercises -> Open in GitHub Cospaces](https://classroom.github.com/a/M3gdSqkV)\n",
    "\n",
    "Open the file: `exercises/04/debugging_101/README.md`, follow the instructions.\n",
    "* If you don't see this folder: Open the file: `get_exercises.sh`, click the \"Run\" button at the top right of the editor.\n"
   ]
  },
  {
   "cell_type": "markdown",
   "id": "96614ff4",
   "metadata": {
    "slideshow": {
     "slide_type": "slide"
    }
   },
   "source": [
    "# Precedence and Evaluation Order\n",
    "\n",
    "When functions are combined in an expression, they evaluate \"from the inside out\"."
   ]
  },
  {
   "cell_type": "code",
   "execution_count": null,
   "id": "c568aa9d",
   "metadata": {},
   "outputs": [],
   "source": [
    "add(1, add(2, 3))"
   ]
  },
  {
   "cell_type": "markdown",
   "id": "7781b8fc",
   "metadata": {},
   "source": [
    "The \"inner\" `add` is evaluated first, and the result of it is passed as an argument to the \"outer\" `add`:\n",
    "\n",
    "`add(1, add(2, 3))` ->  \n",
    "`add(1, 5        )` ->  \n",
    "`6`"
   ]
  },
  {
   "cell_type": "code",
   "execution_count": null,
   "id": "5e67c4c9",
   "metadata": {
    "slideshow": {
     "slide_type": "subslide"
    }
   },
   "outputs": [],
   "source": [
    "add(add(1, 2), add(add(4, 5), 3))"
   ]
  },
  {
   "cell_type": "markdown",
   "id": "d70022b2",
   "metadata": {},
   "source": [
    "`add(add(1, 2), add(add(4, 5), 3))` ->  \n",
    "`add(3,         add(9,         3))` ->  \n",
    "`add(3,         12               )` ->  \n",
    "`15`"
   ]
  },
  {
   "cell_type": "markdown",
   "id": "c12b6e1f",
   "metadata": {
    "slideshow": {
     "slide_type": "slide"
    }
   },
   "source": [
    "# Call stacks\n",
    "\n",
    "* When a function is called, the execution of the program \"jumps into\" the function. \n",
    "* When the function finishes, execution \"jumps back\" to the place where the function was called from.\n",
    "* The chain of function calls that leads to the current line of code is called the \"call stack\"."
   ]
  },
  {
   "cell_type": "code",
   "execution_count": null,
   "id": "4b278798",
   "metadata": {
    "slideshow": {
     "slide_type": "subslide"
    },
    "tags": [
     "remove-output"
    ]
   },
   "outputs": [],
   "source": [
    "def a():\n",
    "    print(\"a1\")\n",
    "    b()\n",
    "    print(\"a2\")\n",
    "    c()\n",
    "    print(\"a3\")\n",
    "    \n",
    "def b():\n",
    "    print(\"b1\")\n",
    "    c()\n",
    "    print(\"b2\")\n",
    "    \n",
    "def c():\n",
    "    print(\"c1\")\n",
    "    d()\n",
    "    print(\"c2\")\n",
    "\n",
    "def d():\n",
    "    print(\"d\")\n",
    "\n",
    "a()\n"
   ]
  },
  {
   "cell_type": "markdown",
   "id": "6d945a6f",
   "metadata": {},
   "source": [
    "## Exercise: Debugging 101\n",
    "\n",
    "[GitHub Classroom -> Class exercises -> Open in GitHub Cospaces](https://classroom.github.com/a/M3gdSqkV)\n",
    "\n",
    "Open the file: `exercises/04/debugging_101/README.md`, follow the instructions.\n",
    "* If you don't see this folder: Open the file: `get_exercises.sh`, click the \"Run\" button at the top right of the editor.\n"
   ]
  },
  {
   "cell_type": "markdown",
   "id": "51816b40",
   "metadata": {
    "slideshow": {
     "slide_type": "subslide"
    }
   },
   "source": [
    "## Exercise: Tracing nested function calls\n",
    "\n",
    "[GitHub Classroom -> Class exercises -> Open in GitHub Cospaces](https://classroom.github.com/a/M3gdSqkV)\n",
    "\n",
    "Open the file: `exercises/04/call_stacks/README.md`, follow the instructions.\n",
    "* If you don't see this folder: Open the file: `get_exercises.sh`, click the \"Run\" button at the top right of the editor.\n"
   ]
  },
  {
   "cell_type": "markdown",
   "id": "2f57ca1e",
   "metadata": {},
   "source": [
    "## Exercise: Call Stack Maze\n",
    "\n",
    "[GitHub Classroom -> Class exercises -> Open in GitHub Cospaces](https://classroom.github.com/a/M3gdSqkV)\n",
    "\n",
    "Open the file: `exercises/04/call_stack_maze/README.md`, follow the instructions.\n",
    "* If you don't see this folder: Open the file: `get_exercises.sh`, click the \"Run\" button at the top right of the editor.\n"
   ]
  },
  {
   "cell_type": "markdown",
   "id": "6ba4e9d8",
   "metadata": {},
   "source": [
    "TODO: update there was an old lady assignment to take out default param requirement... it will probably come before this lecture"
   ]
  },
  {
   "cell_type": "markdown",
   "id": "a80466c9",
   "metadata": {
    "slideshow": {
     "slide_type": "slide"
    }
   },
   "source": [
    "## Default values\n",
    "\n",
    "Function parameters can have **default values**. A default value is used if no argument is passed for a parameter.\n",
    "\n",
    "Example:"
   ]
  },
  {
   "cell_type": "code",
   "execution_count": null,
   "id": "f1cb6d2f",
   "metadata": {},
   "outputs": [],
   "source": [
    "def greet(name = \"guest\"):\n",
    "    print(\"Hello, \" + name + \"!\")"
   ]
  },
  {
   "cell_type": "code",
   "execution_count": null,
   "id": "7b2b3c50",
   "metadata": {},
   "outputs": [],
   "source": [
    "greet()"
   ]
  },
  {
   "cell_type": "code",
   "execution_count": null,
   "id": "8c147cf0",
   "metadata": {},
   "outputs": [],
   "source": [
    "greet(\"Joe\")"
   ]
  },
  {
   "cell_type": "markdown",
   "id": "b2f9b46f",
   "metadata": {
    "slideshow": {
     "slide_type": "subslide"
    }
   },
   "source": [
    "## Overriding default values\n",
    "\n",
    "When we pass a value in for a defaulted parameter, we are **\"overriding\"** the default."
   ]
  },
  {
   "cell_type": "markdown",
   "id": "d805e7e1",
   "metadata": {
    "slideshow": {
     "slide_type": "subslide"
    }
   },
   "source": [
    "Here's another example. This one takes one required parameter (`name`), and one parameter with a default value (`invite_in`)."
   ]
  },
  {
   "cell_type": "code",
   "execution_count": null,
   "id": "29163040",
   "metadata": {},
   "outputs": [],
   "source": [
    "def greet(name, invite_in=False):\n",
    "    print(\"Hello, \" + name + \"!\")\n",
    "    if invite_in:\n",
    "        print(\"Come on in!\")\n",
    "    else:\n",
    "        print(\"Great to see you!\")"
   ]
  },
  {
   "cell_type": "code",
   "execution_count": null,
   "id": "00d0305f",
   "metadata": {
    "slideshow": {
     "slide_type": "subslide"
    }
   },
   "outputs": [],
   "source": [
    "greet(\"Joe\")"
   ]
  },
  {
   "cell_type": "code",
   "execution_count": null,
   "id": "cfe117bc",
   "metadata": {},
   "outputs": [],
   "source": [
    "# Override the default value for invite_in\n",
    "greet(\"Joe\", True)"
   ]
  },
  {
   "cell_type": "code",
   "execution_count": null,
   "id": "93600d1e",
   "metadata": {},
   "outputs": [],
   "source": [
    "greet(\"Joe\", False)"
   ]
  },
  {
   "cell_type": "markdown",
   "id": "92fb8527",
   "metadata": {
    "slideshow": {
     "slide_type": "subslide"
    }
   },
   "source": [
    "You must supply an argument for every non-default argument."
   ]
  },
  {
   "cell_type": "code",
   "execution_count": null,
   "id": "d2e71df9",
   "metadata": {
    "tags": [
     "raises-exception"
    ]
   },
   "outputs": [],
   "source": [
    "# Raises an error - name has no default, we must specify value for it\n",
    "greet()"
   ]
  },
  {
   "cell_type": "markdown",
   "id": "264c5d14",
   "metadata": {
    "slideshow": {
     "slide_type": "subslide"
    }
   },
   "source": [
    "Example 3. This one takes two parameters with default values."
   ]
  },
  {
   "cell_type": "code",
   "execution_count": null,
   "id": "e98dbd7d",
   "metadata": {},
   "outputs": [],
   "source": [
    "def greet(name=\"guest\", invite_in=False):\n",
    "    print(\"Hello, \" + name + \"!\")\n",
    "    if invite_in:\n",
    "        print(\"Come on in!\")\n",
    "    else:\n",
    "        print(\"Great to see you!\")"
   ]
  },
  {
   "cell_type": "code",
   "execution_count": null,
   "id": "5cf5090b",
   "metadata": {
    "slideshow": {
     "slide_type": "subslide"
    }
   },
   "outputs": [],
   "source": [
    "greet()"
   ]
  },
  {
   "cell_type": "code",
   "execution_count": null,
   "id": "2098f72a",
   "metadata": {},
   "outputs": [],
   "source": [
    "greet(\"Joe\")"
   ]
  },
  {
   "cell_type": "code",
   "execution_count": null,
   "id": "8200931e",
   "metadata": {},
   "outputs": [],
   "source": [
    "greet(\"Joe\", True)"
   ]
  },
  {
   "cell_type": "markdown",
   "id": "d9e41cdd",
   "metadata": {
    "slideshow": {
     "slide_type": "subslide"
    }
   },
   "source": [
    "But what if we want to provide `True` for the `invite_in` parameter, but leave the `name` as the default value?"
   ]
  },
  {
   "cell_type": "code",
   "execution_count": null,
   "id": "0527767a",
   "metadata": {},
   "outputs": [],
   "source": [
    "# Option 1: \n",
    "greet(\"guest\", True)"
   ]
  },
  {
   "cell_type": "markdown",
   "id": "d33c0c22",
   "metadata": {
    "slideshow": {
     "slide_type": "fragment"
    }
   },
   "source": [
    "This works, but could become a problem if we want to call a function with many defaulted parameters, but only override 1 of the defaults."
   ]
  },
  {
   "cell_type": "markdown",
   "id": "27d93c9f",
   "metadata": {
    "slideshow": {
     "slide_type": "slide"
    }
   },
   "source": [
    "##  Calling functions with named arguments\n",
    "\n",
    "You can specify the name of each argument when calling a function."
   ]
  },
  {
   "cell_type": "code",
   "execution_count": null,
   "id": "0328d56f",
   "metadata": {},
   "outputs": [],
   "source": [
    "greet(invite_in=True)"
   ]
  },
  {
   "cell_type": "markdown",
   "id": "c90a23bd",
   "metadata": {
    "slideshow": {
     "slide_type": "subslide"
    }
   },
   "source": [
    "So far, we've always called functions with **positional arguments**:"
   ]
  },
  {
   "cell_type": "code",
   "execution_count": null,
   "id": "664cc4e3",
   "metadata": {},
   "outputs": [],
   "source": [
    "greet(\"Joe\", True)"
   ]
  },
  {
   "cell_type": "markdown",
   "id": "d6fd6f62",
   "metadata": {
    "slideshow": {
     "slide_type": ""
    }
   },
   "source": [
    "Functions can also be called with **named arguments**:"
   ]
  },
  {
   "cell_type": "code",
   "execution_count": null,
   "id": "5c3ac30e",
   "metadata": {},
   "outputs": [],
   "source": [
    "greet(invite_in=True)"
   ]
  },
  {
   "cell_type": "code",
   "execution_count": null,
   "id": "5a9f887f",
   "metadata": {
    "slideshow": {
     "slide_type": "subslide"
    }
   },
   "outputs": [],
   "source": [
    "greet(invite_in=True)"
   ]
  },
  {
   "cell_type": "markdown",
   "id": "d248a027",
   "metadata": {
    "slideshow": {
     "slide_type": ""
    }
   },
   "source": [
    "This allows `name` to use the default value, and overrides the default value for `invite_in`.\n",
    "\n",
    "Named arguments can always be used, even when no parameters have default values."
   ]
  },
  {
   "cell_type": "markdown",
   "id": "a11382a3",
   "metadata": {
    "slideshow": {
     "slide_type": "subslide"
    }
   },
   "source": [
    "Another example:"
   ]
  },
  {
   "cell_type": "code",
   "execution_count": null,
   "id": "315cd726",
   "metadata": {
    "slideshow": {
     "slide_type": "-"
    }
   },
   "outputs": [],
   "source": [
    "def meet(name1, name2):\n",
    "    print(name1 + \", meet \" + name2 + \".\")"
   ]
  },
  {
   "cell_type": "code",
   "execution_count": null,
   "id": "9c671bb9",
   "metadata": {},
   "outputs": [],
   "source": [
    "meet(\"Bill\", \"Ted\")"
   ]
  },
  {
   "cell_type": "code",
   "execution_count": null,
   "id": "c7abc37a",
   "metadata": {},
   "outputs": [],
   "source": [
    "meet(\"Harry\", name2 = \"Hermione\")"
   ]
  },
  {
   "cell_type": "code",
   "execution_count": null,
   "id": "123b2a5d",
   "metadata": {},
   "outputs": [],
   "source": [
    "meet(name1 = \"Mario\", name2 = \"Luigi\")"
   ]
  },
  {
   "cell_type": "markdown",
   "id": "504844b4",
   "metadata": {
    "slideshow": {
     "slide_type": "subslide"
    }
   },
   "source": [
    "Named arguments can be passed in any order."
   ]
  },
  {
   "cell_type": "code",
   "execution_count": null,
   "id": "577512ef",
   "metadata": {},
   "outputs": [],
   "source": [
    "meet(name2 = \"your father\", name1 = \"Luke\")"
   ]
  },
  {
   "cell_type": "markdown",
   "id": "dfbb9153",
   "metadata": {
    "slideshow": {
     "slide_type": "subslide"
    }
   },
   "source": [
    "A more complicated example:"
   ]
  },
  {
   "cell_type": "code",
   "execution_count": null,
   "id": "5d883859",
   "metadata": {
    "slideshow": {
     "slide_type": ""
    }
   },
   "outputs": [],
   "source": [
    "def menu(breakfast, lunch = \"PB&J\", dinner = \"Ramen\", dessert = \"1 full pint of Ben & Jerry's\"):\n",
    "    print(\"Today's menu: \")\n",
    "    print(\"Breakfast: \" + breakfast)\n",
    "    print(\"Lunch: \" + lunch)\n",
    "    print(\"Dinner: \" + dinner)\n",
    "    print(\"Dessert: \" + dessert)"
   ]
  },
  {
   "cell_type": "code",
   "execution_count": null,
   "id": "c48f5cf3",
   "metadata": {},
   "outputs": [],
   "source": [
    "menu(\"Eggs\")"
   ]
  },
  {
   "cell_type": "code",
   "execution_count": null,
   "id": "018c2a80",
   "metadata": {
    "slideshow": {
     "slide_type": "subslide"
    }
   },
   "outputs": [],
   "source": [
    "def menu(breakfast, lunch = \"PB&J\", dinner = \"Ramen\", dessert = \"1 full pint of Ben & Jerry's\"):\n",
    "    print(\"Today's menu: \")\n",
    "    print(\"Breakfast: \" + breakfast)\n",
    "    print(\"Lunch: \" + lunch)\n",
    "    print(\"Dinner: \" + dinner)\n",
    "    print(\"Dessert: \" + dessert)"
   ]
  },
  {
   "cell_type": "code",
   "execution_count": null,
   "id": "e1bcc2e9",
   "metadata": {},
   "outputs": [],
   "source": [
    "menu(\"Cereal\", dinner = \"Lobster\")"
   ]
  },
  {
   "cell_type": "code",
   "execution_count": null,
   "id": "97480ffa",
   "metadata": {
    "slideshow": {
     "slide_type": "subslide"
    }
   },
   "outputs": [],
   "source": [
    "def menu(breakfast, lunch = \"PB&J\", dinner = \"Ramen\", dessert = \"1 full pint of Ben & Jerry's\"):\n",
    "    print(\"Today's menu: \")\n",
    "    print(\"Breakfast: \" + breakfast)\n",
    "    print(\"Lunch: \" + lunch)\n",
    "    print(\"Dinner: \" + dinner)\n",
    "    print(\"Dessert: \" + dessert)"
   ]
  },
  {
   "cell_type": "code",
   "execution_count": null,
   "id": "2d15c9db",
   "metadata": {},
   "outputs": [],
   "source": [
    "menu(\"Lox\", \"Tuna Sandwich\", \"Sushi\")"
   ]
  },
  {
   "cell_type": "markdown",
   "id": "cc4001c0",
   "metadata": {
    "slideshow": {
     "slide_type": "subslide"
    }
   },
   "source": [
    "You can mix named/unnamed arguments in one call, but all positional arguments must come before any named arguments."
   ]
  },
  {
   "cell_type": "code",
   "execution_count": null,
   "id": "314b394d",
   "metadata": {
    "slideshow": {
     "slide_type": "-"
    },
    "tags": [
     "raises-exception"
    ]
   },
   "outputs": [],
   "source": [
    "menu(\"Oatmeal\", dessert = \"Skittles\", \"Ham & Cheese\")"
   ]
  },
  {
   "cell_type": "markdown",
   "id": "62295063",
   "metadata": {},
   "source": [
    "## Exercise: Arrow Params\n",
    "\n",
    "[GitHub Classroom -> Class exercises -> Open in GitHub Cospaces](https://classroom.github.com/a/M3gdSqkV)\n",
    "\n",
    "Open the file: `exercises/04/arrow_params/README.md`, follow the instructions.\n",
    "* If you don't see this folder: Open the file: `get_exercises.sh`, click the \"Run\" button at the top right of the editor.\n"
   ]
  },
  {
   "cell_type": "markdown",
   "id": "c893fe36",
   "metadata": {},
   "source": [
    "## Exercise: Arrow Params\n",
    "\n",
    "[GitHub Classroom -> Class exercises -> Open in GitHub Cospaces](https://classroom.github.com/a/M3gdSqkV)\n",
    "\n",
    "Open the file: `exercises/04/arrow_params/README.md`, follow the instructions.\n",
    "* If you don't see this folder: Open the file: `get_exercises.sh`, click the \"Run\" button at the top right of the editor.\n"
   ]
  },
  {
   "cell_type": "markdown",
   "id": "1ee8a1d2",
   "metadata": {
    "slideshow": {
     "slide_type": "slide"
    }
   },
   "source": [
    "# Unit Tests\n",
    "\n",
    "<style>\n",
    "section.present > section.present { \n",
    "    max-height: 90%; \n",
    "    overflow-y: scroll;\n",
    "}\n",
    "</style>\n",
    "\n",
    "<small><a href=\"https://colab.research.google.com/github/brandeis-jdelfino/cosi-10a/blob/main/lectures/notebooks/x_unit_tests.ipynb\">Link to interactive slides on Google Colab</a></small>"
   ]
  },
  {
   "cell_type": "markdown",
   "id": "522198fd",
   "metadata": {
    "slideshow": {
     "slide_type": "subslide"
    }
   },
   "source": [
    "## Testing so far\n",
    "\n",
    "So far, your assignments have come with automated \"input/output\" tests that you run through VSCode.\n",
    "\n",
    "Today, we'll learn a little more about testing, including how to add your own tests.\n",
    "\n",
    "Going forward, you will run tests the same way you used to, but the output will look a little different, and you will also need to add your own test cases for some assignments."
   ]
  },
  {
   "cell_type": "markdown",
   "id": "e3865973",
   "metadata": {
    "slideshow": {
     "slide_type": "slide"
    }
   },
   "source": [
    "# Testing Code\n",
    "\n",
    "Testing code is really important. You virtually never get code right the first time.\n",
    "\n",
    "Testing code manually is tedious and error prone. \n",
    "\n",
    "Luckily, you can use code to validate your code! "
   ]
  },
  {
   "cell_type": "markdown",
   "id": "e005700c",
   "metadata": {
    "slideshow": {
     "slide_type": "subslide"
    }
   },
   "source": [
    "## Manual vs. automated testing\n",
    "\n",
    "Unit testing is one way to automate what you already do manually when coding: running your code, and checking to see that it doesn't crash, and produces the output you expect.\n",
    "\n",
    "Instead of clicking \"play\", interacting with your code by typing into the terminal, and then reading the output to see what is produced...\n",
    "\n",
    "You can write code that will do all those steps for you, and alert you if there are any problems."
   ]
  },
  {
   "cell_type": "markdown",
   "id": "04c9e5e5",
   "metadata": {
    "slideshow": {
     "slide_type": "subslide"
    }
   },
   "source": [
    "# Why write tests?\n",
    "\n",
    "Tests give you fast feedback on your code.\n",
    "\n",
    "Manual testing takes time, and is also tedious enough that you end up taking shortcuts, which can let bugs sneak through.\n",
    "\n",
    "Tests are especially useful in ensuring that your code continues to work as you make changse or additions to it."
   ]
  },
  {
   "cell_type": "markdown",
   "id": "d748557e",
   "metadata": {
    "slideshow": {
     "slide_type": "slide"
    }
   },
   "source": [
    "# Unit Testing\n",
    "\n",
    "There are many types of testing that can be employed when writing code and building software. \n",
    "\n",
    "\"Unit\" tests are a the smallest, narrowest type of testing - they test small pieces of code (e.g. a single function) in isolation.\n",
    "\n",
    "Other common types of testing (which we won't cover here) are \"integration tests\", \"end-to-end tests\", \"functional tests\", and \"acceptance tests\". "
   ]
  },
  {
   "cell_type": "markdown",
   "id": "d4b3654b",
   "metadata": {
    "slideshow": {
     "slide_type": "subslide"
    }
   },
   "source": [
    "## Unit testing in Python\n",
    "\n",
    "All major programming languages have unit testing \"frameworks\" - proscribed ways to write, run, and automate unit tests. Most major programming languages have more than one framework.\n",
    "\n",
    "Python has a built-in framework called [unittest](https://docs.python.org/3/library/unittest.html).\n",
    "\n",
    "However, there's a nicer, commonly used framework that we'll cover here and use in assignments: [pytest](https://docs.pytest.org/en/7.3.x/)"
   ]
  },
  {
   "cell_type": "markdown",
   "id": "7fa2936a",
   "metadata": {
    "slideshow": {
     "slide_type": "slide"
    }
   },
   "source": [
    "## pytest\n",
    "\n",
    "`pytest` is a framework - a collection of code, tools, and conventions - that make writing and running unit tests easy. It is very powerful, and has many features.\n",
    "\n",
    "We'll only cover the basics, but it has [extensive documentation with lots of specific examples](https://docs.pytest.org/en/7.3.x/how-to/index.html#how-to).\n",
    "\n"
   ]
  },
  {
   "cell_type": "markdown",
   "id": "6f8457e3",
   "metadata": {
    "slideshow": {
     "slide_type": "subslide"
    }
   },
   "source": [
    "## pytest - Defining tests\n",
    "\n",
    "* To define a test, create a function whose name starts with `test_`\n",
    "  * e.g. `test_add()`\n",
    "  * The `pytest` program will \"magically\" find and run any functions that are named like this.\n",
    "* Each `test_` function is called a \"test case\""
   ]
  },
  {
   "cell_type": "markdown",
   "id": "de130263",
   "metadata": {
    "slideshow": {
     "slide_type": "subslide"
    }
   },
   "source": [
    "## Writing test cases\n",
    "\n",
    "A unit test typically runs some of your code, and then makes **assertions** about what your code should do using the `assert` keyword.\n",
    "\n",
    "Here is an example function, `add` and a single test case for it:"
   ]
  },
  {
   "cell_type": "code",
   "execution_count": null,
   "id": "69f3efc3",
   "metadata": {
    "tags": [
     "raises-exception"
    ]
   },
   "outputs": [],
   "source": [
    "def add(num1, num2):\n",
    "    return num1 + num2\n",
    "\n",
    "def test_add():\n",
    "    assert add(1, 1) == 2\n",
    "    assert add(1, 1) != 3"
   ]
  },
  {
   "cell_type": "code",
   "execution_count": null,
   "id": "ef1fac37",
   "metadata": {},
   "outputs": [],
   "source": [
    "test_add()\n",
    "print(\"It passed!\")"
   ]
  },
  {
   "cell_type": "markdown",
   "id": "664d55d1",
   "metadata": {
    "slideshow": {
     "slide_type": "subslide"
    }
   },
   "source": [
    "## Assertions\n",
    "\n",
    "_**assert (v)**: State a fact confidently and forcefully_\n",
    "\n",
    "An `assert` in code is an indication that an expression should always evaluate to True.\n",
    "\n",
    "`assert` statements are used in unit testing to check that code is behaving as expected, and to raise an error if they aren't."
   ]
  },
  {
   "cell_type": "markdown",
   "id": "e109b8da",
   "metadata": {
    "slideshow": {
     "slide_type": "subslide"
    }
   },
   "source": [
    "## Assertions\n",
    "\n",
    "An `assert` statement should be followed by a boolean expression.\n",
    "* If that expressions evaluates to `True`, the assert \"passes\", and the test continues. \n",
    "* Otherwise, it generates an error, and the test fails.\n"
   ]
  },
  {
   "cell_type": "markdown",
   "id": "ca69707a",
   "metadata": {
    "slideshow": {
     "slide_type": "slide"
    }
   },
   "source": [
    "## Running tests in VSCode\n",
    "\n",
    "VSCode has pytest integration, so tests can be run from the \"Testing\" tab in the left dock from within VSCode.\n",
    "\n",
    "Any functions in your project that start with `test_` will automatically be included in the list of available tests.\n",
    "\n",
    "The input/output tests that you've been using so far are actually just (somewhat complex) pytests."
   ]
  },
  {
   "cell_type": "markdown",
   "id": "57e8aaab",
   "metadata": {
    "slideshow": {
     "slide_type": "subslide"
    }
   },
   "source": [
    "## Running tests from the command line\n",
    "\n",
    "* To run tests, type `pytest` on the command line (the terminal at the bottom of the screen in VSCode)\n",
    "* You can add `-v` or `-vv` to the `pytest` command (e.g. `pytest -vv`) to get more verbose output when diagnosing failures.\n",
    "* To run a single test by itself, you can add `-k <test name>`, e.g. `pytest -k test_add`.\n",
    "  * This can be useful when you have multiple failures but want to work on one at a time.\n"
   ]
  },
  {
   "cell_type": "markdown",
   "id": "beae871c",
   "metadata": {
    "slideshow": {
     "slide_type": "subslide"
    }
   },
   "source": [
    "# Unit testing - do it!\n",
    "\n",
    "Writing unit tests might seem tedious or not worth it, especially for an assignment you'll hand in and then never touch again.\n",
    "\n",
    "\"I just need to check this one more time, then I'm done... I'll just test it manually.\" - every programmer ever\n",
    "\n",
    "Writing unit tests is almost always worth it. They'll save you time, and just the process of thinking about which cases to test often helps you uncover bugs."
   ]
  },
  {
   "cell_type": "markdown",
   "id": "af1fc7d9",
   "metadata": {
    "slideshow": {
     "slide_type": "subslide"
    }
   },
   "source": [
    "## Unit testing best practices\n",
    "\n",
    "You can structure your tests however you want - each test could have multiple assertions, invoke your code multiple times, etc.\n",
    "\n",
    "However, the best practice for unit tests is to make each test case very focused. When each test validates a single thing, you can easily see what is wrong when it fails. \n",
    "\n",
    "Conversely, if a single test is testing many things, it can be harder to determine what's wrong just from a failure, and one error might mask other errors in the same test."
   ]
  },
  {
   "cell_type": "markdown",
   "id": "876ded18",
   "metadata": {
    "slideshow": {
     "slide_type": "subslide"
    }
   },
   "source": [
    "## Unit testing best practices\n",
    "\n",
    "Unit tests are very useful for testing **boundary conditions**, or **edge cases**. \n",
    "\n",
    "These are situations where your test sends valid, but non-typical input - e.g. an empty string, or a negative number, or 0. It's common for code to handle these cases incorrectly. Adding tests for them will help catch bugs. \n",
    "\n",
    "Think explicitly about **boundary conditions** when coming up with test cases."
   ]
  },
  {
   "cell_type": "markdown",
   "id": "3074812a",
   "metadata": {
    "slideshow": {
     "slide_type": "subslide"
    }
   },
   "source": [
    "## Test driven development\n",
    "\n",
    "Some people even write their tests **before** their code - this is called Test Driven Development. \n",
    "\n",
    "Documenting the expected behavior of your function with tests before you implement it can make it easier and faster to write correct code. "
   ]
  },
  {
   "cell_type": "markdown",
   "id": "ae76217e",
   "metadata": {
    "slideshow": {
     "slide_type": "subslide"
    }
   },
   "source": [
    "# Unit testing and coding assignments\n",
    "\n",
    "Most assignments from now on will use `pytest` for automated testing. Any failing tests will mean you won't pass at least one skill for the assignment, so be sure to run them just before submission.\n",
    "\n",
    "Please don't modify provided test cases. But feel free to add your own - in many cases the provided tests are not exhaustive, so a clean test run does not automatically mean your code is perfect!"
   ]
  },
  {
   "cell_type": "markdown",
   "id": "9b011eb3",
   "metadata": {},
   "source": [
    "## Exercise: Unit test\n",
    "\n",
    "[GitHub Classroom -> Class exercises -> Open in GitHub Cospaces](https://classroom.github.com/a/M3gdSqkV)\n",
    "\n",
    "Open the file: `exercises/04/unit_test/README.md`, follow the instructions.\n",
    "* If you don't see this folder: Open the file: `get_exercises.sh`, click the \"Run\" button at the top right of the editor.\n"
   ]
  }
 ],
 "metadata": {
  "celltoolbar": "Slideshow",
  "kernelspec": {
   "display_name": "Python 3 (ipykernel)",
   "language": "python",
   "name": "python3"
  },
  "language_info": {
   "codemirror_mode": {
    "name": "ipython",
    "version": 3
   },
   "file_extension": ".py",
   "mimetype": "text/x-python",
   "name": "python",
   "nbconvert_exporter": "python",
   "pygments_lexer": "ipython3",
   "version": "3.10.9"
  }
 },
 "nbformat": 4,
 "nbformat_minor": 5
}
