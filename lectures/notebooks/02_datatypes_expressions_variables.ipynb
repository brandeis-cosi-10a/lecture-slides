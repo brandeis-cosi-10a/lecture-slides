{
 "cells": [
  {
   "cell_type": "markdown",
   "id": "1ee8a1d2",
   "metadata": {
    "slideshow": {
     "slide_type": "slide"
    }
   },
   "source": [
    "<h1 style=\"text-align: center;\">Data Types, </h1>\n",
    "<h1 style=\"text-align: center;\">Expressions, </h1>\n",
    "<h1 style=\"text-align: center;\">and Variables</h1>\n",
    "<p style=\"text-align: center;\"><small>(oh my)</small></p>\n",
    "<div style=\"text-align: center\"><small><a href=\"https://colab.research.google.com/github/brandeis-jdelfino/cosi-10a/blob/main/lectures/notebooks/2_datatypes_expressions_variables.ipynb\">Link to interactive slides on Google Colab</a></small></div>\n",
    "\n",
    "<style>\n",
    "section.present > section.present { \n",
    "    max-height: 100%; \n",
    "    overflow-y: scroll;\n",
    "}\n",
    "</style>"
   ]
  },
  {
   "cell_type": "markdown",
   "id": "ef85245f",
   "metadata": {
    "slideshow": {
     "slide_type": "slide"
    }
   },
   "source": [
    "# But first...\n",
    "\n",
    "* [Office hours](https://moodle2.brandeis.edu/course/view.php?id=31254#section-2)\n",
    "* [repl.it tests](https://replit.com/@cosi-10a-fall23/Using-replit)"
   ]
  },
  {
   "cell_type": "markdown",
   "id": "43e1f8ce",
   "metadata": {
    "slideshow": {
     "slide_type": "slide"
    }
   },
   "source": [
    "# Data Types"
   ]
  },
  {
   "cell_type": "markdown",
   "id": "64daceb0",
   "metadata": {
    "slideshow": {
     "slide_type": "slide"
    },
    "tags": []
   },
   "source": [
    "* All values in Python have a **type**\n",
    "* Some basic Python data types:\n",
    "  * `str`: string; sequence of characters (from last week)\n",
    "  * `int`: integer; whole numbers\t\n",
    "  * `float`: floating point number; real numbers (decimals)\n",
    "  * `bool`: boolean; `True` or `False`\n",
    "\n"
   ]
  },
  {
   "cell_type": "markdown",
   "id": "2f332fd6",
   "metadata": {
    "slideshow": {
     "slide_type": "fragment"
    }
   },
   "source": [
    "Exhaustive documentation of data types: https://docs.python.org/3/library/stdtypes.html"
   ]
  },
  {
   "cell_type": "markdown",
   "id": "69758551",
   "metadata": {
    "slideshow": {
     "slide_type": "subslide"
    },
    "tags": []
   },
   "source": [
    "# Data type examples"
   ]
  },
  {
   "cell_type": "markdown",
   "id": "7cd93c83",
   "metadata": {
    "slideshow": {
     "slide_type": "fragment"
    },
    "tags": []
   },
   "source": [
    "* str: `“Hi”`, `“I’m a string”`, `“Hopefully these are familiar”`"
   ]
  },
  {
   "cell_type": "markdown",
   "id": "7c033d5a",
   "metadata": {
    "slideshow": {
     "slide_type": "fragment"
    },
    "tags": []
   },
   "source": [
    "* int: `1`, `10`, `3`, `9104919`\n"
   ]
  },
  {
   "cell_type": "markdown",
   "id": "bd2ecbbd",
   "metadata": {
    "slideshow": {
     "slide_type": "fragment"
    },
    "tags": []
   },
   "source": [
    "* float: `1.2`, `10.1`, `84191.000001`, `2.0`\n",
    "  * Note that 2.0 is a float, even though it is a whole number\n",
    "  * The decimal point forces the number to a float type"
   ]
  },
  {
   "cell_type": "markdown",
   "id": "6f63e327",
   "metadata": {
    "slideshow": {
     "slide_type": "fragment"
    },
    "tags": []
   },
   "source": [
    "* bool: `True`, `False`\n",
    "  * Capitalization matters!\n"
   ]
  },
  {
   "cell_type": "markdown",
   "id": "a33cf749",
   "metadata": {
    "slideshow": {
     "slide_type": "subslide"
    },
    "tags": []
   },
   "source": [
    "# Type conversions\n",
    "\n",
    "You can convert between different data types:\n",
    "\n",
    "* `int(<value>)` → convert value to an int\n",
    "* `float(<value>)` → convert value to a float\n",
    "* `str(<value>)` → convert value to a str\n",
    "* `bool(<value>)` → convert value to a bool"
   ]
  },
  {
   "cell_type": "markdown",
   "id": "753cdb28",
   "metadata": {
    "slideshow": {
     "slide_type": "fragment"
    },
    "tags": []
   },
   "source": [
    "The `<>` notation above is common - `<value>` is a stand-in for any value. The brackets are part of the notation, and don’t show up in the code you’d write."
   ]
  },
  {
   "cell_type": "markdown",
   "id": "85ebaa42",
   "metadata": {
    "slideshow": {
     "slide_type": "subslide"
    },
    "tags": []
   },
   "source": [
    "* `int(<value>)` → convert value to an int"
   ]
  },
  {
   "cell_type": "code",
   "execution_count": 1,
   "id": "a7a1f279",
   "metadata": {
    "execution": {
     "iopub.execute_input": "2023-09-06T20:54:17.265843Z",
     "iopub.status.busy": "2023-09-06T20:54:17.265208Z",
     "iopub.status.idle": "2023-09-06T20:54:17.280402Z",
     "shell.execute_reply": "2023-09-06T20:54:17.279702Z"
    },
    "slideshow": {
     "slide_type": "-"
    },
    "tags": []
   },
   "outputs": [
    {
     "data": {
      "text/plain": [
       "1"
      ]
     },
     "execution_count": 1,
     "metadata": {},
     "output_type": "execute_result"
    }
   ],
   "source": [
    "int(1.0)"
   ]
  },
  {
   "cell_type": "code",
   "execution_count": 4,
   "id": "2be05b65",
   "metadata": {
    "execution": {
     "iopub.execute_input": "2023-09-06T20:54:17.284806Z",
     "iopub.status.busy": "2023-09-06T20:54:17.284498Z",
     "iopub.status.idle": "2023-09-06T20:54:17.289136Z",
     "shell.execute_reply": "2023-09-06T20:54:17.288440Z"
    },
    "slideshow": {
     "slide_type": "-"
    },
    "tags": []
   },
   "outputs": [
    {
     "data": {
      "text/plain": [
       "1"
      ]
     },
     "execution_count": 4,
     "metadata": {},
     "output_type": "execute_result"
    }
   ],
   "source": [
    "int(1.999)"
   ]
  },
  {
   "cell_type": "code",
   "execution_count": null,
   "id": "cf96b7ae",
   "metadata": {
    "execution": {
     "iopub.execute_input": "2023-09-06T20:54:17.293130Z",
     "iopub.status.busy": "2023-09-06T20:54:17.292829Z",
     "iopub.status.idle": "2023-09-06T20:54:17.297442Z",
     "shell.execute_reply": "2023-09-06T20:54:17.296664Z"
    },
    "slideshow": {
     "slide_type": "-"
    },
    "tags": []
   },
   "outputs": [],
   "source": [
    "int(\"3\")\n"
   ]
  },
  {
   "cell_type": "markdown",
   "id": "a99204d4",
   "metadata": {
    "slideshow": {
     "slide_type": "subslide"
    },
    "tags": []
   },
   "source": [
    "### Some conversions don't work, or are surprising\n",
    "* `int(<value>)` → convert value to an int"
   ]
  },
  {
   "cell_type": "code",
   "execution_count": null,
   "id": "4909d3fb",
   "metadata": {
    "execution": {
     "iopub.execute_input": "2023-09-06T20:54:17.301237Z",
     "iopub.status.busy": "2023-09-06T20:54:17.300945Z",
     "iopub.status.idle": "2023-09-06T20:54:17.612873Z",
     "shell.execute_reply": "2023-09-06T20:54:17.611894Z"
    },
    "slideshow": {
     "slide_type": "-"
    },
    "tags": [
     "raises-exception"
    ]
   },
   "outputs": [],
   "source": [
    "int(\"Hi\")"
   ]
  },
  {
   "cell_type": "code",
   "execution_count": null,
   "id": "b8233b2e",
   "metadata": {
    "execution": {
     "iopub.execute_input": "2023-09-06T20:54:17.616124Z",
     "iopub.status.busy": "2023-09-06T20:54:17.615828Z",
     "iopub.status.idle": "2023-09-06T20:54:17.631807Z",
     "shell.execute_reply": "2023-09-06T20:54:17.631132Z"
    },
    "slideshow": {
     "slide_type": "-"
    },
    "tags": [
     "raises-exception"
    ]
   },
   "outputs": [],
   "source": [
    "int(\"1.999\")"
   ]
  },
  {
   "cell_type": "markdown",
   "id": "3e26199a",
   "metadata": {
    "slideshow": {
     "slide_type": "subslide"
    },
    "tags": []
   },
   "source": [
    "* `float(<value>)` → convert value to an float"
   ]
  },
  {
   "cell_type": "code",
   "execution_count": null,
   "id": "2dcb293a",
   "metadata": {
    "execution": {
     "iopub.execute_input": "2023-09-06T20:54:17.635073Z",
     "iopub.status.busy": "2023-09-06T20:54:17.634806Z",
     "iopub.status.idle": "2023-09-06T20:54:17.639445Z",
     "shell.execute_reply": "2023-09-06T20:54:17.638803Z"
    },
    "slideshow": {
     "slide_type": "-"
    },
    "tags": []
   },
   "outputs": [],
   "source": [
    "float(2)"
   ]
  },
  {
   "cell_type": "code",
   "execution_count": 9,
   "id": "6e1356f7",
   "metadata": {
    "slideshow": {
     "slide_type": "-"
    },
    "tags": []
   },
   "outputs": [
    {
     "data": {
      "text/plain": [
       "2.0"
      ]
     },
     "execution_count": 9,
     "metadata": {},
     "output_type": "execute_result"
    }
   ],
   "source": [
    "float(\"2\")"
   ]
  },
  {
   "cell_type": "code",
   "execution_count": null,
   "id": "f9c62425",
   "metadata": {
    "execution": {
     "iopub.execute_input": "2023-09-06T20:54:17.649954Z",
     "iopub.status.busy": "2023-09-06T20:54:17.649676Z",
     "iopub.status.idle": "2023-09-06T20:54:17.653808Z",
     "shell.execute_reply": "2023-09-06T20:54:17.653261Z"
    },
    "slideshow": {
     "slide_type": "-"
    },
    "tags": []
   },
   "outputs": [],
   "source": [
    "float(\"2.5\")"
   ]
  },
  {
   "cell_type": "code",
   "execution_count": null,
   "id": "feec253c",
   "metadata": {
    "execution": {
     "iopub.execute_input": "2023-09-06T20:54:17.657547Z",
     "iopub.status.busy": "2023-09-06T20:54:17.657257Z",
     "iopub.status.idle": "2023-09-06T20:54:17.673197Z",
     "shell.execute_reply": "2023-09-06T20:54:17.672552Z"
    },
    "slideshow": {
     "slide_type": "-"
    },
    "tags": [
     "raises-exception"
    ]
   },
   "outputs": [],
   "source": [
    "float(\"Hi again\")"
   ]
  },
  {
   "cell_type": "markdown",
   "id": "c70eb0ed",
   "metadata": {
    "slideshow": {
     "slide_type": "subslide"
    },
    "tags": []
   },
   "source": [
    "* `str(<value>)` → convert value to a str"
   ]
  },
  {
   "cell_type": "code",
   "execution_count": null,
   "id": "050f010f",
   "metadata": {
    "execution": {
     "iopub.execute_input": "2023-09-06T20:54:17.676642Z",
     "iopub.status.busy": "2023-09-06T20:54:17.676367Z",
     "iopub.status.idle": "2023-09-06T20:54:17.681060Z",
     "shell.execute_reply": "2023-09-06T20:54:17.679996Z"
    },
    "slideshow": {
     "slide_type": ""
    },
    "tags": []
   },
   "outputs": [],
   "source": [
    "str(2)"
   ]
  },
  {
   "cell_type": "code",
   "execution_count": null,
   "id": "9ba2b278",
   "metadata": {
    "execution": {
     "iopub.execute_input": "2023-09-06T20:54:17.684171Z",
     "iopub.status.busy": "2023-09-06T20:54:17.683905Z",
     "iopub.status.idle": "2023-09-06T20:54:17.687976Z",
     "shell.execute_reply": "2023-09-06T20:54:17.687361Z"
    },
    "slideshow": {
     "slide_type": ""
    },
    "tags": []
   },
   "outputs": [],
   "source": [
    "str(2.5)"
   ]
  },
  {
   "cell_type": "markdown",
   "id": "ccd00740",
   "metadata": {
    "slideshow": {
     "slide_type": "subslide"
    }
   },
   "source": [
    "* `bool(<value>)` → convert value to a bool"
   ]
  },
  {
   "cell_type": "code",
   "execution_count": null,
   "id": "5e28d10f",
   "metadata": {
    "execution": {
     "iopub.execute_input": "2023-09-06T20:54:17.691852Z",
     "iopub.status.busy": "2023-09-06T20:54:17.691523Z",
     "iopub.status.idle": "2023-09-06T20:54:17.695892Z",
     "shell.execute_reply": "2023-09-06T20:54:17.695330Z"
    }
   },
   "outputs": [],
   "source": [
    "bool(1)"
   ]
  },
  {
   "cell_type": "code",
   "execution_count": null,
   "id": "5abe200a",
   "metadata": {
    "execution": {
     "iopub.execute_input": "2023-09-06T20:54:17.699623Z",
     "iopub.status.busy": "2023-09-06T20:54:17.699338Z",
     "iopub.status.idle": "2023-09-06T20:54:17.703546Z",
     "shell.execute_reply": "2023-09-06T20:54:17.702979Z"
    }
   },
   "outputs": [],
   "source": [
    "bool(0)"
   ]
  },
  {
   "cell_type": "code",
   "execution_count": null,
   "id": "5180d4aa",
   "metadata": {
    "execution": {
     "iopub.execute_input": "2023-09-06T20:54:17.706982Z",
     "iopub.status.busy": "2023-09-06T20:54:17.706683Z",
     "iopub.status.idle": "2023-09-06T20:54:17.711227Z",
     "shell.execute_reply": "2023-09-06T20:54:17.710586Z"
    }
   },
   "outputs": [],
   "source": [
    "bool(0.5)"
   ]
  },
  {
   "cell_type": "code",
   "execution_count": null,
   "id": "e1afefca",
   "metadata": {
    "execution": {
     "iopub.execute_input": "2023-09-06T20:54:17.715147Z",
     "iopub.status.busy": "2023-09-06T20:54:17.714854Z",
     "iopub.status.idle": "2023-09-06T20:54:17.719004Z",
     "shell.execute_reply": "2023-09-06T20:54:17.718430Z"
    }
   },
   "outputs": [],
   "source": [
    "bool(\"why hello there\")"
   ]
  },
  {
   "cell_type": "code",
   "execution_count": null,
   "id": "7f3e48f7",
   "metadata": {
    "execution": {
     "iopub.execute_input": "2023-09-06T20:54:17.721934Z",
     "iopub.status.busy": "2023-09-06T20:54:17.721678Z",
     "iopub.status.idle": "2023-09-06T20:54:17.726551Z",
     "shell.execute_reply": "2023-09-06T20:54:17.725850Z"
    }
   },
   "outputs": [],
   "source": [
    "bool(\"\")"
   ]
  },
  {
   "cell_type": "code",
   "execution_count": null,
   "id": "b612fe3c",
   "metadata": {
    "execution": {
     "iopub.execute_input": "2023-09-06T20:54:17.729453Z",
     "iopub.status.busy": "2023-09-06T20:54:17.729203Z",
     "iopub.status.idle": "2023-09-06T20:54:17.733673Z",
     "shell.execute_reply": "2023-09-06T20:54:17.733058Z"
    }
   },
   "outputs": [],
   "source": [
    "bool(\"0\")"
   ]
  },
  {
   "cell_type": "markdown",
   "id": "a856b88d",
   "metadata": {
    "slideshow": {
     "slide_type": "slide"
    }
   },
   "source": [
    "# Expressions\n",
    "\n",
    "* **Expressions** are the most basic instructions in Python\n",
    "* They are made up of one or more **values**, and zero or more **operators**\n",
    "* They always **evaluate** down to a single value\n"
   ]
  },
  {
   "cell_type": "markdown",
   "id": "0b58fce1",
   "metadata": {
    "slideshow": {
     "slide_type": "subslide"
    }
   },
   "source": [
    "## Expression examples"
   ]
  },
  {
   "cell_type": "code",
   "execution_count": null,
   "id": "2f7d10a4",
   "metadata": {
    "execution": {
     "iopub.execute_input": "2023-09-06T20:54:17.736701Z",
     "iopub.status.busy": "2023-09-06T20:54:17.736445Z",
     "iopub.status.idle": "2023-09-06T20:54:17.740468Z",
     "shell.execute_reply": "2023-09-06T20:54:17.739859Z"
    },
    "slideshow": {
     "slide_type": "-"
    }
   },
   "outputs": [],
   "source": [
    "7"
   ]
  },
  {
   "cell_type": "code",
   "execution_count": null,
   "id": "c3e671b7",
   "metadata": {
    "execution": {
     "iopub.execute_input": "2023-09-06T20:54:17.743295Z",
     "iopub.status.busy": "2023-09-06T20:54:17.743051Z",
     "iopub.status.idle": "2023-09-06T20:54:17.746861Z",
     "shell.execute_reply": "2023-09-06T20:54:17.746344Z"
    },
    "slideshow": {
     "slide_type": "-"
    }
   },
   "outputs": [],
   "source": [
    "2 + 2"
   ]
  },
  {
   "cell_type": "code",
   "execution_count": null,
   "id": "8c02531e",
   "metadata": {
    "execution": {
     "iopub.execute_input": "2023-09-06T20:54:17.749857Z",
     "iopub.status.busy": "2023-09-06T20:54:17.749609Z",
     "iopub.status.idle": "2023-09-06T20:54:17.753486Z",
     "shell.execute_reply": "2023-09-06T20:54:17.752930Z"
    },
    "slideshow": {
     "slide_type": "-"
    }
   },
   "outputs": [],
   "source": [
    "10 / 8"
   ]
  },
  {
   "cell_type": "code",
   "execution_count": null,
   "id": "d71d5972",
   "metadata": {
    "execution": {
     "iopub.execute_input": "2023-09-06T20:54:17.756308Z",
     "iopub.status.busy": "2023-09-06T20:54:17.756061Z",
     "iopub.status.idle": "2023-09-06T20:54:17.760007Z",
     "shell.execute_reply": "2023-09-06T20:54:17.759432Z"
    },
    "slideshow": {
     "slide_type": "-"
    }
   },
   "outputs": [],
   "source": [
    "(8**2) - 1 "
   ]
  },
  {
   "cell_type": "code",
   "execution_count": null,
   "id": "954e6090",
   "metadata": {
    "execution": {
     "iopub.execute_input": "2023-09-06T20:54:17.762778Z",
     "iopub.status.busy": "2023-09-06T20:54:17.762536Z",
     "iopub.status.idle": "2023-09-06T20:54:17.766704Z",
     "shell.execute_reply": "2023-09-06T20:54:17.766053Z"
    },
    "slideshow": {
     "slide_type": "-"
    }
   },
   "outputs": [],
   "source": [
    "(((8 % 3) ** 3) + 55) // (8 - 3) * 2"
   ]
  },
  {
   "cell_type": "markdown",
   "id": "7cab12b0",
   "metadata": {
    "slideshow": {
     "slide_type": "slide"
    }
   },
   "source": [
    "## Arithmetic operators\n",
    "\n",
    "|  Operator | Operation | Example | Evaluates to… |\n",
    "| --- | --- | --- | --- |\n",
    "| ** | exponent | `4 ** 3` | `64` |\n",
    "| % | modulo / remainder | `22 % 8` | `6` |\n",
    "| // | integer division (rounds down) | `22 // 8` | `2` |\n",
    "| / | division | `22 / 8` | `2.75` |\n",
    "| * | multiplication | `2 * 8` | `16` |\n",
    "| - | subtraction | `22 - 8` | `14` |\n",
    "| + | addition | `22 + 8` | `30` |\n"
   ]
  },
  {
   "cell_type": "markdown",
   "id": "15120bda",
   "metadata": {
    "slideshow": {
     "slide_type": "subslide"
    }
   },
   "source": [
    "## Precedence / Evaluation Order\n",
    "\n",
    "\n",
    "`(((8 % 3) ** 3) + 55) // (8 - 3) * 2`\n",
    "\n",
    "`((2 ** 3) + 55) // (8 - 3) * 2`\n",
    "\n",
    "`((2 ** 3) + 55) // 5 * 2`\n",
    "\n",
    "`(8 + 55) // 5 * 2`\n",
    "\n",
    "`63 // 5 * 2`\n",
    "\n",
    "`12 * 2`\n",
    "\n",
    "`24`\n"
   ]
  },
  {
   "cell_type": "markdown",
   "id": "d61a3303",
   "metadata": {
    "slideshow": {
     "slide_type": "subslide"
    }
   },
   "source": [
    "## Expressions and Types\n",
    "Each expression evaluates to a single value, with a single type.  \n",
    "  \n",
    "There are rules about which operators work on which types, and which type is produced from the expression.  We won't cover them exhaustively, but we'll look at some examples."
   ]
  },
  {
   "cell_type": "code",
   "execution_count": 10,
   "id": "ef738eec",
   "metadata": {},
   "outputs": [
    {
     "data": {
      "text/plain": [
       "3"
      ]
     },
     "execution_count": 10,
     "metadata": {},
     "output_type": "execute_result"
    }
   ],
   "source": [
    "1 + 2"
   ]
  },
  {
   "cell_type": "code",
   "execution_count": 11,
   "id": "2c6bc513",
   "metadata": {},
   "outputs": [
    {
     "data": {
      "text/plain": [
       "3.2"
      ]
     },
     "execution_count": 11,
     "metadata": {},
     "output_type": "execute_result"
    }
   ],
   "source": [
    "1 + 2.2"
   ]
  },
  {
   "cell_type": "code",
   "execution_count": 12,
   "id": "41a2031f",
   "metadata": {},
   "outputs": [
    {
     "data": {
      "text/plain": [
       "3.2"
      ]
     },
     "execution_count": 12,
     "metadata": {},
     "output_type": "execute_result"
    }
   ],
   "source": [
    "2.2 + 1"
   ]
  },
  {
   "cell_type": "code",
   "execution_count": 14,
   "id": "d3f8628b",
   "metadata": {},
   "outputs": [
    {
     "data": {
      "text/plain": [
       "2.76"
      ]
     },
     "execution_count": 14,
     "metadata": {},
     "output_type": "execute_result"
    }
   ],
   "source": [
    "2.3 * 1.2"
   ]
  },
  {
   "cell_type": "code",
   "execution_count": 15,
   "id": "64c8993c",
   "metadata": {
    "slideshow": {
     "slide_type": "subslide"
    }
   },
   "outputs": [
    {
     "data": {
      "text/plain": [
       "6"
      ]
     },
     "execution_count": 15,
     "metadata": {},
     "output_type": "execute_result"
    }
   ],
   "source": [
    "5 + True"
   ]
  },
  {
   "cell_type": "code",
   "execution_count": 19,
   "id": "fc17c0ee",
   "metadata": {},
   "outputs": [
    {
     "data": {
      "text/plain": [
       "3.3"
      ]
     },
     "execution_count": 19,
     "metadata": {},
     "output_type": "execute_result"
    }
   ],
   "source": [
    "2.3 + True"
   ]
  },
  {
   "cell_type": "code",
   "execution_count": null,
   "id": "afb6ce9b",
   "metadata": {
    "execution": {
     "iopub.execute_input": "2023-09-06T20:54:17.810056Z",
     "iopub.status.busy": "2023-09-06T20:54:17.809807Z",
     "iopub.status.idle": "2023-09-06T20:54:17.824450Z",
     "shell.execute_reply": "2023-09-06T20:54:17.823854Z"
    },
    "tags": [
     "raises-exception"
    ]
   },
   "outputs": [],
   "source": [
    "2 + \"Hi\""
   ]
  },
  {
   "cell_type": "code",
   "execution_count": null,
   "id": "8544683c",
   "metadata": {
    "execution": {
     "iopub.execute_input": "2023-09-06T20:54:17.828018Z",
     "iopub.status.busy": "2023-09-06T20:54:17.827756Z",
     "iopub.status.idle": "2023-09-06T20:54:17.844227Z",
     "shell.execute_reply": "2023-09-06T20:54:17.843289Z"
    },
    "tags": [
     "raises-exception"
    ]
   },
   "outputs": [],
   "source": [
    "2.3 + \"Hi\""
   ]
  },
  {
   "cell_type": "markdown",
   "id": "b16ada22",
   "metadata": {
    "slideshow": {
     "slide_type": "subslide"
    }
   },
   "source": [
    "# String operators\n",
    "\n",
    "| Operator | Operation | Example | Evaluates to… |\n",
    "| --- | --- | --- | --- |\n",
    "| + | concatenate | `“Hello ” + “World”` | `“Hello World”` |\n",
    "| * |replicate | `“Hi” * 3` | `“HiHiHi”` |\n"
   ]
  },
  {
   "cell_type": "markdown",
   "id": "ac114a01",
   "metadata": {
    "slideshow": {
     "slide_type": "subslide"
    }
   },
   "source": [
    "## String operator examples"
   ]
  },
  {
   "cell_type": "code",
   "execution_count": null,
   "id": "fd56182a",
   "metadata": {
    "execution": {
     "iopub.execute_input": "2023-09-06T20:54:17.847747Z",
     "iopub.status.busy": "2023-09-06T20:54:17.847486Z",
     "iopub.status.idle": "2023-09-06T20:54:17.852154Z",
     "shell.execute_reply": "2023-09-06T20:54:17.851526Z"
    }
   },
   "outputs": [],
   "source": [
    "\"Hi\" + \"class\""
   ]
  },
  {
   "cell_type": "code",
   "execution_count": null,
   "id": "1367f673",
   "metadata": {
    "execution": {
     "iopub.execute_input": "2023-09-06T20:54:17.855230Z",
     "iopub.status.busy": "2023-09-06T20:54:17.854959Z",
     "iopub.status.idle": "2023-09-06T20:54:17.859065Z",
     "shell.execute_reply": "2023-09-06T20:54:17.858461Z"
    }
   },
   "outputs": [],
   "source": [
    "\"Where \" + \"did I \" + \"park?\""
   ]
  },
  {
   "cell_type": "code",
   "execution_count": null,
   "id": "b28e9718",
   "metadata": {
    "execution": {
     "iopub.execute_input": "2023-09-06T20:54:17.862079Z",
     "iopub.status.busy": "2023-09-06T20:54:17.861823Z",
     "iopub.status.idle": "2023-09-06T20:54:17.865827Z",
     "shell.execute_reply": "2023-09-06T20:54:17.865226Z"
    }
   },
   "outputs": [],
   "source": [
    "\"Hi\" * 3"
   ]
  },
  {
   "cell_type": "markdown",
   "id": "c6949e2e",
   "metadata": {
    "slideshow": {
     "slide_type": "subslide"
    }
   },
   "source": [
    "## String operator examples"
   ]
  },
  {
   "cell_type": "code",
   "execution_count": null,
   "id": "5b27aae7",
   "metadata": {
    "execution": {
     "iopub.execute_input": "2023-09-06T20:54:17.868874Z",
     "iopub.status.busy": "2023-09-06T20:54:17.868614Z",
     "iopub.status.idle": "2023-09-06T20:54:17.882689Z",
     "shell.execute_reply": "2023-09-06T20:54:17.882157Z"
    },
    "tags": [
     "raises-exception"
    ]
   },
   "outputs": [],
   "source": [
    "\"Hi\" + 3"
   ]
  },
  {
   "cell_type": "code",
   "execution_count": null,
   "id": "5d086d00",
   "metadata": {
    "execution": {
     "iopub.execute_input": "2023-09-06T20:54:17.885914Z",
     "iopub.status.busy": "2023-09-06T20:54:17.885664Z",
     "iopub.status.idle": "2023-09-06T20:54:17.890559Z",
     "shell.execute_reply": "2023-09-06T20:54:17.889930Z"
    }
   },
   "outputs": [],
   "source": [
    "\"Hi\" + str(3)"
   ]
  },
  {
   "cell_type": "code",
   "execution_count": null,
   "id": "2cbffcb9",
   "metadata": {
    "execution": {
     "iopub.execute_input": "2023-09-06T20:54:17.893740Z",
     "iopub.status.busy": "2023-09-06T20:54:17.893482Z",
     "iopub.status.idle": "2023-09-06T20:54:17.897742Z",
     "shell.execute_reply": "2023-09-06T20:54:17.897148Z"
    }
   },
   "outputs": [],
   "source": [
    "\"Hi\" + str(3.0)"
   ]
  },
  {
   "cell_type": "code",
   "execution_count": null,
   "id": "61380538",
   "metadata": {
    "execution": {
     "iopub.execute_input": "2023-09-06T20:54:17.900897Z",
     "iopub.status.busy": "2023-09-06T20:54:17.900634Z",
     "iopub.status.idle": "2023-09-06T20:54:17.904795Z",
     "shell.execute_reply": "2023-09-06T20:54:17.904150Z"
    }
   },
   "outputs": [],
   "source": [
    "\"Hi\" + str(True)"
   ]
  },
  {
   "cell_type": "code",
   "execution_count": null,
   "id": "bf58328a",
   "metadata": {
    "execution": {
     "iopub.execute_input": "2023-09-06T20:54:17.907850Z",
     "iopub.status.busy": "2023-09-06T20:54:17.907579Z",
     "iopub.status.idle": "2023-09-06T20:54:17.911788Z",
     "shell.execute_reply": "2023-09-06T20:54:17.911215Z"
    }
   },
   "outputs": [],
   "source": [
    "\"Hi\" + str(int(True))"
   ]
  },
  {
   "cell_type": "markdown",
   "id": "acc01b99",
   "metadata": {
    "slideshow": {
     "slide_type": "slide"
    }
   },
   "source": [
    "# [Slido](https://wall.sli.do/event/pzCxCVvKaKKjsaesozsThu?section=87d7c7c2-6fd1-4d65-b78e-8c3aa6553576)"
   ]
  },
  {
   "cell_type": "markdown",
   "id": "63db525d",
   "metadata": {
    "slideshow": {
     "slide_type": "slide"
    }
   },
   "source": [
    "# Variables\n",
    "\n",
    "* Like a box\\* in the computer’s memory where you can store a single value\n",
    "* The box has a **name**, and a **value** inside it"
   ]
  },
  {
   "cell_type": "markdown",
   "id": "cb521422",
   "metadata": {
    "slideshow": {
     "slide_type": "fragment"
    }
   },
   "source": [
    "\\* Full disclosure: This analogy is imperfect in Python, we'll come back to this later in the term"
   ]
  },
  {
   "cell_type": "markdown",
   "id": "b2f90eaa",
   "metadata": {
    "slideshow": {
     "slide_type": "subslide"
    }
   },
   "source": [
    "## Variables - what can you do with them? \n",
    "\n",
    "You can: \n",
    "* **Assign** (put a value inside the box)\n",
    "  * The first time you assign to a variable, the variable is **declared** (i.e. the box is created for you)\n",
    "* **Read** or **use** the value\n"
   ]
  },
  {
   "cell_type": "code",
   "execution_count": null,
   "id": "dc197b71",
   "metadata": {
    "execution": {
     "iopub.execute_input": "2023-09-06T20:54:17.915164Z",
     "iopub.status.busy": "2023-09-06T20:54:17.914898Z",
     "iopub.status.idle": "2023-09-06T20:54:17.919129Z",
     "shell.execute_reply": "2023-09-06T20:54:17.918523Z"
    }
   },
   "outputs": [],
   "source": [
    "# declare the variable \"name\" and assign the string \"Joe\" to it\n",
    "name = \"Joe\"\n",
    "print(name)\n",
    "\n",
    "# assign the string \"Spongebob\" to the variable \"name\", overwriting the old value (\"Joe\")\n",
    "name = \"Spongebob\"\n",
    "print(name)\n",
    "\n",
    "# appends \" Squarepants\" to \"Spongebob\", setting the name variable equal to \"Spongebob Squarepants\"\n",
    "name = name + \" Squarepants\"\n",
    "print(name)\n"
   ]
  },
  {
   "cell_type": "markdown",
   "id": "eacb8ddc",
   "metadata": {
    "slideshow": {
     "slide_type": "subslide"
    }
   },
   "source": [
    "## Variable example usage"
   ]
  },
  {
   "cell_type": "code",
   "execution_count": null,
   "id": "b2280c9c",
   "metadata": {
    "execution": {
     "iopub.execute_input": "2023-09-06T20:54:17.922230Z",
     "iopub.status.busy": "2023-09-06T20:54:17.921904Z",
     "iopub.status.idle": "2023-09-06T20:54:17.926851Z",
     "shell.execute_reply": "2023-09-06T20:54:17.926179Z"
    }
   },
   "outputs": [],
   "source": [
    "# %load ../../snippets/variables.py\n",
    "tetons = \"mountains\"\n",
    "acadia = \"forests\"\n",
    "\n",
    "print(tetons)\n",
    "print(acadia)\n",
    "\n",
    "tetons = \"beautiful\"\n",
    "\n",
    "print(tetons)\n",
    "print(tetons + acadia)\n",
    "print(tetons + \" \" + acadia)\n",
    "\n",
    "answer = 42\n",
    "acadia = acadia + \" are peaceful\"\n",
    "print(acadia + str(answer))\n",
    "\n",
    "joshua_tree = str(answer + 7)\n",
    "print(tetons + \" \" + joshua_tree)\n",
    "\n"
   ]
  },
  {
   "cell_type": "markdown",
   "id": "c0e9c8ca",
   "metadata": {
    "slideshow": {
     "slide_type": "subslide"
    }
   },
   "source": [
    "# Step-thru debugging revisited\n",
    "\n",
    "repl.it: [Lecture 2 exercises: Variables](https://replit.com/@cosi-10a-fall23/Variables#main.py)"
   ]
  },
  {
   "cell_type": "markdown",
   "id": "491e7aee",
   "metadata": {
    "slideshow": {
     "slide_type": "subslide"
    }
   },
   "source": [
    "# Variable naming - requirements\n",
    "\n",
    "* Must start with a letter or the underscore character\n",
    "* Cannot start with a number\n",
    "* Can only contain alphanumeric characters and underscores (A-z, 0-9, and _ )\n",
    "  * No spaces! No dashes! \n",
    "* Case-sensitive \n",
    "  * \"banff\", \"Banff\" and \"BANFF\" are three different variables"
   ]
  },
  {
   "cell_type": "markdown",
   "id": "0fb8e10c",
   "metadata": {},
   "source": [
    "| Valid names | <span style=\"color:red\">Invalid names</span> |\n",
    "| --- | --- | \n",
    "| no_hyphens | <span style=\"color:red\">no-hyphens</span> |\n",
    "| foo42 | <span style=\"color:red\">42foo</span> |\n",
    "| \\_bar | <span style=\"color:red\">bar$</span> |\n",
    "| chocolateIsGreat | <span style=\"color:red\">chocolate is great</span> |\n",
    "| no_special_chars | <span style=\"color:red\">'no_special_chars'</span> |\n"
   ]
  },
  {
   "cell_type": "markdown",
   "id": "a138bd98",
   "metadata": {
    "slideshow": {
     "slide_type": "subslide"
    }
   },
   "source": [
    "## Variable naming - suggestions\n",
    "\n",
    "* Variable names should be descriptive, and reflect the data stored in the value\n",
    "  * E.g. `userName` instead of `u` or `data`\n",
    "* There are several common naming conventions for variables. Try to pick one and stick with it within a single program:\n",
    "  * `lower_case_with_underscores`\n",
    "  * `camelCase`\n",
    "  * `UpperCamelCase`\n",
    "  * `alllowercase` (not recommended)\n",
    "  * `ALL_CAPS_WITH_UNDERSCORES` (not recommended)\n"
   ]
  },
  {
   "cell_type": "markdown",
   "id": "42f50421",
   "metadata": {
    "slideshow": {
     "slide_type": "slide"
    }
   },
   "source": [
    "## Code \"style\"\n",
    "\n",
    "* Almost all code is read more often than it is written\n",
    "* Even if the code is only for you - it takes a surprisingly short amount of time to forget exactly how your code works\n",
    "* Using consistent, readable style is a good practice that will save you time and confusion as your programs become more complex.\n",
    "* That said - you won't be graded on style, and you don't need to follow any particular coding style in this class. Your initial goal is to produce working code that you understand.\n",
    "* Side note: Python has an extensive [style guide](https://peps.python.org/pep-0008), but much of it won't make sense or be applicable yet."
   ]
  },
  {
   "cell_type": "markdown",
   "id": "27b1ca6d",
   "metadata": {
    "slideshow": {
     "slide_type": "slide"
    }
   },
   "source": [
    "# A (small) real program"
   ]
  },
  {
   "cell_type": "markdown",
   "id": "b492f9b7",
   "metadata": {
    "slideshow": {
     "slide_type": "fragment"
    }
   },
   "source": [
    "### But first: User input\n",
    "* The `input()` function prompts a user for input\n",
    "* It takes one **argument**: the text to display before waiting for the user to type\n",
    "* [Official documentation](https://docs.python.org/3/library/functions.html#input)\n"
   ]
  },
  {
   "cell_type": "code",
   "execution_count": null,
   "id": "6d8d6b19",
   "metadata": {
    "execution": {
     "iopub.execute_input": "2023-09-06T20:54:17.930348Z",
     "iopub.status.busy": "2023-09-06T20:54:17.930085Z",
     "iopub.status.idle": "2023-09-06T20:54:18.014350Z",
     "shell.execute_reply": "2023-09-06T20:54:18.013553Z"
    },
    "slideshow": {
     "slide_type": "-"
    },
    "tags": [
     "remove-output"
    ]
   },
   "outputs": [],
   "source": [
    "name = input(\"What is your name? \")\n",
    "print(\"Hi \" + name)"
   ]
  },
  {
   "cell_type": "markdown",
   "id": "9399759a",
   "metadata": {
    "slideshow": {
     "slide_type": "subslide"
    }
   },
   "source": [
    "# A (small) real program\n",
    "repl.it: [Lecture 2 exercises: Age Calculator](https://replit.com/@cosi-10a-fall23/Age-calculator#main.py)\n",
    "\n",
    "Add to this program so that it prints some facts about the user's age:\n",
    "\n",
    "* Print out the (approximate) age of the user in years.\n",
    "* Print out how old the user was in some year in the past (e.g. \"You were 10 years old in 2015!\").\n",
    "* Print out the (approximate) age of the user in seconds."
   ]
  },
  {
   "cell_type": "markdown",
   "id": "09f6fe5c",
   "metadata": {
    "slideshow": {
     "slide_type": "subslide"
    }
   },
   "source": [
    "## One possible solution"
   ]
  },
  {
   "cell_type": "code",
   "execution_count": null,
   "id": "16a7007c",
   "metadata": {
    "execution": {
     "iopub.execute_input": "2023-09-06T20:54:18.018266Z",
     "iopub.status.busy": "2023-09-06T20:54:18.017972Z",
     "iopub.status.idle": "2023-09-06T20:54:18.045678Z",
     "shell.execute_reply": "2023-09-06T20:54:18.044943Z"
    },
    "tags": [
     "remove-output"
    ]
   },
   "outputs": [],
   "source": [
    "# %load ../../snippets/age_calculator.py\n",
    "name = input(\"What is your name? \")\n",
    "year = int(input(\"Hi \" + name + \". What year is it now? \"))\n",
    "birth_year = int(input(\"What year were you born? \"))\n",
    "y2k = 1999\n",
    "\n",
    "print()\n",
    "print(\"Here are some age facts, \" + name + \":\")\n",
    "\n",
    "age = year - birth_year\n",
    "print(\"You are ~\" + str(age) + \" years old.\")\n",
    "print(\"You were ~\" + str(y2k - birth_year) + \" years old when Y2K happened.\")\n",
    "\n",
    "seconds_old = age * 365 * 24 * 60 * 60\n",
    "print(\"You are approximately \" + str(seconds_old) + \" seconds old!\")\n"
   ]
  },
  {
   "cell_type": "markdown",
   "id": "04e4651d",
   "metadata": {
    "slideshow": {
     "slide_type": "slide"
    }
   },
   "source": [
    "## PS1 overview\n",
    "\n",
    "[PS1](https://mastery.cs.brandeis.edu/showProblemSet/6484d6e3681742c01e844936)\n",
    "\n",
    "No quiz in tomorrow's recitation - first quiz is Wednesday, 9/18"
   ]
  },
  {
   "cell_type": "markdown",
   "id": "3259ee53",
   "metadata": {
    "slideshow": {
     "slide_type": "slide"
    }
   },
   "source": [
    "# [Slido](https://wall.sli.do/event/pzCxCVvKaKKjsaesozsThu?section=87d7c7c2-6fd1-4d65-b78e-8c3aa6553576)"
   ]
  },
  {
   "cell_type": "code",
   "execution_count": null,
   "id": "8de13901",
   "metadata": {},
   "outputs": [],
   "source": []
  }
 ],
 "metadata": {
  "celltoolbar": "Slideshow",
  "kernelspec": {
   "display_name": "Python 3 (ipykernel)",
   "language": "python",
   "name": "python3"
  },
  "language_info": {
   "codemirror_mode": {
    "name": "ipython",
    "version": 3
   },
   "file_extension": ".py",
   "mimetype": "text/x-python",
   "name": "python",
   "nbconvert_exporter": "python",
   "pygments_lexer": "ipython3",
   "version": "3.10.9"
  },
  "toc": {
   "base_numbering": 0
  }
 },
 "nbformat": 4,
 "nbformat_minor": 5
}
