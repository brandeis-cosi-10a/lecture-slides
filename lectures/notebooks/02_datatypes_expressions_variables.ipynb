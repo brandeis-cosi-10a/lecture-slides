{
 "cells": [
  {
   "cell_type": "markdown",
   "id": "26653147",
   "metadata": {},
   "source": [
    "# Cosi-10a: Introduction to Problem Solving in Python\n",
    "### Fall 2024\n",
    "\n",
    "<small>[Link to interactive slides on Google Colab](https://colab.research.google.com/github/brandeis-cosi-10a/lecture-slides/blob/24fall/)</small>\n",
    "\n",
    "<style>\n",
    "section.present > section.present { \n",
    "    max-height: 100%; \n",
    "    overflow-y: scroll;\n",
    "}\n",
    "</style>"
   ]
  },
  {
   "cell_type": "markdown",
   "id": "43e1f8ce",
   "metadata": {
    "slideshow": {
     "slide_type": "slide"
    }
   },
   "source": [
    "# Data Types"
   ]
  },
  {
   "cell_type": "markdown",
   "id": "64daceb0",
   "metadata": {
    "slideshow": {
     "slide_type": "slide"
    },
    "tags": []
   },
   "source": [
    "* All values in Python have a **type**\n",
    "* Some basic Python data types:\n",
    "  * `str`: string; sequence of characters (from last lecture)\n",
    "  * `int`: integer; whole numbers\t\n",
    "  * `float`: floating point number; real numbers (decimals)\n",
    "  * `bool`: boolean; `True` or `False`\n",
    "\n"
   ]
  },
  {
   "cell_type": "markdown",
   "id": "2f332fd6",
   "metadata": {
    "slideshow": {
     "slide_type": "fragment"
    }
   },
   "source": [
    "Exhaustive documentation of data types: https://docs.python.org/3/library/stdtypes.html"
   ]
  },
  {
   "cell_type": "markdown",
   "id": "69758551",
   "metadata": {
    "slideshow": {
     "slide_type": "subslide"
    },
    "tags": []
   },
   "source": [
    "# Data type examples"
   ]
  },
  {
   "cell_type": "markdown",
   "id": "7cd93c83",
   "metadata": {
    "slideshow": {
     "slide_type": "fragment"
    },
    "tags": []
   },
   "source": [
    "* str: `“Hi”`, `“I’m a string”`, `“Hopefully these are familiar”`"
   ]
  },
  {
   "cell_type": "markdown",
   "id": "7c033d5a",
   "metadata": {
    "slideshow": {
     "slide_type": "fragment"
    },
    "tags": []
   },
   "source": [
    "* int: `1`, `10`, `3`, `9104919`\n"
   ]
  },
  {
   "cell_type": "markdown",
   "id": "bd2ecbbd",
   "metadata": {
    "slideshow": {
     "slide_type": "fragment"
    },
    "tags": []
   },
   "source": [
    "* float: `1.2`, `10.1`, `84191.000001`, `2.0`\n",
    "  * Note that 2.0 is a float, even though it is a whole number\n",
    "  * The decimal point forces the number to a float type"
   ]
  },
  {
   "cell_type": "markdown",
   "id": "6f63e327",
   "metadata": {
    "slideshow": {
     "slide_type": "fragment"
    },
    "tags": []
   },
   "source": [
    "* bool: `True`, `False`\n",
    "  * Capitalization matters!\n"
   ]
  },
  {
   "cell_type": "markdown",
   "id": "a33cf749",
   "metadata": {
    "slideshow": {
     "slide_type": "subslide"
    },
    "tags": []
   },
   "source": [
    "# Type conversions\n",
    "\n",
    "You can convert between different data types:\n",
    "\n",
    "* `int(<value>)` → convert value to an int\n",
    "* `float(<value>)` → convert value to a float\n",
    "* `str(<value>)` → convert value to a str\n",
    "* `bool(<value>)` → convert value to a bool"
   ]
  },
  {
   "cell_type": "markdown",
   "id": "753cdb28",
   "metadata": {
    "slideshow": {
     "slide_type": "fragment"
    },
    "tags": []
   },
   "source": [
    "The `<>` notation above is common - `<value>` is a stand-in for any value. The brackets are part of the notation, and don’t show up in the code you’d write."
   ]
  },
  {
   "cell_type": "markdown",
   "id": "85ebaa42",
   "metadata": {
    "slideshow": {
     "slide_type": "subslide"
    },
    "tags": []
   },
   "source": [
    "* `int(<value>)` → convert value to an int"
   ]
  },
  {
   "cell_type": "code",
   "execution_count": null,
   "id": "a7a1f279",
   "metadata": {
    "execution": {
     "iopub.execute_input": "2024-08-20T19:31:43.282618Z",
     "iopub.status.busy": "2024-08-20T19:31:43.282299Z",
     "iopub.status.idle": "2024-08-20T19:31:43.302377Z",
     "shell.execute_reply": "2024-08-20T19:31:43.301460Z"
    },
    "slideshow": {
     "slide_type": "-"
    },
    "tags": []
   },
   "outputs": [],
   "source": [
    "int(1.0)"
   ]
  },
  {
   "cell_type": "code",
   "execution_count": null,
   "id": "2be05b65",
   "metadata": {
    "execution": {
     "iopub.execute_input": "2024-08-20T19:31:43.306175Z",
     "iopub.status.busy": "2024-08-20T19:31:43.305862Z",
     "iopub.status.idle": "2024-08-20T19:31:43.310730Z",
     "shell.execute_reply": "2024-08-20T19:31:43.309966Z"
    },
    "slideshow": {
     "slide_type": "-"
    },
    "tags": []
   },
   "outputs": [],
   "source": [
    "int(1.999)"
   ]
  },
  {
   "cell_type": "code",
   "execution_count": null,
   "id": "cf96b7ae",
   "metadata": {
    "execution": {
     "iopub.execute_input": "2024-08-20T19:31:43.314162Z",
     "iopub.status.busy": "2024-08-20T19:31:43.313857Z",
     "iopub.status.idle": "2024-08-20T19:31:43.318721Z",
     "shell.execute_reply": "2024-08-20T19:31:43.317955Z"
    },
    "slideshow": {
     "slide_type": "-"
    },
    "tags": []
   },
   "outputs": [],
   "source": [
    "int(\"3\")\n"
   ]
  },
  {
   "cell_type": "markdown",
   "id": "a99204d4",
   "metadata": {
    "slideshow": {
     "slide_type": "subslide"
    },
    "tags": []
   },
   "source": [
    "### Some conversions don't work, or are surprising\n",
    "* `int(<value>)` → convert value to an int"
   ]
  },
  {
   "cell_type": "code",
   "execution_count": null,
   "id": "4909d3fb",
   "metadata": {
    "execution": {
     "iopub.execute_input": "2024-08-20T19:31:43.322575Z",
     "iopub.status.busy": "2024-08-20T19:31:43.322262Z",
     "iopub.status.idle": "2024-08-20T19:31:43.681110Z",
     "shell.execute_reply": "2024-08-20T19:31:43.680382Z"
    },
    "slideshow": {
     "slide_type": "-"
    },
    "tags": [
     "raises-exception"
    ]
   },
   "outputs": [],
   "source": [
    "int(\"Hi\")"
   ]
  },
  {
   "cell_type": "code",
   "execution_count": null,
   "id": "b8233b2e",
   "metadata": {
    "execution": {
     "iopub.execute_input": "2024-08-20T19:31:43.685188Z",
     "iopub.status.busy": "2024-08-20T19:31:43.684868Z",
     "iopub.status.idle": "2024-08-20T19:31:43.700936Z",
     "shell.execute_reply": "2024-08-20T19:31:43.700050Z"
    },
    "slideshow": {
     "slide_type": "-"
    },
    "tags": [
     "raises-exception"
    ]
   },
   "outputs": [],
   "source": [
    "int(\"1.999\")"
   ]
  },
  {
   "cell_type": "markdown",
   "id": "3e26199a",
   "metadata": {
    "slideshow": {
     "slide_type": "subslide"
    },
    "tags": []
   },
   "source": [
    "* `float(<value>)` → convert value to an float"
   ]
  },
  {
   "cell_type": "code",
   "execution_count": null,
   "id": "2dcb293a",
   "metadata": {
    "execution": {
     "iopub.execute_input": "2024-08-20T19:31:43.706318Z",
     "iopub.status.busy": "2024-08-20T19:31:43.705750Z",
     "iopub.status.idle": "2024-08-20T19:31:43.710939Z",
     "shell.execute_reply": "2024-08-20T19:31:43.710317Z"
    },
    "slideshow": {
     "slide_type": "-"
    },
    "tags": []
   },
   "outputs": [],
   "source": [
    "float(2)"
   ]
  },
  {
   "cell_type": "code",
   "execution_count": null,
   "id": "6e1356f7",
   "metadata": {
    "execution": {
     "iopub.execute_input": "2024-08-20T19:31:43.714027Z",
     "iopub.status.busy": "2024-08-20T19:31:43.713727Z",
     "iopub.status.idle": "2024-08-20T19:31:43.718532Z",
     "shell.execute_reply": "2024-08-20T19:31:43.717633Z"
    },
    "slideshow": {
     "slide_type": "-"
    },
    "tags": []
   },
   "outputs": [],
   "source": [
    "float(\"2\")"
   ]
  },
  {
   "cell_type": "code",
   "execution_count": null,
   "id": "f9c62425",
   "metadata": {
    "execution": {
     "iopub.execute_input": "2024-08-20T19:31:43.721864Z",
     "iopub.status.busy": "2024-08-20T19:31:43.721469Z",
     "iopub.status.idle": "2024-08-20T19:31:43.726119Z",
     "shell.execute_reply": "2024-08-20T19:31:43.725573Z"
    },
    "slideshow": {
     "slide_type": "-"
    },
    "tags": []
   },
   "outputs": [],
   "source": [
    "float(\"2.5\")"
   ]
  },
  {
   "cell_type": "code",
   "execution_count": null,
   "id": "feec253c",
   "metadata": {
    "execution": {
     "iopub.execute_input": "2024-08-20T19:31:43.729295Z",
     "iopub.status.busy": "2024-08-20T19:31:43.729025Z",
     "iopub.status.idle": "2024-08-20T19:31:43.745733Z",
     "shell.execute_reply": "2024-08-20T19:31:43.745161Z"
    },
    "slideshow": {
     "slide_type": "-"
    },
    "tags": [
     "raises-exception"
    ]
   },
   "outputs": [],
   "source": [
    "float(\"Hi again\")"
   ]
  },
  {
   "cell_type": "markdown",
   "id": "c70eb0ed",
   "metadata": {
    "slideshow": {
     "slide_type": "subslide"
    },
    "tags": []
   },
   "source": [
    "* `str(<value>)` → convert value to a str"
   ]
  },
  {
   "cell_type": "code",
   "execution_count": null,
   "id": "050f010f",
   "metadata": {
    "execution": {
     "iopub.execute_input": "2024-08-20T19:31:43.748886Z",
     "iopub.status.busy": "2024-08-20T19:31:43.748624Z",
     "iopub.status.idle": "2024-08-20T19:31:43.754266Z",
     "shell.execute_reply": "2024-08-20T19:31:43.753562Z"
    },
    "slideshow": {
     "slide_type": ""
    },
    "tags": []
   },
   "outputs": [],
   "source": [
    "str(2)"
   ]
  },
  {
   "cell_type": "code",
   "execution_count": null,
   "id": "9ba2b278",
   "metadata": {
    "execution": {
     "iopub.execute_input": "2024-08-20T19:31:43.757955Z",
     "iopub.status.busy": "2024-08-20T19:31:43.757663Z",
     "iopub.status.idle": "2024-08-20T19:31:43.762419Z",
     "shell.execute_reply": "2024-08-20T19:31:43.761774Z"
    },
    "slideshow": {
     "slide_type": ""
    },
    "tags": []
   },
   "outputs": [],
   "source": [
    "str(2.5)"
   ]
  },
  {
   "cell_type": "markdown",
   "id": "ccd00740",
   "metadata": {
    "slideshow": {
     "slide_type": "subslide"
    }
   },
   "source": [
    "* `bool(<value>)` → convert value to a bool"
   ]
  },
  {
   "cell_type": "code",
   "execution_count": null,
   "id": "5e28d10f",
   "metadata": {
    "execution": {
     "iopub.execute_input": "2024-08-20T19:31:43.765449Z",
     "iopub.status.busy": "2024-08-20T19:31:43.765188Z",
     "iopub.status.idle": "2024-08-20T19:31:43.770456Z",
     "shell.execute_reply": "2024-08-20T19:31:43.769719Z"
    }
   },
   "outputs": [],
   "source": [
    "bool(1)"
   ]
  },
  {
   "cell_type": "code",
   "execution_count": null,
   "id": "5abe200a",
   "metadata": {
    "execution": {
     "iopub.execute_input": "2024-08-20T19:31:43.774743Z",
     "iopub.status.busy": "2024-08-20T19:31:43.774274Z",
     "iopub.status.idle": "2024-08-20T19:31:43.779069Z",
     "shell.execute_reply": "2024-08-20T19:31:43.778473Z"
    }
   },
   "outputs": [],
   "source": [
    "bool(0)"
   ]
  },
  {
   "cell_type": "code",
   "execution_count": null,
   "id": "5180d4aa",
   "metadata": {
    "execution": {
     "iopub.execute_input": "2024-08-20T19:31:43.781997Z",
     "iopub.status.busy": "2024-08-20T19:31:43.781732Z",
     "iopub.status.idle": "2024-08-20T19:31:43.788292Z",
     "shell.execute_reply": "2024-08-20T19:31:43.787058Z"
    }
   },
   "outputs": [],
   "source": [
    "bool(0.5)"
   ]
  },
  {
   "cell_type": "code",
   "execution_count": null,
   "id": "e1afefca",
   "metadata": {
    "execution": {
     "iopub.execute_input": "2024-08-20T19:31:43.793542Z",
     "iopub.status.busy": "2024-08-20T19:31:43.793130Z",
     "iopub.status.idle": "2024-08-20T19:31:43.797544Z",
     "shell.execute_reply": "2024-08-20T19:31:43.797000Z"
    }
   },
   "outputs": [],
   "source": [
    "bool(\"why hello there\")"
   ]
  },
  {
   "cell_type": "code",
   "execution_count": null,
   "id": "7f3e48f7",
   "metadata": {
    "execution": {
     "iopub.execute_input": "2024-08-20T19:31:43.802066Z",
     "iopub.status.busy": "2024-08-20T19:31:43.801235Z",
     "iopub.status.idle": "2024-08-20T19:31:43.808068Z",
     "shell.execute_reply": "2024-08-20T19:31:43.806628Z"
    }
   },
   "outputs": [],
   "source": [
    "bool(\"\")"
   ]
  },
  {
   "cell_type": "code",
   "execution_count": null,
   "id": "b612fe3c",
   "metadata": {
    "execution": {
     "iopub.execute_input": "2024-08-20T19:31:43.811942Z",
     "iopub.status.busy": "2024-08-20T19:31:43.811665Z",
     "iopub.status.idle": "2024-08-20T19:31:43.816222Z",
     "shell.execute_reply": "2024-08-20T19:31:43.815408Z"
    }
   },
   "outputs": [],
   "source": [
    "bool(\"0\")"
   ]
  },
  {
   "cell_type": "markdown",
   "id": "a856b88d",
   "metadata": {
    "slideshow": {
     "slide_type": "slide"
    }
   },
   "source": [
    "# Expressions\n",
    "\n",
    "* **Expressions** are the most basic instructions in Python\n",
    "* They are made up of one or more **values**, and zero or more **operators**\n",
    "* They always **evaluate** down to a single value\n"
   ]
  },
  {
   "cell_type": "markdown",
   "id": "0b58fce1",
   "metadata": {
    "slideshow": {
     "slide_type": "subslide"
    }
   },
   "source": [
    "## Expression examples"
   ]
  },
  {
   "cell_type": "code",
   "execution_count": null,
   "id": "2f7d10a4",
   "metadata": {
    "execution": {
     "iopub.execute_input": "2024-08-20T19:31:43.821002Z",
     "iopub.status.busy": "2024-08-20T19:31:43.820597Z",
     "iopub.status.idle": "2024-08-20T19:31:43.826692Z",
     "shell.execute_reply": "2024-08-20T19:31:43.825891Z"
    },
    "slideshow": {
     "slide_type": "-"
    }
   },
   "outputs": [],
   "source": [
    "7"
   ]
  },
  {
   "cell_type": "code",
   "execution_count": null,
   "id": "c3e671b7",
   "metadata": {
    "execution": {
     "iopub.execute_input": "2024-08-20T19:31:43.829918Z",
     "iopub.status.busy": "2024-08-20T19:31:43.829654Z",
     "iopub.status.idle": "2024-08-20T19:31:43.834789Z",
     "shell.execute_reply": "2024-08-20T19:31:43.833620Z"
    },
    "slideshow": {
     "slide_type": "-"
    }
   },
   "outputs": [],
   "source": [
    "2 + 2"
   ]
  },
  {
   "cell_type": "code",
   "execution_count": null,
   "id": "8c02531e",
   "metadata": {
    "execution": {
     "iopub.execute_input": "2024-08-20T19:31:43.840325Z",
     "iopub.status.busy": "2024-08-20T19:31:43.839841Z",
     "iopub.status.idle": "2024-08-20T19:31:43.844878Z",
     "shell.execute_reply": "2024-08-20T19:31:43.844019Z"
    },
    "slideshow": {
     "slide_type": "-"
    }
   },
   "outputs": [],
   "source": [
    "10 / 8"
   ]
  },
  {
   "cell_type": "code",
   "execution_count": null,
   "id": "d71d5972",
   "metadata": {
    "execution": {
     "iopub.execute_input": "2024-08-20T19:31:43.848127Z",
     "iopub.status.busy": "2024-08-20T19:31:43.847824Z",
     "iopub.status.idle": "2024-08-20T19:31:43.853369Z",
     "shell.execute_reply": "2024-08-20T19:31:43.852402Z"
    },
    "slideshow": {
     "slide_type": "-"
    }
   },
   "outputs": [],
   "source": [
    "(8**2) - 1 "
   ]
  },
  {
   "cell_type": "code",
   "execution_count": null,
   "id": "954e6090",
   "metadata": {
    "execution": {
     "iopub.execute_input": "2024-08-20T19:31:43.858745Z",
     "iopub.status.busy": "2024-08-20T19:31:43.858295Z",
     "iopub.status.idle": "2024-08-20T19:31:43.863634Z",
     "shell.execute_reply": "2024-08-20T19:31:43.862926Z"
    },
    "slideshow": {
     "slide_type": "-"
    }
   },
   "outputs": [],
   "source": [
    "(((8 % 3) ** 3) + 55) // (8 - 3) * 2"
   ]
  },
  {
   "cell_type": "markdown",
   "id": "7cab12b0",
   "metadata": {
    "slideshow": {
     "slide_type": "slide"
    }
   },
   "source": [
    "## Arithmetic operators\n",
    "\n",
    "|  Operator | Operation | Example | Evaluates to… |\n",
    "| --- | --- | --- | --- |\n",
    "| ** | exponent | `4 ** 3` | `64` |\n",
    "| % | modulo / remainder | `22 % 8` | `6` |\n",
    "| // | integer division (rounds down) | `22 // 8` | `2` |\n",
    "| / | division | `22 / 8` | `2.75` |\n",
    "| * | multiplication | `2 * 8` | `16` |\n",
    "| - | subtraction | `22 - 8` | `14` |\n",
    "| + | addition | `22 + 8` | `30` |\n"
   ]
  },
  {
   "cell_type": "markdown",
   "id": "15120bda",
   "metadata": {
    "slideshow": {
     "slide_type": "subslide"
    }
   },
   "source": [
    "## Precedence / Evaluation Order\n",
    "\n",
    "\n",
    "`(((8 % 3) ** 3) + 55) // (8 - 3) * 2`\n",
    "\n",
    "`((2 ** 3) + 55) // (8 - 3) * 2`\n",
    "\n",
    "`((2 ** 3) + 55) // 5 * 2`\n",
    "\n",
    "`(8 + 55) // 5 * 2`\n",
    "\n",
    "`63 // 5 * 2`\n",
    "\n",
    "`12 * 2`\n",
    "\n",
    "`24`\n"
   ]
  },
  {
   "cell_type": "markdown",
   "id": "d61a3303",
   "metadata": {
    "slideshow": {
     "slide_type": "subslide"
    }
   },
   "source": [
    "## Expressions and Types\n",
    "Each expression evaluates to a single value, with a single type.  \n",
    "  \n",
    "There are rules about which operators work on which types, and which type is produced from the expression.  We won't cover them exhaustively, but we'll look at some examples."
   ]
  },
  {
   "cell_type": "code",
   "execution_count": null,
   "id": "ef738eec",
   "metadata": {
    "execution": {
     "iopub.execute_input": "2024-08-20T19:31:43.868236Z",
     "iopub.status.busy": "2024-08-20T19:31:43.867682Z",
     "iopub.status.idle": "2024-08-20T19:31:43.874709Z",
     "shell.execute_reply": "2024-08-20T19:31:43.873709Z"
    }
   },
   "outputs": [],
   "source": [
    "1 + 2"
   ]
  },
  {
   "cell_type": "code",
   "execution_count": null,
   "id": "2c6bc513",
   "metadata": {
    "execution": {
     "iopub.execute_input": "2024-08-20T19:31:43.878053Z",
     "iopub.status.busy": "2024-08-20T19:31:43.877767Z",
     "iopub.status.idle": "2024-08-20T19:31:43.882390Z",
     "shell.execute_reply": "2024-08-20T19:31:43.881710Z"
    }
   },
   "outputs": [],
   "source": [
    "1 + 2.2"
   ]
  },
  {
   "cell_type": "code",
   "execution_count": null,
   "id": "41a2031f",
   "metadata": {
    "execution": {
     "iopub.execute_input": "2024-08-20T19:31:43.886872Z",
     "iopub.status.busy": "2024-08-20T19:31:43.886353Z",
     "iopub.status.idle": "2024-08-20T19:31:43.893097Z",
     "shell.execute_reply": "2024-08-20T19:31:43.892180Z"
    }
   },
   "outputs": [],
   "source": [
    "2.2 + 1"
   ]
  },
  {
   "cell_type": "code",
   "execution_count": null,
   "id": "d3f8628b",
   "metadata": {
    "execution": {
     "iopub.execute_input": "2024-08-20T19:31:43.896851Z",
     "iopub.status.busy": "2024-08-20T19:31:43.896475Z",
     "iopub.status.idle": "2024-08-20T19:31:43.901421Z",
     "shell.execute_reply": "2024-08-20T19:31:43.900215Z"
    }
   },
   "outputs": [],
   "source": [
    "2.3 * 1.2"
   ]
  },
  {
   "cell_type": "code",
   "execution_count": null,
   "id": "64c8993c",
   "metadata": {
    "execution": {
     "iopub.execute_input": "2024-08-20T19:31:43.905570Z",
     "iopub.status.busy": "2024-08-20T19:31:43.905020Z",
     "iopub.status.idle": "2024-08-20T19:31:43.909637Z",
     "shell.execute_reply": "2024-08-20T19:31:43.909053Z"
    },
    "slideshow": {
     "slide_type": "subslide"
    }
   },
   "outputs": [],
   "source": [
    "5 + True"
   ]
  },
  {
   "cell_type": "code",
   "execution_count": null,
   "id": "fc17c0ee",
   "metadata": {
    "execution": {
     "iopub.execute_input": "2024-08-20T19:31:43.912859Z",
     "iopub.status.busy": "2024-08-20T19:31:43.912505Z",
     "iopub.status.idle": "2024-08-20T19:31:43.916583Z",
     "shell.execute_reply": "2024-08-20T19:31:43.916019Z"
    }
   },
   "outputs": [],
   "source": [
    "2.3 + True"
   ]
  },
  {
   "cell_type": "code",
   "execution_count": null,
   "id": "afb6ce9b",
   "metadata": {
    "execution": {
     "iopub.execute_input": "2024-08-20T19:31:43.920506Z",
     "iopub.status.busy": "2024-08-20T19:31:43.920074Z",
     "iopub.status.idle": "2024-08-20T19:31:43.939124Z",
     "shell.execute_reply": "2024-08-20T19:31:43.937643Z"
    },
    "tags": [
     "raises-exception"
    ]
   },
   "outputs": [],
   "source": [
    "2 + \"Hi\""
   ]
  },
  {
   "cell_type": "code",
   "execution_count": null,
   "id": "8544683c",
   "metadata": {
    "execution": {
     "iopub.execute_input": "2024-08-20T19:31:43.943840Z",
     "iopub.status.busy": "2024-08-20T19:31:43.943271Z",
     "iopub.status.idle": "2024-08-20T19:31:43.962612Z",
     "shell.execute_reply": "2024-08-20T19:31:43.961429Z"
    },
    "tags": [
     "raises-exception"
    ]
   },
   "outputs": [],
   "source": [
    "2.3 + \"Hi\""
   ]
  },
  {
   "cell_type": "markdown",
   "id": "b16ada22",
   "metadata": {
    "slideshow": {
     "slide_type": "subslide"
    }
   },
   "source": [
    "# String operators\n",
    "\n",
    "| Operator | Operation | Example | Evaluates to… |\n",
    "| --- | --- | --- | --- |\n",
    "| + | concatenate | `“Hello ” + “World”` | `“Hello World”` |\n",
    "| * |replicate | `“Hi” * 3` | `“HiHiHi”` |\n"
   ]
  },
  {
   "cell_type": "markdown",
   "id": "ac114a01",
   "metadata": {
    "slideshow": {
     "slide_type": "subslide"
    }
   },
   "source": [
    "## String operator examples"
   ]
  },
  {
   "cell_type": "code",
   "execution_count": null,
   "id": "fd56182a",
   "metadata": {
    "execution": {
     "iopub.execute_input": "2024-08-20T19:31:43.966009Z",
     "iopub.status.busy": "2024-08-20T19:31:43.965701Z",
     "iopub.status.idle": "2024-08-20T19:31:43.972877Z",
     "shell.execute_reply": "2024-08-20T19:31:43.972001Z"
    }
   },
   "outputs": [],
   "source": [
    "\"Hi\" + \"class\""
   ]
  },
  {
   "cell_type": "code",
   "execution_count": null,
   "id": "1367f673",
   "metadata": {
    "execution": {
     "iopub.execute_input": "2024-08-20T19:31:43.976774Z",
     "iopub.status.busy": "2024-08-20T19:31:43.976464Z",
     "iopub.status.idle": "2024-08-20T19:31:43.981064Z",
     "shell.execute_reply": "2024-08-20T19:31:43.980492Z"
    }
   },
   "outputs": [],
   "source": [
    "\"Where \" + \"did I \" + \"park?\""
   ]
  },
  {
   "cell_type": "code",
   "execution_count": null,
   "id": "b28e9718",
   "metadata": {
    "execution": {
     "iopub.execute_input": "2024-08-20T19:31:43.985092Z",
     "iopub.status.busy": "2024-08-20T19:31:43.984036Z",
     "iopub.status.idle": "2024-08-20T19:31:43.993041Z",
     "shell.execute_reply": "2024-08-20T19:31:43.991078Z"
    }
   },
   "outputs": [],
   "source": [
    "\"Hi\" * 3"
   ]
  },
  {
   "cell_type": "markdown",
   "id": "c6949e2e",
   "metadata": {
    "slideshow": {
     "slide_type": "subslide"
    }
   },
   "source": [
    "## String operator examples"
   ]
  },
  {
   "cell_type": "code",
   "execution_count": null,
   "id": "5b27aae7",
   "metadata": {
    "execution": {
     "iopub.execute_input": "2024-08-20T19:31:43.997995Z",
     "iopub.status.busy": "2024-08-20T19:31:43.997695Z",
     "iopub.status.idle": "2024-08-20T19:31:44.015184Z",
     "shell.execute_reply": "2024-08-20T19:31:44.014518Z"
    },
    "tags": [
     "raises-exception"
    ]
   },
   "outputs": [],
   "source": [
    "\"Hi\" + 3"
   ]
  },
  {
   "cell_type": "code",
   "execution_count": null,
   "id": "5d086d00",
   "metadata": {
    "execution": {
     "iopub.execute_input": "2024-08-20T19:31:44.019815Z",
     "iopub.status.busy": "2024-08-20T19:31:44.019030Z",
     "iopub.status.idle": "2024-08-20T19:31:44.025531Z",
     "shell.execute_reply": "2024-08-20T19:31:44.024390Z"
    }
   },
   "outputs": [],
   "source": [
    "\"Hi\" + str(3)"
   ]
  },
  {
   "cell_type": "code",
   "execution_count": null,
   "id": "2cbffcb9",
   "metadata": {
    "execution": {
     "iopub.execute_input": "2024-08-20T19:31:44.029031Z",
     "iopub.status.busy": "2024-08-20T19:31:44.028757Z",
     "iopub.status.idle": "2024-08-20T19:31:44.032795Z",
     "shell.execute_reply": "2024-08-20T19:31:44.032164Z"
    }
   },
   "outputs": [],
   "source": [
    "\"Hi\" + str(3.0)"
   ]
  },
  {
   "cell_type": "code",
   "execution_count": null,
   "id": "61380538",
   "metadata": {
    "execution": {
     "iopub.execute_input": "2024-08-20T19:31:44.037369Z",
     "iopub.status.busy": "2024-08-20T19:31:44.037054Z",
     "iopub.status.idle": "2024-08-20T19:31:44.042208Z",
     "shell.execute_reply": "2024-08-20T19:31:44.041287Z"
    }
   },
   "outputs": [],
   "source": [
    "\"Hi\" + str(True)"
   ]
  },
  {
   "cell_type": "code",
   "execution_count": null,
   "id": "bf58328a",
   "metadata": {
    "execution": {
     "iopub.execute_input": "2024-08-20T19:31:44.045299Z",
     "iopub.status.busy": "2024-08-20T19:31:44.045031Z",
     "iopub.status.idle": "2024-08-20T19:31:44.049423Z",
     "shell.execute_reply": "2024-08-20T19:31:44.048630Z"
    }
   },
   "outputs": [],
   "source": [
    "\"Hi\" + str(int(True))"
   ]
  },
  {
   "cell_type": "markdown",
   "id": "63db525d",
   "metadata": {
    "slideshow": {
     "slide_type": "slide"
    }
   },
   "source": [
    "# Variables\n",
    "\n",
    "* Like a box\\* in the computer’s memory where you can store a single value\n",
    "* The box has a **name**, and a **value** inside it"
   ]
  },
  {
   "cell_type": "markdown",
   "id": "cb521422",
   "metadata": {
    "slideshow": {
     "slide_type": "fragment"
    }
   },
   "source": [
    "\\* Full disclosure: This analogy is imperfect in Python, we'll come back to this later in the term"
   ]
  },
  {
   "cell_type": "markdown",
   "id": "b2f90eaa",
   "metadata": {
    "slideshow": {
     "slide_type": "subslide"
    }
   },
   "source": [
    "## Variables - what can you do with them? \n",
    "\n",
    "You can: \n",
    "* **Assign** (put a value inside the box)\n",
    "  * The first time you assign to a variable, the variable is **declared** (i.e. the box is created for you)\n",
    "* **Read** or **use** the value\n"
   ]
  },
  {
   "cell_type": "code",
   "execution_count": null,
   "id": "dc197b71",
   "metadata": {
    "execution": {
     "iopub.execute_input": "2024-08-20T19:31:44.054173Z",
     "iopub.status.busy": "2024-08-20T19:31:44.053544Z",
     "iopub.status.idle": "2024-08-20T19:31:44.059043Z",
     "shell.execute_reply": "2024-08-20T19:31:44.058121Z"
    }
   },
   "outputs": [],
   "source": [
    "# declare the variable \"name\" and assign the string \"Joe\" to it\n",
    "name = \"Joe\"\n",
    "print(name)\n",
    "\n",
    "# assign the string \"Spongebob\" to the variable \"name\", overwriting the old value (\"Joe\")\n",
    "name = \"Spongebob\"\n",
    "print(name)\n",
    "\n",
    "# appends \" Squarepants\" to \"Spongebob\", setting the name variable equal to \"Spongebob Squarepants\"\n",
    "name = name + \" Squarepants\"\n",
    "print(name)\n"
   ]
  },
  {
   "cell_type": "markdown",
   "id": "eacb8ddc",
   "metadata": {
    "slideshow": {
     "slide_type": "subslide"
    }
   },
   "source": [
    "## Variable example usage"
   ]
  },
  {
   "cell_type": "code",
   "execution_count": null,
   "id": "b2280c9c",
   "metadata": {
    "execution": {
     "iopub.execute_input": "2024-08-20T19:31:44.062253Z",
     "iopub.status.busy": "2024-08-20T19:31:44.061983Z",
     "iopub.status.idle": "2024-08-20T19:31:44.067453Z",
     "shell.execute_reply": "2024-08-20T19:31:44.066176Z"
    }
   },
   "outputs": [],
   "source": [
    "tetons = \"mountains\"\n",
    "acadia = \"forests\"\n",
    "\n",
    "print(tetons)\n",
    "print(acadia)\n",
    "\n",
    "tetons = \"beautiful\"\n",
    "\n",
    "print(tetons)\n",
    "print(tetons + acadia)\n",
    "print(tetons + \" \" + acadia)\n",
    "\n",
    "answer = 42\n",
    "acadia = acadia + \" are peaceful\"\n",
    "print(acadia + str(answer))\n",
    "\n",
    "joshua_tree = str(answer + 7)\n",
    "print(tetons + \" \" + joshua_tree)"
   ]
  },
  {
   "cell_type": "markdown",
   "id": "c0e9c8ca",
   "metadata": {
    "slideshow": {
     "slide_type": "subslide"
    }
   },
   "source": [
    "# Step-thru debugging revisited\n",
    "\n",
    "repl.it: [Lecture 2 exercises: Variables](https://replit.com/@cosi-10a-fall23/Variables#main.py)"
   ]
  },
  {
   "cell_type": "markdown",
   "id": "491e7aee",
   "metadata": {
    "slideshow": {
     "slide_type": "subslide"
    }
   },
   "source": [
    "# Variable naming - requirements\n",
    "\n",
    "* Must start with a letter or the underscore character\n",
    "* Cannot start with a number\n",
    "* Can only contain alphanumeric characters and underscores (A-z, 0-9, and _ )\n",
    "  * No spaces! No dashes! \n",
    "* Case-sensitive \n",
    "  * \"banff\", \"Banff\" and \"BANFF\" are three different variables"
   ]
  },
  {
   "cell_type": "markdown",
   "id": "0fb8e10c",
   "metadata": {},
   "source": [
    "| Valid names | <span style=\"color:red\">Invalid names</span> |\n",
    "| --- | --- | \n",
    "| no_hyphens | <span style=\"color:red\">no-hyphens</span> |\n",
    "| foo42 | <span style=\"color:red\">42foo</span> |\n",
    "| \\_bar | <span style=\"color:red\">bar$</span> |\n",
    "| chocolateIsGreat | <span style=\"color:red\">chocolate is great</span> |\n",
    "| no_special_chars | <span style=\"color:red\">'no_special_chars'</span> |\n"
   ]
  },
  {
   "cell_type": "markdown",
   "id": "a138bd98",
   "metadata": {
    "slideshow": {
     "slide_type": "subslide"
    }
   },
   "source": [
    "## Variable naming - suggestions\n",
    "\n",
    "* Variable names should be descriptive, and reflect the data stored in the value\n",
    "  * E.g. `userName` instead of `u` or `data`\n",
    "* There are several common naming conventions for variables. Try to pick one and stick with it within a single program:\n",
    "  * `lower_case_with_underscores`\n",
    "  * `camelCase`\n",
    "  * `UpperCamelCase`\n",
    "  * `alllowercase` (not recommended)\n",
    "  * `ALL_CAPS_WITH_UNDERSCORES` (not recommended)\n"
   ]
  },
  {
   "cell_type": "markdown",
   "id": "42f50421",
   "metadata": {
    "slideshow": {
     "slide_type": "slide"
    }
   },
   "source": [
    "## Code \"style\"\n",
    "\n",
    "* Almost all code is read more often than it is written\n",
    "* Even if the code is only for you - it takes a surprisingly short amount of time to forget exactly how your code works\n",
    "* Using consistent, readable style is a good practice that will save you time and confusion as your programs become more complex.\n",
    "* That said - you won't be graded on style, and you don't need to follow any particular coding style in this class. Your initial goal is to produce working code that both you and the course staff understand."
   ]
  },
  {
   "cell_type": "markdown",
   "id": "09eaaf0d",
   "metadata": {
    "slideshow": {
     "slide_type": "slide"
    }
   },
   "source": [
    "## Example: Let's write a (small) real program\n",
    "\n",
    "1. Prompt the user for their name, and respond with a greeting that references their name.\n",
    "2. Ask the user what their favorite animal is, and respond with a reference to the type of animal the entered."
   ]
  },
  {
   "cell_type": "code",
   "execution_count": null,
   "id": "8fa04ba0",
   "metadata": {
    "execution": {
     "iopub.execute_input": "2024-08-20T19:31:44.073855Z",
     "iopub.status.busy": "2024-08-20T19:31:44.073076Z",
     "iopub.status.idle": "2024-08-20T19:31:44.170637Z",
     "shell.execute_reply": "2024-08-20T19:31:44.169117Z"
    },
    "slideshow": {
     "slide_type": "subslide"
    },
    "tags": [
     "remove-output"
    ]
   },
   "outputs": [],
   "source": [
    "print(\"Name?\")\n",
    "name = input()\n",
    "print(\"Hi \" + name + \"!\")\n",
    "print(\"What is your favorite animal?\")\n",
    "animal = input()\n",
    "print(animal + \" is a great animal!\")"
   ]
  },
  {
   "cell_type": "markdown",
   "id": "d0c70080",
   "metadata": {
    "slideshow": {
     "slide_type": "slide"
    }
   },
   "source": [
    "## Let's add to it\n",
    "\n",
    "3. Ask the user how many pets they have.\n",
    "4. Print \"If you got a {animal}, you'd have {pets} pets!\"\n",
    "    * {animal} should be their favorite animal\n",
    "    * {pets} should be the number of pets then entered, plus 1"
   ]
  },
  {
   "cell_type": "code",
   "execution_count": null,
   "id": "55f231cc",
   "metadata": {
    "execution": {
     "iopub.execute_input": "2024-08-20T19:31:44.176467Z",
     "iopub.status.busy": "2024-08-20T19:31:44.176125Z",
     "iopub.status.idle": "2024-08-20T19:31:44.213012Z",
     "shell.execute_reply": "2024-08-20T19:31:44.211781Z"
    },
    "slideshow": {
     "slide_type": "subslide"
    },
    "tags": [
     "remove-output",
     "raises-exception"
    ]
   },
   "outputs": [],
   "source": [
    "print(\"Name?\")\n",
    "name = input()\n",
    "print(\"Hi \" + name + \"!\")\n",
    "print(\"What is your favorite animal?\")\n",
    "animal = input()\n",
    "print(animal + \" is a great animal!\")\n",
    "\n",
    "print(\"How many pets do you have?\")\n",
    "pet_count = input()\n",
    "print(\"If you got a \" + animal + \", you'd have \" + pet_count + 1 + \" pets!\")"
   ]
  },
  {
   "cell_type": "markdown",
   "id": "4553f1a9",
   "metadata": {
    "slideshow": {
     "slide_type": "subslide"
    }
   },
   "source": [
    "## Types!\n",
    "\n",
    "`TypeError: can only concatenate str (not \"int\") to str`\n",
    "\n",
    "`input()` always creates a string.\n",
    "\n",
    "If we want to perform integer operations on `pet_count`, we must convert it."
   ]
  },
  {
   "cell_type": "code",
   "execution_count": null,
   "id": "25936612",
   "metadata": {
    "execution": {
     "iopub.execute_input": "2024-08-20T19:31:44.216754Z",
     "iopub.status.busy": "2024-08-20T19:31:44.216431Z",
     "iopub.status.idle": "2024-08-20T19:31:44.256449Z",
     "shell.execute_reply": "2024-08-20T19:31:44.255055Z"
    },
    "tags": [
     "remove-output",
     "raises-exception"
    ]
   },
   "outputs": [],
   "source": [
    "print(\"Name?\")\n",
    "name = input()\n",
    "print(\"Hi \" + name + \"!\")\n",
    "print(\"What is your favorite animal?\")\n",
    "animal = input()\n",
    "print(animal + \" is a great animal!\")\n",
    "\n",
    "print(\"How many pets do you have?\")\n",
    "pet_count = input()\n",
    "print(\"If you got a \" + animal + \", you'd have \" + int(pet_count) + 1 + \" pets!\")"
   ]
  },
  {
   "cell_type": "markdown",
   "id": "80a961e4",
   "metadata": {},
   "source": [
    "## Types?!\n",
    "\n",
    "We converted `pet_count` to an integer.\n",
    "\n",
    "But now, order of operations says that we add `int(pet_count)` to the string `\"If you got a {animal}, you'd have \"`.\n",
    "\n",
    "You can't add strings and ints.\n",
    "\n",
    "We need to convert to an integer to do the math, then back to a string!"
   ]
  },
  {
   "cell_type": "code",
   "execution_count": null,
   "id": "2c287fc0",
   "metadata": {
    "execution": {
     "iopub.execute_input": "2024-08-20T19:31:44.261556Z",
     "iopub.status.busy": "2024-08-20T19:31:44.261182Z",
     "iopub.status.idle": "2024-08-20T19:31:44.302922Z",
     "shell.execute_reply": "2024-08-20T19:31:44.301329Z"
    },
    "tags": [
     "remove-output",
     "raises-exception"
    ]
   },
   "outputs": [],
   "source": [
    "print(\"Name?\")\n",
    "name = input()\n",
    "print(\"Hi \" + name + \"!\")\n",
    "print(\"What is your favorite animal?\")\n",
    "animal = input()\n",
    "print(animal + \" is a great animal!\")\n",
    "\n",
    "print(\"How many pets do you have?\")\n",
    "pet_count = input()\n",
    "print(\"If you got a \" + animal + \", you'd have \" + str(int(pet_count) + 1) + \" pets!\")"
   ]
  },
  {
   "cell_type": "markdown",
   "id": "fe701f0d",
   "metadata": {
    "slideshow": {
     "slide_type": "slide"
    }
   },
   "source": [
    "## More readable (maybe)"
   ]
  },
  {
   "cell_type": "code",
   "execution_count": null,
   "id": "26c83282",
   "metadata": {
    "execution": {
     "iopub.execute_input": "2024-08-20T19:31:44.310566Z",
     "iopub.status.busy": "2024-08-20T19:31:44.310135Z",
     "iopub.status.idle": "2024-08-20T19:31:44.357891Z",
     "shell.execute_reply": "2024-08-20T19:31:44.356420Z"
    },
    "tags": [
     "remove-output"
    ]
   },
   "outputs": [],
   "source": [
    "print(\"Name?\")\n",
    "name = input()\n",
    "print(\"Hi \" + name + \"!\")\n",
    "print(\"What is your favorite animal?\")\n",
    "animal = input()\n",
    "print(animal + \" is a great animal!\")\n",
    "\n",
    "print(\"How many pets do you have?\")\n",
    "pet_count = input()\n",
    "new_pet_count = str(int(pet_count) + 1)\n",
    "print(\"If you got a \" + animal + \", you'd have \" + new_pet_count + \" pets!\")"
   ]
  },
  {
   "cell_type": "markdown",
   "id": "ec88e2f4",
   "metadata": {},
   "source": [
    "TODO: expression evaluation quiz"
   ]
  },
  {
   "cell_type": "markdown",
   "id": "c6de711e",
   "metadata": {},
   "source": [
    "## Exercise: Age Fact Calculator\n",
    "\n",
    "[GitHub Classroom -> Class exercises -> Open in GitHub Cospaces](https://classroom.github.com/a/M3gdSqkV)\n",
    "\n",
    "Open the file: `exercises/02/age_facts/README.md`, follow the instructions.\n",
    "* If you don't see this folder: Open the file: `get_exercises.sh`, click the \"Run\" button at the top right of the editor.\n"
   ]
  }
 ],
 "metadata": {
  "celltoolbar": "Slideshow",
  "kernelspec": {
   "display_name": "Python 3 (ipykernel)",
   "language": "python",
   "name": "python3"
  },
  "language_info": {
   "codemirror_mode": {
    "name": "ipython",
    "version": 3
   },
   "file_extension": ".py",
   "mimetype": "text/x-python",
   "name": "python",
   "nbconvert_exporter": "python",
   "pygments_lexer": "ipython3",
   "version": "3.10.9"
  }
 },
 "nbformat": 4,
 "nbformat_minor": 5
}
