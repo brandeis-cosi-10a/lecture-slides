{
 "cells": [
  {
   "cell_type": "markdown",
   "id": "26653147",
   "metadata": {},
   "source": [
    "# Cosi-10a: Introduction to Problem Solving in Python\n",
    "### Fall 2024\n",
    "\n",
    "<small>[Link to interactive slides on Google Colab](https://colab.research.google.com/github/brandeis-cosi-10a/lecture-slides/blob/24fall/)</small>\n",
    "\n",
    "<style>\n",
    "section.present > section.present { \n",
    "    max-height: 100%; \n",
    "    overflow-y: scroll;\n",
    "}\n",
    "</style>"
   ]
  },
  {
   "cell_type": "markdown",
   "id": "43e1f8ce",
   "metadata": {
    "slideshow": {
     "slide_type": "slide"
    }
   },
   "source": [
    "# Data Types"
   ]
  },
  {
   "cell_type": "markdown",
   "id": "64daceb0",
   "metadata": {
    "slideshow": {
     "slide_type": "slide"
    },
    "tags": []
   },
   "source": [
    "* All values in Python have a **type**\n",
    "* Some basic Python data types:\n",
    "  * `str`: string; sequence of characters (from last lecture)\n",
    "  * `int`: integer; whole numbers\t\n",
    "  * `float`: floating point number; real numbers (decimals)\n",
    "  * `bool`: boolean; `True` or `False`\n",
    "\n"
   ]
  },
  {
   "cell_type": "markdown",
   "id": "2f332fd6",
   "metadata": {
    "slideshow": {
     "slide_type": "fragment"
    }
   },
   "source": [
    "Exhaustive documentation of data types: https://docs.python.org/3/library/stdtypes.html"
   ]
  },
  {
   "cell_type": "markdown",
   "id": "69758551",
   "metadata": {
    "slideshow": {
     "slide_type": "subslide"
    },
    "tags": []
   },
   "source": [
    "# Data type examples"
   ]
  },
  {
   "cell_type": "markdown",
   "id": "7cd93c83",
   "metadata": {
    "slideshow": {
     "slide_type": "fragment"
    },
    "tags": []
   },
   "source": [
    "* str: `“Hi”`, `“I’m a string”`, `“Hopefully these are familiar”`"
   ]
  },
  {
   "cell_type": "markdown",
   "id": "7c033d5a",
   "metadata": {
    "slideshow": {
     "slide_type": "fragment"
    },
    "tags": []
   },
   "source": [
    "* int: `1`, `10`, `3`, `9104919`\n"
   ]
  },
  {
   "cell_type": "markdown",
   "id": "bd2ecbbd",
   "metadata": {
    "slideshow": {
     "slide_type": "fragment"
    },
    "tags": []
   },
   "source": [
    "* float: `1.2`, `10.1`, `84191.000001`, `2.0`\n",
    "  * Note that 2.0 is a float, even though it is a whole number\n",
    "  * The decimal point forces the number to a float type"
   ]
  },
  {
   "cell_type": "markdown",
   "id": "6f63e327",
   "metadata": {
    "slideshow": {
     "slide_type": "fragment"
    },
    "tags": []
   },
   "source": [
    "* bool: `True`, `False`\n",
    "  * Capitalization matters!\n"
   ]
  },
  {
   "cell_type": "markdown",
   "id": "a33cf749",
   "metadata": {
    "slideshow": {
     "slide_type": "subslide"
    },
    "tags": []
   },
   "source": [
    "# Type conversions\n",
    "\n",
    "You can convert between different data types:\n",
    "\n",
    "* `int(<value>)` → convert value to an int\n",
    "* `float(<value>)` → convert value to a float\n",
    "* `str(<value>)` → convert value to a str\n",
    "* `bool(<value>)` → convert value to a bool"
   ]
  },
  {
   "cell_type": "markdown",
   "id": "753cdb28",
   "metadata": {
    "slideshow": {
     "slide_type": "fragment"
    },
    "tags": []
   },
   "source": [
    "The `<>` notation above is common - `<value>` is a stand-in for any value. The brackets are part of the notation, and don’t show up in the code you’d write."
   ]
  },
  {
   "cell_type": "markdown",
   "id": "85ebaa42",
   "metadata": {
    "slideshow": {
     "slide_type": "subslide"
    },
    "tags": []
   },
   "source": [
    "* `int(<value>)` → convert value to an int"
   ]
  },
  {
   "cell_type": "code",
   "execution_count": null,
   "id": "a7a1f279",
   "metadata": {
    "execution": {
     "iopub.execute_input": "2024-08-20T19:21:53.648312Z",
     "iopub.status.busy": "2024-08-20T19:21:53.648005Z",
     "iopub.status.idle": "2024-08-20T19:21:53.666650Z",
     "shell.execute_reply": "2024-08-20T19:21:53.665870Z"
    },
    "slideshow": {
     "slide_type": "-"
    },
    "tags": []
   },
   "outputs": [],
   "source": [
    "int(1.0)"
   ]
  },
  {
   "cell_type": "code",
   "execution_count": null,
   "id": "2be05b65",
   "metadata": {
    "execution": {
     "iopub.execute_input": "2024-08-20T19:21:53.670200Z",
     "iopub.status.busy": "2024-08-20T19:21:53.669902Z",
     "iopub.status.idle": "2024-08-20T19:21:53.674433Z",
     "shell.execute_reply": "2024-08-20T19:21:53.673794Z"
    },
    "slideshow": {
     "slide_type": "-"
    },
    "tags": []
   },
   "outputs": [],
   "source": [
    "int(1.999)"
   ]
  },
  {
   "cell_type": "code",
   "execution_count": null,
   "id": "cf96b7ae",
   "metadata": {
    "execution": {
     "iopub.execute_input": "2024-08-20T19:21:53.677492Z",
     "iopub.status.busy": "2024-08-20T19:21:53.677184Z",
     "iopub.status.idle": "2024-08-20T19:21:53.681401Z",
     "shell.execute_reply": "2024-08-20T19:21:53.680867Z"
    },
    "slideshow": {
     "slide_type": "-"
    },
    "tags": []
   },
   "outputs": [],
   "source": [
    "int(\"3\")\n"
   ]
  },
  {
   "cell_type": "markdown",
   "id": "a99204d4",
   "metadata": {
    "slideshow": {
     "slide_type": "subslide"
    },
    "tags": []
   },
   "source": [
    "### Some conversions don't work, or are surprising\n",
    "* `int(<value>)` → convert value to an int"
   ]
  },
  {
   "cell_type": "code",
   "execution_count": null,
   "id": "4909d3fb",
   "metadata": {
    "execution": {
     "iopub.execute_input": "2024-08-20T19:21:53.684259Z",
     "iopub.status.busy": "2024-08-20T19:21:53.684016Z",
     "iopub.status.idle": "2024-08-20T19:21:53.935555Z",
     "shell.execute_reply": "2024-08-20T19:21:53.934627Z"
    },
    "slideshow": {
     "slide_type": "-"
    },
    "tags": [
     "raises-exception"
    ]
   },
   "outputs": [],
   "source": [
    "int(\"Hi\")"
   ]
  },
  {
   "cell_type": "code",
   "execution_count": null,
   "id": "b8233b2e",
   "metadata": {
    "execution": {
     "iopub.execute_input": "2024-08-20T19:21:53.939416Z",
     "iopub.status.busy": "2024-08-20T19:21:53.939094Z",
     "iopub.status.idle": "2024-08-20T19:21:53.954295Z",
     "shell.execute_reply": "2024-08-20T19:21:53.953349Z"
    },
    "slideshow": {
     "slide_type": "-"
    },
    "tags": [
     "raises-exception"
    ]
   },
   "outputs": [],
   "source": [
    "int(\"1.999\")"
   ]
  },
  {
   "cell_type": "markdown",
   "id": "3e26199a",
   "metadata": {
    "slideshow": {
     "slide_type": "subslide"
    },
    "tags": []
   },
   "source": [
    "* `float(<value>)` → convert value to an float"
   ]
  },
  {
   "cell_type": "code",
   "execution_count": null,
   "id": "2dcb293a",
   "metadata": {
    "execution": {
     "iopub.execute_input": "2024-08-20T19:21:53.958162Z",
     "iopub.status.busy": "2024-08-20T19:21:53.957846Z",
     "iopub.status.idle": "2024-08-20T19:21:53.962626Z",
     "shell.execute_reply": "2024-08-20T19:21:53.961953Z"
    },
    "slideshow": {
     "slide_type": "-"
    },
    "tags": []
   },
   "outputs": [],
   "source": [
    "float(2)"
   ]
  },
  {
   "cell_type": "code",
   "execution_count": null,
   "id": "6e1356f7",
   "metadata": {
    "execution": {
     "iopub.execute_input": "2024-08-20T19:21:53.965814Z",
     "iopub.status.busy": "2024-08-20T19:21:53.965556Z",
     "iopub.status.idle": "2024-08-20T19:21:53.970175Z",
     "shell.execute_reply": "2024-08-20T19:21:53.969512Z"
    },
    "slideshow": {
     "slide_type": "-"
    },
    "tags": []
   },
   "outputs": [],
   "source": [
    "float(\"2\")"
   ]
  },
  {
   "cell_type": "code",
   "execution_count": null,
   "id": "f9c62425",
   "metadata": {
    "execution": {
     "iopub.execute_input": "2024-08-20T19:21:53.973511Z",
     "iopub.status.busy": "2024-08-20T19:21:53.973223Z",
     "iopub.status.idle": "2024-08-20T19:21:53.977328Z",
     "shell.execute_reply": "2024-08-20T19:21:53.976703Z"
    },
    "slideshow": {
     "slide_type": "-"
    },
    "tags": []
   },
   "outputs": [],
   "source": [
    "float(\"2.5\")"
   ]
  },
  {
   "cell_type": "code",
   "execution_count": null,
   "id": "feec253c",
   "metadata": {
    "execution": {
     "iopub.execute_input": "2024-08-20T19:21:53.980341Z",
     "iopub.status.busy": "2024-08-20T19:21:53.980085Z",
     "iopub.status.idle": "2024-08-20T19:21:53.995016Z",
     "shell.execute_reply": "2024-08-20T19:21:53.994346Z"
    },
    "slideshow": {
     "slide_type": "-"
    },
    "tags": [
     "raises-exception"
    ]
   },
   "outputs": [],
   "source": [
    "float(\"Hi again\")"
   ]
  },
  {
   "cell_type": "markdown",
   "id": "c70eb0ed",
   "metadata": {
    "slideshow": {
     "slide_type": "subslide"
    },
    "tags": []
   },
   "source": [
    "* `str(<value>)` → convert value to a str"
   ]
  },
  {
   "cell_type": "code",
   "execution_count": null,
   "id": "050f010f",
   "metadata": {
    "execution": {
     "iopub.execute_input": "2024-08-20T19:21:53.998497Z",
     "iopub.status.busy": "2024-08-20T19:21:53.998243Z",
     "iopub.status.idle": "2024-08-20T19:21:54.002999Z",
     "shell.execute_reply": "2024-08-20T19:21:54.002305Z"
    },
    "slideshow": {
     "slide_type": ""
    },
    "tags": []
   },
   "outputs": [],
   "source": [
    "str(2)"
   ]
  },
  {
   "cell_type": "code",
   "execution_count": null,
   "id": "9ba2b278",
   "metadata": {
    "execution": {
     "iopub.execute_input": "2024-08-20T19:21:54.006125Z",
     "iopub.status.busy": "2024-08-20T19:21:54.005849Z",
     "iopub.status.idle": "2024-08-20T19:21:54.010384Z",
     "shell.execute_reply": "2024-08-20T19:21:54.009810Z"
    },
    "slideshow": {
     "slide_type": ""
    },
    "tags": []
   },
   "outputs": [],
   "source": [
    "str(2.5)"
   ]
  },
  {
   "cell_type": "markdown",
   "id": "ccd00740",
   "metadata": {
    "slideshow": {
     "slide_type": "subslide"
    }
   },
   "source": [
    "* `bool(<value>)` → convert value to a bool"
   ]
  },
  {
   "cell_type": "code",
   "execution_count": null,
   "id": "5e28d10f",
   "metadata": {
    "execution": {
     "iopub.execute_input": "2024-08-20T19:21:54.013360Z",
     "iopub.status.busy": "2024-08-20T19:21:54.013108Z",
     "iopub.status.idle": "2024-08-20T19:21:54.017188Z",
     "shell.execute_reply": "2024-08-20T19:21:54.016601Z"
    }
   },
   "outputs": [],
   "source": [
    "bool(1)"
   ]
  },
  {
   "cell_type": "code",
   "execution_count": null,
   "id": "5abe200a",
   "metadata": {
    "execution": {
     "iopub.execute_input": "2024-08-20T19:21:54.020134Z",
     "iopub.status.busy": "2024-08-20T19:21:54.019879Z",
     "iopub.status.idle": "2024-08-20T19:21:54.023947Z",
     "shell.execute_reply": "2024-08-20T19:21:54.023362Z"
    }
   },
   "outputs": [],
   "source": [
    "bool(0)"
   ]
  },
  {
   "cell_type": "code",
   "execution_count": null,
   "id": "5180d4aa",
   "metadata": {
    "execution": {
     "iopub.execute_input": "2024-08-20T19:21:54.026843Z",
     "iopub.status.busy": "2024-08-20T19:21:54.026583Z",
     "iopub.status.idle": "2024-08-20T19:21:54.030519Z",
     "shell.execute_reply": "2024-08-20T19:21:54.029942Z"
    }
   },
   "outputs": [],
   "source": [
    "bool(0.5)"
   ]
  },
  {
   "cell_type": "code",
   "execution_count": null,
   "id": "e1afefca",
   "metadata": {
    "execution": {
     "iopub.execute_input": "2024-08-20T19:21:54.033420Z",
     "iopub.status.busy": "2024-08-20T19:21:54.033169Z",
     "iopub.status.idle": "2024-08-20T19:21:54.037150Z",
     "shell.execute_reply": "2024-08-20T19:21:54.036568Z"
    }
   },
   "outputs": [],
   "source": [
    "bool(\"why hello there\")"
   ]
  },
  {
   "cell_type": "code",
   "execution_count": null,
   "id": "7f3e48f7",
   "metadata": {
    "execution": {
     "iopub.execute_input": "2024-08-20T19:21:54.040027Z",
     "iopub.status.busy": "2024-08-20T19:21:54.039771Z",
     "iopub.status.idle": "2024-08-20T19:21:54.043760Z",
     "shell.execute_reply": "2024-08-20T19:21:54.043220Z"
    }
   },
   "outputs": [],
   "source": [
    "bool(\"\")"
   ]
  },
  {
   "cell_type": "code",
   "execution_count": null,
   "id": "b612fe3c",
   "metadata": {
    "execution": {
     "iopub.execute_input": "2024-08-20T19:21:54.046511Z",
     "iopub.status.busy": "2024-08-20T19:21:54.046277Z",
     "iopub.status.idle": "2024-08-20T19:21:54.050032Z",
     "shell.execute_reply": "2024-08-20T19:21:54.049439Z"
    }
   },
   "outputs": [],
   "source": [
    "bool(\"0\")"
   ]
  },
  {
   "cell_type": "markdown",
   "id": "a856b88d",
   "metadata": {
    "slideshow": {
     "slide_type": "slide"
    }
   },
   "source": [
    "# Expressions\n",
    "\n",
    "* **Expressions** are the most basic instructions in Python\n",
    "* They are made up of one or more **values**, and zero or more **operators**\n",
    "* They always **evaluate** down to a single value\n"
   ]
  },
  {
   "cell_type": "markdown",
   "id": "0b58fce1",
   "metadata": {
    "slideshow": {
     "slide_type": "subslide"
    }
   },
   "source": [
    "## Expression examples"
   ]
  },
  {
   "cell_type": "code",
   "execution_count": null,
   "id": "2f7d10a4",
   "metadata": {
    "execution": {
     "iopub.execute_input": "2024-08-20T19:21:54.053053Z",
     "iopub.status.busy": "2024-08-20T19:21:54.052795Z",
     "iopub.status.idle": "2024-08-20T19:21:54.056661Z",
     "shell.execute_reply": "2024-08-20T19:21:54.056140Z"
    },
    "slideshow": {
     "slide_type": "-"
    }
   },
   "outputs": [],
   "source": [
    "7"
   ]
  },
  {
   "cell_type": "code",
   "execution_count": null,
   "id": "c3e671b7",
   "metadata": {
    "execution": {
     "iopub.execute_input": "2024-08-20T19:21:54.059383Z",
     "iopub.status.busy": "2024-08-20T19:21:54.059137Z",
     "iopub.status.idle": "2024-08-20T19:21:54.062994Z",
     "shell.execute_reply": "2024-08-20T19:21:54.062483Z"
    },
    "slideshow": {
     "slide_type": "-"
    }
   },
   "outputs": [],
   "source": [
    "2 + 2"
   ]
  },
  {
   "cell_type": "code",
   "execution_count": null,
   "id": "8c02531e",
   "metadata": {
    "execution": {
     "iopub.execute_input": "2024-08-20T19:21:54.065727Z",
     "iopub.status.busy": "2024-08-20T19:21:54.065489Z",
     "iopub.status.idle": "2024-08-20T19:21:54.069343Z",
     "shell.execute_reply": "2024-08-20T19:21:54.068810Z"
    },
    "slideshow": {
     "slide_type": "-"
    }
   },
   "outputs": [],
   "source": [
    "10 / 8"
   ]
  },
  {
   "cell_type": "code",
   "execution_count": null,
   "id": "d71d5972",
   "metadata": {
    "execution": {
     "iopub.execute_input": "2024-08-20T19:21:54.072147Z",
     "iopub.status.busy": "2024-08-20T19:21:54.071909Z",
     "iopub.status.idle": "2024-08-20T19:21:54.075831Z",
     "shell.execute_reply": "2024-08-20T19:21:54.075298Z"
    },
    "slideshow": {
     "slide_type": "-"
    }
   },
   "outputs": [],
   "source": [
    "(8**2) - 1 "
   ]
  },
  {
   "cell_type": "code",
   "execution_count": null,
   "id": "954e6090",
   "metadata": {
    "execution": {
     "iopub.execute_input": "2024-08-20T19:21:54.078607Z",
     "iopub.status.busy": "2024-08-20T19:21:54.078370Z",
     "iopub.status.idle": "2024-08-20T19:21:54.083074Z",
     "shell.execute_reply": "2024-08-20T19:21:54.082421Z"
    },
    "slideshow": {
     "slide_type": "-"
    }
   },
   "outputs": [],
   "source": [
    "(((8 % 3) ** 3) + 55) // (8 - 3) * 2"
   ]
  },
  {
   "cell_type": "markdown",
   "id": "7cab12b0",
   "metadata": {
    "slideshow": {
     "slide_type": "slide"
    }
   },
   "source": [
    "## Arithmetic operators\n",
    "\n",
    "|  Operator | Operation | Example | Evaluates to… |\n",
    "| --- | --- | --- | --- |\n",
    "| ** | exponent | `4 ** 3` | `64` |\n",
    "| % | modulo / remainder | `22 % 8` | `6` |\n",
    "| // | integer division (rounds down) | `22 // 8` | `2` |\n",
    "| / | division | `22 / 8` | `2.75` |\n",
    "| * | multiplication | `2 * 8` | `16` |\n",
    "| - | subtraction | `22 - 8` | `14` |\n",
    "| + | addition | `22 + 8` | `30` |\n"
   ]
  },
  {
   "cell_type": "markdown",
   "id": "15120bda",
   "metadata": {
    "slideshow": {
     "slide_type": "subslide"
    }
   },
   "source": [
    "## Precedence / Evaluation Order\n",
    "\n",
    "\n",
    "`(((8 % 3) ** 3) + 55) // (8 - 3) * 2`\n",
    "\n",
    "`((2 ** 3) + 55) // (8 - 3) * 2`\n",
    "\n",
    "`((2 ** 3) + 55) // 5 * 2`\n",
    "\n",
    "`(8 + 55) // 5 * 2`\n",
    "\n",
    "`63 // 5 * 2`\n",
    "\n",
    "`12 * 2`\n",
    "\n",
    "`24`\n"
   ]
  },
  {
   "cell_type": "markdown",
   "id": "d61a3303",
   "metadata": {
    "slideshow": {
     "slide_type": "subslide"
    }
   },
   "source": [
    "## Expressions and Types\n",
    "Each expression evaluates to a single value, with a single type.  \n",
    "  \n",
    "There are rules about which operators work on which types, and which type is produced from the expression.  We won't cover them exhaustively, but we'll look at some examples."
   ]
  },
  {
   "cell_type": "code",
   "execution_count": null,
   "id": "ef738eec",
   "metadata": {
    "execution": {
     "iopub.execute_input": "2024-08-20T19:21:54.086416Z",
     "iopub.status.busy": "2024-08-20T19:21:54.086144Z",
     "iopub.status.idle": "2024-08-20T19:21:54.090028Z",
     "shell.execute_reply": "2024-08-20T19:21:54.089518Z"
    }
   },
   "outputs": [],
   "source": [
    "1 + 2"
   ]
  },
  {
   "cell_type": "code",
   "execution_count": null,
   "id": "2c6bc513",
   "metadata": {
    "execution": {
     "iopub.execute_input": "2024-08-20T19:21:54.092729Z",
     "iopub.status.busy": "2024-08-20T19:21:54.092483Z",
     "iopub.status.idle": "2024-08-20T19:21:54.096345Z",
     "shell.execute_reply": "2024-08-20T19:21:54.095830Z"
    }
   },
   "outputs": [],
   "source": [
    "1 + 2.2"
   ]
  },
  {
   "cell_type": "code",
   "execution_count": null,
   "id": "41a2031f",
   "metadata": {
    "execution": {
     "iopub.execute_input": "2024-08-20T19:21:54.099195Z",
     "iopub.status.busy": "2024-08-20T19:21:54.098959Z",
     "iopub.status.idle": "2024-08-20T19:21:54.102857Z",
     "shell.execute_reply": "2024-08-20T19:21:54.102295Z"
    }
   },
   "outputs": [],
   "source": [
    "2.2 + 1"
   ]
  },
  {
   "cell_type": "code",
   "execution_count": null,
   "id": "d3f8628b",
   "metadata": {
    "execution": {
     "iopub.execute_input": "2024-08-20T19:21:54.105744Z",
     "iopub.status.busy": "2024-08-20T19:21:54.105494Z",
     "iopub.status.idle": "2024-08-20T19:21:54.109401Z",
     "shell.execute_reply": "2024-08-20T19:21:54.108854Z"
    }
   },
   "outputs": [],
   "source": [
    "2.3 * 1.2"
   ]
  },
  {
   "cell_type": "code",
   "execution_count": null,
   "id": "64c8993c",
   "metadata": {
    "execution": {
     "iopub.execute_input": "2024-08-20T19:21:54.112279Z",
     "iopub.status.busy": "2024-08-20T19:21:54.112033Z",
     "iopub.status.idle": "2024-08-20T19:21:54.115803Z",
     "shell.execute_reply": "2024-08-20T19:21:54.115288Z"
    },
    "slideshow": {
     "slide_type": "subslide"
    }
   },
   "outputs": [],
   "source": [
    "5 + True"
   ]
  },
  {
   "cell_type": "code",
   "execution_count": null,
   "id": "fc17c0ee",
   "metadata": {
    "execution": {
     "iopub.execute_input": "2024-08-20T19:21:54.118533Z",
     "iopub.status.busy": "2024-08-20T19:21:54.118288Z",
     "iopub.status.idle": "2024-08-20T19:21:54.122138Z",
     "shell.execute_reply": "2024-08-20T19:21:54.121626Z"
    }
   },
   "outputs": [],
   "source": [
    "2.3 + True"
   ]
  },
  {
   "cell_type": "code",
   "execution_count": null,
   "id": "afb6ce9b",
   "metadata": {
    "execution": {
     "iopub.execute_input": "2024-08-20T19:21:54.125043Z",
     "iopub.status.busy": "2024-08-20T19:21:54.124815Z",
     "iopub.status.idle": "2024-08-20T19:21:54.140723Z",
     "shell.execute_reply": "2024-08-20T19:21:54.139747Z"
    },
    "tags": [
     "raises-exception"
    ]
   },
   "outputs": [],
   "source": [
    "2 + \"Hi\""
   ]
  },
  {
   "cell_type": "code",
   "execution_count": null,
   "id": "8544683c",
   "metadata": {
    "execution": {
     "iopub.execute_input": "2024-08-20T19:21:54.144401Z",
     "iopub.status.busy": "2024-08-20T19:21:54.144060Z",
     "iopub.status.idle": "2024-08-20T19:21:54.159831Z",
     "shell.execute_reply": "2024-08-20T19:21:54.159207Z"
    },
    "tags": [
     "raises-exception"
    ]
   },
   "outputs": [],
   "source": [
    "2.3 + \"Hi\""
   ]
  },
  {
   "cell_type": "markdown",
   "id": "b16ada22",
   "metadata": {
    "slideshow": {
     "slide_type": "subslide"
    }
   },
   "source": [
    "# String operators\n",
    "\n",
    "| Operator | Operation | Example | Evaluates to… |\n",
    "| --- | --- | --- | --- |\n",
    "| + | concatenate | `“Hello ” + “World”` | `“Hello World”` |\n",
    "| * |replicate | `“Hi” * 3` | `“HiHiHi”` |\n"
   ]
  },
  {
   "cell_type": "markdown",
   "id": "ac114a01",
   "metadata": {
    "slideshow": {
     "slide_type": "subslide"
    }
   },
   "source": [
    "## String operator examples"
   ]
  },
  {
   "cell_type": "code",
   "execution_count": null,
   "id": "fd56182a",
   "metadata": {
    "execution": {
     "iopub.execute_input": "2024-08-20T19:21:54.162994Z",
     "iopub.status.busy": "2024-08-20T19:21:54.162731Z",
     "iopub.status.idle": "2024-08-20T19:21:54.167094Z",
     "shell.execute_reply": "2024-08-20T19:21:54.166488Z"
    }
   },
   "outputs": [],
   "source": [
    "\"Hi\" + \"class\""
   ]
  },
  {
   "cell_type": "code",
   "execution_count": null,
   "id": "1367f673",
   "metadata": {
    "execution": {
     "iopub.execute_input": "2024-08-20T19:21:54.170226Z",
     "iopub.status.busy": "2024-08-20T19:21:54.169960Z",
     "iopub.status.idle": "2024-08-20T19:21:54.173994Z",
     "shell.execute_reply": "2024-08-20T19:21:54.173393Z"
    }
   },
   "outputs": [],
   "source": [
    "\"Where \" + \"did I \" + \"park?\""
   ]
  },
  {
   "cell_type": "code",
   "execution_count": null,
   "id": "b28e9718",
   "metadata": {
    "execution": {
     "iopub.execute_input": "2024-08-20T19:21:54.177032Z",
     "iopub.status.busy": "2024-08-20T19:21:54.176774Z",
     "iopub.status.idle": "2024-08-20T19:21:54.180810Z",
     "shell.execute_reply": "2024-08-20T19:21:54.180123Z"
    }
   },
   "outputs": [],
   "source": [
    "\"Hi\" * 3"
   ]
  },
  {
   "cell_type": "markdown",
   "id": "c6949e2e",
   "metadata": {
    "slideshow": {
     "slide_type": "subslide"
    }
   },
   "source": [
    "## String operator examples"
   ]
  },
  {
   "cell_type": "code",
   "execution_count": null,
   "id": "5b27aae7",
   "metadata": {
    "execution": {
     "iopub.execute_input": "2024-08-20T19:21:54.183687Z",
     "iopub.status.busy": "2024-08-20T19:21:54.183442Z",
     "iopub.status.idle": "2024-08-20T19:21:54.197870Z",
     "shell.execute_reply": "2024-08-20T19:21:54.197278Z"
    },
    "tags": [
     "raises-exception"
    ]
   },
   "outputs": [],
   "source": [
    "\"Hi\" + 3"
   ]
  },
  {
   "cell_type": "code",
   "execution_count": null,
   "id": "5d086d00",
   "metadata": {
    "execution": {
     "iopub.execute_input": "2024-08-20T19:21:54.200955Z",
     "iopub.status.busy": "2024-08-20T19:21:54.200588Z",
     "iopub.status.idle": "2024-08-20T19:21:54.204826Z",
     "shell.execute_reply": "2024-08-20T19:21:54.204122Z"
    }
   },
   "outputs": [],
   "source": [
    "\"Hi\" + str(3)"
   ]
  },
  {
   "cell_type": "code",
   "execution_count": null,
   "id": "2cbffcb9",
   "metadata": {
    "execution": {
     "iopub.execute_input": "2024-08-20T19:21:54.207678Z",
     "iopub.status.busy": "2024-08-20T19:21:54.207422Z",
     "iopub.status.idle": "2024-08-20T19:21:54.211458Z",
     "shell.execute_reply": "2024-08-20T19:21:54.210898Z"
    }
   },
   "outputs": [],
   "source": [
    "\"Hi\" + str(3.0)"
   ]
  },
  {
   "cell_type": "code",
   "execution_count": null,
   "id": "61380538",
   "metadata": {
    "execution": {
     "iopub.execute_input": "2024-08-20T19:21:54.214201Z",
     "iopub.status.busy": "2024-08-20T19:21:54.213963Z",
     "iopub.status.idle": "2024-08-20T19:21:54.217863Z",
     "shell.execute_reply": "2024-08-20T19:21:54.217264Z"
    }
   },
   "outputs": [],
   "source": [
    "\"Hi\" + str(True)"
   ]
  },
  {
   "cell_type": "code",
   "execution_count": null,
   "id": "bf58328a",
   "metadata": {
    "execution": {
     "iopub.execute_input": "2024-08-20T19:21:54.220596Z",
     "iopub.status.busy": "2024-08-20T19:21:54.220350Z",
     "iopub.status.idle": "2024-08-20T19:21:54.224593Z",
     "shell.execute_reply": "2024-08-20T19:21:54.223931Z"
    }
   },
   "outputs": [],
   "source": [
    "\"Hi\" + str(int(True))"
   ]
  },
  {
   "cell_type": "markdown",
   "id": "63db525d",
   "metadata": {
    "slideshow": {
     "slide_type": "slide"
    }
   },
   "source": [
    "# Variables\n",
    "\n",
    "* Like a box\\* in the computer’s memory where you can store a single value\n",
    "* The box has a **name**, and a **value** inside it"
   ]
  },
  {
   "cell_type": "markdown",
   "id": "cb521422",
   "metadata": {
    "slideshow": {
     "slide_type": "fragment"
    }
   },
   "source": [
    "\\* Full disclosure: This analogy is imperfect in Python, we'll come back to this later in the term"
   ]
  },
  {
   "cell_type": "markdown",
   "id": "b2f90eaa",
   "metadata": {
    "slideshow": {
     "slide_type": "subslide"
    }
   },
   "source": [
    "## Variables - what can you do with them? \n",
    "\n",
    "You can: \n",
    "* **Assign** (put a value inside the box)\n",
    "  * The first time you assign to a variable, the variable is **declared** (i.e. the box is created for you)\n",
    "* **Read** or **use** the value\n"
   ]
  },
  {
   "cell_type": "code",
   "execution_count": null,
   "id": "dc197b71",
   "metadata": {
    "execution": {
     "iopub.execute_input": "2024-08-20T19:21:54.228751Z",
     "iopub.status.busy": "2024-08-20T19:21:54.228372Z",
     "iopub.status.idle": "2024-08-20T19:21:54.232749Z",
     "shell.execute_reply": "2024-08-20T19:21:54.232179Z"
    }
   },
   "outputs": [],
   "source": [
    "# declare the variable \"name\" and assign the string \"Joe\" to it\n",
    "name = \"Joe\"\n",
    "print(name)\n",
    "\n",
    "# assign the string \"Spongebob\" to the variable \"name\", overwriting the old value (\"Joe\")\n",
    "name = \"Spongebob\"\n",
    "print(name)\n",
    "\n",
    "# appends \" Squarepants\" to \"Spongebob\", setting the name variable equal to \"Spongebob Squarepants\"\n",
    "name = name + \" Squarepants\"\n",
    "print(name)\n"
   ]
  },
  {
   "cell_type": "markdown",
   "id": "eacb8ddc",
   "metadata": {
    "slideshow": {
     "slide_type": "subslide"
    }
   },
   "source": [
    "## Variable example usage"
   ]
  },
  {
   "cell_type": "code",
   "execution_count": null,
   "id": "b2280c9c",
   "metadata": {
    "execution": {
     "iopub.execute_input": "2024-08-20T19:21:54.235776Z",
     "iopub.status.busy": "2024-08-20T19:21:54.235526Z",
     "iopub.status.idle": "2024-08-20T19:21:54.240449Z",
     "shell.execute_reply": "2024-08-20T19:21:54.239742Z"
    }
   },
   "outputs": [],
   "source": [
    "tetons = \"mountains\"\n",
    "acadia = \"forests\"\n",
    "\n",
    "print(tetons)\n",
    "print(acadia)\n",
    "\n",
    "tetons = \"beautiful\"\n",
    "\n",
    "print(tetons)\n",
    "print(tetons + acadia)\n",
    "print(tetons + \" \" + acadia)\n",
    "\n",
    "answer = 42\n",
    "acadia = acadia + \" are peaceful\"\n",
    "print(acadia + str(answer))\n",
    "\n",
    "joshua_tree = str(answer + 7)\n",
    "print(tetons + \" \" + joshua_tree)"
   ]
  },
  {
   "cell_type": "markdown",
   "id": "c0e9c8ca",
   "metadata": {
    "slideshow": {
     "slide_type": "subslide"
    }
   },
   "source": [
    "# Step-thru debugging revisited\n",
    "\n",
    "repl.it: [Lecture 2 exercises: Variables](https://replit.com/@cosi-10a-fall23/Variables#main.py)"
   ]
  },
  {
   "cell_type": "markdown",
   "id": "491e7aee",
   "metadata": {
    "slideshow": {
     "slide_type": "subslide"
    }
   },
   "source": [
    "# Variable naming - requirements\n",
    "\n",
    "* Must start with a letter or the underscore character\n",
    "* Cannot start with a number\n",
    "* Can only contain alphanumeric characters and underscores (A-z, 0-9, and _ )\n",
    "  * No spaces! No dashes! \n",
    "* Case-sensitive \n",
    "  * \"banff\", \"Banff\" and \"BANFF\" are three different variables"
   ]
  },
  {
   "cell_type": "markdown",
   "id": "0fb8e10c",
   "metadata": {},
   "source": [
    "| Valid names | <span style=\"color:red\">Invalid names</span> |\n",
    "| --- | --- | \n",
    "| no_hyphens | <span style=\"color:red\">no-hyphens</span> |\n",
    "| foo42 | <span style=\"color:red\">42foo</span> |\n",
    "| \\_bar | <span style=\"color:red\">bar$</span> |\n",
    "| chocolateIsGreat | <span style=\"color:red\">chocolate is great</span> |\n",
    "| no_special_chars | <span style=\"color:red\">'no_special_chars'</span> |\n"
   ]
  },
  {
   "cell_type": "markdown",
   "id": "a138bd98",
   "metadata": {
    "slideshow": {
     "slide_type": "subslide"
    }
   },
   "source": [
    "## Variable naming - suggestions\n",
    "\n",
    "* Variable names should be descriptive, and reflect the data stored in the value\n",
    "  * E.g. `userName` instead of `u` or `data`\n",
    "* There are several common naming conventions for variables. Try to pick one and stick with it within a single program:\n",
    "  * `lower_case_with_underscores`\n",
    "  * `camelCase`\n",
    "  * `UpperCamelCase`\n",
    "  * `alllowercase` (not recommended)\n",
    "  * `ALL_CAPS_WITH_UNDERSCORES` (not recommended)\n"
   ]
  },
  {
   "cell_type": "markdown",
   "id": "42f50421",
   "metadata": {
    "slideshow": {
     "slide_type": "slide"
    }
   },
   "source": [
    "## Code \"style\"\n",
    "\n",
    "* Almost all code is read more often than it is written\n",
    "* Even if the code is only for you - it takes a surprisingly short amount of time to forget exactly how your code works\n",
    "* Using consistent, readable style is a good practice that will save you time and confusion as your programs become more complex.\n",
    "* That said - you won't be graded on style, and you don't need to follow any particular coding style in this class. Your initial goal is to produce working code that both you and the course staff understand."
   ]
  },
  {
   "cell_type": "markdown",
   "id": "09eaaf0d",
   "metadata": {
    "slideshow": {
     "slide_type": "slide"
    }
   },
   "source": [
    "## Example: Let's write a (small) real program\n",
    "\n",
    "1. Prompt the user for their name, and respond with a greeting that references their name.\n",
    "2. Ask the user what their favorite animal is, and respond with a reference to the type of animal the entered."
   ]
  },
  {
   "cell_type": "code",
   "execution_count": null,
   "id": "8fa04ba0",
   "metadata": {
    "execution": {
     "iopub.execute_input": "2024-08-20T19:21:54.245198Z",
     "iopub.status.busy": "2024-08-20T19:21:54.244828Z",
     "iopub.status.idle": "2024-08-20T19:21:54.331739Z",
     "shell.execute_reply": "2024-08-20T19:21:54.330879Z"
    },
    "slideshow": {
     "slide_type": "subslide"
    },
    "tags": [
     "remove-output"
    ]
   },
   "outputs": [],
   "source": [
    "print(\"Name?\")\n",
    "name = input()\n",
    "print(\"Hi \" + name + \"!\")\n",
    "print(\"What is your favorite animal?\")\n",
    "animal = input()\n",
    "print(animal + \" is a great animal!\")"
   ]
  },
  {
   "cell_type": "markdown",
   "id": "d0c70080",
   "metadata": {
    "slideshow": {
     "slide_type": "slide"
    }
   },
   "source": [
    "## Let's add to it\n",
    "\n",
    "3. Ask the user how many pets they have.\n",
    "4. Print \"If you got a {animal}, you'd have {pets} pets!\"\n",
    "    * {animal} should be their favorite animal\n",
    "    * {pets} should be the number of pets then entered, plus 1"
   ]
  },
  {
   "cell_type": "code",
   "execution_count": null,
   "id": "55f231cc",
   "metadata": {
    "execution": {
     "iopub.execute_input": "2024-08-20T19:21:54.335582Z",
     "iopub.status.busy": "2024-08-20T19:21:54.335240Z",
     "iopub.status.idle": "2024-08-20T19:21:54.359336Z",
     "shell.execute_reply": "2024-08-20T19:21:54.358212Z"
    },
    "slideshow": {
     "slide_type": "subslide"
    },
    "tags": [
     "remove-output",
     "raises-exception"
    ]
   },
   "outputs": [],
   "source": [
    "print(\"Name?\")\n",
    "name = input()\n",
    "print(\"Hi \" + name + \"!\")\n",
    "print(\"What is your favorite animal?\")\n",
    "animal = input()\n",
    "print(animal + \" is a great animal!\")\n",
    "\n",
    "print(\"How many pets do you have?\")\n",
    "pet_count = input()\n",
    "print(\"If you got a \" + animal + \", you'd have \" + pet_count + 1 + \" pets!\")"
   ]
  },
  {
   "cell_type": "markdown",
   "id": "4553f1a9",
   "metadata": {
    "slideshow": {
     "slide_type": "subslide"
    }
   },
   "source": [
    "## Types!\n",
    "\n",
    "`TypeError: can only concatenate str (not \"int\") to str`\n",
    "\n",
    "`input()` always creates a string.\n",
    "\n",
    "If we want to perform integer operations on `pet_count`, we must convert it."
   ]
  },
  {
   "cell_type": "code",
   "execution_count": null,
   "id": "25936612",
   "metadata": {
    "execution": {
     "iopub.execute_input": "2024-08-20T19:21:54.363417Z",
     "iopub.status.busy": "2024-08-20T19:21:54.363071Z",
     "iopub.status.idle": "2024-08-20T19:21:54.386054Z",
     "shell.execute_reply": "2024-08-20T19:21:54.384982Z"
    },
    "tags": [
     "remove-output",
     "raises-exception"
    ]
   },
   "outputs": [],
   "source": [
    "print(\"Name?\")\n",
    "name = input()\n",
    "print(\"Hi \" + name + \"!\")\n",
    "print(\"What is your favorite animal?\")\n",
    "animal = input()\n",
    "print(animal + \" is a great animal!\")\n",
    "\n",
    "print(\"How many pets do you have?\")\n",
    "pet_count = input()\n",
    "print(\"If you got a \" + animal + \", you'd have \" + int(pet_count) + 1 + \" pets!\")"
   ]
  },
  {
   "cell_type": "markdown",
   "id": "80a961e4",
   "metadata": {},
   "source": [
    "## Types?!\n",
    "\n",
    "We converted `pet_count` to an integer.\n",
    "\n",
    "But now, order of operations says that we add `int(pet_count)` to the string `\"If you got a {animal}, you'd have \"`.\n",
    "\n",
    "You can't add strings and ints.\n",
    "\n",
    "We need to convert to an integer to do the math, then back to a string!"
   ]
  },
  {
   "cell_type": "code",
   "execution_count": null,
   "id": "2c287fc0",
   "metadata": {
    "execution": {
     "iopub.execute_input": "2024-08-20T19:21:54.389636Z",
     "iopub.status.busy": "2024-08-20T19:21:54.389375Z",
     "iopub.status.idle": "2024-08-20T19:21:54.412176Z",
     "shell.execute_reply": "2024-08-20T19:21:54.411257Z"
    },
    "tags": [
     "remove-output",
     "raises-exception"
    ]
   },
   "outputs": [],
   "source": [
    "print(\"Name?\")\n",
    "name = input()\n",
    "print(\"Hi \" + name + \"!\")\n",
    "print(\"What is your favorite animal?\")\n",
    "animal = input()\n",
    "print(animal + \" is a great animal!\")\n",
    "\n",
    "print(\"How many pets do you have?\")\n",
    "pet_count = input()\n",
    "print(\"If you got a \" + animal + \", you'd have \" + str(int(pet_count) + 1) + \" pets!\")"
   ]
  },
  {
   "cell_type": "markdown",
   "id": "fe701f0d",
   "metadata": {
    "slideshow": {
     "slide_type": "slide"
    }
   },
   "source": [
    "## More readable (maybe)"
   ]
  },
  {
   "cell_type": "code",
   "execution_count": null,
   "id": "26c83282",
   "metadata": {
    "execution": {
     "iopub.execute_input": "2024-08-20T19:21:54.415565Z",
     "iopub.status.busy": "2024-08-20T19:21:54.415307Z",
     "iopub.status.idle": "2024-08-20T19:21:54.438325Z",
     "shell.execute_reply": "2024-08-20T19:21:54.437290Z"
    },
    "tags": [
     "remove-output"
    ]
   },
   "outputs": [],
   "source": [
    "print(\"Name?\")\n",
    "name = input()\n",
    "print(\"Hi \" + name + \"!\")\n",
    "print(\"What is your favorite animal?\")\n",
    "animal = input()\n",
    "print(animal + \" is a great animal!\")\n",
    "\n",
    "print(\"How many pets do you have?\")\n",
    "pet_count = input()\n",
    "new_pet_count = str(int(pet_count) + 1)\n",
    "print(\"If you got a \" + animal + \", you'd have \" + new_pet_count + \" pets!\")"
   ]
  },
  {
   "cell_type": "markdown",
   "id": "ec88e2f4",
   "metadata": {},
   "source": [
    "TODO: expression evaluation quiz"
   ]
  },
  {
   "cell_type": "markdown",
   "id": "c6de711e",
   "metadata": {},
   "source": [
    "## Exercise: Age Fact Calculator\n",
    "\n",
    "[GitHub Classroom -> Class exercises -> Open in GitHub Cospaces](https://classroom.github.com/a/M3gdSqkV)\n",
    "\n",
    "Open the file: `exercises/02/age_facts/README.md`, follow the instructions.\n",
    "* If you don't see this folder: Open the file: `get_exercises.sh`, click the \"Run\" button at the top right of the editor.\n"
   ]
  }
 ],
 "metadata": {
  "celltoolbar": "Slideshow",
  "kernelspec": {
   "display_name": "Python 3 (ipykernel)",
   "language": "python",
   "name": "python3"
  },
  "language_info": {
   "codemirror_mode": {
    "name": "ipython",
    "version": 3
   },
   "file_extension": ".py",
   "mimetype": "text/x-python",
   "name": "python",
   "nbconvert_exporter": "python",
   "pygments_lexer": "ipython3",
   "version": "3.10.9"
  }
 },
 "nbformat": 4,
 "nbformat_minor": 5
}
