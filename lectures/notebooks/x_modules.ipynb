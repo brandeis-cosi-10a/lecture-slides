{
 "cells": [
  {
   "cell_type": "markdown",
   "id": "1ee8a1d2",
   "metadata": {
    "slideshow": {
     "slide_type": "slide"
    }
   },
   "source": [
    "# Modules\n",
    "\n",
    "<style>\n",
    "section.present > section.present { \n",
    "    max-height: 90%; \n",
    "    overflow-y: scroll;\n",
    "}\n",
    "</style>\n",
    "\n",
    "<small><a href=\"https://colab.research.google.com/github/brandeis-jdelfino/cosi-10a/blob/main/lectures/notebooks/x_modules.ipynb\">Link to interactive slides on Google Colab</a></small>"
   ]
  },
  {
   "cell_type": "markdown",
   "id": "2143ec83",
   "metadata": {
    "slideshow": {
     "slide_type": "slide"
    }
   },
   "source": [
    "## Modules\n",
    "\n",
    "So far, we've only written programs that live within a single file. As programs get larger and more complex, some sort of organization and subdivision becomes necessary.\n",
    "\n",
    "One way to do this is with **modules**. In Python, all the code that lives in one file makes up a module. `main.py` is a module. Many of the built-in tools we used are also modules - e.g. `random` and `time`.\n",
    "\n",
    "You can **import** code from other modules. This makes classes, functions, and variables from the imported module available for use."
   ]
  },
  {
   "cell_type": "markdown",
   "id": "5a8ba447",
   "metadata": {
    "slideshow": {
     "slide_type": "slide"
    }
   },
   "source": [
    "[repl.it: Modules examples](https://replit.com/@cosi-10a-fall23/Modules-examples#main.py)"
   ]
  },
  {
   "cell_type": "markdown",
   "id": "1ce5ddb9",
   "metadata": {
    "slideshow": {
     "slide_type": "slide"
    }
   },
   "source": [
    "# Importing\n",
    "\n",
    "There are 2 main ways to import code.\n",
    "\n",
    "1. `import <module name>`\n",
    "   * This imports all code from the module.\n",
    "   * Functions, methods, and objects are accessible via `<module name>.<function name>`.\n",
    "   * e.g. `random.seed()` calls the `seed()` function from the `random` module.  "
   ]
  },
  {
   "cell_type": "code",
   "execution_count": null,
   "id": "99264f04",
   "metadata": {
    "execution": {
     "iopub.execute_input": "2023-10-27T13:11:59.017200Z",
     "iopub.status.busy": "2023-10-27T13:11:59.016884Z",
     "iopub.status.idle": "2023-10-27T13:11:59.036344Z",
     "shell.execute_reply": "2023-10-27T13:11:59.035591Z"
    }
   },
   "outputs": [],
   "source": [
    "import random\n",
    "random.randint(10, 20)"
   ]
  },
  {
   "cell_type": "markdown",
   "id": "c5707179",
   "metadata": {
    "slideshow": {
     "slide_type": "slide"
    }
   },
   "source": [
    "# Importing\n",
    "\n",
    "There are 2 main ways to import code.\n",
    "\n",
    "2. `from <module name> import <function name>`\n",
    "   * This imports a single thing from the module.\n",
    "   * When importing this way, you use the function directly, without referencing the module name:\n",
    "   * e.g. `from random import seed` lets you just type `seed()` to call the `seed()` function from the `random` module.\n",
    "   * You can import multiple things at once with `from` - e.g. `from random import seed, randint` imports the `seed` and `randint` functions from the `random` module.\n"
   ]
  },
  {
   "cell_type": "code",
   "execution_count": null,
   "id": "7c228fd8",
   "metadata": {
    "execution": {
     "iopub.execute_input": "2023-10-27T13:11:59.040480Z",
     "iopub.status.busy": "2023-10-27T13:11:59.040150Z",
     "iopub.status.idle": "2023-10-27T13:11:59.044902Z",
     "shell.execute_reply": "2023-10-27T13:11:59.044273Z"
    }
   },
   "outputs": [],
   "source": [
    "from random import seed, randint\n",
    "seed(50)\n",
    "randint(10, 20)"
   ]
  },
  {
   "cell_type": "markdown",
   "id": "8900563a",
   "metadata": {
    "slideshow": {
     "slide_type": "subslide"
    }
   },
   "source": [
    "# Importing \n",
    "\n",
    "Imports are typically placed at the top of a file. \n",
    "\n",
    "They can technically go anywhere in your code, but the top is the best place in almost all cases."
   ]
  },
  {
   "cell_type": "markdown",
   "id": "51f6a31a",
   "metadata": {
    "slideshow": {
     "slide_type": "subslide"
    }
   },
   "source": [
    "# Creating modules\n",
    "\n",
    "You can create and use your own modules by putting code in its own file, then importing the module from another file.\n",
    "\n",
    "The name of the module is the name of the file (minus the `.py` extension).\n",
    "\n",
    "A best practice is to put a cohesive pieces of code together in a module. Avoid lumping unrelated things together in any module other than `main`."
   ]
  },
  {
   "cell_type": "markdown",
   "id": "26775e8e",
   "metadata": {
    "slideshow": {
     "slide_type": "subslide"
    }
   },
   "source": [
    "# Third party packages\n",
    "\n",
    "One of the most powerful things about Python is the number of packages that other people have written that you can use freely and easily.\n",
    "\n",
    "(A package is a collection of one or more modules)\n",
    "\n",
    "[pypi.org](https://pypi.org/) is a very popular platform which hosts almost 500,000 packages. When you need to do something, try using pypi's search, or your favorite internet search engine, to find a package that can help.\n",
    "\n",
    "(But... don't do this for assignments, unless specifically directed to)"
   ]
  },
  {
   "cell_type": "markdown",
   "id": "e93d8656",
   "metadata": {
    "slideshow": {
     "slide_type": "subslide"
    }
   },
   "source": [
    "## `pip`\n",
    "\n",
    "Usually, third party modules are installed with the `pip` command line tool. \n",
    "* If you have python installed, you almost certainly also have `pip` installed. \n",
    "* `pip` is available from the command line in the \"Shell\" tab in repl.it.\n",
    "\n",
    "For example, `pip install wikipedia` installs a package named `wikipedia`. \n",
    "\n",
    "[wikipedia package on pypi](https://pypi.org/project/wikipedia/)"
   ]
  },
  {
   "cell_type": "markdown",
   "id": "e2001b04",
   "metadata": {},
   "source": [
    "# Exercise\n",
    "\n",
    "Install the `wikipedia` package, and use the [Quickstart guide](https://wikipedia.readthedocs.io/en/latest/quickstart.html#quickstart) to help you write some code to print out the summary of your favorite wikipedia article.\n",
    "\n",
    "[repl.it: Third party modules exercise](https://replit.com/@cosi-10a-fall23/Third-Party-Modules)"
   ]
  }
 ],
 "metadata": {
  "celltoolbar": "Slideshow",
  "kernelspec": {
   "display_name": "Python 3 (ipykernel)",
   "language": "python",
   "name": "python3"
  },
  "language_info": {
   "codemirror_mode": {
    "name": "ipython",
    "version": 3
   },
   "file_extension": ".py",
   "mimetype": "text/x-python",
   "name": "python",
   "nbconvert_exporter": "python",
   "pygments_lexer": "ipython3",
   "version": "3.10.9"
  }
 },
 "nbformat": 4,
 "nbformat_minor": 5
}
