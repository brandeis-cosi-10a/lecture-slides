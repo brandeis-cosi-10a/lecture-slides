{
 "cells": [
  {
   "cell_type": "markdown",
   "id": "1ee8a1d2",
   "metadata": {
    "slideshow": {
     "slide_type": "slide"
    }
   },
   "source": [
    "# Functions\n",
    "\n",
    "<style>\n",
    "section.present > section.present { \n",
    "    max-height: 90%; \n",
    "    overflow-y: scroll;\n",
    "}\n",
    "</style>\n",
    "\n",
    "<small><a href=\"https://colab.research.google.com/github/brandeis-jdelfino/cosi-10a/blob/main/lectures/notebooks/4_functions.ipynb\">Link to interactive slides on Google Colab</a></small>"
   ]
  },
  {
   "cell_type": "markdown",
   "id": "cd8f55ba",
   "metadata": {
    "slideshow": {
     "slide_type": "notes"
    }
   },
   "source": [
    "To add: cover `main()`"
   ]
  },
  {
   "cell_type": "markdown",
   "id": "ed1371c9",
   "metadata": {
    "slideshow": {
     "slide_type": "slide"
    }
   },
   "source": [
    "**function**: A named group of statements\n",
    "\n",
    "* They are used to:\n",
    "  * Reduce redundancy and code duplication\n",
    "  * Represent the structure of a program\n",
    "* Functions are what make large, complex programs possible to build and maintain."
   ]
  },
  {
   "cell_type": "markdown",
   "id": "74b67395",
   "metadata": {
    "slideshow": {
     "slide_type": "subslide"
    }
   },
   "source": [
    "# Functions by example\n",
    "### Write a program to print the lyrics to \"The Green Grass Grew All Around\"\n",
    "\n",
    "Oh in the woods there was a tree  \n",
    "The prettiest tree  \n",
    "You ever did see  \n",
    "And the tree was in the ground  \n",
    "And the green grass grew all around, all around, and the green grass grew all around  \n",
    "\n",
    "And on that tree  \n",
    "There was a limb  \n",
    "The prettiest limb  \n",
    "That you ever did see  \n",
    "And the limb was on the tree  \n",
    "And the tree was in the ground  \n",
    "And the green grass grew all around, all around, and the green grass grew all around  \n",
    "\n",
    "And on that limb  \n",
    "There was a branch  \n",
    "The prettiest branch  \n",
    "That you ever did see  \n",
    "And the branch was on the limb,  \n",
    "And the limb was on the tree,  \n",
    "And the tree was in the ground  \n",
    "And the green grass grew all around, all around, and the green grass grew all around  \n",
    "\n",
    "And on that branch  \n",
    "There was a nest  \n",
    "The prettiest nest  \n",
    "That you ever did see  \n",
    "And the nest was on the branch  \n",
    "And the branch was on the limb  \n",
    "And the limb was on the tree  \n",
    "And the tree was in the ground  \n",
    "And the green grass grew all around, all around, and the green grass grew all around  \n",
    "\n",
    "And in that nest  \n",
    "There was an egg  \n",
    "The prettiest egg  \n",
    "That you ever did see  \n",
    "And the egg was in the nest  \n",
    "And the nest was on the branch  \n",
    "And the branch was on the limb  \n",
    "And the limb was on the tree  \n",
    "And the tree was in the ground  \n",
    "And the green grass grew all around, all around, and the green grass grew all around  \n",
    "\n",
    "And in that egg  \n",
    "There was a bird  \n",
    "The prettiest bird  \n",
    "That you ever did see  \n",
    "And the bird was in the egg  \n",
    "And the egg was in the nest  \n",
    "And the nest was on the branch  \n",
    "And the branch was on the limb  \n",
    "And the limb was on the tree  \n",
    "And the tree was in the ground  \n",
    "And the green grass grew all around, all around, and the green grass grew all around  "
   ]
  },
  {
   "cell_type": "markdown",
   "id": "a2c01e5a",
   "metadata": {
    "slideshow": {
     "slide_type": "subslide"
    }
   },
   "source": [
    "## A naive solution"
   ]
  },
  {
   "cell_type": "code",
   "execution_count": null,
   "id": "c0461282",
   "metadata": {
    "execution": {
     "iopub.execute_input": "2023-09-11T02:12:28.257904Z",
     "iopub.status.busy": "2023-09-11T02:12:28.257486Z",
     "iopub.status.idle": "2023-09-11T02:12:28.278811Z",
     "shell.execute_reply": "2023-09-11T02:12:28.277972Z"
    }
   },
   "outputs": [],
   "source": [
    "print(\"Oh in the woods there was a tree\")\n",
    "print(\"The prettiest tree\")\n",
    "print(\"You ever did see\")\n",
    "print(\"And the tree was in the ground\")\n",
    "print(\"And the green grass grew all around, all around, and the green grass grew all around\")\n",
    "print()\n",
    "print(\"And on that tree\")\n",
    "print(\"There was a limb\")\n",
    "print(\"The prettiest limb\")\n",
    "print(\"That you ever did see\")\n",
    "print(\"And the limb was on the tree\")\n",
    "print(\"And the tree was in the ground\")\n",
    "print(\"And the green grass grew all around, all around, and the green grass grew all around\")\n",
    "print()\n",
    "print(\"And on that limb\")\n",
    "print(\"There was a branch\")\n",
    "print(\"The prettiest branch\")\n",
    "print(\"That you ever did see\")\n",
    "print(\"And the branch was on the limb,\")\n",
    "print(\"And the limb was on the tree,\")\n",
    "print(\"And the tree was in the ground\")\n",
    "print(\"And the green grass grew all around, all around, and the green grass grew all around\")\n",
    "print()\n",
    "print(\"And on that branch\")\n",
    "print(\"There was a nest\")\n",
    "print(\"The prettiest nest\")\n",
    "print(\"That you ever did see\")\n",
    "print(\"And the nest was on the branch\")\n",
    "print(\"And the branch was on the limb\")\n",
    "print(\"And the limb was on the tree\")\n",
    "print(\"And the tree was in the ground\")\n",
    "print(\"And the green grass grew all around, all around, and the green grass grew all around\")\n",
    "print()\n",
    "print(\"And in that nest\")\n",
    "print(\"There was an egg\")\n",
    "print(\"The prettiest egg\")\n",
    "print(\"That you ever did see\")\n",
    "print(\"And the egg was in the nest\")\n",
    "print(\"And the nest was on the branch\")\n",
    "print(\"And the branch was on the limb\")\n",
    "print(\"And the limb was on the tree\")\n",
    "print(\"And the tree was in the ground\")\n",
    "print(\"And the green grass grew all around, all around, and the green grass grew all around\")\n",
    "print()\n",
    "print(\"And in that egg\")\n",
    "print(\"There was a bird\")\n",
    "print(\"The prettiest bird\")\n",
    "print(\"That you ever did see\")\n",
    "print(\"And the bird was in the egg\")\n",
    "print(\"And the egg was in the nest\")\n",
    "print(\"And the nest was on the branch\")\n",
    "print(\"And the branch was on the limb\")\n",
    "print(\"And the limb was on the tree\")\n",
    "print(\"And the tree was in the ground\")\n",
    "print(\"And the green grass grew all around, all around, and the green grass grew all around\")"
   ]
  },
  {
   "cell_type": "markdown",
   "id": "3934f3fe",
   "metadata": {
    "slideshow": {
     "slide_type": "subslide"
    }
   },
   "source": [
    "## Duplication\n",
    "\n",
    "There is a LOT of duplication in this song.\n",
    "\n",
    "We can \"factor out\" some of this redundancy into re-usable blocks of code (functions). This is similar to how we pulled common bits of code out of the different if/else branches with the progressive income tax calculator.\n",
    "\n",
    "For our first function, we'll pull out the two lines that occur in every verse:\n",
    "\n",
    "\n",
    "> Oh in the woods there was a tree  \n",
    "> The prettiest tree  \n",
    "> You ever did see  \n",
    "> **And the tree was in the ground  \n",
    "> And the green grass grew all around, all around, and the green grass grew all around**\n"
   ]
  },
  {
   "cell_type": "code",
   "execution_count": null,
   "id": "c9a85e44",
   "metadata": {
    "execution": {
     "iopub.execute_input": "2023-09-11T02:12:28.282470Z",
     "iopub.status.busy": "2023-09-11T02:12:28.282179Z",
     "iopub.status.idle": "2023-09-11T02:12:28.287761Z",
     "shell.execute_reply": "2023-09-11T02:12:28.287116Z"
    },
    "slideshow": {
     "slide_type": "subslide"
    }
   },
   "outputs": [],
   "source": [
    "# Our first function:\n",
    "def tree():\n",
    "    print(\"And the tree was in the ground\")\n",
    "    print(\"And the green grass grew all around, all around, and the green grass grew all around\")\n",
    "    print()\n",
    "    \n",
    "print(\"Oh in the woods there was a tree\")\n",
    "print(\"The prettiest tree\")\n",
    "print(\"You ever did see\")\n",
    "tree()\n",
    "print(\"And on that tree\")\n",
    "print(\"There was a limb\")\n",
    "print(\"The prettiest limb\")\n",
    "print(\"That you ever did see\")\n",
    "print(\"And the limb was on the tree\")\n",
    "tree()\n",
    "print(\"And on that limb\")\n",
    "print(\"There was a branch\")\n",
    "print(\"The prettiest branch\")\n",
    "print(\"That you ever did see\")\n",
    "print(\"And the branch was on the limb,\")\n",
    "print(\"And the limb was on the tree,\")\n",
    "tree()\n",
    "# ... "
   ]
  },
  {
   "cell_type": "markdown",
   "id": "3a3d3f13",
   "metadata": {
    "slideshow": {
     "slide_type": "subslide"
    }
   },
   "source": [
    "## Function definition syntax\n",
    "\n",
    "```\n",
    "def <name>():\n",
    "    statement(s)\n",
    "``` \n",
    "\n",
    "* **Defining** a function makes it available for use\n",
    "  * Merely defining a function does not execute any of the statements in the function."
   ]
  },
  {
   "cell_type": "code",
   "execution_count": null,
   "id": "8555460b",
   "metadata": {
    "execution": {
     "iopub.execute_input": "2023-09-11T02:12:28.291127Z",
     "iopub.status.busy": "2023-09-11T02:12:28.290846Z",
     "iopub.status.idle": "2023-09-11T02:12:28.294325Z",
     "shell.execute_reply": "2023-09-11T02:12:28.293647Z"
    }
   },
   "outputs": [],
   "source": [
    "def tree():\n",
    "    print(\"And the tree was in the ground\")\n",
    "    print(\"And the green grass grew all around, all around, and the green grass grew all around\")\n",
    "    print()"
   ]
  },
  {
   "cell_type": "markdown",
   "id": "b2346f64",
   "metadata": {
    "slideshow": {
     "slide_type": "subslide"
    }
   },
   "source": [
    "* **Calling** or **invoking** a function makes the code inside the function run."
   ]
  },
  {
   "cell_type": "code",
   "execution_count": null,
   "id": "575a9446",
   "metadata": {
    "execution": {
     "iopub.execute_input": "2023-09-11T02:12:28.297338Z",
     "iopub.status.busy": "2023-09-11T02:12:28.297077Z",
     "iopub.status.idle": "2023-09-11T02:12:28.300719Z",
     "shell.execute_reply": "2023-09-11T02:12:28.300102Z"
    }
   },
   "outputs": [],
   "source": [
    "def tree():\n",
    "    print(\"And the tree was in the ground\")\n",
    "    print(\"And the green grass grew all around, all around, and the green grass grew all around\")\n",
    "    print()\n",
    "\n",
    "tree()"
   ]
  },
  {
   "cell_type": "markdown",
   "id": "bd99d947",
   "metadata": {
    "slideshow": {
     "slide_type": "subslide"
    }
   },
   "source": [
    "## Let's continue on the song... "
   ]
  },
  {
   "cell_type": "code",
   "execution_count": null,
   "id": "fa2de143",
   "metadata": {
    "execution": {
     "iopub.execute_input": "2023-09-11T02:12:28.303628Z",
     "iopub.status.busy": "2023-09-11T02:12:28.303371Z",
     "iopub.status.idle": "2023-09-11T02:12:28.307759Z",
     "shell.execute_reply": "2023-09-11T02:12:28.307180Z"
    }
   },
   "outputs": [],
   "source": [
    "# ...\n",
    "print(\"And on that tree\")  \n",
    "print(\"There was a limb\")  \n",
    "print(\"The prettiest limb\")  \n",
    "print(\"That you ever did see\")  \n",
    "print(\"And the limb was on the tree\")  \n",
    "tree()  \n",
    "print(\"And on that limb\")  \n",
    "print(\"There was a branch\")  \n",
    "print(\"The prettiest branch\")  \n",
    "print(\"That you ever did see\")  \n",
    "print(\"And the branch was on the limb,\")  \n",
    "print(\"And the limb was on the tree,\")  \n",
    "tree()\n",
    "# ..."
   ]
  },
  {
   "cell_type": "markdown",
   "id": "81bbc9bd",
   "metadata": {},
   "source": [
    "The last two lines (`print(\"And the limb was on the tree\")` and `tree()`) appear together in every verse after the first one. Let's wrap them in a function...\n"
   ]
  },
  {
   "cell_type": "code",
   "execution_count": null,
   "id": "b728645e",
   "metadata": {
    "execution": {
     "iopub.execute_input": "2023-09-11T02:12:28.310755Z",
     "iopub.status.busy": "2023-09-11T02:12:28.310493Z",
     "iopub.status.idle": "2023-09-11T02:12:28.315656Z",
     "shell.execute_reply": "2023-09-11T02:12:28.315018Z"
    },
    "slideshow": {
     "slide_type": "subslide"
    }
   },
   "outputs": [],
   "source": [
    "def tree():\n",
    "    print(\"And the tree was in the ground\")\n",
    "    print(\"And the green grass grew all around, all around, and the green grass grew all around\")\n",
    "    print()\n",
    "    \n",
    "def limb():\n",
    "    print(\"And the limb was on the tree,\")\n",
    "    tree()\n",
    "    \n",
    "print(\"Oh in the woods there was a tree\")\n",
    "print(\"The prettiest tree\")\n",
    "print(\"You ever did see\")\n",
    "tree()\n",
    "print(\"And on that tree\")\n",
    "print(\"There was a limb\")\n",
    "print(\"The prettiest limb\")\n",
    "print(\"That you ever did see\")\n",
    "limb()\n",
    "print(\"And on that limb\")\n",
    "print(\"There was a branch\")\n",
    "print(\"The prettiest branch\")\n",
    "print(\"That you ever did see\")\n",
    "print(\"And the branch was on the limb,\")\n",
    "limb()"
   ]
  },
  {
   "cell_type": "markdown",
   "id": "0851da68",
   "metadata": {
    "slideshow": {
     "slide_type": "subslide"
    }
   },
   "source": [
    "## Functions can call other functions"
   ]
  },
  {
   "cell_type": "code",
   "execution_count": null,
   "id": "03534e3e",
   "metadata": {
    "execution": {
     "iopub.execute_input": "2023-09-11T02:12:28.318746Z",
     "iopub.status.busy": "2023-09-11T02:12:28.318479Z",
     "iopub.status.idle": "2023-09-11T02:12:28.322145Z",
     "shell.execute_reply": "2023-09-11T02:12:28.321540Z"
    }
   },
   "outputs": [],
   "source": [
    "def a():\n",
    "    print(\"a\")\n",
    "\n",
    "def b():\n",
    "    print(\"b1\")\n",
    "    a()\n",
    "    print(\"b2\")\n",
    "    \n",
    "b()"
   ]
  },
  {
   "cell_type": "markdown",
   "id": "154575de",
   "metadata": {
    "slideshow": {
     "slide_type": "subslide"
    }
   },
   "source": [
    "## We can continue breaking our song down..."
   ]
  },
  {
   "cell_type": "code",
   "execution_count": null,
   "id": "d7c28cda",
   "metadata": {
    "execution": {
     "iopub.execute_input": "2023-09-11T02:12:28.325472Z",
     "iopub.status.busy": "2023-09-11T02:12:28.325192Z",
     "iopub.status.idle": "2023-09-11T02:12:28.330952Z",
     "shell.execute_reply": "2023-09-11T02:12:28.330338Z"
    }
   },
   "outputs": [],
   "source": [
    "def tree():\n",
    "    print(\"And the tree was in the ground\")\n",
    "    print(\"And the green grass grew all around, all around, and the green grass grew all around\")\n",
    "    print()\n",
    "    \n",
    "def limb():\n",
    "    print(\"And the limb was on the tree,\")\n",
    "    tree()\n",
    "    \n",
    "def branch():\n",
    "    print(\"And the branch was on the limb,\")\n",
    "    limb()\n",
    "    \n",
    "print(\"Oh in the woods there was a tree\")\n",
    "print(\"The prettiest tree\")\n",
    "print(\"You ever did see\")\n",
    "tree()\n",
    "print(\"And on that tree\")\n",
    "print(\"There was a limb\")\n",
    "print(\"The prettiest limb\")\n",
    "print(\"That you ever did see\")\n",
    "limb()\n",
    "print(\"And on that limb\")\n",
    "print(\"There was a branch\")\n",
    "print(\"The prettiest branch\")\n",
    "print(\"That you ever did see\")\n",
    "branch()\n",
    "print(\"And on that branch\")\n",
    "print(\"There was a nest\")\n",
    "print(\"The prettiest nest\")\n",
    "print(\"That you ever did see\")\n",
    "print(\"And the nest was on the branch\")\n",
    "branch()"
   ]
  },
  {
   "cell_type": "code",
   "execution_count": null,
   "id": "912338c9",
   "metadata": {
    "execution": {
     "iopub.execute_input": "2023-09-11T02:12:28.334121Z",
     "iopub.status.busy": "2023-09-11T02:12:28.333855Z",
     "iopub.status.idle": "2023-09-11T02:12:28.340676Z",
     "shell.execute_reply": "2023-09-11T02:12:28.340108Z"
    },
    "slideshow": {
     "slide_type": "subslide"
    }
   },
   "outputs": [],
   "source": [
    "def tree():\n",
    "    print(\"And the tree was in the ground\")\n",
    "    print(\"And the green grass grew all around, all around, and the green grass grew all around\")\n",
    "    print()\n",
    "    \n",
    "def limb():\n",
    "    print(\"And the limb was on the tree,\")\n",
    "    tree()\n",
    "    \n",
    "def branch():\n",
    "    print(\"And the branch was on the limb,\")\n",
    "    limb()\n",
    "    \n",
    "def nest():\n",
    "    print(\"And the nest was on the branch\")\n",
    "    branch()\n",
    "\n",
    "def egg():\n",
    "    print(\"And the egg was in the nest\")\n",
    "    nest()\n",
    "\n",
    "def bird():\n",
    "    print(\"And the bird was in the egg\")\n",
    "    egg()\n",
    "    \n",
    "print(\"Oh in the woods there was a tree\")\n",
    "print(\"The prettiest tree\")\n",
    "print(\"You ever did see\")\n",
    "tree()\n",
    "print(\"And on that tree\")\n",
    "print(\"There was a limb\")\n",
    "print(\"The prettiest limb\")\n",
    "print(\"That you ever did see\")\n",
    "limb()\n",
    "print(\"And on that limb\")\n",
    "print(\"There was a branch\")\n",
    "print(\"The prettiest branch\")\n",
    "print(\"That you ever did see\")\n",
    "branch()\n",
    "print(\"And on that branch\")\n",
    "print(\"There was a nest\")\n",
    "print(\"The prettiest nest\")\n",
    "print(\"That you ever did see\")\n",
    "nest()\n",
    "print(\"And in that nest\")\n",
    "print(\"There was an egg\")\n",
    "print(\"The prettiest egg\")\n",
    "print(\"That you ever did see\")\n",
    "egg()\n",
    "print(\"And in that egg\")\n",
    "print(\"There was a bird\")\n",
    "print(\"The prettiest bird\")\n",
    "print(\"That you ever did see\")\n",
    "bird()"
   ]
  },
  {
   "cell_type": "markdown",
   "id": "f9d4f100",
   "metadata": {
    "slideshow": {
     "slide_type": "slide"
    }
   },
   "source": [
    "# Functional decomposition\n",
    "\n",
    "* We are **decomposing** our song into smaller pieces.\n",
    "* Decomposing a complicated program into coherent, reusable chunks is an extremely valuable programming skill.\n",
    "* It will come with practice and experience - your first attempts might feel like they create more work, headache, and confusion than they save.\n",
    "* Stick with it, it will pay off!"
   ]
  },
  {
   "cell_type": "markdown",
   "id": "33ef2fc5",
   "metadata": {
    "slideshow": {
     "slide_type": "slide"
    }
   },
   "source": [
    "# Parameters\n",
    "\n",
    "### We still have more duplication in our song\n",
    "\n",
    "And on that **tree**  \n",
    "There was a **limb**  \n",
    "The prettiest **limb**  \n",
    "That you ever did see  \n",
    "\n",
    "vs. \n",
    "\n",
    "And on that **limb**  \n",
    "There was a **branch**  \n",
    "The prettiest **branch**  \n",
    "That you ever did see"
   ]
  },
  {
   "cell_type": "markdown",
   "id": "b090681f",
   "metadata": {
    "slideshow": {
     "slide_type": "subslide"
    }
   },
   "source": [
    "## Parameters\n",
    "\n",
    "Functions can be **parameterized**. \n",
    "\n",
    "```\n",
    "def <name>(parameter1, [parameter2], ...):\n",
    "    statement(s)\n",
    "```\n",
    "\n",
    "* A **parameter** is a variable defined as input to a function. \n",
    "* An **argument** is a value passed to a function when it is called.\n",
    "* This is a fine distinction, and the two terms are often used interchangably. The distinction is generally ok to ignore unless you are in a context where the difference matters (e.g. formal documentation or specifications)."
   ]
  },
  {
   "cell_type": "markdown",
   "id": "d8110e12",
   "metadata": {
    "slideshow": {
     "slide_type": "subslide"
    }
   },
   "source": [
    "## Parameters\n",
    "\n",
    "We can write a parameterized function for the first part of the verses.  "
   ]
  },
  {
   "cell_type": "code",
   "execution_count": null,
   "id": "2a716302",
   "metadata": {
    "execution": {
     "iopub.execute_input": "2023-09-11T02:12:28.344052Z",
     "iopub.status.busy": "2023-09-11T02:12:28.343787Z",
     "iopub.status.idle": "2023-09-11T02:12:28.347538Z",
     "shell.execute_reply": "2023-09-11T02:12:28.346903Z"
    }
   },
   "outputs": [],
   "source": [
    "def verse(first_thing, second_thing):\n",
    "    print(\"And on that \" + first_thing)\n",
    "    print(\"There was a \" + second_thing)\n",
    "    print(\"The prettiest \" + second_thing)\n",
    "    print(\"That you ever did see\")\n",
    "    \n",
    "verse(\"tree\", \"limb\")"
   ]
  },
  {
   "cell_type": "code",
   "execution_count": null,
   "id": "6435a4f7",
   "metadata": {
    "execution": {
     "iopub.execute_input": "2023-09-11T02:12:28.350526Z",
     "iopub.status.busy": "2023-09-11T02:12:28.350279Z",
     "iopub.status.idle": "2023-09-11T02:12:28.356605Z",
     "shell.execute_reply": "2023-09-11T02:12:28.356036Z"
    },
    "slideshow": {
     "slide_type": "subslide"
    }
   },
   "outputs": [],
   "source": [
    "def tree():\n",
    "    print(\"And the tree was in the ground\")\n",
    "    print(\"And the green grass grew all around, all around, and the green grass grew all around\")\n",
    "    print()\n",
    "    \n",
    "def limb():\n",
    "    print(\"And the limb was on the tree,\")\n",
    "    tree()\n",
    "    \n",
    "def branch():\n",
    "    print(\"And the branch was on the limb,\")\n",
    "    limb()\n",
    "    \n",
    "def nest():\n",
    "    print(\"And the nest was on the branch\")\n",
    "    branch()\n",
    "\n",
    "def egg():\n",
    "    print(\"And the egg was in the nest\")\n",
    "    nest()\n",
    "\n",
    "def bird():\n",
    "    print(\"And the bird was in the egg\")\n",
    "    egg()\n",
    "\n",
    "def verse(first_thing, second_thing):\n",
    "    print(\"And on that \" + first_thing)\n",
    "    print(\"There was a \" + second_thing)\n",
    "    print(\"The prettiest \" + second_thing)\n",
    "    print(\"That you ever did see\")\n",
    "    \n",
    "print(\"Oh in the woods there was a tree\")\n",
    "print(\"The prettiest tree\")\n",
    "print(\"You ever did see\")\n",
    "tree()\n",
    "verse(\"tree\", \"limb\")\n",
    "limb()\n",
    "verse(\"limb\", \"branch\")\n",
    "branch()\n",
    "verse(\"branch\", \"nest\")\n",
    "nest()\n",
    "verse(\"nest\", \"egg\")\n",
    "egg()\n",
    "verse(\"egg\", \"bird\")\n",
    "bird()"
   ]
  },
  {
   "cell_type": "markdown",
   "id": "a1a70fac",
   "metadata": {
    "slideshow": {
     "slide_type": "slide"
    }
   },
   "source": [
    "# [Slido](https://wall.sli.do/event/uSDeosq3F6XwhDiQmuPusF?section=368502dc-5d64-4db5-8f67-1c78d4d645bf)"
   ]
  },
  {
   "cell_type": "markdown",
   "id": "6d471df5",
   "metadata": {
    "slideshow": {
     "slide_type": "subslide"
    }
   },
   "source": [
    "# Wait, that song isn't quite right...\n",
    "\n",
    "The egg verse is special:\n",
    "\n",
    "And **on** that nest  \n",
    "There was **a** egg  \n",
    "The prettiest egg  \n",
    "That you ever did see  \n",
    "\n",
    "One way to fix this would be to write a special function (or just use print statements) for that verse. \n",
    "\n",
    "But... we're learning about functions, so let's keep going."
   ]
  },
  {
   "cell_type": "markdown",
   "id": "5eae094d",
   "metadata": {
    "slideshow": {
     "slide_type": "subslide"
    }
   },
   "source": [
    "We can add one more parameter, `orientation` to our `verse` function:"
   ]
  },
  {
   "cell_type": "code",
   "execution_count": null,
   "id": "eecece39",
   "metadata": {
    "execution": {
     "iopub.execute_input": "2023-09-11T02:12:28.359849Z",
     "iopub.status.busy": "2023-09-11T02:12:28.359600Z",
     "iopub.status.idle": "2023-09-11T02:12:28.363577Z",
     "shell.execute_reply": "2023-09-11T02:12:28.362985Z"
    },
    "slideshow": {
     "slide_type": "-"
    },
    "tags": [
     "remove-output"
    ]
   },
   "outputs": [],
   "source": [
    "def verse(first_thing, second_thing, orientation):\n",
    "    print(\"And \" + orientation + \" that \" + first_thing)\n",
    "    print(\"There was a \" + second_thing)\n",
    "    print(\"The prettiest \" + second_thing)\n",
    "    print(\"That you ever did see\")\n",
    "    \n",
    "verse(\"branch\", \"limb\", \"on\")\n",
    "print()\n",
    "verse(\"nest\", \"egg\", \"in\")"
   ]
  },
  {
   "cell_type": "markdown",
   "id": "386188d6",
   "metadata": {},
   "source": [
    "This is kind of annoying though - we have to edit every `verse` call to add another parameter, when only some of the calls actually need special handling."
   ]
  },
  {
   "cell_type": "code",
   "execution_count": null,
   "id": "b210d3f0",
   "metadata": {
    "execution": {
     "iopub.execute_input": "2023-09-11T02:12:28.366642Z",
     "iopub.status.busy": "2023-09-11T02:12:28.366385Z",
     "iopub.status.idle": "2023-09-11T02:12:28.373064Z",
     "shell.execute_reply": "2023-09-11T02:12:28.372433Z"
    },
    "slideshow": {
     "slide_type": "subslide"
    }
   },
   "outputs": [],
   "source": [
    "def tree():\n",
    "    print(\"And the tree was in the ground\")\n",
    "    print(\"And the green grass grew all around, all around, and the green grass grew all around\")\n",
    "    print()\n",
    "    \n",
    "def limb():\n",
    "    print(\"And the limb was on the tree,\")\n",
    "    tree()\n",
    "    \n",
    "def branch():\n",
    "    print(\"And the branch was on the limb,\")\n",
    "    limb()\n",
    "    \n",
    "def nest():\n",
    "    print(\"And the nest was on the branch\")\n",
    "    branch()\n",
    "\n",
    "def egg():\n",
    "    print(\"And the egg was in the nest\")\n",
    "    nest()\n",
    "\n",
    "def bird():\n",
    "    print(\"And the bird was in the egg\")\n",
    "    egg()\n",
    "\n",
    "def verse(first_thing, second_thing, orientation):\n",
    "    print(\"And \" + orientation + \" that \" + first_thing)\n",
    "    print(\"There was a \" + second_thing)\n",
    "    print(\"The prettiest \" + second_thing)\n",
    "    print(\"That you ever did see\")\n",
    "    \n",
    "print(\"Oh in the woods there was a tree\")\n",
    "print(\"The prettiest tree\")\n",
    "print(\"You ever did see\")\n",
    "tree()\n",
    "verse(\"tree\", \"limb\", \"on\")\n",
    "limb()\n",
    "verse(\"limb\", \"branch\", \"on\")\n",
    "branch()\n",
    "verse(\"branch\", \"nest\", \"on\")\n",
    "nest()\n",
    "verse(\"nest\", \"egg\", \"in\")\n",
    "egg()\n",
    "verse(\"egg\", \"bird\", \"in\")\n",
    "bird()"
   ]
  },
  {
   "cell_type": "markdown",
   "id": "a80466c9",
   "metadata": {
    "slideshow": {
     "slide_type": "subslide"
    }
   },
   "source": [
    "## Default values\n",
    "\n",
    "Function parameters can have **default values**. A default value is used if no argument is passed for a parameter.\n",
    "\n",
    "Example:"
   ]
  },
  {
   "cell_type": "code",
   "execution_count": null,
   "id": "f1cb6d2f",
   "metadata": {
    "execution": {
     "iopub.execute_input": "2023-09-11T02:12:28.376170Z",
     "iopub.status.busy": "2023-09-11T02:12:28.375898Z",
     "iopub.status.idle": "2023-09-11T02:12:28.379458Z",
     "shell.execute_reply": "2023-09-11T02:12:28.378536Z"
    }
   },
   "outputs": [],
   "source": [
    "def greet(name = \"guest\"):\n",
    "    print(\"Hello, \" + name + \"!\")"
   ]
  },
  {
   "cell_type": "code",
   "execution_count": null,
   "id": "7b2b3c50",
   "metadata": {
    "execution": {
     "iopub.execute_input": "2023-09-11T02:12:28.382415Z",
     "iopub.status.busy": "2023-09-11T02:12:28.382143Z",
     "iopub.status.idle": "2023-09-11T02:12:28.385396Z",
     "shell.execute_reply": "2023-09-11T02:12:28.384783Z"
    }
   },
   "outputs": [],
   "source": [
    "greet()"
   ]
  },
  {
   "cell_type": "code",
   "execution_count": null,
   "id": "8c147cf0",
   "metadata": {
    "execution": {
     "iopub.execute_input": "2023-09-11T02:12:28.388617Z",
     "iopub.status.busy": "2023-09-11T02:12:28.388357Z",
     "iopub.status.idle": "2023-09-11T02:12:28.391625Z",
     "shell.execute_reply": "2023-09-11T02:12:28.391025Z"
    }
   },
   "outputs": [],
   "source": [
    "greet(\"Joe\")"
   ]
  },
  {
   "cell_type": "markdown",
   "id": "bdf4119e",
   "metadata": {
    "slideshow": {
     "slide_type": "subslide"
    }
   },
   "source": [
    "## Back to the song"
   ]
  },
  {
   "cell_type": "code",
   "execution_count": null,
   "id": "9af9d339",
   "metadata": {
    "execution": {
     "iopub.execute_input": "2023-09-11T02:12:28.394758Z",
     "iopub.status.busy": "2023-09-11T02:12:28.394502Z",
     "iopub.status.idle": "2023-09-11T02:12:28.398750Z",
     "shell.execute_reply": "2023-09-11T02:12:28.398115Z"
    }
   },
   "outputs": [],
   "source": [
    "def verse(first_thing, second_thing, orientation=\"on\"):\n",
    "    print(\"And \" + orientation + \" that \" + first_thing)\n",
    "    print(\"There was a \" + second_thing)\n",
    "    print(\"The prettiest \" + second_thing)\n",
    "    print(\"That you ever did see\")\n",
    "    \n",
    "verse(\"branch\", \"limb\")\n",
    "print()\n",
    "verse(\"nest\", \"egg\", \"in\")"
   ]
  },
  {
   "cell_type": "markdown",
   "id": "7222c828",
   "metadata": {
    "slideshow": {
     "slide_type": "subslide"
    }
   },
   "source": [
    "## Let's fix the grammar"
   ]
  },
  {
   "cell_type": "code",
   "execution_count": null,
   "id": "f89e8a83",
   "metadata": {
    "execution": {
     "iopub.execute_input": "2023-09-11T02:12:28.401597Z",
     "iopub.status.busy": "2023-09-11T02:12:28.401356Z",
     "iopub.status.idle": "2023-09-11T02:12:28.405306Z",
     "shell.execute_reply": "2023-09-11T02:12:28.404727Z"
    }
   },
   "outputs": [],
   "source": [
    "def verse(first_thing, second_thing, orientation=\"on\", connector=\"a\"):\n",
    "    print(\"And \" + orientation + \" that \" + first_thing)\n",
    "    print(\"There was \" + connector + \" \" + second_thing)\n",
    "    print(\"The prettiest \" + second_thing)\n",
    "    print(\"That you ever did see\")\n",
    "    \n",
    "verse(\"nest\", \"egg\", \"in\", \"an\")"
   ]
  },
  {
   "cell_type": "markdown",
   "id": "27d93c9f",
   "metadata": {
    "slideshow": {
     "slide_type": "subslide"
    }
   },
   "source": [
    "##  Calling functions: named parameters\n",
    "\n",
    "Our `verse` function call has gotten a little obtuse:  \n",
    "  \n",
    "`verse(\"nest\", \"egg\", \"in\", \"an\")`  \n",
    "  \n",
    "We can improve the readability.\n"
   ]
  },
  {
   "cell_type": "markdown",
   "id": "5a2c3344",
   "metadata": {
    "slideshow": {
     "slide_type": "subslide"
    }
   },
   "source": [
    "So far, we've called functions with **positional arguments**:"
   ]
  },
  {
   "cell_type": "code",
   "execution_count": null,
   "id": "315cd726",
   "metadata": {
    "execution": {
     "iopub.execute_input": "2023-09-11T02:12:28.408486Z",
     "iopub.status.busy": "2023-09-11T02:12:28.408192Z",
     "iopub.status.idle": "2023-09-11T02:12:28.411513Z",
     "shell.execute_reply": "2023-09-11T02:12:28.410811Z"
    },
    "slideshow": {
     "slide_type": "-"
    }
   },
   "outputs": [],
   "source": [
    "def meet(name1, name2):\n",
    "    print(name1 + \", meet \" + name2 + \".\")"
   ]
  },
  {
   "cell_type": "code",
   "execution_count": null,
   "id": "9c671bb9",
   "metadata": {
    "execution": {
     "iopub.execute_input": "2023-09-11T02:12:28.414329Z",
     "iopub.status.busy": "2023-09-11T02:12:28.414094Z",
     "iopub.status.idle": "2023-09-11T02:12:28.417238Z",
     "shell.execute_reply": "2023-09-11T02:12:28.416695Z"
    }
   },
   "outputs": [],
   "source": [
    "meet(\"Bill\", \"Ted\")"
   ]
  },
  {
   "cell_type": "markdown",
   "id": "d6fd6f62",
   "metadata": {},
   "source": [
    "Functions can also be called with **named arguments**:"
   ]
  },
  {
   "cell_type": "code",
   "execution_count": null,
   "id": "123b2a5d",
   "metadata": {
    "execution": {
     "iopub.execute_input": "2023-09-11T02:12:28.420220Z",
     "iopub.status.busy": "2023-09-11T02:12:28.419982Z",
     "iopub.status.idle": "2023-09-11T02:12:28.423272Z",
     "shell.execute_reply": "2023-09-11T02:12:28.422680Z"
    }
   },
   "outputs": [],
   "source": [
    "meet(name1 = \"Mario\", name2 = \"Luigi\")"
   ]
  },
  {
   "cell_type": "markdown",
   "id": "504844b4",
   "metadata": {
    "slideshow": {
     "slide_type": "subslide"
    }
   },
   "source": [
    "Named arguments can be passed in any order."
   ]
  },
  {
   "cell_type": "code",
   "execution_count": null,
   "id": "577512ef",
   "metadata": {
    "execution": {
     "iopub.execute_input": "2023-09-11T02:12:28.426266Z",
     "iopub.status.busy": "2023-09-11T02:12:28.426020Z",
     "iopub.status.idle": "2023-09-11T02:12:28.429234Z",
     "shell.execute_reply": "2023-09-11T02:12:28.428666Z"
    }
   },
   "outputs": [],
   "source": [
    "meet(name2 = \"your father\", name1 = \"Luke\")"
   ]
  },
  {
   "cell_type": "code",
   "execution_count": null,
   "id": "5d883859",
   "metadata": {
    "execution": {
     "iopub.execute_input": "2023-09-11T02:12:28.432120Z",
     "iopub.status.busy": "2023-09-11T02:12:28.431871Z",
     "iopub.status.idle": "2023-09-11T02:12:28.435699Z",
     "shell.execute_reply": "2023-09-11T02:12:28.435161Z"
    },
    "slideshow": {
     "slide_type": "-"
    }
   },
   "outputs": [],
   "source": [
    "def menu(breakfast, lunch = \"PB&J\", dinner = \"Ramen\", dessert = \"1 full pint of Ben & Jerry's\"):\n",
    "    print(\"Today's menu: \")\n",
    "    print(\"Breakfast: \" + breakfast)\n",
    "    print(\"Lunch: \" + lunch)\n",
    "    print(\"Dinner: \" + dinner)\n",
    "    print(\"Dessert: \" + dessert)\n",
    "    \n",
    "menu(\"Eggs\")"
   ]
  },
  {
   "cell_type": "code",
   "execution_count": null,
   "id": "e1bcc2e9",
   "metadata": {
    "execution": {
     "iopub.execute_input": "2023-09-11T02:12:28.438608Z",
     "iopub.status.busy": "2023-09-11T02:12:28.438370Z",
     "iopub.status.idle": "2023-09-11T02:12:28.441610Z",
     "shell.execute_reply": "2023-09-11T02:12:28.441039Z"
    }
   },
   "outputs": [],
   "source": [
    "menu(\"Cereal\", dinner = \"Lobster\")"
   ]
  },
  {
   "cell_type": "markdown",
   "id": "1cffaa3d",
   "metadata": {
    "slideshow": {
     "slide_type": "subslide"
    }
   },
   "source": [
    "You must supply an argument for every non-default argument."
   ]
  },
  {
   "cell_type": "code",
   "execution_count": null,
   "id": "cd414bc7",
   "metadata": {
    "execution": {
     "iopub.execute_input": "2023-09-11T02:12:28.444454Z",
     "iopub.status.busy": "2023-09-11T02:12:28.444209Z",
     "iopub.status.idle": "2023-09-11T02:12:28.712953Z",
     "shell.execute_reply": "2023-09-11T02:12:28.712244Z"
    },
    "slideshow": {
     "slide_type": "-"
    },
    "tags": [
     "raises-exception"
    ]
   },
   "outputs": [],
   "source": [
    "menu()"
   ]
  },
  {
   "cell_type": "markdown",
   "id": "cc4001c0",
   "metadata": {
    "slideshow": {
     "slide_type": "-"
    }
   },
   "source": [
    "You can mix named/unnamed arguments in one call, but all positional arguments must come before any named arguments."
   ]
  },
  {
   "cell_type": "code",
   "execution_count": null,
   "id": "314b394d",
   "metadata": {
    "execution": {
     "iopub.execute_input": "2023-09-11T02:12:28.718357Z",
     "iopub.status.busy": "2023-09-11T02:12:28.717999Z",
     "iopub.status.idle": "2023-09-11T02:12:28.722848Z",
     "shell.execute_reply": "2023-09-11T02:12:28.722138Z"
    },
    "slideshow": {
     "slide_type": "-"
    },
    "tags": [
     "raises-exception"
    ]
   },
   "outputs": [],
   "source": [
    "menu(\"Oatmeal\", dessert = \"Skittles\", \"Ham & Cheese\")"
   ]
  },
  {
   "cell_type": "markdown",
   "id": "9a81130f",
   "metadata": {
    "slideshow": {
     "slide_type": "subslide"
    }
   },
   "source": [
    "## Code style\n",
    "* It's easy to write incomprehensible code by overusing default parameters or mixing named/unnamed arguments.\n",
    "* Opt for clarity over brevity."
   ]
  },
  {
   "cell_type": "markdown",
   "id": "69ed8978",
   "metadata": {
    "slideshow": {
     "slide_type": "subslide"
    }
   },
   "source": [
    "## Extra credit\n",
    "\n",
    "This version uses some things we haven't covered yet, but we can make the code choose between `a` and `an` for us!"
   ]
  },
  {
   "cell_type": "code",
   "execution_count": null,
   "id": "71301bf1",
   "metadata": {
    "execution": {
     "iopub.execute_input": "2023-09-11T02:12:28.726423Z",
     "iopub.status.busy": "2023-09-11T02:12:28.726168Z",
     "iopub.status.idle": "2023-09-11T02:12:28.730296Z",
     "shell.execute_reply": "2023-09-11T02:12:28.729690Z"
    }
   },
   "outputs": [],
   "source": [
    "def verse(first_thing, second_thing, orientation=\"on\"):\n",
    "    print(\"And \" + orientation + \" that \" + first_thing)\n",
    "    connector = \"a\"\n",
    "    # If the first letter of \"second_thing\" is a vowel (a, e, i, o, or u), then use \"an\"\n",
    "    if second_thing[0] in \"aeiou\":\n",
    "        connector = \"an\"\n",
    "    print(\"There was \" + connector + \" \" + second_thing)\n",
    "    print(\"The prettiest \" + second_thing)\n",
    "    print(\"That you ever did see\")"
   ]
  },
  {
   "cell_type": "code",
   "execution_count": null,
   "id": "c61101e3",
   "metadata": {
    "execution": {
     "iopub.execute_input": "2023-09-11T02:12:28.733509Z",
     "iopub.status.busy": "2023-09-11T02:12:28.733253Z",
     "iopub.status.idle": "2023-09-11T02:12:28.736713Z",
     "shell.execute_reply": "2023-09-11T02:12:28.736071Z"
    }
   },
   "outputs": [],
   "source": [
    "verse(\"bird\", \"egg\", orientation=\"on\")"
   ]
  },
  {
   "cell_type": "code",
   "execution_count": null,
   "id": "652e6d57",
   "metadata": {
    "execution": {
     "iopub.execute_input": "2023-09-11T02:12:28.739717Z",
     "iopub.status.busy": "2023-09-11T02:12:28.739453Z",
     "iopub.status.idle": "2023-09-11T02:12:28.742731Z",
     "shell.execute_reply": "2023-09-11T02:12:28.742126Z"
    }
   },
   "outputs": [],
   "source": [
    "verse(\"bird\", \"wing\")"
   ]
  },
  {
   "cell_type": "code",
   "execution_count": null,
   "id": "bebc7ddb",
   "metadata": {
    "execution": {
     "iopub.execute_input": "2023-09-11T02:12:28.745613Z",
     "iopub.status.busy": "2023-09-11T02:12:28.745368Z",
     "iopub.status.idle": "2023-09-11T02:12:28.752432Z",
     "shell.execute_reply": "2023-09-11T02:12:28.751796Z"
    },
    "slideshow": {
     "slide_type": "subslide"
    }
   },
   "outputs": [],
   "source": [
    "# Our final version\n",
    "def tree():\n",
    "    print(\"And the tree was in the ground\")\n",
    "    print(\"And the green grass grew all around, all around, and the green grass grew all around\")\n",
    "    print()\n",
    "    \n",
    "def limb():\n",
    "    print(\"And the limb was on the tree,\")\n",
    "    tree()\n",
    "    \n",
    "def branch():\n",
    "    print(\"And the branch was on the limb,\")\n",
    "    limb()\n",
    "    \n",
    "def nest():\n",
    "    print(\"And the nest was on the branch\")\n",
    "    branch()\n",
    "\n",
    "def egg():\n",
    "    print(\"And the egg was in the nest\")\n",
    "    nest()\n",
    "\n",
    "def bird():\n",
    "    print(\"And the bird was in the egg\")\n",
    "    egg()\n",
    "\n",
    "def verse(first_thing, second_thing, orientation=\"on\"):\n",
    "    print(\"And \" + orientation + \" that \" + first_thing)\n",
    "    connector = \"a\"\n",
    "    # If the first letter of \"second_thing\" is a vowel (a, e, i, o, or u), then use \"an\"\n",
    "    if second_thing[0] in \"aeiou\":\n",
    "        connector = \"an\"\n",
    "    print(\"There was \" + connector + \" \" + second_thing)\n",
    "    print(\"The prettiest \" + second_thing)\n",
    "    print(\"That you ever did see\")\n",
    "\n",
    "def green_grass_song():\n",
    "    print(\"Oh in the woods there was a tree\")\n",
    "    print(\"The prettiest tree\")\n",
    "    print(\"You ever did see\")\n",
    "    tree()\n",
    "    verse(\"tree\", \"limb\")\n",
    "    limb()\n",
    "    verse(\"limb\", \"branch\")\n",
    "    branch()\n",
    "    verse(\"branch\", \"nest\")\n",
    "    nest()\n",
    "    verse(\"nest\", \"egg\", orientation=\"in\")\n",
    "    egg()\n",
    "    verse(\"egg\", \"bird\", orientation=\"in\")\n",
    "    bird()\n",
    "    \n",
    "green_grass_song()"
   ]
  },
  {
   "cell_type": "markdown",
   "id": "735255b6",
   "metadata": {
    "slideshow": {
     "slide_type": "slide"
    }
   },
   "source": [
    "\n",
    "# Returns\n",
    "\n",
    "* Functions can produce values.\n",
    "* Using the `return` keyword in a function makes the function produce a value."
   ]
  },
  {
   "cell_type": "code",
   "execution_count": null,
   "id": "9b69489b",
   "metadata": {
    "execution": {
     "iopub.execute_input": "2023-09-11T02:12:28.755721Z",
     "iopub.status.busy": "2023-09-11T02:12:28.755389Z",
     "iopub.status.idle": "2023-09-11T02:12:28.763741Z",
     "shell.execute_reply": "2023-09-11T02:12:28.762047Z"
    },
    "slideshow": {
     "slide_type": "-"
    }
   },
   "outputs": [],
   "source": [
    "def add(a, b):\n",
    "    return a + b\n",
    "\n",
    "add(1, 2)"
   ]
  },
  {
   "cell_type": "markdown",
   "id": "a65d1489",
   "metadata": {
    "slideshow": {
     "slide_type": "subslide"
    }
   },
   "source": [
    "## Terminology\n",
    "* When a function produces a value, we say it **returns** a value.\n",
    "* The value a function produces is referred to as the **return value**\n",
    "* When the `return` keyword is used in a function, it is referred to as **returning from** the function."
   ]
  },
  {
   "cell_type": "code",
   "execution_count": null,
   "id": "07b36c01",
   "metadata": {
    "execution": {
     "iopub.execute_input": "2023-09-11T02:12:28.767093Z",
     "iopub.status.busy": "2023-09-11T02:12:28.766817Z",
     "iopub.status.idle": "2023-09-11T02:12:28.771099Z",
     "shell.execute_reply": "2023-09-11T02:12:28.770518Z"
    },
    "slideshow": {
     "slide_type": "-"
    }
   },
   "outputs": [],
   "source": [
    "def add(a, b):\n",
    "    return a + b\n",
    "\n",
    "add(1, 2)"
   ]
  },
  {
   "cell_type": "markdown",
   "id": "3b5a33a0",
   "metadata": {},
   "source": [
    "The `add` function **returns** the sum of its two parameters.\n",
    "\n",
    "The **return value** of `add`, when passed the arguments `1` and `2` is: `3`."
   ]
  },
  {
   "cell_type": "markdown",
   "id": "7a4fee7a",
   "metadata": {
    "slideshow": {
     "slide_type": "subslide"
    }
   },
   "source": [
    "## Evaluating\n",
    "\n",
    "Just like other expressions, when a function is **called**, it **evaluates to** a value. The value is whatever is returned from the function.\n",
    "\n",
    "The returned value can be used just like any other value - it can be assigned to a variable, printed, used in a larger expression, etc."
   ]
  },
  {
   "cell_type": "code",
   "execution_count": null,
   "id": "4957a749",
   "metadata": {
    "execution": {
     "iopub.execute_input": "2023-09-11T02:12:28.774126Z",
     "iopub.status.busy": "2023-09-11T02:12:28.773869Z",
     "iopub.status.idle": "2023-09-11T02:12:28.777822Z",
     "shell.execute_reply": "2023-09-11T02:12:28.777193Z"
    },
    "slideshow": {
     "slide_type": "-"
    }
   },
   "outputs": [],
   "source": [
    "def add(a, b):\n",
    "    return a + b\n",
    "\n",
    "sum = add(1, 2)\n",
    "print(sum)\n",
    "print(\"The sum of 1 and 2 is \" + str(sum) + \", but the sum of 1 and 3 is \" + str(add(1, 3)))"
   ]
  },
  {
   "cell_type": "markdown",
   "id": "96614ff4",
   "metadata": {
    "slideshow": {
     "slide_type": "subslide"
    }
   },
   "source": [
    "## Precedence\n",
    "\n",
    "When functions are combined in an expression, they evaluate \"from the inside out\"."
   ]
  },
  {
   "cell_type": "code",
   "execution_count": null,
   "id": "c568aa9d",
   "metadata": {
    "execution": {
     "iopub.execute_input": "2023-09-11T02:12:28.780872Z",
     "iopub.status.busy": "2023-09-11T02:12:28.780609Z",
     "iopub.status.idle": "2023-09-11T02:12:28.784907Z",
     "shell.execute_reply": "2023-09-11T02:12:28.784352Z"
    }
   },
   "outputs": [],
   "source": [
    "add(1, add(2, 3))"
   ]
  },
  {
   "cell_type": "markdown",
   "id": "7781b8fc",
   "metadata": {},
   "source": [
    "The \"inner\" `add` is evaluated first, and the result of it is passed as an argument to the \"outer\" `add`:\n",
    "\n",
    "`add(1, add(2, 3))` ->  \n",
    "`add(1, 5        )` ->  \n",
    "`6`"
   ]
  },
  {
   "cell_type": "code",
   "execution_count": null,
   "id": "5e67c4c9",
   "metadata": {
    "execution": {
     "iopub.execute_input": "2023-09-11T02:12:28.787893Z",
     "iopub.status.busy": "2023-09-11T02:12:28.787645Z",
     "iopub.status.idle": "2023-09-11T02:12:28.791680Z",
     "shell.execute_reply": "2023-09-11T02:12:28.791115Z"
    },
    "slideshow": {
     "slide_type": "subslide"
    }
   },
   "outputs": [],
   "source": [
    "add(add(1, 2), add(add(4, 5), 3))"
   ]
  },
  {
   "cell_type": "markdown",
   "id": "d70022b2",
   "metadata": {},
   "source": [
    "`add(add(1, 2), add(add(4, 5), 3))` ->  \n",
    "`add(3,         add(9,         3))` ->  \n",
    "`add(3,         12               )` ->  \n",
    "`15`"
   ]
  },
  {
   "cell_type": "markdown",
   "id": "ded45698",
   "metadata": {
    "slideshow": {
     "slide_type": "subslide"
    }
   },
   "source": [
    "## None\n",
    "\n",
    "* If you don't specify a return value, a function will return a special value, `None`.\n",
    "* This happens when:\n",
    "  * execution reaches the end of the function without encountering a return statement\n",
    "  * there is a \"bare\" `return` with no value\n",
    "  * `return None` is used explicitly"
   ]
  },
  {
   "cell_type": "markdown",
   "id": "971006fd",
   "metadata": {
    "slideshow": {
     "slide_type": "subslide"
    }
   },
   "source": [
    "## None\n",
    "\n",
    "* `None` has its own type - similar to `int`, `str`, `float`. It is an empty, or null value.\n",
    "* It can be used like any other value, e.g. `None` can be assigned to a variable (`a = None`)"
   ]
  },
  {
   "cell_type": "code",
   "execution_count": null,
   "id": "be6edb3d",
   "metadata": {
    "execution": {
     "iopub.execute_input": "2023-09-11T02:12:28.795026Z",
     "iopub.status.busy": "2023-09-11T02:12:28.794748Z",
     "iopub.status.idle": "2023-09-11T02:12:28.798237Z",
     "shell.execute_reply": "2023-09-11T02:12:28.797618Z"
    }
   },
   "outputs": [],
   "source": [
    "def wave():\n",
    "    print(\"/wave\")\n",
    "print(wave())"
   ]
  },
  {
   "cell_type": "markdown",
   "id": "15187a04",
   "metadata": {
    "slideshow": {
     "slide_type": "subslide"
    }
   },
   "source": [
    "## Control flow\n",
    "\n",
    "* When a `return` statement is encountered, the function stops executing.\n",
    "* `return` can be used to control the flow of your program."
   ]
  },
  {
   "cell_type": "code",
   "execution_count": null,
   "id": "746ed6da",
   "metadata": {
    "execution": {
     "iopub.execute_input": "2023-09-11T02:12:28.801352Z",
     "iopub.status.busy": "2023-09-11T02:12:28.801088Z",
     "iopub.status.idle": "2023-09-11T02:12:28.804170Z",
     "shell.execute_reply": "2023-09-11T02:12:28.803589Z"
    }
   },
   "outputs": [],
   "source": [
    "def div(a, b):\n",
    "    if b == 0:\n",
    "        return None\n",
    "    return a / b"
   ]
  },
  {
   "cell_type": "code",
   "execution_count": null,
   "id": "cf928a46",
   "metadata": {
    "execution": {
     "iopub.execute_input": "2023-09-11T02:12:28.807234Z",
     "iopub.status.busy": "2023-09-11T02:12:28.806946Z",
     "iopub.status.idle": "2023-09-11T02:12:28.810636Z",
     "shell.execute_reply": "2023-09-11T02:12:28.810002Z"
    }
   },
   "outputs": [],
   "source": [
    "print(div(10, 2))"
   ]
  },
  {
   "cell_type": "code",
   "execution_count": null,
   "id": "ce6e01d5",
   "metadata": {
    "execution": {
     "iopub.execute_input": "2023-09-11T02:12:28.814139Z",
     "iopub.status.busy": "2023-09-11T02:12:28.813856Z",
     "iopub.status.idle": "2023-09-11T02:12:28.817341Z",
     "shell.execute_reply": "2023-09-11T02:12:28.816662Z"
    }
   },
   "outputs": [],
   "source": [
    "print(div(10, 0))"
   ]
  },
  {
   "cell_type": "markdown",
   "id": "c12b6e1f",
   "metadata": {
    "slideshow": {
     "slide_type": "slide"
    }
   },
   "source": [
    "# Call stacks\n",
    "\n",
    "* When a function is called, the execution of the program \"jumps into\" the function. \n",
    "* When the function finishes, execution \"jumps back\" to the place where the function was called from.\n",
    "* The chain of function calls that leads to the current line of code is called the \"call stack\"."
   ]
  },
  {
   "cell_type": "code",
   "execution_count": null,
   "id": "4b278798",
   "metadata": {
    "execution": {
     "iopub.execute_input": "2023-09-11T02:12:28.821238Z",
     "iopub.status.busy": "2023-09-11T02:12:28.820506Z",
     "iopub.status.idle": "2023-09-11T02:12:28.827589Z",
     "shell.execute_reply": "2023-09-11T02:12:28.826925Z"
    },
    "slideshow": {
     "slide_type": "subslide"
    },
    "tags": [
     "remove-output"
    ]
   },
   "outputs": [],
   "source": [
    "# %load ../../snippets/call_stacks.py\n",
    "def a():\n",
    "    print(\"a1\")\n",
    "    b()\n",
    "    print(\"a2\")\n",
    "    c()\n",
    "    print(\"a3\")\n",
    "    \n",
    "def b():\n",
    "    print(\"b1\")\n",
    "    c()\n",
    "    print(\"b2\")\n",
    "    \n",
    "def c():\n",
    "    print(\"c1\")\n",
    "    d()\n",
    "    print(\"c2\")\n",
    "\n",
    "def d():\n",
    "    print(\"d\")\n",
    "\n",
    "a()\n"
   ]
  },
  {
   "cell_type": "markdown",
   "id": "51816b40",
   "metadata": {
    "slideshow": {
     "slide_type": "subslide"
    }
   },
   "source": [
    "# Step-thru debugging revisited\n",
    "\n",
    "repl.it: [Lecture 4 (functions) exercises: Call Stacks](https://replit.com/@cosi-10a-fall23/Call-stacks#main.py)"
   ]
  },
  {
   "cell_type": "markdown",
   "id": "fa2c4626",
   "metadata": {
    "slideshow": {
     "slide_type": "slide"
    }
   },
   "source": [
    "# [Slido](https://wall.sli.do/event/uSDeosq3F6XwhDiQmuPusF?section=368502dc-5d64-4db5-8f67-1c78d4d645bf)"
   ]
  },
  {
   "cell_type": "markdown",
   "id": "614b4478",
   "metadata": {
    "slideshow": {
     "slide_type": "slide"
    }
   },
   "source": [
    "# Scope\n",
    "\n",
    "* A variable's definition is **scoped** to the block of code it is defined in.\n",
    "* A variable defined in a function is only available in that function.\n",
    "* Trying to use the variable outside of its scope is an error."
   ]
  },
  {
   "cell_type": "code",
   "execution_count": null,
   "id": "e01c55c2",
   "metadata": {
    "execution": {
     "iopub.execute_input": "2023-09-11T02:12:28.831065Z",
     "iopub.status.busy": "2023-09-11T02:12:28.830620Z",
     "iopub.status.idle": "2023-09-11T02:12:28.834262Z",
     "shell.execute_reply": "2023-09-11T02:12:28.833646Z"
    }
   },
   "outputs": [],
   "source": [
    "def house():\n",
    "    furniture = \"couch\"\n",
    "    print(furniture)\n",
    "\n",
    "house()"
   ]
  },
  {
   "cell_type": "code",
   "execution_count": null,
   "id": "5b3f9f6e",
   "metadata": {
    "execution": {
     "iopub.execute_input": "2023-09-11T02:12:28.837239Z",
     "iopub.status.busy": "2023-09-11T02:12:28.836983Z",
     "iopub.status.idle": "2023-09-11T02:12:28.852102Z",
     "shell.execute_reply": "2023-09-11T02:12:28.851519Z"
    }
   },
   "outputs": [],
   "source": [
    "def house():\n",
    "    furniture = \"couch\"\n",
    "    print(furniture)\n",
    "print(furniture)"
   ]
  },
  {
   "cell_type": "markdown",
   "id": "35a12c3e",
   "metadata": {
    "slideshow": {
     "slide_type": "subslide"
    }
   },
   "source": [
    "# Scope\n",
    "\n",
    "* In Python, there are technically 4 scopes.\n",
    "* You'll only need to be aware of 2:\n",
    "  * **global** scope: variables defined outside of a function\n",
    "  * **local** : variables defined inside a function\n",
    "  * Remember: variables are defined when they are first assigned to. Their scope is determined by where that first assignment happens."
   ]
  },
  {
   "cell_type": "markdown",
   "id": "9c9024b6",
   "metadata": {
    "slideshow": {
     "slide_type": "fragment"
    }
   },
   "source": [
    "* If you're curious, the other 2 scopes are:\n",
    "  * \"Enclosing\", which applies when functions are declared inside other functions (!)\n",
    "  * \"Built-in\", which covers all the functions and variables that are built into Python. \n",
    "    * For example: `if` and `else` are in the built-in scope."
   ]
  },
  {
   "cell_type": "code",
   "execution_count": null,
   "id": "d2c87426",
   "metadata": {
    "execution": {
     "iopub.execute_input": "2023-09-11T02:12:28.855353Z",
     "iopub.status.busy": "2023-09-11T02:12:28.855094Z",
     "iopub.status.idle": "2023-09-11T02:12:28.858882Z",
     "shell.execute_reply": "2023-09-11T02:12:28.858216Z"
    },
    "slideshow": {
     "slide_type": "subslide"
    }
   },
   "outputs": [],
   "source": [
    "global_var = \"global\"\n",
    "def f():\n",
    "    func_var = \"func\"\n",
    "    if 2 > 1:\n",
    "        inner_var = \"inner\"\n",
    "        print(global_var, func_var, inner_var)\n",
    "f()"
   ]
  },
  {
   "cell_type": "code",
   "execution_count": null,
   "id": "ac2620af",
   "metadata": {
    "execution": {
     "iopub.execute_input": "2023-09-11T02:12:28.863293Z",
     "iopub.status.busy": "2023-09-11T02:12:28.862968Z",
     "iopub.status.idle": "2023-09-11T02:12:28.867214Z",
     "shell.execute_reply": "2023-09-11T02:12:28.866544Z"
    },
    "slideshow": {
     "slide_type": "subslide"
    }
   },
   "outputs": [],
   "source": [
    "global_var = \"global\"\n",
    "def f():\n",
    "    func_var = \"func\"\n",
    "    if 2 > 1:\n",
    "        inner_var = \"inner\"\n",
    "\n",
    "    print(global_var, func_var, inner_var)\n",
    "\n",
    "f()"
   ]
  },
  {
   "cell_type": "code",
   "execution_count": null,
   "id": "067750d8",
   "metadata": {
    "execution": {
     "iopub.execute_input": "2023-09-11T02:12:28.870508Z",
     "iopub.status.busy": "2023-09-11T02:12:28.870225Z",
     "iopub.status.idle": "2023-09-11T02:12:28.886412Z",
     "shell.execute_reply": "2023-09-11T02:12:28.885796Z"
    },
    "tags": [
     "raises-exception"
    ]
   },
   "outputs": [],
   "source": [
    "global_var = \"global\"\n",
    "def f():\n",
    "    func_var = \"func\"\n",
    "    if 2 > 1:\n",
    "        inner_var = \"inner\"\n",
    "\n",
    "print(global_var, func_var, inner_var)\n",
    "f()"
   ]
  },
  {
   "cell_type": "markdown",
   "id": "a97616fa",
   "metadata": {
    "slideshow": {
     "slide_type": "subslide"
    }
   },
   "source": [
    "## Global variables: special snowflakes\n",
    "\n",
    "What does this print?"
   ]
  },
  {
   "cell_type": "code",
   "execution_count": null,
   "id": "93683bf2",
   "metadata": {
    "execution": {
     "iopub.execute_input": "2023-09-11T02:12:28.890010Z",
     "iopub.status.busy": "2023-09-11T02:12:28.889746Z",
     "iopub.status.idle": "2023-09-11T02:12:28.894020Z",
     "shell.execute_reply": "2023-09-11T02:12:28.893269Z"
    }
   },
   "outputs": [],
   "source": [
    "global_var = \"global\"\n",
    "def f():\n",
    "    global_var = \"changed global\"\n",
    "    print(\"Inside func: \" + global_var)\n",
    "    \n",
    "print(\"Outside before func: \" + global_var)\n",
    "f()\n",
    "print(\"Outside after func: \" + global_var)"
   ]
  },
  {
   "cell_type": "markdown",
   "id": "d3b189e5",
   "metadata": {
    "slideshow": {
     "slide_type": "subslide"
    }
   },
   "source": [
    "## Global variables: special snowflakes\n",
    "\n",
    "* Global variables can be **read** from a local scope.\n",
    "* But in order to write to a global variable from a local scope, you must make it explicit by using the `global` keyword.\n",
    "* In the last example, we actually created a new local variable named `global_var`.\n",
    "  * Creating a local variable with the same name as a global variable is referred to as \"shadowing\".\n",
    "  * Don't rely on shadowing on purpose, it will produce confusing code.\n",
    "* This is a common gotcha, you will probably run into this while writing your own code!"
   ]
  },
  {
   "cell_type": "code",
   "execution_count": null,
   "id": "881628b1",
   "metadata": {
    "execution": {
     "iopub.execute_input": "2023-09-11T02:12:28.897206Z",
     "iopub.status.busy": "2023-09-11T02:12:28.896931Z",
     "iopub.status.idle": "2023-09-11T02:12:28.901184Z",
     "shell.execute_reply": "2023-09-11T02:12:28.900571Z"
    },
    "slideshow": {
     "slide_type": "subslide"
    }
   },
   "outputs": [],
   "source": [
    "global_var = \"global\"\n",
    "def f():\n",
    "    global global_var\n",
    "    global_var = \"changed global\"\n",
    "    print(\"Inside func 2: \" + global_var)\n",
    "\n",
    "print(\"Outside before func: \" + global_var)\n",
    "f()\n",
    "print(\"Outside after func: \" + global_var)"
   ]
  },
  {
   "cell_type": "markdown",
   "id": "c4d0a102",
   "metadata": {
    "slideshow": {
     "slide_type": "slide"
    }
   },
   "source": [
    "# Exercise\n",
    "\n",
    "Write a program which quizzes a player with a series of questions. The player should be awarded 1 point for each correct answer. If the player answers incorrectly 2 times, the quiz should end."
   ]
  },
  {
   "cell_type": "code",
   "execution_count": null,
   "id": "dc1312aa",
   "metadata": {
    "execution": {
     "iopub.execute_input": "2023-09-11T02:12:28.904296Z",
     "iopub.status.busy": "2023-09-11T02:12:28.904026Z",
     "iopub.status.idle": "2023-09-11T02:12:28.990000Z",
     "shell.execute_reply": "2023-09-11T02:12:28.989036Z"
    },
    "slideshow": {
     "slide_type": "subslide"
    },
    "tags": [
     "remove-output"
    ]
   },
   "outputs": [],
   "source": [
    "# Attempt 1\n",
    "print(\"Welcome to the geography quiz!\")\n",
    "incorrect = 0\n",
    "points = 0\n",
    "\n",
    "answer1 = input(\"Question 1: Does Kansas border Colorado? (y/n) \")\n",
    "if answer1 == 'y':\n",
    "    points = points + 1\n",
    "else:\n",
    "    incorrect = incorrect + 1\n",
    "\n",
    "answer2 = input(\"Question 2: How many countries are in Europe? \")\n",
    "if answer2 == \"50\":\n",
    "    points = points + 1\n",
    "else:\n",
    "    incorrect = incorrect + 1\n",
    "\n",
    "if incorrect < 2:\n",
    "    answer3 = input(\"Question 3: In which state can you find the Grand Canyon? \")\n",
    "    if answer3 == \"Arizona\":\n",
    "        points = points + 1\n",
    "    else:\n",
    "        incorrect = incorrect + 1\n",
    "\n",
    "if incorrect < 2:\n",
    "    answer4 = input(\"Question 4: Which North American city has a larger population: Los Angeles or Mexico City? \")\n",
    "    if answer4 == \"Mexico City\":\n",
    "        points = points + 1\n",
    "    else:\n",
    "        incorrect = incorrect + 1\n",
    "\n",
    "if incorrect < 2:\n",
    "    answer4 = input(\"Question 5: Which country has the most volcanoes? \")\n",
    "    if answer4 == \"Indonesia\":\n",
    "        points = points + 1\n",
    "    else:\n",
    "        incorrect = incorrect + 1\n",
    "\n",
    "print(\"You earned \" + str(points) + \" points!\")"
   ]
  },
  {
   "cell_type": "markdown",
   "id": "70ffe635",
   "metadata": {
    "slideshow": {
     "slide_type": "subslide"
    }
   },
   "source": [
    "This is ok, but pretty clunky. Let's add some feedback after answering the questions."
   ]
  },
  {
   "cell_type": "code",
   "execution_count": null,
   "id": "00ffe2d0",
   "metadata": {
    "execution": {
     "iopub.execute_input": "2023-09-11T02:12:28.993941Z",
     "iopub.status.busy": "2023-09-11T02:12:28.993676Z",
     "iopub.status.idle": "2023-09-11T02:12:29.023348Z",
     "shell.execute_reply": "2023-09-11T02:12:29.022061Z"
    },
    "slideshow": {
     "slide_type": "subslide"
    },
    "tags": [
     "remove-output"
    ]
   },
   "outputs": [],
   "source": [
    "# Attempt 2\n",
    "print(\"Welcome to the geography quiz!\")\n",
    "incorrect = 0\n",
    "points = 0\n",
    "\n",
    "answer1 = input(\"Question 1: Does Kansas border Colorado? (y/n) \")\n",
    "if answer1 == 'y':\n",
    "    print(\"Correct!\")\n",
    "    points = points + 1\n",
    "else:\n",
    "    print(\"Incorrect! The answer was 'y'\")\n",
    "    incorrect = incorrect + 1\n",
    "\n",
    "answer2 = input(\"Question 2: How many countries are in Europe? \")\n",
    "if answer2 == \"50\":\n",
    "    print(\"Correct!\")\n",
    "    points = points + 1\n",
    "else:\n",
    "    print(\"Incorrect! The answer was '50'\")\n",
    "    incorrect = incorrect + 1\n",
    "\n",
    "if incorrect < 2:\n",
    "    answer3 = input(\"Question 3: In which state can you find the Grand Canyon? \")\n",
    "    if answer3 == \"Arizona\":\n",
    "        print(\"Correct!\")\n",
    "        points = points + 1\n",
    "    else:\n",
    "        print(\"Incorrect! The answer was 'Arizona'\")\n",
    "        incorrect = incorrect + 1\n",
    "\n",
    "if incorrect < 2:\n",
    "    answer4 = input(\"Question 4: Which North American city has a larger population: Los Angeles or Mexico City? \")\n",
    "    if answer4 == \"Mexico City\":\n",
    "        print(\"Correct!\")\n",
    "        points = points + 1\n",
    "    else:\n",
    "        print(\"Incorrect! The answer was 'Mexico City'\")\n",
    "        incorrect = incorrect + 1\n",
    "\n",
    "if incorrect < 2:\n",
    "    answer4 = input(\"Question 5: Which country has the most volcanoes? \")\n",
    "    if answer4 == \"Indonesia\":\n",
    "        print(\"Correct!\")\n",
    "        points = points + 1\n",
    "    else:\n",
    "        print(\"Incorrect! The answer was 'Indonesia'\")\n",
    "        incorrect = incorrect + 1\n",
    "\n",
    "print(\"You earned \" + str(points) + \" points!\")"
   ]
  },
  {
   "cell_type": "markdown",
   "id": "d8c42a42",
   "metadata": {
    "slideshow": {
     "slide_type": "subslide"
    }
   },
   "source": [
    "It plays a little better, but making that change was tedious - we had to make 5 almost identical edits. There's a lot duplication. Let's **decompose**. \n",
    "\n",
    "The main repeated parts of the game are asking a question, and checking the answer. Let's write functions for those operations."
   ]
  },
  {
   "cell_type": "code",
   "execution_count": null,
   "id": "9e7bb4b3",
   "metadata": {
    "execution": {
     "iopub.execute_input": "2023-09-11T02:12:29.027245Z",
     "iopub.status.busy": "2023-09-11T02:12:29.026907Z",
     "iopub.status.idle": "2023-09-11T02:12:29.058716Z",
     "shell.execute_reply": "2023-09-11T02:12:29.057974Z"
    },
    "slideshow": {
     "slide_type": "subslide"
    },
    "tags": [
     "remove-output"
    ]
   },
   "outputs": [],
   "source": [
    "# Attempt 3 - is this good?\n",
    "def do_question(question):\n",
    "    answer = input(question)\n",
    "    return answer\n",
    "\n",
    "def check_answer(actual, expected):\n",
    "    if actual == expected:\n",
    "        print(\"Correct!\")        \n",
    "        return True\n",
    "    else:\n",
    "        print(\"Incorrect! The answer was '\" + expected_answer + \"'\")        \n",
    "        return False\n",
    "\n",
    "answer1 = do_question(\"Question 1: Does Kansas border Colorado? (y/n) \")\n",
    "if check_answer(answer, \"y\"):\n",
    "    points = points + 1\n",
    "else:\n",
    "    incorrect = incorrect + 1\n",
    "\n",
    "answer2 = do_question(\"Question 2: How many countries are in Europe? \")\n",
    "if check_answer(answer2, \"50\"):\n",
    "    points = points + 1\n",
    "else:\n",
    "    incorrect = incorrect + 1\n",
    "\n",
    "#...\n",
    "print(\"You earned \" + str(points) + \" points!\")"
   ]
  },
  {
   "cell_type": "markdown",
   "id": "7feac485",
   "metadata": {
    "slideshow": {
     "slide_type": "subslide"
    }
   },
   "source": [
    "Hm, this has taken away **some** duplication. \n",
    "\n",
    "But `do_question` is too small to be very useful, and we still have a lot of boilerplate for each question.\n",
    "\n",
    "Let's try combining these 2 together - they always happen in sequence, and we don't have much of a reason to split them apart."
   ]
  },
  {
   "cell_type": "code",
   "execution_count": null,
   "id": "f6679dff",
   "metadata": {
    "execution": {
     "iopub.execute_input": "2023-09-11T02:12:29.062665Z",
     "iopub.status.busy": "2023-09-11T02:12:29.062316Z",
     "iopub.status.idle": "2023-09-11T02:12:29.092862Z",
     "shell.execute_reply": "2023-09-11T02:12:29.091921Z"
    },
    "slideshow": {
     "slide_type": "subslide"
    },
    "tags": [
     "remove-output"
    ]
   },
   "outputs": [],
   "source": [
    "# Attempt 4\n",
    "def do_question(question, expected_answer):\n",
    "    answer = input(question)\n",
    "    if answer == expected_answer:\n",
    "        print(\"Correct!\")\n",
    "        return True\n",
    "    else:\n",
    "        print(\"Incorrect! The answer was '\" + expected_answer + \"'\")\n",
    "        return False\n",
    "        \n",
    "if do_question(\"Question 1: Does Kansas border Colorado? (y/n) \", \"y\"):\n",
    "    points = points + 1\n",
    "else:\n",
    "    incorrect = incorrect + 1\n",
    "    \n",
    "if do_question(\"Question 2: How many countries are in Europe? \", \"50\"):\n",
    "    points = points + 1\n",
    "else:\n",
    "    incorrect = incorrect + 1\n",
    "\n",
    "# ...\n",
    "print(\"You earned \" + str(points) + \" points!\")"
   ]
  },
  {
   "cell_type": "markdown",
   "id": "4586c7d6",
   "metadata": {
    "slideshow": {
     "slide_type": "subslide"
    }
   },
   "source": [
    "Can we do better?"
   ]
  },
  {
   "cell_type": "markdown",
   "id": "1fa89d42",
   "metadata": {
    "slideshow": {
     "slide_type": "fragment"
    }
   },
   "source": [
    "Let's try doing the point & incorrect tracking inside `do_question`."
   ]
  },
  {
   "cell_type": "code",
   "execution_count": null,
   "id": "594ce4ce",
   "metadata": {
    "execution": {
     "iopub.execute_input": "2023-09-11T02:12:29.096499Z",
     "iopub.status.busy": "2023-09-11T02:12:29.096247Z",
     "iopub.status.idle": "2023-09-11T02:12:29.127011Z",
     "shell.execute_reply": "2023-09-11T02:12:29.126167Z"
    },
    "slideshow": {
     "slide_type": "subslide"
    },
    "tags": [
     "remove-output"
    ]
   },
   "outputs": [],
   "source": [
    "# Attempt 5\n",
    "def do_question(question, expected_answer):\n",
    "    answer = input(question)\n",
    "    if answer == expected_answer:\n",
    "        print(\"Correct!\")\n",
    "        points = points + 1\n",
    "    else:\n",
    "        print(\"Incorrect! The answer was '\" + expected_answer + \"'\")\n",
    "        incorrect = incorrect + 1\n",
    "        \n",
    "do_question(\"Question 1: Does Kansas border Colorado? (y/n) \", \"y\")\n",
    "do_question(\"Question 2: How many countries are in Europe? \", \"50\")\n",
    "do_question(\"Question 3: In which state can you find the Grand Canyon? \", \"Arizona\")\n",
    "do_question(\"Question 4: Which North American city has a larger population: Los Angeles or Mexico City? \", \"Mexico City\")\n",
    "do_question(\"Question 5: Which country has the most volcanoes? \", \"Indonesia\")\n",
    "print(\"You earned \" + str(points) + \" points!\")"
   ]
  },
  {
   "cell_type": "markdown",
   "id": "3b294fad",
   "metadata": {
    "slideshow": {
     "slide_type": "subslide"
    }
   },
   "source": [
    "`UnboundLocalError: local variable 'points' referenced before assignment`\n",
    "\n",
    "What's wrong?"
   ]
  },
  {
   "cell_type": "markdown",
   "id": "b9561251",
   "metadata": {
    "slideshow": {
     "slide_type": "fragment"
    }
   },
   "source": [
    "Those pesky globals... `points` is treated like a local variable in that function. We need to explicitly use the `global` keyword."
   ]
  },
  {
   "cell_type": "code",
   "execution_count": null,
   "id": "5f247d53",
   "metadata": {
    "execution": {
     "iopub.execute_input": "2023-09-11T02:12:29.130666Z",
     "iopub.status.busy": "2023-09-11T02:12:29.130350Z",
     "iopub.status.idle": "2023-09-11T02:12:29.162213Z",
     "shell.execute_reply": "2023-09-11T02:12:29.161355Z"
    },
    "slideshow": {
     "slide_type": "subslide"
    },
    "tags": [
     "remove-output"
    ]
   },
   "outputs": [],
   "source": [
    "# Attempt 6\n",
    "def do_question(question, expected_answer):\n",
    "    global points\n",
    "    global incorrect\n",
    "    answer = input(question)\n",
    "    if answer == expected_answer:\n",
    "        print(\"Correct!\")\n",
    "        points = points + 1\n",
    "    else:\n",
    "        print(\"Incorrect! The answer was '\" + expected_answer + \"'\")\n",
    "        incorrect = incorrect + 1\n",
    "        \n",
    "do_question(\"Question 1: Does Kansas border Colorado? (y/n) \", \"y\")\n",
    "do_question(\"Question 2: How many countries are in Europe? \", \"50\")\n",
    "do_question(\"Question 3: In which state can you find the Grand Canyon? \", \"Arizona\")\n",
    "do_question(\"Question 4: Which North American city has a larger population: Los Angeles or Mexico City? \", \"Mexico City\")\n",
    "do_question(\"Question 5: Which country has the most volcanoes? \", \"Indonesia\")\n",
    "print(\"You earned \" + str(points) + \" points!\")"
   ]
  },
  {
   "cell_type": "markdown",
   "id": "2858f8ff",
   "metadata": {
    "slideshow": {
     "slide_type": "subslide"
    }
   },
   "source": [
    "# Globals again \n",
    "\n",
    "Overusing globals is considered a bad coding practice. Having more than a few of them can make larger programs very difficult to debug and maintain. \n",
    "\n",
    "However, you haven't yet learned the language features that would let you avoid using them in this case - so for now, use globals if you think they can help!"
   ]
  },
  {
   "cell_type": "markdown",
   "id": "3fbb9b19",
   "metadata": {
    "slideshow": {
     "slide_type": "fragment"
    }
   },
   "source": [
    "This is much better. Is it still correct?"
   ]
  },
  {
   "cell_type": "code",
   "execution_count": null,
   "id": "18fb68e2",
   "metadata": {
    "execution": {
     "iopub.execute_input": "2023-09-11T02:12:29.165895Z",
     "iopub.status.busy": "2023-09-11T02:12:29.165406Z",
     "iopub.status.idle": "2023-09-11T02:12:29.194703Z",
     "shell.execute_reply": "2023-09-11T02:12:29.193965Z"
    },
    "slideshow": {
     "slide_type": "subslide"
    },
    "tags": [
     "remove-output"
    ]
   },
   "outputs": [],
   "source": [
    "# Attempt 6\n",
    "def do_question(question, expected_answer):\n",
    "    global points\n",
    "    global incorrect\n",
    "    answer = input(question)\n",
    "    if answer == expected_answer:\n",
    "        print(\"Correct!\")\n",
    "        points = points + 1\n",
    "    else:\n",
    "        print(\"Incorrect! The answer was '\" + expected_answer + \"'\")\n",
    "        incorrect = incorrect + 1\n",
    "        \n",
    "do_question(\"Question 1: Does Kansas border Colorado? (y/n) \", \"y\")\n",
    "do_question(\"Question 2: How many countries are in Europe? \", \"50\")\n",
    "do_question(\"Question 3: In which state can you find the Grand Canyon? \", \"Arizona\")\n",
    "do_question(\"Question 4: Which North American city has a larger population: Los Angeles or Mexico City? \", \"Mexico City\")\n",
    "do_question(\"Question 5: Which country has the most volcanoes? \", \"Indonesia\")\n",
    "print(\"You earned \" + str(points) + \" points!\")"
   ]
  },
  {
   "cell_type": "markdown",
   "id": "0adf0f6c",
   "metadata": {
    "slideshow": {
     "slide_type": "fragment"
    }
   },
   "source": [
    "Whoops... it doesn't stop after 2 wrong answers."
   ]
  },
  {
   "cell_type": "markdown",
   "id": "cc01cb92",
   "metadata": {
    "slideshow": {
     "slide_type": "subslide"
    }
   },
   "source": [
    "Here we use `return` to control the flow of the program. Once the player has accumulated 2 incorrect answers, the rest of the questions are skipped."
   ]
  },
  {
   "cell_type": "code",
   "execution_count": null,
   "id": "2c1bd986",
   "metadata": {
    "execution": {
     "iopub.execute_input": "2023-09-11T02:12:29.198081Z",
     "iopub.status.busy": "2023-09-11T02:12:29.197789Z",
     "iopub.status.idle": "2023-09-11T02:12:29.228926Z",
     "shell.execute_reply": "2023-09-11T02:12:29.228149Z"
    },
    "slideshow": {
     "slide_type": "-"
    },
    "tags": [
     "remove-output"
    ]
   },
   "outputs": [],
   "source": [
    "# Attempt 7\n",
    "def do_question(question, expected_answer):\n",
    "    global points\n",
    "    global incorrect\n",
    "    if incorrect >= 2:\n",
    "        return\n",
    "    \n",
    "    answer = input(question)\n",
    "    if answer == expected_answer:\n",
    "        print(\"Correct!\")\n",
    "        points = points + 1\n",
    "    else:\n",
    "        print(\"Incorrect! The answer was '\" + expected_answer + \"'\")\n",
    "        incorrect = incorrect + 1\n",
    "        \n",
    "do_question(\"Question 1: Does Kansas border Colorado? (y/n) \", \"y\")\n",
    "do_question(\"Question 2: How many countries are in Europe? \", \"50\")\n",
    "do_question(\"Question 3: In which state can you find the Grand Canyon? \", \"Arizona\")\n",
    "do_question(\"Question 4: Which North American city has a larger population: Los Angeles or Mexico City? \", \"Mexico City\")\n",
    "do_question(\"Question 5: Which country has the most volcanoes? \", \"Indonesia\")\n",
    "print(\"You earned \" + str(points) + \" points!\")"
   ]
  },
  {
   "cell_type": "markdown",
   "id": "5a696575",
   "metadata": {
    "slideshow": {
     "slide_type": "subslide"
    }
   },
   "source": [
    "Seems awkward to have to pass in the question number as part of the question text... let's add a parameter."
   ]
  },
  {
   "cell_type": "code",
   "execution_count": null,
   "id": "57051583",
   "metadata": {
    "execution": {
     "iopub.execute_input": "2023-09-11T02:12:29.232841Z",
     "iopub.status.busy": "2023-09-11T02:12:29.232497Z",
     "iopub.status.idle": "2023-09-11T02:12:29.239795Z",
     "shell.execute_reply": "2023-09-11T02:12:29.238683Z"
    },
    "slideshow": {
     "slide_type": "subslide"
    },
    "tags": [
     "remove-output"
    ]
   },
   "outputs": [],
   "source": [
    "# Attempt 8\n",
    "def do_question(number, question, expected_answer):\n",
    "    global points\n",
    "    global incorrect\n",
    "    if incorrect >= 2:\n",
    "        return\n",
    "    \n",
    "    answer = input(\"Question \" + str(number) + \": \" + question)\n",
    "    if answer == expected_answer:\n",
    "        print(\"Correct!\")\n",
    "        points = points + 1\n",
    "    else:\n",
    "        print(\"Incorrect! The answer was '\" + expected_answer + \"'\")\n",
    "        incorrect = incorrect + 1\n",
    "        \n",
    "do_question(1, Does Kansas border Colorado? (y/n) \", \"y\")\n",
    "do_question(2, How many countries are in Europe? \", \"50\")\n",
    "do_question(3, In which state can you find the Grand Canyon? \", \"Arizona\")\n",
    "do_question(4, Which North American city has a larger population: Los Angeles or Mexico City? \", \"Mexico City\")\n",
    "do_question(5, Which country has the most volcanoes? \", \"Indonesia\")\n",
    "print(\"You earned \" + str(points) + \" points!\")"
   ]
  },
  {
   "cell_type": "markdown",
   "id": "0b3a3806",
   "metadata": {
    "slideshow": {
     "slide_type": "subslide"
    }
   },
   "source": [
    "Do you notice how much easier it is to make improvements when we don't have duplicated code? We make the change once inside our function, and get the benefit everywhere that function is used."
   ]
  },
  {
   "cell_type": "markdown",
   "id": "28438cf1",
   "metadata": {
    "slideshow": {
     "slide_type": "fragment"
    }
   },
   "source": [
    "This is pretty good. \n",
    "\n",
    "Last thing - what if we wanted to make our answer checking fancier? For example, make it case-insensitive, or even allow close misspellings?"
   ]
  },
  {
   "cell_type": "markdown",
   "id": "bc0b9d33",
   "metadata": {
    "slideshow": {
     "slide_type": "fragment"
    }
   },
   "source": [
    "We haven't covered enough to actually do those things yet, but let's take the first step of **factoring out** the comparison logic."
   ]
  },
  {
   "cell_type": "code",
   "execution_count": null,
   "id": "16c60061",
   "metadata": {
    "execution": {
     "iopub.execute_input": "2023-09-11T02:12:29.243313Z",
     "iopub.status.busy": "2023-09-11T02:12:29.243046Z",
     "iopub.status.idle": "2023-09-11T02:12:29.249670Z",
     "shell.execute_reply": "2023-09-11T02:12:29.248989Z"
    },
    "slideshow": {
     "slide_type": "subslide"
    },
    "tags": [
     "remove-output"
    ]
   },
   "outputs": [],
   "source": [
    "# Attempt 9\n",
    "def check_answer(actual, expected):\n",
    "    # TODO: replace this with much fancier logic\n",
    "    return actual == expected\n",
    "\n",
    "def do_question(number, question, expected_answer):\n",
    "    global points\n",
    "    global incorrect\n",
    "    if incorrect >= 2:\n",
    "        return\n",
    "    \n",
    "    answer = input(\"Question \" + str(number) + \": \" + question)\n",
    "    if check_answer(answer, expected_answer):\n",
    "        print(\"Correct!\")\n",
    "        points = points + 1\n",
    "    else:\n",
    "        print(\"Incorrect! The answer was '\" + expected_answer + \"'\")\n",
    "        incorrect = incorrect + 1\n",
    "        \n",
    "do_question(1, Does Kansas border Colorado? (y/n) \", \"y\")\n",
    "do_question(2, How many countries are in Europe? \", \"50\")\n",
    "do_question(3, In which state can you find the Grand Canyon? \", \"Arizona\")\n",
    "do_question(4, Which North American city has a larger population: Los Angeles or Mexico City? \", \"Mexico City\")\n",
    "do_question(5, Which country has the most volcanoes? \", \"Indonesia\")\n",
    "print(\"You earned \" + str(points) + \" points!\")"
   ]
  },
  {
   "cell_type": "markdown",
   "id": "9a9a6589",
   "metadata": {
    "slideshow": {
     "slide_type": "subslide"
    }
   },
   "source": [
    "We've created an isolated place for our comparison logic. We've **encapsulated** the logic in a function. \n",
    "\n",
    "This function is easy to test in isolation, and it keeps `do_question` simple even if we eventually have very complicated comparison logic."
   ]
  },
  {
   "cell_type": "markdown",
   "id": "d36bcfc4",
   "metadata": {
    "slideshow": {
     "slide_type": "subslide"
    }
   },
   "source": [
    "The slides might have made this all seem easy and straightforward, but even a relatively simple program like this took me a few iterations to get working and presentable:\n",
    "\n",
    "* It took a few tries to figure out how to best group the logic - my initial tries (not all shown) split the question asking and answer checking in different ways, before I finally settled on combining the logic into one function.\n",
    "* There are multiple ways to handle the question numbering. I originally tried a global counter variable, rather than passing an argument to `do_question`.\n",
    "\n",
    "... and I've been doing this professionally for ~20 years.\n",
    "\n",
    "You rarely write working code on your first try, let alone clean or elegant code. Don't get discouraged, coding takes practice. The more practice you get, the easier it will feel."
   ]
  }
 ],
 "metadata": {
  "celltoolbar": "Slideshow",
  "kernelspec": {
   "display_name": "Python 3 (ipykernel)",
   "language": "python",
   "name": "python3"
  },
  "language_info": {
   "codemirror_mode": {
    "name": "ipython",
    "version": 3
   },
   "file_extension": ".py",
   "mimetype": "text/x-python",
   "name": "python",
   "nbconvert_exporter": "python",
   "pygments_lexer": "ipython3",
   "version": "3.10.9"
  }
 },
 "nbformat": 4,
 "nbformat_minor": 5
}
