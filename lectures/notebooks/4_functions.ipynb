{
 "cells": [
  {
   "cell_type": "markdown",
   "id": "1ee8a1d2",
   "metadata": {
    "slideshow": {
     "slide_type": "slide"
    }
   },
   "source": [
    "# Functions\n",
    "\n",
    "<style>\n",
    "section.present > section.present { \n",
    "    max-height: 90%; \n",
    "    overflow-y: scroll;\n",
    "}\n",
    "</style>\n",
    "\n",
    "<small><a href=\"https://colab.research.google.com/github/brandeis-jdelfino/cosi-10a/blob/main/lectures/notebooks/4_functions.ipynb\">Link to interactive slides on Google Colab</a></small>"
   ]
  },
  {
   "cell_type": "markdown",
   "id": "cd8f55ba",
   "metadata": {},
   "source": [
    "To add: cover `main()`"
   ]
  },
  {
   "cell_type": "markdown",
   "id": "ed1371c9",
   "metadata": {
    "slideshow": {
     "slide_type": "slide"
    }
   },
   "source": [
    "**function**: A named group of statements\n",
    "\n",
    "* They are used to:\n",
    "  * Reduce redundancy and code duplication\n",
    "  * Represent the structure of a program\n",
    "* Functions are what make large, complex programs possible to build and maintain."
   ]
  },
  {
   "cell_type": "markdown",
   "id": "74b67395",
   "metadata": {
    "slideshow": {
     "slide_type": "subslide"
    }
   },
   "source": [
    "# Functions by example\n",
    "### Write a program to print the lyrics to \"The Green Grass Grew All Around\"\n",
    "\n",
    "Oh in the woods there was a tree  \n",
    "The prettiest tree  \n",
    "You ever did see  \n",
    "And the tree was in the ground  \n",
    "And the green grass grew all around, all around, and the green grass grew all around  \n",
    "\n",
    "And on that tree  \n",
    "There was a limb  \n",
    "The prettiest limb  \n",
    "That you ever did see  \n",
    "And the limb was on the tree  \n",
    "And the tree was in the ground  \n",
    "And the green grass grew all around, all around, and the green grass grew all around  \n",
    "\n",
    "And on that limb  \n",
    "There was a branch  \n",
    "The prettiest branch  \n",
    "That you ever did see  \n",
    "And the branch was on the limb,  \n",
    "And the limb was on the tree,  \n",
    "And the tree was in the ground  \n",
    "And the green grass grew all around, all around, and the green grass grew all around  \n",
    "\n",
    "And on that branch  \n",
    "There was a nest  \n",
    "The prettiest nest  \n",
    "That you ever did see  \n",
    "And the nest was on the branch  \n",
    "And the branch was on the limb  \n",
    "And the limb was on the tree  \n",
    "And the tree was in the ground  \n",
    "And the green grass grew all around, all around, and the green grass grew all around  \n",
    "\n",
    "And in that nest  \n",
    "There was an egg  \n",
    "The prettiest egg  \n",
    "That you ever did see  \n",
    "And the egg was in the nest  \n",
    "And the nest was on the branch  \n",
    "And the branch was on the limb  \n",
    "And the limb was on the tree  \n",
    "And the tree was in the ground  \n",
    "And the green grass grew all around, all around, and the green grass grew all around  \n",
    "\n",
    "And in that egg  \n",
    "There was a bird  \n",
    "The prettiest bird  \n",
    "That you ever did see  \n",
    "And the bird was in the egg  \n",
    "And the egg was in the nest  \n",
    "And the nest was on the branch  \n",
    "And the branch was on the limb  \n",
    "And the limb was on the tree  \n",
    "And the tree was in the ground  \n",
    "And the green grass grew all around, all around, and the green grass grew all around  "
   ]
  },
  {
   "cell_type": "markdown",
   "id": "a2c01e5a",
   "metadata": {
    "slideshow": {
     "slide_type": "subslide"
    }
   },
   "source": [
    "## A naive solution"
   ]
  },
  {
   "cell_type": "code",
   "execution_count": null,
   "id": "c0461282",
   "metadata": {
    "execution": {
     "iopub.execute_input": "2023-06-29T15:34:15.943047Z",
     "iopub.status.busy": "2023-06-29T15:34:15.942414Z",
     "iopub.status.idle": "2023-06-29T15:34:15.961071Z",
     "shell.execute_reply": "2023-06-29T15:34:15.960402Z"
    }
   },
   "outputs": [],
   "source": [
    "print(\"Oh in the woods there was a tree\")\n",
    "print(\"The prettiest tree\")\n",
    "print(\"You ever did see\")\n",
    "print(\"And the tree was in the ground\")\n",
    "print(\"And the green grass grew all around, all around, and the green grass grew all around\")\n",
    "print()\n",
    "print(\"And on that tree\")\n",
    "print(\"There was a limb\")\n",
    "print(\"The prettiest limb\")\n",
    "print(\"That you ever did see\")\n",
    "print(\"And the limb was on the tree\")\n",
    "print(\"And the tree was in the ground\")\n",
    "print(\"And the green grass grew all around, all around, and the green grass grew all around\")\n",
    "print()\n",
    "print(\"And on that limb\")\n",
    "print(\"There was a branch\")\n",
    "print(\"The prettiest branch\")\n",
    "print(\"That you ever did see\")\n",
    "print(\"And the branch was on the limb,\")\n",
    "print(\"And the limb was on the tree,\")\n",
    "print(\"And the tree was in the ground\")\n",
    "print(\"And the green grass grew all around, all around, and the green grass grew all around\")\n",
    "print()\n",
    "print(\"And on that branch\")\n",
    "print(\"There was a nest\")\n",
    "print(\"The prettiest nest\")\n",
    "print(\"That you ever did see\")\n",
    "print(\"And the nest was on the branch\")\n",
    "print(\"And the branch was on the limb\")\n",
    "print(\"And the limb was on the tree\")\n",
    "print(\"And the tree was in the ground\")\n",
    "print(\"And the green grass grew all around, all around, and the green grass grew all around\")\n",
    "print()\n",
    "print(\"And in that nest\")\n",
    "print(\"There was an egg\")\n",
    "print(\"The prettiest egg\")\n",
    "print(\"That you ever did see\")\n",
    "print(\"And the egg was in the nest\")\n",
    "print(\"And the nest was on the branch\")\n",
    "print(\"And the branch was on the limb\")\n",
    "print(\"And the limb was on the tree\")\n",
    "print(\"And the tree was in the ground\")\n",
    "print(\"And the green grass grew all around, all around, and the green grass grew all around\")\n",
    "print()\n",
    "print(\"And in that egg\")\n",
    "print(\"There was a bird\")\n",
    "print(\"The prettiest bird\")\n",
    "print(\"That you ever did see\")\n",
    "print(\"And the bird was in the egg\")\n",
    "print(\"And the egg was in the nest\")\n",
    "print(\"And the nest was on the branch\")\n",
    "print(\"And the branch was on the limb\")\n",
    "print(\"And the limb was on the tree\")\n",
    "print(\"And the tree was in the ground\")\n",
    "print(\"And the green grass grew all around, all around, and the green grass grew all around\")"
   ]
  },
  {
   "cell_type": "markdown",
   "id": "3934f3fe",
   "metadata": {
    "slideshow": {
     "slide_type": "subslide"
    }
   },
   "source": [
    "## Duplication\n",
    "\n",
    "There is a LOT of duplication in this song.\n",
    "\n",
    "We can \"factor out\" some of this redundancy into re-usable blocks of code (functions). This is similar to how we pulled common bits of code out of the different if/else branches with the progressive income tax calculator.\n",
    "\n",
    "For our first function, we'll pull out the two lines that occur in every verse:\n",
    "\n",
    "\n",
    "> Oh in the woods there was a tree  \n",
    "> The prettiest tree  \n",
    "> You ever did see  \n",
    "> **And the tree was in the ground  \n",
    "> And the green grass grew all around, all around, and the green grass grew all around**\n"
   ]
  },
  {
   "cell_type": "code",
   "execution_count": null,
   "id": "c9a85e44",
   "metadata": {
    "execution": {
     "iopub.execute_input": "2023-06-29T15:34:15.965158Z",
     "iopub.status.busy": "2023-06-29T15:34:15.964786Z",
     "iopub.status.idle": "2023-06-29T15:34:15.971252Z",
     "shell.execute_reply": "2023-06-29T15:34:15.970430Z"
    },
    "slideshow": {
     "slide_type": "subslide"
    }
   },
   "outputs": [],
   "source": [
    "# Our first function:\n",
    "def tree():\n",
    "    print(\"And the tree was in the ground\")\n",
    "    print(\"And the green grass grew all around, all around, and the green grass grew all around\")\n",
    "    print()\n",
    "    \n",
    "print(\"Oh in the woods there was a tree\")\n",
    "print(\"The prettiest tree\")\n",
    "print(\"You ever did see\")\n",
    "tree()\n",
    "print(\"And on that tree\")\n",
    "print(\"There was a limb\")\n",
    "print(\"The prettiest limb\")\n",
    "print(\"That you ever did see\")\n",
    "print(\"And the limb was on the tree\")\n",
    "tree()\n",
    "print(\"And on that limb\")\n",
    "print(\"There was a branch\")\n",
    "print(\"The prettiest branch\")\n",
    "print(\"That you ever did see\")\n",
    "print(\"And the branch was on the limb,\")\n",
    "print(\"And the limb was on the tree,\")\n",
    "tree()\n",
    "# ... "
   ]
  },
  {
   "cell_type": "markdown",
   "id": "3a3d3f13",
   "metadata": {
    "slideshow": {
     "slide_type": "subslide"
    }
   },
   "source": [
    "## Function definition syntax\n",
    "\n",
    "```\n",
    "def <name>():\n",
    "    statement(s)\n",
    "``` \n",
    "\n",
    "* **Defining** a function makes it available for use\n",
    "  * Merely defining a function does not execute any of the statements in the function."
   ]
  },
  {
   "cell_type": "code",
   "execution_count": null,
   "id": "8555460b",
   "metadata": {
    "execution": {
     "iopub.execute_input": "2023-06-29T15:34:15.975127Z",
     "iopub.status.busy": "2023-06-29T15:34:15.974821Z",
     "iopub.status.idle": "2023-06-29T15:34:15.978502Z",
     "shell.execute_reply": "2023-06-29T15:34:15.977826Z"
    }
   },
   "outputs": [],
   "source": [
    "def tree():\n",
    "    print(\"And the tree was in the ground\")\n",
    "    print(\"And the green grass grew all around, all around, and the green grass grew all around\")\n",
    "    print()"
   ]
  },
  {
   "cell_type": "markdown",
   "id": "b2346f64",
   "metadata": {
    "slideshow": {
     "slide_type": "subslide"
    }
   },
   "source": [
    "* **Calling** or **invoking** a function makes the code inside the function run."
   ]
  },
  {
   "cell_type": "code",
   "execution_count": null,
   "id": "575a9446",
   "metadata": {
    "execution": {
     "iopub.execute_input": "2023-06-29T15:34:15.982509Z",
     "iopub.status.busy": "2023-06-29T15:34:15.981989Z",
     "iopub.status.idle": "2023-06-29T15:34:15.986223Z",
     "shell.execute_reply": "2023-06-29T15:34:15.985431Z"
    }
   },
   "outputs": [],
   "source": [
    "def tree():\n",
    "    print(\"And the tree was in the ground\")\n",
    "    print(\"And the green grass grew all around, all around, and the green grass grew all around\")\n",
    "    print()\n",
    "\n",
    "tree()"
   ]
  },
  {
   "cell_type": "markdown",
   "id": "bd99d947",
   "metadata": {
    "slideshow": {
     "slide_type": "subslide"
    }
   },
   "source": [
    "## Let's continue on the song... "
   ]
  },
  {
   "cell_type": "code",
   "execution_count": null,
   "id": "fa2de143",
   "metadata": {
    "execution": {
     "iopub.execute_input": "2023-06-29T15:34:15.989582Z",
     "iopub.status.busy": "2023-06-29T15:34:15.989310Z",
     "iopub.status.idle": "2023-06-29T15:34:15.993840Z",
     "shell.execute_reply": "2023-06-29T15:34:15.993276Z"
    }
   },
   "outputs": [],
   "source": [
    "# ...\n",
    "print(\"And on that tree\")  \n",
    "print(\"There was a limb\")  \n",
    "print(\"The prettiest limb\")  \n",
    "print(\"That you ever did see\")  \n",
    "print(\"And the limb was on the tree\")  \n",
    "tree()  \n",
    "print(\"And on that limb\")  \n",
    "print(\"There was a branch\")  \n",
    "print(\"The prettiest branch\")  \n",
    "print(\"That you ever did see\")  \n",
    "print(\"And the branch was on the limb,\")  \n",
    "print(\"And the limb was on the tree,\")  \n",
    "tree()\n",
    "# ..."
   ]
  },
  {
   "cell_type": "markdown",
   "id": "81bbc9bd",
   "metadata": {},
   "source": [
    "The last two lines (`print(\"And the limb was on the tree\")` and `tree()`) appear together in every verse after the first one. Let's wrap them in a function...\n"
   ]
  },
  {
   "cell_type": "code",
   "execution_count": null,
   "id": "b728645e",
   "metadata": {
    "execution": {
     "iopub.execute_input": "2023-06-29T15:34:15.996932Z",
     "iopub.status.busy": "2023-06-29T15:34:15.996669Z",
     "iopub.status.idle": "2023-06-29T15:34:16.001837Z",
     "shell.execute_reply": "2023-06-29T15:34:16.001122Z"
    },
    "slideshow": {
     "slide_type": "subslide"
    }
   },
   "outputs": [],
   "source": [
    "def tree():\n",
    "    print(\"And the tree was in the ground\")\n",
    "    print(\"And the green grass grew all around, all around, and the green grass grew all around\")\n",
    "    print()\n",
    "    \n",
    "def limb():\n",
    "    print(\"And the limb was on the tree,\")\n",
    "    tree()\n",
    "    \n",
    "print(\"Oh in the woods there was a tree\")\n",
    "print(\"The prettiest tree\")\n",
    "print(\"You ever did see\")\n",
    "tree()\n",
    "print(\"And on that tree\")\n",
    "print(\"There was a limb\")\n",
    "print(\"The prettiest limb\")\n",
    "print(\"That you ever did see\")\n",
    "limb()\n",
    "print(\"And on that limb\")\n",
    "print(\"There was a branch\")\n",
    "print(\"The prettiest branch\")\n",
    "print(\"That you ever did see\")\n",
    "print(\"And the branch was on the limb,\")\n",
    "limb()"
   ]
  },
  {
   "cell_type": "markdown",
   "id": "0851da68",
   "metadata": {
    "slideshow": {
     "slide_type": "subslide"
    }
   },
   "source": [
    "## Functions can call other functions"
   ]
  },
  {
   "cell_type": "code",
   "execution_count": null,
   "id": "03534e3e",
   "metadata": {
    "execution": {
     "iopub.execute_input": "2023-06-29T15:34:16.005459Z",
     "iopub.status.busy": "2023-06-29T15:34:16.005200Z",
     "iopub.status.idle": "2023-06-29T15:34:16.008963Z",
     "shell.execute_reply": "2023-06-29T15:34:16.008352Z"
    }
   },
   "outputs": [],
   "source": [
    "def a():\n",
    "    print(\"a\")\n",
    "\n",
    "def b():\n",
    "    print(\"b1\")\n",
    "    a()\n",
    "    print(\"b2\")\n",
    "    \n",
    "b()"
   ]
  },
  {
   "cell_type": "markdown",
   "id": "154575de",
   "metadata": {
    "slideshow": {
     "slide_type": "subslide"
    }
   },
   "source": [
    "## We can continue breaking our song down..."
   ]
  },
  {
   "cell_type": "code",
   "execution_count": null,
   "id": "d7c28cda",
   "metadata": {
    "execution": {
     "iopub.execute_input": "2023-06-29T15:34:16.012045Z",
     "iopub.status.busy": "2023-06-29T15:34:16.011801Z",
     "iopub.status.idle": "2023-06-29T15:34:16.017329Z",
     "shell.execute_reply": "2023-06-29T15:34:16.016740Z"
    }
   },
   "outputs": [],
   "source": [
    "def tree():\n",
    "    print(\"And the tree was in the ground\")\n",
    "    print(\"And the green grass grew all around, all around, and the green grass grew all around\")\n",
    "    print()\n",
    "    \n",
    "def limb():\n",
    "    print(\"And the limb was on the tree,\")\n",
    "    tree()\n",
    "    \n",
    "def branch():\n",
    "    print(\"And the branch was on the limb,\")\n",
    "    limb()\n",
    "    \n",
    "print(\"Oh in the woods there was a tree\")\n",
    "print(\"The prettiest tree\")\n",
    "print(\"You ever did see\")\n",
    "tree()\n",
    "print(\"And on that tree\")\n",
    "print(\"There was a limb\")\n",
    "print(\"The prettiest limb\")\n",
    "print(\"That you ever did see\")\n",
    "limb()\n",
    "print(\"And on that limb\")\n",
    "print(\"There was a branch\")\n",
    "print(\"The prettiest branch\")\n",
    "print(\"That you ever did see\")\n",
    "branch()\n",
    "print(\"And on that branch\")\n",
    "print(\"There was a nest\")\n",
    "print(\"The prettiest nest\")\n",
    "print(\"That you ever did see\")\n",
    "print(\"And the nest was on the branch\")\n",
    "branch()"
   ]
  },
  {
   "cell_type": "code",
   "execution_count": null,
   "id": "912338c9",
   "metadata": {
    "execution": {
     "iopub.execute_input": "2023-06-29T15:34:16.020185Z",
     "iopub.status.busy": "2023-06-29T15:34:16.019929Z",
     "iopub.status.idle": "2023-06-29T15:34:16.026859Z",
     "shell.execute_reply": "2023-06-29T15:34:16.026131Z"
    },
    "slideshow": {
     "slide_type": "subslide"
    }
   },
   "outputs": [],
   "source": [
    "def tree():\n",
    "    print(\"And the tree was in the ground\")\n",
    "    print(\"And the green grass grew all around, all around, and the green grass grew all around\")\n",
    "    print()\n",
    "    \n",
    "def limb():\n",
    "    print(\"And the limb was on the tree,\")\n",
    "    tree()\n",
    "    \n",
    "def branch():\n",
    "    print(\"And the branch was on the limb,\")\n",
    "    limb()\n",
    "    \n",
    "def nest():\n",
    "    print(\"And the nest was on the branch\")\n",
    "    branch()\n",
    "\n",
    "def egg():\n",
    "    print(\"And the egg was in the nest\")\n",
    "    nest()\n",
    "\n",
    "def bird():\n",
    "    print(\"And the bird was in the egg\")\n",
    "    egg()\n",
    "    \n",
    "print(\"Oh in the woods there was a tree\")\n",
    "print(\"The prettiest tree\")\n",
    "print(\"You ever did see\")\n",
    "tree()\n",
    "print(\"And on that tree\")\n",
    "print(\"There was a limb\")\n",
    "print(\"The prettiest limb\")\n",
    "print(\"That you ever did see\")\n",
    "limb()\n",
    "print(\"And on that limb\")\n",
    "print(\"There was a branch\")\n",
    "print(\"The prettiest branch\")\n",
    "print(\"That you ever did see\")\n",
    "branch()\n",
    "print(\"And on that branch\")\n",
    "print(\"There was a nest\")\n",
    "print(\"The prettiest nest\")\n",
    "print(\"That you ever did see\")\n",
    "nest()\n",
    "print(\"And in that nest\")\n",
    "print(\"There was an egg\")\n",
    "print(\"The prettiest egg\")\n",
    "print(\"That you ever did see\")\n",
    "egg()\n",
    "print(\"And in that egg\")\n",
    "print(\"There was a bird\")\n",
    "print(\"The prettiest bird\")\n",
    "print(\"That you ever did see\")\n",
    "bird()"
   ]
  },
  {
   "cell_type": "markdown",
   "id": "f9d4f100",
   "metadata": {
    "slideshow": {
     "slide_type": "slide"
    }
   },
   "source": [
    "# Functional decomposition\n",
    "\n",
    "* We are **decomposing** our song into smaller pieces.\n",
    "* Decomposing a complicated program into coherent, reusable chunks is an extremely valuable programming skill.\n",
    "* It will come with practice and experience - your first attempts might feel like they create more work, headache, and confusion than they save.\n",
    "* Stick with it, it will pay off!"
   ]
  },
  {
   "cell_type": "markdown",
   "id": "33ef2fc5",
   "metadata": {
    "slideshow": {
     "slide_type": "slide"
    }
   },
   "source": [
    "# Parameters\n",
    "\n",
    "### We still have more duplication in our song\n",
    "\n",
    "And on that **tree**  \n",
    "There was a **limb**  \n",
    "The prettiest **limb**  \n",
    "That you ever did see  \n",
    "\n",
    "vs. \n",
    "\n",
    "And on that **limb**  \n",
    "There was a **branch**  \n",
    "The prettiest **branch**  \n",
    "That you ever did see"
   ]
  },
  {
   "cell_type": "markdown",
   "id": "b090681f",
   "metadata": {
    "slideshow": {
     "slide_type": "subslide"
    }
   },
   "source": [
    "## Parameters\n",
    "\n",
    "Functions can be **parameterized**. \n",
    "\n",
    "```\n",
    "def <name>(parameter1, [parameter2], ...):\n",
    "    statement(s)\n",
    "```\n",
    "\n",
    "* A **parameter** is a variable defined as input to a function. \n",
    "* An **argument** is a value passed to a function when it is called.\n",
    "* This is a fine distinction, and the two terms are often used interchangably. The distinction is generally ok to ignore unless you are in a context where the difference matters (e.g. formal documentation or specifications)."
   ]
  },
  {
   "cell_type": "markdown",
   "id": "d8110e12",
   "metadata": {
    "slideshow": {
     "slide_type": "subslide"
    }
   },
   "source": [
    "## Parameters\n",
    "\n",
    "We can write a parameterized function for the first part of the verses.  "
   ]
  },
  {
   "cell_type": "code",
   "execution_count": null,
   "id": "2a716302",
   "metadata": {
    "execution": {
     "iopub.execute_input": "2023-06-29T15:34:16.030484Z",
     "iopub.status.busy": "2023-06-29T15:34:16.030212Z",
     "iopub.status.idle": "2023-06-29T15:34:16.034085Z",
     "shell.execute_reply": "2023-06-29T15:34:16.033469Z"
    }
   },
   "outputs": [],
   "source": [
    "def verse(first_thing, second_thing):\n",
    "    print(\"And on that \" + first_thing)\n",
    "    print(\"There was a \" + second_thing)\n",
    "    print(\"The prettiest \" + second_thing)\n",
    "    print(\"That you ever did see\")\n",
    "    \n",
    "verse(\"tree\", \"limb\")"
   ]
  },
  {
   "cell_type": "code",
   "execution_count": null,
   "id": "6435a4f7",
   "metadata": {
    "execution": {
     "iopub.execute_input": "2023-06-29T15:34:16.037142Z",
     "iopub.status.busy": "2023-06-29T15:34:16.036881Z",
     "iopub.status.idle": "2023-06-29T15:34:16.043459Z",
     "shell.execute_reply": "2023-06-29T15:34:16.042786Z"
    },
    "slideshow": {
     "slide_type": "subslide"
    }
   },
   "outputs": [],
   "source": [
    "def tree():\n",
    "    print(\"And the tree was in the ground\")\n",
    "    print(\"And the green grass grew all around, all around, and the green grass grew all around\")\n",
    "    print()\n",
    "    \n",
    "def limb():\n",
    "    print(\"And the limb was on the tree,\")\n",
    "    tree()\n",
    "    \n",
    "def branch():\n",
    "    print(\"And the branch was on the limb,\")\n",
    "    limb()\n",
    "    \n",
    "def nest():\n",
    "    print(\"And the nest was on the branch\")\n",
    "    branch()\n",
    "\n",
    "def egg():\n",
    "    print(\"And the egg was in the nest\")\n",
    "    nest()\n",
    "\n",
    "def bird():\n",
    "    print(\"And the bird was in the egg\")\n",
    "    egg()\n",
    "\n",
    "def verse(first_thing, second_thing):\n",
    "    print(\"And on that \" + first_thing)\n",
    "    print(\"There was a \" + second_thing)\n",
    "    print(\"The prettiest \" + second_thing)\n",
    "    print(\"That you ever did see\")\n",
    "    \n",
    "print(\"Oh in the woods there was a tree\")\n",
    "print(\"The prettiest tree\")\n",
    "print(\"You ever did see\")\n",
    "tree()\n",
    "verse(\"tree\", \"limb\")\n",
    "limb()\n",
    "verse(\"limb\", \"branch\")\n",
    "branch()\n",
    "verse(\"branch\", \"nest\")\n",
    "nest()\n",
    "verse(\"nest\", \"egg\")\n",
    "egg()\n",
    "verse(\"egg\", \"bird\")\n",
    "bird()"
   ]
  },
  {
   "cell_type": "markdown",
   "id": "6d471df5",
   "metadata": {
    "slideshow": {
     "slide_type": "subslide"
    }
   },
   "source": [
    "# Wait, that song isn't quite right...\n",
    "\n",
    "The egg verse is special:\n",
    "\n",
    "And **on** that nest  \n",
    "There was **a** egg  \n",
    "The prettiest egg  \n",
    "That you ever did see  \n",
    "\n",
    "One way to fix this would be to write a special function (or just use print statements) for that verse. \n",
    "\n",
    "But... we're learning about functions, so let's keep going."
   ]
  },
  {
   "cell_type": "markdown",
   "id": "5eae094d",
   "metadata": {
    "slideshow": {
     "slide_type": "subslide"
    }
   },
   "source": [
    "We can add one more parameter, `orientation` to our `verse` function:"
   ]
  },
  {
   "cell_type": "code",
   "execution_count": null,
   "id": "eecece39",
   "metadata": {
    "execution": {
     "iopub.execute_input": "2023-06-29T15:34:16.046535Z",
     "iopub.status.busy": "2023-06-29T15:34:16.046284Z",
     "iopub.status.idle": "2023-06-29T15:34:16.050631Z",
     "shell.execute_reply": "2023-06-29T15:34:16.050020Z"
    },
    "slideshow": {
     "slide_type": "-"
    }
   },
   "outputs": [],
   "source": [
    "def verse(first_thing, second_thing, orientation):\n",
    "    print(\"And \" + orientation + \" that \" + first_thing)\n",
    "    print(\"There was a \" + second_thing)\n",
    "    print(\"The prettiest \" + second_thing)\n",
    "    print(\"That you ever did see\")\n",
    "    \n",
    "verse(\"branch\", \"limb\", \"on\")\n",
    "print()\n",
    "verse(\"nest\", \"egg\", \"in\")"
   ]
  },
  {
   "cell_type": "markdown",
   "id": "386188d6",
   "metadata": {},
   "source": [
    "This is kind of annoying though - we have to edit every `verse` call to add another parameter, when only some of the calls actually need special handling."
   ]
  },
  {
   "cell_type": "code",
   "execution_count": null,
   "id": "b210d3f0",
   "metadata": {
    "execution": {
     "iopub.execute_input": "2023-06-29T15:34:16.053574Z",
     "iopub.status.busy": "2023-06-29T15:34:16.053338Z",
     "iopub.status.idle": "2023-06-29T15:34:16.059937Z",
     "shell.execute_reply": "2023-06-29T15:34:16.059282Z"
    },
    "slideshow": {
     "slide_type": "subslide"
    }
   },
   "outputs": [],
   "source": [
    "def tree():\n",
    "    print(\"And the tree was in the ground\")\n",
    "    print(\"And the green grass grew all around, all around, and the green grass grew all around\")\n",
    "    print()\n",
    "    \n",
    "def limb():\n",
    "    print(\"And the limb was on the tree,\")\n",
    "    tree()\n",
    "    \n",
    "def branch():\n",
    "    print(\"And the branch was on the limb,\")\n",
    "    limb()\n",
    "    \n",
    "def nest():\n",
    "    print(\"And the nest was on the branch\")\n",
    "    branch()\n",
    "\n",
    "def egg():\n",
    "    print(\"And the egg was in the nest\")\n",
    "    nest()\n",
    "\n",
    "def bird():\n",
    "    print(\"And the bird was in the egg\")\n",
    "    egg()\n",
    "\n",
    "def verse(first_thing, second_thing, orientation):\n",
    "    print(\"And \" + orientation + \" that \" + first_thing)\n",
    "    print(\"There was a \" + second_thing)\n",
    "    print(\"The prettiest \" + second_thing)\n",
    "    print(\"That you ever did see\")\n",
    "    \n",
    "print(\"Oh in the woods there was a tree\")\n",
    "print(\"The prettiest tree\")\n",
    "print(\"You ever did see\")\n",
    "tree()\n",
    "verse(\"tree\", \"limb\", \"on\")\n",
    "limb()\n",
    "verse(\"limb\", \"branch\", \"on\")\n",
    "branch()\n",
    "verse(\"branch\", \"nest\", \"on\")\n",
    "nest()\n",
    "verse(\"nest\", \"egg\", \"in\")\n",
    "egg()\n",
    "verse(\"egg\", \"bird\", \"in\")\n",
    "bird()"
   ]
  },
  {
   "cell_type": "markdown",
   "id": "a80466c9",
   "metadata": {
    "slideshow": {
     "slide_type": "subslide"
    }
   },
   "source": [
    "## Default values\n",
    "\n",
    "Function parameters can have **default values**. A default value is used if no argument is passed for a parameter.\n",
    "\n",
    "Example:"
   ]
  },
  {
   "cell_type": "code",
   "execution_count": null,
   "id": "f1cb6d2f",
   "metadata": {
    "execution": {
     "iopub.execute_input": "2023-06-29T15:34:16.063026Z",
     "iopub.status.busy": "2023-06-29T15:34:16.062763Z",
     "iopub.status.idle": "2023-06-29T15:34:16.065818Z",
     "shell.execute_reply": "2023-06-29T15:34:16.065244Z"
    }
   },
   "outputs": [],
   "source": [
    "def greet(name = \"guest\"):\n",
    "    print(\"Hello, \" + name + \"!\")"
   ]
  },
  {
   "cell_type": "code",
   "execution_count": null,
   "id": "7b2b3c50",
   "metadata": {
    "execution": {
     "iopub.execute_input": "2023-06-29T15:34:16.068780Z",
     "iopub.status.busy": "2023-06-29T15:34:16.068521Z",
     "iopub.status.idle": "2023-06-29T15:34:16.071757Z",
     "shell.execute_reply": "2023-06-29T15:34:16.071178Z"
    }
   },
   "outputs": [],
   "source": [
    "greet()"
   ]
  },
  {
   "cell_type": "code",
   "execution_count": null,
   "id": "8c147cf0",
   "metadata": {
    "execution": {
     "iopub.execute_input": "2023-06-29T15:34:16.074630Z",
     "iopub.status.busy": "2023-06-29T15:34:16.074390Z",
     "iopub.status.idle": "2023-06-29T15:34:16.077642Z",
     "shell.execute_reply": "2023-06-29T15:34:16.076924Z"
    }
   },
   "outputs": [],
   "source": [
    "greet(\"Joe\")"
   ]
  },
  {
   "cell_type": "markdown",
   "id": "bdf4119e",
   "metadata": {
    "slideshow": {
     "slide_type": "subslide"
    }
   },
   "source": [
    "## Back to the song"
   ]
  },
  {
   "cell_type": "code",
   "execution_count": null,
   "id": "9af9d339",
   "metadata": {
    "execution": {
     "iopub.execute_input": "2023-06-29T15:34:16.080683Z",
     "iopub.status.busy": "2023-06-29T15:34:16.080432Z",
     "iopub.status.idle": "2023-06-29T15:34:16.084580Z",
     "shell.execute_reply": "2023-06-29T15:34:16.083868Z"
    }
   },
   "outputs": [],
   "source": [
    "def verse(first_thing, second_thing, orientation=\"on\"):\n",
    "    print(\"And \" + orientation + \" that \" + first_thing)\n",
    "    print(\"There was a \" + second_thing)\n",
    "    print(\"The prettiest \" + second_thing)\n",
    "    print(\"That you ever did see\")\n",
    "    \n",
    "verse(\"branch\", \"limb\")\n",
    "print()\n",
    "verse(\"nest\", \"egg\", \"in\")"
   ]
  },
  {
   "cell_type": "markdown",
   "id": "7222c828",
   "metadata": {
    "slideshow": {
     "slide_type": "subslide"
    }
   },
   "source": [
    "## Let's fix the grammar"
   ]
  },
  {
   "cell_type": "code",
   "execution_count": null,
   "id": "f89e8a83",
   "metadata": {
    "execution": {
     "iopub.execute_input": "2023-06-29T15:34:16.087497Z",
     "iopub.status.busy": "2023-06-29T15:34:16.087246Z",
     "iopub.status.idle": "2023-06-29T15:34:16.091226Z",
     "shell.execute_reply": "2023-06-29T15:34:16.090627Z"
    }
   },
   "outputs": [],
   "source": [
    "def verse(first_thing, second_thing, orientation=\"on\", connector=\"a\"):\n",
    "    print(\"And \" + orientation + \" that \" + first_thing)\n",
    "    print(\"There was \" + connector + \" \" + second_thing)\n",
    "    print(\"The prettiest \" + second_thing)\n",
    "    print(\"That you ever did see\")\n",
    "    \n",
    "verse(\"nest\", \"egg\", \"in\", \"an\")"
   ]
  },
  {
   "cell_type": "markdown",
   "id": "27d93c9f",
   "metadata": {
    "slideshow": {
     "slide_type": "subslide"
    }
   },
   "source": [
    "##  Calling functions: named parameters\n",
    "\n",
    "Our `verse` function call has gotten a little obtuse:  \n",
    "  \n",
    "`verse(\"nest\", \"egg\", \"in\", \"an\")`  \n",
    "  \n",
    "We can improve the readability.\n"
   ]
  },
  {
   "cell_type": "markdown",
   "id": "5a2c3344",
   "metadata": {
    "slideshow": {
     "slide_type": "subslide"
    }
   },
   "source": [
    "So far, we've called functions with **positional arguments**:"
   ]
  },
  {
   "cell_type": "code",
   "execution_count": null,
   "id": "315cd726",
   "metadata": {
    "execution": {
     "iopub.execute_input": "2023-06-29T15:34:16.094196Z",
     "iopub.status.busy": "2023-06-29T15:34:16.093947Z",
     "iopub.status.idle": "2023-06-29T15:34:16.097057Z",
     "shell.execute_reply": "2023-06-29T15:34:16.096534Z"
    },
    "slideshow": {
     "slide_type": "-"
    }
   },
   "outputs": [],
   "source": [
    "def meet(name1, name2):\n",
    "    print(name1 + \", meet \" + name2 + \".\")"
   ]
  },
  {
   "cell_type": "code",
   "execution_count": null,
   "id": "9c671bb9",
   "metadata": {
    "execution": {
     "iopub.execute_input": "2023-06-29T15:34:16.099789Z",
     "iopub.status.busy": "2023-06-29T15:34:16.099550Z",
     "iopub.status.idle": "2023-06-29T15:34:16.102740Z",
     "shell.execute_reply": "2023-06-29T15:34:16.102169Z"
    }
   },
   "outputs": [],
   "source": [
    "meet(\"Bill\", \"Ted\")"
   ]
  },
  {
   "cell_type": "markdown",
   "id": "d6fd6f62",
   "metadata": {},
   "source": [
    "Functions can also be called with **named arguments**:"
   ]
  },
  {
   "cell_type": "code",
   "execution_count": null,
   "id": "123b2a5d",
   "metadata": {
    "execution": {
     "iopub.execute_input": "2023-06-29T15:34:16.105668Z",
     "iopub.status.busy": "2023-06-29T15:34:16.105424Z",
     "iopub.status.idle": "2023-06-29T15:34:16.108744Z",
     "shell.execute_reply": "2023-06-29T15:34:16.108120Z"
    }
   },
   "outputs": [],
   "source": [
    "meet(name1 = \"Mario\", name2 = \"Luigi\")"
   ]
  },
  {
   "cell_type": "markdown",
   "id": "504844b4",
   "metadata": {
    "slideshow": {
     "slide_type": "subslide"
    }
   },
   "source": [
    "Named arguments can be passed in any order."
   ]
  },
  {
   "cell_type": "code",
   "execution_count": null,
   "id": "577512ef",
   "metadata": {
    "execution": {
     "iopub.execute_input": "2023-06-29T15:34:16.111608Z",
     "iopub.status.busy": "2023-06-29T15:34:16.111363Z",
     "iopub.status.idle": "2023-06-29T15:34:16.114720Z",
     "shell.execute_reply": "2023-06-29T15:34:16.114152Z"
    }
   },
   "outputs": [],
   "source": [
    "meet(name2 = \"your father\", name1 = \"Luke\")"
   ]
  },
  {
   "cell_type": "markdown",
   "id": "cc4001c0",
   "metadata": {
    "slideshow": {
     "slide_type": "subslide"
    }
   },
   "source": [
    "* You can mix named/unnamed arguments in one call, but all positional arguments must come before any named arguments."
   ]
  },
  {
   "cell_type": "code",
   "execution_count": null,
   "id": "5d883859",
   "metadata": {
    "execution": {
     "iopub.execute_input": "2023-06-29T15:34:16.117646Z",
     "iopub.status.busy": "2023-06-29T15:34:16.117408Z",
     "iopub.status.idle": "2023-06-29T15:34:16.121319Z",
     "shell.execute_reply": "2023-06-29T15:34:16.120714Z"
    },
    "slideshow": {
     "slide_type": "-"
    }
   },
   "outputs": [],
   "source": [
    "def menu(breakfast, lunch = \"PB&J\", dinner = \"Ramen\", dessert = \"1 full pint of Ben & Jerry's\"):\n",
    "    print(\"Today's menu: \")\n",
    "    print(\"Breakfast: \" + breakfast)\n",
    "    print(\"Lunch: \" + lunch)\n",
    "    print(\"Dinner: \" + dinner)\n",
    "    print(\"Dessert: \" + dessert)\n",
    "    \n",
    "menu(\"Eggs\")"
   ]
  },
  {
   "cell_type": "code",
   "execution_count": null,
   "id": "e1bcc2e9",
   "metadata": {
    "execution": {
     "iopub.execute_input": "2023-06-29T15:34:16.124134Z",
     "iopub.status.busy": "2023-06-29T15:34:16.123889Z",
     "iopub.status.idle": "2023-06-29T15:34:16.127198Z",
     "shell.execute_reply": "2023-06-29T15:34:16.126652Z"
    }
   },
   "outputs": [],
   "source": [
    "menu(\"Cereal\", dinner = \"Lobster\")"
   ]
  },
  {
   "cell_type": "code",
   "execution_count": null,
   "id": "cd414bc7",
   "metadata": {
    "execution": {
     "iopub.execute_input": "2023-06-29T15:34:16.129915Z",
     "iopub.status.busy": "2023-06-29T15:34:16.129674Z",
     "iopub.status.idle": "2023-06-29T15:34:16.408414Z",
     "shell.execute_reply": "2023-06-29T15:34:16.407695Z"
    },
    "slideshow": {
     "slide_type": "-"
    },
    "tags": [
     "raises-exception"
    ]
   },
   "outputs": [],
   "source": [
    "menu()"
   ]
  },
  {
   "cell_type": "code",
   "execution_count": null,
   "id": "314b394d",
   "metadata": {
    "execution": {
     "iopub.execute_input": "2023-06-29T15:34:16.411931Z",
     "iopub.status.busy": "2023-06-29T15:34:16.411608Z",
     "iopub.status.idle": "2023-06-29T15:34:16.416576Z",
     "shell.execute_reply": "2023-06-29T15:34:16.415894Z"
    },
    "slideshow": {
     "slide_type": "-"
    },
    "tags": [
     "raises-exception"
    ]
   },
   "outputs": [],
   "source": [
    "menu(\"Oatmeal\", dessert = \"Skittles\", \"Ham & Cheese\")"
   ]
  },
  {
   "cell_type": "markdown",
   "id": "9a81130f",
   "metadata": {
    "slideshow": {
     "slide_type": "subslide"
    }
   },
   "source": [
    "## Code style\n",
    "* It's easy to write incomprehensible code by overusing default parameters or mixing named/unnamed arguments.\n",
    "* Opt for clarity over brevity."
   ]
  },
  {
   "cell_type": "markdown",
   "id": "69ed8978",
   "metadata": {
    "slideshow": {
     "slide_type": "subslide"
    }
   },
   "source": [
    "## Extra credit\n",
    "\n",
    "This uses things we'll cover in much more detail later in the term, but we can make the code choose between `a` and `an` for us!"
   ]
  },
  {
   "cell_type": "code",
   "execution_count": null,
   "id": "71301bf1",
   "metadata": {
    "execution": {
     "iopub.execute_input": "2023-06-29T15:34:16.421337Z",
     "iopub.status.busy": "2023-06-29T15:34:16.420974Z",
     "iopub.status.idle": "2023-06-29T15:34:16.425874Z",
     "shell.execute_reply": "2023-06-29T15:34:16.425046Z"
    }
   },
   "outputs": [],
   "source": [
    "def verse(first_thing, second_thing, orientation=\"on\"):\n",
    "    print(\"And \" + orientation + \" that \" + first_thing)\n",
    "    connector = \"a\"\n",
    "    # If the first letter of \"second_thing\" is a vowel (a, e, i, o, or u), then use \"an\"\n",
    "    if second_thing[0] in \"aeiou\":\n",
    "        connector = \"an\"\n",
    "    print(\"There was \" + connector + \" \" + second_thing)\n",
    "    print(\"The prettiest \" + second_thing)\n",
    "    print(\"That you ever did see\")"
   ]
  },
  {
   "cell_type": "code",
   "execution_count": null,
   "id": "c61101e3",
   "metadata": {
    "execution": {
     "iopub.execute_input": "2023-06-29T15:34:16.429416Z",
     "iopub.status.busy": "2023-06-29T15:34:16.429090Z",
     "iopub.status.idle": "2023-06-29T15:34:16.433184Z",
     "shell.execute_reply": "2023-06-29T15:34:16.432464Z"
    }
   },
   "outputs": [],
   "source": [
    "verse(\"bird\", \"egg\", orientation=\"on\")"
   ]
  },
  {
   "cell_type": "code",
   "execution_count": null,
   "id": "652e6d57",
   "metadata": {
    "execution": {
     "iopub.execute_input": "2023-06-29T15:34:16.437186Z",
     "iopub.status.busy": "2023-06-29T15:34:16.436827Z",
     "iopub.status.idle": "2023-06-29T15:34:16.441159Z",
     "shell.execute_reply": "2023-06-29T15:34:16.440340Z"
    }
   },
   "outputs": [],
   "source": [
    "verse(\"bird\", \"wing\")"
   ]
  },
  {
   "cell_type": "code",
   "execution_count": null,
   "id": "bebc7ddb",
   "metadata": {
    "execution": {
     "iopub.execute_input": "2023-06-29T15:34:16.445081Z",
     "iopub.status.busy": "2023-06-29T15:34:16.444769Z",
     "iopub.status.idle": "2023-06-29T15:34:16.452458Z",
     "shell.execute_reply": "2023-06-29T15:34:16.451771Z"
    },
    "slideshow": {
     "slide_type": "subslide"
    }
   },
   "outputs": [],
   "source": [
    "# Our final version\n",
    "def tree():\n",
    "    print(\"And the tree was in the ground\")\n",
    "    print(\"And the green grass grew all around, all around, and the green grass grew all around\")\n",
    "    print()\n",
    "    \n",
    "def limb():\n",
    "    print(\"And the limb was on the tree,\")\n",
    "    tree()\n",
    "    \n",
    "def branch():\n",
    "    print(\"And the branch was on the limb,\")\n",
    "    limb()\n",
    "    \n",
    "def nest():\n",
    "    print(\"And the nest was on the branch\")\n",
    "    branch()\n",
    "\n",
    "def egg():\n",
    "    print(\"And the egg was in the nest\")\n",
    "    nest()\n",
    "\n",
    "def bird():\n",
    "    print(\"And the bird was in the egg\")\n",
    "    egg()\n",
    "\n",
    "def verse(first_thing, second_thing, orientation=\"on\"):\n",
    "    print(\"And \" + orientation + \" that \" + first_thing)\n",
    "    connector = \"a\"\n",
    "    # If the first letter of \"second_thing\" is a vowel (a, e, i, o, or u), then use \"an\"\n",
    "    if second_thing[0] in \"aeiou\":\n",
    "        connector = \"an\"\n",
    "    print(\"There was \" + connector + \" \" + second_thing)\n",
    "    print(\"The prettiest \" + second_thing)\n",
    "    print(\"That you ever did see\")\n",
    "\n",
    "def green_grass_song():\n",
    "    print(\"Oh in the woods there was a tree\")\n",
    "    print(\"The prettiest tree\")\n",
    "    print(\"You ever did see\")\n",
    "    tree()\n",
    "    verse(\"tree\", \"limb\")\n",
    "    limb()\n",
    "    verse(\"limb\", \"branch\")\n",
    "    branch()\n",
    "    verse(\"branch\", \"nest\")\n",
    "    nest()\n",
    "    verse(\"nest\", \"egg\", orientation=\"in\")\n",
    "    egg()\n",
    "    verse(\"egg\", \"bird\")\n",
    "    bird()\n",
    "    \n",
    "green_grass_song()"
   ]
  },
  {
   "cell_type": "markdown",
   "id": "735255b6",
   "metadata": {
    "slideshow": {
     "slide_type": "slide"
    }
   },
   "source": [
    "\n",
    "# Returns\n",
    "\n",
    "* Functions can produce values.\n",
    "* Using the `return` keyword in a function makes the function produce a value."
   ]
  },
  {
   "cell_type": "code",
   "execution_count": null,
   "id": "9b69489b",
   "metadata": {
    "execution": {
     "iopub.execute_input": "2023-06-29T15:34:16.456187Z",
     "iopub.status.busy": "2023-06-29T15:34:16.455869Z",
     "iopub.status.idle": "2023-06-29T15:34:16.463168Z",
     "shell.execute_reply": "2023-06-29T15:34:16.462400Z"
    },
    "slideshow": {
     "slide_type": "-"
    }
   },
   "outputs": [],
   "source": [
    "def add(a, b):\n",
    "    return a + b\n",
    "\n",
    "add(1, 2)"
   ]
  },
  {
   "cell_type": "markdown",
   "id": "a65d1489",
   "metadata": {
    "slideshow": {
     "slide_type": "subslide"
    }
   },
   "source": [
    "## Terminology\n",
    "* When a function produces a value, we say it **returns** a value.\n",
    "* The value a function produces is referred to as the **return value**\n",
    "* When the `return` keyword is used in a function, it is referred to as **returning from** the function."
   ]
  },
  {
   "cell_type": "code",
   "execution_count": null,
   "id": "07b36c01",
   "metadata": {
    "execution": {
     "iopub.execute_input": "2023-06-29T15:34:16.467267Z",
     "iopub.status.busy": "2023-06-29T15:34:16.466732Z",
     "iopub.status.idle": "2023-06-29T15:34:16.471818Z",
     "shell.execute_reply": "2023-06-29T15:34:16.471097Z"
    },
    "slideshow": {
     "slide_type": "-"
    }
   },
   "outputs": [],
   "source": [
    "def add(a, b):\n",
    "    return a + b\n",
    "\n",
    "add(1, 2)"
   ]
  },
  {
   "cell_type": "markdown",
   "id": "3b5a33a0",
   "metadata": {},
   "source": [
    "The `add` function **returns** the sum of its two parameters.\n",
    "\n",
    "The **return value** of `add`, when passed the arguments `1` and `2`, is 3."
   ]
  },
  {
   "cell_type": "markdown",
   "id": "7a4fee7a",
   "metadata": {
    "slideshow": {
     "slide_type": "subslide"
    }
   },
   "source": [
    "## Evaluating\n",
    "\n",
    "Just like other expressions, when a function is **called**, it **evaluates to** a value. The value is whatever is returned from the function.\n",
    "\n",
    "The returned value can be used just like any other value - it can be assigned to a variable, printed, used in a larger expression, etc."
   ]
  },
  {
   "cell_type": "code",
   "execution_count": null,
   "id": "4957a749",
   "metadata": {
    "execution": {
     "iopub.execute_input": "2023-06-29T15:34:16.475914Z",
     "iopub.status.busy": "2023-06-29T15:34:16.475532Z",
     "iopub.status.idle": "2023-06-29T15:34:16.480023Z",
     "shell.execute_reply": "2023-06-29T15:34:16.479372Z"
    },
    "slideshow": {
     "slide_type": "-"
    }
   },
   "outputs": [],
   "source": [
    "def add(a, b):\n",
    "    return a + b\n",
    "\n",
    "sum = add(1, 2)\n",
    "print(sum)\n",
    "print(\"The sum of 1 and 2 is \" + str(sum) + \", but the sum of 1 and 3 is \" + str(add(1, 3)))"
   ]
  },
  {
   "cell_type": "markdown",
   "id": "96614ff4",
   "metadata": {
    "slideshow": {
     "slide_type": "subslide"
    }
   },
   "source": [
    "## Precedence\n",
    "\n",
    "When functions are combined in an expression, they evaluate \"from the inside out\"."
   ]
  },
  {
   "cell_type": "code",
   "execution_count": null,
   "id": "c568aa9d",
   "metadata": {
    "execution": {
     "iopub.execute_input": "2023-06-29T15:34:16.483865Z",
     "iopub.status.busy": "2023-06-29T15:34:16.483545Z",
     "iopub.status.idle": "2023-06-29T15:34:16.488301Z",
     "shell.execute_reply": "2023-06-29T15:34:16.487539Z"
    }
   },
   "outputs": [],
   "source": [
    "add(1, add(2, 3))"
   ]
  },
  {
   "cell_type": "markdown",
   "id": "7781b8fc",
   "metadata": {},
   "source": [
    "The \"inner\" `add` is evaluated first, and the result of it is passed as an argument to the \"outer\" `add`:\n",
    "\n",
    "`add(1, add(2, 3))` ->  \n",
    "`add(1, 5        )` ->  \n",
    "`6`"
   ]
  },
  {
   "cell_type": "code",
   "execution_count": null,
   "id": "5e67c4c9",
   "metadata": {
    "execution": {
     "iopub.execute_input": "2023-06-29T15:34:16.491830Z",
     "iopub.status.busy": "2023-06-29T15:34:16.491535Z",
     "iopub.status.idle": "2023-06-29T15:34:16.499630Z",
     "shell.execute_reply": "2023-06-29T15:34:16.498811Z"
    },
    "slideshow": {
     "slide_type": "subslide"
    }
   },
   "outputs": [],
   "source": [
    "add(add(1, 2), add(add(4, 5), 3))"
   ]
  },
  {
   "cell_type": "markdown",
   "id": "d70022b2",
   "metadata": {},
   "source": [
    "`add(add(1, 2), add(add(4, 5), 3))` ->  \n",
    "`add(3,         add(9,         3))` ->  \n",
    "`add(3,         12               )` ->  \n",
    "`15`"
   ]
  },
  {
   "cell_type": "markdown",
   "id": "ded45698",
   "metadata": {
    "slideshow": {
     "slide_type": "subslide"
    }
   },
   "source": [
    "## None\n",
    "\n",
    "* If you don't specify a return value, a function will return a special value, `None`.\n",
    "* This happens when:\n",
    "  * execution reaches the end of the function without encountering a return statement\n",
    "  * there is a \"bare\" `return` with no value\n",
    "  * `return None` is used explicitly\n",
    "* `None` has its own type - similar to `int`, `str`, `float`. It is an empty, or null value.\n",
    "* It can be used like any other value, e.g. `None` can be assigned to a variable (`a = None`)"
   ]
  },
  {
   "cell_type": "code",
   "execution_count": null,
   "id": "be6edb3d",
   "metadata": {
    "execution": {
     "iopub.execute_input": "2023-06-29T15:34:16.503389Z",
     "iopub.status.busy": "2023-06-29T15:34:16.503039Z",
     "iopub.status.idle": "2023-06-29T15:34:16.507224Z",
     "shell.execute_reply": "2023-06-29T15:34:16.506535Z"
    }
   },
   "outputs": [],
   "source": [
    "def wave():\n",
    "    print(\"/wave\")\n",
    "print(wave())"
   ]
  },
  {
   "cell_type": "markdown",
   "id": "15187a04",
   "metadata": {
    "slideshow": {
     "slide_type": "subslide"
    }
   },
   "source": [
    "## Control flow\n",
    "\n",
    "* When a `return` statement is encountered, the function stops executing.\n",
    "* `return` can be used for flow control"
   ]
  },
  {
   "cell_type": "code",
   "execution_count": null,
   "id": "746ed6da",
   "metadata": {
    "execution": {
     "iopub.execute_input": "2023-06-29T15:34:16.510552Z",
     "iopub.status.busy": "2023-06-29T15:34:16.510269Z",
     "iopub.status.idle": "2023-06-29T15:34:16.513779Z",
     "shell.execute_reply": "2023-06-29T15:34:16.513157Z"
    }
   },
   "outputs": [],
   "source": [
    "def div(a, b):\n",
    "    if b == 0:\n",
    "        return None\n",
    "    return a / b"
   ]
  },
  {
   "cell_type": "code",
   "execution_count": null,
   "id": "cf928a46",
   "metadata": {
    "execution": {
     "iopub.execute_input": "2023-06-29T15:34:16.523704Z",
     "iopub.status.busy": "2023-06-29T15:34:16.523053Z",
     "iopub.status.idle": "2023-06-29T15:34:16.529988Z",
     "shell.execute_reply": "2023-06-29T15:34:16.528360Z"
    }
   },
   "outputs": [],
   "source": [
    "print(div(10, 2))"
   ]
  },
  {
   "cell_type": "code",
   "execution_count": null,
   "id": "ce6e01d5",
   "metadata": {
    "execution": {
     "iopub.execute_input": "2023-06-29T15:34:16.538577Z",
     "iopub.status.busy": "2023-06-29T15:34:16.538017Z",
     "iopub.status.idle": "2023-06-29T15:34:16.545912Z",
     "shell.execute_reply": "2023-06-29T15:34:16.544157Z"
    }
   },
   "outputs": [],
   "source": [
    "print(div(10, 0))"
   ]
  },
  {
   "cell_type": "markdown",
   "id": "c12b6e1f",
   "metadata": {
    "slideshow": {
     "slide_type": "slide"
    }
   },
   "source": [
    "# Call stacks\n",
    "\n",
    "* When a function is called, the execution of the program \"jumps into\" the function. \n",
    "* When the function finishes, execution \"jumps back\" to the place where the function was called from.\n",
    "* The chain of function calls that leads to the current line of code is called the \"call stack\"."
   ]
  },
  {
   "cell_type": "code",
   "execution_count": null,
   "id": "4b278798",
   "metadata": {
    "execution": {
     "iopub.execute_input": "2023-06-29T15:34:16.557401Z",
     "iopub.status.busy": "2023-06-29T15:34:16.556623Z",
     "iopub.status.idle": "2023-06-29T15:34:16.571718Z",
     "shell.execute_reply": "2023-06-29T15:34:16.567369Z"
    },
    "slideshow": {
     "slide_type": "subslide"
    }
   },
   "outputs": [],
   "source": [
    "# %load ../../snippets/call_stacks.py\n",
    "def a():\n",
    "    print(\"a1\")\n",
    "    b()\n",
    "    print(\"a2\")\n",
    "    c()\n",
    "    print(\"a3\")\n",
    "    \n",
    "def b():\n",
    "    print(\"b1\")\n",
    "    c()\n",
    "    print(\"b2\")\n",
    "    \n",
    "def c():\n",
    "    print(\"c1\")\n",
    "    d()\n",
    "    print(\"c2\")\n",
    "\n",
    "def d():\n",
    "    print(\"d\")\n",
    "\n",
    "a()\n"
   ]
  },
  {
   "cell_type": "markdown",
   "id": "51816b40",
   "metadata": {
    "slideshow": {
     "slide_type": "subslide"
    }
   },
   "source": [
    "# Step-thru debugging revisited\n",
    "\n",
    "repl.it: [Lecture 4 (functions) exercises: Call Stacks](https://replit.com/@cosi-10a-fall23/Call-stacks#main.py)"
   ]
  },
  {
   "cell_type": "markdown",
   "id": "614b4478",
   "metadata": {
    "slideshow": {
     "slide_type": "slide"
    }
   },
   "source": [
    "# Scope\n",
    "\n",
    "* A variable's definition is **scoped** to the block of code it is defined in.\n",
    "* A variable defined in a function is only available in that function.\n",
    "* Trying to use the variable outside of its scope is an error."
   ]
  },
  {
   "cell_type": "code",
   "execution_count": null,
   "id": "e01c55c2",
   "metadata": {
    "execution": {
     "iopub.execute_input": "2023-06-29T15:34:16.580171Z",
     "iopub.status.busy": "2023-06-29T15:34:16.579245Z",
     "iopub.status.idle": "2023-06-29T15:34:16.589391Z",
     "shell.execute_reply": "2023-06-29T15:34:16.588163Z"
    }
   },
   "outputs": [],
   "source": [
    "def house():\n",
    "    furniture = \"couch\"\n",
    "    print(furniture)\n",
    "\n",
    "house()"
   ]
  },
  {
   "cell_type": "code",
   "execution_count": null,
   "id": "5b3f9f6e",
   "metadata": {
    "execution": {
     "iopub.execute_input": "2023-06-29T15:34:16.597491Z",
     "iopub.status.busy": "2023-06-29T15:34:16.596202Z",
     "iopub.status.idle": "2023-06-29T15:34:16.635644Z",
     "shell.execute_reply": "2023-06-29T15:34:16.633680Z"
    }
   },
   "outputs": [],
   "source": [
    "def house():\n",
    "    furniture = \"couch\"\n",
    "    print(furniture)\n",
    "print(furniture)"
   ]
  },
  {
   "cell_type": "markdown",
   "id": "35a12c3e",
   "metadata": {
    "slideshow": {
     "slide_type": "subslide"
    }
   },
   "source": [
    "# Scope\n",
    "\n",
    "* In Python, there are technically 4 scopes.\n",
    "* You'll only need to be aware of 2:\n",
    "  * **global** scope: variables defined outside of a function\n",
    "  * **local** : variables defined inside a function\n",
    "  * Remember: variables are defined when they are first assigned to. Their scope is determined by where that first assignment happens."
   ]
  },
  {
   "cell_type": "markdown",
   "id": "9c9024b6",
   "metadata": {
    "slideshow": {
     "slide_type": "fragment"
    }
   },
   "source": [
    "* If you're curious, the other 2 scopes are:\n",
    "  * \"Enclosing\", which applies when functions are declared inside other functions (!)\n",
    "  * \"Built-in\", which covers all the functions and variables that are built into Python. \n",
    "    * For example: `if` and `else` are in the built-in scope."
   ]
  },
  {
   "cell_type": "code",
   "execution_count": null,
   "id": "d2c87426",
   "metadata": {
    "execution": {
     "iopub.execute_input": "2023-06-29T15:34:16.641804Z",
     "iopub.status.busy": "2023-06-29T15:34:16.641210Z",
     "iopub.status.idle": "2023-06-29T15:34:16.655560Z",
     "shell.execute_reply": "2023-06-29T15:34:16.654063Z"
    },
    "slideshow": {
     "slide_type": "subslide"
    }
   },
   "outputs": [],
   "source": [
    "global_var = \"global\"\n",
    "def f():\n",
    "    func_var = \"func\"\n",
    "    if 2 > 1:\n",
    "        inner_var = \"inner\"\n",
    "        print(global_var, func_var, inner_var)\n",
    "f()"
   ]
  },
  {
   "cell_type": "code",
   "execution_count": null,
   "id": "ac2620af",
   "metadata": {
    "execution": {
     "iopub.execute_input": "2023-06-29T15:34:16.660467Z",
     "iopub.status.busy": "2023-06-29T15:34:16.660092Z",
     "iopub.status.idle": "2023-06-29T15:34:16.666041Z",
     "shell.execute_reply": "2023-06-29T15:34:16.664789Z"
    },
    "slideshow": {
     "slide_type": "subslide"
    }
   },
   "outputs": [],
   "source": [
    "global_var = \"global\"\n",
    "def f():\n",
    "    func_var = \"func\"\n",
    "    if 2 > 1:\n",
    "        inner_var = \"inner\"\n",
    "\n",
    "    print(global_var, func_var, inner_var)\n",
    "\n",
    "f()"
   ]
  },
  {
   "cell_type": "code",
   "execution_count": null,
   "id": "067750d8",
   "metadata": {
    "execution": {
     "iopub.execute_input": "2023-06-29T15:34:16.673065Z",
     "iopub.status.busy": "2023-06-29T15:34:16.672572Z",
     "iopub.status.idle": "2023-06-29T15:34:16.703404Z",
     "shell.execute_reply": "2023-06-29T15:34:16.698664Z"
    },
    "tags": [
     "raises-exception"
    ]
   },
   "outputs": [],
   "source": [
    "global_var = \"global\"\n",
    "def f():\n",
    "    func_var = \"func\"\n",
    "    if 2 > 1:\n",
    "        inner_var = \"inner\"\n",
    "\n",
    "print(global_var, func_var, inner_var)\n",
    "f()"
   ]
  },
  {
   "cell_type": "markdown",
   "id": "a97616fa",
   "metadata": {
    "slideshow": {
     "slide_type": "subslide"
    }
   },
   "source": [
    "## Global variables: special snowflakes\n",
    "\n",
    "What does this print?"
   ]
  },
  {
   "cell_type": "code",
   "execution_count": null,
   "id": "93683bf2",
   "metadata": {
    "execution": {
     "iopub.execute_input": "2023-06-29T15:34:16.708756Z",
     "iopub.status.busy": "2023-06-29T15:34:16.708386Z",
     "iopub.status.idle": "2023-06-29T15:34:16.714088Z",
     "shell.execute_reply": "2023-06-29T15:34:16.713185Z"
    }
   },
   "outputs": [],
   "source": [
    "global_var = \"global\"\n",
    "def f():\n",
    "    global_var = \"changed global\"\n",
    "    print(\"Inside func: \" + global_var)\n",
    "    \n",
    "print(\"Outside before func: \" + global_var)\n",
    "f()\n",
    "print(\"Outside after func: \" + global_var)"
   ]
  },
  {
   "cell_type": "markdown",
   "id": "d3b189e5",
   "metadata": {
    "slideshow": {
     "slide_type": "subslide"
    }
   },
   "source": [
    "## Global variables: special snowflakes\n",
    "\n",
    "* Global variables can be **read** from a local scope.\n",
    "* But in order to write to a global variable from a local scope, you must make it explicit by using the `global` keyword.\n",
    "* In the last example, we actually created a new local variable named `global_var`.\n",
    "  * Creating a local variable with the same name as a global variable is referred to as \"shadowing\".\n",
    "  * Don't rely on shadowing on purpose, it will produce confusing code.\n",
    "* This is a common gotcha, you will probably run into this while writing your own code!"
   ]
  },
  {
   "cell_type": "code",
   "execution_count": null,
   "id": "881628b1",
   "metadata": {
    "execution": {
     "iopub.execute_input": "2023-06-29T15:34:16.723292Z",
     "iopub.status.busy": "2023-06-29T15:34:16.722460Z",
     "iopub.status.idle": "2023-06-29T15:34:16.730198Z",
     "shell.execute_reply": "2023-06-29T15:34:16.729170Z"
    },
    "slideshow": {
     "slide_type": "subslide"
    }
   },
   "outputs": [],
   "source": [
    "global_var = \"global\"\n",
    "def f():\n",
    "    global global_var\n",
    "    global_var = \"changed global\"\n",
    "    print(\"Inside func 2: \" + global_var)\n",
    "\n",
    "print(\"Outside before func: \" + global_var)\n",
    "f()\n",
    "print(\"Outside after func: \" + global_var)"
   ]
  },
  {
   "cell_type": "markdown",
   "id": "c7ee14d7",
   "metadata": {},
   "source": [
    "TODO: Either replace this, or replace the problem set exercise..."
   ]
  },
  {
   "cell_type": "markdown",
   "id": "2db5688b",
   "metadata": {
    "slideshow": {
     "slide_type": "slide"
    }
   },
   "source": [
    "# Exercise\n",
    "\n",
    "Let's revisit our dice game now that we have loops and functions.\n",
    "\n",
    "A reminder on the rules:\n",
    "\n",
    "* The player rolls a die repeatedly. \n",
    "* If they roll a 1, their money is halved\n",
    "* If they roll a 2, 3, 4, they gain dollars equal to the roll\n",
    "* If they roll a 5, they gain \\\\$10\n",
    "* If they roll a 6, their money is doubled.\n",
    "\n",
    "In the previous version, we hardcoded 5 rolls. Now, the player will start with $10, each roll will cost \\\\$3, and they can roll as many times as they want. The game ends when they stop, or can't afford to roll."
   ]
  },
  {
   "cell_type": "markdown",
   "id": "b635e920",
   "metadata": {
    "slideshow": {
     "slide_type": "subslide"
    }
   },
   "source": [
    "Let's **decompose** again. The main parts of the game are:\n",
    "* A single roll\n",
    "* The outer game loop\n",
    "\n",
    "A roll function takes some thought:\n",
    "* Does it need to know the total amount of money the player has? \n",
    "* Will it update the total on its own, or will the code calling the function handle that?\n",
    "\n",
    "Let's try to keep it self-contained first:"
   ]
  },
  {
   "cell_type": "code",
   "execution_count": null,
   "id": "62fa2b4b",
   "metadata": {
    "execution": {
     "iopub.execute_input": "2023-06-29T15:34:16.737209Z",
     "iopub.status.busy": "2023-06-29T15:34:16.736532Z",
     "iopub.status.idle": "2023-06-29T15:34:16.742394Z",
     "shell.execute_reply": "2023-06-29T15:34:16.741367Z"
    },
    "slideshow": {
     "slide_type": "subslide"
    }
   },
   "outputs": [],
   "source": [
    "import random\n",
    "def roll():\n",
    "    roll = random.randint(1, 6)\n",
    "    print(\"You rolled a \" + str(roll) + \".\")\n",
    "\n",
    "    # don't have total money, can't do anything else\n",
    "    return roll"
   ]
  },
  {
   "cell_type": "code",
   "execution_count": null,
   "id": "bac431a7",
   "metadata": {
    "execution": {
     "iopub.execute_input": "2023-06-29T15:34:16.747487Z",
     "iopub.status.busy": "2023-06-29T15:34:16.746495Z",
     "iopub.status.idle": "2023-06-29T15:34:16.760938Z",
     "shell.execute_reply": "2023-06-29T15:34:16.757056Z"
    }
   },
   "outputs": [],
   "source": [
    "roll()"
   ]
  },
  {
   "cell_type": "markdown",
   "id": "5e4c4242",
   "metadata": {
    "slideshow": {
     "slide_type": "fragment"
    }
   },
   "source": [
    "That `roll` function isn't very helpful. It generates a random number and prints something - it doesn't capture any real logic.  \n",
    "\n",
    "Let's add the total amount of money as a parameter so it can do the calculations."
   ]
  },
  {
   "cell_type": "code",
   "execution_count": null,
   "id": "85906d92",
   "metadata": {
    "execution": {
     "iopub.execute_input": "2023-06-29T15:34:16.766630Z",
     "iopub.status.busy": "2023-06-29T15:34:16.766094Z",
     "iopub.status.idle": "2023-06-29T15:34:16.772910Z",
     "shell.execute_reply": "2023-06-29T15:34:16.771512Z"
    },
    "slideshow": {
     "slide_type": "subslide"
    }
   },
   "outputs": [],
   "source": [
    "def roll(roll_number):\n",
    "    global total_money\n",
    "    roll = random.randint(1, 6)\n",
    "\n",
    "    if(roll == 1):\n",
    "      total_money = total_money / 2\n",
    "\n",
    "    if(roll == 2 or roll == 3 or roll == 4):\n",
    "      total_money = total_money + roll\n",
    "\n",
    "    if(roll == 5):\n",
    "      total_money = total_money + 10\n",
    "\n",
    "    if(roll == 6):\n",
    "      total_money = total_money * 2\n",
    "\n",
    "    print(\"You rolled a \" + str(roll) + \", and now have $\" + str(total_money))\n",
    "    "
   ]
  },
  {
   "cell_type": "code",
   "execution_count": null,
   "id": "a05b1ccd",
   "metadata": {
    "execution": {
     "iopub.execute_input": "2023-06-29T15:34:16.778641Z",
     "iopub.status.busy": "2023-06-29T15:34:16.777914Z",
     "iopub.status.idle": "2023-06-29T15:34:16.784145Z",
     "shell.execute_reply": "2023-06-29T15:34:16.782233Z"
    }
   },
   "outputs": [],
   "source": [
    "total_money = 10\n",
    "roll(3)\n",
    "print(total_money)"
   ]
  },
  {
   "cell_type": "markdown",
   "id": "95744d36",
   "metadata": {
    "slideshow": {
     "slide_type": "subslide"
    }
   },
   "source": [
    "This is better - the `roll` function now contains all the scoring logic.  \n",
    "\n",
    "We can say it **encapsulates** that logic. \n",
    "\n",
    "Users of the `roll` function don't need to know anything about the logic to use it.  "
   ]
  },
  {
   "cell_type": "markdown",
   "id": "dab85c8f",
   "metadata": {
    "slideshow": {
     "slide_type": "fragment"
    }
   },
   "source": [
    "Except... users of the function do need to make sure a global named `total_money` exists. \n",
    "\n",
    "Let's fix that by taking in a parameter, and returning the new total:"
   ]
  },
  {
   "cell_type": "code",
   "execution_count": null,
   "id": "389d4e72",
   "metadata": {
    "execution": {
     "iopub.execute_input": "2023-06-29T15:34:16.792035Z",
     "iopub.status.busy": "2023-06-29T15:34:16.791557Z",
     "iopub.status.idle": "2023-06-29T15:34:16.798984Z",
     "shell.execute_reply": "2023-06-29T15:34:16.797687Z"
    },
    "slideshow": {
     "slide_type": "subslide"
    }
   },
   "outputs": [],
   "source": [
    "def roll(total_money):\n",
    "    roll = random.randint(1, 6)\n",
    "\n",
    "    if(roll == 1):\n",
    "      total_money = total_money / 2\n",
    "\n",
    "    if(roll == 2 or roll == 3 or roll == 4):\n",
    "      total_money = total_money + roll\n",
    "\n",
    "    if(roll == 5):\n",
    "      total_money = total_money + 10\n",
    "\n",
    "    if(roll == 6):\n",
    "      total_money = total_money * 2\n",
    "\n",
    "    print(\"You rolled a \" + str(roll) + \", and now have $\" + str(total_money))\n",
    "    return total_money"
   ]
  },
  {
   "cell_type": "code",
   "execution_count": null,
   "id": "c0718ef6",
   "metadata": {
    "execution": {
     "iopub.execute_input": "2023-06-29T15:34:16.807681Z",
     "iopub.status.busy": "2023-06-29T15:34:16.807109Z",
     "iopub.status.idle": "2023-06-29T15:34:16.813270Z",
     "shell.execute_reply": "2023-06-29T15:34:16.811957Z"
    }
   },
   "outputs": [],
   "source": [
    "print(roll(10))"
   ]
  },
  {
   "cell_type": "markdown",
   "id": "b5f801f9",
   "metadata": {},
   "source": [
    "This is better - the `roll` function is self-contained now, and very hard to misuse.\n",
    "\n",
    "On to our outer game loop:"
   ]
  },
  {
   "cell_type": "code",
   "execution_count": null,
   "id": "f9196123",
   "metadata": {
    "execution": {
     "iopub.execute_input": "2023-06-29T15:34:16.818602Z",
     "iopub.status.busy": "2023-06-29T15:34:16.818178Z",
     "iopub.status.idle": "2023-06-29T15:34:16.931310Z",
     "shell.execute_reply": "2023-06-29T15:34:16.930581Z"
    },
    "tags": [
     "remove-output"
    ]
   },
   "outputs": [],
   "source": [
    "import random\n",
    "\n",
    "print(\"Welcome to the game!\")\n",
    "print(\"If you roll a 1, your money is divided by 2\")\n",
    "print(\"If you roll a 2, 3, or 4, you gain the amount you rolled\")\n",
    "print(\"If you roll a 5, you gain 10\")\n",
    "print(\"If you roll a 6, your money is doubled\")\n",
    "\n",
    "roll_cost = 3.0\n",
    "total_money = 10.0\n",
    "roll_num = 1\n",
    "\n",
    "while True:\n",
    "    if total_money < roll_cost:\n",
    "        print(\"You have $\" + str(total_money) + \". This isn't enough to roll, game over!\")\n",
    "        break\n",
    "        \n",
    "    print(\"You have $\" + str(total_money) + \". Would you like to roll? (y/n)\")\n",
    "    answer = input()\n",
    "    if answer != 'y':\n",
    "        break\n",
    "    \n",
    "    total_money = total_money - 3\n",
    "    print(\"You paid $\" + str(roll_cost) + \" to roll, $\" + str(total_money) + \" left.\")\n",
    "    total_money = roll(total_money)\n",
    "\n",
    "print(\"You ended the game with $\" + str(total_money))"
   ]
  },
  {
   "cell_type": "markdown",
   "id": "b8fffcd3",
   "metadata": {},
   "source": [
    "Combining it all:"
   ]
  },
  {
   "cell_type": "code",
   "execution_count": null,
   "id": "3b896e72",
   "metadata": {
    "execution": {
     "iopub.execute_input": "2023-06-29T15:34:16.936122Z",
     "iopub.status.busy": "2023-06-29T15:34:16.935724Z",
     "iopub.status.idle": "2023-06-29T15:34:16.975463Z",
     "shell.execute_reply": "2023-06-29T15:34:16.973954Z"
    },
    "slideshow": {
     "slide_type": "subslide"
    },
    "tags": [
     "remove-output"
    ]
   },
   "outputs": [],
   "source": [
    "# %load ../../snippets/dice_game_lists.py\n",
    "import random\n",
    "\n",
    "print(\"Welcome to the game!\")\n",
    "print(\"If you roll a 1, your money is divided by 2\")\n",
    "print(\"If you roll a 2, 3, or 4, you gain the amount you rolled\")\n",
    "print(\"If you roll a 5, you gain 10\")\n",
    "print(\"If you roll a 6, your money is doubled\")\n",
    "\n",
    "roll_cost = 3.0\n",
    "total_money = 10.0\n",
    "roll_num = 1\n",
    "\n",
    "def roll(total_money):\n",
    "    roll = random.randint(1, 6)\n",
    "\n",
    "    if(roll == 1):\n",
    "      total_money = total_money / 2\n",
    "\n",
    "    if(roll == 2 or roll == 3 or roll == 4):\n",
    "      total_money = total_money + roll\n",
    "\n",
    "    if(roll == 5):\n",
    "      total_money = total_money + 10\n",
    "\n",
    "    if(roll == 6):\n",
    "      total_money = total_money * 2\n",
    "\n",
    "    print(\"You rolled a \" + str(roll) + \", and now have $\" + str(total_money))\n",
    "    return total_money\n",
    "\n",
    "while True:\n",
    "    if total_money < roll_cost:\n",
    "        print(\"You have $\" + str(total_money) + \". This isn't enough to roll, game over!\")\n",
    "        break\n",
    "        \n",
    "    print(\"You have $\" + str(total_money) + \". Would you like to roll? (y/n)\")\n",
    "    answer = input()\n",
    "    if answer != 'y':\n",
    "        break\n",
    "    \n",
    "    total_money = total_money - 3\n",
    "    print(\"You paid $\" + str(roll_cost) + \" to roll, $\" + str(total_money) + \" left.\")\n",
    "    total_money = roll(total_money)\n",
    "\n",
    "print(\"You ended the game with $\" + str(total_money))\n"
   ]
  },
  {
   "cell_type": "markdown",
   "id": "062f08e7",
   "metadata": {
    "slideshow": {
     "slide_type": "subslide"
    }
   },
   "source": [
    "These slides make this look easy, but even a relatively simple program like this took me several iterations to get working and presentable:\n",
    "* I moved `print`s around a **lot** - in and out of the roll function.\n",
    "  * I originally had the roll function also take a `roll_num` argument so it could print out which roll you were on.\n",
    "* I forgot a lot of `str` casts and only discovered them when my code produced errors.\n",
    "* I started off with a hardcoded roll cost but then decided to make it a variable.\n",
    "\n",
    "... and I've been doing this professionally for 20 years. \n",
    "\n",
    "You rarely write working code on your first try, let alone clean or elegant code. Don't get discouraged, coding takes practice. The more practice you get, the more natural it will feel."
   ]
  }
 ],
 "metadata": {
  "celltoolbar": "Slideshow",
  "kernelspec": {
   "display_name": "Python 3 (ipykernel)",
   "language": "python",
   "name": "python3"
  },
  "language_info": {
   "codemirror_mode": {
    "name": "ipython",
    "version": 3
   },
   "file_extension": ".py",
   "mimetype": "text/x-python",
   "name": "python",
   "nbconvert_exporter": "python",
   "pygments_lexer": "ipython3",
   "version": "3.10.9"
  }
 },
 "nbformat": 4,
 "nbformat_minor": 5
}
