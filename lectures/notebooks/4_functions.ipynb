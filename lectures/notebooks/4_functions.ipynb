{
 "cells": [
  {
   "cell_type": "markdown",
   "id": "1ee8a1d2",
   "metadata": {
    "slideshow": {
     "slide_type": "slide"
    }
   },
   "source": [
    "# Functions\n",
    "\n",
    "<style>\n",
    "section.present > section.present { \n",
    "    max-height: 90%; \n",
    "    overflow-y: scroll;\n",
    "}\n",
    "</style>\n",
    "\n",
    "<small><a href=\"https://colab.research.google.com/github/brandeis-jdelfino/cosi-10a/blob/main/lectures/notebooks/4_functions.ipynb\">Link to interactive slides on Google Colab</a></small>"
   ]
  },
  {
   "cell_type": "markdown",
   "id": "cd8f55ba",
   "metadata": {},
   "source": [
    "To add: cover `main()`"
   ]
  },
  {
   "cell_type": "markdown",
   "id": "ed1371c9",
   "metadata": {
    "slideshow": {
     "slide_type": "slide"
    }
   },
   "source": [
    "**function**: A named group of statements\n",
    "\n",
    "* They are used to:\n",
    "  * Reduce redundancy and code duplication\n",
    "  * Represent the structure of a program\n",
    "* Functions are what make large, complex programs possible to build and maintain."
   ]
  },
  {
   "cell_type": "markdown",
   "id": "74b67395",
   "metadata": {
    "slideshow": {
     "slide_type": "subslide"
    }
   },
   "source": [
    "# Functions by example\n",
    "### Write a program to print the lyrics to \"The Green Grass Grew All Around\"\n",
    "\n",
    "Oh in the woods there was a tree  \n",
    "The prettiest tree  \n",
    "You ever did see  \n",
    "And the tree was in the ground  \n",
    "And the green grass grew all around, all around, and the green grass grew all around  \n",
    "\n",
    "And on that tree  \n",
    "There was a limb  \n",
    "The prettiest limb  \n",
    "That you ever did see  \n",
    "And the limb was on the tree  \n",
    "And the tree was in the ground  \n",
    "And the green grass grew all around, all around, and the green grass grew all around  \n",
    "\n",
    "And on that limb  \n",
    "There was a branch  \n",
    "The prettiest branch  \n",
    "That you ever did see  \n",
    "And the branch was on the limb,  \n",
    "And the limb was on the tree,  \n",
    "And the tree was in the ground  \n",
    "And the green grass grew all around, all around, and the green grass grew all around  \n",
    "\n",
    "And on that branch  \n",
    "There was a nest  \n",
    "The prettiest nest  \n",
    "That you ever did see  \n",
    "And the nest was on the branch  \n",
    "And the branch was on the limb  \n",
    "And the limb was on the tree  \n",
    "And the tree was in the ground  \n",
    "And the green grass grew all around, all around, and the green grass grew all around  \n",
    "\n",
    "And in that nest  \n",
    "There was an egg  \n",
    "The prettiest egg  \n",
    "That you ever did see  \n",
    "And the egg was in the nest  \n",
    "And the nest was on the branch  \n",
    "And the branch was on the limb  \n",
    "And the limb was on the tree  \n",
    "And the tree was in the ground  \n",
    "And the green grass grew all around, all around, and the green grass grew all around  \n",
    "\n",
    "And in that egg  \n",
    "There was a bird  \n",
    "The prettiest bird  \n",
    "That you ever did see  \n",
    "And the bird was in the egg  \n",
    "And the egg was in the nest  \n",
    "And the nest was on the branch  \n",
    "And the branch was on the limb  \n",
    "And the limb was on the tree  \n",
    "And the tree was in the ground  \n",
    "And the green grass grew all around, all around, and the green grass grew all around  "
   ]
  },
  {
   "cell_type": "markdown",
   "id": "a2c01e5a",
   "metadata": {
    "slideshow": {
     "slide_type": "subslide"
    }
   },
   "source": [
    "## A naive solution"
   ]
  },
  {
   "cell_type": "code",
   "execution_count": null,
   "id": "c0461282",
   "metadata": {
    "execution": {
     "iopub.execute_input": "2023-07-20T16:48:07.070107Z",
     "iopub.status.busy": "2023-07-20T16:48:07.069745Z",
     "iopub.status.idle": "2023-07-20T16:48:07.089771Z",
     "shell.execute_reply": "2023-07-20T16:48:07.089001Z"
    }
   },
   "outputs": [],
   "source": [
    "print(\"Oh in the woods there was a tree\")\n",
    "print(\"The prettiest tree\")\n",
    "print(\"You ever did see\")\n",
    "print(\"And the tree was in the ground\")\n",
    "print(\"And the green grass grew all around, all around, and the green grass grew all around\")\n",
    "print()\n",
    "print(\"And on that tree\")\n",
    "print(\"There was a limb\")\n",
    "print(\"The prettiest limb\")\n",
    "print(\"That you ever did see\")\n",
    "print(\"And the limb was on the tree\")\n",
    "print(\"And the tree was in the ground\")\n",
    "print(\"And the green grass grew all around, all around, and the green grass grew all around\")\n",
    "print()\n",
    "print(\"And on that limb\")\n",
    "print(\"There was a branch\")\n",
    "print(\"The prettiest branch\")\n",
    "print(\"That you ever did see\")\n",
    "print(\"And the branch was on the limb,\")\n",
    "print(\"And the limb was on the tree,\")\n",
    "print(\"And the tree was in the ground\")\n",
    "print(\"And the green grass grew all around, all around, and the green grass grew all around\")\n",
    "print()\n",
    "print(\"And on that branch\")\n",
    "print(\"There was a nest\")\n",
    "print(\"The prettiest nest\")\n",
    "print(\"That you ever did see\")\n",
    "print(\"And the nest was on the branch\")\n",
    "print(\"And the branch was on the limb\")\n",
    "print(\"And the limb was on the tree\")\n",
    "print(\"And the tree was in the ground\")\n",
    "print(\"And the green grass grew all around, all around, and the green grass grew all around\")\n",
    "print()\n",
    "print(\"And in that nest\")\n",
    "print(\"There was an egg\")\n",
    "print(\"The prettiest egg\")\n",
    "print(\"That you ever did see\")\n",
    "print(\"And the egg was in the nest\")\n",
    "print(\"And the nest was on the branch\")\n",
    "print(\"And the branch was on the limb\")\n",
    "print(\"And the limb was on the tree\")\n",
    "print(\"And the tree was in the ground\")\n",
    "print(\"And the green grass grew all around, all around, and the green grass grew all around\")\n",
    "print()\n",
    "print(\"And in that egg\")\n",
    "print(\"There was a bird\")\n",
    "print(\"The prettiest bird\")\n",
    "print(\"That you ever did see\")\n",
    "print(\"And the bird was in the egg\")\n",
    "print(\"And the egg was in the nest\")\n",
    "print(\"And the nest was on the branch\")\n",
    "print(\"And the branch was on the limb\")\n",
    "print(\"And the limb was on the tree\")\n",
    "print(\"And the tree was in the ground\")\n",
    "print(\"And the green grass grew all around, all around, and the green grass grew all around\")"
   ]
  },
  {
   "cell_type": "markdown",
   "id": "3934f3fe",
   "metadata": {
    "slideshow": {
     "slide_type": "subslide"
    }
   },
   "source": [
    "## Duplication\n",
    "\n",
    "There is a LOT of duplication in this song.\n",
    "\n",
    "We can \"factor out\" some of this redundancy into re-usable blocks of code (functions). This is similar to how we pulled common bits of code out of the different if/else branches with the progressive income tax calculator.\n",
    "\n",
    "For our first function, we'll pull out the two lines that occur in every verse:\n",
    "\n",
    "\n",
    "> Oh in the woods there was a tree  \n",
    "> The prettiest tree  \n",
    "> You ever did see  \n",
    "> **And the tree was in the ground  \n",
    "> And the green grass grew all around, all around, and the green grass grew all around**\n"
   ]
  },
  {
   "cell_type": "code",
   "execution_count": null,
   "id": "c9a85e44",
   "metadata": {
    "execution": {
     "iopub.execute_input": "2023-07-20T16:48:07.093856Z",
     "iopub.status.busy": "2023-07-20T16:48:07.093506Z",
     "iopub.status.idle": "2023-07-20T16:48:07.099407Z",
     "shell.execute_reply": "2023-07-20T16:48:07.098696Z"
    },
    "slideshow": {
     "slide_type": "subslide"
    }
   },
   "outputs": [],
   "source": [
    "# Our first function:\n",
    "def tree():\n",
    "    print(\"And the tree was in the ground\")\n",
    "    print(\"And the green grass grew all around, all around, and the green grass grew all around\")\n",
    "    print()\n",
    "    \n",
    "print(\"Oh in the woods there was a tree\")\n",
    "print(\"The prettiest tree\")\n",
    "print(\"You ever did see\")\n",
    "tree()\n",
    "print(\"And on that tree\")\n",
    "print(\"There was a limb\")\n",
    "print(\"The prettiest limb\")\n",
    "print(\"That you ever did see\")\n",
    "print(\"And the limb was on the tree\")\n",
    "tree()\n",
    "print(\"And on that limb\")\n",
    "print(\"There was a branch\")\n",
    "print(\"The prettiest branch\")\n",
    "print(\"That you ever did see\")\n",
    "print(\"And the branch was on the limb,\")\n",
    "print(\"And the limb was on the tree,\")\n",
    "tree()\n",
    "# ... "
   ]
  },
  {
   "cell_type": "markdown",
   "id": "3a3d3f13",
   "metadata": {
    "slideshow": {
     "slide_type": "subslide"
    }
   },
   "source": [
    "## Function definition syntax\n",
    "\n",
    "```\n",
    "def <name>():\n",
    "    statement(s)\n",
    "``` \n",
    "\n",
    "* **Defining** a function makes it available for use\n",
    "  * Merely defining a function does not execute any of the statements in the function."
   ]
  },
  {
   "cell_type": "code",
   "execution_count": null,
   "id": "8555460b",
   "metadata": {
    "execution": {
     "iopub.execute_input": "2023-07-20T16:48:07.102840Z",
     "iopub.status.busy": "2023-07-20T16:48:07.102556Z",
     "iopub.status.idle": "2023-07-20T16:48:07.107091Z",
     "shell.execute_reply": "2023-07-20T16:48:07.106076Z"
    }
   },
   "outputs": [],
   "source": [
    "def tree():\n",
    "    print(\"And the tree was in the ground\")\n",
    "    print(\"And the green grass grew all around, all around, and the green grass grew all around\")\n",
    "    print()"
   ]
  },
  {
   "cell_type": "markdown",
   "id": "b2346f64",
   "metadata": {
    "slideshow": {
     "slide_type": "subslide"
    }
   },
   "source": [
    "* **Calling** or **invoking** a function makes the code inside the function run."
   ]
  },
  {
   "cell_type": "code",
   "execution_count": null,
   "id": "575a9446",
   "metadata": {
    "execution": {
     "iopub.execute_input": "2023-07-20T16:48:07.112074Z",
     "iopub.status.busy": "2023-07-20T16:48:07.111684Z",
     "iopub.status.idle": "2023-07-20T16:48:07.116538Z",
     "shell.execute_reply": "2023-07-20T16:48:07.115819Z"
    }
   },
   "outputs": [],
   "source": [
    "def tree():\n",
    "    print(\"And the tree was in the ground\")\n",
    "    print(\"And the green grass grew all around, all around, and the green grass grew all around\")\n",
    "    print()\n",
    "\n",
    "tree()"
   ]
  },
  {
   "cell_type": "markdown",
   "id": "bd99d947",
   "metadata": {
    "slideshow": {
     "slide_type": "subslide"
    }
   },
   "source": [
    "## Let's continue on the song... "
   ]
  },
  {
   "cell_type": "code",
   "execution_count": null,
   "id": "fa2de143",
   "metadata": {
    "execution": {
     "iopub.execute_input": "2023-07-20T16:48:07.120192Z",
     "iopub.status.busy": "2023-07-20T16:48:07.119893Z",
     "iopub.status.idle": "2023-07-20T16:48:07.124865Z",
     "shell.execute_reply": "2023-07-20T16:48:07.124162Z"
    }
   },
   "outputs": [],
   "source": [
    "# ...\n",
    "print(\"And on that tree\")  \n",
    "print(\"There was a limb\")  \n",
    "print(\"The prettiest limb\")  \n",
    "print(\"That you ever did see\")  \n",
    "print(\"And the limb was on the tree\")  \n",
    "tree()  \n",
    "print(\"And on that limb\")  \n",
    "print(\"There was a branch\")  \n",
    "print(\"The prettiest branch\")  \n",
    "print(\"That you ever did see\")  \n",
    "print(\"And the branch was on the limb,\")  \n",
    "print(\"And the limb was on the tree,\")  \n",
    "tree()\n",
    "# ..."
   ]
  },
  {
   "cell_type": "markdown",
   "id": "81bbc9bd",
   "metadata": {},
   "source": [
    "The last two lines (`print(\"And the limb was on the tree\")` and `tree()`) appear together in every verse after the first one. Let's wrap them in a function...\n"
   ]
  },
  {
   "cell_type": "code",
   "execution_count": null,
   "id": "b728645e",
   "metadata": {
    "execution": {
     "iopub.execute_input": "2023-07-20T16:48:07.128831Z",
     "iopub.status.busy": "2023-07-20T16:48:07.128473Z",
     "iopub.status.idle": "2023-07-20T16:48:07.134822Z",
     "shell.execute_reply": "2023-07-20T16:48:07.134077Z"
    },
    "slideshow": {
     "slide_type": "subslide"
    }
   },
   "outputs": [],
   "source": [
    "def tree():\n",
    "    print(\"And the tree was in the ground\")\n",
    "    print(\"And the green grass grew all around, all around, and the green grass grew all around\")\n",
    "    print()\n",
    "    \n",
    "def limb():\n",
    "    print(\"And the limb was on the tree,\")\n",
    "    tree()\n",
    "    \n",
    "print(\"Oh in the woods there was a tree\")\n",
    "print(\"The prettiest tree\")\n",
    "print(\"You ever did see\")\n",
    "tree()\n",
    "print(\"And on that tree\")\n",
    "print(\"There was a limb\")\n",
    "print(\"The prettiest limb\")\n",
    "print(\"That you ever did see\")\n",
    "limb()\n",
    "print(\"And on that limb\")\n",
    "print(\"There was a branch\")\n",
    "print(\"The prettiest branch\")\n",
    "print(\"That you ever did see\")\n",
    "print(\"And the branch was on the limb,\")\n",
    "limb()"
   ]
  },
  {
   "cell_type": "markdown",
   "id": "0851da68",
   "metadata": {
    "slideshow": {
     "slide_type": "subslide"
    }
   },
   "source": [
    "## Functions can call other functions"
   ]
  },
  {
   "cell_type": "code",
   "execution_count": null,
   "id": "03534e3e",
   "metadata": {
    "execution": {
     "iopub.execute_input": "2023-07-20T16:48:07.138849Z",
     "iopub.status.busy": "2023-07-20T16:48:07.138527Z",
     "iopub.status.idle": "2023-07-20T16:48:07.142505Z",
     "shell.execute_reply": "2023-07-20T16:48:07.141828Z"
    }
   },
   "outputs": [],
   "source": [
    "def a():\n",
    "    print(\"a\")\n",
    "\n",
    "def b():\n",
    "    print(\"b1\")\n",
    "    a()\n",
    "    print(\"b2\")\n",
    "    \n",
    "b()"
   ]
  },
  {
   "cell_type": "markdown",
   "id": "154575de",
   "metadata": {
    "slideshow": {
     "slide_type": "subslide"
    }
   },
   "source": [
    "## We can continue breaking our song down..."
   ]
  },
  {
   "cell_type": "code",
   "execution_count": null,
   "id": "d7c28cda",
   "metadata": {
    "execution": {
     "iopub.execute_input": "2023-07-20T16:48:07.146149Z",
     "iopub.status.busy": "2023-07-20T16:48:07.145875Z",
     "iopub.status.idle": "2023-07-20T16:48:07.151894Z",
     "shell.execute_reply": "2023-07-20T16:48:07.151135Z"
    }
   },
   "outputs": [],
   "source": [
    "def tree():\n",
    "    print(\"And the tree was in the ground\")\n",
    "    print(\"And the green grass grew all around, all around, and the green grass grew all around\")\n",
    "    print()\n",
    "    \n",
    "def limb():\n",
    "    print(\"And the limb was on the tree,\")\n",
    "    tree()\n",
    "    \n",
    "def branch():\n",
    "    print(\"And the branch was on the limb,\")\n",
    "    limb()\n",
    "    \n",
    "print(\"Oh in the woods there was a tree\")\n",
    "print(\"The prettiest tree\")\n",
    "print(\"You ever did see\")\n",
    "tree()\n",
    "print(\"And on that tree\")\n",
    "print(\"There was a limb\")\n",
    "print(\"The prettiest limb\")\n",
    "print(\"That you ever did see\")\n",
    "limb()\n",
    "print(\"And on that limb\")\n",
    "print(\"There was a branch\")\n",
    "print(\"The prettiest branch\")\n",
    "print(\"That you ever did see\")\n",
    "branch()\n",
    "print(\"And on that branch\")\n",
    "print(\"There was a nest\")\n",
    "print(\"The prettiest nest\")\n",
    "print(\"That you ever did see\")\n",
    "print(\"And the nest was on the branch\")\n",
    "branch()"
   ]
  },
  {
   "cell_type": "code",
   "execution_count": null,
   "id": "912338c9",
   "metadata": {
    "execution": {
     "iopub.execute_input": "2023-07-20T16:48:07.155610Z",
     "iopub.status.busy": "2023-07-20T16:48:07.155089Z",
     "iopub.status.idle": "2023-07-20T16:48:07.163949Z",
     "shell.execute_reply": "2023-07-20T16:48:07.163203Z"
    },
    "slideshow": {
     "slide_type": "subslide"
    }
   },
   "outputs": [],
   "source": [
    "def tree():\n",
    "    print(\"And the tree was in the ground\")\n",
    "    print(\"And the green grass grew all around, all around, and the green grass grew all around\")\n",
    "    print()\n",
    "    \n",
    "def limb():\n",
    "    print(\"And the limb was on the tree,\")\n",
    "    tree()\n",
    "    \n",
    "def branch():\n",
    "    print(\"And the branch was on the limb,\")\n",
    "    limb()\n",
    "    \n",
    "def nest():\n",
    "    print(\"And the nest was on the branch\")\n",
    "    branch()\n",
    "\n",
    "def egg():\n",
    "    print(\"And the egg was in the nest\")\n",
    "    nest()\n",
    "\n",
    "def bird():\n",
    "    print(\"And the bird was in the egg\")\n",
    "    egg()\n",
    "    \n",
    "print(\"Oh in the woods there was a tree\")\n",
    "print(\"The prettiest tree\")\n",
    "print(\"You ever did see\")\n",
    "tree()\n",
    "print(\"And on that tree\")\n",
    "print(\"There was a limb\")\n",
    "print(\"The prettiest limb\")\n",
    "print(\"That you ever did see\")\n",
    "limb()\n",
    "print(\"And on that limb\")\n",
    "print(\"There was a branch\")\n",
    "print(\"The prettiest branch\")\n",
    "print(\"That you ever did see\")\n",
    "branch()\n",
    "print(\"And on that branch\")\n",
    "print(\"There was a nest\")\n",
    "print(\"The prettiest nest\")\n",
    "print(\"That you ever did see\")\n",
    "nest()\n",
    "print(\"And in that nest\")\n",
    "print(\"There was an egg\")\n",
    "print(\"The prettiest egg\")\n",
    "print(\"That you ever did see\")\n",
    "egg()\n",
    "print(\"And in that egg\")\n",
    "print(\"There was a bird\")\n",
    "print(\"The prettiest bird\")\n",
    "print(\"That you ever did see\")\n",
    "bird()"
   ]
  },
  {
   "cell_type": "markdown",
   "id": "f9d4f100",
   "metadata": {
    "slideshow": {
     "slide_type": "slide"
    }
   },
   "source": [
    "# Functional decomposition\n",
    "\n",
    "* We are **decomposing** our song into smaller pieces.\n",
    "* Decomposing a complicated program into coherent, reusable chunks is an extremely valuable programming skill.\n",
    "* It will come with practice and experience - your first attempts might feel like they create more work, headache, and confusion than they save.\n",
    "* Stick with it, it will pay off!"
   ]
  },
  {
   "cell_type": "markdown",
   "id": "33ef2fc5",
   "metadata": {
    "slideshow": {
     "slide_type": "slide"
    }
   },
   "source": [
    "# Parameters\n",
    "\n",
    "### We still have more duplication in our song\n",
    "\n",
    "And on that **tree**  \n",
    "There was a **limb**  \n",
    "The prettiest **limb**  \n",
    "That you ever did see  \n",
    "\n",
    "vs. \n",
    "\n",
    "And on that **limb**  \n",
    "There was a **branch**  \n",
    "The prettiest **branch**  \n",
    "That you ever did see"
   ]
  },
  {
   "cell_type": "markdown",
   "id": "b090681f",
   "metadata": {
    "slideshow": {
     "slide_type": "subslide"
    }
   },
   "source": [
    "## Parameters\n",
    "\n",
    "Functions can be **parameterized**. \n",
    "\n",
    "```\n",
    "def <name>(parameter1, [parameter2], ...):\n",
    "    statement(s)\n",
    "```\n",
    "\n",
    "* A **parameter** is a variable defined as input to a function. \n",
    "* An **argument** is a value passed to a function when it is called.\n",
    "* This is a fine distinction, and the two terms are often used interchangably. The distinction is generally ok to ignore unless you are in a context where the difference matters (e.g. formal documentation or specifications)."
   ]
  },
  {
   "cell_type": "markdown",
   "id": "d8110e12",
   "metadata": {
    "slideshow": {
     "slide_type": "subslide"
    }
   },
   "source": [
    "## Parameters\n",
    "\n",
    "We can write a parameterized function for the first part of the verses.  "
   ]
  },
  {
   "cell_type": "code",
   "execution_count": null,
   "id": "2a716302",
   "metadata": {
    "execution": {
     "iopub.execute_input": "2023-07-20T16:48:07.167940Z",
     "iopub.status.busy": "2023-07-20T16:48:07.167605Z",
     "iopub.status.idle": "2023-07-20T16:48:07.172805Z",
     "shell.execute_reply": "2023-07-20T16:48:07.171587Z"
    }
   },
   "outputs": [],
   "source": [
    "def verse(first_thing, second_thing):\n",
    "    print(\"And on that \" + first_thing)\n",
    "    print(\"There was a \" + second_thing)\n",
    "    print(\"The prettiest \" + second_thing)\n",
    "    print(\"That you ever did see\")\n",
    "    \n",
    "verse(\"tree\", \"limb\")"
   ]
  },
  {
   "cell_type": "code",
   "execution_count": null,
   "id": "6435a4f7",
   "metadata": {
    "execution": {
     "iopub.execute_input": "2023-07-20T16:48:07.177193Z",
     "iopub.status.busy": "2023-07-20T16:48:07.176899Z",
     "iopub.status.idle": "2023-07-20T16:48:07.184118Z",
     "shell.execute_reply": "2023-07-20T16:48:07.183389Z"
    },
    "slideshow": {
     "slide_type": "subslide"
    }
   },
   "outputs": [],
   "source": [
    "def tree():\n",
    "    print(\"And the tree was in the ground\")\n",
    "    print(\"And the green grass grew all around, all around, and the green grass grew all around\")\n",
    "    print()\n",
    "    \n",
    "def limb():\n",
    "    print(\"And the limb was on the tree,\")\n",
    "    tree()\n",
    "    \n",
    "def branch():\n",
    "    print(\"And the branch was on the limb,\")\n",
    "    limb()\n",
    "    \n",
    "def nest():\n",
    "    print(\"And the nest was on the branch\")\n",
    "    branch()\n",
    "\n",
    "def egg():\n",
    "    print(\"And the egg was in the nest\")\n",
    "    nest()\n",
    "\n",
    "def bird():\n",
    "    print(\"And the bird was in the egg\")\n",
    "    egg()\n",
    "\n",
    "def verse(first_thing, second_thing):\n",
    "    print(\"And on that \" + first_thing)\n",
    "    print(\"There was a \" + second_thing)\n",
    "    print(\"The prettiest \" + second_thing)\n",
    "    print(\"That you ever did see\")\n",
    "    \n",
    "print(\"Oh in the woods there was a tree\")\n",
    "print(\"The prettiest tree\")\n",
    "print(\"You ever did see\")\n",
    "tree()\n",
    "verse(\"tree\", \"limb\")\n",
    "limb()\n",
    "verse(\"limb\", \"branch\")\n",
    "branch()\n",
    "verse(\"branch\", \"nest\")\n",
    "nest()\n",
    "verse(\"nest\", \"egg\")\n",
    "egg()\n",
    "verse(\"egg\", \"bird\")\n",
    "bird()"
   ]
  },
  {
   "cell_type": "markdown",
   "id": "6d471df5",
   "metadata": {
    "slideshow": {
     "slide_type": "subslide"
    }
   },
   "source": [
    "# Wait, that song isn't quite right...\n",
    "\n",
    "The egg verse is special:\n",
    "\n",
    "And **on** that nest  \n",
    "There was **a** egg  \n",
    "The prettiest egg  \n",
    "That you ever did see  \n",
    "\n",
    "One way to fix this would be to write a special function (or just use print statements) for that verse. \n",
    "\n",
    "But... we're learning about functions, so let's keep going."
   ]
  },
  {
   "cell_type": "markdown",
   "id": "5eae094d",
   "metadata": {
    "slideshow": {
     "slide_type": "subslide"
    }
   },
   "source": [
    "We can add one more parameter, `orientation` to our `verse` function:"
   ]
  },
  {
   "cell_type": "code",
   "execution_count": null,
   "id": "eecece39",
   "metadata": {
    "execution": {
     "iopub.execute_input": "2023-07-20T16:48:07.187379Z",
     "iopub.status.busy": "2023-07-20T16:48:07.187086Z",
     "iopub.status.idle": "2023-07-20T16:48:07.191844Z",
     "shell.execute_reply": "2023-07-20T16:48:07.191088Z"
    },
    "slideshow": {
     "slide_type": "-"
    }
   },
   "outputs": [],
   "source": [
    "def verse(first_thing, second_thing, orientation):\n",
    "    print(\"And \" + orientation + \" that \" + first_thing)\n",
    "    print(\"There was a \" + second_thing)\n",
    "    print(\"The prettiest \" + second_thing)\n",
    "    print(\"That you ever did see\")\n",
    "    \n",
    "verse(\"branch\", \"limb\", \"on\")\n",
    "print()\n",
    "verse(\"nest\", \"egg\", \"in\")"
   ]
  },
  {
   "cell_type": "markdown",
   "id": "386188d6",
   "metadata": {},
   "source": [
    "This is kind of annoying though - we have to edit every `verse` call to add another parameter, when only some of the calls actually need special handling."
   ]
  },
  {
   "cell_type": "code",
   "execution_count": null,
   "id": "b210d3f0",
   "metadata": {
    "execution": {
     "iopub.execute_input": "2023-07-20T16:48:07.195633Z",
     "iopub.status.busy": "2023-07-20T16:48:07.195332Z",
     "iopub.status.idle": "2023-07-20T16:48:07.202930Z",
     "shell.execute_reply": "2023-07-20T16:48:07.202221Z"
    },
    "slideshow": {
     "slide_type": "subslide"
    }
   },
   "outputs": [],
   "source": [
    "def tree():\n",
    "    print(\"And the tree was in the ground\")\n",
    "    print(\"And the green grass grew all around, all around, and the green grass grew all around\")\n",
    "    print()\n",
    "    \n",
    "def limb():\n",
    "    print(\"And the limb was on the tree,\")\n",
    "    tree()\n",
    "    \n",
    "def branch():\n",
    "    print(\"And the branch was on the limb,\")\n",
    "    limb()\n",
    "    \n",
    "def nest():\n",
    "    print(\"And the nest was on the branch\")\n",
    "    branch()\n",
    "\n",
    "def egg():\n",
    "    print(\"And the egg was in the nest\")\n",
    "    nest()\n",
    "\n",
    "def bird():\n",
    "    print(\"And the bird was in the egg\")\n",
    "    egg()\n",
    "\n",
    "def verse(first_thing, second_thing, orientation):\n",
    "    print(\"And \" + orientation + \" that \" + first_thing)\n",
    "    print(\"There was a \" + second_thing)\n",
    "    print(\"The prettiest \" + second_thing)\n",
    "    print(\"That you ever did see\")\n",
    "    \n",
    "print(\"Oh in the woods there was a tree\")\n",
    "print(\"The prettiest tree\")\n",
    "print(\"You ever did see\")\n",
    "tree()\n",
    "verse(\"tree\", \"limb\", \"on\")\n",
    "limb()\n",
    "verse(\"limb\", \"branch\", \"on\")\n",
    "branch()\n",
    "verse(\"branch\", \"nest\", \"on\")\n",
    "nest()\n",
    "verse(\"nest\", \"egg\", \"in\")\n",
    "egg()\n",
    "verse(\"egg\", \"bird\", \"in\")\n",
    "bird()"
   ]
  },
  {
   "cell_type": "markdown",
   "id": "a80466c9",
   "metadata": {
    "slideshow": {
     "slide_type": "subslide"
    }
   },
   "source": [
    "## Default values\n",
    "\n",
    "Function parameters can have **default values**. A default value is used if no argument is passed for a parameter.\n",
    "\n",
    "Example:"
   ]
  },
  {
   "cell_type": "code",
   "execution_count": null,
   "id": "f1cb6d2f",
   "metadata": {
    "execution": {
     "iopub.execute_input": "2023-07-20T16:48:07.206285Z",
     "iopub.status.busy": "2023-07-20T16:48:07.206006Z",
     "iopub.status.idle": "2023-07-20T16:48:07.209593Z",
     "shell.execute_reply": "2023-07-20T16:48:07.208790Z"
    }
   },
   "outputs": [],
   "source": [
    "def greet(name = \"guest\"):\n",
    "    print(\"Hello, \" + name + \"!\")"
   ]
  },
  {
   "cell_type": "code",
   "execution_count": null,
   "id": "7b2b3c50",
   "metadata": {
    "execution": {
     "iopub.execute_input": "2023-07-20T16:48:07.212886Z",
     "iopub.status.busy": "2023-07-20T16:48:07.212553Z",
     "iopub.status.idle": "2023-07-20T16:48:07.216446Z",
     "shell.execute_reply": "2023-07-20T16:48:07.215820Z"
    }
   },
   "outputs": [],
   "source": [
    "greet()"
   ]
  },
  {
   "cell_type": "code",
   "execution_count": null,
   "id": "8c147cf0",
   "metadata": {
    "execution": {
     "iopub.execute_input": "2023-07-20T16:48:07.219553Z",
     "iopub.status.busy": "2023-07-20T16:48:07.219284Z",
     "iopub.status.idle": "2023-07-20T16:48:07.222965Z",
     "shell.execute_reply": "2023-07-20T16:48:07.222316Z"
    }
   },
   "outputs": [],
   "source": [
    "greet(\"Joe\")"
   ]
  },
  {
   "cell_type": "markdown",
   "id": "bdf4119e",
   "metadata": {
    "slideshow": {
     "slide_type": "subslide"
    }
   },
   "source": [
    "## Back to the song"
   ]
  },
  {
   "cell_type": "code",
   "execution_count": null,
   "id": "9af9d339",
   "metadata": {
    "execution": {
     "iopub.execute_input": "2023-07-20T16:48:07.226097Z",
     "iopub.status.busy": "2023-07-20T16:48:07.225832Z",
     "iopub.status.idle": "2023-07-20T16:48:07.230041Z",
     "shell.execute_reply": "2023-07-20T16:48:07.229280Z"
    }
   },
   "outputs": [],
   "source": [
    "def verse(first_thing, second_thing, orientation=\"on\"):\n",
    "    print(\"And \" + orientation + \" that \" + first_thing)\n",
    "    print(\"There was a \" + second_thing)\n",
    "    print(\"The prettiest \" + second_thing)\n",
    "    print(\"That you ever did see\")\n",
    "    \n",
    "verse(\"branch\", \"limb\")\n",
    "print()\n",
    "verse(\"nest\", \"egg\", \"in\")"
   ]
  },
  {
   "cell_type": "markdown",
   "id": "7222c828",
   "metadata": {
    "slideshow": {
     "slide_type": "subslide"
    }
   },
   "source": [
    "## Let's fix the grammar"
   ]
  },
  {
   "cell_type": "code",
   "execution_count": null,
   "id": "f89e8a83",
   "metadata": {
    "execution": {
     "iopub.execute_input": "2023-07-20T16:48:07.233328Z",
     "iopub.status.busy": "2023-07-20T16:48:07.233070Z",
     "iopub.status.idle": "2023-07-20T16:48:07.237071Z",
     "shell.execute_reply": "2023-07-20T16:48:07.236523Z"
    }
   },
   "outputs": [],
   "source": [
    "def verse(first_thing, second_thing, orientation=\"on\", connector=\"a\"):\n",
    "    print(\"And \" + orientation + \" that \" + first_thing)\n",
    "    print(\"There was \" + connector + \" \" + second_thing)\n",
    "    print(\"The prettiest \" + second_thing)\n",
    "    print(\"That you ever did see\")\n",
    "    \n",
    "verse(\"nest\", \"egg\", \"in\", \"an\")"
   ]
  },
  {
   "cell_type": "markdown",
   "id": "27d93c9f",
   "metadata": {
    "slideshow": {
     "slide_type": "subslide"
    }
   },
   "source": [
    "##  Calling functions: named parameters\n",
    "\n",
    "Our `verse` function call has gotten a little obtuse:  \n",
    "  \n",
    "`verse(\"nest\", \"egg\", \"in\", \"an\")`  \n",
    "  \n",
    "We can improve the readability.\n"
   ]
  },
  {
   "cell_type": "markdown",
   "id": "5a2c3344",
   "metadata": {
    "slideshow": {
     "slide_type": "subslide"
    }
   },
   "source": [
    "So far, we've called functions with **positional arguments**:"
   ]
  },
  {
   "cell_type": "code",
   "execution_count": null,
   "id": "315cd726",
   "metadata": {
    "execution": {
     "iopub.execute_input": "2023-07-20T16:48:07.240684Z",
     "iopub.status.busy": "2023-07-20T16:48:07.240302Z",
     "iopub.status.idle": "2023-07-20T16:48:07.243857Z",
     "shell.execute_reply": "2023-07-20T16:48:07.243166Z"
    },
    "slideshow": {
     "slide_type": "-"
    }
   },
   "outputs": [],
   "source": [
    "def meet(name1, name2):\n",
    "    print(name1 + \", meet \" + name2 + \".\")"
   ]
  },
  {
   "cell_type": "code",
   "execution_count": null,
   "id": "9c671bb9",
   "metadata": {
    "execution": {
     "iopub.execute_input": "2023-07-20T16:48:07.247025Z",
     "iopub.status.busy": "2023-07-20T16:48:07.246742Z",
     "iopub.status.idle": "2023-07-20T16:48:07.250191Z",
     "shell.execute_reply": "2023-07-20T16:48:07.249601Z"
    }
   },
   "outputs": [],
   "source": [
    "meet(\"Bill\", \"Ted\")"
   ]
  },
  {
   "cell_type": "markdown",
   "id": "d6fd6f62",
   "metadata": {},
   "source": [
    "Functions can also be called with **named arguments**:"
   ]
  },
  {
   "cell_type": "code",
   "execution_count": null,
   "id": "123b2a5d",
   "metadata": {
    "execution": {
     "iopub.execute_input": "2023-07-20T16:48:07.253197Z",
     "iopub.status.busy": "2023-07-20T16:48:07.252938Z",
     "iopub.status.idle": "2023-07-20T16:48:07.256185Z",
     "shell.execute_reply": "2023-07-20T16:48:07.255559Z"
    }
   },
   "outputs": [],
   "source": [
    "meet(name1 = \"Mario\", name2 = \"Luigi\")"
   ]
  },
  {
   "cell_type": "markdown",
   "id": "504844b4",
   "metadata": {
    "slideshow": {
     "slide_type": "subslide"
    }
   },
   "source": [
    "Named arguments can be passed in any order."
   ]
  },
  {
   "cell_type": "code",
   "execution_count": null,
   "id": "577512ef",
   "metadata": {
    "execution": {
     "iopub.execute_input": "2023-07-20T16:48:07.259358Z",
     "iopub.status.busy": "2023-07-20T16:48:07.258897Z",
     "iopub.status.idle": "2023-07-20T16:48:07.262218Z",
     "shell.execute_reply": "2023-07-20T16:48:07.261652Z"
    }
   },
   "outputs": [],
   "source": [
    "meet(name2 = \"your father\", name1 = \"Luke\")"
   ]
  },
  {
   "cell_type": "markdown",
   "id": "cc4001c0",
   "metadata": {
    "slideshow": {
     "slide_type": "subslide"
    }
   },
   "source": [
    "* You can mix named/unnamed arguments in one call, but all positional arguments must come before any named arguments."
   ]
  },
  {
   "cell_type": "code",
   "execution_count": null,
   "id": "5d883859",
   "metadata": {
    "execution": {
     "iopub.execute_input": "2023-07-20T16:48:07.265378Z",
     "iopub.status.busy": "2023-07-20T16:48:07.265102Z",
     "iopub.status.idle": "2023-07-20T16:48:07.269564Z",
     "shell.execute_reply": "2023-07-20T16:48:07.268889Z"
    },
    "slideshow": {
     "slide_type": "-"
    }
   },
   "outputs": [],
   "source": [
    "def menu(breakfast, lunch = \"PB&J\", dinner = \"Ramen\", dessert = \"1 full pint of Ben & Jerry's\"):\n",
    "    print(\"Today's menu: \")\n",
    "    print(\"Breakfast: \" + breakfast)\n",
    "    print(\"Lunch: \" + lunch)\n",
    "    print(\"Dinner: \" + dinner)\n",
    "    print(\"Dessert: \" + dessert)\n",
    "    \n",
    "menu(\"Eggs\")"
   ]
  },
  {
   "cell_type": "code",
   "execution_count": null,
   "id": "e1bcc2e9",
   "metadata": {
    "execution": {
     "iopub.execute_input": "2023-07-20T16:48:07.272791Z",
     "iopub.status.busy": "2023-07-20T16:48:07.272495Z",
     "iopub.status.idle": "2023-07-20T16:48:07.276419Z",
     "shell.execute_reply": "2023-07-20T16:48:07.275638Z"
    }
   },
   "outputs": [],
   "source": [
    "menu(\"Cereal\", dinner = \"Lobster\")"
   ]
  },
  {
   "cell_type": "code",
   "execution_count": null,
   "id": "cd414bc7",
   "metadata": {
    "execution": {
     "iopub.execute_input": "2023-07-20T16:48:07.279904Z",
     "iopub.status.busy": "2023-07-20T16:48:07.279612Z",
     "iopub.status.idle": "2023-07-20T16:48:07.571453Z",
     "shell.execute_reply": "2023-07-20T16:48:07.570671Z"
    },
    "slideshow": {
     "slide_type": "-"
    },
    "tags": [
     "raises-exception"
    ]
   },
   "outputs": [],
   "source": [
    "menu()"
   ]
  },
  {
   "cell_type": "code",
   "execution_count": null,
   "id": "314b394d",
   "metadata": {
    "execution": {
     "iopub.execute_input": "2023-07-20T16:48:07.574769Z",
     "iopub.status.busy": "2023-07-20T16:48:07.574514Z",
     "iopub.status.idle": "2023-07-20T16:48:07.579208Z",
     "shell.execute_reply": "2023-07-20T16:48:07.578542Z"
    },
    "slideshow": {
     "slide_type": "-"
    },
    "tags": [
     "raises-exception"
    ]
   },
   "outputs": [],
   "source": [
    "menu(\"Oatmeal\", dessert = \"Skittles\", \"Ham & Cheese\")"
   ]
  },
  {
   "cell_type": "markdown",
   "id": "9a81130f",
   "metadata": {
    "slideshow": {
     "slide_type": "subslide"
    }
   },
   "source": [
    "## Code style\n",
    "* It's easy to write incomprehensible code by overusing default parameters or mixing named/unnamed arguments.\n",
    "* Opt for clarity over brevity."
   ]
  },
  {
   "cell_type": "markdown",
   "id": "69ed8978",
   "metadata": {
    "slideshow": {
     "slide_type": "subslide"
    }
   },
   "source": [
    "## Extra credit\n",
    "\n",
    "This version uses some things we haven't covered yet, but we can make the code choose between `a` and `an` for us!"
   ]
  },
  {
   "cell_type": "code",
   "execution_count": null,
   "id": "71301bf1",
   "metadata": {
    "execution": {
     "iopub.execute_input": "2023-07-20T16:48:07.582557Z",
     "iopub.status.busy": "2023-07-20T16:48:07.582299Z",
     "iopub.status.idle": "2023-07-20T16:48:07.586588Z",
     "shell.execute_reply": "2023-07-20T16:48:07.585931Z"
    }
   },
   "outputs": [],
   "source": [
    "def verse(first_thing, second_thing, orientation=\"on\"):\n",
    "    print(\"And \" + orientation + \" that \" + first_thing)\n",
    "    connector = \"a\"\n",
    "    # If the first letter of \"second_thing\" is a vowel (a, e, i, o, or u), then use \"an\"\n",
    "    if second_thing[0] in \"aeiou\":\n",
    "        connector = \"an\"\n",
    "    print(\"There was \" + connector + \" \" + second_thing)\n",
    "    print(\"The prettiest \" + second_thing)\n",
    "    print(\"That you ever did see\")"
   ]
  },
  {
   "cell_type": "code",
   "execution_count": null,
   "id": "c61101e3",
   "metadata": {
    "execution": {
     "iopub.execute_input": "2023-07-20T16:48:07.589858Z",
     "iopub.status.busy": "2023-07-20T16:48:07.589566Z",
     "iopub.status.idle": "2023-07-20T16:48:07.594400Z",
     "shell.execute_reply": "2023-07-20T16:48:07.593517Z"
    }
   },
   "outputs": [],
   "source": [
    "verse(\"bird\", \"egg\", orientation=\"on\")"
   ]
  },
  {
   "cell_type": "code",
   "execution_count": null,
   "id": "652e6d57",
   "metadata": {
    "execution": {
     "iopub.execute_input": "2023-07-20T16:48:07.597847Z",
     "iopub.status.busy": "2023-07-20T16:48:07.597514Z",
     "iopub.status.idle": "2023-07-20T16:48:07.600925Z",
     "shell.execute_reply": "2023-07-20T16:48:07.600308Z"
    }
   },
   "outputs": [],
   "source": [
    "verse(\"bird\", \"wing\")"
   ]
  },
  {
   "cell_type": "code",
   "execution_count": null,
   "id": "bebc7ddb",
   "metadata": {
    "execution": {
     "iopub.execute_input": "2023-07-20T16:48:07.603983Z",
     "iopub.status.busy": "2023-07-20T16:48:07.603722Z",
     "iopub.status.idle": "2023-07-20T16:48:07.610449Z",
     "shell.execute_reply": "2023-07-20T16:48:07.609829Z"
    },
    "slideshow": {
     "slide_type": "subslide"
    }
   },
   "outputs": [],
   "source": [
    "# Our final version\n",
    "def tree():\n",
    "    print(\"And the tree was in the ground\")\n",
    "    print(\"And the green grass grew all around, all around, and the green grass grew all around\")\n",
    "    print()\n",
    "    \n",
    "def limb():\n",
    "    print(\"And the limb was on the tree,\")\n",
    "    tree()\n",
    "    \n",
    "def branch():\n",
    "    print(\"And the branch was on the limb,\")\n",
    "    limb()\n",
    "    \n",
    "def nest():\n",
    "    print(\"And the nest was on the branch\")\n",
    "    branch()\n",
    "\n",
    "def egg():\n",
    "    print(\"And the egg was in the nest\")\n",
    "    nest()\n",
    "\n",
    "def bird():\n",
    "    print(\"And the bird was in the egg\")\n",
    "    egg()\n",
    "\n",
    "def verse(first_thing, second_thing, orientation=\"on\"):\n",
    "    print(\"And \" + orientation + \" that \" + first_thing)\n",
    "    connector = \"a\"\n",
    "    # If the first letter of \"second_thing\" is a vowel (a, e, i, o, or u), then use \"an\"\n",
    "    if second_thing[0] in \"aeiou\":\n",
    "        connector = \"an\"\n",
    "    print(\"There was \" + connector + \" \" + second_thing)\n",
    "    print(\"The prettiest \" + second_thing)\n",
    "    print(\"That you ever did see\")\n",
    "\n",
    "def green_grass_song():\n",
    "    print(\"Oh in the woods there was a tree\")\n",
    "    print(\"The prettiest tree\")\n",
    "    print(\"You ever did see\")\n",
    "    tree()\n",
    "    verse(\"tree\", \"limb\")\n",
    "    limb()\n",
    "    verse(\"limb\", \"branch\")\n",
    "    branch()\n",
    "    verse(\"branch\", \"nest\")\n",
    "    nest()\n",
    "    verse(\"nest\", \"egg\", orientation=\"in\")\n",
    "    egg()\n",
    "    verse(\"egg\", \"bird\")\n",
    "    bird()\n",
    "    \n",
    "green_grass_song()"
   ]
  },
  {
   "cell_type": "markdown",
   "id": "735255b6",
   "metadata": {
    "slideshow": {
     "slide_type": "slide"
    }
   },
   "source": [
    "\n",
    "# Returns\n",
    "\n",
    "* Functions can produce values.\n",
    "* Using the `return` keyword in a function makes the function produce a value."
   ]
  },
  {
   "cell_type": "code",
   "execution_count": null,
   "id": "9b69489b",
   "metadata": {
    "execution": {
     "iopub.execute_input": "2023-07-20T16:48:07.613423Z",
     "iopub.status.busy": "2023-07-20T16:48:07.613161Z",
     "iopub.status.idle": "2023-07-20T16:48:07.619314Z",
     "shell.execute_reply": "2023-07-20T16:48:07.618763Z"
    },
    "slideshow": {
     "slide_type": "-"
    }
   },
   "outputs": [],
   "source": [
    "def add(a, b):\n",
    "    return a + b\n",
    "\n",
    "add(1, 2)"
   ]
  },
  {
   "cell_type": "markdown",
   "id": "a65d1489",
   "metadata": {
    "slideshow": {
     "slide_type": "subslide"
    }
   },
   "source": [
    "## Terminology\n",
    "* When a function produces a value, we say it **returns** a value.\n",
    "* The value a function produces is referred to as the **return value**\n",
    "* When the `return` keyword is used in a function, it is referred to as **returning from** the function."
   ]
  },
  {
   "cell_type": "code",
   "execution_count": null,
   "id": "07b36c01",
   "metadata": {
    "execution": {
     "iopub.execute_input": "2023-07-20T16:48:07.623026Z",
     "iopub.status.busy": "2023-07-20T16:48:07.622652Z",
     "iopub.status.idle": "2023-07-20T16:48:07.629499Z",
     "shell.execute_reply": "2023-07-20T16:48:07.628616Z"
    },
    "slideshow": {
     "slide_type": "-"
    }
   },
   "outputs": [],
   "source": [
    "def add(a, b):\n",
    "    return a + b\n",
    "\n",
    "add(1, 2)"
   ]
  },
  {
   "cell_type": "markdown",
   "id": "3b5a33a0",
   "metadata": {},
   "source": [
    "The `add` function **returns** the sum of its two parameters.\n",
    "\n",
    "The **return value** of `add`, when passed the arguments `1` and `2` is: `3`."
   ]
  },
  {
   "cell_type": "markdown",
   "id": "7a4fee7a",
   "metadata": {
    "slideshow": {
     "slide_type": "subslide"
    }
   },
   "source": [
    "## Evaluating\n",
    "\n",
    "Just like other expressions, when a function is **called**, it **evaluates to** a value. The value is whatever is returned from the function.\n",
    "\n",
    "The returned value can be used just like any other value - it can be assigned to a variable, printed, used in a larger expression, etc."
   ]
  },
  {
   "cell_type": "code",
   "execution_count": null,
   "id": "4957a749",
   "metadata": {
    "execution": {
     "iopub.execute_input": "2023-07-20T16:48:07.633620Z",
     "iopub.status.busy": "2023-07-20T16:48:07.633329Z",
     "iopub.status.idle": "2023-07-20T16:48:07.638248Z",
     "shell.execute_reply": "2023-07-20T16:48:07.637387Z"
    },
    "slideshow": {
     "slide_type": "-"
    }
   },
   "outputs": [],
   "source": [
    "def add(a, b):\n",
    "    return a + b\n",
    "\n",
    "sum = add(1, 2)\n",
    "print(sum)\n",
    "print(\"The sum of 1 and 2 is \" + str(sum) + \", but the sum of 1 and 3 is \" + str(add(1, 3)))"
   ]
  },
  {
   "cell_type": "markdown",
   "id": "96614ff4",
   "metadata": {
    "slideshow": {
     "slide_type": "subslide"
    }
   },
   "source": [
    "## Precedence\n",
    "\n",
    "When functions are combined in an expression, they evaluate \"from the inside out\"."
   ]
  },
  {
   "cell_type": "code",
   "execution_count": null,
   "id": "c568aa9d",
   "metadata": {
    "execution": {
     "iopub.execute_input": "2023-07-20T16:48:07.641787Z",
     "iopub.status.busy": "2023-07-20T16:48:07.641477Z",
     "iopub.status.idle": "2023-07-20T16:48:07.646235Z",
     "shell.execute_reply": "2023-07-20T16:48:07.645490Z"
    }
   },
   "outputs": [],
   "source": [
    "add(1, add(2, 3))"
   ]
  },
  {
   "cell_type": "markdown",
   "id": "7781b8fc",
   "metadata": {},
   "source": [
    "The \"inner\" `add` is evaluated first, and the result of it is passed as an argument to the \"outer\" `add`:\n",
    "\n",
    "`add(1, add(2, 3))` ->  \n",
    "`add(1, 5        )` ->  \n",
    "`6`"
   ]
  },
  {
   "cell_type": "code",
   "execution_count": null,
   "id": "5e67c4c9",
   "metadata": {
    "execution": {
     "iopub.execute_input": "2023-07-20T16:48:07.649235Z",
     "iopub.status.busy": "2023-07-20T16:48:07.648988Z",
     "iopub.status.idle": "2023-07-20T16:48:07.653201Z",
     "shell.execute_reply": "2023-07-20T16:48:07.652622Z"
    },
    "slideshow": {
     "slide_type": "subslide"
    }
   },
   "outputs": [],
   "source": [
    "add(add(1, 2), add(add(4, 5), 3))"
   ]
  },
  {
   "cell_type": "markdown",
   "id": "d70022b2",
   "metadata": {},
   "source": [
    "`add(add(1, 2), add(add(4, 5), 3))` ->  \n",
    "`add(3,         add(9,         3))` ->  \n",
    "`add(3,         12               )` ->  \n",
    "`15`"
   ]
  },
  {
   "cell_type": "markdown",
   "id": "ded45698",
   "metadata": {
    "slideshow": {
     "slide_type": "subslide"
    }
   },
   "source": [
    "## None\n",
    "\n",
    "* If you don't specify a return value, a function will return a special value, `None`.\n",
    "* This happens when:\n",
    "  * execution reaches the end of the function without encountering a return statement\n",
    "  * there is a \"bare\" `return` with no value\n",
    "  * `return None` is used explicitly\n",
    "* `None` has its own type - similar to `int`, `str`, `float`. It is an empty, or null value.\n",
    "* It can be used like any other value, e.g. `None` can be assigned to a variable (`a = None`)"
   ]
  },
  {
   "cell_type": "code",
   "execution_count": null,
   "id": "be6edb3d",
   "metadata": {
    "execution": {
     "iopub.execute_input": "2023-07-20T16:48:07.656435Z",
     "iopub.status.busy": "2023-07-20T16:48:07.656182Z",
     "iopub.status.idle": "2023-07-20T16:48:07.659624Z",
     "shell.execute_reply": "2023-07-20T16:48:07.659004Z"
    }
   },
   "outputs": [],
   "source": [
    "def wave():\n",
    "    print(\"/wave\")\n",
    "print(wave())"
   ]
  },
  {
   "cell_type": "markdown",
   "id": "15187a04",
   "metadata": {
    "slideshow": {
     "slide_type": "subslide"
    }
   },
   "source": [
    "## Control flow\n",
    "\n",
    "* When a `return` statement is encountered, the function stops executing.\n",
    "* `return` can be used for flow control"
   ]
  },
  {
   "cell_type": "code",
   "execution_count": null,
   "id": "746ed6da",
   "metadata": {
    "execution": {
     "iopub.execute_input": "2023-07-20T16:48:07.662609Z",
     "iopub.status.busy": "2023-07-20T16:48:07.662369Z",
     "iopub.status.idle": "2023-07-20T16:48:07.665521Z",
     "shell.execute_reply": "2023-07-20T16:48:07.664957Z"
    }
   },
   "outputs": [],
   "source": [
    "def div(a, b):\n",
    "    if b == 0:\n",
    "        return None\n",
    "    return a / b"
   ]
  },
  {
   "cell_type": "code",
   "execution_count": null,
   "id": "cf928a46",
   "metadata": {
    "execution": {
     "iopub.execute_input": "2023-07-20T16:48:07.668306Z",
     "iopub.status.busy": "2023-07-20T16:48:07.668066Z",
     "iopub.status.idle": "2023-07-20T16:48:07.671317Z",
     "shell.execute_reply": "2023-07-20T16:48:07.670800Z"
    }
   },
   "outputs": [],
   "source": [
    "print(div(10, 2))"
   ]
  },
  {
   "cell_type": "code",
   "execution_count": null,
   "id": "ce6e01d5",
   "metadata": {
    "execution": {
     "iopub.execute_input": "2023-07-20T16:48:07.674034Z",
     "iopub.status.busy": "2023-07-20T16:48:07.673796Z",
     "iopub.status.idle": "2023-07-20T16:48:07.677074Z",
     "shell.execute_reply": "2023-07-20T16:48:07.676545Z"
    }
   },
   "outputs": [],
   "source": [
    "print(div(10, 0))"
   ]
  },
  {
   "cell_type": "markdown",
   "id": "c12b6e1f",
   "metadata": {
    "slideshow": {
     "slide_type": "slide"
    }
   },
   "source": [
    "# Call stacks\n",
    "\n",
    "* When a function is called, the execution of the program \"jumps into\" the function. \n",
    "* When the function finishes, execution \"jumps back\" to the place where the function was called from.\n",
    "* The chain of function calls that leads to the current line of code is called the \"call stack\"."
   ]
  },
  {
   "cell_type": "code",
   "execution_count": null,
   "id": "4b278798",
   "metadata": {
    "execution": {
     "iopub.execute_input": "2023-07-20T16:48:07.679897Z",
     "iopub.status.busy": "2023-07-20T16:48:07.679662Z",
     "iopub.status.idle": "2023-07-20T16:48:07.683898Z",
     "shell.execute_reply": "2023-07-20T16:48:07.683382Z"
    },
    "slideshow": {
     "slide_type": "subslide"
    }
   },
   "outputs": [],
   "source": [
    "# %load ../../snippets/call_stacks.py\n",
    "def a():\n",
    "    print(\"a1\")\n",
    "    b()\n",
    "    print(\"a2\")\n",
    "    c()\n",
    "    print(\"a3\")\n",
    "    \n",
    "def b():\n",
    "    print(\"b1\")\n",
    "    c()\n",
    "    print(\"b2\")\n",
    "    \n",
    "def c():\n",
    "    print(\"c1\")\n",
    "    d()\n",
    "    print(\"c2\")\n",
    "\n",
    "def d():\n",
    "    print(\"d\")\n",
    "\n",
    "a()\n"
   ]
  },
  {
   "cell_type": "markdown",
   "id": "51816b40",
   "metadata": {
    "slideshow": {
     "slide_type": "subslide"
    }
   },
   "source": [
    "# Step-thru debugging revisited\n",
    "\n",
    "repl.it: [Lecture 4 (functions) exercises: Call Stacks](https://replit.com/@cosi-10a-fall23/Call-stacks#main.py)"
   ]
  },
  {
   "cell_type": "markdown",
   "id": "614b4478",
   "metadata": {
    "slideshow": {
     "slide_type": "slide"
    }
   },
   "source": [
    "# Scope\n",
    "\n",
    "* A variable's definition is **scoped** to the block of code it is defined in.\n",
    "* A variable defined in a function is only available in that function.\n",
    "* Trying to use the variable outside of its scope is an error."
   ]
  },
  {
   "cell_type": "code",
   "execution_count": null,
   "id": "e01c55c2",
   "metadata": {
    "execution": {
     "iopub.execute_input": "2023-07-20T16:48:07.686938Z",
     "iopub.status.busy": "2023-07-20T16:48:07.686701Z",
     "iopub.status.idle": "2023-07-20T16:48:07.690121Z",
     "shell.execute_reply": "2023-07-20T16:48:07.689547Z"
    }
   },
   "outputs": [],
   "source": [
    "def house():\n",
    "    furniture = \"couch\"\n",
    "    print(furniture)\n",
    "\n",
    "house()"
   ]
  },
  {
   "cell_type": "code",
   "execution_count": null,
   "id": "5b3f9f6e",
   "metadata": {
    "execution": {
     "iopub.execute_input": "2023-07-20T16:48:07.692965Z",
     "iopub.status.busy": "2023-07-20T16:48:07.692728Z",
     "iopub.status.idle": "2023-07-20T16:48:07.709909Z",
     "shell.execute_reply": "2023-07-20T16:48:07.708930Z"
    }
   },
   "outputs": [],
   "source": [
    "def house():\n",
    "    furniture = \"couch\"\n",
    "    print(furniture)\n",
    "print(furniture)"
   ]
  },
  {
   "cell_type": "markdown",
   "id": "35a12c3e",
   "metadata": {
    "slideshow": {
     "slide_type": "subslide"
    }
   },
   "source": [
    "# Scope\n",
    "\n",
    "* In Python, there are technically 4 scopes.\n",
    "* You'll only need to be aware of 2:\n",
    "  * **global** scope: variables defined outside of a function\n",
    "  * **local** : variables defined inside a function\n",
    "  * Remember: variables are defined when they are first assigned to. Their scope is determined by where that first assignment happens."
   ]
  },
  {
   "cell_type": "markdown",
   "id": "9c9024b6",
   "metadata": {
    "slideshow": {
     "slide_type": "fragment"
    }
   },
   "source": [
    "* If you're curious, the other 2 scopes are:\n",
    "  * \"Enclosing\", which applies when functions are declared inside other functions (!)\n",
    "  * \"Built-in\", which covers all the functions and variables that are built into Python. \n",
    "    * For example: `if` and `else` are in the built-in scope."
   ]
  },
  {
   "cell_type": "code",
   "execution_count": null,
   "id": "d2c87426",
   "metadata": {
    "execution": {
     "iopub.execute_input": "2023-07-20T16:48:07.714713Z",
     "iopub.status.busy": "2023-07-20T16:48:07.714379Z",
     "iopub.status.idle": "2023-07-20T16:48:07.718815Z",
     "shell.execute_reply": "2023-07-20T16:48:07.718204Z"
    },
    "slideshow": {
     "slide_type": "subslide"
    }
   },
   "outputs": [],
   "source": [
    "global_var = \"global\"\n",
    "def f():\n",
    "    func_var = \"func\"\n",
    "    if 2 > 1:\n",
    "        inner_var = \"inner\"\n",
    "        print(global_var, func_var, inner_var)\n",
    "f()"
   ]
  },
  {
   "cell_type": "code",
   "execution_count": null,
   "id": "ac2620af",
   "metadata": {
    "execution": {
     "iopub.execute_input": "2023-07-20T16:48:07.722447Z",
     "iopub.status.busy": "2023-07-20T16:48:07.722074Z",
     "iopub.status.idle": "2023-07-20T16:48:07.726553Z",
     "shell.execute_reply": "2023-07-20T16:48:07.725787Z"
    },
    "slideshow": {
     "slide_type": "subslide"
    }
   },
   "outputs": [],
   "source": [
    "global_var = \"global\"\n",
    "def f():\n",
    "    func_var = \"func\"\n",
    "    if 2 > 1:\n",
    "        inner_var = \"inner\"\n",
    "\n",
    "    print(global_var, func_var, inner_var)\n",
    "\n",
    "f()"
   ]
  },
  {
   "cell_type": "code",
   "execution_count": null,
   "id": "067750d8",
   "metadata": {
    "execution": {
     "iopub.execute_input": "2023-07-20T16:48:07.730487Z",
     "iopub.status.busy": "2023-07-20T16:48:07.729781Z",
     "iopub.status.idle": "2023-07-20T16:48:07.746537Z",
     "shell.execute_reply": "2023-07-20T16:48:07.745844Z"
    },
    "tags": [
     "raises-exception"
    ]
   },
   "outputs": [],
   "source": [
    "global_var = \"global\"\n",
    "def f():\n",
    "    func_var = \"func\"\n",
    "    if 2 > 1:\n",
    "        inner_var = \"inner\"\n",
    "\n",
    "print(global_var, func_var, inner_var)\n",
    "f()"
   ]
  },
  {
   "cell_type": "markdown",
   "id": "a97616fa",
   "metadata": {
    "slideshow": {
     "slide_type": "subslide"
    }
   },
   "source": [
    "## Global variables: special snowflakes\n",
    "\n",
    "What does this print?"
   ]
  },
  {
   "cell_type": "code",
   "execution_count": null,
   "id": "93683bf2",
   "metadata": {
    "execution": {
     "iopub.execute_input": "2023-07-20T16:48:07.749885Z",
     "iopub.status.busy": "2023-07-20T16:48:07.749623Z",
     "iopub.status.idle": "2023-07-20T16:48:07.753421Z",
     "shell.execute_reply": "2023-07-20T16:48:07.752796Z"
    }
   },
   "outputs": [],
   "source": [
    "global_var = \"global\"\n",
    "def f():\n",
    "    global_var = \"changed global\"\n",
    "    print(\"Inside func: \" + global_var)\n",
    "    \n",
    "print(\"Outside before func: \" + global_var)\n",
    "f()\n",
    "print(\"Outside after func: \" + global_var)"
   ]
  },
  {
   "cell_type": "markdown",
   "id": "d3b189e5",
   "metadata": {
    "slideshow": {
     "slide_type": "subslide"
    }
   },
   "source": [
    "## Global variables: special snowflakes\n",
    "\n",
    "* Global variables can be **read** from a local scope.\n",
    "* But in order to write to a global variable from a local scope, you must make it explicit by using the `global` keyword.\n",
    "* In the last example, we actually created a new local variable named `global_var`.\n",
    "  * Creating a local variable with the same name as a global variable is referred to as \"shadowing\".\n",
    "  * Don't rely on shadowing on purpose, it will produce confusing code.\n",
    "* This is a common gotcha, you will probably run into this while writing your own code!"
   ]
  },
  {
   "cell_type": "code",
   "execution_count": null,
   "id": "881628b1",
   "metadata": {
    "execution": {
     "iopub.execute_input": "2023-07-20T16:48:07.756522Z",
     "iopub.status.busy": "2023-07-20T16:48:07.756260Z",
     "iopub.status.idle": "2023-07-20T16:48:07.760108Z",
     "shell.execute_reply": "2023-07-20T16:48:07.759520Z"
    },
    "slideshow": {
     "slide_type": "subslide"
    }
   },
   "outputs": [],
   "source": [
    "global_var = \"global\"\n",
    "def f():\n",
    "    global global_var\n",
    "    global_var = \"changed global\"\n",
    "    print(\"Inside func 2: \" + global_var)\n",
    "\n",
    "print(\"Outside before func: \" + global_var)\n",
    "f()\n",
    "print(\"Outside after func: \" + global_var)"
   ]
  },
  {
   "cell_type": "markdown",
   "id": "c7ee14d7",
   "metadata": {},
   "source": [
    "TODO: Either replace this, or replace the problem set exercise..."
   ]
  },
  {
   "cell_type": "markdown",
   "id": "2db5688b",
   "metadata": {
    "slideshow": {
     "slide_type": "slide"
    }
   },
   "source": [
    "# Exercise\n",
    "\n",
    "Let's revisit our dice game now that we have loops and functions.\n",
    "\n",
    "A reminder on the rules:\n",
    "\n",
    "* The player rolls a die repeatedly. \n",
    "* If they roll a 1, their money is halved\n",
    "* If they roll a 2, 3, 4, they gain dollars equal to the roll\n",
    "* If they roll a 5, they gain \\\\$10\n",
    "* If they roll a 6, their money is doubled.\n",
    "\n",
    "In the previous version, we hardcoded 5 rolls. Now, the player will start with $10, each roll will cost \\\\$3, and they can roll as many times as they want. The game ends when they stop, or can't afford to roll."
   ]
  },
  {
   "cell_type": "markdown",
   "id": "b635e920",
   "metadata": {
    "slideshow": {
     "slide_type": "subslide"
    }
   },
   "source": [
    "Let's **decompose** again. The main parts of the game are:\n",
    "* A single roll\n",
    "* The outer game loop\n",
    "\n",
    "A roll function takes some thought:\n",
    "* Does it need to know the total amount of money the player has? \n",
    "* Will it update the total on its own, or will the code calling the function handle that?\n",
    "\n",
    "Let's try to keep it self-contained first:"
   ]
  },
  {
   "cell_type": "code",
   "execution_count": null,
   "id": "62fa2b4b",
   "metadata": {
    "execution": {
     "iopub.execute_input": "2023-07-20T16:48:07.763468Z",
     "iopub.status.busy": "2023-07-20T16:48:07.763172Z",
     "iopub.status.idle": "2023-07-20T16:48:07.767463Z",
     "shell.execute_reply": "2023-07-20T16:48:07.766480Z"
    },
    "slideshow": {
     "slide_type": "subslide"
    }
   },
   "outputs": [],
   "source": [
    "import random\n",
    "def roll():\n",
    "    roll = random.randint(1, 6)\n",
    "    print(\"You rolled a \" + str(roll) + \".\")\n",
    "\n",
    "    # don't have total money, can't do anything else\n",
    "    return roll"
   ]
  },
  {
   "cell_type": "code",
   "execution_count": null,
   "id": "bac431a7",
   "metadata": {
    "execution": {
     "iopub.execute_input": "2023-07-20T16:48:07.770697Z",
     "iopub.status.busy": "2023-07-20T16:48:07.770417Z",
     "iopub.status.idle": "2023-07-20T16:48:07.775027Z",
     "shell.execute_reply": "2023-07-20T16:48:07.774344Z"
    }
   },
   "outputs": [],
   "source": [
    "roll()"
   ]
  },
  {
   "cell_type": "markdown",
   "id": "5e4c4242",
   "metadata": {
    "slideshow": {
     "slide_type": "fragment"
    }
   },
   "source": [
    "That `roll` function isn't very helpful. It generates a random number and prints something - it doesn't capture any real logic.  \n",
    "\n",
    "Let's add the total amount of money as a parameter so it can do the calculations."
   ]
  },
  {
   "cell_type": "code",
   "execution_count": null,
   "id": "85906d92",
   "metadata": {
    "execution": {
     "iopub.execute_input": "2023-07-20T16:48:07.778134Z",
     "iopub.status.busy": "2023-07-20T16:48:07.777881Z",
     "iopub.status.idle": "2023-07-20T16:48:07.782210Z",
     "shell.execute_reply": "2023-07-20T16:48:07.781575Z"
    },
    "slideshow": {
     "slide_type": "subslide"
    }
   },
   "outputs": [],
   "source": [
    "def roll(roll_number):\n",
    "    global total_money\n",
    "    roll = random.randint(1, 6)\n",
    "\n",
    "    if(roll == 1):\n",
    "      total_money = total_money / 2\n",
    "\n",
    "    if(roll == 2 or roll == 3 or roll == 4):\n",
    "      total_money = total_money + roll\n",
    "\n",
    "    if(roll == 5):\n",
    "      total_money = total_money + 10\n",
    "\n",
    "    if(roll == 6):\n",
    "      total_money = total_money * 2\n",
    "\n",
    "    print(\"You rolled a \" + str(roll) + \", and now have $\" + str(total_money))\n",
    "    "
   ]
  },
  {
   "cell_type": "code",
   "execution_count": null,
   "id": "a05b1ccd",
   "metadata": {
    "execution": {
     "iopub.execute_input": "2023-07-20T16:48:07.785320Z",
     "iopub.status.busy": "2023-07-20T16:48:07.785032Z",
     "iopub.status.idle": "2023-07-20T16:48:07.788626Z",
     "shell.execute_reply": "2023-07-20T16:48:07.787986Z"
    }
   },
   "outputs": [],
   "source": [
    "total_money = 10\n",
    "roll(3)\n",
    "print(total_money)"
   ]
  },
  {
   "cell_type": "markdown",
   "id": "95744d36",
   "metadata": {
    "slideshow": {
     "slide_type": "subslide"
    }
   },
   "source": [
    "This is better - the `roll` function now contains all the scoring logic.  \n",
    "\n",
    "We can say it **encapsulates** that logic. \n",
    "\n",
    "Users of the `roll` function don't need to know anything about the logic to use it.  "
   ]
  },
  {
   "cell_type": "markdown",
   "id": "dab85c8f",
   "metadata": {
    "slideshow": {
     "slide_type": "fragment"
    }
   },
   "source": [
    "Except... users of the function do need to make sure a global named `total_money` exists. \n",
    "\n",
    "Let's fix that by taking in a parameter, and returning the new total:"
   ]
  },
  {
   "cell_type": "code",
   "execution_count": null,
   "id": "389d4e72",
   "metadata": {
    "execution": {
     "iopub.execute_input": "2023-07-20T16:48:07.791826Z",
     "iopub.status.busy": "2023-07-20T16:48:07.791483Z",
     "iopub.status.idle": "2023-07-20T16:48:07.795992Z",
     "shell.execute_reply": "2023-07-20T16:48:07.795350Z"
    },
    "slideshow": {
     "slide_type": "subslide"
    }
   },
   "outputs": [],
   "source": [
    "def roll(total_money):\n",
    "    roll = random.randint(1, 6)\n",
    "\n",
    "    if(roll == 1):\n",
    "      total_money = total_money / 2\n",
    "\n",
    "    if(roll == 2 or roll == 3 or roll == 4):\n",
    "      total_money = total_money + roll\n",
    "\n",
    "    if(roll == 5):\n",
    "      total_money = total_money + 10\n",
    "\n",
    "    if(roll == 6):\n",
    "      total_money = total_money * 2\n",
    "\n",
    "    print(\"You rolled a \" + str(roll) + \", and now have $\" + str(total_money))\n",
    "    return total_money"
   ]
  },
  {
   "cell_type": "code",
   "execution_count": null,
   "id": "c0718ef6",
   "metadata": {
    "execution": {
     "iopub.execute_input": "2023-07-20T16:48:07.798974Z",
     "iopub.status.busy": "2023-07-20T16:48:07.798702Z",
     "iopub.status.idle": "2023-07-20T16:48:07.802135Z",
     "shell.execute_reply": "2023-07-20T16:48:07.801419Z"
    }
   },
   "outputs": [],
   "source": [
    "print(roll(10))"
   ]
  },
  {
   "cell_type": "markdown",
   "id": "b5f801f9",
   "metadata": {},
   "source": [
    "This is better - the `roll` function is self-contained now, and very hard to misuse.\n",
    "\n",
    "On to our outer game loop:"
   ]
  },
  {
   "cell_type": "code",
   "execution_count": null,
   "id": "f9196123",
   "metadata": {
    "execution": {
     "iopub.execute_input": "2023-07-20T16:48:07.805212Z",
     "iopub.status.busy": "2023-07-20T16:48:07.804954Z",
     "iopub.status.idle": "2023-07-20T16:48:07.889190Z",
     "shell.execute_reply": "2023-07-20T16:48:07.888380Z"
    },
    "tags": [
     "remove-output"
    ]
   },
   "outputs": [],
   "source": [
    "import random\n",
    "\n",
    "print(\"Welcome to the game!\")\n",
    "print(\"If you roll a 1, your money is divided by 2\")\n",
    "print(\"If you roll a 2, 3, or 4, you gain the amount you rolled\")\n",
    "print(\"If you roll a 5, you gain 10\")\n",
    "print(\"If you roll a 6, your money is doubled\")\n",
    "\n",
    "roll_cost = 3.0\n",
    "total_money = 10.0\n",
    "roll_num = 1\n",
    "\n",
    "while True:\n",
    "    if total_money < roll_cost:\n",
    "        print(\"You have $\" + str(total_money) + \". This isn't enough to roll, game over!\")\n",
    "        break\n",
    "        \n",
    "    print(\"You have $\" + str(total_money) + \". Would you like to roll? (y/n)\")\n",
    "    answer = input()\n",
    "    if answer != 'y':\n",
    "        break\n",
    "    \n",
    "    total_money = total_money - 3\n",
    "    print(\"You paid $\" + str(roll_cost) + \" to roll, $\" + str(total_money) + \" left.\")\n",
    "    total_money = roll(total_money)\n",
    "\n",
    "print(\"You ended the game with $\" + str(total_money))"
   ]
  },
  {
   "cell_type": "markdown",
   "id": "b8fffcd3",
   "metadata": {},
   "source": [
    "Combining it all:"
   ]
  },
  {
   "cell_type": "code",
   "execution_count": null,
   "id": "3b896e72",
   "metadata": {
    "execution": {
     "iopub.execute_input": "2023-07-20T16:48:07.892327Z",
     "iopub.status.busy": "2023-07-20T16:48:07.892065Z",
     "iopub.status.idle": "2023-07-20T16:48:07.925762Z",
     "shell.execute_reply": "2023-07-20T16:48:07.924184Z"
    },
    "slideshow": {
     "slide_type": "subslide"
    },
    "tags": [
     "remove-output"
    ]
   },
   "outputs": [],
   "source": [
    "# %load ../../snippets/dice_game_lists.py\n",
    "import random\n",
    "\n",
    "print(\"Welcome to the game!\")\n",
    "print(\"If you roll a 1, your money is divided by 2\")\n",
    "print(\"If you roll a 2, 3, or 4, you gain the amount you rolled\")\n",
    "print(\"If you roll a 5, you gain 10\")\n",
    "print(\"If you roll a 6, your money is doubled\")\n",
    "\n",
    "roll_cost = 3.0\n",
    "total_money = 10.0\n",
    "roll_num = 1\n",
    "\n",
    "def roll(total_money):\n",
    "    roll = random.randint(1, 6)\n",
    "\n",
    "    if(roll == 1):\n",
    "      total_money = total_money / 2\n",
    "\n",
    "    if(roll == 2 or roll == 3 or roll == 4):\n",
    "      total_money = total_money + roll\n",
    "\n",
    "    if(roll == 5):\n",
    "      total_money = total_money + 10\n",
    "\n",
    "    if(roll == 6):\n",
    "      total_money = total_money * 2\n",
    "\n",
    "    print(\"You rolled a \" + str(roll) + \", and now have $\" + str(total_money))\n",
    "    return total_money\n",
    "\n",
    "while True:\n",
    "    if total_money < roll_cost:\n",
    "        print(\"You have $\" + str(total_money) + \". This isn't enough to roll, game over!\")\n",
    "        break\n",
    "        \n",
    "    print(\"You have $\" + str(total_money) + \". Would you like to roll? (y/n)\")\n",
    "    answer = input()\n",
    "    if answer != 'y':\n",
    "        break\n",
    "    \n",
    "    total_money = total_money - 3\n",
    "    print(\"You paid $\" + str(roll_cost) + \" to roll, $\" + str(total_money) + \" left.\")\n",
    "    total_money = roll(total_money)\n",
    "\n",
    "print(\"You ended the game with $\" + str(total_money))\n"
   ]
  },
  {
   "cell_type": "markdown",
   "id": "062f08e7",
   "metadata": {
    "slideshow": {
     "slide_type": "subslide"
    }
   },
   "source": [
    "These slides make this look easy, but even a relatively simple program like this took me several iterations to get working and presentable:\n",
    "* I moved `print`s around a **lot** - in and out of the roll function.\n",
    "  * I originally had the roll function also take a `roll_num` argument so it could print out which roll you were on.\n",
    "* I forgot a lot of `str` casts and only discovered them when my code produced errors.\n",
    "* I started off with a hardcoded roll cost but then decided to make it a variable.\n",
    "\n",
    "... and I've been doing this professionally for 20 years. \n",
    "\n",
    "You rarely write working code on your first try, let alone clean or elegant code. Don't get discouraged, coding takes practice. The more practice you get, the more natural it will feel."
   ]
  }
 ],
 "metadata": {
  "celltoolbar": "Slideshow",
  "kernelspec": {
   "display_name": "Python 3 (ipykernel)",
   "language": "python",
   "name": "python3"
  },
  "language_info": {
   "codemirror_mode": {
    "name": "ipython",
    "version": 3
   },
   "file_extension": ".py",
   "mimetype": "text/x-python",
   "name": "python",
   "nbconvert_exporter": "python",
   "pygments_lexer": "ipython3",
   "version": "3.10.9"
  }
 },
 "nbformat": 4,
 "nbformat_minor": 5
}
