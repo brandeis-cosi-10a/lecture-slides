{
 "cells": [
  {
   "cell_type": "markdown",
   "id": "1ee8a1d2",
   "metadata": {
    "slideshow": {
     "slide_type": "slide"
    }
   },
   "source": [
    "# Exceptions\n",
    "\n",
    "<style>\n",
    "section.present > section.present { \n",
    "    max-height: 90%; \n",
    "    overflow-y: scroll;\n",
    "}\n",
    "</style>"
   ]
  },
  {
   "cell_type": "markdown",
   "id": "f3cea000",
   "metadata": {
    "slideshow": {
     "slide_type": "slide"
    }
   },
   "source": [
    "## Exercise\n",
    "\n",
    "Write a function that checks whether a string variable can be converted to an float"
   ]
  },
  {
   "cell_type": "code",
   "execution_count": null,
   "id": "31088917",
   "metadata": {},
   "outputs": [],
   "source": [
    "# attempt 1\n",
    "def is_valid_float(value):\n",
    "    # isdigit() is a string method that returns True if all characters in the string are digits\n",
    "    return value.isdigit()"
   ]
  },
  {
   "cell_type": "code",
   "execution_count": null,
   "id": "7367a943",
   "metadata": {},
   "outputs": [],
   "source": [
    "is_valid_float(\"1\")"
   ]
  },
  {
   "cell_type": "code",
   "execution_count": null,
   "id": "082048c8",
   "metadata": {},
   "outputs": [],
   "source": [
    "is_valid_float(\"1.0\")"
   ]
  },
  {
   "cell_type": "code",
   "execution_count": null,
   "id": "a6922052",
   "metadata": {
    "slideshow": {
     "slide_type": "subslide"
    }
   },
   "outputs": [],
   "source": [
    "# attempt 2\n",
    "def is_valid_float(value):\n",
    "    for char in value:\n",
    "        if not (char.isdigit() or char == '.'):\n",
    "            return False\n",
    "    return True"
   ]
  },
  {
   "cell_type": "code",
   "execution_count": null,
   "id": "7b6fc5ae",
   "metadata": {},
   "outputs": [],
   "source": [
    "is_valid_float(\"1\")"
   ]
  },
  {
   "cell_type": "code",
   "execution_count": null,
   "id": "44a18448",
   "metadata": {},
   "outputs": [],
   "source": [
    "is_valid_float(\"1.0\")"
   ]
  },
  {
   "cell_type": "markdown",
   "id": "80f5dc82",
   "metadata": {
    "slideshow": {
     "slide_type": "subslide"
    }
   },
   "source": [
    "But wait..."
   ]
  },
  {
   "cell_type": "code",
   "execution_count": null,
   "id": "c72a4f92",
   "metadata": {},
   "outputs": [],
   "source": [
    "is_valid_float(\"-1.0\")"
   ]
  },
  {
   "cell_type": "code",
   "execution_count": null,
   "id": "9a5dab19",
   "metadata": {},
   "outputs": [],
   "source": [
    "is_valid_float(\"1.0.0\")"
   ]
  },
  {
   "cell_type": "markdown",
   "id": "97c6e1c6",
   "metadata": {
    "slideshow": {
     "slide_type": "fragment"
    }
   },
   "source": [
    "We could keep going, but there's an easier way..."
   ]
  },
  {
   "cell_type": "markdown",
   "id": "35e21c4f",
   "metadata": {
    "slideshow": {
     "slide_type": "slide"
    }
   },
   "source": [
    "# Exceptions"
   ]
  },
  {
   "cell_type": "code",
   "execution_count": null,
   "id": "04bfe926",
   "metadata": {
    "tags": [
     "raises-exception"
    ]
   },
   "outputs": [],
   "source": [
    "float(\"abc\")"
   ]
  },
  {
   "cell_type": "markdown",
   "id": "ccdc344e",
   "metadata": {},
   "source": [
    "This code raises a `ValueError`, which is an **exception**. There are many types of exceptions.\n",
    "\n",
    "An **exception** is the result of an error detected while a program is running.\n",
    "\n",
    "We say an exception is **raised** when an error occurs.\n",
    "\n",
    "Exceptions can be **handled**, or **caught**.\n",
    "\n",
    "**Unhandled** exceptions will terminate the program."
   ]
  },
  {
   "cell_type": "markdown",
   "id": "d10ca8b8",
   "metadata": {
    "slideshow": {
     "slide_type": "subslide"
    }
   },
   "source": [
    "## Handling exceptions\n",
    "\n",
    "You can use the `try` and `except` keywords in Python to catch exceptions."
   ]
  },
  {
   "cell_type": "code",
   "execution_count": null,
   "id": "e2706fcb",
   "metadata": {},
   "outputs": [],
   "source": [
    "try:\n",
    "    x = float(\"1.0\")\n",
    "except ValueError:\n",
    "    print(\"Couldn't convert!\")\n",
    "    x = None\n",
    "print(x)"
   ]
  },
  {
   "cell_type": "code",
   "execution_count": null,
   "id": "6a5d8d42",
   "metadata": {},
   "outputs": [],
   "source": [
    "try:\n",
    "    x = float(\"abc\")\n",
    "except ValueError:\n",
    "    print(\"Couldn't convert!\")\n",
    "    x = None\n",
    "print(x)"
   ]
  },
  {
   "cell_type": "markdown",
   "id": "688b0c19",
   "metadata": {
    "slideshow": {
     "slide_type": "subslide"
    }
   },
   "source": [
    "So, returning to our invalid float detector... We can rely on all the checking that the conversion already does for us by just catching the exception!"
   ]
  },
  {
   "cell_type": "code",
   "execution_count": null,
   "id": "62cd6e89",
   "metadata": {},
   "outputs": [],
   "source": [
    "def is_valid_float(value):\n",
    "    try:\n",
    "        x = float(value)\n",
    "    except ValueError:\n",
    "        return False\n",
    "    return True"
   ]
  },
  {
   "cell_type": "code",
   "execution_count": null,
   "id": "ac3db781",
   "metadata": {},
   "outputs": [],
   "source": [
    "is_valid_float(\"1\")"
   ]
  },
  {
   "cell_type": "code",
   "execution_count": null,
   "id": "d2e282f4",
   "metadata": {},
   "outputs": [],
   "source": [
    "is_valid_float(\"1.0\")"
   ]
  },
  {
   "cell_type": "code",
   "execution_count": null,
   "id": "dc335c11",
   "metadata": {},
   "outputs": [],
   "source": [
    "is_valid_float(\"-1.0\")"
   ]
  },
  {
   "cell_type": "code",
   "execution_count": null,
   "id": "6dfa5228",
   "metadata": {},
   "outputs": [],
   "source": [
    "is_valid_float(\"1.0.0\")"
   ]
  },
  {
   "cell_type": "markdown",
   "id": "45dd00a0",
   "metadata": {
    "slideshow": {
     "slide_type": "subslide"
    }
   },
   "source": [
    "There are many possible variations of try/except blocks. We're only going to cover the most basic form:\n",
    "\n",
    "```\n",
    "try:\n",
    "  <statements>\n",
    "except <error type>:\n",
    "  <statements>\n",
    "```"
   ]
  },
  {
   "cell_type": "markdown",
   "id": "7bf141be",
   "metadata": {
    "slideshow": {
     "slide_type": "subslide"
    }
   },
   "source": [
    "The `error type` in the `except` clause specifies what kind of error to catch. Other types of errors are not caught."
   ]
  },
  {
   "cell_type": "code",
   "execution_count": null,
   "id": "488618c6",
   "metadata": {
    "tags": [
     "raises-exception"
    ]
   },
   "outputs": [],
   "source": [
    "try:\n",
    "    x = float(\"abc\")\n",
    "    y = x / 0\n",
    "except ValueError:\n",
    "    print(\"Couldn't convert!\")\n",
    "except ZeroDivisionError:\n",
    "    print(\"Couldn't divide!\")\n",
    "print(\"x = \" + str(x))"
   ]
  },
  {
   "cell_type": "markdown",
   "id": "49947dea",
   "metadata": {
    "slideshow": {
     "slide_type": "subslide"
    }
   },
   "source": [
    "## Raising exceptions\n",
    "\n",
    "You can raise your own exceptions with the `raise` keyword.\n",
    "\n",
    "You can raise a generic `Exception`, a more specific type of exception ([built in exception type documentation](https://docs.python.org/3/library/exceptions.html#concrete-exceptions)), or even an exception type you define yourself (although we won't cover this)."
   ]
  },
  {
   "cell_type": "code",
   "execution_count": null,
   "id": "618bc077",
   "metadata": {
    "tags": [
     "raises-exception"
    ]
   },
   "outputs": [],
   "source": [
    "def be_exceptional():\n",
    "    print(\"before exception\")\n",
    "    raise Exception(\"this is a description\")\n",
    "    print(\"after exception\")\n",
    "\n",
    "be_exceptional()"
   ]
  },
  {
   "cell_type": "markdown",
   "id": "a226df11",
   "metadata": {
    "slideshow": {
     "slide_type": "subslide"
    }
   },
   "source": [
    "## \"Bubbling up\"\n",
    "\n",
    "Recall the \"call stack\" from the Functions lecture: the chain of function calls that leads to the current line of code is called the \"call stack\".\n",
    "\n",
    "Exceptions \"bubble up\" the call stack - they interrupt execution of each function in the call stack until they are handled, or reach the top (and terminate the program). \n",
    "\n",
    "Once a function is interrupted by an exception, the rest of it is skipped, even if a function higher in the call stack handles the exception."
   ]
  },
  {
   "cell_type": "code",
   "execution_count": null,
   "id": "a093677f",
   "metadata": {
    "slideshow": {
     "slide_type": "-"
    }
   },
   "outputs": [],
   "source": [
    "def a():\n",
    "    print(\"a1\")\n",
    "    b()\n",
    "    print(\"a2\")\n",
    "\n",
    "def b():\n",
    "    print(\"b1\")\n",
    "    c()\n",
    "    print(\"b2\")\n",
    "    \n",
    "def c():\n",
    "    print(\"c1\")\n",
    "    print(\"c2\")\n",
    "\n",
    "a()"
   ]
  },
  {
   "cell_type": "code",
   "execution_count": null,
   "id": "953fa46b",
   "metadata": {
    "slideshow": {
     "slide_type": "subslide"
    },
    "tags": [
     "raises-exception"
    ]
   },
   "outputs": [],
   "source": [
    "def a():\n",
    "    print(\"a1\")\n",
    "    b()\n",
    "    print(\"a2\")\n",
    "\n",
    "def b():\n",
    "    print(\"b1\")\n",
    "    c()\n",
    "    print(\"b2\")\n",
    "    \n",
    "def c():\n",
    "    print(\"c1\")\n",
    "    raise ValueError\n",
    "    print(\"c2\")\n",
    "\n",
    "a()"
   ]
  },
  {
   "cell_type": "code",
   "execution_count": null,
   "id": "8d0e3995",
   "metadata": {
    "slideshow": {
     "slide_type": "subslide"
    }
   },
   "outputs": [],
   "source": [
    "def a():\n",
    "    print(\"a1\")\n",
    "    try:\n",
    "        b()\n",
    "    except ValueError:\n",
    "        print(\"caught ValueError\")\n",
    "    print(\"a2\")\n",
    "\n",
    "def b():\n",
    "    print(\"b1\")\n",
    "    c()\n",
    "    print(\"b2\")\n",
    "    \n",
    "def c():\n",
    "    print(\"c1\")\n",
    "    raise ValueError\n",
    "    print(\"c2\")\n",
    "\n",
    "a()"
   ]
  },
  {
   "cell_type": "markdown",
   "id": "628052ad",
   "metadata": {
    "slideshow": {
     "slide_type": "subslide"
    }
   },
   "source": [
    "# Exceptions Best Practices \n",
    "\n",
    "Some tips for using exceptions safely and effectively:\n",
    "* Put the least possible code in your `try/except` blocks. \n",
    "  * If you wrap large portions of code in a `try/except` block, you won't know where the errors are coming from, and may mishandle them.\n",
    "* Don't blindly \"swallow\" exceptions. \n",
    "  * If your code can't recover from the error you're catching, it's better to have your program error out than continue on to do something unexpected.\n",
    "* Be cautious using `except Exception`\n",
    "  * `Exception` is actually a general type that matches (almost) all other exception types. If you use this, you may catch and swallow errors that you can't actually recover from.\n",
    "  * When possible, catch the most specific type of exception you can."
   ]
  }
 ],
 "metadata": {
  "celltoolbar": "Slideshow",
  "kernelspec": {
   "display_name": "Python 3 (ipykernel)",
   "language": "python",
   "name": "python3"
  },
  "language_info": {
   "codemirror_mode": {
    "name": "ipython",
    "version": 3
   },
   "file_extension": ".py",
   "mimetype": "text/x-python",
   "name": "python",
   "nbconvert_exporter": "python",
   "pygments_lexer": "ipython3",
   "version": "3.9.6"
  }
 },
 "nbformat": 4,
 "nbformat_minor": 5
}
