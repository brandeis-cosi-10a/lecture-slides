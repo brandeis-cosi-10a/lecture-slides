{
 "cells": [
  {
   "cell_type": "markdown",
   "id": "1ee8a1d2",
   "metadata": {
    "slideshow": {
     "slide_type": "slide"
    }
   },
   "source": [
    "# Class Design Exercise\n",
    "\n",
    "<style>\n",
    "section.present > section.present { \n",
    "    max-height: 90%; \n",
    "    overflow-y: scroll;\n",
    "}\n",
    "</style>\n",
    "\n",
    "<small><a href=\"https://colab.research.google.com/github/brandeis-jdelfino/cosi-10a/blob/main/lectures/notebooks/12_class_design.ipynb\">Link to interactive slides on Google Colab</a></small>"
   ]
  },
  {
   "cell_type": "markdown",
   "id": "33eb51f3",
   "metadata": {
    "slideshow": {
     "slide_type": "slide"
    }
   },
   "source": [
    "# Exercise\n",
    "\n",
    "Create a program to model a library network:\n",
    "* These libraries deal in books only - no need to model magazines, video, etc.\n",
    "* There are multiple library branches, each with their own book inventory.\n",
    "* Library patrons have accounts in the library network, and can have books out on loan.\n",
    "* Loans have due dates.\n",
    "* Data on books, branches, and patrons will be loaded from files.\n",
    "\n",
    "Our program should be able to:\n",
    "* List the branches and their info.\n",
    "* Print out all the available and/or checked out books from a branch.\n",
    "* Print out the books a patron has checked out.\n",
    "* Provide very simple text search (substring matching) over book titles.\n",
    "\n",
    "Today we'll focus mostly on how we can model the data with classes and data structures, and less on the outer scaffold of a program like this."
   ]
  },
  {
   "cell_type": "markdown",
   "id": "875c1014",
   "metadata": {
    "slideshow": {
     "slide_type": "slide"
    }
   },
   "source": [
    "# File structure\n",
    "\n",
    "We have 3 files:\n",
    "* `branches.csv`\n",
    "  * A comma-delimited file that contains one row per branch, with 3 string fields: `id`, `name`, and `address`.\n",
    "* `books.json`\n",
    "  * A JSON file with a list of dictionaries. Each dictionary represents a unique title. They have the following fields:\n",
    "    * `id` (str)\n",
    "    * `name` (str)\n",
    "    * `description` (str)\n",
    "    * `copies`\n",
    "      * A list of dictionaries, each of which has several keys: `copy_id`, `branch_id`, `due_date`, and `patron_id`. `due_date` and `patron_id` are `None` if the book is not checked out.\n",
    "* `patrons.json`\n",
    "  * A JSON file that contains a list of dictionaries. Each dictionary represents a patron. They have the folloing fields:\n",
    "    * `id` (str)\n",
    "    * `name` (str)\n",
    "    * `checked_out_copy_ids` (list of str)"
   ]
  },
  {
   "cell_type": "markdown",
   "id": "33b3b272",
   "metadata": {
    "slideshow": {
     "slide_type": "slide"
    }
   },
   "source": [
    "# Where do we start??\n",
    "\n",
    "This is a big problem, we can't tackle it all at once.\n",
    "\n",
    "Two main strategies:\n",
    "* \"Bottom up\"\n",
    "  * Start by defining small classes/functions for basic operations we think we'll need, then combine them into the larger, more complicated user-facing operations.\n",
    "  * e.g. Define classes and some methods for `Branch`, `Book`, and `Patron`, then implement functions that do each of the larger operations above using the class methods.\n",
    "* \"Top down\"\n",
    "  * Start by writing the main operations, noting and creating classes and methods as we need them. \n",
    "  * e.g. Write a function that prints out a patron's checked out books, and discover that we need a Patron class, and a way to get a book by copy_id. Then implement those methods.\n",
    "  \n",
    "Neither strategy is necessarily better, and you don't need to follow either one dogmatically - they just give you a place to start.\n",
    "\n",
    "I prefer \"top down\" in this case, because the exact set of operations we'll need isn't clear. With \"bottom up\" we risk defining a bunch of classes / methods we don't need."
   ]
  },
  {
   "cell_type": "markdown",
   "id": "bc673a50",
   "metadata": {
    "slideshow": {
     "slide_type": "slide"
    }
   },
   "source": [
    "# Listing branches\n",
    "\n",
    "This is the simplest operation - load `branches.csv` into a list, and then print each branch."
   ]
  },
  {
   "cell_type": "code",
   "execution_count": null,
   "id": "6d92d2d0",
   "metadata": {
    "execution": {
     "iopub.execute_input": "2023-07-20T15:40:19.293616Z",
     "iopub.status.busy": "2023-07-20T15:40:19.293290Z",
     "iopub.status.idle": "2023-07-20T15:40:19.310736Z",
     "shell.execute_reply": "2023-07-20T15:40:19.309568Z"
    }
   },
   "outputs": [],
   "source": [
    "import csv\n",
    "\n",
    "def load_branches():\n",
    "    branches = []\n",
    "    with open('../../data/library/branches.csv') as f:\n",
    "        reader = csv.reader(f, delimiter=',')\n",
    "        for line in reader:\n",
    "            branches.append(line)\n",
    "    return branches\n",
    "\n",
    "def list_branches():\n",
    "    print(\"Listing all branches...\")    \n",
    "    branches = load_branches()\n",
    "    for branch in branches:\n",
    "        print(f\"Branch name: {branch[1]}, address: {branch[2]}\")"
   ]
  },
  {
   "cell_type": "markdown",
   "id": "b27c76c3",
   "metadata": {
    "slideshow": {
     "slide_type": "slide"
    }
   },
   "source": [
    "## Add some structure\n",
    "\n",
    "If this was the only operation we needed to support, this code is fine. However, we have a few other operations that will deal with branches as well. It will make sense to add some structure to this data by introducing a `Branch` class."
   ]
  },
  {
   "cell_type": "code",
   "execution_count": null,
   "id": "d41ca885",
   "metadata": {
    "execution": {
     "iopub.execute_input": "2023-07-20T15:40:19.315292Z",
     "iopub.status.busy": "2023-07-20T15:40:19.314935Z",
     "iopub.status.idle": "2023-07-20T15:40:19.321045Z",
     "shell.execute_reply": "2023-07-20T15:40:19.320242Z"
    }
   },
   "outputs": [],
   "source": [
    "class Branch:\n",
    "    def __init__(self, branch_id, name, address):\n",
    "        self.id = branch_id\n",
    "        self.name = name\n",
    "        self.address = address\n",
    "\n",
    "    def __str__(self):\n",
    "        return f\"{self.name} (id: {self.id}); Address: \\\"{self.address}\\\", id: {self.id}\"\n",
    "    \n",
    "def load_branches():\n",
    "    branches = []\n",
    "    with open('../../data/library/branches.csv') as f:\n",
    "        reader = csv.reader(f, delimiter=',')\n",
    "        for line in reader:\n",
    "            branches.append(Branch(line[0], line[1], line[2]))\n",
    "    return branches\n",
    "\n",
    "def list_branches():\n",
    "    print(\"Listing all branches...\")\n",
    "    branches = load_branches()\n",
    "    for branch in branches:\n",
    "        print(branch)"
   ]
  },
  {
   "cell_type": "markdown",
   "id": "8c19f586",
   "metadata": {
    "slideshow": {
     "slide_type": "slide"
    }
   },
   "source": [
    "## Side note: the `__str__` method\n",
    "\n",
    "If you add a method with the signature `__str__(self)` to a class, and make it return a string, then Python will use it when converting your class to a string!"
   ]
  },
  {
   "cell_type": "markdown",
   "id": "2bbd3b44",
   "metadata": {
    "slideshow": {
     "slide_type": "slide"
    }
   },
   "source": [
    "# Listing books for a branch\n",
    "\n",
    "\n",
    "This one makes us confront more tricky data modeling questions. \"Books\" in this exercise have metadata, but also a list of copies, each of which can belong to a different branch and be checked out separately.\n",
    "\n",
    "We need to list all books from a branch, with an optional filter on book availability.\n",
    "\n",
    "Do we: \n",
    "* Load a list of all books, and iterate over them to find books from the branch we care about?\n",
    "* Build a list of book copies for a branch when we load the data, and store them on a `Branch` object? \n",
    "\n",
    "The first option is simpler for now, let's write a function that does this."
   ]
  },
  {
   "cell_type": "code",
   "execution_count": null,
   "id": "084498b2",
   "metadata": {
    "execution": {
     "iopub.execute_input": "2023-07-20T15:40:19.326063Z",
     "iopub.status.busy": "2023-07-20T15:40:19.325699Z",
     "iopub.status.idle": "2023-07-20T15:40:19.330660Z",
     "shell.execute_reply": "2023-07-20T15:40:19.329996Z"
    }
   },
   "outputs": [],
   "source": [
    "import json\n",
    "def load_books():\n",
    "    with open('../../data/library/books.json', 'r') as f:\n",
    "        return json.load(f)\n",
    "\n",
    "def list_books_for_branch(branch_id, available_only=True):\n",
    "    print(f\"Listing books for {branch_id=}\")\n",
    "    books = load_books()\n",
    "    for book in books:\n",
    "        for copy in book['copies']:\n",
    "            if copy['branch_id'] == branch_id:\n",
    "                if available_only and (copy['due_date'] is None):\n",
    "                    print(book['title'])"
   ]
  },
  {
   "cell_type": "markdown",
   "id": "4da22ed5",
   "metadata": {
    "slideshow": {
     "slide_type": "slide"
    }
   },
   "source": [
    "## Good enough?\n",
    "\n",
    "This is ok. But what if we need to print the branch name, instead of the id?"
   ]
  },
  {
   "cell_type": "code",
   "execution_count": null,
   "id": "bebc092c",
   "metadata": {
    "execution": {
     "iopub.execute_input": "2023-07-20T15:40:19.334215Z",
     "iopub.status.busy": "2023-07-20T15:40:19.333915Z",
     "iopub.status.idle": "2023-07-20T15:40:19.341098Z",
     "shell.execute_reply": "2023-07-20T15:40:19.340448Z"
    }
   },
   "outputs": [],
   "source": [
    "import json\n",
    "import csv\n",
    "\n",
    "class Branch:\n",
    "    def __init__(self, branch_id, name, address):\n",
    "        self.id = branch_id\n",
    "        self.name = name\n",
    "        self.address = address\n",
    "\n",
    "    def __str__(self):\n",
    "        return f\"{self.name} (id: {self.id}); Address: \\\"{self.address}\\\", id: {self.id}\"\n",
    "    \n",
    "    \n",
    "def load_branches():\n",
    "    branches = []\n",
    "    with open('../../data/library/branches.csv') as f:\n",
    "        reader = csv.reader(f, delimiter=',')\n",
    "        for line in reader:\n",
    "            branches.append(Branch(line[0], line[1], line[2]))\n",
    "    return branches\n",
    "\n",
    "\n",
    "def load_books():\n",
    "    with open('../../data/library/books.json', 'r') as f:\n",
    "        return json.load(f)\n",
    "\n",
    "    \n",
    "def list_books_for_branch(branch_id, available_only=True):\n",
    "    books = load_books()\n",
    "    branches = load_branches()\n",
    "\n",
    "    branch = None\n",
    "    for b in branches:\n",
    "        if branch.id == branch_id:\n",
    "            branch = b\n",
    "            break\n",
    "            \n",
    "    print(f\"Listing books for {branch.name}\")\n",
    "    \n",
    "    for book in self.books.values():\n",
    "        for copy in book['copies']:\n",
    "            if copy['branch_id'] == branch_id:\n",
    "                if available_only and (copy['due_date'] is not None):\n",
    "                    continue\n",
    "\n",
    "                print(book['title'])\n",
    "                break"
   ]
  },
  {
   "cell_type": "markdown",
   "id": "30b201ac",
   "metadata": {},
   "source": [
    "## Can we do better?\n",
    "\n",
    "This works! But we can improve it.\n",
    "\n",
    "1. Looking up a branch by `branch_id` seems like an operation we'll need again. Let's apply functional decomposition.\n",
    "2. Storing the branches in a list makes finding a branch inefficient - let's use a dictionary from `branch_id` -> `Branch` instance.\n",
    "\n",
    "We're going to **refactor** - change the way our code is structured without changing its behavior.\n",
    "\n",
    "We'll introduce a `BranchCollection` class to hold all our branches, and provide easy lookup of `Branch` instance by `branch_id`:"
   ]
  },
  {
   "cell_type": "code",
   "execution_count": null,
   "id": "e97f5f75",
   "metadata": {
    "execution": {
     "iopub.execute_input": "2023-07-20T15:40:19.344202Z",
     "iopub.status.busy": "2023-07-20T15:40:19.343932Z",
     "iopub.status.idle": "2023-07-20T15:40:19.350604Z",
     "shell.execute_reply": "2023-07-20T15:40:19.350053Z"
    }
   },
   "outputs": [],
   "source": [
    "class Branch:\n",
    "    def __init__(self, branch_id, name, address):\n",
    "        self.id = branch_id\n",
    "        self.name = name\n",
    "        self.address = address\n",
    "\n",
    "    def __str__(self):\n",
    "        return f\"{self.name} (id: {self.id}); Address: \\\"{self.address}\\\", id: {self.id}\"\n",
    "\n",
    "    \n",
    "class BranchCollection:\n",
    "    def __init__(self):\n",
    "        self.branches = {}\n",
    "        \n",
    "    def load_from_file(self, filename):\n",
    "        with open(filename) as f:\n",
    "            reader = csv.reader(f, delimiter=',')\n",
    "            for line in reader:\n",
    "                self.branches[line[0]] = Branch(line[0], line[1], line[2])\n",
    "                \n",
    "    def list_branches(self):\n",
    "        print(\"Listing all branches...\")\n",
    "        for branch in self.branches.values():\n",
    "            print(branch)\n",
    "    \n",
    "    def get_branch(self, branch_id):\n",
    "        return self.branches.get(branch_id)\n",
    "    \n",
    "    \n",
    "def list_books_for_branch(branch_id):\n",
    "    books = load_books()\n",
    "    branches = BranchCollection()\n",
    "    branches.load_from_file('../../data/library/branches.csv')\n",
    "    \n",
    "    branch = branches.get_branch(branch_id)\n",
    "    print(f\"Listing books for {branch.name}\")\n",
    "    \n",
    "    for book in self.books.values():\n",
    "        for copy in book['copies']:\n",
    "            if copy['branch_id'] == branch_id:\n",
    "                if available_only and (copy['due_date'] is not None):\n",
    "                    continue\n",
    "\n",
    "                print(book['title'])\n",
    "                break"
   ]
  },
  {
   "cell_type": "markdown",
   "id": "bbff8bb9",
   "metadata": {},
   "source": [
    "## Any suggestions?\n",
    "\n",
    "How does this feel? What else could we refactor?"
   ]
  },
  {
   "cell_type": "markdown",
   "id": "27d5ded8",
   "metadata": {
    "slideshow": {
     "slide_type": "fragment"
    }
   },
   "source": [
    "At this point in the problem, it's still quite hard to say whether one design is \"better\" than another. Let's move on to the next operation, rather than risk over-designing things we won't need."
   ]
  },
  {
   "cell_type": "markdown",
   "id": "4e39292e",
   "metadata": {},
   "source": [
    "# Listing books checked out by a patron\n",
    "\n",
    "Now we need to load the third file, containing the patron data. We'll now have three related data collections - Branches, Books, and Patrons. It seems like a good idea to create a class to hold this relationship.\n",
    "\n",
    "Let's refactor again. We'll repurpose `BranchCollection` into a `LibraryNetwork`, and make it hold all of our data."
   ]
  },
  {
   "cell_type": "code",
   "execution_count": null,
   "id": "b68cf4b4",
   "metadata": {
    "execution": {
     "iopub.execute_input": "2023-07-20T15:40:19.353727Z",
     "iopub.status.busy": "2023-07-20T15:40:19.353474Z",
     "iopub.status.idle": "2023-07-20T15:40:19.360781Z",
     "shell.execute_reply": "2023-07-20T15:40:19.360241Z"
    }
   },
   "outputs": [],
   "source": [
    "class LibraryNetwork:\n",
    "    def __init__(self):\n",
    "        self.branches = {}\n",
    "        self.books = {}\n",
    "        self.patrons = {}\n",
    "        \n",
    "    def _load_branches(self, filename):\n",
    "        with open(filename) as f:\n",
    "            reader = csv.reader(f, delimiter=',')\n",
    "            for line in reader:\n",
    "                self.branches[line[0]] = Branch(line[0], line[1], line[2])\n",
    "\n",
    "                def _load_books(self, filename):\n",
    "\n",
    "    def _load_books(self, filename):\n",
    "        with open(filename, 'r') as f:\n",
    "            book_list = json.load(f)\n",
    "            for book in book_list:\n",
    "                self.books[book['id']] = book\n",
    "    \n",
    "    def _load_patrons(self, filename):\n",
    "        with open(filename, 'r') as f:\n",
    "            patron_list = json.load(f)\n",
    "            for patron in patron_list:\n",
    "                self.patrons[patron['id']] = patron\n",
    "\n",
    "    def load_from_files(self, branches_filename, books_filename, patrons_filename):\n",
    "        self._load_branches(branches_filename)\n",
    "        self._load_books(books_filename)\n",
    "        self._load_patrons(patrons_filename)\n",
    "\n",
    "            \n",
    "    def get_branch(self, branch_id):\n",
    "        return self.branches.get(branch_id)\n",
    "\n",
    "    def list_branches(self):\n",
    "        print(\"Listing all branches...\")\n",
    "        for branch in self.branches:\n",
    "            print(branch)\n",
    "    \n",
    "    def list_books_for_branch(self, branch_id, available_only=True):\n",
    "        branch = self.get_branch(branch_id)\n",
    "        print(f\"Listing books for {branch.name}\")\n",
    "\n",
    "        for book in self.books.values():\n",
    "            for copy in book['copies']:\n",
    "                if copy['branch_id'] == branch_id:\n",
    "                    if available_only and (copy['due_date'] is not None):\n",
    "                        continue\n",
    "\n",
    "                    print(book['title'])\n",
    "                    break"
   ]
  },
  {
   "cell_type": "markdown",
   "id": "738a8031",
   "metadata": {
    "slideshow": {
     "slide_type": "slide"
    }
   },
   "source": [
    "## What are those leading underscores? \n",
    "\n",
    "We added `_load_branches`, `_load_books`, and `_load_patrons` - why did I name them that way?\n",
    "\n",
    "The leading underscore indicates they are \"private\". To understand what that means, let's first talk about **interfaces**, **encapsulation**."
   ]
  },
  {
   "cell_type": "markdown",
   "id": "dad3c979",
   "metadata": {
    "slideshow": {
     "slide_type": "slide"
    }
   },
   "source": [
    "# Interfaces\n",
    "\n",
    "One of the poweful things about classes (and modules! and packages!) is that they provide an **interface**: a set of methods and/or data structures that can be used to interact with the class (or module! or package!). \n",
    "\n",
    "A good interface is:\n",
    "1. Cohesive\n",
    "1. Easy to understand\n",
    "1. Easy to use\n",
    "1. Hard to misuse\n",
    "\n",
    "Designing a great interface - one that is hard to misuse - is harder than it sounds."
   ]
  },
  {
   "cell_type": "markdown",
   "id": "beca74c8",
   "metadata": {},
   "source": [
    "# Encapsulation\n",
    "\n",
    "An interface provides **encapsulation**. This means we've hidden the details of an operation behind an interface. You, or someone else, can use the interface without needing to worry about the details of the implementation. \n",
    "\n",
    "This is an important and powerful strategy to keep code structured and understandable as a codebase grows larger."
   ]
  },
  {
   "cell_type": "markdown",
   "id": "106444d8",
   "metadata": {},
   "source": [
    "## Privacy\n",
    "\n",
    "In Python it is a **convention** that methods that start with underscores (`_`) are considered **private**.\n",
    "\n",
    "**Private**, in the context of classes, means a data structure or method that is only meant to be accessed from within the class. \n",
    "* Making things \"private\" makes them easier to change later without needing to update every usage of the class.\n",
    "\n",
    "**Convention** means that there's no enforcement of this at the language level. You can happily name and use functions with leading underscores however you want. \n",
    "* But, if other people are using your code, you will confuse them if you expect them to use functions that start with underscores. \n",
    "* Conversely, if you are using someone else's classes, avoid accessing private data structure or methods - they are likely to change without warning in future versions of the class, or be hard to use correctly.\n",
    "\n",
    "Other languages (e.g. Java) have language-level enforcement of privacy - you can declare that a method is \"private\", and the language will prevent you from accessing it from outside the class."
   ]
  },
  {
   "cell_type": "markdown",
   "id": "1338a3f9",
   "metadata": {},
   "source": [
    "# Back to the library...\n",
    "\n",
    "Now we'll add our `list_checkouts_for_patron` method. \n",
    "\n",
    "Note that there is a distinction between a \"book\" and a \"copy of a book\". Patrons check out copies of books, but the book metadata (title, description) is specified for the book. In order to print out a book title and a due date, we need information about both the book and the copy."
   ]
  },
  {
   "cell_type": "code",
   "execution_count": null,
   "id": "65916de0",
   "metadata": {
    "execution": {
     "iopub.execute_input": "2023-07-20T15:40:19.364298Z",
     "iopub.status.busy": "2023-07-20T15:40:19.364054Z",
     "iopub.status.idle": "2023-07-20T15:40:19.368953Z",
     "shell.execute_reply": "2023-07-20T15:40:19.368345Z"
    }
   },
   "outputs": [],
   "source": [
    "class LibraryNetwork:\n",
    "    # ...\n",
    "    def get_patron(self, patron_id):\n",
    "        return self.patrons.get(patron_id)\n",
    "    \n",
    "    def list_checkouts_for_patron(self, patron_id):\n",
    "        patron = self.get_patron(patron_id)\n",
    "        print(f\"Checkouts for {patron['name']}:\")\n",
    "        for copy_id in patron['checked_out_copy_ids']:\n",
    "            bc, book = self.get_copy(copy_id)\n",
    "            print(f\"{book['title']} (id: {book['id']}), due: {bc['due_date']}\")\n",
    "\n",
    "    def get_copy(self, copy_id):\n",
    "        for book in self.books.values():\n",
    "            for bc in book['copies']:\n",
    "                if bc['copy_id'] == copy_id:\n",
    "                    return bc, book\n",
    "        return None, None"
   ]
  },
  {
   "cell_type": "markdown",
   "id": "649bda63",
   "metadata": {},
   "source": [
    "# Last operation: simple text search\n",
    "\n",
    "Let's add this last function, then we'll look at our whole program. This one is relatively straightforward."
   ]
  },
  {
   "cell_type": "code",
   "execution_count": null,
   "id": "76bc8a4e",
   "metadata": {
    "execution": {
     "iopub.execute_input": "2023-07-20T15:40:19.371909Z",
     "iopub.status.busy": "2023-07-20T15:40:19.371652Z",
     "iopub.status.idle": "2023-07-20T15:40:19.375615Z",
     "shell.execute_reply": "2023-07-20T15:40:19.375001Z"
    }
   },
   "outputs": [],
   "source": [
    "class LibraryNetwork:\n",
    "    # ...\n",
    "    \n",
    "    def find_matching_books(self, substring):\n",
    "        print(f\"Books with \\\"{substring}\\\" in the title: \")\n",
    "        for book in self.books.values():\n",
    "            if substring.lower() in book['title'].lower():\n",
    "                print(book['title'])"
   ]
  },
  {
   "cell_type": "markdown",
   "id": "232bc8e9",
   "metadata": {},
   "source": [
    "# The whole thing\n",
    "\n",
    "[repl.it link](https://replit.com/@cosi-10a-fall23/Library#main.py)"
   ]
  },
  {
   "cell_type": "code",
   "execution_count": null,
   "id": "da9d93c6",
   "metadata": {
    "execution": {
     "iopub.execute_input": "2023-07-20T15:40:19.378727Z",
     "iopub.status.busy": "2023-07-20T15:40:19.378451Z",
     "iopub.status.idle": "2023-07-20T15:40:19.389538Z",
     "shell.execute_reply": "2023-07-20T15:40:19.388956Z"
    }
   },
   "outputs": [],
   "source": [
    "import csv\n",
    "import json\n",
    "import random\n",
    "\n",
    "\n",
    "class Branch:\n",
    "\n",
    "    def __init__(self, branch_id, name, address):\n",
    "        self.id = branch_id\n",
    "        self.name = name\n",
    "        self.address = address\n",
    "\n",
    "    def __str__(self):\n",
    "        return f\"{self.name} (id: {self.id}); Address: \\\"{self.address}\\\", id: {self.id}\"\n",
    "\n",
    "\n",
    "class LibraryNetwork:\n",
    "\n",
    "    def __init__(self):\n",
    "        self.branches = {}\n",
    "        self.books = {}\n",
    "        self.patrons = {}\n",
    "\n",
    "    def _load_branches(self, filename):\n",
    "        with open(filename) as f:\n",
    "            reader = csv.reader(f, delimiter=',')\n",
    "            for line in reader:\n",
    "                self.branches[line[0]] = Branch(line[0], line[1], line[2])\n",
    "\n",
    "    def _load_books(self, filename):\n",
    "        with open(filename, 'r') as f:\n",
    "            book_list = json.load(f)\n",
    "            for book in book_list:\n",
    "                self.books[book['id']] = book\n",
    "\n",
    "    def _load_patrons(self, filename):\n",
    "        with open(filename, 'r') as f:\n",
    "            patron_list = json.load(f)\n",
    "            for patron in patron_list:\n",
    "                self.patrons[patron['id']] = patron\n",
    "\n",
    "    def load_from_files(self, branches_filename, books_filename,\n",
    "                                            patrons_filename):\n",
    "        self._load_branches(branches_filename)\n",
    "        self._load_books(books_filename)\n",
    "        self._load_patrons(patrons_filename)\n",
    "\n",
    "    def get_branch(self, branch_id):\n",
    "        return self.branches.get(branch_id)\n",
    "\n",
    "    def get_patron(self, patron_id):\n",
    "        return self.patrons.get(patron_id)\n",
    "\n",
    "    def get_copy(self, copy_id):\n",
    "        for book in self.books.values():\n",
    "            for bc in book['copies']:\n",
    "                if bc['copy_id'] == copy_id:\n",
    "                    return bc, book\n",
    "        return None, None\n",
    "\n",
    "    def list_branches(self):\n",
    "        print(\"Listing all branches...\")\n",
    "        for branch in self.branches.values():\n",
    "            print(str(branch))\n",
    "\n",
    "    def list_books_for_branch(self, branch_id, available_only=True):\n",
    "        branch = self.get_branch(branch_id)\n",
    "        print(f\"Listing books for {branch.name}\")\n",
    "\n",
    "        for book in self.books.values():\n",
    "            for copy in book['copies']:\n",
    "                if copy['branch_id'] == branch_id:\n",
    "                    if available_only and (copy['due_date'] is not None):\n",
    "                        continue\n",
    "\n",
    "                    print(book['title'])\n",
    "                    break\n",
    "\n",
    "    def list_checkouts_for_patron(self, patron_id):\n",
    "        patron = self.get_patron(patron_id)\n",
    "        print(f\"Checkouts for {patron['name']}:\")\n",
    "        for copy_id in patron['checked_out_copy_ids']:\n",
    "            bc, book = self.get_copy(copy_id)\n",
    "            print(f\"{book['title']} (id: {book['id']}), due: {bc['due_date']}\")\n",
    "\n",
    "    def find_matching_books(self, substring):\n",
    "        print(f\"Books with \\\"{substring}\\\" in the title: \")\n",
    "        for book in self.books.values():\n",
    "            if substring.lower() in book['title'].lower():\n",
    "                print(book['title'])"
   ]
  },
  {
   "cell_type": "markdown",
   "id": "b15eb7ea",
   "metadata": {},
   "source": [
    "# What do you think now?\n",
    "\n",
    "Do you understand this code? Do you like it? Where could we improve? "
   ]
  },
  {
   "cell_type": "markdown",
   "id": "3dce3d54",
   "metadata": {},
   "source": [
    "Some things I like:\n",
    "* We avoided writing a lot of code that we didn't need. \n",
    "   * My first instinct with a problem like this is to run off and define a class for every type of object, model the relationships between them, etc. We didn't need most of that.\n",
    "* The interface is pretty simple, clear, and mostly hard to misuse\n",
    "   * Our LibraryNetwork can be misused if you create one, but forget to load the data, but otherwise the methods we provided are pretty straightforward."
   ]
  },
  {
   "cell_type": "markdown",
   "id": "733ae00b",
   "metadata": {
    "slideshow": {
     "slide_type": "fragment"
    }
   },
   "source": [
    "Some things I don't like:\n",
    "\n",
    "* No `Book` or `Patron` classes - we access the data directly in the dictionaries that are loaded from the JSON.\n",
    "   * What happens if the format of the JSON changes? If this code is widely used, we'd need to update many places. \n",
    "   * **But**: the code is not widely used, and it is unlikely to ever be used again.  \n",
    "* Listing the checkouts for a patron is very inefficient\n",
    "   * We look at every copy of every book to find the copy_id we're looking for.  \n",
    "   * **But**: the scale of data we're dealing with is tiny (in computer terms): hundreds of books and patrons.\n",
    "* You need the whole `LibraryNetwork` object in order to link between `Branch`, `Book`, and `Patron`.\n",
    "   * Everything is referenced by ids, and the only way to get to the objects is to look them up by id in `LibraryNetwork`s data structures. \n",
    "   * We could use **references** to link objects together. E.g. a `BookCopy` object could reference a `Book` object, rather than holding a `book_id`. \n",
    "   * **But**: we don't need it, the code is small manageable."
   ]
  },
  {
   "cell_type": "markdown",
   "id": "07d67015",
   "metadata": {},
   "source": [
    "# Keep it simple\n",
    "\n",
    "Managing complexity is the biggest challenge when writing code. \n",
    "\n",
    "> \"YAGNI\" (You Ain't Gonna Need it) - _Kent Beck_\n",
    "\n",
    "> \"Premature optimization is the root of all evil\" - _Donald Knuth_\n",
    "\n",
    "> \"Debugging is twice as hard as writing the code in the first place. Therefore, if you write the code as cleverly as possible, you are, by definition, not smart enough to debug it.\" - _Brian W. Kernighan_"
   ]
  },
  {
   "cell_type": "markdown",
   "id": "235dfb0e",
   "metadata": {
    "slideshow": {
     "slide_type": "fragment"
    }
   },
   "source": [
    "It can be tempting to over-engineer: to add features, flexibility, or optimizations that you don't actually need.\n",
    "\n",
    "Don't do it! Keep it simple! Write the code you need to solve the problem in front of you.\n",
    "\n",
    "But also: writing simple code is harder than it looks, so don't get discouraged if you sometimes (often) end up with a tangled mess. \n",
    "\n",
    "The best, most experienced programmers may build **complicated systems**, but they tend to write the **simplest code**."
   ]
  },
  {
   "cell_type": "markdown",
   "id": "2258bd06",
   "metadata": {},
   "source": [
    "# An alternative\n",
    "\n",
    "We discussed more complicated alternatives. Here's a version of the code that uses references to tie objects together. If we needed this code to be more robust, flexible, or efficient, this might be a good approach.\n",
    "\n",
    "In this code, the loading of data is much more complicated, because all the different objects reference one another.\n",
    "\n",
    "The benefit of this version is that access to related objects is simpler, and much more efficient.\n",
    "\n",
    "[repl.it link](https://replit.com/@cosi-10a-fall23/Library-references-version)"
   ]
  },
  {
   "cell_type": "code",
   "execution_count": null,
   "id": "e1421e5d",
   "metadata": {
    "execution": {
     "iopub.execute_input": "2023-07-20T15:40:19.393467Z",
     "iopub.status.busy": "2023-07-20T15:40:19.393103Z",
     "iopub.status.idle": "2023-07-20T15:40:19.410785Z",
     "shell.execute_reply": "2023-07-20T15:40:19.409717Z"
    }
   },
   "outputs": [],
   "source": [
    "import csv\n",
    "import json\n",
    "\n",
    "\n",
    "class Branch:\n",
    "    def __init__(self, branch_id, name, address):\n",
    "        self.id = branch_id\n",
    "        self.name = name\n",
    "        self.address = address\n",
    "        self.copies = {}\n",
    "\n",
    "    def register_copy(self, bc):\n",
    "        ''' Registers a BookCopy with this branch '''\n",
    "        self.copies[bc.id] = bc\n",
    "\n",
    "    def __str__(self):\n",
    "        return f\"{self.name} (id: {self.id}); Address: \\\"{self.address}\\\", id: {self.id}\"\n",
    "\n",
    "\n",
    "class Book:\n",
    "\n",
    "    def __init__(self, book_id, title, description):\n",
    "        self.id = book_id\n",
    "        self.title = title\n",
    "        self.description = description\n",
    "        self.copies = []\n",
    "\n",
    "    def make_copy(self, copy_id, branch):\n",
    "        ''' \n",
    "        Creates a BookCopy, and registers it with this book and `branch`\n",
    "\n",
    "        returns: The new BookCopy\n",
    "        '''\n",
    "        bc = BookCopy(copy_id, self, branch)\n",
    "        branch.register_copy(bc)\n",
    "\n",
    "        self.copies.append(bc)\n",
    "        return bc\n",
    "\n",
    "\n",
    "class BookCopy:\n",
    "\n",
    "    def __init__(self, copy_id, book, branch):\n",
    "        self.id = copy_id\n",
    "        self.book = book\n",
    "        self.branch = branch\n",
    "        self.due_date = None\n",
    "        self.patron = None\n",
    "\n",
    "    def _register_checkout(self, patron, due_date):\n",
    "        ''' \n",
    "        Registers a checkout of this book.\n",
    "        Intended to be used from the Patron class only; does not update \n",
    "        Patron's list of checked out books.\n",
    "        '''\n",
    "        self.patron = patron\n",
    "        self.due_date = due_date\n",
    "\n",
    "    def _register_return(self):\n",
    "        ''' \n",
    "        Registers a return of this book.\n",
    "        Intended to be used from the Patron class only; does not update \n",
    "        Patron's list of checked out books.\n",
    "        '''\n",
    "        self.patron = None\n",
    "        self.due_date = None\n",
    "\n",
    "    def is_available(self):\n",
    "        ''' Returns True if this book is not checked out '''\n",
    "        return self.due_date is None\n",
    "\n",
    "\n",
    "class Patron:\n",
    "\n",
    "    def __init__(self, patron_id, name):\n",
    "        self.id = patron_id\n",
    "        self.name = name\n",
    "        self.checked_out_copies = {}\n",
    "\n",
    "    def checkout(self, bc, due_date):\n",
    "        ''' Checks a copy of a book out '''\n",
    "        self.checked_out_copies[bc.id] = bc\n",
    "        bc._register_checkout(self, due_date)\n",
    "\n",
    "    def return_book(self, bc):\n",
    "        ''' Marks a copy of a book as returned '''\n",
    "        del self.checked_out_copies[bc.id]\n",
    "        bc._register_return()\n",
    "\n",
    "\n",
    "class LibraryNetwork:\n",
    "\n",
    "    def __init__(self):\n",
    "        self.branches = {}\n",
    "        self.books = {}\n",
    "        self.copies = {}\n",
    "        self.patrons = {}\n",
    "\n",
    "    def _load_branches(self, filename):\n",
    "        with open(filename) as f:\n",
    "            reader = csv.reader(f, delimiter=',')\n",
    "            for line in reader:\n",
    "                self.branches[line[0]] = Branch(line[0], line[1], line[2])\n",
    "\n",
    "    def _load_patrons(self, filename):\n",
    "        with open(filename, 'r') as f:\n",
    "            patron_list = json.load(f)\n",
    "            for patron in patron_list:\n",
    "                self.patrons[patron['id']] = Patron(patron['id'], patron['name'])\n",
    "\n",
    "    def _load_books(self, filename):\n",
    "        with open(filename, 'r') as f:\n",
    "            book_list = json.load(f)\n",
    "\n",
    "            for book_json in book_list:\n",
    "                # Steps for loading a single book and its copies:\n",
    "                # 1. Create the book object\n",
    "                # 2. For each copy:\n",
    "                # 2a. Look up its Branch\n",
    "                # 2b. Make a BookCopy object, linking it to the branch.\n",
    "                # 2c. If the book is checked out, look up its Patron and \n",
    "                #     register the checkout\n",
    "                # 2d. Record the BookCopy in the Network's list of copies\n",
    "                # 3. Record the Book in the Network's list of books.\n",
    "                book = Book(book_json['id'], book_json['title'],\n",
    "                                        book_json['description'])\n",
    "\n",
    "                for bc_json in book_json['copies']:\n",
    "                    branch = self.get_branch(bc_json['branch_id'])\n",
    "                    bc = book.make_copy(bc_json['copy_id'], branch)\n",
    "\n",
    "                    if bc_json['patron_id'] is not None:\n",
    "                        patron = self.get_patron(bc_json['patron_id'])\n",
    "                        patron.checkout(bc, bc_json['due_date'])\n",
    "                    self.copies[bc.id] = bc\n",
    "\n",
    "                self.books[book.id] = book\n",
    "\n",
    "    def load_from_files(self, branches_filename, books_filename,\n",
    "                                            patrons_filename):\n",
    "        print(\"Load start\")\n",
    "        self._load_branches(branches_filename)\n",
    "        self._load_patrons(patrons_filename)\n",
    "        # Books must be loaded after Branches and Patrons - the loading process\n",
    "        # relies on those objects already existing.\n",
    "        self._load_books(books_filename)\n",
    "        print(\"Load end\")\n",
    "\n",
    "    def get_branch(self, branch_id):\n",
    "        return self.branches.get(branch_id)\n",
    "\n",
    "    def get_patron(self, patron_id):\n",
    "        return self.patrons.get(patron_id)\n",
    "\n",
    "    def get_copy(self, copy_id):\n",
    "        return self.copies.get(copy_id)\n",
    "\n",
    "    def list_branches(self):\n",
    "        print(\"Listing all branches...\")\n",
    "        for branch in self.branches.values():\n",
    "            print(str(branch))\n",
    "\n",
    "    def list_books_for_branch(self, branch_id, available_only=True):\n",
    "        branch = self.get_branch(branch_id)\n",
    "        print(f\"Listing books for {branch.name}\")\n",
    "\n",
    "        found_books = {}\n",
    "        for bc in branch.copies.values():\n",
    "            if available_only and not bc.is_available():\n",
    "                continue\n",
    "            found_books[bc.book.id] = bc.book\n",
    "\n",
    "        for book in found_books.values():\n",
    "            print(book.title)\n",
    "\n",
    "    def list_checkouts_for_patron(self, patron_id):\n",
    "        patron = self.get_patron(patron_id)\n",
    "        print(f\"Checkouts for {patron.name}:\")\n",
    "        for bc in patron.checked_out_copies.values():\n",
    "            print(f\"{bc.book.title} (id: {bc.id}), due: {bc.due_date}\")\n",
    "\n",
    "    def find_matching_books(self, substring):\n",
    "        print(f\"Books with \\\"{substring}\\\" in the title: \")\n",
    "        for book in self.books.values():\n",
    "            if substring.lower() in book.title.lower():\n",
    "                print(book.title)"
   ]
  }
 ],
 "metadata": {
  "celltoolbar": "Slideshow",
  "kernelspec": {
   "display_name": "Python 3 (ipykernel)",
   "language": "python",
   "name": "python3"
  },
  "language_info": {
   "codemirror_mode": {
    "name": "ipython",
    "version": 3
   },
   "file_extension": ".py",
   "mimetype": "text/x-python",
   "name": "python",
   "nbconvert_exporter": "python",
   "pygments_lexer": "ipython3",
   "version": "3.10.9"
  }
 },
 "nbformat": 4,
 "nbformat_minor": 5
}
