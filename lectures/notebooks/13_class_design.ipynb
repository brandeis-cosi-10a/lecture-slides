{
 "cells": [
  {
   "cell_type": "markdown",
   "id": "1ee8a1d2",
   "metadata": {
    "slideshow": {
     "slide_type": "slide"
    }
   },
   "source": [
    "# Class Design Exercise\n",
    "\n",
    "<style>\n",
    "section.present > section.present { \n",
    "    max-height: 90%; \n",
    "    overflow-y: scroll;\n",
    "}\n",
    "</style>\n",
    "\n",
    "<small><a href=\"https://colab.research.google.com/github/brandeis-jdelfino/cosi-10a/blob/main/lectures/notebooks/13_class_design.ipynb\">Link to interactive slides on Google Colab</a></small>"
   ]
  },
  {
   "cell_type": "markdown",
   "id": "33eb51f3",
   "metadata": {
    "slideshow": {
     "slide_type": "slide"
    }
   },
   "source": [
    "# Exercise\n",
    "\n",
    "Create a program to model a library network:\n",
    "* Our libraries deal in books only - no need to model magazines, video, etc.\n",
    "* There are multiple library branches, each with their own book inventory.\n",
    "* Library patrons have accounts in the library network, and can have books out on loan.\n",
    "* Data on books, branches, and patrons will be loaded from files.\n",
    "\n",
    "Our program should be able to:\n",
    "* List the branches and their info.\n",
    "* Print out all the books from a branch.\n",
    "* Print out the books a patron has checked out.\n",
    "* Provide very simple text search (substring matching) over book titles."
   ]
  },
  {
   "cell_type": "markdown",
   "id": "875c1014",
   "metadata": {
    "slideshow": {
     "slide_type": "slide"
    }
   },
   "source": [
    "# File structure\n",
    "\n",
    "We have 4 files. First 2:\n",
    "* `branches.csv`\n",
    "  * A comma-delimited file that contains one row per branch, with 3 string fields: \n",
    "     * `id`\n",
    "     * `name`\n",
    "     * `address`\n",
    "* `patrons.csv`\n",
    "  * A comma-delimited file that contains one row per patron, with 2 string fields: \n",
    "     * `id`\n",
    "     * `name`"
   ]
  },
  {
   "cell_type": "markdown",
   "id": "cb2ec5f4",
   "metadata": {
    "slideshow": {
     "slide_type": "subslide"
    }
   },
   "source": [
    "# File structure\n",
    "\n",
    "We have 4 files. Third file:\n",
    "* `books.json`\n",
    "  * A JSON file with a list of dictionaries. Each dictionary represents a unique title. They have the following fields:\n",
    "    * `id` (str)\n",
    "    * `name` (str)\n",
    "    * `description` (str)\n",
    "    * `copies`\n",
    "      * A list of dictionaries, each of which has 2 keys: `copy_id`, `branch_id`."
   ]
  },
  {
   "cell_type": "markdown",
   "id": "97c7ffc8",
   "metadata": {
    "slideshow": {
     "slide_type": "subslide"
    }
   },
   "source": [
    "# File structure\n",
    "\n",
    "We have 4 files. Last file:\n",
    "* `checkouts.json`\n",
    "  * A JSON file with a list of dictionaries. Each dictionary represents a checkout of a book copy by a patron. They have the following fields:\n",
    "  * `patron_id` (str)\n",
    "  * `copy_id` (str)"
   ]
  },
  {
   "cell_type": "markdown",
   "id": "33b3b272",
   "metadata": {
    "slideshow": {
     "slide_type": "slide"
    }
   },
   "source": [
    "# Where do we start??\n",
    "\n",
    "This is a big problem, we can't tackle it all at once.\n",
    "\n",
    "Let's focus first on a small piece: model the data with some simple classes, load it in from the files, and work on the first task (print out branches). \n",
    "\n",
    "There are many overly complex ways to model the relationships in this data. However, we don't know much yet. Let's keep it simple, then iterate. \n",
    "\n",
    "Each class we introduce will be self-contained, and will not refer directly to any other classes."
   ]
  },
  {
   "cell_type": "markdown",
   "id": "4086f84a",
   "metadata": {
    "slideshow": {
     "slide_type": "subslide"
    }
   },
   "source": [
    "Our tasks:\n",
    "\n",
    "* **List the branches and their info.**\n",
    "* Print out all the books from a branch.\n",
    "* Print out the books a patron has checked out.\n",
    "* Provide very simple text search (substring matching) over book titles."
   ]
  },
  {
   "cell_type": "markdown",
   "id": "2d85372e",
   "metadata": {
    "slideshow": {
     "slide_type": "slide"
    }
   },
   "source": [
    "# A `Branch` class\n",
    "\n",
    "A very simple class - one field for each column of data in `branches.csv`."
   ]
  },
  {
   "cell_type": "code",
   "execution_count": null,
   "id": "f252e4d8",
   "metadata": {
    "execution": {
     "iopub.execute_input": "2023-11-12T23:25:58.028017Z",
     "iopub.status.busy": "2023-11-12T23:25:58.027664Z",
     "iopub.status.idle": "2023-11-12T23:25:58.039326Z",
     "shell.execute_reply": "2023-11-12T23:25:58.038454Z"
    }
   },
   "outputs": [],
   "source": [
    "class Branch:\n",
    "    def __init__(self, branch_id, name, address):\n",
    "        self.id = branch_id\n",
    "        self.name = name\n",
    "        self.address = address\n",
    "\n",
    "    def __str__(self):\n",
    "        return f\"{self.name} ({self.id})\""
   ]
  },
  {
   "cell_type": "markdown",
   "id": "e9c08ab9",
   "metadata": {
    "slideshow": {
     "slide_type": "subslide"
    }
   },
   "source": [
    "# Code to load branches.csv"
   ]
  },
  {
   "cell_type": "code",
   "execution_count": null,
   "id": "94948417",
   "metadata": {
    "execution": {
     "iopub.execute_input": "2023-11-12T23:25:58.043934Z",
     "iopub.status.busy": "2023-11-12T23:25:58.043334Z",
     "iopub.status.idle": "2023-11-12T23:25:58.049190Z",
     "shell.execute_reply": "2023-11-12T23:25:58.048179Z"
    }
   },
   "outputs": [],
   "source": [
    "import csv\n",
    "\n",
    "def load_branches(filename):\n",
    "    all_branches = []\n",
    "    with open(filename, 'r') as f:\n",
    "        reader = csv.reader(f, delimiter=',')\n",
    "        for line in reader:\n",
    "            branch_id = line[0]\n",
    "            name = line[1]\n",
    "            address = line[2]\n",
    "            new_branch = Branch(branch_id, name, address)\n",
    "            all_branches.append(new_branch)\n",
    "    print(f\"Loaded {len(all_branches)} branches from {filename}\")\n",
    "    return all_branches"
   ]
  },
  {
   "cell_type": "markdown",
   "id": "bc673a50",
   "metadata": {
    "slideshow": {
     "slide_type": "subslide"
    }
   },
   "source": [
    "We can shorten this a bit:"
   ]
  },
  {
   "cell_type": "code",
   "execution_count": null,
   "id": "9ed0d11b",
   "metadata": {
    "execution": {
     "iopub.execute_input": "2023-11-12T23:25:58.053920Z",
     "iopub.status.busy": "2023-11-12T23:25:58.053228Z",
     "iopub.status.idle": "2023-11-12T23:25:58.058666Z",
     "shell.execute_reply": "2023-11-12T23:25:58.057863Z"
    }
   },
   "outputs": [],
   "source": [
    "import csv\n",
    "\n",
    "def load_branches(filename):\n",
    "    all_branches = []\n",
    "    with open(filename, 'r') as f:\n",
    "        reader = csv.reader(f, delimiter=',')\n",
    "        for line in reader:\n",
    "            all_branches.append(Branch(line[0], line[1], line[2]))\n",
    "    print(f\"Loaded {len(all_branches)} branches from {filename}\")\n",
    "    return all_branches"
   ]
  },
  {
   "cell_type": "markdown",
   "id": "d74bf0c3",
   "metadata": {
    "slideshow": {
     "slide_type": "slide"
    }
   },
   "source": [
    "# Listing branches\n",
    "\n",
    "We can already implement our first operation: listing all the branches.\n",
    "\n",
    "Loop through the list of `Branch` instances, and print out info about the branch:"
   ]
  },
  {
   "cell_type": "code",
   "execution_count": null,
   "id": "dcd89362",
   "metadata": {
    "execution": {
     "iopub.execute_input": "2023-11-12T23:25:58.062480Z",
     "iopub.status.busy": "2023-11-12T23:25:58.062168Z",
     "iopub.status.idle": "2023-11-12T23:25:58.068258Z",
     "shell.execute_reply": "2023-11-12T23:25:58.067462Z"
    }
   },
   "outputs": [],
   "source": [
    "branches = load_branches('../../snippets/library/branches.csv')\n",
    "for b in branches:\n",
    "    print(b)"
   ]
  },
  {
   "cell_type": "markdown",
   "id": "9aad0059",
   "metadata": {
    "slideshow": {
     "slide_type": "slide"
    }
   },
   "source": [
    "Our tasks:\n",
    "\n",
    "* ~~List the branches and their info.~~\n",
    "* **Print out all the books from a branch.**\n",
    "* Print out the books a patron has checked out.\n",
    "* Provide very simple text search (substring matching) over book titles."
   ]
  },
  {
   "cell_type": "markdown",
   "id": "d9937271",
   "metadata": {
    "slideshow": {
     "slide_type": "slide"
    }
   },
   "source": [
    "# Loading books\n",
    "\n",
    "Books should be very similar to branches, right? Well, let's look at the data:"
   ]
  },
  {
   "cell_type": "markdown",
   "id": "0cff1ca9",
   "metadata": {},
   "source": [
    "```\n",
    "{\n",
    "    \"title\": \"She-Devil\",\n",
    "    \"description\": \"In hac habitasse platea dictumst.\",\n",
    "    \"id\": \"39cfc454-a730-420e-b921-6ffb220705f0\",\n",
    "    \"copies\": [\n",
    "      {\n",
    "        \"id\": \"c104dba4-1d13-4f71-8406-bc0f5a2ee47f\",\n",
    "        \"branch_id\": \"87fd9eaa-53d6-4b13-87e3-af267a0626b5\"\n",
    "      },\n",
    "      {\n",
    "        \"id\": \"8997c40c-1603-4649-93bc-6ce88f87ab49\",\n",
    "        \"branch_id\": \"0026b74e-c4cf-45ba-954c-c1ce18710ade\"\n",
    "      },\n",
    "...\n",
    "```"
   ]
  },
  {
   "cell_type": "markdown",
   "id": "8915e67c",
   "metadata": {
    "slideshow": {
     "slide_type": "fragment"
    }
   },
   "source": [
    "A book has multiple copies. How do we model this?"
   ]
  },
  {
   "cell_type": "markdown",
   "id": "105193c2",
   "metadata": {
    "slideshow": {
     "slide_type": "subslide"
    }
   },
   "source": [
    "# Keep it simple: a `BookCopy` class\n",
    "\n",
    "We could model this in several complicated ways: e.g. a separate `Book` and `BookCopy` class, where each `Book` holds a list of `BookCopy` instances.\n",
    "\n",
    "However, it's not clear we need to model the difference between a `Book` and `BookCopy`. Let's keep it really simple and just have a `BookCopy` class with all the data."
   ]
  },
  {
   "cell_type": "code",
   "execution_count": null,
   "id": "24bf8ec1",
   "metadata": {
    "execution": {
     "iopub.execute_input": "2023-11-12T23:25:58.072497Z",
     "iopub.status.busy": "2023-11-12T23:25:58.072171Z",
     "iopub.status.idle": "2023-11-12T23:25:58.077280Z",
     "shell.execute_reply": "2023-11-12T23:25:58.076481Z"
    },
    "slideshow": {
     "slide_type": "subslide"
    }
   },
   "outputs": [],
   "source": [
    "class BookCopy:\n",
    "    def __init__(self, copy_id, book_id, branch_id, title, description):\n",
    "        self.copy_id = copy_id\n",
    "        self.book_id = book_id\n",
    "        self.branch_id = branch_id\n",
    "        self.title = title\n",
    "        self.description = description\n",
    "\n",
    "    def __str__(self):\n",
    "        return f\"{self.title} (Copy: {self.copy_id}, Book: {self.book_id})\""
   ]
  },
  {
   "cell_type": "markdown",
   "id": "19c96a1f",
   "metadata": {
    "slideshow": {
     "slide_type": "subslide"
    }
   },
   "source": [
    "# Code to load books.json"
   ]
  },
  {
   "cell_type": "code",
   "execution_count": null,
   "id": "b0c9605b",
   "metadata": {
    "execution": {
     "iopub.execute_input": "2023-11-12T23:25:58.081122Z",
     "iopub.status.busy": "2023-11-12T23:25:58.080801Z",
     "iopub.status.idle": "2023-11-12T23:25:58.085833Z",
     "shell.execute_reply": "2023-11-12T23:25:58.085067Z"
    },
    "slideshow": {
     "slide_type": ""
    }
   },
   "outputs": [],
   "source": [
    "import json\n",
    "\n",
    "def load_books(filename):\n",
    "    all_books = []\n",
    "    with open(filename, 'r') as f:\n",
    "        json_books = json.load(f)\n",
    "\n",
    "    for json_book in json_books:\n",
    "        for cp in json_book['copies']:\n",
    "            bc = BookCopy(\n",
    "                cp['id'], \n",
    "                json_book['id'], \n",
    "                cp['branch_id'], \n",
    "                json_book['title'],\n",
    "                json_book['description'])\n",
    "            all_books.append(bc)\n",
    "\n",
    "    print(f\"Loaded {len(all_books)} book copies from {filename}\")\n",
    "    return all_books"
   ]
  },
  {
   "cell_type": "markdown",
   "id": "2bbd3b44",
   "metadata": {
    "slideshow": {
     "slide_type": "subslide"
    }
   },
   "source": [
    "Great, now we can list all books for a branch:"
   ]
  },
  {
   "cell_type": "code",
   "execution_count": null,
   "id": "95dbb078",
   "metadata": {
    "execution": {
     "iopub.execute_input": "2023-11-12T23:25:58.089575Z",
     "iopub.status.busy": "2023-11-12T23:25:58.089269Z",
     "iopub.status.idle": "2023-11-12T23:25:58.107412Z",
     "shell.execute_reply": "2023-11-12T23:25:58.106547Z"
    }
   },
   "outputs": [],
   "source": [
    "book_copies = load_books('../../snippets/library/books.json')\n",
    "branch_id = branches[0].id\n",
    "for b in book_copies:\n",
    "    if b.branch_id == branch_id:\n",
    "        print(b)"
   ]
  },
  {
   "cell_type": "markdown",
   "id": "10843381",
   "metadata": {
    "slideshow": {
     "slide_type": "slide"
    }
   },
   "source": [
    "Our tasks:\n",
    "\n",
    "* ~~List the branches and their info.~~\n",
    "* ~~Print out all the books from a branch.~~\n",
    "* **Print out the books a patron has checked out.**\n",
    "* Provide very simple text search (substring matching) over book titles."
   ]
  },
  {
   "cell_type": "markdown",
   "id": "a6dc2ce4",
   "metadata": {
    "slideshow": {
     "slide_type": "subslide"
    }
   },
   "source": [
    "# First step: loading patrons\n",
    "\n",
    "This is similar to branches. Here's a `Patron` class:"
   ]
  },
  {
   "cell_type": "code",
   "execution_count": null,
   "id": "fde93c29",
   "metadata": {
    "execution": {
     "iopub.execute_input": "2023-11-12T23:25:58.111428Z",
     "iopub.status.busy": "2023-11-12T23:25:58.111111Z",
     "iopub.status.idle": "2023-11-12T23:25:58.115437Z",
     "shell.execute_reply": "2023-11-12T23:25:58.114621Z"
    }
   },
   "outputs": [],
   "source": [
    "class Patron:\n",
    "    def __init__(self, id, name):\n",
    "        self.id = id\n",
    "        self.name = name\n",
    "\n",
    "    def __str__(self):\n",
    "        return f\"{self.name} ({self.id})\""
   ]
  },
  {
   "cell_type": "markdown",
   "id": "08522944",
   "metadata": {
    "slideshow": {
     "slide_type": "subslide"
    }
   },
   "source": [
    "# Code to load patrons.csv"
   ]
  },
  {
   "cell_type": "code",
   "execution_count": null,
   "id": "4c5a7edd",
   "metadata": {
    "execution": {
     "iopub.execute_input": "2023-11-12T23:25:58.119267Z",
     "iopub.status.busy": "2023-11-12T23:25:58.118940Z",
     "iopub.status.idle": "2023-11-12T23:25:58.123792Z",
     "shell.execute_reply": "2023-11-12T23:25:58.123019Z"
    },
    "slideshow": {
     "slide_type": ""
    }
   },
   "outputs": [],
   "source": [
    "def load_patrons(filename):\n",
    "    all_patrons = []\n",
    "    with open(filename, 'r') as f:\n",
    "        reader = csv.reader(f, delimiter=',')\n",
    "        for line in reader:\n",
    "            all_patrons.append(Patron(line[0], line[1]))\n",
    "    print(f\"Loaded {len(all_patrons)} patrons from {filename}\")\n",
    "    return all_patrons"
   ]
  },
  {
   "cell_type": "code",
   "execution_count": null,
   "id": "342c7790",
   "metadata": {
    "execution": {
     "iopub.execute_input": "2023-11-12T23:25:58.127515Z",
     "iopub.status.busy": "2023-11-12T23:25:58.127203Z",
     "iopub.status.idle": "2023-11-12T23:25:58.138170Z",
     "shell.execute_reply": "2023-11-12T23:25:58.137333Z"
    },
    "slideshow": {
     "slide_type": "subslide"
    }
   },
   "outputs": [],
   "source": [
    "patrons = load_patrons('../../snippets/library/patrons.csv')\n",
    "for p in patrons:\n",
    "    print(p)"
   ]
  },
  {
   "cell_type": "markdown",
   "id": "d68dca70",
   "metadata": {
    "slideshow": {
     "slide_type": "slide"
    }
   },
   "source": [
    "## We need to deal with checkouts\n",
    "\n",
    "In order to list a patron's checked out books, we need to process `checkouts.json`.\n",
    "\n",
    "Checkouts are a relationship between a `Patron` and a `BookCopy`. \n",
    "\n",
    "It's not clear where to put the data for a checkout. We could:\n",
    "* Give `Patron` a list of `BookCopy`s that are checked out\n",
    "* Give `BookCopy` a reference to the `Patron` that has checked the copy out"
   ]
  },
  {
   "cell_type": "markdown",
   "id": "dc66c6aa",
   "metadata": {
    "slideshow": {
     "slide_type": "fragment"
    }
   },
   "source": [
    "It's a trap..."
   ]
  },
  {
   "cell_type": "markdown",
   "id": "8b651231",
   "metadata": {
    "slideshow": {
     "slide_type": "subslide"
    }
   },
   "source": [
    "## Keep classes simple and focused\n",
    "\n",
    "Both options are unwieldy, and violate best practices around class design. \n",
    "\n",
    "Classes should be \"cohesive\" - they should do **one thing**.\n",
    "\n",
    "A book or patron class which tracks checkouts does more than one thing."
   ]
  },
  {
   "cell_type": "markdown",
   "id": "37b2c93d",
   "metadata": {
    "slideshow": {
     "slide_type": "subslide"
    }
   },
   "source": [
    "## Enter: LibraryNetwork\n",
    "\n",
    "Let's introduce a new class to tie our different types of data together, and manage relationships between them."
   ]
  },
  {
   "cell_type": "code",
   "execution_count": null,
   "id": "251ac5ec",
   "metadata": {
    "execution": {
     "iopub.execute_input": "2023-11-12T23:25:58.142558Z",
     "iopub.status.busy": "2023-11-12T23:25:58.142205Z",
     "iopub.status.idle": "2023-11-12T23:25:58.146707Z",
     "shell.execute_reply": "2023-11-12T23:25:58.145869Z"
    }
   },
   "outputs": [],
   "source": [
    "class LibraryNetwork:\n",
    "    def __init__(self, branches, book_copies, patrons):\n",
    "        self.branches = branches\n",
    "        self.copies = book_copies\n",
    "        self.patrons = patrons\n",
    "        self.checkouts = {}"
   ]
  },
  {
   "cell_type": "markdown",
   "id": "e191462f",
   "metadata": {
    "slideshow": {
     "slide_type": "subslide"
    }
   },
   "source": [
    "We'll add the operations we've built already: listing branches, and listing books for a branch:"
   ]
  },
  {
   "cell_type": "code",
   "execution_count": null,
   "id": "2ad5f73f",
   "metadata": {
    "execution": {
     "iopub.execute_input": "2023-11-12T23:25:58.150605Z",
     "iopub.status.busy": "2023-11-12T23:25:58.150291Z",
     "iopub.status.idle": "2023-11-12T23:25:58.155644Z",
     "shell.execute_reply": "2023-11-12T23:25:58.154844Z"
    }
   },
   "outputs": [],
   "source": [
    "class LibraryNetwork:\n",
    "    def __init__(self, branches, book_copies, patrons):\n",
    "        self.branches = branches\n",
    "        self.copies = book_copies\n",
    "        self.patrons = patrons\n",
    "        self.checkouts = {}\n",
    "\n",
    "    def list_branches(self):\n",
    "        return self.branches\n",
    "\n",
    "    def list_books_for_branch(self, branch_id):\n",
    "        results = []\n",
    "        for cp in self.copies:\n",
    "            if cp.branch_id == branch_id:\n",
    "                results.append(cp)\n",
    "        return results"
   ]
  },
  {
   "cell_type": "markdown",
   "id": "89c9f707",
   "metadata": {
    "slideshow": {
     "slide_type": "subslide"
    }
   },
   "source": [
    "Now we'll add a `checkout` method, which marks a book as checked out by a patron:"
   ]
  },
  {
   "cell_type": "code",
   "execution_count": null,
   "id": "35419610",
   "metadata": {
    "execution": {
     "iopub.execute_input": "2023-11-12T23:25:58.159479Z",
     "iopub.status.busy": "2023-11-12T23:25:58.159167Z",
     "iopub.status.idle": "2023-11-12T23:25:58.164671Z",
     "shell.execute_reply": "2023-11-12T23:25:58.163872Z"
    }
   },
   "outputs": [],
   "source": [
    "class LibraryNetwork:\n",
    "    def __init__(self, branches, book_copies, patrons):\n",
    "        self.branches = branches\n",
    "        self.copies = book_copies\n",
    "        self.patrons = patrons\n",
    "        self.checkouts = {}\n",
    "\n",
    "    def list_branches(self):\n",
    "        return self.branches\n",
    "\n",
    "    def list_books_for_branch(self, branch_id):\n",
    "        results = []\n",
    "        for cp in self.copies:\n",
    "            if cp.branch_id == branch_id:\n",
    "                results.append(cp)\n",
    "        return results\n",
    "    \n",
    "    def checkout(self, copy_id, patron_id):\n",
    "        self.checkouts[copy_id] = patron_id"
   ]
  },
  {
   "cell_type": "markdown",
   "id": "d0f6f27c",
   "metadata": {
    "slideshow": {
     "slide_type": "subslide"
    }
   },
   "source": [
    "Now we load checkout data from `checkouts.json` into a `LibraryNetwork`:"
   ]
  },
  {
   "cell_type": "code",
   "execution_count": null,
   "id": "68190bf1",
   "metadata": {
    "execution": {
     "iopub.execute_input": "2023-11-12T23:25:58.168455Z",
     "iopub.status.busy": "2023-11-12T23:25:58.168134Z",
     "iopub.status.idle": "2023-11-12T23:25:58.172678Z",
     "shell.execute_reply": "2023-11-12T23:25:58.171861Z"
    }
   },
   "outputs": [],
   "source": [
    "def load_checkouts(filename, network):\n",
    "    with open(filename, 'r') as f:\n",
    "        checkouts = json.load(f)\n",
    "        for checkout in checkouts:\n",
    "            network.checkout(checkout['copy_id'], checkout['patron_id'])"
   ]
  },
  {
   "cell_type": "markdown",
   "id": "bbd0fd75",
   "metadata": {
    "slideshow": {
     "slide_type": "subslide"
    }
   },
   "source": [
    "We'll be reloading data for our network often as we update the LibraryNetwork class. Let's make a function that creates a network and loads all the data into it."
   ]
  },
  {
   "cell_type": "code",
   "execution_count": null,
   "id": "23982a96",
   "metadata": {
    "execution": {
     "iopub.execute_input": "2023-11-12T23:25:58.176608Z",
     "iopub.status.busy": "2023-11-12T23:25:58.176273Z",
     "iopub.status.idle": "2023-11-12T23:25:58.181027Z",
     "shell.execute_reply": "2023-11-12T23:25:58.180259Z"
    },
    "slideshow": {
     "slide_type": ""
    }
   },
   "outputs": [],
   "source": [
    "def load_network():\n",
    "    branches = load_branches('../../snippets/library/branches.csv')\n",
    "    book_copies = load_books('../../snippets/library/books.json')\n",
    "    patrons = load_patrons('../../snippets/library/patrons.csv')\n",
    "\n",
    "    network = LibraryNetwork(branches, book_copies, patrons)\n",
    "    load_checkouts('../../snippets/library/checkouts.json', network)\n",
    "    return network"
   ]
  },
  {
   "cell_type": "code",
   "execution_count": null,
   "id": "780694af",
   "metadata": {
    "execution": {
     "iopub.execute_input": "2023-11-12T23:25:58.184675Z",
     "iopub.status.busy": "2023-11-12T23:25:58.184358Z",
     "iopub.status.idle": "2023-11-12T23:25:58.236745Z",
     "shell.execute_reply": "2023-11-12T23:25:58.235780Z"
    }
   },
   "outputs": [],
   "source": [
    "network = load_network()\n",
    "print(len(network.checkouts))"
   ]
  },
  {
   "cell_type": "markdown",
   "id": "22ea411d",
   "metadata": {
    "slideshow": {
     "slide_type": "subslide"
    }
   },
   "source": [
    "Back to our task: listing a patron's checked out books:"
   ]
  },
  {
   "cell_type": "code",
   "execution_count": null,
   "id": "9f946129",
   "metadata": {
    "execution": {
     "iopub.execute_input": "2023-11-12T23:25:58.240964Z",
     "iopub.status.busy": "2023-11-12T23:25:58.240636Z",
     "iopub.status.idle": "2023-11-12T23:25:58.245169Z",
     "shell.execute_reply": "2023-11-12T23:25:58.244357Z"
    },
    "slideshow": {
     "slide_type": ""
    }
   },
   "outputs": [],
   "source": [
    "class LibraryNetwork:\n",
    "    # ...\n",
    "        \n",
    "    def list_patrons_books(self, patron_id):\n",
    "        books = []\n",
    "        for copy_id in self.checkouts:\n",
    "            if self.checkouts[copy_id] == patron_id:\n",
    "                # we need to find the copy by copy_id... how?\n",
    "                pass\n",
    "        return books"
   ]
  },
  {
   "cell_type": "markdown",
   "id": "0b27eb6e",
   "metadata": {
    "slideshow": {
     "slide_type": "slide"
    }
   },
   "source": [
    "## We need a way to look up `BookCopy`s by `copy_id`\n",
    "\n",
    "We could iterate through each one to find it. \n",
    "\n",
    "Or we could build an index: a dictionary mapping from `copy_id` to `BookCopy` instance.\n",
    "\n",
    "Let's update LibraryNetwork's `__init__` method to build the index:"
   ]
  },
  {
   "cell_type": "code",
   "execution_count": null,
   "id": "0a495002",
   "metadata": {
    "execution": {
     "iopub.execute_input": "2023-11-12T23:25:58.249044Z",
     "iopub.status.busy": "2023-11-12T23:25:58.248735Z",
     "iopub.status.idle": "2023-11-12T23:25:58.254035Z",
     "shell.execute_reply": "2023-11-12T23:25:58.253186Z"
    }
   },
   "outputs": [],
   "source": [
    "class LibraryNetwork:\n",
    "    def __init__(self, branches, book_copies, patrons):\n",
    "        self.branches = {}\n",
    "        for b in branches:\n",
    "            self.branches[b.id] = b\n",
    "\n",
    "        self.copies = {}\n",
    "        for cp in book_copies:\n",
    "            self.copies[cp.copy_id] = cp\n",
    "\n",
    "        self.patrons = {}\n",
    "        for p in patrons:\n",
    "            self.patrons[p.id] = p\n",
    "            \n",
    "        self.checkouts = {}"
   ]
  },
  {
   "cell_type": "markdown",
   "id": "b57e6952",
   "metadata": {
    "slideshow": {
     "slide_type": "subslide"
    }
   },
   "source": [
    "We'll shorten this with dictionary comprehensions:"
   ]
  },
  {
   "cell_type": "code",
   "execution_count": null,
   "id": "86844a6f",
   "metadata": {
    "execution": {
     "iopub.execute_input": "2023-11-12T23:25:58.258370Z",
     "iopub.status.busy": "2023-11-12T23:25:58.258028Z",
     "iopub.status.idle": "2023-11-12T23:25:58.263158Z",
     "shell.execute_reply": "2023-11-12T23:25:58.262365Z"
    }
   },
   "outputs": [],
   "source": [
    "class LibraryNetwork:\n",
    "    def __init__(self, branches, book_copies, patrons):\n",
    "        self.branches = {b.id: b for b in branches}\n",
    "        self.copies = {cp.copy_id: cp for cp in book_copies}\n",
    "        self.patrons = {p.id for p in patrons}\n",
    "        self.checkouts = {}"
   ]
  },
  {
   "cell_type": "markdown",
   "id": "d125f945",
   "metadata": {},
   "source": [
    "We have to update any places where we were using `self.branches`/`self.copies`/`self.patrons`:"
   ]
  },
  {
   "cell_type": "code",
   "execution_count": null,
   "id": "35a20b47",
   "metadata": {
    "execution": {
     "iopub.execute_input": "2023-11-12T23:25:58.266949Z",
     "iopub.status.busy": "2023-11-12T23:25:58.266640Z",
     "iopub.status.idle": "2023-11-12T23:25:58.272894Z",
     "shell.execute_reply": "2023-11-12T23:25:58.272109Z"
    }
   },
   "outputs": [],
   "source": [
    "class LibraryNetwork:\n",
    "    def __init__(self, branches, book_copies, patrons):\n",
    "        self.branches = {b.id: b for b in branches}\n",
    "        self.copies = {cp.copy_id: cp for cp in book_copies}\n",
    "        self.patrons = {p.id for p in patrons}\n",
    "        self.checkouts = {}\n",
    "\n",
    "    def list_branches(self):\n",
    "        return list(self.branches.values())\n",
    "\n",
    "    def list_books_for_branch(self, branch_id):\n",
    "        results = []\n",
    "        for cp in self.copies.values():\n",
    "            if cp.branch_id == branch_id:\n",
    "                results.append(cp)\n",
    "        return results\n",
    "    \n",
    "    def checkout(self, copy_id, patron_id):\n",
    "        self.checkouts[copy_id] = patron_id"
   ]
  },
  {
   "cell_type": "markdown",
   "id": "cbb54c21",
   "metadata": {
    "slideshow": {
     "slide_type": "subslide"
    }
   },
   "source": [
    "Now the code for `list_patrons_books`:"
   ]
  },
  {
   "cell_type": "code",
   "execution_count": null,
   "id": "709cf45d",
   "metadata": {
    "execution": {
     "iopub.execute_input": "2023-11-12T23:25:58.276581Z",
     "iopub.status.busy": "2023-11-12T23:25:58.276269Z",
     "iopub.status.idle": "2023-11-12T23:25:58.281038Z",
     "shell.execute_reply": "2023-11-12T23:25:58.280246Z"
    }
   },
   "outputs": [],
   "source": [
    "class LibraryNetwork:\n",
    "    # ...\n",
    "    def list_patrons_books(self, patron_id):\n",
    "        books = []\n",
    "        for (copy_id, pid) in self.checkouts.items():\n",
    "            if patron_id == pid:\n",
    "                books.append(self.copies[copy_id])\n",
    "        return books"
   ]
  },
  {
   "cell_type": "markdown",
   "id": "55d82371",
   "metadata": {
    "slideshow": {
     "slide_type": "subslide"
    }
   },
   "source": [
    "A quick test:"
   ]
  },
  {
   "cell_type": "code",
   "execution_count": null,
   "id": "4b210aef",
   "metadata": {
    "execution": {
     "iopub.execute_input": "2023-11-12T23:25:58.284821Z",
     "iopub.status.busy": "2023-11-12T23:25:58.284507Z",
     "iopub.status.idle": "2023-11-12T23:25:58.292013Z",
     "shell.execute_reply": "2023-11-12T23:25:58.291178Z"
    },
    "slideshow": {
     "slide_type": ""
    }
   },
   "outputs": [],
   "source": [
    "class LibraryNetwork:\n",
    "    def __init__(self, branches, book_copies, patrons):\n",
    "        self.branches = {b.id: b for b in branches}\n",
    "        self.copies = {cp.copy_id: cp for cp in book_copies}\n",
    "        self.patrons = {p.id for p in patrons}\n",
    "        self.checkouts = {}\n",
    "\n",
    "    def list_branches(self):\n",
    "        return list(self.branches.values())\n",
    "\n",
    "    def list_books_for_branch(self, branch_id):\n",
    "        results = []\n",
    "        for cp in self.copies.values():\n",
    "            if cp.branch_id == branch_id:\n",
    "                results.append(cp)\n",
    "        return results\n",
    "    \n",
    "    def checkout(self, copy_id, patron_id):\n",
    "        self.checkouts[copy_id] = patron_id\n",
    "        \n",
    "    def list_patrons_books(self, patron_id):\n",
    "        books = []\n",
    "        for (copy_id, pid) in self.checkouts.items():\n",
    "            if patron_id == pid:\n",
    "                books.append(self.copies[copy_id])\n",
    "        return books"
   ]
  },
  {
   "cell_type": "code",
   "execution_count": null,
   "id": "f38bc452",
   "metadata": {
    "execution": {
     "iopub.execute_input": "2023-11-12T23:25:58.295704Z",
     "iopub.status.busy": "2023-11-12T23:25:58.295390Z",
     "iopub.status.idle": "2023-11-12T23:25:58.316807Z",
     "shell.execute_reply": "2023-11-12T23:25:58.315906Z"
    },
    "slideshow": {
     "slide_type": ""
    }
   },
   "outputs": [],
   "source": [
    "network = load_network()\n",
    "for c in network.list_patrons_books(patrons[3].id):\n",
    "    print(c)"
   ]
  },
  {
   "cell_type": "markdown",
   "id": "3a8ca5e0",
   "metadata": {
    "slideshow": {
     "slide_type": "slide"
    }
   },
   "source": [
    "Our tasks:\n",
    "\n",
    "* ~~List the branches and their info.~~\n",
    "* ~~Print out all the books from a branch.~~\n",
    "* ~~Print out the books a patron has checked out.~~\n",
    "* **Provide very simple text search (substring matching) over book titles.**"
   ]
  },
  {
   "cell_type": "code",
   "execution_count": null,
   "id": "b3dd5f22",
   "metadata": {
    "execution": {
     "iopub.execute_input": "2023-11-12T23:25:58.321074Z",
     "iopub.status.busy": "2023-11-12T23:25:58.320566Z",
     "iopub.status.idle": "2023-11-12T23:25:58.325359Z",
     "shell.execute_reply": "2023-11-12T23:25:58.324540Z"
    },
    "slideshow": {
     "slide_type": "subslide"
    }
   },
   "outputs": [],
   "source": [
    "class LibraryNetwork:\n",
    "    # ... \n",
    "    def book_search(self, value):\n",
    "        matches = []\n",
    "        for cp in self.copies.values():\n",
    "            if value in cp.title:\n",
    "                matches.append(cp)\n",
    "\n",
    "        return matches"
   ]
  },
  {
   "cell_type": "code",
   "execution_count": null,
   "id": "5f09d8ed",
   "metadata": {
    "execution": {
     "iopub.execute_input": "2023-11-12T23:25:58.329563Z",
     "iopub.status.busy": "2023-11-12T23:25:58.329083Z",
     "iopub.status.idle": "2023-11-12T23:25:58.337225Z",
     "shell.execute_reply": "2023-11-12T23:25:58.336399Z"
    },
    "slideshow": {
     "slide_type": "subslide"
    }
   },
   "outputs": [],
   "source": [
    "  class LibraryNetwork:\n",
    "    def __init__(self, branches, book_copies, patrons):\n",
    "        self.branches = {b.id: b for b in branches}\n",
    "        self.copies = {cp.copy_id: cp for cp in book_copies}\n",
    "        self.patrons = {p.id for p in patrons}\n",
    "        self.checkouts = {}\n",
    "\n",
    "    def list_branches(self):\n",
    "        return list(self.branches.values())\n",
    "\n",
    "    def list_books_for_branch(self, branch_id):\n",
    "        results = []\n",
    "        for cp in self.copies.values():\n",
    "            if cp.branch_id == branch_id:\n",
    "                results.append(cp)\n",
    "        return results\n",
    "    \n",
    "    def checkout(self, copy_id, patron_id):\n",
    "        self.checkouts[copy_id] = patron_id\n",
    "        \n",
    "    def list_patrons_books(self, patron_id):\n",
    "        books = []\n",
    "        for (copy_id, pid) in self.checkouts.items():\n",
    "            if patron_id == pid:\n",
    "                books.append(self.copies[copy_id])\n",
    "        return books\n",
    "    \n",
    "    def book_search(self, value):\n",
    "        matches = []\n",
    "        for cp in self.copies.values():\n",
    "            if value in cp.title:\n",
    "                matches.append(cp)\n",
    "\n",
    "        return matches"
   ]
  },
  {
   "cell_type": "code",
   "execution_count": null,
   "id": "5ceb4b71",
   "metadata": {
    "execution": {
     "iopub.execute_input": "2023-11-12T23:25:58.340991Z",
     "iopub.status.busy": "2023-11-12T23:25:58.340673Z",
     "iopub.status.idle": "2023-11-12T23:25:58.360182Z",
     "shell.execute_reply": "2023-11-12T23:25:58.359325Z"
    },
    "slideshow": {
     "slide_type": ""
    }
   },
   "outputs": [],
   "source": [
    "network = load_network()\n",
    "for m in network.book_search('love'):\n",
    "    print(m)"
   ]
  },
  {
   "cell_type": "markdown",
   "id": "4e6e4917",
   "metadata": {
    "slideshow": {
     "slide_type": "subslide"
    }
   },
   "source": [
    "Looks like we have to deal with duplicates. There are multiple copies of each book.\n",
    "\n",
    "We can't easily use a set here, because different `BookCopy` instances will not be considered equal.\n",
    "\n",
    "We can leverage a dictionary and book ids though."
   ]
  },
  {
   "cell_type": "code",
   "execution_count": null,
   "id": "3c1a2b9e",
   "metadata": {
    "execution": {
     "iopub.execute_input": "2023-11-12T23:25:58.364223Z",
     "iopub.status.busy": "2023-11-12T23:25:58.363896Z",
     "iopub.status.idle": "2023-11-12T23:25:58.368649Z",
     "shell.execute_reply": "2023-11-12T23:25:58.367855Z"
    },
    "slideshow": {
     "slide_type": ""
    }
   },
   "outputs": [],
   "source": [
    "class LibraryNetwork:\n",
    "    # ...\n",
    "    \n",
    "    def book_search(self, value):\n",
    "        matches = {}\n",
    "        for cp in self.copies.values():\n",
    "            if value.lower() in cp.title.lower():\n",
    "                matches[cp.book_id] = cp\n",
    "\n",
    "        return list(matches.values())\n"
   ]
  },
  {
   "cell_type": "code",
   "execution_count": null,
   "id": "77fc92f6",
   "metadata": {
    "execution": {
     "iopub.execute_input": "2023-11-12T23:25:58.372358Z",
     "iopub.status.busy": "2023-11-12T23:25:58.372043Z",
     "iopub.status.idle": "2023-11-12T23:25:58.379957Z",
     "shell.execute_reply": "2023-11-12T23:25:58.379149Z"
    },
    "slideshow": {
     "slide_type": "subslide"
    }
   },
   "outputs": [],
   "source": [
    "class LibraryNetwork:\n",
    "    def __init__(self, branches, book_copies, patrons):\n",
    "        self.branches = {b.id: b for b in branches}\n",
    "        self.copies = {cp.copy_id: cp for cp in book_copies}\n",
    "        self.patrons = {p.id for p in patrons}\n",
    "        self.checkouts = {}\n",
    "\n",
    "    def list_branches(self):\n",
    "        return list(self.branches.values())\n",
    "\n",
    "    def list_books_for_branch(self, branch_id):\n",
    "        results = []\n",
    "        for cp in self.copies.values():\n",
    "            if cp.branch_id == branch_id:\n",
    "                results.append(cp)\n",
    "        return results\n",
    "    \n",
    "    def checkout(self, copy_id, patron_id):\n",
    "        self.checkouts[copy_id] = patron_id\n",
    "        \n",
    "    def list_patrons_books(self, patron_id):\n",
    "        books = []\n",
    "        for (copy_id, pid) in self.checkouts.items():\n",
    "            if patron_id == pid:\n",
    "                books.append(self.copies[copy_id])\n",
    "        return books\n",
    "    \n",
    "    def book_search(self, value):\n",
    "        matches = {}\n",
    "        for cp in self.copies.values():\n",
    "            if value.lower() in cp.title.lower():\n",
    "                matches[cp.book_id] = cp\n",
    "\n",
    "        return list(matches.values())\n"
   ]
  },
  {
   "cell_type": "code",
   "execution_count": null,
   "id": "f4932fc2",
   "metadata": {
    "execution": {
     "iopub.execute_input": "2023-11-12T23:25:58.383651Z",
     "iopub.status.busy": "2023-11-12T23:25:58.383335Z",
     "iopub.status.idle": "2023-11-12T23:25:58.404175Z",
     "shell.execute_reply": "2023-11-12T23:25:58.403316Z"
    },
    "slideshow": {
     "slide_type": ""
    }
   },
   "outputs": [],
   "source": [
    "network = load_network()\n",
    "for m in network.book_search('vampire'):\n",
    "    print(m)"
   ]
  },
  {
   "cell_type": "markdown",
   "id": "641c5c37",
   "metadata": {
    "slideshow": {
     "slide_type": "slide"
    }
   },
   "source": [
    "## Bonus\n",
    "\n",
    "What if we want to list only available, or only checked out books from a branch?"
   ]
  },
  {
   "cell_type": "code",
   "execution_count": null,
   "id": "d8e61e74",
   "metadata": {
    "execution": {
     "iopub.execute_input": "2023-11-12T23:25:58.408731Z",
     "iopub.status.busy": "2023-11-12T23:25:58.408054Z",
     "iopub.status.idle": "2023-11-12T23:25:58.413876Z",
     "shell.execute_reply": "2023-11-12T23:25:58.413021Z"
    }
   },
   "outputs": [],
   "source": [
    "class LibraryNetwork:\n",
    "    # ...\n",
    "    def list_available_books(self, branch_id):\n",
    "        avails = []\n",
    "        for cp in self.list_books_for_branch(branch_id):\n",
    "            if cp.copy_id not in self.checkouts:\n",
    "                avails.append(cp)\n",
    "        return avails\n",
    "\n",
    "    def list_checked_out_books(self, branch_id):\n",
    "        avails = []\n",
    "        for cp in self.list_books_for_branch(branch_id):\n",
    "            if cp.copy_id in self.checkouts:\n",
    "                avails.append(cp)\n",
    "        return avails"
   ]
  },
  {
   "cell_type": "markdown",
   "id": "b0ef848d",
   "metadata": {
    "slideshow": {
     "slide_type": "subslide"
    }
   },
   "source": [
    "`list_available_books` and `list_checked_out_books` are very similar - could we reduce duplication somehow?"
   ]
  },
  {
   "cell_type": "code",
   "execution_count": null,
   "id": "3d4fa059",
   "metadata": {
    "execution": {
     "iopub.execute_input": "2023-11-12T23:25:58.418759Z",
     "iopub.status.busy": "2023-11-12T23:25:58.418356Z",
     "iopub.status.idle": "2023-11-12T23:25:58.424402Z",
     "shell.execute_reply": "2023-11-12T23:25:58.423576Z"
    },
    "slideshow": {
     "slide_type": "fragment"
    }
   },
   "outputs": [],
   "source": [
    "class LibraryNetwork:\n",
    "    # ...\n",
    "    \n",
    "    def list_books(self, branch_id, list_available):\n",
    "        avails = []\n",
    "        for cp in self.list_books_for_branch(branch_id):\n",
    "            if list_available:\n",
    "                if cp.copy_id not in self.checkouts:\n",
    "                    avails.append(cp)\n",
    "            else:\n",
    "                if cp.copy_id in self.checkouts:\n",
    "                    avails.append(cp)\n",
    "        return avails"
   ]
  },
  {
   "cell_type": "markdown",
   "id": "34a9a23d",
   "metadata": {
    "slideshow": {
     "slide_type": "subslide"
    }
   },
   "source": [
    "We can make our logic more concise (but also harder to read):"
   ]
  },
  {
   "cell_type": "code",
   "execution_count": null,
   "id": "23fdaf2f",
   "metadata": {
    "execution": {
     "iopub.execute_input": "2023-11-12T23:25:58.428533Z",
     "iopub.status.busy": "2023-11-12T23:25:58.428181Z",
     "iopub.status.idle": "2023-11-12T23:25:58.433205Z",
     "shell.execute_reply": "2023-11-12T23:25:58.432098Z"
    },
    "slideshow": {
     "slide_type": "fragment"
    }
   },
   "outputs": [],
   "source": [
    "class LibraryNetwork:\n",
    "    # ... \n",
    "    \n",
    "    def list_books(self, branch_id, list_checked_out):\n",
    "        avails = []\n",
    "        for cp in self.list_books_for_branch(branch_id):\n",
    "            checked_out = cp.copy_id in self.checkouts\n",
    "            if checked_out == list_checked_out:\n",
    "                avails.append(cp)\n",
    "        return avails"
   ]
  },
  {
   "cell_type": "markdown",
   "id": "232bc8e9",
   "metadata": {
    "slideshow": {
     "slide_type": "slide"
    }
   },
   "source": [
    "# The whole thing\n",
    "\n",
    "[repl.it link](https://replit.com/@cosi-10a-fall23/Library-Solution)"
   ]
  },
  {
   "cell_type": "code",
   "execution_count": null,
   "id": "da9d93c6",
   "metadata": {
    "execution": {
     "iopub.execute_input": "2023-11-12T23:25:58.437360Z",
     "iopub.status.busy": "2023-11-12T23:25:58.436972Z",
     "iopub.status.idle": "2023-11-12T23:25:58.456321Z",
     "shell.execute_reply": "2023-11-12T23:25:58.455499Z"
    },
    "slideshow": {
     "slide_type": "slide"
    }
   },
   "outputs": [],
   "source": [
    "import csv\n",
    "import json\n",
    "\n",
    "class Patron:\n",
    "    def __init__(self, id, name):\n",
    "        self.id = id\n",
    "        self.name = name\n",
    "\n",
    "    def __str__(self):\n",
    "        return f\"{self.name} ({self.id})\"\n",
    "\n",
    "\n",
    "def load_patrons(filename):\n",
    "    all_patrons = []\n",
    "    with open(filename, 'r') as f:\n",
    "        reader = csv.reader(f, delimiter=',')\n",
    "        for line in reader:\n",
    "            all_patrons.append(Patron(line[0], line[1]))\n",
    "    print(f\"Loaded {len(all_patrons)} patrons from {filename}\")\n",
    "    return all_patrons\n",
    "\n",
    "\n",
    "class Branch:\n",
    "    def __init__(self, id, name, address):\n",
    "        self.id = id\n",
    "        self.name = name\n",
    "        self.address = address\n",
    "\n",
    "    def __str__(self):\n",
    "        return f\"{self.name} ({self.id})\"\n",
    "\n",
    "\n",
    "def load_branches(filename):\n",
    "    all_branches = []\n",
    "    with open(filename, 'r') as f:\n",
    "        reader = csv.reader(f, delimiter=',')\n",
    "        for line in reader:\n",
    "            all_branches.append(Branch(*line))\n",
    "    print(f\"Loaded {len(all_branches)} branches from {filename}\")\n",
    "    return all_branches\n",
    "\n",
    "\n",
    "class BookCopy:\n",
    "    def __init__(self, copy_id, book_id, branch_id, title, description):\n",
    "        self.copy_id = copy_id\n",
    "        self.book_id = book_id\n",
    "        self.branch_id = branch_id\n",
    "        self.title = title\n",
    "        self.description = description\n",
    "\n",
    "    def __str__(self):\n",
    "        return f\"{self.title} (Copy: {self.copy_id}, Book: {self.book_id})\"\n",
    "\n",
    "    \n",
    "def load_books(filename):\n",
    "    all_books = []\n",
    "    with open(filename, 'r') as f:\n",
    "        json_books = json.load(f)\n",
    "\n",
    "    for json_book in json_books:\n",
    "        for cp in json_book['copies']:\n",
    "            bc = BookCopy(\n",
    "                cp['id'], \n",
    "                json_book['id'], \n",
    "                cp['branch_id'], \n",
    "                json_book['title'],\n",
    "                json_book['description'])\n",
    "            all_books.append(bc)\n",
    "\n",
    "    print(f\"Loaded {len(all_books)} book copies from {filename}\")\n",
    "    return all_books\n",
    "\n",
    "\n",
    "def load_checkouts(filename, network):\n",
    "    with open(filename, 'r') as f:\n",
    "        checkouts = json.load(f)\n",
    "        for checkout in checkouts:\n",
    "            network.checkout(checkout['copy_id'], checkout['patron_id'])\n",
    "\n",
    "            \n",
    "class LibraryNetwork:\n",
    "    def __init__(self, branches, book_copies, patrons):\n",
    "        self.branches = {b.id: b for b in branches}\n",
    "        self.copies = {cp.copy_id: cp for cp in book_copies}\n",
    "        self.patrons = {p.id for p in patrons}\n",
    "        self.checkouts = {}\n",
    "\n",
    "    def list_branches(self):\n",
    "        return list(self.branches.values())\n",
    "\n",
    "    def list_books_for_branch(self, branch_id):\n",
    "        results = []\n",
    "        for cp in self.copies.values():\n",
    "            if cp.branch_id == branch_id:\n",
    "                results.append(cp)\n",
    "        return results\n",
    "    \n",
    "    def checkout(self, copy_id, patron_id):\n",
    "        self.checkouts[copy_id] = patron_id\n",
    "        \n",
    "    def list_patrons_books(self, patron_id):\n",
    "        books = []\n",
    "        for (copy_id, pid) in self.checkouts.items():\n",
    "            if patron_id == pid:\n",
    "                books.append(self.copies[copy_id])\n",
    "        return books\n",
    "    \n",
    "    def list_books(self, branch_id, list_checked_out):\n",
    "        avails = []\n",
    "        for cp in self.list_books_for_branch(branch_id):\n",
    "            checked_out = cp.copy_id in self.checkouts\n",
    "            if checked_out == list_checked_out:\n",
    "                avails.append(cp)\n",
    "        return avails\n",
    "    \n",
    "    def list_available_books(self, branch_id):\n",
    "        return self.list_books(branch_id, False)\n",
    "    \n",
    "    def list_checked_out_books(self, branch_id):\n",
    "        return self.list_books(branch_id, True)\n",
    "    \n",
    "    def book_search(self, value):\n",
    "        matches = {}\n",
    "        for cp in self.copies.values():\n",
    "            if value.lower() in cp.title.lower():\n",
    "                matches[cp.book_id] = cp\n",
    "\n",
    "        return list(matches.values())\n",
    "\n",
    "    \n",
    "def load_network():\n",
    "    branches = load_branches('../../snippets/library/branches.csv')\n",
    "    book_copies = load_books('../../snippets/library/books.json')\n",
    "    patrons = load_patrons('../../snippets/library/patrons.csv')\n",
    "\n",
    "    network = LibraryNetwork(branches, book_copies, patrons)\n",
    "    load_checkouts('../../snippets/library/checkouts.json', network)\n",
    "    return network"
   ]
  },
  {
   "cell_type": "code",
   "execution_count": null,
   "id": "8cccab07",
   "metadata": {
    "execution": {
     "iopub.execute_input": "2023-11-12T23:25:58.460148Z",
     "iopub.status.busy": "2023-11-12T23:25:58.459802Z",
     "iopub.status.idle": "2023-11-12T23:25:58.483772Z",
     "shell.execute_reply": "2023-11-12T23:25:58.482950Z"
    },
    "slideshow": {
     "slide_type": "subslide"
    }
   },
   "outputs": [],
   "source": [
    "network = load_network()\n",
    "\n",
    "print(\"List branches test\")\n",
    "print([str(x) for x in network.list_branches()])\n",
    "print()\n",
    "print(\"Available books test:\")\n",
    "print([str(x) for x in network.list_available_books('e1077ff6-cbc0-43ef-a791-93dbae01409e')])\n",
    "print()\n",
    "print(\"Checked out books test:\")\n",
    "print([str(x) for x in network.list_checked_out_books('e1077ff6-cbc0-43ef-a791-93dbae01409e')])\n",
    "print()\n",
    "print(\"Patron's books test:\")\n",
    "print([str(x) for x in network.list_patrons_books(patrons[3].id)])\n",
    "print()\n",
    "print(\"Book search test:\")\n",
    "print([str(x) for x in network.book_search(\"vampire\")])"
   ]
  },
  {
   "cell_type": "markdown",
   "id": "a4d13df0",
   "metadata": {
    "slideshow": {
     "slide_type": "slide"
    }
   },
   "source": [
    "# Some reflections"
   ]
  },
  {
   "cell_type": "markdown",
   "id": "07d67015",
   "metadata": {
    "slideshow": {
     "slide_type": "subslide"
    }
   },
   "source": [
    "# Keep it simple\n",
    "\n",
    "We kept it relatively simple, but that's harder than it looks.\n",
    "\n",
    "Managing complexity is the biggest challenge when writing code. \n",
    "\n",
    "> \"YAGNI\" (You Ain't Gonna Need it) - _Kent Beck_\n",
    "\n",
    "> \"Premature optimization is the root of all evil\" - _Donald Knuth_\n",
    "\n",
    "> \"Debugging is twice as hard as writing the code in the first place. Therefore, if you write the code as cleverly as possible, you are, by definition, not smart enough to debug it.\" - _Brian W. Kernighan_\n",
    "\n",
    "The best, most experienced programmers may build **complicated systems**, but they tend to write the **simplest code**."
   ]
  },
  {
   "cell_type": "markdown",
   "id": "548dfd12",
   "metadata": {
    "slideshow": {
     "slide_type": "subslide"
    }
   },
   "source": [
    "## Keep classes and functions small and focused\n",
    "\n",
    "Our classes ended up pretty focused. This is good class design.\n",
    "\n",
    "Some principles to consider:\n",
    "* Modularity - separate your code into discrete parts\n",
    "* Cohesion - keep classes/functions focused on one thing\n",
    "* Separation of concerns - keep unrelated parts of code apart\n",
    "* Loose coupling - minimize strict dependencies between different code areas\n",
    "   * If changing one area of your code results in changes everywhere, you have tight coupling"
   ]
  },
  {
   "cell_type": "markdown",
   "id": "5bff2d96",
   "metadata": {
    "slideshow": {
     "slide_type": "subslide"
    }
   },
   "source": [
    "## Testing\n",
    "\n",
    "We didn't write any tests as we went along, mostly due to time constraints. \n",
    "\n",
    "Write tests for individual pieces as you create them. Then you'll have confidence you haven't broken them as you make changes."
   ]
  },
  {
   "cell_type": "markdown",
   "id": "97b07f2f",
   "metadata": {
    "slideshow": {
     "slide_type": "subslide"
    }
   },
   "source": [
    "## This is hard\n",
    "\n",
    "Modeling data relationships like this, and mapping them to classes in a clean way, is hard. \n",
    "\n",
    "It takes practice. \n",
    "\n",
    "Don't be afraid to make a mistake or a mess - that's how you'll learn."
   ]
  }
 ],
 "metadata": {
  "celltoolbar": "Slideshow",
  "kernelspec": {
   "display_name": "Python 3 (ipykernel)",
   "language": "python",
   "name": "python3"
  },
  "language_info": {
   "codemirror_mode": {
    "name": "ipython",
    "version": 3
   },
   "file_extension": ".py",
   "mimetype": "text/x-python",
   "name": "python",
   "nbconvert_exporter": "python",
   "pygments_lexer": "ipython3",
   "version": "3.10.9"
  }
 },
 "nbformat": 4,
 "nbformat_minor": 5
}
