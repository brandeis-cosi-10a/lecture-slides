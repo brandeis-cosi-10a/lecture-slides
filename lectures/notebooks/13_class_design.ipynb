{
 "cells": [
  {
   "cell_type": "markdown",
   "id": "1ee8a1d2",
   "metadata": {
    "slideshow": {
     "slide_type": "slide"
    }
   },
   "source": [
    "# Class Design Exercise\n",
    "\n",
    "<style>\n",
    "section.present > section.present { \n",
    "    max-height: 90%; \n",
    "    overflow-y: scroll;\n",
    "}\n",
    "</style>\n",
    "\n",
    "<small><a href=\"https://colab.research.google.com/github/brandeis-jdelfino/cosi-10a/blob/main/lectures/notebooks/12_class_design.ipynb\">Link to interactive slides on Google Colab</a></small>"
   ]
  },
  {
   "cell_type": "markdown",
   "id": "33eb51f3",
   "metadata": {
    "slideshow": {
     "slide_type": "slide"
    }
   },
   "source": [
    "# Exercise\n",
    "\n",
    "Create a program to model a library network:\n",
    "* These libraries deal in books only - no need to model magazines, video, etc.\n",
    "* There are multiple library branches, each with their own book inventory.\n",
    "* Library patrons have accounts in the library network, and can have books out on loan.\n",
    "* Data on books, branches, and patrons will be loaded from files.\n",
    "\n",
    "Our program should be able to:\n",
    "* List the branches and their info.\n",
    "* Print out all the available and/or checked out books from a branch.\n",
    "* Print out the books a patron has checked out.\n",
    "* Provide very simple text search (substring matching) over book titles."
   ]
  },
  {
   "cell_type": "markdown",
   "id": "875c1014",
   "metadata": {
    "slideshow": {
     "slide_type": "slide"
    }
   },
   "source": [
    "# File structure\n",
    "\n",
    "We have 4 files:\n",
    "* `branches.csv`\n",
    "  * A comma-delimited file that contains one row per branch, with 3 string fields: `id`, `name`, and `address`.\n",
    "* `books.json`\n",
    "  * A JSON file with a list of dictionaries. Each dictionary represents a unique title. They have the following fields:\n",
    "    * `id` (str)\n",
    "    * `name` (str)\n",
    "    * `description` (str)\n",
    "    * `copies`\n",
    "      * A list of dictionaries, each of which has 2 keys: `copy_id`, `branch_id`.\n",
    "* `patrons.csv`\n",
    "  * A comma-delimited file that contains one row per patron, with 2 string fields: `id`, and `name`.\n",
    "* `checkouts.json`\n",
    "  * A JSON file with a list of dictionaries. Each dictionary represents a checkout of a book copy by a patron. They have the following fields:\n",
    "  * `patron_id` (str)\n",
    "  * `copy_id` (str)"
   ]
  },
  {
   "cell_type": "markdown",
   "id": "33b3b272",
   "metadata": {
    "slideshow": {
     "slide_type": "slide"
    }
   },
   "source": [
    "# Where do we start??\n",
    "\n",
    "This is a big problem, we can't tackle it all at once.\n",
    "\n",
    "Let's focus on a smaller piece: we'll need to load all the data in, and we'll want to provide some simple structures, in the forms of classes, to hold it.\n",
    "\n",
    "Based on the files and data we have, let's start with these classes:\n",
    "* `Branch` - a library branch\n",
    "* `Patron` - a patron\n",
    "* `BookCopy` - single copy of a book, containing all the info about the book\n",
    "\n",
    "We'll leave checkouts aside for now.\n",
    "\n",
    "There are many overly complex ways to model the relationships in this data. However, we don't know much yet. Let's keep it simple, then iterate. Each class will be self-contained, and will not refer directly to any other classes."
   ]
  },
  {
   "cell_type": "markdown",
   "id": "bc673a50",
   "metadata": {
    "slideshow": {
     "slide_type": "slide"
    }
   },
   "source": [
    "# Listing branches\n",
    "\n",
    "This is the simplest operation - load `branches.csv` into a list, and then print each branch."
   ]
  },
  {
   "cell_type": "code",
   "execution_count": null,
   "id": "6d92d2d0",
   "metadata": {
    "execution": {
     "iopub.execute_input": "2023-10-15T03:45:37.103417Z",
     "iopub.status.busy": "2023-10-15T03:45:37.102796Z",
     "iopub.status.idle": "2023-10-15T03:45:37.122589Z",
     "shell.execute_reply": "2023-10-15T03:45:37.120993Z"
    }
   },
   "outputs": [],
   "source": [
    "import csv\n",
    "\n",
    "class Branch:\n",
    "    def __init__(self, id, name, address):\n",
    "        self.id = id\n",
    "        self.name = name\n",
    "        self.address = address\n",
    "\n",
    "    def __str__(self):\n",
    "        return f\"{self.name} ({self.id})\"\n",
    "\n",
    "def load_branches(filename):\n",
    "    all_branches = []\n",
    "    with open(filename, 'r') as f:\n",
    "        reader = csv.reader(f, delimiter=',')\n",
    "        for line in reader:\n",
    "            all_branches.append(Branch(line[0], line[1], line[2]))\n",
    "    print(f\"Loaded {len(all_branches)} branches from {filename}\")\n",
    "    return all_branches"
   ]
  },
  {
   "cell_type": "code",
   "execution_count": null,
   "id": "dcd89362",
   "metadata": {
    "execution": {
     "iopub.execute_input": "2023-10-15T03:45:37.126796Z",
     "iopub.status.busy": "2023-10-15T03:45:37.126448Z",
     "iopub.status.idle": "2023-10-15T03:45:37.132088Z",
     "shell.execute_reply": "2023-10-15T03:45:37.131299Z"
    }
   },
   "outputs": [],
   "source": [
    "branches = load_branches('../../snippets/library/branches.csv')\n",
    "for b in branches:\n",
    "    print(b)"
   ]
  },
  {
   "cell_type": "markdown",
   "id": "d9937271",
   "metadata": {
    "slideshow": {
     "slide_type": "slide"
    }
   },
   "source": [
    "# Listing books for a branch\n",
    "\n",
    "Well, we need to load books if we're going to list any of them. Very similar to branches, right?"
   ]
  },
  {
   "cell_type": "markdown",
   "id": "8915e67c",
   "metadata": {
    "slideshow": {
     "slide_type": "fragment"
    }
   },
   "source": [
    "Wait, a book has multiple copies. How do we model this?"
   ]
  },
  {
   "cell_type": "markdown",
   "id": "105193c2",
   "metadata": {
    "slideshow": {
     "slide_type": "fragment"
    }
   },
   "source": [
    "Let's try having `BookCopy` and `Book`, and each `BookCopy` will hold a reference to its `Book`."
   ]
  },
  {
   "cell_type": "code",
   "execution_count": null,
   "id": "24bf8ec1",
   "metadata": {
    "execution": {
     "iopub.execute_input": "2023-10-15T03:45:37.136042Z",
     "iopub.status.busy": "2023-10-15T03:45:37.135723Z",
     "iopub.status.idle": "2023-10-15T03:45:37.142383Z",
     "shell.execute_reply": "2023-10-15T03:45:37.141678Z"
    },
    "slideshow": {
     "slide_type": "subslide"
    }
   },
   "outputs": [],
   "source": [
    "import json\n",
    "class Book:\n",
    "    def __init__(self, id, title, description):\n",
    "        self.id = id\n",
    "        self.title = title\n",
    "        self.description = description\n",
    "\n",
    "    def __str__(self):\n",
    "        return f\"{self.title} ({self.id})\"\n",
    "\n",
    "class BookCopy:\n",
    "    def __init__(self, copy_id, book, branch_id):\n",
    "        self.copy_id = copy_id\n",
    "        self.book = book\n",
    "        self.branch_id = branch_id\n",
    "\n",
    "    def __str__(self):\n",
    "        return f\"{self.book.title} (Copy: {self.copy_id}, Book: {self.book.id})\"\n",
    "\n",
    "def load_books(filename):\n",
    "    all_books = []\n",
    "    with open(filename, 'r') as f:\n",
    "        json_books = json.load(f)\n",
    "        for json_book in json_books:\n",
    "            book = Book(json_book['id'], json_book['title'],\n",
    "                                    json_book['description'])\n",
    "\n",
    "            for cp in json_book['copies']:\n",
    "                all_books.append(BookCopy(cp['id'], book, cp['branch_id']))\n",
    "\n",
    "    print(f\"Loaded {len(all_books)} book copies from {filename}\")\n",
    "    return all_books"
   ]
  },
  {
   "cell_type": "markdown",
   "id": "2bbd3b44",
   "metadata": {
    "slideshow": {
     "slide_type": "slide"
    }
   },
   "source": [
    "Great, now we can list all books for a branch:"
   ]
  },
  {
   "cell_type": "code",
   "execution_count": null,
   "id": "95dbb078",
   "metadata": {
    "execution": {
     "iopub.execute_input": "2023-10-15T03:45:37.145829Z",
     "iopub.status.busy": "2023-10-15T03:45:37.145544Z",
     "iopub.status.idle": "2023-10-15T03:45:37.160993Z",
     "shell.execute_reply": "2023-10-15T03:45:37.160313Z"
    }
   },
   "outputs": [],
   "source": [
    "book_copies = load_books('../../snippets/library/books.json')\n",
    "for b in book_copies:\n",
    "    if b.branch_id == branches[0].id:\n",
    "        print(b)"
   ]
  },
  {
   "cell_type": "markdown",
   "id": "5e04f67a",
   "metadata": {
    "slideshow": {
     "slide_type": "subslide"
    }
   },
   "source": [
    "## What about checked out books?\n",
    "\n",
    "We're supposed to be able to separately list checked out vs. available books.\n",
    "\n",
    "We're not processing the checkouts yet, let's come back to this."
   ]
  },
  {
   "cell_type": "markdown",
   "id": "a6dc2ce4",
   "metadata": {
    "slideshow": {
     "slide_type": "slide"
    }
   },
   "source": [
    "# Listing a patron's books\n",
    "\n",
    "We still need to load patron data. This is straightforward, and similar to branches."
   ]
  },
  {
   "cell_type": "code",
   "execution_count": null,
   "id": "fde93c29",
   "metadata": {
    "execution": {
     "iopub.execute_input": "2023-10-15T03:45:37.165174Z",
     "iopub.status.busy": "2023-10-15T03:45:37.164861Z",
     "iopub.status.idle": "2023-10-15T03:45:37.170063Z",
     "shell.execute_reply": "2023-10-15T03:45:37.169312Z"
    }
   },
   "outputs": [],
   "source": [
    "class Patron:\n",
    "    def __init__(self, id, name):\n",
    "        self.id = id\n",
    "        self.name = name\n",
    "\n",
    "    def __str__(self):\n",
    "        return f\"{self.name} ({self.id})\"\n",
    "\n",
    "def load_patrons(filename):\n",
    "    all_patrons = []\n",
    "    with open(filename, 'r') as f:\n",
    "        reader = csv.reader(f, delimiter=',')\n",
    "        for line in reader:\n",
    "            all_patrons.append(Patron(line[0], line[1]))\n",
    "    print(f\"Loaded {len(all_patrons)} patrons from {filename}\")\n",
    "    return all_patrons"
   ]
  },
  {
   "cell_type": "code",
   "execution_count": null,
   "id": "342c7790",
   "metadata": {
    "execution": {
     "iopub.execute_input": "2023-10-15T03:45:37.175023Z",
     "iopub.status.busy": "2023-10-15T03:45:37.174723Z",
     "iopub.status.idle": "2023-10-15T03:45:37.183514Z",
     "shell.execute_reply": "2023-10-15T03:45:37.182881Z"
    },
    "slideshow": {
     "slide_type": "subslide"
    }
   },
   "outputs": [],
   "source": [
    "patrons = load_patrons('../../snippets/library/patrons.csv')\n",
    "for p in patrons:\n",
    "    print(p)"
   ]
  },
  {
   "cell_type": "markdown",
   "id": "d68dca70",
   "metadata": {
    "slideshow": {
     "slide_type": "slide"
    }
   },
   "source": [
    "## We need to deal with checkouts\n",
    "\n",
    "In order to list a patron's checked out books, we need to process `checkouts.json`.\n",
    "\n",
    "Checkouts are a relationship between a `Patron` and a `BookCopy`. \n",
    "\n",
    "It's not clear where to put the data for a checkout:\n",
    "* Give `Patron` a list of references to `BookCopy`s that are checked out\n",
    "* Give `BookCopy` a reference to the `Patron` that has checked the copy out"
   ]
  },
  {
   "cell_type": "markdown",
   "id": "dc66c6aa",
   "metadata": {
    "slideshow": {
     "slide_type": "fragment"
    }
   },
   "source": [
    "It's a trap...\n",
    "\n",
    "Both options are unwieldy, and violate best practices around class design. \n",
    "\n",
    "Classes should be \"cohesive\" - they should do \"one thing\".\n",
    "\n",
    "A book or patron that tracks checkouts does more than one thing."
   ]
  },
  {
   "cell_type": "markdown",
   "id": "37b2c93d",
   "metadata": {
    "slideshow": {
     "slide_type": "subslide"
    }
   },
   "source": [
    "## Enter: LibraryNetwork\n",
    "\n",
    "Let's introduce a container class to tie our different types of data together, and manage relationships between them."
   ]
  },
  {
   "cell_type": "code",
   "execution_count": null,
   "id": "251ac5ec",
   "metadata": {
    "execution": {
     "iopub.execute_input": "2023-10-15T03:45:37.187640Z",
     "iopub.status.busy": "2023-10-15T03:45:37.187193Z",
     "iopub.status.idle": "2023-10-15T03:45:37.192708Z",
     "shell.execute_reply": "2023-10-15T03:45:37.191961Z"
    }
   },
   "outputs": [],
   "source": [
    "class LibraryNetwork:\n",
    "    def __init__(self, branches, book_copies, patrons):\n",
    "        self.branches = branches\n",
    "        self.copies = book_copies\n",
    "        self.patrons = patrons\n",
    "        self.checkouts = {}\n",
    "\n",
    "    def list_branches(self):\n",
    "        return self.branches\n",
    "\n",
    "    def list_books_for_branch(self, branch_id):\n",
    "        return [cp for cp in self.copies if cp.branch_id == branch_id]\n",
    "    \n",
    "    def checkout(self, copy_id, patron_id):\n",
    "        self.checkouts[copy_id] = patron_id"
   ]
  },
  {
   "cell_type": "markdown",
   "id": "d0f6f27c",
   "metadata": {
    "slideshow": {
     "slide_type": "subslide"
    }
   },
   "source": [
    "Now let's load checkout data into a network:"
   ]
  },
  {
   "cell_type": "code",
   "execution_count": null,
   "id": "68190bf1",
   "metadata": {
    "execution": {
     "iopub.execute_input": "2023-10-15T03:45:37.196591Z",
     "iopub.status.busy": "2023-10-15T03:45:37.196286Z",
     "iopub.status.idle": "2023-10-15T03:45:37.200364Z",
     "shell.execute_reply": "2023-10-15T03:45:37.199723Z"
    }
   },
   "outputs": [],
   "source": [
    "def load_checkouts(filename, network):\n",
    "    with open(filename, 'r') as f:\n",
    "        checkouts = json.load(f)\n",
    "        for checkout in checkouts:\n",
    "            network.checkout(checkout['copy_id'], checkout['patron_id'])"
   ]
  },
  {
   "cell_type": "code",
   "execution_count": null,
   "id": "23982a96",
   "metadata": {
    "execution": {
     "iopub.execute_input": "2023-10-15T03:45:37.204895Z",
     "iopub.status.busy": "2023-10-15T03:45:37.204320Z",
     "iopub.status.idle": "2023-10-15T03:45:37.210552Z",
     "shell.execute_reply": "2023-10-15T03:45:37.209826Z"
    }
   },
   "outputs": [],
   "source": [
    "network = LibraryNetwork(branches, book_copies, patrons)\n",
    "load_checkouts('../../snippets/library/checkouts.json', network)\n",
    "print(len(network.checkouts))"
   ]
  },
  {
   "cell_type": "code",
   "execution_count": null,
   "id": "9f946129",
   "metadata": {
    "execution": {
     "iopub.execute_input": "2023-10-15T03:45:37.214376Z",
     "iopub.status.busy": "2023-10-15T03:45:37.214053Z",
     "iopub.status.idle": "2023-10-15T03:45:37.219886Z",
     "shell.execute_reply": "2023-10-15T03:45:37.218745Z"
    }
   },
   "outputs": [],
   "source": [
    "class LibraryNetwork:\n",
    "    def __init__(self, branches, book_copies, patrons):\n",
    "        self.branches = branches\n",
    "        self.copies = book_copies\n",
    "        self.patrons = patrons\n",
    "        self.checkouts = {}\n",
    "\n",
    "    def list_branches(self):\n",
    "        return self.branches\n",
    "\n",
    "    def list_books_for_branch(self, branch_id):\n",
    "        return [cp for cp in self.copies if cp.branch_id == branch_id]\n",
    "    \n",
    "    def checkout(self, copy_id, patron_id):\n",
    "        self.checkouts[copy_id] = patron_id\n",
    "        \n",
    "    def list_patrons_books(self, patron_id):\n",
    "        books = []\n",
    "        for copy_id in self.checkouts:\n",
    "            if self.checkouts[copy_id] == patron_id:\n",
    "                # we need to find the copy by copy_id... how?\n",
    "                pass\n",
    "        return books"
   ]
  },
  {
   "cell_type": "markdown",
   "id": "0b27eb6e",
   "metadata": {
    "slideshow": {
     "slide_type": "slide"
    }
   },
   "source": [
    "## We need indices\n",
    "\n",
    "We need to look up a `BookCopy` object by `copy_id`. We could iterate through each one to find it. \n",
    "\n",
    "Or we could build an index: a dictionary mapping from `copy_id` to `BookCopy` instance.\n",
    "\n",
    "Let's update LibraryNetwork:"
   ]
  },
  {
   "cell_type": "code",
   "execution_count": null,
   "id": "0a495002",
   "metadata": {
    "execution": {
     "iopub.execute_input": "2023-10-15T03:45:37.224136Z",
     "iopub.status.busy": "2023-10-15T03:45:37.223829Z",
     "iopub.status.idle": "2023-10-15T03:45:37.230350Z",
     "shell.execute_reply": "2023-10-15T03:45:37.229680Z"
    }
   },
   "outputs": [],
   "source": [
    "class LibraryNetwork:\n",
    "    def __init__(self, branches, book_copies, patrons):\n",
    "        self.branches = {b.id: b for b in branches}\n",
    "        self.copies = {cp.copy_id: cp for cp in book_copies}\n",
    "        self.patrons = {p.id for p in patrons}\n",
    "        self.checkouts = {}\n",
    "\n",
    "    def list_branches(self):\n",
    "        return list(self.branches.values())\n",
    "\n",
    "    def list_books_for_branch(self, branch_id):\n",
    "        return [cp for cp in self.copies.values() if cp.branch_id == branch_id]\n",
    "    \n",
    "    def checkout(self, copy_id, patron_id):\n",
    "        self.checkouts[copy_id] = patron_id\n",
    "        \n",
    "    def list_patrons_books(self, patron_id):\n",
    "        books = []\n",
    "        for (copy_id, pid) in self.checkouts.items():\n",
    "            if patron_id == pid:\n",
    "                books.append(self.copies[copy_id])\n",
    "        return books"
   ]
  },
  {
   "cell_type": "code",
   "execution_count": null,
   "id": "f38bc452",
   "metadata": {
    "execution": {
     "iopub.execute_input": "2023-10-15T03:45:37.233754Z",
     "iopub.status.busy": "2023-10-15T03:45:37.233452Z",
     "iopub.status.idle": "2023-10-15T03:45:37.241544Z",
     "shell.execute_reply": "2023-10-15T03:45:37.240903Z"
    }
   },
   "outputs": [],
   "source": [
    "network = LibraryNetwork(branches, book_copies, patrons)\n",
    "load_checkouts('../../snippets/library/checkouts.json', network)\n",
    "\n",
    "for c in network.list_patrons_books(patrons[3].id):\n",
    "    print(c)"
   ]
  },
  {
   "cell_type": "markdown",
   "id": "641c5c37",
   "metadata": {},
   "source": [
    "## Back to listing available/checked out books\n",
    "\n",
    "We have everything we need now."
   ]
  },
  {
   "cell_type": "code",
   "execution_count": null,
   "id": "d8e61e74",
   "metadata": {
    "execution": {
     "iopub.execute_input": "2023-10-15T03:45:37.245735Z",
     "iopub.status.busy": "2023-10-15T03:45:37.245439Z",
     "iopub.status.idle": "2023-10-15T03:45:37.252648Z",
     "shell.execute_reply": "2023-10-15T03:45:37.251660Z"
    }
   },
   "outputs": [],
   "source": [
    "class LibraryNetwork:\n",
    "    def __init__(self, branches, book_copies, patrons):\n",
    "        self.branches = {b.id: b for b in branches}\n",
    "        self.copies = {cp.copy_id: cp for cp in book_copies}\n",
    "        self.patrons = {p.id for p in patrons}\n",
    "        self.checkouts = {}\n",
    "\n",
    "    def list_branches(self):\n",
    "        return list(self.branches.values())\n",
    "\n",
    "    def list_available_books(self, branch_id):\n",
    "        # without a list comprehension\n",
    "        avails = []\n",
    "        for cp in self.copies.values():\n",
    "            if cp.branch_id == branch_id and cp.copy_id not in self.checkouts:\n",
    "                avails.append(cp)\n",
    "        return avails\n",
    "\n",
    "    def list_checked_out_books(self, branch_id):\n",
    "        # with a list comprehension\n",
    "        return [cp for cp in self.copies.values() if cp.branch_id == branch_id and cp.copy_id in self.checkouts]\n",
    "\n",
    "    def checkout(self, copy_id, patron_id):\n",
    "        self.checkouts[copy_id] = patron_id\n",
    "        \n",
    "    def list_patrons_books(self, patron_id):\n",
    "        books = []\n",
    "        for (copy_id, pid) in self.checkouts.items():\n",
    "            if patron_id == pid:\n",
    "                books.append(self.copies[copy_id])\n",
    "        return books"
   ]
  },
  {
   "cell_type": "markdown",
   "id": "b198041e",
   "metadata": {
    "slideshow": {
     "slide_type": "slide"
    }
   },
   "source": [
    "## Last thing: search"
   ]
  },
  {
   "cell_type": "code",
   "execution_count": null,
   "id": "b3dd5f22",
   "metadata": {
    "execution": {
     "iopub.execute_input": "2023-10-15T03:45:37.257216Z",
     "iopub.status.busy": "2023-10-15T03:45:37.256609Z",
     "iopub.status.idle": "2023-10-15T03:45:37.265960Z",
     "shell.execute_reply": "2023-10-15T03:45:37.264705Z"
    }
   },
   "outputs": [],
   "source": [
    "class LibraryNetwork:\n",
    "    def __init__(self, branches, book_copies, patrons):\n",
    "        self.branches = {b.id: b for b in branches}\n",
    "        self.copies = {cp.copy_id: cp for cp in book_copies}\n",
    "        self.patrons = {p.id for p in patrons}\n",
    "        self.checkouts = {}\n",
    "\n",
    "    def list_branches(self):\n",
    "        return list(self.branches.values())\n",
    "\n",
    "    def list_available_books(self, branch_id):\n",
    "        # without a list comprehension\n",
    "        avails = []\n",
    "        for cp in self.copies.values():\n",
    "            if cp.branch_id == branch_id and cp.copy_id not in self.checkouts:\n",
    "                avails.append(cp)\n",
    "        return avails\n",
    "\n",
    "    def list_checked_out_books(self, branch_id):\n",
    "        # with a list comprehension\n",
    "        return [cp for cp in self.copies.values() if cp.branch_id == branch_id and cp.copy_id in self.checkouts]\n",
    "\n",
    "    def list_patrons_books(self, patron_id):\n",
    "        books = []\n",
    "        for book_id in self.checkouts:\n",
    "            if self.checkouts[book_id] == patron_id:\n",
    "                books.append(self.copies[book_id])\n",
    "        return books\n",
    "\n",
    "    def book_search(self, value):\n",
    "        matches = []\n",
    "        for cp in self.copies.values():\n",
    "            if value in cp.book.title:\n",
    "                matches.append(cp)\n",
    "\n",
    "        return matches\n",
    "\n",
    "    def checkout(self, copy_id, patron_id):\n",
    "        self.checkouts[copy_id] = patron_id"
   ]
  },
  {
   "cell_type": "code",
   "execution_count": null,
   "id": "5ceb4b71",
   "metadata": {
    "execution": {
     "iopub.execute_input": "2023-10-15T03:45:37.270640Z",
     "iopub.status.busy": "2023-10-15T03:45:37.270285Z",
     "iopub.status.idle": "2023-10-15T03:45:37.279383Z",
     "shell.execute_reply": "2023-10-15T03:45:37.278684Z"
    },
    "slideshow": {
     "slide_type": "subslide"
    }
   },
   "outputs": [],
   "source": [
    "network = LibraryNetwork(branches, book_copies, patrons)\n",
    "load_checkouts('../../snippets/library/checkouts.json', network)\n",
    "\n",
    "for m in network.book_search('beaver'):\n",
    "    print(m)"
   ]
  },
  {
   "cell_type": "markdown",
   "id": "4e6e4917",
   "metadata": {
    "slideshow": {
     "slide_type": "fragment"
    }
   },
   "source": [
    "Looks like we have to deal with duplicates. Let's return unique `Book`s."
   ]
  },
  {
   "cell_type": "code",
   "execution_count": null,
   "id": "3c1a2b9e",
   "metadata": {
    "execution": {
     "iopub.execute_input": "2023-10-15T03:45:37.283305Z",
     "iopub.status.busy": "2023-10-15T03:45:37.282821Z",
     "iopub.status.idle": "2023-10-15T03:45:37.291104Z",
     "shell.execute_reply": "2023-10-15T03:45:37.290102Z"
    }
   },
   "outputs": [],
   "source": [
    "class LibraryNetwork:\n",
    "    def __init__(self, branches, book_copies, patrons):\n",
    "        self.branches = {b.id: b for b in branches}\n",
    "        self.copies = {cp.copy_id: cp for cp in book_copies}\n",
    "        self.patrons = {p.id for p in patrons}\n",
    "        self.checkouts = {}\n",
    "\n",
    "    def list_branches(self):\n",
    "        return list(self.branches.values())\n",
    "\n",
    "    def list_available_books(self, branch_id):\n",
    "        # without a list comprehension\n",
    "        avails = []\n",
    "        for cp in self.copies.values():\n",
    "            if cp.branch_id == branch_id and cp.copy_id not in self.checkouts:\n",
    "                avails.append(cp)\n",
    "        return avails\n",
    "\n",
    "    def list_checked_out_books(self, branch_id):\n",
    "        # with a list comprehension\n",
    "        return [cp for cp in self.copies.values() if cp.branch_id == branch_id and cp.copy_id in self.checkouts]\n",
    "\n",
    "    def list_patrons_books(self, patron_id):\n",
    "        books = []\n",
    "        for book_id in self.checkouts:\n",
    "            if self.checkouts[book_id] == patron_id:\n",
    "                books.append(self.copies[book_id])\n",
    "        return books\n",
    "\n",
    "    def book_search(self, value):\n",
    "        matches = set()\n",
    "        for cp in self.copies.values():\n",
    "            if value in cp.book.title:\n",
    "                matches.add(cp.book)\n",
    "\n",
    "        return list(matches)\n",
    "\n",
    "    def checkout(self, copy_id, patron_id):\n",
    "        self.checkouts[copy_id] = patron_id"
   ]
  },
  {
   "cell_type": "code",
   "execution_count": null,
   "id": "f4932fc2",
   "metadata": {
    "execution": {
     "iopub.execute_input": "2023-10-15T03:45:37.295285Z",
     "iopub.status.busy": "2023-10-15T03:45:37.294902Z",
     "iopub.status.idle": "2023-10-15T03:45:37.303963Z",
     "shell.execute_reply": "2023-10-15T03:45:37.303180Z"
    },
    "slideshow": {
     "slide_type": "subslide"
    }
   },
   "outputs": [],
   "source": [
    "network = LibraryNetwork(branches, book_copies, patrons)\n",
    "load_checkouts('../../snippets/library/checkouts.json', network)\n",
    "\n",
    "for m in network.book_search('beaver'):\n",
    "    print(m)"
   ]
  },
  {
   "cell_type": "markdown",
   "id": "232bc8e9",
   "metadata": {
    "slideshow": {
     "slide_type": "slide"
    }
   },
   "source": [
    "# The whole thing\n",
    "\n",
    "[repl.it link](https://replit.com/@cosi-10a-fall23/Library-Solution)"
   ]
  },
  {
   "cell_type": "code",
   "execution_count": null,
   "id": "da9d93c6",
   "metadata": {
    "execution": {
     "iopub.execute_input": "2023-10-15T03:45:37.308961Z",
     "iopub.status.busy": "2023-10-15T03:45:37.308246Z",
     "iopub.status.idle": "2023-10-15T03:45:37.325280Z",
     "shell.execute_reply": "2023-10-15T03:45:37.323644Z"
    },
    "slideshow": {
     "slide_type": "slide"
    }
   },
   "outputs": [],
   "source": [
    "import csv\n",
    "import json\n",
    "\n",
    "class Patron:\n",
    "    def __init__(self, id, name):\n",
    "        self.id = id\n",
    "        self.name = name\n",
    "\n",
    "    def __str__(self):\n",
    "        return f\"{self.name} ({self.id})\"\n",
    "\n",
    "\n",
    "def load_patrons(filename):\n",
    "    all_patrons = []\n",
    "    with open(filename, 'r') as f:\n",
    "        reader = csv.reader(f, delimiter=',')\n",
    "        for line in reader:\n",
    "            all_patrons.append(Patron(line[0], line[1]))\n",
    "    print(f\"Loaded {len(all_patrons)} patrons from {filename}\")\n",
    "    return all_patrons\n",
    "\n",
    "\n",
    "class Branch:\n",
    "    def __init__(self, id, name, address):\n",
    "        self.id = id\n",
    "        self.name = name\n",
    "        self.address = address\n",
    "\n",
    "    def __str__(self):\n",
    "        return f\"{self.name} ({self.id})\"\n",
    "\n",
    "\n",
    "def load_branches(filename):\n",
    "    all_branches = []\n",
    "    with open(filename, 'r') as f:\n",
    "        reader = csv.reader(f, delimiter=',')\n",
    "        for line in reader:\n",
    "            all_branches.append(Branch(*line))\n",
    "    print(f\"Loaded {len(all_branches)} branches from {filename}\")\n",
    "    return all_branches\n",
    "\n",
    "\n",
    "class Book:\n",
    "    def __init__(self, id, title, description):\n",
    "        self.id = id\n",
    "        self.title = title\n",
    "        self.description = description\n",
    "\n",
    "    def __str__(self):\n",
    "        return f\"{self.title} ({self.id})\"\n",
    "\n",
    "\n",
    "class BookCopy:\n",
    "    def __init__(self, copy_id, book, branch_id):\n",
    "        self.copy_id = copy_id\n",
    "        self.book = book\n",
    "        self.branch_id = branch_id\n",
    "\n",
    "    def __str__(self):\n",
    "        return f\"{self.book.title} (Copy: {self.copy_id}, Book: {self.book.id})\"\n",
    "\n",
    "\n",
    "def load_books(filename):\n",
    "    all_books = []\n",
    "    with open(filename, 'r') as f:\n",
    "        json_books = json.load(f)\n",
    "        for json_book in json_books:\n",
    "            book = Book(json_book['id'], json_book['title'],\n",
    "                                    json_book['description'])\n",
    "\n",
    "            for cp in json_book['copies']:\n",
    "                all_books.append(BookCopy(cp['id'], book, cp['branch_id']))\n",
    "\n",
    "    print(f\"Loaded {len(all_books)} book copies from {filename}\")\n",
    "    return all_books\n",
    "\n",
    "\n",
    "class LibraryNetwork:\n",
    "    def __init__(self, branches, book_copies, patrons):\n",
    "        self.branches = {b.id: b for b in branches}\n",
    "        self.copies = {cp.copy_id: cp for cp in book_copies}\n",
    "        self.patrons = {p.id for p in patrons}\n",
    "        self.checkouts = {}\n",
    "\n",
    "    def list_branches(self):\n",
    "        return list(self.branches.values())\n",
    "\n",
    "    def list_available_books(self, branch_id):\n",
    "        # without a list comprehension\n",
    "        avails = []\n",
    "        for cp in self.copies.values():\n",
    "            if cp.branch_id == branch_id and cp.copy_id not in self.checkouts:\n",
    "                avails.append(cp)\n",
    "        return avails\n",
    "\n",
    "    def list_checked_out_books(self, branch_id):\n",
    "        # with a list comprehension\n",
    "        return [cp for cp in self.copies.values() if cp.branch_id == branch_id and cp.copy_id in self.checkouts]\n",
    "\n",
    "    def list_patrons_books(self, patron_id):\n",
    "        books = []\n",
    "        for book_id in self.checkouts:\n",
    "            if self.checkouts[book_id] == patron_id:\n",
    "                books.append(self.copies[book_id])\n",
    "        return books\n",
    "\n",
    "    def book_search(self, value):\n",
    "        matches = set()\n",
    "        for cp in self.copies.values():\n",
    "            if value in cp.book.title:\n",
    "                matches.add(cp.book)\n",
    "\n",
    "        return list(matches)\n",
    "\n",
    "    def checkout(self, copy_id, patron_id):\n",
    "        self.checkouts[copy_id] = patron_id\n",
    "\n",
    "\n",
    "def load_checkouts(filename, network):\n",
    "    with open(filename, 'r') as f:\n",
    "        checkouts = json.load(f)\n",
    "        for checkout in checkouts:\n",
    "            network.checkout(checkout['copy_id'], checkout['patron_id'])"
   ]
  },
  {
   "cell_type": "code",
   "execution_count": null,
   "id": "8cccab07",
   "metadata": {
    "execution": {
     "iopub.execute_input": "2023-10-15T03:45:37.328987Z",
     "iopub.status.busy": "2023-10-15T03:45:37.328679Z",
     "iopub.status.idle": "2023-10-15T03:45:37.392719Z",
     "shell.execute_reply": "2023-10-15T03:45:37.391828Z"
    },
    "slideshow": {
     "slide_type": "subslide"
    }
   },
   "outputs": [],
   "source": [
    "branches = load_branches('../../snippets/library/branches.csv')\n",
    "books = load_books('../../snippets/library/books.json')\n",
    "patrons = load_patrons('../../snippets/library/patrons.csv')\n",
    "\n",
    "network = LibraryNetwork(branches, books, patrons)\n",
    "load_checkouts('../../snippets/library/checkouts.json', network)\n",
    "\n",
    "print([str(x) for x in network.list_branches()])\n",
    "print()\n",
    "print([str(x) for x in network.list_available_books('e1077ff6-cbc0-43ef-a791-93dbae01409e')])\n",
    "print()\n",
    "print([str(x) for x in network.list_checked_out_books('e1077ff6-cbc0-43ef-a791-93dbae01409e')])\n",
    "print()\n",
    "print([str(x) for x in network.list_patrons_books(patrons[3].id)])\n",
    "print()\n",
    "print([str(x) for x in network.book_search(\"beaver\")])"
   ]
  },
  {
   "cell_type": "markdown",
   "id": "a4d13df0",
   "metadata": {
    "slideshow": {
     "slide_type": "slide"
    }
   },
   "source": [
    "# Some reflections"
   ]
  },
  {
   "cell_type": "markdown",
   "id": "07d67015",
   "metadata": {
    "slideshow": {
     "slide_type": "subslide"
    }
   },
   "source": [
    "# Keep it simple\n",
    "\n",
    "We kept it relatively simple, but that's harder than it looks.\n",
    "\n",
    "Managing complexity is the biggest challenge when writing code. \n",
    "\n",
    "> \"YAGNI\" (You Ain't Gonna Need it) - _Kent Beck_\n",
    "\n",
    "> \"Premature optimization is the root of all evil\" - _Donald Knuth_\n",
    "\n",
    "> \"Debugging is twice as hard as writing the code in the first place. Therefore, if you write the code as cleverly as possible, you are, by definition, not smart enough to debug it.\" - _Brian W. Kernighan_\n",
    "\n",
    "The best, most experienced programmers may build **complicated systems**, but they tend to write the **simplest code**."
   ]
  },
  {
   "cell_type": "markdown",
   "id": "548dfd12",
   "metadata": {},
   "source": [
    "## Keep classes a functions small and focused\n",
    "\n",
    "Our classes ended up pretty focused. This is good class design.\n",
    "\n",
    "Some principles to consider:\n",
    "* Modularity - separate your code into discrete parts\n",
    "* Cohesion - keep classes/functions focused on one thing\n",
    "* Separation of concerns - keep unrelated parts of code apart\n",
    "* Loose coupling - minimize strict dependencies between different code areas\n",
    "   * If changing one area of your code results in changes everywhere, you have tight coupling"
   ]
  },
  {
   "cell_type": "markdown",
   "id": "5bff2d96",
   "metadata": {},
   "source": [
    "## Testing\n",
    "\n",
    "We didn't write any tests as we went along, mostly due to time constraints. \n",
    "\n",
    "Write tests for individual pieces as you create them. Then you'll have confidence you haven't broken them as you make changes."
   ]
  },
  {
   "cell_type": "markdown",
   "id": "97b07f2f",
   "metadata": {},
   "source": [
    "## This is hard\n",
    "\n",
    "Modeling data relationships like this, and mapping them to classes in a clean way, is hard. \n",
    "\n",
    "It takes practice. \n",
    "\n",
    "Don't be afraid to make a mistake or a mess - that's how you'll learn."
   ]
  }
 ],
 "metadata": {
  "celltoolbar": "Slideshow",
  "kernelspec": {
   "display_name": "Python 3 (ipykernel)",
   "language": "python",
   "name": "python3"
  },
  "language_info": {
   "codemirror_mode": {
    "name": "ipython",
    "version": 3
   },
   "file_extension": ".py",
   "mimetype": "text/x-python",
   "name": "python",
   "nbconvert_exporter": "python",
   "pygments_lexer": "ipython3",
   "version": "3.10.9"
  }
 },
 "nbformat": 4,
 "nbformat_minor": 5
}
