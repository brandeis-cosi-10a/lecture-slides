{
 "cells": [
  {
   "cell_type": "markdown",
   "id": "1ee8a1d2",
   "metadata": {
    "slideshow": {
     "slide_type": "slide"
    }
   },
   "source": [
    "# Class Design Exercise\n",
    "\n",
    "<style>\n",
    "section.present > section.present { \n",
    "    max-height: 90%; \n",
    "    overflow-y: scroll;\n",
    "}\n",
    "</style>\n",
    "\n",
    "<small><a href=\"https://colab.research.google.com/github/brandeis-jdelfino/cosi-10a/blob/main/lectures/notebooks/13_class_design.ipynb\">Link to interactive slides on Google Colab</a></small>"
   ]
  },
  {
   "cell_type": "markdown",
   "id": "33eb51f3",
   "metadata": {
    "slideshow": {
     "slide_type": "slide"
    }
   },
   "source": [
    "# Exercise\n",
    "\n",
    "Create a program to model a library network:\n",
    "* Our libraries deal in books only - no need to model magazines, video, etc.\n",
    "* There are multiple library branches, each with their own book inventory.\n",
    "* Library patrons have accounts in the library network, and can have books out on loan.\n",
    "* Data on books, branches, and patrons will be loaded from files.\n",
    "\n",
    "Our program should be able to:\n",
    "* List the branches and their info.\n",
    "* Print out all the books from a branch.\n",
    "* Print out the books a patron has checked out.\n",
    "* Provide very simple text search (substring matching) over book titles."
   ]
  },
  {
   "cell_type": "markdown",
   "id": "875c1014",
   "metadata": {
    "slideshow": {
     "slide_type": "slide"
    }
   },
   "source": [
    "# File structure\n",
    "\n",
    "We have 4 files. First 2:\n",
    "* `branches.csv`\n",
    "  * A comma-delimited file that contains one row per branch, with 3 string fields: \n",
    "     * `id`\n",
    "     * `name`\n",
    "     * `address`\n",
    "* `patrons.csv`\n",
    "  * A comma-delimited file that contains one row per patron, with 2 string fields: \n",
    "     * `id`\n",
    "     * `name`"
   ]
  },
  {
   "cell_type": "markdown",
   "id": "b4e73e13",
   "metadata": {
    "slideshow": {
     "slide_type": "subslide"
    }
   },
   "source": [
    "# File structure\n",
    "\n",
    "We have 4 files. Third file:\n",
    "* `books.json`\n",
    "  * A JSON file with a list of dictionaries. Each dictionary represents a unique title. They have the following fields:\n",
    "    * `id` (str)\n",
    "    * `name` (str)\n",
    "    * `description` (str)\n",
    "    * `copies`\n",
    "      * A list of dictionaries, each of which has 2 keys: `copy_id`, `branch_id`."
   ]
  },
  {
   "cell_type": "markdown",
   "id": "92ec0a94",
   "metadata": {
    "slideshow": {
     "slide_type": "subslide"
    }
   },
   "source": [
    "# File structure\n",
    "\n",
    "We have 4 files. Last file:\n",
    "* `checkouts.json`\n",
    "  * A JSON file with a list of dictionaries. Each dictionary represents a checkout of a book copy by a patron. They have the following fields:\n",
    "  * `patron_id` (str)\n",
    "  * `copy_id` (str)"
   ]
  },
  {
   "cell_type": "markdown",
   "id": "33b3b272",
   "metadata": {
    "slideshow": {
     "slide_type": "slide"
    }
   },
   "source": [
    "# Where do we start??\n",
    "\n",
    "This is a big problem, we can't tackle it all at once.\n",
    "\n",
    "Let's focus first on a small piece: model the data with some simple classes, load it in from the files, and work on the first task (print out branches). \n",
    "\n",
    "There are many overly complex ways to model the relationships in this data. However, we don't know much yet. Let's keep it simple, then iterate. \n",
    "\n",
    "Each class we introduce will be self-contained, and will not refer directly to any other classes."
   ]
  },
  {
   "cell_type": "markdown",
   "id": "604bce73",
   "metadata": {
    "slideshow": {
     "slide_type": "subslide"
    }
   },
   "source": [
    "Our tasks:\n",
    "\n",
    "* **List the branches and their info.**\n",
    "* Print out all the books from a branch.\n",
    "* Print out the books a patron has checked out.\n",
    "* Provide very simple text search (substring matching) over book titles."
   ]
  },
  {
   "cell_type": "markdown",
   "id": "68d4d63f",
   "metadata": {
    "slideshow": {
     "slide_type": "slide"
    }
   },
   "source": [
    "# A `Branch` class\n",
    "\n",
    "A very simple class - one field for each column of data in `branches.csv`."
   ]
  },
  {
   "cell_type": "code",
   "execution_count": null,
   "id": "92ba4ed4",
   "metadata": {
    "execution": {
     "iopub.execute_input": "2023-11-13T04:13:48.875996Z",
     "iopub.status.busy": "2023-11-13T04:13:48.875707Z",
     "iopub.status.idle": "2023-11-13T04:13:48.891523Z",
     "shell.execute_reply": "2023-11-13T04:13:48.890325Z"
    }
   },
   "outputs": [],
   "source": [
    "class Branch:\n",
    "    def __init__(self, branch_id, name, address):\n",
    "        self.id = branch_id\n",
    "        self.name = name\n",
    "        self.address = address\n",
    "\n",
    "    def __str__(self):\n",
    "        return f\"{self.name} ({self.id})\""
   ]
  },
  {
   "cell_type": "markdown",
   "id": "86a4b192",
   "metadata": {
    "slideshow": {
     "slide_type": "subslide"
    }
   },
   "source": [
    "# Code to load branches.csv"
   ]
  },
  {
   "cell_type": "code",
   "execution_count": null,
   "id": "0291ed35",
   "metadata": {
    "execution": {
     "iopub.execute_input": "2023-11-13T04:13:48.895892Z",
     "iopub.status.busy": "2023-11-13T04:13:48.895578Z",
     "iopub.status.idle": "2023-11-13T04:13:48.900458Z",
     "shell.execute_reply": "2023-11-13T04:13:48.899837Z"
    }
   },
   "outputs": [],
   "source": [
    "import csv\n",
    "\n",
    "def load_branches(filename):\n",
    "    all_branches = []\n",
    "    with open(filename, 'r') as f:\n",
    "        reader = csv.reader(f, delimiter=',')\n",
    "        for line in reader:\n",
    "            branch_id = line[0]\n",
    "            name = line[1]\n",
    "            address = line[2]\n",
    "            new_branch = Branch(branch_id, name, address)\n",
    "            all_branches.append(new_branch)\n",
    "    print(f\"Loaded {len(all_branches)} branches from {filename}\")\n",
    "    return all_branches"
   ]
  },
  {
   "cell_type": "markdown",
   "id": "bc673a50",
   "metadata": {
    "slideshow": {
     "slide_type": "subslide"
    }
   },
   "source": [
    "We can shorten this a bit:"
   ]
  },
  {
   "cell_type": "code",
   "execution_count": null,
   "id": "cc9a7563",
   "metadata": {
    "execution": {
     "iopub.execute_input": "2023-11-13T04:13:48.903549Z",
     "iopub.status.busy": "2023-11-13T04:13:48.903288Z",
     "iopub.status.idle": "2023-11-13T04:13:48.907579Z",
     "shell.execute_reply": "2023-11-13T04:13:48.906904Z"
    }
   },
   "outputs": [],
   "source": [
    "import csv\n",
    "\n",
    "def load_branches(filename):\n",
    "    all_branches = []\n",
    "    with open(filename, 'r') as f:\n",
    "        reader = csv.reader(f, delimiter=',')\n",
    "        for line in reader:\n",
    "            all_branches.append(Branch(line[0], line[1], line[2]))\n",
    "    print(f\"Loaded {len(all_branches)} branches from {filename}\")\n",
    "    return all_branches"
   ]
  },
  {
   "cell_type": "markdown",
   "id": "874477a8",
   "metadata": {
    "slideshow": {
     "slide_type": "slide"
    }
   },
   "source": [
    "# Listing branches\n",
    "\n",
    "We can already implement our first operation: listing all the branches.\n",
    "\n",
    "Loop through the list of `Branch` instances, and print out info about the branch:"
   ]
  },
  {
   "cell_type": "code",
   "execution_count": null,
   "id": "dcd89362",
   "metadata": {
    "execution": {
     "iopub.execute_input": "2023-11-13T04:13:48.910572Z",
     "iopub.status.busy": "2023-11-13T04:13:48.910312Z",
     "iopub.status.idle": "2023-11-13T04:13:48.914737Z",
     "shell.execute_reply": "2023-11-13T04:13:48.914133Z"
    }
   },
   "outputs": [],
   "source": [
    "branches = load_branches('../../snippets/library/branches.csv')\n",
    "for b in branches:\n",
    "    print(b)"
   ]
  },
  {
   "cell_type": "markdown",
   "id": "ff6b357e",
   "metadata": {
    "slideshow": {
     "slide_type": "slide"
    }
   },
   "source": [
    "Our tasks:\n",
    "\n",
    "* ~~List the branches and their info.~~\n",
    "* **Print out all the books from a branch.**\n",
    "* Print out the books a patron has checked out.\n",
    "* Provide very simple text search (substring matching) over book titles."
   ]
  },
  {
   "cell_type": "markdown",
   "id": "d9937271",
   "metadata": {
    "slideshow": {
     "slide_type": "slide"
    }
   },
   "source": [
    "# Loading books\n",
    "\n",
    "Books should be very similar to branches, right? Well, let's look at the data:"
   ]
  },
  {
   "cell_type": "markdown",
   "id": "3cebd5b4",
   "metadata": {},
   "source": [
    "```\n",
    "{\n",
    "    \"title\": \"She-Devil\",\n",
    "    \"description\": \"In hac habitasse platea dictumst.\",\n",
    "    \"id\": \"39cfc454-a730-420e-b921-6ffb220705f0\",\n",
    "    \"copies\": [\n",
    "      {\n",
    "        \"id\": \"c104dba4-1d13-4f71-8406-bc0f5a2ee47f\",\n",
    "        \"branch_id\": \"87fd9eaa-53d6-4b13-87e3-af267a0626b5\"\n",
    "      },\n",
    "      {\n",
    "        \"id\": \"8997c40c-1603-4649-93bc-6ce88f87ab49\",\n",
    "        \"branch_id\": \"0026b74e-c4cf-45ba-954c-c1ce18710ade\"\n",
    "      },\n",
    "...\n",
    "```"
   ]
  },
  {
   "cell_type": "markdown",
   "id": "8915e67c",
   "metadata": {
    "slideshow": {
     "slide_type": "fragment"
    }
   },
   "source": [
    "A book has multiple copies. How do we model this?"
   ]
  },
  {
   "cell_type": "markdown",
   "id": "105193c2",
   "metadata": {
    "slideshow": {
     "slide_type": "subslide"
    }
   },
   "source": [
    "# Keep it simple: a `BookCopy` class\n",
    "\n",
    "We could model this in several complicated ways: e.g. a separate `Book` and `BookCopy` class, where each `Book` holds a list of `BookCopy` instances.\n",
    "\n",
    "However, it's not clear we need to model the difference between a `Book` and `BookCopy`. Let's keep it really simple and just have a `BookCopy` class with all the data."
   ]
  },
  {
   "cell_type": "code",
   "execution_count": null,
   "id": "24bf8ec1",
   "metadata": {
    "execution": {
     "iopub.execute_input": "2023-11-13T04:13:48.918235Z",
     "iopub.status.busy": "2023-11-13T04:13:48.917884Z",
     "iopub.status.idle": "2023-11-13T04:13:48.921934Z",
     "shell.execute_reply": "2023-11-13T04:13:48.921301Z"
    },
    "slideshow": {
     "slide_type": "subslide"
    }
   },
   "outputs": [],
   "source": [
    "class BookCopy:\n",
    "    def __init__(self, copy_id, book_id, branch_id, title, description):\n",
    "        self.copy_id = copy_id\n",
    "        self.book_id = book_id\n",
    "        self.branch_id = branch_id\n",
    "        self.title = title\n",
    "        self.description = description\n",
    "\n",
    "    def __str__(self):\n",
    "        return f\"{self.title} (Copy: {self.copy_id}, Book: {self.book_id})\""
   ]
  },
  {
   "cell_type": "markdown",
   "id": "7b984575",
   "metadata": {
    "slideshow": {
     "slide_type": "subslide"
    }
   },
   "source": [
    "# Code to load books.json"
   ]
  },
  {
   "cell_type": "code",
   "execution_count": null,
   "id": "c9aa47b8",
   "metadata": {
    "execution": {
     "iopub.execute_input": "2023-11-13T04:13:48.925104Z",
     "iopub.status.busy": "2023-11-13T04:13:48.924845Z",
     "iopub.status.idle": "2023-11-13T04:13:48.929268Z",
     "shell.execute_reply": "2023-11-13T04:13:48.928652Z"
    },
    "slideshow": {
     "slide_type": ""
    }
   },
   "outputs": [],
   "source": [
    "import json\n",
    "\n",
    "def load_books(filename):\n",
    "    all_books = []\n",
    "    with open(filename, 'r') as f:\n",
    "        json_books = json.load(f)\n",
    "\n",
    "    for json_book in json_books:\n",
    "        for cp in json_book['copies']:\n",
    "            bc = BookCopy(\n",
    "                cp['id'], \n",
    "                json_book['id'], \n",
    "                cp['branch_id'], \n",
    "                json_book['title'],\n",
    "                json_book['description'])\n",
    "            all_books.append(bc)\n",
    "\n",
    "    print(f\"Loaded {len(all_books)} book copies from {filename}\")\n",
    "    return all_books"
   ]
  },
  {
   "cell_type": "markdown",
   "id": "2bbd3b44",
   "metadata": {
    "slideshow": {
     "slide_type": "subslide"
    }
   },
   "source": [
    "Great, now we can list all books for a branch:"
   ]
  },
  {
   "cell_type": "code",
   "execution_count": null,
   "id": "95dbb078",
   "metadata": {
    "execution": {
     "iopub.execute_input": "2023-11-13T04:13:48.932231Z",
     "iopub.status.busy": "2023-11-13T04:13:48.931979Z",
     "iopub.status.idle": "2023-11-13T04:13:48.946517Z",
     "shell.execute_reply": "2023-11-13T04:13:48.945854Z"
    }
   },
   "outputs": [],
   "source": [
    "book_copies = load_books('../../snippets/library/books.json')\n",
    "branch_id = branches[0].id\n",
    "for b in book_copies:\n",
    "    if b.branch_id == branch_id:\n",
    "        print(b)"
   ]
  },
  {
   "cell_type": "markdown",
   "id": "97bb9e35",
   "metadata": {
    "slideshow": {
     "slide_type": "slide"
    }
   },
   "source": [
    "Our tasks:\n",
    "\n",
    "* ~~List the branches and their info.~~\n",
    "* ~~Print out all the books from a branch.~~\n",
    "* **Print out the books a patron has checked out.**\n",
    "* Provide very simple text search (substring matching) over book titles."
   ]
  },
  {
   "cell_type": "markdown",
   "id": "a6dc2ce4",
   "metadata": {
    "slideshow": {
     "slide_type": "subslide"
    }
   },
   "source": [
    "# First step: loading patrons\n",
    "\n",
    "This is similar to branches. Here's a `Patron` class:"
   ]
  },
  {
   "cell_type": "code",
   "execution_count": null,
   "id": "fde93c29",
   "metadata": {
    "execution": {
     "iopub.execute_input": "2023-11-13T04:13:48.949970Z",
     "iopub.status.busy": "2023-11-13T04:13:48.949681Z",
     "iopub.status.idle": "2023-11-13T04:13:48.953698Z",
     "shell.execute_reply": "2023-11-13T04:13:48.953031Z"
    }
   },
   "outputs": [],
   "source": [
    "class Patron:\n",
    "    def __init__(self, id, name):\n",
    "        self.id = id\n",
    "        self.name = name\n",
    "\n",
    "    def __str__(self):\n",
    "        return f\"{self.name} ({self.id})\""
   ]
  },
  {
   "cell_type": "markdown",
   "id": "864c9990",
   "metadata": {
    "slideshow": {
     "slide_type": "subslide"
    }
   },
   "source": [
    "# Code to load patrons.csv"
   ]
  },
  {
   "cell_type": "code",
   "execution_count": null,
   "id": "18a47767",
   "metadata": {
    "execution": {
     "iopub.execute_input": "2023-11-13T04:13:48.957073Z",
     "iopub.status.busy": "2023-11-13T04:13:48.956818Z",
     "iopub.status.idle": "2023-11-13T04:13:48.960877Z",
     "shell.execute_reply": "2023-11-13T04:13:48.960236Z"
    },
    "slideshow": {
     "slide_type": ""
    }
   },
   "outputs": [],
   "source": [
    "def load_patrons(filename):\n",
    "    all_patrons = []\n",
    "    with open(filename, 'r') as f:\n",
    "        reader = csv.reader(f, delimiter=',')\n",
    "        for line in reader:\n",
    "            all_patrons.append(Patron(line[0], line[1]))\n",
    "    print(f\"Loaded {len(all_patrons)} patrons from {filename}\")\n",
    "    return all_patrons"
   ]
  },
  {
   "cell_type": "code",
   "execution_count": null,
   "id": "342c7790",
   "metadata": {
    "execution": {
     "iopub.execute_input": "2023-11-13T04:13:48.964010Z",
     "iopub.status.busy": "2023-11-13T04:13:48.963754Z",
     "iopub.status.idle": "2023-11-13T04:13:48.972483Z",
     "shell.execute_reply": "2023-11-13T04:13:48.971834Z"
    },
    "slideshow": {
     "slide_type": "subslide"
    }
   },
   "outputs": [],
   "source": [
    "patrons = load_patrons('../../snippets/library/patrons.csv')\n",
    "for p in patrons:\n",
    "    print(p)"
   ]
  },
  {
   "cell_type": "markdown",
   "id": "d68dca70",
   "metadata": {
    "slideshow": {
     "slide_type": "slide"
    }
   },
   "source": [
    "## We need to deal with checkouts\n",
    "\n",
    "In order to list a patron's checked out books, we need to process `checkouts.json`.\n",
    "\n",
    "Checkouts are a relationship between a `Patron` and a `BookCopy`. \n",
    "\n",
    "It's not clear where to put the data for a checkout. We could:\n",
    "* Give `Patron` a list of `BookCopy`s that are checked out\n",
    "* Give `BookCopy` a reference to the `Patron` that has checked the copy out"
   ]
  },
  {
   "cell_type": "markdown",
   "id": "dc66c6aa",
   "metadata": {
    "slideshow": {
     "slide_type": "fragment"
    }
   },
   "source": [
    "It's a trap..."
   ]
  },
  {
   "cell_type": "markdown",
   "id": "5f2f2da4",
   "metadata": {
    "slideshow": {
     "slide_type": "subslide"
    }
   },
   "source": [
    "## Keep classes simple and focused\n",
    "\n",
    "Both options are unwieldy, and violate best practices around class design. \n",
    "\n",
    "Classes should be \"cohesive\" - they should do **one thing**.\n",
    "\n",
    "A book or patron class which tracks checkouts does more than one thing."
   ]
  },
  {
   "cell_type": "markdown",
   "id": "37b2c93d",
   "metadata": {
    "slideshow": {
     "slide_type": "subslide"
    }
   },
   "source": [
    "## Enter: LibraryNetwork\n",
    "\n",
    "Let's introduce a new class to tie our different types of data together, and manage relationships between them."
   ]
  },
  {
   "cell_type": "code",
   "execution_count": null,
   "id": "251ac5ec",
   "metadata": {
    "execution": {
     "iopub.execute_input": "2023-11-13T04:13:48.975826Z",
     "iopub.status.busy": "2023-11-13T04:13:48.975564Z",
     "iopub.status.idle": "2023-11-13T04:13:48.979315Z",
     "shell.execute_reply": "2023-11-13T04:13:48.978720Z"
    }
   },
   "outputs": [],
   "source": [
    "class LibraryNetwork:\n",
    "    def __init__(self, branches, book_copies, patrons):\n",
    "        self.branches = branches\n",
    "        self.copies = book_copies\n",
    "        self.patrons = patrons\n",
    "        self.checkouts = {}"
   ]
  },
  {
   "cell_type": "markdown",
   "id": "37232c4a",
   "metadata": {
    "slideshow": {
     "slide_type": "subslide"
    }
   },
   "source": [
    "We'll add the operations we've built already: listing branches, and listing books for a branch:"
   ]
  },
  {
   "cell_type": "code",
   "execution_count": null,
   "id": "d6d1677f",
   "metadata": {
    "execution": {
     "iopub.execute_input": "2023-11-13T04:13:48.982328Z",
     "iopub.status.busy": "2023-11-13T04:13:48.982075Z",
     "iopub.status.idle": "2023-11-13T04:13:48.986430Z",
     "shell.execute_reply": "2023-11-13T04:13:48.985822Z"
    }
   },
   "outputs": [],
   "source": [
    "class LibraryNetwork:\n",
    "    def __init__(self, branches, book_copies, patrons):\n",
    "        self.branches = branches\n",
    "        self.copies = book_copies\n",
    "        self.patrons = patrons\n",
    "        self.checkouts = {}\n",
    "\n",
    "    def list_branches(self):\n",
    "        return self.branches\n",
    "\n",
    "    def list_books_for_branch(self, branch_id):\n",
    "        results = []\n",
    "        for cp in self.copies:\n",
    "            if cp.branch_id == branch_id:\n",
    "                results.append(cp)\n",
    "        return results"
   ]
  },
  {
   "cell_type": "markdown",
   "id": "04b81fca",
   "metadata": {
    "slideshow": {
     "slide_type": "subslide"
    }
   },
   "source": [
    "Now we'll add a `checkout` method, which marks a book as checked out by a patron:"
   ]
  },
  {
   "cell_type": "code",
   "execution_count": null,
   "id": "c9757f2a",
   "metadata": {
    "execution": {
     "iopub.execute_input": "2023-11-13T04:13:48.989546Z",
     "iopub.status.busy": "2023-11-13T04:13:48.989289Z",
     "iopub.status.idle": "2023-11-13T04:13:48.993970Z",
     "shell.execute_reply": "2023-11-13T04:13:48.993268Z"
    }
   },
   "outputs": [],
   "source": [
    "class LibraryNetwork:\n",
    "    def __init__(self, branches, book_copies, patrons):\n",
    "        self.branches = branches\n",
    "        self.copies = book_copies\n",
    "        self.patrons = patrons\n",
    "        self.checkouts = {}\n",
    "\n",
    "    def list_branches(self):\n",
    "        return self.branches\n",
    "\n",
    "    def list_books_for_branch(self, branch_id):\n",
    "        results = []\n",
    "        for cp in self.copies:\n",
    "            if cp.branch_id == branch_id:\n",
    "                results.append(cp)\n",
    "        return results\n",
    "    \n",
    "    def checkout(self, copy_id, patron_id):\n",
    "        self.checkouts[copy_id] = patron_id"
   ]
  },
  {
   "cell_type": "markdown",
   "id": "d0f6f27c",
   "metadata": {
    "slideshow": {
     "slide_type": "subslide"
    }
   },
   "source": [
    "Now we load checkout data from `checkouts.json` into a `LibraryNetwork`:"
   ]
  },
  {
   "cell_type": "code",
   "execution_count": null,
   "id": "68190bf1",
   "metadata": {
    "execution": {
     "iopub.execute_input": "2023-11-13T04:13:48.997340Z",
     "iopub.status.busy": "2023-11-13T04:13:48.997055Z",
     "iopub.status.idle": "2023-11-13T04:13:49.001017Z",
     "shell.execute_reply": "2023-11-13T04:13:49.000285Z"
    }
   },
   "outputs": [],
   "source": [
    "def load_checkouts(filename, network):\n",
    "    with open(filename, 'r') as f:\n",
    "        checkouts = json.load(f)\n",
    "        for checkout in checkouts:\n",
    "            network.checkout(checkout['copy_id'], checkout['patron_id'])"
   ]
  },
  {
   "cell_type": "markdown",
   "id": "f50c43d5",
   "metadata": {
    "slideshow": {
     "slide_type": "subslide"
    }
   },
   "source": [
    "We'll be reloading data for our network often as we update the LibraryNetwork class. Let's make a function that creates a network and loads all the data into it."
   ]
  },
  {
   "cell_type": "code",
   "execution_count": null,
   "id": "23982a96",
   "metadata": {
    "execution": {
     "iopub.execute_input": "2023-11-13T04:13:49.006839Z",
     "iopub.status.busy": "2023-11-13T04:13:49.006443Z",
     "iopub.status.idle": "2023-11-13T04:13:49.010744Z",
     "shell.execute_reply": "2023-11-13T04:13:49.010053Z"
    },
    "slideshow": {
     "slide_type": ""
    }
   },
   "outputs": [],
   "source": [
    "def load_network():\n",
    "    branches = load_branches('../../snippets/library/branches.csv')\n",
    "    book_copies = load_books('../../snippets/library/books.json')\n",
    "    patrons = load_patrons('../../snippets/library/patrons.csv')\n",
    "\n",
    "    network = LibraryNetwork(branches, book_copies, patrons)\n",
    "    load_checkouts('../../snippets/library/checkouts.json', network)\n",
    "    return network"
   ]
  },
  {
   "cell_type": "code",
   "execution_count": null,
   "id": "7b09cdc8",
   "metadata": {
    "execution": {
     "iopub.execute_input": "2023-11-13T04:13:49.014112Z",
     "iopub.status.busy": "2023-11-13T04:13:49.013790Z",
     "iopub.status.idle": "2023-11-13T04:13:49.065118Z",
     "shell.execute_reply": "2023-11-13T04:13:49.064275Z"
    }
   },
   "outputs": [],
   "source": [
    "network = load_network()\n",
    "print(len(network.checkouts))"
   ]
  },
  {
   "cell_type": "markdown",
   "id": "4b2bce02",
   "metadata": {
    "slideshow": {
     "slide_type": "subslide"
    }
   },
   "source": [
    "Back to our task: listing a patron's checked out books:"
   ]
  },
  {
   "cell_type": "code",
   "execution_count": null,
   "id": "9f946129",
   "metadata": {
    "execution": {
     "iopub.execute_input": "2023-11-13T04:13:49.069488Z",
     "iopub.status.busy": "2023-11-13T04:13:49.068828Z",
     "iopub.status.idle": "2023-11-13T04:13:49.073749Z",
     "shell.execute_reply": "2023-11-13T04:13:49.072858Z"
    },
    "slideshow": {
     "slide_type": ""
    }
   },
   "outputs": [],
   "source": [
    "class LibraryNetwork:\n",
    "    # ...\n",
    "        \n",
    "    def list_patrons_books(self, patron_id):\n",
    "        books = []\n",
    "        for copy_id in self.checkouts:\n",
    "            if self.checkouts[copy_id] == patron_id:\n",
    "                # we need to find the copy by copy_id... how?\n",
    "                pass\n",
    "        return books"
   ]
  },
  {
   "cell_type": "markdown",
   "id": "0b27eb6e",
   "metadata": {
    "slideshow": {
     "slide_type": "slide"
    }
   },
   "source": [
    "## We need a way to look up `BookCopy`s by `copy_id`\n",
    "\n",
    "We could iterate through each one to find it. \n",
    "\n",
    "Or we could build an index: a dictionary mapping from `copy_id` to `BookCopy` instance.\n",
    "\n",
    "Let's update LibraryNetwork's `__init__` method to build the index:"
   ]
  },
  {
   "cell_type": "code",
   "execution_count": null,
   "id": "0a495002",
   "metadata": {
    "execution": {
     "iopub.execute_input": "2023-11-13T04:13:49.078466Z",
     "iopub.status.busy": "2023-11-13T04:13:49.078123Z",
     "iopub.status.idle": "2023-11-13T04:13:49.083027Z",
     "shell.execute_reply": "2023-11-13T04:13:49.082254Z"
    }
   },
   "outputs": [],
   "source": [
    "class LibraryNetwork:\n",
    "    def __init__(self, branches, book_copies, patrons):\n",
    "        self.branches = {}\n",
    "        for b in branches:\n",
    "            self.branches[b.id] = b\n",
    "\n",
    "        self.copies = {}\n",
    "        for cp in book_copies:\n",
    "            self.copies[cp.copy_id] = cp\n",
    "\n",
    "        self.patrons = {}\n",
    "        for p in patrons:\n",
    "            self.patrons[p.id] = p\n",
    "            \n",
    "        self.checkouts = {}"
   ]
  },
  {
   "cell_type": "markdown",
   "id": "4f4f6cfe",
   "metadata": {
    "slideshow": {
     "slide_type": "subslide"
    }
   },
   "source": [
    "We'll shorten this with dictionary comprehensions:"
   ]
  },
  {
   "cell_type": "code",
   "execution_count": null,
   "id": "b03087e3",
   "metadata": {
    "execution": {
     "iopub.execute_input": "2023-11-13T04:13:49.086557Z",
     "iopub.status.busy": "2023-11-13T04:13:49.086267Z",
     "iopub.status.idle": "2023-11-13T04:13:49.090578Z",
     "shell.execute_reply": "2023-11-13T04:13:49.089805Z"
    }
   },
   "outputs": [],
   "source": [
    "class LibraryNetwork:\n",
    "    def __init__(self, branches, book_copies, patrons):\n",
    "        self.branches = {b.id: b for b in branches}\n",
    "        self.copies = {cp.copy_id: cp for cp in book_copies}\n",
    "        self.patrons = {p.id for p in patrons}\n",
    "        self.checkouts = {}"
   ]
  },
  {
   "cell_type": "markdown",
   "id": "2006126c",
   "metadata": {},
   "source": [
    "We have to update any places where we were using `self.branches`/`self.copies`/`self.patrons`:"
   ]
  },
  {
   "cell_type": "code",
   "execution_count": null,
   "id": "41a030cd",
   "metadata": {
    "execution": {
     "iopub.execute_input": "2023-11-13T04:13:49.094237Z",
     "iopub.status.busy": "2023-11-13T04:13:49.093939Z",
     "iopub.status.idle": "2023-11-13T04:13:49.099298Z",
     "shell.execute_reply": "2023-11-13T04:13:49.098627Z"
    }
   },
   "outputs": [],
   "source": [
    "class LibraryNetwork:\n",
    "    def __init__(self, branches, book_copies, patrons):\n",
    "        self.branches = {b.id: b for b in branches}\n",
    "        self.copies = {cp.copy_id: cp for cp in book_copies}\n",
    "        self.patrons = {p.id for p in patrons}\n",
    "        self.checkouts = {}\n",
    "\n",
    "    def list_branches(self):\n",
    "        return list(self.branches.values())\n",
    "\n",
    "    def list_books_for_branch(self, branch_id):\n",
    "        results = []\n",
    "        for cp in self.copies.values():\n",
    "            if cp.branch_id == branch_id:\n",
    "                results.append(cp)\n",
    "        return results\n",
    "    \n",
    "    def checkout(self, copy_id, patron_id):\n",
    "        self.checkouts[copy_id] = patron_id"
   ]
  },
  {
   "cell_type": "markdown",
   "id": "9a009da3",
   "metadata": {
    "slideshow": {
     "slide_type": "subslide"
    }
   },
   "source": [
    "Now the code for `list_patrons_books`:"
   ]
  },
  {
   "cell_type": "code",
   "execution_count": null,
   "id": "abf09f71",
   "metadata": {
    "execution": {
     "iopub.execute_input": "2023-11-13T04:13:49.102510Z",
     "iopub.status.busy": "2023-11-13T04:13:49.102118Z",
     "iopub.status.idle": "2023-11-13T04:13:49.106397Z",
     "shell.execute_reply": "2023-11-13T04:13:49.105703Z"
    }
   },
   "outputs": [],
   "source": [
    "class LibraryNetwork:\n",
    "    # ...\n",
    "    def list_patrons_books(self, patron_id):\n",
    "        books = []\n",
    "        for (copy_id, pid) in self.checkouts.items():\n",
    "            if patron_id == pid:\n",
    "                books.append(self.copies[copy_id])\n",
    "        return books"
   ]
  },
  {
   "cell_type": "markdown",
   "id": "e4ded15e",
   "metadata": {
    "slideshow": {
     "slide_type": "subslide"
    }
   },
   "source": [
    "A quick test:"
   ]
  },
  {
   "cell_type": "code",
   "execution_count": null,
   "id": "dc768d68",
   "metadata": {
    "execution": {
     "iopub.execute_input": "2023-11-13T04:13:49.109714Z",
     "iopub.status.busy": "2023-11-13T04:13:49.109439Z",
     "iopub.status.idle": "2023-11-13T04:13:49.115143Z",
     "shell.execute_reply": "2023-11-13T04:13:49.114567Z"
    },
    "slideshow": {
     "slide_type": ""
    }
   },
   "outputs": [],
   "source": [
    "class LibraryNetwork:\n",
    "    def __init__(self, branches, book_copies, patrons):\n",
    "        self.branches = {b.id: b for b in branches}\n",
    "        self.copies = {cp.copy_id: cp for cp in book_copies}\n",
    "        self.patrons = {p.id for p in patrons}\n",
    "        self.checkouts = {}\n",
    "\n",
    "    def list_branches(self):\n",
    "        return list(self.branches.values())\n",
    "\n",
    "    def list_books_for_branch(self, branch_id):\n",
    "        results = []\n",
    "        for cp in self.copies.values():\n",
    "            if cp.branch_id == branch_id:\n",
    "                results.append(cp)\n",
    "        return results\n",
    "    \n",
    "    def checkout(self, copy_id, patron_id):\n",
    "        self.checkouts[copy_id] = patron_id\n",
    "        \n",
    "    def list_patrons_books(self, patron_id):\n",
    "        books = []\n",
    "        for (copy_id, pid) in self.checkouts.items():\n",
    "            if patron_id == pid:\n",
    "                books.append(self.copies[copy_id])\n",
    "        return books"
   ]
  },
  {
   "cell_type": "code",
   "execution_count": null,
   "id": "f38bc452",
   "metadata": {
    "execution": {
     "iopub.execute_input": "2023-11-13T04:13:49.118588Z",
     "iopub.status.busy": "2023-11-13T04:13:49.118309Z",
     "iopub.status.idle": "2023-11-13T04:13:49.137456Z",
     "shell.execute_reply": "2023-11-13T04:13:49.136720Z"
    },
    "slideshow": {
     "slide_type": ""
    }
   },
   "outputs": [],
   "source": [
    "network = load_network()\n",
    "for c in network.list_patrons_books(patrons[3].id):\n",
    "    print(c)"
   ]
  },
  {
   "cell_type": "markdown",
   "id": "4aa10bc9",
   "metadata": {
    "slideshow": {
     "slide_type": "slide"
    }
   },
   "source": [
    "Our tasks:\n",
    "\n",
    "* ~~List the branches and their info.~~\n",
    "* ~~Print out all the books from a branch.~~\n",
    "* ~~Print out the books a patron has checked out.~~\n",
    "* **Provide very simple text search (substring matching) over book titles.**"
   ]
  },
  {
   "cell_type": "code",
   "execution_count": null,
   "id": "b3dd5f22",
   "metadata": {
    "execution": {
     "iopub.execute_input": "2023-11-13T04:13:49.140699Z",
     "iopub.status.busy": "2023-11-13T04:13:49.140428Z",
     "iopub.status.idle": "2023-11-13T04:13:49.144188Z",
     "shell.execute_reply": "2023-11-13T04:13:49.143565Z"
    },
    "slideshow": {
     "slide_type": "subslide"
    }
   },
   "outputs": [],
   "source": [
    "class LibraryNetwork:\n",
    "    # ... \n",
    "    def book_search(self, value):\n",
    "        matches = []\n",
    "        for cp in self.copies.values():\n",
    "            if value in cp.title:\n",
    "                matches.append(cp)\n",
    "\n",
    "        return matches"
   ]
  },
  {
   "cell_type": "code",
   "execution_count": null,
   "id": "c3657004",
   "metadata": {
    "execution": {
     "iopub.execute_input": "2023-11-13T04:13:49.147221Z",
     "iopub.status.busy": "2023-11-13T04:13:49.146965Z",
     "iopub.status.idle": "2023-11-13T04:13:49.153141Z",
     "shell.execute_reply": "2023-11-13T04:13:49.152539Z"
    },
    "slideshow": {
     "slide_type": "subslide"
    }
   },
   "outputs": [],
   "source": [
    "  class LibraryNetwork:\n",
    "    def __init__(self, branches, book_copies, patrons):\n",
    "        self.branches = {b.id: b for b in branches}\n",
    "        self.copies = {cp.copy_id: cp for cp in book_copies}\n",
    "        self.patrons = {p.id for p in patrons}\n",
    "        self.checkouts = {}\n",
    "\n",
    "    def list_branches(self):\n",
    "        return list(self.branches.values())\n",
    "\n",
    "    def list_books_for_branch(self, branch_id):\n",
    "        results = []\n",
    "        for cp in self.copies.values():\n",
    "            if cp.branch_id == branch_id:\n",
    "                results.append(cp)\n",
    "        return results\n",
    "    \n",
    "    def checkout(self, copy_id, patron_id):\n",
    "        self.checkouts[copy_id] = patron_id\n",
    "        \n",
    "    def list_patrons_books(self, patron_id):\n",
    "        books = []\n",
    "        for (copy_id, pid) in self.checkouts.items():\n",
    "            if patron_id == pid:\n",
    "                books.append(self.copies[copy_id])\n",
    "        return books\n",
    "    \n",
    "    def book_search(self, value):\n",
    "        matches = []\n",
    "        for cp in self.copies.values():\n",
    "            if value in cp.title:\n",
    "                matches.append(cp)\n",
    "\n",
    "        return matches"
   ]
  },
  {
   "cell_type": "code",
   "execution_count": null,
   "id": "5ceb4b71",
   "metadata": {
    "execution": {
     "iopub.execute_input": "2023-11-13T04:13:49.156192Z",
     "iopub.status.busy": "2023-11-13T04:13:49.155934Z",
     "iopub.status.idle": "2023-11-13T04:13:49.174943Z",
     "shell.execute_reply": "2023-11-13T04:13:49.171590Z"
    },
    "slideshow": {
     "slide_type": ""
    }
   },
   "outputs": [],
   "source": [
    "network = load_network()\n",
    "for m in network.book_search('love'):\n",
    "    print(m)"
   ]
  },
  {
   "cell_type": "markdown",
   "id": "4e6e4917",
   "metadata": {
    "slideshow": {
     "slide_type": "subslide"
    }
   },
   "source": [
    "Looks like we have to deal with duplicates. There are multiple copies of each book.\n",
    "\n",
    "We can't easily use a set here, because different `BookCopy` instances will not be considered equal.\n",
    "\n",
    "We can leverage a dictionary and book ids though."
   ]
  },
  {
   "cell_type": "code",
   "execution_count": null,
   "id": "3c1a2b9e",
   "metadata": {
    "execution": {
     "iopub.execute_input": "2023-11-13T04:13:49.178760Z",
     "iopub.status.busy": "2023-11-13T04:13:49.178484Z",
     "iopub.status.idle": "2023-11-13T04:13:49.182648Z",
     "shell.execute_reply": "2023-11-13T04:13:49.182058Z"
    },
    "slideshow": {
     "slide_type": ""
    }
   },
   "outputs": [],
   "source": [
    "class LibraryNetwork:\n",
    "    # ...\n",
    "    \n",
    "    def book_search(self, value):\n",
    "        matches = {}\n",
    "        for cp in self.copies.values():\n",
    "            if value.lower() in cp.title.lower():\n",
    "                matches[cp.book_id] = cp\n",
    "\n",
    "        return list(matches.values())\n"
   ]
  },
  {
   "cell_type": "code",
   "execution_count": null,
   "id": "94fa37c8",
   "metadata": {
    "execution": {
     "iopub.execute_input": "2023-11-13T04:13:49.185653Z",
     "iopub.status.busy": "2023-11-13T04:13:49.185400Z",
     "iopub.status.idle": "2023-11-13T04:13:49.191962Z",
     "shell.execute_reply": "2023-11-13T04:13:49.191317Z"
    },
    "slideshow": {
     "slide_type": "subslide"
    }
   },
   "outputs": [],
   "source": [
    "class LibraryNetwork:\n",
    "    def __init__(self, branches, book_copies, patrons):\n",
    "        self.branches = {b.id: b for b in branches}\n",
    "        self.copies = {cp.copy_id: cp for cp in book_copies}\n",
    "        self.patrons = {p.id for p in patrons}\n",
    "        self.checkouts = {}\n",
    "\n",
    "    def list_branches(self):\n",
    "        return list(self.branches.values())\n",
    "\n",
    "    def list_books_for_branch(self, branch_id):\n",
    "        results = []\n",
    "        for cp in self.copies.values():\n",
    "            if cp.branch_id == branch_id:\n",
    "                results.append(cp)\n",
    "        return results\n",
    "    \n",
    "    def checkout(self, copy_id, patron_id):\n",
    "        self.checkouts[copy_id] = patron_id\n",
    "        \n",
    "    def list_patrons_books(self, patron_id):\n",
    "        books = []\n",
    "        for (copy_id, pid) in self.checkouts.items():\n",
    "            if patron_id == pid:\n",
    "                books.append(self.copies[copy_id])\n",
    "        return books\n",
    "    \n",
    "    def book_search(self, value):\n",
    "        matches = {}\n",
    "        for cp in self.copies.values():\n",
    "            if value.lower() in cp.title.lower():\n",
    "                matches[cp.book_id] = cp\n",
    "\n",
    "        return list(matches.values())\n"
   ]
  },
  {
   "cell_type": "code",
   "execution_count": null,
   "id": "f4932fc2",
   "metadata": {
    "execution": {
     "iopub.execute_input": "2023-11-13T04:13:49.194994Z",
     "iopub.status.busy": "2023-11-13T04:13:49.194736Z",
     "iopub.status.idle": "2023-11-13T04:13:49.210468Z",
     "shell.execute_reply": "2023-11-13T04:13:49.209836Z"
    },
    "slideshow": {
     "slide_type": ""
    }
   },
   "outputs": [],
   "source": [
    "network = load_network()\n",
    "for m in network.book_search('vampire'):\n",
    "    print(m)"
   ]
  },
  {
   "cell_type": "markdown",
   "id": "641c5c37",
   "metadata": {
    "slideshow": {
     "slide_type": "slide"
    }
   },
   "source": [
    "## Bonus\n",
    "\n",
    "What if we want to list only available, or only checked out books from a branch?"
   ]
  },
  {
   "cell_type": "code",
   "execution_count": null,
   "id": "d8e61e74",
   "metadata": {
    "execution": {
     "iopub.execute_input": "2023-11-13T04:13:49.213766Z",
     "iopub.status.busy": "2023-11-13T04:13:49.213479Z",
     "iopub.status.idle": "2023-11-13T04:13:49.218520Z",
     "shell.execute_reply": "2023-11-13T04:13:49.217931Z"
    }
   },
   "outputs": [],
   "source": [
    "class LibraryNetwork:\n",
    "    # ...\n",
    "    def list_available_books(self, branch_id):\n",
    "        avails = []\n",
    "        for cp in self.list_books_for_branch(branch_id):\n",
    "            if cp.copy_id not in self.checkouts:\n",
    "                avails.append(cp)\n",
    "        return avails\n",
    "\n",
    "    def list_checked_out_books(self, branch_id):\n",
    "        avails = []\n",
    "        for cp in self.list_books_for_branch(branch_id):\n",
    "            if cp.copy_id in self.checkouts:\n",
    "                avails.append(cp)\n",
    "        return avails"
   ]
  },
  {
   "cell_type": "markdown",
   "id": "d4a56467",
   "metadata": {
    "slideshow": {
     "slide_type": "subslide"
    }
   },
   "source": [
    "`list_available_books` and `list_checked_out_books` are very similar - could we reduce duplication somehow?"
   ]
  },
  {
   "cell_type": "code",
   "execution_count": null,
   "id": "3d7be8c6",
   "metadata": {
    "execution": {
     "iopub.execute_input": "2023-11-13T04:13:49.221803Z",
     "iopub.status.busy": "2023-11-13T04:13:49.221544Z",
     "iopub.status.idle": "2023-11-13T04:13:49.225676Z",
     "shell.execute_reply": "2023-11-13T04:13:49.225024Z"
    },
    "slideshow": {
     "slide_type": "fragment"
    }
   },
   "outputs": [],
   "source": [
    "class LibraryNetwork:\n",
    "    # ...\n",
    "    \n",
    "    def list_books(self, branch_id, list_available):\n",
    "        avails = []\n",
    "        for cp in self.list_books_for_branch(branch_id):\n",
    "            if list_available:\n",
    "                if cp.copy_id not in self.checkouts:\n",
    "                    avails.append(cp)\n",
    "            else:\n",
    "                if cp.copy_id in self.checkouts:\n",
    "                    avails.append(cp)\n",
    "        return avails"
   ]
  },
  {
   "cell_type": "markdown",
   "id": "03a5fbd2",
   "metadata": {
    "slideshow": {
     "slide_type": "subslide"
    }
   },
   "source": [
    "We can make our logic more concise (but also harder to read):"
   ]
  },
  {
   "cell_type": "code",
   "execution_count": null,
   "id": "97e04d1a",
   "metadata": {
    "execution": {
     "iopub.execute_input": "2023-11-13T04:13:49.228837Z",
     "iopub.status.busy": "2023-11-13T04:13:49.228584Z",
     "iopub.status.idle": "2023-11-13T04:13:49.232617Z",
     "shell.execute_reply": "2023-11-13T04:13:49.231979Z"
    },
    "slideshow": {
     "slide_type": "fragment"
    }
   },
   "outputs": [],
   "source": [
    "class LibraryNetwork:\n",
    "    # ... \n",
    "    \n",
    "    def list_books(self, branch_id, list_checked_out):\n",
    "        avails = []\n",
    "        for cp in self.list_books_for_branch(branch_id):\n",
    "            checked_out = cp.copy_id in self.checkouts\n",
    "            if checked_out == list_checked_out:\n",
    "                avails.append(cp)\n",
    "        return avails"
   ]
  },
  {
   "cell_type": "markdown",
   "id": "232bc8e9",
   "metadata": {
    "slideshow": {
     "slide_type": "slide"
    }
   },
   "source": [
    "# The whole thing\n",
    "\n",
    "[repl.it link](https://replit.com/@cosi-10a-fall23/Library-Solution)"
   ]
  },
  {
   "cell_type": "code",
   "execution_count": null,
   "id": "da9d93c6",
   "metadata": {
    "execution": {
     "iopub.execute_input": "2023-11-13T04:13:49.235927Z",
     "iopub.status.busy": "2023-11-13T04:13:49.235522Z",
     "iopub.status.idle": "2023-11-13T04:13:49.250858Z",
     "shell.execute_reply": "2023-11-13T04:13:49.250195Z"
    },
    "slideshow": {
     "slide_type": "slide"
    }
   },
   "outputs": [],
   "source": [
    "import csv\n",
    "import json\n",
    "\n",
    "class Patron:\n",
    "    def __init__(self, id, name):\n",
    "        self.id = id\n",
    "        self.name = name\n",
    "\n",
    "    def __str__(self):\n",
    "        return f\"{self.name} ({self.id})\"\n",
    "\n",
    "\n",
    "def load_patrons(filename):\n",
    "    all_patrons = []\n",
    "    with open(filename, 'r') as f:\n",
    "        reader = csv.reader(f, delimiter=',')\n",
    "        for line in reader:\n",
    "            all_patrons.append(Patron(line[0], line[1]))\n",
    "    print(f\"Loaded {len(all_patrons)} patrons from {filename}\")\n",
    "    return all_patrons\n",
    "\n",
    "\n",
    "class Branch:\n",
    "    def __init__(self, id, name, address):\n",
    "        self.id = id\n",
    "        self.name = name\n",
    "        self.address = address\n",
    "\n",
    "    def __str__(self):\n",
    "        return f\"{self.name} ({self.id})\"\n",
    "\n",
    "\n",
    "def load_branches(filename):\n",
    "    all_branches = []\n",
    "    with open(filename, 'r') as f:\n",
    "        reader = csv.reader(f, delimiter=',')\n",
    "        for line in reader:\n",
    "            all_branches.append(Branch(*line))\n",
    "    print(f\"Loaded {len(all_branches)} branches from {filename}\")\n",
    "    return all_branches\n",
    "\n",
    "\n",
    "class BookCopy:\n",
    "    def __init__(self, copy_id, book_id, branch_id, title, description):\n",
    "        self.copy_id = copy_id\n",
    "        self.book_id = book_id\n",
    "        self.branch_id = branch_id\n",
    "        self.title = title\n",
    "        self.description = description\n",
    "\n",
    "    def __str__(self):\n",
    "        return f\"{self.title} (Copy: {self.copy_id}, Book: {self.book_id})\"\n",
    "\n",
    "    \n",
    "def load_books(filename):\n",
    "    all_books = []\n",
    "    with open(filename, 'r') as f:\n",
    "        json_books = json.load(f)\n",
    "\n",
    "    for json_book in json_books:\n",
    "        for cp in json_book['copies']:\n",
    "            bc = BookCopy(\n",
    "                cp['id'], \n",
    "                json_book['id'], \n",
    "                cp['branch_id'], \n",
    "                json_book['title'],\n",
    "                json_book['description'])\n",
    "            all_books.append(bc)\n",
    "\n",
    "    print(f\"Loaded {len(all_books)} book copies from {filename}\")\n",
    "    return all_books\n",
    "\n",
    "\n",
    "def load_checkouts(filename, network):\n",
    "    with open(filename, 'r') as f:\n",
    "        checkouts = json.load(f)\n",
    "        for checkout in checkouts:\n",
    "            network.checkout(checkout['copy_id'], checkout['patron_id'])\n",
    "\n",
    "            \n",
    "class LibraryNetwork:\n",
    "    def __init__(self, branches, book_copies, patrons):\n",
    "        self.branches = {b.id: b for b in branches}\n",
    "        self.copies = {cp.copy_id: cp for cp in book_copies}\n",
    "        self.patrons = {p.id for p in patrons}\n",
    "        self.checkouts = {}\n",
    "\n",
    "    def list_branches(self):\n",
    "        return list(self.branches.values())\n",
    "\n",
    "    def list_books_for_branch(self, branch_id):\n",
    "        results = []\n",
    "        for cp in self.copies.values():\n",
    "            if cp.branch_id == branch_id:\n",
    "                results.append(cp)\n",
    "        return results\n",
    "    \n",
    "    def checkout(self, copy_id, patron_id):\n",
    "        self.checkouts[copy_id] = patron_id\n",
    "        \n",
    "    def list_patrons_books(self, patron_id):\n",
    "        books = []\n",
    "        for (copy_id, pid) in self.checkouts.items():\n",
    "            if patron_id == pid:\n",
    "                books.append(self.copies[copy_id])\n",
    "        return books\n",
    "    \n",
    "    def list_books(self, branch_id, list_checked_out):\n",
    "        avails = []\n",
    "        for cp in self.list_books_for_branch(branch_id):\n",
    "            checked_out = cp.copy_id in self.checkouts\n",
    "            if checked_out == list_checked_out:\n",
    "                avails.append(cp)\n",
    "        return avails\n",
    "    \n",
    "    def list_available_books(self, branch_id):\n",
    "        return self.list_books(branch_id, False)\n",
    "    \n",
    "    def list_checked_out_books(self, branch_id):\n",
    "        return self.list_books(branch_id, True)\n",
    "    \n",
    "    def book_search(self, value):\n",
    "        matches = {}\n",
    "        for cp in self.copies.values():\n",
    "            if value.lower() in cp.title.lower():\n",
    "                matches[cp.book_id] = cp\n",
    "\n",
    "        return list(matches.values())\n",
    "\n",
    "    \n",
    "def load_network():\n",
    "    branches = load_branches('../../snippets/library/branches.csv')\n",
    "    book_copies = load_books('../../snippets/library/books.json')\n",
    "    patrons = load_patrons('../../snippets/library/patrons.csv')\n",
    "\n",
    "    network = LibraryNetwork(branches, book_copies, patrons)\n",
    "    load_checkouts('../../snippets/library/checkouts.json', network)\n",
    "    return network"
   ]
  },
  {
   "cell_type": "code",
   "execution_count": null,
   "id": "8cccab07",
   "metadata": {
    "execution": {
     "iopub.execute_input": "2023-11-13T04:13:49.254067Z",
     "iopub.status.busy": "2023-11-13T04:13:49.253792Z",
     "iopub.status.idle": "2023-11-13T04:13:49.273374Z",
     "shell.execute_reply": "2023-11-13T04:13:49.272724Z"
    },
    "slideshow": {
     "slide_type": "subslide"
    }
   },
   "outputs": [],
   "source": [
    "network = load_network()\n",
    "\n",
    "print(\"List branches test\")\n",
    "print([str(x) for x in network.list_branches()])\n",
    "print()\n",
    "print(\"Available books test:\")\n",
    "print([str(x) for x in network.list_available_books('e1077ff6-cbc0-43ef-a791-93dbae01409e')])\n",
    "print()\n",
    "print(\"Checked out books test:\")\n",
    "print([str(x) for x in network.list_checked_out_books('e1077ff6-cbc0-43ef-a791-93dbae01409e')])\n",
    "print()\n",
    "print(\"Patron's books test:\")\n",
    "print([str(x) for x in network.list_patrons_books(patrons[3].id)])\n",
    "print()\n",
    "print(\"Book search test:\")\n",
    "print([str(x) for x in network.book_search(\"vampire\")])"
   ]
  },
  {
   "cell_type": "markdown",
   "id": "a4d13df0",
   "metadata": {
    "slideshow": {
     "slide_type": "slide"
    }
   },
   "source": [
    "# Some reflections"
   ]
  },
  {
   "cell_type": "markdown",
   "id": "07d67015",
   "metadata": {
    "slideshow": {
     "slide_type": "subslide"
    }
   },
   "source": [
    "# Keep it simple\n",
    "\n",
    "We kept it relatively simple, but that's harder than it looks.\n",
    "\n",
    "Managing complexity is the biggest challenge when writing code. \n",
    "\n",
    "> \"YAGNI\" (You Ain't Gonna Need it) - _Kent Beck_\n",
    "\n",
    "> \"Premature optimization is the root of all evil\" - _Donald Knuth_\n",
    "\n",
    "> \"Debugging is twice as hard as writing the code in the first place. Therefore, if you write the code as cleverly as possible, you are, by definition, not smart enough to debug it.\" - _Brian W. Kernighan_\n",
    "\n",
    "The best, most experienced programmers may build **complicated systems**, but they tend to write the **simplest code**."
   ]
  },
  {
   "cell_type": "markdown",
   "id": "548dfd12",
   "metadata": {
    "slideshow": {
     "slide_type": "subslide"
    }
   },
   "source": [
    "## Keep classes and functions small and focused\n",
    "\n",
    "Our classes ended up pretty focused. This is good class design.\n",
    "\n",
    "Some principles to consider:\n",
    "* Modularity - separate your code into discrete parts\n",
    "* Cohesion - keep classes/functions focused on one thing\n",
    "* Separation of concerns - keep unrelated parts of code apart\n",
    "* Loose coupling - minimize strict dependencies between different code areas\n",
    "   * If changing one area of your code results in changes everywhere, you have tight coupling"
   ]
  },
  {
   "cell_type": "markdown",
   "id": "5bff2d96",
   "metadata": {
    "slideshow": {
     "slide_type": "subslide"
    }
   },
   "source": [
    "## Testing\n",
    "\n",
    "We didn't write any tests as we went along, mostly due to time constraints. \n",
    "\n",
    "Write tests for individual pieces as you create them. Then you'll have confidence you haven't broken them as you make changes."
   ]
  },
  {
   "cell_type": "markdown",
   "id": "97b07f2f",
   "metadata": {
    "slideshow": {
     "slide_type": "subslide"
    }
   },
   "source": [
    "## This is hard\n",
    "\n",
    "Modeling data relationships like this, and mapping them to classes in a clean way, is hard. \n",
    "\n",
    "It takes practice. \n",
    "\n",
    "Don't be afraid to make a mistake or a mess - that's how you'll learn."
   ]
  }
 ],
 "metadata": {
  "celltoolbar": "Slideshow",
  "kernelspec": {
   "display_name": "Python 3 (ipykernel)",
   "language": "python",
   "name": "python3"
  },
  "language_info": {
   "codemirror_mode": {
    "name": "ipython",
    "version": 3
   },
   "file_extension": ".py",
   "mimetype": "text/x-python",
   "name": "python",
   "nbconvert_exporter": "python",
   "pygments_lexer": "ipython3",
   "version": "3.10.9"
  }
 },
 "nbformat": 4,
 "nbformat_minor": 5
}
