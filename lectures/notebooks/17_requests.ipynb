{
 "cells": [
  {
   "cell_type": "markdown",
   "id": "1ee8a1d2",
   "metadata": {
    "slideshow": {
     "slide_type": "slide"
    }
   },
   "source": [
    "# Working With Data From the Internet\n",
    "\n",
    "<style>\n",
    "section.present > section.present { \n",
    "    max-height: 90%; \n",
    "    overflow-y: scroll;\n",
    "}\n",
    "</style>\n",
    "\n",
    "<small><a href=\"https://colab.research.google.com/github/brandeis-jdelfino/cosi-10a/blob/main/lectures/notebooks/17_requests.ipynb\">Link to interactive slides on Google Colab</a></small>"
   ]
  },
  {
   "cell_type": "markdown",
   "id": "323e5a69",
   "metadata": {
    "slideshow": {
     "slide_type": "slide"
    }
   },
   "source": [
    "# Where is the International Space Station?"
   ]
  },
  {
   "cell_type": "markdown",
   "id": "3a356bcb",
   "metadata": {
    "slideshow": {
     "slide_type": "fragment"
    }
   },
   "source": [
    "# [Right here](http://api.open-notify.org/iss-now.json)"
   ]
  },
  {
   "cell_type": "markdown",
   "id": "3439a717",
   "metadata": {
    "slideshow": {
     "slide_type": "fragment"
    }
   },
   "source": [
    "Does that data format look familiar?"
   ]
  },
  {
   "cell_type": "markdown",
   "id": "01a94f7b",
   "metadata": {
    "slideshow": {
     "slide_type": "fragment"
    }
   },
   "source": [
    "It's JSON!\n",
    "\n",
    "JSON is a very commonly used data exchange format."
   ]
  },
  {
   "cell_type": "markdown",
   "id": "761936e1",
   "metadata": {
    "slideshow": {
     "slide_type": "slide"
    }
   },
   "source": [
    "## Requests library\n",
    "\n",
    "We can fetch and work with this data from Python."
   ]
  },
  {
   "cell_type": "code",
   "execution_count": null,
   "id": "571661ff",
   "metadata": {
    "execution": {
     "iopub.execute_input": "2023-11-30T13:42:06.057737Z",
     "iopub.status.busy": "2023-11-30T13:42:06.057405Z",
     "iopub.status.idle": "2023-11-30T13:42:06.404363Z",
     "shell.execute_reply": "2023-11-30T13:42:06.403471Z"
    }
   },
   "outputs": [],
   "source": [
    "import requests\n",
    "data = requests.get('http://api.open-notify.org/iss-now.json').json()\n",
    "print(data)\n",
    "print(f\"The ISS is at lat: {data['iss_position']['latitude']}, long: {data['iss_position']['longitude']}\")"
   ]
  },
  {
   "cell_type": "markdown",
   "id": "a9b70d4a",
   "metadata": {
    "slideshow": {
     "slide_type": "fragment"
    }
   },
   "source": [
    "This code fetches that JSON string, parses it into Python objects, then prints out the latitude/longitude."
   ]
  },
  {
   "cell_type": "markdown",
   "id": "71c2e3a5",
   "metadata": {
    "slideshow": {
     "slide_type": "slide"
    }
   },
   "source": [
    "## Networking on the Internet\n",
    "\n",
    "Let's dig into what it means to \"send a request\" over the internet.\n",
    "\n",
    "This is a 30,000 foot overview - many details are glossed over."
   ]
  },
  {
   "cell_type": "markdown",
   "id": "bea589fa",
   "metadata": {
    "slideshow": {
     "slide_type": "subslide"
    }
   },
   "source": [
    "## Mailing letters\n",
    "\n",
    "We'll use an analogy: sending a request over the internet is like mailing someone a letter.\n",
    "\n",
    "A letter is sent to an address, and is contained inside an envelope."
   ]
  },
  {
   "cell_type": "markdown",
   "id": "56d41284",
   "metadata": {
    "slideshow": {
     "slide_type": "fragment"
    }
   },
   "source": [
    "A URL is like the address the letter is being mailed to."
   ]
  },
  {
   "cell_type": "markdown",
   "id": "365bbbbd",
   "metadata": {
    "slideshow": {
     "slide_type": "subslide"
    }
   },
   "source": [
    "## Anatomy of a URL\n",
    "\n",
    "`http://video.google.com/videoplay?docid=1234&hl=en`\n",
    "\n",
    "* `http://`: The \"protocol\", or \"scheme\"\n",
    "   * This specifies the format of the request\n",
    "* `video.google.com`: The \"domain name\", or a unique name for a location on the internet\n",
    "   * Starts after the protocol, and after `://`\n",
    "* `videoplay`: The \"path\", or the name of the resource being accessed\n",
    "   * Starts after the end of the domain, and after a `/`\n",
    "* `docid=1234&hl=en`: The \"query\", or parameters related to a request\n",
    "   * Starts at the end of the path, and after a `?`\n",
    "   * `docid=1234` and `hl=en` are each individual \"parameters\", and parameters are always separated by `&`"
   ]
  },
  {
   "cell_type": "markdown",
   "id": "240b3698",
   "metadata": {
    "slideshow": {
     "slide_type": "subslide"
    }
   },
   "source": [
    "## Anatomy of our URL\n",
    "\n",
    "`http://api.open-notify.org/iss-now.json`\n",
    "\n",
    "* `http://`: protocol\n",
    "* `api.open-notify.org`: domain\n",
    "* `iss-now.json`: path"
   ]
  },
  {
   "cell_type": "markdown",
   "id": "146f507f",
   "metadata": {
    "slideshow": {
     "slide_type": "subslide"
    }
   },
   "source": [
    "## IP Addresses and Domain Names\n",
    "\n",
    "Every computer connected to the internet has a unique IP address. \n",
    "\n",
    "* They look like this: `4.36.195.10`\n",
    "\n",
    "Every domain name has one or more IP addresses associated with it.\n",
    "\n",
    "* brandeis.edu's IP address is: `76.223.22.0`\n",
    "\n",
    "The first step of sending a request is to translate the domain to an IP address.\n"
   ]
  },
  {
   "cell_type": "markdown",
   "id": "22801ff8",
   "metadata": {
    "slideshow": {
     "slide_type": "subslide"
    }
   },
   "source": [
    "## IP addresses are like formal postal addresses\n",
    "\n",
    "A domain is like the name of a location that you understand, like \"Joe's house\" or \"the park around the corner from my house\".\n",
    "\n",
    "An IP address is like the actual address of the house or park, including all the necessary details, such as postal code."
   ]
  },
  {
   "cell_type": "markdown",
   "id": "8875c0de",
   "metadata": {
    "slideshow": {
     "slide_type": "subslide"
    }
   },
   "source": [
    "## DNS\n",
    "\n",
    "**DNS** (Domain Name System) is like a big dictionary that maps from domain name to IP address.\n",
    "\n",
    "The owner of a domain has the ability to specify which IP address(es) a domain maps to.\n",
    "\n",
    "DNS records are publicly accessible: https://traceroute-online.com/check-dns-records/\n",
    "\n",
    "All routing of traffic on the internet is done using IP addresses."
   ]
  },
  {
   "cell_type": "markdown",
   "id": "edc283b8",
   "metadata": {
    "slideshow": {
     "slide_type": "subslide"
    }
   },
   "source": [
    "## DNS is like an address book\n",
    "\n",
    "DNS is like your address book - it translates from a \"place name\" to a physical address that the postal service recognizes.\n",
    "\n",
    "You can't mail a letter to \"Joe's house\", but you can mail a letter to \"123 Python Lane, Boston MA, 02118\" (not my real address)."
   ]
  },
  {
   "cell_type": "markdown",
   "id": "e5897463",
   "metadata": {
    "slideshow": {
     "slide_type": "subslide"
    }
   },
   "source": [
    "## IP Routing\n",
    "\n",
    "Requests will typically be passed between many servers on the way to arriving at the specified IP address. \n",
    "\n",
    "How this routing works is beyond the scope of this lecture, but we can look up the route a request takes: https://traceroute-online.com/"
   ]
  },
  {
   "cell_type": "markdown",
   "id": "0eef0526",
   "metadata": {
    "slideshow": {
     "slide_type": "subslide"
    }
   },
   "source": [
    "## IP Routing is like the postal network \n",
    "\n",
    "IP routing is like the network of trucks, planes, trains, etc that are used to get your letter to its final destination. \n",
    "\n",
    "Your letter might stop at multiple other post offices along the way.\n",
    "\n",
    "No one along the way knows or cares what is **in** your letter. They're just delivering an envelope.\n",
    "\n",
    "You also don't care exactly what route your letter takes, as long as it gets to its destination."
   ]
  },
  {
   "cell_type": "markdown",
   "id": "db7ec920",
   "metadata": {
    "slideshow": {
     "slide_type": "subslide"
    }
   },
   "source": [
    "## Load balancing\n",
    "\n",
    "Eventually, your request ends up at a server with the IP address associated with the domain you requested.\n",
    "\n",
    "Those first servers are often \"load balancers\", which route requests to other servers, which can actually respond to the requests.\n",
    "\n",
    "This routing is different than IP routing, but we don't need to worry about the difference.\n",
    "\n",
    "Eventually, the request is routed to a server that can generate a response."
   ]
  },
  {
   "cell_type": "markdown",
   "id": "d728cbff",
   "metadata": {
    "slideshow": {
     "slide_type": "subslide"
    }
   },
   "source": [
    "## Load balancing is like a campus mail room\n",
    "\n",
    "If you mail a letter to me at my campus address, the postal service delivers it to the mail room. \n",
    "\n",
    "From there, the mail room staff on campus routes the letter to my mail box.\n",
    "\n",
    "This is similar to the role of a load balancer."
   ]
  },
  {
   "cell_type": "markdown",
   "id": "d622100f",
   "metadata": {
    "slideshow": {
     "slide_type": "subslide"
    }
   },
   "source": [
    "## HTTP Requests\n",
    "\n",
    "Our protocol is \"http\", which means we are making an \"HTTP request\"\n",
    "\n",
    "**HTTP** stands for \"HyperText Transport Protocol\"\n",
    "\n",
    "It is the protocol (agreed upon format) for the majority of requests on the internet.\n",
    "\n",
    "Other common protocols include: \n",
    "* `ftp` (file transfer)\n",
    "* `smtp` and `imap` (email)\n",
    "* `udp` (real time communication)"
   ]
  },
  {
   "cell_type": "markdown",
   "id": "1eea5d80",
   "metadata": {
    "slideshow": {
     "slide_type": "subslide"
    }
   },
   "source": [
    "## HTTP is the language in which your letter is written\n",
    "\n",
    "It doesn't have anything to do with how the letter is routed or handled by the postal service, but it is important that your recipient knows how to interpret the letter we wrote."
   ]
  },
  {
   "cell_type": "markdown",
   "id": "5ef12740",
   "metadata": {
    "slideshow": {
     "slide_type": "subslide"
    }
   },
   "source": [
    "## Anatomy of an HTTP Request\n",
    "\n",
    "An HTTP request is just a blob of text describing our request.\n",
    "\n",
    "It consists of 3 parts:\n",
    "1. Request line\n",
    "   * Specifies the HTTP method, and the resource being requested\n",
    "2. Headers (Optional)\n",
    "   * Directives on how to handle the request\n",
    "3. Body (optional)\n",
    "   * The payload of the message, if applicable"
   ]
  },
  {
   "cell_type": "markdown",
   "id": "825debc2",
   "metadata": {
    "slideshow": {
     "slide_type": "subslide"
    }
   },
   "source": [
    "Here's what our HTTP request looks like when sent from a browser. It has 8 headers and no body:\n",
    "\n",
    "```\n",
    "GET /iss-now.json HTTP/1.1\n",
    "Accept: text/html,application/xhtml+xml,[...]\n",
    "Accept-Encoding: gzip, deflate\n",
    "Accept-Language: en-US,en;q=0.9\n",
    "Cache-Control: max-age=0\n",
    "Connection: keep-alive\n",
    "Host: api.open-notify.org\n",
    "Upgrade-Insecure-Requests: 1\n",
    "User-Agent: Mozilla/5.0 (Macintosh; Intel Mac OS X 10_15_7) [...]\n",
    "```"
   ]
  },
  {
   "cell_type": "markdown",
   "id": "3e296b98",
   "metadata": {
    "slideshow": {
     "slide_type": "subslide"
    }
   },
   "source": [
    "## HTTP Methods\n",
    "\n",
    "HTTP requests always have a \"method\".\n",
    "\n",
    "There are several methods, but the 2 most common are \"GET\" and \"POST\".\n",
    "\n",
    "**GET** requests are typically used to retrieve data.\n",
    "\n",
    "**POST** requests are typically used to send data."
   ]
  },
  {
   "cell_type": "markdown",
   "id": "aa0c87b9",
   "metadata": {
    "slideshow": {
     "slide_type": "subslide"
    }
   },
   "source": [
    "## Reading and Responding to the Letter\n",
    "\n",
    "The letter has been delivered to a person who should be able to understand it.\n",
    "\n",
    "That person will know how to interpret the contents, and how to respond.\n",
    "\n",
    "That person might still call on other people (servers) to help create a response.\n",
    "\n",
    "The response will be returned in the same language and format (protocol) as the original letter."
   ]
  },
  {
   "cell_type": "markdown",
   "id": "889d5a2a",
   "metadata": {
    "slideshow": {
     "slide_type": "subslide"
    }
   },
   "source": [
    "## HTTP Responses\n",
    "\n",
    "HTTP responses have status codes, headers, and bodies.\n",
    "\n",
    "Wikipedia has a [full list](https://en.wikipedia.org/wiki/List_of_HTTP_status_codes) of status codes. Common codes are:\n",
    "* `200` - success\n",
    "* `301` / `302` - permanent / temporary redirect\n",
    "* `404` - not found\n",
    "* `500` - server error"
   ]
  },
  {
   "cell_type": "markdown",
   "id": "9a3da29b",
   "metadata": {
    "slideshow": {
     "slide_type": "subslide"
    }
   },
   "source": [
    "Here's what our HTTP response looks like when received in the browser. It has 6 headers and a body containing a JSON string:\n",
    "\n",
    "```\n",
    "HTTP/1.1 200 OK\n",
    "Server: nginx/1.10.3\n",
    "Date: Wed, 25 Oct 2023 03:10:09 GMT\n",
    "Content-Type: application/json\n",
    "Content-Length: 113\n",
    "Connection: keep-alive\n",
    "access-control-allow-origin: *\n",
    "\n",
    "{\"timestamp\": 1698203409, \"iss_position\": {\"latitude\": \"35.2661\", \"longitude\": \"110.0297\"}, \"message\": \"success\"}\n",
    "```"
   ]
  },
  {
   "cell_type": "markdown",
   "id": "ee3e08b6",
   "metadata": {
    "slideshow": {
     "slide_type": "subslide"
    }
   },
   "source": [
    "## Letter Responses\n",
    "\n",
    "* `200` is like successfully receiving a reply letter.\n",
    "* `301` / `302` are a bit like forwarding mail to another address - the postal service handles this for you; similarly most HTTP clients will also handle it for you.\n",
    "* `404` is like trying to send a letter to an unknown address, and having it returned\n",
    "* `500` is like the box of mail containing your letter falling off the truck and getting lost\n",
    "\n",
    "The body of the response is like the letter you receive in response to your inquiry."
   ]
  },
  {
   "cell_type": "markdown",
   "id": "6cd3eda6",
   "metadata": {
    "slideshow": {
     "slide_type": "subslide"
    }
   },
   "source": [
    "## All the terminology together\n",
    "\n",
    "`requests.get('http://api.open-notify.org/iss-now.json')`\n",
    "\n",
    "We made an HTTP request to the domain `api.open-notify.org`, asking it to `GET` the data for the resource `iss-now.json`.\n",
    "\n",
    "It returned a response with a `200` (success) status code, and a JSON object in the body."
   ]
  },
  {
   "cell_type": "markdown",
   "id": "722398e5",
   "metadata": {
    "slideshow": {
     "slide_type": "slide"
    }
   },
   "source": [
    "## Back to the `requests` library...\n",
    "\n",
    "`requests.get()` returns a `Response` object, which has many fields: [Response](https://requests.readthedocs.io/en/latest/api/#requests.Response)"
   ]
  },
  {
   "cell_type": "code",
   "execution_count": null,
   "id": "8c62e1bc",
   "metadata": {
    "execution": {
     "iopub.execute_input": "2023-11-30T13:42:06.410782Z",
     "iopub.status.busy": "2023-11-30T13:42:06.410468Z",
     "iopub.status.idle": "2023-11-30T13:42:06.576977Z",
     "shell.execute_reply": "2023-11-30T13:42:06.576088Z"
    }
   },
   "outputs": [],
   "source": [
    "response = requests.get('http://api.open-notify.org/iss-now.json')\n",
    "print(response.status_code)\n",
    "print()\n",
    "print(response.headers)\n",
    "print()\n",
    "print(response.text)"
   ]
  },
  {
   "cell_type": "markdown",
   "id": "60b04c87",
   "metadata": {
    "slideshow": {
     "slide_type": "subslide"
    }
   },
   "source": [
    "We can use the handy `json()` method, which attempts to parse the body of the response as JSON:"
   ]
  },
  {
   "cell_type": "code",
   "execution_count": null,
   "id": "c8973ea2",
   "metadata": {
    "execution": {
     "iopub.execute_input": "2023-11-30T13:42:06.581056Z",
     "iopub.status.busy": "2023-11-30T13:42:06.580756Z",
     "iopub.status.idle": "2023-11-30T13:42:06.585084Z",
     "shell.execute_reply": "2023-11-30T13:42:06.584272Z"
    }
   },
   "outputs": [],
   "source": [
    "print(type(response.json()))\n",
    "print(response.json())"
   ]
  },
  {
   "cell_type": "markdown",
   "id": "39583d0c",
   "metadata": {
    "slideshow": {
     "slide_type": "slide"
    }
   },
   "source": [
    "## All this networking stuff is great...\n",
    "\n",
    "But I really just want to know what part of the world the ISS is over, and I can't translate latitude/longitudes in my head."
   ]
  },
  {
   "cell_type": "markdown",
   "id": "1aca680a",
   "metadata": {
    "slideshow": {
     "slide_type": "fragment"
    }
   },
   "source": [
    "Let's use another free service, [geocode.xyz/api](http://geocode.xyz/api)"
   ]
  },
  {
   "cell_type": "markdown",
   "id": "bf7b036f",
   "metadata": {
    "slideshow": {
     "slide_type": "subslide"
    }
   },
   "source": [
    "It has several options, but we want the simple one: turn a lat/long into an address."
   ]
  },
  {
   "cell_type": "code",
   "execution_count": null,
   "id": "a81472fa",
   "metadata": {
    "execution": {
     "iopub.execute_input": "2023-11-30T13:42:06.588564Z",
     "iopub.status.busy": "2023-11-30T13:42:06.588297Z",
     "iopub.status.idle": "2023-11-30T13:42:16.584504Z",
     "shell.execute_reply": "2023-11-30T13:42:16.583640Z"
    }
   },
   "outputs": [],
   "source": [
    "import json\n",
    "response = requests.get('http://api.open-notify.org/iss-now.json')\n",
    "response_json = response.json()\n",
    "\n",
    "pos = response_json['iss_position']\n",
    "geocode_url = f\"https://geocode.xyz/{pos['latitude']},{pos['longitude']}?json=1\"\n",
    "print(f\"Reverse geocoding: {pos=} with {geocode_url=}\")\n",
    "\n",
    "geolocate_response = requests.get(geocode_url)\n",
    "print(geolocate_response.status_code)\n",
    "print(geolocate_response.json())\n",
    "\n",
    "# pretty print:\n",
    "#print(json.dumps(geolocate_response.json(), indent=2, ensure_ascii=False))"
   ]
  },
  {
   "cell_type": "markdown",
   "id": "4698ff42",
   "metadata": {
    "slideshow": {
     "slide_type": "slide"
    }
   },
   "source": [
    "## Meteorites\n",
    "\n",
    "[JSON Meteorite data from NASA](https://data.nasa.gov/resource/y77d-th95.json)\n",
    "\n",
    "[Dataset description on NASA's Open Data Portal](https://data.nasa.gov/Space-Science/Meteorite-Landings/gh4g-9sfh)"
   ]
  },
  {
   "cell_type": "code",
   "execution_count": null,
   "id": "398c6e57",
   "metadata": {
    "execution": {
     "iopub.execute_input": "2023-11-30T13:42:16.588819Z",
     "iopub.status.busy": "2023-11-30T13:42:16.588479Z",
     "iopub.status.idle": "2023-11-30T13:42:17.574912Z",
     "shell.execute_reply": "2023-11-30T13:42:17.574071Z"
    },
    "slideshow": {
     "slide_type": "subslide"
    }
   },
   "outputs": [],
   "source": [
    "import requests\n",
    "meteorites = requests.get('https://data.nasa.gov/resource/gh4g-9sfh.json?').json()\n",
    "print(type(meteorites))"
   ]
  },
  {
   "cell_type": "code",
   "execution_count": null,
   "id": "d570093b",
   "metadata": {
    "execution": {
     "iopub.execute_input": "2023-11-30T13:42:17.578626Z",
     "iopub.status.busy": "2023-11-30T13:42:17.578320Z",
     "iopub.status.idle": "2023-11-30T13:42:17.582437Z",
     "shell.execute_reply": "2023-11-30T13:42:17.581691Z"
    },
    "slideshow": {
     "slide_type": "-"
    }
   },
   "outputs": [],
   "source": [
    "print(len(meteorites))"
   ]
  },
  {
   "cell_type": "markdown",
   "id": "53adb364",
   "metadata": {
    "slideshow": {
     "slide_type": "fragment"
    }
   },
   "source": [
    "Hm, exactly 1000. Seems suspicious - maybe we aren't getting all the data."
   ]
  },
  {
   "cell_type": "markdown",
   "id": "084690cf",
   "metadata": {
    "slideshow": {
     "slide_type": "subslide"
    }
   },
   "source": [
    "This required some digging, but NASA's datasets are powered by the \"Socrata Data API\". Here's [some documentation](https://dev.socrata.com/foundry/data.nasa.gov/gh4g-9sfh). \n",
    "\n",
    "A little Google searching unearths this documentation about how to ask for more results:\n",
    "[Information on paging with Socrata Data API](https://dev.socrata.com/docs/paging.html)"
   ]
  },
  {
   "cell_type": "code",
   "execution_count": null,
   "id": "5aafa81b",
   "metadata": {
    "execution": {
     "iopub.execute_input": "2023-11-30T13:42:17.586267Z",
     "iopub.status.busy": "2023-11-30T13:42:17.585968Z",
     "iopub.status.idle": "2023-11-30T13:42:19.040741Z",
     "shell.execute_reply": "2023-11-30T13:42:19.039802Z"
    },
    "slideshow": {
     "slide_type": "subslide"
    }
   },
   "outputs": [],
   "source": [
    "import requests\n",
    "meteorites = requests.get('https://data.nasa.gov/resource/gh4g-9sfh.json?$limit=50000').json()\n",
    "print(type(meteorites))"
   ]
  },
  {
   "cell_type": "code",
   "execution_count": null,
   "id": "580aa2f6",
   "metadata": {
    "execution": {
     "iopub.execute_input": "2023-11-30T13:42:19.043972Z",
     "iopub.status.busy": "2023-11-30T13:42:19.043715Z",
     "iopub.status.idle": "2023-11-30T13:42:19.047610Z",
     "shell.execute_reply": "2023-11-30T13:42:19.046946Z"
    }
   },
   "outputs": [],
   "source": [
    "print(len(meteorites))"
   ]
  },
  {
   "cell_type": "code",
   "execution_count": null,
   "id": "c94725b4",
   "metadata": {
    "execution": {
     "iopub.execute_input": "2023-11-30T13:42:19.051702Z",
     "iopub.status.busy": "2023-11-30T13:42:19.051430Z",
     "iopub.status.idle": "2023-11-30T13:42:19.055032Z",
     "shell.execute_reply": "2023-11-30T13:42:19.054368Z"
    }
   },
   "outputs": [],
   "source": [
    "print(meteorites[0])"
   ]
  },
  {
   "cell_type": "markdown",
   "id": "e44c2519",
   "metadata": {
    "slideshow": {
     "slide_type": "subslide"
    }
   },
   "source": [
    "What can we do with this data?"
   ]
  },
  {
   "cell_type": "markdown",
   "id": "3271e05f",
   "metadata": {
    "slideshow": {
     "slide_type": "subslide"
    }
   },
   "source": [
    "List all meteorites above a certain size."
   ]
  },
  {
   "cell_type": "code",
   "execution_count": null,
   "id": "92a7f3d6",
   "metadata": {
    "execution": {
     "iopub.execute_input": "2023-11-30T13:42:19.058598Z",
     "iopub.status.busy": "2023-11-30T13:42:19.058310Z",
     "iopub.status.idle": "2023-11-30T13:42:19.062721Z",
     "shell.execute_reply": "2023-11-30T13:42:19.062007Z"
    }
   },
   "outputs": [],
   "source": [
    "def list_bigger_than(mites, min_mass):\n",
    "    results = []\n",
    "    for m in mites:\n",
    "        if m['mass'] > min_mass:\n",
    "            results.append(m)\n",
    "    return results"
   ]
  },
  {
   "cell_type": "code",
   "execution_count": null,
   "id": "24c4f9c9",
   "metadata": {
    "execution": {
     "iopub.execute_input": "2023-11-30T13:42:19.065702Z",
     "iopub.status.busy": "2023-11-30T13:42:19.065439Z",
     "iopub.status.idle": "2023-11-30T13:42:19.383590Z",
     "shell.execute_reply": "2023-11-30T13:42:19.383001Z"
    },
    "tags": [
     "raises-exception"
    ]
   },
   "outputs": [],
   "source": [
    "list_bigger_than(meteorites, 10000000)"
   ]
  },
  {
   "cell_type": "markdown",
   "id": "5562ab71",
   "metadata": {
    "slideshow": {
     "slide_type": "fragment"
    }
   },
   "source": [
    "Oh, right, mass is a string in the JSON. We need to convert it."
   ]
  },
  {
   "cell_type": "code",
   "execution_count": null,
   "id": "fba55f88",
   "metadata": {
    "execution": {
     "iopub.execute_input": "2023-11-30T13:42:19.387036Z",
     "iopub.status.busy": "2023-11-30T13:42:19.386782Z",
     "iopub.status.idle": "2023-11-30T13:42:19.390578Z",
     "shell.execute_reply": "2023-11-30T13:42:19.389927Z"
    },
    "slideshow": {
     "slide_type": "subslide"
    }
   },
   "outputs": [],
   "source": [
    "def list_bigger_than(mites, min_mass):\n",
    "    results = []\n",
    "    for m in mites:\n",
    "        if float(m['mass']) > min_mass:\n",
    "            results.append(m)\n",
    "    return results"
   ]
  },
  {
   "cell_type": "code",
   "execution_count": null,
   "id": "134e913d",
   "metadata": {
    "execution": {
     "iopub.execute_input": "2023-11-30T13:42:19.393761Z",
     "iopub.status.busy": "2023-11-30T13:42:19.393516Z",
     "iopub.status.idle": "2023-11-30T13:42:19.417672Z",
     "shell.execute_reply": "2023-11-30T13:42:19.416892Z"
    },
    "tags": [
     "raises-exception"
    ]
   },
   "outputs": [],
   "source": [
    "list_bigger_than(meteorites, 10000000)"
   ]
  },
  {
   "cell_type": "markdown",
   "id": "0d468014",
   "metadata": {
    "slideshow": {
     "slide_type": "fragment"
    }
   },
   "source": [
    "Ok, not all meteorites have a mass... "
   ]
  },
  {
   "cell_type": "code",
   "execution_count": null,
   "id": "2bfefef3",
   "metadata": {
    "execution": {
     "iopub.execute_input": "2023-11-30T13:42:19.421275Z",
     "iopub.status.busy": "2023-11-30T13:42:19.421006Z",
     "iopub.status.idle": "2023-11-30T13:42:19.424832Z",
     "shell.execute_reply": "2023-11-30T13:42:19.424115Z"
    },
    "slideshow": {
     "slide_type": "subslide"
    }
   },
   "outputs": [],
   "source": [
    "def list_bigger_than(mites, min_mass):\n",
    "    results = []\n",
    "    for m in mites:\n",
    "        if float(m.get('mass', 0)) > min_mass:\n",
    "            results.append(m)\n",
    "    return results"
   ]
  },
  {
   "cell_type": "code",
   "execution_count": null,
   "id": "b176306e",
   "metadata": {
    "execution": {
     "iopub.execute_input": "2023-11-30T13:42:19.427845Z",
     "iopub.status.busy": "2023-11-30T13:42:19.427585Z",
     "iopub.status.idle": "2023-11-30T13:42:19.451146Z",
     "shell.execute_reply": "2023-11-30T13:42:19.450460Z"
    },
    "tags": [
     "raises-exception"
    ]
   },
   "outputs": [],
   "source": [
    "list_bigger_than(meteorites, 10000000)"
   ]
  },
  {
   "cell_type": "markdown",
   "id": "55318a94",
   "metadata": {
    "slideshow": {
     "slide_type": "subslide"
    }
   },
   "source": [
    "Let's list all the meteorites in a year. "
   ]
  },
  {
   "cell_type": "code",
   "execution_count": null,
   "id": "acc79c5d",
   "metadata": {
    "execution": {
     "iopub.execute_input": "2023-11-30T13:42:19.454390Z",
     "iopub.status.busy": "2023-11-30T13:42:19.454144Z",
     "iopub.status.idle": "2023-11-30T13:42:19.457881Z",
     "shell.execute_reply": "2023-11-30T13:42:19.457212Z"
    },
    "slideshow": {
     "slide_type": ""
    }
   },
   "outputs": [],
   "source": [
    "def list_in_year(mites, year):\n",
    "    results = []\n",
    "    for m in mites:\n",
    "        if m['year'] == year:\n",
    "            results.append(m)\n",
    "    return results"
   ]
  },
  {
   "cell_type": "code",
   "execution_count": null,
   "id": "d0398c66",
   "metadata": {
    "execution": {
     "iopub.execute_input": "2023-11-30T13:42:19.461117Z",
     "iopub.status.busy": "2023-11-30T13:42:19.460807Z",
     "iopub.status.idle": "2023-11-30T13:42:19.484988Z",
     "shell.execute_reply": "2023-11-30T13:42:19.484106Z"
    }
   },
   "outputs": [],
   "source": [
    "list_in_year(meteorites, 1945)"
   ]
  },
  {
   "cell_type": "markdown",
   "id": "93108420",
   "metadata": {
    "slideshow": {
     "slide_type": "subslide"
    }
   },
   "source": [
    "This data is dirty - not all meteorites have years either. Let's get an idea of how bad the data is."
   ]
  },
  {
   "cell_type": "code",
   "execution_count": null,
   "id": "d5cbbf89",
   "metadata": {
    "execution": {
     "iopub.execute_input": "2023-11-30T13:42:19.488202Z",
     "iopub.status.busy": "2023-11-30T13:42:19.487936Z",
     "iopub.status.idle": "2023-11-30T13:42:19.502944Z",
     "shell.execute_reply": "2023-11-30T13:42:19.502376Z"
    }
   },
   "outputs": [],
   "source": [
    "full_count = len(meteorites)\n",
    "no_mass = 0\n",
    "no_year = 0\n",
    "\n",
    "for m in meteorites:\n",
    "    if 'year' not in m:\n",
    "        no_mass += 1\n",
    "\n",
    "for m in meteorites:\n",
    "    if 'mass' not in m:\n",
    "        no_year += 1\n",
    "\n",
    "print(f\"No year: {no_year} ({no_year / full_count * 100:.2f} %)\")\n",
    "print(f\"No mass: {no_mass} ({no_mass / full_count * 100:.2f} %)\")"
   ]
  },
  {
   "cell_type": "code",
   "execution_count": null,
   "id": "7283c94a",
   "metadata": {
    "execution": {
     "iopub.execute_input": "2023-11-30T13:42:19.506073Z",
     "iopub.status.busy": "2023-11-30T13:42:19.505722Z",
     "iopub.status.idle": "2023-11-30T13:42:19.510024Z",
     "shell.execute_reply": "2023-11-30T13:42:19.509232Z"
    },
    "slideshow": {
     "slide_type": "subslide"
    }
   },
   "outputs": [],
   "source": [
    "def list_in_year(mites, year):\n",
    "    results = []\n",
    "    for m in mites:\n",
    "        if m.get('year', 0) == year:\n",
    "            results.append(m)\n",
    "    return results"
   ]
  },
  {
   "cell_type": "code",
   "execution_count": null,
   "id": "f0708330",
   "metadata": {
    "execution": {
     "iopub.execute_input": "2023-11-30T13:42:19.513516Z",
     "iopub.status.busy": "2023-11-30T13:42:19.513241Z",
     "iopub.status.idle": "2023-11-30T13:42:19.523766Z",
     "shell.execute_reply": "2023-11-30T13:42:19.523168Z"
    }
   },
   "outputs": [],
   "source": [
    "list_in_year(meteorites, 1945)"
   ]
  },
  {
   "cell_type": "markdown",
   "id": "64c51c63",
   "metadata": {
    "slideshow": {
     "slide_type": "fragment"
    }
   },
   "source": [
    "Suspicious..."
   ]
  },
  {
   "cell_type": "code",
   "execution_count": null,
   "id": "4b6037bc",
   "metadata": {
    "execution": {
     "iopub.execute_input": "2023-11-30T13:42:19.526949Z",
     "iopub.status.busy": "2023-11-30T13:42:19.526658Z",
     "iopub.status.idle": "2023-11-30T13:42:19.530251Z",
     "shell.execute_reply": "2023-11-30T13:42:19.529590Z"
    },
    "slideshow": {
     "slide_type": "subslide"
    }
   },
   "outputs": [],
   "source": [
    "print(meteorites[0]['year'])"
   ]
  },
  {
   "cell_type": "markdown",
   "id": "bf2b07e8",
   "metadata": {
    "slideshow": {
     "slide_type": "fragment"
    }
   },
   "source": [
    "Aha, it's formatted as a full timestamp. \n",
    "\n",
    "We could parse the whole date using the [datetime](https://docs.python.org/3/library/datetime.html), but we only care about the year. "
   ]
  },
  {
   "cell_type": "code",
   "execution_count": null,
   "id": "cfc76adf",
   "metadata": {
    "execution": {
     "iopub.execute_input": "2023-11-30T13:42:19.533318Z",
     "iopub.status.busy": "2023-11-30T13:42:19.533061Z",
     "iopub.status.idle": "2023-11-30T13:42:19.536510Z",
     "shell.execute_reply": "2023-11-30T13:42:19.535989Z"
    },
    "slideshow": {
     "slide_type": "subslide"
    }
   },
   "outputs": [],
   "source": [
    "def list_in_year(mites, year):\n",
    "    results = []\n",
    "    for m in mites:\n",
    "        if int(m.get('year', '0000')[:4]) == year:\n",
    "            results.append(m)\n",
    "    return results"
   ]
  },
  {
   "cell_type": "code",
   "execution_count": null,
   "id": "4f58009a",
   "metadata": {
    "execution": {
     "iopub.execute_input": "2023-11-30T13:42:19.539292Z",
     "iopub.status.busy": "2023-11-30T13:42:19.539061Z",
     "iopub.status.idle": "2023-11-30T13:42:19.562868Z",
     "shell.execute_reply": "2023-11-30T13:42:19.562232Z"
    }
   },
   "outputs": [],
   "source": [
    "list_in_year(meteorites, 1945)"
   ]
  },
  {
   "cell_type": "markdown",
   "id": "50822569",
   "metadata": {
    "slideshow": {
     "slide_type": "subslide"
    }
   },
   "source": [
    "Maybe we should clean up all the data at once, rather than doing it every time we try to access something.\n",
    "\n",
    "A class would make sense here:"
   ]
  },
  {
   "cell_type": "code",
   "execution_count": null,
   "id": "71f72734",
   "metadata": {
    "execution": {
     "iopub.execute_input": "2023-11-30T13:42:19.566357Z",
     "iopub.status.busy": "2023-11-30T13:42:19.566075Z",
     "iopub.status.idle": "2023-11-30T13:42:19.569604Z",
     "shell.execute_reply": "2023-11-30T13:42:19.568942Z"
    }
   },
   "outputs": [],
   "source": [
    "class Meteorite:\n",
    "    def __init__(self, name, mass, year, lat, long):\n",
    "        self.name = name\n",
    "        self.mass = mass\n",
    "        self.year = year\n",
    "        self.lat = lat\n",
    "        self.long = long"
   ]
  },
  {
   "cell_type": "markdown",
   "id": "3d0101a8",
   "metadata": {
    "slideshow": {
     "slide_type": "subslide"
    }
   },
   "source": [
    "Now we need code to translate from that JSON to a `Meteorite` instance.\n",
    "\n",
    "It's tempting to add a method to the class that populates the data from JSON. \n",
    "\n",
    "This is bad design - we prefer to fully initialize our instances on creation, rather than create them in an unusable state and then populate them.\n",
    "\n",
    "It's also temping to make the consructor take the JSON directly. \n",
    "\n",
    "This is also bad design - it \"couples\" our class too tightly to this particular representation of the data by making it impossible to create an instance without writing out the JSON."
   ]
  },
  {
   "cell_type": "markdown",
   "id": "1c4d93f2",
   "metadata": {
    "slideshow": {
     "slide_type": "subslide"
    }
   },
   "source": [
    "Instead, we'll write a function that takes in JSON, and returns a new `Meteorite` instance:"
   ]
  },
  {
   "cell_type": "code",
   "execution_count": null,
   "id": "4d6a2706",
   "metadata": {
    "execution": {
     "iopub.execute_input": "2023-11-30T13:42:19.573067Z",
     "iopub.status.busy": "2023-11-30T13:42:19.572819Z",
     "iopub.status.idle": "2023-11-30T13:42:19.577427Z",
     "shell.execute_reply": "2023-11-30T13:42:19.576801Z"
    }
   },
   "outputs": [],
   "source": [
    "def new_mite_from_json(json_data):\n",
    "    if 'name' not in json_data or 'year' not in json_data or 'mass' not in json_data or 'geolocation' not in json_data:\n",
    "        return None\n",
    "\n",
    "    loc = json_data['geolocation']\n",
    "    if 'latitude' not in loc or 'longitude' not in loc:\n",
    "        return None\n",
    "\n",
    "    return Meteorite(\n",
    "        name = json_data['name'],\n",
    "        year = int(json_data['year'][:4]),\n",
    "        mass = float(json_data['mass']),\n",
    "        lat = float(loc['latitude']),\n",
    "        long = float(loc['longitude'])\n",
    "    )"
   ]
  },
  {
   "cell_type": "code",
   "execution_count": null,
   "id": "112b489b",
   "metadata": {
    "execution": {
     "iopub.execute_input": "2023-11-30T13:42:19.580570Z",
     "iopub.status.busy": "2023-11-30T13:42:19.580290Z",
     "iopub.status.idle": "2023-11-30T13:42:19.663300Z",
     "shell.execute_reply": "2023-11-30T13:42:19.662465Z"
    },
    "slideshow": {
     "slide_type": "subslide"
    }
   },
   "outputs": [],
   "source": [
    "mites = []\n",
    "for m in meteorites:\n",
    "    mite = new_mite_from_json(m)\n",
    "    if mite:\n",
    "        mites.append(mite)\n",
    "print(len(mites))"
   ]
  },
  {
   "cell_type": "code",
   "execution_count": null,
   "id": "35f02546",
   "metadata": {
    "execution": {
     "iopub.execute_input": "2023-11-30T13:42:19.667122Z",
     "iopub.status.busy": "2023-11-30T13:42:19.666812Z",
     "iopub.status.idle": "2023-11-30T13:42:19.671177Z",
     "shell.execute_reply": "2023-11-30T13:42:19.670580Z"
    },
    "slideshow": {
     "slide_type": "subslide"
    }
   },
   "outputs": [],
   "source": [
    "def list_bigger_than(mites, min_mass):\n",
    "    results = []\n",
    "    for m in mites:\n",
    "        if m.mass > min_mass:\n",
    "            results.append(m)\n",
    "    return results"
   ]
  },
  {
   "cell_type": "code",
   "execution_count": null,
   "id": "97c15eeb",
   "metadata": {
    "execution": {
     "iopub.execute_input": "2023-11-30T13:42:19.674267Z",
     "iopub.status.busy": "2023-11-30T13:42:19.673978Z",
     "iopub.status.idle": "2023-11-30T13:42:19.681599Z",
     "shell.execute_reply": "2023-11-30T13:42:19.680971Z"
    }
   },
   "outputs": [],
   "source": [
    "list_bigger_than(mites, 10000000)"
   ]
  },
  {
   "cell_type": "markdown",
   "id": "833c5067",
   "metadata": {
    "slideshow": {
     "slide_type": "subslide"
    }
   },
   "source": [
    "One downside to using a class is that we can't easily print all the info out.\n",
    "\n",
    "Let's define the handy `__str__` method."
   ]
  },
  {
   "cell_type": "code",
   "execution_count": null,
   "id": "54cb3230",
   "metadata": {
    "execution": {
     "iopub.execute_input": "2023-11-30T13:42:19.685054Z",
     "iopub.status.busy": "2023-11-30T13:42:19.684800Z",
     "iopub.status.idle": "2023-11-30T13:42:19.688819Z",
     "shell.execute_reply": "2023-11-30T13:42:19.688219Z"
    }
   },
   "outputs": [],
   "source": [
    "class Meteorite:\n",
    "    def __init__(self, name, mass, year, lat, long):\n",
    "        self.name = name\n",
    "        self.mass = mass\n",
    "        self.year = year\n",
    "        self.lat = lat\n",
    "        self.long = long\n",
    "    \n",
    "    def __str__(self):\n",
    "        return f\"{self.name} ({self.year}) ({int(self.mass/1000)} kg) [{self.lat}, {self.long}]\""
   ]
  },
  {
   "cell_type": "code",
   "execution_count": null,
   "id": "a972ddfc",
   "metadata": {
    "execution": {
     "iopub.execute_input": "2023-11-30T13:42:19.691851Z",
     "iopub.status.busy": "2023-11-30T13:42:19.691593Z",
     "iopub.status.idle": "2023-11-30T13:42:19.883391Z",
     "shell.execute_reply": "2023-11-30T13:42:19.882596Z"
    },
    "slideshow": {
     "slide_type": "subslide"
    }
   },
   "outputs": [],
   "source": [
    "mites = []\n",
    "for m in meteorites:\n",
    "    mite = new_mite_from_json(m)\n",
    "    if mite:\n",
    "        mites.append(mite)\n",
    "print(len(mites))"
   ]
  },
  {
   "cell_type": "code",
   "execution_count": null,
   "id": "39b0c31c",
   "metadata": {
    "execution": {
     "iopub.execute_input": "2023-11-30T13:42:19.886692Z",
     "iopub.status.busy": "2023-11-30T13:42:19.886409Z",
     "iopub.status.idle": "2023-11-30T13:42:19.889986Z",
     "shell.execute_reply": "2023-11-30T13:42:19.889378Z"
    },
    "slideshow": {
     "slide_type": "subslide"
    }
   },
   "outputs": [],
   "source": [
    "def list_bigger_than(mites, min_mass):\n",
    "    results = []\n",
    "    for m in mites:\n",
    "        if m.mass > min_mass:\n",
    "            results.append(m)\n",
    "    return results"
   ]
  },
  {
   "cell_type": "code",
   "execution_count": null,
   "id": "42de9dfc",
   "metadata": {
    "execution": {
     "iopub.execute_input": "2023-11-30T13:42:19.893021Z",
     "iopub.status.busy": "2023-11-30T13:42:19.892635Z",
     "iopub.status.idle": "2023-11-30T13:42:19.898619Z",
     "shell.execute_reply": "2023-11-30T13:42:19.898034Z"
    }
   },
   "outputs": [],
   "source": [
    "for m in list_bigger_than(mites, 10000000):\n",
    "    print(m)"
   ]
  },
  {
   "cell_type": "code",
   "execution_count": null,
   "id": "7446b3dc",
   "metadata": {
    "execution": {
     "iopub.execute_input": "2023-11-30T13:42:19.901802Z",
     "iopub.status.busy": "2023-11-30T13:42:19.901546Z",
     "iopub.status.idle": "2023-11-30T13:42:19.904927Z",
     "shell.execute_reply": "2023-11-30T13:42:19.904358Z"
    },
    "slideshow": {
     "slide_type": "subslide"
    }
   },
   "outputs": [],
   "source": [
    "def list_in_year(mites, year):\n",
    "    results = []\n",
    "    for m in mites:\n",
    "        if m.year == year:\n",
    "            results.append(m)\n",
    "    return results"
   ]
  },
  {
   "cell_type": "code",
   "execution_count": null,
   "id": "306e35c3",
   "metadata": {
    "execution": {
     "iopub.execute_input": "2023-11-30T13:42:19.907854Z",
     "iopub.status.busy": "2023-11-30T13:42:19.907608Z",
     "iopub.status.idle": "2023-11-30T13:42:19.913258Z",
     "shell.execute_reply": "2023-11-30T13:42:19.912648Z"
    }
   },
   "outputs": [],
   "source": [
    "for m in list_in_year(mites, 1945):\n",
    "    print(m)"
   ]
  },
  {
   "cell_type": "markdown",
   "id": "40f0cab8",
   "metadata": {
    "execution": {
     "iopub.execute_input": "2023-10-30T01:20:09.741587Z",
     "iopub.status.busy": "2023-10-30T01:20:09.741286Z",
     "iopub.status.idle": "2023-10-30T01:20:09.745477Z",
     "shell.execute_reply": "2023-10-30T01:20:09.744965Z"
    },
    "slideshow": {
     "slide_type": "subslide"
    }
   },
   "source": [
    "\n",
    "Count meteorites by year"
   ]
  },
  {
   "cell_type": "code",
   "execution_count": null,
   "id": "11b6f13f",
   "metadata": {
    "execution": {
     "iopub.execute_input": "2023-11-30T13:42:19.916526Z",
     "iopub.status.busy": "2023-11-30T13:42:19.916248Z",
     "iopub.status.idle": "2023-11-30T13:42:19.920005Z",
     "shell.execute_reply": "2023-11-30T13:42:19.919406Z"
    }
   },
   "outputs": [],
   "source": [
    "def count_by_year(mites):\n",
    "    years = {}\n",
    "    for m in mites:\n",
    "        if m.year in years:\n",
    "            years[m.year] += 1\n",
    "        else:\n",
    "            years[m.year] = 1\n",
    "\n",
    "    return years"
   ]
  },
  {
   "cell_type": "code",
   "execution_count": null,
   "id": "9ef21637",
   "metadata": {
    "execution": {
     "iopub.execute_input": "2023-11-30T13:42:19.923163Z",
     "iopub.status.busy": "2023-11-30T13:42:19.922725Z",
     "iopub.status.idle": "2023-11-30T13:42:19.939267Z",
     "shell.execute_reply": "2023-11-30T13:42:19.938359Z"
    }
   },
   "outputs": [],
   "source": [
    "count_by_year(mites)"
   ]
  },
  {
   "cell_type": "markdown",
   "id": "eaba33b0",
   "metadata": {
    "slideshow": {
     "slide_type": "subslide"
    }
   },
   "source": [
    "We can sort by year, and print them out in order:"
   ]
  },
  {
   "cell_type": "code",
   "execution_count": null,
   "id": "79a4eeba",
   "metadata": {
    "execution": {
     "iopub.execute_input": "2023-11-30T13:42:19.943375Z",
     "iopub.status.busy": "2023-11-30T13:42:19.943087Z",
     "iopub.status.idle": "2023-11-30T13:42:19.954985Z",
     "shell.execute_reply": "2023-11-30T13:42:19.954284Z"
    },
    "slideshow": {
     "slide_type": ""
    }
   },
   "outputs": [],
   "source": [
    "counts = count_by_year(mites)\n",
    "sorted_years = sorted(counts.keys())\n",
    "for y in sorted_years:\n",
    "    print(f\"{y}: {counts[y]}\")"
   ]
  },
  {
   "cell_type": "markdown",
   "id": "ca9e2e62",
   "metadata": {
    "slideshow": {
     "slide_type": "subslide"
    }
   },
   "source": [
    "We could also sort by count:"
   ]
  },
  {
   "cell_type": "code",
   "execution_count": null,
   "id": "140d5215",
   "metadata": {
    "execution": {
     "iopub.execute_input": "2023-11-30T13:42:19.958514Z",
     "iopub.status.busy": "2023-11-30T13:42:19.958222Z",
     "iopub.status.idle": "2023-11-30T13:42:19.970367Z",
     "shell.execute_reply": "2023-11-30T13:42:19.969756Z"
    }
   },
   "outputs": [],
   "source": [
    "counts = count_by_year(mites)\n",
    "sorted_counts = sorted(counts.items(), key=lambda x: x[1], reverse=True)\n",
    "for year, count in sorted_counts:\n",
    "    print(f\"{year}: {count}\")"
   ]
  },
  {
   "cell_type": "markdown",
   "id": "c9483763",
   "metadata": {
    "slideshow": {
     "slide_type": "subslide"
    }
   },
   "source": [
    "Find all meteorites within a certain distance."
   ]
  },
  {
   "cell_type": "code",
   "execution_count": null,
   "id": "3de5c796",
   "metadata": {
    "execution": {
     "iopub.execute_input": "2023-11-30T13:42:19.973451Z",
     "iopub.status.busy": "2023-11-30T13:42:19.973185Z",
     "iopub.status.idle": "2023-11-30T13:42:19.977195Z",
     "shell.execute_reply": "2023-11-30T13:42:19.976528Z"
    }
   },
   "outputs": [],
   "source": [
    "def list_within_distance(mites, lat, long, miles):\n",
    "    results = []\n",
    "    for m in mites:\n",
    "        if distance(m.lat, m.long, lat, long) <= miles:\n",
    "            results.append(m)\n",
    "\n",
    "    return results\n",
    "\n",
    "def distance(lat1, long1, lat2, long2):\n",
    "    # ???\n",
    "    pass"
   ]
  },
  {
   "cell_type": "markdown",
   "id": "a8ac1845",
   "metadata": {
    "slideshow": {
     "slide_type": "subslide"
    }
   },
   "source": [
    "It turns out that accurately calculating the distance between 2 lat/long pairs is **really** complicated.\n",
    "\n",
    "The formulas for calculating the surface distance between 2 points on a sphere are a [bit complicated](https://en.wikipedia.org/wiki/Great-circle_distance). \n",
    "\n",
    "But the Earth isn't perfectly spherical, so if we really want to be accurate, we need some [serious math](https://en.wikipedia.org/wiki/Geodesics_on_an_ellipsoid)!"
   ]
  },
  {
   "cell_type": "markdown",
   "id": "92b961cc",
   "metadata": {
    "slideshow": {
     "slide_type": "subslide"
    }
   },
   "source": [
    "Luckily, someone else has written this for us. We can try the [geopy](https://github.com/geopy/geopy) library. \n",
    "\n",
    "Their homepage even contains a code sample for getting the geodesic distance between 2 points."
   ]
  },
  {
   "cell_type": "code",
   "execution_count": null,
   "id": "02fb440b",
   "metadata": {
    "execution": {
     "iopub.execute_input": "2023-11-30T13:42:19.980381Z",
     "iopub.status.busy": "2023-11-30T13:42:19.980121Z",
     "iopub.status.idle": "2023-11-30T13:42:20.001858Z",
     "shell.execute_reply": "2023-11-30T13:42:20.000998Z"
    },
    "slideshow": {
     "slide_type": "subslide"
    }
   },
   "outputs": [],
   "source": [
    "from geopy.distance import geodesic\n",
    "\n",
    "def distance(lat1, long1, lat2, long2):\n",
    "    return geodesic((lat1, long1), (lat2, long2)).miles\n",
    "\n",
    "def list_within_miles(mites, lat, long, miles):\n",
    "    results = []\n",
    "    for m in mites:\n",
    "        d = distance(m.lat, m.long, lat, long)\n",
    "        if d <= miles:\n",
    "            results.append((d, m))\n",
    "\n",
    "    return results"
   ]
  },
  {
   "cell_type": "code",
   "execution_count": null,
   "id": "b5336ac3",
   "metadata": {
    "execution": {
     "iopub.execute_input": "2023-11-30T13:42:20.005375Z",
     "iopub.status.busy": "2023-11-30T13:42:20.005038Z",
     "iopub.status.idle": "2023-11-30T13:42:27.407917Z",
     "shell.execute_reply": "2023-11-30T13:42:27.407045Z"
    },
    "slideshow": {
     "slide_type": "subslide"
    }
   },
   "outputs": [],
   "source": [
    "brandeis_lat = 42.3654\n",
    "brandeis_long = -71.2586\n",
    "results = list_within_miles(mites, brandeis_lat, brandeis_long, 150)\n",
    "results.sort()"
   ]
  },
  {
   "cell_type": "code",
   "execution_count": null,
   "id": "6fd24f16",
   "metadata": {
    "execution": {
     "iopub.execute_input": "2023-11-30T13:42:27.411744Z",
     "iopub.status.busy": "2023-11-30T13:42:27.411383Z",
     "iopub.status.idle": "2023-11-30T13:42:27.416050Z",
     "shell.execute_reply": "2023-11-30T13:42:27.415198Z"
    }
   },
   "outputs": [],
   "source": [
    "for r in results:\n",
    "    print(f\"{r[1]}, {int(r[0])} miles\")"
   ]
  },
  {
   "cell_type": "markdown",
   "id": "e9498b2e",
   "metadata": {
    "slideshow": {
     "slide_type": "subslide"
    }
   },
   "source": [
    "If you noticed, the `geopy` library also provides functions to geocode.\n",
    "\n",
    "These functions are just wrappers around a service like [geocode.xyz](geocode.xyz), which we used earlier."
   ]
  },
  {
   "cell_type": "code",
   "execution_count": null,
   "id": "565e4d1c",
   "metadata": {
    "execution": {
     "iopub.execute_input": "2023-11-30T13:42:27.419932Z",
     "iopub.status.busy": "2023-11-30T13:42:27.419575Z",
     "iopub.status.idle": "2023-11-30T13:42:27.775618Z",
     "shell.execute_reply": "2023-11-30T13:42:27.774681Z"
    },
    "slideshow": {
     "slide_type": ""
    }
   },
   "outputs": [],
   "source": [
    "# Usage instructions on the geopy homepage: https://github.com/geopy/geopy\n",
    "from geopy.geocoders import Nominatim\n",
    "\n",
    "def geocode(lat, long):\n",
    "    geolocator = Nominatim(user_agent=\"brandeis_cosi_10a\")\n",
    "    location = geolocator.reverse(f\"{lat}, {long}\")\n",
    "    return location\n",
    "\n",
    "print(results[0][1])\n",
    "print(geocode(results[0][1].lat, results[0][1].long))"
   ]
  },
  {
   "cell_type": "markdown",
   "id": "b591ff4a",
   "metadata": {
    "slideshow": {
     "slide_type": "slide"
    }
   },
   "source": [
    "# Wrap up\n",
    "\n",
    "We're starting to see the real power of Python, and coding in general. We can automate tasks and data processing that would be tedious and painful to do by hand.\n",
    "\n",
    "Check out this [list of free JSON data sets](https://github.com/jdorfman/awesome-json-datasets) - try fetching one of them and doing something interesting. Or, try joining together the data from more than one!"
   ]
  }
 ],
 "metadata": {
  "celltoolbar": "Slideshow",
  "kernelspec": {
   "display_name": "Python 3 (ipykernel)",
   "language": "python",
   "name": "python3"
  },
  "language_info": {
   "codemirror_mode": {
    "name": "ipython",
    "version": 3
   },
   "file_extension": ".py",
   "mimetype": "text/x-python",
   "name": "python",
   "nbconvert_exporter": "python",
   "pygments_lexer": "ipython3",
   "version": "3.10.9"
  }
 },
 "nbformat": 4,
 "nbformat_minor": 5
}
