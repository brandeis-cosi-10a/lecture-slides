{
 "cells": [
  {
   "cell_type": "markdown",
   "id": "1ee8a1d2",
   "metadata": {
    "slideshow": {
     "slide_type": "slide"
    }
   },
   "source": [
    "<h1 style=\"text-align: center;\">Data Types, </h1>\n",
    "<h1 style=\"text-align: center;\">Expressions, </h1>\n",
    "<h1 style=\"text-align: center;\">and Variables</h1>\n",
    "<p style=\"text-align: center;\"><small>(oh my)</small></p>\n",
    "<div style=\"text-align: center\"><small><a href=\"https://colab.research.google.com/github/brandeis-jdelfino/cosi-10a/blob/main/lectures/notebooks/2_datatypes_expressions_variables.ipynb\">Link to interactive slides on Google Colab</a></small></div>\n",
    "\n",
    "<style>\n",
    "section.present > section.present { \n",
    "    max-height: 100%; \n",
    "    overflow-y: scroll;\n",
    "}\n",
    "</style>"
   ]
  },
  {
   "cell_type": "markdown",
   "id": "43e1f8ce",
   "metadata": {
    "slideshow": {
     "slide_type": "slide"
    }
   },
   "source": [
    "# Data Types"
   ]
  },
  {
   "cell_type": "markdown",
   "id": "64daceb0",
   "metadata": {
    "slideshow": {
     "slide_type": "fragment"
    }
   },
   "source": [
    "* All values in Python have a **type**\n",
    "* Some basic Python data types:\n",
    "  * `str`: string; sequence of characters (from last week)\n",
    "  * `int`: integer; whole numbers\t\n",
    "  * `float`: floating point number; real numbers (decimals)\n",
    "  * `bool`: boolean; `True` or `False`\n",
    "\n"
   ]
  },
  {
   "cell_type": "markdown",
   "id": "2f332fd6",
   "metadata": {
    "slideshow": {
     "slide_type": "fragment"
    }
   },
   "source": [
    "Exhaustive documentation of data types: https://docs.python.org/3/library/stdtypes.html"
   ]
  },
  {
   "cell_type": "markdown",
   "id": "69758551",
   "metadata": {
    "slideshow": {
     "slide_type": "subslide"
    }
   },
   "source": [
    "# Data type examples"
   ]
  },
  {
   "cell_type": "markdown",
   "id": "7cd93c83",
   "metadata": {
    "slideshow": {
     "slide_type": "fragment"
    }
   },
   "source": [
    "* str: `“Hi”`, `“I’m a string”`, `“Hopefully these are familiar”`"
   ]
  },
  {
   "cell_type": "markdown",
   "id": "7c033d5a",
   "metadata": {
    "slideshow": {
     "slide_type": "fragment"
    }
   },
   "source": [
    "* int: `1`, `10`, `3`, `9104919`\n"
   ]
  },
  {
   "cell_type": "markdown",
   "id": "bd2ecbbd",
   "metadata": {
    "slideshow": {
     "slide_type": "fragment"
    }
   },
   "source": [
    "* float: `1.2`, `10.1`, `84191.000001`, `2.0`\n",
    "  * Note that 2.0 is a float, even though it is a whole number\n",
    "  * The decimal point forces the number to a float type"
   ]
  },
  {
   "cell_type": "markdown",
   "id": "6f63e327",
   "metadata": {
    "slideshow": {
     "slide_type": "fragment"
    }
   },
   "source": [
    "* bool: `True`, `False`\n",
    "  * Capitalization matters!\n"
   ]
  },
  {
   "cell_type": "markdown",
   "id": "a33cf749",
   "metadata": {
    "slideshow": {
     "slide_type": "subslide"
    }
   },
   "source": [
    "# Type conversions\n",
    "\n",
    "You can convert between different data types:\n",
    "\n",
    "* `int(<value>)` → convert value to an int\n",
    "* `float(<value>)` → convert value to a float\n",
    "* `str(<value>)` → convert value to a str\n",
    "* `bool(<value>)` → convert value to a bool"
   ]
  },
  {
   "cell_type": "markdown",
   "id": "753cdb28",
   "metadata": {
    "slideshow": {
     "slide_type": "fragment"
    }
   },
   "source": [
    "The `<>` notation above is common - `<value>` is a stand-in for any value. The brackets are part of the notation, and don’t show up in the code you’d write."
   ]
  },
  {
   "cell_type": "markdown",
   "id": "85ebaa42",
   "metadata": {
    "slideshow": {
     "slide_type": "subslide"
    }
   },
   "source": [
    "* `int(<value>)` → convert value to an int"
   ]
  },
  {
   "cell_type": "code",
   "execution_count": null,
   "id": "a7a1f279",
   "metadata": {
    "execution": {
     "iopub.execute_input": "2023-08-31T02:13:40.451898Z",
     "iopub.status.busy": "2023-08-31T02:13:40.451542Z",
     "iopub.status.idle": "2023-08-31T02:13:40.465571Z",
     "shell.execute_reply": "2023-08-31T02:13:40.464659Z"
    },
    "slideshow": {
     "slide_type": "-"
    }
   },
   "outputs": [],
   "source": [
    "int(1.0)"
   ]
  },
  {
   "cell_type": "code",
   "execution_count": null,
   "id": "2be05b65",
   "metadata": {
    "execution": {
     "iopub.execute_input": "2023-08-31T02:13:40.469232Z",
     "iopub.status.busy": "2023-08-31T02:13:40.468851Z",
     "iopub.status.idle": "2023-08-31T02:13:40.473538Z",
     "shell.execute_reply": "2023-08-31T02:13:40.472663Z"
    },
    "slideshow": {
     "slide_type": "-"
    }
   },
   "outputs": [],
   "source": [
    "int(1.999)"
   ]
  },
  {
   "cell_type": "code",
   "execution_count": null,
   "id": "cf96b7ae",
   "metadata": {
    "execution": {
     "iopub.execute_input": "2023-08-31T02:13:40.477054Z",
     "iopub.status.busy": "2023-08-31T02:13:40.476768Z",
     "iopub.status.idle": "2023-08-31T02:13:40.481050Z",
     "shell.execute_reply": "2023-08-31T02:13:40.480500Z"
    },
    "slideshow": {
     "slide_type": "-"
    }
   },
   "outputs": [],
   "source": [
    "int(\"3\")\n"
   ]
  },
  {
   "cell_type": "markdown",
   "id": "a99204d4",
   "metadata": {
    "slideshow": {
     "slide_type": "subslide"
    }
   },
   "source": [
    "### Some conversions don't work, or are surprising\n",
    "* `int(<value>)` → convert value to an int"
   ]
  },
  {
   "cell_type": "code",
   "execution_count": null,
   "id": "4909d3fb",
   "metadata": {
    "execution": {
     "iopub.execute_input": "2023-08-31T02:13:40.484874Z",
     "iopub.status.busy": "2023-08-31T02:13:40.484577Z",
     "iopub.status.idle": "2023-08-31T02:13:40.787832Z",
     "shell.execute_reply": "2023-08-31T02:13:40.786640Z"
    },
    "slideshow": {
     "slide_type": "-"
    },
    "tags": [
     "raises-exception"
    ]
   },
   "outputs": [],
   "source": [
    "int(\"Hi\")"
   ]
  },
  {
   "cell_type": "code",
   "execution_count": null,
   "id": "b8233b2e",
   "metadata": {
    "execution": {
     "iopub.execute_input": "2023-08-31T02:13:40.792000Z",
     "iopub.status.busy": "2023-08-31T02:13:40.791710Z",
     "iopub.status.idle": "2023-08-31T02:13:40.808114Z",
     "shell.execute_reply": "2023-08-31T02:13:40.807508Z"
    },
    "slideshow": {
     "slide_type": "-"
    },
    "tags": [
     "raises-exception"
    ]
   },
   "outputs": [],
   "source": [
    "int(\"1.999\")"
   ]
  },
  {
   "cell_type": "markdown",
   "id": "3e26199a",
   "metadata": {
    "slideshow": {
     "slide_type": "subslide"
    }
   },
   "source": [
    "* `float(<value>)` → convert value to an float"
   ]
  },
  {
   "cell_type": "code",
   "execution_count": null,
   "id": "2dcb293a",
   "metadata": {
    "execution": {
     "iopub.execute_input": "2023-08-31T02:13:40.811229Z",
     "iopub.status.busy": "2023-08-31T02:13:40.810935Z",
     "iopub.status.idle": "2023-08-31T02:13:40.815834Z",
     "shell.execute_reply": "2023-08-31T02:13:40.815152Z"
    },
    "slideshow": {
     "slide_type": "-"
    }
   },
   "outputs": [],
   "source": [
    "float(2)"
   ]
  },
  {
   "cell_type": "code",
   "execution_count": null,
   "id": "6e1356f7",
   "metadata": {
    "execution": {
     "iopub.execute_input": "2023-08-31T02:13:40.819661Z",
     "iopub.status.busy": "2023-08-31T02:13:40.819295Z",
     "iopub.status.idle": "2023-08-31T02:13:40.824817Z",
     "shell.execute_reply": "2023-08-31T02:13:40.824020Z"
    },
    "slideshow": {
     "slide_type": "-"
    }
   },
   "outputs": [],
   "source": [
    "float(\"2\")"
   ]
  },
  {
   "cell_type": "code",
   "execution_count": null,
   "id": "f9c62425",
   "metadata": {
    "execution": {
     "iopub.execute_input": "2023-08-31T02:13:40.831640Z",
     "iopub.status.busy": "2023-08-31T02:13:40.831177Z",
     "iopub.status.idle": "2023-08-31T02:13:40.837830Z",
     "shell.execute_reply": "2023-08-31T02:13:40.836964Z"
    },
    "slideshow": {
     "slide_type": "-"
    }
   },
   "outputs": [],
   "source": [
    "float(\"2.5\")"
   ]
  },
  {
   "cell_type": "code",
   "execution_count": null,
   "id": "feec253c",
   "metadata": {
    "execution": {
     "iopub.execute_input": "2023-08-31T02:13:40.841194Z",
     "iopub.status.busy": "2023-08-31T02:13:40.840908Z",
     "iopub.status.idle": "2023-08-31T02:13:40.857276Z",
     "shell.execute_reply": "2023-08-31T02:13:40.856682Z"
    },
    "slideshow": {
     "slide_type": "-"
    },
    "tags": [
     "raises-exception"
    ]
   },
   "outputs": [],
   "source": [
    "float(\"Hi again\")"
   ]
  },
  {
   "cell_type": "markdown",
   "id": "c70eb0ed",
   "metadata": {
    "slideshow": {
     "slide_type": "subslide"
    }
   },
   "source": [
    "* `str(<value>)` → convert value to a str"
   ]
  },
  {
   "cell_type": "code",
   "execution_count": null,
   "id": "050f010f",
   "metadata": {
    "execution": {
     "iopub.execute_input": "2023-08-31T02:13:40.860981Z",
     "iopub.status.busy": "2023-08-31T02:13:40.860638Z",
     "iopub.status.idle": "2023-08-31T02:13:40.865316Z",
     "shell.execute_reply": "2023-08-31T02:13:40.864618Z"
    }
   },
   "outputs": [],
   "source": [
    "str(2)"
   ]
  },
  {
   "cell_type": "code",
   "execution_count": null,
   "id": "9ba2b278",
   "metadata": {
    "execution": {
     "iopub.execute_input": "2023-08-31T02:13:40.869405Z",
     "iopub.status.busy": "2023-08-31T02:13:40.868961Z",
     "iopub.status.idle": "2023-08-31T02:13:40.874996Z",
     "shell.execute_reply": "2023-08-31T02:13:40.873844Z"
    }
   },
   "outputs": [],
   "source": [
    "str(2.5)"
   ]
  },
  {
   "cell_type": "markdown",
   "id": "ccd00740",
   "metadata": {
    "slideshow": {
     "slide_type": "subslide"
    }
   },
   "source": [
    "* `bool(<value>)` → convert value to a bool"
   ]
  },
  {
   "cell_type": "code",
   "execution_count": null,
   "id": "5e28d10f",
   "metadata": {
    "execution": {
     "iopub.execute_input": "2023-08-31T02:13:40.879510Z",
     "iopub.status.busy": "2023-08-31T02:13:40.879134Z",
     "iopub.status.idle": "2023-08-31T02:13:40.884769Z",
     "shell.execute_reply": "2023-08-31T02:13:40.883576Z"
    }
   },
   "outputs": [],
   "source": [
    "bool(1)"
   ]
  },
  {
   "cell_type": "code",
   "execution_count": null,
   "id": "5abe200a",
   "metadata": {
    "execution": {
     "iopub.execute_input": "2023-08-31T02:13:40.888988Z",
     "iopub.status.busy": "2023-08-31T02:13:40.888570Z",
     "iopub.status.idle": "2023-08-31T02:13:40.893880Z",
     "shell.execute_reply": "2023-08-31T02:13:40.892986Z"
    }
   },
   "outputs": [],
   "source": [
    "bool(0)"
   ]
  },
  {
   "cell_type": "code",
   "execution_count": null,
   "id": "5180d4aa",
   "metadata": {
    "execution": {
     "iopub.execute_input": "2023-08-31T02:13:40.897533Z",
     "iopub.status.busy": "2023-08-31T02:13:40.897217Z",
     "iopub.status.idle": "2023-08-31T02:13:40.903046Z",
     "shell.execute_reply": "2023-08-31T02:13:40.901804Z"
    }
   },
   "outputs": [],
   "source": [
    "bool(0.5)"
   ]
  },
  {
   "cell_type": "code",
   "execution_count": null,
   "id": "e1afefca",
   "metadata": {
    "execution": {
     "iopub.execute_input": "2023-08-31T02:13:40.906826Z",
     "iopub.status.busy": "2023-08-31T02:13:40.906521Z",
     "iopub.status.idle": "2023-08-31T02:13:40.911824Z",
     "shell.execute_reply": "2023-08-31T02:13:40.910835Z"
    }
   },
   "outputs": [],
   "source": [
    "bool(\"why hello there\")"
   ]
  },
  {
   "cell_type": "code",
   "execution_count": null,
   "id": "7f3e48f7",
   "metadata": {
    "execution": {
     "iopub.execute_input": "2023-08-31T02:13:40.916819Z",
     "iopub.status.busy": "2023-08-31T02:13:40.916382Z",
     "iopub.status.idle": "2023-08-31T02:13:40.922416Z",
     "shell.execute_reply": "2023-08-31T02:13:40.921197Z"
    }
   },
   "outputs": [],
   "source": [
    "bool(\"\")"
   ]
  },
  {
   "cell_type": "code",
   "execution_count": null,
   "id": "b612fe3c",
   "metadata": {
    "execution": {
     "iopub.execute_input": "2023-08-31T02:13:40.926900Z",
     "iopub.status.busy": "2023-08-31T02:13:40.926554Z",
     "iopub.status.idle": "2023-08-31T02:13:40.932066Z",
     "shell.execute_reply": "2023-08-31T02:13:40.931145Z"
    }
   },
   "outputs": [],
   "source": [
    "bool(\"0\")"
   ]
  },
  {
   "cell_type": "markdown",
   "id": "a856b88d",
   "metadata": {
    "slideshow": {
     "slide_type": "slide"
    }
   },
   "source": [
    "# Expressions\n",
    "\n",
    "* **Expressions** are the most basic instructions in Python\n",
    "* They are made up of one or more **values**, and zero or more **operators**\n",
    "* They always **evaluate** down to a single value\n"
   ]
  },
  {
   "cell_type": "markdown",
   "id": "0b58fce1",
   "metadata": {
    "slideshow": {
     "slide_type": "subslide"
    }
   },
   "source": [
    "## Expression examples"
   ]
  },
  {
   "cell_type": "code",
   "execution_count": null,
   "id": "2f7d10a4",
   "metadata": {
    "execution": {
     "iopub.execute_input": "2023-08-31T02:13:40.937212Z",
     "iopub.status.busy": "2023-08-31T02:13:40.936904Z",
     "iopub.status.idle": "2023-08-31T02:13:40.941800Z",
     "shell.execute_reply": "2023-08-31T02:13:40.941023Z"
    },
    "slideshow": {
     "slide_type": "-"
    }
   },
   "outputs": [],
   "source": [
    "7"
   ]
  },
  {
   "cell_type": "code",
   "execution_count": null,
   "id": "c3e671b7",
   "metadata": {
    "execution": {
     "iopub.execute_input": "2023-08-31T02:13:40.945506Z",
     "iopub.status.busy": "2023-08-31T02:13:40.945198Z",
     "iopub.status.idle": "2023-08-31T02:13:40.950022Z",
     "shell.execute_reply": "2023-08-31T02:13:40.949364Z"
    },
    "slideshow": {
     "slide_type": "-"
    }
   },
   "outputs": [],
   "source": [
    "2 + 2"
   ]
  },
  {
   "cell_type": "code",
   "execution_count": null,
   "id": "8c02531e",
   "metadata": {
    "execution": {
     "iopub.execute_input": "2023-08-31T02:13:40.953324Z",
     "iopub.status.busy": "2023-08-31T02:13:40.953030Z",
     "iopub.status.idle": "2023-08-31T02:13:40.957638Z",
     "shell.execute_reply": "2023-08-31T02:13:40.956855Z"
    },
    "slideshow": {
     "slide_type": "-"
    }
   },
   "outputs": [],
   "source": [
    "10 / 8"
   ]
  },
  {
   "cell_type": "code",
   "execution_count": null,
   "id": "d71d5972",
   "metadata": {
    "execution": {
     "iopub.execute_input": "2023-08-31T02:13:40.960691Z",
     "iopub.status.busy": "2023-08-31T02:13:40.960418Z",
     "iopub.status.idle": "2023-08-31T02:13:40.964590Z",
     "shell.execute_reply": "2023-08-31T02:13:40.963879Z"
    },
    "slideshow": {
     "slide_type": "-"
    }
   },
   "outputs": [],
   "source": [
    "(8**2) - 1 "
   ]
  },
  {
   "cell_type": "code",
   "execution_count": null,
   "id": "954e6090",
   "metadata": {
    "execution": {
     "iopub.execute_input": "2023-08-31T02:13:40.967808Z",
     "iopub.status.busy": "2023-08-31T02:13:40.967533Z",
     "iopub.status.idle": "2023-08-31T02:13:40.973046Z",
     "shell.execute_reply": "2023-08-31T02:13:40.971883Z"
    },
    "slideshow": {
     "slide_type": "-"
    }
   },
   "outputs": [],
   "source": [
    "(((8 % 3) ** 3) + 55) // (8 - 3) * 2"
   ]
  },
  {
   "cell_type": "markdown",
   "id": "7cab12b0",
   "metadata": {
    "slideshow": {
     "slide_type": "slide"
    }
   },
   "source": [
    "## Arithmetic operators\n",
    "\n",
    "|  Operator | Operation | Example | Evaluates to… |\n",
    "| --- | --- | --- | --- |\n",
    "| ** | exponent | `4 ** 3` | `64` |\n",
    "| % | modulo / remainder | `22 % 8` | `4` |\n",
    "| // | integer division (rounds down) | `22 // 8` | `2` |\n",
    "| / | division | `22 / 8` | `2.75` |\n",
    "| * | multiplication | `2 * 8` | `16` |\n",
    "| - | subtraction | `22 - 8` | `14` |\n",
    "| + | addition | `22 + 8` | `30` |\n"
   ]
  },
  {
   "cell_type": "markdown",
   "id": "15120bda",
   "metadata": {
    "slideshow": {
     "slide_type": "subslide"
    }
   },
   "source": [
    "## Precedence / Evaluation Order\n",
    "\n",
    "\n",
    "`(((8 % 3) ** 3) + 55) // (8 - 3) * 2`\n",
    "\n",
    "`((2 ** 3) + 55) // (8 - 3) * 2`\n",
    "\n",
    "`((2 ** 3) + 55) // 5 * 2`\n",
    "\n",
    "`(8 + 55) // 5 * 2`\n",
    "\n",
    "`63 // 5 * 2`\n",
    "\n",
    "`12 * 2`\n",
    "\n",
    "`24`\n"
   ]
  },
  {
   "cell_type": "markdown",
   "id": "d61a3303",
   "metadata": {
    "slideshow": {
     "slide_type": "subslide"
    }
   },
   "source": [
    "## Expressions and Types\n",
    "Each expression evaluates to a single value, with a single type.  \n",
    "  \n",
    "There are rules about which operators work on which types, and which type is produced from the expression.  We won't cover them exhaustively, but we'll look at some examples."
   ]
  },
  {
   "cell_type": "code",
   "execution_count": null,
   "id": "ef738eec",
   "metadata": {
    "execution": {
     "iopub.execute_input": "2023-08-31T02:13:40.977077Z",
     "iopub.status.busy": "2023-08-31T02:13:40.976764Z",
     "iopub.status.idle": "2023-08-31T02:13:40.983025Z",
     "shell.execute_reply": "2023-08-31T02:13:40.982033Z"
    }
   },
   "outputs": [],
   "source": [
    "1 + 2"
   ]
  },
  {
   "cell_type": "code",
   "execution_count": null,
   "id": "2c6bc513",
   "metadata": {
    "execution": {
     "iopub.execute_input": "2023-08-31T02:13:40.987321Z",
     "iopub.status.busy": "2023-08-31T02:13:40.987030Z",
     "iopub.status.idle": "2023-08-31T02:13:40.991579Z",
     "shell.execute_reply": "2023-08-31T02:13:40.990904Z"
    }
   },
   "outputs": [],
   "source": [
    "1 + 2.2"
   ]
  },
  {
   "cell_type": "code",
   "execution_count": null,
   "id": "41a2031f",
   "metadata": {
    "execution": {
     "iopub.execute_input": "2023-08-31T02:13:40.994889Z",
     "iopub.status.busy": "2023-08-31T02:13:40.994579Z",
     "iopub.status.idle": "2023-08-31T02:13:40.999294Z",
     "shell.execute_reply": "2023-08-31T02:13:40.998723Z"
    }
   },
   "outputs": [],
   "source": [
    "2.2 + 1"
   ]
  },
  {
   "cell_type": "code",
   "execution_count": null,
   "id": "d3f8628b",
   "metadata": {
    "execution": {
     "iopub.execute_input": "2023-08-31T02:13:41.002978Z",
     "iopub.status.busy": "2023-08-31T02:13:41.002666Z",
     "iopub.status.idle": "2023-08-31T02:13:41.008612Z",
     "shell.execute_reply": "2023-08-31T02:13:41.007822Z"
    }
   },
   "outputs": [],
   "source": [
    "2.3 * 1.2"
   ]
  },
  {
   "cell_type": "code",
   "execution_count": null,
   "id": "64c8993c",
   "metadata": {
    "execution": {
     "iopub.execute_input": "2023-08-31T02:13:41.012660Z",
     "iopub.status.busy": "2023-08-31T02:13:41.012310Z",
     "iopub.status.idle": "2023-08-31T02:13:41.017172Z",
     "shell.execute_reply": "2023-08-31T02:13:41.016491Z"
    },
    "slideshow": {
     "slide_type": "subslide"
    }
   },
   "outputs": [],
   "source": [
    "5 + True"
   ]
  },
  {
   "cell_type": "code",
   "execution_count": null,
   "id": "fc17c0ee",
   "metadata": {
    "execution": {
     "iopub.execute_input": "2023-08-31T02:13:41.022253Z",
     "iopub.status.busy": "2023-08-31T02:13:41.021815Z",
     "iopub.status.idle": "2023-08-31T02:13:41.029286Z",
     "shell.execute_reply": "2023-08-31T02:13:41.027979Z"
    }
   },
   "outputs": [],
   "source": [
    "2.3 + True"
   ]
  },
  {
   "cell_type": "code",
   "execution_count": null,
   "id": "afb6ce9b",
   "metadata": {
    "execution": {
     "iopub.execute_input": "2023-08-31T02:13:41.035117Z",
     "iopub.status.busy": "2023-08-31T02:13:41.034535Z",
     "iopub.status.idle": "2023-08-31T02:13:41.057055Z",
     "shell.execute_reply": "2023-08-31T02:13:41.055934Z"
    },
    "tags": [
     "raises-exception"
    ]
   },
   "outputs": [],
   "source": [
    "2 + \"Hi\""
   ]
  },
  {
   "cell_type": "code",
   "execution_count": null,
   "id": "8544683c",
   "metadata": {
    "execution": {
     "iopub.execute_input": "2023-08-31T02:13:41.062009Z",
     "iopub.status.busy": "2023-08-31T02:13:41.061654Z",
     "iopub.status.idle": "2023-08-31T02:13:41.080572Z",
     "shell.execute_reply": "2023-08-31T02:13:41.079824Z"
    },
    "tags": [
     "raises-exception"
    ]
   },
   "outputs": [],
   "source": [
    "2.3 + \"Hi\""
   ]
  },
  {
   "cell_type": "markdown",
   "id": "b16ada22",
   "metadata": {
    "slideshow": {
     "slide_type": "subslide"
    }
   },
   "source": [
    "# String operators\n",
    "\n",
    "| Operator | Operation | Example | Evaluates to… |\n",
    "| --- | --- | --- | --- |\n",
    "| + | concatenate | `“Hello ” + “World”` | `“Hello World”` |\n",
    "| * |replicate | `“Hi” * 3` | `“HiHiHi”` |\n"
   ]
  },
  {
   "cell_type": "markdown",
   "id": "ac114a01",
   "metadata": {
    "slideshow": {
     "slide_type": "subslide"
    }
   },
   "source": [
    "## String operator examples"
   ]
  },
  {
   "cell_type": "code",
   "execution_count": null,
   "id": "fd56182a",
   "metadata": {
    "execution": {
     "iopub.execute_input": "2023-08-31T02:13:41.084597Z",
     "iopub.status.busy": "2023-08-31T02:13:41.084250Z",
     "iopub.status.idle": "2023-08-31T02:13:41.090772Z",
     "shell.execute_reply": "2023-08-31T02:13:41.089697Z"
    }
   },
   "outputs": [],
   "source": [
    "\"Hi\" + \"class\""
   ]
  },
  {
   "cell_type": "code",
   "execution_count": null,
   "id": "1367f673",
   "metadata": {
    "execution": {
     "iopub.execute_input": "2023-08-31T02:13:41.095763Z",
     "iopub.status.busy": "2023-08-31T02:13:41.095134Z",
     "iopub.status.idle": "2023-08-31T02:13:41.100302Z",
     "shell.execute_reply": "2023-08-31T02:13:41.099192Z"
    }
   },
   "outputs": [],
   "source": [
    "\"Where \" + \"did I \" + \"park?\""
   ]
  },
  {
   "cell_type": "code",
   "execution_count": null,
   "id": "b28e9718",
   "metadata": {
    "execution": {
     "iopub.execute_input": "2023-08-31T02:13:41.105372Z",
     "iopub.status.busy": "2023-08-31T02:13:41.104931Z",
     "iopub.status.idle": "2023-08-31T02:13:41.110397Z",
     "shell.execute_reply": "2023-08-31T02:13:41.109552Z"
    }
   },
   "outputs": [],
   "source": [
    "\"Hi\" * 3"
   ]
  },
  {
   "cell_type": "markdown",
   "id": "c6949e2e",
   "metadata": {
    "slideshow": {
     "slide_type": "subslide"
    }
   },
   "source": [
    "## String operator examples"
   ]
  },
  {
   "cell_type": "code",
   "execution_count": null,
   "id": "5b27aae7",
   "metadata": {
    "execution": {
     "iopub.execute_input": "2023-08-31T02:13:41.114578Z",
     "iopub.status.busy": "2023-08-31T02:13:41.114261Z",
     "iopub.status.idle": "2023-08-31T02:13:41.136794Z",
     "shell.execute_reply": "2023-08-31T02:13:41.135242Z"
    },
    "tags": [
     "raises-exception"
    ]
   },
   "outputs": [],
   "source": [
    "\"Hi\" + 3"
   ]
  },
  {
   "cell_type": "code",
   "execution_count": null,
   "id": "5d086d00",
   "metadata": {
    "execution": {
     "iopub.execute_input": "2023-08-31T02:13:41.141419Z",
     "iopub.status.busy": "2023-08-31T02:13:41.141062Z",
     "iopub.status.idle": "2023-08-31T02:13:41.147310Z",
     "shell.execute_reply": "2023-08-31T02:13:41.146563Z"
    }
   },
   "outputs": [],
   "source": [
    "\"Hi\" + str(3)"
   ]
  },
  {
   "cell_type": "code",
   "execution_count": null,
   "id": "2cbffcb9",
   "metadata": {
    "execution": {
     "iopub.execute_input": "2023-08-31T02:13:41.150939Z",
     "iopub.status.busy": "2023-08-31T02:13:41.150522Z",
     "iopub.status.idle": "2023-08-31T02:13:41.157419Z",
     "shell.execute_reply": "2023-08-31T02:13:41.156385Z"
    }
   },
   "outputs": [],
   "source": [
    "\"Hi\" + str(3.0)"
   ]
  },
  {
   "cell_type": "code",
   "execution_count": null,
   "id": "61380538",
   "metadata": {
    "execution": {
     "iopub.execute_input": "2023-08-31T02:13:41.161542Z",
     "iopub.status.busy": "2023-08-31T02:13:41.161084Z",
     "iopub.status.idle": "2023-08-31T02:13:41.166275Z",
     "shell.execute_reply": "2023-08-31T02:13:41.165391Z"
    }
   },
   "outputs": [],
   "source": [
    "\"Hi\" + str(True)"
   ]
  },
  {
   "cell_type": "code",
   "execution_count": null,
   "id": "bf58328a",
   "metadata": {
    "execution": {
     "iopub.execute_input": "2023-08-31T02:13:41.170932Z",
     "iopub.status.busy": "2023-08-31T02:13:41.170504Z",
     "iopub.status.idle": "2023-08-31T02:13:41.176835Z",
     "shell.execute_reply": "2023-08-31T02:13:41.175995Z"
    }
   },
   "outputs": [],
   "source": [
    "\"Hi\" + str(int(True))"
   ]
  },
  {
   "cell_type": "markdown",
   "id": "acc01b99",
   "metadata": {},
   "source": [
    "# [Slido](https://wall.sli.do/event/pzCxCVvKaKKjsaesozsThu?section=87d7c7c2-6fd1-4d65-b78e-8c3aa6553576)"
   ]
  },
  {
   "cell_type": "markdown",
   "id": "63db525d",
   "metadata": {
    "slideshow": {
     "slide_type": "slide"
    }
   },
   "source": [
    "# Variables\n",
    "\n",
    "* Like a box\\* in the computer’s memory where you can store a single value\n",
    "* The box has a **name**, and a **value** inside it"
   ]
  },
  {
   "cell_type": "markdown",
   "id": "cb521422",
   "metadata": {
    "slideshow": {
     "slide_type": "fragment"
    }
   },
   "source": [
    "\\* Full disclosure: This analogy is imperfect in Python, we'll come back to this later in the term"
   ]
  },
  {
   "cell_type": "markdown",
   "id": "b2f90eaa",
   "metadata": {
    "slideshow": {
     "slide_type": "subslide"
    }
   },
   "source": [
    "## Variables - what can you do with them? \n",
    "\n",
    "You can: \n",
    "* **Assign** (put a value inside the box)\n",
    "  * The first time you assign to a variable, the variable is **declared** (i.e. the box is created for you)\n",
    "* **Read** or **use** the value\n"
   ]
  },
  {
   "cell_type": "code",
   "execution_count": null,
   "id": "dc197b71",
   "metadata": {
    "execution": {
     "iopub.execute_input": "2023-08-31T02:13:41.181083Z",
     "iopub.status.busy": "2023-08-31T02:13:41.180609Z",
     "iopub.status.idle": "2023-08-31T02:13:41.186347Z",
     "shell.execute_reply": "2023-08-31T02:13:41.185324Z"
    }
   },
   "outputs": [],
   "source": [
    "# declare the variable \"name\" and assign the string \"Joe\" to it\n",
    "name = \"Joe\"\n",
    "print(name)\n",
    "\n",
    "# assign the string \"Spongebob\" to the variable \"name\", overwriting the old value (\"Joe\")\n",
    "name = \"Spongebob\"\n",
    "print(name)\n",
    "\n",
    "# appends \" Squarepants\" to \"Spongebob\", setting the name variable equal to \"Spongebob Squarepants\"\n",
    "name = name + \" Squarepants\"\n",
    "print(name)\n"
   ]
  },
  {
   "cell_type": "markdown",
   "id": "eacb8ddc",
   "metadata": {
    "slideshow": {
     "slide_type": "subslide"
    }
   },
   "source": [
    "## Variable example usage"
   ]
  },
  {
   "cell_type": "code",
   "execution_count": null,
   "id": "b2280c9c",
   "metadata": {
    "execution": {
     "iopub.execute_input": "2023-08-31T02:13:41.190893Z",
     "iopub.status.busy": "2023-08-31T02:13:41.190429Z",
     "iopub.status.idle": "2023-08-31T02:13:41.197000Z",
     "shell.execute_reply": "2023-08-31T02:13:41.196253Z"
    }
   },
   "outputs": [],
   "source": [
    "# %load ../../snippets/variables.py\n",
    "tetons = \"mountains\"\n",
    "acadia = \"forests\"\n",
    "\n",
    "print(tetons)\n",
    "print(acadia)\n",
    "\n",
    "tetons = \"beautiful\"\n",
    "\n",
    "print(tetons)\n",
    "print(tetons + acadia)\n",
    "print(tetons + \" \" + acadia)\n",
    "\n",
    "answer = 42\n",
    "acadia = acadia + \" are peaceful\"\n",
    "print(acadia + str(answer))\n",
    "\n",
    "joshua_tree = str(answer + 7)\n",
    "print(tetons + \" \" + joshua_tree)\n",
    "\n"
   ]
  },
  {
   "cell_type": "markdown",
   "id": "c0e9c8ca",
   "metadata": {
    "slideshow": {
     "slide_type": "subslide"
    }
   },
   "source": [
    "# Step-thru debugging revisited\n",
    "\n",
    "repl.it: [Lecture 2 exercises: Variables](https://replit.com/@cosi-10a-fall23/Variables#main.py)"
   ]
  },
  {
   "cell_type": "markdown",
   "id": "491e7aee",
   "metadata": {
    "slideshow": {
     "slide_type": "subslide"
    }
   },
   "source": [
    "# Variable naming - requirements\n",
    "\n",
    "* Must start with a letter or the underscore character\n",
    "* Cannot start with a number\n",
    "* Can only contain alphanumeric characters and underscores (A-z, 0-9, and _ )\n",
    "  * No spaces! No dashes! \n",
    "* Case-sensitive \n",
    "  * \"banff\", \"Banff\" and \"BANFF\" are three different variables"
   ]
  },
  {
   "cell_type": "markdown",
   "id": "0fb8e10c",
   "metadata": {},
   "source": [
    "| Valid names | <span style=\"color:red\">Invalid names</span> |\n",
    "| --- | --- | \n",
    "| no_hyphens | <span style=\"color:red\">no-hyphens</span> |\n",
    "| foo42 | <span style=\"color:red\">42foo</span> |\n",
    "| \\_bar | <span style=\"color:red\">bar$</span> |\n",
    "| chocolateIsGreat | <span style=\"color:red\">chocolate is great</span> |\n",
    "| no_special_chars | <span style=\"color:red\">'no_special_chars'</span> |\n"
   ]
  },
  {
   "cell_type": "markdown",
   "id": "a138bd98",
   "metadata": {
    "slideshow": {
     "slide_type": "subslide"
    }
   },
   "source": [
    "## Variable naming - suggestions\n",
    "\n",
    "* Variable names should be descriptive, and reflect the data stored in the value\n",
    "  * E.g. `userName` instead of `u` or `data`\n",
    "* There are several common naming conventions for variables. Try to pick one and stick with it within a single program:\n",
    "  * `lower_case_with_underscores`\n",
    "  * `camelCase`\n",
    "  * `UpperCamelCase`\n",
    "  * `alllowercase` (not recommended)\n",
    "  * `ALL_CAPS_WITH_UNDERSCORES` (not recommended)\n"
   ]
  },
  {
   "cell_type": "markdown",
   "id": "42f50421",
   "metadata": {
    "slideshow": {
     "slide_type": "slide"
    }
   },
   "source": [
    "## Code \"style\"\n",
    "\n",
    "* Almost all code is read more often than it is written\n",
    "* Even if the code is only for you - it takes a surprisingly short amount of time to forget exactly how your code works\n",
    "* Using consistent, readable style is a good practice that will save time and confusion down the line\n",
    "  * It will also make your assignments easier to grade\n",
    "* Python has an extensive [style guide](https://peps.python.org/pep-0008), but much of it won't make sense or be applicable yet.\n",
    "  * You won't be graded on style, and you don't need to follow any particular coding style in this class. Your initial goal is to produce working code that you understand.\n",
    "  * The important thing right now is to actively think about how understandable your code is, and to try to improve that over the course of the term."
   ]
  },
  {
   "cell_type": "markdown",
   "id": "27b1ca6d",
   "metadata": {
    "slideshow": {
     "slide_type": "slide"
    }
   },
   "source": [
    "# A (small) real program"
   ]
  },
  {
   "cell_type": "markdown",
   "id": "b492f9b7",
   "metadata": {
    "slideshow": {
     "slide_type": "fragment"
    }
   },
   "source": [
    "### But first: User input\n",
    "* The `input()` function prompts a user for input\n",
    "* It takes one **argument**: the text to display before waiting for the user to type\n",
    "* [Official documentation](https://docs.python.org/3/library/functions.html#input)\n"
   ]
  },
  {
   "cell_type": "code",
   "execution_count": null,
   "id": "6d8d6b19",
   "metadata": {
    "execution": {
     "iopub.execute_input": "2023-08-31T02:13:41.201779Z",
     "iopub.status.busy": "2023-08-31T02:13:41.201427Z",
     "iopub.status.idle": "2023-08-31T02:13:41.292065Z",
     "shell.execute_reply": "2023-08-31T02:13:41.291382Z"
    },
    "slideshow": {
     "slide_type": "-"
    },
    "tags": [
     "remove-output"
    ]
   },
   "outputs": [],
   "source": [
    "name = input(\"What is your name? \")\n",
    "print(\"Hi \" + name)"
   ]
  },
  {
   "cell_type": "markdown",
   "id": "9399759a",
   "metadata": {
    "slideshow": {
     "slide_type": "subslide"
    }
   },
   "source": [
    "# A (small) real program\n",
    "repl.it: [Lecture 2 exercises: Age Calculator](https://replit.com/@cosi-10a-fall23/Age-calculator#main.py)\n",
    "\n",
    "Add to this program so that it prints some facts about the user's age:\n",
    "\n",
    "* Print out the (approximate) age of the user in years.\n",
    "* Print out how old the user was in some year in the past (e.g. \"You were 10 years old in 2015!\").\n",
    "* Print out the (approximate) age of the user in seconds."
   ]
  },
  {
   "cell_type": "markdown",
   "id": "09f6fe5c",
   "metadata": {
    "slideshow": {
     "slide_type": "subslide"
    }
   },
   "source": [
    "## One possible solution"
   ]
  },
  {
   "cell_type": "code",
   "execution_count": null,
   "id": "16a7007c",
   "metadata": {
    "execution": {
     "iopub.execute_input": "2023-08-31T02:13:41.296155Z",
     "iopub.status.busy": "2023-08-31T02:13:41.295829Z",
     "iopub.status.idle": "2023-08-31T02:13:41.321295Z",
     "shell.execute_reply": "2023-08-31T02:13:41.320557Z"
    },
    "tags": [
     "remove-output"
    ]
   },
   "outputs": [],
   "source": [
    "# %load ../../snippets/age_calculator.py\n",
    "name = input(\"What is your name? \")\n",
    "year = int(input(\"Hi \" + name + \". What year is it now? \"))\n",
    "birth_year = int(input(\"What year were you born? \"))\n",
    "y2k = 1999\n",
    "\n",
    "print()\n",
    "print(\"Here are some age facts, \" + name + \":\")\n",
    "\n",
    "age = year - birth_year\n",
    "print(\"You are ~\" + str(age) + \" years old.\")\n",
    "print(\"You were ~\" + str(y2k - birth_year) + \" years old when Y2K happened.\")\n",
    "\n",
    "seconds_old = age * 365 * 24 * 60 * 60\n",
    "print(\"You are approximately \" + str(seconds_old) + \" seconds old!\")\n"
   ]
  },
  {
   "cell_type": "markdown",
   "id": "3259ee53",
   "metadata": {},
   "source": [
    "# [Slido](https://wall.sli.do/event/pzCxCVvKaKKjsaesozsThu?section=87d7c7c2-6fd1-4d65-b78e-8c3aa6553576)"
   ]
  }
 ],
 "metadata": {
  "celltoolbar": "Tags",
  "kernelspec": {
   "display_name": "Python 3 (ipykernel)",
   "language": "python",
   "name": "python3"
  },
  "language_info": {
   "codemirror_mode": {
    "name": "ipython",
    "version": 3
   },
   "file_extension": ".py",
   "mimetype": "text/x-python",
   "name": "python",
   "nbconvert_exporter": "python",
   "pygments_lexer": "ipython3",
   "version": "3.10.9"
  }
 },
 "nbformat": 4,
 "nbformat_minor": 5
}
