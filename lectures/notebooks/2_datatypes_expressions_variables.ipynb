{
 "cells": [
  {
   "cell_type": "markdown",
   "id": "1ee8a1d2",
   "metadata": {
    "slideshow": {
     "slide_type": "slide"
    }
   },
   "source": [
    "<h1 style=\"text-align: center;\">Data Types, </h1>\n",
    "<h1 style=\"text-align: center;\">Expressions, </h1>\n",
    "<h1 style=\"text-align: center;\">and Variables</h1>\n",
    "<p style=\"text-align: center;\"><small>(oh my)</small></p>\n",
    "<div style=\"text-align: center\"><small><a href=\"https://colab.research.google.com/github/brandeis-jdelfino/cosi-10a/blob/main/lectures/notebooks/2_datatypes_expressions_variables.ipynb\">Link to interactive slides on Google Colab</a></small></div>\n",
    "\n",
    "<style>\n",
    "section.present > section.present { \n",
    "    max-height: 100%; \n",
    "    overflow-y: scroll;\n",
    "}\n",
    "</style>"
   ]
  },
  {
   "cell_type": "markdown",
   "id": "43e1f8ce",
   "metadata": {
    "slideshow": {
     "slide_type": "slide"
    }
   },
   "source": [
    "# Data Types"
   ]
  },
  {
   "cell_type": "markdown",
   "id": "64daceb0",
   "metadata": {
    "slideshow": {
     "slide_type": "fragment"
    }
   },
   "source": [
    "* All values in Python have a **type**\n",
    "* Some basic Python data types:\n",
    "  * `str`: string; sequence of characters (from last week)\n",
    "  * `int`: integer; whole numbers\t\n",
    "  * `float`: floating point number; real numbers (decimals)\n",
    "  * `bool`: boolean; `True` or `False`\n",
    "\n"
   ]
  },
  {
   "cell_type": "markdown",
   "id": "2f332fd6",
   "metadata": {
    "slideshow": {
     "slide_type": "fragment"
    }
   },
   "source": [
    "Exhaustive documentation of data types: https://docs.python.org/3/library/stdtypes.html"
   ]
  },
  {
   "cell_type": "markdown",
   "id": "69758551",
   "metadata": {
    "slideshow": {
     "slide_type": "subslide"
    }
   },
   "source": [
    "# Data type examples"
   ]
  },
  {
   "cell_type": "markdown",
   "id": "7cd93c83",
   "metadata": {
    "slideshow": {
     "slide_type": "fragment"
    }
   },
   "source": [
    "* str: `“Hi”`, `“I’m a string”`, `“Hopefully these are familiar”`"
   ]
  },
  {
   "cell_type": "markdown",
   "id": "7c033d5a",
   "metadata": {
    "slideshow": {
     "slide_type": "fragment"
    }
   },
   "source": [
    "* int: `1`, `10`, `3`, `9104919`\n"
   ]
  },
  {
   "cell_type": "markdown",
   "id": "bd2ecbbd",
   "metadata": {
    "slideshow": {
     "slide_type": "fragment"
    }
   },
   "source": [
    "* float: `1.2`, `10.1`, `84191.000001`, `2.0`\n",
    "  * Note that 2.0 is a float, even though it is a whole number\n",
    "  * The decimal point forces the number to a float type"
   ]
  },
  {
   "cell_type": "markdown",
   "id": "6f63e327",
   "metadata": {
    "slideshow": {
     "slide_type": "fragment"
    }
   },
   "source": [
    "* bool: `True`, `False`\n",
    "  * Capitalization matters!\n"
   ]
  },
  {
   "cell_type": "markdown",
   "id": "a33cf749",
   "metadata": {
    "slideshow": {
     "slide_type": "subslide"
    }
   },
   "source": [
    "# Type conversions\n",
    "\n",
    "You can convert between different data types:\n",
    "\n",
    "* `int(<value>)` → convert value to an int\n",
    "* `float(<value>)` → convert value to a float\n",
    "* `str(<value>)` → convert value to a str\n",
    "* `bool(<value>)` → convert value to a bool"
   ]
  },
  {
   "cell_type": "markdown",
   "id": "753cdb28",
   "metadata": {
    "slideshow": {
     "slide_type": "fragment"
    }
   },
   "source": [
    "The `<>` notation above is common - `<value>` is a stand-in for any value. The brackets are part of the notation, and don’t show up in the code you’d write."
   ]
  },
  {
   "cell_type": "markdown",
   "id": "85ebaa42",
   "metadata": {
    "slideshow": {
     "slide_type": "subslide"
    }
   },
   "source": [
    "* `int(<value>)` → convert value to an int"
   ]
  },
  {
   "cell_type": "code",
   "execution_count": null,
   "id": "a7a1f279",
   "metadata": {
    "execution": {
     "iopub.execute_input": "2023-09-04T15:56:23.293598Z",
     "iopub.status.busy": "2023-09-04T15:56:23.291887Z",
     "iopub.status.idle": "2023-09-04T15:56:23.314318Z",
     "shell.execute_reply": "2023-09-04T15:56:23.313525Z"
    },
    "slideshow": {
     "slide_type": "-"
    }
   },
   "outputs": [],
   "source": [
    "int(1.0)"
   ]
  },
  {
   "cell_type": "code",
   "execution_count": null,
   "id": "2be05b65",
   "metadata": {
    "execution": {
     "iopub.execute_input": "2023-09-04T15:56:23.319968Z",
     "iopub.status.busy": "2023-09-04T15:56:23.319643Z",
     "iopub.status.idle": "2023-09-04T15:56:23.324707Z",
     "shell.execute_reply": "2023-09-04T15:56:23.323930Z"
    },
    "slideshow": {
     "slide_type": "-"
    }
   },
   "outputs": [],
   "source": [
    "int(1.999)"
   ]
  },
  {
   "cell_type": "code",
   "execution_count": null,
   "id": "cf96b7ae",
   "metadata": {
    "execution": {
     "iopub.execute_input": "2023-09-04T15:56:23.328079Z",
     "iopub.status.busy": "2023-09-04T15:56:23.327790Z",
     "iopub.status.idle": "2023-09-04T15:56:23.333529Z",
     "shell.execute_reply": "2023-09-04T15:56:23.331747Z"
    },
    "slideshow": {
     "slide_type": "-"
    }
   },
   "outputs": [],
   "source": [
    "int(\"3\")\n"
   ]
  },
  {
   "cell_type": "markdown",
   "id": "a99204d4",
   "metadata": {
    "slideshow": {
     "slide_type": "subslide"
    }
   },
   "source": [
    "### Some conversions don't work, or are surprising\n",
    "* `int(<value>)` → convert value to an int"
   ]
  },
  {
   "cell_type": "code",
   "execution_count": null,
   "id": "4909d3fb",
   "metadata": {
    "execution": {
     "iopub.execute_input": "2023-09-04T15:56:23.337933Z",
     "iopub.status.busy": "2023-09-04T15:56:23.337617Z",
     "iopub.status.idle": "2023-09-04T15:56:23.645581Z",
     "shell.execute_reply": "2023-09-04T15:56:23.644923Z"
    },
    "slideshow": {
     "slide_type": "-"
    },
    "tags": [
     "raises-exception"
    ]
   },
   "outputs": [],
   "source": [
    "int(\"Hi\")"
   ]
  },
  {
   "cell_type": "code",
   "execution_count": null,
   "id": "b8233b2e",
   "metadata": {
    "execution": {
     "iopub.execute_input": "2023-09-04T15:56:23.649160Z",
     "iopub.status.busy": "2023-09-04T15:56:23.648824Z",
     "iopub.status.idle": "2023-09-04T15:56:23.669767Z",
     "shell.execute_reply": "2023-09-04T15:56:23.669082Z"
    },
    "slideshow": {
     "slide_type": "-"
    },
    "tags": [
     "raises-exception"
    ]
   },
   "outputs": [],
   "source": [
    "int(\"1.999\")"
   ]
  },
  {
   "cell_type": "markdown",
   "id": "3e26199a",
   "metadata": {
    "slideshow": {
     "slide_type": "subslide"
    }
   },
   "source": [
    "* `float(<value>)` → convert value to an float"
   ]
  },
  {
   "cell_type": "code",
   "execution_count": null,
   "id": "2dcb293a",
   "metadata": {
    "execution": {
     "iopub.execute_input": "2023-09-04T15:56:23.673408Z",
     "iopub.status.busy": "2023-09-04T15:56:23.673089Z",
     "iopub.status.idle": "2023-09-04T15:56:23.677808Z",
     "shell.execute_reply": "2023-09-04T15:56:23.677213Z"
    },
    "slideshow": {
     "slide_type": "-"
    }
   },
   "outputs": [],
   "source": [
    "float(2)"
   ]
  },
  {
   "cell_type": "code",
   "execution_count": null,
   "id": "6e1356f7",
   "metadata": {
    "execution": {
     "iopub.execute_input": "2023-09-04T15:56:23.681286Z",
     "iopub.status.busy": "2023-09-04T15:56:23.680936Z",
     "iopub.status.idle": "2023-09-04T15:56:23.686077Z",
     "shell.execute_reply": "2023-09-04T15:56:23.685372Z"
    },
    "slideshow": {
     "slide_type": "-"
    }
   },
   "outputs": [],
   "source": [
    "float(\"2\")"
   ]
  },
  {
   "cell_type": "code",
   "execution_count": null,
   "id": "f9c62425",
   "metadata": {
    "execution": {
     "iopub.execute_input": "2023-09-04T15:56:23.690633Z",
     "iopub.status.busy": "2023-09-04T15:56:23.689901Z",
     "iopub.status.idle": "2023-09-04T15:56:23.695396Z",
     "shell.execute_reply": "2023-09-04T15:56:23.694724Z"
    },
    "slideshow": {
     "slide_type": "-"
    }
   },
   "outputs": [],
   "source": [
    "float(\"2.5\")"
   ]
  },
  {
   "cell_type": "code",
   "execution_count": null,
   "id": "feec253c",
   "metadata": {
    "execution": {
     "iopub.execute_input": "2023-09-04T15:56:23.700492Z",
     "iopub.status.busy": "2023-09-04T15:56:23.699963Z",
     "iopub.status.idle": "2023-09-04T15:56:23.727033Z",
     "shell.execute_reply": "2023-09-04T15:56:23.725202Z"
    },
    "slideshow": {
     "slide_type": "-"
    },
    "tags": [
     "raises-exception"
    ]
   },
   "outputs": [],
   "source": [
    "float(\"Hi again\")"
   ]
  },
  {
   "cell_type": "markdown",
   "id": "c70eb0ed",
   "metadata": {
    "slideshow": {
     "slide_type": "subslide"
    }
   },
   "source": [
    "* `str(<value>)` → convert value to a str"
   ]
  },
  {
   "cell_type": "code",
   "execution_count": null,
   "id": "050f010f",
   "metadata": {
    "execution": {
     "iopub.execute_input": "2023-09-04T15:56:23.733692Z",
     "iopub.status.busy": "2023-09-04T15:56:23.732538Z",
     "iopub.status.idle": "2023-09-04T15:56:23.738518Z",
     "shell.execute_reply": "2023-09-04T15:56:23.737748Z"
    }
   },
   "outputs": [],
   "source": [
    "str(2)"
   ]
  },
  {
   "cell_type": "code",
   "execution_count": null,
   "id": "9ba2b278",
   "metadata": {
    "execution": {
     "iopub.execute_input": "2023-09-04T15:56:23.743934Z",
     "iopub.status.busy": "2023-09-04T15:56:23.743523Z",
     "iopub.status.idle": "2023-09-04T15:56:23.751885Z",
     "shell.execute_reply": "2023-09-04T15:56:23.750923Z"
    }
   },
   "outputs": [],
   "source": [
    "str(2.5)"
   ]
  },
  {
   "cell_type": "markdown",
   "id": "ccd00740",
   "metadata": {
    "slideshow": {
     "slide_type": "subslide"
    }
   },
   "source": [
    "* `bool(<value>)` → convert value to a bool"
   ]
  },
  {
   "cell_type": "code",
   "execution_count": null,
   "id": "5e28d10f",
   "metadata": {
    "execution": {
     "iopub.execute_input": "2023-09-04T15:56:23.756791Z",
     "iopub.status.busy": "2023-09-04T15:56:23.755964Z",
     "iopub.status.idle": "2023-09-04T15:56:23.763128Z",
     "shell.execute_reply": "2023-09-04T15:56:23.761642Z"
    }
   },
   "outputs": [],
   "source": [
    "bool(1)"
   ]
  },
  {
   "cell_type": "code",
   "execution_count": null,
   "id": "5abe200a",
   "metadata": {
    "execution": {
     "iopub.execute_input": "2023-09-04T15:56:23.768904Z",
     "iopub.status.busy": "2023-09-04T15:56:23.768488Z",
     "iopub.status.idle": "2023-09-04T15:56:23.776628Z",
     "shell.execute_reply": "2023-09-04T15:56:23.775249Z"
    }
   },
   "outputs": [],
   "source": [
    "bool(0)"
   ]
  },
  {
   "cell_type": "code",
   "execution_count": null,
   "id": "5180d4aa",
   "metadata": {
    "execution": {
     "iopub.execute_input": "2023-09-04T15:56:23.783253Z",
     "iopub.status.busy": "2023-09-04T15:56:23.782549Z",
     "iopub.status.idle": "2023-09-04T15:56:23.789674Z",
     "shell.execute_reply": "2023-09-04T15:56:23.788266Z"
    }
   },
   "outputs": [],
   "source": [
    "bool(0.5)"
   ]
  },
  {
   "cell_type": "code",
   "execution_count": null,
   "id": "e1afefca",
   "metadata": {
    "execution": {
     "iopub.execute_input": "2023-09-04T15:56:23.795131Z",
     "iopub.status.busy": "2023-09-04T15:56:23.794534Z",
     "iopub.status.idle": "2023-09-04T15:56:23.802669Z",
     "shell.execute_reply": "2023-09-04T15:56:23.801832Z"
    }
   },
   "outputs": [],
   "source": [
    "bool(\"why hello there\")"
   ]
  },
  {
   "cell_type": "code",
   "execution_count": null,
   "id": "7f3e48f7",
   "metadata": {
    "execution": {
     "iopub.execute_input": "2023-09-04T15:56:23.807925Z",
     "iopub.status.busy": "2023-09-04T15:56:23.807470Z",
     "iopub.status.idle": "2023-09-04T15:56:23.814689Z",
     "shell.execute_reply": "2023-09-04T15:56:23.813795Z"
    }
   },
   "outputs": [],
   "source": [
    "bool(\"\")"
   ]
  },
  {
   "cell_type": "code",
   "execution_count": null,
   "id": "b612fe3c",
   "metadata": {
    "execution": {
     "iopub.execute_input": "2023-09-04T15:56:23.819421Z",
     "iopub.status.busy": "2023-09-04T15:56:23.818995Z",
     "iopub.status.idle": "2023-09-04T15:56:23.825793Z",
     "shell.execute_reply": "2023-09-04T15:56:23.824888Z"
    }
   },
   "outputs": [],
   "source": [
    "bool(\"0\")"
   ]
  },
  {
   "cell_type": "markdown",
   "id": "a856b88d",
   "metadata": {
    "slideshow": {
     "slide_type": "slide"
    }
   },
   "source": [
    "# Expressions\n",
    "\n",
    "* **Expressions** are the most basic instructions in Python\n",
    "* They are made up of one or more **values**, and zero or more **operators**\n",
    "* They always **evaluate** down to a single value\n"
   ]
  },
  {
   "cell_type": "markdown",
   "id": "0b58fce1",
   "metadata": {
    "slideshow": {
     "slide_type": "subslide"
    }
   },
   "source": [
    "## Expression examples"
   ]
  },
  {
   "cell_type": "code",
   "execution_count": null,
   "id": "2f7d10a4",
   "metadata": {
    "execution": {
     "iopub.execute_input": "2023-09-04T15:56:23.832330Z",
     "iopub.status.busy": "2023-09-04T15:56:23.831791Z",
     "iopub.status.idle": "2023-09-04T15:56:23.839448Z",
     "shell.execute_reply": "2023-09-04T15:56:23.838020Z"
    },
    "slideshow": {
     "slide_type": "-"
    }
   },
   "outputs": [],
   "source": [
    "7"
   ]
  },
  {
   "cell_type": "code",
   "execution_count": null,
   "id": "c3e671b7",
   "metadata": {
    "execution": {
     "iopub.execute_input": "2023-09-04T15:56:23.845677Z",
     "iopub.status.busy": "2023-09-04T15:56:23.845288Z",
     "iopub.status.idle": "2023-09-04T15:56:23.852684Z",
     "shell.execute_reply": "2023-09-04T15:56:23.851285Z"
    },
    "slideshow": {
     "slide_type": "-"
    }
   },
   "outputs": [],
   "source": [
    "2 + 2"
   ]
  },
  {
   "cell_type": "code",
   "execution_count": null,
   "id": "8c02531e",
   "metadata": {
    "execution": {
     "iopub.execute_input": "2023-09-04T15:56:23.857498Z",
     "iopub.status.busy": "2023-09-04T15:56:23.856987Z",
     "iopub.status.idle": "2023-09-04T15:56:23.864664Z",
     "shell.execute_reply": "2023-09-04T15:56:23.863687Z"
    },
    "slideshow": {
     "slide_type": "-"
    }
   },
   "outputs": [],
   "source": [
    "10 / 8"
   ]
  },
  {
   "cell_type": "code",
   "execution_count": null,
   "id": "d71d5972",
   "metadata": {
    "execution": {
     "iopub.execute_input": "2023-09-04T15:56:23.870050Z",
     "iopub.status.busy": "2023-09-04T15:56:23.869704Z",
     "iopub.status.idle": "2023-09-04T15:56:23.876146Z",
     "shell.execute_reply": "2023-09-04T15:56:23.874789Z"
    },
    "slideshow": {
     "slide_type": "-"
    }
   },
   "outputs": [],
   "source": [
    "(8**2) - 1 "
   ]
  },
  {
   "cell_type": "code",
   "execution_count": null,
   "id": "954e6090",
   "metadata": {
    "execution": {
     "iopub.execute_input": "2023-09-04T15:56:23.881393Z",
     "iopub.status.busy": "2023-09-04T15:56:23.880980Z",
     "iopub.status.idle": "2023-09-04T15:56:23.887751Z",
     "shell.execute_reply": "2023-09-04T15:56:23.887002Z"
    },
    "slideshow": {
     "slide_type": "-"
    }
   },
   "outputs": [],
   "source": [
    "(((8 % 3) ** 3) + 55) // (8 - 3) * 2"
   ]
  },
  {
   "cell_type": "markdown",
   "id": "7cab12b0",
   "metadata": {
    "slideshow": {
     "slide_type": "slide"
    }
   },
   "source": [
    "## Arithmetic operators\n",
    "\n",
    "|  Operator | Operation | Example | Evaluates to… |\n",
    "| --- | --- | --- | --- |\n",
    "| ** | exponent | `4 ** 3` | `64` |\n",
    "| % | modulo / remainder | `22 % 8` | `4` |\n",
    "| // | integer division (rounds down) | `22 // 8` | `2` |\n",
    "| / | division | `22 / 8` | `2.75` |\n",
    "| * | multiplication | `2 * 8` | `16` |\n",
    "| - | subtraction | `22 - 8` | `14` |\n",
    "| + | addition | `22 + 8` | `30` |\n"
   ]
  },
  {
   "cell_type": "markdown",
   "id": "15120bda",
   "metadata": {
    "slideshow": {
     "slide_type": "subslide"
    }
   },
   "source": [
    "## Precedence / Evaluation Order\n",
    "\n",
    "\n",
    "`(((8 % 3) ** 3) + 55) // (8 - 3) * 2`\n",
    "\n",
    "`((2 ** 3) + 55) // (8 - 3) * 2`\n",
    "\n",
    "`((2 ** 3) + 55) // 5 * 2`\n",
    "\n",
    "`(8 + 55) // 5 * 2`\n",
    "\n",
    "`63 // 5 * 2`\n",
    "\n",
    "`12 * 2`\n",
    "\n",
    "`24`\n"
   ]
  },
  {
   "cell_type": "markdown",
   "id": "d61a3303",
   "metadata": {
    "slideshow": {
     "slide_type": "subslide"
    }
   },
   "source": [
    "## Expressions and Types\n",
    "Each expression evaluates to a single value, with a single type.  \n",
    "  \n",
    "There are rules about which operators work on which types, and which type is produced from the expression.  We won't cover them exhaustively, but we'll look at some examples."
   ]
  },
  {
   "cell_type": "code",
   "execution_count": null,
   "id": "ef738eec",
   "metadata": {
    "execution": {
     "iopub.execute_input": "2023-09-04T15:56:23.893085Z",
     "iopub.status.busy": "2023-09-04T15:56:23.892659Z",
     "iopub.status.idle": "2023-09-04T15:56:23.897398Z",
     "shell.execute_reply": "2023-09-04T15:56:23.896646Z"
    }
   },
   "outputs": [],
   "source": [
    "1 + 2"
   ]
  },
  {
   "cell_type": "code",
   "execution_count": null,
   "id": "2c6bc513",
   "metadata": {
    "execution": {
     "iopub.execute_input": "2023-09-04T15:56:23.901755Z",
     "iopub.status.busy": "2023-09-04T15:56:23.901369Z",
     "iopub.status.idle": "2023-09-04T15:56:23.906616Z",
     "shell.execute_reply": "2023-09-04T15:56:23.905631Z"
    }
   },
   "outputs": [],
   "source": [
    "1 + 2.2"
   ]
  },
  {
   "cell_type": "code",
   "execution_count": null,
   "id": "41a2031f",
   "metadata": {
    "execution": {
     "iopub.execute_input": "2023-09-04T15:56:23.911534Z",
     "iopub.status.busy": "2023-09-04T15:56:23.911231Z",
     "iopub.status.idle": "2023-09-04T15:56:23.915738Z",
     "shell.execute_reply": "2023-09-04T15:56:23.914932Z"
    }
   },
   "outputs": [],
   "source": [
    "2.2 + 1"
   ]
  },
  {
   "cell_type": "code",
   "execution_count": null,
   "id": "d3f8628b",
   "metadata": {
    "execution": {
     "iopub.execute_input": "2023-09-04T15:56:23.920764Z",
     "iopub.status.busy": "2023-09-04T15:56:23.920226Z",
     "iopub.status.idle": "2023-09-04T15:56:23.926578Z",
     "shell.execute_reply": "2023-09-04T15:56:23.925543Z"
    }
   },
   "outputs": [],
   "source": [
    "2.3 * 1.2"
   ]
  },
  {
   "cell_type": "code",
   "execution_count": null,
   "id": "64c8993c",
   "metadata": {
    "execution": {
     "iopub.execute_input": "2023-09-04T15:56:23.929989Z",
     "iopub.status.busy": "2023-09-04T15:56:23.929698Z",
     "iopub.status.idle": "2023-09-04T15:56:23.934740Z",
     "shell.execute_reply": "2023-09-04T15:56:23.934041Z"
    },
    "slideshow": {
     "slide_type": "subslide"
    }
   },
   "outputs": [],
   "source": [
    "5 + True"
   ]
  },
  {
   "cell_type": "code",
   "execution_count": null,
   "id": "fc17c0ee",
   "metadata": {
    "execution": {
     "iopub.execute_input": "2023-09-04T15:56:23.937949Z",
     "iopub.status.busy": "2023-09-04T15:56:23.937673Z",
     "iopub.status.idle": "2023-09-04T15:56:23.943768Z",
     "shell.execute_reply": "2023-09-04T15:56:23.943099Z"
    }
   },
   "outputs": [],
   "source": [
    "2.3 + True"
   ]
  },
  {
   "cell_type": "code",
   "execution_count": null,
   "id": "afb6ce9b",
   "metadata": {
    "execution": {
     "iopub.execute_input": "2023-09-04T15:56:23.946944Z",
     "iopub.status.busy": "2023-09-04T15:56:23.946675Z",
     "iopub.status.idle": "2023-09-04T15:56:23.962720Z",
     "shell.execute_reply": "2023-09-04T15:56:23.962118Z"
    },
    "tags": [
     "raises-exception"
    ]
   },
   "outputs": [],
   "source": [
    "2 + \"Hi\""
   ]
  },
  {
   "cell_type": "code",
   "execution_count": null,
   "id": "8544683c",
   "metadata": {
    "execution": {
     "iopub.execute_input": "2023-09-04T15:56:23.965908Z",
     "iopub.status.busy": "2023-09-04T15:56:23.965609Z",
     "iopub.status.idle": "2023-09-04T15:56:23.980765Z",
     "shell.execute_reply": "2023-09-04T15:56:23.979812Z"
    },
    "tags": [
     "raises-exception"
    ]
   },
   "outputs": [],
   "source": [
    "2.3 + \"Hi\""
   ]
  },
  {
   "cell_type": "markdown",
   "id": "b16ada22",
   "metadata": {
    "slideshow": {
     "slide_type": "subslide"
    }
   },
   "source": [
    "# String operators\n",
    "\n",
    "| Operator | Operation | Example | Evaluates to… |\n",
    "| --- | --- | --- | --- |\n",
    "| + | concatenate | `“Hello ” + “World”` | `“Hello World”` |\n",
    "| * |replicate | `“Hi” * 3` | `“HiHiHi”` |\n"
   ]
  },
  {
   "cell_type": "markdown",
   "id": "ac114a01",
   "metadata": {
    "slideshow": {
     "slide_type": "subslide"
    }
   },
   "source": [
    "## String operator examples"
   ]
  },
  {
   "cell_type": "code",
   "execution_count": null,
   "id": "fd56182a",
   "metadata": {
    "execution": {
     "iopub.execute_input": "2023-09-04T15:56:23.984868Z",
     "iopub.status.busy": "2023-09-04T15:56:23.984575Z",
     "iopub.status.idle": "2023-09-04T15:56:23.989532Z",
     "shell.execute_reply": "2023-09-04T15:56:23.988503Z"
    }
   },
   "outputs": [],
   "source": [
    "\"Hi\" + \"class\""
   ]
  },
  {
   "cell_type": "code",
   "execution_count": null,
   "id": "1367f673",
   "metadata": {
    "execution": {
     "iopub.execute_input": "2023-09-04T15:56:23.993388Z",
     "iopub.status.busy": "2023-09-04T15:56:23.993091Z",
     "iopub.status.idle": "2023-09-04T15:56:23.997636Z",
     "shell.execute_reply": "2023-09-04T15:56:23.996954Z"
    }
   },
   "outputs": [],
   "source": [
    "\"Where \" + \"did I \" + \"park?\""
   ]
  },
  {
   "cell_type": "code",
   "execution_count": null,
   "id": "b28e9718",
   "metadata": {
    "execution": {
     "iopub.execute_input": "2023-09-04T15:56:24.001066Z",
     "iopub.status.busy": "2023-09-04T15:56:24.000791Z",
     "iopub.status.idle": "2023-09-04T15:56:24.005302Z",
     "shell.execute_reply": "2023-09-04T15:56:24.004437Z"
    }
   },
   "outputs": [],
   "source": [
    "\"Hi\" * 3"
   ]
  },
  {
   "cell_type": "markdown",
   "id": "c6949e2e",
   "metadata": {
    "slideshow": {
     "slide_type": "subslide"
    }
   },
   "source": [
    "## String operator examples"
   ]
  },
  {
   "cell_type": "code",
   "execution_count": null,
   "id": "5b27aae7",
   "metadata": {
    "execution": {
     "iopub.execute_input": "2023-09-04T15:56:24.009298Z",
     "iopub.status.busy": "2023-09-04T15:56:24.009023Z",
     "iopub.status.idle": "2023-09-04T15:56:24.026802Z",
     "shell.execute_reply": "2023-09-04T15:56:24.025911Z"
    },
    "tags": [
     "raises-exception"
    ]
   },
   "outputs": [],
   "source": [
    "\"Hi\" + 3"
   ]
  },
  {
   "cell_type": "code",
   "execution_count": null,
   "id": "5d086d00",
   "metadata": {
    "execution": {
     "iopub.execute_input": "2023-09-04T15:56:24.030644Z",
     "iopub.status.busy": "2023-09-04T15:56:24.030352Z",
     "iopub.status.idle": "2023-09-04T15:56:24.036105Z",
     "shell.execute_reply": "2023-09-04T15:56:24.035077Z"
    }
   },
   "outputs": [],
   "source": [
    "\"Hi\" + str(3)"
   ]
  },
  {
   "cell_type": "code",
   "execution_count": null,
   "id": "2cbffcb9",
   "metadata": {
    "execution": {
     "iopub.execute_input": "2023-09-04T15:56:24.040371Z",
     "iopub.status.busy": "2023-09-04T15:56:24.040025Z",
     "iopub.status.idle": "2023-09-04T15:56:24.045069Z",
     "shell.execute_reply": "2023-09-04T15:56:24.044123Z"
    }
   },
   "outputs": [],
   "source": [
    "\"Hi\" + str(3.0)"
   ]
  },
  {
   "cell_type": "code",
   "execution_count": null,
   "id": "61380538",
   "metadata": {
    "execution": {
     "iopub.execute_input": "2023-09-04T15:56:24.048534Z",
     "iopub.status.busy": "2023-09-04T15:56:24.048210Z",
     "iopub.status.idle": "2023-09-04T15:56:24.052889Z",
     "shell.execute_reply": "2023-09-04T15:56:24.052053Z"
    }
   },
   "outputs": [],
   "source": [
    "\"Hi\" + str(True)"
   ]
  },
  {
   "cell_type": "code",
   "execution_count": null,
   "id": "bf58328a",
   "metadata": {
    "execution": {
     "iopub.execute_input": "2023-09-04T15:56:24.055993Z",
     "iopub.status.busy": "2023-09-04T15:56:24.055669Z",
     "iopub.status.idle": "2023-09-04T15:56:24.060827Z",
     "shell.execute_reply": "2023-09-04T15:56:24.060168Z"
    }
   },
   "outputs": [],
   "source": [
    "\"Hi\" + str(int(True))"
   ]
  },
  {
   "cell_type": "markdown",
   "id": "acc01b99",
   "metadata": {
    "slideshow": {
     "slide_type": "slide"
    }
   },
   "source": [
    "# [Slido](https://wall.sli.do/event/pzCxCVvKaKKjsaesozsThu?section=87d7c7c2-6fd1-4d65-b78e-8c3aa6553576)"
   ]
  },
  {
   "cell_type": "markdown",
   "id": "63db525d",
   "metadata": {
    "slideshow": {
     "slide_type": "slide"
    }
   },
   "source": [
    "# Variables\n",
    "\n",
    "* Like a box\\* in the computer’s memory where you can store a single value\n",
    "* The box has a **name**, and a **value** inside it"
   ]
  },
  {
   "cell_type": "markdown",
   "id": "cb521422",
   "metadata": {
    "slideshow": {
     "slide_type": "fragment"
    }
   },
   "source": [
    "\\* Full disclosure: This analogy is imperfect in Python, we'll come back to this later in the term"
   ]
  },
  {
   "cell_type": "markdown",
   "id": "b2f90eaa",
   "metadata": {
    "slideshow": {
     "slide_type": "subslide"
    }
   },
   "source": [
    "## Variables - what can you do with them? \n",
    "\n",
    "You can: \n",
    "* **Assign** (put a value inside the box)\n",
    "  * The first time you assign to a variable, the variable is **declared** (i.e. the box is created for you)\n",
    "* **Read** or **use** the value\n"
   ]
  },
  {
   "cell_type": "code",
   "execution_count": null,
   "id": "dc197b71",
   "metadata": {
    "execution": {
     "iopub.execute_input": "2023-09-04T15:56:24.064034Z",
     "iopub.status.busy": "2023-09-04T15:56:24.063796Z",
     "iopub.status.idle": "2023-09-04T15:56:24.068143Z",
     "shell.execute_reply": "2023-09-04T15:56:24.067517Z"
    }
   },
   "outputs": [],
   "source": [
    "# declare the variable \"name\" and assign the string \"Joe\" to it\n",
    "name = \"Joe\"\n",
    "print(name)\n",
    "\n",
    "# assign the string \"Spongebob\" to the variable \"name\", overwriting the old value (\"Joe\")\n",
    "name = \"Spongebob\"\n",
    "print(name)\n",
    "\n",
    "# appends \" Squarepants\" to \"Spongebob\", setting the name variable equal to \"Spongebob Squarepants\"\n",
    "name = name + \" Squarepants\"\n",
    "print(name)\n"
   ]
  },
  {
   "cell_type": "markdown",
   "id": "eacb8ddc",
   "metadata": {
    "slideshow": {
     "slide_type": "subslide"
    }
   },
   "source": [
    "## Variable example usage"
   ]
  },
  {
   "cell_type": "code",
   "execution_count": null,
   "id": "b2280c9c",
   "metadata": {
    "execution": {
     "iopub.execute_input": "2023-09-04T15:56:24.071302Z",
     "iopub.status.busy": "2023-09-04T15:56:24.071033Z",
     "iopub.status.idle": "2023-09-04T15:56:24.076219Z",
     "shell.execute_reply": "2023-09-04T15:56:24.075593Z"
    }
   },
   "outputs": [],
   "source": [
    "# %load ../../snippets/variables.py\n",
    "tetons = \"mountains\"\n",
    "acadia = \"forests\"\n",
    "\n",
    "print(tetons)\n",
    "print(acadia)\n",
    "\n",
    "tetons = \"beautiful\"\n",
    "\n",
    "print(tetons)\n",
    "print(tetons + acadia)\n",
    "print(tetons + \" \" + acadia)\n",
    "\n",
    "answer = 42\n",
    "acadia = acadia + \" are peaceful\"\n",
    "print(acadia + str(answer))\n",
    "\n",
    "joshua_tree = str(answer + 7)\n",
    "print(tetons + \" \" + joshua_tree)\n",
    "\n"
   ]
  },
  {
   "cell_type": "markdown",
   "id": "c0e9c8ca",
   "metadata": {
    "slideshow": {
     "slide_type": "subslide"
    }
   },
   "source": [
    "# Step-thru debugging revisited\n",
    "\n",
    "repl.it: [Lecture 2 exercises: Variables](https://replit.com/@cosi-10a-fall23/Variables#main.py)"
   ]
  },
  {
   "cell_type": "markdown",
   "id": "491e7aee",
   "metadata": {
    "slideshow": {
     "slide_type": "subslide"
    }
   },
   "source": [
    "# Variable naming - requirements\n",
    "\n",
    "* Must start with a letter or the underscore character\n",
    "* Cannot start with a number\n",
    "* Can only contain alphanumeric characters and underscores (A-z, 0-9, and _ )\n",
    "  * No spaces! No dashes! \n",
    "* Case-sensitive \n",
    "  * \"banff\", \"Banff\" and \"BANFF\" are three different variables"
   ]
  },
  {
   "cell_type": "markdown",
   "id": "0fb8e10c",
   "metadata": {},
   "source": [
    "| Valid names | <span style=\"color:red\">Invalid names</span> |\n",
    "| --- | --- | \n",
    "| no_hyphens | <span style=\"color:red\">no-hyphens</span> |\n",
    "| foo42 | <span style=\"color:red\">42foo</span> |\n",
    "| \\_bar | <span style=\"color:red\">bar$</span> |\n",
    "| chocolateIsGreat | <span style=\"color:red\">chocolate is great</span> |\n",
    "| no_special_chars | <span style=\"color:red\">'no_special_chars'</span> |\n"
   ]
  },
  {
   "cell_type": "markdown",
   "id": "a138bd98",
   "metadata": {
    "slideshow": {
     "slide_type": "subslide"
    }
   },
   "source": [
    "## Variable naming - suggestions\n",
    "\n",
    "* Variable names should be descriptive, and reflect the data stored in the value\n",
    "  * E.g. `userName` instead of `u` or `data`\n",
    "* There are several common naming conventions for variables. Try to pick one and stick with it within a single program:\n",
    "  * `lower_case_with_underscores`\n",
    "  * `camelCase`\n",
    "  * `UpperCamelCase`\n",
    "  * `alllowercase` (not recommended)\n",
    "  * `ALL_CAPS_WITH_UNDERSCORES` (not recommended)\n"
   ]
  },
  {
   "cell_type": "markdown",
   "id": "42f50421",
   "metadata": {
    "slideshow": {
     "slide_type": "slide"
    }
   },
   "source": [
    "## Code \"style\"\n",
    "\n",
    "* Almost all code is read more often than it is written\n",
    "* Even if the code is only for you - it takes a surprisingly short amount of time to forget exactly how your code works\n",
    "* Using consistent, readable style is a good practice that will save you time and confusion as your programs become more complex.\n",
    "* That said - you won't be graded on style, and you don't need to follow any particular coding style in this class. Your initial goal is to produce working code that you understand.\n",
    "* Side note: Python has an extensive [style guide](https://peps.python.org/pep-0008), but much of it won't make sense or be applicable yet."
   ]
  },
  {
   "cell_type": "markdown",
   "id": "27b1ca6d",
   "metadata": {
    "slideshow": {
     "slide_type": "slide"
    }
   },
   "source": [
    "# A (small) real program"
   ]
  },
  {
   "cell_type": "markdown",
   "id": "b492f9b7",
   "metadata": {
    "slideshow": {
     "slide_type": "fragment"
    }
   },
   "source": [
    "### But first: User input\n",
    "* The `input()` function prompts a user for input\n",
    "* It takes one **argument**: the text to display before waiting for the user to type\n",
    "* [Official documentation](https://docs.python.org/3/library/functions.html#input)\n"
   ]
  },
  {
   "cell_type": "code",
   "execution_count": null,
   "id": "6d8d6b19",
   "metadata": {
    "execution": {
     "iopub.execute_input": "2023-09-04T15:56:24.079863Z",
     "iopub.status.busy": "2023-09-04T15:56:24.079605Z",
     "iopub.status.idle": "2023-09-04T15:56:24.164468Z",
     "shell.execute_reply": "2023-09-04T15:56:24.163777Z"
    },
    "slideshow": {
     "slide_type": "-"
    },
    "tags": [
     "remove-output"
    ]
   },
   "outputs": [],
   "source": [
    "name = input(\"What is your name? \")\n",
    "print(\"Hi \" + name)"
   ]
  },
  {
   "cell_type": "markdown",
   "id": "9399759a",
   "metadata": {
    "slideshow": {
     "slide_type": "subslide"
    }
   },
   "source": [
    "# A (small) real program\n",
    "repl.it: [Lecture 2 exercises: Age Calculator](https://replit.com/@cosi-10a-fall23/Age-calculator#main.py)\n",
    "\n",
    "Add to this program so that it prints some facts about the user's age:\n",
    "\n",
    "* Print out the (approximate) age of the user in years.\n",
    "* Print out how old the user was in some year in the past (e.g. \"You were 10 years old in 2015!\").\n",
    "* Print out the (approximate) age of the user in seconds."
   ]
  },
  {
   "cell_type": "markdown",
   "id": "09f6fe5c",
   "metadata": {
    "slideshow": {
     "slide_type": "subslide"
    }
   },
   "source": [
    "## One possible solution"
   ]
  },
  {
   "cell_type": "code",
   "execution_count": null,
   "id": "16a7007c",
   "metadata": {
    "execution": {
     "iopub.execute_input": "2023-09-04T15:56:24.168341Z",
     "iopub.status.busy": "2023-09-04T15:56:24.168047Z",
     "iopub.status.idle": "2023-09-04T15:56:24.193590Z",
     "shell.execute_reply": "2023-09-04T15:56:24.192884Z"
    },
    "tags": [
     "remove-output"
    ]
   },
   "outputs": [],
   "source": [
    "# %load ../../snippets/age_calculator.py\n",
    "name = input(\"What is your name? \")\n",
    "year = int(input(\"Hi \" + name + \". What year is it now? \"))\n",
    "birth_year = int(input(\"What year were you born? \"))\n",
    "y2k = 1999\n",
    "\n",
    "print()\n",
    "print(\"Here are some age facts, \" + name + \":\")\n",
    "\n",
    "age = year - birth_year\n",
    "print(\"You are ~\" + str(age) + \" years old.\")\n",
    "print(\"You were ~\" + str(y2k - birth_year) + \" years old when Y2K happened.\")\n",
    "\n",
    "seconds_old = age * 365 * 24 * 60 * 60\n",
    "print(\"You are approximately \" + str(seconds_old) + \" seconds old!\")\n"
   ]
  },
  {
   "cell_type": "markdown",
   "id": "3259ee53",
   "metadata": {
    "slideshow": {
     "slide_type": "slide"
    }
   },
   "source": [
    "# [Slido](https://wall.sli.do/event/pzCxCVvKaKKjsaesozsThu?section=87d7c7c2-6fd1-4d65-b78e-8c3aa6553576)"
   ]
  }
 ],
 "metadata": {
  "celltoolbar": "Slideshow",
  "kernelspec": {
   "display_name": "Python 3 (ipykernel)",
   "language": "python",
   "name": "python3"
  },
  "language_info": {
   "codemirror_mode": {
    "name": "ipython",
    "version": 3
   },
   "file_extension": ".py",
   "mimetype": "text/x-python",
   "name": "python",
   "nbconvert_exporter": "python",
   "pygments_lexer": "ipython3",
   "version": "3.10.9"
  }
 },
 "nbformat": 4,
 "nbformat_minor": 5
}
