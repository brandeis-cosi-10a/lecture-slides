{
 "cells": [
  {
   "cell_type": "markdown",
   "id": "1ee8a1d2",
   "metadata": {
    "slideshow": {
     "slide_type": "slide"
    }
   },
   "source": [
    "# Unit Tests\n",
    "\n",
    "<style>\n",
    "section.present > section.present { \n",
    "    max-height: 90%; \n",
    "    overflow-y: scroll;\n",
    "}\n",
    "</style>\n",
    "\n",
    "<small><a href=\"https://colab.research.google.com/github/brandeis-jdelfino/cosi-10a/blob/main/lectures/notebooks/x_unit_tests.ipynb\">Link to interactive slides on Google Colab</a></small>"
   ]
  },
  {
   "cell_type": "markdown",
   "id": "e3865973",
   "metadata": {
    "slideshow": {
     "slide_type": "slide"
    }
   },
   "source": [
    "# (Unit) Testing\n",
    "\n",
    "Testing code is really important. \n",
    "\n",
    "Testing code manually is tedious and error prone. \n",
    "\n",
    "Luckily, you can use code to validate your code! We saw an example of this before, when we tested our random number generator.\n",
    "\n",
    "There are many types of testing that can be used when writing code and building software. \"Unit\" tests are a the smallest, narrowest type of testing - they test small pieces of code (e.g. a single function) in isolation.\n",
    "\n",
    "Other common types of testing (which we won't cover here) are \"integration tests\", \"end-to-end tests\", \"functional tests\", and \"acceptance tests\". "
   ]
  },
  {
   "cell_type": "markdown",
   "id": "d4b3654b",
   "metadata": {
    "slideshow": {
     "slide_type": "subslide"
    }
   },
   "source": [
    "## Unit testing in Python\n",
    "\n",
    "All major programming languages have unit testing \"frameworks\" - proscribed ways to write, run, and automate unit tests. Most major programming languages have more than one framework.\n",
    "\n",
    "Python has a built-in framework called [unittest](https://docs.python.org/3/library/unittest.html).\n",
    "\n",
    "However, there's a nicer, commonly used framework that we'll cover here and use in assignments: [pytest](https://docs.pytest.org/en/7.3.x/)"
   ]
  },
  {
   "cell_type": "markdown",
   "id": "de130263",
   "metadata": {
    "slideshow": {
     "slide_type": "subslide"
    }
   },
   "source": [
    "## Writing tests\n",
    "\n",
    "A unit test typically runs some of your code, and then makes **assertions** about what your code did using the `assert` keyword."
   ]
  },
  {
   "cell_type": "code",
   "execution_count": null,
   "id": "69f3efc3",
   "metadata": {
    "execution": {
     "iopub.execute_input": "2023-08-24T02:56:17.598627Z",
     "iopub.status.busy": "2023-08-24T02:56:17.598289Z",
     "iopub.status.idle": "2023-08-24T02:56:17.891669Z",
     "shell.execute_reply": "2023-08-24T02:56:17.891022Z"
    },
    "tags": [
     "raises-exception"
    ]
   },
   "outputs": [],
   "source": [
    "def add(num1, num2):\n",
    "    return num1 + num2 + 1\n",
    "\n",
    "def test_add():\n",
    "    assert add(1, 1) == 2\n",
    "    \n",
    "test_add()"
   ]
  },
  {
   "cell_type": "markdown",
   "id": "af1fc7d9",
   "metadata": {},
   "source": [
    "## Unit testing best practices\n",
    "\n",
    "You can structure your tests however you want - have multiple assertions, invoke your code multiple times, etc\n",
    "\n",
    "However, the best practice for unit tests is to make each test very focused. If each test tests a single thing, then you can easily see what is wrong when it fails. \n",
    "\n",
    "Conversely, if a single test is testing many things, it can be harder to see what's wrong just from a failure, and one error might mask other errors.\n",
    "\n",
    "Unit tests are very useful for testing **boundary conditions**, or **edge cases**. These are situations where you have valid, but non-typical input - e.g. an empty string, or a negative number, or 0, or an empty list (once we get to lists). It's common for code to fail to handle these cases correctly at first. Adding tests for them will help catch them. Think explicitly about **boundary conditions** when coming up with test cases."
   ]
  },
  {
   "cell_type": "markdown",
   "id": "7fa2936a",
   "metadata": {
    "slideshow": {
     "slide_type": "subslide"
    }
   },
   "source": [
    "## pytest\n",
    "\n",
    "`pytest` is a framework - a collection of tools and conventions - that make writing and running unit tests easy. It is very powerful, and has many features. We'll only cover the basics, but it has [extensive documentation with lots of specific examples](https://docs.pytest.org/en/7.3.x/how-to/index.html#how-to).\n",
    "\n",
    "* To run tests, type `pytest` on the command line (in repl.it: the \"Shell\" tab)\n",
    "* To define a test, create a function whose name starts with `test_` in a file whose name starts with `test_`. \n",
    "  * e.g. `test_add()` could go in a file named `test_math_stuff.py`\n",
    "  * The `pytest` program will \"magically\" find and run any functions that are named like this.\n",
    "* You can add `-v` or `-vv` to the `pytest` command (e.g. `pytest -vv`) to get more verbose output when diagnosing failures.\n",
    "* To run a single test by itself, you can add `-k <test name>`, e.g. `pytest -k test_add`.\n",
    "  * This can be useful when you have multiple failures but want to work on one at a time.\n",
    "  \n"
   ]
  },
  {
   "cell_type": "markdown",
   "id": "df4777b6",
   "metadata": {
    "slideshow": {
     "slide_type": "subslide"
    }
   },
   "source": [
    "## Assertions\n",
    "\n",
    "An **assertion** is something that should be true. If an `assert`'s expression evaluates to `False`, the assert fails, and raises an exception.\n",
    "\n",
    "`pytest` works some magic on asserts. When using `pytest`, an assertion failure will produce a test failure and nice error message, instead of the ugly exception ouput we saw above.\n",
    "\n",
    "Side note: you can also use `asserts` in non-test code to document assumptions your code is making (e.g. `assert`ing that the type of a variable is `int` or that a string is not empty). They should not be used to check for \"expected\" or recoverable errors though - an assertion failure should indicate a bug in the code, rather than something like invalid user input."
   ]
  },
  {
   "cell_type": "markdown",
   "id": "54c86961",
   "metadata": {
    "slideshow": {
     "slide_type": "subslide"
    }
   },
   "source": [
    "Unit testing example on repl.it: [repl.it: pytest examples](https://replit.com/@cosi-10a-fall23/pytest-examples)"
   ]
  },
  {
   "cell_type": "markdown",
   "id": "beae871c",
   "metadata": {
    "slideshow": {
     "slide_type": "subslide"
    }
   },
   "source": [
    "# Unit testing - do it!\n",
    "\n",
    "Writing unit tests might seem tedious or not worth it, especially for an assignment you'll hand in and then never touch again.\n",
    "\n",
    "\"I just need to check this one more time then I'm done, I'll do it by hand.\" - every programmer ever\n",
    "\n",
    "They are almost always worth it. You **always** end up needing to run the tests more than you think, and writing tests as you go will leave you with confidence that your changes haven't broken seemingly unrelated parts of your code. It is an investment that will pay off. Explicitly thinking about which test cases to write will also help you catch edge cases that your code might not handle properly.\n",
    "\n",
    "Some people even write their tests **before** their code - this is called Test Driven Development. Documenting the expected behavior of your function with tests before you implement it can make it easier and faster to write correct code. (I personally don't prefer this style, but many swear by it, try it before you dismiss it!)"
   ]
  },
  {
   "cell_type": "markdown",
   "id": "ae76217e",
   "metadata": {
    "slideshow": {
     "slide_type": "subslide"
    }
   },
   "source": [
    "# Unit testing and coding assignments\n",
    "\n",
    "Most assignments from now on will use `pytest` for automated testing. Any failing tests will mean you won't pass at least one skill for the assignment, so be sure to run them just before submission.\n",
    "\n",
    "Please don't modify provided test cases. But feel free to add your own - in many cases the provided tests are not exhaustive, so a clean test run does not automatically mean your code is perfect!"
   ]
  }
 ],
 "metadata": {
  "celltoolbar": "Slideshow",
  "kernelspec": {
   "display_name": "Python 3 (ipykernel)",
   "language": "python",
   "name": "python3"
  },
  "language_info": {
   "codemirror_mode": {
    "name": "ipython",
    "version": 3
   },
   "file_extension": ".py",
   "mimetype": "text/x-python",
   "name": "python",
   "nbconvert_exporter": "python",
   "pygments_lexer": "ipython3",
   "version": "3.10.9"
  }
 },
 "nbformat": 4,
 "nbformat_minor": 5
}
