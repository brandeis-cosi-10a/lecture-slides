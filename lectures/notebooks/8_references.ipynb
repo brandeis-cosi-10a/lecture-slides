{
 "cells": [
  {
   "cell_type": "markdown",
   "id": "50b20b2a",
   "metadata": {
    "slideshow": {
     "slide_type": "slide"
    }
   },
   "source": [
    "# References\n",
    "\n",
    "<style>\n",
    "section.present > section.present { \n",
    "    max-height: 90%; \n",
    "    overflow-y: scroll;\n",
    "}\n",
    "</style>\n",
    "\n",
    "<small><a href=\"https://colab.research.google.com/github/brandeis-jdelfino/cosi-10a/blob/main/lectures/notebooks/8_references.ipynb\">Link to interactive slides on Google Colab</a></small>"
   ]
  },
  {
   "cell_type": "markdown",
   "id": "2c58e0a7",
   "metadata": {
    "slideshow": {
     "slide_type": "slide"
    }
   },
   "source": [
    "# Announcements\n",
    "\n",
    "* PS2 grading has started. \n",
    "   * You will see feedback on individual problems in repl.it as we grade. \n",
    "   * Final grades will be entered into LATTE when grading is complete\n",
    "* PS3 has been posted.\n",
    "   * 4 problems, this time you must do all 4.\n",
    "   * Do not expect an extension for any reason if you wait until next week to start.\n",
    "* No quiz tomorrow\n",
    "   * Recitation is still your best place to get practice and help, please attend. It's a great time to start on the problem set and get help (see previous point).\n",
    "* Thursday is Brandeis Monday, no lecture\n",
    "   * Monday office hours schedule will apply"
   ]
  },
  {
   "cell_type": "markdown",
   "id": "c274dde3",
   "metadata": {
    "slideshow": {
     "slide_type": "notes"
    }
   },
   "source": [
    "To add: exercises/examples"
   ]
  },
  {
   "cell_type": "markdown",
   "id": "1f3fb4c2",
   "metadata": {
    "slideshow": {
     "slide_type": "slide"
    }
   },
   "source": [
    "# Scope and arguments review\n",
    "\n",
    "What does this print?"
   ]
  },
  {
   "cell_type": "code",
   "execution_count": null,
   "id": "70475620",
   "metadata": {
    "execution": {
     "iopub.execute_input": "2023-10-08T02:57:53.288402Z",
     "iopub.status.busy": "2023-10-08T02:57:53.287315Z",
     "iopub.status.idle": "2023-10-08T02:57:53.303412Z",
     "shell.execute_reply": "2023-10-08T02:57:53.301926Z"
    }
   },
   "outputs": [],
   "source": [
    "def add_one(num):\n",
    "    num = num + 1\n",
    "    print(f\"inside add_one: {num=}\")\n",
    "    \n",
    "x = 5\n",
    "add_one(x)\n",
    "add_one(x)\n",
    "print(x)"
   ]
  },
  {
   "cell_type": "markdown",
   "id": "17212438",
   "metadata": {
    "slideshow": {
     "slide_type": "subslide"
    }
   },
   "source": [
    "# Scope and arguments review\n",
    "\n",
    "What does this print?"
   ]
  },
  {
   "cell_type": "code",
   "execution_count": null,
   "id": "f2400b36",
   "metadata": {
    "execution": {
     "iopub.execute_input": "2023-10-08T02:57:53.308925Z",
     "iopub.status.busy": "2023-10-08T02:57:53.308408Z",
     "iopub.status.idle": "2023-10-08T02:57:53.318375Z",
     "shell.execute_reply": "2023-10-08T02:57:53.316714Z"
    }
   },
   "outputs": [],
   "source": [
    "def add_one(x):\n",
    "    x = x + 1\n",
    "    print(f\"inside add_one: {x=}\")\n",
    "    \n",
    "x = 5\n",
    "add_one(x)\n",
    "add_one(x)\n",
    "print(x)"
   ]
  },
  {
   "cell_type": "markdown",
   "id": "6fc09412",
   "metadata": {
    "slideshow": {
     "slide_type": "fragment"
    }
   },
   "source": [
    "`x` in the global scope is not the same as `x` in `add_one`."
   ]
  },
  {
   "cell_type": "markdown",
   "id": "e5dce769",
   "metadata": {
    "slideshow": {
     "slide_type": "subslide"
    }
   },
   "source": [
    "# Python Tutor\n",
    "\n",
    "We're going to use a new, very useful tool to help us visualize variables, scope, and references (today's topic): [Python Tutor](http://pythontutor.com)\n",
    "\n",
    "Let's look at the last 2 examples in Python Tutor:\n",
    "\n",
    "[First example](https://pythontutor.com/render.html#code=def%20add_one%28num%29%3A%0A%20%20%20%20num%20%3D%20num%20%2B%201%0A%20%20%20%20%0Ax%20%3D%205%0Aadd_one%28x%29%0Aadd_one%28x%29%0Aprint%28x%29&cumulative=false&curInstr=0&heapPrimitives=nevernest&mode=display&origin=opt-frontend.js&py=311&rawInputLstJSON=%5B%5D&textReferences=false)\n",
    "\n",
    "[Second example](https://pythontutor.com/render.html#code=def%20add_one%28x%29%3A%0A%20%20%20%20x%20%3D%20x%20%2B%201%0A%20%20%20%20%0Ax%20%3D%205%0Aadd_one%28x%29%0Aadd_one%28x%29%0Aprint%28x%29&cumulative=false&curInstr=0&heapPrimitives=nevernest&mode=display&origin=opt-frontend.js&py=311&rawInputLstJSON=%5B%5D&textReferences=false)\n"
   ]
  },
  {
   "cell_type": "markdown",
   "id": "f75b31aa",
   "metadata": {
    "slideshow": {
     "slide_type": "slide"
    }
   },
   "source": [
    "# References\n",
    "\n",
    "Confession time: I lied to you in lecture 2 when I explained that a variable was like a \"box\" which you can store a value in.\n",
    "\n",
    "In Python, a variable is actually a **reference to** a value."
   ]
  },
  {
   "cell_type": "markdown",
   "id": "16d8452b",
   "metadata": {
    "slideshow": {
     "slide_type": "subslide"
    }
   },
   "source": [
    "Think of the computer's memory like a big warehouse, with millions of numbered boxes in it.\n",
    "\n",
    "When you create a variable with a value:\n",
    "1. The computer picks an empty numbered box, and puts the value into it.\n",
    "2. It writes the number of the box down on a piece of paper.\n",
    "3. It hands that piece of paper to your variable\n",
    "4. The variable uses that number to find its value when needed.\n",
    "\n",
    "The piece of paper is a **reference** to a value. The box contains the actual value."
   ]
  },
  {
   "cell_type": "markdown",
   "id": "58443d64",
   "metadata": {
    "slideshow": {
     "slide_type": "subslide"
    }
   },
   "source": [
    "Let's look at one of those `add_num` examples one more time, except this time we'll have Python Tutor show the references:\n",
    "\n",
    "[First example](https://pythontutor.com/render.html#code=def%20add_one%28num%29%3A%0A%20%20%20%20num%20%3D%20num%20%2B%201%0A%20%20%20%20%0Ax%20%3D%205%0Aadd_one%28x%29%0Aadd_one%28x%29%0Aprint%28x%29&cumulative=false&curInstr=0&heapPrimitives=true&mode=display&origin=opt-frontend.js&py=311&rawInputLstJSON=%5B%5D&textReferences=false)"
   ]
  },
  {
   "cell_type": "markdown",
   "id": "d89ab9e8",
   "metadata": {
    "slideshow": {
     "slide_type": "subslide"
    }
   },
   "source": [
    "All variables in Python are references. (This is not true in all programming languages).\n",
    "\n",
    "* When a variable is assigned to (`=`), it is changed to refer to a different value. \n",
    "  * i.e. it \"gets a new piece of paper with a new number on it\".\n",
    "* Assignment does **not** change the original value itself. \n",
    "  * i.e. it does not \"change the value in the original box\".\n",
    "* In some cases, multiple variables can **reference** the same value\n",
    "  * i.e. their pieces of paper will have the same number written on them."
   ]
  },
  {
   "cell_type": "markdown",
   "id": "c1c12e65",
   "metadata": {
    "slideshow": {
     "slide_type": "subslide"
    }
   },
   "source": [
    "# Another way to think about this\n",
    "\n",
    "If the relationship between \"variables\" and \"references\" is confusing, instead you can try thinking about \"names\" and \"objects\".\n",
    "\n",
    "Assignment (`=`) associates a name with an object. \n",
    "\n",
    "Passing an argument into a function just associates the function's parameter name to the object passed into the function.\n",
    "\n",
    "One object might have multiple names at a time.\n",
    "\n",
    "When you assign (`=`), you don't copy the object, you just associate a new name with the object."
   ]
  },
  {
   "cell_type": "markdown",
   "id": "206d97bd",
   "metadata": {
    "slideshow": {
     "slide_type": "slide"
    }
   },
   "source": [
    "# This is confusing, why do we care?\n",
    "\n",
    "Consider these two code snippets:"
   ]
  },
  {
   "cell_type": "code",
   "execution_count": null,
   "id": "f593da98",
   "metadata": {
    "execution": {
     "iopub.execute_input": "2023-10-08T02:57:53.325602Z",
     "iopub.status.busy": "2023-10-08T02:57:53.325096Z",
     "iopub.status.idle": "2023-10-08T02:57:53.330813Z",
     "shell.execute_reply": "2023-10-08T02:57:53.329775Z"
    }
   },
   "outputs": [],
   "source": [
    "a = 1\n",
    "b = a\n",
    "a = a + 1\n",
    "print(f\"{a=} {b=}\")"
   ]
  },
  {
   "cell_type": "code",
   "execution_count": null,
   "id": "a319d9b6",
   "metadata": {
    "execution": {
     "iopub.execute_input": "2023-10-08T02:57:53.337504Z",
     "iopub.status.busy": "2023-10-08T02:57:53.336262Z",
     "iopub.status.idle": "2023-10-08T02:57:53.343119Z",
     "shell.execute_reply": "2023-10-08T02:57:53.342175Z"
    }
   },
   "outputs": [],
   "source": [
    "a = [1, 2, 3]\n",
    "b = a\n",
    "a[0] = 4\n",
    "print(f\"{a=} {b=}\")"
   ]
  },
  {
   "cell_type": "markdown",
   "id": "916e4713",
   "metadata": {
    "slideshow": {
     "slide_type": "subslide"
    }
   },
   "source": [
    "Another surprising example:"
   ]
  },
  {
   "cell_type": "code",
   "execution_count": null,
   "id": "486f8646",
   "metadata": {
    "execution": {
     "iopub.execute_input": "2023-10-08T02:57:53.349433Z",
     "iopub.status.busy": "2023-10-08T02:57:53.348535Z",
     "iopub.status.idle": "2023-10-08T02:57:53.358411Z",
     "shell.execute_reply": "2023-10-08T02:57:53.355984Z"
    }
   },
   "outputs": [],
   "source": [
    "def add_one(num):\n",
    "    num = num + 1\n",
    "    print(f\"inside add_one: {num=}\")\n",
    "\n",
    "a = 1\n",
    "add_one(a)\n",
    "print(f\"global scope {a=}\")"
   ]
  },
  {
   "cell_type": "code",
   "execution_count": null,
   "id": "eb78fbfe",
   "metadata": {
    "execution": {
     "iopub.execute_input": "2023-10-08T02:57:53.363814Z",
     "iopub.status.busy": "2023-10-08T02:57:53.363300Z",
     "iopub.status.idle": "2023-10-08T02:57:53.372015Z",
     "shell.execute_reply": "2023-10-08T02:57:53.370663Z"
    }
   },
   "outputs": [],
   "source": [
    "def add_one(nums):\n",
    "    nums[0] = nums[0] + 1\n",
    "    print(f\"inside add_one: {nums=}\")\n",
    "\n",
    "a = [1]\n",
    "add_one(a)\n",
    "print(f\"global scope {a=}\")"
   ]
  },
  {
   "cell_type": "markdown",
   "id": "76fafa05",
   "metadata": {
    "slideshow": {
     "slide_type": "subslide"
    }
   },
   "source": [
    "Understanding references is key to understanding **why** this code behaves the way it does. \n",
    "\n",
    "This behavior is a **very** common source of confusion."
   ]
  },
  {
   "cell_type": "markdown",
   "id": "9ed164e2",
   "metadata": {
    "slideshow": {
     "slide_type": "slide"
    }
   },
   "source": [
    "# Side note: Mutable vs. Immutable\n",
    "\n",
    "All types in Python can be classified as **mutable** or **immutable**.\n",
    "\n",
    "* The value of **mutable** types can change.\n",
    "* The value of **immutable** types can never change.\n",
    "\n",
    "This may seems surprising, but most of the data types we've looked at so far are **immutable**.\n",
    "\n",
    "* immutable: `int`, `float`, `bool`, `str`, `tuple`\n",
    "* mutable: `list`"
   ]
  },
  {
   "cell_type": "markdown",
   "id": "d339b554",
   "metadata": {
    "slideshow": {
     "slide_type": "subslide"
    }
   },
   "source": [
    "Let's walk through a few examples and talk in detail about what is happening to references vs. values on each line."
   ]
  },
  {
   "cell_type": "code",
   "execution_count": null,
   "id": "f8c40507",
   "metadata": {
    "execution": {
     "iopub.execute_input": "2023-10-08T02:57:53.377992Z",
     "iopub.status.busy": "2023-10-08T02:57:53.377379Z",
     "iopub.status.idle": "2023-10-08T02:57:53.384402Z",
     "shell.execute_reply": "2023-10-08T02:57:53.382266Z"
    },
    "slideshow": {
     "slide_type": "subslide"
    }
   },
   "outputs": [],
   "source": [
    "a = 1\n",
    "b = 1\n",
    "a = 2"
   ]
  },
  {
   "cell_type": "markdown",
   "id": "30d14d29",
   "metadata": {},
   "source": [
    "On line 1, we set `a` to refer to value `1`.\n",
    "\n",
    "On line 2, we set `b` to refer to value `1`.\n",
    "\n",
    "On line 3, we update `a` to refer to value `2` instead of referencing value `1`.\n",
    "\n",
    "We **didn't** change the value `1` to `2`. We changed `a` to refer to a different value. `ints` are immutable, we can't change them.\n",
    "\n",
    "[Python Tutor link](https://pythontutor.com/render.html#code=a%20%3D%201%0Ab%20%3D%201%0Aa%20%3D%202&cumulative=false&curInstr=0&heapPrimitives=true&mode=display&origin=opt-frontend.js&py=311&rawInputLstJSON=%5B%5D&textReferences=false)"
   ]
  },
  {
   "cell_type": "code",
   "execution_count": null,
   "id": "608b58da",
   "metadata": {
    "execution": {
     "iopub.execute_input": "2023-10-08T02:57:53.390075Z",
     "iopub.status.busy": "2023-10-08T02:57:53.389645Z",
     "iopub.status.idle": "2023-10-08T02:57:53.396559Z",
     "shell.execute_reply": "2023-10-08T02:57:53.395110Z"
    },
    "slideshow": {
     "slide_type": "subslide"
    }
   },
   "outputs": [],
   "source": [
    "a = 1\n",
    "b = a\n",
    "a = a + 1\n",
    "print(f\"{a=} {b=}\")"
   ]
  },
  {
   "cell_type": "markdown",
   "id": "ed003d54",
   "metadata": {},
   "source": [
    "On line 1, we set `a` to refer to value `1`.\n",
    "\n",
    "On line 2, we set `b` to refer to the same value as `a`: `1`.\n",
    "\n",
    "`b` does **not** refer to `a`. It refers to the value `1`.\n",
    "\n",
    "On line 3, we change `a` to refer to the value `2`. \n",
    "\n",
    "We didn't update the value `1`, we only updated `a`'s reference. `b` still refers to the value `1`.\n",
    "\n",
    "[Python Tutor link](https://pythontutor.com/render.html#code=a%20%3D%201%0Ab%20%3D%20a%0Aa%20%3D%20a%20%2B%201%0Aprint%28f%22%7Ba%3D%7D%20%7Bb%3D%7D%22%29&cumulative=false&curInstr=0&heapPrimitives=true&mode=display&origin=opt-frontend.js&py=311&rawInputLstJSON=%5B%5D&textReferences=false)"
   ]
  },
  {
   "cell_type": "code",
   "execution_count": null,
   "id": "f1275450",
   "metadata": {
    "execution": {
     "iopub.execute_input": "2023-10-08T02:57:53.404679Z",
     "iopub.status.busy": "2023-10-08T02:57:53.404046Z",
     "iopub.status.idle": "2023-10-08T02:57:53.410339Z",
     "shell.execute_reply": "2023-10-08T02:57:53.408950Z"
    },
    "slideshow": {
     "slide_type": "subslide"
    }
   },
   "outputs": [],
   "source": [
    "a = 1\n",
    "b = a\n",
    "a = a + 1\n",
    "print(f\"{a=} {b=}\")"
   ]
  },
  {
   "cell_type": "markdown",
   "id": "81e5e6f4",
   "metadata": {},
   "source": [
    "## Or, another way: \n",
    "\n",
    "On line 1, `a` is set as a name for `1`.\n",
    "\n",
    "On line 2, `b` is set as a name for `1`.\n",
    "\n",
    "`a` and `b` are both names for `1`, but otherwise they aren't connected.\n",
    "\n",
    "On line 3, we change `a` to be a name for `2`. It is no longer a name for `1`.\n",
    "\n",
    "We didn't change the value `1`, we only removed `a` as a name for `1` and added it as a name for `2`. `b` continued to be a name for `1`."
   ]
  },
  {
   "cell_type": "code",
   "execution_count": null,
   "id": "b10c6a69",
   "metadata": {
    "execution": {
     "iopub.execute_input": "2023-10-08T02:57:53.418128Z",
     "iopub.status.busy": "2023-10-08T02:57:53.417630Z",
     "iopub.status.idle": "2023-10-08T02:57:53.423586Z",
     "shell.execute_reply": "2023-10-08T02:57:53.422576Z"
    },
    "slideshow": {
     "slide_type": "subslide"
    }
   },
   "outputs": [],
   "source": [
    "a = [1, 2, 3]\n",
    "b = a\n",
    "a[0] = 4\n",
    "print(f\"{a=} {b=}\")"
   ]
  },
  {
   "cell_type": "markdown",
   "id": "4d4e0de3",
   "metadata": {},
   "source": [
    "Lists **appear to** behave differently. Lists are **mutable**. We can change the value of a list.\n",
    "\n",
    "On line 1, `a` refers to a list `[1,2,3]`\n",
    "\n",
    "On line 2, we set `b` to refer to the same list which `a` refers to.\n",
    "\n",
    "On line 3, we modify the list itself! We're changing a value by assigning to an index in the list, we're not changing `a`'s reference.\n",
    "\n",
    "Since `a` and `b` refer to the same list value, and we modified that list value, both `a` and `b` will reflect the change made to the list.\n",
    "\n",
    "[Python Tutor link](https://pythontutor.com/visualize.html#code=a%20%3D%20%5B1,%202,%203%5D%0Ab%20%3D%20a%0Aa%5B0%5D%20%3D%204%0A&cumulative=false&curInstr=0&heapPrimitives=true&mode=display&origin=opt-frontend.js&py=3&rawInputLstJSON=%5B%5D&textReferences=false)\n",
    "\n"
   ]
  },
  {
   "cell_type": "code",
   "execution_count": null,
   "id": "beb1ae7c",
   "metadata": {
    "execution": {
     "iopub.execute_input": "2023-10-08T02:57:53.430005Z",
     "iopub.status.busy": "2023-10-08T02:57:53.429367Z",
     "iopub.status.idle": "2023-10-08T02:57:53.443606Z",
     "shell.execute_reply": "2023-10-08T02:57:53.437579Z"
    },
    "slideshow": {
     "slide_type": "subslide"
    }
   },
   "outputs": [],
   "source": [
    "a = [1, 2, 3]\n",
    "b = a\n",
    "a[0] = 4\n",
    "print(f\"{a=} {b=}\")"
   ]
  },
  {
   "cell_type": "markdown",
   "id": "af18bb8b",
   "metadata": {},
   "source": [
    "## Or, another way:\n",
    "\n",
    "On line 1, we create an object: a list `[1,2,3]`. We set `a` as a name for this list.\n",
    "\n",
    "On line 2, `b` is also set as a name for the same list.\n",
    "\n",
    "On line 3, we modify the list itself! We're changing the object by assigning to one of the indices. We're not changing the name `a`.\n",
    "\n",
    "Since `a` and `b` are 2 names for the same list, and we modified that list object, both names `a` and `b` will reflect the change made to the list."
   ]
  },
  {
   "cell_type": "code",
   "execution_count": null,
   "id": "1d9b57e5",
   "metadata": {
    "execution": {
     "iopub.execute_input": "2023-10-08T02:57:53.455602Z",
     "iopub.status.busy": "2023-10-08T02:57:53.454800Z",
     "iopub.status.idle": "2023-10-08T02:57:53.466795Z",
     "shell.execute_reply": "2023-10-08T02:57:53.462801Z"
    },
    "slideshow": {
     "slide_type": "subslide"
    }
   },
   "outputs": [],
   "source": [
    "a = [1, 2, 3]\n",
    "b = a\n",
    "a = [4, 5, 6]\n",
    "a[0] = 9\n",
    "print(f\"{a=} {b=}\")"
   ]
  },
  {
   "cell_type": "markdown",
   "id": "aa763a29",
   "metadata": {},
   "source": [
    "This example highlights the difference between changing a variable's reference, and mutating the value it refers to.\n",
    "\n",
    "On line 1, `a` refers to a list `[1,2,3]`\n",
    "\n",
    "On line 2, we set `b` to refer to the same list which `a` refers to.\n",
    "\n",
    "On line 3, we change `a` to refer to a new list `[4,5,6]` by assigning to `a`. We have not modified the original list value that `a` referred to. `a` and `b` now refer to different lists.\n",
    "\n",
    "On line 4, we modify the list value that `a` refers to. `b`'s list is unchanged.\n",
    "\n",
    "[Python tutor link](https://pythontutor.com/visualize.html#code=a%20%3D%20%5B1,%202,%203%5D%0Ab%20%3D%20a%0Aa%20%3D%20%5B4,%205,%206%5D%0Aa%5B0%5D%20%3D%209&cumulative=false&curInstr=0&heapPrimitives=true&mode=display&origin=opt-frontend.js&py=3&rawInputLstJSON=%5B%5D&textReferences=false)"
   ]
  },
  {
   "cell_type": "code",
   "execution_count": null,
   "id": "078c1b2b",
   "metadata": {
    "execution": {
     "iopub.execute_input": "2023-10-08T02:57:53.477195Z",
     "iopub.status.busy": "2023-10-08T02:57:53.476567Z",
     "iopub.status.idle": "2023-10-08T02:57:53.485666Z",
     "shell.execute_reply": "2023-10-08T02:57:53.483293Z"
    },
    "slideshow": {
     "slide_type": "subslide"
    }
   },
   "outputs": [],
   "source": [
    "a = [1, 2, 3]\n",
    "b = a\n",
    "a = [4, 5, 6]\n",
    "a[0] = 9\n",
    "print(f\"{a=} {b=}\")"
   ]
  },
  {
   "cell_type": "markdown",
   "id": "a005b7c5",
   "metadata": {},
   "source": [
    "## Or, another way:\n",
    "\n",
    "On line 1, we create an object: a list `[1,2,3]`. We set `a` as a name for this list.\n",
    "\n",
    "On line 2, `b` is set as a name for the same list.\n",
    "\n",
    "On line 3, we create a new object: a list `[4, 5, 6]`. We set `a` as a name for this list. As a result, `a` is no longer a name for the first list, `[1,2,3]`. `a` and `b` are now names for different list objects.\n",
    "\n",
    "On line 4, we modify the new list object, which `a` is a name for. The list which `b` is a name for is unchanged."
   ]
  },
  {
   "cell_type": "markdown",
   "id": "9ebdf1ec",
   "metadata": {
    "slideshow": {
     "slide_type": "subslide"
    }
   },
   "source": [
    "\n",
    "When arguments are passed to functions, the references (not the values!) are copied."
   ]
  },
  {
   "cell_type": "code",
   "execution_count": null,
   "id": "160611b8",
   "metadata": {
    "execution": {
     "iopub.execute_input": "2023-10-08T02:57:53.493262Z",
     "iopub.status.busy": "2023-10-08T02:57:53.492206Z",
     "iopub.status.idle": "2023-10-08T02:57:53.506420Z",
     "shell.execute_reply": "2023-10-08T02:57:53.503712Z"
    }
   },
   "outputs": [],
   "source": [
    "def add_one(num):\n",
    "    num = num + 1    \n",
    "    print(f\"inside add_one: {num=}\")\n",
    "\n",
    "a = 1\n",
    "add_one(a)\n",
    "print(f\"global scope {a=}\")"
   ]
  },
  {
   "cell_type": "markdown",
   "id": "b8b235cf",
   "metadata": {},
   "source": [
    "When the code reaches line 2, `a` is a reference to value `1`, and `num` is also a reference to the value `1`.\n",
    "\n",
    "Other than referring to the same value, `a` and `num` are not connected.\n",
    "\n",
    "After line 2 executes, `num` is updated to refer to value `2`, and `a`s reference remains unchanged.\n",
    "\n",
    "[Python tutor link](https://pythontutor.com/visualize.html#code=def%20add_one%28num%29%3A%0A%20%20%20%20num%20%3D%20num%20%2B%201%0A%20%20%20%20print%28%22inside%20add_one%3A%20%22%20%2B%20str%28num%29%29%0A%0Aa%20%3D%201%0Aadd_one%28a%29%0Aprint%28f%22global%20scope%3A%20%22%20%2B%20str%28a%29%29&cumulative=false&curInstr=0&heapPrimitives=true&mode=display&origin=opt-frontend.js&py=3&rawInputLstJSON=%5B%5D&textReferences=false)\n"
   ]
  },
  {
   "cell_type": "code",
   "execution_count": null,
   "id": "00202327",
   "metadata": {
    "execution": {
     "iopub.execute_input": "2023-10-08T02:57:53.514184Z",
     "iopub.status.busy": "2023-10-08T02:57:53.513336Z",
     "iopub.status.idle": "2023-10-08T02:57:53.521057Z",
     "shell.execute_reply": "2023-10-08T02:57:53.520088Z"
    },
    "slideshow": {
     "slide_type": "subslide"
    }
   },
   "outputs": [],
   "source": [
    "def add_one(num):\n",
    "    num = num + 1    \n",
    "    print(f\"inside add_one: {num=}\")\n",
    "\n",
    "a = 1\n",
    "add_one(a)\n",
    "print(f\"global scope {a=}\")"
   ]
  },
  {
   "cell_type": "markdown",
   "id": "8e2c4fff",
   "metadata": {},
   "source": [
    "## Or, another way:\n",
    "\n",
    "When the code reaches line 2, `a` is a name for `1`. `num` is also a name for `1`.\n",
    "\n",
    "Other than being names for the same object, `a` and `num` are not connected.\n",
    "\n",
    "After line 2 executes, `num` becomes a name for `2`. `a` continues to be a name for `1`."
   ]
  },
  {
   "cell_type": "markdown",
   "id": "47271e4c",
   "metadata": {
    "slideshow": {
     "slide_type": "subslide"
    }
   },
   "source": [
    "If a **value** is modified inside a function, references from outside the function will see the change."
   ]
  },
  {
   "cell_type": "code",
   "execution_count": null,
   "id": "1bf47cd9",
   "metadata": {
    "execution": {
     "iopub.execute_input": "2023-10-08T02:57:53.527757Z",
     "iopub.status.busy": "2023-10-08T02:57:53.527401Z",
     "iopub.status.idle": "2023-10-08T02:57:53.536653Z",
     "shell.execute_reply": "2023-10-08T02:57:53.534396Z"
    }
   },
   "outputs": [],
   "source": [
    "def add_one(nums):\n",
    "    nums[0] = nums[0] + 1\n",
    "    print(f\"inside add_one: {nums=}\")\n",
    "\n",
    "a = [1]\n",
    "add_one(a)\n",
    "print(f\"global scope {a=}\")"
   ]
  },
  {
   "cell_type": "markdown",
   "id": "681545e6",
   "metadata": {},
   "source": [
    "When the code reaches line 2, both `a` and `nums` refer to the same list `[0]`.\n",
    "\n",
    "After line 2 executes, the list value has changed. Because `a` and `nums` both refer to it, they both see the change.\n",
    "\n",
    "[Python tutor link](https://pythontutor.com/visualize.html#code=def%20add_one%28nums%29%3A%0A%20%20%20%20nums%5B0%5D%20%3D%20nums%5B0%5D%20%2B%201%0A%20%20%20%20print%28%22inside%20add_one%3A%20%22%20%2B%20str%28nums%29%29%0A%0Aa%20%3D%20%5B1%5D%0Aadd_one%28a%29%0Aprint%28f%22global%20scope%3A%20%22%20%2B%20str%28a%29%29&cumulative=false&curInstr=0&heapPrimitives=true&mode=display&origin=opt-frontend.js&py=3&rawInputLstJSON=%5B%5D&textReferences=false)\n"
   ]
  },
  {
   "cell_type": "code",
   "execution_count": null,
   "id": "908ef083",
   "metadata": {
    "execution": {
     "iopub.execute_input": "2023-10-08T02:57:53.543441Z",
     "iopub.status.busy": "2023-10-08T02:57:53.542992Z",
     "iopub.status.idle": "2023-10-08T02:57:53.551855Z",
     "shell.execute_reply": "2023-10-08T02:57:53.550166Z"
    },
    "slideshow": {
     "slide_type": "subslide"
    }
   },
   "outputs": [],
   "source": [
    "def add_one(nums):\n",
    "    nums[0] = nums[0] + 1\n",
    "    print(f\"inside add_one: {nums=}\")\n",
    "\n",
    "a = [1]\n",
    "add_one(a)\n",
    "print(f\"global scope {a=}\")"
   ]
  },
  {
   "cell_type": "markdown",
   "id": "078e4dc1",
   "metadata": {},
   "source": [
    "## Or, another way:\n",
    "\n",
    "When the code reaches line 2, both `a` and `nums` are names for the same object - the list `[0]`.\n",
    "\n",
    "After line 2 executes, the list value has changed. Because `a` and `nums` are both names for it, they both see the change."
   ]
  },
  {
   "cell_type": "markdown",
   "id": "4902b356",
   "metadata": {
    "slideshow": {
     "slide_type": "slide"
    }
   },
   "source": [
    "# copy\n",
    "\n",
    "Sometimes you want to make changes to a value, but keep those changes from being seen by any other reference to that value. In these cases, you can copy the value before modifying it.\n",
    "\n",
    "Python provides some tools in the `copy` [module](https://docs.python.org/3/library/copy.html).\n",
    "\n",
    "* `copy.copy()` will do a **shallow** copy - copy the outer value only\n",
    "* `copy.deepcopy()` will do a **deep** copy - copy all nested values. This only comes into play when you have things like nested lists.\n"
   ]
  },
  {
   "cell_type": "code",
   "execution_count": null,
   "id": "669cb639",
   "metadata": {
    "execution": {
     "iopub.execute_input": "2023-10-08T02:57:53.556933Z",
     "iopub.status.busy": "2023-10-08T02:57:53.556332Z",
     "iopub.status.idle": "2023-10-08T02:57:53.563058Z",
     "shell.execute_reply": "2023-10-08T02:57:53.562085Z"
    }
   },
   "outputs": [],
   "source": [
    "import copy\n",
    "a = [1,2,3]\n",
    "b = copy.copy(a)\n",
    "b[0] = 9\n",
    "print(f\"{a=} {b=}\")"
   ]
  },
  {
   "cell_type": "markdown",
   "id": "b9777460",
   "metadata": {
    "slideshow": {
     "slide_type": "-"
    }
   },
   "source": [
    "[Python Tutor link](https://pythontutor.com/render.html#code=import%20copy%0Aa%20%3D%20%5B1,2,3%5D%0Ab%20%3D%20copy.copy%28a%29%0Ab%5B0%5D%20%3D%209%0Aprint%28f%22%7Ba%3D%7D%20%7Bb%3D%7D%22%29&cumulative=false&curInstr=0&heapPrimitives=true&mode=display&origin=opt-frontend.js&py=311&rawInputLstJSON=%5B%5D&textReferences=false)"
   ]
  },
  {
   "cell_type": "markdown",
   "id": "b8a8adad",
   "metadata": {
    "slideshow": {
     "slide_type": "subslide"
    }
   },
   "source": [
    "This is most often useful in functions, where you don't want the function to mess with the caller's values."
   ]
  },
  {
   "cell_type": "code",
   "execution_count": null,
   "id": "8072fa7b",
   "metadata": {
    "execution": {
     "iopub.execute_input": "2023-10-08T02:57:53.570453Z",
     "iopub.status.busy": "2023-10-08T02:57:53.570058Z",
     "iopub.status.idle": "2023-10-08T02:57:53.579261Z",
     "shell.execute_reply": "2023-10-08T02:57:53.577482Z"
    },
    "slideshow": {
     "slide_type": "-"
    }
   },
   "outputs": [],
   "source": [
    "def add_one(nums):\n",
    "    newlist = copy.copy(nums)\n",
    "    for i in range(len(newlist)):\n",
    "        newlist[i] = newlist[i] + 1\n",
    "    return newlist\n",
    "\n",
    "a = [1,2,3]\n",
    "b = add_one(a)\n",
    "print(f\"{a=} {b=}\")"
   ]
  },
  {
   "cell_type": "markdown",
   "id": "64411e34",
   "metadata": {},
   "source": [
    "[Python Tutor link](https://pythontutor.com/render.html#code=import%20copy%0Adef%20add_one%28nums%29%3A%0A%20%20%20%20newlist%20%3D%20copy.copy%28nums%29%0A%20%20%20%20for%20i%20in%20range%28len%28newlist%29%29%3A%0A%20%20%20%20%20%20%20%20newlist%5Bi%5D%20%3D%20newlist%5Bi%5D%20%2B%201%0A%20%20%20%20return%20newlist%0A%0Aa%20%3D%20%5B1,2,3%5D%0Ab%20%3D%20add_one%28a%29%0Aprint%28f%22%7Ba%3D%7D%20%7Bb%3D%7D%22%29&cumulative=false&curInstr=0&heapPrimitives=true&mode=display&origin=opt-frontend.js&py=311&rawInputLstJSON=%5B%5D&textReferences=false)"
   ]
  }
 ],
 "metadata": {
  "celltoolbar": "Slideshow",
  "kernelspec": {
   "display_name": "Python 3 (ipykernel)",
   "language": "python",
   "name": "python3"
  },
  "language_info": {
   "codemirror_mode": {
    "name": "ipython",
    "version": 3
   },
   "file_extension": ".py",
   "mimetype": "text/x-python",
   "name": "python",
   "nbconvert_exporter": "python",
   "pygments_lexer": "ipython3",
   "version": "3.10.9"
  }
 },
 "nbformat": 4,
 "nbformat_minor": 5
}
