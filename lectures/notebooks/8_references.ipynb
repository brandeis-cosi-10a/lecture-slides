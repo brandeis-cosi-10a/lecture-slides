{
 "cells": [
  {
   "cell_type": "markdown",
   "id": "50b20b2a",
   "metadata": {
    "slideshow": {
     "slide_type": "slide"
    }
   },
   "source": [
    "# References\n",
    "\n",
    "<style>\n",
    "section.present > section.present { \n",
    "    max-height: 90%; \n",
    "    overflow-y: scroll;\n",
    "}\n",
    "</style>\n",
    "\n",
    "<small><a href=\"https://colab.research.google.com/github/brandeis-jdelfino/cosi-10a/blob/main/lectures/notebooks/8_references.ipynb\">Link to interactive slides on Google Colab</a></small>"
   ]
  },
  {
   "cell_type": "markdown",
   "id": "ece28409",
   "metadata": {
    "slideshow": {
     "slide_type": "slide"
    }
   },
   "source": [
    "# Announcements\n",
    "\n",
    "* PS2 grading has started. \n",
    "   * You will see feedback on individual problems in repl.it as we grade. \n",
    "   * Final grades will be entered into LATTE when grading is complete\n",
    "* PS3 has been posted.\n",
    "   * 4 problems, this time you must do all 4.\n",
    "   * Do not expect an extension for any reason if you wait until next week to start.\n",
    "* No quiz tomorrow\n",
    "   * Recitation is still your best place to get practice and help, please attend. It's a great time to start on the problem set and get help (see previous point).\n",
    "   * If you don't have a 4 on all quizzes so far, please retake the questions you missed.\n",
    "* Thursday is Brandeis Monday, no lecture\n",
    "   * Monday office hours schedule will apply"
   ]
  },
  {
   "cell_type": "markdown",
   "id": "c274dde3",
   "metadata": {
    "slideshow": {
     "slide_type": "notes"
    }
   },
   "source": [
    "To add: exercises/examples"
   ]
  },
  {
   "cell_type": "markdown",
   "id": "2c115059",
   "metadata": {
    "slideshow": {
     "slide_type": "slide"
    }
   },
   "source": [
    "# Scope and arguments review\n",
    "\n",
    "What does this print?"
   ]
  },
  {
   "cell_type": "code",
   "execution_count": null,
   "id": "ee3396ee",
   "metadata": {
    "execution": {
     "iopub.execute_input": "2023-10-08T18:51:21.527645Z",
     "iopub.status.busy": "2023-10-08T18:51:21.527284Z",
     "iopub.status.idle": "2023-10-08T18:51:21.545509Z",
     "shell.execute_reply": "2023-10-08T18:51:21.544468Z"
    }
   },
   "outputs": [],
   "source": [
    "def add_one(num):\n",
    "    num = num + 1\n",
    "    print(f\"inside add_one: {num=}\")\n",
    "    \n",
    "x = 5\n",
    "add_one(x)\n",
    "add_one(x)\n",
    "print(x)"
   ]
  },
  {
   "cell_type": "markdown",
   "id": "1d2e4492",
   "metadata": {
    "slideshow": {
     "slide_type": "subslide"
    }
   },
   "source": [
    "# Scope and arguments review\n",
    "\n",
    "What does this print?"
   ]
  },
  {
   "cell_type": "code",
   "execution_count": null,
   "id": "504b071d",
   "metadata": {
    "execution": {
     "iopub.execute_input": "2023-10-08T18:51:21.549735Z",
     "iopub.status.busy": "2023-10-08T18:51:21.549426Z",
     "iopub.status.idle": "2023-10-08T18:51:21.554216Z",
     "shell.execute_reply": "2023-10-08T18:51:21.553512Z"
    }
   },
   "outputs": [],
   "source": [
    "def add_one(x):\n",
    "    x = x + 1\n",
    "    print(f\"inside add_one: {x=}\")\n",
    "    \n",
    "x = 5\n",
    "add_one(x)\n",
    "add_one(x)\n",
    "print(x)"
   ]
  },
  {
   "cell_type": "markdown",
   "id": "11db6cb3",
   "metadata": {
    "slideshow": {
     "slide_type": "fragment"
    }
   },
   "source": [
    "The `x` in the global scope is not the same as the `x` in `add_one`."
   ]
  },
  {
   "cell_type": "markdown",
   "id": "f75b31aa",
   "metadata": {
    "slideshow": {
     "slide_type": "slide"
    }
   },
   "source": [
    "# References\n",
    "\n",
    "Confession time: I lied to you in lecture 2 when I explained that a variable was like a \"box\" in which you can store a value.\n",
    "\n",
    "In Python, a variable is actually a **reference to** a value."
   ]
  },
  {
   "cell_type": "markdown",
   "id": "c18f4b85",
   "metadata": {
    "slideshow": {
     "slide_type": "subslide"
    }
   },
   "source": [
    "## Our mental model so far"
   ]
  },
  {
   "cell_type": "markdown",
   "id": "a06eb64c",
   "metadata": {
    "slideshow": {
     "slide_type": "notes"
    }
   },
   "source": [
    "Drawing on the board: a box labeled `a`, with the value `\"Hello\"` in it"
   ]
  },
  {
   "cell_type": "code",
   "execution_count": null,
   "id": "829eb237",
   "metadata": {
    "execution": {
     "iopub.execute_input": "2023-10-08T18:51:21.557547Z",
     "iopub.status.busy": "2023-10-08T18:51:21.557282Z",
     "iopub.status.idle": "2023-10-08T18:51:21.560677Z",
     "shell.execute_reply": "2023-10-08T18:51:21.559850Z"
    }
   },
   "outputs": [],
   "source": [
    "a = \"Hello\""
   ]
  },
  {
   "cell_type": "markdown",
   "id": "7df95a13",
   "metadata": {
    "slideshow": {
     "slide_type": "subslide"
    }
   },
   "source": [
    "## The way things actually work"
   ]
  },
  {
   "cell_type": "markdown",
   "id": "d1a6142a",
   "metadata": {
    "slideshow": {
     "slide_type": "notes"
    }
   },
   "source": [
    "Drawing on the board: 6 boxes, numbered 0 through 5. The value \"Hello\" in box 0. A separate box labeled `a`, with an arrow drawn to box 0."
   ]
  },
  {
   "cell_type": "code",
   "execution_count": null,
   "id": "dfcdf49e",
   "metadata": {
    "execution": {
     "iopub.execute_input": "2023-10-08T18:51:21.563933Z",
     "iopub.status.busy": "2023-10-08T18:51:21.563666Z",
     "iopub.status.idle": "2023-10-08T18:51:21.566836Z",
     "shell.execute_reply": "2023-10-08T18:51:21.566173Z"
    }
   },
   "outputs": [],
   "source": [
    "a = \"Hello\""
   ]
  },
  {
   "cell_type": "markdown",
   "id": "16d8452b",
   "metadata": {
    "slideshow": {
     "slide_type": "subslide"
    }
   },
   "source": [
    "Think of the computer's memory like a big warehouse, with millions of numbered boxes in it.\n",
    "\n",
    "When you create a variable with a value:\n",
    "1. The computer picks an empty numbered box, and puts the value into it.\n",
    "2. It writes the number of the box down on a piece of paper.\n",
    "3. It hands that piece of paper to your variable\n",
    "4. The variable uses that number to find its value when needed.\n",
    "\n",
    "The piece of paper is a **reference** to a value. The box contains the actual value."
   ]
  },
  {
   "cell_type": "markdown",
   "id": "854a6f81",
   "metadata": {
    "slideshow": {
     "slide_type": "slide"
    }
   },
   "source": [
    "# 2 Volunteers needed\n",
    "\n",
    "You'll need to share your favorite colors, and hold an index card."
   ]
  },
  {
   "cell_type": "markdown",
   "id": "5539a4be",
   "metadata": {
    "slideshow": {
     "slide_type": "notes"
    }
   },
   "source": [
    "1. Get 2 volunteers to act as variables\n",
    "2. Ask first volunteer for their favorite color, add it as a string to the memory boxes, hand them an index card with the number of the box used.\n",
    "3. Repeat for volunteer 2, require a different color.\n",
    "4. When we encounter a print, ask each variable to read their value aloud."
   ]
  },
  {
   "cell_type": "code",
   "execution_count": null,
   "id": "2ac00377",
   "metadata": {
    "execution": {
     "iopub.execute_input": "2023-10-08T18:51:21.570099Z",
     "iopub.status.busy": "2023-10-08T18:51:21.569832Z",
     "iopub.status.idle": "2023-10-08T18:51:21.573188Z",
     "shell.execute_reply": "2023-10-08T18:51:21.572523Z"
    },
    "slideshow": {
     "slide_type": "subslide"
    }
   },
   "outputs": [],
   "source": [
    "name1 = \"color1\"\n",
    "name2 = \"color2\"\n",
    "print(name1, name2)"
   ]
  },
  {
   "cell_type": "markdown",
   "id": "5376c2e2",
   "metadata": {
    "slideshow": {
     "slide_type": "notes"
    }
   },
   "source": [
    "1. Get a new color from the first person. Add it as a value to a new memory box, swap their index card."
   ]
  },
  {
   "cell_type": "code",
   "execution_count": null,
   "id": "526c9653",
   "metadata": {
    "execution": {
     "iopub.execute_input": "2023-10-08T18:51:21.576440Z",
     "iopub.status.busy": "2023-10-08T18:51:21.576165Z",
     "iopub.status.idle": "2023-10-08T18:51:21.579735Z",
     "shell.execute_reply": "2023-10-08T18:51:21.579070Z"
    },
    "slideshow": {
     "slide_type": "fragment"
    }
   },
   "outputs": [],
   "source": [
    "name1 = \"color3\"\n",
    "print(name1, name2)"
   ]
  },
  {
   "cell_type": "markdown",
   "id": "065ad88b",
   "metadata": {
    "slideshow": {
     "slide_type": "notes"
    }
   },
   "source": [
    "1. Force second person to like first person's color. Give them an index card with the same number as first person."
   ]
  },
  {
   "cell_type": "code",
   "execution_count": null,
   "id": "8294e598",
   "metadata": {
    "execution": {
     "iopub.execute_input": "2023-10-08T18:51:21.582828Z",
     "iopub.status.busy": "2023-10-08T18:51:21.582571Z",
     "iopub.status.idle": "2023-10-08T18:51:21.586109Z",
     "shell.execute_reply": "2023-10-08T18:51:21.585494Z"
    },
    "slideshow": {
     "slide_type": "fragment"
    }
   },
   "outputs": [],
   "source": [
    "name2 = name1\n",
    "print(name1, name2)"
   ]
  },
  {
   "cell_type": "markdown",
   "id": "ad705e12",
   "metadata": {
    "slideshow": {
     "slide_type": "notes"
    }
   },
   "source": [
    "1. Second person changes their color, add the value to the boxes and hand them a new index card."
   ]
  },
  {
   "cell_type": "code",
   "execution_count": null,
   "id": "739a6681",
   "metadata": {
    "execution": {
     "iopub.execute_input": "2023-10-08T18:51:21.589114Z",
     "iopub.status.busy": "2023-10-08T18:51:21.588867Z",
     "iopub.status.idle": "2023-10-08T18:51:21.592262Z",
     "shell.execute_reply": "2023-10-08T18:51:21.591640Z"
    },
    "slideshow": {
     "slide_type": "fragment"
    }
   },
   "outputs": [],
   "source": [
    "name2 = \"color4\"\n",
    "print(name1, name2)"
   ]
  },
  {
   "cell_type": "markdown",
   "id": "cbae016c",
   "metadata": {
    "slideshow": {
     "slide_type": "subslide"
    }
   },
   "source": [
    "# Python Tutor\n",
    "\n",
    "We're going to use a new, very useful tool to help us visualize variables, scope, and references (today's topic): [Python Tutor](http://pythontutor.com)\n",
    "\n",
    "Let's look at those 2 `add_num` examples in Python Tutor:\n",
    "\n",
    "[First example](https://pythontutor.com/render.html#code=def%20add_one%28num%29%3A%0A%20%20%20%20num%20%3D%20num%20%2B%201%0A%20%20%20%20%0Ax%20%3D%205%0Aadd_one%28x%29%0Aadd_one%28x%29%0Aprint%28x%29&cumulative=false&curInstr=0&heapPrimitives=nevernest&mode=display&origin=opt-frontend.js&py=311&rawInputLstJSON=%5B%5D&textReferences=false)\n",
    "\n",
    "[Second example](https://pythontutor.com/render.html#code=def%20add_one%28x%29%3A%0A%20%20%20%20x%20%3D%20x%20%2B%201%0A%20%20%20%20%0Ax%20%3D%205%0Aadd_one%28x%29%0Aadd_one%28x%29%0Aprint%28x%29&cumulative=false&curInstr=0&heapPrimitives=nevernest&mode=display&origin=opt-frontend.js&py=311&rawInputLstJSON=%5B%5D&textReferences=false)\n"
   ]
  },
  {
   "cell_type": "markdown",
   "id": "2463811c",
   "metadata": {
    "slideshow": {
     "slide_type": "subslide"
    }
   },
   "source": [
    "Let's look one more time, except this time we'll have Python Tutor show the references explicitly:\n",
    "\n",
    "[First example](https://pythontutor.com/render.html#code=def%20add_one%28num%29%3A%0A%20%20%20%20num%20%3D%20num%20%2B%201%0A%20%20%20%20%0Ax%20%3D%205%0Aadd_one%28x%29%0Aadd_one%28x%29%0Aprint%28x%29&cumulative=false&curInstr=0&heapPrimitives=true&mode=display&origin=opt-frontend.js&py=311&rawInputLstJSON=%5B%5D&textReferences=false)"
   ]
  },
  {
   "cell_type": "markdown",
   "id": "d89ab9e8",
   "metadata": {
    "slideshow": {
     "slide_type": "subslide"
    }
   },
   "source": [
    "All variables in Python are references. (This is not true in all programming languages).\n",
    "\n",
    "* When a variable is assigned to (`=`), it is changed to refer to a different value. \n",
    "  * i.e. it \"gets a new piece of paper with a new number on it\".\n",
    "* Assignment does **not** change the original value itself. \n",
    "  * i.e. it does not \"change the value in the original box\".\n",
    "* In some cases, multiple variables can **reference** the same value\n",
    "  * i.e. their pieces of paper will have the same number written on them."
   ]
  },
  {
   "cell_type": "markdown",
   "id": "206d97bd",
   "metadata": {
    "slideshow": {
     "slide_type": "slide"
    }
   },
   "source": [
    "# This is confusing, why do we care?"
   ]
  },
  {
   "cell_type": "markdown",
   "id": "310a14bc",
   "metadata": {
    "slideshow": {
     "slide_type": "notes"
    }
   },
   "source": [
    "1. Clear out memory boxes, take back index cards.\n",
    "1. Ask first volunteer for their 2 favorite colors, add a list to a memory box, hand them an index card with the number of the box used.\n",
    "2. Repeat for volunteer 2, require different colors."
   ]
  },
  {
   "cell_type": "code",
   "execution_count": null,
   "id": "1de4716a",
   "metadata": {
    "execution": {
     "iopub.execute_input": "2023-10-08T18:51:21.595657Z",
     "iopub.status.busy": "2023-10-08T18:51:21.595393Z",
     "iopub.status.idle": "2023-10-08T18:51:21.598857Z",
     "shell.execute_reply": "2023-10-08T18:51:21.598268Z"
    },
    "slideshow": {
     "slide_type": "subslide"
    }
   },
   "outputs": [],
   "source": [
    "name1 = [\"color1\", \"color2\"]\n",
    "name2 = [\"color3\", \"color4\"]\n",
    "print(name1, name2)"
   ]
  },
  {
   "cell_type": "markdown",
   "id": "50201f41",
   "metadata": {
    "slideshow": {
     "slide_type": "notes"
    }
   },
   "source": [
    "1. Make first person pick 2 new colors, create a new list in a new box, and swap their index card."
   ]
  },
  {
   "cell_type": "code",
   "execution_count": null,
   "id": "aa11d09f",
   "metadata": {
    "execution": {
     "iopub.execute_input": "2023-10-08T18:51:21.602325Z",
     "iopub.status.busy": "2023-10-08T18:51:21.601969Z",
     "iopub.status.idle": "2023-10-08T18:51:21.605381Z",
     "shell.execute_reply": "2023-10-08T18:51:21.604764Z"
    },
    "slideshow": {
     "slide_type": "fragment"
    }
   },
   "outputs": [],
   "source": [
    "name1 = [\"color5\", \"color6\"]\n",
    "print(name1, name2)"
   ]
  },
  {
   "cell_type": "markdown",
   "id": "ab7c70c8",
   "metadata": {
    "slideshow": {
     "slide_type": "notes"
    }
   },
   "source": [
    "1. Force second person to like first person's colors. Give them an index card with the same number as the first person."
   ]
  },
  {
   "cell_type": "code",
   "execution_count": null,
   "id": "e18979ee",
   "metadata": {
    "execution": {
     "iopub.execute_input": "2023-10-08T18:51:21.608470Z",
     "iopub.status.busy": "2023-10-08T18:51:21.608228Z",
     "iopub.status.idle": "2023-10-08T18:51:21.611411Z",
     "shell.execute_reply": "2023-10-08T18:51:21.610833Z"
    },
    "slideshow": {
     "slide_type": "fragment"
    }
   },
   "outputs": [],
   "source": [
    "name2 = name1\n",
    "print(name1, name2)"
   ]
  },
  {
   "cell_type": "markdown",
   "id": "0837aaa5",
   "metadata": {
    "slideshow": {
     "slide_type": "notes"
    }
   },
   "source": [
    "1. Update list in place, notice how both people's colors are updated."
   ]
  },
  {
   "cell_type": "code",
   "execution_count": null,
   "id": "fa038bd4",
   "metadata": {
    "execution": {
     "iopub.execute_input": "2023-10-08T18:51:21.614694Z",
     "iopub.status.busy": "2023-10-08T18:51:21.614426Z",
     "iopub.status.idle": "2023-10-08T18:51:21.617821Z",
     "shell.execute_reply": "2023-10-08T18:51:21.617228Z"
    },
    "slideshow": {
     "slide_type": "fragment"
    }
   },
   "outputs": [],
   "source": [
    "name2[0] = \"color7\"\n",
    "print(name1, name2)"
   ]
  },
  {
   "cell_type": "markdown",
   "id": "4bdbba2f",
   "metadata": {
    "slideshow": {
     "slide_type": "slide"
    }
   },
   "source": [
    "# This is confusing, why do we care?\n",
    "\n",
    "Consider these two code snippets:"
   ]
  },
  {
   "cell_type": "code",
   "execution_count": null,
   "id": "f593da98",
   "metadata": {
    "execution": {
     "iopub.execute_input": "2023-10-08T18:51:21.620901Z",
     "iopub.status.busy": "2023-10-08T18:51:21.620653Z",
     "iopub.status.idle": "2023-10-08T18:51:21.624070Z",
     "shell.execute_reply": "2023-10-08T18:51:21.623496Z"
    }
   },
   "outputs": [],
   "source": [
    "a = 1\n",
    "b = a\n",
    "a = a + 1\n",
    "print(f\"{a=} {b=}\")"
   ]
  },
  {
   "cell_type": "code",
   "execution_count": null,
   "id": "a319d9b6",
   "metadata": {
    "execution": {
     "iopub.execute_input": "2023-10-08T18:51:21.627107Z",
     "iopub.status.busy": "2023-10-08T18:51:21.626853Z",
     "iopub.status.idle": "2023-10-08T18:51:21.630349Z",
     "shell.execute_reply": "2023-10-08T18:51:21.629750Z"
    }
   },
   "outputs": [],
   "source": [
    "a = [1, 2, 3]\n",
    "b = a\n",
    "a[0] = 4\n",
    "print(f\"{a=} {b=}\")"
   ]
  },
  {
   "cell_type": "markdown",
   "id": "916e4713",
   "metadata": {
    "slideshow": {
     "slide_type": "subslide"
    }
   },
   "source": [
    "Another surprising example:"
   ]
  },
  {
   "cell_type": "code",
   "execution_count": null,
   "id": "486f8646",
   "metadata": {
    "execution": {
     "iopub.execute_input": "2023-10-08T18:51:21.633332Z",
     "iopub.status.busy": "2023-10-08T18:51:21.633083Z",
     "iopub.status.idle": "2023-10-08T18:51:21.636597Z",
     "shell.execute_reply": "2023-10-08T18:51:21.636003Z"
    }
   },
   "outputs": [],
   "source": [
    "def add_one(num):\n",
    "    num = num + 1\n",
    "    print(f\"inside add_one: {num=}\")\n",
    "\n",
    "a = 1\n",
    "add_one(a)\n",
    "print(f\"global scope {a=}\")"
   ]
  },
  {
   "cell_type": "code",
   "execution_count": null,
   "id": "eb78fbfe",
   "metadata": {
    "execution": {
     "iopub.execute_input": "2023-10-08T18:51:21.639736Z",
     "iopub.status.busy": "2023-10-08T18:51:21.639493Z",
     "iopub.status.idle": "2023-10-08T18:51:21.643295Z",
     "shell.execute_reply": "2023-10-08T18:51:21.642653Z"
    }
   },
   "outputs": [],
   "source": [
    "def add_one(nums):\n",
    "    nums[0] = nums[0] + 1\n",
    "    print(f\"inside add_one: {nums=}\")\n",
    "\n",
    "a = [1]\n",
    "add_one(a)\n",
    "print(f\"global scope {a=}\")"
   ]
  },
  {
   "cell_type": "markdown",
   "id": "76fafa05",
   "metadata": {
    "slideshow": {
     "slide_type": "subslide"
    }
   },
   "source": [
    "Understanding references is key to understanding **why** this code behaves the way it does. \n",
    "\n",
    "This behavior is a **very** common source of confusion."
   ]
  },
  {
   "cell_type": "markdown",
   "id": "9ed164e2",
   "metadata": {
    "slideshow": {
     "slide_type": "slide"
    }
   },
   "source": [
    "# Side note: Mutable vs. Immutable\n",
    "\n",
    "All types in Python can be classified as **mutable** or **immutable**.\n",
    "\n",
    "* The value of **mutable** types can change.\n",
    "* The value of **immutable** types can never change.\n",
    "\n",
    "This may seems surprising, but most of the data types we've looked at so far are **immutable**.\n",
    "\n",
    "* immutable: `int`, `float`, `bool`, `str`, `tuple`\n",
    "* mutable: `list`"
   ]
  },
  {
   "cell_type": "markdown",
   "id": "d339b554",
   "metadata": {
    "slideshow": {
     "slide_type": "subslide"
    }
   },
   "source": [
    "Let's walk through a few code examples and talk in detail about what is happening to references vs. values on each line."
   ]
  },
  {
   "cell_type": "code",
   "execution_count": null,
   "id": "f8c40507",
   "metadata": {
    "execution": {
     "iopub.execute_input": "2023-10-08T18:51:21.646673Z",
     "iopub.status.busy": "2023-10-08T18:51:21.646417Z",
     "iopub.status.idle": "2023-10-08T18:51:21.649494Z",
     "shell.execute_reply": "2023-10-08T18:51:21.648915Z"
    },
    "slideshow": {
     "slide_type": "subslide"
    }
   },
   "outputs": [],
   "source": [
    "a = 1\n",
    "b = 1\n",
    "a = 2"
   ]
  },
  {
   "cell_type": "markdown",
   "id": "30d14d29",
   "metadata": {},
   "source": [
    "On line 1, `a` refers to value `1`.\n",
    "\n",
    "On line 2, `b` refers to value `1`.\n",
    "\n",
    "On line 3, `a` is updated to refer to value `2`, instead of referring to value `1`.\n",
    "\n",
    "We **didn't** change the value `1` to `2`. We changed `a` to refer to a different value. `ints` are immutable, we can't change them.\n",
    "\n",
    "[Python Tutor link](https://pythontutor.com/render.html#code=a%20%3D%201%0Ab%20%3D%201%0Aa%20%3D%202&cumulative=false&curInstr=0&heapPrimitives=true&mode=display&origin=opt-frontend.js&py=311&rawInputLstJSON=%5B%5D&textReferences=false)"
   ]
  },
  {
   "cell_type": "code",
   "execution_count": null,
   "id": "608b58da",
   "metadata": {
    "execution": {
     "iopub.execute_input": "2023-10-08T18:51:21.652383Z",
     "iopub.status.busy": "2023-10-08T18:51:21.652127Z",
     "iopub.status.idle": "2023-10-08T18:51:21.655655Z",
     "shell.execute_reply": "2023-10-08T18:51:21.655036Z"
    },
    "slideshow": {
     "slide_type": "subslide"
    }
   },
   "outputs": [],
   "source": [
    "a = 1\n",
    "b = a\n",
    "a = a + 1\n",
    "print(f\"{a=} {b=}\")"
   ]
  },
  {
   "cell_type": "markdown",
   "id": "ed003d54",
   "metadata": {},
   "source": [
    "On line 1, `a` refers to value `1`.\n",
    "\n",
    "On line 2, `b` refers to the same value as `a`: `1`.\n",
    "\n",
    "`b` does **not** refer to `a`. It refers to the value `1`.\n",
    "\n",
    "On line 3, `a` is changed to refer to the value `2`. \n",
    "\n",
    "We didn't update the value `1`, we only updated `a`'s reference. `b` still refers to the value `1`.\n",
    "\n",
    "[Python Tutor link](https://pythontutor.com/render.html#code=a%20%3D%201%0Ab%20%3D%20a%0Aa%20%3D%20a%20%2B%201%0Aprint%28f%22%7Ba%3D%7D%20%7Bb%3D%7D%22%29&cumulative=false&curInstr=0&heapPrimitives=true&mode=display&origin=opt-frontend.js&py=311&rawInputLstJSON=%5B%5D&textReferences=false)"
   ]
  },
  {
   "cell_type": "code",
   "execution_count": null,
   "id": "b10c6a69",
   "metadata": {
    "execution": {
     "iopub.execute_input": "2023-10-08T18:51:21.658632Z",
     "iopub.status.busy": "2023-10-08T18:51:21.658382Z",
     "iopub.status.idle": "2023-10-08T18:51:21.661989Z",
     "shell.execute_reply": "2023-10-08T18:51:21.661394Z"
    },
    "slideshow": {
     "slide_type": "subslide"
    }
   },
   "outputs": [],
   "source": [
    "a = [1, 2, 3]\n",
    "b = a\n",
    "a[0] = 4\n",
    "print(f\"{a=} {b=}\")"
   ]
  },
  {
   "cell_type": "markdown",
   "id": "4d4e0de3",
   "metadata": {},
   "source": [
    "Lists **appear to** behave differently. Lists are **mutable**. We can change the value of a list.\n",
    "\n",
    "On line 1, `a` refers to a list `[1,2,3]`\n",
    "\n",
    "On line 2, `b` refers to the same list which `a` refers to.\n",
    "\n",
    "On line 3, we modify the list itself! We're changing a value by assigning to an index in the list, we're not changing `a`'s reference.\n",
    "\n",
    "Since `a` and `b` refer to the same list value, and we modified that list value, both `a` and `b` will reflect the change made to the list.\n",
    "\n",
    "[Python Tutor link](https://pythontutor.com/visualize.html#code=a%20%3D%20%5B1,%202,%203%5D%0Ab%20%3D%20a%0Aa%5B0%5D%20%3D%204%0A&cumulative=false&curInstr=0&heapPrimitives=true&mode=display&origin=opt-frontend.js&py=3&rawInputLstJSON=%5B%5D&textReferences=false)\n",
    "\n"
   ]
  },
  {
   "cell_type": "code",
   "execution_count": null,
   "id": "1d9b57e5",
   "metadata": {
    "execution": {
     "iopub.execute_input": "2023-10-08T18:51:21.665117Z",
     "iopub.status.busy": "2023-10-08T18:51:21.664852Z",
     "iopub.status.idle": "2023-10-08T18:51:21.668544Z",
     "shell.execute_reply": "2023-10-08T18:51:21.667862Z"
    },
    "slideshow": {
     "slide_type": "subslide"
    }
   },
   "outputs": [],
   "source": [
    "a = [1, 2, 3]\n",
    "b = a\n",
    "a = [4, 5, 6]\n",
    "a[0] = 9\n",
    "print(f\"{a=} {b=}\")"
   ]
  },
  {
   "cell_type": "markdown",
   "id": "aa763a29",
   "metadata": {},
   "source": [
    "This example highlights the difference between changing a variable's reference, and mutating the value it refers to.\n",
    "\n",
    "On line 1, `a` refers to a list `[1,2,3]`\n",
    "\n",
    "On line 2, `b` refers to the same list which `a` refers to.\n",
    "\n",
    "On line 3, we change `a` to refer to a new list `[4,5,6]` by assigning to `a`. We have not modified the original list value that `a` referred to. `a` and `b` now refer to different lists.\n",
    "\n",
    "On line 4, we modify the list value that `a` refers to. `b`'s list is unchanged.\n",
    "\n",
    "[Python tutor link](https://pythontutor.com/visualize.html#code=a%20%3D%20%5B1,%202,%203%5D%0Ab%20%3D%20a%0Aa%20%3D%20%5B4,%205,%206%5D%0Aa%5B0%5D%20%3D%209&cumulative=false&curInstr=0&heapPrimitives=true&mode=display&origin=opt-frontend.js&py=3&rawInputLstJSON=%5B%5D&textReferences=false)"
   ]
  },
  {
   "cell_type": "markdown",
   "id": "6be077ae",
   "metadata": {
    "slideshow": {
     "slide_type": "slide"
    }
   },
   "source": [
    "# [Slido](https://wall.sli.do/event/aS8ZegjvKXxPo9Nh65q1jN?section=dbb5fc0f-0274-4aa8-b925-119d565b88a1)"
   ]
  },
  {
   "cell_type": "markdown",
   "id": "9ebdf1ec",
   "metadata": {
    "slideshow": {
     "slide_type": "subslide"
    }
   },
   "source": [
    "\n",
    "When arguments are passed to functions, the references (not the values!) are copied."
   ]
  },
  {
   "cell_type": "code",
   "execution_count": null,
   "id": "160611b8",
   "metadata": {
    "execution": {
     "iopub.execute_input": "2023-10-08T18:51:21.671818Z",
     "iopub.status.busy": "2023-10-08T18:51:21.671554Z",
     "iopub.status.idle": "2023-10-08T18:51:21.675314Z",
     "shell.execute_reply": "2023-10-08T18:51:21.674738Z"
    }
   },
   "outputs": [],
   "source": [
    "def add_one(num):\n",
    "    num = num + 1    \n",
    "    print(f\"inside add_one: {num=}\")\n",
    "\n",
    "a = 1\n",
    "add_one(a)\n",
    "print(f\"global scope {a=}\")"
   ]
  },
  {
   "cell_type": "markdown",
   "id": "b8b235cf",
   "metadata": {},
   "source": [
    "When the code reaches line 2, `a` is a reference to value `1`, and `num` is also a reference to the value `1`.\n",
    "\n",
    "Other than referring to the same value, `a` and `num` are not connected.\n",
    "\n",
    "After line 2 executes, `num` is updated to refer to value `2`, and `a` continues to refer to value `1`.\n",
    "\n",
    "[Python tutor link](https://pythontutor.com/visualize.html#code=def%20add_one%28num%29%3A%0A%20%20%20%20num%20%3D%20num%20%2B%201%0A%20%20%20%20print%28%22inside%20add_one%3A%20%22%20%2B%20str%28num%29%29%0A%0Aa%20%3D%201%0Aadd_one%28a%29%0Aprint%28f%22global%20scope%3A%20%22%20%2B%20str%28a%29%29&cumulative=false&curInstr=0&heapPrimitives=true&mode=display&origin=opt-frontend.js&py=3&rawInputLstJSON=%5B%5D&textReferences=false)\n"
   ]
  },
  {
   "cell_type": "markdown",
   "id": "47271e4c",
   "metadata": {
    "slideshow": {
     "slide_type": "subslide"
    }
   },
   "source": [
    "If a **value** is modified inside a function, references from outside the function will see the change."
   ]
  },
  {
   "cell_type": "code",
   "execution_count": null,
   "id": "1bf47cd9",
   "metadata": {
    "execution": {
     "iopub.execute_input": "2023-10-08T18:51:21.678583Z",
     "iopub.status.busy": "2023-10-08T18:51:21.678161Z",
     "iopub.status.idle": "2023-10-08T18:51:21.681813Z",
     "shell.execute_reply": "2023-10-08T18:51:21.681304Z"
    }
   },
   "outputs": [],
   "source": [
    "def add_one(nums):\n",
    "    nums[0] = nums[0] + 1\n",
    "    print(f\"inside add_one: {nums=}\")\n",
    "\n",
    "a = [1]\n",
    "add_one(a)\n",
    "print(f\"global scope {a=}\")"
   ]
  },
  {
   "cell_type": "markdown",
   "id": "681545e6",
   "metadata": {},
   "source": [
    "When the code reaches line 2, both `a` and `nums` refer to the same list `[0]`.\n",
    "\n",
    "After line 2 executes, the list value has changed. Because `a` and `nums` both refer to it, they both see the change.\n",
    "\n",
    "[Python tutor link](https://pythontutor.com/visualize.html#code=def%20add_one%28nums%29%3A%0A%20%20%20%20nums%5B0%5D%20%3D%20nums%5B0%5D%20%2B%201%0A%20%20%20%20print%28%22inside%20add_one%3A%20%22%20%2B%20str%28nums%29%29%0A%0Aa%20%3D%20%5B1%5D%0Aadd_one%28a%29%0Aprint%28f%22global%20scope%3A%20%22%20%2B%20str%28a%29%29&cumulative=false&curInstr=0&heapPrimitives=true&mode=display&origin=opt-frontend.js&py=3&rawInputLstJSON=%5B%5D&textReferences=false)\n"
   ]
  },
  {
   "cell_type": "markdown",
   "id": "79e3e778",
   "metadata": {
    "slideshow": {
     "slide_type": "subslide"
    }
   },
   "source": [
    "# Another way to think about this\n",
    "\n",
    "If the word \"references\" is confusing, you can also think about a variable as a \"name\" for a value.\n",
    "\n",
    "Assignment (`=`) binds (or assigns) a name to a value. \n",
    "\n",
    "Passing an argument into a function also binds a name to a value. The name is the name of the function's parameter.\n",
    "\n",
    "One value might have multiple names at a time.\n",
    "\n",
    "When you assign (`=`), the value isn't copied. You've added a new name for the value."
   ]
  },
  {
   "cell_type": "markdown",
   "id": "4902b356",
   "metadata": {
    "slideshow": {
     "slide_type": "slide"
    }
   },
   "source": [
    "# copy\n",
    "\n",
    "Sometimes you want to make changes to a value, but keep those changes from being seen by any other reference to that value. In these cases, you can copy the value before modifying it.\n",
    "\n",
    "Python provides some tools in the `copy` [module](https://docs.python.org/3/library/copy.html).\n",
    "\n",
    "* `copy.copy()` will do a **shallow** copy - copy the outer value only\n",
    "* `copy.deepcopy()` will do a **deep** copy - copy all nested values. This only comes into play when you have things like nested lists.\n"
   ]
  },
  {
   "cell_type": "code",
   "execution_count": null,
   "id": "669cb639",
   "metadata": {
    "execution": {
     "iopub.execute_input": "2023-10-08T18:51:21.685149Z",
     "iopub.status.busy": "2023-10-08T18:51:21.684903Z",
     "iopub.status.idle": "2023-10-08T18:51:21.688360Z",
     "shell.execute_reply": "2023-10-08T18:51:21.687784Z"
    }
   },
   "outputs": [],
   "source": [
    "import copy\n",
    "a = [1,2,3]\n",
    "b = copy.copy(a)\n",
    "b[0] = 9\n",
    "print(f\"{a=} {b=}\")"
   ]
  },
  {
   "cell_type": "markdown",
   "id": "7953b887",
   "metadata": {
    "slideshow": {
     "slide_type": "-"
    }
   },
   "source": [
    "[Python Tutor link](https://pythontutor.com/render.html#code=import%20copy%0Aa%20%3D%20%5B1,2,3%5D%0Ab%20%3D%20copy.copy%28a%29%0Ab%5B0%5D%20%3D%209%0Aprint%28f%22%7Ba%3D%7D%20%7Bb%3D%7D%22%29&cumulative=false&curInstr=0&heapPrimitives=true&mode=display&origin=opt-frontend.js&py=311&rawInputLstJSON=%5B%5D&textReferences=false)"
   ]
  },
  {
   "cell_type": "markdown",
   "id": "b8a8adad",
   "metadata": {
    "slideshow": {
     "slide_type": "subslide"
    }
   },
   "source": [
    "This is most often useful in functions, where you don't want the function to mess with the caller's values."
   ]
  },
  {
   "cell_type": "code",
   "execution_count": null,
   "id": "8072fa7b",
   "metadata": {
    "execution": {
     "iopub.execute_input": "2023-10-08T18:51:21.691357Z",
     "iopub.status.busy": "2023-10-08T18:51:21.691118Z",
     "iopub.status.idle": "2023-10-08T18:51:21.695421Z",
     "shell.execute_reply": "2023-10-08T18:51:21.694606Z"
    },
    "slideshow": {
     "slide_type": "-"
    }
   },
   "outputs": [],
   "source": [
    "def add_one(nums):\n",
    "    newlist = copy.copy(nums)\n",
    "    for i in range(len(newlist)):\n",
    "        newlist[i] = newlist[i] + 1\n",
    "    return newlist\n",
    "\n",
    "a = [1,2,3]\n",
    "b = add_one(a)\n",
    "print(f\"{a=} {b=}\")"
   ]
  },
  {
   "cell_type": "markdown",
   "id": "d7e1253e",
   "metadata": {},
   "source": [
    "[Python Tutor link](https://pythontutor.com/render.html#code=import%20copy%0Adef%20add_one%28nums%29%3A%0A%20%20%20%20newlist%20%3D%20copy.copy%28nums%29%0A%20%20%20%20for%20i%20in%20range%28len%28newlist%29%29%3A%0A%20%20%20%20%20%20%20%20newlist%5Bi%5D%20%3D%20newlist%5Bi%5D%20%2B%201%0A%20%20%20%20return%20newlist%0A%0Aa%20%3D%20%5B1,2,3%5D%0Ab%20%3D%20add_one%28a%29%0Aprint%28f%22%7Ba%3D%7D%20%7Bb%3D%7D%22%29&cumulative=false&curInstr=0&heapPrimitives=true&mode=display&origin=opt-frontend.js&py=311&rawInputLstJSON=%5B%5D&textReferences=false)"
   ]
  },
  {
   "cell_type": "markdown",
   "id": "33d5dcad",
   "metadata": {
    "slideshow": {
     "slide_type": "slide"
    }
   },
   "source": [
    "# Puzzles\n",
    "\n",
    "[\"Reference puzzles\" on repl.it](https://replit.com/team/cosi-10a-fall23/Reference-puzzles)"
   ]
  },
  {
   "cell_type": "markdown",
   "id": "d8707a5d",
   "metadata": {
    "slideshow": {
     "slide_type": "slide"
    }
   },
   "source": [
    "# [Slido](https://wall.sli.do/event/aS8ZegjvKXxPo9Nh65q1jN?section=dbb5fc0f-0274-4aa8-b925-119d565b88a1)"
   ]
  }
 ],
 "metadata": {
  "celltoolbar": "Slideshow",
  "kernelspec": {
   "display_name": "Python 3 (ipykernel)",
   "language": "python",
   "name": "python3"
  },
  "language_info": {
   "codemirror_mode": {
    "name": "ipython",
    "version": 3
   },
   "file_extension": ".py",
   "mimetype": "text/x-python",
   "name": "python",
   "nbconvert_exporter": "python",
   "pygments_lexer": "ipython3",
   "version": "3.10.9"
  }
 },
 "nbformat": 4,
 "nbformat_minor": 5
}
