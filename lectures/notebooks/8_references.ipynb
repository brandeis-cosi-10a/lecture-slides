{
 "cells": [
  {
   "cell_type": "markdown",
   "id": "50b20b2a",
   "metadata": {
    "slideshow": {
     "slide_type": "slide"
    }
   },
   "source": [
    "# References\n",
    "\n",
    "<style>\n",
    "section.present > section.present { \n",
    "    max-height: 90%; \n",
    "    overflow-y: scroll;\n",
    "}\n",
    "</style>\n",
    "\n",
    "<small><a href=\"https://colab.research.google.com/github/brandeis-jdelfino/cosi-10a/blob/main/lectures/notebooks/8_references.ipynb\">Link to interactive slides on Google Colab</a></small>"
   ]
  },
  {
   "cell_type": "markdown",
   "id": "9f7b999a",
   "metadata": {
    "slideshow": {
     "slide_type": "slide"
    }
   },
   "source": [
    "# Announcements\n",
    "\n",
    "* PS2 grading has started. \n",
    "   * You will see feedback on individual problems in repl.it as we grade. \n",
    "   * Final grades will be entered into LATTE when grading is complete\n",
    "* PS3 has been posted.\n",
    "   * 4 problems, this time you must do all 4.\n",
    "   * Do not expect an extension for any reason if you wait until next week to start.\n",
    "* No quiz tomorrow\n",
    "   * Recitation is still your best place to get practice and help, please attend. It's a great time to start on the problem set and get help (see previous point).\n",
    "* Thursday is Brandeis Monday, no lecture\n",
    "   * Monday office hours schedule will apply"
   ]
  },
  {
   "cell_type": "markdown",
   "id": "c274dde3",
   "metadata": {
    "slideshow": {
     "slide_type": "notes"
    }
   },
   "source": [
    "To add: exercises/examples"
   ]
  },
  {
   "cell_type": "markdown",
   "id": "a49f387d",
   "metadata": {
    "slideshow": {
     "slide_type": "slide"
    }
   },
   "source": [
    "# Scope and arguments review\n",
    "\n",
    "What does this print?"
   ]
  },
  {
   "cell_type": "code",
   "execution_count": null,
   "id": "2fc9d5a0",
   "metadata": {
    "execution": {
     "iopub.execute_input": "2023-10-08T17:59:01.256793Z",
     "iopub.status.busy": "2023-10-08T17:59:01.256256Z",
     "iopub.status.idle": "2023-10-08T17:59:01.273671Z",
     "shell.execute_reply": "2023-10-08T17:59:01.272111Z"
    }
   },
   "outputs": [],
   "source": [
    "def add_one(num):\n",
    "    num = num + 1\n",
    "    print(f\"inside add_one: {num=}\")\n",
    "    \n",
    "x = 5\n",
    "add_one(x)\n",
    "add_one(x)\n",
    "print(x)"
   ]
  },
  {
   "cell_type": "markdown",
   "id": "183e1d62",
   "metadata": {
    "slideshow": {
     "slide_type": "subslide"
    }
   },
   "source": [
    "# Scope and arguments review\n",
    "\n",
    "What does this print?"
   ]
  },
  {
   "cell_type": "code",
   "execution_count": null,
   "id": "c1dcf74b",
   "metadata": {
    "execution": {
     "iopub.execute_input": "2023-10-08T17:59:01.280406Z",
     "iopub.status.busy": "2023-10-08T17:59:01.279742Z",
     "iopub.status.idle": "2023-10-08T17:59:01.285967Z",
     "shell.execute_reply": "2023-10-08T17:59:01.284945Z"
    }
   },
   "outputs": [],
   "source": [
    "def add_one(x):\n",
    "    x = x + 1\n",
    "    print(f\"inside add_one: {x=}\")\n",
    "    \n",
    "x = 5\n",
    "add_one(x)\n",
    "add_one(x)\n",
    "print(x)"
   ]
  },
  {
   "cell_type": "markdown",
   "id": "d4f39a30",
   "metadata": {
    "slideshow": {
     "slide_type": "fragment"
    }
   },
   "source": [
    "The `x` in the global scope is not the same as the `x` in `add_one`."
   ]
  },
  {
   "cell_type": "markdown",
   "id": "f75b31aa",
   "metadata": {
    "slideshow": {
     "slide_type": "slide"
    }
   },
   "source": [
    "# References\n",
    "\n",
    "Confession time: I lied to you in lecture 2 when I explained that a variable was like a \"box\" in which you can store a value.\n",
    "\n",
    "In Python, a variable is actually a **reference to** a value."
   ]
  },
  {
   "cell_type": "markdown",
   "id": "5f7264e5",
   "metadata": {
    "slideshow": {
     "slide_type": "subslide"
    }
   },
   "source": [
    "## Our mental model so far"
   ]
  },
  {
   "cell_type": "markdown",
   "id": "0bbc8fb3",
   "metadata": {
    "slideshow": {
     "slide_type": "notes"
    }
   },
   "source": [
    "Drawing on the board: a box labeled `a`, with the value `\"Hello\"` in it"
   ]
  },
  {
   "cell_type": "code",
   "execution_count": null,
   "id": "1a86af1d",
   "metadata": {
    "execution": {
     "iopub.execute_input": "2023-10-08T17:59:01.290778Z",
     "iopub.status.busy": "2023-10-08T17:59:01.290364Z",
     "iopub.status.idle": "2023-10-08T17:59:01.295838Z",
     "shell.execute_reply": "2023-10-08T17:59:01.294205Z"
    }
   },
   "outputs": [],
   "source": [
    "a = \"Hello\""
   ]
  },
  {
   "cell_type": "markdown",
   "id": "50b3364a",
   "metadata": {
    "slideshow": {
     "slide_type": "subslide"
    }
   },
   "source": [
    "## The way things actually work"
   ]
  },
  {
   "cell_type": "markdown",
   "id": "00112875",
   "metadata": {
    "slideshow": {
     "slide_type": "notes"
    }
   },
   "source": [
    "Drawing on the board: 6 boxes, numbered 0 through 5. The value \"Hello\" in box 0. A separate box labeled `a`, with an arrow drawn to box 0."
   ]
  },
  {
   "cell_type": "code",
   "execution_count": null,
   "id": "7e9f829e",
   "metadata": {
    "execution": {
     "iopub.execute_input": "2023-10-08T17:59:01.301313Z",
     "iopub.status.busy": "2023-10-08T17:59:01.300951Z",
     "iopub.status.idle": "2023-10-08T17:59:01.305022Z",
     "shell.execute_reply": "2023-10-08T17:59:01.304070Z"
    }
   },
   "outputs": [],
   "source": [
    "a = \"Hello\""
   ]
  },
  {
   "cell_type": "markdown",
   "id": "16d8452b",
   "metadata": {
    "slideshow": {
     "slide_type": "subslide"
    }
   },
   "source": [
    "Think of the computer's memory like a big warehouse, with millions of numbered boxes in it.\n",
    "\n",
    "When you create a variable with a value:\n",
    "1. The computer picks an empty numbered box, and puts the value into it.\n",
    "2. It writes the number of the box down on a piece of paper.\n",
    "3. It hands that piece of paper to your variable\n",
    "4. The variable uses that number to find its value when needed.\n",
    "\n",
    "The piece of paper is a **reference** to a value. The box contains the actual value."
   ]
  },
  {
   "cell_type": "markdown",
   "id": "0753ed51",
   "metadata": {
    "slideshow": {
     "slide_type": "slide"
    }
   },
   "source": [
    "# 2 Volunteers needed\n",
    "\n",
    "You'll need to share your favorite colors, and hold an index card."
   ]
  },
  {
   "cell_type": "markdown",
   "id": "ec789a02",
   "metadata": {
    "slideshow": {
     "slide_type": "notes"
    }
   },
   "source": [
    "1. Get 2 volunteers to act as variables\n",
    "2. Ask first volunteer for their favorite color, add it as a string to the memory boxes, hand them an index card with the number of the box used.\n",
    "3. Repeat for volunteer 2, require a different color.\n",
    "4. When we encounter a print, ask each variable to read their value aloud."
   ]
  },
  {
   "cell_type": "code",
   "execution_count": null,
   "id": "9ea1f283",
   "metadata": {
    "execution": {
     "iopub.execute_input": "2023-10-08T17:59:01.311694Z",
     "iopub.status.busy": "2023-10-08T17:59:01.311256Z",
     "iopub.status.idle": "2023-10-08T17:59:01.320894Z",
     "shell.execute_reply": "2023-10-08T17:59:01.319767Z"
    },
    "slideshow": {
     "slide_type": "subslide"
    }
   },
   "outputs": [],
   "source": [
    "name1 = \"color1\"\n",
    "name2 = \"color2\"\n",
    "print(name1, name2)"
   ]
  },
  {
   "cell_type": "markdown",
   "id": "ae5abf41",
   "metadata": {
    "slideshow": {
     "slide_type": "notes"
    }
   },
   "source": [
    "1. Get a new color from the first person. Add it as a value to a new memory box, swap their index card."
   ]
  },
  {
   "cell_type": "code",
   "execution_count": null,
   "id": "a5224eb3",
   "metadata": {
    "execution": {
     "iopub.execute_input": "2023-10-08T17:59:01.326980Z",
     "iopub.status.busy": "2023-10-08T17:59:01.326485Z",
     "iopub.status.idle": "2023-10-08T17:59:01.332363Z",
     "shell.execute_reply": "2023-10-08T17:59:01.331368Z"
    },
    "slideshow": {
     "slide_type": "fragment"
    }
   },
   "outputs": [],
   "source": [
    "name1 = \"color3\"\n",
    "print(name1, name2)"
   ]
  },
  {
   "cell_type": "markdown",
   "id": "83631da1",
   "metadata": {
    "slideshow": {
     "slide_type": "notes"
    }
   },
   "source": [
    "1. Force second person to like first person's color. Give them an index card with the same number as first person."
   ]
  },
  {
   "cell_type": "code",
   "execution_count": null,
   "id": "0b685eb4",
   "metadata": {
    "execution": {
     "iopub.execute_input": "2023-10-08T17:59:01.336386Z",
     "iopub.status.busy": "2023-10-08T17:59:01.335840Z",
     "iopub.status.idle": "2023-10-08T17:59:01.340120Z",
     "shell.execute_reply": "2023-10-08T17:59:01.339215Z"
    },
    "slideshow": {
     "slide_type": "fragment"
    }
   },
   "outputs": [],
   "source": [
    "name2 = name1\n",
    "print(name1, name2)"
   ]
  },
  {
   "cell_type": "markdown",
   "id": "afeee7d0",
   "metadata": {
    "slideshow": {
     "slide_type": "notes"
    }
   },
   "source": [
    "1. Second person changes their color, add the value to the boxes and hand them a new index card."
   ]
  },
  {
   "cell_type": "code",
   "execution_count": null,
   "id": "3328f668",
   "metadata": {
    "execution": {
     "iopub.execute_input": "2023-10-08T17:59:01.344190Z",
     "iopub.status.busy": "2023-10-08T17:59:01.343854Z",
     "iopub.status.idle": "2023-10-08T17:59:01.349628Z",
     "shell.execute_reply": "2023-10-08T17:59:01.348228Z"
    },
    "slideshow": {
     "slide_type": "fragment"
    }
   },
   "outputs": [],
   "source": [
    "name2 = \"color4\"\n",
    "print(name1, name2)"
   ]
  },
  {
   "cell_type": "markdown",
   "id": "5bc3fba8",
   "metadata": {
    "slideshow": {
     "slide_type": "subslide"
    }
   },
   "source": [
    "# Python Tutor\n",
    "\n",
    "We're going to use a new, very useful tool to help us visualize variables, scope, and references (today's topic): [Python Tutor](http://pythontutor.com)\n",
    "\n",
    "Let's look at those 2 `add_num` examples in Python Tutor:\n",
    "\n",
    "[First example](https://pythontutor.com/render.html#code=def%20add_one%28num%29%3A%0A%20%20%20%20num%20%3D%20num%20%2B%201%0A%20%20%20%20%0Ax%20%3D%205%0Aadd_one%28x%29%0Aadd_one%28x%29%0Aprint%28x%29&cumulative=false&curInstr=0&heapPrimitives=nevernest&mode=display&origin=opt-frontend.js&py=311&rawInputLstJSON=%5B%5D&textReferences=false)\n",
    "\n",
    "[Second example](https://pythontutor.com/render.html#code=def%20add_one%28x%29%3A%0A%20%20%20%20x%20%3D%20x%20%2B%201%0A%20%20%20%20%0Ax%20%3D%205%0Aadd_one%28x%29%0Aadd_one%28x%29%0Aprint%28x%29&cumulative=false&curInstr=0&heapPrimitives=nevernest&mode=display&origin=opt-frontend.js&py=311&rawInputLstJSON=%5B%5D&textReferences=false)\n"
   ]
  },
  {
   "cell_type": "markdown",
   "id": "7214b152",
   "metadata": {
    "slideshow": {
     "slide_type": "subslide"
    }
   },
   "source": [
    "Let's look one more time, except this time we'll have Python Tutor show the references explicitly:\n",
    "\n",
    "[First example](https://pythontutor.com/render.html#code=def%20add_one%28num%29%3A%0A%20%20%20%20num%20%3D%20num%20%2B%201%0A%20%20%20%20%0Ax%20%3D%205%0Aadd_one%28x%29%0Aadd_one%28x%29%0Aprint%28x%29&cumulative=false&curInstr=0&heapPrimitives=true&mode=display&origin=opt-frontend.js&py=311&rawInputLstJSON=%5B%5D&textReferences=false)"
   ]
  },
  {
   "cell_type": "markdown",
   "id": "d89ab9e8",
   "metadata": {
    "slideshow": {
     "slide_type": "subslide"
    }
   },
   "source": [
    "All variables in Python are references. (This is not true in all programming languages).\n",
    "\n",
    "* When a variable is assigned to (`=`), it is changed to refer to a different value. \n",
    "  * i.e. it \"gets a new piece of paper with a new number on it\".\n",
    "* Assignment does **not** change the original value itself. \n",
    "  * i.e. it does not \"change the value in the original box\".\n",
    "* In some cases, multiple variables can **reference** the same value\n",
    "  * i.e. their pieces of paper will have the same number written on them."
   ]
  },
  {
   "cell_type": "markdown",
   "id": "206d97bd",
   "metadata": {
    "slideshow": {
     "slide_type": "slide"
    }
   },
   "source": [
    "# This is confusing, why do we care?"
   ]
  },
  {
   "cell_type": "markdown",
   "id": "1478b801",
   "metadata": {
    "slideshow": {
     "slide_type": "notes"
    }
   },
   "source": [
    "1. Clear out memory boxes, take back index cards.\n",
    "1. Ask first volunteer for their 2 favorite colors, add a list to a memory box, hand them an index card with the number of the box used.\n",
    "2. Repeat for volunteer 2, require different colors."
   ]
  },
  {
   "cell_type": "code",
   "execution_count": null,
   "id": "091d0014",
   "metadata": {
    "execution": {
     "iopub.execute_input": "2023-10-08T17:59:01.354883Z",
     "iopub.status.busy": "2023-10-08T17:59:01.353992Z",
     "iopub.status.idle": "2023-10-08T17:59:01.358973Z",
     "shell.execute_reply": "2023-10-08T17:59:01.357807Z"
    },
    "slideshow": {
     "slide_type": "subslide"
    }
   },
   "outputs": [],
   "source": [
    "name1 = [\"color1\", \"color2\"]\n",
    "name2 = [\"color3\", \"color4\"]\n",
    "print(name1, name2)"
   ]
  },
  {
   "cell_type": "markdown",
   "id": "e4ee9b24",
   "metadata": {
    "slideshow": {
     "slide_type": "notes"
    }
   },
   "source": [
    "1. Make first person pick 2 new colors, create a new list in a new box, and swap their index card."
   ]
  },
  {
   "cell_type": "code",
   "execution_count": null,
   "id": "47c65e7f",
   "metadata": {
    "execution": {
     "iopub.execute_input": "2023-10-08T17:59:01.364230Z",
     "iopub.status.busy": "2023-10-08T17:59:01.363463Z",
     "iopub.status.idle": "2023-10-08T17:59:01.369087Z",
     "shell.execute_reply": "2023-10-08T17:59:01.368240Z"
    },
    "slideshow": {
     "slide_type": "fragment"
    }
   },
   "outputs": [],
   "source": [
    "name1 = [\"color5\", \"color6\"]\n",
    "print(name1, name2)"
   ]
  },
  {
   "cell_type": "markdown",
   "id": "bb81e8ef",
   "metadata": {
    "slideshow": {
     "slide_type": "notes"
    }
   },
   "source": [
    "1. Force second person to like first person's colors. Give them an index card with the same number as the first person."
   ]
  },
  {
   "cell_type": "code",
   "execution_count": null,
   "id": "da512c23",
   "metadata": {
    "execution": {
     "iopub.execute_input": "2023-10-08T17:59:01.375497Z",
     "iopub.status.busy": "2023-10-08T17:59:01.374764Z",
     "iopub.status.idle": "2023-10-08T17:59:01.381468Z",
     "shell.execute_reply": "2023-10-08T17:59:01.380618Z"
    },
    "slideshow": {
     "slide_type": "fragment"
    }
   },
   "outputs": [],
   "source": [
    "name2 = name1\n",
    "print(name1, name2)"
   ]
  },
  {
   "cell_type": "markdown",
   "id": "ef938438",
   "metadata": {
    "slideshow": {
     "slide_type": "notes"
    }
   },
   "source": [
    "1. Update list in place, notice how both people's colors are updated."
   ]
  },
  {
   "cell_type": "code",
   "execution_count": null,
   "id": "ad8d3c77",
   "metadata": {
    "execution": {
     "iopub.execute_input": "2023-10-08T17:59:01.385487Z",
     "iopub.status.busy": "2023-10-08T17:59:01.385099Z",
     "iopub.status.idle": "2023-10-08T17:59:01.390164Z",
     "shell.execute_reply": "2023-10-08T17:59:01.389346Z"
    },
    "slideshow": {
     "slide_type": "fragment"
    }
   },
   "outputs": [],
   "source": [
    "name2[0] = \"color7\"\n",
    "print(name1, name2)"
   ]
  },
  {
   "cell_type": "markdown",
   "id": "4e6a99b4",
   "metadata": {
    "slideshow": {
     "slide_type": "slide"
    }
   },
   "source": [
    "# This is confusing, why do we care?\n",
    "\n",
    "Consider these two code snippets:"
   ]
  },
  {
   "cell_type": "code",
   "execution_count": null,
   "id": "f593da98",
   "metadata": {
    "execution": {
     "iopub.execute_input": "2023-10-08T17:59:01.395035Z",
     "iopub.status.busy": "2023-10-08T17:59:01.394615Z",
     "iopub.status.idle": "2023-10-08T17:59:01.399802Z",
     "shell.execute_reply": "2023-10-08T17:59:01.398993Z"
    }
   },
   "outputs": [],
   "source": [
    "a = 1\n",
    "b = a\n",
    "a = a + 1\n",
    "print(f\"{a=} {b=}\")"
   ]
  },
  {
   "cell_type": "code",
   "execution_count": null,
   "id": "a319d9b6",
   "metadata": {
    "execution": {
     "iopub.execute_input": "2023-10-08T17:59:01.404336Z",
     "iopub.status.busy": "2023-10-08T17:59:01.403605Z",
     "iopub.status.idle": "2023-10-08T17:59:01.408618Z",
     "shell.execute_reply": "2023-10-08T17:59:01.407594Z"
    }
   },
   "outputs": [],
   "source": [
    "a = [1, 2, 3]\n",
    "b = a\n",
    "a[0] = 4\n",
    "print(f\"{a=} {b=}\")"
   ]
  },
  {
   "cell_type": "markdown",
   "id": "916e4713",
   "metadata": {
    "slideshow": {
     "slide_type": "subslide"
    }
   },
   "source": [
    "Another surprising example:"
   ]
  },
  {
   "cell_type": "code",
   "execution_count": null,
   "id": "486f8646",
   "metadata": {
    "execution": {
     "iopub.execute_input": "2023-10-08T17:59:01.414526Z",
     "iopub.status.busy": "2023-10-08T17:59:01.413976Z",
     "iopub.status.idle": "2023-10-08T17:59:01.419926Z",
     "shell.execute_reply": "2023-10-08T17:59:01.418993Z"
    }
   },
   "outputs": [],
   "source": [
    "def add_one(num):\n",
    "    num = num + 1\n",
    "    print(f\"inside add_one: {num=}\")\n",
    "\n",
    "a = 1\n",
    "add_one(a)\n",
    "print(f\"global scope {a=}\")"
   ]
  },
  {
   "cell_type": "code",
   "execution_count": null,
   "id": "eb78fbfe",
   "metadata": {
    "execution": {
     "iopub.execute_input": "2023-10-08T17:59:01.425624Z",
     "iopub.status.busy": "2023-10-08T17:59:01.424546Z",
     "iopub.status.idle": "2023-10-08T17:59:01.430478Z",
     "shell.execute_reply": "2023-10-08T17:59:01.429633Z"
    }
   },
   "outputs": [],
   "source": [
    "def add_one(nums):\n",
    "    nums[0] = nums[0] + 1\n",
    "    print(f\"inside add_one: {nums=}\")\n",
    "\n",
    "a = [1]\n",
    "add_one(a)\n",
    "print(f\"global scope {a=}\")"
   ]
  },
  {
   "cell_type": "markdown",
   "id": "76fafa05",
   "metadata": {
    "slideshow": {
     "slide_type": "subslide"
    }
   },
   "source": [
    "Understanding references is key to understanding **why** this code behaves the way it does. \n",
    "\n",
    "This behavior is a **very** common source of confusion."
   ]
  },
  {
   "cell_type": "markdown",
   "id": "9ed164e2",
   "metadata": {
    "slideshow": {
     "slide_type": "slide"
    }
   },
   "source": [
    "# Side note: Mutable vs. Immutable\n",
    "\n",
    "All types in Python can be classified as **mutable** or **immutable**.\n",
    "\n",
    "* The value of **mutable** types can change.\n",
    "* The value of **immutable** types can never change.\n",
    "\n",
    "This may seems surprising, but most of the data types we've looked at so far are **immutable**.\n",
    "\n",
    "* immutable: `int`, `float`, `bool`, `str`, `tuple`\n",
    "* mutable: `list`"
   ]
  },
  {
   "cell_type": "markdown",
   "id": "d339b554",
   "metadata": {
    "slideshow": {
     "slide_type": "subslide"
    }
   },
   "source": [
    "Let's walk through a few code examples and talk in detail about what is happening to references vs. values on each line."
   ]
  },
  {
   "cell_type": "code",
   "execution_count": null,
   "id": "f8c40507",
   "metadata": {
    "execution": {
     "iopub.execute_input": "2023-10-08T17:59:01.434939Z",
     "iopub.status.busy": "2023-10-08T17:59:01.434613Z",
     "iopub.status.idle": "2023-10-08T17:59:01.438210Z",
     "shell.execute_reply": "2023-10-08T17:59:01.437502Z"
    },
    "slideshow": {
     "slide_type": "subslide"
    }
   },
   "outputs": [],
   "source": [
    "a = 1\n",
    "b = 1\n",
    "a = 2"
   ]
  },
  {
   "cell_type": "markdown",
   "id": "30d14d29",
   "metadata": {},
   "source": [
    "On line 1, `a` refers to value `1`.\n",
    "\n",
    "On line 2, `b` refers to value `1`.\n",
    "\n",
    "On line 3, `a` is updated to refer to value `2`, instead of referring to value `1`.\n",
    "\n",
    "We **didn't** change the value `1` to `2`. We changed `a` to refer to a different value. `ints` are immutable, we can't change them.\n",
    "\n",
    "[Python Tutor link](https://pythontutor.com/render.html#code=a%20%3D%201%0Ab%20%3D%201%0Aa%20%3D%202&cumulative=false&curInstr=0&heapPrimitives=true&mode=display&origin=opt-frontend.js&py=311&rawInputLstJSON=%5B%5D&textReferences=false)"
   ]
  },
  {
   "cell_type": "code",
   "execution_count": null,
   "id": "608b58da",
   "metadata": {
    "execution": {
     "iopub.execute_input": "2023-10-08T17:59:01.441765Z",
     "iopub.status.busy": "2023-10-08T17:59:01.441430Z",
     "iopub.status.idle": "2023-10-08T17:59:01.445231Z",
     "shell.execute_reply": "2023-10-08T17:59:01.444568Z"
    },
    "slideshow": {
     "slide_type": "subslide"
    }
   },
   "outputs": [],
   "source": [
    "a = 1\n",
    "b = a\n",
    "a = a + 1\n",
    "print(f\"{a=} {b=}\")"
   ]
  },
  {
   "cell_type": "markdown",
   "id": "ed003d54",
   "metadata": {},
   "source": [
    "On line 1, `a` refers to value `1`.\n",
    "\n",
    "On line 2, `b` refers to the same value as `a`: `1`.\n",
    "\n",
    "`b` does **not** refer to `a`. It refers to the value `1`.\n",
    "\n",
    "On line 3, `a` is changed to refer to the value `2`. \n",
    "\n",
    "We didn't update the value `1`, we only updated `a`'s reference. `b` still refers to the value `1`.\n",
    "\n",
    "[Python Tutor link](https://pythontutor.com/render.html#code=a%20%3D%201%0Ab%20%3D%20a%0Aa%20%3D%20a%20%2B%201%0Aprint%28f%22%7Ba%3D%7D%20%7Bb%3D%7D%22%29&cumulative=false&curInstr=0&heapPrimitives=true&mode=display&origin=opt-frontend.js&py=311&rawInputLstJSON=%5B%5D&textReferences=false)"
   ]
  },
  {
   "cell_type": "code",
   "execution_count": null,
   "id": "2e3bf01c",
   "metadata": {
    "execution": {
     "iopub.execute_input": "2023-10-08T17:59:01.448742Z",
     "iopub.status.busy": "2023-10-08T17:59:01.448454Z",
     "iopub.status.idle": "2023-10-08T17:59:01.452063Z",
     "shell.execute_reply": "2023-10-08T17:59:01.451379Z"
    },
    "slideshow": {
     "slide_type": "skip"
    }
   },
   "outputs": [],
   "source": [
    "a = 1\n",
    "b = a\n",
    "a = a + 1\n",
    "print(f\"{a=} {b=}\")"
   ]
  },
  {
   "cell_type": "markdown",
   "id": "0aa3f06e",
   "metadata": {
    "slideshow": {
     "slide_type": "skip"
    }
   },
   "source": [
    "## Or, another way: \n",
    "\n",
    "On line 1, `a` is set as a name for `1`.\n",
    "\n",
    "On line 2, `b` is set as a name for `1`.\n",
    "\n",
    "`a` and `b` are both names for `1`, but otherwise they aren't connected.\n",
    "\n",
    "On line 3, we change `a` to be a name for `2`. It is no longer a name for `1`.\n",
    "\n",
    "We didn't change the value `1`, we only removed `a` as a name for `1` and added it as a name for `2`. `b` continued to be a name for `1`."
   ]
  },
  {
   "cell_type": "code",
   "execution_count": null,
   "id": "b10c6a69",
   "metadata": {
    "execution": {
     "iopub.execute_input": "2023-10-08T17:59:01.455425Z",
     "iopub.status.busy": "2023-10-08T17:59:01.455162Z",
     "iopub.status.idle": "2023-10-08T17:59:01.459092Z",
     "shell.execute_reply": "2023-10-08T17:59:01.458339Z"
    },
    "slideshow": {
     "slide_type": "subslide"
    }
   },
   "outputs": [],
   "source": [
    "a = [1, 2, 3]\n",
    "b = a\n",
    "a[0] = 4\n",
    "print(f\"{a=} {b=}\")"
   ]
  },
  {
   "cell_type": "markdown",
   "id": "4d4e0de3",
   "metadata": {},
   "source": [
    "Lists **appear to** behave differently. Lists are **mutable**. We can change the value of a list.\n",
    "\n",
    "On line 1, `a` refers to a list `[1,2,3]`\n",
    "\n",
    "On line 2, `b` refers to the same list which `a` refers to.\n",
    "\n",
    "On line 3, we modify the list itself! We're changing a value by assigning to an index in the list, we're not changing `a`'s reference.\n",
    "\n",
    "Since `a` and `b` refer to the same list value, and we modified that list value, both `a` and `b` will reflect the change made to the list.\n",
    "\n",
    "[Python Tutor link](https://pythontutor.com/visualize.html#code=a%20%3D%20%5B1,%202,%203%5D%0Ab%20%3D%20a%0Aa%5B0%5D%20%3D%204%0A&cumulative=false&curInstr=0&heapPrimitives=true&mode=display&origin=opt-frontend.js&py=3&rawInputLstJSON=%5B%5D&textReferences=false)\n",
    "\n"
   ]
  },
  {
   "cell_type": "code",
   "execution_count": null,
   "id": "a3733299",
   "metadata": {
    "execution": {
     "iopub.execute_input": "2023-10-08T17:59:01.462683Z",
     "iopub.status.busy": "2023-10-08T17:59:01.462405Z",
     "iopub.status.idle": "2023-10-08T17:59:01.466429Z",
     "shell.execute_reply": "2023-10-08T17:59:01.465833Z"
    },
    "slideshow": {
     "slide_type": "skip"
    }
   },
   "outputs": [],
   "source": [
    "a = [1, 2, 3]\n",
    "b = a\n",
    "a[0] = 4\n",
    "print(f\"{a=} {b=}\")"
   ]
  },
  {
   "cell_type": "markdown",
   "id": "7ee0ec6c",
   "metadata": {
    "slideshow": {
     "slide_type": "skip"
    }
   },
   "source": [
    "## Or, another way:\n",
    "\n",
    "On line 1, we create an object: a list `[1,2,3]`. We set `a` as a name for this list.\n",
    "\n",
    "On line 2, `b` is also set as a name for the same list.\n",
    "\n",
    "On line 3, we modify the list itself! We're changing the object by assigning to one of the indices. We're not changing the name `a`.\n",
    "\n",
    "Since `a` and `b` are 2 names for the same list, and we modified that list object, both names `a` and `b` will reflect the change made to the list."
   ]
  },
  {
   "cell_type": "code",
   "execution_count": null,
   "id": "1d9b57e5",
   "metadata": {
    "execution": {
     "iopub.execute_input": "2023-10-08T17:59:01.470142Z",
     "iopub.status.busy": "2023-10-08T17:59:01.469722Z",
     "iopub.status.idle": "2023-10-08T17:59:01.473666Z",
     "shell.execute_reply": "2023-10-08T17:59:01.473037Z"
    },
    "slideshow": {
     "slide_type": "subslide"
    }
   },
   "outputs": [],
   "source": [
    "a = [1, 2, 3]\n",
    "b = a\n",
    "a = [4, 5, 6]\n",
    "a[0] = 9\n",
    "print(f\"{a=} {b=}\")"
   ]
  },
  {
   "cell_type": "markdown",
   "id": "aa763a29",
   "metadata": {},
   "source": [
    "This example highlights the difference between changing a variable's reference, and mutating the value it refers to.\n",
    "\n",
    "On line 1, `a` refers to a list `[1,2,3]`\n",
    "\n",
    "On line 2, `b` refers to the same list which `a` refers to.\n",
    "\n",
    "On line 3, we change `a` to refer to a new list `[4,5,6]` by assigning to `a`. We have not modified the original list value that `a` referred to. `a` and `b` now refer to different lists.\n",
    "\n",
    "On line 4, we modify the list value that `a` refers to. `b`'s list is unchanged.\n",
    "\n",
    "[Python tutor link](https://pythontutor.com/visualize.html#code=a%20%3D%20%5B1,%202,%203%5D%0Ab%20%3D%20a%0Aa%20%3D%20%5B4,%205,%206%5D%0Aa%5B0%5D%20%3D%209&cumulative=false&curInstr=0&heapPrimitives=true&mode=display&origin=opt-frontend.js&py=3&rawInputLstJSON=%5B%5D&textReferences=false)"
   ]
  },
  {
   "cell_type": "code",
   "execution_count": null,
   "id": "308e1d4a",
   "metadata": {
    "execution": {
     "iopub.execute_input": "2023-10-08T17:59:01.476976Z",
     "iopub.status.busy": "2023-10-08T17:59:01.476666Z",
     "iopub.status.idle": "2023-10-08T17:59:01.480408Z",
     "shell.execute_reply": "2023-10-08T17:59:01.479787Z"
    },
    "slideshow": {
     "slide_type": "skip"
    }
   },
   "outputs": [],
   "source": [
    "a = [1, 2, 3]\n",
    "b = a\n",
    "a = [4, 5, 6]\n",
    "a[0] = 9\n",
    "print(f\"{a=} {b=}\")"
   ]
  },
  {
   "cell_type": "markdown",
   "id": "af46dc8e",
   "metadata": {
    "slideshow": {
     "slide_type": "skip"
    }
   },
   "source": [
    "## Or, another way:\n",
    "\n",
    "On line 1, we create an object: a list `[1,2,3]`. We set `a` as a name for this list.\n",
    "\n",
    "On line 2, `b` is set as a name for the same list.\n",
    "\n",
    "On line 3, we create a new object: a list `[4, 5, 6]`. We set `a` as a name for this list. As a result, `a` is no longer a name for the first list, `[1,2,3]`. `a` and `b` are now names for different list objects.\n",
    "\n",
    "On line 4, we modify the new list object, which `a` is a name for. The list which `b` is a name for is unchanged."
   ]
  },
  {
   "cell_type": "markdown",
   "id": "9ebdf1ec",
   "metadata": {
    "slideshow": {
     "slide_type": "subslide"
    }
   },
   "source": [
    "\n",
    "When arguments are passed to functions, the references (not the values!) are copied."
   ]
  },
  {
   "cell_type": "code",
   "execution_count": null,
   "id": "160611b8",
   "metadata": {
    "execution": {
     "iopub.execute_input": "2023-10-08T17:59:01.484083Z",
     "iopub.status.busy": "2023-10-08T17:59:01.483753Z",
     "iopub.status.idle": "2023-10-08T17:59:01.487776Z",
     "shell.execute_reply": "2023-10-08T17:59:01.487211Z"
    }
   },
   "outputs": [],
   "source": [
    "def add_one(num):\n",
    "    num = num + 1    \n",
    "    print(f\"inside add_one: {num=}\")\n",
    "\n",
    "a = 1\n",
    "add_one(a)\n",
    "print(f\"global scope {a=}\")"
   ]
  },
  {
   "cell_type": "markdown",
   "id": "b8b235cf",
   "metadata": {},
   "source": [
    "When the code reaches line 2, `a` is a reference to value `1`, and `num` is also a reference to the value `1`.\n",
    "\n",
    "Other than referring to the same value, `a` and `num` are not connected.\n",
    "\n",
    "After line 2 executes, `num` is updated to refer to value `2`, and `a` continues to refer to value `1`.\n",
    "\n",
    "[Python tutor link](https://pythontutor.com/visualize.html#code=def%20add_one%28num%29%3A%0A%20%20%20%20num%20%3D%20num%20%2B%201%0A%20%20%20%20print%28%22inside%20add_one%3A%20%22%20%2B%20str%28num%29%29%0A%0Aa%20%3D%201%0Aadd_one%28a%29%0Aprint%28f%22global%20scope%3A%20%22%20%2B%20str%28a%29%29&cumulative=false&curInstr=0&heapPrimitives=true&mode=display&origin=opt-frontend.js&py=3&rawInputLstJSON=%5B%5D&textReferences=false)\n"
   ]
  },
  {
   "cell_type": "code",
   "execution_count": null,
   "id": "b3e29588",
   "metadata": {
    "execution": {
     "iopub.execute_input": "2023-10-08T17:59:01.491056Z",
     "iopub.status.busy": "2023-10-08T17:59:01.490762Z",
     "iopub.status.idle": "2023-10-08T17:59:01.494956Z",
     "shell.execute_reply": "2023-10-08T17:59:01.494423Z"
    },
    "slideshow": {
     "slide_type": "skip"
    }
   },
   "outputs": [],
   "source": [
    "def add_one(num):\n",
    "    num = num + 1    \n",
    "    print(f\"inside add_one: {num=}\")\n",
    "\n",
    "a = 1\n",
    "add_one(a)\n",
    "print(f\"global scope {a=}\")"
   ]
  },
  {
   "cell_type": "markdown",
   "id": "58eacfde",
   "metadata": {
    "slideshow": {
     "slide_type": "skip"
    }
   },
   "source": [
    "## Or, another way:\n",
    "\n",
    "When the code reaches line 2, `a` is a name for `1`. `num` is also a name for `1`.\n",
    "\n",
    "Other than being names for the same object, `a` and `num` are not connected.\n",
    "\n",
    "After line 2 executes, `num` becomes a name for `2`. `a` continues to be a name for `1`."
   ]
  },
  {
   "cell_type": "markdown",
   "id": "47271e4c",
   "metadata": {
    "slideshow": {
     "slide_type": "subslide"
    }
   },
   "source": [
    "If a **value** is modified inside a function, references from outside the function will see the change."
   ]
  },
  {
   "cell_type": "code",
   "execution_count": null,
   "id": "1bf47cd9",
   "metadata": {
    "execution": {
     "iopub.execute_input": "2023-10-08T17:59:01.498044Z",
     "iopub.status.busy": "2023-10-08T17:59:01.497794Z",
     "iopub.status.idle": "2023-10-08T17:59:01.501658Z",
     "shell.execute_reply": "2023-10-08T17:59:01.501091Z"
    }
   },
   "outputs": [],
   "source": [
    "def add_one(nums):\n",
    "    nums[0] = nums[0] + 1\n",
    "    print(f\"inside add_one: {nums=}\")\n",
    "\n",
    "a = [1]\n",
    "add_one(a)\n",
    "print(f\"global scope {a=}\")"
   ]
  },
  {
   "cell_type": "markdown",
   "id": "681545e6",
   "metadata": {},
   "source": [
    "When the code reaches line 2, both `a` and `nums` refer to the same list `[0]`.\n",
    "\n",
    "After line 2 executes, the list value has changed. Because `a` and `nums` both refer to it, they both see the change.\n",
    "\n",
    "[Python tutor link](https://pythontutor.com/visualize.html#code=def%20add_one%28nums%29%3A%0A%20%20%20%20nums%5B0%5D%20%3D%20nums%5B0%5D%20%2B%201%0A%20%20%20%20print%28%22inside%20add_one%3A%20%22%20%2B%20str%28nums%29%29%0A%0Aa%20%3D%20%5B1%5D%0Aadd_one%28a%29%0Aprint%28f%22global%20scope%3A%20%22%20%2B%20str%28a%29%29&cumulative=false&curInstr=0&heapPrimitives=true&mode=display&origin=opt-frontend.js&py=3&rawInputLstJSON=%5B%5D&textReferences=false)\n"
   ]
  },
  {
   "cell_type": "code",
   "execution_count": null,
   "id": "9a64be84",
   "metadata": {
    "execution": {
     "iopub.execute_input": "2023-10-08T17:59:01.504571Z",
     "iopub.status.busy": "2023-10-08T17:59:01.504324Z",
     "iopub.status.idle": "2023-10-08T17:59:01.508861Z",
     "shell.execute_reply": "2023-10-08T17:59:01.507861Z"
    },
    "slideshow": {
     "slide_type": "skip"
    }
   },
   "outputs": [],
   "source": [
    "def add_one(nums):\n",
    "    nums[0] = nums[0] + 1\n",
    "    print(f\"inside add_one: {nums=}\")\n",
    "\n",
    "a = [1]\n",
    "add_one(a)\n",
    "print(f\"global scope {a=}\")"
   ]
  },
  {
   "cell_type": "markdown",
   "id": "a8d40279",
   "metadata": {
    "slideshow": {
     "slide_type": "skip"
    }
   },
   "source": [
    "## Or, another way:\n",
    "\n",
    "When the code reaches line 2, both `a` and `nums` are names for the same object - the list `[0]`.\n",
    "\n",
    "After line 2 executes, the list value has changed. Because `a` and `nums` are both names for it, they both see the change."
   ]
  },
  {
   "cell_type": "markdown",
   "id": "3a5a2a46",
   "metadata": {
    "slideshow": {
     "slide_type": "subslide"
    }
   },
   "source": [
    "# Another way to think about this\n",
    "\n",
    "If the word \"references\" is confusing, you can also think about a variable as a \"name\" for a value.\n",
    "\n",
    "Assignment (`=`) binds (or assigns) a name to a value. \n",
    "\n",
    "Passing an argument into a function also binds a name to a value. The name is the name of the function's parameter.\n",
    "\n",
    "One value might have multiple names at a time.\n",
    "\n",
    "When you assign (`=`), the value isn't copied. You've added a new name for the value."
   ]
  },
  {
   "cell_type": "markdown",
   "id": "4902b356",
   "metadata": {
    "slideshow": {
     "slide_type": "slide"
    }
   },
   "source": [
    "# copy\n",
    "\n",
    "Sometimes you want to make changes to a value, but keep those changes from being seen by any other reference to that value. In these cases, you can copy the value before modifying it.\n",
    "\n",
    "Python provides some tools in the `copy` [module](https://docs.python.org/3/library/copy.html).\n",
    "\n",
    "* `copy.copy()` will do a **shallow** copy - copy the outer value only\n",
    "* `copy.deepcopy()` will do a **deep** copy - copy all nested values. This only comes into play when you have things like nested lists.\n"
   ]
  },
  {
   "cell_type": "code",
   "execution_count": null,
   "id": "669cb639",
   "metadata": {
    "execution": {
     "iopub.execute_input": "2023-10-08T17:59:01.512417Z",
     "iopub.status.busy": "2023-10-08T17:59:01.512071Z",
     "iopub.status.idle": "2023-10-08T17:59:01.517096Z",
     "shell.execute_reply": "2023-10-08T17:59:01.516027Z"
    }
   },
   "outputs": [],
   "source": [
    "import copy\n",
    "a = [1,2,3]\n",
    "b = copy.copy(a)\n",
    "b[0] = 9\n",
    "print(f\"{a=} {b=}\")"
   ]
  },
  {
   "cell_type": "markdown",
   "id": "0fcf458b",
   "metadata": {
    "slideshow": {
     "slide_type": "-"
    }
   },
   "source": [
    "[Python Tutor link](https://pythontutor.com/render.html#code=import%20copy%0Aa%20%3D%20%5B1,2,3%5D%0Ab%20%3D%20copy.copy%28a%29%0Ab%5B0%5D%20%3D%209%0Aprint%28f%22%7Ba%3D%7D%20%7Bb%3D%7D%22%29&cumulative=false&curInstr=0&heapPrimitives=true&mode=display&origin=opt-frontend.js&py=311&rawInputLstJSON=%5B%5D&textReferences=false)"
   ]
  },
  {
   "cell_type": "markdown",
   "id": "b8a8adad",
   "metadata": {
    "slideshow": {
     "slide_type": "subslide"
    }
   },
   "source": [
    "This is most often useful in functions, where you don't want the function to mess with the caller's values."
   ]
  },
  {
   "cell_type": "code",
   "execution_count": null,
   "id": "8072fa7b",
   "metadata": {
    "execution": {
     "iopub.execute_input": "2023-10-08T17:59:01.520843Z",
     "iopub.status.busy": "2023-10-08T17:59:01.520524Z",
     "iopub.status.idle": "2023-10-08T17:59:01.525764Z",
     "shell.execute_reply": "2023-10-08T17:59:01.524765Z"
    },
    "slideshow": {
     "slide_type": "-"
    }
   },
   "outputs": [],
   "source": [
    "def add_one(nums):\n",
    "    newlist = copy.copy(nums)\n",
    "    for i in range(len(newlist)):\n",
    "        newlist[i] = newlist[i] + 1\n",
    "    return newlist\n",
    "\n",
    "a = [1,2,3]\n",
    "b = add_one(a)\n",
    "print(f\"{a=} {b=}\")"
   ]
  },
  {
   "cell_type": "markdown",
   "id": "edf61d6a",
   "metadata": {},
   "source": [
    "[Python Tutor link](https://pythontutor.com/render.html#code=import%20copy%0Adef%20add_one%28nums%29%3A%0A%20%20%20%20newlist%20%3D%20copy.copy%28nums%29%0A%20%20%20%20for%20i%20in%20range%28len%28newlist%29%29%3A%0A%20%20%20%20%20%20%20%20newlist%5Bi%5D%20%3D%20newlist%5Bi%5D%20%2B%201%0A%20%20%20%20return%20newlist%0A%0Aa%20%3D%20%5B1,2,3%5D%0Ab%20%3D%20add_one%28a%29%0Aprint%28f%22%7Ba%3D%7D%20%7Bb%3D%7D%22%29&cumulative=false&curInstr=0&heapPrimitives=true&mode=display&origin=opt-frontend.js&py=311&rawInputLstJSON=%5B%5D&textReferences=false)"
   ]
  },
  {
   "cell_type": "markdown",
   "id": "4e1f12e1",
   "metadata": {
    "slideshow": {
     "slide_type": "slide"
    }
   },
   "source": [
    "# Puzzles\n",
    "\n",
    "[\"Reference puzzles\" on repl.it](https://replit.com/team/cosi-10a-fall23/Reference-puzzles)"
   ]
  }
 ],
 "metadata": {
  "celltoolbar": "Slideshow",
  "kernelspec": {
   "display_name": "Python 3 (ipykernel)",
   "language": "python",
   "name": "python3"
  },
  "language_info": {
   "codemirror_mode": {
    "name": "ipython",
    "version": 3
   },
   "file_extension": ".py",
   "mimetype": "text/x-python",
   "name": "python",
   "nbconvert_exporter": "python",
   "pygments_lexer": "ipython3",
   "version": "3.10.9"
  }
 },
 "nbformat": 4,
 "nbformat_minor": 5
}
