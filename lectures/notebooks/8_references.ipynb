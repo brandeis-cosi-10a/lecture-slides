{
 "cells": [
  {
   "cell_type": "markdown",
   "id": "50b20b2a",
   "metadata": {
    "slideshow": {
     "slide_type": "slide"
    }
   },
   "source": [
    "# References\n",
    "\n",
    "<style>\n",
    "section.present > section.present { \n",
    "    max-height: 90%; \n",
    "    overflow-y: scroll;\n",
    "}\n",
    "</style>\n",
    "\n",
    "<small><a href=\"https://colab.research.google.com/github/brandeis-jdelfino/cosi-10a/blob/main/lectures/notebooks/8_references.ipynb\">Link to interactive slides on Google Colab</a></small>"
   ]
  },
  {
   "cell_type": "markdown",
   "id": "9c19c05e",
   "metadata": {
    "slideshow": {
     "slide_type": "slide"
    }
   },
   "source": [
    "# Announcements\n",
    "\n",
    "* PS2 grading has started. \n",
    "   * You will see feedback on individual problems in repl.it as we grade. \n",
    "   * Final grades will be entered into LATTE when grading is complete\n",
    "* PS3 has been posted.\n",
    "   * 4 problems, this time you must do all 4.\n",
    "   * Don't expect an extension if you wait until next week to start.\n",
    "* No quiz tomorrow\n",
    "   * Recitation is still your best place to get practice and help, please attend. It's a great time to start on the problem set and get help (see previous point).\n",
    "   * If you don't have a 4 on all quizzes so far, please retake the questions you missed.\n",
    "* Thursday is Brandeis Monday, no lecture\n",
    "   * Monday office hours schedule will apply"
   ]
  },
  {
   "cell_type": "markdown",
   "id": "49242837",
   "metadata": {
    "slideshow": {
     "slide_type": "slide"
    }
   },
   "source": [
    "# Review: Scope and Arguments\n",
    "\n",
    "What does this print?"
   ]
  },
  {
   "cell_type": "code",
   "execution_count": null,
   "id": "89d93895",
   "metadata": {
    "execution": {
     "iopub.execute_input": "2023-10-10T18:51:38.426816Z",
     "iopub.status.busy": "2023-10-10T18:51:38.426240Z",
     "iopub.status.idle": "2023-10-10T18:51:38.442685Z",
     "shell.execute_reply": "2023-10-10T18:51:38.440879Z"
    }
   },
   "outputs": [],
   "source": [
    "def add_one(num):\n",
    "    num = num + 1\n",
    "    print(f\"inside add_one: {num=}\")\n",
    "    \n",
    "x = 5\n",
    "add_one(x)\n",
    "add_one(x)\n",
    "print(x)"
   ]
  },
  {
   "cell_type": "markdown",
   "id": "63fd6cff",
   "metadata": {
    "slideshow": {
     "slide_type": "subslide"
    }
   },
   "source": [
    "# Review: Scope and Arguments\n",
    "\n",
    "What does this print?"
   ]
  },
  {
   "cell_type": "code",
   "execution_count": null,
   "id": "c4267db3",
   "metadata": {
    "execution": {
     "iopub.execute_input": "2023-10-10T18:51:38.447330Z",
     "iopub.status.busy": "2023-10-10T18:51:38.446928Z",
     "iopub.status.idle": "2023-10-10T18:51:38.455226Z",
     "shell.execute_reply": "2023-10-10T18:51:38.454366Z"
    }
   },
   "outputs": [],
   "source": [
    "def add_one(x):\n",
    "    x = x + 1\n",
    "    print(f\"inside add_one: {x=}\")\n",
    "    \n",
    "x = 5\n",
    "add_one(x)\n",
    "add_one(x)\n",
    "print(x)"
   ]
  },
  {
   "cell_type": "markdown",
   "id": "b797ceec",
   "metadata": {
    "slideshow": {
     "slide_type": "fragment"
    }
   },
   "source": [
    "The `x` in the global scope is not the same as the `x` in `add_one`."
   ]
  },
  {
   "cell_type": "markdown",
   "id": "9ed164e2",
   "metadata": {
    "slideshow": {
     "slide_type": "slide"
    }
   },
   "source": [
    "# Review: Mutable vs. Immutable\n",
    "\n",
    "All types in Python can be classified as **mutable** or **immutable**.\n",
    "\n",
    "* The value of **mutable** types can change.\n",
    "* The value of **immutable** types can never change.\n",
    "\n",
    "This may seems surprising, but most of the data types we've looked at so far are **immutable**.\n",
    "\n",
    "* immutable: `int`, `float`, `bool`, `str`, `tuple`\n",
    "* mutable: `list`"
   ]
  },
  {
   "cell_type": "markdown",
   "id": "f75b31aa",
   "metadata": {
    "slideshow": {
     "slide_type": "slide"
    }
   },
   "source": [
    "# References\n",
    "\n",
    "Confession time: I lied to you in lecture 2 when I explained that a variable was like a \"box\" in which you can store a value.\n",
    "\n",
    "In Python, a variable is actually a **reference to** a value."
   ]
  },
  {
   "cell_type": "markdown",
   "id": "ba6cd89b",
   "metadata": {
    "slideshow": {
     "slide_type": "subslide"
    }
   },
   "source": [
    "## Our mental model so far"
   ]
  },
  {
   "cell_type": "markdown",
   "id": "4ffaae03",
   "metadata": {
    "slideshow": {
     "slide_type": "notes"
    }
   },
   "source": [
    "Drawing on the board: a box labeled `a`, with the value `\"Hello\"` in it"
   ]
  },
  {
   "cell_type": "code",
   "execution_count": null,
   "id": "30f43bcb",
   "metadata": {
    "execution": {
     "iopub.execute_input": "2023-10-10T18:51:38.460845Z",
     "iopub.status.busy": "2023-10-10T18:51:38.460409Z",
     "iopub.status.idle": "2023-10-10T18:51:38.465057Z",
     "shell.execute_reply": "2023-10-10T18:51:38.463973Z"
    }
   },
   "outputs": [],
   "source": [
    "a = \"Hello\""
   ]
  },
  {
   "cell_type": "markdown",
   "id": "85ab67aa",
   "metadata": {
    "slideshow": {
     "slide_type": "subslide"
    }
   },
   "source": [
    "## The way things actually work"
   ]
  },
  {
   "cell_type": "markdown",
   "id": "7ffc4b32",
   "metadata": {
    "slideshow": {
     "slide_type": "notes"
    }
   },
   "source": [
    "Drawing on the board: 6 boxes, numbered 0 through 5. The value \"Hello\" in box 0. A separate box labeled `a`, with an arrow drawn to box 0."
   ]
  },
  {
   "cell_type": "code",
   "execution_count": null,
   "id": "5d93a73f",
   "metadata": {
    "execution": {
     "iopub.execute_input": "2023-10-10T18:51:38.472187Z",
     "iopub.status.busy": "2023-10-10T18:51:38.470956Z",
     "iopub.status.idle": "2023-10-10T18:51:38.476207Z",
     "shell.execute_reply": "2023-10-10T18:51:38.475283Z"
    }
   },
   "outputs": [],
   "source": [
    "a = \"Hello\""
   ]
  },
  {
   "cell_type": "markdown",
   "id": "16d8452b",
   "metadata": {
    "slideshow": {
     "slide_type": "subslide"
    }
   },
   "source": [
    "Think of the computer's memory like a big warehouse, with millions of numbered boxes in it.\n",
    "\n",
    "When you create a variable with a value:\n",
    "1. The computer picks an empty numbered box, and puts the value into it.\n",
    "2. It writes the number of the box down on a piece of paper.\n",
    "3. It hands that piece of paper to your variable\n",
    "4. The variable uses that number to find its value when needed.\n",
    "\n",
    "The piece of paper is a **reference** to a value. The box contains the actual value."
   ]
  },
  {
   "cell_type": "markdown",
   "id": "066e8ecc",
   "metadata": {
    "slideshow": {
     "slide_type": "slide"
    }
   },
   "source": [
    "# 2 Volunteers needed\n",
    "\n",
    "You'll need to share your favorite colors, and hold an index card."
   ]
  },
  {
   "cell_type": "markdown",
   "id": "47614796",
   "metadata": {
    "slideshow": {
     "slide_type": "notes"
    }
   },
   "source": [
    "1. Get 2 volunteers to act as variables\n",
    "2. Ask first volunteer for their favorite color, add it as a string to the memory boxes, hand them an index card with the number of the box used.\n",
    "3. Repeat for volunteer 2, require a different color.\n",
    "4. When we encounter a print, ask each variable to read their value aloud."
   ]
  },
  {
   "cell_type": "code",
   "execution_count": null,
   "id": "255e41da",
   "metadata": {
    "execution": {
     "iopub.execute_input": "2023-10-10T18:51:38.482035Z",
     "iopub.status.busy": "2023-10-10T18:51:38.481191Z",
     "iopub.status.idle": "2023-10-10T18:51:38.487777Z",
     "shell.execute_reply": "2023-10-10T18:51:38.486862Z"
    },
    "slideshow": {
     "slide_type": "subslide"
    }
   },
   "outputs": [],
   "source": [
    "name1 = \"color1\"\n",
    "name2 = \"color2\"\n",
    "print(name1, name2)"
   ]
  },
  {
   "cell_type": "markdown",
   "id": "d4158c85",
   "metadata": {
    "slideshow": {
     "slide_type": "notes"
    }
   },
   "source": [
    "1. Get a new color from the first person. Add it as a value to a new memory box, swap their index card."
   ]
  },
  {
   "cell_type": "code",
   "execution_count": null,
   "id": "59740e14",
   "metadata": {
    "execution": {
     "iopub.execute_input": "2023-10-10T18:51:38.492947Z",
     "iopub.status.busy": "2023-10-10T18:51:38.492539Z",
     "iopub.status.idle": "2023-10-10T18:51:38.497596Z",
     "shell.execute_reply": "2023-10-10T18:51:38.496590Z"
    },
    "slideshow": {
     "slide_type": "fragment"
    }
   },
   "outputs": [],
   "source": [
    "name1 = \"color3\"\n",
    "print(name1, name2)"
   ]
  },
  {
   "cell_type": "markdown",
   "id": "85cee064",
   "metadata": {
    "slideshow": {
     "slide_type": "notes"
    }
   },
   "source": [
    "1. Force second person to like first person's color. Give them an index card with the same number as first person."
   ]
  },
  {
   "cell_type": "code",
   "execution_count": null,
   "id": "22dc1d61",
   "metadata": {
    "execution": {
     "iopub.execute_input": "2023-10-10T18:51:38.503939Z",
     "iopub.status.busy": "2023-10-10T18:51:38.503448Z",
     "iopub.status.idle": "2023-10-10T18:51:38.510722Z",
     "shell.execute_reply": "2023-10-10T18:51:38.509758Z"
    },
    "slideshow": {
     "slide_type": "fragment"
    }
   },
   "outputs": [],
   "source": [
    "name2 = name1\n",
    "print(name1, name2)"
   ]
  },
  {
   "cell_type": "markdown",
   "id": "e0d689be",
   "metadata": {
    "slideshow": {
     "slide_type": "notes"
    }
   },
   "source": [
    "1. Second person changes their color, add the value to the boxes and hand them a new index card."
   ]
  },
  {
   "cell_type": "code",
   "execution_count": null,
   "id": "3ff5bcae",
   "metadata": {
    "execution": {
     "iopub.execute_input": "2023-10-10T18:51:38.515252Z",
     "iopub.status.busy": "2023-10-10T18:51:38.514656Z",
     "iopub.status.idle": "2023-10-10T18:51:38.520782Z",
     "shell.execute_reply": "2023-10-10T18:51:38.519877Z"
    },
    "slideshow": {
     "slide_type": "fragment"
    }
   },
   "outputs": [],
   "source": [
    "name2 = \"color4\"\n",
    "print(name1, name2)"
   ]
  },
  {
   "cell_type": "markdown",
   "id": "8fe6f787",
   "metadata": {
    "slideshow": {
     "slide_type": "notes"
    }
   },
   "source": [
    "No matter what, person 1 can't do anything to change person 2's value."
   ]
  },
  {
   "cell_type": "markdown",
   "id": "d288e936",
   "metadata": {
    "slideshow": {
     "slide_type": "subslide"
    }
   },
   "source": [
    "# Python Tutor\n",
    "\n",
    "We're going to use a new, very useful tool to help us visualize variables, scope, and references (today's topic): [Python Tutor](http://pythontutor.com)\n",
    "\n",
    "Let's look at those 2 `add_one` examples in Python Tutor:\n",
    "\n",
    "[First example](https://pythontutor.com/render.html#code=def%20add_one%28num%29%3A%0A%20%20%20%20num%20%3D%20num%20%2B%201%0A%20%20%20%20%0Ax%20%3D%205%0Aadd_one%28x%29%0Aadd_one%28x%29%0Aprint%28x%29&cumulative=false&curInstr=0&heapPrimitives=nevernest&mode=display&origin=opt-frontend.js&py=311&rawInputLstJSON=%5B%5D&textReferences=false)\n",
    "\n",
    "[Second example](https://pythontutor.com/render.html#code=def%20add_one%28x%29%3A%0A%20%20%20%20x%20%3D%20x%20%2B%201%0A%20%20%20%20%0Ax%20%3D%205%0Aadd_one%28x%29%0Aadd_one%28x%29%0Aprint%28x%29&cumulative=false&curInstr=0&heapPrimitives=nevernest&mode=display&origin=opt-frontend.js&py=311&rawInputLstJSON=%5B%5D&textReferences=false)\n"
   ]
  },
  {
   "cell_type": "markdown",
   "id": "d470d0f8",
   "metadata": {
    "slideshow": {
     "slide_type": "subslide"
    }
   },
   "source": [
    "Let's look one more time, except this time we'll have Python Tutor show the references explicitly:\n",
    "\n",
    "[First example](https://pythontutor.com/render.html#code=def%20add_one%28num%29%3A%0A%20%20%20%20num%20%3D%20num%20%2B%201%0A%20%20%20%20%0Ax%20%3D%205%0Aadd_one%28x%29%0Aadd_one%28x%29%0Aprint%28x%29&cumulative=false&curInstr=0&heapPrimitives=true&mode=display&origin=opt-frontend.js&py=311&rawInputLstJSON=%5B%5D&textReferences=false)"
   ]
  },
  {
   "cell_type": "markdown",
   "id": "d89ab9e8",
   "metadata": {
    "slideshow": {
     "slide_type": "subslide"
    }
   },
   "source": [
    "All variables in Python are references. (This is not true in all programming languages).\n",
    "\n",
    "* When a variable is assigned to (`=`), it is changed to refer to a different value. \n",
    "  * i.e. it \"gets a new piece of paper with a new number on it\".\n",
    "* Assignment does **not** change the original value itself. \n",
    "  * i.e. it does not \"change the value in the original box\".\n",
    "* In some cases, multiple variables can **reference** the same value\n",
    "  * i.e. their pieces of paper will have the same number written on them."
   ]
  },
  {
   "cell_type": "markdown",
   "id": "206d97bd",
   "metadata": {
    "slideshow": {
     "slide_type": "slide"
    }
   },
   "source": [
    "# This is confusing, why do we care?"
   ]
  },
  {
   "cell_type": "markdown",
   "id": "e90b68a7",
   "metadata": {
    "slideshow": {
     "slide_type": "notes"
    }
   },
   "source": [
    "1. Clear out memory boxes, take back index cards.\n",
    "1. Ask first volunteer for their 2 favorite colors, add a list to a memory box, hand them an index card with the number of the box used.\n",
    "2. Repeat for volunteer 2, require different colors."
   ]
  },
  {
   "cell_type": "code",
   "execution_count": null,
   "id": "efc41bd0",
   "metadata": {
    "execution": {
     "iopub.execute_input": "2023-10-10T18:51:38.526407Z",
     "iopub.status.busy": "2023-10-10T18:51:38.525957Z",
     "iopub.status.idle": "2023-10-10T18:51:38.531412Z",
     "shell.execute_reply": "2023-10-10T18:51:38.530467Z"
    },
    "slideshow": {
     "slide_type": "subslide"
    }
   },
   "outputs": [],
   "source": [
    "name1 = [\"color1\", \"color2\"]\n",
    "name2 = [\"color3\", \"color4\"]\n",
    "print(name1, name2)"
   ]
  },
  {
   "cell_type": "markdown",
   "id": "304ce6a0",
   "metadata": {
    "slideshow": {
     "slide_type": "notes"
    }
   },
   "source": [
    "1. Make first person pick 2 new colors, create a new list in a new box, and swap their index card."
   ]
  },
  {
   "cell_type": "code",
   "execution_count": null,
   "id": "04216a0f",
   "metadata": {
    "execution": {
     "iopub.execute_input": "2023-10-10T18:51:38.537671Z",
     "iopub.status.busy": "2023-10-10T18:51:38.536392Z",
     "iopub.status.idle": "2023-10-10T18:51:38.544062Z",
     "shell.execute_reply": "2023-10-10T18:51:38.542852Z"
    },
    "slideshow": {
     "slide_type": "fragment"
    }
   },
   "outputs": [],
   "source": [
    "name1 = [\"color5\", \"color6\"]\n",
    "print(name1, name2)"
   ]
  },
  {
   "cell_type": "markdown",
   "id": "e75eae5b",
   "metadata": {
    "slideshow": {
     "slide_type": "notes"
    }
   },
   "source": [
    "1. Force second person to like first person's colors. Give them an index card with the same number as the first person."
   ]
  },
  {
   "cell_type": "code",
   "execution_count": null,
   "id": "fa5f5d3a",
   "metadata": {
    "execution": {
     "iopub.execute_input": "2023-10-10T18:51:38.548084Z",
     "iopub.status.busy": "2023-10-10T18:51:38.547726Z",
     "iopub.status.idle": "2023-10-10T18:51:38.552953Z",
     "shell.execute_reply": "2023-10-10T18:51:38.551956Z"
    },
    "slideshow": {
     "slide_type": "fragment"
    }
   },
   "outputs": [],
   "source": [
    "name2 = name1\n",
    "print(name1, name2)"
   ]
  },
  {
   "cell_type": "markdown",
   "id": "ea79b944",
   "metadata": {
    "slideshow": {
     "slide_type": "notes"
    }
   },
   "source": [
    "1. Update list in place, notice how both people's colors are updated."
   ]
  },
  {
   "cell_type": "code",
   "execution_count": null,
   "id": "b38ccd2e",
   "metadata": {
    "execution": {
     "iopub.execute_input": "2023-10-10T18:51:38.557676Z",
     "iopub.status.busy": "2023-10-10T18:51:38.557173Z",
     "iopub.status.idle": "2023-10-10T18:51:38.563748Z",
     "shell.execute_reply": "2023-10-10T18:51:38.562709Z"
    },
    "slideshow": {
     "slide_type": "fragment"
    }
   },
   "outputs": [],
   "source": [
    "name2[0] = \"color7\"\n",
    "print(name1, name2)"
   ]
  },
  {
   "cell_type": "markdown",
   "id": "dcf1bf71",
   "metadata": {
    "slideshow": {
     "slide_type": "slide"
    }
   },
   "source": [
    "# This is confusing, why do we care?\n",
    "\n",
    "Consider these two code snippets:"
   ]
  },
  {
   "cell_type": "code",
   "execution_count": null,
   "id": "f593da98",
   "metadata": {
    "execution": {
     "iopub.execute_input": "2023-10-10T18:51:38.569650Z",
     "iopub.status.busy": "2023-10-10T18:51:38.569229Z",
     "iopub.status.idle": "2023-10-10T18:51:38.575594Z",
     "shell.execute_reply": "2023-10-10T18:51:38.573951Z"
    }
   },
   "outputs": [],
   "source": [
    "a = 1\n",
    "b = a\n",
    "a = a + 1\n",
    "print(f\"{a=} {b=}\")"
   ]
  },
  {
   "cell_type": "code",
   "execution_count": null,
   "id": "a319d9b6",
   "metadata": {
    "execution": {
     "iopub.execute_input": "2023-10-10T18:51:38.580123Z",
     "iopub.status.busy": "2023-10-10T18:51:38.579716Z",
     "iopub.status.idle": "2023-10-10T18:51:38.585545Z",
     "shell.execute_reply": "2023-10-10T18:51:38.583859Z"
    }
   },
   "outputs": [],
   "source": [
    "a = [1, 2, 3]\n",
    "b = a\n",
    "a[0] = 4\n",
    "print(f\"{a=} {b=}\")"
   ]
  },
  {
   "cell_type": "markdown",
   "id": "916e4713",
   "metadata": {
    "slideshow": {
     "slide_type": "subslide"
    }
   },
   "source": [
    "Another surprising example:"
   ]
  },
  {
   "cell_type": "code",
   "execution_count": null,
   "id": "486f8646",
   "metadata": {
    "execution": {
     "iopub.execute_input": "2023-10-10T18:51:38.595150Z",
     "iopub.status.busy": "2023-10-10T18:51:38.594421Z",
     "iopub.status.idle": "2023-10-10T18:51:38.600247Z",
     "shell.execute_reply": "2023-10-10T18:51:38.599097Z"
    }
   },
   "outputs": [],
   "source": [
    "def add_one(num):\n",
    "    num = num + 1\n",
    "    print(f\"inside add_one: {num=}\")\n",
    "\n",
    "a = 1\n",
    "add_one(a)\n",
    "print(f\"global scope {a=}\")"
   ]
  },
  {
   "cell_type": "code",
   "execution_count": null,
   "id": "eb78fbfe",
   "metadata": {
    "execution": {
     "iopub.execute_input": "2023-10-10T18:51:38.604670Z",
     "iopub.status.busy": "2023-10-10T18:51:38.604320Z",
     "iopub.status.idle": "2023-10-10T18:51:38.611199Z",
     "shell.execute_reply": "2023-10-10T18:51:38.609619Z"
    }
   },
   "outputs": [],
   "source": [
    "def add_one(nums):\n",
    "    nums[0] = nums[0] + 1\n",
    "    print(f\"inside add_one: {nums=}\")\n",
    "\n",
    "a = [1]\n",
    "add_one(a)\n",
    "print(f\"global scope {a=}\")"
   ]
  },
  {
   "cell_type": "markdown",
   "id": "76fafa05",
   "metadata": {
    "slideshow": {
     "slide_type": "subslide"
    }
   },
   "source": [
    "Understanding references is key to understanding **why** this code behaves the way it does. \n",
    "\n",
    "This behavior is a **very** common source of confusion."
   ]
  },
  {
   "cell_type": "markdown",
   "id": "d339b554",
   "metadata": {
    "slideshow": {
     "slide_type": "subslide"
    }
   },
   "source": [
    "Let's walk through a few code examples and talk in detail about what is happening to references vs. values on each line."
   ]
  },
  {
   "cell_type": "code",
   "execution_count": null,
   "id": "f8c40507",
   "metadata": {
    "execution": {
     "iopub.execute_input": "2023-10-10T18:51:38.617214Z",
     "iopub.status.busy": "2023-10-10T18:51:38.616833Z",
     "iopub.status.idle": "2023-10-10T18:51:38.622788Z",
     "shell.execute_reply": "2023-10-10T18:51:38.621519Z"
    },
    "slideshow": {
     "slide_type": "subslide"
    }
   },
   "outputs": [],
   "source": [
    "a = 1\n",
    "b = 1\n",
    "a = 2"
   ]
  },
  {
   "cell_type": "markdown",
   "id": "30d14d29",
   "metadata": {},
   "source": [
    "On line 1, `a` refers to value `1`.\n",
    "\n",
    "On line 2, `b` refers to value `1`.\n",
    "\n",
    "On line 3, `a` is updated to refer to value `2`, instead of referring to value `1`.\n",
    "\n",
    "We **didn't** change the value `1` to `2`. We changed `a` to refer to a different value. `ints` are immutable, we can't change them.\n",
    "\n",
    "[Python Tutor link](https://pythontutor.com/render.html#code=a%20%3D%201%0Ab%20%3D%201%0Aa%20%3D%202&cumulative=false&curInstr=0&heapPrimitives=true&mode=display&origin=opt-frontend.js&py=311&rawInputLstJSON=%5B%5D&textReferences=false)"
   ]
  },
  {
   "cell_type": "code",
   "execution_count": null,
   "id": "608b58da",
   "metadata": {
    "execution": {
     "iopub.execute_input": "2023-10-10T18:51:38.628046Z",
     "iopub.status.busy": "2023-10-10T18:51:38.627601Z",
     "iopub.status.idle": "2023-10-10T18:51:38.633273Z",
     "shell.execute_reply": "2023-10-10T18:51:38.632319Z"
    },
    "slideshow": {
     "slide_type": "subslide"
    }
   },
   "outputs": [],
   "source": [
    "a = 1\n",
    "b = a\n",
    "a = a + 1\n",
    "print(f\"{a=} {b=}\")"
   ]
  },
  {
   "cell_type": "markdown",
   "id": "ed003d54",
   "metadata": {},
   "source": [
    "On line 1, `a` refers to value `1`.\n",
    "\n",
    "On line 2, `b` refers to the same value as `a`: `1`.\n",
    "\n",
    "`b` does **not** refer to `a`. It refers to the value `1`.\n",
    "\n",
    "On line 3, `a` is changed to refer to the value `2`. \n",
    "\n",
    "We didn't update the value `1`, we only updated `a`'s reference. `b` still refers to the value `1`.\n",
    "\n",
    "[Python Tutor link](https://pythontutor.com/render.html#code=a%20%3D%201%0Ab%20%3D%20a%0Aa%20%3D%20a%20%2B%201%0Aprint%28f%22%7Ba%3D%7D%20%7Bb%3D%7D%22%29&cumulative=false&curInstr=0&heapPrimitives=true&mode=display&origin=opt-frontend.js&py=311&rawInputLstJSON=%5B%5D&textReferences=false)"
   ]
  },
  {
   "cell_type": "code",
   "execution_count": null,
   "id": "b10c6a69",
   "metadata": {
    "execution": {
     "iopub.execute_input": "2023-10-10T18:51:38.640735Z",
     "iopub.status.busy": "2023-10-10T18:51:38.639926Z",
     "iopub.status.idle": "2023-10-10T18:51:38.645511Z",
     "shell.execute_reply": "2023-10-10T18:51:38.644668Z"
    },
    "slideshow": {
     "slide_type": "subslide"
    }
   },
   "outputs": [],
   "source": [
    "a = [1, 2, 3]\n",
    "b = a\n",
    "a[0] = 4\n",
    "print(f\"{a=} {b=}\")"
   ]
  },
  {
   "cell_type": "markdown",
   "id": "4d4e0de3",
   "metadata": {},
   "source": [
    "Lists **appear to** behave differently. Lists are **mutable**. We can change the value of a list.\n",
    "\n",
    "On line 1, `a` refers to a list `[1,2,3]`\n",
    "\n",
    "On line 2, `b` refers to the same list which `a` refers to.\n",
    "\n",
    "On line 3, we modify the list itself! We're changing a value by assigning to an index in the list, we're not changing `a`'s reference.\n",
    "\n",
    "Since `a` and `b` refer to the same list value, and we modified that list value, both `a` and `b` will reflect the change made to the list.\n",
    "\n",
    "[Python Tutor link](https://pythontutor.com/visualize.html#code=a%20%3D%20%5B1,%202,%203%5D%0Ab%20%3D%20a%0Aa%5B0%5D%20%3D%204%0A&cumulative=false&curInstr=0&heapPrimitives=true&mode=display&origin=opt-frontend.js&py=3&rawInputLstJSON=%5B%5D&textReferences=false)\n",
    "\n"
   ]
  },
  {
   "cell_type": "code",
   "execution_count": null,
   "id": "1d9b57e5",
   "metadata": {
    "execution": {
     "iopub.execute_input": "2023-10-10T18:51:38.651676Z",
     "iopub.status.busy": "2023-10-10T18:51:38.651297Z",
     "iopub.status.idle": "2023-10-10T18:51:38.658398Z",
     "shell.execute_reply": "2023-10-10T18:51:38.657234Z"
    },
    "slideshow": {
     "slide_type": "subslide"
    }
   },
   "outputs": [],
   "source": [
    "a = [1, 2, 3]\n",
    "b = a\n",
    "a = [4, 5, 6]\n",
    "a[0] = 9\n",
    "print(f\"{a=} {b=}\")"
   ]
  },
  {
   "cell_type": "markdown",
   "id": "aa763a29",
   "metadata": {},
   "source": [
    "This example highlights the difference between changing a variable's reference, and mutating the value it refers to.\n",
    "\n",
    "On line 1, `a` refers to a list `[1,2,3]`\n",
    "\n",
    "On line 2, `b` refers to the same list which `a` refers to.\n",
    "\n",
    "On line 3, we change `a` to refer to a new list `[4,5,6]` by assigning to `a`. We have not modified the original list value that `a` referred to. `a` and `b` now refer to different lists.\n",
    "\n",
    "On line 4, we modify the list value that `a` refers to. `b`'s list is unchanged.\n",
    "\n",
    "[Python tutor link](https://pythontutor.com/visualize.html#code=a%20%3D%20%5B1,%202,%203%5D%0Ab%20%3D%20a%0Aa%20%3D%20%5B4,%205,%206%5D%0Aa%5B0%5D%20%3D%209&cumulative=false&curInstr=0&heapPrimitives=true&mode=display&origin=opt-frontend.js&py=3&rawInputLstJSON=%5B%5D&textReferences=false)"
   ]
  },
  {
   "cell_type": "markdown",
   "id": "cc1287df",
   "metadata": {
    "slideshow": {
     "slide_type": "slide"
    }
   },
   "source": [
    "# [Slido](https://wall.sli.do/event/aS8ZegjvKXxPo9Nh65q1jN?section=dbb5fc0f-0274-4aa8-b925-119d565b88a1)"
   ]
  },
  {
   "cell_type": "markdown",
   "id": "9ebdf1ec",
   "metadata": {
    "slideshow": {
     "slide_type": "subslide"
    }
   },
   "source": [
    "\n",
    "When arguments are passed to functions, the references (not the values!) are copied."
   ]
  },
  {
   "cell_type": "code",
   "execution_count": null,
   "id": "160611b8",
   "metadata": {
    "execution": {
     "iopub.execute_input": "2023-10-10T18:51:38.663724Z",
     "iopub.status.busy": "2023-10-10T18:51:38.663284Z",
     "iopub.status.idle": "2023-10-10T18:51:38.671722Z",
     "shell.execute_reply": "2023-10-10T18:51:38.669510Z"
    }
   },
   "outputs": [],
   "source": [
    "def add_one(num):\n",
    "    num = num + 1    \n",
    "    print(f\"inside add_one: {num=}\")\n",
    "\n",
    "a = 1\n",
    "add_one(a)\n",
    "print(f\"global scope {a=}\")"
   ]
  },
  {
   "cell_type": "markdown",
   "id": "b8b235cf",
   "metadata": {},
   "source": [
    "When the code reaches line 2, `a` is a reference to value `1`, and `num` is also a reference to the value `1`.\n",
    "\n",
    "Other than referring to the same value, `a` and `num` are not connected.\n",
    "\n",
    "After line 2 executes, `num` is updated to refer to value `2`, and `a` continues to refer to value `1`.\n",
    "\n",
    "[Python tutor link](https://pythontutor.com/visualize.html#code=def%20add_one%28num%29%3A%0A%20%20%20%20num%20%3D%20num%20%2B%201%0A%20%20%20%20print%28%22inside%20add_one%3A%20%22%20%2B%20str%28num%29%29%0A%0Aa%20%3D%201%0Aadd_one%28a%29%0Aprint%28f%22global%20scope%3A%20%22%20%2B%20str%28a%29%29&cumulative=false&curInstr=0&heapPrimitives=true&mode=display&origin=opt-frontend.js&py=3&rawInputLstJSON=%5B%5D&textReferences=false)\n"
   ]
  },
  {
   "cell_type": "markdown",
   "id": "47271e4c",
   "metadata": {
    "slideshow": {
     "slide_type": "subslide"
    }
   },
   "source": [
    "If a **value** is modified inside a function, references from outside the function will see the change."
   ]
  },
  {
   "cell_type": "code",
   "execution_count": null,
   "id": "1bf47cd9",
   "metadata": {
    "execution": {
     "iopub.execute_input": "2023-10-10T18:51:38.676146Z",
     "iopub.status.busy": "2023-10-10T18:51:38.675527Z",
     "iopub.status.idle": "2023-10-10T18:51:38.682137Z",
     "shell.execute_reply": "2023-10-10T18:51:38.681323Z"
    }
   },
   "outputs": [],
   "source": [
    "def add_one(nums):\n",
    "    nums[0] = nums[0] + 1\n",
    "    print(f\"inside add_one: {nums=}\")\n",
    "\n",
    "a = [1]\n",
    "add_one(a)\n",
    "print(f\"global scope {a=}\")"
   ]
  },
  {
   "cell_type": "markdown",
   "id": "681545e6",
   "metadata": {},
   "source": [
    "When the code reaches line 2, both `a` and `nums` refer to the same list `[0]`.\n",
    "\n",
    "After line 2 executes, the list value has changed. Because `a` and `nums` both refer to it, they both see the change.\n",
    "\n",
    "[Python tutor link](https://pythontutor.com/visualize.html#code=def%20add_one%28nums%29%3A%0A%20%20%20%20nums%5B0%5D%20%3D%20nums%5B0%5D%20%2B%201%0A%20%20%20%20print%28%22inside%20add_one%3A%20%22%20%2B%20str%28nums%29%29%0A%0Aa%20%3D%20%5B1%5D%0Aadd_one%28a%29%0Aprint%28f%22global%20scope%3A%20%22%20%2B%20str%28a%29%29&cumulative=false&curInstr=0&heapPrimitives=true&mode=display&origin=opt-frontend.js&py=3&rawInputLstJSON=%5B%5D&textReferences=false)\n"
   ]
  },
  {
   "cell_type": "markdown",
   "id": "87ae19a6",
   "metadata": {
    "slideshow": {
     "slide_type": "subslide"
    }
   },
   "source": [
    "# Another way to think about this\n",
    "\n",
    "If the word \"references\" is confusing, you can also think about a variable as a \"name\" for a value.\n",
    "\n",
    "Assignment (`=`) binds (or assigns) a name to a value. \n",
    "\n",
    "Passing an argument into a function also binds a name to a value. The name is the name of the function's parameter.\n",
    "\n",
    "One value might have multiple names at a time.\n",
    "\n",
    "When you assign (`=`), the value isn't copied. You've added a new name for the value."
   ]
  },
  {
   "cell_type": "markdown",
   "id": "4902b356",
   "metadata": {
    "slideshow": {
     "slide_type": "slide"
    }
   },
   "source": [
    "# copy\n",
    "\n",
    "Sometimes you want to make changes to a value, but keep those changes from being seen by any other reference to that value. In these cases, you can copy the value before modifying it.\n",
    "\n",
    "Python provides some tools in the `copy` [module](https://docs.python.org/3/library/copy.html).\n",
    "\n",
    "* `copy.copy()` will do a **shallow** copy - copy the outer value only\n",
    "* `copy.deepcopy()` will do a **deep** copy - copy all nested values. This only comes into play when you have things like nested lists.\n"
   ]
  },
  {
   "cell_type": "code",
   "execution_count": null,
   "id": "669cb639",
   "metadata": {
    "execution": {
     "iopub.execute_input": "2023-10-10T18:51:38.687488Z",
     "iopub.status.busy": "2023-10-10T18:51:38.687125Z",
     "iopub.status.idle": "2023-10-10T18:51:38.692332Z",
     "shell.execute_reply": "2023-10-10T18:51:38.690858Z"
    }
   },
   "outputs": [],
   "source": [
    "import copy\n",
    "a = [1,2,3]\n",
    "b = copy.copy(a)\n",
    "b[0] = 9\n",
    "print(f\"{a=} {b=}\")"
   ]
  },
  {
   "cell_type": "markdown",
   "id": "763461a0",
   "metadata": {
    "slideshow": {
     "slide_type": "-"
    }
   },
   "source": [
    "[Python Tutor link](https://pythontutor.com/render.html#code=import%20copy%0Aa%20%3D%20%5B1,2,3%5D%0Ab%20%3D%20copy.copy%28a%29%0Ab%5B0%5D%20%3D%209%0Aprint%28f%22%7Ba%3D%7D%20%7Bb%3D%7D%22%29&cumulative=false&curInstr=0&heapPrimitives=true&mode=display&origin=opt-frontend.js&py=311&rawInputLstJSON=%5B%5D&textReferences=false)"
   ]
  },
  {
   "cell_type": "markdown",
   "id": "b8a8adad",
   "metadata": {
    "slideshow": {
     "slide_type": "subslide"
    }
   },
   "source": [
    "This is most often useful in functions, where you don't want the function to mess with the caller's values."
   ]
  },
  {
   "cell_type": "code",
   "execution_count": null,
   "id": "8072fa7b",
   "metadata": {
    "execution": {
     "iopub.execute_input": "2023-10-10T18:51:38.698113Z",
     "iopub.status.busy": "2023-10-10T18:51:38.697632Z",
     "iopub.status.idle": "2023-10-10T18:51:38.704791Z",
     "shell.execute_reply": "2023-10-10T18:51:38.703908Z"
    },
    "slideshow": {
     "slide_type": "-"
    }
   },
   "outputs": [],
   "source": [
    "def add_one(nums):\n",
    "    newlist = copy.copy(nums)\n",
    "    for i in range(len(newlist)):\n",
    "        newlist[i] = newlist[i] + 1\n",
    "    return newlist\n",
    "\n",
    "a = [1,2,3]\n",
    "b = add_one(a)\n",
    "print(f\"{a=} {b=}\")"
   ]
  },
  {
   "cell_type": "markdown",
   "id": "81a7896c",
   "metadata": {},
   "source": [
    "[Python Tutor link](https://pythontutor.com/render.html#code=import%20copy%0Adef%20add_one%28nums%29%3A%0A%20%20%20%20newlist%20%3D%20copy.copy%28nums%29%0A%20%20%20%20for%20i%20in%20range%28len%28newlist%29%29%3A%0A%20%20%20%20%20%20%20%20newlist%5Bi%5D%20%3D%20newlist%5Bi%5D%20%2B%201%0A%20%20%20%20return%20newlist%0A%0Aa%20%3D%20%5B1,2,3%5D%0Ab%20%3D%20add_one%28a%29%0Aprint%28f%22%7Ba%3D%7D%20%7Bb%3D%7D%22%29&cumulative=false&curInstr=0&heapPrimitives=true&mode=display&origin=opt-frontend.js&py=311&rawInputLstJSON=%5B%5D&textReferences=false)"
   ]
  },
  {
   "cell_type": "markdown",
   "id": "6b7cf00f",
   "metadata": {
    "slideshow": {
     "slide_type": "slide"
    }
   },
   "source": [
    "# Puzzles\n",
    "\n",
    "[\"Reference puzzles\" on repl.it](https://replit.com/team/cosi-10a-fall23/Reference-puzzles)"
   ]
  },
  {
   "cell_type": "markdown",
   "id": "3819b873",
   "metadata": {
    "slideshow": {
     "slide_type": "slide"
    }
   },
   "source": [
    "# [Slido](https://wall.sli.do/event/aS8ZegjvKXxPo9Nh65q1jN?section=dbb5fc0f-0274-4aa8-b925-119d565b88a1)"
   ]
  }
 ],
 "metadata": {
  "celltoolbar": "Slideshow",
  "kernelspec": {
   "display_name": "Python 3 (ipykernel)",
   "language": "python",
   "name": "python3"
  },
  "language_info": {
   "codemirror_mode": {
    "name": "ipython",
    "version": 3
   },
   "file_extension": ".py",
   "mimetype": "text/x-python",
   "name": "python",
   "nbconvert_exporter": "python",
   "pygments_lexer": "ipython3",
   "version": "3.10.9"
  }
 },
 "nbformat": 4,
 "nbformat_minor": 5
}
