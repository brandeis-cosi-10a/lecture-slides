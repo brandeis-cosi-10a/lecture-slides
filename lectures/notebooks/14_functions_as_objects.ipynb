{
 "cells": [
  {
   "cell_type": "markdown",
   "id": "1ee8a1d2",
   "metadata": {
    "slideshow": {
     "slide_type": "slide"
    }
   },
   "source": [
    "# Functions as Objects\n",
    "\n",
    "<style>\n",
    "section.present > section.present { \n",
    "    max-height: 90%; \n",
    "    overflow-y: scroll;\n",
    "}\n",
    "</style>\n",
    "\n",
    "<small><a href=\"https://colab.research.google.com/github/brandeis-jdelfino/cosi-10a/blob/main/lectures/notebooks/14_functions_as_objects.ipynb\">Link to interactive slides on Google Colab</a></small>"
   ]
  },
  {
   "cell_type": "markdown",
   "id": "574ccfb7",
   "metadata": {
    "slideshow": {
     "slide_type": "slide"
    }
   },
   "source": [
    "## Exercise\n",
    "\n",
    "Sort the words in a string alphabetically"
   ]
  },
  {
   "cell_type": "code",
   "execution_count": null,
   "id": "b1872edc",
   "metadata": {
    "execution": {
     "iopub.execute_input": "2023-10-20T00:52:11.379898Z",
     "iopub.status.busy": "2023-10-20T00:52:11.379296Z",
     "iopub.status.idle": "2023-10-20T00:52:11.403372Z",
     "shell.execute_reply": "2023-10-20T00:52:11.402341Z"
    }
   },
   "outputs": [],
   "source": [
    "value = \"This note is about Bill Murray, a famous American actor.\"\n",
    "words = value.split()\n",
    "words.sort()\n",
    "print(' '.join(words))"
   ]
  },
  {
   "cell_type": "markdown",
   "id": "f6bb5ea4",
   "metadata": {
    "slideshow": {
     "slide_type": "fragment"
    }
   },
   "source": [
    "Hmm... case matters.\n",
    "\n",
    "We could just lowercase the whole string before splitting. But what if we want to preserve the original case in our resulting string?"
   ]
  },
  {
   "cell_type": "markdown",
   "id": "aa22a86d",
   "metadata": {
    "slideshow": {
     "slide_type": "subslide"
    }
   },
   "source": [
    "## Telling `sort` how to sort\n",
    "\n",
    "By default, `sort()` orders the values by... the values.\n",
    "\n",
    "We can tell it to order them by something else, using the `key` parameter.\n",
    "\n",
    "The `key` parameter should be a **function** that returns the sort key for a given value."
   ]
  },
  {
   "cell_type": "code",
   "execution_count": null,
   "id": "551a4e97",
   "metadata": {
    "execution": {
     "iopub.execute_input": "2023-10-20T00:52:11.409530Z",
     "iopub.status.busy": "2023-10-20T00:52:11.408816Z",
     "iopub.status.idle": "2023-10-20T00:52:11.419109Z",
     "shell.execute_reply": "2023-10-20T00:52:11.416592Z"
    },
    "slideshow": {
     "slide_type": "subslide"
    }
   },
   "outputs": [],
   "source": [
    "def make_lower(value):\n",
    "    return value.lower()\n",
    "\n",
    "value = \"This note is about Bill Murray, a famous American actor.\"\n",
    "words = value.split()\n",
    "\n",
    "words.sort(key=make_lower)\n",
    "print(' '.join(words))"
   ]
  },
  {
   "cell_type": "markdown",
   "id": "2916f884",
   "metadata": {
    "slideshow": {
     "slide_type": "fragment"
    }
   },
   "source": [
    "Wait, what? Did we just pass a function as a parameter?\n",
    "\n",
    "Yes, yes we did."
   ]
  },
  {
   "cell_type": "markdown",
   "id": "09fa9930",
   "metadata": {
    "slideshow": {
     "slide_type": "slide"
    }
   },
   "source": [
    "# Functions are Objects\n",
    "\n",
    "Python has **first class functions**. \n",
    "\n",
    "This means that functions are objects, just like other types: `int`, `str`, `list`, `dict`, `set`, etc.\n",
    "\n",
    "They can be passed as arguments to other functions.\n",
    "\n",
    "They can be assigned to variables.\n",
    "\n",
    "They can be returned by other functions.\n",
    "\n",
    "They can be stored in lists, dictionaries, and sets."
   ]
  },
  {
   "cell_type": "markdown",
   "id": "21a2f80a",
   "metadata": {
    "slideshow": {
     "slide_type": "subslide"
    }
   },
   "source": [
    "For another example, we'll sort the words by length:"
   ]
  },
  {
   "cell_type": "code",
   "execution_count": null,
   "id": "ae72fd08",
   "metadata": {
    "execution": {
     "iopub.execute_input": "2023-10-20T00:52:11.427688Z",
     "iopub.status.busy": "2023-10-20T00:52:11.425548Z",
     "iopub.status.idle": "2023-10-20T00:52:11.438880Z",
     "shell.execute_reply": "2023-10-20T00:52:11.437236Z"
    }
   },
   "outputs": [],
   "source": [
    "def get_len(value):\n",
    "    return len(value)\n",
    "\n",
    "value = \"This note is about Bill Murray, a famous American actor.\"\n",
    "words = value.split()\n",
    "\n",
    "words.sort(key=get_len)\n",
    "print(' '.join(words))"
   ]
  },
  {
   "cell_type": "markdown",
   "id": "ff4638ff",
   "metadata": {
    "slideshow": {
     "slide_type": "subslide"
    }
   },
   "source": [
    "But wait, `len` is a function too. We don't need to make our own wrapper, `get_len`. We can pass the function `len` directly!"
   ]
  },
  {
   "cell_type": "code",
   "execution_count": null,
   "id": "2de57d02",
   "metadata": {
    "execution": {
     "iopub.execute_input": "2023-10-20T00:52:11.446020Z",
     "iopub.status.busy": "2023-10-20T00:52:11.445159Z",
     "iopub.status.idle": "2023-10-20T00:52:11.454693Z",
     "shell.execute_reply": "2023-10-20T00:52:11.452262Z"
    }
   },
   "outputs": [],
   "source": [
    "value = \"This note is about Bill Murray, a famous American actor.\"\n",
    "words = value.split()\n",
    "\n",
    "words.sort(key=len)\n",
    "print(' '.join(words))"
   ]
  },
  {
   "cell_type": "markdown",
   "id": "e8e1c254",
   "metadata": {
    "slideshow": {
     "slide_type": "slide"
    }
   },
   "source": [
    "Turns out, we can also shorten our first example. Here's the original code:"
   ]
  },
  {
   "cell_type": "code",
   "execution_count": null,
   "id": "981d1994",
   "metadata": {
    "execution": {
     "iopub.execute_input": "2023-10-20T00:52:11.461484Z",
     "iopub.status.busy": "2023-10-20T00:52:11.461096Z",
     "iopub.status.idle": "2023-10-20T00:52:11.470849Z",
     "shell.execute_reply": "2023-10-20T00:52:11.467826Z"
    }
   },
   "outputs": [],
   "source": [
    "def make_lower(value):\n",
    "    return value.lower()\n",
    "\n",
    "value = \"This note is about Bill Murray, a famous American actor.\"\n",
    "words = value.split()\n",
    "\n",
    "words.sort(key=make_lower)\n",
    "print(' '.join(words))"
   ]
  },
  {
   "cell_type": "markdown",
   "id": "638fbee8",
   "metadata": {
    "slideshow": {
     "slide_type": "subslide"
    }
   },
   "source": [
    "We can actually rewrite this as:"
   ]
  },
  {
   "cell_type": "code",
   "execution_count": null,
   "id": "08915a77",
   "metadata": {
    "execution": {
     "iopub.execute_input": "2023-10-20T00:52:11.477993Z",
     "iopub.status.busy": "2023-10-20T00:52:11.477500Z",
     "iopub.status.idle": "2023-10-20T00:52:11.487809Z",
     "shell.execute_reply": "2023-10-20T00:52:11.485333Z"
    }
   },
   "outputs": [],
   "source": [
    "value = \"This note is about Bill Murray, a famous American actor.\"\n",
    "words = value.split()\n",
    "\n",
    "words.sort(key=str.lower)\n",
    "print(' '.join(words))"
   ]
  },
  {
   "cell_type": "markdown",
   "id": "4c0ec8e2",
   "metadata": {
    "slideshow": {
     "slide_type": "fragment"
    }
   },
   "source": [
    "What is `str.lower`? Let's dig in to understand."
   ]
  },
  {
   "cell_type": "markdown",
   "id": "c5029a56",
   "metadata": {
    "slideshow": {
     "slide_type": "slide"
    }
   },
   "source": [
    "## Review: calling methods"
   ]
  },
  {
   "cell_type": "code",
   "execution_count": null,
   "id": "099d5940",
   "metadata": {
    "execution": {
     "iopub.execute_input": "2023-10-20T00:52:11.495056Z",
     "iopub.status.busy": "2023-10-20T00:52:11.494497Z",
     "iopub.status.idle": "2023-10-20T00:52:11.501405Z",
     "shell.execute_reply": "2023-10-20T00:52:11.499809Z"
    }
   },
   "outputs": [],
   "source": [
    "class Tree:\n",
    "    def __init__(self):\n",
    "        self.height = 1\n",
    "\n",
    "    def grow(self):\n",
    "        self.height += 1"
   ]
  },
  {
   "cell_type": "code",
   "execution_count": null,
   "id": "8560f6e1",
   "metadata": {
    "execution": {
     "iopub.execute_input": "2023-10-20T00:52:11.507327Z",
     "iopub.status.busy": "2023-10-20T00:52:11.506909Z",
     "iopub.status.idle": "2023-10-20T00:52:11.514402Z",
     "shell.execute_reply": "2023-10-20T00:52:11.512312Z"
    }
   },
   "outputs": [],
   "source": [
    "t = Tree()\n",
    "t.grow()\n",
    "t.grow()\n",
    "print(t.height)"
   ]
  },
  {
   "cell_type": "markdown",
   "id": "791f04a8",
   "metadata": {
    "slideshow": {
     "slide_type": "fragment"
    }
   },
   "source": [
    "Notice that `grow()` takes the `self` parameter, but when we call `t.grow()`, we don't pass any parameters.\n",
    "\n",
    "When we call `t.grow()`, `t` \"magically\" gets passed as `self` to the `grow()` method."
   ]
  },
  {
   "cell_type": "markdown",
   "id": "e86e425a",
   "metadata": {
    "slideshow": {
     "slide_type": "subslide"
    }
   },
   "source": [
    "Here, we explicitly pass `t` for the `self` parameter:"
   ]
  },
  {
   "cell_type": "code",
   "execution_count": null,
   "id": "9100ad57",
   "metadata": {
    "execution": {
     "iopub.execute_input": "2023-10-20T00:52:11.522255Z",
     "iopub.status.busy": "2023-10-20T00:52:11.521682Z",
     "iopub.status.idle": "2023-10-20T00:52:11.530688Z",
     "shell.execute_reply": "2023-10-20T00:52:11.528755Z"
    }
   },
   "outputs": [],
   "source": [
    "t = Tree()\n",
    "Tree.grow(t)\n",
    "Tree.grow(t)\n",
    "print(t.height)"
   ]
  },
  {
   "cell_type": "markdown",
   "id": "77bf6047",
   "metadata": {
    "slideshow": {
     "slide_type": "fragment"
    }
   },
   "source": [
    "This is equivalent to the previous code.\n",
    "\n",
    "Note that we call `Tree.grow` here instead of `t.grow`. \n",
    "\n",
    "You wouldn't normally call a method this way, but it is completely valid."
   ]
  },
  {
   "cell_type": "markdown",
   "id": "e09521ca",
   "metadata": {
    "slideshow": {
     "slide_type": "slide"
    }
   },
   "source": [
    "## Back to `str.lower`\n",
    "\n",
    "`str.lower` is a method on the `str` class, just like `grow` is a method on the `Tree` class. \n",
    "\n",
    "`lower`'s definition might look like this:"
   ]
  },
  {
   "cell_type": "code",
   "execution_count": null,
   "id": "8d1879e9",
   "metadata": {
    "execution": {
     "iopub.execute_input": "2023-10-20T00:52:11.538943Z",
     "iopub.status.busy": "2023-10-20T00:52:11.538487Z",
     "iopub.status.idle": "2023-10-20T00:52:11.546768Z",
     "shell.execute_reply": "2023-10-20T00:52:11.545251Z"
    }
   },
   "outputs": [],
   "source": [
    "class str:\n",
    "    # ...\n",
    "    def lower(self):\n",
    "        # ..."
   ]
  },
  {
   "cell_type": "markdown",
   "id": "79458737",
   "metadata": {
    "slideshow": {
     "slide_type": ""
    }
   },
   "source": [
    "This means that `\"SOME STRING\".lower()` is equivalent to `str.lower(\"SOME STRING\")`."
   ]
  },
  {
   "cell_type": "markdown",
   "id": "7d00e2ba",
   "metadata": {
    "slideshow": {
     "slide_type": "subslide"
    }
   },
   "source": [
    "So, when we pass `str.lower` as a function here, `sort` will call it on each value in the list in order to get the sort key: \n",
    "\n",
    "`str.lower(value)`  \n",
    "which is equivalent to:  \n",
    "`value.lower()`"
   ]
  },
  {
   "cell_type": "code",
   "execution_count": null,
   "id": "3a0941cf",
   "metadata": {
    "execution": {
     "iopub.execute_input": "2023-10-20T00:52:11.554739Z",
     "iopub.status.busy": "2023-10-20T00:52:11.554317Z",
     "iopub.status.idle": "2023-10-20T00:52:11.561676Z",
     "shell.execute_reply": "2023-10-20T00:52:11.560017Z"
    }
   },
   "outputs": [],
   "source": [
    "value = \"This note is about Bill Murray, a famous American actor.\"\n",
    "words = value.split()\n",
    "\n",
    "words.sort(key=str.lower)\n",
    "print(' '.join(words))"
   ]
  },
  {
   "cell_type": "markdown",
   "id": "ffff41c2",
   "metadata": {
    "slideshow": {
     "slide_type": "slide"
    }
   },
   "source": [
    "## Some more examples"
   ]
  },
  {
   "cell_type": "markdown",
   "id": "c38cd515",
   "metadata": {},
   "source": [
    "What if we want to sort all words that start with `M` or `m` first, then alphabetically after that for every non-M word?"
   ]
  },
  {
   "cell_type": "code",
   "execution_count": null,
   "id": "90863c5f",
   "metadata": {
    "execution": {
     "iopub.execute_input": "2023-10-20T00:52:11.570093Z",
     "iopub.status.busy": "2023-10-20T00:52:11.569383Z",
     "iopub.status.idle": "2023-10-20T00:52:11.578013Z",
     "shell.execute_reply": "2023-10-20T00:52:11.576121Z"
    }
   },
   "outputs": [],
   "source": [
    "def m_first(value):\n",
    "    # upper case sorts first, so if our word starts with \"M\" or \"m\", use upper case for the sort key\n",
    "    if value[0].lower() == 'm':\n",
    "        return value.upper()\n",
    "    else:\n",
    "        return value.lower()\n",
    "    \n",
    "value = \"This note is about Bill Murray, a famous American actor.\"\n",
    "words = value.split()\n",
    "\n",
    "words.sort(key=m_first)\n",
    "print(' '.join(words))    "
   ]
  },
  {
   "cell_type": "markdown",
   "id": "63414920",
   "metadata": {
    "slideshow": {
     "slide_type": "slide"
    }
   },
   "source": [
    "## Lambdas\n",
    "\n",
    "We can even shorten this one, using something called a **lambda**.\n",
    "\n",
    "A lambda is an \"anonymous function\" - a function with no name."
   ]
  },
  {
   "cell_type": "code",
   "execution_count": null,
   "id": "8f9e5344",
   "metadata": {
    "execution": {
     "iopub.execute_input": "2023-10-20T00:52:11.586794Z",
     "iopub.status.busy": "2023-10-20T00:52:11.585116Z",
     "iopub.status.idle": "2023-10-20T00:52:11.594154Z",
     "shell.execute_reply": "2023-10-20T00:52:11.591936Z"
    }
   },
   "outputs": [],
   "source": [
    "value = \"This note is about Bill Murray, a famous American actor.\"\n",
    "words = value.split()\n",
    "\n",
    "words.sort(key=lambda x: value.upper() if x[0].lower() == 'm' else value.lower())\n",
    "print(' '.join(words)) "
   ]
  },
  {
   "cell_type": "markdown",
   "id": "1ff03482",
   "metadata": {
    "slideshow": {
     "slide_type": "subslide"
    }
   },
   "source": [
    "## Lambda syntax\n",
    "\n",
    "`lambda <parameter list>: <expression>`\n",
    "\n",
    "Lambdas can take any number of parameters, but can only consist of a single expression.\n",
    "\n",
    "They can be useful, but also can easily make code hard to read. Often, writing out a full function is more clear."
   ]
  },
  {
   "cell_type": "markdown",
   "id": "11777dfb",
   "metadata": {
    "slideshow": {
     "slide_type": "slide"
    }
   },
   "source": [
    "# Exercise: Write a class that handles secret messages\n",
    "\n",
    "It should allow a user to store messages and retrieve messages. "
   ]
  },
  {
   "cell_type": "markdown",
   "id": "67a4fae0",
   "metadata": {
    "slideshow": {
     "slide_type": "subslide"
    }
   },
   "source": [
    "First, we'll define some encode/decode functions. We'll use a \"Caesar cipher\", which just shifts each character forward in the alphabet."
   ]
  },
  {
   "cell_type": "code",
   "execution_count": null,
   "id": "6b82f1ed",
   "metadata": {
    "execution": {
     "iopub.execute_input": "2023-10-20T00:52:11.602318Z",
     "iopub.status.busy": "2023-10-20T00:52:11.601348Z",
     "iopub.status.idle": "2023-10-20T00:52:11.608969Z",
     "shell.execute_reply": "2023-10-20T00:52:11.607219Z"
    }
   },
   "outputs": [],
   "source": [
    "def caesar_encode(value):\n",
    "    new_val = \"\"\n",
    "    for c in value:\n",
    "        new_val = new_val + chr(ord(c) + 7)\n",
    "    return new_val\n",
    "\n",
    "def caesar_decode(value):\n",
    "    new_val = \"\"\n",
    "    for c in value:\n",
    "        new_val = new_val + chr(ord(c) - 7)\n",
    "    return new_val"
   ]
  },
  {
   "cell_type": "code",
   "execution_count": null,
   "id": "01cefdfa",
   "metadata": {
    "execution": {
     "iopub.execute_input": "2023-10-20T00:52:11.614918Z",
     "iopub.status.busy": "2023-10-20T00:52:11.614388Z",
     "iopub.status.idle": "2023-10-20T00:52:11.627953Z",
     "shell.execute_reply": "2023-10-20T00:52:11.625800Z"
    }
   },
   "outputs": [],
   "source": [
    "caesar_encode(\"Hi mom!\")"
   ]
  },
  {
   "cell_type": "code",
   "execution_count": null,
   "id": "e759ab3a",
   "metadata": {
    "execution": {
     "iopub.execute_input": "2023-10-20T00:52:11.636769Z",
     "iopub.status.busy": "2023-10-20T00:52:11.635800Z",
     "iopub.status.idle": "2023-10-20T00:52:11.644130Z",
     "shell.execute_reply": "2023-10-20T00:52:11.642113Z"
    }
   },
   "outputs": [],
   "source": [
    "caesar_decode(\"Op'tvt(\")"
   ]
  },
  {
   "cell_type": "markdown",
   "id": "2ad596d9",
   "metadata": {
    "slideshow": {
     "slide_type": "subslide"
    }
   },
   "source": [
    "Now we'll make a Message repository that encodes messages when storing, and decodes them when retrieving."
   ]
  },
  {
   "cell_type": "code",
   "execution_count": null,
   "id": "8d54182f",
   "metadata": {
    "execution": {
     "iopub.execute_input": "2023-10-20T00:52:11.651415Z",
     "iopub.status.busy": "2023-10-20T00:52:11.650791Z",
     "iopub.status.idle": "2023-10-20T00:52:11.660030Z",
     "shell.execute_reply": "2023-10-20T00:52:11.658140Z"
    },
    "slideshow": {
     "slide_type": ""
    }
   },
   "outputs": [],
   "source": [
    "class MessageRepository:\n",
    "    def __init__(self):\n",
    "        self.next_id = 0\n",
    "        self.messages = {}\n",
    "        \n",
    "    def get_message(self, message_id):\n",
    "        if message_id not in self.messages:\n",
    "            return None\n",
    "        return caesar_decode(self.messages[message_id])\n",
    "    \n",
    "    def store_message(self, message):\n",
    "        self.messages[self.next_id] = caesar_encode(message)\n",
    "        self.next_id += 1\n",
    "        return self.next_id - 1"
   ]
  },
  {
   "cell_type": "code",
   "execution_count": null,
   "id": "43d7d117",
   "metadata": {
    "execution": {
     "iopub.execute_input": "2023-10-20T00:52:11.665563Z",
     "iopub.status.busy": "2023-10-20T00:52:11.665153Z",
     "iopub.status.idle": "2023-10-20T00:52:11.672808Z",
     "shell.execute_reply": "2023-10-20T00:52:11.671149Z"
    }
   },
   "outputs": [],
   "source": [
    "repo = MessageRepository()\n",
    "msg_id = repo.store_message(\"Hi mom!\")\n",
    "\n",
    "print(repo.messages)\n",
    "print(repo.get_message(msg_id))"
   ]
  },
  {
   "cell_type": "markdown",
   "id": "214d710f",
   "metadata": {
    "slideshow": {
     "slide_type": "subslide"
    }
   },
   "source": [
    "But what if we want to alter the way we encode or decode messages? Or use different methods for different messages?\n",
    "\n",
    "We could try providing a menu of options... or we could allow the user to provide encode/decode functions!"
   ]
  },
  {
   "cell_type": "code",
   "execution_count": null,
   "id": "593f4557",
   "metadata": {
    "execution": {
     "iopub.execute_input": "2023-10-20T00:52:11.680783Z",
     "iopub.status.busy": "2023-10-20T00:52:11.680247Z",
     "iopub.status.idle": "2023-10-20T00:52:11.689369Z",
     "shell.execute_reply": "2023-10-20T00:52:11.688067Z"
    },
    "slideshow": {
     "slide_type": "subslide"
    }
   },
   "outputs": [],
   "source": [
    "class MessageRepository:\n",
    "    def __init__(self):\n",
    "        self.next_id = 0\n",
    "        self.messages = {}\n",
    "        \n",
    "    def get_message(self, message_id, decode_fn):\n",
    "        if message_id not in self.messages:\n",
    "            return None\n",
    "        return decode_fn(self.messages[message_id])\n",
    "    \n",
    "    def store_message(self, message, encode_fn):\n",
    "        self.messages[self.next_id] = encode_fn(message)\n",
    "        self.next_id += 1\n",
    "        return self.next_id - 1"
   ]
  },
  {
   "cell_type": "code",
   "execution_count": null,
   "id": "d9bc1382",
   "metadata": {
    "execution": {
     "iopub.execute_input": "2023-10-20T00:52:11.694214Z",
     "iopub.status.busy": "2023-10-20T00:52:11.693842Z",
     "iopub.status.idle": "2023-10-20T00:52:11.701255Z",
     "shell.execute_reply": "2023-10-20T00:52:11.698861Z"
    }
   },
   "outputs": [],
   "source": [
    "repo = MessageRepository()\n",
    "msg_id = repo.store_message(\"Hi mom!\", caesar_encode)\n",
    "print(repo.messages)\n",
    "print(repo.get_message(msg_id, caesar_decode))"
   ]
  },
  {
   "cell_type": "markdown",
   "id": "d1b2ee94",
   "metadata": {
    "slideshow": {
     "slide_type": "subslide"
    }
   },
   "source": [
    "You could also imagine a `MessageRepository` that took encode/decode functions on creation, and saved them for later use:"
   ]
  },
  {
   "cell_type": "code",
   "execution_count": null,
   "id": "4289e025",
   "metadata": {
    "execution": {
     "iopub.execute_input": "2023-10-20T00:52:11.706709Z",
     "iopub.status.busy": "2023-10-20T00:52:11.706359Z",
     "iopub.status.idle": "2023-10-20T00:52:11.712787Z",
     "shell.execute_reply": "2023-10-20T00:52:11.711869Z"
    }
   },
   "outputs": [],
   "source": [
    "class MessageRepository:\n",
    "    def __init__(self, encode_fn, decode_fn):\n",
    "        self.next_id = 0\n",
    "        self.messages = {}\n",
    "        self.encode_fn = encode_fn\n",
    "        self.decode_fn = decode_fn\n",
    "        \n",
    "    def get_message(self, message_id):\n",
    "        if message_id not in self.messages:\n",
    "            return None\n",
    "        return self.decode_fn(self.messages[message_id])\n",
    "    \n",
    "    def store_message(self, message):\n",
    "        self.messages[self.next_id] = self.encode_fn(message)\n",
    "        self.next_id += 1\n",
    "        return self.next_id - 1"
   ]
  },
  {
   "cell_type": "code",
   "execution_count": null,
   "id": "d287afb5",
   "metadata": {
    "execution": {
     "iopub.execute_input": "2023-10-20T00:52:11.716707Z",
     "iopub.status.busy": "2023-10-20T00:52:11.716183Z",
     "iopub.status.idle": "2023-10-20T00:52:11.722140Z",
     "shell.execute_reply": "2023-10-20T00:52:11.721140Z"
    }
   },
   "outputs": [],
   "source": [
    "repo = MessageRepository(caesar_encode, caesar_decode)\n",
    "msg_id = repo.store_message(\"Hi mom!\")\n",
    "print(repo.messages)\n",
    "print(repo.get_message(msg_id))"
   ]
  },
  {
   "cell_type": "markdown",
   "id": "a62d4d9e",
   "metadata": {
    "slideshow": {
     "slide_type": "subslide"
    }
   },
   "source": [
    "## What if we want a Caesar cipher that uses a different offset?"
   ]
  },
  {
   "cell_type": "markdown",
   "id": "f86929c1",
   "metadata": {},
   "source": [
    "Normally, we'd just add a parameter to `caesar_cipher`. "
   ]
  },
  {
   "cell_type": "code",
   "execution_count": null,
   "id": "31b806bc",
   "metadata": {
    "execution": {
     "iopub.execute_input": "2023-10-20T00:52:11.727689Z",
     "iopub.status.busy": "2023-10-20T00:52:11.727342Z",
     "iopub.status.idle": "2023-10-20T00:52:11.732186Z",
     "shell.execute_reply": "2023-10-20T00:52:11.731348Z"
    },
    "slideshow": {
     "slide_type": "subslide"
    }
   },
   "outputs": [],
   "source": [
    "def caesar_encode(value, n):\n",
    "    new_val = \"\"\n",
    "    for c in value:\n",
    "        new_val = new_val + chr(ord(c) + n)\n",
    "    return new_val\n",
    "\n",
    "def caesar_decode(value, n):\n",
    "    new_val = \"\"\n",
    "    for c in value:\n",
    "        new_val = new_val + chr(ord(c) - n)\n",
    "    return new_val"
   ]
  },
  {
   "cell_type": "code",
   "execution_count": null,
   "id": "09fcd676",
   "metadata": {
    "execution": {
     "iopub.execute_input": "2023-10-20T00:52:11.736307Z",
     "iopub.status.busy": "2023-10-20T00:52:11.735970Z",
     "iopub.status.idle": "2023-10-20T00:52:12.073575Z",
     "shell.execute_reply": "2023-10-20T00:52:12.072655Z"
    },
    "slideshow": {
     "slide_type": "subslide"
    },
    "tags": [
     "raises-exception"
    ]
   },
   "outputs": [],
   "source": [
    "repo = MessageRepository(caesar_encode, caesar_decode)\n",
    "msg_id = repo.store_message(\"Hi mom!\")\n",
    "print(repo.messages)\n",
    "print(repo.get_message(msg_id))"
   ]
  },
  {
   "cell_type": "markdown",
   "id": "d0a17aa4",
   "metadata": {
    "slideshow": {
     "slide_type": "subslide"
    }
   },
   "source": [
    "Our class, `MessageRepository`, expects our encode/decode functions to take 1 argument - the value to encode/decode. There's no way to get that extra argument to it without modifying the class.\n",
    "\n",
    "We could write a different function for each offset we wanted to use... but that's pretty tedious."
   ]
  },
  {
   "cell_type": "markdown",
   "id": "0f252ce6",
   "metadata": {
    "slideshow": {
     "slide_type": "subslide"
    }
   },
   "source": [
    "Or we could use a lambda:"
   ]
  },
  {
   "cell_type": "code",
   "execution_count": null,
   "id": "70857748",
   "metadata": {
    "execution": {
     "iopub.execute_input": "2023-10-20T00:52:12.082224Z",
     "iopub.status.busy": "2023-10-20T00:52:12.081434Z",
     "iopub.status.idle": "2023-10-20T00:52:12.110148Z",
     "shell.execute_reply": "2023-10-20T00:52:12.108934Z"
    }
   },
   "outputs": [],
   "source": [
    "def caesar_encode(value, n):\n",
    "    new_val = \"\"\n",
    "    for c in value:\n",
    "        new_val = new_val + chr(ord(c) + n)\n",
    "    return new_val\n",
    "\n",
    "repo = MessageRepository()\n",
    "msg_id = repo.store_message(\"Hi mom!\", lambda x: caesar_encode(x, 10))\n",
    "print(repo.messages)\n",
    "print(repo.get_message(msg_id, lambda x: caesar_encode(x, -10)))"
   ]
  },
  {
   "cell_type": "markdown",
   "id": "0b282480",
   "metadata": {},
   "source": [
    "Here, `lambda x: caesar_encode(x, 10)` creates a function that takes one argument, and then calls caesar_encode with that argument and `10` for `n`."
   ]
  },
  {
   "cell_type": "markdown",
   "id": "32faeee4",
   "metadata": {
    "slideshow": {
     "slide_type": "subslide"
    }
   },
   "source": [
    "This is perfectly good. \n",
    "\n",
    "However, for the sake of exploration, let's use a function... to create a function!"
   ]
  },
  {
   "cell_type": "code",
   "execution_count": null,
   "id": "987afe07",
   "metadata": {
    "execution": {
     "iopub.execute_input": "2023-10-20T00:52:12.114861Z",
     "iopub.status.busy": "2023-10-20T00:52:12.114253Z",
     "iopub.status.idle": "2023-10-20T00:52:12.119719Z",
     "shell.execute_reply": "2023-10-20T00:52:12.118569Z"
    }
   },
   "outputs": [],
   "source": [
    "def make_caesar_shift(n):\n",
    "    def caesar_shift(value):\n",
    "        new_val = \"\"\n",
    "        for c in value:\n",
    "            new_val = new_val + chr(ord(c) + n)\n",
    "        return new_val\n",
    "    return caesar_shift"
   ]
  },
  {
   "cell_type": "markdown",
   "id": "9976b15f",
   "metadata": {},
   "source": [
    "Here, `make_caesar_shift` is a function that creates, and returns, another function. "
   ]
  },
  {
   "cell_type": "markdown",
   "id": "9a950e4c",
   "metadata": {
    "slideshow": {
     "slide_type": "subslide"
    }
   },
   "source": [
    "We can use `make_caesar_shift` to create functions that we store in variables, call, or pass around, just like any other function."
   ]
  },
  {
   "cell_type": "code",
   "execution_count": null,
   "id": "354cb7d7",
   "metadata": {
    "execution": {
     "iopub.execute_input": "2023-10-20T00:52:12.124068Z",
     "iopub.status.busy": "2023-10-20T00:52:12.123711Z",
     "iopub.status.idle": "2023-10-20T00:52:12.130712Z",
     "shell.execute_reply": "2023-10-20T00:52:12.129674Z"
    },
    "slideshow": {
     "slide_type": "-"
    }
   },
   "outputs": [],
   "source": [
    "caesar_encode10 = make_caesar_shift(10)\n",
    "caesar_decode10 = make_caesar_shift(-10)\n",
    "\n",
    "encoded = caesar_encode10(\"Hi mom!\")\n",
    "print(encoded)\n",
    "print(caesar_decode10(encoded))"
   ]
  },
  {
   "cell_type": "markdown",
   "id": "db84285e",
   "metadata": {
    "slideshow": {
     "slide_type": "subslide"
    }
   },
   "source": [
    "Here's an example of using it with `MessageRepository`:"
   ]
  },
  {
   "cell_type": "code",
   "execution_count": null,
   "id": "ae991959",
   "metadata": {
    "execution": {
     "iopub.execute_input": "2023-10-20T00:52:12.134856Z",
     "iopub.status.busy": "2023-10-20T00:52:12.134482Z",
     "iopub.status.idle": "2023-10-20T00:52:12.140976Z",
     "shell.execute_reply": "2023-10-20T00:52:12.140094Z"
    }
   },
   "outputs": [],
   "source": [
    "def make_caesar_shift(n):\n",
    "    def caesar_shift(value):\n",
    "        new_val = \"\"\n",
    "        for c in value:\n",
    "            new_val = new_val + chr(ord(c) + n)\n",
    "        return new_val\n",
    "    return caesar_shift\n",
    "\n",
    "repo = MessageRepository(make_caesar_shift(5), make_caesar_shift(-5))\n",
    "msg_id = repo.store_message(\"Hi mom!\")\n",
    "print(repo.messages)\n",
    "print(repo.get_message(msg_id))"
   ]
  },
  {
   "cell_type": "markdown",
   "id": "6153bb68",
   "metadata": {
    "slideshow": {
     "slide_type": "slide"
    }
   },
   "source": [
    "## Exercise\n",
    "\n",
    "Write a function that tracks how long the execution of another function takes."
   ]
  },
  {
   "cell_type": "markdown",
   "id": "a94f5e88",
   "metadata": {
    "slideshow": {
     "slide_type": "fragment"
    }
   },
   "source": [
    "First, let's see what this would look like without worrying about functions as objects."
   ]
  },
  {
   "cell_type": "code",
   "execution_count": null,
   "id": "f3e1f0bd",
   "metadata": {
    "execution": {
     "iopub.execute_input": "2023-10-20T00:52:12.150494Z",
     "iopub.status.busy": "2023-10-20T00:52:12.149292Z",
     "iopub.status.idle": "2023-10-20T00:52:12.171218Z",
     "shell.execute_reply": "2023-10-20T00:52:12.166342Z"
    }
   },
   "outputs": [],
   "source": [
    "import time\n",
    "\n",
    "def sum_to_100k():\n",
    "    total = 0\n",
    "    for i in range(100000):\n",
    "        total += i\n",
    "    return total\n",
    "\n",
    "start_time = time.time()\n",
    "sum_to_100k()\n",
    "end_time = time.time()\n",
    "print(f\"That took {(end_time - start_time)*1000} ms\")"
   ]
  },
  {
   "cell_type": "markdown",
   "id": "c7f8f040",
   "metadata": {
    "slideshow": {
     "slide_type": "subslide"
    }
   },
   "source": [
    "Ok, now let's write a timer function that takes another function as an argument:"
   ]
  },
  {
   "cell_type": "code",
   "execution_count": null,
   "id": "7307bc43",
   "metadata": {
    "execution": {
     "iopub.execute_input": "2023-10-20T00:52:12.181529Z",
     "iopub.status.busy": "2023-10-20T00:52:12.180777Z",
     "iopub.status.idle": "2023-10-20T00:52:12.192235Z",
     "shell.execute_reply": "2023-10-20T00:52:12.190183Z"
    }
   },
   "outputs": [],
   "source": [
    "def timed(func):\n",
    "    start_time = time.time()\n",
    "    func()\n",
    "    end_time = time.time()\n",
    "    print(f\"That took {(end_time - start_time)*1000} ms\")"
   ]
  },
  {
   "cell_type": "code",
   "execution_count": null,
   "id": "0c67986d",
   "metadata": {
    "execution": {
     "iopub.execute_input": "2023-10-20T00:52:12.197842Z",
     "iopub.status.busy": "2023-10-20T00:52:12.197169Z",
     "iopub.status.idle": "2023-10-20T00:52:12.211046Z",
     "shell.execute_reply": "2023-10-20T00:52:12.210132Z"
    }
   },
   "outputs": [],
   "source": [
    "timed(sum_to_100k)"
   ]
  },
  {
   "cell_type": "markdown",
   "id": "579f1e21",
   "metadata": {
    "slideshow": {
     "slide_type": "fragment"
    }
   },
   "source": [
    "But what if we want to time a function that takes arguments?"
   ]
  },
  {
   "cell_type": "code",
   "execution_count": null,
   "id": "2244c94e",
   "metadata": {
    "execution": {
     "iopub.execute_input": "2023-10-20T00:52:12.216617Z",
     "iopub.status.busy": "2023-10-20T00:52:12.215350Z",
     "iopub.status.idle": "2023-10-20T00:52:12.226372Z",
     "shell.execute_reply": "2023-10-20T00:52:12.223636Z"
    },
    "slideshow": {
     "slide_type": "subslide"
    }
   },
   "outputs": [],
   "source": [
    "def timed(func):\n",
    "    start_time = time.time()\n",
    "    func()\n",
    "    end_time = time.time()\n",
    "    print(f\"That took {(end_time - start_time)*1000} ms\")\n",
    "    \n",
    "def sum_to(n):\n",
    "    total = 0\n",
    "    for i in range(n):\n",
    "        total += i\n",
    "    return total"
   ]
  },
  {
   "cell_type": "markdown",
   "id": "e955a5db",
   "metadata": {
    "slideshow": {
     "slide_type": "-"
    }
   },
   "source": [
    "`timed` takes in a function, `func`, which can't take any arguments. This is because `timed` calls `func` with 0 arguments.\n",
    "\n",
    "One way to use `sum_to(n)` would be to use a lambda to create a function that takes 0 arguments:"
   ]
  },
  {
   "cell_type": "code",
   "execution_count": null,
   "id": "ee23cc02",
   "metadata": {
    "execution": {
     "iopub.execute_input": "2023-10-20T00:52:12.231122Z",
     "iopub.status.busy": "2023-10-20T00:52:12.230337Z",
     "iopub.status.idle": "2023-10-20T00:52:12.242372Z",
     "shell.execute_reply": "2023-10-20T00:52:12.241419Z"
    }
   },
   "outputs": [],
   "source": [
    "timed(lambda: sum_to(100000))"
   ]
  },
  {
   "cell_type": "markdown",
   "id": "f56b7c58",
   "metadata": {
    "slideshow": {
     "slide_type": "subslide"
    }
   },
   "source": [
    "This is a little awkward.\n",
    "\n",
    "Luckily, Python gives us 2 special arguments: `*args` and `**kwargs`.\n",
    "\n",
    "`*args` represents all the positional paramaters, and `**kwargs` represents all the keyword (named) parameters passed to a function. (The `kw` in `kwargs` stands for \"keyword\".)"
   ]
  },
  {
   "cell_type": "code",
   "execution_count": null,
   "id": "34e227da",
   "metadata": {
    "execution": {
     "iopub.execute_input": "2023-10-20T00:52:12.246964Z",
     "iopub.status.busy": "2023-10-20T00:52:12.246541Z",
     "iopub.status.idle": "2023-10-20T00:52:12.253157Z",
     "shell.execute_reply": "2023-10-20T00:52:12.252277Z"
    }
   },
   "outputs": [],
   "source": [
    "def timed(func, *args, **kwargs):\n",
    "    start_time = time.time()\n",
    "    func(*args, **kwargs)\n",
    "    end_time = time.time()\n",
    "    print(f\"That took {(end_time - start_time)*1000} ms\")"
   ]
  },
  {
   "cell_type": "code",
   "execution_count": null,
   "id": "93df76fa",
   "metadata": {
    "execution": {
     "iopub.execute_input": "2023-10-20T00:52:12.257153Z",
     "iopub.status.busy": "2023-10-20T00:52:12.256813Z",
     "iopub.status.idle": "2023-10-20T00:52:12.270185Z",
     "shell.execute_reply": "2023-10-20T00:52:12.269165Z"
    }
   },
   "outputs": [],
   "source": [
    "timed(sum_to, 100000)"
   ]
  },
  {
   "cell_type": "markdown",
   "id": "a60d67bc",
   "metadata": {
    "slideshow": {
     "slide_type": "subslide"
    }
   },
   "source": [
    "`timed` now accepts a function, `func`, and any number of additional arguments. All those extra arguments are \"passed through\" to `func`.\n",
    "\n",
    "`*args` and `**kwargs` effectively act as wildcard parameters, and let `timed` pass them through without needing to know what they are, or how many of them there are."
   ]
  },
  {
   "cell_type": "code",
   "execution_count": null,
   "id": "3f4e3417",
   "metadata": {
    "execution": {
     "iopub.execute_input": "2023-10-20T00:52:12.274797Z",
     "iopub.status.busy": "2023-10-20T00:52:12.274088Z",
     "iopub.status.idle": "2023-10-20T00:52:12.279006Z",
     "shell.execute_reply": "2023-10-20T00:52:12.278038Z"
    }
   },
   "outputs": [],
   "source": [
    "def timed(func, *args, **kwargs):\n",
    "    start_time = time.time()\n",
    "    func(*args, **kwargs)\n",
    "    end_time = time.time()\n",
    "    print(f\"That took {(end_time - start_time)*1000} ms\")"
   ]
  },
  {
   "cell_type": "code",
   "execution_count": null,
   "id": "26b358b7",
   "metadata": {
    "execution": {
     "iopub.execute_input": "2023-10-20T00:52:12.284751Z",
     "iopub.status.busy": "2023-10-20T00:52:12.283241Z",
     "iopub.status.idle": "2023-10-20T00:52:12.296719Z",
     "shell.execute_reply": "2023-10-20T00:52:12.295881Z"
    }
   },
   "outputs": [],
   "source": [
    "def silly_sum_to(n, a, b, c, d, e, f, g):\n",
    "    return sum_to(n)\n",
    "\n",
    "timed(silly_sum_to, 100000, 1, 2, 3, 4, 5, 6, 7)"
   ]
  },
  {
   "cell_type": "markdown",
   "id": "99a1fded",
   "metadata": {
    "slideshow": {
     "slide_type": "subslide"
    }
   },
   "source": [
    "## Using functions to make functions\n",
    "\n",
    "Our last version of `timed` ran the function when it was called.\n",
    "\n",
    "What if, instead, we made it create a new, timed version of our function that we could call later?\n",
    "\n"
   ]
  },
  {
   "cell_type": "markdown",
   "id": "17e22efc",
   "metadata": {
    "slideshow": {
     "slide_type": "subslide"
    }
   },
   "source": [
    "Here's a new version of `timed` that returns a function wrapped in a timer. \n",
    "\n",
    "This `timed` doesn't run the function directly - it creates a new function and returns it, similar to `make_caesar_shift`."
   ]
  },
  {
   "cell_type": "code",
   "execution_count": null,
   "id": "c62857df",
   "metadata": {
    "execution": {
     "iopub.execute_input": "2023-10-20T00:52:12.302908Z",
     "iopub.status.busy": "2023-10-20T00:52:12.302524Z",
     "iopub.status.idle": "2023-10-20T00:52:12.307551Z",
     "shell.execute_reply": "2023-10-20T00:52:12.306750Z"
    }
   },
   "outputs": [],
   "source": [
    "def timed(func):\n",
    "    def wrapped():\n",
    "        start_time = time.time()    \n",
    "        func()\n",
    "        end_time = time.time()\n",
    "        print(f\"That took {(end_time - start_time)*1000} ms\")        \n",
    "    return wrapped"
   ]
  },
  {
   "cell_type": "code",
   "execution_count": null,
   "id": "b16fdc4a",
   "metadata": {
    "execution": {
     "iopub.execute_input": "2023-10-20T00:52:12.311529Z",
     "iopub.status.busy": "2023-10-20T00:52:12.311086Z",
     "iopub.status.idle": "2023-10-20T00:52:12.331441Z",
     "shell.execute_reply": "2023-10-20T00:52:12.330588Z"
    },
    "slideshow": {
     "slide_type": "-"
    }
   },
   "outputs": [],
   "source": [
    "frankenfunc = timed(sum_to)\n",
    "frankenfunc(100)\n",
    "frankenfunc(2000000)"
   ]
  },
  {
   "cell_type": "markdown",
   "id": "fdb7bda4",
   "metadata": {
    "slideshow": {
     "slide_type": "subslide"
    }
   },
   "source": [
    "This has the same problem with passing arguments - `*args` and `**kwargs` will work again here."
   ]
  },
  {
   "cell_type": "code",
   "execution_count": null,
   "id": "a3cbafae",
   "metadata": {
    "execution": {
     "iopub.execute_input": "2023-10-20T00:52:12.337614Z",
     "iopub.status.busy": "2023-10-20T00:52:12.337151Z",
     "iopub.status.idle": "2023-10-20T00:52:12.342103Z",
     "shell.execute_reply": "2023-10-20T00:52:12.341354Z"
    },
    "slideshow": {
     "slide_type": "-"
    }
   },
   "outputs": [],
   "source": [
    "def timed(func):\n",
    "    def wrapped(*args, **kwargs):\n",
    "        start_time = time.time()    \n",
    "        func(*args, **kwargs)\n",
    "        end_time = time.time()\n",
    "        print(f\"That took {(end_time - start_time)*1000} ms\")        \n",
    "    return wrapped\n",
    "\n",
    "def sum_to(n):\n",
    "    total = 0\n",
    "    for i in range(n):\n",
    "        total += i\n",
    "    return total"
   ]
  },
  {
   "cell_type": "code",
   "execution_count": null,
   "id": "d8a564bb",
   "metadata": {
    "execution": {
     "iopub.execute_input": "2023-10-20T00:52:12.346153Z",
     "iopub.status.busy": "2023-10-20T00:52:12.345654Z",
     "iopub.status.idle": "2023-10-20T00:52:12.471176Z",
     "shell.execute_reply": "2023-10-20T00:52:12.470517Z"
    },
    "slideshow": {
     "slide_type": "-"
    }
   },
   "outputs": [],
   "source": [
    "frankenfunc = timed(sum_to)\n",
    "frankenfunc(100)\n",
    "frankenfunc(2000000)"
   ]
  },
  {
   "cell_type": "markdown",
   "id": "a153065d",
   "metadata": {
    "slideshow": {
     "slide_type": "subslide"
    }
   },
   "source": [
    "We won't go deeper into `*args` and `**kwargs` in this class. You can do interesting and complicated (often: overcomplicated) things with them. \n",
    "\n",
    "If you want to read more about them, here's an [introduction](https://www.programiz.com/python-programming/args-and-kwargs).\n",
    "\n",
    "The important point for this exercise is that they make it possible for intermediate functions to \"pass through\" sets of arguments without needing to know what they are, or how many there are."
   ]
  },
  {
   "cell_type": "markdown",
   "id": "ec453560",
   "metadata": {
    "slideshow": {
     "slide_type": "slide"
    }
   },
   "source": [
    "## Decorators\n",
    "\n",
    "Python has a feature called \"decorators\", which is \"syntactic sugar\" for wrapping a function in another function."
   ]
  },
  {
   "cell_type": "code",
   "execution_count": null,
   "id": "275d552b",
   "metadata": {
    "execution": {
     "iopub.execute_input": "2023-10-20T00:52:12.474585Z",
     "iopub.status.busy": "2023-10-20T00:52:12.474297Z",
     "iopub.status.idle": "2023-10-20T00:52:12.479307Z",
     "shell.execute_reply": "2023-10-20T00:52:12.478599Z"
    }
   },
   "outputs": [],
   "source": [
    "def timed(func):\n",
    "    def wrapped(*args, **kwargs):\n",
    "        start_time = time.time()    \n",
    "        func(*args, **kwargs)\n",
    "        end_time = time.time()\n",
    "        print(f\"That took {(end_time - start_time)*1000} ms\")        \n",
    "    return wrapped\n",
    "\n",
    "@timed\n",
    "def sum_to(n):\n",
    "    total = 0\n",
    "    for i in range(n):\n",
    "        total += i\n",
    "    return total"
   ]
  },
  {
   "cell_type": "code",
   "execution_count": null,
   "id": "67031e7e",
   "metadata": {
    "execution": {
     "iopub.execute_input": "2023-10-20T00:52:12.482791Z",
     "iopub.status.busy": "2023-10-20T00:52:12.482370Z",
     "iopub.status.idle": "2023-10-20T00:52:12.544441Z",
     "shell.execute_reply": "2023-10-20T00:52:12.543730Z"
    }
   },
   "outputs": [],
   "source": [
    "sum_to(1000000)"
   ]
  },
  {
   "cell_type": "markdown",
   "id": "1488a73c",
   "metadata": {
    "slideshow": {
     "slide_type": "subslide"
    }
   },
   "source": [
    "## Decorators\n",
    "\n",
    "Creating a decorator is a fairly advanced Python programming activity.\n",
    "\n",
    "However, using them is common - many libraries to provide them to use, so you should recognize them, and understand that they are modifying the function they apply to, often in complex, seemingly-magical ways."
   ]
  },
  {
   "cell_type": "markdown",
   "id": "e969c8df",
   "metadata": {
    "slideshow": {
     "slide_type": "slide"
    }
   },
   "source": [
    "## Wrap up\n",
    "\n",
    "We covered some pretty advanced concepts today. Many of these are beyond the scope of a typical introductory level programming course.\n",
    "\n",
    "If you don't feel comfortable with the idea that functions are objects, or didn't follow the examples up to (but not including) `make_caesar_cipher`, you should review the beginning of the lecture.\n",
    "\n",
    "If you felt lost after that, please don't hesitate to reach out with questions if you want to understand... but also don't expect to see these topics on a quiz or in the last problem set."
   ]
  }
 ],
 "metadata": {
  "celltoolbar": "Slideshow",
  "kernelspec": {
   "display_name": "Python 3 (ipykernel)",
   "language": "python",
   "name": "python3"
  },
  "language_info": {
   "codemirror_mode": {
    "name": "ipython",
    "version": 3
   },
   "file_extension": ".py",
   "mimetype": "text/x-python",
   "name": "python",
   "nbconvert_exporter": "python",
   "pygments_lexer": "ipython3",
   "version": "3.10.9"
  }
 },
 "nbformat": 4,
 "nbformat_minor": 5
}
