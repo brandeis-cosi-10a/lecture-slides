{
 "cells": [
  {
   "cell_type": "code",
   "execution_count": null,
   "id": "94a8aa00",
   "metadata": {},
   "outputs": [],
   "source": []
  },
  {
   "cell_type": "markdown",
   "id": "78a08e05",
   "metadata": {
    "slideshow": {
     "slide_type": "slide"
    }
   },
   "source": [
    "# Announcements\n",
    "\n",
    "* PS7 due tonight, 11:59pm\n",
    "* PS8 out today, due Tuesday 11/26, 11:59pm\n",
    "* Quiz 9 this Wednesday\n",
    "* You are required to stay and correct any outstanding quiz questions after the quiz on Wednesday"
   ]
  },
  {
   "cell_type": "markdown",
   "id": "1ee8a1d2",
   "metadata": {
    "slideshow": {
     "slide_type": "slide"
    }
   },
   "source": [
    "# File Input/Output, CSVs\n",
    "\n",
    "<style>\n",
    "section.present > section.present { \n",
    "    max-height: 90%; \n",
    "    overflow-y: scroll;\n",
    "}\n",
    "</style>\n",
    "\n",
    "<small><a href=\"https://colab.research.google.com/github/brandeis-jdelfino/cosi-10a/blob/main/lectures/notebooks/12_file_io.ipynb\">Link to interactive slides on Google Colab</a></small>"
   ]
  },
  {
   "cell_type": "markdown",
   "id": "5169b53d",
   "metadata": {
    "slideshow": {
     "slide_type": "slide"
    }
   },
   "source": [
    "# Reading files\n",
    "\n",
    "Python allows you to read the contents of files:"
   ]
  },
  {
   "cell_type": "code",
   "execution_count": null,
   "id": "09399bfb",
   "metadata": {},
   "outputs": [],
   "source": [
    "f = open('../../snippets/names.txt')\n",
    "print(f.read())"
   ]
  },
  {
   "cell_type": "markdown",
   "id": "14a564ba",
   "metadata": {
    "slideshow": {
     "slide_type": "subslide"
    }
   },
   "source": [
    "You can also get the data one line at a a time:"
   ]
  },
  {
   "cell_type": "code",
   "execution_count": null,
   "id": "7e2e5bb2",
   "metadata": {},
   "outputs": [],
   "source": [
    "f = open('../../snippets/names.txt')\n",
    "for line in f:\n",
    "    print(line, end='')\n"
   ]
  },
  {
   "cell_type": "markdown",
   "id": "8156b975",
   "metadata": {},
   "source": [
    "Note the `end=''` for the `print`. \n",
    "\n",
    "When reading a file, the newlines from the file are returned as part of each line. \n",
    "\n",
    "You can strip them out with the `strip()` string method, depending on how you want to use the data."
   ]
  },
  {
   "cell_type": "code",
   "execution_count": null,
   "id": "ec054b09",
   "metadata": {
    "slideshow": {
     "slide_type": "subslide"
    }
   },
   "outputs": [],
   "source": [
    "f = open('../../snippets/names.txt')\n",
    "for line in f:\n",
    "    print(f\"Name: {line.strip()}\")"
   ]
  },
  {
   "cell_type": "markdown",
   "id": "4a1128bc",
   "metadata": {
    "slideshow": {
     "slide_type": "subslide"
    }
   },
   "source": [
    "## File objects\n",
    "\n",
    "`open()` returns a \"file object\". File objects have a number of methods, and are also **iterables** - that's why we were able to use a for loop on them."
   ]
  },
  {
   "cell_type": "markdown",
   "id": "3a8ef820",
   "metadata": {
    "slideshow": {
     "slide_type": "slide"
    }
   },
   "source": [
    "# Writing Files\n",
    "\n",
    "You can write strings to files:"
   ]
  },
  {
   "cell_type": "code",
   "execution_count": null,
   "id": "8df33eb0",
   "metadata": {},
   "outputs": [],
   "source": [
    "f = open('../../snippets/output.txt', 'w')\n",
    "f.write(\"Hello, files!\")\n",
    "f.close()\n",
    "\n",
    "g = open('../../snippets/output.txt', 'r')\n",
    "print(f\"File contents: {g.read()}\")"
   ]
  },
  {
   "cell_type": "markdown",
   "id": "95f0453c",
   "metadata": {},
   "source": [
    "Note the call to `close()` - files must be closed after writing to them."
   ]
  },
  {
   "cell_type": "markdown",
   "id": "9384b03b",
   "metadata": {
    "slideshow": {
     "slide_type": "subslide"
    }
   },
   "source": [
    "## File modes\n",
    "\n",
    "Notice that we called `open` slightly differently for writing vs. reading:\n",
    "\n",
    "`open('../../snippets/output.txt', 'w')`  \n",
    "vs.  \n",
    "`open('../../snippets/output.txt', 'r')`\n",
    "\n",
    "The second paramater is the \"mode\". There are several modes, but the most commonly useful are:\n",
    "\n",
    "| character | mode |\n",
    "|:---:|:---|\n",
    "| r | open for reading (default) |\n",
    "| w | open for writing, truncating the file first |\n",
    "| a | open for writing, appending to the end of file if it exists |"
   ]
  },
  {
   "cell_type": "markdown",
   "id": "ec99d3c7",
   "metadata": {
    "slideshow": {
     "slide_type": "subslide"
    }
   },
   "source": [
    "## Closing files\n",
    "\n",
    "Files need to be closed when they are no longer needed. \n",
    "\n",
    "We did it above with the `.close()` method.\n",
    "\n",
    "This is especially important when writing data to files, because the data is sometimes not actually written to the file until `close()` is called!"
   ]
  },
  {
   "cell_type": "code",
   "execution_count": null,
   "id": "891c1dbf",
   "metadata": {},
   "outputs": [],
   "source": [
    "f = open('../../snippets/output.txt', 'w')\n",
    "f.write(\"Hello, files!\")\n",
    "#f.close()\n",
    "\n",
    "g = open('../../snippets/output.txt', 'r')\n",
    "print(f\"File contents: {g.read()}\")"
   ]
  },
  {
   "cell_type": "markdown",
   "id": "c5255c02",
   "metadata": {
    "slideshow": {
     "slide_type": "subslide"
    }
   },
   "source": [
    "File objects have a `closed` attribute that can be accessed to tell you whether a file has been closed or not."
   ]
  },
  {
   "cell_type": "code",
   "execution_count": null,
   "id": "81b8ca11",
   "metadata": {},
   "outputs": [],
   "source": [
    "output_filename = '../../snippets/output.txt'\n",
    "output_file = open(output_filename, 'w')\n",
    "\n",
    "print(f\"[Before writing to file] Is f closed? {output_file.closed}\")\n",
    "output_file.write(\"Hello, files!\")\n",
    "print(f\"[After writing to file] Is f closed? {output_file.closed}\")\n",
    "output_file.close()\n",
    "print(f\"[After closing] Is f closed? {output_file.closed}\")\n",
    "\n",
    "g = open('../../snippets/output.txt', 'r')\n",
    "print(f\"File contents: {g.read()}\")\n",
    "print(f\"[After reading file contents] Is g closed? {g.closed}\")"
   ]
  },
  {
   "cell_type": "markdown",
   "id": "6d6a787f",
   "metadata": {
    "slideshow": {
     "slide_type": "slide"
    }
   },
   "source": [
    "## `with`\n",
    "\n",
    "There's a convenient way to ensure you don't forget to close a file: a `with` clause."
   ]
  },
  {
   "cell_type": "code",
   "execution_count": null,
   "id": "6902e747",
   "metadata": {},
   "outputs": [],
   "source": [
    "with open('../../snippets/names.txt', 'r') as f:\n",
    "    print(f\"[Before for loop] Is f closed? {f.closed}\")\n",
    "    \n",
    "    for line in f:\n",
    "        print(line, end='')\n",
    "    \n",
    "    print(f\"[After for loop] Is f closed? {f.closed}\")\n",
    "\n",
    "print(f\"[Outside 'with' clause] Is f closed? {f.closed}\")"
   ]
  },
  {
   "cell_type": "markdown",
   "id": "02d8f99d",
   "metadata": {},
   "source": [
    "This code opens the file, assigns the file object to the variable `f`, executes the code inside the `with` block, then automatically closes the file when exiting the `with` block."
   ]
  },
  {
   "cell_type": "markdown",
   "id": "1f344c65",
   "metadata": {
    "slideshow": {
     "slide_type": "subslide"
    }
   },
   "source": [
    "## Context managers\n",
    "\n",
    "File objects are **context managers**, which means they can be used with the `with` statement to manage resources automatically when entering and exiting a `with` block.\n",
    "\n",
    "There are other context managers in Python, and you can even [write your own](https://docs.python.org/3/reference/datamodel.html#context-managers). \n",
    "\n",
    "It's good practice to handle file objects with `with` rather than closing manually."
   ]
  },
  {
   "cell_type": "markdown",
   "id": "302725d4",
   "metadata": {
    "slideshow": {
     "slide_type": "slide"
    }
   },
   "source": [
    "## Exercise\n",
    "\n",
    "Read in two files, `../../snippets/hamlet.txt` and `../../snippets/macbeth.txt` and print out all the lines that are found in both files."
   ]
  },
  {
   "cell_type": "markdown",
   "id": "9d881c37",
   "metadata": {
    "slideshow": {
     "slide_type": "subslide"
    }
   },
   "source": [
    "First, read a single file into a list and print out some things about it:"
   ]
  },
  {
   "cell_type": "code",
   "execution_count": null,
   "id": "4032c36f",
   "metadata": {},
   "outputs": [],
   "source": [
    "macbeth = []\n",
    "with open('../../snippets/shakespeare/macbeth.txt', 'r') as f:\n",
    "    for line in f:\n",
    "        macbeth.append(line.strip())\n",
    "\n",
    "print(f\"Found {len(macbeth)} total lines.\")\n",
    "print()\n",
    "print(\"First 10 lines:\")\n",
    "print()\n",
    "for line in macbeth[:10]:\n",
    "    print(line)\n",
    "\n",
    "print()\n",
    "print(\"10 lines from the middle:\")\n",
    "print()\n",
    "for line in macbeth[2000:2010]:\n",
    "    print(line)\n"
   ]
  },
  {
   "cell_type": "markdown",
   "id": "564065cb",
   "metadata": {
    "slideshow": {
     "slide_type": "subslide"
    }
   },
   "source": [
    "Now read the other file too, and check for overlap:"
   ]
  },
  {
   "cell_type": "code",
   "execution_count": null,
   "id": "134e4057",
   "metadata": {},
   "outputs": [],
   "source": [
    "macbeth = []\n",
    "hamlet = []\n",
    "\n",
    "with open('../../snippets/shakespeare/macbeth.txt', 'r') as f:\n",
    "    for line in f:\n",
    "        macbeth.append(line.strip())\n",
    "\n",
    "with open('../../snippets/shakespeare/hamlet.txt', 'r') as f:\n",
    "    for line in f:\n",
    "        hamlet.append(line.strip())\n",
    "\n",
    "for line in hamlet:\n",
    "    if line in macbeth:\n",
    "        print(line)"
   ]
  },
  {
   "cell_type": "markdown",
   "id": "380b60a1",
   "metadata": {
    "slideshow": {
     "slide_type": "subslide"
    }
   },
   "source": [
    "Looks like we need to handle duplicates..."
   ]
  },
  {
   "cell_type": "code",
   "execution_count": null,
   "id": "eabc8fe7",
   "metadata": {
    "slideshow": {
     "slide_type": "fragment"
    }
   },
   "outputs": [],
   "source": [
    "macbeth = set()\n",
    "hamlet = set()\n",
    "\n",
    "with open('../../snippets/shakespeare/macbeth.txt', 'r') as f:\n",
    "    for line in f:\n",
    "        macbeth.add(line.strip())\n",
    "\n",
    "with open('../../snippets/shakespeare/hamlet.txt', 'r') as f:\n",
    "    for line in f:\n",
    "        hamlet.add(line.strip())\n",
    "\n",
    "print(hamlet & macbeth)"
   ]
  },
  {
   "cell_type": "markdown",
   "id": "be2707aa",
   "metadata": {
    "slideshow": {
     "slide_type": "subslide"
    }
   },
   "source": [
    "We can make the output a little prettier"
   ]
  },
  {
   "cell_type": "code",
   "execution_count": null,
   "id": "3f1b43a0",
   "metadata": {},
   "outputs": [],
   "source": [
    "macbeth = set()\n",
    "hamlet = set()\n",
    "\n",
    "with open('../../snippets/shakespeare/hamlet.txt', 'r') as f:\n",
    "    for line in f:\n",
    "        hamlet.add(line.strip())\n",
    "\n",
    "with open('../../snippets/shakespeare/macbeth.txt', 'r') as f:\n",
    "    for line in f:\n",
    "        macbeth.add(line.strip())\n",
    "\n",
    "overlapping = sorted(list(macbeth & hamlet))\n",
    "print('\\n'.join(overlapping))"
   ]
  },
  {
   "cell_type": "markdown",
   "id": "97471c68",
   "metadata": {
    "slideshow": {
     "slide_type": "slide"
    }
   },
   "source": [
    "## Exercise 2\n",
    "\n",
    "Do the same thing for all of Shakespeare's plays at once."
   ]
  },
  {
   "cell_type": "code",
   "execution_count": null,
   "id": "90939f8d",
   "metadata": {},
   "outputs": [],
   "source": [
    "macbeth = set()\n",
    "hamlet = set()\n",
    "othello = set()\n",
    "henry_iv_part1 = set()\n",
    "henry_iv_part2 = set()\n",
    "# ..."
   ]
  },
  {
   "cell_type": "markdown",
   "id": "b471ed9e",
   "metadata": {
    "slideshow": {
     "slide_type": "fragment"
    }
   },
   "source": [
    "There must be an easier way."
   ]
  },
  {
   "cell_type": "markdown",
   "id": "83291360",
   "metadata": {
    "slideshow": {
     "slide_type": "subslide"
    }
   },
   "source": [
    "We can use `os.listdir()` to get everything in a directory."
   ]
  },
  {
   "cell_type": "code",
   "execution_count": null,
   "id": "3966481d",
   "metadata": {},
   "outputs": [],
   "source": [
    "import os\n",
    "play_files = []\n",
    "for f in os.listdir('../../snippets/shakespeare/'):\n",
    "    play_files.append(f)\n",
    "print(play_files)\n",
    "print(len(play_files))"
   ]
  },
  {
   "cell_type": "markdown",
   "id": "18d559f1",
   "metadata": {
    "slideshow": {
     "slide_type": "subslide"
    }
   },
   "source": [
    "Next problem, how do we avoid writing 41 for loops?\n",
    "\n",
    "Let's functionally decompose, 2 steps:\n",
    "1. Find all file names and load the lines from each file into a set\n",
    "2. Find the intersection between the lines from each file"
   ]
  },
  {
   "cell_type": "markdown",
   "id": "2c5ece84",
   "metadata": {
    "slideshow": {
     "slide_type": "subslide"
    }
   },
   "source": [
    "1. Find all file names and load the lines from each file into a set"
   ]
  },
  {
   "cell_type": "code",
   "execution_count": null,
   "id": "f6373c39",
   "metadata": {
    "slideshow": {
     "slide_type": "-"
    }
   },
   "outputs": [],
   "source": [
    "def load_files(directory):\n",
    "    all_data = []\n",
    "    for filename in os.listdir(directory): \n",
    "        play_lines = set()\n",
    "        with open(directory + filename, 'r') as f:\n",
    "            for line in f:\n",
    "                play_lines.add(line.strip())\n",
    "        all_data.append(play_lines)\n",
    "    return all_data"
   ]
  },
  {
   "cell_type": "markdown",
   "id": "0c88398f",
   "metadata": {
    "slideshow": {
     "slide_type": "subslide"
    }
   },
   "source": [
    "Let's make this more readable - split out the code to process a single file"
   ]
  },
  {
   "cell_type": "code",
   "execution_count": null,
   "id": "c6d0fc0d",
   "metadata": {
    "slideshow": {
     "slide_type": "-"
    }
   },
   "outputs": [],
   "source": [
    "def load_file(filename):\n",
    "    play_lines = set()\n",
    "    with open(filename, 'r') as f:\n",
    "        for line in f:\n",
    "            play_lines.add(line.strip())\n",
    "    return play_lines\n",
    "\n",
    "def load_files(directory):\n",
    "    all_data = []\n",
    "    for filename in os.listdir(directory):\n",
    "        all_data.append(load_file(directory + filename))\n",
    "    return all_data"
   ]
  },
  {
   "cell_type": "code",
   "execution_count": null,
   "id": "370c770b",
   "metadata": {
    "slideshow": {
     "slide_type": "subslide"
    },
    "tags": [
     "raises-exception"
    ]
   },
   "outputs": [],
   "source": [
    "all_lines = load_files('../../snippets/shakespeare/')\n",
    "\n",
    "print(f\"Loaded {len(all_lines)} files\")\n",
    "for play in all_lines:\n",
    "    print(f\"Unique lines: {len(play)}\")"
   ]
  },
  {
   "cell_type": "markdown",
   "id": "b590cd6d",
   "metadata": {
    "slideshow": {
     "slide_type": "subslide"
    }
   },
   "source": [
    "Hm, might be nice to see filenames. Let's do a dictionary of sets."
   ]
  },
  {
   "cell_type": "code",
   "execution_count": null,
   "id": "66871d9b",
   "metadata": {
    "slideshow": {
     "slide_type": "-"
    }
   },
   "outputs": [],
   "source": [
    "def load_file(filename):\n",
    "    play_lines = set()\n",
    "    with open(filename, 'r') as f:\n",
    "        for line in f:\n",
    "            play_lines.add(line.strip())\n",
    "    return play_lines\n",
    "\n",
    "def load_files(directory):\n",
    "    all_data = {}\n",
    "    for filename in os.listdir(directory):\n",
    "        all_data[filename] = load_file(directory + filename)\n",
    "    return all_data"
   ]
  },
  {
   "cell_type": "code",
   "execution_count": null,
   "id": "7f2e198c",
   "metadata": {
    "slideshow": {
     "slide_type": "subslide"
    },
    "tags": [
     "raises-exception"
    ]
   },
   "outputs": [],
   "source": [
    "play_lines = load_files('../../snippets/shakespeare/')\n",
    "\n",
    "print(f\"Loaded {len(play_lines)} files\")\n",
    "for play in play_lines:\n",
    "    print(f\"unique lines: {len(play_lines[play])} ({play})\")"
   ]
  },
  {
   "cell_type": "markdown",
   "id": "0857904d",
   "metadata": {
    "slideshow": {
     "slide_type": "subslide"
    }
   },
   "source": [
    "2. Find the intersection between the lines from each file"
   ]
  },
  {
   "cell_type": "code",
   "execution_count": null,
   "id": "3fed899e",
   "metadata": {},
   "outputs": [],
   "source": [
    "play_lines = load_files('../../snippets/shakespeare/')"
   ]
  },
  {
   "cell_type": "code",
   "execution_count": null,
   "id": "87bf4b83",
   "metadata": {},
   "outputs": [],
   "source": [
    "common_lines = set()\n",
    "for play in play_lines:\n",
    "    common_lines = common_lines & play_lines[play]\n",
    "    print(common_lines)\n",
    "print(common_lines)"
   ]
  },
  {
   "cell_type": "markdown",
   "id": "f3ed331b",
   "metadata": {
    "slideshow": {
     "slide_type": "fragment"
    }
   },
   "source": [
    "Seems suspicious... let's debug"
   ]
  },
  {
   "cell_type": "code",
   "execution_count": null,
   "id": "5a07aa24",
   "metadata": {
    "slideshow": {
     "slide_type": "subslide"
    }
   },
   "outputs": [],
   "source": [
    "common_lines = set()\n",
    "for play in play_lines:\n",
    "    common_lines = common_lines & play_lines[play]\n",
    "    print(f\"Lines after intersection with {play}: {len(common_lines)}\")\n",
    "print(common_lines)"
   ]
  },
  {
   "cell_type": "markdown",
   "id": "3b9cd628",
   "metadata": {
    "slideshow": {
     "slide_type": "subslide"
    }
   },
   "source": [
    "Oh, we start with an empty set. An empty set intersected with anything is... an empty set. Start with the first play instead."
   ]
  },
  {
   "cell_type": "code",
   "execution_count": null,
   "id": "0b1ee810",
   "metadata": {
    "slideshow": {
     "slide_type": "-"
    }
   },
   "outputs": [],
   "source": [
    "common_lines = None\n",
    "for play in play_lines:\n",
    "    if common_lines is None:\n",
    "        common_lines = play_lines[play]\n",
    "    else:\n",
    "        common_lines = common_lines & play_lines[play]\n",
    "    print(f\"Lines after intersection with {play}: {len(common_lines)}\")\n",
    "print(common_lines)"
   ]
  },
  {
   "cell_type": "markdown",
   "id": "4aa111a0",
   "metadata": {
    "slideshow": {
     "slide_type": "slide"
    }
   },
   "source": [
    "# CSV files\n",
    "\n",
    "CSV stands for \"character separated values\". \n",
    "\n",
    "In CSV files, rows of data are represented by lines in a file, and columns of data are separated by a specific character, called a **delimiter**. Commas (`,`) are commonly used as a delimiter, but any character can be a delimiter.\n",
    "\n",
    "CSV files are another common way to store structured data, especially if the data is tabular (like a spreadsheet).\n",
    "\n",
    "Here's an example of CSV data. Each line contains 4 fields: `id`, `name`, `house`, `hair color`:"
   ]
  },
  {
   "cell_type": "code",
   "execution_count": null,
   "id": "5fe876c9",
   "metadata": {},
   "outputs": [],
   "source": [
    "with open('../../snippets/csv_example.csv', 'r') as f:\n",
    "    for line in f:\n",
    "        split_line = line.strip().split(',')\n",
    "        print(f\"{split_line[1]} has {split_line[3]} colored hair\")\n"
   ]
  },
  {
   "cell_type": "markdown",
   "id": "ac58d7aa",
   "metadata": {
    "slideshow": {
     "slide_type": "subslide"
    }
   },
   "source": [
    "## Reading CSVs\n",
    "\n",
    "We could just use `.split(',')` to split each line into a list. But Python provides some nice CSV utilities in the `csv` module.\n",
    "\n",
    "`csv.reader()` creates an iterable object that produces each line as a list."
   ]
  },
  {
   "cell_type": "code",
   "execution_count": null,
   "id": "7ae5a1e0",
   "metadata": {},
   "outputs": [],
   "source": [
    "import csv\n",
    "with open('../../snippets/csv_example.csv', 'r') as f:\n",
    "    reader = csv.reader(f, delimiter=',')\n",
    "    for line in reader:\n",
    "        print(line)"
   ]
  },
  {
   "cell_type": "markdown",
   "id": "0fb1e37d",
   "metadata": {
    "slideshow": {
     "slide_type": "slide"
    }
   },
   "source": [
    "# Announcements\n",
    "\n",
    "* Quiz 9 tonight (files)\n",
    "* PS8 due next Tuesday 11/26, 11:59pm"
   ]
  },
  {
   "cell_type": "markdown",
   "id": "19f39836",
   "metadata": {
    "slideshow": {
     "slide_type": "subslide"
    }
   },
   "source": [
    "## Writing CSVs\n",
    "\n",
    "`csv.writer()` creates an object with a `writerow` method, which takes a `list` and writes it out as a single CSV row."
   ]
  },
  {
   "cell_type": "code",
   "execution_count": null,
   "id": "db79160a",
   "metadata": {
    "slideshow": {
     "slide_type": "-"
    }
   },
   "outputs": [],
   "source": [
    "import csv\n",
    "data = [\n",
    "    ['11', 'Harry', 'Gryffindor', 'Brown'],\n",
    "    ['18', 'Draco', 'Slytherin', 'Blonde'],\n",
    "    ['22', 'Cho', 'Ravenclaw', 'Black'],\n",
    "    ['28', 'Ron', 'Gryffindor', 'Red'],\n",
    "    ['47', 'Hermione', 'Gryffindor', 'Brown']]\n",
    "\n",
    "with open('../../snippets/csv_example2.csv', 'w', newline='') as f:\n",
    "    writer = csv.writer(f, delimiter='|')\n",
    "    for d in data:\n",
    "        writer.writerow(d)\n",
    "        \n",
    "with open('../../snippets/csv_example2.csv', 'r') as f:\n",
    "    for line in f:\n",
    "        print(line, end='')"
   ]
  },
  {
   "cell_type": "markdown",
   "id": "f79043f9",
   "metadata": {
    "slideshow": {
     "slide_type": "subslide"
    }
   },
   "source": [
    "## How useful is this, really?\n",
    "\n",
    "Why use the `csv` module, when `split()` and `join()` calls are so easy?\n",
    "\n",
    "Well, it handles a lot of edge cases - for example, escaped delimiters within fields."
   ]
  },
  {
   "cell_type": "markdown",
   "id": "da013658",
   "metadata": {
    "slideshow": {
     "slide_type": "subslide"
    }
   },
   "source": [
    "Here's an example using `split()` and `join()`"
   ]
  },
  {
   "cell_type": "code",
   "execution_count": null,
   "id": "81ebdefe",
   "metadata": {},
   "outputs": [],
   "source": []
  },
  {
   "cell_type": "code",
   "execution_count": null,
   "id": "029d85ca",
   "metadata": {
    "slideshow": {
     "slide_type": "-"
    }
   },
   "outputs": [],
   "source": [
    "import csv\n",
    "data = [\n",
    "    ['11', 'Harry', 'Gryffindor', 'Brown,mostly'],\n",
    "    ['18', 'Draco', 'Slytherin', 'Blonde,mostly'],\n",
    "    ['22', 'Cho', 'Ravenclaw', 'Black,really'],\n",
    "    ['28', 'Ron', 'Gryffindor', 'Red,very'],\n",
    "    ['47', 'Hermione', 'Gryffindor', 'Brown']]\n",
    "\n",
    "with open('../../snippets/csv_example2.csv', 'w', newline='') as f:\n",
    "    for d in data:\n",
    "        f.write(','.join(d) + '\\n')\n",
    "        \n",
    "with open('../../snippets/csv_example2.csv', 'r') as f:\n",
    "    for line in f:\n",
    "        print(line.strip().split(','))"
   ]
  },
  {
   "cell_type": "markdown",
   "id": "08098063",
   "metadata": {
    "slideshow": {
     "slide_type": "subslide"
    }
   },
   "source": [
    "Here's the same example using the `csv` module"
   ]
  },
  {
   "cell_type": "code",
   "execution_count": null,
   "id": "7e06e2af",
   "metadata": {},
   "outputs": [],
   "source": [
    "import csv\n",
    "data = [\n",
    "    ['11', 'Harry', 'Gryffindor', 'Brown,mostly'],\n",
    "    ['18', 'Draco', 'Slytherin', 'Blonde,mostly'],\n",
    "    ['22', 'Cho', 'Ravenclaw', 'Black,really'],\n",
    "    ['28', 'Ron', 'Gryffindor', 'Red,very'],\n",
    "    ['47', 'Hermione', 'Gryffindor', 'Brown']]\n",
    "\n",
    "with open('../../snippets/csv_example2.csv', 'w', newline='') as f:\n",
    "    writer = csv.writer(f, delimiter=',')\n",
    "    for d in data:\n",
    "        writer.writerow(d)\n",
    "\n",
    "with open('../../snippets/csv_example2.csv', 'r') as f:\n",
    "    reader = csv.reader(f, delimiter=',')\n",
    "    for line in reader:  \n",
    "        print(line)"
   ]
  },
  {
   "cell_type": "markdown",
   "id": "b3138d66",
   "metadata": {
    "slideshow": {
     "slide_type": "subslide"
    }
   },
   "source": [
    "## Header rows\n",
    "\n",
    "CSVs often have \"header rows\":\n",
    "\n",
    "```\n",
    "Make, Model, Color, Year\n",
    "Honda, Accord, Grey, 2013\n",
    "Tesla, Model Y, Blue, 2022\n",
    "Ford, F-150, Black, 1991\n",
    "...\n",
    "```"
   ]
  },
  {
   "cell_type": "markdown",
   "id": "d5fbfeab",
   "metadata": {
    "slideshow": {
     "slide_type": "subslide"
    }
   },
   "source": [
    "If we're reading a file with a header row, we need to skip the first row when loading the data. \n",
    "\n",
    "Otherwise, the header row will be mixed in with our data, like this:"
   ]
  },
  {
   "cell_type": "code",
   "execution_count": null,
   "id": "92466979",
   "metadata": {
    "slideshow": {
     "slide_type": "-"
    }
   },
   "outputs": [],
   "source": [
    "with open('../../snippets/cars.csv', 'r') as f:\n",
    "    reader = csv.reader(f, delimiter=',')\n",
    "    for line in reader:  \n",
    "        print(line)"
   ]
  },
  {
   "cell_type": "markdown",
   "id": "108d1acb",
   "metadata": {
    "slideshow": {
     "slide_type": "subslide"
    }
   },
   "source": [
    "One way to do skip the first row is with the `next` function, which gets the next row from the reader. \n",
    "\n",
    "Here we get the first row, and throw it away:"
   ]
  },
  {
   "cell_type": "code",
   "execution_count": null,
   "id": "08d8fb01",
   "metadata": {
    "slideshow": {
     "slide_type": "-"
    }
   },
   "outputs": [],
   "source": [
    "with open('../../snippets/cars.csv', 'r') as f:\n",
    "    bob = csv.reader(f, delimiter=',')\n",
    "    next(bob)\n",
    "    for line in bob:  \n",
    "        print(line) "
   ]
  },
  {
   "cell_type": "markdown",
   "id": "1282e442",
   "metadata": {
    "slideshow": {
     "slide_type": "subslide"
    }
   },
   "source": [
    "Another way is to read all the rows into a list and then drop the first row at the end by slicing:"
   ]
  },
  {
   "cell_type": "code",
   "execution_count": null,
   "id": "540da498",
   "metadata": {
    "slideshow": {
     "slide_type": "-"
    }
   },
   "outputs": [],
   "source": [
    "data = []\n",
    "with open('../../snippets/cars.csv', 'r') as f:\n",
    "    bob = csv.reader(f, delimiter=',')\n",
    "    for line in bob:  \n",
    "        data.append(line)\n",
    "\n",
    "data = data[1:]\n",
    "\n",
    "for line in data:\n",
    "    print(line)"
   ]
  },
  {
   "cell_type": "markdown",
   "id": "0f001354",
   "metadata": {
    "slideshow": {
     "slide_type": "slide"
    }
   },
   "source": [
    "# JSON\n",
    "\n",
    "We know how to read and write strings, but what about other types - ints, floats, lists, dictionaries?\n",
    "\n",
    "Enter **JSON**: \"**J**ava**s**cript **O**bject **N**otation\". \n",
    "\n",
    "JSON is a **data exchange format**: a method of representing data as sequences of characters (strings) which can be interpreted by many programming languages.\n",
    "\n",
    "The JSON format can represent strings, ints, floats, booleans, lists, dictionaries, and `None`. "
   ]
  },
  {
   "cell_type": "markdown",
   "id": "ed66a45f",
   "metadata": {
    "slideshow": {
     "slide_type": "subslide"
    }
   },
   "source": [
    "A Python data structure:"
   ]
  },
  {
   "cell_type": "code",
   "execution_count": null,
   "id": "e2113a0e",
   "metadata": {},
   "outputs": [],
   "source": [
    "data = {\n",
    "    \"name\": \"John\",\n",
    "    \"age\": 30,\n",
    "    \"candy_preferences\": [\n",
    "        \"Reese's\",\n",
    "        \"Snickers\"\n",
    "    ]\n",
    "}"
   ]
  },
  {
   "cell_type": "markdown",
   "id": "52c3b9ca",
   "metadata": {},
   "source": [
    "This data structure can be represented as a string in JSON format (or: a \"JSON string\"):"
   ]
  },
  {
   "cell_type": "code",
   "execution_count": null,
   "id": "fcab7765",
   "metadata": {},
   "outputs": [],
   "source": [
    "'{\"name\":\"John\", \"age\":30, candy_preferences:[\"Reese\\'s\", \"Snickers\"]}'"
   ]
  },
  {
   "cell_type": "markdown",
   "id": "81cd070f",
   "metadata": {
    "slideshow": {
     "slide_type": "subslide"
    }
   },
   "source": [
    "## Why?\n",
    "\n",
    "This looks very similar to the way that Python prints data structures... why is this useful?\n",
    "\n",
    "JSON is not Python-specific. If you use a Python program to create a JSON string, it will be readable by many other programming languages.\n",
    "\n",
    "It's a **data exchange format**, and it's very commonly used."
   ]
  },
  {
   "cell_type": "markdown",
   "id": "355885ab",
   "metadata": {
    "slideshow": {
     "slide_type": "subslide"
    }
   },
   "source": [
    "# JSON in Python\n",
    "\n",
    "Python has the `json` package, which contains utilities for reading and writing JSON."
   ]
  },
  {
   "cell_type": "code",
   "execution_count": null,
   "id": "13165af6",
   "metadata": {},
   "outputs": [],
   "source": [
    "import json\n",
    "mydata = {\n",
    "    \"numbers\": [1,2,3,4],\n",
    "    \"another number\": 2.75,\n",
    "    \"more dictionaries\": [{'a': 1, 'b': 2, 'c': 3}] \n",
    "}\n",
    "json.dumps(mydata)"
   ]
  },
  {
   "cell_type": "markdown",
   "id": "bfc41069",
   "metadata": {
    "slideshow": {
     "slide_type": "subslide"
    }
   },
   "source": [
    "## dump / dumps\n",
    "\n",
    "The `dump` and `dumps` methods **serialize** data structures:\n",
    "* `json.dumps(<object>)` **serializes** a data structure to a string.  \n",
    "* `json.dump(<object>, <file object>)` **serializes** a data structure to a string and writes the string to a file.\n",
    "\n",
    "\"Serializing\" a data structure means converting it to a string (or bytes) representation.\n",
    "\n",
    "An easy way to remember the difference: The `s` on `dumps` actually stands for `string`."
   ]
  },
  {
   "cell_type": "markdown",
   "id": "01744b22",
   "metadata": {
    "slideshow": {
     "slide_type": "subslide"
    }
   },
   "source": [
    "## Pretty printing\n",
    "\n",
    "`json.dumps()` also takes an optional `indent` parameter. If specified, it will \"pretty print\" the JSON:"
   ]
  },
  {
   "cell_type": "code",
   "execution_count": null,
   "id": "def0c2d6",
   "metadata": {},
   "outputs": [],
   "source": [
    "import json\n",
    "mydata = {\n",
    "    \"numbers\": [1,2,3,4],\n",
    "    \"another number\": 2.75,\n",
    "    \"more dictionaries\": [{'a': 1, 'b': 2, 'c': 3}]\n",
    "}\n",
    "print(json.dumps(mydata, indent=4))"
   ]
  },
  {
   "cell_type": "markdown",
   "id": "cf20a42f",
   "metadata": {
    "slideshow": {
     "slide_type": "subslide"
    }
   },
   "source": [
    "## load / loads\n",
    "\n",
    "`load`/`loads` do the opposite of `dump`/`dumps`: they **parse** strings into data structures.\n",
    "* `json.loads(<str>)` **parses** a string into a data structure.  \n",
    "* `json.load(<file object>)` reads the contents of a file and **parses** it into a data structure."
   ]
  },
  {
   "cell_type": "code",
   "execution_count": null,
   "id": "3e5c6b41",
   "metadata": {},
   "outputs": [],
   "source": [
    "import json\n",
    "mydata = {\n",
    "    \"numbers\": [1,2,3,4],\n",
    "    \"another number\": 2.75,\n",
    "    \"more dictionaries\": [{'a': 1, 'b': 2, 'c': 3}]\n",
    "} \n",
    "with open('../../snippets/test.json', 'w') as f:\n",
    "    json.dump(mydata, f)\n",
    "\n",
    "with open('../../snippets/test.json', 'r') as f:\n",
    "    data = json.load(f)\n",
    "\n",
    "print(data)"
   ]
  },
  {
   "cell_type": "markdown",
   "id": "38c0acdc",
   "metadata": {
    "slideshow": {
     "slide_type": "slide"
    }
   },
   "source": [
    "## Exercise: Let's play around with some movie data\n",
    "\n",
    "You can grab data scraped from Wikipedia on movies, in JSON format, here: https://raw.githubusercontent.com/prust/wikipedia-movie-data/master/movies.json"
   ]
  },
  {
   "cell_type": "code",
   "execution_count": null,
   "id": "05b1053b",
   "metadata": {
    "slideshow": {
     "slide_type": "subslide"
    }
   },
   "outputs": [],
   "source": [
    "import json\n",
    "with open('../../snippets/movie_data.json', 'r') as f:\n",
    "    json_movies = json.load(f)\n",
    "print(f\"Loaded {len(json_movies)} movies\")"
   ]
  },
  {
   "cell_type": "code",
   "execution_count": null,
   "id": "f1e02e03",
   "metadata": {},
   "outputs": [],
   "source": [
    "print(json_movies[0])"
   ]
  },
  {
   "cell_type": "code",
   "execution_count": null,
   "id": "39698f77",
   "metadata": {
    "slideshow": {
     "slide_type": "subslide"
    }
   },
   "outputs": [],
   "source": [
    "print(json_movies[-100])"
   ]
  },
  {
   "cell_type": "code",
   "execution_count": null,
   "id": "da6cd48e",
   "metadata": {
    "slideshow": {
     "slide_type": "subslide"
    }
   },
   "outputs": [],
   "source": [
    "# Or, a pretty-printed version:\n",
    "print(json.dumps(json_movies[-100], indent=2))"
   ]
  },
  {
   "cell_type": "markdown",
   "id": "f09b9fe9",
   "metadata": {
    "slideshow": {
     "slide_type": "subslide"
    }
   },
   "source": [
    "Cool! Let's print all the movies from a given year."
   ]
  },
  {
   "cell_type": "code",
   "execution_count": null,
   "id": "e9864e99",
   "metadata": {},
   "outputs": [],
   "source": [
    "year = 2021\n",
    "for movie in json_movies:\n",
    "    if movie['year'] == year:\n",
    "        print(movie['title'])"
   ]
  },
  {
   "cell_type": "markdown",
   "id": "f7abe359",
   "metadata": {
    "slideshow": {
     "slide_type": "subslide"
    }
   },
   "source": [
    "How about searching based on title? "
   ]
  },
  {
   "cell_type": "code",
   "execution_count": null,
   "id": "3709b5f6",
   "metadata": {},
   "outputs": [],
   "source": [
    "search_string = \"Freedom\"\n",
    "for movie in json_movies:\n",
    "    if search_string in movie['title']:\n",
    "        print(f\"{movie['title']} ({movie['year']})\")"
   ]
  },
  {
   "cell_type": "markdown",
   "id": "890ee938",
   "metadata": {
    "slideshow": {
     "slide_type": "subslide"
    }
   },
   "source": [
    "Ok how about a cast search? Find every movie that had certain cast member."
   ]
  },
  {
   "cell_type": "code",
   "execution_count": null,
   "id": "1bb7764b",
   "metadata": {},
   "outputs": [],
   "source": [
    "person = \"Christopher Walken\"\n",
    "for movie in json_movies:\n",
    "    if person in movie['cast']:\n",
    "        print(f\"{movie['title']} ({movie['year']}) had {person} in it\")"
   ]
  },
  {
   "cell_type": "markdown",
   "id": "cbbf2e8b",
   "metadata": {
    "slideshow": {
     "slide_type": "slide"
    }
   },
   "source": [
    "## Exercise: MTA Ridership Data (CSV)\n",
    "\n",
    "[Open the class exercises Codespace](https://codespaces.new/brandeis-cosi-10a/class-exercises?quickstart=1)\n",
    "\n",
    "Open the file: `exercises/09/01_mta_ridership/README.md`, follow the instructions.\n",
    "* If you don't see this folder: Open the file: `get_exercises.sh`, click the \"Run\" button at the top right of the editor.\n"
   ]
  },
  {
   "cell_type": "markdown",
   "id": "7aae122d",
   "metadata": {
    "slideshow": {
     "slide_type": "slide"
    }
   },
   "source": [
    "## Exercise: Airport Data (JSON)\n",
    "\n",
    "[Open the class exercises Codespace](https://codespaces.new/brandeis-cosi-10a/class-exercises?quickstart=1)\n",
    "\n",
    "Open the file: `exercises/09/02_airport_data/README.md`, follow the instructions.\n",
    "* If you don't see this folder: Open the file: `get_exercises.sh`, click the \"Run\" button at the top right of the editor.\n"
   ]
  }
 ],
 "metadata": {
  "celltoolbar": "Slideshow",
  "kernelspec": {
   "display_name": "Python 3 (ipykernel)",
   "language": "python",
   "name": "python3"
  },
  "language_info": {
   "codemirror_mode": {
    "name": "ipython",
    "version": 3
   },
   "file_extension": ".py",
   "mimetype": "text/x-python",
   "name": "python",
   "nbconvert_exporter": "python",
   "pygments_lexer": "ipython3",
   "version": "3.9.6"
  }
 },
 "nbformat": 4,
 "nbformat_minor": 5
}
