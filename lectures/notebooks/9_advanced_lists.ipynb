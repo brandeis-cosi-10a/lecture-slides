{
 "cells": [
  {
   "cell_type": "markdown",
   "id": "1ee8a1d2",
   "metadata": {
    "slideshow": {
     "slide_type": "slide"
    }
   },
   "source": [
    "# Advanced Lists\n",
    "\n",
    "<style>\n",
    "section.present > section.present { \n",
    "    max-height: 90%; \n",
    "    overflow-y: scroll;\n",
    "}\n",
    "</style>\n",
    "\n",
    "<small><a href=\"https://colab.research.google.com/github/brandeis-jdelfino/cosi-10a/blob/main/lectures/notebooks/9_advanced_lists.ipynb\">Link to interactive slides on Google Colab</a></small>"
   ]
  },
  {
   "cell_type": "markdown",
   "id": "9c7cc163",
   "metadata": {
    "slideshow": {
     "slide_type": "slide"
    }
   },
   "source": [
    "# Removing from lists in a loop"
   ]
  },
  {
   "cell_type": "code",
   "execution_count": null,
   "id": "a2c073fd",
   "metadata": {
    "execution": {
     "iopub.execute_input": "2023-10-15T03:45:50.695978Z",
     "iopub.status.busy": "2023-10-15T03:45:50.695663Z",
     "iopub.status.idle": "2023-10-15T03:45:50.714387Z",
     "shell.execute_reply": "2023-10-15T03:45:50.713131Z"
    },
    "slideshow": {
     "slide_type": "-"
    }
   },
   "outputs": [],
   "source": [
    "def remove_all(to_remove, nums):\n",
    "    for i in range(len(nums)):\n",
    "        if nums[i] == to_remove:\n",
    "            del nums[i]"
   ]
  },
  {
   "cell_type": "code",
   "execution_count": null,
   "id": "9d535bc9",
   "metadata": {
    "execution": {
     "iopub.execute_input": "2023-10-15T03:45:50.719639Z",
     "iopub.status.busy": "2023-10-15T03:45:50.718911Z",
     "iopub.status.idle": "2023-10-15T03:45:51.035934Z",
     "shell.execute_reply": "2023-10-15T03:45:51.035080Z"
    }
   },
   "outputs": [],
   "source": [
    "digits = [1,2,3,4,1]\n",
    "remove_all(1, digits)\n",
    "print(digits)"
   ]
  },
  {
   "cell_type": "markdown",
   "id": "f22648fa",
   "metadata": {
    "slideshow": {
     "slide_type": "subslide"
    }
   },
   "source": [
    "What's going on?"
   ]
  },
  {
   "cell_type": "markdown",
   "id": "ad52a098",
   "metadata": {
    "slideshow": {
     "slide_type": "fragment"
    }
   },
   "source": [
    "Python tutor to the rescue... [link](https://pythontutor.com/visualize.html#code=def%20remove_all%28to_remove,%20nums%29%3A%0A%20%20%20%20for%20i%20in%20range%28len%28nums%29%29%3A%0A%20%20%20%20%20%20%20%20if%20nums%5Bi%5D%20%3D%3D%20to_remove%3A%0A%20%20%20%20%20%20%20%20%20%20%20%20del%20nums%5Bi%5D%0A%20%20%20%20return%20nums%0Adigits%20%3D%20%5B1,2,3,4,1%5D%0Aremove_all%281,%20digits%29&cumulative=false&curInstr=16&heapPrimitives=nevernest&mode=display&origin=opt-frontend.js&py=3&rawInputLstJSON=%5B%5D&textReferences=false)"
   ]
  },
  {
   "cell_type": "markdown",
   "id": "f3451933",
   "metadata": {
    "slideshow": {
     "slide_type": "fragment"
    }
   },
   "source": [
    "Removing from a list while iterating over it is tricky, because the list changes as the loop proceeds.\n",
    "\n",
    "Two high level approaches\n",
    "* Iterate backwards\n",
    "* Create a new list, and add items that shouldn't be deleted"
   ]
  },
  {
   "cell_type": "markdown",
   "id": "57678de8",
   "metadata": {
    "slideshow": {
     "slide_type": "subslide"
    }
   },
   "source": [
    "Option 1: iterate backwards. Modifies the list in-place. [Python tutor link](https://pythontutor.com/visualize.html#code=%23%20Option%201%3A%20iterate%20backwards%0Adef%20remove_all%28to_remove,%20nums%29%3A%0A%20%20%20%20%23%20iterate%20backwards%20from%20len%28nums%29-1%20-%3E%200%0A%20%20%20%20for%20i%20in%20range%28len%28nums%29-1,%20-1,%20-1%29%3A%0A%20%20%20%20%20%20%20%20if%20nums%5Bi%5D%20%3D%3D%20to_remove%3A%0A%20%20%20%20%20%20%20%20%20%20%20%20del%20nums%5Bi%5D%0A%20%20%20%20return%20nums%0A%20%20%20%20%0Adigits%20%3D%20%5B1,2,3,4,1%5D%0Aremove_all%281,%20digits%29&cumulative=false&curInstr=19&heapPrimitives=nevernest&mode=display&origin=opt-frontend.js&py=3&rawInputLstJSON=%5B%5D&textReferences=false)"
   ]
  },
  {
   "cell_type": "code",
   "execution_count": null,
   "id": "f1ba76a3",
   "metadata": {
    "execution": {
     "iopub.execute_input": "2023-10-15T03:45:51.039693Z",
     "iopub.status.busy": "2023-10-15T03:45:51.039423Z",
     "iopub.status.idle": "2023-10-15T03:45:51.043541Z",
     "shell.execute_reply": "2023-10-15T03:45:51.042818Z"
    },
    "slideshow": {
     "slide_type": "-"
    }
   },
   "outputs": [],
   "source": [
    "def remove_all(to_remove, nums):\n",
    "    # iterate backwards from len(nums)-1 -> 0\n",
    "    for i in range(len(nums)-1, -1, -1):\n",
    "        if nums[i] == to_remove:\n",
    "            del nums[i]\n"
   ]
  },
  {
   "cell_type": "code",
   "execution_count": null,
   "id": "23b2d664",
   "metadata": {
    "execution": {
     "iopub.execute_input": "2023-10-15T03:45:51.047753Z",
     "iopub.status.busy": "2023-10-15T03:45:51.047122Z",
     "iopub.status.idle": "2023-10-15T03:45:51.051435Z",
     "shell.execute_reply": "2023-10-15T03:45:51.050690Z"
    }
   },
   "outputs": [],
   "source": [
    "digits = [1,2,3,4,1]\n",
    "remove_all(1, digits)\n",
    "print(digits)"
   ]
  },
  {
   "cell_type": "markdown",
   "id": "2fde3313",
   "metadata": {
    "slideshow": {
     "slide_type": "subslide"
    }
   },
   "source": [
    "Option 2: Make a new list of items that shouldn't be removed. Doesn't modify the original list. \n",
    "\n",
    "[Python tutor link](https://pythontutor.com/visualize.html#code=def%20remove_all%28to_remove,%20nums%29%3A%0A%20%20%20%20new_nums%20%3D%20%5B%5D%0A%20%20%20%20for%20n%20in%20nums%3A%0A%20%20%20%20%20%20%20%20if%20n%20!%3D%20to_remove%3A%0A%20%20%20%20%20%20%20%20%20%20%20%20new_nums.append%28n%29%0A%20%20%20%20return%20new_nums%0A%20%20%20%20%0Adigits%20%3D%20%5B1,2,3,4,1%5D%0Anew_digits%20%3D%20remove_all%281,%20digits%29%0Aprint%28f%22New%20digits%3A%20%7Bnew_digits%7D,%20original%20digits%3A%20%7Bdigits%7D%22%29&cumulative=false&curInstr=21&heapPrimitives=nevernest&mode=display&origin=opt-frontend.js&py=3&rawInputLstJSON=%5B%5D&textReferences=false)"
   ]
  },
  {
   "cell_type": "code",
   "execution_count": null,
   "id": "3ca5b387",
   "metadata": {
    "execution": {
     "iopub.execute_input": "2023-10-15T03:45:51.056708Z",
     "iopub.status.busy": "2023-10-15T03:45:51.056205Z",
     "iopub.status.idle": "2023-10-15T03:45:51.060168Z",
     "shell.execute_reply": "2023-10-15T03:45:51.059544Z"
    },
    "slideshow": {
     "slide_type": "-"
    }
   },
   "outputs": [],
   "source": [
    "def remove_all(to_remove, nums):\n",
    "    new_nums = []\n",
    "    for n in nums:\n",
    "        if n != to_remove:\n",
    "            new_nums.append(n)\n",
    "    return new_nums"
   ]
  },
  {
   "cell_type": "code",
   "execution_count": null,
   "id": "e4c12029",
   "metadata": {
    "execution": {
     "iopub.execute_input": "2023-10-15T03:45:51.063942Z",
     "iopub.status.busy": "2023-10-15T03:45:51.063375Z",
     "iopub.status.idle": "2023-10-15T03:45:51.067793Z",
     "shell.execute_reply": "2023-10-15T03:45:51.067023Z"
    }
   },
   "outputs": [],
   "source": [
    "digits = [1,2,3,4,1]\n",
    "new_digits = remove_all(1, digits)\n",
    "print(f\"New digits: {new_digits}, original digits: {digits}\")\n"
   ]
  },
  {
   "cell_type": "markdown",
   "id": "c240e062",
   "metadata": {
    "slideshow": {
     "slide_type": "slide"
    }
   },
   "source": [
    "# Sorting\n",
    "\n",
    "Lists come with a handy `sort()` method. It sorts the list in place. If the `reverse` parameter is set to `True`, the items will be sorted in descending order."
   ]
  },
  {
   "cell_type": "markdown",
   "id": "c6de0859",
   "metadata": {},
   "source": [
    "To add: sorting tuples"
   ]
  },
  {
   "cell_type": "code",
   "execution_count": null,
   "id": "813e90a8",
   "metadata": {
    "execution": {
     "iopub.execute_input": "2023-10-15T03:45:51.071938Z",
     "iopub.status.busy": "2023-10-15T03:45:51.071656Z",
     "iopub.status.idle": "2023-10-15T03:45:51.075613Z",
     "shell.execute_reply": "2023-10-15T03:45:51.075002Z"
    }
   },
   "outputs": [],
   "source": [
    "animals = [\"Zebra\", \"Aardvark\", \"Sloth\", \"Cat\", \"Dog\", \"Ferret\"]\n",
    "animals.sort()\n",
    "print(animals)\n",
    "animals.sort(reverse=True)\n",
    "print(animals)"
   ]
  },
  {
   "cell_type": "markdown",
   "id": "afcd9d08",
   "metadata": {
    "slideshow": {
     "slide_type": "subslide"
    }
   },
   "source": [
    "If you don't want to modify the list in place, there is also a `sorted()` function that makes a new, sorted list:"
   ]
  },
  {
   "cell_type": "code",
   "execution_count": null,
   "id": "fe2bf9be",
   "metadata": {
    "execution": {
     "iopub.execute_input": "2023-10-15T03:45:51.078836Z",
     "iopub.status.busy": "2023-10-15T03:45:51.078561Z",
     "iopub.status.idle": "2023-10-15T03:45:51.082456Z",
     "shell.execute_reply": "2023-10-15T03:45:51.081773Z"
    }
   },
   "outputs": [],
   "source": [
    "animals = [\"Zebra\", \"Aardvark\", \"Sloth\", \"Cat\", \"Dog\", \"Ferret\"]\n",
    "new_animals = sorted(animals)\n",
    "print(f\"Original animals: {animals}\")\n",
    "print(f\"Sorted animals: {new_animals}\")"
   ]
  },
  {
   "cell_type": "markdown",
   "id": "2a38c4f5",
   "metadata": {
    "slideshow": {
     "slide_type": "slide"
    }
   },
   "source": [
    "# Reversing\n",
    "\n",
    "Lists also have a `reverse()` method, which reverses the list in place:"
   ]
  },
  {
   "cell_type": "code",
   "execution_count": null,
   "id": "36039f2f",
   "metadata": {
    "execution": {
     "iopub.execute_input": "2023-10-15T03:45:51.086059Z",
     "iopub.status.busy": "2023-10-15T03:45:51.085668Z",
     "iopub.status.idle": "2023-10-15T03:45:51.089660Z",
     "shell.execute_reply": "2023-10-15T03:45:51.089002Z"
    }
   },
   "outputs": [],
   "source": [
    "animals = [\"Zebra\", \"Aardvark\", \"Sloth\", \"Cat\", \"Dog\", \"Ferret\"]\n",
    "animals.reverse()\n",
    "print(animals)"
   ]
  },
  {
   "cell_type": "markdown",
   "id": "870a5af3",
   "metadata": {
    "slideshow": {
     "slide_type": "subslide"
    }
   },
   "source": [
    "Similar to `sort()` and `sorted()`, there is also a `reversed()` function:"
   ]
  },
  {
   "cell_type": "code",
   "execution_count": null,
   "id": "1cdc3468",
   "metadata": {
    "execution": {
     "iopub.execute_input": "2023-10-15T03:45:51.092759Z",
     "iopub.status.busy": "2023-10-15T03:45:51.092491Z",
     "iopub.status.idle": "2023-10-15T03:45:51.096289Z",
     "shell.execute_reply": "2023-10-15T03:45:51.095637Z"
    }
   },
   "outputs": [],
   "source": [
    "animals = [\"Zebra\", \"Aardvark\", \"Sloth\", \"Cat\", \"Dog\", \"Ferret\"]\n",
    "new_animals = reversed(animals)\n",
    "print(f\"Original animals: {animals}\")\n",
    "print(f\"New animals: {new_animals}\")"
   ]
  },
  {
   "cell_type": "markdown",
   "id": "3e8d429e",
   "metadata": {
    "slideshow": {
     "slide_type": "fragment"
    }
   },
   "source": [
    "Wait, what?"
   ]
  },
  {
   "cell_type": "markdown",
   "id": "938b8fde",
   "metadata": {
    "slideshow": {
     "slide_type": "subslide"
    }
   },
   "source": [
    "`reversed()` returns an **iterator**. \n",
    "\n",
    "Recall from the _Sequences_ lecture that an **iterator** is an object that returns the items in an **iterable**, one at a time.\n",
    "\n",
    "The details of iterators are (still) mostly beyond the scope of this class, but you will encounter them from time to time. Useful things to know for now:\n",
    "1. You can easily convert an iterator to a list, by using `list(<iterator>)`.\n",
    "2. You can use a `for` loop on an iterator, but only once (using an iterator \"consumes\" it)."
   ]
  },
  {
   "cell_type": "code",
   "execution_count": null,
   "id": "4fb8714b",
   "metadata": {
    "execution": {
     "iopub.execute_input": "2023-10-15T03:45:51.099772Z",
     "iopub.status.busy": "2023-10-15T03:45:51.099311Z",
     "iopub.status.idle": "2023-10-15T03:45:51.104162Z",
     "shell.execute_reply": "2023-10-15T03:45:51.103390Z"
    }
   },
   "outputs": [],
   "source": [
    "animals = [\"Zebra\", \"Aardvark\", \"Sloth\", \"Cat\", \"Dog\", \"Ferret\"]\n",
    "new_animals = list(reversed(animals))\n",
    "print(f\"Original animals: {animals}\")\n",
    "print(f\"New animals: {new_animals}\")"
   ]
  },
  {
   "cell_type": "code",
   "execution_count": null,
   "id": "7f33d581",
   "metadata": {
    "execution": {
     "iopub.execute_input": "2023-10-15T03:45:51.107474Z",
     "iopub.status.busy": "2023-10-15T03:45:51.107180Z",
     "iopub.status.idle": "2023-10-15T03:45:51.111362Z",
     "shell.execute_reply": "2023-10-15T03:45:51.110705Z"
    },
    "slideshow": {
     "slide_type": "subslide"
    }
   },
   "outputs": [],
   "source": [
    "# our trusty for loop works on iterables\n",
    "animals = [\"Zebra\", \"Aardvark\", \"Sloth\", \"Cat\", \"Dog\", \"Ferret\"]\n",
    "for animal in reversed(animals):\n",
    "    print(animal)\n"
   ]
  },
  {
   "cell_type": "code",
   "execution_count": null,
   "id": "c60dfb1c",
   "metadata": {
    "execution": {
     "iopub.execute_input": "2023-10-15T03:45:51.114653Z",
     "iopub.status.busy": "2023-10-15T03:45:51.114364Z",
     "iopub.status.idle": "2023-10-15T03:45:51.118757Z",
     "shell.execute_reply": "2023-10-15T03:45:51.117973Z"
    }
   },
   "outputs": [],
   "source": [
    "# using an iterator \"consumes\" it - you can't convert it to a list or iterate over it more than once\n",
    "animals = [\"Zebra\", \"Aardvark\", \"Sloth\", \"Cat\", \"Dog\", \"Ferret\"]\n",
    "new_animals = reversed(animals)\n",
    "new_animal_list1 = list(new_animals)\n",
    "new_animal_list2 = list(new_animals)\n",
    "print(f\"{new_animal_list1=}\\n{new_animal_list2=}\")"
   ]
  },
  {
   "cell_type": "markdown",
   "id": "274746db",
   "metadata": {
    "slideshow": {
     "slide_type": "subslide"
    }
   },
   "source": [
    "# Zip\n",
    "\n",
    "You can \"zip\" two lists together and iterate over them at the same time. This is useful when you have \"parallel\" lists."
   ]
  },
  {
   "cell_type": "markdown",
   "id": "b380e18c",
   "metadata": {
    "slideshow": {
     "slide_type": "subslide"
    }
   },
   "source": [
    "Consider this example, where we have a list of names and a list of ages, and we want to print the names & ages out together."
   ]
  },
  {
   "cell_type": "code",
   "execution_count": null,
   "id": "f9e8e091",
   "metadata": {
    "execution": {
     "iopub.execute_input": "2023-10-15T03:45:51.124612Z",
     "iopub.status.busy": "2023-10-15T03:45:51.124252Z",
     "iopub.status.idle": "2023-10-15T03:45:51.129558Z",
     "shell.execute_reply": "2023-10-15T03:45:51.128842Z"
    }
   },
   "outputs": [],
   "source": [
    "names = [\"Spongebob\", \"Batman\", \"Dora\", \"Peppa\"]\n",
    "ages = [22, 26, 7, 4]\n",
    "\n",
    "for i in range(len(names)):\n",
    "    print(f\"{names[i]} is {ages[i]} years old\")"
   ]
  },
  {
   "cell_type": "markdown",
   "id": "1d7d7e3a",
   "metadata": {
    "slideshow": {
     "slide_type": "subslide"
    }
   },
   "source": [
    "That's totally fine! But, if you prefer, you can use `zip()`. \n",
    "\n",
    "`zip` takes 2 or more lists, and returns an iterator that produces tuples with the next item from each list."
   ]
  },
  {
   "cell_type": "code",
   "execution_count": null,
   "id": "ce0862da",
   "metadata": {
    "execution": {
     "iopub.execute_input": "2023-10-15T03:45:51.132866Z",
     "iopub.status.busy": "2023-10-15T03:45:51.132571Z",
     "iopub.status.idle": "2023-10-15T03:45:51.140357Z",
     "shell.execute_reply": "2023-10-15T03:45:51.139768Z"
    }
   },
   "outputs": [],
   "source": [
    "names = [\"Spongebob\", \"Batman\", \"Dora\", \"Peppa\"]\n",
    "ages = [22, 26, 7, 4]\n",
    "list(zip(names, ages))"
   ]
  },
  {
   "cell_type": "code",
   "execution_count": null,
   "id": "e1b4eb6c",
   "metadata": {
    "execution": {
     "iopub.execute_input": "2023-10-15T03:45:51.144315Z",
     "iopub.status.busy": "2023-10-15T03:45:51.143869Z",
     "iopub.status.idle": "2023-10-15T03:45:51.148040Z",
     "shell.execute_reply": "2023-10-15T03:45:51.147389Z"
    },
    "slideshow": {
     "slide_type": "subslide"
    }
   },
   "outputs": [],
   "source": [
    "names = [\"Spongebob\", \"Batman\", \"Dora\", \"Peppa\"]\n",
    "ages = [22, 26, 7, 4]\n",
    "\n",
    "for (name, age) in zip(names, ages):\n",
    "    print(f\"{name} is {age} years old\")"
   ]
  },
  {
   "cell_type": "markdown",
   "id": "b03f7f95",
   "metadata": {
    "slideshow": {
     "slide_type": "slide"
    }
   },
   "source": [
    "# Nested lists\n",
    "\n",
    "Lists can contain other lists. You can chain brackets (`[]`) to access individual items.\n",
    "\n",
    "Here is a list which contains 5 lists, each of which contain 5 strings:"
   ]
  },
  {
   "cell_type": "code",
   "execution_count": null,
   "id": "cbfddebd",
   "metadata": {
    "execution": {
     "iopub.execute_input": "2023-10-15T03:45:51.152044Z",
     "iopub.status.busy": "2023-10-15T03:45:51.151732Z",
     "iopub.status.idle": "2023-10-15T03:45:51.155633Z",
     "shell.execute_reply": "2023-10-15T03:45:51.154977Z"
    }
   },
   "outputs": [],
   "source": [
    "ascii_art = [\n",
    "    ['-', '*', '-', '*', '-'],\n",
    "    ['-', '*', '-', '*', '-'],\n",
    "    ['*', '-', '*', '-', '*'],\n",
    "    ['*', '*', '-', '*', '*'],\n",
    "    ['-', '-', '*', '-', '-'],\n",
    "]"
   ]
  },
  {
   "cell_type": "code",
   "execution_count": null,
   "id": "e45d526f",
   "metadata": {
    "execution": {
     "iopub.execute_input": "2023-10-15T03:45:51.159113Z",
     "iopub.status.busy": "2023-10-15T03:45:51.158762Z",
     "iopub.status.idle": "2023-10-15T03:45:51.162537Z",
     "shell.execute_reply": "2023-10-15T03:45:51.161894Z"
    }
   },
   "outputs": [],
   "source": [
    "print(ascii_art[0][1])"
   ]
  },
  {
   "cell_type": "code",
   "execution_count": null,
   "id": "84e10a65",
   "metadata": {
    "execution": {
     "iopub.execute_input": "2023-10-15T03:45:51.165850Z",
     "iopub.status.busy": "2023-10-15T03:45:51.165571Z",
     "iopub.status.idle": "2023-10-15T03:45:51.169614Z",
     "shell.execute_reply": "2023-10-15T03:45:51.168798Z"
    }
   },
   "outputs": [],
   "source": [
    "print(ascii_art[4][3])"
   ]
  },
  {
   "cell_type": "markdown",
   "id": "fca2cb7b",
   "metadata": {
    "slideshow": {
     "slide_type": "subslide"
    }
   },
   "source": [
    "You can write nested `for` loops to iterate over all the items in nested lists. [Python tutor link](https://pythontutor.com/visualize.html#code=ascii_art%20%3D%20%5B%0A%20%20%20%20%5B'-',%20'*',%20'-',%20'*',%20'-'%5D,%0A%20%20%20%20%5B'-',%20'*',%20'-',%20'*',%20'-'%5D,%0A%20%20%20%20%5B'*',%20'-',%20'*',%20'-',%20'*'%5D,%0A%20%20%20%20%5B'*',%20'*',%20'-',%20'*',%20'*'%5D,%0A%20%20%20%20%5B'-',%20'-',%20'*',%20'-',%20'-'%5D,%0A%5D%0A%0Afor%20row%20in%20ascii_art%3A%0A%20%20%20%20for%20cell%20in%20row%3A%0A%20%20%20%20%20%20%20%20print%28cell,%20end%3D''%29%0A%20%20%20%20print%28%29&cumulative=false&curInstr=34&heapPrimitives=nevernest&mode=display&origin=opt-frontend.js&py=3&rawInputLstJSON=%5B%5D&textReferences=false)"
   ]
  },
  {
   "cell_type": "code",
   "execution_count": null,
   "id": "7730ed85",
   "metadata": {
    "execution": {
     "iopub.execute_input": "2023-10-15T03:45:51.172968Z",
     "iopub.status.busy": "2023-10-15T03:45:51.172690Z",
     "iopub.status.idle": "2023-10-15T03:45:51.176681Z",
     "shell.execute_reply": "2023-10-15T03:45:51.176075Z"
    }
   },
   "outputs": [],
   "source": [
    "for row in ascii_art:\n",
    "    for cell in row:\n",
    "        print(cell, end='')\n",
    "    print()"
   ]
  },
  {
   "cell_type": "markdown",
   "id": "ae2e7a19",
   "metadata": {
    "slideshow": {
     "slide_type": "subslide"
    }
   },
   "source": [
    "Nesting can be arbitrarily deep (although this is often not a good idea):"
   ]
  },
  {
   "cell_type": "code",
   "execution_count": null,
   "id": "443f1d6e",
   "metadata": {
    "execution": {
     "iopub.execute_input": "2023-10-15T03:45:51.180016Z",
     "iopub.status.busy": "2023-10-15T03:45:51.179729Z",
     "iopub.status.idle": "2023-10-15T03:45:51.185026Z",
     "shell.execute_reply": "2023-10-15T03:45:51.184438Z"
    }
   },
   "outputs": [],
   "source": [
    "f = [1, [2, [3, 4, [5, 6], 7], 8], 9, 10]\n",
    "f"
   ]
  },
  {
   "cell_type": "code",
   "execution_count": null,
   "id": "fa5530bc",
   "metadata": {
    "execution": {
     "iopub.execute_input": "2023-10-15T03:45:51.188844Z",
     "iopub.status.busy": "2023-10-15T03:45:51.188158Z",
     "iopub.status.idle": "2023-10-15T03:45:51.192589Z",
     "shell.execute_reply": "2023-10-15T03:45:51.191682Z"
    }
   },
   "outputs": [],
   "source": [
    "print(f[1][1][2][0])"
   ]
  },
  {
   "cell_type": "markdown",
   "id": "c9b5fe87",
   "metadata": {
    "slideshow": {
     "slide_type": "slide"
    }
   },
   "source": [
    "# Exercise \n",
    "\n",
    "Let's say we have some data representing the dates on which people exercised this month. Write a program that prints out which person exerecised the most, and the number of times they exercised.\n",
    "\n",
    "Example data:\n",
    "```\n",
    "data = [\n",
    "    [1, 7, 15, 31],\n",
    "    [2, 21],\n",
    "    [5],\n",
    "    [1, 3, 5, 7, 9, 11, 13, 15, 17, 19, 21, 23, 25, 27, 29],\n",
    "    [1, 2, 3, 4, 5, 6]\n",
    "]\n",
    "```"
   ]
  },
  {
   "cell_type": "markdown",
   "id": "66c249bf",
   "metadata": {
    "slideshow": {
     "slide_type": "subslide"
    }
   },
   "source": [
    "Our strategy here will be very similar to what we did for \"cumulative loops\":\n",
    "1. Declare some variables to hold the max values.\n",
    "2. Loop over every item in the outer list, and check whether it's the longest we've seen so far.  \n",
    "   2a. If it is, record the max, and also the index of the max\n",
    "3. At the end, print out the max and max index."
   ]
  },
  {
   "cell_type": "code",
   "execution_count": null,
   "id": "928241bc",
   "metadata": {
    "execution": {
     "iopub.execute_input": "2023-10-15T03:45:51.195813Z",
     "iopub.status.busy": "2023-10-15T03:45:51.195542Z",
     "iopub.status.idle": "2023-10-15T03:45:51.201154Z",
     "shell.execute_reply": "2023-10-15T03:45:51.200465Z"
    },
    "slideshow": {
     "slide_type": "subslide"
    }
   },
   "outputs": [],
   "source": [
    "data = [\n",
    "    [1, 7, 15, 31],\n",
    "    [2, 21],\n",
    "    [5],\n",
    "    [1, 3, 5, 7, 9, 11, 13, 15, 17, 19, 21, 23, 25, 27, 29],\n",
    "    [1, 2, 3, 4, 5, 6]\n",
    "]\n",
    "\n",
    "most = 0\n",
    "most_index = 0\n",
    "for i in range(len(data)):\n",
    "    if len(data[i]) > most:\n",
    "        most = len(data[i])\n",
    "        most_index = i\n",
    "print(f\"Person #{most_index} exercised the most, with {most} days of exercise!\")"
   ]
  },
  {
   "cell_type": "markdown",
   "id": "0f0640a2",
   "metadata": {
    "slideshow": {
     "slide_type": "subslide"
    }
   },
   "source": [
    "A tweak to this: we're also given a parallel list of names. Print out the name of the person who exercised the most."
   ]
  },
  {
   "cell_type": "code",
   "execution_count": null,
   "id": "cb7ab519",
   "metadata": {
    "execution": {
     "iopub.execute_input": "2023-10-15T03:45:51.204887Z",
     "iopub.status.busy": "2023-10-15T03:45:51.204562Z",
     "iopub.status.idle": "2023-10-15T03:45:51.208712Z",
     "shell.execute_reply": "2023-10-15T03:45:51.208094Z"
    },
    "slideshow": {
     "slide_type": "-"
    }
   },
   "outputs": [],
   "source": [
    "names = [\"Spongebob\", \"Batman\", \"Dora\", \"Peppa\", \"Bill Murray\"]\n",
    "data = [\n",
    "    [1, 7, 15, 31],\n",
    "    [2, 21],\n",
    "    [5],\n",
    "    [1, 3, 5, 7, 9, 11, 13, 15, 17, 19, 21, 23, 25, 27, 29],\n",
    "    [1, 2, 3, 4, 5, 6]\n",
    "]"
   ]
  },
  {
   "cell_type": "code",
   "execution_count": null,
   "id": "49d3673a",
   "metadata": {
    "execution": {
     "iopub.execute_input": "2023-10-15T03:45:51.211922Z",
     "iopub.status.busy": "2023-10-15T03:45:51.211560Z",
     "iopub.status.idle": "2023-10-15T03:45:51.217389Z",
     "shell.execute_reply": "2023-10-15T03:45:51.216585Z"
    },
    "slideshow": {
     "slide_type": "subslide"
    }
   },
   "outputs": [],
   "source": [
    "names = [\"Spongebob\", \"Batman\", \"Dora\", \"Peppa\", \"Bill Murray\"]\n",
    "data = [\n",
    "    [1, 7, 15, 31],\n",
    "    [2, 21],\n",
    "    [5],\n",
    "    [1, 3, 5, 7, 9, 11, 13, 15, 17, 19, 21, 23, 25, 27, 29],\n",
    "    [1, 2, 3, 4, 5, 6]\n",
    "]\n",
    "\n",
    "most = 0\n",
    "most_name = \"\"\n",
    "for (name, dates) in zip(names, data):\n",
    "    if len(dates) > most:\n",
    "        most = len(dates)\n",
    "        most_name = name\n",
    "print(f\"{most_name} exercised the most, with {most} days of exercise!\")"
   ]
  },
  {
   "cell_type": "markdown",
   "id": "997e4574",
   "metadata": {
    "slideshow": {
     "slide_type": "-"
    }
   },
   "source": [
    "[Python tutor link](https://pythontutor.com/visualize.html#code=names%20%3D%20%5B%22Spongebob%22,%20%22Batman%22,%20%22Dora%22,%20%22Peppa%22,%20%22Bill%20Murray%22%5D%0Adata%20%3D%20%5B%0A%20%20%20%20%5B1,%207,%2015,%2031%5D,%0A%20%20%20%20%5B2,%2021%5D,%0A%20%20%20%20%5B5%5D,%0A%20%20%20%20%5B1,%203,%205,%207,%209,%2011,%2013,%2015,%2017,%2019,%2021,%2023,%2025,%2027,%2029%5D,%0A%20%20%20%20%5B1,%202,%203,%204,%205,%206%5D%0A%5D%0A%0Amost%20%3D%200%0Amost_name%20%3D%20%22%22%0Afor%20%28name,%20dates%29%20in%20zip%28names,%20data%29%3A%0A%20%20%20%20if%20len%28dates%29%20%3E%20most%3A%0A%20%20%20%20%20%20%20%20most%20%3D%20len%28dates%29%0A%20%20%20%20%20%20%20%20most_name%20%3D%20name%0Aprint%28f%22%7Bmost_name%7D%20exercised%20the%20most,%20with%20%7Bmost%7D%20days%20of%20exercise!%22%29&cumulative=false&curInstr=0&heapPrimitives=nevernest&mode=display&origin=opt-frontend.js&py=3&rawInputLstJSON=%5B%5D&textReferences=false)"
   ]
  },
  {
   "cell_type": "markdown",
   "id": "86508fe8",
   "metadata": {
    "slideshow": {
     "slide_type": "slide"
    }
   },
   "source": [
    "## List comprehensions\n",
    "\n",
    "Python provides a shorthand for transforming and filtering lists."
   ]
  },
  {
   "cell_type": "code",
   "execution_count": null,
   "id": "ea62553c",
   "metadata": {
    "execution": {
     "iopub.execute_input": "2023-10-15T03:45:51.221044Z",
     "iopub.status.busy": "2023-10-15T03:45:51.220745Z",
     "iopub.status.idle": "2023-10-15T03:45:51.224645Z",
     "shell.execute_reply": "2023-10-15T03:45:51.224079Z"
    }
   },
   "outputs": [],
   "source": [
    "fruits = [\"apple\", \"banana\", \"strawberry\", \"plum\"]\n",
    "new_fruits = [x.upper() for x in fruits]\n",
    "print(new_fruits)"
   ]
  },
  {
   "cell_type": "code",
   "execution_count": null,
   "id": "a8d8a6da",
   "metadata": {
    "execution": {
     "iopub.execute_input": "2023-10-15T03:45:51.227995Z",
     "iopub.status.busy": "2023-10-15T03:45:51.227716Z",
     "iopub.status.idle": "2023-10-15T03:45:51.232301Z",
     "shell.execute_reply": "2023-10-15T03:45:51.231497Z"
    }
   },
   "outputs": [],
   "source": [
    "short_fruits = [x for x in fruits if len(x) < 6]\n",
    "print(short_fruits)"
   ]
  },
  {
   "cell_type": "markdown",
   "id": "580192d6",
   "metadata": {
    "slideshow": {
     "slide_type": "subslide"
    }
   },
   "source": [
    "A list comprehension creates a new list from an existing iterable.\n",
    "\n",
    "The full syntax is:\n",
    "\n",
    "`[<expression> for <item> in <iterable>]`  \n",
    "or  \n",
    "`[<expression> for <item> in <iterable> if <boolean expression>]`\n",
    "\n",
    "Let's compare some examples to the equivalent using a `for` loop."
   ]
  },
  {
   "cell_type": "code",
   "execution_count": null,
   "id": "a72324c4",
   "metadata": {
    "execution": {
     "iopub.execute_input": "2023-10-15T03:45:51.235539Z",
     "iopub.status.busy": "2023-10-15T03:45:51.235254Z",
     "iopub.status.idle": "2023-10-15T03:45:51.239627Z",
     "shell.execute_reply": "2023-10-15T03:45:51.238778Z"
    },
    "slideshow": {
     "slide_type": "subslide"
    }
   },
   "outputs": [],
   "source": [
    "fruits = [\"apple\", \"banana\", \"strawberry\", \"plum\"]\n",
    "new_fruits = [x.upper() for x in fruits]\n",
    "print(new_fruits)"
   ]
  },
  {
   "cell_type": "code",
   "execution_count": null,
   "id": "7bf3e1c6",
   "metadata": {
    "execution": {
     "iopub.execute_input": "2023-10-15T03:45:51.242991Z",
     "iopub.status.busy": "2023-10-15T03:45:51.242712Z",
     "iopub.status.idle": "2023-10-15T03:45:51.246689Z",
     "shell.execute_reply": "2023-10-15T03:45:51.245994Z"
    }
   },
   "outputs": [],
   "source": [
    "# without list comprehensions\n",
    "fruits = [\"apple\", \"banana\", \"strawberry\", \"plum\"]\n",
    "new_fruits = []\n",
    "for f in fruits:\n",
    "    new_fruits.append(f.upper())\n",
    "print(new_fruits)"
   ]
  },
  {
   "cell_type": "code",
   "execution_count": null,
   "id": "e2781fae",
   "metadata": {
    "execution": {
     "iopub.execute_input": "2023-10-15T03:45:51.250124Z",
     "iopub.status.busy": "2023-10-15T03:45:51.249804Z",
     "iopub.status.idle": "2023-10-15T03:45:51.254476Z",
     "shell.execute_reply": "2023-10-15T03:45:51.253717Z"
    },
    "slideshow": {
     "slide_type": "subslide"
    }
   },
   "outputs": [],
   "source": [
    "fruits = [\"apple\", \"banana\", \"strawberry\", \"plum\"]\n",
    "short_fruits = [x for x in fruits if len(x) < 6]\n",
    "print(short_fruits)"
   ]
  },
  {
   "cell_type": "code",
   "execution_count": null,
   "id": "76e5d296",
   "metadata": {
    "execution": {
     "iopub.execute_input": "2023-10-15T03:45:51.257667Z",
     "iopub.status.busy": "2023-10-15T03:45:51.257389Z",
     "iopub.status.idle": "2023-10-15T03:45:51.261423Z",
     "shell.execute_reply": "2023-10-15T03:45:51.260762Z"
    }
   },
   "outputs": [],
   "source": [
    "# without list comprehensions\n",
    "fruits = [\"apple\", \"banana\", \"strawberry\", \"plum\"]\n",
    "short_fruits = []\n",
    "for f in fruits:\n",
    "    if len(f) < 6:\n",
    "        short_fruits.append(f)\n",
    "print(short_fruits)"
   ]
  },
  {
   "cell_type": "markdown",
   "id": "2eca51cd",
   "metadata": {
    "slideshow": {
     "slide_type": "subslide"
    }
   },
   "source": [
    "## Another example\n",
    "\n",
    "Let's apply sales tax to a list of prices"
   ]
  },
  {
   "cell_type": "code",
   "execution_count": null,
   "id": "4e537679",
   "metadata": {
    "execution": {
     "iopub.execute_input": "2023-10-15T03:45:51.265994Z",
     "iopub.status.busy": "2023-10-15T03:45:51.265704Z",
     "iopub.status.idle": "2023-10-15T03:45:51.269941Z",
     "shell.execute_reply": "2023-10-15T03:45:51.269269Z"
    },
    "slideshow": {
     "slide_type": "-"
    }
   },
   "outputs": [],
   "source": [
    "def apply_sales_tax(amt):\n",
    "    return amt * 1.06\n",
    "\n",
    "prices = [10.5, 5, 100.98, 59.99]\n",
    "total_prices = [apply_sales_tax(x) for x in prices]\n",
    "print(total_prices)"
   ]
  },
  {
   "cell_type": "code",
   "execution_count": null,
   "id": "547643ce",
   "metadata": {
    "execution": {
     "iopub.execute_input": "2023-10-15T03:45:51.273105Z",
     "iopub.status.busy": "2023-10-15T03:45:51.272834Z",
     "iopub.status.idle": "2023-10-15T03:45:51.277297Z",
     "shell.execute_reply": "2023-10-15T03:45:51.276617Z"
    }
   },
   "outputs": [],
   "source": [
    "# without list comprehensions\n",
    "def apply_sales_tax(amt):\n",
    "    return amt * 1.06\n",
    "\n",
    "prices = [10.5, 5, 100.98, 59.99]\n",
    "total_prices = []\n",
    "for p in prices:\n",
    "    total_prices.append(apply_sales_tax(p))\n",
    "print(total_prices)"
   ]
  },
  {
   "cell_type": "markdown",
   "id": "095d1c12",
   "metadata": {
    "slideshow": {
     "slide_type": "subslide"
    }
   },
   "source": [
    "We could also handle the formatting with a comprehension:"
   ]
  },
  {
   "cell_type": "code",
   "execution_count": null,
   "id": "92235c6a",
   "metadata": {
    "execution": {
     "iopub.execute_input": "2023-10-15T03:45:51.281185Z",
     "iopub.status.busy": "2023-10-15T03:45:51.280883Z",
     "iopub.status.idle": "2023-10-15T03:45:51.285663Z",
     "shell.execute_reply": "2023-10-15T03:45:51.284683Z"
    },
    "slideshow": {
     "slide_type": "-"
    }
   },
   "outputs": [],
   "source": [
    "def apply_sales_tax(amt):\n",
    "    return amt * 1.06\n",
    "\n",
    "prices = [10.5, 5, 100.98, 59.99]\n",
    "total_prices = [apply_sales_tax(x) for x in prices]\n",
    "print([f\"${x:.2f}\" for x in total_prices])"
   ]
  },
  {
   "cell_type": "code",
   "execution_count": null,
   "id": "bb37ca28",
   "metadata": {
    "execution": {
     "iopub.execute_input": "2023-10-15T03:45:51.290328Z",
     "iopub.status.busy": "2023-10-15T03:45:51.289882Z",
     "iopub.status.idle": "2023-10-15T03:45:51.294306Z",
     "shell.execute_reply": "2023-10-15T03:45:51.293634Z"
    }
   },
   "outputs": [],
   "source": [
    "# without list comprehensions\n",
    "def apply_sales_tax(amt):\n",
    "    return amt * 1.06\n",
    "\n",
    "prices = [10.5, 5, 100.98, 59.99]\n",
    "total_prices = []\n",
    "for p in prices:\n",
    "    total_price = apply_sales_tax(p)\n",
    "    total_prices.append(f\"${total_price:.2f}\")\n",
    "print(total_prices)"
   ]
  },
  {
   "cell_type": "markdown",
   "id": "2afa2edf",
   "metadata": {
    "slideshow": {
     "slide_type": "subslide"
    }
   },
   "source": [
    "Or, we could collapse it even more with an extra function and one comprehension:"
   ]
  },
  {
   "cell_type": "code",
   "execution_count": null,
   "id": "6fe88608",
   "metadata": {
    "execution": {
     "iopub.execute_input": "2023-10-15T03:45:51.297473Z",
     "iopub.status.busy": "2023-10-15T03:45:51.297202Z",
     "iopub.status.idle": "2023-10-15T03:45:51.301301Z",
     "shell.execute_reply": "2023-10-15T03:45:51.300688Z"
    },
    "slideshow": {
     "slide_type": "-"
    }
   },
   "outputs": [],
   "source": [
    "def apply_sales_tax(amt):\n",
    "    return amt * 1.06\n",
    "\n",
    "def format_price(p):\n",
    "    return f\"${p:.2f}\"\n",
    "\n",
    "prices = [10.5, 5, 100.98, 59.99]\n",
    "print([format_price(apply_sales_tax(x)) for x in prices])"
   ]
  },
  {
   "cell_type": "code",
   "execution_count": null,
   "id": "b7c6213f",
   "metadata": {
    "execution": {
     "iopub.execute_input": "2023-10-15T03:45:51.304405Z",
     "iopub.status.busy": "2023-10-15T03:45:51.304135Z",
     "iopub.status.idle": "2023-10-15T03:45:51.308358Z",
     "shell.execute_reply": "2023-10-15T03:45:51.307678Z"
    }
   },
   "outputs": [],
   "source": [
    "# without list comprehensions\n",
    "def apply_sales_tax(amt):\n",
    "    return amt * 1.06\n",
    "\n",
    "prices = [10.5, 5, 100.98, 59.99]\n",
    "total_prices = []\n",
    "for p in prices:\n",
    "    total_price = apply_sales_tax(p)\n",
    "    total_prices.append(f\"${total_price:.2f}\")\n",
    "print(total_prices)"
   ]
  },
  {
   "cell_type": "markdown",
   "id": "3c0a5fa4",
   "metadata": {
    "slideshow": {
     "slide_type": "subslide"
    }
   },
   "source": [
    "You can filter and transform in one step. Let's only show the big purchases:"
   ]
  },
  {
   "cell_type": "code",
   "execution_count": null,
   "id": "0e500e0d",
   "metadata": {
    "execution": {
     "iopub.execute_input": "2023-10-15T03:45:51.311666Z",
     "iopub.status.busy": "2023-10-15T03:45:51.311380Z",
     "iopub.status.idle": "2023-10-15T03:45:51.315990Z",
     "shell.execute_reply": "2023-10-15T03:45:51.315255Z"
    },
    "slideshow": {
     "slide_type": "-"
    }
   },
   "outputs": [],
   "source": [
    "def apply_sales_tax(amt):\n",
    "    return amt * 1.06\n",
    "\n",
    "def format_price(p):\n",
    "    return f\"${p:.2f}\"\n",
    "\n",
    "prices = [10.5, 5, 100.98, 59.99]\n",
    "print([format_price(apply_sales_tax(x)) for x in prices if x > 50])"
   ]
  },
  {
   "cell_type": "code",
   "execution_count": null,
   "id": "8058cafa",
   "metadata": {
    "execution": {
     "iopub.execute_input": "2023-10-15T03:45:51.319177Z",
     "iopub.status.busy": "2023-10-15T03:45:51.318712Z",
     "iopub.status.idle": "2023-10-15T03:45:51.323052Z",
     "shell.execute_reply": "2023-10-15T03:45:51.322434Z"
    }
   },
   "outputs": [],
   "source": [
    "# without list comprehensions\n",
    "def apply_sales_tax(amt):\n",
    "    return amt * 1.06\n",
    "\n",
    "prices = [10.5, 5, 100.98, 59.99]\n",
    "total_prices = []\n",
    "for p in prices:\n",
    "    if p > 50:\n",
    "        total_price = apply_sales_tax(p)\n",
    "        total_prices.append(f\"${total_price:.2f}\")\n",
    "print(total_prices)"
   ]
  },
  {
   "cell_type": "markdown",
   "id": "e654ca4b",
   "metadata": {
    "slideshow": {
     "slide_type": "subslide"
    }
   },
   "source": [
    "## Syntactic \"sugar\"\n",
    "\n",
    "List comprehensions are never necessary - you can always write equivalent code with a for loop and conditional.\n",
    "\n",
    "It's important to recognize the syntax, because it's commonly used in Python. \n",
    "\n",
    "Sometimes, they make code more readable, sometimes less. Try them out, see if you like them!"
   ]
  }
 ],
 "metadata": {
  "celltoolbar": "Slideshow",
  "kernelspec": {
   "display_name": "Python 3 (ipykernel)",
   "language": "python",
   "name": "python3"
  },
  "language_info": {
   "codemirror_mode": {
    "name": "ipython",
    "version": 3
   },
   "file_extension": ".py",
   "mimetype": "text/x-python",
   "name": "python",
   "nbconvert_exporter": "python",
   "pygments_lexer": "ipython3",
   "version": "3.10.9"
  }
 },
 "nbformat": 4,
 "nbformat_minor": 5
}
