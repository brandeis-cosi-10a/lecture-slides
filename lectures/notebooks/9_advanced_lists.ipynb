{
 "cells": [
  {
   "cell_type": "markdown",
   "id": "1ee8a1d2",
   "metadata": {
    "slideshow": {
     "slide_type": "slide"
    }
   },
   "source": [
    "# Advanced Lists\n",
    "\n",
    "<style>\n",
    "section.present > section.present { \n",
    "    max-height: 90%; \n",
    "    overflow-y: scroll;\n",
    "}\n",
    "</style>\n",
    "\n",
    "<small><a href=\"https://colab.research.google.com/github/brandeis-jdelfino/cosi-10a/blob/main/lectures/notebooks/9_advanced_lists.ipynb\">Link to interactive slides on Google Colab</a></small>"
   ]
  },
  {
   "cell_type": "markdown",
   "id": "9c7cc163",
   "metadata": {
    "slideshow": {
     "slide_type": "slide"
    }
   },
   "source": [
    "# Removing from lists in a loop"
   ]
  },
  {
   "cell_type": "code",
   "execution_count": null,
   "id": "a2c073fd",
   "metadata": {
    "execution": {
     "iopub.execute_input": "2023-06-21T15:04:36.788846Z",
     "iopub.status.busy": "2023-06-21T15:04:36.788530Z",
     "iopub.status.idle": "2023-06-21T15:04:36.805946Z",
     "shell.execute_reply": "2023-06-21T15:04:36.804666Z"
    },
    "slideshow": {
     "slide_type": "-"
    }
   },
   "outputs": [],
   "source": [
    "def remove_all(to_remove, nums):\n",
    "    for i in range(len(nums)):\n",
    "        if nums[i] == to_remove:\n",
    "            del nums[i]"
   ]
  },
  {
   "cell_type": "code",
   "execution_count": null,
   "id": "9d535bc9",
   "metadata": {
    "execution": {
     "iopub.execute_input": "2023-06-21T15:04:36.810538Z",
     "iopub.status.busy": "2023-06-21T15:04:36.810215Z",
     "iopub.status.idle": "2023-06-21T15:04:37.086090Z",
     "shell.execute_reply": "2023-06-21T15:04:37.085414Z"
    }
   },
   "outputs": [],
   "source": [
    "digits = [1,2,3,4,1]\n",
    "remove_all(1, digits)\n",
    "print(digits)"
   ]
  },
  {
   "cell_type": "markdown",
   "id": "f22648fa",
   "metadata": {
    "slideshow": {
     "slide_type": "subslide"
    }
   },
   "source": [
    "What's going on?"
   ]
  },
  {
   "cell_type": "markdown",
   "id": "ad52a098",
   "metadata": {
    "slideshow": {
     "slide_type": "fragment"
    }
   },
   "source": [
    "Python tutor to the rescue... [link](https://pythontutor.com/visualize.html#code=def%20remove_all%28to_remove,%20nums%29%3A%0A%20%20%20%20for%20i%20in%20range%28len%28nums%29%29%3A%0A%20%20%20%20%20%20%20%20if%20nums%5Bi%5D%20%3D%3D%20to_remove%3A%0A%20%20%20%20%20%20%20%20%20%20%20%20del%20nums%5Bi%5D%0A%20%20%20%20return%20nums%0Adigits%20%3D%20%5B1,2,3,4,1%5D%0Aremove_all%281,%20digits%29&cumulative=false&curInstr=16&heapPrimitives=nevernest&mode=display&origin=opt-frontend.js&py=3&rawInputLstJSON=%5B%5D&textReferences=false)"
   ]
  },
  {
   "cell_type": "markdown",
   "id": "f3451933",
   "metadata": {
    "slideshow": {
     "slide_type": "fragment"
    }
   },
   "source": [
    "Removing from a list while iterating over it is tricky, because the list changes as the loop proceeds.\n",
    "\n",
    "Two high level approaches\n",
    "* Iterate backwards\n",
    "* Create a new list by adding items that shouldn't be deleted"
   ]
  },
  {
   "cell_type": "markdown",
   "id": "57678de8",
   "metadata": {
    "slideshow": {
     "slide_type": "subslide"
    }
   },
   "source": [
    "Option 1: iterate backwards. Modifies the list in-place. [Python tutor link](https://pythontutor.com/visualize.html#code=%23%20Option%201%3A%20iterate%20backwards%0Adef%20remove_all%28to_remove,%20nums%29%3A%0A%20%20%20%20%23%20iterate%20backwards%20from%20len%28nums%29-1%20-%3E%200%0A%20%20%20%20for%20i%20in%20range%28len%28nums%29-1,%20-1,%20-1%29%3A%0A%20%20%20%20%20%20%20%20if%20nums%5Bi%5D%20%3D%3D%20to_remove%3A%0A%20%20%20%20%20%20%20%20%20%20%20%20del%20nums%5Bi%5D%0A%20%20%20%20return%20nums%0A%20%20%20%20%0Adigits%20%3D%20%5B1,2,3,4,1%5D%0Aremove_all%281,%20digits%29&cumulative=false&curInstr=19&heapPrimitives=nevernest&mode=display&origin=opt-frontend.js&py=3&rawInputLstJSON=%5B%5D&textReferences=false)"
   ]
  },
  {
   "cell_type": "code",
   "execution_count": null,
   "id": "f1ba76a3",
   "metadata": {
    "execution": {
     "iopub.execute_input": "2023-06-21T15:04:37.089994Z",
     "iopub.status.busy": "2023-06-21T15:04:37.089704Z",
     "iopub.status.idle": "2023-06-21T15:04:37.093398Z",
     "shell.execute_reply": "2023-06-21T15:04:37.092816Z"
    },
    "slideshow": {
     "slide_type": "-"
    }
   },
   "outputs": [],
   "source": [
    "def remove_all(to_remove, nums):\n",
    "    # iterate backwards from len(nums)-1 -> 0\n",
    "    for i in range(len(nums)-1, -1, -1):\n",
    "        if nums[i] == to_remove:\n",
    "            del nums[i]\n"
   ]
  },
  {
   "cell_type": "code",
   "execution_count": null,
   "id": "23b2d664",
   "metadata": {
    "execution": {
     "iopub.execute_input": "2023-06-21T15:04:37.096898Z",
     "iopub.status.busy": "2023-06-21T15:04:37.096640Z",
     "iopub.status.idle": "2023-06-21T15:04:37.100508Z",
     "shell.execute_reply": "2023-06-21T15:04:37.099828Z"
    }
   },
   "outputs": [],
   "source": [
    "digits = [1,2,3,4,1]\n",
    "remove_all(1, digits)\n",
    "print(digits)"
   ]
  },
  {
   "cell_type": "markdown",
   "id": "2fde3313",
   "metadata": {
    "slideshow": {
     "slide_type": "subslide"
    }
   },
   "source": [
    "Option 2: Make a new list of items that shouldn't be removed. Doesn't modify the original list. [Python tutor link](https://pythontutor.com/visualize.html#code=def%20remove_all%28to_remove,%20nums%29%3A%0A%20%20%20%20new_nums%20%3D%20%5B%5D%0A%20%20%20%20for%20n%20in%20nums%3A%0A%20%20%20%20%20%20%20%20if%20n%20!%3D%20to_remove%3A%0A%20%20%20%20%20%20%20%20%20%20%20%20new_nums.append%28n%29%0A%20%20%20%20return%20new_nums%0A%20%20%20%20%0Adigits%20%3D%20%5B1,2,3,4,1%5D%0Anew_digits%20%3D%20remove_all%281,%20digits%29%0Aprint%28f%22New%20digits%3A%20%7Bnew_digits%7D,%20original%20digits%3A%20%7Bdigits%7D%22%29&cumulative=false&curInstr=21&heapPrimitives=nevernest&mode=display&origin=opt-frontend.js&py=3&rawInputLstJSON=%5B%5D&textReferences=false)"
   ]
  },
  {
   "cell_type": "code",
   "execution_count": null,
   "id": "3ca5b387",
   "metadata": {
    "execution": {
     "iopub.execute_input": "2023-06-21T15:04:37.104331Z",
     "iopub.status.busy": "2023-06-21T15:04:37.103953Z",
     "iopub.status.idle": "2023-06-21T15:04:37.108025Z",
     "shell.execute_reply": "2023-06-21T15:04:37.107387Z"
    },
    "slideshow": {
     "slide_type": "-"
    }
   },
   "outputs": [],
   "source": [
    "def remove_all(to_remove, nums):\n",
    "    new_nums = []\n",
    "    for n in nums:\n",
    "        if n != to_remove:\n",
    "            new_nums.append(n)\n",
    "    return new_nums"
   ]
  },
  {
   "cell_type": "code",
   "execution_count": null,
   "id": "e4c12029",
   "metadata": {
    "execution": {
     "iopub.execute_input": "2023-06-21T15:04:37.111188Z",
     "iopub.status.busy": "2023-06-21T15:04:37.110911Z",
     "iopub.status.idle": "2023-06-21T15:04:37.114654Z",
     "shell.execute_reply": "2023-06-21T15:04:37.114025Z"
    }
   },
   "outputs": [],
   "source": [
    "digits = [1,2,3,4,1]\n",
    "new_digits = remove_all(1, digits)\n",
    "print(f\"New digits: {new_digits}, original digits: {digits}\")\n"
   ]
  },
  {
   "cell_type": "markdown",
   "id": "c240e062",
   "metadata": {
    "slideshow": {
     "slide_type": "slide"
    }
   },
   "source": [
    "# Sorting\n",
    "\n",
    "Lists come with a handy `sort()` method. It sorts the list in place. If the `reverse` parameter is set to `True`, the items will be sorted in descending order."
   ]
  },
  {
   "cell_type": "code",
   "execution_count": null,
   "id": "813e90a8",
   "metadata": {
    "execution": {
     "iopub.execute_input": "2023-06-21T15:04:37.117701Z",
     "iopub.status.busy": "2023-06-21T15:04:37.117469Z",
     "iopub.status.idle": "2023-06-21T15:04:37.121113Z",
     "shell.execute_reply": "2023-06-21T15:04:37.120538Z"
    }
   },
   "outputs": [],
   "source": [
    "animals = [\"Zebra\", \"Aardvark\", \"Sloth\", \"Cat\", \"Dog\", \"Ferret\"]\n",
    "animals.sort()\n",
    "print(animals)\n",
    "animals.sort(reverse=True)\n",
    "print(animals)"
   ]
  },
  {
   "cell_type": "markdown",
   "id": "afcd9d08",
   "metadata": {
    "slideshow": {
     "slide_type": "subslide"
    }
   },
   "source": [
    "If you don't want to modify the list in place, there is also a `sorted()` function that makes a new, sorted list:"
   ]
  },
  {
   "cell_type": "code",
   "execution_count": null,
   "id": "fe2bf9be",
   "metadata": {
    "execution": {
     "iopub.execute_input": "2023-06-21T15:04:37.124057Z",
     "iopub.status.busy": "2023-06-21T15:04:37.123830Z",
     "iopub.status.idle": "2023-06-21T15:04:37.127581Z",
     "shell.execute_reply": "2023-06-21T15:04:37.126983Z"
    }
   },
   "outputs": [],
   "source": [
    "animals = [\"Zebra\", \"Aardvark\", \"Sloth\", \"Cat\", \"Dog\", \"Ferret\"]\n",
    "new_animals = sorted(animals)\n",
    "print(f\"Original animals: {animals}\")\n",
    "print(f\"Sorted animals: {new_animals}\")"
   ]
  },
  {
   "cell_type": "markdown",
   "id": "2a38c4f5",
   "metadata": {
    "slideshow": {
     "slide_type": "slide"
    }
   },
   "source": [
    "# Reversing\n",
    "\n",
    "Lists also have a `reverse()` method, which reverses the list in place:"
   ]
  },
  {
   "cell_type": "code",
   "execution_count": null,
   "id": "36039f2f",
   "metadata": {
    "execution": {
     "iopub.execute_input": "2023-06-21T15:04:37.131022Z",
     "iopub.status.busy": "2023-06-21T15:04:37.130746Z",
     "iopub.status.idle": "2023-06-21T15:04:37.134464Z",
     "shell.execute_reply": "2023-06-21T15:04:37.133820Z"
    }
   },
   "outputs": [],
   "source": [
    "animals = [\"Zebra\", \"Aardvark\", \"Sloth\", \"Cat\", \"Dog\", \"Ferret\"]\n",
    "animals.reverse()\n",
    "print(animals)"
   ]
  },
  {
   "cell_type": "markdown",
   "id": "870a5af3",
   "metadata": {
    "slideshow": {
     "slide_type": "subslide"
    }
   },
   "source": [
    "Similar to `sort()` and `sorted()`, there is also a `reversed()` function that returns a new, reversed list:"
   ]
  },
  {
   "cell_type": "code",
   "execution_count": null,
   "id": "1cdc3468",
   "metadata": {
    "execution": {
     "iopub.execute_input": "2023-06-21T15:04:37.137991Z",
     "iopub.status.busy": "2023-06-21T15:04:37.137562Z",
     "iopub.status.idle": "2023-06-21T15:04:37.141202Z",
     "shell.execute_reply": "2023-06-21T15:04:37.140660Z"
    }
   },
   "outputs": [],
   "source": [
    "animals = [\"Zebra\", \"Aardvark\", \"Sloth\", \"Cat\", \"Dog\", \"Ferret\"]\n",
    "new_animals = reversed(animals)\n",
    "print(f\"Original animals: {animals}\")\n",
    "print(f\"New animals: {new_animals}\")"
   ]
  },
  {
   "cell_type": "markdown",
   "id": "3e8d429e",
   "metadata": {
    "slideshow": {
     "slide_type": "fragment"
    }
   },
   "source": [
    "Wait, what?"
   ]
  },
  {
   "cell_type": "markdown",
   "id": "938b8fde",
   "metadata": {
    "slideshow": {
     "slide_type": "subslide"
    }
   },
   "source": [
    "`reversed()` returns an **iterator**. \n",
    "\n",
    "Iterators are mostly beyond the scope of this class, but they are really neat and useful. If you want to learn about them, this is a decent resource from [Towards Data Science](https://towardsdatascience.com/python-basics-iteration-and-looping-6ca63b30835c). \n",
    "\n",
    "2 important things to know for now:\n",
    "1. You can easily convert an iterator to a list, by using `list(<iterator>)`.\n",
    "2. You can use a `for` loop on an iterator, but only once (using an iterator \"consumes\" it)."
   ]
  },
  {
   "cell_type": "code",
   "execution_count": null,
   "id": "4fb8714b",
   "metadata": {
    "execution": {
     "iopub.execute_input": "2023-06-21T15:04:37.144243Z",
     "iopub.status.busy": "2023-06-21T15:04:37.144004Z",
     "iopub.status.idle": "2023-06-21T15:04:37.147633Z",
     "shell.execute_reply": "2023-06-21T15:04:37.147070Z"
    }
   },
   "outputs": [],
   "source": [
    "animals = [\"Zebra\", \"Aardvark\", \"Sloth\", \"Cat\", \"Dog\", \"Ferret\"]\n",
    "new_animals = list(reversed(animals))\n",
    "print(f\"Original animals: {animals}\")\n",
    "print(f\"New animals: {new_animals}\")"
   ]
  },
  {
   "cell_type": "markdown",
   "id": "274746db",
   "metadata": {
    "slideshow": {
     "slide_type": "subslide"
    }
   },
   "source": [
    "# Zip\n",
    "\n",
    "You can \"zip\" two lists together and iterate over them at the same time. This is useful when you have \"parallel\" lists."
   ]
  },
  {
   "cell_type": "markdown",
   "id": "b380e18c",
   "metadata": {
    "slideshow": {
     "slide_type": "subslide"
    }
   },
   "source": [
    "Consider this example, where we have a list of names and a list of ages, and we want to print the names & ages out together."
   ]
  },
  {
   "cell_type": "code",
   "execution_count": null,
   "id": "f9e8e091",
   "metadata": {
    "execution": {
     "iopub.execute_input": "2023-06-21T15:04:37.150593Z",
     "iopub.status.busy": "2023-06-21T15:04:37.150357Z",
     "iopub.status.idle": "2023-06-21T15:04:37.154037Z",
     "shell.execute_reply": "2023-06-21T15:04:37.153456Z"
    }
   },
   "outputs": [],
   "source": [
    "names = [\"Spongebob\", \"Batman\", \"Dora\", \"Peppa\"]\n",
    "ages = [22, 26, 7, 4]\n",
    "\n",
    "for i in range(len(names)):\n",
    "    print(f\"{names[i]} is {ages[i]} years old\")"
   ]
  },
  {
   "cell_type": "markdown",
   "id": "1d7d7e3a",
   "metadata": {
    "slideshow": {
     "slide_type": "subslide"
    }
   },
   "source": [
    "That's totally fine! But, if you prefer, you can use `zip()`. \n",
    "\n",
    "`zip` takes 2 or more lists, and returns an iterator that produces tuples with the next item from each list."
   ]
  },
  {
   "cell_type": "code",
   "execution_count": null,
   "id": "e1b4eb6c",
   "metadata": {
    "execution": {
     "iopub.execute_input": "2023-06-21T15:04:37.157004Z",
     "iopub.status.busy": "2023-06-21T15:04:37.156771Z",
     "iopub.status.idle": "2023-06-21T15:04:37.160265Z",
     "shell.execute_reply": "2023-06-21T15:04:37.159710Z"
    }
   },
   "outputs": [],
   "source": [
    "names = [\"Spongebob\", \"Batman\", \"Dora\", \"Peppa\"]\n",
    "ages = [22, 26, 7, 4]\n",
    "\n",
    "for (name, age) in zip(names, ages):\n",
    "    print(f\"{name} is {age} years old\")"
   ]
  },
  {
   "cell_type": "markdown",
   "id": "b03f7f95",
   "metadata": {
    "slideshow": {
     "slide_type": "slide"
    }
   },
   "source": [
    "# Nested lists\n",
    "\n",
    "Lists can contain other lists. You can chain brackets (`[]`) to access individual items.\n",
    "\n",
    "Here is a list which contains 5 lists, each of which contain 5 strings:"
   ]
  },
  {
   "cell_type": "code",
   "execution_count": null,
   "id": "cbfddebd",
   "metadata": {
    "execution": {
     "iopub.execute_input": "2023-06-21T15:04:37.163234Z",
     "iopub.status.busy": "2023-06-21T15:04:37.162998Z",
     "iopub.status.idle": "2023-06-21T15:04:37.166278Z",
     "shell.execute_reply": "2023-06-21T15:04:37.165750Z"
    }
   },
   "outputs": [],
   "source": [
    "ascii_art = [\n",
    "    ['-', '*', '-', '*', '-'],\n",
    "    ['-', '*', '-', '*', '-'],\n",
    "    ['*', '-', '*', '-', '*'],\n",
    "    ['*', '*', '-', '*', '*'],\n",
    "    ['-', '-', '*', '-', '-'],\n",
    "]"
   ]
  },
  {
   "cell_type": "code",
   "execution_count": null,
   "id": "e45d526f",
   "metadata": {
    "execution": {
     "iopub.execute_input": "2023-06-21T15:04:37.169125Z",
     "iopub.status.busy": "2023-06-21T15:04:37.168890Z",
     "iopub.status.idle": "2023-06-21T15:04:37.172056Z",
     "shell.execute_reply": "2023-06-21T15:04:37.171484Z"
    }
   },
   "outputs": [],
   "source": [
    "print(ascii_art[0][1])"
   ]
  },
  {
   "cell_type": "code",
   "execution_count": null,
   "id": "84e10a65",
   "metadata": {
    "execution": {
     "iopub.execute_input": "2023-06-21T15:04:37.174908Z",
     "iopub.status.busy": "2023-06-21T15:04:37.174666Z",
     "iopub.status.idle": "2023-06-21T15:04:37.178008Z",
     "shell.execute_reply": "2023-06-21T15:04:37.177418Z"
    }
   },
   "outputs": [],
   "source": [
    "print(ascii_art[4][3])"
   ]
  },
  {
   "cell_type": "markdown",
   "id": "fca2cb7b",
   "metadata": {
    "slideshow": {
     "slide_type": "subslide"
    }
   },
   "source": [
    "You can write nested `for` loops to iterate over all the items in nested lists. [Python tutor link](https://pythontutor.com/visualize.html#code=ascii_art%20%3D%20%5B%0A%20%20%20%20%5B'-',%20'*',%20'-',%20'*',%20'-'%5D,%0A%20%20%20%20%5B'-',%20'*',%20'-',%20'*',%20'-'%5D,%0A%20%20%20%20%5B'*',%20'-',%20'*',%20'-',%20'*'%5D,%0A%20%20%20%20%5B'*',%20'*',%20'-',%20'*',%20'*'%5D,%0A%20%20%20%20%5B'-',%20'-',%20'*',%20'-',%20'-'%5D,%0A%5D%0A%0Afor%20row%20in%20ascii_art%3A%0A%20%20%20%20for%20cell%20in%20row%3A%0A%20%20%20%20%20%20%20%20print%28cell,%20end%3D''%29%0A%20%20%20%20print%28%29&cumulative=false&curInstr=34&heapPrimitives=nevernest&mode=display&origin=opt-frontend.js&py=3&rawInputLstJSON=%5B%5D&textReferences=false)"
   ]
  },
  {
   "cell_type": "code",
   "execution_count": null,
   "id": "7730ed85",
   "metadata": {
    "execution": {
     "iopub.execute_input": "2023-06-21T15:04:37.181055Z",
     "iopub.status.busy": "2023-06-21T15:04:37.180815Z",
     "iopub.status.idle": "2023-06-21T15:04:37.184240Z",
     "shell.execute_reply": "2023-06-21T15:04:37.183700Z"
    }
   },
   "outputs": [],
   "source": [
    "for row in ascii_art:\n",
    "    for cell in row:\n",
    "        print(cell, end='')\n",
    "    print()"
   ]
  },
  {
   "cell_type": "markdown",
   "id": "ae2e7a19",
   "metadata": {
    "slideshow": {
     "slide_type": "subslide"
    }
   },
   "source": [
    "Nesting can be arbitrarily deep (although this is often not a good idea):"
   ]
  },
  {
   "cell_type": "code",
   "execution_count": null,
   "id": "443f1d6e",
   "metadata": {
    "execution": {
     "iopub.execute_input": "2023-06-21T15:04:37.187076Z",
     "iopub.status.busy": "2023-06-21T15:04:37.186839Z",
     "iopub.status.idle": "2023-06-21T15:04:37.193173Z",
     "shell.execute_reply": "2023-06-21T15:04:37.192469Z"
    }
   },
   "outputs": [],
   "source": [
    "f = [1, [2, [3, 4, [5, 6], 7], 8], 9, 10]\n",
    "f"
   ]
  },
  {
   "cell_type": "code",
   "execution_count": null,
   "id": "fa5530bc",
   "metadata": {
    "execution": {
     "iopub.execute_input": "2023-06-21T15:04:37.196153Z",
     "iopub.status.busy": "2023-06-21T15:04:37.195902Z",
     "iopub.status.idle": "2023-06-21T15:04:37.199287Z",
     "shell.execute_reply": "2023-06-21T15:04:37.198651Z"
    }
   },
   "outputs": [],
   "source": [
    "print(f[1][1][2][0])"
   ]
  },
  {
   "cell_type": "markdown",
   "id": "c9b5fe87",
   "metadata": {
    "slideshow": {
     "slide_type": "slide"
    }
   },
   "source": [
    "# Exercise \n",
    "\n",
    "Let's say we have some data representing the dates on which people exercised this month. Write a program that prints out which person exerecised the most, and the number of times they exercised.\n",
    "\n",
    "Example data:\n",
    "```\n",
    "data = [\n",
    "    [1, 7, 15, 31],\n",
    "    [2, 21],\n",
    "    [5],\n",
    "    [1, 3, 5, 7, 9, 11, 13, 15, 17, 19, 21, 23, 25, 27, 29],\n",
    "    [1, 2, 3, 4, 5, 6]\n",
    "]\n",
    "```"
   ]
  },
  {
   "cell_type": "markdown",
   "id": "66c249bf",
   "metadata": {
    "slideshow": {
     "slide_type": "fragment"
    }
   },
   "source": [
    "Our strategy here will be very similar to what we did for \"cumulative loops\":\n",
    "1. Declare some variables to hold the max values.\n",
    "2. Loop over every item in the outer list, and check whether it's the longest we've seen so far.  \n",
    "   2a. If it is, record the max, and also the index of the max\n",
    "3. At the end, print out the max and max index."
   ]
  },
  {
   "cell_type": "code",
   "execution_count": null,
   "id": "928241bc",
   "metadata": {
    "execution": {
     "iopub.execute_input": "2023-06-21T15:04:37.202495Z",
     "iopub.status.busy": "2023-06-21T15:04:37.202251Z",
     "iopub.status.idle": "2023-06-21T15:04:37.207067Z",
     "shell.execute_reply": "2023-06-21T15:04:37.206442Z"
    },
    "slideshow": {
     "slide_type": "subslide"
    }
   },
   "outputs": [],
   "source": [
    "data = [\n",
    "    [1, 7, 15, 31],\n",
    "    [2, 21],\n",
    "    [5],\n",
    "    [1, 3, 5, 7, 9, 11, 13, 15, 17, 19, 21, 23, 25, 27, 29],\n",
    "    [1, 2, 3, 4, 5, 6]\n",
    "]\n",
    "\n",
    "most = 0\n",
    "most_index = 0\n",
    "for i in range(len(data)):\n",
    "    if len(data[i]) > most:\n",
    "        most = len(data[i])\n",
    "        most_index = i\n",
    "print(f\"Person #{most_index} exercised the most, with {most} days of exercise!\")"
   ]
  },
  {
   "cell_type": "markdown",
   "id": "0f0640a2",
   "metadata": {
    "slideshow": {
     "slide_type": "subslide"
    }
   },
   "source": [
    "A tweak to this: we're also given a parallel list of names. Print out the name of the person who exercised the most.\n",
    "\n",
    "```\n",
    "names = [\"Spongebob\", \"Batman\", \"Dora\", \"Peppa\", \"Bill Murray\"]\n",
    "data = [\n",
    "    [1, 7, 15, 31],\n",
    "    [2, 21],\n",
    "    [5],\n",
    "    [1, 3, 5, 7, 9, 11, 13, 15, 17, 19, 21, 23, 25, 27, 29],\n",
    "    [1, 2, 3, 4, 5, 6]\n",
    "]\n",
    "```"
   ]
  },
  {
   "cell_type": "code",
   "execution_count": null,
   "id": "49d3673a",
   "metadata": {
    "execution": {
     "iopub.execute_input": "2023-06-21T15:04:37.210194Z",
     "iopub.status.busy": "2023-06-21T15:04:37.209934Z",
     "iopub.status.idle": "2023-06-21T15:04:37.214879Z",
     "shell.execute_reply": "2023-06-21T15:04:37.214269Z"
    },
    "slideshow": {
     "slide_type": "subslide"
    }
   },
   "outputs": [],
   "source": [
    "names = [\"Spongebob\", \"Batman\", \"Dora\", \"Peppa\", \"Bill Murray\"]\n",
    "data = [\n",
    "    [1, 7, 15, 31],\n",
    "    [2, 21],\n",
    "    [5],\n",
    "    [1, 3, 5, 7, 9, 11, 13, 15, 17, 19, 21, 23, 25, 27, 29],\n",
    "    [1, 2, 3, 4, 5, 6]\n",
    "]\n",
    "\n",
    "most = 0\n",
    "most_name = \"\"\n",
    "for (name, dates) in zip(names, data):\n",
    "    if len(dates) > most:\n",
    "        most = len(dates)\n",
    "        most_name = name\n",
    "print(f\"{most_name} exercised the most, with {most} days of exercise!\")"
   ]
  },
  {
   "cell_type": "markdown",
   "id": "997e4574",
   "metadata": {
    "slideshow": {
     "slide_type": "-"
    }
   },
   "source": [
    "[Python tutor link](https://pythontutor.com/visualize.html#code=names%20%3D%20%5B%22Spongebob%22,%20%22Batman%22,%20%22Dora%22,%20%22Peppa%22,%20%22Bill%20Murray%22%5D%0Adata%20%3D%20%5B%0A%20%20%20%20%5B1,%207,%2015,%2031%5D,%0A%20%20%20%20%5B2,%2021%5D,%0A%20%20%20%20%5B5%5D,%0A%20%20%20%20%5B1,%203,%205,%207,%209,%2011,%2013,%2015,%2017,%2019,%2021,%2023,%2025,%2027,%2029%5D,%0A%20%20%20%20%5B1,%202,%203,%204,%205,%206%5D%0A%5D%0A%0Amost%20%3D%200%0Amost_name%20%3D%20%22%22%0Afor%20%28name,%20dates%29%20in%20zip%28names,%20data%29%3A%0A%20%20%20%20if%20len%28dates%29%20%3E%20most%3A%0A%20%20%20%20%20%20%20%20most%20%3D%20len%28dates%29%0A%20%20%20%20%20%20%20%20most_name%20%3D%20name%0Aprint%28f%22%7Bmost_name%7D%20exercised%20the%20most,%20with%20%7Bmost%7D%20days%20of%20exercise!%22%29&cumulative=false&curInstr=0&heapPrimitives=nevernest&mode=display&origin=opt-frontend.js&py=3&rawInputLstJSON=%5B%5D&textReferences=false)"
   ]
  }
 ],
 "metadata": {
  "celltoolbar": "Slideshow",
  "kernelspec": {
   "display_name": "Python 3 (ipykernel)",
   "language": "python",
   "name": "python3"
  },
  "language_info": {
   "codemirror_mode": {
    "name": "ipython",
    "version": 3
   },
   "file_extension": ".py",
   "mimetype": "text/x-python",
   "name": "python",
   "nbconvert_exporter": "python",
   "pygments_lexer": "ipython3",
   "version": "3.10.9"
  }
 },
 "nbformat": 4,
 "nbformat_minor": 5
}
