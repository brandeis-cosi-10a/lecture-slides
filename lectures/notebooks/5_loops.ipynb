{
 "cells": [
  {
   "cell_type": "markdown",
   "id": "1ee8a1d2",
   "metadata": {
    "slideshow": {
     "slide_type": "slide"
    }
   },
   "source": [
    "# Loops\n",
    "\n",
    "<style>\n",
    "section.present > section.present { \n",
    "    max-height: 90%; \n",
    "    overflow-y: scroll;\n",
    "}\n",
    "</style>\n",
    "\n",
    "<small><a href=\"https://colab.research.google.com/github/brandeis-jdelfino/cosi-10a/blob/main/lectures/notebooks/5_loops.ipynb\">Link to interactive slides on Google Colab</a></small>"
   ]
  },
  {
   "cell_type": "code",
   "execution_count": null,
   "id": "71eccbdb",
   "metadata": {
    "execution": {
     "iopub.execute_input": "2023-06-02T15:55:52.972443Z",
     "iopub.status.busy": "2023-06-02T15:55:52.972127Z",
     "iopub.status.idle": "2023-06-02T15:55:52.991381Z",
     "shell.execute_reply": "2023-06-02T15:55:52.990487Z"
    },
    "slideshow": {
     "slide_type": "slide"
    }
   },
   "outputs": [],
   "source": [
    "# Finds all the numbers between 1 and 100 that are multiples of n\n",
    "def find_multiples(n):\n",
    "    if 1 % n == 0:\n",
    "        print(1, end=' ')\n",
    "    if 2 % n == 0:\n",
    "        print(2, end=' ')\n",
    "    if 3 % n == 0:\n",
    "        print(3, end=' ')\n",
    "    if 4 % n == 0:\n",
    "        print(4, end=' ')\n",
    "    if 5 % n == 0:\n",
    "        print(5, end=' ')\n",
    "    if 6 % n == 0:\n",
    "        print(6, end=' ')\n",
    "    if 7 % n == 0:\n",
    "        print(7, end=' ')\n",
    "    if 8 % n == 0:\n",
    "        print(8, end=' ')\n",
    "    #...\n",
    "\n",
    "find_multiples(3)"
   ]
  },
  {
   "cell_type": "markdown",
   "id": "35fc233e",
   "metadata": {
    "slideshow": {
     "slide_type": "subslide"
    }
   },
   "source": [
    "## Side note: the `end` parameter for `print()`\n",
    "\n",
    "* `print` is a function with several defaulted parameters.\n",
    "* One that we'll use today: `end` \n",
    "* `end` controls the character that is printed after the string.\n",
    "  * By default, it is `\\n` - newline\n",
    "* If we set it to `' '`, successive prints will print on the same line, with a space in between.\n"
   ]
  },
  {
   "cell_type": "code",
   "execution_count": null,
   "id": "7761130b",
   "metadata": {
    "execution": {
     "iopub.execute_input": "2023-06-02T15:55:52.995887Z",
     "iopub.status.busy": "2023-06-02T15:55:52.995520Z",
     "iopub.status.idle": "2023-06-02T15:55:52.999509Z",
     "shell.execute_reply": "2023-06-02T15:55:52.998825Z"
    }
   },
   "outputs": [],
   "source": [
    "print(\"1\", end=' ')\n",
    "print(\"2\", end=' ')\n",
    "print(\"3\", end=' ')"
   ]
  },
  {
   "cell_type": "markdown",
   "id": "d0bf50fa",
   "metadata": {
    "slideshow": {
     "slide_type": "subslide"
    }
   },
   "source": [
    "# Loops!        "
   ]
  },
  {
   "cell_type": "code",
   "execution_count": null,
   "id": "815d61e5",
   "metadata": {
    "execution": {
     "iopub.execute_input": "2023-06-02T15:55:53.003191Z",
     "iopub.status.busy": "2023-06-02T15:55:53.002882Z",
     "iopub.status.idle": "2023-06-02T15:55:53.007244Z",
     "shell.execute_reply": "2023-06-02T15:55:53.006552Z"
    }
   },
   "outputs": [],
   "source": [
    "def find_multiples(n):\n",
    "    for i in range(1, 100):\n",
    "        if i % n == 0:\n",
    "            print(i, end=' ')\n",
    "\n",
    "find_multiples(3)"
   ]
  },
  {
   "cell_type": "markdown",
   "id": "8b10ef58",
   "metadata": {},
   "source": [
    "Today we'll talk about loops, which let you repeat sections of code.\n",
    "\n",
    "We'll learn `for` and `while` loops, and then spend most of the time going through many different examples and exercises showing real examples of loops."
   ]
  },
  {
   "cell_type": "markdown",
   "id": "6a640677",
   "metadata": {
    "slideshow": {
     "slide_type": "subslide"
    }
   },
   "source": [
    "# The `for` loop\n",
    "\n",
    "```\n",
    "for <var> in range(<start>, <stop>):\n",
    "    statement(s)\n",
    "```\n",
    "\n",
    "* This is one form of a `for` loop\n",
    "* It **iterates**, or repeats, `<stop> - <start>` times.\n",
    "* For each **iteration** of the loop, `<var>` will be set to the next number in the sequence `[start, stop)`.\n",
    "  * So, `for i in range(3, 7)` will **iterate over** the numbers: 3, 4, 5, 6"
   ]
  },
  {
   "cell_type": "code",
   "execution_count": null,
   "id": "20156919",
   "metadata": {
    "execution": {
     "iopub.execute_input": "2023-06-02T15:55:53.011040Z",
     "iopub.status.busy": "2023-06-02T15:55:53.010755Z",
     "iopub.status.idle": "2023-06-02T15:55:53.014184Z",
     "shell.execute_reply": "2023-06-02T15:55:53.013626Z"
    }
   },
   "outputs": [],
   "source": [
    "for i in range(3, 7):\n",
    "    print(i)"
   ]
  },
  {
   "cell_type": "markdown",
   "id": "97566f4c",
   "metadata": {
    "slideshow": {
     "slide_type": "subslide"
    }
   },
   "source": [
    "# Unrolling loops\n",
    "\n",
    "Let's \"unroll\" a loop into the statements it will execute, to get a better handle on it:"
   ]
  },
  {
   "cell_type": "code",
   "execution_count": null,
   "id": "ade30494",
   "metadata": {
    "execution": {
     "iopub.execute_input": "2023-06-02T15:55:53.017393Z",
     "iopub.status.busy": "2023-06-02T15:55:53.017125Z",
     "iopub.status.idle": "2023-06-02T15:55:53.020702Z",
     "shell.execute_reply": "2023-06-02T15:55:53.020106Z"
    }
   },
   "outputs": [],
   "source": [
    "for i in range(3, 7):\n",
    "    if i % 2 == 0:\n",
    "        print(i, end=' ')"
   ]
  },
  {
   "cell_type": "markdown",
   "id": "0f26011d",
   "metadata": {},
   "source": [
    "is equivalent to:"
   ]
  },
  {
   "cell_type": "code",
   "execution_count": null,
   "id": "f089f132",
   "metadata": {
    "execution": {
     "iopub.execute_input": "2023-06-02T15:55:53.024026Z",
     "iopub.status.busy": "2023-06-02T15:55:53.023746Z",
     "iopub.status.idle": "2023-06-02T15:55:53.027777Z",
     "shell.execute_reply": "2023-06-02T15:55:53.027205Z"
    }
   },
   "outputs": [],
   "source": [
    "if 3 % 2 == 0:\n",
    "    print(3, end=' ')\n",
    "if 4 % 2 == 0:\n",
    "    print(4, end=' ')\n",
    "if 5 % 2 == 0:\n",
    "    print(5, end=' ')\n",
    "if 6 % 2 == 0:\n",
    "    print(6, end=' ')"
   ]
  },
  {
   "cell_type": "markdown",
   "id": "39d76897",
   "metadata": {
    "slideshow": {
     "slide_type": "subslide"
    }
   },
   "source": [
    "# Expressions in ranges\n",
    "\n",
    "You don't need to hardcode the values passed to `range`. They can be any expressions that evaluate to integers."
   ]
  },
  {
   "cell_type": "code",
   "execution_count": null,
   "id": "66e35180",
   "metadata": {
    "execution": {
     "iopub.execute_input": "2023-06-02T15:55:53.030959Z",
     "iopub.status.busy": "2023-06-02T15:55:53.030715Z",
     "iopub.status.idle": "2023-06-02T15:55:53.034631Z",
     "shell.execute_reply": "2023-06-02T15:55:53.034043Z"
    }
   },
   "outputs": [],
   "source": [
    "x = 100\n",
    "y = 8\n",
    "for num in range(x // 10, y ** 2):\n",
    "    print(num, end=' ')"
   ]
  },
  {
   "cell_type": "markdown",
   "id": "139cbda1",
   "metadata": {
    "slideshow": {
     "slide_type": "subslide"
    }
   },
   "source": [
    "## Range arguments\n",
    "\n",
    "* `range` has 2 variants:\n",
    "  * `range(stop)` - iterates from 0 to `stop`\n",
    "  * `range(start, stop, step=1)` - iterates from `start` to `stop-1`, changing the number by `step` each time"
   ]
  },
  {
   "cell_type": "code",
   "execution_count": null,
   "id": "0db8ed61",
   "metadata": {
    "execution": {
     "iopub.execute_input": "2023-06-02T15:55:53.037589Z",
     "iopub.status.busy": "2023-06-02T15:55:53.037337Z",
     "iopub.status.idle": "2023-06-02T15:55:53.040574Z",
     "shell.execute_reply": "2023-06-02T15:55:53.039909Z"
    },
    "slideshow": {
     "slide_type": "subslide"
    }
   },
   "outputs": [],
   "source": [
    "for i in range(5):\n",
    "    print(i, end=' ')"
   ]
  },
  {
   "cell_type": "code",
   "execution_count": null,
   "id": "16917ea0",
   "metadata": {
    "execution": {
     "iopub.execute_input": "2023-06-02T15:55:53.043636Z",
     "iopub.status.busy": "2023-06-02T15:55:53.043391Z",
     "iopub.status.idle": "2023-06-02T15:55:53.046891Z",
     "shell.execute_reply": "2023-06-02T15:55:53.046244Z"
    }
   },
   "outputs": [],
   "source": [
    "for i in range(3, 7):\n",
    "    print(i, end=' ')"
   ]
  },
  {
   "cell_type": "code",
   "execution_count": null,
   "id": "05d4ab35",
   "metadata": {
    "execution": {
     "iopub.execute_input": "2023-06-02T15:55:53.049978Z",
     "iopub.status.busy": "2023-06-02T15:55:53.049709Z",
     "iopub.status.idle": "2023-06-02T15:55:53.053195Z",
     "shell.execute_reply": "2023-06-02T15:55:53.052674Z"
    },
    "slideshow": {
     "slide_type": "subslide"
    }
   },
   "outputs": [],
   "source": [
    "for i in range(50, 101, 5):\n",
    "    print(i, end=' ')"
   ]
  },
  {
   "cell_type": "code",
   "execution_count": null,
   "id": "f9c3a80e",
   "metadata": {
    "execution": {
     "iopub.execute_input": "2023-06-02T15:55:53.056014Z",
     "iopub.status.busy": "2023-06-02T15:55:53.055754Z",
     "iopub.status.idle": "2023-06-02T15:55:53.059497Z",
     "shell.execute_reply": "2023-06-02T15:55:53.058898Z"
    }
   },
   "outputs": [],
   "source": [
    "# You can count down with a negative step\n",
    "for i in range(10, 0, -1):\n",
    "    print(i, end=', ')\n",
    "print(\"... blastoff!\")"
   ]
  },
  {
   "cell_type": "markdown",
   "id": "3a324b89",
   "metadata": {
    "slideshow": {
     "slide_type": "slide"
    }
   },
   "source": [
    "# Fencepost loops\n",
    "\n",
    "How do we omit that last `,` in our countdown? This is a common problem when writing loops.\n",
    "\n",
    "A flawed attempt:"
   ]
  },
  {
   "cell_type": "code",
   "execution_count": null,
   "id": "f7b152bf",
   "metadata": {
    "execution": {
     "iopub.execute_input": "2023-06-02T15:55:53.062599Z",
     "iopub.status.busy": "2023-06-02T15:55:53.062349Z",
     "iopub.status.idle": "2023-06-02T15:55:53.066110Z",
     "shell.execute_reply": "2023-06-02T15:55:53.065422Z"
    }
   },
   "outputs": [],
   "source": [
    "for i in range(10, 0, -1):\n",
    "    print(\", \" + str(i), end='')\n",
    "print(\"... blastoff!\")"
   ]
  },
  {
   "cell_type": "markdown",
   "id": "88060957",
   "metadata": {
    "slideshow": {
     "slide_type": "subslide"
    }
   },
   "source": [
    "We want to print `n` numbers, but `n-1` commas. If we always print a number and comma together, we'll never get it right.\n",
    "\n",
    "These are called \"fencepost loops\" because they are similar to building a fence - you need a post followed by rails for each section, but then at the end you just need a single post to finish it off.\n",
    "\n",
    "<br/><br/>\n",
    "<img src=\"./images/fencepost.png\" style=\"display:block; margin:auto; width: 50%;\"/>\n"
   ]
  },
  {
   "cell_type": "markdown",
   "id": "482242ef",
   "metadata": {
    "slideshow": {
     "slide_type": "subslide"
    }
   },
   "source": [
    "**Solution 1**: Pull the first number out of the loop and print it by itself, then print a comma before every other number"
   ]
  },
  {
   "cell_type": "code",
   "execution_count": null,
   "id": "6b6992ff",
   "metadata": {
    "execution": {
     "iopub.execute_input": "2023-06-02T15:55:53.069131Z",
     "iopub.status.busy": "2023-06-02T15:55:53.068883Z",
     "iopub.status.idle": "2023-06-02T15:55:53.072656Z",
     "shell.execute_reply": "2023-06-02T15:55:53.072066Z"
    },
    "slideshow": {
     "slide_type": "-"
    }
   },
   "outputs": [],
   "source": [
    "print(10, end='')\n",
    "for i in range(9, 0, -1):\n",
    "    print(\", \" + str(i), end='')\n",
    "print(\"... blastoff!\")"
   ]
  },
  {
   "cell_type": "markdown",
   "id": "06919794",
   "metadata": {
    "slideshow": {
     "slide_type": "fragment"
    }
   },
   "source": [
    "**Solution 2**: Print every number with a comma after it, but pull the last number out of the loop and print it by itself."
   ]
  },
  {
   "cell_type": "code",
   "execution_count": null,
   "id": "aaca82b7",
   "metadata": {
    "execution": {
     "iopub.execute_input": "2023-06-02T15:55:53.075765Z",
     "iopub.status.busy": "2023-06-02T15:55:53.075511Z",
     "iopub.status.idle": "2023-06-02T15:55:53.079027Z",
     "shell.execute_reply": "2023-06-02T15:55:53.078513Z"
    }
   },
   "outputs": [],
   "source": [
    "for i in range(10, 1, -1):\n",
    "    print(i, end=', ')\n",
    "print(\"1... blastoff!\")"
   ]
  },
  {
   "cell_type": "markdown",
   "id": "9369463d",
   "metadata": {
    "slideshow": {
     "slide_type": "slide"
    }
   },
   "source": [
    "# Cumulative algorithms\n",
    "\n",
    "Write a function to compute the sum of every number between two numbers."
   ]
  },
  {
   "cell_type": "code",
   "execution_count": null,
   "id": "9f41b674",
   "metadata": {
    "execution": {
     "iopub.execute_input": "2023-06-02T15:55:53.082067Z",
     "iopub.status.busy": "2023-06-02T15:55:53.081821Z",
     "iopub.status.idle": "2023-06-02T15:55:53.085610Z",
     "shell.execute_reply": "2023-06-02T15:55:53.084998Z"
    },
    "tags": [
     "remove-output"
    ]
   },
   "outputs": [],
   "source": [
    "def sum_range(start, stop):\n",
    "    for i in range(start, stop):\n",
    "        # ???"
   ]
  },
  {
   "cell_type": "markdown",
   "id": "74d8bfc5",
   "metadata": {
    "slideshow": {
     "slide_type": "subslide"
    }
   },
   "source": [
    "This is another common looping pattern. We'll create a variable to hold our running total, and add to it in each iteration of the loop."
   ]
  },
  {
   "cell_type": "code",
   "execution_count": null,
   "id": "d1c35fca",
   "metadata": {
    "execution": {
     "iopub.execute_input": "2023-06-02T15:55:53.088503Z",
     "iopub.status.busy": "2023-06-02T15:55:53.088264Z",
     "iopub.status.idle": "2023-06-02T15:55:53.095285Z",
     "shell.execute_reply": "2023-06-02T15:55:53.094741Z"
    }
   },
   "outputs": [],
   "source": [
    "def sum_range(start, stop):\n",
    "    total = 0\n",
    "    for i in range(start, stop):\n",
    "        total = total + i\n",
    "    return total\n",
    "\n",
    "sum_range(1, 10)"
   ]
  },
  {
   "cell_type": "markdown",
   "id": "f345e50f",
   "metadata": {
    "slideshow": {
     "slide_type": "slide"
    }
   },
   "source": [
    "# `while` loops\n",
    "\n",
    "`for/range` loops repeat for a predetermined number of iterations.\n",
    "  \n",
    "There is another kind of loop - `while` - that iterates until a condition becomes False.\n",
    "\n",
    "```\n",
    "while <boolean expression>:\n",
    "    statement(s)\n",
    "```"
   ]
  },
  {
   "cell_type": "code",
   "execution_count": null,
   "id": "235604dd",
   "metadata": {
    "execution": {
     "iopub.execute_input": "2023-06-02T15:55:53.098513Z",
     "iopub.status.busy": "2023-06-02T15:55:53.098216Z",
     "iopub.status.idle": "2023-06-02T15:55:53.102101Z",
     "shell.execute_reply": "2023-06-02T15:55:53.101501Z"
    },
    "slideshow": {
     "slide_type": "subslide"
    }
   },
   "outputs": [],
   "source": [
    "x = 27\n",
    "while x > 1:\n",
    "    print(x)\n",
    "    x = x / 2\n",
    "print(x)"
   ]
  },
  {
   "cell_type": "markdown",
   "id": "118f2f47",
   "metadata": {
    "slideshow": {
     "slide_type": "slide"
    }
   },
   "source": [
    "# Exercise\n",
    "\n",
    "Write a program that prompts the user to type in numbers. Keep a running sum of the numbers, and print out the total once the user types \"quit\".\n",
    "\n"
   ]
  },
  {
   "cell_type": "markdown",
   "id": "11dec15c",
   "metadata": {
    "slideshow": {
     "slide_type": "fragment"
    }
   },
   "source": [
    "We'll use a loop with a \"sentinel value\". Our sentinel value is \"quit\", and we'll have a \"sentinel loop\" that will keep going until it sees the sentinel value.\n",
    "\n",
    "What's wrong with this attempt?"
   ]
  },
  {
   "cell_type": "code",
   "execution_count": null,
   "id": "84a47680",
   "metadata": {
    "execution": {
     "iopub.execute_input": "2023-06-02T15:55:53.105109Z",
     "iopub.status.busy": "2023-06-02T15:55:53.104868Z",
     "iopub.status.idle": "2023-06-02T15:55:53.487895Z",
     "shell.execute_reply": "2023-06-02T15:55:53.487295Z"
    },
    "tags": [
     "remove-output"
    ]
   },
   "outputs": [],
   "source": [
    "total = 0\n",
    "answer = \"dummy\"\n",
    "\n",
    "while answer != \"quit\":\n",
    "    answer = input(\"Type a number, or 'quit' to stop: \")\n",
    "    total = total + int(answer)\n",
    "    print(\"Sum so far:\" + str(total))\n",
    "\n",
    "print(\"Sum: \" + str(total))"
   ]
  },
  {
   "cell_type": "markdown",
   "id": "30178d0e",
   "metadata": {
    "slideshow": {
     "slide_type": "subslide"
    }
   },
   "source": [
    "When the user types `quit`, the conversion to `int` fails and causes an error.\n",
    "\n",
    "The approach here is similar to a fencepost loop - we need to pull part of the loop out of the loop."
   ]
  },
  {
   "cell_type": "code",
   "execution_count": null,
   "id": "0287a3e6",
   "metadata": {
    "execution": {
     "iopub.execute_input": "2023-06-02T15:55:53.491445Z",
     "iopub.status.busy": "2023-06-02T15:55:53.491158Z",
     "iopub.status.idle": "2023-06-02T15:55:53.518066Z",
     "shell.execute_reply": "2023-06-02T15:55:53.517326Z"
    },
    "tags": [
     "remove-output"
    ]
   },
   "outputs": [],
   "source": [
    "total = 0\n",
    "answer = input(\"Type a number, or 'quit' to stop: \")\n",
    "\n",
    "while answer != \"quit\":\n",
    "    total = total + int(answer)\n",
    "    print(\"Sum so far:\" + str(total))\n",
    "    answer = input(\"Type a number, or 'quit' to stop: \")\n",
    "\n",
    "print(\"Sum: \" + str(total))"
   ]
  },
  {
   "cell_type": "markdown",
   "id": "819b81ab",
   "metadata": {
    "slideshow": {
     "slide_type": "subslide"
    }
   },
   "source": [
    "This pattern is common when dealing with user input.  \n",
    "\n",
    "In some cases, there's another possible solution: set our initial \"dummy\" value to 0 and re-order the statements in the loop."
   ]
  },
  {
   "cell_type": "code",
   "execution_count": null,
   "id": "7c2a6d52",
   "metadata": {
    "execution": {
     "iopub.execute_input": "2023-06-02T15:55:53.521436Z",
     "iopub.status.busy": "2023-06-02T15:55:53.521156Z",
     "iopub.status.idle": "2023-06-02T15:55:53.544108Z",
     "shell.execute_reply": "2023-06-02T15:55:53.543027Z"
    },
    "tags": [
     "remove-output"
    ]
   },
   "outputs": [],
   "source": [
    "total = 0\n",
    "answer = 0\n",
    "\n",
    "while answer != \"quit\":\n",
    "    total = total + int(answer)\n",
    "    print(\"Sum so far:\" + str(total))\n",
    "    answer = input(\"Type a number, or 'quit' to stop: \")\n",
    "\n",
    "print(\"Sum: \" + str(total))"
   ]
  },
  {
   "cell_type": "markdown",
   "id": "220ca77f",
   "metadata": {},
   "source": [
    "One difference here is that we printed \"Sum so far\" before the user entered any numbers.  \n",
    "  \n",
    "For this program, that seems ok, but it might not be for every program.  \n",
    "\n",
    "Picking the right loop structure will take practice!\n"
   ]
  },
  {
   "cell_type": "markdown",
   "id": "571b90f0",
   "metadata": {
    "slideshow": {
     "slide_type": "slide"
    }
   },
   "source": [
    "# Exercise\n",
    "\n",
    "Write a function that generates random numbers between 1 and 10. Stop after 10 rolls, or when a 7 is rolled, whichever comes first. Return `True` if a 7 was rolled, or `False` if the roll limit is reached.\n",
    "\n"
   ]
  },
  {
   "cell_type": "code",
   "execution_count": null,
   "id": "c085e1fa",
   "metadata": {
    "execution": {
     "iopub.execute_input": "2023-06-02T15:55:53.548164Z",
     "iopub.status.busy": "2023-06-02T15:55:53.547817Z",
     "iopub.status.idle": "2023-06-02T15:55:53.552284Z",
     "shell.execute_reply": "2023-06-02T15:55:53.551673Z"
    },
    "slideshow": {
     "slide_type": "fragment"
    },
    "tags": [
     "remove-output"
    ]
   },
   "outputs": [],
   "source": [
    "import random\n",
    "def roll():\n",
    "    for i in range(10):\n",
    "        roll = random.randint(1, 10)\n",
    "        if roll == 7:\n",
    "            # ???\n",
    "        "
   ]
  },
  {
   "cell_type": "markdown",
   "id": "2014985b",
   "metadata": {
    "slideshow": {
     "slide_type": "subslide"
    }
   },
   "source": [
    "## Side note: generating random numbers\n",
    "\n",
    "You can generate random integers with the function:\n",
    "\n",
    "`random.randint(a, b)`: Return a random integer N such that `a <= N <= b`. \n",
    "\n",
    "* In order to use this, you must add `import random` at the top of your program. \n",
    "* This makes the random **module** available for use.\n",
    "  * A **module** is a collection of related functions. \n",
    "  * Python provides many useful built-in modules. \n",
    "  * You can also find and install modules that other people have written. \n",
    "  * We'll touch on modules more as the term goes on.\n",
    "\n",
    "[random.randint() function reference](https://docs.python.org/3/library/random.html#random.randint)"
   ]
  },
  {
   "cell_type": "markdown",
   "id": "e7305d1f",
   "metadata": {
    "slideshow": {
     "slide_type": "subslide"
    }
   },
   "source": [
    "First attempt... is it correct?"
   ]
  },
  {
   "cell_type": "code",
   "execution_count": null,
   "id": "fbddd3bc",
   "metadata": {
    "execution": {
     "iopub.execute_input": "2023-06-02T15:55:53.555389Z",
     "iopub.status.busy": "2023-06-02T15:55:53.555137Z",
     "iopub.status.idle": "2023-06-02T15:55:53.560097Z",
     "shell.execute_reply": "2023-06-02T15:55:53.559499Z"
    },
    "slideshow": {
     "slide_type": "-"
    }
   },
   "outputs": [],
   "source": [
    "import random\n",
    "def roll():\n",
    "    for i in range(10):\n",
    "        roll = random.randint(1, 10)\n",
    "        if roll == 7:\n",
    "            return True\n",
    "        else: \n",
    "            return False\n",
    "roll()"
   ]
  },
  {
   "cell_type": "markdown",
   "id": "2628cdb4",
   "metadata": {
    "slideshow": {
     "slide_type": "subslide"
    }
   },
   "source": [
    "## First question: How can we test whether it's correct?\n",
    "\n",
    "The probability of at least one `7` in 10 rolls is: `1 - (90% ^ 10)`, or about 65%.  \n",
    "\n",
    "We could run the code above a bunch of times by hand, and keep a count to see if we're close...  \n",
    "\n",
    "Or we can use code to do it for us!"
   ]
  },
  {
   "cell_type": "code",
   "execution_count": null,
   "id": "e047ea29",
   "metadata": {
    "execution": {
     "iopub.execute_input": "2023-06-02T15:55:53.563202Z",
     "iopub.status.busy": "2023-06-02T15:55:53.562953Z",
     "iopub.status.idle": "2023-06-02T15:55:53.578006Z",
     "shell.execute_reply": "2023-06-02T15:55:53.577396Z"
    },
    "slideshow": {
     "slide_type": "subslide"
    }
   },
   "outputs": [],
   "source": [
    "count = 0\n",
    "iterations = 10000\n",
    "expected_sevens = (1 - (0.9 ** 10)) * iterations\n",
    "\n",
    "for i in range(0, iterations):\n",
    "    if roll() == True:\n",
    "        count = count + 1\n",
    "\n",
    "print(\"Rolled a 7 \" + str(count) + \"/\" + str(iterations) + \" times\")\n",
    "print(\"Expected number of 7s is ~\" + str(int(expected_sevens)))"
   ]
  },
  {
   "cell_type": "markdown",
   "id": "982cce1f",
   "metadata": {
    "slideshow": {
     "slide_type": "fragment"
    }
   },
   "source": [
    "The counts are way off... what's the logic error?"
   ]
  },
  {
   "cell_type": "code",
   "execution_count": null,
   "id": "1a00cd3c",
   "metadata": {
    "execution": {
     "iopub.execute_input": "2023-06-02T15:55:53.582056Z",
     "iopub.status.busy": "2023-06-02T15:55:53.581704Z",
     "iopub.status.idle": "2023-06-02T15:55:53.586236Z",
     "shell.execute_reply": "2023-06-02T15:55:53.585642Z"
    },
    "slideshow": {
     "slide_type": "subslide"
    }
   },
   "outputs": [],
   "source": [
    "import random\n",
    "def roll():\n",
    "    for i in range(10):\n",
    "        roll = random.randint(1, 10)\n",
    "        if roll == 7:\n",
    "            return True\n",
    "    return False"
   ]
  },
  {
   "cell_type": "code",
   "execution_count": null,
   "id": "cb9083ab",
   "metadata": {
    "execution": {
     "iopub.execute_input": "2023-06-02T15:55:53.589171Z",
     "iopub.status.busy": "2023-06-02T15:55:53.588919Z",
     "iopub.status.idle": "2023-06-02T15:55:53.647441Z",
     "shell.execute_reply": "2023-06-02T15:55:53.646820Z"
    },
    "slideshow": {
     "slide_type": "subslide"
    }
   },
   "outputs": [],
   "source": [
    "count = 0\n",
    "iterations = 10000\n",
    "expected_sevens = (1 - (0.9 ** 10)) * iterations\n",
    "\n",
    "for i in range(0, iterations):\n",
    "    if roll() == True:\n",
    "        count = count + 1\n",
    "\n",
    "print(\"Rolled a 7 \" + str(count) + \"/\" + str(iterations) + \" times\")\n",
    "print(\"Expected number of 7s is ~\" + str(int(expected_sevens)))"
   ]
  },
  {
   "cell_type": "markdown",
   "id": "f057b0b7",
   "metadata": {},
   "source": [
    "That looks right!\n",
    "\n",
    "Returning out of loops can be tricky. Be sure to think about whether it's ok to skip the rest of the loop iterations and the rest of the function when you return."
   ]
  },
  {
   "cell_type": "markdown",
   "id": "ab94d165",
   "metadata": {
    "slideshow": {
     "slide_type": "slide"
    }
   },
   "source": [
    "# Controlling loops\n",
    "\n",
    "* The `break` keyword will stop a loop and continue on to the code immediately after a loop.\n",
    "* The `continue` keyword will skip to the next iteration of the loop.\n",
    "* `return` will also stop a loop, as we saw. Be sure that skipping the rest of the function is correct before doing this.\n"
   ]
  },
  {
   "cell_type": "markdown",
   "id": "e16f65e9",
   "metadata": {
    "slideshow": {
     "slide_type": "subslide"
    }
   },
   "source": [
    "## `break`\n",
    "\n",
    "Let's revisit the number-adder"
   ]
  },
  {
   "cell_type": "code",
   "execution_count": null,
   "id": "5023d3d0",
   "metadata": {
    "execution": {
     "iopub.execute_input": "2023-06-02T15:55:53.652025Z",
     "iopub.status.busy": "2023-06-02T15:55:53.651475Z",
     "iopub.status.idle": "2023-06-02T15:55:53.679114Z",
     "shell.execute_reply": "2023-06-02T15:55:53.678270Z"
    },
    "tags": [
     "remove-output"
    ]
   },
   "outputs": [],
   "source": [
    "total = 0\n",
    "while True:\n",
    "    answer = input(\"Type a number, or 'quit' to stop: \")\n",
    "    if answer == \"quit\":\n",
    "        break\n",
    "    total = total + int(answer)\n",
    "    print(\"Sum so far:\" + str(total))\n",
    "print(\"Final sum: \" + str(total))"
   ]
  },
  {
   "cell_type": "markdown",
   "id": "c3c14e68",
   "metadata": {},
   "source": [
    "`while True: ... break` is another common loop pattern."
   ]
  },
  {
   "cell_type": "markdown",
   "id": "13a6474c",
   "metadata": {
    "slideshow": {
     "slide_type": "subslide"
    }
   },
   "source": [
    "## `continue`\n",
    "\n",
    "`continue` skips the rest of the current iteration, and starts at the beginning of the next iteration (if there are any left).  \n",
    "  \n",
    "\n",
    "`continue` is never **necessary**. You can always recreate the same logic with nested `if/else` statements. But it can help improve readability by letting you avoid deep nesting of conditionals."
   ]
  },
  {
   "cell_type": "code",
   "execution_count": null,
   "id": "a001c39f",
   "metadata": {
    "execution": {
     "iopub.execute_input": "2023-06-02T15:55:53.683850Z",
     "iopub.status.busy": "2023-06-02T15:55:53.683194Z",
     "iopub.status.idle": "2023-06-02T15:55:53.692891Z",
     "shell.execute_reply": "2023-06-02T15:55:53.691415Z"
    },
    "slideshow": {
     "slide_type": "subslide"
    },
    "tags": [
     "remove-output"
    ]
   },
   "outputs": [],
   "source": [
    "for x in range(10000):\n",
    "    if x % 7 == 0:\n",
    "        y = random.randint(1, 10)\n",
    "        if y % 5 == 0:\n",
    "            z = random.randint(1, 100)\n",
    "            if z % 23 == 0:\n",
    "                print(\"made it! pretend this block contains lots and lots of code\")"
   ]
  },
  {
   "cell_type": "code",
   "execution_count": null,
   "id": "c8ff9c76",
   "metadata": {
    "execution": {
     "iopub.execute_input": "2023-06-02T15:55:53.698033Z",
     "iopub.status.busy": "2023-06-02T15:55:53.697358Z",
     "iopub.status.idle": "2023-06-02T15:55:53.706906Z",
     "shell.execute_reply": "2023-06-02T15:55:53.706033Z"
    },
    "tags": [
     "remove-output"
    ]
   },
   "outputs": [],
   "source": [
    "# vs.\n",
    "for x in range(10000):\n",
    "    if x % 7 != 0:\n",
    "        continue\n",
    "        \n",
    "    y = random.randint(1, 10)\n",
    "    if y % 5 != 0:\n",
    "        continue\n",
    "        \n",
    "    z = random.randint(1, 100)\n",
    "    if z % 23 != 0:\n",
    "        continue\n",
    "    \n",
    "    print(\"made it! pretend this block contains lots and lots of code\")"
   ]
  },
  {
   "cell_type": "markdown",
   "id": "ed7bc744",
   "metadata": {
    "slideshow": {
     "slide_type": "slide"
    }
   },
   "source": [
    "# Exercise\n",
    "\n",
    "* Write a program that plays an adding game.\n",
    "  * Ask the user to solve random addition problems with 2-5 numbers.\n",
    "  * The user gets 1 point for a correct answer, 0 for incorrect.\n",
    "  * The program stops after 3 incorrect answers."
   ]
  },
  {
   "cell_type": "markdown",
   "id": "1c180d3b",
   "metadata": {
    "slideshow": {
     "slide_type": "fragment"
    }
   },
   "source": [
    "This is more complex than our other exercises. Let's break it down (functional decomposition):  \n",
    "\n",
    "* There are 2 major parts to our program:\n",
    "  * Outer game loop: let the player take a turn, track score, end the game after incorrect answers\n",
    "  * Handling a single problem: generate a problem, present it, check the answer, report correctness\n",
    "* We could decompose this further - each of the things listed on those lines could be its own function. \n",
    "  * However, we haven't learned all the language tools we need for that yet (lists, tuples)"
   ]
  },
  {
   "cell_type": "code",
   "execution_count": null,
   "id": "ae770f9d",
   "metadata": {
    "execution": {
     "iopub.execute_input": "2023-06-02T15:55:53.712930Z",
     "iopub.status.busy": "2023-06-02T15:55:53.712397Z",
     "iopub.status.idle": "2023-06-02T15:55:53.718595Z",
     "shell.execute_reply": "2023-06-02T15:55:53.717433Z"
    },
    "slideshow": {
     "slide_type": "subslide"
    }
   },
   "outputs": [],
   "source": [
    "def turn():\n",
    "    number_count = random.randint(2, 5)\n",
    "    expected_sum = 0\n",
    "    problem = ''\n",
    "    \n",
    "    for i in range(number_count):\n",
    "        number = random.randint(1, 20)\n",
    "        expected_sum = expected_sum + number\n",
    "        problem = problem + str(number) + \" + \"\n",
    "\n",
    "    problem = problem + \" = \"\n",
    "    print(problem)"
   ]
  },
  {
   "cell_type": "code",
   "execution_count": null,
   "id": "8832bae3",
   "metadata": {
    "execution": {
     "iopub.execute_input": "2023-06-02T15:55:53.723435Z",
     "iopub.status.busy": "2023-06-02T15:55:53.722751Z",
     "iopub.status.idle": "2023-06-02T15:55:53.728599Z",
     "shell.execute_reply": "2023-06-02T15:55:53.727782Z"
    }
   },
   "outputs": [],
   "source": [
    "turn()"
   ]
  },
  {
   "cell_type": "markdown",
   "id": "c46eb79f",
   "metadata": {
    "slideshow": {
     "slide_type": "subslide"
    }
   },
   "source": [
    "Wait, we've seen this bug before..."
   ]
  },
  {
   "cell_type": "markdown",
   "id": "55c761dd",
   "metadata": {
    "slideshow": {
     "slide_type": "fragment"
    }
   },
   "source": [
    "Fenceposts!\n",
    "\n",
    "`|===|===|===| `  \n",
    "`5 + 3 + 7 + 10`"
   ]
  },
  {
   "cell_type": "code",
   "execution_count": null,
   "id": "61e83173",
   "metadata": {
    "execution": {
     "iopub.execute_input": "2023-06-02T15:55:53.734772Z",
     "iopub.status.busy": "2023-06-02T15:55:53.734240Z",
     "iopub.status.idle": "2023-06-02T15:55:53.740156Z",
     "shell.execute_reply": "2023-06-02T15:55:53.739035Z"
    },
    "slideshow": {
     "slide_type": "subslide"
    }
   },
   "outputs": [],
   "source": [
    "def turn():\n",
    "    number_count = random.randint(2, 5)\n",
    "    expected_sum = 0\n",
    "    problem = ''\n",
    "    \n",
    "    for i in range(number_count-1):\n",
    "        number = random.randint(1, 20)\n",
    "        expected_sum = expected_sum + number\n",
    "        problem = problem + str(number) + \" + \"\n",
    "\n",
    "    number = random.randint(1, 20)\n",
    "    expected_sum = expected_sum + number\n",
    "    problem = problem + str(number) + \" = \"\n",
    "\n",
    "    print(problem)"
   ]
  },
  {
   "cell_type": "code",
   "execution_count": null,
   "id": "f428f493",
   "metadata": {
    "execution": {
     "iopub.execute_input": "2023-06-02T15:55:53.745256Z",
     "iopub.status.busy": "2023-06-02T15:55:53.744847Z",
     "iopub.status.idle": "2023-06-02T15:55:53.750903Z",
     "shell.execute_reply": "2023-06-02T15:55:53.749792Z"
    }
   },
   "outputs": [],
   "source": [
    "turn()"
   ]
  },
  {
   "cell_type": "code",
   "execution_count": null,
   "id": "8c4af042",
   "metadata": {
    "execution": {
     "iopub.execute_input": "2023-06-02T15:55:53.755537Z",
     "iopub.status.busy": "2023-06-02T15:55:53.755115Z",
     "iopub.status.idle": "2023-06-02T15:55:53.760874Z",
     "shell.execute_reply": "2023-06-02T15:55:53.759808Z"
    },
    "slideshow": {
     "slide_type": "subslide"
    }
   },
   "outputs": [],
   "source": [
    "def prompt_and_check(solution):\n",
    "    guess = input()\n",
    "    \n",
    "    if guess == solution:\n",
    "        print(\"Correct! 1 point\")\n",
    "        return True\n",
    "    else:\n",
    "        print(\"BZZZT, wrong answer! The correct answer was: \" + str(solution))\n",
    "        return False    "
   ]
  },
  {
   "cell_type": "code",
   "execution_count": null,
   "id": "5e1bbffb",
   "metadata": {
    "execution": {
     "iopub.execute_input": "2023-06-02T15:55:53.766791Z",
     "iopub.status.busy": "2023-06-02T15:55:53.766264Z",
     "iopub.status.idle": "2023-06-02T15:55:53.815808Z",
     "shell.execute_reply": "2023-06-02T15:55:53.814472Z"
    },
    "tags": [
     "remove-output"
    ]
   },
   "outputs": [],
   "source": [
    "prompt_and_check(34)"
   ]
  },
  {
   "cell_type": "markdown",
   "id": "7a126ab0",
   "metadata": {
    "slideshow": {
     "slide_type": "subslide"
    }
   },
   "source": [
    "## What's wrong?\n",
    "\n",
    "Why isn't `34` == `34` ??\n",
    "\n",
    "Step-thru debugging might be useful here... let's try it. \n",
    "\n",
    "repl.it: [Lecture 5 exercises: debugging number sum game](https://replit.com/@cosi-10a-fall23/Number-sum-game-debugging#)"
   ]
  },
  {
   "cell_type": "code",
   "execution_count": null,
   "id": "886dc479",
   "metadata": {
    "execution": {
     "iopub.execute_input": "2023-06-02T15:55:53.822600Z",
     "iopub.status.busy": "2023-06-02T15:55:53.822060Z",
     "iopub.status.idle": "2023-06-02T15:55:53.830347Z",
     "shell.execute_reply": "2023-06-02T15:55:53.828399Z"
    },
    "slideshow": {
     "slide_type": "fragment"
    }
   },
   "outputs": [],
   "source": [
    "34 == \"34\""
   ]
  },
  {
   "cell_type": "code",
   "execution_count": null,
   "id": "67a55eb7",
   "metadata": {
    "execution": {
     "iopub.execute_input": "2023-06-02T15:55:53.841137Z",
     "iopub.status.busy": "2023-06-02T15:55:53.840656Z",
     "iopub.status.idle": "2023-06-02T15:55:53.846887Z",
     "shell.execute_reply": "2023-06-02T15:55:53.845642Z"
    },
    "slideshow": {
     "slide_type": "subslide"
    }
   },
   "outputs": [],
   "source": [
    "def prompt_and_check(solution):\n",
    "    guess = int(input())\n",
    "    \n",
    "    if guess == solution:\n",
    "        print(\"Correct! 1 point\")\n",
    "        return True\n",
    "    else:\n",
    "        print(\"BZZZT, wrong answer! The correct answer was: \" + str(solution))\n",
    "        return False    "
   ]
  },
  {
   "cell_type": "code",
   "execution_count": null,
   "id": "e39559e9",
   "metadata": {
    "execution": {
     "iopub.execute_input": "2023-06-02T15:55:53.852661Z",
     "iopub.status.busy": "2023-06-02T15:55:53.852066Z",
     "iopub.status.idle": "2023-06-02T15:55:53.891911Z",
     "shell.execute_reply": "2023-06-02T15:55:53.891018Z"
    },
    "tags": [
     "remove-output"
    ]
   },
   "outputs": [],
   "source": [
    "prompt_and_check(34)"
   ]
  },
  {
   "cell_type": "code",
   "execution_count": null,
   "id": "82b45d38",
   "metadata": {
    "execution": {
     "iopub.execute_input": "2023-06-02T15:55:53.895800Z",
     "iopub.status.busy": "2023-06-02T15:55:53.895457Z",
     "iopub.status.idle": "2023-06-02T15:55:53.901165Z",
     "shell.execute_reply": "2023-06-02T15:55:53.900512Z"
    },
    "slideshow": {
     "slide_type": "subslide"
    }
   },
   "outputs": [],
   "source": [
    "def turn():\n",
    "    number_count = random.randint(2, 5)\n",
    "    expected_sum = 0\n",
    "    problem = ''\n",
    "    for i in range(number_count-1):\n",
    "        number = random.randint(1, 20)\n",
    "        expected_sum = expected_sum + number\n",
    "        problem = problem + str(number) + \" + \"\n",
    "\n",
    "    number = random.randint(1, 20)\n",
    "    expected_sum = expected_sum + number\n",
    "    problem = problem + str(number)\n",
    "\n",
    "    print(problem)\n",
    "    return prompt_and_check(expected_sum)"
   ]
  },
  {
   "cell_type": "code",
   "execution_count": null,
   "id": "b2903c8c",
   "metadata": {
    "execution": {
     "iopub.execute_input": "2023-06-02T15:55:53.904419Z",
     "iopub.status.busy": "2023-06-02T15:55:53.904116Z",
     "iopub.status.idle": "2023-06-02T15:55:53.940504Z",
     "shell.execute_reply": "2023-06-02T15:55:53.939711Z"
    },
    "tags": [
     "remove-output"
    ]
   },
   "outputs": [],
   "source": [
    "turn()"
   ]
  },
  {
   "cell_type": "markdown",
   "id": "14dce698",
   "metadata": {
    "slideshow": {
     "slide_type": "subslide"
    }
   },
   "source": [
    "# On to the outer game loop"
   ]
  },
  {
   "cell_type": "code",
   "execution_count": null,
   "id": "f423766e",
   "metadata": {
    "execution": {
     "iopub.execute_input": "2023-06-02T15:55:53.943932Z",
     "iopub.status.busy": "2023-06-02T15:55:53.943654Z",
     "iopub.status.idle": "2023-06-02T15:55:53.947685Z",
     "shell.execute_reply": "2023-06-02T15:55:53.946989Z"
    }
   },
   "outputs": [],
   "source": [
    "def game():\n",
    "    print(\"Welcome to the number sum game!\")\n",
    "\n",
    "    errors = 0\n",
    "    points = 0\n",
    "    \n",
    "    while errors < 3:\n",
    "        turn_result = turn()\n",
    "        if turn_result:\n",
    "            points = points + 1\n",
    "        else:\n",
    "            errors = errors + 1\n",
    "            \n",
    "    print(\"You earned \" + str(points) + \" total points!\")"
   ]
  },
  {
   "cell_type": "code",
   "execution_count": null,
   "id": "6c2f36e5",
   "metadata": {
    "execution": {
     "iopub.execute_input": "2023-06-02T15:55:53.951405Z",
     "iopub.status.busy": "2023-06-02T15:55:53.951112Z",
     "iopub.status.idle": "2023-06-02T15:55:53.996034Z",
     "shell.execute_reply": "2023-06-02T15:55:53.995143Z"
    },
    "slideshow": {
     "slide_type": "subslide"
    },
    "tags": [
     "remove-output"
    ]
   },
   "outputs": [],
   "source": [
    "game()"
   ]
  }
 ],
 "metadata": {
  "celltoolbar": "Slideshow",
  "kernelspec": {
   "display_name": "Python 3 (ipykernel)",
   "language": "python",
   "name": "python3"
  },
  "language_info": {
   "codemirror_mode": {
    "name": "ipython",
    "version": 3
   },
   "file_extension": ".py",
   "mimetype": "text/x-python",
   "name": "python",
   "nbconvert_exporter": "python",
   "pygments_lexer": "ipython3",
   "version": "3.10.9"
  }
 },
 "nbformat": 4,
 "nbformat_minor": 5
}
