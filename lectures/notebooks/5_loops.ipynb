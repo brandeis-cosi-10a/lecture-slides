{
 "cells": [
  {
   "cell_type": "markdown",
   "id": "1ee8a1d2",
   "metadata": {
    "slideshow": {
     "slide_type": "slide"
    }
   },
   "source": [
    "# Loops\n",
    "\n",
    "<style>\n",
    "section.present > section.present { \n",
    "    max-height: 90%; \n",
    "    overflow-y: scroll;\n",
    "}\n",
    "</style>\n",
    "\n",
    "<small><a href=\"https://colab.research.google.com/github/brandeis-jdelfino/cosi-10a/blob/main/lectures/notebooks/5_loops.ipynb\">Link to interactive slides on Google Colab</a></small>"
   ]
  },
  {
   "cell_type": "code",
   "execution_count": null,
   "id": "71eccbdb",
   "metadata": {
    "execution": {
     "iopub.execute_input": "2023-07-20T16:48:19.510743Z",
     "iopub.status.busy": "2023-07-20T16:48:19.510026Z",
     "iopub.status.idle": "2023-07-20T16:48:19.531576Z",
     "shell.execute_reply": "2023-07-20T16:48:19.530696Z"
    },
    "slideshow": {
     "slide_type": "slide"
    }
   },
   "outputs": [],
   "source": [
    "# Find all the numbers between 1 and 100 that are multiples of n\n",
    "def find_multiples(n):\n",
    "    if 1 % n == 0:\n",
    "        print(1, end=' ')\n",
    "    if 2 % n == 0:\n",
    "        print(2, end=' ')\n",
    "    if 3 % n == 0:\n",
    "        print(3, end=' ')\n",
    "    if 4 % n == 0:\n",
    "        print(4, end=' ')\n",
    "    if 5 % n == 0:\n",
    "        print(5, end=' ')\n",
    "    if 6 % n == 0:\n",
    "        print(6, end=' ')\n",
    "    if 7 % n == 0:\n",
    "        print(7, end=' ')\n",
    "    if 8 % n == 0:\n",
    "        print(8, end=' ')\n",
    "    #...\n",
    "\n",
    "find_multiples(3)"
   ]
  },
  {
   "cell_type": "markdown",
   "id": "35fc233e",
   "metadata": {
    "slideshow": {
     "slide_type": "subslide"
    }
   },
   "source": [
    "## Side note: the `end` parameter for `print()`\n",
    "\n",
    "* `print` is a function with several defaulted parameters.\n",
    "* Today we'll be using the `end` parameter.\n",
    "* `end` controls the character that is printed after the string.\n",
    "  * By default, it is `\\n` - newline\n",
    "* If we set it to `' '`, successive prints will print on the same line, with a space in between.\n"
   ]
  },
  {
   "cell_type": "code",
   "execution_count": null,
   "id": "7761130b",
   "metadata": {
    "execution": {
     "iopub.execute_input": "2023-07-20T16:48:19.537253Z",
     "iopub.status.busy": "2023-07-20T16:48:19.536794Z",
     "iopub.status.idle": "2023-07-20T16:48:19.541505Z",
     "shell.execute_reply": "2023-07-20T16:48:19.540729Z"
    }
   },
   "outputs": [],
   "source": [
    "print(\"1\", end=' ')\n",
    "print(\"2\", end=' ')\n",
    "print(\"3\", end=' ')"
   ]
  },
  {
   "cell_type": "markdown",
   "id": "d0bf50fa",
   "metadata": {
    "slideshow": {
     "slide_type": "subslide"
    }
   },
   "source": [
    "# Loops!        "
   ]
  },
  {
   "cell_type": "code",
   "execution_count": null,
   "id": "815d61e5",
   "metadata": {
    "execution": {
     "iopub.execute_input": "2023-07-20T16:48:19.545560Z",
     "iopub.status.busy": "2023-07-20T16:48:19.545246Z",
     "iopub.status.idle": "2023-07-20T16:48:19.549999Z",
     "shell.execute_reply": "2023-07-20T16:48:19.549240Z"
    }
   },
   "outputs": [],
   "source": [
    "def find_multiples(n):\n",
    "    for i in range(1, 100):\n",
    "        if i % n == 0:\n",
    "            print(i, end=' ')\n",
    "\n",
    "find_multiples(3)"
   ]
  },
  {
   "cell_type": "markdown",
   "id": "8b10ef58",
   "metadata": {},
   "source": [
    "Today we'll talk about loops, which let you repeat sections of code.\n",
    "\n",
    "We'll learn `for` and `while` loops, and then spend most of the time going through many different examples and exercises showing real examples of loops."
   ]
  },
  {
   "cell_type": "markdown",
   "id": "6a640677",
   "metadata": {
    "slideshow": {
     "slide_type": "subslide"
    }
   },
   "source": [
    "# The `for` loop\n",
    "\n",
    "```\n",
    "for <var> in range(<start>, <stop>):\n",
    "    statement(s)\n",
    "```"
   ]
  },
  {
   "cell_type": "code",
   "execution_count": null,
   "id": "20156919",
   "metadata": {
    "execution": {
     "iopub.execute_input": "2023-07-20T16:48:19.553624Z",
     "iopub.status.busy": "2023-07-20T16:48:19.553334Z",
     "iopub.status.idle": "2023-07-20T16:48:19.557121Z",
     "shell.execute_reply": "2023-07-20T16:48:19.556404Z"
    }
   },
   "outputs": [],
   "source": [
    "for i in range(3, 7):\n",
    "    print(i)"
   ]
  },
  {
   "cell_type": "markdown",
   "id": "e8abf2a6",
   "metadata": {
    "slideshow": {
     "slide_type": "-"
    }
   },
   "source": [
    "* This is one form of a `for` loop\n",
    "* It **iterates**, or repeats, once for each number from `start` to `stop - 1`.\n",
    "  * So it will iterate, or repeat, `start - stop` times.\n",
    "* For each **iteration** of the loop, `var` will be set to the next number in the sequence."
   ]
  },
  {
   "cell_type": "markdown",
   "id": "97566f4c",
   "metadata": {
    "slideshow": {
     "slide_type": "subslide"
    }
   },
   "source": [
    "# Unrolling loops\n",
    "\n",
    "Let's \"unroll\" a loop into the statements it will execute, to get a better handle on it:"
   ]
  },
  {
   "cell_type": "code",
   "execution_count": null,
   "id": "ade30494",
   "metadata": {
    "execution": {
     "iopub.execute_input": "2023-07-20T16:48:19.560752Z",
     "iopub.status.busy": "2023-07-20T16:48:19.560472Z",
     "iopub.status.idle": "2023-07-20T16:48:19.564148Z",
     "shell.execute_reply": "2023-07-20T16:48:19.563532Z"
    }
   },
   "outputs": [],
   "source": [
    "for i in range(3, 7):\n",
    "    if i % 2 == 0:\n",
    "        print(i, end=' ')"
   ]
  },
  {
   "cell_type": "markdown",
   "id": "0f26011d",
   "metadata": {},
   "source": [
    "is equivalent to:"
   ]
  },
  {
   "cell_type": "code",
   "execution_count": null,
   "id": "82065ad2",
   "metadata": {
    "execution": {
     "iopub.execute_input": "2023-07-20T16:48:19.567387Z",
     "iopub.status.busy": "2023-07-20T16:48:19.567135Z",
     "iopub.status.idle": "2023-07-20T16:48:19.571477Z",
     "shell.execute_reply": "2023-07-20T16:48:19.570868Z"
    }
   },
   "outputs": [],
   "source": [
    "if 3 % 2 == 0:\n",
    "    print(3, end=' ')\n",
    "if 4 % 2 == 0:\n",
    "    print(4, end=' ')\n",
    "if 5 % 2 == 0:\n",
    "    print(5, end=' ')\n",
    "if 6 % 2 == 0:\n",
    "    print(6, end=' ')"
   ]
  },
  {
   "cell_type": "markdown",
   "id": "39d76897",
   "metadata": {
    "slideshow": {
     "slide_type": "subslide"
    }
   },
   "source": [
    "# Expressions in ranges\n",
    "\n",
    "You don't need to hardcode the values passed to `range`. They can be any expressions that evaluate to integers."
   ]
  },
  {
   "cell_type": "code",
   "execution_count": null,
   "id": "66e35180",
   "metadata": {
    "execution": {
     "iopub.execute_input": "2023-07-20T16:48:19.574395Z",
     "iopub.status.busy": "2023-07-20T16:48:19.574160Z",
     "iopub.status.idle": "2023-07-20T16:48:19.577859Z",
     "shell.execute_reply": "2023-07-20T16:48:19.577212Z"
    }
   },
   "outputs": [],
   "source": [
    "x = 100\n",
    "y = 8\n",
    "for num in range(x // 10, y ** 2):\n",
    "    print(num, end=' ')"
   ]
  },
  {
   "cell_type": "markdown",
   "id": "139cbda1",
   "metadata": {
    "slideshow": {
     "slide_type": "subslide"
    }
   },
   "source": [
    "## Range arguments\n",
    "\n",
    "* `range` has 2 variants:\n",
    "  * `range(stop)` - iterates from `0` to `stop-1`\n",
    "  * `range(start, stop, step=1)` - iterates from `start` to `stop-1`, changing the number by `step` each time"
   ]
  },
  {
   "cell_type": "code",
   "execution_count": null,
   "id": "0db8ed61",
   "metadata": {
    "execution": {
     "iopub.execute_input": "2023-07-20T16:48:19.581666Z",
     "iopub.status.busy": "2023-07-20T16:48:19.581389Z",
     "iopub.status.idle": "2023-07-20T16:48:19.584707Z",
     "shell.execute_reply": "2023-07-20T16:48:19.584113Z"
    },
    "slideshow": {
     "slide_type": "subslide"
    }
   },
   "outputs": [],
   "source": [
    "for i in range(5):\n",
    "    print(i, end=' ')"
   ]
  },
  {
   "cell_type": "code",
   "execution_count": null,
   "id": "16917ea0",
   "metadata": {
    "execution": {
     "iopub.execute_input": "2023-07-20T16:48:19.587827Z",
     "iopub.status.busy": "2023-07-20T16:48:19.587575Z",
     "iopub.status.idle": "2023-07-20T16:48:19.590856Z",
     "shell.execute_reply": "2023-07-20T16:48:19.590295Z"
    }
   },
   "outputs": [],
   "source": [
    "for i in range(3, 7):\n",
    "    print(i, end=' ')"
   ]
  },
  {
   "cell_type": "code",
   "execution_count": null,
   "id": "05d4ab35",
   "metadata": {
    "execution": {
     "iopub.execute_input": "2023-07-20T16:48:19.593672Z",
     "iopub.status.busy": "2023-07-20T16:48:19.593442Z",
     "iopub.status.idle": "2023-07-20T16:48:19.596749Z",
     "shell.execute_reply": "2023-07-20T16:48:19.596189Z"
    },
    "slideshow": {
     "slide_type": "subslide"
    }
   },
   "outputs": [],
   "source": [
    "for i in range(50, 101, 5):\n",
    "    print(i, end=' ')"
   ]
  },
  {
   "cell_type": "code",
   "execution_count": null,
   "id": "f9c3a80e",
   "metadata": {
    "execution": {
     "iopub.execute_input": "2023-07-20T16:48:19.599465Z",
     "iopub.status.busy": "2023-07-20T16:48:19.599232Z",
     "iopub.status.idle": "2023-07-20T16:48:19.602762Z",
     "shell.execute_reply": "2023-07-20T16:48:19.602200Z"
    }
   },
   "outputs": [],
   "source": [
    "# You can count down with a negative step\n",
    "for i in range(10, 0, -1):\n",
    "    print(i, end=', ')\n",
    "print(\"... blastoff!\")"
   ]
  },
  {
   "cell_type": "markdown",
   "id": "3a324b89",
   "metadata": {
    "slideshow": {
     "slide_type": "slide"
    }
   },
   "source": [
    "# Fencepost loops\n",
    "\n",
    "How do we omit that last `,` in our countdown? This is a common problem when writing loops.\n",
    "\n",
    "A flawed attempt:"
   ]
  },
  {
   "cell_type": "code",
   "execution_count": null,
   "id": "f7b152bf",
   "metadata": {
    "execution": {
     "iopub.execute_input": "2023-07-20T16:48:19.605709Z",
     "iopub.status.busy": "2023-07-20T16:48:19.605452Z",
     "iopub.status.idle": "2023-07-20T16:48:19.609050Z",
     "shell.execute_reply": "2023-07-20T16:48:19.608499Z"
    }
   },
   "outputs": [],
   "source": [
    "for i in range(10, 0, -1):\n",
    "    print(\", \" + str(i), end='')\n",
    "print(\"... blastoff!\")"
   ]
  },
  {
   "cell_type": "markdown",
   "id": "88060957",
   "metadata": {
    "slideshow": {
     "slide_type": "subslide"
    }
   },
   "source": [
    "We want to print `n` numbers, but `n-1` commas. If we always print a number and comma together, we'll never get it right.\n",
    "\n",
    "These are called \"fencepost loops\" because they are similar to building a fence - you need a post followed by rails for each section, but then at the end you just need a single post to finish it off.\n",
    "\n",
    "<br/><br/>\n",
    "<img src=\"./images/fencepost.png\" style=\"display:block; margin:auto; width: 50%;\"/>\n"
   ]
  },
  {
   "cell_type": "markdown",
   "id": "482242ef",
   "metadata": {
    "slideshow": {
     "slide_type": "subslide"
    }
   },
   "source": [
    "**Solution 1**: Pull the first number out of the loop and print it by itself, then print a comma before every other number"
   ]
  },
  {
   "cell_type": "code",
   "execution_count": null,
   "id": "6b6992ff",
   "metadata": {
    "execution": {
     "iopub.execute_input": "2023-07-20T16:48:19.612138Z",
     "iopub.status.busy": "2023-07-20T16:48:19.611890Z",
     "iopub.status.idle": "2023-07-20T16:48:19.615480Z",
     "shell.execute_reply": "2023-07-20T16:48:19.614959Z"
    },
    "slideshow": {
     "slide_type": "-"
    }
   },
   "outputs": [],
   "source": [
    "print(10, end='')\n",
    "for i in range(9, 0, -1):\n",
    "    print(\", \" + str(i), end='')\n",
    "print(\"... blastoff!\")"
   ]
  },
  {
   "cell_type": "markdown",
   "id": "06919794",
   "metadata": {
    "slideshow": {
     "slide_type": "fragment"
    }
   },
   "source": [
    "**Solution 2**: Print every number with a comma after it, but pull the last number out of the loop and print it by itself."
   ]
  },
  {
   "cell_type": "code",
   "execution_count": null,
   "id": "aaca82b7",
   "metadata": {
    "execution": {
     "iopub.execute_input": "2023-07-20T16:48:19.618265Z",
     "iopub.status.busy": "2023-07-20T16:48:19.618023Z",
     "iopub.status.idle": "2023-07-20T16:48:19.621958Z",
     "shell.execute_reply": "2023-07-20T16:48:19.621199Z"
    }
   },
   "outputs": [],
   "source": [
    "for i in range(10, 1, -1):\n",
    "    print(i, end=', ')\n",
    "print(\"1... blastoff!\")"
   ]
  },
  {
   "cell_type": "markdown",
   "id": "9369463d",
   "metadata": {
    "slideshow": {
     "slide_type": "slide"
    }
   },
   "source": [
    "# Cumulative algorithms\n",
    "\n",
    "Write a function to compute the sum of every number between two numbers."
   ]
  },
  {
   "cell_type": "code",
   "execution_count": null,
   "id": "9f41b674",
   "metadata": {
    "execution": {
     "iopub.execute_input": "2023-07-20T16:48:19.625996Z",
     "iopub.status.busy": "2023-07-20T16:48:19.625695Z",
     "iopub.status.idle": "2023-07-20T16:48:19.629914Z",
     "shell.execute_reply": "2023-07-20T16:48:19.629358Z"
    },
    "tags": [
     "remove-output"
    ]
   },
   "outputs": [],
   "source": [
    "def sum_range(start, stop):\n",
    "    for i in range(start, stop):\n",
    "        # ???"
   ]
  },
  {
   "cell_type": "markdown",
   "id": "74d8bfc5",
   "metadata": {
    "slideshow": {
     "slide_type": "subslide"
    }
   },
   "source": [
    "This is another common looping pattern. We'll create a variable to hold our running total, and add to it in each iteration of the loop."
   ]
  },
  {
   "cell_type": "code",
   "execution_count": null,
   "id": "d1c35fca",
   "metadata": {
    "execution": {
     "iopub.execute_input": "2023-07-20T16:48:19.633074Z",
     "iopub.status.busy": "2023-07-20T16:48:19.632649Z",
     "iopub.status.idle": "2023-07-20T16:48:19.639456Z",
     "shell.execute_reply": "2023-07-20T16:48:19.638777Z"
    }
   },
   "outputs": [],
   "source": [
    "def sum_range(start, stop):\n",
    "    total = 0\n",
    "    for i in range(start, stop):\n",
    "        total = total + i\n",
    "    return total\n",
    "\n",
    "sum_range(1, 10)"
   ]
  },
  {
   "cell_type": "markdown",
   "id": "f345e50f",
   "metadata": {
    "slideshow": {
     "slide_type": "slide"
    }
   },
   "source": [
    "# `while` loops\n",
    "\n",
    "`for/range` loops repeat for a predetermined number of iterations.\n",
    "  \n",
    "There is another kind of loop - `while` - that iterates until a condition becomes `False`.\n",
    "\n",
    "```\n",
    "while <boolean expression>:\n",
    "    statement(s)\n",
    "```"
   ]
  },
  {
   "cell_type": "code",
   "execution_count": null,
   "id": "235604dd",
   "metadata": {
    "execution": {
     "iopub.execute_input": "2023-07-20T16:48:19.642448Z",
     "iopub.status.busy": "2023-07-20T16:48:19.642184Z",
     "iopub.status.idle": "2023-07-20T16:48:19.645764Z",
     "shell.execute_reply": "2023-07-20T16:48:19.645149Z"
    },
    "slideshow": {
     "slide_type": "subslide"
    }
   },
   "outputs": [],
   "source": [
    "x = 27\n",
    "while x > 1:\n",
    "    print(x)\n",
    "    x = x / 2\n",
    "print(x)"
   ]
  },
  {
   "cell_type": "markdown",
   "id": "118f2f47",
   "metadata": {
    "slideshow": {
     "slide_type": "slide"
    }
   },
   "source": [
    "# Exercise\n",
    "\n",
    "Write a program that prompts the user to type in numbers. Keep a running sum of the numbers, and print out the total once the user types \"quit\".\n",
    "\n"
   ]
  },
  {
   "cell_type": "markdown",
   "id": "11dec15c",
   "metadata": {
    "slideshow": {
     "slide_type": "fragment"
    }
   },
   "source": [
    "We'll use a loop with a \"sentinel value\". Our sentinel value is \"quit\", and we'll have a \"sentinel loop\" that will keep going until it sees the sentinel value.\n",
    "\n",
    "What's wrong with this attempt?"
   ]
  },
  {
   "cell_type": "code",
   "execution_count": null,
   "id": "84a47680",
   "metadata": {
    "execution": {
     "iopub.execute_input": "2023-07-20T16:48:19.648952Z",
     "iopub.status.busy": "2023-07-20T16:48:19.648693Z",
     "iopub.status.idle": "2023-07-20T16:48:20.027766Z",
     "shell.execute_reply": "2023-07-20T16:48:20.026480Z"
    },
    "tags": [
     "remove-output"
    ]
   },
   "outputs": [],
   "source": [
    "total = 0\n",
    "answer = \"dummy\"\n",
    "\n",
    "while answer != \"quit\":\n",
    "    answer = input(\"Type a number, or 'quit' to stop: \")\n",
    "    total = total + int(answer)\n",
    "    print(\"Sum so far:\" + str(total))\n",
    "\n",
    "print(\"Sum: \" + str(total))"
   ]
  },
  {
   "cell_type": "markdown",
   "id": "30178d0e",
   "metadata": {
    "slideshow": {
     "slide_type": "subslide"
    }
   },
   "source": [
    "When the user types `quit`, the conversion to `int` fails and causes an error.\n",
    "\n",
    "The solution here is similar to a fencepost loop - we need to pull part of the loop out of the loop."
   ]
  },
  {
   "cell_type": "code",
   "execution_count": null,
   "id": "0287a3e6",
   "metadata": {
    "execution": {
     "iopub.execute_input": "2023-07-20T16:48:20.032325Z",
     "iopub.status.busy": "2023-07-20T16:48:20.031949Z",
     "iopub.status.idle": "2023-07-20T16:48:20.057336Z",
     "shell.execute_reply": "2023-07-20T16:48:20.056626Z"
    },
    "tags": [
     "remove-output"
    ]
   },
   "outputs": [],
   "source": [
    "total = 0\n",
    "answer = input(\"Type a number, or 'quit' to stop: \")\n",
    "\n",
    "while answer != \"quit\":\n",
    "    total = total + int(answer)\n",
    "    print(\"Sum so far:\" + str(total))\n",
    "    answer = input(\"Type a number, or 'quit' to stop: \")\n",
    "\n",
    "print(\"Sum: \" + str(total))"
   ]
  },
  {
   "cell_type": "markdown",
   "id": "819b81ab",
   "metadata": {
    "slideshow": {
     "slide_type": "subslide"
    }
   },
   "source": [
    "This pattern is common when dealing with user input.  \n",
    "\n",
    "In some cases, there's another possible solution: set our initial \"dummy\" value to 0 and re-order the statements in the loop."
   ]
  },
  {
   "cell_type": "code",
   "execution_count": null,
   "id": "7c2a6d52",
   "metadata": {
    "execution": {
     "iopub.execute_input": "2023-07-20T16:48:20.060909Z",
     "iopub.status.busy": "2023-07-20T16:48:20.060629Z",
     "iopub.status.idle": "2023-07-20T16:48:20.083647Z",
     "shell.execute_reply": "2023-07-20T16:48:20.082862Z"
    },
    "tags": [
     "remove-output"
    ]
   },
   "outputs": [],
   "source": [
    "total = 0\n",
    "answer = 0\n",
    "\n",
    "while answer != \"quit\":\n",
    "    total = total + int(answer)\n",
    "    print(\"Sum so far:\" + str(total))\n",
    "    answer = input(\"Type a number, or 'quit' to stop: \")\n",
    "\n",
    "print(\"Sum: \" + str(total))"
   ]
  },
  {
   "cell_type": "markdown",
   "id": "220ca77f",
   "metadata": {},
   "source": [
    "One difference here is that we printed \"Sum so far\" before the user entered any numbers.  \n",
    "  \n",
    "For this program, that seems ok, but it might not be for every program.  \n",
    "\n",
    "Picking the right loop structure will take practice!\n"
   ]
  },
  {
   "cell_type": "markdown",
   "id": "571b90f0",
   "metadata": {
    "slideshow": {
     "slide_type": "slide"
    }
   },
   "source": [
    "# Exercise\n",
    "\n",
    "Write a function that generates random numbers between 1 and 10. Stop after 10 rolls, or when a 7 is rolled, whichever comes first. Return `True` if a 7 was rolled, or `False` if the roll limit is reached.\n",
    "\n"
   ]
  },
  {
   "cell_type": "code",
   "execution_count": null,
   "id": "c085e1fa",
   "metadata": {
    "execution": {
     "iopub.execute_input": "2023-07-20T16:48:20.087360Z",
     "iopub.status.busy": "2023-07-20T16:48:20.087035Z",
     "iopub.status.idle": "2023-07-20T16:48:20.091666Z",
     "shell.execute_reply": "2023-07-20T16:48:20.091005Z"
    },
    "slideshow": {
     "slide_type": "fragment"
    },
    "tags": [
     "remove-output"
    ]
   },
   "outputs": [],
   "source": [
    "import random\n",
    "def roll():\n",
    "    for i in range(10):\n",
    "        roll = random.randint(1, 10)\n",
    "        if roll == 7:\n",
    "            # ???\n",
    "        "
   ]
  },
  {
   "cell_type": "markdown",
   "id": "2014985b",
   "metadata": {
    "slideshow": {
     "slide_type": "subslide"
    }
   },
   "source": [
    "## Side note: generating random numbers\n",
    "\n",
    "You can generate random integers with the function:\n",
    "\n",
    "`random.randint(a, b)`\n",
    "* This returns a random integer N such that `a <= N <= b`. \n",
    "* In order to use this, you must add `import random` at the top of your program. \n",
    "* This makes the random **module** available for use.\n",
    "  * A **module** is a collection of related functions. \n",
    "  * Python provides many useful built-in modules. \n",
    "  * You can also find and install modules that other people have written. \n",
    "  * We'll touch on modules more as the term goes on.\n",
    "\n",
    "[random.randint() function reference](https://docs.python.org/3/library/random.html#random.randint)"
   ]
  },
  {
   "cell_type": "markdown",
   "id": "e7305d1f",
   "metadata": {
    "slideshow": {
     "slide_type": "subslide"
    }
   },
   "source": [
    "First attempt... is it correct?"
   ]
  },
  {
   "cell_type": "code",
   "execution_count": null,
   "id": "fbddd3bc",
   "metadata": {
    "execution": {
     "iopub.execute_input": "2023-07-20T16:48:20.094816Z",
     "iopub.status.busy": "2023-07-20T16:48:20.094533Z",
     "iopub.status.idle": "2023-07-20T16:48:20.100005Z",
     "shell.execute_reply": "2023-07-20T16:48:20.099425Z"
    },
    "slideshow": {
     "slide_type": "-"
    }
   },
   "outputs": [],
   "source": [
    "import random\n",
    "def roll():\n",
    "    for i in range(10):\n",
    "        roll = random.randint(1, 10)\n",
    "        if roll == 7:\n",
    "            return True\n",
    "        else: \n",
    "            return False\n",
    "roll()"
   ]
  },
  {
   "cell_type": "markdown",
   "id": "2628cdb4",
   "metadata": {
    "slideshow": {
     "slide_type": "subslide"
    }
   },
   "source": [
    "## First question: How can we test whether it's correct?\n",
    "\n",
    "The probability of at least one `7` in 10 rolls is: `1 - (90% ^ 10)`, or about 65%.  \n",
    "\n",
    "We could run the code above a bunch of times by hand, and keep a count to see if we're close...  \n",
    "\n",
    "Or we can use code to do it for us!"
   ]
  },
  {
   "cell_type": "code",
   "execution_count": null,
   "id": "e047ea29",
   "metadata": {
    "execution": {
     "iopub.execute_input": "2023-07-20T16:48:20.103010Z",
     "iopub.status.busy": "2023-07-20T16:48:20.102750Z",
     "iopub.status.idle": "2023-07-20T16:48:20.118086Z",
     "shell.execute_reply": "2023-07-20T16:48:20.117417Z"
    },
    "slideshow": {
     "slide_type": "subslide"
    }
   },
   "outputs": [],
   "source": [
    "count = 0\n",
    "iterations = 10000\n",
    "expected_sevens = (1 - (0.9 ** 10)) * iterations\n",
    "\n",
    "for i in range(iterations):\n",
    "    if roll() == True:\n",
    "        count = count + 1\n",
    "\n",
    "print(\"Rolled a 7 \" + str(count) + \"/\" + str(iterations) + \" times\")\n",
    "print(\"Expected number of 7s is ~\" + str(int(expected_sevens)))"
   ]
  },
  {
   "cell_type": "markdown",
   "id": "982cce1f",
   "metadata": {
    "slideshow": {
     "slide_type": "fragment"
    }
   },
   "source": [
    "The counts are way off... what's the logic error?"
   ]
  },
  {
   "cell_type": "code",
   "execution_count": null,
   "id": "1a00cd3c",
   "metadata": {
    "execution": {
     "iopub.execute_input": "2023-07-20T16:48:20.122670Z",
     "iopub.status.busy": "2023-07-20T16:48:20.122246Z",
     "iopub.status.idle": "2023-07-20T16:48:20.127715Z",
     "shell.execute_reply": "2023-07-20T16:48:20.126767Z"
    },
    "slideshow": {
     "slide_type": "subslide"
    }
   },
   "outputs": [],
   "source": [
    "import random\n",
    "def roll():\n",
    "    for i in range(10):\n",
    "        roll = random.randint(1, 10)\n",
    "        if roll == 7:\n",
    "            return True\n",
    "    return False"
   ]
  },
  {
   "cell_type": "code",
   "execution_count": null,
   "id": "cb9083ab",
   "metadata": {
    "execution": {
     "iopub.execute_input": "2023-07-20T16:48:20.132688Z",
     "iopub.status.busy": "2023-07-20T16:48:20.132233Z",
     "iopub.status.idle": "2023-07-20T16:48:20.194184Z",
     "shell.execute_reply": "2023-07-20T16:48:20.193217Z"
    },
    "slideshow": {
     "slide_type": "subslide"
    }
   },
   "outputs": [],
   "source": [
    "count = 0\n",
    "iterations = 10000\n",
    "expected_sevens = (1 - (0.9 ** 10)) * iterations\n",
    "\n",
    "for i in range(0, iterations):\n",
    "    if roll() == True:\n",
    "        count = count + 1\n",
    "\n",
    "print(\"Rolled a 7 \" + str(count) + \"/\" + str(iterations) + \" times\")\n",
    "print(\"Expected number of 7s is ~\" + str(int(expected_sevens)))"
   ]
  },
  {
   "cell_type": "markdown",
   "id": "f057b0b7",
   "metadata": {},
   "source": [
    "That looks right!\n",
    "\n",
    "Returning out of loops can be tricky. Be sure to think about whether it's ok to skip the rest of the loop iterations and the rest of the function when you return."
   ]
  },
  {
   "cell_type": "markdown",
   "id": "ab94d165",
   "metadata": {
    "slideshow": {
     "slide_type": "slide"
    }
   },
   "source": [
    "# Controlling loops\n",
    "\n",
    "* The `break` keyword will stop a loop and continue on to the code immediately after a loop.\n",
    "* The `continue` keyword will skip to the next iteration of the loop.\n",
    "* `return` will also stop a loop, as we saw. Be sure that skipping the rest of the function is correct before doing this.\n"
   ]
  },
  {
   "cell_type": "markdown",
   "id": "e16f65e9",
   "metadata": {
    "slideshow": {
     "slide_type": "subslide"
    }
   },
   "source": [
    "## `break`\n",
    "\n",
    "Let's revisit the number-adder"
   ]
  },
  {
   "cell_type": "code",
   "execution_count": null,
   "id": "5023d3d0",
   "metadata": {
    "execution": {
     "iopub.execute_input": "2023-07-20T16:48:20.198403Z",
     "iopub.status.busy": "2023-07-20T16:48:20.198067Z",
     "iopub.status.idle": "2023-07-20T16:48:20.222169Z",
     "shell.execute_reply": "2023-07-20T16:48:20.221329Z"
    },
    "tags": [
     "remove-output"
    ]
   },
   "outputs": [],
   "source": [
    "total = 0\n",
    "while True:\n",
    "    answer = input(\"Type a number, or 'quit' to stop: \")\n",
    "    if answer == \"quit\":\n",
    "        break\n",
    "    total = total + int(answer)\n",
    "    print(\"Sum so far:\" + str(total))\n",
    "print(\"Final sum: \" + str(total))"
   ]
  },
  {
   "cell_type": "markdown",
   "id": "c3c14e68",
   "metadata": {},
   "source": [
    "`while True: ... break` is another common loop pattern."
   ]
  },
  {
   "cell_type": "markdown",
   "id": "13a6474c",
   "metadata": {
    "slideshow": {
     "slide_type": "subslide"
    }
   },
   "source": [
    "## `continue`\n",
    "\n",
    "`continue` skips the rest of the current iteration, and starts at the beginning of the next iteration (if there are any left).  \n",
    "  \n",
    "\n",
    "`continue` is never **necessary**. You can always recreate the same logic with nested `if/else` statements. But it can help improve readability by letting you avoid deep nesting of conditionals."
   ]
  },
  {
   "cell_type": "code",
   "execution_count": null,
   "id": "a001c39f",
   "metadata": {
    "execution": {
     "iopub.execute_input": "2023-07-20T16:48:20.225965Z",
     "iopub.status.busy": "2023-07-20T16:48:20.225630Z",
     "iopub.status.idle": "2023-07-20T16:48:20.233078Z",
     "shell.execute_reply": "2023-07-20T16:48:20.232415Z"
    },
    "slideshow": {
     "slide_type": "subslide"
    },
    "tags": [
     "remove-output"
    ]
   },
   "outputs": [],
   "source": [
    "for x in range(10000):\n",
    "    if x % 7 == 0:\n",
    "        y = random.randint(1, 10)\n",
    "        if y % 5 == 0:\n",
    "            z = random.randint(1, 100)\n",
    "            if z % 23 == 0:\n",
    "                print(\"made it! pretend this block contains lots and lots of code\")"
   ]
  },
  {
   "cell_type": "code",
   "execution_count": null,
   "id": "c8ff9c76",
   "metadata": {
    "execution": {
     "iopub.execute_input": "2023-07-20T16:48:20.236612Z",
     "iopub.status.busy": "2023-07-20T16:48:20.236212Z",
     "iopub.status.idle": "2023-07-20T16:48:20.243987Z",
     "shell.execute_reply": "2023-07-20T16:48:20.242978Z"
    },
    "tags": [
     "remove-output"
    ]
   },
   "outputs": [],
   "source": [
    "# vs.\n",
    "for x in range(10000):\n",
    "    if x % 7 != 0:\n",
    "        continue\n",
    "        \n",
    "    y = random.randint(1, 10)\n",
    "    if y % 5 != 0:\n",
    "        continue\n",
    "        \n",
    "    z = random.randint(1, 100)\n",
    "    if z % 23 != 0:\n",
    "        continue\n",
    "    \n",
    "    print(\"made it! pretend this block contains lots and lots of code\")"
   ]
  },
  {
   "cell_type": "markdown",
   "id": "ed7bc744",
   "metadata": {
    "slideshow": {
     "slide_type": "slide"
    }
   },
   "source": [
    "# Exercise\n",
    "\n",
    "* Write a program that plays an adding game.\n",
    "  * Ask the user to solve random addition problems with 2-5 numbers.\n",
    "  * The user gets 1 point for a correct answer, 0 for incorrect.\n",
    "  * The program stops after 3 incorrect answers."
   ]
  },
  {
   "cell_type": "markdown",
   "id": "1c180d3b",
   "metadata": {
    "slideshow": {
     "slide_type": "subslide"
    }
   },
   "source": [
    "### This is more complex than our other exercises. \n",
    "\n",
    "Let's break it down (functional decomposition):  \n",
    "\n",
    "* There are 2 major parts to our program:\n",
    "  * Outer game loop: let the player take a turn, track score, end the game after incorrect answers\n",
    "  * Handling a single problem: generate a problem, present it, check the answer, report correctness\n",
    "* We could decompose this further - each of the things listed on those lines could be its own function. \n",
    "  * However, we haven't learned all the language tools we need for that yet (lists, tuples)"
   ]
  },
  {
   "cell_type": "code",
   "execution_count": null,
   "id": "4ac3d4ce",
   "metadata": {
    "execution": {
     "iopub.execute_input": "2023-07-20T16:48:20.247479Z",
     "iopub.status.busy": "2023-07-20T16:48:20.247197Z",
     "iopub.status.idle": "2023-07-20T16:48:20.251253Z",
     "shell.execute_reply": "2023-07-20T16:48:20.250623Z"
    },
    "slideshow": {
     "slide_type": "subslide"
    }
   },
   "outputs": [],
   "source": [
    "def turn():\n",
    "    number_count = random.randint(2, 5)\n",
    "    expected_sum = 0\n",
    "    problem = ''\n",
    "    \n",
    "    for i in range(number_count):\n",
    "        number = random.randint(1, 20)\n",
    "        expected_sum = expected_sum + number\n",
    "        problem = problem + str(number) + \" + \"\n",
    "\n",
    "    problem = problem + \" = \"\n",
    "    print(problem)"
   ]
  },
  {
   "cell_type": "code",
   "execution_count": null,
   "id": "1f7d7c06",
   "metadata": {
    "execution": {
     "iopub.execute_input": "2023-07-20T16:48:20.254229Z",
     "iopub.status.busy": "2023-07-20T16:48:20.253948Z",
     "iopub.status.idle": "2023-07-20T16:48:20.259161Z",
     "shell.execute_reply": "2023-07-20T16:48:20.258229Z"
    }
   },
   "outputs": [],
   "source": [
    "turn()"
   ]
  },
  {
   "cell_type": "markdown",
   "id": "4ccee24a",
   "metadata": {
    "slideshow": {
     "slide_type": "subslide"
    }
   },
   "source": [
    "Wait, we've seen this bug before..."
   ]
  },
  {
   "cell_type": "markdown",
   "id": "721ec506",
   "metadata": {
    "slideshow": {
     "slide_type": "fragment"
    }
   },
   "source": [
    "Fenceposts!\n",
    "\n",
    "`|===|===|===| `  \n",
    "`5 + 3 + 7 + 10`"
   ]
  },
  {
   "cell_type": "markdown",
   "id": "28076ea9",
   "metadata": {
    "slideshow": {
     "slide_type": "subslide"
    }
   },
   "source": [
    "Pull the final number out of the loop to avoid printing an extra `+`"
   ]
  },
  {
   "cell_type": "code",
   "execution_count": null,
   "id": "61e83173",
   "metadata": {
    "execution": {
     "iopub.execute_input": "2023-07-20T16:48:20.263004Z",
     "iopub.status.busy": "2023-07-20T16:48:20.262717Z",
     "iopub.status.idle": "2023-07-20T16:48:20.267026Z",
     "shell.execute_reply": "2023-07-20T16:48:20.266394Z"
    },
    "slideshow": {
     "slide_type": "-"
    }
   },
   "outputs": [],
   "source": [
    "def turn():\n",
    "    number_count = random.randint(2, 5)\n",
    "    expected_sum = 0\n",
    "    problem = ''\n",
    "    \n",
    "    for i in range(number_count-1):\n",
    "        number = random.randint(1, 20)\n",
    "        expected_sum = expected_sum + number\n",
    "        problem = problem + str(number) + \" + \"\n",
    "\n",
    "    number = random.randint(1, 20)\n",
    "    expected_sum = expected_sum + number\n",
    "    problem = problem + str(number) + \" = \"\n",
    "\n",
    "    print(problem)"
   ]
  },
  {
   "cell_type": "code",
   "execution_count": null,
   "id": "010cec66",
   "metadata": {
    "execution": {
     "iopub.execute_input": "2023-07-20T16:48:20.270102Z",
     "iopub.status.busy": "2023-07-20T16:48:20.269810Z",
     "iopub.status.idle": "2023-07-20T16:48:20.273893Z",
     "shell.execute_reply": "2023-07-20T16:48:20.273161Z"
    }
   },
   "outputs": [],
   "source": [
    "turn()"
   ]
  },
  {
   "cell_type": "markdown",
   "id": "084c1866",
   "metadata": {
    "slideshow": {
     "slide_type": "subslide"
    }
   },
   "source": [
    "Now, a function which handles asking for input, and checking the answer against an expected solution"
   ]
  },
  {
   "cell_type": "code",
   "execution_count": null,
   "id": "102c9f65",
   "metadata": {
    "execution": {
     "iopub.execute_input": "2023-07-20T16:48:20.278696Z",
     "iopub.status.busy": "2023-07-20T16:48:20.278160Z",
     "iopub.status.idle": "2023-07-20T16:48:20.282782Z",
     "shell.execute_reply": "2023-07-20T16:48:20.282083Z"
    },
    "slideshow": {
     "slide_type": "-"
    }
   },
   "outputs": [],
   "source": [
    "def prompt_and_check(solution):\n",
    "    guess = input()\n",
    "    \n",
    "    if guess == solution:\n",
    "        print(\"Correct! 1 point\")\n",
    "        return True\n",
    "    else:\n",
    "        print(\"BZZZT, wrong answer! The correct answer was: \" + str(solution))\n",
    "        return False    "
   ]
  },
  {
   "cell_type": "code",
   "execution_count": null,
   "id": "bddc5be1",
   "metadata": {
    "execution": {
     "iopub.execute_input": "2023-07-20T16:48:20.286403Z",
     "iopub.status.busy": "2023-07-20T16:48:20.286109Z",
     "iopub.status.idle": "2023-07-20T16:48:20.315278Z",
     "shell.execute_reply": "2023-07-20T16:48:20.314611Z"
    },
    "tags": [
     "remove-output"
    ]
   },
   "outputs": [],
   "source": [
    "prompt_and_check(34)"
   ]
  },
  {
   "cell_type": "markdown",
   "id": "7a126ab0",
   "metadata": {
    "slideshow": {
     "slide_type": "subslide"
    }
   },
   "source": [
    "## What's wrong?\n",
    "\n",
    "Why isn't `34` == `34` ??\n",
    "\n",
    "Step-thru debugging might be useful here... let's try it. \n",
    "\n",
    "repl.it: [Lecture 5 exercises: debugging number sum game](https://replit.com/@cosi-10a-fall23/Number-sum-game-debugging#)"
   ]
  },
  {
   "cell_type": "code",
   "execution_count": null,
   "id": "886dc479",
   "metadata": {
    "execution": {
     "iopub.execute_input": "2023-07-20T16:48:20.319407Z",
     "iopub.status.busy": "2023-07-20T16:48:20.319123Z",
     "iopub.status.idle": "2023-07-20T16:48:20.323271Z",
     "shell.execute_reply": "2023-07-20T16:48:20.322680Z"
    },
    "slideshow": {
     "slide_type": "fragment"
    }
   },
   "outputs": [],
   "source": [
    "34 == \"34\""
   ]
  },
  {
   "cell_type": "markdown",
   "id": "544d7741",
   "metadata": {
    "slideshow": {
     "slide_type": "subslide"
    }
   },
   "source": [
    "Convert input to an `int` before comparing"
   ]
  },
  {
   "cell_type": "code",
   "execution_count": null,
   "id": "992e177e",
   "metadata": {
    "execution": {
     "iopub.execute_input": "2023-07-20T16:48:20.326455Z",
     "iopub.status.busy": "2023-07-20T16:48:20.326106Z",
     "iopub.status.idle": "2023-07-20T16:48:20.329849Z",
     "shell.execute_reply": "2023-07-20T16:48:20.329296Z"
    },
    "slideshow": {
     "slide_type": "-"
    }
   },
   "outputs": [],
   "source": [
    "def prompt_and_check(solution):\n",
    "    guess = int(input())\n",
    "    \n",
    "    if guess == solution:\n",
    "        print(\"Correct! 1 point\")\n",
    "        return True\n",
    "    else:\n",
    "        print(\"BZZZT, wrong answer! The correct answer was: \" + str(solution))\n",
    "        return False    "
   ]
  },
  {
   "cell_type": "code",
   "execution_count": null,
   "id": "582f910a",
   "metadata": {
    "execution": {
     "iopub.execute_input": "2023-07-20T16:48:20.332878Z",
     "iopub.status.busy": "2023-07-20T16:48:20.332545Z",
     "iopub.status.idle": "2023-07-20T16:48:20.363348Z",
     "shell.execute_reply": "2023-07-20T16:48:20.362748Z"
    },
    "tags": [
     "remove-output"
    ]
   },
   "outputs": [],
   "source": [
    "prompt_and_check(34)"
   ]
  },
  {
   "cell_type": "markdown",
   "id": "6bdd716f",
   "metadata": {
    "slideshow": {
     "slide_type": "subslide"
    }
   },
   "source": [
    "Let's incorporate `prompt_and_check()` into `turn()`:"
   ]
  },
  {
   "cell_type": "code",
   "execution_count": null,
   "id": "b1601305",
   "metadata": {
    "execution": {
     "iopub.execute_input": "2023-07-20T16:48:20.366596Z",
     "iopub.status.busy": "2023-07-20T16:48:20.366306Z",
     "iopub.status.idle": "2023-07-20T16:48:20.370732Z",
     "shell.execute_reply": "2023-07-20T16:48:20.370123Z"
    },
    "slideshow": {
     "slide_type": "-"
    }
   },
   "outputs": [],
   "source": [
    "def turn():\n",
    "    number_count = random.randint(2, 5)\n",
    "    expected_sum = 0\n",
    "    problem = ''\n",
    "    for i in range(number_count-1):\n",
    "        number = random.randint(1, 20)\n",
    "        expected_sum = expected_sum + number\n",
    "        problem = problem + str(number) + \" + \"\n",
    "\n",
    "    number = random.randint(1, 20)\n",
    "    expected_sum = expected_sum + number\n",
    "    problem = problem + str(number)\n",
    "\n",
    "    print(problem)\n",
    "    return prompt_and_check(expected_sum)"
   ]
  },
  {
   "cell_type": "code",
   "execution_count": null,
   "id": "b2903c8c",
   "metadata": {
    "execution": {
     "iopub.execute_input": "2023-07-20T16:48:20.373885Z",
     "iopub.status.busy": "2023-07-20T16:48:20.373608Z",
     "iopub.status.idle": "2023-07-20T16:48:20.411545Z",
     "shell.execute_reply": "2023-07-20T16:48:20.410239Z"
    },
    "tags": [
     "remove-output"
    ]
   },
   "outputs": [],
   "source": [
    "turn()"
   ]
  },
  {
   "cell_type": "markdown",
   "id": "14dce698",
   "metadata": {
    "slideshow": {
     "slide_type": "subslide"
    }
   },
   "source": [
    "Finally, the outer game loop. "
   ]
  },
  {
   "cell_type": "code",
   "execution_count": null,
   "id": "f423766e",
   "metadata": {
    "execution": {
     "iopub.execute_input": "2023-07-20T16:48:20.417276Z",
     "iopub.status.busy": "2023-07-20T16:48:20.416684Z",
     "iopub.status.idle": "2023-07-20T16:48:20.421235Z",
     "shell.execute_reply": "2023-07-20T16:48:20.420556Z"
    }
   },
   "outputs": [],
   "source": [
    "def game():\n",
    "    print(\"Welcome to the number sum game!\")\n",
    "\n",
    "    errors = 0\n",
    "    points = 0\n",
    "    \n",
    "    while errors < 3:\n",
    "        turn_result = turn()\n",
    "        if turn_result:\n",
    "            points = points + 1\n",
    "        else:\n",
    "            errors = errors + 1\n",
    "            \n",
    "    print(\"You earned \" + str(points) + \" total points!\")"
   ]
  },
  {
   "cell_type": "code",
   "execution_count": null,
   "id": "6c2f36e5",
   "metadata": {
    "execution": {
     "iopub.execute_input": "2023-07-20T16:48:20.425442Z",
     "iopub.status.busy": "2023-07-20T16:48:20.425121Z",
     "iopub.status.idle": "2023-07-20T16:48:20.469906Z",
     "shell.execute_reply": "2023-07-20T16:48:20.469178Z"
    },
    "slideshow": {
     "slide_type": "-"
    },
    "tags": [
     "remove-output"
    ]
   },
   "outputs": [],
   "source": [
    "game()"
   ]
  },
  {
   "cell_type": "markdown",
   "id": "24dc6583",
   "metadata": {},
   "source": [
    "We've handled most of the complexity already, so this is pretty simple!  \n",
    "  \n",
    "This is an example of why decomposing programs is so powerful - it helps you to build (and test) piece by piece. "
   ]
  },
  {
   "cell_type": "markdown",
   "id": "7fe188f8",
   "metadata": {
    "slideshow": {
     "slide_type": "slide"
    }
   },
   "source": [
    "# Exercise\n",
    "\n",
    "Write a function to draw a square. It should take in the side length as a parameter. For example, `square(4)` would print:\n",
    "```\n",
    "****\n",
    "****\n",
    "****\n",
    "****\n",
    "```"
   ]
  },
  {
   "cell_type": "code",
   "execution_count": null,
   "id": "afe944a6",
   "metadata": {
    "execution": {
     "iopub.execute_input": "2023-07-20T16:48:20.473470Z",
     "iopub.status.busy": "2023-07-20T16:48:20.473180Z",
     "iopub.status.idle": "2023-07-20T16:48:20.476971Z",
     "shell.execute_reply": "2023-07-20T16:48:20.476357Z"
    }
   },
   "outputs": [],
   "source": [
    "def square(size):\n",
    "    for i in range(size):\n",
    "        for j in range(size):\n",
    "            print('*', end='')\n",
    "        print()"
   ]
  },
  {
   "cell_type": "code",
   "execution_count": null,
   "id": "5974f19e",
   "metadata": {
    "execution": {
     "iopub.execute_input": "2023-07-20T16:48:20.480197Z",
     "iopub.status.busy": "2023-07-20T16:48:20.479905Z",
     "iopub.status.idle": "2023-07-20T16:48:20.483859Z",
     "shell.execute_reply": "2023-07-20T16:48:20.483235Z"
    }
   },
   "outputs": [],
   "source": [
    "square(10)"
   ]
  },
  {
   "cell_type": "markdown",
   "id": "a23082b1",
   "metadata": {
    "slideshow": {
     "slide_type": "subslide"
    }
   },
   "source": [
    "## Nested loops\n",
    "\n",
    "You can \"nest\" loops inside of each other. The inner loop is repeated by the outer loop. \n",
    "\n",
    "Let's \"unroll\" the outer loop for the call `square(4)`:"
   ]
  },
  {
   "cell_type": "code",
   "execution_count": null,
   "id": "4a9941ba",
   "metadata": {
    "execution": {
     "iopub.execute_input": "2023-07-20T16:48:20.487372Z",
     "iopub.status.busy": "2023-07-20T16:48:20.487102Z",
     "iopub.status.idle": "2023-07-20T16:48:20.490885Z",
     "shell.execute_reply": "2023-07-20T16:48:20.490065Z"
    }
   },
   "outputs": [],
   "source": [
    "for i in range(4):\n",
    "    for j in range(4):\n",
    "        print('*', end='')\n",
    "    print()"
   ]
  },
  {
   "cell_type": "code",
   "execution_count": null,
   "id": "cd949b10",
   "metadata": {
    "execution": {
     "iopub.execute_input": "2023-07-20T16:48:20.494858Z",
     "iopub.status.busy": "2023-07-20T16:48:20.494586Z",
     "iopub.status.idle": "2023-07-20T16:48:20.499314Z",
     "shell.execute_reply": "2023-07-20T16:48:20.498672Z"
    }
   },
   "outputs": [],
   "source": [
    "# equivalent \"unrolled\" code\n",
    "for j in range(4):\n",
    "    print('*', end='')\n",
    "print()\n",
    "for j in range(4):\n",
    "    print('*', end='')\n",
    "print()\n",
    "for j in range(4):\n",
    "    print('*', end='')\n",
    "print()\n",
    "for j in range(4):\n",
    "    print('*', end='')\n",
    "print()"
   ]
  },
  {
   "cell_type": "markdown",
   "id": "50900906",
   "metadata": {
    "slideshow": {
     "slide_type": "subslide"
    }
   },
   "source": [
    "# Exercise\n",
    "\n",
    "Write a function `pyramid(levels)` that draws the following, with the `levels` parameter controlling how many levels are drawn:\n",
    "```\n",
    "1\n",
    "22\n",
    "333\n",
    "4444\n",
    "55555\n",
    "```"
   ]
  },
  {
   "cell_type": "code",
   "execution_count": null,
   "id": "400d9429",
   "metadata": {
    "execution": {
     "iopub.execute_input": "2023-07-20T16:48:20.502297Z",
     "iopub.status.busy": "2023-07-20T16:48:20.502015Z",
     "iopub.status.idle": "2023-07-20T16:48:20.507149Z",
     "shell.execute_reply": "2023-07-20T16:48:20.506182Z"
    },
    "tags": [
     "remove-output",
     "raises-exception"
    ]
   },
   "outputs": [],
   "source": [
    "def pyramid(levels):\n",
    "    for row in range(levels):\n",
    "        for ??? in range(???):"
   ]
  },
  {
   "cell_type": "code",
   "execution_count": null,
   "id": "23c06337",
   "metadata": {
    "execution": {
     "iopub.execute_input": "2023-07-20T16:48:20.511448Z",
     "iopub.status.busy": "2023-07-20T16:48:20.511094Z",
     "iopub.status.idle": "2023-07-20T16:48:20.515263Z",
     "shell.execute_reply": "2023-07-20T16:48:20.514615Z"
    }
   },
   "outputs": [],
   "source": [
    "def pyramid(levels):\n",
    "    for row in range(levels):\n",
    "        for num in range(row):\n",
    "            print(row, end='')\n",
    "        print()"
   ]
  },
  {
   "cell_type": "code",
   "execution_count": null,
   "id": "0e3baa29",
   "metadata": {
    "execution": {
     "iopub.execute_input": "2023-07-20T16:48:20.518424Z",
     "iopub.status.busy": "2023-07-20T16:48:20.518157Z",
     "iopub.status.idle": "2023-07-20T16:48:20.521608Z",
     "shell.execute_reply": "2023-07-20T16:48:20.520804Z"
    }
   },
   "outputs": [],
   "source": [
    "pyramid(7)"
   ]
  },
  {
   "cell_type": "markdown",
   "id": "d1c6639c",
   "metadata": {
    "slideshow": {
     "slide_type": "subslide"
    }
   },
   "source": [
    "## Looks right... but wait\n",
    "\n",
    "There's an empty line at the beginning...\n",
    "\n",
    "Let's unroll the loops again, for `pyramid(4)`:"
   ]
  },
  {
   "cell_type": "code",
   "execution_count": null,
   "id": "8ca48f98",
   "metadata": {
    "execution": {
     "iopub.execute_input": "2023-07-20T16:48:20.524653Z",
     "iopub.status.busy": "2023-07-20T16:48:20.524405Z",
     "iopub.status.idle": "2023-07-20T16:48:20.527921Z",
     "shell.execute_reply": "2023-07-20T16:48:20.527357Z"
    }
   },
   "outputs": [],
   "source": [
    "for row in range(4):\n",
    "    for num in range(row):\n",
    "        print(row, end='')\n",
    "    print()"
   ]
  },
  {
   "cell_type": "code",
   "execution_count": null,
   "id": "0beec5fa",
   "metadata": {
    "execution": {
     "iopub.execute_input": "2023-07-20T16:48:20.531418Z",
     "iopub.status.busy": "2023-07-20T16:48:20.531119Z",
     "iopub.status.idle": "2023-07-20T16:48:20.536398Z",
     "shell.execute_reply": "2023-07-20T16:48:20.535330Z"
    }
   },
   "outputs": [],
   "source": [
    "for num in range(0):\n",
    "    print(0, end='')\n",
    "print()\n",
    "for num in range(1):\n",
    "    print(1, end='')\n",
    "print()\n",
    "for num in range(2):\n",
    "    print(2, end='')\n",
    "print()\n",
    "for num in range(3):\n",
    "    print(3, end='')\n",
    "print()"
   ]
  },
  {
   "cell_type": "markdown",
   "id": "433affc4",
   "metadata": {},
   "source": [
    "## The dreaded \"off by 1\" error"
   ]
  },
  {
   "cell_type": "code",
   "execution_count": null,
   "id": "6f0cb403",
   "metadata": {
    "execution": {
     "iopub.execute_input": "2023-07-20T16:48:20.539944Z",
     "iopub.status.busy": "2023-07-20T16:48:20.539672Z",
     "iopub.status.idle": "2023-07-20T16:48:20.543285Z",
     "shell.execute_reply": "2023-07-20T16:48:20.542629Z"
    }
   },
   "outputs": [],
   "source": [
    "def pyramid(levels):\n",
    "    for row in range(1, levels+1):\n",
    "        for num in range(row):\n",
    "            print(row, end='')\n",
    "        print()"
   ]
  },
  {
   "cell_type": "code",
   "execution_count": null,
   "id": "ee27f71a",
   "metadata": {
    "execution": {
     "iopub.execute_input": "2023-07-20T16:48:20.546162Z",
     "iopub.status.busy": "2023-07-20T16:48:20.545901Z",
     "iopub.status.idle": "2023-07-20T16:48:20.549169Z",
     "shell.execute_reply": "2023-07-20T16:48:20.548548Z"
    }
   },
   "outputs": [],
   "source": [
    "pyramid(7)"
   ]
  },
  {
   "cell_type": "markdown",
   "id": "18403a3c",
   "metadata": {
    "slideshow": {
     "slide_type": "subslide"
    }
   },
   "source": [
    "# Exercise\n",
    "\n",
    "Write a function `centered_pyramid(levels)` that draws the following, with the `levels` parameter controlling how many levels are drawn:\n",
    "\n",
    "```\n",
    "   1     \n",
    "  222\n",
    " 33333\n",
    "4444444\n",
    "```"
   ]
  },
  {
   "cell_type": "markdown",
   "id": "9d4674bc",
   "metadata": {},
   "source": [
    "This is trickier, let's find a formula...\n",
    "\n",
    "| row | spaces | numbers | spaces | total chars |\n",
    "|:---:|---:|:---:|:---|:---:|\n",
    "| 0 | 3 | 1 | 3 | 7 |\n",
    "| 1 | 2 | 3 | 2 | 7 |\n",
    "| 2 | 1 | 5 | 1 | 7 |\n",
    "| 3 | 0 | 7 | 0 | 7 |\n"
   ]
  },
  {
   "cell_type": "markdown",
   "id": "16288f7d",
   "metadata": {
    "slideshow": {
     "slide_type": "fragment"
    }
   },
   "source": [
    "If `x` is the total number of rows, and `n` is the current row (starting at 0):\n",
    "\n",
    "* `spaces` = `x - n - 1`\n",
    "* `numbers` = `n * 2 + 1`"
   ]
  },
  {
   "cell_type": "code",
   "execution_count": null,
   "id": "3bf263b4",
   "metadata": {
    "execution": {
     "iopub.execute_input": "2023-07-20T16:48:20.552595Z",
     "iopub.status.busy": "2023-07-20T16:48:20.552332Z",
     "iopub.status.idle": "2023-07-20T16:48:20.556340Z",
     "shell.execute_reply": "2023-07-20T16:48:20.555748Z"
    },
    "slideshow": {
     "slide_type": "subslide"
    }
   },
   "outputs": [],
   "source": [
    "def centered_pyramid(levels):\n",
    "    for row in range(levels):\n",
    "        for s in range(levels - row - 1):\n",
    "            print(' ', end='')\n",
    "        for n in range(row * 2 + 1):\n",
    "            print(row, end='')\n",
    "        for s in range(levels - row - 1):\n",
    "            print(' ', end='')\n",
    "        print()"
   ]
  },
  {
   "cell_type": "code",
   "execution_count": null,
   "id": "10cf7b54",
   "metadata": {
    "execution": {
     "iopub.execute_input": "2023-07-20T16:48:20.559245Z",
     "iopub.status.busy": "2023-07-20T16:48:20.559004Z",
     "iopub.status.idle": "2023-07-20T16:48:20.562599Z",
     "shell.execute_reply": "2023-07-20T16:48:20.561949Z"
    }
   },
   "outputs": [],
   "source": [
    "centered_pyramid(7)"
   ]
  },
  {
   "cell_type": "markdown",
   "id": "17071e69",
   "metadata": {
    "slideshow": {
     "slide_type": "subslide"
    }
   },
   "source": [
    "## Off by 1 again..."
   ]
  },
  {
   "cell_type": "code",
   "execution_count": null,
   "id": "e2275932",
   "metadata": {
    "execution": {
     "iopub.execute_input": "2023-07-20T16:48:20.565562Z",
     "iopub.status.busy": "2023-07-20T16:48:20.565318Z",
     "iopub.status.idle": "2023-07-20T16:48:20.569407Z",
     "shell.execute_reply": "2023-07-20T16:48:20.568764Z"
    }
   },
   "outputs": [],
   "source": [
    "def centered_pyramid(levels):\n",
    "    for row in range(levels):\n",
    "        for s in range(levels - row - 1):\n",
    "            print(' ', end='')\n",
    "        for n in range(row * 2 + 1):\n",
    "            print(row+1, end='')\n",
    "        for s in range(levels - row - 1):\n",
    "            print(' ', end='')\n",
    "        print()"
   ]
  },
  {
   "cell_type": "code",
   "execution_count": null,
   "id": "5d3bb9b6",
   "metadata": {
    "execution": {
     "iopub.execute_input": "2023-07-20T16:48:20.572490Z",
     "iopub.status.busy": "2023-07-20T16:48:20.572231Z",
     "iopub.status.idle": "2023-07-20T16:48:20.575626Z",
     "shell.execute_reply": "2023-07-20T16:48:20.575000Z"
    }
   },
   "outputs": [],
   "source": [
    "centered_pyramid(7)"
   ]
  },
  {
   "cell_type": "markdown",
   "id": "bbe0f2b7",
   "metadata": {
    "slideshow": {
     "slide_type": "subslide"
    }
   },
   "source": [
    "What would happen if we changed it to `row in range(1, levels+1)`?"
   ]
  },
  {
   "cell_type": "code",
   "execution_count": null,
   "id": "a8770a8e",
   "metadata": {
    "execution": {
     "iopub.execute_input": "2023-07-20T16:48:20.578649Z",
     "iopub.status.busy": "2023-07-20T16:48:20.578392Z",
     "iopub.status.idle": "2023-07-20T16:48:20.582806Z",
     "shell.execute_reply": "2023-07-20T16:48:20.582059Z"
    }
   },
   "outputs": [],
   "source": [
    "# incorrect!\n",
    "def centered_pyramid(levels):\n",
    "    for row in range(1, levels+1):\n",
    "        for s in range(levels - row - 1):\n",
    "            print(' ', end='')\n",
    "        for n in range(row * 2 + 1):\n",
    "            print(row, end='')\n",
    "        for s in range(levels - row - 1):\n",
    "            print(' ', end='')\n",
    "        print()"
   ]
  },
  {
   "cell_type": "code",
   "execution_count": null,
   "id": "76690be6",
   "metadata": {
    "execution": {
     "iopub.execute_input": "2023-07-20T16:48:20.586127Z",
     "iopub.status.busy": "2023-07-20T16:48:20.585760Z",
     "iopub.status.idle": "2023-07-20T16:48:20.590290Z",
     "shell.execute_reply": "2023-07-20T16:48:20.589561Z"
    }
   },
   "outputs": [],
   "source": [
    "centered_pyramid(7)"
   ]
  },
  {
   "cell_type": "markdown",
   "id": "8e4c1dce",
   "metadata": {
    "slideshow": {
     "slide_type": "fragment"
    }
   },
   "source": [
    "Multiple things depend on the variable `levels`, so changing it has a bigger impact. We could adjust every formula, but just adding `1` to the number that is printed results in simpler code."
   ]
  }
 ],
 "metadata": {
  "celltoolbar": "Slideshow",
  "kernelspec": {
   "display_name": "Python 3 (ipykernel)",
   "language": "python",
   "name": "python3"
  },
  "language_info": {
   "codemirror_mode": {
    "name": "ipython",
    "version": 3
   },
   "file_extension": ".py",
   "mimetype": "text/x-python",
   "name": "python",
   "nbconvert_exporter": "python",
   "pygments_lexer": "ipython3",
   "version": "3.10.9"
  }
 },
 "nbformat": 4,
 "nbformat_minor": 5
}
