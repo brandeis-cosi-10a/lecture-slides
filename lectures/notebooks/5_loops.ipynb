{
 "cells": [
  {
   "cell_type": "markdown",
   "id": "1ee8a1d2",
   "metadata": {
    "slideshow": {
     "slide_type": "slide"
    }
   },
   "source": [
    "# Loops\n",
    "\n",
    "<style>\n",
    "section.present > section.present { \n",
    "    max-height: 90%; \n",
    "    overflow-y: scroll;\n",
    "}\n",
    "</style>\n",
    "\n",
    "<small><a href=\"https://colab.research.google.com/github/brandeis-jdelfino/cosi-10a/blob/main/lectures/notebooks/5_loops.ipynb\">Link to interactive slides on Google Colab</a></small>"
   ]
  },
  {
   "cell_type": "code",
   "execution_count": null,
   "id": "71eccbdb",
   "metadata": {
    "execution": {
     "iopub.execute_input": "2023-06-02T19:13:03.938895Z",
     "iopub.status.busy": "2023-06-02T19:13:03.938549Z",
     "iopub.status.idle": "2023-06-02T19:13:03.957066Z",
     "shell.execute_reply": "2023-06-02T19:13:03.956147Z"
    },
    "slideshow": {
     "slide_type": "slide"
    }
   },
   "outputs": [],
   "source": [
    "# Finds all the numbers between 1 and 100 that are multiples of n\n",
    "def find_multiples(n):\n",
    "    if 1 % n == 0:\n",
    "        print(1, end=' ')\n",
    "    if 2 % n == 0:\n",
    "        print(2, end=' ')\n",
    "    if 3 % n == 0:\n",
    "        print(3, end=' ')\n",
    "    if 4 % n == 0:\n",
    "        print(4, end=' ')\n",
    "    if 5 % n == 0:\n",
    "        print(5, end=' ')\n",
    "    if 6 % n == 0:\n",
    "        print(6, end=' ')\n",
    "    if 7 % n == 0:\n",
    "        print(7, end=' ')\n",
    "    if 8 % n == 0:\n",
    "        print(8, end=' ')\n",
    "    #...\n",
    "\n",
    "find_multiples(3)"
   ]
  },
  {
   "cell_type": "markdown",
   "id": "35fc233e",
   "metadata": {
    "slideshow": {
     "slide_type": "subslide"
    }
   },
   "source": [
    "## Side note: the `end` parameter for `print()`\n",
    "\n",
    "* `print` is a function with several defaulted parameters.\n",
    "* One that we'll use today: `end` \n",
    "* `end` controls the character that is printed after the string.\n",
    "  * By default, it is `\\n` - newline\n",
    "* If we set it to `' '`, successive prints will print on the same line, with a space in between.\n"
   ]
  },
  {
   "cell_type": "code",
   "execution_count": null,
   "id": "7761130b",
   "metadata": {
    "execution": {
     "iopub.execute_input": "2023-06-02T19:13:03.961243Z",
     "iopub.status.busy": "2023-06-02T19:13:03.960926Z",
     "iopub.status.idle": "2023-06-02T19:13:03.965363Z",
     "shell.execute_reply": "2023-06-02T19:13:03.964637Z"
    }
   },
   "outputs": [],
   "source": [
    "print(\"1\", end=' ')\n",
    "print(\"2\", end=' ')\n",
    "print(\"3\", end=' ')"
   ]
  },
  {
   "cell_type": "markdown",
   "id": "d0bf50fa",
   "metadata": {
    "slideshow": {
     "slide_type": "subslide"
    }
   },
   "source": [
    "# Loops!        "
   ]
  },
  {
   "cell_type": "code",
   "execution_count": null,
   "id": "815d61e5",
   "metadata": {
    "execution": {
     "iopub.execute_input": "2023-06-02T19:13:03.969204Z",
     "iopub.status.busy": "2023-06-02T19:13:03.968931Z",
     "iopub.status.idle": "2023-06-02T19:13:03.972744Z",
     "shell.execute_reply": "2023-06-02T19:13:03.972146Z"
    }
   },
   "outputs": [],
   "source": [
    "def find_multiples(n):\n",
    "    for i in range(1, 100):\n",
    "        if i % n == 0:\n",
    "            print(i, end=' ')\n",
    "\n",
    "find_multiples(3)"
   ]
  },
  {
   "cell_type": "markdown",
   "id": "8b10ef58",
   "metadata": {},
   "source": [
    "Today we'll talk about loops, which let you repeat sections of code.\n",
    "\n",
    "We'll learn `for` and `while` loops, and then spend most of the time going through many different examples and exercises showing real examples of loops."
   ]
  },
  {
   "cell_type": "markdown",
   "id": "6a640677",
   "metadata": {
    "slideshow": {
     "slide_type": "subslide"
    }
   },
   "source": [
    "# The `for` loop\n",
    "\n",
    "```\n",
    "for <var> in range(<start>, <stop>):\n",
    "    statement(s)\n",
    "```\n",
    "\n",
    "* This is one form of a `for` loop\n",
    "* It **iterates**, or repeats, `<stop> - <start>` times.\n",
    "* For each **iteration** of the loop, `<var>` will be set to the next number in the sequence `[start, stop)`.\n",
    "  * So, `for i in range(3, 7)` will **iterate over** the numbers: 3, 4, 5, 6"
   ]
  },
  {
   "cell_type": "code",
   "execution_count": null,
   "id": "20156919",
   "metadata": {
    "execution": {
     "iopub.execute_input": "2023-06-02T19:13:03.976267Z",
     "iopub.status.busy": "2023-06-02T19:13:03.975943Z",
     "iopub.status.idle": "2023-06-02T19:13:03.979785Z",
     "shell.execute_reply": "2023-06-02T19:13:03.978942Z"
    }
   },
   "outputs": [],
   "source": [
    "for i in range(3, 7):\n",
    "    print(i)"
   ]
  },
  {
   "cell_type": "markdown",
   "id": "97566f4c",
   "metadata": {
    "slideshow": {
     "slide_type": "subslide"
    }
   },
   "source": [
    "# Unrolling loops\n",
    "\n",
    "Let's \"unroll\" a loop into the statements it will execute, to get a better handle on it:"
   ]
  },
  {
   "cell_type": "code",
   "execution_count": null,
   "id": "ade30494",
   "metadata": {
    "execution": {
     "iopub.execute_input": "2023-06-02T19:13:03.983117Z",
     "iopub.status.busy": "2023-06-02T19:13:03.982848Z",
     "iopub.status.idle": "2023-06-02T19:13:03.986550Z",
     "shell.execute_reply": "2023-06-02T19:13:03.985914Z"
    }
   },
   "outputs": [],
   "source": [
    "for i in range(3, 7):\n",
    "    if i % 2 == 0:\n",
    "        print(i, end=' ')"
   ]
  },
  {
   "cell_type": "markdown",
   "id": "0f26011d",
   "metadata": {},
   "source": [
    "is equivalent to:"
   ]
  },
  {
   "cell_type": "code",
   "execution_count": null,
   "id": "bf68fd9f",
   "metadata": {
    "execution": {
     "iopub.execute_input": "2023-06-02T19:13:03.989665Z",
     "iopub.status.busy": "2023-06-02T19:13:03.989397Z",
     "iopub.status.idle": "2023-06-02T19:13:03.993671Z",
     "shell.execute_reply": "2023-06-02T19:13:03.993047Z"
    }
   },
   "outputs": [],
   "source": [
    "if 3 % 2 == 0:\n",
    "    print(3, end=' ')\n",
    "if 4 % 2 == 0:\n",
    "    print(4, end=' ')\n",
    "if 5 % 2 == 0:\n",
    "    print(5, end=' ')\n",
    "if 6 % 2 == 0:\n",
    "    print(6, end=' ')"
   ]
  },
  {
   "cell_type": "markdown",
   "id": "39d76897",
   "metadata": {
    "slideshow": {
     "slide_type": "subslide"
    }
   },
   "source": [
    "# Expressions in ranges\n",
    "\n",
    "You don't need to hardcode the values passed to `range`. They can be any expressions that evaluate to integers."
   ]
  },
  {
   "cell_type": "code",
   "execution_count": null,
   "id": "66e35180",
   "metadata": {
    "execution": {
     "iopub.execute_input": "2023-06-02T19:13:03.996869Z",
     "iopub.status.busy": "2023-06-02T19:13:03.996595Z",
     "iopub.status.idle": "2023-06-02T19:13:04.000265Z",
     "shell.execute_reply": "2023-06-02T19:13:03.999620Z"
    }
   },
   "outputs": [],
   "source": [
    "x = 100\n",
    "y = 8\n",
    "for num in range(x // 10, y ** 2):\n",
    "    print(num, end=' ')"
   ]
  },
  {
   "cell_type": "markdown",
   "id": "139cbda1",
   "metadata": {
    "slideshow": {
     "slide_type": "subslide"
    }
   },
   "source": [
    "## Range arguments\n",
    "\n",
    "* `range` has 2 variants:\n",
    "  * `range(stop)` - iterates from 0 to `stop-1`\n",
    "  * `range(start, stop, step=1)` - iterates from `start` to `stop-1`, changing the number by `step` each time"
   ]
  },
  {
   "cell_type": "code",
   "execution_count": null,
   "id": "0db8ed61",
   "metadata": {
    "execution": {
     "iopub.execute_input": "2023-06-02T19:13:04.003622Z",
     "iopub.status.busy": "2023-06-02T19:13:04.003371Z",
     "iopub.status.idle": "2023-06-02T19:13:04.006711Z",
     "shell.execute_reply": "2023-06-02T19:13:04.006127Z"
    },
    "slideshow": {
     "slide_type": "subslide"
    }
   },
   "outputs": [],
   "source": [
    "for i in range(5):\n",
    "    print(i, end=' ')"
   ]
  },
  {
   "cell_type": "code",
   "execution_count": null,
   "id": "16917ea0",
   "metadata": {
    "execution": {
     "iopub.execute_input": "2023-06-02T19:13:04.009734Z",
     "iopub.status.busy": "2023-06-02T19:13:04.009482Z",
     "iopub.status.idle": "2023-06-02T19:13:04.012833Z",
     "shell.execute_reply": "2023-06-02T19:13:04.012235Z"
    }
   },
   "outputs": [],
   "source": [
    "for i in range(3, 7):\n",
    "    print(i, end=' ')"
   ]
  },
  {
   "cell_type": "code",
   "execution_count": null,
   "id": "05d4ab35",
   "metadata": {
    "execution": {
     "iopub.execute_input": "2023-06-02T19:13:04.015654Z",
     "iopub.status.busy": "2023-06-02T19:13:04.015411Z",
     "iopub.status.idle": "2023-06-02T19:13:04.018880Z",
     "shell.execute_reply": "2023-06-02T19:13:04.018238Z"
    },
    "slideshow": {
     "slide_type": "subslide"
    }
   },
   "outputs": [],
   "source": [
    "for i in range(50, 101, 5):\n",
    "    print(i, end=' ')"
   ]
  },
  {
   "cell_type": "code",
   "execution_count": null,
   "id": "f9c3a80e",
   "metadata": {
    "execution": {
     "iopub.execute_input": "2023-06-02T19:13:04.021845Z",
     "iopub.status.busy": "2023-06-02T19:13:04.021452Z",
     "iopub.status.idle": "2023-06-02T19:13:04.024942Z",
     "shell.execute_reply": "2023-06-02T19:13:04.024392Z"
    }
   },
   "outputs": [],
   "source": [
    "# You can count down with a negative step\n",
    "for i in range(10, 0, -1):\n",
    "    print(i, end=', ')\n",
    "print(\"... blastoff!\")"
   ]
  },
  {
   "cell_type": "markdown",
   "id": "3a324b89",
   "metadata": {
    "slideshow": {
     "slide_type": "slide"
    }
   },
   "source": [
    "# Fencepost loops\n",
    "\n",
    "How do we omit that last `,` in our countdown? This is a common problem when writing loops.\n",
    "\n",
    "A flawed attempt:"
   ]
  },
  {
   "cell_type": "code",
   "execution_count": null,
   "id": "f7b152bf",
   "metadata": {
    "execution": {
     "iopub.execute_input": "2023-06-02T19:13:04.028060Z",
     "iopub.status.busy": "2023-06-02T19:13:04.027810Z",
     "iopub.status.idle": "2023-06-02T19:13:04.031529Z",
     "shell.execute_reply": "2023-06-02T19:13:04.030777Z"
    }
   },
   "outputs": [],
   "source": [
    "for i in range(10, 0, -1):\n",
    "    print(\", \" + str(i), end='')\n",
    "print(\"... blastoff!\")"
   ]
  },
  {
   "cell_type": "markdown",
   "id": "88060957",
   "metadata": {
    "slideshow": {
     "slide_type": "subslide"
    }
   },
   "source": [
    "We want to print `n` numbers, but `n-1` commas. If we always print a number and comma together, we'll never get it right.\n",
    "\n",
    "These are called \"fencepost loops\" because they are similar to building a fence - you need a post followed by rails for each section, but then at the end you just need a single post to finish it off.\n",
    "\n",
    "<br/><br/>\n",
    "<img src=\"./images/fencepost.png\" style=\"display:block; margin:auto; width: 50%;\"/>\n"
   ]
  },
  {
   "cell_type": "markdown",
   "id": "482242ef",
   "metadata": {
    "slideshow": {
     "slide_type": "subslide"
    }
   },
   "source": [
    "**Solution 1**: Pull the first number out of the loop and print it by itself, then print a comma before every other number"
   ]
  },
  {
   "cell_type": "code",
   "execution_count": null,
   "id": "6b6992ff",
   "metadata": {
    "execution": {
     "iopub.execute_input": "2023-06-02T19:13:04.034660Z",
     "iopub.status.busy": "2023-06-02T19:13:04.034408Z",
     "iopub.status.idle": "2023-06-02T19:13:04.038086Z",
     "shell.execute_reply": "2023-06-02T19:13:04.037495Z"
    },
    "slideshow": {
     "slide_type": "-"
    }
   },
   "outputs": [],
   "source": [
    "print(10, end='')\n",
    "for i in range(9, 0, -1):\n",
    "    print(\", \" + str(i), end='')\n",
    "print(\"... blastoff!\")"
   ]
  },
  {
   "cell_type": "markdown",
   "id": "06919794",
   "metadata": {
    "slideshow": {
     "slide_type": "fragment"
    }
   },
   "source": [
    "**Solution 2**: Print every number with a comma after it, but pull the last number out of the loop and print it by itself."
   ]
  },
  {
   "cell_type": "code",
   "execution_count": null,
   "id": "aaca82b7",
   "metadata": {
    "execution": {
     "iopub.execute_input": "2023-06-02T19:13:04.041050Z",
     "iopub.status.busy": "2023-06-02T19:13:04.040803Z",
     "iopub.status.idle": "2023-06-02T19:13:04.044256Z",
     "shell.execute_reply": "2023-06-02T19:13:04.043727Z"
    }
   },
   "outputs": [],
   "source": [
    "for i in range(10, 1, -1):\n",
    "    print(i, end=', ')\n",
    "print(\"1... blastoff!\")"
   ]
  },
  {
   "cell_type": "markdown",
   "id": "9369463d",
   "metadata": {
    "slideshow": {
     "slide_type": "slide"
    }
   },
   "source": [
    "# Cumulative algorithms\n",
    "\n",
    "Write a function to compute the sum of every number between two numbers."
   ]
  },
  {
   "cell_type": "code",
   "execution_count": null,
   "id": "9f41b674",
   "metadata": {
    "execution": {
     "iopub.execute_input": "2023-06-02T19:13:04.047121Z",
     "iopub.status.busy": "2023-06-02T19:13:04.046886Z",
     "iopub.status.idle": "2023-06-02T19:13:04.050531Z",
     "shell.execute_reply": "2023-06-02T19:13:04.050016Z"
    },
    "tags": [
     "remove-output"
    ]
   },
   "outputs": [],
   "source": [
    "def sum_range(start, stop):\n",
    "    for i in range(start, stop):\n",
    "        # ???"
   ]
  },
  {
   "cell_type": "markdown",
   "id": "74d8bfc5",
   "metadata": {
    "slideshow": {
     "slide_type": "subslide"
    }
   },
   "source": [
    "This is another common looping pattern. We'll create a variable to hold our running total, and add to it in each iteration of the loop."
   ]
  },
  {
   "cell_type": "code",
   "execution_count": null,
   "id": "d1c35fca",
   "metadata": {
    "execution": {
     "iopub.execute_input": "2023-06-02T19:13:04.053539Z",
     "iopub.status.busy": "2023-06-02T19:13:04.053293Z",
     "iopub.status.idle": "2023-06-02T19:13:04.060021Z",
     "shell.execute_reply": "2023-06-02T19:13:04.059417Z"
    }
   },
   "outputs": [],
   "source": [
    "def sum_range(start, stop):\n",
    "    total = 0\n",
    "    for i in range(start, stop):\n",
    "        total = total + i\n",
    "    return total\n",
    "\n",
    "sum_range(1, 10)"
   ]
  },
  {
   "cell_type": "markdown",
   "id": "f345e50f",
   "metadata": {
    "slideshow": {
     "slide_type": "slide"
    }
   },
   "source": [
    "# `while` loops\n",
    "\n",
    "`for/range` loops repeat for a predetermined number of iterations.\n",
    "  \n",
    "There is another kind of loop - `while` - that iterates until a condition becomes False.\n",
    "\n",
    "```\n",
    "while <boolean expression>:\n",
    "    statement(s)\n",
    "```"
   ]
  },
  {
   "cell_type": "code",
   "execution_count": null,
   "id": "235604dd",
   "metadata": {
    "execution": {
     "iopub.execute_input": "2023-06-02T19:13:04.063137Z",
     "iopub.status.busy": "2023-06-02T19:13:04.062840Z",
     "iopub.status.idle": "2023-06-02T19:13:04.066813Z",
     "shell.execute_reply": "2023-06-02T19:13:04.066169Z"
    },
    "slideshow": {
     "slide_type": "subslide"
    }
   },
   "outputs": [],
   "source": [
    "x = 27\n",
    "while x > 1:\n",
    "    print(x)\n",
    "    x = x / 2\n",
    "print(x)"
   ]
  },
  {
   "cell_type": "markdown",
   "id": "118f2f47",
   "metadata": {
    "slideshow": {
     "slide_type": "slide"
    }
   },
   "source": [
    "# Exercise\n",
    "\n",
    "Write a program that prompts the user to type in numbers. Keep a running sum of the numbers, and print out the total once the user types \"quit\".\n",
    "\n"
   ]
  },
  {
   "cell_type": "markdown",
   "id": "11dec15c",
   "metadata": {
    "slideshow": {
     "slide_type": "fragment"
    }
   },
   "source": [
    "We'll use a loop with a \"sentinel value\". Our sentinel value is \"quit\", and we'll have a \"sentinel loop\" that will keep going until it sees the sentinel value.\n",
    "\n",
    "What's wrong with this attempt?"
   ]
  },
  {
   "cell_type": "code",
   "execution_count": null,
   "id": "84a47680",
   "metadata": {
    "execution": {
     "iopub.execute_input": "2023-06-02T19:13:04.069899Z",
     "iopub.status.busy": "2023-06-02T19:13:04.069647Z",
     "iopub.status.idle": "2023-06-02T19:13:04.395977Z",
     "shell.execute_reply": "2023-06-02T19:13:04.395303Z"
    },
    "tags": [
     "remove-output"
    ]
   },
   "outputs": [],
   "source": [
    "total = 0\n",
    "answer = \"dummy\"\n",
    "\n",
    "while answer != \"quit\":\n",
    "    answer = input(\"Type a number, or 'quit' to stop: \")\n",
    "    total = total + int(answer)\n",
    "    print(\"Sum so far:\" + str(total))\n",
    "\n",
    "print(\"Sum: \" + str(total))"
   ]
  },
  {
   "cell_type": "markdown",
   "id": "30178d0e",
   "metadata": {
    "slideshow": {
     "slide_type": "subslide"
    }
   },
   "source": [
    "When the user types `quit`, the conversion to `int` fails and causes an error.\n",
    "\n",
    "The approach here is similar to a fencepost loop - we need to pull part of the loop out of the loop."
   ]
  },
  {
   "cell_type": "code",
   "execution_count": null,
   "id": "0287a3e6",
   "metadata": {
    "execution": {
     "iopub.execute_input": "2023-06-02T19:13:04.399792Z",
     "iopub.status.busy": "2023-06-02T19:13:04.399469Z",
     "iopub.status.idle": "2023-06-02T19:13:04.422152Z",
     "shell.execute_reply": "2023-06-02T19:13:04.421366Z"
    },
    "tags": [
     "remove-output"
    ]
   },
   "outputs": [],
   "source": [
    "total = 0\n",
    "answer = input(\"Type a number, or 'quit' to stop: \")\n",
    "\n",
    "while answer != \"quit\":\n",
    "    total = total + int(answer)\n",
    "    print(\"Sum so far:\" + str(total))\n",
    "    answer = input(\"Type a number, or 'quit' to stop: \")\n",
    "\n",
    "print(\"Sum: \" + str(total))"
   ]
  },
  {
   "cell_type": "markdown",
   "id": "819b81ab",
   "metadata": {
    "slideshow": {
     "slide_type": "subslide"
    }
   },
   "source": [
    "This pattern is common when dealing with user input.  \n",
    "\n",
    "In some cases, there's another possible solution: set our initial \"dummy\" value to 0 and re-order the statements in the loop."
   ]
  },
  {
   "cell_type": "code",
   "execution_count": null,
   "id": "7c2a6d52",
   "metadata": {
    "execution": {
     "iopub.execute_input": "2023-06-02T19:13:04.425542Z",
     "iopub.status.busy": "2023-06-02T19:13:04.425250Z",
     "iopub.status.idle": "2023-06-02T19:13:04.447788Z",
     "shell.execute_reply": "2023-06-02T19:13:04.446861Z"
    },
    "tags": [
     "remove-output"
    ]
   },
   "outputs": [],
   "source": [
    "total = 0\n",
    "answer = 0\n",
    "\n",
    "while answer != \"quit\":\n",
    "    total = total + int(answer)\n",
    "    print(\"Sum so far:\" + str(total))\n",
    "    answer = input(\"Type a number, or 'quit' to stop: \")\n",
    "\n",
    "print(\"Sum: \" + str(total))"
   ]
  },
  {
   "cell_type": "markdown",
   "id": "220ca77f",
   "metadata": {},
   "source": [
    "One difference here is that we printed \"Sum so far\" before the user entered any numbers.  \n",
    "  \n",
    "For this program, that seems ok, but it might not be for every program.  \n",
    "\n",
    "Picking the right loop structure will take practice!\n"
   ]
  },
  {
   "cell_type": "markdown",
   "id": "571b90f0",
   "metadata": {
    "slideshow": {
     "slide_type": "slide"
    }
   },
   "source": [
    "# Exercise\n",
    "\n",
    "Write a function that generates random numbers between 1 and 10. Stop after 10 rolls, or when a 7 is rolled, whichever comes first. Return `True` if a 7 was rolled, or `False` if the roll limit is reached.\n",
    "\n"
   ]
  },
  {
   "cell_type": "code",
   "execution_count": null,
   "id": "c085e1fa",
   "metadata": {
    "execution": {
     "iopub.execute_input": "2023-06-02T19:13:04.451186Z",
     "iopub.status.busy": "2023-06-02T19:13:04.450927Z",
     "iopub.status.idle": "2023-06-02T19:13:04.455130Z",
     "shell.execute_reply": "2023-06-02T19:13:04.454519Z"
    },
    "slideshow": {
     "slide_type": "fragment"
    },
    "tags": [
     "remove-output"
    ]
   },
   "outputs": [],
   "source": [
    "import random\n",
    "def roll():\n",
    "    for i in range(10):\n",
    "        roll = random.randint(1, 10)\n",
    "        if roll == 7:\n",
    "            # ???\n",
    "        "
   ]
  },
  {
   "cell_type": "markdown",
   "id": "2014985b",
   "metadata": {
    "slideshow": {
     "slide_type": "subslide"
    }
   },
   "source": [
    "## Side note: generating random numbers\n",
    "\n",
    "You can generate random integers with the function:\n",
    "\n",
    "`random.randint(a, b)`: Return a random integer N such that `a <= N <= b`. \n",
    "\n",
    "* In order to use this, you must add `import random` at the top of your program. \n",
    "* This makes the random **module** available for use.\n",
    "  * A **module** is a collection of related functions. \n",
    "  * Python provides many useful built-in modules. \n",
    "  * You can also find and install modules that other people have written. \n",
    "  * We'll touch on modules more as the term goes on.\n",
    "\n",
    "[random.randint() function reference](https://docs.python.org/3/library/random.html#random.randint)"
   ]
  },
  {
   "cell_type": "markdown",
   "id": "e7305d1f",
   "metadata": {
    "slideshow": {
     "slide_type": "subslide"
    }
   },
   "source": [
    "First attempt... is it correct?"
   ]
  },
  {
   "cell_type": "code",
   "execution_count": null,
   "id": "fbddd3bc",
   "metadata": {
    "execution": {
     "iopub.execute_input": "2023-06-02T19:13:04.458422Z",
     "iopub.status.busy": "2023-06-02T19:13:04.458166Z",
     "iopub.status.idle": "2023-06-02T19:13:04.462982Z",
     "shell.execute_reply": "2023-06-02T19:13:04.462396Z"
    },
    "slideshow": {
     "slide_type": "-"
    }
   },
   "outputs": [],
   "source": [
    "import random\n",
    "def roll():\n",
    "    for i in range(10):\n",
    "        roll = random.randint(1, 10)\n",
    "        if roll == 7:\n",
    "            return True\n",
    "        else: \n",
    "            return False\n",
    "roll()"
   ]
  },
  {
   "cell_type": "markdown",
   "id": "2628cdb4",
   "metadata": {
    "slideshow": {
     "slide_type": "subslide"
    }
   },
   "source": [
    "## First question: How can we test whether it's correct?\n",
    "\n",
    "The probability of at least one `7` in 10 rolls is: `1 - (90% ^ 10)`, or about 65%.  \n",
    "\n",
    "We could run the code above a bunch of times by hand, and keep a count to see if we're close...  \n",
    "\n",
    "Or we can use code to do it for us!"
   ]
  },
  {
   "cell_type": "code",
   "execution_count": null,
   "id": "e047ea29",
   "metadata": {
    "execution": {
     "iopub.execute_input": "2023-06-02T19:13:04.466313Z",
     "iopub.status.busy": "2023-06-02T19:13:04.466043Z",
     "iopub.status.idle": "2023-06-02T19:13:04.481107Z",
     "shell.execute_reply": "2023-06-02T19:13:04.480367Z"
    },
    "slideshow": {
     "slide_type": "subslide"
    }
   },
   "outputs": [],
   "source": [
    "count = 0\n",
    "iterations = 10000\n",
    "expected_sevens = (1 - (0.9 ** 10)) * iterations\n",
    "\n",
    "for i in range(0, iterations):\n",
    "    if roll() == True:\n",
    "        count = count + 1\n",
    "\n",
    "print(\"Rolled a 7 \" + str(count) + \"/\" + str(iterations) + \" times\")\n",
    "print(\"Expected number of 7s is ~\" + str(int(expected_sevens)))"
   ]
  },
  {
   "cell_type": "markdown",
   "id": "982cce1f",
   "metadata": {
    "slideshow": {
     "slide_type": "fragment"
    }
   },
   "source": [
    "The counts are way off... what's the logic error?"
   ]
  },
  {
   "cell_type": "code",
   "execution_count": null,
   "id": "1a00cd3c",
   "metadata": {
    "execution": {
     "iopub.execute_input": "2023-06-02T19:13:04.484467Z",
     "iopub.status.busy": "2023-06-02T19:13:04.484214Z",
     "iopub.status.idle": "2023-06-02T19:13:04.487938Z",
     "shell.execute_reply": "2023-06-02T19:13:04.487317Z"
    },
    "slideshow": {
     "slide_type": "subslide"
    }
   },
   "outputs": [],
   "source": [
    "import random\n",
    "def roll():\n",
    "    for i in range(10):\n",
    "        roll = random.randint(1, 10)\n",
    "        if roll == 7:\n",
    "            return True\n",
    "    return False"
   ]
  },
  {
   "cell_type": "code",
   "execution_count": null,
   "id": "cb9083ab",
   "metadata": {
    "execution": {
     "iopub.execute_input": "2023-06-02T19:13:04.491308Z",
     "iopub.status.busy": "2023-06-02T19:13:04.491011Z",
     "iopub.status.idle": "2023-06-02T19:13:04.552720Z",
     "shell.execute_reply": "2023-06-02T19:13:04.551694Z"
    },
    "slideshow": {
     "slide_type": "subslide"
    }
   },
   "outputs": [],
   "source": [
    "count = 0\n",
    "iterations = 10000\n",
    "expected_sevens = (1 - (0.9 ** 10)) * iterations\n",
    "\n",
    "for i in range(0, iterations):\n",
    "    if roll() == True:\n",
    "        count = count + 1\n",
    "\n",
    "print(\"Rolled a 7 \" + str(count) + \"/\" + str(iterations) + \" times\")\n",
    "print(\"Expected number of 7s is ~\" + str(int(expected_sevens)))"
   ]
  },
  {
   "cell_type": "markdown",
   "id": "f057b0b7",
   "metadata": {},
   "source": [
    "That looks right!\n",
    "\n",
    "Returning out of loops can be tricky. Be sure to think about whether it's ok to skip the rest of the loop iterations and the rest of the function when you return."
   ]
  },
  {
   "cell_type": "markdown",
   "id": "ab94d165",
   "metadata": {
    "slideshow": {
     "slide_type": "slide"
    }
   },
   "source": [
    "# Controlling loops\n",
    "\n",
    "* The `break` keyword will stop a loop and continue on to the code immediately after a loop.\n",
    "* The `continue` keyword will skip to the next iteration of the loop.\n",
    "* `return` will also stop a loop, as we saw. Be sure that skipping the rest of the function is correct before doing this.\n"
   ]
  },
  {
   "cell_type": "markdown",
   "id": "e16f65e9",
   "metadata": {
    "slideshow": {
     "slide_type": "subslide"
    }
   },
   "source": [
    "## `break`\n",
    "\n",
    "Let's revisit the number-adder"
   ]
  },
  {
   "cell_type": "code",
   "execution_count": null,
   "id": "5023d3d0",
   "metadata": {
    "execution": {
     "iopub.execute_input": "2023-06-02T19:13:04.556681Z",
     "iopub.status.busy": "2023-06-02T19:13:04.556334Z",
     "iopub.status.idle": "2023-06-02T19:13:04.578281Z",
     "shell.execute_reply": "2023-06-02T19:13:04.577385Z"
    },
    "tags": [
     "remove-output"
    ]
   },
   "outputs": [],
   "source": [
    "total = 0\n",
    "while True:\n",
    "    answer = input(\"Type a number, or 'quit' to stop: \")\n",
    "    if answer == \"quit\":\n",
    "        break\n",
    "    total = total + int(answer)\n",
    "    print(\"Sum so far:\" + str(total))\n",
    "print(\"Final sum: \" + str(total))"
   ]
  },
  {
   "cell_type": "markdown",
   "id": "c3c14e68",
   "metadata": {},
   "source": [
    "`while True: ... break` is another common loop pattern."
   ]
  },
  {
   "cell_type": "markdown",
   "id": "13a6474c",
   "metadata": {
    "slideshow": {
     "slide_type": "subslide"
    }
   },
   "source": [
    "## `continue`\n",
    "\n",
    "`continue` skips the rest of the current iteration, and starts at the beginning of the next iteration (if there are any left).  \n",
    "  \n",
    "\n",
    "`continue` is never **necessary**. You can always recreate the same logic with nested `if/else` statements. But it can help improve readability by letting you avoid deep nesting of conditionals."
   ]
  },
  {
   "cell_type": "code",
   "execution_count": null,
   "id": "a001c39f",
   "metadata": {
    "execution": {
     "iopub.execute_input": "2023-06-02T19:13:04.582274Z",
     "iopub.status.busy": "2023-06-02T19:13:04.581776Z",
     "iopub.status.idle": "2023-06-02T19:13:04.588142Z",
     "shell.execute_reply": "2023-06-02T19:13:04.587499Z"
    },
    "slideshow": {
     "slide_type": "subslide"
    },
    "tags": [
     "remove-output"
    ]
   },
   "outputs": [],
   "source": [
    "for x in range(10000):\n",
    "    if x % 7 == 0:\n",
    "        y = random.randint(1, 10)\n",
    "        if y % 5 == 0:\n",
    "            z = random.randint(1, 100)\n",
    "            if z % 23 == 0:\n",
    "                print(\"made it! pretend this block contains lots and lots of code\")"
   ]
  },
  {
   "cell_type": "code",
   "execution_count": null,
   "id": "c8ff9c76",
   "metadata": {
    "execution": {
     "iopub.execute_input": "2023-06-02T19:13:04.591216Z",
     "iopub.status.busy": "2023-06-02T19:13:04.590953Z",
     "iopub.status.idle": "2023-06-02T19:13:04.597230Z",
     "shell.execute_reply": "2023-06-02T19:13:04.596557Z"
    },
    "tags": [
     "remove-output"
    ]
   },
   "outputs": [],
   "source": [
    "# vs.\n",
    "for x in range(10000):\n",
    "    if x % 7 != 0:\n",
    "        continue\n",
    "        \n",
    "    y = random.randint(1, 10)\n",
    "    if y % 5 != 0:\n",
    "        continue\n",
    "        \n",
    "    z = random.randint(1, 100)\n",
    "    if z % 23 != 0:\n",
    "        continue\n",
    "    \n",
    "    print(\"made it! pretend this block contains lots and lots of code\")"
   ]
  },
  {
   "cell_type": "markdown",
   "id": "ed7bc744",
   "metadata": {
    "slideshow": {
     "slide_type": "slide"
    }
   },
   "source": [
    "# Exercise\n",
    "\n",
    "* Write a program that plays an adding game.\n",
    "  * Ask the user to solve random addition problems with 2-5 numbers.\n",
    "  * The user gets 1 point for a correct answer, 0 for incorrect.\n",
    "  * The program stops after 3 incorrect answers."
   ]
  },
  {
   "cell_type": "markdown",
   "id": "1c180d3b",
   "metadata": {
    "slideshow": {
     "slide_type": "subslide"
    }
   },
   "source": [
    "### This is more complex than our other exercises. \n",
    "\n",
    "Let's break it down (functional decomposition):  \n",
    "\n",
    "* There are 2 major parts to our program:\n",
    "  * Outer game loop: let the player take a turn, track score, end the game after incorrect answers\n",
    "  * Handling a single problem: generate a problem, present it, check the answer, report correctness\n",
    "* We could decompose this further - each of the things listed on those lines could be its own function. \n",
    "  * However, we haven't learned all the language tools we need for that yet (lists, tuples)"
   ]
  },
  {
   "cell_type": "code",
   "execution_count": null,
   "id": "008ae91b",
   "metadata": {
    "execution": {
     "iopub.execute_input": "2023-06-02T19:13:04.600317Z",
     "iopub.status.busy": "2023-06-02T19:13:04.600061Z",
     "iopub.status.idle": "2023-06-02T19:13:04.604141Z",
     "shell.execute_reply": "2023-06-02T19:13:04.603432Z"
    },
    "slideshow": {
     "slide_type": "subslide"
    }
   },
   "outputs": [],
   "source": [
    "def turn():\n",
    "    number_count = random.randint(2, 5)\n",
    "    expected_sum = 0\n",
    "    problem = ''\n",
    "    \n",
    "    for i in range(number_count):\n",
    "        number = random.randint(1, 20)\n",
    "        expected_sum = expected_sum + number\n",
    "        problem = problem + str(number) + \" + \"\n",
    "\n",
    "    problem = problem + \" = \"\n",
    "    print(problem)"
   ]
  },
  {
   "cell_type": "code",
   "execution_count": null,
   "id": "0073e430",
   "metadata": {
    "execution": {
     "iopub.execute_input": "2023-06-02T19:13:04.607424Z",
     "iopub.status.busy": "2023-06-02T19:13:04.607155Z",
     "iopub.status.idle": "2023-06-02T19:13:04.610710Z",
     "shell.execute_reply": "2023-06-02T19:13:04.610087Z"
    }
   },
   "outputs": [],
   "source": [
    "turn()"
   ]
  },
  {
   "cell_type": "markdown",
   "id": "8d1498a7",
   "metadata": {
    "slideshow": {
     "slide_type": "subslide"
    }
   },
   "source": [
    "Wait, we've seen this bug before..."
   ]
  },
  {
   "cell_type": "markdown",
   "id": "8ea2c73f",
   "metadata": {
    "slideshow": {
     "slide_type": "fragment"
    }
   },
   "source": [
    "Fenceposts!\n",
    "\n",
    "`|===|===|===| `  \n",
    "`5 + 3 + 7 + 10`"
   ]
  },
  {
   "cell_type": "markdown",
   "id": "122c2a5b",
   "metadata": {
    "slideshow": {
     "slide_type": "subslide"
    }
   },
   "source": [
    "Pull the final number out of the loop to avoid printing an extra `+`"
   ]
  },
  {
   "cell_type": "code",
   "execution_count": null,
   "id": "61e83173",
   "metadata": {
    "execution": {
     "iopub.execute_input": "2023-06-02T19:13:04.614030Z",
     "iopub.status.busy": "2023-06-02T19:13:04.613760Z",
     "iopub.status.idle": "2023-06-02T19:13:04.618087Z",
     "shell.execute_reply": "2023-06-02T19:13:04.617401Z"
    },
    "slideshow": {
     "slide_type": "-"
    }
   },
   "outputs": [],
   "source": [
    "def turn():\n",
    "    number_count = random.randint(2, 5)\n",
    "    expected_sum = 0\n",
    "    problem = ''\n",
    "    \n",
    "    for i in range(number_count-1):\n",
    "        number = random.randint(1, 20)\n",
    "        expected_sum = expected_sum + number\n",
    "        problem = problem + str(number) + \" + \"\n",
    "\n",
    "    number = random.randint(1, 20)\n",
    "    expected_sum = expected_sum + number\n",
    "    problem = problem + str(number) + \" = \"\n",
    "\n",
    "    print(problem)"
   ]
  },
  {
   "cell_type": "code",
   "execution_count": null,
   "id": "714f1e1f",
   "metadata": {
    "execution": {
     "iopub.execute_input": "2023-06-02T19:13:04.621104Z",
     "iopub.status.busy": "2023-06-02T19:13:04.620842Z",
     "iopub.status.idle": "2023-06-02T19:13:04.624084Z",
     "shell.execute_reply": "2023-06-02T19:13:04.623448Z"
    }
   },
   "outputs": [],
   "source": [
    "turn()"
   ]
  },
  {
   "cell_type": "markdown",
   "id": "4b473fbe",
   "metadata": {
    "slideshow": {
     "slide_type": "subslide"
    }
   },
   "source": [
    "Now, a function which handles asking for input, and checking the answer against an expected solution"
   ]
  },
  {
   "cell_type": "code",
   "execution_count": null,
   "id": "1fd9cc9c",
   "metadata": {
    "execution": {
     "iopub.execute_input": "2023-06-02T19:13:04.627148Z",
     "iopub.status.busy": "2023-06-02T19:13:04.626886Z",
     "iopub.status.idle": "2023-06-02T19:13:04.630724Z",
     "shell.execute_reply": "2023-06-02T19:13:04.629954Z"
    },
    "slideshow": {
     "slide_type": "-"
    }
   },
   "outputs": [],
   "source": [
    "def prompt_and_check(solution):\n",
    "    guess = input()\n",
    "    \n",
    "    if guess == solution:\n",
    "        print(\"Correct! 1 point\")\n",
    "        return True\n",
    "    else:\n",
    "        print(\"BZZZT, wrong answer! The correct answer was: \" + str(solution))\n",
    "        return False    "
   ]
  },
  {
   "cell_type": "code",
   "execution_count": null,
   "id": "286a62c8",
   "metadata": {
    "execution": {
     "iopub.execute_input": "2023-06-02T19:13:04.634037Z",
     "iopub.status.busy": "2023-06-02T19:13:04.633755Z",
     "iopub.status.idle": "2023-06-02T19:13:04.660414Z",
     "shell.execute_reply": "2023-06-02T19:13:04.659788Z"
    },
    "tags": [
     "remove-output"
    ]
   },
   "outputs": [],
   "source": [
    "prompt_and_check(34)"
   ]
  },
  {
   "cell_type": "markdown",
   "id": "7a126ab0",
   "metadata": {
    "slideshow": {
     "slide_type": "subslide"
    }
   },
   "source": [
    "## What's wrong?\n",
    "\n",
    "Why isn't `34` == `34` ??\n",
    "\n",
    "Step-thru debugging might be useful here... let's try it. \n",
    "\n",
    "repl.it: [Lecture 5 exercises: debugging number sum game](https://replit.com/@cosi-10a-fall23/Number-sum-game-debugging#)"
   ]
  },
  {
   "cell_type": "code",
   "execution_count": null,
   "id": "886dc479",
   "metadata": {
    "execution": {
     "iopub.execute_input": "2023-06-02T19:13:04.663945Z",
     "iopub.status.busy": "2023-06-02T19:13:04.663676Z",
     "iopub.status.idle": "2023-06-02T19:13:04.668697Z",
     "shell.execute_reply": "2023-06-02T19:13:04.667892Z"
    },
    "slideshow": {
     "slide_type": "fragment"
    }
   },
   "outputs": [],
   "source": [
    "34 == \"34\""
   ]
  },
  {
   "cell_type": "markdown",
   "id": "8fec0b2e",
   "metadata": {
    "slideshow": {
     "slide_type": "subslide"
    }
   },
   "source": [
    "Convert input to an `int` before comparing"
   ]
  },
  {
   "cell_type": "code",
   "execution_count": null,
   "id": "c5b5d870",
   "metadata": {
    "execution": {
     "iopub.execute_input": "2023-06-02T19:13:04.672603Z",
     "iopub.status.busy": "2023-06-02T19:13:04.672332Z",
     "iopub.status.idle": "2023-06-02T19:13:04.675956Z",
     "shell.execute_reply": "2023-06-02T19:13:04.675392Z"
    },
    "slideshow": {
     "slide_type": "-"
    }
   },
   "outputs": [],
   "source": [
    "def prompt_and_check(solution):\n",
    "    guess = int(input())\n",
    "    \n",
    "    if guess == solution:\n",
    "        print(\"Correct! 1 point\")\n",
    "        return True\n",
    "    else:\n",
    "        print(\"BZZZT, wrong answer! The correct answer was: \" + str(solution))\n",
    "        return False    "
   ]
  },
  {
   "cell_type": "code",
   "execution_count": null,
   "id": "f2104af6",
   "metadata": {
    "execution": {
     "iopub.execute_input": "2023-06-02T19:13:04.678856Z",
     "iopub.status.busy": "2023-06-02T19:13:04.678598Z",
     "iopub.status.idle": "2023-06-02T19:13:04.706250Z",
     "shell.execute_reply": "2023-06-02T19:13:04.705494Z"
    },
    "tags": [
     "remove-output"
    ]
   },
   "outputs": [],
   "source": [
    "prompt_and_check(34)"
   ]
  },
  {
   "cell_type": "markdown",
   "id": "7f85a05b",
   "metadata": {
    "slideshow": {
     "slide_type": "subslide"
    }
   },
   "source": [
    "Let's incorporate `prompt_and_check()` into `turn()`:"
   ]
  },
  {
   "cell_type": "code",
   "execution_count": null,
   "id": "ff077628",
   "metadata": {
    "execution": {
     "iopub.execute_input": "2023-06-02T19:13:04.709487Z",
     "iopub.status.busy": "2023-06-02T19:13:04.709223Z",
     "iopub.status.idle": "2023-06-02T19:13:04.713866Z",
     "shell.execute_reply": "2023-06-02T19:13:04.713219Z"
    },
    "slideshow": {
     "slide_type": "-"
    }
   },
   "outputs": [],
   "source": [
    "def turn():\n",
    "    number_count = random.randint(2, 5)\n",
    "    expected_sum = 0\n",
    "    problem = ''\n",
    "    for i in range(number_count-1):\n",
    "        number = random.randint(1, 20)\n",
    "        expected_sum = expected_sum + number\n",
    "        problem = problem + str(number) + \" + \"\n",
    "\n",
    "    number = random.randint(1, 20)\n",
    "    expected_sum = expected_sum + number\n",
    "    problem = problem + str(number)\n",
    "\n",
    "    print(problem)\n",
    "    return prompt_and_check(expected_sum)"
   ]
  },
  {
   "cell_type": "code",
   "execution_count": null,
   "id": "b2903c8c",
   "metadata": {
    "execution": {
     "iopub.execute_input": "2023-06-02T19:13:04.717018Z",
     "iopub.status.busy": "2023-06-02T19:13:04.716700Z",
     "iopub.status.idle": "2023-06-02T19:13:04.752932Z",
     "shell.execute_reply": "2023-06-02T19:13:04.751957Z"
    },
    "tags": [
     "remove-output"
    ]
   },
   "outputs": [],
   "source": [
    "turn()"
   ]
  },
  {
   "cell_type": "markdown",
   "id": "14dce698",
   "metadata": {
    "slideshow": {
     "slide_type": "subslide"
    }
   },
   "source": [
    "Finally, the outer game loop. "
   ]
  },
  {
   "cell_type": "code",
   "execution_count": null,
   "id": "f423766e",
   "metadata": {
    "execution": {
     "iopub.execute_input": "2023-06-02T19:13:04.756713Z",
     "iopub.status.busy": "2023-06-02T19:13:04.756409Z",
     "iopub.status.idle": "2023-06-02T19:13:04.760729Z",
     "shell.execute_reply": "2023-06-02T19:13:04.760055Z"
    }
   },
   "outputs": [],
   "source": [
    "def game():\n",
    "    print(\"Welcome to the number sum game!\")\n",
    "\n",
    "    errors = 0\n",
    "    points = 0\n",
    "    \n",
    "    while errors < 3:\n",
    "        turn_result = turn()\n",
    "        if turn_result:\n",
    "            points = points + 1\n",
    "        else:\n",
    "            errors = errors + 1\n",
    "            \n",
    "    print(\"You earned \" + str(points) + \" total points!\")"
   ]
  },
  {
   "cell_type": "code",
   "execution_count": null,
   "id": "6c2f36e5",
   "metadata": {
    "execution": {
     "iopub.execute_input": "2023-06-02T19:13:04.763926Z",
     "iopub.status.busy": "2023-06-02T19:13:04.763479Z",
     "iopub.status.idle": "2023-06-02T19:13:04.804445Z",
     "shell.execute_reply": "2023-06-02T19:13:04.803373Z"
    },
    "slideshow": {
     "slide_type": "-"
    },
    "tags": [
     "remove-output"
    ]
   },
   "outputs": [],
   "source": [
    "game()"
   ]
  },
  {
   "cell_type": "markdown",
   "id": "2460feed",
   "metadata": {},
   "source": [
    "We've handled most of the complexity already, so this is pretty simple!  \n",
    "  \n",
    "This is an example of why decomposing programs is so valuable - it helps you to build (and test) piece by piece. "
   ]
  }
 ],
 "metadata": {
  "celltoolbar": "Slideshow",
  "kernelspec": {
   "display_name": "Python 3 (ipykernel)",
   "language": "python",
   "name": "python3"
  },
  "language_info": {
   "codemirror_mode": {
    "name": "ipython",
    "version": 3
   },
   "file_extension": ".py",
   "mimetype": "text/x-python",
   "name": "python",
   "nbconvert_exporter": "python",
   "pygments_lexer": "ipython3",
   "version": "3.10.9"
  }
 },
 "nbformat": 4,
 "nbformat_minor": 5
}
