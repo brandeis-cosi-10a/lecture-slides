{
 "cells": [
  {
   "cell_type": "markdown",
   "id": "1ee8a1d2",
   "metadata": {
    "slideshow": {
     "slide_type": "slide"
    }
   },
   "source": [
    "# Exceptions and Unit Tests\n",
    "\n",
    "<style>\n",
    "section.present > section.present { \n",
    "    max-height: 90%; \n",
    "    overflow-y: scroll;\n",
    "}\n",
    "</style>\n",
    "\n",
    "<small><a href=\"https://colab.research.google.com/github/brandeis-jdelfino/cosi-10a/blob/main/lectures/notebooks/x_exceptions_unit_tests.ipynb\">Link to interactive slides on Google Colab</a></small>"
   ]
  },
  {
   "cell_type": "markdown",
   "id": "f3cea000",
   "metadata": {
    "slideshow": {
     "slide_type": "slide"
    }
   },
   "source": [
    "## Exercise\n",
    "\n",
    "Write a function that checks whether a string variable can be converted to an float"
   ]
  },
  {
   "cell_type": "code",
   "execution_count": null,
   "id": "31088917",
   "metadata": {
    "execution": {
     "iopub.execute_input": "2023-08-23T14:33:11.922324Z",
     "iopub.status.busy": "2023-08-23T14:33:11.921960Z",
     "iopub.status.idle": "2023-08-23T14:33:11.938800Z",
     "shell.execute_reply": "2023-08-23T14:33:11.938000Z"
    }
   },
   "outputs": [],
   "source": [
    "# attempt 1\n",
    "def is_valid_float(value):\n",
    "    # isdigit() is a string method that returns True if all characters in the string are digits\n",
    "    return value.isdigit()"
   ]
  },
  {
   "cell_type": "code",
   "execution_count": null,
   "id": "7367a943",
   "metadata": {
    "execution": {
     "iopub.execute_input": "2023-08-23T14:33:11.944085Z",
     "iopub.status.busy": "2023-08-23T14:33:11.943670Z",
     "iopub.status.idle": "2023-08-23T14:33:11.952041Z",
     "shell.execute_reply": "2023-08-23T14:33:11.951324Z"
    }
   },
   "outputs": [],
   "source": [
    "is_valid_float(\"1\")"
   ]
  },
  {
   "cell_type": "code",
   "execution_count": null,
   "id": "082048c8",
   "metadata": {
    "execution": {
     "iopub.execute_input": "2023-08-23T14:33:11.957012Z",
     "iopub.status.busy": "2023-08-23T14:33:11.956428Z",
     "iopub.status.idle": "2023-08-23T14:33:11.963043Z",
     "shell.execute_reply": "2023-08-23T14:33:11.961622Z"
    }
   },
   "outputs": [],
   "source": [
    "is_valid_float(\"1.0\")"
   ]
  },
  {
   "cell_type": "code",
   "execution_count": null,
   "id": "a6922052",
   "metadata": {
    "execution": {
     "iopub.execute_input": "2023-08-23T14:33:11.967143Z",
     "iopub.status.busy": "2023-08-23T14:33:11.966758Z",
     "iopub.status.idle": "2023-08-23T14:33:11.971360Z",
     "shell.execute_reply": "2023-08-23T14:33:11.970305Z"
    },
    "slideshow": {
     "slide_type": "subslide"
    }
   },
   "outputs": [],
   "source": [
    "# attempt 2\n",
    "def is_valid_float(value):\n",
    "    for char in value:\n",
    "        if not (char.isdigit() or char == '.'):\n",
    "            # isdigit() is a string method that returns True if all characters in the string are digits\n",
    "            return False\n",
    "    return True"
   ]
  },
  {
   "cell_type": "code",
   "execution_count": null,
   "id": "7b6fc5ae",
   "metadata": {
    "execution": {
     "iopub.execute_input": "2023-08-23T14:33:11.975405Z",
     "iopub.status.busy": "2023-08-23T14:33:11.974846Z",
     "iopub.status.idle": "2023-08-23T14:33:11.981173Z",
     "shell.execute_reply": "2023-08-23T14:33:11.979931Z"
    }
   },
   "outputs": [],
   "source": [
    "is_valid_float(\"1\")"
   ]
  },
  {
   "cell_type": "code",
   "execution_count": null,
   "id": "44a18448",
   "metadata": {
    "execution": {
     "iopub.execute_input": "2023-08-23T14:33:11.984903Z",
     "iopub.status.busy": "2023-08-23T14:33:11.984556Z",
     "iopub.status.idle": "2023-08-23T14:33:11.989710Z",
     "shell.execute_reply": "2023-08-23T14:33:11.989007Z"
    }
   },
   "outputs": [],
   "source": [
    "is_valid_float(\"1.0\")"
   ]
  },
  {
   "cell_type": "markdown",
   "id": "80f5dc82",
   "metadata": {
    "slideshow": {
     "slide_type": "subslide"
    }
   },
   "source": [
    "But wait..."
   ]
  },
  {
   "cell_type": "code",
   "execution_count": null,
   "id": "c72a4f92",
   "metadata": {
    "execution": {
     "iopub.execute_input": "2023-08-23T14:33:11.994166Z",
     "iopub.status.busy": "2023-08-23T14:33:11.993425Z",
     "iopub.status.idle": "2023-08-23T14:33:11.999621Z",
     "shell.execute_reply": "2023-08-23T14:33:11.998692Z"
    }
   },
   "outputs": [],
   "source": [
    "is_valid_float(\"-1.0\")"
   ]
  },
  {
   "cell_type": "code",
   "execution_count": null,
   "id": "9a5dab19",
   "metadata": {
    "execution": {
     "iopub.execute_input": "2023-08-23T14:33:12.004115Z",
     "iopub.status.busy": "2023-08-23T14:33:12.003778Z",
     "iopub.status.idle": "2023-08-23T14:33:12.009296Z",
     "shell.execute_reply": "2023-08-23T14:33:12.008053Z"
    }
   },
   "outputs": [],
   "source": [
    "is_valid_float(\"1.0.0\")"
   ]
  },
  {
   "cell_type": "markdown",
   "id": "97c6e1c6",
   "metadata": {
    "slideshow": {
     "slide_type": "fragment"
    }
   },
   "source": [
    "We could keep going, but there's an easier way..."
   ]
  },
  {
   "cell_type": "markdown",
   "id": "35e21c4f",
   "metadata": {
    "slideshow": {
     "slide_type": "slide"
    }
   },
   "source": [
    "# Exceptions"
   ]
  },
  {
   "cell_type": "code",
   "execution_count": null,
   "id": "04bfe926",
   "metadata": {
    "execution": {
     "iopub.execute_input": "2023-08-23T14:33:12.014474Z",
     "iopub.status.busy": "2023-08-23T14:33:12.014158Z",
     "iopub.status.idle": "2023-08-23T14:33:12.329680Z",
     "shell.execute_reply": "2023-08-23T14:33:12.328903Z"
    },
    "tags": [
     "raises-exception"
    ]
   },
   "outputs": [],
   "source": [
    "float(\"abc\")"
   ]
  },
  {
   "cell_type": "markdown",
   "id": "ccdc344e",
   "metadata": {},
   "source": [
    "This code raises a `ValueError`, which is an **exception**. There are many types of exceptions.\n",
    "\n",
    "An **exception** is the result of an error detected while a program is running.\n",
    "\n",
    "We say an exception is **raised** when an error occurs.\n",
    "\n",
    "Exceptions can be **handled**, or **caught**.\n",
    "\n",
    "**Unhandled** exceptions will terminate the program."
   ]
  },
  {
   "cell_type": "markdown",
   "id": "d10ca8b8",
   "metadata": {
    "slideshow": {
     "slide_type": "subslide"
    }
   },
   "source": [
    "## Handling exceptions\n",
    "\n",
    "You can use the `try` and `except` keywords in Python to catch exceptions."
   ]
  },
  {
   "cell_type": "code",
   "execution_count": null,
   "id": "e2706fcb",
   "metadata": {
    "execution": {
     "iopub.execute_input": "2023-08-23T14:33:12.333583Z",
     "iopub.status.busy": "2023-08-23T14:33:12.333311Z",
     "iopub.status.idle": "2023-08-23T14:33:12.337608Z",
     "shell.execute_reply": "2023-08-23T14:33:12.337019Z"
    }
   },
   "outputs": [],
   "source": [
    "try:\n",
    "    x = float(\"1.0\")\n",
    "except ValueError:\n",
    "    print(\"Couldn't convert!\")\n",
    "    x = None\n",
    "print(x)"
   ]
  },
  {
   "cell_type": "code",
   "execution_count": null,
   "id": "6a5d8d42",
   "metadata": {
    "execution": {
     "iopub.execute_input": "2023-08-23T14:33:12.341635Z",
     "iopub.status.busy": "2023-08-23T14:33:12.341286Z",
     "iopub.status.idle": "2023-08-23T14:33:12.345109Z",
     "shell.execute_reply": "2023-08-23T14:33:12.344480Z"
    }
   },
   "outputs": [],
   "source": [
    "try:\n",
    "    x = float(\"abc\")\n",
    "except ValueError:\n",
    "    print(\"Couldn't convert!\")\n",
    "    x = None\n",
    "print(x)"
   ]
  },
  {
   "cell_type": "markdown",
   "id": "688b0c19",
   "metadata": {
    "slideshow": {
     "slide_type": "subslide"
    }
   },
   "source": [
    "So, returning to our invalid float detector... We can rely on all the checking that the conversion already does for us by just catching the exception!"
   ]
  },
  {
   "cell_type": "code",
   "execution_count": null,
   "id": "62cd6e89",
   "metadata": {
    "execution": {
     "iopub.execute_input": "2023-08-23T14:33:12.348323Z",
     "iopub.status.busy": "2023-08-23T14:33:12.347971Z",
     "iopub.status.idle": "2023-08-23T14:33:12.351463Z",
     "shell.execute_reply": "2023-08-23T14:33:12.350839Z"
    }
   },
   "outputs": [],
   "source": [
    "def is_valid_float(value):\n",
    "    try:\n",
    "        x = float(value)\n",
    "    except ValueError:\n",
    "        return False\n",
    "    return True"
   ]
  },
  {
   "cell_type": "code",
   "execution_count": null,
   "id": "ac3db781",
   "metadata": {
    "execution": {
     "iopub.execute_input": "2023-08-23T14:33:12.354411Z",
     "iopub.status.busy": "2023-08-23T14:33:12.354152Z",
     "iopub.status.idle": "2023-08-23T14:33:12.358708Z",
     "shell.execute_reply": "2023-08-23T14:33:12.358109Z"
    }
   },
   "outputs": [],
   "source": [
    "is_valid_float(\"1\")"
   ]
  },
  {
   "cell_type": "code",
   "execution_count": null,
   "id": "d2e282f4",
   "metadata": {
    "execution": {
     "iopub.execute_input": "2023-08-23T14:33:12.361676Z",
     "iopub.status.busy": "2023-08-23T14:33:12.361416Z",
     "iopub.status.idle": "2023-08-23T14:33:12.365739Z",
     "shell.execute_reply": "2023-08-23T14:33:12.364873Z"
    }
   },
   "outputs": [],
   "source": [
    "is_valid_float(\"1.0\")"
   ]
  },
  {
   "cell_type": "code",
   "execution_count": null,
   "id": "dc335c11",
   "metadata": {
    "execution": {
     "iopub.execute_input": "2023-08-23T14:33:12.368978Z",
     "iopub.status.busy": "2023-08-23T14:33:12.368705Z",
     "iopub.status.idle": "2023-08-23T14:33:12.372830Z",
     "shell.execute_reply": "2023-08-23T14:33:12.372251Z"
    }
   },
   "outputs": [],
   "source": [
    "is_valid_float(\"-1.0\")"
   ]
  },
  {
   "cell_type": "code",
   "execution_count": null,
   "id": "6dfa5228",
   "metadata": {
    "execution": {
     "iopub.execute_input": "2023-08-23T14:33:12.376374Z",
     "iopub.status.busy": "2023-08-23T14:33:12.376094Z",
     "iopub.status.idle": "2023-08-23T14:33:12.380154Z",
     "shell.execute_reply": "2023-08-23T14:33:12.379543Z"
    }
   },
   "outputs": [],
   "source": [
    "is_valid_float(\"1.0.0\")"
   ]
  },
  {
   "cell_type": "markdown",
   "id": "45dd00a0",
   "metadata": {
    "slideshow": {
     "slide_type": "subslide"
    }
   },
   "source": [
    "There are many possible variations of try/except blocks. We're only going to cover the most basic form:\n",
    "\n",
    "```\n",
    "try:\n",
    "  <statements>\n",
    "except <error type>:\n",
    "  <statements>\n",
    "```"
   ]
  },
  {
   "cell_type": "markdown",
   "id": "7bf141be",
   "metadata": {
    "slideshow": {
     "slide_type": "subslide"
    }
   },
   "source": [
    "The `error type` in the `except` clause specifies what kind of error to catch. Other types of errors are not caught."
   ]
  },
  {
   "cell_type": "code",
   "execution_count": null,
   "id": "488618c6",
   "metadata": {
    "execution": {
     "iopub.execute_input": "2023-08-23T14:33:12.383868Z",
     "iopub.status.busy": "2023-08-23T14:33:12.383586Z",
     "iopub.status.idle": "2023-08-23T14:33:12.400518Z",
     "shell.execute_reply": "2023-08-23T14:33:12.399864Z"
    },
    "tags": [
     "raises-exception"
    ]
   },
   "outputs": [],
   "source": [
    "try:\n",
    "    x = float(\"1.0\")\n",
    "    y = x / 0\n",
    "except ValueError:\n",
    "    print(\"Couldn't convert!\")\n",
    "print(\"x = \" + x)"
   ]
  },
  {
   "cell_type": "markdown",
   "id": "49947dea",
   "metadata": {
    "slideshow": {
     "slide_type": "subslide"
    }
   },
   "source": [
    "## Raising exceptions\n",
    "\n",
    "You can raise your own exceptions with the `raise` keyword.\n",
    "\n",
    "You can raise a generic `Exception`, a more specific type of exception ([built in exception type documentation](https://docs.python.org/3/library/exceptions.html#concrete-exceptions)), or even an exception type you define yourself (although we won't cover this)."
   ]
  },
  {
   "cell_type": "code",
   "execution_count": null,
   "id": "618bc077",
   "metadata": {
    "execution": {
     "iopub.execute_input": "2023-08-23T14:33:12.404249Z",
     "iopub.status.busy": "2023-08-23T14:33:12.403902Z",
     "iopub.status.idle": "2023-08-23T14:33:12.426416Z",
     "shell.execute_reply": "2023-08-23T14:33:12.425687Z"
    },
    "tags": [
     "raises-exception"
    ]
   },
   "outputs": [],
   "source": [
    "def be_exceptional():\n",
    "    print(\"before exception\")\n",
    "    raise Exception(\"this is a description\")\n",
    "    print(\"after exception\")\n",
    "\n",
    "be_exceptional()"
   ]
  },
  {
   "cell_type": "markdown",
   "id": "a226df11",
   "metadata": {
    "slideshow": {
     "slide_type": "subslide"
    }
   },
   "source": [
    "## \"Bubbling up\"\n",
    "\n",
    "Recall the \"call stack\" from the Functions lecture: the chain of function calls that leads to the current line of code is called the \"call stack\".\n",
    "\n",
    "Exceptions \"bubble up\" the call stack - they interrupt execution of each function in the call stack until they are handled, or reach the top (and terminate the program). \n",
    "\n",
    "Once a function is interrupted by an exception, the rest of it is skipped, even if a function higher in the call stack handles the exception."
   ]
  },
  {
   "cell_type": "code",
   "execution_count": null,
   "id": "a093677f",
   "metadata": {
    "execution": {
     "iopub.execute_input": "2023-08-23T14:33:12.430445Z",
     "iopub.status.busy": "2023-08-23T14:33:12.430171Z",
     "iopub.status.idle": "2023-08-23T14:33:12.434900Z",
     "shell.execute_reply": "2023-08-23T14:33:12.433897Z"
    },
    "slideshow": {
     "slide_type": "-"
    }
   },
   "outputs": [],
   "source": [
    "def a():\n",
    "    print(\"a1\")\n",
    "    b()\n",
    "    print(\"a2\")\n",
    "\n",
    "def b():\n",
    "    print(\"b1\")\n",
    "    c()\n",
    "    print(\"b2\")\n",
    "    \n",
    "def c():\n",
    "    print(\"c1\")\n",
    "    print(\"c2\")\n",
    "\n",
    "a()"
   ]
  },
  {
   "cell_type": "code",
   "execution_count": null,
   "id": "953fa46b",
   "metadata": {
    "execution": {
     "iopub.execute_input": "2023-08-23T14:33:12.438930Z",
     "iopub.status.busy": "2023-08-23T14:33:12.438605Z",
     "iopub.status.idle": "2023-08-23T14:33:12.473981Z",
     "shell.execute_reply": "2023-08-23T14:33:12.473252Z"
    },
    "slideshow": {
     "slide_type": "subslide"
    },
    "tags": [
     "raises-exception"
    ]
   },
   "outputs": [],
   "source": [
    "def a():\n",
    "    print(\"a1\")\n",
    "    b()\n",
    "    print(\"a2\")\n",
    "\n",
    "def b():\n",
    "    print(\"b1\")\n",
    "    c()\n",
    "    print(\"b2\")\n",
    "    \n",
    "def c():\n",
    "    print(\"c1\")\n",
    "    raise ValueError\n",
    "    print(\"c2\")\n",
    "\n",
    "a()"
   ]
  },
  {
   "cell_type": "code",
   "execution_count": null,
   "id": "8d0e3995",
   "metadata": {
    "execution": {
     "iopub.execute_input": "2023-08-23T14:33:12.477331Z",
     "iopub.status.busy": "2023-08-23T14:33:12.477034Z",
     "iopub.status.idle": "2023-08-23T14:33:12.481507Z",
     "shell.execute_reply": "2023-08-23T14:33:12.480774Z"
    },
    "slideshow": {
     "slide_type": "subslide"
    }
   },
   "outputs": [],
   "source": [
    "def a():\n",
    "    print(\"a1\")\n",
    "    try:\n",
    "        b()\n",
    "    except ValueError:\n",
    "        print(\"caught ValueError\")\n",
    "    print(\"a2\")\n",
    "\n",
    "def b():\n",
    "    print(\"b1\")\n",
    "    c()\n",
    "    print(\"b2\")\n",
    "    \n",
    "def c():\n",
    "    print(\"c1\")\n",
    "    raise ValueError\n",
    "    print(\"c2\")\n",
    "\n",
    "a()"
   ]
  },
  {
   "cell_type": "markdown",
   "id": "b6bda366",
   "metadata": {
    "slideshow": {
     "slide_type": "subslide"
    }
   },
   "source": [
    "## Step thru debugging\n",
    "\n",
    "Let's try step through debugging on this: [repl.it: Call stacks - exceptions](https://replit.com/@cosi-10a-fall23/Call-stacks-exceptions#main.py)"
   ]
  },
  {
   "cell_type": "markdown",
   "id": "628052ad",
   "metadata": {
    "slideshow": {
     "slide_type": "subslide"
    }
   },
   "source": [
    "# Exceptions Best Practices \n",
    "\n",
    "Some tips for using exceptions safely and effectively:\n",
    "* Put the least possible code in your `try/except` blocks. \n",
    "  * If you wrap large portions of code in a `try/except` block, you won't know where the errors are coming from, and may mishandle them.\n",
    "* Don't blindly \"swallow\" exceptions. \n",
    "  * If your code can't recover from the error you're catching, it's better to have your program error out than continue on to do something unexpected.\n",
    "* Be cautious using `except Exception`\n",
    "  * `Exception` is actually a general type that matches (almost) all other exception types. If you use this, you may catch and swallow errors that you can't actually recover from.\n",
    "  * When possible, catch the most specific type of exception you can."
   ]
  },
  {
   "cell_type": "markdown",
   "id": "e3865973",
   "metadata": {
    "slideshow": {
     "slide_type": "slide"
    }
   },
   "source": [
    "# (Unit) Testing\n",
    "\n",
    "Testing code is really important. \n",
    "\n",
    "Testing code manually is tedious and error prone. \n",
    "\n",
    "Luckily, you can use code to validate your code! We saw an example of this before, when we tested our random number generator.\n",
    "\n",
    "There are many types of testing that can be used when writing code and building software. \"Unit\" tests are a the smallest, narrowest type of testing - they test small pieces of code (e.g. a single function) in isolation.\n",
    "\n",
    "Other common types of testing (which we won't cover here) are \"integration tests\", \"end-to-end tests\", \"functional tests\", and \"acceptance tests\". "
   ]
  },
  {
   "cell_type": "markdown",
   "id": "d4b3654b",
   "metadata": {
    "slideshow": {
     "slide_type": "subslide"
    }
   },
   "source": [
    "## Unit testing in Python\n",
    "\n",
    "All major programming languages have unit testing \"frameworks\" - proscribed ways to write, run, and automate unit tests. Most major programming languages have more than one framework.\n",
    "\n",
    "Python has a built-in framework called [unittest](https://docs.python.org/3/library/unittest.html).\n",
    "\n",
    "However, there's a nicer, commonly used framework that we'll cover here and use in assignments: [pytest](https://docs.pytest.org/en/7.3.x/)"
   ]
  },
  {
   "cell_type": "markdown",
   "id": "de130263",
   "metadata": {
    "slideshow": {
     "slide_type": "subslide"
    }
   },
   "source": [
    "## Writing tests\n",
    "\n",
    "A unit test typically runs some of your code, and then makes **assertions** about what your code did using the `assert` keyword."
   ]
  },
  {
   "cell_type": "code",
   "execution_count": null,
   "id": "69f3efc3",
   "metadata": {
    "execution": {
     "iopub.execute_input": "2023-08-23T14:33:12.485085Z",
     "iopub.status.busy": "2023-08-23T14:33:12.484748Z",
     "iopub.status.idle": "2023-08-23T14:33:12.507143Z",
     "shell.execute_reply": "2023-08-23T14:33:12.506487Z"
    },
    "tags": [
     "raises-exception"
    ]
   },
   "outputs": [],
   "source": [
    "def add(num1, num2):\n",
    "    return num1 + num2 + 1\n",
    "\n",
    "def test_add():\n",
    "    assert add(1, 1) == 2\n",
    "    \n",
    "test_add()"
   ]
  },
  {
   "cell_type": "markdown",
   "id": "af1fc7d9",
   "metadata": {},
   "source": [
    "## Unit testing best practices\n",
    "\n",
    "You can structure your tests however you want - have multiple assertions, invoke your code multiple times, etc\n",
    "\n",
    "However, the best practice for unit tests is to make each test very focused. If each test tests a single thing, then you can easily see what is wrong when it fails. \n",
    "\n",
    "Conversely, if a single test is testing many things, it can be harder to see what's wrong just from a failure, and one error might mask other errors.\n",
    "\n",
    "Unit tests are very useful for testing **boundary conditions**, or **edge cases**. These are situations where you have valid, but non-typical input - e.g. an empty string, or a negative number, or 0, or an empty list (once we get to lists). It's common for code to fail to handle these cases correctly at first. Adding tests for them will help catch them. Think explicitly about **boundary conditions** when coming up with test cases."
   ]
  },
  {
   "cell_type": "markdown",
   "id": "7fa2936a",
   "metadata": {
    "slideshow": {
     "slide_type": "subslide"
    }
   },
   "source": [
    "## pytest\n",
    "\n",
    "`pytest` is a framework - a collection of tools and conventions - that make writing and running unit tests easy. It is very powerful, and has many features. We'll only cover the basics, but it has [extensive documentation with lots of specific examples](https://docs.pytest.org/en/7.3.x/how-to/index.html#how-to).\n",
    "\n",
    "* To run tests, type `pytest` on the command line (in repl.it: the \"Shell\" tab)\n",
    "* To define a test, create a function whose name starts with `test_` in a file whose name starts with `test_`. \n",
    "  * e.g. `test_add()` could go in a file named `test_math_stuff.py`\n",
    "  * The `pytest` program will \"magically\" find and run any functions that are named like this.\n",
    "* You can add `-v` or `-vv` to the `pytest` command (e.g. `pytest -vv`) to get more verbose output when diagnosing failures.\n",
    "* To run a single test by itself, you can add `-k <test name>`, e.g. `pytest -k test_add`.\n",
    "  * This can be useful when you have multiple failures but want to work on one at a time.\n",
    "  \n"
   ]
  },
  {
   "cell_type": "markdown",
   "id": "df4777b6",
   "metadata": {
    "slideshow": {
     "slide_type": "subslide"
    }
   },
   "source": [
    "## Assertions\n",
    "\n",
    "An **assertion** is something that should be true. If an `assert`'s expression evaluates to `False`, the assert fails, and raises an exception.\n",
    "\n",
    "`pytest` works some magic on asserts. When using `pytest`, an assertion failure will produce a test failure and nice error message, instead of the ugly exception ouput we saw above.\n",
    "\n",
    "Side note: you can also use `asserts` in non-test code to document assumptions your code is making (e.g. `assert`ing that the type of a variable is `int` or that a string is not empty). They should not be used to check for \"expected\" or recoverable errors though - an assertion failure should indicate a bug in the code, rather than something like invalid user input."
   ]
  },
  {
   "cell_type": "markdown",
   "id": "54c86961",
   "metadata": {
    "slideshow": {
     "slide_type": "subslide"
    }
   },
   "source": [
    "Unit testing example on repl.it: [repl.it: pytest examples](https://replit.com/@cosi-10a-fall23/pytest-examples)"
   ]
  },
  {
   "cell_type": "markdown",
   "id": "beae871c",
   "metadata": {
    "slideshow": {
     "slide_type": "subslide"
    }
   },
   "source": [
    "# Unit testing - do it!\n",
    "\n",
    "Writing unit tests might seem tedious or not worth it, especially for an assignment you'll hand in and then never touch again.\n",
    "\n",
    "\"I just need to check this one more time then I'm done, I'll do it by hand.\" - every programmer ever\n",
    "\n",
    "They are almost always worth it. You **always** end up needing to run the tests more than you think, and writing tests as you go will leave you with confidence that your changes haven't broken seemingly unrelated parts of your code. It is an investment that will pay off. Explicitly thinking about which test cases to write will also help you catch edge cases that your code might not handle properly.\n",
    "\n",
    "Some people even write their tests **before** their code - this is called Test Driven Development. Documenting the expected behavior of your function with tests before you implement it can make it easier and faster to write correct code. (I personally don't prefer this style, but many swear by it, try it before you dismiss it!)"
   ]
  },
  {
   "cell_type": "markdown",
   "id": "ae76217e",
   "metadata": {
    "slideshow": {
     "slide_type": "subslide"
    }
   },
   "source": [
    "# Unit testing and coding assignments\n",
    "\n",
    "Most assignments from now on will use `pytest` for automated testing. Any failing tests will mean you won't pass at least one skill for the assignment, so be sure to run them just before submission.\n",
    "\n",
    "Please don't modify provided test cases. But feel free to add your own - in many cases the provided tests are not exhaustive, so a clean test run does not automatically mean your code is perfect!"
   ]
  }
 ],
 "metadata": {
  "celltoolbar": "Slideshow",
  "kernelspec": {
   "display_name": "Python 3 (ipykernel)",
   "language": "python",
   "name": "python3"
  },
  "language_info": {
   "codemirror_mode": {
    "name": "ipython",
    "version": 3
   },
   "file_extension": ".py",
   "mimetype": "text/x-python",
   "name": "python",
   "nbconvert_exporter": "python",
   "pygments_lexer": "ipython3",
   "version": "3.10.9"
  }
 },
 "nbformat": 4,
 "nbformat_minor": 5
}
