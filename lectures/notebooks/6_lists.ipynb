{
 "cells": [
  {
   "cell_type": "markdown",
   "id": "1ee8a1d2",
   "metadata": {
    "slideshow": {
     "slide_type": "slide"
    }
   },
   "source": [
    "# Lists\n",
    "\n",
    "<style>\n",
    "section.present > section.present { \n",
    "    max-height: 90%; \n",
    "    overflow-y: scroll;\n",
    "}\n",
    "</style>\n",
    "\n",
    "<small><a href=\"https://colab.research.google.com/github/brandeis-jdelfino/cosi-10a/blob/main/lectures/notebooks/6_lists.ipynb\">Link to interactive slides on Google Colab</a></small>"
   ]
  },
  {
   "cell_type": "markdown",
   "id": "e04d6879",
   "metadata": {
    "slideshow": {
     "slide_type": "slide"
    }
   },
   "source": [
    "# Lists\n",
    "\n",
    "So far, we've been dealing with single values - integers, floats, strings.\n",
    "\n",
    "Today, we'll learn about new data type: lists!"
   ]
  },
  {
   "cell_type": "markdown",
   "id": "a239b34a",
   "metadata": {
    "slideshow": {
     "slide_type": "slide"
    }
   },
   "source": [
    "# Creating lists"
   ]
  },
  {
   "cell_type": "code",
   "execution_count": null,
   "id": "5f9bb1a4",
   "metadata": {
    "execution": {
     "iopub.execute_input": "2023-06-09T13:24:32.605367Z",
     "iopub.status.busy": "2023-06-09T13:24:32.604984Z",
     "iopub.status.idle": "2023-06-09T13:24:32.623923Z",
     "shell.execute_reply": "2023-06-09T13:24:32.621883Z"
    }
   },
   "outputs": [],
   "source": [
    "x = [2, 5, 7, 9]\n",
    "print(x)"
   ]
  },
  {
   "cell_type": "markdown",
   "id": "2d367a27",
   "metadata": {},
   "source": [
    "`x` holds a list with 4 items: the integers 2, 5, 7, and 9."
   ]
  },
  {
   "cell_type": "code",
   "execution_count": null,
   "id": "af9ce082",
   "metadata": {
    "execution": {
     "iopub.execute_input": "2023-06-09T13:24:32.631367Z",
     "iopub.status.busy": "2023-06-09T13:24:32.630851Z",
     "iopub.status.idle": "2023-06-09T13:24:32.636346Z",
     "shell.execute_reply": "2023-06-09T13:24:32.635169Z"
    }
   },
   "outputs": [],
   "source": [
    "y = []\n",
    "print(y)"
   ]
  },
  {
   "cell_type": "markdown",
   "id": "b692c650",
   "metadata": {},
   "source": [
    "`y` is an empty list"
   ]
  },
  {
   "cell_type": "code",
   "execution_count": null,
   "id": "f1a5c95c",
   "metadata": {
    "execution": {
     "iopub.execute_input": "2023-06-09T13:24:32.640992Z",
     "iopub.status.busy": "2023-06-09T13:24:32.640168Z",
     "iopub.status.idle": "2023-06-09T13:24:32.645276Z",
     "shell.execute_reply": "2023-06-09T13:24:32.644484Z"
    },
    "slideshow": {
     "slide_type": "subslide"
    }
   },
   "outputs": [],
   "source": [
    "z = [\"lists\", \"can hold\", \"any data type\"]\n",
    "print(z)"
   ]
  },
  {
   "cell_type": "markdown",
   "id": "fe4a7be7",
   "metadata": {},
   "source": [
    "`z` is a list holding 3 strings"
   ]
  },
  {
   "cell_type": "code",
   "execution_count": null,
   "id": "7a757884",
   "metadata": {
    "execution": {
     "iopub.execute_input": "2023-06-09T13:24:32.650343Z",
     "iopub.status.busy": "2023-06-09T13:24:32.649953Z",
     "iopub.status.idle": "2023-06-09T13:24:32.660709Z",
     "shell.execute_reply": "2023-06-09T13:24:32.656755Z"
    }
   },
   "outputs": [],
   "source": [
    "q = [1, 2.0, \"lists hold anything\", True]\n",
    "print(q)"
   ]
  },
  {
   "cell_type": "markdown",
   "id": "b9370229",
   "metadata": {},
   "source": [
    "`q` is a list with 4 items: an integer, a float, a string, and a boolean.\n",
    "\n",
    "Lists can hold a mix of different data types."
   ]
  },
  {
   "cell_type": "code",
   "execution_count": null,
   "id": "9e082738",
   "metadata": {
    "execution": {
     "iopub.execute_input": "2023-06-09T13:24:32.668349Z",
     "iopub.status.busy": "2023-06-09T13:24:32.667858Z",
     "iopub.status.idle": "2023-06-09T13:24:32.674749Z",
     "shell.execute_reply": "2023-06-09T13:24:32.673558Z"
    },
    "slideshow": {
     "slide_type": "subslide"
    }
   },
   "outputs": [],
   "source": [
    "r = [[1,2,3], [4,5,6]]\n",
    "print(r)"
   ]
  },
  {
   "cell_type": "markdown",
   "id": "aa6f5052",
   "metadata": {},
   "source": [
    "`r` is a list holding 2 lists, each of which hold 3 integers.\n",
    "\n",
    "If your brain just exploded a little, don't worry - we'll revisit this."
   ]
  },
  {
   "cell_type": "markdown",
   "id": "9a3b8e88",
   "metadata": {
    "slideshow": {
     "slide_type": "slide"
    }
   },
   "source": [
    "# Accessing lists\n",
    "\n",
    "You can access items in a list by **index**.\n",
    "\n",
    "The indices are **0-based**: the first item in the list has index 0."
   ]
  },
  {
   "cell_type": "code",
   "execution_count": null,
   "id": "5fb9c9e1",
   "metadata": {
    "execution": {
     "iopub.execute_input": "2023-06-09T13:24:32.681499Z",
     "iopub.status.busy": "2023-06-09T13:24:32.680991Z",
     "iopub.status.idle": "2023-06-09T13:24:32.691537Z",
     "shell.execute_reply": "2023-06-09T13:24:32.690264Z"
    }
   },
   "outputs": [],
   "source": [
    "foods = [\"apple\", \"banana\", \"chocolate\"]\n",
    "foods[0]"
   ]
  },
  {
   "cell_type": "code",
   "execution_count": null,
   "id": "5098c573",
   "metadata": {
    "execution": {
     "iopub.execute_input": "2023-06-09T13:24:32.697821Z",
     "iopub.status.busy": "2023-06-09T13:24:32.697367Z",
     "iopub.status.idle": "2023-06-09T13:24:32.705416Z",
     "shell.execute_reply": "2023-06-09T13:24:32.703657Z"
    }
   },
   "outputs": [],
   "source": [
    "foods[2]"
   ]
  },
  {
   "cell_type": "markdown",
   "id": "5e133222",
   "metadata": {
    "slideshow": {
     "slide_type": "subslide"
    }
   },
   "source": [
    "Accessing an element outside the bounds of the array produces an error:"
   ]
  },
  {
   "cell_type": "code",
   "execution_count": null,
   "id": "89cf4a8d",
   "metadata": {
    "execution": {
     "iopub.execute_input": "2023-06-09T13:24:32.710317Z",
     "iopub.status.busy": "2023-06-09T13:24:32.709920Z",
     "iopub.status.idle": "2023-06-09T13:24:33.302523Z",
     "shell.execute_reply": "2023-06-09T13:24:33.301610Z"
    },
    "tags": [
     "raises-exception"
    ]
   },
   "outputs": [],
   "source": [
    "foods = [\"apple\", \"banana\", \"chocolate\"]\n",
    "foods[3]"
   ]
  },
  {
   "cell_type": "markdown",
   "id": "e3cebf48",
   "metadata": {
    "slideshow": {
     "slide_type": "subslide"
    }
   },
   "source": [
    "You can use negative indices to count backwards from the end:"
   ]
  },
  {
   "cell_type": "code",
   "execution_count": null,
   "id": "9fdfe380",
   "metadata": {
    "execution": {
     "iopub.execute_input": "2023-06-09T13:24:33.307668Z",
     "iopub.status.busy": "2023-06-09T13:24:33.307343Z",
     "iopub.status.idle": "2023-06-09T13:24:33.312462Z",
     "shell.execute_reply": "2023-06-09T13:24:33.311584Z"
    }
   },
   "outputs": [],
   "source": [
    "foods = [\"apple\", \"banana\", \"chocolate\"]\n",
    "foods[-1]"
   ]
  },
  {
   "cell_type": "code",
   "execution_count": null,
   "id": "67d639a4",
   "metadata": {
    "execution": {
     "iopub.execute_input": "2023-06-09T13:24:33.316504Z",
     "iopub.status.busy": "2023-06-09T13:24:33.316074Z",
     "iopub.status.idle": "2023-06-09T13:24:33.325136Z",
     "shell.execute_reply": "2023-06-09T13:24:33.320901Z"
    }
   },
   "outputs": [],
   "source": [
    "foods[-3]"
   ]
  },
  {
   "cell_type": "markdown",
   "id": "ea0fa86a",
   "metadata": {
    "slideshow": {
     "slide_type": "slide"
    }
   },
   "source": [
    "# Slicing\n",
    "\n",
    "You can **slice** arrays - create a new list from a subset of a list.\n",
    "\n",
    "Slice from the beginning of the array up to an index with `[:n]`:"
   ]
  },
  {
   "cell_type": "code",
   "execution_count": null,
   "id": "0c7e7558",
   "metadata": {
    "execution": {
     "iopub.execute_input": "2023-06-09T13:24:33.329737Z",
     "iopub.status.busy": "2023-06-09T13:24:33.329190Z",
     "iopub.status.idle": "2023-06-09T13:24:33.336240Z",
     "shell.execute_reply": "2023-06-09T13:24:33.334064Z"
    }
   },
   "outputs": [],
   "source": [
    "mountains = [\"everest\", \"whitney\", \"washington\", \"denali\", \"rainier\"]"
   ]
  },
  {
   "cell_type": "code",
   "execution_count": null,
   "id": "fbbd26ca",
   "metadata": {
    "execution": {
     "iopub.execute_input": "2023-06-09T13:24:33.341406Z",
     "iopub.status.busy": "2023-06-09T13:24:33.341096Z",
     "iopub.status.idle": "2023-06-09T13:24:33.345487Z",
     "shell.execute_reply": "2023-06-09T13:24:33.344879Z"
    }
   },
   "outputs": [],
   "source": [
    "# take everything up to (but not including) index 2\n",
    "mountains[:2]"
   ]
  },
  {
   "cell_type": "markdown",
   "id": "edbf204f",
   "metadata": {},
   "source": [
    "Slice from an index to the end of the array with `[n:]`:"
   ]
  },
  {
   "cell_type": "code",
   "execution_count": null,
   "id": "7af6ac76",
   "metadata": {
    "execution": {
     "iopub.execute_input": "2023-06-09T13:24:33.349956Z",
     "iopub.status.busy": "2023-06-09T13:24:33.349459Z",
     "iopub.status.idle": "2023-06-09T13:24:33.362917Z",
     "shell.execute_reply": "2023-06-09T13:24:33.360644Z"
    }
   },
   "outputs": [],
   "source": [
    "# drop the first item in the list\n",
    "mountains[1:]"
   ]
  },
  {
   "cell_type": "markdown",
   "id": "76c3775d",
   "metadata": {
    "slideshow": {
     "slide_type": "subslide"
    }
   },
   "source": [
    "Slice from the middle by providing a start and end index `[m:n]`:"
   ]
  },
  {
   "cell_type": "code",
   "execution_count": null,
   "id": "415fa705",
   "metadata": {
    "execution": {
     "iopub.execute_input": "2023-06-09T13:24:33.371936Z",
     "iopub.status.busy": "2023-06-09T13:24:33.371347Z",
     "iopub.status.idle": "2023-06-09T13:24:33.382558Z",
     "shell.execute_reply": "2023-06-09T13:24:33.381121Z"
    }
   },
   "outputs": [],
   "source": [
    "mountains = [\"everest\", \"whitney\", \"washington\", \"denali\", \"rainier\"]\n",
    "# take indices 1, 2\n",
    "mountains[1:3]"
   ]
  },
  {
   "cell_type": "markdown",
   "id": "fb8abeba",
   "metadata": {},
   "source": [
    "You can even use negative indices when slicing:"
   ]
  },
  {
   "cell_type": "code",
   "execution_count": null,
   "id": "5aa7024d",
   "metadata": {
    "execution": {
     "iopub.execute_input": "2023-06-09T13:24:33.390007Z",
     "iopub.status.busy": "2023-06-09T13:24:33.389500Z",
     "iopub.status.idle": "2023-06-09T13:24:33.395493Z",
     "shell.execute_reply": "2023-06-09T13:24:33.394769Z"
    }
   },
   "outputs": [],
   "source": [
    "# take everything up to the last 2 items\n",
    "mountains[:-2]"
   ]
  },
  {
   "cell_type": "code",
   "execution_count": null,
   "id": "d33feba6",
   "metadata": {
    "execution": {
     "iopub.execute_input": "2023-06-09T13:24:33.399929Z",
     "iopub.status.busy": "2023-06-09T13:24:33.399583Z",
     "iopub.status.idle": "2023-06-09T13:24:33.407732Z",
     "shell.execute_reply": "2023-06-09T13:24:33.406676Z"
    }
   },
   "outputs": [],
   "source": [
    "# drop the first and last items\n",
    "mountains[1:-1]"
   ]
  },
  {
   "cell_type": "markdown",
   "id": "53d0022e",
   "metadata": {
    "slideshow": {
     "slide_type": "slide"
    }
   },
   "source": [
    "# Length\n",
    "\n",
    "The `len()` function gives you the length of a list:"
   ]
  },
  {
   "cell_type": "code",
   "execution_count": null,
   "id": "d1463495",
   "metadata": {
    "execution": {
     "iopub.execute_input": "2023-06-09T13:24:33.413444Z",
     "iopub.status.busy": "2023-06-09T13:24:33.413120Z",
     "iopub.status.idle": "2023-06-09T13:24:33.422384Z",
     "shell.execute_reply": "2023-06-09T13:24:33.421534Z"
    }
   },
   "outputs": [],
   "source": [
    "mountains = [\"everest\", \"whitney\", \"washington\", \"denali\", \"rainier\"]\n",
    "len(mountains)"
   ]
  },
  {
   "cell_type": "markdown",
   "id": "6c9ffbd4",
   "metadata": {
    "slideshow": {
     "slide_type": "slide"
    }
   },
   "source": [
    "# Modifying lists\n",
    "\n",
    "You can add, remove, and change elements.\n",
    "\n",
    "Assigning to an element changes it in place:"
   ]
  },
  {
   "cell_type": "code",
   "execution_count": null,
   "id": "4005901b",
   "metadata": {
    "execution": {
     "iopub.execute_input": "2023-06-09T13:24:33.425857Z",
     "iopub.status.busy": "2023-06-09T13:24:33.425535Z",
     "iopub.status.idle": "2023-06-09T13:24:33.430773Z",
     "shell.execute_reply": "2023-06-09T13:24:33.429339Z"
    }
   },
   "outputs": [],
   "source": [
    "mountains = [\"rushmore\", \"whitney\", \"washington\", \"denali\", \"rainier\"]\n",
    "mountains[0] = \"everest\"\n",
    "print(mountains)"
   ]
  },
  {
   "cell_type": "markdown",
   "id": "2d45454e",
   "metadata": {
    "slideshow": {
     "slide_type": "subslide"
    }
   },
   "source": [
    "The `append()` method adds an element to the end:"
   ]
  },
  {
   "cell_type": "code",
   "execution_count": null,
   "id": "663cabfd",
   "metadata": {
    "execution": {
     "iopub.execute_input": "2023-06-09T13:24:33.437729Z",
     "iopub.status.busy": "2023-06-09T13:24:33.437293Z",
     "iopub.status.idle": "2023-06-09T13:24:33.441958Z",
     "shell.execute_reply": "2023-06-09T13:24:33.441237Z"
    }
   },
   "outputs": [],
   "source": [
    "mountains = [\"everest\", \"whitney\", \"washington\", \"denali\", \"rainier\"]\n",
    "mountains.append(\"kilimanjaro\")\n",
    "print(mountains)"
   ]
  },
  {
   "cell_type": "markdown",
   "id": "d8f20e3d",
   "metadata": {
    "slideshow": {
     "slide_type": "subslide"
    }
   },
   "source": [
    "The `insert()` method will insert at a given index:"
   ]
  },
  {
   "cell_type": "code",
   "execution_count": null,
   "id": "07f6cdbd",
   "metadata": {
    "execution": {
     "iopub.execute_input": "2023-06-09T13:24:33.446930Z",
     "iopub.status.busy": "2023-06-09T13:24:33.446368Z",
     "iopub.status.idle": "2023-06-09T13:24:33.454445Z",
     "shell.execute_reply": "2023-06-09T13:24:33.453187Z"
    }
   },
   "outputs": [],
   "source": [
    "mountains = [\"everest\", \"whitney\", \"washington\", \"denali\", \"rainier\"]\n",
    "mountains.insert(1, \"kilimanjaro\")\n",
    "print(mountains)"
   ]
  },
  {
   "cell_type": "markdown",
   "id": "7fef35c1",
   "metadata": {
    "slideshow": {
     "slide_type": "subslide"
    }
   },
   "source": [
    "A few ways to delete items:\n",
    "\n",
    "The `del` keyword:"
   ]
  },
  {
   "cell_type": "code",
   "execution_count": null,
   "id": "5829b112",
   "metadata": {
    "execution": {
     "iopub.execute_input": "2023-06-09T13:24:33.462421Z",
     "iopub.status.busy": "2023-06-09T13:24:33.462021Z",
     "iopub.status.idle": "2023-06-09T13:24:33.474347Z",
     "shell.execute_reply": "2023-06-09T13:24:33.469489Z"
    }
   },
   "outputs": [],
   "source": [
    "mountains = [\"everest\", \"whitney\", \"washington\", \"denali\", \"rainier\"]\n",
    "del mountains[3]\n",
    "print(mountains)"
   ]
  },
  {
   "cell_type": "markdown",
   "id": "f2eb6228",
   "metadata": {},
   "source": [
    "The `pop()` method, which returns the element that was removed:"
   ]
  },
  {
   "cell_type": "code",
   "execution_count": null,
   "id": "be7d2a02",
   "metadata": {
    "execution": {
     "iopub.execute_input": "2023-06-09T13:24:33.481593Z",
     "iopub.status.busy": "2023-06-09T13:24:33.480792Z",
     "iopub.status.idle": "2023-06-09T13:24:33.488413Z",
     "shell.execute_reply": "2023-06-09T13:24:33.487239Z"
    }
   },
   "outputs": [],
   "source": [
    "mountains = [\"everest\", \"whitney\", \"washington\", \"denali\", \"rainier\"]\n",
    "popped = mountains.pop(2)\n",
    "print(\"Removed \" + popped)\n",
    "print(\"List after the pop: \" + str(mountains))"
   ]
  },
  {
   "cell_type": "markdown",
   "id": "80288aa7",
   "metadata": {
    "slideshow": {
     "slide_type": "subslide"
    }
   },
   "source": [
    "Remove everything with the `clear()` method"
   ]
  },
  {
   "cell_type": "code",
   "execution_count": null,
   "id": "b61d81af",
   "metadata": {
    "execution": {
     "iopub.execute_input": "2023-06-09T13:24:33.493891Z",
     "iopub.status.busy": "2023-06-09T13:24:33.493128Z",
     "iopub.status.idle": "2023-06-09T13:24:33.497643Z",
     "shell.execute_reply": "2023-06-09T13:24:33.496909Z"
    }
   },
   "outputs": [],
   "source": [
    "mountains = [\"everest\", \"whitney\", \"washington\", \"denali\", \"rainier\"]\n",
    "mountains.clear()\n",
    "print(mountains)"
   ]
  },
  {
   "cell_type": "markdown",
   "id": "a426da25",
   "metadata": {
    "slideshow": {
     "slide_type": "skip"
    }
   },
   "source": [
    "**Beware** the confusing `remove()` method. It looks for a **value** in the list and removes the **first instance** it finds:"
   ]
  },
  {
   "cell_type": "code",
   "execution_count": null,
   "id": "6844f38b",
   "metadata": {
    "execution": {
     "iopub.execute_input": "2023-06-09T13:24:33.502025Z",
     "iopub.status.busy": "2023-06-09T13:24:33.501708Z",
     "iopub.status.idle": "2023-06-09T13:24:33.507873Z",
     "shell.execute_reply": "2023-06-09T13:24:33.506011Z"
    },
    "slideshow": {
     "slide_type": "skip"
    }
   },
   "outputs": [],
   "source": [
    "mountains = [\"everest\", \"whitney\", \"washington\", \"denali\", \"rainier\", \"whitney\"]\n",
    "mountains.remove(\"whitney\")\n",
    "print(mountains)"
   ]
  },
  {
   "cell_type": "markdown",
   "id": "60078d9d",
   "metadata": {
    "slideshow": {
     "slide_type": "skip"
    }
   },
   "source": [
    "It's easy to mix up `remove()` with `pop()`:"
   ]
  },
  {
   "cell_type": "code",
   "execution_count": null,
   "id": "36f9ba4d",
   "metadata": {
    "execution": {
     "iopub.execute_input": "2023-06-09T13:24:33.512814Z",
     "iopub.status.busy": "2023-06-09T13:24:33.512520Z",
     "iopub.status.idle": "2023-06-09T13:24:33.518705Z",
     "shell.execute_reply": "2023-06-09T13:24:33.517699Z"
    },
    "slideshow": {
     "slide_type": "skip"
    }
   },
   "outputs": [],
   "source": [
    "numbers = [5, 4, 3, 2, 1]\n",
    "# Remove element at index 1... right?\n",
    "numbers.remove(1)\n",
    "# ... wrong. It removed the item `1`.\n",
    "print(numbers)"
   ]
  },
  {
   "cell_type": "markdown",
   "id": "723a14c5",
   "metadata": {
    "slideshow": {
     "slide_type": "subslide"
    }
   },
   "source": [
    "Concatenate 2 lists with `+`:"
   ]
  },
  {
   "cell_type": "code",
   "execution_count": null,
   "id": "b7c474a9",
   "metadata": {
    "execution": {
     "iopub.execute_input": "2023-06-09T13:24:33.524781Z",
     "iopub.status.busy": "2023-06-09T13:24:33.524025Z",
     "iopub.status.idle": "2023-06-09T13:24:33.530533Z",
     "shell.execute_reply": "2023-06-09T13:24:33.529652Z"
    }
   },
   "outputs": [],
   "source": [
    "a = [1,2,3]\n",
    "b = [4,5,6]\n",
    "print(a + b)"
   ]
  },
  {
   "cell_type": "markdown",
   "id": "a17513e8",
   "metadata": {
    "slideshow": {
     "slide_type": "slide"
    }
   },
   "source": [
    "# Aside: method vs function\n",
    "\n",
    "We just reviewed a few `list` **methods**. Methods are functions that are **called on** a value.\n",
    "\n",
    "Methods are called on a value using a `.`: `some_variable.some_method()`\n",
    "\n",
    "For example: to remove the last item from a list named `spam`, call the `pop` method on it: `spam.pop()`.\n",
    "\n",
    "Lists have many useful methods (we covered many of them): [list method documentation](https://docs.python.org/3/tutorial/datastructures.html)\n",
    "\n",
    "We'll revisit methods later in the term, all you need to know for now is the syntax for calling them."
   ]
  },
  {
   "cell_type": "markdown",
   "id": "a1b3471e",
   "metadata": {
    "slideshow": {
     "slide_type": "slide"
    }
   },
   "source": [
    "# Exercise\n",
    "\n",
    "Build a **cat**alog (hah): a program that prompts the user for the names of their cats, and prints them all out.\n",
    "\n"
   ]
  },
  {
   "cell_type": "markdown",
   "id": "072c925a",
   "metadata": {
    "slideshow": {
     "slide_type": "subslide"
    }
   },
   "source": [
    "Before lists, the best we could do is something like this, where we have a maximum number of cats, and store each one in its own variable:"
   ]
  },
  {
   "cell_type": "code",
   "execution_count": null,
   "id": "99386b33",
   "metadata": {
    "execution": {
     "iopub.execute_input": "2023-06-09T13:24:33.537242Z",
     "iopub.status.busy": "2023-06-09T13:24:33.536150Z",
     "iopub.status.idle": "2023-06-09T13:24:33.655235Z",
     "shell.execute_reply": "2023-06-09T13:24:33.653959Z"
    },
    "tags": [
     "remove-output"
    ]
   },
   "outputs": [],
   "source": [
    "print('Enter the name of cat 1:')\n",
    "catName1 = input()\n",
    "print('Enter the name of cat 2:')\n",
    "catName2 = input()\n",
    "print('Enter the name of cat 3:')\n",
    "catName3 = input()\n",
    "print('Enter the name of cat 4:')\n",
    "catName4 = input()\n",
    "print('Enter the name of cat 5:')\n",
    "catName5 = input()\n",
    "print('Enter the name of cat 6:')\n",
    "catName6 = input()\n",
    "print('The cat names are:')\n",
    "print(catName1 + ' ' + catName2 + ' ' + catName3 + ' ' + catName4 + ' ' +\n",
    "catName5 + ' ' + catName6)"
   ]
  },
  {
   "cell_type": "markdown",
   "id": "9e2a17f4",
   "metadata": {
    "slideshow": {
     "slide_type": "subslide"
    }
   },
   "source": [
    "Lists improve this significantly, and free us up from a fixed number of cats.\n",
    "\n",
    "We will keep a list of cat names, and add to it each time the user enters one. At the end, we will print out the list."
   ]
  },
  {
   "cell_type": "code",
   "execution_count": null,
   "id": "9cd530fe",
   "metadata": {
    "execution": {
     "iopub.execute_input": "2023-06-09T13:24:33.659753Z",
     "iopub.status.busy": "2023-06-09T13:24:33.659451Z",
     "iopub.status.idle": "2023-06-09T13:24:33.686770Z",
     "shell.execute_reply": "2023-06-09T13:24:33.685880Z"
    },
    "slideshow": {
     "slide_type": "-"
    },
    "tags": [
     "remove-output"
    ]
   },
   "outputs": [],
   "source": [
    "catNames = []\n",
    "while True:\n",
    "    print('Enter the name of cat ' + str(len(catNames) + 1) +\n",
    "      ' (Or enter nothing to stop.):')\n",
    "    name = input()\n",
    "    if name == '':\n",
    "        break\n",
    "    catNames.append(name)\n",
    "\n",
    "print('The cat names are: ' + str(catNames))"
   ]
  },
  {
   "cell_type": "markdown",
   "id": "12bdb0c1",
   "metadata": {
    "slideshow": {
     "slide_type": "slide"
    }
   },
   "source": [
    "# Lists and Loops: Friends Forever\n",
    "\n",
    "In the last example, we converted the list to a string to print it out. It worked, but was ugly: `['Batman', 'Bill Murray']`. Let's look at how to use loops and lists together.\n",
    "\n",
    "Write a function that takes a list of integers as a parameter, and prints out the square of each number.\n",
    "\n",
    "One way to do it:"
   ]
  },
  {
   "cell_type": "code",
   "execution_count": null,
   "id": "fbc323f8",
   "metadata": {
    "execution": {
     "iopub.execute_input": "2023-06-09T13:24:33.691441Z",
     "iopub.status.busy": "2023-06-09T13:24:33.690828Z",
     "iopub.status.idle": "2023-06-09T13:24:33.695058Z",
     "shell.execute_reply": "2023-06-09T13:24:33.694324Z"
    }
   },
   "outputs": [],
   "source": [
    "def print_squares(nums):\n",
    "    for i in range(len(nums)):\n",
    "        print(nums[i] ** 2)"
   ]
  },
  {
   "cell_type": "code",
   "execution_count": null,
   "id": "e9d4491c",
   "metadata": {
    "execution": {
     "iopub.execute_input": "2023-06-09T13:24:33.698398Z",
     "iopub.status.busy": "2023-06-09T13:24:33.698093Z",
     "iopub.status.idle": "2023-06-09T13:24:33.702380Z",
     "shell.execute_reply": "2023-06-09T13:24:33.701264Z"
    }
   },
   "outputs": [],
   "source": [
    "print_squares([3,5,11])"
   ]
  },
  {
   "cell_type": "markdown",
   "id": "dfa7d856",
   "metadata": {
    "slideshow": {
     "slide_type": "subslide"
    }
   },
   "source": [
    "Breaking that down, if the input is `[3, 5, 11]`:  \n",
    "\n",
    "`for i in range(len(nums))` ->  \n",
    "`for i in range(3)`"
   ]
  },
  {
   "cell_type": "markdown",
   "id": "e3795f08",
   "metadata": {
    "slideshow": {
     "slide_type": "subslide"
    }
   },
   "source": [
    "That works, but there are other ways to iterate over a list.\n",
    "\n",
    "`for <var> in <list>:` will execute the code block once for each item in the list, with `<var>` equal to the next list item for each iteration.\n",
    "\n",
    "More on list iteration in the next lecture - for today, just knowing this form of the `for` loop is enough."
   ]
  },
  {
   "cell_type": "code",
   "execution_count": null,
   "id": "729b1ef2",
   "metadata": {
    "execution": {
     "iopub.execute_input": "2023-06-09T13:24:33.707759Z",
     "iopub.status.busy": "2023-06-09T13:24:33.707054Z",
     "iopub.status.idle": "2023-06-09T13:24:33.711218Z",
     "shell.execute_reply": "2023-06-09T13:24:33.710332Z"
    }
   },
   "outputs": [],
   "source": [
    "def print_squares(nums):\n",
    "    for num in nums:\n",
    "        print(num ** 2)"
   ]
  },
  {
   "cell_type": "code",
   "execution_count": null,
   "id": "be9b2581",
   "metadata": {
    "execution": {
     "iopub.execute_input": "2023-06-09T13:24:33.714818Z",
     "iopub.status.busy": "2023-06-09T13:24:33.714509Z",
     "iopub.status.idle": "2023-06-09T13:24:33.718440Z",
     "shell.execute_reply": "2023-06-09T13:24:33.717560Z"
    }
   },
   "outputs": [],
   "source": [
    "print_squares([3,5,11])"
   ]
  },
  {
   "cell_type": "markdown",
   "id": "f359b96c",
   "metadata": {
    "slideshow": {
     "slide_type": "slide"
    }
   },
   "source": [
    "# Exercise\n",
    "\n",
    "Write a function to find the average of a list of numbers, then print out all the numbers below the average."
   ]
  },
  {
   "cell_type": "markdown",
   "id": "62b418fd",
   "metadata": {
    "slideshow": {
     "slide_type": "fragment"
    }
   },
   "source": [
    "Let's use our usual strategy: decompose the problem. Two main parts:\n",
    "\n",
    "1. Find the average of a list of numbers\n",
    "2. Print all the numbers lower than that average"
   ]
  },
  {
   "cell_type": "markdown",
   "id": "2471a378",
   "metadata": {
    "slideshow": {
     "slide_type": "subslide"
    }
   },
   "source": [
    "Step 1, find the average:"
   ]
  },
  {
   "cell_type": "code",
   "execution_count": null,
   "id": "600f4374",
   "metadata": {
    "execution": {
     "iopub.execute_input": "2023-06-09T13:24:33.722770Z",
     "iopub.status.busy": "2023-06-09T13:24:33.722458Z",
     "iopub.status.idle": "2023-06-09T13:24:33.726457Z",
     "shell.execute_reply": "2023-06-09T13:24:33.725705Z"
    }
   },
   "outputs": [],
   "source": [
    "def below_average(nums):\n",
    "    sum = 0\n",
    "    for  num in nums:\n",
    "        sum = sum + num\n",
    "    avg = sum / len(nums)\n",
    "\n",
    "    print(\"The average is: \" + str(avg) + \".\")"
   ]
  },
  {
   "cell_type": "code",
   "execution_count": null,
   "id": "6025bf87",
   "metadata": {
    "execution": {
     "iopub.execute_input": "2023-06-09T13:24:33.729872Z",
     "iopub.status.busy": "2023-06-09T13:24:33.729572Z",
     "iopub.status.idle": "2023-06-09T13:24:33.733323Z",
     "shell.execute_reply": "2023-06-09T13:24:33.732601Z"
    }
   },
   "outputs": [],
   "source": [
    "below_average([1,2,3,4,100000])"
   ]
  },
  {
   "cell_type": "markdown",
   "id": "013dc98c",
   "metadata": {
    "slideshow": {
     "slide_type": "subslide"
    }
   },
   "source": [
    "Step 2: print each item below the average:"
   ]
  },
  {
   "cell_type": "code",
   "execution_count": null,
   "id": "66a7e988",
   "metadata": {
    "execution": {
     "iopub.execute_input": "2023-06-09T13:24:33.736976Z",
     "iopub.status.busy": "2023-06-09T13:24:33.736659Z",
     "iopub.status.idle": "2023-06-09T13:24:33.740656Z",
     "shell.execute_reply": "2023-06-09T13:24:33.740053Z"
    },
    "slideshow": {
     "slide_type": "-"
    }
   },
   "outputs": [],
   "source": [
    "def below_average(nums):\n",
    "    sum = 0\n",
    "    for  num in nums:\n",
    "        sum = sum + num\n",
    "    avg = sum / len(nums)\n",
    "    \n",
    "    print(\"The average is: \" + str(avg) + \". Here are all the below average numbers: \")\n",
    "    for num in nums:\n",
    "        if num < avg:\n",
    "            print(num, end=' ')"
   ]
  },
  {
   "cell_type": "code",
   "execution_count": null,
   "id": "929782bb",
   "metadata": {
    "execution": {
     "iopub.execute_input": "2023-06-09T13:24:33.744120Z",
     "iopub.status.busy": "2023-06-09T13:24:33.743831Z",
     "iopub.status.idle": "2023-06-09T13:24:33.747415Z",
     "shell.execute_reply": "2023-06-09T13:24:33.746882Z"
    },
    "slideshow": {
     "slide_type": "-"
    }
   },
   "outputs": [],
   "source": [
    "below_average([1,2,3,4,100000])"
   ]
  },
  {
   "cell_type": "markdown",
   "id": "5a17eb68",
   "metadata": {
    "slideshow": {
     "slide_type": "slide"
    }
   },
   "source": [
    "# Exercise\n",
    "\n",
    "Write a function to find the largest number in a list"
   ]
  },
  {
   "cell_type": "code",
   "execution_count": null,
   "id": "480f52e6",
   "metadata": {
    "execution": {
     "iopub.execute_input": "2023-06-09T13:24:33.750371Z",
     "iopub.status.busy": "2023-06-09T13:24:33.750117Z",
     "iopub.status.idle": "2023-06-09T13:24:33.753655Z",
     "shell.execute_reply": "2023-06-09T13:24:33.753028Z"
    }
   },
   "outputs": [],
   "source": [
    "def find_largest(nums):\n",
    "    biggest = 0\n",
    "    for num in nums:\n",
    "        if num > biggest:\n",
    "            biggest = num\n",
    "    return biggest"
   ]
  },
  {
   "cell_type": "code",
   "execution_count": null,
   "id": "e9edd6ad",
   "metadata": {
    "execution": {
     "iopub.execute_input": "2023-06-09T13:24:33.756650Z",
     "iopub.status.busy": "2023-06-09T13:24:33.756383Z",
     "iopub.status.idle": "2023-06-09T13:24:33.760962Z",
     "shell.execute_reply": "2023-06-09T13:24:33.760220Z"
    }
   },
   "outputs": [],
   "source": [
    "find_largest([18, 27, 1, 3, 10, 1000])"
   ]
  },
  {
   "cell_type": "markdown",
   "id": "d7e5a6dd",
   "metadata": {
    "slideshow": {
     "slide_type": "subslide"
    }
   },
   "source": [
    "Looks like it worked... but can you spot the bug?"
   ]
  },
  {
   "cell_type": "code",
   "execution_count": null,
   "id": "80d2e689",
   "metadata": {
    "execution": {
     "iopub.execute_input": "2023-06-09T13:24:33.764445Z",
     "iopub.status.busy": "2023-06-09T13:24:33.764157Z",
     "iopub.status.idle": "2023-06-09T13:24:33.767740Z",
     "shell.execute_reply": "2023-06-09T13:24:33.766988Z"
    }
   },
   "outputs": [],
   "source": [
    "def find_largest(nums):\n",
    "    biggest = 0\n",
    "    for num in nums:\n",
    "        if num > biggest:\n",
    "            biggest = num\n",
    "    return biggest"
   ]
  },
  {
   "cell_type": "code",
   "execution_count": null,
   "id": "a50ed117",
   "metadata": {
    "execution": {
     "iopub.execute_input": "2023-06-09T13:24:33.771008Z",
     "iopub.status.busy": "2023-06-09T13:24:33.770733Z",
     "iopub.status.idle": "2023-06-09T13:24:33.775054Z",
     "shell.execute_reply": "2023-06-09T13:24:33.774449Z"
    },
    "slideshow": {
     "slide_type": "fragment"
    }
   },
   "outputs": [],
   "source": [
    "find_largest([-1, -2, -3])"
   ]
  },
  {
   "cell_type": "markdown",
   "id": "57de5587",
   "metadata": {
    "slideshow": {
     "slide_type": "subslide"
    }
   },
   "source": [
    "`0` is a bad choice for our initial maximum value. \n",
    "\n",
    "We could use a very negative number, but in Python integers are unbounded, so it will never be negative enough to cover all cases.\n",
    "\n",
    "Let's try something else..."
   ]
  },
  {
   "cell_type": "code",
   "execution_count": null,
   "id": "2bc5c62b",
   "metadata": {
    "execution": {
     "iopub.execute_input": "2023-06-09T13:24:33.778134Z",
     "iopub.status.busy": "2023-06-09T13:24:33.777867Z",
     "iopub.status.idle": "2023-06-09T13:24:33.781289Z",
     "shell.execute_reply": "2023-06-09T13:24:33.780723Z"
    }
   },
   "outputs": [],
   "source": [
    "def find_largest(nums):\n",
    "    biggest = nums[0]\n",
    "    for num in nums[1:]:\n",
    "        if num > biggest:\n",
    "            biggest = num\n",
    "    return biggest"
   ]
  },
  {
   "cell_type": "code",
   "execution_count": null,
   "id": "84c494b1",
   "metadata": {
    "execution": {
     "iopub.execute_input": "2023-06-09T13:24:33.785181Z",
     "iopub.status.busy": "2023-06-09T13:24:33.784853Z",
     "iopub.status.idle": "2023-06-09T13:24:33.789506Z",
     "shell.execute_reply": "2023-06-09T13:24:33.788751Z"
    }
   },
   "outputs": [],
   "source": [
    "find_largest([-1,-2,-3])"
   ]
  },
  {
   "cell_type": "code",
   "execution_count": null,
   "id": "843446c1",
   "metadata": {
    "execution": {
     "iopub.execute_input": "2023-06-09T13:24:33.792918Z",
     "iopub.status.busy": "2023-06-09T13:24:33.792650Z",
     "iopub.status.idle": "2023-06-09T13:24:33.814062Z",
     "shell.execute_reply": "2023-06-09T13:24:33.813306Z"
    },
    "slideshow": {
     "slide_type": "fragment"
    }
   },
   "outputs": [],
   "source": [
    "find_largest([])"
   ]
  },
  {
   "cell_type": "markdown",
   "id": "b33aebb3",
   "metadata": {
    "slideshow": {
     "slide_type": "subslide"
    }
   },
   "source": [
    "Whoops, this doesn't work on empty lists!"
   ]
  },
  {
   "cell_type": "code",
   "execution_count": null,
   "id": "1f6c9cb4",
   "metadata": {
    "execution": {
     "iopub.execute_input": "2023-06-09T13:24:33.817768Z",
     "iopub.status.busy": "2023-06-09T13:24:33.817500Z",
     "iopub.status.idle": "2023-06-09T13:24:33.821420Z",
     "shell.execute_reply": "2023-06-09T13:24:33.820775Z"
    },
    "slideshow": {
     "slide_type": "fragment"
    }
   },
   "outputs": [],
   "source": [
    "def find_largest(nums):\n",
    "    if len(nums) == 0:\n",
    "        return None\n",
    "    \n",
    "    biggest = nums[0]\n",
    "    for num in nums[1:]:\n",
    "        if num > biggest:\n",
    "            biggest = num\n",
    "    return biggest"
   ]
  },
  {
   "cell_type": "code",
   "execution_count": null,
   "id": "9453bc9d",
   "metadata": {
    "execution": {
     "iopub.execute_input": "2023-06-09T13:24:33.825035Z",
     "iopub.status.busy": "2023-06-09T13:24:33.824541Z",
     "iopub.status.idle": "2023-06-09T13:24:33.828932Z",
     "shell.execute_reply": "2023-06-09T13:24:33.828334Z"
    }
   },
   "outputs": [],
   "source": [
    "find_largest([-1,-2,-3])"
   ]
  },
  {
   "cell_type": "markdown",
   "id": "d7a3b7c4",
   "metadata": {
    "slideshow": {
     "slide_type": "subslide"
    }
   },
   "source": [
    "This is perfectly good! Here's one more option though:"
   ]
  },
  {
   "cell_type": "code",
   "execution_count": null,
   "id": "2e8bad8b",
   "metadata": {
    "execution": {
     "iopub.execute_input": "2023-06-09T13:24:33.832476Z",
     "iopub.status.busy": "2023-06-09T13:24:33.832184Z",
     "iopub.status.idle": "2023-06-09T13:24:33.835701Z",
     "shell.execute_reply": "2023-06-09T13:24:33.835043Z"
    }
   },
   "outputs": [],
   "source": [
    "def find_largest(nums):\n",
    "    biggest = None\n",
    "    for num in nums:\n",
    "        if biggest is None or num > biggest:\n",
    "            biggest = num\n",
    "    return biggest"
   ]
  },
  {
   "cell_type": "code",
   "execution_count": null,
   "id": "d1521fcd",
   "metadata": {
    "execution": {
     "iopub.execute_input": "2023-06-09T13:24:33.839349Z",
     "iopub.status.busy": "2023-06-09T13:24:33.838980Z",
     "iopub.status.idle": "2023-06-09T13:24:33.843953Z",
     "shell.execute_reply": "2023-06-09T13:24:33.843354Z"
    }
   },
   "outputs": [],
   "source": [
    "find_largest([-1,-2,-3])"
   ]
  },
  {
   "cell_type": "code",
   "execution_count": null,
   "id": "89810ac7",
   "metadata": {
    "execution": {
     "iopub.execute_input": "2023-06-09T13:24:33.846996Z",
     "iopub.status.busy": "2023-06-09T13:24:33.846720Z",
     "iopub.status.idle": "2023-06-09T13:24:33.851630Z",
     "shell.execute_reply": "2023-06-09T13:24:33.850672Z"
    },
    "slideshow": {
     "slide_type": "-"
    }
   },
   "outputs": [],
   "source": [
    "print(find_largest([]))"
   ]
  }
 ],
 "metadata": {
  "celltoolbar": "Slideshow",
  "kernelspec": {
   "display_name": "Python 3 (ipykernel)",
   "language": "python",
   "name": "python3"
  },
  "language_info": {
   "codemirror_mode": {
    "name": "ipython",
    "version": 3
   },
   "file_extension": ".py",
   "mimetype": "text/x-python",
   "name": "python",
   "nbconvert_exporter": "python",
   "pygments_lexer": "ipython3",
   "version": "3.10.9"
  }
 },
 "nbformat": 4,
 "nbformat_minor": 5
}
