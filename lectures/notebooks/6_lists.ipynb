{
 "cells": [
  {
   "cell_type": "markdown",
   "id": "1ee8a1d2",
   "metadata": {
    "slideshow": {
     "slide_type": "slide"
    }
   },
   "source": [
    "# Lists\n",
    "\n",
    "<style>\n",
    "section.present > section.present { \n",
    "    max-height: 90%; \n",
    "    overflow-y: scroll;\n",
    "}\n",
    "</style>\n",
    "\n",
    "<small><a href=\"https://colab.research.google.com/github/brandeis-jdelfino/cosi-10a/blob/main/lectures/notebooks/6_lists.ipynb\">Link to interactive slides on Google Colab</a></small>"
   ]
  },
  {
   "cell_type": "markdown",
   "id": "e04d6879",
   "metadata": {
    "slideshow": {
     "slide_type": "slide"
    }
   },
   "source": [
    "# Lists\n",
    "\n",
    "So far, we've been dealing with single values - integers, floats, strings.\n",
    "\n",
    "Today, we'll learn about new data type: lists!"
   ]
  },
  {
   "cell_type": "markdown",
   "id": "a239b34a",
   "metadata": {
    "slideshow": {
     "slide_type": "slide"
    }
   },
   "source": [
    "# Creating lists"
   ]
  },
  {
   "cell_type": "code",
   "execution_count": null,
   "id": "5f9bb1a4",
   "metadata": {
    "execution": {
     "iopub.execute_input": "2023-07-20T16:48:31.582082Z",
     "iopub.status.busy": "2023-07-20T16:48:31.581693Z",
     "iopub.status.idle": "2023-07-20T16:48:31.598369Z",
     "shell.execute_reply": "2023-07-20T16:48:31.597491Z"
    }
   },
   "outputs": [],
   "source": [
    "x = [2, 5, 7, 9]\n",
    "print(x)"
   ]
  },
  {
   "cell_type": "markdown",
   "id": "2d367a27",
   "metadata": {},
   "source": [
    "`x` holds a list with 4 items: the integers 2, 5, 7, and 9."
   ]
  },
  {
   "cell_type": "code",
   "execution_count": null,
   "id": "af9ce082",
   "metadata": {
    "execution": {
     "iopub.execute_input": "2023-07-20T16:48:31.602475Z",
     "iopub.status.busy": "2023-07-20T16:48:31.602165Z",
     "iopub.status.idle": "2023-07-20T16:48:31.605998Z",
     "shell.execute_reply": "2023-07-20T16:48:31.605309Z"
    }
   },
   "outputs": [],
   "source": [
    "y = []\n",
    "print(y)"
   ]
  },
  {
   "cell_type": "markdown",
   "id": "b692c650",
   "metadata": {},
   "source": [
    "`y` is an empty list"
   ]
  },
  {
   "cell_type": "code",
   "execution_count": null,
   "id": "f1a5c95c",
   "metadata": {
    "execution": {
     "iopub.execute_input": "2023-07-20T16:48:31.609524Z",
     "iopub.status.busy": "2023-07-20T16:48:31.609247Z",
     "iopub.status.idle": "2023-07-20T16:48:31.612904Z",
     "shell.execute_reply": "2023-07-20T16:48:31.612175Z"
    },
    "slideshow": {
     "slide_type": "subslide"
    }
   },
   "outputs": [],
   "source": [
    "z = [\"lists\", \"can hold\", \"any data type\"]\n",
    "print(z)"
   ]
  },
  {
   "cell_type": "markdown",
   "id": "fe4a7be7",
   "metadata": {},
   "source": [
    "`z` is a list holding 3 strings"
   ]
  },
  {
   "cell_type": "code",
   "execution_count": null,
   "id": "7a757884",
   "metadata": {
    "execution": {
     "iopub.execute_input": "2023-07-20T16:48:31.616336Z",
     "iopub.status.busy": "2023-07-20T16:48:31.615885Z",
     "iopub.status.idle": "2023-07-20T16:48:31.619412Z",
     "shell.execute_reply": "2023-07-20T16:48:31.618780Z"
    }
   },
   "outputs": [],
   "source": [
    "q = [1, 2.0, \"lists hold anything\", True]\n",
    "print(q)"
   ]
  },
  {
   "cell_type": "markdown",
   "id": "b9370229",
   "metadata": {},
   "source": [
    "`q` is a list with 4 items: an integer, a float, a string, and a boolean.\n",
    "\n",
    "Lists can hold a mix of different data types."
   ]
  },
  {
   "cell_type": "code",
   "execution_count": null,
   "id": "9e082738",
   "metadata": {
    "execution": {
     "iopub.execute_input": "2023-07-20T16:48:31.622438Z",
     "iopub.status.busy": "2023-07-20T16:48:31.622178Z",
     "iopub.status.idle": "2023-07-20T16:48:31.625585Z",
     "shell.execute_reply": "2023-07-20T16:48:31.624940Z"
    },
    "slideshow": {
     "slide_type": "subslide"
    }
   },
   "outputs": [],
   "source": [
    "r = [[1,2,3], [4,5,6]]\n",
    "print(r)"
   ]
  },
  {
   "cell_type": "markdown",
   "id": "aa6f5052",
   "metadata": {},
   "source": [
    "`r` is a list holding 2 lists, each of which hold 3 integers.\n",
    "\n",
    "If your brain just exploded a little, don't worry - we'll revisit nested lists."
   ]
  },
  {
   "cell_type": "markdown",
   "id": "9a3b8e88",
   "metadata": {
    "slideshow": {
     "slide_type": "slide"
    }
   },
   "source": [
    "# Accessing lists\n",
    "\n",
    "You can access items in a list by **index**.\n",
    "\n",
    "The indices are **0-based**: the first item in the list has index 0."
   ]
  },
  {
   "cell_type": "code",
   "execution_count": null,
   "id": "5fb9c9e1",
   "metadata": {
    "execution": {
     "iopub.execute_input": "2023-07-20T16:48:31.628624Z",
     "iopub.status.busy": "2023-07-20T16:48:31.628375Z",
     "iopub.status.idle": "2023-07-20T16:48:31.634490Z",
     "shell.execute_reply": "2023-07-20T16:48:31.633923Z"
    }
   },
   "outputs": [],
   "source": [
    "foods = [\"apple\", \"banana\", \"chocolate\"]\n",
    "foods[0]"
   ]
  },
  {
   "cell_type": "code",
   "execution_count": null,
   "id": "5098c573",
   "metadata": {
    "execution": {
     "iopub.execute_input": "2023-07-20T16:48:31.637464Z",
     "iopub.status.busy": "2023-07-20T16:48:31.637204Z",
     "iopub.status.idle": "2023-07-20T16:48:31.641177Z",
     "shell.execute_reply": "2023-07-20T16:48:31.640634Z"
    }
   },
   "outputs": [],
   "source": [
    "foods[2]"
   ]
  },
  {
   "cell_type": "markdown",
   "id": "5e133222",
   "metadata": {
    "slideshow": {
     "slide_type": "subslide"
    }
   },
   "source": [
    "Accessing an element outside the bounds of the array produces an error:"
   ]
  },
  {
   "cell_type": "code",
   "execution_count": null,
   "id": "89cf4a8d",
   "metadata": {
    "execution": {
     "iopub.execute_input": "2023-07-20T16:48:31.644207Z",
     "iopub.status.busy": "2023-07-20T16:48:31.643943Z",
     "iopub.status.idle": "2023-07-20T16:48:31.907329Z",
     "shell.execute_reply": "2023-07-20T16:48:31.906655Z"
    },
    "tags": [
     "raises-exception"
    ]
   },
   "outputs": [],
   "source": [
    "foods = [\"apple\", \"banana\", \"chocolate\"]\n",
    "foods[3]"
   ]
  },
  {
   "cell_type": "markdown",
   "id": "e3cebf48",
   "metadata": {
    "slideshow": {
     "slide_type": "subslide"
    }
   },
   "source": [
    "You can use negative indices to count backwards from the end:"
   ]
  },
  {
   "cell_type": "code",
   "execution_count": null,
   "id": "9fdfe380",
   "metadata": {
    "execution": {
     "iopub.execute_input": "2023-07-20T16:48:31.910717Z",
     "iopub.status.busy": "2023-07-20T16:48:31.910430Z",
     "iopub.status.idle": "2023-07-20T16:48:31.915275Z",
     "shell.execute_reply": "2023-07-20T16:48:31.914667Z"
    }
   },
   "outputs": [],
   "source": [
    "foods = [\"apple\", \"banana\", \"chocolate\"]\n",
    "foods[-1]"
   ]
  },
  {
   "cell_type": "code",
   "execution_count": null,
   "id": "67d639a4",
   "metadata": {
    "execution": {
     "iopub.execute_input": "2023-07-20T16:48:31.918640Z",
     "iopub.status.busy": "2023-07-20T16:48:31.918352Z",
     "iopub.status.idle": "2023-07-20T16:48:31.923114Z",
     "shell.execute_reply": "2023-07-20T16:48:31.922420Z"
    }
   },
   "outputs": [],
   "source": [
    "foods[-3]"
   ]
  },
  {
   "cell_type": "markdown",
   "id": "ea0fa86a",
   "metadata": {
    "slideshow": {
     "slide_type": "slide"
    }
   },
   "source": [
    "# Slicing\n",
    "\n",
    "You can **slice** lists - create a new list from a subset of a list.\n",
    "\n",
    "Slice from the beginning of the list up to an index with `[:n]`:"
   ]
  },
  {
   "cell_type": "code",
   "execution_count": null,
   "id": "0c7e7558",
   "metadata": {
    "execution": {
     "iopub.execute_input": "2023-07-20T16:48:31.926182Z",
     "iopub.status.busy": "2023-07-20T16:48:31.925941Z",
     "iopub.status.idle": "2023-07-20T16:48:31.929230Z",
     "shell.execute_reply": "2023-07-20T16:48:31.928549Z"
    }
   },
   "outputs": [],
   "source": [
    "mountains = [\"everest\", \"whitney\", \"washington\", \"denali\", \"rainier\"]"
   ]
  },
  {
   "cell_type": "code",
   "execution_count": null,
   "id": "fbbd26ca",
   "metadata": {
    "execution": {
     "iopub.execute_input": "2023-07-20T16:48:31.931991Z",
     "iopub.status.busy": "2023-07-20T16:48:31.931764Z",
     "iopub.status.idle": "2023-07-20T16:48:31.935768Z",
     "shell.execute_reply": "2023-07-20T16:48:31.935094Z"
    }
   },
   "outputs": [],
   "source": [
    "# take everything up to (but not including) index 2\n",
    "mountains[:2]"
   ]
  },
  {
   "cell_type": "markdown",
   "id": "edbf204f",
   "metadata": {},
   "source": [
    "Slice from an index to the end of the list with `[n:]`:"
   ]
  },
  {
   "cell_type": "code",
   "execution_count": null,
   "id": "7af6ac76",
   "metadata": {
    "execution": {
     "iopub.execute_input": "2023-07-20T16:48:31.939869Z",
     "iopub.status.busy": "2023-07-20T16:48:31.939544Z",
     "iopub.status.idle": "2023-07-20T16:48:31.944897Z",
     "shell.execute_reply": "2023-07-20T16:48:31.944033Z"
    }
   },
   "outputs": [],
   "source": [
    "# drop the first item in the list\n",
    "mountains[1:]"
   ]
  },
  {
   "cell_type": "markdown",
   "id": "76c3775d",
   "metadata": {
    "slideshow": {
     "slide_type": "subslide"
    }
   },
   "source": [
    "Slice from the middle by providing a start and end index `[m:n]`:"
   ]
  },
  {
   "cell_type": "code",
   "execution_count": null,
   "id": "415fa705",
   "metadata": {
    "execution": {
     "iopub.execute_input": "2023-07-20T16:48:31.948048Z",
     "iopub.status.busy": "2023-07-20T16:48:31.947793Z",
     "iopub.status.idle": "2023-07-20T16:48:31.952611Z",
     "shell.execute_reply": "2023-07-20T16:48:31.952035Z"
    }
   },
   "outputs": [],
   "source": [
    "mountains = [\"everest\", \"whitney\", \"washington\", \"denali\", \"rainier\"]\n",
    "# take indices 1, 2\n",
    "mountains[1:3]"
   ]
  },
  {
   "cell_type": "markdown",
   "id": "fb8abeba",
   "metadata": {},
   "source": [
    "You can even use negative indices when slicing:"
   ]
  },
  {
   "cell_type": "code",
   "execution_count": null,
   "id": "5aa7024d",
   "metadata": {
    "execution": {
     "iopub.execute_input": "2023-07-20T16:48:31.956023Z",
     "iopub.status.busy": "2023-07-20T16:48:31.955738Z",
     "iopub.status.idle": "2023-07-20T16:48:31.960225Z",
     "shell.execute_reply": "2023-07-20T16:48:31.959531Z"
    }
   },
   "outputs": [],
   "source": [
    "# take everything up to the last 2 items\n",
    "mountains[:-2]"
   ]
  },
  {
   "cell_type": "code",
   "execution_count": null,
   "id": "d33feba6",
   "metadata": {
    "execution": {
     "iopub.execute_input": "2023-07-20T16:48:31.963329Z",
     "iopub.status.busy": "2023-07-20T16:48:31.963040Z",
     "iopub.status.idle": "2023-07-20T16:48:31.967730Z",
     "shell.execute_reply": "2023-07-20T16:48:31.966968Z"
    }
   },
   "outputs": [],
   "source": [
    "# drop the first and last items\n",
    "mountains[1:-1]"
   ]
  },
  {
   "cell_type": "markdown",
   "id": "53d0022e",
   "metadata": {
    "slideshow": {
     "slide_type": "slide"
    }
   },
   "source": [
    "# Length\n",
    "\n",
    "The `len()` function gives you the length of a list:"
   ]
  },
  {
   "cell_type": "code",
   "execution_count": null,
   "id": "d1463495",
   "metadata": {
    "execution": {
     "iopub.execute_input": "2023-07-20T16:48:31.970860Z",
     "iopub.status.busy": "2023-07-20T16:48:31.970551Z",
     "iopub.status.idle": "2023-07-20T16:48:31.974823Z",
     "shell.execute_reply": "2023-07-20T16:48:31.974300Z"
    }
   },
   "outputs": [],
   "source": [
    "mountains = [\"everest\", \"whitney\", \"washington\", \"denali\", \"rainier\"]\n",
    "len(mountains)"
   ]
  },
  {
   "cell_type": "markdown",
   "id": "6c9ffbd4",
   "metadata": {
    "slideshow": {
     "slide_type": "slide"
    }
   },
   "source": [
    "# Modifying lists\n",
    "\n",
    "You can add, remove, and change elements.\n",
    "\n",
    "Assigning to an element changes it in place:"
   ]
  },
  {
   "cell_type": "code",
   "execution_count": null,
   "id": "4005901b",
   "metadata": {
    "execution": {
     "iopub.execute_input": "2023-07-20T16:48:31.977903Z",
     "iopub.status.busy": "2023-07-20T16:48:31.977630Z",
     "iopub.status.idle": "2023-07-20T16:48:31.980828Z",
     "shell.execute_reply": "2023-07-20T16:48:31.980308Z"
    }
   },
   "outputs": [],
   "source": [
    "mountains = [\"rushmore\", \"whitney\", \"washington\", \"denali\", \"rainier\"]\n",
    "mountains[0] = \"everest\"\n",
    "print(mountains)"
   ]
  },
  {
   "cell_type": "markdown",
   "id": "2d45454e",
   "metadata": {
    "slideshow": {
     "slide_type": "subslide"
    }
   },
   "source": [
    "The `append()` method adds an element to the end:"
   ]
  },
  {
   "cell_type": "code",
   "execution_count": null,
   "id": "663cabfd",
   "metadata": {
    "execution": {
     "iopub.execute_input": "2023-07-20T16:48:31.984137Z",
     "iopub.status.busy": "2023-07-20T16:48:31.983738Z",
     "iopub.status.idle": "2023-07-20T16:48:31.987330Z",
     "shell.execute_reply": "2023-07-20T16:48:31.986694Z"
    }
   },
   "outputs": [],
   "source": [
    "mountains = [\"everest\", \"whitney\", \"washington\", \"denali\", \"rainier\"]\n",
    "mountains.append(\"kilimanjaro\")\n",
    "print(mountains)"
   ]
  },
  {
   "cell_type": "markdown",
   "id": "d8f20e3d",
   "metadata": {
    "slideshow": {
     "slide_type": "subslide"
    }
   },
   "source": [
    "The `insert()` method will insert at a given index:"
   ]
  },
  {
   "cell_type": "code",
   "execution_count": null,
   "id": "07f6cdbd",
   "metadata": {
    "execution": {
     "iopub.execute_input": "2023-07-20T16:48:31.990305Z",
     "iopub.status.busy": "2023-07-20T16:48:31.990072Z",
     "iopub.status.idle": "2023-07-20T16:48:31.993367Z",
     "shell.execute_reply": "2023-07-20T16:48:31.992804Z"
    }
   },
   "outputs": [],
   "source": [
    "mountains = [\"everest\", \"whitney\", \"washington\", \"denali\", \"rainier\"]\n",
    "mountains.insert(1, \"kilimanjaro\")\n",
    "print(mountains)"
   ]
  },
  {
   "cell_type": "markdown",
   "id": "7fef35c1",
   "metadata": {
    "slideshow": {
     "slide_type": "subslide"
    }
   },
   "source": [
    "A few ways to delete items:\n",
    "\n",
    "The `del` keyword:"
   ]
  },
  {
   "cell_type": "code",
   "execution_count": null,
   "id": "5829b112",
   "metadata": {
    "execution": {
     "iopub.execute_input": "2023-07-20T16:48:31.996505Z",
     "iopub.status.busy": "2023-07-20T16:48:31.996113Z",
     "iopub.status.idle": "2023-07-20T16:48:31.999555Z",
     "shell.execute_reply": "2023-07-20T16:48:31.998870Z"
    }
   },
   "outputs": [],
   "source": [
    "mountains = [\"everest\", \"whitney\", \"washington\", \"denali\", \"rainier\"]\n",
    "del mountains[3]\n",
    "print(mountains)"
   ]
  },
  {
   "cell_type": "markdown",
   "id": "f2eb6228",
   "metadata": {},
   "source": [
    "The `pop()` method, which takes the index to remove, and returns the element that was removed:"
   ]
  },
  {
   "cell_type": "code",
   "execution_count": null,
   "id": "be7d2a02",
   "metadata": {
    "execution": {
     "iopub.execute_input": "2023-07-20T16:48:32.002472Z",
     "iopub.status.busy": "2023-07-20T16:48:32.002231Z",
     "iopub.status.idle": "2023-07-20T16:48:32.005758Z",
     "shell.execute_reply": "2023-07-20T16:48:32.005244Z"
    }
   },
   "outputs": [],
   "source": [
    "mountains = [\"everest\", \"whitney\", \"washington\", \"denali\", \"rainier\"]\n",
    "popped = mountains.pop(2)\n",
    "print(\"Removed \" + popped)\n",
    "print(\"List after the pop: \" + str(mountains))"
   ]
  },
  {
   "cell_type": "markdown",
   "id": "80288aa7",
   "metadata": {
    "slideshow": {
     "slide_type": "subslide"
    }
   },
   "source": [
    "Remove everything with the `clear()` method"
   ]
  },
  {
   "cell_type": "code",
   "execution_count": null,
   "id": "b61d81af",
   "metadata": {
    "execution": {
     "iopub.execute_input": "2023-07-20T16:48:32.008522Z",
     "iopub.status.busy": "2023-07-20T16:48:32.008282Z",
     "iopub.status.idle": "2023-07-20T16:48:32.011761Z",
     "shell.execute_reply": "2023-07-20T16:48:32.011124Z"
    }
   },
   "outputs": [],
   "source": [
    "mountains = [\"everest\", \"whitney\", \"washington\", \"denali\", \"rainier\"]\n",
    "mountains.clear()\n",
    "print(mountains)"
   ]
  },
  {
   "cell_type": "markdown",
   "id": "a426da25",
   "metadata": {
    "slideshow": {
     "slide_type": "skip"
    }
   },
   "source": [
    "**Beware** the confusing `remove()` method. It looks for a **value** in the list and removes the **first instance** it finds:"
   ]
  },
  {
   "cell_type": "code",
   "execution_count": null,
   "id": "6844f38b",
   "metadata": {
    "execution": {
     "iopub.execute_input": "2023-07-20T16:48:32.014626Z",
     "iopub.status.busy": "2023-07-20T16:48:32.014397Z",
     "iopub.status.idle": "2023-07-20T16:48:32.017852Z",
     "shell.execute_reply": "2023-07-20T16:48:32.017257Z"
    },
    "slideshow": {
     "slide_type": "skip"
    }
   },
   "outputs": [],
   "source": [
    "mountains = [\"everest\", \"whitney\", \"washington\", \"denali\", \"rainier\", \"whitney\"]\n",
    "mountains.remove(\"whitney\")\n",
    "print(mountains)"
   ]
  },
  {
   "cell_type": "markdown",
   "id": "60078d9d",
   "metadata": {
    "slideshow": {
     "slide_type": "skip"
    }
   },
   "source": [
    "It's easy to mix up `remove()` with `pop()`:"
   ]
  },
  {
   "cell_type": "code",
   "execution_count": null,
   "id": "36f9ba4d",
   "metadata": {
    "execution": {
     "iopub.execute_input": "2023-07-20T16:48:32.020811Z",
     "iopub.status.busy": "2023-07-20T16:48:32.020578Z",
     "iopub.status.idle": "2023-07-20T16:48:32.023944Z",
     "shell.execute_reply": "2023-07-20T16:48:32.023409Z"
    },
    "slideshow": {
     "slide_type": "skip"
    }
   },
   "outputs": [],
   "source": [
    "numbers = [5, 4, 3, 2, 1]\n",
    "# Remove element at index 1... right?\n",
    "numbers.remove(1)\n",
    "# ... wrong. It removed the item `1`.\n",
    "print(numbers)"
   ]
  },
  {
   "cell_type": "markdown",
   "id": "723a14c5",
   "metadata": {
    "slideshow": {
     "slide_type": "subslide"
    }
   },
   "source": [
    "Concatenate 2 lists with `+`:"
   ]
  },
  {
   "cell_type": "code",
   "execution_count": null,
   "id": "b7c474a9",
   "metadata": {
    "execution": {
     "iopub.execute_input": "2023-07-20T16:48:32.026822Z",
     "iopub.status.busy": "2023-07-20T16:48:32.026596Z",
     "iopub.status.idle": "2023-07-20T16:48:32.029777Z",
     "shell.execute_reply": "2023-07-20T16:48:32.029190Z"
    }
   },
   "outputs": [],
   "source": [
    "a = [1,2,3]\n",
    "b = [4,5,6]\n",
    "print(a + b)"
   ]
  },
  {
   "cell_type": "markdown",
   "id": "a17513e8",
   "metadata": {
    "slideshow": {
     "slide_type": "slide"
    }
   },
   "source": [
    "# Aside: method vs function\n",
    "\n",
    "We just reviewed a few `list` **methods**. Methods are functions that are **called on** a value.\n",
    "\n",
    "Methods are called on a value using a `.`: `some_variable.some_method()`\n",
    "\n",
    "For example: to remove the last item from a list named `spam`, call the `pop` method on it: `spam.pop()`.\n",
    "\n",
    "Lists have many useful methods (we covered most, but not all, of them): [list method documentation](https://docs.python.org/3/tutorial/datastructures.html)\n",
    "\n",
    "We'll revisit methods later in the term, all you need to know for now is the syntax for calling them."
   ]
  },
  {
   "cell_type": "markdown",
   "id": "a1b3471e",
   "metadata": {
    "slideshow": {
     "slide_type": "slide"
    }
   },
   "source": [
    "# Exercise\n",
    "\n",
    "Build a **cat**alog (hah): a program that prompts the user for the names of their cats, and prints them all out.\n",
    "\n"
   ]
  },
  {
   "cell_type": "markdown",
   "id": "072c925a",
   "metadata": {
    "slideshow": {
     "slide_type": "subslide"
    }
   },
   "source": [
    "Before lists, the best we could do is something like this, where we have a maximum number of cats, and store each one in its own variable:"
   ]
  },
  {
   "cell_type": "code",
   "execution_count": null,
   "id": "99386b33",
   "metadata": {
    "execution": {
     "iopub.execute_input": "2023-07-20T16:48:32.033017Z",
     "iopub.status.busy": "2023-07-20T16:48:32.032783Z",
     "iopub.status.idle": "2023-07-20T16:48:32.108511Z",
     "shell.execute_reply": "2023-07-20T16:48:32.107647Z"
    },
    "tags": [
     "remove-output"
    ]
   },
   "outputs": [],
   "source": [
    "print('Enter the name of cat 1:')\n",
    "catName1 = input()\n",
    "print('Enter the name of cat 2:')\n",
    "catName2 = input()\n",
    "print('Enter the name of cat 3:')\n",
    "catName3 = input()\n",
    "print('Enter the name of cat 4:')\n",
    "catName4 = input()\n",
    "print('Enter the name of cat 5:')\n",
    "catName5 = input()\n",
    "print('Enter the name of cat 6:')\n",
    "catName6 = input()\n",
    "print('The cat names are:')\n",
    "print(catName1 + ' ' + catName2 + ' ' + catName3 + ' ' + catName4 + ' ' +\n",
    "catName5 + ' ' + catName6)"
   ]
  },
  {
   "cell_type": "markdown",
   "id": "9e2a17f4",
   "metadata": {
    "slideshow": {
     "slide_type": "subslide"
    }
   },
   "source": [
    "Lists improve this significantly, and free us up from a fixed number of cats.\n",
    "\n",
    "We will keep a list of cat names, and add to it each time the user enters one. At the end, we will print out the list."
   ]
  },
  {
   "cell_type": "code",
   "execution_count": null,
   "id": "9cd530fe",
   "metadata": {
    "execution": {
     "iopub.execute_input": "2023-07-20T16:48:32.112558Z",
     "iopub.status.busy": "2023-07-20T16:48:32.112251Z",
     "iopub.status.idle": "2023-07-20T16:48:32.137716Z",
     "shell.execute_reply": "2023-07-20T16:48:32.136407Z"
    },
    "slideshow": {
     "slide_type": "-"
    },
    "tags": [
     "remove-output"
    ]
   },
   "outputs": [],
   "source": [
    "catNames = []\n",
    "while True:\n",
    "    print('Enter the name of cat ' + str(len(catNames) + 1) +\n",
    "      ' (Or enter nothing to stop.):')\n",
    "    name = input()\n",
    "    if name == '':\n",
    "        break\n",
    "    catNames.append(name)\n",
    "\n",
    "print('The cat names are: ' + str(catNames))"
   ]
  },
  {
   "cell_type": "markdown",
   "id": "12bdb0c1",
   "metadata": {
    "slideshow": {
     "slide_type": "slide"
    }
   },
   "source": [
    "# Lists and Loops: Friends Forever\n",
    "\n",
    "In the last example, we converted the list to a string to print it out. It worked, but was ugly: `['Batman', 'Bill Murray']`. Let's look at how to use loops and lists together.\n",
    "\n",
    "Write a function that takes a list of integers as a parameter, and prints out the square of each number.\n",
    "\n",
    "One way to do it:"
   ]
  },
  {
   "cell_type": "code",
   "execution_count": null,
   "id": "fbc323f8",
   "metadata": {
    "execution": {
     "iopub.execute_input": "2023-07-20T16:48:32.141582Z",
     "iopub.status.busy": "2023-07-20T16:48:32.141276Z",
     "iopub.status.idle": "2023-07-20T16:48:32.145225Z",
     "shell.execute_reply": "2023-07-20T16:48:32.144472Z"
    }
   },
   "outputs": [],
   "source": [
    "def print_squares(nums):\n",
    "    for i in range(len(nums)):\n",
    "        print(nums[i] ** 2)"
   ]
  },
  {
   "cell_type": "code",
   "execution_count": null,
   "id": "e9d4491c",
   "metadata": {
    "execution": {
     "iopub.execute_input": "2023-07-20T16:48:32.149152Z",
     "iopub.status.busy": "2023-07-20T16:48:32.148833Z",
     "iopub.status.idle": "2023-07-20T16:48:32.152630Z",
     "shell.execute_reply": "2023-07-20T16:48:32.151953Z"
    }
   },
   "outputs": [],
   "source": [
    "print_squares([3,5,11])"
   ]
  },
  {
   "cell_type": "code",
   "execution_count": null,
   "id": "2bd7e928",
   "metadata": {
    "execution": {
     "iopub.execute_input": "2023-07-20T16:48:32.156574Z",
     "iopub.status.busy": "2023-07-20T16:48:32.156100Z",
     "iopub.status.idle": "2023-07-20T16:48:32.159468Z",
     "shell.execute_reply": "2023-07-20T16:48:32.158891Z"
    },
    "slideshow": {
     "slide_type": "subslide"
    }
   },
   "outputs": [],
   "source": [
    "def print_squares(nums):\n",
    "    for i in range(len(nums)):\n",
    "        print(nums[i] ** 2)"
   ]
  },
  {
   "cell_type": "markdown",
   "id": "dfa7d856",
   "metadata": {
    "slideshow": {
     "slide_type": "-"
    }
   },
   "source": [
    "Breaking that down, if the input is `[3, 5, 11]`:  \n",
    "\n",
    "`for i in range(len(nums))` ->  \n",
    "`for i in range(3)`"
   ]
  },
  {
   "cell_type": "markdown",
   "id": "e3795f08",
   "metadata": {
    "slideshow": {
     "slide_type": "subslide"
    }
   },
   "source": [
    "That works, but there are other ways to iterate over a list.\n",
    "\n",
    "`for <var> in <list>:` will execute the code block once for each item in the list, with `<var>` equal to the next list item for each iteration.\n",
    "\n",
    "More on list iteration in the next lecture - for today, just knowing this form of the `for` loop is enough."
   ]
  },
  {
   "cell_type": "code",
   "execution_count": null,
   "id": "729b1ef2",
   "metadata": {
    "execution": {
     "iopub.execute_input": "2023-07-20T16:48:32.162565Z",
     "iopub.status.busy": "2023-07-20T16:48:32.162320Z",
     "iopub.status.idle": "2023-07-20T16:48:32.165352Z",
     "shell.execute_reply": "2023-07-20T16:48:32.164742Z"
    }
   },
   "outputs": [],
   "source": [
    "def print_squares(nums):\n",
    "    for num in nums:\n",
    "        print(num ** 2)"
   ]
  },
  {
   "cell_type": "code",
   "execution_count": null,
   "id": "be9b2581",
   "metadata": {
    "execution": {
     "iopub.execute_input": "2023-07-20T16:48:32.168299Z",
     "iopub.status.busy": "2023-07-20T16:48:32.168049Z",
     "iopub.status.idle": "2023-07-20T16:48:32.171423Z",
     "shell.execute_reply": "2023-07-20T16:48:32.170867Z"
    }
   },
   "outputs": [],
   "source": [
    "print_squares([3,5,11])"
   ]
  },
  {
   "cell_type": "markdown",
   "id": "f359b96c",
   "metadata": {
    "slideshow": {
     "slide_type": "slide"
    }
   },
   "source": [
    "# Exercise\n",
    "\n",
    "Write a function to find the average of a list of numbers, then print out all the numbers below the average."
   ]
  },
  {
   "cell_type": "markdown",
   "id": "62b418fd",
   "metadata": {
    "slideshow": {
     "slide_type": "fragment"
    }
   },
   "source": [
    "Let's use our usual strategy: decompose the problem. Two main parts:\n",
    "\n",
    "1. Find the average of a list of numbers\n",
    "2. Print all the numbers lower than that average"
   ]
  },
  {
   "cell_type": "markdown",
   "id": "2471a378",
   "metadata": {
    "slideshow": {
     "slide_type": "subslide"
    }
   },
   "source": [
    "Step 1, find the average:"
   ]
  },
  {
   "cell_type": "code",
   "execution_count": null,
   "id": "600f4374",
   "metadata": {
    "execution": {
     "iopub.execute_input": "2023-07-20T16:48:32.174546Z",
     "iopub.status.busy": "2023-07-20T16:48:32.174251Z",
     "iopub.status.idle": "2023-07-20T16:48:32.177680Z",
     "shell.execute_reply": "2023-07-20T16:48:32.177063Z"
    }
   },
   "outputs": [],
   "source": [
    "def find_average(nums):\n",
    "    sum = 0\n",
    "    for num in nums:\n",
    "        sum = sum + num\n",
    "    avg = sum / len(nums)\n",
    "    return avg"
   ]
  },
  {
   "cell_type": "code",
   "execution_count": null,
   "id": "6025bf87",
   "metadata": {
    "execution": {
     "iopub.execute_input": "2023-07-20T16:48:32.180682Z",
     "iopub.status.busy": "2023-07-20T16:48:32.180269Z",
     "iopub.status.idle": "2023-07-20T16:48:32.184299Z",
     "shell.execute_reply": "2023-07-20T16:48:32.183731Z"
    }
   },
   "outputs": [],
   "source": [
    "find_average([1,2,3,4,100000])"
   ]
  },
  {
   "cell_type": "markdown",
   "id": "013dc98c",
   "metadata": {
    "slideshow": {
     "slide_type": "subslide"
    }
   },
   "source": [
    "Step 2: print each item below the average:"
   ]
  },
  {
   "cell_type": "code",
   "execution_count": null,
   "id": "66a7e988",
   "metadata": {
    "execution": {
     "iopub.execute_input": "2023-07-20T16:48:32.187310Z",
     "iopub.status.busy": "2023-07-20T16:48:32.187084Z",
     "iopub.status.idle": "2023-07-20T16:48:32.190817Z",
     "shell.execute_reply": "2023-07-20T16:48:32.190222Z"
    },
    "slideshow": {
     "slide_type": "-"
    }
   },
   "outputs": [],
   "source": [
    "def below_average(nums):\n",
    "    avg = find_average(nums)\n",
    "    \n",
    "    print(\"The average is: \" + str(avg) + \". Here are all the below average numbers: \")\n",
    "    for num in nums:\n",
    "        if num < avg:\n",
    "            print(num, end=' ')"
   ]
  },
  {
   "cell_type": "code",
   "execution_count": null,
   "id": "929782bb",
   "metadata": {
    "execution": {
     "iopub.execute_input": "2023-07-20T16:48:32.193873Z",
     "iopub.status.busy": "2023-07-20T16:48:32.193534Z",
     "iopub.status.idle": "2023-07-20T16:48:32.196971Z",
     "shell.execute_reply": "2023-07-20T16:48:32.196369Z"
    },
    "slideshow": {
     "slide_type": "-"
    }
   },
   "outputs": [],
   "source": [
    "below_average([1,2,3,4,100000])"
   ]
  },
  {
   "cell_type": "markdown",
   "id": "5a17eb68",
   "metadata": {
    "slideshow": {
     "slide_type": "slide"
    }
   },
   "source": [
    "# Exercise\n",
    "\n",
    "Write a function to find the largest number in a list. \n",
    "\n",
    "Similar to \"cumulative algorithms\", we'll define a variable to hold the largest number we've seen so far."
   ]
  },
  {
   "cell_type": "code",
   "execution_count": null,
   "id": "480f52e6",
   "metadata": {
    "execution": {
     "iopub.execute_input": "2023-07-20T16:48:32.199900Z",
     "iopub.status.busy": "2023-07-20T16:48:32.199646Z",
     "iopub.status.idle": "2023-07-20T16:48:32.203108Z",
     "shell.execute_reply": "2023-07-20T16:48:32.202498Z"
    }
   },
   "outputs": [],
   "source": [
    "def find_largest(nums):\n",
    "    biggest = 0\n",
    "    for num in nums:\n",
    "        if num > biggest:\n",
    "            biggest = num\n",
    "    return biggest"
   ]
  },
  {
   "cell_type": "code",
   "execution_count": null,
   "id": "e9edd6ad",
   "metadata": {
    "execution": {
     "iopub.execute_input": "2023-07-20T16:48:32.206005Z",
     "iopub.status.busy": "2023-07-20T16:48:32.205768Z",
     "iopub.status.idle": "2023-07-20T16:48:32.209968Z",
     "shell.execute_reply": "2023-07-20T16:48:32.209399Z"
    }
   },
   "outputs": [],
   "source": [
    "find_largest([18, 27, 1, 3, 10, 1000])"
   ]
  },
  {
   "cell_type": "markdown",
   "id": "d7e5a6dd",
   "metadata": {
    "slideshow": {
     "slide_type": "subslide"
    }
   },
   "source": [
    "Looks like it worked... but can you spot the bug?"
   ]
  },
  {
   "cell_type": "code",
   "execution_count": null,
   "id": "80d2e689",
   "metadata": {
    "execution": {
     "iopub.execute_input": "2023-07-20T16:48:32.212933Z",
     "iopub.status.busy": "2023-07-20T16:48:32.212687Z",
     "iopub.status.idle": "2023-07-20T16:48:32.216171Z",
     "shell.execute_reply": "2023-07-20T16:48:32.215494Z"
    }
   },
   "outputs": [],
   "source": [
    "def find_largest(nums):\n",
    "    biggest = 0\n",
    "    for num in nums:\n",
    "        if num > biggest:\n",
    "            biggest = num\n",
    "    return biggest"
   ]
  },
  {
   "cell_type": "code",
   "execution_count": null,
   "id": "a50ed117",
   "metadata": {
    "execution": {
     "iopub.execute_input": "2023-07-20T16:48:32.219144Z",
     "iopub.status.busy": "2023-07-20T16:48:32.218873Z",
     "iopub.status.idle": "2023-07-20T16:48:32.224547Z",
     "shell.execute_reply": "2023-07-20T16:48:32.223855Z"
    },
    "slideshow": {
     "slide_type": "fragment"
    }
   },
   "outputs": [],
   "source": [
    "find_largest([-1, -2, -3])"
   ]
  },
  {
   "cell_type": "markdown",
   "id": "57de5587",
   "metadata": {
    "slideshow": {
     "slide_type": "subslide"
    }
   },
   "source": [
    "`0` is a bad choice for our initial maximum value. \n",
    "\n",
    "We could use a very negative number. But, in Python, integers are unbounded, so it will never be negative enough to cover all cases.\n",
    "\n",
    "Let's try something else..."
   ]
  },
  {
   "cell_type": "code",
   "execution_count": null,
   "id": "2bc5c62b",
   "metadata": {
    "execution": {
     "iopub.execute_input": "2023-07-20T16:48:32.227582Z",
     "iopub.status.busy": "2023-07-20T16:48:32.227331Z",
     "iopub.status.idle": "2023-07-20T16:48:32.230718Z",
     "shell.execute_reply": "2023-07-20T16:48:32.230196Z"
    }
   },
   "outputs": [],
   "source": [
    "def find_largest(nums):\n",
    "    biggest = nums[0]\n",
    "    for num in nums[1:]:\n",
    "        if num > biggest:\n",
    "            biggest = num\n",
    "    return biggest"
   ]
  },
  {
   "cell_type": "code",
   "execution_count": null,
   "id": "84c494b1",
   "metadata": {
    "execution": {
     "iopub.execute_input": "2023-07-20T16:48:32.233469Z",
     "iopub.status.busy": "2023-07-20T16:48:32.233233Z",
     "iopub.status.idle": "2023-07-20T16:48:32.237323Z",
     "shell.execute_reply": "2023-07-20T16:48:32.236776Z"
    }
   },
   "outputs": [],
   "source": [
    "find_largest([-1,-2,-3])"
   ]
  },
  {
   "cell_type": "code",
   "execution_count": null,
   "id": "843446c1",
   "metadata": {
    "execution": {
     "iopub.execute_input": "2023-07-20T16:48:32.240220Z",
     "iopub.status.busy": "2023-07-20T16:48:32.239980Z",
     "iopub.status.idle": "2023-07-20T16:48:32.261079Z",
     "shell.execute_reply": "2023-07-20T16:48:32.260420Z"
    },
    "slideshow": {
     "slide_type": "fragment"
    }
   },
   "outputs": [],
   "source": [
    "find_largest([])"
   ]
  },
  {
   "cell_type": "markdown",
   "id": "b33aebb3",
   "metadata": {
    "slideshow": {
     "slide_type": "subslide"
    }
   },
   "source": [
    "Whoops, this doesn't work on empty lists!"
   ]
  },
  {
   "cell_type": "code",
   "execution_count": null,
   "id": "1f6c9cb4",
   "metadata": {
    "execution": {
     "iopub.execute_input": "2023-07-20T16:48:32.264504Z",
     "iopub.status.busy": "2023-07-20T16:48:32.264170Z",
     "iopub.status.idle": "2023-07-20T16:48:32.268374Z",
     "shell.execute_reply": "2023-07-20T16:48:32.267689Z"
    },
    "slideshow": {
     "slide_type": "fragment"
    }
   },
   "outputs": [],
   "source": [
    "def find_largest(nums):\n",
    "    if len(nums) == 0:\n",
    "        return None\n",
    "    \n",
    "    biggest = nums[0]\n",
    "    for num in nums[1:]:\n",
    "        if num > biggest:\n",
    "            biggest = num\n",
    "    return biggest"
   ]
  },
  {
   "cell_type": "code",
   "execution_count": null,
   "id": "9453bc9d",
   "metadata": {
    "execution": {
     "iopub.execute_input": "2023-07-20T16:48:32.271749Z",
     "iopub.status.busy": "2023-07-20T16:48:32.271407Z",
     "iopub.status.idle": "2023-07-20T16:48:32.276001Z",
     "shell.execute_reply": "2023-07-20T16:48:32.275425Z"
    }
   },
   "outputs": [],
   "source": [
    "find_largest([-1,-2,-3])"
   ]
  },
  {
   "cell_type": "code",
   "execution_count": null,
   "id": "38922609",
   "metadata": {
    "execution": {
     "iopub.execute_input": "2023-07-20T16:48:32.279230Z",
     "iopub.status.busy": "2023-07-20T16:48:32.278950Z",
     "iopub.status.idle": "2023-07-20T16:48:32.283035Z",
     "shell.execute_reply": "2023-07-20T16:48:32.282501Z"
    }
   },
   "outputs": [],
   "source": [
    "find_largest([-2])"
   ]
  },
  {
   "cell_type": "markdown",
   "id": "d7a3b7c4",
   "metadata": {
    "slideshow": {
     "slide_type": "subslide"
    }
   },
   "source": [
    "This is perfectly good! Here's one more option though:"
   ]
  },
  {
   "cell_type": "code",
   "execution_count": null,
   "id": "2e8bad8b",
   "metadata": {
    "execution": {
     "iopub.execute_input": "2023-07-20T16:48:32.286019Z",
     "iopub.status.busy": "2023-07-20T16:48:32.285773Z",
     "iopub.status.idle": "2023-07-20T16:48:32.289630Z",
     "shell.execute_reply": "2023-07-20T16:48:32.288804Z"
    }
   },
   "outputs": [],
   "source": [
    "def find_largest(nums):\n",
    "    biggest = None\n",
    "    for num in nums:\n",
    "        if biggest is None or num > biggest:\n",
    "            biggest = num\n",
    "    return biggest"
   ]
  },
  {
   "cell_type": "code",
   "execution_count": null,
   "id": "d1521fcd",
   "metadata": {
    "execution": {
     "iopub.execute_input": "2023-07-20T16:48:32.293699Z",
     "iopub.status.busy": "2023-07-20T16:48:32.293322Z",
     "iopub.status.idle": "2023-07-20T16:48:32.298499Z",
     "shell.execute_reply": "2023-07-20T16:48:32.297772Z"
    }
   },
   "outputs": [],
   "source": [
    "find_largest([-1,-2,-3])"
   ]
  },
  {
   "cell_type": "code",
   "execution_count": null,
   "id": "89810ac7",
   "metadata": {
    "execution": {
     "iopub.execute_input": "2023-07-20T16:48:32.301857Z",
     "iopub.status.busy": "2023-07-20T16:48:32.301550Z",
     "iopub.status.idle": "2023-07-20T16:48:32.305408Z",
     "shell.execute_reply": "2023-07-20T16:48:32.304660Z"
    },
    "slideshow": {
     "slide_type": "-"
    }
   },
   "outputs": [],
   "source": [
    "print(find_largest([]))"
   ]
  },
  {
   "cell_type": "markdown",
   "id": "60927821",
   "metadata": {},
   "source": [
    "## Oh wait, Python does this for us\n",
    "\n",
    "There is a `max` function (also `min`) that will give us the largest/smallest item in a list: [max() documentation](https://docs.python.org/3/library/functions.html#max)\n",
    "\n",
    "This was still a useful exercise to go through, because the issues we encountered and fixed are all common coding challenges.\n",
    "\n",
    "But when you're writing code in the wild, check for a built-in function or library that you can use before building it all yourself!"
   ]
  },
  {
   "cell_type": "code",
   "execution_count": null,
   "id": "26982949",
   "metadata": {
    "execution": {
     "iopub.execute_input": "2023-07-20T16:48:32.308824Z",
     "iopub.status.busy": "2023-07-20T16:48:32.308550Z",
     "iopub.status.idle": "2023-07-20T16:48:32.312861Z",
     "shell.execute_reply": "2023-07-20T16:48:32.312299Z"
    }
   },
   "outputs": [],
   "source": [
    "max([-1, -2, -3])"
   ]
  }
 ],
 "metadata": {
  "celltoolbar": "Slideshow",
  "kernelspec": {
   "display_name": "Python 3 (ipykernel)",
   "language": "python",
   "name": "python3"
  },
  "language_info": {
   "codemirror_mode": {
    "name": "ipython",
    "version": 3
   },
   "file_extension": ".py",
   "mimetype": "text/x-python",
   "name": "python",
   "nbconvert_exporter": "python",
   "pygments_lexer": "ipython3",
   "version": "3.10.9"
  }
 },
 "nbformat": 4,
 "nbformat_minor": 5
}
