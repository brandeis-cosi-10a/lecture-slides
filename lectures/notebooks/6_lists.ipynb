{
 "cells": [
  {
   "cell_type": "markdown",
   "id": "1ee8a1d2",
   "metadata": {
    "slideshow": {
     "slide_type": "slide"
    }
   },
   "source": [
    "# Lists\n",
    "\n",
    "<style>\n",
    "section.present > section.present { \n",
    "    max-height: 90%; \n",
    "    overflow-y: scroll;\n",
    "}\n",
    "</style>\n",
    "\n",
    "<small><a href=\"https://colab.research.google.com/github/brandeis-jdelfino/cosi-10a/blob/main/lectures/notebooks/6_lists.ipynb\">Link to interactive slides on Google Colab</a></small>"
   ]
  },
  {
   "cell_type": "markdown",
   "id": "9b53e1b0",
   "metadata": {},
   "source": [
    "# Announcements\n",
    "\n",
    "* PS2 is due Friday, 11:59pm. \n",
    "* Quiz 4 tomorrow, on Loops, Exceptions, and Lists\n",
    "* No final exam"
   ]
  },
  {
   "cell_type": "markdown",
   "id": "e04d6879",
   "metadata": {
    "slideshow": {
     "slide_type": "slide"
    }
   },
   "source": [
    "# Lists\n",
    "\n",
    "So far, we've been dealing with single values - integers, floats, strings.\n",
    "\n",
    "Today, we'll learn about new data type: lists!"
   ]
  },
  {
   "cell_type": "markdown",
   "id": "a239b34a",
   "metadata": {
    "slideshow": {
     "slide_type": "slide"
    }
   },
   "source": [
    "# Creating lists"
   ]
  },
  {
   "cell_type": "code",
   "execution_count": null,
   "id": "5f9bb1a4",
   "metadata": {
    "execution": {
     "iopub.execute_input": "2023-10-03T02:39:33.029301Z",
     "iopub.status.busy": "2023-10-03T02:39:33.028939Z",
     "iopub.status.idle": "2023-10-03T02:39:33.041292Z",
     "shell.execute_reply": "2023-10-03T02:39:33.040464Z"
    }
   },
   "outputs": [],
   "source": [
    "x = [2, 5, 7, 9]\n",
    "print(x)"
   ]
  },
  {
   "cell_type": "markdown",
   "id": "2d367a27",
   "metadata": {},
   "source": [
    "`x` holds a list with 4 items: the integers 2, 5, 7, and 9."
   ]
  },
  {
   "cell_type": "code",
   "execution_count": null,
   "id": "af9ce082",
   "metadata": {
    "execution": {
     "iopub.execute_input": "2023-10-03T02:39:33.047758Z",
     "iopub.status.busy": "2023-10-03T02:39:33.047337Z",
     "iopub.status.idle": "2023-10-03T02:39:33.058722Z",
     "shell.execute_reply": "2023-10-03T02:39:33.055599Z"
    }
   },
   "outputs": [],
   "source": [
    "y = []\n",
    "print(y)"
   ]
  },
  {
   "cell_type": "markdown",
   "id": "b692c650",
   "metadata": {},
   "source": [
    "`y` is an empty list"
   ]
  },
  {
   "cell_type": "code",
   "execution_count": null,
   "id": "f1a5c95c",
   "metadata": {
    "execution": {
     "iopub.execute_input": "2023-10-03T02:39:33.066094Z",
     "iopub.status.busy": "2023-10-03T02:39:33.065302Z",
     "iopub.status.idle": "2023-10-03T02:39:33.072413Z",
     "shell.execute_reply": "2023-10-03T02:39:33.071030Z"
    },
    "slideshow": {
     "slide_type": "subslide"
    }
   },
   "outputs": [],
   "source": [
    "z = [\"lists\", \"can hold\", \"any data type\"]\n",
    "print(z)"
   ]
  },
  {
   "cell_type": "markdown",
   "id": "fe4a7be7",
   "metadata": {},
   "source": [
    "`z` is a list holding 3 strings"
   ]
  },
  {
   "cell_type": "code",
   "execution_count": null,
   "id": "7a757884",
   "metadata": {
    "execution": {
     "iopub.execute_input": "2023-10-03T02:39:33.080414Z",
     "iopub.status.busy": "2023-10-03T02:39:33.079896Z",
     "iopub.status.idle": "2023-10-03T02:39:33.090053Z",
     "shell.execute_reply": "2023-10-03T02:39:33.088713Z"
    }
   },
   "outputs": [],
   "source": [
    "q = [1, 2.0, \"lists hold anything\", True]\n",
    "print(q)"
   ]
  },
  {
   "cell_type": "markdown",
   "id": "b9370229",
   "metadata": {},
   "source": [
    "`q` is a list with 4 items: an integer, a float, a string, and a boolean.\n",
    "\n",
    "Lists can hold a mix of different data types."
   ]
  },
  {
   "cell_type": "code",
   "execution_count": null,
   "id": "9e082738",
   "metadata": {
    "execution": {
     "iopub.execute_input": "2023-10-03T02:39:33.096277Z",
     "iopub.status.busy": "2023-10-03T02:39:33.095738Z",
     "iopub.status.idle": "2023-10-03T02:39:33.101179Z",
     "shell.execute_reply": "2023-10-03T02:39:33.100336Z"
    },
    "slideshow": {
     "slide_type": "subslide"
    }
   },
   "outputs": [],
   "source": [
    "r = [[1,2,3], [4,5,6]]\n",
    "print(r)"
   ]
  },
  {
   "cell_type": "markdown",
   "id": "aa6f5052",
   "metadata": {},
   "source": [
    "`r` is a list holding 2 lists, each of which hold 3 integers.\n",
    "\n",
    "If your brain just exploded a little, don't worry - we'll revisit nested lists."
   ]
  },
  {
   "cell_type": "markdown",
   "id": "9a3b8e88",
   "metadata": {
    "slideshow": {
     "slide_type": "slide"
    }
   },
   "source": [
    "# Accessing lists\n",
    "\n",
    "You can access items in a list by **index**.\n",
    "\n",
    "The indices are **0-based**: the first item in the list has index 0."
   ]
  },
  {
   "cell_type": "code",
   "execution_count": null,
   "id": "5fb9c9e1",
   "metadata": {
    "execution": {
     "iopub.execute_input": "2023-10-03T02:39:33.106236Z",
     "iopub.status.busy": "2023-10-03T02:39:33.105609Z",
     "iopub.status.idle": "2023-10-03T02:39:33.116133Z",
     "shell.execute_reply": "2023-10-03T02:39:33.115325Z"
    }
   },
   "outputs": [],
   "source": [
    "foods = [\"apple\", \"banana\", \"chocolate\"]\n",
    "foods[0]"
   ]
  },
  {
   "cell_type": "code",
   "execution_count": null,
   "id": "5098c573",
   "metadata": {
    "execution": {
     "iopub.execute_input": "2023-10-03T02:39:33.120822Z",
     "iopub.status.busy": "2023-10-03T02:39:33.119723Z",
     "iopub.status.idle": "2023-10-03T02:39:33.126640Z",
     "shell.execute_reply": "2023-10-03T02:39:33.125485Z"
    }
   },
   "outputs": [],
   "source": [
    "foods[2]"
   ]
  },
  {
   "cell_type": "markdown",
   "id": "5e133222",
   "metadata": {
    "slideshow": {
     "slide_type": "subslide"
    }
   },
   "source": [
    "Accessing an element outside the bounds of the array produces an error:"
   ]
  },
  {
   "cell_type": "code",
   "execution_count": null,
   "id": "89cf4a8d",
   "metadata": {
    "execution": {
     "iopub.execute_input": "2023-10-03T02:39:33.131215Z",
     "iopub.status.busy": "2023-10-03T02:39:33.130643Z",
     "iopub.status.idle": "2023-10-03T02:39:33.419363Z",
     "shell.execute_reply": "2023-10-03T02:39:33.418692Z"
    },
    "tags": [
     "raises-exception"
    ]
   },
   "outputs": [],
   "source": [
    "foods = [\"apple\", \"banana\", \"chocolate\"]\n",
    "foods[3]"
   ]
  },
  {
   "cell_type": "markdown",
   "id": "e3cebf48",
   "metadata": {
    "slideshow": {
     "slide_type": "subslide"
    }
   },
   "source": [
    "You can use negative indices to count backwards from the end:"
   ]
  },
  {
   "cell_type": "code",
   "execution_count": null,
   "id": "9fdfe380",
   "metadata": {
    "execution": {
     "iopub.execute_input": "2023-10-03T02:39:33.422951Z",
     "iopub.status.busy": "2023-10-03T02:39:33.422693Z",
     "iopub.status.idle": "2023-10-03T02:39:33.427033Z",
     "shell.execute_reply": "2023-10-03T02:39:33.426420Z"
    }
   },
   "outputs": [],
   "source": [
    "foods = [\"apple\", \"banana\", \"chocolate\"]\n",
    "foods[-1]"
   ]
  },
  {
   "cell_type": "code",
   "execution_count": null,
   "id": "67d639a4",
   "metadata": {
    "execution": {
     "iopub.execute_input": "2023-10-03T02:39:33.430423Z",
     "iopub.status.busy": "2023-10-03T02:39:33.430139Z",
     "iopub.status.idle": "2023-10-03T02:39:33.434804Z",
     "shell.execute_reply": "2023-10-03T02:39:33.434203Z"
    }
   },
   "outputs": [],
   "source": [
    "foods[-3]"
   ]
  },
  {
   "cell_type": "markdown",
   "id": "ea0fa86a",
   "metadata": {
    "slideshow": {
     "slide_type": "slide"
    }
   },
   "source": [
    "# Slicing\n",
    "\n",
    "You can **slice** lists - create a new list from a subset of a list.\n",
    "\n",
    "Slice from the beginning of the list up to an index with `[:n]`:"
   ]
  },
  {
   "cell_type": "code",
   "execution_count": null,
   "id": "0c7e7558",
   "metadata": {
    "execution": {
     "iopub.execute_input": "2023-10-03T02:39:33.438190Z",
     "iopub.status.busy": "2023-10-03T02:39:33.437939Z",
     "iopub.status.idle": "2023-10-03T02:39:33.441122Z",
     "shell.execute_reply": "2023-10-03T02:39:33.440537Z"
    }
   },
   "outputs": [],
   "source": [
    "mountains = [\"everest\", \"whitney\", \"washington\", \"denali\", \"rainier\"]"
   ]
  },
  {
   "cell_type": "code",
   "execution_count": null,
   "id": "fbbd26ca",
   "metadata": {
    "execution": {
     "iopub.execute_input": "2023-10-03T02:39:33.443962Z",
     "iopub.status.busy": "2023-10-03T02:39:33.443720Z",
     "iopub.status.idle": "2023-10-03T02:39:33.447816Z",
     "shell.execute_reply": "2023-10-03T02:39:33.447243Z"
    }
   },
   "outputs": [],
   "source": [
    "# take everything up to (but not including) index 2\n",
    "mountains[:2]"
   ]
  },
  {
   "cell_type": "markdown",
   "id": "edbf204f",
   "metadata": {},
   "source": [
    "Slice from an index to the end of the list with `[n:]`:"
   ]
  },
  {
   "cell_type": "code",
   "execution_count": null,
   "id": "7af6ac76",
   "metadata": {
    "execution": {
     "iopub.execute_input": "2023-10-03T02:39:33.450735Z",
     "iopub.status.busy": "2023-10-03T02:39:33.450492Z",
     "iopub.status.idle": "2023-10-03T02:39:33.454411Z",
     "shell.execute_reply": "2023-10-03T02:39:33.453840Z"
    }
   },
   "outputs": [],
   "source": [
    "# drop the first item in the list\n",
    "mountains[1:]"
   ]
  },
  {
   "cell_type": "markdown",
   "id": "76c3775d",
   "metadata": {
    "slideshow": {
     "slide_type": "subslide"
    }
   },
   "source": [
    "Slice from the middle by providing a start and end index `[m:n]`:"
   ]
  },
  {
   "cell_type": "code",
   "execution_count": null,
   "id": "415fa705",
   "metadata": {
    "execution": {
     "iopub.execute_input": "2023-10-03T02:39:33.457372Z",
     "iopub.status.busy": "2023-10-03T02:39:33.457139Z",
     "iopub.status.idle": "2023-10-03T02:39:33.461423Z",
     "shell.execute_reply": "2023-10-03T02:39:33.460894Z"
    }
   },
   "outputs": [],
   "source": [
    "mountains = [\"everest\", \"whitney\", \"washington\", \"denali\", \"rainier\"]\n",
    "# take indices 1, 2\n",
    "mountains[1:3]"
   ]
  },
  {
   "cell_type": "markdown",
   "id": "fb8abeba",
   "metadata": {},
   "source": [
    "You can even use negative indices when slicing:"
   ]
  },
  {
   "cell_type": "code",
   "execution_count": null,
   "id": "5aa7024d",
   "metadata": {
    "execution": {
     "iopub.execute_input": "2023-10-03T02:39:33.464312Z",
     "iopub.status.busy": "2023-10-03T02:39:33.464071Z",
     "iopub.status.idle": "2023-10-03T02:39:33.468320Z",
     "shell.execute_reply": "2023-10-03T02:39:33.467618Z"
    }
   },
   "outputs": [],
   "source": [
    "# take everything up to the last 2 items\n",
    "mountains[:-2]"
   ]
  },
  {
   "cell_type": "code",
   "execution_count": null,
   "id": "d33feba6",
   "metadata": {
    "execution": {
     "iopub.execute_input": "2023-10-03T02:39:33.471362Z",
     "iopub.status.busy": "2023-10-03T02:39:33.471106Z",
     "iopub.status.idle": "2023-10-03T02:39:33.475020Z",
     "shell.execute_reply": "2023-10-03T02:39:33.474427Z"
    }
   },
   "outputs": [],
   "source": [
    "# drop the first and last items\n",
    "mountains[1:-1]"
   ]
  },
  {
   "cell_type": "markdown",
   "id": "53d0022e",
   "metadata": {
    "slideshow": {
     "slide_type": "slide"
    }
   },
   "source": [
    "# Length\n",
    "\n",
    "The `len()` function gives you the length of a list:"
   ]
  },
  {
   "cell_type": "code",
   "execution_count": null,
   "id": "d1463495",
   "metadata": {
    "execution": {
     "iopub.execute_input": "2023-10-03T02:39:33.477948Z",
     "iopub.status.busy": "2023-10-03T02:39:33.477690Z",
     "iopub.status.idle": "2023-10-03T02:39:33.481922Z",
     "shell.execute_reply": "2023-10-03T02:39:33.481396Z"
    }
   },
   "outputs": [],
   "source": [
    "mountains = [\"everest\", \"whitney\", \"washington\", \"denali\", \"rainier\"]\n",
    "len(mountains)"
   ]
  },
  {
   "cell_type": "markdown",
   "id": "6c9ffbd4",
   "metadata": {
    "slideshow": {
     "slide_type": "slide"
    }
   },
   "source": [
    "# Modifying lists\n",
    "\n",
    "You can add, remove, and change elements.\n",
    "\n",
    "Assigning to an element changes it in place:"
   ]
  },
  {
   "cell_type": "code",
   "execution_count": null,
   "id": "4005901b",
   "metadata": {
    "execution": {
     "iopub.execute_input": "2023-10-03T02:39:33.484821Z",
     "iopub.status.busy": "2023-10-03T02:39:33.484587Z",
     "iopub.status.idle": "2023-10-03T02:39:33.488090Z",
     "shell.execute_reply": "2023-10-03T02:39:33.487496Z"
    }
   },
   "outputs": [],
   "source": [
    "mountains = [\"rushmore\", \"whitney\", \"washington\", \"denali\", \"rainier\"]\n",
    "mountains[0] = \"everest\"\n",
    "print(mountains)"
   ]
  },
  {
   "cell_type": "markdown",
   "id": "2d45454e",
   "metadata": {
    "slideshow": {
     "slide_type": "subslide"
    }
   },
   "source": [
    "The `append()` method adds an element to the end:"
   ]
  },
  {
   "cell_type": "code",
   "execution_count": null,
   "id": "663cabfd",
   "metadata": {
    "execution": {
     "iopub.execute_input": "2023-10-03T02:39:33.491302Z",
     "iopub.status.busy": "2023-10-03T02:39:33.491045Z",
     "iopub.status.idle": "2023-10-03T02:39:33.494573Z",
     "shell.execute_reply": "2023-10-03T02:39:33.493986Z"
    }
   },
   "outputs": [],
   "source": [
    "mountains = [\"everest\", \"whitney\", \"washington\", \"denali\", \"rainier\"]\n",
    "mountains.append(\"kilimanjaro\")\n",
    "print(mountains)"
   ]
  },
  {
   "cell_type": "markdown",
   "id": "d8f20e3d",
   "metadata": {
    "slideshow": {
     "slide_type": "subslide"
    }
   },
   "source": [
    "The `insert()` method will insert at a given index:"
   ]
  },
  {
   "cell_type": "code",
   "execution_count": null,
   "id": "07f6cdbd",
   "metadata": {
    "execution": {
     "iopub.execute_input": "2023-10-03T02:39:33.497505Z",
     "iopub.status.busy": "2023-10-03T02:39:33.497248Z",
     "iopub.status.idle": "2023-10-03T02:39:33.500655Z",
     "shell.execute_reply": "2023-10-03T02:39:33.500055Z"
    }
   },
   "outputs": [],
   "source": [
    "mountains = [\"everest\", \"whitney\", \"washington\", \"denali\", \"rainier\"]\n",
    "mountains.insert(1, \"kilimanjaro\")\n",
    "print(mountains)"
   ]
  },
  {
   "cell_type": "markdown",
   "id": "7fef35c1",
   "metadata": {
    "slideshow": {
     "slide_type": "subslide"
    }
   },
   "source": [
    "A few ways to delete items:\n",
    "\n",
    "The `del` keyword:"
   ]
  },
  {
   "cell_type": "code",
   "execution_count": null,
   "id": "5829b112",
   "metadata": {
    "execution": {
     "iopub.execute_input": "2023-10-03T02:39:33.503737Z",
     "iopub.status.busy": "2023-10-03T02:39:33.503492Z",
     "iopub.status.idle": "2023-10-03T02:39:33.506910Z",
     "shell.execute_reply": "2023-10-03T02:39:33.506384Z"
    }
   },
   "outputs": [],
   "source": [
    "mountains = [\"everest\", \"whitney\", \"washington\", \"denali\", \"rainier\"]\n",
    "del mountains[3]\n",
    "print(mountains)"
   ]
  },
  {
   "cell_type": "markdown",
   "id": "f2eb6228",
   "metadata": {},
   "source": [
    "The `pop()` method, which takes the index to remove, and returns the element that was removed:"
   ]
  },
  {
   "cell_type": "code",
   "execution_count": null,
   "id": "be7d2a02",
   "metadata": {
    "execution": {
     "iopub.execute_input": "2023-10-03T02:39:33.509878Z",
     "iopub.status.busy": "2023-10-03T02:39:33.509647Z",
     "iopub.status.idle": "2023-10-03T02:39:33.513135Z",
     "shell.execute_reply": "2023-10-03T02:39:33.512584Z"
    }
   },
   "outputs": [],
   "source": [
    "mountains = [\"everest\", \"whitney\", \"washington\", \"denali\", \"rainier\"]\n",
    "popped = mountains.pop(2)\n",
    "print(\"Removed \" + popped)\n",
    "print(\"List after the pop: \" + str(mountains))"
   ]
  },
  {
   "cell_type": "markdown",
   "id": "80288aa7",
   "metadata": {
    "slideshow": {
     "slide_type": "subslide"
    }
   },
   "source": [
    "Remove everything with the `clear()` method"
   ]
  },
  {
   "cell_type": "code",
   "execution_count": null,
   "id": "b61d81af",
   "metadata": {
    "execution": {
     "iopub.execute_input": "2023-10-03T02:39:33.516149Z",
     "iopub.status.busy": "2023-10-03T02:39:33.515916Z",
     "iopub.status.idle": "2023-10-03T02:39:33.519318Z",
     "shell.execute_reply": "2023-10-03T02:39:33.518804Z"
    }
   },
   "outputs": [],
   "source": [
    "mountains = [\"everest\", \"whitney\", \"washington\", \"denali\", \"rainier\"]\n",
    "mountains.clear()\n",
    "print(mountains)"
   ]
  },
  {
   "cell_type": "markdown",
   "id": "723a14c5",
   "metadata": {
    "slideshow": {
     "slide_type": "subslide"
    }
   },
   "source": [
    "Concatenate 2 lists with `+`:"
   ]
  },
  {
   "cell_type": "code",
   "execution_count": null,
   "id": "b7c474a9",
   "metadata": {
    "execution": {
     "iopub.execute_input": "2023-10-03T02:39:33.522116Z",
     "iopub.status.busy": "2023-10-03T02:39:33.521885Z",
     "iopub.status.idle": "2023-10-03T02:39:33.524978Z",
     "shell.execute_reply": "2023-10-03T02:39:33.524455Z"
    }
   },
   "outputs": [],
   "source": [
    "a = [1,2,3]\n",
    "b = [4,5,6]\n",
    "print(a + b)"
   ]
  },
  {
   "cell_type": "markdown",
   "id": "a17513e8",
   "metadata": {
    "slideshow": {
     "slide_type": "slide"
    }
   },
   "source": [
    "# Aside: method vs function\n",
    "\n",
    "We just reviewed a few `list` **methods**. Methods are functions that are **called on** a value.\n",
    "\n",
    "Methods are called on a value using a `.`: `some_variable.some_method()`\n",
    "\n",
    "For example: to remove the last item from a list named `spam`, call the `pop` method on it: `spam.pop()`.\n",
    "\n",
    "Lists have many useful methods (we covered most, but not all, of them): [list method documentation](https://docs.python.org/3/tutorial/datastructures.html)\n",
    "\n",
    "We'll revisit methods later in the term, all you need to know for now is the syntax for calling them."
   ]
  },
  {
   "cell_type": "markdown",
   "id": "a1b3471e",
   "metadata": {
    "slideshow": {
     "slide_type": "slide"
    }
   },
   "source": [
    "# Exercise\n",
    "\n",
    "Build a **cat**alog (hah): a program that prompts the user for the names of their cats, and prints them all out.\n",
    "\n"
   ]
  },
  {
   "cell_type": "markdown",
   "id": "072c925a",
   "metadata": {
    "slideshow": {
     "slide_type": "subslide"
    }
   },
   "source": [
    "Before lists, the best we could do is something like this, where we have a maximum number of cats, and store each one in its own variable:"
   ]
  },
  {
   "cell_type": "code",
   "execution_count": null,
   "id": "99386b33",
   "metadata": {
    "execution": {
     "iopub.execute_input": "2023-10-03T02:39:33.528332Z",
     "iopub.status.busy": "2023-10-03T02:39:33.528087Z",
     "iopub.status.idle": "2023-10-03T02:39:33.613314Z",
     "shell.execute_reply": "2023-10-03T02:39:33.612376Z"
    },
    "tags": [
     "remove-output"
    ]
   },
   "outputs": [],
   "source": [
    "print('Enter the name of cat 1:')\n",
    "catName1 = input()\n",
    "print('Enter the name of cat 2:')\n",
    "catName2 = input()\n",
    "print('Enter the name of cat 3:')\n",
    "catName3 = input()\n",
    "print('Enter the name of cat 4:')\n",
    "catName4 = input()\n",
    "print('Enter the name of cat 5:')\n",
    "catName5 = input()\n",
    "print('Enter the name of cat 6:')\n",
    "catName6 = input()\n",
    "print('The cat names are:')\n",
    "print(catName1 + ' ' + catName2 + ' ' + catName3 + ' ' + catName4 + ' ' +\n",
    "catName5 + ' ' + catName6)"
   ]
  },
  {
   "cell_type": "markdown",
   "id": "9e2a17f4",
   "metadata": {
    "slideshow": {
     "slide_type": "subslide"
    }
   },
   "source": [
    "Lists improve this significantly, and free us up from a fixed number of cats.\n",
    "\n",
    "We will keep a list of cat names, and add to it each time the user enters one. At the end, we will print out the list."
   ]
  },
  {
   "cell_type": "code",
   "execution_count": null,
   "id": "9cd530fe",
   "metadata": {
    "execution": {
     "iopub.execute_input": "2023-10-03T02:39:33.617438Z",
     "iopub.status.busy": "2023-10-03T02:39:33.617074Z",
     "iopub.status.idle": "2023-10-03T02:39:33.639738Z",
     "shell.execute_reply": "2023-10-03T02:39:33.639082Z"
    },
    "slideshow": {
     "slide_type": "-"
    },
    "tags": [
     "remove-output"
    ]
   },
   "outputs": [],
   "source": [
    "catNames = []\n",
    "while True:\n",
    "    print('Enter the name of cat ' + str(len(catNames) + 1) +\n",
    "      ' (Or enter nothing to stop.):')\n",
    "    name = input()\n",
    "    if name == '':\n",
    "        break\n",
    "    catNames.append(name)\n",
    "\n",
    "print('The cat names are: ' + str(catNames))"
   ]
  },
  {
   "cell_type": "markdown",
   "id": "a04d8e4f",
   "metadata": {},
   "source": [
    "# [Slido](https://wall.sli.do/event/haumnzb5ejo9bmfNfapb4Z?section=cdbb3b27-e250-4b07-925f-263464eb3e71)"
   ]
  },
  {
   "cell_type": "markdown",
   "id": "12bdb0c1",
   "metadata": {
    "slideshow": {
     "slide_type": "slide"
    }
   },
   "source": [
    "# Lists and Loops: Friends Forever\n",
    "\n",
    "In the last example, we converted the list to a string to print it out. It worked, but was ugly: `['Batman', 'Bill Murray']`. Let's look at how to use loops and lists together.\n",
    "\n",
    "Write a function that takes a list of integers as a parameter, and prints out the square of each number.\n",
    "\n",
    "One way to do it:"
   ]
  },
  {
   "cell_type": "code",
   "execution_count": null,
   "id": "fbc323f8",
   "metadata": {
    "execution": {
     "iopub.execute_input": "2023-10-03T02:39:33.643156Z",
     "iopub.status.busy": "2023-10-03T02:39:33.642903Z",
     "iopub.status.idle": "2023-10-03T02:39:33.646677Z",
     "shell.execute_reply": "2023-10-03T02:39:33.645994Z"
    }
   },
   "outputs": [],
   "source": [
    "def print_squares(nums):\n",
    "    for i in range(len(nums)):\n",
    "        print(nums[i] ** 2)"
   ]
  },
  {
   "cell_type": "code",
   "execution_count": null,
   "id": "e9d4491c",
   "metadata": {
    "execution": {
     "iopub.execute_input": "2023-10-03T02:39:33.649872Z",
     "iopub.status.busy": "2023-10-03T02:39:33.649623Z",
     "iopub.status.idle": "2023-10-03T02:39:33.653437Z",
     "shell.execute_reply": "2023-10-03T02:39:33.652728Z"
    }
   },
   "outputs": [],
   "source": [
    "print_squares([3,5,11])"
   ]
  },
  {
   "cell_type": "code",
   "execution_count": null,
   "id": "2bd7e928",
   "metadata": {
    "execution": {
     "iopub.execute_input": "2023-10-03T02:39:33.657059Z",
     "iopub.status.busy": "2023-10-03T02:39:33.656770Z",
     "iopub.status.idle": "2023-10-03T02:39:33.660473Z",
     "shell.execute_reply": "2023-10-03T02:39:33.659854Z"
    },
    "slideshow": {
     "slide_type": "subslide"
    }
   },
   "outputs": [],
   "source": [
    "def print_squares(nums):\n",
    "    for i in range(len(nums)):\n",
    "        print(nums[i] ** 2)"
   ]
  },
  {
   "cell_type": "markdown",
   "id": "dfa7d856",
   "metadata": {
    "slideshow": {
     "slide_type": "-"
    }
   },
   "source": [
    "Breaking that down, if the input is `[3, 5, 11]`:  \n",
    "\n",
    "`for i in range(len(nums))` ->  \n",
    "`for i in range(3)`"
   ]
  },
  {
   "cell_type": "markdown",
   "id": "e3795f08",
   "metadata": {
    "slideshow": {
     "slide_type": "subslide"
    }
   },
   "source": [
    "That works, but there are other ways to iterate over a list.\n",
    "\n",
    "`for <var> in <list>:` will execute the code block once for each item in the list, with `<var>` equal to the next list item for each iteration.\n",
    "\n",
    "More on list iteration in the next lecture - for today, just knowing this form of the `for` loop is enough."
   ]
  },
  {
   "cell_type": "code",
   "execution_count": null,
   "id": "729b1ef2",
   "metadata": {
    "execution": {
     "iopub.execute_input": "2023-10-03T02:39:33.663709Z",
     "iopub.status.busy": "2023-10-03T02:39:33.663445Z",
     "iopub.status.idle": "2023-10-03T02:39:33.666556Z",
     "shell.execute_reply": "2023-10-03T02:39:33.666005Z"
    }
   },
   "outputs": [],
   "source": [
    "def print_squares(nums):\n",
    "    for num in nums:\n",
    "        print(num ** 2)"
   ]
  },
  {
   "cell_type": "code",
   "execution_count": null,
   "id": "be9b2581",
   "metadata": {
    "execution": {
     "iopub.execute_input": "2023-10-03T02:39:33.669474Z",
     "iopub.status.busy": "2023-10-03T02:39:33.669216Z",
     "iopub.status.idle": "2023-10-03T02:39:33.672460Z",
     "shell.execute_reply": "2023-10-03T02:39:33.671862Z"
    }
   },
   "outputs": [],
   "source": [
    "print_squares([3,5,11])"
   ]
  },
  {
   "cell_type": "markdown",
   "id": "144e0ff0",
   "metadata": {
    "slideshow": {
     "slide_type": "slide"
    }
   },
   "source": [
    "# Exercise\n",
    "\n",
    "1. Define a list holding 4 strings, each describing something you like.\n",
    "1. Write a for loop to print out each string with `\"One of my favorite things: \"` **pre**prended to it\n",
    "\n",
    "## [Repl.it: Lecture 6 - Lists playground](https://replit.com/team/cosi-10a-fall23/Lists-Playground)\n"
   ]
  },
  {
   "cell_type": "code",
   "execution_count": null,
   "id": "979ee9e4",
   "metadata": {
    "execution": {
     "iopub.execute_input": "2023-10-03T02:39:33.675579Z",
     "iopub.status.busy": "2023-10-03T02:39:33.675237Z",
     "iopub.status.idle": "2023-10-03T02:39:33.678910Z",
     "shell.execute_reply": "2023-10-03T02:39:33.678305Z"
    },
    "slideshow": {
     "slide_type": "subslide"
    }
   },
   "outputs": [],
   "source": [
    "nice_things = [\"Fresh baked cookies\", \"Mountains\", \"Sleep\", \"Spicy food\"]\n",
    "for thing in nice_things:\n",
    "    print(\"One of my favorite things: \" + thing)"
   ]
  },
  {
   "cell_type": "markdown",
   "id": "f359b96c",
   "metadata": {
    "slideshow": {
     "slide_type": "slide"
    }
   },
   "source": [
    "# Exercise\n",
    "\n",
    "Write a function to find the average of a list of numbers, then print out all the numbers below the average."
   ]
  },
  {
   "cell_type": "markdown",
   "id": "62b418fd",
   "metadata": {
    "slideshow": {
     "slide_type": "fragment"
    }
   },
   "source": [
    "Let's use our usual strategy: decompose the problem. Two main parts:\n",
    "\n",
    "1. Find the average of a list of numbers\n",
    "2. Print all the numbers lower than that average"
   ]
  },
  {
   "cell_type": "markdown",
   "id": "2471a378",
   "metadata": {
    "slideshow": {
     "slide_type": "subslide"
    }
   },
   "source": [
    "Step 1, find the average:"
   ]
  },
  {
   "cell_type": "code",
   "execution_count": null,
   "id": "600f4374",
   "metadata": {
    "execution": {
     "iopub.execute_input": "2023-10-03T02:39:33.682213Z",
     "iopub.status.busy": "2023-10-03T02:39:33.681951Z",
     "iopub.status.idle": "2023-10-03T02:39:33.685391Z",
     "shell.execute_reply": "2023-10-03T02:39:33.684779Z"
    }
   },
   "outputs": [],
   "source": [
    "def find_average(nums):\n",
    "    sum = 0\n",
    "    for num in nums:\n",
    "        sum = sum + num\n",
    "    avg = sum / len(nums)\n",
    "    return avg"
   ]
  },
  {
   "cell_type": "code",
   "execution_count": null,
   "id": "6025bf87",
   "metadata": {
    "execution": {
     "iopub.execute_input": "2023-10-03T02:39:33.688243Z",
     "iopub.status.busy": "2023-10-03T02:39:33.687983Z",
     "iopub.status.idle": "2023-10-03T02:39:33.693181Z",
     "shell.execute_reply": "2023-10-03T02:39:33.692457Z"
    }
   },
   "outputs": [],
   "source": [
    "find_average([1,2,3,4,100000])"
   ]
  },
  {
   "cell_type": "markdown",
   "id": "013dc98c",
   "metadata": {
    "slideshow": {
     "slide_type": "subslide"
    }
   },
   "source": [
    "Step 2: print each item below the average:"
   ]
  },
  {
   "cell_type": "code",
   "execution_count": null,
   "id": "66a7e988",
   "metadata": {
    "execution": {
     "iopub.execute_input": "2023-10-03T02:39:33.696486Z",
     "iopub.status.busy": "2023-10-03T02:39:33.696200Z",
     "iopub.status.idle": "2023-10-03T02:39:33.699928Z",
     "shell.execute_reply": "2023-10-03T02:39:33.699313Z"
    },
    "slideshow": {
     "slide_type": "-"
    }
   },
   "outputs": [],
   "source": [
    "def below_average(nums):\n",
    "    avg = find_average(nums)\n",
    "    \n",
    "    print(\"The average is: \" + str(avg) + \". Here are all the below average numbers: \")\n",
    "    for num in nums:\n",
    "        if num < avg:\n",
    "            print(num, end=' ')"
   ]
  },
  {
   "cell_type": "code",
   "execution_count": null,
   "id": "929782bb",
   "metadata": {
    "execution": {
     "iopub.execute_input": "2023-10-03T02:39:33.703215Z",
     "iopub.status.busy": "2023-10-03T02:39:33.702750Z",
     "iopub.status.idle": "2023-10-03T02:39:33.706095Z",
     "shell.execute_reply": "2023-10-03T02:39:33.705540Z"
    },
    "slideshow": {
     "slide_type": "-"
    }
   },
   "outputs": [],
   "source": [
    "below_average([1,2,3,4,100000])"
   ]
  },
  {
   "cell_type": "markdown",
   "id": "5a17eb68",
   "metadata": {
    "slideshow": {
     "slide_type": "slide"
    }
   },
   "source": [
    "# Exercise\n",
    "\n",
    "Write a function to find the largest number in a list. \n",
    "\n",
    "Similar to \"cumulative algorithms\", we'll define a variable to hold the largest number we've seen so far."
   ]
  },
  {
   "cell_type": "code",
   "execution_count": null,
   "id": "480f52e6",
   "metadata": {
    "execution": {
     "iopub.execute_input": "2023-10-03T02:39:33.709257Z",
     "iopub.status.busy": "2023-10-03T02:39:33.709004Z",
     "iopub.status.idle": "2023-10-03T02:39:33.712642Z",
     "shell.execute_reply": "2023-10-03T02:39:33.711917Z"
    }
   },
   "outputs": [],
   "source": [
    "def find_largest(nums):\n",
    "    biggest = 0\n",
    "    for num in nums:\n",
    "        if num > biggest:\n",
    "            biggest = num\n",
    "    return biggest"
   ]
  },
  {
   "cell_type": "code",
   "execution_count": null,
   "id": "e9edd6ad",
   "metadata": {
    "execution": {
     "iopub.execute_input": "2023-10-03T02:39:33.715538Z",
     "iopub.status.busy": "2023-10-03T02:39:33.715277Z",
     "iopub.status.idle": "2023-10-03T02:39:33.719445Z",
     "shell.execute_reply": "2023-10-03T02:39:33.718888Z"
    }
   },
   "outputs": [],
   "source": [
    "find_largest([18, 27, 1, 3, 10, 1000])"
   ]
  },
  {
   "cell_type": "markdown",
   "id": "d7e5a6dd",
   "metadata": {
    "slideshow": {
     "slide_type": "subslide"
    }
   },
   "source": [
    "Looks like it worked... but can you spot the bug?"
   ]
  },
  {
   "cell_type": "code",
   "execution_count": null,
   "id": "80d2e689",
   "metadata": {
    "execution": {
     "iopub.execute_input": "2023-10-03T02:39:33.722557Z",
     "iopub.status.busy": "2023-10-03T02:39:33.722304Z",
     "iopub.status.idle": "2023-10-03T02:39:33.725658Z",
     "shell.execute_reply": "2023-10-03T02:39:33.725062Z"
    }
   },
   "outputs": [],
   "source": [
    "def find_largest(nums):\n",
    "    biggest = 0\n",
    "    for num in nums:\n",
    "        if num > biggest:\n",
    "            biggest = num\n",
    "    return biggest"
   ]
  },
  {
   "cell_type": "code",
   "execution_count": null,
   "id": "a50ed117",
   "metadata": {
    "execution": {
     "iopub.execute_input": "2023-10-03T02:39:33.728493Z",
     "iopub.status.busy": "2023-10-03T02:39:33.728235Z",
     "iopub.status.idle": "2023-10-03T02:39:33.732613Z",
     "shell.execute_reply": "2023-10-03T02:39:33.731882Z"
    },
    "slideshow": {
     "slide_type": "fragment"
    }
   },
   "outputs": [],
   "source": [
    "find_largest([-1, -2, -3])"
   ]
  },
  {
   "cell_type": "markdown",
   "id": "57de5587",
   "metadata": {
    "slideshow": {
     "slide_type": "subslide"
    }
   },
   "source": [
    "`0` is a bad choice for our initial maximum value. \n",
    "\n",
    "We could use a very negative number. But, in Python, integers are unbounded, so it will never be negative enough to cover all cases.\n",
    "\n",
    "Let's try something else..."
   ]
  },
  {
   "cell_type": "code",
   "execution_count": null,
   "id": "2bc5c62b",
   "metadata": {
    "execution": {
     "iopub.execute_input": "2023-10-03T02:39:33.735587Z",
     "iopub.status.busy": "2023-10-03T02:39:33.735334Z",
     "iopub.status.idle": "2023-10-03T02:39:33.738764Z",
     "shell.execute_reply": "2023-10-03T02:39:33.738194Z"
    }
   },
   "outputs": [],
   "source": [
    "def find_largest(nums):\n",
    "    biggest = nums[0]\n",
    "    for num in nums[1:]:\n",
    "        if num > biggest:\n",
    "            biggest = num\n",
    "    return biggest"
   ]
  },
  {
   "cell_type": "code",
   "execution_count": null,
   "id": "84c494b1",
   "metadata": {
    "execution": {
     "iopub.execute_input": "2023-10-03T02:39:33.741513Z",
     "iopub.status.busy": "2023-10-03T02:39:33.741284Z",
     "iopub.status.idle": "2023-10-03T02:39:33.745317Z",
     "shell.execute_reply": "2023-10-03T02:39:33.744713Z"
    }
   },
   "outputs": [],
   "source": [
    "find_largest([-1,-2,-3])"
   ]
  },
  {
   "cell_type": "code",
   "execution_count": null,
   "id": "843446c1",
   "metadata": {
    "execution": {
     "iopub.execute_input": "2023-10-03T02:39:33.748079Z",
     "iopub.status.busy": "2023-10-03T02:39:33.747845Z",
     "iopub.status.idle": "2023-10-03T02:39:33.768819Z",
     "shell.execute_reply": "2023-10-03T02:39:33.768141Z"
    },
    "slideshow": {
     "slide_type": "fragment"
    }
   },
   "outputs": [],
   "source": [
    "find_largest([])"
   ]
  },
  {
   "cell_type": "markdown",
   "id": "b33aebb3",
   "metadata": {
    "slideshow": {
     "slide_type": "subslide"
    }
   },
   "source": [
    "Whoops, this doesn't work on empty lists!"
   ]
  },
  {
   "cell_type": "code",
   "execution_count": null,
   "id": "1f6c9cb4",
   "metadata": {
    "execution": {
     "iopub.execute_input": "2023-10-03T02:39:33.772279Z",
     "iopub.status.busy": "2023-10-03T02:39:33.771994Z",
     "iopub.status.idle": "2023-10-03T02:39:33.775975Z",
     "shell.execute_reply": "2023-10-03T02:39:33.775367Z"
    },
    "slideshow": {
     "slide_type": "fragment"
    }
   },
   "outputs": [],
   "source": [
    "def find_largest(nums):\n",
    "    if len(nums) == 0:\n",
    "        return None\n",
    "    \n",
    "    biggest = nums[0]\n",
    "    for num in nums[1:]:\n",
    "        if num > biggest:\n",
    "            biggest = num\n",
    "    return biggest"
   ]
  },
  {
   "cell_type": "code",
   "execution_count": null,
   "id": "9453bc9d",
   "metadata": {
    "execution": {
     "iopub.execute_input": "2023-10-03T02:39:33.779145Z",
     "iopub.status.busy": "2023-10-03T02:39:33.778865Z",
     "iopub.status.idle": "2023-10-03T02:39:33.782958Z",
     "shell.execute_reply": "2023-10-03T02:39:33.782426Z"
    }
   },
   "outputs": [],
   "source": [
    "find_largest([-1,-2,-3])"
   ]
  },
  {
   "cell_type": "code",
   "execution_count": null,
   "id": "38922609",
   "metadata": {
    "execution": {
     "iopub.execute_input": "2023-10-03T02:39:33.785857Z",
     "iopub.status.busy": "2023-10-03T02:39:33.785614Z",
     "iopub.status.idle": "2023-10-03T02:39:33.789494Z",
     "shell.execute_reply": "2023-10-03T02:39:33.788997Z"
    }
   },
   "outputs": [],
   "source": [
    "find_largest([-2])"
   ]
  },
  {
   "cell_type": "markdown",
   "id": "d7a3b7c4",
   "metadata": {
    "slideshow": {
     "slide_type": "subslide"
    }
   },
   "source": [
    "This is perfectly good! Here's one more option though:"
   ]
  },
  {
   "cell_type": "code",
   "execution_count": null,
   "id": "2e8bad8b",
   "metadata": {
    "execution": {
     "iopub.execute_input": "2023-10-03T02:39:33.792451Z",
     "iopub.status.busy": "2023-10-03T02:39:33.792217Z",
     "iopub.status.idle": "2023-10-03T02:39:33.795473Z",
     "shell.execute_reply": "2023-10-03T02:39:33.794863Z"
    }
   },
   "outputs": [],
   "source": [
    "def find_largest(nums):\n",
    "    biggest = None\n",
    "    for num in nums:\n",
    "        if biggest is None or num > biggest:\n",
    "            biggest = num\n",
    "    return biggest"
   ]
  },
  {
   "cell_type": "code",
   "execution_count": null,
   "id": "d1521fcd",
   "metadata": {
    "execution": {
     "iopub.execute_input": "2023-10-03T02:39:33.798290Z",
     "iopub.status.busy": "2023-10-03T02:39:33.798050Z",
     "iopub.status.idle": "2023-10-03T02:39:33.802162Z",
     "shell.execute_reply": "2023-10-03T02:39:33.801597Z"
    }
   },
   "outputs": [],
   "source": [
    "find_largest([-1,-2,-3])"
   ]
  },
  {
   "cell_type": "code",
   "execution_count": null,
   "id": "89810ac7",
   "metadata": {
    "execution": {
     "iopub.execute_input": "2023-10-03T02:39:33.804975Z",
     "iopub.status.busy": "2023-10-03T02:39:33.804732Z",
     "iopub.status.idle": "2023-10-03T02:39:33.807963Z",
     "shell.execute_reply": "2023-10-03T02:39:33.807428Z"
    },
    "slideshow": {
     "slide_type": "-"
    }
   },
   "outputs": [],
   "source": [
    "print(find_largest([]))"
   ]
  },
  {
   "cell_type": "markdown",
   "id": "60927821",
   "metadata": {},
   "source": [
    "## Oh wait, Python does this for us\n",
    "\n",
    "There is a `max` function (also `min`) that will give us the largest/smallest item in a list: [max() documentation](https://docs.python.org/3/library/functions.html#max)\n",
    "\n",
    "This was still a useful exercise to go through, because the issues we encountered and fixed are all common coding challenges.\n",
    "\n",
    "But when you're writing code in the wild, check for a built-in function or library that you can use before building it all yourself!"
   ]
  },
  {
   "cell_type": "code",
   "execution_count": null,
   "id": "26982949",
   "metadata": {
    "execution": {
     "iopub.execute_input": "2023-10-03T02:39:33.810835Z",
     "iopub.status.busy": "2023-10-03T02:39:33.810596Z",
     "iopub.status.idle": "2023-10-03T02:39:33.814661Z",
     "shell.execute_reply": "2023-10-03T02:39:33.814132Z"
    }
   },
   "outputs": [],
   "source": [
    "max([-1, -2, -3])"
   ]
  },
  {
   "cell_type": "markdown",
   "id": "bedc9ec7",
   "metadata": {},
   "source": [
    "# [Slido](https://wall.sli.do/event/haumnzb5ejo9bmfNfapb4Z?section=cdbb3b27-e250-4b07-925f-263464eb3e71)"
   ]
  }
 ],
 "metadata": {
  "celltoolbar": "Slideshow",
  "kernelspec": {
   "display_name": "Python 3 (ipykernel)",
   "language": "python",
   "name": "python3"
  },
  "language_info": {
   "codemirror_mode": {
    "name": "ipython",
    "version": 3
   },
   "file_extension": ".py",
   "mimetype": "text/x-python",
   "name": "python",
   "nbconvert_exporter": "python",
   "pygments_lexer": "ipython3",
   "version": "3.10.9"
  }
 },
 "nbformat": 4,
 "nbformat_minor": 5
}
