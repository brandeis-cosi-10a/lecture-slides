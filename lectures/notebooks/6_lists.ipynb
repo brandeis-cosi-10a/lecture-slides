{
 "cells": [
  {
   "cell_type": "markdown",
   "id": "1ee8a1d2",
   "metadata": {
    "slideshow": {
     "slide_type": "slide"
    }
   },
   "source": [
    "# Lists\n",
    "\n",
    "<style>\n",
    "section.present > section.present { \n",
    "    max-height: 90%; \n",
    "    overflow-y: scroll;\n",
    "}\n",
    "</style>\n",
    "\n",
    "<small><a href=\"https://colab.research.google.com/github/brandeis-jdelfino/cosi-10a/blob/main/lectures/notebooks/6_lists.ipynb\">Link to interactive slides on Google Colab</a></small>"
   ]
  },
  {
   "cell_type": "markdown",
   "id": "e04d6879",
   "metadata": {
    "slideshow": {
     "slide_type": "slide"
    }
   },
   "source": [
    "# Lists\n",
    "\n",
    "So far, we've been dealing with single values - integers, floats, strings.\n",
    "\n",
    "Today, we'll learn about new data type: lists!"
   ]
  },
  {
   "cell_type": "markdown",
   "id": "a239b34a",
   "metadata": {
    "slideshow": {
     "slide_type": "slide"
    }
   },
   "source": [
    "# Creating lists"
   ]
  },
  {
   "cell_type": "code",
   "execution_count": null,
   "id": "5f9bb1a4",
   "metadata": {
    "execution": {
     "iopub.execute_input": "2023-06-29T15:34:36.004726Z",
     "iopub.status.busy": "2023-06-29T15:34:36.003833Z",
     "iopub.status.idle": "2023-06-29T15:34:36.019870Z",
     "shell.execute_reply": "2023-06-29T15:34:36.018782Z"
    }
   },
   "outputs": [],
   "source": [
    "x = [2, 5, 7, 9]\n",
    "print(x)"
   ]
  },
  {
   "cell_type": "markdown",
   "id": "2d367a27",
   "metadata": {},
   "source": [
    "`x` holds a list with 4 items: the integers 2, 5, 7, and 9."
   ]
  },
  {
   "cell_type": "code",
   "execution_count": null,
   "id": "af9ce082",
   "metadata": {
    "execution": {
     "iopub.execute_input": "2023-06-29T15:34:36.023975Z",
     "iopub.status.busy": "2023-06-29T15:34:36.023454Z",
     "iopub.status.idle": "2023-06-29T15:34:36.028799Z",
     "shell.execute_reply": "2023-06-29T15:34:36.027551Z"
    }
   },
   "outputs": [],
   "source": [
    "y = []\n",
    "print(y)"
   ]
  },
  {
   "cell_type": "markdown",
   "id": "b692c650",
   "metadata": {},
   "source": [
    "`y` is an empty list"
   ]
  },
  {
   "cell_type": "code",
   "execution_count": null,
   "id": "f1a5c95c",
   "metadata": {
    "execution": {
     "iopub.execute_input": "2023-06-29T15:34:36.033734Z",
     "iopub.status.busy": "2023-06-29T15:34:36.033363Z",
     "iopub.status.idle": "2023-06-29T15:34:36.038259Z",
     "shell.execute_reply": "2023-06-29T15:34:36.037387Z"
    },
    "slideshow": {
     "slide_type": "subslide"
    }
   },
   "outputs": [],
   "source": [
    "z = [\"lists\", \"can hold\", \"any data type\"]\n",
    "print(z)"
   ]
  },
  {
   "cell_type": "markdown",
   "id": "fe4a7be7",
   "metadata": {},
   "source": [
    "`z` is a list holding 3 strings"
   ]
  },
  {
   "cell_type": "code",
   "execution_count": null,
   "id": "7a757884",
   "metadata": {
    "execution": {
     "iopub.execute_input": "2023-06-29T15:34:36.043201Z",
     "iopub.status.busy": "2023-06-29T15:34:36.042640Z",
     "iopub.status.idle": "2023-06-29T15:34:36.048232Z",
     "shell.execute_reply": "2023-06-29T15:34:36.047123Z"
    }
   },
   "outputs": [],
   "source": [
    "q = [1, 2.0, \"lists hold anything\", True]\n",
    "print(q)"
   ]
  },
  {
   "cell_type": "markdown",
   "id": "b9370229",
   "metadata": {},
   "source": [
    "`q` is a list with 4 items: an integer, a float, a string, and a boolean.\n",
    "\n",
    "Lists can hold a mix of different data types."
   ]
  },
  {
   "cell_type": "code",
   "execution_count": null,
   "id": "9e082738",
   "metadata": {
    "execution": {
     "iopub.execute_input": "2023-06-29T15:34:36.053887Z",
     "iopub.status.busy": "2023-06-29T15:34:36.053509Z",
     "iopub.status.idle": "2023-06-29T15:34:36.058186Z",
     "shell.execute_reply": "2023-06-29T15:34:36.057326Z"
    },
    "slideshow": {
     "slide_type": "subslide"
    }
   },
   "outputs": [],
   "source": [
    "r = [[1,2,3], [4,5,6]]\n",
    "print(r)"
   ]
  },
  {
   "cell_type": "markdown",
   "id": "aa6f5052",
   "metadata": {},
   "source": [
    "`r` is a list holding 2 lists, each of which hold 3 integers.\n",
    "\n",
    "If your brain just exploded a little, don't worry - we'll revisit nested lists."
   ]
  },
  {
   "cell_type": "markdown",
   "id": "9a3b8e88",
   "metadata": {
    "slideshow": {
     "slide_type": "slide"
    }
   },
   "source": [
    "# Accessing lists\n",
    "\n",
    "You can access items in a list by **index**.\n",
    "\n",
    "The indices are **0-based**: the first item in the list has index 0."
   ]
  },
  {
   "cell_type": "code",
   "execution_count": null,
   "id": "5fb9c9e1",
   "metadata": {
    "execution": {
     "iopub.execute_input": "2023-06-29T15:34:36.063347Z",
     "iopub.status.busy": "2023-06-29T15:34:36.062950Z",
     "iopub.status.idle": "2023-06-29T15:34:36.072723Z",
     "shell.execute_reply": "2023-06-29T15:34:36.071399Z"
    }
   },
   "outputs": [],
   "source": [
    "foods = [\"apple\", \"banana\", \"chocolate\"]\n",
    "foods[0]"
   ]
  },
  {
   "cell_type": "code",
   "execution_count": null,
   "id": "5098c573",
   "metadata": {
    "execution": {
     "iopub.execute_input": "2023-06-29T15:34:36.078384Z",
     "iopub.status.busy": "2023-06-29T15:34:36.077789Z",
     "iopub.status.idle": "2023-06-29T15:34:36.084345Z",
     "shell.execute_reply": "2023-06-29T15:34:36.082955Z"
    }
   },
   "outputs": [],
   "source": [
    "foods[2]"
   ]
  },
  {
   "cell_type": "markdown",
   "id": "5e133222",
   "metadata": {
    "slideshow": {
     "slide_type": "subslide"
    }
   },
   "source": [
    "Accessing an element outside the bounds of the array produces an error:"
   ]
  },
  {
   "cell_type": "code",
   "execution_count": null,
   "id": "89cf4a8d",
   "metadata": {
    "execution": {
     "iopub.execute_input": "2023-06-29T15:34:36.089243Z",
     "iopub.status.busy": "2023-06-29T15:34:36.088871Z",
     "iopub.status.idle": "2023-06-29T15:34:36.557107Z",
     "shell.execute_reply": "2023-06-29T15:34:36.556255Z"
    },
    "tags": [
     "raises-exception"
    ]
   },
   "outputs": [],
   "source": [
    "foods = [\"apple\", \"banana\", \"chocolate\"]\n",
    "foods[3]"
   ]
  },
  {
   "cell_type": "markdown",
   "id": "e3cebf48",
   "metadata": {
    "slideshow": {
     "slide_type": "subslide"
    }
   },
   "source": [
    "You can use negative indices to count backwards from the end:"
   ]
  },
  {
   "cell_type": "code",
   "execution_count": null,
   "id": "9fdfe380",
   "metadata": {
    "execution": {
     "iopub.execute_input": "2023-06-29T15:34:36.561620Z",
     "iopub.status.busy": "2023-06-29T15:34:36.561142Z",
     "iopub.status.idle": "2023-06-29T15:34:36.568207Z",
     "shell.execute_reply": "2023-06-29T15:34:36.566824Z"
    }
   },
   "outputs": [],
   "source": [
    "foods = [\"apple\", \"banana\", \"chocolate\"]\n",
    "foods[-1]"
   ]
  },
  {
   "cell_type": "code",
   "execution_count": null,
   "id": "67d639a4",
   "metadata": {
    "execution": {
     "iopub.execute_input": "2023-06-29T15:34:36.574441Z",
     "iopub.status.busy": "2023-06-29T15:34:36.573687Z",
     "iopub.status.idle": "2023-06-29T15:34:36.579799Z",
     "shell.execute_reply": "2023-06-29T15:34:36.578945Z"
    }
   },
   "outputs": [],
   "source": [
    "foods[-3]"
   ]
  },
  {
   "cell_type": "markdown",
   "id": "ea0fa86a",
   "metadata": {
    "slideshow": {
     "slide_type": "slide"
    }
   },
   "source": [
    "# Slicing\n",
    "\n",
    "You can **slice** lists - create a new list from a subset of a list.\n",
    "\n",
    "Slice from the beginning of the list up to an index with `[:n]`:"
   ]
  },
  {
   "cell_type": "code",
   "execution_count": null,
   "id": "0c7e7558",
   "metadata": {
    "execution": {
     "iopub.execute_input": "2023-06-29T15:34:36.585324Z",
     "iopub.status.busy": "2023-06-29T15:34:36.584791Z",
     "iopub.status.idle": "2023-06-29T15:34:36.591098Z",
     "shell.execute_reply": "2023-06-29T15:34:36.590180Z"
    }
   },
   "outputs": [],
   "source": [
    "mountains = [\"everest\", \"whitney\", \"washington\", \"denali\", \"rainier\"]"
   ]
  },
  {
   "cell_type": "code",
   "execution_count": null,
   "id": "fbbd26ca",
   "metadata": {
    "execution": {
     "iopub.execute_input": "2023-06-29T15:34:36.595375Z",
     "iopub.status.busy": "2023-06-29T15:34:36.594565Z",
     "iopub.status.idle": "2023-06-29T15:34:36.600582Z",
     "shell.execute_reply": "2023-06-29T15:34:36.599827Z"
    }
   },
   "outputs": [],
   "source": [
    "# take everything up to (but not including) index 2\n",
    "mountains[:2]"
   ]
  },
  {
   "cell_type": "markdown",
   "id": "edbf204f",
   "metadata": {},
   "source": [
    "Slice from an index to the end of the list with `[n:]`:"
   ]
  },
  {
   "cell_type": "code",
   "execution_count": null,
   "id": "7af6ac76",
   "metadata": {
    "execution": {
     "iopub.execute_input": "2023-06-29T15:34:36.604243Z",
     "iopub.status.busy": "2023-06-29T15:34:36.603949Z",
     "iopub.status.idle": "2023-06-29T15:34:36.609500Z",
     "shell.execute_reply": "2023-06-29T15:34:36.608435Z"
    }
   },
   "outputs": [],
   "source": [
    "# drop the first item in the list\n",
    "mountains[1:]"
   ]
  },
  {
   "cell_type": "markdown",
   "id": "76c3775d",
   "metadata": {
    "slideshow": {
     "slide_type": "subslide"
    }
   },
   "source": [
    "Slice from the middle by providing a start and end index `[m:n]`:"
   ]
  },
  {
   "cell_type": "code",
   "execution_count": null,
   "id": "415fa705",
   "metadata": {
    "execution": {
     "iopub.execute_input": "2023-06-29T15:34:36.614429Z",
     "iopub.status.busy": "2023-06-29T15:34:36.613663Z",
     "iopub.status.idle": "2023-06-29T15:34:36.625790Z",
     "shell.execute_reply": "2023-06-29T15:34:36.624667Z"
    }
   },
   "outputs": [],
   "source": [
    "mountains = [\"everest\", \"whitney\", \"washington\", \"denali\", \"rainier\"]\n",
    "# take indices 1, 2\n",
    "mountains[1:3]"
   ]
  },
  {
   "cell_type": "markdown",
   "id": "fb8abeba",
   "metadata": {},
   "source": [
    "You can even use negative indices when slicing:"
   ]
  },
  {
   "cell_type": "code",
   "execution_count": null,
   "id": "5aa7024d",
   "metadata": {
    "execution": {
     "iopub.execute_input": "2023-06-29T15:34:36.630996Z",
     "iopub.status.busy": "2023-06-29T15:34:36.630501Z",
     "iopub.status.idle": "2023-06-29T15:34:36.639293Z",
     "shell.execute_reply": "2023-06-29T15:34:36.636867Z"
    }
   },
   "outputs": [],
   "source": [
    "# take everything up to the last 2 items\n",
    "mountains[:-2]"
   ]
  },
  {
   "cell_type": "code",
   "execution_count": null,
   "id": "d33feba6",
   "metadata": {
    "execution": {
     "iopub.execute_input": "2023-06-29T15:34:36.644507Z",
     "iopub.status.busy": "2023-06-29T15:34:36.643507Z",
     "iopub.status.idle": "2023-06-29T15:34:36.656764Z",
     "shell.execute_reply": "2023-06-29T15:34:36.651920Z"
    }
   },
   "outputs": [],
   "source": [
    "# drop the first and last items\n",
    "mountains[1:-1]"
   ]
  },
  {
   "cell_type": "markdown",
   "id": "53d0022e",
   "metadata": {
    "slideshow": {
     "slide_type": "slide"
    }
   },
   "source": [
    "# Length\n",
    "\n",
    "The `len()` function gives you the length of a list:"
   ]
  },
  {
   "cell_type": "code",
   "execution_count": null,
   "id": "d1463495",
   "metadata": {
    "execution": {
     "iopub.execute_input": "2023-06-29T15:34:36.664214Z",
     "iopub.status.busy": "2023-06-29T15:34:36.663505Z",
     "iopub.status.idle": "2023-06-29T15:34:36.671824Z",
     "shell.execute_reply": "2023-06-29T15:34:36.669889Z"
    }
   },
   "outputs": [],
   "source": [
    "mountains = [\"everest\", \"whitney\", \"washington\", \"denali\", \"rainier\"]\n",
    "len(mountains)"
   ]
  },
  {
   "cell_type": "markdown",
   "id": "6c9ffbd4",
   "metadata": {
    "slideshow": {
     "slide_type": "slide"
    }
   },
   "source": [
    "# Modifying lists\n",
    "\n",
    "You can add, remove, and change elements.\n",
    "\n",
    "Assigning to an element changes it in place:"
   ]
  },
  {
   "cell_type": "code",
   "execution_count": null,
   "id": "4005901b",
   "metadata": {
    "execution": {
     "iopub.execute_input": "2023-06-29T15:34:36.681090Z",
     "iopub.status.busy": "2023-06-29T15:34:36.680497Z",
     "iopub.status.idle": "2023-06-29T15:34:36.686559Z",
     "shell.execute_reply": "2023-06-29T15:34:36.685417Z"
    }
   },
   "outputs": [],
   "source": [
    "mountains = [\"rushmore\", \"whitney\", \"washington\", \"denali\", \"rainier\"]\n",
    "mountains[0] = \"everest\"\n",
    "print(mountains)"
   ]
  },
  {
   "cell_type": "markdown",
   "id": "2d45454e",
   "metadata": {
    "slideshow": {
     "slide_type": "subslide"
    }
   },
   "source": [
    "The `append()` method adds an element to the end:"
   ]
  },
  {
   "cell_type": "code",
   "execution_count": null,
   "id": "663cabfd",
   "metadata": {
    "execution": {
     "iopub.execute_input": "2023-06-29T15:34:36.691872Z",
     "iopub.status.busy": "2023-06-29T15:34:36.691266Z",
     "iopub.status.idle": "2023-06-29T15:34:36.697846Z",
     "shell.execute_reply": "2023-06-29T15:34:36.696374Z"
    }
   },
   "outputs": [],
   "source": [
    "mountains = [\"everest\", \"whitney\", \"washington\", \"denali\", \"rainier\"]\n",
    "mountains.append(\"kilimanjaro\")\n",
    "print(mountains)"
   ]
  },
  {
   "cell_type": "markdown",
   "id": "d8f20e3d",
   "metadata": {
    "slideshow": {
     "slide_type": "subslide"
    }
   },
   "source": [
    "The `insert()` method will insert at a given index:"
   ]
  },
  {
   "cell_type": "code",
   "execution_count": null,
   "id": "07f6cdbd",
   "metadata": {
    "execution": {
     "iopub.execute_input": "2023-06-29T15:34:36.703135Z",
     "iopub.status.busy": "2023-06-29T15:34:36.702581Z",
     "iopub.status.idle": "2023-06-29T15:34:36.711029Z",
     "shell.execute_reply": "2023-06-29T15:34:36.707929Z"
    }
   },
   "outputs": [],
   "source": [
    "mountains = [\"everest\", \"whitney\", \"washington\", \"denali\", \"rainier\"]\n",
    "mountains.insert(1, \"kilimanjaro\")\n",
    "print(mountains)"
   ]
  },
  {
   "cell_type": "markdown",
   "id": "7fef35c1",
   "metadata": {
    "slideshow": {
     "slide_type": "subslide"
    }
   },
   "source": [
    "A few ways to delete items:\n",
    "\n",
    "The `del` keyword:"
   ]
  },
  {
   "cell_type": "code",
   "execution_count": null,
   "id": "5829b112",
   "metadata": {
    "execution": {
     "iopub.execute_input": "2023-06-29T15:34:36.719439Z",
     "iopub.status.busy": "2023-06-29T15:34:36.718470Z",
     "iopub.status.idle": "2023-06-29T15:34:36.728510Z",
     "shell.execute_reply": "2023-06-29T15:34:36.725909Z"
    }
   },
   "outputs": [],
   "source": [
    "mountains = [\"everest\", \"whitney\", \"washington\", \"denali\", \"rainier\"]\n",
    "del mountains[3]\n",
    "print(mountains)"
   ]
  },
  {
   "cell_type": "markdown",
   "id": "f2eb6228",
   "metadata": {},
   "source": [
    "The `pop()` method, which takes the index to remove, and returns the element that was removed:"
   ]
  },
  {
   "cell_type": "code",
   "execution_count": null,
   "id": "be7d2a02",
   "metadata": {
    "execution": {
     "iopub.execute_input": "2023-06-29T15:34:36.734025Z",
     "iopub.status.busy": "2023-06-29T15:34:36.733377Z",
     "iopub.status.idle": "2023-06-29T15:34:36.742188Z",
     "shell.execute_reply": "2023-06-29T15:34:36.741279Z"
    }
   },
   "outputs": [],
   "source": [
    "mountains = [\"everest\", \"whitney\", \"washington\", \"denali\", \"rainier\"]\n",
    "popped = mountains.pop(2)\n",
    "print(\"Removed \" + popped)\n",
    "print(\"List after the pop: \" + str(mountains))"
   ]
  },
  {
   "cell_type": "markdown",
   "id": "80288aa7",
   "metadata": {
    "slideshow": {
     "slide_type": "subslide"
    }
   },
   "source": [
    "Remove everything with the `clear()` method"
   ]
  },
  {
   "cell_type": "code",
   "execution_count": null,
   "id": "b61d81af",
   "metadata": {
    "execution": {
     "iopub.execute_input": "2023-06-29T15:34:36.748080Z",
     "iopub.status.busy": "2023-06-29T15:34:36.747607Z",
     "iopub.status.idle": "2023-06-29T15:34:36.755720Z",
     "shell.execute_reply": "2023-06-29T15:34:36.752984Z"
    }
   },
   "outputs": [],
   "source": [
    "mountains = [\"everest\", \"whitney\", \"washington\", \"denali\", \"rainier\"]\n",
    "mountains.clear()\n",
    "print(mountains)"
   ]
  },
  {
   "cell_type": "markdown",
   "id": "a426da25",
   "metadata": {
    "slideshow": {
     "slide_type": "skip"
    }
   },
   "source": [
    "**Beware** the confusing `remove()` method. It looks for a **value** in the list and removes the **first instance** it finds:"
   ]
  },
  {
   "cell_type": "code",
   "execution_count": null,
   "id": "6844f38b",
   "metadata": {
    "execution": {
     "iopub.execute_input": "2023-06-29T15:34:36.759926Z",
     "iopub.status.busy": "2023-06-29T15:34:36.759586Z",
     "iopub.status.idle": "2023-06-29T15:34:36.765584Z",
     "shell.execute_reply": "2023-06-29T15:34:36.764630Z"
    },
    "slideshow": {
     "slide_type": "skip"
    }
   },
   "outputs": [],
   "source": [
    "mountains = [\"everest\", \"whitney\", \"washington\", \"denali\", \"rainier\", \"whitney\"]\n",
    "mountains.remove(\"whitney\")\n",
    "print(mountains)"
   ]
  },
  {
   "cell_type": "markdown",
   "id": "60078d9d",
   "metadata": {
    "slideshow": {
     "slide_type": "skip"
    }
   },
   "source": [
    "It's easy to mix up `remove()` with `pop()`:"
   ]
  },
  {
   "cell_type": "code",
   "execution_count": null,
   "id": "36f9ba4d",
   "metadata": {
    "execution": {
     "iopub.execute_input": "2023-06-29T15:34:36.769537Z",
     "iopub.status.busy": "2023-06-29T15:34:36.769212Z",
     "iopub.status.idle": "2023-06-29T15:34:36.773889Z",
     "shell.execute_reply": "2023-06-29T15:34:36.773119Z"
    },
    "slideshow": {
     "slide_type": "skip"
    }
   },
   "outputs": [],
   "source": [
    "numbers = [5, 4, 3, 2, 1]\n",
    "# Remove element at index 1... right?\n",
    "numbers.remove(1)\n",
    "# ... wrong. It removed the item `1`.\n",
    "print(numbers)"
   ]
  },
  {
   "cell_type": "markdown",
   "id": "723a14c5",
   "metadata": {
    "slideshow": {
     "slide_type": "subslide"
    }
   },
   "source": [
    "Concatenate 2 lists with `+`:"
   ]
  },
  {
   "cell_type": "code",
   "execution_count": null,
   "id": "b7c474a9",
   "metadata": {
    "execution": {
     "iopub.execute_input": "2023-06-29T15:34:36.778327Z",
     "iopub.status.busy": "2023-06-29T15:34:36.777935Z",
     "iopub.status.idle": "2023-06-29T15:34:36.783094Z",
     "shell.execute_reply": "2023-06-29T15:34:36.782204Z"
    }
   },
   "outputs": [],
   "source": [
    "a = [1,2,3]\n",
    "b = [4,5,6]\n",
    "print(a + b)"
   ]
  },
  {
   "cell_type": "markdown",
   "id": "a17513e8",
   "metadata": {
    "slideshow": {
     "slide_type": "slide"
    }
   },
   "source": [
    "# Aside: method vs function\n",
    "\n",
    "We just reviewed a few `list` **methods**. Methods are functions that are **called on** a value.\n",
    "\n",
    "Methods are called on a value using a `.`: `some_variable.some_method()`\n",
    "\n",
    "For example: to remove the last item from a list named `spam`, call the `pop` method on it: `spam.pop()`.\n",
    "\n",
    "Lists have many useful methods (we covered most, but not all, of them): [list method documentation](https://docs.python.org/3/tutorial/datastructures.html)\n",
    "\n",
    "We'll revisit methods later in the term, all you need to know for now is the syntax for calling them."
   ]
  },
  {
   "cell_type": "markdown",
   "id": "a1b3471e",
   "metadata": {
    "slideshow": {
     "slide_type": "slide"
    }
   },
   "source": [
    "# Exercise\n",
    "\n",
    "Build a **cat**alog (hah): a program that prompts the user for the names of their cats, and prints them all out.\n",
    "\n"
   ]
  },
  {
   "cell_type": "markdown",
   "id": "072c925a",
   "metadata": {
    "slideshow": {
     "slide_type": "subslide"
    }
   },
   "source": [
    "Before lists, the best we could do is something like this, where we have a maximum number of cats, and store each one in its own variable:"
   ]
  },
  {
   "cell_type": "code",
   "execution_count": null,
   "id": "99386b33",
   "metadata": {
    "execution": {
     "iopub.execute_input": "2023-06-29T15:34:36.789237Z",
     "iopub.status.busy": "2023-06-29T15:34:36.788819Z",
     "iopub.status.idle": "2023-06-29T15:34:36.891294Z",
     "shell.execute_reply": "2023-06-29T15:34:36.888132Z"
    },
    "tags": [
     "remove-output"
    ]
   },
   "outputs": [],
   "source": [
    "print('Enter the name of cat 1:')\n",
    "catName1 = input()\n",
    "print('Enter the name of cat 2:')\n",
    "catName2 = input()\n",
    "print('Enter the name of cat 3:')\n",
    "catName3 = input()\n",
    "print('Enter the name of cat 4:')\n",
    "catName4 = input()\n",
    "print('Enter the name of cat 5:')\n",
    "catName5 = input()\n",
    "print('Enter the name of cat 6:')\n",
    "catName6 = input()\n",
    "print('The cat names are:')\n",
    "print(catName1 + ' ' + catName2 + ' ' + catName3 + ' ' + catName4 + ' ' +\n",
    "catName5 + ' ' + catName6)"
   ]
  },
  {
   "cell_type": "markdown",
   "id": "9e2a17f4",
   "metadata": {
    "slideshow": {
     "slide_type": "subslide"
    }
   },
   "source": [
    "Lists improve this significantly, and free us up from a fixed number of cats.\n",
    "\n",
    "We will keep a list of cat names, and add to it each time the user enters one. At the end, we will print out the list."
   ]
  },
  {
   "cell_type": "code",
   "execution_count": null,
   "id": "9cd530fe",
   "metadata": {
    "execution": {
     "iopub.execute_input": "2023-06-29T15:34:36.896766Z",
     "iopub.status.busy": "2023-06-29T15:34:36.896285Z",
     "iopub.status.idle": "2023-06-29T15:34:36.931374Z",
     "shell.execute_reply": "2023-06-29T15:34:36.930127Z"
    },
    "slideshow": {
     "slide_type": "-"
    },
    "tags": [
     "remove-output"
    ]
   },
   "outputs": [],
   "source": [
    "catNames = []\n",
    "while True:\n",
    "    print('Enter the name of cat ' + str(len(catNames) + 1) +\n",
    "      ' (Or enter nothing to stop.):')\n",
    "    name = input()\n",
    "    if name == '':\n",
    "        break\n",
    "    catNames.append(name)\n",
    "\n",
    "print('The cat names are: ' + str(catNames))"
   ]
  },
  {
   "cell_type": "markdown",
   "id": "12bdb0c1",
   "metadata": {
    "slideshow": {
     "slide_type": "slide"
    }
   },
   "source": [
    "# Lists and Loops: Friends Forever\n",
    "\n",
    "In the last example, we converted the list to a string to print it out. It worked, but was ugly: `['Batman', 'Bill Murray']`. Let's look at how to use loops and lists together.\n",
    "\n",
    "Write a function that takes a list of integers as a parameter, and prints out the square of each number.\n",
    "\n",
    "One way to do it:"
   ]
  },
  {
   "cell_type": "code",
   "execution_count": null,
   "id": "fbc323f8",
   "metadata": {
    "execution": {
     "iopub.execute_input": "2023-06-29T15:34:36.937182Z",
     "iopub.status.busy": "2023-06-29T15:34:36.936202Z",
     "iopub.status.idle": "2023-06-29T15:34:36.942496Z",
     "shell.execute_reply": "2023-06-29T15:34:36.941587Z"
    }
   },
   "outputs": [],
   "source": [
    "def print_squares(nums):\n",
    "    for i in range(len(nums)):\n",
    "        print(nums[i] ** 2)"
   ]
  },
  {
   "cell_type": "code",
   "execution_count": null,
   "id": "e9d4491c",
   "metadata": {
    "execution": {
     "iopub.execute_input": "2023-06-29T15:34:36.948148Z",
     "iopub.status.busy": "2023-06-29T15:34:36.947616Z",
     "iopub.status.idle": "2023-06-29T15:34:36.953372Z",
     "shell.execute_reply": "2023-06-29T15:34:36.951966Z"
    }
   },
   "outputs": [],
   "source": [
    "print_squares([3,5,11])"
   ]
  },
  {
   "cell_type": "code",
   "execution_count": null,
   "id": "2bd7e928",
   "metadata": {
    "execution": {
     "iopub.execute_input": "2023-06-29T15:34:36.958275Z",
     "iopub.status.busy": "2023-06-29T15:34:36.957582Z",
     "iopub.status.idle": "2023-06-29T15:34:36.965290Z",
     "shell.execute_reply": "2023-06-29T15:34:36.964209Z"
    },
    "slideshow": {
     "slide_type": "subslide"
    }
   },
   "outputs": [],
   "source": [
    "def print_squares(nums):\n",
    "    for i in range(len(nums)):\n",
    "        print(nums[i] ** 2)"
   ]
  },
  {
   "cell_type": "markdown",
   "id": "dfa7d856",
   "metadata": {
    "slideshow": {
     "slide_type": "-"
    }
   },
   "source": [
    "Breaking that down, if the input is `[3, 5, 11]`:  \n",
    "\n",
    "`for i in range(len(nums))` ->  \n",
    "`for i in range(3)`"
   ]
  },
  {
   "cell_type": "markdown",
   "id": "e3795f08",
   "metadata": {
    "slideshow": {
     "slide_type": "subslide"
    }
   },
   "source": [
    "That works, but there are other ways to iterate over a list.\n",
    "\n",
    "`for <var> in <list>:` will execute the code block once for each item in the list, with `<var>` equal to the next list item for each iteration.\n",
    "\n",
    "More on list iteration in the next lecture - for today, just knowing this form of the `for` loop is enough."
   ]
  },
  {
   "cell_type": "code",
   "execution_count": null,
   "id": "729b1ef2",
   "metadata": {
    "execution": {
     "iopub.execute_input": "2023-06-29T15:34:36.970892Z",
     "iopub.status.busy": "2023-06-29T15:34:36.970489Z",
     "iopub.status.idle": "2023-06-29T15:34:36.974964Z",
     "shell.execute_reply": "2023-06-29T15:34:36.974097Z"
    }
   },
   "outputs": [],
   "source": [
    "def print_squares(nums):\n",
    "    for num in nums:\n",
    "        print(num ** 2)"
   ]
  },
  {
   "cell_type": "code",
   "execution_count": null,
   "id": "be9b2581",
   "metadata": {
    "execution": {
     "iopub.execute_input": "2023-06-29T15:34:36.980384Z",
     "iopub.status.busy": "2023-06-29T15:34:36.979967Z",
     "iopub.status.idle": "2023-06-29T15:34:36.986135Z",
     "shell.execute_reply": "2023-06-29T15:34:36.984685Z"
    }
   },
   "outputs": [],
   "source": [
    "print_squares([3,5,11])"
   ]
  },
  {
   "cell_type": "markdown",
   "id": "f359b96c",
   "metadata": {
    "slideshow": {
     "slide_type": "slide"
    }
   },
   "source": [
    "# Exercise\n",
    "\n",
    "Write a function to find the average of a list of numbers, then print out all the numbers below the average."
   ]
  },
  {
   "cell_type": "markdown",
   "id": "62b418fd",
   "metadata": {
    "slideshow": {
     "slide_type": "fragment"
    }
   },
   "source": [
    "Let's use our usual strategy: decompose the problem. Two main parts:\n",
    "\n",
    "1. Find the average of a list of numbers\n",
    "2. Print all the numbers lower than that average"
   ]
  },
  {
   "cell_type": "markdown",
   "id": "2471a378",
   "metadata": {
    "slideshow": {
     "slide_type": "subslide"
    }
   },
   "source": [
    "Step 1, find the average:"
   ]
  },
  {
   "cell_type": "code",
   "execution_count": null,
   "id": "600f4374",
   "metadata": {
    "execution": {
     "iopub.execute_input": "2023-06-29T15:34:36.991474Z",
     "iopub.status.busy": "2023-06-29T15:34:36.990661Z",
     "iopub.status.idle": "2023-06-29T15:34:36.998810Z",
     "shell.execute_reply": "2023-06-29T15:34:36.997458Z"
    }
   },
   "outputs": [],
   "source": [
    "def find_average(nums):\n",
    "    sum = 0\n",
    "    for  num in nums:\n",
    "        sum = sum + num\n",
    "    avg = sum / len(nums)\n",
    "    return avg"
   ]
  },
  {
   "cell_type": "code",
   "execution_count": null,
   "id": "6025bf87",
   "metadata": {
    "execution": {
     "iopub.execute_input": "2023-06-29T15:34:37.003771Z",
     "iopub.status.busy": "2023-06-29T15:34:37.003300Z",
     "iopub.status.idle": "2023-06-29T15:34:37.009976Z",
     "shell.execute_reply": "2023-06-29T15:34:37.008805Z"
    }
   },
   "outputs": [],
   "source": [
    "find_average([1,2,3,4,100000])"
   ]
  },
  {
   "cell_type": "markdown",
   "id": "013dc98c",
   "metadata": {
    "slideshow": {
     "slide_type": "subslide"
    }
   },
   "source": [
    "Step 2: print each item below the average:"
   ]
  },
  {
   "cell_type": "code",
   "execution_count": null,
   "id": "66a7e988",
   "metadata": {
    "execution": {
     "iopub.execute_input": "2023-06-29T15:34:37.016269Z",
     "iopub.status.busy": "2023-06-29T15:34:37.015562Z",
     "iopub.status.idle": "2023-06-29T15:34:37.020986Z",
     "shell.execute_reply": "2023-06-29T15:34:37.019773Z"
    },
    "slideshow": {
     "slide_type": "-"
    }
   },
   "outputs": [],
   "source": [
    "def below_average(nums):\n",
    "    avg = find_average(nums)\n",
    "    \n",
    "    print(\"The average is: \" + str(avg) + \". Here are all the below average numbers: \")\n",
    "    for num in nums:\n",
    "        if num < avg:\n",
    "            print(num, end=' ')"
   ]
  },
  {
   "cell_type": "code",
   "execution_count": null,
   "id": "929782bb",
   "metadata": {
    "execution": {
     "iopub.execute_input": "2023-06-29T15:34:37.027512Z",
     "iopub.status.busy": "2023-06-29T15:34:37.025812Z",
     "iopub.status.idle": "2023-06-29T15:34:37.033943Z",
     "shell.execute_reply": "2023-06-29T15:34:37.032983Z"
    },
    "slideshow": {
     "slide_type": "-"
    }
   },
   "outputs": [],
   "source": [
    "below_average([1,2,3,4,100000])"
   ]
  },
  {
   "cell_type": "markdown",
   "id": "5a17eb68",
   "metadata": {
    "slideshow": {
     "slide_type": "slide"
    }
   },
   "source": [
    "# Exercise\n",
    "\n",
    "Write a function to find the largest number in a list. \n",
    "\n",
    "Similar to \"cumulative algorithms\", we'll define a variable to hold the largest number we've seen so far."
   ]
  },
  {
   "cell_type": "code",
   "execution_count": null,
   "id": "480f52e6",
   "metadata": {
    "execution": {
     "iopub.execute_input": "2023-06-29T15:34:37.038628Z",
     "iopub.status.busy": "2023-06-29T15:34:37.038230Z",
     "iopub.status.idle": "2023-06-29T15:34:37.042954Z",
     "shell.execute_reply": "2023-06-29T15:34:37.041792Z"
    }
   },
   "outputs": [],
   "source": [
    "def find_largest(nums):\n",
    "    biggest = 0\n",
    "    for num in nums:\n",
    "        if num > biggest:\n",
    "            biggest = num\n",
    "    return biggest"
   ]
  },
  {
   "cell_type": "code",
   "execution_count": null,
   "id": "e9edd6ad",
   "metadata": {
    "execution": {
     "iopub.execute_input": "2023-06-29T15:34:37.048637Z",
     "iopub.status.busy": "2023-06-29T15:34:37.048207Z",
     "iopub.status.idle": "2023-06-29T15:34:37.054317Z",
     "shell.execute_reply": "2023-06-29T15:34:37.053489Z"
    }
   },
   "outputs": [],
   "source": [
    "find_largest([18, 27, 1, 3, 10, 1000])"
   ]
  },
  {
   "cell_type": "markdown",
   "id": "d7e5a6dd",
   "metadata": {
    "slideshow": {
     "slide_type": "subslide"
    }
   },
   "source": [
    "Looks like it worked... but can you spot the bug?"
   ]
  },
  {
   "cell_type": "code",
   "execution_count": null,
   "id": "80d2e689",
   "metadata": {
    "execution": {
     "iopub.execute_input": "2023-06-29T15:34:37.061260Z",
     "iopub.status.busy": "2023-06-29T15:34:37.060454Z",
     "iopub.status.idle": "2023-06-29T15:34:37.066353Z",
     "shell.execute_reply": "2023-06-29T15:34:37.065464Z"
    }
   },
   "outputs": [],
   "source": [
    "def find_largest(nums):\n",
    "    biggest = 0\n",
    "    for num in nums:\n",
    "        if num > biggest:\n",
    "            biggest = num\n",
    "    return biggest"
   ]
  },
  {
   "cell_type": "code",
   "execution_count": null,
   "id": "a50ed117",
   "metadata": {
    "execution": {
     "iopub.execute_input": "2023-06-29T15:34:37.071095Z",
     "iopub.status.busy": "2023-06-29T15:34:37.070585Z",
     "iopub.status.idle": "2023-06-29T15:34:37.080707Z",
     "shell.execute_reply": "2023-06-29T15:34:37.079217Z"
    },
    "slideshow": {
     "slide_type": "fragment"
    }
   },
   "outputs": [],
   "source": [
    "find_largest([-1, -2, -3])"
   ]
  },
  {
   "cell_type": "markdown",
   "id": "57de5587",
   "metadata": {
    "slideshow": {
     "slide_type": "subslide"
    }
   },
   "source": [
    "`0` is a bad choice for our initial maximum value. \n",
    "\n",
    "We could use a very negative number. But, in Python, integers are unbounded, so it will never be negative enough to cover all cases.\n",
    "\n",
    "Let's try something else..."
   ]
  },
  {
   "cell_type": "code",
   "execution_count": null,
   "id": "2bc5c62b",
   "metadata": {
    "execution": {
     "iopub.execute_input": "2023-06-29T15:34:37.085946Z",
     "iopub.status.busy": "2023-06-29T15:34:37.085528Z",
     "iopub.status.idle": "2023-06-29T15:34:37.093443Z",
     "shell.execute_reply": "2023-06-29T15:34:37.089697Z"
    }
   },
   "outputs": [],
   "source": [
    "def find_largest(nums):\n",
    "    biggest = nums[0]\n",
    "    for num in nums[1:]:\n",
    "        if num > biggest:\n",
    "            biggest = num\n",
    "    return biggest"
   ]
  },
  {
   "cell_type": "code",
   "execution_count": null,
   "id": "84c494b1",
   "metadata": {
    "execution": {
     "iopub.execute_input": "2023-06-29T15:34:37.099892Z",
     "iopub.status.busy": "2023-06-29T15:34:37.099472Z",
     "iopub.status.idle": "2023-06-29T15:34:37.106405Z",
     "shell.execute_reply": "2023-06-29T15:34:37.105339Z"
    }
   },
   "outputs": [],
   "source": [
    "find_largest([-1,-2,-3])"
   ]
  },
  {
   "cell_type": "code",
   "execution_count": null,
   "id": "843446c1",
   "metadata": {
    "execution": {
     "iopub.execute_input": "2023-06-29T15:34:37.114006Z",
     "iopub.status.busy": "2023-06-29T15:34:37.113492Z",
     "iopub.status.idle": "2023-06-29T15:34:37.151554Z",
     "shell.execute_reply": "2023-06-29T15:34:37.150350Z"
    },
    "slideshow": {
     "slide_type": "fragment"
    }
   },
   "outputs": [],
   "source": [
    "find_largest([])"
   ]
  },
  {
   "cell_type": "markdown",
   "id": "b33aebb3",
   "metadata": {
    "slideshow": {
     "slide_type": "subslide"
    }
   },
   "source": [
    "Whoops, this doesn't work on empty lists!"
   ]
  },
  {
   "cell_type": "code",
   "execution_count": null,
   "id": "1f6c9cb4",
   "metadata": {
    "execution": {
     "iopub.execute_input": "2023-06-29T15:34:37.155585Z",
     "iopub.status.busy": "2023-06-29T15:34:37.155254Z",
     "iopub.status.idle": "2023-06-29T15:34:37.160415Z",
     "shell.execute_reply": "2023-06-29T15:34:37.158809Z"
    },
    "slideshow": {
     "slide_type": "fragment"
    }
   },
   "outputs": [],
   "source": [
    "def find_largest(nums):\n",
    "    if len(nums) == 0:\n",
    "        return None\n",
    "    \n",
    "    biggest = nums[0]\n",
    "    for num in nums[1:]:\n",
    "        if num > biggest:\n",
    "            biggest = num\n",
    "    return biggest"
   ]
  },
  {
   "cell_type": "code",
   "execution_count": null,
   "id": "9453bc9d",
   "metadata": {
    "execution": {
     "iopub.execute_input": "2023-06-29T15:34:37.165410Z",
     "iopub.status.busy": "2023-06-29T15:34:37.164430Z",
     "iopub.status.idle": "2023-06-29T15:34:37.171321Z",
     "shell.execute_reply": "2023-06-29T15:34:37.170410Z"
    }
   },
   "outputs": [],
   "source": [
    "find_largest([-1,-2,-3])"
   ]
  },
  {
   "cell_type": "markdown",
   "id": "d7a3b7c4",
   "metadata": {
    "slideshow": {
     "slide_type": "subslide"
    }
   },
   "source": [
    "This is perfectly good! Here's one more option though:"
   ]
  },
  {
   "cell_type": "code",
   "execution_count": null,
   "id": "2e8bad8b",
   "metadata": {
    "execution": {
     "iopub.execute_input": "2023-06-29T15:34:37.176769Z",
     "iopub.status.busy": "2023-06-29T15:34:37.175455Z",
     "iopub.status.idle": "2023-06-29T15:34:37.181442Z",
     "shell.execute_reply": "2023-06-29T15:34:37.180429Z"
    }
   },
   "outputs": [],
   "source": [
    "def find_largest(nums):\n",
    "    biggest = None\n",
    "    for num in nums:\n",
    "        if biggest is None or num > biggest:\n",
    "            biggest = num\n",
    "    return biggest"
   ]
  },
  {
   "cell_type": "code",
   "execution_count": null,
   "id": "d1521fcd",
   "metadata": {
    "execution": {
     "iopub.execute_input": "2023-06-29T15:34:37.186246Z",
     "iopub.status.busy": "2023-06-29T15:34:37.185855Z",
     "iopub.status.idle": "2023-06-29T15:34:37.191904Z",
     "shell.execute_reply": "2023-06-29T15:34:37.190929Z"
    }
   },
   "outputs": [],
   "source": [
    "find_largest([-1,-2,-3])"
   ]
  },
  {
   "cell_type": "code",
   "execution_count": null,
   "id": "89810ac7",
   "metadata": {
    "execution": {
     "iopub.execute_input": "2023-06-29T15:34:37.197126Z",
     "iopub.status.busy": "2023-06-29T15:34:37.196712Z",
     "iopub.status.idle": "2023-06-29T15:34:37.202179Z",
     "shell.execute_reply": "2023-06-29T15:34:37.201272Z"
    },
    "slideshow": {
     "slide_type": "-"
    }
   },
   "outputs": [],
   "source": [
    "print(find_largest([]))"
   ]
  },
  {
   "cell_type": "markdown",
   "id": "60927821",
   "metadata": {},
   "source": [
    "## Oh wait, Python does this for us\n",
    "\n",
    "There is a `max` function (also `min`) that will give us the largest/smallest item in a list: [max() documentation](https://docs.python.org/3/library/functions.html#max)\n",
    "\n",
    "This was still a useful exercise to go through, because the issues we encountered and fixed are all common coding challenges.\n",
    "\n",
    "But when you're writing code in the wild, check for a built-in function or library that you can use before building it all yourself!"
   ]
  },
  {
   "cell_type": "code",
   "execution_count": null,
   "id": "26982949",
   "metadata": {
    "execution": {
     "iopub.execute_input": "2023-06-29T15:34:37.206574Z",
     "iopub.status.busy": "2023-06-29T15:34:37.206170Z",
     "iopub.status.idle": "2023-06-29T15:34:37.213069Z",
     "shell.execute_reply": "2023-06-29T15:34:37.212153Z"
    }
   },
   "outputs": [],
   "source": [
    "max([-1, -2, -3])"
   ]
  }
 ],
 "metadata": {
  "celltoolbar": "Slideshow",
  "kernelspec": {
   "display_name": "Python 3 (ipykernel)",
   "language": "python",
   "name": "python3"
  },
  "language_info": {
   "codemirror_mode": {
    "name": "ipython",
    "version": 3
   },
   "file_extension": ".py",
   "mimetype": "text/x-python",
   "name": "python",
   "nbconvert_exporter": "python",
   "pygments_lexer": "ipython3",
   "version": "3.10.9"
  }
 },
 "nbformat": 4,
 "nbformat_minor": 5
}
