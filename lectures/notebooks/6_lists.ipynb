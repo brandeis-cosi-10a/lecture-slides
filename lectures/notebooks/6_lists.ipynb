{
 "cells": [
  {
   "cell_type": "markdown",
   "id": "1ee8a1d2",
   "metadata": {
    "slideshow": {
     "slide_type": "slide"
    }
   },
   "source": [
    "# Lists\n",
    "\n",
    "<style>\n",
    "section.present > section.present { \n",
    "    max-height: 90%; \n",
    "    overflow-y: scroll;\n",
    "}\n",
    "</style>\n",
    "\n",
    "<small><a href=\"https://colab.research.google.com/github/brandeis-jdelfino/cosi-10a/blob/main/lectures/notebooks/6_lists.ipynb\">Link to interactive slides on Google Colab</a></small>"
   ]
  },
  {
   "cell_type": "markdown",
   "id": "704c0666",
   "metadata": {},
   "source": [
    "# Announcements\n",
    "\n",
    "* PS2 is due Friday, 11:59pm. \n",
    "* Quiz 4 tomorrow, on Loops, Exceptions, and Lists"
   ]
  },
  {
   "cell_type": "markdown",
   "id": "e04d6879",
   "metadata": {
    "slideshow": {
     "slide_type": "slide"
    }
   },
   "source": [
    "# Lists\n",
    "\n",
    "So far, we've been dealing with single values - integers, floats, strings.\n",
    "\n",
    "Today, we'll learn about new data type: lists!"
   ]
  },
  {
   "cell_type": "markdown",
   "id": "a239b34a",
   "metadata": {
    "slideshow": {
     "slide_type": "slide"
    }
   },
   "source": [
    "# Creating lists"
   ]
  },
  {
   "cell_type": "code",
   "execution_count": null,
   "id": "5f9bb1a4",
   "metadata": {
    "execution": {
     "iopub.execute_input": "2023-10-02T22:35:15.164999Z",
     "iopub.status.busy": "2023-10-02T22:35:15.164385Z",
     "iopub.status.idle": "2023-10-02T22:35:15.181393Z",
     "shell.execute_reply": "2023-10-02T22:35:15.180366Z"
    }
   },
   "outputs": [],
   "source": [
    "x = [2, 5, 7, 9]\n",
    "print(x)"
   ]
  },
  {
   "cell_type": "markdown",
   "id": "2d367a27",
   "metadata": {},
   "source": [
    "`x` holds a list with 4 items: the integers 2, 5, 7, and 9."
   ]
  },
  {
   "cell_type": "code",
   "execution_count": null,
   "id": "af9ce082",
   "metadata": {
    "execution": {
     "iopub.execute_input": "2023-10-02T22:35:15.186258Z",
     "iopub.status.busy": "2023-10-02T22:35:15.185824Z",
     "iopub.status.idle": "2023-10-02T22:35:15.190665Z",
     "shell.execute_reply": "2023-10-02T22:35:15.189780Z"
    }
   },
   "outputs": [],
   "source": [
    "y = []\n",
    "print(y)"
   ]
  },
  {
   "cell_type": "markdown",
   "id": "b692c650",
   "metadata": {},
   "source": [
    "`y` is an empty list"
   ]
  },
  {
   "cell_type": "code",
   "execution_count": null,
   "id": "f1a5c95c",
   "metadata": {
    "execution": {
     "iopub.execute_input": "2023-10-02T22:35:15.196767Z",
     "iopub.status.busy": "2023-10-02T22:35:15.196414Z",
     "iopub.status.idle": "2023-10-02T22:35:15.201243Z",
     "shell.execute_reply": "2023-10-02T22:35:15.200299Z"
    },
    "slideshow": {
     "slide_type": "subslide"
    }
   },
   "outputs": [],
   "source": [
    "z = [\"lists\", \"can hold\", \"any data type\"]\n",
    "print(z)"
   ]
  },
  {
   "cell_type": "markdown",
   "id": "fe4a7be7",
   "metadata": {},
   "source": [
    "`z` is a list holding 3 strings"
   ]
  },
  {
   "cell_type": "code",
   "execution_count": null,
   "id": "7a757884",
   "metadata": {
    "execution": {
     "iopub.execute_input": "2023-10-02T22:35:15.205490Z",
     "iopub.status.busy": "2023-10-02T22:35:15.205179Z",
     "iopub.status.idle": "2023-10-02T22:35:15.209623Z",
     "shell.execute_reply": "2023-10-02T22:35:15.208356Z"
    }
   },
   "outputs": [],
   "source": [
    "q = [1, 2.0, \"lists hold anything\", True]\n",
    "print(q)"
   ]
  },
  {
   "cell_type": "markdown",
   "id": "b9370229",
   "metadata": {},
   "source": [
    "`q` is a list with 4 items: an integer, a float, a string, and a boolean.\n",
    "\n",
    "Lists can hold a mix of different data types."
   ]
  },
  {
   "cell_type": "code",
   "execution_count": null,
   "id": "9e082738",
   "metadata": {
    "execution": {
     "iopub.execute_input": "2023-10-02T22:35:15.214701Z",
     "iopub.status.busy": "2023-10-02T22:35:15.214393Z",
     "iopub.status.idle": "2023-10-02T22:35:15.218635Z",
     "shell.execute_reply": "2023-10-02T22:35:15.217671Z"
    },
    "slideshow": {
     "slide_type": "subslide"
    }
   },
   "outputs": [],
   "source": [
    "r = [[1,2,3], [4,5,6]]\n",
    "print(r)"
   ]
  },
  {
   "cell_type": "markdown",
   "id": "aa6f5052",
   "metadata": {},
   "source": [
    "`r` is a list holding 2 lists, each of which hold 3 integers.\n",
    "\n",
    "If your brain just exploded a little, don't worry - we'll revisit nested lists."
   ]
  },
  {
   "cell_type": "markdown",
   "id": "9a3b8e88",
   "metadata": {
    "slideshow": {
     "slide_type": "slide"
    }
   },
   "source": [
    "# Accessing lists\n",
    "\n",
    "You can access items in a list by **index**.\n",
    "\n",
    "The indices are **0-based**: the first item in the list has index 0."
   ]
  },
  {
   "cell_type": "code",
   "execution_count": null,
   "id": "5fb9c9e1",
   "metadata": {
    "execution": {
     "iopub.execute_input": "2023-10-02T22:35:15.222494Z",
     "iopub.status.busy": "2023-10-02T22:35:15.222211Z",
     "iopub.status.idle": "2023-10-02T22:35:15.230451Z",
     "shell.execute_reply": "2023-10-02T22:35:15.229847Z"
    }
   },
   "outputs": [],
   "source": [
    "foods = [\"apple\", \"banana\", \"chocolate\"]\n",
    "foods[0]"
   ]
  },
  {
   "cell_type": "code",
   "execution_count": null,
   "id": "5098c573",
   "metadata": {
    "execution": {
     "iopub.execute_input": "2023-10-02T22:35:15.234070Z",
     "iopub.status.busy": "2023-10-02T22:35:15.233641Z",
     "iopub.status.idle": "2023-10-02T22:35:15.238398Z",
     "shell.execute_reply": "2023-10-02T22:35:15.237762Z"
    }
   },
   "outputs": [],
   "source": [
    "foods[2]"
   ]
  },
  {
   "cell_type": "markdown",
   "id": "5e133222",
   "metadata": {
    "slideshow": {
     "slide_type": "subslide"
    }
   },
   "source": [
    "Accessing an element outside the bounds of the array produces an error:"
   ]
  },
  {
   "cell_type": "code",
   "execution_count": null,
   "id": "89cf4a8d",
   "metadata": {
    "execution": {
     "iopub.execute_input": "2023-10-02T22:35:15.241516Z",
     "iopub.status.busy": "2023-10-02T22:35:15.241177Z",
     "iopub.status.idle": "2023-10-02T22:35:15.576604Z",
     "shell.execute_reply": "2023-10-02T22:35:15.575509Z"
    },
    "tags": [
     "raises-exception"
    ]
   },
   "outputs": [],
   "source": [
    "foods = [\"apple\", \"banana\", \"chocolate\"]\n",
    "foods[3]"
   ]
  },
  {
   "cell_type": "markdown",
   "id": "e3cebf48",
   "metadata": {
    "slideshow": {
     "slide_type": "subslide"
    }
   },
   "source": [
    "You can use negative indices to count backwards from the end:"
   ]
  },
  {
   "cell_type": "code",
   "execution_count": null,
   "id": "9fdfe380",
   "metadata": {
    "execution": {
     "iopub.execute_input": "2023-10-02T22:35:15.581532Z",
     "iopub.status.busy": "2023-10-02T22:35:15.581129Z",
     "iopub.status.idle": "2023-10-02T22:35:15.587029Z",
     "shell.execute_reply": "2023-10-02T22:35:15.586347Z"
    }
   },
   "outputs": [],
   "source": [
    "foods = [\"apple\", \"banana\", \"chocolate\"]\n",
    "foods[-1]"
   ]
  },
  {
   "cell_type": "code",
   "execution_count": null,
   "id": "67d639a4",
   "metadata": {
    "execution": {
     "iopub.execute_input": "2023-10-02T22:35:15.590294Z",
     "iopub.status.busy": "2023-10-02T22:35:15.590007Z",
     "iopub.status.idle": "2023-10-02T22:35:15.595777Z",
     "shell.execute_reply": "2023-10-02T22:35:15.595093Z"
    }
   },
   "outputs": [],
   "source": [
    "foods[-3]"
   ]
  },
  {
   "cell_type": "markdown",
   "id": "ea0fa86a",
   "metadata": {
    "slideshow": {
     "slide_type": "slide"
    }
   },
   "source": [
    "# Slicing\n",
    "\n",
    "You can **slice** lists - create a new list from a subset of a list.\n",
    "\n",
    "Slice from the beginning of the list up to an index with `[:n]`:"
   ]
  },
  {
   "cell_type": "code",
   "execution_count": null,
   "id": "0c7e7558",
   "metadata": {
    "execution": {
     "iopub.execute_input": "2023-10-02T22:35:15.600757Z",
     "iopub.status.busy": "2023-10-02T22:35:15.600249Z",
     "iopub.status.idle": "2023-10-02T22:35:15.604910Z",
     "shell.execute_reply": "2023-10-02T22:35:15.603531Z"
    }
   },
   "outputs": [],
   "source": [
    "mountains = [\"everest\", \"whitney\", \"washington\", \"denali\", \"rainier\"]"
   ]
  },
  {
   "cell_type": "code",
   "execution_count": null,
   "id": "fbbd26ca",
   "metadata": {
    "execution": {
     "iopub.execute_input": "2023-10-02T22:35:15.609840Z",
     "iopub.status.busy": "2023-10-02T22:35:15.609428Z",
     "iopub.status.idle": "2023-10-02T22:35:15.617308Z",
     "shell.execute_reply": "2023-10-02T22:35:15.615805Z"
    }
   },
   "outputs": [],
   "source": [
    "# take everything up to (but not including) index 2\n",
    "mountains[:2]"
   ]
  },
  {
   "cell_type": "markdown",
   "id": "edbf204f",
   "metadata": {},
   "source": [
    "Slice from an index to the end of the list with `[n:]`:"
   ]
  },
  {
   "cell_type": "code",
   "execution_count": null,
   "id": "7af6ac76",
   "metadata": {
    "execution": {
     "iopub.execute_input": "2023-10-02T22:35:15.621714Z",
     "iopub.status.busy": "2023-10-02T22:35:15.621402Z",
     "iopub.status.idle": "2023-10-02T22:35:15.627570Z",
     "shell.execute_reply": "2023-10-02T22:35:15.626615Z"
    }
   },
   "outputs": [],
   "source": [
    "# drop the first item in the list\n",
    "mountains[1:]"
   ]
  },
  {
   "cell_type": "markdown",
   "id": "76c3775d",
   "metadata": {
    "slideshow": {
     "slide_type": "subslide"
    }
   },
   "source": [
    "Slice from the middle by providing a start and end index `[m:n]`:"
   ]
  },
  {
   "cell_type": "code",
   "execution_count": null,
   "id": "415fa705",
   "metadata": {
    "execution": {
     "iopub.execute_input": "2023-10-02T22:35:15.631885Z",
     "iopub.status.busy": "2023-10-02T22:35:15.631125Z",
     "iopub.status.idle": "2023-10-02T22:35:15.637554Z",
     "shell.execute_reply": "2023-10-02T22:35:15.636843Z"
    }
   },
   "outputs": [],
   "source": [
    "mountains = [\"everest\", \"whitney\", \"washington\", \"denali\", \"rainier\"]\n",
    "# take indices 1, 2\n",
    "mountains[1:3]"
   ]
  },
  {
   "cell_type": "markdown",
   "id": "fb8abeba",
   "metadata": {},
   "source": [
    "You can even use negative indices when slicing:"
   ]
  },
  {
   "cell_type": "code",
   "execution_count": null,
   "id": "5aa7024d",
   "metadata": {
    "execution": {
     "iopub.execute_input": "2023-10-02T22:35:15.641468Z",
     "iopub.status.busy": "2023-10-02T22:35:15.640970Z",
     "iopub.status.idle": "2023-10-02T22:35:15.646180Z",
     "shell.execute_reply": "2023-10-02T22:35:15.645503Z"
    }
   },
   "outputs": [],
   "source": [
    "# take everything up to the last 2 items\n",
    "mountains[:-2]"
   ]
  },
  {
   "cell_type": "code",
   "execution_count": null,
   "id": "d33feba6",
   "metadata": {
    "execution": {
     "iopub.execute_input": "2023-10-02T22:35:15.650576Z",
     "iopub.status.busy": "2023-10-02T22:35:15.650265Z",
     "iopub.status.idle": "2023-10-02T22:35:15.654647Z",
     "shell.execute_reply": "2023-10-02T22:35:15.654003Z"
    }
   },
   "outputs": [],
   "source": [
    "# drop the first and last items\n",
    "mountains[1:-1]"
   ]
  },
  {
   "cell_type": "markdown",
   "id": "53d0022e",
   "metadata": {
    "slideshow": {
     "slide_type": "slide"
    }
   },
   "source": [
    "# Length\n",
    "\n",
    "The `len()` function gives you the length of a list:"
   ]
  },
  {
   "cell_type": "code",
   "execution_count": null,
   "id": "d1463495",
   "metadata": {
    "execution": {
     "iopub.execute_input": "2023-10-02T22:35:15.658736Z",
     "iopub.status.busy": "2023-10-02T22:35:15.658430Z",
     "iopub.status.idle": "2023-10-02T22:35:15.663033Z",
     "shell.execute_reply": "2023-10-02T22:35:15.662363Z"
    }
   },
   "outputs": [],
   "source": [
    "mountains = [\"everest\", \"whitney\", \"washington\", \"denali\", \"rainier\"]\n",
    "len(mountains)"
   ]
  },
  {
   "cell_type": "markdown",
   "id": "6c9ffbd4",
   "metadata": {
    "slideshow": {
     "slide_type": "slide"
    }
   },
   "source": [
    "# Modifying lists\n",
    "\n",
    "You can add, remove, and change elements.\n",
    "\n",
    "Assigning to an element changes it in place:"
   ]
  },
  {
   "cell_type": "code",
   "execution_count": null,
   "id": "4005901b",
   "metadata": {
    "execution": {
     "iopub.execute_input": "2023-10-02T22:35:15.666588Z",
     "iopub.status.busy": "2023-10-02T22:35:15.666287Z",
     "iopub.status.idle": "2023-10-02T22:35:15.669899Z",
     "shell.execute_reply": "2023-10-02T22:35:15.669257Z"
    }
   },
   "outputs": [],
   "source": [
    "mountains = [\"rushmore\", \"whitney\", \"washington\", \"denali\", \"rainier\"]\n",
    "mountains[0] = \"everest\"\n",
    "print(mountains)"
   ]
  },
  {
   "cell_type": "markdown",
   "id": "2d45454e",
   "metadata": {
    "slideshow": {
     "slide_type": "subslide"
    }
   },
   "source": [
    "The `append()` method adds an element to the end:"
   ]
  },
  {
   "cell_type": "code",
   "execution_count": null,
   "id": "663cabfd",
   "metadata": {
    "execution": {
     "iopub.execute_input": "2023-10-02T22:35:15.673285Z",
     "iopub.status.busy": "2023-10-02T22:35:15.673000Z",
     "iopub.status.idle": "2023-10-02T22:35:15.676639Z",
     "shell.execute_reply": "2023-10-02T22:35:15.676061Z"
    }
   },
   "outputs": [],
   "source": [
    "mountains = [\"everest\", \"whitney\", \"washington\", \"denali\", \"rainier\"]\n",
    "mountains.append(\"kilimanjaro\")\n",
    "print(mountains)"
   ]
  },
  {
   "cell_type": "markdown",
   "id": "d8f20e3d",
   "metadata": {
    "slideshow": {
     "slide_type": "subslide"
    }
   },
   "source": [
    "The `insert()` method will insert at a given index:"
   ]
  },
  {
   "cell_type": "code",
   "execution_count": null,
   "id": "07f6cdbd",
   "metadata": {
    "execution": {
     "iopub.execute_input": "2023-10-02T22:35:15.679763Z",
     "iopub.status.busy": "2023-10-02T22:35:15.679479Z",
     "iopub.status.idle": "2023-10-02T22:35:15.683538Z",
     "shell.execute_reply": "2023-10-02T22:35:15.682824Z"
    }
   },
   "outputs": [],
   "source": [
    "mountains = [\"everest\", \"whitney\", \"washington\", \"denali\", \"rainier\"]\n",
    "mountains.insert(1, \"kilimanjaro\")\n",
    "print(mountains)"
   ]
  },
  {
   "cell_type": "markdown",
   "id": "7fef35c1",
   "metadata": {
    "slideshow": {
     "slide_type": "subslide"
    }
   },
   "source": [
    "A few ways to delete items:\n",
    "\n",
    "The `del` keyword:"
   ]
  },
  {
   "cell_type": "code",
   "execution_count": null,
   "id": "5829b112",
   "metadata": {
    "execution": {
     "iopub.execute_input": "2023-10-02T22:35:15.687034Z",
     "iopub.status.busy": "2023-10-02T22:35:15.686768Z",
     "iopub.status.idle": "2023-10-02T22:35:15.690466Z",
     "shell.execute_reply": "2023-10-02T22:35:15.689766Z"
    }
   },
   "outputs": [],
   "source": [
    "mountains = [\"everest\", \"whitney\", \"washington\", \"denali\", \"rainier\"]\n",
    "del mountains[3]\n",
    "print(mountains)"
   ]
  },
  {
   "cell_type": "markdown",
   "id": "f2eb6228",
   "metadata": {},
   "source": [
    "The `pop()` method, which takes the index to remove, and returns the element that was removed:"
   ]
  },
  {
   "cell_type": "code",
   "execution_count": null,
   "id": "be7d2a02",
   "metadata": {
    "execution": {
     "iopub.execute_input": "2023-10-02T22:35:15.693516Z",
     "iopub.status.busy": "2023-10-02T22:35:15.693268Z",
     "iopub.status.idle": "2023-10-02T22:35:15.697049Z",
     "shell.execute_reply": "2023-10-02T22:35:15.696435Z"
    }
   },
   "outputs": [],
   "source": [
    "mountains = [\"everest\", \"whitney\", \"washington\", \"denali\", \"rainier\"]\n",
    "popped = mountains.pop(2)\n",
    "print(\"Removed \" + popped)\n",
    "print(\"List after the pop: \" + str(mountains))"
   ]
  },
  {
   "cell_type": "markdown",
   "id": "80288aa7",
   "metadata": {
    "slideshow": {
     "slide_type": "subslide"
    }
   },
   "source": [
    "Remove everything with the `clear()` method"
   ]
  },
  {
   "cell_type": "code",
   "execution_count": null,
   "id": "b61d81af",
   "metadata": {
    "execution": {
     "iopub.execute_input": "2023-10-02T22:35:15.700274Z",
     "iopub.status.busy": "2023-10-02T22:35:15.699962Z",
     "iopub.status.idle": "2023-10-02T22:35:15.703521Z",
     "shell.execute_reply": "2023-10-02T22:35:15.702872Z"
    }
   },
   "outputs": [],
   "source": [
    "mountains = [\"everest\", \"whitney\", \"washington\", \"denali\", \"rainier\"]\n",
    "mountains.clear()\n",
    "print(mountains)"
   ]
  },
  {
   "cell_type": "markdown",
   "id": "723a14c5",
   "metadata": {
    "slideshow": {
     "slide_type": "subslide"
    }
   },
   "source": [
    "Concatenate 2 lists with `+`:"
   ]
  },
  {
   "cell_type": "code",
   "execution_count": null,
   "id": "b7c474a9",
   "metadata": {
    "execution": {
     "iopub.execute_input": "2023-10-02T22:35:15.706507Z",
     "iopub.status.busy": "2023-10-02T22:35:15.706250Z",
     "iopub.status.idle": "2023-10-02T22:35:15.709730Z",
     "shell.execute_reply": "2023-10-02T22:35:15.709084Z"
    }
   },
   "outputs": [],
   "source": [
    "a = [1,2,3]\n",
    "b = [4,5,6]\n",
    "print(a + b)"
   ]
  },
  {
   "cell_type": "markdown",
   "id": "a17513e8",
   "metadata": {
    "slideshow": {
     "slide_type": "slide"
    }
   },
   "source": [
    "# Aside: method vs function\n",
    "\n",
    "We just reviewed a few `list` **methods**. Methods are functions that are **called on** a value.\n",
    "\n",
    "Methods are called on a value using a `.`: `some_variable.some_method()`\n",
    "\n",
    "For example: to remove the last item from a list named `spam`, call the `pop` method on it: `spam.pop()`.\n",
    "\n",
    "Lists have many useful methods (we covered most, but not all, of them): [list method documentation](https://docs.python.org/3/tutorial/datastructures.html)\n",
    "\n",
    "We'll revisit methods later in the term, all you need to know for now is the syntax for calling them."
   ]
  },
  {
   "cell_type": "markdown",
   "id": "a1b3471e",
   "metadata": {
    "slideshow": {
     "slide_type": "slide"
    }
   },
   "source": [
    "# Exercise\n",
    "\n",
    "Build a **cat**alog (hah): a program that prompts the user for the names of their cats, and prints them all out.\n",
    "\n"
   ]
  },
  {
   "cell_type": "markdown",
   "id": "072c925a",
   "metadata": {
    "slideshow": {
     "slide_type": "subslide"
    }
   },
   "source": [
    "Before lists, the best we could do is something like this, where we have a maximum number of cats, and store each one in its own variable:"
   ]
  },
  {
   "cell_type": "code",
   "execution_count": null,
   "id": "99386b33",
   "metadata": {
    "execution": {
     "iopub.execute_input": "2023-10-02T22:35:15.712984Z",
     "iopub.status.busy": "2023-10-02T22:35:15.712732Z",
     "iopub.status.idle": "2023-10-02T22:35:15.796227Z",
     "shell.execute_reply": "2023-10-02T22:35:15.795267Z"
    },
    "tags": [
     "remove-output"
    ]
   },
   "outputs": [],
   "source": [
    "print('Enter the name of cat 1:')\n",
    "catName1 = input()\n",
    "print('Enter the name of cat 2:')\n",
    "catName2 = input()\n",
    "print('Enter the name of cat 3:')\n",
    "catName3 = input()\n",
    "print('Enter the name of cat 4:')\n",
    "catName4 = input()\n",
    "print('Enter the name of cat 5:')\n",
    "catName5 = input()\n",
    "print('Enter the name of cat 6:')\n",
    "catName6 = input()\n",
    "print('The cat names are:')\n",
    "print(catName1 + ' ' + catName2 + ' ' + catName3 + ' ' + catName4 + ' ' +\n",
    "catName5 + ' ' + catName6)"
   ]
  },
  {
   "cell_type": "markdown",
   "id": "9e2a17f4",
   "metadata": {
    "slideshow": {
     "slide_type": "subslide"
    }
   },
   "source": [
    "Lists improve this significantly, and free us up from a fixed number of cats.\n",
    "\n",
    "We will keep a list of cat names, and add to it each time the user enters one. At the end, we will print out the list."
   ]
  },
  {
   "cell_type": "code",
   "execution_count": null,
   "id": "9cd530fe",
   "metadata": {
    "execution": {
     "iopub.execute_input": "2023-10-02T22:35:15.800165Z",
     "iopub.status.busy": "2023-10-02T22:35:15.799871Z",
     "iopub.status.idle": "2023-10-02T22:35:15.822743Z",
     "shell.execute_reply": "2023-10-02T22:35:15.821771Z"
    },
    "slideshow": {
     "slide_type": "-"
    },
    "tags": [
     "remove-output"
    ]
   },
   "outputs": [],
   "source": [
    "catNames = []\n",
    "while True:\n",
    "    print('Enter the name of cat ' + str(len(catNames) + 1) +\n",
    "      ' (Or enter nothing to stop.):')\n",
    "    name = input()\n",
    "    if name == '':\n",
    "        break\n",
    "    catNames.append(name)\n",
    "\n",
    "print('The cat names are: ' + str(catNames))"
   ]
  },
  {
   "cell_type": "markdown",
   "id": "97b59903",
   "metadata": {},
   "source": [
    "# [Slido](https://wall.sli.do/event/haumnzb5ejo9bmfNfapb4Z?section=cdbb3b27-e250-4b07-925f-263464eb3e71)"
   ]
  },
  {
   "cell_type": "markdown",
   "id": "12bdb0c1",
   "metadata": {
    "slideshow": {
     "slide_type": "slide"
    }
   },
   "source": [
    "# Lists and Loops: Friends Forever\n",
    "\n",
    "In the last example, we converted the list to a string to print it out. It worked, but was ugly: `['Batman', 'Bill Murray']`. Let's look at how to use loops and lists together.\n",
    "\n",
    "Write a function that takes a list of integers as a parameter, and prints out the square of each number.\n",
    "\n",
    "One way to do it:"
   ]
  },
  {
   "cell_type": "code",
   "execution_count": null,
   "id": "fbc323f8",
   "metadata": {
    "execution": {
     "iopub.execute_input": "2023-10-02T22:35:15.826409Z",
     "iopub.status.busy": "2023-10-02T22:35:15.826143Z",
     "iopub.status.idle": "2023-10-02T22:35:15.829793Z",
     "shell.execute_reply": "2023-10-02T22:35:15.829180Z"
    }
   },
   "outputs": [],
   "source": [
    "def print_squares(nums):\n",
    "    for i in range(len(nums)):\n",
    "        print(nums[i] ** 2)"
   ]
  },
  {
   "cell_type": "code",
   "execution_count": null,
   "id": "e9d4491c",
   "metadata": {
    "execution": {
     "iopub.execute_input": "2023-10-02T22:35:15.833006Z",
     "iopub.status.busy": "2023-10-02T22:35:15.832750Z",
     "iopub.status.idle": "2023-10-02T22:35:15.836462Z",
     "shell.execute_reply": "2023-10-02T22:35:15.835850Z"
    }
   },
   "outputs": [],
   "source": [
    "print_squares([3,5,11])"
   ]
  },
  {
   "cell_type": "code",
   "execution_count": null,
   "id": "2bd7e928",
   "metadata": {
    "execution": {
     "iopub.execute_input": "2023-10-02T22:35:15.839399Z",
     "iopub.status.busy": "2023-10-02T22:35:15.839152Z",
     "iopub.status.idle": "2023-10-02T22:35:15.842925Z",
     "shell.execute_reply": "2023-10-02T22:35:15.842197Z"
    },
    "slideshow": {
     "slide_type": "subslide"
    }
   },
   "outputs": [],
   "source": [
    "def print_squares(nums):\n",
    "    for i in range(len(nums)):\n",
    "        print(nums[i] ** 2)"
   ]
  },
  {
   "cell_type": "markdown",
   "id": "dfa7d856",
   "metadata": {
    "slideshow": {
     "slide_type": "-"
    }
   },
   "source": [
    "Breaking that down, if the input is `[3, 5, 11]`:  \n",
    "\n",
    "`for i in range(len(nums))` ->  \n",
    "`for i in range(3)`"
   ]
  },
  {
   "cell_type": "markdown",
   "id": "e3795f08",
   "metadata": {
    "slideshow": {
     "slide_type": "subslide"
    }
   },
   "source": [
    "That works, but there are other ways to iterate over a list.\n",
    "\n",
    "`for <var> in <list>:` will execute the code block once for each item in the list, with `<var>` equal to the next list item for each iteration.\n",
    "\n",
    "More on list iteration in the next lecture - for today, just knowing this form of the `for` loop is enough."
   ]
  },
  {
   "cell_type": "code",
   "execution_count": null,
   "id": "729b1ef2",
   "metadata": {
    "execution": {
     "iopub.execute_input": "2023-10-02T22:35:15.846232Z",
     "iopub.status.busy": "2023-10-02T22:35:15.845786Z",
     "iopub.status.idle": "2023-10-02T22:35:15.849166Z",
     "shell.execute_reply": "2023-10-02T22:35:15.848505Z"
    }
   },
   "outputs": [],
   "source": [
    "def print_squares(nums):\n",
    "    for num in nums:\n",
    "        print(num ** 2)"
   ]
  },
  {
   "cell_type": "code",
   "execution_count": null,
   "id": "be9b2581",
   "metadata": {
    "execution": {
     "iopub.execute_input": "2023-10-02T22:35:15.852288Z",
     "iopub.status.busy": "2023-10-02T22:35:15.852013Z",
     "iopub.status.idle": "2023-10-02T22:35:15.855655Z",
     "shell.execute_reply": "2023-10-02T22:35:15.855115Z"
    }
   },
   "outputs": [],
   "source": [
    "print_squares([3,5,11])"
   ]
  },
  {
   "cell_type": "markdown",
   "id": "506442e9",
   "metadata": {
    "slideshow": {
     "slide_type": "slide"
    }
   },
   "source": [
    "# Exercise\n",
    "\n",
    "1. Define a list holding 4 strings, each describing something you like.\n",
    "1. Write a for loop to print out each string with `\"One of my favorite things: \"` **pre**prended to it\n",
    "\n",
    "## [Repl.it: Lecture 6 - Lists playground](https://replit.com/team/cosi-10a-fall23/Lists-Playground)\n"
   ]
  },
  {
   "cell_type": "code",
   "execution_count": null,
   "id": "a4c57939",
   "metadata": {
    "execution": {
     "iopub.execute_input": "2023-10-02T22:35:15.858791Z",
     "iopub.status.busy": "2023-10-02T22:35:15.858520Z",
     "iopub.status.idle": "2023-10-02T22:35:15.862379Z",
     "shell.execute_reply": "2023-10-02T22:35:15.861594Z"
    },
    "slideshow": {
     "slide_type": "subslide"
    }
   },
   "outputs": [],
   "source": [
    "nice_things = [\"Fresh baked cookies\", \"Mountains\", \"Sleep\", \"Spicy food\"]\n",
    "for thing in nice_things:\n",
    "    print(\"One of my favorite things: \" + thing)"
   ]
  },
  {
   "cell_type": "markdown",
   "id": "f359b96c",
   "metadata": {
    "slideshow": {
     "slide_type": "slide"
    }
   },
   "source": [
    "# Exercise\n",
    "\n",
    "Write a function to find the average of a list of numbers, then print out all the numbers below the average."
   ]
  },
  {
   "cell_type": "markdown",
   "id": "62b418fd",
   "metadata": {
    "slideshow": {
     "slide_type": "fragment"
    }
   },
   "source": [
    "Let's use our usual strategy: decompose the problem. Two main parts:\n",
    "\n",
    "1. Find the average of a list of numbers\n",
    "2. Print all the numbers lower than that average"
   ]
  },
  {
   "cell_type": "markdown",
   "id": "2471a378",
   "metadata": {
    "slideshow": {
     "slide_type": "subslide"
    }
   },
   "source": [
    "Step 1, find the average:"
   ]
  },
  {
   "cell_type": "code",
   "execution_count": null,
   "id": "600f4374",
   "metadata": {
    "execution": {
     "iopub.execute_input": "2023-10-02T22:35:15.865446Z",
     "iopub.status.busy": "2023-10-02T22:35:15.865160Z",
     "iopub.status.idle": "2023-10-02T22:35:15.869977Z",
     "shell.execute_reply": "2023-10-02T22:35:15.869225Z"
    }
   },
   "outputs": [],
   "source": [
    "def find_average(nums):\n",
    "    sum = 0\n",
    "    for num in nums:\n",
    "        sum = sum + num\n",
    "    avg = sum / len(nums)\n",
    "    return avg"
   ]
  },
  {
   "cell_type": "code",
   "execution_count": null,
   "id": "6025bf87",
   "metadata": {
    "execution": {
     "iopub.execute_input": "2023-10-02T22:35:15.873197Z",
     "iopub.status.busy": "2023-10-02T22:35:15.872917Z",
     "iopub.status.idle": "2023-10-02T22:35:15.879102Z",
     "shell.execute_reply": "2023-10-02T22:35:15.878431Z"
    }
   },
   "outputs": [],
   "source": [
    "find_average([1,2,3,4,100000])"
   ]
  },
  {
   "cell_type": "markdown",
   "id": "013dc98c",
   "metadata": {
    "slideshow": {
     "slide_type": "subslide"
    }
   },
   "source": [
    "Step 2: print each item below the average:"
   ]
  },
  {
   "cell_type": "code",
   "execution_count": null,
   "id": "66a7e988",
   "metadata": {
    "execution": {
     "iopub.execute_input": "2023-10-02T22:35:15.882984Z",
     "iopub.status.busy": "2023-10-02T22:35:15.882475Z",
     "iopub.status.idle": "2023-10-02T22:35:15.886920Z",
     "shell.execute_reply": "2023-10-02T22:35:15.886273Z"
    },
    "slideshow": {
     "slide_type": "-"
    }
   },
   "outputs": [],
   "source": [
    "def below_average(nums):\n",
    "    avg = find_average(nums)\n",
    "    \n",
    "    print(\"The average is: \" + str(avg) + \". Here are all the below average numbers: \")\n",
    "    for num in nums:\n",
    "        if num < avg:\n",
    "            print(num, end=' ')"
   ]
  },
  {
   "cell_type": "code",
   "execution_count": null,
   "id": "929782bb",
   "metadata": {
    "execution": {
     "iopub.execute_input": "2023-10-02T22:35:15.890018Z",
     "iopub.status.busy": "2023-10-02T22:35:15.889648Z",
     "iopub.status.idle": "2023-10-02T22:35:15.893755Z",
     "shell.execute_reply": "2023-10-02T22:35:15.893120Z"
    },
    "slideshow": {
     "slide_type": "-"
    }
   },
   "outputs": [],
   "source": [
    "below_average([1,2,3,4,100000])"
   ]
  },
  {
   "cell_type": "markdown",
   "id": "5a17eb68",
   "metadata": {
    "slideshow": {
     "slide_type": "slide"
    }
   },
   "source": [
    "# Exercise\n",
    "\n",
    "Write a function to find the largest number in a list. \n",
    "\n",
    "Similar to \"cumulative algorithms\", we'll define a variable to hold the largest number we've seen so far."
   ]
  },
  {
   "cell_type": "code",
   "execution_count": null,
   "id": "480f52e6",
   "metadata": {
    "execution": {
     "iopub.execute_input": "2023-10-02T22:35:15.897153Z",
     "iopub.status.busy": "2023-10-02T22:35:15.896746Z",
     "iopub.status.idle": "2023-10-02T22:35:15.901042Z",
     "shell.execute_reply": "2023-10-02T22:35:15.900346Z"
    }
   },
   "outputs": [],
   "source": [
    "def find_largest(nums):\n",
    "    biggest = 0\n",
    "    for num in nums:\n",
    "        if num > biggest:\n",
    "            biggest = num\n",
    "    return biggest"
   ]
  },
  {
   "cell_type": "code",
   "execution_count": null,
   "id": "e9edd6ad",
   "metadata": {
    "execution": {
     "iopub.execute_input": "2023-10-02T22:35:15.903941Z",
     "iopub.status.busy": "2023-10-02T22:35:15.903673Z",
     "iopub.status.idle": "2023-10-02T22:35:15.908748Z",
     "shell.execute_reply": "2023-10-02T22:35:15.908008Z"
    }
   },
   "outputs": [],
   "source": [
    "find_largest([18, 27, 1, 3, 10, 1000])"
   ]
  },
  {
   "cell_type": "markdown",
   "id": "d7e5a6dd",
   "metadata": {
    "slideshow": {
     "slide_type": "subslide"
    }
   },
   "source": [
    "Looks like it worked... but can you spot the bug?"
   ]
  },
  {
   "cell_type": "code",
   "execution_count": null,
   "id": "80d2e689",
   "metadata": {
    "execution": {
     "iopub.execute_input": "2023-10-02T22:35:15.912346Z",
     "iopub.status.busy": "2023-10-02T22:35:15.912053Z",
     "iopub.status.idle": "2023-10-02T22:35:15.916458Z",
     "shell.execute_reply": "2023-10-02T22:35:15.915446Z"
    }
   },
   "outputs": [],
   "source": [
    "def find_largest(nums):\n",
    "    biggest = 0\n",
    "    for num in nums:\n",
    "        if num > biggest:\n",
    "            biggest = num\n",
    "    return biggest"
   ]
  },
  {
   "cell_type": "code",
   "execution_count": null,
   "id": "a50ed117",
   "metadata": {
    "execution": {
     "iopub.execute_input": "2023-10-02T22:35:15.919658Z",
     "iopub.status.busy": "2023-10-02T22:35:15.919387Z",
     "iopub.status.idle": "2023-10-02T22:35:15.924456Z",
     "shell.execute_reply": "2023-10-02T22:35:15.923637Z"
    },
    "slideshow": {
     "slide_type": "fragment"
    }
   },
   "outputs": [],
   "source": [
    "find_largest([-1, -2, -3])"
   ]
  },
  {
   "cell_type": "markdown",
   "id": "57de5587",
   "metadata": {
    "slideshow": {
     "slide_type": "subslide"
    }
   },
   "source": [
    "`0` is a bad choice for our initial maximum value. \n",
    "\n",
    "We could use a very negative number. But, in Python, integers are unbounded, so it will never be negative enough to cover all cases.\n",
    "\n",
    "Let's try something else..."
   ]
  },
  {
   "cell_type": "code",
   "execution_count": null,
   "id": "2bc5c62b",
   "metadata": {
    "execution": {
     "iopub.execute_input": "2023-10-02T22:35:15.928021Z",
     "iopub.status.busy": "2023-10-02T22:35:15.927736Z",
     "iopub.status.idle": "2023-10-02T22:35:15.932094Z",
     "shell.execute_reply": "2023-10-02T22:35:15.931172Z"
    }
   },
   "outputs": [],
   "source": [
    "def find_largest(nums):\n",
    "    biggest = nums[0]\n",
    "    for num in nums[1:]:\n",
    "        if num > biggest:\n",
    "            biggest = num\n",
    "    return biggest"
   ]
  },
  {
   "cell_type": "code",
   "execution_count": null,
   "id": "84c494b1",
   "metadata": {
    "execution": {
     "iopub.execute_input": "2023-10-02T22:35:15.935441Z",
     "iopub.status.busy": "2023-10-02T22:35:15.935162Z",
     "iopub.status.idle": "2023-10-02T22:35:15.940430Z",
     "shell.execute_reply": "2023-10-02T22:35:15.939698Z"
    }
   },
   "outputs": [],
   "source": [
    "find_largest([-1,-2,-3])"
   ]
  },
  {
   "cell_type": "code",
   "execution_count": null,
   "id": "843446c1",
   "metadata": {
    "execution": {
     "iopub.execute_input": "2023-10-02T22:35:15.943567Z",
     "iopub.status.busy": "2023-10-02T22:35:15.943277Z",
     "iopub.status.idle": "2023-10-02T22:35:15.967349Z",
     "shell.execute_reply": "2023-10-02T22:35:15.966697Z"
    },
    "slideshow": {
     "slide_type": "fragment"
    }
   },
   "outputs": [],
   "source": [
    "find_largest([])"
   ]
  },
  {
   "cell_type": "markdown",
   "id": "b33aebb3",
   "metadata": {
    "slideshow": {
     "slide_type": "subslide"
    }
   },
   "source": [
    "Whoops, this doesn't work on empty lists!"
   ]
  },
  {
   "cell_type": "code",
   "execution_count": null,
   "id": "1f6c9cb4",
   "metadata": {
    "execution": {
     "iopub.execute_input": "2023-10-02T22:35:15.971332Z",
     "iopub.status.busy": "2023-10-02T22:35:15.970998Z",
     "iopub.status.idle": "2023-10-02T22:35:15.975169Z",
     "shell.execute_reply": "2023-10-02T22:35:15.974167Z"
    },
    "slideshow": {
     "slide_type": "fragment"
    }
   },
   "outputs": [],
   "source": [
    "def find_largest(nums):\n",
    "    if len(nums) == 0:\n",
    "        return None\n",
    "    \n",
    "    biggest = nums[0]\n",
    "    for num in nums[1:]:\n",
    "        if num > biggest:\n",
    "            biggest = num\n",
    "    return biggest"
   ]
  },
  {
   "cell_type": "code",
   "execution_count": null,
   "id": "9453bc9d",
   "metadata": {
    "execution": {
     "iopub.execute_input": "2023-10-02T22:35:15.979178Z",
     "iopub.status.busy": "2023-10-02T22:35:15.978857Z",
     "iopub.status.idle": "2023-10-02T22:35:15.984155Z",
     "shell.execute_reply": "2023-10-02T22:35:15.983156Z"
    }
   },
   "outputs": [],
   "source": [
    "find_largest([-1,-2,-3])"
   ]
  },
  {
   "cell_type": "code",
   "execution_count": null,
   "id": "38922609",
   "metadata": {
    "execution": {
     "iopub.execute_input": "2023-10-02T22:35:15.987894Z",
     "iopub.status.busy": "2023-10-02T22:35:15.987591Z",
     "iopub.status.idle": "2023-10-02T22:35:15.992013Z",
     "shell.execute_reply": "2023-10-02T22:35:15.991376Z"
    }
   },
   "outputs": [],
   "source": [
    "find_largest([-2])"
   ]
  },
  {
   "cell_type": "markdown",
   "id": "d7a3b7c4",
   "metadata": {
    "slideshow": {
     "slide_type": "subslide"
    }
   },
   "source": [
    "This is perfectly good! Here's one more option though:"
   ]
  },
  {
   "cell_type": "code",
   "execution_count": null,
   "id": "2e8bad8b",
   "metadata": {
    "execution": {
     "iopub.execute_input": "2023-10-02T22:35:15.996670Z",
     "iopub.status.busy": "2023-10-02T22:35:15.996362Z",
     "iopub.status.idle": "2023-10-02T22:35:16.001688Z",
     "shell.execute_reply": "2023-10-02T22:35:16.000612Z"
    }
   },
   "outputs": [],
   "source": [
    "def find_largest(nums):\n",
    "    biggest = None\n",
    "    for num in nums:\n",
    "        if biggest is None or num > biggest:\n",
    "            biggest = num\n",
    "    return biggest"
   ]
  },
  {
   "cell_type": "code",
   "execution_count": null,
   "id": "d1521fcd",
   "metadata": {
    "execution": {
     "iopub.execute_input": "2023-10-02T22:35:16.005821Z",
     "iopub.status.busy": "2023-10-02T22:35:16.005521Z",
     "iopub.status.idle": "2023-10-02T22:35:16.011353Z",
     "shell.execute_reply": "2023-10-02T22:35:16.009959Z"
    }
   },
   "outputs": [],
   "source": [
    "find_largest([-1,-2,-3])"
   ]
  },
  {
   "cell_type": "code",
   "execution_count": null,
   "id": "89810ac7",
   "metadata": {
    "execution": {
     "iopub.execute_input": "2023-10-02T22:35:16.015676Z",
     "iopub.status.busy": "2023-10-02T22:35:16.015165Z",
     "iopub.status.idle": "2023-10-02T22:35:16.021528Z",
     "shell.execute_reply": "2023-10-02T22:35:16.020215Z"
    },
    "slideshow": {
     "slide_type": "-"
    }
   },
   "outputs": [],
   "source": [
    "print(find_largest([]))"
   ]
  },
  {
   "cell_type": "markdown",
   "id": "60927821",
   "metadata": {},
   "source": [
    "## Oh wait, Python does this for us\n",
    "\n",
    "There is a `max` function (also `min`) that will give us the largest/smallest item in a list: [max() documentation](https://docs.python.org/3/library/functions.html#max)\n",
    "\n",
    "This was still a useful exercise to go through, because the issues we encountered and fixed are all common coding challenges.\n",
    "\n",
    "But when you're writing code in the wild, check for a built-in function or library that you can use before building it all yourself!"
   ]
  },
  {
   "cell_type": "code",
   "execution_count": null,
   "id": "26982949",
   "metadata": {
    "execution": {
     "iopub.execute_input": "2023-10-02T22:35:16.025793Z",
     "iopub.status.busy": "2023-10-02T22:35:16.025020Z",
     "iopub.status.idle": "2023-10-02T22:35:16.031247Z",
     "shell.execute_reply": "2023-10-02T22:35:16.030318Z"
    }
   },
   "outputs": [],
   "source": [
    "max([-1, -2, -3])"
   ]
  },
  {
   "cell_type": "markdown",
   "id": "56ab8038",
   "metadata": {},
   "source": [
    "# [Slido](https://wall.sli.do/event/haumnzb5ejo9bmfNfapb4Z?section=cdbb3b27-e250-4b07-925f-263464eb3e71)"
   ]
  }
 ],
 "metadata": {
  "celltoolbar": "Slideshow",
  "kernelspec": {
   "display_name": "Python 3 (ipykernel)",
   "language": "python",
   "name": "python3"
  },
  "language_info": {
   "codemirror_mode": {
    "name": "ipython",
    "version": 3
   },
   "file_extension": ".py",
   "mimetype": "text/x-python",
   "name": "python",
   "nbconvert_exporter": "python",
   "pygments_lexer": "ipython3",
   "version": "3.10.9"
  }
 },
 "nbformat": 4,
 "nbformat_minor": 5
}
