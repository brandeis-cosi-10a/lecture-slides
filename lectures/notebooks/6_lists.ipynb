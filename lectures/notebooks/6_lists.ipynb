{
 "cells": [
  {
   "cell_type": "markdown",
   "id": "1ee8a1d2",
   "metadata": {
    "slideshow": {
     "slide_type": "slide"
    }
   },
   "source": [
    "# Lists\n",
    "\n",
    "<style>\n",
    "section.present > section.present { \n",
    "    max-height: 90%; \n",
    "    overflow-y: scroll;\n",
    "}\n",
    "</style>\n",
    "\n",
    "<small><a href=\"https://colab.research.google.com/github/brandeis-jdelfino/cosi-10a/blob/main/lectures/notebooks/6_lists.ipynb\">Link to interactive slides on Google Colab</a></small>"
   ]
  },
  {
   "cell_type": "markdown",
   "id": "661e7908",
   "metadata": {
    "slideshow": {
     "slide_type": "slide"
    }
   },
   "source": [
    "# Announcements\n",
    "\n",
    "* PS2 is due Friday, 11:59pm. \n",
    "* Quiz 4 tomorrow, on Loops, Exceptions, and Lists\n",
    "* No final exam"
   ]
  },
  {
   "cell_type": "markdown",
   "id": "e04d6879",
   "metadata": {
    "slideshow": {
     "slide_type": "slide"
    }
   },
   "source": [
    "# Lists\n",
    "\n",
    "So far, we've been dealing with single values - integers, floats, strings.\n",
    "\n",
    "Today, we'll learn about new data type: lists!"
   ]
  },
  {
   "cell_type": "markdown",
   "id": "a239b34a",
   "metadata": {
    "slideshow": {
     "slide_type": "slide"
    }
   },
   "source": [
    "# Creating lists"
   ]
  },
  {
   "cell_type": "code",
   "execution_count": null,
   "id": "5f9bb1a4",
   "metadata": {
    "execution": {
     "iopub.execute_input": "2023-10-04T02:30:25.949480Z",
     "iopub.status.busy": "2023-10-04T02:30:25.949024Z",
     "iopub.status.idle": "2023-10-04T02:30:25.967588Z",
     "shell.execute_reply": "2023-10-04T02:30:25.964935Z"
    }
   },
   "outputs": [],
   "source": [
    "x = [2, 5, 7, 9]\n",
    "print(x)"
   ]
  },
  {
   "cell_type": "markdown",
   "id": "2d367a27",
   "metadata": {},
   "source": [
    "`x` holds a list with 4 items: the integers 2, 5, 7, and 9."
   ]
  },
  {
   "cell_type": "code",
   "execution_count": null,
   "id": "af9ce082",
   "metadata": {
    "execution": {
     "iopub.execute_input": "2023-10-04T02:30:25.976570Z",
     "iopub.status.busy": "2023-10-04T02:30:25.975952Z",
     "iopub.status.idle": "2023-10-04T02:30:25.980260Z",
     "shell.execute_reply": "2023-10-04T02:30:25.979368Z"
    }
   },
   "outputs": [],
   "source": [
    "y = []\n",
    "print(y)"
   ]
  },
  {
   "cell_type": "markdown",
   "id": "b692c650",
   "metadata": {},
   "source": [
    "`y` is an empty list"
   ]
  },
  {
   "cell_type": "code",
   "execution_count": null,
   "id": "f1a5c95c",
   "metadata": {
    "execution": {
     "iopub.execute_input": "2023-10-04T02:30:25.987137Z",
     "iopub.status.busy": "2023-10-04T02:30:25.986516Z",
     "iopub.status.idle": "2023-10-04T02:30:25.991252Z",
     "shell.execute_reply": "2023-10-04T02:30:25.990484Z"
    },
    "slideshow": {
     "slide_type": "subslide"
    }
   },
   "outputs": [],
   "source": [
    "z = [\"lists\", \"can hold\", \"any data type\"]\n",
    "print(z)"
   ]
  },
  {
   "cell_type": "markdown",
   "id": "fe4a7be7",
   "metadata": {},
   "source": [
    "`z` is a list holding 3 strings"
   ]
  },
  {
   "cell_type": "code",
   "execution_count": null,
   "id": "7a757884",
   "metadata": {
    "execution": {
     "iopub.execute_input": "2023-10-04T02:30:25.995009Z",
     "iopub.status.busy": "2023-10-04T02:30:25.994692Z",
     "iopub.status.idle": "2023-10-04T02:30:26.000535Z",
     "shell.execute_reply": "2023-10-04T02:30:25.998348Z"
    }
   },
   "outputs": [],
   "source": [
    "q = [1, 2.0, \"lists hold anything\", True]\n",
    "print(q)"
   ]
  },
  {
   "cell_type": "markdown",
   "id": "b9370229",
   "metadata": {},
   "source": [
    "`q` is a list with 4 items: an integer, a float, a string, and a boolean.\n",
    "\n",
    "Lists can hold a mix of different data types."
   ]
  },
  {
   "cell_type": "code",
   "execution_count": null,
   "id": "9e082738",
   "metadata": {
    "execution": {
     "iopub.execute_input": "2023-10-04T02:30:26.005682Z",
     "iopub.status.busy": "2023-10-04T02:30:26.005075Z",
     "iopub.status.idle": "2023-10-04T02:30:26.010111Z",
     "shell.execute_reply": "2023-10-04T02:30:26.009091Z"
    },
    "slideshow": {
     "slide_type": "subslide"
    }
   },
   "outputs": [],
   "source": [
    "r = [[1,2,3], [4,5,6]]\n",
    "print(r)"
   ]
  },
  {
   "cell_type": "markdown",
   "id": "aa6f5052",
   "metadata": {},
   "source": [
    "`r` is a list holding 2 lists, each of which hold 3 integers.\n",
    "\n",
    "If your brain just exploded a little, don't worry - we'll revisit nested lists."
   ]
  },
  {
   "cell_type": "markdown",
   "id": "9a3b8e88",
   "metadata": {
    "slideshow": {
     "slide_type": "slide"
    }
   },
   "source": [
    "# Accessing lists\n",
    "\n",
    "You can access items in a list by **index**.\n",
    "\n",
    "The indices are **0-based**: the first item in the list has index 0."
   ]
  },
  {
   "cell_type": "code",
   "execution_count": null,
   "id": "5fb9c9e1",
   "metadata": {
    "execution": {
     "iopub.execute_input": "2023-10-04T02:30:26.015078Z",
     "iopub.status.busy": "2023-10-04T02:30:26.014683Z",
     "iopub.status.idle": "2023-10-04T02:30:26.025559Z",
     "shell.execute_reply": "2023-10-04T02:30:26.024652Z"
    }
   },
   "outputs": [],
   "source": [
    "foods = [\"apple\", \"banana\", \"chocolate\"]\n",
    "foods[0]"
   ]
  },
  {
   "cell_type": "code",
   "execution_count": null,
   "id": "5098c573",
   "metadata": {
    "execution": {
     "iopub.execute_input": "2023-10-04T02:30:26.029637Z",
     "iopub.status.busy": "2023-10-04T02:30:26.029291Z",
     "iopub.status.idle": "2023-10-04T02:30:26.039493Z",
     "shell.execute_reply": "2023-10-04T02:30:26.036615Z"
    }
   },
   "outputs": [],
   "source": [
    "foods[2]"
   ]
  },
  {
   "cell_type": "markdown",
   "id": "5e133222",
   "metadata": {
    "slideshow": {
     "slide_type": "subslide"
    }
   },
   "source": [
    "Accessing an element outside the bounds of the array produces an error:"
   ]
  },
  {
   "cell_type": "code",
   "execution_count": null,
   "id": "89cf4a8d",
   "metadata": {
    "execution": {
     "iopub.execute_input": "2023-10-04T02:30:26.043952Z",
     "iopub.status.busy": "2023-10-04T02:30:26.043593Z",
     "iopub.status.idle": "2023-10-04T02:30:26.382603Z",
     "shell.execute_reply": "2023-10-04T02:30:26.381942Z"
    },
    "tags": [
     "raises-exception"
    ]
   },
   "outputs": [],
   "source": [
    "foods = [\"apple\", \"banana\", \"chocolate\"]\n",
    "foods[3]"
   ]
  },
  {
   "cell_type": "markdown",
   "id": "e3cebf48",
   "metadata": {
    "slideshow": {
     "slide_type": "subslide"
    }
   },
   "source": [
    "You can use negative indices to count backwards from the end:"
   ]
  },
  {
   "cell_type": "code",
   "execution_count": null,
   "id": "9fdfe380",
   "metadata": {
    "execution": {
     "iopub.execute_input": "2023-10-04T02:30:26.385931Z",
     "iopub.status.busy": "2023-10-04T02:30:26.385675Z",
     "iopub.status.idle": "2023-10-04T02:30:26.390372Z",
     "shell.execute_reply": "2023-10-04T02:30:26.389791Z"
    }
   },
   "outputs": [],
   "source": [
    "foods = [\"apple\", \"banana\", \"chocolate\"]\n",
    "foods[-2]"
   ]
  },
  {
   "cell_type": "code",
   "execution_count": null,
   "id": "67d639a4",
   "metadata": {
    "execution": {
     "iopub.execute_input": "2023-10-04T02:30:26.393445Z",
     "iopub.status.busy": "2023-10-04T02:30:26.393177Z",
     "iopub.status.idle": "2023-10-04T02:30:26.397339Z",
     "shell.execute_reply": "2023-10-04T02:30:26.396741Z"
    }
   },
   "outputs": [],
   "source": [
    "foods[-3]"
   ]
  },
  {
   "cell_type": "markdown",
   "id": "ea0fa86a",
   "metadata": {
    "slideshow": {
     "slide_type": "slide"
    }
   },
   "source": [
    "# Slicing\n",
    "\n",
    "You can **slice** lists - create a new list from a subset of a list.\n",
    "\n",
    "Slice from the beginning of the list up to an index with `[:n]`:"
   ]
  },
  {
   "cell_type": "code",
   "execution_count": null,
   "id": "0c7e7558",
   "metadata": {
    "execution": {
     "iopub.execute_input": "2023-10-04T02:30:26.400456Z",
     "iopub.status.busy": "2023-10-04T02:30:26.400191Z",
     "iopub.status.idle": "2023-10-04T02:30:26.403403Z",
     "shell.execute_reply": "2023-10-04T02:30:26.402827Z"
    }
   },
   "outputs": [],
   "source": [
    "mountains = [\"everest\", \"whitney\", \"washington\", \"denali\", \"rainier\"]"
   ]
  },
  {
   "cell_type": "code",
   "execution_count": null,
   "id": "fbbd26ca",
   "metadata": {
    "execution": {
     "iopub.execute_input": "2023-10-04T02:30:26.406489Z",
     "iopub.status.busy": "2023-10-04T02:30:26.406065Z",
     "iopub.status.idle": "2023-10-04T02:30:26.410202Z",
     "shell.execute_reply": "2023-10-04T02:30:26.409643Z"
    }
   },
   "outputs": [],
   "source": [
    "# take everything up to (but not including) index 2\n",
    "mountains[:2]"
   ]
  },
  {
   "cell_type": "markdown",
   "id": "edbf204f",
   "metadata": {},
   "source": [
    "Slice from an index to the end of the list with `[n:]`:"
   ]
  },
  {
   "cell_type": "code",
   "execution_count": null,
   "id": "7af6ac76",
   "metadata": {
    "execution": {
     "iopub.execute_input": "2023-10-04T02:30:26.413227Z",
     "iopub.status.busy": "2023-10-04T02:30:26.412960Z",
     "iopub.status.idle": "2023-10-04T02:30:26.416538Z",
     "shell.execute_reply": "2023-10-04T02:30:26.415936Z"
    }
   },
   "outputs": [],
   "source": [
    "# drop the first item in the list\n",
    "new_mountains = mountains[1:]\n",
    "print(mountains)\n",
    "print(new_mountains)"
   ]
  },
  {
   "cell_type": "markdown",
   "id": "76c3775d",
   "metadata": {
    "slideshow": {
     "slide_type": "subslide"
    }
   },
   "source": [
    "Slice from the middle by providing a start and end index `[m:n]`:"
   ]
  },
  {
   "cell_type": "code",
   "execution_count": null,
   "id": "415fa705",
   "metadata": {
    "execution": {
     "iopub.execute_input": "2023-10-04T02:30:26.419462Z",
     "iopub.status.busy": "2023-10-04T02:30:26.419220Z",
     "iopub.status.idle": "2023-10-04T02:30:26.423369Z",
     "shell.execute_reply": "2023-10-04T02:30:26.422833Z"
    }
   },
   "outputs": [],
   "source": [
    "mountains = [\"everest\", \"whitney\", \"washington\", \"denali\", \"rainier\"]\n",
    "# take indices 1, 2\n",
    "mountains[1:3]"
   ]
  },
  {
   "cell_type": "markdown",
   "id": "fb8abeba",
   "metadata": {},
   "source": [
    "You can even use negative indices when slicing:"
   ]
  },
  {
   "cell_type": "code",
   "execution_count": null,
   "id": "5aa7024d",
   "metadata": {
    "execution": {
     "iopub.execute_input": "2023-10-04T02:30:26.426265Z",
     "iopub.status.busy": "2023-10-04T02:30:26.426027Z",
     "iopub.status.idle": "2023-10-04T02:30:26.430126Z",
     "shell.execute_reply": "2023-10-04T02:30:26.429601Z"
    }
   },
   "outputs": [],
   "source": [
    "# take everything up to the last 2 items\n",
    "mountains[:-2]"
   ]
  },
  {
   "cell_type": "code",
   "execution_count": null,
   "id": "d33feba6",
   "metadata": {
    "execution": {
     "iopub.execute_input": "2023-10-04T02:30:26.433008Z",
     "iopub.status.busy": "2023-10-04T02:30:26.432773Z",
     "iopub.status.idle": "2023-10-04T02:30:26.436700Z",
     "shell.execute_reply": "2023-10-04T02:30:26.436177Z"
    }
   },
   "outputs": [],
   "source": [
    "# drop the first and last items\n",
    "mountains[1:-1]"
   ]
  },
  {
   "cell_type": "markdown",
   "id": "53d0022e",
   "metadata": {
    "slideshow": {
     "slide_type": "slide"
    }
   },
   "source": [
    "# Length\n",
    "\n",
    "The `len()` function gives you the length of a list:"
   ]
  },
  {
   "cell_type": "code",
   "execution_count": null,
   "id": "d1463495",
   "metadata": {
    "execution": {
     "iopub.execute_input": "2023-10-04T02:30:26.439570Z",
     "iopub.status.busy": "2023-10-04T02:30:26.439320Z",
     "iopub.status.idle": "2023-10-04T02:30:26.443340Z",
     "shell.execute_reply": "2023-10-04T02:30:26.442815Z"
    }
   },
   "outputs": [],
   "source": [
    "mountains = [\"everest\", \"whitney\", \"washington\", \"denali\", \"rainier\"]\n",
    "len(mountains)"
   ]
  },
  {
   "cell_type": "markdown",
   "id": "6c9ffbd4",
   "metadata": {
    "slideshow": {
     "slide_type": "slide"
    }
   },
   "source": [
    "# Modifying lists\n",
    "\n",
    "You can add, remove, and change elements.\n",
    "\n",
    "Assigning to an element changes it in place:"
   ]
  },
  {
   "cell_type": "code",
   "execution_count": null,
   "id": "4005901b",
   "metadata": {
    "execution": {
     "iopub.execute_input": "2023-10-04T02:30:26.446262Z",
     "iopub.status.busy": "2023-10-04T02:30:26.446023Z",
     "iopub.status.idle": "2023-10-04T02:30:26.449479Z",
     "shell.execute_reply": "2023-10-04T02:30:26.448896Z"
    }
   },
   "outputs": [],
   "source": [
    "mountains = [\"rushmore\", \"whitney\", \"washington\", \"denali\", \"rainier\"]\n",
    "mountains[0] = \"everest\"\n",
    "print(mountains)"
   ]
  },
  {
   "cell_type": "markdown",
   "id": "2d45454e",
   "metadata": {
    "slideshow": {
     "slide_type": "subslide"
    }
   },
   "source": [
    "The `append()` method adds an element to the end:"
   ]
  },
  {
   "cell_type": "code",
   "execution_count": null,
   "id": "663cabfd",
   "metadata": {
    "execution": {
     "iopub.execute_input": "2023-10-04T02:30:26.452426Z",
     "iopub.status.busy": "2023-10-04T02:30:26.452185Z",
     "iopub.status.idle": "2023-10-04T02:30:26.455518Z",
     "shell.execute_reply": "2023-10-04T02:30:26.454976Z"
    }
   },
   "outputs": [],
   "source": [
    "mountains = [\"everest\", \"whitney\", \"washington\", \"denali\", \"rainier\"]\n",
    "mountains.append(\"kilimanjaro\")\n",
    "print(mountains)"
   ]
  },
  {
   "cell_type": "markdown",
   "id": "d8f20e3d",
   "metadata": {
    "slideshow": {
     "slide_type": "subslide"
    }
   },
   "source": [
    "The `insert()` method will insert at a given index:"
   ]
  },
  {
   "cell_type": "code",
   "execution_count": null,
   "id": "07f6cdbd",
   "metadata": {
    "execution": {
     "iopub.execute_input": "2023-10-04T02:30:26.458337Z",
     "iopub.status.busy": "2023-10-04T02:30:26.458104Z",
     "iopub.status.idle": "2023-10-04T02:30:26.461615Z",
     "shell.execute_reply": "2023-10-04T02:30:26.461030Z"
    }
   },
   "outputs": [],
   "source": [
    "mountains = [\"everest\", \"whitney\", \"washington\", \"denali\", \"rainier\"]\n",
    "mountains.insert(1, \"kilimanjaro\")\n",
    "print(mountains)"
   ]
  },
  {
   "cell_type": "markdown",
   "id": "7fef35c1",
   "metadata": {
    "slideshow": {
     "slide_type": "subslide"
    }
   },
   "source": [
    "A few ways to delete items:\n",
    "\n",
    "The `del` keyword:"
   ]
  },
  {
   "cell_type": "code",
   "execution_count": null,
   "id": "5829b112",
   "metadata": {
    "execution": {
     "iopub.execute_input": "2023-10-04T02:30:26.464471Z",
     "iopub.status.busy": "2023-10-04T02:30:26.464237Z",
     "iopub.status.idle": "2023-10-04T02:30:26.467745Z",
     "shell.execute_reply": "2023-10-04T02:30:26.467125Z"
    }
   },
   "outputs": [],
   "source": [
    "mountains = [\"everest\", \"whitney\", \"washington\", \"denali\", \"rainier\"]\n",
    "del mountains[3] \n",
    "print(mountains)"
   ]
  },
  {
   "cell_type": "markdown",
   "id": "f2eb6228",
   "metadata": {},
   "source": [
    "The `pop()` method, which takes the index to remove, and returns the element that was removed:"
   ]
  },
  {
   "cell_type": "code",
   "execution_count": null,
   "id": "be7d2a02",
   "metadata": {
    "execution": {
     "iopub.execute_input": "2023-10-04T02:30:26.470593Z",
     "iopub.status.busy": "2023-10-04T02:30:26.470355Z",
     "iopub.status.idle": "2023-10-04T02:30:26.487006Z",
     "shell.execute_reply": "2023-10-04T02:30:26.486016Z"
    }
   },
   "outputs": [],
   "source": [
    "mountains = [\"everest\", \"whitney\", \"washington\", \"denali\", \"rainier\"]\n",
    "popped = mountains.pop(2 )\n",
    "print(\"Removed \" + popped)\n",
    "print(\"List after the pop: \" + mountains)"
   ]
  },
  {
   "cell_type": "markdown",
   "id": "80288aa7",
   "metadata": {
    "slideshow": {
     "slide_type": "subslide"
    }
   },
   "source": [
    "Remove everything with the `clear()` method"
   ]
  },
  {
   "cell_type": "code",
   "execution_count": null,
   "id": "b61d81af",
   "metadata": {
    "execution": {
     "iopub.execute_input": "2023-10-04T02:30:26.490331Z",
     "iopub.status.busy": "2023-10-04T02:30:26.490056Z",
     "iopub.status.idle": "2023-10-04T02:30:26.493685Z",
     "shell.execute_reply": "2023-10-04T02:30:26.493106Z"
    }
   },
   "outputs": [],
   "source": [
    "mountains = [\"everest\", \"whitney\", \"washington\", \"denali\", \"rainier\"]\n",
    "mountains.clear()\n",
    "print(mountains)"
   ]
  },
  {
   "cell_type": "markdown",
   "id": "723a14c5",
   "metadata": {
    "slideshow": {
     "slide_type": "subslide"
    }
   },
   "source": [
    "Concatenate 2 lists with `+`:"
   ]
  },
  {
   "cell_type": "code",
   "execution_count": null,
   "id": "b7c474a9",
   "metadata": {
    "execution": {
     "iopub.execute_input": "2023-10-04T02:30:26.496767Z",
     "iopub.status.busy": "2023-10-04T02:30:26.496500Z",
     "iopub.status.idle": "2023-10-04T02:30:26.501220Z",
     "shell.execute_reply": "2023-10-04T02:30:26.500231Z"
    }
   },
   "outputs": [],
   "source": [
    "a = [1,2,3]\n",
    "b = [4,5,6]\n",
    "print(a + b)"
   ]
  },
  {
   "cell_type": "markdown",
   "id": "a17513e8",
   "metadata": {
    "slideshow": {
     "slide_type": "slide"
    }
   },
   "source": [
    "# Aside: method vs function\n",
    "\n",
    "We just reviewed a few `list` **methods**. Methods are functions that are **called on** a value.\n",
    "\n",
    "Methods are called on a value using a `.`: `some_variable.some_method()`\n",
    "\n",
    "For example: to remove the last item from a list named `spam`, call the `pop` method on it: `spam.pop()`.\n",
    "\n",
    "Lists have many useful methods (we covered most, but not all, of them): [list method documentation](https://docs.python.org/3/tutorial/datastructures.html)\n",
    "\n",
    "We'll revisit methods later in the term, all you need to know for now is the syntax for calling them."
   ]
  },
  {
   "cell_type": "markdown",
   "id": "a1b3471e",
   "metadata": {
    "slideshow": {
     "slide_type": "slide"
    }
   },
   "source": [
    "# Exercise\n",
    "\n",
    "Build a **cat**alog (hah): a program that prompts the user for the names of their cats, and prints them all out.\n",
    "\n"
   ]
  },
  {
   "cell_type": "markdown",
   "id": "072c925a",
   "metadata": {
    "slideshow": {
     "slide_type": "subslide"
    }
   },
   "source": [
    "Before lists, the best we could do is something like this, where we have a maximum number of cats, and store each one in its own variable:"
   ]
  },
  {
   "cell_type": "code",
   "execution_count": null,
   "id": "99386b33",
   "metadata": {
    "execution": {
     "iopub.execute_input": "2023-10-04T02:30:26.504580Z",
     "iopub.status.busy": "2023-10-04T02:30:26.504299Z",
     "iopub.status.idle": "2023-10-04T02:30:26.588875Z",
     "shell.execute_reply": "2023-10-04T02:30:26.588179Z"
    },
    "tags": [
     "remove-output"
    ]
   },
   "outputs": [],
   "source": [
    "print('Enter the name of cat 1:')\n",
    "catName1 = input()\n",
    "print('Enter the name of cat 2:')\n",
    "catName2 = input()\n",
    "print('Enter the name of cat 3:')\n",
    "catName3 = input()\n",
    "print('Enter the name of cat 4:')\n",
    "catName4 = input()\n",
    "print('Enter the name of cat 5:')\n",
    "catName5 = input()\n",
    "print('Enter the name of cat 6:')\n",
    "catName6 = input()\n",
    "print('The cat names are:')\n",
    "print(catName1 + ' ' + catName2 + ' ' + catName3 + ' ' + catName4 + ' ' +\n",
    "catName5 + ' ' + catName6)"
   ]
  },
  {
   "cell_type": "markdown",
   "id": "9e2a17f4",
   "metadata": {
    "slideshow": {
     "slide_type": "subslide"
    }
   },
   "source": [
    "Lists improve this significantly, and free us up from a fixed number of cats.\n",
    "\n",
    "We will keep a list of cat names, and add to it each time the user enters one. At the end, we will print out the list."
   ]
  },
  {
   "cell_type": "code",
   "execution_count": null,
   "id": "9cd530fe",
   "metadata": {
    "execution": {
     "iopub.execute_input": "2023-10-04T02:30:26.592323Z",
     "iopub.status.busy": "2023-10-04T02:30:26.592051Z",
     "iopub.status.idle": "2023-10-04T02:30:26.616044Z",
     "shell.execute_reply": "2023-10-04T02:30:26.615011Z"
    },
    "slideshow": {
     "slide_type": "-"
    },
    "tags": [
     "remove-output"
    ]
   },
   "outputs": [],
   "source": [
    "catNames = []\n",
    "while True:\n",
    "    number_of_cats_so_far = len(catNames)\n",
    "    \n",
    "    print('Enter the name of cat ' + str(number_of_cats_so_far + 1) +\n",
    "      ' (Or enter nothing to stop.):')\n",
    "    name = input()\n",
    "    if name == '':\n",
    "        break\n",
    "    catNames.append(name)\n",
    "\n",
    "print('The cat names are: ' + str(catNames))"
   ]
  },
  {
   "cell_type": "markdown",
   "id": "e77b7375",
   "metadata": {
    "slideshow": {
     "slide_type": "slide"
    }
   },
   "source": [
    "# [Slido](https://wall.sli.do/event/haumnzb5ejo9bmfNfapb4Z?section=cdbb3b27-e250-4b07-925f-263464eb3e71)"
   ]
  },
  {
   "cell_type": "markdown",
   "id": "12bdb0c1",
   "metadata": {
    "slideshow": {
     "slide_type": "slide"
    }
   },
   "source": [
    "# Lists and Loops: Friends Forever\n",
    "\n",
    "In the last example, we converted the list to a string to print it out. It worked, but was ugly: `['Batman', 'Bill Murray']`. Let's look at how to use loops and lists together.\n",
    "\n",
    "Write a function that takes a list of integers as a parameter, and prints out the square of each number.\n",
    "\n",
    "One way to do it:"
   ]
  },
  {
   "cell_type": "code",
   "execution_count": null,
   "id": "fbc323f8",
   "metadata": {
    "execution": {
     "iopub.execute_input": "2023-10-04T02:30:26.619788Z",
     "iopub.status.busy": "2023-10-04T02:30:26.619515Z",
     "iopub.status.idle": "2023-10-04T02:30:26.623582Z",
     "shell.execute_reply": "2023-10-04T02:30:26.622987Z"
    }
   },
   "outputs": [],
   "source": [
    "def print_squares(nums):\n",
    "    for i in range(len(nums)):\n",
    "        print(nums[i] ** 2)        "
   ]
  },
  {
   "cell_type": "code",
   "execution_count": null,
   "id": "e9d4491c",
   "metadata": {
    "execution": {
     "iopub.execute_input": "2023-10-04T02:30:26.626796Z",
     "iopub.status.busy": "2023-10-04T02:30:26.626518Z",
     "iopub.status.idle": "2023-10-04T02:30:26.630460Z",
     "shell.execute_reply": "2023-10-04T02:30:26.629855Z"
    }
   },
   "outputs": [],
   "source": [
    "print_squares([3,5,11])"
   ]
  },
  {
   "cell_type": "code",
   "execution_count": null,
   "id": "2bd7e928",
   "metadata": {
    "execution": {
     "iopub.execute_input": "2023-10-04T02:30:26.633414Z",
     "iopub.status.busy": "2023-10-04T02:30:26.633155Z",
     "iopub.status.idle": "2023-10-04T02:30:26.636487Z",
     "shell.execute_reply": "2023-10-04T02:30:26.635893Z"
    },
    "slideshow": {
     "slide_type": "subslide"
    }
   },
   "outputs": [],
   "source": [
    "def print_squares(nums):\n",
    "    for i in range(len(nums)):\n",
    "        print(nums[i] ** 2)"
   ]
  },
  {
   "cell_type": "markdown",
   "id": "dfa7d856",
   "metadata": {
    "slideshow": {
     "slide_type": "-"
    }
   },
   "source": [
    "Breaking that down, if the input is `[3, 5, 11]`:  \n",
    "\n",
    "`for i in range(len(nums))` ->  \n",
    "`for i in range(3)`"
   ]
  },
  {
   "cell_type": "markdown",
   "id": "e3795f08",
   "metadata": {
    "slideshow": {
     "slide_type": "subslide"
    }
   },
   "source": [
    "That works, but there are other ways to iterate over a list.\n",
    "\n",
    "`for <var> in <list>:` will execute the code block once for each item in the list, with `<var>` equal to the next list item for each iteration.\n",
    "\n",
    "More on list iteration in the next lecture - for today, just knowing this form of the `for` loop is enough."
   ]
  },
  {
   "cell_type": "code",
   "execution_count": null,
   "id": "729b1ef2",
   "metadata": {
    "execution": {
     "iopub.execute_input": "2023-10-04T02:30:26.639508Z",
     "iopub.status.busy": "2023-10-04T02:30:26.639262Z",
     "iopub.status.idle": "2023-10-04T02:30:26.642279Z",
     "shell.execute_reply": "2023-10-04T02:30:26.641736Z"
    }
   },
   "outputs": [],
   "source": [
    "def print_squares(nums):\n",
    "    for num in nums:\n",
    "        print(num ** 2)"
   ]
  },
  {
   "cell_type": "code",
   "execution_count": null,
   "id": "be9b2581",
   "metadata": {
    "execution": {
     "iopub.execute_input": "2023-10-04T02:30:26.644998Z",
     "iopub.status.busy": "2023-10-04T02:30:26.644762Z",
     "iopub.status.idle": "2023-10-04T02:30:26.648056Z",
     "shell.execute_reply": "2023-10-04T02:30:26.647496Z"
    }
   },
   "outputs": [],
   "source": [
    "print_squares([3,5,11])"
   ]
  },
  {
   "cell_type": "markdown",
   "id": "6a2e157d",
   "metadata": {
    "slideshow": {
     "slide_type": "slide"
    }
   },
   "source": [
    "# Exercise\n",
    "\n",
    "1. Define a list holding 4 strings, each describing something you like.\n",
    "1. Write a for loop to print out each string with `\"One of my favorite things: \"` **pre**prended to it\n",
    "\n",
    "## [Repl.it: Lecture 6 - Lists playground](https://replit.com/team/cosi-10a-fall23/Lists-Playground)\n"
   ]
  },
  {
   "cell_type": "code",
   "execution_count": null,
   "id": "3bc6bc7f",
   "metadata": {
    "execution": {
     "iopub.execute_input": "2023-10-04T02:30:26.650925Z",
     "iopub.status.busy": "2023-10-04T02:30:26.650679Z",
     "iopub.status.idle": "2023-10-04T02:30:26.654197Z",
     "shell.execute_reply": "2023-10-04T02:30:26.653664Z"
    },
    "slideshow": {
     "slide_type": "subslide"
    }
   },
   "outputs": [],
   "source": [
    "nice_things = [\"Fresh baked cookies\", \"Mountains\", \"Sleep\", \"Spicy food\"]\n",
    "for thing in nice_things:\n",
    "    print(\"One of my favorite things: \" + thing)"
   ]
  },
  {
   "cell_type": "markdown",
   "id": "f359b96c",
   "metadata": {
    "slideshow": {
     "slide_type": "slide"
    }
   },
   "source": [
    "# Exercise\n",
    "\n",
    "Write a function to find the average of a list of numbers, then print out all the numbers below the average."
   ]
  },
  {
   "cell_type": "markdown",
   "id": "62b418fd",
   "metadata": {
    "slideshow": {
     "slide_type": "fragment"
    }
   },
   "source": [
    "Let's use our usual strategy: decompose the problem. Two main parts:\n",
    "\n",
    "1. Find the average of a list of numbers\n",
    "2. Print all the numbers lower than that average"
   ]
  },
  {
   "cell_type": "markdown",
   "id": "2471a378",
   "metadata": {
    "slideshow": {
     "slide_type": "subslide"
    }
   },
   "source": [
    "Step 1, find the average:"
   ]
  },
  {
   "cell_type": "code",
   "execution_count": null,
   "id": "600f4374",
   "metadata": {
    "execution": {
     "iopub.execute_input": "2023-10-04T02:30:26.657254Z",
     "iopub.status.busy": "2023-10-04T02:30:26.657012Z",
     "iopub.status.idle": "2023-10-04T02:30:26.660279Z",
     "shell.execute_reply": "2023-10-04T02:30:26.659623Z"
    }
   },
   "outputs": [],
   "source": [
    "def find_average(nums):\n",
    "    sum = 0\n",
    "    for num in nums:\n",
    "        sum = sum + num\n",
    "    avg = sum / len(nums)\n",
    "    return avg"
   ]
  },
  {
   "cell_type": "code",
   "execution_count": null,
   "id": "6025bf87",
   "metadata": {
    "execution": {
     "iopub.execute_input": "2023-10-04T02:30:26.663014Z",
     "iopub.status.busy": "2023-10-04T02:30:26.662773Z",
     "iopub.status.idle": "2023-10-04T02:30:26.666755Z",
     "shell.execute_reply": "2023-10-04T02:30:26.666123Z"
    }
   },
   "outputs": [],
   "source": [
    "find_average([1,2,3,4,100000])"
   ]
  },
  {
   "cell_type": "markdown",
   "id": "013dc98c",
   "metadata": {
    "slideshow": {
     "slide_type": "subslide"
    }
   },
   "source": [
    "Step 2: print each item below the average:"
   ]
  },
  {
   "cell_type": "code",
   "execution_count": null,
   "id": "66a7e988",
   "metadata": {
    "execution": {
     "iopub.execute_input": "2023-10-04T02:30:26.669637Z",
     "iopub.status.busy": "2023-10-04T02:30:26.669394Z",
     "iopub.status.idle": "2023-10-04T02:30:26.672910Z",
     "shell.execute_reply": "2023-10-04T02:30:26.672297Z"
    },
    "slideshow": {
     "slide_type": "-"
    }
   },
   "outputs": [],
   "source": [
    "def below_average(nums):\n",
    "    avg = find_average(nums)\n",
    "    \n",
    "    print(\"The average is: \" + str(avg) + \". Here are all the below average numbers: \")\n",
    "    for num in nums:\n",
    "        if num < avg:\n",
    "            print(num, end=' ')"
   ]
  },
  {
   "cell_type": "code",
   "execution_count": null,
   "id": "929782bb",
   "metadata": {
    "execution": {
     "iopub.execute_input": "2023-10-04T02:30:26.675720Z",
     "iopub.status.busy": "2023-10-04T02:30:26.675484Z",
     "iopub.status.idle": "2023-10-04T02:30:26.678793Z",
     "shell.execute_reply": "2023-10-04T02:30:26.678241Z"
    },
    "slideshow": {
     "slide_type": "-"
    }
   },
   "outputs": [],
   "source": [
    "below_average([1,2,3,4,100000])"
   ]
  },
  {
   "cell_type": "markdown",
   "id": "5a17eb68",
   "metadata": {
    "slideshow": {
     "slide_type": "slide"
    }
   },
   "source": [
    "# Exercise\n",
    "\n",
    "Write a function to find the largest number in a list. \n",
    "\n",
    "Similar to \"cumulative algorithms\", we'll define a variable to hold the largest number we've seen so far."
   ]
  },
  {
   "cell_type": "code",
   "execution_count": null,
   "id": "480f52e6",
   "metadata": {
    "execution": {
     "iopub.execute_input": "2023-10-04T02:30:26.681802Z",
     "iopub.status.busy": "2023-10-04T02:30:26.681569Z",
     "iopub.status.idle": "2023-10-04T02:30:26.684681Z",
     "shell.execute_reply": "2023-10-04T02:30:26.684167Z"
    }
   },
   "outputs": [],
   "source": [
    "def find_largest(nums):\n",
    "    biggest = 0\n",
    "    for num in nums:\n",
    "        if num > biggest:\n",
    "            biggest = num\n",
    "    return biggest"
   ]
  },
  {
   "cell_type": "code",
   "execution_count": null,
   "id": "e9edd6ad",
   "metadata": {
    "execution": {
     "iopub.execute_input": "2023-10-04T02:30:26.687505Z",
     "iopub.status.busy": "2023-10-04T02:30:26.687263Z",
     "iopub.status.idle": "2023-10-04T02:30:26.691283Z",
     "shell.execute_reply": "2023-10-04T02:30:26.690724Z"
    }
   },
   "outputs": [],
   "source": [
    "find_largest([18, 27, 1, 3, 10, 1000])"
   ]
  },
  {
   "cell_type": "markdown",
   "id": "d7e5a6dd",
   "metadata": {
    "slideshow": {
     "slide_type": "subslide"
    }
   },
   "source": [
    "Looks like it worked... but can you spot the bug?"
   ]
  },
  {
   "cell_type": "code",
   "execution_count": null,
   "id": "80d2e689",
   "metadata": {
    "execution": {
     "iopub.execute_input": "2023-10-04T02:30:26.694184Z",
     "iopub.status.busy": "2023-10-04T02:30:26.693935Z",
     "iopub.status.idle": "2023-10-04T02:30:26.697164Z",
     "shell.execute_reply": "2023-10-04T02:30:26.696614Z"
    }
   },
   "outputs": [],
   "source": [
    "def find_largest(nums):\n",
    "    biggest = 0\n",
    "    for num in nums: \n",
    "        if num > biggest:\n",
    "            biggest = num\n",
    "    return biggest"
   ]
  },
  {
   "cell_type": "code",
   "execution_count": null,
   "id": "a50ed117",
   "metadata": {
    "execution": {
     "iopub.execute_input": "2023-10-04T02:30:26.699983Z",
     "iopub.status.busy": "2023-10-04T02:30:26.699746Z",
     "iopub.status.idle": "2023-10-04T02:30:26.703769Z",
     "shell.execute_reply": "2023-10-04T02:30:26.703227Z"
    },
    "slideshow": {
     "slide_type": "fragment"
    }
   },
   "outputs": [],
   "source": [
    "find_largest([-1, -2, -3])"
   ]
  },
  {
   "cell_type": "markdown",
   "id": "57de5587",
   "metadata": {
    "slideshow": {
     "slide_type": "subslide"
    }
   },
   "source": [
    "`0` is a bad choice for our initial maximum value. \n",
    "\n",
    "We could use a very negative number. But, in Python, integers are unbounded, so it will never be negative enough to cover all cases.\n",
    "\n",
    "Let's try something else..."
   ]
  },
  {
   "cell_type": "code",
   "execution_count": null,
   "id": "2bc5c62b",
   "metadata": {
    "execution": {
     "iopub.execute_input": "2023-10-04T02:30:26.706725Z",
     "iopub.status.busy": "2023-10-04T02:30:26.706487Z",
     "iopub.status.idle": "2023-10-04T02:30:26.709745Z",
     "shell.execute_reply": "2023-10-04T02:30:26.709201Z"
    }
   },
   "outputs": [],
   "source": [
    "def find_largest(nums):\n",
    "    biggest = nums[0]\n",
    "    for num in nums[1:]:\n",
    "        if num > biggest:\n",
    "            biggest = num\n",
    "    return biggest"
   ]
  },
  {
   "cell_type": "code",
   "execution_count": null,
   "id": "84c494b1",
   "metadata": {
    "execution": {
     "iopub.execute_input": "2023-10-04T02:30:26.712518Z",
     "iopub.status.busy": "2023-10-04T02:30:26.712279Z",
     "iopub.status.idle": "2023-10-04T02:30:26.716255Z",
     "shell.execute_reply": "2023-10-04T02:30:26.715621Z"
    }
   },
   "outputs": [],
   "source": [
    "find_largest([-1,-2,-3])"
   ]
  },
  {
   "cell_type": "code",
   "execution_count": null,
   "id": "843446c1",
   "metadata": {
    "execution": {
     "iopub.execute_input": "2023-10-04T02:30:26.719033Z",
     "iopub.status.busy": "2023-10-04T02:30:26.718794Z",
     "iopub.status.idle": "2023-10-04T02:30:26.739852Z",
     "shell.execute_reply": "2023-10-04T02:30:26.739219Z"
    },
    "slideshow": {
     "slide_type": "fragment"
    }
   },
   "outputs": [],
   "source": [
    "find_largest([])"
   ]
  },
  {
   "cell_type": "markdown",
   "id": "b33aebb3",
   "metadata": {
    "slideshow": {
     "slide_type": "subslide"
    }
   },
   "source": [
    "Whoops, this doesn't work on empty lists!"
   ]
  },
  {
   "cell_type": "code",
   "execution_count": null,
   "id": "1f6c9cb4",
   "metadata": {
    "execution": {
     "iopub.execute_input": "2023-10-04T02:30:26.743152Z",
     "iopub.status.busy": "2023-10-04T02:30:26.742860Z",
     "iopub.status.idle": "2023-10-04T02:30:26.747248Z",
     "shell.execute_reply": "2023-10-04T02:30:26.746644Z"
    },
    "slideshow": {
     "slide_type": "fragment"
    }
   },
   "outputs": [],
   "source": [
    "def find_largest(nums):\n",
    "    if len(nums) == 0:\n",
    "        return None\n",
    "    \n",
    "    biggest = nums[0]\n",
    "    for num in nums[1:]:\n",
    "        if num > biggest:\n",
    "            biggest = num\n",
    "    return biggest"
   ]
  },
  {
   "cell_type": "code",
   "execution_count": null,
   "id": "9453bc9d",
   "metadata": {
    "execution": {
     "iopub.execute_input": "2023-10-04T02:30:26.750642Z",
     "iopub.status.busy": "2023-10-04T02:30:26.750377Z",
     "iopub.status.idle": "2023-10-04T02:30:26.755307Z",
     "shell.execute_reply": "2023-10-04T02:30:26.754745Z"
    }
   },
   "outputs": [],
   "source": [
    "find_largest([-1,-2,-3])"
   ]
  },
  {
   "cell_type": "code",
   "execution_count": null,
   "id": "38922609",
   "metadata": {
    "execution": {
     "iopub.execute_input": "2023-10-04T02:30:26.758643Z",
     "iopub.status.busy": "2023-10-04T02:30:26.758232Z",
     "iopub.status.idle": "2023-10-04T02:30:26.762564Z",
     "shell.execute_reply": "2023-10-04T02:30:26.761875Z"
    }
   },
   "outputs": [],
   "source": [
    "find_largest([-2])"
   ]
  },
  {
   "cell_type": "markdown",
   "id": "d7a3b7c4",
   "metadata": {
    "slideshow": {
     "slide_type": "subslide"
    }
   },
   "source": [
    "This is perfectly good! Here's one more option though:"
   ]
  },
  {
   "cell_type": "code",
   "execution_count": null,
   "id": "2e8bad8b",
   "metadata": {
    "execution": {
     "iopub.execute_input": "2023-10-04T02:30:26.765493Z",
     "iopub.status.busy": "2023-10-04T02:30:26.765234Z",
     "iopub.status.idle": "2023-10-04T02:30:26.768722Z",
     "shell.execute_reply": "2023-10-04T02:30:26.768120Z"
    }
   },
   "outputs": [],
   "source": [
    "def find_largest(nums):\n",
    "    biggest = None\n",
    "    for num in nums:\n",
    "        if biggest is None or num > biggest:\n",
    "            biggest = num\n",
    "    return biggest"
   ]
  },
  {
   "cell_type": "code",
   "execution_count": null,
   "id": "d1521fcd",
   "metadata": {
    "execution": {
     "iopub.execute_input": "2023-10-04T02:30:26.771685Z",
     "iopub.status.busy": "2023-10-04T02:30:26.771439Z",
     "iopub.status.idle": "2023-10-04T02:30:26.775551Z",
     "shell.execute_reply": "2023-10-04T02:30:26.774992Z"
    }
   },
   "outputs": [],
   "source": [
    "find_largest([-1,-2,-3])"
   ]
  },
  {
   "cell_type": "code",
   "execution_count": null,
   "id": "89810ac7",
   "metadata": {
    "execution": {
     "iopub.execute_input": "2023-10-04T02:30:26.778413Z",
     "iopub.status.busy": "2023-10-04T02:30:26.778160Z",
     "iopub.status.idle": "2023-10-04T02:30:26.781526Z",
     "shell.execute_reply": "2023-10-04T02:30:26.780917Z"
    },
    "slideshow": {
     "slide_type": "-"
    }
   },
   "outputs": [],
   "source": [
    "print(find_largest([]))"
   ]
  },
  {
   "cell_type": "markdown",
   "id": "60927821",
   "metadata": {
    "slideshow": {
     "slide_type": "slide"
    }
   },
   "source": [
    "## Oh wait, Python does this for us\n",
    "\n",
    "There is a `max` function (also `min`) that will give us the largest/smallest item in a list: [max() documentation](https://docs.python.org/3/library/functions.html#max)\n",
    "\n",
    "This was still a useful exercise to go through, because the issues we encountered and fixed are all common coding challenges.\n",
    "\n",
    "But when you're writing code in the wild, check for a built-in function or library that you can use before building it all yourself!"
   ]
  },
  {
   "cell_type": "code",
   "execution_count": null,
   "id": "26982949",
   "metadata": {
    "execution": {
     "iopub.execute_input": "2023-10-04T02:30:26.784706Z",
     "iopub.status.busy": "2023-10-04T02:30:26.784275Z",
     "iopub.status.idle": "2023-10-04T02:30:26.788174Z",
     "shell.execute_reply": "2023-10-04T02:30:26.787619Z"
    }
   },
   "outputs": [],
   "source": [
    "max([-1, -2, -3])"
   ]
  },
  {
   "cell_type": "markdown",
   "id": "0a834381",
   "metadata": {
    "slideshow": {
     "slide_type": "slide"
    }
   },
   "source": [
    "# Exercise\n",
    "\n",
    "Write a to-do list program. It should prompt the user for tasks, let the user print all their tasks, and remove things from the list."
   ]
  },
  {
   "cell_type": "code",
   "execution_count": null,
   "id": "aa51254d",
   "metadata": {
    "execution": {
     "iopub.execute_input": "2023-10-04T02:30:26.791047Z",
     "iopub.status.busy": "2023-10-04T02:30:26.790782Z",
     "iopub.status.idle": "2023-10-04T02:30:26.919263Z",
     "shell.execute_reply": "2023-10-04T02:30:26.907908Z"
    }
   },
   "outputs": [],
   "source": [
    "tasks = []\n",
    "while True:\n",
    "\n",
    "  answer = input(\"What would you like to do? (a)dd a task, (r)emove a task, (l)ist the tasks, or (q)uit \")\n",
    "\n",
    "  if answer == \"q\":\n",
    "    break\n",
    "\n",
    "  if answer == \"a\":\n",
    "    item = input(\"Enter the task: \")\n",
    "    tasks.append(item)\n",
    "  elif answer == \"l\":\n",
    "    for i in range(len(tasks)):\n",
    "      print(str(i+1) + \": \" + tasks[i])\n",
    "  elif answer == \"r\":\n",
    "    # Note this will error if you try to delete an index that doesn't exist in the list!\n",
    "    index = int(input(\"Enter the number of the task to remove \"))\n",
    "    removed = tasks.pop(index - 1)\n",
    "    print(\"You removed: \" + removed)\n",
    "  else:\n",
    "    print(\"Invalid input, try again\")\n",
    "\n",
    "    "
   ]
  },
  {
   "cell_type": "markdown",
   "id": "0cbbb70d",
   "metadata": {},
   "source": [
    "# [Slido](https://wall.sli.do/event/haumnzb5ejo9bmfNfapb4Z?section=cdbb3b27-e250-4b07-925f-263464eb3e71)"
   ]
  }
 ],
 "metadata": {
  "celltoolbar": "Slideshow",
  "kernelspec": {
   "display_name": "Python 3 (ipykernel)",
   "language": "python",
   "name": "python3"
  },
  "language_info": {
   "codemirror_mode": {
    "name": "ipython",
    "version": 3
   },
   "file_extension": ".py",
   "mimetype": "text/x-python",
   "name": "python",
   "nbconvert_exporter": "python",
   "pygments_lexer": "ipython3",
   "version": "3.10.9"
  }
 },
 "nbformat": 4,
 "nbformat_minor": 5
}
