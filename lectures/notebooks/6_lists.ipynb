{
 "cells": [
  {
   "cell_type": "markdown",
   "id": "1ee8a1d2",
   "metadata": {
    "slideshow": {
     "slide_type": "slide"
    }
   },
   "source": [
    "# Lists\n",
    "\n",
    "<style>\n",
    "section.present > section.present { \n",
    "    max-height: 90%; \n",
    "    overflow-y: scroll;\n",
    "}\n",
    "</style>\n",
    "\n",
    "<small><a href=\"https://colab.research.google.com/github/brandeis-jdelfino/cosi-10a/blob/main/lectures/notebooks/6_lists.ipynb\">Link to interactive slides on Google Colab</a></small>"
   ]
  },
  {
   "cell_type": "markdown",
   "id": "e04d6879",
   "metadata": {
    "slideshow": {
     "slide_type": "slide"
    }
   },
   "source": [
    "# Lists\n",
    "\n",
    "So far, we've been dealing with single values - integers, floats, strings.\n",
    "\n",
    "Today, we'll learn about new data type: lists!"
   ]
  },
  {
   "cell_type": "markdown",
   "id": "a239b34a",
   "metadata": {
    "slideshow": {
     "slide_type": "slide"
    }
   },
   "source": [
    "# Creating lists"
   ]
  },
  {
   "cell_type": "code",
   "execution_count": null,
   "id": "5f9bb1a4",
   "metadata": {
    "execution": {
     "iopub.execute_input": "2023-06-21T15:04:05.682379Z",
     "iopub.status.busy": "2023-06-21T15:04:05.682060Z",
     "iopub.status.idle": "2023-06-21T15:04:05.697637Z",
     "shell.execute_reply": "2023-06-21T15:04:05.696817Z"
    }
   },
   "outputs": [],
   "source": [
    "x = [2, 5, 7, 9]\n",
    "print(x)"
   ]
  },
  {
   "cell_type": "markdown",
   "id": "2d367a27",
   "metadata": {},
   "source": [
    "`x` holds a list with 4 items: the integers 2, 5, 7, and 9."
   ]
  },
  {
   "cell_type": "code",
   "execution_count": null,
   "id": "af9ce082",
   "metadata": {
    "execution": {
     "iopub.execute_input": "2023-06-21T15:04:05.702097Z",
     "iopub.status.busy": "2023-06-21T15:04:05.701701Z",
     "iopub.status.idle": "2023-06-21T15:04:05.706785Z",
     "shell.execute_reply": "2023-06-21T15:04:05.705533Z"
    }
   },
   "outputs": [],
   "source": [
    "y = []\n",
    "print(y)"
   ]
  },
  {
   "cell_type": "markdown",
   "id": "b692c650",
   "metadata": {},
   "source": [
    "`y` is an empty list"
   ]
  },
  {
   "cell_type": "code",
   "execution_count": null,
   "id": "f1a5c95c",
   "metadata": {
    "execution": {
     "iopub.execute_input": "2023-06-21T15:04:05.710534Z",
     "iopub.status.busy": "2023-06-21T15:04:05.710230Z",
     "iopub.status.idle": "2023-06-21T15:04:05.713980Z",
     "shell.execute_reply": "2023-06-21T15:04:05.713263Z"
    },
    "slideshow": {
     "slide_type": "subslide"
    }
   },
   "outputs": [],
   "source": [
    "z = [\"lists\", \"can hold\", \"any data type\"]\n",
    "print(z)"
   ]
  },
  {
   "cell_type": "markdown",
   "id": "fe4a7be7",
   "metadata": {},
   "source": [
    "`z` is a list holding 3 strings"
   ]
  },
  {
   "cell_type": "code",
   "execution_count": null,
   "id": "7a757884",
   "metadata": {
    "execution": {
     "iopub.execute_input": "2023-06-21T15:04:05.717022Z",
     "iopub.status.busy": "2023-06-21T15:04:05.716764Z",
     "iopub.status.idle": "2023-06-21T15:04:05.720265Z",
     "shell.execute_reply": "2023-06-21T15:04:05.719682Z"
    }
   },
   "outputs": [],
   "source": [
    "q = [1, 2.0, \"lists hold anything\", True]\n",
    "print(q)"
   ]
  },
  {
   "cell_type": "markdown",
   "id": "b9370229",
   "metadata": {},
   "source": [
    "`q` is a list with 4 items: an integer, a float, a string, and a boolean.\n",
    "\n",
    "Lists can hold a mix of different data types."
   ]
  },
  {
   "cell_type": "code",
   "execution_count": null,
   "id": "9e082738",
   "metadata": {
    "execution": {
     "iopub.execute_input": "2023-06-21T15:04:05.723244Z",
     "iopub.status.busy": "2023-06-21T15:04:05.723003Z",
     "iopub.status.idle": "2023-06-21T15:04:05.726534Z",
     "shell.execute_reply": "2023-06-21T15:04:05.725917Z"
    },
    "slideshow": {
     "slide_type": "subslide"
    }
   },
   "outputs": [],
   "source": [
    "r = [[1,2,3], [4,5,6]]\n",
    "print(r)"
   ]
  },
  {
   "cell_type": "markdown",
   "id": "aa6f5052",
   "metadata": {},
   "source": [
    "`r` is a list holding 2 lists, each of which hold 3 integers.\n",
    "\n",
    "If your brain just exploded a little, don't worry - we'll revisit nested lists."
   ]
  },
  {
   "cell_type": "markdown",
   "id": "9a3b8e88",
   "metadata": {
    "slideshow": {
     "slide_type": "slide"
    }
   },
   "source": [
    "# Accessing lists\n",
    "\n",
    "You can access items in a list by **index**.\n",
    "\n",
    "The indices are **0-based**: the first item in the list has index 0."
   ]
  },
  {
   "cell_type": "code",
   "execution_count": null,
   "id": "5fb9c9e1",
   "metadata": {
    "execution": {
     "iopub.execute_input": "2023-06-21T15:04:05.729455Z",
     "iopub.status.busy": "2023-06-21T15:04:05.729214Z",
     "iopub.status.idle": "2023-06-21T15:04:05.735355Z",
     "shell.execute_reply": "2023-06-21T15:04:05.734659Z"
    }
   },
   "outputs": [],
   "source": [
    "foods = [\"apple\", \"banana\", \"chocolate\"]\n",
    "foods[0]"
   ]
  },
  {
   "cell_type": "code",
   "execution_count": null,
   "id": "5098c573",
   "metadata": {
    "execution": {
     "iopub.execute_input": "2023-06-21T15:04:05.738424Z",
     "iopub.status.busy": "2023-06-21T15:04:05.738167Z",
     "iopub.status.idle": "2023-06-21T15:04:05.742354Z",
     "shell.execute_reply": "2023-06-21T15:04:05.741778Z"
    }
   },
   "outputs": [],
   "source": [
    "foods[2]"
   ]
  },
  {
   "cell_type": "markdown",
   "id": "5e133222",
   "metadata": {
    "slideshow": {
     "slide_type": "subslide"
    }
   },
   "source": [
    "Accessing an element outside the bounds of the array produces an error:"
   ]
  },
  {
   "cell_type": "code",
   "execution_count": null,
   "id": "89cf4a8d",
   "metadata": {
    "execution": {
     "iopub.execute_input": "2023-06-21T15:04:05.745425Z",
     "iopub.status.busy": "2023-06-21T15:04:05.745172Z",
     "iopub.status.idle": "2023-06-21T15:04:06.007479Z",
     "shell.execute_reply": "2023-06-21T15:04:06.006743Z"
    },
    "tags": [
     "raises-exception"
    ]
   },
   "outputs": [],
   "source": [
    "foods = [\"apple\", \"banana\", \"chocolate\"]\n",
    "foods[3]"
   ]
  },
  {
   "cell_type": "markdown",
   "id": "e3cebf48",
   "metadata": {
    "slideshow": {
     "slide_type": "subslide"
    }
   },
   "source": [
    "You can use negative indices to count backwards from the end:"
   ]
  },
  {
   "cell_type": "code",
   "execution_count": null,
   "id": "9fdfe380",
   "metadata": {
    "execution": {
     "iopub.execute_input": "2023-06-21T15:04:06.011010Z",
     "iopub.status.busy": "2023-06-21T15:04:06.010686Z",
     "iopub.status.idle": "2023-06-21T15:04:06.015556Z",
     "shell.execute_reply": "2023-06-21T15:04:06.014892Z"
    }
   },
   "outputs": [],
   "source": [
    "foods = [\"apple\", \"banana\", \"chocolate\"]\n",
    "foods[-1]"
   ]
  },
  {
   "cell_type": "code",
   "execution_count": null,
   "id": "67d639a4",
   "metadata": {
    "execution": {
     "iopub.execute_input": "2023-06-21T15:04:06.019014Z",
     "iopub.status.busy": "2023-06-21T15:04:06.018737Z",
     "iopub.status.idle": "2023-06-21T15:04:06.022967Z",
     "shell.execute_reply": "2023-06-21T15:04:06.022309Z"
    }
   },
   "outputs": [],
   "source": [
    "foods[-3]"
   ]
  },
  {
   "cell_type": "markdown",
   "id": "ea0fa86a",
   "metadata": {
    "slideshow": {
     "slide_type": "slide"
    }
   },
   "source": [
    "# Slicing\n",
    "\n",
    "You can **slice** lists - create a new list from a subset of a list.\n",
    "\n",
    "Slice from the beginning of the list up to an index with `[:n]`:"
   ]
  },
  {
   "cell_type": "code",
   "execution_count": null,
   "id": "0c7e7558",
   "metadata": {
    "execution": {
     "iopub.execute_input": "2023-06-21T15:04:06.026337Z",
     "iopub.status.busy": "2023-06-21T15:04:06.026055Z",
     "iopub.status.idle": "2023-06-21T15:04:06.029415Z",
     "shell.execute_reply": "2023-06-21T15:04:06.028764Z"
    }
   },
   "outputs": [],
   "source": [
    "mountains = [\"everest\", \"whitney\", \"washington\", \"denali\", \"rainier\"]"
   ]
  },
  {
   "cell_type": "code",
   "execution_count": null,
   "id": "fbbd26ca",
   "metadata": {
    "execution": {
     "iopub.execute_input": "2023-06-21T15:04:06.032735Z",
     "iopub.status.busy": "2023-06-21T15:04:06.032480Z",
     "iopub.status.idle": "2023-06-21T15:04:06.036725Z",
     "shell.execute_reply": "2023-06-21T15:04:06.036155Z"
    }
   },
   "outputs": [],
   "source": [
    "# take everything up to (but not including) index 2\n",
    "mountains[:2]"
   ]
  },
  {
   "cell_type": "markdown",
   "id": "edbf204f",
   "metadata": {},
   "source": [
    "Slice from an index to the end of the list with `[n:]`:"
   ]
  },
  {
   "cell_type": "code",
   "execution_count": null,
   "id": "7af6ac76",
   "metadata": {
    "execution": {
     "iopub.execute_input": "2023-06-21T15:04:06.039915Z",
     "iopub.status.busy": "2023-06-21T15:04:06.039582Z",
     "iopub.status.idle": "2023-06-21T15:04:06.043842Z",
     "shell.execute_reply": "2023-06-21T15:04:06.043267Z"
    }
   },
   "outputs": [],
   "source": [
    "# drop the first item in the list\n",
    "mountains[1:]"
   ]
  },
  {
   "cell_type": "markdown",
   "id": "76c3775d",
   "metadata": {
    "slideshow": {
     "slide_type": "subslide"
    }
   },
   "source": [
    "Slice from the middle by providing a start and end index `[m:n]`:"
   ]
  },
  {
   "cell_type": "code",
   "execution_count": null,
   "id": "415fa705",
   "metadata": {
    "execution": {
     "iopub.execute_input": "2023-06-21T15:04:06.047029Z",
     "iopub.status.busy": "2023-06-21T15:04:06.046766Z",
     "iopub.status.idle": "2023-06-21T15:04:06.051116Z",
     "shell.execute_reply": "2023-06-21T15:04:06.050517Z"
    }
   },
   "outputs": [],
   "source": [
    "mountains = [\"everest\", \"whitney\", \"washington\", \"denali\", \"rainier\"]\n",
    "# take indices 1, 2\n",
    "mountains[1:3]"
   ]
  },
  {
   "cell_type": "markdown",
   "id": "fb8abeba",
   "metadata": {},
   "source": [
    "You can even use negative indices when slicing:"
   ]
  },
  {
   "cell_type": "code",
   "execution_count": null,
   "id": "5aa7024d",
   "metadata": {
    "execution": {
     "iopub.execute_input": "2023-06-21T15:04:06.054157Z",
     "iopub.status.busy": "2023-06-21T15:04:06.053890Z",
     "iopub.status.idle": "2023-06-21T15:04:06.057808Z",
     "shell.execute_reply": "2023-06-21T15:04:06.057255Z"
    }
   },
   "outputs": [],
   "source": [
    "# take everything up to the last 2 items\n",
    "mountains[:-2]"
   ]
  },
  {
   "cell_type": "code",
   "execution_count": null,
   "id": "d33feba6",
   "metadata": {
    "execution": {
     "iopub.execute_input": "2023-06-21T15:04:06.061194Z",
     "iopub.status.busy": "2023-06-21T15:04:06.060913Z",
     "iopub.status.idle": "2023-06-21T15:04:06.065121Z",
     "shell.execute_reply": "2023-06-21T15:04:06.064470Z"
    }
   },
   "outputs": [],
   "source": [
    "# drop the first and last items\n",
    "mountains[1:-1]"
   ]
  },
  {
   "cell_type": "markdown",
   "id": "53d0022e",
   "metadata": {
    "slideshow": {
     "slide_type": "slide"
    }
   },
   "source": [
    "# Length\n",
    "\n",
    "The `len()` function gives you the length of a list:"
   ]
  },
  {
   "cell_type": "code",
   "execution_count": null,
   "id": "d1463495",
   "metadata": {
    "execution": {
     "iopub.execute_input": "2023-06-21T15:04:06.068009Z",
     "iopub.status.busy": "2023-06-21T15:04:06.067777Z",
     "iopub.status.idle": "2023-06-21T15:04:06.071862Z",
     "shell.execute_reply": "2023-06-21T15:04:06.071234Z"
    }
   },
   "outputs": [],
   "source": [
    "mountains = [\"everest\", \"whitney\", \"washington\", \"denali\", \"rainier\"]\n",
    "len(mountains)"
   ]
  },
  {
   "cell_type": "markdown",
   "id": "6c9ffbd4",
   "metadata": {
    "slideshow": {
     "slide_type": "slide"
    }
   },
   "source": [
    "# Modifying lists\n",
    "\n",
    "You can add, remove, and change elements.\n",
    "\n",
    "Assigning to an element changes it in place:"
   ]
  },
  {
   "cell_type": "code",
   "execution_count": null,
   "id": "4005901b",
   "metadata": {
    "execution": {
     "iopub.execute_input": "2023-06-21T15:04:06.074771Z",
     "iopub.status.busy": "2023-06-21T15:04:06.074525Z",
     "iopub.status.idle": "2023-06-21T15:04:06.077964Z",
     "shell.execute_reply": "2023-06-21T15:04:06.077455Z"
    }
   },
   "outputs": [],
   "source": [
    "mountains = [\"rushmore\", \"whitney\", \"washington\", \"denali\", \"rainier\"]\n",
    "mountains[0] = \"everest\"\n",
    "print(mountains)"
   ]
  },
  {
   "cell_type": "markdown",
   "id": "2d45454e",
   "metadata": {
    "slideshow": {
     "slide_type": "subslide"
    }
   },
   "source": [
    "The `append()` method adds an element to the end:"
   ]
  },
  {
   "cell_type": "code",
   "execution_count": null,
   "id": "663cabfd",
   "metadata": {
    "execution": {
     "iopub.execute_input": "2023-06-21T15:04:06.080807Z",
     "iopub.status.busy": "2023-06-21T15:04:06.080571Z",
     "iopub.status.idle": "2023-06-21T15:04:06.083990Z",
     "shell.execute_reply": "2023-06-21T15:04:06.083426Z"
    }
   },
   "outputs": [],
   "source": [
    "mountains = [\"everest\", \"whitney\", \"washington\", \"denali\", \"rainier\"]\n",
    "mountains.append(\"kilimanjaro\")\n",
    "print(mountains)"
   ]
  },
  {
   "cell_type": "markdown",
   "id": "d8f20e3d",
   "metadata": {
    "slideshow": {
     "slide_type": "subslide"
    }
   },
   "source": [
    "The `insert()` method will insert at a given index:"
   ]
  },
  {
   "cell_type": "code",
   "execution_count": null,
   "id": "07f6cdbd",
   "metadata": {
    "execution": {
     "iopub.execute_input": "2023-06-21T15:04:06.086846Z",
     "iopub.status.busy": "2023-06-21T15:04:06.086608Z",
     "iopub.status.idle": "2023-06-21T15:04:06.089893Z",
     "shell.execute_reply": "2023-06-21T15:04:06.089315Z"
    }
   },
   "outputs": [],
   "source": [
    "mountains = [\"everest\", \"whitney\", \"washington\", \"denali\", \"rainier\"]\n",
    "mountains.insert(1, \"kilimanjaro\")\n",
    "print(mountains)"
   ]
  },
  {
   "cell_type": "markdown",
   "id": "7fef35c1",
   "metadata": {
    "slideshow": {
     "slide_type": "subslide"
    }
   },
   "source": [
    "A few ways to delete items:\n",
    "\n",
    "The `del` keyword:"
   ]
  },
  {
   "cell_type": "code",
   "execution_count": null,
   "id": "5829b112",
   "metadata": {
    "execution": {
     "iopub.execute_input": "2023-06-21T15:04:06.092952Z",
     "iopub.status.busy": "2023-06-21T15:04:06.092703Z",
     "iopub.status.idle": "2023-06-21T15:04:06.096204Z",
     "shell.execute_reply": "2023-06-21T15:04:06.095596Z"
    }
   },
   "outputs": [],
   "source": [
    "mountains = [\"everest\", \"whitney\", \"washington\", \"denali\", \"rainier\"]\n",
    "del mountains[3]\n",
    "print(mountains)"
   ]
  },
  {
   "cell_type": "markdown",
   "id": "f2eb6228",
   "metadata": {},
   "source": [
    "The `pop()` method, which takes the index to remove, and returns the element that was removed:"
   ]
  },
  {
   "cell_type": "code",
   "execution_count": null,
   "id": "be7d2a02",
   "metadata": {
    "execution": {
     "iopub.execute_input": "2023-06-21T15:04:06.099110Z",
     "iopub.status.busy": "2023-06-21T15:04:06.098861Z",
     "iopub.status.idle": "2023-06-21T15:04:06.102494Z",
     "shell.execute_reply": "2023-06-21T15:04:06.101895Z"
    }
   },
   "outputs": [],
   "source": [
    "mountains = [\"everest\", \"whitney\", \"washington\", \"denali\", \"rainier\"]\n",
    "popped = mountains.pop(2)\n",
    "print(\"Removed \" + popped)\n",
    "print(\"List after the pop: \" + str(mountains))"
   ]
  },
  {
   "cell_type": "markdown",
   "id": "80288aa7",
   "metadata": {
    "slideshow": {
     "slide_type": "subslide"
    }
   },
   "source": [
    "Remove everything with the `clear()` method"
   ]
  },
  {
   "cell_type": "code",
   "execution_count": null,
   "id": "b61d81af",
   "metadata": {
    "execution": {
     "iopub.execute_input": "2023-06-21T15:04:06.105364Z",
     "iopub.status.busy": "2023-06-21T15:04:06.105128Z",
     "iopub.status.idle": "2023-06-21T15:04:06.108448Z",
     "shell.execute_reply": "2023-06-21T15:04:06.107938Z"
    }
   },
   "outputs": [],
   "source": [
    "mountains = [\"everest\", \"whitney\", \"washington\", \"denali\", \"rainier\"]\n",
    "mountains.clear()\n",
    "print(mountains)"
   ]
  },
  {
   "cell_type": "markdown",
   "id": "a426da25",
   "metadata": {
    "slideshow": {
     "slide_type": "skip"
    }
   },
   "source": [
    "**Beware** the confusing `remove()` method. It looks for a **value** in the list and removes the **first instance** it finds:"
   ]
  },
  {
   "cell_type": "code",
   "execution_count": null,
   "id": "6844f38b",
   "metadata": {
    "execution": {
     "iopub.execute_input": "2023-06-21T15:04:06.111331Z",
     "iopub.status.busy": "2023-06-21T15:04:06.111088Z",
     "iopub.status.idle": "2023-06-21T15:04:06.115042Z",
     "shell.execute_reply": "2023-06-21T15:04:06.114159Z"
    },
    "slideshow": {
     "slide_type": "skip"
    }
   },
   "outputs": [],
   "source": [
    "mountains = [\"everest\", \"whitney\", \"washington\", \"denali\", \"rainier\", \"whitney\"]\n",
    "mountains.remove(\"whitney\")\n",
    "print(mountains)"
   ]
  },
  {
   "cell_type": "markdown",
   "id": "60078d9d",
   "metadata": {
    "slideshow": {
     "slide_type": "skip"
    }
   },
   "source": [
    "It's easy to mix up `remove()` with `pop()`:"
   ]
  },
  {
   "cell_type": "code",
   "execution_count": null,
   "id": "36f9ba4d",
   "metadata": {
    "execution": {
     "iopub.execute_input": "2023-06-21T15:04:06.118075Z",
     "iopub.status.busy": "2023-06-21T15:04:06.117809Z",
     "iopub.status.idle": "2023-06-21T15:04:06.121543Z",
     "shell.execute_reply": "2023-06-21T15:04:06.120865Z"
    },
    "slideshow": {
     "slide_type": "skip"
    }
   },
   "outputs": [],
   "source": [
    "numbers = [5, 4, 3, 2, 1]\n",
    "# Remove element at index 1... right?\n",
    "numbers.remove(1)\n",
    "# ... wrong. It removed the item `1`.\n",
    "print(numbers)"
   ]
  },
  {
   "cell_type": "markdown",
   "id": "723a14c5",
   "metadata": {
    "slideshow": {
     "slide_type": "subslide"
    }
   },
   "source": [
    "Concatenate 2 lists with `+`:"
   ]
  },
  {
   "cell_type": "code",
   "execution_count": null,
   "id": "b7c474a9",
   "metadata": {
    "execution": {
     "iopub.execute_input": "2023-06-21T15:04:06.125874Z",
     "iopub.status.busy": "2023-06-21T15:04:06.125391Z",
     "iopub.status.idle": "2023-06-21T15:04:06.130346Z",
     "shell.execute_reply": "2023-06-21T15:04:06.129563Z"
    }
   },
   "outputs": [],
   "source": [
    "a = [1,2,3]\n",
    "b = [4,5,6]\n",
    "print(a + b)"
   ]
  },
  {
   "cell_type": "markdown",
   "id": "a17513e8",
   "metadata": {
    "slideshow": {
     "slide_type": "slide"
    }
   },
   "source": [
    "# Aside: method vs function\n",
    "\n",
    "We just reviewed a few `list` **methods**. Methods are functions that are **called on** a value.\n",
    "\n",
    "Methods are called on a value using a `.`: `some_variable.some_method()`\n",
    "\n",
    "For example: to remove the last item from a list named `spam`, call the `pop` method on it: `spam.pop()`.\n",
    "\n",
    "Lists have many useful methods (we covered most, but not all, of them): [list method documentation](https://docs.python.org/3/tutorial/datastructures.html)\n",
    "\n",
    "We'll revisit methods later in the term, all you need to know for now is the syntax for calling them."
   ]
  },
  {
   "cell_type": "markdown",
   "id": "a1b3471e",
   "metadata": {
    "slideshow": {
     "slide_type": "slide"
    }
   },
   "source": [
    "# Exercise\n",
    "\n",
    "Build a **cat**alog (hah): a program that prompts the user for the names of their cats, and prints them all out.\n",
    "\n"
   ]
  },
  {
   "cell_type": "markdown",
   "id": "072c925a",
   "metadata": {
    "slideshow": {
     "slide_type": "subslide"
    }
   },
   "source": [
    "Before lists, the best we could do is something like this, where we have a maximum number of cats, and store each one in its own variable:"
   ]
  },
  {
   "cell_type": "code",
   "execution_count": null,
   "id": "99386b33",
   "metadata": {
    "execution": {
     "iopub.execute_input": "2023-06-21T15:04:06.135139Z",
     "iopub.status.busy": "2023-06-21T15:04:06.134764Z",
     "iopub.status.idle": "2023-06-21T15:04:06.214036Z",
     "shell.execute_reply": "2023-06-21T15:04:06.213376Z"
    },
    "tags": [
     "remove-output"
    ]
   },
   "outputs": [],
   "source": [
    "print('Enter the name of cat 1:')\n",
    "catName1 = input()\n",
    "print('Enter the name of cat 2:')\n",
    "catName2 = input()\n",
    "print('Enter the name of cat 3:')\n",
    "catName3 = input()\n",
    "print('Enter the name of cat 4:')\n",
    "catName4 = input()\n",
    "print('Enter the name of cat 5:')\n",
    "catName5 = input()\n",
    "print('Enter the name of cat 6:')\n",
    "catName6 = input()\n",
    "print('The cat names are:')\n",
    "print(catName1 + ' ' + catName2 + ' ' + catName3 + ' ' + catName4 + ' ' +\n",
    "catName5 + ' ' + catName6)"
   ]
  },
  {
   "cell_type": "markdown",
   "id": "9e2a17f4",
   "metadata": {
    "slideshow": {
     "slide_type": "subslide"
    }
   },
   "source": [
    "Lists improve this significantly, and free us up from a fixed number of cats.\n",
    "\n",
    "We will keep a list of cat names, and add to it each time the user enters one. At the end, we will print out the list."
   ]
  },
  {
   "cell_type": "code",
   "execution_count": null,
   "id": "9cd530fe",
   "metadata": {
    "execution": {
     "iopub.execute_input": "2023-06-21T15:04:06.217399Z",
     "iopub.status.busy": "2023-06-21T15:04:06.217141Z",
     "iopub.status.idle": "2023-06-21T15:04:06.239930Z",
     "shell.execute_reply": "2023-06-21T15:04:06.238813Z"
    },
    "slideshow": {
     "slide_type": "-"
    },
    "tags": [
     "remove-output"
    ]
   },
   "outputs": [],
   "source": [
    "catNames = []\n",
    "while True:\n",
    "    print('Enter the name of cat ' + str(len(catNames) + 1) +\n",
    "      ' (Or enter nothing to stop.):')\n",
    "    name = input()\n",
    "    if name == '':\n",
    "        break\n",
    "    catNames.append(name)\n",
    "\n",
    "print('The cat names are: ' + str(catNames))"
   ]
  },
  {
   "cell_type": "markdown",
   "id": "12bdb0c1",
   "metadata": {
    "slideshow": {
     "slide_type": "slide"
    }
   },
   "source": [
    "# Lists and Loops: Friends Forever\n",
    "\n",
    "In the last example, we converted the list to a string to print it out. It worked, but was ugly: `['Batman', 'Bill Murray']`. Let's look at how to use loops and lists together.\n",
    "\n",
    "Write a function that takes a list of integers as a parameter, and prints out the square of each number.\n",
    "\n",
    "One way to do it:"
   ]
  },
  {
   "cell_type": "code",
   "execution_count": null,
   "id": "fbc323f8",
   "metadata": {
    "execution": {
     "iopub.execute_input": "2023-06-21T15:04:06.243266Z",
     "iopub.status.busy": "2023-06-21T15:04:06.243011Z",
     "iopub.status.idle": "2023-06-21T15:04:06.246849Z",
     "shell.execute_reply": "2023-06-21T15:04:06.246222Z"
    }
   },
   "outputs": [],
   "source": [
    "def print_squares(nums):\n",
    "    for i in range(len(nums)):\n",
    "        print(nums[i] ** 2)"
   ]
  },
  {
   "cell_type": "code",
   "execution_count": null,
   "id": "e9d4491c",
   "metadata": {
    "execution": {
     "iopub.execute_input": "2023-06-21T15:04:06.250104Z",
     "iopub.status.busy": "2023-06-21T15:04:06.249771Z",
     "iopub.status.idle": "2023-06-21T15:04:06.253456Z",
     "shell.execute_reply": "2023-06-21T15:04:06.252671Z"
    }
   },
   "outputs": [],
   "source": [
    "print_squares([3,5,11])"
   ]
  },
  {
   "cell_type": "code",
   "execution_count": null,
   "id": "2bd7e928",
   "metadata": {
    "execution": {
     "iopub.execute_input": "2023-06-21T15:04:06.256842Z",
     "iopub.status.busy": "2023-06-21T15:04:06.256576Z",
     "iopub.status.idle": "2023-06-21T15:04:06.260132Z",
     "shell.execute_reply": "2023-06-21T15:04:06.259456Z"
    },
    "slideshow": {
     "slide_type": "subslide"
    }
   },
   "outputs": [],
   "source": [
    "def print_squares(nums):\n",
    "    for i in range(len(nums)):\n",
    "        print(nums[i] ** 2)"
   ]
  },
  {
   "cell_type": "markdown",
   "id": "dfa7d856",
   "metadata": {
    "slideshow": {
     "slide_type": "-"
    }
   },
   "source": [
    "Breaking that down, if the input is `[3, 5, 11]`:  \n",
    "\n",
    "`for i in range(len(nums))` ->  \n",
    "`for i in range(3)`"
   ]
  },
  {
   "cell_type": "markdown",
   "id": "e3795f08",
   "metadata": {
    "slideshow": {
     "slide_type": "subslide"
    }
   },
   "source": [
    "That works, but there are other ways to iterate over a list.\n",
    "\n",
    "`for <var> in <list>:` will execute the code block once for each item in the list, with `<var>` equal to the next list item for each iteration.\n",
    "\n",
    "More on list iteration in the next lecture - for today, just knowing this form of the `for` loop is enough."
   ]
  },
  {
   "cell_type": "code",
   "execution_count": null,
   "id": "729b1ef2",
   "metadata": {
    "execution": {
     "iopub.execute_input": "2023-06-21T15:04:06.263271Z",
     "iopub.status.busy": "2023-06-21T15:04:06.263016Z",
     "iopub.status.idle": "2023-06-21T15:04:06.266277Z",
     "shell.execute_reply": "2023-06-21T15:04:06.265690Z"
    }
   },
   "outputs": [],
   "source": [
    "def print_squares(nums):\n",
    "    for num in nums:\n",
    "        print(num ** 2)"
   ]
  },
  {
   "cell_type": "code",
   "execution_count": null,
   "id": "be9b2581",
   "metadata": {
    "execution": {
     "iopub.execute_input": "2023-06-21T15:04:06.269061Z",
     "iopub.status.busy": "2023-06-21T15:04:06.268808Z",
     "iopub.status.idle": "2023-06-21T15:04:06.272095Z",
     "shell.execute_reply": "2023-06-21T15:04:06.271523Z"
    }
   },
   "outputs": [],
   "source": [
    "print_squares([3,5,11])"
   ]
  },
  {
   "cell_type": "markdown",
   "id": "f359b96c",
   "metadata": {
    "slideshow": {
     "slide_type": "slide"
    }
   },
   "source": [
    "# Exercise\n",
    "\n",
    "Write a function to find the average of a list of numbers, then print out all the numbers below the average."
   ]
  },
  {
   "cell_type": "markdown",
   "id": "62b418fd",
   "metadata": {
    "slideshow": {
     "slide_type": "fragment"
    }
   },
   "source": [
    "Let's use our usual strategy: decompose the problem. Two main parts:\n",
    "\n",
    "1. Find the average of a list of numbers\n",
    "2. Print all the numbers lower than that average"
   ]
  },
  {
   "cell_type": "markdown",
   "id": "2471a378",
   "metadata": {
    "slideshow": {
     "slide_type": "subslide"
    }
   },
   "source": [
    "Step 1, find the average:"
   ]
  },
  {
   "cell_type": "code",
   "execution_count": null,
   "id": "600f4374",
   "metadata": {
    "execution": {
     "iopub.execute_input": "2023-06-21T15:04:06.275212Z",
     "iopub.status.busy": "2023-06-21T15:04:06.274970Z",
     "iopub.status.idle": "2023-06-21T15:04:06.278642Z",
     "shell.execute_reply": "2023-06-21T15:04:06.278050Z"
    }
   },
   "outputs": [],
   "source": [
    "def below_average(nums):\n",
    "    sum = 0\n",
    "    for  num in nums:\n",
    "        sum = sum + num\n",
    "    avg = sum / len(nums)\n",
    "\n",
    "    print(\"The average is: \" + str(avg) + \".\")"
   ]
  },
  {
   "cell_type": "code",
   "execution_count": null,
   "id": "6025bf87",
   "metadata": {
    "execution": {
     "iopub.execute_input": "2023-06-21T15:04:06.281534Z",
     "iopub.status.busy": "2023-06-21T15:04:06.281272Z",
     "iopub.status.idle": "2023-06-21T15:04:06.284604Z",
     "shell.execute_reply": "2023-06-21T15:04:06.284012Z"
    }
   },
   "outputs": [],
   "source": [
    "below_average([1,2,3,4,100000])"
   ]
  },
  {
   "cell_type": "markdown",
   "id": "013dc98c",
   "metadata": {
    "slideshow": {
     "slide_type": "subslide"
    }
   },
   "source": [
    "Step 2: print each item below the average:"
   ]
  },
  {
   "cell_type": "code",
   "execution_count": null,
   "id": "66a7e988",
   "metadata": {
    "execution": {
     "iopub.execute_input": "2023-06-21T15:04:06.287627Z",
     "iopub.status.busy": "2023-06-21T15:04:06.287369Z",
     "iopub.status.idle": "2023-06-21T15:04:06.291309Z",
     "shell.execute_reply": "2023-06-21T15:04:06.290679Z"
    },
    "slideshow": {
     "slide_type": "-"
    }
   },
   "outputs": [],
   "source": [
    "def below_average(nums):\n",
    "    sum = 0\n",
    "    for  num in nums:\n",
    "        sum = sum + num\n",
    "    avg = sum / len(nums)\n",
    "    \n",
    "    print(\"The average is: \" + str(avg) + \". Here are all the below average numbers: \")\n",
    "    for num in nums:\n",
    "        if num < avg:\n",
    "            print(num, end=' ')"
   ]
  },
  {
   "cell_type": "code",
   "execution_count": null,
   "id": "929782bb",
   "metadata": {
    "execution": {
     "iopub.execute_input": "2023-06-21T15:04:06.294310Z",
     "iopub.status.busy": "2023-06-21T15:04:06.294046Z",
     "iopub.status.idle": "2023-06-21T15:04:06.297436Z",
     "shell.execute_reply": "2023-06-21T15:04:06.296722Z"
    },
    "slideshow": {
     "slide_type": "-"
    }
   },
   "outputs": [],
   "source": [
    "below_average([1,2,3,4,100000])"
   ]
  },
  {
   "cell_type": "markdown",
   "id": "5a17eb68",
   "metadata": {
    "slideshow": {
     "slide_type": "slide"
    }
   },
   "source": [
    "# Exercise\n",
    "\n",
    "Write a function to find the largest number in a list"
   ]
  },
  {
   "cell_type": "code",
   "execution_count": null,
   "id": "480f52e6",
   "metadata": {
    "execution": {
     "iopub.execute_input": "2023-06-21T15:04:06.300390Z",
     "iopub.status.busy": "2023-06-21T15:04:06.300137Z",
     "iopub.status.idle": "2023-06-21T15:04:06.303686Z",
     "shell.execute_reply": "2023-06-21T15:04:06.303073Z"
    }
   },
   "outputs": [],
   "source": [
    "def find_largest(nums):\n",
    "    biggest = 0\n",
    "    for num in nums:\n",
    "        if num > biggest:\n",
    "            biggest = num\n",
    "    return biggest"
   ]
  },
  {
   "cell_type": "code",
   "execution_count": null,
   "id": "e9edd6ad",
   "metadata": {
    "execution": {
     "iopub.execute_input": "2023-06-21T15:04:06.306753Z",
     "iopub.status.busy": "2023-06-21T15:04:06.306487Z",
     "iopub.status.idle": "2023-06-21T15:04:06.310822Z",
     "shell.execute_reply": "2023-06-21T15:04:06.310254Z"
    }
   },
   "outputs": [],
   "source": [
    "find_largest([18, 27, 1, 3, 10, 1000])"
   ]
  },
  {
   "cell_type": "markdown",
   "id": "d7e5a6dd",
   "metadata": {
    "slideshow": {
     "slide_type": "subslide"
    }
   },
   "source": [
    "Looks like it worked... but can you spot the bug?"
   ]
  },
  {
   "cell_type": "code",
   "execution_count": null,
   "id": "80d2e689",
   "metadata": {
    "execution": {
     "iopub.execute_input": "2023-06-21T15:04:06.313706Z",
     "iopub.status.busy": "2023-06-21T15:04:06.313472Z",
     "iopub.status.idle": "2023-06-21T15:04:06.316795Z",
     "shell.execute_reply": "2023-06-21T15:04:06.316185Z"
    }
   },
   "outputs": [],
   "source": [
    "def find_largest(nums):\n",
    "    biggest = 0\n",
    "    for num in nums:\n",
    "        if num > biggest:\n",
    "            biggest = num\n",
    "    return biggest"
   ]
  },
  {
   "cell_type": "code",
   "execution_count": null,
   "id": "a50ed117",
   "metadata": {
    "execution": {
     "iopub.execute_input": "2023-06-21T15:04:06.320151Z",
     "iopub.status.busy": "2023-06-21T15:04:06.319822Z",
     "iopub.status.idle": "2023-06-21T15:04:06.324489Z",
     "shell.execute_reply": "2023-06-21T15:04:06.323776Z"
    },
    "slideshow": {
     "slide_type": "fragment"
    }
   },
   "outputs": [],
   "source": [
    "find_largest([-1, -2, -3])"
   ]
  },
  {
   "cell_type": "markdown",
   "id": "57de5587",
   "metadata": {
    "slideshow": {
     "slide_type": "subslide"
    }
   },
   "source": [
    "`0` is a bad choice for our initial maximum value. \n",
    "\n",
    "We could use a very negative number. But, in Python, integers are unbounded, so it will never be negative enough to cover all cases.\n",
    "\n",
    "Let's try something else..."
   ]
  },
  {
   "cell_type": "code",
   "execution_count": null,
   "id": "2bc5c62b",
   "metadata": {
    "execution": {
     "iopub.execute_input": "2023-06-21T15:04:06.327665Z",
     "iopub.status.busy": "2023-06-21T15:04:06.327401Z",
     "iopub.status.idle": "2023-06-21T15:04:06.330846Z",
     "shell.execute_reply": "2023-06-21T15:04:06.330305Z"
    }
   },
   "outputs": [],
   "source": [
    "def find_largest(nums):\n",
    "    biggest = nums[0]\n",
    "    for num in nums[1:]:\n",
    "        if num > biggest:\n",
    "            biggest = num\n",
    "    return biggest"
   ]
  },
  {
   "cell_type": "code",
   "execution_count": null,
   "id": "84c494b1",
   "metadata": {
    "execution": {
     "iopub.execute_input": "2023-06-21T15:04:06.333749Z",
     "iopub.status.busy": "2023-06-21T15:04:06.333487Z",
     "iopub.status.idle": "2023-06-21T15:04:06.338448Z",
     "shell.execute_reply": "2023-06-21T15:04:06.337362Z"
    }
   },
   "outputs": [],
   "source": [
    "find_largest([-1,-2,-3])"
   ]
  },
  {
   "cell_type": "code",
   "execution_count": null,
   "id": "843446c1",
   "metadata": {
    "execution": {
     "iopub.execute_input": "2023-06-21T15:04:06.342117Z",
     "iopub.status.busy": "2023-06-21T15:04:06.341806Z",
     "iopub.status.idle": "2023-06-21T15:04:06.365836Z",
     "shell.execute_reply": "2023-06-21T15:04:06.365150Z"
    },
    "slideshow": {
     "slide_type": "fragment"
    }
   },
   "outputs": [],
   "source": [
    "find_largest([])"
   ]
  },
  {
   "cell_type": "markdown",
   "id": "b33aebb3",
   "metadata": {
    "slideshow": {
     "slide_type": "subslide"
    }
   },
   "source": [
    "Whoops, this doesn't work on empty lists!"
   ]
  },
  {
   "cell_type": "code",
   "execution_count": null,
   "id": "1f6c9cb4",
   "metadata": {
    "execution": {
     "iopub.execute_input": "2023-06-21T15:04:06.368995Z",
     "iopub.status.busy": "2023-06-21T15:04:06.368724Z",
     "iopub.status.idle": "2023-06-21T15:04:06.372595Z",
     "shell.execute_reply": "2023-06-21T15:04:06.371962Z"
    },
    "slideshow": {
     "slide_type": "fragment"
    }
   },
   "outputs": [],
   "source": [
    "def find_largest(nums):\n",
    "    if len(nums) == 0:\n",
    "        return None\n",
    "    \n",
    "    biggest = nums[0]\n",
    "    for num in nums[1:]:\n",
    "        if num > biggest:\n",
    "            biggest = num\n",
    "    return biggest"
   ]
  },
  {
   "cell_type": "code",
   "execution_count": null,
   "id": "9453bc9d",
   "metadata": {
    "execution": {
     "iopub.execute_input": "2023-06-21T15:04:06.375704Z",
     "iopub.status.busy": "2023-06-21T15:04:06.375416Z",
     "iopub.status.idle": "2023-06-21T15:04:06.380880Z",
     "shell.execute_reply": "2023-06-21T15:04:06.379895Z"
    }
   },
   "outputs": [],
   "source": [
    "find_largest([-1,-2,-3])"
   ]
  },
  {
   "cell_type": "markdown",
   "id": "d7a3b7c4",
   "metadata": {
    "slideshow": {
     "slide_type": "subslide"
    }
   },
   "source": [
    "This is perfectly good! Here's one more option though:"
   ]
  },
  {
   "cell_type": "code",
   "execution_count": null,
   "id": "2e8bad8b",
   "metadata": {
    "execution": {
     "iopub.execute_input": "2023-06-21T15:04:06.384856Z",
     "iopub.status.busy": "2023-06-21T15:04:06.384439Z",
     "iopub.status.idle": "2023-06-21T15:04:06.388385Z",
     "shell.execute_reply": "2023-06-21T15:04:06.387655Z"
    }
   },
   "outputs": [],
   "source": [
    "def find_largest(nums):\n",
    "    biggest = None\n",
    "    for num in nums:\n",
    "        if biggest is None or num > biggest:\n",
    "            biggest = num\n",
    "    return biggest"
   ]
  },
  {
   "cell_type": "code",
   "execution_count": null,
   "id": "d1521fcd",
   "metadata": {
    "execution": {
     "iopub.execute_input": "2023-06-21T15:04:06.391283Z",
     "iopub.status.busy": "2023-06-21T15:04:06.391024Z",
     "iopub.status.idle": "2023-06-21T15:04:06.395442Z",
     "shell.execute_reply": "2023-06-21T15:04:06.394754Z"
    }
   },
   "outputs": [],
   "source": [
    "find_largest([-1,-2,-3])"
   ]
  },
  {
   "cell_type": "code",
   "execution_count": null,
   "id": "89810ac7",
   "metadata": {
    "execution": {
     "iopub.execute_input": "2023-06-21T15:04:06.398715Z",
     "iopub.status.busy": "2023-06-21T15:04:06.398416Z",
     "iopub.status.idle": "2023-06-21T15:04:06.402043Z",
     "shell.execute_reply": "2023-06-21T15:04:06.401373Z"
    },
    "slideshow": {
     "slide_type": "-"
    }
   },
   "outputs": [],
   "source": [
    "print(find_largest([]))"
   ]
  }
 ],
 "metadata": {
  "celltoolbar": "Slideshow",
  "kernelspec": {
   "display_name": "Python 3 (ipykernel)",
   "language": "python",
   "name": "python3"
  },
  "language_info": {
   "codemirror_mode": {
    "name": "ipython",
    "version": 3
   },
   "file_extension": ".py",
   "mimetype": "text/x-python",
   "name": "python",
   "nbconvert_exporter": "python",
   "pygments_lexer": "ipython3",
   "version": "3.10.9"
  }
 },
 "nbformat": 4,
 "nbformat_minor": 5
}
